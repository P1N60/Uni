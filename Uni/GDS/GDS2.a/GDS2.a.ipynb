{
 "cells": [
  {
   "cell_type": "markdown",
   "metadata": {},
   "source": [
    "# Web Scraping for Fake News Detection"
   ]
  },
  {
   "cell_type": "markdown",
   "metadata": {},
   "source": [
    "### In this assignment, you'll gain hands-on experience in web scraping, a crucial skill in data science, especially when structured datasets are not readily available. Specifically, you'll focus on extracting information from news websites, a vital step in creating a dataset for training a fake news detection model. In terms of the Data Science Pipeline, you will mainly focusing on acquiring raw data, processing data, cleaning and explorative data analysis, and structured representation and storage of data."
   ]
  },
  {
   "cell_type": "markdown",
   "metadata": {},
   "source": [
    "# Submission Requirements"
   ]
  },
  {
   "cell_type": "markdown",
   "metadata": {},
   "source": [
    "### Jupyter Notebook (.ipynb file) implementing the assignment. "
   ]
  },
  {
   "cell_type": "markdown",
   "metadata": {},
   "source": [
    "### PDF printout of the executed Jupyter Notebook displaying the results."
   ]
  },
  {
   "cell_type": "markdown",
   "metadata": {},
   "source": [
    "# Part 1: Analyze the Fake News Dataset"
   ]
  },
  {
   "cell_type": "markdown",
   "metadata": {},
   "source": [
    "## 1. Import Dataset: "
   ]
  },
  {
   "cell_type": "markdown",
   "metadata": {},
   "source": [
    "### Import the cleaned dataset from last assignment"
   ]
  },
  {
   "cell_type": "markdown",
   "metadata": {},
   "source": [
    "Jeg benytter pandas til at importere data'en"
   ]
  },
  {
   "cell_type": "code",
   "execution_count": 12,
   "metadata": {},
   "outputs": [],
   "source": [
    "import pandas as pd\n",
    "\n",
    "df = pd.read_csv('cleaned_news_sample.csv')"
   ]
  },
  {
   "cell_type": "markdown",
   "metadata": {},
   "source": [
    "## 2. Dataset Analysis:"
   ]
  },
  {
   "cell_type": "markdown",
   "metadata": {},
   "source": [
    "### Determine which article types should be omitted, if any."
   ]
  },
  {
   "cell_type": "markdown",
   "metadata": {},
   "source": [
    "Jeg kigger først på, hvilke kategoriet vi har"
   ]
  },
  {
   "cell_type": "code",
   "execution_count": 13,
   "metadata": {},
   "outputs": [
    {
     "data": {
      "application/vnd.microsoft.datawrangler.viewer.v0+json": {
       "columns": [
        {
         "name": "index",
         "rawType": "int64",
         "type": "integer"
        },
        {
         "name": "types",
         "rawType": "object",
         "type": "unknown"
        }
       ],
       "conversionMethod": "pd.DataFrame",
       "ref": "5ef71df7-6484-489e-9671-4262ac2a844e",
       "rows": [
        [
         "0",
         "unreliable"
        ],
        [
         "1",
         "fake"
        ],
        [
         "2",
         "clickbait"
        ],
        [
         "3",
         "conspiracy"
        ],
        [
         "4",
         "reliable"
        ],
        [
         "5",
         "bias"
        ],
        [
         "6",
         "hate"
        ],
        [
         "7",
         "junksci"
        ],
        [
         "8",
         "political"
        ],
        [
         "9",
         null
        ],
        [
         "10",
         "unknown"
        ]
       ],
       "shape": {
        "columns": 1,
        "rows": 11
       }
      },
      "text/html": [
       "<div>\n",
       "<style scoped>\n",
       "    .dataframe tbody tr th:only-of-type {\n",
       "        vertical-align: middle;\n",
       "    }\n",
       "\n",
       "    .dataframe tbody tr th {\n",
       "        vertical-align: top;\n",
       "    }\n",
       "\n",
       "    .dataframe thead th {\n",
       "        text-align: right;\n",
       "    }\n",
       "</style>\n",
       "<table border=\"1\" class=\"dataframe\">\n",
       "  <thead>\n",
       "    <tr style=\"text-align: right;\">\n",
       "      <th></th>\n",
       "      <th>types</th>\n",
       "    </tr>\n",
       "  </thead>\n",
       "  <tbody>\n",
       "    <tr>\n",
       "      <th>0</th>\n",
       "      <td>unreliable</td>\n",
       "    </tr>\n",
       "    <tr>\n",
       "      <th>1</th>\n",
       "      <td>fake</td>\n",
       "    </tr>\n",
       "    <tr>\n",
       "      <th>2</th>\n",
       "      <td>clickbait</td>\n",
       "    </tr>\n",
       "    <tr>\n",
       "      <th>3</th>\n",
       "      <td>conspiracy</td>\n",
       "    </tr>\n",
       "    <tr>\n",
       "      <th>4</th>\n",
       "      <td>reliable</td>\n",
       "    </tr>\n",
       "    <tr>\n",
       "      <th>5</th>\n",
       "      <td>bias</td>\n",
       "    </tr>\n",
       "    <tr>\n",
       "      <th>6</th>\n",
       "      <td>hate</td>\n",
       "    </tr>\n",
       "    <tr>\n",
       "      <th>7</th>\n",
       "      <td>junksci</td>\n",
       "    </tr>\n",
       "    <tr>\n",
       "      <th>8</th>\n",
       "      <td>political</td>\n",
       "    </tr>\n",
       "    <tr>\n",
       "      <th>9</th>\n",
       "      <td>NaN</td>\n",
       "    </tr>\n",
       "    <tr>\n",
       "      <th>10</th>\n",
       "      <td>unknown</td>\n",
       "    </tr>\n",
       "  </tbody>\n",
       "</table>\n",
       "</div>"
      ],
      "text/plain": [
       "         types\n",
       "0   unreliable\n",
       "1         fake\n",
       "2    clickbait\n",
       "3   conspiracy\n",
       "4     reliable\n",
       "5         bias\n",
       "6         hate\n",
       "7      junksci\n",
       "8    political\n",
       "9          NaN\n",
       "10     unknown"
      ]
     },
     "execution_count": 13,
     "metadata": {},
     "output_type": "execute_result"
    }
   ],
   "source": [
    "unique_types = df['type'].unique()\n",
    "pd.DataFrame(unique_types, columns=['types']).head(11)"
   ]
  },
  {
   "cell_type": "markdown",
   "metadata": {},
   "source": [
    "Jeg vælger alle bort set fra NaN og unknown"
   ]
  },
  {
   "cell_type": "code",
   "execution_count": 14,
   "metadata": {},
   "outputs": [
    {
     "data": {
      "application/vnd.microsoft.datawrangler.viewer.v0+json": {
       "columns": [
        {
         "name": "index",
         "rawType": "int64",
         "type": "integer"
        },
        {
         "name": "0",
         "rawType": "object",
         "type": "string"
        }
       ],
       "conversionMethod": "pd.DataFrame",
       "ref": "c1e82b5c-b409-4c6c-af07-6510b9c82fc2",
       "rows": [
        [
         "0",
         "unreliable"
        ],
        [
         "1",
         "fake"
        ],
        [
         "2",
         "clickbait"
        ],
        [
         "3",
         "conspiracy"
        ],
        [
         "4",
         "reliable"
        ],
        [
         "5",
         "bias"
        ],
        [
         "6",
         "hate"
        ],
        [
         "7",
         "junksci"
        ],
        [
         "8",
         "political"
        ]
       ],
       "shape": {
        "columns": 1,
        "rows": 9
       }
      },
      "text/html": [
       "<div>\n",
       "<style scoped>\n",
       "    .dataframe tbody tr th:only-of-type {\n",
       "        vertical-align: middle;\n",
       "    }\n",
       "\n",
       "    .dataframe tbody tr th {\n",
       "        vertical-align: top;\n",
       "    }\n",
       "\n",
       "    .dataframe thead th {\n",
       "        text-align: right;\n",
       "    }\n",
       "</style>\n",
       "<table border=\"1\" class=\"dataframe\">\n",
       "  <thead>\n",
       "    <tr style=\"text-align: right;\">\n",
       "      <th></th>\n",
       "      <th>0</th>\n",
       "    </tr>\n",
       "  </thead>\n",
       "  <tbody>\n",
       "    <tr>\n",
       "      <th>0</th>\n",
       "      <td>unreliable</td>\n",
       "    </tr>\n",
       "    <tr>\n",
       "      <th>1</th>\n",
       "      <td>fake</td>\n",
       "    </tr>\n",
       "    <tr>\n",
       "      <th>2</th>\n",
       "      <td>clickbait</td>\n",
       "    </tr>\n",
       "    <tr>\n",
       "      <th>3</th>\n",
       "      <td>conspiracy</td>\n",
       "    </tr>\n",
       "    <tr>\n",
       "      <th>4</th>\n",
       "      <td>reliable</td>\n",
       "    </tr>\n",
       "    <tr>\n",
       "      <th>5</th>\n",
       "      <td>bias</td>\n",
       "    </tr>\n",
       "    <tr>\n",
       "      <th>6</th>\n",
       "      <td>hate</td>\n",
       "    </tr>\n",
       "    <tr>\n",
       "      <th>7</th>\n",
       "      <td>junksci</td>\n",
       "    </tr>\n",
       "    <tr>\n",
       "      <th>8</th>\n",
       "      <td>political</td>\n",
       "    </tr>\n",
       "  </tbody>\n",
       "</table>\n",
       "</div>"
      ],
      "text/plain": [
       "            0\n",
       "0  unreliable\n",
       "1        fake\n",
       "2   clickbait\n",
       "3  conspiracy\n",
       "4    reliable\n",
       "5        bias\n",
       "6        hate\n",
       "7     junksci\n",
       "8   political"
      ]
     },
     "execution_count": 14,
     "metadata": {},
     "output_type": "execute_result"
    }
   ],
   "source": [
    "wanted_types = ['unreliable', 'fake', 'clickbait', 'conspiracy', 'reliable', 'bias', 'hate', 'junksci', 'political']\n",
    "df['type'] = df['type'].apply(lambda x: x if x in wanted_types else None)\n",
    "df = df.dropna(subset=['type'])\n",
    "unique_types = df['type'].unique()\n",
    "pd.DataFrame(unique_types).head(9)"
   ]
  },
  {
   "cell_type": "markdown",
   "metadata": {},
   "source": [
    "### Group the remaining types into 'fake' and 'reliable'. Argue for your choice."
   ]
  },
  {
   "cell_type": "markdown",
   "metadata": {},
   "source": [
    "Jeg har valgt, at indkludere de kategorier, der ikke indeholder direkte misinformation, som en del af reliable kategorien."
   ]
  },
  {
   "cell_type": "code",
   "execution_count": 15,
   "metadata": {},
   "outputs": [],
   "source": [
    "reliable_types = ['clickbait', 'reliable', 'political', 'bias', 'hate']\n",
    "fake_types = ['unreliable', 'fake', 'conspiracy', 'junksci']\n",
    "\n",
    "for type in reliable_types:\n",
    "    df['type'] = df['type'].replace(type, 'reliable')\n",
    "\n",
    "for type in fake_types:\n",
    "    df['type'] = df['type'].replace(type, 'fake')"
   ]
  },
  {
   "cell_type": "markdown",
   "metadata": {},
   "source": [
    "### Examine the percentage distribution of 'reliable' vs. 'fake' articles. Is the dataset balanced? Discuss the importance of a balanced distribution."
   ]
  },
  {
   "cell_type": "markdown",
   "metadata": {},
   "source": [
    "Vi tæller mængden af artikler i hver kategori"
   ]
  },
  {
   "cell_type": "code",
   "execution_count": 16,
   "metadata": {},
   "outputs": [
    {
     "name": "stdout",
     "output_type": "stream",
     "text": [
      "Reliable amount: 34\n",
      "Fake amount: 198\n",
      "Reliable percentage: 14.66%\n"
     ]
    }
   ],
   "source": [
    "reliable_amount = 0\n",
    "fake_amount = 0\n",
    "for type in df['type']:\n",
    "    if type == 'reliable':\n",
    "        reliable_amount += 1\n",
    "    else:\n",
    "        fake_amount += 1\n",
    "\n",
    "print(f'Reliable amount: {reliable_amount}')\n",
    "print(f'Fake amount: {fake_amount}')\n",
    "print(f'Reliable percentage: {reliable_amount / len(df['type']) * 100:.2f}%')"
   ]
  },
  {
   "cell_type": "markdown",
   "metadata": {},
   "source": [
    "Vi ser, at vores sample kun indeholder 14,66% reliable artikler. \n",
    "\n",
    "Jeg ville tro, at fordelingen er vigtig, at få balanceret, da vi i så fald, har nok data, som modellen kan træne på, og undgår mulige fejlklassificeringer på grund af mangel af data."
   ]
  },
  {
   "cell_type": "markdown",
   "metadata": {},
   "source": [
    "# Part 2: Gathering Links"
   ]
  },
  {
   "cell_type": "markdown",
   "metadata": {},
   "source": [
    "### In this part of the exercise you will write code to extract a collection of article links."
   ]
  },
  {
   "cell_type": "markdown",
   "metadata": {},
   "source": [
    "## 1. Library Installation:"
   ]
  },
  {
   "cell_type": "markdown",
   "metadata": {},
   "source": [
    "### Install selenium (pip install selenium). Create a new Jupyter Notebook and import this module:"
   ]
  },
  {
   "cell_type": "code",
   "execution_count": 17,
   "metadata": {},
   "outputs": [],
   "source": [
    "from selenium import webdriver\n",
    "from selenium.webdriver.common.by import By \n",
    "from bs4 import BeautifulSoup\n",
    "from selenium.webdriver.support.ui import WebDriverWait\n",
    "from selenium.webdriver.support import expected_conditions as EC\n",
    "import requests"
   ]
  },
  {
   "cell_type": "markdown",
   "metadata": {},
   "source": [
    "Jeg havde problemer med at få selenium til at køre på store mængder data, så jeg har også valgt, at bruge BeautifulSoup til at scrape selve atiklerne mens jeg bruger selenium til at navigere mellem pages'ne."
   ]
  },
  {
   "cell_type": "markdown",
   "metadata": {},
   "source": [
    "## 2. Retrieve HTML Content: "
   ]
  },
  {
   "cell_type": "markdown",
   "metadata": {},
   "source": [
    "### Use the following example code to fetch the HTML content of a webpage and verify that contents holds the HTML source of the webpage:"
   ]
  },
  {
   "cell_type": "code",
   "execution_count": 35,
   "metadata": {},
   "outputs": [],
   "source": [
    "browser = webdriver.Firefox()\n",
    "browser.get('https://www.bbc.com/news/world/europe')"
   ]
  },
  {
   "cell_type": "markdown",
   "metadata": {},
   "source": [
    "## 3. Extract Articles:"
   ]
  },
  {
   "cell_type": "markdown",
   "metadata": {},
   "source": [
    "### Selenium allows us to extract information easily. You can read the documentation here. Write a function to extract all articles from the page using the find_elements method. For each article, retrieve the headline, the summary, and the link to the article (href). (Hint: You might have to inspect the page for classes, ids, etc. that might be useful for extracting the information)"
   ]
  },
  {
   "cell_type": "markdown",
   "metadata": {},
   "source": [
    "Jeg bruger CLASS_NAME til at finde elementer i html-koden."
   ]
  },
  {
   "cell_type": "code",
   "execution_count": 19,
   "metadata": {},
   "outputs": [
    {
     "name": "stdout",
     "output_type": "stream",
     "text": [
      "URL amount: 26\n"
     ]
    },
    {
     "data": {
      "text/plain": [
       "['https://www.bbc.com/news/articles/cx2gg8le1kpo',\n",
       " 'https://www.bbc.com/news/articles/c3e44qev1dvo',\n",
       " 'https://www.bbc.com/news/articles/ce982zpz1k3o',\n",
       " 'https://www.bbc.com/news/articles/cn527pz54neo',\n",
       " 'https://www.bbc.com/news/articles/c0eggy1104po',\n",
       " 'https://www.bbc.com/news/articles/c3e44qev1dvo',\n",
       " 'https://www.bbc.com/news/articles/czxnnzz558eo',\n",
       " 'https://www.bbc.com/news/articles/cd655917g6qo',\n",
       " 'https://www.bbc.com/news/articles/ce982zpz1k3o',\n",
       " 'https://www.bbc.com/news/articles/c0q1188p1n2o']"
      ]
     },
     "execution_count": 19,
     "metadata": {},
     "output_type": "execute_result"
    }
   ],
   "source": [
    "def url_finder(site):\n",
    "    urls = [url.get_attribute('href') for url in site.find_elements(By.XPATH, \"//a[@href]\")]\n",
    "    urls = [url for url in urls if url.find('news/articles') != -1]\n",
    "    return urls\n",
    "\n",
    "urls = url_finder(browser)\n",
    "\n",
    "print(f'URL amount: {len(url_finder(browser))}')\n",
    "urls[0:10]"
   ]
  },
  {
   "cell_type": "code",
   "execution_count": 20,
   "metadata": {},
   "outputs": [
    {
     "name": "stdout",
     "output_type": "stream",
     "text": [
      "Headlines amount: 26\n"
     ]
    },
    {
     "data": {
      "text/plain": [
       "['Greeks hold mass protests demanding justice after train tragedy',\n",
       " 'Minister questions why Tate brothers were allowed to leave Romania',\n",
       " 'Czech firefighters tackle large toxic train fire',\n",
       " 'What we know about US-Ukraine minerals deal',\n",
       " 'Free trade deal with India could come this year - EU Commission chief',\n",
       " 'Minister questions why Tate brothers were allowed to leave Romania',\n",
       " 'Dozens arrested in global hit against AI-generated child abuse',\n",
       " \"Pope has 'isolated' breathing crisis in hospital, Vatican says\",\n",
       " 'Czech firefighters tackle large toxic train fire',\n",
       " 'Austrian centrists agree government deal sidelining far right']"
      ]
     },
     "execution_count": 20,
     "metadata": {},
     "output_type": "execute_result"
    }
   ],
   "source": [
    "def headline_finder(link):\n",
    "    response = requests.get(link)\n",
    "    headline = BeautifulSoup(response.content, 'html.parser').find('h1').text\n",
    "    return headline\n",
    "\n",
    "headlines = [headline_finder(url) for url in url_finder(browser)]\n",
    "\n",
    "print(f'Headlines amount: {len(headlines)}')\n",
    "headlines[0:10]"
   ]
  },
  {
   "cell_type": "code",
   "execution_count": 21,
   "metadata": {},
   "outputs": [
    {
     "name": "stdout",
     "output_type": "stream",
     "text": [
      "Summary amount: 26\n"
     ]
    },
    {
     "data": {
      "text/plain": [
       "['Greeks have held their largest protests in years and took part in a general strike to mark the second anniversary of a rail disaster that left 57 dead and dozens more injured.',\n",
       " \"Romania's Justice Minister Radu Marinescu has called for a public explanation into why controversial social media influencers Andrew and Tristan Tate were allowed to leave the country on Thursday.\",\n",
       " 'A freight train carrying the highly toxic chemical benzene has derailed in the Czech Republic, sparking a huge fire.',\n",
       " \"Ukraine's President Volodymyr Zelensky met US President Trump in Washington on Friday to sign an agreement that would give the US access to its deposits of rare earth minerals.\",\n",
       " 'The head of the European Commission, Ursula von der Leyen said EU and India were pushing to get a free trade agreement during this year.',\n",
       " \"Romania's Justice Minister Radu Marinescu has called for a public explanation into why controversial social media influencers Andrew and Tristan Tate were allowed to leave the country on Thursday.\",\n",
       " \"At least 25 arrests have been made during a worldwide operation against child abuse images generated by artificial intelligence (AI), the European Union's law enforcement organisation Europol has said.\",\n",
       " 'Pope Francis, who has been battling pneumonia for two weeks, has had an \"isolated\" breathing crisis in hospital, the Vatican has said.',\n",
       " 'A freight train carrying the highly toxic chemical benzene has derailed in the Czech Republic, sparking a huge fire.',\n",
       " \"Five months after the far-right Freedom Party won Austria's general election, a three-way coalition looks set to exclude it from power.\"]"
      ]
     },
     "execution_count": 21,
     "metadata": {},
     "output_type": "execute_result"
    }
   ],
   "source": [
    "def summary_finder(link):\n",
    "    response = requests.get(link)\n",
    "    headline = BeautifulSoup(response.content, 'html.parser').find('p').text\n",
    "    return headline\n",
    "\n",
    "summaries = [summary_finder(url) for url in url_finder(browser)]\n",
    "\n",
    "print(f'Summary amount: {len(summaries)}')\n",
    "summaries[0:10]"
   ]
  },
  {
   "cell_type": "markdown",
   "metadata": {},
   "source": [
    "## 4. Scrape Multiple Pages:"
   ]
  },
  {
   "cell_type": "markdown",
   "metadata": {},
   "source": [
    "### Identify the number of pages available for the 'Europe' section (Hint: See buttons at the bottom of the page). Write a function that extracts all article links from all these pages (Hint: Click on button using .click(). You may also have to add a delay for the page to load using time.wait(n_seconds))"
   ]
  },
  {
   "cell_type": "markdown",
   "metadata": {},
   "source": [
    "Vi klikker på siden, så vi accepterer cookies. Herefter klikker vi ind på hver side, og samler alle links vi finder i html-koden."
   ]
  },
  {
   "cell_type": "code",
   "execution_count": 22,
   "metadata": {},
   "outputs": [],
   "source": [
    "WebDriverWait(browser, 25).until(EC.frame_to_be_available_and_switch_to_it((By.ID, \"sp_message_iframe_1192447\")))\n",
    "WebDriverWait(browser, 25).until(EC.element_to_be_clickable((By.XPATH, \"//button[contains(text(),'I agree')]\"))).click()\n",
    "\n",
    "browser.switch_to.default_content()\n",
    "bannerCookie = browser.find_element(By.ID, \"bbccookies-continue-button\").click()"
   ]
  },
  {
   "cell_type": "code",
   "execution_count": 23,
   "metadata": {},
   "outputs": [
    {
     "name": "stdout",
     "output_type": "stream",
     "text": [
      "Unique URLs in Europe: 78\n"
     ]
    }
   ],
   "source": [
    "output_urls = []\n",
    "page_amount = 20\n",
    "for i in range(1, page_amount):\n",
    "    try:\n",
    "        output_urls.extend(url_finder(browser))\n",
    "        nextPage = browser.find_element(By.XPATH, f\"//button[contains(text(),'{i}')]\")\n",
    "        nextPage.click()\n",
    "    except Exception:\n",
    "        break\n",
    "\n",
    "unique_urls = list(dict.fromkeys(output_urls))\n",
    "print(f'Unique URLs in Europe: {len(unique_urls)}')"
   ]
  },
  {
   "cell_type": "markdown",
   "metadata": {},
   "source": [
    "## 5. Expand the Scope:"
   ]
  },
  {
   "cell_type": "markdown",
   "metadata": {},
   "source": [
    "### Extend your scraping to include articles from other regions: US & Canada, UK, Australia, Asia, Africa, Latin America, and the Middle East. If done correctly, you should get around 800 article links."
   ]
  },
  {
   "cell_type": "code",
   "execution_count": 24,
   "metadata": {},
   "outputs": [],
   "source": [
    "subsites = [\"https://www.bbc.com/news/us-canada\", \n",
    "    \"https://www.bbc.com/news/world/africa\", \n",
    "    \"https://www.bbc.com/news/world/asia\", \n",
    "    \"https://www.bbc.com/news/world/europe\", \n",
    "    \"https://www.bbc.com/news/world/latin_america\", \n",
    "    \"https://www.bbc.com/news/world/middle_east\", \n",
    "    \"https://www.bbc.com/news/world/australia\",\n",
    "    \"https://www.bbc.com/news/uk\"]"
   ]
  },
  {
   "cell_type": "code",
   "execution_count": 25,
   "metadata": {},
   "outputs": [],
   "source": [
    "output_urls = []\n",
    "page_amount = 20\n",
    "for subsite in subsites:\n",
    "    browser.get(subsite)\n",
    "    for i in range(1, page_amount):\n",
    "        try:\n",
    "            output_urls.extend(url_finder(browser))\n",
    "            nextPage = browser.find_element(By.XPATH, f\"//button[contains(text(),'{i}')]\")\n",
    "            nextPage.click()\n",
    "        except Exception:\n",
    "            break"
   ]
  },
  {
   "cell_type": "code",
   "execution_count": 26,
   "metadata": {},
   "outputs": [
    {
     "name": "stdout",
     "output_type": "stream",
     "text": [
      "Urls found: 707\n"
     ]
    },
    {
     "data": {
      "text/plain": [
       "['https://www.bbc.com/news/articles/cn9v1l80350o',\n",
       " 'https://www.bbc.com/news/articles/c62zzd3zp50o',\n",
       " 'https://www.bbc.com/news/articles/cdell8n14x2o',\n",
       " 'https://www.bbc.com/news/articles/c9dejydynngo',\n",
       " 'https://www.bbc.com/news/articles/cqlyy1rld0ko',\n",
       " 'https://www.bbc.com/news/articles/cn7vxlrvxyeo',\n",
       " 'https://www.bbc.com/news/articles/clydd7zeye7o',\n",
       " 'https://www.bbc.com/news/articles/cvgee7rl24ro',\n",
       " 'https://www.bbc.com/news/articles/c1kjj032d8do',\n",
       " 'https://www.bbc.com/news/articles/cedll3282qzo']"
      ]
     },
     "execution_count": 26,
     "metadata": {},
     "output_type": "execute_result"
    }
   ],
   "source": [
    "unique_urls = list(dict.fromkeys(output_urls))\n",
    "print(f'Urls found: {len(unique_urls)}')\n",
    "unique_urls[0:10]"
   ]
  },
  {
   "cell_type": "markdown",
   "metadata": {},
   "source": [
    "Afviger med under 10% fra de 800 artikler. Så jeg vurderer det som godt nok."
   ]
  },
  {
   "cell_type": "markdown",
   "metadata": {},
   "source": [
    "## 6. Save Your Results: "
   ]
  },
  {
   "cell_type": "markdown",
   "metadata": {},
   "source": [
    "### Store the collected links in a file (CSV, JSON, or TXT format)."
   ]
  },
  {
   "cell_type": "code",
   "execution_count": 27,
   "metadata": {},
   "outputs": [],
   "source": [
    "pd.DataFrame(unique_urls, columns=['urls']).to_csv('bbc_urls.csv', index=False)"
   ]
  },
  {
   "cell_type": "markdown",
   "metadata": {},
   "source": [
    "# Part 3: Scraping Article Text"
   ]
  },
  {
   "cell_type": "markdown",
   "metadata": {},
   "source": [
    "### In this final part of the exercise, you will scrape the article text and store it on disk."
   ]
  },
  {
   "cell_type": "code",
   "execution_count": 37,
   "metadata": {},
   "outputs": [
    {
     "name": "stdout",
     "output_type": "stream",
     "text": [
      "Content amount: 26\n"
     ]
    }
   ],
   "source": [
    "def content_finder(url):\n",
    "    response = requests.get(url)\n",
    "    paragraphs = BeautifulSoup(response.content, 'html.parser').find_all('p')\n",
    "    main_text = ' '.join([p.text for p in paragraphs])\n",
    "    main_text = main_text.replace('\\n', ' ')\n",
    "    return main_text\n",
    "\n",
    "content = [content_finder(url) for url in url_finder(browser)]\n",
    "\n",
    "print(f'Content amount: {len(content)}')"
   ]
  },
  {
   "cell_type": "markdown",
   "metadata": {},
   "source": [
    "## 1. Article Inspection: "
   ]
  },
  {
   "cell_type": "markdown",
   "metadata": {},
   "source": [
    "### Manually inspect a few articles to find unique attributes to identify the text, the headline, the published date, and the author."
   ]
  },
  {
   "cell_type": "markdown",
   "metadata": {},
   "source": [
    "Det sværeste jeg opdagede, var at få fat i forfatterne, men jeg fandt en løsning, som man kan se længere ned, når jeg definerer funktionen."
   ]
  },
  {
   "cell_type": "markdown",
   "metadata": {},
   "source": [
    "## 2. Text Scraping Function:"
   ]
  },
  {
   "cell_type": "markdown",
   "metadata": {},
   "source": [
    "### Implement a function that takes a URL and returns a dictionary with the article's text, headline, published date, and author."
   ]
  },
  {
   "cell_type": "markdown",
   "metadata": {},
   "source": [
    "Jeg bruger samme metode som tidligere."
   ]
  },
  {
   "cell_type": "code",
   "execution_count": 29,
   "metadata": {},
   "outputs": [
    {
     "name": "stdout",
     "output_type": "stream",
     "text": [
      "Publish date amount: 23\n"
     ]
    },
    {
     "data": {
      "text/plain": [
       "['2025-02-28T17:06:10.619Z',\n",
       " '2025-02-28T16:37:33.805Z',\n",
       " '2025-02-28T20:39:11.634Z',\n",
       " '2025-02-28T18:51:58.465Z',\n",
       " '2025-02-28T15:37:02.753Z',\n",
       " '2025-02-28T16:37:33.805Z',\n",
       " '2025-02-28T16:21:43.835Z',\n",
       " '2025-02-28T13:04:28.913Z',\n",
       " '2025-02-28T20:39:11.634Z',\n",
       " '2025-02-28T17:46:36.227Z']"
      ]
     },
     "execution_count": 29,
     "metadata": {},
     "output_type": "execute_result"
    }
   ],
   "source": [
    "def publish_date_finder(link):\n",
    "    response = requests.get(link)\n",
    "    soup = BeautifulSoup(response.content, 'html.parser')\n",
    "    date = soup.find('time')['datetime']\n",
    "    return date\n",
    "\n",
    "publish_dates = [publish_date_finder(url) for url in url_finder(browser)]\n",
    "\n",
    "print(f'Publish date amount: {len(publish_dates)}')\n",
    "publish_dates[0:10]"
   ]
  },
  {
   "cell_type": "code",
   "execution_count": 30,
   "metadata": {},
   "outputs": [
    {
     "name": "stdout",
     "output_type": "stream",
     "text": [
      "Author amount: 23\n"
     ]
    },
    {
     "data": {
      "text/plain": [
       "['Kate Whannel',\n",
       " 'Iain Watson',\n",
       " 'Tom Symonds',\n",
       " 'Unknown',\n",
       " 'Martin Eastaugh',\n",
       " 'Iain Watson',\n",
       " 'Clara Bullock',\n",
       " 'Emma Stanley',\n",
       " 'Tom Symonds',\n",
       " 'Sam Francis']"
      ]
     },
     "execution_count": 30,
     "metadata": {},
     "output_type": "execute_result"
    }
   ],
   "source": [
    "def author_finder(link):\n",
    "    response = requests.get(link)\n",
    "    soup = BeautifulSoup(response.content, 'html.parser')\n",
    "    author_tag = soup.find('span', 'kItaYD')\n",
    "    if author_tag:\n",
    "        return author_tag.text.strip()\n",
    "    return 'Unknown'\n",
    "\n",
    "authors = [author_finder(url) for url in url_finder(browser)]\n",
    "\n",
    "print(f'Author amount: {len(authors)}')\n",
    "authors[0:10]"
   ]
  },
  {
   "cell_type": "markdown",
   "metadata": {},
   "source": [
    "## 3. Scrape All Articles:"
   ]
  },
  {
   "cell_type": "markdown",
   "metadata": {},
   "source": [
    "### Loop through all the collected article links to scrape their contents (May take a long time. So try on a smaller subset to start with). Remember to implement error handling and possibly introduce delays to avoid being blocked."
   ]
  },
  {
   "cell_type": "markdown",
   "metadata": {},
   "source": [
    "Jeg har lavet en funktion, der køerer alle tidligere funktioner på givne url'er."
   ]
  },
  {
   "cell_type": "code",
   "execution_count": 31,
   "metadata": {},
   "outputs": [],
   "source": [
    "def function_combiner(url):\n",
    "    return {'url': url, 'publish_date': publish_date_finder(url), 'author': author_finder(url), 'headline': headline_finder(url), 'summary': summary_finder(url), 'content': content_finder(url)}"
   ]
  },
  {
   "cell_type": "markdown",
   "metadata": {},
   "source": [
    "Vi kører alle unikke urls på vores function combiner, og gemmer resultaterne i en dataframe. Efterfølgende lukkes firefox."
   ]
  },
  {
   "cell_type": "code",
   "execution_count": 32,
   "metadata": {},
   "outputs": [
    {
     "data": {
      "application/vnd.microsoft.datawrangler.viewer.v0+json": {
       "columns": [
        {
         "name": "index",
         "rawType": "int64",
         "type": "integer"
        },
        {
         "name": "url",
         "rawType": "object",
         "type": "string"
        },
        {
         "name": "publish_date",
         "rawType": "object",
         "type": "string"
        },
        {
         "name": "author",
         "rawType": "object",
         "type": "string"
        },
        {
         "name": "headline",
         "rawType": "object",
         "type": "string"
        },
        {
         "name": "summary",
         "rawType": "object",
         "type": "string"
        },
        {
         "name": "content",
         "rawType": "object",
         "type": "string"
        }
       ],
       "conversionMethod": "pd.DataFrame",
       "ref": "d2edb111-fb61-4763-90d2-584fd4b4faa7",
       "rows": [
        [
         "0",
         "https://www.bbc.com/news/articles/cn9v1l80350o",
         "2025-02-28T16:40:24.021Z",
         "Caitlin Wilson",
         "Trump to order English as official US language",
         "Donald Trump will sign an executive order on Friday making English the official language of the United States, according to White House officials, and scrapping requirements that federal agencies provide language services to non-English speakers. ",
         "Donald Trump will sign an executive order on Friday making English the official language of the United States, according to White House officials, and scrapping requirements that federal agencies provide language services to non-English speakers.  The US has never had an official language in the nearly 250 years since the country was founded. The order is intended to improve government efficiency and promote national unity, according to White House officials. Nearly 68 million of the country's 340 million residents speak a language other than English, according to the US Census Bureau, which includes more than 160 Native American tongues. Friday's executive order will roll back a policy from 2000 signed by former President Bill Clinton requiring that government agencies and federal funding recipients \"ensure that their programs and activities normally provided in English are accessible to LEP (low-English proficiency) persons\". Agencies will be allowed to still provide that language access to non-English speakers, according to White House officials. Republicans have led efforts in the past to label English as the country's official language, with members of the House as recently as 2021 introducing legislation on it that failed.  Those who have opposed those efforts say that the country does not need an official language, pointing to the high numbers of people who speak it and to the country never having one, while also saying establishing one could promote discrimination against non-English speakers. During his presidential campaign last year, Trump included non-English languages in his statements calling for stricter immigration policies. \"We have languages coming into our country. We don't have one instructor in our entire nation that can speak that language,\" he told a crowd of supporters in February 2024. \"It's the craziest thing - they have languages that nobody in this country has ever heard of. It's a very horrible thing,\" he said. And during the 2016 campaign he said, \"This is a country where we speak English. It's English. You have to speak English!\" When the US was founded, most residents spoke English and those writing the country's constitution did not feel it was necessary to enshrine it as the official language and also did not want to alienate fellow new citizens who spoke German or other languages, according to most scholars.   The languages currently spoken the most in the US after English are Spanish, various Chinese languages, Tagolog, Vietnamese and Arabic, according to the Census Bureau. Another approximately one million people use American Sign Language, according to experts. Approximately 180 countries around the world designate official national languages, and most countries recognise multiple official languages. However, several countries besides the United States do not have an official language, including the United Kingdom. There are more than 30 US states which have designated English as the official language, while Alaska and Hawaii have also bestowed official status on several native languages. The US president clashes with Ukraine's leader in fiery Oval Office exchange over ending the war with Russia. The US president accused the Ukrainian leader of being disrespectful in a tense meeting in the Oval Office. The US axes vital HIV/Aids funding, which South Africa's health minister says is a \"wake-up call\". US police say a rapper's \"cowardly\" actions in a \"rival gang stronghold\" led to a spate of violence. Donald Trump will not get involved in security guarantees for Ukraine, but can Europe fill the gap? Copyright 2025 BBC. All rights reserved.  The BBC is not responsible for the content of external sites. Read about our approach to external linking.  "
        ],
        [
         "1",
         "https://www.bbc.com/news/articles/c62zzd3zp50o",
         "2025-02-28T11:54:38.680Z",
         "Nadine Yousif",
         "'Trump thinks he can break us' - Ontario's Doug Ford makes bullish victory speech",
         "The leader of Ontario, Doug Ford, has vowed to push back at US President Donald Trump after securing a third term in office as premier of Canada's most populous province.",
         "The leader of Ontario, Doug Ford, has vowed to push back at US President Donald Trump after securing a third term in office as premier of Canada's most populous province. \"Donald Trump thinks he can break us,\" he told the cheering crowds in Toronto, but the US president was mistaken, he added. \"Canada is not for sale.\" Ford, who has led Ontario since 2018, called the snap election to get a clear mandate to fight US President Donald Trump over tariffs he threatens to impose on Canadian goods. The indications on Friday morning were that his Progressive Conservatives had won more than 80 seats out of 124 in the legislature.  The left-wing New Democratic Party came second, forming the official opposition, while the Liberals were in third place. Ford pushed back in his election campaign against Trump's persistent references to Canada as the 51st US state, sporting a cap saying \"Canada is not for sale.\" In his victory speech at a convention centre in Toronto, he said:  \"Donald Trump thinks he can break us. He thinks he can divide and conquer, pit region against region.  \"Donald Trump doesn't know what we know. He is underestimating us. He is underestimating the resilience of the Canadian people, the Canadian spirit.\" The election was called by the Canadian Broadcasting Corporation (CBC) 10 minutes after polls closed on Thursday evening. Voter turnout appears to be near historic lows. As of 23:00 local time (04:00 GMT) with 97% of polls reporting, just over 44% of Ontarians had cast ballots in the election.   That is essentially tied with the lowest ever turnout of 44% in 2022.  Ford ran his campaign under the slogan \"Protect Canada\", reflecting his view that Canada needs to stand firm against US tariff threats.  Ford has appeared regularly on US television news networks in recent months as a de-facto spokesman for Canada's position in its fight against the tariffs. President Trump said on Thursday that the tariffs he planned to impose on Canada and Mexico would go ahead next week, after he delayed them a month in exchange for security assurances at the shared borders. Around 75% of Canadian exports go to the US, and economists have warned that the tariffs would be devastating for Canada's economy while raising costs for Americans. Ontario is home to a large automotive sector that is deeply intertwined with the US - car parts often make several trips back and forth across the US-Canada border before a vehicle is fully assembled and sold. Ford has suggested that 500,000 of Ontario's 16 million people could lose their jobs if the US follows through on the blanket 25% tariffs. He has called for strong retaliation, suggesting Canada cut its energy supply to the US and calling for provincial liquor stores to pull American booze from their shelves. He has also proposed the idea of \"Fortress Am-Can\" - a slogan to sell Trump on a stronger energy alliance between the two countries in a bid to avoid tariffs altogether.  Opposition parties have criticised Ford for calling the snap election, accusing him of taking advantage of the rift in US-Canada relations to boost his own popularity. They also questioned the decision to push for a costly election amid economic uncertainty. Ford has also been the subject of numerous  controversies, including an ongoing criminal investigation into a deal to sell a piece of environmentally protected land for real estate development. At a speech to supporters on Thursday, Bonnie Crombie, leader of the Ontario Liberals, said that while the party fell short of forming a government it should be \"very proud\" of the seats it gained. \"People counted us out. Tonight, you proved them wrong,\" said Crombie, who failed to win her own seat. She vowed to continue on as leader. The last time a government in Ontario formed three consecutive majorities was under Leslie Frost, a Progressive Conservative leader who won his third and final term in 1959. He also said he would move ahead with 25% tariffs on imports from Mexico and Canada, which had been paused. Canada head coach Jesse Marsch says he feels \"ashamed\" as an American by US President Donald Trump's comments on Canada becoming the 51st state. Tariffs are a central part of Trump's political vision, but economists warn they could put prices up. Canada's American manager Jesse Marsch is \"ashamed\" that US President Donald Trump continues to label Canada \"the 51st state\". The Liberal Party of Canada will soon choose a leader that will replace Justin Trudeau and become Canada's next prime minister. Copyright 2025 BBC. All rights reserved.  The BBC is not responsible for the content of external sites. Read about our approach to external linking.  "
        ],
        [
         "2",
         "https://www.bbc.com/news/articles/cdell8n14x2o",
         "2025-02-28T11:27:09.108Z",
         "Thomas Mackintosh",
         "Hundreds in US climate agency fired in latest cuts",
         "Hundreds of National Oceanic and Atmospheric Administration (NOAA) staff have been laid off in the latest development in the Trump's administration's efforts to slash the federal workforce.",
         "Hundreds of National Oceanic and Atmospheric Administration (NOAA) staff have been laid off in the latest development in the Trump's administration's efforts to slash the federal workforce. Around 880 workers - including weather forecasters - have had their jobs terminated on Thursday, the BBC's US partner CBS News reported. The cuts come as Elon Musk, as the head of the so-called Department of Government Efficiency (Doge), continues a push to reduce spending through funding cuts and firings. An NOAA spokesman said the agency would not comment on internal personnel matters. Prior to Thursday's cuts, the NOAA had about 12,000 staffers across the world, including 6,773 who are scientists and engineers, according to the agency's website. \"We continue to provide weather information, forecasts and warnings pursuant to our public safety mission,\" the NOAA spokesman added. NOAA staffers took to social media to announce they had been swept up by the cuts. \"I was fired from my dream of working at NOAA. I'm so sorry to everyone also affected,\" climate scientist Zack Labe wrote on X. He said that he had worked on strengthening the agency's machine learning and AI tools. Californian Democratic Congressman Jared Huffman said people across the US \"depend on NOAA for free, accurate forecasts, severe weather alerts, and emergency information\".  NOAA weather data is used by meteorologists, media organisations, commerical forecasting services and other companies to inform the US public about the weather. The agency produces the latest information on temperature, precipitation, air quality, UV index, humidity and more.  This data is used extensively in the private sector to fuel popular weather services and websites. \"Most or all private weather companies in US (including forecasts that you see on TV or your favorite app) are built directly atop backbone of taxpayer-funded instrumentation, data, predictive modeling, & forecasts provided by NOAA,\" Daniel Swain, a climate scientist at the University of California, Los Angeles wrote on X. The agency has proved essential during periods of extreme weather conditions as well. The National Hurricane Center and the National Weather Service - housed under NOAA - create models and notify millions of Americans when and how to respond to severe weather events, such as hurricanes and tornadoes.  Huffman lamented the loss of \"hundreds of scientists and experts at NOAA\" who helped collect infromation that kept the public safe during dangerous weather events.  \"Musk's sham mission is bringing vital programs to a screeching halt. Purging the government of scientists, experts, and career civil servants and slashing fundamental programs will cost lives,\" the congressman said. Miyoko Sakashita, the Center for Biological Diversity's oceans director, said gutting NOAA will \"hamstring essential lifesaving\" programmes. The latest developments come days after US government workers faced widespread confusion following conflicting advice over compliance with a Musk-backed order to list their last week's work in an email or face termination. The message sent to millions of federal employees last Saturday evening came after Musk posted on his social media platform X that government staff would \"shortly receive an email requesting to understand what they got done last week\". On Sunday, Musk said in some cases \"we believe non-existent people or the identities of dead people are being used to collect paychecks\".  In a copy of the email obtained by the BBC, employees were asked to respond explaining their accomplishments from the past week in five bullet points - without disclosing classified information. But, key agencies, including the Departments of Defense (DoD), Health and Human Services (HHS), Justice, the Pentagon and the FBI - now led by Trump appointees -instructed employees to ignore the directive. Agencies such as the Department of Transportation, the Secret Service and the Cybersecurity and Infrastructure Agency encouraged their staff to comply, according to reports. On Wednesday, Musk reiterated the suggestion that a number of federal employees who did not respond to an email requesting a summary of their achievements from the previous week could be \"dead\" or \"not real people\", but offered no facts to back it up. Speaking at Trump's first cabinet meeting, Musk told reporters: \"I think that email perhaps was best interpreted as a performance review, but actually it was a pulse check review.  \"Do you have a pulse? Do you have a pulse? And two neurons. So if you have a pulse and two neurons, you can reply to an email.\" Elsewhere on Thursday, a federal judge in San Francisco found that the mass firings of probationary employees were likely unlawful. District Judge William Alsup ordered the Office of Personnel Management to inform certain federal agencies that it had no authority to order the firings of probationary employees, including at the defence department. The White House said the deal, which would give the US access to mineral deposits, was not signed on Friday. The US president clashes with Ukraine's leader in fiery Oval Office exchange over ending the war with Russia. The president ignored the questions that were shouted as he was leaving the White House. The US and Ukrainian presidents, who have traded barbs in the past, began a new war of words this week. US President Donald Trump and Volodymyr Zelensky disagree during the Ukrainian president's US trip.  Copyright 2025 BBC. All rights reserved.  The BBC is not responsible for the content of external sites. Read about our approach to external linking.  "
        ],
        [
         "3",
         "https://www.bbc.com/news/articles/c9dejydynngo",
         "2025-02-28T19:19:27.428Z",
         "Tom McArthur",
         "Furious Trump accuses Zelensky of 'gambling with World War Three'",
         "A furious Donald Trump has clashed with Volodymyr Zelensky, with the US president telling his Ukrainian counterpart to make a deal with Russia \"or we are out\".",
         "A furious Donald Trump has clashed with Volodymyr Zelensky, with the US president telling his Ukrainian counterpart to make a deal with Russia \"or we are out\". The pair interrupted each other repeatedly during heated exchange in a manner rarely seen in the White House. At one point, an angry looking Trump said Zelensky was not thankful enough for US military and political support, and that he was \"gambling with World War Three\". Zelensky said there should be \"no compromises\" with Russian President Vladimir Putin - but Trump said Kyiv would have to make concessions to reach a peace deal with Russia. The meeting was intended as a prelude to the two signing a minerals deal, which did not go ahead. In what seemed like a public dressing-down of the Ukrainian president by Trump and US Vice-President JD Vance, the conversation began with Vance telling Zelensky that the war had to be ended through diplomacy. Zelensky asked \"what kind of diplomacy?\" before being accused by the vice-president of being disrespectful. The discussion then escalated quickly, as Trump and Vance accused Ukraine's president of being ungrateful for three years' of US support during the war with Russia, with Trump saying he was in no position to tell the US how it should feel. Not long after the meeting and well ahead of the pre-planned schedule, Zelensky was seen leaving the White House in his official vehicle. Meanwhile, Trump took to Truth Social, the social media platform he owns, to say \"Zelensky disrespected the US in its cherished Oval Office\". \"We had a very meaningful meeting in the White House today,\" he wrote. \"Much was learned that could never be understood without conversation under such fire and pressure. \"It's amazing what comes out through emotion, and I have determined that President Zelensky is not ready for Peace if America is involved, because he feels our involvement gives him a big advantage in negotiations. I don't want advantage, I want PEACE.\" He added that Zelensky \"can come back when he is ready for peace\". The two leaders were expected to sign a deal giving Washington access to Ukrainian oil, gas and rare minerals, which was later confirmed not to have occurred.  The president ignored the questions that were shouted as he was leaving the White House. The US president accused the Ukrainian leader of being disrespectful in a tense meeting in the Oval Office. The US axes vital HIV/Aids funding, which South Africa's health minister says is a \"wake-up call\". US police say a rapper's \"cowardly\" actions in a \"rival gang stronghold\" led to a spate of violence. The United States has never had an official language since it was founded nearly 250 years ago. Copyright 2025 BBC. All rights reserved.  The BBC is not responsible for the content of external sites. Read about our approach to external linking.  "
        ],
        [
         "4",
         "https://www.bbc.com/news/articles/cqlyy1rld0ko",
         "2025-02-28T09:29:17.748Z",
         "Patrick Jackson",
         "What we know about the deaths of Gene Hackman and his wife ",
         "US investigators are trying to establish how Oscar-winning actor Gene Hackman and his wife, classical pianist Betsy Arakawa, died after the discovery of their bodies at their home in the US state of New Mexico.",
         "US investigators are trying to establish how Oscar-winning actor Gene Hackman and his wife, classical pianist Betsy Arakawa, died after the discovery of their bodies at their home in the US state of New Mexico. Here is what we know so far about the death of a Hollywood legend known for such films as The French Connection and The Conversation. Warning: this article contains details some readers may find upsetting   The bodies of the couple and one of their dogs were found by police on Wednesday at their home in Santa Fe, New Mexico, after a maintenance worker called emergency services. In a recording of the 911 call obtained by the BBC, the emotional caller can be heard telling a dispatcher how he found the two bodies. Hackman, 95, was discovered in a side room near the kitchen while Arakawa, 65, was found in a bathroom, at the property on Old Sunset Trail in Hyde Park. The couple appeared to have been \"dead for quite a while\", said Sheriff Adan Mendoza. Arakawa's body showed signs of \"decomposition\", and \"mummification\" in the hands and feet, a sheriff's detective said. Hackman's remains \"showed obvious signs of death, similar and consistent\" with those on his spouse. A German Shepherd dog owned by the couple was found dead in a bathroom closet near to Arakawa. No cause was given in police statements immediately after the announcement of the deaths. The authorities reported no signs of injury but deemed the deaths \"suspicious enough\" to investigate and did not rule out foul play. Near Arakawa's head was a portable heater, which the detective determined could have been brought down in the event that she had abruptly fallen to the ground. Carbon monoxide and toxicology tests have been requested for both Hackman and Arakawa. The local utility company found no sign of a gas leak in the area and the fire department detected no indication of a carbon monoxide leak or poisoning, according to the search warrant. The warrant suggests police may have a working theory that \"some kind of gas poisoning\" happened but that they do not know yet and are not ruling anything out, Loyola Marymount University law professor Laurie Levenson was quoted as saying by the Associated Press.  A prescription bottle and scattered pills lay on the bathroom countertop close to Arakawa's body.  Hackman was discovered wearing grey tracksuit bottoms, a blue long-sleeve T-shirt and brown slippers. Sunglasses and a walking cane lay next to his body. The detective suspected that the actor had suffered a sudden fall. The circumstances of their death were deemed \"suspicious enough in nature to require a thorough search and investigation\", the search warrant says, because the worker who called emergency services had found the front door of the property open. However, the detective observed no sign of forced entry into the home. Nothing appeared out of place inside.  \"There was no indication of a struggle,\" said Sheriff Mendoza. \"There was no indication of anything that was missing from the home or disturbed, you know, that would be indication that there was a crime that had occurred.\" Two other, healthy dogs were discovered roaming the property - one inside and one out. All we know is that two maintenance workers, one of whom called the emergency services, say they last had contact with the couple two weeks earlier. The two workers said they had sometimes conducted routine work at the property, but rarely ever saw Hackman and Arakawa. They had communicated with them by phone and text, primarily with Arakawa. Hackman's daughter Leslie Anne Hackman told the Mail Online that her father had been in \"very good physical condition\" despite his age, and had not undergone \"any major surgeries\" in recent months. \"He liked to do Pilates and yoga, and he was continuing to do that several times a week,\" she said. \"So he was in good health.\" The couple, married in 1991, had had a \"wonderful marriage\", she added. \"I give credit to his wife, Betsy, for keeping him alive,' she said. '[Betsy] took very, very good care of him and was always looking out for his health.\"    The White House said the deal, which would give the US access to mineral deposits, was not signed on Friday. The US president clashes with Ukraine's leader in fiery Oval Office exchange over ending the war with Russia. The president ignored the questions that were shouted as he was leaving the White House. The US and Ukrainian presidents, who have traded barbs in the past, began a new war of words this week. The US president accused the Ukrainian leader of being disrespectful in a tense meeting in the Oval Office. Copyright 2025 BBC. All rights reserved.  The BBC is not responsible for the content of external sites. Read about our approach to external linking.  "
        ],
        [
         "5",
         "https://www.bbc.com/news/articles/cn7vxlrvxyeo",
         "2025-02-28T17:48:12.870Z",
         "Graham Fraser",
         "Microsoft announces Skype will close in May",
         "Skype, the video-calling service that had hundreds of millions of users, is closing in May, its owner Microsoft has said.",
         "Skype, the video-calling service that had hundreds of millions of users, is closing in May, its owner Microsoft has said. It was once one of the world's most popular websites and allowed people to make voice calls via their computers to friends and family all over the globe for free. Skype was not the first or only company offering this service but by allowing the public to make computer-to-computer calls free, it helped popularise the concept. In an announcement on X, Skype said users can sign in to Microsoft Teams with their account to stay connected with all their chats and contacts. Microsoft made no immediate comment when contacted by BBC News. First released in 2003, Skype was bought by the tech giant in 2011 for $8.5bn (£6.1bn) - its biggest-ever acquisition at the time. As Microsoft once outlined, Skype became integrated with the company's other products such as Xbox and Windows devices. In December 2010, tech industry commentator Om Malik called it one of the \"key applications of the modern web\", when the website suffered a two-day global outage. Following news of its imminent closure, Skype users past and present described their memories of using the service for video calls and the impact it had on their lives. \"My best friend and I share many good memories on Skype,\" one X user said. \"This is a sad day and almost a feeling of losing yet another fragment of my adolescence.\" Another early user of Skype called Louise told the BBC she and her partner used the service to chat when they \"embarked on a transatlantic relationship\". \"Skype was such an exciting invention at the time - before smartphones and WhatsApp calls,\" she said. \"It's so easy to assume that we've always been able to freely talk to people across the world but that's such a recent development really.\" Anna Simpson, from digital marketing firm Cedarwood Digital, posted on LinkedIn that she would video-call her grandparents on Skype after they moved to France nearly 20 years ago. \"Back then, it felt like magic,\" she wrote. \"There were no dodgy international call charges, just a quick dial-up and some pixelated faces keeping us connected. \"Skype led the way for video calls. But now it's officially done. Microsoft is pulling the plug, but honestly... it's been on life support for years.\" When Microsoft bought Skype, the company was buying into an app that had been downloaded one billion times and had hundreds of millions of users. \"Together we will create the future of real-time communications,\" Microsoft chief Steve Ballmer said at the time. But as WhatsApp and Facebook Messenger grew in popularity, Skype was waning. In 2017, Microsoft redesigned Skype, with some features looking very much like rival Snapchat. Users were not happy. At the time, Rachel Kaser, a reporter at The Next Web, said: \"People are annoyed by this update to the Skype app because it's fixing something that was never broken to begin with.\" In June 2021, speculation persisted that it was the beginning of the end for Skype. When Microsoft announced Windows 11, its new operating system, it stated that Microsoft Teams would be integrated by default, while Skype, for the first time in years, was not. Teams had seen a boost in popularity during the Covid pandemic as people moved their work and personal meetings online.  As the news of Skype's closure was announced, Microsoft published a blog post from Jeff Teper, the company's president of collaborative apps and platforms. In it, he said the company wants to streamline its free services to focus on Teams. \"With Teams, users have access to many of the same core features they use in Skype, such as one-on-one calls and group calls, messaging, and file sharing,\" he said. \"Additionally, Teams offers enhanced features like hosting meetings, managing calendars, and building and joining communities for free.\" Skype users now have a choice – move over to Microsoft Teams or export their Skype data including chats, contacts and call history, the post added. For Skype customers who pay for some features, Microsoft said they will be able to use their service up until their next renewal period. Copyright 2025 BBC. All rights reserved.  The BBC is not responsible for the content of external sites. Read about our approach to external linking.  "
        ],
        [
         "6",
         "https://www.bbc.com/news/articles/clydd7zeye7o",
         "2025-02-28T15:01:53.807Z",
         "Ana Faguy",
         "US judge says mass firings of some federal workers likely illegal",
         "A California judge has said the mass firings of probationary employees by the Trump administration were likely unlawful. ",
         "A California judge has said the mass firings of probationary employees by the Trump administration were likely unlawful.  The ruling said the Office of Personnel Management (OPM) had told thousands of employees across a handful of federal agencies they were fired using authority the agency does not have, US District Judge William Alsup ruled. \"[OPM] does not have any authority whatsoever, under any statute in the history of the universe, to hire and fire employees at another agency,\" he said. \"They can hire and fire their own employees.\" In court the government argued OPM asked, not ordered, the agencies to fire these employees.  They also argued that probationary employees are not guaranteed employment and that only the highest performing and mission-critical employees should be hired. Government workers have been the target of the Trump administration's efforts to reduce the federal workforce in the name of cutting costs.  Many employees affected by the firings are probationary employees - usually those in their first or second year in a job - though they can sometimes be long-time employees who were recently promoted. There are some 200,000 probationary employees in the federal workforce. Judge Alsup ordered OPM to revoke its directives to multiples agencies - including the Department of Veterans Affairs, the National Park Service, and the Defence Department - to terminate employees.  He issued a temporary restraining order which puts a momentary pause on the government's actions until a judge revisits the matter in the coming weeks.  The case began after a coalition of labour unions and non-profit organisations sued the government, arguing OPM unlawfully fired individuals by falsely claiming workers were performing poorly.   Everett Kelley, the National President of the American Federation of Government Employees, called the ruling a victory for Americans were were \"illegally fired\" from their jobs by an agency with \"no authority to do so\".  \"These are rank-and-file workers who joined the federal government to make a difference in their communities, only to be suddenly terminated due to this administration's disdain for federal employees and desire to privatize their work,\" he said.  OPM declined the BBC's request for comment. The White House said the deal, which would give the US access to mineral deposits, was not signed on Friday. The US president clashes with Ukraine's leader in fiery Oval Office exchange over ending the war with Russia. The president ignored the questions that were shouted as he was leaving the White House. The US and Ukrainian presidents, who have traded barbs in the past, began a new war of words this week. US President Donald Trump and Volodymyr Zelensky disagree during the Ukrainian president's US trip.  Copyright 2025 BBC. All rights reserved.  The BBC is not responsible for the content of external sites. Read about our approach to external linking.  "
        ],
        [
         "7",
         "https://www.bbc.com/news/articles/cvgee7rl24ro",
         "2025-02-27T22:22:26.531Z",
         "Sam Francis and Becky Morton",
         "Key takeaways from Starmer's talks with Trump",
         "UK Prime Minister Sir Keir Starmer has met US President Donald Trump during his first visit to the White House. ",
         "UK Prime Minister Sir Keir Starmer has met US President Donald Trump during his first visit to the White House.  Here are some of the key moments as the pair took questions from reporters before and after the talks.  Sir Keir did not turn up to the meeting empty-handed.  Part-way through their opening remarks, the prime minister reached inside his jacket pocket and pulled out an official letter from King Charles III - an invitation for a second state visit. Trump appeared to be genuinely taken back for a few seconds, asking: \"Am I supposed to read it right now?\" After taking a minute to read the letter, Trump said he accepted the invitation and that it would be an \"honour\" to visit the \"fantastic\" country. He added that King Charles was a \"beautiful man, a wonderful man\".  LIVE: Latest updates following Starmer-Trump meeting Trump's letter from the King: What does it say and what does it mean?  During Trump's first term as president, he met King Charles's mother, the late Queen Elizabeth II, during a three-day state visit in 2019. Sir Keir said Thursday's invitation to host Trump once more for a second full state visit was \"unprecedented\". While cordial, the initial meeting in the Oval Office between Sir Keir and Trump left no doubt that the US president hoped to be firmly in charge. The meeting was a pattern we've now seen six times with foreign leaders at the Trump White House, including with French President Emmanuel Macron earlier this week: Trump taking control of the room and using the opportunity to get his own messages, both domestic and international, across to the reporters there. During their half-hour session, Trump leaned forward and slightly towards Sir Keir - wearing a nearly identical, but slightly different coloured tie to Trump's -  dominating the conversation and taking charge of calling on reporters. A joint afternoon news conference later began with a slightly more diplomatic and matter-of-fact tone, with both Trump and Sir Keir standing at their respective lecterns and going to considerable lengths to lavish praise on the other.  Trump joked he would have been president 20 years ago with Sir Keir's \"beautiful\" accent.  At one point, Sir Keir was asked about Trump's controversial call to make Canada – a member of the Commonwealth – the 51st state of the US. \"I think you're trying to find a divide that doesn't exist,\" Sir Keir replied. Trump interjected quickly with the words \"that's enough\" before moving on – again taking control of the room as he stood next to a visibly surprised Sir Keir. To put it gently, Sir Keir and Trump are from different schools of politics - both in their style and substance. But asked to name their similarities Trump said: \"He loves his country, and so do I.\" What else do they share? Trump said: \"We like each other, frankly, and we like each other's country.\" But the \"common thread\" between the two men was that \"we love our country\", Trump said. Sir Keir had a number of tricky topics to raise with Trump - from trade to US security guarantees for Ukraine - and at the beginning of their news conference the president called his counterpart \"a very tough negotiator\".  Asked if the prime minister had convinced him not to impose trade tariffs on the UK, Trump said \"he tried\", adding: \"He was working hard, I'll tell you that. He earned whatever the hell they pay him over there.\" But he has said there was \"a very good chance\" of a trade deal \"where tariffs wouldn't be necessary\".  Such a deal, Trump said, could be made \"pretty quickly\".  Sir Keir spoke of a \"new economic deal with advanced technology at its core\".  Trump said he was \"inclined to go along with\" the UK's Chagos Islands deal. The UK is in talks with Mauritius about handing over the territory but continuing to lease one of the islands, Diego Garcia, which contains a UK-US military airbase. The agreement has been mired in uncertainty after Trump's re-election as US president, given several US Republicans have argued it could deliver a potential security boost to China. But during the meeting, Trump said he had a \"feeling\" the deal was going to \"work out very well\". Last week, Trump made headlines by calling Ukrainian President Volodymyr Zelensky a \"dictator\" in a social media post, echoing Russian claims about Kyiv's cancelled elections. An election was scheduled for May 2024, but it was suspended because Ukraine has been under martial law since Russia began its full-scale invasion. Asked by the BBC's Chris Mason about his use of the word \"dictator\", Trump replied: \"Did I say that? I can't believe I would say that.\" In the news conference later, Trump also appeared to have softened his attitude to Zelensky, praising him as \"very brave\" and saying the pair got on \"really well\".  Talking about the potential for a peace deal between Ukraine and Russia, Trump said \"progress towards peace\" would continue when Zelensky visits the White House on Friday. The two are expected to sign a major minerals deal. At the Munich Security Conference last week, US Vice President JD Vance attacked the UK and other European democracies, warning that \"free speech is in retreat.\" Asked about the comments, Trump called on his deputy to defend himself. Vance argued \"there have been infringements on free speech that actually affect not just the British\" but also \"American technology companies and by extension, American citizens\". That led to Sir Keir cutting in, saying \"we've had free speech for a very, very long time in the United Kingdom - and it will last for a very, very long time\". He rejected Vance's claim, saying \"in relation to free speech in the UK, I'm very proud of our history there\". Sign up for our Politics Essential newsletter to read top political analysis, gain insight from across the UK and stay up to speed with the big moments.  It'll be delivered straight to your inbox every weekday. The White House said the deal, which would give the US access to mineral deposits, was not signed on Friday. The president ignored the questions that were shouted as he was leaving the White House. The US and Ukrainian presidents, who have traded barbs in the past, began a new war of words this week. US President Donald Trump and Volodymyr Zelensky disagree during the Ukrainian president's US trip.  The US president accused the Ukrainian leader of being disrespectful in a tense meeting in the Oval Office. Copyright 2025 BBC. All rights reserved.  The BBC is not responsible for the content of external sites. Read about our approach to external linking.  "
        ],
        [
         "8",
         "https://www.bbc.com/news/articles/c1kjj032d8do",
         "2025-02-27T22:56:17.800Z",
         "Sarah Smith",
         "Starmer charms Trump, but any deals will have to wait",
         "In Donald Trump's White House, the vibes really matter. The personal relationships he develops with other leaders can affect how those nations are treated. ",
         "In Donald Trump's White House, the vibes really matter. The personal relationships he develops with other leaders can affect how those nations are treated.  So it was vital for British Prime Minister Keir Starmer to not only master the details of their discussions on Thursday but also to build a rapport with the US president.  The invitation from King Charles clearly set the right tone. Trump looked truly flattered that he would become the first person to enjoy a second state visit to the UK. \"And that's a great honour, because it's never happened before,\" the US president said at the start of their joint news conference. \"I really do call it an honour, but it's not for me, it's for our country. It's respect for our country.\" But the very diplomatic language deployed by Sir Keir over the war in Ukraine – like praising Trump for creating the conditions in which a ceasefire is being discussed – could not disguise significant disagreements over what a peace deal may end up looking like. While Trump says he feels he can trust Russian President Vladimir Putin to stick to any deal, Sir Keir talked of the need to make sure that any truce endures and does not favour the aggressor. The prime minister's message about increasing defence spending in the UK was clearly very welcome - but he did not walk away with any commitment from the US to participate in ongoing security guarantees for Ukraine once a peace deal has been signed. The two men first met in the Oval Office just before lunch. But the friendly body language and warm atmosphere of that moment did not seem quite so pronounced when they emerged after lengthy talks about three hours later. \"You are a very tough negotiator… I'm not sure I like that, but okay,\" Trump told Sir Keir as they appeared before reporters after their meeting. And he did not seem to be entirely joking. On the prospect of trade tariffs being imposed on UK exports to the US, the prime minister did seem to have made some progress.  Trump said Sir Keir had worked hard and \"earned whatever they pay him over there\"  in making the case for a trade deal between the two countries instead. That would count as a significant victory for Britain, though any proposed deal would inevitably require lengthy and detailed negotiations. Before this meeting it was unclear how the Labour leader's serious and sober demeanour would go down with the bombastic American president.  But carefully worded praise and flattery set the tone for the PM's first visit to the White House, with Sir Keir saying next to his US counterpart that \"the UK has a true friend in the Oval Office\".  And he was speaking Trump's language when he highlighted how the two countries were ranked one and two in the world as investment destinations, and for golfers too.  Trump responded enthusiastically to the promise of a new chapter in an historic partnership. \"What a beautiful accent,\" he quipped when the prime minister finished his remarks. \"I'd have been president 20 years ago if I had that accent.\" There also appeared to be genuine respect toward the president over the issues on which the two leaders see eye to eye. On other significant matters, they seemed to have agreed to disagree. Which is probably as much as Sir Keir could hope for. Tomorrow it is Volodymyr Zelensky's turn in the Oval Office. A week after Trump called him a dictator, he distanced himself from that description - and his opinion of the Ukrainian president seemed to have softened.  \"I think we're going to have a very good meeting tomorrow morning. We're going to get along really well.\" Follow the twists and turns of Trump's second presidential term with North America correspondent Anthony Zurcher's weekly US Politics Unspun newsletter.  Readers in the UK can sign up here. Those outside the UK can sign up here. The White House said the deal, which would give the US access to mineral deposits, was not signed on Friday. The US president clashes with Ukraine's leader in fiery Oval Office exchange over ending the war with Russia. The president ignored the questions that were shouted as he was leaving the White House. The US and Ukrainian presidents, who have traded barbs in the past, began a new war of words this week. US President Donald Trump and Volodymyr Zelensky disagree during the Ukrainian president's US trip.  Copyright 2025 BBC. All rights reserved.  The BBC is not responsible for the content of external sites. Read about our approach to external linking.  "
        ],
        [
         "9",
         "https://www.bbc.com/news/articles/cedll3282qzo",
         "2025-02-28T14:11:21.951Z",
         "Faisal Islam",
         "Faisal Islam: Any Starmer deal with Trump is all about avoiding tariffs",
         "The US-UK trade deal warmly suggested by President Donald Trump should help insulate the UK from the direct impact of global trade tensions.",
         "The US-UK trade deal warmly suggested by President Donald Trump should help insulate the UK from the direct impact of global trade tensions. It signals that the White House has accepted the statistical logic that the US and UK have a balanced trade position. Essentially each country roughly exports the same amount of goods to one another. Indeed, rather helpfully, according to the US numbers it exports more. There is no general case that the UK is, in the words and logic of the president,  \"ripping off\" or \"screwing\" the US, as he has suggested of many other countries and the EU. So a deal to avoid the further trade barriers is very much on the cards. But this is not the wideranging US-UK free trade agreement to lower almost all existing tariffs, that was the subject of so much debate in the Brexit era. It is important to remember that the wider deal was never properly prioritised by Trump's own team, because, as they told me, they never truly believed that the UK would find it in its interest to make the necessary hard break from the EU. It is difficult to see that the UK government would want to further aggravate farmers, or its own base, by putting US farm imports or NHS pricing on the table. In addition, on goods trade, the government is already prioritising its \"Brexit reset\" - a food standards deal, and some customs arrangements to bring down newish trade barriers with the European Union. Tellingly, the top official on that negotiation was in the Oval Office. The narrower \"economic deal\", as it was termed by Sir Keir Starmer, centres around technology and what the UK has referred to as the \"further integration of our two countries' tech sectors\". Perhaps the best analogy is that the tech expertise held within the London-Oxford-Cambridge triangle could become for a booming AI-driven Silicon Valley what London's financial City became to New York's Wall Street. The fact that Vice President and big tech ally JD Vance will be leading some of the US negotiation is key here. This strategy will have consequences. Trump's team are already railing against digital services taxes.  The UK's digital services tax was introduced in 2020 and imposes a 2% charge on revenues made by big tech firms running social media, internet search engines or online marketplaces. While the £700m-£1bn a year it raises in the UK is smallish beer, since the UK and France introduced a hit to big tech's revenues, many other countries have followed suit. The White House wants to \"stop the contagion\", and that could mean persuading the UK to lower or abolish it. Chancellor Rachel Reeves advocated raising it from 2% to 12% just four years ago. Likewise the vice president in the Oval Office mentioned US tech firms being unfairly affected by what he called \"freedom of speech\" issues. This appears to be a reference to the Online Safety Act. This aims to make social media firms and search engines protect children and adults in the UK from illegal, harmful material, although some have argued it risks stifling free expression online. My understanding is that, right now, movement may be less likely here. The prize will be integration into the massive investments from the best capitalised tech companies in the world. Could the UK start to attract back some of the investments lost to Dublin, for example? Would the EU stand back and allow the UK to develop as an offshore hub for US tech companies to service the whole of Europe? There are two other significant issues. It is not unknown for warm words in the Oval Office to be somewhat contradicted by actions soon after. While sat next to the PM, President Trump described the EU's levying of VAT as a trade restriction, seemingly unaware that the UK does exactly the same thing. And even if it avoids direct new tariffs from President Trump, the open UK economy would be affected by any wide-ranging trade war involving most of the G7 and other countries. That is still on the cards. Not only would that collapse world growth and potentially spike up inflation again, but could upend entirely the workings of the World Trade Organization. The PM says the UK doesn't have to choose between the US and other allies, but it may appear like that to them. The strategy appears to be to become the Switzerland of global economics. Neutrality in a world of trade turmoil, not so much sat on a fence, but tiptoeing along a rather wobbly one. He also said he would move ahead with 25% tariffs on imports from Mexico and Canada, which had been paused. Transport Secretary Heidi Alexander says she is \"minded to approve\" the expansion, which faces opposition. Tariffs are a central part of Trump's political vision, but economists warn they could put prices up. The White House said the metal was vital to national security.  The iPhone giant's $500bn investment plan includes a new factory in Texas, as well as money spent on suppliers.  Copyright 2025 BBC. All rights reserved.  The BBC is not responsible for the content of external sites. Read about our approach to external linking.  "
        ],
        [
         "10",
         "https://www.bbc.com/news/articles/c170l0n8j54o",
         "2025-02-27T09:07:33.049Z",
         "Sam Granville and Christal Hayes",
         "Three possible paths to freedom: What's next for the Menendez brothers?",
         "After 35 years behind bars, Lyle and Erik Menendez are closer than ever to a potential second chance at freedom.",
         "After 35 years behind bars, Lyle and Erik Menendez are closer than ever to a potential second chance at freedom. The brothers, who were convicted of killing their parents, José and Kitty Menendez, in 1989, have long maintained that the murders in their Beverly Hills mansion were driven by years of sexual and physical abuse, rather than hopes of inheriting their fortune. They are currently serving life in prison without the possibility of parole in California. A mix of new evidence and public interest has thrown the case, one that has both gripped and divided the nation for decades, upside down.  It's all reached a pivotal moment.  A resentencing hearing is set in March, which could lead to their sentences being reduced - or even their freedom. Separately, California Gov Gavin Newsom has ordered the state's parole board to conduct a risk assessment, a key step toward possible clemency, which could take form in a reduced sentence or a pardon.  The movement in the historic criminal case is significant, but not everyone is happy at the prospect of them potentially walking free.  There are three possible routes the brothers have been trekking in hopes of gaining their freedom.  1. Clemency from the Governor of California Clemency could mean a reduced sentence or even a pardon, but it would not overturn the brother's convictions. California Gov. Gavin Newsom has ordered the parole board to conduct a risk assessment to determine if the brothers pose a danger to society. Depending on the results, the governor could grant clemency, commuting their sentences to make them eligible for parole or even releasing them outright. The probe will examine the factors behind their crimes and their rehabilitation while in prison. It marks the first step in a broader process that could lead to clemency. 2. A new trial The brothers' defence attorneys have also asked for a new trial.  They pointed to new evidence about the alleged sexual abuse by their father and argued jurors should be able to consider a lesser sentence, such as manslaughter. But newly elected Los Angeles County District Attorney Nathan Hochman said his office will oppose the request.  3. Resentencing The last avenue is likely the most significant. The brothers are being vetted for resentencing, a legal process that could reduce their life sentences and grant them eligibility for parole.  A hearing is scheduled for 20 March and 21 March to discuss this possibility.  This effort centres on whether the brothers have rehabilitated after 35 years in prison and whether recent changes in California law apply to their case. In October 2024, then-LA County District Attorney George Gascón recommended resentencing for the brothers, citing California's evolving approach to juvenile offenders and abuse survivors. Shortly after the announcement, he lost a re-election campaign. The decision now rests with current DA Nathan Hochman, who was elected in November, and is examining the case before making a decision on whether to back the effort in court.  One key argument for resentencing stems from a change in California law that allows offenders who were under the age of 26 at the time of their crime to be sentenced as minors rather than adults. Since Lyle was 21 and Erik was 18 when they killed their parents, their defence attorneys argue that this law should apply to them. If they had been sentenced under today's legal framework, they might have received lighter sentences or had the possibility of parole from the beginning, their attorneys argue.  Neama Rahmani, a criminal defence attorney and former federal prosecutor, told the BBC that a \"perfect storm of PR and politics\" has led to the Menendez brothers having a real shot at freedom. He noted the recent attention the case has gotten from celebrities, a Netflix drama and docuseries on the case, and an \"embattled\" district attorney who was vying to remain in office. \"You're never going to see another case like this. It's a unicorn.\" The Menendez brothers filed a motion in May 2023 detailing new evidence in their case they claim shows they were victims of childhood sexual abuse by their father, Jose Menendez, and requested their convictions be vacated.  This includes an allegation of rape from a former member of Menudo, Roy Rosselló, and a letter Erik Menendez wrote to a cousin eight months before the murders, which detailed the alleged abuse. Gascón, who was the top prosecutor in LA at the time, announced just 12 days before a tough re-election in November 2024 that he would back the resentencing request. He has denied the announcement was political and argued it was a long-time coming.  Gascón lost his re-election bid and was replaced by voters with the more moderate Hochman, whose view of the case remains unclear.  The decision also came amid renewed attention in the case spurred by a new Netflix drama, Monsters: The Lyle and Erik Menendez Story as well as the release of docudrama, The Menendez Brothers. The series introduced the case to a new generation and garnered attention from celebrities - including Kim Kardashian and Rosie O'Donnell - who called for the brothers to be released.  More than two dozen members of the Menendez family have issued public pleas for Erik and Lyle to be released.  Those family members alleged the boys endured horrific sexual abuse at the hands of their father and are not a threat to society. Kitty Menendez's sister, Joan Anderson VanderMolen, argued “the whole world wasn’t ready to believe that the boys could be raped, or that young men could be victims of sexual violence\". She said that now “we know better\" and \"a jury today would never deliver such a harsh sentence\". But the family isn't in total agreement.  A lawyer for Kitty Menendez’s brother, Milton Andersen, has called the brothers \"cold-blooded\" and said their \"actions shattered their family and left a trail of grief that has persisted for decades.\" \"Jose was shot six times, and Kitty was shot ten times, including a shot to her face after Erik reloaded.\"  Mr Andersen believes his nephews should stay in prison for their \"heinous act\",  according to his lawyer, Kathy Cady. Motive has long been at the heart of this case.  During their trials, prosecutors painted the brothers as spoiled rich kids who killed their wealthy parents in their Beverly Hills mansion so they could access a $14m (£10.7m) fortune. They argued the duo methodically bought shotguns and fatally shot their parents a total of 13 times as the couple watched TV. They then went gambling, to parties and on shopping sprees, buying things like Rolex watches. It was ultimately a confession to a psychologist that helped lead to their arrest when the girlfriend of their doctor reported it to authorities. The brothers ultimately admitted to the killings - but argued they acted out of self-defence after years of emotional, physical and sexual abuse. They told the court they feared their parents would kill them if they didn’t act first. Lyle and Erik testified they confronted their parents about the sexual abuse and things had become combative in their household and they believed their parents were planning to kill them. Family members testified about the abuse they witnessed - but none said they saw sexual abuse first-hand. Both brothers married while serving life sentences without the possibility of parole. Lyle Menendez has been married twice. In 1996, he wed Anna Eriksson, a former model, after they developed a relationship through letters. Their marriage ended in divorce in 2001. Two years later, in 2003, he married Rebecca Sneed, a magazine editor. Sneed has remained out of the public eye but has maintained her commitment despite the challenges of prison life. Erik Menendez also found love behind bars. In 1999, he married Tammi Saccoman after a pen-pal romance developed into a deeper connection.  In 2005, she published a memoir, They Said We'd Never Make It, chronicling their unconventional marriage and the difficulties of loving someone serving a life sentence. She has described their relationship as \"fulfilling and deeply emotional,\" despite never being able to share a traditional life together. Court records also detail more about their lives behind bars.  A motion filed in support of their resentencing bid details they both received educational degrees. It also details various programmes they launched behind bars that aimed to help other inmates, including those who were victims of childhood trauma and disabled or elderly inmates. All of this was done, the report notes, \"without any expectation or hope of ever being released\". The White House said the deal, which would give the US access to mineral deposits, was not signed on Friday. The US president clashes with Ukraine's leader in fiery Oval Office exchange over ending the war with Russia. The president ignored the questions that were shouted as he was leaving the White House. The US and Ukrainian presidents, who have traded barbs in the past, began a new war of words this week. The US president accused the Ukrainian leader of being disrespectful in a tense meeting in the Oval Office. Copyright 2025 BBC. All rights reserved.  The BBC is not responsible for the content of external sites. Read about our approach to external linking.  "
        ],
        [
         "11",
         "https://www.bbc.com/news/articles/c4gm9851559o",
         "2025-02-26T09:43:26.264Z",
         "Steven McIntosh",
         "12 things we spotted in the Oscars class photo",
         "Ariana Grande, Timothée Chalamet and Demi Moore were among the Oscar nominees who gathered in Los Angeles on Tuesday for the annual \"class photo\". ",
         "Ariana Grande, Timothée Chalamet and Demi Moore were among the Oscar nominees who gathered in Los Angeles on Tuesday for the annual \"class photo\".  Ahead of the Academy Awards on Sunday (2 March), the nominees from all categories were invited to mingle over dinner and cocktails, as an eventful awards race reaches its conclusion. The class photo, a highlight of the film calendar, is usually taken much earlier in awards season, at the nominees luncheon, but that event was cancelled this year due to the LA wildfires.  Here are 12 things we spotted in this year's class photo: Cynthia Erivo and Ariana Grande have spent the last few months crying, holding space and stroking each other's fingers as they promoted the screen adaptation of Wicked.  The two actresses have redefined the film press tour in recent weeks thanks to their absolute adoration for each other - an energy they will have to recreate later this year when they do it all again for the release of part two. Before the photo was taken, instead of saying cheese, Erivo shouted: \"Everyone say 'Oscar nominee!'\" Last week, it was confirmed the pair will perform a medley of songs from the film during the Oscars ceremony which will last a reported 10 minutes long.  Wicked is the closest thing the Oscars have this year to a box office smash in the shape of last year's Barbie, and they'll be hoping the medley will recreate the energy of Ryan Gosling's viral performance of I'm Just Ken last year. We're aware the weather is getting warmer and the sun is rising earlier as we hurtle towards Spring, but we are nevertheless always on the lookout for a colourful cosy jumper and we need to investigate the origin of this one as an urgent priority.  The woman with the impeccable sweater selection in the class photo is Maya Gnyp - a producer of I Am Ready, Warden - which is nominated for best documentary short.  The film follows Texas death row inmate John Henry Ramire in his final days. Joining Ariana and Cynthia on the front row were fellow acting nominees Zoe Saldaña, Mikey Madison and Monica Barbaro. Saldaña is almost certain to win best supporting actress for Emilia Pérez, having taken the trophy at a string of precursor events including the Baftas, SAG Awards and Golden Globes.  As a result, her fellow category nominees such as Barbaro, who plays Joan Baez in Bob Dylan biopic A Complete Unknown, have had to practise their best \"I'm just happy to be nominated\" faces this year.  Madison, however, is a co-frontrunner in a tight race for leading actress. The Anora star is up against Demi Moore for The Substance in a category seen as a dead heat. James Mangold, nominated this year for A Complete Unknown, is one of Hollywood's most respected and loved directors. So why is he sitting on an aisle seat in the second-back row, away from all his pals, looking sheepish?  It's probably because he only just made the class photo by the skin of his teeth, arriving late to the event to an affectionate collective groan followed by cheers from his fellow nominees.  Despite a distinguished Hollywood career, Mangold is a first-time nominee in the best director category, as are his fellow nominees Coralie Fargeat, Sean Baker, Brady Corbet and Jacques Audiard. In a year where disappointingly few of the stars pulled funny faces or made eye-catching hand gestures while the photo was being taken, we applaud the team from Black Box Diaries for joining hands and celebrating. They are the film's director Shiori Ito (second left), editor Ema Ryan Yamazaki (far right) and producers Hanna Aqvilin and Eric Nyari. The movie, nominated in the documentary feature category, examines a sexual assault investigation in Japan.  Sitting in the back row, so far from the photographer that their faces are somewhat blurry and out of focus, are three of the biggest stars in this year's awards race. In the centre is The Substance star Demi Moore, nominated for playing an ageing aerobics instructor who takes a black-market drug to create a younger, more beautiful version of herself.  She is joined on either side by supporting actor nominees Guy Pearce (left), who is recognised for his role in The Brutalist, and Edward Norton, who is nominated for playing Pete Seeger in A Complete Unknown.  Also hanging out in the front row were songwriter Bernie Taupin and singer-songwriter Brandi Carlile.  The pair are nominated in the best original song category for writing Never Too Late, the title track from Sir Elton John's recent documentary.  Sir Elton himself wasn't there, however, despite co-writing the song with the pair.  It's likely he will attend the Oscars on Sunday, but he won't be singing his song as the Academy has done away with having the original song nominees perform during the ceremony this year. Instead, Doja Cat, Lisa from Blackpink, Queen Latifah and Raye will be among the other performers during the ceremony alongside the Wicked medley. Timothée Chalamet joined his fellow nominees just days after springing a surprise win at the SAG Awards for A Complete Unknown.  In his speech, the actor talked about his desire to be \"one of the greats\" of Hollywood. However, the actor has not been campaigning as aggressively as frontrunner Adrien Brody, and for the class photo, Chalamet took an aisle seat, leaned out and put his fist to his chest.  Seated just in front of him are Anora's director Sean Baker and his producer wife Samantha Quan. Adding further star power to the blurry back row were best actor contenders Adrien Brody, Colman Domingo and Sebastian Stan.  Brody is the frontrunner to win, for his role in the Brutalist as a Hungarian architect who moves to the US after World War Two and is taken under the wing of a wealthy businessman.  Sing Sing star Domingo plays a prison inmate who joins a performing arts programme, while Stan is nominated for portraying a young Donald Trump. The Brits nominated in the acting categories this year are The Brutalist's Felicity Jones, Wicked's Cynthia Erivo, and Conclave's Ralph Fiennes. The actor was on Fiennes form, sitting in the back row alongside Sing Sing's John \"Divine G\" Whitfield. Fiennes is unlikely to win best actor, but if Conclave wins the top Oscar, he'll become the first actor ever to have appeared in four best picture winners. Understandably, not every nominee was available to attend the dinner - best supporting actor frontrunner Kieran Culkin was among the stars missing from the class photo. But others were conspicuous by their absence, most notably Emilia Pérez star Karla Sofía Gascón. The actress is persona non grata in Hollywood at the moment, after some historic tweets she posted resurfaced in recent weeks, severely damaging the film's awards chances in many categories.  However, it's been confirmed she will attend the Oscars ceremony itself on Sunday - although it remains to be seen if she will walk the red carpet and sit with her co-stars. Sing Sing star Clarence Maclin was widely considered the most notable absence in the best supporting actor category this year. But he is still nominated at the Oscars thanks to his story credit on the film, which means he is recognised in the best adapted screenplay category. Maclin was one of the real-life inmates at the Sing Sing jail, after being sentenced to 17 years in jail for robbery, aged 29, and was a member of the prison's Rehabilitation Through the Arts (RTA) programme.  In the class photo, Maclin, who plays a version of himself in Sing Sing, is either checking his watch or possibly about to sneeze.  Look back on previous class photos: 2024: 10 things we spotted from Margot Robbie to Billie Eilish 2023: Brendan Fraser has a 'whale of a time 2020: From Quentin Tarantino to a Frozen couple 2019: Lady Gaga and Bradley Cooper among stars 2018: Cardboard cutouts and splashes of colour 2017: Pharrell Williams dresses down Note: there were no class photos taken during Covid Some fans aren't happy with the characters' updated appearance, 15 years on from the last Shrek film. Sarah Dattani Tucker says her South Asian heritage made her think she wouldn't be able to succeed in the industry. Authorities say there was no sign the couple had sustained any injuries, but no cause of death has been given. The actress's career has enjoyed a recent resurgence thanks to a role in the film The Last Showgirl. Morgan Freeman describes the actor as \"incredibly gifted\" while Clint Eastwood said he was \"extremely saddened\" by the news.  Copyright 2025 BBC. All rights reserved.  The BBC is not responsible for the content of external sites. Read about our approach to external linking.  "
        ],
        [
         "12",
         "https://www.bbc.com/news/articles/cd7ev3wygl4o",
         "2025-02-28T17:33:16.176Z",
         "Noor Nanji",
         "Francis Ford Coppola named worst director at Razzies",
         "Francis Ford Coppola, one of Hollywood's greatest filmmakers, has been named worst director for his self-financed project Megalopolis in this year's Razzies.",
         "Francis Ford Coppola, one of Hollywood's greatest filmmakers, has been named worst director for his self-financed project Megalopolis in this year's Razzies. Announced two days before the Oscars reward Hollywood's finest, the Razzie Awards name and shame the year's worst films. In an Instagram post, Coppola said he was \"thrilled\" to accept the award, \"at a time when so few have the courage to go against the prevailing trends of contemporary movie-making\". Madame Web picked up the award for worst picture, screenplay and actress for its star Dakota Johnson, while Joker: Folie à Deux also collected two awards. The organisers have described their awards as the \"ugly cousin to the Oscars\". Megalopolis, an epic fantasy starring Adam Driver, Shia LaBeouf, Aubrey Plaza and Nathalie Emmanuel, cost Coppola a reported $120m (£95m). It also faced controversy after the trailer was withdrawn by studio Lionsgate, because the clip included fabricated quotes from real film critics about the filmmaker's previous works. \"Even a cinematic maestro occasionally musters up a misfire,\" the Razzies said, in a press release announcing Coppola's win. It comes almost exactly 50 years after Coppola won a best director Oscar for The Godfather part II. In his Instagram post, Coppola said: \"In this wreck of a world today, where art is given scores as if it were professional wrestling, I chose to not follow the gutless rules laid down by an industry so terrified of risk that despite the enormous pool of young talent at its disposal, may not create pictures that will be relevant and alive 50 years from now.\" He concluded his post by thanking everyone who worked on the film, adding: \"Box office is only about money, and like war, stupidity and politics has no true place in our future.\" Elsewhere, Madame Web, the fourth film in Sony's Spider-Man Universe, picked up three awards after being branded a \"tangled mess\" by critics. Starring Johnson and Sydney Sweeney, both the film premise and the acting came under fire in a string of one-star reviews. Based on Marvel Comics, the film centres around a paramedic with arachnid-based psychic powers. The trailer went viral in 2023 for its \"laughably unsure tone\". Worst Prequel, Remake, Rip-off or Sequel and Worst Screen Combo were both \"won\" by Joker: Folie à Deux. The film, starring Joaquin Phoenix, was a much-anticipated sequel to its predecessor, 2019's Joker, but it largely disappointed critics. There was better news, however, for Pamela Anderson, who earned this year's Razzie halo for her role as a fading dancer in The Last Showgirl. Other winners include Jon Voight as Worst Supporting Actor for Megalopolis, Reagan, Shadow Land and Strangers, as well as Jerry Seinfeld (Worst Actor) and Amy Schumer (Supporting Actress) both for Unfrosted. Some fans aren't happy with the characters' updated appearance, 15 years on from the last Shrek film. The film, which features Brighton Festival Youth Choir on the soundtrack, is already a Bafta winner. Sarah Dattani Tucker says her South Asian heritage made her think she wouldn't be able to succeed in the industry. Shiori Ito became the face of Japan's MeToo movement after she accused a prominent journalist of rape. Authorities say there was no sign the couple had sustained any injuries, but no cause of death has been given. Copyright 2025 BBC. All rights reserved.  The BBC is not responsible for the content of external sites. Read about our approach to external linking.  "
        ],
        [
         "13",
         "https://www.bbc.com/news/articles/ce9882yv2nyo",
         "2025-02-28T17:32:04.791Z",
         "Riyah Collins",
         "Lil Baby criticises 'nonsense' link between music video and killings",
         "Rapper Lil Baby has described a link made between one of his music videos and the killing of two teenagers in the US as \"nonsense\".",
         "Rapper Lil Baby has described a link made between one of his music videos and the killing of two teenagers in the US as \"nonsense\". Jakody Davis and Lamon Freeman died following a gang-related shootout at Lamon's 13th birthday party in Atlanta, Georgia, last summer. And while city detectives did not name Lil Baby, real name Dominique Armani Jones, they said the boys had been innocent victims of a flare up of gang violence sparked by a \"cowardly rapper\" filming a video in rival territory.  In a statement via lawyers, Lil Baby, who spent weeks in the UK charts for Band4Band with Central Cee, said he had \"absolutely no involvement\" and branded the comments from police \"shameful\". During a press conference on Wednesday, detectives from City of Atlanta Police said how Jakody and Lamon weren't the intended targets of the shooting at the Sparks Street apartment complex in the city on 2 July 2024. They detailed how the attack had been \"orchestrated\" from prison and involved members of \"one of the most hyperviolent gangs in the city of Atlanta\". Addressing reporters, Maj Ralph Woolfolk said \"the overall theme of this case is grown men playing gangster that left two of our children in graves and our communities in fear\". \"Lamon Freeman was allowed to be a teenager for 27 minutes before gang violence ultimately took his life, gang violence that was orchestrated by adults and cowardly acts of an Atlanta-based rapper.\" The rapper, he said, \"decided to go over into a rival gang stronghold and shoot a music video in a place that he knew he should not have been. \"And in the subsequent days, we saw homicides and shootings and ultimately the deaths of two children as a result of his cowardly actions.\" In the months before Lamon and Jakody were shot, Atlanta police said they responded to several people being shot during a video shoot. Nobody was killed but three men in their 20s were injured in the attack in the north west of the city on 14 May which was widely reported to have taken place on set for one of Lil Baby's videos.  Lil Baby's statement said it was \"disgraceful\" for the officer \"to say that he couldn't shoot a music video in his home town\". \"The location for a major music video shoot is a decision made by a professional team and is not a decision made by any individual.\"  Maj Woolfolk told reporters the attack which killed Lamon and Jakody was a \"hit called by a high-ranking gang member on the opposite side of that opposing rapper's gang\". He did not name Lil Baby but said \"you know who you are\" which Lil Baby's lawyer called an \"obvious reference\" that was \"complete and total nonsense\".  \"Bringing his name into a conversation regarding a terrible crime for which he had absolutely no involvement is unprofessional, unethical and shameful,\" his legal team said. \"Dominique is devastated about the situation because those children came from the same neighbourhood he did and he will continue to build up his community in any way he can.\" The 30-year-old won a Grammy in 2022 for best melodic rap act after featuring on Kanye West's track Hurricane with The Weeknd.  Last year he featured on Central Cee's track Band4Band - it was nominated for a Mobo Award and is in the running to win a Brit for song of the year on Saturday.  BBC Newsbeat has contacted Lil Baby's team and Atlanta Police for further comment. Listen to Newsbeat live at 12:45 and 17:45 weekdays - or listen back here. Sarah Dattani Tucker says her South Asian heritage made her think she wouldn't be able to succeed in the industry. Young Spencer is the alter-ego of Gareth Spence, and raps about drugs, paramilitaries and identity. The Scots pop icon will be joined by Nina Nesbitt and Eddi Reader at this summer's HebCelt. James Atkins has been passing on advice to students at Shrewsbury College. Copyright 2025 BBC. All rights reserved.  The BBC is not responsible for the content of external sites. Read about our approach to external linking.  "
        ],
        [
         "14",
         "https://www.bbc.com/news/articles/cy7xxlr2pggo",
         "2025-02-28T14:14:42.230Z",
         "Robert Plummer",
         "Ten things Trump and his team did this week",
         "President Donald Trump continued to play the global disruptor this week, while the rest of the world did its best to engage with him.",
         "President Donald Trump continued to play the global disruptor this week, while the rest of the world did its best to engage with him. His sixth week in office saw developments at home and abroad, as the US president hosted foreign leaders at the White House, including the UK's Prime Minister Sir Keir Starmer. The wars in Ukraine and Gaza also loomed large, in sometimes surprising ways. If you are after a catch-up, here is a reminder of 10 major moves from the Trump administration this week. Trump held his first cabinet meeting on Wednesday. Among those present was the president's billionaire adviser Elon Musk, who is not actually a cabinet member.  A big topic was the plan by Doge - the so-called Department of Government Efficiency, which Musk runs - to cut the size of the federal bureaucracy.  On the same day of the meeting, a memo was sent to federal agencies asking them to submit plans for \"a significant reduction\" in their staff by 13 March. French President Emmanuel Macron was the first foreign visitor to come to the White House this week. Trump hosted Macron on Monday, the third anniversary of Russia's full-scale invasion of Ukraine. After the meeting, Macron said Trump had \"good reason\" to re-establish communication with Russia's President Vladimir Putin - a notable departure from France's previous policy of isolating him. But he did not get a commitment from Trump that the US would help Europe with its security needs. UK Prime Minister Sir Keir Starmer also met the US president this week. The two discussed trade and US security guarantees for Ukraine.  Trump said there was a \"very good chance\" of a trade deal between the US and the UK where \"tariffs wouldn't be necessary\". Such a deal, Trump said, could be made \"pretty quickly\". Part way through their opening remarks, Sir Keir reached inside his jacket pocket and pulled out an official letter from King Charles - an invitation for a second state visit. Trump appeared to be genuinely taken aback for a few seconds, asking: \"Am I supposed to read it right now?\" After taking a minute to read the letter, Trump said he accepted the invite and that it would be an \"honour\" to visit the \"fantastic\" country. Ukraine and the US drafted a deal that would give the US access to Ukraine's deposits of rare earth minerals. Ukrainian President Volodymyr Zelensky was expected to travel to Washington DC on Friday to sign it.  Zelensky said he hoped the \"preliminary\" agreement with the US \"will lead to further deals\", but confirmed no American security guarantees have been agreed yet.  Notably, Trump on Thursday appeared to walk back his harsh criticism of Zelensky, whom he called a \"dictator\" last week. Asked about it on Thursday, Trump replied: \"Did I say that? I can't believe I would say that.\" Trump shared a controversial AI-generated video of Gaza, appearing to depict the besieged enclave as a Mediterranean resort run and operated by the US president. The clip, which sparked a social media frenzy, came after Trump had stated his administration's controversial plan to take over Gaza and rebuild it into the \"riviera\" of the Middle East. The US Department of Agriculture (USDA) announced a $1bn (£792m) plan to help US farmers combat a raging bird flu epidemic that has required them to kill millions of chickens and pushed the cost of eggs to an all-time high.  Officials say they will budget $500m for biosecurity measures, roughly $100m for vaccine research and development, and $400m for farmer financial relief programmes. Trump unveiled plans for selling a \"gold card\" visa for $5m (£3.9m) that will offer wealthy buyers permanent residency in the US and a path to citizenship. The president told reporters that the visas would function similarly to green cards, which allow immigrants of varying incomes to live and work permanently in the US, but would go to \"high-level people\". \"The people that can pay $5m, they're going to create jobs,\" Trump said. \"It's going to sell like crazy. It's a bargain.\" Republicans in the US House of Representatives narrowly passed a multi-trillion dollar government spending bill on Tuesday, a major boost for Trump that advances his agenda.  It includes $4.5 trillion (£3.6tn) in tax cuts, funded partially by spending reductions but also by potentially increasing the US government's substantial debt pile. However, there are still a number of steps the spending plan must go through in order to become law. Trump said he would invite the Philadelphia Eagles to the White House to celebrate their recent Super Bowl win, despite rumours that the champions might decline the invitation. \"Absolutely, they'll be extended an invitation,\" Trump said in the Oval Office on Tuesday. \"They deserve to be down here, and we hope to see them.\" The Eagles skipped a visit to the White House when they won in 2018, but the team plans to attend the event this year, US media reported. The US president clashes with Ukraine's leader in fiery Oval Office exchange over ending the war with Russia. The US president accused the Ukrainian leader of being disrespectful in a tense meeting in the Oval Office. The US axes vital HIV/Aids funding, which South Africa's health minister says is a \"wake-up call\". US police say a rapper's \"cowardly\" actions in a \"rival gang stronghold\" led to a spate of violence. The United States has never had an official language since it was founded nearly 250 years ago. Copyright 2025 BBC. All rights reserved.  The BBC is not responsible for the content of external sites. Read about our approach to external linking.  "
        ],
        [
         "15",
         "https://www.bbc.com/news/articles/cr52399eqgqo",
         "2025-02-28T00:00:23.406Z",
         "Sima Kotecha",
         "UK looks at Texas supermax prison for ideas to cut overcrowding",
         "A pungent smell of detergent and rotten food hits me as we walk through this enormous high-security prison. Inmates press themselves up against the bars to look at us. There are no smiles, only expressionless stares.",
         "A pungent smell of detergent and rotten food hits me as we walk through this enormous high-security prison. Inmates press themselves up against the bars to look at us. There are no smiles, only expressionless stares. A man with a tattoo that swirls across his face shouts, \"Where you from, ma'am?\" \"England.\" \"Hope you enjoy Estelle,\" he says. \"Do you?\" I ask. \"A lot better than where I was before.\" Welcome to the Estelle Supermax Penitentiary in Huntsville, Texas. Concrete watchtowers punctuate the perimeter of this vast space - equivalent in size to almost 3,000 football pitches - and a sign with an image of a red-maned lion and the words Stay Hungry - Feast on Success greets staff and visitors as they enter. The UK government is looking to Estelle prison for ideas - for ways to reduce reoffending and to bring down prisoner numbers in our already overcrowded jails. There's a scheme here they'd like to emulate, which gives inmates the chance to shorten their sentences by having a job while they're inside. Looking to this prison for inspiration might seem a curious choice to many, given Texas executes more people than any other US state. But ministers say by implementing schemes similar to ones used here, UK prisoners will be incentivised to gain qualifications - giving them more chance of employment once released. Just one in five offenders in England and Wales has a job six weeks after being released from custody, the latest stats show. According to the Ministry of Justice, people who are still unemployed six weeks after being released are twice as likely to reoffend as those in employment. No prison in the UK has as many inmates as they do at Estelle. More than 3,000 men in white jail-suits are currently locked up here - from murderers and rapists, to those doing time for lesser crimes like shoplifting and fraud. Two inmates are on death row. Jimmy Delgado is 52 and serving three life sentences for first-degree murder. He's already been inside for 25 years - 13 spent in solitary confinement. He's a large man with muscular shoulders and smiles broadly when we meet in the prison chapel, softly shaking my hand. He tells me he first ended up in prison aged just 16, after carrying out a robbery. He's remorseful for his crimes and says this prison - together with his faith in Jesus - has helped turn his life around by giving him purpose. He now works as a counsellor, supporting offenders who are struggling to cope with life in prison. \"I'm here for taking a life - and I'm here to save multiple lives,\" he says. \"If I can change the dynamic of family life for all these guys that are here then I've done my job - even if I never get out of prison.\" Delgado may never be released, but inmates having jobs in prison is one of the reasons why Estelle Supermax Penitentiary is appealing to the UK government. The \"good time credit\" scheme used here gives inmates the opportunity to reduce their time behind bars by participating in courses and studying for qualifications, taking up jobs, and behaving well. Credits earned are then added to the number of days the prisoner has already spent in jail, allowing them to reach their parole eligibility date sooner - when a panel decides if they're suitable for early release. This process depends on the classification of their crime and an assessment by the parole board on their overall rehabilitation. Off the long corridor that runs through the main prison building, inmates are quietly working in a small barbers. Kevin Smith is inside for minor offences. He is meticulously cutting a member of staff's hair with a pair of clippers, and says the good time credit scheme has made him feel positive about his time in prison. \"They helped me see that if I do the right thing and make the right decisions, I can do better in life,\" he says. \"I receive good time by working here, and I can get out earlier with the good time that I received - it works.\" The rates of those returning to prison within three years of release have fallen to 20.3% in Texas - a fraction of those in the rest of the United States (68%). The BBC came to Estelle to see their credit scheme in action with UK justice secretary Shabana Mahmood. \"The Texans had a system similar to ours - on the point of collapse, running out of prison places in 2007,\" Ms Mahmood says. \"They've now got a sustainable prison population - but most importantly, they've been able to massively cut the rates of reoffending here. They've got a rate of crime now that they haven't seen since the 1960s.\" She believes the Texan credit system is effective - helping prisoners get out of prison early - and stay out. \"It does help prisoners turn their backs on a life of crime.\" The Texas prison population is the highest of any state in the US, with 134,668 people in custody in the autumn of 2024 - although over the last couple of decades, since reforms were implemented, that number has reduced by nearly 20%. However, some experts say the good time credit programme is not a magic bullet. \"The incentivisation scheme has little to do with the reforms that helped bring Texas's prison population down in 2007,\" says Michele Deitch, a criminal justice policy lecturer at the University of Texas. \"And by itself it will do little to address the UK's very serious overcrowding problem.\" What would make a real difference, she says, would be diverting more people from incarceration in the first place: \"To shorten sentences, to reduce the use of recalls to prison, and to invest more heavily in rehabilitative programs in prison and in programs and services in the community.\" As well as incentivisation, the UK government is also considering the use of \"diversion programmes\" - where offenders are sent on rehabilitation courses rather than to jail. This can apply to people with addiction issues or mental health problems. It's what they do here in Texas to reduce the burden on the courts and attempt to sort the root cause of the offence. More people have been put to death in Texas than anywhere else in the US. Since the Supreme Court reinstated capital punishment in 1976, 593 prisoners have been executed. There are 176 people currently on death row - so it might seem strange the UK government could take a leaf out of their book. Even so, the justice secretary believes there is still much the UK can learn from what happens at Estelle. \"I don't think that the fact that they have the death penalty here means that we shouldn't be learning lessons from strategies that they've introduced that really work,\" Ms Mahmood says. It's a plan with \"huge potential in the UK\" according to Nick Hardwick, a former chief inspector of prisons, who believes it will make prisons safer and more productive. \"It will help ensure prisoners are doing what is necessary to reduce the risk they will reoffend and create more victims,\" he says. But not everyone agrees with incentivising convicted criminals to work towards an early release from prison. Samantha Nicholls' son was murdered in 2018. Twenty-two year old Joe Pooley was thrown into a river in Ipswich and held under the water. Three people were jailed for his murder in 2021. Joe's mother believes inmates should never be released before their sentence is complete. \"Prison is a punishment - you should do your time,\" she says. \"It needs to be a deterrent - you're there because you did something wrong.\" It's clear the UK needs to find solutions to cut prison overcrowding – and find them fast. Even the recent prisoner early release scheme will barely keep pace with more offenders being jailed. New prison buildings will take years to come on stream. But does this Texan prison have the answers? The challenge for ministers and the criminal justice system is how to stop the revolving doors on the UK's prisons - the reoffending and lack of prospects facing those who are released which draws them back into crime. Sign up for our Politics Essential newsletter to read top political analysis, gain insight from across the UK and stay up to speed with the big moments.  It'll be delivered straight to your inbox every weekday. Michael Gilworth was seen getting into a blue Ford Mondeo on Thursday evening, a police force says. The child who died was unvaccinated during an outbreak that has infected more than 120 people. Villagers near HMP Long Lartin regularly see criminal activity, and some fear reprisals. The crew capsule safely landed in the desert after reaching suborbital space. A package laden with cannabis and other illicit items was seized close to HMP Manchester. Copyright 2025 BBC. All rights reserved.  The BBC is not responsible for the content of external sites. Read about our approach to external linking.  "
        ],
        [
         "16",
         "https://www.bbc.com/news/articles/clyderx4v8go",
         "2025-02-27T20:46:25.522Z",
         "Unknown",
         "US measles outbreak kills child for first time in a decade",
         "A rapidly spreading outbreak of measles in Texas has killed one person, health officials said on Wednesday.",
         "A rapidly spreading outbreak of measles in Texas has killed one person, health officials said on Wednesday. It marks the first mortality from measles in the US in nearly a decade. The victim was an unvaccinated child who died in a Texas hospital after testing positive for measles, according to the state's health department.  The Texas Department of State Health Services reported on Tuesday that it was aware of 124 cases diagnosed since the outbreak began last month, up from 90 on Friday. Almost all cases - 101 - were in patients 17 and younger. Speaking at the first cabinet meeting of US President Donald Trump's current term on Wednesday, Health Secretary Robert F Kennedy Jr claimed that there had been two deaths.  However, Katherine Wells, the director of the public health department in Lubbock, Texas, where the death occurred, clarified later that there has only been one. The US Department of Health and Human Services did not respond to a request for comment from the BBC clarifying the number of deaths.  The US declared that measles had been \"eliminated\" in 2000, but the country has seen outbreaks in recent years amid a rise in anti-vaccine sentiment. The last US measles death was in 2015, according to the Infectious Diseases Society of America. The current outbreak is centred in north-west Texas, with measles also recently found across the state's border in New Mexico, as well as Alaska, California, Georgia, New Jersey, New York City and Rhode Island, according to the Centers for Disease Control (CDC). Currently, there are nine cases reported in New Mexico, four of whom are children. Kennedy, a vaccine sceptic in the past, said that measles outbreaks were common and there have been four measles outbreaks so far in the US this year. The CDC defines an outbreak as three or more related cases. He also said his department was monitoring the current outbreak closely. A measles infection can have particularly devastating complications for pregnant women and young children, including pneumonia, neurological impairment, hearing loss and death. Survivors are at risk of developing a degenerative brain and nervous system disease known as subacute sclerosing panencephalitis (SSPE). There were 285 cases of measles reported in the US for all of last year, the highest number since 1,274 in 2019. So far, 18 people in the current outbreak have had to go to hospital, according to the Texas health department. Kennedy said altogether 20 people were in hospital to quarantine. Five people in Texas who were infected had been vaccinated, the department also said.  New Mexico's congressional delegation pushed Kennedy to urgently address the current outbreak, urging him to \"launch a vaccination promotion campaign\" and rehire recently fired federal health workers, among other measures,  in a letter on Monday. \"Just last Friday, two dozen employees at the CDC charged with training public laboratory staffers and supporting outbreak response efforts were fired,\" the state's two senators and three House members, all Democrats, wrote.  \"Those firings will worsen outbreaks and ultimately threaten the health of all Americans in the face of the next public health emergency.\"  Meanwhile, areas affected by the outbreak are hosting free vaccination clinics, with the city of Lubbock, where the child victim died, holding hours-long clinics each day this week. The Texas outbreak is believed to have started in a rural Mennonite community with low vaccination rates, according to CBS News, the BBC's US partner, and local media. Most US children receive two immunisation shots to protect against the illness, which together are 97% effective in protecting against measles, according to the CDC. Vaccination rates in Texas are 94.3%, according to the CDC, which is below the 95% level that the Infectious Diseases Society of America says is needed to also protect those who are not immunized, commonly called \"herd immunity\". \"Measles was rare in the United States, but outbreaks are occurring in areas where vaccination rates have fallen,\" the American Academy of Pediatrics said in a statement. \"Most children who get measles are not up to date on recommended vaccines or are not old enough to get measles vaccine.\" The White House said the deal, which would give the US access to mineral deposits, was not signed on Friday. The US president clashes with Ukraine's leader in fiery Oval Office exchange over ending the war with Russia. The president ignored the questions that were shouted as he was leaving the White House. The US and Ukrainian presidents, who have traded barbs in the past, began a new war of words this week. The US president accused the Ukrainian leader of being disrespectful in a tense meeting in the Oval Office. Copyright 2025 BBC. All rights reserved.  The BBC is not responsible for the content of external sites. Read about our approach to external linking.  "
        ],
        [
         "17",
         "https://www.bbc.com/news/articles/cx2gg4x4w14o",
         "2025-02-27T19:36:34.341Z",
         "Ali Abbas Ahmadi",
         "Katy Perry to head to space on Blue Origin all-women flight",
         "Pop star Katy Perry will blast off into space as part of an upcoming all-women flight on Blue Origin's New Shepard rocket.",
         "Pop star Katy Perry will blast off into space as part of an upcoming all-women flight on Blue Origin's New Shepard rocket. The Firework singer will be joined by Blue Origin owner Jeff Bezos's fiancee Lauren Sanchez, CBS presenter Gayle King, former Nasa rocket scientist Aisha Bowe, civil rights activist Amanda Nguyen, and film producer Kerianne Flynn. Blue Origin said this is the first all-women space flight to take place since the Soviet Union's Valentina Tereshkova's solo mission in 1963. There is no specific date for the launch, but Blue Origin said it would take place this spring. Katy Perry is scheduled to be on her Lifetimes Tour from 23 April until 11 November, so this trip is expected to take place before that. \"If you had told me I'd be part of the first all-female crew in space, I would have believed you. Nothing was beyond my imagination as a child,\" Perry said in a statement cited by Newsweek. The NS-31 mission will be the 11th human spaceflight for the New Shepard rocket and the 31st in its history. So far, the programme has launched 52 people into space. A trip on the New Shepard typically lasts about 11 minutes, according to Blue Origin. It is fully autonomous - which means there are no pilots - and takes the passengers past the Karman line, internationally recognised as the edge of space. Blue Origin credited Lauren Sanchez for bringing the mission together, saying in its press release that she is \"honored to lead a team of explorers on a mission that will challenge their perspectives of Earth, empower them to share their own stories, and create lasting impact that will inspire generations to come\". Sanchez first announced her plan to fly with an all-women crew on a Blue Origin rocket in 2023 in an interview with Vogue, saying they were \"paving the way for women\". This is the latest group of celebrities to embark on a flight to space. Bezos himself flew on the company's first manned mission in 2021. Good Morning America's co-host Michael Strahan and Star Trek actor William Shatner have also been blasted into space on one of Bezos's rockets. Richard Branson, the founder of Virgin Galactic, made a trip aboard his company's VSS Unity spacecraft in July 2021. SpaceX founder Elon Musk, however, is yet to make a trip. The White House said the deal, which would give the US access to mineral deposits, was not signed on Friday. The US president clashes with Ukraine's leader in fiery Oval Office exchange over ending the war with Russia. The president ignored the questions that were shouted as he was leaving the White House. The US and Ukrainian presidents, who have traded barbs in the past, began a new war of words this week. The US president accused the Ukrainian leader of being disrespectful in a tense meeting in the Oval Office. Copyright 2025 BBC. All rights reserved.  The BBC is not responsible for the content of external sites. Read about our approach to external linking.  "
        ],
        [
         "18",
         "https://www.bbc.com/news/articles/cq6yy9e368vo",
         "2025-02-27T15:01:32.739Z",
         "Brandon Drenon",
         "Trump administration unveils bird flu plan as egg prices soar",
         "The US Department of Agriculture (USDA) has announced a $1bn (£792m) plan to help US farmers combat a raging bird flu epidemic that has required them to kill millions of chickens and pushed the cost of eggs to an all-time high.",
         "The US Department of Agriculture (USDA) has announced a $1bn (£792m) plan to help US farmers combat a raging bird flu epidemic that has required them to kill millions of chickens and pushed the cost of eggs to an all-time high. Officials said they will budget $500m for biosecurity measures, roughly $100m for vaccine research and development, and $400m for farmer financial relief programs. More than 35 million birds have been killed in response to bird flu outbreaks in commercial flocks this year, according to USDA data. The bird culling has caused the average price for a dozen eggs in the US to hit $5 in January, a 53% increase from 2024 - and the USDA said prices could rise an additional 41%. The Trump administration said it will provide commercial egg farms with best practices and consulting services for free, and pay up to 75% of the costs to address vulnerabilities to help prevent the spread of bird flu. To address the threat of an egg shortage for US consumers, the government said it was willing to  consider temporarily importing eggs that meet US safety standards.  The USDA also said it will eliminate regulations that they say raise the cost of eggs. The policy changes are not expected to have an immediate effect on egg prices, USDA secretary Brooke Rollins told the BBC's media partner CBS News.  \"This is more of a long-term solution, but what I can say is that those prices should start coming down maybe this spring, this summer as we work to implement some of those bigger-picture solutions,\" Rollins said. Soaring egg prices in the US have had some surprising knock-on effects. In New York City, where a dozen eggs can fetch $14, some stores have reportedly started successfully selling single eggs - called \"loosies\" - to those unwilling to shell out for a full dozen. In February, thieves in Pennsylvania stole over 100,000 eggs worth $40,000 from the back of a lorry.  Copyright 2025 BBC. All rights reserved.  The BBC is not responsible for the content of external sites. Read about our approach to external linking.  "
        ],
        [
         "19",
         "https://www.bbc.com/news/articles/cvgwwp2gd3jo",
         "2025-02-27T11:19:39.938Z",
         "Paulin Kola",
         "Trump foreign aid freeze to stay for now, US Supreme Court chief rules",
         "The top judge in the United States has given temporary backing to the Trump administration's freeze on foreign aid payments.",
         "The top judge in the United States has given temporary backing to the Trump administration's freeze on foreign aid payments. Supreme Court Chief Justice John Roberts' intervention came as the administration faced a midnight deadline (05:00 GMT on Thursday) to pay contractors. Officials had argued that they could not process the payments within the timeframe set by a lower court judge. Since coming to power in January, US President Donald Trump has taken quick action to end many aid programmes, largely run by the US Agency for International Development, USAID, and placed most of its staff on administrative leave or sacked them. The Trump administration is seeking to shrink the federal workforce and cut costs in a drive led by Elon Musk. The billionaire Trump adviser asked millions of bureaucrats over the weekend to list their accomplishments from the past week - sparking fury amongst the workforce and disagreement with officials leading the departments. US District Judge Amir Ali had ordered the US State Department and USAID to pay about $2bn-worth of bills (£1.6bn) to contractors by midnight on Wednesday. It is one of many interventions by judges trying to stop or pause a wave of Trump administration orders. As the deadline approached, the Trump administration went to the Supreme Court, arguing it was impossible to process claims in an orderly fashion in such a short period of time. The US federal government freeze comes as the administration carries out a review of foreign aid funding. Acting Solicitor General Sarah Harris said Judge Ali's order \"has thrown what should be an orderly review by the government into chaos\".  The cutbacks to USAID have already upended the global aid system.  Hundreds of programmes have been frozen in countries around the world since the president announced his intentions in January. The US is by far the biggest single provider of humanitarian aid around the world. It has bases in more than 60 countries and works in dozens of others, with much of its work carried out by its contractors. According to the Associated Press news agency, the Trump administration wants to eliminate more than 90% of the USAID's foreign aid contracts - and $60bn of US  overseas aid.  The White House said the deal, which would give the US access to mineral deposits, was not signed on Friday. The US president clashes with Ukraine's leader in fiery Oval Office exchange over ending the war with Russia. The president ignored the questions that were shouted as he was leaving the White House. The US and Ukrainian presidents, who have traded barbs in the past, began a new war of words this week. US President Donald Trump and Volodymyr Zelensky disagree during the Ukrainian president's US trip.  Copyright 2025 BBC. All rights reserved.  The BBC is not responsible for the content of external sites. Read about our approach to external linking.  "
        ],
        [
         "20",
         "https://www.bbc.com/news/articles/c778rp2je47o",
         "2025-02-27T10:18:45.104Z",
         "Yasmin Rufo",
         "Michelle Trachtenberg, Gossip Girl and Buffy actress, dies aged 39",
         "Actress Michelle Trachtenberg, who rose to fame as a child star in the 1990s and 2000s, has died aged 39.",
         "Actress Michelle Trachtenberg, who rose to fame as a child star in the 1990s and 2000s, has died aged 39. Police in Manhattan said they responded to an emergency call on Wednesday morning and found Trachtenberg \"unconscious and unresponsive\". She was pronounced dead at the scene. The US actress was best known for playing Buffy the Vampire Slayer's younger sister Dawn Summers, and later took on the role of manipulative socialite Georgina Sparks in Gossip Girl as an adult. Trachtenberg made her film debut in Harriet the Spy in 1996, and also appeared in several Nickelodeon productions.  Co-stars paid tribute to her, describing her as a \"fiercely intelligent\" person who \"cared deeply\" about her work.  Her family's representatives confirmed her death in a statement. \"It is with great sadness to confirm that Michelle Trachtenberg has passed away. The family requests privacy for their loss,\" it said.  Authorities said her death was not being treated as suspicious.  \"Criminality is not suspected. The medical examiner will determine the cause of death. The investigation remains ongoing,\" the NYPD said in a statement.  Trachtenberg got her start in acting at age nine on the Nickelodeon television series The Adventures of Pete & Pete.  In the early 2000s, she was nominated for several acting awards - including a Daytime Emmy Award - for her role in Buffy the Vampire Slayer.  She also starred in films including EuroTrip, Ice Princess, Killing Kennedy, and Sister Cities. Blake Lively, a Gossip Girl co-star, said everything Trachtenberg did \"she did 200%\". \"She laughed the fullest at someone's joke... she cared deeply about her work, she was fiercely loyal to her friends and brave for those she loved, she was big and bold and distinctly herself,\" she wrote on social media. \"The real tragedies in life are the ones that blindside you on an idle Tuesday. Hold those you love and have loved dear.\" US comedian Rosie O'Donnell, who starred alongside Trachtenberg in her Harriet the Spy debut, said her death was \"heartbreaking\". \"I loved her very much. She struggled the last few years. I wish I could have helped.\" Josh Safran, a writer and producer on Gossip Girl, said it was \"an honour and joy to write for Michelle for so many years\", as she had a \"clear voice\" as an actor.  \"You heard her as you typed,\" he wrote. \"You knew she'd make each line rougher, more real, much funnier - and that made the writing better. Former castmates also paid tribute. Buffy cast member James Marsters said on social media that the actress was \"fiercely intelligent, howlingly funny, and a very talented person\". \"She died much too young, and leaves behind scores of people who knew and loved her,\" Marsters said. How I Met Your Mother actress Alyson Hannigan, who played Willow Rosenberg in Buffy, shared a series of photos on social media, including images of the two sharing scenes, and said Trachtenberg \"brought a loving energy to the set of Buffy\". Trachtenberg first appeared in Gossip Girl - which ran from 2007 to 2012 - in 2008. She returned to the role for two episodes of the second season of HBO Max's reboot in 2023.  Her last major acting role was in 2021 as the host of a true-crime docuseries Meet, Marry, Murder, which appeared on digital streamer Tubi.  In 2021, Trachtenberg accused Buffy the Vampire Slayer creator Joss Whedon of inappropriate behaviour on set, after her co-star Charisma Carpenter said she had been left traumatised due to the treatment she received from Whedon.  The White House said the deal, which would give the US access to mineral deposits, was not signed on Friday. The US president clashes with Ukraine's leader in fiery Oval Office exchange over ending the war with Russia. The president ignored the questions that were shouted as he was leaving the White House. The US and Ukrainian presidents, who have traded barbs in the past, began a new war of words this week. The US president accused the Ukrainian leader of being disrespectful in a tense meeting in the Oval Office. Copyright 2025 BBC. All rights reserved.  The BBC is not responsible for the content of external sites. Read about our approach to external linking.  "
        ],
        [
         "21",
         "https://www.bbc.com/news/articles/c5y44gw5gpro",
         "2025-02-27T03:25:46.204Z",
         "Nadine Yousif and Madeline Halpert",
         "Bezos focuses Washington Post opinion section on free markets and liberties",
         "Washington Post owner Jeff Bezos has announced that the newspaper's opinion section will focus on supporting “personal liberties and free markets\", and pieces opposing those views will not be published.",
         "Washington Post owner Jeff Bezos has announced that the newspaper's opinion section will focus on supporting “personal liberties and free markets\", and pieces opposing those views will not be published. The move, which marks a major shift away from the section's broad opinion coverage, prompted the outlet's opinion editor David Shipley to resign.  Bezos, the billionaire founder of Amazon, sent a memo to staff on Wednesday which he also posted to X. “We are going to be writing every day in support and defence of two pillars: personal liberties and free markets,“ Bezos said.  He added the opinion section would cover other topics, but “viewpoints opposing those pillars will be left to be published by others”. “There was a time when a newspaper, especially one that was a local monopoly, might have seen it as a service to bring to the reader's doorstep every morning a broad-based opinion section that sought to cover all views,” Bezos wrote. “Today, the internet does that job.” Bezos added that he had asked Mr Shipley if he wanted to stay at the outlet after the changes, but he said no.  \"This is a significant shift, it won't be easy, and it will require 100% commitment - I respect his decision,\" Bezos said. The billionaire businessman's move is a significant intervention in the editorial side of the newspaper, which he acquired in 2013. It follows a decision last year not to run an endorsement of Democratic presidential candidate Kamala Harris, and to stop making presidential endorsements in general, which led to resignations and the loss of thousands of subscribers. According to the Washington Post, Will Lewis, the outlet’s chief executive, said in a memo to staff that the changes to the opinion section were \"not about siding with any political party”. \"This is about being crystal clear about what we stand for as a newspaper,\" he said. The decision was praised by several of President Donald Trump‘s allies, including billionaire Elon Musk, who wrote on social media: “Bravo, @JeffBezos!\"  But on a Washington Post article announcing the change, some subscribers wrote in the comment section criticising the decision, and others said they would be cancelling their subscription. The White House said the deal, which would give the US access to mineral deposits, was not signed on Friday. The US president clashes with Ukraine's leader in fiery Oval Office exchange over ending the war with Russia. The president ignored the questions that were shouted as he was leaving the White House. The US and Ukrainian presidents, who have traded barbs in the past, began a new war of words this week. The US president accused the Ukrainian leader of being disrespectful in a tense meeting in the Oval Office. Copyright 2025 BBC. All rights reserved.  The BBC is not responsible for the content of external sites. Read about our approach to external linking.  "
        ],
        [
         "22",
         "https://www.bbc.com/news/articles/c5yxvywr015o",
         "2025-02-26T22:05:04.164Z",
         "Mike Wendling",
         "US Supreme Court hears arguments in 'straight discrimination' case",
         "US Supreme Court justices indicated during a hearing on Wednesday that they would side with a woman who alleged she was discriminated against at her job because she is heterosexual.",
         "US Supreme Court justices indicated during a hearing on Wednesday that they would side with a woman who alleged she was discriminated against at her job because she is heterosexual. Marlean Ames worked for the Ohio Department of Youth Services for more than 20 years.  She claims she was passed over for a promotion, then demoted, because she is straight. The job she hoped to get and the one she held when demoted, were both given to gay colleagues, according to the lawsuit. Ohio state officials have denied the discrimination, and Ms Ames has so far been unsuccessful in court. In oral arguments in front of the Supreme Court - split 6-3 in favour of conservative judges - justices on both sides ideologically appeared sympathetic to Ms Ames's case. A 1964 US law forbids discrimination in the workplace, and in 2020, the Supreme Court ruled that protection extends to sexual orientation, however lower courts have dismissed Ms Ames's case. US court precedent covering some states, including Ohio, requires that members of majority groups - such as white people or heterosexuals - show a higher level of evidence when making discrimination claims. Plaintiffs in those cases – sometimes called \"reverse discrimination\" – are required to show additional \"background circumstances\" to prove their case, for instance evidence that LGBTQ people made decisions affecting the person discriminated against, or evidence showing a pattern of discrimination. According to the lawsuit, Ms Ames had positive performance evaluations, but in 2019 she and two other heterosexual employees were passed over for a promotion that was eventually given to a lesbian. She was later demoted, according to the lawsuit, and her job was given to a gay man. In addition to ruling that Ms Ames did not show a pattern of discrimination or \"background circumstances\", a lower court also previously found that managers at the youth services department had \"legitimate, nondiscriminatory business reasons\" for their decisions. During arguments on Wednesday, Supreme Court Justice Brett Kavanaugh, one of the court's conservative members, said: \"Discrimination on the basis of sexual orientation, whether you are gay or straight, is prohibited. The rules are the same whichever way it goes.\" According to the transcript of the hearing, another conservative justice, Amy Coney Barrett, said that \"it doesn't matter if she was gay or whether she was straight\", the legal burden should be the same. And several of the court's liberal justices seemed to agree. Neil Gorsuch indicated that he thought allowing Ms Ames' lawsuit to proceed would be a \"wise course\".  While talking about the facts of the case, Justice Sonia Sotomayor said \"something's suspicious\" which \"certainly can give rise to an inference of discrimination.\" Ohio officials were represented in court by the state Solicitor General T Elliot Gaiser, a former lawyer for Trump. Gaiser told the justices \"everyone here agrees that everyone should be treated equally\", but argued that the officials who made the job decisions did not know Ames' sexual orientation and thus could not have used it to discriminate against her. Lawyers for the state also argue that those making the employment decisions were heterosexual and had legitimate concerns about Ms Ames's vision for the youth services department. The Supreme Court could order lower courts to re-examine the case and allow the lawsuit to go ahead. The White House said the deal, which would give the US access to mineral deposits, was not signed on Friday. The US president clashes with Ukraine's leader in fiery Oval Office exchange over ending the war with Russia. The president ignored the questions that were shouted as he was leaving the White House. The US and Ukrainian presidents, who have traded barbs in the past, began a new war of words this week. The US president accused the Ukrainian leader of being disrespectful in a tense meeting in the Oval Office. Copyright 2025 BBC. All rights reserved.  The BBC is not responsible for the content of external sites. Read about our approach to external linking.  "
        ],
        [
         "23",
         "https://www.bbc.com/news/articles/cq5zgvdz2z0o",
         "2025-02-26T20:13:24.874Z",
         "Madeline Halpert",
         "Trump says $5m 'gold card' immigration visas will 'sell like crazy'",
         "President Donald Trump has unveiled plans for selling a \"gold card\" visa for $5m (£3.9m) that will offer wealthy buyers permanent residency in the US and a path to citizenship. ",
         "President Donald Trump has unveiled plans for selling a \"gold card\" visa for $5m (£3.9m) that will offer wealthy buyers permanent residency in the US and a path to citizenship.  At the first cabinet meeting of his current term, Trump told reporters that the visas would function similarly to green cards, which allow immigrants of varying incomes to live and work permanently in the US, but would go to  \"high-level people\".  \"The people that can pay $5m, they're going to create jobs,\" Trump said. \"It's going to sell like crazy. It's a bargain.\" Commerce Secretary Howard Lutnick, also at the meeting, said the gold visas would replace the current visa programme for foreign investors, but offered few details. Dozens of countries around the world offer some sort of citizenship by investment programme, including several in Europe, like Portugal, which gives \"golden visas\", or permanent residency for foreigners who invest €500,000 ($524,000) into a qualifying fund.  Trump said companies would use the golden visa programme to hire non-citizens to work for them in the US.  \"We have to be able to get people in the country, and we want people that are productive people,\" Trump said.   Typically, green card holders in the US can apply for citizenship after five years.  Trump suggested revenue from the high-priced visas could be used to pay off US debt.  Lutnick said that the initiative will replace the EB-5 visa, which gives permanent residency to some foreigners who invest around $1m and create at least 10 full-time jobs in the US. Saying the EB-5 programme was \"poorly overseen and poorly executed\",  Lutnick said the golden visas would be an improvement. \"We're going to make sure they're wonderful world-class global citizens,\" Lutnick said of future gold card applicants.  It was not immediately clear how the government would select recipients, if there were exclusions, or if there would be any cap on how many are issued. During the fiscal year of 2024, the State Department issued over 12,000 EB-5 visas, a record high for the programme. The US president clashes with Ukraine's leader in fiery Oval Office exchange over ending the war with Russia. The US president accused the Ukrainian leader of being disrespectful in a tense meeting in the Oval Office. The US axes vital HIV/Aids funding, which South Africa's health minister says is a \"wake-up call\". US police say a rapper's \"cowardly\" actions in a \"rival gang stronghold\" led to a spate of violence. The United States has never had an official language since it was founded nearly 250 years ago. Copyright 2025 BBC. All rights reserved.  The BBC is not responsible for the content of external sites. Read about our approach to external linking.  "
        ],
        [
         "24",
         "https://www.bbc.com/news/articles/cn48z5q28vyo",
         "2025-02-26T20:06:03.760Z",
         "Ana Faguy",
         "US congresswoman votes with baby in arms after proxy vote ban",
         "Four weeks after giving birth to her second child, Congresswoman Brittany Pettersen cradled her baby son in her arms as she cast a crucial vote on the House floor.",
         "Four weeks after giving birth to her second child, Congresswoman Brittany Pettersen cradled her baby son in her arms as she cast a crucial vote on the House floor. Unable to vote remotely due to congressional rules, the Colorado Democrat flew across the country to oppose a multi-trillion-dollar budget deal, which narrowly passed in the House of Representatives. \"Unfortunately, I wasn't given the opportunity to vote remotely after giving birth, but I wasn't going to let that stop me from representing my constituents,\" Pettersen said on Tuesday. The congresswoman - the 14th lawmaker to give birth while in office - now leads a bipartisan push for more flexibility for members with growing families.   In January, she introduced legislation allowing proxy voting for up to 12 weeks for members  who have \"given birth or whose spouse have given birth and pregnant members who are unable to travel safely or have a serious medical condition\". The bill has 137 bipartisan co-sponsors. Proxy voting - where a lawmaker designates another to vote on their behalf - was temporarily allowed during the pandemic, but current House rules prohibit it.  The restriction allowed some to see the unintended benefits of proxy voting for those recovering from childbirth or illness, but critics argued the policy was being abused.   More than 100 Republican members of the House of Representatives, including current Speaker Mike Johnson, filed lawsuit to end the practice, arguing it was unconstitutional. The legal argument failed, but when Republicans regained control of the House in 2023, former Speaker of the House Kevin McCarthy ended proxy voting.  Pettersen and another Republican congresswoman who gave birth in 2023 continue to push for flexibility for new parents on Capitol Hill.  Congresswoman Anna Paulina Luna, a Florida Republican who gave birth in 2023, missed 137 votes in the weeks after she gave birth. Doctors had advised her not to travel while recovering from a difficult birth. Luna called the inability to proxy vote a \"slap in the face to every constituent\" who elected her.  \"How is it not discriminatory to tell a duly elected member of Congress that she can't vote because she gave birth to a child?\" she said in a video statement  last month. \"New mothers in Congress should not be forced to choose their careers over children or choose children over careers.\" But Republican leadership has yet to budge. \"I have great sympathy, empathy for all of our young women legislators who are of birthing age. It's a real quandary,\" Johnson said in a statement last month. \"But I'm afraid it doesn't fit with the language of the Constitution, and that's the inescapable truth that we have.\" Jean Sinzdak, associate director at the Center for American Women and Politics, said the pushback, in part, is cultural: many of the leaders of institutions like congress are older men who are not concerned about the trials of young parents and families. \"It doesn't behove the leaders of these institutions to change this process because it's not affecting them directly,\"  Ms Sinzdak told the BBC. The UK parliament now  allows proxy voting for members of parliament who are new parents, experiencing childbirth complications or need fertility treatment. The European parliament currently has no provisions to allow heavily pregnant members to vote if they can't physically make it to Strasbourg, the formal seat of the office. Pettersen and Luna are now trying to bypass Johnson and put the legislation  to a floor vote - it is a tough road but it may be their best shot unless the thinking surrounding proxy voting changes.  The White House said the deal, which would give the US access to mineral deposits, was not signed on Friday. The US president clashes with Ukraine's leader in fiery Oval Office exchange over ending the war with Russia. The president ignored the questions that were shouted as he was leaving the White House. The US and Ukrainian presidents, who have traded barbs in the past, began a new war of words this week. The US president accused the Ukrainian leader of being disrespectful in a tense meeting in the Oval Office. Copyright 2025 BBC. All rights reserved.  The BBC is not responsible for the content of external sites. Read about our approach to external linking.  "
        ],
        [
         "25",
         "https://www.bbc.com/news/articles/c2lj0vrkv9yo",
         "2025-02-26T03:54:06.108Z",
         "Nadine Yousif",
         "Five takeaways from Canada's Liberal leadership debates",
         "After back-to-back debates in both English and French, the candidates to replace Prime Minister Justin Trudeau as leader of the Liberal Party in Canada have made their case to voters.",
         "After back-to-back debates in both English and French, the candidates to replace Prime Minister Justin Trudeau as leader of the Liberal Party in Canada have made their case to voters. Card-holding Liberals will now choose between former governor of the banks of Canada and England Mark Carney, former finance minister Chrystia Freeland, House government leader Karina Gould and businessman and former MP Frank Baylis. Whoever wins the vote on 9 March will become Canada's next prime minister and will lead the Liberals in the forthcoming general election, which must be held on or before 20 October of this year. A big focus of the debates has been how Canada should respond to US President Donald Trump, who has threatened steep tariffs on America's northern neighbour and has suggested that Canada become the \"51st state.\" Here are five big takeaways from the two Liberal leadership debates. How Canada should respond to what many have dubbed an \"existential threat\" from US President Donald Trump has unsurprisingly dominated the agenda at both debates. Trump has said he plans to impose a 25% tariff on all Canadian exports, with the exception of energy that would be tariffed at a lower 10% - a move that economists say would be devastating for Canada while increasing prices for Americans. He has also repeatedly proposed that the US should annex Canada, which has been met with alarm and anger from large swathes of the Canadian population. Freeland, a former top minister who served during Trump's first term, positioned herself as an experienced negotiator who has fought - and won - against the US president and his previous tariffs. But Carney warned that the Trump of today was not the Trump of the past. \"He is more isolationist. He is more aggressive,\" Carney said. \"In the past he wanted our markets. Now he wants our country.\" Gould, the youngest candidate, suggested that Canada should \"put everything on the table\" to protect its sovereignty, and that the federal government should help businesses diversify their portfolios to depend less on the US. Baylis, meanwhile, said Canada needed to forge closer economic ties with the UK, New Zealand and Australia, saying all four were like-minded countries with shared values, culture, and government systems. Trump's threats are made more alarming by Canada's current economic situation. Canadians have voiced frustrations over the stubborn high cost of living. Carney - an economist by trade - promised a plan that would balance Canada's operational budget in three years and proposed that Canada rethink the way it spends its money. But he has also noted his support for key Liberal programmes, like affordable childcare and dental care. As the former finance minister, Freeland defended her track record, saying the country's finances were still \"very strong\". She added that Canada should capitalise on the surge of patriotism in the face of Trump's threats, using that momentum to support Canadian industries and promote job growth. Baylis drew on his expertise as a businessman to say that Canada should work on building its productivity. Gould, on the other hand, said the Liberal Party should be \"realistic with Canadians\" and that balancing the budget in three years was not possible without significant cuts, which she did not support. She said Canada should instead focus on \"modernising its social safety net\" to help those who are struggling. \"We are facing extreme threats from the US, so we have to be able to invest in our people and in our businesses to protect them,\" Gould said. The four candidates were debating with each other but they often presented a united front against their shared opponent, Conservative party leader Pierre Poilievre, whose party is favoured in the polls as the most likely to form Canada's next government. Liberal leadership hopefuls threw several jabs at Poilievre throughout the debate. Gould called him \"our little version of Trump here at home\" while Freeland said Poilievre was looking to \"imitate\" Trump. Carney criticised Poilievre as \"irresponsible\" and added that Canada could \"not afford\" to have him as prime minister. Poilievre, who has enjoyed a sizable lead in the polls ahead of an unpopular Trudeau, has had to pivot his pitch to Canadians since Trudeau's resignation. His message changed from criticising the sitting prime minister for leading a \"broken\" Canada to putting \"Canada First\" in the face of threats from the US. He has also shifted his focus to attacking Carney, who is favoured to win the Liberal leadership race. Poilievre is still polling ahead nationally, but some polls suggest that the lead between him and the Liberals has shrunk since Trudeau's exit. Responding to shifting US policy on the ongoing Russia-Ukraine war, all four candidates affirmed their commitment to continuing Canada's support for Ukraine. All of them also backed the need for Canada to hit its 2% military spending target as set out in its commitments to the Nato alliance, though they disagreed on the timeline and how to get there. Freeland said Canada should hit the target by 2027, and should do so by investing in the \"next generation of warfare\". Baylis and Carney have said their plan would be for Canada to reach that target by 2030. Both Freeland and Carney said Canada needed to invest that money into Canadian military ventures instead of into the US. Freeland noted that Canada should reduce its reliance on the US, and should look to work with the EU and other Nato partners on security assurances. A tax on carbon for consumers and businesses has been the cornerstone of the Trudeau government's policy on climate change. But that tax has proven to be unpopular with Canadians, forcing Carney and Freeland to promise that they would ditch the policy. Carney, a former UN special envoy on climate action and finance, has long been a proponent of the carbon tax. In the debates, however, he acknowledged the tax on consumers had become divisive, and said he would instead focus on taxing big polluters and growing clean energy projects in Canada. Freeland, who resigned from Trudeau's government because of disagreements with the prime minister on spending, said that history would judge his climate action favourably despite his policies' unpopularity. But she, too, vowed to scrap the carbon tax. \"Democracy is about listening to people, and Canadians were very clear with us that they did not think that policy worked for them,\" she said. Gould and Baylis, on the other hand, said they would keep some version of the consumer tax on carbon in place, saying that fighting climate change comes with a price. The White House said the deal, which would give the US access to mineral deposits, was not signed on Friday. The president ignored the questions that were shouted as he was leaving the White House. The US and Ukrainian presidents, who have traded barbs in the past, began a new war of words this week. US President Donald Trump and Volodymyr Zelensky disagree during the Ukrainian president's US trip.  The US president accused the Ukrainian leader of being disrespectful in a tense meeting in the Oval Office. Copyright 2025 BBC. All rights reserved.  The BBC is not responsible for the content of external sites. Read about our approach to external linking.  "
        ],
        [
         "26",
         "https://www.bbc.com/news/articles/cx2rmxr90eyo",
         "2025-02-26T03:20:25.324Z",
         "Ali Abbas Ahmadi",
         "Trump to invite Philadelphia Eagles to  White House after Super Bowl win",
         "President Donald Trump has said he will invite the Philadelphia Eagles to the White House to celebrate their recent Super Bowl win, despite rumours that the champions may decline the invitation. ",
         "President Donald Trump has said he will invite the Philadelphia Eagles to the White House to celebrate their recent Super Bowl win, despite rumours that the champions may decline the invitation.  \"Absolutely, they'll be extended an invitation,\" Trump said in the Oval Office on Tuesday. \"They deserve to be down here, and we hope to see them.\" The Eagles skipped a visit to the White House when they won in 2018, but the team plans to attend the event this year, US media report. Rumours of the Eagles declining an invitation to the White House created a firestorm on social media after a weeks-old report from The US Sun resurfaced online. The Eagles defeated the Kansas City Chiefs 40-22 earlier this month, securing the team's second Super Bowl. Sports teams visiting the White House after winning a championship is a tradition that dates back to the 19th Century, but in the past decades some have used it to make a statement. Only one of the four teams that won the Super Bowl during Trump's first term in office made a trip to the White House. That was the New England Patriots in 2017.  The Philadelphia Eagles did not go to the White House after their victory in 2018. The president said at the time that the players disagreed with his view \"that they proudly stand for the national anthem\", although the team or players never confirmed that as the reason.  Instead, Trump invited a group of Eagles fans to a \"celebration of the American flag\". In 2017, NBA champions the Golden State Warriors were uninvited from the White House event by Trump after star player Stephen Curry said he did not want to go. The Warriors were not invited when they won the NBA Championship again in 2018.  There were, however, some memorable sporting visits to the White House under Trump. He famously welcomed Clemson University's football team in 2018 with burgers from McDonald's, Wendy's and other fast food restaurants.  Louis Moore, a professor of history at Grand Valley State University, told the BBC that these celebratory visits to the White House are political, even if they do not initially seem that way. \"For some guys [going to the White House] is a lifelong dream,\" he said. \"But in basketball and football and women's soccer,  it's definitely political. The idea not to go is political, and even the idea to go is political.\" He added that the event has become even more political since Trump's first election victory in 2016. \"Early on in Trump's presidency, teams weren't going to the White House. Before that, there were no announcements,\" he said. \"But now you see people announcing that they're not going.\" Mr Moore said that every presidential candidate since the 1930s has sought an athlete's endorsement. \"Presidents want to be around winners, and winners want to be around the president,\" he said. Trump is not the only president who has been snubbed by sports teams and players. NBA legend Larry Bird declined to visit Ronald Reagan in the White House after becoming an NBA champion with the Boston Celtics in 1984.  \"If the president wants to see me, he knows where to find me,\" he said. In 2013, Matt Birk of the Baltimore Ravens declined to visit the White House celebration because he opposed Barack Obama's stance on abortion. According to CBS Sports, Birk complained of an Obama speech where the president had said \"God bless Planned Parenthood\". The US president clashes with Ukraine's leader in fiery Oval Office exchange over ending the war with Russia. The White House said the deal, which would give the US access to mineral deposits, was not signed on Friday. The president ignored the questions that were shouted as he was leaving the White House. The US and Ukrainian presidents, who have traded barbs in the past, began a new war of words this week. US President Donald Trump and Volodymyr Zelensky disagree during the Ukrainian president's US trip.  Copyright 2025 BBC. All rights reserved.  The BBC is not responsible for the content of external sites. Read about our approach to external linking.  "
        ],
        [
         "27",
         "https://www.bbc.com/news/articles/cwydeppzggno",
         "2025-02-26T02:59:34.619Z",
         "Mike Wendling",
         "Thousands of Canadians sign petition  to revoke Musk's citizenship",
         "Hundreds of thousands of people have signed a petition to revoke Elon Musk's Canadian citizenship amid tensions between the Trump administration and Canada.",
         "Hundreds of thousands of people have signed a petition to revoke Elon Musk's Canadian citizenship amid tensions between the Trump administration and Canada. The petition, which opened to signatures five days ago, accuses Mr Musk of acting against Canada's national interest and undermining its sovereignty.  In Canada, citizenship can be revoked only if someone has committed fraud, misrepresented themselves or knowingly hid information on an immigration or citizenship application. Mr Musk, who was born in South Africa, holds both Canadian and US citizenship. Responding to the petition, the billionaire wrote on X: \"Canada is not a real country.\" The post was later deleted. The petition claims the billionaire \"has used his wealth and power to influence our elections\" and \"has now become a member of a foreign government that is attempting to erase Canadian sovereignty\". Mr Musk has Canadian citizenship through his mother, who was born in Saskatchewan. Launched on 20 February, the petition, already signed by more than 250,000 Canadians, remains open for signatures until 20 June.  It is mostly symbolic and has no legal force. But petitions with at least 500 signatures and a member of parliament's backing typically receive a government response, this one may not, as a spring election could dissolve parliament. It was created by a British Columbia author and endorsed by MP Charlie Angus of the New Democratic Party. Angus, a 20-year MP for Timmins–James Bay, has announced he will not seek re-election. The BBC has contacted his office for comment. US-Canada tensions have escalated since Trump's return, with the president repeatedly suggesting Canada could become a US state and threatening tariffs on steel, aluminium, and other imports.  Canadian leaders have pushed back, vowing counter-tariffs. The spat has spilled out beyond government, with Canadians cancelling US trips, boycotting American products, and booing opposing anthems at hockey and basketball games. Mr Musk moved to Canada from South Africa at 18, and worked odd jobs before studying at Queen's University in Kingston, Ontario. He later emigrated to the US. The billionaire has backed Trump's hardline immigration policies but now faces scrutiny over claims he worked illegally in the US on a student visa.  In a recent interview, Steve Bannon, a former advisor to President Trump, called Mr Musk a \"parasitic illegal immigrant\".  The Tesla CEO has denied the accusations, and has said he did not work illegally. He became a naturalised US citizen in 2002, according to a recent biography. The BBC has contacted Mr Musk via his businesses for comment. The White House said the deal, which would give the US access to mineral deposits, was not signed on Friday. The US president clashes with Ukraine's leader in fiery Oval Office exchange over ending the war with Russia. The president ignored the questions that were shouted as he was leaving the White House. The US and Ukrainian presidents, who have traded barbs in the past, began a new war of words this week. The US president accused the Ukrainian leader of being disrespectful in a tense meeting in the Oval Office. Copyright 2025 BBC. All rights reserved.  The BBC is not responsible for the content of external sites. Read about our approach to external linking.  "
        ],
        [
         "28",
         "https://www.bbc.com/news/articles/cp9yx7e13ryo",
         "2025-02-26T02:58:07.534Z",
         "Mike Wendling",
         "US House narrowly passes Trump-backed spending bill",
         "Republicans in the US House of Representatives narrowly passed a multi-trillion dollar government spending bill on Tuesday, a major boost for President Donald Trump that advances his agenda.",
         "Republicans in the US House of Representatives narrowly passed a multi-trillion dollar government spending bill on Tuesday, a major boost for President Donald Trump that advances his agenda. The 217-215 vote was seen as a key early test for Republican House speaker Mike Johnson, who cancelled an earlier vote as it appeared he did not have enough support. Several Republicans wanted more fiscal discipline from a budget that includes $4.5tn (£3.6tn) in tax cuts, funded partially by spending reductions but also by potentially increasing the US government's substantial debt pile. But the bill eventually passed along party lines, with all Democrats voting against and just one Republican opposed. That Republican was Thomas Massie of Kentucky, a prominent fiscal hawk who wanted deeper spending cuts. One Democrat did not vote. The House budget seeks $2tn in spending cuts over the next 10 years to pay for President Trump's agenda. It includes more than $100bn in new spending on immigration enforcement and the military. It also would extend tax breaks passed during his first term in office, which are due to expire at the end of the year. Trump has said that the public health program known as Medicaid wouldn't be affected, but achieving the drastic cuts Republicans seek could be difficult without cutting major social services. \"Social Security won't be touched, other than this fraud or something we're going to find,\" Trump said during a Fox News interview last week. \"It's going to be strengthened, but won't be touched. Medicare, Medicaid, none of that stuff is going to be touched.\" Speaker Johnson has spent several days negotiating with more members of his party who are concerned about such cuts to social services. However, there are still a number of steps the spending plan must go through in order to become law. The budget will have to be merged with a separate one that is under consideration by the US Senate, in a process called reconciliation. And even if both chambers ultimately agree on a spending plan, many finer details will need to be negotiated before it can be sent to President Trump's desk to be signed. House Republican leaders initially delayed Tuesday's vote when it was unclear whether they would have enough support to pass the measure. Speaker Johnson and the second most senior House Republican, Steve Scalise, spent hours working to convince wavering party members to back the plan which, as well as tax cuts, would fund border security measures, deportations and military spending. Trump personally called some of the holdouts to encourage them to pass the bill, the two Republican leaders said. \"Trump helped us with a number of members,\" Scalise told reporters. \"Talking to anybody that we asked that really needed to clarify things.\" Three of the four party holdouts who had been initially seen as firm no votes - Representatives Tim Burchett, Victoria Spartz and Warren Davidson -  ultimately voted in favour. \"We have a lot of hard work ahead of us, but we are going to deliver the American First agenda,\" House Speaker Mike Johnson told reporters after the vote.  \"We're going to celebrate tonight, and we'll roll up our sleeves and get right back in the morning.\" Democrats lined up to criticise the budget as a tax cut mostly for the wealthy, which they said would hurt low-income families who rely on the government-funded health care programme Medicaid. The party worked to get as many members in the chamber for the crucial vote, with Representative Brittany Petterson arriving with her son while on maternity leave. The Senate will be under pressure to take up the House's spending framework because President Trump has endorsed it, despite their separate bill which was introduced last week. The White House said the deal, which would give the US access to mineral deposits, was not signed on Friday. The US president clashes with Ukraine's leader in fiery Oval Office exchange over ending the war with Russia. The president ignored the questions that were shouted as he was leaving the White House. The US and Ukrainian presidents, who have traded barbs in the past, began a new war of words this week. US President Donald Trump and Volodymyr Zelensky disagree during the Ukrainian president's US trip.  Copyright 2025 BBC. All rights reserved.  The BBC is not responsible for the content of external sites. Read about our approach to external linking.  "
        ],
        [
         "29",
         "https://www.bbc.com/news/articles/ce30n52e6p1o",
         "2025-02-26T00:04:08.121Z",
         "Bernd Debusmann Jr",
         "White House takes control of press pool that covers Trump",
         "The White House plans to determine which news outlets have access to President Donald Trump, taking control from an association of journalists after more than a century.",
         "The White House plans to determine which news outlets have access to President Donald Trump, taking control from an association of journalists after more than a century. The changes, announced by Press Secretary Karoline Leavitt on Tuesday, mean the White House will determine which outlets participate in the \"pool\" that covers presidential events and shares material with other media outlets. The rotation of pool reporters was previously determined by the White House Correspondents' Association (WHCA), which said the decision \"tears at the independence of a free press\". The surprise announcement comes as the Associated Press fights to restore its access to presidential events after it was blocked. \"The White House press team in this administration will determine who gets to enjoy the very privileged and limited access in spaces such as Air Force One and the Oval Office,\" Leavitt said at a news briefing on Tuesday. She said the changes would allow \"new media\" outlets - including streaming services and podcasts - to \"share in this awesome responsibility\". \"Legacy media outlets who have been here for years will still participate in the pool, but new voices are going to be welcomed in as well,\" she said. \"[By] deciding which outlets make up the limited press pool on a day-to-day basis, the White House will be restoring power back to the American people,\" Leavitt added. Founded in 1914, the WHCA has historically handled some logistics around day-to-day coverage of the president, most notably the \"pool\" of reporters, which includes a camera crew from one of the five major US networks, a radio correspondent and a rotating group of print outlets. The WHCA has long claimed the pool is beneficial both for the president - who is able to quickly disseminate news - as well as for the wider media who receive pool reports, photographs, video and audio. Pool reporters are on-duty every day - including weekends and holidays - both at the White House or when the president is travelling.  BBC News is among the outlets that participate in the radio pool. The WHCA expressed concern that the move will benefit the White House by giving access to news outlets that it sees as sympathetic or friendly. \"This move does not give power back to the people - it gives power to the White House,\" Fox News reporter Jacqui Heinrich, a WHCA board member, wrote on X.  In its own statement, the WHCA said that the decision \"suggests the government will choose the journalists who cover the president\". The WHCA said it was not given any notice about the White House's decision before Tuesday's news briefing.  Leavitt, meanwhile, said the WHCA would no longer have a \"monopoly\" on controlling the pool. President Trump was asked about the announcement in the Oval Office later on Tuesday. \"We're going to be calling those shots,\" he said of the changes. Earlier this week, a US judge declined a request by the Associated Press to immediately restore its access to presidential events after the Trump administration blocked the agency in a dispute over the term \"Gulf of America\". The news agency has refused to change its style from the Gulf of Mexico to the \"Gulf of America\", after President Trump renamed it with an executive order. The AP argues the ban is retaliatory and infringes on First Amendment rights to freedom of speech and the press. The ban has meant that the AP - which hundreds of news outlets rely on - has been unable to access press events alongside the rest of the pool at the White House as well as Air Force One. A hearing has been scheduled for 20 March.  The White House said the deal, which would give the US access to mineral deposits, was not signed on Friday. The US president clashes with Ukraine's leader in fiery Oval Office exchange over ending the war with Russia. The president ignored the questions that were shouted as he was leaving the White House. The US and Ukrainian presidents, who have traded barbs in the past, began a new war of words this week. US President Donald Trump and Volodymyr Zelensky disagree during the Ukrainian president's US trip.  Copyright 2025 BBC. All rights reserved.  The BBC is not responsible for the content of external sites. Read about our approach to external linking.  "
        ],
        [
         "30",
         "https://www.bbc.com/news/articles/cx24gze60yzo",
         "2025-02-25T22:50:01.477Z",
         "Unknown",
         "Who is on Trump's top team?",
         "The new team entrusted with delivering Donald Trump's agenda is in place, featuring several contentious picks.",
         "The new team entrusted with delivering Donald Trump's agenda is in place, featuring several contentious picks. Ahead of his return to the White House on 20 January 2025, he appointed Fox News host and military veteran Pete Hegseth as defence secretary and vaccine sceptic Robert F Kennedy Jr as health secretary—both confirmed by the Senate. Marco Rubio is the secretary of state, while billionaire supporter Elon Musk is advising on mass layoffs, contract terminations, and a drastic federal government downsizing. Here's a closer look at his top officials: Secretary of state - Marco Rubio Florida Senator Rubio, 53, was confirmed as US secretary of state just hours after Trump was sworn into office. He is now serving as the top US diplomat when representing the country overseas, and also the president's main adviser on foreign affairs. Rubio, who is the first Latino person to hold the post in US history, takes a hawkish view of China. He opposed Trump in the 2016 Republican primary but has since mended fences.  Defence secretary - Pete Hegseth Hegseth, a military veteran and Fox News host with no prior political experience,  was confirmed as defence secretary less than a week after Trump's inauguration. His appointment was highly anticipated amid ongoing wars in Ukraine and Gaza. \"Nobody fights harder for the troops,\" Trump said of Hegseth. After Hegseth's nomination it emerged that he was investigated in 2017 for an alleged sexual assault. He was never arrested or charged and denies the allegation.  His lawyer confirmed he paid a woman that year to stay silent about a separate assault claim he feared could cost him his Fox job—an accusation he also denies. Attorney general - Pam Bondi Trump's first pick for attorney general, former Florida Congressman Matt Gaetz, withdrew after a week of controversy over a congressional investigation into sexual misconduct and drug allegations against him, which he denied.                Six hours later, Trump named former Florida Attorney General Pam Bondi as his replacement. \"Pam was a prosecutor for nearly 20 years, tough on violent criminals, and made Florida's streets safe,\" he wrote. Bondi previously served on Trump's Opioid and Drug Abuse Commission and was part of his defence team during his first impeachment trial. Department of the interior - Doug Burgum Burgum, the former governor of North Dakota, leads the Department of the Interior, which is responsible for the management and conservation of federal lands and natural resources.   A software entrepreneur who sold his small company to Microsoft in 2001, Burgum briefly ran in the 2024 Republican primary before dropping out, endorsing Trump and quickly impressing him with his low-drama persona and sizeable wealth. Health and human services - Robert F Kennedy Jr RFK Jr, as he is known, is an environmental lawyer, vaccine sceptic and the nephew of former President John F Kennedy. He recently added leading the Department of Health and Human Services to his resume. Despite having no medical qualifications, Kennedy, 70, now has broad remit over US federal health agencies - including those that oversee approval of vaccines and pharmaceuticals.  Kennedy has endorsed a number of health claims that are not backed by scientific evidence, including many on vaccines, which have concerned many medical experts. Food and Drug Administration - Dr Marty Makary Trump has nominated Makary to lead the Food and Drug Administration, the organisation responsible for the safety of prescription drugs and vaccines . Trump announced in his nomination that Dr Makary would be ideal to \"course-correct and refocus the Agency\". The Johns Hopkins University professor is an author, surgeon and trained cancer specialist. He spoke to conservative media outlets during the Covid-19 pandemic, questioning the need for masks and expressing concerns over the Covid vaccine among young children, which research showed helped prevent severe illness.  Veterans' affairs - Doug Collins Former Georgia congressman Doug Collins leads the US Department of Veterans' Affairs. Collins was a Trump loyalist when he served in Congress from 2013-21 and an outspoken advocate for the president during both impeachment hearings.  An Iraq war veteran who now serves as a chaplain in the US Air Force Reserve, Collins left Congress for an unsuccessful bid for the Senate in his home state of Georgia.  Homeland security - Kristi Noem Former South Dakota Governor Noem is in a key role in the administration, overseeing US security, including its borders, cyber-threats, terrorism and emergency response. The agency has a $62bn (£48bn) budget and employs thousands of people. It incorporates a wide variety of agencies under its umbrella, ranging from Customs and Border Protection to the Federal Emergency Management Agency. Transportation secretary - Sean Duffy The former congressman and Fox Business host leads the Department of Transportation. He is in charge of aviation, automotive, rail, transit and other transportation policies at a department with an annual budget of roughly $110bn. In the role, the secretary can expect to face a number of safety-related aviation issues, including a series of deadly plane crashes in the US in the early months of 2025. Energy secretary - Chris Wright Oil and gas industry executive Wright leads the Department of Energy, where he is expected to fulfil Trump's campaign promise to \"drill, baby, drill\" and maximise US energy production. Wright, the founder-CEO of Liberty Energy, has called climate activists alarmist and likened Democrats' push for renewables to Soviet-style communism. In a video posted to his LinkedIn profile last year, he said: \"There is no climate crisis, and we're not in the midst of an energy transition either.\" Commerce secretary - Howard Lutnick Lutnick was the co-chair of Trump's transition team. Trump said Lutnick, as a member of the cabinet, would spearhead the administration's \"tariff and trade agenda\". The billionaire and former CEO of the investment firm Cantor Fitzgerald is overseeing 50,000 employees tasked with growing the economy and creating jobs, among other goals.  Education secretary - Linda McMahon World Wrestling Entertainment (WWE) co-founder and Trump transition co-chair, McMahon, was picked for education secretary. A long-time Trump ally, McMahon led the Small Business Administration during Trump's first presidency and donated millions of dollars to his presidential campaign. Trump has promised to shut down the education department - a job McMahon could be tasked with if she wins Senate confirmation. \"I wholeheartedly support and agree with this mission,\" she said during her confirmation hearing. Treasury secretary - Scott Bessent Scott Bessent leads the Treasury Department, a post with wide oversight of tax policy, public debt, international finance and sanctions.  A Wall Street financier who once worked for liberal billionaire George Soros, Bessent was an early backer of Trump's 2024 bid and brings a relatively conventional resume to the role.  On the campaign trail, Bessent told voters that Trump would usher in a \"new golden age with de-regulation, low-cost energy, [and] low taxes\".  \"[He] has long been a strong advocate of the America First Agenda,\" Trump said about his pick.  Labour secretary - Lori Chavez-DeRemer Chavez-DeRemer has been selected by Trump to lead the US Department of Labor - which oversees worker health and safety and workforce laws and administers unemployment and workers compensation.  Chavez-DeRemer had been serving in the US Congress since 2023 but lost her re-election bid in Oregon in the November election, despite winning strong trade union support. Housing secretary - Scott Turner Turner, an NFL veteran and motivational speaker, leads the US Department of Housing and Urban Development (Hud), which aims to address the country's housing needs.  Typically, Hud enforces laws, prevents discrimination and provides assistance to those in need, through both low-income housing and helping Americans avoid foreclosure.  Turner served as the executive director of the White House Opportunity and Revitalization Council during Trump's first term.  Agriculture secretary - Brooke Rollins Rollins grew up on a farm, but her most recent job was as co-founder and head of the America First Policy Institute, a think tank to promote Trump's public policy agenda.  Rollins graduated from the Texas A&M University with a degree in agriculture development and later obtained her law degree from the same university.  As agriculture secretary, she oversees farm subsidies, federal nutrition programmes, meat inspections and other facets of the country's agricultural industry.  Outside the 15 department heads who make up the core of the cabinet, there are several other roles that are often given cabinet-rank, like the FBI director and the head of the Environment Protection Agency (EPA). Some of them require Senate approval, but others do not. Here are some of the important names: Department of Government Efficiency - Elon Musk Trump tapped close ally and billionaire entrepreneur Elon Musk to lead what he has termed a Department of Government Efficiency.  It is not a cabinet-level department or agency approved by Congress, but it does include paid staff with access to various government agencies. Known as Doge - a nod to a cryptocurrency promoted by Musk - it serves in an advisory capacity to \"dismantle government bureaucracy, slash excess regulations, cut wasteful expenditures and restructure federal agencies\", Trump said.  Musk, the world's richest man, has proven to be one of Trump's most controversial picks as he has suggested massive cuts to the federal workforce and government funding.  Other names to know: Aged just 10 when his father first became president, he's now well over six feet tall, and goes to New York University. The US president spoke about his plans for the second Trump administration, as well as criticising the 'corrupt establishment'. Watch the historic moment when the 45th president is returned to power as he takes the oath of office.  Elon Musk, Mark Zuckerberg and Jeff Bezos were among those invited inside the Capitol for Donald Trump's swearing in. Thousands of people joined in on demonstrations as the United States prepares to inaugurate its new president. The outgoing US president warned against power in the hands of the wealthy, the threat of the tech industry and climate change. Trump's pick for US attorney general was pressed on claims of election fraud and pardons for January 6 rioters. Donald Trump's defence secretary nominee was asked about his stance on women in combat and his alleged excessive drinking. Harris, who Trump defeated in the 2024 election, presided over the event as required by the US Constitution. Among the allies the president-elect has chosen to join his administration are contentious figures, including among fellow Republicans. The president-elect has nominated RFK to lead the Department of Health and Human Services. The suspect used an “improvised incendiary device” to start the fire in Portland, Oregon, ahead of the US election. A week after losing the election, Kamala Harris's team are still appealing for funds. Republicans have won control of both chambers of Congress, yielding Trump limited congressional oversight for at least 2 years.  The president and president-elect shook hands as part of a long-standing tradition signifying the transfer of power. Given all the things they’ve said about each other, Joe Biden and Donald Trump’s meeting could be really awkward. 'I think Putin believes that he knows how to play Trump', says Trump's former adviser John Bolton. The Russian president says he was impressed by Trump's reaction to the first assassination attempt against him. The president addressed Americans from the White House for the first time since Donald Trump's election victory. After Donald Trump's decisive victory, we asked Americans what they think made the difference for each campaign. US President Donald Trump’s new agency is tasked with slashing costs - but faces opposition. A conservative think tank set out a sweeping vision for governing that could influence Trump's next term. What influence has it had so far? The conservative from Ohio shot to fame writing about his hard upbringing and is now first in line to the US presidency. The full Senate voted in the evening, approving Bondi as the next attorney general, tasked with running the Department of Justice.   Trump claims more taxes on trade wouldn't be a cost to the US - but almost all economists dispute this. Copyright 2025 BBC. All rights reserved.  The BBC is not responsible for the content of external sites. Read about our approach to external linking.  "
        ],
        [
         "31",
         "https://www.bbc.com/news/articles/c5yxv0yj40ko",
         "2025-02-25T22:13:02.650Z",
         "Natalie Sherman",
         "Trump orders copper probe in first step to tariffs",
         "US President Donald Trump has ordered an investigation of copper imports in what is a first step toward potential tariffs on the metal. ",
         "US President Donald Trump has ordered an investigation of copper imports in what is a first step toward potential tariffs on the metal.  Administration officials said the White House wanted to find ways to boost US production of copper, a component used to make electric cars, ships and data centres that they said was vital to national security.  The move launches a process that Trump previously used to put tariffs on steel and aluminium, opening a new front in his trade war.  Trump has already raised tariffs on goods from China, while threatening a range of more sweeping trade actions, including a 25% border tax on goods from Canada and Mexico and new \"reciprocal\" tariffs set for each country. The trade fights have drawn threats of retaliation, while raising alarm among consumers and businesses in the US about higher costs. Concerns about the plans have contributed to a sharp drop in consumer confidence on recent surveys. But administration officials said on Tuesday they believed this action was necessary to protect US copper companies from competition from China. \"China has long used industrial capacity and dumping as an economic weapon to dominate global markets, systematically undercutting competitors and driving rivals out of business,\" Trump trade advisor Peter Navarro said. \"It's time for copper to come home,\" Commerce Secretary Howard Lutnick said.  Tariffs are taxes charged on goods imported from other countries, which are paid by the company that is bringing in the goods.  They are intended to support domestic production by making imports more expensive. The US is already a major copper producer, while also importing the metal mainly from Chile, Canada and Mexico. China's global copper exports rose last year, as domestic demand weakened, and authorities raced to curb production. The so-called 232 investigation by the Commerce Department will look at copper imports, as well as imports of copper \"derivatives\". The timeline of the probe was not clear. On a background briefing about the action, a White House official said the results of the investigation would inform the level of possible tariffs. The BBC's Analysis Editor Ros Atkins looks at why the US wants access to Ukraine's minerals. Ireland has a goods-trade surplus with the US of just over €50bn (£41.6bn), according to new data. Trump wants US vehicles to be more popular in Europe, but it's a difficult market for them to crack. The surprise inclusion of VAT to calculate tariffs prompts questions over the possible impact on British businesses. He wants to hit back at countries that place import taxes on American goods that he thinks are too high. Copyright 2025 BBC. All rights reserved.  The BBC is not responsible for the content of external sites. Read about our approach to external linking.  "
        ],
        [
         "32",
         "https://www.bbc.com/news/articles/c2erg38vjx8o",
         "2025-02-25T21:50:30.874Z",
         "Kayla Epstein",
         "Who is Doge's official leader? White House says it's not Musk",
         "On Monday afternoon, a federal judge had a simple question for the Trump administration's lawyers: Is tech billionaire Elon Musk the Department of Government Efficiency's administrator?",
         "On Monday afternoon, a federal judge had a simple question for the Trump administration's lawyers: Is tech billionaire Elon Musk the Department of Government Efficiency's administrator? The agency more popularly known as \"Doge\" is Musk's brainchild, but the White House insists that he is not its leader - or even employed by it.  Justice department lawyer Bradley Humphreys told the judge that: \"I don't have any information beyond he's a close adviser to the president.\" White House Press Secretary Karoline Leavitt doubled down on this position at a Tuesday press briefing. \"The president tasked Elon Musk to oversee the Doge effort,\" she said, but she later added that \"career officials\" and appointees were helping Musk run Doge, and that people who have \"onboarded\" as federal employees were working at various agencies. She declined to provide specific names, but she announced that Musk would attend President Donald Trump's first cabinet secretary meeting alongside the Secretary of Defense, the Attorney General and other top US political appointees who were vetted and confirmed by the Senate. The White House later told the BBC that a person named Amy Gleason is the acting administrator. They did not provide additional details about her or when she was appointed.  Ms Gleason declined to comment, CBS News reported. Musk has been leading an outside effort to aggressively curtail government spending through funding cuts and firings. \"They're playing a game,\" said Max Stier, president and CEO of the non-partisan Partnership for Public Service, an organisation that has provided past administrations with procedure and ethics guidance. \"If [Musk] were actually the administrator, then this issue about him needing Senate confirmation and his actually having to abide by the conflict of interest laws would be much clearer.\" Experts said that Musk has given the impression of being in charge of Doge by staffing the government entity with employees and engineers from his various companies, posting constantly about its work on X, appearing alongside Trump in the Oval Office to promote the cuts it has made to the federal workforce, and representing it on stage at the Conservative Political Action Committee gathering last week while wielding a chainsaw. \"We're in Alice in Wonderland right now,\" Mr Stier said. \"We're through the looking glass.\" Trump established Doge by renaming the United States Digital Service - an agency focused on digital and web infrastructure - to the United States Doge Service via an executive order. The order establishes Doge's leadership structure, saying that \"there shall be a USDS Administrator\" that reports up to the White House chief of staff. It does not name a specific individual for the role. In fact, Musk's name never appears in the executive order, though Trump has credited his work with the team. Doge's arrival has caused turbulence in the existing US Digital Service ranks. The administration fired several staffers there earlier this month, and the Associated Press reported that 21 employees resigned in protest on Tuesday.  In a letter to management, they alleged Doge employees were creating \"significant security risks\". \"We swore to serve the American people and uphold our oath to the Constitution across presidential administrations,\" their letter stated, according to the AP. \"However, it has become clear that we can no longer honor those commitments.\" BBC News has reviewed the letter but has not been able to verify its contents. A series of lawsuits challenging Doge have slowed some of the administration's effort to cut the federal workforce, and they have forced the Trump White House to face the question of Musk's status in court.  Until the  administration stated that Ms Gleason was the acting administrator late on Tuesday, it gave vague answers about Doge's leadership across multiple lawsuits.  Though she did not rule in the hearing on Monday, Judge Colleen Kollar-Kotelly expressed concern about Doge's constitutionality. She noted it might run afoul of the appointment clause of the US Constitution, which sets out nominating procedures for agency leaders. \"It does seem to me if you have people that are not authorised to carry out some of these functions that they're carrying out that does raise an issue,\" she said.  \"I would hope that by now we would know who is the administrator, who is the acting administrator and what authority do they have?\" Experts say that Musk's work does not fit the traditional definition of \"special government employee\", which has specific rules. The White House has previously said that Musk \"is a special government employee and has abided by all applicable federal laws\".  William Resh, a professor who studies the executive branch at the University of Southern California, said typically such employees have been hired as advisers for their relative expertise. \"But they do not hold distinct executive power the way that a Senate-confirmed appointee would, or even a unilateral permanent appointments that a president can make,\" he said.  While Musk appears to have made several moves regarding the federal workforce largely unencumbered, his recent demand that federal employees list five accomplishments in an email was met with pushback from some Trump-appointed agency leaders. The directive was walked back as optional at some agencies, over concerns staff could reveal sensitive information and that the order violated federal policies. Asked whether this showed tension between Doge and Trump's other officials, Leavitt insisted that \"everyone is working together as one unified team at the direction of President Trump\". Follow the twists and turns of Trump's second presidential term with North America correspondent Anthony Zurcher's weekly US Politics Unspun newsletter. Readers in the UK can sign up here. Those outside the UK can sign up here. The White House said the deal, which would give the US access to mineral deposits, was not signed on Friday. The US president clashes with Ukraine's leader in fiery Oval Office exchange over ending the war with Russia. The president ignored the questions that were shouted as he was leaving the White House. The US and Ukrainian presidents, who have traded barbs in the past, began a new war of words this week. US President Donald Trump and Volodymyr Zelensky disagree during the Ukrainian president's US trip.  Copyright 2025 BBC. All rights reserved.  The BBC is not responsible for the content of external sites. Read about our approach to external linking.  "
        ],
        [
         "33",
         "https://www.bbc.com/news/articles/cj0qrj20g5vo",
         "2025-02-25T19:05:42.067Z",
         "Ana Faguy",
         "Key US agencies tell staff not to answer Musk email on what they did last week",
         "Key US departments within the Trump administration have told staff not to comply with a Saturday email from Elon Musk's cost-cutting initiative asking what they accomplished in the past week.",
         "Key US departments within the Trump administration have told staff not to comply with a Saturday email from Elon Musk's cost-cutting initiative asking what they accomplished in the past week. The FBI, state department and Pentagon were among agencies that instructed employees not to answer the message.  Other department heads advised staff to comply, while some told workers to wait for further guidance before responding. Musk said failure to respond by Monday at midnight would be interpreted as the employee resigning. President Donald Trump has yet to comment on the email. The conflicting guidance caused confusion for hundreds of thousands of government bureaucrats as Musk's Department of Government Efficiency (Doge) task force leads an outside effort to aggressively reduce government spending. The message sent to millions of federal employees on Saturday evening came after Musk posted on his social media platform X that government staff would \"shortly receive an email requesting to understand what they got done last week\". In a copy of the email obtained by the BBC, employees were asked to respond explaining their accomplishments from the past week in five bullet points - without disclosing classified information.  The Office of Personnel Management (OPM), the federal government's human resources agency, confirmed the email was authentic. The message did not mention whether declining to comply could affect employment status, despite Musk's social media assertion that \"failure to respond will be taken as a resignation\".  The message also appears to be at odds with an assessment released in February by OPM that said any responses to government-wide emails must be \"explicitly voluntary\". Newly confirmed FBI Director Kash Patel told his staff in a separate email later on Saturday that they should \"pause any responses\". \"FBI personnel may have received an email from OPM requesting information,\" Patel wrote in a message obtained by CBS News.  \"The FBI, through the Office of the Director, is in charge of all of our review processes, and will conduct reviews in accordance with the FBI procedures.\" The state department sent a similar message, saying leadership would respond on behalf of the agency. \"No employee is obligated to report their activities outside of their Department chain of command,\" an email from Tibor Nagy, acting undersecretary for management, said. The Pentagon told its staff: \"When and if required, the Department will coordinate responses to the email you have received from OPM.\" The Department of Homeland Security, the Federal Emergency Management Agency, and the director of US spy agencies gave their employees similar instructions, according to reports.   In a sign that the OPM email may have come as a surprise to many agencies, a senior figure at the Department of Justice wrote to staff on Saturday evening to say: \"Media reports indicate the email was distributed to employees throughout the federal government.\"  The message added that \"at this point, we have no reason to believe this message is spam or malicious\". Later on Saturday evening, a follow-up email was sent clarifying that the OPM message was \"legitimate\" and that \"employees should be prepared to follow the instructions as requested\". The justice department message also came with a warning to staff: \"Do not include any sensitive, confidential, or classified information in your response. Should you have any questions about the contents of your response please contact your supervisor. \"If we receive additional guidance or information, I will update all employees, as necessary.\" Agencies such as the Department of Transportation, the Secret Service and the Cybersecurity and Infrastructure Agency also encouraged their staff to comply, reports said. Other departments, including the National Security Agency, the Internal Revenue Service and the National Oceanic and Atmospheric Administration, requested that employees await further guidance. OPM did not immediately respond to the BBC's inquiry about whether some staff might be exempt. The American Federation of Government Employees, the largest union representing federal employees, criticised the message as \"cruel and disrespectful\" and threatened to sue. It is unclear how the email affects any of the roughly three million federal workers who may not have had access their emails this weekend.  Other government employees, such as those at the Consumer Financial Protection Bureau, were placed on leave in the last month.  The message came hours after Trump praised Musk's work on social media, adding: \"I would like to see him get more aggressive.\" The Democratic ranking member on the House Committee on Oversight and Government Reform hit out at the directive in a letter to the OPM. Congressman Gerry Connolly of Virginia wrote that the agency should \"immediately clarify that federal employees' nonresponse to this ill-conceived, weekend email does not constitute resignation\". \"This threat is illegal, reckless, and yet another example of the cruel and arbitrary chaos Mr Musk is inflicting on the people's government and its dedicated public servants.\" Most Republican members of Congress have been defending Musk and his broader efforts. Congressman Mike Lawler of New York told ABC on Sunday that Musk's efforts were a \"comprehensive, forensic audit of every department and agency in the federal government\". But Senator John Curtis, a Republican representing Utah, criticised Musk's methods, even as said he supported the ultimate goal of Doge.  \"If I could say one thing to Elon Musk, it's like, please put a dose of compassion in this. These are real people. These are real lives. These are mortgages,\" Curtis told CBS.  The White House said the deal, which would give the US access to mineral deposits, was not signed on Friday. The US president clashes with Ukraine's leader in fiery Oval Office exchange over ending the war with Russia. The president ignored the questions that were shouted as he was leaving the White House. The US and Ukrainian presidents, who have traded barbs in the past, began a new war of words this week. US President Donald Trump and Volodymyr Zelensky disagree during the Ukrainian president's US trip.  Copyright 2025 BBC. All rights reserved.  The BBC is not responsible for the content of external sites. Read about our approach to external linking.  "
        ],
        [
         "34",
         "https://www.bbc.com/news/articles/c5y0de4wpvlo",
         "2025-02-25T18:11:49.477Z",
         "Nada Tawfik",
         "How a dramatic day at the UN deepened cracks between Europe and US",
         "A dramatic day of high stakes diplomacy at the United Nations has exposed growing cracks in the transatlantic alliance since President Donald Trump returned to the global stage and massively shifted US foreign policy.",
         "A dramatic day of high stakes diplomacy at the United Nations has exposed growing cracks in the transatlantic alliance since President Donald Trump returned to the global stage and massively shifted US foreign policy. When Russia invaded Ukraine three years ago, Europe had no stronger partner than the United States. But this week, in the halls of the General Assembly and at the Security Council, the US worked against its closest allies and sided with Russia, Belarus and North Korea to pass resolutions on the conflict in Ukraine. To mark the third anniversary of Moscow's invasion, Ukraine sought a symbolic General Assembly resolution that would require the 193-member body to reaffirm Kyiv's territorial integrity and call for Russia to withdraw its forces in line with the UN charter. That resolution did pass on Monday, but with less support than in past years. Many members abstained to avoid a tricky tension created by the US. Washington's diplomats had urged other countries to vote against the measure and to instead support their \"forward looking resolution\" that was only three short paragraphs. It took a neutral stance on the war, without blaming Russia, and called for a swift end with a lasting peace to follow. Washington not only introduced their measure in the General Assembly where every nation's vote is equal, but also in the more powerful Security Council. Resolutions there are legally binding - though sometimes hard to enforce - and there had never been council action on Ukraine because of Russia's veto power as a permanent member. The move caught Europe off guard. One European diplomat told the BBC that the US behaved like a bully and did not take into account their stance on their continent's security. Another who sits on the Security Council, Slovenia's ambassador Samuel Zbogar, told the BBC that Europe is struggling to adjust to the 180-degree change in the US position - and the speed at which Washington is moving. He said the European Union will need to do some reflecting at the body's council meeting next week. \"Leaders will have to develop a plan on how the EU can actively be involved in finding peace, rather than reacting to what others are doing. It's up to us now in Europe to come forward,\" he told the BBC. There were plenty of reactions in the halls of UN headquarters in New York, as European leaders worked to reconcile with the latest US position. The UK's ambassador, Dame Barbara Woodward, and French UN Ambassador Nicolas De Riviere attempted to have the Security Council vote postponed, arguing that council members needed more time to consider the text and negotiate. Interestingly, the Chinese were willing to give more time for discussions, but the US and Russia, who are usually on opposite sides of issues on the council, both were against postponement. European members of the council then tried to introduce amendments, as they had successfully done earlier in the General Assembly resolution which led to the US abstaining on its own resolution. In the Security Council, the US threatened to block the proposed amendments to name Russia as the aggressor, reaffirm Ukraine's borders and call for a just peace. They said that it detracted from what Washington was trying to achieve and pursued a war of words rather than an end to the conflict. In the end, the US didn't have to use its veto because Russia voted to block the amended language. The US's neutral resolution then ultimately passed, breaking through three years of Security Council paralysis on the topic of Ukraine because of Russia's veto power. Just months ago, it would have seemed unthinkable that the first resolution adopted regarding the conflict would be one with such limited language - let alone that a resolution like this would be proposed by the US, condoned by Russia and passed without the full support of Europe's five council members. But the US hailed the development, the first action by the council to call for an end to the war. Others were not so celebratory. Richard Gowan, UN Director of the Crisis Group, said after three years of deepening animosity between Russia and the US at the UN, the sight of the two powers coordinating to embarrass Europe was pretty stunning. He said while everyone expected President Trump to be disruptive at the UN, this went beyond most people's expectations. \"The US lobbying against the European-Ukrainian resolution was very crude. US officials were reportedly threatening to cut aid to non-compliant states. This has left a nasty taste among many UN members,\" Mr Gowan said. Follow the twists and turns of Trump's second presidential term with North America correspondent Anthony Zurcher's weekly US Politics Unspun newsletter. Readers in the UK can sign up here. Those outside the UK can sign up here. The president ignored the questions that were shouted as he was leaving the White House. US President Donald Trump and Volodymyr Zelensky disagree during the Ukrainian president's US trip.  The US president accused the Ukrainian leader of being disrespectful in a tense meeting in the Oval Office. The United States has never had an official language since it was founded nearly 250 years ago. Donald Trump will not get involved in security guarantees for Ukraine, but can Europe fill the gap? Copyright 2025 BBC. All rights reserved.  The BBC is not responsible for the content of external sites. Read about our approach to external linking.  "
        ],
        [
         "35",
         "https://www.bbc.com/news/articles/c2417q5y2z0o",
         "2025-02-25T17:26:52.459Z",
         "Ana Faguy",
         "US Supreme Court orders new trial for Oklahoma death row inmate Richard Glossip",
         "The US Supreme Court has ordered a new trial for Richard Glossip, an Oklahoma man on death row. ",
         "The US Supreme Court has ordered a new trial for Richard Glossip, an Oklahoma man on death row.  The court ruled 5-3 in favour of Glossip, reversing an Oklahoma Court of Criminal Appeals ruling.  The move comes after the state's Republican attorney general joined Glossip in calling for a new trial.  Glossip, 62, was convicted in the 1997 murder of the owner of an Oklahoma City motel where he worked. He has had nine execution dates postponed, and eaten his \"last meal\" three times. Justice Sonia Sotomayor wrote in Tuesday's opinion for the court: \"We conclude that the prosecution violated its constitutional obligation to correct false testimony.\" She was joined in the ruling by fellow liberal justices Elena Kagan and Ketanji Brown Jackson. Brett Kavanaugh and Chief Justice John Roberts, both conservatives, also joined the opinion.  Justice Amy Coney Barrett, another conservative, agreed with the opinion but said she would have sent the case back for more proceedings. Justice Neil Gorsuch did not join in the case.  Don Knight, an attorney for Glossip, called the ruling \"a victory for justice and fairness in our judicial system\". The defence lawyer said Glossip will be given the chance to have a fair trial \"that he has always been denied\". It will be up to Oklahoma prosecutors to determine how to proceed with his case. Glossip has maintained his innocence for 27 years. His boss, Barry Van Treese, owner of the Best Budget Inn motel in Oklahoma City , was beaten to death with a baseball bat in 1997. Glossip's colleague, Justin Sneed, was convicted of the killing, but said Glossip had told him to carry out the murder. Sneed confessed to the murder but was able to evade execution by accepting a plea deal that involved testifying that Glossip paid him $10,000 to do it.   Glossip admitted to assisting Sneed in covering up the murder after it happened, but denied knowing of any plan to kill Van Treese. It has since emerged that prosecutors did not disclose that Sneed, a methamphetamine addict, had been treated for a serious psychiatric condition. \"Had the prosecution corrected Sneed on the stand, his credibility plainly would have suffered,\" Justice Sotomayor wrote.  \"That correction would have revealed to the jury not just that Sneed was untrustworthy ... but also that Sneed was willing to lie to them under oath.\" Glossip was first convicted in 1998, but that was overturned in 2001. He was convicted again three years later.  In 2015, just a few steps away from the execution chamber, his execution was halted to review the lethal injection drugs.  In 2023, the Supreme Court intervened after Oklahoma's attorney general and Glossip asked for a new trial.  A number of big names have backed Glossip's efforts in the past including Pope Francis, Kim Kardashian and Sir Richard Branson.   John O'Hare has a love of English football and travels more than 4,000 miles to watch his team. US election 2024 data tables for Oklahoma showing the results for the state presidential, gubernatorial and senate elections.  A trail of destruction was left after multiple tornadoes tore through the state. The execution of Alan Eugene Miller marks the fifth this week in the US - its greatest use of capital punishment since 2003. The blaze started with a spark caused by a portable lithium-ion battery cable. Copyright 2025 BBC. All rights reserved.  The BBC is not responsible for the content of external sites. Read about our approach to external linking.  "
        ],
        [
         "36",
         "https://www.bbc.com/news/articles/c86pwpy7vx6o",
         "2025-02-25T16:56:31.353Z",
         "Ana Faguy & Brandon Drenon",
         "Vivek Ramaswamy announces run for governor in Ohio",
         "Vivek Ramaswamy, a biotech entrepreneur and Donald Trump loyalist, announced his 2026 campaign for Ohio governor on Monday.  ",
         "Vivek Ramaswamy, a biotech entrepreneur and Donald Trump loyalist, announced his 2026 campaign for Ohio governor on Monday.   \"I am running to be the governor of a great state at the heart of the greatest nation known to mankind,\" he told a crowd of supporters.  Ramaswamy, a former Republican presidential candidate, was selected by Donald Trump after exiting the race to co-lead the Department of Government Efficiency (Doge) alongside Elon Musk, but left the job to pursue elected office.  His candidacy was given an early boost of momentum after receiving an endorsement from President Trump.  \"He will be a great Governor of Ohio, will never let you down, and has my complete and total endorsement,\" Trump said on his social media platform on Monday. Ramaswamy, 39, quickly became a Trump ally after exiting the Republican primary, where he pitched himself as a political outsider - like Trump - who wanted to develop the president's \"America First\" agenda. After a fourth-place finish in the Iowa caucuses, he left the race and became a vocal Trump supporter. He was later selected to co-lead Doge alongside the Tesla CEO and billionaire Musk.  He is running to succeed current Republican Governor Mike DeWine, considered a moderate conservative, who has spoken out against Trump in the past.  Speaking to hundreds gathered inside a hulking aerospace warehouse in a suburb of Cincinnati, Ramaswamy framed his candidacy in the image of Trump. \"President Trump is reviving our conviction in America. We require a leader here at home who will revive our conviction in Ohio,\" Ramaswamy said.  Ohio's Republican primary election will be held next year along with the nationwide elections for Congress.   Like Musk, Ramaswamy previously backed government-slashing proposals such as eliminating the FBI and the Internal Revenue Service (IRS).  The native Ohioan also expressed a desire to \"gut\" the programme for H-1B visa workers, used to hire skilled foreign workers in the US, arguing that American culture has \"venerated mediocrity over excellence\". Ramaswamy, a wealthy pharmaceutical entrepreneur, was estimated by Forbes last year to have a net worth of $960m (£758m). The White House said the deal, which would give the US access to mineral deposits, was not signed on Friday. The US president clashes with Ukraine's leader in fiery Oval Office exchange over ending the war with Russia. The president ignored the questions that were shouted as he was leaving the White House. The US and Ukrainian presidents, who have traded barbs in the past, began a new war of words this week. US President Donald Trump and Volodymyr Zelensky disagree during the Ukrainian president's US trip.  Copyright 2025 BBC. All rights reserved.  The BBC is not responsible for the content of external sites. Read about our approach to external linking.  "
        ],
        [
         "37",
         "https://www.bbc.com/news/articles/c1jpg0069wgo",
         "2025-02-25T12:17:56.688Z",
         "Mallory Moench",
         "Theranos founder Elizabeth Holmes loses fraud appeal",
         "Theranos founder and former chief executive Elizabeth Holmes has lost an appeal against her conviction for defrauding investors in her blood-testing company.",
         "Theranos founder and former chief executive Elizabeth Holmes has lost an appeal against her conviction for defrauding investors in her blood-testing company. Holmes was sentenced to more than 11 years in prison. In her appeal, she challenged trial evidence and testimony and argued that statements by her ex-business and romantic partner Ramesh \"Sunny\" Balwani about his level of responsibility for Theranos' financial model should have been included. He was jailed for more than 12 years. The Ninth Circuit Court of Appeals rejected the arguments. Judge Jacqueline H Nguyen wrote that Theranos's claim of being able to run blood tests with a drop from a finger prick instead of a needle in a vein was \"nothing more than a mirage\". \"The grandiose achievements touted by Holmes and Balwani were half-truths and outright lies,\" Nguyen wrote in the opinion on behalf of a three-judge panel published on Monday. Holmes was convicted in 2022 of conspiracy and multiple charges of wire fraud for misleading investors over the company's financial health and the effectiveness of its technology. Balwani, who was tried separately and additionally convicted of defrauding patients in 2022, also lost his appeal. In the appeal, both challenged a court order to pay $452m (£358m) in restitution to victims, which the court upheld. In Holmes's appeal, she argued that statements from Balwani where he said he \"owned\" the company's financial model should have been included in the trial. The appeal also argued that former Theranos employees offered improper expert testimony and a government inspection report should not have been included as evidence - all arguments the court dismissed. Silicon Valley start-up Theranos was once valued at $9bn (£7bn). But in late 2015, news reporting revealed internal struggles at the company and exposed the limitations of its technology. After a two-and-a-half-year investigation, a grand jury indicted Holmes and Balwani, leading to their convictions and sentencings. Holmes entered prison in Texas in 2023. The White House said the deal, which would give the US access to mineral deposits, was not signed on Friday. The US president clashes with Ukraine's leader in fiery Oval Office exchange over ending the war with Russia. The president ignored the questions that were shouted as he was leaving the White House. The US and Ukrainian presidents, who have traded barbs in the past, began a new war of words this week. The US president accused the Ukrainian leader of being disrespectful in a tense meeting in the Oval Office. Copyright 2025 BBC. All rights reserved.  The BBC is not responsible for the content of external sites. Read about our approach to external linking.  "
        ],
        [
         "38",
         "https://www.bbc.com/news/articles/c2kgxk9eqk1o",
         "2025-02-25T04:25:40.435Z",
         "Nadine Yousif",
         "Trump dominates Liberal leadership debate in Canada",
         "Candidates vying to replace Prime Minister Justin Trudeau as leader of the Liberal Party of Canada faced each other for the first time on Monday in a French-language debate.",
         "Candidates vying to replace Prime Minister Justin Trudeau as leader of the Liberal Party of Canada faced each other for the first time on Monday in a French-language debate. The stage was shared by four hopefuls: former governor of the banks of Canada and England Mark Carney, former Finance Minister Chrystia Freeland, Liberal government House leader Karina Gould, and businessman and former MP Frank Baylis. The question of how to deal with Donald Trump dominated the first half, as the US president has repeatedly threatened to tariff Canada and make it the \"51st state.\" Candidates also answered questions about domestic matters like immigration, healthcare and the high cost of living. Early in the debate, Freeland - whose resignation as finance minister in December triggered the collapse of Trudeau's leadership - stated that Trump represented \"the greatest threat to Canada since World War Two\". She frequently drew on her experience in government, saying that she had successfully faced Trump during his first term when she helped renegotiate North America's longstanding free-trade agreement. But Freeland warned that Trump's second term might be worse for Canada. \"He wants to turn Canada into the 51st state, and it's no joke,\" she said. \"That is why he is supporting [Russian President] Vladimir Putin's criminal attempt to redraw Ukraine's borders.\" \"Trump wants to redraw our borders too,\" Freeland said.  To counter these threats, Freeland and the other candidates suggested strengthening trade ties with the EU and the UK. Baylis proposed a \"new economic bloc\" consisting of Canada, the UK, New Zealand and Australia, noting that all four countries shared the same values, cultures and governing systems. Carney, who is frontrunner in the polls, focused his message on helping Canada achieve economic prosperity. He proposed doing so by leveraging its resources, including critical minerals and metals, as well as making Canada a \"superpower of clean energy\" and removing trade barriers between provinces. He, too, agreed with Freeland that Trump's second term was different from the first. \"He is more isolationist. He is more aggressive,\" Carney said. \"In the past he wanted our markets. Now he wants our country.\" He added that he would be in favour of imposing dollar-for-dollar tariffs on the US should Trump move ahead with his threat to levy a 25% tax on all Canadian goods starting on 4 March. Gould, the youngest candidate on the stage, positioned herself as the candidate \"for today and the future\", with a message that homed in on how a Liberal Party under her leadership would work to make life more affordable for Canadians. The candidates also addressed shifting US policy on Ukraine. As the four debated, Trudeau was in Kyiv marking three years since the Russia-Ukraine war began. All four candidates agreed that Canada should continue supporting Ukraine. Freeland suggested that money seized from Russia through sanctions be redistributed to help Ukraine's war effort, while Carney stated that any discussion on Ukraine's future could not happen without the Ukrainians at the table. Freeland also suggested that Canada should foster closer ties with Denmark which, she noted. was also facing threats from Trump who has signalled his desire to take over Greenland - a Danish territory. For the second half of the debate, candidates offered up their ideas for how to help Canada reduce its federal budget deficit, tackle crime and increase its military spending. They were also asked about climate change, with both Freeland and Carney saying they no longer supported a carbon tax on consumers - a key climate policy of the Trudeau government that has become unpopular with Canadians. At certain points, candidates also took aim at Conservative Party leader Pierre Poilievre, saying he would be unfit to defend Canada against Trump. Poilievre is currently leading in the national polls, though the gap between him and the Liberal Party has narrowed since Trudeau's resignation. The Conservative leader has since focused his attacks on Carney, arguing that a Liberal Party under his leadership would not be different from that under Trudeau. Monday's debate is the first of two, with a second, English-language debate slated for Tuesday. Liberal Party members will vote for their next leader on 9 March, after which Trudeau is expected to step down. The French-language debate is especially important for Francophone Canadians in Quebec, whose votes are influential in helping decide which party will form Canada's next government. Whoever is elected as leader would become Canada's next prime minister until the next general election, which must be held on or before 20 October. The leader of the Canadian province campaigned on the need to fight US President Donald Trump's threatened tariffs. He also said he would move ahead with 25% tariffs on imports from Mexico and Canada, which had been paused. Canada head coach Jesse Marsch says he feels \"ashamed\" as an American by US President Donald Trump's comments on Canada becoming the 51st state. Tariffs are a central part of Trump's political vision, but economists warn they could put prices up. Canada's American manager Jesse Marsch is \"ashamed\" that US President Donald Trump continues to label Canada \"the 51st state\". Copyright 2025 BBC. All rights reserved.  The BBC is not responsible for the content of external sites. Read about our approach to external linking.  "
        ],
        [
         "39",
         "https://www.bbc.com/news/articles/clyz2xk7d9xo",
         "2025-02-25T04:11:27.366Z",
         "Kayla Epstein",
         "Federal workers left confused as Musk doubles down on threat",
         "US government workers faced widespread confusion on Monday following conflicting advice over compliance with an Elon Musk-backed order to list their last week's work in an email or face termination.",
         "US government workers faced widespread confusion on Monday following conflicting advice over compliance with an Elon Musk-backed order to list their last week's work in an email or face termination. Just 48 hours after an email asking \"what did you do last week?\" was sent, the office behind it clarified responses were voluntary, leaving agencies to decide their approach. But as this new guidance was shared with federal agencies, President Donald Trump weighed in that workers who did not comply with Mr Musk's demand would be fired or \"sort of semi-fired\". And later on Monday evening, Mr Musk reinforced the ultimatum, granting workers a final chance to respond.  The mail from the Office of Personnel Management (OPM) on Saturday, instructed recipients to reply with five examples of what they did over the past seven days, without revealing any classified information. The recipients were asked to respond by  end of Monday. Mr Musk, who is leading the Department of Government Efficiency (Doge), said that  failure to respond would be taken as a resignation.  The comments fuelled backlash, with federal worker unions and activist groups filing a lawsuit in California to halt the email mandate. Key agencies, including the Departments of Defense, Health and Human Services (HHS), Justice, and the FBI—now led by Trump appointees—instructed employees to ignore the directive. This led to widespread uncertainty, with some workers receiving contradictory messages over the weekend. The result was widespread bafflement, as federal workers faced uncertainty over their employment. Many also expressed confusion at the competing guidance they had been given by their respective agencies.  \"They're succeeding in driving us insane,\" one employee who works under HHS told the BBC, and asked not to be named for fear of retaliation. On Monday afternoon, OPM held a call with the heads of human resources at federal agencies and said it was up to each entity to determine how they want to handle the directive employees received Saturday, according to CBS News, the BBC's US partner. The same afternoon, President Trump told reporters at the White House  that Mr Musk's demand was a \"genius\" move. \"There was a lot of genius in sending it,\" he said. \"We're trying to find out if people are working and so we're sending a letter to people, please tell us what you did last week. If people don't respond, it's very possible that there is no such person or they're not working.\" \"And then if you don't answer like you're sort of semi-fired or you're fired because a lot of people are not answering because they don't even exist,\" Trump said. Mr Musk maintained  he was acting on instructions from President Donald Trump.  \"Subject to the discretion of the President, they will be given another chance,\" he  wrote on X, apparently referring to workers who did not respond to his demand by  the end of Monday. \"Failure to respond a second time will result in termination.\" \"The email request was utterly trivial, as the standard for passing the test was to type some words and press send!\" he said in another post. \"Yet so many failed even that inane test, urged on in some cases by their managers. Have you ever witnessed such INCOMPETENCE and CONTEMPT for how YOUR TAXES are being spent?\" Despite pushback from agencies led by Trump appointees, the White House insisted, \"Everyone is working together as one unified team at the direction of President Trump\". \"Any notion to the contrary is completely false,\" White House press secretary Karoline Leavitt said. The statement did not explain why different government agencies were giving different recommendations. The White House said the deal, which would give the US access to mineral deposits, was not signed on Friday. The US president clashes with Ukraine's leader in fiery Oval Office exchange over ending the war with Russia. The president ignored the questions that were shouted as he was leaving the White House. The US and Ukrainian presidents, who have traded barbs in the past, began a new war of words this week. US President Donald Trump and Volodymyr Zelensky disagree during the Ukrainian president's US trip.  Copyright 2025 BBC. All rights reserved.  The BBC is not responsible for the content of external sites. Read about our approach to external linking.  "
        ],
        [
         "40",
         "https://www.bbc.com/news/articles/cx2rnv1zj4go",
         "2025-02-25T03:22:10.308Z",
         "Mike Wendling",
         "Secret Service agent who leapt onto JFK's car during assassination dies at 93",
         "A US Secret Service agent who leapt on to John F Kennedy's limousine as it came under fire in Dallas, and was pictured in famous photos of one of the most dramatic events in US history, has died at the age of 93.",
         "A US Secret Service agent who leapt on to John F Kennedy's limousine as it came under fire in Dallas, and was pictured in famous photos of one of the most dramatic events in US history, has died at the age of 93. Clint Hill later became a bestselling author, but was haunted for decades by guilt over Kennedy's assassination. Hill died at his home on California on Friday, according to a statement from his publicist. On 22 November 1963, he was assigned to protect the president's wife, Jacqueline Kennedy. Hill was riding on a car behind the Kennedy limousine when the first shot rang out. He immediately rushed towards the couple and started to climb on to the back of the limousine as the shooting continued. Hill's actions during the assassination were captured on the Zapruder film – an amateur home movie that provided one of the best recordings of the shooting. Hill, originally from North Dakota, served in the Army prior to joining the Secret Service in 1958. He was given an award for his actions in Dallas and eventually rose to become assistant director of the Secret Service. However the trauma he experienced during the assassination led him to retire early from the agency in 1975, at the age of 43. He had become convinced that he could have saved Kennedy's life and shortly after his retirement told CBS 60 Minutes that he felt responsible. \"If I had reacted about five-tenths of a second faster, maybe a second faster, I wouldn't be here today,\" Hill said. \"You mean you would have gotten there and you would have taken the shot?\" asked interviewer Mike Wallace. \"Yes, sir... That would have been fine with me,\" Hill responded.  \"I have a great deal of guilt about that,\" he said. \"Had I turned in a different direction, I'd have made it. It's my fault.\" As the years went by, the former Secret Service agent later told a documentary, he returned to Dallas, eventually coming to the conclusion he could not have saved Kennedy's life. Hill met journalist Lisa McCubbin in 2009 and collaborated on a bestselling memoir, Mrs Kennedy and Me. It was the first of a series of books and Hill and McCubbin fell in love. The couple married in 2021. A statement from his publisher said that Hill had died at home with his wife at his side. A cause of death was not given. Copyright 2025 BBC. All rights reserved.  The BBC is not responsible for the content of external sites. Read about our approach to external linking.  "
        ],
        [
         "41",
         "https://www.bbc.com/news/articles/cd650zdwe8do",
         "2025-02-25T00:23:33.143Z",
         "Bernd Debusmann Jr",
         "Judge declines to immediately restore AP access to White House",
         "A US judge has declined a request by the Associated Press to immediately restore its access to presidential events after the Trump administration blocked the agency in a dispute over the term \"Gulf of America\".",
         "A US judge has declined a request by the Associated Press to immediately restore its access to presidential events after the Trump administration blocked the agency in a dispute over the term \"Gulf of America\". US District Judge Trevor McFadden, a Trump appointee, declined to grant the news outlet's emergency motion, but set another hearing for the case for 20 March.  The news agency has refused to change its style from the Gulf of Mexico to the \"Gulf of America\", after President Donald Trump renamed it with an executive order. The AP argues the ban is retaliatory and infringes on First Amendment rights to freedom of speech and the press.  The ban has meant that the AP - which hundreds of news outlets rely on - has been unable to access press events at the White House as well as Air Force One.  Last week, the US President said that he planned to \"keep them out\" until they begin using the term \"Gulf of America\".  After the ruling on Monday, the White House said it stood by its decision to block access to the news agency. \"As we have said from the beginning, asking the President of the United States questions in the Oval Office and aboard Air Force One is a privilege granted to journalists, not a legal right,\" the Trump administration said in a statement.  \"We stand by our decision to hold the Fake News accountable for their lies, and President Trump will continue to grant an unprecedented level of access to the press.\" Shortly after the judge's decision became public, the White House put up two large electric signs in the briefing room which say \"Victory\" and \"Gulf of America\". The AP, meanwhile, said in a statement that it was looking forward to the next hearing where \"we will continue to stand for the right of the press and the public to speak freely without government retaliation. This is a fundamental American freedom\". Soon after taking office in January, the Trump administration signed an executive order renaming the Gulf of Mexico to the \"Gulf of America\", a move the White House said reflects the gulf's status as \"an indelible part of America\".  The AP said it would continue to use the term Gulf of Mexico, while acknowledging the Trump administration's efforts to rename it.  In response, the administration began clamping down on the AP's access to White House events covered by the \"pool\" of journalists that cover smaller events and report back to other media outlets.  On Monday, Judge McFadden said he declined the request from the AP for emergency relief because he did not believe the publication was suffering \"irreparable harm\" from the ban, according to CNN. The judge said the AP could access the same information from notes that other White House pool members had gathered. Still, during several points in the hearing, he called the ban \"discriminatory\" and problematic\", CNN reported. AP reporters still have access to the White House grounds.  The AP lawsuit specifically names three administration figures - Press Secretary Karoline Leavitt, chief of staff Susie Wiles and deputy chief of staff Taylor Budowich  -as it seeks to regain access.  \"The press and all people in the United States have the right to choose their own words and not be retaliated against by the government,\" the AP said in the lawsuit.  On a trip with the White House pool to Florida last week, the BBC witnessed an AP reporter and one of its photographers be told by an official that they were a \"no go\" for the trip after clearing security at Joint Base Andrews a short while before Air Force One was due to depart.  Over the course of the next several days, the AP team - which had travelled to Florida unilaterally - was repeatedly prevented from joining the pool of reporters covering Trump at his estate in Mar-a-Lago, as well as a trip to the Daytona 500 Nascar race.  Speaking to reporters at Mar-a-Lago on 18 February, Trump said that \"we're going to keep them out until such time as they agree that it's the Gulf of America\".  \"We're very proud of this country,\" he said. \"We want it to be the Gulf of America\".  Last week, dozens of news organisations - including conservative outlets such as Fox and NewsMax - signed a letter organised by the White House Correspondents' Association in which they urged the White House to reconsider its stance on the AP.  The White House said the deal, which would give the US access to mineral deposits, was not signed on Friday. The US president clashes with Ukraine's leader in fiery Oval Office exchange over ending the war with Russia. The president ignored the questions that were shouted as he was leaving the White House. The US and Ukrainian presidents, who have traded barbs in the past, began a new war of words this week. US President Donald Trump and Volodymyr Zelensky disagree during the Ukrainian president's US trip.  Copyright 2025 BBC. All rights reserved.  The BBC is not responsible for the content of external sites. Read about our approach to external linking.  "
        ],
        [
         "42",
         "https://www.bbc.com/news/articles/c3904r98lnlo",
         "2025-02-24T21:01:44.235Z",
         "Jessica Murphy & Nadine Yousif",
         "Who might replace Trudeau as Liberal Party leader?",
         "The race to replace Canadian Prime Minister Justin Trudeau is now set, with former central banker Mark Carney and former Deputy Prime Minister Chrystia Freeland the two biggest names to have declared their candidacy. ",
         "The race to replace Canadian Prime Minister Justin Trudeau is now set, with former central banker Mark Carney and former Deputy Prime Minister Chrystia Freeland the two biggest names to have declared their candidacy.  Trudeau will step down from the role after nine years as PM once his governing Liberals find a new leader. They will announce the winner on 9 March. The new leader is expected to be soon thrust into a general election and will also have to take on the threats tariffs proposed by US President Donald Trump.  Many prominent cabinet ministers chose not to run, including Finance Minister Dominic LeBlanc, Foreign Minister Melanie Joly and Industry Minister François-Philippe Champagne, who all said they need to focus on their current duties. The early race has narrowed with Jaime Battiste, a member of parliament (MP) from the Atlantic province of Nova Scotia, dropping out. Another hopeful, former Toronto area MP Ruby Dhalla, was kicked out of the race over \"extremely serious\" violations, the party said. Those include allegations of inaccuracies in her campaign's financial reporting. Ms Dhalla has appealed the decision.  Here are the four still in the running to be the Liberals' next leader. In his campaign launch, former Bank of Canada and Bank of England governor Mark Carney pitched himself as a strong fiscal manager who can help countries navigate challenging times. \"I've helped manage multiple crises, and I've helped save two economies,\" he said in his speech. \"I know how business works, and I know how to make it work for you.\" He also noted the tariff threat from Trump, saying that Canada is facing extraordinary times. Carney, 59, was born in Canada's Northwest Territories and grew up in Edmonton, Alberta.  In his announcement, he sought to highlight his Canadian roots and paint himself as a political outsider.  He has been serving in recent months as a special economics adviser to Trudeau, has long been considered a contender for the top job, though the Harvard graduate has never held public office. Trudeau himself admitted that he had long been trying to recruit Carney to his team. Carney tried to distance himself from the unpopular PM, saying he is \"not the only Liberal in Canada who believes that the prime minister and his team let their attention wander from the economy too often\". Carney brings with him expertise on environmental matters through his role as the United Nations special envoy on climate action, recently calling the goal of net zero \"the greatest commercial opportunity of our time\". He is a champion of some Liberal policies that have been unpopular, like the federal carbon tax, the party's signature climate policy that critics argue is a financial burden for Canadians. He has recently back away from the policy, saying in May that it had \"served a purpose up until now\". He has received a number of cabinet endorsements, including Environment Minister Steven Guilbeault and Foreign Affairs Minister Melanie Joly. The Toronto member of parliament became one of the most well-known members of Trudeau's team. While she had long been seen as a trusted senior official in his inner circle, a rift with the prime minister's office led to her recent abrupt resignation in December.  That was a blow to Trudeau's already-shaky hold on power, helping to usher in his own resignation. The two disagreed on how to address President Trump's threat of tariffs, among other financial policies as Canada faced a C$60bn deficit ($42bn; £33bn). Born to a Ukrainian mother in the western province of Alberta, the 56-year-old was a journalist before entering politics. She entered the House of Commons in 2013 and two years later joined Trudeau's cabinet with a trade brief after he swept the party to power. As Minister of Foreign Affairs she helped Canada renegotiate a free trade deal with the US and Mexico.  She was later named deputy prime minister and minister of finance and oversaw Canada's financial response to the Covid pandemic. A 2019 Globe and Mail profile said depending who you asked, Freeland is either a last, best hope for the liberal world order or an out-of-touch idealist. Her steadfast support of Ukraine earned praise in some quarters but the Harvard-educated MP has had her share of critics, including Trump who recently called her \"toxic\". In her launch -  walking onto the stage to the 1982 song \"Maneater\" - she leaned into her time renegotiating a trade deal under the first Trump administration, and said she would take on the president again. \"I will lead a true Canadian response to the threat we now face. We will be united, we will be strong, we will be smart and that's why we will win,\" she told the crowd of supporters.  She has received the backing of Health Minister Mark Holland and Justice Minister Arif Virani, among other MPs.  Karina Gould, a former trade and investment specialist, has thrown her hat in the ring, declaring she would represent a \"new generation\" if elected.  She was first elected in 2015 and has served a number of roles in Trudeau's cabinet - the youngest woman to serve as a minister in Canada.  The 37-year-old was families minister, international development minister and later Minister of Democratic Institutions, before taking on her current role as House Leader, where she oversees the government's legislative agenda. Gould said \"Canadians have lost trust in our party\", as she launched her bid. Frank Baylis, a former Liberal member of parliament, was the first out of the gate to announce he is seeking the leadership of the party.  He has said he will bring his experience from the world of business to address the affordability and cost-of-living challenges facing Canadians.  Baylis is the executive chairman of a medical device company that was founded by his mother and where he later served as president. It was sold to a US firm in 2021. He is an engineer by training. Baylis served in parliament from 2015-2019 and was a founding member of the Parliamentary Black Caucus.  The leader of the Canadian province campaigned on the need to fight US President Donald Trump's threatened tariffs. He also said he would move ahead with 25% tariffs on imports from Mexico and Canada, which had been paused. Canada head coach Jesse Marsch says he feels \"ashamed\" as an American by US President Donald Trump's comments on Canada becoming the 51st state. Tariffs are a central part of Trump's political vision, but economists warn they could put prices up. Canada's American manager Jesse Marsch is \"ashamed\" that US President Donald Trump continues to label Canada \"the 51st state\". Copyright 2025 BBC. All rights reserved.  The BBC is not responsible for the content of external sites. Read about our approach to external linking.  "
        ],
        [
         "43",
         "https://www.bbc.com/news/articles/cpwd2qrn1e2o",
         "2025-02-24T17:41:58.346Z",
         "Brandon Drenon",
         "Trump names podcaster Dan Bongino as deputy FBI director ",
         "US President Donald Trump has appointed podcaster and commentator Dan Bongino as deputy director of the FBI.",
         "US President Donald Trump has appointed podcaster and commentator Dan Bongino as deputy director of the FBI. Trump posted on social media that Bongino was \"a man of incredible love and passion for our Country\" and would serve under newly confirmed FBI Director Kash Patel. Bongino, 50, who has worked for the New York police department and the Secret Service, is a staunch Trump ally who has pushed false claims about the 2020 election.  His appointment, which does not require Senate confirmation, means neither of the top two people running the agency has FBI experience.   \"Thank you Mr President,\" Bongino wrote on social media on Sunday night. The deputy director, who is responsible for supervising all domestic and international operations, is usually a career agent with years of experience. Bongino hosts daily podcast The Dan Bongino Show, whose Facebook posts often attract more attention than those of Fox News and CNN combined. In Friday's episode there was a segment about the FBI, in which he praised Patel  and tried to allay Democratic fears the agency will be used to target Trump's enemies. \"Kash Patel is there for one reason, he is there to make the FBI great again,\" he said. He's committed to fighting crime and only that, he added, calling his new boss the \"change agent\" the FBI needs.  \"How amazing would it be in four years to look back with a good, high-quality, reformed FBI free of woke culture and DEI that goes out making headline, big arrests of real bad guys destroying your community. How good would that be?\" Bongino's appointment comes with FBI in flux after the justice department forced out some of its top officials and demanded the names of agents who investigated the 2021 riot by Trump supporters at the US Capitol. Critics have said that threatened the FBI's political independence. Bongino and PateI are both seen as Trump loyalists. Bongino, on Monday on his daily radio show, addressed concerns about political partisanship in his content.  \"We play different roles in our life, and each one requires a different skill set,\" he said.  He later added: \"We are going to re-establish faith in this institution. The FBI belongs to the American people.\" Bongino, who has run for Congress three times, hosted Trump on his podcast ahead of last year's election. Episodes of his programme from the last week include titles such as \"Trump Keeps Delivering And The Libs Are Seething\" and \"The Only People Who Love Crime Are Criminals!!!\" He has repeated Trump's false claim that he won the 2020 election and advanced another conspiracy that Joe Biden's administration was behind the FBI search for classified documents at Trump's Florida home.  \"EVERYONE involved in this DOJ/FBI abomination, from the management down to the agents, must be immediately terminated when the tyrants are thrown out of office,\" he said on X. In 2018, when talking about his career as a prolific conservative political commentator, Bongino said: \"My life is all about owning the libs now.\" With a combative persona, he can often be found firing back at Trump's detractors on X, including a long-running spat with horror author Stephen King. In his social media announcement on Sunday, Trump said that Bongino would give up the podcast in order to serve in the FBI role.  Patel was last week narrowly confirmed by the Senate to the lead the law-enforcement agency that he has long attacked. He denied any plans to pursue political vendettas and has promised to \"rebuild\" the bureau. The FBI has 38,000 employees and a budget of more than $11bn. The White House said the deal, which would give the US access to mineral deposits, was not signed on Friday. The US president clashes with Ukraine's leader in fiery Oval Office exchange over ending the war with Russia. The president ignored the questions that were shouted as he was leaving the White House. The US and Ukrainian presidents, who have traded barbs in the past, began a new war of words this week. US President Donald Trump and Volodymyr Zelensky disagree during the Ukrainian president's US trip.  Copyright 2025 BBC. All rights reserved.  The BBC is not responsible for the content of external sites. Read about our approach to external linking.  "
        ],
        [
         "44",
         "https://www.bbc.com/news/articles/cr72n1yyj30o",
         "2025-02-23T14:33:36.271Z",
         "Laura Blasey and Ana Faguy",
         "List weekly accomplishments or resign, Musk tells US federal workers",
         "US government workers received an email on Saturday afternoon asking them to list their accomplishments from the past week or resign - the latest development in the Trump administration's efforts to scale back the federal workforce. ",
         "US government workers received an email on Saturday afternoon asking them to list their accomplishments from the past week or resign - the latest development in the Trump administration's efforts to scale back the federal workforce.  The email came after Trump's billionaire confidant Elon Musk posted on X that employees would \"shortly receive an email requesting to understand what they got done last week\".  \"Failure to respond will be taken as a resignation,\" he wrote. Musk, as the head of the so-called Department of Government Efficiency (Doge), has been leading an outside effort to aggressively curtail government spending through funding cuts and firings. The email arrived in inboxes shortly after Trump spoke at the Conservative Political Action Conference (Cpac). The messages came with the subject line \"What did you do last week?\" from a sender listed as HR. The Office of Personnel Management (OPM), the federal government's human resources agency, confirmed the email was authentic in a statement to CBS, the BBC's US news partner. \"As part of the Trump administration's commitment to an efficient and accountable federal workforce, OPM is asking employees to provide a brief summary of what they did last week by the end of Monday, CC'ing their manager,\" it said. \"Agencies will determine any next steps.\" In a copy of the email obtained by the BBC, employees were asked to explain their accomplishments from the past week in five bullet points - without disclosing classified information - before midnight on Monday. The message did not mention whether a failure to respond would be considered a resignation. The American Federation of Government Employees, the largest union representing federal employees, criticised the message as \"cruel and disrespectful\" and vowed to challenge any \"unlawful terminations\" of federal employees. \"Once again, Elon Musk and the Trump Administration have shown their utter disdain for federal employees and the critical services they provide to the American people,\" Everett Kelley, union president, said in a statement. On Sunday morning, Musk wrote on his social media platform X that \"a large number of responses have been received already\", adding: \"These are the people who should be considered for promotion.\" A few hours later, Musk said on X that the move was important because \"a significant number of people who are supposed to be working for the government are doing so little work that they are not checking their email at all\".  Musk went on to say that Doge believes \"non-existent people or the identities of dead people are being used to collect paychecks\", claiming \"outright fraud\" without evidence.  Musk has repeatedly made claims of fraud in defending his team's work across a range of government departments and functions. But on Saturday, there appeared to be some disagreement about the latest email among government department heads.  Newly-confirmed FBI director Kash Patel told his employees in an email that they should \"pause any responses\" to the OPM memo. \"FBI personnel may have received an email from OPM requesting information,\" Patel wrote in a message obtained by CBS News. \"The FBI, through the Office of the Director, is in charge of all of our review processes, and will conduct reviews in accordance with the FBI procedures.\" The State Department sent a similar message to its employees and said it will respond on behalf of the department.  \"No employee is obligated to report their activities outside of their Department chain of command,\" an email from Tibor Nagy, acting undersecretary for management, that was obtained by US media said.  The union that represents many government employees, the American Federation of Government Employees (AFGE), was critical of the email and threatened legal action if employees were unlawfully terminated. \"It is cruel and disrespectful to hundreds of thousands of veterans who are wearing their second uniform in the civil service to be forced to justify their job duties to this out-of-touch, privileged, unelected billionaire who has never performed one single hour of honest public service in his life,\" AFGE President Everett Kelley said.  Earlier in the day, Trump touted cuts and told a crowd of supporters at Cpac that the work of federal employees had been inadequate because some of them work remotely at least some of the time. \"We're removing all of the unnecessary, incompetent and corrupt bureaucrats from the federal workforce,\" the president told the crowd at the annual conference in suburban Washington on Saturday afternoon. \"We want to make government smaller, more efficient,\" he added. \"We want to keep the best people, and we're not going to keep the worst people.\" Elon Musk's team has exacted wide-ranging changes to the US federal infrastructure through Doge and with approval from the White House. Thousands of government employees at the Internal Revenue Service (IRS), the Pentagon and the Federal Aviation Administration (FAA), as well as other agencies, have been fired in recent weeks. The email mirrors Musk's handling of employees after he acquired social media platform Twitter, now called X, in 2022. As the staff there shrunk under his ownership, he issued ultimatums that included a now-infamous request to commit to being \"extremely hardcore\" at work or resign.  Trump has repeatedly applauded Musk's government-cutting measures.  In a Truth Social post, Trump said that Musk is doing a \"great job\" in reducing the size of the federal government and that he would like to see him \"get more aggressive\" in the pursuit. The White House said the deal, which would give the US access to mineral deposits, was not signed on Friday. The US president clashes with Ukraine's leader in fiery Oval Office exchange over ending the war with Russia. The president ignored the questions that were shouted as he was leaving the White House. The US and Ukrainian presidents, who have traded barbs in the past, began a new war of words this week. US President Donald Trump and Volodymyr Zelensky disagree during the Ukrainian president's US trip.  Copyright 2025 BBC. All rights reserved.  The BBC is not responsible for the content of external sites. Read about our approach to external linking.  "
        ],
        [
         "45",
         "https://www.bbc.com/news/articles/cd0ng4eyr3xo",
         "2025-02-23T12:17:49.318Z",
         "John Simpson",
         "John Simpson: 2025 could be year for the history books as Trump shreds global norms",
         "Just occasionally, there are years when the world goes through some fundamental, convulsive change. 1968, with the Soviet invasion of Czechoslovakia, the Paris riots and the anti-Vietnam War protests in America, was one of them. 1989, the year of the Tiananmen massacre, the fall of the Berlin Wall, and the implosion of the Soviet empire, was another.",
         "Just occasionally, there are years when the world goes through some fundamental, convulsive change. 1968, with the Soviet invasion of Czechoslovakia, the Paris riots and the anti-Vietnam War protests in America, was one of them. 1989, the year of the Tiananmen massacre, the fall of the Berlin Wall, and the implosion of the Soviet empire, was another. I was on hand to see each of these things happen, and from that perspective it seems to me that, only seven weeks in, 2025 could be a year like that: a time when the basic assumptions about the way our world works are fed into the shredder. The basic reason, of course, is Donald Trump. Since the end of World War Two, each one of the 13 US presidents before Trump's current term in office has at least paid lip service to a set of key geopolitical principles: that America's own security depended on protecting Europe from Russia, and the non-Communist countries of Asia against China. Trump has up-ended this approach. He says he's putting American interests first, way before everything else. Mostly that comes down to the single question of how much it costs the US. In itself, this is pretty hard for his friends and allies abroad, especially in Europe.  But it's made far more difficult by Trump's own personality. No US president in modern times, not even Richard Nixon, let his personal characteristics shape his policies like Trump does. \"He's just like Louis XIV,\" one retired American diplomat said to me, referring to France's self-aggrandising Sun King.  Critics like this believe Trump is both breathtakingly vain, and amazingly thin-skinned at the same time. As a result, the appointees who surround him, people like Elon Musk and JD Vance, perhaps think that their position depends entirely on how much they praise him and back his views. When President Trump claims, with no evidence, that President Volodymyr Zelensky of Ukraine is corrupt and has a low approval rating, Musk then takes it further: he piles in to say that Zelensky is despised by the Ukrainian people and is feeding off the dead bodies of Ukrainian soldiers. No one in the Trump circle today, it seems, will cough discreetly and say, \"Mr President, maybe you should consider rowing back on that statement.\" Judging from his previous term in office, we can be sure that every one of the people around him knows how he detests being disagreed with. And they will also know that many voters wholeheartedly back Trump's approach, and feel they have been bankrolling security in a far-off continent. He has committed himself to stopping the Ukraine war by Easter. He is absolutely correct when he says that President Vladimir Putin is keen on this. Russian troops are, through sheer force of numbers, making slow advances in the eastern part of Ukraine. But the cost in Russian lives is immense. If the process continues, Russia may have to turn to conscription, which would be dangerously unpopular and might even destabilise Putin's regime. Everything Trump says about getting peace is music to his ears. John Bolton, Trump's far-from-subservient national security adviser during his first administration, said the other day that they'd be breaking out the champagne in the Kremlin when they heard the Trump administration's peace plan. It certainly felt like a historic moment – not just in Moscow but around the world. Putin has pointedly backed the idea that Trump really won the 2020 election. It may not be true, but President Putin knows that Trump favours anyone who backs his view of things. Why, by contrast, have Trump and the people round him come down so hard on President Zelensky? It must partly be because he's not obediently doing what he's told, such as returning to the negotiating table and striking a deal on US access to Ukraine's critical minerals.  At the same time, President Trump understands that Zelensky is the weakest link in the US-Russia-Ukraine trio, and can be squeezed in a way that Putin can't be. The more pressure that is piled on Zelensky, the quicker a peace deal will come. President Trump never seems, at least in public, to show much interest in the fine detail of any agreement. It's the agreement itself that matters to him, even if Ukraine and its allies believe it's manifestly unfair and allows Russia to come back at some future date and start the war all over again. British and German diplomats whom I know have been enraged by the way Trump went about getting Russia to the negotiating table. \"He had two major cards in his hand,\" said one. \"The first was Russia's isolation. Putin would have made plenty of concessions to get himself to the talks with America – only Trump didn't insist on any concessions at all. He just let him sit down and start talking.\" The other card, the diplomat said, was to insist that Ukraine should be allowed to join Nato. \"Trump could have banged away about this and extorted all sorts of agreements from Putin, before finally saying OK, well, Ukraine won't join Nato in that case.\" In European capitals it's felt that he threw away both of his essential cards before the talks even started, without any preconditions. Already, though, some European diplomats with experience of US politics are advising their governments that this grand monarchical period in Donald Trump's presidency, where his advisers defer to him (he literally referred to himself as a \"king\" this week), won't last.  Trump currently has control of a pliant Congress and a conservative Supreme Court – but in only 20 months' time, in November 2026, there will be mid-term elections in the US. There are signs that inflation is starting to rise in America, and enough people may well be affected badly by the upheavals to want to punish Trump's Republicans. If he loses control of one or both Houses, the power he has at present of pushing through every plan and policy, no matter how controversial, will diminish. But an awful lot can happen in the next year and eight months. Trump's expansionism might embolden China. A major international trade war, sparked off by Trump's tariffs, could open up. The European Union seems likely to become politically and economically weaker than ever. Agreeing peace in Ukraine on Russia's terms will be something entirely new for the United States. In the great majority of negotiations since 1945, Russia has struggled to get its way because of America's economic and military strength.  Now President Putin, having made the costly decision to invade Ukraine three years ago, looks likely to get away with it, and prosper. If that happens, then 2025 will indeed be remembered as a key year: a moment when the history of the world changed, and nothing was ever quite the same again. Copyright 2025 BBC. All rights reserved.  The BBC is not responsible for the content of external sites. Read about our approach to external linking.  "
        ],
        [
         "46",
         "https://www.bbc.com/news/articles/c4g05gzvp57o",
         "2025-02-23T01:58:56.527Z",
         "Regan Morris",
         "From Baywatch to toxic waste - LA's iconic beaches unrecognisable after fires",
         "With its sun-drenched lifeguard towers, bronzed surfers and bikini-clad volleyball players, Will Rogers State Beach is one of the most recognizable stretches of sand in the world thanks to the global cult classic \"Baywatch\".",
         "With its sun-drenched lifeguard towers, bronzed surfers and bikini-clad volleyball players, Will Rogers State Beach is one of the most recognizable stretches of sand in the world thanks to the global cult classic \"Baywatch\". But now the iconic beach is surrounded by the ruins of burned homes and palm trees, its parking lot a sorting ground for hazardous waste from the wildfires. The beach babes have been replaced by Environmental Protection Agency crews in hazmat suits sifting through melted electric car batteries and other hazardous waste before it's trucked away to landfills. The Palisades and Eaton fires generated a staggering amount of debris, estimated to be 4.5 million tonnes. In comparison, the devastating Maui fires of 2023 generated about 400,000 tonnes, according to the US Army Corps of Engineers. Those fires took three months of clean-up by the EPA, which is in charge of removing hazardous waste. But now the agency is hoping to finish their job in LA in just a month - by 25 February - after President Donald Trump signed an executive order demanding the EPA \"expedite the bulk removal of contaminated and general debris\". The decision to sort through the hazardous waste along the coast has prompted protests and as the clean-up of fire debris moves at unprecedented speeds, many are asking if and when the ocean water will be safe for swimming and surfing. \"In this very vulnerable place, they're sorting this very hazardous, hazardous stuff,\" said actor and environmentalist Bonnie Wright.  \"To me, this feels like 10 steps backwards, because you're literally putting this waste even closer to the beach than it already is in the burn sites.\" Ms Wright, who played Ginny Weasly in the Harry Potter films, wrote a book on sustainability and devotes most of her time now to environmental causes.  While their battle to move sorting sites away from the coast ultimately failed, she said activists were successful in urging the EPA to move burned electric vehicle batteries to the Will Rogers site down the road and away from the sensitive Topanga Creek watershed. The EPA said the burned vehicle batteries are an especially dangerous challenge but that the agency has the expertise to deal with them. To sift waste, they need a large space with roads big enough for truck traffic - which is why the Pacific Coast Highway, which runs along the beach, is more attractive than inside the windy, mountainous roads of the Palisades. When lithium ion batteries are damaged - especially by the high heat and flames of a wildfire - they have the potential for reigniting and exploding days, weeks, or even months after they've been impacted, said Steve Calanog, the EPA's incident commander for the LA fires. \"We have to treat them like unexploded ordinance, or, as the military calls it UXO,\" he said. Although some have questioned the speed with which the EPA has moved to clean up the toxic debris, he said there is no time to waste. \"We have to do this very quickly,\" he said, noting that they started sorting waste even as the fires were still raging. \"If we are delayed, the risk of impacting the ocean, it goes up again.\" Mr Calanog was also in charge of the EPA response to the Maui fires, which may hold clues for how to measure what is safe and reasonable when it comes to testing water and soil samples. Many are concerned about the impacts of heavy metals and chemicals in the air and water after the fires. In Maui, it's been nearly 18 months since the fires and a small part of the coast around Lahaina is still closed to the public. The Army Corps of Engineers - which removes heavy debris after the EPA removes hazardous waste - just finished their last haul from Lahaina on 20 February. But most of Maui has remained open to locals and tourists and the Hawaii Department of Health announced eight months after the fires that the coastal waters around Lahaina were safe for ocean recreation. The scale of the clean-up from the Los Angeles fires, however, is unprecedented and the largest in US history. LA County closed beaches along a nine-mile (14 km) stretch for weeks following the fires in January. Then torrential rain - while helping douse any smouldering embers - caused mudslides in the burn area and runoff of toxic ash and chemicals into the ocean, prompting further closures. Now most beaches are reopened but a water advisory remains in effect along the coast from Santa Monica to Malibu until further notice advising \"beach goers may recreate on the sand but continue to be advised to stay away from visible fire debris and to stay out of the ocean water during any posted ocean advisory\". Only the most dedicated and local surfers could access the beaches in the burn area anyway - there's no parking or stopping for about 9 miles along Pacific Coast Highway, which is clogged with trucks and workers cleaning up debris. Though some will risk most anything to catch a good wave. While touring the EPA sorting site, Annelisa Moe said she saw two surfers in the water at a popular surf break on Topanga Beach while she watched workers across the street in full PPE handling burned EV car batteries. \"The water looked like chocolate milk with like brown foam on it,\" recalled Ms Moe, who is the associate director of Science & Policy, Water Quality at Heal the Bay, an environmental nonprofit dedicated to making coastal watersheds healthy. \"It was one of those days, in between storms, like beautiful, sunny, 75 degree weather type of days,\" she said. \"And so it felt a little bit odd to be there amidst the destruction while we have this perfect beach day.\" Jenny Newman of the Los Angeles regional water quality control board told an LA County Public Health virtual town hall on 18 February that the initial water quality tests they conducted on 22-27 January \"came back better than we expected.\"  But the water board cautioned that people should follow county advisories to stay out of the water near the burn site. Dozens of scientists and volunteers from Heal The Bay and a myriad of private and public sector agencies have also been testing water and soil samples to see what levels of forever chemicals and heavy metals are present in the ocean, but toxic analysis can take 4-6 weeks and there's very little data available. At the Surfrider Foundation, volunteers test the ocean water all year long. But their small lab is testing for fecal bacteria - not arsenic. Now it's too dangerous to expose volunteers in the burn areas, so the staff have partnered with Heal the Bay and the University of Southern California to process their water samples. \"All our community members are ocean lovers. We have the same questions they have,\" said Eugenia Ermacora of the Surfrider Foundation. \"It's a concern, and everybody is asking, When can we go back? When is it safe? And I wish I had an answer.\" Chad White, a surfer who grew up in the Palisades and who protested against the EPA sorting site along the Pacific Coast Highway, said there's no way he would surf there now - it would be too painful to look at the coast and be reminded of what has been lost. And there's too much metal and other debris in the surf. \"It's taken my desire to surf down to zero, not just because of the water quality, but just because of what's happening,\" he said over coffee in Topanga Canyon. He rode his first wave in 1977 at Will Rogers State Beach and taught his son to surf at age four and his wife at age 60. \"It's earth-shattering to someone like me,\" he said of the destruction along the coast. \"That beach means something to me too, and I'm one person. There are tens of, maybe hundreds or thousands of us that utilize the beach every day.\" Many of Mr White's friends lost their homes and he said people are traumatised to see what the landscape and coast around them looks like now. \"Every movie that you see, every film that makes anybody from any other part of the world want to come to California is based on their seeing that Pacific Coast Highway and those beautiful homes in Malibu, across along the beach. They're all gone,\" he said. \"Now it's a toxic waste dump.\" The White House said the deal, which would give the US access to mineral deposits, was not signed on Friday. The US president clashes with Ukraine's leader in fiery Oval Office exchange over ending the war with Russia. The president ignored the questions that were shouted as he was leaving the White House. The US and Ukrainian presidents, who have traded barbs in the past, began a new war of words this week. The US president accused the Ukrainian leader of being disrespectful in a tense meeting in the Oval Office. Copyright 2025 BBC. All rights reserved.  The BBC is not responsible for the content of external sites. Read about our approach to external linking.  "
        ],
        [
         "47",
         "https://www.bbc.com/news/articles/crlx8w5wdl0o",
         "2025-02-23T00:01:52.097Z",
         "Anthony Zurcher and Tom Geoghegan",
         "Has Trump kept his day one promises?",
         "Donald Trump made a lot of promises while running for president. He pledged to cut taxes, reduce prices, stem undocumented migration, end wars and strengthen American industry.",
         "Donald Trump made a lot of promises while running for president. He pledged to cut taxes, reduce prices, stem undocumented migration, end wars and strengthen American industry. Some of his proposals were detailed by his policy team or presented by Trump himself, in \"Agenda 47\" videos on his campaign website. Others were offered seemingly off-the-cuff - a product of Trump's \"think out loud\" style and openness to adopting ideas others had suggested to him. In his victory speech on 6 November, he made it clear he intended to keep the promises that sent him back to the White House: \"I will govern by a simple motto: Promises made, promises kept.\" It's become a slogan of sorts in his first month in office, which has been marked by a blizzard of activity and notable progress in achieving some of his goals. In areas such as immigration and foreign policy, Trump has broad power to act unilaterally - and has done so. In other areas, he has run up against legal challenges and political obstacles. Many of the other promises he's made will ultimately require action from Congress, under narrow Republican control, to become permanent. Here's a look at some of Trump's biggest \"day one\" promises and his efforts to turn them into reality. What he's said: \"When I win, I will immediately bring prices down, starting on day one.\" Aug 2024 What he's done: This is perhaps his biggest challenge and a major campaign promise that remains undelivered. In his inaugural address, Trump promised to \"marshal the vast powers\" of his Cabinet to rapidly bring down costs and prices, but it's unclear how. One way, he says, is by increasing drilling to reduce energy costs. A steep price rise in January, the biggest monthly increase for 16 months, has complicated Trump's task. He blamed Joe Biden, who left office on 20 January, and Democratic spending. \"I had nothing to do with it,\" said Trump. At other times, however, he has admitted it's hard for US presidents to control prices. But economists warn some of his policies could fuel inflation and polling suggests voters would like to see him doing more about an issue that often tops their priorities. What he's said: \"On day one, I will launch the largest deportation program in American history to get the criminals out.\" Nov 2024 What he's done: Immigration has perhaps been Trump's main focus since taking power, with more than a dozen executive orders aimed at overhauling the system. His plan to deport foreign nationals in the country illegally, starting with those convicted of crimes, seems to have widespread public support. But it is uncertain whether he will meet his promise to deport so many. A few raids have made headlines but the number of people being removed does not seem to be record-breaking, according to the daily figures. In his first month in office, the US deported 37,660 people - less than the monthly average of 57,000 removals and returns in the last full year of Joe Biden's administration, data obtained by Reuters shows. A DHS spokesperson told the agency that Biden-era deportation numbers were higher because illegal immigration was higher. Nationwide border encounters decreased 66% in January compared to 2024, according to the White House. What he's said: \"I'll be looking at J6 early on, maybe the first nine minutes.\" Dec 2024 What he's done: True to his word, hours after taking the presidential oath, Trump issued pardons and commutations that paved the way for the release of more than 1,500 people convicted or charged in connection with the US Capitol riot. A police officer who was punched that day told the BBC the pardons were a \"slap in the face\". What he's said: \"They're dying, Russians and Ukrainians. I want them to stop dying. And I'll have that done - I'll have that done in 24 hours.\" May 2023 What he's done: Trump has initiated the first talks between the US and Russia since the start of the war, but Ukraine has vowed to reject any deal hatched without it, and there's been an angry exchange between leaders. President Volodymyr Zelensky fears the US president delivering on his campaign promise to end the war but on Moscow's terms and with no security guarantees. There is also anxiety in European capitals that they are being sidelined, and that Trump may dismantle some of the sanctions imposed on Russia as punishment for the invasion. What he's said: Trump told NBC in December he \"absolutely\" planned to end birthright citizenship on day one: \"If somebody sets a foot of just a foot… on our land, congratulations. You are now a citizen of the United States of America. Yes, we're going to end that.\" What he's done: In one of the first acts of his second presidency, Trump ordered an end to an automatic right to American citizenship currently received by nearly anybody born on US soil. Birthright citizenship is not the norm around the world, although it is in Mexico and Canada, and Trump's move targets those who are in the US illegally or on temporary visas. The right was established by an amendment to the US Constitution nearly 160 years ago, and most legal scholars say the president doesn't have the power to unilaterally change it. The issue could be heading for the US Supreme Court after an appeals court ruled against Trump, upholding a legal block on his plan. What he's said: \"On January 20th, as one of my many first Executive Orders, I will sign all necessary documents to charge Mexico and Canada a 25% Tariff on ALL products coming into the United States, and its ridiculous Open Borders.\" Nov 2024 What he's done: Trump announced on 21 January that he would levy blanket tariffs on his neighbours on 1 February, linking them to the flow of drugs and migrants into the US. The president has long seen tariffs, which are a tax on imports, as a way to protect domestic industry and increase revenue. Canada and Mexico said they would enact retaliatory taxes on US imports. But Trump delayed starting the tariffs for one month, after promises by both countries to increase border enforcement. There had also been volatility in the markets and warnings from economic experts that these actions could cause prices to rise.  The US president clashes with Ukraine's leader in fiery Oval Office exchange over ending the war with Russia. The US president accused the Ukrainian leader of being disrespectful in a tense meeting in the Oval Office. The US axes vital HIV/Aids funding, which South Africa's health minister says is a \"wake-up call\". US police say a rapper's \"cowardly\" actions in a \"rival gang stronghold\" led to a spate of violence. The United States has never had an official language since it was founded nearly 250 years ago. Copyright 2025 BBC. All rights reserved.  The BBC is not responsible for the content of external sites. Read about our approach to external linking.  "
        ],
        [
         "48",
         "https://www.bbc.com/news/articles/cq8yvg5359po",
         "2025-02-22T23:24:18.938Z",
         "Laura Blasey",
         "US measles outbreak leaves nearly 100 ill in Texas and New Mexico",
         "Health officials in two US states are tracking measles outbreaks as cases rise to nearly 100 people. ",
         "Health officials in two US states are tracking measles outbreaks as cases rise to nearly 100 people.  The Texas Department of State Health Services reported on Friday that it was aware of 90 cases diagnosed in the last month in the South Plains area, in the north-west part of the state. At least 77 of them were reported in children and teens under 17.  In New Mexico, officials said nine people had become sick in Lea County, along the state's eastern border with Texas. Measles is highly contagious and can be deadly. The outbreaks come amid a rise in US anti-vaccine sentiment, including towards the measles, mumps and rubella (MMR) jab that is typically given during childhood.  Health officials in Texas say their figures are likely to be an underestimate, as some parents may not report infections or may not realise their child has the disease. \"It is troubling, because this was completely preventable,\" Dr Amesh Adalja, an infectious disease physician and senior scholar at Johns Hopkins University, told CBS News, the BBC's US news partner. \"It's the most contagious infectious disease known to humans,\" he added. Symptoms of the highly-infectious illness include fever, cough, runny nose, eye irritation and a rash.  A measles infection can have particularly devastating complications for pregnant women and young children, including pneumonia, neurological impairment, hearing loss and death.  Survivors are at risk of developing a degenerative brain and nervous system disease known as subacute sclerosing panencephalitis (SSPE). Most US children receive two shots to protect against the illness, which together are 97% effective in protecting against measles, according to the Centers for Disease Control and Prevention (CDC). Health experts say that the disease could be controlled or even eradicated with proper inoculation rates - generally defined as 95% of a community receiving the vaccine.  But vaccination rates have dropped in some communities in recent decades as a loose network of vaccine sceptics have, without evidence, questioned the safety and efficacy of the shots.  Robert F Kennedy Jr, recently confirmed as US President Donald Trump's health secretary, has faced strong criticism for his ties to these groups. Most states require that children receive the MMR vaccine to attend school, but many, including Texas, also allow families to file a conscientious exemption - a non-medical reason to refuse a vaccine requirement.  In Texas, federal data shows that the state achieved a 94.3% vaccination rate among kindergarteners for the 2023-2024 school year, while New Mexico reached 95%.  But a state survey of Texas schools found that rates of exemptions were ticking upwards for MMR and other required vaccines. In Gaines County, where 57 of the Texas cases were reported, exemptions have surged over the last decade. State data shows 17.62% of students had a conscientious exemption to at least one required vaccine during the 2023-2024 school year, up from 7.45% in the 2013-2014 year. Neighbouring Terry County, home to 20 cases, saw exemption rates go from zero to 3.73% in the same time period.  Texas officials reported that of the 90 cases in their state, 85 were in people who are unvaccinated or whose vaccination status was unclear. CBS reports that the area is home to a large Mennonite community, which typically have low vaccination rates due to the group's religious beliefs.  Some officials are reluctant to intervene. \"We respect everyone's right to vaccinate or not get vaccinated,\" Albert Pilkington, CEO of the nearby Seminole Hospital District, told the Texas Standard. \"That's just what it means to be an American, right?\" US children have been vaccinated against measles since 1963. The jab was improved and combined with vaccines for the mumps and rubella viruses about a decade later, and is widely considered to be safe.  Prior to the vaccine's introduction, around 48,000 people were hospitalized with measles each year and 400–500 people died. In 2024, the US reported 285 cases with 114 hospitalisations.  Health officials in New Mexico are offering a free vaccine clinic this week in an effort to boost protection. Texas also directed residents to contact their doctors or visit a clinic to get vaccinated if they have not previously received a shot. The White House said the deal, which would give the US access to mineral deposits, was not signed on Friday. The US president clashes with Ukraine's leader in fiery Oval Office exchange over ending the war with Russia. The president ignored the questions that were shouted as he was leaving the White House. The US and Ukrainian presidents, who have traded barbs in the past, began a new war of words this week. The US president accused the Ukrainian leader of being disrespectful in a tense meeting in the Oval Office. Copyright 2025 BBC. All rights reserved.  The BBC is not responsible for the content of external sites. Read about our approach to external linking.  "
        ],
        [
         "49",
         "https://www.bbc.com/news/articles/ce8mdrvnmkno",
         "2025-02-22T18:28:54.195Z",
         "Ana Faguy",
         "California asks US government for billions in fire relief funds",
         "California Governor Gavin Newsom has asked the US federal government for $40 billion (£31.6b) in funds to help rebuild areas of Los Angeles devastated by January fires. ",
         "California Governor Gavin Newsom has asked the US federal government for $40 billion (£31.6b) in funds to help rebuild areas of Los Angeles devastated by January fires.  Newsom sent the request to congressional leaders in a letter on Friday. He said the funds would help both immediate and long-term recovery work.  \"I'm asking Congress to have the back of the American people and provide disaster funding to help Californians recover and rebuild as soon as possible,\" he wrote on social media.  The fires, which began 7 January, burned 37,469 acres and killed at least 26 people in the greater Los Angeles area.  The funds would be used for workforce recovery, tax incentives, wildfire resilience and private property redevelopment, Newsom said.  Under Newsom's proposal, the largest share of the funds - 42% - would go to public assistance in debris removal and repair work.  \"The impacted communities have experienced widespread devastation and the total impact on California's economy will take years to fully qualify,\" Newsom wrote in the letter.  Some 150,000 residents have been displaced since the fires broke out in early January.  Much of the Los Angeles area communities of the Pacific Palisades and Altadena were destroyed during the days of blazes.  The request drew support from some lawmakers who represent the area. \"This package will provide an injection of desperately needed federal aid for rebuilding homes, businesses, and community institutions, which will support the healing process for Angelenos suffering the grief and trauma of losing loved ones, homes, and every belonging they cherished,\" Judy Chu, a Democratic congresswoman, said in a statement.  It's not clear how the request will be received in Congress, where both chambers are controlled by Republicans with narrow majorities. Last month, ahead of his visit to Los Angeles, President Donald Trump told Fox News he did not think the federal government should give California \"anything\" until it shifted water supply to the south of the state.  Following his visit to the Palisades, Trump described the destruction as \"devastation\".  \"I don't think you can realize how rough it is, how devastating is until you see it,\" Trump said. \"I mean, I saw a lot of bad things on television, but the extent of it, the size of it, we flew over it in a helicopter.\" The 15-year-old was stuck between rocks for six hours after falling while climbing with his family. The pair, who murdered their wealthy parents in 1989, are pursuing three possible routes that could see them leave prison.  Under orders from President Trump, the EPA is trying to fast track the clean-up of toxic debris from LA's fires. Christina Fulton's lawsuit says their son attacked her and that his Hollywood star father enabled his alleged behaviour. The horse, named Deuce, which had slipped down a slope, was rescued by firefighters. Copyright 2025 BBC. All rights reserved.  The BBC is not responsible for the content of external sites. Read about our approach to external linking.  "
        ]
       ],
       "shape": {
        "columns": 6,
        "rows": 707
       }
      },
      "text/html": [
       "<div>\n",
       "<style scoped>\n",
       "    .dataframe tbody tr th:only-of-type {\n",
       "        vertical-align: middle;\n",
       "    }\n",
       "\n",
       "    .dataframe tbody tr th {\n",
       "        vertical-align: top;\n",
       "    }\n",
       "\n",
       "    .dataframe thead th {\n",
       "        text-align: right;\n",
       "    }\n",
       "</style>\n",
       "<table border=\"1\" class=\"dataframe\">\n",
       "  <thead>\n",
       "    <tr style=\"text-align: right;\">\n",
       "      <th></th>\n",
       "      <th>url</th>\n",
       "      <th>publish_date</th>\n",
       "      <th>author</th>\n",
       "      <th>headline</th>\n",
       "      <th>summary</th>\n",
       "      <th>content</th>\n",
       "    </tr>\n",
       "  </thead>\n",
       "  <tbody>\n",
       "    <tr>\n",
       "      <th>0</th>\n",
       "      <td>https://www.bbc.com/news/articles/cn9v1l80350o</td>\n",
       "      <td>2025-02-28T16:40:24.021Z</td>\n",
       "      <td>Caitlin Wilson</td>\n",
       "      <td>Trump to order English as official US language</td>\n",
       "      <td>Donald Trump will sign an executive order on F...</td>\n",
       "      <td>Donald Trump will sign an executive order on F...</td>\n",
       "    </tr>\n",
       "    <tr>\n",
       "      <th>1</th>\n",
       "      <td>https://www.bbc.com/news/articles/c62zzd3zp50o</td>\n",
       "      <td>2025-02-28T11:54:38.680Z</td>\n",
       "      <td>Nadine Yousif</td>\n",
       "      <td>'Trump thinks he can break us' - Ontario's Dou...</td>\n",
       "      <td>The leader of Ontario, Doug Ford, has vowed to...</td>\n",
       "      <td>The leader of Ontario, Doug Ford, has vowed to...</td>\n",
       "    </tr>\n",
       "    <tr>\n",
       "      <th>2</th>\n",
       "      <td>https://www.bbc.com/news/articles/cdell8n14x2o</td>\n",
       "      <td>2025-02-28T11:27:09.108Z</td>\n",
       "      <td>Thomas Mackintosh</td>\n",
       "      <td>Hundreds in US climate agency fired in latest ...</td>\n",
       "      <td>Hundreds of National Oceanic and Atmospheric A...</td>\n",
       "      <td>Hundreds of National Oceanic and Atmospheric A...</td>\n",
       "    </tr>\n",
       "    <tr>\n",
       "      <th>3</th>\n",
       "      <td>https://www.bbc.com/news/articles/c9dejydynngo</td>\n",
       "      <td>2025-02-28T19:19:27.428Z</td>\n",
       "      <td>Tom McArthur</td>\n",
       "      <td>Furious Trump accuses Zelensky of 'gambling wi...</td>\n",
       "      <td>A furious Donald Trump has clashed with Volody...</td>\n",
       "      <td>A furious Donald Trump has clashed with Volody...</td>\n",
       "    </tr>\n",
       "    <tr>\n",
       "      <th>4</th>\n",
       "      <td>https://www.bbc.com/news/articles/cqlyy1rld0ko</td>\n",
       "      <td>2025-02-28T09:29:17.748Z</td>\n",
       "      <td>Patrick Jackson</td>\n",
       "      <td>What we know about the deaths of Gene Hackman ...</td>\n",
       "      <td>US investigators are trying to establish how O...</td>\n",
       "      <td>US investigators are trying to establish how O...</td>\n",
       "    </tr>\n",
       "    <tr>\n",
       "      <th>...</th>\n",
       "      <td>...</td>\n",
       "      <td>...</td>\n",
       "      <td>...</td>\n",
       "      <td>...</td>\n",
       "      <td>...</td>\n",
       "      <td>...</td>\n",
       "    </tr>\n",
       "    <tr>\n",
       "      <th>702</th>\n",
       "      <td>https://www.bbc.com/news/articles/c7vdjv31gmmo</td>\n",
       "      <td>2025-02-04T15:51:34.308Z</td>\n",
       "      <td>Ruth Comerford</td>\n",
       "      <td>I will not stop working, Anna Wintour tells King</td>\n",
       "      <td>Vogue editor Dame Anna Wintour has \"firmly\" to...</td>\n",
       "      <td>Vogue editor Dame Anna Wintour has \"firmly\" to...</td>\n",
       "    </tr>\n",
       "    <tr>\n",
       "      <th>703</th>\n",
       "      <td>https://www.bbc.com/news/articles/c14nm47y65go</td>\n",
       "      <td>2025-02-04T15:23:06.485Z</td>\n",
       "      <td>Rebecca Brahde</td>\n",
       "      <td>Ferries cancelled or changed due to spring tides</td>\n",
       "      <td>Extensive changes have been made to this week'...</td>\n",
       "      <td>Extensive changes have been made to this week'...</td>\n",
       "    </tr>\n",
       "    <tr>\n",
       "      <th>704</th>\n",
       "      <td>https://www.bbc.com/news/articles/clyk521rrxyo</td>\n",
       "      <td>2025-02-04T06:03:06.818Z</td>\n",
       "      <td>Shona Elliott and Ruth Clegg</td>\n",
       "      <td>Celebrity butt-lift injector who left women wi...</td>\n",
       "      <td>A self-styled \"beauty consultant\", whose celeb...</td>\n",
       "      <td>A self-styled \"beauty consultant\", whose celeb...</td>\n",
       "    </tr>\n",
       "    <tr>\n",
       "      <th>705</th>\n",
       "      <td>https://www.bbc.com/news/articles/c805jgk3vj1o</td>\n",
       "      <td>2025-02-03T18:08:56.044Z</td>\n",
       "      <td>Sean Coughlan</td>\n",
       "      <td>Kate photographed by Prince Louis to mark Worl...</td>\n",
       "      <td>A photograph of the Princess of Wales taken by...</td>\n",
       "      <td>A photograph of the Princess of Wales taken by...</td>\n",
       "    </tr>\n",
       "    <tr>\n",
       "      <th>706</th>\n",
       "      <td>https://www.bbc.com/news/articles/c4gx2kg3g5zo</td>\n",
       "      <td>2025-02-03T18:00:42.480Z</td>\n",
       "      <td>Unknown</td>\n",
       "      <td>Runner, 24, dies after finishing half marathon</td>\n",
       "      <td>The family of a 24-year-old man who died after...</td>\n",
       "      <td>The family of a 24-year-old man who died after...</td>\n",
       "    </tr>\n",
       "  </tbody>\n",
       "</table>\n",
       "<p>707 rows × 6 columns</p>\n",
       "</div>"
      ],
      "text/plain": [
       "                                                url              publish_date  \\\n",
       "0    https://www.bbc.com/news/articles/cn9v1l80350o  2025-02-28T16:40:24.021Z   \n",
       "1    https://www.bbc.com/news/articles/c62zzd3zp50o  2025-02-28T11:54:38.680Z   \n",
       "2    https://www.bbc.com/news/articles/cdell8n14x2o  2025-02-28T11:27:09.108Z   \n",
       "3    https://www.bbc.com/news/articles/c9dejydynngo  2025-02-28T19:19:27.428Z   \n",
       "4    https://www.bbc.com/news/articles/cqlyy1rld0ko  2025-02-28T09:29:17.748Z   \n",
       "..                                              ...                       ...   \n",
       "702  https://www.bbc.com/news/articles/c7vdjv31gmmo  2025-02-04T15:51:34.308Z   \n",
       "703  https://www.bbc.com/news/articles/c14nm47y65go  2025-02-04T15:23:06.485Z   \n",
       "704  https://www.bbc.com/news/articles/clyk521rrxyo  2025-02-04T06:03:06.818Z   \n",
       "705  https://www.bbc.com/news/articles/c805jgk3vj1o  2025-02-03T18:08:56.044Z   \n",
       "706  https://www.bbc.com/news/articles/c4gx2kg3g5zo  2025-02-03T18:00:42.480Z   \n",
       "\n",
       "                           author  \\\n",
       "0                  Caitlin Wilson   \n",
       "1                   Nadine Yousif   \n",
       "2               Thomas Mackintosh   \n",
       "3                    Tom McArthur   \n",
       "4                 Patrick Jackson   \n",
       "..                            ...   \n",
       "702                Ruth Comerford   \n",
       "703                Rebecca Brahde   \n",
       "704  Shona Elliott and Ruth Clegg   \n",
       "705                 Sean Coughlan   \n",
       "706                       Unknown   \n",
       "\n",
       "                                              headline  \\\n",
       "0       Trump to order English as official US language   \n",
       "1    'Trump thinks he can break us' - Ontario's Dou...   \n",
       "2    Hundreds in US climate agency fired in latest ...   \n",
       "3    Furious Trump accuses Zelensky of 'gambling wi...   \n",
       "4    What we know about the deaths of Gene Hackman ...   \n",
       "..                                                 ...   \n",
       "702   I will not stop working, Anna Wintour tells King   \n",
       "703   Ferries cancelled or changed due to spring tides   \n",
       "704  Celebrity butt-lift injector who left women wi...   \n",
       "705  Kate photographed by Prince Louis to mark Worl...   \n",
       "706     Runner, 24, dies after finishing half marathon   \n",
       "\n",
       "                                               summary  \\\n",
       "0    Donald Trump will sign an executive order on F...   \n",
       "1    The leader of Ontario, Doug Ford, has vowed to...   \n",
       "2    Hundreds of National Oceanic and Atmospheric A...   \n",
       "3    A furious Donald Trump has clashed with Volody...   \n",
       "4    US investigators are trying to establish how O...   \n",
       "..                                                 ...   \n",
       "702  Vogue editor Dame Anna Wintour has \"firmly\" to...   \n",
       "703  Extensive changes have been made to this week'...   \n",
       "704  A self-styled \"beauty consultant\", whose celeb...   \n",
       "705  A photograph of the Princess of Wales taken by...   \n",
       "706  The family of a 24-year-old man who died after...   \n",
       "\n",
       "                                               content  \n",
       "0    Donald Trump will sign an executive order on F...  \n",
       "1    The leader of Ontario, Doug Ford, has vowed to...  \n",
       "2    Hundreds of National Oceanic and Atmospheric A...  \n",
       "3    A furious Donald Trump has clashed with Volody...  \n",
       "4    US investigators are trying to establish how O...  \n",
       "..                                                 ...  \n",
       "702  Vogue editor Dame Anna Wintour has \"firmly\" to...  \n",
       "703  Extensive changes have been made to this week'...  \n",
       "704  A self-styled \"beauty consultant\", whose celeb...  \n",
       "705  A photograph of the Princess of Wales taken by...  \n",
       "706  The family of a 24-year-old man who died after...  \n",
       "\n",
       "[707 rows x 6 columns]"
      ]
     },
     "metadata": {},
     "output_type": "display_data"
    }
   ],
   "source": [
    "df = pd.DataFrame([function_combiner(url) for url in unique_urls])\n",
    "\n",
    "browser.quit()\n",
    "\n",
    "display(df)"
   ]
  },
  {
   "cell_type": "markdown",
   "metadata": {},
   "source": [
    "## 4. Data Storage:"
   ]
  },
  {
   "cell_type": "markdown",
   "metadata": {},
   "source": [
    "### Save the scraped article data to a file."
   ]
  },
  {
   "cell_type": "markdown",
   "metadata": {},
   "source": [
    "Vi gemmer resultaterne til csv."
   ]
  },
  {
   "cell_type": "code",
   "execution_count": 33,
   "metadata": {},
   "outputs": [],
   "source": [
    "df.to_csv('scraped_news.csv', index=False)"
   ]
  },
  {
   "cell_type": "markdown",
   "metadata": {},
   "source": [
    "## 5. Discussion:"
   ]
  },
  {
   "cell_type": "markdown",
   "metadata": {},
   "source": [
    "### Discuss whether it would make sense to include this newly acquired data in the dataset. Argue why or why not and if possible include statistics to support your claim."
   ]
  },
  {
   "cell_type": "markdown",
   "metadata": {},
   "source": [
    "Vi talte til en af forelæsningerne om, at tidsmæssig ny data, kunne forårsage data leakage, ved at give modellen information om fremtiden, som den ikke ellers ville vide. \n",
    "\n",
    "Vi talte dog også om, at man kunne forhindre dette, ved at dele datasættet op efter udgivelsestidspunkt, i så fald ville modellen nok ikke være påvirket af data leakage, men det er ikke noget jeg er sikker på endnu. Hvis det er muligt og ikke skaber problemer, ville det da være fordelagtigt med mere data."
   ]
  },
  {
   "cell_type": "markdown",
   "metadata": {},
   "source": [
    "# Part 4: Preservation"
   ]
  },
  {
   "cell_type": "markdown",
   "metadata": {},
   "source": [
    "### Keep the data that you have scraped so you can use it for your Group Project!"
   ]
  }
 ],
 "metadata": {
  "kernelspec": {
   "display_name": "base",
   "language": "python",
   "name": "python3"
  },
  "language_info": {
   "codemirror_mode": {
    "name": "ipython",
    "version": 3
   },
   "file_extension": ".py",
   "mimetype": "text/x-python",
   "name": "python",
   "nbconvert_exporter": "python",
   "pygments_lexer": "ipython3",
   "version": "3.12.3"
  }
 },
 "nbformat": 4,
 "nbformat_minor": 2
}
