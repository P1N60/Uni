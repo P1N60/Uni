{
 "cells": [
  {
   "cell_type": "code",
   "execution_count": 50,
   "metadata": {},
   "outputs": [],
   "source": [
    "! pip install -q yfinance pandas"
   ]
  },
  {
   "cell_type": "code",
   "execution_count": 51,
   "metadata": {},
   "outputs": [],
   "source": [
    "import yfinance as yf\n",
    "import pandas as pd"
   ]
  },
  {
   "cell_type": "markdown",
   "metadata": {},
   "source": [
    "### Variables"
   ]
  },
  {
   "cell_type": "code",
   "execution_count": 58,
   "metadata": {},
   "outputs": [],
   "source": [
    "symbols = [\n",
    "    'AAPL',  # Apple Inc.\n",
    "    'MSFT',  # Microsoft Corporation\n",
    "    'AMZN',  # Amazon.com, Inc.\n",
    "    'GOOGL', # Alphabet Inc. (Class A)\n",
    "    'GOOG',  # Alphabet Inc. (Class C)\n",
    "    'META',  # Meta Platforms, Inc.\n",
    "    'TSLA',  # Tesla, Inc.\n",
    "    'NVDA',  # NVIDIA Corporation\n",
    "    'PYPL',  # PayPal Holdings, Inc.\n",
    "    'ADBE',  # Adobe Inc.\n",
    "    'NFLX',  # Netflix, Inc.\n",
    "    'INTC',  # Intel Corporation\n",
    "    'CMCSA', # Comcast Corporation\n",
    "    'PEP',   # PepsiCo, Inc.\n",
    "    'CSCO',  # Cisco Systems, Inc.\n",
    "    'AVGO',  # Broadcom Inc.\n",
    "    'COST',  # Costco Wholesale Corporation\n",
    "    'AMGN',  # Amgen Inc.\n",
    "    'TXN',   # Texas Instruments Incorporated\n",
    "    'QCOM',  # QUALCOMM Incorporated\n",
    "    'HON',   # Honeywell International Inc.\n",
    "    'SBUX',  # Starbucks Corporation\n",
    "    'AMD',   # Advanced Micro Devices, Inc.\n",
    "    'INTU',  # Intuit Inc.\n",
    "    'ISRG',  # Intuitive Surgical, Inc.\n",
    "    'BKNG',  # Booking Holdings Inc.\n",
    "    'MDLZ',  # Mondelez International, Inc.\n",
    "    'ADP',   # Automatic Data Processing, Inc.\n",
    "    'GILD',  # Gilead Sciences, Inc.\n",
    "    'FISV',  # Fiserv, Inc.\n",
    "    'MU',    # Micron Technology, Inc.\n",
    "    'AMAT',  # Applied Materials, Inc.\n",
    "    'LRCX',  # Lam Research Corporation\n",
    "    'ADI',   # Analog Devices, Inc.\n",
    "    'ATVI',  # Activision Blizzard, Inc.\n",
    "    'ASML',  # ASML Holding N.V.\n",
    "    'MRNA',  # Moderna, Inc.\n",
    "    'ZM',    # Zoom Video Communications, Inc.\n",
    "    'DOCU',  # DocuSign, Inc.\n",
    "    'ROST',  # Ross Stores, Inc.\n",
    "    'REGN',  # Regeneron Pharmaceuticals, Inc.\n",
    "    'VRTX',  # Vertex Pharmaceuticals Incorporated\n",
    "    'EBAY',  # eBay Inc.\n",
    "    'EXC',   # Exelon Corporation\n",
    "    'SNPS',  # Synopsys, Inc.\n",
    "    'WDAY',  # Workday, Inc.\n",
    "    'TEAM',  # Atlassian Corporation Plc\n",
    "    'OKTA',  # Okta, Inc.\n",
    "    'SPLK',  # Splunk Inc.\n",
    "    'CRWD'   # CrowdStrike Holdings, Inc.\n",
    "]\n",
    "\n",
    "timeFrame = '2y'  # Options: 1d, 5d, 1mo, 3mo, 6mo, 1y, 2y, 5y, 10y, ytd, max"
   ]
  },
  {
   "cell_type": "markdown",
   "metadata": {},
   "source": [
    "### Getting historic data"
   ]
  },
  {
   "cell_type": "code",
   "execution_count": 59,
   "metadata": {},
   "outputs": [
    {
     "name": "stderr",
     "output_type": "stream",
     "text": [
      "FISV: Period '5y' is invalid, must be one of ['1d', '5d', '1mo', '3mo', '6mo', '1y', '2y', 'ytd', 'max']\n"
     ]
    },
    {
     "name": "stdout",
     "output_type": "stream",
     "text": [
      "Error processing FISV: index -1 is out of bounds for axis 0 with size 0\n"
     ]
    },
    {
     "name": "stderr",
     "output_type": "stream",
     "text": [
      "$ATVI: possibly delisted; no price data found  (period=5y) (Yahoo error = \"No data found, symbol may be delisted\")\n"
     ]
    },
    {
     "name": "stdout",
     "output_type": "stream",
     "text": [
      "Error processing ATVI: index -1 is out of bounds for axis 0 with size 0\n"
     ]
    },
    {
     "name": "stderr",
     "output_type": "stream",
     "text": [
      "$SPLK: possibly delisted; no price data found  (period=5y) (Yahoo error = \"No data found, symbol may be delisted\")\n"
     ]
    },
    {
     "name": "stdout",
     "output_type": "stream",
     "text": [
      "Error processing SPLK: index -1 is out of bounds for axis 0 with size 0\n",
      "Data saved to 'data.csv'\n"
     ]
    }
   ],
   "source": [
    "# Define a function to calculate YearChange\n",
    "def calculate_year_change(ticker_symbol, timeframe, buffer=1):\n",
    "    \"\"\"\n",
    "    Calculate YearChange (%) for a ticker, requesting a larger valid period to ensure full data coverage.\n",
    "    \"\"\"\n",
    "    # Map the valid period for yfinance\n",
    "    valid_periods = ['1d', '5d', '1mo', '3mo', '6mo', '1y', '2y', '5y', '10y', 'ytd', 'max']\n",
    "    extended_timeframe = 'max' if timeframe == 'max' else valid_periods[valid_periods.index(timeframe) + buffer]\n",
    "\n",
    "    # Get historical data\n",
    "    ticker = yf.Ticker(ticker_symbol)\n",
    "    yearChange = ticker.history(period=extended_timeframe)\n",
    "    \n",
    "    # Calculate YearChange (%)\n",
    "    yearChange['YearChange (%)'] = (yearChange['Close'] / yearChange['Close'].shift(252) - 1) * 100\n",
    "\n",
    "    # Trim data to the original timeframe\n",
    "    end_date = yearChange.index[-1]\n",
    "    start_date = end_date - pd.DateOffset(years=int(timeframe[:-1]))\n",
    "    yearChange = yearChange.loc[start_date:]\n",
    "\n",
    "    return yearChange\n",
    "\n",
    "# Data collection\n",
    "histData = pd.DataFrame()\n",
    "for symbol in symbols:\n",
    "    try:\n",
    "        yearChange = calculate_year_change(symbol, timeFrame)\n",
    "        yearChange['Ticker'] = symbol  # Add Ticker column\n",
    "        histData = pd.concat([histData, yearChange])\n",
    "    except Exception as e:\n",
    "        print(f\"Error processing {symbol}: {e}\")\n",
    "\n",
    "# Reorder columns to have 'Ticker' right after the date\n",
    "histData.reset_index(inplace=True)  # Move the date index to a column\n",
    "columns_order = ['Date', 'Ticker'] + [col for col in histData.columns if col not in ['Date', 'Ticker']]\n",
    "histData = histData[columns_order]\n",
    "\n",
    "# Save to CSV\n",
    "histData.to_csv('data.csv', index=False)\n",
    "\n",
    "print(\"Data saved to 'data.csv'\")\n"
   ]
  },
  {
   "cell_type": "code",
   "execution_count": null,
   "metadata": {},
   "outputs": [],
   "source": []
  }
 ],
 "metadata": {
  "kernelspec": {
   "display_name": "Python 3",
   "language": "python",
   "name": "python3"
  },
  "language_info": {
   "codemirror_mode": {
    "name": "ipython",
    "version": 3
   },
   "file_extension": ".py",
   "mimetype": "text/x-python",
   "name": "python",
   "nbconvert_exporter": "python",
   "pygments_lexer": "ipython3",
   "version": "3.12.4"
  }
 },
 "nbformat": 4,
 "nbformat_minor": 2
}
