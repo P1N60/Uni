{
 "cells": [
  {
   "cell_type": "code",
   "execution_count": 12,
   "metadata": {},
   "outputs": [],
   "source": [
    "! pip install -q yfinance pandas"
   ]
  },
  {
   "cell_type": "code",
   "execution_count": 13,
   "metadata": {},
   "outputs": [],
   "source": [
    "import yfinance as yf\n",
    "import pandas as pd"
   ]
  },
  {
   "cell_type": "markdown",
   "metadata": {},
   "source": [
    "### Variables"
   ]
  },
  {
   "cell_type": "code",
   "execution_count": 14,
   "metadata": {},
   "outputs": [],
   "source": [
    "symbols = ['AAPL', 'NVO']\n",
    "timeframe = '2y'  # Options: 1d, 5d, 1mo, 3mo, 6mo, 1y, 2y, 5y, 10y, ytd, max"
   ]
  },
  {
   "cell_type": "code",
   "execution_count": 15,
   "metadata": {},
   "outputs": [
    {
     "name": "stderr",
     "output_type": "stream",
     "text": [
      "c:\\Users\\Gamer\\miniconda3\\Lib\\site-packages\\yfinance\\base.py:240: DeprecationWarning: 'Ticker.basic_info' is deprecated and will be removed in future, Switch to 'Ticker.fast_info'\n",
      "  warnings.warn(\"'Ticker.basic_info' is deprecated and will be removed in future, Switch to 'Ticker.fast_info'\", DeprecationWarning)\n",
      "c:\\Users\\Gamer\\miniconda3\\Lib\\site-packages\\yfinance\\base.py:240: DeprecationWarning: 'Ticker.basic_info' is deprecated and will be removed in future, Switch to 'Ticker.fast_info'\n",
      "  warnings.warn(\"'Ticker.basic_info' is deprecated and will be removed in future, Switch to 'Ticker.fast_info'\", DeprecationWarning)\n"
     ]
    }
   ],
   "source": [
    "data = pd.DataFrame()\n",
    "\n",
    "# Loop through each ticker and append its historical data\n",
    "for symbol in symbols:\n",
    "    try:\n",
    "        ticker = yf.Ticker(symbol)\n",
    "        histData = ticker.history(period=timeframe)\n",
    "        histData[\"Ticker\"] = symbol\n",
    "        histData[\"1 Year Change\"] = ticker.basic_info[\"yearChange\"]\n",
    "\n",
    "        data = pd.concat([data, histData])\n",
    "    except Exception as e:\n",
    "        print(f\"Error processing {symbol}: {e}\")\n",
    "\n",
    "data.to_csv('data.csv', index=True)\n"
   ]
  },
  {
   "cell_type": "code",
   "execution_count": 16,
   "metadata": {},
   "outputs": [
    {
     "name": "stdout",
     "output_type": "stream",
     "text": [
      "0.2703806163277597\n"
     ]
    },
    {
     "name": "stderr",
     "output_type": "stream",
     "text": [
      "c:\\Users\\Gamer\\miniconda3\\Lib\\site-packages\\yfinance\\base.py:240: DeprecationWarning: 'Ticker.basic_info' is deprecated and will be removed in future, Switch to 'Ticker.fast_info'\n",
      "  warnings.warn(\"'Ticker.basic_info' is deprecated and will be removed in future, Switch to 'Ticker.fast_info'\", DeprecationWarning)\n"
     ]
    }
   ],
   "source": [
    "ticker = yf.Ticker(symbols[0])\n",
    "print(ticker.basic_info[\"yearChange\"])"
   ]
  },
  {
   "cell_type": "code",
   "execution_count": null,
   "metadata": {},
   "outputs": [],
   "source": []
  }
 ],
 "metadata": {
  "kernelspec": {
   "display_name": "Python 3",
   "language": "python",
   "name": "python3"
  },
  "language_info": {
   "codemirror_mode": {
    "name": "ipython",
    "version": 3
   },
   "file_extension": ".py",
   "mimetype": "text/x-python",
   "name": "python",
   "nbconvert_exporter": "python",
   "pygments_lexer": "ipython3",
   "version": "3.12.4"
  }
 },
 "nbformat": 4,
 "nbformat_minor": 2
}
