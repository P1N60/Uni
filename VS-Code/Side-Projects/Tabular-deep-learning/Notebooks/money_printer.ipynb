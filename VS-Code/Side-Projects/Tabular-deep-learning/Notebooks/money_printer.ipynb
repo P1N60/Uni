{
 "cells": [
  {
   "cell_type": "code",
   "execution_count": 6,
   "metadata": {},
   "outputs": [],
   "source": [
    "import yfinance as yf\n",
    "import pandas as pd\n",
    "from pathlib import Path\n",
    "import math"
   ]
  },
  {
   "cell_type": "code",
   "execution_count": 7,
   "metadata": {},
   "outputs": [],
   "source": [
    "result_folder = Path.cwd().parent / 'Results'\n",
    "\n",
    "symbols = pd.read_csv(result_folder / 'simple_screener_results.csv')['Ticker'].tolist()\n",
    "symbols = pd.Series(symbols).unique()\n",
    "backup = pd.read_csv(result_folder / 'simple_screener_results.csv')['Ticker']\n",
    "if len(backup) > 0:\n",
    "    backup.to_csv(result_folder / 'known_tickers.csv', index=False)\n",
    "owned_tickers = pd.read_csv(result_folder / 'owned_tickers.csv')['Ticker'].tolist()"
   ]
  },
  {
   "cell_type": "code",
   "execution_count": 8,
   "metadata": {},
   "outputs": [
    {
     "name": "stderr",
     "output_type": "stream",
     "text": [
      "c:\\Users\\Gamer\\miniconda3\\Lib\\site-packages\\charset_normalizer\\api.py:105: UserWarning: Trying to detect encoding from a tiny portion of (23) byte(s).\n",
      "  warn('Trying to detect encoding from a tiny portion of ({}) byte(s).'.format(length))\n",
      "429 Client Error: Too Many Requests for url: https://query2.finance.yahoo.com/v10/finance/quoteSummary/MATAS.CO?modules=financialData&corsDomain=finance.yahoo.com&formatted=false&symbol=MATAS.CO&crumb=Edge%3A+Too+Many+Requests\n",
      "429 Client Error: Too Many Requests for url: https://query2.finance.yahoo.com/v10/finance/quoteSummary/MATAS.CO?modules=financialData%2CquoteType%2CdefaultKeyStatistics%2CassetProfile%2CsummaryDetail&corsDomain=finance.yahoo.com&formatted=false&symbol=MATAS.CO&crumb=Edge%3A+Too+Many+Requests\n"
     ]
    },
    {
     "name": "stdout",
     "output_type": "stream",
     "text": [
      "Error with MATAS.CO: Expecting value: line 1 column 1 (char 0). Removed Ticker from list.\n"
     ]
    },
    {
     "name": "stderr",
     "output_type": "stream",
     "text": [
      "429 Client Error: Too Many Requests for url: https://query2.finance.yahoo.com/v10/finance/quoteSummary/TRIFOR.CO?modules=financialData&corsDomain=finance.yahoo.com&formatted=false&symbol=TRIFOR.CO&crumb=Edge%3A+Too+Many+Requests\n",
      "429 Client Error: Too Many Requests for url: https://query2.finance.yahoo.com/v10/finance/quoteSummary/TRIFOR.CO?modules=financialData%2CquoteType%2CdefaultKeyStatistics%2CassetProfile%2CsummaryDetail&corsDomain=finance.yahoo.com&formatted=false&symbol=TRIFOR.CO&crumb=Edge%3A+Too+Many+Requests\n"
     ]
    },
    {
     "name": "stdout",
     "output_type": "stream",
     "text": [
      "Error with TRIFOR.CO: Expecting value: line 1 column 1 (char 0). Removed Ticker from list.\n"
     ]
    },
    {
     "name": "stderr",
     "output_type": "stream",
     "text": [
      "429 Client Error: Too Many Requests for url: https://query2.finance.yahoo.com/v10/finance/quoteSummary/QQ.L?modules=financialData&corsDomain=finance.yahoo.com&formatted=false&symbol=QQ.L&crumb=Edge%3A+Too+Many+Requests\n",
      "429 Client Error: Too Many Requests for url: https://query2.finance.yahoo.com/v10/finance/quoteSummary/QQ.L?modules=financialData%2CquoteType%2CdefaultKeyStatistics%2CassetProfile%2CsummaryDetail&corsDomain=finance.yahoo.com&formatted=false&symbol=QQ.L&crumb=Edge%3A+Too+Many+Requests\n"
     ]
    },
    {
     "name": "stdout",
     "output_type": "stream",
     "text": [
      "Error with QQ.L: Expecting value: line 1 column 1 (char 0). Removed Ticker from list.\n"
     ]
    },
    {
     "name": "stderr",
     "output_type": "stream",
     "text": [
      "429 Client Error: Too Many Requests for url: https://query2.finance.yahoo.com/v10/finance/quoteSummary/RNMBY?modules=financialData&corsDomain=finance.yahoo.com&formatted=false&symbol=RNMBY&crumb=Edge%3A+Too+Many+Requests\n"
     ]
    },
    {
     "ename": "KeyboardInterrupt",
     "evalue": "",
     "output_type": "error",
     "traceback": [
      "\u001b[1;31m---------------------------------------------------------------------------\u001b[0m",
      "\u001b[1;31mKeyboardInterrupt\u001b[0m                         Traceback (most recent call last)",
      "Cell \u001b[1;32mIn[8], line 27\u001b[0m\n\u001b[0;32m     24\u001b[0m \u001b[38;5;28;01mif\u001b[39;00m \u001b[38;5;124m'\u001b[39m\u001b[38;5;124mmean\u001b[39m\u001b[38;5;124m'\u001b[39m \u001b[38;5;129;01min\u001b[39;00m ticker\u001b[38;5;241m.\u001b[39manalyst_price_targets \u001b[38;5;129;01mand\u001b[39;00m ticker\u001b[38;5;241m.\u001b[39minfo[\u001b[38;5;124m'\u001b[39m\u001b[38;5;124mcurrentPrice\u001b[39m\u001b[38;5;124m'\u001b[39m]:\n\u001b[0;32m     25\u001b[0m     analyst_mean \u001b[38;5;241m=\u001b[39m ticker\u001b[38;5;241m.\u001b[39manalyst_price_targets[\u001b[38;5;124m'\u001b[39m\u001b[38;5;124mmean\u001b[39m\u001b[38;5;124m'\u001b[39m] \u001b[38;5;241m/\u001b[39m ticker\u001b[38;5;241m.\u001b[39minfo[\u001b[38;5;124m'\u001b[39m\u001b[38;5;124mcurrentPrice\u001b[39m\u001b[38;5;124m'\u001b[39m] \u001b[38;5;241m-\u001b[39m \u001b[38;5;241m1\u001b[39m\n\u001b[1;32m---> 27\u001b[0m roa \u001b[38;5;241m=\u001b[39m \u001b[43mticker\u001b[49m\u001b[38;5;241;43m.\u001b[39;49m\u001b[43minfo\u001b[49m[\u001b[38;5;124m'\u001b[39m\u001b[38;5;124mreturnOnAssets\u001b[39m\u001b[38;5;124m'\u001b[39m]\u001b[38;5;241m*\u001b[39m\u001b[38;5;241m100\u001b[39m\n\u001b[0;32m     28\u001b[0m pe \u001b[38;5;241m=\u001b[39m ticker\u001b[38;5;241m.\u001b[39minfo[\u001b[38;5;124m'\u001b[39m\u001b[38;5;124mtrailingPE\u001b[39m\u001b[38;5;124m'\u001b[39m]\n\u001b[0;32m     30\u001b[0m value_score \u001b[38;5;241m=\u001b[39m \u001b[38;5;28mformat\u001b[39m(\u001b[38;5;241m2.5\u001b[39m \u001b[38;5;241m+\u001b[39m math\u001b[38;5;241m.\u001b[39mlog(roa\u001b[38;5;241m+\u001b[39m\u001b[38;5;241m5\u001b[39m) \u001b[38;5;241m-\u001b[39m math\u001b[38;5;241m.\u001b[39mlog(pe\u001b[38;5;241m+\u001b[39m\u001b[38;5;241m25\u001b[39m), \u001b[38;5;124m'\u001b[39m\u001b[38;5;124m.2f\u001b[39m\u001b[38;5;124m'\u001b[39m)\n",
      "File \u001b[1;32mc:\\Users\\Gamer\\miniconda3\\Lib\\site-packages\\yfinance\\ticker.py:159\u001b[0m, in \u001b[0;36mTicker.info\u001b[1;34m(self)\u001b[0m\n\u001b[0;32m    157\u001b[0m \u001b[38;5;129m@property\u001b[39m\n\u001b[0;32m    158\u001b[0m \u001b[38;5;28;01mdef\u001b[39;00m \u001b[38;5;21minfo\u001b[39m(\u001b[38;5;28mself\u001b[39m) \u001b[38;5;241m-\u001b[39m\u001b[38;5;241m>\u001b[39m \u001b[38;5;28mdict\u001b[39m:\n\u001b[1;32m--> 159\u001b[0m     \u001b[38;5;28;01mreturn\u001b[39;00m \u001b[38;5;28;43mself\u001b[39;49m\u001b[38;5;241;43m.\u001b[39;49m\u001b[43mget_info\u001b[49m\u001b[43m(\u001b[49m\u001b[43m)\u001b[49m\n",
      "File \u001b[1;32mc:\\Users\\Gamer\\miniconda3\\Lib\\site-packages\\yfinance\\base.py:230\u001b[0m, in \u001b[0;36mTickerBase.get_info\u001b[1;34m(self, proxy)\u001b[0m\n\u001b[0;32m    228\u001b[0m \u001b[38;5;28;01mdef\u001b[39;00m \u001b[38;5;21mget_info\u001b[39m(\u001b[38;5;28mself\u001b[39m, proxy\u001b[38;5;241m=\u001b[39m\u001b[38;5;28;01mNone\u001b[39;00m) \u001b[38;5;241m-\u001b[39m\u001b[38;5;241m>\u001b[39m \u001b[38;5;28mdict\u001b[39m:\n\u001b[0;32m    229\u001b[0m     \u001b[38;5;28mself\u001b[39m\u001b[38;5;241m.\u001b[39m_quote\u001b[38;5;241m.\u001b[39mproxy \u001b[38;5;241m=\u001b[39m proxy \u001b[38;5;129;01mor\u001b[39;00m \u001b[38;5;28mself\u001b[39m\u001b[38;5;241m.\u001b[39mproxy\n\u001b[1;32m--> 230\u001b[0m     data \u001b[38;5;241m=\u001b[39m \u001b[38;5;28;43mself\u001b[39;49m\u001b[38;5;241;43m.\u001b[39;49m\u001b[43m_quote\u001b[49m\u001b[38;5;241;43m.\u001b[39;49m\u001b[43minfo\u001b[49m\n\u001b[0;32m    231\u001b[0m     \u001b[38;5;28;01mreturn\u001b[39;00m data\n",
      "File \u001b[1;32mc:\\Users\\Gamer\\miniconda3\\Lib\\site-packages\\yfinance\\scrapers\\quote.py:508\u001b[0m, in \u001b[0;36mQuote.info\u001b[1;34m(self)\u001b[0m\n\u001b[0;32m    505\u001b[0m \u001b[38;5;129m@property\u001b[39m\n\u001b[0;32m    506\u001b[0m \u001b[38;5;28;01mdef\u001b[39;00m \u001b[38;5;21minfo\u001b[39m(\u001b[38;5;28mself\u001b[39m) \u001b[38;5;241m-\u001b[39m\u001b[38;5;241m>\u001b[39m \u001b[38;5;28mdict\u001b[39m:\n\u001b[0;32m    507\u001b[0m     \u001b[38;5;28;01mif\u001b[39;00m \u001b[38;5;28mself\u001b[39m\u001b[38;5;241m.\u001b[39m_info \u001b[38;5;129;01mis\u001b[39;00m \u001b[38;5;28;01mNone\u001b[39;00m:\n\u001b[1;32m--> 508\u001b[0m         \u001b[38;5;28;43mself\u001b[39;49m\u001b[38;5;241;43m.\u001b[39;49m\u001b[43m_fetch_info\u001b[49m\u001b[43m(\u001b[49m\u001b[38;5;28;43mself\u001b[39;49m\u001b[38;5;241;43m.\u001b[39;49m\u001b[43mproxy\u001b[49m\u001b[43m)\u001b[49m\n\u001b[0;32m    509\u001b[0m         \u001b[38;5;28mself\u001b[39m\u001b[38;5;241m.\u001b[39m_fetch_complementary(\u001b[38;5;28mself\u001b[39m\u001b[38;5;241m.\u001b[39mproxy)\n\u001b[0;32m    511\u001b[0m     \u001b[38;5;28;01mreturn\u001b[39;00m \u001b[38;5;28mself\u001b[39m\u001b[38;5;241m.\u001b[39m_info\n",
      "File \u001b[1;32mc:\\Users\\Gamer\\miniconda3\\Lib\\site-packages\\yfinance\\scrapers\\quote.py:598\u001b[0m, in \u001b[0;36mQuote._fetch_info\u001b[1;34m(self, proxy)\u001b[0m\n\u001b[0;32m    596\u001b[0m \u001b[38;5;28mself\u001b[39m\u001b[38;5;241m.\u001b[39m_already_fetched \u001b[38;5;241m=\u001b[39m \u001b[38;5;28;01mTrue\u001b[39;00m\n\u001b[0;32m    597\u001b[0m modules \u001b[38;5;241m=\u001b[39m [\u001b[38;5;124m'\u001b[39m\u001b[38;5;124mfinancialData\u001b[39m\u001b[38;5;124m'\u001b[39m, \u001b[38;5;124m'\u001b[39m\u001b[38;5;124mquoteType\u001b[39m\u001b[38;5;124m'\u001b[39m, \u001b[38;5;124m'\u001b[39m\u001b[38;5;124mdefaultKeyStatistics\u001b[39m\u001b[38;5;124m'\u001b[39m, \u001b[38;5;124m'\u001b[39m\u001b[38;5;124massetProfile\u001b[39m\u001b[38;5;124m'\u001b[39m, \u001b[38;5;124m'\u001b[39m\u001b[38;5;124msummaryDetail\u001b[39m\u001b[38;5;124m'\u001b[39m]\n\u001b[1;32m--> 598\u001b[0m result \u001b[38;5;241m=\u001b[39m \u001b[38;5;28;43mself\u001b[39;49m\u001b[38;5;241;43m.\u001b[39;49m\u001b[43m_fetch\u001b[49m\u001b[43m(\u001b[49m\u001b[43mproxy\u001b[49m\u001b[43m,\u001b[49m\u001b[43m \u001b[49m\u001b[43mmodules\u001b[49m\u001b[38;5;241;43m=\u001b[39;49m\u001b[43mmodules\u001b[49m\u001b[43m)\u001b[49m\n\u001b[0;32m    599\u001b[0m \u001b[38;5;28;01mif\u001b[39;00m result \u001b[38;5;129;01mis\u001b[39;00m \u001b[38;5;28;01mNone\u001b[39;00m:\n\u001b[0;32m    600\u001b[0m     \u001b[38;5;28mself\u001b[39m\u001b[38;5;241m.\u001b[39m_info \u001b[38;5;241m=\u001b[39m {}\n",
      "File \u001b[1;32mc:\\Users\\Gamer\\miniconda3\\Lib\\site-packages\\yfinance\\scrapers\\quote.py:587\u001b[0m, in \u001b[0;36mQuote._fetch\u001b[1;34m(self, proxy, modules)\u001b[0m\n\u001b[0;32m    585\u001b[0m params_dict \u001b[38;5;241m=\u001b[39m {\u001b[38;5;124m\"\u001b[39m\u001b[38;5;124mmodules\u001b[39m\u001b[38;5;124m\"\u001b[39m: modules, \u001b[38;5;124m\"\u001b[39m\u001b[38;5;124mcorsDomain\u001b[39m\u001b[38;5;124m\"\u001b[39m: \u001b[38;5;124m\"\u001b[39m\u001b[38;5;124mfinance.yahoo.com\u001b[39m\u001b[38;5;124m\"\u001b[39m, \u001b[38;5;124m\"\u001b[39m\u001b[38;5;124mformatted\u001b[39m\u001b[38;5;124m\"\u001b[39m: \u001b[38;5;124m\"\u001b[39m\u001b[38;5;124mfalse\u001b[39m\u001b[38;5;124m\"\u001b[39m, \u001b[38;5;124m\"\u001b[39m\u001b[38;5;124msymbol\u001b[39m\u001b[38;5;124m\"\u001b[39m: \u001b[38;5;28mself\u001b[39m\u001b[38;5;241m.\u001b[39m_symbol}\n\u001b[0;32m    586\u001b[0m \u001b[38;5;28;01mtry\u001b[39;00m:\n\u001b[1;32m--> 587\u001b[0m     result \u001b[38;5;241m=\u001b[39m \u001b[38;5;28;43mself\u001b[39;49m\u001b[38;5;241;43m.\u001b[39;49m\u001b[43m_data\u001b[49m\u001b[38;5;241;43m.\u001b[39;49m\u001b[43mget_raw_json\u001b[49m\u001b[43m(\u001b[49m\u001b[43m_QUOTE_SUMMARY_URL_\u001b[49m\u001b[43m \u001b[49m\u001b[38;5;241;43m+\u001b[39;49m\u001b[43m \u001b[49m\u001b[38;5;124;43mf\u001b[39;49m\u001b[38;5;124;43m\"\u001b[39;49m\u001b[38;5;124;43m/\u001b[39;49m\u001b[38;5;132;43;01m{\u001b[39;49;00m\u001b[38;5;28;43mself\u001b[39;49m\u001b[38;5;241;43m.\u001b[39;49m\u001b[43m_symbol\u001b[49m\u001b[38;5;132;43;01m}\u001b[39;49;00m\u001b[38;5;124;43m\"\u001b[39;49m\u001b[43m,\u001b[49m\u001b[43m \u001b[49m\u001b[43muser_agent_headers\u001b[49m\u001b[38;5;241;43m=\u001b[39;49m\u001b[38;5;28;43mself\u001b[39;49m\u001b[38;5;241;43m.\u001b[39;49m\u001b[43m_data\u001b[49m\u001b[38;5;241;43m.\u001b[39;49m\u001b[43muser_agent_headers\u001b[49m\u001b[43m,\u001b[49m\u001b[43m \u001b[49m\u001b[43mparams\u001b[49m\u001b[38;5;241;43m=\u001b[39;49m\u001b[43mparams_dict\u001b[49m\u001b[43m,\u001b[49m\u001b[43m \u001b[49m\u001b[43mproxy\u001b[49m\u001b[38;5;241;43m=\u001b[39;49m\u001b[43mproxy\u001b[49m\u001b[43m)\u001b[49m\n\u001b[0;32m    588\u001b[0m \u001b[38;5;28;01mexcept\u001b[39;00m requests\u001b[38;5;241m.\u001b[39mexceptions\u001b[38;5;241m.\u001b[39mHTTPError \u001b[38;5;28;01mas\u001b[39;00m e:\n\u001b[0;32m    589\u001b[0m     utils\u001b[38;5;241m.\u001b[39mget_yf_logger()\u001b[38;5;241m.\u001b[39merror(\u001b[38;5;28mstr\u001b[39m(e))\n",
      "File \u001b[1;32mc:\\Users\\Gamer\\miniconda3\\Lib\\site-packages\\yfinance\\data.py:410\u001b[0m, in \u001b[0;36mYfData.get_raw_json\u001b[1;34m(self, url, user_agent_headers, params, proxy, timeout)\u001b[0m\n\u001b[0;32m    408\u001b[0m \u001b[38;5;28;01mdef\u001b[39;00m \u001b[38;5;21mget_raw_json\u001b[39m(\u001b[38;5;28mself\u001b[39m, url, user_agent_headers\u001b[38;5;241m=\u001b[39m\u001b[38;5;28;01mNone\u001b[39;00m, params\u001b[38;5;241m=\u001b[39m\u001b[38;5;28;01mNone\u001b[39;00m, proxy\u001b[38;5;241m=\u001b[39m\u001b[38;5;28;01mNone\u001b[39;00m, timeout\u001b[38;5;241m=\u001b[39m\u001b[38;5;241m30\u001b[39m):\n\u001b[0;32m    409\u001b[0m     utils\u001b[38;5;241m.\u001b[39mget_yf_logger()\u001b[38;5;241m.\u001b[39mdebug(\u001b[38;5;124mf\u001b[39m\u001b[38;5;124m'\u001b[39m\u001b[38;5;124mget_raw_json(): \u001b[39m\u001b[38;5;132;01m{\u001b[39;00murl\u001b[38;5;132;01m}\u001b[39;00m\u001b[38;5;124m'\u001b[39m)\n\u001b[1;32m--> 410\u001b[0m     response \u001b[38;5;241m=\u001b[39m \u001b[38;5;28;43mself\u001b[39;49m\u001b[38;5;241;43m.\u001b[39;49m\u001b[43mget\u001b[49m\u001b[43m(\u001b[49m\u001b[43murl\u001b[49m\u001b[43m,\u001b[49m\u001b[43m \u001b[49m\u001b[43muser_agent_headers\u001b[49m\u001b[38;5;241;43m=\u001b[39;49m\u001b[43muser_agent_headers\u001b[49m\u001b[43m,\u001b[49m\u001b[43m \u001b[49m\u001b[43mparams\u001b[49m\u001b[38;5;241;43m=\u001b[39;49m\u001b[43mparams\u001b[49m\u001b[43m,\u001b[49m\u001b[43m \u001b[49m\u001b[43mproxy\u001b[49m\u001b[38;5;241;43m=\u001b[39;49m\u001b[43mproxy\u001b[49m\u001b[43m,\u001b[49m\u001b[43m \u001b[49m\u001b[43mtimeout\u001b[49m\u001b[38;5;241;43m=\u001b[39;49m\u001b[43mtimeout\u001b[49m\u001b[43m)\u001b[49m\n\u001b[0;32m    411\u001b[0m     response\u001b[38;5;241m.\u001b[39mraise_for_status()\n\u001b[0;32m    412\u001b[0m     \u001b[38;5;28;01mreturn\u001b[39;00m response\u001b[38;5;241m.\u001b[39mjson()\n",
      "File \u001b[1;32mc:\\Users\\Gamer\\miniconda3\\Lib\\site-packages\\yfinance\\utils.py:103\u001b[0m, in \u001b[0;36mlog_indent_decorator.<locals>.wrapper\u001b[1;34m(*args, **kwargs)\u001b[0m\n\u001b[0;32m    100\u001b[0m logger\u001b[38;5;241m.\u001b[39mdebug(\u001b[38;5;124mf\u001b[39m\u001b[38;5;124m'\u001b[39m\u001b[38;5;124mEntering \u001b[39m\u001b[38;5;132;01m{\u001b[39;00mfunc\u001b[38;5;241m.\u001b[39m\u001b[38;5;18m__name__\u001b[39m\u001b[38;5;132;01m}\u001b[39;00m\u001b[38;5;124m()\u001b[39m\u001b[38;5;124m'\u001b[39m)\n\u001b[0;32m    102\u001b[0m \u001b[38;5;28;01mwith\u001b[39;00m IndentationContext():\n\u001b[1;32m--> 103\u001b[0m     result \u001b[38;5;241m=\u001b[39m \u001b[43mfunc\u001b[49m\u001b[43m(\u001b[49m\u001b[38;5;241;43m*\u001b[39;49m\u001b[43margs\u001b[49m\u001b[43m,\u001b[49m\u001b[43m \u001b[49m\u001b[38;5;241;43m*\u001b[39;49m\u001b[38;5;241;43m*\u001b[39;49m\u001b[43mkwargs\u001b[49m\u001b[43m)\u001b[49m\n\u001b[0;32m    105\u001b[0m logger\u001b[38;5;241m.\u001b[39mdebug(\u001b[38;5;124mf\u001b[39m\u001b[38;5;124m'\u001b[39m\u001b[38;5;124mExiting \u001b[39m\u001b[38;5;132;01m{\u001b[39;00mfunc\u001b[38;5;241m.\u001b[39m\u001b[38;5;18m__name__\u001b[39m\u001b[38;5;132;01m}\u001b[39;00m\u001b[38;5;124m()\u001b[39m\u001b[38;5;124m'\u001b[39m)\n\u001b[0;32m    106\u001b[0m \u001b[38;5;28;01mreturn\u001b[39;00m result\n",
      "File \u001b[1;32mc:\\Users\\Gamer\\miniconda3\\Lib\\site-packages\\yfinance\\data.py:333\u001b[0m, in \u001b[0;36mYfData.get\u001b[1;34m(self, url, user_agent_headers, params, proxy, timeout)\u001b[0m\n\u001b[0;32m    331\u001b[0m \u001b[38;5;129m@utils\u001b[39m\u001b[38;5;241m.\u001b[39mlog_indent_decorator\n\u001b[0;32m    332\u001b[0m \u001b[38;5;28;01mdef\u001b[39;00m \u001b[38;5;21mget\u001b[39m(\u001b[38;5;28mself\u001b[39m, url, user_agent_headers\u001b[38;5;241m=\u001b[39m\u001b[38;5;28;01mNone\u001b[39;00m, params\u001b[38;5;241m=\u001b[39m\u001b[38;5;28;01mNone\u001b[39;00m, proxy\u001b[38;5;241m=\u001b[39m\u001b[38;5;28;01mNone\u001b[39;00m, timeout\u001b[38;5;241m=\u001b[39m\u001b[38;5;241m30\u001b[39m):\n\u001b[1;32m--> 333\u001b[0m     \u001b[38;5;28;01mreturn\u001b[39;00m \u001b[38;5;28;43mself\u001b[39;49m\u001b[38;5;241;43m.\u001b[39;49m\u001b[43m_make_request\u001b[49m\u001b[43m(\u001b[49m\u001b[43murl\u001b[49m\u001b[43m,\u001b[49m\u001b[43m \u001b[49m\u001b[43mrequest_method\u001b[49m\u001b[43m \u001b[49m\u001b[38;5;241;43m=\u001b[39;49m\u001b[43m \u001b[49m\u001b[38;5;28;43mself\u001b[39;49m\u001b[38;5;241;43m.\u001b[39;49m\u001b[43m_session\u001b[49m\u001b[38;5;241;43m.\u001b[39;49m\u001b[43mget\u001b[49m\u001b[43m,\u001b[49m\u001b[43m \u001b[49m\u001b[43muser_agent_headers\u001b[49m\u001b[38;5;241;43m=\u001b[39;49m\u001b[43muser_agent_headers\u001b[49m\u001b[43m,\u001b[49m\u001b[43m \u001b[49m\u001b[43mparams\u001b[49m\u001b[38;5;241;43m=\u001b[39;49m\u001b[43mparams\u001b[49m\u001b[43m,\u001b[49m\u001b[43m \u001b[49m\u001b[43mproxy\u001b[49m\u001b[38;5;241;43m=\u001b[39;49m\u001b[43mproxy\u001b[49m\u001b[43m,\u001b[49m\u001b[43m \u001b[49m\u001b[43mtimeout\u001b[49m\u001b[38;5;241;43m=\u001b[39;49m\u001b[43mtimeout\u001b[49m\u001b[43m)\u001b[49m\n",
      "File \u001b[1;32mc:\\Users\\Gamer\\miniconda3\\Lib\\site-packages\\yfinance\\utils.py:103\u001b[0m, in \u001b[0;36mlog_indent_decorator.<locals>.wrapper\u001b[1;34m(*args, **kwargs)\u001b[0m\n\u001b[0;32m    100\u001b[0m logger\u001b[38;5;241m.\u001b[39mdebug(\u001b[38;5;124mf\u001b[39m\u001b[38;5;124m'\u001b[39m\u001b[38;5;124mEntering \u001b[39m\u001b[38;5;132;01m{\u001b[39;00mfunc\u001b[38;5;241m.\u001b[39m\u001b[38;5;18m__name__\u001b[39m\u001b[38;5;132;01m}\u001b[39;00m\u001b[38;5;124m()\u001b[39m\u001b[38;5;124m'\u001b[39m)\n\u001b[0;32m    102\u001b[0m \u001b[38;5;28;01mwith\u001b[39;00m IndentationContext():\n\u001b[1;32m--> 103\u001b[0m     result \u001b[38;5;241m=\u001b[39m \u001b[43mfunc\u001b[49m\u001b[43m(\u001b[49m\u001b[38;5;241;43m*\u001b[39;49m\u001b[43margs\u001b[49m\u001b[43m,\u001b[49m\u001b[43m \u001b[49m\u001b[38;5;241;43m*\u001b[39;49m\u001b[38;5;241;43m*\u001b[39;49m\u001b[43mkwargs\u001b[49m\u001b[43m)\u001b[49m\n\u001b[0;32m    105\u001b[0m logger\u001b[38;5;241m.\u001b[39mdebug(\u001b[38;5;124mf\u001b[39m\u001b[38;5;124m'\u001b[39m\u001b[38;5;124mExiting \u001b[39m\u001b[38;5;132;01m{\u001b[39;00mfunc\u001b[38;5;241m.\u001b[39m\u001b[38;5;18m__name__\u001b[39m\u001b[38;5;132;01m}\u001b[39;00m\u001b[38;5;124m()\u001b[39m\u001b[38;5;124m'\u001b[39m)\n\u001b[0;32m    106\u001b[0m \u001b[38;5;28;01mreturn\u001b[39;00m result\n",
      "File \u001b[1;32mc:\\Users\\Gamer\\miniconda3\\Lib\\site-packages\\yfinance\\data.py:386\u001b[0m, in \u001b[0;36mYfData._make_request\u001b[1;34m(self, url, request_method, user_agent_headers, body, params, proxy, timeout)\u001b[0m\n\u001b[0;32m    384\u001b[0m \u001b[38;5;28;01melse\u001b[39;00m:\n\u001b[0;32m    385\u001b[0m     \u001b[38;5;28mself\u001b[39m\u001b[38;5;241m.\u001b[39m_set_cookie_strategy(\u001b[38;5;124m'\u001b[39m\u001b[38;5;124mbasic\u001b[39m\u001b[38;5;124m'\u001b[39m)\n\u001b[1;32m--> 386\u001b[0m cookie, crumb, strategy \u001b[38;5;241m=\u001b[39m \u001b[38;5;28;43mself\u001b[39;49m\u001b[38;5;241;43m.\u001b[39;49m\u001b[43m_get_cookie_and_crumb\u001b[49m\u001b[43m(\u001b[49m\u001b[43mproxy\u001b[49m\u001b[43m,\u001b[49m\u001b[43m \u001b[49m\u001b[43mtimeout\u001b[49m\u001b[43m)\u001b[49m\n\u001b[0;32m    387\u001b[0m request_args[\u001b[38;5;124m'\u001b[39m\u001b[38;5;124mparams\u001b[39m\u001b[38;5;124m'\u001b[39m][\u001b[38;5;124m'\u001b[39m\u001b[38;5;124mcrumb\u001b[39m\u001b[38;5;124m'\u001b[39m] \u001b[38;5;241m=\u001b[39m crumb\n\u001b[0;32m    388\u001b[0m \u001b[38;5;28;01mif\u001b[39;00m strategy \u001b[38;5;241m==\u001b[39m \u001b[38;5;124m'\u001b[39m\u001b[38;5;124mbasic\u001b[39m\u001b[38;5;124m'\u001b[39m:\n",
      "File \u001b[1;32mc:\\Users\\Gamer\\miniconda3\\Lib\\site-packages\\yfinance\\utils.py:103\u001b[0m, in \u001b[0;36mlog_indent_decorator.<locals>.wrapper\u001b[1;34m(*args, **kwargs)\u001b[0m\n\u001b[0;32m    100\u001b[0m logger\u001b[38;5;241m.\u001b[39mdebug(\u001b[38;5;124mf\u001b[39m\u001b[38;5;124m'\u001b[39m\u001b[38;5;124mEntering \u001b[39m\u001b[38;5;132;01m{\u001b[39;00mfunc\u001b[38;5;241m.\u001b[39m\u001b[38;5;18m__name__\u001b[39m\u001b[38;5;132;01m}\u001b[39;00m\u001b[38;5;124m()\u001b[39m\u001b[38;5;124m'\u001b[39m)\n\u001b[0;32m    102\u001b[0m \u001b[38;5;28;01mwith\u001b[39;00m IndentationContext():\n\u001b[1;32m--> 103\u001b[0m     result \u001b[38;5;241m=\u001b[39m \u001b[43mfunc\u001b[49m\u001b[43m(\u001b[49m\u001b[38;5;241;43m*\u001b[39;49m\u001b[43margs\u001b[49m\u001b[43m,\u001b[49m\u001b[43m \u001b[49m\u001b[38;5;241;43m*\u001b[39;49m\u001b[38;5;241;43m*\u001b[39;49m\u001b[43mkwargs\u001b[49m\u001b[43m)\u001b[49m\n\u001b[0;32m    105\u001b[0m logger\u001b[38;5;241m.\u001b[39mdebug(\u001b[38;5;124mf\u001b[39m\u001b[38;5;124m'\u001b[39m\u001b[38;5;124mExiting \u001b[39m\u001b[38;5;132;01m{\u001b[39;00mfunc\u001b[38;5;241m.\u001b[39m\u001b[38;5;18m__name__\u001b[39m\u001b[38;5;132;01m}\u001b[39;00m\u001b[38;5;124m()\u001b[39m\u001b[38;5;124m'\u001b[39m)\n\u001b[0;32m    106\u001b[0m \u001b[38;5;28;01mreturn\u001b[39;00m result\n",
      "File \u001b[1;32mc:\\Users\\Gamer\\miniconda3\\Lib\\site-packages\\yfinance\\data.py:320\u001b[0m, in \u001b[0;36mYfData._get_cookie_and_crumb\u001b[1;34m(self, proxy, timeout)\u001b[0m\n\u001b[0;32m    317\u001b[0m     \u001b[38;5;28;01mif\u001b[39;00m crumb \u001b[38;5;129;01mis\u001b[39;00m \u001b[38;5;28;01mNone\u001b[39;00m:\n\u001b[0;32m    318\u001b[0m         \u001b[38;5;66;03m# Fail\u001b[39;00m\n\u001b[0;32m    319\u001b[0m         \u001b[38;5;28mself\u001b[39m\u001b[38;5;241m.\u001b[39m_set_cookie_strategy(\u001b[38;5;124m'\u001b[39m\u001b[38;5;124mbasic\u001b[39m\u001b[38;5;124m'\u001b[39m, have_lock\u001b[38;5;241m=\u001b[39m\u001b[38;5;28;01mTrue\u001b[39;00m)\n\u001b[1;32m--> 320\u001b[0m         cookie, crumb \u001b[38;5;241m=\u001b[39m \u001b[38;5;28;43mself\u001b[39;49m\u001b[38;5;241;43m.\u001b[39;49m\u001b[43m_get_cookie_and_crumb_basic\u001b[49m\u001b[43m(\u001b[49m\u001b[43mproxy\u001b[49m\u001b[43m,\u001b[49m\u001b[43m \u001b[49m\u001b[43mtimeout\u001b[49m\u001b[43m)\u001b[49m\n\u001b[0;32m    321\u001b[0m \u001b[38;5;28;01melse\u001b[39;00m:\n\u001b[0;32m    322\u001b[0m     \u001b[38;5;66;03m# Fallback strategy\u001b[39;00m\n\u001b[0;32m    323\u001b[0m     cookie, crumb \u001b[38;5;241m=\u001b[39m \u001b[38;5;28mself\u001b[39m\u001b[38;5;241m.\u001b[39m_get_cookie_and_crumb_basic(proxy, timeout)\n",
      "File \u001b[1;32mc:\\Users\\Gamer\\miniconda3\\Lib\\site-packages\\yfinance\\utils.py:103\u001b[0m, in \u001b[0;36mlog_indent_decorator.<locals>.wrapper\u001b[1;34m(*args, **kwargs)\u001b[0m\n\u001b[0;32m    100\u001b[0m logger\u001b[38;5;241m.\u001b[39mdebug(\u001b[38;5;124mf\u001b[39m\u001b[38;5;124m'\u001b[39m\u001b[38;5;124mEntering \u001b[39m\u001b[38;5;132;01m{\u001b[39;00mfunc\u001b[38;5;241m.\u001b[39m\u001b[38;5;18m__name__\u001b[39m\u001b[38;5;132;01m}\u001b[39;00m\u001b[38;5;124m()\u001b[39m\u001b[38;5;124m'\u001b[39m)\n\u001b[0;32m    102\u001b[0m \u001b[38;5;28;01mwith\u001b[39;00m IndentationContext():\n\u001b[1;32m--> 103\u001b[0m     result \u001b[38;5;241m=\u001b[39m \u001b[43mfunc\u001b[49m\u001b[43m(\u001b[49m\u001b[38;5;241;43m*\u001b[39;49m\u001b[43margs\u001b[49m\u001b[43m,\u001b[49m\u001b[43m \u001b[49m\u001b[38;5;241;43m*\u001b[39;49m\u001b[38;5;241;43m*\u001b[39;49m\u001b[43mkwargs\u001b[49m\u001b[43m)\u001b[49m\n\u001b[0;32m    105\u001b[0m logger\u001b[38;5;241m.\u001b[39mdebug(\u001b[38;5;124mf\u001b[39m\u001b[38;5;124m'\u001b[39m\u001b[38;5;124mExiting \u001b[39m\u001b[38;5;132;01m{\u001b[39;00mfunc\u001b[38;5;241m.\u001b[39m\u001b[38;5;18m__name__\u001b[39m\u001b[38;5;132;01m}\u001b[39;00m\u001b[38;5;124m()\u001b[39m\u001b[38;5;124m'\u001b[39m)\n\u001b[0;32m    106\u001b[0m \u001b[38;5;28;01mreturn\u001b[39;00m result\n",
      "File \u001b[1;32mc:\\Users\\Gamer\\miniconda3\\Lib\\site-packages\\yfinance\\data.py:213\u001b[0m, in \u001b[0;36mYfData._get_cookie_and_crumb_basic\u001b[1;34m(self, proxy, timeout)\u001b[0m\n\u001b[0;32m    210\u001b[0m \u001b[38;5;129m@utils\u001b[39m\u001b[38;5;241m.\u001b[39mlog_indent_decorator\n\u001b[0;32m    211\u001b[0m \u001b[38;5;28;01mdef\u001b[39;00m \u001b[38;5;21m_get_cookie_and_crumb_basic\u001b[39m(\u001b[38;5;28mself\u001b[39m, proxy, timeout):\n\u001b[0;32m    212\u001b[0m     cookie \u001b[38;5;241m=\u001b[39m \u001b[38;5;28mself\u001b[39m\u001b[38;5;241m.\u001b[39m_get_cookie_basic(proxy, timeout)\n\u001b[1;32m--> 213\u001b[0m     crumb \u001b[38;5;241m=\u001b[39m \u001b[38;5;28;43mself\u001b[39;49m\u001b[38;5;241;43m.\u001b[39;49m\u001b[43m_get_crumb_basic\u001b[49m\u001b[43m(\u001b[49m\u001b[43mproxy\u001b[49m\u001b[43m,\u001b[49m\u001b[43m \u001b[49m\u001b[43mtimeout\u001b[49m\u001b[43m)\u001b[49m\n\u001b[0;32m    214\u001b[0m     \u001b[38;5;28;01mreturn\u001b[39;00m cookie, crumb\n",
      "File \u001b[1;32mc:\\Users\\Gamer\\miniconda3\\Lib\\site-packages\\yfinance\\data.py:201\u001b[0m, in \u001b[0;36mYfData._get_crumb_basic\u001b[1;34m(self, proxy, timeout)\u001b[0m\n\u001b[0;32m    199\u001b[0m     crumb_response \u001b[38;5;241m=\u001b[39m \u001b[38;5;28mself\u001b[39m\u001b[38;5;241m.\u001b[39m_session\u001b[38;5;241m.\u001b[39mget(\u001b[38;5;241m*\u001b[39m\u001b[38;5;241m*\u001b[39mget_args)\n\u001b[0;32m    200\u001b[0m \u001b[38;5;28;01melse\u001b[39;00m:\n\u001b[1;32m--> 201\u001b[0m     crumb_response \u001b[38;5;241m=\u001b[39m \u001b[38;5;28;43mself\u001b[39;49m\u001b[38;5;241;43m.\u001b[39;49m\u001b[43m_session\u001b[49m\u001b[38;5;241;43m.\u001b[39;49m\u001b[43mget\u001b[49m\u001b[43m(\u001b[49m\u001b[38;5;241;43m*\u001b[39;49m\u001b[38;5;241;43m*\u001b[39;49m\u001b[43mget_args\u001b[49m\u001b[43m)\u001b[49m\n\u001b[0;32m    202\u001b[0m \u001b[38;5;28mself\u001b[39m\u001b[38;5;241m.\u001b[39m_crumb \u001b[38;5;241m=\u001b[39m crumb_response\u001b[38;5;241m.\u001b[39mtext\n\u001b[0;32m    203\u001b[0m \u001b[38;5;28;01mif\u001b[39;00m \u001b[38;5;28mself\u001b[39m\u001b[38;5;241m.\u001b[39m_crumb \u001b[38;5;129;01mis\u001b[39;00m \u001b[38;5;28;01mNone\u001b[39;00m \u001b[38;5;129;01mor\u001b[39;00m \u001b[38;5;124m'\u001b[39m\u001b[38;5;124m<html>\u001b[39m\u001b[38;5;124m'\u001b[39m \u001b[38;5;129;01min\u001b[39;00m \u001b[38;5;28mself\u001b[39m\u001b[38;5;241m.\u001b[39m_crumb:\n",
      "File \u001b[1;32mc:\\Users\\Gamer\\miniconda3\\Lib\\site-packages\\requests\\sessions.py:602\u001b[0m, in \u001b[0;36mSession.get\u001b[1;34m(self, url, **kwargs)\u001b[0m\n\u001b[0;32m    594\u001b[0m \u001b[38;5;250m\u001b[39m\u001b[38;5;124mr\u001b[39m\u001b[38;5;124;03m\"\"\"Sends a GET request. Returns :class:`Response` object.\u001b[39;00m\n\u001b[0;32m    595\u001b[0m \n\u001b[0;32m    596\u001b[0m \u001b[38;5;124;03m:param url: URL for the new :class:`Request` object.\u001b[39;00m\n\u001b[0;32m    597\u001b[0m \u001b[38;5;124;03m:param \\*\\*kwargs: Optional arguments that ``request`` takes.\u001b[39;00m\n\u001b[0;32m    598\u001b[0m \u001b[38;5;124;03m:rtype: requests.Response\u001b[39;00m\n\u001b[0;32m    599\u001b[0m \u001b[38;5;124;03m\"\"\"\u001b[39;00m\n\u001b[0;32m    601\u001b[0m kwargs\u001b[38;5;241m.\u001b[39msetdefault(\u001b[38;5;124m\"\u001b[39m\u001b[38;5;124mallow_redirects\u001b[39m\u001b[38;5;124m\"\u001b[39m, \u001b[38;5;28;01mTrue\u001b[39;00m)\n\u001b[1;32m--> 602\u001b[0m \u001b[38;5;28;01mreturn\u001b[39;00m \u001b[38;5;28;43mself\u001b[39;49m\u001b[38;5;241;43m.\u001b[39;49m\u001b[43mrequest\u001b[49m\u001b[43m(\u001b[49m\u001b[38;5;124;43m\"\u001b[39;49m\u001b[38;5;124;43mGET\u001b[39;49m\u001b[38;5;124;43m\"\u001b[39;49m\u001b[43m,\u001b[49m\u001b[43m \u001b[49m\u001b[43murl\u001b[49m\u001b[43m,\u001b[49m\u001b[43m \u001b[49m\u001b[38;5;241;43m*\u001b[39;49m\u001b[38;5;241;43m*\u001b[39;49m\u001b[43mkwargs\u001b[49m\u001b[43m)\u001b[49m\n",
      "File \u001b[1;32mc:\\Users\\Gamer\\miniconda3\\Lib\\site-packages\\requests\\sessions.py:589\u001b[0m, in \u001b[0;36mSession.request\u001b[1;34m(self, method, url, params, data, headers, cookies, files, auth, timeout, allow_redirects, proxies, hooks, stream, verify, cert, json)\u001b[0m\n\u001b[0;32m    584\u001b[0m send_kwargs \u001b[38;5;241m=\u001b[39m {\n\u001b[0;32m    585\u001b[0m     \u001b[38;5;124m\"\u001b[39m\u001b[38;5;124mtimeout\u001b[39m\u001b[38;5;124m\"\u001b[39m: timeout,\n\u001b[0;32m    586\u001b[0m     \u001b[38;5;124m\"\u001b[39m\u001b[38;5;124mallow_redirects\u001b[39m\u001b[38;5;124m\"\u001b[39m: allow_redirects,\n\u001b[0;32m    587\u001b[0m }\n\u001b[0;32m    588\u001b[0m send_kwargs\u001b[38;5;241m.\u001b[39mupdate(settings)\n\u001b[1;32m--> 589\u001b[0m resp \u001b[38;5;241m=\u001b[39m \u001b[38;5;28;43mself\u001b[39;49m\u001b[38;5;241;43m.\u001b[39;49m\u001b[43msend\u001b[49m\u001b[43m(\u001b[49m\u001b[43mprep\u001b[49m\u001b[43m,\u001b[49m\u001b[43m \u001b[49m\u001b[38;5;241;43m*\u001b[39;49m\u001b[38;5;241;43m*\u001b[39;49m\u001b[43msend_kwargs\u001b[49m\u001b[43m)\u001b[49m\n\u001b[0;32m    591\u001b[0m \u001b[38;5;28;01mreturn\u001b[39;00m resp\n",
      "File \u001b[1;32mc:\\Users\\Gamer\\miniconda3\\Lib\\site-packages\\requests\\sessions.py:703\u001b[0m, in \u001b[0;36mSession.send\u001b[1;34m(self, request, **kwargs)\u001b[0m\n\u001b[0;32m    700\u001b[0m start \u001b[38;5;241m=\u001b[39m preferred_clock()\n\u001b[0;32m    702\u001b[0m \u001b[38;5;66;03m# Send the request\u001b[39;00m\n\u001b[1;32m--> 703\u001b[0m r \u001b[38;5;241m=\u001b[39m \u001b[43madapter\u001b[49m\u001b[38;5;241;43m.\u001b[39;49m\u001b[43msend\u001b[49m\u001b[43m(\u001b[49m\u001b[43mrequest\u001b[49m\u001b[43m,\u001b[49m\u001b[43m \u001b[49m\u001b[38;5;241;43m*\u001b[39;49m\u001b[38;5;241;43m*\u001b[39;49m\u001b[43mkwargs\u001b[49m\u001b[43m)\u001b[49m\n\u001b[0;32m    705\u001b[0m \u001b[38;5;66;03m# Total elapsed time of the request (approximately)\u001b[39;00m\n\u001b[0;32m    706\u001b[0m elapsed \u001b[38;5;241m=\u001b[39m preferred_clock() \u001b[38;5;241m-\u001b[39m start\n",
      "File \u001b[1;32mc:\\Users\\Gamer\\miniconda3\\Lib\\site-packages\\requests\\adapters.py:667\u001b[0m, in \u001b[0;36mHTTPAdapter.send\u001b[1;34m(self, request, stream, timeout, verify, cert, proxies)\u001b[0m\n\u001b[0;32m    664\u001b[0m     timeout \u001b[38;5;241m=\u001b[39m TimeoutSauce(connect\u001b[38;5;241m=\u001b[39mtimeout, read\u001b[38;5;241m=\u001b[39mtimeout)\n\u001b[0;32m    666\u001b[0m \u001b[38;5;28;01mtry\u001b[39;00m:\n\u001b[1;32m--> 667\u001b[0m     resp \u001b[38;5;241m=\u001b[39m \u001b[43mconn\u001b[49m\u001b[38;5;241;43m.\u001b[39;49m\u001b[43murlopen\u001b[49m\u001b[43m(\u001b[49m\n\u001b[0;32m    668\u001b[0m \u001b[43m        \u001b[49m\u001b[43mmethod\u001b[49m\u001b[38;5;241;43m=\u001b[39;49m\u001b[43mrequest\u001b[49m\u001b[38;5;241;43m.\u001b[39;49m\u001b[43mmethod\u001b[49m\u001b[43m,\u001b[49m\n\u001b[0;32m    669\u001b[0m \u001b[43m        \u001b[49m\u001b[43murl\u001b[49m\u001b[38;5;241;43m=\u001b[39;49m\u001b[43murl\u001b[49m\u001b[43m,\u001b[49m\n\u001b[0;32m    670\u001b[0m \u001b[43m        \u001b[49m\u001b[43mbody\u001b[49m\u001b[38;5;241;43m=\u001b[39;49m\u001b[43mrequest\u001b[49m\u001b[38;5;241;43m.\u001b[39;49m\u001b[43mbody\u001b[49m\u001b[43m,\u001b[49m\n\u001b[0;32m    671\u001b[0m \u001b[43m        \u001b[49m\u001b[43mheaders\u001b[49m\u001b[38;5;241;43m=\u001b[39;49m\u001b[43mrequest\u001b[49m\u001b[38;5;241;43m.\u001b[39;49m\u001b[43mheaders\u001b[49m\u001b[43m,\u001b[49m\n\u001b[0;32m    672\u001b[0m \u001b[43m        \u001b[49m\u001b[43mredirect\u001b[49m\u001b[38;5;241;43m=\u001b[39;49m\u001b[38;5;28;43;01mFalse\u001b[39;49;00m\u001b[43m,\u001b[49m\n\u001b[0;32m    673\u001b[0m \u001b[43m        \u001b[49m\u001b[43massert_same_host\u001b[49m\u001b[38;5;241;43m=\u001b[39;49m\u001b[38;5;28;43;01mFalse\u001b[39;49;00m\u001b[43m,\u001b[49m\n\u001b[0;32m    674\u001b[0m \u001b[43m        \u001b[49m\u001b[43mpreload_content\u001b[49m\u001b[38;5;241;43m=\u001b[39;49m\u001b[38;5;28;43;01mFalse\u001b[39;49;00m\u001b[43m,\u001b[49m\n\u001b[0;32m    675\u001b[0m \u001b[43m        \u001b[49m\u001b[43mdecode_content\u001b[49m\u001b[38;5;241;43m=\u001b[39;49m\u001b[38;5;28;43;01mFalse\u001b[39;49;00m\u001b[43m,\u001b[49m\n\u001b[0;32m    676\u001b[0m \u001b[43m        \u001b[49m\u001b[43mretries\u001b[49m\u001b[38;5;241;43m=\u001b[39;49m\u001b[38;5;28;43mself\u001b[39;49m\u001b[38;5;241;43m.\u001b[39;49m\u001b[43mmax_retries\u001b[49m\u001b[43m,\u001b[49m\n\u001b[0;32m    677\u001b[0m \u001b[43m        \u001b[49m\u001b[43mtimeout\u001b[49m\u001b[38;5;241;43m=\u001b[39;49m\u001b[43mtimeout\u001b[49m\u001b[43m,\u001b[49m\n\u001b[0;32m    678\u001b[0m \u001b[43m        \u001b[49m\u001b[43mchunked\u001b[49m\u001b[38;5;241;43m=\u001b[39;49m\u001b[43mchunked\u001b[49m\u001b[43m,\u001b[49m\n\u001b[0;32m    679\u001b[0m \u001b[43m    \u001b[49m\u001b[43m)\u001b[49m\n\u001b[0;32m    681\u001b[0m \u001b[38;5;28;01mexcept\u001b[39;00m (ProtocolError, \u001b[38;5;167;01mOSError\u001b[39;00m) \u001b[38;5;28;01mas\u001b[39;00m err:\n\u001b[0;32m    682\u001b[0m     \u001b[38;5;28;01mraise\u001b[39;00m \u001b[38;5;167;01mConnectionError\u001b[39;00m(err, request\u001b[38;5;241m=\u001b[39mrequest)\n",
      "File \u001b[1;32mc:\\Users\\Gamer\\miniconda3\\Lib\\site-packages\\urllib3\\connectionpool.py:716\u001b[0m, in \u001b[0;36mHTTPConnectionPool.urlopen\u001b[1;34m(self, method, url, body, headers, retries, redirect, assert_same_host, timeout, pool_timeout, release_conn, chunked, body_pos, **response_kw)\u001b[0m\n\u001b[0;32m    713\u001b[0m     \u001b[38;5;28mself\u001b[39m\u001b[38;5;241m.\u001b[39m_prepare_proxy(conn)\n\u001b[0;32m    715\u001b[0m \u001b[38;5;66;03m# Make the request on the httplib connection object.\u001b[39;00m\n\u001b[1;32m--> 716\u001b[0m httplib_response \u001b[38;5;241m=\u001b[39m \u001b[38;5;28;43mself\u001b[39;49m\u001b[38;5;241;43m.\u001b[39;49m\u001b[43m_make_request\u001b[49m\u001b[43m(\u001b[49m\n\u001b[0;32m    717\u001b[0m \u001b[43m    \u001b[49m\u001b[43mconn\u001b[49m\u001b[43m,\u001b[49m\n\u001b[0;32m    718\u001b[0m \u001b[43m    \u001b[49m\u001b[43mmethod\u001b[49m\u001b[43m,\u001b[49m\n\u001b[0;32m    719\u001b[0m \u001b[43m    \u001b[49m\u001b[43murl\u001b[49m\u001b[43m,\u001b[49m\n\u001b[0;32m    720\u001b[0m \u001b[43m    \u001b[49m\u001b[43mtimeout\u001b[49m\u001b[38;5;241;43m=\u001b[39;49m\u001b[43mtimeout_obj\u001b[49m\u001b[43m,\u001b[49m\n\u001b[0;32m    721\u001b[0m \u001b[43m    \u001b[49m\u001b[43mbody\u001b[49m\u001b[38;5;241;43m=\u001b[39;49m\u001b[43mbody\u001b[49m\u001b[43m,\u001b[49m\n\u001b[0;32m    722\u001b[0m \u001b[43m    \u001b[49m\u001b[43mheaders\u001b[49m\u001b[38;5;241;43m=\u001b[39;49m\u001b[43mheaders\u001b[49m\u001b[43m,\u001b[49m\n\u001b[0;32m    723\u001b[0m \u001b[43m    \u001b[49m\u001b[43mchunked\u001b[49m\u001b[38;5;241;43m=\u001b[39;49m\u001b[43mchunked\u001b[49m\u001b[43m,\u001b[49m\n\u001b[0;32m    724\u001b[0m \u001b[43m\u001b[49m\u001b[43m)\u001b[49m\n\u001b[0;32m    726\u001b[0m \u001b[38;5;66;03m# If we're going to release the connection in ``finally:``, then\u001b[39;00m\n\u001b[0;32m    727\u001b[0m \u001b[38;5;66;03m# the response doesn't need to know about the connection. Otherwise\u001b[39;00m\n\u001b[0;32m    728\u001b[0m \u001b[38;5;66;03m# it will also try to release it and we'll have a double-release\u001b[39;00m\n\u001b[0;32m    729\u001b[0m \u001b[38;5;66;03m# mess.\u001b[39;00m\n\u001b[0;32m    730\u001b[0m response_conn \u001b[38;5;241m=\u001b[39m conn \u001b[38;5;28;01mif\u001b[39;00m \u001b[38;5;129;01mnot\u001b[39;00m release_conn \u001b[38;5;28;01melse\u001b[39;00m \u001b[38;5;28;01mNone\u001b[39;00m\n",
      "File \u001b[1;32mc:\\Users\\Gamer\\miniconda3\\Lib\\site-packages\\urllib3\\connectionpool.py:404\u001b[0m, in \u001b[0;36mHTTPConnectionPool._make_request\u001b[1;34m(self, conn, method, url, timeout, chunked, **httplib_request_kw)\u001b[0m\n\u001b[0;32m    402\u001b[0m \u001b[38;5;66;03m# Trigger any extra validation we need to do.\u001b[39;00m\n\u001b[0;32m    403\u001b[0m \u001b[38;5;28;01mtry\u001b[39;00m:\n\u001b[1;32m--> 404\u001b[0m     \u001b[38;5;28;43mself\u001b[39;49m\u001b[38;5;241;43m.\u001b[39;49m\u001b[43m_validate_conn\u001b[49m\u001b[43m(\u001b[49m\u001b[43mconn\u001b[49m\u001b[43m)\u001b[49m\n\u001b[0;32m    405\u001b[0m \u001b[38;5;28;01mexcept\u001b[39;00m (SocketTimeout, BaseSSLError) \u001b[38;5;28;01mas\u001b[39;00m e:\n\u001b[0;32m    406\u001b[0m     \u001b[38;5;66;03m# Py2 raises this as a BaseSSLError, Py3 raises it as socket timeout.\u001b[39;00m\n\u001b[0;32m    407\u001b[0m     \u001b[38;5;28mself\u001b[39m\u001b[38;5;241m.\u001b[39m_raise_timeout(err\u001b[38;5;241m=\u001b[39me, url\u001b[38;5;241m=\u001b[39murl, timeout_value\u001b[38;5;241m=\u001b[39mconn\u001b[38;5;241m.\u001b[39mtimeout)\n",
      "File \u001b[1;32mc:\\Users\\Gamer\\miniconda3\\Lib\\site-packages\\urllib3\\connectionpool.py:1061\u001b[0m, in \u001b[0;36mHTTPSConnectionPool._validate_conn\u001b[1;34m(self, conn)\u001b[0m\n\u001b[0;32m   1059\u001b[0m \u001b[38;5;66;03m# Force connect early to allow us to validate the connection.\u001b[39;00m\n\u001b[0;32m   1060\u001b[0m \u001b[38;5;28;01mif\u001b[39;00m \u001b[38;5;129;01mnot\u001b[39;00m \u001b[38;5;28mgetattr\u001b[39m(conn, \u001b[38;5;124m\"\u001b[39m\u001b[38;5;124msock\u001b[39m\u001b[38;5;124m\"\u001b[39m, \u001b[38;5;28;01mNone\u001b[39;00m):  \u001b[38;5;66;03m# AppEngine might not have  `.sock`\u001b[39;00m\n\u001b[1;32m-> 1061\u001b[0m     \u001b[43mconn\u001b[49m\u001b[38;5;241;43m.\u001b[39;49m\u001b[43mconnect\u001b[49m\u001b[43m(\u001b[49m\u001b[43m)\u001b[49m\n\u001b[0;32m   1063\u001b[0m \u001b[38;5;28;01mif\u001b[39;00m \u001b[38;5;129;01mnot\u001b[39;00m conn\u001b[38;5;241m.\u001b[39mis_verified:\n\u001b[0;32m   1064\u001b[0m     warnings\u001b[38;5;241m.\u001b[39mwarn(\n\u001b[0;32m   1065\u001b[0m         (\n\u001b[0;32m   1066\u001b[0m             \u001b[38;5;124m\"\u001b[39m\u001b[38;5;124mUnverified HTTPS request is being made to host \u001b[39m\u001b[38;5;124m'\u001b[39m\u001b[38;5;132;01m%s\u001b[39;00m\u001b[38;5;124m'\u001b[39m\u001b[38;5;124m. \u001b[39m\u001b[38;5;124m\"\u001b[39m\n\u001b[1;32m   (...)\u001b[0m\n\u001b[0;32m   1071\u001b[0m         InsecureRequestWarning,\n\u001b[0;32m   1072\u001b[0m     )\n",
      "File \u001b[1;32mc:\\Users\\Gamer\\miniconda3\\Lib\\site-packages\\urllib3\\connection.py:363\u001b[0m, in \u001b[0;36mHTTPSConnection.connect\u001b[1;34m(self)\u001b[0m\n\u001b[0;32m    361\u001b[0m \u001b[38;5;28;01mdef\u001b[39;00m \u001b[38;5;21mconnect\u001b[39m(\u001b[38;5;28mself\u001b[39m):\n\u001b[0;32m    362\u001b[0m     \u001b[38;5;66;03m# Add certificate verification\u001b[39;00m\n\u001b[1;32m--> 363\u001b[0m     \u001b[38;5;28mself\u001b[39m\u001b[38;5;241m.\u001b[39msock \u001b[38;5;241m=\u001b[39m conn \u001b[38;5;241m=\u001b[39m \u001b[38;5;28;43mself\u001b[39;49m\u001b[38;5;241;43m.\u001b[39;49m\u001b[43m_new_conn\u001b[49m\u001b[43m(\u001b[49m\u001b[43m)\u001b[49m\n\u001b[0;32m    364\u001b[0m     hostname \u001b[38;5;241m=\u001b[39m \u001b[38;5;28mself\u001b[39m\u001b[38;5;241m.\u001b[39mhost\n\u001b[0;32m    365\u001b[0m     tls_in_tls \u001b[38;5;241m=\u001b[39m \u001b[38;5;28;01mFalse\u001b[39;00m\n",
      "File \u001b[1;32mc:\\Users\\Gamer\\miniconda3\\Lib\\site-packages\\urllib3\\connection.py:174\u001b[0m, in \u001b[0;36mHTTPConnection._new_conn\u001b[1;34m(self)\u001b[0m\n\u001b[0;32m    171\u001b[0m     extra_kw[\u001b[38;5;124m\"\u001b[39m\u001b[38;5;124msocket_options\u001b[39m\u001b[38;5;124m\"\u001b[39m] \u001b[38;5;241m=\u001b[39m \u001b[38;5;28mself\u001b[39m\u001b[38;5;241m.\u001b[39msocket_options\n\u001b[0;32m    173\u001b[0m \u001b[38;5;28;01mtry\u001b[39;00m:\n\u001b[1;32m--> 174\u001b[0m     conn \u001b[38;5;241m=\u001b[39m \u001b[43mconnection\u001b[49m\u001b[38;5;241;43m.\u001b[39;49m\u001b[43mcreate_connection\u001b[49m\u001b[43m(\u001b[49m\n\u001b[0;32m    175\u001b[0m \u001b[43m        \u001b[49m\u001b[43m(\u001b[49m\u001b[38;5;28;43mself\u001b[39;49m\u001b[38;5;241;43m.\u001b[39;49m\u001b[43m_dns_host\u001b[49m\u001b[43m,\u001b[49m\u001b[43m \u001b[49m\u001b[38;5;28;43mself\u001b[39;49m\u001b[38;5;241;43m.\u001b[39;49m\u001b[43mport\u001b[49m\u001b[43m)\u001b[49m\u001b[43m,\u001b[49m\u001b[43m \u001b[49m\u001b[38;5;28;43mself\u001b[39;49m\u001b[38;5;241;43m.\u001b[39;49m\u001b[43mtimeout\u001b[49m\u001b[43m,\u001b[49m\u001b[43m \u001b[49m\u001b[38;5;241;43m*\u001b[39;49m\u001b[38;5;241;43m*\u001b[39;49m\u001b[43mextra_kw\u001b[49m\n\u001b[0;32m    176\u001b[0m \u001b[43m    \u001b[49m\u001b[43m)\u001b[49m\n\u001b[0;32m    178\u001b[0m \u001b[38;5;28;01mexcept\u001b[39;00m SocketTimeout:\n\u001b[0;32m    179\u001b[0m     \u001b[38;5;28;01mraise\u001b[39;00m ConnectTimeoutError(\n\u001b[0;32m    180\u001b[0m         \u001b[38;5;28mself\u001b[39m,\n\u001b[0;32m    181\u001b[0m         \u001b[38;5;124m\"\u001b[39m\u001b[38;5;124mConnection to \u001b[39m\u001b[38;5;132;01m%s\u001b[39;00m\u001b[38;5;124m timed out. (connect timeout=\u001b[39m\u001b[38;5;132;01m%s\u001b[39;00m\u001b[38;5;124m)\u001b[39m\u001b[38;5;124m\"\u001b[39m\n\u001b[0;32m    182\u001b[0m         \u001b[38;5;241m%\u001b[39m (\u001b[38;5;28mself\u001b[39m\u001b[38;5;241m.\u001b[39mhost, \u001b[38;5;28mself\u001b[39m\u001b[38;5;241m.\u001b[39mtimeout),\n\u001b[0;32m    183\u001b[0m     )\n",
      "File \u001b[1;32mc:\\Users\\Gamer\\miniconda3\\Lib\\site-packages\\urllib3\\util\\connection.py:85\u001b[0m, in \u001b[0;36mcreate_connection\u001b[1;34m(address, timeout, source_address, socket_options)\u001b[0m\n\u001b[0;32m     83\u001b[0m     \u001b[38;5;28;01mif\u001b[39;00m source_address:\n\u001b[0;32m     84\u001b[0m         sock\u001b[38;5;241m.\u001b[39mbind(source_address)\n\u001b[1;32m---> 85\u001b[0m     \u001b[43msock\u001b[49m\u001b[38;5;241;43m.\u001b[39;49m\u001b[43mconnect\u001b[49m\u001b[43m(\u001b[49m\u001b[43msa\u001b[49m\u001b[43m)\u001b[49m\n\u001b[0;32m     86\u001b[0m     \u001b[38;5;28;01mreturn\u001b[39;00m sock\n\u001b[0;32m     88\u001b[0m \u001b[38;5;28;01mexcept\u001b[39;00m socket\u001b[38;5;241m.\u001b[39merror \u001b[38;5;28;01mas\u001b[39;00m e:\n",
      "\u001b[1;31mKeyboardInterrupt\u001b[0m: "
     ]
    }
   ],
   "source": [
    "df = pd.DataFrame(columns=[\n",
    "    'Ticker', \n",
    "    'short_name', \n",
    "    'in_portfolio',\n",
    "    'value_score',  \n",
    "    'recommendation_score',\n",
    "    'analyst_mean%', \n",
    "    'insider_buy%', \n",
    "    'sector', \n",
    "    'industry', \n",
    "    'country',\n",
    "    'P/E (TTM)', \n",
    "    'ROA%',\n",
    "])\n",
    "\n",
    "for symbol in symbols: \n",
    "    ticker = yf.Ticker(symbol)\n",
    "    try:\n",
    "        in_portfolio = 'No'\n",
    "        if symbol in owned_tickers:\n",
    "            in_portfolio = 'Yes'\n",
    "\n",
    "        analyst_mean = 0\n",
    "        if 'mean' in ticker.analyst_price_targets and ticker.info['currentPrice']:\n",
    "            analyst_mean = ticker.analyst_price_targets['mean'] / ticker.info['currentPrice'] - 1\n",
    "        \n",
    "        roa = ticker.info['returnOnAssets']*100\n",
    "        pe = ticker.info['trailingPE']\n",
    "        \n",
    "        value_score = format(2.5 + math.log(roa+5) - math.log(pe+25), '.2f')\n",
    "        \n",
    "        insider_buy = 0\n",
    "        if 'Shares' in ticker.insider_purchases.columns:\n",
    "            insider_buy = format(ticker.insider_purchases.loc[ticker.insider_purchases.index[4], 'Shares'], '.2f')\n",
    "            if insider_buy == '<NA>':\n",
    "                insider_buy = 0\n",
    "\n",
    "        recommendation_score = format(float(value_score) + analyst_mean * 1.25 + float(insider_buy) * 2.0, '.2f')\n",
    "\n",
    "        df.loc[symbol] = [\n",
    "            symbol, \n",
    "            ticker.info['shortName'], \n",
    "            in_portfolio,\n",
    "            value_score,\n",
    "            recommendation_score,\n",
    "            format(analyst_mean * 100, '.2f'), \n",
    "            insider_buy,\n",
    "            ticker.info['sector'], \n",
    "            ticker.info['industry'], \n",
    "            ticker.info['country'],\n",
    "            format(pe, '.2f') if isinstance(pe, (int, float)) else 'N/A', \n",
    "            format(roa, '.2f') if isinstance(roa, (int, float)) else 'N/A',\n",
    "        ]\n",
    "    except Exception as e:\n",
    "        print(f\"Error with {symbol}: {e}. Removed Ticker from list.\")\n",
    "\n",
    "df.to_csv(result_folder / 'simple_screener_results.csv', index=False)\n",
    "display(df)\n",
    "\n",
    "print(f'Got data for {len(df)} stocks')"
   ]
  },
  {
   "cell_type": "code",
   "execution_count": null,
   "metadata": {},
   "outputs": [
    {
     "data": {
      "application/vnd.microsoft.datawrangler.viewer.v0+json": {
       "columns": [
        {
         "name": "Date",
         "rawType": "datetime64[ns, Europe/Copenhagen]",
         "type": "unknown"
        },
        {
         "name": "Open",
         "rawType": "float64",
         "type": "float"
        },
        {
         "name": "High",
         "rawType": "float64",
         "type": "float"
        },
        {
         "name": "Low",
         "rawType": "float64",
         "type": "float"
        },
        {
         "name": "Close",
         "rawType": "float64",
         "type": "float"
        },
        {
         "name": "Volume",
         "rawType": "int64",
         "type": "integer"
        },
        {
         "name": "Dividends",
         "rawType": "float64",
         "type": "float"
        },
        {
         "name": "Stock Splits",
         "rawType": "float64",
         "type": "float"
        }
       ],
       "conversionMethod": "pd.DataFrame",
       "ref": "1fc3f001-eac4-4b95-a137-e24c7c53a203",
       "rows": [
        [
         "2015-03-11 00:00:00+01:00",
         "103.46621998701946",
         "104.47729054063853",
         "101.78110239765431",
         "102.11812591552734",
         "104504",
         "0.0",
         "0.0"
        ],
        [
         "2015-03-12 00:00:00+01:00",
         "102.11815855933018",
         "102.79220581054688",
         "101.78113493372183",
         "102.79220581054688",
         "223198",
         "0.0",
         "0.0"
        ],
        [
         "2015-03-13 00:00:00+01:00",
         "102.45516204833984",
         "103.46623272644847",
         "101.78111492960078",
         "102.45516204833984",
         "100930",
         "0.0",
         "0.0"
        ],
        [
         "2015-03-16 00:00:00+01:00",
         "102.45516745459953",
         "102.45516745459953",
         "101.10707314598639",
         "101.78112030029297",
         "380850",
         "0.0",
         "0.0"
        ],
        [
         "2015-03-17 00:00:00+01:00",
         "101.44409137023123",
         "102.79218560770938",
         "101.44409137023123",
         "102.45516204833984",
         "66273",
         "0.0",
         "0.0"
        ],
        [
         "2015-03-18 00:00:00+01:00",
         "102.45516520182292",
         "102.79218877156575",
         "101.10707092285156",
         "101.10707092285156",
         "97617",
         "0.0",
         "0.0"
        ],
        [
         "2015-03-19 00:00:00+01:00",
         "100.7700527626396",
         "102.11814711397926",
         "100.43302917480469",
         "100.43302917480469",
         "141696",
         "0.0",
         "0.0"
        ],
        [
         "2015-03-20 00:00:00+01:00",
         "101.10707699673847",
         "104.14028930664062",
         "100.77005340674934",
         "104.14028930664062",
         "235720",
         "0.0",
         "0.0"
        ],
        [
         "2015-03-23 00:00:00+01:00",
         "104.47730795129553",
         "104.47730795129553",
         "103.12921365514978",
         "103.80326080322266",
         "48860",
         "0.0",
         "0.0"
        ],
        [
         "2015-03-24 00:00:00+01:00",
         "103.80327817855343",
         "104.47732543945312",
         "103.46625454810358",
         "104.47732543945312",
         "80404",
         "0.0",
         "0.0"
        ],
        [
         "2015-03-25 00:00:00+01:00",
         "104.47730297374414",
         "104.47730297374414",
         "103.12920874182487",
         "103.46623229980469",
         "46643",
         "0.0",
         "0.0"
        ],
        [
         "2015-03-26 00:00:00+01:00",
         "103.80325628581801",
         "103.80325628581801",
         "101.1070678108617",
         "102.45516204833984",
         "195002",
         "0.0",
         "0.0"
        ],
        [
         "2015-03-27 00:00:00+01:00",
         "102.45517135669499",
         "104.14028930664062",
         "102.45517135669499",
         "104.14028930664062",
         "74628",
         "0.0",
         "0.0"
        ],
        [
         "2015-03-30 00:00:00+02:00",
         "103.80326253385208",
         "105.48838043212889",
         "103.80326253385208",
         "105.4883804321289",
         "82524",
         "0.0",
         "0.0"
        ],
        [
         "2015-03-31 00:00:00+02:00",
         "105.48838481241219",
         "107.1735027806616",
         "105.48838481241219",
         "106.83647918701172",
         "208648",
         "0.0",
         "0.0"
        ],
        [
         "2015-04-01 00:00:00+02:00",
         "106.4994550704956",
         "107.84754943847656",
         "104.47731351852417",
         "107.84754943847656",
         "81319",
         "0.0",
         "0.0"
        ],
        [
         "2015-04-07 00:00:00+02:00",
         "107.51052584648131",
         "107.84754943847656",
         "107.51052584648131",
         "107.84754943847656",
         "312535",
         "0.0",
         "0.0"
        ],
        [
         "2015-04-08 00:00:00+02:00",
         "107.84753566834985",
         "112.22884180487655",
         "107.51051211938625",
         "110.5437240600586",
         "150058",
         "0.0",
         "0.0"
        ],
        [
         "2015-04-09 00:00:00+02:00",
         "110.54374755859375",
         "111.2177947998047",
         "109.53267669677734",
         "109.53267669677734",
         "92570",
         "0.0",
         "0.0"
        ],
        [
         "2015-04-10 00:00:00+02:00",
         "109.19562986420422",
         "111.55479470694937",
         "109.19562986420422",
         "110.5437240600586",
         "87683",
         "0.0",
         "0.0"
        ],
        [
         "2015-04-13 00:00:00+02:00",
         "109.53265341316781",
         "111.21777115798578",
         "109.53265341316781",
         "110.5437240600586",
         "55564",
         "0.0",
         "0.0"
        ],
        [
         "2015-04-14 00:00:00+02:00",
         "109.86969757080077",
         "111.21779201952225",
         "109.5326739586204",
         "109.86969757080078",
         "85866",
         "0.0",
         "0.0"
        ],
        [
         "2015-04-15 00:00:00+02:00",
         "110.20672060146157",
         "111.55481504306967",
         "110.20672060146157",
         "110.88076782226562",
         "143112",
         "0.0",
         "0.0"
        ],
        [
         "2015-04-16 00:00:00+02:00",
         "110.5437490752249",
         "111.2177963256836",
         "106.16244194724342",
         "111.2177963256836",
         "93447",
         "0.0",
         "0.0"
        ],
        [
         "2015-04-17 00:00:00+02:00",
         "110.20670172712272",
         "110.20670172712272",
         "106.49944264761706",
         "107.51051330566406",
         "108026",
         "0.0",
         "0.0"
        ],
        [
         "2015-04-20 00:00:00+02:00",
         "106.49945990541642",
         "108.52160154919015",
         "106.49945990541642",
         "108.18457794189453",
         "52921",
         "0.0",
         "0.0"
        ],
        [
         "2015-04-21 00:00:00+02:00",
         "108.5215835571289",
         "109.86967776280753",
         "108.5215835571289",
         "108.5215835571289",
         "58564",
         "0.0",
         "0.0"
        ],
        [
         "2015-04-22 00:00:00+02:00",
         "108.52159992652604",
         "109.8696943355512",
         "106.49945831298828",
         "106.49945831298828",
         "109512",
         "0.0",
         "0.0"
        ],
        [
         "2015-04-23 00:00:00+02:00",
         "107.17350056966146",
         "107.51052415635851",
         "106.16242980957031",
         "106.16242980957031",
         "58622",
         "0.0",
         "0.0"
        ],
        [
         "2015-04-24 00:00:00+02:00",
         "106.49946144899707",
         "109.86969757080077",
         "106.1624378368167",
         "109.86969757080078",
         "84504",
         "0.0",
         "0.0"
        ],
        [
         "2015-04-27 00:00:00+02:00",
         "110.20671458244323",
         "110.88076176643371",
         "107.84754943847656",
         "107.84754943847656",
         "68174",
         "0.0",
         "0.0"
        ],
        [
         "2015-04-28 00:00:00+02:00",
         "107.84754723123035",
         "108.85861798652313",
         "106.49945289083996",
         "107.17350006103516",
         "56513",
         "0.0",
         "0.0"
        ],
        [
         "2015-04-29 00:00:00+02:00",
         "107.84756605792197",
         "108.18458970185297",
         "104.81435326254291",
         "105.82542419433594",
         "69398",
         "0.0",
         "0.0"
        ],
        [
         "2015-04-30 00:00:00+02:00",
         "105.82540622287327",
         "106.16242980957031",
         "104.81433546278213",
         "106.16242980957031",
         "90197",
         "0.0",
         "0.0"
        ],
        [
         "2015-05-04 00:00:00+02:00",
         "106.49947148219795",
         "107.17351877005996",
         "105.48840055040492",
         "105.82542419433594",
         "83335",
         "0.0",
         "0.0"
        ],
        [
         "2015-05-05 00:00:00+02:00",
         "105.82541996125252",
         "106.16244359170237",
         "103.12923091765373",
         "104.47732543945312",
         "53378",
         "0.0",
         "0.0"
        ],
        [
         "2015-05-06 00:00:00+02:00",
         "104.47729722047464",
         "105.82539137815817",
         "103.80325014163286",
         "105.1513442993164",
         "37775",
         "0.0",
         "0.0"
        ],
        [
         "2015-05-07 00:00:00+02:00",
         "104.14027941576433",
         "104.14027941576433",
         "102.45516162586522",
         "103.46623229980469",
         "47728",
         "0.0",
         "0.0"
        ],
        [
         "2015-05-08 00:00:00+02:00",
         "104.47730569278492",
         "105.15135282628675",
         "102.4551642922794",
         "103.12921142578125",
         "30829",
         "0.0",
         "0.0"
        ],
        [
         "2015-05-11 00:00:00+02:00",
         "104.47732543945312",
         "105.48839633080267",
         "103.80327817855343",
         "104.47732543945312",
         "36616",
         "0.0",
         "0.0"
        ],
        [
         "2015-05-12 00:00:00+02:00",
         "104.81433152533197",
         "104.81433152533197",
         "103.12921365514978",
         "103.80326080322266",
         "34105",
         "0.0",
         "0.0"
        ],
        [
         "2015-05-13 00:00:00+02:00",
         "104.47730340455709",
         "104.47730340455709",
         "102.45516204833984",
         "102.45516204833984",
         "72521",
         "0.0",
         "0.0"
        ],
        [
         "2015-05-18 00:00:00+02:00",
         "103.12919646914642",
         "103.12919646914642",
         "102.11812591552734",
         "102.11812591552734",
         "100353",
         "0.0",
         "0.0"
        ],
        [
         "2015-05-19 00:00:00+02:00",
         "102.11815855933018",
         "103.46625306176358",
         "102.11815855933018",
         "102.79220581054688",
         "49312",
         "0.0",
         "0.0"
        ],
        [
         "2015-05-20 00:00:00+02:00",
         "103.12922943615523",
         "103.80327668737193",
         "102.79220581054688",
         "102.79220581054688",
         "69290",
         "0.0",
         "0.0"
        ],
        [
         "2015-05-21 00:00:00+02:00",
         "103.12922943615523",
         "103.80327668737193",
         "102.79220581054688",
         "102.79220581054688",
         "78103",
         "0.0",
         "0.0"
        ],
        [
         "2015-05-22 00:00:00+02:00",
         "103.46622660221198",
         "105.82539137815817",
         "103.46622660221198",
         "105.1513442993164",
         "147717",
         "0.0",
         "0.0"
        ],
        [
         "2015-05-26 00:00:00+02:00",
         "106.49947148219795",
         "106.83649512612895",
         "104.81435326254291",
         "105.82542419433594",
         "117963",
         "0.0",
         "0.0"
        ],
        [
         "2015-05-27 00:00:00+02:00",
         "105.82542419433592",
         "106.49947148219795",
         "105.15137690647391",
         "105.82542419433594",
         "79518",
         "0.0",
         "0.0"
        ],
        [
         "2015-05-28 00:00:00+02:00",
         "107.17351448305192",
         "107.17351448305192",
         "104.14030180900328",
         "104.47732543945312",
         "105196",
         "0.0",
         "0.0"
        ]
       ],
       "shape": {
        "columns": 7,
        "rows": 2502
       }
      },
      "text/html": [
       "<div>\n",
       "<style scoped>\n",
       "    .dataframe tbody tr th:only-of-type {\n",
       "        vertical-align: middle;\n",
       "    }\n",
       "\n",
       "    .dataframe tbody tr th {\n",
       "        vertical-align: top;\n",
       "    }\n",
       "\n",
       "    .dataframe thead th {\n",
       "        text-align: right;\n",
       "    }\n",
       "</style>\n",
       "<table border=\"1\" class=\"dataframe\">\n",
       "  <thead>\n",
       "    <tr style=\"text-align: right;\">\n",
       "      <th></th>\n",
       "      <th>Open</th>\n",
       "      <th>High</th>\n",
       "      <th>Low</th>\n",
       "      <th>Close</th>\n",
       "      <th>Volume</th>\n",
       "      <th>Dividends</th>\n",
       "      <th>Stock Splits</th>\n",
       "    </tr>\n",
       "    <tr>\n",
       "      <th>Date</th>\n",
       "      <th></th>\n",
       "      <th></th>\n",
       "      <th></th>\n",
       "      <th></th>\n",
       "      <th></th>\n",
       "      <th></th>\n",
       "      <th></th>\n",
       "    </tr>\n",
       "  </thead>\n",
       "  <tbody>\n",
       "    <tr>\n",
       "      <th>2015-03-11 00:00:00+01:00</th>\n",
       "      <td>103.466220</td>\n",
       "      <td>104.477291</td>\n",
       "      <td>101.781102</td>\n",
       "      <td>102.118126</td>\n",
       "      <td>104504</td>\n",
       "      <td>0.0</td>\n",
       "      <td>0.0</td>\n",
       "    </tr>\n",
       "    <tr>\n",
       "      <th>2015-03-12 00:00:00+01:00</th>\n",
       "      <td>102.118159</td>\n",
       "      <td>102.792206</td>\n",
       "      <td>101.781135</td>\n",
       "      <td>102.792206</td>\n",
       "      <td>223198</td>\n",
       "      <td>0.0</td>\n",
       "      <td>0.0</td>\n",
       "    </tr>\n",
       "    <tr>\n",
       "      <th>2015-03-13 00:00:00+01:00</th>\n",
       "      <td>102.455162</td>\n",
       "      <td>103.466233</td>\n",
       "      <td>101.781115</td>\n",
       "      <td>102.455162</td>\n",
       "      <td>100930</td>\n",
       "      <td>0.0</td>\n",
       "      <td>0.0</td>\n",
       "    </tr>\n",
       "    <tr>\n",
       "      <th>2015-03-16 00:00:00+01:00</th>\n",
       "      <td>102.455167</td>\n",
       "      <td>102.455167</td>\n",
       "      <td>101.107073</td>\n",
       "      <td>101.781120</td>\n",
       "      <td>380850</td>\n",
       "      <td>0.0</td>\n",
       "      <td>0.0</td>\n",
       "    </tr>\n",
       "    <tr>\n",
       "      <th>2015-03-17 00:00:00+01:00</th>\n",
       "      <td>101.444091</td>\n",
       "      <td>102.792186</td>\n",
       "      <td>101.444091</td>\n",
       "      <td>102.455162</td>\n",
       "      <td>66273</td>\n",
       "      <td>0.0</td>\n",
       "      <td>0.0</td>\n",
       "    </tr>\n",
       "    <tr>\n",
       "      <th>...</th>\n",
       "      <td>...</td>\n",
       "      <td>...</td>\n",
       "      <td>...</td>\n",
       "      <td>...</td>\n",
       "      <td>...</td>\n",
       "      <td>...</td>\n",
       "      <td>...</td>\n",
       "    </tr>\n",
       "    <tr>\n",
       "      <th>2025-03-05 00:00:00+01:00</th>\n",
       "      <td>137.600006</td>\n",
       "      <td>139.399994</td>\n",
       "      <td>136.399994</td>\n",
       "      <td>136.600006</td>\n",
       "      <td>70726</td>\n",
       "      <td>0.0</td>\n",
       "      <td>0.0</td>\n",
       "    </tr>\n",
       "    <tr>\n",
       "      <th>2025-03-06 00:00:00+01:00</th>\n",
       "      <td>136.600006</td>\n",
       "      <td>137.000000</td>\n",
       "      <td>132.800003</td>\n",
       "      <td>133.600006</td>\n",
       "      <td>59365</td>\n",
       "      <td>0.0</td>\n",
       "      <td>0.0</td>\n",
       "    </tr>\n",
       "    <tr>\n",
       "      <th>2025-03-07 00:00:00+01:00</th>\n",
       "      <td>133.600006</td>\n",
       "      <td>134.199997</td>\n",
       "      <td>131.399994</td>\n",
       "      <td>133.199997</td>\n",
       "      <td>62538</td>\n",
       "      <td>0.0</td>\n",
       "      <td>0.0</td>\n",
       "    </tr>\n",
       "    <tr>\n",
       "      <th>2025-03-10 00:00:00+01:00</th>\n",
       "      <td>133.199997</td>\n",
       "      <td>133.800003</td>\n",
       "      <td>130.800003</td>\n",
       "      <td>131.199997</td>\n",
       "      <td>53151</td>\n",
       "      <td>0.0</td>\n",
       "      <td>0.0</td>\n",
       "    </tr>\n",
       "    <tr>\n",
       "      <th>2025-03-11 00:00:00+01:00</th>\n",
       "      <td>130.600006</td>\n",
       "      <td>131.399994</td>\n",
       "      <td>129.199997</td>\n",
       "      <td>129.600006</td>\n",
       "      <td>28912</td>\n",
       "      <td>0.0</td>\n",
       "      <td>0.0</td>\n",
       "    </tr>\n",
       "  </tbody>\n",
       "</table>\n",
       "<p>2502 rows × 7 columns</p>\n",
       "</div>"
      ],
      "text/plain": [
       "                                 Open        High         Low       Close  \\\n",
       "Date                                                                        \n",
       "2015-03-11 00:00:00+01:00  103.466220  104.477291  101.781102  102.118126   \n",
       "2015-03-12 00:00:00+01:00  102.118159  102.792206  101.781135  102.792206   \n",
       "2015-03-13 00:00:00+01:00  102.455162  103.466233  101.781115  102.455162   \n",
       "2015-03-16 00:00:00+01:00  102.455167  102.455167  101.107073  101.781120   \n",
       "2015-03-17 00:00:00+01:00  101.444091  102.792186  101.444091  102.455162   \n",
       "...                               ...         ...         ...         ...   \n",
       "2025-03-05 00:00:00+01:00  137.600006  139.399994  136.399994  136.600006   \n",
       "2025-03-06 00:00:00+01:00  136.600006  137.000000  132.800003  133.600006   \n",
       "2025-03-07 00:00:00+01:00  133.600006  134.199997  131.399994  133.199997   \n",
       "2025-03-10 00:00:00+01:00  133.199997  133.800003  130.800003  131.199997   \n",
       "2025-03-11 00:00:00+01:00  130.600006  131.399994  129.199997  129.600006   \n",
       "\n",
       "                           Volume  Dividends  Stock Splits  \n",
       "Date                                                        \n",
       "2015-03-11 00:00:00+01:00  104504        0.0           0.0  \n",
       "2015-03-12 00:00:00+01:00  223198        0.0           0.0  \n",
       "2015-03-13 00:00:00+01:00  100930        0.0           0.0  \n",
       "2015-03-16 00:00:00+01:00  380850        0.0           0.0  \n",
       "2015-03-17 00:00:00+01:00   66273        0.0           0.0  \n",
       "...                           ...        ...           ...  \n",
       "2025-03-05 00:00:00+01:00   70726        0.0           0.0  \n",
       "2025-03-06 00:00:00+01:00   59365        0.0           0.0  \n",
       "2025-03-07 00:00:00+01:00   62538        0.0           0.0  \n",
       "2025-03-10 00:00:00+01:00   53151        0.0           0.0  \n",
       "2025-03-11 00:00:00+01:00   28912        0.0           0.0  \n",
       "\n",
       "[2502 rows x 7 columns]"
      ]
     },
     "execution_count": 6,
     "metadata": {},
     "output_type": "execute_result"
    }
   ],
   "source": [
    "yf.Ticker('MATAS.CO').history(period='10y')"
   ]
  },
  {
   "cell_type": "code",
   "execution_count": null,
   "metadata": {},
   "outputs": [],
   "source": [
    "symbols = ['AAPL']"
   ]
  },
  {
   "cell_type": "code",
   "execution_count": null,
   "metadata": {},
   "outputs": [
    {
     "name": "stdout",
     "output_type": "stream",
     "text": [
      "AAPL...\n"
     ]
    },
    {
     "name": "stderr",
     "output_type": "stream",
     "text": [
      "c:\\Users\\Gamer\\miniconda3\\Lib\\site-packages\\charset_normalizer\\api.py:105: UserWarning: Trying to detect encoding from a tiny portion of (23) byte(s).\n",
      "  warn('Trying to detect encoding from a tiny portion of ({}) byte(s).'.format(length))\n",
      "$AAPL: possibly delisted; no price data found  (period=10y)\n"
     ]
    },
    {
     "ename": "IndexError",
     "evalue": "list index out of range",
     "output_type": "error",
     "traceback": [
      "\u001b[1;31m---------------------------------------------------------------------------\u001b[0m",
      "\u001b[1;31mIndexError\u001b[0m                                Traceback (most recent call last)",
      "Cell \u001b[1;32mIn[16], line 12\u001b[0m\n\u001b[0;32m      9\u001b[0m quant_data \u001b[38;5;241m=\u001b[39m ticker\u001b[38;5;241m.\u001b[39mhistory(period\u001b[38;5;241m=\u001b[39m\u001b[38;5;124m'\u001b[39m\u001b[38;5;124m10y\u001b[39m\u001b[38;5;124m'\u001b[39m)\n\u001b[0;32m     11\u001b[0m cashflow \u001b[38;5;241m=\u001b[39m ticker\u001b[38;5;241m.\u001b[39mcashflow\n\u001b[1;32m---> 12\u001b[0m cashflow_columns \u001b[38;5;241m=\u001b[39m cashflow[\u001b[43mearning_dates\u001b[49m\u001b[43m[\u001b[49m\u001b[38;5;241;43m0\u001b[39;49m\u001b[43m]\u001b[49m]\u001b[38;5;241m.\u001b[39mkeys()\u001b[38;5;241m.\u001b[39mtolist()\n\u001b[0;32m     14\u001b[0m balancesheet \u001b[38;5;241m=\u001b[39m ticker\u001b[38;5;241m.\u001b[39mbalancesheet\n\u001b[0;32m     15\u001b[0m balancesheet_columns \u001b[38;5;241m=\u001b[39m balancesheet[earning_dates[\u001b[38;5;241m0\u001b[39m]]\u001b[38;5;241m.\u001b[39mkeys()\u001b[38;5;241m.\u001b[39mtolist()\n",
      "\u001b[1;31mIndexError\u001b[0m: list index out of range"
     ]
    }
   ],
   "source": [
    "df = pd.DataFrame()\n",
    "for symbol in symbols:\n",
    "    print(f'{symbol}...')\n",
    "\n",
    "    ticker = yf.Ticker(symbol)\n",
    "\n",
    "    earning_dates = ticker.cashflow.columns.tolist()\n",
    "\n",
    "    quant_data = ticker.history(period='10y')\n",
    "\n",
    "    cashflow = ticker.cashflow\n",
    "    cashflow_columns = cashflow[earning_dates[0]].keys().tolist()\n",
    "\n",
    "    balancesheet = ticker.balancesheet\n",
    "    balancesheet_columns = balancesheet[earning_dates[0]].keys().tolist()\n",
    "\n",
    "    incomestatement = ticker.incomestmt\n",
    "    incomestatement_columns = incomestatement[earning_dates[0]].keys().tolist()\n",
    "\n",
    "    for earning_date in earning_dates:\n",
    "        row_data = {'Ticker': symbol, 'Date': earning_date}\n",
    "        \n",
    "        # Convert earning_date to datetime object, handling potential timezone issues\n",
    "        try:\n",
    "            date_obj = pd.to_datetime(earning_date).tz_localize(quant_data.index.tz)\n",
    "        except TypeError:\n",
    "            date_obj = pd.to_datetime(earning_date)\n",
    "\n",
    "        # Ensure the date is in the history index\n",
    "        if date_obj in quant_data.index:\n",
    "            price = quant_data.loc[date_obj]['Close']\n",
    "        else:\n",
    "            price = None  # Or some other default\n",
    "        \n",
    "        row_data = {'Ticker': symbol, 'Date': earning_date, 'Price': price}\n",
    "\n",
    "        for column in cashflow_columns:\n",
    "            row_data[column] = cashflow[earning_date][column]\n",
    "\n",
    "        for column in balancesheet_columns:\n",
    "            row_data[column] = balancesheet[earning_date][column]\n",
    "\n",
    "        for column in incomestatement_columns:\n",
    "            row_data[column] = incomestatement[earning_date][column]\n",
    "        \n",
    "        df = pd.concat([df, pd.DataFrame([row_data])], ignore_index=True)\n",
    "        \n",
    "df.to_csv(result_folder / 'earnings_data.csv', index=False)"
   ]
  },
  {
   "cell_type": "code",
   "execution_count": null,
   "metadata": {},
   "outputs": [],
   "source": []
  }
 ],
 "metadata": {
  "kernelspec": {
   "display_name": "base",
   "language": "python",
   "name": "python3"
  },
  "language_info": {
   "codemirror_mode": {
    "name": "ipython",
    "version": 3
   },
   "file_extension": ".py",
   "mimetype": "text/x-python",
   "name": "python",
   "nbconvert_exporter": "python",
   "pygments_lexer": "ipython3",
   "version": "3.12.3"
  }
 },
 "nbformat": 4,
 "nbformat_minor": 2
}
