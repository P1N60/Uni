{
 "cells": [
  {
   "cell_type": "code",
   "execution_count": 100,
   "metadata": {},
   "outputs": [],
   "source": [
    "# Install libraries on first run\n",
    "#! pip install -q ipynb fastai pathlib import_ipynb"
   ]
  },
  {
   "cell_type": "code",
   "execution_count": 101,
   "metadata": {},
   "outputs": [],
   "source": [
    "from fastai.tabular.all import *\n",
    "from pathlib import Path\n",
    "import import_ipynb\n",
    "import ipynb\n",
    "import stockFetcher"
   ]
  },
  {
   "cell_type": "code",
   "execution_count": 102,
   "metadata": {},
   "outputs": [],
   "source": [
    "testFolder = Path.cwd().parent / 'TestData'\n",
    "modelFolder = Path.cwd().parent.parent / 'TrainedModels'"
   ]
  },
  {
   "cell_type": "code",
   "execution_count": 103,
   "metadata": {},
   "outputs": [
    {
     "name": "stdout",
     "output_type": "stream",
     "text": [
      "Model files in modelFolder:\n",
      "countryGuesser.pkl\n",
      "stockScreenerV2.0.pkl\n",
      "stockScreenerV1.5.pkl\n",
      "animalClassifier.pkl\n",
      "stockScreenerV1.4.pkl\n",
      "stockScreenerV1.6.pkl\n",
      "leagueChampionClassifier.pkl\n",
      "stockScreenerV1.7.pkl\n",
      "politicianClassifier.pkl\n",
      "stockScreenerV1.3.pkl\n",
      "stockScreenerV1.2.pkl\n",
      "stockScreenerV1.0.pkl\n",
      "stockScreenerV1.1.pkl\n",
      "test.pkl\n",
      "stockScreenerV1.9.pkl\n",
      "stockScreenerV1.8.pkl\n",
      "stockScreenerV1.10.pkl\n"
     ]
    }
   ],
   "source": [
    "print('Model files in modelFolder:')\n",
    "for file in modelFolder.glob('*.pkl'):\n",
    "    print(file.name)"
   ]
  },
  {
   "cell_type": "code",
   "execution_count": 104,
   "metadata": {},
   "outputs": [
    {
     "data": {
      "text/plain": [
       "Model Name    stockScreenerV2.0\n",
       "Timestamp      2025-01-19 12:02\n",
       "MAE                       0.245\n",
       "RMSE                        0.3\n",
       "R2                       -0.582\n",
       "Name: 11, dtype: object"
      ]
     },
     "execution_count": 104,
     "metadata": {},
     "output_type": "execute_result"
    }
   ],
   "source": [
    "evaluations = pd.read_csv(modelFolder / 'modelEvaluations.csv')\n",
    "bestModel = evaluations.sort_values('MAE', ascending=True).iloc[0]\n",
    "bestModel.head()"
   ]
  },
  {
   "cell_type": "markdown",
   "metadata": {},
   "source": [
    "## Load model"
   ]
  },
  {
   "cell_type": "code",
   "execution_count": 105,
   "metadata": {},
   "outputs": [],
   "source": [
    "modelName = f\"{bestModel['Model Name']}.pkl\" # Change this if you want to try other models\n",
    "learn = load_learner(modelFolder / modelName)"
   ]
  },
  {
   "cell_type": "markdown",
   "metadata": {},
   "source": [
    "## Predictions"
   ]
  },
  {
   "cell_type": "code",
   "execution_count": 106,
   "metadata": {},
   "outputs": [
    {
     "name": "stderr",
     "output_type": "stream",
     "text": [
      "$BRK.A: possibly delisted; no price data found  (period=1d) (Yahoo error = \"No data found, symbol may be delisted\")\n"
     ]
    },
    {
     "name": "stdout",
     "output_type": "stream",
     "text": [
      "Error fetching data for BRK.A: single positional indexer is out-of-bounds\n"
     ]
    },
    {
     "name": "stderr",
     "output_type": "stream",
     "text": [
      "/var/folders/ch/yfh31z5s3cq4cw_md59n4qw40000gn/T/ipykernel_81972/1730343049.py:7: FutureWarning: The behavior of DataFrame concatenation with empty or all-NA entries is deprecated. In a future version, this will no longer exclude empty or all-NA columns when determining the result dtypes. To retain the old behavior, exclude the relevant entries before the concat operation.\n",
      "  test_df = pd.concat(test_df, ignore_index=True)  # Concatenate list of DataFrames into a single DataFrame\n",
      "/Library/Frameworks/Python.framework/Versions/3.12/lib/python3.12/site-packages/fastai/tabular/core.py:314: FutureWarning: A value is trying to be set on a copy of a DataFrame or Series through chained assignment using an inplace method.\n",
      "The behavior will change in pandas 3.0. This inplace method will never work because the intermediate object on which we are setting values always behaves as a copy.\n",
      "\n",
      "For example, when doing 'df[col].method(value, inplace=True)', try using 'df.method({col: value}, inplace=True)' or df[col] = df[col].method(value) instead, to perform the operation inplace on the original object.\n",
      "\n",
      "\n",
      "  to[n].fillna(self.na_dict[n], inplace=True)\n",
      "/Library/Frameworks/Python.framework/Versions/3.12/lib/python3.12/site-packages/fastai/tabular/core.py:314: FutureWarning: A value is trying to be set on a copy of a DataFrame or Series through chained assignment using an inplace method.\n",
      "The behavior will change in pandas 3.0. This inplace method will never work because the intermediate object on which we are setting values always behaves as a copy.\n",
      "\n",
      "For example, when doing 'df[col].method(value, inplace=True)', try using 'df.method({col: value}, inplace=True)' or df[col] = df[col].method(value) instead, to perform the operation inplace on the original object.\n",
      "\n",
      "\n",
      "  to[n].fillna(self.na_dict[n], inplace=True)\n"
     ]
    },
    {
     "data": {
      "text/html": [
       "<div>\n",
       "<style scoped>\n",
       "    .dataframe tbody tr th:only-of-type {\n",
       "        vertical-align: middle;\n",
       "    }\n",
       "\n",
       "    .dataframe tbody tr th {\n",
       "        vertical-align: top;\n",
       "    }\n",
       "\n",
       "    .dataframe thead th {\n",
       "        text-align: right;\n",
       "    }\n",
       "</style>\n",
       "<table border=\"1\" class=\"dataframe\">\n",
       "  <thead>\n",
       "    <tr style=\"text-align: right;\">\n",
       "      <th></th>\n",
       "      <th>Open</th>\n",
       "      <th>High</th>\n",
       "      <th>Low</th>\n",
       "      <th>Close</th>\n",
       "      <th>Volume</th>\n",
       "      <th>Dividends</th>\n",
       "      <th>Stock Splits</th>\n",
       "      <th>EV/EBIT</th>\n",
       "      <th>Market Cap</th>\n",
       "      <th>ROIC</th>\n",
       "      <th>Industry</th>\n",
       "    </tr>\n",
       "  </thead>\n",
       "  <tbody>\n",
       "    <tr>\n",
       "      <th>0</th>\n",
       "      <td>83.199997</td>\n",
       "      <td>85.589996</td>\n",
       "      <td>83.029999</td>\n",
       "      <td>85.120003</td>\n",
       "      <td>21089700</td>\n",
       "      <td>0.0</td>\n",
       "      <td>0.0</td>\n",
       "      <td>-0.045255</td>\n",
       "      <td>2.023515e+11</td>\n",
       "      <td>-17.456805</td>\n",
       "      <td>Internet Retail</td>\n",
       "    </tr>\n",
       "    <tr>\n",
       "      <th>1</th>\n",
       "      <td>48.700001</td>\n",
       "      <td>49.840000</td>\n",
       "      <td>48.599998</td>\n",
       "      <td>49.340000</td>\n",
       "      <td>4331600</td>\n",
       "      <td>0.0</td>\n",
       "      <td>0.0</td>\n",
       "      <td>NaN</td>\n",
       "      <td>4.487946e+11</td>\n",
       "      <td>NaN</td>\n",
       "      <td>Internet Content &amp; Information</td>\n",
       "    </tr>\n",
       "    <tr>\n",
       "      <th>2</th>\n",
       "      <td>215.169998</td>\n",
       "      <td>215.679993</td>\n",
       "      <td>211.059998</td>\n",
       "      <td>211.500000</td>\n",
       "      <td>21559000</td>\n",
       "      <td>0.0</td>\n",
       "      <td>0.0</td>\n",
       "      <td>-0.256812</td>\n",
       "      <td>1.096955e+12</td>\n",
       "      <td>-3.076181</td>\n",
       "      <td>Semiconductors</td>\n",
       "    </tr>\n",
       "    <tr>\n",
       "      <th>3</th>\n",
       "      <td>60.939999</td>\n",
       "      <td>61.790001</td>\n",
       "      <td>60.680000</td>\n",
       "      <td>61.099998</td>\n",
       "      <td>4696900</td>\n",
       "      <td>0.0</td>\n",
       "      <td>0.0</td>\n",
       "      <td>9.970887</td>\n",
       "      <td>7.655341e+10</td>\n",
       "      <td>0.079231</td>\n",
       "      <td>Other Industrial Metals &amp; Mining</td>\n",
       "    </tr>\n",
       "    <tr>\n",
       "      <th>4</th>\n",
       "      <td>4.890000</td>\n",
       "      <td>4.930000</td>\n",
       "      <td>4.870000</td>\n",
       "      <td>4.890000</td>\n",
       "      <td>1891200</td>\n",
       "      <td>0.0</td>\n",
       "      <td>0.0</td>\n",
       "      <td>5.237325</td>\n",
       "      <td>7.407176e+10</td>\n",
       "      <td>0.150840</td>\n",
       "      <td>Banks - Diversified</td>\n",
       "    </tr>\n",
       "  </tbody>\n",
       "</table>\n",
       "</div>"
      ],
      "text/plain": [
       "         Open        High         Low       Close    Volume  Dividends  \\\n",
       "0   83.199997   85.589996   83.029999   85.120003  21089700        0.0   \n",
       "1   48.700001   49.840000   48.599998   49.340000   4331600        0.0   \n",
       "2  215.169998  215.679993  211.059998  211.500000  21559000        0.0   \n",
       "3   60.939999   61.790001   60.680000   61.099998   4696900        0.0   \n",
       "4    4.890000    4.930000    4.870000    4.890000   1891200        0.0   \n",
       "\n",
       "   Stock Splits   EV/EBIT    Market Cap       ROIC  \\\n",
       "0           0.0 -0.045255  2.023515e+11 -17.456805   \n",
       "1           0.0       NaN  4.487946e+11        NaN   \n",
       "2           0.0 -0.256812  1.096955e+12  -3.076181   \n",
       "3           0.0  9.970887  7.655341e+10   0.079231   \n",
       "4           0.0  5.237325  7.407176e+10   0.150840   \n",
       "\n",
       "                           Industry  \n",
       "0                   Internet Retail  \n",
       "1    Internet Content & Information  \n",
       "2                    Semiconductors  \n",
       "3  Other Industrial Metals & Mining  \n",
       "4               Banks - Diversified  "
      ]
     },
     "execution_count": 106,
     "metadata": {},
     "output_type": "execute_result"
    }
   ],
   "source": [
    "predictionTarget = 'Best' # 'Best' for the best performing tickers \n",
    "\n",
    "if predictionTarget == 'Best':\n",
    "    adr_df = pd.read_csv(testFolder / 'tickers.csv')\n",
    "    symbols = adr_df['Ticker'].tolist()\n",
    "    test_df = [stockFetcher.getTickerData(symbol) for symbol in symbols]\n",
    "    test_df = pd.concat(test_df, ignore_index=True)  # Concatenate list of DataFrames into a single DataFrame\n",
    "\n",
    "else:\n",
    "    test_df = stockFetcher.getTickerData(predictionTarget)\n",
    "\n",
    "# Ensure test_df is a DataFrame\n",
    "if isinstance(test_df, dict):\n",
    "    test_df = pd.DataFrame([test_df])\n",
    "\n",
    "dl = learn.dls.test_dl(test_df)\n",
    "test_df.head()"
   ]
  },
  {
   "cell_type": "code",
   "execution_count": 109,
   "metadata": {},
   "outputs": [
    {
     "data": {
      "text/html": [
       "\n",
       "<style>\n",
       "    /* Turns off some styling */\n",
       "    progress {\n",
       "        /* gets rid of default border in Firefox and Opera. */\n",
       "        border: none;\n",
       "        /* Needs to be in here for Safari polyfill so background images work as expected. */\n",
       "        background-size: auto;\n",
       "    }\n",
       "    progress:not([value]), progress:not([value])::-webkit-progress-bar {\n",
       "        background: repeating-linear-gradient(45deg, #7e7e7e, #7e7e7e 10px, #5c5c5c 10px, #5c5c5c 20px);\n",
       "    }\n",
       "    .progress-bar-interrupted, .progress-bar-interrupted::-webkit-progress-bar {\n",
       "        background: #F44336;\n",
       "    }\n",
       "</style>\n"
      ],
      "text/plain": [
       "<IPython.core.display.HTML object>"
      ]
     },
     "metadata": {},
     "output_type": "display_data"
    },
    {
     "data": {
      "text/html": [],
      "text/plain": [
       "<IPython.core.display.HTML object>"
      ]
     },
     "metadata": {},
     "output_type": "display_data"
    },
    {
     "name": "stdout",
     "output_type": "stream",
     "text": [
      "Prediction for best performing tickers:\n",
      "BIDU (Baidu Inc): 69.13%\n",
      "JD (JD.com Inc): 51.87%\n",
      "STM (STMicroelectronics NV): 35.52%\n",
      "BASFY (BASF SE): 34.78%\n",
      "DEO (Diageo PLC): 31.25%\n",
      "BRK.A (Berkshire Hathaway Inc): 27.18%\n",
      "PKX (POSCO Holdings Inc): 26.68%\n",
      "CLPBY (China Longyuan Power Group Corp Ltd): 24.55%\n",
      "XOM (Exxon Mobil Corp): 24.07%\n",
      "KO (Coca-Cola Co): 23.44%\n",
      "RELX (RELX PLC): 20.83%\n",
      "IBN (ICICI Bank Ltd): 20.15%\n",
      "ABBV (AbbVie Inc): 20.07%\n",
      "RACE (Ferrari NV): 17.06%\n",
      "ASML (ASML Holding NV): 17.04%\n",
      "MFG (Mizuho Financial Group Inc): 15.63%\n",
      "AZN (AstraZeneca PLC): 15.30%\n",
      "BNS (Bank of Nova Scotia): 15.03%\n",
      "V (Visa Inc): 14.30%\n",
      "TM (Toyota Motor Corp): 13.42%\n",
      "TCEHY (Tencent Holdings Ltd): 13.22%\n",
      "SMFG (Sumitomo Mitsui Financial Group Inc): 12.47%\n",
      "LVMUY (LVMH Moet Hennessy Louis Vuitton SE): 12.44%\n",
      "HSBC (HSBC Holdings PLC): 11.81%\n",
      "GSK (GSK PLC): 11.20%\n",
      "SAN (Banco Santander SA): 10.31%\n",
      "RIO (Rio Tinto Group): 10.13%\n",
      "NVS (Novartis AG): 10.06%\n",
      "BHP (BHP Group Ltd): 9.19%\n",
      "PHG (Koninklijke Philips NV): 9.17%\n",
      "SNY (Sanofi SA): 9.05%\n",
      "CSCO (Cisco Systems Inc): 7.67%\n",
      "DIS (Walt Disney Co): 6.73%\n",
      "ZTO (ZTO Express Cayman Inc): 6.60%\n",
      "BABA (Alibaba Group Holding Ltd): 6.20%\n",
      "HMC (Honda Motor Co Ltd): 6.15%\n",
      "SLB (Schlumberger NV): 2.50%\n",
      "PDD (Pinduoduo Inc): 0.99%\n",
      "CMCSA (Comcast Corp): 0.37%\n",
      "NTES (NetEase Inc): -0.10%\n",
      "BBVA (Banco Bilbao Vizcaya Argentaria SA): -0.33%\n",
      "TD (Toronto-Dominion Bank): -0.78%\n",
      "NFLX (Netflix Inc): -1.21%\n",
      "AMX (América Móvil SAB de CV): -1.41%\n",
      "VZ (Verizon Communications Inc): -1.42%\n",
      "BP (BP PLC): -1.82%\n",
      "CNQ (Canadian Natural Resources Ltd): -2.16%\n",
      "MFC (Manulife Financial Corp): -2.24%\n",
      "UL (Unilever PLC): -2.62%\n",
      "ITUB (Itaú Unibanco Holding SA): -2.74%\n",
      "NSANY (Nissan Motor Co Ltd): -2.78%\n",
      "RY (Royal Bank of Canada): -5.83%\n",
      "VOD (Vodafone Group PLC): -5.94%\n",
      "HD (Home Depot Inc): -6.62%\n",
      "VWAGY (Volkswagen AG): -6.74%\n",
      "MT (ArcelorMittal SA): -6.93%\n",
      "SAP (SAP SE): -7.19%\n",
      "VALE (Vale SA): -9.85%\n",
      "FANUY (Fanuc Corp): -10.12%\n",
      "LGGNY (Lloyds Banking Group PLC): -10.61%\n",
      "TSM (Taiwan Semiconductor Manufacturing Co Ltd): -11.19%\n",
      "INFY (Infosys Ltd): -13.38%\n",
      "WMT (Walmart Inc): -13.77%\n",
      "GOOGL (Alphabet Inc): -14.79%\n",
      "KEP (Korea Electric Power Corp): -15.08%\n",
      "NTTYY (Nippon Telegraph and Telephone Corp): -15.57%\n",
      "SONY (Sony Group Corp): -17.20%\n",
      "ENIC (Enel Chile SA): -17.87%\n",
      "CM (Canadian Imperial Bank of Commerce): -17.94%\n",
      "ERIC (Ericsson): -20.61%\n",
      "INTC (Intel Corp): -22.58%\n",
      "SU (Suncor Energy Inc): -22.74%\n",
      "CX (Cemex SAB de CV): -23.14%\n",
      "ENB (Enbridge Inc): -24.35%\n",
      "T (AT&T Inc): -26.21%\n",
      "TEVA (Teva Pharmaceutical Industries Ltd): -26.56%\n",
      "PFE (Pfizer Inc): -28.41%\n",
      "SHOP (Shopify Inc): -28.55%\n",
      "PYPL (PayPal Holdings Inc): -30.51%\n",
      "MRK (Merck & Co Inc): -32.59%\n",
      "PG (Procter & Gamble Co): -33.94%\n",
      "ABT (Abbott Laboratories): -39.71%\n",
      "AMZN (Amazon.com Inc): -39.91%\n",
      "PEP (PepsiCo Inc): -42.98%\n",
      "NVDA (NVIDIA Corp): -49.46%\n",
      "CVX (Chevron Corp): -51.75%\n",
      "ORCL (Oracle Corp): -52.73%\n",
      "TRP (TC Energy Corp): -53.67%\n",
      "JNJ (Johnson & Johnson): -63.82%\n",
      "MSFT (Microsoft Corp): -72.92%\n",
      "ADBE (Adobe Inc): -86.65%\n",
      "SIEGY (Siemens AG): -88.23%\n",
      "AAPL (Apple Inc): -88.41%\n",
      "TSLA (Tesla Inc): -89.99%\n",
      "META (Meta Platforms Inc): -92.44%\n",
      "MA (Mastercard Inc): -282.65%\n",
      "Free money?!\n"
     ]
    }
   ],
   "source": [
    "if predictionTarget == 'Best':\n",
    "    prediction = learn.get_preds(dl=dl)\n",
    "    sorted_predictions = sorted(zip(symbols, prediction[0]), key=lambda x: x[1], reverse=True)\n",
    "    print(f\"Prediction for best performing tickers:\")\n",
    "    for symbol, pred in sorted_predictions:\n",
    "        company_name = adr_df[adr_df['Ticker'] == symbol]['Company'].values[0]\n",
    "        print(f\"{symbol} ({company_name}): {pred[0].item() * 100:.2f}%\")\n",
    "else:\n",
    "    prediction = learn.get_preds(dl=dl)\n",
    "    company_name = adr_df[adr_df['Ticker'] == predictionTarget]['Company'].values[0]\n",
    "    print(f\"Prediction for {predictionTarget} ({company_name}):\")\n",
    "    print(f\"{prediction[0][0][0].item() * 100:.2f}%\")\n",
    "\n",
    "print(\"Free money?!\")"
   ]
  },
  {
   "cell_type": "code",
   "execution_count": null,
   "metadata": {},
   "outputs": [],
   "source": []
  }
 ],
 "metadata": {
  "kernelspec": {
   "display_name": "Python 3",
   "language": "python",
   "name": "python3"
  },
  "language_info": {
   "codemirror_mode": {
    "name": "ipython",
    "version": 3
   },
   "file_extension": ".py",
   "mimetype": "text/x-python",
   "name": "python",
   "nbconvert_exporter": "python",
   "pygments_lexer": "ipython3",
   "version": "3.12.4"
  }
 },
 "nbformat": 4,
 "nbformat_minor": 2
}
