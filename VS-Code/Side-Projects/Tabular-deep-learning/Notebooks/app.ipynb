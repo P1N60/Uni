{
 "cells": [
  {
   "cell_type": "code",
   "execution_count": 179,
   "metadata": {},
   "outputs": [],
   "source": [
    "# Install libraries on first run\n",
    "#! pip install -q ipynb fastai pathlib import_ipynb"
   ]
  },
  {
   "cell_type": "code",
   "execution_count": 180,
   "metadata": {},
   "outputs": [],
   "source": [
    "from fastai.tabular.all import *\n",
    "from pathlib import Path\n",
    "import import_ipynb\n",
    "import ipynb\n",
    "import stockFetcher"
   ]
  },
  {
   "cell_type": "code",
   "execution_count": 181,
   "metadata": {},
   "outputs": [],
   "source": [
    "testFolder = Path.cwd().parent / 'TestData'\n",
    "modelFolder = Path.cwd().parent.parent / 'TrainedModels'\n",
    "\n",
    "predictionTarget = 'Best' # 'Best' for the best performing tickers "
   ]
  },
  {
   "cell_type": "code",
   "execution_count": 182,
   "metadata": {},
   "outputs": [
    {
     "name": "stdout",
     "output_type": "stream",
     "text": [
      "Model files in modelFolder:\n",
      "countryGuesser.pkl\n",
      "stockScreenerV2.1.pkl\n",
      "stockScreenerV2.0.pkl\n",
      "stockScreenerV1.5.pkl\n",
      "animalClassifier.pkl\n",
      "stockScreenerV1.4.pkl\n",
      "stockScreenerV1.6.pkl\n",
      "leagueChampionClassifier.pkl\n",
      "stockScreenerV1.7.pkl\n",
      "politicianClassifier.pkl\n",
      "stockScreenerV1.3.pkl\n",
      "stockScreenerV3.0.pkl\n",
      "stockScreenerV1.2.pkl\n",
      "stockScreenerV1.0.pkl\n",
      "stockScreenerV1.1.pkl\n",
      "test.pkl\n",
      "stockScreenerV1.9.pkl\n",
      "stockScreenerV1.8.pkl\n",
      "stockScreenerV1.10.pkl\n"
     ]
    }
   ],
   "source": [
    "print('Model files in modelFolder:')\n",
    "for file in modelFolder.glob('*.pkl'):\n",
    "    print(file.name)"
   ]
  },
  {
   "cell_type": "code",
   "execution_count": 183,
   "metadata": {},
   "outputs": [
    {
     "data": {
      "text/plain": [
       "Model Name    stockScreenerV2.1\n",
       "Timestamp      2025-01-19 14:33\n",
       "MAE                       0.205\n",
       "RMSE                      0.284\n",
       "R2                       -0.331\n",
       "Name: 12, dtype: object"
      ]
     },
     "execution_count": 183,
     "metadata": {},
     "output_type": "execute_result"
    }
   ],
   "source": [
    "evaluations = pd.read_csv(modelFolder / 'modelEvaluations.csv')\n",
    "bestModel = evaluations.sort_values('MAE', ascending=True).iloc[0]\n",
    "bestModel.head()"
   ]
  },
  {
   "cell_type": "markdown",
   "metadata": {},
   "source": [
    "## Load model"
   ]
  },
  {
   "cell_type": "code",
   "execution_count": 184,
   "metadata": {},
   "outputs": [],
   "source": [
    "modelName = f\"{bestModel['Model Name']}.pkl\" # Change this if you want to try other models\n",
    "learn = load_learner(modelFolder / modelName)"
   ]
  },
  {
   "cell_type": "markdown",
   "metadata": {},
   "source": [
    "## Predictions"
   ]
  },
  {
   "cell_type": "code",
   "execution_count": 185,
   "metadata": {},
   "outputs": [
    {
     "name": "stderr",
     "output_type": "stream",
     "text": [
      "$TATA: possibly delisted; no price data found  (period=1d) (Yahoo error = \"No data found, symbol may be delisted\")\n",
      "404 Client Error: Not Found for url: https://query2.finance.yahoo.com/v10/finance/quoteSummary/TATA?modules=financialData%2CquoteType%2CdefaultKeyStatistics%2CassetProfile%2CsummaryDetail&corsDomain=finance.yahoo.com&formatted=false&symbol=TATA&crumb=QwHUVX9YtPz\n",
      "404 Client Error: Not Found for url: https://query2.finance.yahoo.com/v10/finance/quoteSummary/TATA?modules=financialData%2CquoteType%2CdefaultKeyStatistics%2CassetProfile%2CsummaryDetail&corsDomain=finance.yahoo.com&formatted=false&symbol=TATA&crumb=QwHUVX9YtPz\n"
     ]
    },
    {
     "name": "stdout",
     "output_type": "stream",
     "text": [
      "Error fetching data for TATA: single positional indexer is out-of-bounds\n"
     ]
    },
    {
     "name": "stderr",
     "output_type": "stream",
     "text": [
      "$ORAN: possibly delisted; no price data found  (period=1d) (Yahoo error = \"No data found, symbol may be delisted\")\n",
      "404 Client Error: Not Found for url: https://query2.finance.yahoo.com/v10/finance/quoteSummary/ORAN?modules=financialData%2CquoteType%2CdefaultKeyStatistics%2CassetProfile%2CsummaryDetail&corsDomain=finance.yahoo.com&formatted=false&symbol=ORAN&crumb=QwHUVX9YtPz\n",
      "404 Client Error: Not Found for url: https://query2.finance.yahoo.com/v10/finance/quoteSummary/ORAN?modules=financialData%2CquoteType%2CdefaultKeyStatistics%2CassetProfile%2CsummaryDetail&corsDomain=finance.yahoo.com&formatted=false&symbol=ORAN&crumb=QwHUVX9YtPz\n"
     ]
    },
    {
     "name": "stdout",
     "output_type": "stream",
     "text": [
      "Error fetching data for ORAN: single positional indexer is out-of-bounds\n"
     ]
    },
    {
     "name": "stderr",
     "output_type": "stream",
     "text": [
      "$CS: possibly delisted; no price data found  (period=1d) (Yahoo error = \"No data found, symbol may be delisted\")\n"
     ]
    },
    {
     "name": "stdout",
     "output_type": "stream",
     "text": [
      "Error fetching data for CS: single positional indexer is out-of-bounds\n"
     ]
    },
    {
     "name": "stderr",
     "output_type": "stream",
     "text": [
      "$LEJU: possibly delisted; no price data found  (period=1d) (Yahoo error = \"No data found, symbol may be delisted\")\n",
      "404 Client Error: Not Found for url: https://query2.finance.yahoo.com/v10/finance/quoteSummary/LEJU?modules=financialData%2CquoteType%2CdefaultKeyStatistics%2CassetProfile%2CsummaryDetail&corsDomain=finance.yahoo.com&formatted=false&symbol=LEJU&crumb=QwHUVX9YtPz\n",
      "404 Client Error: Not Found for url: https://query2.finance.yahoo.com/v10/finance/quoteSummary/LEJU?modules=financialData%2CquoteType%2CdefaultKeyStatistics%2CassetProfile%2CsummaryDetail&corsDomain=finance.yahoo.com&formatted=false&symbol=LEJU&crumb=QwHUVX9YtPz\n"
     ]
    },
    {
     "name": "stdout",
     "output_type": "stream",
     "text": [
      "Error fetching data for LEJU: single positional indexer is out-of-bounds\n"
     ]
    },
    {
     "name": "stderr",
     "output_type": "stream",
     "text": [
      "$CSGN: possibly delisted; no price data found  (period=1d)\n"
     ]
    },
    {
     "name": "stdout",
     "output_type": "stream",
     "text": [
      "Error fetching data for CSGN: single positional indexer is out-of-bounds\n"
     ]
    },
    {
     "name": "stderr",
     "output_type": "stream",
     "text": [
      "$SANB: possibly delisted; no price data found  (period=1d) (Yahoo error = \"No data found, symbol may be delisted\")\n"
     ]
    },
    {
     "name": "stdout",
     "output_type": "stream",
     "text": [
      "Error fetching data for SANB: single positional indexer is out-of-bounds\n"
     ]
    },
    {
     "name": "stderr",
     "output_type": "stream",
     "text": [
      "$WBK: possibly delisted; no price data found  (period=1d) (Yahoo error = \"No data found, symbol may be delisted\")\n"
     ]
    },
    {
     "name": "stdout",
     "output_type": "stream",
     "text": [
      "Error fetching data for WBK: single positional indexer is out-of-bounds\n"
     ]
    },
    {
     "name": "stderr",
     "output_type": "stream",
     "text": [
      "$ANZBY: possibly delisted; no price data found  (period=1d) (Yahoo error = \"No data found, symbol may be delisted\")\n"
     ]
    },
    {
     "name": "stdout",
     "output_type": "stream",
     "text": [
      "Error fetching data for ANZBY: single positional indexer is out-of-bounds\n"
     ]
    },
    {
     "name": "stderr",
     "output_type": "stream",
     "text": [
      "$KL: possibly delisted; no price data found  (period=1d) (Yahoo error = \"No data found, symbol may be delisted\")\n"
     ]
    },
    {
     "name": "stdout",
     "output_type": "stream",
     "text": [
      "Error fetching data for KL: single positional indexer is out-of-bounds\n"
     ]
    },
    {
     "name": "stderr",
     "output_type": "stream",
     "text": [
      "$ULVR: possibly delisted; no price data found  (period=1d) (Yahoo error = \"No data found, symbol may be delisted\")\n",
      "404 Client Error: Not Found for url: https://query2.finance.yahoo.com/v10/finance/quoteSummary/ULVR?modules=financialData%2CquoteType%2CdefaultKeyStatistics%2CassetProfile%2CsummaryDetail&corsDomain=finance.yahoo.com&formatted=false&symbol=ULVR&crumb=QwHUVX9YtPz\n",
      "404 Client Error: Not Found for url: https://query2.finance.yahoo.com/v10/finance/quoteSummary/ULVR?modules=financialData%2CquoteType%2CdefaultKeyStatistics%2CassetProfile%2CsummaryDetail&corsDomain=finance.yahoo.com&formatted=false&symbol=ULVR&crumb=QwHUVX9YtPz\n"
     ]
    },
    {
     "name": "stdout",
     "output_type": "stream",
     "text": [
      "Error fetching data for ULVR: single positional indexer is out-of-bounds\n"
     ]
    },
    {
     "name": "stderr",
     "output_type": "stream",
     "text": [
      "$NESTLE: possibly delisted; no price data found  (period=1d) (Yahoo error = \"No data found, symbol may be delisted\")\n",
      "404 Client Error: Not Found for url: https://query2.finance.yahoo.com/v10/finance/quoteSummary/NESTLE?modules=financialData%2CquoteType%2CdefaultKeyStatistics%2CassetProfile%2CsummaryDetail&corsDomain=finance.yahoo.com&formatted=false&symbol=NESTLE&crumb=QwHUVX9YtPz\n",
      "404 Client Error: Not Found for url: https://query2.finance.yahoo.com/v10/finance/quoteSummary/NESTLE?modules=financialData%2CquoteType%2CdefaultKeyStatistics%2CassetProfile%2CsummaryDetail&corsDomain=finance.yahoo.com&formatted=false&symbol=NESTLE&crumb=QwHUVX9YtPz\n"
     ]
    },
    {
     "name": "stdout",
     "output_type": "stream",
     "text": [
      "Error fetching data for NESTLE: single positional indexer is out-of-bounds\n"
     ]
    },
    {
     "name": "stderr",
     "output_type": "stream",
     "text": [
      "$FERR: possibly delisted; no price data found  (period=1d) (Yahoo error = \"No data found, symbol may be delisted\")\n",
      "404 Client Error: Not Found for url: https://query2.finance.yahoo.com/v10/finance/quoteSummary/FERR?modules=financialData%2CquoteType%2CdefaultKeyStatistics%2CassetProfile%2CsummaryDetail&corsDomain=finance.yahoo.com&formatted=false&symbol=FERR&crumb=QwHUVX9YtPz\n",
      "404 Client Error: Not Found for url: https://query2.finance.yahoo.com/v10/finance/quoteSummary/FERR?modules=financialData%2CquoteType%2CdefaultKeyStatistics%2CassetProfile%2CsummaryDetail&corsDomain=finance.yahoo.com&formatted=false&symbol=FERR&crumb=QwHUVX9YtPz\n"
     ]
    },
    {
     "name": "stdout",
     "output_type": "stream",
     "text": [
      "Error fetching data for FERR: single positional indexer is out-of-bounds\n"
     ]
    },
    {
     "name": "stderr",
     "output_type": "stream",
     "text": [
      "$NESN: possibly delisted; no price data found  (period=1d) (Yahoo error = \"No data found, symbol may be delisted\")\n",
      "404 Client Error: Not Found for url: https://query2.finance.yahoo.com/v10/finance/quoteSummary/NESN?modules=financialData%2CquoteType%2CdefaultKeyStatistics%2CassetProfile%2CsummaryDetail&corsDomain=finance.yahoo.com&formatted=false&symbol=NESN&crumb=QwHUVX9YtPz\n",
      "404 Client Error: Not Found for url: https://query2.finance.yahoo.com/v10/finance/quoteSummary/NESN?modules=financialData%2CquoteType%2CdefaultKeyStatistics%2CassetProfile%2CsummaryDetail&corsDomain=finance.yahoo.com&formatted=false&symbol=NESN&crumb=QwHUVX9YtPz\n"
     ]
    },
    {
     "name": "stdout",
     "output_type": "stream",
     "text": [
      "Error fetching data for NESN: single positional indexer is out-of-bounds\n"
     ]
    },
    {
     "name": "stderr",
     "output_type": "stream",
     "text": [
      "$JTI: possibly delisted; no price data found  (period=1d)\n",
      "$RAI: possibly delisted; no price data found  (period=1d)\n"
     ]
    },
    {
     "name": "stdout",
     "output_type": "stream",
     "text": [
      "Error fetching data for JTI: single positional indexer is out-of-bounds\n",
      "Error fetching data for RAI: single positional indexer is out-of-bounds\n"
     ]
    },
    {
     "name": "stderr",
     "output_type": "stream",
     "text": [
      "$TOT: possibly delisted; no price data found  (period=1d) (Yahoo error = \"No data found, symbol may be delisted\")\n"
     ]
    },
    {
     "name": "stdout",
     "output_type": "stream",
     "text": [
      "Error fetching data for TOT: single positional indexer is out-of-bounds\n"
     ]
    },
    {
     "name": "stderr",
     "output_type": "stream",
     "text": [
      "$RDS.A: possibly delisted; no price data found  (period=1d) (Yahoo error = \"No data found, symbol may be delisted\")\n"
     ]
    },
    {
     "name": "stdout",
     "output_type": "stream",
     "text": [
      "Error fetching data for RDS.A: single positional indexer is out-of-bounds\n"
     ]
    },
    {
     "name": "stderr",
     "output_type": "stream",
     "text": [
      "$ENI: possibly delisted; no price data found  (period=1d)\n"
     ]
    },
    {
     "name": "stdout",
     "output_type": "stream",
     "text": [
      "Error fetching data for ENI: single positional indexer is out-of-bounds\n"
     ]
    },
    {
     "name": "stderr",
     "output_type": "stream",
     "text": [
      "$SPWR: possibly delisted; no price data found  (period=1d) (Yahoo error = \"No data found, symbol may be delisted\")\n",
      "404 Client Error: Not Found for url: https://query2.finance.yahoo.com/v10/finance/quoteSummary/SPWR?modules=financialData%2CquoteType%2CdefaultKeyStatistics%2CassetProfile%2CsummaryDetail&corsDomain=finance.yahoo.com&formatted=false&symbol=SPWR&crumb=QwHUVX9YtPz\n",
      "404 Client Error: Not Found for url: https://query2.finance.yahoo.com/v10/finance/quoteSummary/SPWR?modules=financialData%2CquoteType%2CdefaultKeyStatistics%2CassetProfile%2CsummaryDetail&corsDomain=finance.yahoo.com&formatted=false&symbol=SPWR&crumb=QwHUVX9YtPz\n"
     ]
    },
    {
     "name": "stdout",
     "output_type": "stream",
     "text": [
      "Error fetching data for SPWR: single positional indexer is out-of-bounds\n"
     ]
    },
    {
     "name": "stderr",
     "output_type": "stream",
     "text": [
      "$SPLK: possibly delisted; no price data found  (period=1d) (Yahoo error = \"No data found, symbol may be delisted\")\n",
      "404 Client Error: Not Found for url: https://query2.finance.yahoo.com/v10/finance/quoteSummary/SPLK?modules=financialData%2CquoteType%2CdefaultKeyStatistics%2CassetProfile%2CsummaryDetail&corsDomain=finance.yahoo.com&formatted=false&symbol=SPLK&crumb=QwHUVX9YtPz\n",
      "404 Client Error: Not Found for url: https://query2.finance.yahoo.com/v10/finance/quoteSummary/SPLK?modules=financialData%2CquoteType%2CdefaultKeyStatistics%2CassetProfile%2CsummaryDetail&corsDomain=finance.yahoo.com&formatted=false&symbol=SPLK&crumb=QwHUVX9YtPz\n"
     ]
    },
    {
     "name": "stdout",
     "output_type": "stream",
     "text": [
      "Error fetching data for SPLK: single positional indexer is out-of-bounds\n"
     ]
    },
    {
     "name": "stderr",
     "output_type": "stream",
     "text": [
      "$FRC: possibly delisted; no price data found  (period=1d) (Yahoo error = \"No data found, symbol may be delisted\")\n"
     ]
    },
    {
     "name": "stdout",
     "output_type": "stream",
     "text": [
      "Error fetching data for FRC: single positional indexer is out-of-bounds\n"
     ]
    },
    {
     "name": "stderr",
     "output_type": "stream",
     "text": [
      "$ETFC: possibly delisted; no price data found  (period=1d) (Yahoo error = \"No data found, symbol may be delisted\")\n"
     ]
    },
    {
     "name": "stdout",
     "output_type": "stream",
     "text": [
      "Error fetching data for ETFC: single positional indexer is out-of-bounds\n"
     ]
    },
    {
     "name": "stderr",
     "output_type": "stream",
     "text": [
      "$RE: possibly delisted; no price data found  (period=1d) (Yahoo error = \"No data found, symbol may be delisted\")\n",
      "404 Client Error: Not Found for url: https://query2.finance.yahoo.com/v10/finance/quoteSummary/RE?modules=financialData%2CquoteType%2CdefaultKeyStatistics%2CassetProfile%2CsummaryDetail&corsDomain=finance.yahoo.com&formatted=false&symbol=RE&crumb=QwHUVX9YtPz\n",
      "404 Client Error: Not Found for url: https://query2.finance.yahoo.com/v10/finance/quoteSummary/RE?modules=financialData%2CquoteType%2CdefaultKeyStatistics%2CassetProfile%2CsummaryDetail&corsDomain=finance.yahoo.com&formatted=false&symbol=RE&crumb=QwHUVX9YtPz\n"
     ]
    },
    {
     "name": "stdout",
     "output_type": "stream",
     "text": [
      "Error fetching data for RE: single positional indexer is out-of-bounds\n"
     ]
    },
    {
     "name": "stderr",
     "output_type": "stream",
     "text": [
      "/var/folders/ch/yfh31z5s3cq4cw_md59n4qw40000gn/T/ipykernel_81972/4230779016.py:5: FutureWarning: The behavior of DataFrame concatenation with empty or all-NA entries is deprecated. In a future version, this will no longer exclude empty or all-NA columns when determining the result dtypes. To retain the old behavior, exclude the relevant entries before the concat operation.\n",
      "  test_df = pd.concat(test_df, ignore_index=True)  # Concatenate list of DataFrames into a single DataFrame\n",
      "/Library/Frameworks/Python.framework/Versions/3.12/lib/python3.12/site-packages/fastai/tabular/core.py:314: FutureWarning: A value is trying to be set on a copy of a DataFrame or Series through chained assignment using an inplace method.\n",
      "The behavior will change in pandas 3.0. This inplace method will never work because the intermediate object on which we are setting values always behaves as a copy.\n",
      "\n",
      "For example, when doing 'df[col].method(value, inplace=True)', try using 'df.method({col: value}, inplace=True)' or df[col] = df[col].method(value) instead, to perform the operation inplace on the original object.\n",
      "\n",
      "\n",
      "  to[n].fillna(self.na_dict[n], inplace=True)\n",
      "/Library/Frameworks/Python.framework/Versions/3.12/lib/python3.12/site-packages/fastai/tabular/core.py:314: FutureWarning: A value is trying to be set on a copy of a DataFrame or Series through chained assignment using an inplace method.\n",
      "The behavior will change in pandas 3.0. This inplace method will never work because the intermediate object on which we are setting values always behaves as a copy.\n",
      "\n",
      "For example, when doing 'df[col].method(value, inplace=True)', try using 'df.method({col: value}, inplace=True)' or df[col] = df[col].method(value) instead, to perform the operation inplace on the original object.\n",
      "\n",
      "\n",
      "  to[n].fillna(self.na_dict[n], inplace=True)\n"
     ]
    },
    {
     "data": {
      "text/html": [
       "<div>\n",
       "<style scoped>\n",
       "    .dataframe tbody tr th:only-of-type {\n",
       "        vertical-align: middle;\n",
       "    }\n",
       "\n",
       "    .dataframe tbody tr th {\n",
       "        vertical-align: top;\n",
       "    }\n",
       "\n",
       "    .dataframe thead th {\n",
       "        text-align: right;\n",
       "    }\n",
       "</style>\n",
       "<table border=\"1\" class=\"dataframe\">\n",
       "  <thead>\n",
       "    <tr style=\"text-align: right;\">\n",
       "      <th></th>\n",
       "      <th>Open</th>\n",
       "      <th>High</th>\n",
       "      <th>Low</th>\n",
       "      <th>Close</th>\n",
       "      <th>Volume</th>\n",
       "      <th>Dividends</th>\n",
       "      <th>Stock Splits</th>\n",
       "      <th>EV/EBIT</th>\n",
       "      <th>Market Cap</th>\n",
       "      <th>ROIC</th>\n",
       "      <th>Industry</th>\n",
       "    </tr>\n",
       "  </thead>\n",
       "  <tbody>\n",
       "    <tr>\n",
       "      <th>0</th>\n",
       "      <td>83.199997</td>\n",
       "      <td>85.589996</td>\n",
       "      <td>83.029999</td>\n",
       "      <td>85.120003</td>\n",
       "      <td>21089700</td>\n",
       "      <td>0.0</td>\n",
       "      <td>0.0</td>\n",
       "      <td>-0.045255</td>\n",
       "      <td>2.023515e+11</td>\n",
       "      <td>-17.456805</td>\n",
       "      <td>Internet Retail</td>\n",
       "    </tr>\n",
       "    <tr>\n",
       "      <th>1</th>\n",
       "      <td>48.700001</td>\n",
       "      <td>49.840000</td>\n",
       "      <td>48.599998</td>\n",
       "      <td>49.340000</td>\n",
       "      <td>4331600</td>\n",
       "      <td>0.0</td>\n",
       "      <td>0.0</td>\n",
       "      <td>NaN</td>\n",
       "      <td>4.487946e+11</td>\n",
       "      <td>NaN</td>\n",
       "      <td>Internet Content &amp; Information</td>\n",
       "    </tr>\n",
       "    <tr>\n",
       "      <th>2</th>\n",
       "      <td>215.169998</td>\n",
       "      <td>215.679993</td>\n",
       "      <td>211.059998</td>\n",
       "      <td>211.500000</td>\n",
       "      <td>21559000</td>\n",
       "      <td>0.0</td>\n",
       "      <td>0.0</td>\n",
       "      <td>-0.256812</td>\n",
       "      <td>1.096955e+12</td>\n",
       "      <td>-3.076181</td>\n",
       "      <td>Semiconductors</td>\n",
       "    </tr>\n",
       "    <tr>\n",
       "      <th>3</th>\n",
       "      <td>60.939999</td>\n",
       "      <td>61.790001</td>\n",
       "      <td>60.680000</td>\n",
       "      <td>61.099998</td>\n",
       "      <td>4696900</td>\n",
       "      <td>0.0</td>\n",
       "      <td>0.0</td>\n",
       "      <td>9.970887</td>\n",
       "      <td>7.655341e+10</td>\n",
       "      <td>0.079231</td>\n",
       "      <td>Other Industrial Metals &amp; Mining</td>\n",
       "    </tr>\n",
       "    <tr>\n",
       "      <th>4</th>\n",
       "      <td>4.890000</td>\n",
       "      <td>4.930000</td>\n",
       "      <td>4.870000</td>\n",
       "      <td>4.890000</td>\n",
       "      <td>1891200</td>\n",
       "      <td>0.0</td>\n",
       "      <td>0.0</td>\n",
       "      <td>5.237325</td>\n",
       "      <td>7.407176e+10</td>\n",
       "      <td>0.150840</td>\n",
       "      <td>Banks - Diversified</td>\n",
       "    </tr>\n",
       "  </tbody>\n",
       "</table>\n",
       "</div>"
      ],
      "text/plain": [
       "         Open        High         Low       Close    Volume  Dividends  \\\n",
       "0   83.199997   85.589996   83.029999   85.120003  21089700        0.0   \n",
       "1   48.700001   49.840000   48.599998   49.340000   4331600        0.0   \n",
       "2  215.169998  215.679993  211.059998  211.500000  21559000        0.0   \n",
       "3   60.939999   61.790001   60.680000   61.099998   4696900        0.0   \n",
       "4    4.890000    4.930000    4.870000    4.890000   1891200        0.0   \n",
       "\n",
       "   Stock Splits   EV/EBIT    Market Cap       ROIC  \\\n",
       "0           0.0 -0.045255  2.023515e+11 -17.456805   \n",
       "1           0.0       NaN  4.487946e+11        NaN   \n",
       "2           0.0 -0.256812  1.096955e+12  -3.076181   \n",
       "3           0.0  9.970887  7.655341e+10   0.079231   \n",
       "4           0.0  5.237325  7.407176e+10   0.150840   \n",
       "\n",
       "                           Industry  \n",
       "0                   Internet Retail  \n",
       "1    Internet Content & Information  \n",
       "2                    Semiconductors  \n",
       "3  Other Industrial Metals & Mining  \n",
       "4               Banks - Diversified  "
      ]
     },
     "execution_count": 185,
     "metadata": {},
     "output_type": "execute_result"
    }
   ],
   "source": [
    "if predictionTarget == 'Best':\n",
    "    adr_df = pd.read_csv(testFolder / 'tickers.csv')\n",
    "    symbols = adr_df['Ticker'].tolist()\n",
    "    test_df = [stockFetcher.getTickerData(symbol) for symbol in symbols]\n",
    "    test_df = pd.concat(test_df, ignore_index=True)  # Concatenate list of DataFrames into a single DataFrame\n",
    "\n",
    "else:\n",
    "    test_df = stockFetcher.getTickerData(predictionTarget)\n",
    "\n",
    "# Ensure test_df is a DataFrame\n",
    "if isinstance(test_df, dict):\n",
    "    test_df = pd.DataFrame([test_df])\n",
    "\n",
    "dl = learn.dls.test_dl(test_df)\n",
    "test_df.head()"
   ]
  },
  {
   "cell_type": "code",
   "execution_count": 186,
   "metadata": {},
   "outputs": [
    {
     "data": {
      "text/html": [
       "\n",
       "<style>\n",
       "    /* Turns off some styling */\n",
       "    progress {\n",
       "        /* gets rid of default border in Firefox and Opera. */\n",
       "        border: none;\n",
       "        /* Needs to be in here for Safari polyfill so background images work as expected. */\n",
       "        background-size: auto;\n",
       "    }\n",
       "    progress:not([value]), progress:not([value])::-webkit-progress-bar {\n",
       "        background: repeating-linear-gradient(45deg, #7e7e7e, #7e7e7e 10px, #5c5c5c 10px, #5c5c5c 20px);\n",
       "    }\n",
       "    .progress-bar-interrupted, .progress-bar-interrupted::-webkit-progress-bar {\n",
       "        background: #F44336;\n",
       "    }\n",
       "</style>\n"
      ],
      "text/plain": [
       "<IPython.core.display.HTML object>"
      ]
     },
     "metadata": {},
     "output_type": "display_data"
    },
    {
     "data": {
      "text/html": [],
      "text/plain": [
       "<IPython.core.display.HTML object>"
      ]
     },
     "metadata": {},
     "output_type": "display_data"
    },
    {
     "name": "stdout",
     "output_type": "stream",
     "text": [
      "Prediction for best performing tickers:\n",
      "KGC: 1058.03%\n",
      "VALE: 482.34%\n",
      "GFI: 398.80%\n",
      "GDS: 301.58%\n",
      "BILL: 290.27%\n",
      "SNOW: 188.40%\n",
      "XOM: 179.69%\n",
      "CBAUF: 130.59%\n",
      "HDB: 124.99%\n",
      "DB: 117.62%\n",
      "JD: 115.42%\n",
      "EDU: 105.55%\n",
      "ENI: 97.75%\n",
      "EXPI: 91.71%\n",
      "LEJU: 79.17%\n",
      "SE: 77.15%\n",
      "BIDU: 61.02%\n",
      "GFL: 58.48%\n",
      "IRM: 55.12%\n",
      "TEAM: 52.50%\n",
      "ZS: 51.68%\n",
      "NDAQ: 49.70%\n",
      "MFG: 49.07%\n",
      "AMT: 47.68%\n",
      "TAL: 47.55%\n",
      "SHOP: 46.98%\n",
      "KMI: 43.28%\n",
      "DLR: 41.96%\n",
      "TOT: 41.77%\n",
      "PKX: 40.63%\n",
      "RELX: 40.10%\n",
      "STM: 39.19%\n",
      "Z: 38.85%\n",
      "OKE: 37.95%\n",
      "ICE: 37.53%\n",
      "SEDG: 37.40%\n",
      "JKS: 37.33%\n",
      "AM: 36.55%\n",
      "EOG: 34.18%\n",
      "RACE: 33.90%\n",
      "SPWR: 32.88%\n",
      "MKTX: 32.80%\n",
      "ENPH: 32.31%\n",
      "AA: 31.87%\n",
      "SBAC: 31.28%\n",
      "DEO: 30.71%\n",
      "SPGI: 29.34%\n",
      "PLUG: 28.99%\n",
      "EQIX: 28.94%\n",
      "ZTO: 27.81%\n",
      "VRSK: 27.75%\n",
      "PLL: 27.67%\n",
      "TRGP: 27.27%\n",
      "BCS: 26.73%\n",
      "BG: 26.48%\n",
      "CSGP: 26.21%\n",
      "CS: 26.11%\n",
      "AZN: 25.67%\n",
      "RUN: 25.40%\n",
      "BAM: 25.26%\n",
      "ET: 25.12%\n",
      "UBS: 24.85%\n",
      "FSLY: 24.08%\n",
      "AXP: 23.99%\n",
      "TWLO: 23.99%\n",
      "BIPC: 23.89%\n",
      "SQM: 23.76%\n",
      "MKC: 23.40%\n",
      "CF: 22.76%\n",
      "RAI: 22.39%\n",
      "MO: 22.39%\n",
      "EL: 22.21%\n",
      "PM: 21.58%\n",
      "WMB: 21.51%\n",
      "NTR: 21.14%\n",
      "NSANY: 20.50%\n",
      "CME: 19.82%\n",
      "DOCU: 18.87%\n",
      "CSGN: 18.58%\n",
      "GRAB: 18.57%\n",
      "WIX: 18.36%\n",
      "AZO: 17.56%\n",
      "ZM: 17.18%\n",
      "FCX: 16.95%\n",
      "SQ: 16.79%\n",
      "SOFI: 16.79%\n",
      "DASH: 16.71%\n",
      "BLDP: 15.13%\n",
      "RDS.A: 15.02%\n",
      "SMFG: 14.50%\n",
      "AGI: 14.47%\n",
      "NET: 14.42%\n",
      "BTG: 13.72%\n",
      "PHG: 13.71%\n",
      "UPST: 12.51%\n",
      "CVX: 11.91%\n",
      "COP: 11.81%\n",
      "NVS: 11.35%\n",
      "PD: 11.24%\n",
      "ABBV: 11.17%\n",
      "IBN: 10.07%\n",
      "GSK: 9.35%\n",
      "FANUY: 9.13%\n",
      "ALB: 8.79%\n",
      "DDOG: 8.46%\n",
      "CCI: 8.31%\n",
      "SSRM: 7.80%\n",
      "COF: 7.75%\n",
      "AMX: 7.45%\n",
      "SCCO: 7.39%\n",
      "BASFY: 6.84%\n",
      "DSY: 6.77%\n",
      "SAN: 6.73%\n",
      "MAXN: 6.51%\n",
      "MDB: 6.26%\n",
      "U: 6.19%\n",
      "MELI: 6.12%\n",
      "LVMUY: 5.83%\n",
      "TRP: 5.63%\n",
      "RDFN: 5.34%\n",
      "SNY: 4.94%\n",
      "IBKR: 4.84%\n",
      "HMC: 4.79%\n",
      "NTDOY: 4.62%\n",
      "BHP: 4.60%\n",
      "RIO: 2.51%\n",
      "SAP: 2.50%\n",
      "ORAN: 2.36%\n",
      "MSCI: 1.64%\n",
      "KEP: 1.59%\n",
      "SLB: 1.49%\n",
      "NTTYY: 1.43%\n",
      "TCEHY: 0.91%\n",
      "AU: 0.20%\n",
      "LC: -0.37%\n",
      "VOD: -0.55%\n",
      "PAAS: -1.88%\n",
      "BABA: -1.97%\n",
      "CLPBY: -2.13%\n",
      "UL: -2.22%\n",
      "ULVR: -2.43%\n",
      "ING: -2.46%\n",
      "BTI: -2.70%\n",
      "ATHM: -3.29%\n",
      "NEM: -4.28%\n",
      "BNS: -4.35%\n",
      "KL: -4.58%\n",
      "FERR: -4.64%\n",
      "MFC: -4.92%\n",
      "RY: -5.39%\n",
      "CX: -5.49%\n",
      "BP: -5.55%\n",
      "NESTLE: -5.74%\n",
      "HSBC: -5.85%\n",
      "LGGNY: -6.27%\n",
      "TM: -6.61%\n",
      "ESTC: -6.76%\n",
      "PANW: -6.83%\n",
      "OKTA: -7.05%\n",
      "MOS: -7.14%\n",
      "LOGI: -8.31%\n",
      "PDD: -8.38%\n",
      "IPI: -8.70%\n",
      "BEPC: -8.87%\n",
      "LAC: -9.46%\n",
      "SONY: -10.63%\n",
      "CHKP: -10.75%\n",
      "NTES: -12.19%\n",
      "IMBBY: -12.81%\n",
      "MT: -13.09%\n",
      "ERIC: -14.09%\n",
      "JTI: -14.18%\n",
      "BBVA: -14.20%\n",
      "TD: -15.00%\n",
      "CM: -15.01%\n",
      "NOW: -15.60%\n",
      "HRL: -15.84%\n",
      "BKR: -16.20%\n",
      "TSN: -16.32%\n",
      "VLO: -17.31%\n",
      "CNQ: -18.56%\n",
      "ENIC: -19.32%\n",
      "YUMC: -19.65%\n",
      "LYG: -19.92%\n",
      "ITUB: -20.00%\n",
      "ENB: -20.17%\n",
      "DANOY: -20.72%\n",
      "ANZBY: -21.63%\n",
      "SANB: -23.16%\n",
      "FSLR: -24.21%\n",
      "TECK: -24.42%\n",
      "VWAGY: -24.77%\n",
      "FTNT: -24.88%\n",
      "PSX: -24.96%\n",
      "INFY: -25.80%\n",
      "HAL: -26.86%\n",
      "WBK: -27.27%\n",
      "NESN: -27.79%\n",
      "SU: -27.91%\n",
      "SPLK: -28.72%\n",
      "AFRM: -28.96%\n",
      "TEVA: -28.99%\n",
      "ADM: -33.43%\n",
      "CYBR: -39.85%\n",
      "TSM: -40.39%\n",
      "YY: -41.01%\n",
      "RF: -41.08%\n",
      "KEY: -44.33%\n",
      "CRWD: -51.14%\n",
      "VIPS: -54.68%\n",
      "ALLY: -57.54%\n",
      "SIEGY: -68.48%\n",
      "ADSK: -73.72%\n",
      "ASML: -88.70%\n",
      "CSIQ: -95.27%\n",
      "PYPL: -98.54%\n",
      "MPC: -143.49%\n",
      "TATA: -631.30%\n",
      "DFS: -655.95%\n",
      "FVRR: -1135.92%\n",
      "Free money?!\n"
     ]
    }
   ],
   "source": [
    "if predictionTarget == 'Best':\n",
    "    prediction = learn.get_preds(dl=dl)\n",
    "    sorted_predictions = sorted(zip(symbols, prediction[0]), key=lambda x: x[1], reverse=True)\n",
    "    print(f\"Prediction for best performing tickers:\")\n",
    "    for symbol, pred in sorted_predictions:\n",
    "        print(f\"{symbol}: {pred[0].item() * 100:.2f}%\")\n",
    "else:\n",
    "    prediction = learn.get_preds(dl=dl)\n",
    "    print(f\"Prediction for {predictionTarget}:\")\n",
    "    print(f\"{prediction[0][0][0].item() * 100:.2f}%\")\n",
    "\n",
    "print(\"Free money?!\")"
   ]
  },
  {
   "cell_type": "code",
   "execution_count": null,
   "metadata": {},
   "outputs": [],
   "source": []
  }
 ],
 "metadata": {
  "kernelspec": {
   "display_name": "Python 3",
   "language": "python",
   "name": "python3"
  },
  "language_info": {
   "codemirror_mode": {
    "name": "ipython",
    "version": 3
   },
   "file_extension": ".py",
   "mimetype": "text/x-python",
   "name": "python",
   "nbconvert_exporter": "python",
   "pygments_lexer": "ipython3",
   "version": "3.12.4"
  }
 },
 "nbformat": 4,
 "nbformat_minor": 2
}
