{
 "cells": [
  {
   "cell_type": "code",
   "execution_count": 110,
   "metadata": {},
   "outputs": [],
   "source": [
    "# Install libraries on first run\n",
    "#! pip install -q ipynb fastai pathlib import_ipynb"
   ]
  },
  {
   "cell_type": "code",
   "execution_count": 111,
   "metadata": {},
   "outputs": [],
   "source": [
    "from fastai.tabular.all import *\n",
    "from pathlib import Path\n",
    "import import_ipynb\n",
    "import ipynb\n",
    "import stockFetcher"
   ]
  },
  {
   "cell_type": "code",
   "execution_count": 112,
   "metadata": {},
   "outputs": [],
   "source": [
    "testFolder = Path.cwd().parent / 'TestData'\n",
    "modelFolder = Path.cwd().parent.parent / 'TrainedModels'"
   ]
  },
  {
   "cell_type": "code",
   "execution_count": 113,
   "metadata": {},
   "outputs": [
    {
     "name": "stdout",
     "output_type": "stream",
     "text": [
      "Model files in modelFolder:\n",
      "countryGuesser.pkl\n",
      "stockScreenerV2.1.pkl\n",
      "stockScreenerV2.0.pkl\n",
      "stockScreenerV1.5.pkl\n",
      "animalClassifier.pkl\n",
      "stockScreenerV1.4.pkl\n",
      "stockScreenerV1.6.pkl\n",
      "leagueChampionClassifier.pkl\n",
      "stockScreenerV1.7.pkl\n",
      "politicianClassifier.pkl\n",
      "stockScreenerV1.3.pkl\n",
      "stockScreenerV1.2.pkl\n",
      "stockScreenerV1.0.pkl\n",
      "stockScreenerV1.1.pkl\n",
      "test.pkl\n",
      "stockScreenerV1.9.pkl\n",
      "stockScreenerV1.8.pkl\n",
      "stockScreenerV1.10.pkl\n"
     ]
    }
   ],
   "source": [
    "print('Model files in modelFolder:')\n",
    "for file in modelFolder.glob('*.pkl'):\n",
    "    print(file.name)"
   ]
  },
  {
   "cell_type": "code",
   "execution_count": 114,
   "metadata": {},
   "outputs": [
    {
     "data": {
      "text/plain": [
       "Model Name    stockScreenerV2.1\n",
       "Timestamp      2025-01-19 14:33\n",
       "MAE                       0.205\n",
       "RMSE                      0.284\n",
       "R2                       -0.331\n",
       "Name: 12, dtype: object"
      ]
     },
     "execution_count": 114,
     "metadata": {},
     "output_type": "execute_result"
    }
   ],
   "source": [
    "evaluations = pd.read_csv(modelFolder / 'modelEvaluations.csv')\n",
    "bestModel = evaluations.sort_values('MAE', ascending=True).iloc[0]\n",
    "bestModel.head()"
   ]
  },
  {
   "cell_type": "markdown",
   "metadata": {},
   "source": [
    "## Load model"
   ]
  },
  {
   "cell_type": "code",
   "execution_count": 115,
   "metadata": {},
   "outputs": [],
   "source": [
    "modelName = f\"{bestModel['Model Name']}.pkl\" # Change this if you want to try other models\n",
    "learn = load_learner(modelFolder / modelName)"
   ]
  },
  {
   "cell_type": "markdown",
   "metadata": {},
   "source": [
    "## Predictions"
   ]
  },
  {
   "cell_type": "code",
   "execution_count": 116,
   "metadata": {},
   "outputs": [
    {
     "name": "stderr",
     "output_type": "stream",
     "text": [
      "$BRK.A: possibly delisted; no price data found  (period=1d) (Yahoo error = \"No data found, symbol may be delisted\")\n"
     ]
    },
    {
     "name": "stdout",
     "output_type": "stream",
     "text": [
      "Error fetching data for BRK.A: single positional indexer is out-of-bounds\n"
     ]
    },
    {
     "name": "stderr",
     "output_type": "stream",
     "text": [
      "/var/folders/ch/yfh31z5s3cq4cw_md59n4qw40000gn/T/ipykernel_81972/1730343049.py:7: FutureWarning: The behavior of DataFrame concatenation with empty or all-NA entries is deprecated. In a future version, this will no longer exclude empty or all-NA columns when determining the result dtypes. To retain the old behavior, exclude the relevant entries before the concat operation.\n",
      "  test_df = pd.concat(test_df, ignore_index=True)  # Concatenate list of DataFrames into a single DataFrame\n",
      "/Library/Frameworks/Python.framework/Versions/3.12/lib/python3.12/site-packages/fastai/tabular/core.py:314: FutureWarning: A value is trying to be set on a copy of a DataFrame or Series through chained assignment using an inplace method.\n",
      "The behavior will change in pandas 3.0. This inplace method will never work because the intermediate object on which we are setting values always behaves as a copy.\n",
      "\n",
      "For example, when doing 'df[col].method(value, inplace=True)', try using 'df.method({col: value}, inplace=True)' or df[col] = df[col].method(value) instead, to perform the operation inplace on the original object.\n",
      "\n",
      "\n",
      "  to[n].fillna(self.na_dict[n], inplace=True)\n",
      "/Library/Frameworks/Python.framework/Versions/3.12/lib/python3.12/site-packages/fastai/tabular/core.py:314: FutureWarning: A value is trying to be set on a copy of a DataFrame or Series through chained assignment using an inplace method.\n",
      "The behavior will change in pandas 3.0. This inplace method will never work because the intermediate object on which we are setting values always behaves as a copy.\n",
      "\n",
      "For example, when doing 'df[col].method(value, inplace=True)', try using 'df.method({col: value}, inplace=True)' or df[col] = df[col].method(value) instead, to perform the operation inplace on the original object.\n",
      "\n",
      "\n",
      "  to[n].fillna(self.na_dict[n], inplace=True)\n"
     ]
    },
    {
     "data": {
      "text/html": [
       "<div>\n",
       "<style scoped>\n",
       "    .dataframe tbody tr th:only-of-type {\n",
       "        vertical-align: middle;\n",
       "    }\n",
       "\n",
       "    .dataframe tbody tr th {\n",
       "        vertical-align: top;\n",
       "    }\n",
       "\n",
       "    .dataframe thead th {\n",
       "        text-align: right;\n",
       "    }\n",
       "</style>\n",
       "<table border=\"1\" class=\"dataframe\">\n",
       "  <thead>\n",
       "    <tr style=\"text-align: right;\">\n",
       "      <th></th>\n",
       "      <th>Open</th>\n",
       "      <th>High</th>\n",
       "      <th>Low</th>\n",
       "      <th>Close</th>\n",
       "      <th>Volume</th>\n",
       "      <th>Dividends</th>\n",
       "      <th>Stock Splits</th>\n",
       "      <th>EV/EBIT</th>\n",
       "      <th>Market Cap</th>\n",
       "      <th>ROIC</th>\n",
       "      <th>Industry</th>\n",
       "    </tr>\n",
       "  </thead>\n",
       "  <tbody>\n",
       "    <tr>\n",
       "      <th>0</th>\n",
       "      <td>83.199997</td>\n",
       "      <td>85.589996</td>\n",
       "      <td>83.029999</td>\n",
       "      <td>85.120003</td>\n",
       "      <td>21089700</td>\n",
       "      <td>0.0</td>\n",
       "      <td>0.0</td>\n",
       "      <td>-0.045255</td>\n",
       "      <td>2.023515e+11</td>\n",
       "      <td>-17.456805</td>\n",
       "      <td>Internet Retail</td>\n",
       "    </tr>\n",
       "    <tr>\n",
       "      <th>1</th>\n",
       "      <td>48.700001</td>\n",
       "      <td>49.840000</td>\n",
       "      <td>48.599998</td>\n",
       "      <td>49.340000</td>\n",
       "      <td>4331600</td>\n",
       "      <td>0.0</td>\n",
       "      <td>0.0</td>\n",
       "      <td>NaN</td>\n",
       "      <td>4.487946e+11</td>\n",
       "      <td>NaN</td>\n",
       "      <td>Internet Content &amp; Information</td>\n",
       "    </tr>\n",
       "    <tr>\n",
       "      <th>2</th>\n",
       "      <td>215.169998</td>\n",
       "      <td>215.679993</td>\n",
       "      <td>211.059998</td>\n",
       "      <td>211.500000</td>\n",
       "      <td>21559000</td>\n",
       "      <td>0.0</td>\n",
       "      <td>0.0</td>\n",
       "      <td>-0.256812</td>\n",
       "      <td>1.096955e+12</td>\n",
       "      <td>-3.076181</td>\n",
       "      <td>Semiconductors</td>\n",
       "    </tr>\n",
       "    <tr>\n",
       "      <th>3</th>\n",
       "      <td>60.939999</td>\n",
       "      <td>61.790001</td>\n",
       "      <td>60.680000</td>\n",
       "      <td>61.099998</td>\n",
       "      <td>4696900</td>\n",
       "      <td>0.0</td>\n",
       "      <td>0.0</td>\n",
       "      <td>9.970887</td>\n",
       "      <td>7.655341e+10</td>\n",
       "      <td>0.079231</td>\n",
       "      <td>Other Industrial Metals &amp; Mining</td>\n",
       "    </tr>\n",
       "    <tr>\n",
       "      <th>4</th>\n",
       "      <td>4.890000</td>\n",
       "      <td>4.930000</td>\n",
       "      <td>4.870000</td>\n",
       "      <td>4.890000</td>\n",
       "      <td>1891200</td>\n",
       "      <td>0.0</td>\n",
       "      <td>0.0</td>\n",
       "      <td>5.237325</td>\n",
       "      <td>7.407176e+10</td>\n",
       "      <td>0.150840</td>\n",
       "      <td>Banks - Diversified</td>\n",
       "    </tr>\n",
       "  </tbody>\n",
       "</table>\n",
       "</div>"
      ],
      "text/plain": [
       "         Open        High         Low       Close    Volume  Dividends  \\\n",
       "0   83.199997   85.589996   83.029999   85.120003  21089700        0.0   \n",
       "1   48.700001   49.840000   48.599998   49.340000   4331600        0.0   \n",
       "2  215.169998  215.679993  211.059998  211.500000  21559000        0.0   \n",
       "3   60.939999   61.790001   60.680000   61.099998   4696900        0.0   \n",
       "4    4.890000    4.930000    4.870000    4.890000   1891200        0.0   \n",
       "\n",
       "   Stock Splits   EV/EBIT    Market Cap       ROIC  \\\n",
       "0           0.0 -0.045255  2.023515e+11 -17.456805   \n",
       "1           0.0       NaN  4.487946e+11        NaN   \n",
       "2           0.0 -0.256812  1.096955e+12  -3.076181   \n",
       "3           0.0  9.970887  7.655341e+10   0.079231   \n",
       "4           0.0  5.237325  7.407176e+10   0.150840   \n",
       "\n",
       "                           Industry  \n",
       "0                   Internet Retail  \n",
       "1    Internet Content & Information  \n",
       "2                    Semiconductors  \n",
       "3  Other Industrial Metals & Mining  \n",
       "4               Banks - Diversified  "
      ]
     },
     "execution_count": 116,
     "metadata": {},
     "output_type": "execute_result"
    }
   ],
   "source": [
    "predictionTarget = 'Best' # 'Best' for the best performing tickers \n",
    "\n",
    "if predictionTarget == 'Best':\n",
    "    adr_df = pd.read_csv(testFolder / 'tickers.csv')\n",
    "    symbols = adr_df['Ticker'].tolist()\n",
    "    test_df = [stockFetcher.getTickerData(symbol) for symbol in symbols]\n",
    "    test_df = pd.concat(test_df, ignore_index=True)  # Concatenate list of DataFrames into a single DataFrame\n",
    "\n",
    "else:\n",
    "    test_df = stockFetcher.getTickerData(predictionTarget)\n",
    "\n",
    "# Ensure test_df is a DataFrame\n",
    "if isinstance(test_df, dict):\n",
    "    test_df = pd.DataFrame([test_df])\n",
    "\n",
    "dl = learn.dls.test_dl(test_df)\n",
    "test_df.head()"
   ]
  },
  {
   "cell_type": "code",
   "execution_count": 117,
   "metadata": {},
   "outputs": [
    {
     "data": {
      "text/html": [
       "\n",
       "<style>\n",
       "    /* Turns off some styling */\n",
       "    progress {\n",
       "        /* gets rid of default border in Firefox and Opera. */\n",
       "        border: none;\n",
       "        /* Needs to be in here for Safari polyfill so background images work as expected. */\n",
       "        background-size: auto;\n",
       "    }\n",
       "    progress:not([value]), progress:not([value])::-webkit-progress-bar {\n",
       "        background: repeating-linear-gradient(45deg, #7e7e7e, #7e7e7e 10px, #5c5c5c 10px, #5c5c5c 20px);\n",
       "    }\n",
       "    .progress-bar-interrupted, .progress-bar-interrupted::-webkit-progress-bar {\n",
       "        background: #F44336;\n",
       "    }\n",
       "</style>\n"
      ],
      "text/plain": [
       "<IPython.core.display.HTML object>"
      ]
     },
     "metadata": {},
     "output_type": "display_data"
    },
    {
     "data": {
      "text/html": [],
      "text/plain": [
       "<IPython.core.display.HTML object>"
      ]
     },
     "metadata": {},
     "output_type": "display_data"
    },
    {
     "name": "stdout",
     "output_type": "stream",
     "text": [
      "Prediction for best performing tickers:\n",
      "VALE (Vale SA): 482.34%\n",
      "JD (JD.com Inc): 115.42%\n",
      "BIDU (Baidu Inc): 61.02%\n",
      "MFG (Mizuho Financial Group Inc): 49.07%\n",
      "SHOP (Shopify Inc): 46.98%\n",
      "PKX (POSCO Holdings Inc): 40.63%\n",
      "RELX (RELX PLC): 40.10%\n",
      "STM (STMicroelectronics NV): 39.19%\n",
      "RACE (Ferrari NV): 33.90%\n",
      "NFLX (Netflix Inc): 32.87%\n",
      "DEO (Diageo PLC): 30.71%\n",
      "PG (Procter & Gamble Co): 29.63%\n",
      "KO (Coca-Cola Co): 27.90%\n",
      "ZTO (ZTO Express Cayman Inc): 27.81%\n",
      "DIS (Walt Disney Co): 27.75%\n",
      "JNJ (Johnson & Johnson): 26.06%\n",
      "AZN (AstraZeneca PLC): 25.67%\n",
      "HD (Home Depot Inc): 22.46%\n",
      "XOM (Exxon Mobil Corp): 22.26%\n",
      "NSANY (Nissan Motor Co Ltd): 20.50%\n",
      "V (Visa Inc): 20.05%\n",
      "TSLA (Tesla Inc): 19.29%\n",
      "PEP (PepsiCo Inc): 17.53%\n",
      "SMFG (Sumitomo Mitsui Financial Group Inc): 14.50%\n",
      "PHG (Koninklijke Philips NV): 13.71%\n",
      "BRK.A (Berkshire Hathaway Inc): 13.27%\n",
      "ABT (Abbott Laboratories): 11.40%\n",
      "NVS (Novartis AG): 11.35%\n",
      "ABBV (AbbVie Inc): 11.17%\n",
      "IBN (ICICI Bank Ltd): 10.07%\n",
      "WMT (Walmart Inc): 10.05%\n",
      "GSK (GSK PLC): 9.35%\n",
      "FANUY (Fanuc Corp): 9.13%\n",
      "CMCSA (Comcast Corp): 8.35%\n",
      "AMX (América Móvil SAB de CV): 7.45%\n",
      "AAPL (Apple Inc): 6.85%\n",
      "BASFY (BASF SE): 6.84%\n",
      "SAN (Banco Santander SA): 6.73%\n",
      "LVMUY (LVMH Moet Hennessy Louis Vuitton SE): 5.83%\n",
      "TRP (TC Energy Corp): 5.63%\n",
      "SNY (Sanofi SA): 4.94%\n",
      "HMC (Honda Motor Co Ltd): 4.79%\n",
      "BHP (BHP Group Ltd): 4.60%\n",
      "MSFT (Microsoft Corp): 4.40%\n",
      "MA (Mastercard Inc): 2.81%\n",
      "RIO (Rio Tinto Group): 2.51%\n",
      "SAP (SAP SE): 2.50%\n",
      "KEP (Korea Electric Power Corp): 1.59%\n",
      "SLB (Schlumberger NV): 1.49%\n",
      "NTTYY (Nippon Telegraph and Telephone Corp): 1.43%\n",
      "TCEHY (Tencent Holdings Ltd): 0.91%\n",
      "ORCL (Oracle Corp): -0.52%\n",
      "VOD (Vodafone Group PLC): -0.55%\n",
      "BABA (Alibaba Group Holding Ltd): -1.97%\n",
      "CLPBY (China Longyuan Power Group Corp Ltd): -2.13%\n",
      "UL (Unilever PLC): -2.22%\n",
      "MRK (Merck & Co Inc): -2.37%\n",
      "BNS (Bank of Nova Scotia): -4.35%\n",
      "T (AT&T Inc): -4.61%\n",
      "INTC (Intel Corp): -4.89%\n",
      "MFC (Manulife Financial Corp): -4.92%\n",
      "RY (Royal Bank of Canada): -5.39%\n",
      "GOOGL (Alphabet Inc): -5.40%\n",
      "CX (Cemex SAB de CV): -5.49%\n",
      "BP (BP PLC): -5.55%\n",
      "HSBC (HSBC Holdings PLC): -5.85%\n",
      "LGGNY (Lloyds Banking Group PLC): -6.27%\n",
      "TM (Toyota Motor Corp): -6.61%\n",
      "AMZN (Amazon.com Inc): -7.26%\n",
      "PDD (Pinduoduo Inc): -8.38%\n",
      "SONY (Sony Group Corp): -10.63%\n",
      "NTES (NetEase Inc): -12.19%\n",
      "MT (ArcelorMittal SA): -13.09%\n",
      "ERIC (Ericsson): -14.09%\n",
      "BBVA (Banco Bilbao Vizcaya Argentaria SA): -14.20%\n",
      "TD (Toronto-Dominion Bank): -15.00%\n",
      "CM (Canadian Imperial Bank of Commerce): -15.01%\n",
      "VZ (Verizon Communications Inc): -15.84%\n",
      "CSCO (Cisco Systems Inc): -16.32%\n",
      "PFE (Pfizer Inc): -16.69%\n",
      "PYPL (PayPal Holdings Inc): -18.30%\n",
      "CNQ (Canadian Natural Resources Ltd): -18.56%\n",
      "ENIC (Enel Chile SA): -19.32%\n",
      "ITUB (Itaú Unibanco Holding SA): -20.00%\n",
      "ENB (Enbridge Inc): -20.17%\n",
      "VWAGY (Volkswagen AG): -24.77%\n",
      "INFY (Infosys Ltd): -25.80%\n",
      "SU (Suncor Energy Inc): -27.91%\n",
      "TEVA (Teva Pharmaceutical Industries Ltd): -28.99%\n",
      "TSM (Taiwan Semiconductor Manufacturing Co Ltd): -40.39%\n",
      "META (Meta Platforms Inc): -49.18%\n",
      "SIEGY (Siemens AG): -68.48%\n",
      "ASML (ASML Holding NV): -88.70%\n",
      "NVDA (NVIDIA Corp): -92.99%\n",
      "ADBE (Adobe Inc): -133.52%\n",
      "CVX (Chevron Corp): -133.87%\n",
      "Free money?!\n"
     ]
    }
   ],
   "source": [
    "if predictionTarget == 'Best':\n",
    "    prediction = learn.get_preds(dl=dl)\n",
    "    sorted_predictions = sorted(zip(symbols, prediction[0]), key=lambda x: x[1], reverse=True)\n",
    "    print(f\"Prediction for best performing tickers:\")\n",
    "    for symbol, pred in sorted_predictions:\n",
    "        company_name = adr_df[adr_df['Ticker'] == symbol]['Company'].values[0]\n",
    "        print(f\"{symbol} ({company_name}): {pred[0].item() * 100:.2f}%\")\n",
    "else:\n",
    "    prediction = learn.get_preds(dl=dl)\n",
    "    company_name = adr_df[adr_df['Ticker'] == predictionTarget]['Company'].values[0]\n",
    "    print(f\"Prediction for {predictionTarget} ({company_name}):\")\n",
    "    print(f\"{prediction[0][0][0].item() * 100:.2f}%\")\n",
    "\n",
    "print(\"Free money?!\")"
   ]
  }
 ],
 "metadata": {
  "kernelspec": {
   "display_name": "Python 3",
   "language": "python",
   "name": "python3"
  },
  "language_info": {
   "codemirror_mode": {
    "name": "ipython",
    "version": 3
   },
   "file_extension": ".py",
   "mimetype": "text/x-python",
   "name": "python",
   "nbconvert_exporter": "python",
   "pygments_lexer": "ipython3",
   "version": "3.12.4"
  }
 },
 "nbformat": 4,
 "nbformat_minor": 2
}
