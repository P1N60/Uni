{
 "cells": [
  {
   "cell_type": "code",
   "execution_count": 70,
   "metadata": {},
   "outputs": [],
   "source": [
    "# Install libraries on first run\n",
    "#! pip install -q ipynb fastai pathlib import_ipynb"
   ]
  },
  {
   "cell_type": "code",
   "execution_count": 71,
   "metadata": {},
   "outputs": [],
   "source": [
    "from fastai.tabular.all import *\n",
    "from pathlib import Path\n",
    "import import_ipynb\n",
    "import ipynb\n",
    "import stockFetcher"
   ]
  },
  {
   "cell_type": "code",
   "execution_count": 72,
   "metadata": {},
   "outputs": [],
   "source": [
    "testFolder = Path.cwd().parent / 'TestData'\n",
    "modelFolder = Path.cwd().parent.parent / 'TrainedModels'"
   ]
  },
  {
   "cell_type": "code",
   "execution_count": 73,
   "metadata": {},
   "outputs": [
    {
     "name": "stdout",
     "output_type": "stream",
     "text": [
      "Model files in modelFolder:\n",
      "countryGuesser.pkl\n",
      "stockScreenerV1.5.pkl\n",
      "animalClassifier.pkl\n",
      "stockScreenerV1.4.pkl\n",
      "stockScreenerV1.6.pkl\n",
      "leagueChampionClassifier.pkl\n",
      "stockScreenerV1.7.pkl\n",
      "politicianClassifier.pkl\n",
      "stockScreenerV1.3.pkl\n",
      "stockScreenerV1.2.pkl\n",
      "stockScreenerV1.0.pkl\n",
      "stockScreenerV1.1.pkl\n",
      "test.pkl\n",
      "stockScreenerV1.9.pkl\n",
      "stockScreenerV1.8.pkl\n",
      "stockScreenerV1.10.pkl\n"
     ]
    }
   ],
   "source": [
    "print('Model files in modelFolder:')\n",
    "for file in modelFolder.glob('*.pkl'):\n",
    "    print(file.name)"
   ]
  },
  {
   "cell_type": "code",
   "execution_count": 78,
   "metadata": {},
   "outputs": [
    {
     "data": {
      "text/plain": [
       "Model Name    stockScreenerV1.5\n",
       "Timestamp      2025-01-19 10:53\n",
       "MAE                       0.285\n",
       "RMSE                      0.362\n",
       "R2                       -0.996\n",
       "Name: 5, dtype: object"
      ]
     },
     "execution_count": 78,
     "metadata": {},
     "output_type": "execute_result"
    }
   ],
   "source": [
    "evaluations = pd.read_csv(modelFolder / 'modelEvaluations.csv')\n",
    "bestModel = evaluations.sort_values('MAE', ascending=True).iloc[1]\n",
    "bestModel.head()"
   ]
  },
  {
   "cell_type": "code",
   "execution_count": 75,
   "metadata": {},
   "outputs": [],
   "source": [
    "modelName = f\"{bestModel['Model Name']}.pkl\" # Change this if you want to try other models\n",
    "learn = load_learner(modelFolder / modelName)"
   ]
  },
  {
   "cell_type": "code",
   "execution_count": 76,
   "metadata": {},
   "outputs": [
    {
     "name": "stderr",
     "output_type": "stream",
     "text": [
      "$TOT: possibly delisted; no price data found  (period=1d) (Yahoo error = \"No data found, symbol may be delisted\")\n"
     ]
    },
    {
     "name": "stdout",
     "output_type": "stream",
     "text": [
      "Error fetching data for TOT: single positional indexer is out-of-bounds\n"
     ]
    },
    {
     "name": "stderr",
     "output_type": "stream",
     "text": [
      "$ABB: possibly delisted; no price data found  (period=1d) (Yahoo error = \"No data found, symbol may be delisted\")\n"
     ]
    },
    {
     "name": "stdout",
     "output_type": "stream",
     "text": [
      "Error fetching data for ABB: single positional indexer is out-of-bounds\n"
     ]
    },
    {
     "name": "stderr",
     "output_type": "stream",
     "text": [
      "$LFC: possibly delisted; no price data found  (period=1d) (Yahoo error = \"No data found, symbol may be delisted\")\n"
     ]
    },
    {
     "name": "stdout",
     "output_type": "stream",
     "text": [
      "Error fetching data for LFC: single positional indexer is out-of-bounds\n"
     ]
    },
    {
     "name": "stderr",
     "output_type": "stream",
     "text": [
      "$CHU: possibly delisted; no price data found  (period=1d) (Yahoo error = \"No data found, symbol may be delisted\")\n"
     ]
    },
    {
     "name": "stdout",
     "output_type": "stream",
     "text": [
      "Error fetching data for CHU: single positional indexer is out-of-bounds\n"
     ]
    },
    {
     "name": "stderr",
     "output_type": "stream",
     "text": [
      "$CEO: possibly delisted; no price data found  (period=1d) (Yahoo error = \"No data found, symbol may be delisted\")\n"
     ]
    },
    {
     "name": "stdout",
     "output_type": "stream",
     "text": [
      "Error fetching data for CEO: single positional indexer is out-of-bounds\n"
     ]
    },
    {
     "name": "stderr",
     "output_type": "stream",
     "text": [
      "$PTR: possibly delisted; no price data found  (period=1d) (Yahoo error = \"No data found, symbol may be delisted\")\n"
     ]
    },
    {
     "name": "stdout",
     "output_type": "stream",
     "text": [
      "Error fetching data for PTR: single positional indexer is out-of-bounds\n"
     ]
    },
    {
     "name": "stderr",
     "output_type": "stream",
     "text": [
      "$CS: possibly delisted; no price data found  (period=1d) (Yahoo error = \"No data found, symbol may be delisted\")\n"
     ]
    },
    {
     "name": "stdout",
     "output_type": "stream",
     "text": [
      "Error fetching data for CS: single positional indexer is out-of-bounds\n"
     ]
    },
    {
     "name": "stderr",
     "output_type": "stream",
     "text": [
      "$CNHI: possibly delisted; no price data found  (period=1d) (Yahoo error = \"No data found, symbol may be delisted\")\n",
      "404 Client Error: Not Found for url: https://query2.finance.yahoo.com/v10/finance/quoteSummary/CNHI?modules=financialData%2CquoteType%2CdefaultKeyStatistics%2CassetProfile%2CsummaryDetail&corsDomain=finance.yahoo.com&formatted=false&symbol=CNHI&crumb=e6KTOW33Ouy\n",
      "404 Client Error: Not Found for url: https://query2.finance.yahoo.com/v10/finance/quoteSummary/CNHI?modules=financialData%2CquoteType%2CdefaultKeyStatistics%2CassetProfile%2CsummaryDetail&corsDomain=finance.yahoo.com&formatted=false&symbol=CNHI&crumb=e6KTOW33Ouy\n"
     ]
    },
    {
     "name": "stdout",
     "output_type": "stream",
     "text": [
      "Error fetching data for CNHI: single positional indexer is out-of-bounds\n"
     ]
    },
    {
     "name": "stderr",
     "output_type": "stream",
     "text": [
      "$ORAN: possibly delisted; no price data found  (period=1d) (Yahoo error = \"No data found, symbol may be delisted\")\n",
      "404 Client Error: Not Found for url: https://query2.finance.yahoo.com/v10/finance/quoteSummary/ORAN?modules=financialData%2CquoteType%2CdefaultKeyStatistics%2CassetProfile%2CsummaryDetail&corsDomain=finance.yahoo.com&formatted=false&symbol=ORAN&crumb=e6KTOW33Ouy\n",
      "404 Client Error: Not Found for url: https://query2.finance.yahoo.com/v10/finance/quoteSummary/ORAN?modules=financialData%2CquoteType%2CdefaultKeyStatistics%2CassetProfile%2CsummaryDetail&corsDomain=finance.yahoo.com&formatted=false&symbol=ORAN&crumb=e6KTOW33Ouy\n"
     ]
    },
    {
     "name": "stdout",
     "output_type": "stream",
     "text": [
      "Error fetching data for ORAN: single positional indexer is out-of-bounds\n"
     ]
    },
    {
     "name": "stderr",
     "output_type": "stream",
     "text": [
      "$RDS-A: possibly delisted; no price data found  (period=1d) (Yahoo error = \"No data found, symbol may be delisted\")\n"
     ]
    },
    {
     "name": "stdout",
     "output_type": "stream",
     "text": [
      "Error fetching data for RDS-A: single positional indexer is out-of-bounds\n"
     ]
    },
    {
     "name": "stderr",
     "output_type": "stream",
     "text": [
      "$RDS-B: possibly delisted; no price data found  (period=1d) (Yahoo error = \"No data found, symbol may be delisted\")\n"
     ]
    },
    {
     "name": "stdout",
     "output_type": "stream",
     "text": [
      "Error fetching data for RDS-B: single positional indexer is out-of-bounds\n"
     ]
    },
    {
     "name": "stderr",
     "output_type": "stream",
     "text": [
      "$ATCO: possibly delisted; no price data found  (period=1d) (Yahoo error = \"No data found, symbol may be delisted\")\n"
     ]
    },
    {
     "name": "stdout",
     "output_type": "stream",
     "text": [
      "Error fetching data for ATCO: single positional indexer is out-of-bounds\n"
     ]
    },
    {
     "name": "stderr",
     "output_type": "stream",
     "text": [
      "$CN: possibly delisted; no price data found  (period=1d)\n"
     ]
    },
    {
     "name": "stdout",
     "output_type": "stream",
     "text": [
      "Error fetching data for CN: single positional indexer is out-of-bounds\n"
     ]
    },
    {
     "name": "stderr",
     "output_type": "stream",
     "text": [
      "$MTL: possibly delisted; no price data found  (period=1d) (Yahoo error = \"No data found, symbol may be delisted\")\n"
     ]
    },
    {
     "name": "stdout",
     "output_type": "stream",
     "text": [
      "Error fetching data for MTL: single positional indexer is out-of-bounds\n"
     ]
    },
    {
     "name": "stderr",
     "output_type": "stream",
     "text": [
      "/var/folders/ch/yfh31z5s3cq4cw_md59n4qw40000gn/T/ipykernel_81972/406433226.py:7: FutureWarning: The behavior of DataFrame concatenation with empty or all-NA entries is deprecated. In a future version, this will no longer exclude empty or all-NA columns when determining the result dtypes. To retain the old behavior, exclude the relevant entries before the concat operation.\n",
      "  test_df = pd.concat(test_df, ignore_index=True)  # Concatenate list of DataFrames into a single DataFrame\n",
      "/Library/Frameworks/Python.framework/Versions/3.12/lib/python3.12/site-packages/fastai/tabular/core.py:314: FutureWarning: A value is trying to be set on a copy of a DataFrame or Series through chained assignment using an inplace method.\n",
      "The behavior will change in pandas 3.0. This inplace method will never work because the intermediate object on which we are setting values always behaves as a copy.\n",
      "\n",
      "For example, when doing 'df[col].method(value, inplace=True)', try using 'df.method({col: value}, inplace=True)' or df[col] = df[col].method(value) instead, to perform the operation inplace on the original object.\n",
      "\n",
      "\n",
      "  to[n].fillna(self.na_dict[n], inplace=True)\n",
      "/Library/Frameworks/Python.framework/Versions/3.12/lib/python3.12/site-packages/fastai/tabular/core.py:314: FutureWarning: A value is trying to be set on a copy of a DataFrame or Series through chained assignment using an inplace method.\n",
      "The behavior will change in pandas 3.0. This inplace method will never work because the intermediate object on which we are setting values always behaves as a copy.\n",
      "\n",
      "For example, when doing 'df[col].method(value, inplace=True)', try using 'df.method({col: value}, inplace=True)' or df[col] = df[col].method(value) instead, to perform the operation inplace on the original object.\n",
      "\n",
      "\n",
      "  to[n].fillna(self.na_dict[n], inplace=True)\n"
     ]
    },
    {
     "data": {
      "text/html": [
       "<div>\n",
       "<style scoped>\n",
       "    .dataframe tbody tr th:only-of-type {\n",
       "        vertical-align: middle;\n",
       "    }\n",
       "\n",
       "    .dataframe tbody tr th {\n",
       "        vertical-align: top;\n",
       "    }\n",
       "\n",
       "    .dataframe thead th {\n",
       "        text-align: right;\n",
       "    }\n",
       "</style>\n",
       "<table border=\"1\" class=\"dataframe\">\n",
       "  <thead>\n",
       "    <tr style=\"text-align: right;\">\n",
       "      <th></th>\n",
       "      <th>Open</th>\n",
       "      <th>High</th>\n",
       "      <th>Low</th>\n",
       "      <th>Close</th>\n",
       "      <th>Volume</th>\n",
       "      <th>Dividends</th>\n",
       "      <th>Stock Splits</th>\n",
       "      <th>EV/EBIT</th>\n",
       "      <th>Market Cap</th>\n",
       "      <th>ROIC</th>\n",
       "      <th>Industry</th>\n",
       "    </tr>\n",
       "  </thead>\n",
       "  <tbody>\n",
       "    <tr>\n",
       "      <th>0</th>\n",
       "      <td>83.199997</td>\n",
       "      <td>85.589996</td>\n",
       "      <td>83.029999</td>\n",
       "      <td>85.120003</td>\n",
       "      <td>21089700</td>\n",
       "      <td>0.0</td>\n",
       "      <td>0.0</td>\n",
       "      <td>-0.045255</td>\n",
       "      <td>2.023515e+11</td>\n",
       "      <td>-17.456805</td>\n",
       "      <td>Internet Retail</td>\n",
       "    </tr>\n",
       "    <tr>\n",
       "      <th>1</th>\n",
       "      <td>48.700001</td>\n",
       "      <td>49.840000</td>\n",
       "      <td>48.599998</td>\n",
       "      <td>49.340000</td>\n",
       "      <td>4331600</td>\n",
       "      <td>0.0</td>\n",
       "      <td>0.0</td>\n",
       "      <td>NaN</td>\n",
       "      <td>4.487946e+11</td>\n",
       "      <td>NaN</td>\n",
       "      <td>Internet Content &amp; Information</td>\n",
       "    </tr>\n",
       "    <tr>\n",
       "      <th>2</th>\n",
       "      <td>215.169998</td>\n",
       "      <td>215.679993</td>\n",
       "      <td>211.059998</td>\n",
       "      <td>211.500000</td>\n",
       "      <td>21559000</td>\n",
       "      <td>0.0</td>\n",
       "      <td>0.0</td>\n",
       "      <td>-0.256812</td>\n",
       "      <td>1.096955e+12</td>\n",
       "      <td>-3.076181</td>\n",
       "      <td>Semiconductors</td>\n",
       "    </tr>\n",
       "    <tr>\n",
       "      <th>3</th>\n",
       "      <td>60.939999</td>\n",
       "      <td>61.790001</td>\n",
       "      <td>60.680000</td>\n",
       "      <td>61.099998</td>\n",
       "      <td>4696900</td>\n",
       "      <td>0.0</td>\n",
       "      <td>0.0</td>\n",
       "      <td>9.970887</td>\n",
       "      <td>7.655341e+10</td>\n",
       "      <td>0.079231</td>\n",
       "      <td>Other Industrial Metals &amp; Mining</td>\n",
       "    </tr>\n",
       "    <tr>\n",
       "      <th>4</th>\n",
       "      <td>4.890000</td>\n",
       "      <td>4.930000</td>\n",
       "      <td>4.870000</td>\n",
       "      <td>4.890000</td>\n",
       "      <td>1891200</td>\n",
       "      <td>0.0</td>\n",
       "      <td>0.0</td>\n",
       "      <td>5.237325</td>\n",
       "      <td>7.407176e+10</td>\n",
       "      <td>0.150840</td>\n",
       "      <td>Banks - Diversified</td>\n",
       "    </tr>\n",
       "  </tbody>\n",
       "</table>\n",
       "</div>"
      ],
      "text/plain": [
       "         Open        High         Low       Close    Volume  Dividends  \\\n",
       "0   83.199997   85.589996   83.029999   85.120003  21089700        0.0   \n",
       "1   48.700001   49.840000   48.599998   49.340000   4331600        0.0   \n",
       "2  215.169998  215.679993  211.059998  211.500000  21559000        0.0   \n",
       "3   60.939999   61.790001   60.680000   61.099998   4696900        0.0   \n",
       "4    4.890000    4.930000    4.870000    4.890000   1891200        0.0   \n",
       "\n",
       "   Stock Splits   EV/EBIT    Market Cap       ROIC  \\\n",
       "0           0.0 -0.045255  2.023515e+11 -17.456805   \n",
       "1           0.0       NaN  4.487946e+11        NaN   \n",
       "2           0.0 -0.256812  1.096955e+12  -3.076181   \n",
       "3           0.0  9.970887  7.655341e+10   0.079231   \n",
       "4           0.0  5.237325  7.407176e+10   0.150840   \n",
       "\n",
       "                           Industry  \n",
       "0                   Internet Retail  \n",
       "1    Internet Content & Information  \n",
       "2                    Semiconductors  \n",
       "3  Other Industrial Metals & Mining  \n",
       "4               Banks - Diversified  "
      ]
     },
     "execution_count": 76,
     "metadata": {},
     "output_type": "execute_result"
    }
   ],
   "source": [
    "predictionTarget = 'Best' # 'Best' for the best performing tickers \n",
    "\n",
    "if predictionTarget == 'Best':\n",
    "    adr_df = pd.read_csv(testFolder / 'adrTickers.csv')\n",
    "    symbols = adr_df['Ticker'].tolist()\n",
    "    test_df = [stockFetcher.getTickerData(symbol) for symbol in symbols]\n",
    "    test_df = pd.concat(test_df, ignore_index=True)  # Concatenate list of DataFrames into a single DataFrame\n",
    "\n",
    "else:\n",
    "    test_df = stockFetcher.getTickerData(predictionTarget)\n",
    "\n",
    "# Ensure test_df is a DataFrame\n",
    "if isinstance(test_df, dict):\n",
    "    test_df = pd.DataFrame([test_df])\n",
    "\n",
    "dl = learn.dls.test_dl(test_df)\n",
    "test_df.head()"
   ]
  },
  {
   "cell_type": "code",
   "execution_count": 77,
   "metadata": {},
   "outputs": [
    {
     "data": {
      "text/html": [
       "\n",
       "<style>\n",
       "    /* Turns off some styling */\n",
       "    progress {\n",
       "        /* gets rid of default border in Firefox and Opera. */\n",
       "        border: none;\n",
       "        /* Needs to be in here for Safari polyfill so background images work as expected. */\n",
       "        background-size: auto;\n",
       "    }\n",
       "    progress:not([value]), progress:not([value])::-webkit-progress-bar {\n",
       "        background: repeating-linear-gradient(45deg, #7e7e7e, #7e7e7e 10px, #5c5c5c 10px, #5c5c5c 20px);\n",
       "    }\n",
       "    .progress-bar-interrupted, .progress-bar-interrupted::-webkit-progress-bar {\n",
       "        background: #F44336;\n",
       "    }\n",
       "</style>\n"
      ],
      "text/plain": [
       "<IPython.core.display.HTML object>"
      ]
     },
     "metadata": {},
     "output_type": "display_data"
    },
    {
     "data": {
      "text/html": [],
      "text/plain": [
       "<IPython.core.display.HTML object>"
      ]
     },
     "metadata": {},
     "output_type": "display_data"
    },
    {
     "name": "stdout",
     "output_type": "stream",
     "text": [
      "Prediction for best performing tickers:\n",
      "TEVA: 83500.68%\n",
      "BABA: 812.53%\n",
      "PHG: 589.91%\n",
      "CS: 254.85%\n",
      "CNHI: 90.07%\n",
      "BHP: 74.88%\n",
      "PKX: 73.22%\n",
      "HMC: 63.86%\n",
      "PTR: 63.76%\n",
      "RELX: 63.74%\n",
      "CHU: 58.59%\n",
      "MT: 54.31%\n",
      "GSK: 54.24%\n",
      "CX: 53.54%\n",
      "NTES: 53.32%\n",
      "LFC: 51.36%\n",
      "DEO: 47.04%\n",
      "ENB: 44.43%\n",
      "FANUY: 35.62%\n",
      "KEP: 29.82%\n",
      "LGGNY: 29.52%\n",
      "UL: 28.68%\n",
      "SAN: 28.10%\n",
      "RACE: 27.80%\n",
      "INFY: 26.34%\n",
      "AMX: 20.19%\n",
      "BIDU: 17.96%\n",
      "BNS: 17.51%\n",
      "RY: 17.35%\n",
      "TM: 13.29%\n",
      "ZTO: 13.26%\n",
      "ERIC: 12.31%\n",
      "ITUB: 10.81%\n",
      "LVMUY: 9.72%\n",
      "SNY: 8.08%\n",
      "VALE: 7.71%\n",
      "ASML: 6.91%\n",
      "NVS: 4.94%\n",
      "VOD: 4.69%\n",
      "CM: 3.92%\n",
      "VWAGY: 3.04%\n",
      "ABB: 2.88%\n",
      "BBVA: 2.88%\n",
      "STM: 2.36%\n",
      "BASFY: 1.76%\n",
      "SLB: 1.39%\n",
      "ENIC: -0.58%\n",
      "NTTYY: -0.97%\n",
      "AZN: -1.55%\n",
      "SAP: -3.10%\n",
      "MFG: -3.10%\n",
      "HSBC: -3.24%\n",
      "CEO: -4.44%\n",
      "BP: -6.26%\n",
      "SONY: -6.57%\n",
      "RDS-B: -6.77%\n",
      "JD: -7.00%\n",
      "SIEGY: -9.21%\n",
      "RDS-A: -9.49%\n",
      "TCEHY: -11.56%\n",
      "ORAN: -11.89%\n",
      "RIO: -12.08%\n",
      "IBN: -13.58%\n",
      "TSM: -13.97%\n",
      "SMFG: -14.03%\n",
      "CLPBY: -16.74%\n",
      "TOT: -16.87%\n",
      "VALE: -19.16%\n",
      "PDD: -20.65%\n",
      "TD: -21.52%\n",
      "NSANY: -26.68%\n",
      "ABBV: -27.84%\n"
     ]
    }
   ],
   "source": [
    "if predictionTarget == 'Best':\n",
    "    prediction = learn.get_preds(dl=dl)\n",
    "    sorted_predictions = sorted(zip(symbols, prediction[0]), key=lambda x: x[1], reverse=True)\n",
    "    print(f\"Prediction for best performing tickers:\")\n",
    "    for symbol, pred in sorted_predictions:\n",
    "        print(f\"{symbol}: {pred[0].item() * 100:.2f}%\")\n",
    "else:\n",
    "    prediction = learn.get_preds(dl=dl)\n",
    "    print(f\"Prediction for {predictionTarget}:\")\n",
    "    print(f\"{prediction[0][0][0].item() * 100:.2f}%\")"
   ]
  },
  {
   "cell_type": "code",
   "execution_count": null,
   "metadata": {},
   "outputs": [],
   "source": []
  }
 ],
 "metadata": {
  "kernelspec": {
   "display_name": "Python 3",
   "language": "python",
   "name": "python3"
  },
  "language_info": {
   "codemirror_mode": {
    "name": "ipython",
    "version": 3
   },
   "file_extension": ".py",
   "mimetype": "text/x-python",
   "name": "python",
   "nbconvert_exporter": "python",
   "pygments_lexer": "ipython3",
   "version": "3.12.4"
  }
 },
 "nbformat": 4,
 "nbformat_minor": 2
}
