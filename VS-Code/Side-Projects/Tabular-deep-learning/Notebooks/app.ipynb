{
 "cells": [
  {
   "cell_type": "code",
   "execution_count": 3,
   "metadata": {},
   "outputs": [],
   "source": [
    "# Install libraries on first run\n",
    "#! pip install -q ipynb fastai pathlib"
   ]
  },
  {
   "cell_type": "code",
   "execution_count": 4,
   "metadata": {},
   "outputs": [],
   "source": [
    "from fastai.tabular.all import *\n",
    "from pathlib import Path"
   ]
  },
  {
   "cell_type": "code",
   "execution_count": 9,
   "metadata": {},
   "outputs": [
    {
     "name": "stdout",
     "output_type": "stream",
     "text": [
      "Model files in modelFolder:\n",
      "countryGuesser.pkl\n",
      "animalClassifier.pkl\n",
      "leagueChampionClassifier.pkl\n",
      "politicianClassifier.pkl\n",
      "test.pkl\n",
      "stockScreener.pkl\n"
     ]
    }
   ],
   "source": [
    "modelFolder = Path.cwd().parent.parent / 'TrainedModels'\n",
    "print('Model files in modelFolder:')\n",
    "for file in modelFolder.glob('*.pkl'):\n",
    "    print(file.name)"
   ]
  },
  {
   "cell_type": "code",
   "execution_count": 10,
   "metadata": {},
   "outputs": [],
   "source": [
    "modelName = 'stockScreenerV1.pkl'\n",
    "learn = load_learner(modelFolder / modelName)"
   ]
  },
  {
   "cell_type": "code",
   "execution_count": 19,
   "metadata": {},
   "outputs": [
    {
     "name": "stdout",
     "output_type": "stream",
     "text": [
      "Static Data for TSLA:\n",
      "  Total Debt: 12782999552\n",
      "  Cash: 33648001024\n",
      "  Shares Outstanding: 3210060032\n",
      "Approximated EBIT for TSLA: 14572500172.8\n"
     ]
    }
   ],
   "source": [
    "predictionTarget = 'TSLA'\n",
    "\n",
    "from ipynb.fs.full.stockFetcher import getTickerData\n",
    "\n",
    "test_df = getTickerData(predictionTarget)\n",
    "\n",
    "# Ensure test_df is a DataFrame\n",
    "if isinstance(test_df, dict):\n",
    "\ttest_df = pd.DataFrame([test_df])\n",
    "\n",
    "dl = learn.dls.test_dl(test_df)"
   ]
  },
  {
   "cell_type": "code",
   "execution_count": 21,
   "metadata": {},
   "outputs": [
    {
     "data": {
      "text/html": [
       "\n",
       "<style>\n",
       "    /* Turns off some styling */\n",
       "    progress {\n",
       "        /* gets rid of default border in Firefox and Opera. */\n",
       "        border: none;\n",
       "        /* Needs to be in here for Safari polyfill so background images work as expected. */\n",
       "        background-size: auto;\n",
       "    }\n",
       "    progress:not([value]), progress:not([value])::-webkit-progress-bar {\n",
       "        background: repeating-linear-gradient(45deg, #7e7e7e, #7e7e7e 10px, #5c5c5c 10px, #5c5c5c 20px);\n",
       "    }\n",
       "    .progress-bar-interrupted, .progress-bar-interrupted::-webkit-progress-bar {\n",
       "        background: #F44336;\n",
       "    }\n",
       "</style>\n"
      ],
      "text/plain": [
       "<IPython.core.display.HTML object>"
      ]
     },
     "metadata": {},
     "output_type": "display_data"
    },
    {
     "data": {
      "text/html": [],
      "text/plain": [
       "<IPython.core.display.HTML object>"
      ]
     },
     "metadata": {},
     "output_type": "display_data"
    },
    {
     "name": "stdout",
     "output_type": "stream",
     "text": [
      "Prediction for TSLA:\n",
      "-25.81%\n"
     ]
    }
   ],
   "source": [
    "prediction = learn.get_preds(dl=dl)\n",
    "print(f\"Prediction for {predictionTarget}:\")\n",
    "print(f\"{prediction[0][0][0].item() * 100:.2f}%\")"
   ]
  },
  {
   "cell_type": "code",
   "execution_count": null,
   "metadata": {},
   "outputs": [],
   "source": []
  }
 ],
 "metadata": {
  "kernelspec": {
   "display_name": "Python 3",
   "language": "python",
   "name": "python3"
  },
  "language_info": {
   "codemirror_mode": {
    "name": "ipython",
    "version": 3
   },
   "file_extension": ".py",
   "mimetype": "text/x-python",
   "name": "python",
   "nbconvert_exporter": "python",
   "pygments_lexer": "ipython3",
   "version": "3.12.4"
  }
 },
 "nbformat": 4,
 "nbformat_minor": 2
}
