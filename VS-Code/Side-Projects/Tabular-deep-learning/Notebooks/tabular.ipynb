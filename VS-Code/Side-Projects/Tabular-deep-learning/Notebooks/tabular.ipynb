{
 "cells": [
  {
   "cell_type": "markdown",
   "metadata": {},
   "source": [
    "## Tabular training"
   ]
  },
  {
   "cell_type": "code",
   "execution_count": 7,
   "metadata": {},
   "outputs": [],
   "source": [
    "# Install libraries on first run\n",
    "#! pip install -q ipynb fastai pathlib pandas"
   ]
  },
  {
   "cell_type": "markdown",
   "metadata": {},
   "source": [
    "To illustrate the tabular application, we will use the example of the Adult dataset where we have to predict if a person is earning more or less than $50k per year using some general data."
   ]
  },
  {
   "cell_type": "code",
   "execution_count": 8,
   "metadata": {},
   "outputs": [],
   "source": [
    "from fastai.tabular.all import *\n",
    "from pathlib import Path\n",
    "import pandas as pd"
   ]
  },
  {
   "cell_type": "markdown",
   "metadata": {},
   "source": [
    "## Variables"
   ]
  },
  {
   "cell_type": "code",
   "execution_count": 9,
   "metadata": {},
   "outputs": [],
   "source": [
    "modelName = 'stockScreenerV5.pkl'\n",
    "trainingDataName = 'stockData.csv'\n",
    "trainingFolder = Path.cwd().parent / 'TrainingData'\n",
    "modelFolder = Path.cwd().parent.parent / 'TrainedModels'\n",
    "\n",
    "# Training parameters\n",
    "yNames = ['Future Year Change']\n",
    "catNames = ['Industry']\n",
    "contNames = [\n",
    "    'Open',\n",
    "    'High', \n",
    "    'Low', \n",
    "    'Close', \n",
    "    'Volume', \n",
    "    'Dividends', \n",
    "    'Stock Splits', \n",
    "    'EV/EBIT', \n",
    "    'ROIC'\n",
    "]"
   ]
  },
  {
   "cell_type": "markdown",
   "metadata": {},
   "source": [
    "We can download a sample of this dataset with the usual untar_data command:"
   ]
  },
  {
   "cell_type": "code",
   "execution_count": 10,
   "metadata": {},
   "outputs": [
    {
     "data": {
      "text/plain": [
       "(#3) [Path('app.ipynb'),Path('stockFetcher.ipynb'),Path('tabular.ipynb')]"
      ]
     },
     "execution_count": 10,
     "metadata": {},
     "output_type": "execute_result"
    }
   ],
   "source": [
    "dataPath = Path()\n",
    "dataPath.ls()"
   ]
  },
  {
   "cell_type": "markdown",
   "metadata": {},
   "source": [
    "Then we can have a look at how the data is structured:"
   ]
  },
  {
   "cell_type": "code",
   "execution_count": 11,
   "metadata": {},
   "outputs": [
    {
     "data": {
      "text/html": [
       "<div>\n",
       "<style scoped>\n",
       "    .dataframe tbody tr th:only-of-type {\n",
       "        vertical-align: middle;\n",
       "    }\n",
       "\n",
       "    .dataframe tbody tr th {\n",
       "        vertical-align: top;\n",
       "    }\n",
       "\n",
       "    .dataframe thead th {\n",
       "        text-align: right;\n",
       "    }\n",
       "</style>\n",
       "<table border=\"1\" class=\"dataframe\">\n",
       "  <thead>\n",
       "    <tr style=\"text-align: right;\">\n",
       "      <th></th>\n",
       "      <th>Date</th>\n",
       "      <th>Open</th>\n",
       "      <th>High</th>\n",
       "      <th>Low</th>\n",
       "      <th>Close</th>\n",
       "      <th>Volume</th>\n",
       "      <th>Dividends</th>\n",
       "      <th>Stock Splits</th>\n",
       "      <th>Future Year Change</th>\n",
       "      <th>Ticker</th>\n",
       "      <th>Industry</th>\n",
       "      <th>EV/EBIT</th>\n",
       "      <th>ROIC</th>\n",
       "    </tr>\n",
       "  </thead>\n",
       "  <tbody>\n",
       "    <tr>\n",
       "      <th>0</th>\n",
       "      <td>2019-01-17 00:00:00-05:00</td>\n",
       "      <td>36.820317</td>\n",
       "      <td>37.646508</td>\n",
       "      <td>36.595861</td>\n",
       "      <td>37.216698</td>\n",
       "      <td>119284800</td>\n",
       "      <td>0.0</td>\n",
       "      <td>0.0</td>\n",
       "      <td>1.075702</td>\n",
       "      <td>AAPL</td>\n",
       "      <td>Consumer Electronics</td>\n",
       "      <td>10.460257</td>\n",
       "      <td>0.075524</td>\n",
       "    </tr>\n",
       "    <tr>\n",
       "      <th>1</th>\n",
       "      <td>2019-01-18 00:00:00-05:00</td>\n",
       "      <td>37.608313</td>\n",
       "      <td>37.699051</td>\n",
       "      <td>37.245361</td>\n",
       "      <td>37.445942</td>\n",
       "      <td>135004000</td>\n",
       "      <td>0.0</td>\n",
       "      <td>0.0</td>\n",
       "      <td>1.049015</td>\n",
       "      <td>AAPL</td>\n",
       "      <td>Consumer Electronics</td>\n",
       "      <td>10.519030</td>\n",
       "      <td>0.075102</td>\n",
       "    </tr>\n",
       "    <tr>\n",
       "      <th>2</th>\n",
       "      <td>2019-01-22 00:00:00-05:00</td>\n",
       "      <td>37.348042</td>\n",
       "      <td>37.424451</td>\n",
       "      <td>36.443052</td>\n",
       "      <td>36.605427</td>\n",
       "      <td>121576000</td>\n",
       "      <td>0.0</td>\n",
       "      <td>0.0</td>\n",
       "      <td>1.103545</td>\n",
       "      <td>AAPL</td>\n",
       "      <td>Consumer Electronics</td>\n",
       "      <td>10.303540</td>\n",
       "      <td>0.076673</td>\n",
       "    </tr>\n",
       "    <tr>\n",
       "      <th>3</th>\n",
       "      <td>2019-01-23 00:00:00-05:00</td>\n",
       "      <td>36.808387</td>\n",
       "      <td>37.044783</td>\n",
       "      <td>36.223369</td>\n",
       "      <td>36.753468</td>\n",
       "      <td>92522400</td>\n",
       "      <td>0.0</td>\n",
       "      <td>0.0</td>\n",
       "      <td>1.105161</td>\n",
       "      <td>AAPL</td>\n",
       "      <td>Consumer Electronics</td>\n",
       "      <td>10.341495</td>\n",
       "      <td>0.076391</td>\n",
       "    </tr>\n",
       "    <tr>\n",
       "      <th>4</th>\n",
       "      <td>2019-01-24 00:00:00-05:00</td>\n",
       "      <td>36.798824</td>\n",
       "      <td>36.887172</td>\n",
       "      <td>36.232910</td>\n",
       "      <td>36.462139</td>\n",
       "      <td>101766000</td>\n",
       "      <td>0.0</td>\n",
       "      <td>0.0</td>\n",
       "      <td>1.115866</td>\n",
       "      <td>AAPL</td>\n",
       "      <td>Consumer Electronics</td>\n",
       "      <td>10.266805</td>\n",
       "      <td>0.076947</td>\n",
       "    </tr>\n",
       "  </tbody>\n",
       "</table>\n",
       "</div>"
      ],
      "text/plain": [
       "                        Date       Open       High        Low      Close  \\\n",
       "0  2019-01-17 00:00:00-05:00  36.820317  37.646508  36.595861  37.216698   \n",
       "1  2019-01-18 00:00:00-05:00  37.608313  37.699051  37.245361  37.445942   \n",
       "2  2019-01-22 00:00:00-05:00  37.348042  37.424451  36.443052  36.605427   \n",
       "3  2019-01-23 00:00:00-05:00  36.808387  37.044783  36.223369  36.753468   \n",
       "4  2019-01-24 00:00:00-05:00  36.798824  36.887172  36.232910  36.462139   \n",
       "\n",
       "      Volume  Dividends  Stock Splits  Future Year Change Ticker  \\\n",
       "0  119284800        0.0           0.0            1.075702   AAPL   \n",
       "1  135004000        0.0           0.0            1.049015   AAPL   \n",
       "2  121576000        0.0           0.0            1.103545   AAPL   \n",
       "3   92522400        0.0           0.0            1.105161   AAPL   \n",
       "4  101766000        0.0           0.0            1.115866   AAPL   \n",
       "\n",
       "               Industry    EV/EBIT      ROIC  \n",
       "0  Consumer Electronics  10.460257  0.075524  \n",
       "1  Consumer Electronics  10.519030  0.075102  \n",
       "2  Consumer Electronics  10.303540  0.076673  \n",
       "3  Consumer Electronics  10.341495  0.076391  \n",
       "4  Consumer Electronics  10.266805  0.076947  "
      ]
     },
     "execution_count": 11,
     "metadata": {},
     "output_type": "execute_result"
    }
   ],
   "source": [
    "df = pd.read_csv(trainingFolder/trainingDataName)\n",
    "df.head()"
   ]
  },
  {
   "cell_type": "markdown",
   "metadata": {},
   "source": [
    "Some of the columns are continuous (like age) and we will treat them as float numbers we can feed our model directly. Others are categorical (like workclass or education) and we will convert them to a unique index that we will feed to embedding layers. We can specify our categorical and continuous column names, as well as the name of the dependent variable in TabularDataLoaders factory methods:"
   ]
  },
  {
   "cell_type": "code",
   "execution_count": 12,
   "metadata": {},
   "outputs": [
    {
     "name": "stderr",
     "output_type": "stream",
     "text": [
      "c:\\Users\\Gamer\\miniconda3\\Lib\\site-packages\\fastai\\tabular\\core.py:314: FutureWarning: A value is trying to be set on a copy of a DataFrame or Series through chained assignment using an inplace method.\n",
      "The behavior will change in pandas 3.0. This inplace method will never work because the intermediate object on which we are setting values always behaves as a copy.\n",
      "\n",
      "For example, when doing 'df[col].method(value, inplace=True)', try using 'df.method({col: value}, inplace=True)' or df[col] = df[col].method(value) instead, to perform the operation inplace on the original object.\n",
      "\n",
      "\n",
      "  to[n].fillna(self.na_dict[n], inplace=True)\n",
      "c:\\Users\\Gamer\\miniconda3\\Lib\\site-packages\\fastai\\tabular\\core.py:314: FutureWarning: A value is trying to be set on a copy of a DataFrame or Series through chained assignment using an inplace method.\n",
      "The behavior will change in pandas 3.0. This inplace method will never work because the intermediate object on which we are setting values always behaves as a copy.\n",
      "\n",
      "For example, when doing 'df[col].method(value, inplace=True)', try using 'df.method({col: value}, inplace=True)' or df[col] = df[col].method(value) instead, to perform the operation inplace on the original object.\n",
      "\n",
      "\n",
      "  to[n].fillna(self.na_dict[n], inplace=True)\n"
     ]
    }
   ],
   "source": [
    "dls = TabularDataLoaders.from_csv(trainingFolder/trainingDataName, path=dataPath, \n",
    "    y_names=yNames,\n",
    "    cat_names=catNames,\n",
    "    cont_names=contNames,\n",
    "    procs = [Categorify, FillMissing, Normalize])"
   ]
  },
  {
   "cell_type": "markdown",
   "metadata": {},
   "source": [
    "The last part is the list of pre-processors we apply to our data:\n",
    "\n",
    "* Categorify is going to take every categorical variable and make a map from integer to unique categories, then replace the values by the corresponding index.\n",
    "* FillMissing will fill the missing values in the continuous variables by the median of existing values (you can choose a specific value if you prefer)\n",
    "* Normalize will normalize the continuous variables (subtract the mean and divide by the std)\n",
    "\n",
    "To further expose what’s going on below the surface, let’s rewrite this utilizing fastai’s TabularPandas class. We will need to make one adjustment, which is defining how we want to split our data. By default the factory method above used a random 80/20 split, so we will do the same:"
   ]
  },
  {
   "cell_type": "code",
   "execution_count": 13,
   "metadata": {},
   "outputs": [],
   "source": [
    "splits = RandomSplitter(valid_pct=0.2)(range_of(df))"
   ]
  },
  {
   "cell_type": "code",
   "execution_count": 14,
   "metadata": {},
   "outputs": [
    {
     "name": "stderr",
     "output_type": "stream",
     "text": [
      "c:\\Users\\Gamer\\miniconda3\\Lib\\site-packages\\fastai\\tabular\\core.py:314: FutureWarning: A value is trying to be set on a copy of a DataFrame or Series through chained assignment using an inplace method.\n",
      "The behavior will change in pandas 3.0. This inplace method will never work because the intermediate object on which we are setting values always behaves as a copy.\n",
      "\n",
      "For example, when doing 'df[col].method(value, inplace=True)', try using 'df.method({col: value}, inplace=True)' or df[col] = df[col].method(value) instead, to perform the operation inplace on the original object.\n",
      "\n",
      "\n",
      "  to[n].fillna(self.na_dict[n], inplace=True)\n",
      "c:\\Users\\Gamer\\miniconda3\\Lib\\site-packages\\fastai\\tabular\\core.py:314: FutureWarning: A value is trying to be set on a copy of a DataFrame or Series through chained assignment using an inplace method.\n",
      "The behavior will change in pandas 3.0. This inplace method will never work because the intermediate object on which we are setting values always behaves as a copy.\n",
      "\n",
      "For example, when doing 'df[col].method(value, inplace=True)', try using 'df.method({col: value}, inplace=True)' or df[col] = df[col].method(value) instead, to perform the operation inplace on the original object.\n",
      "\n",
      "\n",
      "  to[n].fillna(self.na_dict[n], inplace=True)\n"
     ]
    }
   ],
   "source": [
    "to = TabularPandas(df, procs=[Categorify, FillMissing,Normalize],\n",
    "    y_names=yNames,\n",
    "    cat_names = catNames,\n",
    "    cont_names = contNames,\n",
    "    splits=splits)"
   ]
  },
  {
   "cell_type": "markdown",
   "metadata": {},
   "source": [
    "Once we build our TabularPandas object, our data is completely preprocessed as seen below:"
   ]
  },
  {
   "cell_type": "code",
   "execution_count": 15,
   "metadata": {},
   "outputs": [
    {
     "data": {
      "text/html": [
       "<div>\n",
       "<style scoped>\n",
       "    .dataframe tbody tr th:only-of-type {\n",
       "        vertical-align: middle;\n",
       "    }\n",
       "\n",
       "    .dataframe tbody tr th {\n",
       "        vertical-align: top;\n",
       "    }\n",
       "\n",
       "    .dataframe thead th {\n",
       "        text-align: right;\n",
       "    }\n",
       "</style>\n",
       "<table border=\"1\" class=\"dataframe\">\n",
       "  <thead>\n",
       "    <tr style=\"text-align: right;\">\n",
       "      <th></th>\n",
       "      <th>Industry</th>\n",
       "      <th>EV/EBIT_na</th>\n",
       "      <th>ROIC_na</th>\n",
       "      <th>Open</th>\n",
       "      <th>High</th>\n",
       "      <th>Low</th>\n",
       "      <th>Close</th>\n",
       "      <th>Volume</th>\n",
       "      <th>Dividends</th>\n",
       "      <th>Stock Splits</th>\n",
       "      <th>EV/EBIT</th>\n",
       "      <th>ROIC</th>\n",
       "    </tr>\n",
       "  </thead>\n",
       "  <tbody>\n",
       "    <tr>\n",
       "      <th>65219</th>\n",
       "      <td>2</td>\n",
       "      <td>1</td>\n",
       "      <td>1</td>\n",
       "      <td>-0.520946</td>\n",
       "      <td>-0.521226</td>\n",
       "      <td>-0.520961</td>\n",
       "      <td>-0.521582</td>\n",
       "      <td>0.116744</td>\n",
       "      <td>-0.056963</td>\n",
       "      <td>-0.009258</td>\n",
       "      <td>-0.957391</td>\n",
       "      <td>0.008751</td>\n",
       "    </tr>\n",
       "    <tr>\n",
       "      <th>60183</th>\n",
       "      <td>32</td>\n",
       "      <td>1</td>\n",
       "      <td>1</td>\n",
       "      <td>-0.296708</td>\n",
       "      <td>-0.297060</td>\n",
       "      <td>-0.295923</td>\n",
       "      <td>-0.294150</td>\n",
       "      <td>-0.165204</td>\n",
       "      <td>-0.056963</td>\n",
       "      <td>-0.009258</td>\n",
       "      <td>1.712893</td>\n",
       "      <td>-0.003221</td>\n",
       "    </tr>\n",
       "  </tbody>\n",
       "</table>\n",
       "</div>"
      ],
      "text/plain": [
       "       Industry  EV/EBIT_na  ROIC_na      Open      High       Low     Close  \\\n",
       "65219         2           1        1 -0.520946 -0.521226 -0.520961 -0.521582   \n",
       "60183        32           1        1 -0.296708 -0.297060 -0.295923 -0.294150   \n",
       "\n",
       "         Volume  Dividends  Stock Splits   EV/EBIT      ROIC  \n",
       "65219  0.116744  -0.056963     -0.009258 -0.957391  0.008751  \n",
       "60183 -0.165204  -0.056963     -0.009258  1.712893 -0.003221  "
      ]
     },
     "execution_count": 15,
     "metadata": {},
     "output_type": "execute_result"
    }
   ],
   "source": [
    "to.xs.iloc[:2]"
   ]
  },
  {
   "cell_type": "markdown",
   "metadata": {},
   "source": [
    "Now we can build our DataLoaders again:"
   ]
  },
  {
   "cell_type": "code",
   "execution_count": 16,
   "metadata": {},
   "outputs": [],
   "source": [
    "dls = to.dataloaders(bs=64)"
   ]
  },
  {
   "cell_type": "markdown",
   "metadata": {},
   "source": [
    "The show_batch method works like for every other application:"
   ]
  },
  {
   "cell_type": "code",
   "execution_count": 17,
   "metadata": {},
   "outputs": [
    {
     "data": {
      "text/html": [
       "<table border=\"1\" class=\"dataframe\">\n",
       "  <thead>\n",
       "    <tr style=\"text-align: right;\">\n",
       "      <th></th>\n",
       "      <th>Industry</th>\n",
       "      <th>EV/EBIT_na</th>\n",
       "      <th>ROIC_na</th>\n",
       "      <th>Open</th>\n",
       "      <th>High</th>\n",
       "      <th>Low</th>\n",
       "      <th>Close</th>\n",
       "      <th>Volume</th>\n",
       "      <th>Dividends</th>\n",
       "      <th>Stock Splits</th>\n",
       "      <th>EV/EBIT</th>\n",
       "      <th>ROIC</th>\n",
       "      <th>Future Year Change</th>\n",
       "    </tr>\n",
       "  </thead>\n",
       "  <tbody>\n",
       "    <tr>\n",
       "      <th>0</th>\n",
       "      <td>Internet Content &amp; Information</td>\n",
       "      <td>False</td>\n",
       "      <td>False</td>\n",
       "      <td>114.849998</td>\n",
       "      <td>116.660005</td>\n",
       "      <td>114.809997</td>\n",
       "      <td>115.059998</td>\n",
       "      <td>1.667699e+06</td>\n",
       "      <td>1.257099e-10</td>\n",
       "      <td>-2.988645e-11</td>\n",
       "      <td>-1.718386</td>\n",
       "      <td>-0.459734</td>\n",
       "      <td>0.260125</td>\n",
       "    </tr>\n",
       "    <tr>\n",
       "      <th>1</th>\n",
       "      <td>Internet Content &amp; Information</td>\n",
       "      <td>False</td>\n",
       "      <td>False</td>\n",
       "      <td>162.529999</td>\n",
       "      <td>164.960007</td>\n",
       "      <td>156.259995</td>\n",
       "      <td>156.839996</td>\n",
       "      <td>5.463900e+06</td>\n",
       "      <td>1.257099e-10</td>\n",
       "      <td>-2.988645e-11</td>\n",
       "      <td>-1.129568</td>\n",
       "      <td>-0.699383</td>\n",
       "      <td>-0.153341</td>\n",
       "    </tr>\n",
       "    <tr>\n",
       "      <th>2</th>\n",
       "      <td>Semiconductor Equipment &amp; Materials</td>\n",
       "      <td>False</td>\n",
       "      <td>False</td>\n",
       "      <td>277.841156</td>\n",
       "      <td>278.969145</td>\n",
       "      <td>276.397702</td>\n",
       "      <td>278.959594</td>\n",
       "      <td>4.100992e+05</td>\n",
       "      <td>1.257099e-10</td>\n",
       "      <td>-2.988645e-11</td>\n",
       "      <td>27.796419</td>\n",
       "      <td>0.028421</td>\n",
       "      <td>0.650050</td>\n",
       "    </tr>\n",
       "    <tr>\n",
       "      <th>3</th>\n",
       "      <td>Electronic Gaming &amp; Multimedia</td>\n",
       "      <td>False</td>\n",
       "      <td>False</td>\n",
       "      <td>82.486367</td>\n",
       "      <td>86.406600</td>\n",
       "      <td>81.897851</td>\n",
       "      <td>84.394279</td>\n",
       "      <td>2.525101e+06</td>\n",
       "      <td>1.257099e-10</td>\n",
       "      <td>-2.988645e-11</td>\n",
       "      <td>-3.425471</td>\n",
       "      <td>-0.230625</td>\n",
       "      <td>-0.026012</td>\n",
       "    </tr>\n",
       "    <tr>\n",
       "      <th>4</th>\n",
       "      <td>Auto Manufacturers</td>\n",
       "      <td>False</td>\n",
       "      <td>False</td>\n",
       "      <td>257.399993</td>\n",
       "      <td>257.790012</td>\n",
       "      <td>244.479994</td>\n",
       "      <td>244.880002</td>\n",
       "      <td>1.275241e+08</td>\n",
       "      <td>1.257099e-10</td>\n",
       "      <td>-2.988645e-11</td>\n",
       "      <td>52.510860</td>\n",
       "      <td>0.015045</td>\n",
       "      <td>0.038345</td>\n",
       "    </tr>\n",
       "    <tr>\n",
       "      <th>5</th>\n",
       "      <td>Banks - Diversified</td>\n",
       "      <td>False</td>\n",
       "      <td>False</td>\n",
       "      <td>87.501946</td>\n",
       "      <td>88.775435</td>\n",
       "      <td>87.262011</td>\n",
       "      <td>88.295570</td>\n",
       "      <td>8.543008e+05</td>\n",
       "      <td>1.257099e-10</td>\n",
       "      <td>-2.988645e-11</td>\n",
       "      <td>-19.177454</td>\n",
       "      <td>-0.041194</td>\n",
       "      <td>0.071970</td>\n",
       "    </tr>\n",
       "    <tr>\n",
       "      <th>6</th>\n",
       "      <td>Medical Instruments &amp; Supplies</td>\n",
       "      <td>False</td>\n",
       "      <td>False</td>\n",
       "      <td>193.449997</td>\n",
       "      <td>194.449996</td>\n",
       "      <td>189.080000</td>\n",
       "      <td>191.080000</td>\n",
       "      <td>1.907300e+06</td>\n",
       "      <td>1.257099e-10</td>\n",
       "      <td>-2.988645e-11</td>\n",
       "      <td>54.089061</td>\n",
       "      <td>0.014606</td>\n",
       "      <td>0.534697</td>\n",
       "    </tr>\n",
       "    <tr>\n",
       "      <th>7</th>\n",
       "      <td>Semiconductors</td>\n",
       "      <td>False</td>\n",
       "      <td>False</td>\n",
       "      <td>97.971122</td>\n",
       "      <td>99.585082</td>\n",
       "      <td>97.438857</td>\n",
       "      <td>99.464897</td>\n",
       "      <td>3.974300e+06</td>\n",
       "      <td>1.257099e-10</td>\n",
       "      <td>-2.988645e-11</td>\n",
       "      <td>40.971539</td>\n",
       "      <td>0.019282</td>\n",
       "      <td>-0.009520</td>\n",
       "    </tr>\n",
       "    <tr>\n",
       "      <th>8</th>\n",
       "      <td>Banks - Diversified</td>\n",
       "      <td>False</td>\n",
       "      <td>False</td>\n",
       "      <td>60.078902</td>\n",
       "      <td>60.519265</td>\n",
       "      <td>59.926118</td>\n",
       "      <td>60.033967</td>\n",
       "      <td>1.239901e+06</td>\n",
       "      <td>1.257099e-10</td>\n",
       "      <td>-2.988645e-11</td>\n",
       "      <td>1.322960</td>\n",
       "      <td>0.597146</td>\n",
       "      <td>-0.001289</td>\n",
       "    </tr>\n",
       "    <tr>\n",
       "      <th>9</th>\n",
       "      <td>Auto Manufacturers</td>\n",
       "      <td>False</td>\n",
       "      <td>False</td>\n",
       "      <td>245.000003</td>\n",
       "      <td>258.000000</td>\n",
       "      <td>244.860003</td>\n",
       "      <td>256.489987</td>\n",
       "      <td>1.294696e+08</td>\n",
       "      <td>1.257099e-10</td>\n",
       "      <td>-2.988645e-11</td>\n",
       "      <td>55.068334</td>\n",
       "      <td>0.014346</td>\n",
       "      <td>-0.102616</td>\n",
       "    </tr>\n",
       "  </tbody>\n",
       "</table>"
      ],
      "text/plain": [
       "<IPython.core.display.HTML object>"
      ]
     },
     "metadata": {},
     "output_type": "display_data"
    }
   ],
   "source": [
    "dls.show_batch()"
   ]
  },
  {
   "cell_type": "markdown",
   "metadata": {},
   "source": [
    "We can define a model using the tabular_learner method. When we define our model, fastai will try to infer the loss function based on our y_names earlier.\n",
    "\n",
    "Note: Sometimes with tabular data, your y’s may be encoded (such as 0 and 1). In such a case you should explicitly pass y_block = CategoryBlock in your constructor so fastai won’t presume you are doing regression."
   ]
  },
  {
   "cell_type": "code",
   "execution_count": 18,
   "metadata": {},
   "outputs": [],
   "source": [
    "learn = tabular_learner(dls, metrics=[rmse, mae])"
   ]
  },
  {
   "cell_type": "markdown",
   "metadata": {},
   "source": [
    "And we can train that model with the fit_one_cycle method (the fine_tune method won’t be useful here since we don’t have a pretrained model)."
   ]
  },
  {
   "cell_type": "code",
   "execution_count": 19,
   "metadata": {},
   "outputs": [
    {
     "data": {
      "text/html": [
       "\n",
       "<style>\n",
       "    /* Turns off some styling */\n",
       "    progress {\n",
       "        /* gets rid of default border in Firefox and Opera. */\n",
       "        border: none;\n",
       "        /* Needs to be in here for Safari polyfill so background images work as expected. */\n",
       "        background-size: auto;\n",
       "    }\n",
       "    progress:not([value]), progress:not([value])::-webkit-progress-bar {\n",
       "        background: repeating-linear-gradient(45deg, #7e7e7e, #7e7e7e 10px, #5c5c5c 10px, #5c5c5c 20px);\n",
       "    }\n",
       "    .progress-bar-interrupted, .progress-bar-interrupted::-webkit-progress-bar {\n",
       "        background: #F44336;\n",
       "    }\n",
       "</style>\n"
      ],
      "text/plain": [
       "<IPython.core.display.HTML object>"
      ]
     },
     "metadata": {},
     "output_type": "display_data"
    },
    {
     "data": {
      "text/html": [
       "<table border=\"1\" class=\"dataframe\">\n",
       "  <thead>\n",
       "    <tr style=\"text-align: left;\">\n",
       "      <th>epoch</th>\n",
       "      <th>train_loss</th>\n",
       "      <th>valid_loss</th>\n",
       "      <th>_rmse</th>\n",
       "      <th>mae</th>\n",
       "      <th>time</th>\n",
       "    </tr>\n",
       "  </thead>\n",
       "  <tbody>\n",
       "    <tr>\n",
       "      <td>0</td>\n",
       "      <td>0.427875</td>\n",
       "      <td>4995.292969</td>\n",
       "      <td>70.677383</td>\n",
       "      <td>1.086637</td>\n",
       "      <td>00:13</td>\n",
       "    </tr>\n",
       "    <tr>\n",
       "      <td>1</td>\n",
       "      <td>0.594680</td>\n",
       "      <td>263129.750000</td>\n",
       "      <td>512.961914</td>\n",
       "      <td>5.598451</td>\n",
       "      <td>00:12</td>\n",
       "    </tr>\n",
       "    <tr>\n",
       "      <td>2</td>\n",
       "      <td>0.449124</td>\n",
       "      <td>379.447845</td>\n",
       "      <td>19.479422</td>\n",
       "      <td>0.553787</td>\n",
       "      <td>00:11</td>\n",
       "    </tr>\n",
       "    <tr>\n",
       "      <td>3</td>\n",
       "      <td>0.529573</td>\n",
       "      <td>125575.117188</td>\n",
       "      <td>354.365997</td>\n",
       "      <td>3.954214</td>\n",
       "      <td>00:12</td>\n",
       "    </tr>\n",
       "    <tr>\n",
       "      <td>4</td>\n",
       "      <td>0.413462</td>\n",
       "      <td>1.109847</td>\n",
       "      <td>1.053493</td>\n",
       "      <td>0.359428</td>\n",
       "      <td>00:11</td>\n",
       "    </tr>\n",
       "    <tr>\n",
       "      <td>5</td>\n",
       "      <td>0.363118</td>\n",
       "      <td>0.722575</td>\n",
       "      <td>0.850044</td>\n",
       "      <td>0.354828</td>\n",
       "      <td>00:11</td>\n",
       "    </tr>\n",
       "    <tr>\n",
       "      <td>6</td>\n",
       "      <td>0.413132</td>\n",
       "      <td>3.349041</td>\n",
       "      <td>1.830039</td>\n",
       "      <td>0.376630</td>\n",
       "      <td>00:11</td>\n",
       "    </tr>\n",
       "    <tr>\n",
       "      <td>7</td>\n",
       "      <td>0.351818</td>\n",
       "      <td>136242.750000</td>\n",
       "      <td>369.110870</td>\n",
       "      <td>4.176270</td>\n",
       "      <td>00:11</td>\n",
       "    </tr>\n",
       "    <tr>\n",
       "      <td>8</td>\n",
       "      <td>0.366212</td>\n",
       "      <td>14891.972656</td>\n",
       "      <td>122.032661</td>\n",
       "      <td>1.608136</td>\n",
       "      <td>00:11</td>\n",
       "    </tr>\n",
       "    <tr>\n",
       "      <td>9</td>\n",
       "      <td>0.395917</td>\n",
       "      <td>2.530036</td>\n",
       "      <td>1.590609</td>\n",
       "      <td>0.374007</td>\n",
       "      <td>00:11</td>\n",
       "    </tr>\n",
       "    <tr>\n",
       "      <td>10</td>\n",
       "      <td>0.345563</td>\n",
       "      <td>866.465820</td>\n",
       "      <td>29.435789</td>\n",
       "      <td>0.721346</td>\n",
       "      <td>00:11</td>\n",
       "    </tr>\n",
       "    <tr>\n",
       "      <td>11</td>\n",
       "      <td>0.447607</td>\n",
       "      <td>7.487534</td>\n",
       "      <td>2.736336</td>\n",
       "      <td>0.381205</td>\n",
       "      <td>00:11</td>\n",
       "    </tr>\n",
       "    <tr>\n",
       "      <td>12</td>\n",
       "      <td>0.328964</td>\n",
       "      <td>16086.379883</td>\n",
       "      <td>126.832092</td>\n",
       "      <td>1.666963</td>\n",
       "      <td>00:11</td>\n",
       "    </tr>\n",
       "    <tr>\n",
       "      <td>13</td>\n",
       "      <td>0.382041</td>\n",
       "      <td>12.767184</td>\n",
       "      <td>3.573120</td>\n",
       "      <td>0.396662</td>\n",
       "      <td>00:11</td>\n",
       "    </tr>\n",
       "    <tr>\n",
       "      <td>14</td>\n",
       "      <td>0.409737</td>\n",
       "      <td>11.135669</td>\n",
       "      <td>3.337015</td>\n",
       "      <td>0.374834</td>\n",
       "      <td>00:12</td>\n",
       "    </tr>\n",
       "  </tbody>\n",
       "</table>"
      ],
      "text/plain": [
       "<IPython.core.display.HTML object>"
      ]
     },
     "metadata": {},
     "output_type": "display_data"
    }
   ],
   "source": [
    "learn.fit_one_cycle(15)"
   ]
  },
  {
   "cell_type": "markdown",
   "metadata": {},
   "source": [
    "We can then have a look at some predictions:"
   ]
  },
  {
   "cell_type": "code",
   "execution_count": 20,
   "metadata": {},
   "outputs": [
    {
     "data": {
      "text/html": [
       "\n",
       "<style>\n",
       "    /* Turns off some styling */\n",
       "    progress {\n",
       "        /* gets rid of default border in Firefox and Opera. */\n",
       "        border: none;\n",
       "        /* Needs to be in here for Safari polyfill so background images work as expected. */\n",
       "        background-size: auto;\n",
       "    }\n",
       "    progress:not([value]), progress:not([value])::-webkit-progress-bar {\n",
       "        background: repeating-linear-gradient(45deg, #7e7e7e, #7e7e7e 10px, #5c5c5c 10px, #5c5c5c 20px);\n",
       "    }\n",
       "    .progress-bar-interrupted, .progress-bar-interrupted::-webkit-progress-bar {\n",
       "        background: #F44336;\n",
       "    }\n",
       "</style>\n"
      ],
      "text/plain": [
       "<IPython.core.display.HTML object>"
      ]
     },
     "metadata": {},
     "output_type": "display_data"
    },
    {
     "data": {
      "text/html": [],
      "text/plain": [
       "<IPython.core.display.HTML object>"
      ]
     },
     "metadata": {},
     "output_type": "display_data"
    },
    {
     "data": {
      "text/html": [
       "<table border=\"1\" class=\"dataframe\">\n",
       "  <thead>\n",
       "    <tr style=\"text-align: right;\">\n",
       "      <th></th>\n",
       "      <th>Industry</th>\n",
       "      <th>EV/EBIT_na</th>\n",
       "      <th>ROIC_na</th>\n",
       "      <th>Open</th>\n",
       "      <th>High</th>\n",
       "      <th>Low</th>\n",
       "      <th>Close</th>\n",
       "      <th>Volume</th>\n",
       "      <th>Dividends</th>\n",
       "      <th>Stock Splits</th>\n",
       "      <th>EV/EBIT</th>\n",
       "      <th>ROIC</th>\n",
       "      <th>Future Year Change</th>\n",
       "      <th>Future Year Change_pred</th>\n",
       "    </tr>\n",
       "  </thead>\n",
       "  <tbody>\n",
       "    <tr>\n",
       "      <th>0</th>\n",
       "      <td>26.0</td>\n",
       "      <td>1.0</td>\n",
       "      <td>1.0</td>\n",
       "      <td>-0.413745</td>\n",
       "      <td>-0.415138</td>\n",
       "      <td>-0.412713</td>\n",
       "      <td>-0.414264</td>\n",
       "      <td>-0.240412</td>\n",
       "      <td>-0.056963</td>\n",
       "      <td>-0.009258</td>\n",
       "      <td>-0.497465</td>\n",
       "      <td>-0.002546</td>\n",
       "      <td>0.140651</td>\n",
       "      <td>0.048670</td>\n",
       "    </tr>\n",
       "    <tr>\n",
       "      <th>1</th>\n",
       "      <td>21.0</td>\n",
       "      <td>1.0</td>\n",
       "      <td>1.0</td>\n",
       "      <td>-0.428697</td>\n",
       "      <td>-0.428214</td>\n",
       "      <td>-0.427247</td>\n",
       "      <td>-0.426496</td>\n",
       "      <td>-0.181733</td>\n",
       "      <td>-0.056963</td>\n",
       "      <td>-0.009258</td>\n",
       "      <td>-0.495907</td>\n",
       "      <td>-0.002549</td>\n",
       "      <td>0.598612</td>\n",
       "      <td>0.407921</td>\n",
       "    </tr>\n",
       "    <tr>\n",
       "      <th>2</th>\n",
       "      <td>32.0</td>\n",
       "      <td>1.0</td>\n",
       "      <td>1.0</td>\n",
       "      <td>0.171487</td>\n",
       "      <td>0.162710</td>\n",
       "      <td>0.173379</td>\n",
       "      <td>0.164953</td>\n",
       "      <td>-0.285751</td>\n",
       "      <td>-0.056963</td>\n",
       "      <td>-0.009258</td>\n",
       "      <td>0.188659</td>\n",
       "      <td>-0.003027</td>\n",
       "      <td>0.097198</td>\n",
       "      <td>0.189551</td>\n",
       "    </tr>\n",
       "    <tr>\n",
       "      <th>3</th>\n",
       "      <td>31.0</td>\n",
       "      <td>1.0</td>\n",
       "      <td>1.0</td>\n",
       "      <td>-0.184205</td>\n",
       "      <td>-0.185171</td>\n",
       "      <td>-0.183585</td>\n",
       "      <td>-0.188451</td>\n",
       "      <td>-0.226052</td>\n",
       "      <td>-0.056963</td>\n",
       "      <td>-0.009258</td>\n",
       "      <td>0.698500</td>\n",
       "      <td>-0.003131</td>\n",
       "      <td>0.654475</td>\n",
       "      <td>0.275240</td>\n",
       "    </tr>\n",
       "    <tr>\n",
       "      <th>4</th>\n",
       "      <td>14.0</td>\n",
       "      <td>1.0</td>\n",
       "      <td>1.0</td>\n",
       "      <td>-0.345209</td>\n",
       "      <td>-0.332079</td>\n",
       "      <td>-0.350455</td>\n",
       "      <td>-0.340387</td>\n",
       "      <td>0.147184</td>\n",
       "      <td>-0.056963</td>\n",
       "      <td>-0.009258</td>\n",
       "      <td>-0.144277</td>\n",
       "      <td>-0.002891</td>\n",
       "      <td>-0.031260</td>\n",
       "      <td>0.150372</td>\n",
       "    </tr>\n",
       "    <tr>\n",
       "      <th>5</th>\n",
       "      <td>31.0</td>\n",
       "      <td>1.0</td>\n",
       "      <td>1.0</td>\n",
       "      <td>-0.131475</td>\n",
       "      <td>-0.135153</td>\n",
       "      <td>-0.133033</td>\n",
       "      <td>-0.138144</td>\n",
       "      <td>-0.263157</td>\n",
       "      <td>-0.056963</td>\n",
       "      <td>-0.009258</td>\n",
       "      <td>0.765186</td>\n",
       "      <td>-0.003140</td>\n",
       "      <td>0.465471</td>\n",
       "      <td>0.280961</td>\n",
       "    </tr>\n",
       "    <tr>\n",
       "      <th>6</th>\n",
       "      <td>9.0</td>\n",
       "      <td>1.0</td>\n",
       "      <td>1.0</td>\n",
       "      <td>0.027515</td>\n",
       "      <td>0.019909</td>\n",
       "      <td>0.029662</td>\n",
       "      <td>0.023117</td>\n",
       "      <td>-0.258667</td>\n",
       "      <td>-0.056963</td>\n",
       "      <td>-0.009258</td>\n",
       "      <td>-0.086894</td>\n",
       "      <td>-0.002921</td>\n",
       "      <td>0.205255</td>\n",
       "      <td>0.169231</td>\n",
       "    </tr>\n",
       "    <tr>\n",
       "      <th>7</th>\n",
       "      <td>6.0</td>\n",
       "      <td>1.0</td>\n",
       "      <td>1.0</td>\n",
       "      <td>-0.271659</td>\n",
       "      <td>-0.272487</td>\n",
       "      <td>-0.276128</td>\n",
       "      <td>-0.279215</td>\n",
       "      <td>-0.224388</td>\n",
       "      <td>-0.056963</td>\n",
       "      <td>-0.009258</td>\n",
       "      <td>0.249540</td>\n",
       "      <td>-0.003043</td>\n",
       "      <td>3.528537</td>\n",
       "      <td>2.093591</td>\n",
       "    </tr>\n",
       "    <tr>\n",
       "      <th>8</th>\n",
       "      <td>3.0</td>\n",
       "      <td>1.0</td>\n",
       "      <td>1.0</td>\n",
       "      <td>-0.392763</td>\n",
       "      <td>-0.391856</td>\n",
       "      <td>-0.390514</td>\n",
       "      <td>-0.389584</td>\n",
       "      <td>-0.285926</td>\n",
       "      <td>-0.056963</td>\n",
       "      <td>-0.009258</td>\n",
       "      <td>-0.561643</td>\n",
       "      <td>-0.002423</td>\n",
       "      <td>-0.162377</td>\n",
       "      <td>-0.029762</td>\n",
       "    </tr>\n",
       "  </tbody>\n",
       "</table>"
      ],
      "text/plain": [
       "<IPython.core.display.HTML object>"
      ]
     },
     "metadata": {},
     "output_type": "display_data"
    }
   ],
   "source": [
    "learn.show_results()"
   ]
  },
  {
   "cell_type": "markdown",
   "metadata": {},
   "source": [
    "## Export the model"
   ]
  },
  {
   "cell_type": "code",
   "execution_count": 21,
   "metadata": {},
   "outputs": [],
   "source": [
    "learn.export(modelFolder / f'{modelName}')"
   ]
  },
  {
   "cell_type": "markdown",
   "metadata": {},
   "source": [
    "\n",
    "To get prediction on a new dataframe, you can use the test_dl method of the DataLoaders. That dataframe does not need to have the dependent variable in its column."
   ]
  },
  {
   "cell_type": "code",
   "execution_count": 22,
   "metadata": {},
   "outputs": [],
   "source": [
    "from ipynb.fs.full.stockFetcher import getTickerData"
   ]
  },
  {
   "cell_type": "code",
   "execution_count": 29,
   "metadata": {},
   "outputs": [
    {
     "name": "stderr",
     "output_type": "stream",
     "text": [
      "c:\\Users\\Gamer\\miniconda3\\Lib\\site-packages\\fastai\\tabular\\core.py:314: FutureWarning: A value is trying to be set on a copy of a DataFrame or Series through chained assignment using an inplace method.\n",
      "The behavior will change in pandas 3.0. This inplace method will never work because the intermediate object on which we are setting values always behaves as a copy.\n",
      "\n",
      "For example, when doing 'df[col].method(value, inplace=True)', try using 'df.method({col: value}, inplace=True)' or df[col] = df[col].method(value) instead, to perform the operation inplace on the original object.\n",
      "\n",
      "\n",
      "  to[n].fillna(self.na_dict[n], inplace=True)\n",
      "c:\\Users\\Gamer\\miniconda3\\Lib\\site-packages\\fastai\\tabular\\core.py:314: FutureWarning: A value is trying to be set on a copy of a DataFrame or Series through chained assignment using an inplace method.\n",
      "The behavior will change in pandas 3.0. This inplace method will never work because the intermediate object on which we are setting values always behaves as a copy.\n",
      "\n",
      "For example, when doing 'df[col].method(value, inplace=True)', try using 'df.method({col: value}, inplace=True)' or df[col] = df[col].method(value) instead, to perform the operation inplace on the original object.\n",
      "\n",
      "\n",
      "  to[n].fillna(self.na_dict[n], inplace=True)\n"
     ]
    },
    {
     "data": {
      "text/html": [
       "<div>\n",
       "<style scoped>\n",
       "    .dataframe tbody tr th:only-of-type {\n",
       "        vertical-align: middle;\n",
       "    }\n",
       "\n",
       "    .dataframe tbody tr th {\n",
       "        vertical-align: top;\n",
       "    }\n",
       "\n",
       "    .dataframe thead th {\n",
       "        text-align: right;\n",
       "    }\n",
       "</style>\n",
       "<table border=\"1\" class=\"dataframe\">\n",
       "  <thead>\n",
       "    <tr style=\"text-align: right;\">\n",
       "      <th></th>\n",
       "      <th>Open</th>\n",
       "      <th>High</th>\n",
       "      <th>Low</th>\n",
       "      <th>Close</th>\n",
       "      <th>Volume</th>\n",
       "      <th>Dividends</th>\n",
       "      <th>Stock Splits</th>\n",
       "      <th>EV/EBIT</th>\n",
       "      <th>Market Cap</th>\n",
       "      <th>ROIC</th>\n",
       "      <th>Industry</th>\n",
       "    </tr>\n",
       "  </thead>\n",
       "  <tbody>\n",
       "    <tr>\n",
       "      <th>0</th>\n",
       "      <td>232.115005</td>\n",
       "      <td>232.289993</td>\n",
       "      <td>228.479996</td>\n",
       "      <td>229.979996</td>\n",
       "      <td>63906031</td>\n",
       "      <td>0.0</td>\n",
       "      <td>0.0</td>\n",
       "      <td>59.880474</td>\n",
       "      <td>3.458416e+12</td>\n",
       "      <td>0.013193</td>\n",
       "      <td>Consumer Electronics</td>\n",
       "    </tr>\n",
       "  </tbody>\n",
       "</table>\n",
       "</div>"
      ],
      "text/plain": [
       "         Open        High         Low       Close    Volume  Dividends  \\\n",
       "0  232.115005  232.289993  228.479996  229.979996  63906031        0.0   \n",
       "\n",
       "   Stock Splits    EV/EBIT    Market Cap      ROIC              Industry  \n",
       "0           0.0  59.880474  3.458416e+12  0.013193  Consumer Electronics  "
      ]
     },
     "execution_count": 29,
     "metadata": {},
     "output_type": "execute_result"
    }
   ],
   "source": [
    "predictionTarget = 'AAPL'\n",
    "\n",
    "test_df = getTickerData(predictionTarget)\n",
    "\n",
    "# Ensure test_df is a DataFrame\n",
    "if isinstance(test_df, dict):\n",
    "\ttest_df = pd.DataFrame([test_df])\n",
    "\n",
    "dl = learn.dls.test_dl(test_df)\n",
    "test_df.head()"
   ]
  },
  {
   "cell_type": "code",
   "execution_count": 30,
   "metadata": {},
   "outputs": [
    {
     "data": {
      "text/html": [
       "\n",
       "<style>\n",
       "    /* Turns off some styling */\n",
       "    progress {\n",
       "        /* gets rid of default border in Firefox and Opera. */\n",
       "        border: none;\n",
       "        /* Needs to be in here for Safari polyfill so background images work as expected. */\n",
       "        background-size: auto;\n",
       "    }\n",
       "    progress:not([value]), progress:not([value])::-webkit-progress-bar {\n",
       "        background: repeating-linear-gradient(45deg, #7e7e7e, #7e7e7e 10px, #5c5c5c 10px, #5c5c5c 20px);\n",
       "    }\n",
       "    .progress-bar-interrupted, .progress-bar-interrupted::-webkit-progress-bar {\n",
       "        background: #F44336;\n",
       "    }\n",
       "</style>\n"
      ],
      "text/plain": [
       "<IPython.core.display.HTML object>"
      ]
     },
     "metadata": {},
     "output_type": "display_data"
    },
    {
     "data": {
      "text/html": [],
      "text/plain": [
       "<IPython.core.display.HTML object>"
      ]
     },
     "metadata": {},
     "output_type": "display_data"
    },
    {
     "name": "stdout",
     "output_type": "stream",
     "text": [
      "Prediction for AAPL:\n",
      "-1.11%\n"
     ]
    }
   ],
   "source": [
    "prediction = learn.get_preds(dl=dl)\n",
    "print(f\"Prediction for {predictionTarget}:\")\n",
    "print(f\"{prediction[0][0][0].item() * 100:.2f}%\")"
   ]
  },
  {
   "cell_type": "markdown",
   "metadata": {},
   "source": [
    "Note:\n",
    "Since machine learning models can’t magically understand categories it was never trained on, the data should reflect this. If there are different missing values in your test data you should address this before training"
   ]
  }
 ],
 "metadata": {
  "kernelspec": {
   "display_name": "base",
   "language": "python",
   "name": "python3"
  },
  "language_info": {
   "codemirror_mode": {
    "name": "ipython",
    "version": 3
   },
   "file_extension": ".py",
   "mimetype": "text/x-python",
   "name": "python",
   "nbconvert_exporter": "python",
   "pygments_lexer": "ipython3",
   "version": "3.12.3"
  }
 },
 "nbformat": 4,
 "nbformat_minor": 2
}
