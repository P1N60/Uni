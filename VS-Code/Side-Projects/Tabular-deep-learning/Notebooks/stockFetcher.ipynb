{
 "cells": [
  {
   "cell_type": "code",
   "execution_count": 1,
   "metadata": {},
   "outputs": [],
   "source": [
    "# Install libraries the first time\n",
    "# ! pip install -q ipynb yfinance pandas pathlib numpy"
   ]
  },
  {
   "cell_type": "code",
   "execution_count": 2,
   "metadata": {},
   "outputs": [],
   "source": [
    "import yfinance as yf\n",
    "import pandas as pd\n",
    "from pathlib import Path\n",
    "from datetime import *\n",
    "import numpy as np"
   ]
  },
  {
   "cell_type": "markdown",
   "metadata": {},
   "source": [
    "### Variables"
   ]
  },
  {
   "cell_type": "code",
   "execution_count": 3,
   "metadata": {},
   "outputs": [],
   "source": [
    "data_folder = Path.cwd().parent / 'TrainingData'\n",
    "data_name = 'stockData.csv'\n",
    "\n",
    "time_frame = '5y'  # Options: 1d, 5d, 1mo, 3mo, 6mo, 1y, 2y, 5y, 10y, ytd, max\n",
    "symbols = [\n",
    "    'AAPL', 'MSFT', 'AMZN', 'GOOGL', 'GOOG', 'META', 'TSLA', 'NVDA', 'PYPL', 'ADBE',\n",
    "    'NFLX', 'INTC', 'CMCSA', 'PEP', 'CSCO', 'AVGO', 'COST', 'AMGN', 'TXN', 'QCOM',\n",
    "    'HON', 'SBUX', 'AMD', 'INTU', 'ISRG', 'BKNG', 'MDLZ', 'ADP', 'GILD', 'MU',\n",
    "    'AMAT', 'LRCX', 'ADI', 'ASML', 'MRNA', 'ZM', 'DOCU', 'ROST', 'REGN', 'VRTX',\n",
    "    'EBAY', 'EXC', 'SNPS', 'WDAY', 'TEAM', 'OKTA', 'CRWD', 'SHOP', 'SQ', 'UBER',\n",
    "    'TCEHY', 'TSM', 'NIO', 'JD', 'BIDU', 'PDD', 'MELI', 'SHOP', 'SE', 'NTES', 'HDB',\n",
    "    'INFY', 'IBN', 'VALE', 'RIO', 'BHP', 'SCCO', 'EQNR', 'ENB', 'SU', 'CNQ',\n",
    "    'BCE', 'TU', 'RY', 'TD', 'BNS', 'CM', 'MFC', 'SLF', 'BIP', 'BEP', 'TRP',\n",
    "    'CNI', 'NSRGY'\n",
    "]"
   ]
  },
  {
   "cell_type": "markdown",
   "metadata": {},
   "source": [
    "### Functions for Data Collection and Processing"
   ]
  },
  {
   "cell_type": "code",
   "execution_count": 4,
   "metadata": {},
   "outputs": [],
   "source": [
    "def get_industry(ticker_symbol):\n",
    "    try:\n",
    "        return yf.Ticker(ticker_symbol).info.get('industry', 'Unknown')\n",
    "    except Exception as e:\n",
    "        print(f\"Error fetching industry for {ticker_symbol}: {e}\")\n",
    "        return 'Error'"
   ]
  },
  {
   "cell_type": "code",
   "execution_count": 5,
   "metadata": {},
   "outputs": [],
   "source": [
    "def calculate_future_year_change(ticker_symbol, timeframe, buffer=1):\n",
    "    valid_periods = ['1d', '5d', '1mo', '3mo', '6mo', '1y', '2y', '5y', '10y', 'ytd', 'max']\n",
    "    extended_timeframe = 'max' if timeframe == 'max' else valid_periods[valid_periods.index(timeframe) + buffer]\n",
    "    try:\n",
    "        future_change = yf.Ticker(ticker_symbol).history(period=extended_timeframe)\n",
    "        future_change['Future Year Change'] = (future_change['Close'].shift(-252) / future_change['Close'] - 1)\n",
    "\n",
    "        end_date = future_change.index[-1] - pd.DateOffset(years=1)\n",
    "        start_date = end_date - pd.DateOffset(years=int(timeframe[:-1]))\n",
    "        future_change = future_change.loc[start_date:end_date].dropna(subset=['Future Year Change'])\n",
    "        return future_change\n",
    "    except Exception as e:\n",
    "        print(f\"Error processing {ticker_symbol}: {e}\")\n",
    "        return pd.DataFrame()"
   ]
  },
  {
   "cell_type": "code",
   "execution_count": 6,
   "metadata": {},
   "outputs": [],
   "source": [
    "def get_static_ev_data(ticker_symbol):\n",
    "    try:\n",
    "        info = yf.Ticker(ticker_symbol).info\n",
    "        return info.get('totalDebt', 0), info.get('totalCash', 0), info.get('sharesOutstanding', None)\n",
    "    except Exception as e:\n",
    "        print(f\"Error fetching EV components for {ticker_symbol}: {e}\")\n",
    "        return None, None, None"
   ]
  },
  {
   "cell_type": "code",
   "execution_count": 7,
   "metadata": {},
   "outputs": [],
   "source": [
    "def calculate_approx_ebit(ticker_symbol):\n",
    "    try:\n",
    "        info = yf.Ticker(ticker_symbol).info\n",
    "        revenue = info.get('totalRevenue', None)\n",
    "        operating_income = info.get('operatingIncome', None)\n",
    "        return operating_income if operating_income else (revenue * 0.15 if revenue else None)\n",
    "    except Exception as e:\n",
    "        print(f\"Error calculating EBIT for {ticker_symbol}: {e}\")\n",
    "        return None"
   ]
  },
  {
   "cell_type": "code",
   "execution_count": 8,
   "metadata": {},
   "outputs": [],
   "source": [
    "def calculate_daily_ev_ebit(hist_data):\n",
    "    hist_data['EV/EBIT'] = None\n",
    "    for symbol in hist_data['Ticker'].unique():\n",
    "        ticker_data = hist_data[hist_data['Ticker'] == symbol].copy()\n",
    "        total_debt, cash, shares_outstanding = get_static_ev_data(symbol)\n",
    "        ebit = calculate_approx_ebit(symbol)\n",
    "\n",
    "        if shares_outstanding and ebit and ebit != 0:\n",
    "            ticker_data['EV'] = (ticker_data['Close'] * shares_outstanding) + total_debt - cash\n",
    "            ticker_data['EV/EBIT'] = ticker_data['EV'] / ebit\n",
    "            hist_data.loc[ticker_data.index, 'EV/EBIT'] = ticker_data['EV/EBIT']\n",
    "    return hist_data.drop(columns=['EV'], errors='ignore')"
   ]
  },
  {
   "cell_type": "code",
   "execution_count": 9,
   "metadata": {},
   "outputs": [],
   "source": [
    "def calculate_daily_roic(hist_data):\n",
    "    for symbol in hist_data['Ticker'].unique():\n",
    "        ticker_data = hist_data[hist_data['Ticker'] == symbol].copy()\n",
    "        total_debt, cash, shares_outstanding = get_static_ev_data(symbol)\n",
    "        ebit = calculate_approx_ebit(symbol)\n",
    "\n",
    "        if shares_outstanding and ebit:\n",
    "            tax_rate = 0.21\n",
    "            nopat = ebit * (1 - tax_rate)\n",
    "            invested_capital = total_debt + (ticker_data['Close'] * shares_outstanding) - cash\n",
    "            ticker_data['ROIC'] = np.where(invested_capital != 0, nopat / invested_capital, None)\n",
    "            hist_data.loc[ticker_data.index, 'ROIC'] = ticker_data['ROIC']\n",
    "    return hist_data"
   ]
  },
  {
   "cell_type": "code",
   "execution_count": 10,
   "metadata": {},
   "outputs": [],
   "source": [
    "def getTickerData(ticker_symbol):\n",
    "    try:\n",
    "        ticker = yf.Ticker(ticker_symbol)\n",
    "        hist = ticker.history(period='1d')\n",
    "        total_debt, cash, shares_outstanding = get_static_ev_data(ticker_symbol)\n",
    "        ebit = calculate_approx_ebit(ticker_symbol)\n",
    "        ev = (hist['Close'].iloc[-1] * shares_outstanding) + total_debt - cash\n",
    "        ev_ebit = ev / ebit if ebit else None\n",
    "        market_cap = hist['Close'].iloc[-1] * shares_outstanding\n",
    "        tax_rate = 0.21\n",
    "        nopat = ebit * (1 - tax_rate) if ebit else None\n",
    "        invested_capital = total_debt + market_cap - cash\n",
    "        roic = nopat / invested_capital if nopat and invested_capital else None\n",
    "        industry = get_industry(ticker_symbol)\n",
    "\n",
    "        return pd.DataFrame([{\n",
    "            'Open': hist['Open'].iloc[-1],\n",
    "            'High': hist['High'].iloc[-1],\n",
    "            'Low': hist['Low'].iloc[-1],\n",
    "            'Close': hist['Close'].iloc[-1],\n",
    "            'Volume': hist['Volume'].iloc[-1],\n",
    "            'Dividends': hist.get('Dividends', pd.Series([0.0])).iloc[-1],\n",
    "            'Stock Splits': hist.get('Stock Splits', pd.Series([0.0])).iloc[-1],\n",
    "            'EV/EBIT': ev_ebit,\n",
    "            'Market Cap': market_cap,\n",
    "            'ROIC': roic,\n",
    "            'Industry': industry\n",
    "        }])\n",
    "    except Exception as e:\n",
    "        print(f\"Error fetching data for {ticker_symbol}: {e}\")\n",
    "        return pd.DataFrame()"
   ]
  },
  {
   "cell_type": "code",
   "execution_count": 11,
   "metadata": {},
   "outputs": [],
   "source": [
    "def getTickerDataFrom1YrAgo(ticker_symbol):\n",
    "    try:\n",
    "        # Fetch ticker data\n",
    "        ticker = yf.Ticker(ticker_symbol)\n",
    "\n",
    "        # Define the date range: one year ago to today\n",
    "        today = datetime.today()\n",
    "        one_year_ago = today - timedelta(days=365)\n",
    "\n",
    "        # Fetch historical data for one year ago\n",
    "        hist = ticker.history(start=(one_year_ago - timedelta(days=1)).strftime('%Y-%m-%d'), \n",
    "                              end=(one_year_ago + timedelta(days=1)).strftime('%Y-%m-%d'))\n",
    "        if hist.empty:\n",
    "            raise ValueError(f\"No historical data available for {ticker_symbol} around {one_year_ago.strftime('%Y-%m-%d')}.\")\n",
    "\n",
    "        # Extract the closest data point to one year ago\n",
    "        row = hist.iloc[-1]  # Get the last available entry within the date range\n",
    "\n",
    "        # Price today\n",
    "        price_today = ticker.history(period='1d')['Close'].iloc[-1]\n",
    "\n",
    "        # Calculate future price change (from one year ago to today)\n",
    "        price_change_future = ((price_today - row['Close']) / row['Close']) if row['Close'] else None\n",
    "\n",
    "        # Collect additional data\n",
    "        total_debt, cash, shares_outstanding = get_static_ev_data(ticker_symbol)\n",
    "        ebit = calculate_approx_ebit(ticker_symbol)\n",
    "        ev = (row['Close'] * shares_outstanding) + total_debt - cash if shares_outstanding else None\n",
    "        ev_ebit = ev / ebit if ebit else None\n",
    "        market_cap = row['Close'] * shares_outstanding if shares_outstanding else None\n",
    "        tax_rate = 0.21\n",
    "        nopat = ebit * (1 - tax_rate) if ebit else None\n",
    "        invested_capital = total_debt + market_cap - cash if market_cap and total_debt and cash else None\n",
    "        roic = nopat / invested_capital if nopat and invested_capital else None\n",
    "        industry = get_industry(ticker_symbol)\n",
    "\n",
    "        # Return as a DataFrame\n",
    "        return pd.DataFrame([{\n",
    "            'Date': row.name,\n",
    "            'Open': row['Open'],\n",
    "            'High': row['High'],\n",
    "            'Low': row['Low'],\n",
    "            'Close': row['Close'],\n",
    "            'Volume': row['Volume'],\n",
    "            'Dividends': row.get('Dividends', 0.0),\n",
    "            'Stock Splits': row.get('Stock Splits', 0.0),\n",
    "            'Future Year Change': price_change_future,\n",
    "            'Industry': industry,\n",
    "            'EV/EBIT': ev_ebit,\n",
    "            'ROIC': roic\n",
    "        }])\n",
    "\n",
    "    except Exception as e:\n",
    "        print(f\"Error fetching data for {ticker_symbol}: {e}\")\n",
    "        return pd.DataFrame()\n"
   ]
  },
  {
   "cell_type": "code",
   "execution_count": 13,
   "metadata": {},
   "outputs": [
    {
     "ename": "NameError",
     "evalue": "name 'np' is not defined",
     "output_type": "error",
     "traceback": [
      "\u001b[1;31m---------------------------------------------------------------------------\u001b[0m",
      "\u001b[1;31mNameError\u001b[0m                                 Traceback (most recent call last)",
      "Cell \u001b[1;32mIn[13], line 13\u001b[0m\n\u001b[0;32m     11\u001b[0m hist_data\u001b[38;5;241m.\u001b[39mreset_index(inplace\u001b[38;5;241m=\u001b[39m\u001b[38;5;28;01mTrue\u001b[39;00m)\n\u001b[0;32m     12\u001b[0m hist_data \u001b[38;5;241m=\u001b[39m calculate_daily_ev_ebit(hist_data)\n\u001b[1;32m---> 13\u001b[0m hist_data \u001b[38;5;241m=\u001b[39m \u001b[43mcalculate_daily_roic\u001b[49m\u001b[43m(\u001b[49m\u001b[43mhist_data\u001b[49m\u001b[43m)\u001b[49m\n\u001b[0;32m     14\u001b[0m hist_data\u001b[38;5;241m.\u001b[39mto_csv(data_folder \u001b[38;5;241m/\u001b[39m data_name, index\u001b[38;5;241m=\u001b[39m\u001b[38;5;28;01mFalse\u001b[39;00m)\n",
      "Cell \u001b[1;32mIn[9], line 11\u001b[0m, in \u001b[0;36mcalculate_daily_roic\u001b[1;34m(hist_data)\u001b[0m\n\u001b[0;32m      9\u001b[0m         nopat \u001b[38;5;241m=\u001b[39m ebit \u001b[38;5;241m*\u001b[39m (\u001b[38;5;241m1\u001b[39m \u001b[38;5;241m-\u001b[39m tax_rate)\n\u001b[0;32m     10\u001b[0m         invested_capital \u001b[38;5;241m=\u001b[39m total_debt \u001b[38;5;241m+\u001b[39m (ticker_data[\u001b[38;5;124m'\u001b[39m\u001b[38;5;124mClose\u001b[39m\u001b[38;5;124m'\u001b[39m] \u001b[38;5;241m*\u001b[39m shares_outstanding) \u001b[38;5;241m-\u001b[39m cash\n\u001b[1;32m---> 11\u001b[0m         ticker_data[\u001b[38;5;124m'\u001b[39m\u001b[38;5;124mROIC\u001b[39m\u001b[38;5;124m'\u001b[39m] \u001b[38;5;241m=\u001b[39m \u001b[43mnp\u001b[49m\u001b[38;5;241m.\u001b[39mwhere(invested_capital \u001b[38;5;241m!=\u001b[39m \u001b[38;5;241m0\u001b[39m, nopat \u001b[38;5;241m/\u001b[39m invested_capital, \u001b[38;5;28;01mNone\u001b[39;00m)\n\u001b[0;32m     12\u001b[0m         hist_data\u001b[38;5;241m.\u001b[39mloc[ticker_data\u001b[38;5;241m.\u001b[39mindex, \u001b[38;5;124m'\u001b[39m\u001b[38;5;124mROIC\u001b[39m\u001b[38;5;124m'\u001b[39m] \u001b[38;5;241m=\u001b[39m ticker_data[\u001b[38;5;124m'\u001b[39m\u001b[38;5;124mROIC\u001b[39m\u001b[38;5;124m'\u001b[39m]\n\u001b[0;32m     13\u001b[0m \u001b[38;5;28;01mreturn\u001b[39;00m hist_data\n",
      "\u001b[1;31mNameError\u001b[0m: name 'np' is not defined"
     ]
    }
   ],
   "source": [
    "hist_data = pd.DataFrame()\n",
    "for symbol in symbols:\n",
    "    try:\n",
    "        future_change = calculate_future_year_change(symbol, time_frame)\n",
    "        future_change['Ticker'] = symbol\n",
    "        future_change['Industry'] = get_industry(symbol)\n",
    "        hist_data = pd.concat([hist_data, future_change])\n",
    "    except Exception as e:\n",
    "        print(f\"Error processing {symbol}: {e}\")\n",
    "\n",
    "hist_data.reset_index(inplace=True)\n",
    "hist_data = calculate_daily_ev_ebit(hist_data)\n",
    "hist_data = calculate_daily_roic(hist_data)\n",
    "hist_data.to_csv(data_folder / data_name, index=False)"
   ]
  },
  {
   "cell_type": "code",
   "execution_count": null,
   "metadata": {},
   "outputs": [],
   "source": []
  }
 ],
 "metadata": {
  "kernelspec": {
   "display_name": "base",
   "language": "python",
   "name": "python3"
  },
  "language_info": {
   "codemirror_mode": {
    "name": "ipython",
    "version": 3
   },
   "file_extension": ".py",
   "mimetype": "text/x-python",
   "name": "python",
   "nbconvert_exporter": "python",
   "pygments_lexer": "ipython3",
   "version": "3.12.3"
  }
 },
 "nbformat": 4,
 "nbformat_minor": 2
}
