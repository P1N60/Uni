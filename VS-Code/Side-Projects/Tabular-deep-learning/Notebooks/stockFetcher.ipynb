{
 "cells": [
  {
   "cell_type": "code",
   "execution_count": 150,
   "metadata": {},
   "outputs": [],
   "source": [
    "# Install libraries the first time\n",
    "#! pip install -q ipynb yfinance pandas pathlib numpy"
   ]
  },
  {
   "cell_type": "code",
   "execution_count": 151,
   "metadata": {},
   "outputs": [],
   "source": [
    "import yfinance as yf\n",
    "import pandas as pd\n",
    "from pathlib import Path\n",
    "import numpy as np"
   ]
  },
  {
   "cell_type": "markdown",
   "metadata": {},
   "source": [
    "### Variables"
   ]
  },
  {
   "cell_type": "code",
   "execution_count": 153,
   "metadata": {},
   "outputs": [],
   "source": [
    "trainingSize = 125 # Number of stocks to get from the test tickers\n",
    "time_frame = '5y'  # Options: 1d, 5d, 1mo, 3mo, 6mo, 1y, 2y, 5y, 10y, ytd, max"
   ]
  },
  {
   "cell_type": "code",
   "execution_count": 153,
   "metadata": {},
   "outputs": [],
   "source": [
    "trainingSize = 125 # Number of stocks to get from the test tickers\n",
    "time_frame = '5y'  # Options: 1d, 5d, 1mo, 3mo, 6mo, 1y, 2y, 5y, 10y, ytd, max"
   ]
  },
  {
   "cell_type": "code",
   "execution_count": 155,
   "metadata": {},
   "outputs": [],
   "source": [
    "data_folder = Path.cwd().parent / 'TrainingData'\n",
    "data_name = 'stockData.csv'\n",
    "\n",
    "time_frame = '5y'  # Options:  1d, 5d, 1mo, 3mo, 6mo, 1y, 2y, 5y, 10y, ytd, max\n",
    "symbols = [\n",
    "    'AAPL', 'MSFT', 'AMZN', 'GOOGL', 'GOOG', 'META', 'TSLA', 'NVDA', 'PYPL', 'ADBE',\n",
    "    'NFLX', 'INTC', 'CMCSA', 'PEP', 'CSCO', 'AVGO', 'COST', 'AMGN', 'TXN', 'QCOM',\n",
    "    'HON', 'SBUX', 'AMD', 'INTU', 'ISRG', 'BKNG', 'MDLZ', 'ADP', 'GILD', 'MU',\n",
    "    'AMAT', 'LRCX', 'ADI', 'ASML', 'MRNA', 'ZM', 'DOCU', 'ROST', 'REGN', 'VRTX',\n",
    "    'EBAY', 'EXC', 'SNPS', 'WDAY', 'TEAM', 'OKTA', 'CRWD', 'SHOP', 'SQ', 'UBER',\n",
    "    'TCEHY', 'TSM', 'NIO', 'JD', 'BIDU', 'PDD', 'MELI', 'SHOP', 'SE', 'NTES', 'HDB',\n",
    "    'INFY', 'IBN', 'VALE', 'RIO', 'BHP', 'SCCO', 'EQNR', 'ENB', 'SU', 'CNQ',\n",
    "    'BCE', 'TU', 'RY', 'TD', 'BNS', 'CM', 'MFC', 'SLF', 'BIP', 'BEP', 'TRP',\n",
    "    'CNI', 'NSRGY'\n",
    "]"
   ]
  },
  {
   "cell_type": "code",
   "execution_count": 156,
   "metadata": {},
   "outputs": [],
   "source": [
    "def calculate_future_year_change(ticker_symbol, timeframe, buffer=1):\n",
    "    valid_periods = ['1d', '5d', '1mo', '3mo', '6mo', '1y', '2y', '5y', '10y', 'ytd', 'max']\n",
    "    extended_timeframe = 'max' if timeframe == 'max' else valid_periods[valid_periods.index(timeframe) + buffer]\n",
    "    try:\n",
    "        future_change = yf.Ticker(ticker_symbol).history(period=extended_timeframe)\n",
    "        future_change['Future Year Change'] = (future_change['Close'].shift(-252) / future_change['Close'] - 1)\n",
    "\n",
    "        end_date = future_change.index[-1] - pd.DateOffset(years=1)\n",
    "        start_date = end_date - pd.DateOffset(years=int(timeframe[:-1]))\n",
    "        future_change = future_change.loc[start_date:end_date].dropna(subset=['Future Year Change'])\n",
    "        return future_change\n",
    "    except Exception as e:\n",
    "        print(f\"Error processing {ticker_symbol}: {e}\")\n",
    "        return pd.DataFrame()"
   ]
  },
  {
   "cell_type": "code",
   "execution_count": 157,
   "metadata": {},
   "outputs": [],
   "source": [
    "def calculate_approx_earnings(ticker_symbol):\n",
    "    try:\n",
    "        info = yf.Ticker(ticker_symbol).info\n",
    "        net_income = info.get('netIncomeToCommon', None)\n",
    "        shares_outstanding = info.get('sharesOutstanding', None)\n",
    "        if net_income and shares_outstanding:\n",
    "            return net_income / shares_outstanding  # Calculate EPS\n",
    "        return None\n",
    "    except Exception as e:\n",
    "        print(f\"Error calculating earnings for {ticker_symbol}: {e}\")\n",
    "        return None"
   ]
  },
  {
   "cell_type": "code",
   "execution_count": 158,
   "metadata": {},
   "outputs": [],
   "source": [
    "def get_industry(ticker_symbol):\n",
    "    try:\n",
    "        return yf.Ticker(ticker_symbol).info.get('industry', 'Unknown')\n",
    "    except Exception as e:\n",
    "        print(f\"Error fetching industry for {ticker_symbol}: {e}\")\n",
    "        return 'Error'"
   ]
  },
  {
   "cell_type": "code",
   "execution_count": 159,
   "metadata": {},
   "outputs": [],
   "source": [
    "def calculate_future_year_change(ticker_symbol, timeframe, buffer=1):\n",
    "    valid_periods = ['1d', '5d', '1mo', '3mo', '6mo', '1y', '2y', '5y', '10y', 'ytd', 'max']\n",
    "    extended_timeframe = 'max' if timeframe == 'max' else valid_periods[valid_periods.index(timeframe) + buffer]\n",
    "    try:\n",
    "        future_change = yf.Ticker(ticker_symbol).history(period=extended_timeframe)\n",
    "        future_change['Future Year Change'] = (future_change['Close'].shift(-252) / future_change['Close'] - 1)\n",
    "\n",
    "        end_date = future_change.index[-1] - pd.DateOffset(years=1)\n",
    "        start_date = end_date - pd.DateOffset(years=int(timeframe[:-1]))\n",
    "        future_change = future_change.loc[start_date:end_date].dropna(subset=['Future Year Change'])\n",
    "        return future_change\n",
    "    except Exception as e:\n",
    "        print(f\"Error processing {ticker_symbol}: {e}\")\n",
    "        return pd.DataFrame()"
   ]
  },
  {
   "cell_type": "code",
   "execution_count": 160,
   "metadata": {},
   "outputs": [],
   "source": [
    "def calculate_approx_earnings(ticker_symbol):\n",
    "    try:\n",
    "        info = yf.Ticker(ticker_symbol).info\n",
    "        net_income = info.get('netIncomeToCommon', None)\n",
    "        shares_outstanding = info.get('sharesOutstanding', None)\n",
    "        if net_income and shares_outstanding:\n",
    "            return net_income / shares_outstanding  # Calculate EPS\n",
    "        return None\n",
    "    except Exception as e:\n",
    "        print(f\"Error calculating earnings for {ticker_symbol}: {e}\")\n",
    "        return None"
   ]
  },
  {
   "cell_type": "code",
   "execution_count": 163,
   "metadata": {},
   "outputs": [],
   "source": [
    "def get_industry(ticker_symbol):\n",
    "    try:\n",
    "        return yf.Ticker(ticker_symbol).info.get('industry', 'Unknown')\n",
    "    except Exception as e:\n",
    "        print(f\"Error fetching industry for {ticker_symbol}: {e}\")\n",
    "        return 'Error'\n",
    "\n",
    "# %%\n",
    "def calculate_future_year_change(ticker_symbol, timeframe, buffer=1):\n",
    "    valid_periods = ['1d', '5d', '1mo', '3mo', '6mo', '1y', '2y', '5y', '10y', 'ytd', 'max']\n",
    "    extended_timeframe = 'max' if timeframe == 'max' else valid_periods[valid_periods.index(timeframe) + buffer]\n",
    "    try:\n",
    "        future_change = yf.Ticker(ticker_symbol).history(period=extended_timeframe)\n",
    "        future_change['Future Year Change'] = (future_change['Close'].shift(-252) / future_change['Close'] - 1)\n",
    "\n",
    "        end_date = future_change.index[-1] - pd.DateOffset(years=1)\n",
    "        start_date = end_date - pd.DateOffset(years=int(timeframe[:-1]))\n",
    "        future_change = future_change.loc[start_date:end_date].dropna(subset=['Future Year Change'])\n",
    "        return future_change\n",
    "    except Exception as e:\n",
    "        print(f\"Error processing {ticker_symbol}: {e}\")\n",
    "        return pd.DataFrame()"
   ]
  },
  {
   "cell_type": "code",
   "execution_count": 148,
   "metadata": {},
   "outputs": [
    {
     "name": "stderr",
     "output_type": "stream",
     "text": [
      "U: Period '10y' is invalid, must be one of ['1d', '5d', '1mo', '3mo', '6mo', '1y', '2y', '5y', 'ytd', 'max']\n",
      "C:\\Users\\Gamer\\AppData\\Local\\Temp\\ipykernel_32\\2903271294.py:9: FutureWarning: The behavior of array concatenation with empty entries is deprecated. In a future version, this will no longer exclude empty items when determining the result dtype. To retain the old behavior, exclude the empty entries before the concat operation.\n",
      "  hist_data = pd.concat([hist_data, future_change])\n"
     ]
    },
    {
     "name": "stdout",
     "output_type": "stream",
     "text": [
      "Error processing U: index -1 is out of bounds for axis 0 with size 0\n"
     ]
    },
    {
     "name": "stderr",
     "output_type": "stream",
     "text": [
      "RBLX: Period '10y' is invalid, must be one of ['1d', '5d', '1mo', '3mo', '6mo', '1y', '2y', '5y', 'ytd', 'max']\n",
      "C:\\Users\\Gamer\\AppData\\Local\\Temp\\ipykernel_32\\2903271294.py:9: FutureWarning: The behavior of array concatenation with empty entries is deprecated. In a future version, this will no longer exclude empty items when determining the result dtype. To retain the old behavior, exclude the empty entries before the concat operation.\n",
      "  hist_data = pd.concat([hist_data, future_change])\n"
     ]
    },
    {
     "name": "stdout",
     "output_type": "stream",
     "text": [
      "Error processing RBLX: index -1 is out of bounds for axis 0 with size 0\n"
     ]
    },
    {
     "name": "stderr",
     "output_type": "stream",
     "text": [
      "PLTR: Period '10y' is invalid, must be one of ['1d', '5d', '1mo', '3mo', '6mo', '1y', '2y', '5y', 'ytd', 'max']\n",
      "C:\\Users\\Gamer\\AppData\\Local\\Temp\\ipykernel_32\\2903271294.py:9: FutureWarning: The behavior of array concatenation with empty entries is deprecated. In a future version, this will no longer exclude empty items when determining the result dtype. To retain the old behavior, exclude the empty entries before the concat operation.\n",
      "  hist_data = pd.concat([hist_data, future_change])\n"
     ]
    },
    {
     "name": "stdout",
     "output_type": "stream",
     "text": [
      "Error processing PLTR: index -1 is out of bounds for axis 0 with size 0\n"
     ]
    },
    {
     "name": "stderr",
     "output_type": "stream",
     "text": [
      "SNOW: Period '10y' is invalid, must be one of ['1d', '5d', '1mo', '3mo', '6mo', '1y', '2y', '5y', 'ytd', 'max']\n",
      "C:\\Users\\Gamer\\AppData\\Local\\Temp\\ipykernel_32\\2903271294.py:9: FutureWarning: The behavior of array concatenation with empty entries is deprecated. In a future version, this will no longer exclude empty items when determining the result dtype. To retain the old behavior, exclude the empty entries before the concat operation.\n",
      "  hist_data = pd.concat([hist_data, future_change])\n"
     ]
    },
    {
     "name": "stdout",
     "output_type": "stream",
     "text": [
      "Error processing SNOW: index -1 is out of bounds for axis 0 with size 0\n"
     ]
    }
   ],
   "source": [
    "def calculate_future_year_change(ticker_symbol, timeframe, buffer=1):\n",
    "    valid_periods = ['1d', '5d', '1mo', '3mo', '6mo', '1y', '2y', '5y', '10y', 'ytd', 'max']\n",
    "    extended_timeframe = 'max' if timeframe == 'max' else valid_periods[valid_periods.index(timeframe) + buffer]\n",
    "    try:\n",
    "        future_change = yf.Ticker(ticker_symbol).history(period=extended_timeframe)\n",
    "        future_change['Future Year Change'] = (future_change['Close'].shift(-252) / future_change['Close'] - 1)\n",
    "\n",
    "        end_date = future_change.index[-1] - pd.DateOffset(years=1)\n",
    "        start_date = end_date - pd.DateOffset(years=int(timeframe[:-1]))\n",
    "        future_change = future_change.loc[start_date:end_date].dropna(subset=['Future Year Change'])\n",
    "        return future_change\n",
    "    except Exception as e:\n",
    "        print(f\"Error processing {ticker_symbol}: {e}\")\n",
    "        return pd.DataFrame()"
   ]
  }
 ],
 "metadata": {
  "kernelspec": {
   "display_name": "base",
   "language": "python",
   "name": "python3"
  },
  "language_info": {
   "codemirror_mode": {
    "name": "ipython",
    "version": 3
   },
   "file_extension": ".py",
   "mimetype": "text/x-python",
   "name": "python",
   "nbconvert_exporter": "python",
   "pygments_lexer": "ipython3",
   "version": "3.12.3"
  }
 },
 "nbformat": 4,
 "nbformat_minor": 2
}
ker_data['Close'] * shares_outstanding) + total_debt - cash\n",
    "        ticker_data['EV/EBIT'] = ticker_data['EV'] / ebit\n",
    "\n",
    "        # Update the main DataFrame\n",
    "        data_with_ev_ebit.loc[ticker_data.index, 'EV/EBIT'] = ticker_data['EV/EBIT']\n",
    "\n",
    "    # Drop intermediate columns if present\n",
    "    if 'EV' in data_with_ev_ebit.columns:\n",
    "        data_with_ev_ebit.drop(columns=['EV'], inplace=True)\n",
    "\n",
    "    return data_with_ev_ebit\n"
   ]
  },
  {
   "cell_type": "code",
   "execution_count": 85,
   "metadata": {},
   "outputs": [],
   "source": [
    "# Function to calculate ROIC\n",
    "def calculate_daily_roic_for_histdata(hist_data):\n",
    "    \"\"\"\n",
    "    Add daily ROIC (Return on Invested Capital) to existing historical data.\n",
    "    \"\"\"\n",
    "    data_with_roic = hist_data.copy()\n",
    "\n",
    "    for symbol in data_with_roic['Ticker'].unique():\n",
    "        ticker_data = data_with_roic[data_with_roic['Ticker'] == symbol].copy()\n",
    "\n",
    "        # Fetch static EV data\n",
    "        total_debt, cash, shares_outstanding = get_static_ev_data(symbol)\n",
    "\n",
    "        if shares_outstanding:\n",
    "            # Calculate Market Cap and Invested Capital\n",
    "            ticker_data['Market Cap'] = ticker_data['Close'] * shares_outstanding\n",
    "            ticker_data['Invested Capital'] = total_debt + ticker_data['Market Cap'] - cash\n",
    "        else:\n",
    "            ticker_data['Invested Capital'] = None\n",
    "\n",
    "        # Fetch EBIT and approximate NOPAT\n",
    "        ebit = fetch_ebit(symbol)\n",
    "        if ebit:\n",
    "            # Assume a tax rate of 21% (adjust as needed)\n",
    "            tax_rate = 0.21\n",
    "            nopat = ebit * (1 - tax_rate)\n",
    "        else:\n",
    "            nopat = None\n",
    "\n",
    "        if nopat and ticker_data['Invested Capital'].notnull().all():\n",
    "            # Calculate ROIC\n",
    "            ticker_data['ROIC'] = nopat / ticker_data['Invested Capital']\n",
    "        else:\n",
    "            ticker_data['ROIC'] = None\n",
    "\n",
    "        # Update data with calculated ROIC\n",
    "        data_with_roic.loc[ticker_data.index, 'Market Cap'] = ticker_data['Market Cap']\n",
    "        data_with_roic.loc[ticker_data.index, 'ROIC'] = ticker_data['ROIC']\n",
    "\n",
    "    return data_with_roic"
   ]
  },
  {
   "cell_type": "code",
   "execution_count": 86,
   "metadata": {},
   "outputs": [
    {
     "name": "stdout",
     "output_type": "stream",
     "text": [
      "Static Data for AAPL:\n",
      "  Total Debt: 119058997248\n",
      "  Cash: 65171001344\n",
      "  Shares Outstanding: 15037899776\n",
      "Approximated EBIT for AAPL: 58655249203.2\n",
      "Static Data for MSFT:\n",
      "  Total Debt: 96838000640\n",
      "  Cash: 78429003776\n",
      "  Shares Outstanding: 7434880000\n",
      "Approximated EBIT for MSFT: 38128499097.6\n",
      "Static Data for AMZN:\n",
      "  Total Debt: 158534991872\n",
      "  Cash: 88050999296\n",
      "  Shares Outstanding: 10515000320\n",
      "Approximated EBIT for AMZN: 93019196620.8\n",
      "Static Data for GOOGL:\n",
      "  Total Debt: 29289000960\n",
      "  Cash: 93229998080\n",
      "  Shares Outstanding: 5842999808\n",
      "Approximated EBIT for GOOGL: 50978852044.799995\n",
      "Static Data for GOOG:\n",
      "  Total Debt: 29289000960\n",
      "  Cash: 93229998080\n",
      "  Shares Outstanding: 5534000128\n",
      "Approximated EBIT for GOOG: 50978852044.799995\n",
      "Static Data for META:\n",
      "  Total Debt: 49046999040\n",
      "  Cash: 70899998720\n",
      "  Shares Outstanding: 2180000000\n",
      "Approximated EBIT for META: 23434049126.399998\n",
      "Static Data for TSLA:\n",
      "  Total Debt: 12782999552\n",
      "  Cash: 33648001024\n",
      "  Shares Outstanding: 3210060032\n",
      "Approximated EBIT for TSLA: 14572500172.8\n",
      "Static Data for NVDA:\n",
      "  Total Debt: 10014999552\n",
      "  Cash: 34800001024\n",
      "  Shares Outstanding: 24490000384\n",
      "Approximated EBIT for NVDA: 14446050508.8\n",
      "Static Data for PYPL:\n",
      "  Total Debt: 13258000384\n",
      "  Cash: 11918999552\n",
      "  Shares Outstanding: 1002540032\n",
      "Approximated EBIT for PYPL: 4718549913.599999\n",
      "Static Data for ADBE:\n",
      "  Total Debt: 6078000128\n",
      "  Cash: 7514999808\n",
      "  Shares Outstanding: 435300000\n",
      "Approximated EBIT for ADBE: 3142049894.4\n",
      "Static Data for NFLX:\n",
      "  Total Debt: 18508648448\n",
      "  Cash: 9223926784\n",
      "  Shares Outstanding: 427457984\n",
      "Approximated EBIT for NFLX: 5638091980.8\n",
      "Static Data for INTC:\n",
      "  Total Debt: 50235998208\n",
      "  Cash: 24085999616\n",
      "  Shares Outstanding: 4312999936\n",
      "Approximated EBIT for INTC: 8137049702.4\n",
      "Static Data for CMCSA:\n",
      "  Total Debt: 101363998720\n",
      "  Cash: 8814000128\n",
      "  Shares Outstanding: 3817100032\n",
      "Approximated EBIT for CMCSA: 18460499558.399998\n",
      "Static Data for PEP:\n",
      "  Total Debt: 45013999616\n",
      "  Cash: 8050999808\n",
      "  Shares Outstanding: 1371990016\n",
      "Approximated EBIT for PEP: 13787999846.4\n",
      "Static Data for CSCO:\n",
      "  Total Debt: 31986999296\n",
      "  Cash: 18670999552\n",
      "  Shares Outstanding: 3982759936\n",
      "Approximated EBIT for CSCO: 7946400153.599999\n",
      "Static Data for AVGO:\n",
      "  Total Debt: 40456998912\n",
      "  Cash: 11105000448\n",
      "  Shares Outstanding: 4687360000\n",
      "Approximated EBIT for AVGO: 7022249779.2\n",
      "Static Data for COST:\n",
      "  Total Debt: 9948999680\n",
      "  Cash: 11143999488\n",
      "  Shares Outstanding: 443899008\n",
      "Approximated EBIT for COST: 38167950950.4\n",
      "Static Data for AMGN:\n",
      "  Total Debt: 60397998080\n",
      "  Cash: 9011000320\n",
      "  Shares Outstanding: 537532992\n",
      "Approximated EBIT for AMGN: 4880099942.4\n",
      "Static Data for TXN:\n",
      "  Total Debt: 14574000128\n",
      "  Cash: 8752000000\n",
      "  Shares Outstanding: 912217024\n",
      "Approximated EBIT for TXN: 2356649932.7999997\n",
      "Static Data for QCOM:\n",
      "  Total Debt: 15440000000\n",
      "  Cash: 13299999744\n",
      "  Shares Outstanding: 1111000064\n",
      "Approximated EBIT for QCOM: 5844299980.8\n",
      "Static Data for HON:\n",
      "  Total Debt: 31974000640\n",
      "  Cash: 10919000064\n",
      "  Shares Outstanding: 650246976\n",
      "Approximated EBIT for HON: 5677500211.2\n",
      "Static Data for SBUX:\n",
      "  Total Debt: 25803100160\n",
      "  Cash: 3543200000\n",
      "  Shares Outstanding: 1133799936\n",
      "Approximated EBIT for SBUX: 5426429952.0\n",
      "Static Data for AMD:\n",
      "  Total Debt: 2238000128\n",
      "  Cash: 4544000000\n",
      "  Shares Outstanding: 1622809984\n",
      "Approximated EBIT for AMD: 3644250009.6\n",
      "Static Data for INTU:\n",
      "  Total Debt: 0\n",
      "  Cash: 0\n",
      "  Shares Outstanding: 279916992\n",
      "Approximated EBIT for INTU: 2442749952.0\n",
      "Static Data for ISRG:\n",
      "  Total Debt: 0\n",
      "  Cash: 4231699968\n",
      "  Shares Outstanding: 356179008\n",
      "Approximated EBIT for ISRG: 1180034995.2\n",
      "Static Data for BKNG:\n",
      "  Total Debt: 16720000000\n",
      "  Cash: 15774999552\n",
      "  Shares Outstanding: 33096700\n",
      "Approximated EBIT for BKNG: 3457799884.7999997\n",
      "Static Data for MDLZ:\n",
      "  Total Debt: 20425000960\n",
      "  Cash: 1516999936\n",
      "  Shares Outstanding: 1337190016\n",
      "Approximated EBIT for MDLZ: 5422650163.2\n",
      "Static Data for ADP:\n",
      "  Total Debt: 9448299520\n",
      "  Cash: 6768500224\n",
      "  Shares Outstanding: 407456992\n",
      "Approximated EBIT for ADP: 2928434995.2\n",
      "Static Data for GILD:\n",
      "  Total Debt: 23249000448\n",
      "  Cash: 6696999936\n",
      "  Shares Outstanding: 1246269952\n",
      "Approximated EBIT for GILD: 4244849971.2\n",
      "Static Data for MU:\n",
      "  Total Debt: 14078000128\n",
      "  Cash: 8105999872\n",
      "  Shares Outstanding: 1114169984\n",
      "Approximated EBIT for MU: 3766649856.0\n",
      "Static Data for AMAT:\n",
      "  Total Debt: 6671000064\n",
      "  Cash: 9102999552\n",
      "  Shares Outstanding: 813684992\n",
      "Approximated EBIT for AMAT: 4028100096.0\n",
      "Static Data for LRCX:\n",
      "  Total Debt: 4983769088\n",
      "  Cash: 6067470848\n",
      "  Shares Outstanding: 1286690048\n",
      "Approximated EBIT for LRCX: 2338695014.4\n",
      "Static Data for ADI:\n",
      "  Total Debt: 8118322176\n",
      "  Cash: 2545699072\n",
      "  Shares Outstanding: 496296992\n",
      "Approximated EBIT for ADI: 1455065395.2\n",
      "Static Data for ASML:\n",
      "  Total Debt: 4692199936\n",
      "  Cash: 4984500224\n",
      "  Shares Outstanding: 393200000\n",
      "Approximated EBIT for ASML: 3935565004.7999997\n",
      "Static Data for MRNA:\n",
      "  Total Debt: 1355000064\n",
      "  Cash: 6866999808\n",
      "  Shares Outstanding: 384817984\n",
      "Approximated EBIT for MRNA: 762149990.4\n",
      "Static Data for ZM:\n",
      "  Total Debt: 64027000\n",
      "  Cash: 7520031744\n",
      "  Shares Outstanding: 262100000\n",
      "Approximated EBIT for ZM: 688040678.4\n",
      "Static Data for DOCU:\n",
      "  Total Debt: 135600992\n",
      "  Cash: 938353024\n",
      "  Shares Outstanding: 202023008\n",
      "Approximated EBIT for DOCU: 428771097.59999996\n",
      "Static Data for ROST:\n",
      "  Total Debt: 5864129024\n",
      "  Cash: 4668136960\n",
      "  Shares Outstanding: 329928992\n",
      "Approximated EBIT for ROST: 3163940352.0\n",
      "Static Data for REGN:\n",
      "  Total Debt: 2704000000\n",
      "  Cash: 9796500480\n",
      "  Shares Outstanding: 108072000\n",
      "Approximated EBIT for REGN: 2077065062.3999999\n",
      "Static Data for VRTX:\n",
      "  Total Debt: 1774099968\n",
      "  Cash: 6524499968\n",
      "  Shares Outstanding: 257528992\n",
      "Approximated EBIT for VRTX: 1593870028.8\n",
      "Static Data for EBAY:\n",
      "  Total Debt: 7858999808\n",
      "  Cash: 4890999808\n",
      "  Shares Outstanding: 479000000\n",
      "Approximated EBIT for EBAY: 1539900057.6\n",
      "Static Data for EXC:\n",
      "  Total Debt: 46115000320\n",
      "  Cash: 616000000\n",
      "  Shares Outstanding: 1004830016\n",
      "Approximated EBIT for EXC: 3438599884.7999997\n",
      "Static Data for SNPS:\n",
      "  Total Debt: 673875008\n",
      "  Cash: 1994246016\n",
      "  Shares Outstanding: 154578000\n",
      "Approximated EBIT for SNPS: 972515712.0\n",
      "Static Data for WDAY:\n",
      "  Total Debt: 3364000000\n",
      "  Cash: 7373000192\n",
      "  Shares Outstanding: 214000000\n",
      "Approximated EBIT for WDAY: 1179450009.6\n",
      "Static Data for TEAM:\n",
      "  Total Debt: 1244973952\n",
      "  Cash: 2216997888\n",
      "  Shares Outstanding: 161456000\n",
      "Approximated EBIT for TEAM: 685291315.1999999\n",
      "Static Data for OKTA:\n",
      "  Total Debt: 1220000000\n",
      "  Cash: 2358000128\n",
      "  Shares Outstanding: 163604992\n",
      "Approximated EBIT for OKTA: 367800000.0\n",
      "Static Data for CRWD:\n",
      "  Total Debt: 791972992\n",
      "  Cash: 4038535936\n",
      "  Shares Outstanding: 246311008\n",
      "Approximated EBIT for CRWD: 527438553.59999996\n",
      "Static Data for SHOP:\n",
      "  Total Debt: 1140999936\n",
      "  Cash: 4895000064\n",
      "  Shares Outstanding: 1212829952\n",
      "Approximated EBIT for SHOP: 1231799961.6\n",
      "Static Data for SQ:\n",
      "  Total Debt: 7409195008\n",
      "  Cash: 8861998080\n",
      "  Shares Outstanding: 559742016\n",
      "Approximated EBIT for SQ: 3579230208.0\n",
      "Static Data for UBER:\n",
      "  Total Debt: 13287999488\n",
      "  Cash: 9063000064\n",
      "  Shares Outstanding: 2105709952\n",
      "Approximated EBIT for UBER: 6293250048.0\n",
      "Static Data for TCEHY:\n",
      "  Total Debt: 0\n",
      "  Cash: 0\n",
      "  Shares Outstanding: 9095959552\n",
      "EBIT for TCEHY is unavailable.\n",
      "Missing or invalid EBIT for TCEHY. Skipping EV/EBIT calculation.\n",
      "Static Data for TSM:\n",
      "  Total Debt: 968509030400\n",
      "  Cash: 2167600054272\n",
      "  Shares Outstanding: 5186549760\n",
      "Approximated EBIT for TSM: 397706369433.6\n",
      "Static Data for NIO:\n",
      "  Total Debt: 33123946496\n",
      "  Cash: 36268662784\n",
      "  Shares Outstanding: 1941929984\n",
      "Approximated EBIT for NIO: 9528649728.0\n",
      "Static Data for JD:\n",
      "  Total Debt: 86189998080\n",
      "  Cash: 201901998080\n",
      "  Shares Outstanding: 1449500032\n",
      "Approximated EBIT for JD: 165783148953.6\n",
      "Static Data for BIDU:\n",
      "  Total Debt: 82800001024\n",
      "  Cash: 150355001344\n",
      "  Shares Outstanding: 285055008\n",
      "Approximated EBIT for BIDU: 20226299904.0\n",
      "Static Data for PDD:\n",
      "  Total Debt: 9765086208\n",
      "  Cash: 284927164416\n",
      "  Shares Outstanding: 1388770048\n",
      "Approximated EBIT for PDD: 51238949683.2\n",
      "Static Data for MELI:\n",
      "  Total Debt: 6339999744\n",
      "  Cash: 6672999936\n",
      "  Shares Outstanding: 50697400\n",
      "Approximated EBIT for MELI: 2773949952.0\n",
      "Static Data for SE:\n",
      "  Total Debt: 4403627008\n",
      "  Cash: 7913288192\n",
      "  Shares Outstanding: 528812000\n",
      "Approximated EBIT for SE: 2322908774.4\n",
      "Static Data for NTES:\n",
      "  Total Debt: 13615244288\n",
      "  Cash: 122856267776\n",
      "  Shares Outstanding: 644494016\n",
      "Approximated EBIT for NTES: 16012217548.8\n",
      "Static Data for HDB:\n",
      "  Total Debt: 6660388552704\n",
      "  Cash: 2663853850624\n",
      "  Shares Outstanding: 2549430016\n",
      "Approximated EBIT for HDB: 414159156019.2\n",
      "Static Data for INFY:\n",
      "  Total Debt: 1051000000\n",
      "  Cash: 3488000000\n",
      "  Shares Outstanding: 4142089984\n",
      "Approximated EBIT for INFY: 2825400115.2\n",
      "Static Data for IBN:\n",
      "  Total Debt: 2197605449728\n",
      "  Cash: 1643846303744\n",
      "  Shares Outstanding: 3530040064\n",
      "Approximated EBIT for IBN: 245776377446.4\n",
      "Static Data for VALE:\n",
      "  Total Debt: 90388996096\n",
      "  Cash: 25329000448\n",
      "  Shares Outstanding: 4268720128\n",
      "Approximated EBIT for VALE: 31666350489.6\n",
      "Static Data for RIO:\n",
      "  Total Debt: 14298999808\n",
      "  Cash: 9825000448\n",
      "  Shares Outstanding: 1252920064\n",
      "Approximated EBIT for RIO: 8126399692.799999\n",
      "Static Data for BHP:\n",
      "  Total Debt: 22230999040\n",
      "  Cash: 12529999872\n",
      "  Shares Outstanding: 2535140096\n",
      "Approximated EBIT for BHP: 8404050124.799999\n",
      "Static Data for SCCO:\n",
      "  Total Debt: 6982400000\n",
      "  Cash: 2973600000\n",
      "  Shares Outstanding: 790409984\n",
      "Approximated EBIT for SCCO: 1641690009.6\n",
      "Static Data for EQNR:\n",
      "  Total Debt: 29596000256\n",
      "  Cash: 30713999360\n",
      "  Shares Outstanding: 2722119936\n",
      "Approximated EBIT for EQNR: 15721499443.199999\n",
      "Static Data for ENB:\n",
      "  Total Debt: 95576997888\n",
      "  Cash: 1896000000\n",
      "  Shares Outstanding: 2177959936\n",
      "Approximated EBIT for ENB: 7283100057.599999\n",
      "Static Data for SU:\n",
      "  Total Debt: 15036999680\n",
      "  Cash: 3004999936\n",
      "  Shares Outstanding: 1257110016\n",
      "Approximated EBIT for SU: 7645199769.599999\n",
      "Static Data for CNQ:\n",
      "  Total Debt: 11516999680\n",
      "  Cash: 721000000\n",
      "  Shares Outstanding: 2113129984\n",
      "Approximated EBIT for CNQ: 5361149952.0\n",
      "Static Data for BCE:\n",
      "  Total Debt: 40080998400\n",
      "  Cash: 2609999872\n",
      "  Shares Outstanding: 912283008\n",
      "Approximated EBIT for BCE: 3668999884.7999997\n",
      "Static Data for TU:\n",
      "  Total Debt: 29053999104\n",
      "  Cash: 814000000\n",
      "  Shares Outstanding: 1492000000\n",
      "Approximated EBIT for TU: 2994600038.4\n",
      "Static Data for RY:\n",
      "  Total Debt: 444694003712\n",
      "  Cash: 732140011520\n",
      "  Shares Outstanding: 1414499968\n",
      "Approximated EBIT for RY: 8476199731.2\n",
      "Static Data for TD:\n",
      "  Total Debt: 457751986176\n",
      "  Cash: 552437022720\n",
      "  Shares Outstanding: 1750099968\n",
      "Approximated EBIT for TD: 7846350028.799999\n",
      "Static Data for BNS:\n",
      "  Total Debt: 271428993024\n",
      "  Cash: 420603985920\n",
      "  Shares Outstanding: 1360920064\n",
      "Approximated EBIT for BNS: 4439850086.4\n",
      "Static Data for CM:\n",
      "  Total Debt: 258304000000\n",
      "  Cash: 263185006592\n",
      "  Shares Outstanding: 942374976\n",
      "Approximated EBIT for CM: 3405600153.6\n",
      "Static Data for MFC:\n",
      "  Total Debt: 21941999616\n",
      "  Cash: 28796999680\n",
      "  Shares Outstanding: 1741200000\n",
      "Approximated EBIT for MFC: 4512149913.599999\n",
      "Static Data for SLF:\n",
      "  Total Debt: 12394000384\n",
      "  Cash: 96067002368\n",
      "  Shares Outstanding: 573891968\n",
      "Approximated EBIT for SLF: 4883849932.8\n",
      "Static Data for BIP:\n",
      "  Total Debt: 57988001792\n",
      "  Cash: 2163000064\n",
      "  Shares Outstanding: 461771008\n",
      "Approximated EBIT for BIP: 3084750028.7999997\n",
      "Static Data for BEP:\n",
      "  Total Debt: 29898000384\n",
      "  Cash: 1674000000\n",
      "  Shares Outstanding: 285112000\n",
      "Approximated EBIT for BEP: 865050009.6\n",
      "Static Data for TRP:\n",
      "  Total Debt: 72405000192\n",
      "  Cash: 5039000064\n",
      "  Shares Outstanding: 1038000000\n",
      "Approximated EBIT for TRP: 2497050009.6\n",
      "Static Data for CNI:\n",
      "  Total Debt: 21060999168\n",
      "  Cash: 273000000\n",
      "  Shares Outstanding: 628800000\n",
      "Approximated EBIT for CNI: 2573850009.6\n",
      "Static Data for NSRGY:\n",
      "  Total Debt: 65867001856\n",
      "  Cash: 6393999872\n",
      "  Shares Outstanding: 2571310080\n",
      "Approximated EBIT for NSRGY: 13815899750.4\n",
      "Static Data for AAPL:\n",
      "  Total Debt: 119058997248\n",
      "  Cash: 65171001344\n",
      "  Shares Outstanding: 15037899776\n",
      "Approximated EBIT for AAPL: 58655249203.2\n",
      "Static Data for MSFT:\n",
      "  Total Debt: 96838000640\n",
      "  Cash: 78429003776\n",
      "  Shares Outstanding: 7434880000\n",
      "Approximated EBIT for MSFT: 38128499097.6\n",
      "Static Data for AMZN:\n",
      "  Total Debt: 158534991872\n",
      "  Cash: 88050999296\n",
      "  Shares Outstanding: 10515000320\n",
      "Approximated EBIT for AMZN: 93019196620.8\n",
      "Static Data for GOOGL:\n",
      "  Total Debt: 29289000960\n",
      "  Cash: 93229998080\n",
      "  Shares Outstanding: 5842999808\n",
      "Approximated EBIT for GOOGL: 50978852044.799995\n",
      "Static Data for GOOG:\n",
      "  Total Debt: 29289000960\n",
      "  Cash: 93229998080\n",
      "  Shares Outstanding: 5534000128\n",
      "Approximated EBIT for GOOG: 50978852044.799995\n",
      "Static Data for META:\n",
      "  Total Debt: 49046999040\n",
      "  Cash: 70899998720\n",
      "  Shares Outstanding: 2180000000\n",
      "Approximated EBIT for META: 23434049126.399998\n",
      "Static Data for TSLA:\n",
      "  Total Debt: 12782999552\n",
      "  Cash: 33648001024\n",
      "  Shares Outstanding: 3210060032\n",
      "Approximated EBIT for TSLA: 14572500172.8\n",
      "Static Data for NVDA:\n",
      "  Total Debt: 10014999552\n",
      "  Cash: 34800001024\n",
      "  Shares Outstanding: 24490000384\n",
      "Approximated EBIT for NVDA: 14446050508.8\n"
     ]
    },
    {
     "name": "stderr",
     "output_type": "stream",
     "text": [
      "429 Client Error: Too Many Requests for url: https://query2.finance.yahoo.com/v10/finance/quoteSummary/PYPL?modules=financialData%2CquoteType%2CdefaultKeyStatistics%2CassetProfile%2CsummaryDetail&corsDomain=finance.yahoo.com&formatted=false&symbol=PYPL&crumb=Edge%3A+Too+Many+Requests\n"
     ]
    },
    {
     "name": "stdout",
     "output_type": "stream",
     "text": [
      "Error fetching EV components for PYPL: Expecting value: line 1 column 1 (char 0)\n"
     ]
    },
    {
     "name": "stderr",
     "output_type": "stream",
     "text": [
      "429 Client Error: Too Many Requests for url: https://query2.finance.yahoo.com/v10/finance/quoteSummary/PYPL?modules=financialData%2CquoteType%2CdefaultKeyStatistics%2CassetProfile%2CsummaryDetail&corsDomain=finance.yahoo.com&formatted=false&symbol=PYPL&crumb=Edge%3A+Too+Many+Requests\n",
      "/var/folders/ch/yfh31z5s3cq4cw_md59n4qw40000gn/T/ipykernel_76030/188037407.py:38: FutureWarning: Setting an item of incompatible dtype is deprecated and will raise an error in a future version of pandas. Value '[None None None ... None None None]' has dtype incompatible with float64, please explicitly cast to a compatible dtype first.\n",
      "  data_with_roic.loc[ticker_data.index, 'ROIC'] = ticker_data['ROIC']\n"
     ]
    },
    {
     "name": "stdout",
     "output_type": "stream",
     "text": [
      "Error calculating EBIT for PYPL: Expecting value: line 1 column 1 (char 0)\n",
      "EBIT for PYPL is unavailable.\n"
     ]
    },
    {
     "name": "stderr",
     "output_type": "stream",
     "text": [
      "429 Client Error: Too Many Requests for url: https://query2.finance.yahoo.com/v10/finance/quoteSummary/ADBE?modules=financialData%2CquoteType%2CdefaultKeyStatistics%2CassetProfile%2CsummaryDetail&corsDomain=finance.yahoo.com&formatted=false&symbol=ADBE&crumb=Edge%3A+Too+Many+Requests\n"
     ]
    },
    {
     "name": "stdout",
     "output_type": "stream",
     "text": [
      "Error fetching EV components for ADBE: Expecting value: line 1 column 1 (char 0)\n"
     ]
    },
    {
     "name": "stderr",
     "output_type": "stream",
     "text": [
      "429 Client Error: Too Many Requests for url: https://query2.finance.yahoo.com/v10/finance/quoteSummary/ADBE?modules=financialData%2CquoteType%2CdefaultKeyStatistics%2CassetProfile%2CsummaryDetail&corsDomain=finance.yahoo.com&formatted=false&symbol=ADBE&crumb=Edge%3A+Too+Many+Requests\n"
     ]
    },
    {
     "name": "stdout",
     "output_type": "stream",
     "text": [
      "Error calculating EBIT for ADBE: Expecting value: line 1 column 1 (char 0)\n",
      "EBIT for ADBE is unavailable.\n"
     ]
    },
    {
     "name": "stderr",
     "output_type": "stream",
     "text": [
      "429 Client Error: Too Many Requests for url: https://query2.finance.yahoo.com/v10/finance/quoteSummary/NFLX?modules=financialData%2CquoteType%2CdefaultKeyStatistics%2CassetProfile%2CsummaryDetail&corsDomain=finance.yahoo.com&formatted=false&symbol=NFLX&crumb=Edge%3A+Too+Many+Requests\n"
     ]
    },
    {
     "name": "stdout",
     "output_type": "stream",
     "text": [
      "Error fetching EV components for NFLX: Expecting value: line 1 column 1 (char 0)\n"
     ]
    },
    {
     "name": "stderr",
     "output_type": "stream",
     "text": [
      "429 Client Error: Too Many Requests for url: https://query2.finance.yahoo.com/v10/finance/quoteSummary/NFLX?modules=financialData%2CquoteType%2CdefaultKeyStatistics%2CassetProfile%2CsummaryDetail&corsDomain=finance.yahoo.com&formatted=false&symbol=NFLX&crumb=Edge%3A+Too+Many+Requests\n"
     ]
    },
    {
     "name": "stdout",
     "output_type": "stream",
     "text": [
      "Error calculating EBIT for NFLX: Expecting value: line 1 column 1 (char 0)\n",
      "EBIT for NFLX is unavailable.\n"
     ]
    },
    {
     "name": "stderr",
     "output_type": "stream",
     "text": [
      "429 Client Error: Too Many Requests for url: https://query2.finance.yahoo.com/v10/finance/quoteSummary/INTC?modules=financialData%2CquoteType%2CdefaultKeyStatistics%2CassetProfile%2CsummaryDetail&corsDomain=finance.yahoo.com&formatted=false&symbol=INTC&crumb=Edge%3A+Too+Many+Requests\n"
     ]
    },
    {
     "name": "stdout",
     "output_type": "stream",
     "text": [
      "Error fetching EV components for INTC: Expecting value: line 1 column 1 (char 0)\n"
     ]
    },
    {
     "name": "stderr",
     "output_type": "stream",
     "text": [
      "429 Client Error: Too Many Requests for url: https://query2.finance.yahoo.com/v10/finance/quoteSummary/INTC?modules=financialData%2CquoteType%2CdefaultKeyStatistics%2CassetProfile%2CsummaryDetail&corsDomain=finance.yahoo.com&formatted=false&symbol=INTC&crumb=Edge%3A+Too+Many+Requests\n"
     ]
    },
    {
     "name": "stdout",
     "output_type": "stream",
     "text": [
      "Error calculating EBIT for INTC: Expecting value: line 1 column 1 (char 0)\n",
      "EBIT for INTC is unavailable.\n"
     ]
    },
    {
     "name": "stderr",
     "output_type": "stream",
     "text": [
      "429 Client Error: Too Many Requests for url: https://query2.finance.yahoo.com/v10/finance/quoteSummary/CMCSA?modules=financialData%2CquoteType%2CdefaultKeyStatistics%2CassetProfile%2CsummaryDetail&corsDomain=finance.yahoo.com&formatted=false&symbol=CMCSA&crumb=Edge%3A+Too+Many+Requests\n"
     ]
    },
    {
     "name": "stdout",
     "output_type": "stream",
     "text": [
      "Error fetching EV components for CMCSA: Expecting value: line 1 column 1 (char 0)\n"
     ]
    },
    {
     "name": "stderr",
     "output_type": "stream",
     "text": [
      "429 Client Error: Too Many Requests for url: https://query2.finance.yahoo.com/v10/finance/quoteSummary/CMCSA?modules=financialData%2CquoteType%2CdefaultKeyStatistics%2CassetProfile%2CsummaryDetail&corsDomain=finance.yahoo.com&formatted=false&symbol=CMCSA&crumb=Edge%3A+Too+Many+Requests\n"
     ]
    },
    {
     "name": "stdout",
     "output_type": "stream",
     "text": [
      "Error calculating EBIT for CMCSA: Expecting value: line 1 column 1 (char 0)\n",
      "EBIT for CMCSA is unavailable.\n"
     ]
    },
    {
     "name": "stderr",
     "output_type": "stream",
     "text": [
      "429 Client Error: Too Many Requests for url: https://query2.finance.yahoo.com/v10/finance/quoteSummary/PEP?modules=financialData%2CquoteType%2CdefaultKeyStatistics%2CassetProfile%2CsummaryDetail&corsDomain=finance.yahoo.com&formatted=false&symbol=PEP&crumb=Edge%3A+Too+Many+Requests\n"
     ]
    },
    {
     "name": "stdout",
     "output_type": "stream",
     "text": [
      "Error fetching EV components for PEP: Expecting value: line 1 column 1 (char 0)\n"
     ]
    },
    {
     "name": "stderr",
     "output_type": "stream",
     "text": [
      "429 Client Error: Too Many Requests for url: https://query2.finance.yahoo.com/v10/finance/quoteSummary/PEP?modules=financialData%2CquoteType%2CdefaultKeyStatistics%2CassetProfile%2CsummaryDetail&corsDomain=finance.yahoo.com&formatted=false&symbol=PEP&crumb=Edge%3A+Too+Many+Requests\n"
     ]
    },
    {
     "name": "stdout",
     "output_type": "stream",
     "text": [
      "Error calculating EBIT for PEP: Expecting value: line 1 column 1 (char 0)\n",
      "EBIT for PEP is unavailable.\n"
     ]
    },
    {
     "name": "stderr",
     "output_type": "stream",
     "text": [
      "429 Client Error: Too Many Requests for url: https://query2.finance.yahoo.com/v10/finance/quoteSummary/CSCO?modules=financialData%2CquoteType%2CdefaultKeyStatistics%2CassetProfile%2CsummaryDetail&corsDomain=finance.yahoo.com&formatted=false&symbol=CSCO&crumb=Edge%3A+Too+Many+Requests\n"
     ]
    },
    {
     "name": "stdout",
     "output_type": "stream",
     "text": [
      "Error fetching EV components for CSCO: Expecting value: line 1 column 1 (char 0)\n"
     ]
    },
    {
     "name": "stderr",
     "output_type": "stream",
     "text": [
      "429 Client Error: Too Many Requests for url: https://query2.finance.yahoo.com/v10/finance/quoteSummary/CSCO?modules=financialData%2CquoteType%2CdefaultKeyStatistics%2CassetProfile%2CsummaryDetail&corsDomain=finance.yahoo.com&formatted=false&symbol=CSCO&crumb=Edge%3A+Too+Many+Requests\n"
     ]
    },
    {
     "name": "stdout",
     "output_type": "stream",
     "text": [
      "Error calculating EBIT for CSCO: Expecting value: line 1 column 1 (char 0)\n",
      "EBIT for CSCO is unavailable.\n"
     ]
    },
    {
     "name": "stderr",
     "output_type": "stream",
     "text": [
      "429 Client Error: Too Many Requests for url: https://query2.finance.yahoo.com/v10/finance/quoteSummary/AVGO?modules=financialData%2CquoteType%2CdefaultKeyStatistics%2CassetProfile%2CsummaryDetail&corsDomain=finance.yahoo.com&formatted=false&symbol=AVGO&crumb=Edge%3A+Too+Many+Requests\n"
     ]
    },
    {
     "name": "stdout",
     "output_type": "stream",
     "text": [
      "Error fetching EV components for AVGO: Expecting value: line 1 column 1 (char 0)\n"
     ]
    },
    {
     "name": "stderr",
     "output_type": "stream",
     "text": [
      "429 Client Error: Too Many Requests for url: https://query2.finance.yahoo.com/v10/finance/quoteSummary/AVGO?modules=financialData%2CquoteType%2CdefaultKeyStatistics%2CassetProfile%2CsummaryDetail&corsDomain=finance.yahoo.com&formatted=false&symbol=AVGO&crumb=Edge%3A+Too+Many+Requests\n"
     ]
    },
    {
     "name": "stdout",
     "output_type": "stream",
     "text": [
      "Error calculating EBIT for AVGO: Expecting value: line 1 column 1 (char 0)\n",
      "EBIT for AVGO is unavailable.\n"
     ]
    },
    {
     "name": "stderr",
     "output_type": "stream",
     "text": [
      "429 Client Error: Too Many Requests for url: https://query2.finance.yahoo.com/v10/finance/quoteSummary/COST?modules=financialData%2CquoteType%2CdefaultKeyStatistics%2CassetProfile%2CsummaryDetail&corsDomain=finance.yahoo.com&formatted=false&symbol=COST&crumb=Edge%3A+Too+Many+Requests\n"
     ]
    },
    {
     "name": "stdout",
     "output_type": "stream",
     "text": [
      "Error fetching EV components for COST: Expecting value: line 1 column 1 (char 0)\n"
     ]
    },
    {
     "name": "stderr",
     "output_type": "stream",
     "text": [
      "429 Client Error: Too Many Requests for url: https://query2.finance.yahoo.com/v10/finance/quoteSummary/COST?modules=financialData%2CquoteType%2CdefaultKeyStatistics%2CassetProfile%2CsummaryDetail&corsDomain=finance.yahoo.com&formatted=false&symbol=COST&crumb=Edge%3A+Too+Many+Requests\n"
     ]
    },
    {
     "name": "stdout",
     "output_type": "stream",
     "text": [
      "Error calculating EBIT for COST: Expecting value: line 1 column 1 (char 0)\n",
      "EBIT for COST is unavailable.\n"
     ]
    },
    {
     "name": "stderr",
     "output_type": "stream",
     "text": [
      "429 Client Error: Too Many Requests for url: https://query2.finance.yahoo.com/v10/finance/quoteSummary/AMGN?modules=financialData%2CquoteType%2CdefaultKeyStatistics%2CassetProfile%2CsummaryDetail&corsDomain=finance.yahoo.com&formatted=false&symbol=AMGN&crumb=Edge%3A+Too+Many+Requests\n"
     ]
    },
    {
     "name": "stdout",
     "output_type": "stream",
     "text": [
      "Error fetching EV components for AMGN: Expecting value: line 1 column 1 (char 0)\n"
     ]
    },
    {
     "name": "stderr",
     "output_type": "stream",
     "text": [
      "429 Client Error: Too Many Requests for url: https://query2.finance.yahoo.com/v10/finance/quoteSummary/AMGN?modules=financialData%2CquoteType%2CdefaultKeyStatistics%2CassetProfile%2CsummaryDetail&corsDomain=finance.yahoo.com&formatted=false&symbol=AMGN&crumb=Edge%3A+Too+Many+Requests\n"
     ]
    },
    {
     "name": "stdout",
     "output_type": "stream",
     "text": [
      "Error calculating EBIT for AMGN: Expecting value: line 1 column 1 (char 0)\n",
      "EBIT for AMGN is unavailable.\n"
     ]
    },
    {
     "name": "stderr",
     "output_type": "stream",
     "text": [
      "429 Client Error: Too Many Requests for url: https://query2.finance.yahoo.com/v10/finance/quoteSummary/TXN?modules=financialData%2CquoteType%2CdefaultKeyStatistics%2CassetProfile%2CsummaryDetail&corsDomain=finance.yahoo.com&formatted=false&symbol=TXN&crumb=Edge%3A+Too+Many+Requests\n"
     ]
    },
    {
     "name": "stdout",
     "output_type": "stream",
     "text": [
      "Error fetching EV components for TXN: Expecting value: line 1 column 1 (char 0)\n"
     ]
    },
    {
     "name": "stderr",
     "output_type": "stream",
     "text": [
      "429 Client Error: Too Many Requests for url: https://query2.finance.yahoo.com/v10/finance/quoteSummary/TXN?modules=financialData%2CquoteType%2CdefaultKeyStatistics%2CassetProfile%2CsummaryDetail&corsDomain=finance.yahoo.com&formatted=false&symbol=TXN&crumb=Edge%3A+Too+Many+Requests\n"
     ]
    },
    {
     "name": "stdout",
     "output_type": "stream",
     "text": [
      "Error calculating EBIT for TXN: Expecting value: line 1 column 1 (char 0)\n",
      "EBIT for TXN is unavailable.\n"
     ]
    },
    {
     "name": "stderr",
     "output_type": "stream",
     "text": [
      "429 Client Error: Too Many Requests for url: https://query2.finance.yahoo.com/v10/finance/quoteSummary/QCOM?modules=financialData%2CquoteType%2CdefaultKeyStatistics%2CassetProfile%2CsummaryDetail&corsDomain=finance.yahoo.com&formatted=false&symbol=QCOM&crumb=Edge%3A+Too+Many+Requests\n"
     ]
    },
    {
     "name": "stdout",
     "output_type": "stream",
     "text": [
      "Error fetching EV components for QCOM: Expecting value: line 1 column 1 (char 0)\n"
     ]
    },
    {
     "name": "stderr",
     "output_type": "stream",
     "text": [
      "429 Client Error: Too Many Requests for url: https://query2.finance.yahoo.com/v10/finance/quoteSummary/QCOM?modules=financialData%2CquoteType%2CdefaultKeyStatistics%2CassetProfile%2CsummaryDetail&corsDomain=finance.yahoo.com&formatted=false&symbol=QCOM&crumb=Edge%3A+Too+Many+Requests\n"
     ]
    },
    {
     "name": "stdout",
     "output_type": "stream",
     "text": [
      "Error calculating EBIT for QCOM: Expecting value: line 1 column 1 (char 0)\n",
      "EBIT for QCOM is unavailable.\n"
     ]
    },
    {
     "name": "stderr",
     "output_type": "stream",
     "text": [
      "429 Client Error: Too Many Requests for url: https://query2.finance.yahoo.com/v10/finance/quoteSummary/HON?modules=financialData%2CquoteType%2CdefaultKeyStatistics%2CassetProfile%2CsummaryDetail&corsDomain=finance.yahoo.com&formatted=false&symbol=HON&crumb=Edge%3A+Too+Many+Requests\n"
     ]
    },
    {
     "name": "stdout",
     "output_type": "stream",
     "text": [
      "Error fetching EV components for HON: Expecting value: line 1 column 1 (char 0)\n"
     ]
    },
    {
     "name": "stderr",
     "output_type": "stream",
     "text": [
      "429 Client Error: Too Many Requests for url: https://query2.finance.yahoo.com/v10/finance/quoteSummary/HON?modules=financialData%2CquoteType%2CdefaultKeyStatistics%2CassetProfile%2CsummaryDetail&corsDomain=finance.yahoo.com&formatted=false&symbol=HON&crumb=Edge%3A+Too+Many+Requests\n"
     ]
    },
    {
     "name": "stdout",
     "output_type": "stream",
     "text": [
      "Error calculating EBIT for HON: Expecting value: line 1 column 1 (char 0)\n",
      "EBIT for HON is unavailable.\n"
     ]
    },
    {
     "name": "stderr",
     "output_type": "stream",
     "text": [
      "429 Client Error: Too Many Requests for url: https://query2.finance.yahoo.com/v10/finance/quoteSummary/SBUX?modules=financialData%2CquoteType%2CdefaultKeyStatistics%2CassetProfile%2CsummaryDetail&corsDomain=finance.yahoo.com&formatted=false&symbol=SBUX&crumb=Edge%3A+Too+Many+Requests\n"
     ]
    },
    {
     "name": "stdout",
     "output_type": "stream",
     "text": [
      "Error fetching EV components for SBUX: Expecting value: line 1 column 1 (char 0)\n"
     ]
    },
    {
     "name": "stderr",
     "output_type": "stream",
     "text": [
      "429 Client Error: Too Many Requests for url: https://query2.finance.yahoo.com/v10/finance/quoteSummary/SBUX?modules=financialData%2CquoteType%2CdefaultKeyStatistics%2CassetProfile%2CsummaryDetail&corsDomain=finance.yahoo.com&formatted=false&symbol=SBUX&crumb=Edge%3A+Too+Many+Requests\n"
     ]
    },
    {
     "name": "stdout",
     "output_type": "stream",
     "text": [
      "Error calculating EBIT for SBUX: Expecting value: line 1 column 1 (char 0)\n",
      "EBIT for SBUX is unavailable.\n"
     ]
    },
    {
     "name": "stderr",
     "output_type": "stream",
     "text": [
      "429 Client Error: Too Many Requests for url: https://query2.finance.yahoo.com/v10/finance/quoteSummary/AMD?modules=financialData%2CquoteType%2CdefaultKeyStatistics%2CassetProfile%2CsummaryDetail&corsDomain=finance.yahoo.com&formatted=false&symbol=AMD&crumb=Edge%3A+Too+Many+Requests\n"
     ]
    },
    {
     "name": "stdout",
     "output_type": "stream",
     "text": [
      "Error fetching EV components for AMD: Expecting value: line 1 column 1 (char 0)\n"
     ]
    },
    {
     "name": "stderr",
     "output_type": "stream",
     "text": [
      "429 Client Error: Too Many Requests for url: https://query2.finance.yahoo.com/v10/finance/quoteSummary/AMD?modules=financialData%2CquoteType%2CdefaultKeyStatistics%2CassetProfile%2CsummaryDetail&corsDomain=finance.yahoo.com&formatted=false&symbol=AMD&crumb=Edge%3A+Too+Many+Requests\n"
     ]
    },
    {
     "name": "stdout",
     "output_type": "stream",
     "text": [
      "Error calculating EBIT for AMD: Expecting value: line 1 column 1 (char 0)\n",
      "EBIT for AMD is unavailable.\n"
     ]
    },
    {
     "name": "stderr",
     "output_type": "stream",
     "text": [
      "429 Client Error: Too Many Requests for url: https://query2.finance.yahoo.com/v10/finance/quoteSummary/INTU?modules=financialData%2CquoteType%2CdefaultKeyStatistics%2CassetProfile%2CsummaryDetail&corsDomain=finance.yahoo.com&formatted=false&symbol=INTU&crumb=Edge%3A+Too+Many+Requests\n"
     ]
    },
    {
     "name": "stdout",
     "output_type": "stream",
     "text": [
      "Error fetching EV components for INTU: Expecting value: line 1 column 1 (char 0)\n"
     ]
    },
    {
     "name": "stderr",
     "output_type": "stream",
     "text": [
      "429 Client Error: Too Many Requests for url: https://query2.finance.yahoo.com/v10/finance/quoteSummary/INTU?modules=financialData%2CquoteType%2CdefaultKeyStatistics%2CassetProfile%2CsummaryDetail&corsDomain=finance.yahoo.com&formatted=false&symbol=INTU&crumb=Edge%3A+Too+Many+Requests\n"
     ]
    },
    {
     "name": "stdout",
     "output_type": "stream",
     "text": [
      "Error calculating EBIT for INTU: Expecting value: line 1 column 1 (char 0)\n",
      "EBIT for INTU is unavailable.\n"
     ]
    },
    {
     "name": "stderr",
     "output_type": "stream",
     "text": [
      "429 Client Error: Too Many Requests for url: https://query2.finance.yahoo.com/v10/finance/quoteSummary/ISRG?modules=financialData%2CquoteType%2CdefaultKeyStatistics%2CassetProfile%2CsummaryDetail&corsDomain=finance.yahoo.com&formatted=false&symbol=ISRG&crumb=Edge%3A+Too+Many+Requests\n"
     ]
    },
    {
     "name": "stdout",
     "output_type": "stream",
     "text": [
      "Error fetching EV components for ISRG: Expecting value: line 1 column 1 (char 0)\n"
     ]
    },
    {
     "name": "stderr",
     "output_type": "stream",
     "text": [
      "429 Client Error: Too Many Requests for url: https://query2.finance.yahoo.com/v10/finance/quoteSummary/ISRG?modules=financialData%2CquoteType%2CdefaultKeyStatistics%2CassetProfile%2CsummaryDetail&corsDomain=finance.yahoo.com&formatted=false&symbol=ISRG&crumb=Edge%3A+Too+Many+Requests\n"
     ]
    },
    {
     "name": "stdout",
     "output_type": "stream",
     "text": [
      "Error calculating EBIT for ISRG: Expecting value: line 1 column 1 (char 0)\n",
      "EBIT for ISRG is unavailable.\n"
     ]
    },
    {
     "name": "stderr",
     "output_type": "stream",
     "text": [
      "429 Client Error: Too Many Requests for url: https://query2.finance.yahoo.com/v10/finance/quoteSummary/BKNG?modules=financialData%2CquoteType%2CdefaultKeyStatistics%2CassetProfile%2CsummaryDetail&corsDomain=finance.yahoo.com&formatted=false&symbol=BKNG&crumb=Edge%3A+Too+Many+Requests\n"
     ]
    },
    {
     "name": "stdout",
     "output_type": "stream",
     "text": [
      "Error fetching EV components for BKNG: Expecting value: line 1 column 1 (char 0)\n"
     ]
    },
    {
     "name": "stderr",
     "output_type": "stream",
     "text": [
      "429 Client Error: Too Many Requests for url: https://query2.finance.yahoo.com/v10/finance/quoteSummary/BKNG?modules=financialData%2CquoteType%2CdefaultKeyStatistics%2CassetProfile%2CsummaryDetail&corsDomain=finance.yahoo.com&formatted=false&symbol=BKNG&crumb=Edge%3A+Too+Many+Requests\n"
     ]
    },
    {
     "name": "stdout",
     "output_type": "stream",
     "text": [
      "Error calculating EBIT for BKNG: Expecting value: line 1 column 1 (char 0)\n",
      "EBIT for BKNG is unavailable.\n"
     ]
    },
    {
     "name": "stderr",
     "output_type": "stream",
     "text": [
      "429 Client Error: Too Many Requests for url: https://query2.finance.yahoo.com/v10/finance/quoteSummary/MDLZ?modules=financialData%2CquoteType%2CdefaultKeyStatistics%2CassetProfile%2CsummaryDetail&corsDomain=finance.yahoo.com&formatted=false&symbol=MDLZ&crumb=Edge%3A+Too+Many+Requests\n"
     ]
    },
    {
     "name": "stdout",
     "output_type": "stream",
     "text": [
      "Error fetching EV components for MDLZ: Expecting value: line 1 column 1 (char 0)\n"
     ]
    },
    {
     "name": "stderr",
     "output_type": "stream",
     "text": [
      "429 Client Error: Too Many Requests for url: https://query2.finance.yahoo.com/v10/finance/quoteSummary/MDLZ?modules=financialData%2CquoteType%2CdefaultKeyStatistics%2CassetProfile%2CsummaryDetail&corsDomain=finance.yahoo.com&formatted=false&symbol=MDLZ&crumb=Edge%3A+Too+Many+Requests\n"
     ]
    },
    {
     "name": "stdout",
     "output_type": "stream",
     "text": [
      "Error calculating EBIT for MDLZ: Expecting value: line 1 column 1 (char 0)\n",
      "EBIT for MDLZ is unavailable.\n"
     ]
    },
    {
     "name": "stderr",
     "output_type": "stream",
     "text": [
      "429 Client Error: Too Many Requests for url: https://query2.finance.yahoo.com/v10/finance/quoteSummary/ADP?modules=financialData%2CquoteType%2CdefaultKeyStatistics%2CassetProfile%2CsummaryDetail&corsDomain=finance.yahoo.com&formatted=false&symbol=ADP&crumb=Edge%3A+Too+Many+Requests\n"
     ]
    },
    {
     "name": "stdout",
     "output_type": "stream",
     "text": [
      "Error fetching EV components for ADP: Expecting value: line 1 column 1 (char 0)\n"
     ]
    },
    {
     "name": "stderr",
     "output_type": "stream",
     "text": [
      "429 Client Error: Too Many Requests for url: https://query2.finance.yahoo.com/v10/finance/quoteSummary/ADP?modules=financialData%2CquoteType%2CdefaultKeyStatistics%2CassetProfile%2CsummaryDetail&corsDomain=finance.yahoo.com&formatted=false&symbol=ADP&crumb=Edge%3A+Too+Many+Requests\n"
     ]
    },
    {
     "name": "stdout",
     "output_type": "stream",
     "text": [
      "Error calculating EBIT for ADP: Expecting value: line 1 column 1 (char 0)\n",
      "EBIT for ADP is unavailable.\n"
     ]
    },
    {
     "name": "stderr",
     "output_type": "stream",
     "text": [
      "429 Client Error: Too Many Requests for url: https://query2.finance.yahoo.com/v10/finance/quoteSummary/GILD?modules=financialData%2CquoteType%2CdefaultKeyStatistics%2CassetProfile%2CsummaryDetail&corsDomain=finance.yahoo.com&formatted=false&symbol=GILD&crumb=Edge%3A+Too+Many+Requests\n"
     ]
    },
    {
     "name": "stdout",
     "output_type": "stream",
     "text": [
      "Error fetching EV components for GILD: Expecting value: line 1 column 1 (char 0)\n"
     ]
    },
    {
     "name": "stderr",
     "output_type": "stream",
     "text": [
      "429 Client Error: Too Many Requests for url: https://query2.finance.yahoo.com/v10/finance/quoteSummary/GILD?modules=financialData%2CquoteType%2CdefaultKeyStatistics%2CassetProfile%2CsummaryDetail&corsDomain=finance.yahoo.com&formatted=false&symbol=GILD&crumb=Edge%3A+Too+Many+Requests\n"
     ]
    },
    {
     "name": "stdout",
     "output_type": "stream",
     "text": [
      "Error calculating EBIT for GILD: Expecting value: line 1 column 1 (char 0)\n",
      "EBIT for GILD is unavailable.\n"
     ]
    },
    {
     "name": "stderr",
     "output_type": "stream",
     "text": [
      "429 Client Error: Too Many Requests for url: https://query2.finance.yahoo.com/v10/finance/quoteSummary/MU?modules=financialData%2CquoteType%2CdefaultKeyStatistics%2CassetProfile%2CsummaryDetail&corsDomain=finance.yahoo.com&formatted=false&symbol=MU&crumb=Edge%3A+Too+Many+Requests\n"
     ]
    },
    {
     "name": "stdout",
     "output_type": "stream",
     "text": [
      "Error fetching EV components for MU: Expecting value: line 1 column 1 (char 0)\n"
     ]
    },
    {
     "name": "stderr",
     "output_type": "stream",
     "text": [
      "429 Client Error: Too Many Requests for url: https://query2.finance.yahoo.com/v10/finance/quoteSummary/MU?modules=financialData%2CquoteType%2CdefaultKeyStatistics%2CassetProfile%2CsummaryDetail&corsDomain=finance.yahoo.com&formatted=false&symbol=MU&crumb=Edge%3A+Too+Many+Requests\n"
     ]
    },
    {
     "name": "stdout",
     "output_type": "stream",
     "text": [
      "Error calculating EBIT for MU: Expecting value: line 1 column 1 (char 0)\n",
      "EBIT for MU is unavailable.\n"
     ]
    },
    {
     "name": "stderr",
     "output_type": "stream",
     "text": [
      "429 Client Error: Too Many Requests for url: https://query2.finance.yahoo.com/v10/finance/quoteSummary/AMAT?modules=financialData%2CquoteType%2CdefaultKeyStatistics%2CassetProfile%2CsummaryDetail&corsDomain=finance.yahoo.com&formatted=false&symbol=AMAT&crumb=Edge%3A+Too+Many+Requests\n"
     ]
    },
    {
     "name": "stdout",
     "output_type": "stream",
     "text": [
      "Error fetching EV components for AMAT: Expecting value: line 1 column 1 (char 0)\n"
     ]
    },
    {
     "name": "stderr",
     "output_type": "stream",
     "text": [
      "429 Client Error: Too Many Requests for url: https://query2.finance.yahoo.com/v10/finance/quoteSummary/AMAT?modules=financialData%2CquoteType%2CdefaultKeyStatistics%2CassetProfile%2CsummaryDetail&corsDomain=finance.yahoo.com&formatted=false&symbol=AMAT&crumb=Edge%3A+Too+Many+Requests\n"
     ]
    },
    {
     "name": "stdout",
     "output_type": "stream",
     "text": [
      "Error calculating EBIT for AMAT: Expecting value: line 1 column 1 (char 0)\n",
      "EBIT for AMAT is unavailable.\n"
     ]
    },
    {
     "name": "stderr",
     "output_type": "stream",
     "text": [
      "429 Client Error: Too Many Requests for url: https://query2.finance.yahoo.com/v10/finance/quoteSummary/LRCX?modules=financialData%2CquoteType%2CdefaultKeyStatistics%2CassetProfile%2CsummaryDetail&corsDomain=finance.yahoo.com&formatted=false&symbol=LRCX&crumb=Edge%3A+Too+Many+Requests\n"
     ]
    },
    {
     "name": "stdout",
     "output_type": "stream",
     "text": [
      "Error fetching EV components for LRCX: Expecting value: line 1 column 1 (char 0)\n"
     ]
    },
    {
     "name": "stderr",
     "output_type": "stream",
     "text": [
      "429 Client Error: Too Many Requests for url: https://query2.finance.yahoo.com/v10/finance/quoteSummary/LRCX?modules=financialData%2CquoteType%2CdefaultKeyStatistics%2CassetProfile%2CsummaryDetail&corsDomain=finance.yahoo.com&formatted=false&symbol=LRCX&crumb=Edge%3A+Too+Many+Requests\n"
     ]
    },
    {
     "name": "stdout",
     "output_type": "stream",
     "text": [
      "Error calculating EBIT for LRCX: Expecting value: line 1 column 1 (char 0)\n",
      "EBIT for LRCX is unavailable.\n"
     ]
    },
    {
     "name": "stderr",
     "output_type": "stream",
     "text": [
      "429 Client Error: Too Many Requests for url: https://query2.finance.yahoo.com/v10/finance/quoteSummary/ADI?modules=financialData%2CquoteType%2CdefaultKeyStatistics%2CassetProfile%2CsummaryDetail&corsDomain=finance.yahoo.com&formatted=false&symbol=ADI&crumb=Edge%3A+Too+Many+Requests\n"
     ]
    },
    {
     "name": "stdout",
     "output_type": "stream",
     "text": [
      "Error fetching EV components for ADI: Expecting value: line 1 column 1 (char 0)\n"
     ]
    },
    {
     "name": "stderr",
     "output_type": "stream",
     "text": [
      "429 Client Error: Too Many Requests for url: https://query2.finance.yahoo.com/v10/finance/quoteSummary/ADI?modules=financialData%2CquoteType%2CdefaultKeyStatistics%2CassetProfile%2CsummaryDetail&corsDomain=finance.yahoo.com&formatted=false&symbol=ADI&crumb=Edge%3A+Too+Many+Requests\n"
     ]
    },
    {
     "name": "stdout",
     "output_type": "stream",
     "text": [
      "Error calculating EBIT for ADI: Expecting value: line 1 column 1 (char 0)\n",
      "EBIT for ADI is unavailable.\n"
     ]
    },
    {
     "name": "stderr",
     "output_type": "stream",
     "text": [
      "429 Client Error: Too Many Requests for url: https://query2.finance.yahoo.com/v10/finance/quoteSummary/ASML?modules=financialData%2CquoteType%2CdefaultKeyStatistics%2CassetProfile%2CsummaryDetail&corsDomain=finance.yahoo.com&formatted=false&symbol=ASML&crumb=Edge%3A+Too+Many+Requests\n"
     ]
    },
    {
     "name": "stdout",
     "output_type": "stream",
     "text": [
      "Error fetching EV components for ASML: Expecting value: line 1 column 1 (char 0)\n"
     ]
    },
    {
     "name": "stderr",
     "output_type": "stream",
     "text": [
      "429 Client Error: Too Many Requests for url: https://query2.finance.yahoo.com/v10/finance/quoteSummary/ASML?modules=financialData%2CquoteType%2CdefaultKeyStatistics%2CassetProfile%2CsummaryDetail&corsDomain=finance.yahoo.com&formatted=false&symbol=ASML&crumb=Edge%3A+Too+Many+Requests\n"
     ]
    },
    {
     "name": "stdout",
     "output_type": "stream",
     "text": [
      "Error calculating EBIT for ASML: Expecting value: line 1 column 1 (char 0)\n",
      "EBIT for ASML is unavailable.\n"
     ]
    },
    {
     "name": "stderr",
     "output_type": "stream",
     "text": [
      "429 Client Error: Too Many Requests for url: https://query2.finance.yahoo.com/v10/finance/quoteSummary/MRNA?modules=financialData%2CquoteType%2CdefaultKeyStatistics%2CassetProfile%2CsummaryDetail&corsDomain=finance.yahoo.com&formatted=false&symbol=MRNA&crumb=Edge%3A+Too+Many+Requests\n"
     ]
    },
    {
     "name": "stdout",
     "output_type": "stream",
     "text": [
      "Error fetching EV components for MRNA: Expecting value: line 1 column 1 (char 0)\n"
     ]
    },
    {
     "name": "stderr",
     "output_type": "stream",
     "text": [
      "429 Client Error: Too Many Requests for url: https://query2.finance.yahoo.com/v10/finance/quoteSummary/MRNA?modules=financialData%2CquoteType%2CdefaultKeyStatistics%2CassetProfile%2CsummaryDetail&corsDomain=finance.yahoo.com&formatted=false&symbol=MRNA&crumb=Edge%3A+Too+Many+Requests\n"
     ]
    },
    {
     "name": "stdout",
     "output_type": "stream",
     "text": [
      "Error calculating EBIT for MRNA: Expecting value: line 1 column 1 (char 0)\n",
      "EBIT for MRNA is unavailable.\n"
     ]
    },
    {
     "name": "stderr",
     "output_type": "stream",
     "text": [
      "429 Client Error: Too Many Requests for url: https://query2.finance.yahoo.com/v10/finance/quoteSummary/ZM?modules=financialData%2CquoteType%2CdefaultKeyStatistics%2CassetProfile%2CsummaryDetail&corsDomain=finance.yahoo.com&formatted=false&symbol=ZM&crumb=Edge%3A+Too+Many+Requests\n"
     ]
    },
    {
     "name": "stdout",
     "output_type": "stream",
     "text": [
      "Error fetching EV components for ZM: Expecting value: line 1 column 1 (char 0)\n"
     ]
    },
    {
     "name": "stderr",
     "output_type": "stream",
     "text": [
      "429 Client Error: Too Many Requests for url: https://query2.finance.yahoo.com/v10/finance/quoteSummary/ZM?modules=financialData%2CquoteType%2CdefaultKeyStatistics%2CassetProfile%2CsummaryDetail&corsDomain=finance.yahoo.com&formatted=false&symbol=ZM&crumb=Edge%3A+Too+Many+Requests\n"
     ]
    },
    {
     "name": "stdout",
     "output_type": "stream",
     "text": [
      "Error calculating EBIT for ZM: Expecting value: line 1 column 1 (char 0)\n",
      "EBIT for ZM is unavailable.\n"
     ]
    },
    {
     "name": "stderr",
     "output_type": "stream",
     "text": [
      "429 Client Error: Too Many Requests for url: https://query2.finance.yahoo.com/v10/finance/quoteSummary/DOCU?modules=financialData%2CquoteType%2CdefaultKeyStatistics%2CassetProfile%2CsummaryDetail&corsDomain=finance.yahoo.com&formatted=false&symbol=DOCU&crumb=Edge%3A+Too+Many+Requests\n"
     ]
    },
    {
     "name": "stdout",
     "output_type": "stream",
     "text": [
      "Error fetching EV components for DOCU: Expecting value: line 1 column 1 (char 0)\n"
     ]
    },
    {
     "name": "stderr",
     "output_type": "stream",
     "text": [
      "429 Client Error: Too Many Requests for url: https://query2.finance.yahoo.com/v10/finance/quoteSummary/DOCU?modules=financialData%2CquoteType%2CdefaultKeyStatistics%2CassetProfile%2CsummaryDetail&corsDomain=finance.yahoo.com&formatted=false&symbol=DOCU&crumb=Edge%3A+Too+Many+Requests\n"
     ]
    },
    {
     "name": "stdout",
     "output_type": "stream",
     "text": [
      "Error calculating EBIT for DOCU: Expecting value: line 1 column 1 (char 0)\n",
      "EBIT for DOCU is unavailable.\n"
     ]
    },
    {
     "name": "stderr",
     "output_type": "stream",
     "text": [
      "429 Client Error: Too Many Requests for url: https://query2.finance.yahoo.com/v10/finance/quoteSummary/ROST?modules=financialData%2CquoteType%2CdefaultKeyStatistics%2CassetProfile%2CsummaryDetail&corsDomain=finance.yahoo.com&formatted=false&symbol=ROST&crumb=Edge%3A+Too+Many+Requests\n"
     ]
    },
    {
     "name": "stdout",
     "output_type": "stream",
     "text": [
      "Error fetching EV components for ROST: Expecting value: line 1 column 1 (char 0)\n"
     ]
    },
    {
     "name": "stderr",
     "output_type": "stream",
     "text": [
      "429 Client Error: Too Many Requests for url: https://query2.finance.yahoo.com/v10/finance/quoteSummary/ROST?modules=financialData%2CquoteType%2CdefaultKeyStatistics%2CassetProfile%2CsummaryDetail&corsDomain=finance.yahoo.com&formatted=false&symbol=ROST&crumb=Edge%3A+Too+Many+Requests\n"
     ]
    },
    {
     "name": "stdout",
     "output_type": "stream",
     "text": [
      "Error calculating EBIT for ROST: Expecting value: line 1 column 1 (char 0)\n",
      "EBIT for ROST is unavailable.\n"
     ]
    },
    {
     "name": "stderr",
     "output_type": "stream",
     "text": [
      "429 Client Error: Too Many Requests for url: https://query2.finance.yahoo.com/v10/finance/quoteSummary/REGN?modules=financialData%2CquoteType%2CdefaultKeyStatistics%2CassetProfile%2CsummaryDetail&corsDomain=finance.yahoo.com&formatted=false&symbol=REGN&crumb=Edge%3A+Too+Many+Requests\n"
     ]
    },
    {
     "name": "stdout",
     "output_type": "stream",
     "text": [
      "Error fetching EV components for REGN: Expecting value: line 1 column 1 (char 0)\n"
     ]
    },
    {
     "name": "stderr",
     "output_type": "stream",
     "text": [
      "429 Client Error: Too Many Requests for url: https://query2.finance.yahoo.com/v10/finance/quoteSummary/REGN?modules=financialData%2CquoteType%2CdefaultKeyStatistics%2CassetProfile%2CsummaryDetail&corsDomain=finance.yahoo.com&formatted=false&symbol=REGN&crumb=Edge%3A+Too+Many+Requests\n"
     ]
    },
    {
     "name": "stdout",
     "output_type": "stream",
     "text": [
      "Error calculating EBIT for REGN: Expecting value: line 1 column 1 (char 0)\n",
      "EBIT for REGN is unavailable.\n"
     ]
    },
    {
     "name": "stderr",
     "output_type": "stream",
     "text": [
      "429 Client Error: Too Many Requests for url: https://query2.finance.yahoo.com/v10/finance/quoteSummary/VRTX?modules=financialData%2CquoteType%2CdefaultKeyStatistics%2CassetProfile%2CsummaryDetail&corsDomain=finance.yahoo.com&formatted=false&symbol=VRTX&crumb=Edge%3A+Too+Many+Requests\n"
     ]
    },
    {
     "name": "stdout",
     "output_type": "stream",
     "text": [
      "Error fetching EV components for VRTX: Expecting value: line 1 column 1 (char 0)\n"
     ]
    },
    {
     "name": "stderr",
     "output_type": "stream",
     "text": [
      "429 Client Error: Too Many Requests for url: https://query2.finance.yahoo.com/v10/finance/quoteSummary/VRTX?modules=financialData%2CquoteType%2CdefaultKeyStatistics%2CassetProfile%2CsummaryDetail&corsDomain=finance.yahoo.com&formatted=false&symbol=VRTX&crumb=Edge%3A+Too+Many+Requests\n"
     ]
    },
    {
     "name": "stdout",
     "output_type": "stream",
     "text": [
      "Error calculating EBIT for VRTX: Expecting value: line 1 column 1 (char 0)\n",
      "EBIT for VRTX is unavailable.\n"
     ]
    },
    {
     "name": "stderr",
     "output_type": "stream",
     "text": [
      "429 Client Error: Too Many Requests for url: https://query2.finance.yahoo.com/v10/finance/quoteSummary/EBAY?modules=financialData%2CquoteType%2CdefaultKeyStatistics%2CassetProfile%2CsummaryDetail&corsDomain=finance.yahoo.com&formatted=false&symbol=EBAY&crumb=Edge%3A+Too+Many+Requests\n"
     ]
    },
    {
     "name": "stdout",
     "output_type": "stream",
     "text": [
      "Error fetching EV components for EBAY: Expecting value: line 1 column 1 (char 0)\n"
     ]
    },
    {
     "name": "stderr",
     "output_type": "stream",
     "text": [
      "429 Client Error: Too Many Requests for url: https://query2.finance.yahoo.com/v10/finance/quoteSummary/EBAY?modules=financialData%2CquoteType%2CdefaultKeyStatistics%2CassetProfile%2CsummaryDetail&corsDomain=finance.yahoo.com&formatted=false&symbol=EBAY&crumb=Edge%3A+Too+Many+Requests\n"
     ]
    },
    {
     "name": "stdout",
     "output_type": "stream",
     "text": [
      "Error calculating EBIT for EBAY: Expecting value: line 1 column 1 (char 0)\n",
      "EBIT for EBAY is unavailable.\n"
     ]
    },
    {
     "name": "stderr",
     "output_type": "stream",
     "text": [
      "429 Client Error: Too Many Requests for url: https://query2.finance.yahoo.com/v10/finance/quoteSummary/EXC?modules=financialData%2CquoteType%2CdefaultKeyStatistics%2CassetProfile%2CsummaryDetail&corsDomain=finance.yahoo.com&formatted=false&symbol=EXC&crumb=Edge%3A+Too+Many+Requests\n"
     ]
    },
    {
     "name": "stdout",
     "output_type": "stream",
     "text": [
      "Error fetching EV components for EXC: Expecting value: line 1 column 1 (char 0)\n"
     ]
    },
    {
     "name": "stderr",
     "output_type": "stream",
     "text": [
      "429 Client Error: Too Many Requests for url: https://query2.finance.yahoo.com/v10/finance/quoteSummary/EXC?modules=financialData%2CquoteType%2CdefaultKeyStatistics%2CassetProfile%2CsummaryDetail&corsDomain=finance.yahoo.com&formatted=false&symbol=EXC&crumb=Edge%3A+Too+Many+Requests\n"
     ]
    },
    {
     "name": "stdout",
     "output_type": "stream",
     "text": [
      "Error calculating EBIT for EXC: Expecting value: line 1 column 1 (char 0)\n",
      "EBIT for EXC is unavailable.\n"
     ]
    },
    {
     "name": "stderr",
     "output_type": "stream",
     "text": [
      "429 Client Error: Too Many Requests for url: https://query2.finance.yahoo.com/v10/finance/quoteSummary/SNPS?modules=financialData%2CquoteType%2CdefaultKeyStatistics%2CassetProfile%2CsummaryDetail&corsDomain=finance.yahoo.com&formatted=false&symbol=SNPS&crumb=Edge%3A+Too+Many+Requests\n"
     ]
    },
    {
     "name": "stdout",
     "output_type": "stream",
     "text": [
      "Error fetching EV components for SNPS: Expecting value: line 1 column 1 (char 0)\n"
     ]
    },
    {
     "name": "stderr",
     "output_type": "stream",
     "text": [
      "429 Client Error: Too Many Requests for url: https://query2.finance.yahoo.com/v10/finance/quoteSummary/SNPS?modules=financialData%2CquoteType%2CdefaultKeyStatistics%2CassetProfile%2CsummaryDetail&corsDomain=finance.yahoo.com&formatted=false&symbol=SNPS&crumb=Edge%3A+Too+Many+Requests\n"
     ]
    },
    {
     "name": "stdout",
     "output_type": "stream",
     "text": [
      "Error calculating EBIT for SNPS: Expecting value: line 1 column 1 (char 0)\n",
      "EBIT for SNPS is unavailable.\n"
     ]
    },
    {
     "name": "stderr",
     "output_type": "stream",
     "text": [
      "429 Client Error: Too Many Requests for url: https://query2.finance.yahoo.com/v10/finance/quoteSummary/WDAY?modules=financialData%2CquoteType%2CdefaultKeyStatistics%2CassetProfile%2CsummaryDetail&corsDomain=finance.yahoo.com&formatted=false&symbol=WDAY&crumb=Edge%3A+Too+Many+Requests\n"
     ]
    },
    {
     "name": "stdout",
     "output_type": "stream",
     "text": [
      "Error fetching EV components for WDAY: Expecting value: line 1 column 1 (char 0)\n"
     ]
    },
    {
     "name": "stderr",
     "output_type": "stream",
     "text": [
      "429 Client Error: Too Many Requests for url: https://query2.finance.yahoo.com/v10/finance/quoteSummary/WDAY?modules=financialData%2CquoteType%2CdefaultKeyStatistics%2CassetProfile%2CsummaryDetail&corsDomain=finance.yahoo.com&formatted=false&symbol=WDAY&crumb=Edge%3A+Too+Many+Requests\n"
     ]
    },
    {
     "name": "stdout",
     "output_type": "stream",
     "text": [
      "Error calculating EBIT for WDAY: Expecting value: line 1 column 1 (char 0)\n",
      "EBIT for WDAY is unavailable.\n"
     ]
    },
    {
     "name": "stderr",
     "output_type": "stream",
     "text": [
      "429 Client Error: Too Many Requests for url: https://query2.finance.yahoo.com/v10/finance/quoteSummary/TEAM?modules=financialData%2CquoteType%2CdefaultKeyStatistics%2CassetProfile%2CsummaryDetail&corsDomain=finance.yahoo.com&formatted=false&symbol=TEAM&crumb=Edge%3A+Too+Many+Requests\n"
     ]
    },
    {
     "name": "stdout",
     "output_type": "stream",
     "text": [
      "Error fetching EV components for TEAM: Expecting value: line 1 column 1 (char 0)\n"
     ]
    },
    {
     "name": "stderr",
     "output_type": "stream",
     "text": [
      "429 Client Error: Too Many Requests for url: https://query2.finance.yahoo.com/v10/finance/quoteSummary/TEAM?modules=financialData%2CquoteType%2CdefaultKeyStatistics%2CassetProfile%2CsummaryDetail&corsDomain=finance.yahoo.com&formatted=false&symbol=TEAM&crumb=Edge%3A+Too+Many+Requests\n"
     ]
    },
    {
     "name": "stdout",
     "output_type": "stream",
     "text": [
      "Error calculating EBIT for TEAM: Expecting value: line 1 column 1 (char 0)\n",
      "EBIT for TEAM is unavailable.\n"
     ]
    },
    {
     "name": "stderr",
     "output_type": "stream",
     "text": [
      "429 Client Error: Too Many Requests for url: https://query2.finance.yahoo.com/v10/finance/quoteSummary/OKTA?modules=financialData%2CquoteType%2CdefaultKeyStatistics%2CassetProfile%2CsummaryDetail&corsDomain=finance.yahoo.com&formatted=false&symbol=OKTA&crumb=Edge%3A+Too+Many+Requests\n"
     ]
    },
    {
     "name": "stdout",
     "output_type": "stream",
     "text": [
      "Error fetching EV components for OKTA: Expecting value: line 1 column 1 (char 0)\n"
     ]
    },
    {
     "name": "stderr",
     "output_type": "stream",
     "text": [
      "429 Client Error: Too Many Requests for url: https://query2.finance.yahoo.com/v10/finance/quoteSummary/OKTA?modules=financialData%2CquoteType%2CdefaultKeyStatistics%2CassetProfile%2CsummaryDetail&corsDomain=finance.yahoo.com&formatted=false&symbol=OKTA&crumb=Edge%3A+Too+Many+Requests\n"
     ]
    },
    {
     "name": "stdout",
     "output_type": "stream",
     "text": [
      "Error calculating EBIT for OKTA: Expecting value: line 1 column 1 (char 0)\n",
      "EBIT for OKTA is unavailable.\n"
     ]
    },
    {
     "name": "stderr",
     "output_type": "stream",
     "text": [
      "429 Client Error: Too Many Requests for url: https://query2.finance.yahoo.com/v10/finance/quoteSummary/CRWD?modules=financialData%2CquoteType%2CdefaultKeyStatistics%2CassetProfile%2CsummaryDetail&corsDomain=finance.yahoo.com&formatted=false&symbol=CRWD&crumb=Edge%3A+Too+Many+Requests\n"
     ]
    },
    {
     "name": "stdout",
     "output_type": "stream",
     "text": [
      "Error fetching EV components for CRWD: Expecting value: line 1 column 1 (char 0)\n"
     ]
    },
    {
     "name": "stderr",
     "output_type": "stream",
     "text": [
      "429 Client Error: Too Many Requests for url: https://query2.finance.yahoo.com/v10/finance/quoteSummary/CRWD?modules=financialData%2CquoteType%2CdefaultKeyStatistics%2CassetProfile%2CsummaryDetail&corsDomain=finance.yahoo.com&formatted=false&symbol=CRWD&crumb=Edge%3A+Too+Many+Requests\n"
     ]
    },
    {
     "name": "stdout",
     "output_type": "stream",
     "text": [
      "Error calculating EBIT for CRWD: Expecting value: line 1 column 1 (char 0)\n",
      "EBIT for CRWD is unavailable.\n"
     ]
    },
    {
     "name": "stderr",
     "output_type": "stream",
     "text": [
      "429 Client Error: Too Many Requests for url: https://query2.finance.yahoo.com/v10/finance/quoteSummary/SHOP?modules=financialData%2CquoteType%2CdefaultKeyStatistics%2CassetProfile%2CsummaryDetail&corsDomain=finance.yahoo.com&formatted=false&symbol=SHOP&crumb=Edge%3A+Too+Many+Requests\n"
     ]
    },
    {
     "name": "stdout",
     "output_type": "stream",
     "text": [
      "Error fetching EV components for SHOP: Expecting value: line 1 column 1 (char 0)\n"
     ]
    },
    {
     "name": "stderr",
     "output_type": "stream",
     "text": [
      "429 Client Error: Too Many Requests for url: https://query2.finance.yahoo.com/v10/finance/quoteSummary/SHOP?modules=financialData%2CquoteType%2CdefaultKeyStatistics%2CassetProfile%2CsummaryDetail&corsDomain=finance.yahoo.com&formatted=false&symbol=SHOP&crumb=Edge%3A+Too+Many+Requests\n"
     ]
    },
    {
     "name": "stdout",
     "output_type": "stream",
     "text": [
      "Error calculating EBIT for SHOP: Expecting value: line 1 column 1 (char 0)\n",
      "EBIT for SHOP is unavailable.\n"
     ]
    },
    {
     "name": "stderr",
     "output_type": "stream",
     "text": [
      "429 Client Error: Too Many Requests for url: https://query2.finance.yahoo.com/v10/finance/quoteSummary/SQ?modules=financialData%2CquoteType%2CdefaultKeyStatistics%2CassetProfile%2CsummaryDetail&corsDomain=finance.yahoo.com&formatted=false&symbol=SQ&crumb=Edge%3A+Too+Many+Requests\n"
     ]
    },
    {
     "name": "stdout",
     "output_type": "stream",
     "text": [
      "Error fetching EV components for SQ: Expecting value: line 1 column 1 (char 0)\n"
     ]
    },
    {
     "name": "stderr",
     "output_type": "stream",
     "text": [
      "429 Client Error: Too Many Requests for url: https://query2.finance.yahoo.com/v10/finance/quoteSummary/SQ?modules=financialData%2CquoteType%2CdefaultKeyStatistics%2CassetProfile%2CsummaryDetail&corsDomain=finance.yahoo.com&formatted=false&symbol=SQ&crumb=Edge%3A+Too+Many+Requests\n"
     ]
    },
    {
     "name": "stdout",
     "output_type": "stream",
     "text": [
      "Error calculating EBIT for SQ: Expecting value: line 1 column 1 (char 0)\n",
      "EBIT for SQ is unavailable.\n"
     ]
    },
    {
     "name": "stderr",
     "output_type": "stream",
     "text": [
      "429 Client Error: Too Many Requests for url: https://query2.finance.yahoo.com/v10/finance/quoteSummary/UBER?modules=financialData%2CquoteType%2CdefaultKeyStatistics%2CassetProfile%2CsummaryDetail&corsDomain=finance.yahoo.com&formatted=false&symbol=UBER&crumb=Edge%3A+Too+Many+Requests\n"
     ]
    },
    {
     "name": "stdout",
     "output_type": "stream",
     "text": [
      "Error fetching EV components for UBER: Expecting value: line 1 column 1 (char 0)\n"
     ]
    },
    {
     "name": "stderr",
     "output_type": "stream",
     "text": [
      "429 Client Error: Too Many Requests for url: https://query2.finance.yahoo.com/v10/finance/quoteSummary/UBER?modules=financialData%2CquoteType%2CdefaultKeyStatistics%2CassetProfile%2CsummaryDetail&corsDomain=finance.yahoo.com&formatted=false&symbol=UBER&crumb=Edge%3A+Too+Many+Requests\n"
     ]
    },
    {
     "name": "stdout",
     "output_type": "stream",
     "text": [
      "Error calculating EBIT for UBER: Expecting value: line 1 column 1 (char 0)\n",
      "EBIT for UBER is unavailable.\n"
     ]
    },
    {
     "name": "stderr",
     "output_type": "stream",
     "text": [
      "429 Client Error: Too Many Requests for url: https://query2.finance.yahoo.com/v10/finance/quoteSummary/TCEHY?modules=financialData%2CquoteType%2CdefaultKeyStatistics%2CassetProfile%2CsummaryDetail&corsDomain=finance.yahoo.com&formatted=false&symbol=TCEHY&crumb=Edge%3A+Too+Many+Requests\n"
     ]
    },
    {
     "name": "stdout",
     "output_type": "stream",
     "text": [
      "Error fetching EV components for TCEHY: Expecting value: line 1 column 1 (char 0)\n"
     ]
    },
    {
     "name": "stderr",
     "output_type": "stream",
     "text": [
      "429 Client Error: Too Many Requests for url: https://query2.finance.yahoo.com/v10/finance/quoteSummary/TCEHY?modules=financialData%2CquoteType%2CdefaultKeyStatistics%2CassetProfile%2CsummaryDetail&corsDomain=finance.yahoo.com&formatted=false&symbol=TCEHY&crumb=Edge%3A+Too+Many+Requests\n"
     ]
    },
    {
     "name": "stdout",
     "output_type": "stream",
     "text": [
      "Error calculating EBIT for TCEHY: Expecting value: line 1 column 1 (char 0)\n",
      "EBIT for TCEHY is unavailable.\n"
     ]
    },
    {
     "name": "stderr",
     "output_type": "stream",
     "text": [
      "429 Client Error: Too Many Requests for url: https://query2.finance.yahoo.com/v10/finance/quoteSummary/TSM?modules=financialData%2CquoteType%2CdefaultKeyStatistics%2CassetProfile%2CsummaryDetail&corsDomain=finance.yahoo.com&formatted=false&symbol=TSM&crumb=Edge%3A+Too+Many+Requests\n"
     ]
    },
    {
     "name": "stdout",
     "output_type": "stream",
     "text": [
      "Error fetching EV components for TSM: Expecting value: line 1 column 1 (char 0)\n"
     ]
    },
    {
     "name": "stderr",
     "output_type": "stream",
     "text": [
      "429 Client Error: Too Many Requests for url: https://query2.finance.yahoo.com/v10/finance/quoteSummary/TSM?modules=financialData%2CquoteType%2CdefaultKeyStatistics%2CassetProfile%2CsummaryDetail&corsDomain=finance.yahoo.com&formatted=false&symbol=TSM&crumb=Edge%3A+Too+Many+Requests\n"
     ]
    },
    {
     "name": "stdout",
     "output_type": "stream",
     "text": [
      "Error calculating EBIT for TSM: Expecting value: line 1 column 1 (char 0)\n",
      "EBIT for TSM is unavailable.\n"
     ]
    },
    {
     "name": "stderr",
     "output_type": "stream",
     "text": [
      "429 Client Error: Too Many Requests for url: https://query2.finance.yahoo.com/v10/finance/quoteSummary/NIO?modules=financialData%2CquoteType%2CdefaultKeyStatistics%2CassetProfile%2CsummaryDetail&corsDomain=finance.yahoo.com&formatted=false&symbol=NIO&crumb=Edge%3A+Too+Many+Requests\n"
     ]
    },
    {
     "name": "stdout",
     "output_type": "stream",
     "text": [
      "Error fetching EV components for NIO: Expecting value: line 1 column 1 (char 0)\n"
     ]
    },
    {
     "name": "stderr",
     "output_type": "stream",
     "text": [
      "429 Client Error: Too Many Requests for url: https://query2.finance.yahoo.com/v10/finance/quoteSummary/NIO?modules=financialData%2CquoteType%2CdefaultKeyStatistics%2CassetProfile%2CsummaryDetail&corsDomain=finance.yahoo.com&formatted=false&symbol=NIO&crumb=Edge%3A+Too+Many+Requests\n"
     ]
    },
    {
     "name": "stdout",
     "output_type": "stream",
     "text": [
      "Error calculating EBIT for NIO: Expecting value: line 1 column 1 (char 0)\n",
      "EBIT for NIO is unavailable.\n"
     ]
    },
    {
     "name": "stderr",
     "output_type": "stream",
     "text": [
      "429 Client Error: Too Many Requests for url: https://query2.finance.yahoo.com/v10/finance/quoteSummary/JD?modules=financialData%2CquoteType%2CdefaultKeyStatistics%2CassetProfile%2CsummaryDetail&corsDomain=finance.yahoo.com&formatted=false&symbol=JD&crumb=Edge%3A+Too+Many+Requests\n"
     ]
    },
    {
     "name": "stdout",
     "output_type": "stream",
     "text": [
      "Error fetching EV components for JD: Expecting value: line 1 column 1 (char 0)\n"
     ]
    },
    {
     "name": "stderr",
     "output_type": "stream",
     "text": [
      "429 Client Error: Too Many Requests for url: https://query2.finance.yahoo.com/v10/finance/quoteSummary/JD?modules=financialData%2CquoteType%2CdefaultKeyStatistics%2CassetProfile%2CsummaryDetail&corsDomain=finance.yahoo.com&formatted=false&symbol=JD&crumb=Edge%3A+Too+Many+Requests\n"
     ]
    },
    {
     "name": "stdout",
     "output_type": "stream",
     "text": [
      "Error calculating EBIT for JD: Expecting value: line 1 column 1 (char 0)\n",
      "EBIT for JD is unavailable.\n"
     ]
    },
    {
     "name": "stderr",
     "output_type": "stream",
     "text": [
      "429 Client Error: Too Many Requests for url: https://query2.finance.yahoo.com/v10/finance/quoteSummary/BIDU?modules=financialData%2CquoteType%2CdefaultKeyStatistics%2CassetProfile%2CsummaryDetail&corsDomain=finance.yahoo.com&formatted=false&symbol=BIDU&crumb=Edge%3A+Too+Many+Requests\n"
     ]
    },
    {
     "name": "stdout",
     "output_type": "stream",
     "text": [
      "Error fetching EV components for BIDU: Expecting value: line 1 column 1 (char 0)\n"
     ]
    },
    {
     "name": "stderr",
     "output_type": "stream",
     "text": [
      "429 Client Error: Too Many Requests for url: https://query2.finance.yahoo.com/v10/finance/quoteSummary/BIDU?modules=financialData%2CquoteType%2CdefaultKeyStatistics%2CassetProfile%2CsummaryDetail&corsDomain=finance.yahoo.com&formatted=false&symbol=BIDU&crumb=Edge%3A+Too+Many+Requests\n"
     ]
    },
    {
     "name": "stdout",
     "output_type": "stream",
     "text": [
      "Error calculating EBIT for BIDU: Expecting value: line 1 column 1 (char 0)\n",
      "EBIT for BIDU is unavailable.\n"
     ]
    },
    {
     "name": "stderr",
     "output_type": "stream",
     "text": [
      "429 Client Error: Too Many Requests for url: https://query2.finance.yahoo.com/v10/finance/quoteSummary/PDD?modules=financialData%2CquoteType%2CdefaultKeyStatistics%2CassetProfile%2CsummaryDetail&corsDomain=finance.yahoo.com&formatted=false&symbol=PDD&crumb=Edge%3A+Too+Many+Requests\n"
     ]
    },
    {
     "name": "stdout",
     "output_type": "stream",
     "text": [
      "Error fetching EV components for PDD: Expecting value: line 1 column 1 (char 0)\n"
     ]
    },
    {
     "name": "stderr",
     "output_type": "stream",
     "text": [
      "429 Client Error: Too Many Requests for url: https://query2.finance.yahoo.com/v10/finance/quoteSummary/PDD?modules=financialData%2CquoteType%2CdefaultKeyStatistics%2CassetProfile%2CsummaryDetail&corsDomain=finance.yahoo.com&formatted=false&symbol=PDD&crumb=Edge%3A+Too+Many+Requests\n"
     ]
    },
    {
     "name": "stdout",
     "output_type": "stream",
     "text": [
      "Error calculating EBIT for PDD: Expecting value: line 1 column 1 (char 0)\n",
      "EBIT for PDD is unavailable.\n"
     ]
    },
    {
     "name": "stderr",
     "output_type": "stream",
     "text": [
      "429 Client Error: Too Many Requests for url: https://query2.finance.yahoo.com/v10/finance/quoteSummary/MELI?modules=financialData%2CquoteType%2CdefaultKeyStatistics%2CassetProfile%2CsummaryDetail&corsDomain=finance.yahoo.com&formatted=false&symbol=MELI&crumb=Edge%3A+Too+Many+Requests\n"
     ]
    },
    {
     "name": "stdout",
     "output_type": "stream",
     "text": [
      "Error fetching EV components for MELI: Expecting value: line 1 column 1 (char 0)\n"
     ]
    },
    {
     "name": "stderr",
     "output_type": "stream",
     "text": [
      "429 Client Error: Too Many Requests for url: https://query2.finance.yahoo.com/v10/finance/quoteSummary/MELI?modules=financialData%2CquoteType%2CdefaultKeyStatistics%2CassetProfile%2CsummaryDetail&corsDomain=finance.yahoo.com&formatted=false&symbol=MELI&crumb=Edge%3A+Too+Many+Requests\n"
     ]
    },
    {
     "name": "stdout",
     "output_type": "stream",
     "text": [
      "Error calculating EBIT for MELI: Expecting value: line 1 column 1 (char 0)\n",
      "EBIT for MELI is unavailable.\n"
     ]
    },
    {
     "name": "stderr",
     "output_type": "stream",
     "text": [
      "429 Client Error: Too Many Requests for url: https://query2.finance.yahoo.com/v10/finance/quoteSummary/SE?modules=financialData%2CquoteType%2CdefaultKeyStatistics%2CassetProfile%2CsummaryDetail&corsDomain=finance.yahoo.com&formatted=false&symbol=SE&crumb=Edge%3A+Too+Many+Requests\n"
     ]
    },
    {
     "name": "stdout",
     "output_type": "stream",
     "text": [
      "Error fetching EV components for SE: Expecting value: line 1 column 1 (char 0)\n"
     ]
    },
    {
     "name": "stderr",
     "output_type": "stream",
     "text": [
      "429 Client Error: Too Many Requests for url: https://query2.finance.yahoo.com/v10/finance/quoteSummary/SE?modules=financialData%2CquoteType%2CdefaultKeyStatistics%2CassetProfile%2CsummaryDetail&corsDomain=finance.yahoo.com&formatted=false&symbol=SE&crumb=Edge%3A+Too+Many+Requests\n"
     ]
    },
    {
     "name": "stdout",
     "output_type": "stream",
     "text": [
      "Error calculating EBIT for SE: Expecting value: line 1 column 1 (char 0)\n",
      "EBIT for SE is unavailable.\n"
     ]
    },
    {
     "name": "stderr",
     "output_type": "stream",
     "text": [
      "429 Client Error: Too Many Requests for url: https://query2.finance.yahoo.com/v10/finance/quoteSummary/NTES?modules=financialData%2CquoteType%2CdefaultKeyStatistics%2CassetProfile%2CsummaryDetail&corsDomain=finance.yahoo.com&formatted=false&symbol=NTES&crumb=Edge%3A+Too+Many+Requests\n"
     ]
    },
    {
     "name": "stdout",
     "output_type": "stream",
     "text": [
      "Error fetching EV components for NTES: Expecting value: line 1 column 1 (char 0)\n"
     ]
    },
    {
     "name": "stderr",
     "output_type": "stream",
     "text": [
      "429 Client Error: Too Many Requests for url: https://query2.finance.yahoo.com/v10/finance/quoteSummary/NTES?modules=financialData%2CquoteType%2CdefaultKeyStatistics%2CassetProfile%2CsummaryDetail&corsDomain=finance.yahoo.com&formatted=false&symbol=NTES&crumb=Edge%3A+Too+Many+Requests\n"
     ]
    },
    {
     "name": "stdout",
     "output_type": "stream",
     "text": [
      "Error calculating EBIT for NTES: Expecting value: line 1 column 1 (char 0)\n",
      "EBIT for NTES is unavailable.\n"
     ]
    },
    {
     "name": "stderr",
     "output_type": "stream",
     "text": [
      "429 Client Error: Too Many Requests for url: https://query2.finance.yahoo.com/v10/finance/quoteSummary/HDB?modules=financialData%2CquoteType%2CdefaultKeyStatistics%2CassetProfile%2CsummaryDetail&corsDomain=finance.yahoo.com&formatted=false&symbol=HDB&crumb=Edge%3A+Too+Many+Requests\n"
     ]
    },
    {
     "name": "stdout",
     "output_type": "stream",
     "text": [
      "Error fetching EV components for HDB: Expecting value: line 1 column 1 (char 0)\n"
     ]
    },
    {
     "name": "stderr",
     "output_type": "stream",
     "text": [
      "429 Client Error: Too Many Requests for url: https://query2.finance.yahoo.com/v10/finance/quoteSummary/HDB?modules=financialData%2CquoteType%2CdefaultKeyStatistics%2CassetProfile%2CsummaryDetail&corsDomain=finance.yahoo.com&formatted=false&symbol=HDB&crumb=Edge%3A+Too+Many+Requests\n"
     ]
    },
    {
     "name": "stdout",
     "output_type": "stream",
     "text": [
      "Error calculating EBIT for HDB: Expecting value: line 1 column 1 (char 0)\n",
      "EBIT for HDB is unavailable.\n"
     ]
    },
    {
     "name": "stderr",
     "output_type": "stream",
     "text": [
      "429 Client Error: Too Many Requests for url: https://query2.finance.yahoo.com/v10/finance/quoteSummary/INFY?modules=financialData%2CquoteType%2CdefaultKeyStatistics%2CassetProfile%2CsummaryDetail&corsDomain=finance.yahoo.com&formatted=false&symbol=INFY&crumb=Edge%3A+Too+Many+Requests\n"
     ]
    },
    {
     "name": "stdout",
     "output_type": "stream",
     "text": [
      "Error fetching EV components for INFY: Expecting value: line 1 column 1 (char 0)\n"
     ]
    },
    {
     "name": "stderr",
     "output_type": "stream",
     "text": [
      "429 Client Error: Too Many Requests for url: https://query2.finance.yahoo.com/v10/finance/quoteSummary/INFY?modules=financialData%2CquoteType%2CdefaultKeyStatistics%2CassetProfile%2CsummaryDetail&corsDomain=finance.yahoo.com&formatted=false&symbol=INFY&crumb=Edge%3A+Too+Many+Requests\n"
     ]
    },
    {
     "name": "stdout",
     "output_type": "stream",
     "text": [
      "Error calculating EBIT for INFY: Expecting value: line 1 column 1 (char 0)\n",
      "EBIT for INFY is unavailable.\n"
     ]
    },
    {
     "name": "stderr",
     "output_type": "stream",
     "text": [
      "429 Client Error: Too Many Requests for url: https://query2.finance.yahoo.com/v10/finance/quoteSummary/IBN?modules=financialData%2CquoteType%2CdefaultKeyStatistics%2CassetProfile%2CsummaryDetail&corsDomain=finance.yahoo.com&formatted=false&symbol=IBN&crumb=Edge%3A+Too+Many+Requests\n"
     ]
    },
    {
     "name": "stdout",
     "output_type": "stream",
     "text": [
      "Error fetching EV components for IBN: Expecting value: line 1 column 1 (char 0)\n"
     ]
    },
    {
     "name": "stderr",
     "output_type": "stream",
     "text": [
      "429 Client Error: Too Many Requests for url: https://query2.finance.yahoo.com/v10/finance/quoteSummary/IBN?modules=financialData%2CquoteType%2CdefaultKeyStatistics%2CassetProfile%2CsummaryDetail&corsDomain=finance.yahoo.com&formatted=false&symbol=IBN&crumb=Edge%3A+Too+Many+Requests\n"
     ]
    },
    {
     "name": "stdout",
     "output_type": "stream",
     "text": [
      "Error calculating EBIT for IBN: Expecting value: line 1 column 1 (char 0)\n",
      "EBIT for IBN is unavailable.\n"
     ]
    },
    {
     "name": "stderr",
     "output_type": "stream",
     "text": [
      "429 Client Error: Too Many Requests for url: https://query2.finance.yahoo.com/v10/finance/quoteSummary/VALE?modules=financialData%2CquoteType%2CdefaultKeyStatistics%2CassetProfile%2CsummaryDetail&corsDomain=finance.yahoo.com&formatted=false&symbol=VALE&crumb=Edge%3A+Too+Many+Requests\n"
     ]
    },
    {
     "name": "stdout",
     "output_type": "stream",
     "text": [
      "Error fetching EV components for VALE: Expecting value: line 1 column 1 (char 0)\n"
     ]
    },
    {
     "name": "stderr",
     "output_type": "stream",
     "text": [
      "429 Client Error: Too Many Requests for url: https://query2.finance.yahoo.com/v10/finance/quoteSummary/VALE?modules=financialData%2CquoteType%2CdefaultKeyStatistics%2CassetProfile%2CsummaryDetail&corsDomain=finance.yahoo.com&formatted=false&symbol=VALE&crumb=Edge%3A+Too+Many+Requests\n"
     ]
    },
    {
     "name": "stdout",
     "output_type": "stream",
     "text": [
      "Error calculating EBIT for VALE: Expecting value: line 1 column 1 (char 0)\n",
      "EBIT for VALE is unavailable.\n"
     ]
    },
    {
     "name": "stderr",
     "output_type": "stream",
     "text": [
      "429 Client Error: Too Many Requests for url: https://query2.finance.yahoo.com/v10/finance/quoteSummary/RIO?modules=financialData%2CquoteType%2CdefaultKeyStatistics%2CassetProfile%2CsummaryDetail&corsDomain=finance.yahoo.com&formatted=false&symbol=RIO&crumb=Edge%3A+Too+Many+Requests\n"
     ]
    },
    {
     "name": "stdout",
     "output_type": "stream",
     "text": [
      "Error fetching EV components for RIO: Expecting value: line 1 column 1 (char 0)\n"
     ]
    },
    {
     "name": "stderr",
     "output_type": "stream",
     "text": [
      "429 Client Error: Too Many Requests for url: https://query2.finance.yahoo.com/v10/finance/quoteSummary/RIO?modules=financialData%2CquoteType%2CdefaultKeyStatistics%2CassetProfile%2CsummaryDetail&corsDomain=finance.yahoo.com&formatted=false&symbol=RIO&crumb=Edge%3A+Too+Many+Requests\n"
     ]
    },
    {
     "name": "stdout",
     "output_type": "stream",
     "text": [
      "Error calculating EBIT for RIO: Expecting value: line 1 column 1 (char 0)\n",
      "EBIT for RIO is unavailable.\n"
     ]
    },
    {
     "name": "stderr",
     "output_type": "stream",
     "text": [
      "429 Client Error: Too Many Requests for url: https://query2.finance.yahoo.com/v10/finance/quoteSummary/BHP?modules=financialData%2CquoteType%2CdefaultKeyStatistics%2CassetProfile%2CsummaryDetail&corsDomain=finance.yahoo.com&formatted=false&symbol=BHP&crumb=Edge%3A+Too+Many+Requests\n"
     ]
    },
    {
     "name": "stdout",
     "output_type": "stream",
     "text": [
      "Error fetching EV components for BHP: Expecting value: line 1 column 1 (char 0)\n"
     ]
    },
    {
     "name": "stderr",
     "output_type": "stream",
     "text": [
      "429 Client Error: Too Many Requests for url: https://query2.finance.yahoo.com/v10/finance/quoteSummary/BHP?modules=financialData%2CquoteType%2CdefaultKeyStatistics%2CassetProfile%2CsummaryDetail&corsDomain=finance.yahoo.com&formatted=false&symbol=BHP&crumb=Edge%3A+Too+Many+Requests\n"
     ]
    },
    {
     "name": "stdout",
     "output_type": "stream",
     "text": [
      "Error calculating EBIT for BHP: Expecting value: line 1 column 1 (char 0)\n",
      "EBIT for BHP is unavailable.\n"
     ]
    },
    {
     "name": "stderr",
     "output_type": "stream",
     "text": [
      "429 Client Error: Too Many Requests for url: https://query2.finance.yahoo.com/v10/finance/quoteSummary/SCCO?modules=financialData%2CquoteType%2CdefaultKeyStatistics%2CassetProfile%2CsummaryDetail&corsDomain=finance.yahoo.com&formatted=false&symbol=SCCO&crumb=Edge%3A+Too+Many+Requests\n"
     ]
    },
    {
     "name": "stdout",
     "output_type": "stream",
     "text": [
      "Error fetching EV components for SCCO: Expecting value: line 1 column 1 (char 0)\n"
     ]
    },
    {
     "name": "stderr",
     "output_type": "stream",
     "text": [
      "429 Client Error: Too Many Requests for url: https://query2.finance.yahoo.com/v10/finance/quoteSummary/SCCO?modules=financialData%2CquoteType%2CdefaultKeyStatistics%2CassetProfile%2CsummaryDetail&corsDomain=finance.yahoo.com&formatted=false&symbol=SCCO&crumb=Edge%3A+Too+Many+Requests\n"
     ]
    },
    {
     "name": "stdout",
     "output_type": "stream",
     "text": [
      "Error calculating EBIT for SCCO: Expecting value: line 1 column 1 (char 0)\n",
      "EBIT for SCCO is unavailable.\n"
     ]
    },
    {
     "name": "stderr",
     "output_type": "stream",
     "text": [
      "429 Client Error: Too Many Requests for url: https://query2.finance.yahoo.com/v10/finance/quoteSummary/EQNR?modules=financialData%2CquoteType%2CdefaultKeyStatistics%2CassetProfile%2CsummaryDetail&corsDomain=finance.yahoo.com&formatted=false&symbol=EQNR&crumb=Edge%3A+Too+Many+Requests\n"
     ]
    },
    {
     "name": "stdout",
     "output_type": "stream",
     "text": [
      "Error fetching EV components for EQNR: Expecting value: line 1 column 1 (char 0)\n"
     ]
    },
    {
     "name": "stderr",
     "output_type": "stream",
     "text": [
      "429 Client Error: Too Many Requests for url: https://query2.finance.yahoo.com/v10/finance/quoteSummary/EQNR?modules=financialData%2CquoteType%2CdefaultKeyStatistics%2CassetProfile%2CsummaryDetail&corsDomain=finance.yahoo.com&formatted=false&symbol=EQNR&crumb=Edge%3A+Too+Many+Requests\n"
     ]
    },
    {
     "name": "stdout",
     "output_type": "stream",
     "text": [
      "Error calculating EBIT for EQNR: Expecting value: line 1 column 1 (char 0)\n",
      "EBIT for EQNR is unavailable.\n"
     ]
    },
    {
     "name": "stderr",
     "output_type": "stream",
     "text": [
      "429 Client Error: Too Many Requests for url: https://query2.finance.yahoo.com/v10/finance/quoteSummary/ENB?modules=financialData%2CquoteType%2CdefaultKeyStatistics%2CassetProfile%2CsummaryDetail&corsDomain=finance.yahoo.com&formatted=false&symbol=ENB&crumb=Edge%3A+Too+Many+Requests\n"
     ]
    },
    {
     "name": "stdout",
     "output_type": "stream",
     "text": [
      "Error fetching EV components for ENB: Expecting value: line 1 column 1 (char 0)\n"
     ]
    },
    {
     "name": "stderr",
     "output_type": "stream",
     "text": [
      "429 Client Error: Too Many Requests for url: https://query2.finance.yahoo.com/v10/finance/quoteSummary/ENB?modules=financialData%2CquoteType%2CdefaultKeyStatistics%2CassetProfile%2CsummaryDetail&corsDomain=finance.yahoo.com&formatted=false&symbol=ENB&crumb=Edge%3A+Too+Many+Requests\n"
     ]
    },
    {
     "name": "stdout",
     "output_type": "stream",
     "text": [
      "Error calculating EBIT for ENB: Expecting value: line 1 column 1 (char 0)\n",
      "EBIT for ENB is unavailable.\n"
     ]
    },
    {
     "name": "stderr",
     "output_type": "stream",
     "text": [
      "429 Client Error: Too Many Requests for url: https://query2.finance.yahoo.com/v10/finance/quoteSummary/SU?modules=financialData%2CquoteType%2CdefaultKeyStatistics%2CassetProfile%2CsummaryDetail&corsDomain=finance.yahoo.com&formatted=false&symbol=SU&crumb=Edge%3A+Too+Many+Requests\n"
     ]
    },
    {
     "name": "stdout",
     "output_type": "stream",
     "text": [
      "Error fetching EV components for SU: Expecting value: line 1 column 1 (char 0)\n"
     ]
    },
    {
     "name": "stderr",
     "output_type": "stream",
     "text": [
      "429 Client Error: Too Many Requests for url: https://query2.finance.yahoo.com/v10/finance/quoteSummary/SU?modules=financialData%2CquoteType%2CdefaultKeyStatistics%2CassetProfile%2CsummaryDetail&corsDomain=finance.yahoo.com&formatted=false&symbol=SU&crumb=Edge%3A+Too+Many+Requests\n"
     ]
    },
    {
     "name": "stdout",
     "output_type": "stream",
     "text": [
      "Error calculating EBIT for SU: Expecting value: line 1 column 1 (char 0)\n",
      "EBIT for SU is unavailable.\n"
     ]
    },
    {
     "name": "stderr",
     "output_type": "stream",
     "text": [
      "429 Client Error: Too Many Requests for url: https://query2.finance.yahoo.com/v10/finance/quoteSummary/CNQ?modules=financialData%2CquoteType%2CdefaultKeyStatistics%2CassetProfile%2CsummaryDetail&corsDomain=finance.yahoo.com&formatted=false&symbol=CNQ&crumb=Edge%3A+Too+Many+Requests\n"
     ]
    },
    {
     "name": "stdout",
     "output_type": "stream",
     "text": [
      "Error fetching EV components for CNQ: Expecting value: line 1 column 1 (char 0)\n"
     ]
    },
    {
     "name": "stderr",
     "output_type": "stream",
     "text": [
      "429 Client Error: Too Many Requests for url: https://query2.finance.yahoo.com/v10/finance/quoteSummary/CNQ?modules=financialData%2CquoteType%2CdefaultKeyStatistics%2CassetProfile%2CsummaryDetail&corsDomain=finance.yahoo.com&formatted=false&symbol=CNQ&crumb=Edge%3A+Too+Many+Requests\n"
     ]
    },
    {
     "name": "stdout",
     "output_type": "stream",
     "text": [
      "Error calculating EBIT for CNQ: Expecting value: line 1 column 1 (char 0)\n",
      "EBIT for CNQ is unavailable.\n"
     ]
    },
    {
     "name": "stderr",
     "output_type": "stream",
     "text": [
      "429 Client Error: Too Many Requests for url: https://query2.finance.yahoo.com/v10/finance/quoteSummary/BCE?modules=financialData%2CquoteType%2CdefaultKeyStatistics%2CassetProfile%2CsummaryDetail&corsDomain=finance.yahoo.com&formatted=false&symbol=BCE&crumb=Edge%3A+Too+Many+Requests\n"
     ]
    },
    {
     "name": "stdout",
     "output_type": "stream",
     "text": [
      "Error fetching EV components for BCE: Expecting value: line 1 column 1 (char 0)\n"
     ]
    },
    {
     "name": "stderr",
     "output_type": "stream",
     "text": [
      "429 Client Error: Too Many Requests for url: https://query2.finance.yahoo.com/v10/finance/quoteSummary/BCE?modules=financialData%2CquoteType%2CdefaultKeyStatistics%2CassetProfile%2CsummaryDetail&corsDomain=finance.yahoo.com&formatted=false&symbol=BCE&crumb=Edge%3A+Too+Many+Requests\n"
     ]
    },
    {
     "name": "stdout",
     "output_type": "stream",
     "text": [
      "Error calculating EBIT for BCE: Expecting value: line 1 column 1 (char 0)\n",
      "EBIT for BCE is unavailable.\n"
     ]
    },
    {
     "name": "stderr",
     "output_type": "stream",
     "text": [
      "429 Client Error: Too Many Requests for url: https://query2.finance.yahoo.com/v10/finance/quoteSummary/TU?modules=financialData%2CquoteType%2CdefaultKeyStatistics%2CassetProfile%2CsummaryDetail&corsDomain=finance.yahoo.com&formatted=false&symbol=TU&crumb=Edge%3A+Too+Many+Requests\n"
     ]
    },
    {
     "name": "stdout",
     "output_type": "stream",
     "text": [
      "Error fetching EV components for TU: Expecting value: line 1 column 1 (char 0)\n"
     ]
    },
    {
     "name": "stderr",
     "output_type": "stream",
     "text": [
      "429 Client Error: Too Many Requests for url: https://query2.finance.yahoo.com/v10/finance/quoteSummary/TU?modules=financialData%2CquoteType%2CdefaultKeyStatistics%2CassetProfile%2CsummaryDetail&corsDomain=finance.yahoo.com&formatted=false&symbol=TU&crumb=Edge%3A+Too+Many+Requests\n"
     ]
    },
    {
     "name": "stdout",
     "output_type": "stream",
     "text": [
      "Error calculating EBIT for TU: Expecting value: line 1 column 1 (char 0)\n",
      "EBIT for TU is unavailable.\n"
     ]
    },
    {
     "name": "stderr",
     "output_type": "stream",
     "text": [
      "429 Client Error: Too Many Requests for url: https://query2.finance.yahoo.com/v10/finance/quoteSummary/RY?modules=financialData%2CquoteType%2CdefaultKeyStatistics%2CassetProfile%2CsummaryDetail&corsDomain=finance.yahoo.com&formatted=false&symbol=RY&crumb=Edge%3A+Too+Many+Requests\n"
     ]
    },
    {
     "name": "stdout",
     "output_type": "stream",
     "text": [
      "Error fetching EV components for RY: Expecting value: line 1 column 1 (char 0)\n"
     ]
    },
    {
     "name": "stderr",
     "output_type": "stream",
     "text": [
      "429 Client Error: Too Many Requests for url: https://query2.finance.yahoo.com/v10/finance/quoteSummary/RY?modules=financialData%2CquoteType%2CdefaultKeyStatistics%2CassetProfile%2CsummaryDetail&corsDomain=finance.yahoo.com&formatted=false&symbol=RY&crumb=Edge%3A+Too+Many+Requests\n"
     ]
    },
    {
     "name": "stdout",
     "output_type": "stream",
     "text": [
      "Error calculating EBIT for RY: Expecting value: line 1 column 1 (char 0)\n",
      "EBIT for RY is unavailable.\n"
     ]
    },
    {
     "name": "stderr",
     "output_type": "stream",
     "text": [
      "429 Client Error: Too Many Requests for url: https://query2.finance.yahoo.com/v10/finance/quoteSummary/TD?modules=financialData%2CquoteType%2CdefaultKeyStatistics%2CassetProfile%2CsummaryDetail&corsDomain=finance.yahoo.com&formatted=false&symbol=TD&crumb=Edge%3A+Too+Many+Requests\n"
     ]
    },
    {
     "name": "stdout",
     "output_type": "stream",
     "text": [
      "Error fetching EV components for TD: Expecting value: line 1 column 1 (char 0)\n"
     ]
    },
    {
     "name": "stderr",
     "output_type": "stream",
     "text": [
      "429 Client Error: Too Many Requests for url: https://query2.finance.yahoo.com/v10/finance/quoteSummary/TD?modules=financialData%2CquoteType%2CdefaultKeyStatistics%2CassetProfile%2CsummaryDetail&corsDomain=finance.yahoo.com&formatted=false&symbol=TD&crumb=Edge%3A+Too+Many+Requests\n"
     ]
    },
    {
     "name": "stdout",
     "output_type": "stream",
     "text": [
      "Error calculating EBIT for TD: Expecting value: line 1 column 1 (char 0)\n",
      "EBIT for TD is unavailable.\n"
     ]
    },
    {
     "name": "stderr",
     "output_type": "stream",
     "text": [
      "429 Client Error: Too Many Requests for url: https://query2.finance.yahoo.com/v10/finance/quoteSummary/BNS?modules=financialData%2CquoteType%2CdefaultKeyStatistics%2CassetProfile%2CsummaryDetail&corsDomain=finance.yahoo.com&formatted=false&symbol=BNS&crumb=Edge%3A+Too+Many+Requests\n"
     ]
    },
    {
     "name": "stdout",
     "output_type": "stream",
     "text": [
      "Error fetching EV components for BNS: Expecting value: line 1 column 1 (char 0)\n"
     ]
    },
    {
     "name": "stderr",
     "output_type": "stream",
     "text": [
      "429 Client Error: Too Many Requests for url: https://query2.finance.yahoo.com/v10/finance/quoteSummary/BNS?modules=financialData%2CquoteType%2CdefaultKeyStatistics%2CassetProfile%2CsummaryDetail&corsDomain=finance.yahoo.com&formatted=false&symbol=BNS&crumb=Edge%3A+Too+Many+Requests\n"
     ]
    },
    {
     "name": "stdout",
     "output_type": "stream",
     "text": [
      "Error calculating EBIT for BNS: Expecting value: line 1 column 1 (char 0)\n",
      "EBIT for BNS is unavailable.\n"
     ]
    },
    {
     "name": "stderr",
     "output_type": "stream",
     "text": [
      "429 Client Error: Too Many Requests for url: https://query2.finance.yahoo.com/v10/finance/quoteSummary/CM?modules=financialData%2CquoteType%2CdefaultKeyStatistics%2CassetProfile%2CsummaryDetail&corsDomain=finance.yahoo.com&formatted=false&symbol=CM&crumb=Edge%3A+Too+Many+Requests\n"
     ]
    },
    {
     "name": "stdout",
     "output_type": "stream",
     "text": [
      "Error fetching EV components for CM: Expecting value: line 1 column 1 (char 0)\n"
     ]
    },
    {
     "name": "stderr",
     "output_type": "stream",
     "text": [
      "429 Client Error: Too Many Requests for url: https://query2.finance.yahoo.com/v10/finance/quoteSummary/CM?modules=financialData%2CquoteType%2CdefaultKeyStatistics%2CassetProfile%2CsummaryDetail&corsDomain=finance.yahoo.com&formatted=false&symbol=CM&crumb=Edge%3A+Too+Many+Requests\n"
     ]
    },
    {
     "name": "stdout",
     "output_type": "stream",
     "text": [
      "Error calculating EBIT for CM: Expecting value: line 1 column 1 (char 0)\n",
      "EBIT for CM is unavailable.\n"
     ]
    },
    {
     "name": "stderr",
     "output_type": "stream",
     "text": [
      "429 Client Error: Too Many Requests for url: https://query2.finance.yahoo.com/v10/finance/quoteSummary/MFC?modules=financialData%2CquoteType%2CdefaultKeyStatistics%2CassetProfile%2CsummaryDetail&corsDomain=finance.yahoo.com&formatted=false&symbol=MFC&crumb=Edge%3A+Too+Many+Requests\n"
     ]
    },
    {
     "name": "stdout",
     "output_type": "stream",
     "text": [
      "Error fetching EV components for MFC: Expecting value: line 1 column 1 (char 0)\n"
     ]
    },
    {
     "name": "stderr",
     "output_type": "stream",
     "text": [
      "429 Client Error: Too Many Requests for url: https://query2.finance.yahoo.com/v10/finance/quoteSummary/MFC?modules=financialData%2CquoteType%2CdefaultKeyStatistics%2CassetProfile%2CsummaryDetail&corsDomain=finance.yahoo.com&formatted=false&symbol=MFC&crumb=Edge%3A+Too+Many+Requests\n"
     ]
    },
    {
     "name": "stdout",
     "output_type": "stream",
     "text": [
      "Error calculating EBIT for MFC: Expecting value: line 1 column 1 (char 0)\n",
      "EBIT for MFC is unavailable.\n"
     ]
    },
    {
     "name": "stderr",
     "output_type": "stream",
     "text": [
      "429 Client Error: Too Many Requests for url: https://query2.finance.yahoo.com/v10/finance/quoteSummary/SLF?modules=financialData%2CquoteType%2CdefaultKeyStatistics%2CassetProfile%2CsummaryDetail&corsDomain=finance.yahoo.com&formatted=false&symbol=SLF&crumb=Edge%3A+Too+Many+Requests\n"
     ]
    },
    {
     "name": "stdout",
     "output_type": "stream",
     "text": [
      "Error fetching EV components for SLF: Expecting value: line 1 column 1 (char 0)\n"
     ]
    },
    {
     "name": "stderr",
     "output_type": "stream",
     "text": [
      "401 Client Error: Unauthorized for url: https://query2.finance.yahoo.com/v10/finance/quoteSummary/SLF?modules=financialData%2CquoteType%2CdefaultKeyStatistics%2CassetProfile%2CsummaryDetail&corsDomain=finance.yahoo.com&formatted=false&symbol=SLF&crumb=Edge%3A+Too+Many+Requests\n"
     ]
    },
    {
     "name": "stdout",
     "output_type": "stream",
     "text": [
      "Error calculating EBIT for SLF: Expecting value: line 1 column 1 (char 0)\n",
      "EBIT for SLF is unavailable.\n",
      "Static Data for BIP:\n",
      "  Total Debt: 57988001792\n",
      "  Cash: 2163000064\n",
      "  Shares Outstanding: 461771008\n",
      "Approximated EBIT for BIP: 3084750028.7999997\n",
      "Static Data for BEP:\n",
      "  Total Debt: 29898000384\n",
      "  Cash: 1674000000\n",
      "  Shares Outstanding: 285112000\n",
      "Approximated EBIT for BEP: 865050009.6\n",
      "Static Data for TRP:\n",
      "  Total Debt: 72405000192\n",
      "  Cash: 5039000064\n",
      "  Shares Outstanding: 1038000000\n",
      "Approximated EBIT for TRP: 2497050009.6\n",
      "Static Data for CNI:\n",
      "  Total Debt: 21060999168\n",
      "  Cash: 273000000\n",
      "  Shares Outstanding: 628800000\n",
      "Approximated EBIT for CNI: 2573850009.6\n",
      "Static Data for NSRGY:\n",
      "  Total Debt: 65867001856\n",
      "  Cash: 6393999872\n",
      "  Shares Outstanding: 2571310080\n",
      "Approximated EBIT for NSRGY: 13815899750.4\n"
     ]
    }
   ],
   "source": [
    "histData = calculate_daily_ev_ebit_for_histdata(histData)\n",
    "histData = calculate_daily_roic_for_histdata(histData)\n",
    "\n",
    "# Save updated data to a CSV file\n",
    "histData.to_csv(dataFolder / dataName, index=False)"
   ]
  },
  {
   "cell_type": "code",
   "execution_count": 87,
   "metadata": {},
   "outputs": [],
   "source": [
    "def getTickerData(ticker_symbol):\n",
    "    # Fetch historical data for the ticker\n",
    "    ticker = yf.Ticker(ticker_symbol)\n",
    "    hist = ticker.history(period='1d')\n",
    "    \n",
    "    # Fetch static EV data\n",
    "    total_debt, cash, shares_outstanding = get_static_ev_data(ticker_symbol)\n",
    "    \n",
    "    # Fetch EBIT\n",
    "    ebit = fetch_ebit(ticker_symbol)\n",
    "    \n",
    "    # Calculate EV and EV/EBIT\n",
    "    ev = (hist['Close'].iloc[-1] * shares_outstanding) + total_debt - cash\n",
    "    ev_ebit = ev / ebit if ebit else None\n",
    "    \n",
    "    # Calculate Market Cap\n",
    "    market_cap = hist['Close'].iloc[-1] * shares_outstanding\n",
    "    \n",
    "    # Calculate ROIC\n",
    "    tax_rate = 0.21  # Example tax rate\n",
    "    nopat = ebit * (1 - tax_rate) if ebit else None\n",
    "    invested_capital = total_debt + market_cap - cash\n",
    "    roic = nopat / invested_capital if nopat and invested_capital else None\n",
    "    \n",
    "    # Fetch industry\n",
    "    industry = getIndustry(ticker_symbol)\n",
    "    \n",
    "    # Prepare the result\n",
    "    result = {\n",
    "        'Open': hist['Open'].iloc[-1],\n",
    "        'High': hist['High'].iloc[-1],\n",
    "        'Low': hist['Low'].iloc[-1],\n",
    "        'Close': hist['Close'].iloc[-1],\n",
    "        'Volume': hist['Volume'].iloc[-1],\n",
    "        'Dividends': hist['Dividends'].iloc[-1] if 'Dividends' in hist.columns else 0.0,\n",
    "        'Stock Splits': hist['Stock Splits'].iloc[-1] if 'Stock Splits' in hist.columns else 0.0,\n",
    "        'EV/EBIT': ev_ebit,\n",
    "        'Market Cap': market_cap,\n",
    "        'ROIC': roic,\n",
    "        'Industry': industry\n",
    "    }\n",
    "    \n",
    "    # Convert the result to a DataFrame and reorder columns\n",
    "    df = pd.DataFrame([result])\n",
    "    columns_order = ['Open', 'High', 'Low', 'Close', 'Volume', 'Dividends', 'Stock Splits', 'EV/EBIT', 'Market Cap', 'ROIC', 'Industry']\n",
    "    df = df[columns_order]\n",
    "    \n",
    "    return df"
   ]
  }
 ],
 "metadata": {
  "kernelspec": {
   "display_name": "Python 3",
   "language": "python",
   "name": "python3"
  },
  "language_info": {
   "codemirror_mode": {
    "name": "ipython",
    "version": 3
   },
   "file_extension": ".py",
   "mimetype": "text/x-python",
   "name": "python",
   "nbconvert_exporter": "python",
   "pygments_lexer": "ipython3",
   "version": "3.12.4"
  }
 },
 "nbformat": 4,
 "nbformat_minor": 2
}
