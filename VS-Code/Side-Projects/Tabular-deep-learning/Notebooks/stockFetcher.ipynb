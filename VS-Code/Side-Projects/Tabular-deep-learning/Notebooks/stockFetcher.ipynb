{
 "cells": [
  {
   "cell_type": "code",
   "execution_count": 13,
   "metadata": {},
   "outputs": [],
   "source": [
    "# Install libraries the first time\n",
    "#! pip install -q ipynb yfinance pandas pathlib numpy"
   ]
  },
  {
   "cell_type": "code",
   "execution_count": 14,
   "metadata": {},
   "outputs": [],
   "source": [
    "import yfinance as yf\n",
    "import pandas as pd\n",
    "from pathlib import Path\n",
    "import numpy as np"
   ]
  },
  {
   "cell_type": "markdown",
   "metadata": {},
   "source": [
    "### Variables"
   ]
  },
  {
   "cell_type": "code",
   "execution_count": 3,
   "metadata": {},
   "outputs": [],
   "source": [
    "data_folder = Path.cwd().parent / 'TrainingData'\n",
    "data_name = 'stockData.csv'\n",
    "\n",
    "time_frame = '5y'  # Options:  1d, 5d, 1mo, 3mo, 6mo, 1y, 2y, 5y, 10y, ytd, max\n",
    "symbols = [\n",
    "    'AAPL', 'MSFT', 'AMZN', 'GOOGL', 'GOOG', 'META', 'TSLA', 'NVDA', 'PYPL', 'ADBE',\n",
    "    'NFLX', 'INTC', 'CMCSA', 'PEP', 'CSCO', 'AVGO', 'COST', 'AMGN', 'TXN', 'QCOM',\n",
    "    'HON', 'SBUX', 'AMD', 'INTU', 'ISRG', 'BKNG', 'MDLZ', 'ADP', 'GILD', 'MU',\n",
    "    'AMAT', 'LRCX', 'ADI', 'ASML', 'MRNA', 'ZM', 'DOCU', 'ROST', 'REGN', 'VRTX',\n",
    "    'EBAY', 'EXC', 'SNPS', 'WDAY', 'TEAM', 'OKTA', 'CRWD', 'SHOP', 'SQ', 'UBER',\n",
    "    'TCEHY', 'TSM', 'NIO', 'JD', 'BIDU', 'PDD', 'MELI', 'SHOP', 'SE', 'NTES', 'HDB',\n",
    "    'INFY', 'IBN', 'VALE', 'RIO', 'BHP', 'SCCO', 'EQNR', 'ENB', 'SU', 'CNQ',\n",
    "    'BCE', 'TU', 'RY', 'TD', 'BNS', 'CM', 'MFC', 'SLF', 'BIP', 'BEP', 'TRP',\n",
    "    'CNI', 'NSRGY'\n",
    "]"
   ]
  },
  {
   "cell_type": "markdown",
   "metadata": {},
   "source": [
    "### Functions for Data Collection and Processing"
   ]
  },
  {
   "cell_type": "code",
   "execution_count": 4,
   "metadata": {},
   "outputs": [],
   "source": [
    "def get_industry(ticker_symbol):\n",
    "    try:\n",
    "        return yf.Ticker(ticker_symbol).info.get('industry', 'Unknown')\n",
    "    except Exception as e:\n",
    "        print(f\"Error fetching industry for {ticker_symbol}: {e}\")\n",
    "        return 'Error'\n",
    "\n",
    "# %%\n",
    "def calculate_future_year_change(ticker_symbol, timeframe, buffer=1):\n",
    "    valid_periods = ['1d', '5d', '1mo', '3mo', '6mo', '1y', '2y', '5y', '10y', 'ytd', 'max']\n",
    "    extended_timeframe = 'max' if timeframe == 'max' else valid_periods[valid_periods.index(timeframe) + buffer]\n",
    "    try:\n",
    "        future_change = yf.Ticker(ticker_symbol).history(period=extended_timeframe)\n",
    "        future_change['Future Year Change'] = (future_change['Close'].shift(-252) / future_change['Close'] - 1)\n",
    "\n",
    "        end_date = future_change.index[-1] - pd.DateOffset(years=1)\n",
    "        start_date = end_date - pd.DateOffset(years=int(timeframe[:-1]))\n",
    "        future_change = future_change.loc[start_date:end_date].dropna(subset=['Future Year Change'])\n",
    "        return future_change\n",
    "    except Exception as e:\n",
    "        print(f\"Error processing {ticker_symbol}: {e}\")\n",
    "        return pd.DataFrame()"
   ]
  },
  {
   "cell_type": "code",
   "execution_count": 5,
   "metadata": {},
   "outputs": [],
   "source": [
    "def calculate_future_year_change(ticker_symbol, timeframe, buffer=1):\n",
    "    valid_periods = ['1d', '5d', '1mo', '3mo', '6mo', '1y', '2y', '5y', '10y', 'ytd', 'max']\n",
    "    extended_timeframe = 'max' if timeframe == 'max' else valid_periods[valid_periods.index(timeframe) + buffer]\n",
    "    try:\n",
    "        future_change = yf.Ticker(ticker_symbol).history(period=extended_timeframe)\n",
    "        future_change['Future Year Change'] = (future_change['Close'].shift(-252) / future_change['Close'] - 1)\n",
    "\n",
    "        end_date = future_change.index[-1] - pd.DateOffset(years=1)\n",
    "        start_date = end_date - pd.DateOffset(years=int(timeframe[:-1]))\n",
    "        future_change = future_change.loc[start_date:end_date].dropna(subset=['Future Year Change'])\n",
    "        return future_change\n",
    "    except Exception as e:\n",
    "        print(f\"Error processing {ticker_symbol}: {e}\")\n",
    "        return pd.DataFrame()"
   ]
  },
  {
   "cell_type": "code",
   "execution_count": 6,
   "metadata": {},
   "outputs": [],
   "source": [
    "def get_static_ev_data(ticker_symbol):\n",
    "    try:\n",
    "        info = yf.Ticker(ticker_symbol).info\n",
    "        return info.get('totalDebt', 0), info.get('totalCash', 0), info.get('sharesOutstanding', None)\n",
    "    except Exception as e:\n",
    "        print(f\"Error fetching EV components for {ticker_symbol}: {e}\")\n",
    "        return None, None, None"
   ]
  },
  {
   "cell_type": "code",
   "execution_count": 7,
   "metadata": {},
   "outputs": [],
   "source": [
    "def calculate_approx_ebit(ticker_symbol):\n",
    "    try:\n",
    "        info = yf.Ticker(ticker_symbol).info\n",
    "        revenue = info.get('totalRevenue', None)\n",
    "        operating_income = info.get('operatingIncome', None)\n",
    "        return operating_income if operating_income else (revenue * 0.15 if revenue else None)\n",
    "    except Exception as e:\n",
    "        print(f\"Error calculating EBIT for {ticker_symbol}: {e}\")\n",
    "        return None"
   ]
  },
  {
   "cell_type": "code",
   "execution_count": 8,
   "metadata": {},
   "outputs": [],
   "source": [
    "def calculate_daily_ev_ebit(hist_data):\n",
    "    hist_data['EV/EBIT'] = None\n",
    "    for symbol in hist_data['Ticker'].unique():\n",
    "        ticker_data = hist_data[hist_data['Ticker'] == symbol].copy()\n",
    "        total_debt, cash, shares_outstanding = get_static_ev_data(symbol)\n",
    "        ebit = calculate_approx_ebit(symbol)\n",
    "\n",
    "        if shares_outstanding and ebit and ebit != 0:\n",
    "            ticker_data['EV'] = (ticker_data['Close'] * shares_outstanding) + total_debt - cash\n",
    "            ticker_data['EV/EBIT'] = ticker_data['EV'] / ebit\n",
    "            hist_data.loc[ticker_data.index, 'EV/EBIT'] = ticker_data['EV/EBIT']\n",
    "    return hist_data.drop(columns=['EV'], errors='ignore')"
   ]
  },
  {
   "cell_type": "code",
   "execution_count": 15,
   "metadata": {},
   "outputs": [],
   "source": [
    "def calculate_daily_roic(hist_data):\n",
    "    for symbol in hist_data['Ticker'].unique():\n",
    "        ticker_data = hist_data[hist_data['Ticker'] == symbol].copy()\n",
    "        total_debt, cash, shares_outstanding = get_static_ev_data(symbol)\n",
    "        ebit = calculate_approx_ebit(symbol)\n",
    "\n",
    "        if shares_outstanding and ebit:\n",
    "            tax_rate = 0.21\n",
    "            nopat = ebit * (1 - tax_rate)\n",
    "            invested_capital = total_debt + (ticker_data['Close'] * shares_outstanding) - cash\n",
    "            ticker_data['ROIC'] = np.where(invested_capital != 0, nopat / invested_capital, None)\n",
    "            hist_data.loc[ticker_data.index, 'ROIC'] = ticker_data['ROIC']\n",
    "    return hist_data"
   ]
  },
  {
   "cell_type": "code",
   "execution_count": 16,
   "metadata": {},
   "outputs": [],
   "source": [
    "def getTickerData(ticker_symbol):\n",
    "    try:\n",
    "        ticker = yf.Ticker(ticker_symbol)\n",
    "        hist = ticker.history(period='1d')\n",
    "        total_debt, cash, shares_outstanding = get_static_ev_data(ticker_symbol)\n",
    "        ebit = calculate_approx_ebit(ticker_symbol)\n",
    "        ev = (hist['Close'].iloc[-1] * shares_outstanding) + total_debt - cash\n",
    "        ev_ebit = ev / ebit if ebit else None\n",
    "        market_cap = hist['Close'].iloc[-1] * shares_outstanding\n",
    "        tax_rate = 0.21\n",
    "        nopat = ebit * (1 - tax_rate) if ebit else None\n",
    "        invested_capital = total_debt + market_cap - cash\n",
    "        roic = nopat / invested_capital if nopat and invested_capital else None\n",
    "        industry = get_industry(ticker_symbol)\n",
    "\n",
    "        return pd.DataFrame([{\n",
    "            'Open': hist['Open'].iloc[-1],\n",
    "            'High': hist['High'].iloc[-1],\n",
    "            'Low': hist['Low'].iloc[-1],\n",
    "            'Close': hist['Close'].iloc[-1],\n",
    "            'Volume': hist['Volume'].iloc[-1],\n",
    "            'Dividends': hist.get('Dividends', pd.Series([0.0])).iloc[-1],\n",
    "            'Stock Splits': hist.get('Stock Splits', pd.Series([0.0])).iloc[-1],\n",
    "            'EV/EBIT': ev_ebit,\n",
    "            'Market Cap': market_cap,\n",
    "            'ROIC': roic,\n",
    "            'Industry': industry\n",
    "        }])\n",
    "    except Exception as e:\n",
    "        print(f\"Error fetching data for {ticker_symbol}: {e}\")\n",
    "        return pd.DataFrame()"
   ]
  },
  {
   "cell_type": "code",
   "execution_count": 17,
   "metadata": {},
   "outputs": [],
   "source": [
    "hist_data = pd.DataFrame()\n",
    "for symbol in symbols:\n",
    "    try:\n",
    "        future_change = calculate_future_year_change(symbol, time_frame)\n",
    "        future_change['Ticker'] = symbol\n",
    "        future_change['Industry'] = get_industry(symbol)\n",
    "        hist_data = pd.concat([hist_data, future_change])\n",
    "    except Exception as e:\n",
    "        print(f\"Error processing {symbol}: {e}\")\n",
    "\n",
    "hist_data.reset_index(inplace=True)\n",
    "hist_data = calculate_daily_ev_ebit(hist_data)\n",
    "hist_data = calculate_daily_roic(hist_data)\n",
    "hist_data.to_csv(data_folder / data_name, index=False)"
   ]
  }
 ],
 "metadata": {
  "kernelspec": {
   "display_name": "Python 3",
   "language": "python",
   "name": "python3"
  },
  "language_info": {
   "codemirror_mode": {
    "name": "ipython",
    "version": 3
   },
   "file_extension": ".py",
   "mimetype": "text/x-python",
   "name": "python",
   "nbconvert_exporter": "python",
   "pygments_lexer": "ipython3",
   "version": "3.12.4"
  }
 },
 "nbformat": 4,
 "nbformat_minor": 2
}
