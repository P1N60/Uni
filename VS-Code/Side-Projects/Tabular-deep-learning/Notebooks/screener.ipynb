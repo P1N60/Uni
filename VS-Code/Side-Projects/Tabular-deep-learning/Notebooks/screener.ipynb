{
 "cells": [
  {
   "cell_type": "code",
   "execution_count": 3,
   "metadata": {},
   "outputs": [],
   "source": [
    "import yfinance as yf\n",
    "import pandas as pd\n",
    "from pathlib import Path\n",
    "import math "
   ]
  },
  {
   "cell_type": "code",
   "execution_count": 4,
   "metadata": {},
   "outputs": [],
   "source": [
    "result_folder = Path.cwd().parent / 'Results'\n",
    "\n",
    "symbols = pd.read_csv(result_folder / 'simple_screener_results.csv')['Ticker'].tolist()\n",
    "symbols = pd.Series(symbols).unique()\n",
    "backup = pd.read_csv(result_folder / 'simple_screener_results.csv')['Ticker']\n",
    "if len(backup) > 0:\n",
    "    backup.to_csv(result_folder / 'known_tickers.csv', index=False)\n",
    "owned_tickers = pd.read_csv(result_folder / 'owned_tickers.csv')['Ticker'].tolist()"
   ]
  },
  {
   "cell_type": "code",
   "execution_count": 5,
   "metadata": {},
   "outputs": [
    {
     "name": "stdout",
     "output_type": "stream",
     "text": [
      "Error with MATAS.CO: module 'requests' has no attribute 'exceptions'. Removed Ticker from list.\n",
      "Error with TRIFOR.CO: module 'requests' has no attribute 'exceptions'. Removed Ticker from list.\n"
     ]
    },
    {
     "name": "stderr",
     "output_type": "stream",
     "text": [
      "c:\\Users\\Gamer\\miniconda3\\Lib\\site-packages\\charset_normalizer\\api.py:105: UserWarning: Trying to detect encoding from a tiny portion of (23) byte(s).\n",
      "  warn('Trying to detect encoding from a tiny portion of ({}) byte(s).'.format(length))\n"
     ]
    },
    {
     "name": "stdout",
     "output_type": "stream",
     "text": [
      "Error with QQ.L: module 'requests' has no attribute 'exceptions'. Removed Ticker from list.\n",
      "Error with RNMBY: module 'requests' has no attribute 'exceptions'. Removed Ticker from list.\n",
      "Error with SAABF: module 'requests' has no attribute 'exceptions'. Removed Ticker from list.\n",
      "Error with BCKIY: module 'requests' has no attribute 'exceptions'. Removed Ticker from list.\n",
      "Error with BAESY: module 'requests' has no attribute 'exceptions'. Removed Ticker from list.\n",
      "Error with IVSO.ST: module 'requests' has no attribute 'exceptions'. Removed Ticker from list.\n",
      "Error with NSKFF: module 'requests' has no attribute 'exceptions'. Removed Ticker from list.\n",
      "Error with GMAB: module 'requests' has no attribute 'exceptions'. Removed Ticker from list.\n",
      "Error with GN.CO: module 'requests' has no attribute 'exceptions'. Removed Ticker from list.\n",
      "Error with NVDA: module 'requests' has no attribute 'exceptions'. Removed Ticker from list.\n",
      "Error with LLY: module 'requests' has no attribute 'exceptions'. Removed Ticker from list.\n",
      "Error with DANSKE.CO: module 'requests' has no attribute 'exceptions'. Removed Ticker from list.\n",
      "Error with CARL-B.CO: module 'requests' has no attribute 'exceptions'. Removed Ticker from list.\n",
      "Error with MAERSK-B.CO: module 'requests' has no attribute 'exceptions'. Removed Ticker from list.\n",
      "Error with RBREW.CO: module 'requests' has no attribute 'exceptions'. Removed Ticker from list.\n",
      "Error with ISS.CO: module 'requests' has no attribute 'exceptions'. Removed Ticker from list.\n",
      "Error with DSV.CO: module 'requests' has no attribute 'exceptions'. Removed Ticker from list.\n",
      "Error with SCHO.CO: module 'requests' has no attribute 'exceptions'. Removed Ticker from list.\n",
      "Error with NETC.CO: module 'requests' has no attribute 'exceptions'. Removed Ticker from list.\n",
      "Error with JYSK.CO: module 'requests' has no attribute 'exceptions'. Removed Ticker from list.\n",
      "Error with ABBN.SW: module 'requests' has no attribute 'exceptions'. Removed Ticker from list.\n",
      "Error with TER: module 'requests' has no attribute 'exceptions'. Removed Ticker from list.\n",
      "Error with PARKEN.CO: module 'requests' has no attribute 'exceptions'. Removed Ticker from list.\n",
      "Error with NFLX: module 'requests' has no attribute 'exceptions'. Removed Ticker from list.\n",
      "Error with TRMD-A.CO: module 'requests' has no attribute 'exceptions'. Removed Ticker from list.\n",
      "Error with STG.CO: module 'requests' has no attribute 'exceptions'. Removed Ticker from list.\n",
      "Error with NOVO-B.CO: module 'requests' has no attribute 'exceptions'. Removed Ticker from list.\n",
      "Error with EQNR: module 'requests' has no attribute 'exceptions'. Removed Ticker from list.\n",
      "Error with NKT.CO: module 'requests' has no attribute 'exceptions'. Removed Ticker from list.\n",
      "Error with NSIS-B.CO: module 'requests' has no attribute 'exceptions'. Removed Ticker from list.\n"
     ]
    },
    {
     "data": {
      "application/vnd.microsoft.datawrangler.viewer.v0+json": {
       "columns": [
        {
         "name": "index",
         "rawType": "int64",
         "type": "integer"
        },
        {
         "name": "Ticker",
         "rawType": "object",
         "type": "string"
        },
        {
         "name": "short_name",
         "rawType": "object",
         "type": "string"
        },
        {
         "name": "in_portfolio",
         "rawType": "object",
         "type": "string"
        },
        {
         "name": "value_score",
         "rawType": "object",
         "type": "string"
        },
        {
         "name": "recommendation_score",
         "rawType": "object",
         "type": "string"
        },
        {
         "name": "analyst_mean%",
         "rawType": "object",
         "type": "string"
        },
        {
         "name": "insider_buy%",
         "rawType": "object",
         "type": "string"
        },
        {
         "name": "sector",
         "rawType": "object",
         "type": "string"
        },
        {
         "name": "industry",
         "rawType": "object",
         "type": "string"
        },
        {
         "name": "country",
         "rawType": "object",
         "type": "string"
        },
        {
         "name": "P/E (TTM)",
         "rawType": "object",
         "type": "string"
        },
        {
         "name": "ROA%",
         "rawType": "object",
         "type": "string"
        }
       ],
       "conversionMethod": "pd.DataFrame",
       "ref": "541465fa-8380-4d57-b0dc-4a812ff1e8f6",
       "rows": [],
       "shape": {
        "columns": 12,
        "rows": 0
       }
      },
      "text/html": [
       "<div>\n",
       "<style scoped>\n",
       "    .dataframe tbody tr th:only-of-type {\n",
       "        vertical-align: middle;\n",
       "    }\n",
       "\n",
       "    .dataframe tbody tr th {\n",
       "        vertical-align: top;\n",
       "    }\n",
       "\n",
       "    .dataframe thead th {\n",
       "        text-align: right;\n",
       "    }\n",
       "</style>\n",
       "<table border=\"1\" class=\"dataframe\">\n",
       "  <thead>\n",
       "    <tr style=\"text-align: right;\">\n",
       "      <th></th>\n",
       "      <th>Ticker</th>\n",
       "      <th>short_name</th>\n",
       "      <th>in_portfolio</th>\n",
       "      <th>value_score</th>\n",
       "      <th>recommendation_score</th>\n",
       "      <th>analyst_mean%</th>\n",
       "      <th>insider_buy%</th>\n",
       "      <th>sector</th>\n",
       "      <th>industry</th>\n",
       "      <th>country</th>\n",
       "      <th>P/E (TTM)</th>\n",
       "      <th>ROA%</th>\n",
       "    </tr>\n",
       "  </thead>\n",
       "  <tbody>\n",
       "  </tbody>\n",
       "</table>\n",
       "</div>"
      ],
      "text/plain": [
       "Empty DataFrame\n",
       "Columns: [Ticker, short_name, in_portfolio, value_score, recommendation_score, analyst_mean%, insider_buy%, sector, industry, country, P/E (TTM), ROA%]\n",
       "Index: []"
      ]
     },
     "metadata": {},
     "output_type": "display_data"
    },
    {
     "name": "stdout",
     "output_type": "stream",
     "text": [
      "Got data for 0 stocks\n"
     ]
    }
   ],
   "source": [
    "df = pd.DataFrame(columns=[\n",
    "    'Ticker', \n",
    "    'short_name', \n",
    "    'in_portfolio',\n",
    "    'value_score',  \n",
    "    'recommendation_score',\n",
    "    'analyst_mean%', \n",
    "    'insider_buy%', \n",
    "    'sector', \n",
    "    'industry', \n",
    "    'country',\n",
    "    'P/E (TTM)', \n",
    "    'ROA%',\n",
    "])\n",
    "\n",
    "for symbol in symbols: \n",
    "    ticker = yf.Ticker(symbol)\n",
    "    try:\n",
    "        in_portfolio = 'No'\n",
    "        if symbol in owned_tickers:\n",
    "            in_portfolio = 'Yes'\n",
    "\n",
    "        analyst_mean = 0\n",
    "        if 'mean' in ticker.analyst_price_targets and ticker.info['currentPrice']:\n",
    "            analyst_mean = ticker.analyst_price_targets['mean'] / ticker.info['currentPrice'] - 1\n",
    "        \n",
    "        roa = ticker.info['returnOnAssets']*100\n",
    "        pe = ticker.info['trailingPE']\n",
    "        \n",
    "        value_score = format(2.5 + math.log(roa+5) - math.log(pe+25), '.2f')\n",
    "        \n",
    "        insider_buy = 0\n",
    "        if 'Shares' in ticker.insider_purchases.columns:\n",
    "            insider_buy = format(ticker.insider_purchases.loc[ticker.insider_purchases.index[4], 'Shares'], '.2f')\n",
    "            if insider_buy == '<NA>':\n",
    "                insider_buy = 0\n",
    "\n",
    "        recommendation_score = format(float(value_score) + analyst_mean * 1.25 + float(insider_buy) * 2.0, '.2f')\n",
    "\n",
    "        df.loc[symbol] = [\n",
    "            symbol, \n",
    "            ticker.info['shortName'], \n",
    "            in_portfolio,\n",
    "            value_score,\n",
    "            recommendation_score,\n",
    "            format(analyst_mean * 100, '.2f'), \n",
    "            insider_buy,\n",
    "            ticker.info['sector'], \n",
    "            ticker.info['industry'], \n",
    "            ticker.info['country'],\n",
    "            format(pe, '.2f') if isinstance(pe, (int, float)) else 'N/A', \n",
    "            format(roa, '.2f') if isinstance(roa, (int, float)) else 'N/A',\n",
    "        ]\n",
    "    except Exception as e:\n",
    "        print(f\"Error with {symbol}: {e}. Removed Ticker from list.\")\n",
    "\n",
    "df.to_csv(result_folder / 'simple_screener_results.csv', index=False)\n",
    "display(df)\n",
    "\n",
    "print(f'Got data for {len(df)} stocks')"
   ]
  }
 ],
 "metadata": {
  "kernelspec": {
   "display_name": "base",
   "language": "python",
   "name": "python3"
  },
  "language_info": {
   "codemirror_mode": {
    "name": "ipython",
    "version": 3
   },
   "file_extension": ".py",
   "mimetype": "text/x-python",
   "name": "python",
   "nbconvert_exporter": "python",
   "pygments_lexer": "ipython3",
   "version": "3.12.3"
  }
 },
 "nbformat": 4,
 "nbformat_minor": 2
}
