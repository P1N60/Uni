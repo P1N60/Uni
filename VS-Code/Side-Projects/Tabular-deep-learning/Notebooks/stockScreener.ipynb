{
 "cells": [
  {
   "cell_type": "markdown",
   "metadata": {},
   "source": [
    "## Setup"
   ]
  },
  {
   "cell_type": "markdown",
   "metadata": {},
   "source": [
    "### Library Installation (if needed)"
   ]
  },
  {
   "cell_type": "code",
   "execution_count": 2,
   "metadata": {},
   "outputs": [],
   "source": [
    "# Install libraries the first time\n",
    "#! conda install fastai::fastai conda-forge::yfinance pandas pathlib numpy requests"
   ]
  },
  {
   "cell_type": "markdown",
   "metadata": {},
   "source": [
    "### Importing Required Libraries"
   ]
  },
  {
   "cell_type": "code",
   "execution_count": 3,
   "metadata": {},
   "outputs": [],
   "source": [
    "from fastai.tabular.all import *\n",
    "from fastai.metrics import rmse, mae\n",
    "from datetime import datetime, timedelta\n",
    "import matplotlib.pyplot as plt\n",
    "import yfinance as yf\n",
    "import pandas as pd\n",
    "import numpy as np\n",
    "import requests\n",
    "import pathlib"
   ]
  },
  {
   "cell_type": "markdown",
   "metadata": {},
   "source": [
    "### Variables"
   ]
  },
  {
   "cell_type": "code",
   "execution_count": 4,
   "metadata": {},
   "outputs": [],
   "source": [
    "# Model settings\n",
    "modelName = 'stockScreenerV3.0'\n",
    "trainingData = 'stockData.csv'\n",
    "getNewData = True \n",
    "trainNewModel = True\n",
    "predictionTarget = 'DRS'  # 'ALL' for all, 'x%', 'None' for no prediction\n",
    "\n",
    "# Training parameters\n",
    "trainingSize = 1  # Number of stocks to use for training\n",
    "timeFrame = '10y'   # Options: '1d', '5d', '1mo', '3mo', '6mo', '1y', '2y', '5y', '10y', 'ytd', 'max'\n",
    "yNames = ['Future Year Change']\n",
    "contNames = ['Open', 'Close', 'Volume', 'Dividends', 'Stock Splits', 'EV/EBIT', 'ROIC']\n",
    "catNames = ['Industry', 'Date']\n",
    "batchSize = 512\n",
    "epochs = round(0.5 + np.log(trainingSize) ** 1.53)\n",
    "\n",
    "# Testing parameters\n",
    "testSize = 400  # Number of stocks to test, 'ALL' for all non-training stocks\n",
    "\n",
    "# Paths\n",
    "basePath = Path.cwd().parent\n",
    "dataFolder = basePath / 'TrainingData'\n",
    "modelFolder = basePath.parent / 'TrainedModels' / 'stockScreener'\n",
    "testFolder = basePath / 'TestData'"
   ]
  },
  {
   "cell_type": "markdown",
   "metadata": {},
   "source": [
    "## Data Preparation"
   ]
  },
  {
   "cell_type": "markdown",
   "metadata": {},
   "source": [
    "#### Download and Process Historical Data"
   ]
  },
  {
   "cell_type": "code",
   "execution_count": null,
   "metadata": {},
   "outputs": [
    {
     "name": "stdout",
     "output_type": "stream",
     "text": [
      "IBM\n",
      "3042000000\n"
     ]
    }
   ],
   "source": [
    "tickers = pd.read_csv(testFolder / 'filteredTickers.csv')['Ticker']\n",
    "trainingTickers = np.random.choice(tickers, size=trainingSize, replace=False)\n",
    "\n",
    "histData = pd.DataFrame()\n",
    "\n",
    "for trainingTicker in trainingTickers:\n",
    "    url = 'https://www.alphavantage.co/query?function=INCOME_STATEMENT&symbol=IBM&apikey=LDIOFATIN4SWVDA7'\n",
    "    r = requests.get(url)\n",
    "    data = r.json()\n",
    "\n",
    "# Planen er, at lave alle kategorierne til histData, hvorefter alle dage dataen sættes ind, og hver gang der er earnings eller andre reports, bliver det tilføjet til den dag.\n",
    "\n",
    "    "
   ]
  },
  {
   "cell_type": "code",
   "execution_count": null,
   "metadata": {},
   "outputs": [
    {
     "name": "stdout",
     "output_type": "stream",
     "text": [
      "Processing TGTX...\n",
      "Processing KRNY...\n",
      "Processing LUV...\n",
      "Processing LEO...\n",
      "Processing OTEX...\n",
      "Processing TEVA...\n",
      "Processing MOFG...\n",
      "Processing IPG...\n",
      "Processing K...\n",
      "Processing TISI...\n",
      "Processing SNV...\n",
      "Processing SRE...\n",
      "Processing ACTG...\n",
      "Processing AROW...\n",
      "Processing H...\n",
      "Processing CRK...\n",
      "Processing IVZ...\n",
      "Processing IEX...\n",
      "Processing HTCO...\n",
      "Processing PUK...\n",
      "Processing MATX...\n",
      "Processing KB...\n",
      "Processing SNPS...\n",
      "Processing DAVE...\n",
      "Processing PGR...\n",
      "Processing BGC...\n",
      "Processing CRAI...\n",
      "Processing SRCL...\n",
      "Processing PSX...\n",
      "Processing HCI...\n",
      "Processing FISI...\n",
      "Processing FSS...\n",
      "Processing IBN...\n",
      "Processing FOX...\n",
      "Processing KEY...\n",
      "Processing STBA...\n",
      "Processing FRME...\n",
      "Processing BSL...\n",
      "Processing FTI...\n",
      "Processing AB...\n",
      "Processing BRT...\n",
      "Processing DTF...\n",
      "Processing FTNT...\n",
      "Processing SLG...\n",
      "Processing PHX...\n",
      "Processing FNV...\n",
      "Processing OPK...\n",
      "Processing SPTN...\n",
      "Processing GAIN...\n",
      "Processing TKC...\n",
      "Processing PNF...\n",
      "Processing HAS...\n",
      "Processing GSK...\n",
      "Processing FSBW...\n",
      "Processing ANDE...\n",
      "Processing AEO...\n",
      "Processing SLAB...\n",
      "Processing PDI...\n",
      "Processing ING...\n",
      "Processing ALKS...\n",
      "Processing STRL...\n",
      "Processing PNNT...\n",
      "Processing TSN...\n",
      "Processing AWK...\n",
      "Processing NPK...\n",
      "Processing SMFG...\n",
      "Processing NNY...\n",
      "Processing FLR...\n",
      "Processing SSNC...\n",
      "Processing CLW...\n",
      "Processing PRA...\n",
      "Processing OXM...\n",
      "Processing AVNW...\n",
      "Processing ALOT...\n",
      "Processing CP...\n",
      "Processing TRIP...\n",
      "Processing YORW...\n",
      "Processing ICE...\n",
      "Processing TJX...\n",
      "Processing TDG...\n",
      "Processing LXRX...\n",
      "Processing AGO...\n",
      "Processing TS...\n",
      "Processing CLS...\n",
      "Processing XOMA...\n",
      "Processing AMTD...\n",
      "Processing FUL...\n",
      "Processing AIT...\n",
      "Processing DOC...\n",
      "Processing GRX...\n",
      "Processing CSGP...\n",
      "Processing BXMT...\n",
      "Processing JNJ...\n",
      "Processing GRVY...\n",
      "Processing NRP...\n",
      "Processing GGG...\n",
      "Processing NSP...\n",
      "Processing BGR...\n",
      "Processing NAN...\n",
      "Processing IR...\n",
      "Processing MGYR...\n",
      "Processing MMSI...\n",
      "Processing DAN...\n",
      "Processing CRMT...\n",
      "Processing PFG...\n",
      "Processing ALVR...\n",
      "Processing LECO...\n",
      "Processing HAIN...\n",
      "Processing AMWD...\n",
      "Processing MNOV...\n",
      "Processing NVR...\n",
      "Processing MERC...\n",
      "Processing FMS...\n"
     ]
    },
    {
     "name": "stderr",
     "output_type": "stream",
     "text": [
      "$FMS: possibly delisted; no price data found  (1d 2014-01-28 00:00:00 -> 2025-01-28)\n"
     ]
    },
    {
     "name": "stdout",
     "output_type": "stream",
     "text": [
      "No data found for FMS (10y)\n",
      "Skipped FMS - insufficient data\n",
      "Processing PCYO...\n"
     ]
    },
    {
     "name": "stderr",
     "output_type": "stream",
     "text": [
      "$PCYO: possibly delisted; no price data found  (1d 2014-01-28 00:00:00 -> 2025-01-28)\n"
     ]
    },
    {
     "name": "stdout",
     "output_type": "stream",
     "text": [
      "No data found for PCYO (10y)\n",
      "Skipped PCYO - insufficient data\n",
      "Processing CLFD...\n"
     ]
    },
    {
     "name": "stderr",
     "output_type": "stream",
     "text": [
      "$CLFD: possibly delisted; no price data found  (1d 2014-01-28 00:00:00 -> 2025-01-28)\n"
     ]
    },
    {
     "name": "stdout",
     "output_type": "stream",
     "text": [
      "No data found for CLFD (10y)\n",
      "Skipped CLFD - insufficient data\n",
      "Processing OIS...\n"
     ]
    },
    {
     "name": "stderr",
     "output_type": "stream",
     "text": [
      "$OIS: possibly delisted; no price data found  (1d 2014-01-28 00:00:00 -> 2025-01-28)\n"
     ]
    },
    {
     "name": "stdout",
     "output_type": "stream",
     "text": [
      "No data found for OIS (10y)\n",
      "Skipped OIS - insufficient data\n",
      "Processing AIG...\n"
     ]
    },
    {
     "name": "stderr",
     "output_type": "stream",
     "text": [
      "$AIG: possibly delisted; no price data found  (1d 2014-01-28 00:00:00 -> 2025-01-28)\n"
     ]
    },
    {
     "name": "stdout",
     "output_type": "stream",
     "text": [
      "No data found for AIG (10y)\n",
      "Skipped AIG - insufficient data\n",
      "Processing ASH...\n"
     ]
    },
    {
     "name": "stderr",
     "output_type": "stream",
     "text": [
      "$ASH: possibly delisted; no price data found  (1d 2014-01-28 00:00:00 -> 2025-01-28)\n"
     ]
    },
    {
     "name": "stdout",
     "output_type": "stream",
     "text": [
      "No data found for ASH (10y)\n",
      "Skipped ASH - insufficient data\n",
      "Processing HTGC...\n"
     ]
    },
    {
     "name": "stderr",
     "output_type": "stream",
     "text": [
      "$HTGC: possibly delisted; no price data found  (1d 2014-01-28 00:00:00 -> 2025-01-28)\n"
     ]
    },
    {
     "name": "stdout",
     "output_type": "stream",
     "text": [
      "No data found for HTGC (10y)\n",
      "Skipped HTGC - insufficient data\n",
      "Processing TILE...\n"
     ]
    },
    {
     "name": "stderr",
     "output_type": "stream",
     "text": [
      "$TILE: possibly delisted; no price data found  (1d 2014-01-28 00:00:00 -> 2025-01-28)\n"
     ]
    },
    {
     "name": "stdout",
     "output_type": "stream",
     "text": [
      "No data found for TILE (10y)\n",
      "Skipped TILE - insufficient data\n",
      "Processing HOV...\n"
     ]
    },
    {
     "name": "stderr",
     "output_type": "stream",
     "text": [
      "$HOV: possibly delisted; no price data found  (1d 2014-01-28 00:00:00 -> 2025-01-28)\n"
     ]
    },
    {
     "name": "stdout",
     "output_type": "stream",
     "text": [
      "No data found for HOV (10y)\n",
      "Skipped HOV - insufficient data\n",
      "Processing AG...\n"
     ]
    },
    {
     "name": "stderr",
     "output_type": "stream",
     "text": [
      "$AG: possibly delisted; no price data found  (1d 2014-01-28 00:00:00 -> 2025-01-28)\n"
     ]
    },
    {
     "name": "stdout",
     "output_type": "stream",
     "text": [
      "No data found for AG (10y)\n",
      "Skipped AG - insufficient data\n",
      "Processing TROX...\n"
     ]
    },
    {
     "name": "stderr",
     "output_type": "stream",
     "text": [
      "$TROX: possibly delisted; no price data found  (1d 2014-01-28 00:00:00 -> 2025-01-28)\n"
     ]
    },
    {
     "name": "stdout",
     "output_type": "stream",
     "text": [
      "No data found for TROX (10y)\n",
      "Skipped TROX - insufficient data\n",
      "Processing PEBK...\n"
     ]
    },
    {
     "name": "stderr",
     "output_type": "stream",
     "text": [
      "$PEBK: possibly delisted; no price data found  (1d 2014-01-28 00:00:00 -> 2025-01-28)\n"
     ]
    },
    {
     "name": "stdout",
     "output_type": "stream",
     "text": [
      "No data found for PEBK (10y)\n",
      "Skipped PEBK - insufficient data\n",
      "Processing BYM...\n"
     ]
    },
    {
     "name": "stderr",
     "output_type": "stream",
     "text": [
      "$BYM: possibly delisted; no price data found  (1d 2014-01-28 00:00:00 -> 2025-01-28)\n"
     ]
    },
    {
     "name": "stdout",
     "output_type": "stream",
     "text": [
      "No data found for BYM (10y)\n",
      "Skipped BYM - insufficient data\n",
      "Processing OSIS...\n"
     ]
    },
    {
     "name": "stderr",
     "output_type": "stream",
     "text": [
      "$OSIS: possibly delisted; no price data found  (1d 2014-01-28 00:00:00 -> 2025-01-28)\n"
     ]
    },
    {
     "name": "stdout",
     "output_type": "stream",
     "text": [
      "No data found for OSIS (10y)\n",
      "Skipped OSIS - insufficient data\n",
      "Processing GLRE...\n"
     ]
    },
    {
     "name": "stderr",
     "output_type": "stream",
     "text": [
      "$GLRE: possibly delisted; no price data found  (1d 2014-01-28 00:00:00 -> 2025-01-28)\n"
     ]
    },
    {
     "name": "stdout",
     "output_type": "stream",
     "text": [
      "No data found for GLRE (10y)\n",
      "Skipped GLRE - insufficient data\n",
      "Processing GLW...\n"
     ]
    },
    {
     "name": "stderr",
     "output_type": "stream",
     "text": [
      "$GLW: possibly delisted; no price data found  (1d 2014-01-28 00:00:00 -> 2025-01-28)\n"
     ]
    },
    {
     "name": "stdout",
     "output_type": "stream",
     "text": [
      "No data found for GLW (10y)\n",
      "Skipped GLW - insufficient data\n",
      "Processing PGP...\n"
     ]
    },
    {
     "name": "stderr",
     "output_type": "stream",
     "text": [
      "$PGP: possibly delisted; no price data found  (1d 2014-01-28 00:00:00 -> 2025-01-28)\n"
     ]
    },
    {
     "name": "stdout",
     "output_type": "stream",
     "text": [
      "No data found for PGP (10y)\n",
      "Skipped PGP - insufficient data\n",
      "Processing PDM...\n"
     ]
    },
    {
     "name": "stderr",
     "output_type": "stream",
     "text": [
      "$PDM: possibly delisted; no price data found  (1d 2014-01-28 00:00:00 -> 2025-01-28)\n"
     ]
    },
    {
     "name": "stdout",
     "output_type": "stream",
     "text": [
      "No data found for PDM (10y)\n",
      "Skipped PDM - insufficient data\n",
      "Processing SLM...\n"
     ]
    },
    {
     "name": "stderr",
     "output_type": "stream",
     "text": [
      "$SLM: possibly delisted; no price data found  (1d 2014-01-28 00:00:00 -> 2025-01-28)\n"
     ]
    },
    {
     "name": "stdout",
     "output_type": "stream",
     "text": [
      "No data found for SLM (10y)\n",
      "Skipped SLM - insufficient data\n",
      "Processing AMBI...\n"
     ]
    },
    {
     "name": "stderr",
     "output_type": "stream",
     "text": [
      "$AMBI: possibly delisted; no price data found  (1d 2014-01-28 00:00:00 -> 2025-01-28)\n"
     ]
    },
    {
     "name": "stdout",
     "output_type": "stream",
     "text": [
      "No data found for AMBI (10y)\n",
      "Skipped AMBI - insufficient data\n",
      "Processing CPAC...\n"
     ]
    },
    {
     "name": "stderr",
     "output_type": "stream",
     "text": [
      "$CPAC: possibly delisted; no price data found  (1d 2014-01-28 00:00:00 -> 2025-01-28)\n"
     ]
    },
    {
     "name": "stdout",
     "output_type": "stream",
     "text": [
      "No data found for CPAC (10y)\n",
      "Skipped CPAC - insufficient data\n",
      "Processing LGND...\n"
     ]
    },
    {
     "name": "stderr",
     "output_type": "stream",
     "text": [
      "$LGND: possibly delisted; no price data found  (1d 2014-01-28 00:00:00 -> 2025-01-28)\n"
     ]
    },
    {
     "name": "stdout",
     "output_type": "stream",
     "text": [
      "No data found for LGND (10y)\n",
      "Skipped LGND - insufficient data\n",
      "Processing TTC...\n"
     ]
    },
    {
     "name": "stderr",
     "output_type": "stream",
     "text": [
      "$TTC: possibly delisted; no price data found  (1d 2014-01-28 00:00:00 -> 2025-01-28)\n"
     ]
    },
    {
     "name": "stdout",
     "output_type": "stream",
     "text": [
      "No data found for TTC (10y)\n",
      "Skipped TTC - insufficient data\n",
      "Processing O...\n"
     ]
    },
    {
     "name": "stderr",
     "output_type": "stream",
     "text": [
      "$O: possibly delisted; no price data found  (1d 2014-01-28 00:00:00 -> 2025-01-28)\n"
     ]
    },
    {
     "name": "stdout",
     "output_type": "stream",
     "text": [
      "No data found for O (10y)\n",
      "Skipped O - insufficient data\n",
      "Processing GPC...\n"
     ]
    },
    {
     "name": "stderr",
     "output_type": "stream",
     "text": [
      "$GPC: possibly delisted; no price data found  (1d 2014-01-28 00:00:00 -> 2025-01-28)\n"
     ]
    },
    {
     "name": "stdout",
     "output_type": "stream",
     "text": [
      "No data found for GPC (10y)\n",
      "Skipped GPC - insufficient data\n",
      "Processing CAN...\n"
     ]
    },
    {
     "name": "stderr",
     "output_type": "stream",
     "text": [
      "$CAN: possibly delisted; no price data found  (1d 2014-01-28 00:00:00 -> 2025-01-28)\n"
     ]
    },
    {
     "name": "stdout",
     "output_type": "stream",
     "text": [
      "No data found for CAN (10y)\n",
      "Skipped CAN - insufficient data\n",
      "Processing CPF...\n"
     ]
    },
    {
     "name": "stderr",
     "output_type": "stream",
     "text": [
      "$CPF: possibly delisted; no price data found  (1d 2014-01-28 00:00:00 -> 2025-01-28)\n"
     ]
    },
    {
     "name": "stdout",
     "output_type": "stream",
     "text": [
      "No data found for CPF (10y)\n",
      "Skipped CPF - insufficient data\n",
      "Processing PESI...\n"
     ]
    },
    {
     "name": "stderr",
     "output_type": "stream",
     "text": [
      "$PESI: possibly delisted; no price data found  (1d 2014-01-28 00:00:00 -> 2025-01-28)\n"
     ]
    },
    {
     "name": "stdout",
     "output_type": "stream",
     "text": [
      "No data found for PESI (10y)\n",
      "Skipped PESI - insufficient data\n",
      "Processing GS...\n"
     ]
    },
    {
     "name": "stderr",
     "output_type": "stream",
     "text": [
      "$GS: possibly delisted; no price data found  (1d 2014-01-28 00:00:00 -> 2025-01-28)\n"
     ]
    },
    {
     "name": "stdout",
     "output_type": "stream",
     "text": [
      "No data found for GS (10y)\n",
      "Skipped GS - insufficient data\n",
      "Processing DNB...\n"
     ]
    },
    {
     "name": "stderr",
     "output_type": "stream",
     "text": [
      "$DNB: possibly delisted; no price data found  (1d 2014-01-28 00:00:00 -> 2025-01-28)\n"
     ]
    },
    {
     "name": "stdout",
     "output_type": "stream",
     "text": [
      "No data found for DNB (10y)\n",
      "Skipped DNB - insufficient data\n",
      "Processing LH...\n"
     ]
    },
    {
     "name": "stderr",
     "output_type": "stream",
     "text": [
      "$LH: possibly delisted; no price data found  (1d 2014-01-28 00:00:00 -> 2025-01-28)\n"
     ]
    },
    {
     "name": "stdout",
     "output_type": "stream",
     "text": [
      "No data found for LH (10y)\n",
      "Skipped LH - insufficient data\n",
      "Processing MCK...\n"
     ]
    },
    {
     "name": "stderr",
     "output_type": "stream",
     "text": [
      "$MCK: possibly delisted; no price data found  (1d 2014-01-28 00:00:00 -> 2025-01-28)\n"
     ]
    },
    {
     "name": "stdout",
     "output_type": "stream",
     "text": [
      "No data found for MCK (10y)\n",
      "Skipped MCK - insufficient data\n",
      "Processing GNE...\n"
     ]
    },
    {
     "name": "stderr",
     "output_type": "stream",
     "text": [
      "$GNE: possibly delisted; no price data found  (1d 2014-01-28 00:00:00 -> 2025-01-28)\n"
     ]
    },
    {
     "name": "stdout",
     "output_type": "stream",
     "text": [
      "No data found for GNE (10y)\n",
      "Skipped GNE - insufficient data\n",
      "Processing SPE...\n"
     ]
    },
    {
     "name": "stderr",
     "output_type": "stream",
     "text": [
      "$SPE: possibly delisted; no price data found  (1d 2014-01-28 00:00:00 -> 2025-01-28)\n"
     ]
    },
    {
     "name": "stdout",
     "output_type": "stream",
     "text": [
      "No data found for SPE (10y)\n",
      "Skipped SPE - insufficient data\n",
      "Processing FMX...\n"
     ]
    },
    {
     "name": "stderr",
     "output_type": "stream",
     "text": [
      "$FMX: possibly delisted; no price data found  (1d 2014-01-28 00:00:00 -> 2025-01-28)\n"
     ]
    },
    {
     "name": "stdout",
     "output_type": "stream",
     "text": [
      "No data found for FMX (10y)\n",
      "Skipped FMX - insufficient data\n",
      "Processing LANC...\n"
     ]
    },
    {
     "name": "stderr",
     "output_type": "stream",
     "text": [
      "$LANC: possibly delisted; no price data found  (1d 2014-01-28 00:00:00 -> 2025-01-28)\n"
     ]
    },
    {
     "name": "stdout",
     "output_type": "stream",
     "text": [
      "No data found for LANC (10y)\n",
      "Skipped LANC - insufficient data\n",
      "Processing HALO...\n"
     ]
    },
    {
     "name": "stderr",
     "output_type": "stream",
     "text": [
      "$HALO: possibly delisted; no price data found  (1d 2014-01-28 00:00:00 -> 2025-01-28)\n"
     ]
    },
    {
     "name": "stdout",
     "output_type": "stream",
     "text": [
      "No data found for HALO (10y)\n",
      "Skipped HALO - insufficient data\n",
      "Processing MCO...\n"
     ]
    },
    {
     "name": "stderr",
     "output_type": "stream",
     "text": [
      "$MCO: possibly delisted; no price data found  (1d 2014-01-28 00:00:00 -> 2025-01-28)\n"
     ]
    },
    {
     "name": "stdout",
     "output_type": "stream",
     "text": [
      "No data found for MCO (10y)\n",
      "Skipped MCO - insufficient data\n",
      "Processing MCD...\n"
     ]
    },
    {
     "name": "stderr",
     "output_type": "stream",
     "text": [
      "$MCD: possibly delisted; no price data found  (1d 2014-01-28 00:00:00 -> 2025-01-28)\n"
     ]
    },
    {
     "name": "stdout",
     "output_type": "stream",
     "text": [
      "No data found for MCD (10y)\n",
      "Skipped MCD - insufficient data\n",
      "Processing ATOS...\n"
     ]
    },
    {
     "name": "stderr",
     "output_type": "stream",
     "text": [
      "$ATOS: possibly delisted; no price data found  (1d 2014-01-28 00:00:00 -> 2025-01-28)\n"
     ]
    },
    {
     "name": "stdout",
     "output_type": "stream",
     "text": [
      "No data found for ATOS (10y)\n",
      "Skipped ATOS - insufficient data\n",
      "Processing NVS...\n"
     ]
    },
    {
     "name": "stderr",
     "output_type": "stream",
     "text": [
      "$NVS: possibly delisted; no price data found  (1d 2014-01-28 00:00:00 -> 2025-01-28)\n"
     ]
    },
    {
     "name": "stdout",
     "output_type": "stream",
     "text": [
      "No data found for NVS (10y)\n",
      "Skipped NVS - insufficient data\n",
      "Processing MORN...\n"
     ]
    },
    {
     "name": "stderr",
     "output_type": "stream",
     "text": [
      "$MORN: possibly delisted; no price data found  (1d 2014-01-28 00:00:00 -> 2025-01-28)\n"
     ]
    },
    {
     "name": "stdout",
     "output_type": "stream",
     "text": [
      "No data found for MORN (10y)\n",
      "Skipped MORN - insufficient data\n",
      "Processing AOS...\n"
     ]
    },
    {
     "name": "stderr",
     "output_type": "stream",
     "text": [
      "$AOS: possibly delisted; no price data found  (1d 2014-01-28 00:00:00 -> 2025-01-28)\n"
     ]
    },
    {
     "name": "stdout",
     "output_type": "stream",
     "text": [
      "No data found for AOS (10y)\n",
      "Skipped AOS - insufficient data\n",
      "Processing KT...\n"
     ]
    },
    {
     "name": "stderr",
     "output_type": "stream",
     "text": [
      "$KT: possibly delisted; no price data found  (1d 2014-01-28 00:00:00 -> 2025-01-28)\n"
     ]
    },
    {
     "name": "stdout",
     "output_type": "stream",
     "text": [
      "No data found for KT (10y)\n",
      "Skipped KT - insufficient data\n",
      "Processing MBWM...\n"
     ]
    },
    {
     "name": "stderr",
     "output_type": "stream",
     "text": [
      "$MBWM: possibly delisted; no price data found  (1d 2014-01-28 00:00:00 -> 2025-01-28)\n"
     ]
    },
    {
     "name": "stdout",
     "output_type": "stream",
     "text": [
      "No data found for MBWM (10y)\n",
      "Skipped MBWM - insufficient data\n",
      "Processing AHT-PD...\n"
     ]
    },
    {
     "name": "stderr",
     "output_type": "stream",
     "text": [
      "$AHT-PD: possibly delisted; no price data found  (1d 2014-01-28 00:00:00 -> 2025-01-28)\n"
     ]
    },
    {
     "name": "stdout",
     "output_type": "stream",
     "text": [
      "No data found for AHT-PD (10y)\n",
      "Skipped AHT-PD - insufficient data\n",
      "Processing JPM...\n"
     ]
    },
    {
     "name": "stderr",
     "output_type": "stream",
     "text": [
      "$JPM: possibly delisted; no price data found  (1d 2014-01-28 00:00:00 -> 2025-01-28)\n"
     ]
    },
    {
     "name": "stdout",
     "output_type": "stream",
     "text": [
      "No data found for JPM (10y)\n",
      "Skipped JPM - insufficient data\n",
      "Processing AZZ...\n"
     ]
    },
    {
     "name": "stderr",
     "output_type": "stream",
     "text": [
      "$AZZ: possibly delisted; no price data found  (1d 2014-01-28 00:00:00 -> 2025-01-28)\n"
     ]
    },
    {
     "name": "stdout",
     "output_type": "stream",
     "text": [
      "No data found for AZZ (10y)\n",
      "Skipped AZZ - insufficient data\n",
      "Processing ALLT...\n"
     ]
    },
    {
     "name": "stderr",
     "output_type": "stream",
     "text": [
      "$ALLT: possibly delisted; no price data found  (1d 2014-01-28 00:00:00 -> 2025-01-28)\n"
     ]
    },
    {
     "name": "stdout",
     "output_type": "stream",
     "text": [
      "No data found for ALLT (10y)\n",
      "Skipped ALLT - insufficient data\n",
      "Processing MNST...\n"
     ]
    },
    {
     "name": "stderr",
     "output_type": "stream",
     "text": [
      "$MNST: possibly delisted; no price data found  (1d 2014-01-28 00:00:00 -> 2025-01-28)\n"
     ]
    },
    {
     "name": "stdout",
     "output_type": "stream",
     "text": [
      "No data found for MNST (10y)\n",
      "Skipped MNST - insufficient data\n",
      "Processing WTFC...\n"
     ]
    },
    {
     "name": "stderr",
     "output_type": "stream",
     "text": [
      "$WTFC: possibly delisted; no price data found  (1d 2014-01-28 00:00:00 -> 2025-01-28)\n"
     ]
    },
    {
     "name": "stdout",
     "output_type": "stream",
     "text": [
      "No data found for WTFC (10y)\n",
      "Skipped WTFC - insufficient data\n",
      "Processing BDN...\n"
     ]
    },
    {
     "name": "stderr",
     "output_type": "stream",
     "text": [
      "$BDN: possibly delisted; no price data found  (1d 2014-01-28 00:00:00 -> 2025-01-28)\n"
     ]
    },
    {
     "name": "stdout",
     "output_type": "stream",
     "text": [
      "No data found for BDN (10y)\n",
      "Skipped BDN - insufficient data\n",
      "Processing PFSI...\n"
     ]
    },
    {
     "name": "stderr",
     "output_type": "stream",
     "text": [
      "$PFSI: possibly delisted; no price data found  (1d 2014-01-28 00:00:00 -> 2025-01-28)\n"
     ]
    },
    {
     "name": "stdout",
     "output_type": "stream",
     "text": [
      "No data found for PFSI (10y)\n",
      "Skipped PFSI - insufficient data\n",
      "Processing PSEC...\n"
     ]
    },
    {
     "name": "stderr",
     "output_type": "stream",
     "text": [
      "$PSEC: possibly delisted; no price data found  (1d 2014-01-28 00:00:00 -> 2025-01-28)\n"
     ]
    },
    {
     "name": "stdout",
     "output_type": "stream",
     "text": [
      "No data found for PSEC (10y)\n",
      "Skipped PSEC - insufficient data\n",
      "Processing OSK...\n"
     ]
    },
    {
     "name": "stderr",
     "output_type": "stream",
     "text": [
      "$OSK: possibly delisted; no price data found  (1d 2014-01-28 00:00:00 -> 2025-01-28)\n"
     ]
    },
    {
     "name": "stdout",
     "output_type": "stream",
     "text": [
      "No data found for OSK (10y)\n",
      "Skipped OSK - insufficient data\n",
      "Processing MAA...\n"
     ]
    },
    {
     "name": "stderr",
     "output_type": "stream",
     "text": [
      "$MAA: possibly delisted; no price data found  (1d 2014-01-28 00:00:00 -> 2025-01-28)\n"
     ]
    },
    {
     "name": "stdout",
     "output_type": "stream",
     "text": [
      "No data found for MAA (10y)\n",
      "Skipped MAA - insufficient data\n",
      "Processing HY...\n"
     ]
    },
    {
     "name": "stderr",
     "output_type": "stream",
     "text": [
      "$HY: possibly delisted; no price data found  (1d 2014-01-28 00:00:00 -> 2025-01-28)\n"
     ]
    },
    {
     "name": "stdout",
     "output_type": "stream",
     "text": [
      "No data found for HY (10y)\n",
      "Skipped HY - insufficient data\n",
      "Processing PPBI...\n"
     ]
    },
    {
     "name": "stderr",
     "output_type": "stream",
     "text": [
      "$PPBI: possibly delisted; no price data found  (1d 2014-01-28 00:00:00 -> 2025-01-28)\n"
     ]
    },
    {
     "name": "stdout",
     "output_type": "stream",
     "text": [
      "No data found for PPBI (10y)\n",
      "Skipped PPBI - insufficient data\n",
      "Processing TDY...\n"
     ]
    },
    {
     "name": "stderr",
     "output_type": "stream",
     "text": [
      "$TDY: possibly delisted; no price data found  (1d 2014-01-28 00:00:00 -> 2025-01-28)\n"
     ]
    },
    {
     "name": "stdout",
     "output_type": "stream",
     "text": [
      "No data found for TDY (10y)\n",
      "Skipped TDY - insufficient data\n",
      "Processing DSU...\n"
     ]
    },
    {
     "name": "stderr",
     "output_type": "stream",
     "text": [
      "$DSU: possibly delisted; no price data found  (1d 2014-01-28 00:00:00 -> 2025-01-28)\n"
     ]
    },
    {
     "name": "stdout",
     "output_type": "stream",
     "text": [
      "No data found for DSU (10y)\n",
      "Skipped DSU - insufficient data\n",
      "Processing PNI...\n"
     ]
    },
    {
     "name": "stderr",
     "output_type": "stream",
     "text": [
      "$PNI: possibly delisted; no price data found  (1d 2014-01-28 00:00:00 -> 2025-01-28)\n"
     ]
    },
    {
     "name": "stdout",
     "output_type": "stream",
     "text": [
      "No data found for PNI (10y)\n",
      "Skipped PNI - insufficient data\n",
      "Processing LFVN...\n"
     ]
    },
    {
     "name": "stderr",
     "output_type": "stream",
     "text": [
      "$LFVN: possibly delisted; no price data found  (1d 2014-01-28 00:00:00 -> 2025-01-28)\n"
     ]
    },
    {
     "name": "stdout",
     "output_type": "stream",
     "text": [
      "No data found for LFVN (10y)\n",
      "Skipped LFVN - insufficient data\n",
      "Processing FOSL...\n"
     ]
    },
    {
     "name": "stderr",
     "output_type": "stream",
     "text": [
      "$FOSL: possibly delisted; no price data found  (1d 2014-01-28 00:00:00 -> 2025-01-28)\n"
     ]
    },
    {
     "name": "stdout",
     "output_type": "stream",
     "text": [
      "No data found for FOSL (10y)\n",
      "Skipped FOSL - insufficient data\n",
      "Processing AMD...\n"
     ]
    },
    {
     "name": "stderr",
     "output_type": "stream",
     "text": [
      "$AMD: possibly delisted; no price data found  (1d 2014-01-28 00:00:00 -> 2025-01-28)\n"
     ]
    },
    {
     "name": "stdout",
     "output_type": "stream",
     "text": [
      "No data found for AMD (10y)\n",
      "Skipped AMD - insufficient data\n",
      "Processing TAP...\n"
     ]
    },
    {
     "name": "stderr",
     "output_type": "stream",
     "text": [
      "$TAP: possibly delisted; no price data found  (1d 2014-01-28 00:00:00 -> 2025-01-28)\n"
     ]
    },
    {
     "name": "stdout",
     "output_type": "stream",
     "text": [
      "No data found for TAP (10y)\n",
      "Skipped TAP - insufficient data\n",
      "Processing QLYS...\n"
     ]
    },
    {
     "name": "stderr",
     "output_type": "stream",
     "text": [
      "$QLYS: possibly delisted; no price data found  (1d 2014-01-28 00:00:00 -> 2025-01-28)\n"
     ]
    },
    {
     "name": "stdout",
     "output_type": "stream",
     "text": [
      "No data found for QLYS (10y)\n",
      "Skipped QLYS - insufficient data\n",
      "Processing PBT...\n"
     ]
    },
    {
     "name": "stderr",
     "output_type": "stream",
     "text": [
      "$PBT: possibly delisted; no price data found  (1d 2014-01-28 00:00:00 -> 2025-01-28)\n"
     ]
    },
    {
     "name": "stdout",
     "output_type": "stream",
     "text": [
      "No data found for PBT (10y)\n",
      "Skipped PBT - insufficient data\n",
      "Processing HNI...\n"
     ]
    },
    {
     "name": "stderr",
     "output_type": "stream",
     "text": [
      "$HNI: possibly delisted; no price data found  (1d 2014-01-28 00:00:00 -> 2025-01-28)\n"
     ]
    },
    {
     "name": "stdout",
     "output_type": "stream",
     "text": [
      "No data found for HNI (10y)\n",
      "Skipped HNI - insufficient data\n",
      "Processing STNG...\n"
     ]
    },
    {
     "name": "stderr",
     "output_type": "stream",
     "text": [
      "$STNG: possibly delisted; no price data found  (1d 2014-01-28 00:00:00 -> 2025-01-28)\n"
     ]
    },
    {
     "name": "stdout",
     "output_type": "stream",
     "text": [
      "No data found for STNG (10y)\n",
      "Skipped STNG - insufficient data\n",
      "Processing GSIT...\n"
     ]
    },
    {
     "name": "stderr",
     "output_type": "stream",
     "text": [
      "$GSIT: possibly delisted; no price data found  (1d 2014-01-28 00:00:00 -> 2025-01-28)\n"
     ]
    },
    {
     "name": "stdout",
     "output_type": "stream",
     "text": [
      "No data found for GSIT (10y)\n",
      "Skipped GSIT - insufficient data\n",
      "Processing GASS...\n"
     ]
    },
    {
     "name": "stderr",
     "output_type": "stream",
     "text": [
      "$GASS: possibly delisted; no price data found  (1d 2014-01-28 00:00:00 -> 2025-01-28)\n"
     ]
    },
    {
     "name": "stdout",
     "output_type": "stream",
     "text": [
      "No data found for GASS (10y)\n",
      "Skipped GASS - insufficient data\n",
      "Processing FUND...\n"
     ]
    },
    {
     "name": "stderr",
     "output_type": "stream",
     "text": [
      "$FUND: possibly delisted; no price data found  (1d 2014-01-28 00:00:00 -> 2025-01-28)\n"
     ]
    },
    {
     "name": "stdout",
     "output_type": "stream",
     "text": [
      "No data found for FUND (10y)\n",
      "Skipped FUND - insufficient data\n",
      "Processing NE...\n"
     ]
    },
    {
     "name": "stderr",
     "output_type": "stream",
     "text": [
      "$NE: possibly delisted; no price data found  (1d 2014-01-28 00:00:00 -> 2025-01-28)\n"
     ]
    },
    {
     "name": "stdout",
     "output_type": "stream",
     "text": [
      "No data found for NE (10y)\n",
      "Skipped NE - insufficient data\n",
      "Processing BGY...\n"
     ]
    },
    {
     "name": "stderr",
     "output_type": "stream",
     "text": [
      "$BGY: possibly delisted; no price data found  (1d 2014-01-28 00:00:00 -> 2025-01-28)\n"
     ]
    },
    {
     "name": "stdout",
     "output_type": "stream",
     "text": [
      "No data found for BGY (10y)\n",
      "Skipped BGY - insufficient data\n",
      "Processing CLIR...\n"
     ]
    },
    {
     "name": "stderr",
     "output_type": "stream",
     "text": [
      "$CLIR: possibly delisted; no price data found  (1d 2014-01-28 00:00:00 -> 2025-01-28)\n"
     ]
    },
    {
     "name": "stdout",
     "output_type": "stream",
     "text": [
      "No data found for CLIR (10y)\n",
      "Skipped CLIR - insufficient data\n",
      "Processing GHI...\n"
     ]
    },
    {
     "name": "stderr",
     "output_type": "stream",
     "text": [
      "$GHI: possibly delisted; no price data found  (1d 2014-01-28 00:00:00 -> 2025-01-28)\n"
     ]
    },
    {
     "name": "stdout",
     "output_type": "stream",
     "text": [
      "No data found for GHI (10y)\n",
      "Skipped GHI - insufficient data\n",
      "Processing ARDC...\n"
     ]
    },
    {
     "name": "stderr",
     "output_type": "stream",
     "text": [
      "$ARDC: possibly delisted; no price data found  (1d 2014-01-28 00:00:00 -> 2025-01-28)\n"
     ]
    },
    {
     "name": "stdout",
     "output_type": "stream",
     "text": [
      "No data found for ARDC (10y)\n",
      "Skipped ARDC - insufficient data\n",
      "Processing FN...\n"
     ]
    },
    {
     "name": "stderr",
     "output_type": "stream",
     "text": [
      "$FN: possibly delisted; no price data found  (1d 2014-01-28 00:00:00 -> 2025-01-28)\n"
     ]
    },
    {
     "name": "stdout",
     "output_type": "stream",
     "text": [
      "No data found for FN (10y)\n",
      "Skipped FN - insufficient data\n",
      "Processing LAD...\n"
     ]
    },
    {
     "name": "stderr",
     "output_type": "stream",
     "text": [
      "$LAD: possibly delisted; no price data found  (1d 2014-01-28 00:00:00 -> 2025-01-28)\n"
     ]
    },
    {
     "name": "stdout",
     "output_type": "stream",
     "text": [
      "No data found for LAD (10y)\n",
      "Skipped LAD - insufficient data\n",
      "Processing MDXG...\n"
     ]
    },
    {
     "name": "stderr",
     "output_type": "stream",
     "text": [
      "$MDXG: possibly delisted; no price data found  (1d 2014-01-28 00:00:00 -> 2025-01-28)\n"
     ]
    },
    {
     "name": "stdout",
     "output_type": "stream",
     "text": [
      "No data found for MDXG (10y)\n",
      "Skipped MDXG - insufficient data\n",
      "Processing GPRE...\n"
     ]
    },
    {
     "name": "stderr",
     "output_type": "stream",
     "text": [
      "$GPRE: possibly delisted; no price data found  (1d 2014-01-28 00:00:00 -> 2025-01-28)\n"
     ]
    },
    {
     "name": "stdout",
     "output_type": "stream",
     "text": [
      "No data found for GPRE (10y)\n",
      "Skipped GPRE - insufficient data\n",
      "Processing TTEK...\n"
     ]
    },
    {
     "name": "stderr",
     "output_type": "stream",
     "text": [
      "$TTEK: possibly delisted; no price data found  (1d 2014-01-28 00:00:00 -> 2025-01-28)\n"
     ]
    },
    {
     "name": "stdout",
     "output_type": "stream",
     "text": [
      "No data found for TTEK (10y)\n",
      "Skipped TTEK - insufficient data\n",
      "Processing SIG...\n"
     ]
    },
    {
     "name": "stderr",
     "output_type": "stream",
     "text": [
      "$SIG: possibly delisted; no price data found  (1d 2014-01-28 00:00:00 -> 2025-01-28)\n"
     ]
    },
    {
     "name": "stdout",
     "output_type": "stream",
     "text": [
      "No data found for SIG (10y)\n",
      "Skipped SIG - insufficient data\n",
      "Processing AEM...\n"
     ]
    },
    {
     "name": "stderr",
     "output_type": "stream",
     "text": [
      "$AEM: possibly delisted; no price data found  (1d 2014-01-28 00:00:00 -> 2025-01-28)\n"
     ]
    },
    {
     "name": "stdout",
     "output_type": "stream",
     "text": [
      "No data found for AEM (10y)\n",
      "Skipped AEM - insufficient data\n",
      "Processing FCX...\n"
     ]
    },
    {
     "name": "stderr",
     "output_type": "stream",
     "text": [
      "$FCX: possibly delisted; no price data found  (1d 2014-01-28 00:00:00 -> 2025-01-28)\n"
     ]
    },
    {
     "name": "stdout",
     "output_type": "stream",
     "text": [
      "No data found for FCX (10y)\n",
      "Skipped FCX - insufficient data\n",
      "Processing TRC...\n"
     ]
    },
    {
     "name": "stderr",
     "output_type": "stream",
     "text": [
      "$TRC: possibly delisted; no price data found  (1d 2014-01-28 00:00:00 -> 2025-01-28)\n"
     ]
    },
    {
     "name": "stdout",
     "output_type": "stream",
     "text": [
      "No data found for TRC (10y)\n",
      "Skipped TRC - insufficient data\n",
      "Processing DOX...\n"
     ]
    },
    {
     "name": "stderr",
     "output_type": "stream",
     "text": [
      "$DOX: possibly delisted; no price data found  (1d 2014-01-28 00:00:00 -> 2025-01-28)\n"
     ]
    },
    {
     "name": "stdout",
     "output_type": "stream",
     "text": [
      "No data found for DOX (10y)\n",
      "Skipped DOX - insufficient data\n",
      "Processing DNP...\n"
     ]
    },
    {
     "name": "stderr",
     "output_type": "stream",
     "text": [
      "$DNP: possibly delisted; no price data found  (1d 2014-01-28 00:00:00 -> 2025-01-28)\n"
     ]
    },
    {
     "name": "stdout",
     "output_type": "stream",
     "text": [
      "No data found for DNP (10y)\n",
      "Skipped DNP - insufficient data\n",
      "Processing PRIM...\n"
     ]
    },
    {
     "name": "stderr",
     "output_type": "stream",
     "text": [
      "$PRIM: possibly delisted; no price data found  (1d 2014-01-28 00:00:00 -> 2025-01-28)\n"
     ]
    },
    {
     "name": "stdout",
     "output_type": "stream",
     "text": [
      "No data found for PRIM (10y)\n",
      "Skipped PRIM - insufficient data\n",
      "Processing PMM...\n"
     ]
    },
    {
     "name": "stderr",
     "output_type": "stream",
     "text": [
      "$PMM: possibly delisted; no price data found  (1d 2014-01-28 00:00:00 -> 2025-01-28)\n"
     ]
    },
    {
     "name": "stdout",
     "output_type": "stream",
     "text": [
      "No data found for PMM (10y)\n",
      "Skipped PMM - insufficient data\n",
      "Processing PFLT...\n"
     ]
    },
    {
     "name": "stderr",
     "output_type": "stream",
     "text": [
      "$PFLT: possibly delisted; no price data found  (1d 2014-01-28 00:00:00 -> 2025-01-28)\n"
     ]
    },
    {
     "name": "stdout",
     "output_type": "stream",
     "text": [
      "No data found for PFLT (10y)\n",
      "Skipped PFLT - insufficient data\n",
      "Processing KIO...\n"
     ]
    },
    {
     "name": "stderr",
     "output_type": "stream",
     "text": [
      "$KIO: possibly delisted; no price data found  (1d 2014-01-28 00:00:00 -> 2025-01-28)\n"
     ]
    },
    {
     "name": "stdout",
     "output_type": "stream",
     "text": [
      "No data found for KIO (10y)\n",
      "Skipped KIO - insufficient data\n",
      "Processing BGH...\n"
     ]
    },
    {
     "name": "stderr",
     "output_type": "stream",
     "text": [
      "$BGH: possibly delisted; no price data found  (1d 2014-01-28 00:00:00 -> 2025-01-28)\n"
     ]
    },
    {
     "name": "stdout",
     "output_type": "stream",
     "text": [
      "No data found for BGH (10y)\n",
      "Skipped BGH - insufficient data\n",
      "Processing JQC...\n"
     ]
    },
    {
     "name": "stderr",
     "output_type": "stream",
     "text": [
      "$JQC: possibly delisted; no price data found  (1d 2014-01-28 00:00:00 -> 2025-01-28)\n"
     ]
    },
    {
     "name": "stdout",
     "output_type": "stream",
     "text": [
      "No data found for JQC (10y)\n",
      "Skipped JQC - insufficient data\n",
      "Processing ARR...\n"
     ]
    },
    {
     "name": "stderr",
     "output_type": "stream",
     "text": [
      "$ARR: possibly delisted; no price data found  (1d 2014-01-28 00:00:00 -> 2025-01-28)\n"
     ]
    },
    {
     "name": "stdout",
     "output_type": "stream",
     "text": [
      "No data found for ARR (10y)\n",
      "Skipped ARR - insufficient data\n",
      "Processing HMN...\n"
     ]
    },
    {
     "name": "stderr",
     "output_type": "stream",
     "text": [
      "$HMN: possibly delisted; no price data found  (1d 2014-01-28 00:00:00 -> 2025-01-28)\n"
     ]
    },
    {
     "name": "stdout",
     "output_type": "stream",
     "text": [
      "No data found for HMN (10y)\n",
      "Skipped HMN - insufficient data\n",
      "Processing AWF...\n"
     ]
    },
    {
     "name": "stderr",
     "output_type": "stream",
     "text": [
      "$AWF: possibly delisted; no price data found  (1d 2014-01-28 00:00:00 -> 2025-01-28)\n"
     ]
    },
    {
     "name": "stdout",
     "output_type": "stream",
     "text": [
      "No data found for AWF (10y)\n",
      "Skipped AWF - insufficient data\n",
      "Processing AUBN...\n"
     ]
    },
    {
     "name": "stderr",
     "output_type": "stream",
     "text": [
      "$AUBN: possibly delisted; no price data found  (1d 2014-01-28 00:00:00 -> 2025-01-28)\n"
     ]
    },
    {
     "name": "stdout",
     "output_type": "stream",
     "text": [
      "No data found for AUBN (10y)\n",
      "Skipped AUBN - insufficient data\n",
      "Processing COST...\n"
     ]
    },
    {
     "name": "stderr",
     "output_type": "stream",
     "text": [
      "$COST: possibly delisted; no price data found  (1d 2014-01-28 00:00:00 -> 2025-01-28)\n"
     ]
    },
    {
     "name": "stdout",
     "output_type": "stream",
     "text": [
      "No data found for COST (10y)\n",
      "Skipped COST - insufficient data\n",
      "Processing MCBK...\n"
     ]
    },
    {
     "name": "stderr",
     "output_type": "stream",
     "text": [
      "$MCBK: possibly delisted; no price data found  (1d 2014-01-28 00:00:00 -> 2025-01-28)\n"
     ]
    },
    {
     "name": "stdout",
     "output_type": "stream",
     "text": [
      "No data found for MCBK (10y)\n",
      "Skipped MCBK - insufficient data\n",
      "Processing GENC...\n"
     ]
    },
    {
     "name": "stderr",
     "output_type": "stream",
     "text": [
      "$GENC: possibly delisted; no price data found  (1d 2014-01-28 00:00:00 -> 2025-01-28)\n"
     ]
    },
    {
     "name": "stdout",
     "output_type": "stream",
     "text": [
      "No data found for GENC (10y)\n",
      "Skipped GENC - insufficient data\n",
      "Processing CVBF...\n"
     ]
    },
    {
     "name": "stderr",
     "output_type": "stream",
     "text": [
      "$CVBF: possibly delisted; no price data found  (1d 2014-01-28 00:00:00 -> 2025-01-28)\n"
     ]
    },
    {
     "name": "stdout",
     "output_type": "stream",
     "text": [
      "No data found for CVBF (10y)\n",
      "Skipped CVBF - insufficient data\n",
      "Processing DECK...\n"
     ]
    },
    {
     "name": "stderr",
     "output_type": "stream",
     "text": [
      "$DECK: possibly delisted; no price data found  (1d 2014-01-28 00:00:00 -> 2025-01-28)\n"
     ]
    },
    {
     "name": "stdout",
     "output_type": "stream",
     "text": [
      "No data found for DECK (10y)\n",
      "Skipped DECK - insufficient data\n",
      "Processing GOGO...\n"
     ]
    },
    {
     "name": "stderr",
     "output_type": "stream",
     "text": [
      "$GOGO: possibly delisted; no price data found  (1d 2014-01-28 00:00:00 -> 2025-01-28)\n"
     ]
    },
    {
     "name": "stdout",
     "output_type": "stream",
     "text": [
      "No data found for GOGO (10y)\n",
      "Skipped GOGO - insufficient data\n",
      "Processing JLS...\n"
     ]
    },
    {
     "name": "stderr",
     "output_type": "stream",
     "text": [
      "$JLS: possibly delisted; no price data found  (1d 2014-01-28 00:00:00 -> 2025-01-28)\n"
     ]
    },
    {
     "name": "stdout",
     "output_type": "stream",
     "text": [
      "No data found for JLS (10y)\n",
      "Skipped JLS - insufficient data\n",
      "Processing KOS...\n"
     ]
    },
    {
     "name": "stderr",
     "output_type": "stream",
     "text": [
      "$KOS: possibly delisted; no price data found  (1d 2014-01-28 00:00:00 -> 2025-01-28)\n"
     ]
    },
    {
     "name": "stdout",
     "output_type": "stream",
     "text": [
      "No data found for KOS (10y)\n",
      "Skipped KOS - insufficient data\n",
      "Processing GAB...\n"
     ]
    },
    {
     "name": "stderr",
     "output_type": "stream",
     "text": [
      "$GAB: possibly delisted; no price data found  (1d 2014-01-28 00:00:00 -> 2025-01-28)\n"
     ]
    },
    {
     "name": "stdout",
     "output_type": "stream",
     "text": [
      "No data found for GAB (10y)\n",
      "Skipped GAB - insufficient data\n",
      "Processing AEG...\n"
     ]
    },
    {
     "name": "stderr",
     "output_type": "stream",
     "text": [
      "$AEG: possibly delisted; no price data found  (1d 2014-01-28 00:00:00 -> 2025-01-28)\n"
     ]
    },
    {
     "name": "stdout",
     "output_type": "stream",
     "text": [
      "No data found for AEG (10y)\n",
      "Skipped AEG - insufficient data\n",
      "Processing HLF...\n"
     ]
    },
    {
     "name": "stderr",
     "output_type": "stream",
     "text": [
      "$HLF: possibly delisted; no price data found  (1d 2014-01-28 00:00:00 -> 2025-01-28)\n"
     ]
    },
    {
     "name": "stdout",
     "output_type": "stream",
     "text": [
      "No data found for HLF (10y)\n",
      "Skipped HLF - insufficient data\n",
      "Processing SNFCA...\n"
     ]
    },
    {
     "name": "stderr",
     "output_type": "stream",
     "text": [
      "$SNFCA: possibly delisted; no price data found  (1d 2014-01-28 00:00:00 -> 2025-01-28)\n"
     ]
    },
    {
     "name": "stdout",
     "output_type": "stream",
     "text": [
      "No data found for SNFCA (10y)\n",
      "Skipped SNFCA - insufficient data\n",
      "Processing BTU...\n"
     ]
    },
    {
     "name": "stderr",
     "output_type": "stream",
     "text": [
      "$BTU: possibly delisted; no price data found  (1d 2014-01-28 00:00:00 -> 2025-01-28)\n"
     ]
    },
    {
     "name": "stdout",
     "output_type": "stream",
     "text": [
      "No data found for BTU (10y)\n",
      "Skipped BTU - insufficient data\n",
      "Processing LOAN...\n"
     ]
    },
    {
     "name": "stderr",
     "output_type": "stream",
     "text": [
      "$LOAN: possibly delisted; no price data found  (1d 2014-01-28 00:00:00 -> 2025-01-28)\n"
     ]
    },
    {
     "name": "stdout",
     "output_type": "stream",
     "text": [
      "No data found for LOAN (10y)\n",
      "Skipped LOAN - insufficient data\n",
      "Processing CXW...\n"
     ]
    },
    {
     "name": "stderr",
     "output_type": "stream",
     "text": [
      "$CXW: possibly delisted; no price data found  (1d 2014-01-28 00:00:00 -> 2025-01-28)\n"
     ]
    },
    {
     "name": "stdout",
     "output_type": "stream",
     "text": [
      "No data found for CXW (10y)\n",
      "Skipped CXW - insufficient data\n",
      "Processing HYI...\n"
     ]
    },
    {
     "name": "stderr",
     "output_type": "stream",
     "text": [
      "$HYI: possibly delisted; no price data found  (1d 2014-01-28 00:00:00 -> 2025-01-28)\n"
     ]
    },
    {
     "name": "stdout",
     "output_type": "stream",
     "text": [
      "No data found for HYI (10y)\n",
      "Skipped HYI - insufficient data\n",
      "Processing AI...\n"
     ]
    },
    {
     "name": "stderr",
     "output_type": "stream",
     "text": [
      "$AI: possibly delisted; no price data found  (1d 2014-01-28 00:00:00 -> 2025-01-28)\n"
     ]
    },
    {
     "name": "stdout",
     "output_type": "stream",
     "text": [
      "No data found for AI (10y)\n",
      "Skipped AI - insufficient data\n",
      "Processing THO...\n"
     ]
    },
    {
     "name": "stderr",
     "output_type": "stream",
     "text": [
      "$THO: possibly delisted; no price data found  (1d 2014-01-28 00:00:00 -> 2025-01-28)\n"
     ]
    },
    {
     "name": "stdout",
     "output_type": "stream",
     "text": [
      "No data found for THO (10y)\n",
      "Skipped THO - insufficient data\n",
      "Processing DMRC...\n"
     ]
    },
    {
     "name": "stderr",
     "output_type": "stream",
     "text": [
      "$DMRC: possibly delisted; no price data found  (1d 2014-01-28 00:00:00 -> 2025-01-28)\n"
     ]
    },
    {
     "name": "stdout",
     "output_type": "stream",
     "text": [
      "No data found for DMRC (10y)\n",
      "Skipped DMRC - insufficient data\n",
      "Processing LTBR...\n"
     ]
    },
    {
     "name": "stderr",
     "output_type": "stream",
     "text": [
      "$LTBR: possibly delisted; no price data found  (1d 2014-01-28 00:00:00 -> 2025-01-28)\n"
     ]
    },
    {
     "name": "stdout",
     "output_type": "stream",
     "text": [
      "No data found for LTBR (10y)\n",
      "Skipped LTBR - insufficient data\n",
      "Processing HOFT...\n"
     ]
    },
    {
     "name": "stderr",
     "output_type": "stream",
     "text": [
      "$HOFT: possibly delisted; no price data found  (1d 2014-01-28 00:00:00 -> 2025-01-28)\n"
     ]
    },
    {
     "name": "stdout",
     "output_type": "stream",
     "text": [
      "No data found for HOFT (10y)\n",
      "Skipped HOFT - insufficient data\n",
      "Processing AME...\n"
     ]
    },
    {
     "name": "stderr",
     "output_type": "stream",
     "text": [
      "$AME: possibly delisted; no price data found  (1d 2014-01-28 00:00:00 -> 2025-01-28)\n"
     ]
    },
    {
     "name": "stdout",
     "output_type": "stream",
     "text": [
      "No data found for AME (10y)\n",
      "Skipped AME - insufficient data\n",
      "Processing NU...\n"
     ]
    },
    {
     "name": "stderr",
     "output_type": "stream",
     "text": [
      "$NU: possibly delisted; no price data found  (1d 2014-01-28 00:00:00 -> 2025-01-28)\n"
     ]
    },
    {
     "name": "stdout",
     "output_type": "stream",
     "text": [
      "No data found for NU (10y)\n",
      "Skipped NU - insufficient data\n",
      "Processing TREE...\n"
     ]
    },
    {
     "name": "stderr",
     "output_type": "stream",
     "text": [
      "$TREE: possibly delisted; no price data found  (1d 2014-01-28 00:00:00 -> 2025-01-28)\n"
     ]
    },
    {
     "name": "stdout",
     "output_type": "stream",
     "text": [
      "No data found for TREE (10y)\n",
      "Skipped TREE - insufficient data\n",
      "Processing GEO...\n"
     ]
    },
    {
     "name": "stderr",
     "output_type": "stream",
     "text": [
      "$GEO: possibly delisted; no price data found  (1d 2014-01-28 00:00:00 -> 2025-01-28)\n"
     ]
    },
    {
     "name": "stdout",
     "output_type": "stream",
     "text": [
      "No data found for GEO (10y)\n",
      "Skipped GEO - insufficient data\n",
      "Processing CM...\n"
     ]
    },
    {
     "name": "stderr",
     "output_type": "stream",
     "text": [
      "$CM: possibly delisted; no price data found  (1d 2014-01-28 00:00:00 -> 2025-01-28)\n"
     ]
    },
    {
     "name": "stdout",
     "output_type": "stream",
     "text": [
      "No data found for CM (10y)\n",
      "Skipped CM - insufficient data\n",
      "Processing AVD...\n"
     ]
    },
    {
     "name": "stderr",
     "output_type": "stream",
     "text": [
      "$AVD: possibly delisted; no price data found  (1d 2014-01-28 00:00:00 -> 2025-01-28)\n"
     ]
    },
    {
     "name": "stdout",
     "output_type": "stream",
     "text": [
      "No data found for AVD (10y)\n",
      "Skipped AVD - insufficient data\n",
      "Processing FLC...\n"
     ]
    },
    {
     "name": "stderr",
     "output_type": "stream",
     "text": [
      "$FLC: possibly delisted; no price data found  (1d 2014-01-28 00:00:00 -> 2025-01-28)\n"
     ]
    },
    {
     "name": "stdout",
     "output_type": "stream",
     "text": [
      "No data found for FLC (10y)\n",
      "Skipped FLC - insufficient data\n",
      "Processing DELL...\n"
     ]
    },
    {
     "name": "stderr",
     "output_type": "stream",
     "text": [
      "$DELL: possibly delisted; no price data found  (1d 2014-01-28 00:00:00 -> 2025-01-28)\n"
     ]
    },
    {
     "name": "stdout",
     "output_type": "stream",
     "text": [
      "No data found for DELL (10y)\n",
      "Skipped DELL - insufficient data\n",
      "Processing TLYS...\n"
     ]
    },
    {
     "name": "stderr",
     "output_type": "stream",
     "text": [
      "$TLYS: possibly delisted; no price data found  (1d 2014-01-28 00:00:00 -> 2025-01-28)\n"
     ]
    },
    {
     "name": "stdout",
     "output_type": "stream",
     "text": [
      "No data found for TLYS (10y)\n",
      "Skipped TLYS - insufficient data\n",
      "Processing POWL...\n"
     ]
    },
    {
     "name": "stderr",
     "output_type": "stream",
     "text": [
      "$POWL: possibly delisted; no price data found  (1d 2014-01-28 00:00:00 -> 2025-01-28)\n"
     ]
    },
    {
     "name": "stdout",
     "output_type": "stream",
     "text": [
      "No data found for POWL (10y)\n",
      "Skipped POWL - insufficient data\n",
      "Processing HI...\n"
     ]
    },
    {
     "name": "stderr",
     "output_type": "stream",
     "text": [
      "$HI: possibly delisted; no price data found  (1d 2014-01-28 00:00:00 -> 2025-01-28)\n"
     ]
    },
    {
     "name": "stdout",
     "output_type": "stream",
     "text": [
      "No data found for HI (10y)\n",
      "Skipped HI - insufficient data\n",
      "Processing BKH...\n"
     ]
    },
    {
     "name": "stderr",
     "output_type": "stream",
     "text": [
      "$BKH: possibly delisted; no price data found  (1d 2014-01-28 00:00:00 -> 2025-01-28)\n"
     ]
    },
    {
     "name": "stdout",
     "output_type": "stream",
     "text": [
      "No data found for BKH (10y)\n",
      "Skipped BKH - insufficient data\n",
      "Processing BUI...\n"
     ]
    },
    {
     "name": "stderr",
     "output_type": "stream",
     "text": [
      "$BUI: possibly delisted; no price data found  (1d 2014-01-28 00:00:00 -> 2025-01-28)\n"
     ]
    },
    {
     "name": "stdout",
     "output_type": "stream",
     "text": [
      "No data found for BUI (10y)\n",
      "Skipped BUI - insufficient data\n",
      "Processing CCI...\n"
     ]
    },
    {
     "name": "stderr",
     "output_type": "stream",
     "text": [
      "$CCI: possibly delisted; no price data found  (1d 2014-01-28 00:00:00 -> 2025-01-28)\n"
     ]
    },
    {
     "name": "stdout",
     "output_type": "stream",
     "text": [
      "No data found for CCI (10y)\n",
      "Skipped CCI - insufficient data\n",
      "Processing TW...\n"
     ]
    },
    {
     "name": "stderr",
     "output_type": "stream",
     "text": [
      "$TW: possibly delisted; no price data found  (1d 2014-01-28 00:00:00 -> 2025-01-28)\n"
     ]
    },
    {
     "name": "stdout",
     "output_type": "stream",
     "text": [
      "No data found for TW (10y)\n",
      "Skipped TW - insufficient data\n",
      "Processing DG...\n"
     ]
    },
    {
     "name": "stderr",
     "output_type": "stream",
     "text": [
      "$DG: possibly delisted; no price data found  (1d 2014-01-28 00:00:00 -> 2025-01-28)\n"
     ]
    },
    {
     "name": "stdout",
     "output_type": "stream",
     "text": [
      "No data found for DG (10y)\n",
      "Skipped DG - insufficient data\n",
      "Processing TSI...\n"
     ]
    },
    {
     "name": "stderr",
     "output_type": "stream",
     "text": [
      "$TSI: possibly delisted; no price data found  (1d 2014-01-28 00:00:00 -> 2025-01-28)\n"
     ]
    },
    {
     "name": "stdout",
     "output_type": "stream",
     "text": [
      "No data found for TSI (10y)\n",
      "Skipped TSI - insufficient data\n",
      "Processing FET...\n"
     ]
    },
    {
     "name": "stderr",
     "output_type": "stream",
     "text": [
      "$FET: possibly delisted; no price data found  (1d 2014-01-28 00:00:00 -> 2025-01-28)\n"
     ]
    },
    {
     "name": "stdout",
     "output_type": "stream",
     "text": [
      "No data found for FET (10y)\n",
      "Skipped FET - insufficient data\n",
      "Processing TREX...\n"
     ]
    },
    {
     "name": "stderr",
     "output_type": "stream",
     "text": [
      "$TREX: possibly delisted; no price data found  (1d 2014-01-28 00:00:00 -> 2025-01-28)\n"
     ]
    },
    {
     "name": "stdout",
     "output_type": "stream",
     "text": [
      "No data found for TREX (10y)\n",
      "Skipped TREX - insufficient data\n",
      "Processing MBI...\n"
     ]
    },
    {
     "name": "stderr",
     "output_type": "stream",
     "text": [
      "$MBI: possibly delisted; no price data found  (1d 2014-01-28 00:00:00 -> 2025-01-28)\n"
     ]
    },
    {
     "name": "stdout",
     "output_type": "stream",
     "text": [
      "No data found for MBI (10y)\n",
      "Skipped MBI - insufficient data\n",
      "Processing TEI...\n"
     ]
    },
    {
     "name": "stderr",
     "output_type": "stream",
     "text": [
      "$TEI: possibly delisted; no price data found  (1d 2014-01-28 00:00:00 -> 2025-01-28)\n"
     ]
    },
    {
     "name": "stdout",
     "output_type": "stream",
     "text": [
      "No data found for TEI (10y)\n",
      "Skipped TEI - insufficient data\n",
      "Processing AXS...\n"
     ]
    },
    {
     "name": "stderr",
     "output_type": "stream",
     "text": [
      "$AXS: possibly delisted; no price data found  (1d 2014-01-28 00:00:00 -> 2025-01-28)\n"
     ]
    },
    {
     "name": "stdout",
     "output_type": "stream",
     "text": [
      "No data found for AXS (10y)\n",
      "Skipped AXS - insufficient data\n",
      "Processing SHO...\n"
     ]
    },
    {
     "name": "stderr",
     "output_type": "stream",
     "text": [
      "$SHO: possibly delisted; no price data found  (1d 2014-01-28 00:00:00 -> 2025-01-28)\n"
     ]
    },
    {
     "name": "stdout",
     "output_type": "stream",
     "text": [
      "No data found for SHO (10y)\n",
      "Skipped SHO - insufficient data\n",
      "Processing HEI...\n"
     ]
    },
    {
     "name": "stderr",
     "output_type": "stream",
     "text": [
      "$HEI: possibly delisted; no price data found  (1d 2014-01-28 00:00:00 -> 2025-01-28)\n"
     ]
    },
    {
     "name": "stdout",
     "output_type": "stream",
     "text": [
      "No data found for HEI (10y)\n",
      "Skipped HEI - insufficient data\n",
      "Processing NAZ...\n"
     ]
    },
    {
     "name": "stderr",
     "output_type": "stream",
     "text": [
      "$NAZ: possibly delisted; no price data found  (1d 2014-01-28 00:00:00 -> 2025-01-28)\n"
     ]
    },
    {
     "name": "stdout",
     "output_type": "stream",
     "text": [
      "No data found for NAZ (10y)\n",
      "Skipped NAZ - insufficient data\n",
      "Processing QDEL...\n"
     ]
    },
    {
     "name": "stderr",
     "output_type": "stream",
     "text": [
      "$QDEL: possibly delisted; no price data found  (1d 2014-01-28 00:00:00 -> 2025-01-28)\n"
     ]
    },
    {
     "name": "stdout",
     "output_type": "stream",
     "text": [
      "No data found for QDEL (10y)\n",
      "Skipped QDEL - insufficient data\n",
      "Processing MCI...\n"
     ]
    },
    {
     "name": "stderr",
     "output_type": "stream",
     "text": [
      "$MCI: possibly delisted; no price data found  (1d 2014-01-28 00:00:00 -> 2025-01-28)\n"
     ]
    },
    {
     "name": "stdout",
     "output_type": "stream",
     "text": [
      "No data found for MCI (10y)\n",
      "Skipped MCI - insufficient data\n",
      "Processing SOR...\n"
     ]
    },
    {
     "name": "stderr",
     "output_type": "stream",
     "text": [
      "$SOR: possibly delisted; no price data found  (1d 2014-01-28 00:00:00 -> 2025-01-28)\n"
     ]
    },
    {
     "name": "stdout",
     "output_type": "stream",
     "text": [
      "No data found for SOR (10y)\n",
      "Skipped SOR - insufficient data\n",
      "Processing BFS...\n"
     ]
    },
    {
     "name": "stderr",
     "output_type": "stream",
     "text": [
      "$BFS: possibly delisted; no price data found  (1d 2014-01-28 00:00:00 -> 2025-01-28)\n"
     ]
    },
    {
     "name": "stdout",
     "output_type": "stream",
     "text": [
      "No data found for BFS (10y)\n",
      "Skipped BFS - insufficient data\n",
      "Processing RAND...\n"
     ]
    },
    {
     "name": "stderr",
     "output_type": "stream",
     "text": [
      "$RAND: possibly delisted; no price data found  (1d 2014-01-28 00:00:00 -> 2025-01-28)\n"
     ]
    },
    {
     "name": "stdout",
     "output_type": "stream",
     "text": [
      "No data found for RAND (10y)\n",
      "Skipped RAND - insufficient data\n",
      "Processing PPT...\n"
     ]
    },
    {
     "name": "stderr",
     "output_type": "stream",
     "text": [
      "$PPT: possibly delisted; no price data found  (1d 2014-01-28 00:00:00 -> 2025-01-28)\n"
     ]
    },
    {
     "name": "stdout",
     "output_type": "stream",
     "text": [
      "No data found for PPT (10y)\n",
      "Skipped PPT - insufficient data\n",
      "Processing SGU...\n"
     ]
    },
    {
     "name": "stderr",
     "output_type": "stream",
     "text": [
      "$SGU: possibly delisted; no price data found  (1d 2014-01-28 00:00:00 -> 2025-01-28)\n"
     ]
    },
    {
     "name": "stdout",
     "output_type": "stream",
     "text": [
      "No data found for SGU (10y)\n",
      "Skipped SGU - insufficient data\n",
      "Processing CUK...\n"
     ]
    },
    {
     "name": "stderr",
     "output_type": "stream",
     "text": [
      "$CUK: possibly delisted; no price data found  (1d 2014-01-28 00:00:00 -> 2025-01-28)\n"
     ]
    },
    {
     "name": "stdout",
     "output_type": "stream",
     "text": [
      "No data found for CUK (10y)\n",
      "Skipped CUK - insufficient data\n",
      "Processing CUBE...\n"
     ]
    },
    {
     "name": "stderr",
     "output_type": "stream",
     "text": [
      "$CUBE: possibly delisted; no price data found  (1d 2014-01-28 00:00:00 -> 2025-01-28)\n"
     ]
    },
    {
     "name": "stdout",
     "output_type": "stream",
     "text": [
      "No data found for CUBE (10y)\n",
      "Skipped CUBE - insufficient data\n",
      "Processing DAKT...\n"
     ]
    },
    {
     "name": "stderr",
     "output_type": "stream",
     "text": [
      "$DAKT: possibly delisted; no price data found  (1d 2014-01-28 00:00:00 -> 2025-01-28)\n"
     ]
    },
    {
     "name": "stdout",
     "output_type": "stream",
     "text": [
      "No data found for DAKT (10y)\n",
      "Skipped DAKT - insufficient data\n",
      "Processing WOOF...\n"
     ]
    },
    {
     "name": "stderr",
     "output_type": "stream",
     "text": [
      "$WOOF: possibly delisted; no price data found  (1d 2014-01-28 00:00:00 -> 2025-01-28)\n"
     ]
    },
    {
     "name": "stdout",
     "output_type": "stream",
     "text": [
      "No data found for WOOF (10y)\n",
      "Skipped WOOF - insufficient data\n",
      "Processing PRO...\n"
     ]
    },
    {
     "name": "stderr",
     "output_type": "stream",
     "text": [
      "$PRO: possibly delisted; no price data found  (1d 2014-01-28 00:00:00 -> 2025-01-28)\n"
     ]
    },
    {
     "name": "stdout",
     "output_type": "stream",
     "text": [
      "No data found for PRO (10y)\n",
      "Skipped PRO - insufficient data\n",
      "Processing STRT...\n"
     ]
    },
    {
     "name": "stderr",
     "output_type": "stream",
     "text": [
      "$STRT: possibly delisted; no price data found  (1d 2014-01-28 00:00:00 -> 2025-01-28)\n"
     ]
    },
    {
     "name": "stdout",
     "output_type": "stream",
     "text": [
      "No data found for STRT (10y)\n",
      "Skipped STRT - insufficient data\n",
      "Processing HMC...\n"
     ]
    },
    {
     "name": "stderr",
     "output_type": "stream",
     "text": [
      "$HMC: possibly delisted; no price data found  (1d 2014-01-28 00:00:00 -> 2025-01-28)\n"
     ]
    },
    {
     "name": "stdout",
     "output_type": "stream",
     "text": [
      "No data found for HMC (10y)\n",
      "Skipped HMC - insufficient data\n",
      "Processing BEN...\n"
     ]
    },
    {
     "name": "stderr",
     "output_type": "stream",
     "text": [
      "$BEN: possibly delisted; no price data found  (1d 2014-01-28 00:00:00 -> 2025-01-28)\n"
     ]
    },
    {
     "name": "stdout",
     "output_type": "stream",
     "text": [
      "No data found for BEN (10y)\n",
      "Skipped BEN - insufficient data\n",
      "Processing PERI...\n"
     ]
    },
    {
     "name": "stderr",
     "output_type": "stream",
     "text": [
      "$PERI: possibly delisted; no price data found  (1d 2014-01-28 00:00:00 -> 2025-01-28)\n"
     ]
    },
    {
     "name": "stdout",
     "output_type": "stream",
     "text": [
      "No data found for PERI (10y)\n",
      "Skipped PERI - insufficient data\n",
      "Processing MAT...\n"
     ]
    },
    {
     "name": "stderr",
     "output_type": "stream",
     "text": [
      "$MAT: possibly delisted; no price data found  (1d 2014-01-28 00:00:00 -> 2025-01-28)\n"
     ]
    },
    {
     "name": "stdout",
     "output_type": "stream",
     "text": [
      "No data found for MAT (10y)\n",
      "Skipped MAT - insufficient data\n",
      "Processing FRO...\n"
     ]
    },
    {
     "name": "stderr",
     "output_type": "stream",
     "text": [
      "$FRO: possibly delisted; no price data found  (1d 2014-01-28 00:00:00 -> 2025-01-28)\n"
     ]
    },
    {
     "name": "stdout",
     "output_type": "stream",
     "text": [
      "No data found for FRO (10y)\n",
      "Skipped FRO - insufficient data\n",
      "Processing DLB...\n"
     ]
    },
    {
     "name": "stderr",
     "output_type": "stream",
     "text": [
      "$DLB: possibly delisted; no price data found  (1d 2014-01-28 00:00:00 -> 2025-01-28)\n"
     ]
    },
    {
     "name": "stdout",
     "output_type": "stream",
     "text": [
      "No data found for DLB (10y)\n",
      "Skipped DLB - insufficient data\n",
      "Processing TCBK...\n"
     ]
    },
    {
     "name": "stderr",
     "output_type": "stream",
     "text": [
      "$TCBK: possibly delisted; no price data found  (1d 2014-01-28 00:00:00 -> 2025-01-28)\n"
     ]
    },
    {
     "name": "stdout",
     "output_type": "stream",
     "text": [
      "No data found for TCBK (10y)\n",
      "Skipped TCBK - insufficient data\n",
      "Processing LOGI...\n"
     ]
    },
    {
     "name": "stderr",
     "output_type": "stream",
     "text": [
      "$LOGI: possibly delisted; no price data found  (1d 2014-01-28 00:00:00 -> 2025-01-28)\n"
     ]
    },
    {
     "name": "stdout",
     "output_type": "stream",
     "text": [
      "No data found for LOGI (10y)\n",
      "Skipped LOGI - insufficient data\n",
      "Processing DKS...\n"
     ]
    },
    {
     "name": "stderr",
     "output_type": "stream",
     "text": [
      "$DKS: possibly delisted; no price data found  (1d 2014-01-28 00:00:00 -> 2025-01-28)\n"
     ]
    },
    {
     "name": "stdout",
     "output_type": "stream",
     "text": [
      "No data found for DKS (10y)\n",
      "Skipped DKS - insufficient data\n",
      "Processing AIZ...\n"
     ]
    },
    {
     "name": "stderr",
     "output_type": "stream",
     "text": [
      "$AIZ: possibly delisted; no price data found  (1d 2014-01-28 00:00:00 -> 2025-01-28)\n"
     ]
    },
    {
     "name": "stdout",
     "output_type": "stream",
     "text": [
      "No data found for AIZ (10y)\n",
      "Skipped AIZ - insufficient data\n",
      "Processing TFSL...\n"
     ]
    },
    {
     "name": "stderr",
     "output_type": "stream",
     "text": [
      "$TFSL: possibly delisted; no price data found  (1d 2014-01-28 00:00:00 -> 2025-01-28)\n"
     ]
    },
    {
     "name": "stdout",
     "output_type": "stream",
     "text": [
      "No data found for TFSL (10y)\n",
      "Skipped TFSL - insufficient data\n",
      "Processing FIZZ...\n"
     ]
    },
    {
     "name": "stderr",
     "output_type": "stream",
     "text": [
      "$FIZZ: possibly delisted; no price data found  (1d 2014-01-28 00:00:00 -> 2025-01-28)\n"
     ]
    },
    {
     "name": "stdout",
     "output_type": "stream",
     "text": [
      "No data found for FIZZ (10y)\n",
      "Skipped FIZZ - insufficient data\n",
      "Processing SYY...\n"
     ]
    },
    {
     "name": "stderr",
     "output_type": "stream",
     "text": [
      "$SYY: possibly delisted; no price data found  (1d 2014-01-28 00:00:00 -> 2025-01-28)\n"
     ]
    },
    {
     "name": "stdout",
     "output_type": "stream",
     "text": [
      "No data found for SYY (10y)\n",
      "Skipped SYY - insufficient data\n",
      "Processing TBNK...\n"
     ]
    },
    {
     "name": "stderr",
     "output_type": "stream",
     "text": [
      "$TBNK: possibly delisted; no price data found  (1d 2014-01-28 00:00:00 -> 2025-01-28)\n"
     ]
    },
    {
     "name": "stdout",
     "output_type": "stream",
     "text": [
      "No data found for TBNK (10y)\n",
      "Skipped TBNK - insufficient data\n",
      "Processing CRS...\n"
     ]
    },
    {
     "name": "stderr",
     "output_type": "stream",
     "text": [
      "$CRS: possibly delisted; no price data found  (1d 2014-01-28 00:00:00 -> 2025-01-28)\n"
     ]
    },
    {
     "name": "stdout",
     "output_type": "stream",
     "text": [
      "No data found for CRS (10y)\n",
      "Skipped CRS - insufficient data\n",
      "Processing PBI...\n"
     ]
    },
    {
     "name": "stderr",
     "output_type": "stream",
     "text": [
      "$PBI: possibly delisted; no price data found  (1d 2014-01-28 00:00:00 -> 2025-01-28)\n"
     ]
    },
    {
     "name": "stdout",
     "output_type": "stream",
     "text": [
      "No data found for PBI (10y)\n",
      "Skipped PBI - insufficient data\n",
      "Processing STEL...\n"
     ]
    },
    {
     "name": "stderr",
     "output_type": "stream",
     "text": [
      "$STEL: possibly delisted; no price data found  (1d 2014-01-28 00:00:00 -> 2025-01-28)\n"
     ]
    },
    {
     "name": "stdout",
     "output_type": "stream",
     "text": [
      "No data found for STEL (10y)\n",
      "Skipped STEL - insufficient data\n",
      "Processing CRI...\n"
     ]
    },
    {
     "name": "stderr",
     "output_type": "stream",
     "text": [
      "$CRI: possibly delisted; no price data found  (1d 2014-01-28 00:00:00 -> 2025-01-28)\n"
     ]
    },
    {
     "name": "stdout",
     "output_type": "stream",
     "text": [
      "No data found for CRI (10y)\n",
      "Skipped CRI - insufficient data\n",
      "Processing GWRE...\n"
     ]
    },
    {
     "name": "stderr",
     "output_type": "stream",
     "text": [
      "$GWRE: possibly delisted; no price data found  (1d 2014-01-28 00:00:00 -> 2025-01-28)\n"
     ]
    },
    {
     "name": "stdout",
     "output_type": "stream",
     "text": [
      "No data found for GWRE (10y)\n",
      "Skipped GWRE - insufficient data\n",
      "Processing ANGO...\n"
     ]
    },
    {
     "name": "stderr",
     "output_type": "stream",
     "text": [
      "$ANGO: possibly delisted; no price data found  (1d 2014-01-28 00:00:00 -> 2025-01-28)\n"
     ]
    },
    {
     "name": "stdout",
     "output_type": "stream",
     "text": [
      "No data found for ANGO (10y)\n",
      "Skipped ANGO - insufficient data\n",
      "Processing ADT...\n"
     ]
    },
    {
     "name": "stderr",
     "output_type": "stream",
     "text": [
      "$ADT: possibly delisted; no price data found  (1d 2014-01-28 00:00:00 -> 2025-01-28)\n"
     ]
    },
    {
     "name": "stdout",
     "output_type": "stream",
     "text": [
      "No data found for ADT (10y)\n",
      "Skipped ADT - insufficient data\n",
      "Processing NGS...\n"
     ]
    },
    {
     "name": "stderr",
     "output_type": "stream",
     "text": [
      "$NGS: possibly delisted; no price data found  (1d 2014-01-28 00:00:00 -> 2025-01-28)\n"
     ]
    },
    {
     "name": "stdout",
     "output_type": "stream",
     "text": [
      "No data found for NGS (10y)\n",
      "Skipped NGS - insufficient data\n",
      "Processing SSYS...\n"
     ]
    },
    {
     "name": "stderr",
     "output_type": "stream",
     "text": [
      "$SSYS: possibly delisted; no price data found  (1d 2014-01-28 00:00:00 -> 2025-01-28)\n"
     ]
    },
    {
     "name": "stdout",
     "output_type": "stream",
     "text": [
      "No data found for SSYS (10y)\n",
      "Skipped SSYS - insufficient data\n",
      "Processing PODD...\n"
     ]
    },
    {
     "name": "stderr",
     "output_type": "stream",
     "text": [
      "$PODD: possibly delisted; no price data found  (1d 2014-01-28 00:00:00 -> 2025-01-28)\n"
     ]
    },
    {
     "name": "stdout",
     "output_type": "stream",
     "text": [
      "No data found for PODD (10y)\n",
      "Skipped PODD - insufficient data\n",
      "Processing SSTK...\n"
     ]
    },
    {
     "name": "stderr",
     "output_type": "stream",
     "text": [
      "$SSTK: possibly delisted; no price data found  (1d 2014-01-28 00:00:00 -> 2025-01-28)\n"
     ]
    },
    {
     "name": "stdout",
     "output_type": "stream",
     "text": [
      "No data found for SSTK (10y)\n",
      "Skipped SSTK - insufficient data\n",
      "Processing KOP...\n"
     ]
    },
    {
     "name": "stderr",
     "output_type": "stream",
     "text": [
      "$KOP: possibly delisted; no price data found  (1d 2014-01-28 00:00:00 -> 2025-01-28)\n"
     ]
    },
    {
     "name": "stdout",
     "output_type": "stream",
     "text": [
      "No data found for KOP (10y)\n",
      "Skipped KOP - insufficient data\n",
      "Processing PKOH...\n"
     ]
    },
    {
     "name": "stderr",
     "output_type": "stream",
     "text": [
      "$PKOH: possibly delisted; no price data found  (1d 2014-01-28 00:00:00 -> 2025-01-28)\n"
     ]
    },
    {
     "name": "stdout",
     "output_type": "stream",
     "text": [
      "No data found for PKOH (10y)\n",
      "Skipped PKOH - insufficient data\n",
      "Processing HTBK...\n"
     ]
    },
    {
     "name": "stderr",
     "output_type": "stream",
     "text": [
      "$HTBK: possibly delisted; no price data found  (1d 2014-01-28 00:00:00 -> 2025-01-28)\n"
     ]
    },
    {
     "name": "stdout",
     "output_type": "stream",
     "text": [
      "No data found for HTBK (10y)\n",
      "Skipped HTBK - insufficient data\n",
      "Processing LWAY...\n"
     ]
    },
    {
     "name": "stderr",
     "output_type": "stream",
     "text": [
      "$LWAY: possibly delisted; no price data found  (1d 2014-01-28 00:00:00 -> 2025-01-28)\n"
     ]
    },
    {
     "name": "stdout",
     "output_type": "stream",
     "text": [
      "No data found for LWAY (10y)\n",
      "Skipped LWAY - insufficient data\n",
      "Processing IDT...\n"
     ]
    },
    {
     "name": "stderr",
     "output_type": "stream",
     "text": [
      "$IDT: possibly delisted; no price data found  (1d 2014-01-28 00:00:00 -> 2025-01-28)\n"
     ]
    },
    {
     "name": "stdout",
     "output_type": "stream",
     "text": [
      "No data found for IDT (10y)\n",
      "Skipped IDT - insufficient data\n",
      "Processing PBHC...\n"
     ]
    },
    {
     "name": "stderr",
     "output_type": "stream",
     "text": [
      "$PBHC: possibly delisted; no price data found  (1d 2014-01-28 00:00:00 -> 2025-01-28)\n"
     ]
    },
    {
     "name": "stdout",
     "output_type": "stream",
     "text": [
      "No data found for PBHC (10y)\n",
      "Skipped PBHC - insufficient data\n",
      "Processing CUB...\n"
     ]
    },
    {
     "name": "stderr",
     "output_type": "stream",
     "text": [
      "$CUB: possibly delisted; no price data found  (1d 2014-01-28 00:00:00 -> 2025-01-28)\n"
     ]
    },
    {
     "name": "stdout",
     "output_type": "stream",
     "text": [
      "No data found for CUB (10y)\n",
      "Skipped CUB - insufficient data\n",
      "Processing DIS...\n"
     ]
    },
    {
     "name": "stderr",
     "output_type": "stream",
     "text": [
      "$DIS: possibly delisted; no price data found  (1d 2014-01-28 00:00:00 -> 2025-01-28)\n"
     ]
    },
    {
     "name": "stdout",
     "output_type": "stream",
     "text": [
      "No data found for DIS (10y)\n",
      "Skipped DIS - insufficient data\n",
      "Processing LLY...\n"
     ]
    },
    {
     "name": "stderr",
     "output_type": "stream",
     "text": [
      "$LLY: possibly delisted; no price data found  (1d 2014-01-28 00:00:00 -> 2025-01-28)\n"
     ]
    },
    {
     "name": "stdout",
     "output_type": "stream",
     "text": [
      "No data found for LLY (10y)\n",
      "Skipped LLY - insufficient data\n",
      "Processing COTY...\n"
     ]
    },
    {
     "name": "stderr",
     "output_type": "stream",
     "text": [
      "$COTY: possibly delisted; no price data found  (1d 2014-01-28 00:00:00 -> 2025-01-28)\n"
     ]
    },
    {
     "name": "stdout",
     "output_type": "stream",
     "text": [
      "No data found for COTY (10y)\n",
      "Skipped COTY - insufficient data\n",
      "Processing SJT...\n"
     ]
    },
    {
     "name": "stderr",
     "output_type": "stream",
     "text": [
      "$SJT: possibly delisted; no price data found  (1d 2014-01-28 00:00:00 -> 2025-01-28)\n"
     ]
    },
    {
     "name": "stdout",
     "output_type": "stream",
     "text": [
      "No data found for SJT (10y)\n",
      "Skipped SJT - insufficient data\n",
      "Processing COLM...\n"
     ]
    },
    {
     "name": "stderr",
     "output_type": "stream",
     "text": [
      "$COLM: possibly delisted; no price data found  (1d 2014-01-28 00:00:00 -> 2025-01-28)\n"
     ]
    },
    {
     "name": "stdout",
     "output_type": "stream",
     "text": [
      "No data found for COLM (10y)\n",
      "Skipped COLM - insufficient data\n",
      "Processing NFG...\n"
     ]
    },
    {
     "name": "stderr",
     "output_type": "stream",
     "text": [
      "$NFG: possibly delisted; no price data found  (1d 2014-01-28 00:00:00 -> 2025-01-28)\n"
     ]
    },
    {
     "name": "stdout",
     "output_type": "stream",
     "text": [
      "No data found for NFG (10y)\n",
      "Skipped NFG - insufficient data\n",
      "Processing PMF...\n"
     ]
    },
    {
     "name": "stderr",
     "output_type": "stream",
     "text": [
      "$PMF: possibly delisted; no price data found  (1d 2014-01-28 00:00:00 -> 2025-01-28)\n"
     ]
    },
    {
     "name": "stdout",
     "output_type": "stream",
     "text": [
      "No data found for PMF (10y)\n",
      "Skipped PMF - insufficient data\n",
      "Processing DEO...\n"
     ]
    },
    {
     "name": "stderr",
     "output_type": "stream",
     "text": [
      "$DEO: possibly delisted; no price data found  (1d 2014-01-28 00:00:00 -> 2025-01-28)\n"
     ]
    },
    {
     "name": "stdout",
     "output_type": "stream",
     "text": [
      "No data found for DEO (10y)\n",
      "Skipped DEO - insufficient data\n",
      "Processing AGNC...\n"
     ]
    },
    {
     "name": "stderr",
     "output_type": "stream",
     "text": [
      "$AGNC: possibly delisted; no price data found  (1d 2014-01-28 00:00:00 -> 2025-01-28)\n"
     ]
    },
    {
     "name": "stdout",
     "output_type": "stream",
     "text": [
      "No data found for AGNC (10y)\n",
      "Skipped AGNC - insufficient data\n",
      "Processing CCG...\n"
     ]
    },
    {
     "name": "stderr",
     "output_type": "stream",
     "text": [
      "$CCG: possibly delisted; no price data found  (1d 2014-01-28 00:00:00 -> 2025-01-28)\n"
     ]
    },
    {
     "name": "stdout",
     "output_type": "stream",
     "text": [
      "No data found for CCG (10y)\n",
      "Skipped CCG - insufficient data\n",
      "Processing BKD...\n"
     ]
    },
    {
     "name": "stderr",
     "output_type": "stream",
     "text": [
      "$BKD: possibly delisted; no price data found  (1d 2014-01-28 00:00:00 -> 2025-01-28)\n"
     ]
    },
    {
     "name": "stdout",
     "output_type": "stream",
     "text": [
      "No data found for BKD (10y)\n",
      "Skipped BKD - insufficient data\n",
      "Processing OXY...\n"
     ]
    },
    {
     "name": "stderr",
     "output_type": "stream",
     "text": [
      "$OXY: possibly delisted; no price data found  (1d 2014-01-28 00:00:00 -> 2025-01-28)\n"
     ]
    },
    {
     "name": "stdout",
     "output_type": "stream",
     "text": [
      "No data found for OXY (10y)\n",
      "Skipped OXY - insufficient data\n",
      "Processing NMR...\n"
     ]
    },
    {
     "name": "stderr",
     "output_type": "stream",
     "text": [
      "$NMR: possibly delisted; no price data found  (1d 2014-01-28 00:00:00 -> 2025-01-28)\n"
     ]
    },
    {
     "name": "stdout",
     "output_type": "stream",
     "text": [
      "No data found for NMR (10y)\n",
      "Skipped NMR - insufficient data\n",
      "Processing CNOB...\n"
     ]
    },
    {
     "name": "stderr",
     "output_type": "stream",
     "text": [
      "$CNOB: possibly delisted; no price data found  (1d 2014-01-28 00:00:00 -> 2025-01-28)\n"
     ]
    },
    {
     "name": "stdout",
     "output_type": "stream",
     "text": [
      "No data found for CNOB (10y)\n",
      "Skipped CNOB - insufficient data\n",
      "Processing NIM...\n"
     ]
    },
    {
     "name": "stderr",
     "output_type": "stream",
     "text": [
      "$NIM: possibly delisted; no price data found  (1d 2014-01-28 00:00:00 -> 2025-01-28)\n"
     ]
    },
    {
     "name": "stdout",
     "output_type": "stream",
     "text": [
      "No data found for NIM (10y)\n",
      "Skipped NIM - insufficient data\n",
      "Processing AES...\n"
     ]
    },
    {
     "name": "stderr",
     "output_type": "stream",
     "text": [
      "$AES: possibly delisted; no price data found  (1d 2014-01-28 00:00:00 -> 2025-01-28)\n"
     ]
    },
    {
     "name": "stdout",
     "output_type": "stream",
     "text": [
      "No data found for AES (10y)\n",
      "Skipped AES - insufficient data\n",
      "Processing TEO...\n"
     ]
    },
    {
     "name": "stderr",
     "output_type": "stream",
     "text": [
      "$TEO: possibly delisted; no price data found  (1d 2014-01-28 00:00:00 -> 2025-01-28)\n"
     ]
    },
    {
     "name": "stdout",
     "output_type": "stream",
     "text": [
      "No data found for TEO (10y)\n",
      "Skipped TEO - insufficient data\n",
      "Processing CPRT...\n"
     ]
    },
    {
     "name": "stderr",
     "output_type": "stream",
     "text": [
      "$CPRT: possibly delisted; no price data found  (1d 2014-01-28 00:00:00 -> 2025-01-28)\n"
     ]
    },
    {
     "name": "stdout",
     "output_type": "stream",
     "text": [
      "No data found for CPRT (10y)\n",
      "Skipped CPRT - insufficient data\n",
      "Processing PROV...\n"
     ]
    },
    {
     "name": "stderr",
     "output_type": "stream",
     "text": [
      "$PROV: possibly delisted; no price data found  (1d 2014-01-28 00:00:00 -> 2025-01-28)\n"
     ]
    },
    {
     "name": "stdout",
     "output_type": "stream",
     "text": [
      "No data found for PROV (10y)\n",
      "Skipped PROV - insufficient data\n",
      "Processing AVA...\n"
     ]
    },
    {
     "name": "stderr",
     "output_type": "stream",
     "text": [
      "$AVA: possibly delisted; no price data found  (1d 2014-01-28 00:00:00 -> 2025-01-28)\n"
     ]
    },
    {
     "name": "stdout",
     "output_type": "stream",
     "text": [
      "No data found for AVA (10y)\n",
      "Skipped AVA - insufficient data\n",
      "Processing POWI...\n"
     ]
    },
    {
     "name": "stderr",
     "output_type": "stream",
     "text": [
      "$POWI: possibly delisted; no price data found  (1d 2014-01-28 00:00:00 -> 2025-01-28)\n"
     ]
    },
    {
     "name": "stdout",
     "output_type": "stream",
     "text": [
      "No data found for POWI (10y)\n",
      "Skipped POWI - insufficient data\n",
      "Processing LXFR...\n"
     ]
    },
    {
     "name": "stderr",
     "output_type": "stream",
     "text": [
      "$LXFR: possibly delisted; no price data found  (1d 2014-01-28 00:00:00 -> 2025-01-28)\n"
     ]
    },
    {
     "name": "stdout",
     "output_type": "stream",
     "text": [
      "No data found for LXFR (10y)\n",
      "Skipped LXFR - insufficient data\n",
      "Processing HIO...\n"
     ]
    },
    {
     "name": "stderr",
     "output_type": "stream",
     "text": [
      "$HIO: possibly delisted; no price data found  (1d 2014-01-28 00:00:00 -> 2025-01-28)\n"
     ]
    },
    {
     "name": "stdout",
     "output_type": "stream",
     "text": [
      "No data found for HIO (10y)\n",
      "Skipped HIO - insufficient data\n",
      "Processing SON...\n"
     ]
    },
    {
     "name": "stderr",
     "output_type": "stream",
     "text": [
      "$SON: possibly delisted; no price data found  (1d 2014-01-28 00:00:00 -> 2025-01-28)\n"
     ]
    },
    {
     "name": "stdout",
     "output_type": "stream",
     "text": [
      "No data found for SON (10y)\n",
      "Skipped SON - insufficient data\n",
      "Processing QCOM...\n"
     ]
    },
    {
     "name": "stderr",
     "output_type": "stream",
     "text": [
      "$QCOM: possibly delisted; no price data found  (1d 2014-01-28 00:00:00 -> 2025-01-28)\n"
     ]
    },
    {
     "name": "stdout",
     "output_type": "stream",
     "text": [
      "No data found for QCOM (10y)\n",
      "Skipped QCOM - insufficient data\n",
      "Processing PATH...\n"
     ]
    },
    {
     "name": "stderr",
     "output_type": "stream",
     "text": [
      "$PATH: possibly delisted; no price data found  (1d 2014-01-28 00:00:00 -> 2025-01-28)\n"
     ]
    },
    {
     "name": "stdout",
     "output_type": "stream",
     "text": [
      "No data found for PATH (10y)\n",
      "Skipped PATH - insufficient data\n",
      "Processing ARRY...\n"
     ]
    },
    {
     "name": "stderr",
     "output_type": "stream",
     "text": [
      "$ARRY: possibly delisted; no price data found  (1d 2014-01-28 00:00:00 -> 2025-01-28)\n"
     ]
    },
    {
     "name": "stdout",
     "output_type": "stream",
     "text": [
      "No data found for ARRY (10y)\n",
      "Skipped ARRY - insufficient data\n",
      "Processing CNMD...\n"
     ]
    },
    {
     "name": "stderr",
     "output_type": "stream",
     "text": [
      "$CNMD: possibly delisted; no price data found  (1d 2014-01-28 00:00:00 -> 2025-01-28)\n"
     ]
    },
    {
     "name": "stdout",
     "output_type": "stream",
     "text": [
      "No data found for CNMD (10y)\n",
      "Skipped CNMD - insufficient data\n",
      "Processing BLK...\n"
     ]
    },
    {
     "name": "stderr",
     "output_type": "stream",
     "text": [
      "$BLK: possibly delisted; no price data found  (1d 2014-01-28 00:00:00 -> 2025-01-28)\n"
     ]
    },
    {
     "name": "stdout",
     "output_type": "stream",
     "text": [
      "No data found for BLK (10y)\n",
      "Skipped BLK - insufficient data\n",
      "Processing LYG...\n"
     ]
    },
    {
     "name": "stderr",
     "output_type": "stream",
     "text": [
      "$LYG: possibly delisted; no price data found  (1d 2014-01-28 00:00:00 -> 2025-01-28)\n"
     ]
    },
    {
     "name": "stdout",
     "output_type": "stream",
     "text": [
      "No data found for LYG (10y)\n",
      "Skipped LYG - insufficient data\n",
      "Processing CNH...\n"
     ]
    },
    {
     "name": "stderr",
     "output_type": "stream",
     "text": [
      "$CNH: possibly delisted; no price data found  (1d 2014-01-28 00:00:00 -> 2025-01-28)\n"
     ]
    },
    {
     "name": "stdout",
     "output_type": "stream",
     "text": [
      "No data found for CNH (10y)\n",
      "Skipped CNH - insufficient data\n",
      "Processing PHH...\n"
     ]
    },
    {
     "name": "stderr",
     "output_type": "stream",
     "text": [
      "$PHH: possibly delisted; no price data found  (1d 2014-01-28 00:00:00 -> 2025-01-28)\n"
     ]
    },
    {
     "name": "stdout",
     "output_type": "stream",
     "text": [
      "No data found for PHH (10y)\n",
      "Skipped PHH - insufficient data\n",
      "Processing PDS...\n"
     ]
    },
    {
     "name": "stderr",
     "output_type": "stream",
     "text": [
      "$PDS: possibly delisted; no price data found  (1d 2014-01-28 00:00:00 -> 2025-01-28)\n"
     ]
    },
    {
     "name": "stdout",
     "output_type": "stream",
     "text": [
      "No data found for PDS (10y)\n",
      "Skipped PDS - insufficient data\n",
      "Processing SO...\n"
     ]
    },
    {
     "name": "stderr",
     "output_type": "stream",
     "text": [
      "$SO: possibly delisted; no price data found  (1d 2014-01-28 00:00:00 -> 2025-01-28)\n"
     ]
    },
    {
     "name": "stdout",
     "output_type": "stream",
     "text": [
      "No data found for SO (10y)\n",
      "Skipped SO - insufficient data\n",
      "Processing CMTL...\n"
     ]
    },
    {
     "name": "stderr",
     "output_type": "stream",
     "text": [
      "$CMTL: possibly delisted; no price data found  (1d 2014-01-28 00:00:00 -> 2025-01-28)\n"
     ]
    },
    {
     "name": "stdout",
     "output_type": "stream",
     "text": [
      "No data found for CMTL (10y)\n",
      "Skipped CMTL - insufficient data\n",
      "Processing GGAL...\n"
     ]
    },
    {
     "name": "stderr",
     "output_type": "stream",
     "text": [
      "$GGAL: possibly delisted; no price data found  (1d 2014-01-28 00:00:00 -> 2025-01-28)\n"
     ]
    },
    {
     "name": "stdout",
     "output_type": "stream",
     "text": [
      "No data found for GGAL (10y)\n",
      "Skipped GGAL - insufficient data\n",
      "Processing CMC...\n"
     ]
    },
    {
     "name": "stderr",
     "output_type": "stream",
     "text": [
      "$CMC: possibly delisted; no price data found  (1d 2014-01-28 00:00:00 -> 2025-01-28)\n"
     ]
    },
    {
     "name": "stdout",
     "output_type": "stream",
     "text": [
      "No data found for CMC (10y)\n",
      "Skipped CMC - insufficient data\n",
      "Processing DMLP...\n"
     ]
    },
    {
     "name": "stderr",
     "output_type": "stream",
     "text": [
      "$DMLP: possibly delisted; no price data found  (1d 2014-01-28 00:00:00 -> 2025-01-28)\n"
     ]
    },
    {
     "name": "stdout",
     "output_type": "stream",
     "text": [
      "No data found for DMLP (10y)\n",
      "Skipped DMLP - insufficient data\n",
      "Processing CMU...\n"
     ]
    },
    {
     "name": "stderr",
     "output_type": "stream",
     "text": [
      "$CMU: possibly delisted; no price data found  (1d 2014-01-28 00:00:00 -> 2025-01-28)\n"
     ]
    },
    {
     "name": "stdout",
     "output_type": "stream",
     "text": [
      "No data found for CMU (10y)\n",
      "Skipped CMU - insufficient data\n",
      "Processing DIOD...\n"
     ]
    },
    {
     "name": "stderr",
     "output_type": "stream",
     "text": [
      "$DIOD: possibly delisted; no price data found  (1d 2014-01-28 00:00:00 -> 2025-01-28)\n"
     ]
    },
    {
     "name": "stdout",
     "output_type": "stream",
     "text": [
      "No data found for DIOD (10y)\n",
      "Skipped DIOD - insufficient data\n",
      "Processing TRI...\n"
     ]
    },
    {
     "name": "stderr",
     "output_type": "stream",
     "text": [
      "$TRI: possibly delisted; no price data found  (1d 2014-01-28 00:00:00 -> 2025-01-28)\n"
     ]
    },
    {
     "name": "stdout",
     "output_type": "stream",
     "text": [
      "No data found for TRI (10y)\n",
      "Skipped TRI - insufficient data\n",
      "Processing HON...\n"
     ]
    },
    {
     "name": "stderr",
     "output_type": "stream",
     "text": [
      "$HON: possibly delisted; no price data found  (1d 2014-01-28 00:00:00 -> 2025-01-28)\n"
     ]
    },
    {
     "name": "stdout",
     "output_type": "stream",
     "text": [
      "No data found for HON (10y)\n",
      "Skipped HON - insufficient data\n",
      "Processing OB...\n"
     ]
    },
    {
     "name": "stderr",
     "output_type": "stream",
     "text": [
      "$OB: possibly delisted; no price data found  (1d 2014-01-28 00:00:00 -> 2025-01-28)\n"
     ]
    },
    {
     "name": "stdout",
     "output_type": "stream",
     "text": [
      "No data found for OB (10y)\n",
      "Skipped OB - insufficient data\n",
      "Processing FIX...\n"
     ]
    },
    {
     "name": "stderr",
     "output_type": "stream",
     "text": [
      "$FIX: possibly delisted; no price data found  (1d 2014-01-28 00:00:00 -> 2025-01-28)\n"
     ]
    },
    {
     "name": "stdout",
     "output_type": "stream",
     "text": [
      "No data found for FIX (10y)\n",
      "Skipped FIX - insufficient data\n",
      "Processing COHR...\n"
     ]
    },
    {
     "name": "stderr",
     "output_type": "stream",
     "text": [
      "$COHR: possibly delisted; no price data found  (1d 2014-01-28 00:00:00 -> 2025-01-28)\n"
     ]
    },
    {
     "name": "stdout",
     "output_type": "stream",
     "text": [
      "No data found for COHR (10y)\n",
      "Skipped COHR - insufficient data\n",
      "Processing INN...\n"
     ]
    },
    {
     "name": "stderr",
     "output_type": "stream",
     "text": [
      "$INN: possibly delisted; no price data found  (1d 2014-01-28 00:00:00 -> 2025-01-28)\n"
     ]
    },
    {
     "name": "stdout",
     "output_type": "stream",
     "text": [
      "No data found for INN (10y)\n",
      "Skipped INN - insufficient data\n",
      "Processing GERN...\n",
      "Processing SLF...\n",
      "Processing ALGN...\n",
      "Processing AKR...\n",
      "Processing ZBRA...\n",
      "Processing BTA...\n",
      "Processing PRKR...\n",
      "Processing PRTS...\n",
      "Processing CIA...\n",
      "Processing ATNI...\n",
      "Processing GEVO...\n",
      "Processing STI...\n",
      "Processing CCU...\n",
      "Processing PEG...\n",
      "Processing SLP...\n",
      "Processing CMP...\n",
      "Processing IGA...\n",
      "Processing CPA...\n",
      "Processing NPV...\n",
      "Processing FOXA...\n",
      "Processing SRPT...\n",
      "Processing SEM...\n",
      "Processing CLH...\n",
      "Processing CYH...\n",
      "Processing IHG...\n",
      "Processing PRGS...\n",
      "Processing GRPN...\n",
      "Processing SPSC...\n",
      "Processing HOG...\n",
      "Processing FICO...\n",
      "Processing AEHR...\n",
      "Processing G...\n",
      "Processing BHE...\n",
      "Processing CHW...\n",
      "Processing HPI...\n",
      "Processing JFR...\n",
      "Processing CPRX...\n",
      "Processing ITUB...\n",
      "Processing WPRT...\n",
      "Processing CATO...\n",
      "Processing CME...\n",
      "Processing BIOA...\n",
      "Insufficient data for BIOA (83 rows)\n",
      "Skipped BIOA - insufficient data\n",
      "Processing KBH...\n",
      "Processing THG...\n",
      "Processing HYT...\n",
      "Processing STAG...\n",
      "Processing HSIC...\n",
      "Processing DHI...\n",
      "Processing BKE...\n",
      "Processing SWZ...\n",
      "Processing SUPN...\n",
      "Processing AVAV...\n",
      "Processing BGS...\n",
      "Processing LGCY...\n",
      "Insufficient data for LGCY (83 rows)\n",
      "Skipped LGCY - insufficient data\n",
      "Processing PZZA...\n",
      "Processing NDP...\n",
      "Processing IIF...\n",
      "Processing GTY...\n",
      "Processing ABM...\n",
      "Processing MATW...\n",
      "Processing FOXF...\n",
      "Processing FHN...\n",
      "Processing GNK...\n",
      "Processing KRC...\n",
      "Processing IFN...\n",
      "Processing CX...\n",
      "Processing SYBT...\n",
      "Processing SSP...\n",
      "Processing CTRN...\n",
      "Processing NWE...\n",
      "Processing NMM...\n",
      "Processing SPR...\n",
      "Processing OTTR...\n",
      "Processing JOE...\n",
      "Processing Z...\n",
      "Processing LND...\n",
      "Processing PNFP...\n",
      "Processing DAR...\n",
      "Processing PCN...\n",
      "Processing SQM...\n",
      "Processing CVX...\n",
      "Processing PRI...\n",
      "Processing PAI...\n",
      "Processing HELE...\n",
      "Processing BFZ...\n",
      "Processing PFMT...\n",
      "Processing CAF...\n",
      "Processing KFY...\n"
     ]
    },
    {
     "name": "stderr",
     "output_type": "stream",
     "text": [
      "429 Client Error: Too Many Requests for url: https://query2.finance.yahoo.com/v10/finance/quoteSummary/KFY?modules=financialData%2CquoteType%2CdefaultKeyStatistics%2CassetProfile%2CsummaryDetail&corsDomain=finance.yahoo.com&formatted=false&symbol=KFY&crumb=Edge%3A+Too+Many+Requests\n"
     ]
    },
    {
     "name": "stdout",
     "output_type": "stream",
     "text": [
      "Processing JHX...\n"
     ]
    },
    {
     "name": "stderr",
     "output_type": "stream",
     "text": [
      "$JHX: possibly delisted; no price data found  (1d 2014-01-28 00:00:00 -> 2025-01-28)\n"
     ]
    },
    {
     "name": "stdout",
     "output_type": "stream",
     "text": [
      "No data found for JHX (10y)\n",
      "Skipped JHX - insufficient data\n",
      "Processing KFS...\n"
     ]
    },
    {
     "name": "stderr",
     "output_type": "stream",
     "text": [
      "$KFS: possibly delisted; no price data found  (1d 2014-01-28 00:00:00 -> 2025-01-28)\n"
     ]
    },
    {
     "name": "stdout",
     "output_type": "stream",
     "text": [
      "No data found for KFS (10y)\n",
      "Skipped KFS - insufficient data\n",
      "Processing LOPE...\n"
     ]
    },
    {
     "name": "stderr",
     "output_type": "stream",
     "text": [
      "$LOPE: possibly delisted; no price data found  (1d 2014-01-28 00:00:00 -> 2025-01-28)\n"
     ]
    },
    {
     "name": "stdout",
     "output_type": "stream",
     "text": [
      "No data found for LOPE (10y)\n",
      "Skipped LOPE - insufficient data\n",
      "Processing PG...\n"
     ]
    },
    {
     "name": "stderr",
     "output_type": "stream",
     "text": [
      "$PG: possibly delisted; no price data found  (1d 2014-01-28 00:00:00 -> 2025-01-28)\n"
     ]
    },
    {
     "name": "stdout",
     "output_type": "stream",
     "text": [
      "No data found for PG (10y)\n",
      "Skipped PG - insufficient data\n",
      "Processing HIG...\n"
     ]
    },
    {
     "name": "stderr",
     "output_type": "stream",
     "text": [
      "$HIG: possibly delisted; no price data found  (1d 2014-01-28 00:00:00 -> 2025-01-28)\n"
     ]
    },
    {
     "name": "stdout",
     "output_type": "stream",
     "text": [
      "No data found for HIG (10y)\n",
      "Skipped HIG - insufficient data\n",
      "Processing BEP...\n"
     ]
    },
    {
     "name": "stderr",
     "output_type": "stream",
     "text": [
      "$BEP: possibly delisted; no price data found  (1d 2014-01-28 00:00:00 -> 2025-01-28)\n"
     ]
    },
    {
     "name": "stdout",
     "output_type": "stream",
     "text": [
      "No data found for BEP (10y)\n",
      "Skipped BEP - insufficient data\n",
      "Processing COR...\n"
     ]
    },
    {
     "name": "stderr",
     "output_type": "stream",
     "text": [
      "$COR: possibly delisted; no price data found  (1d 2014-01-28 00:00:00 -> 2025-01-28)\n"
     ]
    },
    {
     "name": "stdout",
     "output_type": "stream",
     "text": [
      "No data found for COR (10y)\n",
      "Skipped COR - insufficient data\n",
      "Processing APA...\n"
     ]
    },
    {
     "name": "stderr",
     "output_type": "stream",
     "text": [
      "$APA: possibly delisted; no price data found  (1d 2014-01-28 00:00:00 -> 2025-01-28)\n"
     ]
    },
    {
     "name": "stdout",
     "output_type": "stream",
     "text": [
      "No data found for APA (10y)\n",
      "Skipped APA - insufficient data\n",
      "Processing SUI...\n"
     ]
    },
    {
     "name": "stderr",
     "output_type": "stream",
     "text": [
      "$SUI: possibly delisted; no price data found  (1d 2014-01-28 00:00:00 -> 2025-01-28)\n"
     ]
    },
    {
     "name": "stdout",
     "output_type": "stream",
     "text": [
      "No data found for SUI (10y)\n",
      "Skipped SUI - insufficient data\n",
      "Processing NYT...\n"
     ]
    },
    {
     "name": "stderr",
     "output_type": "stream",
     "text": [
      "$NYT: possibly delisted; no price data found  (1d 2014-01-28 00:00:00 -> 2025-01-28)\n"
     ]
    },
    {
     "name": "stdout",
     "output_type": "stream",
     "text": [
      "No data found for NYT (10y)\n",
      "Skipped NYT - insufficient data\n",
      "Processing LPL...\n"
     ]
    },
    {
     "name": "stderr",
     "output_type": "stream",
     "text": [
      "$LPL: possibly delisted; no price data found  (1d 2014-01-28 00:00:00 -> 2025-01-28)\n"
     ]
    },
    {
     "name": "stdout",
     "output_type": "stream",
     "text": [
      "No data found for LPL (10y)\n",
      "Skipped LPL - insufficient data\n",
      "Processing CLDX...\n"
     ]
    },
    {
     "name": "stderr",
     "output_type": "stream",
     "text": [
      "$CLDX: possibly delisted; no price data found  (1d 2014-01-28 00:00:00 -> 2025-01-28)\n"
     ]
    },
    {
     "name": "stdout",
     "output_type": "stream",
     "text": [
      "No data found for CLDX (10y)\n",
      "Skipped CLDX - insufficient data\n",
      "Processing ORRF...\n"
     ]
    },
    {
     "name": "stderr",
     "output_type": "stream",
     "text": [
      "$ORRF: possibly delisted; no price data found  (1d 2014-01-28 00:00:00 -> 2025-01-28)\n"
     ]
    },
    {
     "name": "stdout",
     "output_type": "stream",
     "text": [
      "No data found for ORRF (10y)\n",
      "Skipped ORRF - insufficient data\n",
      "Processing CHRW...\n"
     ]
    },
    {
     "name": "stderr",
     "output_type": "stream",
     "text": [
      "$CHRW: possibly delisted; no price data found  (1d 2014-01-28 00:00:00 -> 2025-01-28)\n"
     ]
    },
    {
     "name": "stdout",
     "output_type": "stream",
     "text": [
      "No data found for CHRW (10y)\n",
      "Skipped CHRW - insufficient data\n",
      "Processing HYB...\n"
     ]
    },
    {
     "name": "stderr",
     "output_type": "stream",
     "text": [
      "Failed to get ticker 'HYB' reason: Expecting value: line 1 column 1 (char 0)\n",
      "$HYB: possibly delisted; no timezone found\n"
     ]
    },
    {
     "name": "stdout",
     "output_type": "stream",
     "text": [
      "No data found for HYB (10y)\n",
      "Skipped HYB - insufficient data\n",
      "Processing ALV...\n"
     ]
    },
    {
     "name": "stderr",
     "output_type": "stream",
     "text": [
      "$ALV: possibly delisted; no price data found  (1d 2014-01-28 00:00:00 -> 2025-01-28)\n"
     ]
    },
    {
     "name": "stdout",
     "output_type": "stream",
     "text": [
      "No data found for ALV (10y)\n",
      "Skipped ALV - insufficient data\n",
      "Processing BGB...\n"
     ]
    },
    {
     "name": "stderr",
     "output_type": "stream",
     "text": [
      "$BGB: possibly delisted; no price data found  (1d 2014-01-28 00:00:00 -> 2025-01-28)\n"
     ]
    },
    {
     "name": "stdout",
     "output_type": "stream",
     "text": [
      "No data found for BGB (10y)\n",
      "Skipped BGB - insufficient data\n",
      "Processing BSAC...\n"
     ]
    },
    {
     "name": "stderr",
     "output_type": "stream",
     "text": [
      "$BSAC: possibly delisted; no price data found  (1d 2014-01-28 00:00:00 -> 2025-01-28)\n"
     ]
    },
    {
     "name": "stdout",
     "output_type": "stream",
     "text": [
      "No data found for BSAC (10y)\n",
      "Skipped BSAC - insufficient data\n",
      "Processing PVH...\n"
     ]
    },
    {
     "name": "stderr",
     "output_type": "stream",
     "text": [
      "$PVH: possibly delisted; no price data found  (1d 2014-01-28 00:00:00 -> 2025-01-28)\n"
     ]
    },
    {
     "name": "stdout",
     "output_type": "stream",
     "text": [
      "No data found for PVH (10y)\n",
      "Skipped PVH - insufficient data\n",
      "Processing GDV...\n"
     ]
    },
    {
     "name": "stderr",
     "output_type": "stream",
     "text": [
      "$GDV: possibly delisted; no price data found  (1d 2014-01-28 00:00:00 -> 2025-01-28)\n"
     ]
    },
    {
     "name": "stdout",
     "output_type": "stream",
     "text": [
      "No data found for GDV (10y)\n",
      "Skipped GDV - insufficient data\n",
      "Processing JCE...\n"
     ]
    },
    {
     "name": "stderr",
     "output_type": "stream",
     "text": [
      "$JCE: possibly delisted; no price data found  (1d 2014-01-28 00:00:00 -> 2025-01-28)\n"
     ]
    },
    {
     "name": "stdout",
     "output_type": "stream",
     "text": [
      "No data found for JCE (10y)\n",
      "Skipped JCE - insufficient data\n",
      "Processing FT...\n"
     ]
    },
    {
     "name": "stderr",
     "output_type": "stream",
     "text": [
      "$FT: possibly delisted; no price data found  (1d 2014-01-28 00:00:00 -> 2025-01-28)\n"
     ]
    },
    {
     "name": "stdout",
     "output_type": "stream",
     "text": [
      "No data found for FT (10y)\n",
      "Skipped FT - insufficient data\n",
      "Processing BKT...\n"
     ]
    },
    {
     "name": "stderr",
     "output_type": "stream",
     "text": [
      "$BKT: possibly delisted; no price data found  (1d 2014-01-28 00:00:00 -> 2025-01-28)\n"
     ]
    },
    {
     "name": "stdout",
     "output_type": "stream",
     "text": [
      "No data found for BKT (10y)\n",
      "Skipped BKT - insufficient data\n",
      "Processing PWOD...\n"
     ]
    },
    {
     "name": "stderr",
     "output_type": "stream",
     "text": [
      "$PWOD: possibly delisted; no price data found  (1d 2014-01-28 00:00:00 -> 2025-01-28)\n"
     ]
    },
    {
     "name": "stdout",
     "output_type": "stream",
     "text": [
      "No data found for PWOD (10y)\n",
      "Skipped PWOD - insufficient data\n",
      "Processing THC...\n"
     ]
    },
    {
     "name": "stderr",
     "output_type": "stream",
     "text": [
      "$THC: possibly delisted; no price data found  (1d 2014-01-28 00:00:00 -> 2025-01-28)\n"
     ]
    },
    {
     "name": "stdout",
     "output_type": "stream",
     "text": [
      "No data found for THC (10y)\n",
      "Skipped THC - insufficient data\n",
      "Processing KWR...\n"
     ]
    },
    {
     "name": "stderr",
     "output_type": "stream",
     "text": [
      "$KWR: possibly delisted; no price data found  (1d 2014-01-28 00:00:00 -> 2025-01-28)\n"
     ]
    },
    {
     "name": "stdout",
     "output_type": "stream",
     "text": [
      "No data found for KWR (10y)\n",
      "Skipped KWR - insufficient data\n",
      "Processing FSTR...\n"
     ]
    },
    {
     "name": "stderr",
     "output_type": "stream",
     "text": [
      "$FSTR: possibly delisted; no price data found  (1d 2014-01-28 00:00:00 -> 2025-01-28)\n"
     ]
    },
    {
     "name": "stdout",
     "output_type": "stream",
     "text": [
      "No data found for FSTR (10y)\n",
      "Skipped FSTR - insufficient data\n",
      "Processing FRA...\n"
     ]
    },
    {
     "name": "stderr",
     "output_type": "stream",
     "text": [
      "$FRA: possibly delisted; no price data found  (1d 2014-01-28 00:00:00 -> 2025-01-28)\n"
     ]
    },
    {
     "name": "stdout",
     "output_type": "stream",
     "text": [
      "No data found for FRA (10y)\n",
      "Skipped FRA - insufficient data\n",
      "Processing CF...\n"
     ]
    },
    {
     "name": "stderr",
     "output_type": "stream",
     "text": [
      "$CF: possibly delisted; no price data found  (1d 2014-01-28 00:00:00 -> 2025-01-28)\n"
     ]
    },
    {
     "name": "stdout",
     "output_type": "stream",
     "text": [
      "No data found for CF (10y)\n",
      "Skipped CF - insufficient data\n",
      "Processing BIT...\n"
     ]
    },
    {
     "name": "stderr",
     "output_type": "stream",
     "text": [
      "$BIT: possibly delisted; no price data found  (1d 2014-01-28 00:00:00 -> 2025-01-28)\n"
     ]
    },
    {
     "name": "stdout",
     "output_type": "stream",
     "text": [
      "No data found for BIT (10y)\n",
      "Skipped BIT - insufficient data\n",
      "Processing PAM...\n"
     ]
    },
    {
     "name": "stderr",
     "output_type": "stream",
     "text": [
      "$PAM: possibly delisted; no price data found  (1d 2014-01-28 00:00:00 -> 2025-01-28)\n"
     ]
    },
    {
     "name": "stdout",
     "output_type": "stream",
     "text": [
      "No data found for PAM (10y)\n",
      "Skipped PAM - insufficient data\n",
      "Processing TEL...\n"
     ]
    },
    {
     "name": "stderr",
     "output_type": "stream",
     "text": [
      "$TEL: possibly delisted; no price data found  (1d 2014-01-28 00:00:00 -> 2025-01-28)\n"
     ]
    },
    {
     "name": "stdout",
     "output_type": "stream",
     "text": [
      "No data found for TEL (10y)\n",
      "Skipped TEL - insufficient data\n",
      "Processing AA...\n"
     ]
    },
    {
     "name": "stderr",
     "output_type": "stream",
     "text": [
      "$AA: possibly delisted; no price data found  (1d 2014-01-28 00:00:00 -> 2025-01-28)\n"
     ]
    },
    {
     "name": "stdout",
     "output_type": "stream",
     "text": [
      "No data found for AA (10y)\n",
      "Skipped AA - insufficient data\n",
      "Processing CSTM...\n"
     ]
    },
    {
     "name": "stderr",
     "output_type": "stream",
     "text": [
      "$CSTM: possibly delisted; no price data found  (1d 2014-01-28 00:00:00 -> 2025-01-28)\n"
     ]
    },
    {
     "name": "stdout",
     "output_type": "stream",
     "text": [
      "No data found for CSTM (10y)\n",
      "Skipped CSTM - insufficient data\n",
      "Processing DAL...\n"
     ]
    },
    {
     "name": "stderr",
     "output_type": "stream",
     "text": [
      "$DAL: possibly delisted; no price data found  (1d 2014-01-28 00:00:00 -> 2025-01-28)\n"
     ]
    },
    {
     "name": "stdout",
     "output_type": "stream",
     "text": [
      "No data found for DAL (10y)\n",
      "Skipped DAL - insufficient data\n",
      "Processing THRM...\n"
     ]
    },
    {
     "name": "stderr",
     "output_type": "stream",
     "text": [
      "$THRM: possibly delisted; no price data found  (1d 2014-01-28 00:00:00 -> 2025-01-28)\n"
     ]
    },
    {
     "name": "stdout",
     "output_type": "stream",
     "text": [
      "No data found for THRM (10y)\n",
      "Skipped THRM - insufficient data\n",
      "Processing GT...\n"
     ]
    },
    {
     "name": "stderr",
     "output_type": "stream",
     "text": [
      "$GT: possibly delisted; no price data found  (1d 2014-01-28 00:00:00 -> 2025-01-28)\n"
     ]
    },
    {
     "name": "stdout",
     "output_type": "stream",
     "text": [
      "No data found for GT (10y)\n",
      "Skipped GT - insufficient data\n",
      "Processing TAC...\n"
     ]
    },
    {
     "name": "stderr",
     "output_type": "stream",
     "text": [
      "$TAC: possibly delisted; no price data found  (1d 2014-01-28 00:00:00 -> 2025-01-28)\n"
     ]
    },
    {
     "name": "stdout",
     "output_type": "stream",
     "text": [
      "No data found for TAC (10y)\n",
      "Skipped TAC - insufficient data\n",
      "Processing QNST...\n"
     ]
    },
    {
     "name": "stderr",
     "output_type": "stream",
     "text": [
      "$QNST: possibly delisted; no price data found  (1d 2014-01-28 00:00:00 -> 2025-01-28)\n"
     ]
    },
    {
     "name": "stdout",
     "output_type": "stream",
     "text": [
      "No data found for QNST (10y)\n",
      "Skipped QNST - insufficient data\n",
      "Processing WWD...\n"
     ]
    },
    {
     "name": "stderr",
     "output_type": "stream",
     "text": [
      "$WWD: possibly delisted; no price data found  (1d 2014-01-28 00:00:00 -> 2025-01-28)\n"
     ]
    },
    {
     "name": "stdout",
     "output_type": "stream",
     "text": [
      "No data found for WWD (10y)\n",
      "Skipped WWD - insufficient data\n",
      "Processing GFF...\n"
     ]
    },
    {
     "name": "stderr",
     "output_type": "stream",
     "text": [
      "$GFF: possibly delisted; no price data found  (1d 2014-01-28 00:00:00 -> 2025-01-28)\n"
     ]
    },
    {
     "name": "stdout",
     "output_type": "stream",
     "text": [
      "No data found for GFF (10y)\n",
      "Skipped GFF - insufficient data\n",
      "Processing AIN...\n"
     ]
    },
    {
     "name": "stderr",
     "output_type": "stream",
     "text": [
      "$AIN: possibly delisted; no price data found  (1d 2014-01-28 00:00:00 -> 2025-01-28)\n"
     ]
    },
    {
     "name": "stdout",
     "output_type": "stream",
     "text": [
      "No data found for AIN (10y)\n",
      "Skipped AIN - insufficient data\n",
      "Processing APEI...\n"
     ]
    },
    {
     "name": "stderr",
     "output_type": "stream",
     "text": [
      "$APEI: possibly delisted; no price data found  (1d 2014-01-28 00:00:00 -> 2025-01-28)\n"
     ]
    },
    {
     "name": "stdout",
     "output_type": "stream",
     "text": [
      "No data found for APEI (10y)\n",
      "Skipped APEI - insufficient data\n",
      "Processing PFBC...\n"
     ]
    },
    {
     "name": "stderr",
     "output_type": "stream",
     "text": [
      "$PFBC: possibly delisted; no price data found  (1d 2014-01-28 00:00:00 -> 2025-01-28)\n"
     ]
    },
    {
     "name": "stdout",
     "output_type": "stream",
     "text": [
      "No data found for PFBC (10y)\n",
      "Skipped PFBC - insufficient data\n",
      "Processing FDP...\n"
     ]
    },
    {
     "name": "stderr",
     "output_type": "stream",
     "text": [
      "$FDP: possibly delisted; no price data found  (1d 2014-01-28 00:00:00 -> 2025-01-28)\n"
     ]
    },
    {
     "name": "stdout",
     "output_type": "stream",
     "text": [
      "No data found for FDP (10y)\n",
      "Skipped FDP - insufficient data\n",
      "Processing SN...\n"
     ]
    },
    {
     "name": "stderr",
     "output_type": "stream",
     "text": [
      "$SN: possibly delisted; no price data found  (1d 2014-01-28 00:00:00 -> 2025-01-28)\n"
     ]
    },
    {
     "name": "stdout",
     "output_type": "stream",
     "text": [
      "No data found for SN (10y)\n",
      "Skipped SN - insufficient data\n",
      "Processing CMI...\n"
     ]
    },
    {
     "name": "stderr",
     "output_type": "stream",
     "text": [
      "$CMI: possibly delisted; no price data found  (1d 2014-01-28 00:00:00 -> 2025-01-28)\n"
     ]
    },
    {
     "name": "stdout",
     "output_type": "stream",
     "text": [
      "No data found for CMI (10y)\n",
      "Skipped CMI - insufficient data\n",
      "Processing AMBC...\n"
     ]
    },
    {
     "name": "stderr",
     "output_type": "stream",
     "text": [
      "$AMBC: possibly delisted; no price data found  (1d 2014-01-28 00:00:00 -> 2025-01-28)\n"
     ]
    },
    {
     "name": "stdout",
     "output_type": "stream",
     "text": [
      "No data found for AMBC (10y)\n",
      "Skipped AMBC - insufficient data\n",
      "Processing CBT...\n"
     ]
    },
    {
     "name": "stderr",
     "output_type": "stream",
     "text": [
      "$CBT: possibly delisted; no price data found  (1d 2014-01-28 00:00:00 -> 2025-01-28)\n"
     ]
    },
    {
     "name": "stdout",
     "output_type": "stream",
     "text": [
      "No data found for CBT (10y)\n",
      "Skipped CBT - insufficient data\n",
      "Processing LYTS...\n"
     ]
    },
    {
     "name": "stderr",
     "output_type": "stream",
     "text": [
      "$LYTS: possibly delisted; no price data found  (1d 2014-01-28 00:00:00 -> 2025-01-28)\n"
     ]
    },
    {
     "name": "stdout",
     "output_type": "stream",
     "text": [
      "No data found for LYTS (10y)\n",
      "Skipped LYTS - insufficient data\n",
      "Processing FNF...\n"
     ]
    },
    {
     "name": "stderr",
     "output_type": "stream",
     "text": [
      "$FNF: possibly delisted; no price data found  (1d 2014-01-28 00:00:00 -> 2025-01-28)\n"
     ]
    },
    {
     "name": "stdout",
     "output_type": "stream",
     "text": [
      "No data found for FNF (10y)\n",
      "Skipped FNF - insufficient data\n",
      "Processing ACT...\n"
     ]
    },
    {
     "name": "stderr",
     "output_type": "stream",
     "text": [
      "$ACT: possibly delisted; no price data found  (1d 2014-01-28 00:00:00 -> 2025-01-28)\n"
     ]
    },
    {
     "name": "stdout",
     "output_type": "stream",
     "text": [
      "No data found for ACT (10y)\n",
      "Skipped ACT - insufficient data\n",
      "Processing LAZ...\n"
     ]
    },
    {
     "name": "stderr",
     "output_type": "stream",
     "text": [
      "$LAZ: possibly delisted; no price data found  (1d 2014-01-28 00:00:00 -> 2025-01-28)\n"
     ]
    },
    {
     "name": "stdout",
     "output_type": "stream",
     "text": [
      "No data found for LAZ (10y)\n",
      "Skipped LAZ - insufficient data\n",
      "Processing PPG...\n"
     ]
    },
    {
     "name": "stderr",
     "output_type": "stream",
     "text": [
      "$PPG: possibly delisted; no price data found  (1d 2014-01-28 00:00:00 -> 2025-01-28)\n"
     ]
    },
    {
     "name": "stdout",
     "output_type": "stream",
     "text": [
      "No data found for PPG (10y)\n",
      "Skipped PPG - insufficient data\n",
      "Processing AZN...\n"
     ]
    },
    {
     "name": "stderr",
     "output_type": "stream",
     "text": [
      "$AZN: possibly delisted; no price data found  (1d 2014-01-28 00:00:00 -> 2025-01-28)\n"
     ]
    },
    {
     "name": "stdout",
     "output_type": "stream",
     "text": [
      "No data found for AZN (10y)\n",
      "Skipped AZN - insufficient data\n",
      "Processing BEAM...\n"
     ]
    },
    {
     "name": "stderr",
     "output_type": "stream",
     "text": [
      "$BEAM: possibly delisted; no price data found  (1d 2014-01-28 00:00:00 -> 2025-01-28)\n"
     ]
    },
    {
     "name": "stdout",
     "output_type": "stream",
     "text": [
      "No data found for BEAM (10y)\n",
      "Skipped BEAM - insufficient data\n",
      "Processing PBYI...\n"
     ]
    },
    {
     "name": "stderr",
     "output_type": "stream",
     "text": [
      "$PBYI: possibly delisted; no price data found  (1d 2014-01-28 00:00:00 -> 2025-01-28)\n"
     ]
    },
    {
     "name": "stdout",
     "output_type": "stream",
     "text": [
      "No data found for PBYI (10y)\n",
      "Skipped PBYI - insufficient data\n",
      "Processing IVR...\n"
     ]
    },
    {
     "name": "stderr",
     "output_type": "stream",
     "text": [
      "$IVR: possibly delisted; no price data found  (1d 2014-01-28 00:00:00 -> 2025-01-28)\n"
     ]
    },
    {
     "name": "stdout",
     "output_type": "stream",
     "text": [
      "No data found for IVR (10y)\n",
      "Skipped IVR - insufficient data\n",
      "Processing OMI...\n"
     ]
    },
    {
     "name": "stderr",
     "output_type": "stream",
     "text": [
      "$OMI: possibly delisted; no price data found  (1d 2014-01-28 00:00:00 -> 2025-01-28)\n"
     ]
    },
    {
     "name": "stdout",
     "output_type": "stream",
     "text": [
      "No data found for OMI (10y)\n",
      "Skipped OMI - insufficient data\n",
      "Processing BOH...\n"
     ]
    },
    {
     "name": "stderr",
     "output_type": "stream",
     "text": [
      "$BOH: possibly delisted; no price data found  (1d 2014-01-28 00:00:00 -> 2025-01-28)\n"
     ]
    },
    {
     "name": "stdout",
     "output_type": "stream",
     "text": [
      "No data found for BOH (10y)\n",
      "Skipped BOH - insufficient data\n",
      "Processing NEU...\n"
     ]
    },
    {
     "name": "stderr",
     "output_type": "stream",
     "text": [
      "$NEU: possibly delisted; no price data found  (1d 2014-01-28 00:00:00 -> 2025-01-28)\n"
     ]
    },
    {
     "name": "stdout",
     "output_type": "stream",
     "text": [
      "No data found for NEU (10y)\n",
      "Skipped NEU - insufficient data\n",
      "Processing ORN...\n"
     ]
    },
    {
     "name": "stderr",
     "output_type": "stream",
     "text": [
      "$ORN: possibly delisted; no price data found  (1d 2014-01-28 00:00:00 -> 2025-01-28)\n"
     ]
    },
    {
     "name": "stdout",
     "output_type": "stream",
     "text": [
      "No data found for ORN (10y)\n",
      "Skipped ORN - insufficient data\n",
      "Processing FSFG...\n"
     ]
    },
    {
     "name": "stderr",
     "output_type": "stream",
     "text": [
      "$FSFG: possibly delisted; no price data found  (1d 2014-01-28 00:00:00 -> 2025-01-28)\n"
     ]
    },
    {
     "name": "stdout",
     "output_type": "stream",
     "text": [
      "No data found for FSFG (10y)\n",
      "Skipped FSFG - insufficient data\n",
      "Processing ALK...\n"
     ]
    },
    {
     "name": "stderr",
     "output_type": "stream",
     "text": [
      "$ALK: possibly delisted; no price data found  (1d 2014-01-28 00:00:00 -> 2025-01-28)\n"
     ]
    },
    {
     "name": "stdout",
     "output_type": "stream",
     "text": [
      "No data found for ALK (10y)\n",
      "Skipped ALK - insufficient data\n",
      "Processing CUBI...\n"
     ]
    },
    {
     "name": "stderr",
     "output_type": "stream",
     "text": [
      "$CUBI: possibly delisted; no price data found  (1d 2014-01-28 00:00:00 -> 2025-01-28)\n"
     ]
    },
    {
     "name": "stdout",
     "output_type": "stream",
     "text": [
      "No data found for CUBI (10y)\n",
      "Skipped CUBI - insufficient data\n",
      "Processing ANIP...\n"
     ]
    },
    {
     "name": "stderr",
     "output_type": "stream",
     "text": [
      "$ANIP: possibly delisted; no price data found  (1d 2014-01-28 00:00:00 -> 2025-01-28)\n"
     ]
    },
    {
     "name": "stdout",
     "output_type": "stream",
     "text": [
      "No data found for ANIP (10y)\n",
      "Skipped ANIP - insufficient data\n",
      "Processing DD...\n"
     ]
    },
    {
     "name": "stderr",
     "output_type": "stream",
     "text": [
      "$DD: possibly delisted; no price data found  (1d 2014-01-28 00:00:00 -> 2025-01-28)\n"
     ]
    },
    {
     "name": "stdout",
     "output_type": "stream",
     "text": [
      "No data found for DD (10y)\n",
      "Skipped DD - insufficient data\n",
      "Processing GNT...\n"
     ]
    },
    {
     "name": "stderr",
     "output_type": "stream",
     "text": [
      "$GNT: possibly delisted; no price data found  (1d 2014-01-28 00:00:00 -> 2025-01-28)\n"
     ]
    },
    {
     "name": "stdout",
     "output_type": "stream",
     "text": [
      "No data found for GNT (10y)\n",
      "Skipped GNT - insufficient data\n",
      "Processing APO...\n"
     ]
    },
    {
     "name": "stderr",
     "output_type": "stream",
     "text": [
      "$APO: possibly delisted; no price data found  (1d 2014-01-28 00:00:00 -> 2025-01-28)\n"
     ]
    },
    {
     "name": "stdout",
     "output_type": "stream",
     "text": [
      "No data found for APO (10y)\n",
      "Skipped APO - insufficient data\n",
      "Processing FR...\n"
     ]
    },
    {
     "name": "stderr",
     "output_type": "stream",
     "text": [
      "$FR: possibly delisted; no price data found  (1d 2014-01-28 00:00:00 -> 2025-01-28)\n"
     ]
    },
    {
     "name": "stdout",
     "output_type": "stream",
     "text": [
      "No data found for FR (10y)\n",
      "Skipped FR - insufficient data\n",
      "Processing OGE...\n"
     ]
    },
    {
     "name": "stderr",
     "output_type": "stream",
     "text": [
      "$OGE: possibly delisted; no price data found  (1d 2014-01-28 00:00:00 -> 2025-01-28)\n"
     ]
    },
    {
     "name": "stdout",
     "output_type": "stream",
     "text": [
      "No data found for OGE (10y)\n",
      "Skipped OGE - insufficient data\n",
      "Processing FMN...\n"
     ]
    },
    {
     "name": "stderr",
     "output_type": "stream",
     "text": [
      "$FMN: possibly delisted; no price data found  (1d 2014-01-28 00:00:00 -> 2025-01-28)\n"
     ]
    },
    {
     "name": "stdout",
     "output_type": "stream",
     "text": [
      "No data found for FMN (10y)\n",
      "Skipped FMN - insufficient data\n",
      "Processing NCZ...\n"
     ]
    },
    {
     "name": "stderr",
     "output_type": "stream",
     "text": [
      "$NCZ: possibly delisted; no price data found  (1d 2014-01-28 00:00:00 -> 2025-01-28)\n"
     ]
    },
    {
     "name": "stdout",
     "output_type": "stream",
     "text": [
      "No data found for NCZ (10y)\n",
      "Skipped NCZ - insufficient data\n",
      "Processing OXLC...\n"
     ]
    },
    {
     "name": "stderr",
     "output_type": "stream",
     "text": [
      "$OXLC: possibly delisted; no price data found  (1d 2014-01-28 00:00:00 -> 2025-01-28)\n"
     ]
    },
    {
     "name": "stdout",
     "output_type": "stream",
     "text": [
      "No data found for OXLC (10y)\n",
      "Skipped OXLC - insufficient data\n",
      "Processing SR...\n"
     ]
    },
    {
     "name": "stderr",
     "output_type": "stream",
     "text": [
      "$SR: possibly delisted; no price data found  (1d 2014-01-28 00:00:00 -> 2025-01-28)\n"
     ]
    },
    {
     "name": "stdout",
     "output_type": "stream",
     "text": [
      "No data found for SR (10y)\n",
      "Skipped SR - insufficient data\n",
      "Processing CVGI...\n"
     ]
    },
    {
     "name": "stderr",
     "output_type": "stream",
     "text": [
      "$CVGI: possibly delisted; no price data found  (1d 2014-01-28 00:00:00 -> 2025-01-28)\n"
     ]
    },
    {
     "name": "stdout",
     "output_type": "stream",
     "text": [
      "No data found for CVGI (10y)\n",
      "Skipped CVGI - insufficient data\n",
      "Processing AGYS...\n"
     ]
    },
    {
     "name": "stderr",
     "output_type": "stream",
     "text": [
      "$AGYS: possibly delisted; no price data found  (1d 2014-01-28 00:00:00 -> 2025-01-28)\n"
     ]
    },
    {
     "name": "stdout",
     "output_type": "stream",
     "text": [
      "No data found for AGYS (10y)\n",
      "Skipped AGYS - insufficient data\n",
      "Processing SWX...\n"
     ]
    },
    {
     "name": "stderr",
     "output_type": "stream",
     "text": [
      "$SWX: possibly delisted; no price data found  (1d 2014-01-28 00:00:00 -> 2025-01-28)\n"
     ]
    },
    {
     "name": "stdout",
     "output_type": "stream",
     "text": [
      "No data found for SWX (10y)\n",
      "Skipped SWX - insufficient data\n",
      "Processing MLNK...\n"
     ]
    },
    {
     "name": "stderr",
     "output_type": "stream",
     "text": [
      "$MLNK: possibly delisted; no price data found  (1d 2014-01-28 00:00:00 -> 2025-01-28)\n"
     ]
    },
    {
     "name": "stdout",
     "output_type": "stream",
     "text": [
      "No data found for MLNK (10y)\n",
      "Skipped MLNK - insufficient data\n",
      "Processing AVB...\n"
     ]
    },
    {
     "name": "stderr",
     "output_type": "stream",
     "text": [
      "$AVB: possibly delisted; no price data found  (1d 2014-01-28 00:00:00 -> 2025-01-28)\n"
     ]
    },
    {
     "name": "stdout",
     "output_type": "stream",
     "text": [
      "No data found for AVB (10y)\n",
      "Skipped AVB - insufficient data\n",
      "Processing TATT...\n"
     ]
    },
    {
     "name": "stderr",
     "output_type": "stream",
     "text": [
      "$TATT: possibly delisted; no price data found  (1d 2014-01-28 00:00:00 -> 2025-01-28)\n"
     ]
    },
    {
     "name": "stdout",
     "output_type": "stream",
     "text": [
      "No data found for TATT (10y)\n",
      "Skipped TATT - insufficient data\n",
      "Processing STX...\n"
     ]
    },
    {
     "name": "stderr",
     "output_type": "stream",
     "text": [
      "$STX: possibly delisted; no price data found  (1d 2014-01-28 00:00:00 -> 2025-01-28)\n"
     ]
    },
    {
     "name": "stdout",
     "output_type": "stream",
     "text": [
      "No data found for STX (10y)\n",
      "Skipped STX - insufficient data\n",
      "Processing AM...\n"
     ]
    },
    {
     "name": "stderr",
     "output_type": "stream",
     "text": [
      "$AM: possibly delisted; no price data found  (1d 2014-01-28 00:00:00 -> 2025-01-28)\n"
     ]
    },
    {
     "name": "stdout",
     "output_type": "stream",
     "text": [
      "No data found for AM (10y)\n",
      "Skipped AM - insufficient data\n",
      "Processing BCO...\n"
     ]
    },
    {
     "name": "stderr",
     "output_type": "stream",
     "text": [
      "$BCO: possibly delisted; no price data found  (1d 2014-01-28 00:00:00 -> 2025-01-28)\n"
     ]
    },
    {
     "name": "stdout",
     "output_type": "stream",
     "text": [
      "No data found for BCO (10y)\n",
      "Skipped BCO - insufficient data\n",
      "Processing PPL...\n"
     ]
    },
    {
     "name": "stderr",
     "output_type": "stream",
     "text": [
      "$PPL: possibly delisted; no price data found  (1d 2014-01-28 00:00:00 -> 2025-01-28)\n"
     ]
    },
    {
     "name": "stdout",
     "output_type": "stream",
     "text": [
      "No data found for PPL (10y)\n",
      "Skipped PPL - insufficient data\n",
      "Processing BTZ...\n"
     ]
    },
    {
     "name": "stderr",
     "output_type": "stream",
     "text": [
      "$BTZ: possibly delisted; no price data found  (1d 2014-01-28 00:00:00 -> 2025-01-28)\n"
     ]
    },
    {
     "name": "stdout",
     "output_type": "stream",
     "text": [
      "No data found for BTZ (10y)\n",
      "Skipped BTZ - insufficient data\n",
      "Processing NKE...\n"
     ]
    },
    {
     "name": "stderr",
     "output_type": "stream",
     "text": [
      "$NKE: possibly delisted; no price data found  (1d 2014-01-28 00:00:00 -> 2025-01-28)\n"
     ]
    },
    {
     "name": "stdout",
     "output_type": "stream",
     "text": [
      "No data found for NKE (10y)\n",
      "Skipped NKE - insufficient data\n",
      "Processing PXLW...\n"
     ]
    },
    {
     "name": "stderr",
     "output_type": "stream",
     "text": [
      "$PXLW: possibly delisted; no price data found  (1d 2014-01-28 00:00:00 -> 2025-01-28)\n"
     ]
    },
    {
     "name": "stdout",
     "output_type": "stream",
     "text": [
      "No data found for PXLW (10y)\n",
      "Skipped PXLW - insufficient data\n",
      "Processing PHD...\n"
     ]
    },
    {
     "name": "stderr",
     "output_type": "stream",
     "text": [
      "$PHD: possibly delisted; no price data found  (1d 2014-01-28 00:00:00 -> 2025-01-28)\n"
     ]
    },
    {
     "name": "stdout",
     "output_type": "stream",
     "text": [
      "No data found for PHD (10y)\n",
      "Skipped PHD - insufficient data\n",
      "Processing PNRG...\n"
     ]
    },
    {
     "name": "stderr",
     "output_type": "stream",
     "text": [
      "$PNRG: possibly delisted; no price data found  (1d 2014-01-28 00:00:00 -> 2025-01-28)\n"
     ]
    },
    {
     "name": "stdout",
     "output_type": "stream",
     "text": [
      "No data found for PNRG (10y)\n",
      "Skipped PNRG - insufficient data\n",
      "Processing DBD...\n"
     ]
    },
    {
     "name": "stderr",
     "output_type": "stream",
     "text": [
      "$DBD: possibly delisted; no price data found  (1d 2014-01-28 00:00:00 -> 2025-01-28)\n"
     ]
    },
    {
     "name": "stdout",
     "output_type": "stream",
     "text": [
      "No data found for DBD (10y)\n",
      "Skipped DBD - insufficient data\n",
      "Processing GF...\n"
     ]
    },
    {
     "name": "stderr",
     "output_type": "stream",
     "text": [
      "$GF: possibly delisted; no price data found  (1d 2014-01-28 00:00:00 -> 2025-01-28)\n"
     ]
    },
    {
     "name": "stdout",
     "output_type": "stream",
     "text": [
      "No data found for GF (10y)\n",
      "Skipped GF - insufficient data\n",
      "Processing BVN...\n"
     ]
    },
    {
     "name": "stderr",
     "output_type": "stream",
     "text": [
      "$BVN: possibly delisted; no price data found  (1d 2014-01-28 00:00:00 -> 2025-01-28)\n"
     ]
    },
    {
     "name": "stdout",
     "output_type": "stream",
     "text": [
      "No data found for BVN (10y)\n",
      "Skipped BVN - insufficient data\n",
      "Processing KMDA...\n"
     ]
    },
    {
     "name": "stderr",
     "output_type": "stream",
     "text": [
      "$KMDA: possibly delisted; no price data found  (1d 2014-01-28 00:00:00 -> 2025-01-28)\n"
     ]
    },
    {
     "name": "stdout",
     "output_type": "stream",
     "text": [
      "No data found for KMDA (10y)\n",
      "Skipped KMDA - insufficient data\n",
      "Processing LPX...\n"
     ]
    },
    {
     "name": "stderr",
     "output_type": "stream",
     "text": [
      "$LPX: possibly delisted; no price data found  (1d 2014-01-28 00:00:00 -> 2025-01-28)\n"
     ]
    },
    {
     "name": "stdout",
     "output_type": "stream",
     "text": [
      "No data found for LPX (10y)\n",
      "Skipped LPX - insufficient data\n",
      "Processing CSGS...\n"
     ]
    },
    {
     "name": "stderr",
     "output_type": "stream",
     "text": [
      "$CSGS: possibly delisted; no price data found  (1d 2014-01-28 00:00:00 -> 2025-01-28)\n"
     ]
    },
    {
     "name": "stdout",
     "output_type": "stream",
     "text": [
      "No data found for CSGS (10y)\n",
      "Skipped CSGS - insufficient data\n",
      "Processing SKYW...\n"
     ]
    },
    {
     "name": "stderr",
     "output_type": "stream",
     "text": [
      "$SKYW: possibly delisted; no price data found  (1d 2014-01-28 00:00:00 -> 2025-01-28)\n"
     ]
    },
    {
     "name": "stdout",
     "output_type": "stream",
     "text": [
      "No data found for SKYW (10y)\n",
      "Skipped SKYW - insufficient data\n",
      "Processing TPX...\n"
     ]
    },
    {
     "name": "stderr",
     "output_type": "stream",
     "text": [
      "$TPX: possibly delisted; no price data found  (1d 2014-01-28 00:00:00 -> 2025-01-28)\n"
     ]
    },
    {
     "name": "stdout",
     "output_type": "stream",
     "text": [
      "No data found for TPX (10y)\n",
      "Skipped TPX - insufficient data\n",
      "Processing BFK...\n"
     ]
    },
    {
     "name": "stderr",
     "output_type": "stream",
     "text": [
      "$BFK: possibly delisted; no price data found  (1d 2014-01-28 00:00:00 -> 2025-01-28)\n"
     ]
    },
    {
     "name": "stdout",
     "output_type": "stream",
     "text": [
      "No data found for BFK (10y)\n",
      "Skipped BFK - insufficient data\n",
      "Processing PEGA...\n"
     ]
    },
    {
     "name": "stderr",
     "output_type": "stream",
     "text": [
      "$PEGA: possibly delisted; no price data found  (1d 2014-01-28 00:00:00 -> 2025-01-28)\n"
     ]
    },
    {
     "name": "stdout",
     "output_type": "stream",
     "text": [
      "No data found for PEGA (10y)\n",
      "Skipped PEGA - insufficient data\n",
      "Processing PCK...\n"
     ]
    },
    {
     "name": "stderr",
     "output_type": "stream",
     "text": [
      "$PCK: possibly delisted; no price data found  (1d 2014-01-28 00:00:00 -> 2025-01-28)\n"
     ]
    },
    {
     "name": "stdout",
     "output_type": "stream",
     "text": [
      "No data found for PCK (10y)\n",
      "Skipped PCK - insufficient data\n",
      "Processing CINF...\n"
     ]
    },
    {
     "name": "stderr",
     "output_type": "stream",
     "text": [
      "$CINF: possibly delisted; no price data found  (1d 2014-01-28 00:00:00 -> 2025-01-28)\n"
     ]
    },
    {
     "name": "stdout",
     "output_type": "stream",
     "text": [
      "No data found for CINF (10y)\n",
      "Skipped CINF - insufficient data\n",
      "Processing IGR...\n"
     ]
    },
    {
     "name": "stderr",
     "output_type": "stream",
     "text": [
      "$IGR: possibly delisted; no price data found  (1d 2014-01-28 00:00:00 -> 2025-01-28)\n"
     ]
    },
    {
     "name": "stdout",
     "output_type": "stream",
     "text": [
      "No data found for IGR (10y)\n",
      "Skipped IGR - insufficient data\n",
      "Processing PKE...\n"
     ]
    },
    {
     "name": "stderr",
     "output_type": "stream",
     "text": [
      "$PKE: possibly delisted; no price data found  (1d 2014-01-28 00:00:00 -> 2025-01-28)\n"
     ]
    },
    {
     "name": "stdout",
     "output_type": "stream",
     "text": [
      "No data found for PKE (10y)\n",
      "Skipped PKE - insufficient data\n",
      "Processing AAT...\n"
     ]
    },
    {
     "name": "stderr",
     "output_type": "stream",
     "text": [
      "$AAT: possibly delisted; no price data found  (1d 2014-01-28 00:00:00 -> 2025-01-28)\n"
     ]
    },
    {
     "name": "stdout",
     "output_type": "stream",
     "text": [
      "No data found for AAT (10y)\n",
      "Skipped AAT - insufficient data\n",
      "Processing DFS...\n"
     ]
    },
    {
     "name": "stderr",
     "output_type": "stream",
     "text": [
      "$DFS: possibly delisted; no price data found  (1d 2014-01-28 00:00:00 -> 2025-01-28)\n"
     ]
    },
    {
     "name": "stdout",
     "output_type": "stream",
     "text": [
      "No data found for DFS (10y)\n",
      "Skipped DFS - insufficient data\n",
      "Processing SHG...\n"
     ]
    },
    {
     "name": "stderr",
     "output_type": "stream",
     "text": [
      "$SHG: possibly delisted; no price data found  (1d 2014-01-28 00:00:00 -> 2025-01-28)\n"
     ]
    },
    {
     "name": "stdout",
     "output_type": "stream",
     "text": [
      "No data found for SHG (10y)\n",
      "Skipped SHG - insufficient data\n",
      "Processing NSC...\n"
     ]
    },
    {
     "name": "stderr",
     "output_type": "stream",
     "text": [
      "$NSC: possibly delisted; no price data found  (1d 2014-01-28 00:00:00 -> 2025-01-28)\n"
     ]
    },
    {
     "name": "stdout",
     "output_type": "stream",
     "text": [
      "No data found for NSC (10y)\n",
      "Skipped NSC - insufficient data\n",
      "Processing CXE...\n"
     ]
    },
    {
     "name": "stderr",
     "output_type": "stream",
     "text": [
      "$CXE: possibly delisted; no price data found  (1d 2014-01-28 00:00:00 -> 2025-01-28)\n"
     ]
    },
    {
     "name": "stdout",
     "output_type": "stream",
     "text": [
      "No data found for CXE (10y)\n",
      "Skipped CXE - insufficient data\n",
      "Processing GBAB...\n"
     ]
    },
    {
     "name": "stderr",
     "output_type": "stream",
     "text": [
      "$GBAB: possibly delisted; no price data found  (1d 2014-01-28 00:00:00 -> 2025-01-28)\n"
     ]
    },
    {
     "name": "stdout",
     "output_type": "stream",
     "text": [
      "No data found for GBAB (10y)\n",
      "Skipped GBAB - insufficient data\n",
      "Processing PFD...\n"
     ]
    },
    {
     "name": "stderr",
     "output_type": "stream",
     "text": [
      "Failed to get ticker 'PFD' reason: Expecting value: line 1 column 1 (char 0)\n",
      "$PFD: possibly delisted; no timezone found\n"
     ]
    },
    {
     "name": "stdout",
     "output_type": "stream",
     "text": [
      "No data found for PFD (10y)\n",
      "Skipped PFD - insufficient data\n",
      "Processing PANW...\n"
     ]
    },
    {
     "name": "stderr",
     "output_type": "stream",
     "text": [
      "$PANW: possibly delisted; no price data found  (1d 2014-01-28 00:00:00 -> 2025-01-28)\n"
     ]
    },
    {
     "name": "stdout",
     "output_type": "stream",
     "text": [
      "No data found for PANW (10y)\n",
      "Skipped PANW - insufficient data\n",
      "Processing CRM...\n"
     ]
    },
    {
     "name": "stderr",
     "output_type": "stream",
     "text": [
      "$CRM: possibly delisted; no price data found  (1d 2014-01-28 00:00:00 -> 2025-01-28)\n"
     ]
    },
    {
     "name": "stdout",
     "output_type": "stream",
     "text": [
      "No data found for CRM (10y)\n",
      "Skipped CRM - insufficient data\n",
      "Processing DHR...\n"
     ]
    },
    {
     "name": "stderr",
     "output_type": "stream",
     "text": [
      "$DHR: possibly delisted; no price data found  (1d 2014-01-28 00:00:00 -> 2025-01-28)\n"
     ]
    },
    {
     "name": "stdout",
     "output_type": "stream",
     "text": [
      "No data found for DHR (10y)\n",
      "Skipped DHR - insufficient data\n",
      "Processing AN...\n"
     ]
    },
    {
     "name": "stderr",
     "output_type": "stream",
     "text": [
      "$AN: possibly delisted; no price data found  (1d 2014-01-28 00:00:00 -> 2025-01-28)\n"
     ]
    },
    {
     "name": "stdout",
     "output_type": "stream",
     "text": [
      "No data found for AN (10y)\n",
      "Skipped AN - insufficient data\n",
      "Processing CSWC...\n"
     ]
    },
    {
     "name": "stderr",
     "output_type": "stream",
     "text": [
      "$CSWC: possibly delisted; no price data found  (1d 2014-01-28 00:00:00 -> 2025-01-28)\n"
     ]
    },
    {
     "name": "stdout",
     "output_type": "stream",
     "text": [
      "No data found for CSWC (10y)\n",
      "Skipped CSWC - insufficient data\n",
      "Processing TAYD...\n"
     ]
    },
    {
     "name": "stderr",
     "output_type": "stream",
     "text": [
      "$TAYD: possibly delisted; no price data found  (1d 2014-01-28 00:00:00 -> 2025-01-28)\n"
     ]
    },
    {
     "name": "stdout",
     "output_type": "stream",
     "text": [
      "No data found for TAYD (10y)\n",
      "Skipped TAYD - insufficient data\n",
      "Processing HRL...\n"
     ]
    },
    {
     "name": "stderr",
     "output_type": "stream",
     "text": [
      "$HRL: possibly delisted; no price data found  (1d 2014-01-28 00:00:00 -> 2025-01-28)\n"
     ]
    },
    {
     "name": "stdout",
     "output_type": "stream",
     "text": [
      "No data found for HRL (10y)\n",
      "Skipped HRL - insufficient data\n",
      "Processing BTE...\n"
     ]
    },
    {
     "name": "stderr",
     "output_type": "stream",
     "text": [
      "$BTE: possibly delisted; no price data found  (1d 2014-01-28 00:00:00 -> 2025-01-28)\n"
     ]
    },
    {
     "name": "stdout",
     "output_type": "stream",
     "text": [
      "No data found for BTE (10y)\n",
      "Skipped BTE - insufficient data\n",
      "Processing TU...\n"
     ]
    },
    {
     "name": "stderr",
     "output_type": "stream",
     "text": [
      "$TU: possibly delisted; no price data found  (1d 2014-01-28 00:00:00 -> 2025-01-28)\n"
     ]
    },
    {
     "name": "stdout",
     "output_type": "stream",
     "text": [
      "No data found for TU (10y)\n",
      "Skipped TU - insufficient data\n",
      "Processing CB...\n"
     ]
    },
    {
     "name": "stderr",
     "output_type": "stream",
     "text": [
      "$CB: possibly delisted; no price data found  (1d 2014-01-28 00:00:00 -> 2025-01-28)\n"
     ]
    },
    {
     "name": "stdout",
     "output_type": "stream",
     "text": [
      "No data found for CB (10y)\n",
      "Skipped CB - insufficient data\n",
      "Processing AMCX...\n"
     ]
    },
    {
     "name": "stderr",
     "output_type": "stream",
     "text": [
      "$AMCX: possibly delisted; no price data found  (1d 2014-01-28 00:00:00 -> 2025-01-28)\n"
     ]
    },
    {
     "name": "stdout",
     "output_type": "stream",
     "text": [
      "No data found for AMCX (10y)\n",
      "Skipped AMCX - insufficient data\n",
      "Processing JKS...\n"
     ]
    },
    {
     "name": "stderr",
     "output_type": "stream",
     "text": [
      "$JKS: possibly delisted; no price data found  (1d 2014-01-28 00:00:00 -> 2025-01-28)\n"
     ]
    },
    {
     "name": "stdout",
     "output_type": "stream",
     "text": [
      "No data found for JKS (10y)\n",
      "Skipped JKS - insufficient data\n",
      "Processing KAI...\n"
     ]
    },
    {
     "name": "stderr",
     "output_type": "stream",
     "text": [
      "$KAI: possibly delisted; no price data found  (1d 2014-01-28 00:00:00 -> 2025-01-28)\n"
     ]
    },
    {
     "name": "stdout",
     "output_type": "stream",
     "text": [
      "No data found for KAI (10y)\n",
      "Skipped KAI - insufficient data\n",
      "Processing AYI...\n"
     ]
    },
    {
     "name": "stderr",
     "output_type": "stream",
     "text": [
      "$AYI: possibly delisted; no price data found  (1d 2014-01-28 00:00:00 -> 2025-01-28)\n"
     ]
    },
    {
     "name": "stdout",
     "output_type": "stream",
     "text": [
      "No data found for AYI (10y)\n",
      "Skipped AYI - insufficient data\n",
      "Processing FONR...\n"
     ]
    },
    {
     "name": "stderr",
     "output_type": "stream",
     "text": [
      "$FONR: possibly delisted; no price data found  (1d 2014-01-28 00:00:00 -> 2025-01-28)\n"
     ]
    },
    {
     "name": "stdout",
     "output_type": "stream",
     "text": [
      "No data found for FONR (10y)\n",
      "Skipped FONR - insufficient data\n",
      "Processing SKM...\n"
     ]
    },
    {
     "name": "stderr",
     "output_type": "stream",
     "text": [
      "$SKM: possibly delisted; no price data found  (1d 2014-01-28 00:00:00 -> 2025-01-28)\n"
     ]
    },
    {
     "name": "stdout",
     "output_type": "stream",
     "text": [
      "No data found for SKM (10y)\n",
      "Skipped SKM - insufficient data\n",
      "Processing HBM...\n"
     ]
    },
    {
     "name": "stderr",
     "output_type": "stream",
     "text": [
      "$HBM: possibly delisted; no price data found  (1d 2014-01-28 00:00:00 -> 2025-01-28)\n"
     ]
    },
    {
     "name": "stdout",
     "output_type": "stream",
     "text": [
      "No data found for HBM (10y)\n",
      "Skipped HBM - insufficient data\n",
      "Processing NFJ...\n"
     ]
    },
    {
     "name": "stderr",
     "output_type": "stream",
     "text": [
      "$NFJ: possibly delisted; no price data found  (1d 2014-01-28 00:00:00 -> 2025-01-28)\n"
     ]
    },
    {
     "name": "stdout",
     "output_type": "stream",
     "text": [
      "No data found for NFJ (10y)\n",
      "Skipped NFJ - insufficient data\n",
      "Processing KVHI...\n"
     ]
    },
    {
     "name": "stderr",
     "output_type": "stream",
     "text": [
      "$KVHI: possibly delisted; no price data found  (1d 2014-01-28 00:00:00 -> 2025-01-28)\n"
     ]
    },
    {
     "name": "stdout",
     "output_type": "stream",
     "text": [
      "No data found for KVHI (10y)\n",
      "Skipped KVHI - insufficient data\n",
      "Processing L...\n"
     ]
    },
    {
     "name": "stderr",
     "output_type": "stream",
     "text": [
      "$L: possibly delisted; no price data found  (1d 2014-01-28 00:00:00 -> 2025-01-28)\n"
     ]
    },
    {
     "name": "stdout",
     "output_type": "stream",
     "text": [
      "No data found for L (10y)\n",
      "Skipped L - insufficient data\n",
      "Processing FUNC...\n"
     ]
    },
    {
     "name": "stderr",
     "output_type": "stream",
     "text": [
      "$FUNC: possibly delisted; no price data found  (1d 2014-01-28 00:00:00 -> 2025-01-28)\n"
     ]
    },
    {
     "name": "stdout",
     "output_type": "stream",
     "text": [
      "No data found for FUNC (10y)\n",
      "Skipped FUNC - insufficient data\n",
      "Processing NUV...\n"
     ]
    },
    {
     "name": "stderr",
     "output_type": "stream",
     "text": [
      "$NUV: possibly delisted; no price data found  (1d 2014-01-28 00:00:00 -> 2025-01-28)\n"
     ]
    },
    {
     "name": "stdout",
     "output_type": "stream",
     "text": [
      "No data found for NUV (10y)\n",
      "Skipped NUV - insufficient data\n",
      "Processing AIR...\n"
     ]
    },
    {
     "name": "stderr",
     "output_type": "stream",
     "text": [
      "$AIR: possibly delisted; no price data found  (1d 2014-01-28 00:00:00 -> 2025-01-28)\n"
     ]
    },
    {
     "name": "stdout",
     "output_type": "stream",
     "text": [
      "No data found for AIR (10y)\n",
      "Skipped AIR - insufficient data\n",
      "Processing AMP...\n"
     ]
    },
    {
     "name": "stderr",
     "output_type": "stream",
     "text": [
      "$AMP: possibly delisted; no price data found  (1d 2014-01-28 00:00:00 -> 2025-01-28)\n"
     ]
    },
    {
     "name": "stdout",
     "output_type": "stream",
     "text": [
      "No data found for AMP (10y)\n",
      "Skipped AMP - insufficient data\n",
      "Processing CCK...\n"
     ]
    },
    {
     "name": "stderr",
     "output_type": "stream",
     "text": [
      "$CCK: possibly delisted; no price data found  (1d 2014-01-28 00:00:00 -> 2025-01-28)\n"
     ]
    },
    {
     "name": "stdout",
     "output_type": "stream",
     "text": [
      "No data found for CCK (10y)\n",
      "Skipped CCK - insufficient data\n",
      "Processing QUIK...\n"
     ]
    },
    {
     "name": "stderr",
     "output_type": "stream",
     "text": [
      "$QUIK: possibly delisted; no price data found  (1d 2014-01-28 00:00:00 -> 2025-01-28)\n"
     ]
    },
    {
     "name": "stdout",
     "output_type": "stream",
     "text": [
      "No data found for QUIK (10y)\n",
      "Skipped QUIK - insufficient data\n",
      "Processing ADI...\n"
     ]
    },
    {
     "name": "stderr",
     "output_type": "stream",
     "text": [
      "$ADI: possibly delisted; no price data found  (1d 2014-01-28 00:00:00 -> 2025-01-28)\n"
     ]
    },
    {
     "name": "stdout",
     "output_type": "stream",
     "text": [
      "No data found for ADI (10y)\n",
      "Skipped ADI - insufficient data\n",
      "Processing DGICA...\n"
     ]
    },
    {
     "name": "stderr",
     "output_type": "stream",
     "text": [
      "$DGICA: possibly delisted; no price data found  (1d 2014-01-28 00:00:00 -> 2025-01-28)\n"
     ]
    },
    {
     "name": "stdout",
     "output_type": "stream",
     "text": [
      "No data found for DGICA (10y)\n",
      "Skipped DGICA - insufficient data\n",
      "Processing PX...\n"
     ]
    },
    {
     "name": "stderr",
     "output_type": "stream",
     "text": [
      "$PX: possibly delisted; no price data found  (1d 2014-01-28 00:00:00 -> 2025-01-28)\n"
     ]
    },
    {
     "name": "stdout",
     "output_type": "stream",
     "text": [
      "No data found for PX (10y)\n",
      "Skipped PX - insufficient data\n",
      "Processing CSPI...\n"
     ]
    },
    {
     "name": "stderr",
     "output_type": "stream",
     "text": [
      "$CSPI: possibly delisted; no price data found  (1d 2014-01-28 00:00:00 -> 2025-01-28)\n"
     ]
    },
    {
     "name": "stdout",
     "output_type": "stream",
     "text": [
      "No data found for CSPI (10y)\n",
      "Skipped CSPI - insufficient data\n",
      "Processing PLUG...\n"
     ]
    },
    {
     "name": "stderr",
     "output_type": "stream",
     "text": [
      "$PLUG: possibly delisted; no price data found  (1d 2014-01-28 00:00:00 -> 2025-01-28)\n"
     ]
    },
    {
     "name": "stdout",
     "output_type": "stream",
     "text": [
      "No data found for PLUG (10y)\n",
      "Skipped PLUG - insufficient data\n",
      "Processing IFF...\n"
     ]
    },
    {
     "name": "stderr",
     "output_type": "stream",
     "text": [
      "$IFF: possibly delisted; no price data found  (1d 2014-01-28 00:00:00 -> 2025-01-28)\n"
     ]
    },
    {
     "name": "stdout",
     "output_type": "stream",
     "text": [
      "No data found for IFF (10y)\n",
      "Skipped IFF - insufficient data\n",
      "Processing FSM...\n"
     ]
    },
    {
     "name": "stderr",
     "output_type": "stream",
     "text": [
      "$FSM: possibly delisted; no price data found  (1d 2014-01-28 00:00:00 -> 2025-01-28)\n"
     ]
    },
    {
     "name": "stdout",
     "output_type": "stream",
     "text": [
      "No data found for FSM (10y)\n",
      "Skipped FSM - insufficient data\n",
      "Processing BMA...\n"
     ]
    },
    {
     "name": "stderr",
     "output_type": "stream",
     "text": [
      "$BMA: possibly delisted; no price data found  (1d 2014-01-28 00:00:00 -> 2025-01-28)\n"
     ]
    },
    {
     "name": "stdout",
     "output_type": "stream",
     "text": [
      "No data found for BMA (10y)\n",
      "Skipped BMA - insufficient data\n",
      "Processing CZWI...\n"
     ]
    },
    {
     "name": "stderr",
     "output_type": "stream",
     "text": [
      "$CZWI: possibly delisted; no price data found  (1d 2014-01-28 00:00:00 -> 2025-01-28)\n"
     ]
    },
    {
     "name": "stdout",
     "output_type": "stream",
     "text": [
      "No data found for CZWI (10y)\n",
      "Skipped CZWI - insufficient data\n",
      "Processing HR...\n"
     ]
    },
    {
     "name": "stderr",
     "output_type": "stream",
     "text": [
      "$HR: possibly delisted; no price data found  (1d 2014-01-28 00:00:00 -> 2025-01-28)\n"
     ]
    },
    {
     "name": "stdout",
     "output_type": "stream",
     "text": [
      "No data found for HR (10y)\n",
      "Skipped HR - insufficient data\n",
      "Processing BZH...\n"
     ]
    },
    {
     "name": "stderr",
     "output_type": "stream",
     "text": [
      "$BZH: possibly delisted; no price data found  (1d 2014-01-28 00:00:00 -> 2025-01-28)\n"
     ]
    },
    {
     "name": "stdout",
     "output_type": "stream",
     "text": [
      "No data found for BZH (10y)\n",
      "Skipped BZH - insufficient data\n",
      "Processing TGT...\n"
     ]
    },
    {
     "name": "stderr",
     "output_type": "stream",
     "text": [
      "$TGT: possibly delisted; no price data found  (1d 2014-01-28 00:00:00 -> 2025-01-28)\n"
     ]
    },
    {
     "name": "stdout",
     "output_type": "stream",
     "text": [
      "No data found for TGT (10y)\n",
      "Skipped TGT - insufficient data\n",
      "Processing CIG...\n"
     ]
    },
    {
     "name": "stderr",
     "output_type": "stream",
     "text": [
      "$CIG: possibly delisted; no price data found  (1d 2014-01-28 00:00:00 -> 2025-01-28)\n"
     ]
    },
    {
     "name": "stdout",
     "output_type": "stream",
     "text": [
      "No data found for CIG (10y)\n",
      "Skipped CIG - insufficient data\n",
      "Processing JCI...\n"
     ]
    },
    {
     "name": "stderr",
     "output_type": "stream",
     "text": [
      "$JCI: possibly delisted; no price data found  (1d 2014-01-28 00:00:00 -> 2025-01-28)\n"
     ]
    },
    {
     "name": "stdout",
     "output_type": "stream",
     "text": [
      "No data found for JCI (10y)\n",
      "Skipped JCI - insufficient data\n",
      "Processing GIFI...\n"
     ]
    },
    {
     "name": "stderr",
     "output_type": "stream",
     "text": [
      "$GIFI: possibly delisted; no price data found  (1d 2014-01-28 00:00:00 -> 2025-01-28)\n"
     ]
    },
    {
     "name": "stdout",
     "output_type": "stream",
     "text": [
      "No data found for GIFI (10y)\n",
      "Skipped GIFI - insufficient data\n",
      "Processing CXH...\n"
     ]
    },
    {
     "name": "stderr",
     "output_type": "stream",
     "text": [
      "$CXH: possibly delisted; no price data found  (1d 2014-01-28 00:00:00 -> 2025-01-28)\n"
     ]
    },
    {
     "name": "stdout",
     "output_type": "stream",
     "text": [
      "No data found for CXH (10y)\n",
      "Skipped CXH - insufficient data\n",
      "Processing DSX...\n"
     ]
    },
    {
     "name": "stderr",
     "output_type": "stream",
     "text": [
      "$DSX: possibly delisted; no price data found  (1d 2014-01-28 00:00:00 -> 2025-01-28)\n"
     ]
    },
    {
     "name": "stdout",
     "output_type": "stream",
     "text": [
      "No data found for DSX (10y)\n",
      "Skipped DSX - insufficient data\n",
      "Processing SLMBP...\n"
     ]
    },
    {
     "name": "stderr",
     "output_type": "stream",
     "text": [
      "$SLMBP: possibly delisted; no price data found  (1d 2014-01-28 00:00:00 -> 2025-01-28)\n"
     ]
    },
    {
     "name": "stdout",
     "output_type": "stream",
     "text": [
      "No data found for SLMBP (10y)\n",
      "Skipped SLMBP - insufficient data\n",
      "Processing DSL...\n"
     ]
    },
    {
     "name": "stderr",
     "output_type": "stream",
     "text": [
      "$DSL: possibly delisted; no price data found  (1d 2014-01-28 00:00:00 -> 2025-01-28)\n"
     ]
    },
    {
     "name": "stdout",
     "output_type": "stream",
     "text": [
      "No data found for DSL (10y)\n",
      "Skipped DSL - insufficient data\n",
      "Processing OVLY...\n"
     ]
    },
    {
     "name": "stderr",
     "output_type": "stream",
     "text": [
      "$OVLY: possibly delisted; no price data found  (1d 2014-01-28 00:00:00 -> 2025-01-28)\n"
     ]
    },
    {
     "name": "stdout",
     "output_type": "stream",
     "text": [
      "No data found for OVLY (10y)\n",
      "Skipped OVLY - insufficient data\n",
      "Processing GILT...\n"
     ]
    },
    {
     "name": "stderr",
     "output_type": "stream",
     "text": [
      "$GILT: possibly delisted; no price data found  (1d 2014-01-28 00:00:00 -> 2025-01-28)\n"
     ]
    },
    {
     "name": "stdout",
     "output_type": "stream",
     "text": [
      "No data found for GILT (10y)\n",
      "Skipped GILT - insufficient data\n",
      "Processing HBCP...\n"
     ]
    },
    {
     "name": "stderr",
     "output_type": "stream",
     "text": [
      "$HBCP: possibly delisted; no price data found  (1d 2014-01-28 00:00:00 -> 2025-01-28)\n"
     ]
    },
    {
     "name": "stdout",
     "output_type": "stream",
     "text": [
      "No data found for HBCP (10y)\n",
      "Skipped HBCP - insufficient data\n",
      "Processing CBL...\n"
     ]
    },
    {
     "name": "stderr",
     "output_type": "stream",
     "text": [
      "$CBL: possibly delisted; no price data found  (1d 2014-01-28 00:00:00 -> 2025-01-28)\n"
     ]
    },
    {
     "name": "stdout",
     "output_type": "stream",
     "text": [
      "No data found for CBL (10y)\n",
      "Skipped CBL - insufficient data\n",
      "Processing SOHU...\n"
     ]
    },
    {
     "name": "stderr",
     "output_type": "stream",
     "text": [
      "$SOHU: possibly delisted; no price data found  (1d 2014-01-28 00:00:00 -> 2025-01-28)\n"
     ]
    },
    {
     "name": "stdout",
     "output_type": "stream",
     "text": [
      "No data found for SOHU (10y)\n",
      "Skipped SOHU - insufficient data\n",
      "Processing STR...\n"
     ]
    },
    {
     "name": "stderr",
     "output_type": "stream",
     "text": [
      "$STR: possibly delisted; no price data found  (1d 2014-01-28 00:00:00 -> 2025-01-28)\n"
     ]
    },
    {
     "name": "stdout",
     "output_type": "stream",
     "text": [
      "No data found for STR (10y)\n",
      "Skipped STR - insufficient data\n",
      "Processing PML...\n"
     ]
    },
    {
     "name": "stderr",
     "output_type": "stream",
     "text": [
      "$PML: possibly delisted; no price data found  (1d 2014-01-28 00:00:00 -> 2025-01-28)\n"
     ]
    },
    {
     "name": "stdout",
     "output_type": "stream",
     "text": [
      "No data found for PML (10y)\n",
      "Skipped PML - insufficient data\n",
      "Processing HQL...\n"
     ]
    },
    {
     "name": "stderr",
     "output_type": "stream",
     "text": [
      "$HQL: possibly delisted; no price data found  (1d 2014-01-28 00:00:00 -> 2025-01-28)\n"
     ]
    },
    {
     "name": "stdout",
     "output_type": "stream",
     "text": [
      "No data found for HQL (10y)\n",
      "Skipped HQL - insufficient data\n",
      "Processing BMR...\n"
     ]
    },
    {
     "name": "stderr",
     "output_type": "stream",
     "text": [
      "$BMR: possibly delisted; no price data found  (1d 2014-01-28 00:00:00 -> 2025-01-28)\n"
     ]
    },
    {
     "name": "stdout",
     "output_type": "stream",
     "text": [
      "No data found for BMR (10y)\n",
      "Skipped BMR - insufficient data\n",
      "Processing PBR...\n"
     ]
    },
    {
     "name": "stderr",
     "output_type": "stream",
     "text": [
      "$PBR: possibly delisted; no price data found  (1d 2014-01-28 00:00:00 -> 2025-01-28)\n"
     ]
    },
    {
     "name": "stdout",
     "output_type": "stream",
     "text": [
      "No data found for PBR (10y)\n",
      "Skipped PBR - insufficient data\n",
      "Processing ADM...\n"
     ]
    },
    {
     "name": "stderr",
     "output_type": "stream",
     "text": [
      "$ADM: possibly delisted; no price data found  (1d 2014-01-28 00:00:00 -> 2025-01-28)\n"
     ]
    },
    {
     "name": "stdout",
     "output_type": "stream",
     "text": [
      "No data found for ADM (10y)\n",
      "Skipped ADM - insufficient data\n",
      "Processing LCNB...\n"
     ]
    },
    {
     "name": "stderr",
     "output_type": "stream",
     "text": [
      "$LCNB: possibly delisted; no price data found  (1d 2014-01-28 00:00:00 -> 2025-01-28)\n"
     ]
    },
    {
     "name": "stdout",
     "output_type": "stream",
     "text": [
      "No data found for LCNB (10y)\n",
      "Skipped LCNB - insufficient data\n",
      "Processing HDSN...\n"
     ]
    },
    {
     "name": "stderr",
     "output_type": "stream",
     "text": [
      "$HDSN: possibly delisted; no price data found  (1d 2014-01-28 00:00:00 -> 2025-01-28)\n"
     ]
    },
    {
     "name": "stdout",
     "output_type": "stream",
     "text": [
      "No data found for HDSN (10y)\n",
      "Skipped HDSN - insufficient data\n",
      "Processing CIZN...\n"
     ]
    },
    {
     "name": "stderr",
     "output_type": "stream",
     "text": [
      "$CIZN: possibly delisted; no price data found  (1d 2014-01-28 00:00:00 -> 2025-01-28)\n"
     ]
    },
    {
     "name": "stdout",
     "output_type": "stream",
     "text": [
      "No data found for CIZN (10y)\n",
      "Skipped CIZN - insufficient data\n",
      "Processing LSE...\n"
     ]
    },
    {
     "name": "stderr",
     "output_type": "stream",
     "text": [
      "$LSE: possibly delisted; no price data found  (1d 2014-01-28 00:00:00 -> 2025-01-28)\n"
     ]
    },
    {
     "name": "stdout",
     "output_type": "stream",
     "text": [
      "No data found for LSE (10y)\n",
      "Skipped LSE - insufficient data\n",
      "Processing NNN...\n"
     ]
    },
    {
     "name": "stderr",
     "output_type": "stream",
     "text": [
      "$NNN: possibly delisted; no price data found  (1d 2014-01-28 00:00:00 -> 2025-01-28)\n"
     ]
    },
    {
     "name": "stdout",
     "output_type": "stream",
     "text": [
      "No data found for NNN (10y)\n",
      "Skipped NNN - insufficient data\n",
      "Processing BKN...\n"
     ]
    },
    {
     "name": "stderr",
     "output_type": "stream",
     "text": [
      "$BKN: possibly delisted; no price data found  (1d 2014-01-28 00:00:00 -> 2025-01-28)\n"
     ]
    },
    {
     "name": "stdout",
     "output_type": "stream",
     "text": [
      "No data found for BKN (10y)\n",
      "Skipped BKN - insufficient data\n",
      "Processing HNRG...\n"
     ]
    },
    {
     "name": "stderr",
     "output_type": "stream",
     "text": [
      "$HNRG: possibly delisted; no price data found  (1d 2014-01-28 00:00:00 -> 2025-01-28)\n"
     ]
    },
    {
     "name": "stdout",
     "output_type": "stream",
     "text": [
      "No data found for HNRG (10y)\n",
      "Skipped HNRG - insufficient data\n",
      "Processing OC...\n"
     ]
    },
    {
     "name": "stderr",
     "output_type": "stream",
     "text": [
      "$OC: possibly delisted; no price data found  (1d 2014-01-28 00:00:00 -> 2025-01-28)\n"
     ]
    },
    {
     "name": "stdout",
     "output_type": "stream",
     "text": [
      "No data found for OC (10y)\n",
      "Skipped OC - insufficient data\n",
      "Processing HTZ...\n"
     ]
    },
    {
     "name": "stderr",
     "output_type": "stream",
     "text": [
      "$HTZ: possibly delisted; no price data found  (1d 2014-01-28 00:00:00 -> 2025-01-28)\n"
     ]
    },
    {
     "name": "stdout",
     "output_type": "stream",
     "text": [
      "No data found for HTZ (10y)\n",
      "Skipped HTZ - insufficient data\n",
      "Processing DHX...\n"
     ]
    },
    {
     "name": "stderr",
     "output_type": "stream",
     "text": [
      "$DHX: possibly delisted; no price data found  (1d 2014-01-28 00:00:00 -> 2025-01-28)\n"
     ]
    },
    {
     "name": "stdout",
     "output_type": "stream",
     "text": [
      "No data found for DHX (10y)\n",
      "Skipped DHX - insufficient data\n",
      "Processing SF...\n"
     ]
    },
    {
     "name": "stderr",
     "output_type": "stream",
     "text": [
      "$SF: possibly delisted; no price data found  (1d 2014-01-28 00:00:00 -> 2025-01-28)\n"
     ]
    },
    {
     "name": "stdout",
     "output_type": "stream",
     "text": [
      "No data found for SF (10y)\n",
      "Skipped SF - insufficient data\n",
      "Processing MDRX...\n"
     ]
    },
    {
     "name": "stderr",
     "output_type": "stream",
     "text": [
      "$MDRX: possibly delisted; no price data found  (1d 2014-01-28 00:00:00 -> 2025-01-28)\n"
     ]
    },
    {
     "name": "stdout",
     "output_type": "stream",
     "text": [
      "No data found for MDRX (10y)\n",
      "Skipped MDRX - insufficient data\n",
      "Processing GME...\n"
     ]
    },
    {
     "name": "stderr",
     "output_type": "stream",
     "text": [
      "$GME: possibly delisted; no price data found  (1d 2014-01-28 00:00:00 -> 2025-01-28)\n"
     ]
    },
    {
     "name": "stdout",
     "output_type": "stream",
     "text": [
      "No data found for GME (10y)\n",
      "Skipped GME - insufficient data\n",
      "Processing SSL...\n"
     ]
    },
    {
     "name": "stderr",
     "output_type": "stream",
     "text": [
      "$SSL: possibly delisted; no price data found  (1d 2014-01-28 00:00:00 -> 2025-01-28)\n"
     ]
    },
    {
     "name": "stdout",
     "output_type": "stream",
     "text": [
      "No data found for SSL (10y)\n",
      "Skipped SSL - insufficient data\n",
      "Processing TDW...\n"
     ]
    },
    {
     "name": "stderr",
     "output_type": "stream",
     "text": [
      "$TDW: possibly delisted; no price data found  (1d 2014-01-28 00:00:00 -> 2025-01-28)\n"
     ]
    },
    {
     "name": "stdout",
     "output_type": "stream",
     "text": [
      "No data found for TDW (10y)\n",
      "Skipped TDW - insufficient data\n",
      "Processing KEX...\n"
     ]
    },
    {
     "name": "stderr",
     "output_type": "stream",
     "text": [
      "$KEX: possibly delisted; no price data found  (1d 2014-01-28 00:00:00 -> 2025-01-28)\n"
     ]
    },
    {
     "name": "stdout",
     "output_type": "stream",
     "text": [
      "No data found for KEX (10y)\n",
      "Skipped KEX - insufficient data\n",
      "Processing PGC...\n"
     ]
    },
    {
     "name": "stderr",
     "output_type": "stream",
     "text": [
      "$PGC: possibly delisted; no price data found  (1d 2014-01-28 00:00:00 -> 2025-01-28)\n"
     ]
    },
    {
     "name": "stdout",
     "output_type": "stream",
     "text": [
      "No data found for PGC (10y)\n",
      "Skipped PGC - insufficient data\n",
      "Processing OLP...\n"
     ]
    },
    {
     "name": "stderr",
     "output_type": "stream",
     "text": [
      "$OLP: possibly delisted; no price data found  (1d 2014-01-28 00:00:00 -> 2025-01-28)\n"
     ]
    },
    {
     "name": "stdout",
     "output_type": "stream",
     "text": [
      "No data found for OLP (10y)\n",
      "Skipped OLP - insufficient data\n",
      "Processing LSTR...\n"
     ]
    },
    {
     "name": "stderr",
     "output_type": "stream",
     "text": [
      "$LSTR: possibly delisted; no price data found  (1d 2014-01-28 00:00:00 -> 2025-01-28)\n"
     ]
    },
    {
     "name": "stdout",
     "output_type": "stream",
     "text": [
      "No data found for LSTR (10y)\n",
      "Skipped LSTR - insufficient data\n",
      "Processing ADX...\n"
     ]
    },
    {
     "name": "stderr",
     "output_type": "stream",
     "text": [
      "$ADX: possibly delisted; no price data found  (1d 2014-01-28 00:00:00 -> 2025-01-28)\n"
     ]
    },
    {
     "name": "stdout",
     "output_type": "stream",
     "text": [
      "No data found for ADX (10y)\n",
      "Skipped ADX - insufficient data\n",
      "Processing AZO...\n"
     ]
    },
    {
     "name": "stderr",
     "output_type": "stream",
     "text": [
      "$AZO: possibly delisted; no price data found  (1d 2014-01-28 00:00:00 -> 2025-01-28)\n"
     ]
    },
    {
     "name": "stdout",
     "output_type": "stream",
     "text": [
      "No data found for AZO (10y)\n",
      "Skipped AZO - insufficient data\n",
      "Processing DOW...\n"
     ]
    },
    {
     "name": "stderr",
     "output_type": "stream",
     "text": [
      "$DOW: possibly delisted; no price data found  (1d 2014-01-28 00:00:00 -> 2025-01-28)\n"
     ]
    },
    {
     "name": "stdout",
     "output_type": "stream",
     "text": [
      "No data found for DOW (10y)\n",
      "Skipped DOW - insufficient data\n",
      "Processing NOC...\n"
     ]
    },
    {
     "name": "stderr",
     "output_type": "stream",
     "text": [
      "$NOC: possibly delisted; no price data found  (1d 2014-01-28 00:00:00 -> 2025-01-28)\n"
     ]
    },
    {
     "name": "stdout",
     "output_type": "stream",
     "text": [
      "No data found for NOC (10y)\n",
      "Skipped NOC - insufficient data\n",
      "Processing DTE...\n"
     ]
    },
    {
     "name": "stderr",
     "output_type": "stream",
     "text": [
      "$DTE: possibly delisted; no price data found  (1d 2014-01-28 00:00:00 -> 2025-01-28)\n"
     ]
    },
    {
     "name": "stdout",
     "output_type": "stream",
     "text": [
      "No data found for DTE (10y)\n",
      "Skipped DTE - insufficient data\n",
      "Processing CHD...\n"
     ]
    },
    {
     "name": "stderr",
     "output_type": "stream",
     "text": [
      "$CHD: possibly delisted; no price data found  (1d 2014-01-28 00:00:00 -> 2025-01-28)\n"
     ]
    },
    {
     "name": "stdout",
     "output_type": "stream",
     "text": [
      "No data found for CHD (10y)\n",
      "Skipped CHD - insufficient data\n",
      "Processing IPI...\n"
     ]
    },
    {
     "name": "stderr",
     "output_type": "stream",
     "text": [
      "$IPI: possibly delisted; no price data found  (1d 2014-01-28 00:00:00 -> 2025-01-28)\n"
     ]
    },
    {
     "name": "stdout",
     "output_type": "stream",
     "text": [
      "No data found for IPI (10y)\n",
      "Skipped IPI - insufficient data\n",
      "Processing CIM...\n"
     ]
    },
    {
     "name": "stderr",
     "output_type": "stream",
     "text": [
      "$CIM: possibly delisted; no price data found  (1d 2014-01-28 00:00:00 -> 2025-01-28)\n"
     ]
    },
    {
     "name": "stdout",
     "output_type": "stream",
     "text": [
      "No data found for CIM (10y)\n",
      "Skipped CIM - insufficient data\n",
      "Processing CLB...\n"
     ]
    },
    {
     "name": "stderr",
     "output_type": "stream",
     "text": [
      "$CLB: possibly delisted; no price data found  (1d 2014-01-28 00:00:00 -> 2025-01-28)\n"
     ]
    },
    {
     "name": "stdout",
     "output_type": "stream",
     "text": [
      "No data found for CLB (10y)\n",
      "Skipped CLB - insufficient data\n",
      "Processing AXL...\n"
     ]
    },
    {
     "name": "stderr",
     "output_type": "stream",
     "text": [
      "$AXL: possibly delisted; no price data found  (1d 2014-01-28 00:00:00 -> 2025-01-28)\n"
     ]
    },
    {
     "name": "stdout",
     "output_type": "stream",
     "text": [
      "No data found for AXL (10y)\n",
      "Skipped AXL - insufficient data\n",
      "Processing KTF...\n"
     ]
    },
    {
     "name": "stderr",
     "output_type": "stream",
     "text": [
      "$KTF: possibly delisted; no price data found  (1d 2014-01-28 00:00:00 -> 2025-01-28)\n"
     ]
    },
    {
     "name": "stdout",
     "output_type": "stream",
     "text": [
      "No data found for KTF (10y)\n",
      "Skipped KTF - insufficient data\n",
      "Processing FE...\n"
     ]
    },
    {
     "name": "stderr",
     "output_type": "stream",
     "text": [
      "$FE: possibly delisted; no price data found  (1d 2014-01-28 00:00:00 -> 2025-01-28)\n"
     ]
    },
    {
     "name": "stdout",
     "output_type": "stream",
     "text": [
      "No data found for FE (10y)\n",
      "Skipped FE - insufficient data\n",
      "Processing CODI...\n"
     ]
    },
    {
     "name": "stderr",
     "output_type": "stream",
     "text": [
      "$CODI: possibly delisted; no price data found  (1d 2014-01-28 00:00:00 -> 2025-01-28)\n"
     ]
    },
    {
     "name": "stdout",
     "output_type": "stream",
     "text": [
      "No data found for CODI (10y)\n",
      "Skipped CODI - insufficient data\n",
      "Processing HSTM...\n"
     ]
    },
    {
     "name": "stderr",
     "output_type": "stream",
     "text": [
      "$HSTM: possibly delisted; no price data found  (1d 2014-01-28 00:00:00 -> 2025-01-28)\n"
     ]
    },
    {
     "name": "stdout",
     "output_type": "stream",
     "text": [
      "No data found for HSTM (10y)\n",
      "Skipped HSTM - insufficient data\n",
      "Processing PETS...\n"
     ]
    },
    {
     "name": "stderr",
     "output_type": "stream",
     "text": [
      "$PETS: possibly delisted; no price data found  (1d 2014-01-28 00:00:00 -> 2025-01-28)\n"
     ]
    },
    {
     "name": "stdout",
     "output_type": "stream",
     "text": [
      "No data found for PETS (10y)\n",
      "Skipped PETS - insufficient data\n",
      "Processing KSS...\n"
     ]
    },
    {
     "name": "stderr",
     "output_type": "stream",
     "text": [
      "$KSS: possibly delisted; no price data found  (1d 2014-01-28 00:00:00 -> 2025-01-28)\n"
     ]
    },
    {
     "name": "stdout",
     "output_type": "stream",
     "text": [
      "No data found for KSS (10y)\n",
      "Skipped KSS - insufficient data\n",
      "Processing SPNS...\n"
     ]
    },
    {
     "name": "stderr",
     "output_type": "stream",
     "text": [
      "$SPNS: possibly delisted; no price data found  (1d 2014-01-28 00:00:00 -> 2025-01-28)\n"
     ]
    },
    {
     "name": "stdout",
     "output_type": "stream",
     "text": [
      "No data found for SPNS (10y)\n",
      "Skipped SPNS - insufficient data\n",
      "Processing CLMT...\n"
     ]
    },
    {
     "name": "stderr",
     "output_type": "stream",
     "text": [
      "$CLMT: possibly delisted; no price data found  (1d 2014-01-28 00:00:00 -> 2025-01-28)\n"
     ]
    },
    {
     "name": "stdout",
     "output_type": "stream",
     "text": [
      "No data found for CLMT (10y)\n",
      "Skipped CLMT - insufficient data\n",
      "Processing BMO...\n"
     ]
    },
    {
     "name": "stderr",
     "output_type": "stream",
     "text": [
      "$BMO: possibly delisted; no price data found  (1d 2014-01-28 00:00:00 -> 2025-01-28)\n"
     ]
    },
    {
     "name": "stdout",
     "output_type": "stream",
     "text": [
      "No data found for BMO (10y)\n",
      "Skipped BMO - insufficient data\n",
      "Processing SVA...\n"
     ]
    },
    {
     "name": "stderr",
     "output_type": "stream",
     "text": [
      "$SVA: possibly delisted; no price data found  (1d 2014-01-28 00:00:00 -> 2025-01-28)\n"
     ]
    },
    {
     "name": "stdout",
     "output_type": "stream",
     "text": [
      "No data found for SVA (10y)\n",
      "Skipped SVA - insufficient data\n",
      "Processing JEQ...\n"
     ]
    },
    {
     "name": "stderr",
     "output_type": "stream",
     "text": [
      "$JEQ: possibly delisted; no price data found  (1d 2014-01-28 00:00:00 -> 2025-01-28)\n"
     ]
    },
    {
     "name": "stdout",
     "output_type": "stream",
     "text": [
      "No data found for JEQ (10y)\n",
      "Skipped JEQ - insufficient data\n",
      "Processing FFC...\n"
     ]
    },
    {
     "name": "stderr",
     "output_type": "stream",
     "text": [
      "$FFC: possibly delisted; no price data found  (1d 2014-01-28 00:00:00 -> 2025-01-28)\n"
     ]
    },
    {
     "name": "stdout",
     "output_type": "stream",
     "text": [
      "No data found for FFC (10y)\n",
      "Skipped FFC - insufficient data\n",
      "Processing KOF...\n"
     ]
    },
    {
     "name": "stderr",
     "output_type": "stream",
     "text": [
      "$KOF: possibly delisted; no price data found  (1d 2014-01-28 00:00:00 -> 2025-01-28)\n"
     ]
    },
    {
     "name": "stdout",
     "output_type": "stream",
     "text": [
      "No data found for KOF (10y)\n",
      "Skipped KOF - insufficient data\n",
      "Processing PATK...\n"
     ]
    },
    {
     "name": "stderr",
     "output_type": "stream",
     "text": [
      "$PATK: possibly delisted; no price data found  (1d 2014-01-28 00:00:00 -> 2025-01-28)\n"
     ]
    },
    {
     "name": "stdout",
     "output_type": "stream",
     "text": [
      "No data found for PATK (10y)\n",
      "Skipped PATK - insufficient data\n",
      "Processing STKL...\n"
     ]
    },
    {
     "name": "stderr",
     "output_type": "stream",
     "text": [
      "$STKL: possibly delisted; no price data found  (1d 2014-01-28 00:00:00 -> 2025-01-28)\n"
     ]
    },
    {
     "name": "stdout",
     "output_type": "stream",
     "text": [
      "No data found for STKL (10y)\n",
      "Skipped STKL - insufficient data\n",
      "Processing MYN...\n"
     ]
    },
    {
     "name": "stderr",
     "output_type": "stream",
     "text": [
      "$MYN: possibly delisted; no price data found  (1d 2014-01-28 00:00:00 -> 2025-01-28)\n"
     ]
    },
    {
     "name": "stdout",
     "output_type": "stream",
     "text": [
      "No data found for MYN (10y)\n",
      "Skipped MYN - insufficient data\n",
      "Processing HPF...\n"
     ]
    },
    {
     "name": "stderr",
     "output_type": "stream",
     "text": [
      "$HPF: possibly delisted; no price data found  (1d 2014-01-28 00:00:00 -> 2025-01-28)\n"
     ]
    },
    {
     "name": "stdout",
     "output_type": "stream",
     "text": [
      "No data found for HPF (10y)\n",
      "Skipped HPF - insufficient data\n",
      "Processing GDO...\n"
     ]
    },
    {
     "name": "stderr",
     "output_type": "stream",
     "text": [
      "$GDO: possibly delisted; no price data found  (1d 2014-01-28 00:00:00 -> 2025-01-28)\n"
     ]
    },
    {
     "name": "stdout",
     "output_type": "stream",
     "text": [
      "No data found for GDO (10y)\n",
      "Skipped GDO - insufficient data\n",
      "Processing JBL...\n"
     ]
    },
    {
     "name": "stderr",
     "output_type": "stream",
     "text": [
      "$JBL: possibly delisted; no price data found  (1d 2014-01-28 00:00:00 -> 2025-01-28)\n"
     ]
    },
    {
     "name": "stdout",
     "output_type": "stream",
     "text": [
      "No data found for JBL (10y)\n",
      "Skipped JBL - insufficient data\n",
      "Processing GIL...\n"
     ]
    },
    {
     "name": "stderr",
     "output_type": "stream",
     "text": [
      "$GIL: possibly delisted; no price data found  (1d 2014-01-28 00:00:00 -> 2025-01-28)\n"
     ]
    },
    {
     "name": "stdout",
     "output_type": "stream",
     "text": [
      "No data found for GIL (10y)\n",
      "Skipped GIL - insufficient data\n",
      "Processing CHE...\n"
     ]
    },
    {
     "name": "stderr",
     "output_type": "stream",
     "text": [
      "$CHE: possibly delisted; no price data found  (1d 2014-01-28 00:00:00 -> 2025-01-28)\n"
     ]
    },
    {
     "name": "stdout",
     "output_type": "stream",
     "text": [
      "No data found for CHE (10y)\n",
      "Skipped CHE - insufficient data\n",
      "Processing DIN...\n"
     ]
    },
    {
     "name": "stderr",
     "output_type": "stream",
     "text": [
      "$DIN: possibly delisted; no price data found  (1d 2014-01-28 00:00:00 -> 2025-01-28)\n"
     ]
    },
    {
     "name": "stdout",
     "output_type": "stream",
     "text": [
      "No data found for DIN (10y)\n",
      "Skipped DIN - insufficient data\n",
      "Processing BANC...\n",
      "Processing OI...\n",
      "Processing GD...\n",
      "Processing COLB...\n",
      "Processing SKT...\n",
      "Processing CNI...\n",
      "Processing AMAT...\n",
      "Processing KBR...\n",
      "Processing AMKR...\n",
      "Processing PFX...\n",
      "Processing NI...\n",
      "Processing OSUR...\n",
      "Processing GNW...\n",
      "Processing ATI...\n",
      "Processing BHLB...\n",
      "Processing TBBK...\n",
      "Processing NUS...\n",
      "Processing BMI...\n",
      "Processing ASC...\n",
      "Processing CNK...\n",
      "Processing DHT...\n",
      "Processing SNX...\n",
      "Processing ATR...\n",
      "Processing MCN...\n",
      "Processing LRN...\n",
      "Processing COP...\n",
      "Processing LIN...\n",
      "Processing DQ...\n",
      "Processing CSL...\n",
      "Processing LPSN...\n",
      "Processing GBCI...\n",
      "Processing ASML...\n",
      "Processing STAA...\n",
      "Processing CEE...\n",
      "Processing TWN...\n",
      "Processing PAG...\n",
      "Processing KMB...\n",
      "Processing PAYX...\n",
      "Processing LXP...\n",
      "Processing HPS...\n",
      "Processing PAAS...\n",
      "Processing GPK...\n",
      "Processing TMHC...\n",
      "Processing THFF...\n",
      "Processing NLY...\n",
      "Processing SPH...\n",
      "Processing JWN...\n",
      "Processing GOOG...\n",
      "Processing BIP...\n",
      "Processing MNTX...\n",
      "Processing GILD...\n",
      "Processing BUD...\n",
      "Processing HPQ...\n",
      "Processing DLTR...\n",
      "Processing LTC...\n",
      "Processing PB...\n",
      "Processing FRT...\n",
      "Processing HII...\n",
      "Processing HBIO...\n",
      "Processing PNC...\n",
      "Processing GHY...\n",
      "Processing ADBE...\n",
      "Processing TNK...\n",
      "Processing NL...\n",
      "Processing DDD...\n",
      "Processing CNTY...\n",
      "Processing TRAK...\n",
      "Processing GEL...\n",
      "Processing FNB...\n",
      "Processing FFIN...\n",
      "Processing COO...\n",
      "Processing MCBI...\n",
      "Processing LPTH...\n",
      "Processing TER...\n",
      "Processing TV...\n",
      "Processing DDS...\n",
      "Processing BXC...\n",
      "Processing PIM...\n",
      "Processing GSM...\n",
      "Processing THS...\n",
      "Processing ZUMZ...\n",
      "Processing TITN...\n",
      "Processing MNRO...\n",
      "Processing PENN...\n",
      "Processing SRV...\n",
      "Processing KGC...\n",
      "Processing CHY...\n",
      "Processing BWG...\n",
      "Processing BCE...\n",
      "Processing GNRC...\n",
      "Processing MHLD...\n"
     ]
    },
    {
     "name": "stderr",
     "output_type": "stream",
     "text": [
      "429 Client Error: Too Many Requests for url: https://query2.finance.yahoo.com/v10/finance/quoteSummary/MHLD?modules=financialData%2CquoteType%2CdefaultKeyStatistics%2CassetProfile%2CsummaryDetail&corsDomain=finance.yahoo.com&formatted=false&symbol=MHLD&crumb=Edge%3A+Too+Many+Requests\n"
     ]
    },
    {
     "name": "stdout",
     "output_type": "stream",
     "text": [
      "Error processing MHLD: Expecting value: line 1 column 1 (char 0)\n",
      "Processing ORA...\n"
     ]
    },
    {
     "name": "stderr",
     "output_type": "stream",
     "text": [
      "$ORA: possibly delisted; no price data found  (1d 2014-01-28 00:00:00 -> 2025-01-28)\n"
     ]
    },
    {
     "name": "stdout",
     "output_type": "stream",
     "text": [
      "No data found for ORA (10y)\n",
      "Skipped ORA - insufficient data\n",
      "Processing LAND...\n"
     ]
    },
    {
     "name": "stderr",
     "output_type": "stream",
     "text": [
      "$LAND: possibly delisted; no price data found  (1d 2014-01-28 00:00:00 -> 2025-01-28)\n"
     ]
    },
    {
     "name": "stdout",
     "output_type": "stream",
     "text": [
      "No data found for LAND (10y)\n",
      "Skipped LAND - insufficient data\n",
      "Processing AFG...\n"
     ]
    },
    {
     "name": "stderr",
     "output_type": "stream",
     "text": [
      "$AFG: possibly delisted; no price data found  (1d 2014-01-28 00:00:00 -> 2025-01-28)\n"
     ]
    },
    {
     "name": "stdout",
     "output_type": "stream",
     "text": [
      "No data found for AFG (10y)\n",
      "Skipped AFG - insufficient data\n",
      "Processing MGEE...\n"
     ]
    },
    {
     "name": "stderr",
     "output_type": "stream",
     "text": [
      "$MGEE: possibly delisted; no price data found  (1d 2014-01-28 00:00:00 -> 2025-01-28)\n"
     ]
    },
    {
     "name": "stdout",
     "output_type": "stream",
     "text": [
      "No data found for MGEE (10y)\n",
      "Skipped MGEE - insufficient data\n",
      "Processing PNR...\n"
     ]
    },
    {
     "name": "stderr",
     "output_type": "stream",
     "text": [
      "$PNR: possibly delisted; no price data found  (1d 2014-01-28 00:00:00 -> 2025-01-28)\n"
     ]
    },
    {
     "name": "stdout",
     "output_type": "stream",
     "text": [
      "No data found for PNR (10y)\n",
      "Skipped PNR - insufficient data\n",
      "Processing HAFC...\n"
     ]
    },
    {
     "name": "stderr",
     "output_type": "stream",
     "text": [
      "Failed to get ticker 'HAFC' reason: Expecting value: line 1 column 1 (char 0)\n",
      "$HAFC: possibly delisted; no timezone found\n"
     ]
    },
    {
     "name": "stdout",
     "output_type": "stream",
     "text": [
      "No data found for HAFC (10y)\n",
      "Skipped HAFC - insufficient data\n",
      "Processing FLO...\n"
     ]
    },
    {
     "name": "stderr",
     "output_type": "stream",
     "text": [
      "$FLO: possibly delisted; no price data found  (1d 2014-01-28 00:00:00 -> 2025-01-28)\n"
     ]
    },
    {
     "name": "stdout",
     "output_type": "stream",
     "text": [
      "No data found for FLO (10y)\n",
      "Skipped FLO - insufficient data\n",
      "Processing PL...\n"
     ]
    },
    {
     "name": "stderr",
     "output_type": "stream",
     "text": [
      "$PL: possibly delisted; no price data found  (1d 2014-01-28 00:00:00 -> 2025-01-28)\n"
     ]
    },
    {
     "name": "stdout",
     "output_type": "stream",
     "text": [
      "No data found for PL (10y)\n",
      "Skipped PL - insufficient data\n",
      "Processing AWP...\n"
     ]
    },
    {
     "name": "stderr",
     "output_type": "stream",
     "text": [
      "$AWP: possibly delisted; no price data found  (1d 2014-01-28 00:00:00 -> 2025-01-28)\n"
     ]
    },
    {
     "name": "stdout",
     "output_type": "stream",
     "text": [
      "No data found for AWP (10y)\n",
      "Skipped AWP - insufficient data\n",
      "Processing DBL...\n"
     ]
    },
    {
     "name": "stderr",
     "output_type": "stream",
     "text": [
      "$DBL: possibly delisted; no price data found  (1d 2014-01-28 00:00:00 -> 2025-01-28)\n"
     ]
    },
    {
     "name": "stdout",
     "output_type": "stream",
     "text": [
      "No data found for DBL (10y)\n",
      "Skipped DBL - insufficient data\n",
      "Processing CCO...\n"
     ]
    },
    {
     "name": "stderr",
     "output_type": "stream",
     "text": [
      "$CCO: possibly delisted; no price data found  (1d 2014-01-28 00:00:00 -> 2025-01-28)\n"
     ]
    },
    {
     "name": "stdout",
     "output_type": "stream",
     "text": [
      "No data found for CCO (10y)\n",
      "Skipped CCO - insufficient data\n",
      "Processing KF...\n"
     ]
    },
    {
     "name": "stderr",
     "output_type": "stream",
     "text": [
      "$KF: possibly delisted; no price data found  (1d 2014-01-28 00:00:00 -> 2025-01-28)\n"
     ]
    },
    {
     "name": "stdout",
     "output_type": "stream",
     "text": [
      "No data found for KF (10y)\n",
      "Skipped KF - insufficient data\n",
      "Processing BTO...\n"
     ]
    },
    {
     "name": "stderr",
     "output_type": "stream",
     "text": [
      "$BTO: possibly delisted; no price data found  (1d 2014-01-28 00:00:00 -> 2025-01-28)\n"
     ]
    },
    {
     "name": "stdout",
     "output_type": "stream",
     "text": [
      "No data found for BTO (10y)\n",
      "Skipped BTO - insufficient data\n",
      "Processing BANF...\n"
     ]
    },
    {
     "name": "stderr",
     "output_type": "stream",
     "text": [
      "$BANF: possibly delisted; no price data found  (1d 2014-01-28 00:00:00 -> 2025-01-28)\n"
     ]
    },
    {
     "name": "stdout",
     "output_type": "stream",
     "text": [
      "No data found for BANF (10y)\n",
      "Skipped BANF - insufficient data\n",
      "Processing CPSS...\n"
     ]
    },
    {
     "name": "stderr",
     "output_type": "stream",
     "text": [
      "$CPSS: possibly delisted; no price data found  (1d 2014-01-28 00:00:00 -> 2025-01-28)\n"
     ]
    },
    {
     "name": "stdout",
     "output_type": "stream",
     "text": [
      "No data found for CPSS (10y)\n",
      "Skipped CPSS - insufficient data\n",
      "Processing LVS...\n"
     ]
    },
    {
     "name": "stderr",
     "output_type": "stream",
     "text": [
      "$LVS: possibly delisted; no price data found  (1d 2014-01-28 00:00:00 -> 2025-01-28)\n"
     ]
    },
    {
     "name": "stdout",
     "output_type": "stream",
     "text": [
      "No data found for LVS (10y)\n",
      "Skipped LVS - insufficient data\n",
      "Processing TNC...\n"
     ]
    },
    {
     "name": "stderr",
     "output_type": "stream",
     "text": [
      "$TNC: possibly delisted; no price data found  (1d 2014-01-28 00:00:00 -> 2025-01-28)\n"
     ]
    },
    {
     "name": "stdout",
     "output_type": "stream",
     "text": [
      "No data found for TNC (10y)\n",
      "Skipped TNC - insufficient data\n",
      "Processing TCPC...\n"
     ]
    },
    {
     "name": "stderr",
     "output_type": "stream",
     "text": [
      "$TCPC: possibly delisted; no price data found  (1d 2014-01-28 00:00:00 -> 2025-01-28)\n"
     ]
    },
    {
     "name": "stdout",
     "output_type": "stream",
     "text": [
      "No data found for TCPC (10y)\n",
      "Skipped TCPC - insufficient data\n",
      "Processing KMI...\n"
     ]
    },
    {
     "name": "stderr",
     "output_type": "stream",
     "text": [
      "$KMI: possibly delisted; no price data found  (1d 2014-01-28 00:00:00 -> 2025-01-28)\n"
     ]
    },
    {
     "name": "stdout",
     "output_type": "stream",
     "text": [
      "No data found for KMI (10y)\n",
      "Skipped KMI - insufficient data\n",
      "Processing ZEUS...\n"
     ]
    },
    {
     "name": "stderr",
     "output_type": "stream",
     "text": [
      "$ZEUS: possibly delisted; no price data found  (1d 2014-01-28 00:00:00 -> 2025-01-28)\n"
     ]
    },
    {
     "name": "stdout",
     "output_type": "stream",
     "text": [
      "No data found for ZEUS (10y)\n",
      "Skipped ZEUS - insufficient data\n",
      "Processing CSV...\n"
     ]
    },
    {
     "name": "stderr",
     "output_type": "stream",
     "text": [
      "$CSV: possibly delisted; no price data found  (1d 2014-01-28 00:00:00 -> 2025-01-28)\n"
     ]
    },
    {
     "name": "stdout",
     "output_type": "stream",
     "text": [
      "No data found for CSV (10y)\n",
      "Skipped CSV - insufficient data\n",
      "Processing TPL...\n"
     ]
    },
    {
     "name": "stderr",
     "output_type": "stream",
     "text": [
      "$TPL: possibly delisted; no price data found  (1d 2014-01-28 00:00:00 -> 2025-01-28)\n"
     ]
    },
    {
     "name": "stdout",
     "output_type": "stream",
     "text": [
      "No data found for TPL (10y)\n",
      "Skipped TPL - insufficient data\n",
      "Processing LSCC...\n"
     ]
    },
    {
     "name": "stderr",
     "output_type": "stream",
     "text": [
      "$LSCC: possibly delisted; no price data found  (1d 2014-01-28 00:00:00 -> 2025-01-28)\n"
     ]
    },
    {
     "name": "stdout",
     "output_type": "stream",
     "text": [
      "No data found for LSCC (10y)\n",
      "Skipped LSCC - insufficient data\n",
      "Processing DCTH...\n"
     ]
    },
    {
     "name": "stderr",
     "output_type": "stream",
     "text": [
      "$DCTH: possibly delisted; no price data found  (1d 2014-01-28 00:00:00 -> 2025-01-28)\n"
     ]
    },
    {
     "name": "stdout",
     "output_type": "stream",
     "text": [
      "No data found for DCTH (10y)\n",
      "Skipped DCTH - insufficient data\n",
      "Processing TOL...\n"
     ]
    },
    {
     "name": "stderr",
     "output_type": "stream",
     "text": [
      "$TOL: possibly delisted; no price data found  (1d 2014-01-28 00:00:00 -> 2025-01-28)\n"
     ]
    },
    {
     "name": "stdout",
     "output_type": "stream",
     "text": [
      "No data found for TOL (10y)\n",
      "Skipped TOL - insufficient data\n",
      "Processing AFB...\n"
     ]
    },
    {
     "name": "stderr",
     "output_type": "stream",
     "text": [
      "$AFB: possibly delisted; no price data found  (1d 2014-01-28 00:00:00 -> 2025-01-28)\n"
     ]
    },
    {
     "name": "stdout",
     "output_type": "stream",
     "text": [
      "No data found for AFB (10y)\n",
      "Skipped AFB - insufficient data\n",
      "Processing AXTI...\n"
     ]
    },
    {
     "name": "stderr",
     "output_type": "stream",
     "text": [
      "$AXTI: possibly delisted; no price data found  (1d 2014-01-28 00:00:00 -> 2025-01-28)\n"
     ]
    },
    {
     "name": "stdout",
     "output_type": "stream",
     "text": [
      "No data found for AXTI (10y)\n",
      "Skipped AXTI - insufficient data\n",
      "Processing WSBF...\n"
     ]
    },
    {
     "name": "stderr",
     "output_type": "stream",
     "text": [
      "$WSBF: possibly delisted; no price data found  (1d 2014-01-28 00:00:00 -> 2025-01-28)\n"
     ]
    },
    {
     "name": "stdout",
     "output_type": "stream",
     "text": [
      "No data found for WSBF (10y)\n",
      "Skipped WSBF - insufficient data\n",
      "Processing PMT...\n"
     ]
    },
    {
     "name": "stderr",
     "output_type": "stream",
     "text": [
      "$PMT: possibly delisted; no price data found  (1d 2014-01-28 00:00:00 -> 2025-01-28)\n"
     ]
    },
    {
     "name": "stdout",
     "output_type": "stream",
     "text": [
      "No data found for PMT (10y)\n",
      "Skipped PMT - insufficient data\n",
      "Processing BRC...\n"
     ]
    },
    {
     "name": "stderr",
     "output_type": "stream",
     "text": [
      "$BRC: possibly delisted; no price data found  (1d 2014-01-28 00:00:00 -> 2025-01-28)\n"
     ]
    },
    {
     "name": "stdout",
     "output_type": "stream",
     "text": [
      "No data found for BRC (10y)\n",
      "Skipped BRC - insufficient data\n",
      "Processing TRST...\n"
     ]
    },
    {
     "name": "stderr",
     "output_type": "stream",
     "text": [
      "$TRST: possibly delisted; no price data found  (1d 2014-01-28 00:00:00 -> 2025-01-28)\n"
     ]
    },
    {
     "name": "stdout",
     "output_type": "stream",
     "text": [
      "No data found for TRST (10y)\n",
      "Skipped TRST - insufficient data\n",
      "Processing KNX...\n"
     ]
    },
    {
     "name": "stderr",
     "output_type": "stream",
     "text": [
      "$KNX: possibly delisted; no price data found  (1d 2014-01-28 00:00:00 -> 2025-01-28)\n"
     ]
    },
    {
     "name": "stdout",
     "output_type": "stream",
     "text": [
      "No data found for KNX (10y)\n",
      "Skipped KNX - insufficient data\n",
      "Processing LKQ...\n"
     ]
    },
    {
     "name": "stderr",
     "output_type": "stream",
     "text": [
      "$LKQ: possibly delisted; no price data found  (1d 2014-01-28 00:00:00 -> 2025-01-28)\n"
     ]
    },
    {
     "name": "stdout",
     "output_type": "stream",
     "text": [
      "No data found for LKQ (10y)\n",
      "Skipped LKQ - insufficient data\n",
      "Processing TTEC...\n"
     ]
    },
    {
     "name": "stderr",
     "output_type": "stream",
     "text": [
      "$TTEC: possibly delisted; no price data found  (1d 2014-01-28 00:00:00 -> 2025-01-28)\n"
     ]
    },
    {
     "name": "stdout",
     "output_type": "stream",
     "text": [
      "No data found for TTEC (10y)\n",
      "Skipped TTEC - insufficient data\n",
      "Processing TDC...\n"
     ]
    },
    {
     "name": "stderr",
     "output_type": "stream",
     "text": [
      "$TDC: possibly delisted; no price data found  (1d 2014-01-28 00:00:00 -> 2025-01-28)\n"
     ]
    },
    {
     "name": "stdout",
     "output_type": "stream",
     "text": [
      "No data found for TDC (10y)\n",
      "Skipped TDC - insufficient data\n",
      "Processing OPY...\n"
     ]
    },
    {
     "name": "stderr",
     "output_type": "stream",
     "text": [
      "$OPY: possibly delisted; no price data found  (1d 2014-01-28 00:00:00 -> 2025-01-28)\n"
     ]
    },
    {
     "name": "stdout",
     "output_type": "stream",
     "text": [
      "No data found for OPY (10y)\n",
      "Skipped OPY - insufficient data\n",
      "Processing TECH...\n"
     ]
    },
    {
     "name": "stderr",
     "output_type": "stream",
     "text": [
      "$TECH: possibly delisted; no price data found  (1d 2014-01-28 00:00:00 -> 2025-01-28)\n"
     ]
    },
    {
     "name": "stdout",
     "output_type": "stream",
     "text": [
      "No data found for TECH (10y)\n",
      "Skipped TECH - insufficient data\n",
      "Processing AOSL...\n"
     ]
    },
    {
     "name": "stderr",
     "output_type": "stream",
     "text": [
      "$AOSL: possibly delisted; no price data found  (1d 2014-01-28 00:00:00 -> 2025-01-28)\n"
     ]
    },
    {
     "name": "stdout",
     "output_type": "stream",
     "text": [
      "No data found for AOSL (10y)\n",
      "Skipped AOSL - insufficient data\n",
      "Processing PDFS...\n"
     ]
    },
    {
     "name": "stderr",
     "output_type": "stream",
     "text": [
      "$PDFS: possibly delisted; no price data found  (1d 2014-01-28 00:00:00 -> 2025-01-28)\n"
     ]
    },
    {
     "name": "stdout",
     "output_type": "stream",
     "text": [
      "No data found for PDFS (10y)\n",
      "Skipped PDFS - insufficient data\n",
      "Processing TSLA...\n"
     ]
    },
    {
     "name": "stderr",
     "output_type": "stream",
     "text": [
      "$TSLA: possibly delisted; no price data found  (1d 2014-01-28 00:00:00 -> 2025-01-28)\n"
     ]
    },
    {
     "name": "stdout",
     "output_type": "stream",
     "text": [
      "No data found for TSLA (10y)\n",
      "Skipped TSLA - insufficient data\n",
      "Processing OLN...\n"
     ]
    },
    {
     "name": "stderr",
     "output_type": "stream",
     "text": [
      "$OLN: possibly delisted; no price data found  (1d 2014-01-28 00:00:00 -> 2025-01-28)\n"
     ]
    },
    {
     "name": "stdout",
     "output_type": "stream",
     "text": [
      "No data found for OLN (10y)\n",
      "Skipped OLN - insufficient data\n",
      "Processing CNSL...\n"
     ]
    },
    {
     "name": "stderr",
     "output_type": "stream",
     "text": [
      "$CNSL: possibly delisted; no price data found  (1d 2014-01-28 00:00:00 -> 2025-01-28)\n"
     ]
    },
    {
     "name": "stdout",
     "output_type": "stream",
     "text": [
      "No data found for CNSL (10y)\n",
      "Skipped CNSL - insufficient data\n",
      "Processing AWR...\n"
     ]
    },
    {
     "name": "stderr",
     "output_type": "stream",
     "text": [
      "$AWR: possibly delisted; no price data found  (1d 2014-01-28 00:00:00 -> 2025-01-28)\n"
     ]
    },
    {
     "name": "stdout",
     "output_type": "stream",
     "text": [
      "No data found for AWR (10y)\n",
      "Skipped AWR - insufficient data\n",
      "Processing LEE...\n"
     ]
    },
    {
     "name": "stderr",
     "output_type": "stream",
     "text": [
      "$LEE: possibly delisted; no price data found  (1d 2014-01-28 00:00:00 -> 2025-01-28)\n"
     ]
    },
    {
     "name": "stdout",
     "output_type": "stream",
     "text": [
      "No data found for LEE (10y)\n",
      "Skipped LEE - insufficient data\n",
      "Processing PKG...\n"
     ]
    },
    {
     "name": "stderr",
     "output_type": "stream",
     "text": [
      "$PKG: possibly delisted; no price data found  (1d 2014-01-28 00:00:00 -> 2025-01-28)\n"
     ]
    },
    {
     "name": "stdout",
     "output_type": "stream",
     "text": [
      "No data found for PKG (10y)\n",
      "Skipped PKG - insufficient data\n",
      "Processing TRNO...\n"
     ]
    },
    {
     "name": "stderr",
     "output_type": "stream",
     "text": [
      "$TRNO: possibly delisted; no price data found  (1d 2014-01-28 00:00:00 -> 2025-01-28)\n"
     ]
    },
    {
     "name": "stdout",
     "output_type": "stream",
     "text": [
      "No data found for TRNO (10y)\n",
      "Skipped TRNO - insufficient data\n",
      "Processing LBTYB...\n"
     ]
    },
    {
     "name": "stderr",
     "output_type": "stream",
     "text": [
      "$LBTYB: possibly delisted; no price data found  (1d 2014-01-28 00:00:00 -> 2025-01-28)\n"
     ]
    },
    {
     "name": "stdout",
     "output_type": "stream",
     "text": [
      "No data found for LBTYB (10y)\n",
      "Skipped LBTYB - insufficient data\n",
      "Processing PCF...\n"
     ]
    },
    {
     "name": "stderr",
     "output_type": "stream",
     "text": [
      "$PCF: possibly delisted; no price data found  (1d 2014-01-28 00:00:00 -> 2025-01-28)\n"
     ]
    },
    {
     "name": "stdout",
     "output_type": "stream",
     "text": [
      "No data found for PCF (10y)\n",
      "Skipped PCF - insufficient data\n",
      "Processing NWL...\n"
     ]
    },
    {
     "name": "stderr",
     "output_type": "stream",
     "text": [
      "$NWL: possibly delisted; no price data found  (1d 2014-01-28 00:00:00 -> 2025-01-28)\n"
     ]
    },
    {
     "name": "stdout",
     "output_type": "stream",
     "text": [
      "No data found for NWL (10y)\n",
      "Skipped NWL - insufficient data\n",
      "Processing SPG...\n"
     ]
    },
    {
     "name": "stderr",
     "output_type": "stream",
     "text": [
      "$SPG: possibly delisted; no price data found  (1d 2014-01-28 00:00:00 -> 2025-01-28)\n"
     ]
    },
    {
     "name": "stdout",
     "output_type": "stream",
     "text": [
      "No data found for SPG (10y)\n",
      "Skipped SPG - insufficient data\n",
      "Processing DE...\n"
     ]
    },
    {
     "name": "stderr",
     "output_type": "stream",
     "text": [
      "$DE: possibly delisted; no price data found  (1d 2014-01-28 00:00:00 -> 2025-01-28)\n"
     ]
    },
    {
     "name": "stdout",
     "output_type": "stream",
     "text": [
      "No data found for DE (10y)\n",
      "Skipped DE - insufficient data\n",
      "Processing HSII...\n"
     ]
    },
    {
     "name": "stderr",
     "output_type": "stream",
     "text": [
      "$HSII: possibly delisted; no price data found  (1d 2014-01-28 00:00:00 -> 2025-01-28)\n"
     ]
    },
    {
     "name": "stdout",
     "output_type": "stream",
     "text": [
      "No data found for HSII (10y)\n",
      "Skipped HSII - insufficient data\n",
      "Processing NGVC...\n"
     ]
    },
    {
     "name": "stderr",
     "output_type": "stream",
     "text": [
      "$NGVC: possibly delisted; no price data found  (1d 2014-01-28 00:00:00 -> 2025-01-28)\n"
     ]
    },
    {
     "name": "stdout",
     "output_type": "stream",
     "text": [
      "No data found for NGVC (10y)\n",
      "Skipped NGVC - insufficient data\n",
      "Processing NBR...\n"
     ]
    },
    {
     "name": "stderr",
     "output_type": "stream",
     "text": [
      "$NBR: possibly delisted; no price data found  (1d 2014-01-28 00:00:00 -> 2025-01-28)\n"
     ]
    },
    {
     "name": "stdout",
     "output_type": "stream",
     "text": [
      "No data found for NBR (10y)\n",
      "Skipped NBR - insufficient data\n",
      "Processing SKX...\n"
     ]
    },
    {
     "name": "stderr",
     "output_type": "stream",
     "text": [
      "$SKX: possibly delisted; no price data found  (1d 2014-01-28 00:00:00 -> 2025-01-28)\n"
     ]
    },
    {
     "name": "stdout",
     "output_type": "stream",
     "text": [
      "No data found for SKX (10y)\n",
      "Skipped SKX - insufficient data\n",
      "Processing DGX...\n"
     ]
    },
    {
     "name": "stderr",
     "output_type": "stream",
     "text": [
      "$DGX: possibly delisted; no price data found  (1d 2014-01-28 00:00:00 -> 2025-01-28)\n"
     ]
    },
    {
     "name": "stdout",
     "output_type": "stream",
     "text": [
      "No data found for DGX (10y)\n",
      "Skipped DGX - insufficient data\n",
      "Processing SUP...\n"
     ]
    },
    {
     "name": "stderr",
     "output_type": "stream",
     "text": [
      "$SUP: possibly delisted; no price data found  (1d 2014-01-28 00:00:00 -> 2025-01-28)\n"
     ]
    },
    {
     "name": "stdout",
     "output_type": "stream",
     "text": [
      "No data found for SUP (10y)\n",
      "Skipped SUP - insufficient data\n",
      "Processing BH...\n"
     ]
    },
    {
     "name": "stderr",
     "output_type": "stream",
     "text": [
      "$BH: possibly delisted; no price data found  (1d 2014-01-28 00:00:00 -> 2025-01-28)\n"
     ]
    },
    {
     "name": "stdout",
     "output_type": "stream",
     "text": [
      "No data found for BH (10y)\n",
      "Skipped BH - insufficient data\n",
      "Processing BRO...\n"
     ]
    },
    {
     "name": "stderr",
     "output_type": "stream",
     "text": [
      "$BRO: possibly delisted; no price data found  (1d 2014-01-28 00:00:00 -> 2025-01-28)\n"
     ]
    },
    {
     "name": "stdout",
     "output_type": "stream",
     "text": [
      "No data found for BRO (10y)\n",
      "Skipped BRO - insufficient data\n",
      "Processing LBAI...\n"
     ]
    },
    {
     "name": "stderr",
     "output_type": "stream",
     "text": [
      "$LBAI: possibly delisted; no price data found  (1d 2014-01-28 00:00:00 -> 2025-01-28)\n"
     ]
    },
    {
     "name": "stdout",
     "output_type": "stream",
     "text": [
      "No data found for LBAI (10y)\n",
      "Skipped LBAI - insufficient data\n",
      "Processing CHTR...\n"
     ]
    },
    {
     "name": "stderr",
     "output_type": "stream",
     "text": [
      "$CHTR: possibly delisted; no price data found  (1d 2014-01-28 00:00:00 -> 2025-01-28)\n"
     ]
    },
    {
     "name": "stdout",
     "output_type": "stream",
     "text": [
      "No data found for CHTR (10y)\n",
      "Skipped CHTR - insufficient data\n",
      "Processing GTLS...\n"
     ]
    },
    {
     "name": "stderr",
     "output_type": "stream",
     "text": [
      "$GTLS: possibly delisted; no price data found  (1d 2014-01-28 00:00:00 -> 2025-01-28)\n"
     ]
    },
    {
     "name": "stdout",
     "output_type": "stream",
     "text": [
      "No data found for GTLS (10y)\n",
      "Skipped GTLS - insufficient data\n",
      "Processing SKY...\n"
     ]
    },
    {
     "name": "stderr",
     "output_type": "stream",
     "text": [
      "$SKY: possibly delisted; no price data found  (1d 2014-01-28 00:00:00 -> 2025-01-28)\n"
     ]
    },
    {
     "name": "stdout",
     "output_type": "stream",
     "text": [
      "No data found for SKY (10y)\n",
      "Skipped SKY - insufficient data\n",
      "Processing NRG...\n"
     ]
    },
    {
     "name": "stderr",
     "output_type": "stream",
     "text": [
      "$NRG: possibly delisted; no price data found  (1d 2014-01-28 00:00:00 -> 2025-01-28)\n"
     ]
    },
    {
     "name": "stdout",
     "output_type": "stream",
     "text": [
      "No data found for NRG (10y)\n",
      "Skipped NRG - insufficient data\n",
      "Processing NOW...\n"
     ]
    },
    {
     "name": "stderr",
     "output_type": "stream",
     "text": [
      "$NOW: possibly delisted; no price data found  (1d 2014-01-28 00:00:00 -> 2025-01-28)\n"
     ]
    },
    {
     "name": "stdout",
     "output_type": "stream",
     "text": [
      "No data found for NOW (10y)\n",
      "Skipped NOW - insufficient data\n",
      "Processing HIMX...\n"
     ]
    },
    {
     "name": "stderr",
     "output_type": "stream",
     "text": [
      "$HIMX: possibly delisted; no price data found  (1d 2014-01-28 00:00:00 -> 2025-01-28)\n"
     ]
    },
    {
     "name": "stdout",
     "output_type": "stream",
     "text": [
      "No data found for HIMX (10y)\n",
      "Skipped HIMX - insufficient data\n",
      "Processing FITB...\n"
     ]
    },
    {
     "name": "stderr",
     "output_type": "stream",
     "text": [
      "$FITB: possibly delisted; no price data found  (1d 2014-01-28 00:00:00 -> 2025-01-28)\n"
     ]
    },
    {
     "name": "stdout",
     "output_type": "stream",
     "text": [
      "No data found for FITB (10y)\n",
      "Skipped FITB - insufficient data\n",
      "Processing HES...\n"
     ]
    },
    {
     "name": "stderr",
     "output_type": "stream",
     "text": [
      "$HES: possibly delisted; no price data found  (1d 2014-01-28 00:00:00 -> 2025-01-28)\n"
     ]
    },
    {
     "name": "stdout",
     "output_type": "stream",
     "text": [
      "No data found for HES (10y)\n",
      "Skipped HES - insufficient data\n",
      "Processing GSL...\n"
     ]
    },
    {
     "name": "stderr",
     "output_type": "stream",
     "text": [
      "$GSL: possibly delisted; no price data found  (1d 2014-01-28 00:00:00 -> 2025-01-28)\n"
     ]
    },
    {
     "name": "stdout",
     "output_type": "stream",
     "text": [
      "No data found for GSL (10y)\n",
      "Skipped GSL - insufficient data\n",
      "Processing LSBK...\n"
     ]
    },
    {
     "name": "stderr",
     "output_type": "stream",
     "text": [
      "$LSBK: possibly delisted; no price data found  (1d 2014-01-28 00:00:00 -> 2025-01-28)\n"
     ]
    },
    {
     "name": "stdout",
     "output_type": "stream",
     "text": [
      "No data found for LSBK (10y)\n",
      "Skipped LSBK - insufficient data\n",
      "Processing D...\n"
     ]
    },
    {
     "name": "stderr",
     "output_type": "stream",
     "text": [
      "$D: possibly delisted; no price data found  (1d 2014-01-28 00:00:00 -> 2025-01-28)\n"
     ]
    },
    {
     "name": "stdout",
     "output_type": "stream",
     "text": [
      "No data found for D (10y)\n",
      "Skipped D - insufficient data\n",
      "Processing PRGO...\n"
     ]
    },
    {
     "name": "stderr",
     "output_type": "stream",
     "text": [
      "$PRGO: possibly delisted; no price data found  (1d 2014-01-28 00:00:00 -> 2025-01-28)\n"
     ]
    },
    {
     "name": "stdout",
     "output_type": "stream",
     "text": [
      "No data found for PRGO (10y)\n",
      "Skipped PRGO - insufficient data\n",
      "Processing NIE...\n"
     ]
    },
    {
     "name": "stderr",
     "output_type": "stream",
     "text": [
      "$NIE: possibly delisted; no price data found  (1d 2014-01-28 00:00:00 -> 2025-01-28)\n"
     ]
    },
    {
     "name": "stdout",
     "output_type": "stream",
     "text": [
      "No data found for NIE (10y)\n",
      "Skipped NIE - insufficient data\n",
      "Processing HE...\n"
     ]
    },
    {
     "name": "stderr",
     "output_type": "stream",
     "text": [
      "$HE: possibly delisted; no price data found  (1d 2014-01-28 00:00:00 -> 2025-01-28)\n"
     ]
    },
    {
     "name": "stdout",
     "output_type": "stream",
     "text": [
      "No data found for HE (10y)\n",
      "Skipped HE - insufficient data\n",
      "Processing SHW...\n"
     ]
    },
    {
     "name": "stderr",
     "output_type": "stream",
     "text": [
      "$SHW: possibly delisted; no price data found  (1d 2014-01-28 00:00:00 -> 2025-01-28)\n"
     ]
    },
    {
     "name": "stdout",
     "output_type": "stream",
     "text": [
      "No data found for SHW (10y)\n",
      "Skipped SHW - insufficient data\n",
      "Processing FIBK...\n"
     ]
    },
    {
     "name": "stderr",
     "output_type": "stream",
     "text": [
      "$FIBK: possibly delisted; no price data found  (1d 2014-01-28 00:00:00 -> 2025-01-28)\n"
     ]
    },
    {
     "name": "stdout",
     "output_type": "stream",
     "text": [
      "No data found for FIBK (10y)\n",
      "Skipped FIBK - insufficient data\n",
      "Processing AGI...\n"
     ]
    },
    {
     "name": "stderr",
     "output_type": "stream",
     "text": [
      "$AGI: possibly delisted; no price data found  (1d 2014-01-28 00:00:00 -> 2025-01-28)\n"
     ]
    },
    {
     "name": "stdout",
     "output_type": "stream",
     "text": [
      "No data found for AGI (10y)\n",
      "Skipped AGI - insufficient data\n",
      "Processing OHI...\n"
     ]
    },
    {
     "name": "stderr",
     "output_type": "stream",
     "text": [
      "$OHI: possibly delisted; no price data found  (1d 2014-01-28 00:00:00 -> 2025-01-28)\n"
     ]
    },
    {
     "name": "stdout",
     "output_type": "stream",
     "text": [
      "No data found for OHI (10y)\n",
      "Skipped OHI - insufficient data\n",
      "Processing PHI...\n"
     ]
    },
    {
     "name": "stderr",
     "output_type": "stream",
     "text": [
      "$PHI: possibly delisted; no price data found  (1d 2014-01-28 00:00:00 -> 2025-01-28)\n"
     ]
    },
    {
     "name": "stdout",
     "output_type": "stream",
     "text": [
      "No data found for PHI (10y)\n",
      "Skipped PHI - insufficient data\n",
      "Processing BGT...\n"
     ]
    },
    {
     "name": "stderr",
     "output_type": "stream",
     "text": [
      "$BGT: possibly delisted; no price data found  (1d 2014-01-28 00:00:00 -> 2025-01-28)\n"
     ]
    },
    {
     "name": "stdout",
     "output_type": "stream",
     "text": [
      "No data found for BGT (10y)\n",
      "Skipped BGT - insufficient data\n",
      "Processing ORLY...\n"
     ]
    },
    {
     "name": "stderr",
     "output_type": "stream",
     "text": [
      "$ORLY: possibly delisted; no price data found  (1d 2014-01-28 00:00:00 -> 2025-01-28)\n"
     ]
    },
    {
     "name": "stdout",
     "output_type": "stream",
     "text": [
      "No data found for ORLY (10y)\n",
      "Skipped ORLY - insufficient data\n",
      "Processing PEBO...\n"
     ]
    },
    {
     "name": "stderr",
     "output_type": "stream",
     "text": [
      "$PEBO: possibly delisted; no price data found  (1d 2014-01-28 00:00:00 -> 2025-01-28)\n"
     ]
    },
    {
     "name": "stdout",
     "output_type": "stream",
     "text": [
      "No data found for PEBO (10y)\n",
      "Skipped PEBO - insufficient data\n",
      "Processing HCKT...\n"
     ]
    },
    {
     "name": "stderr",
     "output_type": "stream",
     "text": [
      "$HCKT: possibly delisted; no price data found  (1d 2014-01-28 00:00:00 -> 2025-01-28)\n"
     ]
    },
    {
     "name": "stdout",
     "output_type": "stream",
     "text": [
      "No data found for HCKT (10y)\n",
      "Skipped HCKT - insufficient data\n",
      "Processing OSBC...\n"
     ]
    },
    {
     "name": "stderr",
     "output_type": "stream",
     "text": [
      "$OSBC: possibly delisted; no price data found  (1d 2014-01-28 00:00:00 -> 2025-01-28)\n"
     ]
    },
    {
     "name": "stdout",
     "output_type": "stream",
     "text": [
      "No data found for OSBC (10y)\n",
      "Skipped OSBC - insufficient data\n",
      "Processing ODP...\n"
     ]
    },
    {
     "name": "stderr",
     "output_type": "stream",
     "text": [
      "$ODP: possibly delisted; no price data found  (1d 2014-01-28 00:00:00 -> 2025-01-28)\n"
     ]
    },
    {
     "name": "stdout",
     "output_type": "stream",
     "text": [
      "No data found for ODP (10y)\n",
      "Skipped ODP - insufficient data\n",
      "Processing IHD...\n"
     ]
    },
    {
     "name": "stderr",
     "output_type": "stream",
     "text": [
      "$IHD: possibly delisted; no price data found  (1d 2014-01-28 00:00:00 -> 2025-01-28)\n"
     ]
    },
    {
     "name": "stdout",
     "output_type": "stream",
     "text": [
      "No data found for IHD (10y)\n",
      "Skipped IHD - insufficient data\n",
      "Processing LGI...\n"
     ]
    },
    {
     "name": "stderr",
     "output_type": "stream",
     "text": [
      "$LGI: possibly delisted; no price data found  (1d 2014-01-28 00:00:00 -> 2025-01-28)\n"
     ]
    },
    {
     "name": "stdout",
     "output_type": "stream",
     "text": [
      "No data found for LGI (10y)\n",
      "Skipped LGI - insufficient data\n",
      "Processing ANGI...\n"
     ]
    },
    {
     "name": "stderr",
     "output_type": "stream",
     "text": [
      "$ANGI: possibly delisted; no price data found  (1d 2014-01-28 00:00:00 -> 2025-01-28)\n"
     ]
    },
    {
     "name": "stdout",
     "output_type": "stream",
     "text": [
      "No data found for ANGI (10y)\n",
      "Skipped ANGI - insufficient data\n",
      "Processing PLOW...\n"
     ]
    },
    {
     "name": "stderr",
     "output_type": "stream",
     "text": [
      "$PLOW: possibly delisted; no price data found  (1d 2014-01-28 00:00:00 -> 2025-01-28)\n"
     ]
    },
    {
     "name": "stdout",
     "output_type": "stream",
     "text": [
      "No data found for PLOW (10y)\n",
      "Skipped PLOW - insufficient data\n",
      "Processing PTCT...\n"
     ]
    },
    {
     "name": "stderr",
     "output_type": "stream",
     "text": [
      "$PTCT: possibly delisted; no price data found  (1d 2014-01-28 00:00:00 -> 2025-01-28)\n"
     ]
    },
    {
     "name": "stdout",
     "output_type": "stream",
     "text": [
      "No data found for PTCT (10y)\n",
      "Skipped PTCT - insufficient data\n",
      "Processing AGM-A...\n"
     ]
    },
    {
     "name": "stderr",
     "output_type": "stream",
     "text": [
      "$AGM-A: possibly delisted; no price data found  (1d 2014-01-28 00:00:00 -> 2025-01-28)\n"
     ]
    },
    {
     "name": "stdout",
     "output_type": "stream",
     "text": [
      "No data found for AGM-A (10y)\n",
      "Skipped AGM-A - insufficient data\n",
      "Processing LII...\n"
     ]
    },
    {
     "name": "stderr",
     "output_type": "stream",
     "text": [
      "$LII: possibly delisted; no price data found  (1d 2014-01-28 00:00:00 -> 2025-01-28)\n"
     ]
    },
    {
     "name": "stdout",
     "output_type": "stream",
     "text": [
      "No data found for LII (10y)\n",
      "Skipped LII - insufficient data\n",
      "Processing SUNS...\n"
     ]
    },
    {
     "name": "stderr",
     "output_type": "stream",
     "text": [
      "$SUNS: possibly delisted; no price data found  (1d 2014-01-28 00:00:00 -> 2025-01-28)\n"
     ]
    },
    {
     "name": "stdout",
     "output_type": "stream",
     "text": [
      "No data found for SUNS (10y)\n",
      "Skipped SUNS - insufficient data\n",
      "Processing KRG...\n"
     ]
    },
    {
     "name": "stderr",
     "output_type": "stream",
     "text": [
      "$KRG: possibly delisted; no price data found  (1d 2014-01-28 00:00:00 -> 2025-01-28)\n"
     ]
    },
    {
     "name": "stdout",
     "output_type": "stream",
     "text": [
      "No data found for KRG (10y)\n",
      "Skipped KRG - insufficient data\n",
      "Processing CVS...\n"
     ]
    },
    {
     "name": "stderr",
     "output_type": "stream",
     "text": [
      "$CVS: possibly delisted; no price data found  (1d 2014-01-28 00:00:00 -> 2025-01-28)\n"
     ]
    },
    {
     "name": "stdout",
     "output_type": "stream",
     "text": [
      "No data found for CVS (10y)\n",
      "Skipped CVS - insufficient data\n",
      "Processing LKFN...\n"
     ]
    },
    {
     "name": "stderr",
     "output_type": "stream",
     "text": [
      "$LKFN: possibly delisted; no price data found  (1d 2014-01-28 00:00:00 -> 2025-01-28)\n"
     ]
    },
    {
     "name": "stdout",
     "output_type": "stream",
     "text": [
      "No data found for LKFN (10y)\n",
      "Skipped LKFN - insufficient data\n",
      "Processing GRFS...\n"
     ]
    },
    {
     "name": "stderr",
     "output_type": "stream",
     "text": [
      "$GRFS: possibly delisted; no price data found  (1d 2014-01-28 00:00:00 -> 2025-01-28)\n"
     ]
    },
    {
     "name": "stdout",
     "output_type": "stream",
     "text": [
      "No data found for GRFS (10y)\n",
      "Skipped GRFS - insufficient data\n",
      "Processing FMY...\n"
     ]
    },
    {
     "name": "stderr",
     "output_type": "stream",
     "text": [
      "$FMY: possibly delisted; no price data found  (1d 2014-01-28 00:00:00 -> 2025-01-28)\n"
     ]
    },
    {
     "name": "stdout",
     "output_type": "stream",
     "text": [
      "No data found for FMY (10y)\n",
      "Skipped FMY - insufficient data\n",
      "Processing HOLX...\n"
     ]
    },
    {
     "name": "stderr",
     "output_type": "stream",
     "text": [
      "$HOLX: possibly delisted; no price data found  (1d 2014-01-28 00:00:00 -> 2025-01-28)\n"
     ]
    },
    {
     "name": "stdout",
     "output_type": "stream",
     "text": [
      "No data found for HOLX (10y)\n",
      "Skipped HOLX - insufficient data\n",
      "Processing NC...\n"
     ]
    },
    {
     "name": "stderr",
     "output_type": "stream",
     "text": [
      "$NC: possibly delisted; no price data found  (1d 2014-01-28 00:00:00 -> 2025-01-28)\n"
     ]
    },
    {
     "name": "stdout",
     "output_type": "stream",
     "text": [
      "No data found for NC (10y)\n",
      "Skipped NC - insufficient data\n",
      "Processing TPH...\n"
     ]
    },
    {
     "name": "stderr",
     "output_type": "stream",
     "text": [
      "$TPH: possibly delisted; no price data found  (1d 2014-01-28 00:00:00 -> 2025-01-28)\n"
     ]
    },
    {
     "name": "stdout",
     "output_type": "stream",
     "text": [
      "No data found for TPH (10y)\n",
      "Skipped TPH - insufficient data\n",
      "Processing CPK...\n"
     ]
    },
    {
     "name": "stderr",
     "output_type": "stream",
     "text": [
      "$CPK: possibly delisted; no price data found  (1d 2014-01-28 00:00:00 -> 2025-01-28)\n"
     ]
    },
    {
     "name": "stdout",
     "output_type": "stream",
     "text": [
      "No data found for CPK (10y)\n",
      "Skipped CPK - insufficient data\n",
      "Processing KTOS...\n"
     ]
    },
    {
     "name": "stderr",
     "output_type": "stream",
     "text": [
      "$KTOS: possibly delisted; no price data found  (1d 2014-01-28 00:00:00 -> 2025-01-28)\n"
     ]
    },
    {
     "name": "stdout",
     "output_type": "stream",
     "text": [
      "No data found for KTOS (10y)\n",
      "Skipped KTOS - insufficient data\n",
      "Processing GPI...\n"
     ]
    },
    {
     "name": "stderr",
     "output_type": "stream",
     "text": [
      "$GPI: possibly delisted; no price data found  (1d 2014-01-28 00:00:00 -> 2025-01-28)\n"
     ]
    },
    {
     "name": "stdout",
     "output_type": "stream",
     "text": [
      "No data found for GPI (10y)\n",
      "Skipped GPI - insufficient data\n",
      "Processing TNXP...\n"
     ]
    },
    {
     "name": "stderr",
     "output_type": "stream",
     "text": [
      "$TNXP: possibly delisted; no price data found  (1d 2014-01-28 00:00:00 -> 2025-01-28)\n"
     ]
    },
    {
     "name": "stdout",
     "output_type": "stream",
     "text": [
      "No data found for TNXP (10y)\n",
      "Skipped TNXP - insufficient data\n",
      "Processing PRU...\n"
     ]
    },
    {
     "name": "stderr",
     "output_type": "stream",
     "text": [
      "$PRU: possibly delisted; no price data found  (1d 2014-01-28 00:00:00 -> 2025-01-28)\n"
     ]
    },
    {
     "name": "stdout",
     "output_type": "stream",
     "text": [
      "No data found for PRU (10y)\n",
      "Skipped PRU - insufficient data\n",
      "Processing ARE...\n"
     ]
    },
    {
     "name": "stderr",
     "output_type": "stream",
     "text": [
      "$ARE: possibly delisted; no price data found  (1d 2014-01-28 00:00:00 -> 2025-01-28)\n"
     ]
    },
    {
     "name": "stdout",
     "output_type": "stream",
     "text": [
      "No data found for ARE (10y)\n",
      "Skipped ARE - insufficient data\n",
      "Processing FWRD...\n"
     ]
    },
    {
     "name": "stderr",
     "output_type": "stream",
     "text": [
      "$FWRD: possibly delisted; no price data found  (1d 2014-01-28 00:00:00 -> 2025-01-28)\n"
     ]
    },
    {
     "name": "stdout",
     "output_type": "stream",
     "text": [
      "No data found for FWRD (10y)\n",
      "Skipped FWRD - insufficient data\n",
      "Processing CMRE...\n"
     ]
    },
    {
     "name": "stderr",
     "output_type": "stream",
     "text": [
      "$CMRE: possibly delisted; no price data found  (1d 2014-01-28 00:00:00 -> 2025-01-28)\n"
     ]
    },
    {
     "name": "stdout",
     "output_type": "stream",
     "text": [
      "No data found for CMRE (10y)\n",
      "Skipped CMRE - insufficient data\n",
      "Processing TFX...\n"
     ]
    },
    {
     "name": "stderr",
     "output_type": "stream",
     "text": [
      "$TFX: possibly delisted; no price data found  (1d 2014-01-28 00:00:00 -> 2025-01-28)\n"
     ]
    },
    {
     "name": "stdout",
     "output_type": "stream",
     "text": [
      "No data found for TFX (10y)\n",
      "Skipped TFX - insufficient data\n",
      "Processing FMC...\n"
     ]
    },
    {
     "name": "stderr",
     "output_type": "stream",
     "text": [
      "$FMC: possibly delisted; no price data found  (1d 2014-01-28 00:00:00 -> 2025-01-28)\n"
     ]
    },
    {
     "name": "stdout",
     "output_type": "stream",
     "text": [
      "No data found for FMC (10y)\n",
      "Skipped FMC - insufficient data\n",
      "Processing TGS...\n"
     ]
    },
    {
     "name": "stderr",
     "output_type": "stream",
     "text": [
      "$TGS: possibly delisted; no price data found  (1d 2014-01-28 00:00:00 -> 2025-01-28)\n"
     ]
    },
    {
     "name": "stdout",
     "output_type": "stream",
     "text": [
      "No data found for TGS (10y)\n",
      "Skipped TGS - insufficient data\n",
      "Processing TSCO...\n"
     ]
    },
    {
     "name": "stderr",
     "output_type": "stream",
     "text": [
      "$TSCO: possibly delisted; no price data found  (1d 2014-01-28 00:00:00 -> 2025-01-28)\n"
     ]
    },
    {
     "name": "stdout",
     "output_type": "stream",
     "text": [
      "No data found for TSCO (10y)\n",
      "Skipped TSCO - insufficient data\n",
      "Processing PSO...\n"
     ]
    },
    {
     "name": "stderr",
     "output_type": "stream",
     "text": [
      "$PSO: possibly delisted; no price data found  (1d 2014-01-28 00:00:00 -> 2025-01-28)\n"
     ]
    },
    {
     "name": "stdout",
     "output_type": "stream",
     "text": [
      "No data found for PSO (10y)\n",
      "Skipped PSO - insufficient data\n",
      "Processing GEF...\n"
     ]
    },
    {
     "name": "stderr",
     "output_type": "stream",
     "text": [
      "$GEF: possibly delisted; no price data found  (1d 2014-01-28 00:00:00 -> 2025-01-28)\n"
     ]
    },
    {
     "name": "stdout",
     "output_type": "stream",
     "text": [
      "No data found for GEF (10y)\n",
      "Skipped GEF - insufficient data\n",
      "Processing OVBC...\n"
     ]
    },
    {
     "name": "stderr",
     "output_type": "stream",
     "text": [
      "$OVBC: possibly delisted; no price data found  (1d 2014-01-28 00:00:00 -> 2025-01-28)\n"
     ]
    },
    {
     "name": "stdout",
     "output_type": "stream",
     "text": [
      "No data found for OVBC (10y)\n",
      "Skipped OVBC - insufficient data\n",
      "Processing LYB...\n"
     ]
    },
    {
     "name": "stderr",
     "output_type": "stream",
     "text": [
      "$LYB: possibly delisted; no price data found  (1d 2014-01-28 00:00:00 -> 2025-01-28)\n"
     ]
    },
    {
     "name": "stdout",
     "output_type": "stream",
     "text": [
      "No data found for LYB (10y)\n",
      "Skipped LYB - insufficient data\n",
      "Processing MCHX...\n"
     ]
    },
    {
     "name": "stderr",
     "output_type": "stream",
     "text": [
      "$MCHX: possibly delisted; no price data found  (1d 2014-01-28 00:00:00 -> 2025-01-28)\n"
     ]
    },
    {
     "name": "stdout",
     "output_type": "stream",
     "text": [
      "No data found for MCHX (10y)\n",
      "Skipped MCHX - insufficient data\n",
      "Processing FORM...\n"
     ]
    },
    {
     "name": "stderr",
     "output_type": "stream",
     "text": [
      "$FORM: possibly delisted; no price data found  (1d 2014-01-28 00:00:00 -> 2025-01-28)\n"
     ]
    },
    {
     "name": "stdout",
     "output_type": "stream",
     "text": [
      "No data found for FORM (10y)\n",
      "Skipped FORM - insufficient data\n",
      "Processing MEOH...\n"
     ]
    },
    {
     "name": "stderr",
     "output_type": "stream",
     "text": [
      "$MEOH: possibly delisted; no price data found  (1d 2014-01-28 00:00:00 -> 2025-01-28)\n"
     ]
    },
    {
     "name": "stdout",
     "output_type": "stream",
     "text": [
      "No data found for MEOH (10y)\n",
      "Skipped MEOH - insufficient data\n",
      "Processing BLW...\n"
     ]
    },
    {
     "name": "stderr",
     "output_type": "stream",
     "text": [
      "$BLW: possibly delisted; no price data found  (1d 2014-01-28 00:00:00 -> 2025-01-28)\n"
     ]
    },
    {
     "name": "stdout",
     "output_type": "stream",
     "text": [
      "No data found for BLW (10y)\n",
      "Skipped BLW - insufficient data\n",
      "Processing FC...\n"
     ]
    },
    {
     "name": "stderr",
     "output_type": "stream",
     "text": [
      "$FC: possibly delisted; no price data found  (1d 2014-01-28 00:00:00 -> 2025-01-28)\n"
     ]
    },
    {
     "name": "stdout",
     "output_type": "stream",
     "text": [
      "No data found for FC (10y)\n",
      "Skipped FC - insufficient data\n",
      "Processing TSEM...\n"
     ]
    },
    {
     "name": "stderr",
     "output_type": "stream",
     "text": [
      "$TSEM: possibly delisted; no price data found  (1d 2014-01-28 00:00:00 -> 2025-01-28)\n"
     ]
    },
    {
     "name": "stdout",
     "output_type": "stream",
     "text": [
      "No data found for TSEM (10y)\n",
      "Skipped TSEM - insufficient data\n",
      "Processing BFAM...\n"
     ]
    },
    {
     "name": "stderr",
     "output_type": "stream",
     "text": [
      "$BFAM: possibly delisted; no price data found  (1d 2014-01-28 00:00:00 -> 2025-01-28)\n"
     ]
    },
    {
     "name": "stdout",
     "output_type": "stream",
     "text": [
      "No data found for BFAM (10y)\n",
      "Skipped BFAM - insufficient data\n",
      "Processing MLAB...\n"
     ]
    },
    {
     "name": "stderr",
     "output_type": "stream",
     "text": [
      "$MLAB: possibly delisted; no price data found  (1d 2014-01-28 00:00:00 -> 2025-01-28)\n"
     ]
    },
    {
     "name": "stdout",
     "output_type": "stream",
     "text": [
      "No data found for MLAB (10y)\n",
      "Skipped MLAB - insufficient data\n",
      "Processing DHIL...\n"
     ]
    },
    {
     "name": "stderr",
     "output_type": "stream",
     "text": [
      "$DHIL: possibly delisted; no price data found  (1d 2014-01-28 00:00:00 -> 2025-01-28)\n"
     ]
    },
    {
     "name": "stdout",
     "output_type": "stream",
     "text": [
      "No data found for DHIL (10y)\n",
      "Skipped DHIL - insufficient data\n",
      "Processing FDS...\n"
     ]
    },
    {
     "name": "stderr",
     "output_type": "stream",
     "text": [
      "$FDS: possibly delisted; no price data found  (1d 2014-01-28 00:00:00 -> 2025-01-28)\n"
     ]
    },
    {
     "name": "stdout",
     "output_type": "stream",
     "text": [
      "No data found for FDS (10y)\n",
      "Skipped FDS - insufficient data\n",
      "Processing APAM...\n"
     ]
    },
    {
     "name": "stderr",
     "output_type": "stream",
     "text": [
      "$APAM: possibly delisted; no price data found  (1d 2014-01-28 00:00:00 -> 2025-01-28)\n"
     ]
    },
    {
     "name": "stdout",
     "output_type": "stream",
     "text": [
      "No data found for APAM (10y)\n",
      "Skipped APAM - insufficient data\n",
      "Processing BLX...\n"
     ]
    },
    {
     "name": "stderr",
     "output_type": "stream",
     "text": [
      "$BLX: possibly delisted; no price data found  (1d 2014-01-28 00:00:00 -> 2025-01-28)\n"
     ]
    },
    {
     "name": "stdout",
     "output_type": "stream",
     "text": [
      "No data found for BLX (10y)\n",
      "Skipped BLX - insufficient data\n",
      "Processing TR...\n"
     ]
    },
    {
     "name": "stderr",
     "output_type": "stream",
     "text": [
      "$TR: possibly delisted; no price data found  (1d 2014-01-28 00:00:00 -> 2025-01-28)\n"
     ]
    },
    {
     "name": "stdout",
     "output_type": "stream",
     "text": [
      "No data found for TR (10y)\n",
      "Skipped TR - insufficient data\n",
      "Processing IHS...\n"
     ]
    },
    {
     "name": "stderr",
     "output_type": "stream",
     "text": [
      "$IHS: possibly delisted; no price data found  (1d 2014-01-28 00:00:00 -> 2025-01-28)\n"
     ]
    },
    {
     "name": "stdout",
     "output_type": "stream",
     "text": [
      "No data found for IHS (10y)\n",
      "Skipped IHS - insufficient data\n",
      "Processing FFIC...\n"
     ]
    },
    {
     "name": "stderr",
     "output_type": "stream",
     "text": [
      "$FFIC: possibly delisted; no price data found  (1d 2014-01-28 00:00:00 -> 2025-01-28)\n"
     ]
    },
    {
     "name": "stdout",
     "output_type": "stream",
     "text": [
      "No data found for FFIC (10y)\n",
      "Skipped FFIC - insufficient data\n",
      "Processing ALNY...\n"
     ]
    },
    {
     "name": "stderr",
     "output_type": "stream",
     "text": [
      "$ALNY: possibly delisted; no price data found  (1d 2014-01-28 00:00:00 -> 2025-01-28)\n"
     ]
    },
    {
     "name": "stdout",
     "output_type": "stream",
     "text": [
      "No data found for ALNY (10y)\n",
      "Skipped ALNY - insufficient data\n",
      "Processing PFO...\n"
     ]
    },
    {
     "name": "stderr",
     "output_type": "stream",
     "text": [
      "$PFO: possibly delisted; no price data found  (1d 2014-01-28 00:00:00 -> 2025-01-28)\n"
     ]
    },
    {
     "name": "stdout",
     "output_type": "stream",
     "text": [
      "No data found for PFO (10y)\n",
      "Skipped PFO - insufficient data\n",
      "Processing IRM...\n"
     ]
    },
    {
     "name": "stderr",
     "output_type": "stream",
     "text": [
      "$IRM: possibly delisted; no price data found  (1d 2014-01-28 00:00:00 -> 2025-01-28)\n"
     ]
    },
    {
     "name": "stdout",
     "output_type": "stream",
     "text": [
      "No data found for IRM (10y)\n",
      "Skipped IRM - insufficient data\n",
      "Processing IGT...\n"
     ]
    },
    {
     "name": "stderr",
     "output_type": "stream",
     "text": [
      "$IGT: possibly delisted; no price data found  (1d 2014-01-28 00:00:00 -> 2025-01-28)\n"
     ]
    },
    {
     "name": "stdout",
     "output_type": "stream",
     "text": [
      "No data found for IGT (10y)\n",
      "Skipped IGT - insufficient data\n",
      "Processing AOD...\n"
     ]
    },
    {
     "name": "stderr",
     "output_type": "stream",
     "text": [
      "$AOD: possibly delisted; no price data found  (1d 2014-01-28 00:00:00 -> 2025-01-28)\n"
     ]
    },
    {
     "name": "stdout",
     "output_type": "stream",
     "text": [
      "No data found for AOD (10y)\n",
      "Skipped AOD - insufficient data\n",
      "Processing MAS...\n"
     ]
    },
    {
     "name": "stderr",
     "output_type": "stream",
     "text": [
      "$MAS: possibly delisted; no price data found  (1d 2014-01-28 00:00:00 -> 2025-01-28)\n"
     ]
    },
    {
     "name": "stdout",
     "output_type": "stream",
     "text": [
      "No data found for MAS (10y)\n",
      "Skipped MAS - insufficient data\n",
      "Processing NCV...\n"
     ]
    },
    {
     "name": "stderr",
     "output_type": "stream",
     "text": [
      "$NCV: possibly delisted; no price data found  (1d 2014-01-28 00:00:00 -> 2025-01-28)\n"
     ]
    },
    {
     "name": "stdout",
     "output_type": "stream",
     "text": [
      "No data found for NCV (10y)\n",
      "Skipped NCV - insufficient data\n",
      "Processing TAL...\n"
     ]
    },
    {
     "name": "stderr",
     "output_type": "stream",
     "text": [
      "$TAL: possibly delisted; no price data found  (1d 2014-01-28 00:00:00 -> 2025-01-28)\n"
     ]
    },
    {
     "name": "stdout",
     "output_type": "stream",
     "text": [
      "No data found for TAL (10y)\n",
      "Skipped TAL - insufficient data\n",
      "Processing PHK...\n"
     ]
    },
    {
     "name": "stderr",
     "output_type": "stream",
     "text": [
      "$PHK: possibly delisted; no price data found  (1d 2014-01-28 00:00:00 -> 2025-01-28)\n"
     ]
    },
    {
     "name": "stdout",
     "output_type": "stream",
     "text": [
      "No data found for PHK (10y)\n",
      "Skipped PHK - insufficient data\n",
      "Processing CWCO...\n"
     ]
    },
    {
     "name": "stderr",
     "output_type": "stream",
     "text": [
      "$CWCO: possibly delisted; no price data found  (1d 2014-01-28 00:00:00 -> 2025-01-28)\n"
     ]
    },
    {
     "name": "stdout",
     "output_type": "stream",
     "text": [
      "No data found for CWCO (10y)\n",
      "Skipped CWCO - insufficient data\n",
      "Processing FLEX...\n"
     ]
    },
    {
     "name": "stderr",
     "output_type": "stream",
     "text": [
      "$FLEX: possibly delisted; no price data found  (1d 2014-01-28 00:00:00 -> 2025-01-28)\n"
     ]
    },
    {
     "name": "stdout",
     "output_type": "stream",
     "text": [
      "No data found for FLEX (10y)\n",
      "Skipped FLEX - insufficient data\n",
      "Processing KEP...\n"
     ]
    },
    {
     "name": "stderr",
     "output_type": "stream",
     "text": [
      "$KEP: possibly delisted; no price data found  (1d 2014-01-28 00:00:00 -> 2025-01-28)\n"
     ]
    },
    {
     "name": "stdout",
     "output_type": "stream",
     "text": [
      "No data found for KEP (10y)\n",
      "Skipped KEP - insufficient data\n",
      "Processing CAH...\n"
     ]
    },
    {
     "name": "stderr",
     "output_type": "stream",
     "text": [
      "$CAH: possibly delisted; no price data found  (1d 2014-01-28 00:00:00 -> 2025-01-28)\n"
     ]
    },
    {
     "name": "stdout",
     "output_type": "stream",
     "text": [
      "No data found for CAH (10y)\n",
      "Skipped CAH - insufficient data\n",
      "Processing GRO...\n"
     ]
    },
    {
     "name": "stderr",
     "output_type": "stream",
     "text": [
      "$GRO: possibly delisted; no price data found  (1d 2014-01-28 00:00:00 -> 2025-01-28)\n"
     ]
    },
    {
     "name": "stdout",
     "output_type": "stream",
     "text": [
      "No data found for GRO (10y)\n",
      "Skipped GRO - insufficient data\n",
      "Processing HEES...\n"
     ]
    },
    {
     "name": "stderr",
     "output_type": "stream",
     "text": [
      "$HEES: possibly delisted; no price data found  (1d 2014-01-28 00:00:00 -> 2025-01-28)\n"
     ]
    },
    {
     "name": "stdout",
     "output_type": "stream",
     "text": [
      "No data found for HEES (10y)\n",
      "Skipped HEES - insufficient data\n",
      "Processing IDA...\n"
     ]
    },
    {
     "name": "stderr",
     "output_type": "stream",
     "text": [
      "$IDA: possibly delisted; no price data found  (1d 2014-01-28 00:00:00 -> 2025-01-28)\n"
     ]
    },
    {
     "name": "stdout",
     "output_type": "stream",
     "text": [
      "No data found for IDA (10y)\n",
      "Skipped IDA - insufficient data\n",
      "Processing BCS...\n"
     ]
    },
    {
     "name": "stderr",
     "output_type": "stream",
     "text": [
      "$BCS: possibly delisted; no price data found  (1d 2014-01-28 00:00:00 -> 2025-01-28)\n"
     ]
    },
    {
     "name": "stdout",
     "output_type": "stream",
     "text": [
      "No data found for BCS (10y)\n",
      "Skipped BCS - insufficient data\n",
      "Processing JPC...\n"
     ]
    },
    {
     "name": "stderr",
     "output_type": "stream",
     "text": [
      "$JPC: possibly delisted; no price data found  (1d 2014-01-28 00:00:00 -> 2025-01-28)\n"
     ]
    },
    {
     "name": "stdout",
     "output_type": "stream",
     "text": [
      "No data found for JPC (10y)\n",
      "Skipped JPC - insufficient data\n",
      "Processing DLHC...\n"
     ]
    },
    {
     "name": "stderr",
     "output_type": "stream",
     "text": [
      "$DLHC: possibly delisted; no price data found  (1d 2014-01-28 00:00:00 -> 2025-01-28)\n"
     ]
    },
    {
     "name": "stdout",
     "output_type": "stream",
     "text": [
      "No data found for DLHC (10y)\n",
      "Skipped DLHC - insufficient data\n",
      "Processing STWD...\n"
     ]
    },
    {
     "name": "stderr",
     "output_type": "stream",
     "text": [
      "$STWD: possibly delisted; no price data found  (1d 2014-01-28 00:00:00 -> 2025-01-28)\n"
     ]
    },
    {
     "name": "stdout",
     "output_type": "stream",
     "text": [
      "No data found for STWD (10y)\n",
      "Skipped STWD - insufficient data\n",
      "Processing DMO...\n"
     ]
    },
    {
     "name": "stderr",
     "output_type": "stream",
     "text": [
      "$DMO: possibly delisted; no price data found  (1d 2014-01-28 00:00:00 -> 2025-01-28)\n"
     ]
    },
    {
     "name": "stdout",
     "output_type": "stream",
     "text": [
      "No data found for DMO (10y)\n",
      "Skipped DMO - insufficient data\n",
      "Processing JOF...\n"
     ]
    },
    {
     "name": "stderr",
     "output_type": "stream",
     "text": [
      "$JOF: possibly delisted; no price data found  (1d 2014-01-28 00:00:00 -> 2025-01-28)\n"
     ]
    },
    {
     "name": "stdout",
     "output_type": "stream",
     "text": [
      "No data found for JOF (10y)\n",
      "Skipped JOF - insufficient data\n",
      "Processing CLDT...\n"
     ]
    },
    {
     "name": "stderr",
     "output_type": "stream",
     "text": [
      "$CLDT: possibly delisted; no price data found  (1d 2014-01-28 00:00:00 -> 2025-01-28)\n"
     ]
    },
    {
     "name": "stdout",
     "output_type": "stream",
     "text": [
      "No data found for CLDT (10y)\n",
      "Skipped CLDT - insufficient data\n",
      "Processing BERY...\n"
     ]
    },
    {
     "name": "stderr",
     "output_type": "stream",
     "text": [
      "$BERY: possibly delisted; no price data found  (1d 2014-01-28 00:00:00 -> 2025-01-28)\n"
     ]
    },
    {
     "name": "stdout",
     "output_type": "stream",
     "text": [
      "No data found for BERY (10y)\n",
      "Skipped BERY - insufficient data\n",
      "Processing STE...\n"
     ]
    },
    {
     "name": "stderr",
     "output_type": "stream",
     "text": [
      "$STE: possibly delisted; no price data found  (1d 2014-01-28 00:00:00 -> 2025-01-28)\n"
     ]
    },
    {
     "name": "stdout",
     "output_type": "stream",
     "text": [
      "No data found for STE (10y)\n",
      "Skipped STE - insufficient data\n",
      "Processing FEIM...\n"
     ]
    },
    {
     "name": "stderr",
     "output_type": "stream",
     "text": [
      "$FEIM: possibly delisted; no price data found  (1d 2014-01-28 00:00:00 -> 2025-01-28)\n"
     ]
    },
    {
     "name": "stdout",
     "output_type": "stream",
     "text": [
      "No data found for FEIM (10y)\n",
      "Skipped FEIM - insufficient data\n",
      "Processing TEF...\n"
     ]
    },
    {
     "name": "stderr",
     "output_type": "stream",
     "text": [
      "$TEF: possibly delisted; no price data found  (1d 2014-01-28 00:00:00 -> 2025-01-28)\n"
     ]
    },
    {
     "name": "stdout",
     "output_type": "stream",
     "text": [
      "No data found for TEF (10y)\n",
      "Skipped TEF - insufficient data\n",
      "Processing CE...\n"
     ]
    },
    {
     "name": "stderr",
     "output_type": "stream",
     "text": [
      "$CE: possibly delisted; no price data found  (1d 2014-01-28 00:00:00 -> 2025-01-28)\n"
     ]
    },
    {
     "name": "stdout",
     "output_type": "stream",
     "text": [
      "No data found for CE (10y)\n",
      "Skipped CE - insufficient data\n",
      "Processing FLL...\n"
     ]
    },
    {
     "name": "stderr",
     "output_type": "stream",
     "text": [
      "$FLL: possibly delisted; no price data found  (1d 2014-01-28 00:00:00 -> 2025-01-28)\n"
     ]
    },
    {
     "name": "stdout",
     "output_type": "stream",
     "text": [
      "No data found for FLL (10y)\n",
      "Skipped FLL - insufficient data\n",
      "Processing CHT...\n"
     ]
    },
    {
     "name": "stderr",
     "output_type": "stream",
     "text": [
      "$CHT: possibly delisted; no price data found  (1d 2014-01-28 00:00:00 -> 2025-01-28)\n"
     ]
    },
    {
     "name": "stdout",
     "output_type": "stream",
     "text": [
      "No data found for CHT (10y)\n",
      "Skipped CHT - insufficient data\n",
      "Processing ANSS...\n"
     ]
    },
    {
     "name": "stderr",
     "output_type": "stream",
     "text": [
      "$ANSS: possibly delisted; no price data found  (1d 2014-01-28 00:00:00 -> 2025-01-28)\n"
     ]
    },
    {
     "name": "stdout",
     "output_type": "stream",
     "text": [
      "No data found for ANSS (10y)\n",
      "Skipped ANSS - insufficient data\n",
      "Processing PCAR...\n"
     ]
    },
    {
     "name": "stderr",
     "output_type": "stream",
     "text": [
      "$PCAR: possibly delisted; no price data found  (1d 2014-01-28 00:00:00 -> 2025-01-28)\n"
     ]
    },
    {
     "name": "stdout",
     "output_type": "stream",
     "text": [
      "No data found for PCAR (10y)\n",
      "Skipped PCAR - insufficient data\n",
      "Processing AGM...\n"
     ]
    },
    {
     "name": "stderr",
     "output_type": "stream",
     "text": [
      "$AGM: possibly delisted; no price data found  (1d 2014-01-28 00:00:00 -> 2025-01-28)\n"
     ]
    },
    {
     "name": "stdout",
     "output_type": "stream",
     "text": [
      "No data found for AGM (10y)\n",
      "Skipped AGM - insufficient data\n",
      "Processing HAL...\n"
     ]
    },
    {
     "name": "stderr",
     "output_type": "stream",
     "text": [
      "$HAL: possibly delisted; no price data found  (1d 2014-01-28 00:00:00 -> 2025-01-28)\n"
     ]
    },
    {
     "name": "stdout",
     "output_type": "stream",
     "text": [
      "No data found for HAL (10y)\n",
      "Skipped HAL - insufficient data\n",
      "Processing PAR...\n"
     ]
    },
    {
     "name": "stderr",
     "output_type": "stream",
     "text": [
      "$PAR: possibly delisted; no price data found  (1d 2014-01-28 00:00:00 -> 2025-01-28)\n"
     ]
    },
    {
     "name": "stdout",
     "output_type": "stream",
     "text": [
      "No data found for PAR (10y)\n",
      "Skipped PAR - insufficient data\n",
      "Processing MAYS...\n"
     ]
    },
    {
     "name": "stderr",
     "output_type": "stream",
     "text": [
      "$MAYS: possibly delisted; no price data found  (1d 2014-01-28 00:00:00 -> 2025-01-28)\n"
     ]
    },
    {
     "name": "stdout",
     "output_type": "stream",
     "text": [
      "No data found for MAYS (10y)\n",
      "Skipped MAYS - insufficient data\n",
      "Processing AON...\n"
     ]
    },
    {
     "name": "stderr",
     "output_type": "stream",
     "text": [
      "$AON: possibly delisted; no price data found  (1d 2014-01-28 00:00:00 -> 2025-01-28)\n"
     ]
    },
    {
     "name": "stdout",
     "output_type": "stream",
     "text": [
      "No data found for AON (10y)\n",
      "Skipped AON - insufficient data\n",
      "Processing TBI...\n"
     ]
    },
    {
     "name": "stderr",
     "output_type": "stream",
     "text": [
      "$TBI: possibly delisted; no price data found  (1d 2014-01-28 00:00:00 -> 2025-01-28)\n"
     ]
    },
    {
     "name": "stdout",
     "output_type": "stream",
     "text": [
      "No data found for TBI (10y)\n",
      "Skipped TBI - insufficient data\n",
      "Processing SM...\n"
     ]
    },
    {
     "name": "stderr",
     "output_type": "stream",
     "text": [
      "$SM: possibly delisted; no price data found  (1d 2014-01-28 00:00:00 -> 2025-01-28)\n"
     ]
    },
    {
     "name": "stdout",
     "output_type": "stream",
     "text": [
      "No data found for SM (10y)\n",
      "Skipped SM - insufficient data\n",
      "Processing LAMR...\n"
     ]
    },
    {
     "name": "stderr",
     "output_type": "stream",
     "text": [
      "$LAMR: possibly delisted; no price data found  (1d 2014-01-28 00:00:00 -> 2025-01-28)\n"
     ]
    },
    {
     "name": "stdout",
     "output_type": "stream",
     "text": [
      "No data found for LAMR (10y)\n",
      "Skipped LAMR - insufficient data\n",
      "Processing TPC...\n"
     ]
    },
    {
     "name": "stderr",
     "output_type": "stream",
     "text": [
      "$TPC: possibly delisted; no price data found  (1d 2014-01-28 00:00:00 -> 2025-01-28)\n"
     ]
    },
    {
     "name": "stdout",
     "output_type": "stream",
     "text": [
      "No data found for TPC (10y)\n",
      "Skipped TPC - insufficient data\n",
      "Processing FDUS...\n"
     ]
    },
    {
     "name": "stderr",
     "output_type": "stream",
     "text": [
      "$FDUS: possibly delisted; no price data found  (1d 2014-01-28 00:00:00 -> 2025-01-28)\n"
     ]
    },
    {
     "name": "stdout",
     "output_type": "stream",
     "text": [
      "No data found for FDUS (10y)\n",
      "Skipped FDUS - insufficient data\n",
      "Processing AMBA...\n"
     ]
    },
    {
     "name": "stderr",
     "output_type": "stream",
     "text": [
      "$AMBA: possibly delisted; no price data found  (1d 2014-01-28 00:00:00 -> 2025-01-28)\n"
     ]
    },
    {
     "name": "stdout",
     "output_type": "stream",
     "text": [
      "No data found for AMBA (10y)\n",
      "Skipped AMBA - insufficient data\n",
      "Processing IDE...\n"
     ]
    },
    {
     "name": "stderr",
     "output_type": "stream",
     "text": [
      "$IDE: possibly delisted; no price data found  (1d 2014-01-28 00:00:00 -> 2025-01-28)\n"
     ]
    },
    {
     "name": "stdout",
     "output_type": "stream",
     "text": [
      "No data found for IDE (10y)\n",
      "Skipped IDE - insufficient data\n",
      "Processing FORR...\n"
     ]
    },
    {
     "name": "stderr",
     "output_type": "stream",
     "text": [
      "$FORR: possibly delisted; no price data found  (1d 2014-01-28 00:00:00 -> 2025-01-28)\n"
     ]
    },
    {
     "name": "stdout",
     "output_type": "stream",
     "text": [
      "No data found for FORR (10y)\n",
      "Skipped FORR - insufficient data\n",
      "Processing TRN...\n"
     ]
    },
    {
     "name": "stderr",
     "output_type": "stream",
     "text": [
      "$TRN: possibly delisted; no price data found  (1d 2014-01-28 00:00:00 -> 2025-01-28)\n"
     ]
    },
    {
     "name": "stdout",
     "output_type": "stream",
     "text": [
      "No data found for TRN (10y)\n",
      "Skipped TRN - insufficient data\n",
      "Processing TIPT...\n"
     ]
    },
    {
     "name": "stderr",
     "output_type": "stream",
     "text": [
      "$TIPT: possibly delisted; no price data found  (1d 2014-01-28 00:00:00 -> 2025-01-28)\n"
     ]
    },
    {
     "name": "stdout",
     "output_type": "stream",
     "text": [
      "No data found for TIPT (10y)\n",
      "Skipped TIPT - insufficient data\n",
      "Processing HUM...\n"
     ]
    },
    {
     "name": "stderr",
     "output_type": "stream",
     "text": [
      "$HUM: possibly delisted; no price data found  (1d 2014-01-28 00:00:00 -> 2025-01-28)\n"
     ]
    },
    {
     "name": "stdout",
     "output_type": "stream",
     "text": [
      "No data found for HUM (10y)\n",
      "Skipped HUM - insufficient data\n",
      "Processing ANF...\n"
     ]
    },
    {
     "name": "stderr",
     "output_type": "stream",
     "text": [
      "$ANF: possibly delisted; no price data found  (1d 2014-01-28 00:00:00 -> 2025-01-28)\n"
     ]
    },
    {
     "name": "stdout",
     "output_type": "stream",
     "text": [
      "No data found for ANF (10y)\n",
      "Skipped ANF - insufficient data\n",
      "Processing CLF...\n"
     ]
    },
    {
     "name": "stderr",
     "output_type": "stream",
     "text": [
      "$CLF: possibly delisted; no price data found  (1d 2014-01-28 00:00:00 -> 2025-01-28)\n"
     ]
    },
    {
     "name": "stdout",
     "output_type": "stream",
     "text": [
      "No data found for CLF (10y)\n",
      "Skipped CLF - insufficient data\n",
      "Processing ASTE...\n"
     ]
    },
    {
     "name": "stderr",
     "output_type": "stream",
     "text": [
      "$ASTE: possibly delisted; no price data found  (1d 2014-01-28 00:00:00 -> 2025-01-28)\n"
     ]
    },
    {
     "name": "stdout",
     "output_type": "stream",
     "text": [
      "No data found for ASTE (10y)\n",
      "Skipped ASTE - insufficient data\n",
      "Processing CNO...\n"
     ]
    },
    {
     "name": "stderr",
     "output_type": "stream",
     "text": [
      "$CNO: possibly delisted; no price data found  (1d 2014-01-28 00:00:00 -> 2025-01-28)\n"
     ]
    },
    {
     "name": "stdout",
     "output_type": "stream",
     "text": [
      "No data found for CNO (10y)\n",
      "Skipped CNO - insufficient data\n",
      "Processing HIW...\n"
     ]
    },
    {
     "name": "stderr",
     "output_type": "stream",
     "text": [
      "$HIW: possibly delisted; no price data found  (1d 2014-01-28 00:00:00 -> 2025-01-28)\n"
     ]
    },
    {
     "name": "stdout",
     "output_type": "stream",
     "text": [
      "No data found for HIW (10y)\n",
      "Skipped HIW - insufficient data\n",
      "Processing ATRC...\n"
     ]
    },
    {
     "name": "stderr",
     "output_type": "stream",
     "text": [
      "$ATRC: possibly delisted; no price data found  (1d 2014-01-28 00:00:00 -> 2025-01-28)\n"
     ]
    },
    {
     "name": "stdout",
     "output_type": "stream",
     "text": [
      "No data found for ATRC (10y)\n",
      "Skipped ATRC - insufficient data\n",
      "Processing SEE...\n"
     ]
    },
    {
     "name": "stderr",
     "output_type": "stream",
     "text": [
      "$SEE: possibly delisted; no price data found  (1d 2014-01-28 00:00:00 -> 2025-01-28)\n"
     ]
    },
    {
     "name": "stdout",
     "output_type": "stream",
     "text": [
      "No data found for SEE (10y)\n",
      "Skipped SEE - insufficient data\n",
      "Processing NR...\n"
     ]
    },
    {
     "name": "stderr",
     "output_type": "stream",
     "text": [
      "$NR: possibly delisted; no price data found  (1d 2014-01-28 00:00:00 -> 2025-01-28)\n"
     ]
    },
    {
     "name": "stdout",
     "output_type": "stream",
     "text": [
      "No data found for NR (10y)\n",
      "Skipped NR - insufficient data\n",
      "Processing PAC...\n"
     ]
    },
    {
     "name": "stderr",
     "output_type": "stream",
     "text": [
      "$PAC: possibly delisted; no price data found  (1d 2014-01-28 00:00:00 -> 2025-01-28)\n"
     ]
    },
    {
     "name": "stdout",
     "output_type": "stream",
     "text": [
      "No data found for PAC (10y)\n",
      "Skipped PAC - insufficient data\n",
      "Processing CNS...\n"
     ]
    },
    {
     "name": "stderr",
     "output_type": "stream",
     "text": [
      "$CNS: possibly delisted; no price data found  (1d 2014-01-28 00:00:00 -> 2025-01-28)\n"
     ]
    },
    {
     "name": "stdout",
     "output_type": "stream",
     "text": [
      "No data found for CNS (10y)\n",
      "Skipped CNS - insufficient data\n",
      "Processing HEQ...\n"
     ]
    },
    {
     "name": "stderr",
     "output_type": "stream",
     "text": [
      "$HEQ: possibly delisted; no price data found  (1d 2014-01-28 00:00:00 -> 2025-01-28)\n"
     ]
    },
    {
     "name": "stdout",
     "output_type": "stream",
     "text": [
      "No data found for HEQ (10y)\n",
      "Skipped HEQ - insufficient data\n",
      "Processing SFD...\n"
     ]
    },
    {
     "name": "stderr",
     "output_type": "stream",
     "text": [
      "$SFD: possibly delisted; no price data found  (1d 2014-01-28 00:00:00 -> 2025-01-28)\n"
     ]
    },
    {
     "name": "stdout",
     "output_type": "stream",
     "text": [
      "No data found for SFD (10y)\n",
      "Skipped SFD - insufficient data\n",
      "Processing GUT...\n"
     ]
    },
    {
     "name": "stderr",
     "output_type": "stream",
     "text": [
      "$GUT: possibly delisted; no price data found  (1d 2014-01-28 00:00:00 -> 2025-01-28)\n"
     ]
    },
    {
     "name": "stdout",
     "output_type": "stream",
     "text": [
      "No data found for GUT (10y)\n",
      "Skipped GUT - insufficient data\n",
      "Processing MCHP...\n"
     ]
    },
    {
     "name": "stderr",
     "output_type": "stream",
     "text": [
      "$MCHP: possibly delisted; no price data found  (1d 2014-01-28 00:00:00 -> 2025-01-28)\n"
     ]
    },
    {
     "name": "stdout",
     "output_type": "stream",
     "text": [
      "No data found for MCHP (10y)\n",
      "Skipped MCHP - insufficient data\n",
      "Processing PCRX...\n"
     ]
    },
    {
     "name": "stderr",
     "output_type": "stream",
     "text": [
      "$PCRX: possibly delisted; no price data found  (1d 2014-01-28 00:00:00 -> 2025-01-28)\n"
     ]
    },
    {
     "name": "stdout",
     "output_type": "stream",
     "text": [
      "No data found for PCRX (10y)\n",
      "Skipped PCRX - insufficient data\n",
      "Processing DRH...\n"
     ]
    },
    {
     "name": "stderr",
     "output_type": "stream",
     "text": [
      "Failed to get ticker 'DRH' reason: Expecting value: line 1 column 1 (char 0)\n",
      "$DRH: possibly delisted; no timezone found\n"
     ]
    },
    {
     "name": "stdout",
     "output_type": "stream",
     "text": [
      "No data found for DRH (10y)\n",
      "Skipped DRH - insufficient data\n",
      "Processing FFBC...\n"
     ]
    },
    {
     "name": "stderr",
     "output_type": "stream",
     "text": [
      "$FFBC: possibly delisted; no price data found  (1d 2014-01-28 00:00:00 -> 2025-01-28)\n"
     ]
    },
    {
     "name": "stdout",
     "output_type": "stream",
     "text": [
      "No data found for FFBC (10y)\n",
      "Skipped FFBC - insufficient data\n",
      "Processing ZION...\n"
     ]
    },
    {
     "name": "stderr",
     "output_type": "stream",
     "text": [
      "$ZION: possibly delisted; no price data found  (1d 2014-01-28 00:00:00 -> 2025-01-28)\n"
     ]
    },
    {
     "name": "stdout",
     "output_type": "stream",
     "text": [
      "No data found for ZION (10y)\n",
      "Skipped ZION - insufficient data\n",
      "Processing STEM...\n"
     ]
    },
    {
     "name": "stderr",
     "output_type": "stream",
     "text": [
      "$STEM: possibly delisted; no price data found  (1d 2014-01-28 00:00:00 -> 2025-01-28)\n"
     ]
    },
    {
     "name": "stdout",
     "output_type": "stream",
     "text": [
      "No data found for STEM (10y)\n",
      "Skipped STEM - insufficient data\n",
      "Processing XRAY...\n"
     ]
    },
    {
     "name": "stderr",
     "output_type": "stream",
     "text": [
      "$XRAY: possibly delisted; no price data found  (1d 2014-01-28 00:00:00 -> 2025-01-28)\n"
     ]
    },
    {
     "name": "stdout",
     "output_type": "stream",
     "text": [
      "No data found for XRAY (10y)\n",
      "Skipped XRAY - insufficient data\n",
      "Processing LPLA...\n"
     ]
    },
    {
     "name": "stderr",
     "output_type": "stream",
     "text": [
      "$LPLA: possibly delisted; no price data found  (1d 2014-01-28 00:00:00 -> 2025-01-28)\n"
     ]
    },
    {
     "name": "stdout",
     "output_type": "stream",
     "text": [
      "No data found for LPLA (10y)\n",
      "Skipped LPLA - insufficient data\n",
      "Processing STN...\n"
     ]
    },
    {
     "name": "stderr",
     "output_type": "stream",
     "text": [
      "$STN: possibly delisted; no price data found  (1d 2014-01-28 00:00:00 -> 2025-01-28)\n"
     ]
    },
    {
     "name": "stdout",
     "output_type": "stream",
     "text": [
      "No data found for STN (10y)\n",
      "Skipped STN - insufficient data\n",
      "Processing LEA...\n"
     ]
    },
    {
     "name": "stderr",
     "output_type": "stream",
     "text": [
      "$LEA: possibly delisted; no price data found  (1d 2014-01-28 00:00:00 -> 2025-01-28)\n"
     ]
    },
    {
     "name": "stdout",
     "output_type": "stream",
     "text": [
      "No data found for LEA (10y)\n",
      "Skipped LEA - insufficient data\n",
      "Processing SPLP...\n"
     ]
    },
    {
     "name": "stderr",
     "output_type": "stream",
     "text": [
      "$SPLP: possibly delisted; no price data found  (1d 2014-01-28 00:00:00 -> 2025-01-28)\n"
     ]
    },
    {
     "name": "stdout",
     "output_type": "stream",
     "text": [
      "No data found for SPLP (10y)\n",
      "Skipped SPLP - insufficient data\n",
      "Processing ARWR...\n"
     ]
    },
    {
     "name": "stderr",
     "output_type": "stream",
     "text": [
      "$ARWR: possibly delisted; no price data found  (1d 2014-01-28 00:00:00 -> 2025-01-28)\n"
     ]
    },
    {
     "name": "stdout",
     "output_type": "stream",
     "text": [
      "No data found for ARWR (10y)\n",
      "Skipped ARWR - insufficient data\n",
      "Processing GIB...\n"
     ]
    },
    {
     "name": "stderr",
     "output_type": "stream",
     "text": [
      "$GIB: possibly delisted; no price data found  (1d 2014-01-28 00:00:00 -> 2025-01-28)\n"
     ]
    },
    {
     "name": "stdout",
     "output_type": "stream",
     "text": [
      "No data found for GIB (10y)\n",
      "Skipped GIB - insufficient data\n",
      "Processing AGCO...\n"
     ]
    },
    {
     "name": "stderr",
     "output_type": "stream",
     "text": [
      "$AGCO: possibly delisted; no price data found  (1d 2014-01-28 00:00:00 -> 2025-01-28)\n"
     ]
    },
    {
     "name": "stdout",
     "output_type": "stream",
     "text": [
      "No data found for AGCO (10y)\n",
      "Skipped AGCO - insufficient data\n",
      "Processing CACI...\n"
     ]
    },
    {
     "name": "stderr",
     "output_type": "stream",
     "text": [
      "$CACI: possibly delisted; no price data found  (1d 2014-01-28 00:00:00 -> 2025-01-28)\n"
     ]
    },
    {
     "name": "stdout",
     "output_type": "stream",
     "text": [
      "No data found for CACI (10y)\n",
      "Skipped CACI - insufficient data\n",
      "Processing AMGN...\n"
     ]
    },
    {
     "name": "stderr",
     "output_type": "stream",
     "text": [
      "$AMGN: possibly delisted; no price data found  (1d 2014-01-28 00:00:00 -> 2025-01-28)\n"
     ]
    },
    {
     "name": "stdout",
     "output_type": "stream",
     "text": [
      "No data found for AMGN (10y)\n",
      "Skipped AMGN - insufficient data\n",
      "Processing HIFS...\n"
     ]
    },
    {
     "name": "stderr",
     "output_type": "stream",
     "text": [
      "$HIFS: possibly delisted; no price data found  (1d 2014-01-28 00:00:00 -> 2025-01-28)\n"
     ]
    },
    {
     "name": "stdout",
     "output_type": "stream",
     "text": [
      "No data found for HIFS (10y)\n",
      "Skipped HIFS - insufficient data\n",
      "Processing MCRI...\n"
     ]
    },
    {
     "name": "stderr",
     "output_type": "stream",
     "text": [
      "$MCRI: possibly delisted; no price data found  (1d 2014-01-28 00:00:00 -> 2025-01-28)\n"
     ]
    },
    {
     "name": "stdout",
     "output_type": "stream",
     "text": [
      "No data found for MCRI (10y)\n",
      "Skipped MCRI - insufficient data\n",
      "Processing PBH...\n"
     ]
    },
    {
     "name": "stderr",
     "output_type": "stream",
     "text": [
      "$PBH: possibly delisted; no price data found  (1d 2014-01-28 00:00:00 -> 2025-01-28)\n"
     ]
    },
    {
     "name": "stdout",
     "output_type": "stream",
     "text": [
      "No data found for PBH (10y)\n",
      "Skipped PBH - insufficient data\n",
      "Processing CIB...\n"
     ]
    },
    {
     "name": "stderr",
     "output_type": "stream",
     "text": [
      "$CIB: possibly delisted; no price data found  (1d 2014-01-28 00:00:00 -> 2025-01-28)\n"
     ]
    },
    {
     "name": "stdout",
     "output_type": "stream",
     "text": [
      "No data found for CIB (10y)\n",
      "Skipped CIB - insufficient data\n",
      "Processing TKR...\n"
     ]
    },
    {
     "name": "stderr",
     "output_type": "stream",
     "text": [
      "$TKR: possibly delisted; no price data found  (1d 2014-01-28 00:00:00 -> 2025-01-28)\n"
     ]
    },
    {
     "name": "stdout",
     "output_type": "stream",
     "text": [
      "No data found for TKR (10y)\n",
      "Skipped TKR - insufficient data\n",
      "Processing TTP...\n"
     ]
    },
    {
     "name": "stderr",
     "output_type": "stream",
     "text": [
      "Failed to get ticker 'TTP' reason: Expecting value: line 1 column 1 (char 0)\n",
      "$TTP: possibly delisted; no timezone found\n"
     ]
    },
    {
     "name": "stdout",
     "output_type": "stream",
     "text": [
      "No data found for TTP (10y)\n",
      "Skipped TTP - insufficient data\n",
      "Processing AHL-PC...\n"
     ]
    },
    {
     "name": "stderr",
     "output_type": "stream",
     "text": [
      "$AHL-PC: possibly delisted; no price data found  (1d 2014-01-28 00:00:00 -> 2025-01-28)\n"
     ]
    },
    {
     "name": "stdout",
     "output_type": "stream",
     "text": [
      "No data found for AHL-PC (10y)\n",
      "Skipped AHL-PC - insufficient data\n",
      "Processing ACM...\n"
     ]
    },
    {
     "name": "stderr",
     "output_type": "stream",
     "text": [
      "$ACM: possibly delisted; no price data found  (1d 2014-01-28 00:00:00 -> 2025-01-28)\n"
     ]
    },
    {
     "name": "stdout",
     "output_type": "stream",
     "text": [
      "No data found for ACM (10y)\n",
      "Skipped ACM - insufficient data\n",
      "Processing YY...\n"
     ]
    },
    {
     "name": "stderr",
     "output_type": "stream",
     "text": [
      "$YY: possibly delisted; no price data found  (1d 2014-01-28 00:00:00 -> 2025-01-28)\n"
     ]
    },
    {
     "name": "stdout",
     "output_type": "stream",
     "text": [
      "No data found for YY (10y)\n",
      "Skipped YY - insufficient data\n",
      "Processing CTAS...\n"
     ]
    },
    {
     "name": "stderr",
     "output_type": "stream",
     "text": [
      "$CTAS: possibly delisted; no price data found  (1d 2014-01-28 00:00:00 -> 2025-01-28)\n"
     ]
    },
    {
     "name": "stdout",
     "output_type": "stream",
     "text": [
      "No data found for CTAS (10y)\n",
      "Skipped CTAS - insufficient data\n",
      "Processing CMRX...\n"
     ]
    },
    {
     "name": "stderr",
     "output_type": "stream",
     "text": [
      "$CMRX: possibly delisted; no price data found  (1d 2014-01-28 00:00:00 -> 2025-01-28)\n"
     ]
    },
    {
     "name": "stdout",
     "output_type": "stream",
     "text": [
      "No data found for CMRX (10y)\n",
      "Skipped CMRX - insufficient data\n",
      "Processing MELI...\n"
     ]
    },
    {
     "name": "stderr",
     "output_type": "stream",
     "text": [
      "$MELI: possibly delisted; no price data found  (1d 2014-01-28 00:00:00 -> 2025-01-28)\n"
     ]
    },
    {
     "name": "stdout",
     "output_type": "stream",
     "text": [
      "No data found for MELI (10y)\n",
      "Skipped MELI - insufficient data\n",
      "Processing CW...\n"
     ]
    },
    {
     "name": "stderr",
     "output_type": "stream",
     "text": [
      "$CW: possibly delisted; no price data found  (1d 2014-01-28 00:00:00 -> 2025-01-28)\n"
     ]
    },
    {
     "name": "stdout",
     "output_type": "stream",
     "text": [
      "No data found for CW (10y)\n",
      "Skipped CW - insufficient data\n",
      "Processing CNX...\n"
     ]
    },
    {
     "name": "stderr",
     "output_type": "stream",
     "text": [
      "$CNX: possibly delisted; no price data found  (1d 2014-01-28 00:00:00 -> 2025-01-28)\n"
     ]
    },
    {
     "name": "stdout",
     "output_type": "stream",
     "text": [
      "No data found for CNX (10y)\n",
      "Skipped CNX - insufficient data\n",
      "Processing PAY...\n"
     ]
    },
    {
     "name": "stderr",
     "output_type": "stream",
     "text": [
      "$PAY: possibly delisted; no price data found  (1d 2014-01-28 00:00:00 -> 2025-01-28)\n"
     ]
    },
    {
     "name": "stdout",
     "output_type": "stream",
     "text": [
      "No data found for PAY (10y)\n",
      "Skipped PAY - insufficient data\n",
      "Processing SMP...\n"
     ]
    },
    {
     "name": "stderr",
     "output_type": "stream",
     "text": [
      "$SMP: possibly delisted; no price data found  (1d 2014-01-28 00:00:00 -> 2025-01-28)\n"
     ]
    },
    {
     "name": "stdout",
     "output_type": "stream",
     "text": [
      "No data found for SMP (10y)\n",
      "Skipped SMP - insufficient data\n",
      "Processing TSM...\n"
     ]
    },
    {
     "name": "stderr",
     "output_type": "stream",
     "text": [
      "$TSM: possibly delisted; no price data found  (1d 2014-01-28 00:00:00 -> 2025-01-28)\n"
     ]
    },
    {
     "name": "stdout",
     "output_type": "stream",
     "text": [
      "No data found for TSM (10y)\n",
      "Skipped TSM - insufficient data\n",
      "Processing PLXS...\n"
     ]
    },
    {
     "name": "stderr",
     "output_type": "stream",
     "text": [
      "$PLXS: possibly delisted; no price data found  (1d 2014-01-28 00:00:00 -> 2025-01-28)\n"
     ]
    },
    {
     "name": "stdout",
     "output_type": "stream",
     "text": [
      "No data found for PLXS (10y)\n",
      "Skipped PLXS - insufficient data\n",
      "Processing NHI...\n"
     ]
    },
    {
     "name": "stderr",
     "output_type": "stream",
     "text": [
      "$NHI: possibly delisted; no price data found  (1d 2014-01-28 00:00:00 -> 2025-01-28)\n"
     ]
    },
    {
     "name": "stdout",
     "output_type": "stream",
     "text": [
      "No data found for NHI (10y)\n",
      "Skipped NHI - insufficient data\n",
      "Processing INGR...\n"
     ]
    },
    {
     "name": "stderr",
     "output_type": "stream",
     "text": [
      "$INGR: possibly delisted; no price data found  (1d 2014-01-28 00:00:00 -> 2025-01-28)\n"
     ]
    },
    {
     "name": "stdout",
     "output_type": "stream",
     "text": [
      "No data found for INGR (10y)\n",
      "Skipped INGR - insufficient data\n",
      "Processing CFB...\n"
     ]
    },
    {
     "name": "stderr",
     "output_type": "stream",
     "text": [
      "$CFB: possibly delisted; no price data found  (1d 2014-01-28 00:00:00 -> 2025-01-28)\n"
     ]
    },
    {
     "name": "stdout",
     "output_type": "stream",
     "text": [
      "No data found for CFB (10y)\n",
      "Skipped CFB - insufficient data\n",
      "Processing ALB...\n"
     ]
    },
    {
     "name": "stderr",
     "output_type": "stream",
     "text": [
      "$ALB: possibly delisted; no price data found  (1d 2014-01-28 00:00:00 -> 2025-01-28)\n"
     ]
    },
    {
     "name": "stdout",
     "output_type": "stream",
     "text": [
      "No data found for ALB (10y)\n",
      "Skipped ALB - insufficient data\n",
      "Processing BDJ...\n"
     ]
    },
    {
     "name": "stderr",
     "output_type": "stream",
     "text": [
      "$BDJ: possibly delisted; no price data found  (1d 2014-01-28 00:00:00 -> 2025-01-28)\n"
     ]
    },
    {
     "name": "stdout",
     "output_type": "stream",
     "text": [
      "No data found for BDJ (10y)\n",
      "Skipped BDJ - insufficient data\n",
      "Processing TPZ...\n"
     ]
    },
    {
     "name": "stderr",
     "output_type": "stream",
     "text": [
      "$TPZ: possibly delisted; no price data found  (1d 2014-01-28 00:00:00 -> 2025-01-28)\n"
     ]
    },
    {
     "name": "stdout",
     "output_type": "stream",
     "text": [
      "No data found for TPZ (10y)\n",
      "Skipped TPZ - insufficient data\n",
      "Processing ATEC...\n"
     ]
    },
    {
     "name": "stderr",
     "output_type": "stream",
     "text": [
      "$ATEC: possibly delisted; no price data found  (1d 2014-01-28 00:00:00 -> 2025-01-28)\n"
     ]
    },
    {
     "name": "stdout",
     "output_type": "stream",
     "text": [
      "No data found for ATEC (10y)\n",
      "Skipped ATEC - insufficient data\n",
      "Processing ST...\n"
     ]
    },
    {
     "name": "stderr",
     "output_type": "stream",
     "text": [
      "$ST: possibly delisted; no price data found  (1d 2014-01-28 00:00:00 -> 2025-01-28)\n"
     ]
    },
    {
     "name": "stdout",
     "output_type": "stream",
     "text": [
      "No data found for ST (10y)\n",
      "Skipped ST - insufficient data\n",
      "Processing NUE...\n"
     ]
    },
    {
     "name": "stderr",
     "output_type": "stream",
     "text": [
      "$NUE: possibly delisted; no price data found  (1d 2014-01-28 00:00:00 -> 2025-01-28)\n"
     ]
    },
    {
     "name": "stdout",
     "output_type": "stream",
     "text": [
      "No data found for NUE (10y)\n",
      "Skipped NUE - insufficient data\n",
      "Processing BK...\n"
     ]
    },
    {
     "name": "stderr",
     "output_type": "stream",
     "text": [
      "$BK: possibly delisted; no price data found  (1d 2014-01-28 00:00:00 -> 2025-01-28)\n"
     ]
    },
    {
     "name": "stdout",
     "output_type": "stream",
     "text": [
      "No data found for BK (10y)\n",
      "Skipped BK - insufficient data\n",
      "Processing PHT...\n",
      "Processing SJW...\n",
      "Processing THRD...\n",
      "Processing TD...\n",
      "Processing CBZ...\n",
      "Processing PLPC...\n",
      "Processing ATSG...\n",
      "Processing APD...\n",
      "Processing AEIS...\n",
      "Processing SRCE...\n",
      "Processing FF...\n",
      "Processing GE...\n",
      "Processing HD...\n",
      "Processing IX...\n",
      "Processing OIA...\n",
      "Processing FLIC...\n",
      "Processing HMST...\n",
      "Processing NEE...\n",
      "Processing MAV...\n",
      "\n",
      "Columns in final dataset: ['Date', 'Open', 'Close', 'Volume', 'Dividends', 'Stock Splits', 'Future Year Change', 'Ticker', 'Industry', 'P/E', 'EV/EBIT', 'ROIC']\n"
     ]
    },
    {
     "name": "stderr",
     "output_type": "stream",
     "text": [
      "429 Client Error: Too Many Requests for url: https://query2.finance.yahoo.com/v10/finance/quoteSummary/PFG?modules=financialData%2CquoteType%2CdefaultKeyStatistics%2CassetProfile%2CsummaryDetail&corsDomain=finance.yahoo.com&formatted=false&symbol=PFG&crumb=Edge%3A+Too+Many+Requests\n",
      "429 Client Error: Too Many Requests for url: https://query2.finance.yahoo.com/v10/finance/quoteSummary/ALVR?modules=financialData%2CquoteType%2CdefaultKeyStatistics%2CassetProfile%2CsummaryDetail&corsDomain=finance.yahoo.com&formatted=false&symbol=ALVR&crumb=Edge%3A+Too+Many+Requests\n",
      "429 Client Error: Too Many Requests for url: https://query2.finance.yahoo.com/v10/finance/quoteSummary/LECO?modules=financialData%2CquoteType%2CdefaultKeyStatistics%2CassetProfile%2CsummaryDetail&corsDomain=finance.yahoo.com&formatted=false&symbol=LECO&crumb=Edge%3A+Too+Many+Requests\n",
      "429 Client Error: Too Many Requests for url: https://query2.finance.yahoo.com/v10/finance/quoteSummary/HAIN?modules=financialData%2CquoteType%2CdefaultKeyStatistics%2CassetProfile%2CsummaryDetail&corsDomain=finance.yahoo.com&formatted=false&symbol=HAIN&crumb=Edge%3A+Too+Many+Requests\n",
      "429 Client Error: Too Many Requests for url: https://query2.finance.yahoo.com/v10/finance/quoteSummary/AMWD?modules=financialData%2CquoteType%2CdefaultKeyStatistics%2CassetProfile%2CsummaryDetail&corsDomain=finance.yahoo.com&formatted=false&symbol=AMWD&crumb=Edge%3A+Too+Many+Requests\n",
      "429 Client Error: Too Many Requests for url: https://query2.finance.yahoo.com/v10/finance/quoteSummary/MNOV?modules=financialData%2CquoteType%2CdefaultKeyStatistics%2CassetProfile%2CsummaryDetail&corsDomain=finance.yahoo.com&formatted=false&symbol=MNOV&crumb=Edge%3A+Too+Many+Requests\n",
      "429 Client Error: Too Many Requests for url: https://query2.finance.yahoo.com/v10/finance/quoteSummary/NVR?modules=financialData%2CquoteType%2CdefaultKeyStatistics%2CassetProfile%2CsummaryDetail&corsDomain=finance.yahoo.com&formatted=false&symbol=NVR&crumb=Edge%3A+Too+Many+Requests\n",
      "429 Client Error: Too Many Requests for url: https://query2.finance.yahoo.com/v10/finance/quoteSummary/MERC?modules=financialData%2CquoteType%2CdefaultKeyStatistics%2CassetProfile%2CsummaryDetail&corsDomain=finance.yahoo.com&formatted=false&symbol=MERC&crumb=Edge%3A+Too+Many+Requests\n",
      "429 Client Error: Too Many Requests for url: https://query2.finance.yahoo.com/v10/finance/quoteSummary/GERN?modules=financialData%2CquoteType%2CdefaultKeyStatistics%2CassetProfile%2CsummaryDetail&corsDomain=finance.yahoo.com&formatted=false&symbol=GERN&crumb=Edge%3A+Too+Many+Requests\n",
      "429 Client Error: Too Many Requests for url: https://query2.finance.yahoo.com/v10/finance/quoteSummary/SLF?modules=financialData%2CquoteType%2CdefaultKeyStatistics%2CassetProfile%2CsummaryDetail&corsDomain=finance.yahoo.com&formatted=false&symbol=SLF&crumb=Edge%3A+Too+Many+Requests\n",
      "429 Client Error: Too Many Requests for url: https://query2.finance.yahoo.com/v10/finance/quoteSummary/ALGN?modules=financialData%2CquoteType%2CdefaultKeyStatistics%2CassetProfile%2CsummaryDetail&corsDomain=finance.yahoo.com&formatted=false&symbol=ALGN&crumb=Edge%3A+Too+Many+Requests\n",
      "429 Client Error: Too Many Requests for url: https://query2.finance.yahoo.com/v10/finance/quoteSummary/AKR?modules=financialData%2CquoteType%2CdefaultKeyStatistics%2CassetProfile%2CsummaryDetail&corsDomain=finance.yahoo.com&formatted=false&symbol=AKR&crumb=Edge%3A+Too+Many+Requests\n",
      "429 Client Error: Too Many Requests for url: https://query2.finance.yahoo.com/v10/finance/quoteSummary/ZBRA?modules=financialData%2CquoteType%2CdefaultKeyStatistics%2CassetProfile%2CsummaryDetail&corsDomain=finance.yahoo.com&formatted=false&symbol=ZBRA&crumb=Edge%3A+Too+Many+Requests\n",
      "429 Client Error: Too Many Requests for url: https://query2.finance.yahoo.com/v10/finance/quoteSummary/BTA?modules=financialData%2CquoteType%2CdefaultKeyStatistics%2CassetProfile%2CsummaryDetail&corsDomain=finance.yahoo.com&formatted=false&symbol=BTA&crumb=Edge%3A+Too+Many+Requests\n",
      "429 Client Error: Too Many Requests for url: https://query2.finance.yahoo.com/v10/finance/quoteSummary/PRKR?modules=financialData%2CquoteType%2CdefaultKeyStatistics%2CassetProfile%2CsummaryDetail&corsDomain=finance.yahoo.com&formatted=false&symbol=PRKR&crumb=Edge%3A+Too+Many+Requests\n",
      "429 Client Error: Too Many Requests for url: https://query2.finance.yahoo.com/v10/finance/quoteSummary/PRTS?modules=financialData%2CquoteType%2CdefaultKeyStatistics%2CassetProfile%2CsummaryDetail&corsDomain=finance.yahoo.com&formatted=false&symbol=PRTS&crumb=Edge%3A+Too+Many+Requests\n",
      "429 Client Error: Too Many Requests for url: https://query2.finance.yahoo.com/v10/finance/quoteSummary/CIA?modules=financialData%2CquoteType%2CdefaultKeyStatistics%2CassetProfile%2CsummaryDetail&corsDomain=finance.yahoo.com&formatted=false&symbol=CIA&crumb=Edge%3A+Too+Many+Requests\n",
      "429 Client Error: Too Many Requests for url: https://query2.finance.yahoo.com/v10/finance/quoteSummary/ATNI?modules=financialData%2CquoteType%2CdefaultKeyStatistics%2CassetProfile%2CsummaryDetail&corsDomain=finance.yahoo.com&formatted=false&symbol=ATNI&crumb=Edge%3A+Too+Many+Requests\n",
      "429 Client Error: Too Many Requests for url: https://query2.finance.yahoo.com/v10/finance/quoteSummary/GEVO?modules=financialData%2CquoteType%2CdefaultKeyStatistics%2CassetProfile%2CsummaryDetail&corsDomain=finance.yahoo.com&formatted=false&symbol=GEVO&crumb=Edge%3A+Too+Many+Requests\n",
      "429 Client Error: Too Many Requests for url: https://query2.finance.yahoo.com/v10/finance/quoteSummary/STI?modules=financialData%2CquoteType%2CdefaultKeyStatistics%2CassetProfile%2CsummaryDetail&corsDomain=finance.yahoo.com&formatted=false&symbol=STI&crumb=Edge%3A+Too+Many+Requests\n",
      "429 Client Error: Too Many Requests for url: https://query2.finance.yahoo.com/v10/finance/quoteSummary/CCU?modules=financialData%2CquoteType%2CdefaultKeyStatistics%2CassetProfile%2CsummaryDetail&corsDomain=finance.yahoo.com&formatted=false&symbol=CCU&crumb=Edge%3A+Too+Many+Requests\n",
      "429 Client Error: Too Many Requests for url: https://query2.finance.yahoo.com/v10/finance/quoteSummary/PEG?modules=financialData%2CquoteType%2CdefaultKeyStatistics%2CassetProfile%2CsummaryDetail&corsDomain=finance.yahoo.com&formatted=false&symbol=PEG&crumb=Edge%3A+Too+Many+Requests\n",
      "429 Client Error: Too Many Requests for url: https://query2.finance.yahoo.com/v10/finance/quoteSummary/SLP?modules=financialData%2CquoteType%2CdefaultKeyStatistics%2CassetProfile%2CsummaryDetail&corsDomain=finance.yahoo.com&formatted=false&symbol=SLP&crumb=Edge%3A+Too+Many+Requests\n",
      "429 Client Error: Too Many Requests for url: https://query2.finance.yahoo.com/v10/finance/quoteSummary/CMP?modules=financialData%2CquoteType%2CdefaultKeyStatistics%2CassetProfile%2CsummaryDetail&corsDomain=finance.yahoo.com&formatted=false&symbol=CMP&crumb=Edge%3A+Too+Many+Requests\n",
      "429 Client Error: Too Many Requests for url: https://query2.finance.yahoo.com/v10/finance/quoteSummary/IGA?modules=financialData%2CquoteType%2CdefaultKeyStatistics%2CassetProfile%2CsummaryDetail&corsDomain=finance.yahoo.com&formatted=false&symbol=IGA&crumb=Edge%3A+Too+Many+Requests\n",
      "429 Client Error: Too Many Requests for url: https://query2.finance.yahoo.com/v10/finance/quoteSummary/CPA?modules=financialData%2CquoteType%2CdefaultKeyStatistics%2CassetProfile%2CsummaryDetail&corsDomain=finance.yahoo.com&formatted=false&symbol=CPA&crumb=Edge%3A+Too+Many+Requests\n",
      "429 Client Error: Too Many Requests for url: https://query2.finance.yahoo.com/v10/finance/quoteSummary/NPV?modules=financialData%2CquoteType%2CdefaultKeyStatistics%2CassetProfile%2CsummaryDetail&corsDomain=finance.yahoo.com&formatted=false&symbol=NPV&crumb=Edge%3A+Too+Many+Requests\n",
      "429 Client Error: Too Many Requests for url: https://query2.finance.yahoo.com/v10/finance/quoteSummary/FOXA?modules=financialData%2CquoteType%2CdefaultKeyStatistics%2CassetProfile%2CsummaryDetail&corsDomain=finance.yahoo.com&formatted=false&symbol=FOXA&crumb=Edge%3A+Too+Many+Requests\n",
      "429 Client Error: Too Many Requests for url: https://query2.finance.yahoo.com/v10/finance/quoteSummary/SRPT?modules=financialData%2CquoteType%2CdefaultKeyStatistics%2CassetProfile%2CsummaryDetail&corsDomain=finance.yahoo.com&formatted=false&symbol=SRPT&crumb=Edge%3A+Too+Many+Requests\n",
      "429 Client Error: Too Many Requests for url: https://query2.finance.yahoo.com/v10/finance/quoteSummary/SEM?modules=financialData%2CquoteType%2CdefaultKeyStatistics%2CassetProfile%2CsummaryDetail&corsDomain=finance.yahoo.com&formatted=false&symbol=SEM&crumb=Edge%3A+Too+Many+Requests\n",
      "429 Client Error: Too Many Requests for url: https://query2.finance.yahoo.com/v10/finance/quoteSummary/CLH?modules=financialData%2CquoteType%2CdefaultKeyStatistics%2CassetProfile%2CsummaryDetail&corsDomain=finance.yahoo.com&formatted=false&symbol=CLH&crumb=Edge%3A+Too+Many+Requests\n",
      "429 Client Error: Too Many Requests for url: https://query2.finance.yahoo.com/v10/finance/quoteSummary/CYH?modules=financialData%2CquoteType%2CdefaultKeyStatistics%2CassetProfile%2CsummaryDetail&corsDomain=finance.yahoo.com&formatted=false&symbol=CYH&crumb=Edge%3A+Too+Many+Requests\n",
      "429 Client Error: Too Many Requests for url: https://query2.finance.yahoo.com/v10/finance/quoteSummary/IHG?modules=financialData%2CquoteType%2CdefaultKeyStatistics%2CassetProfile%2CsummaryDetail&corsDomain=finance.yahoo.com&formatted=false&symbol=IHG&crumb=Edge%3A+Too+Many+Requests\n",
      "429 Client Error: Too Many Requests for url: https://query2.finance.yahoo.com/v10/finance/quoteSummary/PRGS?modules=financialData%2CquoteType%2CdefaultKeyStatistics%2CassetProfile%2CsummaryDetail&corsDomain=finance.yahoo.com&formatted=false&symbol=PRGS&crumb=Edge%3A+Too+Many+Requests\n",
      "429 Client Error: Too Many Requests for url: https://query2.finance.yahoo.com/v10/finance/quoteSummary/GRPN?modules=financialData%2CquoteType%2CdefaultKeyStatistics%2CassetProfile%2CsummaryDetail&corsDomain=finance.yahoo.com&formatted=false&symbol=GRPN&crumb=Edge%3A+Too+Many+Requests\n",
      "429 Client Error: Too Many Requests for url: https://query2.finance.yahoo.com/v10/finance/quoteSummary/SPSC?modules=financialData%2CquoteType%2CdefaultKeyStatistics%2CassetProfile%2CsummaryDetail&corsDomain=finance.yahoo.com&formatted=false&symbol=SPSC&crumb=Edge%3A+Too+Many+Requests\n",
      "429 Client Error: Too Many Requests for url: https://query2.finance.yahoo.com/v10/finance/quoteSummary/HOG?modules=financialData%2CquoteType%2CdefaultKeyStatistics%2CassetProfile%2CsummaryDetail&corsDomain=finance.yahoo.com&formatted=false&symbol=HOG&crumb=Edge%3A+Too+Many+Requests\n",
      "429 Client Error: Too Many Requests for url: https://query2.finance.yahoo.com/v10/finance/quoteSummary/FICO?modules=financialData%2CquoteType%2CdefaultKeyStatistics%2CassetProfile%2CsummaryDetail&corsDomain=finance.yahoo.com&formatted=false&symbol=FICO&crumb=Edge%3A+Too+Many+Requests\n",
      "429 Client Error: Too Many Requests for url: https://query2.finance.yahoo.com/v10/finance/quoteSummary/AEHR?modules=financialData%2CquoteType%2CdefaultKeyStatistics%2CassetProfile%2CsummaryDetail&corsDomain=finance.yahoo.com&formatted=false&symbol=AEHR&crumb=Edge%3A+Too+Many+Requests\n",
      "429 Client Error: Too Many Requests for url: https://query2.finance.yahoo.com/v10/finance/quoteSummary/G?modules=financialData%2CquoteType%2CdefaultKeyStatistics%2CassetProfile%2CsummaryDetail&corsDomain=finance.yahoo.com&formatted=false&symbol=G&crumb=Edge%3A+Too+Many+Requests\n",
      "429 Client Error: Too Many Requests for url: https://query2.finance.yahoo.com/v10/finance/quoteSummary/BHE?modules=financialData%2CquoteType%2CdefaultKeyStatistics%2CassetProfile%2CsummaryDetail&corsDomain=finance.yahoo.com&formatted=false&symbol=BHE&crumb=Edge%3A+Too+Many+Requests\n",
      "429 Client Error: Too Many Requests for url: https://query2.finance.yahoo.com/v10/finance/quoteSummary/CHW?modules=financialData%2CquoteType%2CdefaultKeyStatistics%2CassetProfile%2CsummaryDetail&corsDomain=finance.yahoo.com&formatted=false&symbol=CHW&crumb=Edge%3A+Too+Many+Requests\n",
      "429 Client Error: Too Many Requests for url: https://query2.finance.yahoo.com/v10/finance/quoteSummary/HPI?modules=financialData%2CquoteType%2CdefaultKeyStatistics%2CassetProfile%2CsummaryDetail&corsDomain=finance.yahoo.com&formatted=false&symbol=HPI&crumb=Edge%3A+Too+Many+Requests\n",
      "429 Client Error: Too Many Requests for url: https://query2.finance.yahoo.com/v10/finance/quoteSummary/JFR?modules=financialData%2CquoteType%2CdefaultKeyStatistics%2CassetProfile%2CsummaryDetail&corsDomain=finance.yahoo.com&formatted=false&symbol=JFR&crumb=Edge%3A+Too+Many+Requests\n",
      "429 Client Error: Too Many Requests for url: https://query2.finance.yahoo.com/v10/finance/quoteSummary/CPRX?modules=financialData%2CquoteType%2CdefaultKeyStatistics%2CassetProfile%2CsummaryDetail&corsDomain=finance.yahoo.com&formatted=false&symbol=CPRX&crumb=Edge%3A+Too+Many+Requests\n",
      "429 Client Error: Too Many Requests for url: https://query2.finance.yahoo.com/v10/finance/quoteSummary/ITUB?modules=financialData%2CquoteType%2CdefaultKeyStatistics%2CassetProfile%2CsummaryDetail&corsDomain=finance.yahoo.com&formatted=false&symbol=ITUB&crumb=Edge%3A+Too+Many+Requests\n",
      "429 Client Error: Too Many Requests for url: https://query2.finance.yahoo.com/v10/finance/quoteSummary/WPRT?modules=financialData%2CquoteType%2CdefaultKeyStatistics%2CassetProfile%2CsummaryDetail&corsDomain=finance.yahoo.com&formatted=false&symbol=WPRT&crumb=Edge%3A+Too+Many+Requests\n",
      "429 Client Error: Too Many Requests for url: https://query2.finance.yahoo.com/v10/finance/quoteSummary/CATO?modules=financialData%2CquoteType%2CdefaultKeyStatistics%2CassetProfile%2CsummaryDetail&corsDomain=finance.yahoo.com&formatted=false&symbol=CATO&crumb=Edge%3A+Too+Many+Requests\n",
      "429 Client Error: Too Many Requests for url: https://query2.finance.yahoo.com/v10/finance/quoteSummary/CME?modules=financialData%2CquoteType%2CdefaultKeyStatistics%2CassetProfile%2CsummaryDetail&corsDomain=finance.yahoo.com&formatted=false&symbol=CME&crumb=Edge%3A+Too+Many+Requests\n",
      "429 Client Error: Too Many Requests for url: https://query2.finance.yahoo.com/v10/finance/quoteSummary/KBH?modules=financialData%2CquoteType%2CdefaultKeyStatistics%2CassetProfile%2CsummaryDetail&corsDomain=finance.yahoo.com&formatted=false&symbol=KBH&crumb=Edge%3A+Too+Many+Requests\n",
      "429 Client Error: Too Many Requests for url: https://query2.finance.yahoo.com/v10/finance/quoteSummary/THG?modules=financialData%2CquoteType%2CdefaultKeyStatistics%2CassetProfile%2CsummaryDetail&corsDomain=finance.yahoo.com&formatted=false&symbol=THG&crumb=Edge%3A+Too+Many+Requests\n",
      "429 Client Error: Too Many Requests for url: https://query2.finance.yahoo.com/v10/finance/quoteSummary/HYT?modules=financialData%2CquoteType%2CdefaultKeyStatistics%2CassetProfile%2CsummaryDetail&corsDomain=finance.yahoo.com&formatted=false&symbol=HYT&crumb=Edge%3A+Too+Many+Requests\n",
      "429 Client Error: Too Many Requests for url: https://query2.finance.yahoo.com/v10/finance/quoteSummary/STAG?modules=financialData%2CquoteType%2CdefaultKeyStatistics%2CassetProfile%2CsummaryDetail&corsDomain=finance.yahoo.com&formatted=false&symbol=STAG&crumb=Edge%3A+Too+Many+Requests\n",
      "429 Client Error: Too Many Requests for url: https://query2.finance.yahoo.com/v10/finance/quoteSummary/HSIC?modules=financialData%2CquoteType%2CdefaultKeyStatistics%2CassetProfile%2CsummaryDetail&corsDomain=finance.yahoo.com&formatted=false&symbol=HSIC&crumb=Edge%3A+Too+Many+Requests\n",
      "429 Client Error: Too Many Requests for url: https://query2.finance.yahoo.com/v10/finance/quoteSummary/DHI?modules=financialData%2CquoteType%2CdefaultKeyStatistics%2CassetProfile%2CsummaryDetail&corsDomain=finance.yahoo.com&formatted=false&symbol=DHI&crumb=Edge%3A+Too+Many+Requests\n",
      "429 Client Error: Too Many Requests for url: https://query2.finance.yahoo.com/v10/finance/quoteSummary/BKE?modules=financialData%2CquoteType%2CdefaultKeyStatistics%2CassetProfile%2CsummaryDetail&corsDomain=finance.yahoo.com&formatted=false&symbol=BKE&crumb=Edge%3A+Too+Many+Requests\n",
      "429 Client Error: Too Many Requests for url: https://query2.finance.yahoo.com/v10/finance/quoteSummary/SWZ?modules=financialData%2CquoteType%2CdefaultKeyStatistics%2CassetProfile%2CsummaryDetail&corsDomain=finance.yahoo.com&formatted=false&symbol=SWZ&crumb=Edge%3A+Too+Many+Requests\n",
      "429 Client Error: Too Many Requests for url: https://query2.finance.yahoo.com/v10/finance/quoteSummary/SUPN?modules=financialData%2CquoteType%2CdefaultKeyStatistics%2CassetProfile%2CsummaryDetail&corsDomain=finance.yahoo.com&formatted=false&symbol=SUPN&crumb=Edge%3A+Too+Many+Requests\n",
      "429 Client Error: Too Many Requests for url: https://query2.finance.yahoo.com/v10/finance/quoteSummary/AVAV?modules=financialData%2CquoteType%2CdefaultKeyStatistics%2CassetProfile%2CsummaryDetail&corsDomain=finance.yahoo.com&formatted=false&symbol=AVAV&crumb=Edge%3A+Too+Many+Requests\n",
      "429 Client Error: Too Many Requests for url: https://query2.finance.yahoo.com/v10/finance/quoteSummary/BGS?modules=financialData%2CquoteType%2CdefaultKeyStatistics%2CassetProfile%2CsummaryDetail&corsDomain=finance.yahoo.com&formatted=false&symbol=BGS&crumb=Edge%3A+Too+Many+Requests\n",
      "429 Client Error: Too Many Requests for url: https://query2.finance.yahoo.com/v10/finance/quoteSummary/PZZA?modules=financialData%2CquoteType%2CdefaultKeyStatistics%2CassetProfile%2CsummaryDetail&corsDomain=finance.yahoo.com&formatted=false&symbol=PZZA&crumb=Edge%3A+Too+Many+Requests\n",
      "429 Client Error: Too Many Requests for url: https://query2.finance.yahoo.com/v10/finance/quoteSummary/NDP?modules=financialData%2CquoteType%2CdefaultKeyStatistics%2CassetProfile%2CsummaryDetail&corsDomain=finance.yahoo.com&formatted=false&symbol=NDP&crumb=Edge%3A+Too+Many+Requests\n",
      "429 Client Error: Too Many Requests for url: https://query2.finance.yahoo.com/v10/finance/quoteSummary/IIF?modules=financialData%2CquoteType%2CdefaultKeyStatistics%2CassetProfile%2CsummaryDetail&corsDomain=finance.yahoo.com&formatted=false&symbol=IIF&crumb=Edge%3A+Too+Many+Requests\n",
      "429 Client Error: Too Many Requests for url: https://query2.finance.yahoo.com/v10/finance/quoteSummary/GTY?modules=financialData%2CquoteType%2CdefaultKeyStatistics%2CassetProfile%2CsummaryDetail&corsDomain=finance.yahoo.com&formatted=false&symbol=GTY&crumb=Edge%3A+Too+Many+Requests\n",
      "429 Client Error: Too Many Requests for url: https://query2.finance.yahoo.com/v10/finance/quoteSummary/ABM?modules=financialData%2CquoteType%2CdefaultKeyStatistics%2CassetProfile%2CsummaryDetail&corsDomain=finance.yahoo.com&formatted=false&symbol=ABM&crumb=Edge%3A+Too+Many+Requests\n",
      "429 Client Error: Too Many Requests for url: https://query2.finance.yahoo.com/v10/finance/quoteSummary/MATW?modules=financialData%2CquoteType%2CdefaultKeyStatistics%2CassetProfile%2CsummaryDetail&corsDomain=finance.yahoo.com&formatted=false&symbol=MATW&crumb=Edge%3A+Too+Many+Requests\n",
      "429 Client Error: Too Many Requests for url: https://query2.finance.yahoo.com/v10/finance/quoteSummary/FOXF?modules=financialData%2CquoteType%2CdefaultKeyStatistics%2CassetProfile%2CsummaryDetail&corsDomain=finance.yahoo.com&formatted=false&symbol=FOXF&crumb=Edge%3A+Too+Many+Requests\n",
      "429 Client Error: Too Many Requests for url: https://query2.finance.yahoo.com/v10/finance/quoteSummary/FHN?modules=financialData%2CquoteType%2CdefaultKeyStatistics%2CassetProfile%2CsummaryDetail&corsDomain=finance.yahoo.com&formatted=false&symbol=FHN&crumb=Edge%3A+Too+Many+Requests\n",
      "429 Client Error: Too Many Requests for url: https://query2.finance.yahoo.com/v10/finance/quoteSummary/GNK?modules=financialData%2CquoteType%2CdefaultKeyStatistics%2CassetProfile%2CsummaryDetail&corsDomain=finance.yahoo.com&formatted=false&symbol=GNK&crumb=Edge%3A+Too+Many+Requests\n",
      "429 Client Error: Too Many Requests for url: https://query2.finance.yahoo.com/v10/finance/quoteSummary/KRC?modules=financialData%2CquoteType%2CdefaultKeyStatistics%2CassetProfile%2CsummaryDetail&corsDomain=finance.yahoo.com&formatted=false&symbol=KRC&crumb=Edge%3A+Too+Many+Requests\n",
      "429 Client Error: Too Many Requests for url: https://query2.finance.yahoo.com/v10/finance/quoteSummary/IFN?modules=financialData%2CquoteType%2CdefaultKeyStatistics%2CassetProfile%2CsummaryDetail&corsDomain=finance.yahoo.com&formatted=false&symbol=IFN&crumb=Edge%3A+Too+Many+Requests\n",
      "429 Client Error: Too Many Requests for url: https://query2.finance.yahoo.com/v10/finance/quoteSummary/CX?modules=financialData%2CquoteType%2CdefaultKeyStatistics%2CassetProfile%2CsummaryDetail&corsDomain=finance.yahoo.com&formatted=false&symbol=CX&crumb=Edge%3A+Too+Many+Requests\n",
      "429 Client Error: Too Many Requests for url: https://query2.finance.yahoo.com/v10/finance/quoteSummary/SYBT?modules=financialData%2CquoteType%2CdefaultKeyStatistics%2CassetProfile%2CsummaryDetail&corsDomain=finance.yahoo.com&formatted=false&symbol=SYBT&crumb=Edge%3A+Too+Many+Requests\n",
      "429 Client Error: Too Many Requests for url: https://query2.finance.yahoo.com/v10/finance/quoteSummary/SSP?modules=financialData%2CquoteType%2CdefaultKeyStatistics%2CassetProfile%2CsummaryDetail&corsDomain=finance.yahoo.com&formatted=false&symbol=SSP&crumb=Edge%3A+Too+Many+Requests\n",
      "429 Client Error: Too Many Requests for url: https://query2.finance.yahoo.com/v10/finance/quoteSummary/CTRN?modules=financialData%2CquoteType%2CdefaultKeyStatistics%2CassetProfile%2CsummaryDetail&corsDomain=finance.yahoo.com&formatted=false&symbol=CTRN&crumb=Edge%3A+Too+Many+Requests\n",
      "429 Client Error: Too Many Requests for url: https://query2.finance.yahoo.com/v10/finance/quoteSummary/NWE?modules=financialData%2CquoteType%2CdefaultKeyStatistics%2CassetProfile%2CsummaryDetail&corsDomain=finance.yahoo.com&formatted=false&symbol=NWE&crumb=Edge%3A+Too+Many+Requests\n",
      "429 Client Error: Too Many Requests for url: https://query2.finance.yahoo.com/v10/finance/quoteSummary/NMM?modules=financialData%2CquoteType%2CdefaultKeyStatistics%2CassetProfile%2CsummaryDetail&corsDomain=finance.yahoo.com&formatted=false&symbol=NMM&crumb=Edge%3A+Too+Many+Requests\n",
      "429 Client Error: Too Many Requests for url: https://query2.finance.yahoo.com/v10/finance/quoteSummary/SPR?modules=financialData%2CquoteType%2CdefaultKeyStatistics%2CassetProfile%2CsummaryDetail&corsDomain=finance.yahoo.com&formatted=false&symbol=SPR&crumb=Edge%3A+Too+Many+Requests\n",
      "429 Client Error: Too Many Requests for url: https://query2.finance.yahoo.com/v10/finance/quoteSummary/OTTR?modules=financialData%2CquoteType%2CdefaultKeyStatistics%2CassetProfile%2CsummaryDetail&corsDomain=finance.yahoo.com&formatted=false&symbol=OTTR&crumb=Edge%3A+Too+Many+Requests\n",
      "429 Client Error: Too Many Requests for url: https://query2.finance.yahoo.com/v10/finance/quoteSummary/JOE?modules=financialData%2CquoteType%2CdefaultKeyStatistics%2CassetProfile%2CsummaryDetail&corsDomain=finance.yahoo.com&formatted=false&symbol=JOE&crumb=Edge%3A+Too+Many+Requests\n",
      "429 Client Error: Too Many Requests for url: https://query2.finance.yahoo.com/v10/finance/quoteSummary/Z?modules=financialData%2CquoteType%2CdefaultKeyStatistics%2CassetProfile%2CsummaryDetail&corsDomain=finance.yahoo.com&formatted=false&symbol=Z&crumb=Edge%3A+Too+Many+Requests\n",
      "429 Client Error: Too Many Requests for url: https://query2.finance.yahoo.com/v10/finance/quoteSummary/LND?modules=financialData%2CquoteType%2CdefaultKeyStatistics%2CassetProfile%2CsummaryDetail&corsDomain=finance.yahoo.com&formatted=false&symbol=LND&crumb=Edge%3A+Too+Many+Requests\n",
      "429 Client Error: Too Many Requests for url: https://query2.finance.yahoo.com/v10/finance/quoteSummary/PNFP?modules=financialData%2CquoteType%2CdefaultKeyStatistics%2CassetProfile%2CsummaryDetail&corsDomain=finance.yahoo.com&formatted=false&symbol=PNFP&crumb=Edge%3A+Too+Many+Requests\n",
      "429 Client Error: Too Many Requests for url: https://query2.finance.yahoo.com/v10/finance/quoteSummary/DAR?modules=financialData%2CquoteType%2CdefaultKeyStatistics%2CassetProfile%2CsummaryDetail&corsDomain=finance.yahoo.com&formatted=false&symbol=DAR&crumb=Edge%3A+Too+Many+Requests\n",
      "429 Client Error: Too Many Requests for url: https://query2.finance.yahoo.com/v10/finance/quoteSummary/PCN?modules=financialData%2CquoteType%2CdefaultKeyStatistics%2CassetProfile%2CsummaryDetail&corsDomain=finance.yahoo.com&formatted=false&symbol=PCN&crumb=Edge%3A+Too+Many+Requests\n",
      "429 Client Error: Too Many Requests for url: https://query2.finance.yahoo.com/v10/finance/quoteSummary/SQM?modules=financialData%2CquoteType%2CdefaultKeyStatistics%2CassetProfile%2CsummaryDetail&corsDomain=finance.yahoo.com&formatted=false&symbol=SQM&crumb=Edge%3A+Too+Many+Requests\n",
      "429 Client Error: Too Many Requests for url: https://query2.finance.yahoo.com/v10/finance/quoteSummary/CVX?modules=financialData%2CquoteType%2CdefaultKeyStatistics%2CassetProfile%2CsummaryDetail&corsDomain=finance.yahoo.com&formatted=false&symbol=CVX&crumb=Edge%3A+Too+Many+Requests\n",
      "429 Client Error: Too Many Requests for url: https://query2.finance.yahoo.com/v10/finance/quoteSummary/PRI?modules=financialData%2CquoteType%2CdefaultKeyStatistics%2CassetProfile%2CsummaryDetail&corsDomain=finance.yahoo.com&formatted=false&symbol=PRI&crumb=Edge%3A+Too+Many+Requests\n",
      "429 Client Error: Too Many Requests for url: https://query2.finance.yahoo.com/v10/finance/quoteSummary/PAI?modules=financialData%2CquoteType%2CdefaultKeyStatistics%2CassetProfile%2CsummaryDetail&corsDomain=finance.yahoo.com&formatted=false&symbol=PAI&crumb=Edge%3A+Too+Many+Requests\n",
      "429 Client Error: Too Many Requests for url: https://query2.finance.yahoo.com/v10/finance/quoteSummary/HELE?modules=financialData%2CquoteType%2CdefaultKeyStatistics%2CassetProfile%2CsummaryDetail&corsDomain=finance.yahoo.com&formatted=false&symbol=HELE&crumb=Edge%3A+Too+Many+Requests\n",
      "429 Client Error: Too Many Requests for url: https://query2.finance.yahoo.com/v10/finance/quoteSummary/BFZ?modules=financialData%2CquoteType%2CdefaultKeyStatistics%2CassetProfile%2CsummaryDetail&corsDomain=finance.yahoo.com&formatted=false&symbol=BFZ&crumb=Edge%3A+Too+Many+Requests\n",
      "429 Client Error: Too Many Requests for url: https://query2.finance.yahoo.com/v10/finance/quoteSummary/PFMT?modules=financialData%2CquoteType%2CdefaultKeyStatistics%2CassetProfile%2CsummaryDetail&corsDomain=finance.yahoo.com&formatted=false&symbol=PFMT&crumb=Edge%3A+Too+Many+Requests\n",
      "429 Client Error: Too Many Requests for url: https://query2.finance.yahoo.com/v10/finance/quoteSummary/CAF?modules=financialData%2CquoteType%2CdefaultKeyStatistics%2CassetProfile%2CsummaryDetail&corsDomain=finance.yahoo.com&formatted=false&symbol=CAF&crumb=Edge%3A+Too+Many+Requests\n",
      "429 Client Error: Too Many Requests for url: https://query2.finance.yahoo.com/v10/finance/quoteSummary/KFY?modules=financialData%2CquoteType%2CdefaultKeyStatistics%2CassetProfile%2CsummaryDetail&corsDomain=finance.yahoo.com&formatted=false&symbol=KFY&crumb=Edge%3A+Too+Many+Requests\n",
      "429 Client Error: Too Many Requests for url: https://query2.finance.yahoo.com/v10/finance/quoteSummary/BANC?modules=financialData%2CquoteType%2CdefaultKeyStatistics%2CassetProfile%2CsummaryDetail&corsDomain=finance.yahoo.com&formatted=false&symbol=BANC&crumb=Edge%3A+Too+Many+Requests\n",
      "429 Client Error: Too Many Requests for url: https://query2.finance.yahoo.com/v10/finance/quoteSummary/OI?modules=financialData%2CquoteType%2CdefaultKeyStatistics%2CassetProfile%2CsummaryDetail&corsDomain=finance.yahoo.com&formatted=false&symbol=OI&crumb=Edge%3A+Too+Many+Requests\n",
      "429 Client Error: Too Many Requests for url: https://query2.finance.yahoo.com/v10/finance/quoteSummary/GD?modules=financialData%2CquoteType%2CdefaultKeyStatistics%2CassetProfile%2CsummaryDetail&corsDomain=finance.yahoo.com&formatted=false&symbol=GD&crumb=Edge%3A+Too+Many+Requests\n",
      "429 Client Error: Too Many Requests for url: https://query2.finance.yahoo.com/v10/finance/quoteSummary/COLB?modules=financialData%2CquoteType%2CdefaultKeyStatistics%2CassetProfile%2CsummaryDetail&corsDomain=finance.yahoo.com&formatted=false&symbol=COLB&crumb=Edge%3A+Too+Many+Requests\n",
      "429 Client Error: Too Many Requests for url: https://query2.finance.yahoo.com/v10/finance/quoteSummary/SKT?modules=financialData%2CquoteType%2CdefaultKeyStatistics%2CassetProfile%2CsummaryDetail&corsDomain=finance.yahoo.com&formatted=false&symbol=SKT&crumb=Edge%3A+Too+Many+Requests\n",
      "429 Client Error: Too Many Requests for url: https://query2.finance.yahoo.com/v10/finance/quoteSummary/CNI?modules=financialData%2CquoteType%2CdefaultKeyStatistics%2CassetProfile%2CsummaryDetail&corsDomain=finance.yahoo.com&formatted=false&symbol=CNI&crumb=Edge%3A+Too+Many+Requests\n",
      "429 Client Error: Too Many Requests for url: https://query2.finance.yahoo.com/v10/finance/quoteSummary/AMAT?modules=financialData%2CquoteType%2CdefaultKeyStatistics%2CassetProfile%2CsummaryDetail&corsDomain=finance.yahoo.com&formatted=false&symbol=AMAT&crumb=Edge%3A+Too+Many+Requests\n",
      "429 Client Error: Too Many Requests for url: https://query2.finance.yahoo.com/v10/finance/quoteSummary/KBR?modules=financialData%2CquoteType%2CdefaultKeyStatistics%2CassetProfile%2CsummaryDetail&corsDomain=finance.yahoo.com&formatted=false&symbol=KBR&crumb=Edge%3A+Too+Many+Requests\n",
      "429 Client Error: Too Many Requests for url: https://query2.finance.yahoo.com/v10/finance/quoteSummary/AMKR?modules=financialData%2CquoteType%2CdefaultKeyStatistics%2CassetProfile%2CsummaryDetail&corsDomain=finance.yahoo.com&formatted=false&symbol=AMKR&crumb=Edge%3A+Too+Many+Requests\n",
      "429 Client Error: Too Many Requests for url: https://query2.finance.yahoo.com/v10/finance/quoteSummary/PFX?modules=financialData%2CquoteType%2CdefaultKeyStatistics%2CassetProfile%2CsummaryDetail&corsDomain=finance.yahoo.com&formatted=false&symbol=PFX&crumb=Edge%3A+Too+Many+Requests\n",
      "429 Client Error: Too Many Requests for url: https://query2.finance.yahoo.com/v10/finance/quoteSummary/NI?modules=financialData%2CquoteType%2CdefaultKeyStatistics%2CassetProfile%2CsummaryDetail&corsDomain=finance.yahoo.com&formatted=false&symbol=NI&crumb=Edge%3A+Too+Many+Requests\n",
      "429 Client Error: Too Many Requests for url: https://query2.finance.yahoo.com/v10/finance/quoteSummary/OSUR?modules=financialData%2CquoteType%2CdefaultKeyStatistics%2CassetProfile%2CsummaryDetail&corsDomain=finance.yahoo.com&formatted=false&symbol=OSUR&crumb=Edge%3A+Too+Many+Requests\n",
      "429 Client Error: Too Many Requests for url: https://query2.finance.yahoo.com/v10/finance/quoteSummary/GNW?modules=financialData%2CquoteType%2CdefaultKeyStatistics%2CassetProfile%2CsummaryDetail&corsDomain=finance.yahoo.com&formatted=false&symbol=GNW&crumb=Edge%3A+Too+Many+Requests\n",
      "429 Client Error: Too Many Requests for url: https://query2.finance.yahoo.com/v10/finance/quoteSummary/ATI?modules=financialData%2CquoteType%2CdefaultKeyStatistics%2CassetProfile%2CsummaryDetail&corsDomain=finance.yahoo.com&formatted=false&symbol=ATI&crumb=Edge%3A+Too+Many+Requests\n",
      "429 Client Error: Too Many Requests for url: https://query2.finance.yahoo.com/v10/finance/quoteSummary/BHLB?modules=financialData%2CquoteType%2CdefaultKeyStatistics%2CassetProfile%2CsummaryDetail&corsDomain=finance.yahoo.com&formatted=false&symbol=BHLB&crumb=Edge%3A+Too+Many+Requests\n",
      "429 Client Error: Too Many Requests for url: https://query2.finance.yahoo.com/v10/finance/quoteSummary/TBBK?modules=financialData%2CquoteType%2CdefaultKeyStatistics%2CassetProfile%2CsummaryDetail&corsDomain=finance.yahoo.com&formatted=false&symbol=TBBK&crumb=Edge%3A+Too+Many+Requests\n",
      "429 Client Error: Too Many Requests for url: https://query2.finance.yahoo.com/v10/finance/quoteSummary/NUS?modules=financialData%2CquoteType%2CdefaultKeyStatistics%2CassetProfile%2CsummaryDetail&corsDomain=finance.yahoo.com&formatted=false&symbol=NUS&crumb=Edge%3A+Too+Many+Requests\n",
      "429 Client Error: Too Many Requests for url: https://query2.finance.yahoo.com/v10/finance/quoteSummary/BMI?modules=financialData%2CquoteType%2CdefaultKeyStatistics%2CassetProfile%2CsummaryDetail&corsDomain=finance.yahoo.com&formatted=false&symbol=BMI&crumb=Edge%3A+Too+Many+Requests\n",
      "429 Client Error: Too Many Requests for url: https://query2.finance.yahoo.com/v10/finance/quoteSummary/ASC?modules=financialData%2CquoteType%2CdefaultKeyStatistics%2CassetProfile%2CsummaryDetail&corsDomain=finance.yahoo.com&formatted=false&symbol=ASC&crumb=Edge%3A+Too+Many+Requests\n",
      "429 Client Error: Too Many Requests for url: https://query2.finance.yahoo.com/v10/finance/quoteSummary/CNK?modules=financialData%2CquoteType%2CdefaultKeyStatistics%2CassetProfile%2CsummaryDetail&corsDomain=finance.yahoo.com&formatted=false&symbol=CNK&crumb=Edge%3A+Too+Many+Requests\n",
      "429 Client Error: Too Many Requests for url: https://query2.finance.yahoo.com/v10/finance/quoteSummary/DHT?modules=financialData%2CquoteType%2CdefaultKeyStatistics%2CassetProfile%2CsummaryDetail&corsDomain=finance.yahoo.com&formatted=false&symbol=DHT&crumb=Edge%3A+Too+Many+Requests\n",
      "429 Client Error: Too Many Requests for url: https://query2.finance.yahoo.com/v10/finance/quoteSummary/SNX?modules=financialData%2CquoteType%2CdefaultKeyStatistics%2CassetProfile%2CsummaryDetail&corsDomain=finance.yahoo.com&formatted=false&symbol=SNX&crumb=Edge%3A+Too+Many+Requests\n",
      "429 Client Error: Too Many Requests for url: https://query2.finance.yahoo.com/v10/finance/quoteSummary/ATR?modules=financialData%2CquoteType%2CdefaultKeyStatistics%2CassetProfile%2CsummaryDetail&corsDomain=finance.yahoo.com&formatted=false&symbol=ATR&crumb=Edge%3A+Too+Many+Requests\n",
      "401 Client Error: Unauthorized for url: https://query2.finance.yahoo.com/v10/finance/quoteSummary/MCN?modules=financialData%2CquoteType%2CdefaultKeyStatistics%2CassetProfile%2CsummaryDetail&corsDomain=finance.yahoo.com&formatted=false&symbol=MCN&crumb=Edge%3A+Too+Many+Requests\n"
     ]
    },
    {
     "name": "stdout",
     "output_type": "stream",
     "text": [
      "Saved training data with 756286 rows\n"
     ]
    }
   ],
   "source": [
    "tickers = pd.read_csv(testFolder / 'filteredTickers.csv')['Ticker']\n",
    "trainingTickers = np.random.choice(tickers, size=trainingSize, replace=False)\n",
    "trainingRowAmount = len(pd.read_csv(testFolder / 'filteredTickers.csv'))\n",
    "\n",
    "if getNewData:\n",
    "    histData = pd.DataFrame()\n",
    "    valid_tickers = []\n",
    "    \n",
    "    for ticker in trainingTickers:\n",
    "        print(f\"Processing {ticker}...\")\n",
    "        try:\n",
    "            data = calculateFutureYearChange(ticker, timeFrame)\n",
    "            if not data.empty:\n",
    "                data['Ticker'] = ticker\n",
    "                data['Industry'] = yf.Ticker(ticker).info.get('industry', 'Unknown')\n",
    "                data['Date'] = pd.to_datetime(data['Date']).dt.tz_localize(None)\n",
    "                \n",
    "                # Enrich individual ticker data first\n",
    "                ticker_data = enrichDataWithMetrics(data)\n",
    "                histData = pd.concat([histData, ticker_data])\n",
    "                \n",
    "                # Check if metrics were added\n",
    "                if 'ROIC' not in ticker_data.columns:\n",
    "                    print(f\"WARNING: Failed to add metrics for {ticker}\")\n",
    "                \n",
    "                valid_tickers.append(ticker)\n",
    "            else:\n",
    "                print(f\"Skipped {ticker} - insufficient data\")\n",
    "        except Exception as e:\n",
    "            print(f\"Error processing {ticker}: {e}\")\n",
    "\n",
    "    print(f\"\\nColumns in final dataset: {histData.columns.tolist()}\")\n",
    "    \n",
    "    if not histData.empty:\n",
    "        histData = enrichDataWithMetrics(histData)\n",
    "        histData.to_csv(dataFolder / trainingData, index=True)\n",
    "        # Verify no future targets leaked to past dates\n",
    "        latest_date = pd.to_datetime(histData['Date']).max()\n",
    "        if 'Future Year Change' in histData.columns:\n",
    "            target_dates = histData[histData['Future Year Change'].notnull()]['Date']\n",
    "            if any(pd.to_datetime(target_dates) > latest_date):\n",
    "                raise ValueError(\"CRITICAL: Analyst targets contain future dates!\")\n",
    "        trainingRowAmount = len(histData)\n",
    "        print(f\"Saved training data with {trainingRowAmount} rows\")\n",
    "    else:\n",
    "        print(\"Warning: No data collected - check your tickers list\")"
   ]
  },
  {
   "cell_type": "markdown",
   "metadata": {},
   "source": [
    "### Short visualisation"
   ]
  },
  {
   "cell_type": "code",
   "execution_count": null,
   "metadata": {},
   "outputs": [],
   "source": [
    "if getNewData:\n",
    "    histData.head(5)"
   ]
  },
  {
   "cell_type": "markdown",
   "metadata": {},
   "source": [
    "## Model Training"
   ]
  },
  {
   "cell_type": "code",
   "execution_count": null,
   "metadata": {},
   "outputs": [],
   "source": [
    "if trainNewModel:\n",
    "    TRAINING_CUTOFF = pd.to_datetime('2023-01-01')\n",
    "\n",
    "    df = pd.read_csv(dataFolder / trainingData)\n",
    "    dfCleaned = df.dropna(subset=['EV/EBIT', 'ROIC']).copy()\n",
    "\n",
    "    # Convert 'Date' to datetime, parse UTC-aware dates, then make naive\n",
    "    dfCleaned['Date'] = pd.to_datetime(dfCleaned['Date'], errors='coerce', utc=True).dt.tz_convert(None)\n",
    "    dfCleaned = dfCleaned.dropna(subset=['Date'])\n",
    "\n",
    "    # Clean 'EV/EBIT' and reset index\n",
    "    dfCleaned['EV/EBIT'] = dfCleaned['EV/EBIT'].replace([np.inf, -np.inf], np.nan)\n",
    "    dfCleaned = dfCleaned.dropna(subset=['EV/EBIT', 'ROIC'])\n",
    "    dfCleaned = dfCleaned.reset_index(drop=True)\n",
    "    dfCleaned.to_csv(dataFolder / trainingData, index=False)\n",
    "\n",
    "    # Check for empty data\n",
    "    if dfCleaned.empty:\n",
    "        raise ValueError(\"The cleaned DataFrame is empty.\")\n",
    "\n",
    "    # Create splits with valid indices\n",
    "    train_mask = dfCleaned['Date'] < TRAINING_CUTOFF\n",
    "    valid_mask = ~train_mask\n",
    "    splits = (list(dfCleaned[train_mask].index), list(dfCleaned[valid_mask].index))\n",
    "\n",
    "    if not splits[0] or not splits[1]:\n",
    "        raise ValueError(\"Empty training or validation split.\")\n",
    "\n",
    "    # Proceed with TabularPandas\n",
    "    to = TabularPandas(\n",
    "        dfCleaned, \n",
    "        procs=[Categorify, FillMissing, Normalize],\n",
    "        y_names=yNames,\n",
    "        cat_names=catNames, \n",
    "        cont_names=contNames,\n",
    "        splits=splits\n",
    "    )\n",
    "\n",
    "    dls = to.dataloaders(bs=batchSize)"
   ]
  },
  {
   "cell_type": "code",
   "execution_count": null,
   "metadata": {},
   "outputs": [
    {
     "data": {
      "text/html": [
       "\n",
       "<style>\n",
       "    /* Turns off some styling */\n",
       "    progress {\n",
       "        /* gets rid of default border in Firefox and Opera. */\n",
       "        border: none;\n",
       "        /* Needs to be in here for Safari polyfill so background images work as expected. */\n",
       "        background-size: auto;\n",
       "    }\n",
       "    progress:not([value]), progress:not([value])::-webkit-progress-bar {\n",
       "        background: repeating-linear-gradient(45deg, #7e7e7e, #7e7e7e 10px, #5c5c5c 10px, #5c5c5c 20px);\n",
       "    }\n",
       "    .progress-bar-interrupted, .progress-bar-interrupted::-webkit-progress-bar {\n",
       "        background: #F44336;\n",
       "    }\n",
       "</style>\n"
      ],
      "text/plain": [
       "<IPython.core.display.HTML object>"
      ]
     },
     "metadata": {},
     "output_type": "display_data"
    },
    {
     "data": {
      "text/html": [
       "\n",
       "    <div>\n",
       "      <progress value='0' class='' max='1' style='width:300px; height:20px; vertical-align: middle;'></progress>\n",
       "      0.00% [0/1 00:00&lt;?]\n",
       "    </div>\n",
       "    \n",
       "\n",
       "\n",
       "    <div>\n",
       "      <progress value='47' class='' max='1274' style='width:300px; height:20px; vertical-align: middle;'></progress>\n",
       "      3.69% [47/1274 00:01&lt;00:29 0.5073]\n",
       "    </div>\n",
       "    "
      ],
      "text/plain": [
       "<IPython.core.display.HTML object>"
      ]
     },
     "metadata": {},
     "output_type": "display_data"
    },
    {
     "name": "stdout",
     "output_type": "stream",
     "text": [
      "Learning rate finder results: SuggestedLRs(minimum=0.003981071710586548, steep=1.0964781722577754e-06)\n",
      "Training for 20 epochs...\n"
     ]
    },
    {
     "name": "stderr",
     "output_type": "stream",
     "text": [
      "c:\\Users\\Gamer\\miniconda3\\Lib\\site-packages\\fastai\\learner.py:53: FutureWarning: You are using `torch.load` with `weights_only=False` (the current default value), which uses the default pickle module implicitly. It is possible to construct malicious pickle data which will execute arbitrary code during unpickling (See https://github.com/pytorch/pytorch/blob/main/SECURITY.md#untrusted-models for more details). In a future release, the default value for `weights_only` will be flipped to `True`. This limits the functions that could be executed during unpickling. Arbitrary objects will no longer be allowed to be loaded via this mode unless they are explicitly allowlisted by the user via `torch.serialization.add_safe_globals`. We recommend you start setting `weights_only=True` for any use case where you don't have full control of the loaded file. Please open an issue on GitHub for any issues related to this experimental feature.\n",
      "  state = torch.load(file, map_location=device, **torch_load_kwargs)\n"
     ]
    },
    {
     "data": {
      "text/html": [
       "\n",
       "<style>\n",
       "    /* Turns off some styling */\n",
       "    progress {\n",
       "        /* gets rid of default border in Firefox and Opera. */\n",
       "        border: none;\n",
       "        /* Needs to be in here for Safari polyfill so background images work as expected. */\n",
       "        background-size: auto;\n",
       "    }\n",
       "    progress:not([value]), progress:not([value])::-webkit-progress-bar {\n",
       "        background: repeating-linear-gradient(45deg, #7e7e7e, #7e7e7e 10px, #5c5c5c 10px, #5c5c5c 20px);\n",
       "    }\n",
       "    .progress-bar-interrupted, .progress-bar-interrupted::-webkit-progress-bar {\n",
       "        background: #F44336;\n",
       "    }\n",
       "</style>\n"
      ],
      "text/plain": [
       "<IPython.core.display.HTML object>"
      ]
     },
     "metadata": {},
     "output_type": "display_data"
    },
    {
     "data": {
      "text/html": [
       "<table border=\"1\" class=\"dataframe\">\n",
       "  <thead>\n",
       "    <tr style=\"text-align: left;\">\n",
       "      <th>epoch</th>\n",
       "      <th>train_loss</th>\n",
       "      <th>valid_loss</th>\n",
       "      <th>_rmse</th>\n",
       "      <th>mae</th>\n",
       "      <th>time</th>\n",
       "    </tr>\n",
       "  </thead>\n",
       "  <tbody>\n",
       "    <tr>\n",
       "      <td>0</td>\n",
       "      <td>0.472663</td>\n",
       "      <td>4.173608</td>\n",
       "      <td>2.042941</td>\n",
       "      <td>0.440437</td>\n",
       "      <td>00:19</td>\n",
       "    </tr>\n",
       "    <tr>\n",
       "      <td>1</td>\n",
       "      <td>0.437545</td>\n",
       "      <td>0.687118</td>\n",
       "      <td>0.828926</td>\n",
       "      <td>0.400647</td>\n",
       "      <td>00:18</td>\n",
       "    </tr>\n",
       "    <tr>\n",
       "      <td>2</td>\n",
       "      <td>0.393342</td>\n",
       "      <td>1.402422</td>\n",
       "      <td>1.184239</td>\n",
       "      <td>0.380077</td>\n",
       "      <td>00:17</td>\n",
       "    </tr>\n",
       "    <tr>\n",
       "      <td>3</td>\n",
       "      <td>0.360504</td>\n",
       "      <td>0.456440</td>\n",
       "      <td>0.675604</td>\n",
       "      <td>0.382187</td>\n",
       "      <td>00:18</td>\n",
       "    </tr>\n",
       "    <tr>\n",
       "      <td>4</td>\n",
       "      <td>0.359970</td>\n",
       "      <td>0.429363</td>\n",
       "      <td>0.655258</td>\n",
       "      <td>0.378415</td>\n",
       "      <td>00:18</td>\n",
       "    </tr>\n",
       "    <tr>\n",
       "      <td>5</td>\n",
       "      <td>0.343202</td>\n",
       "      <td>0.396756</td>\n",
       "      <td>0.629885</td>\n",
       "      <td>0.385624</td>\n",
       "      <td>00:18</td>\n",
       "    </tr>\n",
       "    <tr>\n",
       "      <td>6</td>\n",
       "      <td>0.339503</td>\n",
       "      <td>0.382180</td>\n",
       "      <td>0.618207</td>\n",
       "      <td>0.371889</td>\n",
       "      <td>00:18</td>\n",
       "    </tr>\n",
       "    <tr>\n",
       "      <td>7</td>\n",
       "      <td>0.333190</td>\n",
       "      <td>0.387861</td>\n",
       "      <td>0.622785</td>\n",
       "      <td>0.373619</td>\n",
       "      <td>00:18</td>\n",
       "    </tr>\n",
       "    <tr>\n",
       "      <td>8</td>\n",
       "      <td>0.340421</td>\n",
       "      <td>0.402154</td>\n",
       "      <td>0.634156</td>\n",
       "      <td>0.370455</td>\n",
       "      <td>00:18</td>\n",
       "    </tr>\n",
       "    <tr>\n",
       "      <td>9</td>\n",
       "      <td>0.296875</td>\n",
       "      <td>0.383303</td>\n",
       "      <td>0.619114</td>\n",
       "      <td>0.370243</td>\n",
       "      <td>00:18</td>\n",
       "    </tr>\n",
       "    <tr>\n",
       "      <td>10</td>\n",
       "      <td>0.314806</td>\n",
       "      <td>0.363963</td>\n",
       "      <td>0.603294</td>\n",
       "      <td>0.357534</td>\n",
       "      <td>00:18</td>\n",
       "    </tr>\n",
       "    <tr>\n",
       "      <td>11</td>\n",
       "      <td>0.302754</td>\n",
       "      <td>0.377418</td>\n",
       "      <td>0.614343</td>\n",
       "      <td>0.359852</td>\n",
       "      <td>00:18</td>\n",
       "    </tr>\n",
       "    <tr>\n",
       "      <td>12</td>\n",
       "      <td>0.319503</td>\n",
       "      <td>0.352893</td>\n",
       "      <td>0.594048</td>\n",
       "      <td>0.345432</td>\n",
       "      <td>00:18</td>\n",
       "    </tr>\n",
       "    <tr>\n",
       "      <td>13</td>\n",
       "      <td>0.289537</td>\n",
       "      <td>0.345752</td>\n",
       "      <td>0.588007</td>\n",
       "      <td>0.340933</td>\n",
       "      <td>00:18</td>\n",
       "    </tr>\n",
       "    <tr>\n",
       "      <td>14</td>\n",
       "      <td>0.289080</td>\n",
       "      <td>0.355631</td>\n",
       "      <td>0.596348</td>\n",
       "      <td>0.342601</td>\n",
       "      <td>00:18</td>\n",
       "    </tr>\n",
       "    <tr>\n",
       "      <td>15</td>\n",
       "      <td>0.269637</td>\n",
       "      <td>0.350553</td>\n",
       "      <td>0.592075</td>\n",
       "      <td>0.345811</td>\n",
       "      <td>00:19</td>\n",
       "    </tr>\n",
       "    <tr>\n",
       "      <td>16</td>\n",
       "      <td>0.286306</td>\n",
       "      <td>0.349748</td>\n",
       "      <td>0.591395</td>\n",
       "      <td>0.343950</td>\n",
       "      <td>00:20</td>\n",
       "    </tr>\n",
       "    <tr>\n",
       "      <td>17</td>\n",
       "      <td>0.324584</td>\n",
       "      <td>0.358273</td>\n",
       "      <td>0.598559</td>\n",
       "      <td>0.347429</td>\n",
       "      <td>00:20</td>\n",
       "    </tr>\n",
       "    <tr>\n",
       "      <td>18</td>\n",
       "      <td>0.298355</td>\n",
       "      <td>0.838414</td>\n",
       "      <td>0.915650</td>\n",
       "      <td>0.347674</td>\n",
       "      <td>00:20</td>\n",
       "    </tr>\n",
       "    <tr>\n",
       "      <td>19</td>\n",
       "      <td>0.310245</td>\n",
       "      <td>0.345373</td>\n",
       "      <td>0.587685</td>\n",
       "      <td>0.342063</td>\n",
       "      <td>00:20</td>\n",
       "    </tr>\n",
       "  </tbody>\n",
       "</table>"
      ],
      "text/plain": [
       "<IPython.core.display.HTML object>"
      ]
     },
     "metadata": {},
     "output_type": "display_data"
    },
    {
     "name": "stdout",
     "output_type": "stream",
     "text": [
      "Model training complete\n"
     ]
    },
    {
     "data": {
      "image/png": "[encoded data removed]",
      "text/plain": [
       "<Figure size 640x480 with 1 Axes>"
      ]
     },
     "metadata": {},
     "output_type": "display_data"
    }
   ],
   "source": [
    "if trainNewModel:\n",
    "    learn = tabular_learner(dls, metrics=[rmse, mae])\n",
    "\n",
    "    # Learning rate finder\n",
    "    lr_find_results = learn.lr_find(suggest_funcs=(minimum, steep))\n",
    "\n",
    "    # Debugging information\n",
    "    print(f\"Learning rate finder results: {lr_find_results}\")\n",
    "\n",
    "    # Extract learning rates\n",
    "    lr_min, lr_steep = lr_find_results\n",
    "\n",
    "    # Check if learning rates are valid\n",
    "    if lr_min is None or lr_steep is None or lr_min == 0 or lr_steep == 0:\n",
    "        raise ValueError(\"Learning rate finder did not return valid learning rates.\")\n",
    "\n",
    "    # Train\n",
    "    print(f\"Training for {epochs} epochs...\")\n",
    "    learn.fit_one_cycle(epochs, lr_max=lr_steep)\n",
    "    print(\"Model training complete\")\n",
    "\n",
    "    learn.export(modelFolder / f'{modelName}.pkl')"
   ]
  },
  {
   "cell_type": "markdown",
   "metadata": {},
   "source": [
    "## Testing and benchmarking"
   ]
  },
  {
   "cell_type": "code",
   "execution_count": null,
   "metadata": {},
   "outputs": [
    {
     "name": "stderr",
     "output_type": "stream",
     "text": [
      "$CNL: possibly delisted; no price data found  (1d 2023-12-30 -> 2024-01-29) (Yahoo error = \"Data doesn't exist for startDate = 1703912400, endDate = 1706504400\")\n"
     ]
    },
    {
     "name": "stdout",
     "output_type": "stream",
     "text": [
      "Error fetching data for CNL: No historical data available for CNL around 2024-01-29.\n"
     ]
    },
    {
     "name": "stderr",
     "output_type": "stream",
     "text": [
      "$NTG: possibly delisted; no price data found  (period=1d)\n"
     ]
    },
    {
     "name": "stdout",
     "output_type": "stream",
     "text": [
      "Error fetching data for NTG: single positional indexer is out-of-bounds\n"
     ]
    },
    {
     "name": "stderr",
     "output_type": "stream",
     "text": [
      "$JBT: possibly delisted; no price data found  (period=1d)\n"
     ]
    },
    {
     "name": "stdout",
     "output_type": "stream",
     "text": [
      "Error fetching data for JBT: single positional indexer is out-of-bounds\n"
     ]
    },
    {
     "name": "stderr",
     "output_type": "stream",
     "text": [
      "429 Client Error: Too Many Requests for url: https://query2.finance.yahoo.com/v10/finance/quoteSummary/ACLS?modules=financialData%2CquoteType%2CdefaultKeyStatistics%2CassetProfile%2CsummaryDetail&corsDomain=finance.yahoo.com&formatted=false&symbol=ACLS&crumb=Edge%3A+Too+Many+Requests\n",
      "$NXC: possibly delisted; no price data found  (1d 2023-12-30 -> 2024-01-29)\n"
     ]
    },
    {
     "name": "stdout",
     "output_type": "stream",
     "text": [
      "Error fetching data for NXC: No historical data available for NXC around 2024-01-29.\n"
     ]
    },
    {
     "name": "stderr",
     "output_type": "stream",
     "text": [
      "$SLGN: possibly delisted; no price data found  (1d 2023-12-30 -> 2024-01-29)\n"
     ]
    },
    {
     "name": "stdout",
     "output_type": "stream",
     "text": [
      "Error fetching data for SLGN: No historical data available for SLGN around 2024-01-29.\n"
     ]
    },
    {
     "name": "stderr",
     "output_type": "stream",
     "text": [
      "$CAE: possibly delisted; no price data found  (1d 2023-12-30 -> 2024-01-29)\n"
     ]
    },
    {
     "name": "stdout",
     "output_type": "stream",
     "text": [
      "Error fetching data for CAE: No historical data available for CAE around 2024-01-29.\n"
     ]
    },
    {
     "name": "stderr",
     "output_type": "stream",
     "text": [
      "$CRUS: possibly delisted; no price data found  (1d 2023-12-30 -> 2024-01-29)\n"
     ]
    },
    {
     "name": "stdout",
     "output_type": "stream",
     "text": [
      "Error fetching data for CRUS: No historical data available for CRUS around 2024-01-29.\n"
     ]
    },
    {
     "name": "stderr",
     "output_type": "stream",
     "text": [
      "$TGI: possibly delisted; no price data found  (1d 2023-12-30 -> 2024-01-29)\n"
     ]
    },
    {
     "name": "stdout",
     "output_type": "stream",
     "text": [
      "Error fetching data for TGI: No historical data available for TGI around 2024-01-29.\n"
     ]
    },
    {
     "name": "stderr",
     "output_type": "stream",
     "text": [
      "$TRV: possibly delisted; no price data found  (1d 2023-12-30 -> 2024-01-29)\n"
     ]
    },
    {
     "name": "stdout",
     "output_type": "stream",
     "text": [
      "Error fetching data for TRV: No historical data available for TRV around 2024-01-29.\n"
     ]
    },
    {
     "name": "stderr",
     "output_type": "stream",
     "text": [
      "$TROW: possibly delisted; no price data found  (1d 2023-12-30 -> 2024-01-29)\n"
     ]
    },
    {
     "name": "stdout",
     "output_type": "stream",
     "text": [
      "Error fetching data for TROW: No historical data available for TROW around 2024-01-29.\n"
     ]
    },
    {
     "name": "stderr",
     "output_type": "stream",
     "text": [
      "$NPO: possibly delisted; no price data found  (1d 2023-12-30 -> 2024-01-29)\n"
     ]
    },
    {
     "name": "stdout",
     "output_type": "stream",
     "text": [
      "Error fetching data for NPO: No historical data available for NPO around 2024-01-29.\n"
     ]
    },
    {
     "name": "stderr",
     "output_type": "stream",
     "text": [
      "$FMNB: possibly delisted; no price data found  (1d 2023-12-30 -> 2024-01-29)\n"
     ]
    },
    {
     "name": "stdout",
     "output_type": "stream",
     "text": [
      "Error fetching data for FMNB: No historical data available for FMNB around 2024-01-29.\n"
     ]
    },
    {
     "name": "stderr",
     "output_type": "stream",
     "text": [
      "$PFBX: possibly delisted; no price data found  (1d 2023-12-30 -> 2024-01-29)\n"
     ]
    },
    {
     "name": "stdout",
     "output_type": "stream",
     "text": [
      "Error fetching data for PFBX: No historical data available for PFBX around 2024-01-29.\n"
     ]
    },
    {
     "name": "stderr",
     "output_type": "stream",
     "text": [
      "$PRE: possibly delisted; no price data found  (1d 2023-12-30 -> 2024-01-29)\n"
     ]
    },
    {
     "name": "stdout",
     "output_type": "stream",
     "text": [
      "Error fetching data for PRE: No historical data available for PRE around 2024-01-29.\n"
     ]
    },
    {
     "name": "stderr",
     "output_type": "stream",
     "text": [
      "$AEE: possibly delisted; no price data found  (1d 2023-12-30 -> 2024-01-29)\n"
     ]
    },
    {
     "name": "stdout",
     "output_type": "stream",
     "text": [
      "Error fetching data for AEE: No historical data available for AEE around 2024-01-29.\n"
     ]
    },
    {
     "name": "stderr",
     "output_type": "stream",
     "text": [
      "$GEOS: possibly delisted; no price data found  (1d 2023-12-30 -> 2024-01-29)\n"
     ]
    },
    {
     "name": "stdout",
     "output_type": "stream",
     "text": [
      "Error fetching data for GEOS: No historical data available for GEOS around 2024-01-29.\n"
     ]
    },
    {
     "name": "stderr",
     "output_type": "stream",
     "text": [
      "$MAIN: possibly delisted; no price data found  (1d 2023-12-30 -> 2024-01-29)\n"
     ]
    },
    {
     "name": "stdout",
     "output_type": "stream",
     "text": [
      "Error fetching data for MAIN: No historical data available for MAIN around 2024-01-29.\n"
     ]
    },
    {
     "name": "stderr",
     "output_type": "stream",
     "text": [
      "$PZC: possibly delisted; no price data found  (1d 2023-12-30 -> 2024-01-29)\n"
     ]
    },
    {
     "name": "stdout",
     "output_type": "stream",
     "text": [
      "Error fetching data for PZC: No historical data available for PZC around 2024-01-29.\n"
     ]
    },
    {
     "name": "stderr",
     "output_type": "stream",
     "text": [
      "$TG: possibly delisted; no price data found  (1d 2023-12-30 -> 2024-01-29)\n"
     ]
    },
    {
     "name": "stdout",
     "output_type": "stream",
     "text": [
      "Error fetching data for TG: No historical data available for TG around 2024-01-29.\n"
     ]
    },
    {
     "name": "stderr",
     "output_type": "stream",
     "text": [
      "$NIO: possibly delisted; no price data found  (1d 2023-12-30 -> 2024-01-29)\n"
     ]
    },
    {
     "name": "stdout",
     "output_type": "stream",
     "text": [
      "Error fetching data for NIO: No historical data available for NIO around 2024-01-29.\n"
     ]
    },
    {
     "name": "stderr",
     "output_type": "stream",
     "text": [
      "$DGICB: possibly delisted; no price data found  (1d 2023-12-30 -> 2024-01-29)\n"
     ]
    },
    {
     "name": "stdout",
     "output_type": "stream",
     "text": [
      "Error fetching data for DGICB: No historical data available for DGICB around 2024-01-29.\n"
     ]
    },
    {
     "name": "stderr",
     "output_type": "stream",
     "text": [
      "$IAE: possibly delisted; no price data found  (1d 2023-12-30 -> 2024-01-29)\n"
     ]
    },
    {
     "name": "stdout",
     "output_type": "stream",
     "text": [
      "Error fetching data for IAE: No historical data available for IAE around 2024-01-29.\n"
     ]
    },
    {
     "name": "stderr",
     "output_type": "stream",
     "text": [
      "$MGPI: possibly delisted; no price data found  (1d 2023-12-30 -> 2024-01-29)\n"
     ]
    },
    {
     "name": "stdout",
     "output_type": "stream",
     "text": [
      "Error fetching data for MGPI: No historical data available for MGPI around 2024-01-29.\n"
     ]
    },
    {
     "name": "stderr",
     "output_type": "stream",
     "text": [
      "$WSBC: possibly delisted; no price data found  (1d 2023-12-30 -> 2024-01-29)\n"
     ]
    },
    {
     "name": "stdout",
     "output_type": "stream",
     "text": [
      "Error fetching data for WSBC: No historical data available for WSBC around 2024-01-29.\n"
     ]
    },
    {
     "name": "stderr",
     "output_type": "stream",
     "text": [
      "$AUDC: possibly delisted; no price data found  (1d 2023-12-30 -> 2024-01-29)\n"
     ]
    },
    {
     "name": "stdout",
     "output_type": "stream",
     "text": [
      "Error fetching data for AUDC: No historical data available for AUDC around 2024-01-29.\n"
     ]
    },
    {
     "name": "stderr",
     "output_type": "stream",
     "text": [
      "$CWBC: possibly delisted; no price data found  (1d 2023-12-30 -> 2024-01-29)\n"
     ]
    },
    {
     "name": "stdout",
     "output_type": "stream",
     "text": [
      "Error fetching data for CWBC: No historical data available for CWBC around 2024-01-29.\n"
     ]
    },
    {
     "name": "stderr",
     "output_type": "stream",
     "text": [
      "$HTH: possibly delisted; no price data found  (1d 2023-12-30 -> 2024-01-29)\n"
     ]
    },
    {
     "name": "stdout",
     "output_type": "stream",
     "text": [
      "Error fetching data for HTH: No historical data available for HTH around 2024-01-29.\n"
     ]
    },
    {
     "name": "stderr",
     "output_type": "stream",
     "text": [
      "$LAKE: possibly delisted; no price data found  (1d 2023-12-30 -> 2024-01-29)\n"
     ]
    },
    {
     "name": "stdout",
     "output_type": "stream",
     "text": [
      "Error fetching data for LAKE: No historical data available for LAKE around 2024-01-29.\n"
     ]
    },
    {
     "name": "stderr",
     "output_type": "stream",
     "text": [
      "$BSBR: possibly delisted; no price data found  (1d 2023-12-30 -> 2024-01-29)\n"
     ]
    },
    {
     "name": "stdout",
     "output_type": "stream",
     "text": [
      "Error fetching data for BSBR: No historical data available for BSBR around 2024-01-29.\n"
     ]
    },
    {
     "name": "stderr",
     "output_type": "stream",
     "text": [
      "$SMTC: possibly delisted; no price data found  (1d 2023-12-30 -> 2024-01-29)\n"
     ]
    },
    {
     "name": "stdout",
     "output_type": "stream",
     "text": [
      "Error fetching data for SMTC: No historical data available for SMTC around 2024-01-29.\n"
     ]
    },
    {
     "name": "stderr",
     "output_type": "stream",
     "text": [
      "$SOL: possibly delisted; no price data found  (1d 2023-12-30 -> 2024-01-29)\n"
     ]
    },
    {
     "name": "stdout",
     "output_type": "stream",
     "text": [
      "Error fetching data for SOL: No historical data available for SOL around 2024-01-29.\n"
     ]
    },
    {
     "name": "stderr",
     "output_type": "stream",
     "text": [
      "$SJM: possibly delisted; no price data found  (1d 2023-12-30 -> 2024-01-29)\n"
     ]
    },
    {
     "name": "stdout",
     "output_type": "stream",
     "text": [
      "Error fetching data for SJM: No historical data available for SJM around 2024-01-29.\n"
     ]
    },
    {
     "name": "stderr",
     "output_type": "stream",
     "text": [
      "$TTMI: possibly delisted; no price data found  (1d 2023-12-30 -> 2024-01-29)\n"
     ]
    },
    {
     "name": "stdout",
     "output_type": "stream",
     "text": [
      "Error fetching data for TTMI: No historical data available for TTMI around 2024-01-29.\n"
     ]
    },
    {
     "name": "stderr",
     "output_type": "stream",
     "text": [
      "$ABBV: possibly delisted; no price data found  (1d 2023-12-30 -> 2024-01-29)\n"
     ]
    },
    {
     "name": "stdout",
     "output_type": "stream",
     "text": [
      "Error fetching data for ABBV: No historical data available for ABBV around 2024-01-29.\n"
     ]
    },
    {
     "name": "stderr",
     "output_type": "stream",
     "text": [
      "$TWO: possibly delisted; no price data found  (1d 2023-12-30 -> 2024-01-29)\n"
     ]
    },
    {
     "name": "stdout",
     "output_type": "stream",
     "text": [
      "Error fetching data for TWO: No historical data available for TWO around 2024-01-29.\n"
     ]
    },
    {
     "name": "stderr",
     "output_type": "stream",
     "text": [
      "$INFY: possibly delisted; no price data found  (1d 2023-12-30 -> 2024-01-29)\n"
     ]
    },
    {
     "name": "stdout",
     "output_type": "stream",
     "text": [
      "Error fetching data for INFY: No historical data available for INFY around 2024-01-29.\n"
     ]
    },
    {
     "name": "stderr",
     "output_type": "stream",
     "text": [
      "$BSX: possibly delisted; no price data found  (1d 2023-12-30 -> 2024-01-29)\n"
     ]
    },
    {
     "name": "stdout",
     "output_type": "stream",
     "text": [
      "Error fetching data for BSX: No historical data available for BSX around 2024-01-29.\n"
     ]
    },
    {
     "name": "stderr",
     "output_type": "stream",
     "text": [
      "$FCT: possibly delisted; no price data found  (1d 2023-12-30 -> 2024-01-29)\n"
     ]
    },
    {
     "name": "stdout",
     "output_type": "stream",
     "text": [
      "Error fetching data for FCT: No historical data available for FCT around 2024-01-29.\n"
     ]
    },
    {
     "name": "stderr",
     "output_type": "stream",
     "text": [
      "$GOOD: possibly delisted; no price data found  (1d 2023-12-30 -> 2024-01-29)\n"
     ]
    },
    {
     "name": "stdout",
     "output_type": "stream",
     "text": [
      "Error fetching data for GOOD: No historical data available for GOOD around 2024-01-29.\n"
     ]
    },
    {
     "name": "stderr",
     "output_type": "stream",
     "text": [
      "$SFL: possibly delisted; no price data found  (1d 2023-12-30 -> 2024-01-29)\n"
     ]
    },
    {
     "name": "stdout",
     "output_type": "stream",
     "text": [
      "Error fetching data for SFL: No historical data available for SFL around 2024-01-29.\n"
     ]
    },
    {
     "name": "stderr",
     "output_type": "stream",
     "text": [
      "$BCBP: possibly delisted; no price data found  (1d 2023-12-30 -> 2024-01-29)\n"
     ]
    },
    {
     "name": "stdout",
     "output_type": "stream",
     "text": [
      "Error fetching data for BCBP: No historical data available for BCBP around 2024-01-29.\n"
     ]
    },
    {
     "name": "stderr",
     "output_type": "stream",
     "text": [
      "$TDS: possibly delisted; no price data found  (1d 2023-12-30 -> 2024-01-29)\n"
     ]
    },
    {
     "name": "stdout",
     "output_type": "stream",
     "text": [
      "Error fetching data for TDS: No historical data available for TDS around 2024-01-29.\n"
     ]
    },
    {
     "name": "stderr",
     "output_type": "stream",
     "text": [
      "$DLR: possibly delisted; no price data found  (1d 2023-12-30 -> 2024-01-29)\n"
     ]
    },
    {
     "name": "stdout",
     "output_type": "stream",
     "text": [
      "Error fetching data for DLR: No historical data available for DLR around 2024-01-29.\n"
     ]
    },
    {
     "name": "stderr",
     "output_type": "stream",
     "text": [
      "$LMNR: possibly delisted; no price data found  (1d 2023-12-30 -> 2024-01-29)\n"
     ]
    },
    {
     "name": "stdout",
     "output_type": "stream",
     "text": [
      "Error fetching data for LMNR: No historical data available for LMNR around 2024-01-29.\n"
     ]
    },
    {
     "name": "stderr",
     "output_type": "stream",
     "text": [
      "$DOLE: possibly delisted; no price data found  (1d 2023-12-30 -> 2024-01-29)\n"
     ]
    },
    {
     "name": "stdout",
     "output_type": "stream",
     "text": [
      "Error fetching data for DOLE: No historical data available for DOLE around 2024-01-29.\n"
     ]
    },
    {
     "name": "stderr",
     "output_type": "stream",
     "text": [
      "$HRB: possibly delisted; no price data found  (1d 2023-12-30 -> 2024-01-29)\n"
     ]
    },
    {
     "name": "stdout",
     "output_type": "stream",
     "text": [
      "Error fetching data for HRB: No historical data available for HRB around 2024-01-29.\n"
     ]
    },
    {
     "name": "stderr",
     "output_type": "stream",
     "text": [
      "$POOL: possibly delisted; no price data found  (1d 2023-12-30 -> 2024-01-29)\n"
     ]
    },
    {
     "name": "stdout",
     "output_type": "stream",
     "text": [
      "Error fetching data for POOL: No historical data available for POOL around 2024-01-29.\n"
     ]
    },
    {
     "name": "stderr",
     "output_type": "stream",
     "text": [
      "$GB: possibly delisted; no price data found  (1d 2023-12-30 -> 2024-01-29)\n"
     ]
    },
    {
     "name": "stdout",
     "output_type": "stream",
     "text": [
      "Error fetching data for GB: No historical data available for GB around 2024-01-29.\n"
     ]
    },
    {
     "name": "stderr",
     "output_type": "stream",
     "text": [
      "$IBM: possibly delisted; no price data found  (1d 2023-12-30 -> 2024-01-29)\n"
     ]
    },
    {
     "name": "stdout",
     "output_type": "stream",
     "text": [
      "Error fetching data for IBM: No historical data available for IBM around 2024-01-29.\n"
     ]
    },
    {
     "name": "stderr",
     "output_type": "stream",
     "text": [
      "$CCZ: possibly delisted; no price data found  (1d 2023-12-30 -> 2024-01-29)\n"
     ]
    },
    {
     "name": "stdout",
     "output_type": "stream",
     "text": [
      "Error fetching data for CCZ: No historical data available for CCZ around 2024-01-29.\n"
     ]
    },
    {
     "name": "stderr",
     "output_type": "stream",
     "text": [
      "$ASX: possibly delisted; no price data found  (1d 2023-12-30 -> 2024-01-29)\n"
     ]
    },
    {
     "name": "stdout",
     "output_type": "stream",
     "text": [
      "Error fetching data for ASX: No historical data available for ASX around 2024-01-29.\n"
     ]
    },
    {
     "name": "stderr",
     "output_type": "stream",
     "text": [
      "$ALSN: possibly delisted; no price data found  (1d 2023-12-30 -> 2024-01-29)\n"
     ]
    },
    {
     "name": "stdout",
     "output_type": "stream",
     "text": [
      "Error fetching data for ALSN: No historical data available for ALSN around 2024-01-29.\n"
     ]
    },
    {
     "name": "stderr",
     "output_type": "stream",
     "text": [
      "$FULT: possibly delisted; no price data found  (1d 2023-12-30 -> 2024-01-29)\n"
     ]
    },
    {
     "name": "stdout",
     "output_type": "stream",
     "text": [
      "Error fetching data for FULT: No historical data available for FULT around 2024-01-29.\n"
     ]
    },
    {
     "name": "stderr",
     "output_type": "stream",
     "text": [
      "$FCF: possibly delisted; no price data found  (1d 2023-12-30 -> 2024-01-29)\n"
     ]
    },
    {
     "name": "stdout",
     "output_type": "stream",
     "text": [
      "Error fetching data for FCF: No historical data available for FCF around 2024-01-29.\n"
     ]
    },
    {
     "name": "stderr",
     "output_type": "stream",
     "text": [
      "$PACB: possibly delisted; no price data found  (1d 2023-12-30 -> 2024-01-29)\n"
     ]
    },
    {
     "name": "stdout",
     "output_type": "stream",
     "text": [
      "Error fetching data for PACB: No historical data available for PACB around 2024-01-29.\n"
     ]
    },
    {
     "name": "stderr",
     "output_type": "stream",
     "text": [
      "$LINE: possibly delisted; no price data found  (1d 2023-12-30 -> 2024-01-29)\n"
     ]
    },
    {
     "name": "stdout",
     "output_type": "stream",
     "text": [
      "Error fetching data for LINE: No historical data available for LINE around 2024-01-29.\n"
     ]
    },
    {
     "name": "stderr",
     "output_type": "stream",
     "text": [
      "$JPI: possibly delisted; no price data found  (1d 2023-12-30 -> 2024-01-29)\n"
     ]
    },
    {
     "name": "stdout",
     "output_type": "stream",
     "text": [
      "Error fetching data for JPI: No historical data available for JPI around 2024-01-29.\n"
     ]
    },
    {
     "name": "stderr",
     "output_type": "stream",
     "text": [
      "$NMT: possibly delisted; no price data found  (1d 2023-12-30 -> 2024-01-29)\n"
     ]
    },
    {
     "name": "stdout",
     "output_type": "stream",
     "text": [
      "Error fetching data for NMT: No historical data available for NMT around 2024-01-29.\n"
     ]
    },
    {
     "name": "stderr",
     "output_type": "stream",
     "text": [
      "$ASG: possibly delisted; no price data found  (1d 2023-12-30 -> 2024-01-29)\n"
     ]
    },
    {
     "name": "stdout",
     "output_type": "stream",
     "text": [
      "Error fetching data for ASG: No historical data available for ASG around 2024-01-29.\n"
     ]
    },
    {
     "name": "stderr",
     "output_type": "stream",
     "text": [
      "$LRCX: possibly delisted; no price data found  (1d 2023-12-30 -> 2024-01-29)\n"
     ]
    },
    {
     "name": "stdout",
     "output_type": "stream",
     "text": [
      "Error fetching data for LRCX: No historical data available for LRCX around 2024-01-29.\n"
     ]
    },
    {
     "name": "stderr",
     "output_type": "stream",
     "text": [
      "$TLK: possibly delisted; no price data found  (1d 2023-12-30 -> 2024-01-29)\n"
     ]
    },
    {
     "name": "stdout",
     "output_type": "stream",
     "text": [
      "Error fetching data for TLK: No historical data available for TLK around 2024-01-29.\n"
     ]
    },
    {
     "name": "stderr",
     "output_type": "stream",
     "text": [
      "$DM: possibly delisted; no price data found  (1d 2023-12-30 -> 2024-01-29)\n"
     ]
    },
    {
     "name": "stdout",
     "output_type": "stream",
     "text": [
      "Error fetching data for DM: No historical data available for DM around 2024-01-29.\n"
     ]
    },
    {
     "name": "stderr",
     "output_type": "stream",
     "text": [
      "$MKTX: possibly delisted; no price data found  (1d 2023-12-30 -> 2024-01-29)\n"
     ]
    },
    {
     "name": "stdout",
     "output_type": "stream",
     "text": [
      "Error fetching data for MKTX: No historical data available for MKTX around 2024-01-29.\n"
     ]
    },
    {
     "name": "stderr",
     "output_type": "stream",
     "text": [
      "$CCL: possibly delisted; no price data found  (1d 2023-12-30 -> 2024-01-29)\n"
     ]
    },
    {
     "name": "stdout",
     "output_type": "stream",
     "text": [
      "Error fetching data for CCL: No historical data available for CCL around 2024-01-29.\n"
     ]
    },
    {
     "name": "stderr",
     "output_type": "stream",
     "text": [
      "$CL: possibly delisted; no price data found  (1d 2023-12-30 -> 2024-01-29)\n"
     ]
    },
    {
     "name": "stdout",
     "output_type": "stream",
     "text": [
      "Error fetching data for CL: No historical data available for CL around 2024-01-29.\n"
     ]
    },
    {
     "name": "stderr",
     "output_type": "stream",
     "text": [
      "$PRAA: possibly delisted; no price data found  (1d 2023-12-30 -> 2024-01-29)\n"
     ]
    },
    {
     "name": "stdout",
     "output_type": "stream",
     "text": [
      "Error fetching data for PRAA: No historical data available for PRAA around 2024-01-29.\n"
     ]
    },
    {
     "name": "stderr",
     "output_type": "stream",
     "text": [
      "$SVM: possibly delisted; no price data found  (1d 2023-12-30 -> 2024-01-29)\n"
     ]
    },
    {
     "name": "stdout",
     "output_type": "stream",
     "text": [
      "Error fetching data for SVM: No historical data available for SVM around 2024-01-29.\n"
     ]
    },
    {
     "name": "stderr",
     "output_type": "stream",
     "text": [
      "$LNN: possibly delisted; no price data found  (1d 2023-12-30 -> 2024-01-29)\n"
     ]
    },
    {
     "name": "stdout",
     "output_type": "stream",
     "text": [
      "Error fetching data for LNN: No historical data available for LNN around 2024-01-29.\n"
     ]
    },
    {
     "name": "stderr",
     "output_type": "stream",
     "text": [
      "$AGIO: possibly delisted; no price data found  (1d 2023-12-30 -> 2024-01-29)\n"
     ]
    },
    {
     "name": "stdout",
     "output_type": "stream",
     "text": [
      "Error fetching data for AGIO: No historical data available for AGIO around 2024-01-29.\n"
     ]
    },
    {
     "name": "stderr",
     "output_type": "stream",
     "text": [
      "$FDX: possibly delisted; no price data found  (1d 2023-12-30 -> 2024-01-29)\n"
     ]
    },
    {
     "name": "stdout",
     "output_type": "stream",
     "text": [
      "Error fetching data for FDX: No historical data available for FDX around 2024-01-29.\n"
     ]
    },
    {
     "name": "stderr",
     "output_type": "stream",
     "text": [
      "$NWN: possibly delisted; no price data found  (1d 2023-12-30 -> 2024-01-29)\n"
     ]
    },
    {
     "name": "stdout",
     "output_type": "stream",
     "text": [
      "Error fetching data for NWN: No historical data available for NWN around 2024-01-29.\n"
     ]
    },
    {
     "name": "stderr",
     "output_type": "stream",
     "text": [
      "$MASI: possibly delisted; no price data found  (1d 2023-12-30 -> 2024-01-29)\n"
     ]
    },
    {
     "name": "stdout",
     "output_type": "stream",
     "text": [
      "Error fetching data for MASI: No historical data available for MASI around 2024-01-29.\n"
     ]
    },
    {
     "name": "stderr",
     "output_type": "stream",
     "text": [
      "$CHH: possibly delisted; no price data found  (1d 2023-12-30 -> 2024-01-29)\n"
     ]
    },
    {
     "name": "stdout",
     "output_type": "stream",
     "text": [
      "Error fetching data for CHH: No historical data available for CHH around 2024-01-29.\n"
     ]
    },
    {
     "name": "stderr",
     "output_type": "stream",
     "text": [
      "$TRP: possibly delisted; no price data found  (1d 2023-12-30 -> 2024-01-29)\n"
     ]
    },
    {
     "name": "stdout",
     "output_type": "stream",
     "text": [
      "Error fetching data for TRP: No historical data available for TRP around 2024-01-29.\n"
     ]
    },
    {
     "name": "stderr",
     "output_type": "stream",
     "text": [
      "$LNC: possibly delisted; no price data found  (1d 2023-12-30 -> 2024-01-29)\n"
     ]
    },
    {
     "name": "stdout",
     "output_type": "stream",
     "text": [
      "Error fetching data for LNC: No historical data available for LNC around 2024-01-29.\n"
     ]
    },
    {
     "name": "stderr",
     "output_type": "stream",
     "text": [
      "$ORCL: possibly delisted; no price data found  (1d 2023-12-30 -> 2024-01-29)\n"
     ]
    },
    {
     "name": "stdout",
     "output_type": "stream",
     "text": [
      "Error fetching data for ORCL: No historical data available for ORCL around 2024-01-29.\n"
     ]
    },
    {
     "name": "stderr",
     "output_type": "stream",
     "text": [
      "$IP: possibly delisted; no price data found  (1d 2023-12-30 -> 2024-01-29)\n"
     ]
    },
    {
     "name": "stdout",
     "output_type": "stream",
     "text": [
      "Error fetching data for IP: No historical data available for IP around 2024-01-29.\n"
     ]
    },
    {
     "name": "stderr",
     "output_type": "stream",
     "text": [
      "$KIM: possibly delisted; no price data found  (1d 2023-12-30 -> 2024-01-29)\n"
     ]
    },
    {
     "name": "stdout",
     "output_type": "stream",
     "text": [
      "Error fetching data for KIM: No historical data available for KIM around 2024-01-29.\n"
     ]
    },
    {
     "name": "stderr",
     "output_type": "stream",
     "text": [
      "$DMB: possibly delisted; no price data found  (1d 2023-12-30 -> 2024-01-29)\n"
     ]
    },
    {
     "name": "stdout",
     "output_type": "stream",
     "text": [
      "Error fetching data for DMB: No historical data available for DMB around 2024-01-29.\n"
     ]
    },
    {
     "name": "stderr",
     "output_type": "stream",
     "text": [
      "$CBU: possibly delisted; no price data found  (1d 2023-12-30 -> 2024-01-29)\n"
     ]
    },
    {
     "name": "stdout",
     "output_type": "stream",
     "text": [
      "Error fetching data for CBU: No historical data available for CBU around 2024-01-29.\n"
     ]
    },
    {
     "name": "stderr",
     "output_type": "stream",
     "text": [
      "$AMX: possibly delisted; no price data found  (1d 2023-12-30 -> 2024-01-29)\n"
     ]
    },
    {
     "name": "stdout",
     "output_type": "stream",
     "text": [
      "Error fetching data for AMX: No historical data available for AMX around 2024-01-29.\n"
     ]
    },
    {
     "name": "stderr",
     "output_type": "stream",
     "text": [
      "$PNW: possibly delisted; no price data found  (1d 2023-12-30 -> 2024-01-29)\n"
     ]
    },
    {
     "name": "stdout",
     "output_type": "stream",
     "text": [
      "Error fetching data for PNW: No historical data available for PNW around 2024-01-29.\n"
     ]
    },
    {
     "name": "stderr",
     "output_type": "stream",
     "text": [
      "$BHK: possibly delisted; no price data found  (1d 2023-12-30 -> 2024-01-29)\n"
     ]
    },
    {
     "name": "stdout",
     "output_type": "stream",
     "text": [
      "Error fetching data for BHK: No historical data available for BHK around 2024-01-29.\n"
     ]
    },
    {
     "name": "stderr",
     "output_type": "stream",
     "text": [
      "$PWR: possibly delisted; no price data found  (1d 2023-12-30 -> 2024-01-29)\n"
     ]
    },
    {
     "name": "stdout",
     "output_type": "stream",
     "text": [
      "Error fetching data for PWR: No historical data available for PWR around 2024-01-29.\n"
     ]
    },
    {
     "name": "stderr",
     "output_type": "stream",
     "text": [
      "$GBLI: possibly delisted; no price data found  (1d 2023-12-30 -> 2024-01-29)\n"
     ]
    },
    {
     "name": "stdout",
     "output_type": "stream",
     "text": [
      "Error fetching data for GBLI: No historical data available for GBLI around 2024-01-29.\n"
     ]
    },
    {
     "name": "stderr",
     "output_type": "stream",
     "text": [
      "$MKSI: possibly delisted; no price data found  (1d 2023-12-30 -> 2024-01-29)\n"
     ]
    },
    {
     "name": "stdout",
     "output_type": "stream",
     "text": [
      "Error fetching data for MKSI: No historical data available for MKSI around 2024-01-29.\n"
     ]
    },
    {
     "name": "stderr",
     "output_type": "stream",
     "text": [
      "$STK: possibly delisted; no price data found  (1d 2023-12-30 -> 2024-01-29)\n"
     ]
    },
    {
     "name": "stdout",
     "output_type": "stream",
     "text": [
      "Error fetching data for STK: No historical data available for STK around 2024-01-29.\n"
     ]
    },
    {
     "name": "stderr",
     "output_type": "stream",
     "text": [
      "$QCRH: possibly delisted; no price data found  (1d 2023-12-30 -> 2024-01-29)\n"
     ]
    },
    {
     "name": "stdout",
     "output_type": "stream",
     "text": [
      "Error fetching data for QCRH: No historical data available for QCRH around 2024-01-29.\n"
     ]
    },
    {
     "name": "stderr",
     "output_type": "stream",
     "text": [
      "$CVGW: possibly delisted; no price data found  (1d 2023-12-30 -> 2024-01-29)\n"
     ]
    },
    {
     "name": "stdout",
     "output_type": "stream",
     "text": [
      "Error fetching data for CVGW: No historical data available for CVGW around 2024-01-29.\n"
     ]
    },
    {
     "name": "stderr",
     "output_type": "stream",
     "text": [
      "$PLAB: possibly delisted; no price data found  (1d 2023-12-30 -> 2024-01-29)\n"
     ]
    },
    {
     "name": "stdout",
     "output_type": "stream",
     "text": [
      "Error fetching data for PLAB: No historical data available for PLAB around 2024-01-29.\n"
     ]
    },
    {
     "name": "stderr",
     "output_type": "stream",
     "text": [
      "$PFE: possibly delisted; no price data found  (1d 2023-12-30 -> 2024-01-29)\n"
     ]
    },
    {
     "name": "stdout",
     "output_type": "stream",
     "text": [
      "Error fetching data for PFE: No historical data available for PFE around 2024-01-29.\n"
     ]
    },
    {
     "name": "stderr",
     "output_type": "stream",
     "text": [
      "$FIVE: possibly delisted; no price data found  (1d 2023-12-30 -> 2024-01-29)\n"
     ]
    },
    {
     "name": "stdout",
     "output_type": "stream",
     "text": [
      "Error fetching data for FIVE: No historical data available for FIVE around 2024-01-29.\n"
     ]
    },
    {
     "name": "stderr",
     "output_type": "stream",
     "text": [
      "$HUN: possibly delisted; no price data found  (1d 2023-12-30 -> 2024-01-29)\n"
     ]
    },
    {
     "name": "stdout",
     "output_type": "stream",
     "text": [
      "Error fetching data for HUN: No historical data available for HUN around 2024-01-29.\n"
     ]
    },
    {
     "name": "stderr",
     "output_type": "stream",
     "text": [
      "$NNI: possibly delisted; no price data found  (1d 2023-12-30 -> 2024-01-29)\n"
     ]
    },
    {
     "name": "stdout",
     "output_type": "stream",
     "text": [
      "Error fetching data for NNI: No historical data available for NNI around 2024-01-29.\n"
     ]
    },
    {
     "name": "stderr",
     "output_type": "stream",
     "text": [
      "$CMCSA: possibly delisted; no price data found  (1d 2023-12-30 -> 2024-01-29)\n"
     ]
    },
    {
     "name": "stdout",
     "output_type": "stream",
     "text": [
      "Error fetching data for CMCSA: No historical data available for CMCSA around 2024-01-29.\n"
     ]
    },
    {
     "name": "stderr",
     "output_type": "stream",
     "text": [
      "$DK: possibly delisted; no price data found  (1d 2023-12-30 -> 2024-01-29)\n"
     ]
    },
    {
     "name": "stdout",
     "output_type": "stream",
     "text": [
      "Error fetching data for DK: No historical data available for DK around 2024-01-29.\n"
     ]
    },
    {
     "name": "stderr",
     "output_type": "stream",
     "text": [
      "$NXP: possibly delisted; no price data found  (1d 2023-12-30 -> 2024-01-29)\n"
     ]
    },
    {
     "name": "stdout",
     "output_type": "stream",
     "text": [
      "Error fetching data for NXP: No historical data available for NXP around 2024-01-29.\n"
     ]
    },
    {
     "name": "stderr",
     "output_type": "stream",
     "text": [
      "$ASGN: possibly delisted; no price data found  (1d 2023-12-30 -> 2024-01-29)\n"
     ]
    },
    {
     "name": "stdout",
     "output_type": "stream",
     "text": [
      "Error fetching data for ASGN: No historical data available for ASGN around 2024-01-29.\n"
     ]
    },
    {
     "name": "stderr",
     "output_type": "stream",
     "text": [
      "$HBI: possibly delisted; no price data found  (1d 2023-12-30 -> 2024-01-29)\n"
     ]
    },
    {
     "name": "stdout",
     "output_type": "stream",
     "text": [
      "Error fetching data for HBI: No historical data available for HBI around 2024-01-29.\n"
     ]
    },
    {
     "name": "stderr",
     "output_type": "stream",
     "text": [
      "$DENN: possibly delisted; no price data found  (1d 2023-12-30 -> 2024-01-29)\n"
     ]
    },
    {
     "name": "stdout",
     "output_type": "stream",
     "text": [
      "Error fetching data for DENN: No historical data available for DENN around 2024-01-29.\n"
     ]
    },
    {
     "name": "stderr",
     "output_type": "stream",
     "text": [
      "$NGG: possibly delisted; no price data found  (1d 2023-12-30 -> 2024-01-29)\n"
     ]
    },
    {
     "name": "stdout",
     "output_type": "stream",
     "text": [
      "Error fetching data for NGG: No historical data available for NGG around 2024-01-29.\n"
     ]
    },
    {
     "name": "stderr",
     "output_type": "stream",
     "text": [
      "$LINC: possibly delisted; no price data found  (1d 2023-12-30 -> 2024-01-29)\n"
     ]
    },
    {
     "name": "stdout",
     "output_type": "stream",
     "text": [
      "Error fetching data for LINC: No historical data available for LINC around 2024-01-29.\n"
     ]
    },
    {
     "name": "stderr",
     "output_type": "stream",
     "text": [
      "$PGZ: possibly delisted; no price data found  (1d 2023-12-30 -> 2024-01-29)\n"
     ]
    },
    {
     "name": "stdout",
     "output_type": "stream",
     "text": [
      "Error fetching data for PGZ: No historical data available for PGZ around 2024-01-29.\n"
     ]
    },
    {
     "name": "stderr",
     "output_type": "stream",
     "text": [
      "$JHS: possibly delisted; no price data found  (1d 2023-12-30 -> 2024-01-29)\n"
     ]
    },
    {
     "name": "stdout",
     "output_type": "stream",
     "text": [
      "Error fetching data for JHS: No historical data available for JHS around 2024-01-29.\n"
     ]
    },
    {
     "name": "stderr",
     "output_type": "stream",
     "text": [
      "$CROX: possibly delisted; no price data found  (1d 2023-12-30 -> 2024-01-29)\n"
     ]
    },
    {
     "name": "stdout",
     "output_type": "stream",
     "text": [
      "Error fetching data for CROX: No historical data available for CROX around 2024-01-29.\n"
     ]
    },
    {
     "name": "stderr",
     "output_type": "stream",
     "text": [
      "$SMG: possibly delisted; no price data found  (1d 2023-12-30 -> 2024-01-29)\n"
     ]
    },
    {
     "name": "stdout",
     "output_type": "stream",
     "text": [
      "Error fetching data for SMG: No historical data available for SMG around 2024-01-29.\n"
     ]
    },
    {
     "name": "stderr",
     "output_type": "stream",
     "text": [
      "$TCI: possibly delisted; no price data found  (1d 2023-12-30 -> 2024-01-29)\n"
     ]
    },
    {
     "name": "stdout",
     "output_type": "stream",
     "text": [
      "Error fetching data for TCI: No historical data available for TCI around 2024-01-29.\n"
     ]
    },
    {
     "name": "stderr",
     "output_type": "stream",
     "text": [
      "$CMCO: possibly delisted; no price data found  (1d 2023-12-30 -> 2024-01-29)\n"
     ]
    },
    {
     "name": "stdout",
     "output_type": "stream",
     "text": [
      "Error fetching data for CMCO: No historical data available for CMCO around 2024-01-29.\n"
     ]
    },
    {
     "name": "stderr",
     "output_type": "stream",
     "text": [
      "$PCQ: possibly delisted; no price data found  (1d 2023-12-30 -> 2024-01-29)\n"
     ]
    },
    {
     "name": "stdout",
     "output_type": "stream",
     "text": [
      "Error fetching data for PCQ: No historical data available for PCQ around 2024-01-29.\n"
     ]
    },
    {
     "name": "stderr",
     "output_type": "stream",
     "text": [
      "$BME: possibly delisted; no price data found  (1d 2023-12-30 -> 2024-01-29)\n"
     ]
    },
    {
     "name": "stdout",
     "output_type": "stream",
     "text": [
      "Error fetching data for BME: No historical data available for BME around 2024-01-29.\n"
     ]
    },
    {
     "name": "stderr",
     "output_type": "stream",
     "text": [
      "$CFR: possibly delisted; no price data found  (1d 2023-12-30 -> 2024-01-29)\n"
     ]
    },
    {
     "name": "stdout",
     "output_type": "stream",
     "text": [
      "Error fetching data for CFR: No historical data available for CFR around 2024-01-29.\n"
     ]
    },
    {
     "name": "stderr",
     "output_type": "stream",
     "text": [
      "$CRL: possibly delisted; no price data found  (1d 2023-12-30 -> 2024-01-29)\n"
     ]
    },
    {
     "name": "stdout",
     "output_type": "stream",
     "text": [
      "Error fetching data for CRL: No historical data available for CRL around 2024-01-29.\n"
     ]
    },
    {
     "name": "stderr",
     "output_type": "stream",
     "text": [
      "$HMY: possibly delisted; no price data found  (1d 2023-12-30 -> 2024-01-29)\n"
     ]
    },
    {
     "name": "stdout",
     "output_type": "stream",
     "text": [
      "Error fetching data for HMY: No historical data available for HMY around 2024-01-29.\n"
     ]
    },
    {
     "name": "stderr",
     "output_type": "stream",
     "text": [
      "$BZ: possibly delisted; no price data found  (1d 2023-12-30 -> 2024-01-29)\n"
     ]
    },
    {
     "name": "stdout",
     "output_type": "stream",
     "text": [
      "Error fetching data for BZ: No historical data available for BZ around 2024-01-29.\n"
     ]
    },
    {
     "name": "stderr",
     "output_type": "stream",
     "text": [
      "$PLCE: possibly delisted; no price data found  (1d 2023-12-30 -> 2024-01-29)\n"
     ]
    },
    {
     "name": "stdout",
     "output_type": "stream",
     "text": [
      "Error fetching data for PLCE: No historical data available for PLCE around 2024-01-29.\n"
     ]
    },
    {
     "name": "stderr",
     "output_type": "stream",
     "text": [
      "$WLFC: possibly delisted; no price data found  (1d 2023-12-30 -> 2024-01-29)\n"
     ]
    },
    {
     "name": "stdout",
     "output_type": "stream",
     "text": [
      "Error fetching data for WLFC: No historical data available for WLFC around 2024-01-29.\n"
     ]
    },
    {
     "name": "stderr",
     "output_type": "stream",
     "text": [
      "$BTT: possibly delisted; no price data found  (1d 2023-12-30 -> 2024-01-29)\n"
     ]
    },
    {
     "name": "stdout",
     "output_type": "stream",
     "text": [
      "Error fetching data for BTT: No historical data available for BTT around 2024-01-29.\n"
     ]
    },
    {
     "name": "stderr",
     "output_type": "stream",
     "text": [
      "$SMRT: possibly delisted; no price data found  (1d 2023-12-30 -> 2024-01-29)\n"
     ]
    },
    {
     "name": "stdout",
     "output_type": "stream",
     "text": [
      "Error fetching data for SMRT: No historical data available for SMRT around 2024-01-29.\n"
     ]
    },
    {
     "name": "stderr",
     "output_type": "stream",
     "text": [
      "Failed to get ticker 'PH' reason: Expecting value: line 1 column 1 (char 0)\n",
      "$PH: possibly delisted; no timezone found\n"
     ]
    },
    {
     "name": "stdout",
     "output_type": "stream",
     "text": [
      "Error fetching data for PH: No historical data available for PH around 2024-01-29.\n"
     ]
    },
    {
     "name": "stderr",
     "output_type": "stream",
     "text": [
      "$PRLB: possibly delisted; no price data found  (1d 2023-12-30 -> 2024-01-29)\n"
     ]
    },
    {
     "name": "stdout",
     "output_type": "stream",
     "text": [
      "Error fetching data for PRLB: No historical data available for PRLB around 2024-01-29.\n"
     ]
    },
    {
     "name": "stderr",
     "output_type": "stream",
     "text": [
      "$ADTN: possibly delisted; no price data found  (1d 2023-12-30 -> 2024-01-29)\n"
     ]
    },
    {
     "name": "stdout",
     "output_type": "stream",
     "text": [
      "Error fetching data for ADTN: No historical data available for ADTN around 2024-01-29.\n"
     ]
    },
    {
     "name": "stderr",
     "output_type": "stream",
     "text": [
      "$KLIC: possibly delisted; no price data found  (1d 2023-12-30 -> 2024-01-29)\n"
     ]
    },
    {
     "name": "stdout",
     "output_type": "stream",
     "text": [
      "Error fetching data for KLIC: No historical data available for KLIC around 2024-01-29.\n"
     ]
    },
    {
     "name": "stderr",
     "output_type": "stream",
     "text": [
      "$HIX: possibly delisted; no price data found  (1d 2023-12-30 -> 2024-01-29)\n"
     ]
    },
    {
     "name": "stdout",
     "output_type": "stream",
     "text": [
      "Error fetching data for HIX: No historical data available for HIX around 2024-01-29.\n"
     ]
    },
    {
     "name": "stderr",
     "output_type": "stream",
     "text": [
      "Failed to get ticker 'CVE' reason: Expecting value: line 1 column 1 (char 0)\n",
      "$CVE: possibly delisted; no timezone found\n"
     ]
    },
    {
     "name": "stdout",
     "output_type": "stream",
     "text": [
      "Error fetching data for CVE: No historical data available for CVE around 2024-01-29.\n"
     ]
    },
    {
     "name": "stderr",
     "output_type": "stream",
     "text": [
      "$CMG: possibly delisted; no price data found  (1d 2023-12-30 -> 2024-01-29)\n"
     ]
    },
    {
     "name": "stdout",
     "output_type": "stream",
     "text": [
      "Error fetching data for CMG: No historical data available for CMG around 2024-01-29.\n"
     ]
    },
    {
     "name": "stderr",
     "output_type": "stream",
     "text": [
      "$HCP: possibly delisted; no price data found  (1d 2023-12-30 -> 2024-01-29)\n"
     ]
    },
    {
     "name": "stdout",
     "output_type": "stream",
     "text": [
      "Error fetching data for HCP: No historical data available for HCP around 2024-01-29.\n"
     ]
    },
    {
     "name": "stderr",
     "output_type": "stream",
     "text": [
      "$BP: possibly delisted; no price data found  (1d 2023-12-30 -> 2024-01-29)\n"
     ]
    },
    {
     "name": "stdout",
     "output_type": "stream",
     "text": [
      "Error fetching data for BP: No historical data available for BP around 2024-01-29.\n"
     ]
    },
    {
     "name": "stderr",
     "output_type": "stream",
     "text": [
      "$PBF: possibly delisted; no price data found  (1d 2023-12-30 -> 2024-01-29)\n"
     ]
    },
    {
     "name": "stdout",
     "output_type": "stream",
     "text": [
      "Error fetching data for PBF: No historical data available for PBF around 2024-01-29.\n"
     ]
    },
    {
     "name": "stderr",
     "output_type": "stream",
     "text": [
      "$AMSF: possibly delisted; no price data found  (1d 2023-12-30 -> 2024-01-29)\n"
     ]
    },
    {
     "name": "stdout",
     "output_type": "stream",
     "text": [
      "Error fetching data for AMSF: No historical data available for AMSF around 2024-01-29.\n"
     ]
    },
    {
     "name": "stderr",
     "output_type": "stream",
     "text": [
      "$GGB: possibly delisted; no price data found  (1d 2023-12-30 -> 2024-01-29)\n"
     ]
    },
    {
     "name": "stdout",
     "output_type": "stream",
     "text": [
      "Error fetching data for GGB: No historical data available for GGB around 2024-01-29.\n"
     ]
    },
    {
     "name": "stderr",
     "output_type": "stream",
     "text": [
      "$NOV: possibly delisted; no price data found  (1d 2023-12-30 -> 2024-01-29)\n"
     ]
    },
    {
     "name": "stdout",
     "output_type": "stream",
     "text": [
      "Error fetching data for NOV: No historical data available for NOV around 2024-01-29.\n"
     ]
    },
    {
     "name": "stderr",
     "output_type": "stream",
     "text": [
      "$GDL: possibly delisted; no price data found  (1d 2023-12-30 -> 2024-01-29)\n"
     ]
    },
    {
     "name": "stdout",
     "output_type": "stream",
     "text": [
      "Error fetching data for GDL: No historical data available for GDL around 2024-01-29.\n"
     ]
    },
    {
     "name": "stderr",
     "output_type": "stream",
     "text": [
      "$MANU: possibly delisted; no price data found  (1d 2023-12-30 -> 2024-01-29)\n"
     ]
    },
    {
     "name": "stdout",
     "output_type": "stream",
     "text": [
      "Error fetching data for MANU: No historical data available for MANU around 2024-01-29.\n"
     ]
    },
    {
     "name": "stderr",
     "output_type": "stream",
     "text": [
      "$GRMN: possibly delisted; no price data found  (1d 2023-12-30 -> 2024-01-29)\n"
     ]
    },
    {
     "name": "stdout",
     "output_type": "stream",
     "text": [
      "Error fetching data for GRMN: No historical data available for GRMN around 2024-01-29.\n"
     ]
    },
    {
     "name": "stderr",
     "output_type": "stream",
     "text": [
      "$NAC: possibly delisted; no price data found  (1d 2023-12-30 -> 2024-01-29)\n"
     ]
    },
    {
     "name": "stdout",
     "output_type": "stream",
     "text": [
      "Error fetching data for NAC: No historical data available for NAC around 2024-01-29.\n"
     ]
    },
    {
     "name": "stderr",
     "output_type": "stream",
     "text": [
      "$ARW: possibly delisted; no price data found  (1d 2023-12-30 -> 2024-01-29)\n"
     ]
    },
    {
     "name": "stdout",
     "output_type": "stream",
     "text": [
      "Error fetching data for ARW: No historical data available for ARW around 2024-01-29.\n"
     ]
    },
    {
     "name": "stderr",
     "output_type": "stream",
     "text": [
      "$ATLO: possibly delisted; no price data found  (1d 2023-12-30 -> 2024-01-29)\n"
     ]
    },
    {
     "name": "stdout",
     "output_type": "stream",
     "text": [
      "Error fetching data for ATLO: No historical data available for ATLO around 2024-01-29.\n"
     ]
    },
    {
     "name": "stderr",
     "output_type": "stream",
     "text": [
      "$DKL: possibly delisted; no price data found  (1d 2023-12-30 -> 2024-01-29)\n"
     ]
    },
    {
     "name": "stdout",
     "output_type": "stream",
     "text": [
      "Error fetching data for DKL: No historical data available for DKL around 2024-01-29.\n"
     ]
    },
    {
     "name": "stderr",
     "output_type": "stream",
     "text": [
      "$CI: possibly delisted; no price data found  (1d 2023-12-30 -> 2024-01-29)\n"
     ]
    },
    {
     "name": "stdout",
     "output_type": "stream",
     "text": [
      "Error fetching data for CI: No historical data available for CI around 2024-01-29.\n"
     ]
    },
    {
     "name": "stderr",
     "output_type": "stream",
     "text": [
      "$AMH: possibly delisted; no price data found  (1d 2023-12-30 -> 2024-01-29)\n"
     ]
    },
    {
     "name": "stdout",
     "output_type": "stream",
     "text": [
      "Error fetching data for AMH: No historical data available for AMH around 2024-01-29.\n"
     ]
    },
    {
     "name": "stderr",
     "output_type": "stream",
     "text": [
      "Failed to get ticker 'DOV' reason: Expecting value: line 1 column 1 (char 0)\n",
      "$DOV: possibly delisted; no timezone found\n"
     ]
    },
    {
     "name": "stdout",
     "output_type": "stream",
     "text": [
      "Error fetching data for DOV: No historical data available for DOV around 2024-01-29.\n"
     ]
    },
    {
     "name": "stderr",
     "output_type": "stream",
     "text": [
      "$KR: possibly delisted; no price data found  (1d 2023-12-30 -> 2024-01-29)\n"
     ]
    },
    {
     "name": "stdout",
     "output_type": "stream",
     "text": [
      "Error fetching data for KR: No historical data available for KR around 2024-01-29.\n"
     ]
    },
    {
     "name": "stderr",
     "output_type": "stream",
     "text": [
      "$BGX: possibly delisted; no price data found  (1d 2023-12-30 -> 2024-01-29)\n"
     ]
    },
    {
     "name": "stdout",
     "output_type": "stream",
     "text": [
      "Error fetching data for BGX: No historical data available for BGX around 2024-01-29.\n"
     ]
    },
    {
     "name": "stderr",
     "output_type": "stream",
     "text": [
      "$PM: possibly delisted; no price data found  (1d 2023-12-30 -> 2024-01-29)\n"
     ]
    },
    {
     "name": "stdout",
     "output_type": "stream",
     "text": [
      "Error fetching data for PM: No historical data available for PM around 2024-01-29.\n"
     ]
    },
    {
     "name": "stderr",
     "output_type": "stream",
     "text": [
      "$ADP: possibly delisted; no price data found  (1d 2023-12-30 -> 2024-01-29)\n"
     ]
    },
    {
     "name": "stdout",
     "output_type": "stream",
     "text": [
      "Error fetching data for ADP: No historical data available for ADP around 2024-01-29.\n"
     ]
    },
    {
     "name": "stderr",
     "output_type": "stream",
     "text": [
      "$WLDN: possibly delisted; no price data found  (1d 2023-12-30 -> 2024-01-29)\n"
     ]
    },
    {
     "name": "stdout",
     "output_type": "stream",
     "text": [
      "Error fetching data for WLDN: No historical data available for WLDN around 2024-01-29.\n"
     ]
    },
    {
     "name": "stderr",
     "output_type": "stream",
     "text": [
      "$FOF: possibly delisted; no price data found  (1d 2023-12-30 -> 2024-01-29)\n"
     ]
    },
    {
     "name": "stdout",
     "output_type": "stream",
     "text": [
      "Error fetching data for FOF: No historical data available for FOF around 2024-01-29.\n"
     ]
    },
    {
     "name": "stderr",
     "output_type": "stream",
     "text": [
      "$FFNW: possibly delisted; no price data found  (1d 2023-12-30 -> 2024-01-29)\n"
     ]
    },
    {
     "name": "stdout",
     "output_type": "stream",
     "text": [
      "Error fetching data for FFNW: No historical data available for FFNW around 2024-01-29.\n"
     ]
    },
    {
     "name": "stderr",
     "output_type": "stream",
     "text": [
      "$CMS: possibly delisted; no price data found  (1d 2023-12-30 -> 2024-01-29)\n"
     ]
    },
    {
     "name": "stdout",
     "output_type": "stream",
     "text": [
      "Error fetching data for CMS: No historical data available for CMS around 2024-01-29.\n"
     ]
    },
    {
     "name": "stderr",
     "output_type": "stream",
     "text": [
      "$ITW: possibly delisted; no price data found  (1d 2023-12-30 -> 2024-01-29)\n"
     ]
    },
    {
     "name": "stdout",
     "output_type": "stream",
     "text": [
      "Error fetching data for ITW: No historical data available for ITW around 2024-01-29.\n"
     ]
    },
    {
     "name": "stderr",
     "output_type": "stream",
     "text": [
      "$NCA: possibly delisted; no price data found  (1d 2023-12-30 -> 2024-01-29)\n"
     ]
    },
    {
     "name": "stdout",
     "output_type": "stream",
     "text": [
      "Error fetching data for NCA: No historical data available for NCA around 2024-01-29.\n"
     ]
    },
    {
     "name": "stderr",
     "output_type": "stream",
     "text": [
      "$LEG: possibly delisted; no price data found  (1d 2023-12-30 -> 2024-01-29)\n"
     ]
    },
    {
     "name": "stdout",
     "output_type": "stream",
     "text": [
      "Error fetching data for LEG: No historical data available for LEG around 2024-01-29.\n"
     ]
    },
    {
     "name": "stderr",
     "output_type": "stream",
     "text": [
      "$T: possibly delisted; no price data found  (1d 2023-12-30 -> 2024-01-29)\n"
     ]
    },
    {
     "name": "stdout",
     "output_type": "stream",
     "text": [
      "Error fetching data for T: No historical data available for T around 2024-01-29.\n"
     ]
    },
    {
     "name": "stderr",
     "output_type": "stream",
     "text": [
      "$LZB: possibly delisted; no price data found  (1d 2023-12-30 -> 2024-01-29)\n"
     ]
    },
    {
     "name": "stdout",
     "output_type": "stream",
     "text": [
      "Error fetching data for LZB: No historical data available for LZB around 2024-01-29.\n"
     ]
    },
    {
     "name": "stderr",
     "output_type": "stream",
     "text": [
      "$HBAN: possibly delisted; no price data found  (1d 2023-12-30 -> 2024-01-29)\n"
     ]
    },
    {
     "name": "stdout",
     "output_type": "stream",
     "text": [
      "Error fetching data for HBAN: No historical data available for HBAN around 2024-01-29.\n"
     ]
    },
    {
     "name": "stderr",
     "output_type": "stream",
     "text": [
      "$DJCO: possibly delisted; no price data found  (1d 2023-12-30 -> 2024-01-29)\n"
     ]
    },
    {
     "name": "stdout",
     "output_type": "stream",
     "text": [
      "Error fetching data for DJCO: No historical data available for DJCO around 2024-01-29.\n"
     ]
    },
    {
     "name": "stderr",
     "output_type": "stream",
     "text": [
      "$M: possibly delisted; no price data found  (1d 2023-12-30 -> 2024-01-29)\n"
     ]
    },
    {
     "name": "stdout",
     "output_type": "stream",
     "text": [
      "Error fetching data for M: No historical data available for M around 2024-01-29.\n"
     ]
    },
    {
     "name": "stderr",
     "output_type": "stream",
     "text": [
      "$CVI: possibly delisted; no price data found  (1d 2023-12-30 -> 2024-01-29)\n"
     ]
    },
    {
     "name": "stdout",
     "output_type": "stream",
     "text": [
      "Error fetching data for CVI: No historical data available for CVI around 2024-01-29.\n"
     ]
    },
    {
     "name": "stderr",
     "output_type": "stream",
     "text": [
      "$TM: possibly delisted; no price data found  (1d 2023-12-30 -> 2024-01-29)\n"
     ]
    },
    {
     "name": "stdout",
     "output_type": "stream",
     "text": [
      "Error fetching data for TM: No historical data available for TM around 2024-01-29.\n"
     ]
    },
    {
     "name": "stderr",
     "output_type": "stream",
     "text": [
      "$TMUS: possibly delisted; no price data found  (1d 2023-12-30 -> 2024-01-29)\n"
     ]
    },
    {
     "name": "stdout",
     "output_type": "stream",
     "text": [
      "Error fetching data for TMUS: No historical data available for TMUS around 2024-01-29.\n"
     ]
    },
    {
     "name": "stderr",
     "output_type": "stream",
     "text": [
      "$BANR: possibly delisted; no price data found  (1d 2023-12-30 -> 2024-01-29)\n"
     ]
    },
    {
     "name": "stdout",
     "output_type": "stream",
     "text": [
      "Error fetching data for BANR: No historical data available for BANR around 2024-01-29.\n"
     ]
    },
    {
     "name": "stderr",
     "output_type": "stream",
     "text": [
      "$AVT: possibly delisted; no price data found  (1d 2023-12-30 -> 2024-01-29)\n"
     ]
    },
    {
     "name": "stdout",
     "output_type": "stream",
     "text": [
      "Error fetching data for AVT: No historical data available for AVT around 2024-01-29.\n"
     ]
    },
    {
     "name": "stderr",
     "output_type": "stream",
     "text": [
      "$MDLZ: possibly delisted; no price data found  (1d 2023-12-30 -> 2024-01-29)\n"
     ]
    },
    {
     "name": "stdout",
     "output_type": "stream",
     "text": [
      "Error fetching data for MDLZ: No historical data available for MDLZ around 2024-01-29.\n"
     ]
    },
    {
     "name": "stderr",
     "output_type": "stream",
     "text": [
      "$PFL: possibly delisted; no price data found  (1d 2023-12-30 -> 2024-01-29)\n"
     ]
    },
    {
     "name": "stdout",
     "output_type": "stream",
     "text": [
      "Error fetching data for PFL: No historical data available for PFL around 2024-01-29.\n"
     ]
    },
    {
     "name": "stderr",
     "output_type": "stream",
     "text": [
      "$PLL: possibly delisted; no price data found  (1d 2023-12-30 -> 2024-01-29)\n"
     ]
    },
    {
     "name": "stdout",
     "output_type": "stream",
     "text": [
      "Error fetching data for PLL: No historical data available for PLL around 2024-01-29.\n"
     ]
    },
    {
     "name": "stderr",
     "output_type": "stream",
     "text": [
      "$NBB: possibly delisted; no price data found  (1d 2023-12-30 -> 2024-01-29)\n"
     ]
    },
    {
     "name": "stdout",
     "output_type": "stream",
     "text": [
      "Error fetching data for NBB: No historical data available for NBB around 2024-01-29.\n"
     ]
    },
    {
     "name": "stderr",
     "output_type": "stream",
     "text": [
      "$JLL: possibly delisted; no price data found  (1d 2023-12-30 -> 2024-01-29)\n"
     ]
    },
    {
     "name": "stdout",
     "output_type": "stream",
     "text": [
      "Error fetching data for JLL: No historical data available for JLL around 2024-01-29.\n"
     ]
    },
    {
     "name": "stderr",
     "output_type": "stream",
     "text": [
      "$ACRE: possibly delisted; no price data found  (1d 2023-12-30 -> 2024-01-29)\n"
     ]
    },
    {
     "name": "stdout",
     "output_type": "stream",
     "text": [
      "Error fetching data for ACRE: No historical data available for ACRE around 2024-01-29.\n"
     ]
    },
    {
     "name": "stderr",
     "output_type": "stream",
     "text": [
      "$ACP: possibly delisted; no price data found  (1d 2023-12-30 -> 2024-01-29)\n"
     ]
    },
    {
     "name": "stdout",
     "output_type": "stream",
     "text": [
      "Error fetching data for ACP: No historical data available for ACP around 2024-01-29.\n"
     ]
    },
    {
     "name": "stderr",
     "output_type": "stream",
     "text": [
      "$TX: possibly delisted; no price data found  (1d 2023-12-30 -> 2024-01-29)\n"
     ]
    },
    {
     "name": "stdout",
     "output_type": "stream",
     "text": [
      "Error fetching data for TX: No historical data available for TX around 2024-01-29.\n"
     ]
    },
    {
     "name": "stderr",
     "output_type": "stream",
     "text": [
      "$ASA: possibly delisted; no price data found  (1d 2023-12-30 -> 2024-01-29)\n"
     ]
    },
    {
     "name": "stdout",
     "output_type": "stream",
     "text": [
      "Error fetching data for ASA: No historical data available for ASA around 2024-01-29.\n"
     ]
    },
    {
     "name": "stderr",
     "output_type": "stream",
     "text": [
      "$FFA: possibly delisted; no price data found  (1d 2023-12-30 -> 2024-01-29)\n"
     ]
    },
    {
     "name": "stdout",
     "output_type": "stream",
     "text": [
      "Error fetching data for FFA: No historical data available for FFA around 2024-01-29.\n"
     ]
    },
    {
     "name": "stderr",
     "output_type": "stream",
     "text": [
      "$NX: possibly delisted; no price data found  (1d 2023-12-30 -> 2024-01-29)\n"
     ]
    },
    {
     "name": "stdout",
     "output_type": "stream",
     "text": [
      "Error fetching data for NX: No historical data available for NX around 2024-01-29.\n"
     ]
    },
    {
     "name": "stderr",
     "output_type": "stream",
     "text": [
      "$PDEX: possibly delisted; no price data found  (1d 2023-12-30 -> 2024-01-29)\n"
     ]
    },
    {
     "name": "stdout",
     "output_type": "stream",
     "text": [
      "Error fetching data for PDEX: No historical data available for PDEX around 2024-01-29.\n"
     ]
    },
    {
     "name": "stderr",
     "output_type": "stream",
     "text": [
      "$DGII: possibly delisted; no price data found  (1d 2023-12-30 -> 2024-01-29)\n"
     ]
    },
    {
     "name": "stdout",
     "output_type": "stream",
     "text": [
      "Error fetching data for DGII: No historical data available for DGII around 2024-01-29.\n"
     ]
    },
    {
     "name": "stderr",
     "output_type": "stream",
     "text": [
      "Failed to get ticker 'BMY' reason: Expecting value: line 1 column 1 (char 0)\n",
      "$BMY: possibly delisted; no timezone found\n"
     ]
    },
    {
     "name": "stdout",
     "output_type": "stream",
     "text": [
      "Error fetching data for BMY: No historical data available for BMY around 2024-01-29.\n"
     ]
    },
    {
     "name": "stderr",
     "output_type": "stream",
     "text": [
      "$KMPR: possibly delisted; no price data found  (1d 2023-12-30 -> 2024-01-29)\n"
     ]
    },
    {
     "name": "stdout",
     "output_type": "stream",
     "text": [
      "Error fetching data for KMPR: No historical data available for KMPR around 2024-01-29.\n"
     ]
    },
    {
     "name": "stderr",
     "output_type": "stream",
     "text": [
      "$CRT: possibly delisted; no price data found  (1d 2023-12-30 -> 2024-01-29)\n"
     ]
    },
    {
     "name": "stdout",
     "output_type": "stream",
     "text": [
      "Error fetching data for CRT: No historical data available for CRT around 2024-01-29.\n"
     ]
    },
    {
     "name": "stderr",
     "output_type": "stream",
     "text": [
      "$STLD: possibly delisted; no price data found  (1d 2023-12-30 -> 2024-01-29)\n"
     ]
    },
    {
     "name": "stdout",
     "output_type": "stream",
     "text": [
      "Error fetching data for STLD: No historical data available for STLD around 2024-01-29.\n"
     ]
    },
    {
     "name": "stderr",
     "output_type": "stream",
     "text": [
      "$AMED: possibly delisted; no price data found  (1d 2023-12-30 -> 2024-01-29)\n"
     ]
    },
    {
     "name": "stdout",
     "output_type": "stream",
     "text": [
      "Error fetching data for AMED: No historical data available for AMED around 2024-01-29.\n"
     ]
    },
    {
     "name": "stderr",
     "output_type": "stream",
     "text": [
      "$HXL: possibly delisted; no price data found  (1d 2023-12-30 -> 2024-01-29)\n"
     ]
    },
    {
     "name": "stdout",
     "output_type": "stream",
     "text": [
      "Error fetching data for HXL: No historical data available for HXL around 2024-01-29.\n"
     ]
    },
    {
     "name": "stderr",
     "output_type": "stream",
     "text": [
      "$AVGO: possibly delisted; no price data found  (1d 2023-12-30 -> 2024-01-29)\n"
     ]
    },
    {
     "name": "stdout",
     "output_type": "stream",
     "text": [
      "Error fetching data for AVGO: No historical data available for AVGO around 2024-01-29.\n"
     ]
    },
    {
     "name": "stderr",
     "output_type": "stream",
     "text": [
      "$AVY: possibly delisted; no price data found  (1d 2023-12-30 -> 2024-01-29)\n"
     ]
    },
    {
     "name": "stdout",
     "output_type": "stream",
     "text": [
      "Error fetching data for AVY: No historical data available for AVY around 2024-01-29.\n"
     ]
    },
    {
     "name": "stderr",
     "output_type": "stream",
     "text": [
      "$ONB: possibly delisted; no price data found  (1d 2023-12-30 -> 2024-01-29)\n"
     ]
    },
    {
     "name": "stdout",
     "output_type": "stream",
     "text": [
      "Error fetching data for ONB: No historical data available for ONB around 2024-01-29.\n"
     ]
    },
    {
     "name": "stderr",
     "output_type": "stream",
     "text": [
      "$STRA: possibly delisted; no price data found  (1d 2023-12-30 -> 2024-01-29)\n"
     ]
    },
    {
     "name": "stdout",
     "output_type": "stream",
     "text": [
      "Error fetching data for STRA: No historical data available for STRA around 2024-01-29.\n"
     ]
    },
    {
     "name": "stderr",
     "output_type": "stream",
     "text": [
      "$OII: possibly delisted; no price data found  (1d 2023-12-30 -> 2024-01-29)\n"
     ]
    },
    {
     "name": "stdout",
     "output_type": "stream",
     "text": [
      "Error fetching data for OII: No historical data available for OII around 2024-01-29.\n"
     ]
    },
    {
     "name": "stderr",
     "output_type": "stream",
     "text": [
      "$FLWS: possibly delisted; no price data found  (1d 2023-12-30 -> 2024-01-29)\n"
     ]
    },
    {
     "name": "stdout",
     "output_type": "stream",
     "text": [
      "Error fetching data for FLWS: No historical data available for FLWS around 2024-01-29.\n"
     ]
    },
    {
     "name": "stderr",
     "output_type": "stream",
     "text": [
      "$COKE: possibly delisted; no price data found  (1d 2023-12-30 -> 2024-01-29)\n"
     ]
    },
    {
     "name": "stdout",
     "output_type": "stream",
     "text": [
      "Error fetching data for COKE: No historical data available for COKE around 2024-01-29.\n"
     ]
    },
    {
     "name": "stderr",
     "output_type": "stream",
     "text": [
      "$SWKS: possibly delisted; no price data found  (1d 2023-12-30 -> 2024-01-29)\n"
     ]
    },
    {
     "name": "stdout",
     "output_type": "stream",
     "text": [
      "Error fetching data for SWKS: No historical data available for SWKS around 2024-01-29.\n"
     ]
    },
    {
     "name": "stderr",
     "output_type": "stream",
     "text": [
      "$PERF: possibly delisted; no price data found  (1d 2023-12-30 -> 2024-01-29)\n"
     ]
    },
    {
     "name": "stdout",
     "output_type": "stream",
     "text": [
      "Error fetching data for PERF: No historical data available for PERF around 2024-01-29.\n"
     ]
    },
    {
     "name": "stderr",
     "output_type": "stream",
     "text": [
      "$CWST: possibly delisted; no price data found  (1d 2023-12-30 -> 2024-01-29)\n"
     ]
    },
    {
     "name": "stdout",
     "output_type": "stream",
     "text": [
      "Error fetching data for CWST: No historical data available for CWST around 2024-01-29.\n"
     ]
    },
    {
     "name": "stderr",
     "output_type": "stream",
     "text": [
      "$WTBA: possibly delisted; no price data found  (1d 2023-12-30 -> 2024-01-29)\n"
     ]
    },
    {
     "name": "stdout",
     "output_type": "stream",
     "text": [
      "Error fetching data for WTBA: No historical data available for WTBA around 2024-01-29.\n"
     ]
    },
    {
     "name": "stderr",
     "output_type": "stream",
     "text": [
      "$TTGT: possibly delisted; no price data found  (1d 2023-12-30 -> 2024-01-29)\n"
     ]
    },
    {
     "name": "stdout",
     "output_type": "stream",
     "text": [
      "Error fetching data for TTGT: No historical data available for TTGT around 2024-01-29.\n"
     ]
    },
    {
     "name": "stderr",
     "output_type": "stream",
     "text": [
      "$KNOP: possibly delisted; no price data found  (1d 2023-12-30 -> 2024-01-29)\n"
     ]
    },
    {
     "name": "stdout",
     "output_type": "stream",
     "text": [
      "Error fetching data for KNOP: No historical data available for KNOP around 2024-01-29.\n"
     ]
    },
    {
     "name": "stderr",
     "output_type": "stream",
     "text": [
      "$THR: possibly delisted; no price data found  (1d 2023-12-30 -> 2024-01-29)\n"
     ]
    },
    {
     "name": "stdout",
     "output_type": "stream",
     "text": [
      "Error fetching data for THR: No historical data available for THR around 2024-01-29.\n"
     ]
    },
    {
     "name": "stderr",
     "output_type": "stream",
     "text": [
      "$LXU: possibly delisted; no price data found  (1d 2023-12-30 -> 2024-01-29)\n"
     ]
    },
    {
     "name": "stdout",
     "output_type": "stream",
     "text": [
      "Error fetching data for LXU: No historical data available for LXU around 2024-01-29.\n"
     ]
    },
    {
     "name": "stderr",
     "output_type": "stream",
     "text": [
      "$NEM: possibly delisted; no price data found  (1d 2023-12-30 -> 2024-01-29)\n"
     ]
    },
    {
     "name": "stdout",
     "output_type": "stream",
     "text": [
      "Error fetching data for NEM: No historical data available for NEM around 2024-01-29.\n"
     ]
    },
    {
     "name": "stderr",
     "output_type": "stream",
     "text": [
      "$BCC: possibly delisted; no price data found  (1d 2023-12-30 -> 2024-01-29)\n"
     ]
    },
    {
     "name": "stdout",
     "output_type": "stream",
     "text": [
      "Error fetching data for BCC: No historical data available for BCC around 2024-01-29.\n"
     ]
    },
    {
     "name": "stderr",
     "output_type": "stream",
     "text": [
      "$ABR: possibly delisted; no price data found  (1d 2023-12-30 -> 2024-01-29)\n"
     ]
    },
    {
     "name": "stdout",
     "output_type": "stream",
     "text": [
      "Error fetching data for ABR: No historical data available for ABR around 2024-01-29.\n"
     ]
    },
    {
     "name": "stderr",
     "output_type": "stream",
     "text": [
      "$TIGR: possibly delisted; no price data found  (1d 2023-12-30 -> 2024-01-29)\n"
     ]
    },
    {
     "name": "stdout",
     "output_type": "stream",
     "text": [
      "Error fetching data for TIGR: No historical data available for TIGR around 2024-01-29.\n"
     ]
    },
    {
     "name": "stderr",
     "output_type": "stream",
     "text": [
      "$ORMP: possibly delisted; no price data found  (1d 2023-12-30 -> 2024-01-29)\n"
     ]
    },
    {
     "name": "stdout",
     "output_type": "stream",
     "text": [
      "Error fetching data for ORMP: No historical data available for ORMP around 2024-01-29.\n"
     ]
    },
    {
     "name": "stderr",
     "output_type": "stream",
     "text": [
      "$GLNG: possibly delisted; no price data found  (1d 2023-12-30 -> 2024-01-29)\n"
     ]
    },
    {
     "name": "stdout",
     "output_type": "stream",
     "text": [
      "Error fetching data for GLNG: No historical data available for GLNG around 2024-01-29.\n"
     ]
    },
    {
     "name": "stderr",
     "output_type": "stream",
     "text": [
      "$DSM: possibly delisted; no price data found  (1d 2023-12-30 -> 2024-01-29)\n"
     ]
    },
    {
     "name": "stdout",
     "output_type": "stream",
     "text": [
      "Error fetching data for DSM: No historical data available for DSM around 2024-01-29.\n"
     ]
    },
    {
     "name": "stderr",
     "output_type": "stream",
     "text": [
      "$TRNS: possibly delisted; no price data found  (1d 2023-12-30 -> 2024-01-29)\n"
     ]
    },
    {
     "name": "stdout",
     "output_type": "stream",
     "text": [
      "Error fetching data for TRNS: No historical data available for TRNS around 2024-01-29.\n"
     ]
    },
    {
     "name": "stderr",
     "output_type": "stream",
     "text": [
      "$SNCR: possibly delisted; no price data found  (1d 2023-12-30 -> 2024-01-29)\n"
     ]
    },
    {
     "name": "stdout",
     "output_type": "stream",
     "text": [
      "Error fetching data for SNCR: No historical data available for SNCR around 2024-01-29.\n"
     ]
    },
    {
     "name": "stderr",
     "output_type": "stream",
     "text": [
      "$AXGN: possibly delisted; no price data found  (1d 2023-12-30 -> 2024-01-29)\n"
     ]
    },
    {
     "name": "stdout",
     "output_type": "stream",
     "text": [
      "Error fetching data for AXGN: No historical data available for AXGN around 2024-01-29.\n"
     ]
    },
    {
     "name": "stderr",
     "output_type": "stream",
     "text": [
      "$CNC: possibly delisted; no price data found  (1d 2023-12-30 -> 2024-01-29)\n"
     ]
    },
    {
     "name": "stdout",
     "output_type": "stream",
     "text": [
      "Error fetching data for CNC: No historical data available for CNC around 2024-01-29.\n"
     ]
    },
    {
     "name": "stderr",
     "output_type": "stream",
     "text": [
      "$TRS: possibly delisted; no price data found  (1d 2023-12-30 -> 2024-01-29)\n"
     ]
    },
    {
     "name": "stdout",
     "output_type": "stream",
     "text": [
      "Error fetching data for TRS: No historical data available for TRS around 2024-01-29.\n"
     ]
    },
    {
     "name": "stderr",
     "output_type": "stream",
     "text": [
      "$CWT: possibly delisted; no price data found  (1d 2023-12-30 -> 2024-01-29)\n"
     ]
    },
    {
     "name": "stdout",
     "output_type": "stream",
     "text": [
      "Error fetching data for CWT: No historical data available for CWT around 2024-01-29.\n"
     ]
    },
    {
     "name": "stderr",
     "output_type": "stream",
     "text": [
      "$TEN: possibly delisted; no price data found  (1d 2023-12-30 -> 2024-01-29)\n"
     ]
    },
    {
     "name": "stdout",
     "output_type": "stream",
     "text": [
      "Error fetching data for TEN: No historical data available for TEN around 2024-01-29.\n"
     ]
    },
    {
     "name": "stderr",
     "output_type": "stream",
     "text": [
      "$CRVL: possibly delisted; no price data found  (1d 2023-12-30 -> 2024-01-29)\n"
     ]
    },
    {
     "name": "stdout",
     "output_type": "stream",
     "text": [
      "Error fetching data for CRVL: No historical data available for CRVL around 2024-01-29.\n"
     ]
    },
    {
     "name": "stderr",
     "output_type": "stream",
     "text": [
      "$HSY: possibly delisted; no price data found  (1d 2023-12-30 -> 2024-01-29)\n"
     ]
    },
    {
     "name": "stdout",
     "output_type": "stream",
     "text": [
      "Error fetching data for HSY: No historical data available for HSY around 2024-01-29.\n"
     ]
    },
    {
     "name": "stderr",
     "output_type": "stream",
     "text": [
      "$ALGT: possibly delisted; no price data found  (1d 2023-12-30 -> 2024-01-29)\n"
     ]
    },
    {
     "name": "stdout",
     "output_type": "stream",
     "text": [
      "Error fetching data for ALGT: No historical data available for ALGT around 2024-01-29.\n"
     ]
    },
    {
     "name": "stderr",
     "output_type": "stream",
     "text": [
      "$GCBC: possibly delisted; no price data found  (1d 2023-12-30 -> 2024-01-29)\n"
     ]
    },
    {
     "name": "stdout",
     "output_type": "stream",
     "text": [
      "Error fetching data for GCBC: No historical data available for GCBC around 2024-01-29.\n"
     ]
    },
    {
     "name": "stderr",
     "output_type": "stream",
     "text": [
      "$KSM: possibly delisted; no price data found  (period=1d)\n"
     ]
    },
    {
     "name": "stdout",
     "output_type": "stream",
     "text": [
      "Error fetching data for KSM: single positional indexer is out-of-bounds\n"
     ]
    },
    {
     "name": "stderr",
     "output_type": "stream",
     "text": [
      "$MAG: possibly delisted; no price data found  (period=1d)\n"
     ]
    },
    {
     "name": "stdout",
     "output_type": "stream",
     "text": [
      "Error fetching data for MAG: single positional indexer is out-of-bounds\n"
     ]
    },
    {
     "name": "stderr",
     "output_type": "stream",
     "text": [
      "$CTSH: possibly delisted; no price data found  (1d 2023-12-30 -> 2024-01-29)\n"
     ]
    },
    {
     "name": "stdout",
     "output_type": "stream",
     "text": [
      "Error fetching data for CTSH: No historical data available for CTSH around 2024-01-29.\n"
     ]
    },
    {
     "name": "stderr",
     "output_type": "stream",
     "text": [
      "$PAMT: possibly delisted; no price data found  (1d 2023-12-30 -> 2024-01-29)\n"
     ]
    },
    {
     "name": "stdout",
     "output_type": "stream",
     "text": [
      "Error fetching data for PAMT: No historical data available for PAMT around 2024-01-29.\n"
     ]
    },
    {
     "name": "stderr",
     "output_type": "stream",
     "text": [
      "$HCC: possibly delisted; no price data found  (1d 2023-12-30 -> 2024-01-29)\n"
     ]
    },
    {
     "name": "stdout",
     "output_type": "stream",
     "text": [
      "Error fetching data for HCC: No historical data available for HCC around 2024-01-29.\n"
     ]
    },
    {
     "name": "stderr",
     "output_type": "stream",
     "text": [
      "$GLDD: possibly delisted; no price data found  (1d 2023-12-30 -> 2024-01-29)\n"
     ]
    },
    {
     "name": "stdout",
     "output_type": "stream",
     "text": [
      "Error fetching data for GLDD: No historical data available for GLDD around 2024-01-29.\n"
     ]
    },
    {
     "name": "stderr",
     "output_type": "stream",
     "text": [
      "$HLX: possibly delisted; no price data found  (1d 2023-12-30 -> 2024-01-29)\n"
     ]
    },
    {
     "name": "stdout",
     "output_type": "stream",
     "text": [
      "Error fetching data for HLX: No historical data available for HLX around 2024-01-29.\n"
     ]
    },
    {
     "name": "stderr",
     "output_type": "stream",
     "text": [
      "$ARL: possibly delisted; no price data found  (1d 2023-12-30 -> 2024-01-29)\n"
     ]
    },
    {
     "name": "stdout",
     "output_type": "stream",
     "text": [
      "Error fetching data for ARL: No historical data available for ARL around 2024-01-29.\n"
     ]
    },
    {
     "name": "stderr",
     "output_type": "stream",
     "text": [
      "$MNKD: possibly delisted; no price data found  (1d 2023-12-30 -> 2024-01-29)\n"
     ]
    },
    {
     "name": "stdout",
     "output_type": "stream",
     "text": [
      "Error fetching data for MNKD: No historical data available for MNKD around 2024-01-29.\n"
     ]
    },
    {
     "name": "stderr",
     "output_type": "stream",
     "text": [
      "$AL: possibly delisted; no price data found  (1d 2023-12-30 -> 2024-01-29)\n"
     ]
    },
    {
     "name": "stdout",
     "output_type": "stream",
     "text": [
      "Error fetching data for AL: No historical data available for AL around 2024-01-29.\n"
     ]
    },
    {
     "name": "stderr",
     "output_type": "stream",
     "text": [
      "$ALE: possibly delisted; no price data found  (1d 2023-12-30 -> 2024-01-29)\n"
     ]
    },
    {
     "name": "stdout",
     "output_type": "stream",
     "text": [
      "Error fetching data for ALE: No historical data available for ALE around 2024-01-29.\n"
     ]
    },
    {
     "name": "stderr",
     "output_type": "stream",
     "text": [
      "$PMX: possibly delisted; no price data found  (1d 2023-12-30 -> 2024-01-29)\n"
     ]
    },
    {
     "name": "stdout",
     "output_type": "stream",
     "text": [
      "Error fetching data for PMX: No historical data available for PMX around 2024-01-29.\n"
     ]
    },
    {
     "name": "stderr",
     "output_type": "stream",
     "text": [
      "$CLX: possibly delisted; no price data found  (1d 2023-12-30 -> 2024-01-29)\n"
     ]
    },
    {
     "name": "stdout",
     "output_type": "stream",
     "text": [
      "Error fetching data for CLX: No historical data available for CLX around 2024-01-29.\n"
     ]
    },
    {
     "name": "stderr",
     "output_type": "stream",
     "text": [
      "$CZNC: possibly delisted; no price data found  (1d 2023-12-30 -> 2024-01-29)\n"
     ]
    },
    {
     "name": "stdout",
     "output_type": "stream",
     "text": [
      "Error fetching data for CZNC: No historical data available for CZNC around 2024-01-29.\n"
     ]
    },
    {
     "name": "stderr",
     "output_type": "stream",
     "text": [
      "$PEO: possibly delisted; no price data found  (1d 2023-12-30 -> 2024-01-29)\n"
     ]
    },
    {
     "name": "stdout",
     "output_type": "stream",
     "text": [
      "Error fetching data for PEO: No historical data available for PEO around 2024-01-29.\n"
     ]
    },
    {
     "name": "stderr",
     "output_type": "stream",
     "text": [
      "$LTM: possibly delisted; no price data found  (1d 2023-12-30 -> 2024-01-29)\n"
     ]
    },
    {
     "name": "stdout",
     "output_type": "stream",
     "text": [
      "Error fetching data for LTM: No historical data available for LTM around 2024-01-29.\n"
     ]
    },
    {
     "name": "stderr",
     "output_type": "stream",
     "text": [
      "$C: possibly delisted; no price data found  (1d 2023-12-30 -> 2024-01-29)\n"
     ]
    },
    {
     "name": "stdout",
     "output_type": "stream",
     "text": [
      "Error fetching data for C: No historical data available for C around 2024-01-29.\n"
     ]
    },
    {
     "name": "stderr",
     "output_type": "stream",
     "text": [
      "$GNTX: possibly delisted; no price data found  (1d 2023-12-30 -> 2024-01-29)\n"
     ]
    },
    {
     "name": "stdout",
     "output_type": "stream",
     "text": [
      "Error fetching data for GNTX: No historical data available for GNTX around 2024-01-29.\n"
     ]
    },
    {
     "name": "stderr",
     "output_type": "stream",
     "text": [
      "$LQDT: possibly delisted; no price data found  (1d 2023-12-30 -> 2024-01-29)\n"
     ]
    },
    {
     "name": "stdout",
     "output_type": "stream",
     "text": [
      "Error fetching data for LQDT: No historical data available for LQDT around 2024-01-29.\n"
     ]
    },
    {
     "name": "stderr",
     "output_type": "stream",
     "text": [
      "$GM: possibly delisted; no price data found  (1d 2023-12-30 -> 2024-01-29)\n"
     ]
    },
    {
     "name": "stdout",
     "output_type": "stream",
     "text": [
      "Error fetching data for GM: No historical data available for GM around 2024-01-29.\n"
     ]
    },
    {
     "name": "stderr",
     "output_type": "stream",
     "text": [
      "$DORM: possibly delisted; no price data found  (1d 2023-12-30 -> 2024-01-29)\n"
     ]
    },
    {
     "name": "stdout",
     "output_type": "stream",
     "text": [
      "Error fetching data for DORM: No historical data available for DORM around 2024-01-29.\n"
     ]
    },
    {
     "name": "stderr",
     "output_type": "stream",
     "text": [
      "$FOLD: possibly delisted; no price data found  (1d 2023-12-30 -> 2024-01-29)\n"
     ]
    },
    {
     "name": "stdout",
     "output_type": "stream",
     "text": [
      "Error fetching data for FOLD: No historical data available for FOLD around 2024-01-29.\n"
     ]
    },
    {
     "name": "stderr",
     "output_type": "stream",
     "text": [
      "$SMPL: possibly delisted; no price data found  (1d 2023-12-30 -> 2024-01-29)\n"
     ]
    },
    {
     "name": "stdout",
     "output_type": "stream",
     "text": [
      "Error fetching data for SMPL: No historical data available for SMPL around 2024-01-29.\n"
     ]
    },
    {
     "name": "stderr",
     "output_type": "stream",
     "text": [
      "$TRMK: possibly delisted; no price data found  (1d 2023-12-30 -> 2024-01-29)\n"
     ]
    },
    {
     "name": "stdout",
     "output_type": "stream",
     "text": [
      "Error fetching data for TRMK: No historical data available for TRMK around 2024-01-29.\n"
     ]
    },
    {
     "name": "stderr",
     "output_type": "stream",
     "text": [
      "$DB: possibly delisted; no price data found  (1d 2023-12-30 -> 2024-01-29)\n"
     ]
    },
    {
     "name": "stdout",
     "output_type": "stream",
     "text": [
      "Error fetching data for DB: No historical data available for DB around 2024-01-29.\n"
     ]
    },
    {
     "name": "stderr",
     "output_type": "stream",
     "text": [
      "$DLX: possibly delisted; no price data found  (1d 2023-12-30 -> 2024-01-29)\n"
     ]
    },
    {
     "name": "stdout",
     "output_type": "stream",
     "text": [
      "Error fetching data for DLX: No historical data available for DLX around 2024-01-29.\n"
     ]
    },
    {
     "name": "stderr",
     "output_type": "stream",
     "text": [
      "$CRH: possibly delisted; no price data found  (1d 2023-12-30 -> 2024-01-29)\n"
     ]
    },
    {
     "name": "stdout",
     "output_type": "stream",
     "text": [
      "Error fetching data for CRH: No historical data available for CRH around 2024-01-29.\n"
     ]
    },
    {
     "name": "stderr",
     "output_type": "stream",
     "text": [
      "$IIM: possibly delisted; no price data found  (1d 2023-12-30 -> 2024-01-29)\n"
     ]
    },
    {
     "name": "stdout",
     "output_type": "stream",
     "text": [
      "Error fetching data for IIM: No historical data available for IIM around 2024-01-29.\n"
     ]
    },
    {
     "name": "stderr",
     "output_type": "stream",
     "text": [
      "$STXS: possibly delisted; no price data found  (1d 2023-12-30 -> 2024-01-29)\n"
     ]
    },
    {
     "name": "stdout",
     "output_type": "stream",
     "text": [
      "Error fetching data for STXS: No historical data available for STXS around 2024-01-29.\n"
     ]
    },
    {
     "name": "stderr",
     "output_type": "stream",
     "text": [
      "$CPHC: possibly delisted; no price data found  (1d 2023-12-30 -> 2024-01-29)\n"
     ]
    },
    {
     "name": "stdout",
     "output_type": "stream",
     "text": [
      "Error fetching data for CPHC: No historical data available for CPHC around 2024-01-29.\n"
     ]
    },
    {
     "name": "stderr",
     "output_type": "stream",
     "text": [
      "$ASUR: possibly delisted; no price data found  (1d 2023-12-30 -> 2024-01-29)\n"
     ]
    },
    {
     "name": "stdout",
     "output_type": "stream",
     "text": [
      "Error fetching data for ASUR: No historical data available for ASUR around 2024-01-29.\n"
     ]
    },
    {
     "name": "stderr",
     "output_type": "stream",
     "text": [
      "$PBA: possibly delisted; no price data found  (1d 2023-12-30 -> 2024-01-29)\n"
     ]
    },
    {
     "name": "stdout",
     "output_type": "stream",
     "text": [
      "Error fetching data for PBA: No historical data available for PBA around 2024-01-29.\n"
     ]
    },
    {
     "name": "stderr",
     "output_type": "stream",
     "text": [
      "$ATO: possibly delisted; no price data found  (1d 2023-12-30 -> 2024-01-29)\n"
     ]
    },
    {
     "name": "stdout",
     "output_type": "stream",
     "text": [
      "Error fetching data for ATO: No historical data available for ATO around 2024-01-29.\n"
     ]
    },
    {
     "name": "stderr",
     "output_type": "stream",
     "text": [
      "$GPOR: possibly delisted; no price data found  (1d 2023-12-30 -> 2024-01-29)\n"
     ]
    },
    {
     "name": "stdout",
     "output_type": "stream",
     "text": [
      "Error fetching data for GPOR: No historical data available for GPOR around 2024-01-29.\n"
     ]
    },
    {
     "name": "stderr",
     "output_type": "stream",
     "text": [
      "$LNT: possibly delisted; no price data found  (1d 2023-12-30 -> 2024-01-29)\n"
     ]
    },
    {
     "name": "stdout",
     "output_type": "stream",
     "text": [
      "Error fetching data for LNT: No historical data available for LNT around 2024-01-29.\n"
     ]
    },
    {
     "name": "stderr",
     "output_type": "stream",
     "text": [
      "$ASYS: possibly delisted; no price data found  (1d 2023-12-30 -> 2024-01-29)\n"
     ]
    },
    {
     "name": "stdout",
     "output_type": "stream",
     "text": [
      "Error fetching data for ASYS: No historical data available for ASYS around 2024-01-29.\n"
     ]
    },
    {
     "name": "stderr",
     "output_type": "stream",
     "text": [
      "$KMT: possibly delisted; no price data found  (1d 2023-12-30 -> 2024-01-29)\n"
     ]
    },
    {
     "name": "stdout",
     "output_type": "stream",
     "text": [
      "Error fetching data for KMT: No historical data available for KMT around 2024-01-29.\n"
     ]
    },
    {
     "name": "stderr",
     "output_type": "stream",
     "text": [
      "$HVT: possibly delisted; no price data found  (1d 2023-12-30 -> 2024-01-29)\n"
     ]
    },
    {
     "name": "stdout",
     "output_type": "stream",
     "text": [
      "Error fetching data for HVT: No historical data available for HVT around 2024-01-29.\n"
     ]
    },
    {
     "name": "stderr",
     "output_type": "stream",
     "text": [
      "$TCBI: possibly delisted; no price data found  (1d 2023-12-30 -> 2024-01-29)\n"
     ]
    },
    {
     "name": "stdout",
     "output_type": "stream",
     "text": [
      "Error fetching data for TCBI: No historical data available for TCBI around 2024-01-29.\n"
     ]
    },
    {
     "name": "stderr",
     "output_type": "stream",
     "text": [
      "$TEX: possibly delisted; no price data found  (1d 2023-12-30 -> 2024-01-29)\n"
     ]
    },
    {
     "name": "stdout",
     "output_type": "stream",
     "text": [
      "Error fetching data for TEX: No historical data available for TEX around 2024-01-29.\n"
     ]
    },
    {
     "name": "stderr",
     "output_type": "stream",
     "text": [
      "$ARI: possibly delisted; no price data found  (1d 2023-12-30 -> 2024-01-29)\n"
     ]
    },
    {
     "name": "stdout",
     "output_type": "stream",
     "text": [
      "Error fetching data for ARI: No historical data available for ARI around 2024-01-29.\n"
     ]
    },
    {
     "name": "stderr",
     "output_type": "stream",
     "text": [
      "$MAR: possibly delisted; no price data found  (1d 2023-12-30 -> 2024-01-29)\n"
     ]
    },
    {
     "name": "stdout",
     "output_type": "stream",
     "text": [
      "Error fetching data for MAR: No historical data available for MAR around 2024-01-29.\n"
     ]
    },
    {
     "name": "stderr",
     "output_type": "stream",
     "text": [
      "$CSIQ: possibly delisted; no price data found  (1d 2023-12-30 -> 2024-01-29)\n"
     ]
    },
    {
     "name": "stdout",
     "output_type": "stream",
     "text": [
      "Error fetching data for CSIQ: No historical data available for CSIQ around 2024-01-29.\n"
     ]
    },
    {
     "name": "stderr",
     "output_type": "stream",
     "text": [
      "$FBP: possibly delisted; no price data found  (1d 2023-12-30 -> 2024-01-29)\n"
     ]
    },
    {
     "name": "stdout",
     "output_type": "stream",
     "text": [
      "Error fetching data for FBP: No historical data available for FBP around 2024-01-29.\n"
     ]
    },
    {
     "name": "stderr",
     "output_type": "stream",
     "text": [
      "$MITK: possibly delisted; no price data found  (1d 2023-12-30 -> 2024-01-29)\n"
     ]
    },
    {
     "name": "stdout",
     "output_type": "stream",
     "text": [
      "Error fetching data for MITK: No historical data available for MITK around 2024-01-29.\n"
     ]
    },
    {
     "name": "stderr",
     "output_type": "stream",
     "text": [
      "$FOR: possibly delisted; no price data found  (1d 2023-12-30 -> 2024-01-29)\n"
     ]
    },
    {
     "name": "stdout",
     "output_type": "stream",
     "text": [
      "Error fetching data for FOR: No historical data available for FOR around 2024-01-29.\n"
     ]
    },
    {
     "name": "stderr",
     "output_type": "stream",
     "text": [
      "$FORTY: possibly delisted; no price data found  (1d 2023-12-30 -> 2024-01-29)\n"
     ]
    },
    {
     "name": "stdout",
     "output_type": "stream",
     "text": [
      "Error fetching data for FORTY: No historical data available for FORTY around 2024-01-29.\n"
     ]
    },
    {
     "name": "stderr",
     "output_type": "stream",
     "text": [
      "$HBNC: possibly delisted; no price data found  (1d 2023-12-30 -> 2024-01-29)\n"
     ]
    },
    {
     "name": "stdout",
     "output_type": "stream",
     "text": [
      "Error fetching data for HBNC: No historical data available for HBNC around 2024-01-29.\n"
     ]
    },
    {
     "name": "stderr",
     "output_type": "stream",
     "text": [
      "$ITT: possibly delisted; no price data found  (1d 2023-12-30 -> 2024-01-29)\n"
     ]
    },
    {
     "name": "stdout",
     "output_type": "stream",
     "text": [
      "Error fetching data for ITT: No historical data available for ITT around 2024-01-29.\n"
     ]
    },
    {
     "name": "stderr",
     "output_type": "stream",
     "text": [
      "$BDC: possibly delisted; no price data found  (1d 2023-12-30 -> 2024-01-29)\n"
     ]
    },
    {
     "name": "stdout",
     "output_type": "stream",
     "text": [
      "Error fetching data for BDC: No historical data available for BDC around 2024-01-29.\n"
     ]
    },
    {
     "name": "stderr",
     "output_type": "stream",
     "text": [
      "$BCPC: possibly delisted; no price data found  (1d 2023-12-30 -> 2024-01-29)\n"
     ]
    },
    {
     "name": "stdout",
     "output_type": "stream",
     "text": [
      "Error fetching data for BCPC: No historical data available for BCPC around 2024-01-29.\n"
     ]
    },
    {
     "name": "stderr",
     "output_type": "stream",
     "text": [
      "$BHP: possibly delisted; no price data found  (1d 2023-12-30 -> 2024-01-29)\n"
     ]
    },
    {
     "name": "stdout",
     "output_type": "stream",
     "text": [
      "Error fetching data for BHP: No historical data available for BHP around 2024-01-29.\n"
     ]
    },
    {
     "name": "stderr",
     "output_type": "stream",
     "text": [
      "$PSMT: possibly delisted; no price data found  (1d 2023-12-30 -> 2024-01-29)\n"
     ]
    },
    {
     "name": "stdout",
     "output_type": "stream",
     "text": [
      "Error fetching data for PSMT: No historical data available for PSMT around 2024-01-29.\n"
     ]
    },
    {
     "name": "stderr",
     "output_type": "stream",
     "text": [
      "$DHF: possibly delisted; no price data found  (1d 2023-12-30 -> 2024-01-29)\n"
     ]
    },
    {
     "name": "stdout",
     "output_type": "stream",
     "text": [
      "Error fetching data for DHF: No historical data available for DHF around 2024-01-29.\n"
     ]
    },
    {
     "name": "stderr",
     "output_type": "stream",
     "text": [
      "$CR: possibly delisted; no price data found  (1d 2023-12-30 -> 2024-01-29)\n"
     ]
    },
    {
     "name": "stdout",
     "output_type": "stream",
     "text": [
      "Error fetching data for CR: No historical data available for CR around 2024-01-29.\n"
     ]
    },
    {
     "name": "stderr",
     "output_type": "stream",
     "text": [
      "$SYK: possibly delisted; no price data found  (1d 2023-12-30 -> 2024-01-29)\n"
     ]
    },
    {
     "name": "stdout",
     "output_type": "stream",
     "text": [
      "Error fetching data for SYK: No historical data available for SYK around 2024-01-29.\n"
     ]
    },
    {
     "name": "stderr",
     "output_type": "stream",
     "text": [
      "$LFUS: possibly delisted; no price data found  (1d 2023-12-30 -> 2024-01-29)\n"
     ]
    },
    {
     "name": "stdout",
     "output_type": "stream",
     "text": [
      "Error fetching data for LFUS: No historical data available for LFUS around 2024-01-29.\n"
     ]
    },
    {
     "name": "stderr",
     "output_type": "stream",
     "text": [
      "$POST: possibly delisted; no price data found  (1d 2023-12-30 -> 2024-01-29)\n"
     ]
    },
    {
     "name": "stdout",
     "output_type": "stream",
     "text": [
      "Error fetching data for POST: No historical data available for POST around 2024-01-29.\n"
     ]
    },
    {
     "name": "stderr",
     "output_type": "stream",
     "text": [
      "$GABC: possibly delisted; no price data found  (1d 2023-12-30 -> 2024-01-29)\n"
     ]
    },
    {
     "name": "stdout",
     "output_type": "stream",
     "text": [
      "Error fetching data for GABC: No historical data available for GABC around 2024-01-29.\n"
     ]
    },
    {
     "name": "stderr",
     "output_type": "stream",
     "text": [
      "$LOW: possibly delisted; no price data found  (1d 2023-12-30 -> 2024-01-29)\n"
     ]
    },
    {
     "name": "stdout",
     "output_type": "stream",
     "text": [
      "Error fetching data for LOW: No historical data available for LOW around 2024-01-29.\n"
     ]
    },
    {
     "name": "stderr",
     "output_type": "stream",
     "text": [
      "$CWH: possibly delisted; no price data found  (1d 2023-12-30 -> 2024-01-29)\n"
     ]
    },
    {
     "name": "stdout",
     "output_type": "stream",
     "text": [
      "Error fetching data for CWH: No historical data available for CWH around 2024-01-29.\n"
     ]
    },
    {
     "name": "stderr",
     "output_type": "stream",
     "text": [
      "$SSD: possibly delisted; no price data found  (1d 2023-12-30 -> 2024-01-29)\n"
     ]
    },
    {
     "name": "stdout",
     "output_type": "stream",
     "text": [
      "Error fetching data for SSD: No historical data available for SSD around 2024-01-29.\n"
     ]
    },
    {
     "name": "stderr",
     "output_type": "stream",
     "text": [
      "$TOWN: possibly delisted; no price data found  (1d 2023-12-30 -> 2024-01-29)\n"
     ]
    },
    {
     "name": "stdout",
     "output_type": "stream",
     "text": [
      "Error fetching data for TOWN: No historical data available for TOWN around 2024-01-29.\n"
     ]
    },
    {
     "name": "stderr",
     "output_type": "stream",
     "text": [
      "$ACNB: possibly delisted; no price data found  (1d 2023-12-30 -> 2024-01-29)\n"
     ]
    },
    {
     "name": "stdout",
     "output_type": "stream",
     "text": [
      "Error fetching data for ACNB: No historical data available for ACNB around 2024-01-29.\n"
     ]
    },
    {
     "name": "stderr",
     "output_type": "stream",
     "text": [
      "$ARTNA: possibly delisted; no price data found  (1d 2023-12-30 -> 2024-01-29)\n"
     ]
    },
    {
     "name": "stdout",
     "output_type": "stream",
     "text": [
      "Error fetching data for ARTNA: No historical data available for ARTNA around 2024-01-29.\n"
     ]
    },
    {
     "name": "stderr",
     "output_type": "stream",
     "text": [
      "$HQH: possibly delisted; no price data found  (1d 2023-12-30 -> 2024-01-29)\n"
     ]
    },
    {
     "name": "stdout",
     "output_type": "stream",
     "text": [
      "Error fetching data for HQH: No historical data available for HQH around 2024-01-29.\n"
     ]
    },
    {
     "name": "stderr",
     "output_type": "stream",
     "text": [
      "$STT: possibly delisted; no price data found  (1d 2023-12-30 -> 2024-01-29)\n"
     ]
    },
    {
     "name": "stdout",
     "output_type": "stream",
     "text": [
      "Error fetching data for STT: No historical data available for STT around 2024-01-29.\n"
     ]
    },
    {
     "name": "stderr",
     "output_type": "stream",
     "text": [
      "$MANH: possibly delisted; no price data found  (1d 2023-12-30 -> 2024-01-29)\n"
     ]
    },
    {
     "name": "stdout",
     "output_type": "stream",
     "text": [
      "Error fetching data for MANH: No historical data available for MANH around 2024-01-29.\n"
     ]
    },
    {
     "name": "stderr",
     "output_type": "stream",
     "text": [
      "$WYNN: possibly delisted; no price data found  (1d 2023-12-30 -> 2024-01-29)\n"
     ]
    },
    {
     "name": "stdout",
     "output_type": "stream",
     "text": [
      "Error fetching data for WYNN: No historical data available for WYNN around 2024-01-29.\n"
     ]
    },
    {
     "name": "stderr",
     "output_type": "stream",
     "text": [
      "$JNPR: possibly delisted; no price data found  (1d 2023-12-30 -> 2024-01-29)\n"
     ]
    },
    {
     "name": "stdout",
     "output_type": "stream",
     "text": [
      "Error fetching data for JNPR: No historical data available for JNPR around 2024-01-29.\n"
     ]
    },
    {
     "name": "stderr",
     "output_type": "stream",
     "text": [
      "$ACI: possibly delisted; no price data found  (1d 2023-12-30 -> 2024-01-29)\n"
     ]
    },
    {
     "name": "stdout",
     "output_type": "stream",
     "text": [
      "Error fetching data for ACI: No historical data available for ACI around 2024-01-29.\n"
     ]
    },
    {
     "name": "stderr",
     "output_type": "stream",
     "text": [
      "$OXLCO: possibly delisted; no price data found  (1d 2023-12-30 -> 2024-01-29)\n"
     ]
    },
    {
     "name": "stdout",
     "output_type": "stream",
     "text": [
      "Error fetching data for OXLCO: No historical data available for OXLCO around 2024-01-29.\n"
     ]
    },
    {
     "name": "stderr",
     "output_type": "stream",
     "text": [
      "$KAR: possibly delisted; no price data found  (1d 2023-12-30 -> 2024-01-29)\n"
     ]
    },
    {
     "name": "stdout",
     "output_type": "stream",
     "text": [
      "Error fetching data for KAR: No historical data available for KAR around 2024-01-29.\n"
     ]
    },
    {
     "name": "stderr",
     "output_type": "stream",
     "text": [
      "$A: possibly delisted; no price data found  (1d 2023-12-30 -> 2024-01-29)\n"
     ]
    },
    {
     "name": "stdout",
     "output_type": "stream",
     "text": [
      "Error fetching data for A: No historical data available for A around 2024-01-29.\n"
     ]
    },
    {
     "name": "stderr",
     "output_type": "stream",
     "text": [
      "$SNA: possibly delisted; no price data found  (1d 2023-12-30 -> 2024-01-29)\n"
     ]
    },
    {
     "name": "stdout",
     "output_type": "stream",
     "text": [
      "Error fetching data for SNA: No historical data available for SNA around 2024-01-29.\n"
     ]
    },
    {
     "name": "stderr",
     "output_type": "stream",
     "text": [
      "$PSA: possibly delisted; no price data found  (1d 2023-12-30 -> 2024-01-29)\n"
     ]
    },
    {
     "name": "stdout",
     "output_type": "stream",
     "text": [
      "Error fetching data for PSA: No historical data available for PSA around 2024-01-29.\n"
     ]
    },
    {
     "name": "stderr",
     "output_type": "stream",
     "text": [
      "$AEF: possibly delisted; no price data found  (1d 2023-12-30 -> 2024-01-29)\n"
     ]
    },
    {
     "name": "stdout",
     "output_type": "stream",
     "text": [
      "Error fetching data for AEF: No historical data available for AEF around 2024-01-29.\n"
     ]
    },
    {
     "name": "stderr",
     "output_type": "stream",
     "text": [
      "$MMYT: possibly delisted; no price data found  (1d 2023-12-30 -> 2024-01-29)\n"
     ]
    },
    {
     "name": "stdout",
     "output_type": "stream",
     "text": [
      "Error fetching data for MMYT: No historical data available for MMYT around 2024-01-29.\n"
     ]
    },
    {
     "name": "stderr",
     "output_type": "stream",
     "text": [
      "$BR: possibly delisted; no price data found  (1d 2023-12-30 -> 2024-01-29)\n"
     ]
    },
    {
     "name": "stdout",
     "output_type": "stream",
     "text": [
      "Error fetching data for BR: No historical data available for BR around 2024-01-29.\n"
     ]
    },
    {
     "name": "stderr",
     "output_type": "stream",
     "text": [
      "$TDF: possibly delisted; no price data found  (1d 2023-12-30 -> 2024-01-29)\n"
     ]
    },
    {
     "name": "stdout",
     "output_type": "stream",
     "text": [
      "Error fetching data for TDF: No historical data available for TDF around 2024-01-29.\n"
     ]
    },
    {
     "name": "stderr",
     "output_type": "stream",
     "text": [
      "$CRNT: possibly delisted; no price data found  (1d 2023-12-30 -> 2024-01-29)\n"
     ]
    },
    {
     "name": "stdout",
     "output_type": "stream",
     "text": [
      "Error fetching data for CRNT: No historical data available for CRNT around 2024-01-29.\n"
     ]
    },
    {
     "name": "stderr",
     "output_type": "stream",
     "text": [
      "$LTRX: possibly delisted; no price data found  (1d 2023-12-30 -> 2024-01-29)\n"
     ]
    },
    {
     "name": "stdout",
     "output_type": "stream",
     "text": [
      "Error fetching data for LTRX: No historical data available for LTRX around 2024-01-29.\n"
     ]
    },
    {
     "name": "stderr",
     "output_type": "stream",
     "text": [
      "$TRGP: possibly delisted; no price data found  (1d 2023-12-30 -> 2024-01-29)\n"
     ]
    },
    {
     "name": "stdout",
     "output_type": "stream",
     "text": [
      "Error fetching data for TRGP: No historical data available for TRGP around 2024-01-29.\n"
     ]
    },
    {
     "name": "stderr",
     "output_type": "stream",
     "text": [
      "$ACN: possibly delisted; no price data found  (1d 2023-12-30 -> 2024-01-29)\n"
     ]
    },
    {
     "name": "stdout",
     "output_type": "stream",
     "text": [
      "Error fetching data for ACN: No historical data available for ACN around 2024-01-29.\n"
     ]
    },
    {
     "name": "stderr",
     "output_type": "stream",
     "text": [
      "$DRI: possibly delisted; no price data found  (1d 2023-12-30 -> 2024-01-29)\n"
     ]
    },
    {
     "name": "stdout",
     "output_type": "stream",
     "text": [
      "Error fetching data for DRI: No historical data available for DRI around 2024-01-29.\n"
     ]
    },
    {
     "name": "stderr",
     "output_type": "stream",
     "text": [
      "$AMG: possibly delisted; no price data found  (1d 2023-12-30 -> 2024-01-29)\n"
     ]
    },
    {
     "name": "stdout",
     "output_type": "stream",
     "text": [
      "Error fetching data for AMG: No historical data available for AMG around 2024-01-29.\n"
     ]
    },
    {
     "name": "stderr",
     "output_type": "stream",
     "text": [
      "$LION: possibly delisted; no price data found  (1d 2023-12-30 -> 2024-01-29)\n"
     ]
    },
    {
     "name": "stdout",
     "output_type": "stream",
     "text": [
      "Error fetching data for LION: No historical data available for LION around 2024-01-29.\n"
     ]
    },
    {
     "name": "stderr",
     "output_type": "stream",
     "text": [
      "$PTEN: possibly delisted; no price data found  (1d 2023-12-30 -> 2024-01-29)\n"
     ]
    },
    {
     "name": "stdout",
     "output_type": "stream",
     "text": [
      "Error fetching data for PTEN: No historical data available for PTEN around 2024-01-29.\n"
     ]
    },
    {
     "name": "stderr",
     "output_type": "stream",
     "text": [
      "$IT: possibly delisted; no price data found  (1d 2023-12-30 -> 2024-01-29)\n"
     ]
    },
    {
     "name": "stdout",
     "output_type": "stream",
     "text": [
      "Error fetching data for IT: No historical data available for IT around 2024-01-29.\n"
     ]
    },
    {
     "name": "stderr",
     "output_type": "stream",
     "text": [
      "$CVCO: possibly delisted; no price data found  (1d 2023-12-30 -> 2024-01-29)\n"
     ]
    },
    {
     "name": "stdout",
     "output_type": "stream",
     "text": [
      "Error fetching data for CVCO: No historical data available for CVCO around 2024-01-29.\n"
     ]
    },
    {
     "name": "stderr",
     "output_type": "stream",
     "text": [
      "$LDP: possibly delisted; no price data found  (1d 2023-12-30 -> 2024-01-29)\n"
     ]
    },
    {
     "name": "stdout",
     "output_type": "stream",
     "text": [
      "Error fetching data for LDP: No historical data available for LDP around 2024-01-29.\n"
     ]
    },
    {
     "name": "stderr",
     "output_type": "stream",
     "text": [
      "$CRT: possibly delisted; no price data found  (1d 2023-12-30 -> 2024-01-29)\n"
     ]
    },
    {
     "name": "stdout",
     "output_type": "stream",
     "text": [
      "Error fetching data for CRT: No historical data available for CRT around 2024-01-29.\n"
     ]
    },
    {
     "name": "stderr",
     "output_type": "stream",
     "text": [
      "$LMNR: possibly delisted; no price data found  (1d 2023-12-30 -> 2024-01-29)\n"
     ]
    },
    {
     "name": "stdout",
     "output_type": "stream",
     "text": [
      "Error fetching data for LMNR: No historical data available for LMNR around 2024-01-29.\n"
     ]
    },
    {
     "name": "stderr",
     "output_type": "stream",
     "text": [
      "$HLIT: possibly delisted; no price data found  (1d 2023-12-30 -> 2024-01-29)\n"
     ]
    },
    {
     "name": "stdout",
     "output_type": "stream",
     "text": [
      "Error fetching data for HLIT: No historical data available for HLIT around 2024-01-29.\n"
     ]
    },
    {
     "name": "stderr",
     "output_type": "stream",
     "text": [
      "$LNN: possibly delisted; no price data found  (1d 2023-12-30 -> 2024-01-29)\n"
     ]
    },
    {
     "name": "stdout",
     "output_type": "stream",
     "text": [
      "Error fetching data for LNN: No historical data available for LNN around 2024-01-29.\n"
     ]
    },
    {
     "name": "stderr",
     "output_type": "stream",
     "text": [
      "$ODC: possibly delisted; no price data found  (1d 2023-12-30 -> 2024-01-29)\n"
     ]
    },
    {
     "name": "stdout",
     "output_type": "stream",
     "text": [
      "Error fetching data for ODC: No historical data available for ODC around 2024-01-29.\n"
     ]
    },
    {
     "name": "stderr",
     "output_type": "stream",
     "text": [
      "$GGB: possibly delisted; no price data found  (1d 2023-12-30 -> 2024-01-29)\n"
     ]
    },
    {
     "name": "stdout",
     "output_type": "stream",
     "text": [
      "Error fetching data for GGB: No historical data available for GGB around 2024-01-29.\n"
     ]
    },
    {
     "name": "stderr",
     "output_type": "stream",
     "text": [
      "$COKE: possibly delisted; no price data found  (1d 2023-12-30 -> 2024-01-29)\n"
     ]
    },
    {
     "name": "stdout",
     "output_type": "stream",
     "text": [
      "Error fetching data for COKE: No historical data available for COKE around 2024-01-29.\n"
     ]
    },
    {
     "name": "stderr",
     "output_type": "stream",
     "text": [
      "$SRDX: possibly delisted; no price data found  (1d 2023-12-30 -> 2024-01-29)\n"
     ]
    },
    {
     "name": "stdout",
     "output_type": "stream",
     "text": [
      "Error fetching data for SRDX: No historical data available for SRDX around 2024-01-29.\n"
     ]
    },
    {
     "name": "stderr",
     "output_type": "stream",
     "text": [
      "$ALX: possibly delisted; no price data found  (1d 2023-12-30 -> 2024-01-29)\n"
     ]
    },
    {
     "name": "stdout",
     "output_type": "stream",
     "text": [
      "Error fetching data for ALX: No historical data available for ALX around 2024-01-29.\n"
     ]
    },
    {
     "name": "stderr",
     "output_type": "stream",
     "text": [
      "$SOL: possibly delisted; no price data found  (1d 2023-12-30 -> 2024-01-29)\n"
     ]
    },
    {
     "name": "stdout",
     "output_type": "stream",
     "text": [
      "Error fetching data for SOL: No historical data available for SOL around 2024-01-29.\n"
     ]
    },
    {
     "name": "stderr",
     "output_type": "stream",
     "text": [
      "$PCG: possibly delisted; no price data found  (1d 2023-12-30 -> 2024-01-29)\n"
     ]
    },
    {
     "name": "stdout",
     "output_type": "stream",
     "text": [
      "Error fetching data for PCG: No historical data available for PCG around 2024-01-29.\n"
     ]
    },
    {
     "name": "stderr",
     "output_type": "stream",
     "text": [
      "$CMCSA: possibly delisted; no price data found  (1d 2023-12-30 -> 2024-01-29)\n"
     ]
    },
    {
     "name": "stdout",
     "output_type": "stream",
     "text": [
      "Error fetching data for CMCSA: No historical data available for CMCSA around 2024-01-29.\n"
     ]
    },
    {
     "name": "stderr",
     "output_type": "stream",
     "text": [
      "$LMT: possibly delisted; no price data found  (1d 2023-12-30 -> 2024-01-29)\n"
     ]
    },
    {
     "name": "stdout",
     "output_type": "stream",
     "text": [
      "Error fetching data for LMT: No historical data available for LMT around 2024-01-29.\n"
     ]
    },
    {
     "name": "stderr",
     "output_type": "stream",
     "text": [
      "$CSX: possibly delisted; no price data found  (1d 2023-12-30 -> 2024-01-29)\n"
     ]
    },
    {
     "name": "stdout",
     "output_type": "stream",
     "text": [
      "Error fetching data for CSX: No historical data available for CSX around 2024-01-29.\n"
     ]
    },
    {
     "name": "stderr",
     "output_type": "stream",
     "text": [
      "$CYD: possibly delisted; no price data found  (1d 2023-12-30 -> 2024-01-29)\n"
     ]
    },
    {
     "name": "stdout",
     "output_type": "stream",
     "text": [
      "Error fetching data for CYD: No historical data available for CYD around 2024-01-29.\n"
     ]
    },
    {
     "name": "stderr",
     "output_type": "stream",
     "text": [
      "$WSFS: possibly delisted; no price data found  (1d 2023-12-30 -> 2024-01-29)\n"
     ]
    },
    {
     "name": "stdout",
     "output_type": "stream",
     "text": [
      "Error fetching data for WSFS: No historical data available for WSFS around 2024-01-29.\n"
     ]
    },
    {
     "name": "stderr",
     "output_type": "stream",
     "text": [
      "$PEB: possibly delisted; no price data found  (1d 2023-12-30 -> 2024-01-29)\n"
     ]
    },
    {
     "name": "stdout",
     "output_type": "stream",
     "text": [
      "Error fetching data for PEB: No historical data available for PEB around 2024-01-29.\n"
     ]
    },
    {
     "name": "stderr",
     "output_type": "stream",
     "text": [
      "$ALGT: possibly delisted; no price data found  (1d 2023-12-30 -> 2024-01-29)\n"
     ]
    },
    {
     "name": "stdout",
     "output_type": "stream",
     "text": [
      "Error fetching data for ALGT: No historical data available for ALGT around 2024-01-29.\n"
     ]
    },
    {
     "name": "stderr",
     "output_type": "stream",
     "text": [
      "$HLX: possibly delisted; no price data found  (1d 2023-12-30 -> 2024-01-29)\n"
     ]
    },
    {
     "name": "stdout",
     "output_type": "stream",
     "text": [
      "Error fetching data for HLX: No historical data available for HLX around 2024-01-29.\n"
     ]
    },
    {
     "name": "stderr",
     "output_type": "stream",
     "text": [
      "$KKR: possibly delisted; no price data found  (1d 2023-12-30 -> 2024-01-29)\n"
     ]
    },
    {
     "name": "stdout",
     "output_type": "stream",
     "text": [
      "Error fetching data for KKR: No historical data available for KKR around 2024-01-29.\n"
     ]
    },
    {
     "name": "stderr",
     "output_type": "stream",
     "text": [
      "$PEP: possibly delisted; no price data found  (1d 2023-12-30 -> 2024-01-29)\n"
     ]
    },
    {
     "name": "stdout",
     "output_type": "stream",
     "text": [
      "Error fetching data for PEP: No historical data available for PEP around 2024-01-29.\n"
     ]
    },
    {
     "name": "stderr",
     "output_type": "stream",
     "text": [
      "$CMG: possibly delisted; no price data found  (1d 2023-12-30 -> 2024-01-29)\n"
     ]
    },
    {
     "name": "stdout",
     "output_type": "stream",
     "text": [
      "Error fetching data for CMG: No historical data available for CMG around 2024-01-29.\n"
     ]
    },
    {
     "name": "stderr",
     "output_type": "stream",
     "text": [
      "$T: possibly delisted; no price data found  (1d 2023-12-30 -> 2024-01-29)\n"
     ]
    },
    {
     "name": "stdout",
     "output_type": "stream",
     "text": [
      "Error fetching data for T: No historical data available for T around 2024-01-29.\n"
     ]
    },
    {
     "name": "stderr",
     "output_type": "stream",
     "text": [
      "$AMH: possibly delisted; no price data found  (1d 2023-12-30 -> 2024-01-29)\n"
     ]
    },
    {
     "name": "stdout",
     "output_type": "stream",
     "text": [
      "Error fetching data for AMH: No historical data available for AMH around 2024-01-29.\n"
     ]
    },
    {
     "name": "stderr",
     "output_type": "stream",
     "text": [
      "$MIDD: possibly delisted; no price data found  (1d 2023-12-30 -> 2024-01-29)\n"
     ]
    },
    {
     "name": "stdout",
     "output_type": "stream",
     "text": [
      "Error fetching data for MIDD: No historical data available for MIDD around 2024-01-29.\n"
     ]
    },
    {
     "name": "stderr",
     "output_type": "stream",
     "text": [
      "$SWI: possibly delisted; no price data found  (1d 2023-12-30 -> 2024-01-29)\n"
     ]
    },
    {
     "name": "stdout",
     "output_type": "stream",
     "text": [
      "Error fetching data for SWI: No historical data available for SWI around 2024-01-29.\n"
     ]
    },
    {
     "name": "stderr",
     "output_type": "stream",
     "text": [
      "$HIX: possibly delisted; no price data found  (1d 2023-12-30 -> 2024-01-29)\n"
     ]
    },
    {
     "name": "stdout",
     "output_type": "stream",
     "text": [
      "Error fetching data for HIX: No historical data available for HIX around 2024-01-29.\n"
     ]
    },
    {
     "name": "stderr",
     "output_type": "stream",
     "text": [
      "$TMUS: possibly delisted; no price data found  (1d 2023-12-30 -> 2024-01-29)\n"
     ]
    },
    {
     "name": "stdout",
     "output_type": "stream",
     "text": [
      "Error fetching data for TMUS: No historical data available for TMUS around 2024-01-29.\n"
     ]
    },
    {
     "name": "stderr",
     "output_type": "stream",
     "text": [
      "$STZ: possibly delisted; no price data found  (1d 2023-12-30 -> 2024-01-29)\n"
     ]
    },
    {
     "name": "stdout",
     "output_type": "stream",
     "text": [
      "Error fetching data for STZ: No historical data available for STZ around 2024-01-29.\n"
     ]
    },
    {
     "name": "stderr",
     "output_type": "stream",
     "text": [
      "$PFN: possibly delisted; no price data found  (1d 2023-12-30 -> 2024-01-29)\n"
     ]
    },
    {
     "name": "stdout",
     "output_type": "stream",
     "text": [
      "Error fetching data for PFN: No historical data available for PFN around 2024-01-29.\n"
     ]
    },
    {
     "name": "stderr",
     "output_type": "stream",
     "text": [
      "$SFL: possibly delisted; no price data found  (1d 2023-12-30 -> 2024-01-29)\n"
     ]
    },
    {
     "name": "stdout",
     "output_type": "stream",
     "text": [
      "Error fetching data for SFL: No historical data available for SFL around 2024-01-29.\n"
     ]
    },
    {
     "name": "stderr",
     "output_type": "stream",
     "text": [
      "$BNY: possibly delisted; no price data found  (1d 2023-12-30 -> 2024-01-29)\n"
     ]
    },
    {
     "name": "stdout",
     "output_type": "stream",
     "text": [
      "Error fetching data for BNY: No historical data available for BNY around 2024-01-29.\n"
     ]
    },
    {
     "name": "stderr",
     "output_type": "stream",
     "text": [
      "$HUN: possibly delisted; no price data found  (1d 2023-12-30 -> 2024-01-29)\n"
     ]
    },
    {
     "name": "stdout",
     "output_type": "stream",
     "text": [
      "Error fetching data for HUN: No historical data available for HUN around 2024-01-29.\n"
     ]
    },
    {
     "name": "stderr",
     "output_type": "stream",
     "text": [
      "$POOL: possibly delisted; no price data found  (1d 2023-12-30 -> 2024-01-29)\n"
     ]
    },
    {
     "name": "stdout",
     "output_type": "stream",
     "text": [
      "Error fetching data for POOL: No historical data available for POOL around 2024-01-29.\n"
     ]
    },
    {
     "name": "stderr",
     "output_type": "stream",
     "text": [
      "$KNDI: possibly delisted; no price data found  (1d 2023-12-30 -> 2024-01-29)\n"
     ]
    },
    {
     "name": "stdout",
     "output_type": "stream",
     "text": [
      "Error fetching data for KNDI: No historical data available for KNDI around 2024-01-29.\n"
     ]
    },
    {
     "name": "stderr",
     "output_type": "stream",
     "text": [
      "$AMRC: possibly delisted; no price data found  (1d 2023-12-30 -> 2024-01-29)\n"
     ]
    },
    {
     "name": "stdout",
     "output_type": "stream",
     "text": [
      "Error fetching data for AMRC: No historical data available for AMRC around 2024-01-29.\n"
     ]
    },
    {
     "name": "stderr",
     "output_type": "stream",
     "text": [
      "$KYN: possibly delisted; no price data found  (1d 2023-12-30 -> 2024-01-29)\n"
     ]
    },
    {
     "name": "stdout",
     "output_type": "stream",
     "text": [
      "Error fetching data for KYN: No historical data available for KYN around 2024-01-29.\n"
     ]
    },
    {
     "name": "stderr",
     "output_type": "stream",
     "text": [
      "$HOVNP: possibly delisted; no price data found  (1d 2023-12-30 -> 2024-01-29)\n"
     ]
    },
    {
     "name": "stdout",
     "output_type": "stream",
     "text": [
      "Error fetching data for HOVNP: No historical data available for HOVNP around 2024-01-29.\n"
     ]
    },
    {
     "name": "stderr",
     "output_type": "stream",
     "text": [
      "$ALEX: possibly delisted; no price data found  (1d 2023-12-30 -> 2024-01-29)\n"
     ]
    },
    {
     "name": "stdout",
     "output_type": "stream",
     "text": [
      "Error fetching data for ALEX: No historical data available for ALEX around 2024-01-29.\n"
     ]
    },
    {
     "name": "stderr",
     "output_type": "stream",
     "text": [
      "$FLXS: possibly delisted; no price data found  (1d 2023-12-30 -> 2024-01-29)\n"
     ]
    },
    {
     "name": "stdout",
     "output_type": "stream",
     "text": [
      "Error fetching data for FLXS: No historical data available for FLXS around 2024-01-29.\n"
     ]
    },
    {
     "name": "stderr",
     "output_type": "stream",
     "text": [
      "$WLFC: possibly delisted; no price data found  (1d 2023-12-30 -> 2024-01-29)\n"
     ]
    },
    {
     "name": "stdout",
     "output_type": "stream",
     "text": [
      "Error fetching data for WLFC: No historical data available for WLFC around 2024-01-29.\n"
     ]
    },
    {
     "name": "stderr",
     "output_type": "stream",
     "text": [
      "$LEG: possibly delisted; no price data found  (1d 2023-12-30 -> 2024-01-29)\n"
     ]
    },
    {
     "name": "stdout",
     "output_type": "stream",
     "text": [
      "Error fetching data for LEG: No historical data available for LEG around 2024-01-29.\n"
     ]
    },
    {
     "name": "stderr",
     "output_type": "stream",
     "text": [
      "$PNW: possibly delisted; no price data found  (1d 2023-12-30 -> 2024-01-29)\n"
     ]
    },
    {
     "name": "stdout",
     "output_type": "stream",
     "text": [
      "Error fetching data for PNW: No historical data available for PNW around 2024-01-29.\n"
     ]
    },
    {
     "name": "stderr",
     "output_type": "stream",
     "text": [
      "$HBNC: possibly delisted; no price data found  (1d 2023-12-30 -> 2024-01-29)\n"
     ]
    },
    {
     "name": "stdout",
     "output_type": "stream",
     "text": [
      "Error fetching data for HBNC: No historical data available for HBNC around 2024-01-29.\n"
     ]
    },
    {
     "name": "stderr",
     "output_type": "stream",
     "text": [
      "$AXGN: possibly delisted; no price data found  (1d 2023-12-30 -> 2024-01-29)\n"
     ]
    },
    {
     "name": "stdout",
     "output_type": "stream",
     "text": [
      "Error fetching data for AXGN: No historical data available for AXGN around 2024-01-29.\n"
     ]
    },
    {
     "name": "stderr",
     "output_type": "stream",
     "text": [
      "$FI: possibly delisted; no price data found  (1d 2023-12-30 -> 2024-01-29)\n"
     ]
    },
    {
     "name": "stdout",
     "output_type": "stream",
     "text": [
      "Error fetching data for FI: No historical data available for FI around 2024-01-29.\n"
     ]
    },
    {
     "name": "stderr",
     "output_type": "stream",
     "text": [
      "$PAA: possibly delisted; no price data found  (1d 2023-12-30 -> 2024-01-29)\n",
      "$AEF: possibly delisted; no price data found  (1d 2023-12-30 -> 2024-01-29)\n"
     ]
    },
    {
     "name": "stdout",
     "output_type": "stream",
     "text": [
      "Error fetching data for PAA: No historical data available for PAA around 2024-01-29.\n",
      "Error fetching data for AEF: No historical data available for AEF around 2024-01-29.\n"
     ]
    },
    {
     "name": "stderr",
     "output_type": "stream",
     "text": [
      "$PWR: possibly delisted; no price data found  (1d 2023-12-30 -> 2024-01-29)\n"
     ]
    },
    {
     "name": "stdout",
     "output_type": "stream",
     "text": [
      "Error fetching data for PWR: No historical data available for PWR around 2024-01-29.\n"
     ]
    },
    {
     "name": "stderr",
     "output_type": "stream",
     "text": [
      "$CNQ: possibly delisted; no price data found  (1d 2023-12-30 -> 2024-01-29)\n"
     ]
    },
    {
     "name": "stdout",
     "output_type": "stream",
     "text": [
      "Error fetching data for CNQ: No historical data available for CNQ around 2024-01-29.\n"
     ]
    },
    {
     "name": "stderr",
     "output_type": "stream",
     "text": [
      "$THR: possibly delisted; no price data found  (1d 2023-12-30 -> 2024-01-29)\n"
     ]
    },
    {
     "name": "stdout",
     "output_type": "stream",
     "text": [
      "Error fetching data for THR: No historical data available for THR around 2024-01-29.\n"
     ]
    },
    {
     "name": "stderr",
     "output_type": "stream",
     "text": [
      "$GSBC: possibly delisted; no price data found  (1d 2023-12-30 -> 2024-01-29)\n"
     ]
    },
    {
     "name": "stdout",
     "output_type": "stream",
     "text": [
      "Error fetching data for GSBC: No historical data available for GSBC around 2024-01-29.\n"
     ]
    },
    {
     "name": "stderr",
     "output_type": "stream",
     "text": [
      "$PM: possibly delisted; no price data found  (1d 2023-12-30 -> 2024-01-29)\n"
     ]
    },
    {
     "name": "stdout",
     "output_type": "stream",
     "text": [
      "Error fetching data for PM: No historical data available for PM around 2024-01-29.\n"
     ]
    },
    {
     "name": "stderr",
     "output_type": "stream",
     "text": [
      "$BXP: possibly delisted; no price data found  (1d 2023-12-30 -> 2024-01-29)\n"
     ]
    },
    {
     "name": "stdout",
     "output_type": "stream",
     "text": [
      "Error fetching data for BXP: No historical data available for BXP around 2024-01-29.\n"
     ]
    },
    {
     "name": "stderr",
     "output_type": "stream",
     "text": [
      "$FFIV: possibly delisted; no price data found  (1d 2023-12-30 -> 2024-01-29)\n"
     ]
    },
    {
     "name": "stdout",
     "output_type": "stream",
     "text": [
      "Error fetching data for FFIV: No historical data available for FFIV around 2024-01-29.\n"
     ]
    },
    {
     "name": "stderr",
     "output_type": "stream",
     "text": [
      "$GES: possibly delisted; no price data found  (1d 2023-12-30 -> 2024-01-29)\n"
     ]
    },
    {
     "name": "stdout",
     "output_type": "stream",
     "text": [
      "Error fetching data for GES: No historical data available for GES around 2024-01-29.\n"
     ]
    },
    {
     "name": "stderr",
     "output_type": "stream",
     "text": [
      "$JNPR: possibly delisted; no price data found  (1d 2023-12-30 -> 2024-01-29)\n"
     ]
    },
    {
     "name": "stdout",
     "output_type": "stream",
     "text": [
      "Error fetching data for JNPR: No historical data available for JNPR around 2024-01-29.\n"
     ]
    },
    {
     "name": "stderr",
     "output_type": "stream",
     "text": [
      "$BRFS: possibly delisted; no price data found  (1d 2023-12-30 -> 2024-01-29)\n"
     ]
    },
    {
     "name": "stdout",
     "output_type": "stream",
     "text": [
      "Error fetching data for BRFS: No historical data available for BRFS around 2024-01-29.\n"
     ]
    },
    {
     "name": "stderr",
     "output_type": "stream",
     "text": [
      "$FNLC: possibly delisted; no price data found  (1d 2023-12-30 -> 2024-01-29)\n"
     ]
    },
    {
     "name": "stdout",
     "output_type": "stream",
     "text": [
      "Error fetching data for FNLC: No historical data available for FNLC around 2024-01-29.\n"
     ]
    },
    {
     "name": "stderr",
     "output_type": "stream",
     "text": [
      "$BYD: possibly delisted; no price data found  (1d 2023-12-30 -> 2024-01-29)\n"
     ]
    },
    {
     "name": "stdout",
     "output_type": "stream",
     "text": [
      "Error fetching data for BYD: No historical data available for BYD around 2024-01-29.\n"
     ]
    },
    {
     "name": "stderr",
     "output_type": "stream",
     "text": [
      "$MANH: possibly delisted; no price data found  (1d 2023-12-30 -> 2024-01-29)\n"
     ]
    },
    {
     "name": "stdout",
     "output_type": "stream",
     "text": [
      "Error fetching data for MANH: No historical data available for MANH around 2024-01-29.\n"
     ]
    },
    {
     "name": "stderr",
     "output_type": "stream",
     "text": [
      "$CRVL: possibly delisted; no price data found  (1d 2023-12-30 -> 2024-01-29)\n"
     ]
    },
    {
     "name": "stdout",
     "output_type": "stream",
     "text": [
      "Error fetching data for CRVL: No historical data available for CRVL around 2024-01-29.\n"
     ]
    },
    {
     "name": "stderr",
     "output_type": "stream",
     "text": [
      "$CTBI: possibly delisted; no price data found  (1d 2023-12-30 -> 2024-01-29)\n"
     ]
    },
    {
     "name": "stdout",
     "output_type": "stream",
     "text": [
      "Error fetching data for CTBI: No historical data available for CTBI around 2024-01-29.\n"
     ]
    },
    {
     "name": "stderr",
     "output_type": "stream",
     "text": [
      "$NEM: possibly delisted; no price data found  (1d 2023-12-30 -> 2024-01-29)\n"
     ]
    },
    {
     "name": "stdout",
     "output_type": "stream",
     "text": [
      "Error fetching data for NEM: No historical data available for NEM around 2024-01-29.\n"
     ]
    },
    {
     "name": "stderr",
     "output_type": "stream",
     "text": [
      "$CIEN: possibly delisted; no price data found  (1d 2023-12-30 -> 2024-01-29)\n"
     ]
    },
    {
     "name": "stdout",
     "output_type": "stream",
     "text": [
      "Error fetching data for CIEN: No historical data available for CIEN around 2024-01-29.\n"
     ]
    },
    {
     "name": "stderr",
     "output_type": "stream",
     "text": [
      "$CSIQ: possibly delisted; no price data found  (1d 2023-12-30 -> 2024-01-29)\n"
     ]
    },
    {
     "name": "stdout",
     "output_type": "stream",
     "text": [
      "Error fetching data for CSIQ: No historical data available for CSIQ around 2024-01-29.\n"
     ]
    },
    {
     "name": "stderr",
     "output_type": "stream",
     "text": [
      "$CBU: possibly delisted; no price data found  (1d 2023-12-30 -> 2024-01-29)\n"
     ]
    },
    {
     "name": "stdout",
     "output_type": "stream",
     "text": [
      "Error fetching data for CBU: No historical data available for CBU around 2024-01-29.\n"
     ]
    },
    {
     "name": "stderr",
     "output_type": "stream",
     "text": [
      "$LBTYK: possibly delisted; no price data found  (1d 2023-12-30 -> 2024-01-29)\n"
     ]
    },
    {
     "name": "stdout",
     "output_type": "stream",
     "text": [
      "Error fetching data for LBTYK: No historical data available for LBTYK around 2024-01-29.\n"
     ]
    },
    {
     "name": "stderr",
     "output_type": "stream",
     "text": [
      "$AUDC: possibly delisted; no price data found  (1d 2023-12-30 -> 2024-01-29)\n"
     ]
    },
    {
     "name": "stdout",
     "output_type": "stream",
     "text": [
      "Error fetching data for AUDC: No historical data available for AUDC around 2024-01-29.\n"
     ]
    },
    {
     "name": "stderr",
     "output_type": "stream",
     "text": [
      "$ADC: possibly delisted; no price data found  (1d 2023-12-30 -> 2024-01-29)\n"
     ]
    },
    {
     "name": "stdout",
     "output_type": "stream",
     "text": [
      "Error fetching data for ADC: No historical data available for ADC around 2024-01-29.\n"
     ]
    },
    {
     "name": "stderr",
     "output_type": "stream",
     "text": [
      "$HRB: possibly delisted; no price data found  (1d 2023-12-30 -> 2024-01-29)\n"
     ]
    },
    {
     "name": "stdout",
     "output_type": "stream",
     "text": [
      "Error fetching data for HRB: No historical data available for HRB around 2024-01-29.\n"
     ]
    },
    {
     "name": "stderr",
     "output_type": "stream",
     "text": [
      "$PKBK: possibly delisted; no price data found  (1d 2023-12-30 -> 2024-01-29)\n"
     ]
    },
    {
     "name": "stdout",
     "output_type": "stream",
     "text": [
      "Error fetching data for PKBK: No historical data available for PKBK around 2024-01-29.\n"
     ]
    },
    {
     "name": "stderr",
     "output_type": "stream",
     "text": [
      "$PKX: possibly delisted; no price data found  (1d 2023-12-30 -> 2024-01-29)\n"
     ]
    },
    {
     "name": "stdout",
     "output_type": "stream",
     "text": [
      "Error fetching data for PKX: No historical data available for PKX around 2024-01-29.\n"
     ]
    },
    {
     "name": "stderr",
     "output_type": "stream",
     "text": [
      "$CAT: possibly delisted; no price data found  (1d 2023-12-30 -> 2024-01-29)\n"
     ]
    },
    {
     "name": "stdout",
     "output_type": "stream",
     "text": [
      "Error fetching data for CAT: No historical data available for CAT around 2024-01-29.\n"
     ]
    },
    {
     "name": "stderr",
     "output_type": "stream",
     "text": [
      "$FUN: possibly delisted; no price data found  (1d 2023-12-30 -> 2024-01-29)\n"
     ]
    },
    {
     "name": "stdout",
     "output_type": "stream",
     "text": [
      "Error fetching data for FUN: No historical data available for FUN around 2024-01-29.\n"
     ]
    },
    {
     "name": "stderr",
     "output_type": "stream",
     "text": [
      "$KMT: possibly delisted; no price data found  (1d 2023-12-30 -> 2024-01-29)\n"
     ]
    },
    {
     "name": "stdout",
     "output_type": "stream",
     "text": [
      "Error fetching data for KMT: No historical data available for KMT around 2024-01-29.\n"
     ]
    },
    {
     "name": "stderr",
     "output_type": "stream",
     "text": [
      "$KO: possibly delisted; no price data found  (1d 2023-12-30 -> 2024-01-29)\n"
     ]
    },
    {
     "name": "stdout",
     "output_type": "stream",
     "text": [
      "Error fetching data for KO: No historical data available for KO around 2024-01-29.\n"
     ]
    },
    {
     "name": "stderr",
     "output_type": "stream",
     "text": [
      "$ACP: possibly delisted; no price data found  (1d 2023-12-30 -> 2024-01-29)\n"
     ]
    },
    {
     "name": "stdout",
     "output_type": "stream",
     "text": [
      "Error fetching data for ACP: No historical data available for ACP around 2024-01-29.\n"
     ]
    },
    {
     "name": "stderr",
     "output_type": "stream",
     "text": [
      "$SMBC: possibly delisted; no price data found  (1d 2023-12-30 -> 2024-01-29)\n"
     ]
    },
    {
     "name": "stdout",
     "output_type": "stream",
     "text": [
      "Error fetching data for SMBC: No historical data available for SMBC around 2024-01-29.\n"
     ]
    },
    {
     "name": "stderr",
     "output_type": "stream",
     "text": [
      "$PLD: possibly delisted; no price data found  (1d 2023-12-30 -> 2024-01-29)\n"
     ]
    },
    {
     "name": "stdout",
     "output_type": "stream",
     "text": [
      "Error fetching data for PLD: No historical data available for PLD around 2024-01-29.\n"
     ]
    },
    {
     "name": "stderr",
     "output_type": "stream",
     "text": [
      "Failed to get ticker 'DOV' reason: Expecting value: line 1 column 1 (char 0)\n",
      "$DOV: possibly delisted; no timezone found\n"
     ]
    },
    {
     "name": "stdout",
     "output_type": "stream",
     "text": [
      "Error fetching data for DOV: No historical data available for DOV around 2024-01-29.\n"
     ]
    },
    {
     "name": "stderr",
     "output_type": "stream",
     "text": [
      "$DSM: possibly delisted; no price data found  (1d 2023-12-30 -> 2024-01-29)\n"
     ]
    },
    {
     "name": "stdout",
     "output_type": "stream",
     "text": [
      "Error fetching data for DSM: No historical data available for DSM around 2024-01-29.\n"
     ]
    },
    {
     "name": "stderr",
     "output_type": "stream",
     "text": [
      "$HTD: possibly delisted; no price data found  (1d 2023-12-30 -> 2024-01-29)\n"
     ]
    },
    {
     "name": "stdout",
     "output_type": "stream",
     "text": [
      "Error fetching data for HTD: No historical data available for HTD around 2024-01-29.\n"
     ]
    },
    {
     "name": "stderr",
     "output_type": "stream",
     "text": [
      "$ADP: possibly delisted; no price data found  (1d 2023-12-30 -> 2024-01-29)\n"
     ]
    },
    {
     "name": "stdout",
     "output_type": "stream",
     "text": [
      "Error fetching data for ADP: No historical data available for ADP around 2024-01-29.\n"
     ]
    },
    {
     "name": "stderr",
     "output_type": "stream",
     "text": [
      "$LYV: possibly delisted; no price data found  (1d 2023-12-30 -> 2024-01-29)\n"
     ]
    },
    {
     "name": "stdout",
     "output_type": "stream",
     "text": [
      "Error fetching data for LYV: No historical data available for LYV around 2024-01-29.\n"
     ]
    },
    {
     "name": "stderr",
     "output_type": "stream",
     "text": [
      "$ACRE: possibly delisted; no price data found  (1d 2023-12-30 -> 2024-01-29)\n"
     ]
    },
    {
     "name": "stdout",
     "output_type": "stream",
     "text": [
      "Error fetching data for ACRE: No historical data available for ACRE around 2024-01-29.\n"
     ]
    },
    {
     "name": "stderr",
     "output_type": "stream",
     "text": [
      "$PFBX: possibly delisted; no price data found  (1d 2023-12-30 -> 2024-01-29)\n"
     ]
    },
    {
     "name": "stdout",
     "output_type": "stream",
     "text": [
      "Error fetching data for PFBX: No historical data available for PFBX around 2024-01-29.\n"
     ]
    },
    {
     "name": "stderr",
     "output_type": "stream",
     "text": [
      "$GBLI: possibly delisted; no price data found  (1d 2023-12-30 -> 2024-01-29)\n"
     ]
    },
    {
     "name": "stdout",
     "output_type": "stream",
     "text": [
      "Error fetching data for GBLI: No historical data available for GBLI around 2024-01-29.\n"
     ]
    },
    {
     "name": "stderr",
     "output_type": "stream",
     "text": [
      "$FCNCA: possibly delisted; no price data found  (1d 2023-12-30 -> 2024-01-29)\n"
     ]
    },
    {
     "name": "stdout",
     "output_type": "stream",
     "text": [
      "Error fetching data for FCNCA: No historical data available for FCNCA around 2024-01-29.\n"
     ]
    },
    {
     "name": "stderr",
     "output_type": "stream",
     "text": [
      "$TGI: possibly delisted; no price data found  (1d 2023-12-30 -> 2024-01-29)\n"
     ]
    },
    {
     "name": "stdout",
     "output_type": "stream",
     "text": [
      "Error fetching data for TGI: No historical data available for TGI around 2024-01-29.\n"
     ]
    },
    {
     "name": "stderr",
     "output_type": "stream",
     "text": [
      "$LXU: possibly delisted; no price data found  (1d 2023-12-30 -> 2024-01-29)\n"
     ]
    },
    {
     "name": "stdout",
     "output_type": "stream",
     "text": [
      "Error fetching data for LXU: No historical data available for LXU around 2024-01-29.\n"
     ]
    },
    {
     "name": "stderr",
     "output_type": "stream",
     "text": [
      "$OXLCO: possibly delisted; no price data found  (1d 2023-12-30 -> 2024-01-29)\n"
     ]
    },
    {
     "name": "stdout",
     "output_type": "stream",
     "text": [
      "Error fetching data for OXLCO: No historical data available for OXLCO around 2024-01-29.\n"
     ]
    },
    {
     "name": "stderr",
     "output_type": "stream",
     "text": [
      "$FCF: possibly delisted; no price data found  (1d 2023-12-30 -> 2024-01-29)\n"
     ]
    },
    {
     "name": "stdout",
     "output_type": "stream",
     "text": [
      "Error fetching data for FCF: No historical data available for FCF around 2024-01-29.\n"
     ]
    },
    {
     "name": "stderr",
     "output_type": "stream",
     "text": [
      "$CAE: possibly delisted; no price data found  (1d 2023-12-30 -> 2024-01-29)\n"
     ]
    },
    {
     "name": "stdout",
     "output_type": "stream",
     "text": [
      "Error fetching data for CAE: No historical data available for CAE around 2024-01-29.\n"
     ]
    },
    {
     "name": "stderr",
     "output_type": "stream",
     "text": [
      "$MGPI: possibly delisted; no price data found  (1d 2023-12-30 -> 2024-01-29)\n"
     ]
    },
    {
     "name": "stdout",
     "output_type": "stream",
     "text": [
      "Error fetching data for MGPI: No historical data available for MGPI around 2024-01-29.\n"
     ]
    },
    {
     "name": "stderr",
     "output_type": "stream",
     "text": [
      "$HCP: possibly delisted; no price data found  (1d 2023-12-30 -> 2024-01-29)\n"
     ]
    },
    {
     "name": "stdout",
     "output_type": "stream",
     "text": [
      "Error fetching data for HCP: No historical data available for HCP around 2024-01-29.\n"
     ]
    },
    {
     "name": "stderr",
     "output_type": "stream",
     "text": [
      "$NOK: possibly delisted; no price data found  (1d 2023-12-30 -> 2024-01-29)\n"
     ]
    },
    {
     "name": "stdout",
     "output_type": "stream",
     "text": [
      "Error fetching data for NOK: No historical data available for NOK around 2024-01-29.\n"
     ]
    },
    {
     "name": "stderr",
     "output_type": "stream",
     "text": [
      "$BCC: possibly delisted; no price data found  (1d 2023-12-30 -> 2024-01-29)\n"
     ]
    },
    {
     "name": "stdout",
     "output_type": "stream",
     "text": [
      "Error fetching data for BCC: No historical data available for BCC around 2024-01-29.\n"
     ]
    },
    {
     "name": "stderr",
     "output_type": "stream",
     "text": [
      "$AXR: possibly delisted; no price data found  (1d 2023-12-30 -> 2024-01-29)\n"
     ]
    },
    {
     "name": "stdout",
     "output_type": "stream",
     "text": [
      "Error fetching data for AXR: No historical data available for AXR around 2024-01-29.\n"
     ]
    },
    {
     "name": "stderr",
     "output_type": "stream",
     "text": [
      "$GWW: possibly delisted; no price data found  (1d 2023-12-30 -> 2024-01-29)\n"
     ]
    },
    {
     "name": "stdout",
     "output_type": "stream",
     "text": [
      "Error fetching data for GWW: No historical data available for GWW around 2024-01-29.\n"
     ]
    },
    {
     "name": "stderr",
     "output_type": "stream",
     "text": [
      "$TK: possibly delisted; no price data found  (1d 2023-12-30 -> 2024-01-29)\n"
     ]
    },
    {
     "name": "stdout",
     "output_type": "stream",
     "text": [
      "Error fetching data for TK: No historical data available for TK around 2024-01-29.\n"
     ]
    },
    {
     "name": "stderr",
     "output_type": "stream",
     "text": [
      "$BBSI: possibly delisted; no price data found  (1d 2023-12-30 -> 2024-01-29)\n"
     ]
    },
    {
     "name": "stdout",
     "output_type": "stream",
     "text": [
      "Error fetching data for BBSI: No historical data available for BBSI around 2024-01-29.\n"
     ]
    },
    {
     "name": "stderr",
     "output_type": "stream",
     "text": [
      "$BNS: possibly delisted; no price data found  (1d 2023-12-30 -> 2024-01-29)\n"
     ]
    },
    {
     "name": "stdout",
     "output_type": "stream",
     "text": [
      "Error fetching data for BNS: No historical data available for BNS around 2024-01-29.\n"
     ]
    },
    {
     "name": "stderr",
     "output_type": "stream",
     "text": [
      "$BGX: possibly delisted; no price data found  (1d 2023-12-30 -> 2024-01-29)\n"
     ]
    },
    {
     "name": "stdout",
     "output_type": "stream",
     "text": [
      "Error fetching data for BGX: No historical data available for BGX around 2024-01-29.\n"
     ]
    },
    {
     "name": "stderr",
     "output_type": "stream",
     "text": [
      "$HCA: possibly delisted; no price data found  (1d 2023-12-30 -> 2024-01-29)\n"
     ]
    },
    {
     "name": "stdout",
     "output_type": "stream",
     "text": [
      "Error fetching data for HCA: No historical data available for HCA around 2024-01-29.\n"
     ]
    },
    {
     "name": "stderr",
     "output_type": "stream",
     "text": [
      "$ALG: possibly delisted; no price data found  (1d 2023-12-30 -> 2024-01-29)\n"
     ]
    },
    {
     "name": "stdout",
     "output_type": "stream",
     "text": [
      "Error fetching data for ALG: No historical data available for ALG around 2024-01-29.\n"
     ]
    },
    {
     "name": "stderr",
     "output_type": "stream",
     "text": [
      "$STLD: possibly delisted; no price data found  (1d 2023-12-30 -> 2024-01-29)\n"
     ]
    },
    {
     "name": "stdout",
     "output_type": "stream",
     "text": [
      "Error fetching data for STLD: No historical data available for STLD around 2024-01-29.\n"
     ]
    },
    {
     "name": "stderr",
     "output_type": "stream",
     "text": [
      "$ARCC: possibly delisted; no price data found  (1d 2023-12-30 -> 2024-01-29)\n"
     ]
    },
    {
     "name": "stdout",
     "output_type": "stream",
     "text": [
      "Error fetching data for ARCC: No historical data available for ARCC around 2024-01-29.\n"
     ]
    },
    {
     "name": "stderr",
     "output_type": "stream",
     "text": [
      "$CHN: possibly delisted; no price data found  (1d 2023-12-30 -> 2024-01-29)\n"
     ]
    },
    {
     "name": "stdout",
     "output_type": "stream",
     "text": [
      "Error fetching data for CHN: No historical data available for CHN around 2024-01-29.\n"
     ]
    },
    {
     "name": "stderr",
     "output_type": "stream",
     "text": [
      "$PACB: possibly delisted; no price data found  (1d 2023-12-30 -> 2024-01-29)\n"
     ]
    },
    {
     "name": "stdout",
     "output_type": "stream",
     "text": [
      "Error fetching data for PACB: No historical data available for PACB around 2024-01-29.\n"
     ]
    },
    {
     "name": "stderr",
     "output_type": "stream",
     "text": [
      "$CHH: possibly delisted; no price data found  (1d 2023-12-30 -> 2024-01-29)\n"
     ]
    },
    {
     "name": "stdout",
     "output_type": "stream",
     "text": [
      "Error fetching data for CHH: No historical data available for CHH around 2024-01-29.\n"
     ]
    },
    {
     "name": "stderr",
     "output_type": "stream",
     "text": [
      "$JBT: possibly delisted; no price data found  (1d 2023-12-30 -> 2024-01-29)\n"
     ]
    },
    {
     "name": "stdout",
     "output_type": "stream",
     "text": [
      "Error fetching data for JBT: No historical data available for JBT around 2024-01-29.\n"
     ]
    },
    {
     "name": "stderr",
     "output_type": "stream",
     "text": [
      "Failed to get ticker 'CVE' reason: Expecting value: line 1 column 1 (char 0)\n",
      "$CVE: possibly delisted; no timezone found\n"
     ]
    },
    {
     "name": "stdout",
     "output_type": "stream",
     "text": [
      "Error fetching data for CVE: No historical data available for CVE around 2024-01-29.\n"
     ]
    },
    {
     "name": "stderr",
     "output_type": "stream",
     "text": [
      "$DGICB: possibly delisted; no price data found  (period=1d)\n"
     ]
    },
    {
     "name": "stdout",
     "output_type": "stream",
     "text": [
      "Error fetching data for DGICB: single positional indexer is out-of-bounds\n"
     ]
    },
    {
     "data": {
      "text/html": [
       "\n",
       "<style>\n",
       "    /* Turns off some styling */\n",
       "    progress {\n",
       "        /* gets rid of default border in Firefox and Opera. */\n",
       "        border: none;\n",
       "        /* Needs to be in here for Safari polyfill so background images work as expected. */\n",
       "        background-size: auto;\n",
       "    }\n",
       "    progress:not([value]), progress:not([value])::-webkit-progress-bar {\n",
       "        background: repeating-linear-gradient(45deg, #7e7e7e, #7e7e7e 10px, #5c5c5c 10px, #5c5c5c 20px);\n",
       "    }\n",
       "    .progress-bar-interrupted, .progress-bar-interrupted::-webkit-progress-bar {\n",
       "        background: #F44336;\n",
       "    }\n",
       "</style>\n"
      ],
      "text/plain": [
       "<IPython.core.display.HTML object>"
      ]
     },
     "metadata": {},
     "output_type": "display_data"
    },
    {
     "data": {
      "text/html": [],
      "text/plain": [
       "<IPython.core.display.HTML object>"
      ]
     },
     "metadata": {},
     "output_type": "display_data"
    },
    {
     "name": "stdout",
     "output_type": "stream",
     "text": [
      "Logged evaluation results to c:\\Users\\Gamer\\Documents\\GitHub\\VS-Code\\Side-Projects\\TrainedModels\\stockScreener\\modelEvaluations.csv\n"
     ]
    },
    {
     "data": {
      "image/png": "[encoded data removed]",
      "text/plain": [
       "<Figure size 1200x800 with 2 Axes>"
      ]
     },
     "metadata": {},
     "output_type": "display_data"
    },
    {
     "name": "stdout",
     "output_type": "stream",
     "text": [
      "Collected 250 valid test tickers (target: 250)\n",
      "\n",
      "Evaluation Results:\n",
      "MAE: 0.400\n",
      "RMSE: 1.232\n",
      "R²: -0.003\n"
     ]
    }
   ],
   "source": [
    "def logEvaluation(model_name, mae, rmse, r2, model_folder, test_tickers):\n",
    "    \"\"\"Log evaluation metrics to CSV file\"\"\"\n",
    "    log_file = model_folder / \"modelEvaluations.csv\"\n",
    "    \n",
    "    new_entry_df = pd.DataFrame([{\n",
    "        \"Model Name\": model_name,\n",
    "        \"Timestamp\": datetime.now().strftime('%Y-%m-%d %H:%M'),\n",
    "        \"MAE\": f'{mae:.3f}',\n",
    "        \"RMSE\": f'{rmse:.3f}',\n",
    "        \"R2\": f'{r2:.3f}',\n",
    "        \"Epochs\": epochs,\n",
    "        \"Training Size\": trainingSize,\n",
    "        \"Training Rows\": trainingRowAmount,\n",
    "        \"Test Size\": len(test_tickers),\n",
    "        \"Cat Names\": catNames,\n",
    "        \"Cont Names\": contNames,\n",
    "    }])\n",
    "    \n",
    "    try:\n",
    "        log_df = pd.read_csv(log_file)\n",
    "        log_df = pd.concat([log_df, new_entry_df], ignore_index=True)\n",
    "    except FileNotFoundError:\n",
    "        log_df = new_entry_df\n",
    "        \n",
    "    log_df.to_csv(log_file, index=False)\n",
    "    print(f\"Logged evaluation results to {log_file}\")\n",
    "\n",
    "def plotResults(results_df, model_name, model_folder):\n",
    "    \"\"\"Create and save visualization plots using all data points.\"\"\"\n",
    "    plt.figure(figsize=(12, 8))\n",
    "    \n",
    "    plt.subplot(2, 1, 1)\n",
    "    plt.scatter(results_df['Actual'], results_df['Predicted'], alpha=0.7, label='Predictions')\n",
    "    min_val = min(results_df['Actual'].min(), results_df['Predicted'].min())\n",
    "    max_val = max(results_df['Actual'].max(), results_df['Predicted'].max())\n",
    "    plt.plot([min_val, max_val], [min_val, max_val], color='red', linestyle='--', label='Perfect Prediction')\n",
    "    plt.title(f'Predicted vs. Actual Returns - {model_name}', fontsize=14)\n",
    "    plt.xlabel('Actual Returns')\n",
    "    plt.ylabel('Predicted Returns')\n",
    "    plt.legend()\n",
    "    plt.grid(alpha=0.5)\n",
    "    \n",
    "    plt.subplot(2, 1, 2)\n",
    "    plt.scatter(results_df['Predicted'], results_df['Residual'], alpha=0.7)\n",
    "    plt.axhline(y=0, color='r', linestyle='--')\n",
    "    plt.title('Residual Plot')\n",
    "    plt.xlabel('Predicted Returns')\n",
    "    plt.ylabel('Residual')\n",
    "    plt.grid(alpha=0.5)\n",
    "    \n",
    "    plt.tight_layout()\n",
    "    plt.show()\n",
    "\n",
    "if trainNewModel:\n",
    "    nonTrainingTickers = list(set(tickers) - set(trainingTickers))\n",
    "    validTestData = []\n",
    "    attempted_tickers = set()\n",
    "    attempts = 0\n",
    "\n",
    "    if testSize * 4 <= len(tickers):  \n",
    "        max_attempts = testSize * 4 # Prevent infinite loops\n",
    "    else:\n",
    "        max_attempts = len(tickers)\n",
    "\n",
    "    # Keep trying until we reach testSize or exhaust attempts\n",
    "    while len(validTestData) < testSize and attempts < max_attempts:\n",
    "        # Get a new ticker we haven't tried yet\n",
    "        remaining_tickers = [t for t in nonTrainingTickers if t not in attempted_tickers]\n",
    "        if not remaining_tickers:  # If all tried, reset attempted list\n",
    "            attempted_tickers = set()\n",
    "            remaining_tickers = nonTrainingTickers\n",
    "            \n",
    "        ticker = np.random.choice(remaining_tickers)\n",
    "        attempted_tickers.add(ticker)\n",
    "        attempts += 1\n",
    "\n",
    "        # Fetch and validate data\n",
    "        data = getTickerDataFrom1YrAgo(ticker)\n",
    "        if not data.empty and not data[['EV/EBIT', 'ROIC']].isna().any().any():\n",
    "            validTestData.append(data)\n",
    "\n",
    "    if not validTestData:\n",
    "        raise ValueError(\"No valid test data collected after multiple attempts\")\n",
    "        \n",
    "    # Trim to exact testSize if we collected more\n",
    "    validTestData = validTestData[:testSize]  \n",
    "    combinedTestData = pd.concat(validTestData, ignore_index=True)\n",
    "\n",
    "    # Clean data\n",
    "    test_data_clean = combinedTestData.dropna(subset=['EV/EBIT', 'ROIC', 'Future Year Change'])\n",
    "    \n",
    "    if test_data_clean.empty:\n",
    "        raise ValueError(\"No valid test data after cleaning NaN values\")\n",
    "\n",
    "    # Create test dataloader\n",
    "    test_dl = learn.dls.test_dl(test_data_clean)\n",
    "    preds, targs = learn.get_preds(dl=test_dl)\n",
    "    \n",
    "    # Create results DataFrame\n",
    "    results_df = pd.DataFrame({\n",
    "        'Predicted': preds.numpy().flatten(),\n",
    "        'Actual': targs.numpy().flatten()\n",
    "    })\n",
    "    results_df['Residual'] = results_df['Actual'] - results_df['Predicted']\n",
    "\n",
    "    # Calculate metrics\n",
    "    mae = np.mean(np.abs(results_df['Residual']))\n",
    "    rmse = np.sqrt(np.mean(results_df['Residual']**2))\n",
    "    r2 = 1 - (np.sum(results_df['Residual']**2) / np.sum((results_df['Actual'] - results_df['Actual'].mean())**2))\n",
    "\n",
    "    # Log and plot\n",
    "    logEvaluation(modelName, mae, rmse, r2, modelFolder, test_data_clean['Ticker'].unique())\n",
    "    plotResults(results_df, modelName, modelFolder)\n",
    "\n",
    "    # Show collection stats\n",
    "    print(f\"Collected {len(validTestData)} valid test tickers (target: {testSize})\")\n",
    "    if attempts >= max_attempts:\n",
    "        print(f\"Warning: Reached max attempts ({max_attempts}). Some invalid tickers may remain.\")  \n",
    "    print(f\"\\nEvaluation Results:\")\n",
    "    print(f\"MAE: {mae:.3f}\")\n",
    "    print(f\"RMSE: {rmse:.3f}\")\n",
    "    print(f\"R²: {r2:.3f}\")"
   ]
  },
  {
   "cell_type": "markdown",
   "metadata": {},
   "source": [
    "## Predictions"
   ]
  },
  {
   "cell_type": "code",
   "execution_count": null,
   "metadata": {},
   "outputs": [
    {
     "name": "stdout",
     "output_type": "stream",
     "text": [
      "Model files in modelFolder:\n",
      "stockScreenerV1.0.pkl\n",
      "stockScreenerV1.1.pkl\n",
      "stockScreenerV1.10.pkl\n",
      "stockScreenerV1.2.pkl\n",
      "stockScreenerV1.3.pkl\n",
      "stockScreenerV1.4.pkl\n",
      "stockScreenerV1.5.pkl\n",
      "stockScreenerV1.6.pkl\n",
      "stockScreenerV1.7.pkl\n",
      "stockScreenerV1.8.pkl\n",
      "stockScreenerV1.9.pkl\n",
      "stockScreenerV2.0.pkl\n",
      "stockScreenerV2.1.pkl\n",
      "stockScreenerV2.2.pkl\n"
     ]
    }
   ],
   "source": [
    "print('Model files in modelFolder:')\n",
    "for file in modelFolder.glob('*.pkl'):\n",
    "    print(file.name)"
   ]
  },
  {
   "cell_type": "code",
   "execution_count": null,
   "metadata": {},
   "outputs": [
    {
     "data": {
      "text/plain": [
       "Model Name    stockScreenerV1.7\n",
       "Timestamp      2025-01-27 08:45\n",
       "MAE                       0.328\n",
       "RMSE                      0.739\n",
       "R2                        0.077\n",
       "Name: 7, dtype: object"
      ]
     },
     "execution_count": 56,
     "metadata": {},
     "output_type": "execute_result"
    }
   ],
   "source": [
    "evaluations = pd.read_csv(modelFolder / 'modelEvaluations.csv')\n",
    "bestModel = evaluations.sort_values('MAE', ascending=True).iloc[0]\n",
    "bestModel.head()"
   ]
  },
  {
   "cell_type": "markdown",
   "metadata": {},
   "source": [
    "### Load model"
   ]
  },
  {
   "cell_type": "code",
   "execution_count": null,
   "metadata": {},
   "outputs": [],
   "source": [
    "if os.name == 'nt':\n",
    "    temp = pathlib.PosixPath\n",
    "    pathlib.PosixPath = pathlib.WindowsPath\n",
    "else:\n",
    "    pathlib.WindowsPath = pathlib.PosixPath\n",
    "\n",
    "importedModel = Path(f\"{bestModel['Model Name']}.pkl\") # Change this if you want to try other models\n",
    "learn = load_learner(modelFolder / importedModel)"
   ]
  },
  {
   "cell_type": "code",
   "execution_count": null,
   "metadata": {},
   "outputs": [],
   "source": [
    "#predictionTarget = '95%'"
   ]
  },
  {
   "cell_type": "code",
   "execution_count": null,
   "metadata": {},
   "outputs": [
    {
     "data": {
      "text/html": [
       "\n",
       "<style>\n",
       "    /* Turns off some styling */\n",
       "    progress {\n",
       "        /* gets rid of default border in Firefox and Opera. */\n",
       "        border: none;\n",
       "        /* Needs to be in here for Safari polyfill so background images work as expected. */\n",
       "        background-size: auto;\n",
       "    }\n",
       "    progress:not([value]), progress:not([value])::-webkit-progress-bar {\n",
       "        background: repeating-linear-gradient(45deg, #7e7e7e, #7e7e7e 10px, #5c5c5c 10px, #5c5c5c 20px);\n",
       "    }\n",
       "    .progress-bar-interrupted, .progress-bar-interrupted::-webkit-progress-bar {\n",
       "        background: #F44336;\n",
       "    }\n",
       "</style>\n"
      ],
      "text/plain": [
       "<IPython.core.display.HTML object>"
      ]
     },
     "metadata": {},
     "output_type": "display_data"
    },
    {
     "data": {
      "text/html": [],
      "text/plain": [
       "<IPython.core.display.HTML object>"
      ]
     },
     "metadata": {},
     "output_type": "display_data"
    },
    {
     "name": "stdout",
     "output_type": "stream",
     "text": [
      "Prediction for DRS (Unknown):\n",
      "0.99%\n",
      "Free money?!\n"
     ]
    }
   ],
   "source": [
    "if predictionTarget != 'None':\n",
    "    if predictionTarget == 'ALL':\n",
    "        predictionTickers = tickers\n",
    "    elif predictionTarget.endswith('%'):\n",
    "        percentage = float(predictionTarget.strip('%')) / 100\n",
    "        num_tickers = int(len(tickers) * percentage)\n",
    "        predictionTickers = np.random.choice(tickers, size=num_tickers, replace=False).tolist()\n",
    "    else:\n",
    "        predictionTickers = [predictionTarget]\n",
    "\n",
    "    # Fetch data for prediction tickers\n",
    "    dfPrediction = pd.concat([getTickerData(ticker) for ticker in predictionTickers], ignore_index=True)\n",
    "\n",
    "    # Ensure dfPrediction is a DataFrame\n",
    "    if isinstance(dfPrediction, dict):\n",
    "        dfPrediction = pd.DataFrame([dfPrediction])\n",
    "\n",
    "    # Drop rows with NaN values in 'EV/EBIT' or 'ROIC'\n",
    "    dfPrediction = dfPrediction.dropna(subset=['EV/EBIT', 'ROIC'])\n",
    "\n",
    "    # Create test dataloader\n",
    "    dl = learn.dls.test_dl(dfPrediction)\n",
    "    dfPrediction.head()\n",
    "\n",
    "    # Make predictions\n",
    "    prediction = learn.get_preds(dl=dl)\n",
    "    adr_df = pd.read_csv(testFolder / 'filteredTickers.csv')\n",
    "    company_dict = dict(zip(adr_df['Ticker'], adr_df['Company']))\n",
    "\n",
    "    if predictionTarget == 'ALL' or predictionTarget.endswith('%'):\n",
    "        sorted_predictions = sorted(zip(predictionTickers, prediction[0]), key=lambda x: x[1], reverse=True)\n",
    "        print(f\"Got predictions for {len(sorted_predictions)} tickers, expected: {len(predictionTickers)}\")\n",
    "        print(f\"Prediction for best performing tickers:\")\n",
    "        for symbol, pred in sorted_predictions:\n",
    "            company_name = company_dict.get(symbol, 'Unknown')\n",
    "            print(f\"{symbol} ({company_name}): {pred[0].item() * 100:.2f}%\")\n",
    "    else:\n",
    "        company_name = company_dict.get(predictionTarget, 'Unknown')\n",
    "        print(f\"Prediction for {predictionTarget} ({company_name}):\")\n",
    "        print(f\"{prediction[0][0][0].item() * 100:.2f}%\")\n",
    "    print(\"Free money?!\")"
   ]
  },
  {
   "cell_type": "code",
   "execution_count": null,
   "metadata": {},
   "outputs": [],
   "source": []
  }
 ],
 "metadata": {
  "kernelspec": {
   "display_name": "stockScreener",
   "language": "python",
   "name": "python3"
  },
  "language_info": {
   "codemirror_mode": {
    "name": "ipython",
    "version": 3
   },
   "file_extension": ".py",
   "mimetype": "text/x-python",
   "name": "python",
   "nbconvert_exporter": "python",
   "pygments_lexer": "ipython3",
   "version": "3.12.9"
  }
 },
 "nbformat": 4,
 "nbformat_minor": 2
}
