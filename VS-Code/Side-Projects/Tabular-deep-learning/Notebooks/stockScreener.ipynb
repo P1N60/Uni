{
 "cells": [
  {
   "cell_type": "markdown",
   "metadata": {},
   "source": [
    "## Stock Screener: Model Training and Evaluation"
   ]
  },
  {
   "cell_type": "markdown",
   "metadata": {},
   "source": [
    "### Library Installation (if needed)"
   ]
  },
  {
   "cell_type": "code",
   "execution_count": 37,
   "metadata": {},
   "outputs": [],
   "source": [
    "# Install libraries the first time\n",
    "# !pip install -q ipynb yfinance pandas pathlib numpy"
   ]
  },
  {
   "cell_type": "markdown",
   "metadata": {},
   "source": [
    "### Importing Required Libraries"
   ]
  },
  {
   "cell_type": "code",
   "execution_count": 38,
   "metadata": {},
   "outputs": [],
   "source": [
    "from fastai.tabular.all import *\n",
    "from fastai.tabular.all import TabularPandas\n",
    "import yfinance as yf\n",
    "import pandas as pd\n",
    "import pathlib\n",
    "from datetime import datetime, timedelta\n",
    "import numpy as np\n",
    "import matplotlib.pyplot as plt\n",
    "from fastai.metrics import rmse, mae\n",
    "import os"
   ]
  },
  {
   "cell_type": "markdown",
   "metadata": {},
   "source": [
    "### Global Variables"
   ]
  },
  {
   "cell_type": "code",
   "execution_count": 39,
   "metadata": {},
   "outputs": [],
   "source": [
    "# Model settings\n",
    "modelName = 'stockScreenerV8.3'\n",
    "trainingData = 'stockData.csv'\n",
    "getNewData = True \n",
    "trainNewModel = True\n",
    "predictionTarget = 'NVO'  # 'ALL' for all tickers, 'None' for no prediction\n",
    "\n",
    "# Training parameters\n",
    "trainingSize = 100  # Number of stocks to use for training\n",
    "timeFrame = 'max'   # Options: '1d', '5d', '1mo', '3mo', '6mo', '1y', '2y', '5y', '10y', 'ytd', 'max'\n",
    "yNames = ['Future Year Change']\n",
    "catNames = ['Date']\n",
    "contNames = ['Open', 'Close', 'Volume', 'Dividends', 'Stock Splits', 'EV/EBIT', 'ROIC']\n",
    "epochs = 75\n",
    "\n",
    "# Testing parameters\n",
    "testSize = 200  # Number of stocks to test, 'ALL' for all non-training stocks\n",
    "\n",
    "# Paths\n",
    "basePath = Path.cwd().parent\n",
    "dataFolder = basePath / 'TrainingData'\n",
    "modelFolder = basePath.parent / 'TrainedModels' / 'stockScreener'\n",
    "testFolder = basePath / 'TestData'"
   ]
  },
  {
   "cell_type": "markdown",
   "metadata": {},
   "source": [
    "## Data Preparation"
   ]
  },
  {
   "cell_type": "markdown",
   "metadata": {},
   "source": [
    "#### Remove Duplicate Tickers"
   ]
  },
  {
   "cell_type": "code",
   "execution_count": 40,
   "metadata": {},
   "outputs": [],
   "source": [
    "df = pd.read_csv(testFolder / 'tickers.csv')\n",
    "df.drop_duplicates().to_csv(testFolder / 'tickers.csv', index=False)"
   ]
  },
  {
   "cell_type": "markdown",
   "metadata": {},
   "source": [
    "#### Utility Functions"
   ]
  },
  {
   "cell_type": "code",
   "execution_count": 41,
   "metadata": {},
   "outputs": [],
   "source": [
    "def getIndustry(tickerSymbol):\n",
    "    \"\"\"Fetches the industry of the given ticker symbol.\"\"\"\n",
    "    try:\n",
    "        return yf.Ticker(tickerSymbol).info.get('industry', 'Unknown')\n",
    "    except Exception as e:\n",
    "        return 'Error'"
   ]
  },
  {
   "cell_type": "code",
   "execution_count": 42,
   "metadata": {},
   "outputs": [],
   "source": [
    "def calculateFutureYearChange(ticker_symbol, timeframe, buffer=1):\n",
    "    valid_periods = ['1d', '5d', '1mo', '3mo', '6mo', '1y', '2y', '5y', '10y', 'ytd', 'max']\n",
    "    try:\n",
    "        if timeframe == 'max':\n",
    "            future_change = yf.Ticker(ticker_symbol).history(period='max')\n",
    "            future_change['Future Year Change'] = (future_change['Close'].shift(-252) / future_change['Close'] - 1)\n",
    "            future_change = future_change.dropna(subset=['Future Year Change'])\n",
    "        else:\n",
    "            # Calculate the extended timeframe\n",
    "            extended_timeframe = valid_periods[min(valid_periods.index(timeframe) + buffer, len(valid_periods) - 1)]\n",
    "            future_change = yf.Ticker(ticker_symbol).history(period=extended_timeframe)\n",
    "            future_change['Future Year Change'] = (future_change['Close'].shift(-252) / future_change['Close'] - 1)\n",
    "\n",
    "            # Calculate the end date and start date based on the timeframe\n",
    "            end_date = future_change.index[-1] - pd.DateOffset(years=1)\n",
    "            start_date = end_date - pd.DateOffset(years=int(timeframe[:-1]))\n",
    "            future_change = future_change.loc[start_date:end_date].dropna(subset=['Future Year Change'])\n",
    "        return future_change\n",
    "    except Exception as e:\n",
    "        return pd.DataFrame()"
   ]
  },
  {
   "cell_type": "code",
   "execution_count": 43,
   "metadata": {},
   "outputs": [],
   "source": [
    "def getEVComponents(tickerSymbol):\n",
    "    \"\"\"Fetches static EV components (total debt, cash, shares outstanding).\"\"\"\n",
    "    try:\n",
    "        info = yf.Ticker(tickerSymbol).info\n",
    "        return info.get('totalDebt', 0), info.get('totalCash', 0), info.get('sharesOutstanding', None)\n",
    "    except Exception as e:\n",
    "        return None, None, None"
   ]
  },
  {
   "cell_type": "code",
   "execution_count": 44,
   "metadata": {},
   "outputs": [],
   "source": [
    "def calculateApproxEBIT(tickerSymbol):\n",
    "    try:\n",
    "        info = yf.Ticker(tickerSymbol).info\n",
    "        revenue = info.get('totalRevenue', None)\n",
    "        operatingIncome = info.get('operatingIncome', None)\n",
    "        ebit = operatingIncome if operatingIncome else (revenue * 0.15 if revenue else None)\n",
    "        return ebit if ebit and ebit != 0 else None  # Avoid zero division\n",
    "    except Exception as e:\n",
    "        return None"
   ]
  },
  {
   "cell_type": "code",
   "execution_count": 45,
   "metadata": {},
   "outputs": [],
   "source": [
    "def enrichDataWithMetrics(histData):\n",
    "    \"\"\"Adds EV/EBIT and ROIC to the historical data.\"\"\"\n",
    "    for ticker in histData['Ticker'].unique():\n",
    "        try:\n",
    "            totalDebt, cash, sharesOutstanding = getEVComponents(ticker)\n",
    "            ebit = calculateApproxEBIT(ticker)\n",
    "\n",
    "            if sharesOutstanding and ebit and ebit != 0:\n",
    "                histData.loc[histData['Ticker'] == ticker, 'EV/EBIT'] = (\n",
    "                    (histData['Close'] * sharesOutstanding + totalDebt - cash) / ebit\n",
    "                )\n",
    "\n",
    "                taxRate = 0.21\n",
    "                nopat = ebit * (1 - taxRate)\n",
    "                investedCapital = totalDebt + (histData['Close'] * sharesOutstanding) - cash\n",
    "                histData.loc[histData['Ticker'] == ticker, 'ROIC'] = nopat / investedCapital\n",
    "        except Exception as e:\n",
    "            pass\n",
    "    return histData"
   ]
  },
  {
   "cell_type": "code",
   "execution_count": 46,
   "metadata": {},
   "outputs": [],
   "source": [
    "def getTickerDataFrom1YrAgo(ticker_symbol):\n",
    "    try:\n",
    "        # Fetch ticker data\n",
    "        ticker = yf.Ticker(ticker_symbol)\n",
    "\n",
    "        # Define the date range: one year ago to today\n",
    "        today = datetime.today()\n",
    "        one_year_ago = today - timedelta(days=365)\n",
    "\n",
    "        # Fetch historical data for one year ago\n",
    "        hist = ticker.history(start=(one_year_ago - timedelta(days=30)).strftime('%Y-%m-%d'), \n",
    "                              end=(one_year_ago + timedelta(days=0)).strftime('%Y-%m-%d'))\n",
    "        if hist.empty:\n",
    "            raise ValueError(f\"No historical data available for {ticker_symbol} around {one_year_ago.strftime('%Y-%m-%d')}.\")\n",
    "\n",
    "        # Extract the closest data point to one year ago\n",
    "        row = hist.iloc[0]  # Get the first available entry within the date range\n",
    "\n",
    "        # Price today\n",
    "        price_today = ticker.history(period='1d')['Close'].iloc[-1]\n",
    "\n",
    "        # Calculate future price change (from one year ago to today)\n",
    "        price_change_future = ((price_today - row['Close']) / row['Close']) if row['Close'] else None\n",
    "\n",
    "        # Collect additional data\n",
    "        total_debt, cash, shares_outstanding = getEVComponents(ticker_symbol)\n",
    "        ebit = calculateApproxEBIT(ticker_symbol)\n",
    "        ev = (row['Close'] * shares_outstanding) + total_debt - cash if shares_outstanding else None\n",
    "        ev_ebit = ev / ebit if ebit else None\n",
    "        market_cap = row['Close'] * shares_outstanding if shares_outstanding else None\n",
    "        tax_rate = 0.21\n",
    "        nopat = ebit * (1 - tax_rate) if ebit else None\n",
    "        invested_capital = total_debt + market_cap - cash if market_cap and total_debt and cash else None\n",
    "        roic = nopat / invested_capital if nopat and invested_capital else None\n",
    "        industry = getIndustry(ticker_symbol)\n",
    "\n",
    "        # Return as a DataFrame\n",
    "        return pd.DataFrame([{\n",
    "            'Ticker': ticker_symbol,\n",
    "            'Date': row.name,\n",
    "            'Open': row['Open'],\n",
    "            'High': row['High'],\n",
    "            'Low': row['Low'],\n",
    "            'Close': row['Close'],\n",
    "            'Volume': row['Volume'],\n",
    "            'Dividends': row.get('Dividends', 0.0),\n",
    "            'Stock Splits': row.get('Stock Splits', 0.0),\n",
    "            'Future Year Change': price_change_future,\n",
    "            'Industry': industry,\n",
    "            'EV/EBIT': ev_ebit,\n",
    "            'ROIC': roic\n",
    "        }])\n",
    "\n",
    "    except Exception as e:\n",
    "        print(f\"Error fetching data for {ticker_symbol}: {e}\")\n",
    "        return pd.DataFrame()"
   ]
  },
  {
   "cell_type": "code",
   "execution_count": 47,
   "metadata": {},
   "outputs": [],
   "source": [
    "def getTickerData(ticker_symbol):\n",
    "    try:\n",
    "        ticker = yf.Ticker(ticker_symbol)\n",
    "        hist = ticker.history(period='1d')\n",
    "        total_debt, cash, shares_outstanding = getEVComponents(ticker_symbol)\n",
    "        ebit = calculateApproxEBIT(ticker_symbol)\n",
    "        ev = (hist['Close'].iloc[-1] * shares_outstanding) + total_debt - cash\n",
    "        ev_ebit = ev / ebit if ebit else None\n",
    "        market_cap = hist['Close'].iloc[-1] * shares_outstanding\n",
    "        tax_rate = 0.21\n",
    "        nopat = ebit * (1 - tax_rate) if ebit else None\n",
    "        invested_capital = total_debt + market_cap - cash\n",
    "        roic = nopat / invested_capital if nopat and invested_capital else None\n",
    "        industry = getIndustry(ticker_symbol)\n",
    "        \n",
    "        # Add the 'Date' column\n",
    "        date = datetime.now().strftime('%Y-%m-%d')\n",
    "\n",
    "        return pd.DataFrame([{\n",
    "            'Date': date,\n",
    "            'Open': hist['Open'].iloc[-1],\n",
    "            'High': hist['High'].iloc[-1],\n",
    "            'Low': hist['Low'].iloc[-1],\n",
    "            'Close': hist['Close'].iloc[-1],\n",
    "            'Volume': hist['Volume'].iloc[-1],\n",
    "            'Dividends': hist.get('Dividends', pd.Series([0.0])).iloc[-1],\n",
    "            'Stock Splits': hist.get('Stock Splits', pd.Series([0.0])).iloc[-1],\n",
    "            'EV/EBIT': ev_ebit,\n",
    "            'Market Cap': market_cap,\n",
    "            'ROIC': roic,\n",
    "            'Industry': industry\n",
    "        }])\n",
    "    except Exception as e:\n",
    "\n",
    "        return pd.DataFrame()"
   ]
  },
  {
   "cell_type": "markdown",
   "metadata": {},
   "source": [
    "#### Download and Process Historical Data"
   ]
  },
  {
   "cell_type": "code",
   "execution_count": 48,
   "metadata": {},
   "outputs": [
    {
     "name": "stderr",
     "output_type": "stream",
     "text": [
      "$ANDA: possibly delisted; no timezone found\n",
      "C:\\Users\\Gamer\\AppData\\Local\\Temp\\ipykernel_11984\\223849276.py:12: FutureWarning: The behavior of array concatenation with empty entries is deprecated. In a future version, this will no longer exclude empty items when determining the result dtype. To retain the old behavior, exclude the empty entries before the concat operation.\n",
      "  histData = pd.concat([histData, data])\n",
      "$BNCN: possibly delisted; no price data found  (1d 1926-02-19 -> 2025-01-25)\n",
      "C:\\Users\\Gamer\\AppData\\Local\\Temp\\ipykernel_11984\\223849276.py:12: FutureWarning: The behavior of array concatenation with empty entries is deprecated. In a future version, this will no longer exclude empty items when determining the result dtype. To retain the old behavior, exclude the empty entries before the concat operation.\n",
      "  histData = pd.concat([histData, data])\n",
      "$SGNT: possibly delisted; no price data found  (1d 1926-02-19 -> 2025-01-25)\n",
      "C:\\Users\\Gamer\\AppData\\Local\\Temp\\ipykernel_11984\\223849276.py:12: FutureWarning: The behavior of array concatenation with empty entries is deprecated. In a future version, this will no longer exclude empty items when determining the result dtype. To retain the old behavior, exclude the empty entries before the concat operation.\n",
      "  histData = pd.concat([histData, data])\n",
      "$ESBF: possibly delisted; no price data found  (1d 1926-02-19 -> 2025-01-25)\n",
      "C:\\Users\\Gamer\\AppData\\Local\\Temp\\ipykernel_11984\\223849276.py:12: FutureWarning: The behavior of array concatenation with empty entries is deprecated. In a future version, this will no longer exclude empty items when determining the result dtype. To retain the old behavior, exclude the empty entries before the concat operation.\n",
      "  histData = pd.concat([histData, data])\n",
      "$GTIV: possibly delisted; no price data found  (1d 1926-02-19 -> 2025-01-25)\n",
      "C:\\Users\\Gamer\\AppData\\Local\\Temp\\ipykernel_11984\\223849276.py:12: FutureWarning: The behavior of array concatenation with empty entries is deprecated. In a future version, this will no longer exclude empty items when determining the result dtype. To retain the old behavior, exclude the empty entries before the concat operation.\n",
      "  histData = pd.concat([histData, data])\n",
      "$RAS: possibly delisted; no price data found  (1d 1926-02-19 -> 2025-01-25)\n",
      "C:\\Users\\Gamer\\AppData\\Local\\Temp\\ipykernel_11984\\223849276.py:12: FutureWarning: The behavior of array concatenation with empty entries is deprecated. In a future version, this will no longer exclude empty items when determining the result dtype. To retain the old behavior, exclude the empty entries before the concat operation.\n",
      "  histData = pd.concat([histData, data])\n",
      "$CLSN: possibly delisted; no timezone found\n",
      "C:\\Users\\Gamer\\AppData\\Local\\Temp\\ipykernel_11984\\223849276.py:12: FutureWarning: The behavior of array concatenation with empty entries is deprecated. In a future version, this will no longer exclude empty items when determining the result dtype. To retain the old behavior, exclude the empty entries before the concat operation.\n",
      "  histData = pd.concat([histData, data])\n",
      "$UPIP: possibly delisted; no price data found  (1d 1926-02-19 -> 2025-01-25)\n",
      "C:\\Users\\Gamer\\AppData\\Local\\Temp\\ipykernel_11984\\223849276.py:12: FutureWarning: The behavior of array concatenation with empty entries is deprecated. In a future version, this will no longer exclude empty items when determining the result dtype. To retain the old behavior, exclude the empty entries before the concat operation.\n",
      "  histData = pd.concat([histData, data])\n",
      "$EDT: possibly delisted; no price data found  (1d 1926-02-19 -> 2025-01-25)\n",
      "C:\\Users\\Gamer\\AppData\\Local\\Temp\\ipykernel_11984\\223849276.py:12: FutureWarning: The behavior of array concatenation with empty entries is deprecated. In a future version, this will no longer exclude empty items when determining the result dtype. To retain the old behavior, exclude the empty entries before the concat operation.\n",
      "  histData = pd.concat([histData, data])\n",
      "$DYAX: possibly delisted; no price data found  (1d 1926-02-19 -> 2025-01-25)\n",
      "C:\\Users\\Gamer\\AppData\\Local\\Temp\\ipykernel_11984\\223849276.py:12: FutureWarning: The behavior of array concatenation with empty entries is deprecated. In a future version, this will no longer exclude empty items when determining the result dtype. To retain the old behavior, exclude the empty entries before the concat operation.\n",
      "  histData = pd.concat([histData, data])\n",
      "$CISAU: possibly delisted; no timezone found\n",
      "404 Client Error: Not Found for url: https://query2.finance.yahoo.com/v10/finance/quoteSummary/CISAU?modules=financialData%2CquoteType%2CdefaultKeyStatistics%2CassetProfile%2CsummaryDetail&corsDomain=finance.yahoo.com&formatted=false&symbol=CISAU&crumb=9XoYc7Nno84\n",
      "C:\\Users\\Gamer\\AppData\\Local\\Temp\\ipykernel_11984\\223849276.py:12: FutureWarning: The behavior of array concatenation with empty entries is deprecated. In a future version, this will no longer exclude empty items when determining the result dtype. To retain the old behavior, exclude the empty entries before the concat operation.\n",
      "  histData = pd.concat([histData, data])\n",
      "$JRN: possibly delisted; no price data found  (1d 1926-02-19 -> 2025-01-25)\n",
      "C:\\Users\\Gamer\\AppData\\Local\\Temp\\ipykernel_11984\\223849276.py:12: FutureWarning: The behavior of array concatenation with empty entries is deprecated. In a future version, this will no longer exclude empty items when determining the result dtype. To retain the old behavior, exclude the empty entries before the concat operation.\n",
      "  histData = pd.concat([histData, data])\n",
      "$TAXI: possibly delisted; no price data found  (1d 1926-02-19 -> 2025-01-25)\n",
      "C:\\Users\\Gamer\\AppData\\Local\\Temp\\ipykernel_11984\\223849276.py:12: FutureWarning: The behavior of array concatenation with empty entries is deprecated. In a future version, this will no longer exclude empty items when determining the result dtype. To retain the old behavior, exclude the empty entries before the concat operation.\n",
      "  histData = pd.concat([histData, data])\n",
      "$DBLE: possibly delisted; no price data found  (1d 1926-02-19 -> 2025-01-25)\n",
      "C:\\Users\\Gamer\\AppData\\Local\\Temp\\ipykernel_11984\\223849276.py:12: FutureWarning: The behavior of array concatenation with empty entries is deprecated. In a future version, this will no longer exclude empty items when determining the result dtype. To retain the old behavior, exclude the empty entries before the concat operation.\n",
      "  histData = pd.concat([histData, data])\n",
      "$KIM-I: possibly delisted; no timezone found\n",
      "404 Client Error: Not Found for url: https://query2.finance.yahoo.com/v10/finance/quoteSummary/KIM-I?modules=financialData%2CquoteType%2CdefaultKeyStatistics%2CassetProfile%2CsummaryDetail&corsDomain=finance.yahoo.com&formatted=false&symbol=KIM-I&crumb=9XoYc7Nno84\n",
      "C:\\Users\\Gamer\\AppData\\Local\\Temp\\ipykernel_11984\\223849276.py:12: FutureWarning: The behavior of array concatenation with empty entries is deprecated. In a future version, this will no longer exclude empty items when determining the result dtype. To retain the old behavior, exclude the empty entries before the concat operation.\n",
      "  histData = pd.concat([histData, data])\n",
      "$ETM: possibly delisted; no timezone found\n",
      "C:\\Users\\Gamer\\AppData\\Local\\Temp\\ipykernel_11984\\223849276.py:12: FutureWarning: The behavior of array concatenation with empty entries is deprecated. In a future version, this will no longer exclude empty items when determining the result dtype. To retain the old behavior, exclude the empty entries before the concat operation.\n",
      "  histData = pd.concat([histData, data])\n",
      "$WAYN: possibly delisted; no timezone found\n",
      "404 Client Error: Not Found for url: https://query2.finance.yahoo.com/v10/finance/quoteSummary/WAYN?modules=financialData%2CquoteType%2CdefaultKeyStatistics%2CassetProfile%2CsummaryDetail&corsDomain=finance.yahoo.com&formatted=false&symbol=WAYN&crumb=9XoYc7Nno84\n",
      "C:\\Users\\Gamer\\AppData\\Local\\Temp\\ipykernel_11984\\223849276.py:12: FutureWarning: The behavior of array concatenation with empty entries is deprecated. In a future version, this will no longer exclude empty items when determining the result dtype. To retain the old behavior, exclude the empty entries before the concat operation.\n",
      "  histData = pd.concat([histData, data])\n",
      "$OIBR: possibly delisted; no price data found  (1d 1926-02-19 -> 2025-01-25)\n",
      "C:\\Users\\Gamer\\AppData\\Local\\Temp\\ipykernel_11984\\223849276.py:12: FutureWarning: The behavior of array concatenation with empty entries is deprecated. In a future version, this will no longer exclude empty items when determining the result dtype. To retain the old behavior, exclude the empty entries before the concat operation.\n",
      "  histData = pd.concat([histData, data])\n",
      "$RLH-A: possibly delisted; no timezone found\n",
      "404 Client Error: Not Found for url: https://query2.finance.yahoo.com/v10/finance/quoteSummary/RLH-A?modules=financialData%2CquoteType%2CdefaultKeyStatistics%2CassetProfile%2CsummaryDetail&corsDomain=finance.yahoo.com&formatted=false&symbol=RLH-A&crumb=9XoYc7Nno84\n",
      "C:\\Users\\Gamer\\AppData\\Local\\Temp\\ipykernel_11984\\223849276.py:12: FutureWarning: The behavior of array concatenation with empty entries is deprecated. In a future version, this will no longer exclude empty items when determining the result dtype. To retain the old behavior, exclude the empty entries before the concat operation.\n",
      "  histData = pd.concat([histData, data])\n",
      "$RSTI: possibly delisted; no price data found  (1d 1926-02-19 -> 2025-01-25)\n",
      "C:\\Users\\Gamer\\AppData\\Local\\Temp\\ipykernel_11984\\223849276.py:12: FutureWarning: The behavior of array concatenation with empty entries is deprecated. In a future version, this will no longer exclude empty items when determining the result dtype. To retain the old behavior, exclude the empty entries before the concat operation.\n",
      "  histData = pd.concat([histData, data])\n",
      "$MKTO: possibly delisted; no price data found  (1d 1926-02-19 -> 2025-01-25)\n",
      "C:\\Users\\Gamer\\AppData\\Local\\Temp\\ipykernel_11984\\223849276.py:12: FutureWarning: The behavior of array concatenation with empty entries is deprecated. In a future version, this will no longer exclude empty items when determining the result dtype. To retain the old behavior, exclude the empty entries before the concat operation.\n",
      "  histData = pd.concat([histData, data])\n",
      "$IGOI: possibly delisted; no timezone found\n",
      "404 Client Error: Not Found for url: https://query2.finance.yahoo.com/v10/finance/quoteSummary/IGOI?modules=financialData%2CquoteType%2CdefaultKeyStatistics%2CassetProfile%2CsummaryDetail&corsDomain=finance.yahoo.com&formatted=false&symbol=IGOI&crumb=9XoYc7Nno84\n",
      "C:\\Users\\Gamer\\AppData\\Local\\Temp\\ipykernel_11984\\223849276.py:12: FutureWarning: The behavior of array concatenation with empty entries is deprecated. In a future version, this will no longer exclude empty items when determining the result dtype. To retain the old behavior, exclude the empty entries before the concat operation.\n",
      "  histData = pd.concat([histData, data])\n",
      "$GXP-A: possibly delisted; no timezone found\n",
      "404 Client Error: Not Found for url: https://query2.finance.yahoo.com/v10/finance/quoteSummary/GXP-A?modules=financialData%2CquoteType%2CdefaultKeyStatistics%2CassetProfile%2CsummaryDetail&corsDomain=finance.yahoo.com&formatted=false&symbol=GXP-A&crumb=9XoYc7Nno84\n",
      "C:\\Users\\Gamer\\AppData\\Local\\Temp\\ipykernel_11984\\223849276.py:12: FutureWarning: The behavior of array concatenation with empty entries is deprecated. In a future version, this will no longer exclude empty items when determining the result dtype. To retain the old behavior, exclude the empty entries before the concat operation.\n",
      "  histData = pd.concat([histData, data])\n",
      "$TRGT: possibly delisted; no price data found  (1d 1926-02-19 -> 2025-01-25)\n",
      "C:\\Users\\Gamer\\AppData\\Local\\Temp\\ipykernel_11984\\223849276.py:12: FutureWarning: The behavior of array concatenation with empty entries is deprecated. In a future version, this will no longer exclude empty items when determining the result dtype. To retain the old behavior, exclude the empty entries before the concat operation.\n",
      "  histData = pd.concat([histData, data])\n",
      "$MUH: possibly delisted; no timezone found\n",
      "C:\\Users\\Gamer\\AppData\\Local\\Temp\\ipykernel_11984\\223849276.py:12: FutureWarning: The behavior of array concatenation with empty entries is deprecated. In a future version, this will no longer exclude empty items when determining the result dtype. To retain the old behavior, exclude the empty entries before the concat operation.\n",
      "  histData = pd.concat([histData, data])\n",
      "$BCOM: possibly delisted; no timezone found\n",
      "C:\\Users\\Gamer\\AppData\\Local\\Temp\\ipykernel_11984\\223849276.py:12: FutureWarning: The behavior of array concatenation with empty entries is deprecated. In a future version, this will no longer exclude empty items when determining the result dtype. To retain the old behavior, exclude the empty entries before the concat operation.\n",
      "  histData = pd.concat([histData, data])\n",
      "$MS-A: possibly delisted; no timezone found\n",
      "404 Client Error: Not Found for url: https://query2.finance.yahoo.com/v10/finance/quoteSummary/MS-A?modules=financialData%2CquoteType%2CdefaultKeyStatistics%2CassetProfile%2CsummaryDetail&corsDomain=finance.yahoo.com&formatted=false&symbol=MS-A&crumb=9XoYc7Nno84\n",
      "C:\\Users\\Gamer\\AppData\\Local\\Temp\\ipykernel_11984\\223849276.py:12: FutureWarning: The behavior of array concatenation with empty entries is deprecated. In a future version, this will no longer exclude empty items when determining the result dtype. To retain the old behavior, exclude the empty entries before the concat operation.\n",
      "  histData = pd.concat([histData, data])\n",
      "$WAFDW: possibly delisted; no timezone found\n",
      "C:\\Users\\Gamer\\AppData\\Local\\Temp\\ipykernel_11984\\223849276.py:12: FutureWarning: The behavior of array concatenation with empty entries is deprecated. In a future version, this will no longer exclude empty items when determining the result dtype. To retain the old behavior, exclude the empty entries before the concat operation.\n",
      "  histData = pd.concat([histData, data])\n",
      "$NAD-C: possibly delisted; no timezone found\n",
      "404 Client Error: Not Found for url: https://query2.finance.yahoo.com/v10/finance/quoteSummary/NAD-C?modules=financialData%2CquoteType%2CdefaultKeyStatistics%2CassetProfile%2CsummaryDetail&corsDomain=finance.yahoo.com&formatted=false&symbol=NAD-C&crumb=9XoYc7Nno84\n",
      "C:\\Users\\Gamer\\AppData\\Local\\Temp\\ipykernel_11984\\223849276.py:12: FutureWarning: The behavior of array concatenation with empty entries is deprecated. In a future version, this will no longer exclude empty items when determining the result dtype. To retain the old behavior, exclude the empty entries before the concat operation.\n",
      "  histData = pd.concat([histData, data])\n",
      "$GNVC: possibly delisted; no price data found  (1d 1926-02-19 -> 2025-01-25)\n",
      "C:\\Users\\Gamer\\AppData\\Local\\Temp\\ipykernel_11984\\223849276.py:12: FutureWarning: The behavior of array concatenation with empty entries is deprecated. In a future version, this will no longer exclude empty items when determining the result dtype. To retain the old behavior, exclude the empty entries before the concat operation.\n",
      "  histData = pd.concat([histData, data])\n",
      "$SPCHB: possibly delisted; no price data found  (1d 1926-02-19 -> 2025-01-25)\n",
      "C:\\Users\\Gamer\\AppData\\Local\\Temp\\ipykernel_11984\\223849276.py:12: FutureWarning: The behavior of array concatenation with empty entries is deprecated. In a future version, this will no longer exclude empty items when determining the result dtype. To retain the old behavior, exclude the empty entries before the concat operation.\n",
      "  histData = pd.concat([histData, data])\n",
      "$KID: possibly delisted; no price data found  (1d 1926-02-19 -> 2025-01-25)\n",
      "C:\\Users\\Gamer\\AppData\\Local\\Temp\\ipykernel_11984\\223849276.py:12: FutureWarning: The behavior of array concatenation with empty entries is deprecated. In a future version, this will no longer exclude empty items when determining the result dtype. To retain the old behavior, exclude the empty entries before the concat operation.\n",
      "  histData = pd.concat([histData, data])\n",
      "$AMCC: possibly delisted; no price data found  (1d 1926-02-19 -> 2025-01-25)\n",
      "C:\\Users\\Gamer\\AppData\\Local\\Temp\\ipykernel_11984\\223849276.py:12: FutureWarning: The behavior of array concatenation with empty entries is deprecated. In a future version, this will no longer exclude empty items when determining the result dtype. To retain the old behavior, exclude the empty entries before the concat operation.\n",
      "  histData = pd.concat([histData, data])\n",
      "$DSKX: possibly delisted; no timezone found\n",
      "C:\\Users\\Gamer\\AppData\\Local\\Temp\\ipykernel_11984\\223849276.py:12: FutureWarning: The behavior of array concatenation with empty entries is deprecated. In a future version, this will no longer exclude empty items when determining the result dtype. To retain the old behavior, exclude the empty entries before the concat operation.\n",
      "  histData = pd.concat([histData, data])\n",
      "$NNC: possibly delisted; no timezone found\n",
      "C:\\Users\\Gamer\\AppData\\Local\\Temp\\ipykernel_11984\\223849276.py:12: FutureWarning: The behavior of array concatenation with empty entries is deprecated. In a future version, this will no longer exclude empty items when determining the result dtype. To retain the old behavior, exclude the empty entries before the concat operation.\n",
      "  histData = pd.concat([histData, data])\n",
      "$PRMW: possibly delisted; no timezone found\n",
      "404 Client Error: Not Found for url: https://query2.finance.yahoo.com/v10/finance/quoteSummary/PRMW?modules=financialData%2CquoteType%2CdefaultKeyStatistics%2CassetProfile%2CsummaryDetail&corsDomain=finance.yahoo.com&formatted=false&symbol=PRMW&crumb=9XoYc7Nno84\n",
      "C:\\Users\\Gamer\\AppData\\Local\\Temp\\ipykernel_11984\\223849276.py:12: FutureWarning: The behavior of array concatenation with empty entries is deprecated. In a future version, this will no longer exclude empty items when determining the result dtype. To retain the old behavior, exclude the empty entries before the concat operation.\n",
      "  histData = pd.concat([histData, data])\n",
      "$VELT: possibly delisted; no price data found  (1d 1926-02-19 -> 2025-01-25)\n",
      "C:\\Users\\Gamer\\AppData\\Local\\Temp\\ipykernel_11984\\223849276.py:12: FutureWarning: The behavior of array concatenation with empty entries is deprecated. In a future version, this will no longer exclude empty items when determining the result dtype. To retain the old behavior, exclude the empty entries before the concat operation.\n",
      "  histData = pd.concat([histData, data])\n",
      "$MEILW: possibly delisted; no timezone found\n",
      "C:\\Users\\Gamer\\AppData\\Local\\Temp\\ipykernel_11984\\223849276.py:12: FutureWarning: The behavior of array concatenation with empty entries is deprecated. In a future version, this will no longer exclude empty items when determining the result dtype. To retain the old behavior, exclude the empty entries before the concat operation.\n",
      "  histData = pd.concat([histData, data])\n"
     ]
    },
    {
     "name": "stdout",
     "output_type": "stream",
     "text": [
      "Training data saved: 420009 rows\n"
     ]
    }
   ],
   "source": [
    "tickers = pd.read_csv(testFolder / 'tickers.csv')['Ticker']\n",
    "trainingTickers = np.random.choice(tickers, size=trainingSize, replace=False)\n",
    "\n",
    "if getNewData:\n",
    "    histData = pd.DataFrame()\n",
    "\n",
    "    for ticker in trainingTickers:\n",
    "        try:\n",
    "            data = calculateFutureYearChange(ticker, timeFrame)\n",
    "            data['Ticker'] = ticker\n",
    "            data['Industry'] = getIndustry(ticker)\n",
    "            histData = pd.concat([histData, data])\n",
    "        except Exception:\n",
    "            pass\n",
    "\n",
    "    histData.reset_index(inplace=True)\n",
    "    histData = enrichDataWithMetrics(histData)\n",
    "    histData.to_csv(dataFolder / trainingData, index=False)\n",
    "    print(f\"Training data saved: {len(histData)} rows\")"
   ]
  },
  {
   "cell_type": "markdown",
   "metadata": {},
   "source": [
    "### Model Training"
   ]
  },
  {
   "cell_type": "code",
   "execution_count": 50,
   "metadata": {},
   "outputs": [
    {
     "name": "stderr",
     "output_type": "stream",
     "text": [
      "C:\\Users\\Gamer\\AppData\\Local\\Temp\\ipykernel_11984\\407577592.py:7: FutureWarning: In a future version of pandas, parsing datetimes with mixed time zones will raise an error unless `utc=True`. Please specify `utc=True` to opt in to the new behaviour and silence this warning. To create a `Series` with mixed offsets and `object` dtype, please use `apply` and `datetime.datetime.strptime`\n",
      "  dfCleaned['Date'] = pd.to_datetime(dfCleaned['Date'], errors='coerce')  # Fix here\n"
     ]
    }
   ],
   "source": [
    "TRAINING_CUTOFF = pd.to_datetime('2023-01-01').tz_localize('America/New_York')\n",
    "\n",
    "df = pd.read_csv(dataFolder / trainingData)\n",
    "dfCleaned = df.dropna(subset=['EV/EBIT', 'ROIC']).copy()\n",
    "\n",
    "# Step 1: Convert 'Date' to datetime\n",
    "dfCleaned['Date'] = pd.to_datetime(dfCleaned['Date'], errors='coerce')  # Fix here\n",
    "\n",
    "# Step 2: Drop rows with invalid dates\n",
    "dfCleaned = dfCleaned.dropna(subset=['Date'])\n",
    "\n",
    "# Step 4: Clean EV/EBIT\n",
    "dfCleaned['EV/EBIT'] = dfCleaned['EV/EBIT'].replace([np.inf, -np.inf], np.nan)\n",
    "dfCleaned = dfCleaned.dropna(subset=['EV/EBIT', 'ROIC'])\n",
    "dfCleaned.to_csv(dataFolder / trainingData, index=False)\n",
    "\n",
    "# Ensure dfCleaned is not empty\n",
    "if dfCleaned.empty:\n",
    "    raise ValueError(\"The cleaned DataFrame is empty. Please check the data preprocessing steps.\")\n",
    "\n",
    "# Time-based splits\n",
    "train_mask = dfCleaned['Date'] < TRAINING_CUTOFF\n",
    "valid_mask = ~train_mask\n",
    "splits = (list(dfCleaned[train_mask].index), list(dfCleaned[valid_mask].index))\n",
    "\n",
    "# Ensure splits are not empty\n",
    "if not splits[0] or not splits[1]:\n",
    "    raise ValueError(\"The training or validation split is empty. Please check the date range and data availability.\")\n",
    "\n",
    "# TabularPandas with time-aware procs\n",
    "to = TabularPandas(\n",
    "    dfCleaned, procs=[Categorify, FillMissing, Normalize],\n",
    "    y_names='Future Year Change',\n",
    "    cat_names=['Industry'], \n",
    "    cont_names=['Open', 'Close', 'EV/EBIT', 'ROIC'],\n",
    "    splits=splits\n",
    ")\n",
    "\n",
    "dls = to.dataloaders(bs=256)"
   ]
  },
  {
   "cell_type": "code",
   "execution_count": 51,
   "metadata": {},
   "outputs": [
    {
     "data": {
      "text/html": [
       "\n",
       "<style>\n",
       "    /* Turns off some styling */\n",
       "    progress {\n",
       "        /* gets rid of default border in Firefox and Opera. */\n",
       "        border: none;\n",
       "        /* Needs to be in here for Safari polyfill so background images work as expected. */\n",
       "        background-size: auto;\n",
       "    }\n",
       "    progress:not([value]), progress:not([value])::-webkit-progress-bar {\n",
       "        background: repeating-linear-gradient(45deg, #7e7e7e, #7e7e7e 10px, #5c5c5c 10px, #5c5c5c 20px);\n",
       "    }\n",
       "    .progress-bar-interrupted, .progress-bar-interrupted::-webkit-progress-bar {\n",
       "        background: #F44336;\n",
       "    }\n",
       "</style>\n"
      ],
      "text/plain": [
       "<IPython.core.display.HTML object>"
      ]
     },
     "metadata": {},
     "output_type": "display_data"
    },
    {
     "data": {
      "text/html": [],
      "text/plain": [
       "<IPython.core.display.HTML object>"
      ]
     },
     "metadata": {},
     "output_type": "display_data"
    },
    {
     "name": "stderr",
     "output_type": "stream",
     "text": [
      "c:\\Users\\Gamer\\miniconda3\\Lib\\site-packages\\fastai\\learner.py:53: FutureWarning: You are using `torch.load` with `weights_only=False` (the current default value), which uses the default pickle module implicitly. It is possible to construct malicious pickle data which will execute arbitrary code during unpickling (See https://github.com/pytorch/pytorch/blob/main/SECURITY.md#untrusted-models for more details). In a future release, the default value for `weights_only` will be flipped to `True`. This limits the functions that could be executed during unpickling. Arbitrary objects will no longer be allowed to be loaded via this mode unless they are explicitly allowlisted by the user via `torch.serialization.add_safe_globals`. We recommend you start setting `weights_only=True` for any use case where you don't have full control of the loaded file. Please open an issue on GitHub for any issues related to this experimental feature.\n",
      "  state = torch.load(file, map_location=device, **torch_load_kwargs)\n"
     ]
    },
    {
     "data": {
      "text/html": [
       "\n",
       "<style>\n",
       "    /* Turns off some styling */\n",
       "    progress {\n",
       "        /* gets rid of default border in Firefox and Opera. */\n",
       "        border: none;\n",
       "        /* Needs to be in here for Safari polyfill so background images work as expected. */\n",
       "        background-size: auto;\n",
       "    }\n",
       "    progress:not([value]), progress:not([value])::-webkit-progress-bar {\n",
       "        background: repeating-linear-gradient(45deg, #7e7e7e, #7e7e7e 10px, #5c5c5c 10px, #5c5c5c 20px);\n",
       "    }\n",
       "    .progress-bar-interrupted, .progress-bar-interrupted::-webkit-progress-bar {\n",
       "        background: #F44336;\n",
       "    }\n",
       "</style>\n"
      ],
      "text/plain": [
       "<IPython.core.display.HTML object>"
      ]
     },
     "metadata": {},
     "output_type": "display_data"
    },
    {
     "data": {
      "text/html": [
       "\n",
       "    <div>\n",
       "      <progress value='0' class='' max='75' style='width:300px; height:20px; vertical-align: middle;'></progress>\n",
       "      0.00% [0/75 00:00&lt;?]\n",
       "    </div>\n",
       "    \n",
       "<table border=\"1\" class=\"dataframe\">\n",
       "  <thead>\n",
       "    <tr style=\"text-align: left;\">\n",
       "      <th>epoch</th>\n",
       "      <th>train_loss</th>\n",
       "      <th>valid_loss</th>\n",
       "      <th>_rmse</th>\n",
       "      <th>mae</th>\n",
       "      <th>time</th>\n",
       "    </tr>\n",
       "  </thead>\n",
       "  <tbody>\n",
       "  </tbody>\n",
       "</table><p>\n",
       "\n",
       "    <div>\n",
       "      <progress value='504' class='' max='1525' style='width:300px; height:20px; vertical-align: middle;'></progress>\n",
       "      33.05% [504/1525 00:04&lt;00:08 0.2651]\n",
       "    </div>\n",
       "    "
      ],
      "text/plain": [
       "<IPython.core.display.HTML object>"
      ]
     },
     "metadata": {},
     "output_type": "display_data"
    },
    {
     "name": "stdout",
     "output_type": "stream",
     "text": [
      "Model training complete\n"
     ]
    },
    {
     "data": {
      "image/png": "[encoded data removed]",
      "text/plain": [
       "<Figure size 640x480 with 1 Axes>"
      ]
     },
     "metadata": {},
     "output_type": "display_data"
    }
   ],
   "source": [
    "from fastai.tabular.all import tabular_learner\n",
    "\n",
    "if trainNewModel:\n",
    "    learn = tabular_learner(dls, metrics=[rmse, mae])\n",
    "\n",
    "    # Learning rate finder\n",
    "    lr_min, lr_steep = learn.lr_find(suggest_funcs=(minimum, steep))\n",
    "\n",
    "    # Train\n",
    "    learn.fit_one_cycle(epochs, lr_max=3e-3)\n",
    "    print(\"Model training complete\")\n",
    "\n",
    "    learn.export(modelFolder / f'{modelName}.pkl')"
   ]
  },
  {
   "cell_type": "markdown",
   "metadata": {},
   "source": [
    "## Testing and benchmarking"
   ]
  },
  {
   "cell_type": "code",
   "execution_count": 52,
   "metadata": {},
   "outputs": [
    {
     "name": "stderr",
     "output_type": "stream",
     "text": [
      "$OMN: possibly delisted; no timezone found\n",
      "$EXA: possibly delisted; no price data found  (1d 2023-12-27 -> 2024-01-26)\n"
     ]
    },
    {
     "name": "stdout",
     "output_type": "stream",
     "text": [
      "Error fetching data for OMN: No historical data available for OMN around 2024-01-26.\n",
      "Error fetching data for EXA: No historical data available for EXA around 2024-01-26.\n"
     ]
    },
    {
     "name": "stderr",
     "output_type": "stream",
     "text": [
      "$IRR: possibly delisted; no timezone found\n"
     ]
    },
    {
     "name": "stdout",
     "output_type": "stream",
     "text": [
      "Error fetching data for IRR: No historical data available for IRR around 2024-01-26.\n"
     ]
    },
    {
     "name": "stderr",
     "output_type": "stream",
     "text": [
      "$HEP: possibly delisted; no timezone found\n"
     ]
    },
    {
     "name": "stdout",
     "output_type": "stream",
     "text": [
      "Error fetching data for HEP: No historical data available for HEP around 2024-01-26.\n"
     ]
    },
    {
     "name": "stderr",
     "output_type": "stream",
     "text": [
      "$CHLN: possibly delisted; no price data found  (1d 2023-12-27 -> 2024-01-26)\n"
     ]
    },
    {
     "name": "stdout",
     "output_type": "stream",
     "text": [
      "Error fetching data for CHLN: No historical data available for CHLN around 2024-01-26.\n"
     ]
    },
    {
     "name": "stderr",
     "output_type": "stream",
     "text": [
      "$APL: possibly delisted; no price data found  (1d 2023-12-27 -> 2024-01-26)\n"
     ]
    },
    {
     "name": "stdout",
     "output_type": "stream",
     "text": [
      "Error fetching data for APL: No historical data available for APL around 2024-01-26.\n"
     ]
    },
    {
     "name": "stderr",
     "output_type": "stream",
     "text": [
      "$DST: possibly delisted; no price data found  (1d 2023-12-27 -> 2024-01-26)\n",
      "$SCL.P: possibly delisted; no price data found  (1d 2023-12-27 -> 2024-01-26)\n"
     ]
    },
    {
     "name": "stdout",
     "output_type": "stream",
     "text": [
      "Error fetching data for DST: No historical data available for DST around 2024-01-26.\n",
      "Error fetching data for SCL.P: No historical data available for SCL.P around 2024-01-26.\n"
     ]
    },
    {
     "name": "stderr",
     "output_type": "stream",
     "text": [
      "ISP: Period '1d' is invalid, must be one of ['1mo', '3mo', '6mo', 'ytd', '1y', '2y', '5y', '10y', 'max']\n"
     ]
    },
    {
     "name": "stdout",
     "output_type": "stream",
     "text": [
      "Error fetching data for ISP: single positional indexer is out-of-bounds\n"
     ]
    },
    {
     "name": "stderr",
     "output_type": "stream",
     "text": [
      "$BML-H: possibly delisted; no timezone found\n",
      "$BEAV: possibly delisted; no price data found  (1d 2023-12-27 -> 2024-01-26)\n"
     ]
    },
    {
     "name": "stdout",
     "output_type": "stream",
     "text": [
      "Error fetching data for BML-H: No historical data available for BML-H around 2024-01-26.\n",
      "Error fetching data for BEAV: No historical data available for BEAV around 2024-01-26.\n"
     ]
    },
    {
     "name": "stderr",
     "output_type": "stream",
     "text": [
      "$TRR: possibly delisted; no price data found  (1d 2023-12-27 -> 2024-01-26)\n"
     ]
    },
    {
     "name": "stdout",
     "output_type": "stream",
     "text": [
      "Error fetching data for TRR: No historical data available for TRR around 2024-01-26.\n"
     ]
    },
    {
     "name": "stderr",
     "output_type": "stream",
     "text": [
      "$JW.A: possibly delisted; no timezone found\n"
     ]
    },
    {
     "name": "stdout",
     "output_type": "stream",
     "text": [
      "Error fetching data for JW.A: No historical data available for JW.A around 2024-01-26.\n"
     ]
    },
    {
     "name": "stderr",
     "output_type": "stream",
     "text": [
      "$VTNR: possibly delisted; no timezone found\n",
      "$OBAF: possibly delisted; no price data found  (1d 2023-12-27 -> 2024-01-26)\n"
     ]
    },
    {
     "name": "stdout",
     "output_type": "stream",
     "text": [
      "Error fetching data for VTNR: No historical data available for VTNR around 2024-01-26.\n",
      "Error fetching data for OBAF: No historical data available for OBAF around 2024-01-26.\n"
     ]
    },
    {
     "name": "stderr",
     "output_type": "stream",
     "text": [
      "$AMSWA: possibly delisted; no timezone found\n",
      "$BANCP: possibly delisted; no price data found  (1d 2023-12-27 -> 2024-01-26)\n",
      "$JPZ: possibly delisted; no price data found  (1d 2023-12-27 -> 2024-01-26)\n"
     ]
    },
    {
     "name": "stdout",
     "output_type": "stream",
     "text": [
      "Error fetching data for AMSWA: No historical data available for AMSWA around 2024-01-26.\n",
      "Error fetching data for BANCP: No historical data available for BANCP around 2024-01-26.\n",
      "Error fetching data for JPZ: No historical data available for JPZ around 2024-01-26.\n"
     ]
    },
    {
     "name": "stderr",
     "output_type": "stream",
     "text": [
      "$LHO-G: possibly delisted; no timezone found\n"
     ]
    },
    {
     "name": "stdout",
     "output_type": "stream",
     "text": [
      "Error fetching data for LHO-G: No historical data available for LHO-G around 2024-01-26.\n"
     ]
    },
    {
     "name": "stderr",
     "output_type": "stream",
     "text": [
      "$FHN-A: possibly delisted; no timezone found\n"
     ]
    },
    {
     "name": "stdout",
     "output_type": "stream",
     "text": [
      "Error fetching data for FHN-A: No historical data available for FHN-A around 2024-01-26.\n"
     ]
    },
    {
     "name": "stderr",
     "output_type": "stream",
     "text": [
      "$DCUA: possibly delisted; no timezone found\n"
     ]
    },
    {
     "name": "stdout",
     "output_type": "stream",
     "text": [
      "Error fetching data for DCUA: No historical data available for DCUA around 2024-01-26.\n"
     ]
    },
    {
     "name": "stderr",
     "output_type": "stream",
     "text": [
      "$APC: possibly delisted; no timezone found\n"
     ]
    },
    {
     "name": "stdout",
     "output_type": "stream",
     "text": [
      "Error fetching data for APC: No historical data available for APC around 2024-01-26.\n"
     ]
    },
    {
     "name": "stderr",
     "output_type": "stream",
     "text": [
      "$TCB.W: possibly delisted; no timezone found\n"
     ]
    },
    {
     "name": "stdout",
     "output_type": "stream",
     "text": [
      "Error fetching data for TCB.W: No historical data available for TCB.W around 2024-01-26.\n"
     ]
    },
    {
     "name": "stderr",
     "output_type": "stream",
     "text": [
      "$AINV: possibly delisted; no timezone found\n"
     ]
    },
    {
     "name": "stdout",
     "output_type": "stream",
     "text": [
      "Error fetching data for AINV: No historical data available for AINV around 2024-01-26.\n"
     ]
    },
    {
     "name": "stderr",
     "output_type": "stream",
     "text": [
      "$GPE-A: possibly delisted; no timezone found\n"
     ]
    },
    {
     "name": "stdout",
     "output_type": "stream",
     "text": [
      "Error fetching data for GPE-A: No historical data available for GPE-A around 2024-01-26.\n"
     ]
    },
    {
     "name": "stderr",
     "output_type": "stream",
     "text": [
      "$TYPE: possibly delisted; no timezone found\n",
      "$NRCIB: possibly delisted; no price data found  (1d 2023-12-27 -> 2024-01-26)\n",
      "$KBALB: possibly delisted; no price data found  (1d 2023-12-27 -> 2024-01-26)\n"
     ]
    },
    {
     "name": "stdout",
     "output_type": "stream",
     "text": [
      "Error fetching data for TYPE: No historical data available for TYPE around 2024-01-26.\n",
      "Error fetching data for NRCIB: No historical data available for NRCIB around 2024-01-26.\n",
      "Error fetching data for KBALB: No historical data available for KBALB around 2024-01-26.\n"
     ]
    },
    {
     "name": "stderr",
     "output_type": "stream",
     "text": [
      "$DNR: possibly delisted; no timezone found\n",
      "$SVNT: possibly delisted; no price data found  (1d 2023-12-27 -> 2024-01-26)\n"
     ]
    },
    {
     "name": "stdout",
     "output_type": "stream",
     "text": [
      "Error fetching data for DNR: No historical data available for DNR around 2024-01-26.\n",
      "Error fetching data for SVNT: No historical data available for SVNT around 2024-01-26.\n"
     ]
    },
    {
     "name": "stderr",
     "output_type": "stream",
     "text": [
      "$MBT: possibly delisted; no timezone found\n",
      "$MSO: possibly delisted; no price data found  (1d 2023-12-27 -> 2024-01-26)\n"
     ]
    },
    {
     "name": "stdout",
     "output_type": "stream",
     "text": [
      "Error fetching data for MBT: No historical data available for MBT around 2024-01-26.\n",
      "Error fetching data for MSO: No historical data available for MSO around 2024-01-26.\n"
     ]
    },
    {
     "name": "stderr",
     "output_type": "stream",
     "text": [
      "$CNSI: possibly delisted; no price data found  (1d 2023-12-27 -> 2024-01-26)\n",
      "$YOD: possibly delisted; no price data found  (1d 2023-12-27 -> 2024-01-26)\n"
     ]
    },
    {
     "name": "stdout",
     "output_type": "stream",
     "text": [
      "Error fetching data for CNSI: No historical data available for CNSI around 2024-01-26.\n",
      "Error fetching data for YOD: No historical data available for YOD around 2024-01-26.\n"
     ]
    },
    {
     "name": "stderr",
     "output_type": "stream",
     "text": [
      "$THST: possibly delisted; no timezone found\n",
      "$NNP: possibly delisted; no price data found  (1d 2023-12-27 -> 2024-01-26)\n",
      "$GLF: possibly delisted; no price data found  (1d 2023-12-27 -> 2024-01-26)\n"
     ]
    },
    {
     "name": "stdout",
     "output_type": "stream",
     "text": [
      "Error fetching data for THST: No historical data available for THST around 2024-01-26.\n",
      "Error fetching data for NNP: No historical data available for NNP around 2024-01-26.\n",
      "Error fetching data for GLF: No historical data available for GLF around 2024-01-26.\n"
     ]
    },
    {
     "name": "stderr",
     "output_type": "stream",
     "text": [
      "$FST: possibly delisted; no timezone found\n",
      "$FSCI: possibly delisted; no price data found  (1d 2023-12-27 -> 2024-01-26)\n",
      "$STSI: possibly delisted; no price data found  (1d 2023-12-27 -> 2024-01-26)\n"
     ]
    },
    {
     "name": "stdout",
     "output_type": "stream",
     "text": [
      "Error fetching data for FST: No historical data available for FST around 2024-01-26.\n",
      "Error fetching data for FSCI: No historical data available for FSCI around 2024-01-26.\n",
      "Error fetching data for STSI: No historical data available for STSI around 2024-01-26.\n"
     ]
    },
    {
     "name": "stderr",
     "output_type": "stream",
     "text": [
      "$RKUS: possibly delisted; no price data found  (1d 2023-12-27 -> 2024-01-26)\n"
     ]
    },
    {
     "name": "stdout",
     "output_type": "stream",
     "text": [
      "Error fetching data for RKUS: No historical data available for RKUS around 2024-01-26.\n"
     ]
    },
    {
     "name": "stderr",
     "output_type": "stream",
     "text": [
      "$DAEG: possibly delisted; no price data found  (1d 2023-12-27 -> 2024-01-26)\n",
      "$SFG: possibly delisted; no price data found  (1d 2023-12-27 -> 2024-01-26)\n"
     ]
    },
    {
     "name": "stdout",
     "output_type": "stream",
     "text": [
      "Error fetching data for DAEG: No historical data available for DAEG around 2024-01-26.\n",
      "Error fetching data for SFG: No historical data available for SFG around 2024-01-26.\n"
     ]
    },
    {
     "name": "stderr",
     "output_type": "stream",
     "text": [
      "$NIQ: possibly delisted; no timezone found\n"
     ]
    },
    {
     "name": "stdout",
     "output_type": "stream",
     "text": [
      "Error fetching data for NIQ: No historical data available for NIQ around 2024-01-26.\n"
     ]
    },
    {
     "name": "stderr",
     "output_type": "stream",
     "text": [
      "$NNC-G: possibly delisted; no timezone found\n"
     ]
    },
    {
     "name": "stdout",
     "output_type": "stream",
     "text": [
      "Error fetching data for NNC-G: No historical data available for NNC-G around 2024-01-26.\n"
     ]
    },
    {
     "name": "stderr",
     "output_type": "stream",
     "text": [
      "$SAN-B: possibly delisted; no timezone found\n"
     ]
    },
    {
     "name": "stdout",
     "output_type": "stream",
     "text": [
      "Error fetching data for SAN-B: No historical data available for SAN-B around 2024-01-26.\n"
     ]
    },
    {
     "name": "stderr",
     "output_type": "stream",
     "text": [
      "$ECTY: possibly delisted; no price data found  (1d 2023-12-27 -> 2024-01-26)\n",
      "$MJI: possibly delisted; no price data found  (1d 2023-12-27 -> 2024-01-26)\n"
     ]
    },
    {
     "name": "stdout",
     "output_type": "stream",
     "text": [
      "Error fetching data for ECTY: No historical data available for ECTY around 2024-01-26.\n",
      "Error fetching data for MJI: No historical data available for MJI around 2024-01-26.\n"
     ]
    },
    {
     "name": "stderr",
     "output_type": "stream",
     "text": [
      "$ISM: possibly delisted; no timezone found\n",
      "$OCRX: possibly delisted; no price data found  (1d 2023-12-27 -> 2024-01-26)\n",
      "$PATR: possibly delisted; no price data found  (1d 2023-12-27 -> 2024-01-26)\n"
     ]
    },
    {
     "name": "stdout",
     "output_type": "stream",
     "text": [
      "Error fetching data for ISM: No historical data available for ISM around 2024-01-26.\n",
      "Error fetching data for OCRX: No historical data available for OCRX around 2024-01-26.\n",
      "Error fetching data for PATR: No historical data available for PATR around 2024-01-26.\n"
     ]
    },
    {
     "name": "stderr",
     "output_type": "stream",
     "text": [
      "$MILL: possibly delisted; no price data found  (1d 2023-12-27 -> 2024-01-26)\n",
      "$JNS: possibly delisted; no price data found  (1d 2023-12-27 -> 2024-01-26)\n"
     ]
    },
    {
     "name": "stdout",
     "output_type": "stream",
     "text": [
      "Error fetching data for MILL: No historical data available for MILL around 2024-01-26.\n",
      "Error fetching data for JNS: No historical data available for JNS around 2024-01-26.\n"
     ]
    },
    {
     "name": "stderr",
     "output_type": "stream",
     "text": [
      "$TXTR: possibly delisted; no price data found  (1d 2023-12-27 -> 2024-01-26)\n"
     ]
    },
    {
     "name": "stdout",
     "output_type": "stream",
     "text": [
      "Error fetching data for TXTR: No historical data available for TXTR around 2024-01-26.\n"
     ]
    },
    {
     "name": "stderr",
     "output_type": "stream",
     "text": [
      "$HTR: possibly delisted; no price data found  (1d 2023-12-27 -> 2024-01-26)\n"
     ]
    },
    {
     "name": "stdout",
     "output_type": "stream",
     "text": [
      "Error fetching data for HTR: No historical data available for HTR around 2024-01-26.\n"
     ]
    },
    {
     "name": "stderr",
     "output_type": "stream",
     "text": [
      "$AKP: possibly delisted; no timezone found\n"
     ]
    },
    {
     "name": "stdout",
     "output_type": "stream",
     "text": [
      "Error fetching data for AKP: No historical data available for AKP around 2024-01-26.\n"
     ]
    },
    {
     "name": "stderr",
     "output_type": "stream",
     "text": [
      "$MNGA: possibly delisted; no timezone found\n",
      "$XAA: possibly delisted; no price data found  (1d 2023-12-27 -> 2024-01-26)\n"
     ]
    },
    {
     "name": "stdout",
     "output_type": "stream",
     "text": [
      "Error fetching data for MNGA: No historical data available for MNGA around 2024-01-26.\n",
      "Error fetching data for XAA: No historical data available for XAA around 2024-01-26.\n"
     ]
    },
    {
     "name": "stderr",
     "output_type": "stream",
     "text": [
      "$PF: possibly delisted; no price data found  (1d 2023-12-27 -> 2024-01-26)\n"
     ]
    },
    {
     "name": "stdout",
     "output_type": "stream",
     "text": [
      "Error fetching data for PF: No historical data available for PF around 2024-01-26.\n"
     ]
    },
    {
     "name": "stderr",
     "output_type": "stream",
     "text": [
      "$HBA-H: possibly delisted; no timezone found\n",
      "$TNGO: possibly delisted; no price data found  (1d 2023-12-27 -> 2024-01-26)\n",
      "$ABCD: possibly delisted; no price data found  (1d 2023-12-27 -> 2024-01-26)\n"
     ]
    },
    {
     "name": "stdout",
     "output_type": "stream",
     "text": [
      "Error fetching data for HBA-H: No historical data available for HBA-H around 2024-01-26.\n",
      "Error fetching data for TNGO: No historical data available for TNGO around 2024-01-26.\n",
      "Error fetching data for ABCD: No historical data available for ABCD around 2024-01-26.\n"
     ]
    },
    {
     "name": "stderr",
     "output_type": "stream",
     "text": [
      "$BGSCU: possibly delisted; no price data found  (1d 2023-12-27 -> 2024-01-26)\n",
      "$DRAM: possibly delisted; no price data found  (1d 2023-12-27 -> 2024-01-26)\n"
     ]
    },
    {
     "name": "stdout",
     "output_type": "stream",
     "text": [
      "Error fetching data for BGSCU: No historical data available for BGSCU around 2024-01-26.\n",
      "Error fetching data for DRAM: No historical data available for DRAM around 2024-01-26.\n"
     ]
    },
    {
     "name": "stderr",
     "output_type": "stream",
     "text": [
      "$PPL-W: possibly delisted; no timezone found\n"
     ]
    },
    {
     "name": "stdout",
     "output_type": "stream",
     "text": [
      "Error fetching data for PPL-W: No historical data available for PPL-W around 2024-01-26.\n"
     ]
    },
    {
     "name": "stderr",
     "output_type": "stream",
     "text": [
      "$CNDO: possibly delisted; no price data found  (1d 2023-12-27 -> 2024-01-26)\n"
     ]
    },
    {
     "name": "stdout",
     "output_type": "stream",
     "text": [
      "Error fetching data for CNDO: No historical data available for CNDO around 2024-01-26.\n"
     ]
    },
    {
     "name": "stderr",
     "output_type": "stream",
     "text": [
      "$AFOP: possibly delisted; no price data found  (1d 2023-12-27 -> 2024-01-26)\n",
      "$SPLS: possibly delisted; no price data found  (1d 2023-12-27 -> 2024-01-26)\n"
     ]
    },
    {
     "name": "stdout",
     "output_type": "stream",
     "text": [
      "Error fetching data for AFOP: No historical data available for AFOP around 2024-01-26.\n",
      "Error fetching data for SPLS: No historical data available for SPLS around 2024-01-26.\n"
     ]
    },
    {
     "name": "stderr",
     "output_type": "stream",
     "text": [
      "$NRF-A: possibly delisted; no timezone found\n"
     ]
    },
    {
     "name": "stdout",
     "output_type": "stream",
     "text": [
      "Error fetching data for NRF-A: No historical data available for NRF-A around 2024-01-26.\n"
     ]
    },
    {
     "name": "stderr",
     "output_type": "stream",
     "text": [
      "$C-S: possibly delisted; no timezone found\n"
     ]
    },
    {
     "name": "stdout",
     "output_type": "stream",
     "text": [
      "Error fetching data for C-S: No historical data available for C-S around 2024-01-26.\n"
     ]
    },
    {
     "name": "stderr",
     "output_type": "stream",
     "text": [
      "$UIHC: possibly delisted; no timezone found\n"
     ]
    },
    {
     "name": "stdout",
     "output_type": "stream",
     "text": [
      "Error fetching data for UIHC: No historical data available for UIHC around 2024-01-26.\n"
     ]
    },
    {
     "name": "stderr",
     "output_type": "stream",
     "text": [
      "$SREV: possibly delisted; no timezone found\n",
      "$KND: possibly delisted; no price data found  (1d 2023-12-27 -> 2024-01-26)\n"
     ]
    },
    {
     "name": "stdout",
     "output_type": "stream",
     "text": [
      "Error fetching data for SREV: No historical data available for SREV around 2024-01-26.\n",
      "Error fetching data for KND: No historical data available for KND around 2024-01-26.\n"
     ]
    },
    {
     "name": "stderr",
     "output_type": "stream",
     "text": [
      "$DFT-A: possibly delisted; no timezone found\n"
     ]
    },
    {
     "name": "stdout",
     "output_type": "stream",
     "text": [
      "Error fetching data for DFT-A: No historical data available for DFT-A around 2024-01-26.\n"
     ]
    },
    {
     "name": "stderr",
     "output_type": "stream",
     "text": [
      "$XOXO: possibly delisted; no price data found  (1d 2023-12-27 -> 2024-01-26)\n"
     ]
    },
    {
     "name": "stdout",
     "output_type": "stream",
     "text": [
      "Error fetching data for XOXO: No historical data available for XOXO around 2024-01-26.\n"
     ]
    },
    {
     "name": "stderr",
     "output_type": "stream",
     "text": [
      "$SCR: possibly delisted; no timezone found\n",
      "$PAGG: possibly delisted; no price data found  (1d 2023-12-27 -> 2024-01-26)\n"
     ]
    },
    {
     "name": "stdout",
     "output_type": "stream",
     "text": [
      "Error fetching data for SCR: No historical data available for SCR around 2024-01-26.\n",
      "Error fetching data for PAGG: No historical data available for PAGG around 2024-01-26.\n"
     ]
    },
    {
     "name": "stderr",
     "output_type": "stream",
     "text": [
      "$SCON: possibly delisted; no timezone found\n"
     ]
    },
    {
     "name": "stdout",
     "output_type": "stream",
     "text": [
      "Error fetching data for SCON: No historical data available for SCON around 2024-01-26.\n"
     ]
    },
    {
     "name": "stderr",
     "output_type": "stream",
     "text": [
      "$DDR-J: possibly delisted; no timezone found\n",
      "$NAVR: possibly delisted; no price data found  (1d 2023-12-27 -> 2024-01-26)\n"
     ]
    },
    {
     "name": "stdout",
     "output_type": "stream",
     "text": [
      "Error fetching data for DDR-J: No historical data available for DDR-J around 2024-01-26.\n",
      "Error fetching data for NAVR: No historical data available for NAVR around 2024-01-26.\n"
     ]
    },
    {
     "name": "stderr",
     "output_type": "stream",
     "text": [
      "$ERS: possibly delisted; no price data found  (1d 2023-12-27 -> 2024-01-26)\n",
      "$NYLD: possibly delisted; no price data found  (1d 2023-12-27 -> 2024-01-26)\n"
     ]
    },
    {
     "name": "stdout",
     "output_type": "stream",
     "text": [
      "Error fetching data for ERS: No historical data available for ERS around 2024-01-26.\n",
      "Error fetching data for NYLD: No historical data available for NYLD around 2024-01-26.\n"
     ]
    },
    {
     "name": "stderr",
     "output_type": "stream",
     "text": [
      "$HLS: possibly delisted; no price data found  (1d 2023-12-27 -> 2024-01-26)\n"
     ]
    },
    {
     "name": "stdout",
     "output_type": "stream",
     "text": [
      "Error fetching data for HLS: No historical data available for HLS around 2024-01-26.\n"
     ]
    },
    {
     "name": "stderr",
     "output_type": "stream",
     "text": [
      "$VLYWW: possibly delisted; no timezone found\n"
     ]
    },
    {
     "name": "stdout",
     "output_type": "stream",
     "text": [
      "Error fetching data for VLYWW: No historical data available for VLYWW around 2024-01-26.\n"
     ]
    },
    {
     "name": "stderr",
     "output_type": "stream",
     "text": [
      "$ANH-B: possibly delisted; no timezone found\n"
     ]
    },
    {
     "name": "stdout",
     "output_type": "stream",
     "text": [
      "Error fetching data for ANH-B: No historical data available for ANH-B around 2024-01-26.\n"
     ]
    },
    {
     "name": "stderr",
     "output_type": "stream",
     "text": [
      "$CRD.A: possibly delisted; no timezone found\n",
      "$NTT: possibly delisted; no price data found  (1d 2023-12-27 -> 2024-01-26)\n",
      "$OMX: possibly delisted; no price data found  (1d 2023-12-27 -> 2024-01-26)\n"
     ]
    },
    {
     "name": "stdout",
     "output_type": "stream",
     "text": [
      "Error fetching data for CRD.A: No historical data available for CRD.A around 2024-01-26.\n",
      "Error fetching data for NTT: No historical data available for NTT around 2024-01-26.\n",
      "Error fetching data for OMX: No historical data available for OMX around 2024-01-26.\n"
     ]
    },
    {
     "name": "stderr",
     "output_type": "stream",
     "text": [
      "$NID: possibly delisted; no timezone found\n"
     ]
    },
    {
     "name": "stdout",
     "output_type": "stream",
     "text": [
      "Error fetching data for NID: No historical data available for NID around 2024-01-26.\n"
     ]
    },
    {
     "name": "stderr",
     "output_type": "stream",
     "text": [
      "$CBX: possibly delisted; no timezone found\n",
      "$BDBD: possibly delisted; no price data found  (1d 2023-12-27 -> 2024-01-26)\n"
     ]
    },
    {
     "name": "stdout",
     "output_type": "stream",
     "text": [
      "Error fetching data for CBX: No historical data available for CBX around 2024-01-26.\n",
      "Error fetching data for BDBD: No historical data available for BDBD around 2024-01-26.\n"
     ]
    },
    {
     "name": "stderr",
     "output_type": "stream",
     "text": [
      "$FDI: possibly delisted; no price data found  (1d 2023-12-27 -> 2024-01-26)\n"
     ]
    },
    {
     "name": "stdout",
     "output_type": "stream",
     "text": [
      "Error fetching data for FDI: No historical data available for FDI around 2024-01-26.\n"
     ]
    },
    {
     "name": "stderr",
     "output_type": "stream",
     "text": [
      "$AEV: possibly delisted; no price data found  (1d 2023-12-27 -> 2024-01-26)\n"
     ]
    },
    {
     "name": "stdout",
     "output_type": "stream",
     "text": [
      "Error fetching data for AEV: No historical data available for AEV around 2024-01-26.\n"
     ]
    },
    {
     "name": "stderr",
     "output_type": "stream",
     "text": [
      "$GPX: possibly delisted; no timezone found\n"
     ]
    },
    {
     "name": "stdout",
     "output_type": "stream",
     "text": [
      "Error fetching data for GPX: No historical data available for GPX around 2024-01-26.\n"
     ]
    },
    {
     "name": "stderr",
     "output_type": "stream",
     "text": [
      "$AOL: possibly delisted; no price data found  (1d 2023-12-27 -> 2024-01-26)\n"
     ]
    },
    {
     "name": "stdout",
     "output_type": "stream",
     "text": [
      "Error fetching data for AOL: No historical data available for AOL around 2024-01-26.\n"
     ]
    },
    {
     "name": "stderr",
     "output_type": "stream",
     "text": [
      "$ZB-A: possibly delisted; no timezone found\n"
     ]
    },
    {
     "name": "stdout",
     "output_type": "stream",
     "text": [
      "Error fetching data for ZB-A: No historical data available for ZB-A around 2024-01-26.\n"
     ]
    },
    {
     "name": "stderr",
     "output_type": "stream",
     "text": [
      "$BKW: possibly delisted; no price data found  (1d 2023-12-27 -> 2024-01-26)\n"
     ]
    },
    {
     "name": "stdout",
     "output_type": "stream",
     "text": [
      "Error fetching data for BKW: No historical data available for BKW around 2024-01-26.\n"
     ]
    },
    {
     "name": "stderr",
     "output_type": "stream",
     "text": [
      "$PRE-F: possibly delisted; no timezone found\n"
     ]
    },
    {
     "name": "stdout",
     "output_type": "stream",
     "text": [
      "Error fetching data for PRE-F: No historical data available for PRE-F around 2024-01-26.\n"
     ]
    },
    {
     "name": "stderr",
     "output_type": "stream",
     "text": [
      "$ARDNA: possibly delisted; no price data found  (1d 2023-12-27 -> 2024-01-26)\n"
     ]
    },
    {
     "name": "stdout",
     "output_type": "stream",
     "text": [
      "Error fetching data for ARDNA: No historical data available for ARDNA around 2024-01-26.\n"
     ]
    },
    {
     "name": "stderr",
     "output_type": "stream",
     "text": [
      "$ROICU: possibly delisted; no timezone found\n"
     ]
    },
    {
     "name": "stdout",
     "output_type": "stream",
     "text": [
      "Error fetching data for ROICU: No historical data available for ROICU around 2024-01-26.\n"
     ]
    },
    {
     "name": "stderr",
     "output_type": "stream",
     "text": [
      "$TOO-A: possibly delisted; no timezone found\n",
      "$UCP: possibly delisted; no price data found  (1d 2023-12-27 -> 2024-01-26)\n"
     ]
    },
    {
     "name": "stdout",
     "output_type": "stream",
     "text": [
      "Error fetching data for TOO-A: No historical data available for TOO-A around 2024-01-26.\n",
      "Error fetching data for UCP: No historical data available for UCP around 2024-01-26.\n"
     ]
    },
    {
     "name": "stderr",
     "output_type": "stream",
     "text": [
      "$HOTRW: possibly delisted; no timezone found\n"
     ]
    },
    {
     "name": "stdout",
     "output_type": "stream",
     "text": [
      "Error fetching data for HOTRW: No historical data available for HOTRW around 2024-01-26.\n"
     ]
    },
    {
     "name": "stderr",
     "output_type": "stream",
     "text": [
      "$CISG: possibly delisted; no price data found  (1d 2023-12-27 -> 2024-01-26)\n"
     ]
    },
    {
     "name": "stdout",
     "output_type": "stream",
     "text": [
      "Error fetching data for CISG: No historical data available for CISG around 2024-01-26.\n"
     ]
    },
    {
     "name": "stderr",
     "output_type": "stream",
     "text": [
      "$NNC-D: possibly delisted; no timezone found\n"
     ]
    },
    {
     "name": "stdout",
     "output_type": "stream",
     "text": [
      "Error fetching data for NNC-D: No historical data available for NNC-D around 2024-01-26.\n"
     ]
    },
    {
     "name": "stderr",
     "output_type": "stream",
     "text": [
      "$NTX-C: possibly delisted; no timezone found\n",
      "$LNKD: possibly delisted; no price data found  (1d 2023-12-27 -> 2024-01-26)\n"
     ]
    },
    {
     "name": "stdout",
     "output_type": "stream",
     "text": [
      "Error fetching data for NTX-C: No historical data available for NTX-C around 2024-01-26.\n",
      "Error fetching data for LNKD: No historical data available for LNKD around 2024-01-26.\n"
     ]
    },
    {
     "name": "stderr",
     "output_type": "stream",
     "text": [
      "$KWN: possibly delisted; no timezone found\n"
     ]
    },
    {
     "name": "stdout",
     "output_type": "stream",
     "text": [
      "Error fetching data for KWN: No historical data available for KWN around 2024-01-26.\n"
     ]
    },
    {
     "name": "stderr",
     "output_type": "stream",
     "text": [
      "$CHDX: possibly delisted; no price data found  (1d 2023-12-27 -> 2024-01-26)\n"
     ]
    },
    {
     "name": "stdout",
     "output_type": "stream",
     "text": [
      "Error fetching data for CHDX: No historical data available for CHDX around 2024-01-26.\n"
     ]
    },
    {
     "name": "stderr",
     "output_type": "stream",
     "text": [
      "$UMPQ: possibly delisted; no timezone found\n"
     ]
    },
    {
     "name": "stdout",
     "output_type": "stream",
     "text": [
      "Error fetching data for UMPQ: No historical data available for UMPQ around 2024-01-26.\n"
     ]
    },
    {
     "name": "stderr",
     "output_type": "stream",
     "text": [
      "$MCQ: possibly delisted; no timezone found\n"
     ]
    },
    {
     "name": "stdout",
     "output_type": "stream",
     "text": [
      "Error fetching data for MCQ: No historical data available for MCQ around 2024-01-26.\n"
     ]
    },
    {
     "name": "stderr",
     "output_type": "stream",
     "text": [
      "$ATEA: possibly delisted; no timezone found\n"
     ]
    },
    {
     "name": "stdout",
     "output_type": "stream",
     "text": [
      "Error fetching data for ATEA: No historical data available for ATEA around 2024-01-26.\n"
     ]
    },
    {
     "name": "stderr",
     "output_type": "stream",
     "text": [
      "$CXDC: possibly delisted; no timezone found\n"
     ]
    },
    {
     "name": "stdout",
     "output_type": "stream",
     "text": [
      "Error fetching data for CXDC: No historical data available for CXDC around 2024-01-26.\n"
     ]
    },
    {
     "name": "stderr",
     "output_type": "stream",
     "text": [
      "$O-E: possibly delisted; no timezone found\n",
      "$LTXC: possibly delisted; no price data found  (1d 2023-12-27 -> 2024-01-26)\n",
      "$KST: possibly delisted; no price data found  (1d 2023-12-27 -> 2024-01-26)\n"
     ]
    },
    {
     "name": "stdout",
     "output_type": "stream",
     "text": [
      "Error fetching data for O-E: No historical data available for O-E around 2024-01-26.\n",
      "Error fetching data for LTXC: No historical data available for LTXC around 2024-01-26.\n",
      "Error fetching data for KST: No historical data available for KST around 2024-01-26.\n"
     ]
    },
    {
     "name": "stderr",
     "output_type": "stream",
     "text": [
      "$CLD: possibly delisted; no timezone found\n"
     ]
    },
    {
     "name": "stdout",
     "output_type": "stream",
     "text": [
      "Error fetching data for CLD: No historical data available for CLD around 2024-01-26.\n"
     ]
    },
    {
     "name": "stderr",
     "output_type": "stream",
     "text": [
      "$PYK: possibly delisted; no price data found  (1d 2023-12-27 -> 2024-01-26)\n",
      "$TRF: possibly delisted; no price data found  (1d 2023-12-27 -> 2024-01-26)\n"
     ]
    },
    {
     "name": "stdout",
     "output_type": "stream",
     "text": [
      "Error fetching data for PYK: No historical data available for PYK around 2024-01-26.\n",
      "Error fetching data for TRF: No historical data available for TRF around 2024-01-26.\n"
     ]
    },
    {
     "name": "stderr",
     "output_type": "stream",
     "text": [
      "$WBKC: possibly delisted; no price data found  (1d 2023-12-27 -> 2024-01-26)\n",
      "$PBCP: possibly delisted; no price data found  (1d 2023-12-27 -> 2024-01-26)\n"
     ]
    },
    {
     "name": "stdout",
     "output_type": "stream",
     "text": [
      "Error fetching data for WBKC: No historical data available for WBKC around 2024-01-26.\n",
      "Error fetching data for PBCP: No historical data available for PBCP around 2024-01-26.\n"
     ]
    },
    {
     "name": "stderr",
     "output_type": "stream",
     "text": [
      "$KNL: possibly delisted; no timezone found\n"
     ]
    },
    {
     "name": "stdout",
     "output_type": "stream",
     "text": [
      "Error fetching data for KNL: No historical data available for KNL around 2024-01-26.\n"
     ]
    },
    {
     "name": "stderr",
     "output_type": "stream",
     "text": [
      "$EDS: possibly delisted; no price data found  (1d 2023-12-27 -> 2024-01-26)\n"
     ]
    },
    {
     "name": "stdout",
     "output_type": "stream",
     "text": [
      "Error fetching data for EDS: No historical data available for EDS around 2024-01-26.\n"
     ]
    },
    {
     "name": "stderr",
     "output_type": "stream",
     "text": [
      "$DX-A: possibly delisted; no timezone found\n"
     ]
    },
    {
     "name": "stdout",
     "output_type": "stream",
     "text": [
      "Error fetching data for DX-A: No historical data available for DX-A around 2024-01-26.\n"
     ]
    },
    {
     "name": "stderr",
     "output_type": "stream",
     "text": [
      "$BCSB: possibly delisted; no price data found  (1d 2023-12-27 -> 2024-01-26)\n"
     ]
    },
    {
     "name": "stdout",
     "output_type": "stream",
     "text": [
      "Error fetching data for BCSB: No historical data available for BCSB around 2024-01-26.\n"
     ]
    },
    {
     "name": "stderr",
     "output_type": "stream",
     "text": [
      "$CDI: possibly delisted; no price data found  (1d 2023-12-27 -> 2024-01-26)\n",
      "$RIT: possibly delisted; no price data found  (1d 2023-12-27 -> 2024-01-26)\n",
      "$CMCSK: possibly delisted; no price data found  (1d 2023-12-27 -> 2024-01-26)\n"
     ]
    },
    {
     "name": "stdout",
     "output_type": "stream",
     "text": [
      "Error fetching data for CDI: No historical data available for CDI around 2024-01-26.\n",
      "Error fetching data for RIT: No historical data available for RIT around 2024-01-26.\n",
      "Error fetching data for CMCSK: No historical data available for CMCSK around 2024-01-26.\n"
     ]
    },
    {
     "name": "stderr",
     "output_type": "stream",
     "text": [
      "$SNE: possibly delisted; no timezone found\n"
     ]
    },
    {
     "name": "stdout",
     "output_type": "stream",
     "text": [
      "Error fetching data for SNE: No historical data available for SNE around 2024-01-26.\n"
     ]
    },
    {
     "name": "stderr",
     "output_type": "stream",
     "text": [
      "$IDSA: possibly delisted; no timezone found\n"
     ]
    },
    {
     "name": "stdout",
     "output_type": "stream",
     "text": [
      "Error fetching data for IDSA: No historical data available for IDSA around 2024-01-26.\n"
     ]
    },
    {
     "name": "stderr",
     "output_type": "stream",
     "text": [
      "$NPV-E: possibly delisted; no timezone found\n"
     ]
    },
    {
     "name": "stdout",
     "output_type": "stream",
     "text": [
      "Error fetching data for NPV-E: No historical data available for NPV-E around 2024-01-26.\n"
     ]
    },
    {
     "name": "stderr",
     "output_type": "stream",
     "text": [
      "$MANT: possibly delisted; no timezone found\n"
     ]
    },
    {
     "name": "stdout",
     "output_type": "stream",
     "text": [
      "Error fetching data for MANT: No historical data available for MANT around 2024-01-26.\n"
     ]
    },
    {
     "name": "stderr",
     "output_type": "stream",
     "text": [
      "$MNR-A: possibly delisted; no timezone found\n",
      "$NBS: possibly delisted; no price data found  (1d 2023-12-27 -> 2024-01-26)\n"
     ]
    },
    {
     "name": "stdout",
     "output_type": "stream",
     "text": [
      "Error fetching data for MNR-A: No historical data available for MNR-A around 2024-01-26.\n",
      "Error fetching data for NBS: No historical data available for NBS around 2024-01-26.\n"
     ]
    },
    {
     "name": "stderr",
     "output_type": "stream",
     "text": [
      "$MDSO: possibly delisted; no timezone found\n",
      "$CTRX: possibly delisted; no price data found  (1d 2023-12-27 -> 2024-01-26)\n"
     ]
    },
    {
     "name": "stdout",
     "output_type": "stream",
     "text": [
      "Error fetching data for MDSO: No historical data available for MDSO around 2024-01-26.\n",
      "Error fetching data for CTRX: No historical data available for CTRX around 2024-01-26.\n"
     ]
    },
    {
     "name": "stderr",
     "output_type": "stream",
     "text": [
      "$ENOC: possibly delisted; no price data found  (1d 2023-12-27 -> 2024-01-26)\n"
     ]
    },
    {
     "name": "stdout",
     "output_type": "stream",
     "text": [
      "Error fetching data for ENOC: No historical data available for ENOC around 2024-01-26.\n"
     ]
    },
    {
     "name": "stderr",
     "output_type": "stream",
     "text": [
      "$KRC-H: possibly delisted; no timezone found\n",
      "$LBIX: possibly delisted; no price data found  (1d 2023-12-27 -> 2024-01-26)\n"
     ]
    },
    {
     "name": "stdout",
     "output_type": "stream",
     "text": [
      "Error fetching data for KRC-H: No historical data available for KRC-H around 2024-01-26.\n",
      "Error fetching data for LBIX: No historical data available for LBIX around 2024-01-26.\n"
     ]
    },
    {
     "name": "stderr",
     "output_type": "stream",
     "text": [
      "$SYBTP: possibly delisted; no price data found  (1d 2023-12-27 -> 2024-01-26)\n"
     ]
    },
    {
     "name": "stdout",
     "output_type": "stream",
     "text": [
      "Error fetching data for SYBTP: No historical data available for SYBTP around 2024-01-26.\n"
     ]
    },
    {
     "name": "stderr",
     "output_type": "stream",
     "text": [
      "$GTS: possibly delisted; no timezone found\n"
     ]
    },
    {
     "name": "stdout",
     "output_type": "stream",
     "text": [
      "Error fetching data for GTS: No historical data available for GTS around 2024-01-26.\n"
     ]
    },
    {
     "name": "stderr",
     "output_type": "stream",
     "text": [
      "$BWINB: possibly delisted; no price data found  (1d 2023-12-27 -> 2024-01-26)\n"
     ]
    },
    {
     "name": "stdout",
     "output_type": "stream",
     "text": [
      "Error fetching data for BWINB: No historical data available for BWINB around 2024-01-26.\n"
     ]
    },
    {
     "name": "stderr",
     "output_type": "stream",
     "text": [
      "$MSZ: possibly delisted; no timezone found\n"
     ]
    },
    {
     "name": "stdout",
     "output_type": "stream",
     "text": [
      "Error fetching data for MSZ: No historical data available for MSZ around 2024-01-26.\n"
     ]
    },
    {
     "name": "stderr",
     "output_type": "stream",
     "text": [
      "$BWC: possibly delisted; no timezone found\n",
      "$XCO: possibly delisted; no price data found  (1d 2023-12-27 -> 2024-01-26)\n"
     ]
    },
    {
     "name": "stdout",
     "output_type": "stream",
     "text": [
      "Error fetching data for BWC: No historical data available for BWC around 2024-01-26.\n",
      "Error fetching data for XCO: No historical data available for XCO around 2024-01-26.\n"
     ]
    },
    {
     "name": "stderr",
     "output_type": "stream",
     "text": [
      "$DLR-E: possibly delisted; no timezone found\n"
     ]
    },
    {
     "name": "stdout",
     "output_type": "stream",
     "text": [
      "Error fetching data for DLR-E: No historical data available for DLR-E around 2024-01-26.\n"
     ]
    },
    {
     "name": "stderr",
     "output_type": "stream",
     "text": [
      "$TCO-J: possibly delisted; no timezone found\n"
     ]
    },
    {
     "name": "stdout",
     "output_type": "stream",
     "text": [
      "Error fetching data for TCO-J: No historical data available for TCO-J around 2024-01-26.\n"
     ]
    },
    {
     "name": "stderr",
     "output_type": "stream",
     "text": [
      "$HCJ: possibly delisted; no timezone found\n"
     ]
    },
    {
     "name": "stdout",
     "output_type": "stream",
     "text": [
      "Error fetching data for HCJ: No historical data available for HCJ around 2024-01-26.\n"
     ]
    },
    {
     "name": "stderr",
     "output_type": "stream",
     "text": [
      "$KRA: possibly delisted; no timezone found\n"
     ]
    },
    {
     "name": "stdout",
     "output_type": "stream",
     "text": [
      "Error fetching data for KRA: No historical data available for KRA around 2024-01-26.\n"
     ]
    },
    {
     "name": "stderr",
     "output_type": "stream",
     "text": [
      "$XNY: possibly delisted; no price data found  (1d 2023-12-27 -> 2024-01-26)\n"
     ]
    },
    {
     "name": "stdout",
     "output_type": "stream",
     "text": [
      "Error fetching data for XNY: No historical data available for XNY around 2024-01-26.\n"
     ]
    },
    {
     "name": "stderr",
     "output_type": "stream",
     "text": [
      "$EIHI: possibly delisted; no price data found  (1d 2023-12-27 -> 2024-01-26)\n"
     ]
    },
    {
     "name": "stdout",
     "output_type": "stream",
     "text": [
      "Error fetching data for EIHI: No historical data available for EIHI around 2024-01-26.\n"
     ]
    },
    {
     "name": "stderr",
     "output_type": "stream",
     "text": [
      "$QIWI: possibly delisted; no price data found  (period=1d)\n"
     ]
    },
    {
     "name": "stdout",
     "output_type": "stream",
     "text": [
      "Error fetching data for QIWI: single positional indexer is out-of-bounds\n"
     ]
    },
    {
     "name": "stderr",
     "output_type": "stream",
     "text": [
      "$RPRXZ: possibly delisted; no timezone found\n"
     ]
    },
    {
     "name": "stdout",
     "output_type": "stream",
     "text": [
      "Error fetching data for RPRXZ: No historical data available for RPRXZ around 2024-01-26.\n"
     ]
    },
    {
     "name": "stderr",
     "output_type": "stream",
     "text": [
      "$CCH: possibly delisted; no timezone found\n"
     ]
    },
    {
     "name": "stdout",
     "output_type": "stream",
     "text": [
      "Error fetching data for CCH: No historical data available for CCH around 2024-01-26.\n"
     ]
    },
    {
     "name": "stderr",
     "output_type": "stream",
     "text": [
      "$C-P: possibly delisted; no timezone found\n"
     ]
    },
    {
     "name": "stdout",
     "output_type": "stream",
     "text": [
      "Error fetching data for C-P: No historical data available for C-P around 2024-01-26.\n"
     ]
    },
    {
     "name": "stderr",
     "output_type": "stream",
     "text": [
      "$RBS-R: possibly delisted; no timezone found\n"
     ]
    },
    {
     "name": "stdout",
     "output_type": "stream",
     "text": [
      "Error fetching data for RBS-R: No historical data available for RBS-R around 2024-01-26.\n"
     ]
    },
    {
     "name": "stderr",
     "output_type": "stream",
     "text": [
      "$IKNX: possibly delisted; no timezone found\n"
     ]
    },
    {
     "name": "stdout",
     "output_type": "stream",
     "text": [
      "Error fetching data for IKNX: No historical data available for IKNX around 2024-01-26.\n"
     ]
    },
    {
     "name": "stderr",
     "output_type": "stream",
     "text": [
      "$TASR: possibly delisted; no price data found  (1d 2023-12-27 -> 2024-01-26)\n"
     ]
    },
    {
     "name": "stdout",
     "output_type": "stream",
     "text": [
      "Error fetching data for TASR: No historical data available for TASR around 2024-01-26.\n"
     ]
    },
    {
     "name": "stderr",
     "output_type": "stream",
     "text": [
      "$TNP: possibly delisted; no timezone found\n",
      "$PRXL: possibly delisted; no price data found  (1d 2023-12-27 -> 2024-01-26)\n"
     ]
    },
    {
     "name": "stdout",
     "output_type": "stream",
     "text": [
      "Error fetching data for TNP: No historical data available for TNP around 2024-01-26.\n",
      "Error fetching data for PRXL: No historical data available for PRXL around 2024-01-26.\n"
     ]
    },
    {
     "name": "stderr",
     "output_type": "stream",
     "text": [
      "$COT: possibly delisted; no timezone found\n"
     ]
    },
    {
     "name": "stdout",
     "output_type": "stream",
     "text": [
      "Error fetching data for COT: No historical data available for COT around 2024-01-26.\n"
     ]
    },
    {
     "name": "stderr",
     "output_type": "stream",
     "text": [
      "$SLG-I: possibly delisted; no timezone found\n",
      "$PSTB: possibly delisted; no price data found  (1d 2023-12-27 -> 2024-01-26)\n"
     ]
    },
    {
     "name": "stdout",
     "output_type": "stream",
     "text": [
      "Error fetching data for SLG-I: No historical data available for SLG-I around 2024-01-26.\n",
      "Error fetching data for PSTB: No historical data available for PSTB around 2024-01-26.\n"
     ]
    },
    {
     "name": "stderr",
     "output_type": "stream",
     "text": [
      "$PVR: possibly delisted; no price data found  (1d 2023-12-27 -> 2024-01-26)\n"
     ]
    },
    {
     "name": "stdout",
     "output_type": "stream",
     "text": [
      "Error fetching data for PVR: No historical data available for PVR around 2024-01-26.\n"
     ]
    },
    {
     "name": "stderr",
     "output_type": "stream",
     "text": [
      "$SNH: possibly delisted; no timezone found\n"
     ]
    },
    {
     "name": "stdout",
     "output_type": "stream",
     "text": [
      "Error fetching data for SNH: No historical data available for SNH around 2024-01-26.\n"
     ]
    },
    {
     "name": "stderr",
     "output_type": "stream",
     "text": [
      "$POL: possibly delisted; no timezone found\n"
     ]
    },
    {
     "name": "stdout",
     "output_type": "stream",
     "text": [
      "Error fetching data for POL: No historical data available for POL around 2024-01-26.\n"
     ]
    },
    {
     "name": "stderr",
     "output_type": "stream",
     "text": [
      "$HCAP: possibly delisted; no timezone found\n",
      "$TMH: possibly delisted; no price data found  (1d 2023-12-27 -> 2024-01-26)\n"
     ]
    },
    {
     "name": "stdout",
     "output_type": "stream",
     "text": [
      "Error fetching data for HCAP: No historical data available for HCAP around 2024-01-26.\n",
      "Error fetching data for TMH: No historical data available for TMH around 2024-01-26.\n"
     ]
    },
    {
     "name": "stderr",
     "output_type": "stream",
     "text": [
      "$AUO: possibly delisted; no timezone found\n"
     ]
    },
    {
     "name": "stdout",
     "output_type": "stream",
     "text": [
      "Error fetching data for AUO: No historical data available for AUO around 2024-01-26.\n"
     ]
    },
    {
     "name": "stderr",
     "output_type": "stream",
     "text": [
      "$NNN-D: possibly delisted; no timezone found\n",
      "$FHCO: possibly delisted; no price data found  (1d 2023-12-27 -> 2024-01-26)\n"
     ]
    },
    {
     "name": "stdout",
     "output_type": "stream",
     "text": [
      "Error fetching data for NNN-D: No historical data available for NNN-D around 2024-01-26.\n",
      "Error fetching data for FHCO: No historical data available for FHCO around 2024-01-26.\n"
     ]
    },
    {
     "name": "stderr",
     "output_type": "stream",
     "text": [
      "$ZIXI: possibly delisted; no timezone found\n",
      "$NPP: possibly delisted; no price data found  (1d 2023-12-27 -> 2024-01-26)\n"
     ]
    },
    {
     "name": "stdout",
     "output_type": "stream",
     "text": [
      "Error fetching data for ZIXI: No historical data available for ZIXI around 2024-01-26.\n",
      "Error fetching data for NPP: No historical data available for NPP around 2024-01-26.\n"
     ]
    },
    {
     "name": "stderr",
     "output_type": "stream",
     "text": [
      "$NTG: possibly delisted; no price data found  (period=1d)\n",
      "$NRGM: possibly delisted; no price data found  (1d 2023-12-27 -> 2024-01-26)\n"
     ]
    },
    {
     "name": "stdout",
     "output_type": "stream",
     "text": [
      "Error fetching data for NTG: single positional indexer is out-of-bounds\n",
      "Error fetching data for NRGM: No historical data available for NRGM around 2024-01-26.\n"
     ]
    },
    {
     "name": "stderr",
     "output_type": "stream",
     "text": [
      "CVG: Period '1d' is invalid, must be one of ['1mo', '3mo', '6mo', 'ytd', '1y', '2y', '5y', '10y', 'max']\n"
     ]
    },
    {
     "name": "stdout",
     "output_type": "stream",
     "text": [
      "Error fetching data for CVG: single positional indexer is out-of-bounds\n"
     ]
    },
    {
     "name": "stderr",
     "output_type": "stream",
     "text": [
      "$MRH-A: possibly delisted; no timezone found\n"
     ]
    },
    {
     "name": "stdout",
     "output_type": "stream",
     "text": [
      "Error fetching data for MRH-A: No historical data available for MRH-A around 2024-01-26.\n"
     ]
    },
    {
     "name": "stderr",
     "output_type": "stream",
     "text": [
      "$STBZ: possibly delisted; no price data found  (1d 2023-12-27 -> 2024-01-26)\n"
     ]
    },
    {
     "name": "stdout",
     "output_type": "stream",
     "text": [
      "Error fetching data for STBZ: No historical data available for STBZ around 2024-01-26.\n"
     ]
    },
    {
     "name": "stderr",
     "output_type": "stream",
     "text": [
      "$TYN: possibly delisted; no timezone found\n"
     ]
    },
    {
     "name": "stdout",
     "output_type": "stream",
     "text": [
      "Error fetching data for TYN: No historical data available for TYN around 2024-01-26.\n"
     ]
    },
    {
     "name": "stderr",
     "output_type": "stream",
     "text": [
      "$ATW: possibly delisted; no price data found  (1d 2023-12-27 -> 2024-01-26)\n"
     ]
    },
    {
     "name": "stdout",
     "output_type": "stream",
     "text": [
      "Error fetching data for ATW: No historical data available for ATW around 2024-01-26.\n"
     ]
    },
    {
     "name": "stderr",
     "output_type": "stream",
     "text": [
      "$PPHM: possibly delisted; no price data found  (1d 2023-12-27 -> 2024-01-26)\n"
     ]
    },
    {
     "name": "stdout",
     "output_type": "stream",
     "text": [
      "Error fetching data for PPHM: No historical data available for PPHM around 2024-01-26.\n"
     ]
    },
    {
     "name": "stderr",
     "output_type": "stream",
     "text": [
      "$CEO: possibly delisted; no timezone found\n"
     ]
    },
    {
     "name": "stdout",
     "output_type": "stream",
     "text": [
      "Error fetching data for CEO: No historical data available for CEO around 2024-01-26.\n"
     ]
    },
    {
     "name": "stderr",
     "output_type": "stream",
     "text": [
      "$CZZ: possibly delisted; no timezone found\n"
     ]
    },
    {
     "name": "stdout",
     "output_type": "stream",
     "text": [
      "Error fetching data for CZZ: No historical data available for CZZ around 2024-01-26.\n"
     ]
    },
    {
     "name": "stderr",
     "output_type": "stream",
     "text": [
      "$CDR: possibly delisted; no timezone found\n"
     ]
    },
    {
     "name": "stdout",
     "output_type": "stream",
     "text": [
      "Error fetching data for CDR: No historical data available for CDR around 2024-01-26.\n"
     ]
    },
    {
     "name": "stderr",
     "output_type": "stream",
     "text": [
      "$TEU-C: possibly delisted; no timezone found\n",
      "$HJJ: possibly delisted; no price data found  (1d 2023-12-27 -> 2024-01-26)\n"
     ]
    },
    {
     "name": "stdout",
     "output_type": "stream",
     "text": [
      "Error fetching data for TEU-C: No historical data available for TEU-C around 2024-01-26.\n",
      "Error fetching data for HJJ: No historical data available for HJJ around 2024-01-26.\n"
     ]
    },
    {
     "name": "stderr",
     "output_type": "stream",
     "text": [
      "$PTP: possibly delisted; no price data found  (1d 2023-12-27 -> 2024-01-26)\n",
      "$VPFG: possibly delisted; no price data found  (1d 2023-12-27 -> 2024-01-26)\n"
     ]
    },
    {
     "name": "stdout",
     "output_type": "stream",
     "text": [
      "Error fetching data for PTP: No historical data available for PTP around 2024-01-26.\n",
      "Error fetching data for VPFG: No historical data available for VPFG around 2024-01-26.\n"
     ]
    },
    {
     "name": "stderr",
     "output_type": "stream",
     "text": [
      "$NTE: possibly delisted; no price data found  (1d 2023-12-27 -> 2024-01-26)\n"
     ]
    },
    {
     "name": "stdout",
     "output_type": "stream",
     "text": [
      "Error fetching data for NTE: No historical data available for NTE around 2024-01-26.\n"
     ]
    },
    {
     "name": "stderr",
     "output_type": "stream",
     "text": [
      "$HIIQ: possibly delisted; no timezone found\n",
      "$EFM: possibly delisted; no price data found  (1d 2023-12-27 -> 2024-01-26)\n"
     ]
    },
    {
     "name": "stdout",
     "output_type": "stream",
     "text": [
      "Error fetching data for HIIQ: No historical data available for HIIQ around 2024-01-26.\n",
      "Error fetching data for EFM: No historical data available for EFM around 2024-01-26.\n"
     ]
    },
    {
     "name": "stderr",
     "output_type": "stream",
     "text": [
      "$LHCG: possibly delisted; no timezone found\n"
     ]
    },
    {
     "name": "stdout",
     "output_type": "stream",
     "text": [
      "Error fetching data for LHCG: No historical data available for LHCG around 2024-01-26.\n"
     ]
    },
    {
     "name": "stderr",
     "output_type": "stream",
     "text": [
      "$EJ: possibly delisted; no price data found  (1d 2023-12-27 -> 2024-01-26)\n"
     ]
    },
    {
     "name": "stdout",
     "output_type": "stream",
     "text": [
      "Error fetching data for EJ: No historical data available for EJ around 2024-01-26.\n"
     ]
    },
    {
     "name": "stderr",
     "output_type": "stream",
     "text": [
      "$GDV-A: possibly delisted; no timezone found\n"
     ]
    },
    {
     "name": "stdout",
     "output_type": "stream",
     "text": [
      "Error fetching data for GDV-A: No historical data available for GDV-A around 2024-01-26.\n"
     ]
    },
    {
     "name": "stderr",
     "output_type": "stream",
     "text": [
      "$CTRL: possibly delisted; no timezone found\n",
      "$NMA: possibly delisted; no price data found  (1d 2023-12-27 -> 2024-01-26)\n"
     ]
    },
    {
     "name": "stdout",
     "output_type": "stream",
     "text": [
      "Error fetching data for CTRL: No historical data available for CTRL around 2024-01-26.\n",
      "Error fetching data for NMA: No historical data available for NMA around 2024-01-26.\n"
     ]
    },
    {
     "name": "stderr",
     "output_type": "stream",
     "text": [
      "$MWRX: possibly delisted; no timezone found\n"
     ]
    },
    {
     "name": "stdout",
     "output_type": "stream",
     "text": [
      "Error fetching data for MWRX: No historical data available for MWRX around 2024-01-26.\n"
     ]
    },
    {
     "name": "stderr",
     "output_type": "stream",
     "text": [
      "$CMA.W: possibly delisted; no timezone found\n"
     ]
    },
    {
     "name": "stdout",
     "output_type": "stream",
     "text": [
      "Error fetching data for CMA.W: No historical data available for CMA.W around 2024-01-26.\n"
     ]
    },
    {
     "name": "stderr",
     "output_type": "stream",
     "text": [
      "$BRCM: possibly delisted; no price data found  (1d 2023-12-27 -> 2024-01-26)\n",
      "$DRC: possibly delisted; no price data found  (1d 2023-12-27 -> 2024-01-26)\n"
     ]
    },
    {
     "name": "stdout",
     "output_type": "stream",
     "text": [
      "Error fetching data for BRCM: No historical data available for BRCM around 2024-01-26.\n",
      "Error fetching data for DRC: No historical data available for DRC around 2024-01-26.\n"
     ]
    },
    {
     "name": "stderr",
     "output_type": "stream",
     "text": [
      "$AEL: possibly delisted; no timezone found\n"
     ]
    },
    {
     "name": "stdout",
     "output_type": "stream",
     "text": [
      "Error fetching data for AEL: No historical data available for AEL around 2024-01-26.\n"
     ]
    },
    {
     "name": "stderr",
     "output_type": "stream",
     "text": [
      "$MYL: possibly delisted; no timezone found\n"
     ]
    },
    {
     "name": "stdout",
     "output_type": "stream",
     "text": [
      "Error fetching data for MYL: No historical data available for MYL around 2024-01-26.\n"
     ]
    },
    {
     "name": "stderr",
     "output_type": "stream",
     "text": [
      "$DISCA: possibly delisted; no timezone found\n"
     ]
    },
    {
     "name": "stdout",
     "output_type": "stream",
     "text": [
      "Error fetching data for DISCA: No historical data available for DISCA around 2024-01-26.\n"
     ]
    },
    {
     "name": "stderr",
     "output_type": "stream",
     "text": [
      "$ANLY: possibly delisted; no price data found  (1d 2023-12-27 -> 2024-01-26)\n"
     ]
    },
    {
     "name": "stdout",
     "output_type": "stream",
     "text": [
      "Error fetching data for ANLY: No historical data available for ANLY around 2024-01-26.\n"
     ]
    },
    {
     "name": "stderr",
     "output_type": "stream",
     "text": [
      "$HBMD: possibly delisted; no timezone found\n"
     ]
    },
    {
     "name": "stdout",
     "output_type": "stream",
     "text": [
      "Error fetching data for HBMD: No historical data available for HBMD around 2024-01-26.\n"
     ]
    },
    {
     "name": "stderr",
     "output_type": "stream",
     "text": [
      "$PCMI: possibly delisted; no timezone found\n"
     ]
    },
    {
     "name": "stdout",
     "output_type": "stream",
     "text": [
      "Error fetching data for PCMI: No historical data available for PCMI around 2024-01-26.\n"
     ]
    },
    {
     "name": "stderr",
     "output_type": "stream",
     "text": [
      "$NOR: possibly delisted; no price data found  (1d 2023-12-27 -> 2024-01-26)\n",
      "$UBIC: possibly delisted; no price data found  (1d 2023-12-27 -> 2024-01-26)\n"
     ]
    },
    {
     "name": "stdout",
     "output_type": "stream",
     "text": [
      "Error fetching data for NOR: No historical data available for NOR around 2024-01-26.\n",
      "Error fetching data for UBIC: No historical data available for UBIC around 2024-01-26.\n"
     ]
    },
    {
     "name": "stderr",
     "output_type": "stream",
     "text": [
      "$ADES: possibly delisted; no timezone found\n",
      "$TPGI: possibly delisted; no price data found  (1d 2023-12-27 -> 2024-01-26)\n"
     ]
    },
    {
     "name": "stdout",
     "output_type": "stream",
     "text": [
      "Error fetching data for ADES: No historical data available for ADES around 2024-01-26.\n",
      "Error fetching data for TPGI: No historical data available for TPGI around 2024-01-26.\n"
     ]
    },
    {
     "name": "stderr",
     "output_type": "stream",
     "text": [
      "$MER-M: possibly delisted; no timezone found\n"
     ]
    },
    {
     "name": "stdout",
     "output_type": "stream",
     "text": [
      "Error fetching data for MER-M: No historical data available for MER-M around 2024-01-26.\n"
     ]
    },
    {
     "name": "stderr",
     "output_type": "stream",
     "text": [
      "$CISAA: possibly delisted; no timezone found\n"
     ]
    },
    {
     "name": "stdout",
     "output_type": "stream",
     "text": [
      "Error fetching data for CISAA: No historical data available for CISAA around 2024-01-26.\n"
     ]
    },
    {
     "name": "stderr",
     "output_type": "stream",
     "text": [
      "$AMNB: possibly delisted; no timezone found\n",
      "$VOCS: possibly delisted; no price data found  (1d 2023-12-27 -> 2024-01-26)\n"
     ]
    },
    {
     "name": "stdout",
     "output_type": "stream",
     "text": [
      "Error fetching data for AMNB: No historical data available for AMNB around 2024-01-26.\n",
      "Error fetching data for VOCS: No historical data available for VOCS around 2024-01-26.\n"
     ]
    },
    {
     "name": "stderr",
     "output_type": "stream",
     "text": [
      "$HCN-J: possibly delisted; no timezone found\n"
     ]
    },
    {
     "name": "stdout",
     "output_type": "stream",
     "text": [
      "Error fetching data for HCN-J: No historical data available for HCN-J around 2024-01-26.\n"
     ]
    },
    {
     "name": "stderr",
     "output_type": "stream",
     "text": [
      "$EDG: possibly delisted; no price data found  (1d 2023-12-27 -> 2024-01-26)\n"
     ]
    },
    {
     "name": "stdout",
     "output_type": "stream",
     "text": [
      "Error fetching data for EDG: No historical data available for EDG around 2024-01-26.\n"
     ]
    },
    {
     "name": "stderr",
     "output_type": "stream",
     "text": [
      "$FFHL: possibly delisted; no timezone found\n"
     ]
    },
    {
     "name": "stdout",
     "output_type": "stream",
     "text": [
      "Error fetching data for FFHL: No historical data available for FFHL around 2024-01-26.\n"
     ]
    },
    {
     "name": "stderr",
     "output_type": "stream",
     "text": [
      "$MNK: possibly delisted; no timezone found\n"
     ]
    },
    {
     "name": "stdout",
     "output_type": "stream",
     "text": [
      "Error fetching data for MNK: No historical data available for MNK around 2024-01-26.\n"
     ]
    },
    {
     "name": "stderr",
     "output_type": "stream",
     "text": [
      "$CYOU: possibly delisted; no timezone found\n"
     ]
    },
    {
     "name": "stdout",
     "output_type": "stream",
     "text": [
      "Error fetching data for CYOU: No historical data available for CYOU around 2024-01-26.\n"
     ]
    },
    {
     "name": "stderr",
     "output_type": "stream",
     "text": [
      "$PZN: possibly delisted; no timezone found\n"
     ]
    },
    {
     "name": "stdout",
     "output_type": "stream",
     "text": [
      "Error fetching data for PZN: No historical data available for PZN around 2024-01-26.\n"
     ]
    },
    {
     "name": "stderr",
     "output_type": "stream",
     "text": [
      "$AVHI: possibly delisted; no timezone found\n"
     ]
    },
    {
     "name": "stdout",
     "output_type": "stream",
     "text": [
      "Error fetching data for AVHI: No historical data available for AVHI around 2024-01-26.\n"
     ]
    },
    {
     "name": "stderr",
     "output_type": "stream",
     "text": [
      "$FRX: possibly delisted; no timezone found\n"
     ]
    },
    {
     "name": "stdout",
     "output_type": "stream",
     "text": [
      "Error fetching data for FRX: No historical data available for FRX around 2024-01-26.\n"
     ]
    },
    {
     "name": "stderr",
     "output_type": "stream",
     "text": [
      "$GRA: possibly delisted; no timezone found\n"
     ]
    },
    {
     "name": "stdout",
     "output_type": "stream",
     "text": [
      "Error fetching data for GRA: No historical data available for GRA around 2024-01-26.\n"
     ]
    },
    {
     "name": "stderr",
     "output_type": "stream",
     "text": [
      "$NEE-H: possibly delisted; no timezone found\n"
     ]
    },
    {
     "name": "stdout",
     "output_type": "stream",
     "text": [
      "Error fetching data for NEE-H: No historical data available for NEE-H around 2024-01-26.\n"
     ]
    },
    {
     "name": "stderr",
     "output_type": "stream",
     "text": [
      "$REN: possibly delisted; no timezone found\n",
      "$YONG: possibly delisted; no price data found  (1d 2023-12-27 -> 2024-01-26)\n"
     ]
    },
    {
     "name": "stdout",
     "output_type": "stream",
     "text": [
      "Error fetching data for REN: No historical data available for REN around 2024-01-26.\n",
      "Error fetching data for YONG: No historical data available for YONG around 2024-01-26.\n"
     ]
    },
    {
     "name": "stderr",
     "output_type": "stream",
     "text": [
      "$GHL: possibly delisted; no timezone found\n"
     ]
    },
    {
     "name": "stdout",
     "output_type": "stream",
     "text": [
      "Error fetching data for GHL: No historical data available for GHL around 2024-01-26.\n"
     ]
    },
    {
     "name": "stderr",
     "output_type": "stream",
     "text": [
      "$UBS-D: possibly delisted; no timezone found\n",
      "$GIMO: possibly delisted; no price data found  (1d 2023-12-27 -> 2024-01-26)\n"
     ]
    },
    {
     "name": "stdout",
     "output_type": "stream",
     "text": [
      "Error fetching data for UBS-D: No historical data available for UBS-D around 2024-01-26.\n",
      "Error fetching data for GIMO: No historical data available for GIMO around 2024-01-26.\n"
     ]
    },
    {
     "name": "stderr",
     "output_type": "stream",
     "text": [
      "$N: possibly delisted; no price data found  (1d 2023-12-27 -> 2024-01-26)\n"
     ]
    },
    {
     "name": "stdout",
     "output_type": "stream",
     "text": [
      "Error fetching data for N: No historical data available for N around 2024-01-26.\n"
     ]
    },
    {
     "name": "stderr",
     "output_type": "stream",
     "text": [
      "$PCI: possibly delisted; no timezone found\n"
     ]
    },
    {
     "name": "stdout",
     "output_type": "stream",
     "text": [
      "Error fetching data for PCI: No historical data available for PCI around 2024-01-26.\n"
     ]
    },
    {
     "name": "stderr",
     "output_type": "stream",
     "text": [
      "$ARQL: possibly delisted; no timezone found\n"
     ]
    },
    {
     "name": "stdout",
     "output_type": "stream",
     "text": [
      "Error fetching data for ARQL: No historical data available for ARQL around 2024-01-26.\n"
     ]
    },
    {
     "name": "stderr",
     "output_type": "stream",
     "text": [
      "$BIF: possibly delisted; no timezone found\n"
     ]
    },
    {
     "name": "stdout",
     "output_type": "stream",
     "text": [
      "Error fetching data for BIF: No historical data available for BIF around 2024-01-26.\n"
     ]
    },
    {
     "name": "stderr",
     "output_type": "stream",
     "text": [
      "$XGTIW: possibly delisted; no timezone found\n"
     ]
    },
    {
     "name": "stdout",
     "output_type": "stream",
     "text": [
      "Error fetching data for XGTIW: No historical data available for XGTIW around 2024-01-26.\n"
     ]
    },
    {
     "name": "stderr",
     "output_type": "stream",
     "text": [
      "$ONXX: possibly delisted; no price data found  (1d 2023-12-27 -> 2024-01-26)\n"
     ]
    },
    {
     "name": "stdout",
     "output_type": "stream",
     "text": [
      "Error fetching data for ONXX: No historical data available for ONXX around 2024-01-26.\n"
     ]
    },
    {
     "name": "stderr",
     "output_type": "stream",
     "text": [
      "$GGP-A: possibly delisted; no timezone found\n"
     ]
    },
    {
     "name": "stdout",
     "output_type": "stream",
     "text": [
      "Error fetching data for GGP-A: No historical data available for GGP-A around 2024-01-26.\n"
     ]
    },
    {
     "name": "stderr",
     "output_type": "stream",
     "text": [
      "$QQQC: possibly delisted; no price data found  (1d 2023-12-27 -> 2024-01-26)\n"
     ]
    },
    {
     "name": "stdout",
     "output_type": "stream",
     "text": [
      "Error fetching data for QQQC: No historical data available for QQQC around 2024-01-26.\n"
     ]
    },
    {
     "name": "stderr",
     "output_type": "stream",
     "text": [
      "$NNN-E: possibly delisted; no timezone found\n"
     ]
    },
    {
     "name": "stdout",
     "output_type": "stream",
     "text": [
      "Error fetching data for NNN-E: No historical data available for NNN-E around 2024-01-26.\n"
     ]
    },
    {
     "name": "stderr",
     "output_type": "stream",
     "text": [
      "$ABR-PA: possibly delisted; no timezone found\n"
     ]
    },
    {
     "name": "stdout",
     "output_type": "stream",
     "text": [
      "Error fetching data for ABR-PA: No historical data available for ABR-PA around 2024-01-26.\n"
     ]
    },
    {
     "name": "stderr",
     "output_type": "stream",
     "text": [
      "$PERY: possibly delisted; no price data found  (1d 2023-12-27 -> 2024-01-26)\n",
      "$SUBK: possibly delisted; no price data found  (1d 2023-12-27 -> 2024-01-26)\n"
     ]
    },
    {
     "name": "stdout",
     "output_type": "stream",
     "text": [
      "Error fetching data for PERY: No historical data available for PERY around 2024-01-26.\n",
      "Error fetching data for SUBK: No historical data available for SUBK around 2024-01-26.\n"
     ]
    },
    {
     "name": "stderr",
     "output_type": "stream",
     "text": [
      "$IVR-A: possibly delisted; no timezone found\n"
     ]
    },
    {
     "name": "stdout",
     "output_type": "stream",
     "text": [
      "Error fetching data for IVR-A: No historical data available for IVR-A around 2024-01-26.\n"
     ]
    },
    {
     "name": "stderr",
     "output_type": "stream",
     "text": [
      "$PKD: possibly delisted; no timezone found\n"
     ]
    },
    {
     "name": "stdout",
     "output_type": "stream",
     "text": [
      "Error fetching data for PKD: No historical data available for PKD around 2024-01-26.\n"
     ]
    },
    {
     "name": "stderr",
     "output_type": "stream",
     "text": [
      "$PSA-U: possibly delisted; no timezone found\n"
     ]
    },
    {
     "name": "stdout",
     "output_type": "stream",
     "text": [
      "Error fetching data for PSA-U: No historical data available for PSA-U around 2024-01-26.\n"
     ]
    },
    {
     "name": "stderr",
     "output_type": "stream",
     "text": [
      "$FEIC: possibly delisted; no price data found  (1d 2023-12-27 -> 2024-01-26)\n"
     ]
    },
    {
     "name": "stdout",
     "output_type": "stream",
     "text": [
      "Error fetching data for FEIC: No historical data available for FEIC around 2024-01-26.\n"
     ]
    },
    {
     "name": "stderr",
     "output_type": "stream",
     "text": [
      "$GPT-A: possibly delisted; no timezone found\n"
     ]
    },
    {
     "name": "stdout",
     "output_type": "stream",
     "text": [
      "Error fetching data for GPT-A: No historical data available for GPT-A around 2024-01-26.\n"
     ]
    },
    {
     "name": "stderr",
     "output_type": "stream",
     "text": [
      "$ORIT: possibly delisted; no timezone found\n"
     ]
    },
    {
     "name": "stdout",
     "output_type": "stream",
     "text": [
      "Error fetching data for ORIT: No historical data available for ORIT around 2024-01-26.\n"
     ]
    },
    {
     "name": "stderr",
     "output_type": "stream",
     "text": [
      "$AFT: possibly delisted; no timezone found\n"
     ]
    },
    {
     "name": "stdout",
     "output_type": "stream",
     "text": [
      "Error fetching data for AFT: No historical data available for AFT around 2024-01-26.\n"
     ]
    },
    {
     "name": "stderr",
     "output_type": "stream",
     "text": [
      "$MNI: possibly delisted; no timezone found\n"
     ]
    },
    {
     "name": "stdout",
     "output_type": "stream",
     "text": [
      "Error fetching data for MNI: No historical data available for MNI around 2024-01-26.\n"
     ]
    },
    {
     "name": "stderr",
     "output_type": "stream",
     "text": [
      "$PETX: possibly delisted; no timezone found\n",
      "$AERL: possibly delisted; no price data found  (1d 2023-12-27 -> 2024-01-26)\n"
     ]
    },
    {
     "name": "stdout",
     "output_type": "stream",
     "text": [
      "Error fetching data for PETX: No historical data available for PETX around 2024-01-26.\n",
      "Error fetching data for AERL: No historical data available for AERL around 2024-01-26.\n"
     ]
    },
    {
     "name": "stderr",
     "output_type": "stream",
     "text": [
      "$MFL: possibly delisted; no timezone found\n",
      "$EVRY: possibly delisted; no price data found  (1d 2023-12-27 -> 2024-01-26)\n"
     ]
    },
    {
     "name": "stdout",
     "output_type": "stream",
     "text": [
      "Error fetching data for MFL: No historical data available for MFL around 2024-01-26.\n",
      "Error fetching data for EVRY: No historical data available for EVRY around 2024-01-26.\n"
     ]
    },
    {
     "name": "stderr",
     "output_type": "stream",
     "text": [
      "$SCH-B: possibly delisted; no timezone found\n",
      "$NCBC: possibly delisted; no price data found  (1d 2023-12-27 -> 2024-01-26)\n"
     ]
    },
    {
     "name": "stdout",
     "output_type": "stream",
     "text": [
      "Error fetching data for SCH-B: No historical data available for SCH-B around 2024-01-26.\n",
      "Error fetching data for NCBC: No historical data available for NCBC around 2024-01-26.\n"
     ]
    },
    {
     "name": "stderr",
     "output_type": "stream",
     "text": [
      "$SIMG: possibly delisted; no price data found  (1d 2023-12-27 -> 2024-01-26)\n"
     ]
    },
    {
     "name": "stdout",
     "output_type": "stream",
     "text": [
      "Error fetching data for SIMG: No historical data available for SIMG around 2024-01-26.\n"
     ]
    },
    {
     "name": "stderr",
     "output_type": "stream",
     "text": [
      "$SAI: possibly delisted; no timezone found\n"
     ]
    },
    {
     "name": "stdout",
     "output_type": "stream",
     "text": [
      "Error fetching data for SAI: No historical data available for SAI around 2024-01-26.\n"
     ]
    },
    {
     "name": "stderr",
     "output_type": "stream",
     "text": [
      "$JACQW: possibly delisted; no price data found  (1d 2023-12-27 -> 2024-01-26)\n",
      "$TRW: possibly delisted; no price data found  (1d 2023-12-27 -> 2024-01-26)\n"
     ]
    },
    {
     "name": "stdout",
     "output_type": "stream",
     "text": [
      "Error fetching data for JACQW: No historical data available for JACQW around 2024-01-26.\n",
      "Error fetching data for TRW: No historical data available for TRW around 2024-01-26.\n"
     ]
    },
    {
     "name": "stderr",
     "output_type": "stream",
     "text": [
      "$TECUA: possibly delisted; no price data found  (1d 2023-12-27 -> 2024-01-26)\n",
      "$EMDI: possibly delisted; no price data found  (1d 2023-12-27 -> 2024-01-26)\n"
     ]
    },
    {
     "name": "stdout",
     "output_type": "stream",
     "text": [
      "Error fetching data for TECUA: No historical data available for TECUA around 2024-01-26.\n",
      "Error fetching data for EMDI: No historical data available for EMDI around 2024-01-26.\n"
     ]
    },
    {
     "name": "stderr",
     "output_type": "stream",
     "text": [
      "$CTB: possibly delisted; no timezone found\n"
     ]
    },
    {
     "name": "stdout",
     "output_type": "stream",
     "text": [
      "Error fetching data for CTB: No historical data available for CTB around 2024-01-26.\n"
     ]
    },
    {
     "name": "stderr",
     "output_type": "stream",
     "text": [
      "$ESIO: possibly delisted; no price data found  (1d 2023-12-27 -> 2024-01-26)\n",
      "$ADNC: possibly delisted; no price data found  (1d 2023-12-27 -> 2024-01-26)\n"
     ]
    },
    {
     "name": "stdout",
     "output_type": "stream",
     "text": [
      "Error fetching data for ESIO: No historical data available for ESIO around 2024-01-26.\n",
      "Error fetching data for ADNC: No historical data available for ADNC around 2024-01-26.\n"
     ]
    },
    {
     "name": "stderr",
     "output_type": "stream",
     "text": [
      "429 Client Error: Too Many Requests for url: https://query2.finance.yahoo.com/v10/finance/quoteSummary/CHMG?modules=financialData%2CquoteType%2CdefaultKeyStatistics%2CassetProfile%2CsummaryDetail&corsDomain=finance.yahoo.com&formatted=false&symbol=CHMG&crumb=Edge%3A+Too+Many+Requests\n",
      "429 Client Error: Too Many Requests for url: https://query2.finance.yahoo.com/v10/finance/quoteSummary/CHMG?modules=financialData%2CquoteType%2CdefaultKeyStatistics%2CassetProfile%2CsummaryDetail&corsDomain=finance.yahoo.com&formatted=false&symbol=CHMG&crumb=Edge%3A+Too+Many+Requests\n",
      "$CMSB: possibly delisted; no price data found  (1d 2023-12-27 -> 2024-01-26)\n"
     ]
    },
    {
     "name": "stdout",
     "output_type": "stream",
     "text": [
      "Error fetching data for CMSB: No historical data available for CMSB around 2024-01-26.\n"
     ]
    },
    {
     "name": "stderr",
     "output_type": "stream",
     "text": [
      "$FDS: possibly delisted; no price data found  (1d 2023-12-27 -> 2024-01-26)\n"
     ]
    },
    {
     "name": "stdout",
     "output_type": "stream",
     "text": [
      "Error fetching data for FDS: No historical data available for FDS around 2024-01-26.\n"
     ]
    },
    {
     "name": "stderr",
     "output_type": "stream",
     "text": [
      "$KKD: possibly delisted; no price data found  (1d 2023-12-27 -> 2024-01-26)\n"
     ]
    },
    {
     "name": "stdout",
     "output_type": "stream",
     "text": [
      "Error fetching data for KKD: No historical data available for KKD around 2024-01-26.\n"
     ]
    },
    {
     "name": "stderr",
     "output_type": "stream",
     "text": [
      "$ALDW: possibly delisted; no price data found  (1d 2023-12-27 -> 2024-01-26)\n"
     ]
    },
    {
     "name": "stdout",
     "output_type": "stream",
     "text": [
      "Error fetching data for ALDW: No historical data available for ALDW around 2024-01-26.\n"
     ]
    },
    {
     "name": "stderr",
     "output_type": "stream",
     "text": [
      "Failed to get ticker 'NTCT' reason: Expecting value: line 1 column 1 (char 0)\n",
      "$NTCT: possibly delisted; no timezone found\n"
     ]
    },
    {
     "name": "stdout",
     "output_type": "stream",
     "text": [
      "Error fetching data for NTCT: No historical data available for NTCT around 2024-01-26.\n"
     ]
    },
    {
     "name": "stderr",
     "output_type": "stream",
     "text": [
      "$FMO: possibly delisted; no price data found  (1d 2023-12-27 -> 2024-01-26)\n"
     ]
    },
    {
     "name": "stdout",
     "output_type": "stream",
     "text": [
      "Error fetching data for FMO: No historical data available for FMO around 2024-01-26.\n"
     ]
    },
    {
     "name": "stderr",
     "output_type": "stream",
     "text": [
      "$AIR: possibly delisted; no price data found  (1d 2023-12-27 -> 2024-01-26)\n"
     ]
    },
    {
     "name": "stdout",
     "output_type": "stream",
     "text": [
      "Error fetching data for AIR: No historical data available for AIR around 2024-01-26.\n"
     ]
    },
    {
     "name": "stderr",
     "output_type": "stream",
     "text": [
      "Failed to get ticker 'WMGI' reason: Expecting value: line 1 column 1 (char 0)\n",
      "$WMGI: possibly delisted; no timezone found\n"
     ]
    },
    {
     "name": "stdout",
     "output_type": "stream",
     "text": [
      "Error fetching data for WMGI: No historical data available for WMGI around 2024-01-26.\n"
     ]
    },
    {
     "name": "stderr",
     "output_type": "stream",
     "text": [
      "Failed to get ticker 'BKEPP' reason: Expecting value: line 1 column 1 (char 0)\n",
      "$BKEPP: possibly delisted; no timezone found\n"
     ]
    },
    {
     "name": "stdout",
     "output_type": "stream",
     "text": [
      "Error fetching data for BKEPP: No historical data available for BKEPP around 2024-01-26.\n"
     ]
    },
    {
     "name": "stderr",
     "output_type": "stream",
     "text": [
      "$LNC: possibly delisted; no price data found  (1d 2023-12-27 -> 2024-01-26)\n"
     ]
    },
    {
     "name": "stdout",
     "output_type": "stream",
     "text": [
      "Error fetching data for LNC: No historical data available for LNC around 2024-01-26.\n"
     ]
    },
    {
     "name": "stderr",
     "output_type": "stream",
     "text": [
      "Failed to get ticker 'PACQ' reason: Expecting value: line 1 column 1 (char 0)\n",
      "$PACQ: possibly delisted; no timezone found\n"
     ]
    },
    {
     "name": "stdout",
     "output_type": "stream",
     "text": [
      "Error fetching data for PACQ: No historical data available for PACQ around 2024-01-26.\n"
     ]
    },
    {
     "name": "stderr",
     "output_type": "stream",
     "text": [
      "Failed to get ticker 'FONE' reason: Expecting value: line 1 column 1 (char 0)\n",
      "$FONE: possibly delisted; no timezone found\n"
     ]
    },
    {
     "name": "stdout",
     "output_type": "stream",
     "text": [
      "Error fetching data for FONE: No historical data available for FONE around 2024-01-26.\n"
     ]
    },
    {
     "name": "stderr",
     "output_type": "stream",
     "text": [
      "$FORM: possibly delisted; no price data found  (1d 2023-12-27 -> 2024-01-26)\n"
     ]
    },
    {
     "name": "stdout",
     "output_type": "stream",
     "text": [
      "Error fetching data for FORM: No historical data available for FORM around 2024-01-26.\n"
     ]
    },
    {
     "name": "stderr",
     "output_type": "stream",
     "text": [
      "Failed to get ticker 'GRT-G' reason: Expecting value: line 1 column 1 (char 0)\n",
      "$GRT-G: possibly delisted; no timezone found\n"
     ]
    },
    {
     "name": "stdout",
     "output_type": "stream",
     "text": [
      "Error fetching data for GRT-G: No historical data available for GRT-G around 2024-01-26.\n"
     ]
    },
    {
     "name": "stderr",
     "output_type": "stream",
     "text": [
      "$RGDX: possibly delisted; no price data found  (1d 2023-12-27 -> 2024-01-26)\n"
     ]
    },
    {
     "name": "stdout",
     "output_type": "stream",
     "text": [
      "Error fetching data for RGDX: No historical data available for RGDX around 2024-01-26.\n"
     ]
    },
    {
     "name": "stderr",
     "output_type": "stream",
     "text": [
      "Failed to get ticker 'MMP' reason: Expecting value: line 1 column 1 (char 0)\n",
      "$MMP: possibly delisted; no timezone found\n"
     ]
    },
    {
     "name": "stdout",
     "output_type": "stream",
     "text": [
      "Error fetching data for MMP: No historical data available for MMP around 2024-01-26.\n"
     ]
    },
    {
     "name": "stderr",
     "output_type": "stream",
     "text": [
      "$RM: possibly delisted; no price data found  (1d 2023-12-27 -> 2024-01-26)\n"
     ]
    },
    {
     "name": "stdout",
     "output_type": "stream",
     "text": [
      "Error fetching data for RM: No historical data available for RM around 2024-01-26.\n"
     ]
    },
    {
     "name": "stderr",
     "output_type": "stream",
     "text": [
      "$UTIW: possibly delisted; no price data found  (1d 2023-12-27 -> 2024-01-26)\n"
     ]
    },
    {
     "name": "stdout",
     "output_type": "stream",
     "text": [
      "Error fetching data for UTIW: No historical data available for UTIW around 2024-01-26.\n"
     ]
    },
    {
     "name": "stderr",
     "output_type": "stream",
     "text": [
      "Failed to get ticker 'NPV' reason: Expecting value: line 1 column 1 (char 0)\n",
      "$NPV: possibly delisted; no timezone found\n"
     ]
    },
    {
     "name": "stdout",
     "output_type": "stream",
     "text": [
      "Error fetching data for NPV: No historical data available for NPV around 2024-01-26.\n"
     ]
    },
    {
     "name": "stderr",
     "output_type": "stream",
     "text": [
      "$AVG: possibly delisted; no price data found  (1d 2023-12-27 -> 2024-01-26)\n"
     ]
    },
    {
     "name": "stdout",
     "output_type": "stream",
     "text": [
      "Error fetching data for AVG: No historical data available for AVG around 2024-01-26.\n"
     ]
    },
    {
     "name": "stderr",
     "output_type": "stream",
     "text": [
      "Failed to get ticker 'AUY' reason: Expecting value: line 1 column 1 (char 0)\n",
      "$AUY: possibly delisted; no timezone found\n"
     ]
    },
    {
     "name": "stdout",
     "output_type": "stream",
     "text": [
      "Error fetching data for AUY: No historical data available for AUY around 2024-01-26.\n"
     ]
    },
    {
     "name": "stderr",
     "output_type": "stream",
     "text": [
      "$BCR: possibly delisted; no price data found  (1d 2023-12-27 -> 2024-01-26)\n"
     ]
    },
    {
     "name": "stdout",
     "output_type": "stream",
     "text": [
      "Error fetching data for BCR: No historical data available for BCR around 2024-01-26.\n"
     ]
    },
    {
     "name": "stderr",
     "output_type": "stream",
     "text": [
      "Failed to get ticker 'TPRE' reason: Expecting value: line 1 column 1 (char 0)\n",
      "$TPRE: possibly delisted; no timezone found\n"
     ]
    },
    {
     "name": "stdout",
     "output_type": "stream",
     "text": [
      "Error fetching data for TPRE: No historical data available for TPRE around 2024-01-26.\n"
     ]
    },
    {
     "name": "stderr",
     "output_type": "stream",
     "text": [
      "$FC: possibly delisted; no price data found  (1d 2023-12-27 -> 2024-01-26)\n"
     ]
    },
    {
     "name": "stdout",
     "output_type": "stream",
     "text": [
      "Error fetching data for FC: No historical data available for FC around 2024-01-26.\n"
     ]
    },
    {
     "name": "stderr",
     "output_type": "stream",
     "text": [
      "$FEFN: possibly delisted; no price data found  (1d 2023-12-27 -> 2024-01-26)\n"
     ]
    },
    {
     "name": "stdout",
     "output_type": "stream",
     "text": [
      "Error fetching data for FEFN: No historical data available for FEFN around 2024-01-26.\n"
     ]
    },
    {
     "name": "stderr",
     "output_type": "stream",
     "text": [
      "$TK: possibly delisted; no price data found  (1d 2023-12-27 -> 2024-01-26)\n"
     ]
    },
    {
     "name": "stdout",
     "output_type": "stream",
     "text": [
      "Error fetching data for TK: No historical data available for TK around 2024-01-26.\n"
     ]
    },
    {
     "name": "stderr",
     "output_type": "stream",
     "text": [
      "Failed to get ticker 'HSB-B' reason: Expecting value: line 1 column 1 (char 0)\n",
      "$HSB-B: possibly delisted; no timezone found\n"
     ]
    },
    {
     "name": "stdout",
     "output_type": "stream",
     "text": [
      "Error fetching data for HSB-B: No historical data available for HSB-B around 2024-01-26.\n"
     ]
    },
    {
     "name": "stderr",
     "output_type": "stream",
     "text": [
      "$CVS: possibly delisted; no price data found  (1d 2023-12-27 -> 2024-01-26)\n"
     ]
    },
    {
     "name": "stdout",
     "output_type": "stream",
     "text": [
      "Error fetching data for CVS: No historical data available for CVS around 2024-01-26.\n"
     ]
    },
    {
     "name": "stderr",
     "output_type": "stream",
     "text": [
      "$STEI: possibly delisted; no price data found  (1d 2023-12-27 -> 2024-01-26)\n"
     ]
    },
    {
     "name": "stdout",
     "output_type": "stream",
     "text": [
      "Error fetching data for STEI: No historical data available for STEI around 2024-01-26.\n"
     ]
    },
    {
     "name": "stderr",
     "output_type": "stream",
     "text": [
      "Failed to get ticker 'JPM' reason: Expecting value: line 1 column 1 (char 0)\n",
      "$JPM: possibly delisted; no timezone found\n"
     ]
    },
    {
     "name": "stdout",
     "output_type": "stream",
     "text": [
      "Error fetching data for JPM: No historical data available for JPM around 2024-01-26.\n"
     ]
    },
    {
     "name": "stderr",
     "output_type": "stream",
     "text": [
      "Failed to get ticker 'MOSY' reason: Expecting value: line 1 column 1 (char 0)\n",
      "$MOSY: possibly delisted; no timezone found\n"
     ]
    },
    {
     "name": "stdout",
     "output_type": "stream",
     "text": [
      "Error fetching data for MOSY: No historical data available for MOSY around 2024-01-26.\n"
     ]
    },
    {
     "name": "stderr",
     "output_type": "stream",
     "text": [
      "$GILD: possibly delisted; no price data found  (1d 2023-12-27 -> 2024-01-26)\n"
     ]
    },
    {
     "name": "stdout",
     "output_type": "stream",
     "text": [
      "Error fetching data for GILD: No historical data available for GILD around 2024-01-26.\n"
     ]
    },
    {
     "name": "stderr",
     "output_type": "stream",
     "text": [
      "$IFT: possibly delisted; no price data found  (1d 2023-12-27 -> 2024-01-26)\n"
     ]
    },
    {
     "name": "stdout",
     "output_type": "stream",
     "text": [
      "Error fetching data for IFT: No historical data available for IFT around 2024-01-26.\n"
     ]
    },
    {
     "name": "stderr",
     "output_type": "stream",
     "text": [
      "Failed to get ticker 'TNK' reason: Expecting value: line 1 column 1 (char 0)\n",
      "$TNK: possibly delisted; no timezone found\n"
     ]
    },
    {
     "name": "stdout",
     "output_type": "stream",
     "text": [
      "Error fetching data for TNK: No historical data available for TNK around 2024-01-26.\n"
     ]
    },
    {
     "name": "stderr",
     "output_type": "stream",
     "text": [
      "$TSI: possibly delisted; no price data found  (1d 2023-12-27 -> 2024-01-26)\n"
     ]
    },
    {
     "name": "stdout",
     "output_type": "stream",
     "text": [
      "Error fetching data for TSI: No historical data available for TSI around 2024-01-26.\n"
     ]
    },
    {
     "name": "stderr",
     "output_type": "stream",
     "text": [
      "Failed to get ticker 'HPP-B' reason: Expecting value: line 1 column 1 (char 0)\n",
      "$HPP-B: possibly delisted; no timezone found\n"
     ]
    },
    {
     "name": "stdout",
     "output_type": "stream",
     "text": [
      "Error fetching data for HPP-B: No historical data available for HPP-B around 2024-01-26.\n"
     ]
    },
    {
     "name": "stderr",
     "output_type": "stream",
     "text": [
      "$EXR: possibly delisted; no price data found  (1d 2023-12-27 -> 2024-01-26)\n"
     ]
    },
    {
     "name": "stdout",
     "output_type": "stream",
     "text": [
      "Error fetching data for EXR: No historical data available for EXR around 2024-01-26.\n"
     ]
    },
    {
     "name": "stderr",
     "output_type": "stream",
     "text": [
      "Failed to get ticker 'OIIM' reason: Expecting value: line 1 column 1 (char 0)\n",
      "$OIIM: possibly delisted; no timezone found\n"
     ]
    },
    {
     "name": "stdout",
     "output_type": "stream",
     "text": [
      "Error fetching data for OIIM: No historical data available for OIIM around 2024-01-26.\n"
     ]
    },
    {
     "name": "stderr",
     "output_type": "stream",
     "text": [
      "$FAF: possibly delisted; no price data found  (1d 2023-12-27 -> 2024-01-26)\n"
     ]
    },
    {
     "name": "stdout",
     "output_type": "stream",
     "text": [
      "Error fetching data for FAF: No historical data available for FAF around 2024-01-26.\n"
     ]
    },
    {
     "name": "stderr",
     "output_type": "stream",
     "text": [
      "$COR: possibly delisted; no price data found  (1d 2023-12-27 -> 2024-01-26)\n"
     ]
    },
    {
     "name": "stdout",
     "output_type": "stream",
     "text": [
      "Error fetching data for COR: No historical data available for COR around 2024-01-26.\n"
     ]
    },
    {
     "name": "stderr",
     "output_type": "stream",
     "text": [
      "Failed to get ticker 'RPXC' reason: Expecting value: line 1 column 1 (char 0)\n",
      "$RPXC: possibly delisted; no timezone found\n"
     ]
    },
    {
     "name": "stdout",
     "output_type": "stream",
     "text": [
      "Error fetching data for RPXC: No historical data available for RPXC around 2024-01-26.\n"
     ]
    },
    {
     "name": "stderr",
     "output_type": "stream",
     "text": [
      "$WVFC: possibly delisted; no price data found  (1d 2023-12-27 -> 2024-01-26)\n"
     ]
    },
    {
     "name": "stdout",
     "output_type": "stream",
     "text": [
      "Error fetching data for WVFC: No historical data available for WVFC around 2024-01-26.\n"
     ]
    },
    {
     "name": "stderr",
     "output_type": "stream",
     "text": [
      "$BOXC: possibly delisted; no price data found  (1d 2023-12-27 -> 2024-01-26)\n"
     ]
    },
    {
     "name": "stdout",
     "output_type": "stream",
     "text": [
      "Error fetching data for BOXC: No historical data available for BOXC around 2024-01-26.\n"
     ]
    },
    {
     "name": "stderr",
     "output_type": "stream",
     "text": [
      "$ADT: possibly delisted; no price data found  (1d 2023-12-27 -> 2024-01-26)\n"
     ]
    },
    {
     "name": "stdout",
     "output_type": "stream",
     "text": [
      "Error fetching data for ADT: No historical data available for ADT around 2024-01-26.\n"
     ]
    },
    {
     "name": "stderr",
     "output_type": "stream",
     "text": [
      "$THFF: possibly delisted; no price data found  (1d 2023-12-27 -> 2024-01-26)\n"
     ]
    },
    {
     "name": "stdout",
     "output_type": "stream",
     "text": [
      "Error fetching data for THFF: No historical data available for THFF around 2024-01-26.\n"
     ]
    },
    {
     "name": "stderr",
     "output_type": "stream",
     "text": [
      "Failed to get ticker 'MTB.W' reason: Expecting value: line 1 column 1 (char 0)\n",
      "$MTB.W: possibly delisted; no timezone found\n"
     ]
    },
    {
     "name": "stdout",
     "output_type": "stream",
     "text": [
      "Error fetching data for MTB.W: No historical data available for MTB.W around 2024-01-26.\n"
     ]
    },
    {
     "name": "stderr",
     "output_type": "stream",
     "text": [
      "Failed to get ticker 'PGTI' reason: Expecting value: line 1 column 1 (char 0)\n",
      "$PGTI: possibly delisted; no timezone found\n"
     ]
    },
    {
     "name": "stdout",
     "output_type": "stream",
     "text": [
      "Error fetching data for PGTI: No historical data available for PGTI around 2024-01-26.\n"
     ]
    },
    {
     "name": "stderr",
     "output_type": "stream",
     "text": [
      "$SLTM: possibly delisted; no price data found  (1d 2023-12-27 -> 2024-01-26)\n"
     ]
    },
    {
     "name": "stdout",
     "output_type": "stream",
     "text": [
      "Error fetching data for SLTM: No historical data available for SLTM around 2024-01-26.\n"
     ]
    },
    {
     "name": "stderr",
     "output_type": "stream",
     "text": [
      "Failed to get ticker 'FICO' reason: Expecting value: line 1 column 1 (char 0)\n",
      "$FICO: possibly delisted; no timezone found\n"
     ]
    },
    {
     "name": "stdout",
     "output_type": "stream",
     "text": [
      "Error fetching data for FICO: No historical data available for FICO around 2024-01-26.\n"
     ]
    },
    {
     "name": "stderr",
     "output_type": "stream",
     "text": [
      "Failed to get ticker 'CUB-A' reason: Expecting value: line 1 column 1 (char 0)\n",
      "$CUB-A: possibly delisted; no timezone found\n"
     ]
    },
    {
     "name": "stdout",
     "output_type": "stream",
     "text": [
      "Error fetching data for CUB-A: No historical data available for CUB-A around 2024-01-26.\n"
     ]
    },
    {
     "name": "stderr",
     "output_type": "stream",
     "text": [
      "Failed to get ticker 'IRDMZ' reason: Expecting value: line 1 column 1 (char 0)\n",
      "$IRDMZ: possibly delisted; no timezone found\n"
     ]
    },
    {
     "name": "stdout",
     "output_type": "stream",
     "text": [
      "Error fetching data for IRDMZ: No historical data available for IRDMZ around 2024-01-26.\n"
     ]
    },
    {
     "name": "stderr",
     "output_type": "stream",
     "text": [
      "Failed to get ticker 'AFC' reason: Expecting value: line 1 column 1 (char 0)\n",
      "$AFC: possibly delisted; no timezone found\n"
     ]
    },
    {
     "name": "stdout",
     "output_type": "stream",
     "text": [
      "Error fetching data for AFC: No historical data available for AFC around 2024-01-26.\n"
     ]
    },
    {
     "name": "stderr",
     "output_type": "stream",
     "text": [
      "Failed to get ticker 'COLB' reason: Expecting value: line 1 column 1 (char 0)\n",
      "$COLB: possibly delisted; no timezone found\n"
     ]
    },
    {
     "name": "stdout",
     "output_type": "stream",
     "text": [
      "Error fetching data for COLB: No historical data available for COLB around 2024-01-26.\n"
     ]
    },
    {
     "name": "stderr",
     "output_type": "stream",
     "text": [
      "$FINL: possibly delisted; no price data found  (1d 2023-12-27 -> 2024-01-26)\n"
     ]
    },
    {
     "name": "stdout",
     "output_type": "stream",
     "text": [
      "Error fetching data for FINL: No historical data available for FINL around 2024-01-26.\n"
     ]
    },
    {
     "name": "stderr",
     "output_type": "stream",
     "text": [
      "$ACAS: possibly delisted; no price data found  (1d 2023-12-27 -> 2024-01-26)\n"
     ]
    },
    {
     "name": "stdout",
     "output_type": "stream",
     "text": [
      "Error fetching data for ACAS: No historical data available for ACAS around 2024-01-26.\n"
     ]
    },
    {
     "name": "stderr",
     "output_type": "stream",
     "text": [
      "Failed to get ticker 'STL' reason: Expecting value: line 1 column 1 (char 0)\n",
      "$STL: possibly delisted; no timezone found\n"
     ]
    },
    {
     "name": "stdout",
     "output_type": "stream",
     "text": [
      "Error fetching data for STL: No historical data available for STL around 2024-01-26.\n"
     ]
    },
    {
     "name": "stderr",
     "output_type": "stream",
     "text": [
      "$HME: possibly delisted; no price data found  (1d 2023-12-27 -> 2024-01-26)\n"
     ]
    },
    {
     "name": "stdout",
     "output_type": "stream",
     "text": [
      "Error fetching data for HME: No historical data available for HME around 2024-01-26.\n"
     ]
    },
    {
     "name": "stderr",
     "output_type": "stream",
     "text": [
      "Failed to get ticker 'CGIX' reason: Expecting value: line 1 column 1 (char 0)\n",
      "$CGIX: possibly delisted; no timezone found\n"
     ]
    },
    {
     "name": "stdout",
     "output_type": "stream",
     "text": [
      "Error fetching data for CGIX: No historical data available for CGIX around 2024-01-26.\n"
     ]
    },
    {
     "name": "stderr",
     "output_type": "stream",
     "text": [
      "$EL: possibly delisted; no price data found  (1d 2023-12-27 -> 2024-01-26)\n"
     ]
    },
    {
     "name": "stdout",
     "output_type": "stream",
     "text": [
      "Error fetching data for EL: No historical data available for EL around 2024-01-26.\n"
     ]
    },
    {
     "name": "stderr",
     "output_type": "stream",
     "text": [
      "$BANF: possibly delisted; no price data found  (1d 2023-12-27 -> 2024-01-26)\n"
     ]
    },
    {
     "name": "stdout",
     "output_type": "stream",
     "text": [
      "Error fetching data for BANF: No historical data available for BANF around 2024-01-26.\n"
     ]
    },
    {
     "name": "stderr",
     "output_type": "stream",
     "text": [
      "$APAM: possibly delisted; no price data found  (1d 2023-12-27 -> 2024-01-26)\n"
     ]
    },
    {
     "name": "stdout",
     "output_type": "stream",
     "text": [
      "Error fetching data for APAM: No historical data available for APAM around 2024-01-26.\n"
     ]
    },
    {
     "name": "stderr",
     "output_type": "stream",
     "text": [
      "Failed to get ticker 'CWH-E' reason: Expecting value: line 1 column 1 (char 0)\n",
      "$CWH-E: possibly delisted; no timezone found\n"
     ]
    },
    {
     "name": "stdout",
     "output_type": "stream",
     "text": [
      "Error fetching data for CWH-E: No historical data available for CWH-E around 2024-01-26.\n"
     ]
    },
    {
     "name": "stderr",
     "output_type": "stream",
     "text": [
      "$CBI: possibly delisted; no price data found  (1d 2023-12-27 -> 2024-01-26)\n"
     ]
    },
    {
     "name": "stdout",
     "output_type": "stream",
     "text": [
      "Error fetching data for CBI: No historical data available for CBI around 2024-01-26.\n"
     ]
    },
    {
     "name": "stderr",
     "output_type": "stream",
     "text": [
      "$SIG: possibly delisted; no price data found  (1d 2023-12-27 -> 2024-01-26)\n"
     ]
    },
    {
     "name": "stdout",
     "output_type": "stream",
     "text": [
      "Error fetching data for SIG: No historical data available for SIG around 2024-01-26.\n"
     ]
    },
    {
     "name": "stderr",
     "output_type": "stream",
     "text": [
      "Failed to get ticker 'LAND' reason: Expecting value: line 1 column 1 (char 0)\n",
      "$LAND: possibly delisted; no timezone found\n"
     ]
    },
    {
     "name": "stdout",
     "output_type": "stream",
     "text": [
      "Error fetching data for LAND: No historical data available for LAND around 2024-01-26.\n"
     ]
    },
    {
     "name": "stderr",
     "output_type": "stream",
     "text": [
      "Failed to get ticker 'FIO' reason: Expecting value: line 1 column 1 (char 0)\n",
      "$FIO: possibly delisted; no timezone found\n"
     ]
    },
    {
     "name": "stdout",
     "output_type": "stream",
     "text": [
      "Error fetching data for FIO: No historical data available for FIO around 2024-01-26.\n"
     ]
    },
    {
     "name": "stderr",
     "output_type": "stream",
     "text": [
      "Failed to get ticker 'SLCA' reason: Expecting value: line 1 column 1 (char 0)\n",
      "$SLCA: possibly delisted; no timezone found\n"
     ]
    },
    {
     "name": "stdout",
     "output_type": "stream",
     "text": [
      "Error fetching data for SLCA: No historical data available for SLCA around 2024-01-26.\n"
     ]
    },
    {
     "name": "stderr",
     "output_type": "stream",
     "text": [
      "Failed to get ticker 'BRE-D' reason: Expecting value: line 1 column 1 (char 0)\n",
      "$BRE-D: possibly delisted; no timezone found\n"
     ]
    },
    {
     "name": "stdout",
     "output_type": "stream",
     "text": [
      "Error fetching data for BRE-D: No historical data available for BRE-D around 2024-01-26.\n"
     ]
    },
    {
     "name": "stderr",
     "output_type": "stream",
     "text": [
      "$COP: possibly delisted; no price data found  (1d 2023-12-27 -> 2024-01-26)\n"
     ]
    },
    {
     "name": "stdout",
     "output_type": "stream",
     "text": [
      "Error fetching data for COP: No historical data available for COP around 2024-01-26.\n"
     ]
    },
    {
     "name": "stderr",
     "output_type": "stream",
     "text": [
      "$SFST: possibly delisted; no price data found  (1d 2023-12-27 -> 2024-01-26)\n"
     ]
    },
    {
     "name": "stdout",
     "output_type": "stream",
     "text": [
      "Error fetching data for SFST: No historical data available for SFST around 2024-01-26.\n"
     ]
    },
    {
     "name": "stderr",
     "output_type": "stream",
     "text": [
      "$MCP: possibly delisted; no price data found  (1d 2023-12-27 -> 2024-01-26)\n"
     ]
    },
    {
     "name": "stdout",
     "output_type": "stream",
     "text": [
      "Error fetching data for MCP: No historical data available for MCP around 2024-01-26.\n"
     ]
    },
    {
     "name": "stderr",
     "output_type": "stream",
     "text": [
      "Failed to get ticker 'THTI' reason: Expecting value: line 1 column 1 (char 0)\n",
      "$THTI: possibly delisted; no timezone found\n"
     ]
    },
    {
     "name": "stdout",
     "output_type": "stream",
     "text": [
      "Error fetching data for THTI: No historical data available for THTI around 2024-01-26.\n"
     ]
    },
    {
     "name": "stderr",
     "output_type": "stream",
     "text": [
      "$ELX: possibly delisted; no price data found  (1d 2023-12-27 -> 2024-01-26)\n"
     ]
    },
    {
     "name": "stdout",
     "output_type": "stream",
     "text": [
      "Error fetching data for ELX: No historical data available for ELX around 2024-01-26.\n"
     ]
    },
    {
     "name": "stderr",
     "output_type": "stream",
     "text": [
      "$KEQU: possibly delisted; no price data found  (1d 2023-12-27 -> 2024-01-26)\n"
     ]
    },
    {
     "name": "stdout",
     "output_type": "stream",
     "text": [
      "Error fetching data for KEQU: No historical data available for KEQU around 2024-01-26.\n"
     ]
    },
    {
     "name": "stderr",
     "output_type": "stream",
     "text": [
      "$FR: possibly delisted; no price data found  (1d 2023-12-27 -> 2024-01-26)\n"
     ]
    },
    {
     "name": "stdout",
     "output_type": "stream",
     "text": [
      "Error fetching data for FR: No historical data available for FR around 2024-01-26.\n"
     ]
    },
    {
     "name": "stderr",
     "output_type": "stream",
     "text": [
      "$HNR: possibly delisted; no price data found  (1d 2023-12-27 -> 2024-01-26)\n"
     ]
    },
    {
     "name": "stdout",
     "output_type": "stream",
     "text": [
      "Error fetching data for HNR: No historical data available for HNR around 2024-01-26.\n"
     ]
    },
    {
     "name": "stderr",
     "output_type": "stream",
     "text": [
      "Failed to get ticker 'MXWL' reason: Expecting value: line 1 column 1 (char 0)\n",
      "$MXWL: possibly delisted; no timezone found\n"
     ]
    },
    {
     "name": "stdout",
     "output_type": "stream",
     "text": [
      "Error fetching data for MXWL: No historical data available for MXWL around 2024-01-26.\n"
     ]
    },
    {
     "name": "stderr",
     "output_type": "stream",
     "text": [
      "Failed to get ticker 'BRLI' reason: Expecting value: line 1 column 1 (char 0)\n",
      "$BRLI: possibly delisted; no timezone found\n"
     ]
    },
    {
     "name": "stdout",
     "output_type": "stream",
     "text": [
      "Error fetching data for BRLI: No historical data available for BRLI around 2024-01-26.\n"
     ]
    },
    {
     "name": "stderr",
     "output_type": "stream",
     "text": [
      "$COV: possibly delisted; no price data found  (1d 2023-12-27 -> 2024-01-26)\n"
     ]
    },
    {
     "name": "stdout",
     "output_type": "stream",
     "text": [
      "Error fetching data for COV: No historical data available for COV around 2024-01-26.\n"
     ]
    },
    {
     "name": "stderr",
     "output_type": "stream",
     "text": [
      "Failed to get ticker 'NKG-D' reason: Expecting value: line 1 column 1 (char 0)\n",
      "$NKG-D: possibly delisted; no timezone found\n"
     ]
    },
    {
     "name": "stdout",
     "output_type": "stream",
     "text": [
      "Error fetching data for NKG-D: No historical data available for NKG-D around 2024-01-26.\n"
     ]
    },
    {
     "name": "stderr",
     "output_type": "stream",
     "text": [
      "$WAC: possibly delisted; no price data found  (1d 2023-12-27 -> 2024-01-26)\n"
     ]
    },
    {
     "name": "stdout",
     "output_type": "stream",
     "text": [
      "Error fetching data for WAC: No historical data available for WAC around 2024-01-26.\n"
     ]
    },
    {
     "name": "stderr",
     "output_type": "stream",
     "text": [
      "Failed to get ticker 'JRJC' reason: Expecting value: line 1 column 1 (char 0)\n",
      "$JRJC: possibly delisted; no timezone found\n"
     ]
    },
    {
     "name": "stdout",
     "output_type": "stream",
     "text": [
      "Error fetching data for JRJC: No historical data available for JRJC around 2024-01-26.\n"
     ]
    },
    {
     "name": "stderr",
     "output_type": "stream",
     "text": [
      "Failed to get ticker 'CW' reason: Expecting value: line 1 column 1 (char 0)\n",
      "$CW: possibly delisted; no timezone found\n"
     ]
    },
    {
     "name": "stdout",
     "output_type": "stream",
     "text": [
      "Error fetching data for CW: No historical data available for CW around 2024-01-26.\n"
     ]
    },
    {
     "name": "stderr",
     "output_type": "stream",
     "text": [
      "$HLSS: possibly delisted; no price data found  (1d 2023-12-27 -> 2024-01-26)\n"
     ]
    },
    {
     "name": "stdout",
     "output_type": "stream",
     "text": [
      "Error fetching data for HLSS: No historical data available for HLSS around 2024-01-26.\n"
     ]
    },
    {
     "name": "stderr",
     "output_type": "stream",
     "text": [
      "$MPEL: possibly delisted; no price data found  (1d 2023-12-27 -> 2024-01-26)\n"
     ]
    },
    {
     "name": "stdout",
     "output_type": "stream",
     "text": [
      "Error fetching data for MPEL: No historical data available for MPEL around 2024-01-26.\n"
     ]
    },
    {
     "name": "stderr",
     "output_type": "stream",
     "text": [
      "Failed to get ticker 'EBSB' reason: Expecting value: line 1 column 1 (char 0)\n",
      "$EBSB: possibly delisted; no timezone found\n"
     ]
    },
    {
     "name": "stdout",
     "output_type": "stream",
     "text": [
      "Error fetching data for EBSB: No historical data available for EBSB around 2024-01-26.\n"
     ]
    },
    {
     "name": "stderr",
     "output_type": "stream",
     "text": [
      "$LEDS: possibly delisted; no price data found  (1d 2023-12-27 -> 2024-01-26)\n"
     ]
    },
    {
     "name": "stdout",
     "output_type": "stream",
     "text": [
      "Error fetching data for LEDS: No historical data available for LEDS around 2024-01-26.\n"
     ]
    },
    {
     "name": "stderr",
     "output_type": "stream",
     "text": [
      "$FFNM: possibly delisted; no price data found  (1d 2023-12-27 -> 2024-01-26)\n"
     ]
    },
    {
     "name": "stdout",
     "output_type": "stream",
     "text": [
      "Error fetching data for FFNM: No historical data available for FFNM around 2024-01-26.\n"
     ]
    },
    {
     "name": "stderr",
     "output_type": "stream",
     "text": [
      "$CHH: possibly delisted; no price data found  (1d 2023-12-27 -> 2024-01-26)\n"
     ]
    },
    {
     "name": "stdout",
     "output_type": "stream",
     "text": [
      "Error fetching data for CHH: No historical data available for CHH around 2024-01-26.\n"
     ]
    },
    {
     "name": "stderr",
     "output_type": "stream",
     "text": [
      "$VLTR: possibly delisted; no price data found  (1d 2023-12-27 -> 2024-01-26)\n"
     ]
    },
    {
     "name": "stdout",
     "output_type": "stream",
     "text": [
      "Error fetching data for VLTR: No historical data available for VLTR around 2024-01-26.\n"
     ]
    },
    {
     "name": "stderr",
     "output_type": "stream",
     "text": [
      "$ARIA: possibly delisted; no price data found  (1d 2023-12-27 -> 2024-01-26)\n"
     ]
    },
    {
     "name": "stdout",
     "output_type": "stream",
     "text": [
      "Error fetching data for ARIA: No historical data available for ARIA around 2024-01-26.\n"
     ]
    },
    {
     "name": "stderr",
     "output_type": "stream",
     "text": [
      "$BKYF: possibly delisted; no price data found  (1d 2023-12-27 -> 2024-01-26)\n"
     ]
    },
    {
     "name": "stdout",
     "output_type": "stream",
     "text": [
      "Error fetching data for BKYF: No historical data available for BKYF around 2024-01-26.\n"
     ]
    },
    {
     "name": "stderr",
     "output_type": "stream",
     "text": [
      "$CPIX: possibly delisted; no price data found  (1d 2023-12-27 -> 2024-01-26)\n"
     ]
    },
    {
     "name": "stdout",
     "output_type": "stream",
     "text": [
      "Error fetching data for CPIX: No historical data available for CPIX around 2024-01-26.\n"
     ]
    },
    {
     "name": "stderr",
     "output_type": "stream",
     "text": [
      "$NBN: possibly delisted; no price data found  (1d 2023-12-27 -> 2024-01-26)\n"
     ]
    },
    {
     "name": "stdout",
     "output_type": "stream",
     "text": [
      "Error fetching data for NBN: No historical data available for NBN around 2024-01-26.\n"
     ]
    },
    {
     "name": "stderr",
     "output_type": "stream",
     "text": [
      "Failed to get ticker 'MDC' reason: Expecting value: line 1 column 1 (char 0)\n",
      "$MDC: possibly delisted; no timezone found\n"
     ]
    },
    {
     "name": "stdout",
     "output_type": "stream",
     "text": [
      "Error fetching data for MDC: No historical data available for MDC around 2024-01-26.\n"
     ]
    },
    {
     "name": "stderr",
     "output_type": "stream",
     "text": [
      "$TRAK: possibly delisted; no price data found  (1d 2023-12-27 -> 2024-01-26)\n"
     ]
    },
    {
     "name": "stdout",
     "output_type": "stream",
     "text": [
      "Error fetching data for TRAK: No historical data available for TRAK around 2024-01-26.\n"
     ]
    },
    {
     "name": "stderr",
     "output_type": "stream",
     "text": [
      "$CUNB: possibly delisted; no price data found  (1d 2023-12-27 -> 2024-01-26)\n"
     ]
    },
    {
     "name": "stdout",
     "output_type": "stream",
     "text": [
      "Error fetching data for CUNB: No historical data available for CUNB around 2024-01-26.\n"
     ]
    },
    {
     "name": "stderr",
     "output_type": "stream",
     "text": [
      "$TORM: possibly delisted; no price data found  (1d 2023-12-27 -> 2024-01-26)\n"
     ]
    },
    {
     "name": "stdout",
     "output_type": "stream",
     "text": [
      "Error fetching data for TORM: No historical data available for TORM around 2024-01-26.\n"
     ]
    },
    {
     "name": "stderr",
     "output_type": "stream",
     "text": [
      "Failed to get ticker 'CLCT' reason: Expecting value: line 1 column 1 (char 0)\n",
      "$CLCT: possibly delisted; no timezone found\n"
     ]
    },
    {
     "name": "stdout",
     "output_type": "stream",
     "text": [
      "Error fetching data for CLCT: No historical data available for CLCT around 2024-01-26.\n"
     ]
    },
    {
     "name": "stderr",
     "output_type": "stream",
     "text": [
      "$TGX: possibly delisted; no price data found  (1d 2023-12-27 -> 2024-01-26)\n"
     ]
    },
    {
     "name": "stdout",
     "output_type": "stream",
     "text": [
      "Error fetching data for TGX: No historical data available for TGX around 2024-01-26.\n"
     ]
    },
    {
     "name": "stderr",
     "output_type": "stream",
     "text": [
      "$CMGE: possibly delisted; no price data found  (1d 2023-12-27 -> 2024-01-26)\n"
     ]
    },
    {
     "name": "stdout",
     "output_type": "stream",
     "text": [
      "Error fetching data for CMGE: No historical data available for CMGE around 2024-01-26.\n"
     ]
    },
    {
     "name": "stderr",
     "output_type": "stream",
     "text": [
      "Failed to get ticker 'STSA' reason: Expecting value: line 1 column 1 (char 0)\n",
      "$STSA: possibly delisted; no timezone found\n"
     ]
    },
    {
     "name": "stdout",
     "output_type": "stream",
     "text": [
      "Error fetching data for STSA: No historical data available for STSA around 2024-01-26.\n"
     ]
    },
    {
     "name": "stderr",
     "output_type": "stream",
     "text": [
      "$FONR: possibly delisted; no price data found  (1d 2023-12-27 -> 2024-01-26)\n"
     ]
    },
    {
     "name": "stdout",
     "output_type": "stream",
     "text": [
      "Error fetching data for FONR: No historical data available for FONR around 2024-01-26.\n"
     ]
    },
    {
     "name": "stderr",
     "output_type": "stream",
     "text": [
      "$LUV: possibly delisted; no price data found  (1d 2023-12-27 -> 2024-01-26)\n"
     ]
    },
    {
     "name": "stdout",
     "output_type": "stream",
     "text": [
      "Error fetching data for LUV: No historical data available for LUV around 2024-01-26.\n"
     ]
    },
    {
     "name": "stderr",
     "output_type": "stream",
     "text": [
      "$PCG: possibly delisted; no price data found  (1d 2023-12-27 -> 2024-01-26)\n"
     ]
    },
    {
     "name": "stdout",
     "output_type": "stream",
     "text": [
      "Error fetching data for PCG: No historical data available for PCG around 2024-01-26.\n"
     ]
    },
    {
     "name": "stderr",
     "output_type": "stream",
     "text": [
      "$HCKT: possibly delisted; no price data found  (1d 2023-12-27 -> 2024-01-26)\n"
     ]
    },
    {
     "name": "stdout",
     "output_type": "stream",
     "text": [
      "Error fetching data for HCKT: No historical data available for HCKT around 2024-01-26.\n"
     ]
    },
    {
     "name": "stderr",
     "output_type": "stream",
     "text": [
      "Failed to get ticker 'CTC' reason: Expecting value: line 1 column 1 (char 0)\n",
      "$CTC: possibly delisted; no timezone found\n"
     ]
    },
    {
     "name": "stdout",
     "output_type": "stream",
     "text": [
      "Error fetching data for CTC: No historical data available for CTC around 2024-01-26.\n"
     ]
    },
    {
     "name": "stderr",
     "output_type": "stream",
     "text": [
      "$IOC: possibly delisted; no price data found  (1d 2023-12-27 -> 2024-01-26)\n"
     ]
    },
    {
     "name": "stdout",
     "output_type": "stream",
     "text": [
      "Error fetching data for IOC: No historical data available for IOC around 2024-01-26.\n"
     ]
    },
    {
     "name": "stderr",
     "output_type": "stream",
     "text": [
      "$VCLT: possibly delisted; no price data found  (1d 2023-12-27 -> 2024-01-26)\n"
     ]
    },
    {
     "name": "stdout",
     "output_type": "stream",
     "text": [
      "Error fetching data for VCLT: No historical data available for VCLT around 2024-01-26.\n"
     ]
    },
    {
     "name": "stderr",
     "output_type": "stream",
     "text": [
      "$NTK: possibly delisted; no price data found  (1d 2023-12-27 -> 2024-01-26)\n"
     ]
    },
    {
     "name": "stdout",
     "output_type": "stream",
     "text": [
      "Error fetching data for NTK: No historical data available for NTK around 2024-01-26.\n"
     ]
    },
    {
     "name": "stderr",
     "output_type": "stream",
     "text": [
      "Failed to get ticker 'ANAC' reason: Expecting value: line 1 column 1 (char 0)\n",
      "$ANAC: possibly delisted; no timezone found\n"
     ]
    },
    {
     "name": "stdout",
     "output_type": "stream",
     "text": [
      "Error fetching data for ANAC: No historical data available for ANAC around 2024-01-26.\n"
     ]
    },
    {
     "name": "stderr",
     "output_type": "stream",
     "text": [
      "$EZCH: possibly delisted; no price data found  (1d 2023-12-27 -> 2024-01-26)\n"
     ]
    },
    {
     "name": "stdout",
     "output_type": "stream",
     "text": [
      "Error fetching data for EZCH: No historical data available for EZCH around 2024-01-26.\n"
     ]
    },
    {
     "name": "stderr",
     "output_type": "stream",
     "text": [
      "$USATZ: possibly delisted; no price data found  (1d 2023-12-27 -> 2024-01-26)\n"
     ]
    },
    {
     "name": "stdout",
     "output_type": "stream",
     "text": [
      "Error fetching data for USATZ: No historical data available for USATZ around 2024-01-26.\n"
     ]
    },
    {
     "name": "stderr",
     "output_type": "stream",
     "text": [
      "Failed to get ticker 'SONC' reason: Expecting value: line 1 column 1 (char 0)\n",
      "$SONC: possibly delisted; no timezone found\n"
     ]
    },
    {
     "name": "stdout",
     "output_type": "stream",
     "text": [
      "Error fetching data for SONC: No historical data available for SONC around 2024-01-26.\n"
     ]
    },
    {
     "name": "stderr",
     "output_type": "stream",
     "text": [
      "$SGI: possibly delisted; no price data found  (1d 2023-12-27 -> 2024-01-26)\n"
     ]
    },
    {
     "name": "stdout",
     "output_type": "stream",
     "text": [
      "Error fetching data for SGI: No historical data available for SGI around 2024-01-26.\n"
     ]
    },
    {
     "name": "stderr",
     "output_type": "stream",
     "text": [
      "$UNTK: possibly delisted; no price data found  (1d 2023-12-27 -> 2024-01-26)\n"
     ]
    },
    {
     "name": "stdout",
     "output_type": "stream",
     "text": [
      "Error fetching data for UNTK: No historical data available for UNTK around 2024-01-26.\n"
     ]
    },
    {
     "name": "stderr",
     "output_type": "stream",
     "text": [
      "Failed to get ticker 'MGU' reason: Expecting value: line 1 column 1 (char 0)\n",
      "$MGU: possibly delisted; no timezone found\n"
     ]
    },
    {
     "name": "stdout",
     "output_type": "stream",
     "text": [
      "Error fetching data for MGU: No historical data available for MGU around 2024-01-26.\n"
     ]
    },
    {
     "name": "stderr",
     "output_type": "stream",
     "text": [
      "$TRIP: possibly delisted; no price data found  (1d 2023-12-27 -> 2024-01-26)\n"
     ]
    },
    {
     "name": "stdout",
     "output_type": "stream",
     "text": [
      "Error fetching data for TRIP: No historical data available for TRIP around 2024-01-26.\n"
     ]
    },
    {
     "name": "stderr",
     "output_type": "stream",
     "text": [
      "$RELV: possibly delisted; no price data found  (1d 2023-12-27 -> 2024-01-26)\n"
     ]
    },
    {
     "name": "stdout",
     "output_type": "stream",
     "text": [
      "Error fetching data for RELV: No historical data available for RELV around 2024-01-26.\n"
     ]
    },
    {
     "name": "stderr",
     "output_type": "stream",
     "text": [
      "Failed to get ticker 'RIGL' reason: Expecting value: line 1 column 1 (char 0)\n",
      "$RIGL: possibly delisted; no timezone found\n"
     ]
    },
    {
     "name": "stdout",
     "output_type": "stream",
     "text": [
      "Error fetching data for RIGL: No historical data available for RIGL around 2024-01-26.\n"
     ]
    },
    {
     "name": "stderr",
     "output_type": "stream",
     "text": [
      "$SYK: possibly delisted; no price data found  (1d 2023-12-27 -> 2024-01-26)\n"
     ]
    },
    {
     "name": "stdout",
     "output_type": "stream",
     "text": [
      "Error fetching data for SYK: No historical data available for SYK around 2024-01-26.\n"
     ]
    },
    {
     "name": "stderr",
     "output_type": "stream",
     "text": [
      "$FFKY: possibly delisted; no price data found  (1d 2023-12-27 -> 2024-01-26)\n"
     ]
    },
    {
     "name": "stdout",
     "output_type": "stream",
     "text": [
      "Error fetching data for FFKY: No historical data available for FFKY around 2024-01-26.\n"
     ]
    },
    {
     "name": "stderr",
     "output_type": "stream",
     "text": [
      "Failed to get ticker 'LHO-H' reason: Expecting value: line 1 column 1 (char 0)\n",
      "$LHO-H: possibly delisted; no timezone found\n"
     ]
    },
    {
     "name": "stdout",
     "output_type": "stream",
     "text": [
      "Error fetching data for LHO-H: No historical data available for LHO-H around 2024-01-26.\n"
     ]
    },
    {
     "name": "stderr",
     "output_type": "stream",
     "text": [
      "$CBZ: possibly delisted; no price data found  (1d 2023-12-27 -> 2024-01-26)\n"
     ]
    },
    {
     "name": "stdout",
     "output_type": "stream",
     "text": [
      "Error fetching data for CBZ: No historical data available for CBZ around 2024-01-26.\n"
     ]
    },
    {
     "name": "stderr",
     "output_type": "stream",
     "text": [
      "Failed to get ticker 'MYF' reason: Expecting value: line 1 column 1 (char 0)\n",
      "$MYF: possibly delisted; no timezone found\n"
     ]
    },
    {
     "name": "stdout",
     "output_type": "stream",
     "text": [
      "Error fetching data for MYF: No historical data available for MYF around 2024-01-26.\n"
     ]
    },
    {
     "name": "stderr",
     "output_type": "stream",
     "text": [
      "Failed to get ticker 'MAMS' reason: Expecting value: line 1 column 1 (char 0)\n",
      "$MAMS: possibly delisted; no timezone found\n"
     ]
    },
    {
     "name": "stdout",
     "output_type": "stream",
     "text": [
      "Error fetching data for MAMS: No historical data available for MAMS around 2024-01-26.\n"
     ]
    },
    {
     "name": "stderr",
     "output_type": "stream",
     "text": [
      "$JACK: possibly delisted; no price data found  (1d 2023-12-27 -> 2024-01-26)\n"
     ]
    },
    {
     "name": "stdout",
     "output_type": "stream",
     "text": [
      "Error fetching data for JACK: No historical data available for JACK around 2024-01-26.\n"
     ]
    },
    {
     "name": "stderr",
     "output_type": "stream",
     "text": [
      "$CRL: possibly delisted; no price data found  (1d 2023-12-27 -> 2024-01-26)\n"
     ]
    },
    {
     "name": "stdout",
     "output_type": "stream",
     "text": [
      "Error fetching data for CRL: No historical data available for CRL around 2024-01-26.\n"
     ]
    },
    {
     "name": "stderr",
     "output_type": "stream",
     "text": [
      "Failed to get ticker 'ELLI' reason: Expecting value: line 1 column 1 (char 0)\n",
      "$ELLI: possibly delisted; no timezone found\n"
     ]
    },
    {
     "name": "stdout",
     "output_type": "stream",
     "text": [
      "Error fetching data for ELLI: No historical data available for ELLI around 2024-01-26.\n"
     ]
    },
    {
     "name": "stderr",
     "output_type": "stream",
     "text": [
      "$LPL: possibly delisted; no price data found  (1d 2023-12-27 -> 2024-01-26)\n"
     ]
    },
    {
     "name": "stdout",
     "output_type": "stream",
     "text": [
      "Error fetching data for LPL: No historical data available for LPL around 2024-01-26.\n"
     ]
    },
    {
     "name": "stderr",
     "output_type": "stream",
     "text": [
      "Failed to get ticker 'INAP' reason: Expecting value: line 1 column 1 (char 0)\n",
      "$INAP: possibly delisted; no timezone found\n"
     ]
    },
    {
     "name": "stdout",
     "output_type": "stream",
     "text": [
      "Error fetching data for INAP: No historical data available for INAP around 2024-01-26.\n"
     ]
    },
    {
     "name": "stderr",
     "output_type": "stream",
     "text": [
      "$PUK.P: possibly delisted; no price data found  (1d 2023-12-27 -> 2024-01-26)\n"
     ]
    },
    {
     "name": "stdout",
     "output_type": "stream",
     "text": [
      "Error fetching data for PUK.P: No historical data available for PUK.P around 2024-01-26.\n"
     ]
    },
    {
     "name": "stderr",
     "output_type": "stream",
     "text": [
      "Failed to get ticker 'MTB-C' reason: Expecting value: line 1 column 1 (char 0)\n",
      "$MTB-C: possibly delisted; no timezone found\n"
     ]
    },
    {
     "name": "stdout",
     "output_type": "stream",
     "text": [
      "Error fetching data for MTB-C: No historical data available for MTB-C around 2024-01-26.\n"
     ]
    },
    {
     "name": "stderr",
     "output_type": "stream",
     "text": [
      "$BKD: possibly delisted; no price data found  (1d 2023-12-27 -> 2024-01-26)\n"
     ]
    },
    {
     "name": "stdout",
     "output_type": "stream",
     "text": [
      "Error fetching data for BKD: No historical data available for BKD around 2024-01-26.\n"
     ]
    },
    {
     "name": "stderr",
     "output_type": "stream",
     "text": [
      "$DBL: possibly delisted; no price data found  (1d 2023-12-27 -> 2024-01-26)\n"
     ]
    },
    {
     "name": "stdout",
     "output_type": "stream",
     "text": [
      "Error fetching data for DBL: No historical data available for DBL around 2024-01-26.\n"
     ]
    },
    {
     "name": "stderr",
     "output_type": "stream",
     "text": [
      "$CPGI: possibly delisted; no price data found  (1d 2023-12-27 -> 2024-01-26)\n"
     ]
    },
    {
     "name": "stdout",
     "output_type": "stream",
     "text": [
      "Error fetching data for CPGI: No historical data available for CPGI around 2024-01-26.\n"
     ]
    },
    {
     "name": "stderr",
     "output_type": "stream",
     "text": [
      "Failed to get ticker 'GRT-H' reason: Expecting value: line 1 column 1 (char 0)\n",
      "$GRT-H: possibly delisted; no timezone found\n"
     ]
    },
    {
     "name": "stdout",
     "output_type": "stream",
     "text": [
      "Error fetching data for GRT-H: No historical data available for GRT-H around 2024-01-26.\n"
     ]
    },
    {
     "name": "stderr",
     "output_type": "stream",
     "text": [
      "$SFB: possibly delisted; no price data found  (1d 2023-12-27 -> 2024-01-26)\n"
     ]
    },
    {
     "name": "stdout",
     "output_type": "stream",
     "text": [
      "Error fetching data for SFB: No historical data available for SFB around 2024-01-26.\n"
     ]
    },
    {
     "name": "stderr",
     "output_type": "stream",
     "text": [
      "Failed to get ticker 'CHMT' reason: Expecting value: line 1 column 1 (char 0)\n",
      "$CHMT: possibly delisted; no timezone found\n"
     ]
    },
    {
     "name": "stdout",
     "output_type": "stream",
     "text": [
      "Error fetching data for CHMT: No historical data available for CHMT around 2024-01-26.\n"
     ]
    },
    {
     "name": "stderr",
     "output_type": "stream",
     "text": [
      "$JBK: possibly delisted; no price data found  (1d 2023-12-27 -> 2024-01-26)\n"
     ]
    },
    {
     "name": "stdout",
     "output_type": "stream",
     "text": [
      "Error fetching data for JBK: No historical data available for JBK around 2024-01-26.\n"
     ]
    },
    {
     "name": "stderr",
     "output_type": "stream",
     "text": [
      "$SLTC: possibly delisted; no price data found  (1d 2023-12-27 -> 2024-01-26)\n"
     ]
    },
    {
     "name": "stdout",
     "output_type": "stream",
     "text": [
      "Error fetching data for SLTC: No historical data available for SLTC around 2024-01-26.\n"
     ]
    },
    {
     "name": "stderr",
     "output_type": "stream",
     "text": [
      "$NCTY: possibly delisted; no price data found  (1d 2023-12-27 -> 2024-01-26)\n"
     ]
    },
    {
     "name": "stdout",
     "output_type": "stream",
     "text": [
      "Error fetching data for NCTY: No historical data available for NCTY around 2024-01-26.\n"
     ]
    },
    {
     "name": "stderr",
     "output_type": "stream",
     "text": [
      "Failed to get ticker 'CEVA' reason: Expecting value: line 1 column 1 (char 0)\n",
      "$CEVA: possibly delisted; no timezone found\n"
     ]
    },
    {
     "name": "stdout",
     "output_type": "stream",
     "text": [
      "Error fetching data for CEVA: No historical data available for CEVA around 2024-01-26.\n"
     ]
    },
    {
     "name": "stderr",
     "output_type": "stream",
     "text": [
      "Failed to get ticker 'CIR' reason: Expecting value: line 1 column 1 (char 0)\n",
      "$CIR: possibly delisted; no timezone found\n"
     ]
    },
    {
     "name": "stdout",
     "output_type": "stream",
     "text": [
      "Error fetching data for CIR: No historical data available for CIR around 2024-01-26.\n"
     ]
    },
    {
     "name": "stderr",
     "output_type": "stream",
     "text": [
      "$SFY: possibly delisted; no price data found  (1d 2023-12-27 -> 2024-01-26)\n"
     ]
    },
    {
     "name": "stdout",
     "output_type": "stream",
     "text": [
      "Error fetching data for SFY: No historical data available for SFY around 2024-01-26.\n"
     ]
    },
    {
     "name": "stderr",
     "output_type": "stream",
     "text": [
      "$RDI: possibly delisted; no price data found  (1d 2023-12-27 -> 2024-01-26)\n"
     ]
    },
    {
     "name": "stdout",
     "output_type": "stream",
     "text": [
      "Error fetching data for RDI: No historical data available for RDI around 2024-01-26.\n"
     ]
    },
    {
     "name": "stderr",
     "output_type": "stream",
     "text": [
      "$AET: possibly delisted; no price data found  (1d 2023-12-27 -> 2024-01-26)\n"
     ]
    },
    {
     "name": "stdout",
     "output_type": "stream",
     "text": [
      "Error fetching data for AET: No historical data available for AET around 2024-01-26.\n"
     ]
    },
    {
     "name": "stderr",
     "output_type": "stream",
     "text": [
      "Failed to get ticker 'JTA' reason: Expecting value: line 1 column 1 (char 0)\n",
      "$JTA: possibly delisted; no timezone found\n"
     ]
    },
    {
     "name": "stdout",
     "output_type": "stream",
     "text": [
      "Error fetching data for JTA: No historical data available for JTA around 2024-01-26.\n"
     ]
    },
    {
     "name": "stderr",
     "output_type": "stream",
     "text": [
      "Failed to get ticker 'SWJ' reason: Expecting value: line 1 column 1 (char 0)\n",
      "$SWJ: possibly delisted; no timezone found\n"
     ]
    },
    {
     "name": "stdout",
     "output_type": "stream",
     "text": [
      "Error fetching data for SWJ: No historical data available for SWJ around 2024-01-26.\n"
     ]
    },
    {
     "name": "stderr",
     "output_type": "stream",
     "text": [
      "$TITN: possibly delisted; no price data found  (1d 2023-12-27 -> 2024-01-26)\n"
     ]
    },
    {
     "name": "stdout",
     "output_type": "stream",
     "text": [
      "Error fetching data for TITN: No historical data available for TITN around 2024-01-26.\n"
     ]
    },
    {
     "name": "stderr",
     "output_type": "stream",
     "text": [
      "Failed to get ticker 'HTF' reason: Expecting value: line 1 column 1 (char 0)\n",
      "$HTF: possibly delisted; no timezone found\n"
     ]
    },
    {
     "name": "stdout",
     "output_type": "stream",
     "text": [
      "Error fetching data for HTF: No historical data available for HTF around 2024-01-26.\n"
     ]
    },
    {
     "name": "stderr",
     "output_type": "stream",
     "text": [
      "Failed to get ticker 'CUZ-B' reason: Expecting value: line 1 column 1 (char 0)\n",
      "$CUZ-B: possibly delisted; no timezone found\n"
     ]
    },
    {
     "name": "stdout",
     "output_type": "stream",
     "text": [
      "Error fetching data for CUZ-B: No historical data available for CUZ-B around 2024-01-26.\n"
     ]
    },
    {
     "name": "stderr",
     "output_type": "stream",
     "text": [
      "Failed to get ticker 'NP' reason: Expecting value: line 1 column 1 (char 0)\n",
      "$NP: possibly delisted; no timezone found\n"
     ]
    },
    {
     "name": "stdout",
     "output_type": "stream",
     "text": [
      "Error fetching data for NP: No historical data available for NP around 2024-01-26.\n"
     ]
    },
    {
     "name": "stderr",
     "output_type": "stream",
     "text": [
      "$ZLCS: possibly delisted; no price data found  (1d 2023-12-27 -> 2024-01-26)\n"
     ]
    },
    {
     "name": "stdout",
     "output_type": "stream",
     "text": [
      "Error fetching data for ZLCS: No historical data available for ZLCS around 2024-01-26.\n"
     ]
    },
    {
     "name": "stderr",
     "output_type": "stream",
     "text": [
      "$TLLP: possibly delisted; no price data found  (1d 2023-12-27 -> 2024-01-26)\n"
     ]
    },
    {
     "name": "stdout",
     "output_type": "stream",
     "text": [
      "Error fetching data for TLLP: No historical data available for TLLP around 2024-01-26.\n"
     ]
    },
    {
     "name": "stderr",
     "output_type": "stream",
     "text": [
      "$MEAS: possibly delisted; no price data found  (1d 2023-12-27 -> 2024-01-26)\n"
     ]
    },
    {
     "name": "stdout",
     "output_type": "stream",
     "text": [
      "Error fetching data for MEAS: No historical data available for MEAS around 2024-01-26.\n"
     ]
    },
    {
     "name": "stderr",
     "output_type": "stream",
     "text": [
      "$HCN: possibly delisted; no price data found  (1d 2023-12-27 -> 2024-01-26)\n"
     ]
    },
    {
     "name": "stdout",
     "output_type": "stream",
     "text": [
      "Error fetching data for HCN: No historical data available for HCN around 2024-01-26.\n"
     ]
    },
    {
     "name": "stderr",
     "output_type": "stream",
     "text": [
      "$SHIP: possibly delisted; no price data found  (1d 2023-12-27 -> 2024-01-26)\n"
     ]
    },
    {
     "name": "stdout",
     "output_type": "stream",
     "text": [
      "Error fetching data for SHIP: No historical data available for SHIP around 2024-01-26.\n"
     ]
    },
    {
     "name": "stderr",
     "output_type": "stream",
     "text": [
      "$GNMA: possibly delisted; no price data found  (1d 2023-12-27 -> 2024-01-26)\n"
     ]
    },
    {
     "name": "stdout",
     "output_type": "stream",
     "text": [
      "Error fetching data for GNMA: No historical data available for GNMA around 2024-01-26.\n"
     ]
    },
    {
     "name": "stderr",
     "output_type": "stream",
     "text": [
      "$SDRL: possibly delisted; no price data found  (1d 2023-12-27 -> 2024-01-26)\n"
     ]
    },
    {
     "name": "stdout",
     "output_type": "stream",
     "text": [
      "Error fetching data for SDRL: No historical data available for SDRL around 2024-01-26.\n"
     ]
    },
    {
     "name": "stderr",
     "output_type": "stream",
     "text": [
      "Failed to get ticker 'HGSH' reason: Expecting value: line 1 column 1 (char 0)\n",
      "$HGSH: possibly delisted; no timezone found\n"
     ]
    },
    {
     "name": "stdout",
     "output_type": "stream",
     "text": [
      "Error fetching data for HGSH: No historical data available for HGSH around 2024-01-26.\n"
     ]
    },
    {
     "name": "stderr",
     "output_type": "stream",
     "text": [
      "Failed to get ticker 'NZF-C' reason: Expecting value: line 1 column 1 (char 0)\n",
      "$NZF-C: possibly delisted; no timezone found\n"
     ]
    },
    {
     "name": "stdout",
     "output_type": "stream",
     "text": [
      "Error fetching data for NZF-C: No historical data available for NZF-C around 2024-01-26.\n"
     ]
    },
    {
     "name": "stderr",
     "output_type": "stream",
     "text": [
      "$IAE: possibly delisted; no price data found  (1d 2023-12-27 -> 2024-01-26)\n"
     ]
    },
    {
     "name": "stdout",
     "output_type": "stream",
     "text": [
      "Error fetching data for IAE: No historical data available for IAE around 2024-01-26.\n"
     ]
    },
    {
     "name": "stderr",
     "output_type": "stream",
     "text": [
      "Failed to get ticker 'PSCC' reason: Expecting value: line 1 column 1 (char 0)\n",
      "$PSCC: possibly delisted; no timezone found\n"
     ]
    },
    {
     "name": "stdout",
     "output_type": "stream",
     "text": [
      "Error fetching data for PSCC: No historical data available for PSCC around 2024-01-26.\n"
     ]
    },
    {
     "name": "stderr",
     "output_type": "stream",
     "text": [
      "Failed to get ticker 'MICT' reason: Expecting value: line 1 column 1 (char 0)\n",
      "$MICT: possibly delisted; no timezone found\n"
     ]
    },
    {
     "name": "stdout",
     "output_type": "stream",
     "text": [
      "Error fetching data for MICT: No historical data available for MICT around 2024-01-26.\n"
     ]
    },
    {
     "name": "stderr",
     "output_type": "stream",
     "text": [
      "$ZIPR: possibly delisted; no price data found  (1d 2023-12-27 -> 2024-01-26)\n"
     ]
    },
    {
     "name": "stdout",
     "output_type": "stream",
     "text": [
      "Error fetching data for ZIPR: No historical data available for ZIPR around 2024-01-26.\n"
     ]
    },
    {
     "name": "stderr",
     "output_type": "stream",
     "text": [
      "$DYNT: possibly delisted; no price data found  (1d 2023-12-27 -> 2024-01-26)\n"
     ]
    },
    {
     "name": "stdout",
     "output_type": "stream",
     "text": [
      "Error fetching data for DYNT: No historical data available for DYNT around 2024-01-26.\n"
     ]
    },
    {
     "name": "stderr",
     "output_type": "stream",
     "text": [
      "$LKQ: possibly delisted; no price data found  (1d 2023-12-27 -> 2024-01-26)\n"
     ]
    },
    {
     "name": "stdout",
     "output_type": "stream",
     "text": [
      "Error fetching data for LKQ: No historical data available for LKQ around 2024-01-26.\n"
     ]
    },
    {
     "name": "stderr",
     "output_type": "stream",
     "text": [
      "Failed to get ticker 'TROVW' reason: Expecting value: line 1 column 1 (char 0)\n",
      "$TROVW: possibly delisted; no timezone found\n"
     ]
    },
    {
     "name": "stdout",
     "output_type": "stream",
     "text": [
      "Error fetching data for TROVW: No historical data available for TROVW around 2024-01-26.\n"
     ]
    },
    {
     "name": "stderr",
     "output_type": "stream",
     "text": [
      "$CPWR: possibly delisted; no price data found  (1d 2023-12-27 -> 2024-01-26)\n"
     ]
    },
    {
     "name": "stdout",
     "output_type": "stream",
     "text": [
      "Error fetching data for CPWR: No historical data available for CPWR around 2024-01-26.\n"
     ]
    },
    {
     "name": "stderr",
     "output_type": "stream",
     "text": [
      "$SBY: possibly delisted; no price data found  (1d 2023-12-27 -> 2024-01-26)\n"
     ]
    },
    {
     "name": "stdout",
     "output_type": "stream",
     "text": [
      "Error fetching data for SBY: No historical data available for SBY around 2024-01-26.\n"
     ]
    },
    {
     "name": "stderr",
     "output_type": "stream",
     "text": [
      "$FFBC: possibly delisted; no price data found  (1d 2023-12-27 -> 2024-01-26)\n"
     ]
    },
    {
     "name": "stdout",
     "output_type": "stream",
     "text": [
      "Error fetching data for FFBC: No historical data available for FFBC around 2024-01-26.\n"
     ]
    },
    {
     "name": "stderr",
     "output_type": "stream",
     "text": [
      "Failed to get ticker 'CLH' reason: Expecting value: line 1 column 1 (char 0)\n",
      "$CLH: possibly delisted; no timezone found\n"
     ]
    },
    {
     "name": "stdout",
     "output_type": "stream",
     "text": [
      "Error fetching data for CLH: No historical data available for CLH around 2024-01-26.\n"
     ]
    },
    {
     "name": "stderr",
     "output_type": "stream",
     "text": [
      "$HY: possibly delisted; no price data found  (1d 2023-12-27 -> 2024-01-26)\n"
     ]
    },
    {
     "name": "stdout",
     "output_type": "stream",
     "text": [
      "Error fetching data for HY: No historical data available for HY around 2024-01-26.\n"
     ]
    },
    {
     "name": "stderr",
     "output_type": "stream",
     "text": [
      "$HIH: possibly delisted; no price data found  (1d 2023-12-27 -> 2024-01-26)\n"
     ]
    },
    {
     "name": "stdout",
     "output_type": "stream",
     "text": [
      "Error fetching data for HIH: No historical data available for HIH around 2024-01-26.\n"
     ]
    },
    {
     "name": "stderr",
     "output_type": "stream",
     "text": [
      "Failed to get ticker 'TISA' reason: Expecting value: line 1 column 1 (char 0)\n",
      "$TISA: possibly delisted; no timezone found\n"
     ]
    },
    {
     "name": "stdout",
     "output_type": "stream",
     "text": [
      "Error fetching data for TISA: No historical data available for TISA around 2024-01-26.\n"
     ]
    },
    {
     "name": "stderr",
     "output_type": "stream",
     "text": [
      "Failed to get ticker 'PSA-R' reason: Expecting value: line 1 column 1 (char 0)\n",
      "$PSA-R: possibly delisted; no timezone found\n"
     ]
    },
    {
     "name": "stdout",
     "output_type": "stream",
     "text": [
      "Error fetching data for PSA-R: No historical data available for PSA-R around 2024-01-26.\n"
     ]
    },
    {
     "name": "stderr",
     "output_type": "stream",
     "text": [
      "$DAKT: possibly delisted; no price data found  (1d 2023-12-27 -> 2024-01-26)\n"
     ]
    },
    {
     "name": "stdout",
     "output_type": "stream",
     "text": [
      "Error fetching data for DAKT: No historical data available for DAKT around 2024-01-26.\n"
     ]
    },
    {
     "name": "stderr",
     "output_type": "stream",
     "text": [
      "$ANIP: possibly delisted; no price data found  (1d 2023-12-27 -> 2024-01-26)\n"
     ]
    },
    {
     "name": "stdout",
     "output_type": "stream",
     "text": [
      "Error fetching data for ANIP: No historical data available for ANIP around 2024-01-26.\n"
     ]
    },
    {
     "name": "stderr",
     "output_type": "stream",
     "text": [
      "Failed to get ticker 'ETE' reason: Expecting value: line 1 column 1 (char 0)\n",
      "$ETE: possibly delisted; no timezone found\n"
     ]
    },
    {
     "name": "stdout",
     "output_type": "stream",
     "text": [
      "Error fetching data for ETE: No historical data available for ETE around 2024-01-26.\n"
     ]
    },
    {
     "name": "stderr",
     "output_type": "stream",
     "text": [
      "Failed to get ticker 'LOR' reason: Expecting value: line 1 column 1 (char 0)\n",
      "$LOR: possibly delisted; no timezone found\n"
     ]
    },
    {
     "name": "stdout",
     "output_type": "stream",
     "text": [
      "Error fetching data for LOR: No historical data available for LOR around 2024-01-26.\n"
     ]
    },
    {
     "name": "stderr",
     "output_type": "stream",
     "text": [
      "Failed to get ticker 'PEI-B' reason: Expecting value: line 1 column 1 (char 0)\n",
      "$PEI-B: possibly delisted; no timezone found\n"
     ]
    },
    {
     "name": "stdout",
     "output_type": "stream",
     "text": [
      "Error fetching data for PEI-B: No historical data available for PEI-B around 2024-01-26.\n"
     ]
    },
    {
     "name": "stderr",
     "output_type": "stream",
     "text": [
      "$PIM: possibly delisted; no price data found  (1d 2023-12-27 -> 2024-01-26)\n"
     ]
    },
    {
     "name": "stdout",
     "output_type": "stream",
     "text": [
      "Error fetching data for PIM: No historical data available for PIM around 2024-01-26.\n"
     ]
    },
    {
     "name": "stderr",
     "output_type": "stream",
     "text": [
      "$DLLR: possibly delisted; no price data found  (1d 2023-12-27 -> 2024-01-26)\n"
     ]
    },
    {
     "name": "stdout",
     "output_type": "stream",
     "text": [
      "Error fetching data for DLLR: No historical data available for DLLR around 2024-01-26.\n"
     ]
    },
    {
     "name": "stderr",
     "output_type": "stream",
     "text": [
      "$OPTT: possibly delisted; no price data found  (1d 2023-12-27 -> 2024-01-26)\n"
     ]
    },
    {
     "name": "stdout",
     "output_type": "stream",
     "text": [
      "Error fetching data for OPTT: No historical data available for OPTT around 2024-01-26.\n"
     ]
    },
    {
     "name": "stderr",
     "output_type": "stream",
     "text": [
      "$JAXB: possibly delisted; no price data found  (1d 2023-12-27 -> 2024-01-26)\n"
     ]
    },
    {
     "name": "stdout",
     "output_type": "stream",
     "text": [
      "Error fetching data for JAXB: No historical data available for JAXB around 2024-01-26.\n"
     ]
    },
    {
     "name": "stderr",
     "output_type": "stream",
     "text": [
      "Failed to get ticker 'VLTC' reason: Expecting value: line 1 column 1 (char 0)\n",
      "$VLTC: possibly delisted; no timezone found\n"
     ]
    },
    {
     "name": "stdout",
     "output_type": "stream",
     "text": [
      "Error fetching data for VLTC: No historical data available for VLTC around 2024-01-26.\n"
     ]
    },
    {
     "name": "stderr",
     "output_type": "stream",
     "text": [
      "$AM: possibly delisted; no price data found  (1d 2023-12-27 -> 2024-01-26)\n"
     ]
    },
    {
     "name": "stdout",
     "output_type": "stream",
     "text": [
      "Error fetching data for AM: No historical data available for AM around 2024-01-26.\n"
     ]
    },
    {
     "name": "stderr",
     "output_type": "stream",
     "text": [
      "$WVVI: possibly delisted; no price data found  (1d 2023-12-27 -> 2024-01-26)\n"
     ]
    },
    {
     "name": "stdout",
     "output_type": "stream",
     "text": [
      "Error fetching data for WVVI: No historical data available for WVVI around 2024-01-26.\n"
     ]
    },
    {
     "name": "stderr",
     "output_type": "stream",
     "text": [
      "Failed to get ticker 'TARO' reason: Expecting value: line 1 column 1 (char 0)\n",
      "$TARO: possibly delisted; no timezone found\n"
     ]
    },
    {
     "name": "stdout",
     "output_type": "stream",
     "text": [
      "Error fetching data for TARO: No historical data available for TARO around 2024-01-26.\n"
     ]
    },
    {
     "name": "stderr",
     "output_type": "stream",
     "text": [
      "$PLUS: possibly delisted; no price data found  (1d 2023-12-27 -> 2024-01-26)\n"
     ]
    },
    {
     "name": "stdout",
     "output_type": "stream",
     "text": [
      "Error fetching data for PLUS: No historical data available for PLUS around 2024-01-26.\n"
     ]
    },
    {
     "name": "stderr",
     "output_type": "stream",
     "text": [
      "$HPP: possibly delisted; no price data found  (1d 2023-12-27 -> 2024-01-26)\n"
     ]
    },
    {
     "name": "stdout",
     "output_type": "stream",
     "text": [
      "Error fetching data for HPP: No historical data available for HPP around 2024-01-26.\n"
     ]
    },
    {
     "name": "stderr",
     "output_type": "stream",
     "text": [
      "Failed to get ticker 'AGII' reason: Expecting value: line 1 column 1 (char 0)\n",
      "$AGII: possibly delisted; no timezone found\n"
     ]
    },
    {
     "name": "stdout",
     "output_type": "stream",
     "text": [
      "Error fetching data for AGII: No historical data available for AGII around 2024-01-26.\n"
     ]
    },
    {
     "name": "stderr",
     "output_type": "stream",
     "text": [
      "Failed to get ticker 'BTZ' reason: Expecting value: line 1 column 1 (char 0)\n",
      "$BTZ: possibly delisted; no timezone found\n"
     ]
    },
    {
     "name": "stdout",
     "output_type": "stream",
     "text": [
      "Error fetching data for BTZ: No historical data available for BTZ around 2024-01-26.\n"
     ]
    },
    {
     "name": "stderr",
     "output_type": "stream",
     "text": [
      "$NVMI: possibly delisted; no price data found  (1d 2023-12-27 -> 2024-01-26)\n"
     ]
    },
    {
     "name": "stdout",
     "output_type": "stream",
     "text": [
      "Error fetching data for NVMI: No historical data available for NVMI around 2024-01-26.\n"
     ]
    },
    {
     "name": "stderr",
     "output_type": "stream",
     "text": [
      "$HITT: possibly delisted; no price data found  (1d 2023-12-27 -> 2024-01-26)\n"
     ]
    },
    {
     "name": "stdout",
     "output_type": "stream",
     "text": [
      "Error fetching data for HITT: No historical data available for HITT around 2024-01-26.\n"
     ]
    },
    {
     "name": "stderr",
     "output_type": "stream",
     "text": [
      "$MTGE: possibly delisted; no price data found  (1d 2023-12-27 -> 2024-01-26)\n"
     ]
    },
    {
     "name": "stdout",
     "output_type": "stream",
     "text": [
      "Error fetching data for MTGE: No historical data available for MTGE around 2024-01-26.\n"
     ]
    },
    {
     "name": "stderr",
     "output_type": "stream",
     "text": [
      "$ARRY: possibly delisted; no price data found  (1d 2023-12-27 -> 2024-01-26)\n"
     ]
    },
    {
     "name": "stdout",
     "output_type": "stream",
     "text": [
      "Error fetching data for ARRY: No historical data available for ARRY around 2024-01-26.\n"
     ]
    },
    {
     "name": "stderr",
     "output_type": "stream",
     "text": [
      "$POR: possibly delisted; no price data found  (1d 2023-12-27 -> 2024-01-26)\n"
     ]
    },
    {
     "name": "stdout",
     "output_type": "stream",
     "text": [
      "Error fetching data for POR: No historical data available for POR around 2024-01-26.\n"
     ]
    },
    {
     "name": "stderr",
     "output_type": "stream",
     "text": [
      "$NNJ: possibly delisted; no price data found  (1d 2023-12-27 -> 2024-01-26)\n"
     ]
    },
    {
     "name": "stdout",
     "output_type": "stream",
     "text": [
      "Error fetching data for NNJ: No historical data available for NNJ around 2024-01-26.\n"
     ]
    },
    {
     "name": "stderr",
     "output_type": "stream",
     "text": [
      "Failed to get ticker 'STI-A' reason: Expecting value: line 1 column 1 (char 0)\n",
      "$STI-A: possibly delisted; no timezone found\n"
     ]
    },
    {
     "name": "stdout",
     "output_type": "stream",
     "text": [
      "Error fetching data for STI-A: No historical data available for STI-A around 2024-01-26.\n"
     ]
    },
    {
     "name": "stderr",
     "output_type": "stream",
     "text": [
      "$EQT: possibly delisted; no price data found  (1d 2023-12-27 -> 2024-01-26)\n"
     ]
    },
    {
     "name": "stdout",
     "output_type": "stream",
     "text": [
      "Error fetching data for EQT: No historical data available for EQT around 2024-01-26.\n"
     ]
    },
    {
     "name": "stderr",
     "output_type": "stream",
     "text": [
      "$SEED: possibly delisted; no price data found  (1d 2023-12-27 -> 2024-01-26)\n"
     ]
    },
    {
     "name": "stdout",
     "output_type": "stream",
     "text": [
      "Error fetching data for SEED: No historical data available for SEED around 2024-01-26.\n"
     ]
    },
    {
     "name": "stderr",
     "output_type": "stream",
     "text": [
      "$TFM: possibly delisted; no price data found  (1d 2023-12-27 -> 2024-01-26)\n"
     ]
    },
    {
     "name": "stdout",
     "output_type": "stream",
     "text": [
      "Error fetching data for TFM: No historical data available for TFM around 2024-01-26.\n"
     ]
    },
    {
     "name": "stderr",
     "output_type": "stream",
     "text": [
      "$UTSI: possibly delisted; no price data found  (1d 2023-12-27 -> 2024-01-26)\n"
     ]
    },
    {
     "name": "stdout",
     "output_type": "stream",
     "text": [
      "Error fetching data for UTSI: No historical data available for UTSI around 2024-01-26.\n"
     ]
    },
    {
     "name": "stderr",
     "output_type": "stream",
     "text": [
      "$MDVN: possibly delisted; no price data found  (1d 2023-12-27 -> 2024-01-26)\n"
     ]
    },
    {
     "name": "stdout",
     "output_type": "stream",
     "text": [
      "Error fetching data for MDVN: No historical data available for MDVN around 2024-01-26.\n"
     ]
    },
    {
     "name": "stderr",
     "output_type": "stream",
     "text": [
      "$MLU: possibly delisted; no price data found  (1d 2023-12-27 -> 2024-01-26)\n"
     ]
    },
    {
     "name": "stdout",
     "output_type": "stream",
     "text": [
      "Error fetching data for MLU: No historical data available for MLU around 2024-01-26.\n"
     ]
    },
    {
     "name": "stderr",
     "output_type": "stream",
     "text": [
      "$EDUC: possibly delisted; no price data found  (1d 2023-12-27 -> 2024-01-26)\n"
     ]
    },
    {
     "name": "stdout",
     "output_type": "stream",
     "text": [
      "Error fetching data for EDUC: No historical data available for EDUC around 2024-01-26.\n"
     ]
    },
    {
     "name": "stderr",
     "output_type": "stream",
     "text": [
      "$ACAT: possibly delisted; no price data found  (1d 2023-12-27 -> 2024-01-26)\n"
     ]
    },
    {
     "name": "stdout",
     "output_type": "stream",
     "text": [
      "Error fetching data for ACAT: No historical data available for ACAT around 2024-01-26.\n"
     ]
    },
    {
     "name": "stderr",
     "output_type": "stream",
     "text": [
      "Failed to get ticker 'MFLR' reason: Expecting value: line 1 column 1 (char 0)\n",
      "$MFLR: possibly delisted; no timezone found\n"
     ]
    },
    {
     "name": "stdout",
     "output_type": "stream",
     "text": [
      "Error fetching data for MFLR: No historical data available for MFLR around 2024-01-26.\n"
     ]
    },
    {
     "name": "stderr",
     "output_type": "stream",
     "text": [
      "Failed to get ticker 'JOE' reason: Expecting value: line 1 column 1 (char 0)\n",
      "$JOE: possibly delisted; no timezone found\n"
     ]
    },
    {
     "name": "stdout",
     "output_type": "stream",
     "text": [
      "Error fetching data for JOE: No historical data available for JOE around 2024-01-26.\n"
     ]
    },
    {
     "name": "stderr",
     "output_type": "stream",
     "text": [
      "Failed to get ticker 'ABB' reason: Expecting value: line 1 column 1 (char 0)\n",
      "$ABB: possibly delisted; no timezone found\n"
     ]
    },
    {
     "name": "stdout",
     "output_type": "stream",
     "text": [
      "Error fetching data for ABB: No historical data available for ABB around 2024-01-26.\n"
     ]
    },
    {
     "name": "stderr",
     "output_type": "stream",
     "text": [
      "$NPT: possibly delisted; no price data found  (1d 2023-12-27 -> 2024-01-26)\n"
     ]
    },
    {
     "name": "stdout",
     "output_type": "stream",
     "text": [
      "Error fetching data for NPT: No historical data available for NPT around 2024-01-26.\n"
     ]
    },
    {
     "name": "stderr",
     "output_type": "stream",
     "text": [
      "Failed to get ticker 'PSMT' reason: Expecting value: line 1 column 1 (char 0)\n",
      "$PSMT: possibly delisted; no timezone found\n"
     ]
    },
    {
     "name": "stdout",
     "output_type": "stream",
     "text": [
      "Error fetching data for PSMT: No historical data available for PSMT around 2024-01-26.\n"
     ]
    },
    {
     "name": "stderr",
     "output_type": "stream",
     "text": [
      "$LSBI: possibly delisted; no price data found  (1d 2023-12-27 -> 2024-01-26)\n"
     ]
    },
    {
     "name": "stdout",
     "output_type": "stream",
     "text": [
      "Error fetching data for LSBI: No historical data available for LSBI around 2024-01-26.\n"
     ]
    },
    {
     "name": "stderr",
     "output_type": "stream",
     "text": [
      "$FCY: possibly delisted; no price data found  (1d 2023-12-27 -> 2024-01-26)\n"
     ]
    },
    {
     "name": "stdout",
     "output_type": "stream",
     "text": [
      "Error fetching data for FCY: No historical data available for FCY around 2024-01-26.\n"
     ]
    },
    {
     "name": "stderr",
     "output_type": "stream",
     "text": [
      "$TQNT: possibly delisted; no price data found  (1d 2023-12-27 -> 2024-01-26)\n"
     ]
    },
    {
     "name": "stdout",
     "output_type": "stream",
     "text": [
      "Error fetching data for TQNT: No historical data available for TQNT around 2024-01-26.\n"
     ]
    },
    {
     "name": "stderr",
     "output_type": "stream",
     "text": [
      "$GLDC: possibly delisted; no price data found  (1d 2023-12-27 -> 2024-01-26)\n"
     ]
    },
    {
     "name": "stdout",
     "output_type": "stream",
     "text": [
      "Error fetching data for GLDC: No historical data available for GLDC around 2024-01-26.\n"
     ]
    },
    {
     "name": "stderr",
     "output_type": "stream",
     "text": [
      "Failed to get ticker 'PSA-P' reason: Expecting value: line 1 column 1 (char 0)\n",
      "$PSA-P: possibly delisted; no timezone found\n"
     ]
    },
    {
     "name": "stdout",
     "output_type": "stream",
     "text": [
      "Error fetching data for PSA-P: No historical data available for PSA-P around 2024-01-26.\n"
     ]
    },
    {
     "name": "stderr",
     "output_type": "stream",
     "text": [
      "$ATK: possibly delisted; no price data found  (1d 2023-12-27 -> 2024-01-26)\n"
     ]
    },
    {
     "name": "stdout",
     "output_type": "stream",
     "text": [
      "Error fetching data for ATK: No historical data available for ATK around 2024-01-26.\n"
     ]
    },
    {
     "name": "stderr",
     "output_type": "stream",
     "text": [
      "$HSII: possibly delisted; no price data found  (1d 2023-12-27 -> 2024-01-26)\n"
     ]
    },
    {
     "name": "stdout",
     "output_type": "stream",
     "text": [
      "Error fetching data for HSII: No historical data available for HSII around 2024-01-26.\n"
     ]
    },
    {
     "name": "stderr",
     "output_type": "stream",
     "text": [
      "Failed to get ticker 'FUR-D' reason: Expecting value: line 1 column 1 (char 0)\n",
      "$FUR-D: possibly delisted; no timezone found\n"
     ]
    },
    {
     "name": "stdout",
     "output_type": "stream",
     "text": [
      "Error fetching data for FUR-D: No historical data available for FUR-D around 2024-01-26.\n"
     ]
    },
    {
     "name": "stderr",
     "output_type": "stream",
     "text": [
      "Failed to get ticker 'XL' reason: Expecting value: line 1 column 1 (char 0)\n",
      "$XL: possibly delisted; no timezone found\n"
     ]
    },
    {
     "name": "stdout",
     "output_type": "stream",
     "text": [
      "Error fetching data for XL: No historical data available for XL around 2024-01-26.\n"
     ]
    },
    {
     "name": "stderr",
     "output_type": "stream",
     "text": [
      "$EMMSP: possibly delisted; no price data found  (1d 2023-12-27 -> 2024-01-26)\n"
     ]
    },
    {
     "name": "stdout",
     "output_type": "stream",
     "text": [
      "Error fetching data for EMMSP: No historical data available for EMMSP around 2024-01-26.\n"
     ]
    },
    {
     "name": "stderr",
     "output_type": "stream",
     "text": [
      "$WPRT: possibly delisted; no price data found  (1d 2023-12-27 -> 2024-01-26)\n"
     ]
    },
    {
     "name": "stdout",
     "output_type": "stream",
     "text": [
      "Error fetching data for WPRT: No historical data available for WPRT around 2024-01-26.\n"
     ]
    },
    {
     "name": "stderr",
     "output_type": "stream",
     "text": [
      "$MOD: possibly delisted; no price data found  (1d 2023-12-27 -> 2024-01-26)\n"
     ]
    },
    {
     "name": "stdout",
     "output_type": "stream",
     "text": [
      "Error fetching data for MOD: No historical data available for MOD around 2024-01-26.\n"
     ]
    },
    {
     "name": "stderr",
     "output_type": "stream",
     "text": [
      "Failed to get ticker 'ZUMZ' reason: Expecting value: line 1 column 1 (char 0)\n",
      "$ZUMZ: possibly delisted; no timezone found\n"
     ]
    },
    {
     "name": "stdout",
     "output_type": "stream",
     "text": [
      "Error fetching data for ZUMZ: No historical data available for ZUMZ around 2024-01-26.\n"
     ]
    },
    {
     "name": "stderr",
     "output_type": "stream",
     "text": [
      "$MORN: possibly delisted; no price data found  (1d 2023-12-27 -> 2024-01-26)\n"
     ]
    },
    {
     "name": "stdout",
     "output_type": "stream",
     "text": [
      "Error fetching data for MORN: No historical data available for MORN around 2024-01-26.\n"
     ]
    },
    {
     "name": "stderr",
     "output_type": "stream",
     "text": [
      "Failed to get ticker 'LNDC' reason: Expecting value: line 1 column 1 (char 0)\n",
      "$LNDC: possibly delisted; no timezone found\n"
     ]
    },
    {
     "name": "stdout",
     "output_type": "stream",
     "text": [
      "Error fetching data for LNDC: No historical data available for LNDC around 2024-01-26.\n"
     ]
    },
    {
     "name": "stderr",
     "output_type": "stream",
     "text": [
      "$TAOM: possibly delisted; no price data found  (1d 2023-12-27 -> 2024-01-26)\n",
      "$WCRX: possibly delisted; no price data found  (1d 2023-12-27 -> 2024-01-26)\n",
      "$LCC: possibly delisted; no price data found  (1d 2023-12-27 -> 2024-01-26)\n"
     ]
    },
    {
     "name": "stdout",
     "output_type": "stream",
     "text": [
      "Error fetching data for TAOM: No historical data available for TAOM around 2024-01-26.\n",
      "Error fetching data for WCRX: No historical data available for WCRX around 2024-01-26.\n",
      "Error fetching data for LCC: No historical data available for LCC around 2024-01-26.\n"
     ]
    },
    {
     "name": "stderr",
     "output_type": "stream",
     "text": [
      "$CPSI: possibly delisted; no timezone found\n",
      "$OUTR: possibly delisted; no price data found  (1d 2023-12-27 -> 2024-01-26)\n",
      "$PVTD: possibly delisted; no price data found  (1d 2023-12-27 -> 2024-01-26)\n"
     ]
    },
    {
     "name": "stdout",
     "output_type": "stream",
     "text": [
      "Error fetching data for CPSI: No historical data available for CPSI around 2024-01-26.\n",
      "Error fetching data for OUTR: No historical data available for OUTR around 2024-01-26.\n",
      "Error fetching data for PVTD: No historical data available for PVTD around 2024-01-26.\n"
     ]
    },
    {
     "name": "stderr",
     "output_type": "stream",
     "text": [
      "$ROC: possibly delisted; no timezone found\n"
     ]
    },
    {
     "name": "stdout",
     "output_type": "stream",
     "text": [
      "Error fetching data for ROC: No historical data available for ROC around 2024-01-26.\n"
     ]
    },
    {
     "name": "stderr",
     "output_type": "stream",
     "text": [
      "$RTN: possibly delisted; no timezone found\n"
     ]
    },
    {
     "name": "stdout",
     "output_type": "stream",
     "text": [
      "Error fetching data for RTN: No historical data available for RTN around 2024-01-26.\n"
     ]
    },
    {
     "name": "stderr",
     "output_type": "stream",
     "text": [
      "$FRP: possibly delisted; no price data found  (1d 2023-12-27 -> 2024-01-26)\n"
     ]
    },
    {
     "name": "stdout",
     "output_type": "stream",
     "text": [
      "Error fetching data for FRP: No historical data available for FRP around 2024-01-26.\n"
     ]
    },
    {
     "name": "stderr",
     "output_type": "stream",
     "text": [
      "$ADRU: possibly delisted; no price data found  (1d 2023-12-27 -> 2024-01-26)\n",
      "$CBEY: possibly delisted; no price data found  (1d 2023-12-27 -> 2024-01-26)\n"
     ]
    },
    {
     "name": "stdout",
     "output_type": "stream",
     "text": [
      "Error fetching data for ADRU: No historical data available for ADRU around 2024-01-26.\n",
      "Error fetching data for CBEY: No historical data available for CBEY around 2024-01-26.\n"
     ]
    },
    {
     "name": "stderr",
     "output_type": "stream",
     "text": [
      "$FSFR: possibly delisted; no price data found  (1d 2023-12-27 -> 2024-01-26)\n",
      "$GGP: possibly delisted; no price data found  (1d 2023-12-27 -> 2024-01-26)\n",
      "$SALE: possibly delisted; no price data found  (1d 2023-12-27 -> 2024-01-26)\n"
     ]
    },
    {
     "name": "stdout",
     "output_type": "stream",
     "text": [
      "Error fetching data for FSFR: No historical data available for FSFR around 2024-01-26.\n",
      "Error fetching data for GGP: No historical data available for GGP around 2024-01-26.\n",
      "Error fetching data for SALE: No historical data available for SALE around 2024-01-26.\n"
     ]
    },
    {
     "name": "stderr",
     "output_type": "stream",
     "text": [
      "$XLNX: possibly delisted; no timezone found\n"
     ]
    },
    {
     "name": "stdout",
     "output_type": "stream",
     "text": [
      "Error fetching data for XLNX: No historical data available for XLNX around 2024-01-26.\n"
     ]
    },
    {
     "name": "stderr",
     "output_type": "stream",
     "text": [
      "$TRMR: possibly delisted; no timezone found\n"
     ]
    },
    {
     "name": "stdout",
     "output_type": "stream",
     "text": [
      "Error fetching data for TRMR: No historical data available for TRMR around 2024-01-26.\n"
     ]
    },
    {
     "name": "stderr",
     "output_type": "stream",
     "text": [
      "$NUJ-C: possibly delisted; no timezone found\n"
     ]
    },
    {
     "name": "stdout",
     "output_type": "stream",
     "text": [
      "Error fetching data for NUJ-C: No historical data available for NUJ-C around 2024-01-26.\n"
     ]
    },
    {
     "name": "stderr",
     "output_type": "stream",
     "text": [
      "$JCTCF: possibly delisted; no timezone found\n"
     ]
    },
    {
     "name": "stdout",
     "output_type": "stream",
     "text": [
      "Error fetching data for JCTCF: No historical data available for JCTCF around 2024-01-26.\n"
     ]
    },
    {
     "name": "stderr",
     "output_type": "stream",
     "text": [
      "$ISBC: possibly delisted; no timezone found\n"
     ]
    },
    {
     "name": "stdout",
     "output_type": "stream",
     "text": [
      "Error fetching data for ISBC: No historical data available for ISBC around 2024-01-26.\n"
     ]
    },
    {
     "name": "stderr",
     "output_type": "stream",
     "text": [
      "$NVG-C: possibly delisted; no timezone found\n",
      "$QTM: possibly delisted; no price data found  (1d 2023-12-27 -> 2024-01-26)\n"
     ]
    },
    {
     "name": "stdout",
     "output_type": "stream",
     "text": [
      "Error fetching data for NVG-C: No historical data available for NVG-C around 2024-01-26.\n",
      "Error fetching data for QTM: No historical data available for QTM around 2024-01-26.\n"
     ]
    },
    {
     "name": "stderr",
     "output_type": "stream",
     "text": [
      "$C.B: possibly delisted; no price data found  (1d 2023-12-27 -> 2024-01-26)\n"
     ]
    },
    {
     "name": "stdout",
     "output_type": "stream",
     "text": [
      "Error fetching data for C.B: No historical data available for C.B around 2024-01-26.\n"
     ]
    },
    {
     "name": "stderr",
     "output_type": "stream",
     "text": [
      "$XNPT: possibly delisted; no price data found  (1d 2023-12-27 -> 2024-01-26)\n"
     ]
    },
    {
     "name": "stdout",
     "output_type": "stream",
     "text": [
      "Error fetching data for XNPT: No historical data available for XNPT around 2024-01-26.\n"
     ]
    },
    {
     "data": {
      "text/html": [
       "\n",
       "<style>\n",
       "    /* Turns off some styling */\n",
       "    progress {\n",
       "        /* gets rid of default border in Firefox and Opera. */\n",
       "        border: none;\n",
       "        /* Needs to be in here for Safari polyfill so background images work as expected. */\n",
       "        background-size: auto;\n",
       "    }\n",
       "    progress:not([value]), progress:not([value])::-webkit-progress-bar {\n",
       "        background: repeating-linear-gradient(45deg, #7e7e7e, #7e7e7e 10px, #5c5c5c 10px, #5c5c5c 20px);\n",
       "    }\n",
       "    .progress-bar-interrupted, .progress-bar-interrupted::-webkit-progress-bar {\n",
       "        background: #F44336;\n",
       "    }\n",
       "</style>\n"
      ],
      "text/plain": [
       "<IPython.core.display.HTML object>"
      ]
     },
     "metadata": {},
     "output_type": "display_data"
    },
    {
     "data": {
      "text/html": [],
      "text/plain": [
       "<IPython.core.display.HTML object>"
      ]
     },
     "metadata": {},
     "output_type": "display_data"
    },
    {
     "name": "stdout",
     "output_type": "stream",
     "text": [
      "Logged evaluation results to c:\\Users\\Gamer\\Documents\\GitHub\\VS-Code\\Side-Projects\\TrainedModels\\stockScreener\\modelEvaluations.csv\n"
     ]
    },
    {
     "data": {
      "image/png": "[encoded data removed]",
      "text/plain": [
       "<Figure size 1200x800 with 2 Axes>"
      ]
     },
     "metadata": {},
     "output_type": "display_data"
    },
    {
     "name": "stdout",
     "output_type": "stream",
     "text": [
      "Collected 200 valid test tickers (target: 200)\n",
      "\n",
      "Evaluation Results:\n",
      "MAE: 0.527\n",
      "RMSE: 0.843\n",
      "R²: -0.243\n"
     ]
    }
   ],
   "source": [
    "def logEvaluation(model_name, mae, rmse, r2, model_folder, test_tickers):\n",
    "    \"\"\"Log evaluation metrics to CSV file\"\"\"\n",
    "    log_file = model_folder / \"modelEvaluations.csv\"\n",
    "    \n",
    "    new_entry_df = pd.DataFrame([{\n",
    "        \"Model Name\": model_name,\n",
    "        \"Timestamp\": datetime.now().strftime('%Y-%m-%d %H:%M'),\n",
    "        \"MAE\": f'{mae:.3f}',\n",
    "        \"RMSE\": f'{rmse:.3f}',\n",
    "        \"R2\": f'{r2:.3f}',\n",
    "        \"Epochs\": epochs,\n",
    "        \"Training Size\": trainingSize,\n",
    "        \"Test Size\": len(test_tickers),\n",
    "        \"Cat Names\": catNames,\n",
    "        \"Cont Names\": contNames,\n",
    "    }])\n",
    "    \n",
    "    try:\n",
    "        log_df = pd.read_csv(log_file)\n",
    "        log_df = pd.concat([log_df, new_entry_df], ignore_index=True)\n",
    "    except FileNotFoundError:\n",
    "        log_df = new_entry_df\n",
    "        \n",
    "    log_df.to_csv(log_file, index=False)\n",
    "    print(f\"Logged evaluation results to {log_file}\")\n",
    "\n",
    "def plotResults(results_df, model_name, model_folder):\n",
    "    \"\"\"Create and save visualization plots using all data points.\"\"\"\n",
    "    plt.figure(figsize=(12, 8))\n",
    "    \n",
    "    plt.subplot(2, 1, 1)\n",
    "    plt.scatter(results_df['Actual'], results_df['Predicted'], alpha=0.7, label='Predictions')\n",
    "    min_val = min(results_df['Actual'].min(), results_df['Predicted'].min())\n",
    "    max_val = max(results_df['Actual'].max(), results_df['Predicted'].max())\n",
    "    plt.plot([min_val, max_val], [min_val, max_val], color='red', linestyle='--', label='Perfect Prediction')\n",
    "    plt.title(f'Predicted vs. Actual Returns - {model_name}', fontsize=14)\n",
    "    plt.xlabel('Actual Returns')\n",
    "    plt.ylabel('Predicted Returns')\n",
    "    plt.legend()\n",
    "    plt.grid(alpha=0.5)\n",
    "    \n",
    "    plt.subplot(2, 1, 2)\n",
    "    plt.scatter(results_df['Predicted'], results_df['Residual'], alpha=0.7)\n",
    "    plt.axhline(y=0, color='r', linestyle='--')\n",
    "    plt.title('Residual Plot')\n",
    "    plt.xlabel('Predicted Returns')\n",
    "    plt.ylabel('Residual')\n",
    "    plt.grid(alpha=0.5)\n",
    "    \n",
    "    plt.tight_layout()\n",
    "    plt.show()\n",
    "\n",
    "def evaluateModel(learn, test_data, model_name, model_folder, cont_names, cat_names):\n",
    "    \"\"\"Evaluate model on pre-collected test data\"\"\"\n",
    "    # Clean data\n",
    "    test_data_clean = test_data.dropna(subset=['EV/EBIT', 'ROIC', 'Future Year Change'])\n",
    "    \n",
    "    if test_data_clean.empty:\n",
    "        raise ValueError(\"No valid test data after cleaning NaN values\")\n",
    "\n",
    "    # Create test dataloader\n",
    "    test_dl = learn.dls.test_dl(test_data_clean)\n",
    "    preds, targs = learn.get_preds(dl=test_dl)\n",
    "    \n",
    "    # Create results DataFrame\n",
    "    results_df = pd.DataFrame({\n",
    "        'Predicted': preds.numpy().flatten(),\n",
    "        'Actual': targs.numpy().flatten()\n",
    "    })\n",
    "    results_df['Residual'] = results_df['Actual'] - results_df['Predicted']\n",
    "\n",
    "    # Calculate metrics\n",
    "    mae = np.mean(np.abs(results_df['Residual']))\n",
    "    rmse = np.sqrt(np.mean(results_df['Residual']**2))\n",
    "    r2 = 1 - (np.sum(results_df['Residual']**2) / np.sum((results_df['Actual'] - results_df['Actual'].mean())**2))\n",
    "\n",
    "    # Log and plot\n",
    "    logEvaluation(model_name, mae, rmse, r2, model_folder, test_data_clean['Ticker'].unique())\n",
    "    plotResults(results_df, model_name, model_folder)\n",
    "    \n",
    "    return mae, rmse, r2\n",
    "\n",
    "if trainNewModel:\n",
    "    nonTrainingTickers = list(set(tickers) - set(trainingTickers))\n",
    "    validTestData = []\n",
    "    attempted_tickers = set()\n",
    "    attempts = 0\n",
    "\n",
    "    if testSize * 4 <= len(tickers):  \n",
    "        max_attempts = testSize * 4 # Prevent infinite loops\n",
    "    else:\n",
    "        max_attempts = len(tickers)\n",
    "\n",
    "    # Keep trying until we reach testSize or exhaust attempts\n",
    "    while len(validTestData) < testSize and attempts < max_attempts:\n",
    "        # Get a new ticker we haven't tried yet\n",
    "        remaining_tickers = [t for t in nonTrainingTickers if t not in attempted_tickers]\n",
    "        if not remaining_tickers:  # If all tried, reset attempted list\n",
    "            attempted_tickers = set()\n",
    "            remaining_tickers = nonTrainingTickers\n",
    "            \n",
    "        ticker = np.random.choice(remaining_tickers)\n",
    "        attempted_tickers.add(ticker)\n",
    "        attempts += 1\n",
    "\n",
    "        # Fetch and validate data\n",
    "        data = getTickerDataFrom1YrAgo(ticker)\n",
    "        if not data.empty and not data[['EV/EBIT', 'ROIC']].isna().any().any():\n",
    "            validTestData.append(data)\n",
    "\n",
    "    if not validTestData:\n",
    "        raise ValueError(\"No valid test data collected after multiple attempts\")\n",
    "        \n",
    "    # Trim to exact testSize if we collected more\n",
    "    validTestData = validTestData[:testSize]  \n",
    "    combinedTestData = pd.concat(validTestData, ignore_index=True)\n",
    "\n",
    "    # Run evaluation\n",
    "    mae, rmse, r2 = evaluateModel(\n",
    "        learn=learn,\n",
    "        test_data=combinedTestData,\n",
    "        model_name=modelName,\n",
    "        model_folder=modelFolder,\n",
    "        cont_names=contNames,\n",
    "        cat_names=catNames\n",
    "    )\n",
    "\n",
    "    # Show collection stats\n",
    "    print(f\"Collected {len(validTestData)} valid test tickers (target: {testSize})\")\n",
    "    if attempts >= max_attempts:\n",
    "        print(f\"Warning: Reached max attempts ({max_attempts}). Some invalid tickers may remain.\")  \n",
    "    print(f\"\\nEvaluation Results:\")\n",
    "    print(f\"MAE: {mae:.3f}\")\n",
    "    print(f\"RMSE: {rmse:.3f}\")\n",
    "    print(f\"R²: {r2:.3f}\")"
   ]
  },
  {
   "cell_type": "markdown",
   "metadata": {},
   "source": [
    "## Tests"
   ]
  },
  {
   "cell_type": "code",
   "execution_count": 53,
   "metadata": {},
   "outputs": [
    {
     "name": "stdout",
     "output_type": "stream",
     "text": [
      "Model files in modelFolder:\n",
      "stockScreenerV1.0.pkl\n",
      "stockScreenerV2.0.pkl\n",
      "stockScreenerV3.0.pkl\n",
      "stockScreenerV4.0.pkl\n",
      "stockScreenerV4.1.pkl\n",
      "stockScreenerV5.0.pkl\n",
      "stockScreenerV5.1.pkl\n",
      "stockScreenerV5.2.pkl\n",
      "stockScreenerV5.3.pkl\n",
      "stockScreenerV5.4.pkl\n",
      "stockScreenerV6.0.pkl\n",
      "stockScreenerV8.0.pkl\n",
      "stockScreenerV8.1.pkl\n",
      "stockScreenerV8.2.pkl\n",
      "stockScreenerV8.3.pkl\n"
     ]
    }
   ],
   "source": [
    "print('Model files in modelFolder:')\n",
    "for file in modelFolder.glob('*.pkl'):\n",
    "    print(file.name)"
   ]
  },
  {
   "cell_type": "code",
   "execution_count": 54,
   "metadata": {},
   "outputs": [
    {
     "data": {
      "text/plain": [
       "Model Name    stockScreenerV5.0\n",
       "Timestamp      2025-01-21 21:03\n",
       "MAE                       0.237\n",
       "RMSE                      0.302\n",
       "R2                       -0.002\n",
       "Name: 5, dtype: object"
      ]
     },
     "execution_count": 54,
     "metadata": {},
     "output_type": "execute_result"
    }
   ],
   "source": [
    "evaluations = pd.read_csv(modelFolder / 'modelEvaluations.csv')\n",
    "bestModel = evaluations.sort_values('MAE', ascending=True).iloc[0]\n",
    "bestModel.head()"
   ]
  },
  {
   "cell_type": "markdown",
   "metadata": {},
   "source": [
    "### Load model"
   ]
  },
  {
   "cell_type": "code",
   "execution_count": 55,
   "metadata": {},
   "outputs": [],
   "source": [
    "if os.name == 'nt':\n",
    "    temp = pathlib.PosixPath\n",
    "    pathlib.PosixPath = pathlib.WindowsPath\n",
    "else:\n",
    "    pathlib.WindowsPath = pathlib.PosixPath\n",
    "\n",
    "importedModel = Path(f\"{bestModel['Model Name']}.pkl\") # Change this if you want to try other models\n",
    "learn = load_learner(modelFolder / importedModel)"
   ]
  },
  {
   "cell_type": "markdown",
   "metadata": {},
   "source": [
    "## Predictions"
   ]
  },
  {
   "cell_type": "code",
   "execution_count": 56,
   "metadata": {},
   "outputs": [
    {
     "data": {
      "text/html": [
       "\n",
       "<style>\n",
       "    /* Turns off some styling */\n",
       "    progress {\n",
       "        /* gets rid of default border in Firefox and Opera. */\n",
       "        border: none;\n",
       "        /* Needs to be in here for Safari polyfill so background images work as expected. */\n",
       "        background-size: auto;\n",
       "    }\n",
       "    progress:not([value]), progress:not([value])::-webkit-progress-bar {\n",
       "        background: repeating-linear-gradient(45deg, #7e7e7e, #7e7e7e 10px, #5c5c5c 10px, #5c5c5c 20px);\n",
       "    }\n",
       "    .progress-bar-interrupted, .progress-bar-interrupted::-webkit-progress-bar {\n",
       "        background: #F44336;\n",
       "    }\n",
       "</style>\n"
      ],
      "text/plain": [
       "<IPython.core.display.HTML object>"
      ]
     },
     "metadata": {},
     "output_type": "display_data"
    },
    {
     "data": {
      "text/html": [],
      "text/plain": [
       "<IPython.core.display.HTML object>"
      ]
     },
     "metadata": {},
     "output_type": "display_data"
    },
    {
     "name": "stdout",
     "output_type": "stream",
     "text": [
      "Prediction for NVO (Novo Nordisk A/S):\n",
      "51.46%\n",
      "Free money?!\n"
     ]
    }
   ],
   "source": [
    "if predictionTarget != 'None':\n",
    "    if predictionTarget == 'ALL':\n",
    "        predictionTickers = tickers\n",
    "    elif predictionTarget.endswith('%'):\n",
    "        percentage = float(predictionTarget.strip('%')) / 100\n",
    "        num_tickers = int(len(tickers) * percentage)\n",
    "        predictionTickers = np.random.choice(tickers, size=num_tickers, replace=False).tolist()\n",
    "    else:\n",
    "        predictionTickers = [predictionTarget]\n",
    "\n",
    "    # Fetch data for prediction tickers\n",
    "    dfPrediction = pd.concat([getTickerData(ticker) for ticker in predictionTickers], ignore_index=True)\n",
    "\n",
    "    # Ensure dfPrediction is a DataFrame\n",
    "    if isinstance(dfPrediction, dict):\n",
    "        dfPrediction = pd.DataFrame([dfPrediction])\n",
    "\n",
    "    # Create test dataloader\n",
    "    dl = learn.dls.test_dl(dfPrediction)\n",
    "    dfPrediction.head()\n",
    "\n",
    "    # Make predictions\n",
    "    prediction = learn.get_preds(dl=dl)\n",
    "    adr_df = pd.read_csv(testFolder / 'tickers.csv')\n",
    "    company_dict = dict(zip(adr_df['Ticker'], adr_df['Company']))\n",
    "\n",
    "    if predictionTarget == 'ALL' or predictionTarget.endswith('%'):\n",
    "        sorted_predictions = sorted(zip(predictionTickers, prediction[0]), key=lambda x: x[1], reverse=True)\n",
    "        print(f\"Got predictions for {len(sorted_predictions)} tickers, expected: {len(predictionTickers)}\")\n",
    "        print(f\"Prediction for best performing tickers:\")\n",
    "        for symbol, pred in sorted_predictions:\n",
    "            company_name = company_dict.get(symbol, 'Unknown')\n",
    "            print(f\"{symbol} ({company_name}): {pred[0].item() * 100:.2f}%\")\n",
    "    else:\n",
    "        company_name = company_dict.get(predictionTarget, 'Unknown')\n",
    "        print(f\"Prediction for {predictionTarget} ({company_name}):\")\n",
    "        print(f\"{prediction[0][0][0].item() * 100:.2f}%\")\n",
    "    print(\"Free money?!\")\n",
    "\n",
    "predictionTarget = '8%'"
   ]
  },
  {
   "cell_type": "code",
   "execution_count": null,
   "metadata": {},
   "outputs": [],
   "source": []
  }
 ],
 "metadata": {
  "kernelspec": {
   "display_name": "base",
   "language": "python",
   "name": "python3"
  },
  "language_info": {
   "codemirror_mode": {
    "name": "ipython",
    "version": 3
   },
   "file_extension": ".py",
   "mimetype": "text/x-python",
   "name": "python",
   "nbconvert_exporter": "python",
   "pygments_lexer": "ipython3",
   "version": "3.12.3"
  }
 },
 "nbformat": 4,
 "nbformat_minor": 2
}
