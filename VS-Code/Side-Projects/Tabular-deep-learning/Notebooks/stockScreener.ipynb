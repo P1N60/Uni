{
 "cells": [
  {
   "cell_type": "markdown",
   "metadata": {},
   "source": [
    "## Stock Screener: Model Training and Evaluation"
   ]
  },
  {
   "cell_type": "markdown",
   "metadata": {},
   "source": [
    "### Library Installation (if needed)"
   ]
  },
  {
   "cell_type": "code",
   "execution_count": 290,
   "metadata": {},
   "outputs": [],
   "source": [
    "# Install libraries the first time\n",
    "# ! conda install fastai::fastai conda-forge::yfinance pandas pathlib numpy"
   ]
  },
  {
   "cell_type": "markdown",
   "metadata": {},
   "source": [
    "### Importing Required Libraries"
   ]
  },
  {
   "cell_type": "code",
   "execution_count": 291,
   "metadata": {},
   "outputs": [],
   "source": [
    "from fastai.tabular.all import *\n",
    "from fastai.metrics import rmse, mae\n",
    "from datetime import datetime, timedelta\n",
    "import matplotlib.pyplot as plt\n",
    "import yfinance as yf\n",
    "import pandas as pd\n",
    "import numpy as np\n",
    "import pathlib\n",
    "import os"
   ]
  },
  {
   "cell_type": "markdown",
   "metadata": {},
   "source": [
    "### Global Variables"
   ]
  },
  {
   "cell_type": "code",
   "execution_count": 292,
   "metadata": {},
   "outputs": [],
   "source": [
    "# Model settings\n",
    "modelName = 'stockScreenerV1.2'\n",
    "trainingData = 'stockData.csv'\n",
    "getNewData = False \n",
    "trainNewModel = True\n",
    "predictionTarget = 'NVO'  # 'ALL' for all tickers, 'None' for no prediction\n",
    "\n",
    "# Training parameters\n",
    "trainingSize = 300  # Number of stocks to use for training\n",
    "timeFrame = '10y'   # Options: '1d', '5d', '1mo', '3mo', '6mo', '1y', '2y', '5y', '10y', 'ytd', 'max'\n",
    "yNames = ['Future Year Change']\n",
    "contNames = [\n",
    "    'Open', 'Close', 'Volume', 'Dividends', 'Stock Splits',\n",
    "    'EV/EBIT', 'ROIC']\n",
    "catNames = ['Industry']\n",
    "batchSize = 256\n",
    "epochs = 30\n",
    "\n",
    "# Testing parameters\n",
    "testSize = 200  # Number of stocks to test, 'ALL' for all non-training stocks\n",
    "\n",
    "# Paths\n",
    "basePath = Path.cwd().parent\n",
    "dataFolder = basePath / 'TrainingData'\n",
    "modelFolder = basePath.parent / 'TrainedModels' / 'stockScreener'\n",
    "testFolder = basePath / 'TestData'"
   ]
  },
  {
   "cell_type": "markdown",
   "metadata": {},
   "source": [
    "## Data Preparation"
   ]
  },
  {
   "cell_type": "markdown",
   "metadata": {},
   "source": [
    "#### Remove Duplicate Tickers"
   ]
  },
  {
   "cell_type": "code",
   "execution_count": 293,
   "metadata": {},
   "outputs": [],
   "source": [
    "df = pd.read_csv(testFolder / 'tickers.csv')\n",
    "df.drop_duplicates().to_csv(testFolder / 'tickers.csv', index=False)"
   ]
  },
  {
   "cell_type": "markdown",
   "metadata": {},
   "source": [
    "#### Utility Functions"
   ]
  },
  {
   "cell_type": "code",
   "execution_count": 294,
   "metadata": {},
   "outputs": [],
   "source": [
    "def getIndustry(tickerSymbol):\n",
    "    \"\"\"Fetches the industry of the given ticker symbol.\"\"\"\n",
    "    try:\n",
    "        return yf.Ticker(tickerSymbol).info.get('industry', 'Unknown')\n",
    "    except Exception as e:\n",
    "        return 'Error'"
   ]
  },
  {
   "cell_type": "code",
   "execution_count": 295,
   "metadata": {},
   "outputs": [],
   "source": [
    "def calculateFutureYearChange(ticker_symbol, timeframe, buffer=1):\n",
    "    try:\n",
    "        ticker = yf.Ticker(ticker_symbol)\n",
    "        end_date = datetime.now().date()\n",
    "        \n",
    "        # Calculate required date range\n",
    "        if timeframe == 'max':\n",
    "            hist = ticker.history(period='max')\n",
    "        else:\n",
    "            years = int(timeframe[:-1])\n",
    "            start_date = end_date - pd.DateOffset(years=years + buffer)\n",
    "            \n",
    "            # First check if ticker has existed long enough\n",
    "            try:\n",
    "                hist = ticker.history(start=start_date, end=end_date)\n",
    "            except Exception as e:\n",
    "                print(f\"Data unavailable for {ticker_symbol} ({timeframe}): {e}\")\n",
    "                return pd.DataFrame()\n",
    "\n",
    "        if hist.empty:\n",
    "            print(f\"No data found for {ticker_symbol} ({timeframe})\")\n",
    "            return pd.DataFrame()\n",
    "\n",
    "        # Calculate future changes only if we have enough data points\n",
    "        if len(hist) < 300:  # Minimum ~1.5 years of trading days\n",
    "            print(f\"Insufficient data for {ticker_symbol} ({len(hist)} rows)\")\n",
    "            return pd.DataFrame()\n",
    "\n",
    "        # Calculate future price change\n",
    "        hist['Future Year Change'] = (hist['Close'].shift(-252) / hist['Close'] - 1)\n",
    "        hist = hist.dropna(subset=['Future Year Change'])\n",
    "        \n",
    "        return hist[['Open', 'Close', 'Volume', 'Dividends', 'Stock Splits', \n",
    "            'Future Year Change']].reset_index()\n",
    "\n",
    "    except Exception as e:\n",
    "        print(f\"Error processing {ticker_symbol}: {str(e)}\")\n",
    "        return pd.DataFrame()"
   ]
  },
  {
   "cell_type": "code",
   "execution_count": 296,
   "metadata": {},
   "outputs": [],
   "source": [
    "def getEVComponents(tickerSymbol):\n",
    "    \"\"\"Fetches static EV components (total debt, cash, shares outstanding).\"\"\"\n",
    "    try:\n",
    "        info = yf.Ticker(tickerSymbol).info\n",
    "        return info.get('totalDebt', 0), info.get('totalCash', 0), info.get('sharesOutstanding', None)\n",
    "    except Exception as e:\n",
    "        return None, None, None"
   ]
  },
  {
   "cell_type": "code",
   "execution_count": 297,
   "metadata": {},
   "outputs": [],
   "source": [
    "def calculateApproxEBIT(tickerSymbol):\n",
    "    try:\n",
    "        info = yf.Ticker(tickerSymbol).info\n",
    "        revenue = info.get('totalRevenue', None)\n",
    "        operatingIncome = info.get('operatingIncome', None)\n",
    "        ebit = operatingIncome if operatingIncome else (revenue * 0.15 if revenue else None)\n",
    "        return ebit if ebit and ebit != 0 else None  # Avoid zero division\n",
    "    except Exception as e:\n",
    "        return None"
   ]
  },
  {
   "cell_type": "code",
   "execution_count": 298,
   "metadata": {},
   "outputs": [],
   "source": [
    "def enrichDataWithMetrics(histData):\n",
    "    \"\"\"Adds EV/EBIT and ROIC to the historical data.\"\"\"\n",
    "    # Initialize columns with NaN if they don't exist\n",
    "    if 'EV/EBIT' not in histData.columns:\n",
    "        histData['EV/EBIT'] = np.nan\n",
    "    if 'ROIC' not in histData.columns:\n",
    "        histData['ROIC'] = np.nan\n",
    "    \n",
    "    for ticker in histData['Ticker'].unique():\n",
    "        try:\n",
    "            totalDebt, cash, sharesOutstanding = getEVComponents(ticker)\n",
    "            ebit = calculateApproxEBIT(ticker)\n",
    "\n",
    "            if sharesOutstanding and ebit and ebit != 0:\n",
    "                histData.loc[histData['Ticker'] == ticker, 'EV/EBIT'] = (\n",
    "                    (histData['Close'] * sharesOutstanding + totalDebt - cash) / ebit\n",
    "                )\n",
    "\n",
    "                taxRate = 0.21\n",
    "                nopat = ebit * (1 - taxRate)\n",
    "                investedCapital = totalDebt + (histData['Close'] * sharesOutstanding) - cash\n",
    "                histData.loc[histData['Ticker'] == ticker, 'ROIC'] = nopat / investedCapital\n",
    "        except Exception as e:\n",
    "            pass\n",
    "    return histData"
   ]
  },
  {
   "cell_type": "code",
   "execution_count": 299,
   "metadata": {},
   "outputs": [],
   "source": [
    "def getTickerDataFrom1YrAgo(ticker_symbol):\n",
    "    try:\n",
    "        # Fetch ticker data\n",
    "        ticker = yf.Ticker(ticker_symbol)\n",
    "\n",
    "        # Define the date range: one year ago to today\n",
    "        today = datetime.today()\n",
    "        one_year_ago = today - timedelta(days=365)\n",
    "\n",
    "        # Fetch historical data for one year ago\n",
    "        hist = ticker.history(start=(one_year_ago - timedelta(days=30)).strftime('%Y-%m-%d'), \n",
    "                              end=(one_year_ago + timedelta(days=0)).strftime('%Y-%m-%d'))\n",
    "        if hist.empty:\n",
    "            raise ValueError(f\"No historical data available for {ticker_symbol} around {one_year_ago.strftime('%Y-%m-%d')}.\")\n",
    "\n",
    "        # Extract the closest data point to one year ago\n",
    "        row = hist.iloc[0]  # Get the first available entry within the date range\n",
    "\n",
    "        # Price today\n",
    "        price_today = ticker.history(period='1d')['Close'].iloc[-1]\n",
    "\n",
    "        # Calculate future price change (from one year ago to today)\n",
    "        price_change_future = ((price_today - row['Close']) / row['Close']) if row['Close'] else None\n",
    "\n",
    "        # Collect additional data\n",
    "        total_debt, cash, shares_outstanding = getEVComponents(ticker_symbol)\n",
    "        ebit = calculateApproxEBIT(ticker_symbol)\n",
    "        ev = (row['Close'] * shares_outstanding) + total_debt - cash if shares_outstanding else None\n",
    "        ev_ebit = ev / ebit if ebit else None\n",
    "        market_cap = row['Close'] * shares_outstanding if shares_outstanding else None\n",
    "        tax_rate = 0.21\n",
    "        nopat = ebit * (1 - tax_rate) if ebit else None\n",
    "        invested_capital = total_debt + market_cap - cash if market_cap and total_debt and cash else None\n",
    "        roic = nopat / invested_capital if nopat and invested_capital else None\n",
    "        industry = getIndustry(ticker_symbol)\n",
    "\n",
    "        # Return as a DataFrame\n",
    "        return pd.DataFrame([{\n",
    "            'Ticker': ticker_symbol,\n",
    "            'Date': row.name,\n",
    "            'Open': row['Open'],\n",
    "            'High': row['High'],\n",
    "            'Low': row['Low'],\n",
    "            'Close': row['Close'],\n",
    "            'Volume': row['Volume'],\n",
    "            'Dividends': row.get('Dividends', 0.0),\n",
    "            'Stock Splits': row.get('Stock Splits', 0.0),\n",
    "            'Future Year Change': price_change_future,\n",
    "            'Industry': industry,\n",
    "            'EV/EBIT': ev_ebit,\n",
    "            'ROIC': roic\n",
    "        }])\n",
    "\n",
    "    except Exception as e:\n",
    "        print(f\"Error fetching data for {ticker_symbol}: {e}\")\n",
    "        return pd.DataFrame()"
   ]
  },
  {
   "cell_type": "code",
   "execution_count": 300,
   "metadata": {},
   "outputs": [],
   "source": [
    "def getTickerData(ticker_symbol):\n",
    "    try:\n",
    "        ticker = yf.Ticker(ticker_symbol)\n",
    "        hist = ticker.history(period='1d')\n",
    "        total_debt, cash, shares_outstanding = getEVComponents(ticker_symbol)\n",
    "        ebit = calculateApproxEBIT(ticker_symbol)\n",
    "        ev = (hist['Close'].iloc[-1] * shares_outstanding) + total_debt - cash\n",
    "        ev_ebit = ev / ebit if ebit else None\n",
    "        market_cap = hist['Close'].iloc[-1] * shares_outstanding\n",
    "        tax_rate = 0.21\n",
    "        nopat = ebit * (1 - tax_rate) if ebit else None\n",
    "        invested_capital = total_debt + market_cap - cash\n",
    "        roic = nopat / invested_capital if nopat and invested_capital else None\n",
    "        industry = getIndustry(ticker_symbol)\n",
    "        \n",
    "        # Add the 'Date' column\n",
    "        date = datetime.now().strftime('%Y-%m-%d')\n",
    "\n",
    "        return pd.DataFrame([{\n",
    "            'Date': date,\n",
    "            'Open': hist['Open'].iloc[-1],\n",
    "            'High': hist['High'].iloc[-1],\n",
    "            'Low': hist['Low'].iloc[-1],\n",
    "            'Close': hist['Close'].iloc[-1],\n",
    "            'Volume': hist['Volume'].iloc[-1],\n",
    "            'Dividends': hist.get('Dividends', pd.Series([0.0])).iloc[-1],\n",
    "            'Stock Splits': hist.get('Stock Splits', pd.Series([0.0])).iloc[-1],\n",
    "            'EV/EBIT': ev_ebit,\n",
    "            'Market Cap': market_cap,\n",
    "            'ROIC': roic,\n",
    "            'Industry': industry\n",
    "        }])\n",
    "    except Exception:\n",
    "        return pd.DataFrame()"
   ]
  },
  {
   "cell_type": "markdown",
   "metadata": {},
   "source": [
    "#### Download and Process Historical Data"
   ]
  },
  {
   "cell_type": "code",
   "execution_count": 301,
   "metadata": {},
   "outputs": [],
   "source": [
    "tickers = pd.read_csv(testFolder / 'tickers.csv')['Ticker']\n",
    "trainingTickers = np.random.choice(tickers, size=trainingSize, replace=False)\n",
    "\n",
    "if getNewData:\n",
    "    histData = pd.DataFrame()\n",
    "    valid_tickers = []\n",
    "    \n",
    "    for ticker in trainingTickers:\n",
    "        print(f\"Processing {ticker}...\")\n",
    "        data = calculateFutureYearChange(ticker, timeFrame)\n",
    "        if not data.empty:\n",
    "            data['Ticker'] = ticker\n",
    "            data['Industry'] = getIndustry(ticker)\n",
    "            data['Date'] = pd.to_datetime(data['Date']).dt.tz_localize(None)\n",
    "            \n",
    "            # Enrich individual ticker data first\n",
    "            ticker_data = enrichDataWithMetrics(data)\n",
    "            histData = pd.concat([histData, ticker_data])\n",
    "            \n",
    "            # Check if metrics were added\n",
    "            if 'ROIC' not in ticker_data.columns:\n",
    "                print(f\"WARNING: Failed to add metrics for {ticker}\")\n",
    "            \n",
    "            valid_tickers.append(ticker)\n",
    "        else:\n",
    "            print(f\"Skipped {ticker} - insufficient data\")\n",
    "\n",
    "    print(f\"\\nColumns in final dataset: {histData.columns.tolist()}\")\n",
    "    \n",
    "    if not histData.empty:\n",
    "        histData = enrichDataWithMetrics(histData)\n",
    "        histData.to_csv(dataFolder / trainingData, index=True)\n",
    "        # Verify no future targets leaked to past dates\n",
    "        latest_date = pd.to_datetime(histData['Date']).max()\n",
    "        if 'Future Year Change' in histData.columns:\n",
    "            target_dates = histData[histData['Future Year Change'].notnull()]['Date']\n",
    "            if any(pd.to_datetime(target_dates) > latest_date):\n",
    "                raise ValueError(\"CRITICAL: Analyst targets contain future dates!\")\n",
    "        print(f\"Saved training data with {len(histData)} rows\")\n",
    "    else:\n",
    "        print(\"Warning: No data collected - check your tickers list\")"
   ]
  },
  {
   "cell_type": "markdown",
   "metadata": {},
   "source": [
    "## Model Training"
   ]
  },
  {
   "cell_type": "code",
   "execution_count": 302,
   "metadata": {},
   "outputs": [],
   "source": [
    "TRAINING_CUTOFF = pd.to_datetime('2023-01-01')\n",
    "\n",
    "df = pd.read_csv(dataFolder / trainingData)\n",
    "dfCleaned = df.dropna(subset=['EV/EBIT', 'ROIC']).copy()\n",
    "\n",
    "# Convert 'Date' to datetime and drop invalid\n",
    "dfCleaned['Date'] = pd.to_datetime(dfCleaned['Date'], errors='coerce')\n",
    "dfCleaned = dfCleaned.dropna(subset=['Date'])\n",
    "\n",
    "# Clean 'EV/EBIT' and reset index\n",
    "dfCleaned['EV/EBIT'] = dfCleaned['EV/EBIT'].replace([np.inf, -np.inf], np.nan)\n",
    "dfCleaned = dfCleaned.dropna(subset=['EV/EBIT', 'ROIC'])\n",
    "dfCleaned = dfCleaned.reset_index(drop=True)  # Reset index here\n",
    "dfCleaned.to_csv(dataFolder / trainingData, index=False)\n",
    "\n",
    "# Check for empty data\n",
    "if dfCleaned.empty:\n",
    "    raise ValueError(\"The cleaned DataFrame is empty.\")\n",
    "\n",
    "# Create splits with valid indices\n",
    "train_mask = dfCleaned['Date'] < TRAINING_CUTOFF\n",
    "valid_mask = ~train_mask\n",
    "splits = (list(dfCleaned[train_mask].index), list(dfCleaned[valid_mask].index))\n",
    "\n",
    "if not splits[0] or not splits[1]:\n",
    "    raise ValueError(\"Empty training or validation split.\")\n",
    "\n",
    "# Proceed with TabularPandas\n",
    "to = TabularPandas(\n",
    "    dfCleaned, \n",
    "    procs=[Categorify, FillMissing, Normalize],\n",
    "    y_names=yNames,\n",
    "    cat_names=catNames, \n",
    "    cont_names=contNames,\n",
    "    splits=splits\n",
    ")\n",
    "\n",
    "dls = to.dataloaders(bs=batchSize)"
   ]
  },
  {
   "cell_type": "code",
   "execution_count": 304,
   "metadata": {},
   "outputs": [
    {
     "data": {
      "text/html": [],
      "text/plain": [
       "<IPython.core.display.HTML object>"
      ]
     },
     "metadata": {},
     "output_type": "display_data"
    },
    {
     "name": "stdout",
     "output_type": "stream",
     "text": [
      "Training for 30 epochs...\n"
     ]
    },
    {
     "data": {
      "text/html": [
       "<table border=\"1\" class=\"dataframe\">\n",
       "  <thead>\n",
       "    <tr style=\"text-align: left;\">\n",
       "      <th>epoch</th>\n",
       "      <th>train_loss</th>\n",
       "      <th>valid_loss</th>\n",
       "      <th>_rmse</th>\n",
       "      <th>mae</th>\n",
       "      <th>time</th>\n",
       "    </tr>\n",
       "  </thead>\n",
       "  <tbody>\n",
       "    <tr>\n",
       "      <td>0</td>\n",
       "      <td>170.878937</td>\n",
       "      <td>3.915323</td>\n",
       "      <td>1.978718</td>\n",
       "      <td>0.528319</td>\n",
       "      <td>00:22</td>\n",
       "    </tr>\n",
       "    <tr>\n",
       "      <td>1</td>\n",
       "      <td>183.696243</td>\n",
       "      <td>0.844917</td>\n",
       "      <td>0.919194</td>\n",
       "      <td>0.510416</td>\n",
       "      <td>00:18</td>\n",
       "    </tr>\n",
       "    <tr>\n",
       "      <td>2</td>\n",
       "      <td>58.775322</td>\n",
       "      <td>1.702880</td>\n",
       "      <td>1.304945</td>\n",
       "      <td>0.497346</td>\n",
       "      <td>00:23</td>\n",
       "    </tr>\n",
       "    <tr>\n",
       "      <td>3</td>\n",
       "      <td>126.461411</td>\n",
       "      <td>0.835885</td>\n",
       "      <td>0.914267</td>\n",
       "      <td>0.492864</td>\n",
       "      <td>00:18</td>\n",
       "    </tr>\n",
       "    <tr>\n",
       "      <td>4</td>\n",
       "      <td>7.119753</td>\n",
       "      <td>3.271441</td>\n",
       "      <td>1.808712</td>\n",
       "      <td>0.497390</td>\n",
       "      <td>00:18</td>\n",
       "    </tr>\n",
       "    <tr>\n",
       "      <td>5</td>\n",
       "      <td>114.421486</td>\n",
       "      <td>0.556718</td>\n",
       "      <td>0.746135</td>\n",
       "      <td>0.494312</td>\n",
       "      <td>00:19</td>\n",
       "    </tr>\n",
       "    <tr>\n",
       "      <td>6</td>\n",
       "      <td>56.916878</td>\n",
       "      <td>2.637567</td>\n",
       "      <td>1.624059</td>\n",
       "      <td>0.524755</td>\n",
       "      <td>00:19</td>\n",
       "    </tr>\n",
       "    <tr>\n",
       "      <td>7</td>\n",
       "      <td>64.455116</td>\n",
       "      <td>0.991695</td>\n",
       "      <td>0.995839</td>\n",
       "      <td>0.541552</td>\n",
       "      <td>00:19</td>\n",
       "    </tr>\n",
       "    <tr>\n",
       "      <td>8</td>\n",
       "      <td>121.565163</td>\n",
       "      <td>0.810417</td>\n",
       "      <td>0.900232</td>\n",
       "      <td>0.517902</td>\n",
       "      <td>00:20</td>\n",
       "    </tr>\n",
       "    <tr>\n",
       "      <td>9</td>\n",
       "      <td>115.585121</td>\n",
       "      <td>0.575571</td>\n",
       "      <td>0.758664</td>\n",
       "      <td>0.531113</td>\n",
       "      <td>00:20</td>\n",
       "    </tr>\n",
       "    <tr>\n",
       "      <td>10</td>\n",
       "      <td>154.179169</td>\n",
       "      <td>0.605043</td>\n",
       "      <td>0.777845</td>\n",
       "      <td>0.523041</td>\n",
       "      <td>00:18</td>\n",
       "    </tr>\n",
       "    <tr>\n",
       "      <td>11</td>\n",
       "      <td>107.815590</td>\n",
       "      <td>33.998268</td>\n",
       "      <td>5.830803</td>\n",
       "      <td>0.577920</td>\n",
       "      <td>00:18</td>\n",
       "    </tr>\n",
       "    <tr>\n",
       "      <td>12</td>\n",
       "      <td>28.980644</td>\n",
       "      <td>0.573020</td>\n",
       "      <td>0.756981</td>\n",
       "      <td>0.541140</td>\n",
       "      <td>00:22</td>\n",
       "    </tr>\n",
       "    <tr>\n",
       "      <td>13</td>\n",
       "      <td>18.355751</td>\n",
       "      <td>0.579979</td>\n",
       "      <td>0.761563</td>\n",
       "      <td>0.541066</td>\n",
       "      <td>00:21</td>\n",
       "    </tr>\n",
       "    <tr>\n",
       "      <td>14</td>\n",
       "      <td>50.533749</td>\n",
       "      <td>0.584738</td>\n",
       "      <td>0.764681</td>\n",
       "      <td>0.543164</td>\n",
       "      <td>00:18</td>\n",
       "    </tr>\n",
       "    <tr>\n",
       "      <td>15</td>\n",
       "      <td>260.297302</td>\n",
       "      <td>0.677327</td>\n",
       "      <td>0.822999</td>\n",
       "      <td>0.550946</td>\n",
       "      <td>00:18</td>\n",
       "    </tr>\n",
       "    <tr>\n",
       "      <td>16</td>\n",
       "      <td>134.062683</td>\n",
       "      <td>0.919331</td>\n",
       "      <td>0.958818</td>\n",
       "      <td>0.543678</td>\n",
       "      <td>00:18</td>\n",
       "    </tr>\n",
       "    <tr>\n",
       "      <td>17</td>\n",
       "      <td>21.711752</td>\n",
       "      <td>0.673757</td>\n",
       "      <td>0.820827</td>\n",
       "      <td>0.542516</td>\n",
       "      <td>00:21</td>\n",
       "    </tr>\n",
       "    <tr>\n",
       "      <td>18</td>\n",
       "      <td>130.624512</td>\n",
       "      <td>0.636454</td>\n",
       "      <td>0.797781</td>\n",
       "      <td>0.580273</td>\n",
       "      <td>00:18</td>\n",
       "    </tr>\n",
       "    <tr>\n",
       "      <td>19</td>\n",
       "      <td>75.384781</td>\n",
       "      <td>17.623695</td>\n",
       "      <td>4.198058</td>\n",
       "      <td>0.577915</td>\n",
       "      <td>00:19</td>\n",
       "    </tr>\n",
       "    <tr>\n",
       "      <td>20</td>\n",
       "      <td>51.223446</td>\n",
       "      <td>11.461219</td>\n",
       "      <td>3.385442</td>\n",
       "      <td>0.569303</td>\n",
       "      <td>00:19</td>\n",
       "    </tr>\n",
       "    <tr>\n",
       "      <td>21</td>\n",
       "      <td>83.774635</td>\n",
       "      <td>0.659559</td>\n",
       "      <td>0.812132</td>\n",
       "      <td>0.559009</td>\n",
       "      <td>00:18</td>\n",
       "    </tr>\n",
       "    <tr>\n",
       "      <td>22</td>\n",
       "      <td>75.808571</td>\n",
       "      <td>0.555282</td>\n",
       "      <td>0.745172</td>\n",
       "      <td>0.531627</td>\n",
       "      <td>00:19</td>\n",
       "    </tr>\n",
       "    <tr>\n",
       "      <td>23</td>\n",
       "      <td>120.006279</td>\n",
       "      <td>0.611925</td>\n",
       "      <td>0.782256</td>\n",
       "      <td>0.540488</td>\n",
       "      <td>00:22</td>\n",
       "    </tr>\n",
       "    <tr>\n",
       "      <td>24</td>\n",
       "      <td>137.069397</td>\n",
       "      <td>0.629544</td>\n",
       "      <td>0.793438</td>\n",
       "      <td>0.563101</td>\n",
       "      <td>00:19</td>\n",
       "    </tr>\n",
       "    <tr>\n",
       "      <td>25</td>\n",
       "      <td>5.850123</td>\n",
       "      <td>0.572653</td>\n",
       "      <td>0.756739</td>\n",
       "      <td>0.536119</td>\n",
       "      <td>00:19</td>\n",
       "    </tr>\n",
       "    <tr>\n",
       "      <td>26</td>\n",
       "      <td>21.518059</td>\n",
       "      <td>0.694829</td>\n",
       "      <td>0.833564</td>\n",
       "      <td>0.526263</td>\n",
       "      <td>00:19</td>\n",
       "    </tr>\n",
       "    <tr>\n",
       "      <td>27</td>\n",
       "      <td>174.235962</td>\n",
       "      <td>26.347021</td>\n",
       "      <td>5.132935</td>\n",
       "      <td>0.587594</td>\n",
       "      <td>00:20</td>\n",
       "    </tr>\n",
       "    <tr>\n",
       "      <td>28</td>\n",
       "      <td>75.109612</td>\n",
       "      <td>0.692132</td>\n",
       "      <td>0.831945</td>\n",
       "      <td>0.545967</td>\n",
       "      <td>00:19</td>\n",
       "    </tr>\n",
       "    <tr>\n",
       "      <td>29</td>\n",
       "      <td>82.705322</td>\n",
       "      <td>1.554919</td>\n",
       "      <td>1.246964</td>\n",
       "      <td>0.552840</td>\n",
       "      <td>00:18</td>\n",
       "    </tr>\n",
       "  </tbody>\n",
       "</table>"
      ],
      "text/plain": [
       "<IPython.core.display.HTML object>"
      ]
     },
     "metadata": {},
     "output_type": "display_data"
    },
    {
     "name": "stdout",
     "output_type": "stream",
     "text": [
      "Model training complete\n"
     ]
    },
    {
     "data": {
      "image/png": "[encoded data removed]",
      "text/plain": [
       "<Figure size 640x480 with 1 Axes>"
      ]
     },
     "metadata": {},
     "output_type": "display_data"
    }
   ],
   "source": [
    "if trainNewModel:\n",
    "    learn = tabular_learner(dls, metrics=[rmse, mae])\n",
    "\n",
    "    # Learning rate finder\n",
    "    lr_min, lr_steep = learn.lr_find(suggest_funcs=(minimum, steep))\n",
    "\n",
    "    # Check if learning rates are valid\n",
    "    if lr_min is None or lr_steep is None:\n",
    "        raise ValueError(\"Learning rate finder did not return valid learning rates.\")\n",
    "\n",
    "    # Train\n",
    "    print(f\"Training for {epochs} epochs...\")\n",
    "    learn.fit_one_cycle(epochs, lr_max=lr_steep)\n",
    "    print(\"Model training complete\")\n",
    "\n",
    "    learn.export(modelFolder / f'{modelName}.pkl')"
   ]
  },
  {
   "cell_type": "markdown",
   "metadata": {},
   "source": [
    "## Testing and benchmarking"
   ]
  },
  {
   "cell_type": "code",
   "execution_count": 305,
   "metadata": {},
   "outputs": [
    {
     "name": "stderr",
     "output_type": "stream",
     "text": [
      "$FCLF: possibly delisted; no price data found  (1d 2023-12-28 -> 2024-01-27)\n",
      "$PF: possibly delisted; no price data found  (1d 2023-12-28 -> 2024-01-27)\n"
     ]
    },
    {
     "name": "stdout",
     "output_type": "stream",
     "text": [
      "Error fetching data for FCLF: No historical data available for FCLF around 2024-01-27.\n",
      "Error fetching data for PF: No historical data available for PF around 2024-01-27.\n"
     ]
    },
    {
     "name": "stderr",
     "output_type": "stream",
     "text": [
      "$AGU: possibly delisted; no price data found  (1d 2023-12-28 -> 2024-01-27)\n",
      "$NTT: possibly delisted; no price data found  (1d 2023-12-28 -> 2024-01-27)\n",
      "$LLTC: possibly delisted; no price data found  (1d 2023-12-28 -> 2024-01-27)\n"
     ]
    },
    {
     "name": "stdout",
     "output_type": "stream",
     "text": [
      "Error fetching data for AGU: No historical data available for AGU around 2024-01-27.\n",
      "Error fetching data for NTT: No historical data available for NTT around 2024-01-27.\n",
      "Error fetching data for LLTC: No historical data available for LLTC around 2024-01-27.\n"
     ]
    },
    {
     "name": "stderr",
     "output_type": "stream",
     "text": [
      "$MJN: possibly delisted; no price data found  (1d 2023-12-28 -> 2024-01-27)\n"
     ]
    },
    {
     "name": "stdout",
     "output_type": "stream",
     "text": [
      "Error fetching data for MJN: No historical data available for MJN around 2024-01-27.\n"
     ]
    },
    {
     "name": "stderr",
     "output_type": "stream",
     "text": [
      "$INSY: possibly delisted; no timezone found\n"
     ]
    },
    {
     "name": "stdout",
     "output_type": "stream",
     "text": [
      "Error fetching data for INSY: No historical data available for INSY around 2024-01-27.\n"
     ]
    },
    {
     "name": "stderr",
     "output_type": "stream",
     "text": [
      "$PPR: possibly delisted; no timezone found\n",
      "$KEYN: possibly delisted; no price data found  (1d 2023-12-28 -> 2024-01-27)\n"
     ]
    },
    {
     "name": "stdout",
     "output_type": "stream",
     "text": [
      "Error fetching data for PPR: No historical data available for PPR around 2024-01-27.\n",
      "Error fetching data for KEYN: No historical data available for KEYN around 2024-01-27.\n"
     ]
    },
    {
     "name": "stderr",
     "output_type": "stream",
     "text": [
      "$RBS-I: possibly delisted; no timezone found\n",
      "$SLTC: possibly delisted; no price data found  (1d 2023-12-28 -> 2024-01-27)\n",
      "$EXA: possibly delisted; no price data found  (1d 2023-12-28 -> 2024-01-27)\n"
     ]
    },
    {
     "name": "stdout",
     "output_type": "stream",
     "text": [
      "Error fetching data for RBS-I: No historical data available for RBS-I around 2024-01-27.\n",
      "Error fetching data for SLTC: No historical data available for SLTC around 2024-01-27.\n",
      "Error fetching data for EXA: No historical data available for EXA around 2024-01-27.\n"
     ]
    },
    {
     "name": "stderr",
     "output_type": "stream",
     "text": [
      "$NNC-F: possibly delisted; no timezone found\n"
     ]
    },
    {
     "name": "stdout",
     "output_type": "stream",
     "text": [
      "Error fetching data for NNC-F: No historical data available for NNC-F around 2024-01-27.\n"
     ]
    },
    {
     "name": "stderr",
     "output_type": "stream",
     "text": [
      "$PGH: possibly delisted; no price data found  (1d 2023-12-28 -> 2024-01-27)\n"
     ]
    },
    {
     "name": "stdout",
     "output_type": "stream",
     "text": [
      "Error fetching data for PGH: No historical data available for PGH around 2024-01-27.\n"
     ]
    },
    {
     "name": "stderr",
     "output_type": "stream",
     "text": [
      "$ANDAW: possibly delisted; no timezone found\n",
      "$HAST: possibly delisted; no price data found  (1d 2023-12-28 -> 2024-01-27)\n"
     ]
    },
    {
     "name": "stdout",
     "output_type": "stream",
     "text": [
      "Error fetching data for ANDAW: No historical data available for ANDAW around 2024-01-27.\n",
      "Error fetching data for HAST: No historical data available for HAST around 2024-01-27.\n"
     ]
    },
    {
     "name": "stderr",
     "output_type": "stream",
     "text": [
      "$SRT: possibly delisted; no timezone found\n",
      "$CUBIL: possibly delisted; no price data found  (1d 2023-12-28 -> 2024-01-27)\n"
     ]
    },
    {
     "name": "stdout",
     "output_type": "stream",
     "text": [
      "Error fetching data for SRT: No historical data available for SRT around 2024-01-27.\n",
      "Error fetching data for CUBIL: No historical data available for CUBIL around 2024-01-27.\n"
     ]
    },
    {
     "name": "stderr",
     "output_type": "stream",
     "text": [
      "$LUB: possibly delisted; no timezone found\n",
      "$FSYS: possibly delisted; no price data found  (1d 2023-12-28 -> 2024-01-27)\n",
      "$BGSC: possibly delisted; no price data found  (1d 2023-12-28 -> 2024-01-27)\n"
     ]
    },
    {
     "name": "stdout",
     "output_type": "stream",
     "text": [
      "Error fetching data for LUB: No historical data available for LUB around 2024-01-27.\n",
      "Error fetching data for FSYS: No historical data available for FSYS around 2024-01-27.\n",
      "Error fetching data for BGSC: No historical data available for BGSC around 2024-01-27.\n"
     ]
    },
    {
     "name": "stderr",
     "output_type": "stream",
     "text": [
      "$MXIM: possibly delisted; no timezone found\n"
     ]
    },
    {
     "name": "stdout",
     "output_type": "stream",
     "text": [
      "Error fetching data for MXIM: No historical data available for MXIM around 2024-01-27.\n"
     ]
    },
    {
     "name": "stderr",
     "output_type": "stream",
     "text": [
      "$MSG: possibly delisted; no timezone found\n"
     ]
    },
    {
     "name": "stdout",
     "output_type": "stream",
     "text": [
      "Error fetching data for MSG: No historical data available for MSG around 2024-01-27.\n"
     ]
    },
    {
     "name": "stderr",
     "output_type": "stream",
     "text": [
      "$USB-A: possibly delisted; no timezone found\n"
     ]
    },
    {
     "name": "stdout",
     "output_type": "stream",
     "text": [
      "Error fetching data for USB-A: No historical data available for USB-A around 2024-01-27.\n"
     ]
    },
    {
     "name": "stderr",
     "output_type": "stream",
     "text": [
      "$AMTG: possibly delisted; no price data found  (1d 2023-12-28 -> 2024-01-27)\n"
     ]
    },
    {
     "name": "stdout",
     "output_type": "stream",
     "text": [
      "Error fetching data for AMTG: No historical data available for AMTG around 2024-01-27.\n"
     ]
    },
    {
     "name": "stderr",
     "output_type": "stream",
     "text": [
      "$SWU: possibly delisted; no price data found  (1d 2023-12-28 -> 2024-01-27)\n",
      "$ACAS: possibly delisted; no price data found  (1d 2023-12-28 -> 2024-01-27)\n",
      "$APSA: possibly delisted; no price data found  (1d 2023-12-28 -> 2024-01-27)\n"
     ]
    },
    {
     "name": "stdout",
     "output_type": "stream",
     "text": [
      "Error fetching data for SWU: No historical data available for SWU around 2024-01-27.\n",
      "Error fetching data for ACAS: No historical data available for ACAS around 2024-01-27.\n",
      "Error fetching data for APSA: No historical data available for APSA around 2024-01-27.\n"
     ]
    },
    {
     "name": "stderr",
     "output_type": "stream",
     "text": [
      "$WAIR: possibly delisted; no timezone found\n",
      "$ASDR: possibly delisted; no price data found  (1d 2023-12-28 -> 2024-01-27)\n",
      "$XOOM: possibly delisted; no price data found  (1d 2023-12-28 -> 2024-01-27)\n"
     ]
    },
    {
     "name": "stdout",
     "output_type": "stream",
     "text": [
      "Error fetching data for WAIR: No historical data available for WAIR around 2024-01-27.\n",
      "Error fetching data for ASDR: No historical data available for ASDR around 2024-01-27.\n",
      "Error fetching data for XOOM: No historical data available for XOOM around 2024-01-27.\n"
     ]
    },
    {
     "name": "stderr",
     "output_type": "stream",
     "text": [
      "$IMRS: possibly delisted; no price data found  (1d 2023-12-28 -> 2024-01-27)\n"
     ]
    },
    {
     "name": "stdout",
     "output_type": "stream",
     "text": [
      "Error fetching data for IMRS: No historical data available for IMRS around 2024-01-27.\n"
     ]
    },
    {
     "name": "stderr",
     "output_type": "stream",
     "text": [
      "$UNT: possibly delisted; no timezone found\n"
     ]
    },
    {
     "name": "stdout",
     "output_type": "stream",
     "text": [
      "Error fetching data for UNT: No historical data available for UNT around 2024-01-27.\n"
     ]
    },
    {
     "name": "stderr",
     "output_type": "stream",
     "text": [
      "$PTRY: possibly delisted; no price data found  (1d 2023-12-28 -> 2024-01-27)\n"
     ]
    },
    {
     "name": "stdout",
     "output_type": "stream",
     "text": [
      "Error fetching data for PTRY: No historical data available for PTRY around 2024-01-27.\n"
     ]
    },
    {
     "name": "stderr",
     "output_type": "stream",
     "text": [
      "$NXR: possibly delisted; no timezone found\n"
     ]
    },
    {
     "name": "stdout",
     "output_type": "stream",
     "text": [
      "Error fetching data for NXR: No historical data available for NXR around 2024-01-27.\n"
     ]
    },
    {
     "name": "stderr",
     "output_type": "stream",
     "text": [
      "$SNI: possibly delisted; no price data found  (1d 2023-12-28 -> 2024-01-27)\n"
     ]
    },
    {
     "name": "stdout",
     "output_type": "stream",
     "text": [
      "Error fetching data for SNI: No historical data available for SNI around 2024-01-27.\n"
     ]
    },
    {
     "name": "stderr",
     "output_type": "stream",
     "text": [
      "$ZB-G: possibly delisted; no timezone found\n"
     ]
    },
    {
     "name": "stdout",
     "output_type": "stream",
     "text": [
      "Error fetching data for ZB-G: No historical data available for ZB-G around 2024-01-27.\n"
     ]
    },
    {
     "name": "stderr",
     "output_type": "stream",
     "text": [
      "$TSC: possibly delisted; no timezone found\n",
      "$PENX: possibly delisted; no price data found  (1d 2023-12-28 -> 2024-01-27)\n"
     ]
    },
    {
     "name": "stdout",
     "output_type": "stream",
     "text": [
      "Error fetching data for TSC: No historical data available for TSC around 2024-01-27.\n",
      "Error fetching data for PENX: No historical data available for PENX around 2024-01-27.\n"
     ]
    },
    {
     "name": "stderr",
     "output_type": "stream",
     "text": [
      "$MFNC: possibly delisted; no timezone found\n",
      "$RNO: possibly delisted; no price data found  (1d 2023-12-28 -> 2024-01-27)\n"
     ]
    },
    {
     "name": "stdout",
     "output_type": "stream",
     "text": [
      "Error fetching data for MFNC: No historical data available for MFNC around 2024-01-27.\n",
      "Error fetching data for RNO: No historical data available for RNO around 2024-01-27.\n"
     ]
    },
    {
     "name": "stderr",
     "output_type": "stream",
     "text": [
      "$AFW: possibly delisted; no timezone found\n"
     ]
    },
    {
     "name": "stdout",
     "output_type": "stream",
     "text": [
      "Error fetching data for AFW: No historical data available for AFW around 2024-01-27.\n"
     ]
    },
    {
     "name": "stderr",
     "output_type": "stream",
     "text": [
      "$BEE-C: possibly delisted; no timezone found\n"
     ]
    },
    {
     "name": "stdout",
     "output_type": "stream",
     "text": [
      "Error fetching data for BEE-C: No historical data available for BEE-C around 2024-01-27.\n"
     ]
    },
    {
     "name": "stderr",
     "output_type": "stream",
     "text": [
      "$MFRI: possibly delisted; no price data found  (1d 2023-12-28 -> 2024-01-27)\n"
     ]
    },
    {
     "name": "stdout",
     "output_type": "stream",
     "text": [
      "Error fetching data for MFRI: No historical data available for MFRI around 2024-01-27.\n"
     ]
    },
    {
     "name": "stderr",
     "output_type": "stream",
     "text": [
      "$CYNO: possibly delisted; no price data found  (1d 2023-12-28 -> 2024-01-27)\n"
     ]
    },
    {
     "name": "stdout",
     "output_type": "stream",
     "text": [
      "Error fetching data for CYNO: No historical data available for CYNO around 2024-01-27.\n"
     ]
    },
    {
     "name": "stderr",
     "output_type": "stream",
     "text": [
      "$NFX: possibly delisted; no price data found  (1d 2023-12-28 -> 2024-01-27)\n"
     ]
    },
    {
     "name": "stdout",
     "output_type": "stream",
     "text": [
      "Error fetching data for NFX: No historical data available for NFX around 2024-01-27.\n"
     ]
    },
    {
     "name": "stderr",
     "output_type": "stream",
     "text": [
      "$KRFT: possibly delisted; no price data found  (1d 2023-12-28 -> 2024-01-27)\n"
     ]
    },
    {
     "name": "stdout",
     "output_type": "stream",
     "text": [
      "Error fetching data for KRFT: No historical data available for KRFT around 2024-01-27.\n"
     ]
    },
    {
     "name": "stderr",
     "output_type": "stream",
     "text": [
      "$KYN-F: possibly delisted; no timezone found\n"
     ]
    },
    {
     "name": "stdout",
     "output_type": "stream",
     "text": [
      "Error fetching data for KYN-F: No historical data available for KYN-F around 2024-01-27.\n"
     ]
    },
    {
     "name": "stderr",
     "output_type": "stream",
     "text": [
      "$BBNK: possibly delisted; no price data found  (1d 2023-12-28 -> 2024-01-27)\n"
     ]
    },
    {
     "name": "stdout",
     "output_type": "stream",
     "text": [
      "Error fetching data for BBNK: No historical data available for BBNK around 2024-01-27.\n"
     ]
    },
    {
     "name": "stderr",
     "output_type": "stream",
     "text": [
      "$NLSN: possibly delisted; no timezone found\n",
      "$VRNG: possibly delisted; no price data found  (1d 2023-12-28 -> 2024-01-27)\n"
     ]
    },
    {
     "name": "stdout",
     "output_type": "stream",
     "text": [
      "Error fetching data for NLSN: No historical data available for NLSN around 2024-01-27.\n",
      "Error fetching data for VRNG: No historical data available for VRNG around 2024-01-27.\n"
     ]
    },
    {
     "name": "stderr",
     "output_type": "stream",
     "text": [
      "$MER-P: possibly delisted; no timezone found\n"
     ]
    },
    {
     "name": "stdout",
     "output_type": "stream",
     "text": [
      "Error fetching data for MER-P: No historical data available for MER-P around 2024-01-27.\n"
     ]
    },
    {
     "name": "stderr",
     "output_type": "stream",
     "text": [
      "$FLY: possibly delisted; no timezone found\n"
     ]
    },
    {
     "name": "stdout",
     "output_type": "stream",
     "text": [
      "Error fetching data for FLY: No historical data available for FLY around 2024-01-27.\n"
     ]
    },
    {
     "name": "stderr",
     "output_type": "stream",
     "text": [
      "$HT: possibly delisted; no timezone found\n"
     ]
    },
    {
     "name": "stdout",
     "output_type": "stream",
     "text": [
      "Error fetching data for HT: No historical data available for HT around 2024-01-27.\n"
     ]
    },
    {
     "name": "stderr",
     "output_type": "stream",
     "text": [
      "$PCTI: possibly delisted; no timezone found\n"
     ]
    },
    {
     "name": "stdout",
     "output_type": "stream",
     "text": [
      "Error fetching data for PCTI: No historical data available for PCTI around 2024-01-27.\n"
     ]
    },
    {
     "name": "stderr",
     "output_type": "stream",
     "text": [
      "$C-Q: possibly delisted; no timezone found\n"
     ]
    },
    {
     "name": "stdout",
     "output_type": "stream",
     "text": [
      "Error fetching data for C-Q: No historical data available for C-Q around 2024-01-27.\n"
     ]
    },
    {
     "name": "stderr",
     "output_type": "stream",
     "text": [
      "$UCBI: possibly delisted; no timezone found\n"
     ]
    },
    {
     "name": "stdout",
     "output_type": "stream",
     "text": [
      "Error fetching data for UCBI: No historical data available for UCBI around 2024-01-27.\n"
     ]
    },
    {
     "name": "stderr",
     "output_type": "stream",
     "text": [
      "$SJR: possibly delisted; no timezone found\n"
     ]
    },
    {
     "name": "stdout",
     "output_type": "stream",
     "text": [
      "Error fetching data for SJR: No historical data available for SJR around 2024-01-27.\n"
     ]
    },
    {
     "name": "stderr",
     "output_type": "stream",
     "text": [
      "$DRYS: possibly delisted; no timezone found\n"
     ]
    },
    {
     "name": "stdout",
     "output_type": "stream",
     "text": [
      "Error fetching data for DRYS: No historical data available for DRYS around 2024-01-27.\n"
     ]
    },
    {
     "name": "stderr",
     "output_type": "stream",
     "text": [
      "$BKEPP: possibly delisted; no timezone found\n"
     ]
    },
    {
     "name": "stdout",
     "output_type": "stream",
     "text": [
      "Error fetching data for BKEPP: No historical data available for BKEPP around 2024-01-27.\n"
     ]
    },
    {
     "name": "stderr",
     "output_type": "stream",
     "text": [
      "$OFG-D: possibly delisted; no timezone found\n"
     ]
    },
    {
     "name": "stdout",
     "output_type": "stream",
     "text": [
      "Error fetching data for OFG-D: No historical data available for OFG-D around 2024-01-27.\n"
     ]
    },
    {
     "name": "stderr",
     "output_type": "stream",
     "text": [
      "$NZH-A: possibly delisted; no timezone found\n"
     ]
    },
    {
     "name": "stdout",
     "output_type": "stream",
     "text": [
      "Error fetching data for NZH-A: No historical data available for NZH-A around 2024-01-27.\n"
     ]
    },
    {
     "name": "stderr",
     "output_type": "stream",
     "text": [
      "$REN.W: possibly delisted; no timezone found\n"
     ]
    },
    {
     "name": "stdout",
     "output_type": "stream",
     "text": [
      "Error fetching data for REN.W: No historical data available for REN.W around 2024-01-27.\n"
     ]
    },
    {
     "name": "stderr",
     "output_type": "stream",
     "text": [
      "$SAN-E: possibly delisted; no timezone found\n",
      "$AFOP: possibly delisted; no price data found  (1d 2023-12-28 -> 2024-01-27)\n"
     ]
    },
    {
     "name": "stdout",
     "output_type": "stream",
     "text": [
      "Error fetching data for SAN-E: No historical data available for SAN-E around 2024-01-27.\n",
      "Error fetching data for AFOP: No historical data available for AFOP around 2024-01-27.\n"
     ]
    },
    {
     "name": "stderr",
     "output_type": "stream",
     "text": [
      "$YHOO: possibly delisted; no timezone found\n",
      "$LUK: possibly delisted; no price data found  (1d 2023-12-28 -> 2024-01-27)\n",
      "$GCA: possibly delisted; no price data found  (1d 2023-12-28 -> 2024-01-27)\n"
     ]
    },
    {
     "name": "stdout",
     "output_type": "stream",
     "text": [
      "Error fetching data for YHOO: No historical data available for YHOO around 2024-01-27.\n",
      "Error fetching data for LUK: No historical data available for LUK around 2024-01-27.\n",
      "Error fetching data for GCA: No historical data available for GCA around 2024-01-27.\n"
     ]
    },
    {
     "name": "stderr",
     "output_type": "stream",
     "text": [
      "$ENDP: possibly delisted; no timezone found\n",
      "$CVO: possibly delisted; no price data found  (1d 2023-12-28 -> 2024-01-27)\n",
      "$KIPS: possibly delisted; no price data found  (1d 2023-12-28 -> 2024-01-27)\n"
     ]
    },
    {
     "name": "stdout",
     "output_type": "stream",
     "text": [
      "Error fetching data for ENDP: No historical data available for ENDP around 2024-01-27.\n",
      "Error fetching data for CVO: No historical data available for CVO around 2024-01-27.\n",
      "Error fetching data for KIPS: No historical data available for KIPS around 2024-01-27.\n"
     ]
    },
    {
     "name": "stderr",
     "output_type": "stream",
     "text": [
      "$NRZ: possibly delisted; no timezone found\n"
     ]
    },
    {
     "name": "stdout",
     "output_type": "stream",
     "text": [
      "Error fetching data for NRZ: No historical data available for NRZ around 2024-01-27.\n"
     ]
    },
    {
     "name": "stderr",
     "output_type": "stream",
     "text": [
      "$KRC-H: possibly delisted; no timezone found\n"
     ]
    },
    {
     "name": "stdout",
     "output_type": "stream",
     "text": [
      "Error fetching data for KRC-H: No historical data available for KRC-H around 2024-01-27.\n"
     ]
    },
    {
     "name": "stderr",
     "output_type": "stream",
     "text": [
      "$EMZ: possibly delisted; no timezone found\n",
      "$OEH: possibly delisted; no price data found  (1d 2023-12-28 -> 2024-01-27)\n",
      "$ADRU: possibly delisted; no price data found  (1d 2023-12-28 -> 2024-01-27)\n"
     ]
    },
    {
     "name": "stdout",
     "output_type": "stream",
     "text": [
      "Error fetching data for EMZ: No historical data available for EMZ around 2024-01-27.\n",
      "Error fetching data for OEH: No historical data available for OEH around 2024-01-27.\n",
      "Error fetching data for ADRU: No historical data available for ADRU around 2024-01-27.\n"
     ]
    },
    {
     "name": "stderr",
     "output_type": "stream",
     "text": [
      "$CBAK: possibly delisted; no price data found  (1d 2023-12-28 -> 2024-01-27)\n"
     ]
    },
    {
     "name": "stdout",
     "output_type": "stream",
     "text": [
      "Error fetching data for CBAK: No historical data available for CBAK around 2024-01-27.\n"
     ]
    },
    {
     "name": "stderr",
     "output_type": "stream",
     "text": [
      "$MER-K: possibly delisted; no timezone found\n",
      "$ATMI: possibly delisted; no price data found  (1d 2023-12-28 -> 2024-01-27)\n"
     ]
    },
    {
     "name": "stdout",
     "output_type": "stream",
     "text": [
      "Error fetching data for MER-K: No historical data available for MER-K around 2024-01-27.\n",
      "Error fetching data for ATMI: No historical data available for ATMI around 2024-01-27.\n"
     ]
    },
    {
     "name": "stderr",
     "output_type": "stream",
     "text": [
      "$RBS-M: possibly delisted; no timezone found\n"
     ]
    },
    {
     "name": "stdout",
     "output_type": "stream",
     "text": [
      "Error fetching data for RBS-M: No historical data available for RBS-M around 2024-01-27.\n"
     ]
    },
    {
     "name": "stderr",
     "output_type": "stream",
     "text": [
      "$MYJ: possibly delisted; no timezone found\n"
     ]
    },
    {
     "name": "stdout",
     "output_type": "stream",
     "text": [
      "Error fetching data for MYJ: No historical data available for MYJ around 2024-01-27.\n"
     ]
    },
    {
     "name": "stderr",
     "output_type": "stream",
     "text": [
      "$CREE: possibly delisted; no timezone found\n"
     ]
    },
    {
     "name": "stdout",
     "output_type": "stream",
     "text": [
      "Error fetching data for CREE: No historical data available for CREE around 2024-01-27.\n"
     ]
    },
    {
     "name": "stderr",
     "output_type": "stream",
     "text": [
      "$STI-E: possibly delisted; no timezone found\n"
     ]
    },
    {
     "name": "stdout",
     "output_type": "stream",
     "text": [
      "Error fetching data for STI-E: No historical data available for STI-E around 2024-01-27.\n"
     ]
    },
    {
     "name": "stderr",
     "output_type": "stream",
     "text": [
      "$CRMB: possibly delisted; no price data found  (1d 2023-12-28 -> 2024-01-27)\n"
     ]
    },
    {
     "name": "stdout",
     "output_type": "stream",
     "text": [
      "Error fetching data for CRMB: No historical data available for CRMB around 2024-01-27.\n"
     ]
    },
    {
     "name": "stderr",
     "output_type": "stream",
     "text": [
      "$GLUU: possibly delisted; no timezone found\n",
      "$HPOL: possibly delisted; no price data found  (1d 2023-12-28 -> 2024-01-27)\n"
     ]
    },
    {
     "name": "stdout",
     "output_type": "stream",
     "text": [
      "Error fetching data for GLUU: No historical data available for GLUU around 2024-01-27.\n",
      "Error fetching data for HPOL: No historical data available for HPOL around 2024-01-27.\n"
     ]
    },
    {
     "name": "stderr",
     "output_type": "stream",
     "text": [
      "$CCCR: possibly delisted; no price data found  (1d 2023-12-28 -> 2024-01-27)\n",
      "$CBST: possibly delisted; no price data found  (1d 2023-12-28 -> 2024-01-27)\n"
     ]
    },
    {
     "name": "stdout",
     "output_type": "stream",
     "text": [
      "Error fetching data for CCCR: No historical data available for CCCR around 2024-01-27.\n",
      "Error fetching data for CBST: No historical data available for CBST around 2024-01-27.\n"
     ]
    },
    {
     "name": "stderr",
     "output_type": "stream",
     "text": [
      "$DXM: possibly delisted; no price data found  (1d 2023-12-28 -> 2024-01-27)\n"
     ]
    },
    {
     "name": "stdout",
     "output_type": "stream",
     "text": [
      "Error fetching data for DXM: No historical data available for DXM around 2024-01-27.\n"
     ]
    },
    {
     "name": "stderr",
     "output_type": "stream",
     "text": [
      "$GTAT: possibly delisted; no timezone found\n"
     ]
    },
    {
     "name": "stdout",
     "output_type": "stream",
     "text": [
      "Error fetching data for GTAT: No historical data available for GTAT around 2024-01-27.\n"
     ]
    },
    {
     "name": "stderr",
     "output_type": "stream",
     "text": [
      "$CMN: possibly delisted; no price data found  (1d 2023-12-28 -> 2024-01-27)\n"
     ]
    },
    {
     "name": "stdout",
     "output_type": "stream",
     "text": [
      "Error fetching data for CMN: No historical data available for CMN around 2024-01-27.\n"
     ]
    },
    {
     "name": "stderr",
     "output_type": "stream",
     "text": [
      "$HTF: possibly delisted; no timezone found\n",
      "$NMRX: possibly delisted; no price data found  (1d 2023-12-28 -> 2024-01-27)\n",
      "$BPO: possibly delisted; no price data found  (1d 2023-12-28 -> 2024-01-27)\n"
     ]
    },
    {
     "name": "stdout",
     "output_type": "stream",
     "text": [
      "Error fetching data for HTF: No historical data available for HTF around 2024-01-27.\n",
      "Error fetching data for NMRX: No historical data available for NMRX around 2024-01-27.\n",
      "Error fetching data for BPO: No historical data available for BPO around 2024-01-27.\n"
     ]
    },
    {
     "name": "stderr",
     "output_type": "stream",
     "text": [
      "$GRT: possibly delisted; no price data found  (1d 2023-12-28 -> 2024-01-27)\n",
      "$EGN: possibly delisted; no price data found  (1d 2023-12-28 -> 2024-01-27)\n"
     ]
    },
    {
     "name": "stdout",
     "output_type": "stream",
     "text": [
      "Error fetching data for GRT: No historical data available for GRT around 2024-01-27.\n",
      "Error fetching data for EGN: No historical data available for EGN around 2024-01-27.\n"
     ]
    },
    {
     "name": "stderr",
     "output_type": "stream",
     "text": [
      "$JGV: possibly delisted; no price data found  (1d 2023-12-28 -> 2024-01-27)\n"
     ]
    },
    {
     "name": "stdout",
     "output_type": "stream",
     "text": [
      "Error fetching data for JGV: No historical data available for JGV around 2024-01-27.\n"
     ]
    },
    {
     "name": "stderr",
     "output_type": "stream",
     "text": [
      "$RVLT: possibly delisted; no timezone found\n"
     ]
    },
    {
     "name": "stdout",
     "output_type": "stream",
     "text": [
      "Error fetching data for RVLT: No historical data available for RVLT around 2024-01-27.\n"
     ]
    },
    {
     "name": "stderr",
     "output_type": "stream",
     "text": [
      "$PPO: possibly delisted; no price data found  (1d 2023-12-28 -> 2024-01-27)\n"
     ]
    },
    {
     "name": "stdout",
     "output_type": "stream",
     "text": [
      "Error fetching data for PPO: No historical data available for PPO around 2024-01-27.\n"
     ]
    },
    {
     "name": "stderr",
     "output_type": "stream",
     "text": [
      "$ALXA: possibly delisted; no price data found  (1d 2023-12-28 -> 2024-01-27)\n",
      "$CHTP: possibly delisted; no price data found  (1d 2023-12-28 -> 2024-01-27)\n"
     ]
    },
    {
     "name": "stdout",
     "output_type": "stream",
     "text": [
      "Error fetching data for ALXA: No historical data available for ALXA around 2024-01-27.\n",
      "Error fetching data for CHTP: No historical data available for CHTP around 2024-01-27.\n"
     ]
    },
    {
     "name": "stderr",
     "output_type": "stream",
     "text": [
      "$ESBF: possibly delisted; no price data found  (1d 2023-12-28 -> 2024-01-27)\n",
      "$EAA: possibly delisted; no price data found  (1d 2023-12-28 -> 2024-01-27)\n"
     ]
    },
    {
     "name": "stdout",
     "output_type": "stream",
     "text": [
      "Error fetching data for ESBF: No historical data available for ESBF around 2024-01-27.\n",
      "Error fetching data for EAA: No historical data available for EAA around 2024-01-27.\n"
     ]
    },
    {
     "name": "stderr",
     "output_type": "stream",
     "text": [
      "$WLBPZ: possibly delisted; no timezone found\n",
      "$LXK: possibly delisted; no price data found  (1d 2023-12-28 -> 2024-01-27)\n",
      "$IM: possibly delisted; no price data found  (1d 2023-12-28 -> 2024-01-27)\n"
     ]
    },
    {
     "name": "stdout",
     "output_type": "stream",
     "text": [
      "Error fetching data for WLBPZ: No historical data available for WLBPZ around 2024-01-27.\n",
      "Error fetching data for LXK: No historical data available for LXK around 2024-01-27.\n",
      "Error fetching data for IM: No historical data available for IM around 2024-01-27.\n"
     ]
    },
    {
     "name": "stderr",
     "output_type": "stream",
     "text": [
      "$BKYF: possibly delisted; no price data found  (1d 2023-12-28 -> 2024-01-27)\n",
      "$PVR: possibly delisted; no price data found  (1d 2023-12-28 -> 2024-01-27)\n"
     ]
    },
    {
     "name": "stdout",
     "output_type": "stream",
     "text": [
      "Error fetching data for BKYF: No historical data available for BKYF around 2024-01-27.\n",
      "Error fetching data for PVR: No historical data available for PVR around 2024-01-27.\n"
     ]
    },
    {
     "name": "stderr",
     "output_type": "stream",
     "text": [
      "$TWX: possibly delisted; no price data found  (1d 2023-12-28 -> 2024-01-27)\n",
      "$AXJS: possibly delisted; no price data found  (1d 2023-12-28 -> 2024-01-27)\n"
     ]
    },
    {
     "name": "stdout",
     "output_type": "stream",
     "text": [
      "Error fetching data for TWX: No historical data available for TWX around 2024-01-27.\n",
      "Error fetching data for AXJS: No historical data available for AXJS around 2024-01-27.\n"
     ]
    },
    {
     "name": "stderr",
     "output_type": "stream",
     "text": [
      "$BPHX: possibly delisted; no price data found  (1d 2023-12-28 -> 2024-01-27)\n"
     ]
    },
    {
     "name": "stdout",
     "output_type": "stream",
     "text": [
      "Error fetching data for BPHX: No historical data available for BPHX around 2024-01-27.\n"
     ]
    },
    {
     "name": "stderr",
     "output_type": "stream",
     "text": [
      "$ELS-C: possibly delisted; no timezone found\n"
     ]
    },
    {
     "name": "stdout",
     "output_type": "stream",
     "text": [
      "Error fetching data for ELS-C: No historical data available for ELS-C around 2024-01-27.\n"
     ]
    },
    {
     "name": "stderr",
     "output_type": "stream",
     "text": [
      "$WMGI: possibly delisted; no timezone found\n"
     ]
    },
    {
     "name": "stdout",
     "output_type": "stream",
     "text": [
      "Error fetching data for WMGI: No historical data available for WMGI around 2024-01-27.\n"
     ]
    },
    {
     "name": "stderr",
     "output_type": "stream",
     "text": [
      "$JRCC: possibly delisted; no price data found  (1d 2023-12-28 -> 2024-01-27)\n",
      "$PPHM: possibly delisted; no price data found  (1d 2023-12-28 -> 2024-01-27)\n"
     ]
    },
    {
     "name": "stdout",
     "output_type": "stream",
     "text": [
      "Error fetching data for JRCC: No historical data available for JRCC around 2024-01-27.\n",
      "Error fetching data for PPHM: No historical data available for PPHM around 2024-01-27.\n"
     ]
    },
    {
     "name": "stderr",
     "output_type": "stream",
     "text": [
      "$CISAA: possibly delisted; no timezone found\n"
     ]
    },
    {
     "name": "stdout",
     "output_type": "stream",
     "text": [
      "Error fetching data for CISAA: No historical data available for CISAA around 2024-01-27.\n"
     ]
    },
    {
     "name": "stderr",
     "output_type": "stream",
     "text": [
      "$PKI: possibly delisted; no timezone found\n"
     ]
    },
    {
     "name": "stdout",
     "output_type": "stream",
     "text": [
      "Error fetching data for PKI: No historical data available for PKI around 2024-01-27.\n"
     ]
    },
    {
     "name": "stderr",
     "output_type": "stream",
     "text": [
      "$RPRXW: possibly delisted; no timezone found\n"
     ]
    },
    {
     "name": "stdout",
     "output_type": "stream",
     "text": [
      "Error fetching data for RPRXW: No historical data available for RPRXW around 2024-01-27.\n"
     ]
    },
    {
     "name": "stderr",
     "output_type": "stream",
     "text": [
      "$GNC: possibly delisted; no timezone found\n"
     ]
    },
    {
     "name": "stdout",
     "output_type": "stream",
     "text": [
      "Error fetching data for GNC: No historical data available for GNC around 2024-01-27.\n"
     ]
    },
    {
     "name": "stderr",
     "output_type": "stream",
     "text": [
      "$ROVI: possibly delisted; no price data found  (1d 2023-12-28 -> 2024-01-27)\n"
     ]
    },
    {
     "name": "stdout",
     "output_type": "stream",
     "text": [
      "Error fetching data for ROVI: No historical data available for ROVI around 2024-01-27.\n"
     ]
    },
    {
     "name": "stderr",
     "output_type": "stream",
     "text": [
      "$MTSN: possibly delisted; no price data found  (1d 2023-12-28 -> 2024-01-27)\n",
      "$DFZ: possibly delisted; no price data found  (1d 2023-12-28 -> 2024-01-27)\n"
     ]
    },
    {
     "name": "stdout",
     "output_type": "stream",
     "text": [
      "Error fetching data for MTSN: No historical data available for MTSN around 2024-01-27.\n",
      "Error fetching data for DFZ: No historical data available for DFZ around 2024-01-27.\n"
     ]
    },
    {
     "name": "stderr",
     "output_type": "stream",
     "text": [
      "$RBS: possibly delisted; no timezone found\n"
     ]
    },
    {
     "name": "stdout",
     "output_type": "stream",
     "text": [
      "Error fetching data for RBS: No historical data available for RBS around 2024-01-27.\n"
     ]
    },
    {
     "name": "stderr",
     "output_type": "stream",
     "text": [
      "$UEPS: possibly delisted; no timezone found\n",
      "$FCVA: possibly delisted; no price data found  (1d 2023-12-28 -> 2024-01-27)\n"
     ]
    },
    {
     "name": "stdout",
     "output_type": "stream",
     "text": [
      "Error fetching data for UEPS: No historical data available for UEPS around 2024-01-27.\n",
      "Error fetching data for FCVA: No historical data available for FCVA around 2024-01-27.\n"
     ]
    },
    {
     "name": "stderr",
     "output_type": "stream",
     "text": [
      "$AMCN: possibly delisted; no timezone found\n"
     ]
    },
    {
     "name": "stdout",
     "output_type": "stream",
     "text": [
      "Error fetching data for AMCN: No historical data available for AMCN around 2024-01-27.\n"
     ]
    },
    {
     "name": "stderr",
     "output_type": "stream",
     "text": [
      "$IFNA: possibly delisted; no timezone found\n"
     ]
    },
    {
     "name": "stdout",
     "output_type": "stream",
     "text": [
      "Error fetching data for IFNA: No historical data available for IFNA around 2024-01-27.\n"
     ]
    },
    {
     "name": "stderr",
     "output_type": "stream",
     "text": [
      "$ROLL: possibly delisted; no timezone found\n"
     ]
    },
    {
     "name": "stdout",
     "output_type": "stream",
     "text": [
      "Error fetching data for ROLL: No historical data available for ROLL around 2024-01-27.\n"
     ]
    },
    {
     "name": "stderr",
     "output_type": "stream",
     "text": [
      "$JMPB: possibly delisted; no timezone found\n"
     ]
    },
    {
     "name": "stdout",
     "output_type": "stream",
     "text": [
      "Error fetching data for JMPB: No historical data available for JMPB around 2024-01-27.\n"
     ]
    },
    {
     "name": "stderr",
     "output_type": "stream",
     "text": [
      "$DNY: possibly delisted; no price data found  (1d 2023-12-28 -> 2024-01-27)\n"
     ]
    },
    {
     "name": "stdout",
     "output_type": "stream",
     "text": [
      "Error fetching data for DNY: No historical data available for DNY around 2024-01-27.\n"
     ]
    },
    {
     "name": "stderr",
     "output_type": "stream",
     "text": [
      "$DRU: possibly delisted; no price data found  (1d 2023-12-28 -> 2024-01-27)\n",
      "$ROCM: possibly delisted; no price data found  (1d 2023-12-28 -> 2024-01-27)\n",
      "$KAP: possibly delisted; no price data found  (1d 2023-12-28 -> 2024-01-27)\n"
     ]
    },
    {
     "name": "stdout",
     "output_type": "stream",
     "text": [
      "Error fetching data for DRU: No historical data available for DRU around 2024-01-27.\n",
      "Error fetching data for ROCM: No historical data available for ROCM around 2024-01-27.\n",
      "Error fetching data for KAP: No historical data available for KAP around 2024-01-27.\n"
     ]
    },
    {
     "name": "stderr",
     "output_type": "stream",
     "text": [
      "$LABC: possibly delisted; no price data found  (1d 2023-12-28 -> 2024-01-27)\n",
      "$AMRS: possibly delisted; no price data found  (1d 2023-12-28 -> 2024-01-27)\n"
     ]
    },
    {
     "name": "stdout",
     "output_type": "stream",
     "text": [
      "Error fetching data for LABC: No historical data available for LABC around 2024-01-27.\n",
      "Error fetching data for AMRS: No historical data available for AMRS around 2024-01-27.\n"
     ]
    },
    {
     "name": "stderr",
     "output_type": "stream",
     "text": [
      "$DX-B: possibly delisted; no timezone found\n",
      "$PMC: possibly delisted; no price data found  (1d 2023-12-28 -> 2024-01-27)\n"
     ]
    },
    {
     "name": "stdout",
     "output_type": "stream",
     "text": [
      "Error fetching data for DX-B: No historical data available for DX-B around 2024-01-27.\n",
      "Error fetching data for PMC: No historical data available for PMC around 2024-01-27.\n"
     ]
    },
    {
     "name": "stderr",
     "output_type": "stream",
     "text": [
      "$SKH: possibly delisted; no price data found  (1d 2023-12-28 -> 2024-01-27)\n"
     ]
    },
    {
     "name": "stdout",
     "output_type": "stream",
     "text": [
      "Error fetching data for SKH: No historical data available for SKH around 2024-01-27.\n"
     ]
    },
    {
     "name": "stderr",
     "output_type": "stream",
     "text": [
      "$UTX-A: possibly delisted; no timezone found\n"
     ]
    },
    {
     "name": "stdout",
     "output_type": "stream",
     "text": [
      "Error fetching data for UTX-A: No historical data available for UTX-A around 2024-01-27.\n"
     ]
    },
    {
     "name": "stderr",
     "output_type": "stream",
     "text": [
      "$DPM: possibly delisted; no timezone found\n"
     ]
    },
    {
     "name": "stdout",
     "output_type": "stream",
     "text": [
      "Error fetching data for DPM: No historical data available for DPM around 2024-01-27.\n"
     ]
    },
    {
     "name": "stderr",
     "output_type": "stream",
     "text": [
      "$NVY-C: possibly delisted; no timezone found\n"
     ]
    },
    {
     "name": "stdout",
     "output_type": "stream",
     "text": [
      "Error fetching data for NVY-C: No historical data available for NVY-C around 2024-01-27.\n"
     ]
    },
    {
     "name": "stderr",
     "output_type": "stream",
     "text": [
      "$ISS: possibly delisted; no price data found  (1d 2023-12-28 -> 2024-01-27)\n"
     ]
    },
    {
     "name": "stdout",
     "output_type": "stream",
     "text": [
      "Error fetching data for ISS: No historical data available for ISS around 2024-01-27.\n"
     ]
    },
    {
     "name": "stderr",
     "output_type": "stream",
     "text": [
      "$GOM: possibly delisted; no price data found  (1d 2023-12-28 -> 2024-01-27)\n"
     ]
    },
    {
     "name": "stdout",
     "output_type": "stream",
     "text": [
      "Error fetching data for GOM: No historical data available for GOM around 2024-01-27.\n"
     ]
    },
    {
     "name": "stderr",
     "output_type": "stream",
     "text": [
      "$HOS: possibly delisted; no timezone found\n"
     ]
    },
    {
     "name": "stdout",
     "output_type": "stream",
     "text": [
      "Error fetching data for HOS: No historical data available for HOS around 2024-01-27.\n"
     ]
    },
    {
     "name": "stderr",
     "output_type": "stream",
     "text": [
      "$SGYPW: possibly delisted; no timezone found\n"
     ]
    },
    {
     "name": "stdout",
     "output_type": "stream",
     "text": [
      "Error fetching data for SGYPW: No historical data available for SGYPW around 2024-01-27.\n"
     ]
    },
    {
     "name": "stderr",
     "output_type": "stream",
     "text": [
      "$IDRA: possibly delisted; no timezone found\n"
     ]
    },
    {
     "name": "stdout",
     "output_type": "stream",
     "text": [
      "Error fetching data for IDRA: No historical data available for IDRA around 2024-01-27.\n"
     ]
    },
    {
     "name": "stderr",
     "output_type": "stream",
     "text": [
      "$HMSY: possibly delisted; no timezone found\n"
     ]
    },
    {
     "name": "stdout",
     "output_type": "stream",
     "text": [
      "Error fetching data for HMSY: No historical data available for HMSY around 2024-01-27.\n"
     ]
    },
    {
     "name": "stderr",
     "output_type": "stream",
     "text": [
      "$GDV-A: possibly delisted; no timezone found\n",
      "$ABFS: possibly delisted; no price data found  (1d 2023-12-28 -> 2024-01-27)\n"
     ]
    },
    {
     "name": "stdout",
     "output_type": "stream",
     "text": [
      "Error fetching data for GDV-A: No historical data available for GDV-A around 2024-01-27.\n",
      "Error fetching data for ABFS: No historical data available for ABFS around 2024-01-27.\n"
     ]
    },
    {
     "name": "stderr",
     "output_type": "stream",
     "text": [
      "$HOT: possibly delisted; no price data found  (1d 2023-12-28 -> 2024-01-27)\n",
      "$MDCI: possibly delisted; no price data found  (1d 2023-12-28 -> 2024-01-27)\n"
     ]
    },
    {
     "name": "stdout",
     "output_type": "stream",
     "text": [
      "Error fetching data for HOT: No historical data available for HOT around 2024-01-27.\n",
      "Error fetching data for MDCI: No historical data available for MDCI around 2024-01-27.\n"
     ]
    },
    {
     "name": "stderr",
     "output_type": "stream",
     "text": [
      "$AT: possibly delisted; no timezone found\n",
      "$NDZ: possibly delisted; no price data found  (1d 2023-12-28 -> 2024-01-27)\n"
     ]
    },
    {
     "name": "stdout",
     "output_type": "stream",
     "text": [
      "Error fetching data for AT: No historical data available for AT around 2024-01-27.\n",
      "Error fetching data for NDZ: No historical data available for NDZ around 2024-01-27.\n"
     ]
    },
    {
     "name": "stderr",
     "output_type": "stream",
     "text": [
      "$AVV: possibly delisted; no timezone found\n"
     ]
    },
    {
     "name": "stdout",
     "output_type": "stream",
     "text": [
      "Error fetching data for AVV: No historical data available for AVV around 2024-01-27.\n"
     ]
    },
    {
     "name": "stderr",
     "output_type": "stream",
     "text": [
      "$CQB: possibly delisted; no price data found  (1d 2023-12-28 -> 2024-01-27)\n"
     ]
    },
    {
     "name": "stdout",
     "output_type": "stream",
     "text": [
      "Error fetching data for CQB: No historical data available for CQB around 2024-01-27.\n"
     ]
    },
    {
     "name": "stderr",
     "output_type": "stream",
     "text": [
      "$DNI: possibly delisted; no timezone found\n"
     ]
    },
    {
     "name": "stdout",
     "output_type": "stream",
     "text": [
      "Error fetching data for DNI: No historical data available for DNI around 2024-01-27.\n"
     ]
    },
    {
     "name": "stderr",
     "output_type": "stream",
     "text": [
      "$MBRG: possibly delisted; no price data found  (1d 2023-12-28 -> 2024-01-27)\n"
     ]
    },
    {
     "name": "stdout",
     "output_type": "stream",
     "text": [
      "Error fetching data for MBRG: No historical data available for MBRG around 2024-01-27.\n"
     ]
    },
    {
     "name": "stderr",
     "output_type": "stream",
     "text": [
      "$ATRI: possibly delisted; no timezone found\n",
      "$FSCE: possibly delisted; no price data found  (1d 2023-12-28 -> 2024-01-27)\n"
     ]
    },
    {
     "name": "stdout",
     "output_type": "stream",
     "text": [
      "Error fetching data for ATRI: No historical data available for ATRI around 2024-01-27.\n",
      "Error fetching data for FSCE: No historical data available for FSCE around 2024-01-27.\n"
     ]
    },
    {
     "name": "stderr",
     "output_type": "stream",
     "text": [
      "$PCMI: possibly delisted; no timezone found\n",
      "$JACQW: possibly delisted; no price data found  (1d 2023-12-28 -> 2024-01-27)\n"
     ]
    },
    {
     "name": "stdout",
     "output_type": "stream",
     "text": [
      "Error fetching data for PCMI: No historical data available for PCMI around 2024-01-27.\n",
      "Error fetching data for JACQW: No historical data available for JACQW around 2024-01-27.\n"
     ]
    },
    {
     "name": "stderr",
     "output_type": "stream",
     "text": [
      "$SBSA: possibly delisted; no price data found  (1d 2023-12-28 -> 2024-01-27)\n"
     ]
    },
    {
     "name": "stdout",
     "output_type": "stream",
     "text": [
      "Error fetching data for SBSA: No historical data available for SBSA around 2024-01-27.\n"
     ]
    },
    {
     "name": "stderr",
     "output_type": "stream",
     "text": [
      "$BIRT: possibly delisted; no price data found  (1d 2023-12-28 -> 2024-01-27)\n",
      "$HSP: possibly delisted; no price data found  (1d 2023-12-28 -> 2024-01-27)\n"
     ]
    },
    {
     "name": "stdout",
     "output_type": "stream",
     "text": [
      "Error fetching data for BIRT: No historical data available for BIRT around 2024-01-27.\n",
      "Error fetching data for HSP: No historical data available for HSP around 2024-01-27.\n"
     ]
    },
    {
     "name": "stderr",
     "output_type": "stream",
     "text": [
      "$CTQ: possibly delisted; no price data found  (1d 2023-12-28 -> 2024-01-27)\n",
      "$XNY: possibly delisted; no price data found  (1d 2023-12-28 -> 2024-01-27)\n",
      "$HOTR: possibly delisted; no price data found  (1d 2023-12-28 -> 2024-01-27)\n"
     ]
    },
    {
     "name": "stdout",
     "output_type": "stream",
     "text": [
      "Error fetching data for CTQ: No historical data available for CTQ around 2024-01-27.\n",
      "Error fetching data for XNY: No historical data available for XNY around 2024-01-27.\n",
      "Error fetching data for HOTR: No historical data available for HOTR around 2024-01-27.\n"
     ]
    },
    {
     "name": "stderr",
     "output_type": "stream",
     "text": [
      "$PACR: possibly delisted; no price data found  (1d 2023-12-28 -> 2024-01-27)\n"
     ]
    },
    {
     "name": "stdout",
     "output_type": "stream",
     "text": [
      "Error fetching data for PACR: No historical data available for PACR around 2024-01-27.\n"
     ]
    },
    {
     "name": "stderr",
     "output_type": "stream",
     "text": [
      "$PRE-D: possibly delisted; no timezone found\n"
     ]
    },
    {
     "name": "stdout",
     "output_type": "stream",
     "text": [
      "Error fetching data for PRE-D: No historical data available for PRE-D around 2024-01-27.\n"
     ]
    },
    {
     "name": "stderr",
     "output_type": "stream",
     "text": [
      "$PWX: possibly delisted; no price data found  (1d 2023-12-28 -> 2024-01-27)\n"
     ]
    },
    {
     "name": "stdout",
     "output_type": "stream",
     "text": [
      "Error fetching data for PWX: No historical data available for PWX around 2024-01-27.\n"
     ]
    },
    {
     "name": "stderr",
     "output_type": "stream",
     "text": [
      "$GXP-A: possibly delisted; no timezone found\n"
     ]
    },
    {
     "name": "stdout",
     "output_type": "stream",
     "text": [
      "Error fetching data for GXP-A: No historical data available for GXP-A around 2024-01-27.\n"
     ]
    },
    {
     "name": "stderr",
     "output_type": "stream",
     "text": [
      "$AES-PC: possibly delisted; no price data found  (1d 2023-12-28 -> 2024-01-27)\n"
     ]
    },
    {
     "name": "stdout",
     "output_type": "stream",
     "text": [
      "Error fetching data for AES-PC: No historical data available for AES-PC around 2024-01-27.\n"
     ]
    },
    {
     "name": "stderr",
     "output_type": "stream",
     "text": [
      "$CEMI: possibly delisted; no timezone found\n",
      "$DBLEP: possibly delisted; no price data found  (1d 2023-12-28 -> 2024-01-27)\n"
     ]
    },
    {
     "name": "stdout",
     "output_type": "stream",
     "text": [
      "Error fetching data for CEMI: No historical data available for CEMI around 2024-01-27.\n",
      "Error fetching data for DBLEP: No historical data available for DBLEP around 2024-01-27.\n"
     ]
    },
    {
     "name": "stderr",
     "output_type": "stream",
     "text": [
      "$CLR: possibly delisted; no timezone found\n"
     ]
    },
    {
     "name": "stdout",
     "output_type": "stream",
     "text": [
      "Error fetching data for CLR: No historical data available for CLR around 2024-01-27.\n"
     ]
    },
    {
     "name": "stderr",
     "output_type": "stream",
     "text": [
      "$FEFN: possibly delisted; no price data found  (1d 2023-12-28 -> 2024-01-27)\n"
     ]
    },
    {
     "name": "stdout",
     "output_type": "stream",
     "text": [
      "Error fetching data for FEFN: No historical data available for FEFN around 2024-01-27.\n"
     ]
    },
    {
     "name": "stderr",
     "output_type": "stream",
     "text": [
      "$ZIXI: possibly delisted; no timezone found\n"
     ]
    },
    {
     "name": "stdout",
     "output_type": "stream",
     "text": [
      "Error fetching data for ZIXI: No historical data available for ZIXI around 2024-01-27.\n"
     ]
    },
    {
     "name": "stderr",
     "output_type": "stream",
     "text": [
      "$CPSL: possibly delisted; no price data found  (1d 2023-12-28 -> 2024-01-27) (Yahoo error = \"Data doesn't exist for startDate = 1703739600, endDate = 1706331600\")\n",
      "$FULL: possibly delisted; no price data found  (1d 2023-12-28 -> 2024-01-27)\n"
     ]
    },
    {
     "name": "stdout",
     "output_type": "stream",
     "text": [
      "Error fetching data for CPSL: No historical data available for CPSL around 2024-01-27.\n",
      "Error fetching data for FULL: No historical data available for FULL around 2024-01-27.\n"
     ]
    },
    {
     "name": "stderr",
     "output_type": "stream",
     "text": [
      "$PKH: possibly delisted; no price data found  (1d 2023-12-28 -> 2024-01-27)\n"
     ]
    },
    {
     "name": "stdout",
     "output_type": "stream",
     "text": [
      "Error fetching data for PKH: No historical data available for PKH around 2024-01-27.\n"
     ]
    },
    {
     "name": "stderr",
     "output_type": "stream",
     "text": [
      "$PCBK: possibly delisted; no price data found  (1d 2023-12-28 -> 2024-01-27)\n",
      "$JDSU: possibly delisted; no price data found  (1d 2023-12-28 -> 2024-01-27)\n"
     ]
    },
    {
     "name": "stdout",
     "output_type": "stream",
     "text": [
      "Error fetching data for PCBK: No historical data available for PCBK around 2024-01-27.\n",
      "Error fetching data for JDSU: No historical data available for JDSU around 2024-01-27.\n"
     ]
    },
    {
     "name": "stderr",
     "output_type": "stream",
     "text": [
      "$SPLK: possibly delisted; no timezone found\n",
      "$XKO: possibly delisted; no price data found  (1d 2023-12-28 -> 2024-01-27)\n"
     ]
    },
    {
     "name": "stdout",
     "output_type": "stream",
     "text": [
      "Error fetching data for SPLK: No historical data available for SPLK around 2024-01-27.\n",
      "Error fetching data for XKO: No historical data available for XKO around 2024-01-27.\n"
     ]
    },
    {
     "name": "stderr",
     "output_type": "stream",
     "text": [
      "$MW: possibly delisted; no price data found  (1d 2023-12-28 -> 2024-01-27)\n",
      "$SLTM: possibly delisted; no price data found  (1d 2023-12-28 -> 2024-01-27)\n"
     ]
    },
    {
     "name": "stdout",
     "output_type": "stream",
     "text": [
      "Error fetching data for MW: No historical data available for MW around 2024-01-27.\n",
      "Error fetching data for SLTM: No historical data available for SLTM around 2024-01-27.\n"
     ]
    },
    {
     "name": "stderr",
     "output_type": "stream",
     "text": [
      "$NXQ: possibly delisted; no timezone found\n"
     ]
    },
    {
     "name": "stdout",
     "output_type": "stream",
     "text": [
      "Error fetching data for NXQ: No historical data available for NXQ around 2024-01-27.\n"
     ]
    },
    {
     "name": "stderr",
     "output_type": "stream",
     "text": [
      "$MBVT: possibly delisted; no price data found  (1d 2023-12-28 -> 2024-01-27)\n"
     ]
    },
    {
     "name": "stdout",
     "output_type": "stream",
     "text": [
      "Error fetching data for MBVT: No historical data available for MBVT around 2024-01-27.\n"
     ]
    },
    {
     "name": "stderr",
     "output_type": "stream",
     "text": [
      "$PKY: possibly delisted; no price data found  (1d 2023-12-28 -> 2024-01-27)\n",
      "$TECUA: possibly delisted; no price data found  (1d 2023-12-28 -> 2024-01-27)\n",
      "$TLM: possibly delisted; no price data found  (1d 2023-12-28 -> 2024-01-27)\n"
     ]
    },
    {
     "name": "stdout",
     "output_type": "stream",
     "text": [
      "Error fetching data for PKY: No historical data available for PKY around 2024-01-27.\n",
      "Error fetching data for TECUA: No historical data available for TECUA around 2024-01-27.\n",
      "Error fetching data for TLM: No historical data available for TLM around 2024-01-27.\n"
     ]
    },
    {
     "name": "stderr",
     "output_type": "stream",
     "text": [
      "$GAB-D: possibly delisted; no timezone found\n"
     ]
    },
    {
     "name": "stdout",
     "output_type": "stream",
     "text": [
      "Error fetching data for GAB-D: No historical data available for GAB-D around 2024-01-27.\n"
     ]
    },
    {
     "name": "stderr",
     "output_type": "stream",
     "text": [
      "$MRTX: possibly delisted; no timezone found\n"
     ]
    },
    {
     "name": "stdout",
     "output_type": "stream",
     "text": [
      "Error fetching data for MRTX: No historical data available for MRTX around 2024-01-27.\n"
     ]
    },
    {
     "name": "stderr",
     "output_type": "stream",
     "text": [
      "$CNAT: possibly delisted; no timezone found\n",
      "$APRI: possibly delisted; no price data found  (1d 2023-12-28 -> 2024-01-27)\n"
     ]
    },
    {
     "name": "stdout",
     "output_type": "stream",
     "text": [
      "Error fetching data for CNAT: No historical data available for CNAT around 2024-01-27.\n",
      "Error fetching data for APRI: No historical data available for APRI around 2024-01-27.\n"
     ]
    },
    {
     "name": "stderr",
     "output_type": "stream",
     "text": [
      "$MAMS: possibly delisted; no timezone found\n"
     ]
    },
    {
     "name": "stdout",
     "output_type": "stream",
     "text": [
      "Error fetching data for MAMS: No historical data available for MAMS around 2024-01-27.\n"
     ]
    },
    {
     "name": "stderr",
     "output_type": "stream",
     "text": [
      "$CARB: possibly delisted; no timezone found\n"
     ]
    },
    {
     "name": "stdout",
     "output_type": "stream",
     "text": [
      "Error fetching data for CARB: No historical data available for CARB around 2024-01-27.\n"
     ]
    },
    {
     "name": "stderr",
     "output_type": "stream",
     "text": [
      "$NNA: possibly delisted; no timezone found\n"
     ]
    },
    {
     "name": "stdout",
     "output_type": "stream",
     "text": [
      "Error fetching data for NNA: No historical data available for NNA around 2024-01-27.\n"
     ]
    },
    {
     "name": "stderr",
     "output_type": "stream",
     "text": [
      "$TKMR: possibly delisted; no timezone found\n"
     ]
    },
    {
     "name": "stdout",
     "output_type": "stream",
     "text": [
      "Error fetching data for TKMR: No historical data available for TKMR around 2024-01-27.\n"
     ]
    },
    {
     "name": "stderr",
     "output_type": "stream",
     "text": [
      "$ELNK: possibly delisted; no price data found  (1d 2023-12-28 -> 2024-01-27)\n"
     ]
    },
    {
     "name": "stdout",
     "output_type": "stream",
     "text": [
      "Error fetching data for ELNK: No historical data available for ELNK around 2024-01-27.\n"
     ]
    },
    {
     "name": "stderr",
     "output_type": "stream",
     "text": [
      "$SNSS: possibly delisted; no timezone found\n"
     ]
    },
    {
     "name": "stdout",
     "output_type": "stream",
     "text": [
      "Error fetching data for SNSS: No historical data available for SNSS around 2024-01-27.\n"
     ]
    },
    {
     "name": "stderr",
     "output_type": "stream",
     "text": [
      "$GXP: possibly delisted; no price data found  (1d 2023-12-28 -> 2024-01-27)\n"
     ]
    },
    {
     "name": "stdout",
     "output_type": "stream",
     "text": [
      "Error fetching data for GXP: No historical data available for GXP around 2024-01-27.\n"
     ]
    },
    {
     "name": "stderr",
     "output_type": "stream",
     "text": [
      "$VAR: possibly delisted; no timezone found\n"
     ]
    },
    {
     "name": "stdout",
     "output_type": "stream",
     "text": [
      "Error fetching data for VAR: No historical data available for VAR around 2024-01-27.\n"
     ]
    },
    {
     "name": "stderr",
     "output_type": "stream",
     "text": [
      "$AMRB: possibly delisted; no timezone found\n"
     ]
    },
    {
     "name": "stdout",
     "output_type": "stream",
     "text": [
      "Error fetching data for AMRB: No historical data available for AMRB around 2024-01-27.\n"
     ]
    },
    {
     "name": "stderr",
     "output_type": "stream",
     "text": [
      "$CTCM: possibly delisted; no price data found  (1d 2023-12-28 -> 2024-01-27)\n"
     ]
    },
    {
     "name": "stdout",
     "output_type": "stream",
     "text": [
      "Error fetching data for CTCM: No historical data available for CTCM around 2024-01-27.\n"
     ]
    },
    {
     "name": "stderr",
     "output_type": "stream",
     "text": [
      "$CCCL: possibly delisted; no timezone found\n"
     ]
    },
    {
     "name": "stdout",
     "output_type": "stream",
     "text": [
      "Error fetching data for CCCL: No historical data available for CCCL around 2024-01-27.\n"
     ]
    },
    {
     "name": "stderr",
     "output_type": "stream",
     "text": [
      "$LVNTA: possibly delisted; no price data found  (1d 2023-12-28 -> 2024-01-27)\n",
      "$TELK: possibly delisted; no price data found  (1d 2023-12-28 -> 2024-01-27)\n"
     ]
    },
    {
     "name": "stdout",
     "output_type": "stream",
     "text": [
      "Error fetching data for LVNTA: No historical data available for LVNTA around 2024-01-27.\n",
      "Error fetching data for TELK: No historical data available for TELK around 2024-01-27.\n"
     ]
    },
    {
     "name": "stderr",
     "output_type": "stream",
     "text": [
      "$CXDC: possibly delisted; no timezone found\n"
     ]
    },
    {
     "name": "stdout",
     "output_type": "stream",
     "text": [
      "Error fetching data for CXDC: No historical data available for CXDC around 2024-01-27.\n"
     ]
    },
    {
     "name": "stderr",
     "output_type": "stream",
     "text": [
      "$PNTR: possibly delisted; no timezone found\n",
      "$TSO: possibly delisted; no price data found  (1d 2023-12-28 -> 2024-01-27)\n"
     ]
    },
    {
     "name": "stdout",
     "output_type": "stream",
     "text": [
      "Error fetching data for PNTR: No historical data available for PNTR around 2024-01-27.\n",
      "Error fetching data for TSO: No historical data available for TSO around 2024-01-27.\n"
     ]
    },
    {
     "name": "stderr",
     "output_type": "stream",
     "text": [
      "$CRRC: possibly delisted; no price data found  (1d 2023-12-28 -> 2024-01-27)\n"
     ]
    },
    {
     "name": "stdout",
     "output_type": "stream",
     "text": [
      "Error fetching data for CRRC: No historical data available for CRRC around 2024-01-27.\n"
     ]
    },
    {
     "name": "stderr",
     "output_type": "stream",
     "text": [
      "$AAN: possibly delisted; no timezone found\n",
      "$FPO: possibly delisted; no price data found  (1d 2023-12-28 -> 2024-01-27)\n"
     ]
    },
    {
     "name": "stdout",
     "output_type": "stream",
     "text": [
      "Error fetching data for AAN: No historical data available for AAN around 2024-01-27.\n",
      "Error fetching data for FPO: No historical data available for FPO around 2024-01-27.\n"
     ]
    },
    {
     "name": "stderr",
     "output_type": "stream",
     "text": [
      "$TXCC: possibly delisted; no price data found  (1d 2023-12-28 -> 2024-01-27)\n"
     ]
    },
    {
     "name": "stdout",
     "output_type": "stream",
     "text": [
      "Error fetching data for TXCC: No historical data available for TXCC around 2024-01-27.\n"
     ]
    },
    {
     "name": "stderr",
     "output_type": "stream",
     "text": [
      "$OSHC: possibly delisted; no price data found  (1d 2023-12-28 -> 2024-01-27)\n"
     ]
    },
    {
     "name": "stdout",
     "output_type": "stream",
     "text": [
      "Error fetching data for OSHC: No historical data available for OSHC around 2024-01-27.\n"
     ]
    },
    {
     "name": "stderr",
     "output_type": "stream",
     "text": [
      "$NTX-C: possibly delisted; no timezone found\n"
     ]
    },
    {
     "name": "stdout",
     "output_type": "stream",
     "text": [
      "Error fetching data for NTX-C: No historical data available for NTX-C around 2024-01-27.\n"
     ]
    },
    {
     "name": "stderr",
     "output_type": "stream",
     "text": [
      "$FCCY: possibly delisted; no timezone found\n"
     ]
    },
    {
     "name": "stdout",
     "output_type": "stream",
     "text": [
      "Error fetching data for FCCY: No historical data available for FCCY around 2024-01-27.\n"
     ]
    },
    {
     "name": "stderr",
     "output_type": "stream",
     "text": [
      "$CSRE: possibly delisted; no price data found  (1d 2023-12-28 -> 2024-01-27)\n"
     ]
    },
    {
     "name": "stdout",
     "output_type": "stream",
     "text": [
      "Error fetching data for CSRE: No historical data available for CSRE around 2024-01-27.\n"
     ]
    },
    {
     "name": "stderr",
     "output_type": "stream",
     "text": [
      "$NWY: possibly delisted; no price data found  (1d 2023-12-28 -> 2024-01-27)\n",
      "$ISH: possibly delisted; no price data found  (1d 2023-12-28 -> 2024-01-27)\n"
     ]
    },
    {
     "name": "stdout",
     "output_type": "stream",
     "text": [
      "Error fetching data for NWY: No historical data available for NWY around 2024-01-27.\n",
      "Error fetching data for ISH: No historical data available for ISH around 2024-01-27.\n"
     ]
    },
    {
     "name": "stderr",
     "output_type": "stream",
     "text": [
      "$ACPW: possibly delisted; no price data found  (1d 2023-12-28 -> 2024-01-27)\n",
      "$EDT: possibly delisted; no price data found  (1d 2023-12-28 -> 2024-01-27)\n"
     ]
    },
    {
     "name": "stdout",
     "output_type": "stream",
     "text": [
      "Error fetching data for ACPW: No historical data available for ACPW around 2024-01-27.\n",
      "Error fetching data for EDT: No historical data available for EDT around 2024-01-27.\n"
     ]
    },
    {
     "name": "stderr",
     "output_type": "stream",
     "text": [
      "$STJ: possibly delisted; no price data found  (1d 2023-12-28 -> 2024-01-27)\n"
     ]
    },
    {
     "name": "stdout",
     "output_type": "stream",
     "text": [
      "Error fetching data for STJ: No historical data available for STJ around 2024-01-27.\n"
     ]
    },
    {
     "name": "stderr",
     "output_type": "stream",
     "text": [
      "$CVTI: possibly delisted; no timezone found\n"
     ]
    },
    {
     "name": "stdout",
     "output_type": "stream",
     "text": [
      "Error fetching data for CVTI: No historical data available for CVTI around 2024-01-27.\n"
     ]
    },
    {
     "name": "stderr",
     "output_type": "stream",
     "text": [
      "$KIM-J: possibly delisted; no timezone found\n"
     ]
    },
    {
     "name": "stdout",
     "output_type": "stream",
     "text": [
      "Error fetching data for KIM-J: No historical data available for KIM-J around 2024-01-27.\n"
     ]
    },
    {
     "name": "stderr",
     "output_type": "stream",
     "text": [
      "$HTGZ: possibly delisted; no timezone found\n"
     ]
    },
    {
     "name": "stdout",
     "output_type": "stream",
     "text": [
      "Error fetching data for HTGZ: No historical data available for HTGZ around 2024-01-27.\n"
     ]
    },
    {
     "name": "stderr",
     "output_type": "stream",
     "text": [
      "$GTXI: possibly delisted; no timezone found\n"
     ]
    },
    {
     "name": "stdout",
     "output_type": "stream",
     "text": [
      "Error fetching data for GTXI: No historical data available for GTXI around 2024-01-27.\n"
     ]
    },
    {
     "name": "stderr",
     "output_type": "stream",
     "text": [
      "$TESS: possibly delisted; no timezone found\n",
      "$UTIW: possibly delisted; no price data found  (1d 2023-12-28 -> 2024-01-27)\n"
     ]
    },
    {
     "name": "stdout",
     "output_type": "stream",
     "text": [
      "Error fetching data for TESS: No historical data available for TESS around 2024-01-27.\n",
      "Error fetching data for UTIW: No historical data available for UTIW around 2024-01-27.\n"
     ]
    },
    {
     "name": "stderr",
     "output_type": "stream",
     "text": [
      "$TNAV: possibly delisted; no timezone found\n",
      "$CTC: possibly delisted; no price data found  (1d 2023-12-28 -> 2024-01-27)\n"
     ]
    },
    {
     "name": "stdout",
     "output_type": "stream",
     "text": [
      "Error fetching data for TNAV: No historical data available for TNAV around 2024-01-27.\n",
      "Error fetching data for CTC: No historical data available for CTC around 2024-01-27.\n"
     ]
    },
    {
     "name": "stderr",
     "output_type": "stream",
     "text": [
      "$PSB-R: possibly delisted; no timezone found\n"
     ]
    },
    {
     "name": "stdout",
     "output_type": "stream",
     "text": [
      "Error fetching data for PSB-R: No historical data available for PSB-R around 2024-01-27.\n"
     ]
    },
    {
     "name": "stderr",
     "output_type": "stream",
     "text": [
      "$SSW-C: possibly delisted; no timezone found\n"
     ]
    },
    {
     "name": "stdout",
     "output_type": "stream",
     "text": [
      "Error fetching data for SSW-C: No historical data available for SSW-C around 2024-01-27.\n"
     ]
    },
    {
     "name": "stderr",
     "output_type": "stream",
     "text": [
      "$PEIX: possibly delisted; no timezone found\n"
     ]
    },
    {
     "name": "stdout",
     "output_type": "stream",
     "text": [
      "Error fetching data for PEIX: No historical data available for PEIX around 2024-01-27.\n"
     ]
    },
    {
     "name": "stderr",
     "output_type": "stream",
     "text": [
      "$MANT: possibly delisted; no timezone found\n",
      "$PUK.P: possibly delisted; no price data found  (1d 2023-12-28 -> 2024-01-27)\n"
     ]
    },
    {
     "name": "stdout",
     "output_type": "stream",
     "text": [
      "Error fetching data for MANT: No historical data available for MANT around 2024-01-27.\n",
      "Error fetching data for PUK.P: No historical data available for PUK.P around 2024-01-27.\n"
     ]
    },
    {
     "name": "stderr",
     "output_type": "stream",
     "text": [
      "$SAI: possibly delisted; no timezone found\n"
     ]
    },
    {
     "name": "stdout",
     "output_type": "stream",
     "text": [
      "Error fetching data for SAI: No historical data available for SAI around 2024-01-27.\n"
     ]
    },
    {
     "name": "stderr",
     "output_type": "stream",
     "text": [
      "$AVID: possibly delisted; no timezone found\n",
      "$BMC: possibly delisted; no price data found  (1d 2023-12-28 -> 2024-01-27)\n"
     ]
    },
    {
     "name": "stdout",
     "output_type": "stream",
     "text": [
      "Error fetching data for AVID: No historical data available for AVID around 2024-01-27.\n",
      "Error fetching data for BMC: No historical data available for BMC around 2024-01-27.\n"
     ]
    },
    {
     "name": "stderr",
     "output_type": "stream",
     "text": [
      "$NNC-E: possibly delisted; no timezone found\n"
     ]
    },
    {
     "name": "stdout",
     "output_type": "stream",
     "text": [
      "Error fetching data for NNC-E: No historical data available for NNC-E around 2024-01-27.\n"
     ]
    },
    {
     "name": "stderr",
     "output_type": "stream",
     "text": [
      "$LPDX: possibly delisted; no price data found  (1d 2023-12-28 -> 2024-01-27)\n",
      "$MPEL: possibly delisted; no price data found  (1d 2023-12-28 -> 2024-01-27)\n"
     ]
    },
    {
     "name": "stdout",
     "output_type": "stream",
     "text": [
      "Error fetching data for LPDX: No historical data available for LPDX around 2024-01-27.\n",
      "Error fetching data for MPEL: No historical data available for MPEL around 2024-01-27.\n"
     ]
    },
    {
     "name": "stderr",
     "output_type": "stream",
     "text": [
      "$GFY: possibly delisted; no timezone found\n"
     ]
    },
    {
     "name": "stdout",
     "output_type": "stream",
     "text": [
      "Error fetching data for GFY: No historical data available for GFY around 2024-01-27.\n"
     ]
    },
    {
     "name": "stderr",
     "output_type": "stream",
     "text": [
      "$PSA-P: possibly delisted; no timezone found\n"
     ]
    },
    {
     "name": "stdout",
     "output_type": "stream",
     "text": [
      "Error fetching data for PSA-P: No historical data available for PSA-P around 2024-01-27.\n"
     ]
    },
    {
     "name": "stderr",
     "output_type": "stream",
     "text": [
      "$SAL: possibly delisted; no timezone found\n"
     ]
    },
    {
     "name": "stdout",
     "output_type": "stream",
     "text": [
      "Error fetching data for SAL: No historical data available for SAL around 2024-01-27.\n"
     ]
    },
    {
     "name": "stderr",
     "output_type": "stream",
     "text": [
      "$LNDC: possibly delisted; no timezone found\n"
     ]
    },
    {
     "name": "stdout",
     "output_type": "stream",
     "text": [
      "Error fetching data for LNDC: No historical data available for LNDC around 2024-01-27.\n"
     ]
    },
    {
     "name": "stderr",
     "output_type": "stream",
     "text": [
      "$SPHS: possibly delisted; no timezone found\n",
      "$OPTR: possibly delisted; no price data found  (1d 2023-12-28 -> 2024-01-27)\n"
     ]
    },
    {
     "name": "stdout",
     "output_type": "stream",
     "text": [
      "Error fetching data for SPHS: No historical data available for SPHS around 2024-01-27.\n",
      "Error fetching data for OPTR: No historical data available for OPTR around 2024-01-27.\n"
     ]
    },
    {
     "name": "stderr",
     "output_type": "stream",
     "text": [
      "$NCU-C: possibly delisted; no timezone found\n"
     ]
    },
    {
     "name": "stdout",
     "output_type": "stream",
     "text": [
      "Error fetching data for NCU-C: No historical data available for NCU-C around 2024-01-27.\n"
     ]
    },
    {
     "name": "stderr",
     "output_type": "stream",
     "text": [
      "$MOCO: possibly delisted; no price data found  (1d 2023-12-28 -> 2024-01-27)\n"
     ]
    },
    {
     "name": "stdout",
     "output_type": "stream",
     "text": [
      "Error fetching data for MOCO: No historical data available for MOCO around 2024-01-27.\n"
     ]
    },
    {
     "name": "stderr",
     "output_type": "stream",
     "text": [
      "$BTUI: possibly delisted; no price data found  (1d 2023-12-28 -> 2024-01-27)\n"
     ]
    },
    {
     "name": "stdout",
     "output_type": "stream",
     "text": [
      "Error fetching data for BTUI: No historical data available for BTUI around 2024-01-27.\n"
     ]
    },
    {
     "name": "stderr",
     "output_type": "stream",
     "text": [
      "$SEAS: possibly delisted; no timezone found\n"
     ]
    },
    {
     "name": "stdout",
     "output_type": "stream",
     "text": [
      "Error fetching data for SEAS: No historical data available for SEAS around 2024-01-27.\n"
     ]
    },
    {
     "name": "stderr",
     "output_type": "stream",
     "text": [
      "$MTSL: possibly delisted; no timezone found\n"
     ]
    },
    {
     "name": "stdout",
     "output_type": "stream",
     "text": [
      "Error fetching data for MTSL: No historical data available for MTSL around 2024-01-27.\n"
     ]
    },
    {
     "name": "stderr",
     "output_type": "stream",
     "text": [
      "$MSZ: possibly delisted; no timezone found\n"
     ]
    },
    {
     "name": "stdout",
     "output_type": "stream",
     "text": [
      "Error fetching data for MSZ: No historical data available for MSZ around 2024-01-27.\n"
     ]
    },
    {
     "name": "stderr",
     "output_type": "stream",
     "text": [
      "$IRE-B: possibly delisted; no timezone found\n"
     ]
    },
    {
     "name": "stdout",
     "output_type": "stream",
     "text": [
      "Error fetching data for IRE-B: No historical data available for IRE-B around 2024-01-27.\n"
     ]
    },
    {
     "name": "stderr",
     "output_type": "stream",
     "text": [
      "$BRE-D: possibly delisted; no timezone found\n",
      "$JPZ: possibly delisted; no price data found  (1d 2023-12-28 -> 2024-01-27)\n"
     ]
    },
    {
     "name": "stdout",
     "output_type": "stream",
     "text": [
      "Error fetching data for BRE-D: No historical data available for BRE-D around 2024-01-27.\n",
      "Error fetching data for JPZ: No historical data available for JPZ around 2024-01-27.\n"
     ]
    },
    {
     "name": "stderr",
     "output_type": "stream",
     "text": [
      "$FFBCW: possibly delisted; no timezone found\n"
     ]
    },
    {
     "name": "stdout",
     "output_type": "stream",
     "text": [
      "Error fetching data for FFBCW: No historical data available for FFBCW around 2024-01-27.\n"
     ]
    },
    {
     "name": "stderr",
     "output_type": "stream",
     "text": [
      "$GAM-B: possibly delisted; no timezone found\n",
      "$QCOR: possibly delisted; no price data found  (1d 2023-12-28 -> 2024-01-27)\n"
     ]
    },
    {
     "name": "stdout",
     "output_type": "stream",
     "text": [
      "Error fetching data for GAM-B: No historical data available for GAM-B around 2024-01-27.\n",
      "Error fetching data for QCOR: No historical data available for QCOR around 2024-01-27.\n"
     ]
    },
    {
     "name": "stderr",
     "output_type": "stream",
     "text": [
      "$AOI: possibly delisted; no price data found  (1d 2023-12-28 -> 2024-01-27)\n"
     ]
    },
    {
     "name": "stdout",
     "output_type": "stream",
     "text": [
      "Error fetching data for AOI: No historical data available for AOI around 2024-01-27.\n"
     ]
    },
    {
     "name": "stderr",
     "output_type": "stream",
     "text": [
      "$FFNM: possibly delisted; no price data found  (1d 2023-12-28 -> 2024-01-27)\n"
     ]
    },
    {
     "name": "stdout",
     "output_type": "stream",
     "text": [
      "Error fetching data for FFNM: No historical data available for FFNM around 2024-01-27.\n"
     ]
    },
    {
     "name": "stderr",
     "output_type": "stream",
     "text": [
      "$HMIN: possibly delisted; no price data found  (1d 2023-12-28 -> 2024-01-27)\n"
     ]
    },
    {
     "name": "stdout",
     "output_type": "stream",
     "text": [
      "Error fetching data for HMIN: No historical data available for HMIN around 2024-01-27.\n"
     ]
    },
    {
     "name": "stderr",
     "output_type": "stream",
     "text": [
      "$COR-A: possibly delisted; no timezone found\n"
     ]
    },
    {
     "name": "stdout",
     "output_type": "stream",
     "text": [
      "Error fetching data for COR-A: No historical data available for COR-A around 2024-01-27.\n"
     ]
    },
    {
     "name": "stderr",
     "output_type": "stream",
     "text": [
      "$BSTC: possibly delisted; no timezone found\n",
      "$PCLN: possibly delisted; no price data found  (1d 2023-12-28 -> 2024-01-27)\n"
     ]
    },
    {
     "name": "stdout",
     "output_type": "stream",
     "text": [
      "Error fetching data for BSTC: No historical data available for BSTC around 2024-01-27.\n",
      "Error fetching data for PCLN: No historical data available for PCLN around 2024-01-27.\n"
     ]
    },
    {
     "name": "stderr",
     "output_type": "stream",
     "text": [
      "$MKC.V: possibly delisted; no timezone found\n",
      "$UAM: possibly delisted; no price data found  (1d 2023-12-28 -> 2024-01-27)\n"
     ]
    },
    {
     "name": "stdout",
     "output_type": "stream",
     "text": [
      "Error fetching data for MKC.V: No historical data available for MKC.V around 2024-01-27.\n",
      "Error fetching data for UAM: No historical data available for UAM around 2024-01-27.\n"
     ]
    },
    {
     "name": "stderr",
     "output_type": "stream",
     "text": [
      "$SBW: possibly delisted; no price data found  (1d 2023-12-28 -> 2024-01-27)\n"
     ]
    },
    {
     "name": "stdout",
     "output_type": "stream",
     "text": [
      "Error fetching data for SBW: No historical data available for SBW around 2024-01-27.\n"
     ]
    },
    {
     "name": "stderr",
     "output_type": "stream",
     "text": [
      "$FDI: possibly delisted; no price data found  (1d 2023-12-28 -> 2024-01-27)\n",
      "$ONVI: possibly delisted; no price data found  (1d 2023-12-28 -> 2024-01-27)\n"
     ]
    },
    {
     "name": "stdout",
     "output_type": "stream",
     "text": [
      "Error fetching data for FDI: No historical data available for FDI around 2024-01-27.\n",
      "Error fetching data for ONVI: No historical data available for ONVI around 2024-01-27.\n"
     ]
    },
    {
     "name": "stderr",
     "output_type": "stream",
     "text": [
      "$BSE: possibly delisted; no timezone found\n"
     ]
    },
    {
     "name": "stdout",
     "output_type": "stream",
     "text": [
      "Error fetching data for BSE: No historical data available for BSE around 2024-01-27.\n"
     ]
    },
    {
     "name": "stderr",
     "output_type": "stream",
     "text": [
      "$CTRL: possibly delisted; no timezone found\n"
     ]
    },
    {
     "name": "stdout",
     "output_type": "stream",
     "text": [
      "Error fetching data for CTRL: No historical data available for CTRL around 2024-01-27.\n"
     ]
    },
    {
     "name": "stderr",
     "output_type": "stream",
     "text": [
      "$CSU: possibly delisted; no timezone found\n"
     ]
    },
    {
     "name": "stdout",
     "output_type": "stream",
     "text": [
      "Error fetching data for CSU: No historical data available for CSU around 2024-01-27.\n"
     ]
    },
    {
     "name": "stderr",
     "output_type": "stream",
     "text": [
      "$PBIP: possibly delisted; no timezone found\n",
      "$CRDC: possibly delisted; no price data found  (1d 2023-12-28 -> 2024-01-27)\n"
     ]
    },
    {
     "name": "stdout",
     "output_type": "stream",
     "text": [
      "Error fetching data for PBIP: No historical data available for PBIP around 2024-01-27.\n",
      "Error fetching data for CRDC: No historical data available for CRDC around 2024-01-27.\n"
     ]
    },
    {
     "name": "stderr",
     "output_type": "stream",
     "text": [
      "$BEE-B: possibly delisted; no timezone found\n"
     ]
    },
    {
     "name": "stdout",
     "output_type": "stream",
     "text": [
      "Error fetching data for BEE-B: No historical data available for BEE-B around 2024-01-27.\n"
     ]
    },
    {
     "name": "stderr",
     "output_type": "stream",
     "text": [
      "$KIM-H: possibly delisted; no timezone found\n"
     ]
    },
    {
     "name": "stdout",
     "output_type": "stream",
     "text": [
      "Error fetching data for KIM-H: No historical data available for KIM-H around 2024-01-27.\n"
     ]
    },
    {
     "name": "stderr",
     "output_type": "stream",
     "text": [
      "$EBSB: possibly delisted; no timezone found\n"
     ]
    },
    {
     "name": "stdout",
     "output_type": "stream",
     "text": [
      "Error fetching data for EBSB: No historical data available for EBSB around 2024-01-27.\n"
     ]
    },
    {
     "name": "stderr",
     "output_type": "stream",
     "text": [
      "$BML-H: possibly delisted; no timezone found\n"
     ]
    },
    {
     "name": "stdout",
     "output_type": "stream",
     "text": [
      "Error fetching data for BML-H: No historical data available for BML-H around 2024-01-27.\n"
     ]
    },
    {
     "name": "stderr",
     "output_type": "stream",
     "text": [
      "$KRA: possibly delisted; no timezone found\n"
     ]
    },
    {
     "name": "stdout",
     "output_type": "stream",
     "text": [
      "Error fetching data for KRA: No historical data available for KRA around 2024-01-27.\n"
     ]
    },
    {
     "name": "stderr",
     "output_type": "stream",
     "text": [
      "$RAVN: possibly delisted; no timezone found\n"
     ]
    },
    {
     "name": "stdout",
     "output_type": "stream",
     "text": [
      "Error fetching data for RAVN: No historical data available for RAVN around 2024-01-27.\n"
     ]
    },
    {
     "name": "stderr",
     "output_type": "stream",
     "text": [
      "$EPR-F: possibly delisted; no timezone found\n",
      "$JACQU: possibly delisted; no price data found  (1d 2023-12-28 -> 2024-01-27)\n"
     ]
    },
    {
     "name": "stdout",
     "output_type": "stream",
     "text": [
      "Error fetching data for EPR-F: No historical data available for EPR-F around 2024-01-27.\n",
      "Error fetching data for JACQU: No historical data available for JACQU around 2024-01-27.\n"
     ]
    },
    {
     "name": "stderr",
     "output_type": "stream",
     "text": [
      "$IDT.P: possibly delisted; no price data found  (1d 2023-12-28 -> 2024-01-27)\n"
     ]
    },
    {
     "name": "stdout",
     "output_type": "stream",
     "text": [
      "Error fetching data for IDT.P: No historical data available for IDT.P around 2024-01-27.\n"
     ]
    },
    {
     "name": "stderr",
     "output_type": "stream",
     "text": [
      "$JADE: possibly delisted; no price data found  (1d 2023-12-28 -> 2024-01-27) (Yahoo error = \"Data doesn't exist for startDate = 1703739600, endDate = 1706331600\")\n"
     ]
    },
    {
     "name": "stdout",
     "output_type": "stream",
     "text": [
      "Error fetching data for JADE: No historical data available for JADE around 2024-01-27.\n"
     ]
    },
    {
     "name": "stderr",
     "output_type": "stream",
     "text": [
      "$NZH-B: possibly delisted; no timezone found\n"
     ]
    },
    {
     "name": "stdout",
     "output_type": "stream",
     "text": [
      "Error fetching data for NZH-B: No historical data available for NZH-B around 2024-01-27.\n"
     ]
    },
    {
     "name": "stderr",
     "output_type": "stream",
     "text": [
      "$MILL: possibly delisted; no price data found  (1d 2023-12-28 -> 2024-01-27)\n",
      "$OCZ: possibly delisted; no price data found  (1d 2023-12-28 -> 2024-01-27)\n"
     ]
    },
    {
     "name": "stdout",
     "output_type": "stream",
     "text": [
      "Error fetching data for MILL: No historical data available for MILL around 2024-01-27.\n",
      "Error fetching data for OCZ: No historical data available for OCZ around 2024-01-27.\n"
     ]
    },
    {
     "name": "stderr",
     "output_type": "stream",
     "text": [
      "$TMK: possibly delisted; no timezone found\n"
     ]
    },
    {
     "name": "stdout",
     "output_type": "stream",
     "text": [
      "Error fetching data for TMK: No historical data available for TMK around 2024-01-27.\n"
     ]
    },
    {
     "name": "stderr",
     "output_type": "stream",
     "text": [
      "$JMT: possibly delisted; no timezone found\n"
     ]
    },
    {
     "name": "stdout",
     "output_type": "stream",
     "text": [
      "Error fetching data for JMT: No historical data available for JMT around 2024-01-27.\n"
     ]
    },
    {
     "name": "stderr",
     "output_type": "stream",
     "text": [
      "$DRTX: possibly delisted; no price data found  (1d 2023-12-28 -> 2024-01-27)\n"
     ]
    },
    {
     "name": "stdout",
     "output_type": "stream",
     "text": [
      "Error fetching data for DRTX: No historical data available for DRTX around 2024-01-27.\n"
     ]
    },
    {
     "name": "stderr",
     "output_type": "stream",
     "text": [
      "$HMTV: possibly delisted; no timezone found\n",
      "$PMFG: possibly delisted; no price data found  (1d 2023-12-28 -> 2024-01-27)\n"
     ]
    },
    {
     "name": "stdout",
     "output_type": "stream",
     "text": [
      "Error fetching data for HMTV: No historical data available for HMTV around 2024-01-27.\n",
      "Error fetching data for PMFG: No historical data available for PMFG around 2024-01-27.\n"
     ]
    },
    {
     "name": "stderr",
     "output_type": "stream",
     "text": [
      "$FFCO: possibly delisted; no price data found  (1d 2023-12-28 -> 2024-01-27)\n",
      "$STO: possibly delisted; no price data found  (1d 2023-12-28 -> 2024-01-27)\n"
     ]
    },
    {
     "name": "stdout",
     "output_type": "stream",
     "text": [
      "Error fetching data for FFCO: No historical data available for FFCO around 2024-01-27.\n",
      "Error fetching data for STO: No historical data available for STO around 2024-01-27.\n"
     ]
    },
    {
     "name": "stderr",
     "output_type": "stream",
     "text": [
      "$BCS-D: possibly delisted; no timezone found\n"
     ]
    },
    {
     "name": "stdout",
     "output_type": "stream",
     "text": [
      "Error fetching data for BCS-D: No historical data available for BCS-D around 2024-01-27.\n"
     ]
    },
    {
     "name": "stderr",
     "output_type": "stream",
     "text": [
      "$FAC: possibly delisted; no price data found  (1d 2023-12-28 -> 2024-01-27)\n"
     ]
    },
    {
     "name": "stdout",
     "output_type": "stream",
     "text": [
      "Error fetching data for FAC: No historical data available for FAC around 2024-01-27.\n"
     ]
    },
    {
     "name": "stderr",
     "output_type": "stream",
     "text": [
      "$C-N: possibly delisted; no timezone found\n"
     ]
    },
    {
     "name": "stdout",
     "output_type": "stream",
     "text": [
      "Error fetching data for C-N: No historical data available for C-N around 2024-01-27.\n"
     ]
    },
    {
     "name": "stderr",
     "output_type": "stream",
     "text": [
      "$IRG: possibly delisted; no price data found  (1d 2023-12-28 -> 2024-01-27)\n"
     ]
    },
    {
     "name": "stdout",
     "output_type": "stream",
     "text": [
      "Error fetching data for IRG: No historical data available for IRG around 2024-01-27.\n"
     ]
    },
    {
     "name": "stderr",
     "output_type": "stream",
     "text": [
      "$BML-I: possibly delisted; no timezone found\n"
     ]
    },
    {
     "name": "stdout",
     "output_type": "stream",
     "text": [
      "Error fetching data for BML-I: No historical data available for BML-I around 2024-01-27.\n"
     ]
    },
    {
     "name": "stderr",
     "output_type": "stream",
     "text": [
      "$CS: possibly delisted; no timezone found\n",
      "$CSG: possibly delisted; no price data found  (1d 2023-12-28 -> 2024-01-27)\n"
     ]
    },
    {
     "name": "stdout",
     "output_type": "stream",
     "text": [
      "Error fetching data for CS: No historical data available for CS around 2024-01-27.\n",
      "Error fetching data for CSG: No historical data available for CSG around 2024-01-27.\n"
     ]
    },
    {
     "name": "stderr",
     "output_type": "stream",
     "text": [
      "$LLL: possibly delisted; no timezone found\n",
      "$MTB.P: possibly delisted; no price data found  (1d 2023-12-28 -> 2024-01-27)\n"
     ]
    },
    {
     "name": "stdout",
     "output_type": "stream",
     "text": [
      "Error fetching data for LLL: No historical data available for LLL around 2024-01-27.\n",
      "Error fetching data for MTB.P: No historical data available for MTB.P around 2024-01-27.\n"
     ]
    },
    {
     "name": "stderr",
     "output_type": "stream",
     "text": [
      "$STI-A: possibly delisted; no timezone found\n"
     ]
    },
    {
     "name": "stdout",
     "output_type": "stream",
     "text": [
      "Error fetching data for STI-A: No historical data available for STI-A around 2024-01-27.\n"
     ]
    },
    {
     "name": "stderr",
     "output_type": "stream",
     "text": [
      "$HFC: possibly delisted; no timezone found\n",
      "$CCSC: possibly delisted; no price data found  (1d 2023-12-28 -> 2024-01-27)\n"
     ]
    },
    {
     "name": "stdout",
     "output_type": "stream",
     "text": [
      "Error fetching data for HFC: No historical data available for HFC around 2024-01-27.\n",
      "Error fetching data for CCSC: No historical data available for CCSC around 2024-01-27.\n"
     ]
    },
    {
     "name": "stderr",
     "output_type": "stream",
     "text": [
      "$XPLR: possibly delisted; no price data found  (1d 2023-12-28 -> 2024-01-27)\n",
      "$HGT: possibly delisted; no price data found  (1d 2023-12-28 -> 2024-01-27)\n",
      "$BSP: possibly delisted; no price data found  (1d 2023-12-28 -> 2024-01-27)\n"
     ]
    },
    {
     "name": "stdout",
     "output_type": "stream",
     "text": [
      "Error fetching data for XPLR: No historical data available for XPLR around 2024-01-27.\n",
      "Error fetching data for HGT: No historical data available for HGT around 2024-01-27.\n",
      "Error fetching data for BSP: No historical data available for BSP around 2024-01-27.\n"
     ]
    },
    {
     "name": "stderr",
     "output_type": "stream",
     "text": [
      "$PZB: possibly delisted; no price data found  (1d 2023-12-28 -> 2024-01-27)\n"
     ]
    },
    {
     "name": "stdout",
     "output_type": "stream",
     "text": [
      "Error fetching data for PZB: No historical data available for PZB around 2024-01-27.\n"
     ]
    },
    {
     "name": "stderr",
     "output_type": "stream",
     "text": [
      "$BKCC: possibly delisted; no timezone found\n"
     ]
    },
    {
     "name": "stdout",
     "output_type": "stream",
     "text": [
      "Error fetching data for BKCC: No historical data available for BKCC around 2024-01-27.\n"
     ]
    },
    {
     "name": "stderr",
     "output_type": "stream",
     "text": [
      "$GPM: possibly delisted; no timezone found\n"
     ]
    },
    {
     "name": "stdout",
     "output_type": "stream",
     "text": [
      "Error fetching data for GPM: No historical data available for GPM around 2024-01-27.\n"
     ]
    },
    {
     "name": "stderr",
     "output_type": "stream",
     "text": [
      "$ZNGA: possibly delisted; no timezone found\n"
     ]
    },
    {
     "name": "stdout",
     "output_type": "stream",
     "text": [
      "Error fetching data for ZNGA: No historical data available for ZNGA around 2024-01-27.\n"
     ]
    },
    {
     "name": "stderr",
     "output_type": "stream",
     "text": [
      "$PSB-V: possibly delisted; no timezone found\n",
      "$MELA: possibly delisted; no price data found  (1d 2023-12-28 -> 2024-01-27)\n"
     ]
    },
    {
     "name": "stdout",
     "output_type": "stream",
     "text": [
      "Error fetching data for PSB-V: No historical data available for PSB-V around 2024-01-27.\n",
      "Error fetching data for MELA: No historical data available for MELA around 2024-01-27.\n"
     ]
    },
    {
     "name": "stderr",
     "output_type": "stream",
     "text": [
      "$MRH-A: possibly delisted; no timezone found\n"
     ]
    },
    {
     "name": "stdout",
     "output_type": "stream",
     "text": [
      "Error fetching data for MRH-A: No historical data available for MRH-A around 2024-01-27.\n"
     ]
    },
    {
     "name": "stderr",
     "output_type": "stream",
     "text": [
      "$DX-A: possibly delisted; no timezone found\n"
     ]
    },
    {
     "name": "stdout",
     "output_type": "stream",
     "text": [
      "Error fetching data for DX-A: No historical data available for DX-A around 2024-01-27.\n"
     ]
    },
    {
     "name": "stderr",
     "output_type": "stream",
     "text": [
      "$EMES: possibly delisted; no timezone found\n",
      "$FCY: possibly delisted; no price data found  (1d 2023-12-28 -> 2024-01-27)\n"
     ]
    },
    {
     "name": "stdout",
     "output_type": "stream",
     "text": [
      "Error fetching data for EMES: No historical data available for EMES around 2024-01-27.\n",
      "Error fetching data for FCY: No historical data available for FCY around 2024-01-27.\n",
      "Error fetching data for DMO: Too Many Requests. Rate limited. Try after a while.\n",
      "Error fetching data for SGF: Too Many Requests. Rate limited. Try after a while.\n",
      "Error fetching data for CXE: Too Many Requests. Rate limited. Try after a while.\n",
      "Error fetching data for ACOR: Too Many Requests. Rate limited. Try after a while.\n",
      "Error fetching data for SID: Too Many Requests. Rate limited. Try after a while.\n",
      "Error fetching data for OKSBP: Too Many Requests. Rate limited. Try after a while.\n",
      "Error fetching data for KR: Too Many Requests. Rate limited. Try after a while.\n",
      "Error fetching data for EGF: Too Many Requests. Rate limited. Try after a while.\n",
      "Error fetching data for SNDK: Too Many Requests. Rate limited. Try after a while.\n",
      "Error fetching data for LCC: Too Many Requests. Rate limited. Try after a while.\n",
      "Error fetching data for TAL: Too Many Requests. Rate limited. Try after a while.\n",
      "Error fetching data for BAMM: Too Many Requests. Rate limited. Try after a while.\n",
      "Error fetching data for MSEX: Too Many Requests. Rate limited. Try after a while.\n",
      "Error fetching data for EBMT: Too Many Requests. Rate limited. Try after a while.\n",
      "Error fetching data for O: Too Many Requests. Rate limited. Try after a while.\n",
      "Error fetching data for PFSW: Too Many Requests. Rate limited. Try after a while.\n",
      "Error fetching data for BMA: Too Many Requests. Rate limited. Try after a while.\n",
      "Error fetching data for NPV-C: Too Many Requests. Rate limited. Try after a while.\n",
      "Error fetching data for BCSB: Too Many Requests. Rate limited. Try after a while.\n",
      "Error fetching data for ECOM: Too Many Requests. Rate limited. Try after a while.\n",
      "Error fetching data for RVT: Too Many Requests. Rate limited. Try after a while.\n",
      "Error fetching data for HBM: Too Many Requests. Rate limited. Try after a while.\n",
      "Error fetching data for MGCD: Too Many Requests. Rate limited. Try after a while.\n",
      "Error fetching data for NNC-D: Too Many Requests. Rate limited. Try after a while.\n",
      "Error fetching data for EFII: Too Many Requests. Rate limited. Try after a while.\n",
      "Error fetching data for JSN: Too Many Requests. Rate limited. Try after a while.\n",
      "Error fetching data for OI: Too Many Requests. Rate limited. Try after a while.\n",
      "Error fetching data for FTI: Too Many Requests. Rate limited. Try after a while.\n",
      "Error fetching data for EGHT: Too Many Requests. Rate limited. Try after a while.\n",
      "Error fetching data for ECTE: Too Many Requests. Rate limited. Try after a while.\n",
      "Error fetching data for SMSI: Too Many Requests. Rate limited. Try after a while.\n",
      "Error fetching data for PTX: Too Many Requests. Rate limited. Try after a while.\n",
      "Error fetching data for PSA-U: Too Many Requests. Rate limited. Try after a while.\n",
      "Error fetching data for JXSB: Too Many Requests. Rate limited. Try after a while.\n",
      "Error fetching data for CBS: Too Many Requests. Rate limited. Try after a while.\n",
      "Error fetching data for NEE-I: Too Many Requests. Rate limited. Try after a while.\n",
      "Error fetching data for ELN: Too Many Requests. Rate limited. Try after a while.\n",
      "Error fetching data for KNX: Too Many Requests. Rate limited. Try after a while.\n",
      "Error fetching data for STB: Too Many Requests. Rate limited. Try after a while.\n",
      "Error fetching data for LINTB: Too Many Requests. Rate limited. Try after a while.\n",
      "Error fetching data for AAXJ: Too Many Requests. Rate limited. Try after a while.\n",
      "Error fetching data for SKYY: Too Many Requests. Rate limited. Try after a while.\n",
      "Error fetching data for NLS: Too Many Requests. Rate limited. Try after a while.\n",
      "Error fetching data for EMN: Too Many Requests. Rate limited. Try after a while.\n",
      "Error fetching data for C.B: Too Many Requests. Rate limited. Try after a while.\n",
      "Error fetching data for PSA-R: Too Many Requests. Rate limited. Try after a while.\n",
      "Error fetching data for NDLS: Too Many Requests. Rate limited. Try after a while.\n",
      "Error fetching data for RRST: Too Many Requests. Rate limited. Try after a while.\n",
      "Error fetching data for ENTR: Too Many Requests. Rate limited. Try after a while.\n",
      "Error fetching data for EPD: Too Many Requests. Rate limited. Try after a while.\n",
      "Error fetching data for CCI: Too Many Requests. Rate limited. Try after a while.\n",
      "Error fetching data for SHW: Too Many Requests. Rate limited. Try after a while.\n",
      "Error fetching data for DEG: Too Many Requests. Rate limited. Try after a while.\n",
      "Error fetching data for CGO: Too Many Requests. Rate limited. Try after a while.\n",
      "Error fetching data for REGN: Too Many Requests. Rate limited. Try after a while.\n",
      "Error fetching data for STRZB: Too Many Requests. Rate limited. Try after a while.\n",
      "Error fetching data for HYB: Too Many Requests. Rate limited. Try after a while.\n",
      "Error fetching data for IN: Too Many Requests. Rate limited. Try after a while.\n",
      "Error fetching data for CRD.A: Too Many Requests. Rate limited. Try after a while.\n",
      "Error fetching data for ENVI: Too Many Requests. Rate limited. Try after a while.\n",
      "Error fetching data for MNST: Too Many Requests. Rate limited. Try after a while.\n",
      "Error fetching data for ENZ: Too Many Requests. Rate limited. Try after a while.\n",
      "Error fetching data for AOL: Too Many Requests. Rate limited. Try after a while.\n",
      "Error fetching data for DXYN: Too Many Requests. Rate limited. Try after a while.\n",
      "Error fetching data for MBTF: Too Many Requests. Rate limited. Try after a while.\n",
      "Error fetching data for USTR: Too Many Requests. Rate limited. Try after a while.\n",
      "Error fetching data for ASCMA: Too Many Requests. Rate limited. Try after a while.\n",
      "Error fetching data for EFT: Too Many Requests. Rate limited. Try after a while.\n",
      "Error fetching data for ENPH: Too Many Requests. Rate limited. Try after a while.\n",
      "Error fetching data for HSB-B: Too Many Requests. Rate limited. Try after a while.\n",
      "Error fetching data for JACQ: Too Many Requests. Rate limited. Try after a while.\n",
      "Error fetching data for GLOG: Too Many Requests. Rate limited. Try after a while.\n",
      "Error fetching data for RCON: Too Many Requests. Rate limited. Try after a while.\n",
      "Error fetching data for MKTO: Too Many Requests. Rate limited. Try after a while.\n",
      "Error fetching data for PODD: Too Many Requests. Rate limited. Try after a while.\n",
      "Error fetching data for CRH: Too Many Requests. Rate limited. Try after a while.\n",
      "Error fetching data for UNP: Too Many Requests. Rate limited. Try after a while.\n",
      "Error fetching data for STLD: Too Many Requests. Rate limited. Try after a while.\n",
      "Error fetching data for SMED: Too Many Requests. Rate limited. Try after a while.\n",
      "Error fetching data for TST: Too Many Requests. Rate limited. Try after a while.\n",
      "Error fetching data for UCFC: Too Many Requests. Rate limited. Try after a while.\n",
      "Error fetching data for TRGP: Too Many Requests. Rate limited. Try after a while.\n",
      "Error fetching data for NRK-C: Too Many Requests. Rate limited. Try after a while.\n",
      "Error fetching data for FRX: Too Many Requests. Rate limited. Try after a while.\n",
      "Error fetching data for ADUS: Too Many Requests. Rate limited. Try after a while.\n",
      "Error fetching data for FSLR: Too Many Requests. Rate limited. Try after a while.\n",
      "Error fetching data for HBNK: Too Many Requests. Rate limited. Try after a while.\n",
      "Error fetching data for FSBK: Too Many Requests. Rate limited. Try after a while.\n",
      "Error fetching data for DNBF: Too Many Requests. Rate limited. Try after a while.\n",
      "Error fetching data for SEIC: Too Many Requests. Rate limited. Try after a while.\n",
      "Error fetching data for FENG: Too Many Requests. Rate limited. Try after a while.\n",
      "Error fetching data for JAH: Too Many Requests. Rate limited. Try after a while.\n",
      "Error fetching data for THGA: Too Many Requests. Rate limited. Try after a while.\n",
      "Error fetching data for PSTR: Too Many Requests. Rate limited. Try after a while.\n",
      "Error fetching data for AOS: Too Many Requests. Rate limited. Try after a while.\n",
      "Error fetching data for KEM: Too Many Requests. Rate limited. Try after a while.\n",
      "Error fetching data for ASTC: Too Many Requests. Rate limited. Try after a while.\n",
      "Error fetching data for MEI: Too Many Requests. Rate limited. Try after a while.\n",
      "Error fetching data for DTF: Too Many Requests. Rate limited. Try after a while.\n",
      "Error fetching data for SBS: Too Many Requests. Rate limited. Try after a while.\n",
      "Error fetching data for IFSM: Too Many Requests. Rate limited. Try after a while.\n",
      "Error fetching data for MHD: Too Many Requests. Rate limited. Try after a while.\n",
      "Error fetching data for ERA: Too Many Requests. Rate limited. Try after a while.\n",
      "Error fetching data for MRH: Too Many Requests. Rate limited. Try after a while.\n",
      "Error fetching data for ATW: Too Many Requests. Rate limited. Try after a while.\n",
      "Error fetching data for SFUN: Too Many Requests. Rate limited. Try after a while.\n",
      "Error fetching data for FLS: Too Many Requests. Rate limited. Try after a while.\n",
      "Error fetching data for BEAT: Too Many Requests. Rate limited. Try after a while.\n",
      "Error fetching data for GUT-A: Too Many Requests. Rate limited. Try after a while.\n",
      "Error fetching data for VOXX: Too Many Requests. Rate limited. Try after a while.\n",
      "Error fetching data for HFFC: Too Many Requests. Rate limited. Try after a while.\n",
      "Error fetching data for FBNK: Too Many Requests. Rate limited. Try after a while.\n",
      "Error fetching data for GSBC: Too Many Requests. Rate limited. Try after a while.\n",
      "Error fetching data for EMO: Too Many Requests. Rate limited. Try after a while.\n",
      "Error fetching data for MZOR: Too Many Requests. Rate limited. Try after a while.\n",
      "Error fetching data for CBNJ: Too Many Requests. Rate limited. Try after a while.\n",
      "Error fetching data for IMMY: Too Many Requests. Rate limited. Try after a while.\n",
      "Error fetching data for USLM: Too Many Requests. Rate limited. Try after a while.\n",
      "Error fetching data for ETY: Too Many Requests. Rate limited. Try after a while.\n",
      "Error fetching data for CDR-B: Too Many Requests. Rate limited. Try after a while.\n",
      "Error fetching data for AVG: Too Many Requests. Rate limited. Try after a while.\n",
      "Error fetching data for TVC: Too Many Requests. Rate limited. Try after a while.\n",
      "Error fetching data for SNHN: Too Many Requests. Rate limited. Try after a while.\n",
      "Error fetching data for BPY: Too Many Requests. Rate limited. Try after a while.\n",
      "Error fetching data for AFT: Too Many Requests. Rate limited. Try after a while.\n",
      "Error fetching data for RBS-Q: Too Many Requests. Rate limited. Try after a while.\n",
      "Error fetching data for GOOG: Too Many Requests. Rate limited. Try after a while.\n",
      "Error fetching data for GPN: Too Many Requests. Rate limited. Try after a while.\n",
      "Error fetching data for DRD: Too Many Requests. Rate limited. Try after a while.\n",
      "Error fetching data for STT: Too Many Requests. Rate limited. Try after a while.\n",
      "Error fetching data for IVAN: Too Many Requests. Rate limited. Try after a while.\n",
      "Error fetching data for TISA: Too Many Requests. Rate limited. Try after a while.\n",
      "Error fetching data for FFNW: Too Many Requests. Rate limited. Try after a while.\n",
      "Error fetching data for RLOG: Too Many Requests. Rate limited. Try after a while.\n",
      "Error fetching data for ERII: Too Many Requests. Rate limited. Try after a while.\n",
      "Error fetching data for RSO-A: Too Many Requests. Rate limited. Try after a while.\n",
      "Error fetching data for CISG: Too Many Requests. Rate limited. Try after a while.\n",
      "Error fetching data for SFNC: Too Many Requests. Rate limited. Try after a while.\n",
      "Error fetching data for TDC: Too Many Requests. Rate limited. Try after a while.\n",
      "Error fetching data for AON: Too Many Requests. Rate limited. Try after a while.\n",
      "Error fetching data for HTS-A: Too Many Requests. Rate limited. Try after a while.\n",
      "Error fetching data for AEGN: Too Many Requests. Rate limited. Try after a while.\n",
      "Error fetching data for MCR: Too Many Requests. Rate limited. Try after a while.\n",
      "Error fetching data for BSBR: Too Many Requests. Rate limited. Try after a while.\n",
      "Error fetching data for E: Too Many Requests. Rate limited. Try after a while.\n",
      "Error fetching data for EVR: Too Many Requests. Rate limited. Try after a while.\n",
      "Error fetching data for HBA-F: Too Many Requests. Rate limited. Try after a while.\n",
      "Error fetching data for FHCO: Too Many Requests. Rate limited. Try after a while.\n",
      "Error fetching data for RBS-N: Too Many Requests. Rate limited. Try after a while.\n",
      "Error fetching data for MSCC: Too Many Requests. Rate limited. Try after a while.\n",
      "Error fetching data for DNKN: Too Many Requests. Rate limited. Try after a while.\n",
      "Error fetching data for TX: Too Many Requests. Rate limited. Try after a while.\n",
      "Error fetching data for MDP: Too Many Requests. Rate limited. Try after a while.\n",
      "Error fetching data for BSI: Too Many Requests. Rate limited. Try after a while.\n",
      "Error fetching data for OUTR: Too Many Requests. Rate limited. Try after a while.\n",
      "Error fetching data for MTT: Too Many Requests. Rate limited. Try after a while.\n",
      "Error fetching data for TYN: Too Many Requests. Rate limited. Try after a while.\n",
      "Error fetching data for OSIR: Too Many Requests. Rate limited. Try after a while.\n",
      "Error fetching data for FRM: Too Many Requests. Rate limited. Try after a while.\n",
      "Error fetching data for HAV: Too Many Requests. Rate limited. Try after a while.\n",
      "Error fetching data for FFBH: Too Many Requests. Rate limited. Try after a while.\n",
      "Error fetching data for WAYN: Too Many Requests. Rate limited. Try after a while.\n",
      "Error fetching data for FCNCA: Too Many Requests. Rate limited. Try after a while.\n",
      "Error fetching data for AMH: Too Many Requests. Rate limited. Try after a while.\n",
      "Error fetching data for TAOM: Too Many Requests. Rate limited. Try after a while.\n",
      "Error fetching data for VONG: Too Many Requests. Rate limited. Try after a while.\n",
      "Error fetching data for IBM: Too Many Requests. Rate limited. Try after a while.\n",
      "Error fetching data for NAN-C: Too Many Requests. Rate limited. Try after a while.\n",
      "Error fetching data for COF: Too Many Requests. Rate limited. Try after a while.\n",
      "Error fetching data for BMRC: Too Many Requests. Rate limited. Try after a while.\n",
      "Error fetching data for CNYD: Too Many Requests. Rate limited. Try after a while.\n",
      "Error fetching data for XNPT: Too Many Requests. Rate limited. Try after a while.\n",
      "Error fetching data for LPS: Too Many Requests. Rate limited. Try after a while.\n",
      "Error fetching data for UMPQ: Too Many Requests. Rate limited. Try after a while.\n",
      "Error fetching data for FTK: Too Many Requests. Rate limited. Try after a while.\n",
      "Error fetching data for USPH: Too Many Requests. Rate limited. Try after a while.\n",
      "Error fetching data for SA: Too Many Requests. Rate limited. Try after a while.\n",
      "Error fetching data for DIS: Too Many Requests. Rate limited. Try after a while.\n",
      "Error fetching data for LL: Too Many Requests. Rate limited. Try after a while.\n",
      "Error fetching data for RAIL: Too Many Requests. Rate limited. Try after a while.\n",
      "Error fetching data for LTM: Too Many Requests. Rate limited. Try after a while.\n",
      "Error fetching data for ASFI: Too Many Requests. Rate limited. Try after a while.\n",
      "Error fetching data for IDT: Too Many Requests. Rate limited. Try after a while.\n",
      "Error fetching data for HIW: Too Many Requests. Rate limited. Try after a while.\n",
      "Error fetching data for COOL: Too Many Requests. Rate limited. Try after a while.\n"
     ]
    },
    {
     "name": "stderr",
     "output_type": "stream",
     "text": [
      "$ABMD: possibly delisted; no timezone found\n",
      "$PEOP: possibly delisted; no price data found  (1d 2023-12-28 -> 2024-01-27)\n"
     ]
    },
    {
     "name": "stdout",
     "output_type": "stream",
     "text": [
      "Error fetching data for ABMD: No historical data available for ABMD around 2024-01-27.\n",
      "Error fetching data for PEOP: No historical data available for PEOP around 2024-01-27.\n"
     ]
    },
    {
     "name": "stderr",
     "output_type": "stream",
     "text": [
      "$CPE: possibly delisted; no timezone found\n",
      "$SYUT: possibly delisted; no price data found  (1d 2023-12-28 -> 2024-01-27)\n"
     ]
    },
    {
     "name": "stdout",
     "output_type": "stream",
     "text": [
      "Error fetching data for CPE: No historical data available for CPE around 2024-01-27.\n",
      "Error fetching data for SYUT: No historical data available for SYUT around 2024-01-27.\n"
     ]
    },
    {
     "name": "stderr",
     "output_type": "stream",
     "text": [
      "$TI: possibly delisted; no timezone found\n",
      "$RIMG: possibly delisted; no price data found  (1d 2023-12-28 -> 2024-01-27)\n"
     ]
    },
    {
     "name": "stdout",
     "output_type": "stream",
     "text": [
      "Error fetching data for TI: No historical data available for TI around 2024-01-27.\n",
      "Error fetching data for RIMG: No historical data available for RIMG around 2024-01-27.\n"
     ]
    },
    {
     "name": "stderr",
     "output_type": "stream",
     "text": [
      "$CNL: possibly delisted; no price data found  (1d 2023-12-28 -> 2024-01-27) (Yahoo error = \"Data doesn't exist for startDate = 1703739600, endDate = 1706331600\")\n"
     ]
    },
    {
     "name": "stdout",
     "output_type": "stream",
     "text": [
      "Error fetching data for CNL: No historical data available for CNL around 2024-01-27.\n"
     ]
    },
    {
     "name": "stderr",
     "output_type": "stream",
     "text": [
      "$PSA-X: possibly delisted; no timezone found\n"
     ]
    },
    {
     "name": "stdout",
     "output_type": "stream",
     "text": [
      "Error fetching data for PSA-X: No historical data available for PSA-X around 2024-01-27.\n"
     ]
    },
    {
     "name": "stderr",
     "output_type": "stream",
     "text": [
      "$NRF-C: possibly delisted; no timezone found\n"
     ]
    },
    {
     "name": "stdout",
     "output_type": "stream",
     "text": [
      "Error fetching data for NRF-C: No historical data available for NRF-C around 2024-01-27.\n"
     ]
    },
    {
     "name": "stderr",
     "output_type": "stream",
     "text": [
      "$UBA: possibly delisted; no timezone found\n"
     ]
    },
    {
     "name": "stdout",
     "output_type": "stream",
     "text": [
      "Error fetching data for UBA: No historical data available for UBA around 2024-01-27.\n"
     ]
    },
    {
     "name": "stderr",
     "output_type": "stream",
     "text": [
      "$RRD: possibly delisted; no timezone found\n"
     ]
    },
    {
     "name": "stdout",
     "output_type": "stream",
     "text": [
      "Error fetching data for RRD: No historical data available for RRD around 2024-01-27.\n"
     ]
    },
    {
     "name": "stderr",
     "output_type": "stream",
     "text": [
      "$DCUA: possibly delisted; no timezone found\n"
     ]
    },
    {
     "name": "stdout",
     "output_type": "stream",
     "text": [
      "Error fetching data for DCUA: No historical data available for DCUA around 2024-01-27.\n"
     ]
    },
    {
     "name": "stderr",
     "output_type": "stream",
     "text": [
      "$VLYWW: possibly delisted; no timezone found\n",
      "$ARO: possibly delisted; no price data found  (1d 2023-12-28 -> 2024-01-27)\n"
     ]
    },
    {
     "name": "stdout",
     "output_type": "stream",
     "text": [
      "Error fetching data for VLYWW: No historical data available for VLYWW around 2024-01-27.\n",
      "Error fetching data for ARO: No historical data available for ARO around 2024-01-27.\n"
     ]
    },
    {
     "name": "stderr",
     "output_type": "stream",
     "text": [
      "$SCHN: possibly delisted; no timezone found\n",
      "$LBIX: possibly delisted; no price data found  (1d 2023-12-28 -> 2024-01-27)\n",
      "$SCSS: possibly delisted; no price data found  (1d 2023-12-28 -> 2024-01-27)\n"
     ]
    },
    {
     "name": "stdout",
     "output_type": "stream",
     "text": [
      "Error fetching data for SCHN: No historical data available for SCHN around 2024-01-27.\n",
      "Error fetching data for LBIX: No historical data available for LBIX around 2024-01-27.\n",
      "Error fetching data for SCSS: No historical data available for SCSS around 2024-01-27.\n"
     ]
    },
    {
     "name": "stderr",
     "output_type": "stream",
     "text": [
      "$MBIS: possibly delisted; no price data found  (1d 2023-12-28 -> 2024-01-27)\n"
     ]
    },
    {
     "name": "stdout",
     "output_type": "stream",
     "text": [
      "Error fetching data for MBIS: No historical data available for MBIS around 2024-01-27.\n"
     ]
    },
    {
     "name": "stderr",
     "output_type": "stream",
     "text": [
      "$GTIV: possibly delisted; no price data found  (1d 2023-12-28 -> 2024-01-27)\n"
     ]
    },
    {
     "name": "stdout",
     "output_type": "stream",
     "text": [
      "Error fetching data for GTIV: No historical data available for GTIV around 2024-01-27.\n"
     ]
    },
    {
     "name": "stderr",
     "output_type": "stream",
     "text": [
      "$QLIK: possibly delisted; no price data found  (1d 2023-12-28 -> 2024-01-27)\n"
     ]
    },
    {
     "name": "stdout",
     "output_type": "stream",
     "text": [
      "Error fetching data for QLIK: No historical data available for QLIK around 2024-01-27.\n"
     ]
    },
    {
     "data": {
      "text/html": [],
      "text/plain": [
       "<IPython.core.display.HTML object>"
      ]
     },
     "metadata": {},
     "output_type": "display_data"
    },
    {
     "name": "stdout",
     "output_type": "stream",
     "text": [
      "Logged evaluation results to /Users/victor/Documents/GitHub/VS-Code/Side-Projects/TrainedModels/stockScreener/modelEvaluations.csv\n"
     ]
    },
    {
     "data": {
      "image/png": "[encoded data removed]",
      "text/plain": [
       "<Figure size 1200x800 with 2 Axes>"
      ]
     },
     "metadata": {},
     "output_type": "display_data"
    },
    {
     "name": "stdout",
     "output_type": "stream",
     "text": [
      "Collected 200 valid test tickers (target: 200)\n",
      "\n",
      "Evaluation Results:\n",
      "MAE: 0.477\n",
      "RMSE: 0.642\n",
      "R²: -0.616\n"
     ]
    }
   ],
   "source": [
    "def logEvaluation(model_name, mae, rmse, r2, model_folder, test_tickers):\n",
    "    \"\"\"Log evaluation metrics to CSV file\"\"\"\n",
    "    log_file = model_folder / \"modelEvaluations.csv\"\n",
    "    \n",
    "    new_entry_df = pd.DataFrame([{\n",
    "        \"Model Name\": model_name,\n",
    "        \"Timestamp\": datetime.now().strftime('%Y-%m-%d %H:%M'),\n",
    "        \"MAE\": f'{mae:.3f}',\n",
    "        \"RMSE\": f'{rmse:.3f}',\n",
    "        \"R2\": f'{r2:.3f}',\n",
    "        \"Epochs\": epochs,\n",
    "        \"Training Size\": trainingSize,\n",
    "        \"Test Size\": len(test_tickers),\n",
    "        \"Cat Names\": catNames,\n",
    "        \"Cont Names\": contNames,\n",
    "    }])\n",
    "    \n",
    "    try:\n",
    "        log_df = pd.read_csv(log_file)\n",
    "        log_df = pd.concat([log_df, new_entry_df], ignore_index=True)\n",
    "    except FileNotFoundError:\n",
    "        log_df = new_entry_df\n",
    "        \n",
    "    log_df.to_csv(log_file, index=False)\n",
    "    print(f\"Logged evaluation results to {log_file}\")\n",
    "\n",
    "def plotResults(results_df, model_name, model_folder):\n",
    "    \"\"\"Create and save visualization plots using all data points.\"\"\"\n",
    "    plt.figure(figsize=(12, 8))\n",
    "    \n",
    "    plt.subplot(2, 1, 1)\n",
    "    plt.scatter(results_df['Actual'], results_df['Predicted'], alpha=0.7, label='Predictions')\n",
    "    min_val = min(results_df['Actual'].min(), results_df['Predicted'].min())\n",
    "    max_val = max(results_df['Actual'].max(), results_df['Predicted'].max())\n",
    "    plt.plot([min_val, max_val], [min_val, max_val], color='red', linestyle='--', label='Perfect Prediction')\n",
    "    plt.title(f'Predicted vs. Actual Returns - {model_name}', fontsize=14)\n",
    "    plt.xlabel('Actual Returns')\n",
    "    plt.ylabel('Predicted Returns')\n",
    "    plt.legend()\n",
    "    plt.grid(alpha=0.5)\n",
    "    \n",
    "    plt.subplot(2, 1, 2)\n",
    "    plt.scatter(results_df['Predicted'], results_df['Residual'], alpha=0.7)\n",
    "    plt.axhline(y=0, color='r', linestyle='--')\n",
    "    plt.title('Residual Plot')\n",
    "    plt.xlabel('Predicted Returns')\n",
    "    plt.ylabel('Residual')\n",
    "    plt.grid(alpha=0.5)\n",
    "    \n",
    "    plt.tight_layout()\n",
    "    plt.show()\n",
    "\n",
    "def evaluateModel(learn, test_data, model_name, model_folder, cont_names, cat_names):\n",
    "    \"\"\"Evaluate model on pre-collected test data\"\"\"\n",
    "    # Clean data\n",
    "    test_data_clean = test_data.dropna(subset=['EV/EBIT', 'ROIC', 'Future Year Change'])\n",
    "    \n",
    "    if test_data_clean.empty:\n",
    "        raise ValueError(\"No valid test data after cleaning NaN values\")\n",
    "\n",
    "    # Create test dataloader\n",
    "    test_dl = learn.dls.test_dl(test_data_clean)\n",
    "    preds, targs = learn.get_preds(dl=test_dl)\n",
    "    \n",
    "    # Create results DataFrame\n",
    "    results_df = pd.DataFrame({\n",
    "        'Predicted': preds.numpy().flatten(),\n",
    "        'Actual': targs.numpy().flatten()\n",
    "    })\n",
    "    results_df['Residual'] = results_df['Actual'] - results_df['Predicted']\n",
    "\n",
    "    # Calculate metrics\n",
    "    mae = np.mean(np.abs(results_df['Residual']))\n",
    "    rmse = np.sqrt(np.mean(results_df['Residual']**2))\n",
    "    r2 = 1 - (np.sum(results_df['Residual']**2) / np.sum((results_df['Actual'] - results_df['Actual'].mean())**2))\n",
    "\n",
    "    # Log and plot\n",
    "    logEvaluation(model_name, mae, rmse, r2, model_folder, test_data_clean['Ticker'].unique())\n",
    "    plotResults(results_df, model_name, model_folder)\n",
    "    \n",
    "    return mae, rmse, r2\n",
    "\n",
    "if trainNewModel:\n",
    "    nonTrainingTickers = list(set(tickers) - set(trainingTickers))\n",
    "    validTestData = []\n",
    "    attempted_tickers = set()\n",
    "    attempts = 0\n",
    "\n",
    "    if testSize * 4 <= len(tickers):  \n",
    "        max_attempts = testSize * 4 # Prevent infinite loops\n",
    "    else:\n",
    "        max_attempts = len(tickers)\n",
    "\n",
    "    # Keep trying until we reach testSize or exhaust attempts\n",
    "    while len(validTestData) < testSize and attempts < max_attempts:\n",
    "        # Get a new ticker we haven't tried yet\n",
    "        remaining_tickers = [t for t in nonTrainingTickers if t not in attempted_tickers]\n",
    "        if not remaining_tickers:  # If all tried, reset attempted list\n",
    "            attempted_tickers = set()\n",
    "            remaining_tickers = nonTrainingTickers\n",
    "            \n",
    "        ticker = np.random.choice(remaining_tickers)\n",
    "        attempted_tickers.add(ticker)\n",
    "        attempts += 1\n",
    "\n",
    "        # Fetch and validate data\n",
    "        data = getTickerDataFrom1YrAgo(ticker)\n",
    "        if not data.empty and not data[['EV/EBIT', 'ROIC']].isna().any().any():\n",
    "            validTestData.append(data)\n",
    "\n",
    "    if not validTestData:\n",
    "        raise ValueError(\"No valid test data collected after multiple attempts\")\n",
    "        \n",
    "    # Trim to exact testSize if we collected more\n",
    "    validTestData = validTestData[:testSize]  \n",
    "    combinedTestData = pd.concat(validTestData, ignore_index=True)\n",
    "\n",
    "    # Run evaluation\n",
    "    mae, rmse, r2 = evaluateModel(\n",
    "        learn=learn,\n",
    "        test_data=combinedTestData,\n",
    "        model_name=modelName,\n",
    "        model_folder=modelFolder,\n",
    "        cont_names=contNames,\n",
    "        cat_names=catNames\n",
    "    )\n",
    "\n",
    "    # Show collection stats\n",
    "    print(f\"Collected {len(validTestData)} valid test tickers (target: {testSize})\")\n",
    "    if attempts >= max_attempts:\n",
    "        print(f\"Warning: Reached max attempts ({max_attempts}). Some invalid tickers may remain.\")  \n",
    "    print(f\"\\nEvaluation Results:\")\n",
    "    print(f\"MAE: {mae:.3f}\")\n",
    "    print(f\"RMSE: {rmse:.3f}\")\n",
    "    print(f\"R²: {r2:.3f}\")"
   ]
  },
  {
   "cell_type": "markdown",
   "metadata": {},
   "source": [
    "## Tests"
   ]
  },
  {
   "cell_type": "code",
   "execution_count": 306,
   "metadata": {},
   "outputs": [
    {
     "name": "stdout",
     "output_type": "stream",
     "text": [
      "Model files in modelFolder:\n",
      "stockScreenerV1.2.pkl\n",
      "stockScreenerV1.0.pkl\n",
      "stockScreenerV1.1.pkl\n"
     ]
    }
   ],
   "source": [
    "print('Model files in modelFolder:')\n",
    "for file in modelFolder.glob('*.pkl'):\n",
    "    print(file.name)"
   ]
  },
  {
   "cell_type": "code",
   "execution_count": 307,
   "metadata": {},
   "outputs": [
    {
     "data": {
      "text/plain": [
       "Model Name    stockScreenerV1.1\n",
       "Timestamp      2025-01-26 11:53\n",
       "MAE                       0.393\n",
       "RMSE                       0.91\n",
       "R2                       -2.938\n",
       "Name: 1, dtype: object"
      ]
     },
     "execution_count": 307,
     "metadata": {},
     "output_type": "execute_result"
    }
   ],
   "source": [
    "evaluations = pd.read_csv(modelFolder / 'modelEvaluations.csv')\n",
    "bestModel = evaluations.sort_values('MAE', ascending=True).iloc[0]\n",
    "bestModel.head()"
   ]
  },
  {
   "cell_type": "markdown",
   "metadata": {},
   "source": [
    "### Load model"
   ]
  },
  {
   "cell_type": "code",
   "execution_count": 308,
   "metadata": {},
   "outputs": [],
   "source": [
    "if os.name == 'nt':\n",
    "    temp = pathlib.PosixPath\n",
    "    pathlib.PosixPath = pathlib.WindowsPath\n",
    "else:\n",
    "    pathlib.WindowsPath = pathlib.PosixPath\n",
    "\n",
    "importedModel = Path(f\"{bestModel['Model Name']}.pkl\") # Change this if you want to try other models\n",
    "learn = load_learner(modelFolder / importedModel)"
   ]
  },
  {
   "cell_type": "markdown",
   "metadata": {},
   "source": [
    "## Predictions"
   ]
  },
  {
   "cell_type": "code",
   "execution_count": 309,
   "metadata": {},
   "outputs": [
    {
     "data": {
      "text/html": [],
      "text/plain": [
       "<IPython.core.display.HTML object>"
      ]
     },
     "metadata": {},
     "output_type": "display_data"
    },
    {
     "name": "stdout",
     "output_type": "stream",
     "text": [
      "Prediction for NVO (Novo Nordisk A/S):\n",
      "50.54%\n",
      "Free money?!\n"
     ]
    }
   ],
   "source": [
    "if predictionTarget != 'None':\n",
    "    if predictionTarget == 'ALL':\n",
    "        predictionTickers = tickers\n",
    "    elif predictionTarget.endswith('%'):\n",
    "        percentage = float(predictionTarget.strip('%')) / 100\n",
    "        num_tickers = int(len(tickers) * percentage)\n",
    "        predictionTickers = np.random.choice(tickers, size=num_tickers, replace=False).tolist()\n",
    "    else:\n",
    "        predictionTickers = [predictionTarget]\n",
    "\n",
    "    # Fetch data for prediction tickers\n",
    "    dfPrediction = pd.concat([getTickerData(ticker) for ticker in predictionTickers], ignore_index=True)\n",
    "\n",
    "    # Ensure dfPrediction is a DataFrame\n",
    "    if isinstance(dfPrediction, dict):\n",
    "        dfPrediction = pd.DataFrame([dfPrediction])\n",
    "\n",
    "    # Create test dataloader\n",
    "    dl = learn.dls.test_dl(dfPrediction)\n",
    "    dfPrediction.head()\n",
    "\n",
    "    # Make predictions\n",
    "    prediction = learn.get_preds(dl=dl)\n",
    "    adr_df = pd.read_csv(testFolder / 'tickers.csv')\n",
    "    company_dict = dict(zip(adr_df['Ticker'], adr_df['Company']))\n",
    "\n",
    "    if predictionTarget == 'ALL' or predictionTarget.endswith('%'):\n",
    "        sorted_predictions = sorted(zip(predictionTickers, prediction[0]), key=lambda x: x[1], reverse=True)\n",
    "        print(f\"Got predictions for {len(sorted_predictions)} tickers, expected: {len(predictionTickers)}\")\n",
    "        print(f\"Prediction for best performing tickers:\")\n",
    "        for symbol, pred in sorted_predictions:\n",
    "            company_name = company_dict.get(symbol, 'Unknown')\n",
    "            print(f\"{symbol} ({company_name}): {pred[0].item() * 100:.2f}%\")\n",
    "    else:\n",
    "        company_name = company_dict.get(predictionTarget, 'Unknown')\n",
    "        print(f\"Prediction for {predictionTarget} ({company_name}):\")\n",
    "        print(f\"{prediction[0][0][0].item() * 100:.2f}%\")\n",
    "    print(\"Free money?!\")\n",
    "\n",
    "predictionTarget = '1%'"
   ]
  },
  {
   "cell_type": "code",
   "execution_count": null,
   "metadata": {},
   "outputs": [],
   "source": []
  }
 ],
 "metadata": {
  "kernelspec": {
   "display_name": "base",
   "language": "python",
   "name": "python3"
  },
  "language_info": {
   "codemirror_mode": {
    "name": "ipython",
    "version": 3
   },
   "file_extension": ".py",
   "mimetype": "text/x-python",
   "name": "python",
   "nbconvert_exporter": "python",
   "pygments_lexer": "ipython3",
   "version": "3.12.2"
  }
 },
 "nbformat": 4,
 "nbformat_minor": 2
}
