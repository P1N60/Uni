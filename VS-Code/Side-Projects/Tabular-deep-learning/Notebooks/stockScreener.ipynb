{
 "cells": [
  {
   "cell_type": "markdown",
   "metadata": {},
   "source": [
    "## Stock Screener: Model Training and Evaluation"
   ]
  },
  {
   "cell_type": "markdown",
   "metadata": {},
   "source": [
    "### Library Installation (if needed)"
   ]
  },
  {
   "cell_type": "code",
   "execution_count": 16,
   "metadata": {},
   "outputs": [],
   "source": [
    "# Install libraries the first time\n",
    "# ! conda install fastai::fastai conda-forge::yfinance pandas pathlib numpy"
   ]
  },
  {
   "cell_type": "markdown",
   "metadata": {},
   "source": [
    "### Importing Required Libraries"
   ]
  },
  {
   "cell_type": "code",
   "execution_count": 17,
   "metadata": {},
   "outputs": [],
   "source": [
    "from fastai.tabular.all import *\n",
    "from fastai.metrics import rmse, mae\n",
    "from datetime import datetime, timedelta\n",
    "import matplotlib.pyplot as plt\n",
    "import yfinance as yf\n",
    "import pandas as pd\n",
    "import numpy as np\n",
    "import pathlib"
   ]
  },
  {
   "cell_type": "markdown",
   "metadata": {},
   "source": [
    "### Variables"
   ]
  },
  {
   "cell_type": "code",
   "execution_count": 18,
   "metadata": {},
   "outputs": [],
   "source": [
    "# Model settings\n",
    "modelName = 'stockScreenerV1.10'\n",
    "trainingData = 'stockData.csv'\n",
    "getNewData = False \n",
    "trainNewModel = True\n",
    "predictionTarget = 'NVO'  # 'ALL' for all, 'amount%', 'None' for no prediction\n",
    "\n",
    "# Training parameters\n",
    "trainingSize = 2000  # Number of stocks to use for training\n",
    "timeFrame = '10y'   # Options: '1d', '5d', '1mo', '3mo', '6mo', '1y', '2y', '5y', '10y', 'ytd', 'max'\n",
    "yNames = ['Future Year Change']\n",
    "contNames = [\n",
    "    'Open', 'Close', 'Volume', 'Dividends', 'Stock Splits',\n",
    "    'EV/EBIT', 'ROIC']\n",
    "catNames = ['Industry']\n",
    "batchSize = 512\n",
    "epochs = 43\n",
    "\n",
    "# Testing parameters\n",
    "testSize = 500  # Number of stocks to test, 'ALL' for all non-training stocks\n",
    "\n",
    "# Paths\n",
    "basePath = Path.cwd().parent\n",
    "dataFolder = basePath / 'TrainingData'\n",
    "modelFolder = basePath.parent / 'TrainedModels' / 'stockScreener'\n",
    "testFolder = basePath / 'TestData'"
   ]
  },
  {
   "cell_type": "markdown",
   "metadata": {},
   "source": [
    "## Data Preparation"
   ]
  },
  {
   "cell_type": "markdown",
   "metadata": {},
   "source": [
    "#### Functions"
   ]
  },
  {
   "cell_type": "code",
   "execution_count": 19,
   "metadata": {},
   "outputs": [],
   "source": [
    "def calculateFutureYearChange(ticker_symbol, timeframe, buffer=1):\n",
    "    try:\n",
    "        ticker = yf.Ticker(ticker_symbol)\n",
    "        end_date = datetime.now().date()\n",
    "        \n",
    "        # Calculate required date range\n",
    "        if timeframe == 'max':\n",
    "            hist = ticker.history(period='max')\n",
    "        else:\n",
    "            years = int(timeframe[:-1])\n",
    "            start_date = end_date - pd.DateOffset(years=years + buffer)\n",
    "            \n",
    "            # First check if ticker has existed long enough\n",
    "            try:\n",
    "                hist = ticker.history(start=start_date, end=end_date)\n",
    "            except Exception as e:\n",
    "                print(f\"Data unavailable for {ticker_symbol} ({timeframe}): {e}\")\n",
    "                return pd.DataFrame()\n",
    "\n",
    "        if hist.empty:\n",
    "            print(f\"No data found for {ticker_symbol} ({timeframe})\")\n",
    "            return pd.DataFrame()\n",
    "\n",
    "        # Calculate future changes only if we have enough data points\n",
    "        if len(hist) < 300:  # Minimum ~1.5 years of trading days\n",
    "            print(f\"Insufficient data for {ticker_symbol} ({len(hist)} rows)\")\n",
    "            return pd.DataFrame()\n",
    "\n",
    "        # Calculate future price change\n",
    "        hist['Future Year Change'] = (hist['Close'].shift(-252) / hist['Close'] - 1)\n",
    "        hist = hist.dropna(subset=['Future Year Change'])\n",
    "        \n",
    "        return hist[['Open', 'Close', 'Volume', 'Dividends', 'Stock Splits', \n",
    "            'Future Year Change']].reset_index()\n",
    "\n",
    "    except Exception as e:\n",
    "        print(f\"Error processing {ticker_symbol}: {str(e)}\")\n",
    "        return pd.DataFrame()"
   ]
  },
  {
   "cell_type": "code",
   "execution_count": 20,
   "metadata": {},
   "outputs": [],
   "source": [
    "def calculateApproxEBIT(tickerSymbol):\n",
    "    try:\n",
    "        info = yf.Ticker(tickerSymbol).info\n",
    "        revenue = info.get('totalRevenue', None)\n",
    "        operatingIncome = info.get('operatingIncome', None)\n",
    "        ebit = operatingIncome if operatingIncome else (revenue * 0.15 if revenue else None)\n",
    "        return ebit if ebit and ebit != 0 else None  # Avoid zero division\n",
    "    except Exception as e:\n",
    "        return None"
   ]
  },
  {
   "cell_type": "code",
   "execution_count": 21,
   "metadata": {},
   "outputs": [],
   "source": [
    "def enrichDataWithMetrics(histData):\n",
    "    \"\"\"Adds EV/EBIT and ROIC to the historical data.\"\"\"\n",
    "    # Initialize columns with NaN if they don't exist\n",
    "    if 'EV/EBIT' not in histData.columns:\n",
    "        histData['EV/EBIT'] = np.nan\n",
    "    if 'ROIC' not in histData.columns:\n",
    "        histData['ROIC'] = np.nan\n",
    "    \n",
    "    for ticker in histData['Ticker'].unique():\n",
    "        try:\n",
    "            evInfo = yf.Ticker(ticker).info\n",
    "            totalDebt, cash, sharesOutstanding = evInfo.get('totalDebt', 0), evInfo.get('totalCash', 0), evInfo.get('sharesOutstanding', None)\n",
    "            ebit = calculateApproxEBIT(ticker)\n",
    "\n",
    "            if sharesOutstanding and ebit and ebit != 0:\n",
    "                histData.loc[histData['Ticker'] == ticker, 'EV/EBIT'] = (\n",
    "                    (histData['Close'] * sharesOutstanding + totalDebt - cash) / ebit\n",
    "                )\n",
    "\n",
    "                taxRate = 0.21\n",
    "                nopat = ebit * (1 - taxRate)\n",
    "                investedCapital = totalDebt + (histData['Close'] * sharesOutstanding) - cash\n",
    "                histData.loc[histData['Ticker'] == ticker, 'ROIC'] = nopat / investedCapital\n",
    "        except Exception as e:\n",
    "            pass\n",
    "    return histData"
   ]
  },
  {
   "cell_type": "code",
   "execution_count": 22,
   "metadata": {},
   "outputs": [],
   "source": [
    "def getTickerDataFrom1YrAgo(ticker_symbol):\n",
    "    try:\n",
    "        # Fetch ticker data\n",
    "        ticker = yf.Ticker(ticker_symbol)\n",
    "\n",
    "        # Define the date range: one year ago to today\n",
    "        today = datetime.today()\n",
    "        one_year_ago = today - timedelta(days=365)\n",
    "\n",
    "        # Fetch historical data for one year ago\n",
    "        hist = ticker.history(start=(one_year_ago - timedelta(days=30)).strftime('%Y-%m-%d'), \n",
    "                              end=(one_year_ago + timedelta(days=0)).strftime('%Y-%m-%d'))\n",
    "        if hist.empty:\n",
    "            raise ValueError(f\"No historical data available for {ticker_symbol} around {one_year_ago.strftime('%Y-%m-%d')}.\")\n",
    "\n",
    "        # Extract the closest data point to one year ago\n",
    "        row = hist.iloc[0]  # Get the first available entry within the date range\n",
    "\n",
    "        # Price today\n",
    "        price_today = ticker.history(period='1d')['Close'].iloc[-1]\n",
    "\n",
    "        # Calculate future price change (from one year ago to today)\n",
    "        price_change_future = ((price_today - row['Close']) / row['Close']) if row['Close'] else None\n",
    "\n",
    "        # Collect additional data\n",
    "        evInfo = yf.Ticker(ticker_symbol).info\n",
    "        total_debt, cash, shares_outstanding = evInfo.get('totalDebt', 0), evInfo.get('totalCash', 0), evInfo.get('sharesOutstanding', None)\n",
    "        ebit = calculateApproxEBIT(ticker_symbol)\n",
    "        ev = (row['Close'] * shares_outstanding) + total_debt - cash if shares_outstanding else None\n",
    "        ev_ebit = ev / ebit if ebit else None\n",
    "        market_cap = row['Close'] * shares_outstanding if shares_outstanding else None\n",
    "        tax_rate = 0.21\n",
    "        nopat = ebit * (1 - tax_rate) if ebit else None\n",
    "        invested_capital = total_debt + market_cap - cash if market_cap and total_debt and cash else None\n",
    "        roic = nopat / invested_capital if nopat and invested_capital else None\n",
    "        industry = yf.Ticker(ticker_symbol).info.get('industry', 'Unknown')\n",
    "\n",
    "        # Return as a DataFrame\n",
    "        return pd.DataFrame([{\n",
    "            'Ticker': ticker_symbol,\n",
    "            'Date': row.name,\n",
    "            'Open': row['Open'],\n",
    "            'High': row['High'],\n",
    "            'Low': row['Low'],\n",
    "            'Close': row['Close'],\n",
    "            'Volume': row['Volume'],\n",
    "            'Dividends': row.get('Dividends', 0.0),\n",
    "            'Stock Splits': row.get('Stock Splits', 0.0),\n",
    "            'Future Year Change': price_change_future,\n",
    "            'Industry': industry,\n",
    "            'EV/EBIT': ev_ebit,\n",
    "            'ROIC': roic\n",
    "        }])\n",
    "\n",
    "    except Exception as e:\n",
    "        print(f\"Error fetching data for {ticker_symbol}: {e}\")\n",
    "        return pd.DataFrame()"
   ]
  },
  {
   "cell_type": "code",
   "execution_count": 23,
   "metadata": {},
   "outputs": [],
   "source": [
    "def getTickerData(ticker_symbol):\n",
    "    try:\n",
    "        ticker = yf.Ticker(ticker_symbol)\n",
    "        hist = ticker.history(period='1d')\n",
    "        evInfo = ticker.info\n",
    "        total_debt, cash, shares_outstanding = evInfo.get('totalDebt', 0), evInfo.get('totalCash', 0), evInfo.get('sharesOutstanding', None)\n",
    "        ebit = calculateApproxEBIT(ticker_symbol)\n",
    "        ev = (hist['Close'].iloc[-1] * shares_outstanding) + total_debt - cash\n",
    "        ev_ebit = ev / ebit if ebit else None\n",
    "        market_cap = hist['Close'].iloc[-1] * shares_outstanding\n",
    "        tax_rate = 0.21\n",
    "        nopat = ebit * (1 - tax_rate) if ebit else None\n",
    "        invested_capital = total_debt + market_cap - cash\n",
    "        roic = nopat / invested_capital if nopat and invested_capital else None\n",
    "        industry = yf.Ticker(ticker_symbol).info.get('industry', 'Unknown')\n",
    "        \n",
    "        # Add the 'Date' column\n",
    "        date = datetime.now().strftime('%Y-%m-%d')\n",
    "\n",
    "        return pd.DataFrame([{\n",
    "            'Date': date,\n",
    "            'Open': hist['Open'].iloc[-1],\n",
    "            'High': hist['High'].iloc[-1],\n",
    "            'Low': hist['Low'].iloc[-1],\n",
    "            'Close': hist['Close'].iloc[-1],\n",
    "            'Volume': hist['Volume'].iloc[-1],\n",
    "            'Dividends': hist.get('Dividends', pd.Series([0.0])).iloc[-1],\n",
    "            'Stock Splits': hist.get('Stock Splits', pd.Series([0.0])).iloc[-1],\n",
    "            'EV/EBIT': ev_ebit,\n",
    "            'Market Cap': market_cap,\n",
    "            'ROIC': roic,\n",
    "            'Industry': industry\n",
    "        }])\n",
    "    except Exception:\n",
    "        return pd.DataFrame()"
   ]
  },
  {
   "cell_type": "markdown",
   "metadata": {},
   "source": [
    "#### Download and Process Historical Data"
   ]
  },
  {
   "cell_type": "code",
   "execution_count": 24,
   "metadata": {},
   "outputs": [],
   "source": [
    "tickers = pd.read_csv(testFolder / 'tickers.csv')['Ticker']\n",
    "trainingTickers = np.random.choice(tickers, size=trainingSize, replace=False)\n",
    "\n",
    "if getNewData:\n",
    "    histData = pd.DataFrame()\n",
    "    valid_tickers = []\n",
    "    \n",
    "    for ticker in trainingTickers:\n",
    "        print(f\"Processing {ticker}...\")\n",
    "        data = calculateFutureYearChange(ticker, timeFrame)\n",
    "        if not data.empty:\n",
    "            data['Ticker'] = ticker\n",
    "            data['Industry'] = yf.Ticker(ticker).info.get('industry', 'Unknown')\n",
    "            data['Date'] = pd.to_datetime(data['Date']).dt.tz_localize(None)\n",
    "            \n",
    "            # Enrich individual ticker data first\n",
    "            ticker_data = enrichDataWithMetrics(data)\n",
    "            histData = pd.concat([histData, ticker_data])\n",
    "            \n",
    "            # Check if metrics were added\n",
    "            if 'ROIC' not in ticker_data.columns:\n",
    "                print(f\"WARNING: Failed to add metrics for {ticker}\")\n",
    "            \n",
    "            valid_tickers.append(ticker)\n",
    "        else:\n",
    "            print(f\"Skipped {ticker} - insufficient data\")\n",
    "\n",
    "    print(f\"\\nColumns in final dataset: {histData.columns.tolist()}\")\n",
    "    \n",
    "    if not histData.empty:\n",
    "        histData = enrichDataWithMetrics(histData)\n",
    "        histData.to_csv(dataFolder / trainingData, index=True)\n",
    "        # Verify no future targets leaked to past dates\n",
    "        latest_date = pd.to_datetime(histData['Date']).max()\n",
    "        if 'Future Year Change' in histData.columns:\n",
    "            target_dates = histData[histData['Future Year Change'].notnull()]['Date']\n",
    "            if any(pd.to_datetime(target_dates) > latest_date):\n",
    "                raise ValueError(\"CRITICAL: Analyst targets contain future dates!\")\n",
    "        print(f\"Saved training data with {len(histData)} rows\")\n",
    "    else:\n",
    "        print(\"Warning: No data collected - check your tickers list\")"
   ]
  },
  {
   "cell_type": "markdown",
   "metadata": {},
   "source": [
    "## Model Training"
   ]
  },
  {
   "cell_type": "code",
   "execution_count": 25,
   "metadata": {},
   "outputs": [],
   "source": [
    "if trainNewModel:\n",
    "    TRAINING_CUTOFF = pd.to_datetime('2023-01-01')\n",
    "\n",
    "    df = pd.read_csv(dataFolder / trainingData)\n",
    "    dfCleaned = df.dropna(subset=['EV/EBIT', 'ROIC']).copy()\n",
    "\n",
    "    # Convert 'Date' to datetime, parse UTC-aware dates, then make naive\n",
    "    dfCleaned['Date'] = pd.to_datetime(dfCleaned['Date'], errors='coerce', utc=True).dt.tz_convert(None)\n",
    "    dfCleaned = dfCleaned.dropna(subset=['Date'])\n",
    "\n",
    "    # Clean 'EV/EBIT' and reset index\n",
    "    dfCleaned['EV/EBIT'] = dfCleaned['EV/EBIT'].replace([np.inf, -np.inf], np.nan)\n",
    "    dfCleaned = dfCleaned.dropna(subset=['EV/EBIT', 'ROIC'])\n",
    "    dfCleaned = dfCleaned.reset_index(drop=True)\n",
    "    dfCleaned.to_csv(dataFolder / trainingData, index=False)\n",
    "\n",
    "    # Check for empty data\n",
    "    if dfCleaned.empty:\n",
    "        raise ValueError(\"The cleaned DataFrame is empty.\")\n",
    "\n",
    "    # Create splits with valid indices\n",
    "    train_mask = dfCleaned['Date'] < TRAINING_CUTOFF\n",
    "    valid_mask = ~train_mask\n",
    "    splits = (list(dfCleaned[train_mask].index), list(dfCleaned[valid_mask].index))\n",
    "\n",
    "    if not splits[0] or not splits[1]:\n",
    "        raise ValueError(\"Empty training or validation split.\")\n",
    "\n",
    "    # Proceed with TabularPandas\n",
    "    to = TabularPandas(\n",
    "        dfCleaned, \n",
    "        procs=[Categorify, FillMissing, Normalize],\n",
    "        y_names=yNames,\n",
    "        cat_names=catNames, \n",
    "        cont_names=contNames,\n",
    "        splits=splits\n",
    "    )\n",
    "\n",
    "    dls = to.dataloaders(bs=batchSize)"
   ]
  },
  {
   "cell_type": "code",
   "execution_count": 26,
   "metadata": {},
   "outputs": [
    {
     "data": {
      "text/html": [
       "\n",
       "<style>\n",
       "    /* Turns off some styling */\n",
       "    progress {\n",
       "        /* gets rid of default border in Firefox and Opera. */\n",
       "        border: none;\n",
       "        /* Needs to be in here for Safari polyfill so background images work as expected. */\n",
       "        background-size: auto;\n",
       "    }\n",
       "    progress:not([value]), progress:not([value])::-webkit-progress-bar {\n",
       "        background: repeating-linear-gradient(45deg, #7e7e7e, #7e7e7e 10px, #5c5c5c 10px, #5c5c5c 20px);\n",
       "    }\n",
       "    .progress-bar-interrupted, .progress-bar-interrupted::-webkit-progress-bar {\n",
       "        background: #F44336;\n",
       "    }\n",
       "</style>\n"
      ],
      "text/plain": [
       "<IPython.core.display.HTML object>"
      ]
     },
     "metadata": {},
     "output_type": "display_data"
    },
    {
     "data": {
      "text/html": [],
      "text/plain": [
       "<IPython.core.display.HTML object>"
      ]
     },
     "metadata": {},
     "output_type": "display_data"
    },
    {
     "name": "stdout",
     "output_type": "stream",
     "text": [
      "Learning rate finder results: lr_min=6.309573450380412e-08, lr_steep=1.0964781722577754e-06\n",
      "Training for 43 epochs...\n"
     ]
    },
    {
     "name": "stderr",
     "output_type": "stream",
     "text": [
      "c:\\Users\\Gamer\\miniconda3\\Lib\\site-packages\\fastai\\learner.py:53: FutureWarning: You are using `torch.load` with `weights_only=False` (the current default value), which uses the default pickle module implicitly. It is possible to construct malicious pickle data which will execute arbitrary code during unpickling (See https://github.com/pytorch/pytorch/blob/main/SECURITY.md#untrusted-models for more details). In a future release, the default value for `weights_only` will be flipped to `True`. This limits the functions that could be executed during unpickling. Arbitrary objects will no longer be allowed to be loaded via this mode unless they are explicitly allowlisted by the user via `torch.serialization.add_safe_globals`. We recommend you start setting `weights_only=True` for any use case where you don't have full control of the loaded file. Please open an issue on GitHub for any issues related to this experimental feature.\n",
      "  state = torch.load(file, map_location=device, **torch_load_kwargs)\n"
     ]
    },
    {
     "data": {
      "text/html": [
       "\n",
       "<style>\n",
       "    /* Turns off some styling */\n",
       "    progress {\n",
       "        /* gets rid of default border in Firefox and Opera. */\n",
       "        border: none;\n",
       "        /* Needs to be in here for Safari polyfill so background images work as expected. */\n",
       "        background-size: auto;\n",
       "    }\n",
       "    progress:not([value]), progress:not([value])::-webkit-progress-bar {\n",
       "        background: repeating-linear-gradient(45deg, #7e7e7e, #7e7e7e 10px, #5c5c5c 10px, #5c5c5c 20px);\n",
       "    }\n",
       "    .progress-bar-interrupted, .progress-bar-interrupted::-webkit-progress-bar {\n",
       "        background: #F44336;\n",
       "    }\n",
       "</style>\n"
      ],
      "text/plain": [
       "<IPython.core.display.HTML object>"
      ]
     },
     "metadata": {},
     "output_type": "display_data"
    },
    {
     "data": {
      "text/html": [
       "<table border=\"1\" class=\"dataframe\">\n",
       "  <thead>\n",
       "    <tr style=\"text-align: left;\">\n",
       "      <th>epoch</th>\n",
       "      <th>train_loss</th>\n",
       "      <th>valid_loss</th>\n",
       "      <th>_rmse</th>\n",
       "      <th>mae</th>\n",
       "      <th>time</th>\n",
       "    </tr>\n",
       "  </thead>\n",
       "  <tbody>\n",
       "    <tr>\n",
       "      <td>0</td>\n",
       "      <td>0.679205</td>\n",
       "      <td>2.523465</td>\n",
       "      <td>1.588542</td>\n",
       "      <td>0.421414</td>\n",
       "      <td>00:20</td>\n",
       "    </tr>\n",
       "    <tr>\n",
       "      <td>1</td>\n",
       "      <td>0.558505</td>\n",
       "      <td>4.473831</td>\n",
       "      <td>2.115143</td>\n",
       "      <td>0.406862</td>\n",
       "      <td>00:20</td>\n",
       "    </tr>\n",
       "    <tr>\n",
       "      <td>2</td>\n",
       "      <td>1.226950</td>\n",
       "      <td>1.389668</td>\n",
       "      <td>1.178841</td>\n",
       "      <td>0.433994</td>\n",
       "      <td>00:19</td>\n",
       "    </tr>\n",
       "    <tr>\n",
       "      <td>3</td>\n",
       "      <td>0.746505</td>\n",
       "      <td>1.255518</td>\n",
       "      <td>1.120499</td>\n",
       "      <td>0.406283</td>\n",
       "      <td>00:19</td>\n",
       "    </tr>\n",
       "    <tr>\n",
       "      <td>4</td>\n",
       "      <td>0.561822</td>\n",
       "      <td>1.137891</td>\n",
       "      <td>1.066719</td>\n",
       "      <td>0.401180</td>\n",
       "      <td>00:20</td>\n",
       "    </tr>\n",
       "    <tr>\n",
       "      <td>5</td>\n",
       "      <td>0.698328</td>\n",
       "      <td>1.114841</td>\n",
       "      <td>1.055860</td>\n",
       "      <td>0.383746</td>\n",
       "      <td>00:19</td>\n",
       "    </tr>\n",
       "    <tr>\n",
       "      <td>6</td>\n",
       "      <td>1.146562</td>\n",
       "      <td>1.293938</td>\n",
       "      <td>1.137514</td>\n",
       "      <td>0.428856</td>\n",
       "      <td>00:19</td>\n",
       "    </tr>\n",
       "    <tr>\n",
       "      <td>7</td>\n",
       "      <td>0.811267</td>\n",
       "      <td>2.441720</td>\n",
       "      <td>1.562600</td>\n",
       "      <td>0.419620</td>\n",
       "      <td>00:19</td>\n",
       "    </tr>\n",
       "    <tr>\n",
       "      <td>8</td>\n",
       "      <td>0.517364</td>\n",
       "      <td>1.379334</td>\n",
       "      <td>1.174450</td>\n",
       "      <td>0.387725</td>\n",
       "      <td>00:19</td>\n",
       "    </tr>\n",
       "    <tr>\n",
       "      <td>9</td>\n",
       "      <td>0.893550</td>\n",
       "      <td>1.136368</td>\n",
       "      <td>1.066006</td>\n",
       "      <td>0.399932</td>\n",
       "      <td>00:19</td>\n",
       "    </tr>\n",
       "    <tr>\n",
       "      <td>10</td>\n",
       "      <td>0.808533</td>\n",
       "      <td>1.107942</td>\n",
       "      <td>1.052588</td>\n",
       "      <td>0.374908</td>\n",
       "      <td>00:19</td>\n",
       "    </tr>\n",
       "    <tr>\n",
       "      <td>11</td>\n",
       "      <td>0.778530</td>\n",
       "      <td>1.385229</td>\n",
       "      <td>1.176957</td>\n",
       "      <td>0.363525</td>\n",
       "      <td>00:19</td>\n",
       "    </tr>\n",
       "    <tr>\n",
       "      <td>12</td>\n",
       "      <td>0.652301</td>\n",
       "      <td>1.114342</td>\n",
       "      <td>1.055624</td>\n",
       "      <td>0.383086</td>\n",
       "      <td>00:19</td>\n",
       "    </tr>\n",
       "    <tr>\n",
       "      <td>13</td>\n",
       "      <td>0.628035</td>\n",
       "      <td>1.101323</td>\n",
       "      <td>1.049439</td>\n",
       "      <td>0.372754</td>\n",
       "      <td>00:19</td>\n",
       "    </tr>\n",
       "    <tr>\n",
       "      <td>14</td>\n",
       "      <td>7.173251</td>\n",
       "      <td>1.116670</td>\n",
       "      <td>1.056726</td>\n",
       "      <td>0.355867</td>\n",
       "      <td>00:20</td>\n",
       "    </tr>\n",
       "    <tr>\n",
       "      <td>15</td>\n",
       "      <td>12.446607</td>\n",
       "      <td>1.308566</td>\n",
       "      <td>1.143926</td>\n",
       "      <td>0.355915</td>\n",
       "      <td>00:19</td>\n",
       "    </tr>\n",
       "    <tr>\n",
       "      <td>16</td>\n",
       "      <td>0.701959</td>\n",
       "      <td>1.120485</td>\n",
       "      <td>1.058529</td>\n",
       "      <td>0.360439</td>\n",
       "      <td>00:19</td>\n",
       "    </tr>\n",
       "    <tr>\n",
       "      <td>17</td>\n",
       "      <td>0.540751</td>\n",
       "      <td>1.317042</td>\n",
       "      <td>1.147624</td>\n",
       "      <td>0.370677</td>\n",
       "      <td>00:20</td>\n",
       "    </tr>\n",
       "    <tr>\n",
       "      <td>18</td>\n",
       "      <td>0.473664</td>\n",
       "      <td>1.188254</td>\n",
       "      <td>1.090071</td>\n",
       "      <td>0.360252</td>\n",
       "      <td>00:19</td>\n",
       "    </tr>\n",
       "    <tr>\n",
       "      <td>19</td>\n",
       "      <td>0.845609</td>\n",
       "      <td>1.145494</td>\n",
       "      <td>1.070277</td>\n",
       "      <td>0.369705</td>\n",
       "      <td>00:19</td>\n",
       "    </tr>\n",
       "    <tr>\n",
       "      <td>20</td>\n",
       "      <td>0.688425</td>\n",
       "      <td>1.104254</td>\n",
       "      <td>1.050835</td>\n",
       "      <td>0.374341</td>\n",
       "      <td>00:20</td>\n",
       "    </tr>\n",
       "    <tr>\n",
       "      <td>21</td>\n",
       "      <td>0.500644</td>\n",
       "      <td>1.063905</td>\n",
       "      <td>1.031458</td>\n",
       "      <td>0.345515</td>\n",
       "      <td>00:19</td>\n",
       "    </tr>\n",
       "    <tr>\n",
       "      <td>22</td>\n",
       "      <td>0.660945</td>\n",
       "      <td>1.119705</td>\n",
       "      <td>1.058161</td>\n",
       "      <td>0.370921</td>\n",
       "      <td>00:19</td>\n",
       "    </tr>\n",
       "    <tr>\n",
       "      <td>23</td>\n",
       "      <td>0.642597</td>\n",
       "      <td>1.076566</td>\n",
       "      <td>1.037577</td>\n",
       "      <td>0.349678</td>\n",
       "      <td>00:19</td>\n",
       "    </tr>\n",
       "    <tr>\n",
       "      <td>24</td>\n",
       "      <td>0.538092</td>\n",
       "      <td>1.197128</td>\n",
       "      <td>1.094134</td>\n",
       "      <td>0.352104</td>\n",
       "      <td>00:19</td>\n",
       "    </tr>\n",
       "    <tr>\n",
       "      <td>25</td>\n",
       "      <td>0.639203</td>\n",
       "      <td>1.067111</td>\n",
       "      <td>1.033011</td>\n",
       "      <td>0.346997</td>\n",
       "      <td>00:19</td>\n",
       "    </tr>\n",
       "    <tr>\n",
       "      <td>26</td>\n",
       "      <td>0.744666</td>\n",
       "      <td>1.144539</td>\n",
       "      <td>1.069832</td>\n",
       "      <td>0.364692</td>\n",
       "      <td>00:19</td>\n",
       "    </tr>\n",
       "    <tr>\n",
       "      <td>27</td>\n",
       "      <td>2.646630</td>\n",
       "      <td>1.761921</td>\n",
       "      <td>1.327374</td>\n",
       "      <td>0.355587</td>\n",
       "      <td>00:19</td>\n",
       "    </tr>\n",
       "    <tr>\n",
       "      <td>28</td>\n",
       "      <td>0.568176</td>\n",
       "      <td>1.080293</td>\n",
       "      <td>1.039371</td>\n",
       "      <td>0.356477</td>\n",
       "      <td>00:19</td>\n",
       "    </tr>\n",
       "    <tr>\n",
       "      <td>29</td>\n",
       "      <td>0.622241</td>\n",
       "      <td>1.140473</td>\n",
       "      <td>1.067930</td>\n",
       "      <td>0.349452</td>\n",
       "      <td>00:19</td>\n",
       "    </tr>\n",
       "    <tr>\n",
       "      <td>30</td>\n",
       "      <td>0.540549</td>\n",
       "      <td>1.126517</td>\n",
       "      <td>1.061375</td>\n",
       "      <td>0.366826</td>\n",
       "      <td>00:19</td>\n",
       "    </tr>\n",
       "    <tr>\n",
       "      <td>31</td>\n",
       "      <td>0.719701</td>\n",
       "      <td>1.085084</td>\n",
       "      <td>1.041674</td>\n",
       "      <td>0.357787</td>\n",
       "      <td>00:19</td>\n",
       "    </tr>\n",
       "    <tr>\n",
       "      <td>32</td>\n",
       "      <td>0.517541</td>\n",
       "      <td>1.124354</td>\n",
       "      <td>1.060356</td>\n",
       "      <td>0.348910</td>\n",
       "      <td>00:19</td>\n",
       "    </tr>\n",
       "    <tr>\n",
       "      <td>33</td>\n",
       "      <td>0.743130</td>\n",
       "      <td>1.076190</td>\n",
       "      <td>1.037396</td>\n",
       "      <td>0.347723</td>\n",
       "      <td>00:19</td>\n",
       "    </tr>\n",
       "    <tr>\n",
       "      <td>34</td>\n",
       "      <td>0.829479</td>\n",
       "      <td>1.101308</td>\n",
       "      <td>1.049432</td>\n",
       "      <td>0.347358</td>\n",
       "      <td>00:19</td>\n",
       "    </tr>\n",
       "    <tr>\n",
       "      <td>35</td>\n",
       "      <td>0.605169</td>\n",
       "      <td>1.591450</td>\n",
       "      <td>1.261527</td>\n",
       "      <td>0.357766</td>\n",
       "      <td>00:19</td>\n",
       "    </tr>\n",
       "    <tr>\n",
       "      <td>36</td>\n",
       "      <td>0.606898</td>\n",
       "      <td>1.164102</td>\n",
       "      <td>1.078936</td>\n",
       "      <td>0.350177</td>\n",
       "      <td>00:19</td>\n",
       "    </tr>\n",
       "    <tr>\n",
       "      <td>37</td>\n",
       "      <td>0.961537</td>\n",
       "      <td>1.656028</td>\n",
       "      <td>1.286867</td>\n",
       "      <td>0.357498</td>\n",
       "      <td>00:19</td>\n",
       "    </tr>\n",
       "    <tr>\n",
       "      <td>38</td>\n",
       "      <td>0.474313</td>\n",
       "      <td>1.340317</td>\n",
       "      <td>1.157720</td>\n",
       "      <td>0.361792</td>\n",
       "      <td>00:19</td>\n",
       "    </tr>\n",
       "    <tr>\n",
       "      <td>39</td>\n",
       "      <td>0.808101</td>\n",
       "      <td>1.073016</td>\n",
       "      <td>1.035864</td>\n",
       "      <td>0.347858</td>\n",
       "      <td>00:20</td>\n",
       "    </tr>\n",
       "    <tr>\n",
       "      <td>40</td>\n",
       "      <td>0.742427</td>\n",
       "      <td>1.086995</td>\n",
       "      <td>1.042591</td>\n",
       "      <td>0.358743</td>\n",
       "      <td>00:19</td>\n",
       "    </tr>\n",
       "    <tr>\n",
       "      <td>41</td>\n",
       "      <td>0.806118</td>\n",
       "      <td>1.091706</td>\n",
       "      <td>1.044847</td>\n",
       "      <td>0.351670</td>\n",
       "      <td>00:19</td>\n",
       "    </tr>\n",
       "    <tr>\n",
       "      <td>42</td>\n",
       "      <td>0.765071</td>\n",
       "      <td>1.328538</td>\n",
       "      <td>1.152622</td>\n",
       "      <td>0.367431</td>\n",
       "      <td>00:19</td>\n",
       "    </tr>\n",
       "  </tbody>\n",
       "</table>"
      ],
      "text/plain": [
       "<IPython.core.display.HTML object>"
      ]
     },
     "metadata": {},
     "output_type": "display_data"
    },
    {
     "name": "stdout",
     "output_type": "stream",
     "text": [
      "Model training complete\n"
     ]
    },
    {
     "data": {
      "image/png": "[encoded data removed]",
      "text/plain": [
       "<Figure size 640x480 with 1 Axes>"
      ]
     },
     "metadata": {},
     "output_type": "display_data"
    }
   ],
   "source": [
    "if trainNewModel:\n",
    "    learn = tabular_learner(dls, metrics=[rmse, mae])\n",
    "\n",
    "    # Learning rate finder\n",
    "    lr_min, lr_steep = learn.lr_find(suggest_funcs=(minimum, steep))\n",
    "\n",
    "    # Debugging information\n",
    "    print(f\"Learning rate finder results: lr_min={lr_min}, lr_steep={lr_steep}\")\n",
    "\n",
    "    # Check if learning rates are valid\n",
    "    if lr_min is None or lr_steep is None:\n",
    "        raise ValueError(\"Learning rate finder did not return valid learning rates.\")\n",
    "\n",
    "    # Train\n",
    "    print(f\"Training for {epochs} epochs...\")\n",
    "    learn.fit_one_cycle(epochs, lr_max=lr_steep)\n",
    "    print(\"Model training complete\")\n",
    "\n",
    "    learn.export(modelFolder / f'{modelName}.pkl')"
   ]
  },
  {
   "cell_type": "markdown",
   "metadata": {},
   "source": [
    "## Testing and benchmarking"
   ]
  },
  {
   "cell_type": "code",
   "execution_count": 27,
   "metadata": {},
   "outputs": [
    {
     "name": "stderr",
     "output_type": "stream",
     "text": [
      "$USTR: possibly delisted; no price data found  (1d 2023-12-29 -> 2024-01-28)\n",
      "$RUK: possibly delisted; no price data found  (1d 2023-12-29 -> 2024-01-28)\n"
     ]
    },
    {
     "name": "stdout",
     "output_type": "stream",
     "text": [
      "Error fetching data for USTR: No historical data available for USTR around 2024-01-28.\n",
      "Error fetching data for RUK: No historical data available for RUK around 2024-01-28.\n"
     ]
    },
    {
     "name": "stderr",
     "output_type": "stream",
     "text": [
      "$FRC: possibly delisted; no timezone found\n"
     ]
    },
    {
     "name": "stdout",
     "output_type": "stream",
     "text": [
      "Error fetching data for FRC: No historical data available for FRC around 2024-01-28.\n"
     ]
    },
    {
     "name": "stderr",
     "output_type": "stream",
     "text": [
      "$GOV: possibly delisted; no price data found  (1d 2023-12-29 -> 2024-01-28)\n"
     ]
    },
    {
     "name": "stdout",
     "output_type": "stream",
     "text": [
      "Error fetching data for GOV: No historical data available for GOV around 2024-01-28.\n"
     ]
    },
    {
     "name": "stderr",
     "output_type": "stream",
     "text": [
      "$INXB: possibly delisted; no timezone found\n"
     ]
    },
    {
     "name": "stdout",
     "output_type": "stream",
     "text": [
      "Error fetching data for INXB: No historical data available for INXB around 2024-01-28.\n"
     ]
    },
    {
     "name": "stderr",
     "output_type": "stream",
     "text": [
      "$SFI: possibly delisted; no price data found  (1d 2023-12-29 -> 2024-01-28)\n"
     ]
    },
    {
     "name": "stdout",
     "output_type": "stream",
     "text": [
      "Error fetching data for SFI: No historical data available for SFI around 2024-01-28.\n"
     ]
    },
    {
     "name": "stderr",
     "output_type": "stream",
     "text": [
      "$JRJC: possibly delisted; no timezone found\n",
      "$ENL: possibly delisted; no price data found  (1d 2023-12-29 -> 2024-01-28)\n"
     ]
    },
    {
     "name": "stdout",
     "output_type": "stream",
     "text": [
      "Error fetching data for JRJC: No historical data available for JRJC around 2024-01-28.\n",
      "Error fetching data for ENL: No historical data available for ENL around 2024-01-28.\n"
     ]
    },
    {
     "name": "stderr",
     "output_type": "stream",
     "text": [
      "$GENT: possibly delisted; no price data found  (1d 2023-12-29 -> 2024-01-28) (Yahoo error = \"Data doesn't exist for startDate = 1703826000, endDate = 1706418000\")\n",
      "$FFCO: possibly delisted; no price data found  (1d 2023-12-29 -> 2024-01-28)\n",
      "$RSTI: possibly delisted; no price data found  (1d 2023-12-29 -> 2024-01-28)\n"
     ]
    },
    {
     "name": "stdout",
     "output_type": "stream",
     "text": [
      "Error fetching data for GENT: No historical data available for GENT around 2024-01-28.\n",
      "Error fetching data for FFCO: No historical data available for FFCO around 2024-01-28.\n",
      "Error fetching data for RSTI: No historical data available for RSTI around 2024-01-28.\n"
     ]
    },
    {
     "name": "stderr",
     "output_type": "stream",
     "text": [
      "$KTP: possibly delisted; no timezone found\n",
      "$STCK: possibly delisted; no price data found  (1d 2023-12-29 -> 2024-01-28)\n"
     ]
    },
    {
     "name": "stdout",
     "output_type": "stream",
     "text": [
      "Error fetching data for KTP: No historical data available for KTP around 2024-01-28.\n",
      "Error fetching data for STCK: No historical data available for STCK around 2024-01-28.\n"
     ]
    },
    {
     "name": "stderr",
     "output_type": "stream",
     "text": [
      "$LXP-C: possibly delisted; no timezone found\n"
     ]
    },
    {
     "name": "stdout",
     "output_type": "stream",
     "text": [
      "Error fetching data for LXP-C: No historical data available for LXP-C around 2024-01-28.\n"
     ]
    },
    {
     "name": "stderr",
     "output_type": "stream",
     "text": [
      "$IRET: possibly delisted; no price data found  (1d 2023-12-29 -> 2024-01-28) (Yahoo error = \"Data doesn't exist for startDate = 1703826000, endDate = 1706418000\")\n"
     ]
    },
    {
     "name": "stdout",
     "output_type": "stream",
     "text": [
      "Error fetching data for IRET: No historical data available for IRET around 2024-01-28.\n"
     ]
    },
    {
     "name": "stderr",
     "output_type": "stream",
     "text": [
      "$UBSH: possibly delisted; no timezone found\n"
     ]
    },
    {
     "name": "stdout",
     "output_type": "stream",
     "text": [
      "Error fetching data for UBSH: No historical data available for UBSH around 2024-01-28.\n"
     ]
    },
    {
     "name": "stderr",
     "output_type": "stream",
     "text": [
      "$FALC: possibly delisted; no price data found  (period=1d)\n"
     ]
    },
    {
     "name": "stdout",
     "output_type": "stream",
     "text": [
      "Error fetching data for FALC: single positional indexer is out-of-bounds\n"
     ]
    },
    {
     "name": "stderr",
     "output_type": "stream",
     "text": [
      "$EGN: possibly delisted; no price data found  (1d 2023-12-29 -> 2024-01-28)\n",
      "$TLM: possibly delisted; no price data found  (1d 2023-12-29 -> 2024-01-28)\n"
     ]
    },
    {
     "name": "stdout",
     "output_type": "stream",
     "text": [
      "Error fetching data for EGN: No historical data available for EGN around 2024-01-28.\n",
      "Error fetching data for TLM: No historical data available for TLM around 2024-01-28.\n"
     ]
    },
    {
     "name": "stderr",
     "output_type": "stream",
     "text": [
      "$ELGX: possibly delisted; no timezone found\n"
     ]
    },
    {
     "name": "stdout",
     "output_type": "stream",
     "text": [
      "Error fetching data for ELGX: No historical data available for ELGX around 2024-01-28.\n"
     ]
    },
    {
     "name": "stderr",
     "output_type": "stream",
     "text": [
      "$JMBA: possibly delisted; no price data found  (1d 2023-12-29 -> 2024-01-28)\n"
     ]
    },
    {
     "name": "stdout",
     "output_type": "stream",
     "text": [
      "Error fetching data for JMBA: No historical data available for JMBA around 2024-01-28.\n"
     ]
    },
    {
     "name": "stderr",
     "output_type": "stream",
     "text": [
      "$HMSY: possibly delisted; no timezone found\n"
     ]
    },
    {
     "name": "stdout",
     "output_type": "stream",
     "text": [
      "Error fetching data for HMSY: No historical data available for HMSY around 2024-01-28.\n"
     ]
    },
    {
     "name": "stderr",
     "output_type": "stream",
     "text": [
      "$SCTY: possibly delisted; no timezone found\n"
     ]
    },
    {
     "name": "stdout",
     "output_type": "stream",
     "text": [
      "Error fetching data for SCTY: No historical data available for SCTY around 2024-01-28.\n"
     ]
    },
    {
     "name": "stderr",
     "output_type": "stream",
     "text": [
      "$GGP-A: possibly delisted; no timezone found\n",
      "$YOD: possibly delisted; no price data found  (1d 2023-12-29 -> 2024-01-28)\n"
     ]
    },
    {
     "name": "stdout",
     "output_type": "stream",
     "text": [
      "Error fetching data for GGP-A: No historical data available for GGP-A around 2024-01-28.\n",
      "Error fetching data for YOD: No historical data available for YOD around 2024-01-28.\n"
     ]
    },
    {
     "name": "stderr",
     "output_type": "stream",
     "text": [
      "$TRF: possibly delisted; no price data found  (1d 2023-12-29 -> 2024-01-28)\n"
     ]
    },
    {
     "name": "stdout",
     "output_type": "stream",
     "text": [
      "Error fetching data for TRF: No historical data available for TRF around 2024-01-28.\n"
     ]
    },
    {
     "name": "stderr",
     "output_type": "stream",
     "text": [
      "$CSFS: possibly delisted; no price data found  (1d 2023-12-29 -> 2024-01-28)\n"
     ]
    },
    {
     "name": "stdout",
     "output_type": "stream",
     "text": [
      "Error fetching data for CSFS: No historical data available for CSFS around 2024-01-28.\n"
     ]
    },
    {
     "name": "stderr",
     "output_type": "stream",
     "text": [
      "$HMTV: possibly delisted; no timezone found\n"
     ]
    },
    {
     "name": "stdout",
     "output_type": "stream",
     "text": [
      "Error fetching data for HMTV: No historical data available for HMTV around 2024-01-28.\n"
     ]
    },
    {
     "name": "stderr",
     "output_type": "stream",
     "text": [
      "$CISAW: possibly delisted; no timezone found\n"
     ]
    },
    {
     "name": "stdout",
     "output_type": "stream",
     "text": [
      "Error fetching data for CISAW: No historical data available for CISAW around 2024-01-28.\n"
     ]
    },
    {
     "name": "stderr",
     "output_type": "stream",
     "text": [
      "$LHCG: possibly delisted; no timezone found\n",
      "$APRI: possibly delisted; no price data found  (1d 2023-12-29 -> 2024-01-28)\n"
     ]
    },
    {
     "name": "stdout",
     "output_type": "stream",
     "text": [
      "Error fetching data for LHCG: No historical data available for LHCG around 2024-01-28.\n",
      "Error fetching data for APRI: No historical data available for APRI around 2024-01-28.\n"
     ]
    },
    {
     "name": "stderr",
     "output_type": "stream",
     "text": [
      "$CEMP: possibly delisted; no price data found  (1d 2023-12-29 -> 2024-01-28)\n",
      "$DDR: possibly delisted; no price data found  (1d 2023-12-29 -> 2024-01-28)\n",
      "$AHS: possibly delisted; no price data found  (1d 2023-12-29 -> 2024-01-28)\n"
     ]
    },
    {
     "name": "stdout",
     "output_type": "stream",
     "text": [
      "Error fetching data for CEMP: No historical data available for CEMP around 2024-01-28.\n",
      "Error fetching data for DDR: No historical data available for DDR around 2024-01-28.\n",
      "Error fetching data for AHS: No historical data available for AHS around 2024-01-28.\n"
     ]
    },
    {
     "name": "stderr",
     "output_type": "stream",
     "text": [
      "$TSRI: possibly delisted; no timezone found\n"
     ]
    },
    {
     "name": "stdout",
     "output_type": "stream",
     "text": [
      "Error fetching data for TSRI: No historical data available for TSRI around 2024-01-28.\n"
     ]
    },
    {
     "name": "stderr",
     "output_type": "stream",
     "text": [
      "$TOO-A: possibly delisted; no timezone found\n",
      "$RNO: possibly delisted; no price data found  (1d 2023-12-29 -> 2024-01-28)\n"
     ]
    },
    {
     "name": "stdout",
     "output_type": "stream",
     "text": [
      "Error fetching data for TOO-A: No historical data available for TOO-A around 2024-01-28.\n",
      "Error fetching data for RNO: No historical data available for RNO around 2024-01-28.\n"
     ]
    },
    {
     "name": "stderr",
     "output_type": "stream",
     "text": [
      "$PSB-V: possibly delisted; no timezone found\n"
     ]
    },
    {
     "name": "stdout",
     "output_type": "stream",
     "text": [
      "Error fetching data for PSB-V: No historical data available for PSB-V around 2024-01-28.\n"
     ]
    },
    {
     "name": "stderr",
     "output_type": "stream",
     "text": [
      "$CIT: possibly delisted; no timezone found\n"
     ]
    },
    {
     "name": "stdout",
     "output_type": "stream",
     "text": [
      "Error fetching data for CIT: No historical data available for CIT around 2024-01-28.\n"
     ]
    },
    {
     "name": "stderr",
     "output_type": "stream",
     "text": [
      "$GTIV: possibly delisted; no price data found  (1d 2023-12-29 -> 2024-01-28)\n",
      "$FLTX: possibly delisted; no price data found  (1d 2023-12-29 -> 2024-01-28)\n"
     ]
    },
    {
     "name": "stdout",
     "output_type": "stream",
     "text": [
      "Error fetching data for GTIV: No historical data available for GTIV around 2024-01-28.\n",
      "Error fetching data for FLTX: No historical data available for FLTX around 2024-01-28.\n"
     ]
    },
    {
     "name": "stderr",
     "output_type": "stream",
     "text": [
      "$BKI: possibly delisted; no timezone found\n"
     ]
    },
    {
     "name": "stdout",
     "output_type": "stream",
     "text": [
      "Error fetching data for BKI: No historical data available for BKI around 2024-01-28.\n"
     ]
    },
    {
     "name": "stderr",
     "output_type": "stream",
     "text": [
      "$MIE: possibly delisted; no timezone found\n"
     ]
    },
    {
     "name": "stdout",
     "output_type": "stream",
     "text": [
      "Error fetching data for MIE: No historical data available for MIE around 2024-01-28.\n"
     ]
    },
    {
     "name": "stderr",
     "output_type": "stream",
     "text": [
      "$EPB: possibly delisted; no price data found  (1d 2023-12-29 -> 2024-01-28)\n"
     ]
    },
    {
     "name": "stdout",
     "output_type": "stream",
     "text": [
      "Error fetching data for EPB: No historical data available for EPB around 2024-01-28.\n"
     ]
    },
    {
     "name": "stderr",
     "output_type": "stream",
     "text": [
      "$HEOP: possibly delisted; no price data found  (1d 2023-12-29 -> 2024-01-28)\n"
     ]
    },
    {
     "name": "stdout",
     "output_type": "stream",
     "text": [
      "Error fetching data for HEOP: No historical data available for HEOP around 2024-01-28.\n"
     ]
    },
    {
     "name": "stderr",
     "output_type": "stream",
     "text": [
      "$GSIG: possibly delisted; no price data found  (period=1d)\n"
     ]
    },
    {
     "name": "stdout",
     "output_type": "stream",
     "text": [
      "Error fetching data for GSIG: single positional indexer is out-of-bounds\n"
     ]
    },
    {
     "name": "stderr",
     "output_type": "stream",
     "text": [
      "$MET-A: possibly delisted; no timezone found\n"
     ]
    },
    {
     "name": "stdout",
     "output_type": "stream",
     "text": [
      "Error fetching data for MET-A: No historical data available for MET-A around 2024-01-28.\n"
     ]
    },
    {
     "name": "stderr",
     "output_type": "stream",
     "text": [
      "$CZFC: possibly delisted; no timezone found\n"
     ]
    },
    {
     "name": "stdout",
     "output_type": "stream",
     "text": [
      "Error fetching data for CZFC: No historical data available for CZFC around 2024-01-28.\n"
     ]
    },
    {
     "name": "stderr",
     "output_type": "stream",
     "text": [
      "$ALLB: possibly delisted; no price data found  (1d 2023-12-29 -> 2024-01-28)\n"
     ]
    },
    {
     "name": "stdout",
     "output_type": "stream",
     "text": [
      "Error fetching data for ALLB: No historical data available for ALLB around 2024-01-28.\n"
     ]
    },
    {
     "name": "stderr",
     "output_type": "stream",
     "text": [
      "$MODN: possibly delisted; no timezone found\n",
      "$ZLCS: possibly delisted; no price data found  (1d 2023-12-29 -> 2024-01-28)\n"
     ]
    },
    {
     "name": "stdout",
     "output_type": "stream",
     "text": [
      "Error fetching data for MODN: No historical data available for MODN around 2024-01-28.\n",
      "Error fetching data for ZLCS: No historical data available for ZLCS around 2024-01-28.\n"
     ]
    },
    {
     "name": "stderr",
     "output_type": "stream",
     "text": [
      "$LUX: possibly delisted; no price data found  (period=1d)\n"
     ]
    },
    {
     "name": "stdout",
     "output_type": "stream",
     "text": [
      "Error fetching data for LUX: single positional indexer is out-of-bounds\n"
     ]
    },
    {
     "name": "stderr",
     "output_type": "stream",
     "text": [
      "$SHOS: possibly delisted; no timezone found\n"
     ]
    },
    {
     "name": "stdout",
     "output_type": "stream",
     "text": [
      "Error fetching data for SHOS: No historical data available for SHOS around 2024-01-28.\n"
     ]
    },
    {
     "name": "stderr",
     "output_type": "stream",
     "text": [
      "$BPFH: possibly delisted; no timezone found\n"
     ]
    },
    {
     "name": "stdout",
     "output_type": "stream",
     "text": [
      "Error fetching data for BPFH: No historical data available for BPFH around 2024-01-28.\n"
     ]
    },
    {
     "name": "stderr",
     "output_type": "stream",
     "text": [
      "$TKMR: possibly delisted; no timezone found\n"
     ]
    },
    {
     "name": "stdout",
     "output_type": "stream",
     "text": [
      "Error fetching data for TKMR: No historical data available for TKMR around 2024-01-28.\n"
     ]
    },
    {
     "name": "stderr",
     "output_type": "stream",
     "text": [
      "$ESS-H: possibly delisted; no timezone found\n"
     ]
    },
    {
     "name": "stdout",
     "output_type": "stream",
     "text": [
      "Error fetching data for ESS-H: No historical data available for ESS-H around 2024-01-28.\n"
     ]
    },
    {
     "name": "stderr",
     "output_type": "stream",
     "text": [
      "$TUP: possibly delisted; no timezone found\n",
      "$CIE: possibly delisted; no price data found  (1d 2023-12-29 -> 2024-01-28)\n"
     ]
    },
    {
     "name": "stdout",
     "output_type": "stream",
     "text": [
      "Error fetching data for TUP: No historical data available for TUP around 2024-01-28.\n",
      "Error fetching data for CIE: No historical data available for CIE around 2024-01-28.\n"
     ]
    },
    {
     "name": "stderr",
     "output_type": "stream",
     "text": [
      "$PBIP: possibly delisted; no timezone found\n"
     ]
    },
    {
     "name": "stdout",
     "output_type": "stream",
     "text": [
      "Error fetching data for PBIP: No historical data available for PBIP around 2024-01-28.\n"
     ]
    },
    {
     "name": "stderr",
     "output_type": "stream",
     "text": [
      "$BWC: possibly delisted; no timezone found\n",
      "$EEME: possibly delisted; no price data found  (1d 2023-12-29 -> 2024-01-28)\n",
      "$BPO: possibly delisted; no price data found  (1d 2023-12-29 -> 2024-01-28)\n"
     ]
    },
    {
     "name": "stdout",
     "output_type": "stream",
     "text": [
      "Error fetching data for BWC: No historical data available for BWC around 2024-01-28.\n",
      "Error fetching data for EEME: No historical data available for EEME around 2024-01-28.\n",
      "Error fetching data for BPO: No historical data available for BPO around 2024-01-28.\n"
     ]
    },
    {
     "name": "stderr",
     "output_type": "stream",
     "text": [
      "Failed to get ticker 'PSTI' reason: HTTPSConnectionPool(host='query2.finance.yahoo.com', port=443): Read timed out. (read timeout=10)\n",
      "$PSTI: possibly delisted; no timezone found\n",
      "$GTWN: possibly delisted; no price data found  (1d 2023-12-29 -> 2024-01-28)\n"
     ]
    },
    {
     "name": "stdout",
     "output_type": "stream",
     "text": [
      "Error fetching data for PSTI: No historical data available for PSTI around 2024-01-28.\n",
      "Error fetching data for GTWN: No historical data available for GTWN around 2024-01-28.\n"
     ]
    },
    {
     "name": "stderr",
     "output_type": "stream",
     "text": [
      "$MYM: possibly delisted; no price data found  (1d 2023-12-29 -> 2024-01-28)\n",
      "$ZX: possibly delisted; no price data found  (1d 2023-12-29 -> 2024-01-28)\n"
     ]
    },
    {
     "name": "stdout",
     "output_type": "stream",
     "text": [
      "Error fetching data for MYM: No historical data available for MYM around 2024-01-28.\n",
      "Error fetching data for ZX: No historical data available for ZX around 2024-01-28.\n"
     ]
    },
    {
     "name": "stderr",
     "output_type": "stream",
     "text": [
      "$COBK: possibly delisted; no price data found  (1d 2023-12-29 -> 2024-01-28)\n",
      "$AHL: possibly delisted; no price data found  (1d 2023-12-29 -> 2024-01-28)\n",
      "$VCLK: possibly delisted; no price data found  (1d 2023-12-29 -> 2024-01-28)\n"
     ]
    },
    {
     "name": "stdout",
     "output_type": "stream",
     "text": [
      "Error fetching data for COBK: No historical data available for COBK around 2024-01-28.\n",
      "Error fetching data for AHL: No historical data available for AHL around 2024-01-28.\n",
      "Error fetching data for VCLK: No historical data available for VCLK around 2024-01-28.\n"
     ]
    },
    {
     "name": "stderr",
     "output_type": "stream",
     "text": [
      "$CBAK: possibly delisted; no price data found  (1d 2023-12-29 -> 2024-01-28)\n"
     ]
    },
    {
     "name": "stdout",
     "output_type": "stream",
     "text": [
      "Error fetching data for CBAK: No historical data available for CBAK around 2024-01-28.\n"
     ]
    },
    {
     "name": "stderr",
     "output_type": "stream",
     "text": [
      "$TOO: possibly delisted; no timezone found\n"
     ]
    },
    {
     "name": "stdout",
     "output_type": "stream",
     "text": [
      "Error fetching data for TOO: No historical data available for TOO around 2024-01-28.\n"
     ]
    },
    {
     "name": "stderr",
     "output_type": "stream",
     "text": [
      "$SCU: possibly delisted; no timezone found\n",
      "$CODE: possibly delisted; no price data found  (1d 2023-12-29 -> 2024-01-28)\n"
     ]
    },
    {
     "name": "stdout",
     "output_type": "stream",
     "text": [
      "Error fetching data for SCU: No historical data available for SCU around 2024-01-28.\n",
      "Error fetching data for CODE: No historical data available for CODE around 2024-01-28.\n"
     ]
    },
    {
     "name": "stderr",
     "output_type": "stream",
     "text": [
      "$HTWO: possibly delisted; no timezone found\n",
      "$URS: possibly delisted; no price data found  (1d 2023-12-29 -> 2024-01-28)\n",
      "$INXBU: possibly delisted; no price data found  (1d 2023-12-29 -> 2024-01-28)\n"
     ]
    },
    {
     "name": "stdout",
     "output_type": "stream",
     "text": [
      "Error fetching data for HTWO: No historical data available for HTWO around 2024-01-28.\n",
      "Error fetching data for URS: No historical data available for URS around 2024-01-28.\n",
      "Error fetching data for INXBU: No historical data available for INXBU around 2024-01-28.\n"
     ]
    },
    {
     "name": "stderr",
     "output_type": "stream",
     "text": [
      "$HGH: possibly delisted; no timezone found\n",
      "$MENT: possibly delisted; no price data found  (1d 2023-12-29 -> 2024-01-28)\n",
      "$OMG: possibly delisted; no price data found  (1d 2023-12-29 -> 2024-01-28)\n"
     ]
    },
    {
     "name": "stdout",
     "output_type": "stream",
     "text": [
      "Error fetching data for HGH: No historical data available for HGH around 2024-01-28.\n",
      "Error fetching data for MENT: No historical data available for MENT around 2024-01-28.\n",
      "Error fetching data for OMG: No historical data available for OMG around 2024-01-28.\n"
     ]
    },
    {
     "name": "stderr",
     "output_type": "stream",
     "text": [
      "$PMBC: possibly delisted; no timezone found\n",
      "$FBRC: possibly delisted; no price data found  (1d 2023-12-29 -> 2024-01-28)\n"
     ]
    },
    {
     "name": "stdout",
     "output_type": "stream",
     "text": [
      "Error fetching data for PMBC: No historical data available for PMBC around 2024-01-28.\n",
      "Error fetching data for FBRC: No historical data available for FBRC around 2024-01-28.\n"
     ]
    },
    {
     "name": "stderr",
     "output_type": "stream",
     "text": [
      "$SIBC: possibly delisted; no price data found  (1d 2023-12-29 -> 2024-01-28)\n"
     ]
    },
    {
     "name": "stdout",
     "output_type": "stream",
     "text": [
      "Error fetching data for SIBC: No historical data available for SIBC around 2024-01-28.\n"
     ]
    },
    {
     "name": "stderr",
     "output_type": "stream",
     "text": [
      "$DDR-K: possibly delisted; no timezone found\n"
     ]
    },
    {
     "name": "stdout",
     "output_type": "stream",
     "text": [
      "Error fetching data for DDR-K: No historical data available for DDR-K around 2024-01-28.\n"
     ]
    },
    {
     "name": "stderr",
     "output_type": "stream",
     "text": [
      "$EPR-C: possibly delisted; no timezone found\n",
      "$EVBS: possibly delisted; no price data found  (1d 2023-12-29 -> 2024-01-28)\n"
     ]
    },
    {
     "name": "stdout",
     "output_type": "stream",
     "text": [
      "Error fetching data for EPR-C: No historical data available for EPR-C around 2024-01-28.\n",
      "Error fetching data for EVBS: No historical data available for EVBS around 2024-01-28.\n"
     ]
    },
    {
     "name": "stderr",
     "output_type": "stream",
     "text": [
      "$PVTBP: possibly delisted; no price data found  (1d 2023-12-29 -> 2024-01-28)\n",
      "$HGT: possibly delisted; no price data found  (1d 2023-12-29 -> 2024-01-28)\n"
     ]
    },
    {
     "name": "stdout",
     "output_type": "stream",
     "text": [
      "Error fetching data for PVTBP: No historical data available for PVTBP around 2024-01-28.\n",
      "Error fetching data for HGT: No historical data available for HGT around 2024-01-28.\n"
     ]
    },
    {
     "name": "stderr",
     "output_type": "stream",
     "text": [
      "$IIVI: possibly delisted; no timezone found\n"
     ]
    },
    {
     "name": "stdout",
     "output_type": "stream",
     "text": [
      "Error fetching data for IIVI: No historical data available for IIVI around 2024-01-28.\n"
     ]
    },
    {
     "name": "stderr",
     "output_type": "stream",
     "text": [
      "$NPV-E: possibly delisted; no timezone found\n"
     ]
    },
    {
     "name": "stdout",
     "output_type": "stream",
     "text": [
      "Error fetching data for NPV-E: No historical data available for NPV-E around 2024-01-28.\n"
     ]
    },
    {
     "name": "stderr",
     "output_type": "stream",
     "text": [
      "$GPS: possibly delisted; no timezone found\n"
     ]
    },
    {
     "name": "stdout",
     "output_type": "stream",
     "text": [
      "Error fetching data for GPS: No historical data available for GPS around 2024-01-28.\n"
     ]
    },
    {
     "name": "stderr",
     "output_type": "stream",
     "text": [
      "$CVG: possibly delisted; no price data found  (period=1d)\n"
     ]
    },
    {
     "name": "stdout",
     "output_type": "stream",
     "text": [
      "Error fetching data for CVG: single positional indexer is out-of-bounds\n"
     ]
    },
    {
     "name": "stderr",
     "output_type": "stream",
     "text": [
      "$IPCM: possibly delisted; no price data found  (1d 2023-12-29 -> 2024-01-28)\n",
      "$STJ: possibly delisted; no price data found  (1d 2023-12-29 -> 2024-01-28)\n"
     ]
    },
    {
     "name": "stdout",
     "output_type": "stream",
     "text": [
      "Error fetching data for IPCM: No historical data available for IPCM around 2024-01-28.\n",
      "Error fetching data for STJ: No historical data available for STJ around 2024-01-28.\n"
     ]
    },
    {
     "name": "stderr",
     "output_type": "stream",
     "text": [
      "$CPST: possibly delisted; no price data found  (1d 2023-12-29 -> 2024-01-28) (Yahoo error = \"Data doesn't exist for startDate = 1703826000, endDate = 1706418000\")\n"
     ]
    },
    {
     "name": "stdout",
     "output_type": "stream",
     "text": [
      "Error fetching data for CPST: No historical data available for CPST around 2024-01-28.\n"
     ]
    },
    {
     "name": "stderr",
     "output_type": "stream",
     "text": [
      "$ANAD: possibly delisted; no price data found  (1d 2023-12-29 -> 2024-01-28)\n"
     ]
    },
    {
     "name": "stdout",
     "output_type": "stream",
     "text": [
      "Error fetching data for ANAD: No historical data available for ANAD around 2024-01-28.\n"
     ]
    },
    {
     "name": "stderr",
     "output_type": "stream",
     "text": [
      "$GOM: possibly delisted; no price data found  (1d 2023-12-29 -> 2024-01-28)\n"
     ]
    },
    {
     "name": "stdout",
     "output_type": "stream",
     "text": [
      "Error fetching data for GOM: No historical data available for GOM around 2024-01-28.\n"
     ]
    },
    {
     "name": "stderr",
     "output_type": "stream",
     "text": [
      "$SPN: possibly delisted; no timezone found\n"
     ]
    },
    {
     "name": "stdout",
     "output_type": "stream",
     "text": [
      "Error fetching data for SPN: No historical data available for SPN around 2024-01-28.\n"
     ]
    },
    {
     "name": "stderr",
     "output_type": "stream",
     "text": [
      "$MCA: possibly delisted; no timezone found\n"
     ]
    },
    {
     "name": "stdout",
     "output_type": "stream",
     "text": [
      "Error fetching data for MCA: No historical data available for MCA around 2024-01-28.\n"
     ]
    },
    {
     "name": "stderr",
     "output_type": "stream",
     "text": [
      "$DTZ: possibly delisted; no timezone found\n"
     ]
    },
    {
     "name": "stdout",
     "output_type": "stream",
     "text": [
      "Error fetching data for DTZ: No historical data available for DTZ around 2024-01-28.\n"
     ]
    },
    {
     "name": "stderr",
     "output_type": "stream",
     "text": [
      "$BLL: possibly delisted; no timezone found\n",
      "$HBHC: possibly delisted; no price data found  (1d 2023-12-29 -> 2024-01-28)\n"
     ]
    },
    {
     "name": "stdout",
     "output_type": "stream",
     "text": [
      "Error fetching data for BLL: No historical data available for BLL around 2024-01-28.\n",
      "Error fetching data for HBHC: No historical data available for HBHC around 2024-01-28.\n"
     ]
    },
    {
     "name": "stderr",
     "output_type": "stream",
     "text": [
      "$ISP: possibly delisted; no price data found  (period=1d)\n"
     ]
    },
    {
     "name": "stdout",
     "output_type": "stream",
     "text": [
      "Error fetching data for ISP: single positional indexer is out-of-bounds\n"
     ]
    },
    {
     "name": "stderr",
     "output_type": "stream",
     "text": [
      "$PUK-A: possibly delisted; no timezone found\n"
     ]
    },
    {
     "name": "stdout",
     "output_type": "stream",
     "text": [
      "Error fetching data for PUK-A: No historical data available for PUK-A around 2024-01-28.\n"
     ]
    },
    {
     "name": "stderr",
     "output_type": "stream",
     "text": [
      "$PTNT: possibly delisted; no price data found  (1d 2023-12-29 -> 2024-01-28)\n"
     ]
    },
    {
     "name": "stdout",
     "output_type": "stream",
     "text": [
      "Error fetching data for PTNT: No historical data available for PTNT around 2024-01-28.\n"
     ]
    },
    {
     "name": "stderr",
     "output_type": "stream",
     "text": [
      "$BZU: possibly delisted; no price data found  (1d 2023-12-29 -> 2024-01-28)\n"
     ]
    },
    {
     "name": "stdout",
     "output_type": "stream",
     "text": [
      "Error fetching data for BZU: No historical data available for BZU around 2024-01-28.\n"
     ]
    },
    {
     "name": "stderr",
     "output_type": "stream",
     "text": [
      "$OAS: possibly delisted; no timezone found\n"
     ]
    },
    {
     "name": "stdout",
     "output_type": "stream",
     "text": [
      "Error fetching data for OAS: No historical data available for OAS around 2024-01-28.\n",
      "Error fetching data for CHSCP: unsupported operand type(s) for /: 'NoneType' and 'float'\n"
     ]
    },
    {
     "name": "stderr",
     "output_type": "stream",
     "text": [
      "$ECT: possibly delisted; no timezone found\n"
     ]
    },
    {
     "name": "stdout",
     "output_type": "stream",
     "text": [
      "Error fetching data for ECT: No historical data available for ECT around 2024-01-28.\n"
     ]
    },
    {
     "name": "stderr",
     "output_type": "stream",
     "text": [
      "$GFED: possibly delisted; no timezone found\n"
     ]
    },
    {
     "name": "stdout",
     "output_type": "stream",
     "text": [
      "Error fetching data for GFED: No historical data available for GFED around 2024-01-28.\n"
     ]
    },
    {
     "name": "stderr",
     "output_type": "stream",
     "text": [
      "$LIFE: possibly delisted; no timezone found\n"
     ]
    },
    {
     "name": "stdout",
     "output_type": "stream",
     "text": [
      "Error fetching data for LIFE: No historical data available for LIFE around 2024-01-28.\n"
     ]
    },
    {
     "name": "stderr",
     "output_type": "stream",
     "text": [
      "$LINTB: possibly delisted; no price data found  (1d 2023-12-29 -> 2024-01-28)\n"
     ]
    },
    {
     "name": "stdout",
     "output_type": "stream",
     "text": [
      "Error fetching data for LINTB: No historical data available for LINTB around 2024-01-28.\n"
     ]
    },
    {
     "name": "stderr",
     "output_type": "stream",
     "text": [
      "$SNHN: possibly delisted; no timezone found\n",
      "$KIOR: possibly delisted; no price data found  (1d 2023-12-29 -> 2024-01-28)\n"
     ]
    },
    {
     "name": "stdout",
     "output_type": "stream",
     "text": [
      "Error fetching data for SNHN: No historical data available for SNHN around 2024-01-28.\n",
      "Error fetching data for KIOR: No historical data available for KIOR around 2024-01-28.\n"
     ]
    },
    {
     "name": "stderr",
     "output_type": "stream",
     "text": [
      "$NS: possibly delisted; no timezone found\n"
     ]
    },
    {
     "name": "stdout",
     "output_type": "stream",
     "text": [
      "Error fetching data for NS: No historical data available for NS around 2024-01-28.\n"
     ]
    },
    {
     "name": "stderr",
     "output_type": "stream",
     "text": [
      "$DGICB: possibly delisted; no price data found  (period=1d)\n"
     ]
    },
    {
     "name": "stdout",
     "output_type": "stream",
     "text": [
      "Error fetching data for DGICB: single positional indexer is out-of-bounds\n"
     ]
    },
    {
     "name": "stderr",
     "output_type": "stream",
     "text": [
      "$WFBI: possibly delisted; no price data found  (1d 2023-12-29 -> 2024-01-28)\n"
     ]
    },
    {
     "name": "stdout",
     "output_type": "stream",
     "text": [
      "Error fetching data for WFBI: No historical data available for WFBI around 2024-01-28.\n"
     ]
    },
    {
     "name": "stderr",
     "output_type": "stream",
     "text": [
      "$BCF: possibly delisted; no price data found  (1d 2023-12-29 -> 2024-01-28)\n"
     ]
    },
    {
     "name": "stdout",
     "output_type": "stream",
     "text": [
      "Error fetching data for BCF: No historical data available for BCF around 2024-01-28.\n"
     ]
    },
    {
     "name": "stderr",
     "output_type": "stream",
     "text": [
      "$SEAS: possibly delisted; no timezone found\n",
      "$ULTR: possibly delisted; no price data found  (period=1d)\n"
     ]
    },
    {
     "name": "stdout",
     "output_type": "stream",
     "text": [
      "Error fetching data for SEAS: No historical data available for SEAS around 2024-01-28.\n",
      "Error fetching data for ULTR: single positional indexer is out-of-bounds\n"
     ]
    },
    {
     "name": "stderr",
     "output_type": "stream",
     "text": [
      "$NTG: possibly delisted; no price data found  (period=1d)\n",
      "$HTS: possibly delisted; no price data found  (1d 2023-12-29 -> 2024-01-28)\n"
     ]
    },
    {
     "name": "stdout",
     "output_type": "stream",
     "text": [
      "Error fetching data for NTG: single positional indexer is out-of-bounds\n",
      "Error fetching data for HTS: No historical data available for HTS around 2024-01-28.\n"
     ]
    },
    {
     "name": "stderr",
     "output_type": "stream",
     "text": [
      "$AGC: possibly delisted; no timezone found\n"
     ]
    },
    {
     "name": "stdout",
     "output_type": "stream",
     "text": [
      "Error fetching data for AGC: No historical data available for AGC around 2024-01-28.\n"
     ]
    },
    {
     "name": "stderr",
     "output_type": "stream",
     "text": [
      "$IRE-B: possibly delisted; no timezone found\n"
     ]
    },
    {
     "name": "stdout",
     "output_type": "stream",
     "text": [
      "Error fetching data for IRE-B: No historical data available for IRE-B around 2024-01-28.\n"
     ]
    },
    {
     "name": "stderr",
     "output_type": "stream",
     "text": [
      "$WSTG: possibly delisted; no timezone found\n"
     ]
    },
    {
     "name": "stdout",
     "output_type": "stream",
     "text": [
      "Error fetching data for WSTG: No historical data available for WSTG around 2024-01-28.\n"
     ]
    },
    {
     "name": "stderr",
     "output_type": "stream",
     "text": [
      "$AMAG: possibly delisted; no timezone found\n"
     ]
    },
    {
     "name": "stdout",
     "output_type": "stream",
     "text": [
      "Error fetching data for AMAG: No historical data available for AMAG around 2024-01-28.\n"
     ]
    },
    {
     "name": "stderr",
     "output_type": "stream",
     "text": [
      "$KELYB: possibly delisted; no price data found  (period=1d)\n",
      "$JGG: possibly delisted; no price data found  (1d 2023-12-29 -> 2024-01-28)\n"
     ]
    },
    {
     "name": "stdout",
     "output_type": "stream",
     "text": [
      "Error fetching data for KELYB: single positional indexer is out-of-bounds\n",
      "Error fetching data for JGG: No historical data available for JGG around 2024-01-28.\n"
     ]
    },
    {
     "name": "stderr",
     "output_type": "stream",
     "text": [
      "$LTRE: possibly delisted; no price data found  (period=1d)\n"
     ]
    },
    {
     "name": "stdout",
     "output_type": "stream",
     "text": [
      "Error fetching data for LTRE: single positional indexer is out-of-bounds\n"
     ]
    },
    {
     "name": "stderr",
     "output_type": "stream",
     "text": [
      "$MEILZ: possibly delisted; no timezone found\n",
      "$ADRU: possibly delisted; no price data found  (1d 2023-12-29 -> 2024-01-28)\n"
     ]
    },
    {
     "name": "stdout",
     "output_type": "stream",
     "text": [
      "Error fetching data for MEILZ: No historical data available for MEILZ around 2024-01-28.\n",
      "Error fetching data for ADRU: No historical data available for ADRU around 2024-01-28.\n"
     ]
    },
    {
     "name": "stderr",
     "output_type": "stream",
     "text": [
      "$SRT: possibly delisted; no timezone found\n",
      "$BAGR: possibly delisted; no price data found  (1d 2023-12-29 -> 2024-01-28)\n"
     ]
    },
    {
     "name": "stdout",
     "output_type": "stream",
     "text": [
      "Error fetching data for SRT: No historical data available for SRT around 2024-01-28.\n",
      "Error fetching data for BAGR: No historical data available for BAGR around 2024-01-28.\n"
     ]
    },
    {
     "name": "stderr",
     "output_type": "stream",
     "text": [
      "$JLA: possibly delisted; no timezone found\n"
     ]
    },
    {
     "name": "stdout",
     "output_type": "stream",
     "text": [
      "Error fetching data for JLA: No historical data available for JLA around 2024-01-28.\n"
     ]
    },
    {
     "name": "stderr",
     "output_type": "stream",
     "text": [
      "$GAM-B: possibly delisted; no timezone found\n",
      "$PCP: possibly delisted; no price data found  (1d 2023-12-29 -> 2024-01-28)\n"
     ]
    },
    {
     "name": "stdout",
     "output_type": "stream",
     "text": [
      "Error fetching data for GAM-B: No historical data available for GAM-B around 2024-01-28.\n",
      "Error fetching data for PCP: No historical data available for PCP around 2024-01-28.\n"
     ]
    },
    {
     "name": "stderr",
     "output_type": "stream",
     "text": [
      "$NTC-D: possibly delisted; no timezone found\n",
      "$NCP: possibly delisted; no price data found  (1d 2023-12-29 -> 2024-01-28)\n",
      "$HXM: possibly delisted; no price data found  (1d 2023-12-29 -> 2024-01-28)\n"
     ]
    },
    {
     "name": "stdout",
     "output_type": "stream",
     "text": [
      "Error fetching data for NTC-D: No historical data available for NTC-D around 2024-01-28.\n",
      "Error fetching data for NCP: No historical data available for NCP around 2024-01-28.\n",
      "Error fetching data for HXM: No historical data available for HXM around 2024-01-28.\n"
     ]
    },
    {
     "name": "stderr",
     "output_type": "stream",
     "text": [
      "$RALY: possibly delisted; no price data found  (1d 2023-12-29 -> 2024-01-28)\n"
     ]
    },
    {
     "name": "stdout",
     "output_type": "stream",
     "text": [
      "Error fetching data for RALY: No historical data available for RALY around 2024-01-28.\n"
     ]
    },
    {
     "name": "stderr",
     "output_type": "stream",
     "text": [
      "$BML-H: possibly delisted; no timezone found\n"
     ]
    },
    {
     "name": "stdout",
     "output_type": "stream",
     "text": [
      "Error fetching data for BML-H: No historical data available for BML-H around 2024-01-28.\n"
     ]
    },
    {
     "name": "stderr",
     "output_type": "stream",
     "text": [
      "$RITT: possibly delisted; no price data found  (period=1d)\n",
      "$CMLP: possibly delisted; no price data found  (1d 2023-12-29 -> 2024-01-28)\n"
     ]
    },
    {
     "name": "stdout",
     "output_type": "stream",
     "text": [
      "Error fetching data for RITT: single positional indexer is out-of-bounds\n",
      "Error fetching data for CMLP: No historical data available for CMLP around 2024-01-28.\n"
     ]
    },
    {
     "name": "stderr",
     "output_type": "stream",
     "text": [
      "$ISF: possibly delisted; no timezone found\n"
     ]
    },
    {
     "name": "stdout",
     "output_type": "stream",
     "text": [
      "Error fetching data for ISF: No historical data available for ISF around 2024-01-28.\n"
     ]
    },
    {
     "name": "stderr",
     "output_type": "stream",
     "text": [
      "$CTIC: possibly delisted; no timezone found\n",
      "$FHCO: possibly delisted; no price data found  (1d 2023-12-29 -> 2024-01-28)\n"
     ]
    },
    {
     "name": "stdout",
     "output_type": "stream",
     "text": [
      "Error fetching data for CTIC: No historical data available for CTIC around 2024-01-28.\n",
      "Error fetching data for FHCO: No historical data available for FHCO around 2024-01-28.\n"
     ]
    },
    {
     "name": "stderr",
     "output_type": "stream",
     "text": [
      "$ANH: possibly delisted; no timezone found\n",
      "$BBNK: possibly delisted; no price data found  (1d 2023-12-29 -> 2024-01-28)\n"
     ]
    },
    {
     "name": "stdout",
     "output_type": "stream",
     "text": [
      "Error fetching data for ANH: No historical data available for ANH around 2024-01-28.\n",
      "Error fetching data for BBNK: No historical data available for BBNK around 2024-01-28.\n"
     ]
    },
    {
     "name": "stderr",
     "output_type": "stream",
     "text": [
      "$NAV: possibly delisted; no timezone found\n"
     ]
    },
    {
     "name": "stdout",
     "output_type": "stream",
     "text": [
      "Error fetching data for NAV: No historical data available for NAV around 2024-01-28.\n"
     ]
    },
    {
     "name": "stderr",
     "output_type": "stream",
     "text": [
      "$ISLE: possibly delisted; no timezone found\n"
     ]
    },
    {
     "name": "stdout",
     "output_type": "stream",
     "text": [
      "Error fetching data for ISLE: No historical data available for ISLE around 2024-01-28.\n"
     ]
    },
    {
     "name": "stderr",
     "output_type": "stream",
     "text": [
      "$PKH: possibly delisted; no price data found  (1d 2023-12-29 -> 2024-01-28)\n",
      "$DVR: possibly delisted; no price data found  (1d 2023-12-29 -> 2024-01-28)\n"
     ]
    },
    {
     "name": "stdout",
     "output_type": "stream",
     "text": [
      "Error fetching data for PKH: No historical data available for PKH around 2024-01-28.\n",
      "Error fetching data for DVR: No historical data available for DVR around 2024-01-28.\n"
     ]
    },
    {
     "name": "stderr",
     "output_type": "stream",
     "text": [
      "$CLCT: possibly delisted; no timezone found\n"
     ]
    },
    {
     "name": "stdout",
     "output_type": "stream",
     "text": [
      "Error fetching data for CLCT: No historical data available for CLCT around 2024-01-28.\n"
     ]
    },
    {
     "name": "stderr",
     "output_type": "stream",
     "text": [
      "$SORL: possibly delisted; no timezone found\n",
      "$CPN: possibly delisted; no price data found  (1d 2023-12-29 -> 2024-01-28)\n"
     ]
    },
    {
     "name": "stdout",
     "output_type": "stream",
     "text": [
      "Error fetching data for SORL: No historical data available for SORL around 2024-01-28.\n",
      "Error fetching data for CPN: No historical data available for CPN around 2024-01-28.\n"
     ]
    },
    {
     "name": "stderr",
     "output_type": "stream",
     "text": [
      "$IMMY: possibly delisted; no price data found  (1d 2023-12-29 -> 2024-01-28)\n",
      "$IMRS: possibly delisted; no price data found  (1d 2023-12-29 -> 2024-01-28)\n"
     ]
    },
    {
     "name": "stdout",
     "output_type": "stream",
     "text": [
      "Error fetching data for IMMY: No historical data available for IMMY around 2024-01-28.\n",
      "Error fetching data for IMRS: No historical data available for IMRS around 2024-01-28.\n"
     ]
    },
    {
     "name": "stderr",
     "output_type": "stream",
     "text": [
      "$AMAP: possibly delisted; no price data found  (1d 2023-12-29 -> 2024-01-28)\n"
     ]
    },
    {
     "name": "stdout",
     "output_type": "stream",
     "text": [
      "Error fetching data for AMAP: No historical data available for AMAP around 2024-01-28.\n"
     ]
    },
    {
     "name": "stderr",
     "output_type": "stream",
     "text": [
      "$TGP: possibly delisted; no timezone found\n"
     ]
    },
    {
     "name": "stdout",
     "output_type": "stream",
     "text": [
      "Error fetching data for TGP: No historical data available for TGP around 2024-01-28.\n"
     ]
    },
    {
     "name": "stderr",
     "output_type": "stream",
     "text": [
      "$IBCPO: possibly delisted; no price data found  (1d 2023-12-29 -> 2024-01-28)\n"
     ]
    },
    {
     "name": "stdout",
     "output_type": "stream",
     "text": [
      "Error fetching data for IBCPO: No historical data available for IBCPO around 2024-01-28.\n"
     ]
    },
    {
     "name": "stderr",
     "output_type": "stream",
     "text": [
      "$PEOP: possibly delisted; no price data found  (1d 2023-12-29 -> 2024-01-28)\n"
     ]
    },
    {
     "name": "stdout",
     "output_type": "stream",
     "text": [
      "Error fetching data for PEOP: No historical data available for PEOP around 2024-01-28.\n"
     ]
    },
    {
     "name": "stderr",
     "output_type": "stream",
     "text": [
      "$PSA-P: possibly delisted; no timezone found\n",
      "$GXP: possibly delisted; no price data found  (1d 2023-12-29 -> 2024-01-28)\n"
     ]
    },
    {
     "name": "stdout",
     "output_type": "stream",
     "text": [
      "Error fetching data for PSA-P: No historical data available for PSA-P around 2024-01-28.\n",
      "Error fetching data for GXP: No historical data available for GXP around 2024-01-28.\n"
     ]
    },
    {
     "name": "stderr",
     "output_type": "stream",
     "text": [
      "$IPHS: possibly delisted; no timezone found\n"
     ]
    },
    {
     "name": "stdout",
     "output_type": "stream",
     "text": [
      "Error fetching data for IPHS: No historical data available for IPHS around 2024-01-28.\n"
     ]
    },
    {
     "name": "stderr",
     "output_type": "stream",
     "text": [
      "$PFK: possibly delisted; no timezone found\n"
     ]
    },
    {
     "name": "stdout",
     "output_type": "stream",
     "text": [
      "Error fetching data for PFK: No historical data available for PFK around 2024-01-28.\n"
     ]
    },
    {
     "name": "stderr",
     "output_type": "stream",
     "text": [
      "$MBT: possibly delisted; no timezone found\n"
     ]
    },
    {
     "name": "stdout",
     "output_type": "stream",
     "text": [
      "Error fetching data for MBT: No historical data available for MBT around 2024-01-28.\n"
     ]
    },
    {
     "name": "stderr",
     "output_type": "stream",
     "text": [
      "$TCB.W: possibly delisted; no timezone found\n"
     ]
    },
    {
     "name": "stdout",
     "output_type": "stream",
     "text": [
      "Error fetching data for TCB.W: No historical data available for TCB.W around 2024-01-28.\n"
     ]
    },
    {
     "name": "stderr",
     "output_type": "stream",
     "text": [
      "$ROICW: possibly delisted; no timezone found\n"
     ]
    },
    {
     "name": "stdout",
     "output_type": "stream",
     "text": [
      "Error fetching data for ROICW: No historical data available for ROICW around 2024-01-28.\n"
     ]
    },
    {
     "name": "stderr",
     "output_type": "stream",
     "text": [
      "$BRE-D: possibly delisted; no timezone found\n"
     ]
    },
    {
     "name": "stdout",
     "output_type": "stream",
     "text": [
      "Error fetching data for BRE-D: No historical data available for BRE-D around 2024-01-28.\n"
     ]
    },
    {
     "name": "stderr",
     "output_type": "stream",
     "text": [
      "$NEE-I: possibly delisted; no timezone found\n",
      "$JPZ: possibly delisted; no price data found  (1d 2023-12-29 -> 2024-01-28)\n"
     ]
    },
    {
     "name": "stdout",
     "output_type": "stream",
     "text": [
      "Error fetching data for NEE-I: No historical data available for NEE-I around 2024-01-28.\n",
      "Error fetching data for JPZ: No historical data available for JPZ around 2024-01-28.\n"
     ]
    },
    {
     "name": "stderr",
     "output_type": "stream",
     "text": [
      "$CLNY: possibly delisted; no timezone found\n"
     ]
    },
    {
     "name": "stdout",
     "output_type": "stream",
     "text": [
      "Error fetching data for CLNY: No historical data available for CLNY around 2024-01-28.\n"
     ]
    },
    {
     "name": "stderr",
     "output_type": "stream",
     "text": [
      "$OSN: possibly delisted; no timezone found\n"
     ]
    },
    {
     "name": "stdout",
     "output_type": "stream",
     "text": [
      "Error fetching data for OSN: No historical data available for OSN around 2024-01-28.\n"
     ]
    },
    {
     "name": "stderr",
     "output_type": "stream",
     "text": [
      "$HOS: possibly delisted; no timezone found\n"
     ]
    },
    {
     "name": "stdout",
     "output_type": "stream",
     "text": [
      "Error fetching data for HOS: No historical data available for HOS around 2024-01-28.\n"
     ]
    },
    {
     "name": "stderr",
     "output_type": "stream",
     "text": [
      "$ACCL: possibly delisted; no price data found  (1d 2023-12-29 -> 2024-01-28)\n"
     ]
    },
    {
     "name": "stdout",
     "output_type": "stream",
     "text": [
      "Error fetching data for ACCL: No historical data available for ACCL around 2024-01-28.\n"
     ]
    },
    {
     "name": "stderr",
     "output_type": "stream",
     "text": [
      "$AREX: possibly delisted; no timezone found\n"
     ]
    },
    {
     "name": "stdout",
     "output_type": "stream",
     "text": [
      "Error fetching data for AREX: No historical data available for AREX around 2024-01-28.\n"
     ]
    },
    {
     "name": "stderr",
     "output_type": "stream",
     "text": [
      "$PWX: possibly delisted; no price data found  (1d 2023-12-29 -> 2024-01-28)\n",
      "$SIFI: possibly delisted; no price data found  (period=1d)\n"
     ]
    },
    {
     "name": "stdout",
     "output_type": "stream",
     "text": [
      "Error fetching data for PWX: No historical data available for PWX around 2024-01-28.\n",
      "Error fetching data for SIFI: single positional indexer is out-of-bounds\n"
     ]
    },
    {
     "name": "stderr",
     "output_type": "stream",
     "text": [
      "$TDA: possibly delisted; no timezone found\n"
     ]
    },
    {
     "name": "stdout",
     "output_type": "stream",
     "text": [
      "Error fetching data for TDA: No historical data available for TDA around 2024-01-28.\n"
     ]
    },
    {
     "name": "stderr",
     "output_type": "stream",
     "text": [
      "$NCU-C: possibly delisted; no timezone found\n"
     ]
    },
    {
     "name": "stdout",
     "output_type": "stream",
     "text": [
      "Error fetching data for NCU-C: No historical data available for NCU-C around 2024-01-28.\n"
     ]
    },
    {
     "name": "stderr",
     "output_type": "stream",
     "text": [
      "$MYC: possibly delisted; no timezone found\n",
      "$PPO: possibly delisted; no price data found  (1d 2023-12-29 -> 2024-01-28)\n"
     ]
    },
    {
     "name": "stdout",
     "output_type": "stream",
     "text": [
      "Error fetching data for MYC: No historical data available for MYC around 2024-01-28.\n",
      "Error fetching data for PPO: No historical data available for PPO around 2024-01-28.\n"
     ]
    },
    {
     "name": "stderr",
     "output_type": "stream",
     "text": [
      "$CPSL: possibly delisted; no price data found  (1d 2023-12-29 -> 2024-01-28) (Yahoo error = \"Data doesn't exist for startDate = 1703826000, endDate = 1706418000\")\n"
     ]
    },
    {
     "name": "stdout",
     "output_type": "stream",
     "text": [
      "Error fetching data for CPSL: No historical data available for CPSL around 2024-01-28.\n"
     ]
    },
    {
     "name": "stderr",
     "output_type": "stream",
     "text": [
      "$SJR: possibly delisted; no timezone found\n"
     ]
    },
    {
     "name": "stdout",
     "output_type": "stream",
     "text": [
      "Error fetching data for SJR: No historical data available for SJR around 2024-01-28.\n"
     ]
    },
    {
     "name": "stderr",
     "output_type": "stream",
     "text": [
      "$CFX: possibly delisted; no timezone found\n"
     ]
    },
    {
     "name": "stdout",
     "output_type": "stream",
     "text": [
      "Error fetching data for CFX: No historical data available for CFX around 2024-01-28.\n"
     ]
    },
    {
     "name": "stderr",
     "output_type": "stream",
     "text": [
      "$PTX: possibly delisted; no timezone found\n",
      "$CRRB: possibly delisted; no price data found  (1d 2023-12-29 -> 2024-01-28)\n"
     ]
    },
    {
     "name": "stdout",
     "output_type": "stream",
     "text": [
      "Error fetching data for PTX: No historical data available for PTX around 2024-01-28.\n",
      "Error fetching data for CRRB: No historical data available for CRRB around 2024-01-28.\n"
     ]
    },
    {
     "name": "stderr",
     "output_type": "stream",
     "text": [
      "$WBB: possibly delisted; no price data found  (1d 2023-12-29 -> 2024-01-28)\n",
      "$KIPS: possibly delisted; no price data found  (1d 2023-12-29 -> 2024-01-28)\n"
     ]
    },
    {
     "name": "stdout",
     "output_type": "stream",
     "text": [
      "Error fetching data for WBB: No historical data available for WBB around 2024-01-28.\n",
      "Error fetching data for KIPS: No historical data available for KIPS around 2024-01-28.\n"
     ]
    },
    {
     "name": "stderr",
     "output_type": "stream",
     "text": [
      "$MSFG: possibly delisted; no price data found  (1d 2023-12-29 -> 2024-01-28)\n",
      "$ALXA: possibly delisted; no price data found  (1d 2023-12-29 -> 2024-01-28)\n"
     ]
    },
    {
     "name": "stdout",
     "output_type": "stream",
     "text": [
      "Error fetching data for MSFG: No historical data available for MSFG around 2024-01-28.\n",
      "Error fetching data for ALXA: No historical data available for ALXA around 2024-01-28.\n"
     ]
    },
    {
     "name": "stderr",
     "output_type": "stream",
     "text": [
      "$BIOD: possibly delisted; no price data found  (1d 2023-12-29 -> 2024-01-28)\n"
     ]
    },
    {
     "name": "stdout",
     "output_type": "stream",
     "text": [
      "Error fetching data for BIOD: No historical data available for BIOD around 2024-01-28.\n"
     ]
    },
    {
     "name": "stderr",
     "output_type": "stream",
     "text": [
      "$GCV-B: possibly delisted; no timezone found\n",
      "$CHKE: possibly delisted; no price data found  (1d 2023-12-29 -> 2024-01-28)\n"
     ]
    },
    {
     "name": "stdout",
     "output_type": "stream",
     "text": [
      "Error fetching data for GCV-B: No historical data available for GCV-B around 2024-01-28.\n",
      "Error fetching data for CHKE: No historical data available for CHKE around 2024-01-28.\n"
     ]
    },
    {
     "name": "stderr",
     "output_type": "stream",
     "text": [
      "$KS: possibly delisted; no price data found  (period=1d)\n"
     ]
    },
    {
     "name": "stdout",
     "output_type": "stream",
     "text": [
      "Error fetching data for KS: single positional indexer is out-of-bounds\n"
     ]
    },
    {
     "name": "stderr",
     "output_type": "stream",
     "text": [
      "$TSC: possibly delisted; no timezone found\n",
      "$MRF: possibly delisted; no price data found  (1d 2023-12-29 -> 2024-01-28)\n"
     ]
    },
    {
     "name": "stdout",
     "output_type": "stream",
     "text": [
      "Error fetching data for TSC: No historical data available for TSC around 2024-01-28.\n",
      "Error fetching data for MRF: No historical data available for MRF around 2024-01-28.\n"
     ]
    },
    {
     "name": "stderr",
     "output_type": "stream",
     "text": [
      "$DXYN: possibly delisted; no price data found  (period=1d)\n"
     ]
    },
    {
     "name": "stdout",
     "output_type": "stream",
     "text": [
      "Error fetching data for DXYN: single positional indexer is out-of-bounds\n"
     ]
    },
    {
     "name": "stderr",
     "output_type": "stream",
     "text": [
      "$HAYN: possibly delisted; no price data found  (1d 2023-12-29 -> 2024-01-28) (Yahoo error = \"No data found, symbol may be delisted\")\n",
      "$PRXI: possibly delisted; no price data found  (1d 2023-12-29 -> 2024-01-28)\n"
     ]
    },
    {
     "name": "stdout",
     "output_type": "stream",
     "text": [
      "Error fetching data for HAYN: No historical data available for HAYN around 2024-01-28.\n",
      "Error fetching data for PRXI: No historical data available for PRXI around 2024-01-28.\n"
     ]
    },
    {
     "name": "stderr",
     "output_type": "stream",
     "text": [
      "$JOY: possibly delisted; no price data found  (1d 2023-12-29 -> 2024-01-28)\n"
     ]
    },
    {
     "name": "stdout",
     "output_type": "stream",
     "text": [
      "Error fetching data for JOY: No historical data available for JOY around 2024-01-28.\n"
     ]
    },
    {
     "name": "stderr",
     "output_type": "stream",
     "text": [
      "$BXP-B: possibly delisted; no timezone found\n"
     ]
    },
    {
     "name": "stdout",
     "output_type": "stream",
     "text": [
      "Error fetching data for BXP-B: No historical data available for BXP-B around 2024-01-28.\n"
     ]
    },
    {
     "name": "stderr",
     "output_type": "stream",
     "text": [
      "$HMA: possibly delisted; no timezone found\n",
      "$HIH: possibly delisted; no price data found  (1d 2023-12-29 -> 2024-01-28)\n"
     ]
    },
    {
     "name": "stdout",
     "output_type": "stream",
     "text": [
      "Error fetching data for HMA: No historical data available for HMA around 2024-01-28.\n",
      "Error fetching data for HIH: No historical data available for HIH around 2024-01-28.\n"
     ]
    },
    {
     "name": "stderr",
     "output_type": "stream",
     "text": [
      "$LIQD: possibly delisted; no price data found  (1d 2023-12-29 -> 2024-01-28)\n"
     ]
    },
    {
     "name": "stdout",
     "output_type": "stream",
     "text": [
      "Error fetching data for LIQD: No historical data available for LIQD around 2024-01-28.\n"
     ]
    },
    {
     "name": "stderr",
     "output_type": "stream",
     "text": [
      "$FSCFL: possibly delisted; no timezone found\n"
     ]
    },
    {
     "name": "stdout",
     "output_type": "stream",
     "text": [
      "Error fetching data for FSCFL: No historical data available for FSCFL around 2024-01-28.\n"
     ]
    },
    {
     "name": "stderr",
     "output_type": "stream",
     "text": [
      "$BPFHP: possibly delisted; no timezone found\n"
     ]
    },
    {
     "name": "stdout",
     "output_type": "stream",
     "text": [
      "Error fetching data for BPFHP: No historical data available for BPFHP around 2024-01-28.\n"
     ]
    },
    {
     "name": "stderr",
     "output_type": "stream",
     "text": [
      "$BKCC: possibly delisted; no timezone found\n"
     ]
    },
    {
     "name": "stdout",
     "output_type": "stream",
     "text": [
      "Error fetching data for BKCC: No historical data available for BKCC around 2024-01-28.\n"
     ]
    },
    {
     "name": "stderr",
     "output_type": "stream",
     "text": [
      "$TSS: possibly delisted; no timezone found\n"
     ]
    },
    {
     "name": "stdout",
     "output_type": "stream",
     "text": [
      "Error fetching data for TSS: No historical data available for TSS around 2024-01-28.\n"
     ]
    },
    {
     "name": "stderr",
     "output_type": "stream",
     "text": [
      "$UIHC: possibly delisted; no timezone found\n"
     ]
    },
    {
     "name": "stdout",
     "output_type": "stream",
     "text": [
      "Error fetching data for UIHC: No historical data available for UIHC around 2024-01-28.\n"
     ]
    },
    {
     "name": "stderr",
     "output_type": "stream",
     "text": [
      "$UBP: possibly delisted; no timezone found\n",
      "$GJK: possibly delisted; no price data found  (1d 2023-12-29 -> 2024-01-28)\n"
     ]
    },
    {
     "name": "stdout",
     "output_type": "stream",
     "text": [
      "Error fetching data for UBP: No historical data available for UBP around 2024-01-28.\n",
      "Error fetching data for GJK: No historical data available for GJK around 2024-01-28.\n"
     ]
    },
    {
     "name": "stderr",
     "output_type": "stream",
     "text": [
      "$MCBK: possibly delisted; no price data found  (period=1d)\n"
     ]
    },
    {
     "name": "stdout",
     "output_type": "stream",
     "text": [
      "Error fetching data for MCBK: single positional indexer is out-of-bounds\n"
     ]
    },
    {
     "name": "stderr",
     "output_type": "stream",
     "text": [
      "$MSCA: possibly delisted; no price data found  (1d 2023-12-29 -> 2024-01-28)\n",
      "$ACUR: possibly delisted; no price data found  (period=1d)\n"
     ]
    },
    {
     "name": "stdout",
     "output_type": "stream",
     "text": [
      "Error fetching data for MSCA: No historical data available for MSCA around 2024-01-28.\n",
      "Error fetching data for ACUR: single positional indexer is out-of-bounds\n"
     ]
    },
    {
     "name": "stderr",
     "output_type": "stream",
     "text": [
      "$CSFL: possibly delisted; no timezone found\n"
     ]
    },
    {
     "name": "stdout",
     "output_type": "stream",
     "text": [
      "Error fetching data for CSFL: No historical data available for CSFL around 2024-01-28.\n"
     ]
    },
    {
     "name": "stderr",
     "output_type": "stream",
     "text": [
      "$HCAP: possibly delisted; no timezone found\n",
      "$HCLP: possibly delisted; no price data found  (1d 2023-12-29 -> 2024-01-28)\n",
      "$ACW: possibly delisted; no price data found  (1d 2023-12-29 -> 2024-01-28)\n"
     ]
    },
    {
     "name": "stdout",
     "output_type": "stream",
     "text": [
      "Error fetching data for HCAP: No historical data available for HCAP around 2024-01-28.\n",
      "Error fetching data for HCLP: No historical data available for HCLP around 2024-01-28.\n",
      "Error fetching data for ACW: No historical data available for ACW around 2024-01-28.\n"
     ]
    },
    {
     "name": "stderr",
     "output_type": "stream",
     "text": [
      "$RVLT: possibly delisted; no timezone found\n",
      "$IFEU: possibly delisted; no price data found  (1d 2023-12-29 -> 2024-01-28)\n"
     ]
    },
    {
     "name": "stdout",
     "output_type": "stream",
     "text": [
      "Error fetching data for RVLT: No historical data available for RVLT around 2024-01-28.\n",
      "Error fetching data for IFEU: No historical data available for IFEU around 2024-01-28.\n"
     ]
    },
    {
     "name": "stderr",
     "output_type": "stream",
     "text": [
      "$FMBI: possibly delisted; no timezone found\n"
     ]
    },
    {
     "name": "stdout",
     "output_type": "stream",
     "text": [
      "Error fetching data for FMBI: No historical data available for FMBI around 2024-01-28.\n"
     ]
    },
    {
     "name": "stderr",
     "output_type": "stream",
     "text": [
      "$VCBI: possibly delisted; no price data found  (1d 2023-12-29 -> 2024-01-28)\n"
     ]
    },
    {
     "name": "stdout",
     "output_type": "stream",
     "text": [
      "Error fetching data for VCBI: No historical data available for VCBI around 2024-01-28.\n"
     ]
    },
    {
     "name": "stderr",
     "output_type": "stream",
     "text": [
      "$MRH-A: possibly delisted; no timezone found\n",
      "$MLU: possibly delisted; no price data found  (1d 2023-12-29 -> 2024-01-28)\n",
      "$DMND: possibly delisted; no price data found  (1d 2023-12-29 -> 2024-01-28)\n"
     ]
    },
    {
     "name": "stdout",
     "output_type": "stream",
     "text": [
      "Error fetching data for MRH-A: No historical data available for MRH-A around 2024-01-28.\n",
      "Error fetching data for MLU: No historical data available for MLU around 2024-01-28.\n",
      "Error fetching data for DMND: No historical data available for DMND around 2024-01-28.\n"
     ]
    },
    {
     "name": "stderr",
     "output_type": "stream",
     "text": [
      "$REIS: possibly delisted; no price data found  (1d 2023-12-29 -> 2024-01-28)\n"
     ]
    },
    {
     "name": "stdout",
     "output_type": "stream",
     "text": [
      "Error fetching data for REIS: No historical data available for REIS around 2024-01-28.\n"
     ]
    },
    {
     "name": "stderr",
     "output_type": "stream",
     "text": [
      "$CBMXW: possibly delisted; no timezone found\n"
     ]
    },
    {
     "name": "stdout",
     "output_type": "stream",
     "text": [
      "Error fetching data for CBMXW: No historical data available for CBMXW around 2024-01-28.\n"
     ]
    },
    {
     "name": "stderr",
     "output_type": "stream",
     "text": [
      "$HOVU: possibly delisted; no price data found  (1d 2023-12-29 -> 2024-01-28)\n"
     ]
    },
    {
     "name": "stdout",
     "output_type": "stream",
     "text": [
      "Error fetching data for HOVU: No historical data available for HOVU around 2024-01-28.\n"
     ]
    },
    {
     "name": "stderr",
     "output_type": "stream",
     "text": [
      "$BSTC: possibly delisted; no timezone found\n"
     ]
    },
    {
     "name": "stdout",
     "output_type": "stream",
     "text": [
      "Error fetching data for BSTC: No historical data available for BSTC around 2024-01-28.\n"
     ]
    },
    {
     "name": "stderr",
     "output_type": "stream",
     "text": [
      "$ALIM: possibly delisted; no timezone found\n"
     ]
    },
    {
     "name": "stdout",
     "output_type": "stream",
     "text": [
      "Error fetching data for ALIM: No historical data available for ALIM around 2024-01-28.\n"
     ]
    },
    {
     "name": "stderr",
     "output_type": "stream",
     "text": [
      "$AKO.B: possibly delisted; no timezone found\n",
      "$PF: possibly delisted; no price data found  (1d 2023-12-29 -> 2024-01-28)\n",
      "$SGNT: possibly delisted; no price data found  (1d 2023-12-29 -> 2024-01-28)\n"
     ]
    },
    {
     "name": "stdout",
     "output_type": "stream",
     "text": [
      "Error fetching data for AKO.B: No historical data available for AKO.B around 2024-01-28.\n",
      "Error fetching data for PF: No historical data available for PF around 2024-01-28.\n",
      "Error fetching data for SGNT: No historical data available for SGNT around 2024-01-28.\n"
     ]
    },
    {
     "name": "stderr",
     "output_type": "stream",
     "text": [
      "$VRNGW: possibly delisted; no timezone found\n"
     ]
    },
    {
     "name": "stdout",
     "output_type": "stream",
     "text": [
      "Error fetching data for VRNGW: No historical data available for VRNGW around 2024-01-28.\n"
     ]
    },
    {
     "name": "stderr",
     "output_type": "stream",
     "text": [
      "$CECE: possibly delisted; no timezone found\n"
     ]
    },
    {
     "name": "stdout",
     "output_type": "stream",
     "text": [
      "Error fetching data for CECE: No historical data available for CECE around 2024-01-28.\n"
     ]
    },
    {
     "name": "stderr",
     "output_type": "stream",
     "text": [
      "$AXS-C: possibly delisted; no timezone found\n"
     ]
    },
    {
     "name": "stdout",
     "output_type": "stream",
     "text": [
      "Error fetching data for AXS-C: No historical data available for AXS-C around 2024-01-28.\n"
     ]
    },
    {
     "name": "stderr",
     "output_type": "stream",
     "text": [
      "$SHPG: possibly delisted; no price data found  (1d 2023-12-29 -> 2024-01-28)\n",
      "$HW: possibly delisted; no price data found  (1d 2023-12-29 -> 2024-01-28)\n"
     ]
    },
    {
     "name": "stdout",
     "output_type": "stream",
     "text": [
      "Error fetching data for SHPG: No historical data available for SHPG around 2024-01-28.\n",
      "Error fetching data for HW: No historical data available for HW around 2024-01-28.\n"
     ]
    },
    {
     "name": "stderr",
     "output_type": "stream",
     "text": [
      "$RBS-L: possibly delisted; no timezone found\n"
     ]
    },
    {
     "name": "stdout",
     "output_type": "stream",
     "text": [
      "Error fetching data for RBS-L: No historical data available for RBS-L around 2024-01-28.\n"
     ]
    },
    {
     "name": "stderr",
     "output_type": "stream",
     "text": [
      "$MNTX: possibly delisted; no price data found  (period=1d)\n"
     ]
    },
    {
     "name": "stdout",
     "output_type": "stream",
     "text": [
      "Error fetching data for MNTX: single positional indexer is out-of-bounds\n"
     ]
    },
    {
     "name": "stderr",
     "output_type": "stream",
     "text": [
      "$LMNX: possibly delisted; no timezone found\n"
     ]
    },
    {
     "name": "stdout",
     "output_type": "stream",
     "text": [
      "Error fetching data for LMNX: No historical data available for LMNX around 2024-01-28.\n"
     ]
    },
    {
     "name": "stderr",
     "output_type": "stream",
     "text": [
      "$CAJ: possibly delisted; no timezone found\n"
     ]
    },
    {
     "name": "stdout",
     "output_type": "stream",
     "text": [
      "Error fetching data for CAJ: No historical data available for CAJ around 2024-01-28.\n"
     ]
    },
    {
     "name": "stderr",
     "output_type": "stream",
     "text": [
      "$BRK.A: possibly delisted; no timezone found\n"
     ]
    },
    {
     "name": "stdout",
     "output_type": "stream",
     "text": [
      "Error fetching data for BRK.A: No historical data available for BRK.A around 2024-01-28.\n"
     ]
    },
    {
     "name": "stderr",
     "output_type": "stream",
     "text": [
      "$CTU: possibly delisted; no price data found  (1d 2023-12-29 -> 2024-01-28)\n"
     ]
    },
    {
     "name": "stdout",
     "output_type": "stream",
     "text": [
      "Error fetching data for CTU: No historical data available for CTU around 2024-01-28.\n"
     ]
    },
    {
     "name": "stderr",
     "output_type": "stream",
     "text": [
      "$AIXG: possibly delisted; no price data found  (1d 2023-12-29 -> 2024-01-28)\n"
     ]
    },
    {
     "name": "stdout",
     "output_type": "stream",
     "text": [
      "Error fetching data for AIXG: No historical data available for AIXG around 2024-01-28.\n"
     ]
    },
    {
     "name": "stderr",
     "output_type": "stream",
     "text": [
      "$MEN: possibly delisted; no timezone found\n"
     ]
    },
    {
     "name": "stdout",
     "output_type": "stream",
     "text": [
      "Error fetching data for MEN: No historical data available for MEN around 2024-01-28.\n"
     ]
    },
    {
     "name": "stderr",
     "output_type": "stream",
     "text": [
      "$ZIOP: possibly delisted; no timezone found\n"
     ]
    },
    {
     "name": "stdout",
     "output_type": "stream",
     "text": [
      "Error fetching data for ZIOP: No historical data available for ZIOP around 2024-01-28.\n"
     ]
    },
    {
     "name": "stderr",
     "output_type": "stream",
     "text": [
      "$ACAS: possibly delisted; no price data found  (1d 2023-12-29 -> 2024-01-28)\n"
     ]
    },
    {
     "name": "stdout",
     "output_type": "stream",
     "text": [
      "Error fetching data for ACAS: No historical data available for ACAS around 2024-01-28.\n"
     ]
    },
    {
     "name": "stderr",
     "output_type": "stream",
     "text": [
      "$NXTM: possibly delisted; no timezone found\n"
     ]
    },
    {
     "name": "stdout",
     "output_type": "stream",
     "text": [
      "Error fetching data for NXTM: No historical data available for NXTM around 2024-01-28.\n"
     ]
    },
    {
     "name": "stderr",
     "output_type": "stream",
     "text": [
      "$JMF: possibly delisted; no timezone found\n"
     ]
    },
    {
     "name": "stdout",
     "output_type": "stream",
     "text": [
      "Error fetching data for JMF: No historical data available for JMF around 2024-01-28.\n"
     ]
    },
    {
     "name": "stderr",
     "output_type": "stream",
     "text": [
      "$SUMR: possibly delisted; no timezone found\n",
      "$LNBB: possibly delisted; no price data found  (1d 2023-12-29 -> 2024-01-28)\n",
      "$INZ: possibly delisted; no price data found  (1d 2023-12-29 -> 2024-01-28)\n"
     ]
    },
    {
     "name": "stdout",
     "output_type": "stream",
     "text": [
      "Error fetching data for SUMR: No historical data available for SUMR around 2024-01-28.\n",
      "Error fetching data for LNBB: No historical data available for LNBB around 2024-01-28.\n",
      "Error fetching data for INZ: No historical data available for INZ around 2024-01-28.\n"
     ]
    },
    {
     "name": "stderr",
     "output_type": "stream",
     "text": [
      "$ONTX: possibly delisted; no timezone found\n"
     ]
    },
    {
     "name": "stdout",
     "output_type": "stream",
     "text": [
      "Error fetching data for ONTX: No historical data available for ONTX around 2024-01-28.\n"
     ]
    },
    {
     "name": "stderr",
     "output_type": "stream",
     "text": [
      "$DCUA: possibly delisted; no timezone found\n"
     ]
    },
    {
     "name": "stdout",
     "output_type": "stream",
     "text": [
      "Error fetching data for DCUA: No historical data available for DCUA around 2024-01-28.\n"
     ]
    },
    {
     "name": "stderr",
     "output_type": "stream",
     "text": [
      "$MAYS: possibly delisted; no price data found  (period=1d)\n"
     ]
    },
    {
     "name": "stdout",
     "output_type": "stream",
     "text": [
      "Error fetching data for MAYS: single positional indexer is out-of-bounds\n"
     ]
    },
    {
     "name": "stderr",
     "output_type": "stream",
     "text": [
      "$NUCL: possibly delisted; no price data found  (1d 2023-12-29 -> 2024-01-28)\n"
     ]
    },
    {
     "name": "stdout",
     "output_type": "stream",
     "text": [
      "Error fetching data for NUCL: No historical data available for NUCL around 2024-01-28.\n"
     ]
    },
    {
     "name": "stderr",
     "output_type": "stream",
     "text": [
      "$NWLI: possibly delisted; no timezone found\n"
     ]
    },
    {
     "name": "stdout",
     "output_type": "stream",
     "text": [
      "Error fetching data for NWLI: No historical data available for NWLI around 2024-01-28.\n"
     ]
    },
    {
     "name": "stderr",
     "output_type": "stream",
     "text": [
      "$ACFC: possibly delisted; no price data found  (1d 2023-12-29 -> 2024-01-28)\n",
      "$GFIG: possibly delisted; no price data found  (1d 2023-12-29 -> 2024-01-28)\n"
     ]
    },
    {
     "name": "stdout",
     "output_type": "stream",
     "text": [
      "Error fetching data for ACFC: No historical data available for ACFC around 2024-01-28.\n",
      "Error fetching data for GFIG: No historical data available for GFIG around 2024-01-28.\n"
     ]
    },
    {
     "name": "stderr",
     "output_type": "stream",
     "text": [
      "$DYNT: possibly delisted; no price data found  (period=1d)\n"
     ]
    },
    {
     "name": "stdout",
     "output_type": "stream",
     "text": [
      "Error fetching data for DYNT: single positional indexer is out-of-bounds\n"
     ]
    },
    {
     "name": "stderr",
     "output_type": "stream",
     "text": [
      "$FIRE: possibly delisted; no price data found  (1d 2023-12-29 -> 2024-01-28)\n"
     ]
    },
    {
     "name": "stdout",
     "output_type": "stream",
     "text": [
      "Error fetching data for FIRE: No historical data available for FIRE around 2024-01-28.\n"
     ]
    },
    {
     "name": "stderr",
     "output_type": "stream",
     "text": [
      "$SYKE: possibly delisted; no timezone found\n",
      "$COGO: possibly delisted; no price data found  (1d 2023-12-29 -> 2024-01-28)\n",
      "$DFT: possibly delisted; no price data found  (1d 2023-12-29 -> 2024-01-28)\n"
     ]
    },
    {
     "name": "stdout",
     "output_type": "stream",
     "text": [
      "Error fetching data for SYKE: No historical data available for SYKE around 2024-01-28.\n",
      "Error fetching data for COGO: No historical data available for COGO around 2024-01-28.\n",
      "Error fetching data for DFT: No historical data available for DFT around 2024-01-28.\n"
     ]
    },
    {
     "name": "stderr",
     "output_type": "stream",
     "text": [
      "$WIBC: possibly delisted; no price data found  (1d 2023-12-29 -> 2024-01-28)\n"
     ]
    },
    {
     "name": "stdout",
     "output_type": "stream",
     "text": [
      "Error fetching data for WIBC: No historical data available for WIBC around 2024-01-28.\n"
     ]
    },
    {
     "name": "stderr",
     "output_type": "stream",
     "text": [
      "$NSR: possibly delisted; no timezone found\n"
     ]
    },
    {
     "name": "stdout",
     "output_type": "stream",
     "text": [
      "Error fetching data for NSR: No historical data available for NSR around 2024-01-28.\n"
     ]
    },
    {
     "name": "stderr",
     "output_type": "stream",
     "text": [
      "$CGG: possibly delisted; no price data found  (1d 2023-12-29 -> 2024-01-28)\n"
     ]
    },
    {
     "name": "stdout",
     "output_type": "stream",
     "text": [
      "Error fetching data for CGG: No historical data available for CGG around 2024-01-28.\n"
     ]
    },
    {
     "name": "stderr",
     "output_type": "stream",
     "text": [
      "$PPR: possibly delisted; no timezone found\n"
     ]
    },
    {
     "name": "stdout",
     "output_type": "stream",
     "text": [
      "Error fetching data for PPR: No historical data available for PPR around 2024-01-28.\n"
     ]
    },
    {
     "name": "stderr",
     "output_type": "stream",
     "text": [
      "$GTXI: possibly delisted; no timezone found\n"
     ]
    },
    {
     "name": "stdout",
     "output_type": "stream",
     "text": [
      "Error fetching data for GTXI: No historical data available for GTXI around 2024-01-28.\n"
     ]
    },
    {
     "name": "stderr",
     "output_type": "stream",
     "text": [
      "$BKYF: possibly delisted; no price data found  (1d 2023-12-29 -> 2024-01-28)\n"
     ]
    },
    {
     "name": "stdout",
     "output_type": "stream",
     "text": [
      "Error fetching data for BKYF: No historical data available for BKYF around 2024-01-28.\n"
     ]
    },
    {
     "name": "stderr",
     "output_type": "stream",
     "text": [
      "$INWK: possibly delisted; no timezone found\n"
     ]
    },
    {
     "name": "stdout",
     "output_type": "stream",
     "text": [
      "Error fetching data for INWK: No historical data available for INWK around 2024-01-28.\n"
     ]
    },
    {
     "name": "stderr",
     "output_type": "stream",
     "text": [
      "$BEE-B: possibly delisted; no timezone found\n"
     ]
    },
    {
     "name": "stdout",
     "output_type": "stream",
     "text": [
      "Error fetching data for BEE-B: No historical data available for BEE-B around 2024-01-28.\n"
     ]
    },
    {
     "name": "stderr",
     "output_type": "stream",
     "text": [
      "$RBS-R: possibly delisted; no timezone found\n",
      "$PBIB: possibly delisted; no price data found  (1d 2023-12-29 -> 2024-01-28)\n"
     ]
    },
    {
     "name": "stdout",
     "output_type": "stream",
     "text": [
      "Error fetching data for RBS-R: No historical data available for RBS-R around 2024-01-28.\n",
      "Error fetching data for PBIB: No historical data available for PBIB around 2024-01-28.\n"
     ]
    },
    {
     "name": "stderr",
     "output_type": "stream",
     "text": [
      "$ENG: possibly delisted; no price data found  (period=1d)\n"
     ]
    },
    {
     "name": "stdout",
     "output_type": "stream",
     "text": [
      "Error fetching data for ENG: single positional indexer is out-of-bounds\n"
     ]
    },
    {
     "name": "stderr",
     "output_type": "stream",
     "text": [
      "$JBJ: possibly delisted; no price data found  (1d 2023-12-29 -> 2024-01-28)\n"
     ]
    },
    {
     "name": "stdout",
     "output_type": "stream",
     "text": [
      "Error fetching data for JBJ: No historical data available for JBJ around 2024-01-28.\n"
     ]
    },
    {
     "name": "stderr",
     "output_type": "stream",
     "text": [
      "$INT: possibly delisted; no timezone found\n"
     ]
    },
    {
     "name": "stdout",
     "output_type": "stream",
     "text": [
      "Error fetching data for INT: No historical data available for INT around 2024-01-28.\n"
     ]
    },
    {
     "name": "stderr",
     "output_type": "stream",
     "text": [
      "$WAFDW: possibly delisted; no timezone found\n"
     ]
    },
    {
     "name": "stdout",
     "output_type": "stream",
     "text": [
      "Error fetching data for WAFDW: No historical data available for WAFDW around 2024-01-28.\n"
     ]
    },
    {
     "name": "stderr",
     "output_type": "stream",
     "text": [
      "$CKEC: possibly delisted; no price data found  (1d 2023-12-29 -> 2024-01-28)\n"
     ]
    },
    {
     "name": "stdout",
     "output_type": "stream",
     "text": [
      "Error fetching data for CKEC: No historical data available for CKEC around 2024-01-28.\n"
     ]
    },
    {
     "name": "stderr",
     "output_type": "stream",
     "text": [
      "$FST: possibly delisted; no timezone found\n",
      "$PYG: possibly delisted; no price data found  (1d 2023-12-29 -> 2024-01-28)\n",
      "$DEG: possibly delisted; no price data found  (1d 2023-12-29 -> 2024-01-28)\n"
     ]
    },
    {
     "name": "stdout",
     "output_type": "stream",
     "text": [
      "Error fetching data for FST: No historical data available for FST around 2024-01-28.\n",
      "Error fetching data for PYG: No historical data available for PYG around 2024-01-28.\n",
      "Error fetching data for DEG: No historical data available for DEG around 2024-01-28.\n"
     ]
    },
    {
     "name": "stderr",
     "output_type": "stream",
     "text": [
      "$PL-E: possibly delisted; no timezone found\n"
     ]
    },
    {
     "name": "stdout",
     "output_type": "stream",
     "text": [
      "Error fetching data for PL-E: No historical data available for PL-E around 2024-01-28.\n"
     ]
    },
    {
     "name": "stderr",
     "output_type": "stream",
     "text": [
      "$DRYS: possibly delisted; no timezone found\n"
     ]
    },
    {
     "name": "stdout",
     "output_type": "stream",
     "text": [
      "Error fetching data for DRYS: No historical data available for DRYS around 2024-01-28.\n"
     ]
    },
    {
     "name": "stderr",
     "output_type": "stream",
     "text": [
      "$TROV: possibly delisted; no timezone found\n"
     ]
    },
    {
     "name": "stdout",
     "output_type": "stream",
     "text": [
      "Error fetching data for TROV: No historical data available for TROV around 2024-01-28.\n"
     ]
    },
    {
     "name": "stderr",
     "output_type": "stream",
     "text": [
      "$ZN: possibly delisted; no timezone found\n",
      "$SGK: possibly delisted; no price data found  (1d 2023-12-29 -> 2024-01-28)\n"
     ]
    },
    {
     "name": "stdout",
     "output_type": "stream",
     "text": [
      "Error fetching data for ZN: No historical data available for ZN around 2024-01-28.\n",
      "Error fetching data for SGK: No historical data available for SGK around 2024-01-28.\n"
     ]
    },
    {
     "name": "stderr",
     "output_type": "stream",
     "text": [
      "$SAN-A: possibly delisted; no timezone found\n"
     ]
    },
    {
     "name": "stdout",
     "output_type": "stream",
     "text": [
      "Error fetching data for SAN-A: No historical data available for SAN-A around 2024-01-28.\n"
     ]
    },
    {
     "name": "stderr",
     "output_type": "stream",
     "text": [
      "$BXS: possibly delisted; no timezone found\n",
      "$ABX: possibly delisted; no price data found  (1d 2023-12-29 -> 2024-01-28)\n",
      "$DCM: possibly delisted; no price data found  (1d 2023-12-29 -> 2024-01-28)\n"
     ]
    },
    {
     "name": "stdout",
     "output_type": "stream",
     "text": [
      "Error fetching data for BXS: No historical data available for BXS around 2024-01-28.\n",
      "Error fetching data for ABX: No historical data available for ABX around 2024-01-28.\n",
      "Error fetching data for DCM: No historical data available for DCM around 2024-01-28.\n"
     ]
    },
    {
     "name": "stderr",
     "output_type": "stream",
     "text": [
      "$ACO: possibly delisted; no price data found  (1d 2023-12-29 -> 2024-01-28)\n"
     ]
    },
    {
     "name": "stdout",
     "output_type": "stream",
     "text": [
      "Error fetching data for ACO: No historical data available for ACO around 2024-01-28.\n"
     ]
    },
    {
     "name": "stderr",
     "output_type": "stream",
     "text": [
      "$MNP: possibly delisted; no timezone found\n"
     ]
    },
    {
     "name": "stdout",
     "output_type": "stream",
     "text": [
      "Error fetching data for MNP: No historical data available for MNP around 2024-01-28.\n"
     ]
    },
    {
     "name": "stderr",
     "output_type": "stream",
     "text": [
      "$KFH: possibly delisted; no timezone found\n"
     ]
    },
    {
     "name": "stdout",
     "output_type": "stream",
     "text": [
      "Error fetching data for KFH: No historical data available for KFH around 2024-01-28.\n"
     ]
    },
    {
     "name": "stderr",
     "output_type": "stream",
     "text": [
      "$CFC-B: possibly delisted; no timezone found\n"
     ]
    },
    {
     "name": "stdout",
     "output_type": "stream",
     "text": [
      "Error fetching data for CFC-B: No historical data available for CFC-B around 2024-01-28.\n"
     ]
    },
    {
     "name": "stderr",
     "output_type": "stream",
     "text": [
      "$HCS: possibly delisted; no price data found  (1d 2023-12-29 -> 2024-01-28)\n"
     ]
    },
    {
     "name": "stdout",
     "output_type": "stream",
     "text": [
      "Error fetching data for HCS: No historical data available for HCS around 2024-01-28.\n"
     ]
    },
    {
     "name": "stderr",
     "output_type": "stream",
     "text": [
      "$RRD: possibly delisted; no timezone found\n"
     ]
    },
    {
     "name": "stdout",
     "output_type": "stream",
     "text": [
      "Error fetching data for RRD: No historical data available for RRD around 2024-01-28.\n"
     ]
    },
    {
     "name": "stderr",
     "output_type": "stream",
     "text": [
      "$CNW: possibly delisted; no price data found  (1d 2023-12-29 -> 2024-01-28)\n"
     ]
    },
    {
     "name": "stdout",
     "output_type": "stream",
     "text": [
      "Error fetching data for CNW: No historical data available for CNW around 2024-01-28.\n"
     ]
    },
    {
     "name": "stderr",
     "output_type": "stream",
     "text": [
      "$CBR: possibly delisted; no price data found  (1d 2023-12-29 -> 2024-01-28)\n"
     ]
    },
    {
     "name": "stdout",
     "output_type": "stream",
     "text": [
      "Error fetching data for CBR: No historical data available for CBR around 2024-01-28.\n"
     ]
    },
    {
     "name": "stderr",
     "output_type": "stream",
     "text": [
      "$SCX: possibly delisted; no timezone found\n"
     ]
    },
    {
     "name": "stdout",
     "output_type": "stream",
     "text": [
      "Error fetching data for SCX: No historical data available for SCX around 2024-01-28.\n"
     ]
    },
    {
     "name": "stderr",
     "output_type": "stream",
     "text": [
      "$CELGZ: possibly delisted; no timezone found\n"
     ]
    },
    {
     "name": "stdout",
     "output_type": "stream",
     "text": [
      "Error fetching data for CELGZ: No historical data available for CELGZ around 2024-01-28.\n"
     ]
    },
    {
     "name": "stderr",
     "output_type": "stream",
     "text": [
      "$STI.B: possibly delisted; no price data found  (1d 2023-12-29 -> 2024-01-28)\n"
     ]
    },
    {
     "name": "stdout",
     "output_type": "stream",
     "text": [
      "Error fetching data for STI.B: No historical data available for STI.B around 2024-01-28.\n"
     ]
    },
    {
     "name": "stderr",
     "output_type": "stream",
     "text": [
      "$KFN.P: possibly delisted; no timezone found\n"
     ]
    },
    {
     "name": "stdout",
     "output_type": "stream",
     "text": [
      "Error fetching data for KFN.P: No historical data available for KFN.P around 2024-01-28.\n"
     ]
    },
    {
     "name": "stderr",
     "output_type": "stream",
     "text": [
      "$MTS: possibly delisted; no price data found  (period=1d)\n",
      "$USMD: possibly delisted; no price data found  (1d 2023-12-29 -> 2024-01-28)\n"
     ]
    },
    {
     "name": "stdout",
     "output_type": "stream",
     "text": [
      "Error fetching data for MTS: single positional indexer is out-of-bounds\n",
      "Error fetching data for USMD: No historical data available for USMD around 2024-01-28.\n"
     ]
    },
    {
     "name": "stderr",
     "output_type": "stream",
     "text": [
      "Failed to get ticker 'LAWS' reason: Expecting value: line 1 column 1 (char 0)\n",
      "$LAWS: possibly delisted; no timezone found\n"
     ]
    },
    {
     "name": "stdout",
     "output_type": "stream",
     "text": [
      "Error fetching data for LAWS: No historical data available for LAWS around 2024-01-28.\n"
     ]
    },
    {
     "name": "stderr",
     "output_type": "stream",
     "text": [
      "$OMER: possibly delisted; no price data found  (1d 2023-12-29 -> 2024-01-28)\n"
     ]
    },
    {
     "name": "stdout",
     "output_type": "stream",
     "text": [
      "Error fetching data for OMER: No historical data available for OMER around 2024-01-28.\n"
     ]
    },
    {
     "name": "stderr",
     "output_type": "stream",
     "text": [
      "$COLM: possibly delisted; no price data found  (1d 2023-12-29 -> 2024-01-28)\n"
     ]
    },
    {
     "name": "stdout",
     "output_type": "stream",
     "text": [
      "Error fetching data for COLM: No historical data available for COLM around 2024-01-28.\n"
     ]
    },
    {
     "name": "stderr",
     "output_type": "stream",
     "text": [
      "$PEBO: possibly delisted; no price data found  (1d 2023-12-29 -> 2024-01-28)\n"
     ]
    },
    {
     "name": "stdout",
     "output_type": "stream",
     "text": [
      "Error fetching data for PEBO: No historical data available for PEBO around 2024-01-28.\n"
     ]
    },
    {
     "name": "stderr",
     "output_type": "stream",
     "text": [
      "$FCT: possibly delisted; no price data found  (1d 2023-12-29 -> 2024-01-28)\n"
     ]
    },
    {
     "name": "stdout",
     "output_type": "stream",
     "text": [
      "Error fetching data for FCT: No historical data available for FCT around 2024-01-28.\n"
     ]
    },
    {
     "name": "stderr",
     "output_type": "stream",
     "text": [
      "$FLO: possibly delisted; no price data found  (1d 2023-12-29 -> 2024-01-28)\n"
     ]
    },
    {
     "name": "stdout",
     "output_type": "stream",
     "text": [
      "Error fetching data for FLO: No historical data available for FLO around 2024-01-28.\n"
     ]
    },
    {
     "name": "stderr",
     "output_type": "stream",
     "text": [
      "$PMC: possibly delisted; no price data found  (1d 2023-12-29 -> 2024-01-28)\n"
     ]
    },
    {
     "name": "stdout",
     "output_type": "stream",
     "text": [
      "Error fetching data for PMC: No historical data available for PMC around 2024-01-28.\n"
     ]
    },
    {
     "name": "stderr",
     "output_type": "stream",
     "text": [
      "$INPH: possibly delisted; no price data found  (1d 2023-12-29 -> 2024-01-28)\n"
     ]
    },
    {
     "name": "stdout",
     "output_type": "stream",
     "text": [
      "Error fetching data for INPH: No historical data available for INPH around 2024-01-28.\n"
     ]
    },
    {
     "name": "stderr",
     "output_type": "stream",
     "text": [
      "$AI: possibly delisted; no price data found  (1d 2023-12-29 -> 2024-01-28)\n"
     ]
    },
    {
     "name": "stdout",
     "output_type": "stream",
     "text": [
      "Error fetching data for AI: No historical data available for AI around 2024-01-28.\n"
     ]
    },
    {
     "name": "stderr",
     "output_type": "stream",
     "text": [
      "$CPA: possibly delisted; no price data found  (1d 2023-12-29 -> 2024-01-28)\n"
     ]
    },
    {
     "name": "stdout",
     "output_type": "stream",
     "text": [
      "Error fetching data for CPA: No historical data available for CPA around 2024-01-28.\n"
     ]
    },
    {
     "name": "stderr",
     "output_type": "stream",
     "text": [
      "Failed to get ticker 'WSFSL' reason: Expecting value: line 1 column 1 (char 0)\n",
      "$WSFSL: possibly delisted; no timezone found\n"
     ]
    },
    {
     "name": "stdout",
     "output_type": "stream",
     "text": [
      "Error fetching data for WSFSL: No historical data available for WSFSL around 2024-01-28.\n"
     ]
    },
    {
     "name": "stderr",
     "output_type": "stream",
     "text": [
      "Failed to get ticker 'CLW' reason: Expecting value: line 1 column 1 (char 0)\n",
      "$CLW: possibly delisted; no timezone found\n"
     ]
    },
    {
     "name": "stdout",
     "output_type": "stream",
     "text": [
      "Error fetching data for CLW: No historical data available for CLW around 2024-01-28.\n"
     ]
    },
    {
     "name": "stderr",
     "output_type": "stream",
     "text": [
      "Failed to get ticker 'LSI' reason: Expecting value: line 1 column 1 (char 0)\n",
      "$LSI: possibly delisted; no timezone found\n"
     ]
    },
    {
     "name": "stdout",
     "output_type": "stream",
     "text": [
      "Error fetching data for LSI: No historical data available for LSI around 2024-01-28.\n"
     ]
    },
    {
     "name": "stderr",
     "output_type": "stream",
     "text": [
      "Failed to get ticker 'GHL' reason: Expecting value: line 1 column 1 (char 0)\n",
      "$GHL: possibly delisted; no timezone found\n"
     ]
    },
    {
     "name": "stdout",
     "output_type": "stream",
     "text": [
      "Error fetching data for GHL: No historical data available for GHL around 2024-01-28.\n"
     ]
    },
    {
     "name": "stderr",
     "output_type": "stream",
     "text": [
      "$ITRI: possibly delisted; no price data found  (1d 2023-12-29 -> 2024-01-28)\n"
     ]
    },
    {
     "name": "stdout",
     "output_type": "stream",
     "text": [
      "Error fetching data for ITRI: No historical data available for ITRI around 2024-01-28.\n"
     ]
    },
    {
     "name": "stderr",
     "output_type": "stream",
     "text": [
      "Failed to get ticker 'IFSM' reason: Expecting value: line 1 column 1 (char 0)\n",
      "$IFSM: possibly delisted; no timezone found\n"
     ]
    },
    {
     "name": "stdout",
     "output_type": "stream",
     "text": [
      "Error fetching data for IFSM: No historical data available for IFSM around 2024-01-28.\n"
     ]
    },
    {
     "name": "stderr",
     "output_type": "stream",
     "text": [
      "Failed to get ticker 'NCO' reason: Expecting value: line 1 column 1 (char 0)\n",
      "$NCO: possibly delisted; no timezone found\n"
     ]
    },
    {
     "name": "stdout",
     "output_type": "stream",
     "text": [
      "Error fetching data for NCO: No historical data available for NCO around 2024-01-28.\n"
     ]
    },
    {
     "name": "stderr",
     "output_type": "stream",
     "text": [
      "$NMFC: possibly delisted; no price data found  (1d 2023-12-29 -> 2024-01-28)\n"
     ]
    },
    {
     "name": "stdout",
     "output_type": "stream",
     "text": [
      "Error fetching data for NMFC: No historical data available for NMFC around 2024-01-28.\n"
     ]
    },
    {
     "name": "stderr",
     "output_type": "stream",
     "text": [
      "Failed to get ticker 'RBS-E' reason: Expecting value: line 1 column 1 (char 0)\n",
      "$RBS-E: possibly delisted; no timezone found\n"
     ]
    },
    {
     "name": "stdout",
     "output_type": "stream",
     "text": [
      "Error fetching data for RBS-E: No historical data available for RBS-E around 2024-01-28.\n"
     ]
    },
    {
     "name": "stderr",
     "output_type": "stream",
     "text": [
      "Failed to get ticker 'NUVA' reason: Expecting value: line 1 column 1 (char 0)\n",
      "$NUVA: possibly delisted; no timezone found\n"
     ]
    },
    {
     "name": "stdout",
     "output_type": "stream",
     "text": [
      "Error fetching data for NUVA: No historical data available for NUVA around 2024-01-28.\n"
     ]
    },
    {
     "name": "stderr",
     "output_type": "stream",
     "text": [
      "Failed to get ticker 'CEO' reason: Expecting value: line 1 column 1 (char 0)\n",
      "$CEO: possibly delisted; no timezone found\n"
     ]
    },
    {
     "name": "stdout",
     "output_type": "stream",
     "text": [
      "Error fetching data for CEO: No historical data available for CEO around 2024-01-28.\n"
     ]
    },
    {
     "name": "stderr",
     "output_type": "stream",
     "text": [
      "$MYD: possibly delisted; no price data found  (1d 2023-12-29 -> 2024-01-28)\n"
     ]
    },
    {
     "name": "stdout",
     "output_type": "stream",
     "text": [
      "Error fetching data for MYD: No historical data available for MYD around 2024-01-28.\n"
     ]
    },
    {
     "name": "stderr",
     "output_type": "stream",
     "text": [
      "$CRIS: possibly delisted; no price data found  (1d 2023-12-29 -> 2024-01-28)\n"
     ]
    },
    {
     "name": "stdout",
     "output_type": "stream",
     "text": [
      "Error fetching data for CRIS: No historical data available for CRIS around 2024-01-28.\n"
     ]
    },
    {
     "name": "stderr",
     "output_type": "stream",
     "text": [
      "Failed to get ticker 'PNC-P' reason: Expecting value: line 1 column 1 (char 0)\n",
      "$PNC-P: possibly delisted; no timezone found\n"
     ]
    },
    {
     "name": "stdout",
     "output_type": "stream",
     "text": [
      "Error fetching data for PNC-P: No historical data available for PNC-P around 2024-01-28.\n"
     ]
    },
    {
     "name": "stderr",
     "output_type": "stream",
     "text": [
      "$UNXL: possibly delisted; no price data found  (1d 2023-12-29 -> 2024-01-28)\n"
     ]
    },
    {
     "name": "stdout",
     "output_type": "stream",
     "text": [
      "Error fetching data for UNXL: No historical data available for UNXL around 2024-01-28.\n"
     ]
    },
    {
     "name": "stderr",
     "output_type": "stream",
     "text": [
      "$QLGC: possibly delisted; no price data found  (1d 2023-12-29 -> 2024-01-28)\n"
     ]
    },
    {
     "name": "stdout",
     "output_type": "stream",
     "text": [
      "Error fetching data for QLGC: No historical data available for QLGC around 2024-01-28.\n"
     ]
    },
    {
     "name": "stderr",
     "output_type": "stream",
     "text": [
      "$DMRC: possibly delisted; no price data found  (1d 2023-12-29 -> 2024-01-28)\n"
     ]
    },
    {
     "name": "stdout",
     "output_type": "stream",
     "text": [
      "Error fetching data for DMRC: No historical data available for DMRC around 2024-01-28.\n"
     ]
    },
    {
     "name": "stderr",
     "output_type": "stream",
     "text": [
      "Failed to get ticker 'ZB-A' reason: Expecting value: line 1 column 1 (char 0)\n",
      "$ZB-A: possibly delisted; no timezone found\n"
     ]
    },
    {
     "name": "stdout",
     "output_type": "stream",
     "text": [
      "Error fetching data for ZB-A: No historical data available for ZB-A around 2024-01-28.\n"
     ]
    },
    {
     "name": "stderr",
     "output_type": "stream",
     "text": [
      "Failed to get ticker 'ARR-B' reason: Expecting value: line 1 column 1 (char 0)\n",
      "$ARR-B: possibly delisted; no timezone found\n"
     ]
    },
    {
     "name": "stdout",
     "output_type": "stream",
     "text": [
      "Error fetching data for ARR-B: No historical data available for ARR-B around 2024-01-28.\n"
     ]
    },
    {
     "name": "stderr",
     "output_type": "stream",
     "text": [
      "$GLF: possibly delisted; no price data found  (1d 2023-12-29 -> 2024-01-28)\n"
     ]
    },
    {
     "name": "stdout",
     "output_type": "stream",
     "text": [
      "Error fetching data for GLF: No historical data available for GLF around 2024-01-28.\n"
     ]
    },
    {
     "name": "stderr",
     "output_type": "stream",
     "text": [
      "Failed to get ticker 'HBK' reason: Expecting value: line 1 column 1 (char 0)\n",
      "$HBK: possibly delisted; no timezone found\n"
     ]
    },
    {
     "name": "stdout",
     "output_type": "stream",
     "text": [
      "Error fetching data for HBK: No historical data available for HBK around 2024-01-28.\n"
     ]
    },
    {
     "name": "stderr",
     "output_type": "stream",
     "text": [
      "Failed to get ticker 'LULU' reason: Expecting value: line 1 column 1 (char 0)\n",
      "$LULU: possibly delisted; no timezone found\n"
     ]
    },
    {
     "name": "stdout",
     "output_type": "stream",
     "text": [
      "Error fetching data for LULU: No historical data available for LULU around 2024-01-28.\n"
     ]
    },
    {
     "name": "stderr",
     "output_type": "stream",
     "text": [
      "$VYFC: possibly delisted; no price data found  (1d 2023-12-29 -> 2024-01-28)\n"
     ]
    },
    {
     "name": "stdout",
     "output_type": "stream",
     "text": [
      "Error fetching data for VYFC: No historical data available for VYFC around 2024-01-28.\n"
     ]
    },
    {
     "name": "stderr",
     "output_type": "stream",
     "text": [
      "$TFSL: possibly delisted; no price data found  (1d 2023-12-29 -> 2024-01-28)\n"
     ]
    },
    {
     "name": "stdout",
     "output_type": "stream",
     "text": [
      "Error fetching data for TFSL: No historical data available for TFSL around 2024-01-28.\n"
     ]
    },
    {
     "name": "stderr",
     "output_type": "stream",
     "text": [
      "$LIVE: possibly delisted; no price data found  (1d 2023-12-29 -> 2024-01-28)\n"
     ]
    },
    {
     "name": "stdout",
     "output_type": "stream",
     "text": [
      "Error fetching data for LIVE: No historical data available for LIVE around 2024-01-28.\n"
     ]
    },
    {
     "name": "stderr",
     "output_type": "stream",
     "text": [
      "$COKE: possibly delisted; no price data found  (1d 2023-12-29 -> 2024-01-28)\n"
     ]
    },
    {
     "name": "stdout",
     "output_type": "stream",
     "text": [
      "Error fetching data for COKE: No historical data available for COKE around 2024-01-28.\n"
     ]
    },
    {
     "name": "stderr",
     "output_type": "stream",
     "text": [
      "$FOX: possibly delisted; no price data found  (1d 2023-12-29 -> 2024-01-28)\n"
     ]
    },
    {
     "name": "stdout",
     "output_type": "stream",
     "text": [
      "Error fetching data for FOX: No historical data available for FOX around 2024-01-28.\n"
     ]
    },
    {
     "name": "stderr",
     "output_type": "stream",
     "text": [
      "$PHD: possibly delisted; no price data found  (1d 2023-12-29 -> 2024-01-28)\n"
     ]
    },
    {
     "name": "stdout",
     "output_type": "stream",
     "text": [
      "Error fetching data for PHD: No historical data available for PHD around 2024-01-28.\n"
     ]
    },
    {
     "name": "stderr",
     "output_type": "stream",
     "text": [
      "$AEM: possibly delisted; no price data found  (1d 2023-12-29 -> 2024-01-28)\n"
     ]
    },
    {
     "name": "stdout",
     "output_type": "stream",
     "text": [
      "Error fetching data for AEM: No historical data available for AEM around 2024-01-28.\n"
     ]
    },
    {
     "name": "stderr",
     "output_type": "stream",
     "text": [
      "$IGR: possibly delisted; no price data found  (1d 2023-12-29 -> 2024-01-28)\n"
     ]
    },
    {
     "name": "stdout",
     "output_type": "stream",
     "text": [
      "Error fetching data for IGR: No historical data available for IGR around 2024-01-28.\n"
     ]
    },
    {
     "name": "stderr",
     "output_type": "stream",
     "text": [
      "Failed to get ticker 'HPP-B' reason: Expecting value: line 1 column 1 (char 0)\n",
      "$HPP-B: possibly delisted; no timezone found\n"
     ]
    },
    {
     "name": "stdout",
     "output_type": "stream",
     "text": [
      "Error fetching data for HPP-B: No historical data available for HPP-B around 2024-01-28.\n"
     ]
    },
    {
     "name": "stderr",
     "output_type": "stream",
     "text": [
      "$ARW: possibly delisted; no price data found  (1d 2023-12-29 -> 2024-01-28)\n"
     ]
    },
    {
     "name": "stdout",
     "output_type": "stream",
     "text": [
      "Error fetching data for ARW: No historical data available for ARW around 2024-01-28.\n"
     ]
    },
    {
     "name": "stderr",
     "output_type": "stream",
     "text": [
      "$MGA: possibly delisted; no price data found  (1d 2023-12-29 -> 2024-01-28)\n"
     ]
    },
    {
     "name": "stdout",
     "output_type": "stream",
     "text": [
      "Error fetching data for MGA: No historical data available for MGA around 2024-01-28.\n"
     ]
    },
    {
     "name": "stderr",
     "output_type": "stream",
     "text": [
      "Failed to get ticker 'PJH' reason: Expecting value: line 1 column 1 (char 0)\n",
      "$PJH: possibly delisted; no timezone found\n"
     ]
    },
    {
     "name": "stdout",
     "output_type": "stream",
     "text": [
      "Error fetching data for PJH: No historical data available for PJH around 2024-01-28.\n"
     ]
    },
    {
     "name": "stderr",
     "output_type": "stream",
     "text": [
      "$TAYCP: possibly delisted; no price data found  (1d 2023-12-29 -> 2024-01-28)\n"
     ]
    },
    {
     "name": "stdout",
     "output_type": "stream",
     "text": [
      "Error fetching data for TAYCP: No historical data available for TAYCP around 2024-01-28.\n"
     ]
    },
    {
     "name": "stderr",
     "output_type": "stream",
     "text": [
      "$SPCHB: possibly delisted; no price data found  (1d 2023-12-29 -> 2024-01-28)\n"
     ]
    },
    {
     "name": "stdout",
     "output_type": "stream",
     "text": [
      "Error fetching data for SPCHB: No historical data available for SPCHB around 2024-01-28.\n"
     ]
    },
    {
     "name": "stderr",
     "output_type": "stream",
     "text": [
      "$NC: possibly delisted; no price data found  (1d 2023-12-29 -> 2024-01-28)\n"
     ]
    },
    {
     "name": "stdout",
     "output_type": "stream",
     "text": [
      "Error fetching data for NC: No historical data available for NC around 2024-01-28.\n"
     ]
    },
    {
     "name": "stderr",
     "output_type": "stream",
     "text": [
      "$PENN: possibly delisted; no price data found  (1d 2023-12-29 -> 2024-01-28)\n"
     ]
    },
    {
     "name": "stdout",
     "output_type": "stream",
     "text": [
      "Error fetching data for PENN: No historical data available for PENN around 2024-01-28.\n"
     ]
    },
    {
     "name": "stderr",
     "output_type": "stream",
     "text": [
      "Failed to get ticker 'MDSO' reason: Expecting value: line 1 column 1 (char 0)\n",
      "$MDSO: possibly delisted; no timezone found\n"
     ]
    },
    {
     "name": "stdout",
     "output_type": "stream",
     "text": [
      "Error fetching data for MDSO: No historical data available for MDSO around 2024-01-28.\n"
     ]
    },
    {
     "name": "stderr",
     "output_type": "stream",
     "text": [
      "$PESI: possibly delisted; no price data found  (1d 2023-12-29 -> 2024-01-28)\n"
     ]
    },
    {
     "name": "stdout",
     "output_type": "stream",
     "text": [
      "Error fetching data for PESI: No historical data available for PESI around 2024-01-28.\n"
     ]
    },
    {
     "name": "stderr",
     "output_type": "stream",
     "text": [
      "Failed to get ticker 'TTPH' reason: Expecting value: line 1 column 1 (char 0)\n",
      "$TTPH: possibly delisted; no timezone found\n"
     ]
    },
    {
     "name": "stdout",
     "output_type": "stream",
     "text": [
      "Error fetching data for TTPH: No historical data available for TTPH around 2024-01-28.\n"
     ]
    },
    {
     "name": "stderr",
     "output_type": "stream",
     "text": [
      "Failed to get ticker 'MICTW' reason: Expecting value: line 1 column 1 (char 0)\n",
      "$MICTW: possibly delisted; no timezone found\n"
     ]
    },
    {
     "name": "stdout",
     "output_type": "stream",
     "text": [
      "Error fetching data for MICTW: No historical data available for MICTW around 2024-01-28.\n"
     ]
    },
    {
     "name": "stderr",
     "output_type": "stream",
     "text": [
      "$PKT: possibly delisted; no price data found  (1d 2023-12-29 -> 2024-01-28)\n"
     ]
    },
    {
     "name": "stdout",
     "output_type": "stream",
     "text": [
      "Error fetching data for PKT: No historical data available for PKT around 2024-01-28.\n"
     ]
    },
    {
     "name": "stderr",
     "output_type": "stream",
     "text": [
      "$ASBCW: possibly delisted; no price data found  (1d 2023-12-29 -> 2024-01-28)\n"
     ]
    },
    {
     "name": "stdout",
     "output_type": "stream",
     "text": [
      "Error fetching data for ASBCW: No historical data available for ASBCW around 2024-01-28.\n"
     ]
    },
    {
     "name": "stderr",
     "output_type": "stream",
     "text": [
      "Failed to get ticker 'ORBC' reason: Expecting value: line 1 column 1 (char 0)\n",
      "$ORBC: possibly delisted; no timezone found\n"
     ]
    },
    {
     "name": "stdout",
     "output_type": "stream",
     "text": [
      "Error fetching data for ORBC: No historical data available for ORBC around 2024-01-28.\n"
     ]
    },
    {
     "name": "stderr",
     "output_type": "stream",
     "text": [
      "$LTM: possibly delisted; no price data found  (1d 2023-12-29 -> 2024-01-28)\n"
     ]
    },
    {
     "name": "stdout",
     "output_type": "stream",
     "text": [
      "Error fetching data for LTM: No historical data available for LTM around 2024-01-28.\n"
     ]
    },
    {
     "name": "stderr",
     "output_type": "stream",
     "text": [
      "Failed to get ticker 'NRCIA' reason: Expecting value: line 1 column 1 (char 0)\n",
      "$NRCIA: possibly delisted; no timezone found\n"
     ]
    },
    {
     "name": "stdout",
     "output_type": "stream",
     "text": [
      "Error fetching data for NRCIA: No historical data available for NRCIA around 2024-01-28.\n"
     ]
    },
    {
     "name": "stderr",
     "output_type": "stream",
     "text": [
      "$FT: possibly delisted; no price data found  (1d 2023-12-29 -> 2024-01-28)\n"
     ]
    },
    {
     "name": "stdout",
     "output_type": "stream",
     "text": [
      "Error fetching data for FT: No historical data available for FT around 2024-01-28.\n"
     ]
    },
    {
     "name": "stderr",
     "output_type": "stream",
     "text": [
      "$AMCC: possibly delisted; no price data found  (1d 2023-12-29 -> 2024-01-28)\n"
     ]
    },
    {
     "name": "stdout",
     "output_type": "stream",
     "text": [
      "Error fetching data for AMCC: No historical data available for AMCC around 2024-01-28.\n"
     ]
    },
    {
     "name": "stderr",
     "output_type": "stream",
     "text": [
      "$TANN: possibly delisted; no price data found  (1d 2023-12-29 -> 2024-01-28)\n"
     ]
    },
    {
     "name": "stdout",
     "output_type": "stream",
     "text": [
      "Error fetching data for TANN: No historical data available for TANN around 2024-01-28.\n"
     ]
    },
    {
     "name": "stderr",
     "output_type": "stream",
     "text": [
      "$FWM: possibly delisted; no price data found  (1d 2023-12-29 -> 2024-01-28)\n"
     ]
    },
    {
     "name": "stdout",
     "output_type": "stream",
     "text": [
      "Error fetching data for FWM: No historical data available for FWM around 2024-01-28.\n"
     ]
    },
    {
     "name": "stderr",
     "output_type": "stream",
     "text": [
      "$RGA: possibly delisted; no price data found  (1d 2023-12-29 -> 2024-01-28)\n"
     ]
    },
    {
     "name": "stdout",
     "output_type": "stream",
     "text": [
      "Error fetching data for RGA: No historical data available for RGA around 2024-01-28.\n"
     ]
    },
    {
     "name": "stderr",
     "output_type": "stream",
     "text": [
      "$RLJ: possibly delisted; no price data found  (1d 2023-12-29 -> 2024-01-28)\n"
     ]
    },
    {
     "name": "stdout",
     "output_type": "stream",
     "text": [
      "Error fetching data for RLJ: No historical data available for RLJ around 2024-01-28.\n"
     ]
    },
    {
     "name": "stderr",
     "output_type": "stream",
     "text": [
      "$NSP: possibly delisted; no price data found  (1d 2023-12-29 -> 2024-01-28)\n"
     ]
    },
    {
     "name": "stdout",
     "output_type": "stream",
     "text": [
      "Error fetching data for NSP: No historical data available for NSP around 2024-01-28.\n"
     ]
    },
    {
     "name": "stderr",
     "output_type": "stream",
     "text": [
      "Failed to get ticker 'CYH' reason: Expecting value: line 1 column 1 (char 0)\n",
      "$CYH: possibly delisted; no timezone found\n"
     ]
    },
    {
     "name": "stdout",
     "output_type": "stream",
     "text": [
      "Error fetching data for CYH: No historical data available for CYH around 2024-01-28.\n"
     ]
    },
    {
     "name": "stderr",
     "output_type": "stream",
     "text": [
      "Failed to get ticker 'CSU' reason: Expecting value: line 1 column 1 (char 0)\n",
      "$CSU: possibly delisted; no timezone found\n"
     ]
    },
    {
     "name": "stdout",
     "output_type": "stream",
     "text": [
      "Error fetching data for CSU: No historical data available for CSU around 2024-01-28.\n"
     ]
    },
    {
     "name": "stderr",
     "output_type": "stream",
     "text": [
      "Failed to get ticker 'XEC' reason: Expecting value: line 1 column 1 (char 0)\n",
      "$XEC: possibly delisted; no timezone found\n"
     ]
    },
    {
     "name": "stdout",
     "output_type": "stream",
     "text": [
      "Error fetching data for XEC: No historical data available for XEC around 2024-01-28.\n"
     ]
    },
    {
     "name": "stderr",
     "output_type": "stream",
     "text": [
      "Failed to get ticker 'Y' reason: Expecting value: line 1 column 1 (char 0)\n",
      "$Y: possibly delisted; no timezone found\n"
     ]
    },
    {
     "name": "stdout",
     "output_type": "stream",
     "text": [
      "Error fetching data for Y: No historical data available for Y around 2024-01-28.\n"
     ]
    },
    {
     "name": "stderr",
     "output_type": "stream",
     "text": [
      "Failed to get ticker 'NEWP' reason: Expecting value: line 1 column 1 (char 0)\n",
      "$NEWP: possibly delisted; no timezone found\n"
     ]
    },
    {
     "name": "stdout",
     "output_type": "stream",
     "text": [
      "Error fetching data for NEWP: No historical data available for NEWP around 2024-01-28.\n"
     ]
    },
    {
     "name": "stderr",
     "output_type": "stream",
     "text": [
      "$REGN: possibly delisted; no price data found  (1d 2023-12-29 -> 2024-01-28)\n"
     ]
    },
    {
     "name": "stdout",
     "output_type": "stream",
     "text": [
      "Error fetching data for REGN: No historical data available for REGN around 2024-01-28.\n"
     ]
    },
    {
     "name": "stderr",
     "output_type": "stream",
     "text": [
      "Failed to get ticker 'NRF-B' reason: Expecting value: line 1 column 1 (char 0)\n",
      "$NRF-B: possibly delisted; no timezone found\n"
     ]
    },
    {
     "name": "stdout",
     "output_type": "stream",
     "text": [
      "Error fetching data for NRF-B: No historical data available for NRF-B around 2024-01-28.\n"
     ]
    },
    {
     "name": "stderr",
     "output_type": "stream",
     "text": [
      "$CTRN: possibly delisted; no price data found  (1d 2023-12-29 -> 2024-01-28)\n"
     ]
    },
    {
     "name": "stdout",
     "output_type": "stream",
     "text": [
      "Error fetching data for CTRN: No historical data available for CTRN around 2024-01-28.\n"
     ]
    },
    {
     "name": "stderr",
     "output_type": "stream",
     "text": [
      "Failed to get ticker 'HOTRW' reason: Expecting value: line 1 column 1 (char 0)\n",
      "$HOTRW: possibly delisted; no timezone found\n"
     ]
    },
    {
     "name": "stdout",
     "output_type": "stream",
     "text": [
      "Error fetching data for HOTRW: No historical data available for HOTRW around 2024-01-28.\n"
     ]
    },
    {
     "name": "stderr",
     "output_type": "stream",
     "text": [
      "$XWES: possibly delisted; no price data found  (1d 2023-12-29 -> 2024-01-28)\n"
     ]
    },
    {
     "name": "stdout",
     "output_type": "stream",
     "text": [
      "Error fetching data for XWES: No historical data available for XWES around 2024-01-28.\n"
     ]
    },
    {
     "name": "stderr",
     "output_type": "stream",
     "text": [
      "$PPP: possibly delisted; no price data found  (1d 2023-12-29 -> 2024-01-28)\n"
     ]
    },
    {
     "name": "stdout",
     "output_type": "stream",
     "text": [
      "Error fetching data for PPP: No historical data available for PPP around 2024-01-28.\n"
     ]
    },
    {
     "name": "stderr",
     "output_type": "stream",
     "text": [
      "Failed to get ticker 'MNTA' reason: Expecting value: line 1 column 1 (char 0)\n",
      "$MNTA: possibly delisted; no timezone found\n"
     ]
    },
    {
     "name": "stdout",
     "output_type": "stream",
     "text": [
      "Error fetching data for MNTA: No historical data available for MNTA around 2024-01-28.\n"
     ]
    },
    {
     "name": "stderr",
     "output_type": "stream",
     "text": [
      "$ATNI: possibly delisted; no price data found  (1d 2023-12-29 -> 2024-01-28)\n"
     ]
    },
    {
     "name": "stdout",
     "output_type": "stream",
     "text": [
      "Error fetching data for ATNI: No historical data available for ATNI around 2024-01-28.\n"
     ]
    },
    {
     "name": "stderr",
     "output_type": "stream",
     "text": [
      "$BHD: possibly delisted; no price data found  (1d 2023-12-29 -> 2024-01-28)\n"
     ]
    },
    {
     "name": "stdout",
     "output_type": "stream",
     "text": [
      "Error fetching data for BHD: No historical data available for BHD around 2024-01-28.\n"
     ]
    },
    {
     "name": "stderr",
     "output_type": "stream",
     "text": [
      "$RVBD: possibly delisted; no price data found  (1d 2023-12-29 -> 2024-01-28)\n"
     ]
    },
    {
     "name": "stdout",
     "output_type": "stream",
     "text": [
      "Error fetching data for RVBD: No historical data available for RVBD around 2024-01-28.\n"
     ]
    },
    {
     "name": "stderr",
     "output_type": "stream",
     "text": [
      "$ESD: possibly delisted; no price data found  (1d 2023-12-29 -> 2024-01-28)\n"
     ]
    },
    {
     "name": "stdout",
     "output_type": "stream",
     "text": [
      "Error fetching data for ESD: No historical data available for ESD around 2024-01-28.\n"
     ]
    },
    {
     "name": "stderr",
     "output_type": "stream",
     "text": [
      "$CCG: possibly delisted; no price data found  (1d 2023-12-29 -> 2024-01-28)\n"
     ]
    },
    {
     "name": "stdout",
     "output_type": "stream",
     "text": [
      "Error fetching data for CCG: No historical data available for CCG around 2024-01-28.\n"
     ]
    },
    {
     "name": "stderr",
     "output_type": "stream",
     "text": [
      "$PAR: possibly delisted; no price data found  (1d 2023-12-29 -> 2024-01-28)\n"
     ]
    },
    {
     "name": "stdout",
     "output_type": "stream",
     "text": [
      "Error fetching data for PAR: No historical data available for PAR around 2024-01-28.\n"
     ]
    },
    {
     "name": "stderr",
     "output_type": "stream",
     "text": [
      "$CUNB: possibly delisted; no price data found  (1d 2023-12-29 -> 2024-01-28)\n"
     ]
    },
    {
     "name": "stdout",
     "output_type": "stream",
     "text": [
      "Error fetching data for CUNB: No historical data available for CUNB around 2024-01-28.\n"
     ]
    },
    {
     "name": "stderr",
     "output_type": "stream",
     "text": [
      "$BCX: possibly delisted; no price data found  (1d 2023-12-29 -> 2024-01-28)\n"
     ]
    },
    {
     "name": "stdout",
     "output_type": "stream",
     "text": [
      "Error fetching data for BCX: No historical data available for BCX around 2024-01-28.\n"
     ]
    },
    {
     "name": "stderr",
     "output_type": "stream",
     "text": [
      "$VRSK: possibly delisted; no price data found  (1d 2023-12-29 -> 2024-01-28)\n"
     ]
    },
    {
     "name": "stdout",
     "output_type": "stream",
     "text": [
      "Error fetching data for VRSK: No historical data available for VRSK around 2024-01-28.\n"
     ]
    },
    {
     "name": "stderr",
     "output_type": "stream",
     "text": [
      "$QBAK: possibly delisted; no price data found  (1d 2023-12-29 -> 2024-01-28)\n"
     ]
    },
    {
     "name": "stdout",
     "output_type": "stream",
     "text": [
      "Error fetching data for QBAK: No historical data available for QBAK around 2024-01-28.\n"
     ]
    },
    {
     "name": "stderr",
     "output_type": "stream",
     "text": [
      "$PWR: possibly delisted; no price data found  (1d 2023-12-29 -> 2024-01-28)\n"
     ]
    },
    {
     "name": "stdout",
     "output_type": "stream",
     "text": [
      "Error fetching data for PWR: No historical data available for PWR around 2024-01-28.\n"
     ]
    },
    {
     "name": "stderr",
     "output_type": "stream",
     "text": [
      "$QIWI: possibly delisted; no price data found  (1d 2023-12-29 -> 2024-01-28)\n"
     ]
    },
    {
     "name": "stdout",
     "output_type": "stream",
     "text": [
      "Error fetching data for QIWI: No historical data available for QIWI around 2024-01-28.\n"
     ]
    },
    {
     "name": "stderr",
     "output_type": "stream",
     "text": [
      "$GCBC: possibly delisted; no price data found  (1d 2023-12-29 -> 2024-01-28)\n"
     ]
    },
    {
     "name": "stdout",
     "output_type": "stream",
     "text": [
      "Error fetching data for GCBC: No historical data available for GCBC around 2024-01-28.\n"
     ]
    },
    {
     "name": "stderr",
     "output_type": "stream",
     "text": [
      "$PRLB: possibly delisted; no price data found  (1d 2023-12-29 -> 2024-01-28)\n"
     ]
    },
    {
     "name": "stdout",
     "output_type": "stream",
     "text": [
      "Error fetching data for PRLB: No historical data available for PRLB around 2024-01-28.\n"
     ]
    },
    {
     "name": "stderr",
     "output_type": "stream",
     "text": [
      "$EOPN: possibly delisted; no price data found  (1d 2023-12-29 -> 2024-01-28)\n"
     ]
    },
    {
     "name": "stdout",
     "output_type": "stream",
     "text": [
      "Error fetching data for EOPN: No historical data available for EOPN around 2024-01-28.\n"
     ]
    },
    {
     "name": "stderr",
     "output_type": "stream",
     "text": [
      "$SLB: possibly delisted; no price data found  (1d 2023-12-29 -> 2024-01-28)\n"
     ]
    },
    {
     "name": "stdout",
     "output_type": "stream",
     "text": [
      "Error fetching data for SLB: No historical data available for SLB around 2024-01-28.\n"
     ]
    },
    {
     "name": "stderr",
     "output_type": "stream",
     "text": [
      "Failed to get ticker 'EXL-B' reason: Expecting value: line 1 column 1 (char 0)\n",
      "$EXL-B: possibly delisted; no timezone found\n"
     ]
    },
    {
     "name": "stdout",
     "output_type": "stream",
     "text": [
      "Error fetching data for EXL-B: No historical data available for EXL-B around 2024-01-28.\n"
     ]
    },
    {
     "name": "stderr",
     "output_type": "stream",
     "text": [
      "$PMO: possibly delisted; no price data found  (1d 2023-12-29 -> 2024-01-28)\n"
     ]
    },
    {
     "name": "stdout",
     "output_type": "stream",
     "text": [
      "Error fetching data for PMO: No historical data available for PMO around 2024-01-28.\n"
     ]
    },
    {
     "name": "stderr",
     "output_type": "stream",
     "text": [
      "$GOF: possibly delisted; no price data found  (1d 2023-12-29 -> 2024-01-28)\n"
     ]
    },
    {
     "name": "stdout",
     "output_type": "stream",
     "text": [
      "Error fetching data for GOF: No historical data available for GOF around 2024-01-28.\n"
     ]
    },
    {
     "name": "stderr",
     "output_type": "stream",
     "text": [
      "$DSWL: possibly delisted; no price data found  (1d 2023-12-29 -> 2024-01-28)\n"
     ]
    },
    {
     "name": "stdout",
     "output_type": "stream",
     "text": [
      "Error fetching data for DSWL: No historical data available for DSWL around 2024-01-28.\n"
     ]
    },
    {
     "name": "stderr",
     "output_type": "stream",
     "text": [
      "$BWP: possibly delisted; no price data found  (1d 2023-12-29 -> 2024-01-28)\n"
     ]
    },
    {
     "name": "stdout",
     "output_type": "stream",
     "text": [
      "Error fetching data for BWP: No historical data available for BWP around 2024-01-28.\n"
     ]
    },
    {
     "name": "stderr",
     "output_type": "stream",
     "text": [
      "Failed to get ticker 'TECD' reason: Expecting value: line 1 column 1 (char 0)\n",
      "$TECD: possibly delisted; no timezone found\n"
     ]
    },
    {
     "name": "stdout",
     "output_type": "stream",
     "text": [
      "Error fetching data for TECD: No historical data available for TECD around 2024-01-28.\n"
     ]
    },
    {
     "name": "stderr",
     "output_type": "stream",
     "text": [
      "$OPY: possibly delisted; no price data found  (1d 2023-12-29 -> 2024-01-28)\n"
     ]
    },
    {
     "name": "stdout",
     "output_type": "stream",
     "text": [
      "Error fetching data for OPY: No historical data available for OPY around 2024-01-28.\n"
     ]
    },
    {
     "name": "stderr",
     "output_type": "stream",
     "text": [
      "$CNO: possibly delisted; no price data found  (1d 2023-12-29 -> 2024-01-28)\n"
     ]
    },
    {
     "name": "stdout",
     "output_type": "stream",
     "text": [
      "Error fetching data for CNO: No historical data available for CNO around 2024-01-28.\n"
     ]
    },
    {
     "name": "stderr",
     "output_type": "stream",
     "text": [
      "Failed to get ticker 'SPHS' reason: Expecting value: line 1 column 1 (char 0)\n",
      "$SPHS: possibly delisted; no timezone found\n"
     ]
    },
    {
     "name": "stdout",
     "output_type": "stream",
     "text": [
      "Error fetching data for SPHS: No historical data available for SPHS around 2024-01-28.\n"
     ]
    },
    {
     "name": "stderr",
     "output_type": "stream",
     "text": [
      "$CALM: possibly delisted; no price data found  (1d 2023-12-29 -> 2024-01-28)\n"
     ]
    },
    {
     "name": "stdout",
     "output_type": "stream",
     "text": [
      "Error fetching data for CALM: No historical data available for CALM around 2024-01-28.\n"
     ]
    },
    {
     "name": "stderr",
     "output_type": "stream",
     "text": [
      "$NUC: possibly delisted; no price data found  (1d 2023-12-29 -> 2024-01-28)\n"
     ]
    },
    {
     "name": "stdout",
     "output_type": "stream",
     "text": [
      "Error fetching data for NUC: No historical data available for NUC around 2024-01-28.\n"
     ]
    },
    {
     "name": "stderr",
     "output_type": "stream",
     "text": [
      "$KORS: possibly delisted; no price data found  (1d 2023-12-29 -> 2024-01-28)\n"
     ]
    },
    {
     "name": "stdout",
     "output_type": "stream",
     "text": [
      "Error fetching data for KORS: No historical data available for KORS around 2024-01-28.\n"
     ]
    },
    {
     "name": "stderr",
     "output_type": "stream",
     "text": [
      "Failed to get ticker 'ENH-B' reason: Expecting value: line 1 column 1 (char 0)\n",
      "$ENH-B: possibly delisted; no timezone found\n"
     ]
    },
    {
     "name": "stdout",
     "output_type": "stream",
     "text": [
      "Error fetching data for ENH-B: No historical data available for ENH-B around 2024-01-28.\n"
     ]
    },
    {
     "name": "stderr",
     "output_type": "stream",
     "text": [
      "$ONCY: possibly delisted; no price data found  (1d 2023-12-29 -> 2024-01-28)\n"
     ]
    },
    {
     "name": "stdout",
     "output_type": "stream",
     "text": [
      "Error fetching data for ONCY: No historical data available for ONCY around 2024-01-28.\n"
     ]
    },
    {
     "name": "stderr",
     "output_type": "stream",
     "text": [
      "$CFI: possibly delisted; no price data found  (1d 2023-12-29 -> 2024-01-28)\n"
     ]
    },
    {
     "name": "stdout",
     "output_type": "stream",
     "text": [
      "Error fetching data for CFI: No historical data available for CFI around 2024-01-28.\n"
     ]
    },
    {
     "name": "stderr",
     "output_type": "stream",
     "text": [
      "$TRAK: possibly delisted; no price data found  (1d 2023-12-29 -> 2024-01-28)\n"
     ]
    },
    {
     "name": "stdout",
     "output_type": "stream",
     "text": [
      "Error fetching data for TRAK: No historical data available for TRAK around 2024-01-28.\n"
     ]
    },
    {
     "name": "stderr",
     "output_type": "stream",
     "text": [
      "$PBA: possibly delisted; no price data found  (1d 2023-12-29 -> 2024-01-28)\n"
     ]
    },
    {
     "name": "stdout",
     "output_type": "stream",
     "text": [
      "Error fetching data for PBA: No historical data available for PBA around 2024-01-28.\n"
     ]
    },
    {
     "name": "stderr",
     "output_type": "stream",
     "text": [
      "Failed to get ticker 'VLYWW' reason: Expecting value: line 1 column 1 (char 0)\n",
      "$VLYWW: possibly delisted; no timezone found\n"
     ]
    },
    {
     "name": "stdout",
     "output_type": "stream",
     "text": [
      "Error fetching data for VLYWW: No historical data available for VLYWW around 2024-01-28.\n"
     ]
    },
    {
     "name": "stderr",
     "output_type": "stream",
     "text": [
      "$UNTY: possibly delisted; no price data found  (1d 2023-12-29 -> 2024-01-28)\n"
     ]
    },
    {
     "name": "stdout",
     "output_type": "stream",
     "text": [
      "Error fetching data for UNTY: No historical data available for UNTY around 2024-01-28.\n"
     ]
    },
    {
     "name": "stderr",
     "output_type": "stream",
     "text": [
      "$CPWR: possibly delisted; no price data found  (1d 2023-12-29 -> 2024-01-28)\n"
     ]
    },
    {
     "name": "stdout",
     "output_type": "stream",
     "text": [
      "Error fetching data for CPWR: No historical data available for CPWR around 2024-01-28.\n"
     ]
    },
    {
     "name": "stderr",
     "output_type": "stream",
     "text": [
      "$CCSC: possibly delisted; no price data found  (1d 2023-12-29 -> 2024-01-28)\n"
     ]
    },
    {
     "name": "stdout",
     "output_type": "stream",
     "text": [
      "Error fetching data for CCSC: No historical data available for CCSC around 2024-01-28.\n"
     ]
    },
    {
     "name": "stderr",
     "output_type": "stream",
     "text": [
      "Failed to get ticker 'MNE' reason: Expecting value: line 1 column 1 (char 0)\n",
      "$MNE: possibly delisted; no timezone found\n"
     ]
    },
    {
     "name": "stdout",
     "output_type": "stream",
     "text": [
      "Error fetching data for MNE: No historical data available for MNE around 2024-01-28.\n"
     ]
    },
    {
     "name": "stderr",
     "output_type": "stream",
     "text": [
      "Failed to get ticker 'MSP' reason: Expecting value: line 1 column 1 (char 0)\n",
      "$MSP: possibly delisted; no timezone found\n"
     ]
    },
    {
     "name": "stdout",
     "output_type": "stream",
     "text": [
      "Error fetching data for MSP: No historical data available for MSP around 2024-01-28.\n"
     ]
    },
    {
     "name": "stderr",
     "output_type": "stream",
     "text": [
      "$COSI: possibly delisted; no price data found  (1d 2023-12-29 -> 2024-01-28)\n"
     ]
    },
    {
     "name": "stdout",
     "output_type": "stream",
     "text": [
      "Error fetching data for COSI: No historical data available for COSI around 2024-01-28.\n"
     ]
    },
    {
     "name": "stderr",
     "output_type": "stream",
     "text": [
      "$YZC: possibly delisted; no price data found  (1d 2023-12-29 -> 2024-01-28)\n"
     ]
    },
    {
     "name": "stdout",
     "output_type": "stream",
     "text": [
      "Error fetching data for YZC: No historical data available for YZC around 2024-01-28.\n"
     ]
    },
    {
     "name": "stderr",
     "output_type": "stream",
     "text": [
      "$MXE: possibly delisted; no price data found  (1d 2023-12-29 -> 2024-01-28)\n"
     ]
    },
    {
     "name": "stdout",
     "output_type": "stream",
     "text": [
      "Error fetching data for MXE: No historical data available for MXE around 2024-01-28.\n"
     ]
    },
    {
     "name": "stderr",
     "output_type": "stream",
     "text": [
      "$CAVM: possibly delisted; no price data found  (1d 2023-12-29 -> 2024-01-28)\n"
     ]
    },
    {
     "name": "stdout",
     "output_type": "stream",
     "text": [
      "Error fetching data for CAVM: No historical data available for CAVM around 2024-01-28.\n"
     ]
    },
    {
     "name": "stderr",
     "output_type": "stream",
     "text": [
      "$DFP: possibly delisted; no price data found  (1d 2023-12-29 -> 2024-01-28)\n"
     ]
    },
    {
     "name": "stdout",
     "output_type": "stream",
     "text": [
      "Error fetching data for DFP: No historical data available for DFP around 2024-01-28.\n"
     ]
    },
    {
     "name": "stderr",
     "output_type": "stream",
     "text": [
      "$KTEC: possibly delisted; no price data found  (1d 2023-12-29 -> 2024-01-28)\n"
     ]
    },
    {
     "name": "stdout",
     "output_type": "stream",
     "text": [
      "Error fetching data for KTEC: No historical data available for KTEC around 2024-01-28.\n"
     ]
    },
    {
     "name": "stderr",
     "output_type": "stream",
     "text": [
      "$SRCE: possibly delisted; no price data found  (1d 2023-12-29 -> 2024-01-28)\n"
     ]
    },
    {
     "name": "stdout",
     "output_type": "stream",
     "text": [
      "Error fetching data for SRCE: No historical data available for SRCE around 2024-01-28.\n"
     ]
    },
    {
     "name": "stderr",
     "output_type": "stream",
     "text": [
      "Failed to get ticker 'HBA-F' reason: Expecting value: line 1 column 1 (char 0)\n",
      "$HBA-F: possibly delisted; no timezone found\n"
     ]
    },
    {
     "name": "stdout",
     "output_type": "stream",
     "text": [
      "Error fetching data for HBA-F: No historical data available for HBA-F around 2024-01-28.\n"
     ]
    },
    {
     "name": "stderr",
     "output_type": "stream",
     "text": [
      "Failed to get ticker 'CONE' reason: Expecting value: line 1 column 1 (char 0)\n",
      "$CONE: possibly delisted; no timezone found\n"
     ]
    },
    {
     "name": "stdout",
     "output_type": "stream",
     "text": [
      "Error fetching data for CONE: No historical data available for CONE around 2024-01-28.\n"
     ]
    },
    {
     "name": "stderr",
     "output_type": "stream",
     "text": [
      "$HITT: possibly delisted; no price data found  (1d 2023-12-29 -> 2024-01-28)\n"
     ]
    },
    {
     "name": "stdout",
     "output_type": "stream",
     "text": [
      "Error fetching data for HITT: No historical data available for HITT around 2024-01-28.\n"
     ]
    },
    {
     "name": "stderr",
     "output_type": "stream",
     "text": [
      "Failed to get ticker 'ZNGA' reason: Expecting value: line 1 column 1 (char 0)\n",
      "$ZNGA: possibly delisted; no timezone found\n"
     ]
    },
    {
     "name": "stdout",
     "output_type": "stream",
     "text": [
      "Error fetching data for ZNGA: No historical data available for ZNGA around 2024-01-28.\n"
     ]
    },
    {
     "name": "stderr",
     "output_type": "stream",
     "text": [
      "$FCNCA: possibly delisted; no price data found  (1d 2023-12-29 -> 2024-01-28)\n"
     ]
    },
    {
     "name": "stdout",
     "output_type": "stream",
     "text": [
      "Error fetching data for FCNCA: No historical data available for FCNCA around 2024-01-28.\n"
     ]
    },
    {
     "name": "stderr",
     "output_type": "stream",
     "text": [
      "$SVA: possibly delisted; no price data found  (1d 2023-12-29 -> 2024-01-28)\n"
     ]
    },
    {
     "name": "stdout",
     "output_type": "stream",
     "text": [
      "Error fetching data for SVA: No historical data available for SVA around 2024-01-28.\n"
     ]
    },
    {
     "name": "stderr",
     "output_type": "stream",
     "text": [
      "$EPAX: possibly delisted; no price data found  (1d 2023-12-29 -> 2024-01-28)\n"
     ]
    },
    {
     "name": "stdout",
     "output_type": "stream",
     "text": [
      "Error fetching data for EPAX: No historical data available for EPAX around 2024-01-28.\n"
     ]
    },
    {
     "name": "stderr",
     "output_type": "stream",
     "text": [
      "$TMNG: possibly delisted; no price data found  (1d 2023-12-29 -> 2024-01-28)\n"
     ]
    },
    {
     "name": "stdout",
     "output_type": "stream",
     "text": [
      "Error fetching data for TMNG: No historical data available for TMNG around 2024-01-28.\n"
     ]
    },
    {
     "name": "stderr",
     "output_type": "stream",
     "text": [
      "$NVTL: possibly delisted; no price data found  (1d 2023-12-29 -> 2024-01-28)\n"
     ]
    },
    {
     "name": "stdout",
     "output_type": "stream",
     "text": [
      "Error fetching data for NVTL: No historical data available for NVTL around 2024-01-28.\n"
     ]
    },
    {
     "name": "stderr",
     "output_type": "stream",
     "text": [
      "Failed to get ticker 'PTIE' reason: Expecting value: line 1 column 1 (char 0)\n",
      "$PTIE: possibly delisted; no timezone found\n"
     ]
    },
    {
     "name": "stdout",
     "output_type": "stream",
     "text": [
      "Error fetching data for PTIE: No historical data available for PTIE around 2024-01-28.\n"
     ]
    },
    {
     "name": "stderr",
     "output_type": "stream",
     "text": [
      "$CNYD: possibly delisted; no price data found  (1d 2023-12-29 -> 2024-01-28)\n"
     ]
    },
    {
     "name": "stdout",
     "output_type": "stream",
     "text": [
      "Error fetching data for CNYD: No historical data available for CNYD around 2024-01-28.\n"
     ]
    },
    {
     "name": "stderr",
     "output_type": "stream",
     "text": [
      "$FNF: possibly delisted; no price data found  (1d 2023-12-29 -> 2024-01-28)\n"
     ]
    },
    {
     "name": "stdout",
     "output_type": "stream",
     "text": [
      "Error fetching data for FNF: No historical data available for FNF around 2024-01-28.\n"
     ]
    },
    {
     "name": "stderr",
     "output_type": "stream",
     "text": [
      "Failed to get ticker 'AFT' reason: Expecting value: line 1 column 1 (char 0)\n",
      "$AFT: possibly delisted; no timezone found\n"
     ]
    },
    {
     "name": "stdout",
     "output_type": "stream",
     "text": [
      "Error fetching data for AFT: No historical data available for AFT around 2024-01-28.\n"
     ]
    },
    {
     "name": "stderr",
     "output_type": "stream",
     "text": [
      "$NGZ: possibly delisted; no price data found  (1d 2023-12-29 -> 2024-01-28)\n"
     ]
    },
    {
     "name": "stdout",
     "output_type": "stream",
     "text": [
      "Error fetching data for NGZ: No historical data available for NGZ around 2024-01-28.\n"
     ]
    },
    {
     "name": "stderr",
     "output_type": "stream",
     "text": [
      "Failed to get ticker 'TYG-B' reason: Expecting value: line 1 column 1 (char 0)\n",
      "$TYG-B: possibly delisted; no timezone found\n"
     ]
    },
    {
     "name": "stdout",
     "output_type": "stream",
     "text": [
      "Error fetching data for TYG-B: No historical data available for TYG-B around 2024-01-28.\n"
     ]
    },
    {
     "name": "stderr",
     "output_type": "stream",
     "text": [
      "Failed to get ticker 'MS-A' reason: Expecting value: line 1 column 1 (char 0)\n",
      "$MS-A: possibly delisted; no timezone found\n"
     ]
    },
    {
     "name": "stdout",
     "output_type": "stream",
     "text": [
      "Error fetching data for MS-A: No historical data available for MS-A around 2024-01-28.\n"
     ]
    },
    {
     "name": "stderr",
     "output_type": "stream",
     "text": [
      "Failed to get ticker 'BFS-C' reason: Expecting value: line 1 column 1 (char 0)\n",
      "$BFS-C: possibly delisted; no timezone found\n"
     ]
    },
    {
     "name": "stdout",
     "output_type": "stream",
     "text": [
      "Error fetching data for BFS-C: No historical data available for BFS-C around 2024-01-28.\n"
     ]
    },
    {
     "name": "stderr",
     "output_type": "stream",
     "text": [
      "$RHP: possibly delisted; no price data found  (1d 2023-12-29 -> 2024-01-28)\n"
     ]
    },
    {
     "name": "stdout",
     "output_type": "stream",
     "text": [
      "Error fetching data for RHP: No historical data available for RHP around 2024-01-28.\n"
     ]
    },
    {
     "name": "stderr",
     "output_type": "stream",
     "text": [
      "$FAF: possibly delisted; no price data found  (1d 2023-12-29 -> 2024-01-28)\n"
     ]
    },
    {
     "name": "stdout",
     "output_type": "stream",
     "text": [
      "Error fetching data for FAF: No historical data available for FAF around 2024-01-28.\n"
     ]
    },
    {
     "name": "stderr",
     "output_type": "stream",
     "text": [
      "$STLY: possibly delisted; no price data found  (1d 2023-12-29 -> 2024-01-28)\n"
     ]
    },
    {
     "name": "stdout",
     "output_type": "stream",
     "text": [
      "Error fetching data for STLY: No historical data available for STLY around 2024-01-28.\n"
     ]
    },
    {
     "name": "stderr",
     "output_type": "stream",
     "text": [
      "Failed to get ticker 'USB-O' reason: Expecting value: line 1 column 1 (char 0)\n",
      "$USB-O: possibly delisted; no timezone found\n"
     ]
    },
    {
     "name": "stdout",
     "output_type": "stream",
     "text": [
      "Error fetching data for USB-O: No historical data available for USB-O around 2024-01-28.\n"
     ]
    },
    {
     "name": "stderr",
     "output_type": "stream",
     "text": [
      "$MUJ: possibly delisted; no price data found  (1d 2023-12-29 -> 2024-01-28)\n"
     ]
    },
    {
     "name": "stdout",
     "output_type": "stream",
     "text": [
      "Error fetching data for MUJ: No historical data available for MUJ around 2024-01-28.\n"
     ]
    },
    {
     "name": "stderr",
     "output_type": "stream",
     "text": [
      "$NBD: possibly delisted; no price data found  (1d 2023-12-29 -> 2024-01-28)\n"
     ]
    },
    {
     "name": "stdout",
     "output_type": "stream",
     "text": [
      "Error fetching data for NBD: No historical data available for NBD around 2024-01-28.\n"
     ]
    },
    {
     "name": "stderr",
     "output_type": "stream",
     "text": [
      "$PBNY: possibly delisted; no price data found  (1d 2023-12-29 -> 2024-01-28)\n"
     ]
    },
    {
     "name": "stdout",
     "output_type": "stream",
     "text": [
      "Error fetching data for PBNY: No historical data available for PBNY around 2024-01-28.\n"
     ]
    },
    {
     "name": "stderr",
     "output_type": "stream",
     "text": [
      "$PYB: possibly delisted; no price data found  (1d 2023-12-29 -> 2024-01-28)\n"
     ]
    },
    {
     "name": "stdout",
     "output_type": "stream",
     "text": [
      "Error fetching data for PYB: No historical data available for PYB around 2024-01-28.\n"
     ]
    },
    {
     "name": "stderr",
     "output_type": "stream",
     "text": [
      "$STRL: possibly delisted; no price data found  (1d 2023-12-29 -> 2024-01-28)\n"
     ]
    },
    {
     "name": "stdout",
     "output_type": "stream",
     "text": [
      "Error fetching data for STRL: No historical data available for STRL around 2024-01-28.\n"
     ]
    },
    {
     "name": "stderr",
     "output_type": "stream",
     "text": [
      "$CLC: possibly delisted; no price data found  (1d 2023-12-29 -> 2024-01-28)\n"
     ]
    },
    {
     "name": "stdout",
     "output_type": "stream",
     "text": [
      "Error fetching data for CLC: No historical data available for CLC around 2024-01-28.\n"
     ]
    },
    {
     "name": "stderr",
     "output_type": "stream",
     "text": [
      "$MNR: possibly delisted; no price data found  (1d 2023-12-29 -> 2024-01-28)\n"
     ]
    },
    {
     "name": "stdout",
     "output_type": "stream",
     "text": [
      "Error fetching data for MNR: No historical data available for MNR around 2024-01-28.\n"
     ]
    },
    {
     "name": "stderr",
     "output_type": "stream",
     "text": [
      "$SE: possibly delisted; no price data found  (1d 2023-12-29 -> 2024-01-28)\n"
     ]
    },
    {
     "name": "stdout",
     "output_type": "stream",
     "text": [
      "Error fetching data for SE: No historical data available for SE around 2024-01-28.\n"
     ]
    },
    {
     "name": "stderr",
     "output_type": "stream",
     "text": [
      "$HJR: possibly delisted; no price data found  (1d 2023-12-29 -> 2024-01-28)\n"
     ]
    },
    {
     "name": "stdout",
     "output_type": "stream",
     "text": [
      "Error fetching data for HJR: No historical data available for HJR around 2024-01-28.\n"
     ]
    },
    {
     "name": "stderr",
     "output_type": "stream",
     "text": [
      "$TBNK: possibly delisted; no price data found  (1d 2023-12-29 -> 2024-01-28)\n"
     ]
    },
    {
     "name": "stdout",
     "output_type": "stream",
     "text": [
      "Error fetching data for TBNK: No historical data available for TBNK around 2024-01-28.\n"
     ]
    },
    {
     "name": "stderr",
     "output_type": "stream",
     "text": [
      "$ORI: possibly delisted; no price data found  (1d 2023-12-29 -> 2024-01-28)\n"
     ]
    },
    {
     "name": "stdout",
     "output_type": "stream",
     "text": [
      "Error fetching data for ORI: No historical data available for ORI around 2024-01-28.\n"
     ]
    },
    {
     "name": "stderr",
     "output_type": "stream",
     "text": [
      "$OIS: possibly delisted; no price data found  (1d 2023-12-29 -> 2024-01-28)\n"
     ]
    },
    {
     "name": "stdout",
     "output_type": "stream",
     "text": [
      "Error fetching data for OIS: No historical data available for OIS around 2024-01-28.\n"
     ]
    },
    {
     "name": "stderr",
     "output_type": "stream",
     "text": [
      "$ASIA: possibly delisted; no price data found  (1d 2023-12-29 -> 2024-01-28)\n"
     ]
    },
    {
     "name": "stdout",
     "output_type": "stream",
     "text": [
      "Error fetching data for ASIA: No historical data available for ASIA around 2024-01-28.\n"
     ]
    },
    {
     "name": "stderr",
     "output_type": "stream",
     "text": [
      "$CSUN: possibly delisted; no price data found  (1d 2023-12-29 -> 2024-01-28)\n"
     ]
    },
    {
     "name": "stdout",
     "output_type": "stream",
     "text": [
      "Error fetching data for CSUN: No historical data available for CSUN around 2024-01-28.\n"
     ]
    },
    {
     "name": "stderr",
     "output_type": "stream",
     "text": [
      "Failed to get ticker 'SFLY' reason: Expecting value: line 1 column 1 (char 0)\n",
      "$SFLY: possibly delisted; no timezone found\n"
     ]
    },
    {
     "name": "stdout",
     "output_type": "stream",
     "text": [
      "Error fetching data for SFLY: No historical data available for SFLY around 2024-01-28.\n"
     ]
    },
    {
     "name": "stderr",
     "output_type": "stream",
     "text": [
      "Failed to get ticker 'NPY' reason: Expecting value: line 1 column 1 (char 0)\n",
      "$NPY: possibly delisted; no timezone found\n"
     ]
    },
    {
     "name": "stdout",
     "output_type": "stream",
     "text": [
      "Error fetching data for NPY: No historical data available for NPY around 2024-01-28.\n"
     ]
    },
    {
     "name": "stderr",
     "output_type": "stream",
     "text": [
      "$FTCS: possibly delisted; no price data found  (1d 2023-12-29 -> 2024-01-28)\n"
     ]
    },
    {
     "name": "stdout",
     "output_type": "stream",
     "text": [
      "Error fetching data for FTCS: No historical data available for FTCS around 2024-01-28.\n"
     ]
    },
    {
     "name": "stderr",
     "output_type": "stream",
     "text": [
      "$TFCO: possibly delisted; no price data found  (1d 2023-12-29 -> 2024-01-28)\n"
     ]
    },
    {
     "name": "stdout",
     "output_type": "stream",
     "text": [
      "Error fetching data for TFCO: No historical data available for TFCO around 2024-01-28.\n"
     ]
    },
    {
     "name": "stderr",
     "output_type": "stream",
     "text": [
      "$DHX: possibly delisted; no price data found  (1d 2023-12-29 -> 2024-01-28)\n"
     ]
    },
    {
     "name": "stdout",
     "output_type": "stream",
     "text": [
      "Error fetching data for DHX: No historical data available for DHX around 2024-01-28.\n"
     ]
    },
    {
     "name": "stderr",
     "output_type": "stream",
     "text": [
      "Failed to get ticker 'JOSB' reason: Expecting value: line 1 column 1 (char 0)\n",
      "$JOSB: possibly delisted; no timezone found\n"
     ]
    },
    {
     "name": "stdout",
     "output_type": "stream",
     "text": [
      "Error fetching data for JOSB: No historical data available for JOSB around 2024-01-28.\n"
     ]
    },
    {
     "name": "stderr",
     "output_type": "stream",
     "text": [
      "Failed to get ticker 'PES' reason: Expecting value: line 1 column 1 (char 0)\n",
      "$PES: possibly delisted; no timezone found\n"
     ]
    },
    {
     "name": "stdout",
     "output_type": "stream",
     "text": [
      "Error fetching data for PES: No historical data available for PES around 2024-01-28.\n"
     ]
    },
    {
     "name": "stderr",
     "output_type": "stream",
     "text": [
      "$ALX: possibly delisted; no price data found  (1d 2023-12-29 -> 2024-01-28)\n"
     ]
    },
    {
     "name": "stdout",
     "output_type": "stream",
     "text": [
      "Error fetching data for ALX: No historical data available for ALX around 2024-01-28.\n"
     ]
    },
    {
     "name": "stderr",
     "output_type": "stream",
     "text": [
      "$MSB: possibly delisted; no price data found  (1d 2023-12-29 -> 2024-01-28)\n"
     ]
    },
    {
     "name": "stdout",
     "output_type": "stream",
     "text": [
      "Error fetching data for MSB: No historical data available for MSB around 2024-01-28.\n"
     ]
    },
    {
     "name": "stderr",
     "output_type": "stream",
     "text": [
      "$ACNB: possibly delisted; no price data found  (1d 2023-12-29 -> 2024-01-28)\n"
     ]
    },
    {
     "name": "stdout",
     "output_type": "stream",
     "text": [
      "Error fetching data for ACNB: No historical data available for ACNB around 2024-01-28.\n"
     ]
    },
    {
     "name": "stderr",
     "output_type": "stream",
     "text": [
      "$JOUT: possibly delisted; no price data found  (1d 2023-12-29 -> 2024-01-28)\n"
     ]
    },
    {
     "name": "stdout",
     "output_type": "stream",
     "text": [
      "Error fetching data for JOUT: No historical data available for JOUT around 2024-01-28.\n"
     ]
    },
    {
     "name": "stderr",
     "output_type": "stream",
     "text": [
      "$CRDC: possibly delisted; no price data found  (1d 2023-12-29 -> 2024-01-28)\n"
     ]
    },
    {
     "name": "stdout",
     "output_type": "stream",
     "text": [
      "Error fetching data for CRDC: No historical data available for CRDC around 2024-01-28.\n"
     ]
    },
    {
     "name": "stderr",
     "output_type": "stream",
     "text": [
      "Failed to get ticker 'VCRA' reason: Expecting value: line 1 column 1 (char 0)\n",
      "$VCRA: possibly delisted; no timezone found\n"
     ]
    },
    {
     "name": "stdout",
     "output_type": "stream",
     "text": [
      "Error fetching data for VCRA: No historical data available for VCRA around 2024-01-28.\n"
     ]
    },
    {
     "name": "stderr",
     "output_type": "stream",
     "text": [
      "$DEPO: possibly delisted; no price data found  (1d 2023-12-29 -> 2024-01-28)\n"
     ]
    },
    {
     "name": "stdout",
     "output_type": "stream",
     "text": [
      "Error fetching data for DEPO: No historical data available for DEPO around 2024-01-28.\n"
     ]
    },
    {
     "name": "stderr",
     "output_type": "stream",
     "text": [
      "$FOR: possibly delisted; no price data found  (1d 2023-12-29 -> 2024-01-28)\n"
     ]
    },
    {
     "name": "stdout",
     "output_type": "stream",
     "text": [
      "Error fetching data for FOR: No historical data available for FOR around 2024-01-28.\n"
     ]
    },
    {
     "name": "stderr",
     "output_type": "stream",
     "text": [
      "Failed to get ticker 'GWRU' reason: Expecting value: line 1 column 1 (char 0)\n",
      "$GWRU: possibly delisted; no timezone found\n"
     ]
    },
    {
     "name": "stdout",
     "output_type": "stream",
     "text": [
      "Error fetching data for GWRU: No historical data available for GWRU around 2024-01-28.\n"
     ]
    },
    {
     "name": "stderr",
     "output_type": "stream",
     "text": [
      "Failed to get ticker 'BML-I' reason: Expecting value: line 1 column 1 (char 0)\n",
      "$BML-I: possibly delisted; no timezone found\n"
     ]
    },
    {
     "name": "stdout",
     "output_type": "stream",
     "text": [
      "Error fetching data for BML-I: No historical data available for BML-I around 2024-01-28.\n"
     ]
    },
    {
     "name": "stderr",
     "output_type": "stream",
     "text": [
      "Failed to get ticker 'CEA' reason: Expecting value: line 1 column 1 (char 0)\n",
      "$CEA: possibly delisted; no timezone found\n"
     ]
    },
    {
     "name": "stdout",
     "output_type": "stream",
     "text": [
      "Error fetching data for CEA: No historical data available for CEA around 2024-01-28.\n"
     ]
    },
    {
     "name": "stderr",
     "output_type": "stream",
     "text": [
      "$PEBK: possibly delisted; no price data found  (1d 2023-12-29 -> 2024-01-28)\n"
     ]
    },
    {
     "name": "stdout",
     "output_type": "stream",
     "text": [
      "Error fetching data for PEBK: No historical data available for PEBK around 2024-01-28.\n"
     ]
    },
    {
     "name": "stderr",
     "output_type": "stream",
     "text": [
      "$FICO: possibly delisted; no price data found  (1d 2023-12-29 -> 2024-01-28)\n"
     ]
    },
    {
     "name": "stdout",
     "output_type": "stream",
     "text": [
      "Error fetching data for FICO: No historical data available for FICO around 2024-01-28.\n"
     ]
    },
    {
     "name": "stderr",
     "output_type": "stream",
     "text": [
      "$LCM: possibly delisted; no price data found  (1d 2023-12-29 -> 2024-01-28)\n"
     ]
    },
    {
     "name": "stdout",
     "output_type": "stream",
     "text": [
      "Error fetching data for LCM: No historical data available for LCM around 2024-01-28.\n"
     ]
    },
    {
     "name": "stderr",
     "output_type": "stream",
     "text": [
      "Failed to get ticker 'SMTX' reason: Expecting value: line 1 column 1 (char 0)\n",
      "$SMTX: possibly delisted; no timezone found\n"
     ]
    },
    {
     "name": "stdout",
     "output_type": "stream",
     "text": [
      "Error fetching data for SMTX: No historical data available for SMTX around 2024-01-28.\n"
     ]
    },
    {
     "name": "stderr",
     "output_type": "stream",
     "text": [
      "$PSUN: possibly delisted; no price data found  (1d 2023-12-29 -> 2024-01-28)\n"
     ]
    },
    {
     "name": "stdout",
     "output_type": "stream",
     "text": [
      "Error fetching data for PSUN: No historical data available for PSUN around 2024-01-28.\n"
     ]
    },
    {
     "name": "stderr",
     "output_type": "stream",
     "text": [
      "Failed to get ticker 'EAE' reason: Expecting value: line 1 column 1 (char 0)\n",
      "$EAE: possibly delisted; no timezone found\n"
     ]
    },
    {
     "name": "stdout",
     "output_type": "stream",
     "text": [
      "Error fetching data for EAE: No historical data available for EAE around 2024-01-28.\n"
     ]
    },
    {
     "name": "stderr",
     "output_type": "stream",
     "text": [
      "$DPG: possibly delisted; no price data found  (1d 2023-12-29 -> 2024-01-28)\n"
     ]
    },
    {
     "name": "stdout",
     "output_type": "stream",
     "text": [
      "Error fetching data for DPG: No historical data available for DPG around 2024-01-28.\n"
     ]
    },
    {
     "name": "stderr",
     "output_type": "stream",
     "text": [
      "$BMRN: possibly delisted; no price data found  (1d 2023-12-29 -> 2024-01-28)\n"
     ]
    },
    {
     "name": "stdout",
     "output_type": "stream",
     "text": [
      "Error fetching data for BMRN: No historical data available for BMRN around 2024-01-28.\n"
     ]
    },
    {
     "name": "stderr",
     "output_type": "stream",
     "text": [
      "$JFC: possibly delisted; no price data found  (1d 2023-12-29 -> 2024-01-28)\n"
     ]
    },
    {
     "name": "stdout",
     "output_type": "stream",
     "text": [
      "Error fetching data for JFC: No historical data available for JFC around 2024-01-28.\n"
     ]
    },
    {
     "name": "stderr",
     "output_type": "stream",
     "text": [
      "$PSX: possibly delisted; no price data found  (1d 2023-12-29 -> 2024-01-28)\n"
     ]
    },
    {
     "name": "stdout",
     "output_type": "stream",
     "text": [
      "Error fetching data for PSX: No historical data available for PSX around 2024-01-28.\n"
     ]
    },
    {
     "name": "stderr",
     "output_type": "stream",
     "text": [
      "Failed to get ticker 'GIGA' reason: Expecting value: line 1 column 1 (char 0)\n",
      "$GIGA: possibly delisted; no timezone found\n"
     ]
    },
    {
     "name": "stdout",
     "output_type": "stream",
     "text": [
      "Error fetching data for GIGA: No historical data available for GIGA around 2024-01-28.\n"
     ]
    },
    {
     "name": "stderr",
     "output_type": "stream",
     "text": [
      "Failed to get ticker 'DRQ' reason: Expecting value: line 1 column 1 (char 0)\n",
      "$DRQ: possibly delisted; no timezone found\n"
     ]
    },
    {
     "name": "stdout",
     "output_type": "stream",
     "text": [
      "Error fetching data for DRQ: No historical data available for DRQ around 2024-01-28.\n"
     ]
    },
    {
     "name": "stderr",
     "output_type": "stream",
     "text": [
      "Failed to get ticker 'HL-B' reason: Expecting value: line 1 column 1 (char 0)\n",
      "$HL-B: possibly delisted; no timezone found\n"
     ]
    },
    {
     "name": "stdout",
     "output_type": "stream",
     "text": [
      "Error fetching data for HL-B: No historical data available for HL-B around 2024-01-28.\n"
     ]
    },
    {
     "name": "stderr",
     "output_type": "stream",
     "text": [
      "Failed to get ticker 'UNT' reason: Expecting value: line 1 column 1 (char 0)\n",
      "$UNT: possibly delisted; no timezone found\n"
     ]
    },
    {
     "name": "stdout",
     "output_type": "stream",
     "text": [
      "Error fetching data for UNT: No historical data available for UNT around 2024-01-28.\n"
     ]
    },
    {
     "name": "stderr",
     "output_type": "stream",
     "text": [
      "$DW: possibly delisted; no price data found  (1d 2023-12-29 -> 2024-01-28)\n"
     ]
    },
    {
     "name": "stdout",
     "output_type": "stream",
     "text": [
      "Error fetching data for DW: No historical data available for DW around 2024-01-28.\n"
     ]
    },
    {
     "name": "stderr",
     "output_type": "stream",
     "text": [
      "$RCMT: possibly delisted; no price data found  (1d 2023-12-29 -> 2024-01-28)\n"
     ]
    },
    {
     "name": "stdout",
     "output_type": "stream",
     "text": [
      "Error fetching data for RCMT: No historical data available for RCMT around 2024-01-28.\n"
     ]
    },
    {
     "name": "stderr",
     "output_type": "stream",
     "text": [
      "$DLR: possibly delisted; no price data found  (1d 2023-12-29 -> 2024-01-28)\n"
     ]
    },
    {
     "name": "stdout",
     "output_type": "stream",
     "text": [
      "Error fetching data for DLR: No historical data available for DLR around 2024-01-28.\n"
     ]
    },
    {
     "name": "stderr",
     "output_type": "stream",
     "text": [
      "Failed to get ticker 'MET-B' reason: Expecting value: line 1 column 1 (char 0)\n",
      "$MET-B: possibly delisted; no timezone found\n"
     ]
    },
    {
     "name": "stdout",
     "output_type": "stream",
     "text": [
      "Error fetching data for MET-B: No historical data available for MET-B around 2024-01-28.\n"
     ]
    },
    {
     "name": "stderr",
     "output_type": "stream",
     "text": [
      "$DSCO: possibly delisted; no price data found  (1d 2023-12-29 -> 2024-01-28)\n"
     ]
    },
    {
     "name": "stdout",
     "output_type": "stream",
     "text": [
      "Error fetching data for DSCO: No historical data available for DSCO around 2024-01-28.\n"
     ]
    },
    {
     "name": "stderr",
     "output_type": "stream",
     "text": [
      "$PYY: possibly delisted; no price data found  (1d 2023-12-29 -> 2024-01-28)\n"
     ]
    },
    {
     "name": "stdout",
     "output_type": "stream",
     "text": [
      "Error fetching data for PYY: No historical data available for PYY around 2024-01-28.\n"
     ]
    },
    {
     "name": "stderr",
     "output_type": "stream",
     "text": [
      "$PSCT: possibly delisted; no price data found  (1d 2023-12-29 -> 2024-01-28)\n"
     ]
    },
    {
     "name": "stdout",
     "output_type": "stream",
     "text": [
      "Error fetching data for PSCT: No historical data available for PSCT around 2024-01-28.\n"
     ]
    },
    {
     "name": "stderr",
     "output_type": "stream",
     "text": [
      "$RY: possibly delisted; no price data found  (1d 2023-12-29 -> 2024-01-28)\n"
     ]
    },
    {
     "name": "stdout",
     "output_type": "stream",
     "text": [
      "Error fetching data for RY: No historical data available for RY around 2024-01-28.\n"
     ]
    },
    {
     "name": "stderr",
     "output_type": "stream",
     "text": [
      "$AIZ: possibly delisted; no price data found  (1d 2023-12-29 -> 2024-01-28)\n"
     ]
    },
    {
     "name": "stdout",
     "output_type": "stream",
     "text": [
      "Error fetching data for AIZ: No historical data available for AIZ around 2024-01-28.\n"
     ]
    },
    {
     "name": "stderr",
     "output_type": "stream",
     "text": [
      "Failed to get ticker 'MUH' reason: Expecting value: line 1 column 1 (char 0)\n",
      "$MUH: possibly delisted; no timezone found\n"
     ]
    },
    {
     "name": "stdout",
     "output_type": "stream",
     "text": [
      "Error fetching data for MUH: No historical data available for MUH around 2024-01-28.\n"
     ]
    },
    {
     "name": "stderr",
     "output_type": "stream",
     "text": [
      "$ESSA: possibly delisted; no price data found  (1d 2023-12-29 -> 2024-01-28)\n"
     ]
    },
    {
     "name": "stdout",
     "output_type": "stream",
     "text": [
      "Error fetching data for ESSA: No historical data available for ESSA around 2024-01-28.\n"
     ]
    },
    {
     "name": "stderr",
     "output_type": "stream",
     "text": [
      "Failed to get ticker 'RCKB' reason: Expecting value: line 1 column 1 (char 0)\n",
      "$RCKB: possibly delisted; no timezone found\n"
     ]
    },
    {
     "name": "stdout",
     "output_type": "stream",
     "text": [
      "Error fetching data for RCKB: No historical data available for RCKB around 2024-01-28.\n"
     ]
    },
    {
     "name": "stderr",
     "output_type": "stream",
     "text": [
      "Failed to get ticker 'AVV' reason: Expecting value: line 1 column 1 (char 0)\n",
      "$AVV: possibly delisted; no timezone found\n"
     ]
    },
    {
     "name": "stdout",
     "output_type": "stream",
     "text": [
      "Error fetching data for AVV: No historical data available for AVV around 2024-01-28.\n"
     ]
    },
    {
     "name": "stderr",
     "output_type": "stream",
     "text": [
      "Failed to get ticker 'BML-L' reason: Expecting value: line 1 column 1 (char 0)\n",
      "$BML-L: possibly delisted; no timezone found\n"
     ]
    },
    {
     "name": "stdout",
     "output_type": "stream",
     "text": [
      "Error fetching data for BML-L: No historical data available for BML-L around 2024-01-28.\n"
     ]
    },
    {
     "name": "stderr",
     "output_type": "stream",
     "text": [
      "$TAP: possibly delisted; no price data found  (1d 2023-12-29 -> 2024-01-28)\n"
     ]
    },
    {
     "name": "stdout",
     "output_type": "stream",
     "text": [
      "Error fetching data for TAP: No historical data available for TAP around 2024-01-28.\n"
     ]
    },
    {
     "name": "stderr",
     "output_type": "stream",
     "text": [
      "$GSJK: possibly delisted; no price data found  (1d 2023-12-29 -> 2024-01-28)\n"
     ]
    },
    {
     "name": "stdout",
     "output_type": "stream",
     "text": [
      "Error fetching data for GSJK: No historical data available for GSJK around 2024-01-28.\n"
     ]
    },
    {
     "name": "stderr",
     "output_type": "stream",
     "text": [
      "$TQQQ: possibly delisted; no price data found  (1d 2023-12-29 -> 2024-01-28)\n"
     ]
    },
    {
     "name": "stdout",
     "output_type": "stream",
     "text": [
      "Error fetching data for TQQQ: No historical data available for TQQQ around 2024-01-28.\n"
     ]
    },
    {
     "name": "stderr",
     "output_type": "stream",
     "text": [
      "$JBL: possibly delisted; no price data found  (1d 2023-12-29 -> 2024-01-28)\n"
     ]
    },
    {
     "name": "stdout",
     "output_type": "stream",
     "text": [
      "Error fetching data for JBL: No historical data available for JBL around 2024-01-28.\n"
     ]
    },
    {
     "name": "stderr",
     "output_type": "stream",
     "text": [
      "$SWX: possibly delisted; no price data found  (1d 2023-12-29 -> 2024-01-28)\n"
     ]
    },
    {
     "name": "stdout",
     "output_type": "stream",
     "text": [
      "Error fetching data for SWX: No historical data available for SWX around 2024-01-28.\n"
     ]
    },
    {
     "name": "stderr",
     "output_type": "stream",
     "text": [
      "$STK: possibly delisted; no price data found  (1d 2023-12-29 -> 2024-01-28)\n"
     ]
    },
    {
     "name": "stdout",
     "output_type": "stream",
     "text": [
      "Error fetching data for STK: No historical data available for STK around 2024-01-28.\n"
     ]
    },
    {
     "name": "stderr",
     "output_type": "stream",
     "text": [
      "$GHI: possibly delisted; no price data found  (1d 2023-12-29 -> 2024-01-28)\n"
     ]
    },
    {
     "name": "stdout",
     "output_type": "stream",
     "text": [
      "Error fetching data for GHI: No historical data available for GHI around 2024-01-28.\n"
     ]
    },
    {
     "name": "stderr",
     "output_type": "stream",
     "text": [
      "$LO: possibly delisted; no price data found  (1d 2023-12-29 -> 2024-01-28)\n"
     ]
    },
    {
     "name": "stdout",
     "output_type": "stream",
     "text": [
      "Error fetching data for LO: No historical data available for LO around 2024-01-28.\n"
     ]
    },
    {
     "name": "stderr",
     "output_type": "stream",
     "text": [
      "$BRCD: possibly delisted; no price data found  (1d 2023-12-29 -> 2024-01-28)\n"
     ]
    },
    {
     "name": "stdout",
     "output_type": "stream",
     "text": [
      "Error fetching data for BRCD: No historical data available for BRCD around 2024-01-28.\n"
     ]
    },
    {
     "name": "stderr",
     "output_type": "stream",
     "text": [
      "$BTE: possibly delisted; no price data found  (1d 2023-12-29 -> 2024-01-28)\n"
     ]
    },
    {
     "name": "stdout",
     "output_type": "stream",
     "text": [
      "Error fetching data for BTE: No historical data available for BTE around 2024-01-28.\n"
     ]
    },
    {
     "name": "stderr",
     "output_type": "stream",
     "text": [
      "$EBS: possibly delisted; no price data found  (1d 2023-12-29 -> 2024-01-28)\n"
     ]
    },
    {
     "name": "stdout",
     "output_type": "stream",
     "text": [
      "Error fetching data for EBS: No historical data available for EBS around 2024-01-28.\n"
     ]
    },
    {
     "name": "stderr",
     "output_type": "stream",
     "text": [
      "$JRO: possibly delisted; no timezone found\n"
     ]
    },
    {
     "name": "stdout",
     "output_type": "stream",
     "text": [
      "Error fetching data for JRO: No historical data available for JRO around 2024-01-28.\n"
     ]
    },
    {
     "name": "stderr",
     "output_type": "stream",
     "text": [
      "$DLPH: possibly delisted; no timezone found\n"
     ]
    },
    {
     "name": "stdout",
     "output_type": "stream",
     "text": [
      "Error fetching data for DLPH: No historical data available for DLPH around 2024-01-28.\n"
     ]
    },
    {
     "name": "stderr",
     "output_type": "stream",
     "text": [
      "$ASTM: possibly delisted; no price data found  (1d 2023-12-29 -> 2024-01-28)\n"
     ]
    },
    {
     "name": "stdout",
     "output_type": "stream",
     "text": [
      "Error fetching data for ASTM: No historical data available for ASTM around 2024-01-28.\n"
     ]
    },
    {
     "name": "stderr",
     "output_type": "stream",
     "text": [
      "$VTNC: possibly delisted; no price data found  (1d 2023-12-29 -> 2024-01-28)\n"
     ]
    },
    {
     "name": "stdout",
     "output_type": "stream",
     "text": [
      "Error fetching data for VTNC: No historical data available for VTNC around 2024-01-28.\n"
     ]
    },
    {
     "name": "stderr",
     "output_type": "stream",
     "text": [
      "$EXAC: possibly delisted; no price data found  (1d 2023-12-29 -> 2024-01-28)\n"
     ]
    },
    {
     "name": "stdout",
     "output_type": "stream",
     "text": [
      "Error fetching data for EXAC: No historical data available for EXAC around 2024-01-28.\n"
     ]
    },
    {
     "name": "stderr",
     "output_type": "stream",
     "text": [
      "$PPS-A: possibly delisted; no timezone found\n"
     ]
    },
    {
     "name": "stdout",
     "output_type": "stream",
     "text": [
      "Error fetching data for PPS-A: No historical data available for PPS-A around 2024-01-28.\n"
     ]
    },
    {
     "name": "stderr",
     "output_type": "stream",
     "text": [
      "$REV: possibly delisted; no timezone found\n"
     ]
    },
    {
     "name": "stdout",
     "output_type": "stream",
     "text": [
      "Error fetching data for REV: No historical data available for REV around 2024-01-28.\n"
     ]
    },
    {
     "name": "stderr",
     "output_type": "stream",
     "text": [
      "$DEX: possibly delisted; no timezone found\n"
     ]
    },
    {
     "name": "stdout",
     "output_type": "stream",
     "text": [
      "Error fetching data for DEX: No historical data available for DEX around 2024-01-28.\n"
     ]
    },
    {
     "name": "stderr",
     "output_type": "stream",
     "text": [
      "$BCOM: possibly delisted; no timezone found\n",
      "$NSM: possibly delisted; no price data found  (1d 2023-12-29 -> 2024-01-28)\n"
     ]
    },
    {
     "name": "stdout",
     "output_type": "stream",
     "text": [
      "Error fetching data for BCOM: No historical data available for BCOM around 2024-01-28.\n",
      "Error fetching data for NSM: No historical data available for NSM around 2024-01-28.\n"
     ]
    },
    {
     "name": "stderr",
     "output_type": "stream",
     "text": [
      "$EMITF: possibly delisted; no price data found  (period=1d)\n"
     ]
    },
    {
     "name": "stdout",
     "output_type": "stream",
     "text": [
      "Error fetching data for EMITF: single positional indexer is out-of-bounds\n"
     ]
    },
    {
     "name": "stderr",
     "output_type": "stream",
     "text": [
      "$SCH-B: possibly delisted; no timezone found\n",
      "$FCY: possibly delisted; no price data found  (1d 2023-12-29 -> 2024-01-28)\n"
     ]
    },
    {
     "name": "stdout",
     "output_type": "stream",
     "text": [
      "Error fetching data for SCH-B: No historical data available for SCH-B around 2024-01-28.\n",
      "Error fetching data for FCY: No historical data available for FCY around 2024-01-28.\n"
     ]
    },
    {
     "name": "stderr",
     "output_type": "stream",
     "text": [
      "$DO: possibly delisted; no timezone found\n"
     ]
    },
    {
     "name": "stdout",
     "output_type": "stream",
     "text": [
      "Error fetching data for DO: No historical data available for DO around 2024-01-28.\n"
     ]
    },
    {
     "name": "stderr",
     "output_type": "stream",
     "text": [
      "$DNR: possibly delisted; no timezone found\n",
      "$VIFL: possibly delisted; no price data found  (1d 2023-12-29 -> 2024-01-28)\n"
     ]
    },
    {
     "name": "stdout",
     "output_type": "stream",
     "text": [
      "Error fetching data for DNR: No historical data available for DNR around 2024-01-28.\n",
      "Error fetching data for VIFL: No historical data available for VIFL around 2024-01-28.\n"
     ]
    },
    {
     "name": "stderr",
     "output_type": "stream",
     "text": [
      "$NBS: possibly delisted; no price data found  (1d 2023-12-29 -> 2024-01-28)\n"
     ]
    },
    {
     "name": "stdout",
     "output_type": "stream",
     "text": [
      "Error fetching data for NBS: No historical data available for NBS around 2024-01-28.\n"
     ]
    },
    {
     "name": "stderr",
     "output_type": "stream",
     "text": [
      "$GJP: possibly delisted; no price data found  (period=1d)\n"
     ]
    },
    {
     "name": "stdout",
     "output_type": "stream",
     "text": [
      "Error fetching data for GJP: single positional indexer is out-of-bounds\n"
     ]
    },
    {
     "name": "stderr",
     "output_type": "stream",
     "text": [
      "$VASC: possibly delisted; no price data found  (1d 2023-12-29 -> 2024-01-28)\n"
     ]
    },
    {
     "name": "stdout",
     "output_type": "stream",
     "text": [
      "Error fetching data for VASC: No historical data available for VASC around 2024-01-28.\n"
     ]
    },
    {
     "name": "stderr",
     "output_type": "stream",
     "text": [
      "$ZIXI: possibly delisted; no timezone found\n"
     ]
    },
    {
     "name": "stdout",
     "output_type": "stream",
     "text": [
      "Error fetching data for ZIXI: No historical data available for ZIXI around 2024-01-28.\n"
     ]
    },
    {
     "name": "stderr",
     "output_type": "stream",
     "text": [
      "$PYV: possibly delisted; no price data found  (1d 2023-12-29 -> 2024-01-28)\n"
     ]
    },
    {
     "name": "stdout",
     "output_type": "stream",
     "text": [
      "Error fetching data for PYV: No historical data available for PYV around 2024-01-28.\n"
     ]
    },
    {
     "name": "stderr",
     "output_type": "stream",
     "text": [
      "$SLG-I: possibly delisted; no timezone found\n"
     ]
    },
    {
     "name": "stdout",
     "output_type": "stream",
     "text": [
      "Error fetching data for SLG-I: No historical data available for SLG-I around 2024-01-28.\n"
     ]
    },
    {
     "name": "stderr",
     "output_type": "stream",
     "text": [
      "$GIM: possibly delisted; no timezone found\n",
      "$GRR: possibly delisted; no price data found  (1d 2023-12-29 -> 2024-01-28)\n"
     ]
    },
    {
     "name": "stdout",
     "output_type": "stream",
     "text": [
      "Error fetching data for GIM: No historical data available for GIM around 2024-01-28.\n",
      "Error fetching data for GRR: No historical data available for GRR around 2024-01-28.\n"
     ]
    },
    {
     "name": "stderr",
     "output_type": "stream",
     "text": [
      "$AETI: possibly delisted; no timezone found\n"
     ]
    },
    {
     "name": "stdout",
     "output_type": "stream",
     "text": [
      "Error fetching data for AETI: No historical data available for AETI around 2024-01-28.\n"
     ]
    },
    {
     "name": "stderr",
     "output_type": "stream",
     "text": [
      "$NQC: possibly delisted; no price data found  (1d 2023-12-29 -> 2024-01-28)\n"
     ]
    },
    {
     "name": "stdout",
     "output_type": "stream",
     "text": [
      "Error fetching data for NQC: No historical data available for NQC around 2024-01-28.\n"
     ]
    },
    {
     "name": "stderr",
     "output_type": "stream",
     "text": [
      "$CRTX: possibly delisted; no timezone found\n"
     ]
    },
    {
     "name": "stdout",
     "output_type": "stream",
     "text": [
      "Error fetching data for CRTX: No historical data available for CRTX around 2024-01-28.\n"
     ]
    },
    {
     "name": "stderr",
     "output_type": "stream",
     "text": [
      "$AMIC: possibly delisted; no price data found  (1d 2023-12-29 -> 2024-01-28)\n"
     ]
    },
    {
     "name": "stdout",
     "output_type": "stream",
     "text": [
      "Error fetching data for AMIC: No historical data available for AMIC around 2024-01-28.\n"
     ]
    },
    {
     "name": "stderr",
     "output_type": "stream",
     "text": [
      "$TNP: possibly delisted; no timezone found\n",
      "$CJES: possibly delisted; no price data found  (1d 2023-12-29 -> 2024-01-28)\n"
     ]
    },
    {
     "name": "stdout",
     "output_type": "stream",
     "text": [
      "Error fetching data for TNP: No historical data available for TNP around 2024-01-28.\n",
      "Error fetching data for CJES: No historical data available for CJES around 2024-01-28.\n"
     ]
    },
    {
     "name": "stderr",
     "output_type": "stream",
     "text": [
      "$PACD: possibly delisted; no timezone found\n",
      "$BHI: possibly delisted; no price data found  (1d 2023-12-29 -> 2024-01-28)\n"
     ]
    },
    {
     "name": "stdout",
     "output_type": "stream",
     "text": [
      "Error fetching data for PACD: No historical data available for PACD around 2024-01-28.\n",
      "Error fetching data for BHI: No historical data available for BHI around 2024-01-28.\n"
     ]
    },
    {
     "name": "stderr",
     "output_type": "stream",
     "text": [
      "$AKRX: possibly delisted; no timezone found\n"
     ]
    },
    {
     "name": "stdout",
     "output_type": "stream",
     "text": [
      "Error fetching data for AKRX: No historical data available for AKRX around 2024-01-28.\n"
     ]
    },
    {
     "name": "stderr",
     "output_type": "stream",
     "text": [
      "$AFA: possibly delisted; no timezone found\n"
     ]
    },
    {
     "name": "stdout",
     "output_type": "stream",
     "text": [
      "Error fetching data for AFA: No historical data available for AFA around 2024-01-28.\n"
     ]
    },
    {
     "name": "stderr",
     "output_type": "stream",
     "text": [
      "$OBAS: possibly delisted; no timezone found\n"
     ]
    },
    {
     "name": "stdout",
     "output_type": "stream",
     "text": [
      "Error fetching data for OBAS: No historical data available for OBAS around 2024-01-28.\n"
     ]
    },
    {
     "name": "stderr",
     "output_type": "stream",
     "text": [
      "$FLDM: possibly delisted; no timezone found\n"
     ]
    },
    {
     "name": "stdout",
     "output_type": "stream",
     "text": [
      "Error fetching data for FLDM: No historical data available for FLDM around 2024-01-28.\n"
     ]
    },
    {
     "name": "stderr",
     "output_type": "stream",
     "text": [
      "$ALOG: possibly delisted; no price data found  (1d 2023-12-29 -> 2024-01-28)\n",
      "$ELN: possibly delisted; no price data found  (1d 2023-12-29 -> 2024-01-28)\n",
      "$JOEZ: possibly delisted; no price data found  (1d 2023-12-29 -> 2024-01-28)\n"
     ]
    },
    {
     "name": "stdout",
     "output_type": "stream",
     "text": [
      "Error fetching data for ALOG: No historical data available for ALOG around 2024-01-28.\n",
      "Error fetching data for ELN: No historical data available for ELN around 2024-01-28.\n",
      "Error fetching data for JOEZ: No historical data available for JOEZ around 2024-01-28.\n"
     ]
    },
    {
     "name": "stderr",
     "output_type": "stream",
     "text": [
      "$SNE: possibly delisted; no timezone found\n"
     ]
    },
    {
     "name": "stdout",
     "output_type": "stream",
     "text": [
      "Error fetching data for SNE: No historical data available for SNE around 2024-01-28.\n"
     ]
    },
    {
     "name": "stderr",
     "output_type": "stream",
     "text": [
      "$NM: possibly delisted; no timezone found\n"
     ]
    },
    {
     "name": "stdout",
     "output_type": "stream",
     "text": [
      "Error fetching data for NM: No historical data available for NM around 2024-01-28.\n"
     ]
    },
    {
     "name": "stderr",
     "output_type": "stream",
     "text": [
      "$PL-C: possibly delisted; no timezone found\n"
     ]
    },
    {
     "name": "stdout",
     "output_type": "stream",
     "text": [
      "Error fetching data for PL-C: No historical data available for PL-C around 2024-01-28.\n"
     ]
    },
    {
     "name": "stderr",
     "output_type": "stream",
     "text": [
      "$BJZ: possibly delisted; no price data found  (1d 2023-12-29 -> 2024-01-28)\n"
     ]
    },
    {
     "name": "stdout",
     "output_type": "stream",
     "text": [
      "Error fetching data for BJZ: No historical data available for BJZ around 2024-01-28.\n"
     ]
    },
    {
     "name": "stderr",
     "output_type": "stream",
     "text": [
      "$SDLP: possibly delisted; no timezone found\n"
     ]
    },
    {
     "name": "stdout",
     "output_type": "stream",
     "text": [
      "Error fetching data for SDLP: No historical data available for SDLP around 2024-01-28.\n"
     ]
    },
    {
     "name": "stderr",
     "output_type": "stream",
     "text": [
      "$ANDA: possibly delisted; no timezone found\n"
     ]
    },
    {
     "name": "stdout",
     "output_type": "stream",
     "text": [
      "Error fetching data for ANDA: No historical data available for ANDA around 2024-01-28.\n"
     ]
    },
    {
     "name": "stderr",
     "output_type": "stream",
     "text": [
      "$SAN-B: possibly delisted; no timezone found\n"
     ]
    },
    {
     "name": "stdout",
     "output_type": "stream",
     "text": [
      "Error fetching data for SAN-B: No historical data available for SAN-B around 2024-01-28.\n"
     ]
    },
    {
     "name": "stderr",
     "output_type": "stream",
     "text": [
      "$RNET: possibly delisted; no timezone found\n"
     ]
    },
    {
     "name": "stdout",
     "output_type": "stream",
     "text": [
      "Error fetching data for RNET: No historical data available for RNET around 2024-01-28.\n"
     ]
    },
    {
     "name": "stderr",
     "output_type": "stream",
     "text": [
      "$LDK: possibly delisted; no price data found  (1d 2023-12-29 -> 2024-01-28)\n"
     ]
    },
    {
     "name": "stdout",
     "output_type": "stream",
     "text": [
      "Error fetching data for LDK: No historical data available for LDK around 2024-01-28.\n"
     ]
    },
    {
     "name": "stderr",
     "output_type": "stream",
     "text": [
      "$PVTB: possibly delisted; no price data found  (1d 2023-12-29 -> 2024-01-28)\n"
     ]
    },
    {
     "name": "stdout",
     "output_type": "stream",
     "text": [
      "Error fetching data for PVTB: No historical data available for PVTB around 2024-01-28.\n"
     ]
    },
    {
     "name": "stderr",
     "output_type": "stream",
     "text": [
      "$NWBOW: possibly delisted; no timezone found\n"
     ]
    },
    {
     "name": "stdout",
     "output_type": "stream",
     "text": [
      "Error fetching data for NWBOW: No historical data available for NWBOW around 2024-01-28.\n"
     ]
    },
    {
     "name": "stderr",
     "output_type": "stream",
     "text": [
      "$TRLA: possibly delisted; no price data found  (1d 2023-12-29 -> 2024-01-28)\n"
     ]
    },
    {
     "name": "stdout",
     "output_type": "stream",
     "text": [
      "Error fetching data for TRLA: No historical data available for TRLA around 2024-01-28.\n"
     ]
    },
    {
     "name": "stderr",
     "output_type": "stream",
     "text": [
      "$WAG: possibly delisted; no price data found  (1d 2023-12-29 -> 2024-01-28)\n",
      "$GSE: possibly delisted; no price data found  (1d 2023-12-29 -> 2024-01-28)\n"
     ]
    },
    {
     "name": "stdout",
     "output_type": "stream",
     "text": [
      "Error fetching data for WAG: No historical data available for WAG around 2024-01-28.\n",
      "Error fetching data for GSE: No historical data available for GSE around 2024-01-28.\n"
     ]
    },
    {
     "name": "stderr",
     "output_type": "stream",
     "text": [
      "$ASNA: possibly delisted; no timezone found\n"
     ]
    },
    {
     "name": "stdout",
     "output_type": "stream",
     "text": [
      "Error fetching data for ASNA: No historical data available for ASNA around 2024-01-28.\n"
     ]
    },
    {
     "name": "stderr",
     "output_type": "stream",
     "text": [
      "$NQ: possibly delisted; no price data found  (1d 2023-12-29 -> 2024-01-28)\n"
     ]
    },
    {
     "name": "stdout",
     "output_type": "stream",
     "text": [
      "Error fetching data for NQ: No historical data available for NQ around 2024-01-28.\n"
     ]
    },
    {
     "name": "stderr",
     "output_type": "stream",
     "text": [
      "$SMLP: possibly delisted; no timezone found\n"
     ]
    },
    {
     "name": "stdout",
     "output_type": "stream",
     "text": [
      "Error fetching data for SMLP: No historical data available for SMLP around 2024-01-28.\n"
     ]
    },
    {
     "name": "stderr",
     "output_type": "stream",
     "text": [
      "$GDP-D: possibly delisted; no timezone found\n"
     ]
    },
    {
     "name": "stdout",
     "output_type": "stream",
     "text": [
      "Error fetching data for GDP-D: No historical data available for GDP-D around 2024-01-28.\n"
     ]
    },
    {
     "name": "stderr",
     "output_type": "stream",
     "text": [
      "$PRGX: possibly delisted; no timezone found\n"
     ]
    },
    {
     "name": "stdout",
     "output_type": "stream",
     "text": [
      "Error fetching data for PRGX: No historical data available for PRGX around 2024-01-28.\n"
     ]
    },
    {
     "name": "stderr",
     "output_type": "stream",
     "text": [
      "$UIS-A: possibly delisted; no timezone found\n"
     ]
    },
    {
     "name": "stdout",
     "output_type": "stream",
     "text": [
      "Error fetching data for UIS-A: No historical data available for UIS-A around 2024-01-28.\n"
     ]
    },
    {
     "name": "stderr",
     "output_type": "stream",
     "text": [
      "$FII: possibly delisted; no timezone found\n"
     ]
    },
    {
     "name": "stdout",
     "output_type": "stream",
     "text": [
      "Error fetching data for FII: No historical data available for FII around 2024-01-28.\n"
     ]
    },
    {
     "name": "stderr",
     "output_type": "stream",
     "text": [
      "$TRCB: possibly delisted; no timezone found\n"
     ]
    },
    {
     "name": "stdout",
     "output_type": "stream",
     "text": [
      "Error fetching data for TRCB: No historical data available for TRCB around 2024-01-28.\n"
     ]
    },
    {
     "name": "stderr",
     "output_type": "stream",
     "text": [
      "$NANO: possibly delisted; no timezone found\n",
      "$TCC: possibly delisted; no price data found  (1d 2023-12-29 -> 2024-01-28)\n",
      "$BAXS: possibly delisted; no price data found  (1d 2023-12-29 -> 2024-01-28)\n"
     ]
    },
    {
     "name": "stdout",
     "output_type": "stream",
     "text": [
      "Error fetching data for NANO: No historical data available for NANO around 2024-01-28.\n",
      "Error fetching data for TCC: No historical data available for TCC around 2024-01-28.\n",
      "Error fetching data for BAXS: No historical data available for BAXS around 2024-01-28.\n"
     ]
    },
    {
     "name": "stderr",
     "output_type": "stream",
     "text": [
      "$CDR: possibly delisted; no timezone found\n"
     ]
    },
    {
     "name": "stdout",
     "output_type": "stream",
     "text": [
      "Error fetching data for CDR: No historical data available for CDR around 2024-01-28.\n"
     ]
    },
    {
     "name": "stderr",
     "output_type": "stream",
     "text": [
      "$RTN: possibly delisted; no timezone found\n"
     ]
    },
    {
     "name": "stdout",
     "output_type": "stream",
     "text": [
      "Error fetching data for RTN: No historical data available for RTN around 2024-01-28.\n"
     ]
    },
    {
     "name": "stderr",
     "output_type": "stream",
     "text": [
      "$HNT: possibly delisted; no price data found  (1d 2023-12-29 -> 2024-01-28)\n",
      "$USAP: possibly delisted; no price data found  (period=1d)\n"
     ]
    },
    {
     "name": "stdout",
     "output_type": "stream",
     "text": [
      "Error fetching data for HNT: No historical data available for HNT around 2024-01-28.\n",
      "Error fetching data for USAP: single positional indexer is out-of-bounds\n"
     ]
    },
    {
     "name": "stderr",
     "output_type": "stream",
     "text": [
      "$MER-M: possibly delisted; no timezone found\n",
      "$MDAS: possibly delisted; no price data found  (1d 2023-12-29 -> 2024-01-28)\n"
     ]
    },
    {
     "name": "stdout",
     "output_type": "stream",
     "text": [
      "Error fetching data for MER-M: No historical data available for MER-M around 2024-01-28.\n",
      "Error fetching data for MDAS: No historical data available for MDAS around 2024-01-28.\n"
     ]
    },
    {
     "name": "stderr",
     "output_type": "stream",
     "text": [
      "$SLCA: possibly delisted; no timezone found\n",
      "$ROIA: possibly delisted; no price data found  (1d 2023-12-29 -> 2024-01-28)\n"
     ]
    },
    {
     "name": "stdout",
     "output_type": "stream",
     "text": [
      "Error fetching data for SLCA: No historical data available for SLCA around 2024-01-28.\n",
      "Error fetching data for ROIA: No historical data available for ROIA around 2024-01-28.\n"
     ]
    },
    {
     "name": "stderr",
     "output_type": "stream",
     "text": [
      "$PSEM: possibly delisted; no price data found  (1d 2023-12-29 -> 2024-01-28)\n"
     ]
    },
    {
     "name": "stdout",
     "output_type": "stream",
     "text": [
      "Error fetching data for PSEM: No historical data available for PSEM around 2024-01-28.\n"
     ]
    },
    {
     "name": "stderr",
     "output_type": "stream",
     "text": [
      "$BLC: possibly delisted; no price data found  (1d 2023-12-29 -> 2024-01-28)\n"
     ]
    },
    {
     "name": "stdout",
     "output_type": "stream",
     "text": [
      "Error fetching data for BLC: No historical data available for BLC around 2024-01-28.\n"
     ]
    },
    {
     "name": "stderr",
     "output_type": "stream",
     "text": [
      "$IID: possibly delisted; no timezone found\n"
     ]
    },
    {
     "name": "stdout",
     "output_type": "stream",
     "text": [
      "Error fetching data for IID: No historical data available for IID around 2024-01-28.\n"
     ]
    },
    {
     "name": "stderr",
     "output_type": "stream",
     "text": [
      "$HLSS: possibly delisted; no price data found  (1d 2023-12-29 -> 2024-01-28)\n"
     ]
    },
    {
     "name": "stdout",
     "output_type": "stream",
     "text": [
      "Error fetching data for HLSS: No historical data available for HLSS around 2024-01-28.\n"
     ]
    },
    {
     "name": "stderr",
     "output_type": "stream",
     "text": [
      "$MANT: possibly delisted; no timezone found\n",
      "$BPHX: possibly delisted; no price data found  (1d 2023-12-29 -> 2024-01-28)\n",
      "$GCOM: possibly delisted; no price data found  (1d 2023-12-29 -> 2024-01-28)\n"
     ]
    },
    {
     "name": "stdout",
     "output_type": "stream",
     "text": [
      "Error fetching data for MANT: No historical data available for MANT around 2024-01-28.\n",
      "Error fetching data for BPHX: No historical data available for BPHX around 2024-01-28.\n",
      "Error fetching data for GCOM: No historical data available for GCOM around 2024-01-28.\n"
     ]
    },
    {
     "name": "stderr",
     "output_type": "stream",
     "text": [
      "$ZAGG: possibly delisted; no timezone found\n"
     ]
    },
    {
     "name": "stdout",
     "output_type": "stream",
     "text": [
      "Error fetching data for ZAGG: No historical data available for ZAGG around 2024-01-28.\n"
     ]
    },
    {
     "name": "stderr",
     "output_type": "stream",
     "text": [
      "$NLSN: possibly delisted; no timezone found\n"
     ]
    },
    {
     "name": "stdout",
     "output_type": "stream",
     "text": [
      "Error fetching data for NLSN: No historical data available for NLSN around 2024-01-28.\n"
     ]
    },
    {
     "name": "stderr",
     "output_type": "stream",
     "text": [
      "$CVA: possibly delisted; no timezone found\n"
     ]
    },
    {
     "name": "stdout",
     "output_type": "stream",
     "text": [
      "Error fetching data for CVA: No historical data available for CVA around 2024-01-28.\n"
     ]
    },
    {
     "name": "stderr",
     "output_type": "stream",
     "text": [
      "$LIWA: possibly delisted; no timezone found\n"
     ]
    },
    {
     "name": "stdout",
     "output_type": "stream",
     "text": [
      "Error fetching data for LIWA: No historical data available for LIWA around 2024-01-28.\n"
     ]
    },
    {
     "name": "stderr",
     "output_type": "stream",
     "text": [
      "$GM.A: possibly delisted; no timezone found\n"
     ]
    },
    {
     "name": "stdout",
     "output_type": "stream",
     "text": [
      "Error fetching data for GM.A: No historical data available for GM.A around 2024-01-28.\n"
     ]
    },
    {
     "name": "stderr",
     "output_type": "stream",
     "text": [
      "$ADES: possibly delisted; no timezone found\n"
     ]
    },
    {
     "name": "stdout",
     "output_type": "stream",
     "text": [
      "Error fetching data for ADES: No historical data available for ADES around 2024-01-28.\n"
     ]
    },
    {
     "name": "stderr",
     "output_type": "stream",
     "text": [
      "$AED: possibly delisted; no price data found  (1d 2023-12-29 -> 2024-01-28)\n"
     ]
    },
    {
     "name": "stdout",
     "output_type": "stream",
     "text": [
      "Error fetching data for AED: No historical data available for AED around 2024-01-28.\n"
     ]
    },
    {
     "name": "stderr",
     "output_type": "stream",
     "text": [
      "$WILN: possibly delisted; no price data found  (1d 2023-12-29 -> 2024-01-28)\n"
     ]
    },
    {
     "name": "stdout",
     "output_type": "stream",
     "text": [
      "Error fetching data for WILN: No historical data available for WILN around 2024-01-28.\n"
     ]
    },
    {
     "name": "stderr",
     "output_type": "stream",
     "text": [
      "$ABCO: possibly delisted; no price data found  (1d 2023-12-29 -> 2024-01-28)\n"
     ]
    },
    {
     "name": "stdout",
     "output_type": "stream",
     "text": [
      "Error fetching data for ABCO: No historical data available for ABCO around 2024-01-28.\n"
     ]
    },
    {
     "name": "stderr",
     "output_type": "stream",
     "text": [
      "$LM: possibly delisted; no timezone found\n"
     ]
    },
    {
     "name": "stdout",
     "output_type": "stream",
     "text": [
      "Error fetching data for LM: No historical data available for LM around 2024-01-28.\n"
     ]
    },
    {
     "name": "stderr",
     "output_type": "stream",
     "text": [
      "$NDZ: possibly delisted; no price data found  (1d 2023-12-29 -> 2024-01-28)\n"
     ]
    },
    {
     "name": "stdout",
     "output_type": "stream",
     "text": [
      "Error fetching data for NDZ: No historical data available for NDZ around 2024-01-28.\n"
     ]
    },
    {
     "name": "stderr",
     "output_type": "stream",
     "text": [
      "$ATHN: possibly delisted; no timezone found\n"
     ]
    },
    {
     "name": "stdout",
     "output_type": "stream",
     "text": [
      "Error fetching data for ATHN: No historical data available for ATHN around 2024-01-28.\n"
     ]
    },
    {
     "name": "stderr",
     "output_type": "stream",
     "text": [
      "$ATV: possibly delisted; no timezone found\n"
     ]
    },
    {
     "name": "stdout",
     "output_type": "stream",
     "text": [
      "Error fetching data for ATV: No historical data available for ATV around 2024-01-28.\n"
     ]
    },
    {
     "name": "stderr",
     "output_type": "stream",
     "text": [
      "$TC-T: possibly delisted; no timezone found\n",
      "$PULB: possibly delisted; no price data found  (1d 2023-12-29 -> 2024-01-28)\n",
      "$CWEI: possibly delisted; no price data found  (1d 2023-12-29 -> 2024-01-28)\n"
     ]
    },
    {
     "name": "stdout",
     "output_type": "stream",
     "text": [
      "Error fetching data for TC-T: No historical data available for TC-T around 2024-01-28.\n",
      "Error fetching data for PULB: No historical data available for PULB around 2024-01-28.\n",
      "Error fetching data for CWEI: No historical data available for CWEI around 2024-01-28.\n"
     ]
    },
    {
     "name": "stderr",
     "output_type": "stream",
     "text": [
      "$EEA: possibly delisted; no price data found  (period=1d)\n",
      "$HSA: possibly delisted; no price data found  (1d 2023-12-29 -> 2024-01-28)\n"
     ]
    },
    {
     "name": "stdout",
     "output_type": "stream",
     "text": [
      "Error fetching data for EEA: single positional indexer is out-of-bounds\n",
      "Error fetching data for HSA: No historical data available for HSA around 2024-01-28.\n"
     ]
    },
    {
     "name": "stderr",
     "output_type": "stream",
     "text": [
      "$UZA: possibly delisted; no timezone found\n"
     ]
    },
    {
     "name": "stdout",
     "output_type": "stream",
     "text": [
      "Error fetching data for UZA: No historical data available for UZA around 2024-01-28.\n"
     ]
    },
    {
     "name": "stderr",
     "output_type": "stream",
     "text": [
      "$FNF-B: possibly delisted; no timezone found\n"
     ]
    },
    {
     "name": "stdout",
     "output_type": "stream",
     "text": [
      "Error fetching data for FNF-B: No historical data available for FNF-B around 2024-01-28.\n"
     ]
    },
    {
     "name": "stderr",
     "output_type": "stream",
     "text": [
      "$THST: possibly delisted; no timezone found\n"
     ]
    },
    {
     "name": "stdout",
     "output_type": "stream",
     "text": [
      "Error fetching data for THST: No historical data available for THST around 2024-01-28.\n"
     ]
    },
    {
     "name": "stderr",
     "output_type": "stream",
     "text": [
      "$RKUS: possibly delisted; no price data found  (1d 2023-12-29 -> 2024-01-28)\n",
      "$KDN: possibly delisted; no price data found  (1d 2023-12-29 -> 2024-01-28)\n"
     ]
    },
    {
     "name": "stdout",
     "output_type": "stream",
     "text": [
      "Error fetching data for RKUS: No historical data available for RKUS around 2024-01-28.\n",
      "Error fetching data for KDN: No historical data available for KDN around 2024-01-28.\n"
     ]
    },
    {
     "name": "stderr",
     "output_type": "stream",
     "text": [
      "$VAL.P: possibly delisted; no price data found  (1d 2023-12-29 -> 2024-01-28)\n"
     ]
    },
    {
     "name": "stdout",
     "output_type": "stream",
     "text": [
      "Error fetching data for VAL.P: No historical data available for VAL.P around 2024-01-28.\n"
     ]
    },
    {
     "name": "stderr",
     "output_type": "stream",
     "text": [
      "$CBA: possibly delisted; no price data found  (period=1d)\n"
     ]
    },
    {
     "name": "stdout",
     "output_type": "stream",
     "text": [
      "Error fetching data for CBA: single positional indexer is out-of-bounds\n"
     ]
    },
    {
     "name": "stderr",
     "output_type": "stream",
     "text": [
      "$OSBCP: possibly delisted; no timezone found\n"
     ]
    },
    {
     "name": "stdout",
     "output_type": "stream",
     "text": [
      "Error fetching data for OSBCP: No historical data available for OSBCP around 2024-01-28.\n"
     ]
    },
    {
     "name": "stderr",
     "output_type": "stream",
     "text": [
      "$CTXS: possibly delisted; no timezone found\n"
     ]
    },
    {
     "name": "stdout",
     "output_type": "stream",
     "text": [
      "Error fetching data for CTXS: No historical data available for CTXS around 2024-01-28.\n"
     ]
    },
    {
     "name": "stderr",
     "output_type": "stream",
     "text": [
      "$FRGI: possibly delisted; no timezone found\n"
     ]
    },
    {
     "name": "stdout",
     "output_type": "stream",
     "text": [
      "Error fetching data for FRGI: No historical data available for FRGI around 2024-01-28.\n"
     ]
    },
    {
     "name": "stderr",
     "output_type": "stream",
     "text": [
      "$ARC: possibly delisted; no price data found  (1d 2023-12-29 -> 2024-01-28) (Yahoo error = \"No data found, symbol may be delisted\")\n"
     ]
    },
    {
     "name": "stdout",
     "output_type": "stream",
     "text": [
      "Error fetching data for ARC: No historical data available for ARC around 2024-01-28.\n"
     ]
    },
    {
     "name": "stderr",
     "output_type": "stream",
     "text": [
      "$CTQ: possibly delisted; no price data found  (1d 2023-12-29 -> 2024-01-28)\n"
     ]
    },
    {
     "name": "stdout",
     "output_type": "stream",
     "text": [
      "Error fetching data for CTQ: No historical data available for CTQ around 2024-01-28.\n"
     ]
    },
    {
     "name": "stderr",
     "output_type": "stream",
     "text": [
      "$ZINC: possibly delisted; no price data found  (1d 2023-12-29 -> 2024-01-28)\n"
     ]
    },
    {
     "name": "stdout",
     "output_type": "stream",
     "text": [
      "Error fetching data for ZINC: No historical data available for ZINC around 2024-01-28.\n"
     ]
    },
    {
     "name": "stderr",
     "output_type": "stream",
     "text": [
      "$QEPM: possibly delisted; no timezone found\n"
     ]
    },
    {
     "name": "stdout",
     "output_type": "stream",
     "text": [
      "Error fetching data for QEPM: No historical data available for QEPM around 2024-01-28.\n"
     ]
    },
    {
     "name": "stderr",
     "output_type": "stream",
     "text": [
      "$PRI.B: possibly delisted; no timezone found\n"
     ]
    },
    {
     "name": "stdout",
     "output_type": "stream",
     "text": [
      "Error fetching data for PRI.B: No historical data available for PRI.B around 2024-01-28.\n"
     ]
    },
    {
     "name": "stderr",
     "output_type": "stream",
     "text": [
      "$C-S: possibly delisted; no timezone found\n"
     ]
    },
    {
     "name": "stdout",
     "output_type": "stream",
     "text": [
      "Error fetching data for C-S: No historical data available for C-S around 2024-01-28.\n"
     ]
    },
    {
     "name": "stderr",
     "output_type": "stream",
     "text": [
      "$NXM-C: possibly delisted; no timezone found\n"
     ]
    },
    {
     "name": "stdout",
     "output_type": "stream",
     "text": [
      "Error fetching data for NXM-C: No historical data available for NXM-C around 2024-01-28.\n"
     ]
    },
    {
     "name": "stderr",
     "output_type": "stream",
     "text": [
      "$IRR: possibly delisted; no timezone found\n"
     ]
    },
    {
     "name": "stdout",
     "output_type": "stream",
     "text": [
      "Error fetching data for IRR: No historical data available for IRR around 2024-01-28.\n"
     ]
    },
    {
     "name": "stderr",
     "output_type": "stream",
     "text": [
      "$JW.A: possibly delisted; no timezone found\n",
      "$SWU: possibly delisted; no price data found  (1d 2023-12-29 -> 2024-01-28)\n"
     ]
    },
    {
     "name": "stdout",
     "output_type": "stream",
     "text": [
      "Error fetching data for JW.A: No historical data available for JW.A around 2024-01-28.\n",
      "Error fetching data for SWU: No historical data available for SWU around 2024-01-28.\n"
     ]
    },
    {
     "name": "stderr",
     "output_type": "stream",
     "text": [
      "$MCEP: possibly delisted; no timezone found\n"
     ]
    },
    {
     "name": "stdout",
     "output_type": "stream",
     "text": [
      "Error fetching data for MCEP: No historical data available for MCEP around 2024-01-28.\n"
     ]
    },
    {
     "name": "stderr",
     "output_type": "stream",
     "text": [
      "$PSA-O: possibly delisted; no timezone found\n",
      "$MHY: possibly delisted; no price data found  (1d 2023-12-29 -> 2024-01-28)\n"
     ]
    },
    {
     "name": "stdout",
     "output_type": "stream",
     "text": [
      "Error fetching data for PSA-O: No historical data available for PSA-O around 2024-01-28.\n",
      "Error fetching data for MHY: No historical data available for MHY around 2024-01-28.\n"
     ]
    },
    {
     "name": "stderr",
     "output_type": "stream",
     "text": [
      "$BKSC: possibly delisted; no price data found  (1d 2023-12-29 -> 2024-01-28)\n"
     ]
    },
    {
     "name": "stdout",
     "output_type": "stream",
     "text": [
      "Error fetching data for BKSC: No historical data available for BKSC around 2024-01-28.\n"
     ]
    },
    {
     "name": "stderr",
     "output_type": "stream",
     "text": [
      "Failed to get ticker 'UMH-A' reason: Expecting value: line 1 column 1 (char 0)\n",
      "$UMH-A: possibly delisted; no timezone found\n"
     ]
    },
    {
     "name": "stdout",
     "output_type": "stream",
     "text": [
      "Error fetching data for UMH-A: No historical data available for UMH-A around 2024-01-28.\n"
     ]
    },
    {
     "name": "stderr",
     "output_type": "stream",
     "text": [
      "Failed to get ticker 'RSO-B' reason: Expecting value: line 1 column 1 (char 0)\n",
      "$RSO-B: possibly delisted; no timezone found\n"
     ]
    },
    {
     "name": "stdout",
     "output_type": "stream",
     "text": [
      "Error fetching data for RSO-B: No historical data available for RSO-B around 2024-01-28.\n"
     ]
    },
    {
     "name": "stderr",
     "output_type": "stream",
     "text": [
      "$IMF: possibly delisted; no price data found  (1d 2023-12-29 -> 2024-01-28)\n"
     ]
    },
    {
     "name": "stdout",
     "output_type": "stream",
     "text": [
      "Error fetching data for IMF: No historical data available for IMF around 2024-01-28.\n"
     ]
    },
    {
     "name": "stderr",
     "output_type": "stream",
     "text": [
      "Failed to get ticker 'PCTI' reason: Expecting value: line 1 column 1 (char 0)\n",
      "$PCTI: possibly delisted; no timezone found\n"
     ]
    },
    {
     "name": "stdout",
     "output_type": "stream",
     "text": [
      "Error fetching data for PCTI: No historical data available for PCTI around 2024-01-28.\n"
     ]
    },
    {
     "name": "stderr",
     "output_type": "stream",
     "text": [
      "$ASPS: possibly delisted; no price data found  (1d 2023-12-29 -> 2024-01-28)\n"
     ]
    },
    {
     "name": "stdout",
     "output_type": "stream",
     "text": [
      "Error fetching data for ASPS: No historical data available for ASPS around 2024-01-28.\n"
     ]
    },
    {
     "name": "stderr",
     "output_type": "stream",
     "text": [
      "$RYN: possibly delisted; no price data found  (1d 2023-12-29 -> 2024-01-28)\n"
     ]
    },
    {
     "name": "stdout",
     "output_type": "stream",
     "text": [
      "Error fetching data for RYN: No historical data available for RYN around 2024-01-28.\n"
     ]
    },
    {
     "name": "stderr",
     "output_type": "stream",
     "text": [
      "Failed to get ticker 'SBGL' reason: Expecting value: line 1 column 1 (char 0)\n",
      "$SBGL: possibly delisted; no timezone found\n"
     ]
    },
    {
     "name": "stdout",
     "output_type": "stream",
     "text": [
      "Error fetching data for SBGL: No historical data available for SBGL around 2024-01-28.\n"
     ]
    },
    {
     "name": "stderr",
     "output_type": "stream",
     "text": [
      "$JACQW: possibly delisted; no price data found  (1d 2023-12-29 -> 2024-01-28)\n"
     ]
    },
    {
     "name": "stdout",
     "output_type": "stream",
     "text": [
      "Error fetching data for JACQW: No historical data available for JACQW around 2024-01-28.\n"
     ]
    },
    {
     "name": "stderr",
     "output_type": "stream",
     "text": [
      "Failed to get ticker 'FDEF' reason: Expecting value: line 1 column 1 (char 0)\n",
      "$FDEF: possibly delisted; no timezone found\n"
     ]
    },
    {
     "name": "stdout",
     "output_type": "stream",
     "text": [
      "Error fetching data for FDEF: No historical data available for FDEF around 2024-01-28.\n"
     ]
    },
    {
     "name": "stderr",
     "output_type": "stream",
     "text": [
      "$EOD: possibly delisted; no price data found  (1d 2023-12-29 -> 2024-01-28)\n"
     ]
    },
    {
     "name": "stdout",
     "output_type": "stream",
     "text": [
      "Error fetching data for EOD: No historical data available for EOD around 2024-01-28.\n"
     ]
    },
    {
     "name": "stderr",
     "output_type": "stream",
     "text": [
      "$MIDD: possibly delisted; no price data found  (1d 2023-12-29 -> 2024-01-28)\n"
     ]
    },
    {
     "name": "stdout",
     "output_type": "stream",
     "text": [
      "Error fetching data for MIDD: No historical data available for MIDD around 2024-01-28.\n"
     ]
    },
    {
     "name": "stderr",
     "output_type": "stream",
     "text": [
      "$GES: possibly delisted; no price data found  (1d 2023-12-29 -> 2024-01-28)\n"
     ]
    },
    {
     "name": "stdout",
     "output_type": "stream",
     "text": [
      "Error fetching data for GES: No historical data available for GES around 2024-01-28.\n"
     ]
    },
    {
     "name": "stderr",
     "output_type": "stream",
     "text": [
      "$MRTN: possibly delisted; no price data found  (1d 2023-12-29 -> 2024-01-28)\n"
     ]
    },
    {
     "name": "stdout",
     "output_type": "stream",
     "text": [
      "Error fetching data for MRTN: No historical data available for MRTN around 2024-01-28.\n"
     ]
    },
    {
     "name": "stderr",
     "output_type": "stream",
     "text": [
      "Failed to get ticker 'NBL' reason: Expecting value: line 1 column 1 (char 0)\n",
      "$NBL: possibly delisted; no timezone found\n"
     ]
    },
    {
     "name": "stdout",
     "output_type": "stream",
     "text": [
      "Error fetching data for NBL: No historical data available for NBL around 2024-01-28.\n"
     ]
    },
    {
     "name": "stderr",
     "output_type": "stream",
     "text": [
      "Failed to get ticker 'NILE' reason: Expecting value: line 1 column 1 (char 0)\n",
      "$NILE: possibly delisted; no timezone found\n"
     ]
    },
    {
     "name": "stdout",
     "output_type": "stream",
     "text": [
      "Error fetching data for NILE: No historical data available for NILE around 2024-01-28.\n"
     ]
    },
    {
     "name": "stderr",
     "output_type": "stream",
     "text": [
      "Failed to get ticker 'SPPI' reason: Expecting value: line 1 column 1 (char 0)\n",
      "$SPPI: possibly delisted; no timezone found\n"
     ]
    },
    {
     "name": "stdout",
     "output_type": "stream",
     "text": [
      "Error fetching data for SPPI: No historical data available for SPPI around 2024-01-28.\n"
     ]
    },
    {
     "name": "stderr",
     "output_type": "stream",
     "text": [
      "$RBA: possibly delisted; no price data found  (1d 2023-12-29 -> 2024-01-28)\n"
     ]
    },
    {
     "name": "stdout",
     "output_type": "stream",
     "text": [
      "Error fetching data for RBA: No historical data available for RBA around 2024-01-28.\n"
     ]
    },
    {
     "name": "stderr",
     "output_type": "stream",
     "text": [
      "$MSO: possibly delisted; no price data found  (1d 2023-12-29 -> 2024-01-28)\n"
     ]
    },
    {
     "name": "stdout",
     "output_type": "stream",
     "text": [
      "Error fetching data for MSO: No historical data available for MSO around 2024-01-28.\n"
     ]
    },
    {
     "name": "stderr",
     "output_type": "stream",
     "text": [
      "$BKH: possibly delisted; no price data found  (1d 2023-12-29 -> 2024-01-28)\n"
     ]
    },
    {
     "name": "stdout",
     "output_type": "stream",
     "text": [
      "Error fetching data for BKH: No historical data available for BKH around 2024-01-28.\n"
     ]
    },
    {
     "name": "stderr",
     "output_type": "stream",
     "text": [
      "$PFX: possibly delisted; no price data found  (1d 2023-12-29 -> 2024-01-28)\n"
     ]
    },
    {
     "name": "stdout",
     "output_type": "stream",
     "text": [
      "Error fetching data for PFX: No historical data available for PFX around 2024-01-28.\n"
     ]
    },
    {
     "name": "stderr",
     "output_type": "stream",
     "text": [
      "$SR: possibly delisted; no price data found  (1d 2023-12-29 -> 2024-01-28)\n"
     ]
    },
    {
     "name": "stdout",
     "output_type": "stream",
     "text": [
      "Error fetching data for SR: No historical data available for SR around 2024-01-28.\n"
     ]
    },
    {
     "name": "stderr",
     "output_type": "stream",
     "text": [
      "$ACMP: possibly delisted; no price data found  (1d 2023-12-29 -> 2024-01-28)\n"
     ]
    },
    {
     "name": "stdout",
     "output_type": "stream",
     "text": [
      "Error fetching data for ACMP: No historical data available for ACMP around 2024-01-28.\n"
     ]
    },
    {
     "name": "stderr",
     "output_type": "stream",
     "text": [
      "$TEP: possibly delisted; no price data found  (1d 2023-12-29 -> 2024-01-28)\n"
     ]
    },
    {
     "name": "stdout",
     "output_type": "stream",
     "text": [
      "Error fetching data for TEP: No historical data available for TEP around 2024-01-28.\n"
     ]
    },
    {
     "name": "stderr",
     "output_type": "stream",
     "text": [
      "Failed to get ticker 'LLNW' reason: Expecting value: line 1 column 1 (char 0)\n",
      "$LLNW: possibly delisted; no timezone found\n"
     ]
    },
    {
     "name": "stdout",
     "output_type": "stream",
     "text": [
      "Error fetching data for LLNW: No historical data available for LLNW around 2024-01-28.\n"
     ]
    },
    {
     "name": "stderr",
     "output_type": "stream",
     "text": [
      "$KNOP: possibly delisted; no price data found  (1d 2023-12-29 -> 2024-01-28)\n"
     ]
    },
    {
     "name": "stdout",
     "output_type": "stream",
     "text": [
      "Error fetching data for KNOP: No historical data available for KNOP around 2024-01-28.\n"
     ]
    },
    {
     "name": "stderr",
     "output_type": "stream",
     "text": [
      "$TGX: possibly delisted; no price data found  (1d 2023-12-29 -> 2024-01-28)\n"
     ]
    },
    {
     "name": "stdout",
     "output_type": "stream",
     "text": [
      "Error fetching data for TGX: No historical data available for TGX around 2024-01-28.\n"
     ]
    },
    {
     "name": "stderr",
     "output_type": "stream",
     "text": [
      "Failed to get ticker 'HYB' reason: Expecting value: line 1 column 1 (char 0)\n",
      "$HYB: possibly delisted; no timezone found\n"
     ]
    },
    {
     "name": "stdout",
     "output_type": "stream",
     "text": [
      "Error fetching data for HYB: No historical data available for HYB around 2024-01-28.\n"
     ]
    },
    {
     "name": "stderr",
     "output_type": "stream",
     "text": [
      "$CPT: possibly delisted; no price data found  (1d 2023-12-29 -> 2024-01-28)\n"
     ]
    },
    {
     "name": "stdout",
     "output_type": "stream",
     "text": [
      "Error fetching data for CPT: No historical data available for CPT around 2024-01-28.\n"
     ]
    },
    {
     "name": "stderr",
     "output_type": "stream",
     "text": [
      "$UCP: possibly delisted; no price data found  (1d 2023-12-29 -> 2024-01-28)\n"
     ]
    },
    {
     "name": "stdout",
     "output_type": "stream",
     "text": [
      "Error fetching data for UCP: No historical data available for UCP around 2024-01-28.\n"
     ]
    },
    {
     "name": "stderr",
     "output_type": "stream",
     "text": [
      "$MTN: possibly delisted; no price data found  (1d 2023-12-29 -> 2024-01-28)\n"
     ]
    },
    {
     "name": "stdout",
     "output_type": "stream",
     "text": [
      "Error fetching data for MTN: No historical data available for MTN around 2024-01-28.\n"
     ]
    },
    {
     "name": "stderr",
     "output_type": "stream",
     "text": [
      "Failed to get ticker 'GS-A' reason: Expecting value: line 1 column 1 (char 0)\n",
      "$GS-A: possibly delisted; no timezone found\n"
     ]
    },
    {
     "name": "stdout",
     "output_type": "stream",
     "text": [
      "Error fetching data for GS-A: No historical data available for GS-A around 2024-01-28.\n"
     ]
    },
    {
     "name": "stderr",
     "output_type": "stream",
     "text": [
      "$SGU: possibly delisted; no price data found  (1d 2023-12-29 -> 2024-01-28)\n"
     ]
    },
    {
     "name": "stdout",
     "output_type": "stream",
     "text": [
      "Error fetching data for SGU: No historical data available for SGU around 2024-01-28.\n"
     ]
    },
    {
     "name": "stderr",
     "output_type": "stream",
     "text": [
      "Failed to get ticker 'COR-A' reason: Expecting value: line 1 column 1 (char 0)\n",
      "$COR-A: possibly delisted; no timezone found\n"
     ]
    },
    {
     "name": "stdout",
     "output_type": "stream",
     "text": [
      "Error fetching data for COR-A: No historical data available for COR-A around 2024-01-28.\n"
     ]
    },
    {
     "name": "stderr",
     "output_type": "stream",
     "text": [
      "$BLT: possibly delisted; no price data found  (1d 2023-12-29 -> 2024-01-28)\n"
     ]
    },
    {
     "name": "stdout",
     "output_type": "stream",
     "text": [
      "Error fetching data for BLT: No historical data available for BLT around 2024-01-28.\n"
     ]
    },
    {
     "name": "stderr",
     "output_type": "stream",
     "text": [
      "$PZE: possibly delisted; no price data found  (1d 2023-12-29 -> 2024-01-28)\n"
     ]
    },
    {
     "name": "stdout",
     "output_type": "stream",
     "text": [
      "Error fetching data for PZE: No historical data available for PZE around 2024-01-28.\n"
     ]
    },
    {
     "name": "stderr",
     "output_type": "stream",
     "text": [
      "$KMPR: possibly delisted; no price data found  (1d 2023-12-29 -> 2024-01-28)\n"
     ]
    },
    {
     "name": "stdout",
     "output_type": "stream",
     "text": [
      "Error fetching data for KMPR: No historical data available for KMPR around 2024-01-28.\n"
     ]
    },
    {
     "name": "stderr",
     "output_type": "stream",
     "text": [
      "$FTNT: possibly delisted; no price data found  (1d 2023-12-29 -> 2024-01-28)\n"
     ]
    },
    {
     "name": "stdout",
     "output_type": "stream",
     "text": [
      "Error fetching data for FTNT: No historical data available for FTNT around 2024-01-28.\n"
     ]
    },
    {
     "name": "stderr",
     "output_type": "stream",
     "text": [
      "Failed to get ticker 'MKC.V' reason: Expecting value: line 1 column 1 (char 0)\n",
      "$MKC.V: possibly delisted; no timezone found\n"
     ]
    },
    {
     "name": "stdout",
     "output_type": "stream",
     "text": [
      "Error fetching data for MKC.V: No historical data available for MKC.V around 2024-01-28.\n"
     ]
    },
    {
     "name": "stderr",
     "output_type": "stream",
     "text": [
      "$SKH: possibly delisted; no price data found  (1d 2023-12-29 -> 2024-01-28)\n"
     ]
    },
    {
     "name": "stdout",
     "output_type": "stream",
     "text": [
      "Error fetching data for SKH: No historical data available for SKH around 2024-01-28.\n"
     ]
    },
    {
     "name": "stderr",
     "output_type": "stream",
     "text": [
      "$GCV: possibly delisted; no price data found  (1d 2023-12-29 -> 2024-01-28)\n"
     ]
    },
    {
     "name": "stdout",
     "output_type": "stream",
     "text": [
      "Error fetching data for GCV: No historical data available for GCV around 2024-01-28.\n"
     ]
    },
    {
     "name": "stderr",
     "output_type": "stream",
     "text": [
      "$LH: possibly delisted; no price data found  (1d 2023-12-29 -> 2024-01-28)\n"
     ]
    },
    {
     "name": "stdout",
     "output_type": "stream",
     "text": [
      "Error fetching data for LH: No historical data available for LH around 2024-01-28.\n"
     ]
    },
    {
     "name": "stderr",
     "output_type": "stream",
     "text": [
      "Failed to get ticker 'I-A' reason: Expecting value: line 1 column 1 (char 0)\n",
      "$I-A: possibly delisted; no timezone found\n"
     ]
    },
    {
     "name": "stdout",
     "output_type": "stream",
     "text": [
      "Error fetching data for I-A: No historical data available for I-A around 2024-01-28.\n"
     ]
    },
    {
     "name": "stderr",
     "output_type": "stream",
     "text": [
      "$KOG: possibly delisted; no price data found  (1d 2023-12-29 -> 2024-01-28)\n"
     ]
    },
    {
     "name": "stdout",
     "output_type": "stream",
     "text": [
      "Error fetching data for KOG: No historical data available for KOG around 2024-01-28.\n"
     ]
    },
    {
     "name": "stderr",
     "output_type": "stream",
     "text": [
      "$OCRX: possibly delisted; no price data found  (1d 2023-12-29 -> 2024-01-28)\n"
     ]
    },
    {
     "name": "stdout",
     "output_type": "stream",
     "text": [
      "Error fetching data for OCRX: No historical data available for OCRX around 2024-01-28.\n"
     ]
    },
    {
     "name": "stderr",
     "output_type": "stream",
     "text": [
      "$MNTG: possibly delisted; no price data found  (1d 2023-12-29 -> 2024-01-28)\n"
     ]
    },
    {
     "name": "stdout",
     "output_type": "stream",
     "text": [
      "Error fetching data for MNTG: No historical data available for MNTG around 2024-01-28.\n"
     ]
    },
    {
     "name": "stderr",
     "output_type": "stream",
     "text": [
      "Failed to get ticker 'GRA' reason: Expecting value: line 1 column 1 (char 0)\n",
      "$GRA: possibly delisted; no timezone found\n"
     ]
    },
    {
     "name": "stdout",
     "output_type": "stream",
     "text": [
      "Error fetching data for GRA: No historical data available for GRA around 2024-01-28.\n"
     ]
    },
    {
     "name": "stderr",
     "output_type": "stream",
     "text": [
      "Failed to get ticker 'ELLI' reason: Expecting value: line 1 column 1 (char 0)\n",
      "$ELLI: possibly delisted; no timezone found\n"
     ]
    },
    {
     "name": "stdout",
     "output_type": "stream",
     "text": [
      "Error fetching data for ELLI: No historical data available for ELLI around 2024-01-28.\n"
     ]
    },
    {
     "name": "stderr",
     "output_type": "stream",
     "text": [
      "$WPRT: possibly delisted; no price data found  (1d 2023-12-29 -> 2024-01-28)\n"
     ]
    },
    {
     "name": "stdout",
     "output_type": "stream",
     "text": [
      "Error fetching data for WPRT: No historical data available for WPRT around 2024-01-28.\n"
     ]
    },
    {
     "name": "stderr",
     "output_type": "stream",
     "text": [
      "$TSN: possibly delisted; no price data found  (1d 2023-12-29 -> 2024-01-28)\n"
     ]
    },
    {
     "name": "stdout",
     "output_type": "stream",
     "text": [
      "Error fetching data for TSN: No historical data available for TSN around 2024-01-28.\n"
     ]
    },
    {
     "name": "stderr",
     "output_type": "stream",
     "text": [
      "Failed to get ticker 'PZN' reason: Expecting value: line 1 column 1 (char 0)\n",
      "$PZN: possibly delisted; no timezone found\n"
     ]
    },
    {
     "name": "stdout",
     "output_type": "stream",
     "text": [
      "Error fetching data for PZN: No historical data available for PZN around 2024-01-28.\n"
     ]
    },
    {
     "name": "stderr",
     "output_type": "stream",
     "text": [
      "$NRCIB: possibly delisted; no price data found  (1d 2023-12-29 -> 2024-01-28)\n"
     ]
    },
    {
     "name": "stdout",
     "output_type": "stream",
     "text": [
      "Error fetching data for NRCIB: No historical data available for NRCIB around 2024-01-28.\n"
     ]
    },
    {
     "name": "stderr",
     "output_type": "stream",
     "text": [
      "$BCA: possibly delisted; no price data found  (1d 2023-12-29 -> 2024-01-28)\n"
     ]
    },
    {
     "name": "stdout",
     "output_type": "stream",
     "text": [
      "Error fetching data for BCA: No historical data available for BCA around 2024-01-28.\n"
     ]
    },
    {
     "name": "stderr",
     "output_type": "stream",
     "text": [
      "$AFAM: possibly delisted; no price data found  (1d 2023-12-29 -> 2024-01-28)\n"
     ]
    },
    {
     "name": "stdout",
     "output_type": "stream",
     "text": [
      "Error fetching data for AFAM: No historical data available for AFAM around 2024-01-28.\n"
     ]
    },
    {
     "name": "stderr",
     "output_type": "stream",
     "text": [
      "$LGCY: possibly delisted; no price data found  (1d 2023-12-29 -> 2024-01-28)\n"
     ]
    },
    {
     "name": "stdout",
     "output_type": "stream",
     "text": [
      "Error fetching data for LGCY: No historical data available for LGCY around 2024-01-28.\n"
     ]
    },
    {
     "name": "stderr",
     "output_type": "stream",
     "text": [
      "$JCI: possibly delisted; no price data found  (1d 2023-12-29 -> 2024-01-28)\n"
     ]
    },
    {
     "name": "stdout",
     "output_type": "stream",
     "text": [
      "Error fetching data for JCI: No historical data available for JCI around 2024-01-28.\n"
     ]
    },
    {
     "name": "stderr",
     "output_type": "stream",
     "text": [
      "$IGK: possibly delisted; no price data found  (1d 2023-12-29 -> 2024-01-28)\n"
     ]
    },
    {
     "name": "stdout",
     "output_type": "stream",
     "text": [
      "Error fetching data for IGK: No historical data available for IGK around 2024-01-28.\n"
     ]
    },
    {
     "name": "stderr",
     "output_type": "stream",
     "text": [
      "$DSCI: possibly delisted; no price data found  (1d 2023-12-29 -> 2024-01-28)\n"
     ]
    },
    {
     "name": "stdout",
     "output_type": "stream",
     "text": [
      "Error fetching data for DSCI: No historical data available for DSCI around 2024-01-28.\n"
     ]
    },
    {
     "name": "stderr",
     "output_type": "stream",
     "text": [
      "$AXFN: possibly delisted; no price data found  (1d 2023-12-29 -> 2024-01-28)\n"
     ]
    },
    {
     "name": "stdout",
     "output_type": "stream",
     "text": [
      "Error fetching data for AXFN: No historical data available for AXFN around 2024-01-28.\n"
     ]
    },
    {
     "name": "stderr",
     "output_type": "stream",
     "text": [
      "$CSL: possibly delisted; no price data found  (1d 2023-12-29 -> 2024-01-28)\n"
     ]
    },
    {
     "name": "stdout",
     "output_type": "stream",
     "text": [
      "Error fetching data for CSL: No historical data available for CSL around 2024-01-28.\n"
     ]
    },
    {
     "name": "stderr",
     "output_type": "stream",
     "text": [
      "Failed to get ticker 'DNKN' reason: Expecting value: line 1 column 1 (char 0)\n",
      "$DNKN: possibly delisted; no timezone found\n"
     ]
    },
    {
     "name": "stdout",
     "output_type": "stream",
     "text": [
      "Error fetching data for DNKN: No historical data available for DNKN around 2024-01-28.\n"
     ]
    },
    {
     "name": "stderr",
     "output_type": "stream",
     "text": [
      "$LBTYB: possibly delisted; no price data found  (1d 2023-12-29 -> 2024-01-28)\n"
     ]
    },
    {
     "name": "stdout",
     "output_type": "stream",
     "text": [
      "Error fetching data for LBTYB: No historical data available for LBTYB around 2024-01-28.\n"
     ]
    },
    {
     "name": "stderr",
     "output_type": "stream",
     "text": [
      "Failed to get ticker 'GWR' reason: Expecting value: line 1 column 1 (char 0)\n",
      "$GWR: possibly delisted; no timezone found\n"
     ]
    },
    {
     "name": "stdout",
     "output_type": "stream",
     "text": [
      "Error fetching data for GWR: No historical data available for GWR around 2024-01-28.\n"
     ]
    },
    {
     "name": "stderr",
     "output_type": "stream",
     "text": [
      "$AES-PC: possibly delisted; no price data found  (1d 2023-12-29 -> 2024-01-28)\n"
     ]
    },
    {
     "name": "stdout",
     "output_type": "stream",
     "text": [
      "Error fetching data for AES-PC: No historical data available for AES-PC around 2024-01-28.\n"
     ]
    },
    {
     "name": "stderr",
     "output_type": "stream",
     "text": [
      "$ING: possibly delisted; no price data found  (1d 2023-12-29 -> 2024-01-28)\n"
     ]
    },
    {
     "name": "stdout",
     "output_type": "stream",
     "text": [
      "Error fetching data for ING: No historical data available for ING around 2024-01-28.\n"
     ]
    },
    {
     "name": "stderr",
     "output_type": "stream",
     "text": [
      "$MRK: possibly delisted; no price data found  (1d 2023-12-29 -> 2024-01-28)\n"
     ]
    },
    {
     "name": "stdout",
     "output_type": "stream",
     "text": [
      "Error fetching data for MRK: No historical data available for MRK around 2024-01-28.\n"
     ]
    },
    {
     "name": "stderr",
     "output_type": "stream",
     "text": [
      "Failed to get ticker 'CBO' reason: Expecting value: line 1 column 1 (char 0)\n",
      "$CBO: possibly delisted; no timezone found\n"
     ]
    },
    {
     "name": "stdout",
     "output_type": "stream",
     "text": [
      "Error fetching data for CBO: No historical data available for CBO around 2024-01-28.\n"
     ]
    },
    {
     "name": "stderr",
     "output_type": "stream",
     "text": [
      "$KAR: possibly delisted; no price data found  (1d 2023-12-29 -> 2024-01-28)\n"
     ]
    },
    {
     "name": "stdout",
     "output_type": "stream",
     "text": [
      "Error fetching data for KAR: No historical data available for KAR around 2024-01-28.\n"
     ]
    },
    {
     "name": "stderr",
     "output_type": "stream",
     "text": [
      "Failed to get ticker 'ETM' reason: Expecting value: line 1 column 1 (char 0)\n",
      "$ETM: possibly delisted; no timezone found\n"
     ]
    },
    {
     "name": "stdout",
     "output_type": "stream",
     "text": [
      "Error fetching data for ETM: No historical data available for ETM around 2024-01-28.\n"
     ]
    },
    {
     "name": "stderr",
     "output_type": "stream",
     "text": [
      "$FMC: possibly delisted; no price data found  (1d 2023-12-29 -> 2024-01-28)\n"
     ]
    },
    {
     "name": "stdout",
     "output_type": "stream",
     "text": [
      "Error fetching data for FMC: No historical data available for FMC around 2024-01-28.\n"
     ]
    },
    {
     "name": "stderr",
     "output_type": "stream",
     "text": [
      "Failed to get ticker 'SEV' reason: Expecting value: line 1 column 1 (char 0)\n",
      "$SEV: possibly delisted; no timezone found\n"
     ]
    },
    {
     "name": "stdout",
     "output_type": "stream",
     "text": [
      "Error fetching data for SEV: No historical data available for SEV around 2024-01-28.\n"
     ]
    },
    {
     "name": "stderr",
     "output_type": "stream",
     "text": [
      "Failed to get ticker 'BIF' reason: Expecting value: line 1 column 1 (char 0)\n",
      "$BIF: possibly delisted; no timezone found\n"
     ]
    },
    {
     "name": "stdout",
     "output_type": "stream",
     "text": [
      "Error fetching data for BIF: No historical data available for BIF around 2024-01-28.\n"
     ]
    },
    {
     "name": "stderr",
     "output_type": "stream",
     "text": [
      "$HDSN: possibly delisted; no price data found  (1d 2023-12-29 -> 2024-01-28)\n"
     ]
    },
    {
     "name": "stdout",
     "output_type": "stream",
     "text": [
      "Error fetching data for HDSN: No historical data available for HDSN around 2024-01-28.\n"
     ]
    },
    {
     "name": "stderr",
     "output_type": "stream",
     "text": [
      "Failed to get ticker 'C-N' reason: Expecting value: line 1 column 1 (char 0)\n",
      "$C-N: possibly delisted; no timezone found\n"
     ]
    },
    {
     "name": "stdout",
     "output_type": "stream",
     "text": [
      "Error fetching data for C-N: No historical data available for C-N around 2024-01-28.\n"
     ]
    },
    {
     "name": "stderr",
     "output_type": "stream",
     "text": [
      "Failed to get ticker 'GPIC' reason: Expecting value: line 1 column 1 (char 0)\n",
      "$GPIC: possibly delisted; no timezone found\n"
     ]
    },
    {
     "name": "stdout",
     "output_type": "stream",
     "text": [
      "Error fetching data for GPIC: No historical data available for GPIC around 2024-01-28.\n"
     ]
    },
    {
     "name": "stderr",
     "output_type": "stream",
     "text": [
      "$HOTR: possibly delisted; no price data found  (1d 2023-12-29 -> 2024-01-28)\n"
     ]
    },
    {
     "name": "stdout",
     "output_type": "stream",
     "text": [
      "Error fetching data for HOTR: No historical data available for HOTR around 2024-01-28.\n"
     ]
    },
    {
     "name": "stderr",
     "output_type": "stream",
     "text": [
      "$TKF: possibly delisted; no price data found  (1d 2023-12-29 -> 2024-01-28)\n"
     ]
    },
    {
     "name": "stdout",
     "output_type": "stream",
     "text": [
      "Error fetching data for TKF: No historical data available for TKF around 2024-01-28.\n"
     ]
    },
    {
     "name": "stderr",
     "output_type": "stream",
     "text": [
      "Failed to get ticker 'PSA-R' reason: Expecting value: line 1 column 1 (char 0)\n",
      "$PSA-R: possibly delisted; no timezone found\n"
     ]
    },
    {
     "name": "stdout",
     "output_type": "stream",
     "text": [
      "Error fetching data for PSA-R: No historical data available for PSA-R around 2024-01-28.\n"
     ]
    },
    {
     "name": "stderr",
     "output_type": "stream",
     "text": [
      "$HPAC: possibly delisted; no price data found  (1d 2023-12-29 -> 2024-01-28)\n"
     ]
    },
    {
     "name": "stdout",
     "output_type": "stream",
     "text": [
      "Error fetching data for HPAC: No historical data available for HPAC around 2024-01-28.\n"
     ]
    },
    {
     "name": "stderr",
     "output_type": "stream",
     "text": [
      "$WTSL: possibly delisted; no price data found  (1d 2023-12-29 -> 2024-01-28)\n"
     ]
    },
    {
     "name": "stdout",
     "output_type": "stream",
     "text": [
      "Error fetching data for WTSL: No historical data available for WTSL around 2024-01-28.\n"
     ]
    },
    {
     "name": "stderr",
     "output_type": "stream",
     "text": [
      "Failed to get ticker 'BODY' reason: Expecting value: line 1 column 1 (char 0)\n",
      "$BODY: possibly delisted; no timezone found\n"
     ]
    },
    {
     "name": "stdout",
     "output_type": "stream",
     "text": [
      "Error fetching data for BODY: No historical data available for BODY around 2024-01-28.\n"
     ]
    },
    {
     "name": "stderr",
     "output_type": "stream",
     "text": [
      "Failed to get ticker 'BOTJ' reason: Expecting value: line 1 column 1 (char 0)\n",
      "$BOTJ: possibly delisted; no timezone found\n"
     ]
    },
    {
     "name": "stdout",
     "output_type": "stream",
     "text": [
      "Error fetching data for BOTJ: No historical data available for BOTJ around 2024-01-28.\n"
     ]
    },
    {
     "name": "stderr",
     "output_type": "stream",
     "text": [
      "$FNV: possibly delisted; no price data found  (1d 2023-12-29 -> 2024-01-28)\n"
     ]
    },
    {
     "name": "stdout",
     "output_type": "stream",
     "text": [
      "Error fetching data for FNV: No historical data available for FNV around 2024-01-28.\n"
     ]
    },
    {
     "name": "stderr",
     "output_type": "stream",
     "text": [
      "$ACLS: possibly delisted; no price data found  (1d 2023-12-29 -> 2024-01-28)\n"
     ]
    },
    {
     "name": "stdout",
     "output_type": "stream",
     "text": [
      "Error fetching data for ACLS: No historical data available for ACLS around 2024-01-28.\n"
     ]
    },
    {
     "name": "stderr",
     "output_type": "stream",
     "text": [
      "Failed to get ticker 'NLNK' reason: Expecting value: line 1 column 1 (char 0)\n",
      "$NLNK: possibly delisted; no timezone found\n"
     ]
    },
    {
     "name": "stdout",
     "output_type": "stream",
     "text": [
      "Error fetching data for NLNK: No historical data available for NLNK around 2024-01-28.\n"
     ]
    },
    {
     "name": "stderr",
     "output_type": "stream",
     "text": [
      "Failed to get ticker 'CTRP' reason: Expecting value: line 1 column 1 (char 0)\n",
      "$CTRP: possibly delisted; no timezone found\n"
     ]
    },
    {
     "name": "stdout",
     "output_type": "stream",
     "text": [
      "Error fetching data for CTRP: No historical data available for CTRP around 2024-01-28.\n"
     ]
    },
    {
     "name": "stderr",
     "output_type": "stream",
     "text": [
      "$NXN: possibly delisted; no price data found  (1d 2023-12-29 -> 2024-01-28)\n"
     ]
    },
    {
     "name": "stdout",
     "output_type": "stream",
     "text": [
      "Error fetching data for NXN: No historical data available for NXN around 2024-01-28.\n"
     ]
    },
    {
     "name": "stderr",
     "output_type": "stream",
     "text": [
      "$EDUC: possibly delisted; no price data found  (1d 2023-12-29 -> 2024-01-28)\n"
     ]
    },
    {
     "name": "stdout",
     "output_type": "stream",
     "text": [
      "Error fetching data for EDUC: No historical data available for EDUC around 2024-01-28.\n"
     ]
    },
    {
     "name": "stderr",
     "output_type": "stream",
     "text": [
      "$HD: possibly delisted; no price data found  (1d 2023-12-29 -> 2024-01-28)\n"
     ]
    },
    {
     "name": "stdout",
     "output_type": "stream",
     "text": [
      "Error fetching data for HD: No historical data available for HD around 2024-01-28.\n"
     ]
    },
    {
     "name": "stderr",
     "output_type": "stream",
     "text": [
      "$BBOX: possibly delisted; no price data found  (1d 2023-12-29 -> 2024-01-28)\n"
     ]
    },
    {
     "name": "stdout",
     "output_type": "stream",
     "text": [
      "Error fetching data for BBOX: No historical data available for BBOX around 2024-01-28.\n"
     ]
    },
    {
     "name": "stderr",
     "output_type": "stream",
     "text": [
      "$NBN: possibly delisted; no price data found  (1d 2023-12-29 -> 2024-01-28)\n"
     ]
    },
    {
     "name": "stdout",
     "output_type": "stream",
     "text": [
      "Error fetching data for NBN: No historical data available for NBN around 2024-01-28.\n"
     ]
    },
    {
     "name": "stderr",
     "output_type": "stream",
     "text": [
      "Failed to get ticker 'IPCI' reason: Expecting value: line 1 column 1 (char 0)\n",
      "$IPCI: possibly delisted; no timezone found\n"
     ]
    },
    {
     "name": "stdout",
     "output_type": "stream",
     "text": [
      "Error fetching data for IPCI: No historical data available for IPCI around 2024-01-28.\n"
     ]
    },
    {
     "name": "stderr",
     "output_type": "stream",
     "text": [
      "$COO: possibly delisted; no price data found  (1d 2023-12-29 -> 2024-01-28)\n"
     ]
    },
    {
     "name": "stdout",
     "output_type": "stream",
     "text": [
      "Error fetching data for COO: No historical data available for COO around 2024-01-28.\n"
     ]
    },
    {
     "name": "stderr",
     "output_type": "stream",
     "text": [
      "$ANDE: possibly delisted; no price data found  (1d 2023-12-29 -> 2024-01-28)\n"
     ]
    },
    {
     "name": "stdout",
     "output_type": "stream",
     "text": [
      "Error fetching data for ANDE: No historical data available for ANDE around 2024-01-28.\n"
     ]
    },
    {
     "name": "stderr",
     "output_type": "stream",
     "text": [
      "Failed to get ticker 'RPTP' reason: Expecting value: line 1 column 1 (char 0)\n",
      "$RPTP: possibly delisted; no timezone found\n"
     ]
    },
    {
     "name": "stdout",
     "output_type": "stream",
     "text": [
      "Error fetching data for RPTP: No historical data available for RPTP around 2024-01-28.\n"
     ]
    },
    {
     "name": "stderr",
     "output_type": "stream",
     "text": [
      "$FURX: possibly delisted; no price data found  (1d 2023-12-29 -> 2024-01-28)\n"
     ]
    },
    {
     "name": "stdout",
     "output_type": "stream",
     "text": [
      "Error fetching data for FURX: No historical data available for FURX around 2024-01-28.\n"
     ]
    },
    {
     "name": "stderr",
     "output_type": "stream",
     "text": [
      "$ATEC: possibly delisted; no price data found  (1d 2023-12-29 -> 2024-01-28)\n"
     ]
    },
    {
     "name": "stdout",
     "output_type": "stream",
     "text": [
      "Error fetching data for ATEC: No historical data available for ATEC around 2024-01-28.\n"
     ]
    },
    {
     "name": "stderr",
     "output_type": "stream",
     "text": [
      "$SBNY: possibly delisted; no price data found  (1d 2023-12-29 -> 2024-01-28)\n"
     ]
    },
    {
     "name": "stdout",
     "output_type": "stream",
     "text": [
      "Error fetching data for SBNY: No historical data available for SBNY around 2024-01-28.\n"
     ]
    },
    {
     "name": "stderr",
     "output_type": "stream",
     "text": [
      "$SAAS: possibly delisted; no price data found  (1d 2023-12-29 -> 2024-01-28)\n"
     ]
    },
    {
     "name": "stdout",
     "output_type": "stream",
     "text": [
      "Error fetching data for SAAS: No historical data available for SAAS around 2024-01-28.\n"
     ]
    },
    {
     "name": "stderr",
     "output_type": "stream",
     "text": [
      "$CHE: possibly delisted; no price data found  (1d 2023-12-29 -> 2024-01-28)\n"
     ]
    },
    {
     "name": "stdout",
     "output_type": "stream",
     "text": [
      "Error fetching data for CHE: No historical data available for CHE around 2024-01-28.\n"
     ]
    },
    {
     "name": "stderr",
     "output_type": "stream",
     "text": [
      "$CNI: possibly delisted; no price data found  (1d 2023-12-29 -> 2024-01-28)\n"
     ]
    },
    {
     "name": "stdout",
     "output_type": "stream",
     "text": [
      "Error fetching data for CNI: No historical data available for CNI around 2024-01-28.\n"
     ]
    },
    {
     "name": "stderr",
     "output_type": "stream",
     "text": [
      "$AMZN: possibly delisted; no price data found  (1d 2023-12-29 -> 2024-01-28)\n"
     ]
    },
    {
     "name": "stdout",
     "output_type": "stream",
     "text": [
      "Error fetching data for AMZN: No historical data available for AMZN around 2024-01-28.\n"
     ]
    },
    {
     "name": "stderr",
     "output_type": "stream",
     "text": [
      "Failed to get ticker 'CKH' reason: Expecting value: line 1 column 1 (char 0)\n",
      "$CKH: possibly delisted; no timezone found\n"
     ]
    },
    {
     "name": "stdout",
     "output_type": "stream",
     "text": [
      "Error fetching data for CKH: No historical data available for CKH around 2024-01-28.\n"
     ]
    },
    {
     "name": "stderr",
     "output_type": "stream",
     "text": [
      "Failed to get ticker 'APC' reason: Expecting value: line 1 column 1 (char 0)\n",
      "$APC: possibly delisted; no timezone found\n"
     ]
    },
    {
     "name": "stdout",
     "output_type": "stream",
     "text": [
      "Error fetching data for APC: No historical data available for APC around 2024-01-28.\n"
     ]
    },
    {
     "name": "stderr",
     "output_type": "stream",
     "text": [
      "$USG: possibly delisted; no price data found  (1d 2023-12-29 -> 2024-01-28)\n"
     ]
    },
    {
     "name": "stdout",
     "output_type": "stream",
     "text": [
      "Error fetching data for USG: No historical data available for USG around 2024-01-28.\n"
     ]
    },
    {
     "name": "stderr",
     "output_type": "stream",
     "text": [
      "$TX: possibly delisted; no price data found  (1d 2023-12-29 -> 2024-01-28)\n"
     ]
    },
    {
     "name": "stdout",
     "output_type": "stream",
     "text": [
      "Error fetching data for TX: No historical data available for TX around 2024-01-28.\n"
     ]
    },
    {
     "name": "stderr",
     "output_type": "stream",
     "text": [
      "Failed to get ticker 'SWM' reason: Expecting value: line 1 column 1 (char 0)\n",
      "$SWM: possibly delisted; no timezone found\n"
     ]
    },
    {
     "name": "stdout",
     "output_type": "stream",
     "text": [
      "Error fetching data for SWM: No historical data available for SWM around 2024-01-28.\n"
     ]
    },
    {
     "name": "stderr",
     "output_type": "stream",
     "text": [
      "Failed to get ticker 'BCEI' reason: Expecting value: line 1 column 1 (char 0)\n",
      "$BCEI: possibly delisted; no timezone found\n"
     ]
    },
    {
     "name": "stdout",
     "output_type": "stream",
     "text": [
      "Error fetching data for BCEI: No historical data available for BCEI around 2024-01-28.\n"
     ]
    },
    {
     "name": "stderr",
     "output_type": "stream",
     "text": [
      "$STAA: possibly delisted; no price data found  (1d 2023-12-29 -> 2024-01-28)\n"
     ]
    },
    {
     "name": "stdout",
     "output_type": "stream",
     "text": [
      "Error fetching data for STAA: No historical data available for STAA around 2024-01-28.\n"
     ]
    },
    {
     "name": "stderr",
     "output_type": "stream",
     "text": [
      "Failed to get ticker 'ABIO' reason: Expecting value: line 1 column 1 (char 0)\n",
      "$ABIO: possibly delisted; no timezone found\n"
     ]
    },
    {
     "name": "stdout",
     "output_type": "stream",
     "text": [
      "Error fetching data for ABIO: No historical data available for ABIO around 2024-01-28.\n"
     ]
    },
    {
     "name": "stderr",
     "output_type": "stream",
     "text": [
      "$NECB: possibly delisted; no price data found  (1d 2023-12-29 -> 2024-01-28)\n"
     ]
    },
    {
     "name": "stdout",
     "output_type": "stream",
     "text": [
      "Error fetching data for NECB: No historical data available for NECB around 2024-01-28.\n"
     ]
    },
    {
     "name": "stderr",
     "output_type": "stream",
     "text": [
      "Failed to get ticker 'GS-I' reason: Expecting value: line 1 column 1 (char 0)\n",
      "$GS-I: possibly delisted; no timezone found\n"
     ]
    },
    {
     "name": "stdout",
     "output_type": "stream",
     "text": [
      "Error fetching data for GS-I: No historical data available for GS-I around 2024-01-28.\n"
     ]
    },
    {
     "name": "stderr",
     "output_type": "stream",
     "text": [
      "Failed to get ticker 'NZH-A' reason: Expecting value: line 1 column 1 (char 0)\n",
      "$NZH-A: possibly delisted; no timezone found\n"
     ]
    },
    {
     "name": "stdout",
     "output_type": "stream",
     "text": [
      "Error fetching data for NZH-A: No historical data available for NZH-A around 2024-01-28.\n"
     ]
    },
    {
     "name": "stderr",
     "output_type": "stream",
     "text": [
      "$CECO: possibly delisted; no price data found  (1d 2023-12-29 -> 2024-01-28)\n"
     ]
    },
    {
     "name": "stdout",
     "output_type": "stream",
     "text": [
      "Error fetching data for CECO: No historical data available for CECO around 2024-01-28.\n"
     ]
    },
    {
     "name": "stderr",
     "output_type": "stream",
     "text": [
      "Failed to get ticker 'OAK' reason: Expecting value: line 1 column 1 (char 0)\n",
      "$OAK: possibly delisted; no timezone found\n"
     ]
    },
    {
     "name": "stdout",
     "output_type": "stream",
     "text": [
      "Error fetching data for OAK: No historical data available for OAK around 2024-01-28.\n"
     ]
    },
    {
     "name": "stderr",
     "output_type": "stream",
     "text": [
      "Failed to get ticker 'MIXT' reason: Expecting value: line 1 column 1 (char 0)\n",
      "$MIXT: possibly delisted; no timezone found\n"
     ]
    },
    {
     "name": "stdout",
     "output_type": "stream",
     "text": [
      "Error fetching data for MIXT: No historical data available for MIXT around 2024-01-28.\n"
     ]
    },
    {
     "name": "stderr",
     "output_type": "stream",
     "text": [
      "Failed to get ticker 'STRI' reason: Expecting value: line 1 column 1 (char 0)\n",
      "$STRI: possibly delisted; no timezone found\n"
     ]
    },
    {
     "name": "stdout",
     "output_type": "stream",
     "text": [
      "Error fetching data for STRI: No historical data available for STRI around 2024-01-28.\n"
     ]
    },
    {
     "name": "stderr",
     "output_type": "stream",
     "text": [
      "$PNG: possibly delisted; no price data found  (1d 2023-12-29 -> 2024-01-28)\n"
     ]
    },
    {
     "name": "stdout",
     "output_type": "stream",
     "text": [
      "Error fetching data for PNG: No historical data available for PNG around 2024-01-28.\n"
     ]
    },
    {
     "name": "stderr",
     "output_type": "stream",
     "text": [
      "$FSGI: possibly delisted; no price data found  (1d 2023-12-29 -> 2024-01-28)\n"
     ]
    },
    {
     "name": "stdout",
     "output_type": "stream",
     "text": [
      "Error fetching data for FSGI: No historical data available for FSGI around 2024-01-28.\n"
     ]
    },
    {
     "name": "stderr",
     "output_type": "stream",
     "text": [
      "$AES: possibly delisted; no price data found  (1d 2023-12-29 -> 2024-01-28)\n"
     ]
    },
    {
     "name": "stdout",
     "output_type": "stream",
     "text": [
      "Error fetching data for AES: No historical data available for AES around 2024-01-28.\n"
     ]
    },
    {
     "name": "stderr",
     "output_type": "stream",
     "text": [
      "$KO: possibly delisted; no price data found  (1d 2023-12-29 -> 2024-01-28)\n"
     ]
    },
    {
     "name": "stdout",
     "output_type": "stream",
     "text": [
      "Error fetching data for KO: No historical data available for KO around 2024-01-28.\n"
     ]
    },
    {
     "name": "stderr",
     "output_type": "stream",
     "text": [
      "$BPOPM: possibly delisted; no price data found  (1d 2023-12-29 -> 2024-01-28)\n"
     ]
    },
    {
     "name": "stdout",
     "output_type": "stream",
     "text": [
      "Error fetching data for BPOPM: No historical data available for BPOPM around 2024-01-28.\n"
     ]
    },
    {
     "name": "stderr",
     "output_type": "stream",
     "text": [
      "$BDJ: possibly delisted; no price data found  (1d 2023-12-29 -> 2024-01-28)\n"
     ]
    },
    {
     "name": "stdout",
     "output_type": "stream",
     "text": [
      "Error fetching data for BDJ: No historical data available for BDJ around 2024-01-28.\n"
     ]
    },
    {
     "name": "stderr",
     "output_type": "stream",
     "text": [
      "$CBT: possibly delisted; no price data found  (1d 2023-12-29 -> 2024-01-28)\n"
     ]
    },
    {
     "name": "stdout",
     "output_type": "stream",
     "text": [
      "Error fetching data for CBT: No historical data available for CBT around 2024-01-28.\n"
     ]
    },
    {
     "name": "stderr",
     "output_type": "stream",
     "text": [
      "$CNIT: possibly delisted; no price data found  (1d 2023-12-29 -> 2024-01-28)\n"
     ]
    },
    {
     "name": "stdout",
     "output_type": "stream",
     "text": [
      "Error fetching data for CNIT: No historical data available for CNIT around 2024-01-28.\n"
     ]
    },
    {
     "name": "stderr",
     "output_type": "stream",
     "text": [
      "$KWK: possibly delisted; no price data found  (1d 2023-12-29 -> 2024-01-28)\n"
     ]
    },
    {
     "name": "stdout",
     "output_type": "stream",
     "text": [
      "Error fetching data for KWK: No historical data available for KWK around 2024-01-28.\n"
     ]
    },
    {
     "name": "stderr",
     "output_type": "stream",
     "text": [
      "$MX: possibly delisted; no price data found  (1d 2023-12-29 -> 2024-01-28)\n"
     ]
    },
    {
     "name": "stdout",
     "output_type": "stream",
     "text": [
      "Error fetching data for MX: No historical data available for MX around 2024-01-28.\n"
     ]
    },
    {
     "name": "stderr",
     "output_type": "stream",
     "text": [
      "$TJX: possibly delisted; no price data found  (1d 2023-12-29 -> 2024-01-28)\n"
     ]
    },
    {
     "name": "stdout",
     "output_type": "stream",
     "text": [
      "Error fetching data for TJX: No historical data available for TJX around 2024-01-28.\n"
     ]
    },
    {
     "name": "stderr",
     "output_type": "stream",
     "text": [
      "$GBCI: possibly delisted; no price data found  (1d 2023-12-29 -> 2024-01-28)\n"
     ]
    },
    {
     "name": "stdout",
     "output_type": "stream",
     "text": [
      "Error fetching data for GBCI: No historical data available for GBCI around 2024-01-28.\n"
     ]
    },
    {
     "name": "stderr",
     "output_type": "stream",
     "text": [
      "$DBD: possibly delisted; no price data found  (1d 2023-12-29 -> 2024-01-28)\n"
     ]
    },
    {
     "name": "stdout",
     "output_type": "stream",
     "text": [
      "Error fetching data for DBD: No historical data available for DBD around 2024-01-28.\n"
     ]
    },
    {
     "name": "stderr",
     "output_type": "stream",
     "text": [
      "$BCR: possibly delisted; no price data found  (1d 2023-12-29 -> 2024-01-28)\n"
     ]
    },
    {
     "name": "stdout",
     "output_type": "stream",
     "text": [
      "Error fetching data for BCR: No historical data available for BCR around 2024-01-28.\n"
     ]
    },
    {
     "name": "stderr",
     "output_type": "stream",
     "text": [
      "$SIAL: possibly delisted; no price data found  (1d 2023-12-29 -> 2024-01-28)\n"
     ]
    },
    {
     "name": "stdout",
     "output_type": "stream",
     "text": [
      "Error fetching data for SIAL: No historical data available for SIAL around 2024-01-28.\n"
     ]
    },
    {
     "name": "stderr",
     "output_type": "stream",
     "text": [
      "$RENT: possibly delisted; no price data found  (1d 2023-12-29 -> 2024-01-28)\n"
     ]
    },
    {
     "name": "stdout",
     "output_type": "stream",
     "text": [
      "Error fetching data for RENT: No historical data available for RENT around 2024-01-28.\n"
     ]
    },
    {
     "name": "stderr",
     "output_type": "stream",
     "text": [
      "Failed to get ticker 'OMN' reason: Expecting value: line 1 column 1 (char 0)\n",
      "$OMN: possibly delisted; no timezone found\n"
     ]
    },
    {
     "name": "stdout",
     "output_type": "stream",
     "text": [
      "Error fetching data for OMN: No historical data available for OMN around 2024-01-28.\n"
     ]
    },
    {
     "name": "stderr",
     "output_type": "stream",
     "text": [
      "$FARM: possibly delisted; no price data found  (1d 2023-12-29 -> 2024-01-28)\n"
     ]
    },
    {
     "name": "stdout",
     "output_type": "stream",
     "text": [
      "Error fetching data for FARM: No historical data available for FARM around 2024-01-28.\n"
     ]
    },
    {
     "name": "stderr",
     "output_type": "stream",
     "text": [
      "Failed to get ticker 'FRC-C' reason: Expecting value: line 1 column 1 (char 0)\n",
      "$FRC-C: possibly delisted; no timezone found\n"
     ]
    },
    {
     "name": "stdout",
     "output_type": "stream",
     "text": [
      "Error fetching data for FRC-C: No historical data available for FRC-C around 2024-01-28.\n"
     ]
    },
    {
     "name": "stderr",
     "output_type": "stream",
     "text": [
      "$AON: possibly delisted; no price data found  (1d 2023-12-29 -> 2024-01-28)\n"
     ]
    },
    {
     "name": "stdout",
     "output_type": "stream",
     "text": [
      "Error fetching data for AON: No historical data available for AON around 2024-01-28.\n"
     ]
    },
    {
     "name": "stderr",
     "output_type": "stream",
     "text": [
      "$AWRE: possibly delisted; no price data found  (1d 2023-12-29 -> 2024-01-28)\n"
     ]
    },
    {
     "name": "stdout",
     "output_type": "stream",
     "text": [
      "Error fetching data for AWRE: No historical data available for AWRE around 2024-01-28.\n"
     ]
    },
    {
     "name": "stderr",
     "output_type": "stream",
     "text": [
      "$CHLN: possibly delisted; no price data found  (1d 2023-12-29 -> 2024-01-28)\n"
     ]
    },
    {
     "name": "stdout",
     "output_type": "stream",
     "text": [
      "Error fetching data for CHLN: No historical data available for CHLN around 2024-01-28.\n"
     ]
    },
    {
     "name": "stderr",
     "output_type": "stream",
     "text": [
      "$AM: possibly delisted; no price data found  (1d 2023-12-29 -> 2024-01-28)\n"
     ]
    },
    {
     "name": "stdout",
     "output_type": "stream",
     "text": [
      "Error fetching data for AM: No historical data available for AM around 2024-01-28.\n"
     ]
    },
    {
     "name": "stderr",
     "output_type": "stream",
     "text": [
      "$DRAM: possibly delisted; no price data found  (1d 2023-12-29 -> 2024-01-28)\n"
     ]
    },
    {
     "name": "stdout",
     "output_type": "stream",
     "text": [
      "Error fetching data for DRAM: No historical data available for DRAM around 2024-01-28.\n"
     ]
    },
    {
     "name": "stderr",
     "output_type": "stream",
     "text": [
      "$CHRM: possibly delisted; no price data found  (1d 2023-12-29 -> 2024-01-28)\n"
     ]
    },
    {
     "name": "stdout",
     "output_type": "stream",
     "text": [
      "Error fetching data for CHRM: No historical data available for CHRM around 2024-01-28.\n"
     ]
    },
    {
     "name": "stderr",
     "output_type": "stream",
     "text": [
      "$MFA: possibly delisted; no price data found  (1d 2023-12-29 -> 2024-01-28)\n"
     ]
    },
    {
     "name": "stdout",
     "output_type": "stream",
     "text": [
      "Error fetching data for MFA: No historical data available for MFA around 2024-01-28.\n"
     ]
    },
    {
     "name": "stderr",
     "output_type": "stream",
     "text": [
      "Failed to get ticker 'SAVE' reason: Expecting value: line 1 column 1 (char 0)\n",
      "$SAVE: possibly delisted; no timezone found\n"
     ]
    },
    {
     "name": "stdout",
     "output_type": "stream",
     "text": [
      "Error fetching data for SAVE: No historical data available for SAVE around 2024-01-28.\n"
     ]
    },
    {
     "name": "stderr",
     "output_type": "stream",
     "text": [
      "$CIB: possibly delisted; no price data found  (1d 2023-12-29 -> 2024-01-28)\n"
     ]
    },
    {
     "name": "stdout",
     "output_type": "stream",
     "text": [
      "Error fetching data for CIB: No historical data available for CIB around 2024-01-28.\n"
     ]
    },
    {
     "name": "stderr",
     "output_type": "stream",
     "text": [
      "Failed to get ticker 'GLT' reason: Expecting value: line 1 column 1 (char 0)\n",
      "$GLT: possibly delisted; no timezone found\n"
     ]
    },
    {
     "name": "stdout",
     "output_type": "stream",
     "text": [
      "Error fetching data for GLT: No historical data available for GLT around 2024-01-28.\n"
     ]
    },
    {
     "name": "stderr",
     "output_type": "stream",
     "text": [
      "Failed to get ticker 'LPI' reason: Expecting value: line 1 column 1 (char 0)\n",
      "$LPI: possibly delisted; no timezone found\n"
     ]
    },
    {
     "name": "stdout",
     "output_type": "stream",
     "text": [
      "Error fetching data for LPI: No historical data available for LPI around 2024-01-28.\n"
     ]
    },
    {
     "name": "stderr",
     "output_type": "stream",
     "text": [
      "$NE: possibly delisted; no price data found  (1d 2023-12-29 -> 2024-01-28)\n"
     ]
    },
    {
     "name": "stdout",
     "output_type": "stream",
     "text": [
      "Error fetching data for NE: No historical data available for NE around 2024-01-28.\n"
     ]
    },
    {
     "name": "stderr",
     "output_type": "stream",
     "text": [
      "$MAXY: possibly delisted; no price data found  (1d 2023-12-29 -> 2024-01-28)\n"
     ]
    },
    {
     "name": "stdout",
     "output_type": "stream",
     "text": [
      "Error fetching data for MAXY: No historical data available for MAXY around 2024-01-28.\n"
     ]
    },
    {
     "name": "stderr",
     "output_type": "stream",
     "text": [
      "$TGI: possibly delisted; no price data found  (1d 2023-12-29 -> 2024-01-28)\n"
     ]
    },
    {
     "name": "stdout",
     "output_type": "stream",
     "text": [
      "Error fetching data for TGI: No historical data available for TGI around 2024-01-28.\n"
     ]
    },
    {
     "name": "stderr",
     "output_type": "stream",
     "text": [
      "Failed to get ticker 'SPAN' reason: Expecting value: line 1 column 1 (char 0)\n",
      "$SPAN: possibly delisted; no timezone found\n"
     ]
    },
    {
     "name": "stdout",
     "output_type": "stream",
     "text": [
      "Error fetching data for SPAN: No historical data available for SPAN around 2024-01-28.\n"
     ]
    },
    {
     "name": "stderr",
     "output_type": "stream",
     "text": [
      "$SFM: possibly delisted; no price data found  (1d 2023-12-29 -> 2024-01-28)\n"
     ]
    },
    {
     "name": "stdout",
     "output_type": "stream",
     "text": [
      "Error fetching data for SFM: No historical data available for SFM around 2024-01-28.\n"
     ]
    },
    {
     "name": "stderr",
     "output_type": "stream",
     "text": [
      "$DLLR: possibly delisted; no price data found  (1d 2023-12-29 -> 2024-01-28)\n"
     ]
    },
    {
     "name": "stdout",
     "output_type": "stream",
     "text": [
      "Error fetching data for DLLR: No historical data available for DLLR around 2024-01-28.\n"
     ]
    },
    {
     "name": "stderr",
     "output_type": "stream",
     "text": [
      "$MRIN: possibly delisted; no price data found  (1d 2023-12-29 -> 2024-01-28)\n"
     ]
    },
    {
     "name": "stdout",
     "output_type": "stream",
     "text": [
      "Error fetching data for MRIN: No historical data available for MRIN around 2024-01-28.\n"
     ]
    },
    {
     "name": "stderr",
     "output_type": "stream",
     "text": [
      "Failed to get ticker 'NMT-C' reason: Expecting value: line 1 column 1 (char 0)\n",
      "$NMT-C: possibly delisted; no timezone found\n"
     ]
    },
    {
     "name": "stdout",
     "output_type": "stream",
     "text": [
      "Error fetching data for NMT-C: No historical data available for NMT-C around 2024-01-28.\n"
     ]
    },
    {
     "name": "stderr",
     "output_type": "stream",
     "text": [
      "$BG: possibly delisted; no price data found  (1d 2023-12-29 -> 2024-01-28)\n"
     ]
    },
    {
     "name": "stdout",
     "output_type": "stream",
     "text": [
      "Error fetching data for BG: No historical data available for BG around 2024-01-28.\n"
     ]
    },
    {
     "name": "stderr",
     "output_type": "stream",
     "text": [
      "$CNSI: possibly delisted; no price data found  (1d 2023-12-29 -> 2024-01-28)\n"
     ]
    },
    {
     "name": "stdout",
     "output_type": "stream",
     "text": [
      "Error fetching data for CNSI: No historical data available for CNSI around 2024-01-28.\n"
     ]
    },
    {
     "name": "stderr",
     "output_type": "stream",
     "text": [
      "$INVN: possibly delisted; no price data found  (1d 2023-12-29 -> 2024-01-28)\n"
     ]
    },
    {
     "name": "stdout",
     "output_type": "stream",
     "text": [
      "Error fetching data for INVN: No historical data available for INVN around 2024-01-28.\n"
     ]
    },
    {
     "name": "stderr",
     "output_type": "stream",
     "text": [
      "$PX: possibly delisted; no price data found  (1d 2023-12-29 -> 2024-01-28)\n"
     ]
    },
    {
     "name": "stdout",
     "output_type": "stream",
     "text": [
      "Error fetching data for PX: No historical data available for PX around 2024-01-28.\n"
     ]
    },
    {
     "name": "stderr",
     "output_type": "stream",
     "text": [
      "$HPTX: possibly delisted; no price data found  (1d 2023-12-29 -> 2024-01-28)\n"
     ]
    },
    {
     "name": "stdout",
     "output_type": "stream",
     "text": [
      "Error fetching data for HPTX: No historical data available for HPTX around 2024-01-28.\n"
     ]
    },
    {
     "name": "stderr",
     "output_type": "stream",
     "text": [
      "Failed to get ticker 'LFC' reason: Expecting value: line 1 column 1 (char 0)\n",
      "$LFC: possibly delisted; no timezone found\n"
     ]
    },
    {
     "name": "stdout",
     "output_type": "stream",
     "text": [
      "Error fetching data for LFC: No historical data available for LFC around 2024-01-28.\n"
     ]
    },
    {
     "name": "stderr",
     "output_type": "stream",
     "text": [
      "$DAC: possibly delisted; no price data found  (1d 2023-12-29 -> 2024-01-28)\n"
     ]
    },
    {
     "name": "stdout",
     "output_type": "stream",
     "text": [
      "Error fetching data for DAC: No historical data available for DAC around 2024-01-28.\n"
     ]
    },
    {
     "name": "stderr",
     "output_type": "stream",
     "text": [
      "Failed to get ticker 'SXE' reason: Expecting value: line 1 column 1 (char 0)\n",
      "$SXE: possibly delisted; no timezone found\n"
     ]
    },
    {
     "name": "stdout",
     "output_type": "stream",
     "text": [
      "Error fetching data for SXE: No historical data available for SXE around 2024-01-28.\n"
     ]
    },
    {
     "name": "stderr",
     "output_type": "stream",
     "text": [
      "$EFR: possibly delisted; no price data found  (1d 2023-12-29 -> 2024-01-28)\n"
     ]
    },
    {
     "name": "stdout",
     "output_type": "stream",
     "text": [
      "Error fetching data for EFR: No historical data available for EFR around 2024-01-28.\n"
     ]
    },
    {
     "name": "stderr",
     "output_type": "stream",
     "text": [
      "$DHG: possibly delisted; no price data found  (1d 2023-12-29 -> 2024-01-28)\n"
     ]
    },
    {
     "name": "stdout",
     "output_type": "stream",
     "text": [
      "Error fetching data for DHG: No historical data available for DHG around 2024-01-28.\n"
     ]
    },
    {
     "name": "stderr",
     "output_type": "stream",
     "text": [
      "Failed to get ticker 'ARU' reason: Expecting value: line 1 column 1 (char 0)\n",
      "$ARU: possibly delisted; no timezone found\n"
     ]
    },
    {
     "name": "stdout",
     "output_type": "stream",
     "text": [
      "Error fetching data for ARU: No historical data available for ARU around 2024-01-28.\n"
     ]
    },
    {
     "name": "stderr",
     "output_type": "stream",
     "text": [
      "$LRY: possibly delisted; no price data found  (1d 2023-12-29 -> 2024-01-28)\n"
     ]
    },
    {
     "name": "stdout",
     "output_type": "stream",
     "text": [
      "Error fetching data for LRY: No historical data available for LRY around 2024-01-28.\n"
     ]
    },
    {
     "name": "stderr",
     "output_type": "stream",
     "text": [
      "$IFAS: possibly delisted; no price data found  (1d 2023-12-29 -> 2024-01-28)\n"
     ]
    },
    {
     "name": "stdout",
     "output_type": "stream",
     "text": [
      "Error fetching data for IFAS: No historical data available for IFAS around 2024-01-28.\n"
     ]
    },
    {
     "name": "stderr",
     "output_type": "stream",
     "text": [
      "Failed to get ticker 'PCOM' reason: Expecting value: line 1 column 1 (char 0)\n",
      "$PCOM: possibly delisted; no timezone found\n"
     ]
    },
    {
     "name": "stdout",
     "output_type": "stream",
     "text": [
      "Error fetching data for PCOM: No historical data available for PCOM around 2024-01-28.\n"
     ]
    },
    {
     "name": "stderr",
     "output_type": "stream",
     "text": [
      "Failed to get ticker 'MDCA' reason: Expecting value: line 1 column 1 (char 0)\n",
      "$MDCA: possibly delisted; no timezone found\n"
     ]
    },
    {
     "name": "stdout",
     "output_type": "stream",
     "text": [
      "Error fetching data for MDCA: No historical data available for MDCA around 2024-01-28.\n"
     ]
    },
    {
     "name": "stderr",
     "output_type": "stream",
     "text": [
      "$IMMR: possibly delisted; no price data found  (1d 2023-12-29 -> 2024-01-28)\n"
     ]
    },
    {
     "name": "stdout",
     "output_type": "stream",
     "text": [
      "Error fetching data for IMMR: No historical data available for IMMR around 2024-01-28.\n"
     ]
    },
    {
     "name": "stderr",
     "output_type": "stream",
     "text": [
      "$IPCC: possibly delisted; no price data found  (1d 2023-12-29 -> 2024-01-28)\n"
     ]
    },
    {
     "name": "stdout",
     "output_type": "stream",
     "text": [
      "Error fetching data for IPCC: No historical data available for IPCC around 2024-01-28.\n"
     ]
    },
    {
     "name": "stderr",
     "output_type": "stream",
     "text": [
      "$LVNTB: possibly delisted; no price data found  (1d 2023-12-29 -> 2024-01-28)\n"
     ]
    },
    {
     "name": "stdout",
     "output_type": "stream",
     "text": [
      "Error fetching data for LVNTB: No historical data available for LVNTB around 2024-01-28.\n"
     ]
    },
    {
     "name": "stderr",
     "output_type": "stream",
     "text": [
      "Failed to get ticker 'RBS-P' reason: Expecting value: line 1 column 1 (char 0)\n",
      "$RBS-P: possibly delisted; no timezone found\n"
     ]
    },
    {
     "name": "stdout",
     "output_type": "stream",
     "text": [
      "Error fetching data for RBS-P: No historical data available for RBS-P around 2024-01-28.\n"
     ]
    },
    {
     "name": "stderr",
     "output_type": "stream",
     "text": [
      "$HILL: possibly delisted; no price data found  (1d 2023-12-29 -> 2024-01-28)\n"
     ]
    },
    {
     "name": "stdout",
     "output_type": "stream",
     "text": [
      "Error fetching data for HILL: No historical data available for HILL around 2024-01-28.\n"
     ]
    },
    {
     "name": "stderr",
     "output_type": "stream",
     "text": [
      "Failed to get ticker 'BSE' reason: Expecting value: line 1 column 1 (char 0)\n",
      "$BSE: possibly delisted; no timezone found\n"
     ]
    },
    {
     "name": "stdout",
     "output_type": "stream",
     "text": [
      "Error fetching data for BSE: No historical data available for BSE around 2024-01-28.\n"
     ]
    },
    {
     "name": "stderr",
     "output_type": "stream",
     "text": [
      "$LGI: possibly delisted; no price data found  (1d 2023-12-29 -> 2024-01-28)\n"
     ]
    },
    {
     "name": "stdout",
     "output_type": "stream",
     "text": [
      "Error fetching data for LGI: No historical data available for LGI around 2024-01-28.\n"
     ]
    },
    {
     "name": "stderr",
     "output_type": "stream",
     "text": [
      "Failed to get ticker 'CLSN' reason: Expecting value: line 1 column 1 (char 0)\n",
      "$CLSN: possibly delisted; no timezone found\n"
     ]
    },
    {
     "name": "stdout",
     "output_type": "stream",
     "text": [
      "Error fetching data for CLSN: No historical data available for CLSN around 2024-01-28.\n"
     ]
    },
    {
     "name": "stderr",
     "output_type": "stream",
     "text": [
      "$NVC: possibly delisted; no price data found  (1d 2023-12-29 -> 2024-01-28)\n"
     ]
    },
    {
     "name": "stdout",
     "output_type": "stream",
     "text": [
      "Error fetching data for NVC: No historical data available for NVC around 2024-01-28.\n"
     ]
    },
    {
     "name": "stderr",
     "output_type": "stream",
     "text": [
      "$ONXX: possibly delisted; no price data found  (1d 2023-12-29 -> 2024-01-28)\n"
     ]
    },
    {
     "name": "stdout",
     "output_type": "stream",
     "text": [
      "Error fetching data for ONXX: No historical data available for ONXX around 2024-01-28.\n"
     ]
    },
    {
     "name": "stderr",
     "output_type": "stream",
     "text": [
      "$SHFL: possibly delisted; no price data found  (1d 2023-12-29 -> 2024-01-28)\n"
     ]
    },
    {
     "name": "stdout",
     "output_type": "stream",
     "text": [
      "Error fetching data for SHFL: No historical data available for SHFL around 2024-01-28.\n"
     ]
    },
    {
     "name": "stderr",
     "output_type": "stream",
     "text": [
      "$FANG: possibly delisted; no price data found  (1d 2023-12-29 -> 2024-01-28)\n"
     ]
    },
    {
     "name": "stdout",
     "output_type": "stream",
     "text": [
      "Error fetching data for FANG: No historical data available for FANG around 2024-01-28.\n"
     ]
    },
    {
     "name": "stderr",
     "output_type": "stream",
     "text": [
      "Failed to get ticker 'EP-C' reason: Expecting value: line 1 column 1 (char 0)\n",
      "$EP-C: possibly delisted; no timezone found\n"
     ]
    },
    {
     "name": "stdout",
     "output_type": "stream",
     "text": [
      "Error fetching data for EP-C: No historical data available for EP-C around 2024-01-28.\n"
     ]
    },
    {
     "name": "stderr",
     "output_type": "stream",
     "text": [
      "Failed to get ticker 'ARQL' reason: Expecting value: line 1 column 1 (char 0)\n",
      "$ARQL: possibly delisted; no timezone found\n"
     ]
    },
    {
     "name": "stdout",
     "output_type": "stream",
     "text": [
      "Error fetching data for ARQL: No historical data available for ARQL around 2024-01-28.\n"
     ]
    },
    {
     "name": "stderr",
     "output_type": "stream",
     "text": [
      "$SOCB: possibly delisted; no price data found  (1d 2023-12-29 -> 2024-01-28)\n"
     ]
    },
    {
     "name": "stdout",
     "output_type": "stream",
     "text": [
      "Error fetching data for SOCB: No historical data available for SOCB around 2024-01-28.\n"
     ]
    },
    {
     "name": "stderr",
     "output_type": "stream",
     "text": [
      "$BIE: possibly delisted; no price data found  (1d 2023-12-29 -> 2024-01-28)\n"
     ]
    },
    {
     "name": "stdout",
     "output_type": "stream",
     "text": [
      "Error fetching data for BIE: No historical data available for BIE around 2024-01-28.\n"
     ]
    },
    {
     "name": "stderr",
     "output_type": "stream",
     "text": [
      "$GENE: possibly delisted; no price data found  (1d 2023-12-29 -> 2024-01-28)\n"
     ]
    },
    {
     "name": "stdout",
     "output_type": "stream",
     "text": [
      "Error fetching data for GENE: No historical data available for GENE around 2024-01-28.\n"
     ]
    },
    {
     "name": "stderr",
     "output_type": "stream",
     "text": [
      "Failed to get ticker 'SLMAP' reason: Expecting value: line 1 column 1 (char 0)\n",
      "$SLMAP: possibly delisted; no timezone found\n"
     ]
    },
    {
     "name": "stdout",
     "output_type": "stream",
     "text": [
      "Error fetching data for SLMAP: No historical data available for SLMAP around 2024-01-28.\n"
     ]
    },
    {
     "name": "stderr",
     "output_type": "stream",
     "text": [
      "$IFN: possibly delisted; no price data found  (1d 2023-12-29 -> 2024-01-28)\n"
     ]
    },
    {
     "name": "stdout",
     "output_type": "stream",
     "text": [
      "Error fetching data for IFN: No historical data available for IFN around 2024-01-28.\n"
     ]
    },
    {
     "name": "stderr",
     "output_type": "stream",
     "text": [
      "$HMY: possibly delisted; no price data found  (1d 2023-12-29 -> 2024-01-28)\n"
     ]
    },
    {
     "name": "stdout",
     "output_type": "stream",
     "text": [
      "Error fetching data for HMY: No historical data available for HMY around 2024-01-28.\n"
     ]
    },
    {
     "name": "stderr",
     "output_type": "stream",
     "text": [
      "$FMX: possibly delisted; no price data found  (1d 2023-12-29 -> 2024-01-28)\n"
     ]
    },
    {
     "name": "stdout",
     "output_type": "stream",
     "text": [
      "Error fetching data for FMX: No historical data available for FMX around 2024-01-28.\n"
     ]
    },
    {
     "name": "stderr",
     "output_type": "stream",
     "text": [
      "$AGM-A: possibly delisted; no price data found  (1d 2023-12-29 -> 2024-01-28)\n"
     ]
    },
    {
     "name": "stdout",
     "output_type": "stream",
     "text": [
      "Error fetching data for AGM-A: No historical data available for AGM-A around 2024-01-28.\n"
     ]
    },
    {
     "name": "stderr",
     "output_type": "stream",
     "text": [
      "$OTTR: possibly delisted; no price data found  (1d 2023-12-29 -> 2024-01-28)\n"
     ]
    },
    {
     "name": "stdout",
     "output_type": "stream",
     "text": [
      "Error fetching data for OTTR: No historical data available for OTTR around 2024-01-28.\n"
     ]
    },
    {
     "name": "stderr",
     "output_type": "stream",
     "text": [
      "Failed to get ticker 'GBL' reason: Expecting value: line 1 column 1 (char 0)\n",
      "$GBL: possibly delisted; no timezone found\n"
     ]
    },
    {
     "name": "stdout",
     "output_type": "stream",
     "text": [
      "Error fetching data for GBL: No historical data available for GBL around 2024-01-28.\n"
     ]
    },
    {
     "name": "stderr",
     "output_type": "stream",
     "text": [
      "Failed to get ticker 'VRML' reason: Expecting value: line 1 column 1 (char 0)\n",
      "$VRML: possibly delisted; no timezone found\n"
     ]
    },
    {
     "name": "stdout",
     "output_type": "stream",
     "text": [
      "Error fetching data for VRML: No historical data available for VRML around 2024-01-28.\n"
     ]
    },
    {
     "name": "stderr",
     "output_type": "stream",
     "text": [
      "$EOG: possibly delisted; no price data found  (1d 2023-12-29 -> 2024-01-28)\n"
     ]
    },
    {
     "name": "stdout",
     "output_type": "stream",
     "text": [
      "Error fetching data for EOG: No historical data available for EOG around 2024-01-28.\n"
     ]
    },
    {
     "name": "stderr",
     "output_type": "stream",
     "text": [
      "Failed to get ticker 'CCH' reason: Expecting value: line 1 column 1 (char 0)\n",
      "$CCH: possibly delisted; no timezone found\n"
     ]
    },
    {
     "name": "stdout",
     "output_type": "stream",
     "text": [
      "Error fetching data for CCH: No historical data available for CCH around 2024-01-28.\n"
     ]
    },
    {
     "name": "stderr",
     "output_type": "stream",
     "text": [
      "$PERY: possibly delisted; no price data found  (1d 2023-12-29 -> 2024-01-28)\n"
     ]
    },
    {
     "name": "stdout",
     "output_type": "stream",
     "text": [
      "Error fetching data for PERY: No historical data available for PERY around 2024-01-28.\n"
     ]
    },
    {
     "name": "stderr",
     "output_type": "stream",
     "text": [
      "Failed to get ticker 'DVCR' reason: Expecting value: line 1 column 1 (char 0)\n",
      "$DVCR: possibly delisted; no timezone found\n"
     ]
    },
    {
     "name": "stdout",
     "output_type": "stream",
     "text": [
      "Error fetching data for DVCR: No historical data available for DVCR around 2024-01-28.\n"
     ]
    },
    {
     "name": "stderr",
     "output_type": "stream",
     "text": [
      "$NFSB: possibly delisted; no price data found  (1d 2023-12-29 -> 2024-01-28)\n"
     ]
    },
    {
     "name": "stdout",
     "output_type": "stream",
     "text": [
      "Error fetching data for NFSB: No historical data available for NFSB around 2024-01-28.\n"
     ]
    },
    {
     "name": "stderr",
     "output_type": "stream",
     "text": [
      "$GMED: possibly delisted; no price data found  (1d 2023-12-29 -> 2024-01-28)\n"
     ]
    },
    {
     "name": "stdout",
     "output_type": "stream",
     "text": [
      "Error fetching data for GMED: No historical data available for GMED around 2024-01-28.\n"
     ]
    },
    {
     "name": "stderr",
     "output_type": "stream",
     "text": [
      "Failed to get ticker 'SAN-F' reason: Expecting value: line 1 column 1 (char 0)\n",
      "$SAN-F: possibly delisted; no timezone found\n"
     ]
    },
    {
     "name": "stdout",
     "output_type": "stream",
     "text": [
      "Error fetching data for SAN-F: No historical data available for SAN-F around 2024-01-28.\n"
     ]
    },
    {
     "name": "stderr",
     "output_type": "stream",
     "text": [
      "$TBI: possibly delisted; no price data found  (1d 2023-12-29 -> 2024-01-28)\n"
     ]
    },
    {
     "name": "stdout",
     "output_type": "stream",
     "text": [
      "Error fetching data for TBI: No historical data available for TBI around 2024-01-28.\n"
     ]
    },
    {
     "name": "stderr",
     "output_type": "stream",
     "text": [
      "$ICA: possibly delisted; no price data found  (1d 2023-12-29 -> 2024-01-28)\n"
     ]
    },
    {
     "name": "stdout",
     "output_type": "stream",
     "text": [
      "Error fetching data for ICA: No historical data available for ICA around 2024-01-28.\n"
     ]
    },
    {
     "name": "stderr",
     "output_type": "stream",
     "text": [
      "Failed to get ticker 'CIDM' reason: Expecting value: line 1 column 1 (char 0)\n",
      "$CIDM: possibly delisted; no timezone found\n"
     ]
    },
    {
     "name": "stdout",
     "output_type": "stream",
     "text": [
      "Error fetching data for CIDM: No historical data available for CIDM around 2024-01-28.\n"
     ]
    },
    {
     "name": "stderr",
     "output_type": "stream",
     "text": [
      "$MPC: possibly delisted; no price data found  (1d 2023-12-29 -> 2024-01-28)\n"
     ]
    },
    {
     "name": "stdout",
     "output_type": "stream",
     "text": [
      "Error fetching data for MPC: No historical data available for MPC around 2024-01-28.\n"
     ]
    },
    {
     "name": "stderr",
     "output_type": "stream",
     "text": [
      "$BCOV: possibly delisted; no price data found  (1d 2023-12-29 -> 2024-01-28)\n"
     ]
    },
    {
     "name": "stdout",
     "output_type": "stream",
     "text": [
      "Error fetching data for BCOV: No historical data available for BCOV around 2024-01-28.\n"
     ]
    },
    {
     "name": "stderr",
     "output_type": "stream",
     "text": [
      "Failed to get ticker 'BFR' reason: Expecting value: line 1 column 1 (char 0)\n",
      "$BFR: possibly delisted; no timezone found\n"
     ]
    },
    {
     "name": "stdout",
     "output_type": "stream",
     "text": [
      "Error fetching data for BFR: No historical data available for BFR around 2024-01-28.\n"
     ]
    },
    {
     "name": "stderr",
     "output_type": "stream",
     "text": [
      "$AEC: possibly delisted; no price data found  (1d 2023-12-29 -> 2024-01-28)\n"
     ]
    },
    {
     "name": "stdout",
     "output_type": "stream",
     "text": [
      "Error fetching data for AEC: No historical data available for AEC around 2024-01-28.\n"
     ]
    },
    {
     "name": "stderr",
     "output_type": "stream",
     "text": [
      "$TDY: possibly delisted; no price data found  (1d 2023-12-29 -> 2024-01-28)\n"
     ]
    },
    {
     "name": "stdout",
     "output_type": "stream",
     "text": [
      "Error fetching data for TDY: No historical data available for TDY around 2024-01-28.\n"
     ]
    },
    {
     "name": "stderr",
     "output_type": "stream",
     "text": [
      "$FLR: possibly delisted; no price data found  (1d 2023-12-29 -> 2024-01-28)\n"
     ]
    },
    {
     "name": "stdout",
     "output_type": "stream",
     "text": [
      "Error fetching data for FLR: No historical data available for FLR around 2024-01-28.\n"
     ]
    },
    {
     "name": "stderr",
     "output_type": "stream",
     "text": [
      "Failed to get ticker 'FREE' reason: Expecting value: line 1 column 1 (char 0)\n",
      "$FREE: possibly delisted; no timezone found\n"
     ]
    },
    {
     "name": "stdout",
     "output_type": "stream",
     "text": [
      "Error fetching data for FREE: No historical data available for FREE around 2024-01-28.\n"
     ]
    },
    {
     "name": "stderr",
     "output_type": "stream",
     "text": [
      "$OXLCP: possibly delisted; no price data found  (1d 2023-12-29 -> 2024-01-28)\n"
     ]
    },
    {
     "name": "stdout",
     "output_type": "stream",
     "text": [
      "Error fetching data for OXLCP: No historical data available for OXLCP around 2024-01-28.\n"
     ]
    },
    {
     "name": "stderr",
     "output_type": "stream",
     "text": [
      "$GLNG: possibly delisted; no price data found  (1d 2023-12-29 -> 2024-01-28)\n"
     ]
    },
    {
     "name": "stdout",
     "output_type": "stream",
     "text": [
      "Error fetching data for GLNG: No historical data available for GLNG around 2024-01-28.\n"
     ]
    },
    {
     "name": "stderr",
     "output_type": "stream",
     "text": [
      "$FNHC: possibly delisted; no price data found  (1d 2023-12-29 -> 2024-01-28)\n"
     ]
    },
    {
     "name": "stdout",
     "output_type": "stream",
     "text": [
      "Error fetching data for FNHC: No historical data available for FNHC around 2024-01-28.\n"
     ]
    },
    {
     "name": "stderr",
     "output_type": "stream",
     "text": [
      "$LSE-C: possibly delisted; no timezone found\n"
     ]
    },
    {
     "name": "stdout",
     "output_type": "stream",
     "text": [
      "Error fetching data for LSE-C: No historical data available for LSE-C around 2024-01-28.\n"
     ]
    },
    {
     "name": "stderr",
     "output_type": "stream",
     "text": [
      "$BANCL: possibly delisted; no timezone found\n"
     ]
    },
    {
     "name": "stdout",
     "output_type": "stream",
     "text": [
      "Error fetching data for BANCL: No historical data available for BANCL around 2024-01-28.\n"
     ]
    },
    {
     "name": "stderr",
     "output_type": "stream",
     "text": [
      "$CO: possibly delisted; no timezone found\n"
     ]
    },
    {
     "name": "stdout",
     "output_type": "stream",
     "text": [
      "Error fetching data for CO: No historical data available for CO around 2024-01-28.\n"
     ]
    },
    {
     "name": "stderr",
     "output_type": "stream",
     "text": [
      "$COF-P: possibly delisted; no timezone found\n"
     ]
    },
    {
     "name": "stdout",
     "output_type": "stream",
     "text": [
      "Error fetching data for COF-P: No historical data available for COF-P around 2024-01-28.\n"
     ]
    },
    {
     "name": "stderr",
     "output_type": "stream",
     "text": [
      "$KNL: possibly delisted; no timezone found\n"
     ]
    },
    {
     "name": "stdout",
     "output_type": "stream",
     "text": [
      "Error fetching data for KNL: No historical data available for KNL around 2024-01-28.\n"
     ]
    },
    {
     "name": "stderr",
     "output_type": "stream",
     "text": [
      "$JPS: possibly delisted; no timezone found\n",
      "$REDF: possibly delisted; no price data found  (1d 2023-12-29 -> 2024-01-28)\n",
      "$ARTC: possibly delisted; no price data found  (1d 2023-12-29 -> 2024-01-28)\n"
     ]
    },
    {
     "name": "stdout",
     "output_type": "stream",
     "text": [
      "Error fetching data for JPS: No historical data available for JPS around 2024-01-28.\n",
      "Error fetching data for REDF: No historical data available for REDF around 2024-01-28.\n",
      "Error fetching data for ARTC: No historical data available for ARTC around 2024-01-28.\n"
     ]
    },
    {
     "name": "stderr",
     "output_type": "stream",
     "text": [
      "$OAKS: possibly delisted; no price data found  (1d 2023-12-29 -> 2024-01-28)\n"
     ]
    },
    {
     "name": "stdout",
     "output_type": "stream",
     "text": [
      "Error fetching data for OAKS: No historical data available for OAKS around 2024-01-28.\n"
     ]
    },
    {
     "name": "stderr",
     "output_type": "stream",
     "text": [
      "$SRC: possibly delisted; no timezone found\n"
     ]
    },
    {
     "name": "stdout",
     "output_type": "stream",
     "text": [
      "Error fetching data for SRC: No historical data available for SRC around 2024-01-28.\n"
     ]
    },
    {
     "name": "stderr",
     "output_type": "stream",
     "text": [
      "$JSD: possibly delisted; no timezone found\n"
     ]
    },
    {
     "name": "stdout",
     "output_type": "stream",
     "text": [
      "Error fetching data for JSD: No historical data available for JSD around 2024-01-28.\n"
     ]
    },
    {
     "name": "stderr",
     "output_type": "stream",
     "text": [
      "$AEK: possibly delisted; no timezone found\n",
      "$SENEB: possibly delisted; no price data found  (period=1d)\n"
     ]
    },
    {
     "name": "stdout",
     "output_type": "stream",
     "text": [
      "Error fetching data for AEK: No historical data available for AEK around 2024-01-28.\n",
      "Error fetching data for SENEB: single positional indexer is out-of-bounds\n"
     ]
    },
    {
     "name": "stderr",
     "output_type": "stream",
     "text": [
      "$SZC: possibly delisted; no timezone found\n"
     ]
    },
    {
     "name": "stdout",
     "output_type": "stream",
     "text": [
      "Error fetching data for SZC: No historical data available for SZC around 2024-01-28.\n"
     ]
    },
    {
     "name": "stderr",
     "output_type": "stream",
     "text": [
      "$ABMD: possibly delisted; no timezone found\n"
     ]
    },
    {
     "name": "stdout",
     "output_type": "stream",
     "text": [
      "Error fetching data for ABMD: No historical data available for ABMD around 2024-01-28.\n"
     ]
    },
    {
     "name": "stderr",
     "output_type": "stream",
     "text": [
      "$STMP: possibly delisted; no timezone found\n"
     ]
    },
    {
     "name": "stdout",
     "output_type": "stream",
     "text": [
      "Error fetching data for STMP: No historical data available for STMP around 2024-01-28.\n"
     ]
    },
    {
     "name": "stderr",
     "output_type": "stream",
     "text": [
      "$BANFP: possibly delisted; no price data found  (period=1d)\n",
      "$PNRA: possibly delisted; no price data found  (1d 2023-12-29 -> 2024-01-28)\n"
     ]
    },
    {
     "name": "stdout",
     "output_type": "stream",
     "text": [
      "Error fetching data for BANFP: single positional indexer is out-of-bounds\n",
      "Error fetching data for PNRA: No historical data available for PNRA around 2024-01-28.\n"
     ]
    },
    {
     "name": "stderr",
     "output_type": "stream",
     "text": [
      "$ENT: possibly delisted; no timezone found\n"
     ]
    },
    {
     "name": "stdout",
     "output_type": "stream",
     "text": [
      "Error fetching data for ENT: No historical data available for ENT around 2024-01-28.\n"
     ]
    },
    {
     "name": "stderr",
     "output_type": "stream",
     "text": [
      "$GDV-A: possibly delisted; no timezone found\n",
      "$CACB: possibly delisted; no price data found  (1d 2023-12-29 -> 2024-01-28)\n",
      "$HSNI: possibly delisted; no price data found  (1d 2023-12-29 -> 2024-01-28)\n"
     ]
    },
    {
     "name": "stdout",
     "output_type": "stream",
     "text": [
      "Error fetching data for GDV-A: No historical data available for GDV-A around 2024-01-28.\n",
      "Error fetching data for CACB: No historical data available for CACB around 2024-01-28.\n",
      "Error fetching data for HSNI: No historical data available for HSNI around 2024-01-28.\n"
     ]
    },
    {
     "name": "stderr",
     "output_type": "stream",
     "text": [
      "$HNR: possibly delisted; no price data found  (1d 2023-12-29 -> 2024-01-28)\n",
      "$ININ: possibly delisted; no price data found  (1d 2023-12-29 -> 2024-01-28)\n"
     ]
    },
    {
     "name": "stdout",
     "output_type": "stream",
     "text": [
      "Error fetching data for HNR: No historical data available for HNR around 2024-01-28.\n",
      "Error fetching data for ININ: No historical data available for ININ around 2024-01-28.\n"
     ]
    },
    {
     "name": "stderr",
     "output_type": "stream",
     "text": [
      "$CERE: possibly delisted; no timezone found\n"
     ]
    },
    {
     "name": "stdout",
     "output_type": "stream",
     "text": [
      "Error fetching data for CERE: No historical data available for CERE around 2024-01-28.\n"
     ]
    },
    {
     "name": "stderr",
     "output_type": "stream",
     "text": [
      "$OIIM: possibly delisted; no timezone found\n",
      "$ONFC: possibly delisted; no price data found  (1d 2023-12-29 -> 2024-01-28)\n",
      "$MCRS: possibly delisted; no price data found  (1d 2023-12-29 -> 2024-01-28)\n"
     ]
    },
    {
     "name": "stdout",
     "output_type": "stream",
     "text": [
      "Error fetching data for OIIM: No historical data available for OIIM around 2024-01-28.\n",
      "Error fetching data for ONFC: No historical data available for ONFC around 2024-01-28.\n",
      "Error fetching data for MCRS: No historical data available for MCRS around 2024-01-28.\n"
     ]
    },
    {
     "name": "stderr",
     "output_type": "stream",
     "text": [
      "$LOJN: possibly delisted; no price data found  (1d 2023-12-29 -> 2024-01-28)\n"
     ]
    },
    {
     "name": "stdout",
     "output_type": "stream",
     "text": [
      "Error fetching data for LOJN: No historical data available for LOJN around 2024-01-28.\n"
     ]
    },
    {
     "name": "stderr",
     "output_type": "stream",
     "text": [
      "$AFM: possibly delisted; no price data found  (1d 2023-12-29 -> 2024-01-28)\n"
     ]
    },
    {
     "name": "stdout",
     "output_type": "stream",
     "text": [
      "Error fetching data for AFM: No historical data available for AFM around 2024-01-28.\n"
     ]
    },
    {
     "name": "stderr",
     "output_type": "stream",
     "text": [
      "$ZB-C: possibly delisted; no timezone found\n"
     ]
    },
    {
     "name": "stdout",
     "output_type": "stream",
     "text": [
      "Error fetching data for ZB-C: No historical data available for ZB-C around 2024-01-28.\n"
     ]
    },
    {
     "name": "stderr",
     "output_type": "stream",
     "text": [
      "$NEV: possibly delisted; no timezone found\n"
     ]
    },
    {
     "name": "stdout",
     "output_type": "stream",
     "text": [
      "Error fetching data for NEV: No historical data available for NEV around 2024-01-28.\n"
     ]
    },
    {
     "name": "stderr",
     "output_type": "stream",
     "text": [
      "$MOSY: possibly delisted; no timezone found\n",
      "$SSS: possibly delisted; no price data found  (1d 2023-12-29 -> 2024-01-28)\n",
      "$SPP: possibly delisted; no price data found  (1d 2023-12-29 -> 2024-01-28)\n"
     ]
    },
    {
     "name": "stdout",
     "output_type": "stream",
     "text": [
      "Error fetching data for MOSY: No historical data available for MOSY around 2024-01-28.\n",
      "Error fetching data for SSS: No historical data available for SSS around 2024-01-28.\n",
      "Error fetching data for SPP: No historical data available for SPP around 2024-01-28.\n"
     ]
    },
    {
     "name": "stderr",
     "output_type": "stream",
     "text": [
      "$NTSC: possibly delisted; no price data found  (1d 2023-12-29 -> 2024-01-28)\n"
     ]
    },
    {
     "name": "stdout",
     "output_type": "stream",
     "text": [
      "Error fetching data for NTSC: No historical data available for NTSC around 2024-01-28.\n"
     ]
    },
    {
     "name": "stderr",
     "output_type": "stream",
     "text": [
      "$NEA-C: possibly delisted; no timezone found\n",
      "$SCSS: possibly delisted; no price data found  (1d 2023-12-29 -> 2024-01-28)\n",
      "$EMDI: possibly delisted; no price data found  (1d 2023-12-29 -> 2024-01-28)\n"
     ]
    },
    {
     "name": "stdout",
     "output_type": "stream",
     "text": [
      "Error fetching data for NEA-C: No historical data available for NEA-C around 2024-01-28.\n",
      "Error fetching data for SCSS: No historical data available for SCSS around 2024-01-28.\n",
      "Error fetching data for EMDI: No historical data available for EMDI around 2024-01-28.\n"
     ]
    },
    {
     "name": "stderr",
     "output_type": "stream",
     "text": [
      "$BIG: possibly delisted; no timezone found\n"
     ]
    },
    {
     "name": "stdout",
     "output_type": "stream",
     "text": [
      "Error fetching data for BIG: No historical data available for BIG around 2024-01-28.\n"
     ]
    },
    {
     "name": "stderr",
     "output_type": "stream",
     "text": [
      "$WAIR: possibly delisted; no timezone found\n"
     ]
    },
    {
     "name": "stdout",
     "output_type": "stream",
     "text": [
      "Error fetching data for WAIR: No historical data available for WAIR around 2024-01-28.\n"
     ]
    },
    {
     "name": "stderr",
     "output_type": "stream",
     "text": [
      "$GTPPP: possibly delisted; no price data found  (1d 2023-12-29 -> 2024-01-28)\n"
     ]
    },
    {
     "name": "stdout",
     "output_type": "stream",
     "text": [
      "Error fetching data for GTPPP: No historical data available for GTPPP around 2024-01-28.\n"
     ]
    },
    {
     "name": "stderr",
     "output_type": "stream",
     "text": [
      "$HJN: possibly delisted; no price data found  (1d 2023-12-29 -> 2024-01-28)\n",
      "$SXL: possibly delisted; no price data found  (1d 2023-12-29 -> 2024-01-28)\n",
      "$EMQ: possibly delisted; no price data found  (1d 2023-12-29 -> 2024-01-28)\n"
     ]
    },
    {
     "name": "stdout",
     "output_type": "stream",
     "text": [
      "Error fetching data for HJN: No historical data available for HJN around 2024-01-28.\n",
      "Error fetching data for SXL: No historical data available for SXL around 2024-01-28.\n",
      "Error fetching data for EMQ: No historical data available for EMQ around 2024-01-28.\n"
     ]
    },
    {
     "name": "stderr",
     "output_type": "stream",
     "text": [
      "$BCSB: possibly delisted; no price data found  (1d 2023-12-29 -> 2024-01-28)\n"
     ]
    },
    {
     "name": "stdout",
     "output_type": "stream",
     "text": [
      "Error fetching data for BCSB: No historical data available for BCSB around 2024-01-28.\n"
     ]
    },
    {
     "name": "stderr",
     "output_type": "stream",
     "text": [
      "$ARCW: possibly delisted; no timezone found\n"
     ]
    },
    {
     "name": "stdout",
     "output_type": "stream",
     "text": [
      "Error fetching data for ARCW: No historical data available for ARCW around 2024-01-28.\n"
     ]
    },
    {
     "name": "stderr",
     "output_type": "stream",
     "text": [
      "$AKP: possibly delisted; no timezone found\n"
     ]
    },
    {
     "name": "stdout",
     "output_type": "stream",
     "text": [
      "Error fetching data for AKP: No historical data available for AKP around 2024-01-28.\n"
     ]
    },
    {
     "name": "stderr",
     "output_type": "stream",
     "text": [
      "$NXQ: possibly delisted; no timezone found\n"
     ]
    },
    {
     "name": "stdout",
     "output_type": "stream",
     "text": [
      "Error fetching data for NXQ: No historical data available for NXQ around 2024-01-28.\n"
     ]
    },
    {
     "name": "stderr",
     "output_type": "stream",
     "text": [
      "$DFRG: possibly delisted; no timezone found\n"
     ]
    },
    {
     "name": "stdout",
     "output_type": "stream",
     "text": [
      "Error fetching data for DFRG: No historical data available for DFRG around 2024-01-28.\n"
     ]
    },
    {
     "name": "stderr",
     "output_type": "stream",
     "text": [
      "$CBB: possibly delisted; no timezone found\n"
     ]
    },
    {
     "name": "stdout",
     "output_type": "stream",
     "text": [
      "Error fetching data for CBB: No historical data available for CBB around 2024-01-28.\n"
     ]
    },
    {
     "name": "stderr",
     "output_type": "stream",
     "text": [
      "$PHII: possibly delisted; no timezone found\n"
     ]
    },
    {
     "name": "stdout",
     "output_type": "stream",
     "text": [
      "Error fetching data for PHII: No historical data available for PHII around 2024-01-28.\n"
     ]
    },
    {
     "name": "stderr",
     "output_type": "stream",
     "text": [
      "$NYMX: possibly delisted; no timezone found\n",
      "$ESBF: possibly delisted; no price data found  (1d 2023-12-29 -> 2024-01-28)\n",
      "$SUSS: possibly delisted; no price data found  (1d 2023-12-29 -> 2024-01-28)\n"
     ]
    },
    {
     "name": "stdout",
     "output_type": "stream",
     "text": [
      "Error fetching data for NYMX: No historical data available for NYMX around 2024-01-28.\n",
      "Error fetching data for ESBF: No historical data available for ESBF around 2024-01-28.\n",
      "Error fetching data for SUSS: No historical data available for SUSS around 2024-01-28.\n"
     ]
    },
    {
     "name": "stderr",
     "output_type": "stream",
     "text": [
      "$MICT: possibly delisted; no timezone found\n",
      "$NPI: possibly delisted; no price data found  (1d 2023-12-29 -> 2024-01-28)\n"
     ]
    },
    {
     "name": "stdout",
     "output_type": "stream",
     "text": [
      "Error fetching data for MICT: No historical data available for MICT around 2024-01-28.\n",
      "Error fetching data for NPI: No historical data available for NPI around 2024-01-28.\n"
     ]
    },
    {
     "name": "stderr",
     "output_type": "stream",
     "text": [
      "$HOME: possibly delisted; no timezone found\n"
     ]
    },
    {
     "name": "stdout",
     "output_type": "stream",
     "text": [
      "Error fetching data for HOME: No historical data available for HOME around 2024-01-28.\n"
     ]
    },
    {
     "name": "stderr",
     "output_type": "stream",
     "text": [
      "$PSA-T: possibly delisted; no timezone found\n"
     ]
    },
    {
     "name": "stdout",
     "output_type": "stream",
     "text": [
      "Error fetching data for PSA-T: No historical data available for PSA-T around 2024-01-28.\n"
     ]
    },
    {
     "name": "stderr",
     "output_type": "stream",
     "text": [
      "$TYN: possibly delisted; no timezone found\n"
     ]
    },
    {
     "name": "stdout",
     "output_type": "stream",
     "text": [
      "Error fetching data for TYN: No historical data available for TYN around 2024-01-28.\n"
     ]
    },
    {
     "name": "stderr",
     "output_type": "stream",
     "text": [
      "$DDF: possibly delisted; no timezone found\n"
     ]
    },
    {
     "name": "stdout",
     "output_type": "stream",
     "text": [
      "Error fetching data for DDF: No historical data available for DDF around 2024-01-28.\n"
     ]
    },
    {
     "name": "stderr",
     "output_type": "stream",
     "text": [
      "$SAFM: possibly delisted; no timezone found\n"
     ]
    },
    {
     "name": "stdout",
     "output_type": "stream",
     "text": [
      "Error fetching data for SAFM: No historical data available for SAFM around 2024-01-28.\n"
     ]
    },
    {
     "name": "stderr",
     "output_type": "stream",
     "text": [
      "$NEE-O: possibly delisted; no timezone found\n"
     ]
    },
    {
     "name": "stdout",
     "output_type": "stream",
     "text": [
      "Error fetching data for NEE-O: No historical data available for NEE-O around 2024-01-28.\n"
     ]
    },
    {
     "name": "stderr",
     "output_type": "stream",
     "text": [
      "$MMP: possibly delisted; no timezone found\n"
     ]
    },
    {
     "name": "stdout",
     "output_type": "stream",
     "text": [
      "Error fetching data for MMP: No historical data available for MMP around 2024-01-28.\n"
     ]
    },
    {
     "name": "stderr",
     "output_type": "stream",
     "text": [
      "$CTX: possibly delisted; no price data found  (1d 2023-12-29 -> 2024-01-28)\n"
     ]
    },
    {
     "name": "stdout",
     "output_type": "stream",
     "text": [
      "Error fetching data for CTX: No historical data available for CTX around 2024-01-28.\n"
     ]
    },
    {
     "name": "stderr",
     "output_type": "stream",
     "text": [
      "$FCHI: possibly delisted; no timezone found\n"
     ]
    },
    {
     "name": "stdout",
     "output_type": "stream",
     "text": [
      "Error fetching data for FCHI: No historical data available for FCHI around 2024-01-28.\n"
     ]
    },
    {
     "name": "stderr",
     "output_type": "stream",
     "text": [
      "$SI: possibly delisted; no timezone found\n"
     ]
    },
    {
     "name": "stdout",
     "output_type": "stream",
     "text": [
      "Error fetching data for SI: No historical data available for SI around 2024-01-28.\n"
     ]
    },
    {
     "name": "stderr",
     "output_type": "stream",
     "text": [
      "$LOCM: possibly delisted; no price data found  (period=1d)\n"
     ]
    },
    {
     "name": "stdout",
     "output_type": "stream",
     "text": [
      "Error fetching data for LOCM: single positional indexer is out-of-bounds\n"
     ]
    },
    {
     "name": "stderr",
     "output_type": "stream",
     "text": [
      "$MYF: possibly delisted; no timezone found\n",
      "$TUMI: possibly delisted; no price data found  (1d 2023-12-29 -> 2024-01-28)\n"
     ]
    },
    {
     "name": "stdout",
     "output_type": "stream",
     "text": [
      "Error fetching data for MYF: No historical data available for MYF around 2024-01-28.\n",
      "Error fetching data for TUMI: No historical data available for TUMI around 2024-01-28.\n"
     ]
    },
    {
     "name": "stderr",
     "output_type": "stream",
     "text": [
      "$CISAA: possibly delisted; no timezone found\n",
      "$GGP: possibly delisted; no price data found  (1d 2023-12-29 -> 2024-01-28)\n"
     ]
    },
    {
     "name": "stdout",
     "output_type": "stream",
     "text": [
      "Error fetching data for CISAA: No historical data available for CISAA around 2024-01-28.\n",
      "Error fetching data for GGP: No historical data available for GGP around 2024-01-28.\n"
     ]
    },
    {
     "name": "stderr",
     "output_type": "stream",
     "text": [
      "$AT: possibly delisted; no timezone found\n",
      "$MOCO: possibly delisted; no price data found  (1d 2023-12-29 -> 2024-01-28)\n"
     ]
    },
    {
     "name": "stdout",
     "output_type": "stream",
     "text": [
      "Error fetching data for AT: No historical data available for AT around 2024-01-28.\n",
      "Error fetching data for MOCO: No historical data available for MOCO around 2024-01-28.\n"
     ]
    },
    {
     "name": "stderr",
     "output_type": "stream",
     "text": [
      "$BNCL: possibly delisted; no timezone found\n",
      "$PTEK: possibly delisted; no price data found  (1d 2023-12-29 -> 2024-01-28)\n"
     ]
    },
    {
     "name": "stdout",
     "output_type": "stream",
     "text": [
      "Error fetching data for BNCL: No historical data available for BNCL around 2024-01-28.\n",
      "Error fetching data for PTEK: No historical data available for PTEK around 2024-01-28.\n"
     ]
    },
    {
     "name": "stderr",
     "output_type": "stream",
     "text": [
      "$AIF: possibly delisted; no timezone found\n"
     ]
    },
    {
     "name": "stdout",
     "output_type": "stream",
     "text": [
      "Error fetching data for AIF: No historical data available for AIF around 2024-01-28.\n"
     ]
    },
    {
     "name": "stderr",
     "output_type": "stream",
     "text": [
      "$JDSU: possibly delisted; no price data found  (1d 2023-12-29 -> 2024-01-28)\n"
     ]
    },
    {
     "name": "stdout",
     "output_type": "stream",
     "text": [
      "Error fetching data for JDSU: No historical data available for JDSU around 2024-01-28.\n"
     ]
    },
    {
     "name": "stderr",
     "output_type": "stream",
     "text": [
      "$AIV-Z: possibly delisted; no timezone found\n"
     ]
    },
    {
     "name": "stdout",
     "output_type": "stream",
     "text": [
      "Error fetching data for AIV-Z: No historical data available for AIV-Z around 2024-01-28.\n"
     ]
    },
    {
     "name": "stderr",
     "output_type": "stream",
     "text": [
      "$CRY: possibly delisted; no timezone found\n",
      "$LSBI: possibly delisted; no price data found  (1d 2023-12-29 -> 2024-01-28)\n"
     ]
    },
    {
     "name": "stdout",
     "output_type": "stream",
     "text": [
      "Error fetching data for CRY: No historical data available for CRY around 2024-01-28.\n",
      "Error fetching data for LSBI: No historical data available for LSBI around 2024-01-28.\n"
     ]
    },
    {
     "name": "stderr",
     "output_type": "stream",
     "text": [
      "$HZNP: possibly delisted; no price data found  (1d 2023-12-29 -> 2024-01-28)\n"
     ]
    },
    {
     "name": "stdout",
     "output_type": "stream",
     "text": [
      "Error fetching data for HZNP: No historical data available for HZNP around 2024-01-28.\n"
     ]
    },
    {
     "name": "stderr",
     "output_type": "stream",
     "text": [
      "$FTR: possibly delisted; no timezone found\n"
     ]
    },
    {
     "name": "stdout",
     "output_type": "stream",
     "text": [
      "Error fetching data for FTR: No historical data available for FTR around 2024-01-28.\n"
     ]
    },
    {
     "name": "stderr",
     "output_type": "stream",
     "text": [
      "$IVR-A: possibly delisted; no timezone found\n"
     ]
    },
    {
     "name": "stdout",
     "output_type": "stream",
     "text": [
      "Error fetching data for IVR-A: No historical data available for IVR-A around 2024-01-28.\n"
     ]
    },
    {
     "name": "stderr",
     "output_type": "stream",
     "text": [
      "$MAMS: possibly delisted; no timezone found\n"
     ]
    },
    {
     "name": "stdout",
     "output_type": "stream",
     "text": [
      "Error fetching data for MAMS: No historical data available for MAMS around 2024-01-28.\n"
     ]
    },
    {
     "name": "stderr",
     "output_type": "stream",
     "text": [
      "$CBEY: possibly delisted; no price data found  (1d 2023-12-29 -> 2024-01-28)\n",
      "$SIR: possibly delisted; no price data found  (period=1d)\n"
     ]
    },
    {
     "name": "stdout",
     "output_type": "stream",
     "text": [
      "Error fetching data for CBEY: No historical data available for CBEY around 2024-01-28.\n",
      "Error fetching data for SIR: single positional indexer is out-of-bounds\n"
     ]
    },
    {
     "name": "stderr",
     "output_type": "stream",
     "text": [
      "$CVT: possibly delisted; no timezone found\n"
     ]
    },
    {
     "name": "stdout",
     "output_type": "stream",
     "text": [
      "Error fetching data for CVT: No historical data available for CVT around 2024-01-28.\n"
     ]
    },
    {
     "name": "stderr",
     "output_type": "stream",
     "text": [
      "$NRF-C: possibly delisted; no timezone found\n"
     ]
    },
    {
     "name": "stdout",
     "output_type": "stream",
     "text": [
      "Error fetching data for NRF-C: No historical data available for NRF-C around 2024-01-28.\n"
     ]
    },
    {
     "name": "stderr",
     "output_type": "stream",
     "text": [
      "$SRF: possibly delisted; no timezone found\n"
     ]
    },
    {
     "name": "stdout",
     "output_type": "stream",
     "text": [
      "Error fetching data for SRF: No historical data available for SRF around 2024-01-28.\n"
     ]
    },
    {
     "name": "stderr",
     "output_type": "stream",
     "text": [
      "$DISCK: possibly delisted; no timezone found\n"
     ]
    },
    {
     "name": "stdout",
     "output_type": "stream",
     "text": [
      "Error fetching data for DISCK: No historical data available for DISCK around 2024-01-28.\n"
     ]
    },
    {
     "name": "stderr",
     "output_type": "stream",
     "text": [
      "$OINK: possibly delisted; no timezone found\n",
      "$TRR: possibly delisted; no price data found  (1d 2023-12-29 -> 2024-01-28)\n"
     ]
    },
    {
     "name": "stdout",
     "output_type": "stream",
     "text": [
      "Error fetching data for OINK: No historical data available for OINK around 2024-01-28.\n",
      "Error fetching data for TRR: No historical data available for TRR around 2024-01-28.\n"
     ]
    },
    {
     "name": "stderr",
     "output_type": "stream",
     "text": [
      "$AGIIL: possibly delisted; no timezone found\n",
      "$UNTD: possibly delisted; no price data found  (1d 2023-12-29 -> 2024-01-28)\n",
      "$NPF: possibly delisted; no price data found  (1d 2023-12-29 -> 2024-01-28)\n"
     ]
    },
    {
     "name": "stdout",
     "output_type": "stream",
     "text": [
      "Error fetching data for AGIIL: No historical data available for AGIIL around 2024-01-28.\n",
      "Error fetching data for UNTD: No historical data available for UNTD around 2024-01-28.\n",
      "Error fetching data for NPF: No historical data available for NPF around 2024-01-28.\n"
     ]
    },
    {
     "name": "stderr",
     "output_type": "stream",
     "text": [
      "$ZQK: possibly delisted; no price data found  (1d 2023-12-29 -> 2024-01-28)\n"
     ]
    },
    {
     "name": "stdout",
     "output_type": "stream",
     "text": [
      "Error fetching data for ZQK: No historical data available for ZQK around 2024-01-28.\n"
     ]
    },
    {
     "name": "stderr",
     "output_type": "stream",
     "text": [
      "$SHEN: possibly delisted; no price data found  (period=1d)\n"
     ]
    },
    {
     "name": "stdout",
     "output_type": "stream",
     "text": [
      "Error fetching data for SHEN: single positional indexer is out-of-bounds\n"
     ]
    },
    {
     "name": "stderr",
     "output_type": "stream",
     "text": [
      "$HE: possibly delisted; no price data found  (1d 2023-12-29 -> 2024-01-28)\n"
     ]
    },
    {
     "name": "stdout",
     "output_type": "stream",
     "text": [
      "Error fetching data for HE: No historical data available for HE around 2024-01-28.\n"
     ]
    },
    {
     "name": "stderr",
     "output_type": "stream",
     "text": [
      "Failed to get ticker 'CACGW' reason: Expecting value: line 1 column 1 (char 0)\n",
      "$CACGW: possibly delisted; no timezone found\n"
     ]
    },
    {
     "name": "stdout",
     "output_type": "stream",
     "text": [
      "Error fetching data for CACGW: No historical data available for CACGW around 2024-01-28.\n"
     ]
    },
    {
     "name": "stderr",
     "output_type": "stream",
     "text": [
      "$AGNC: possibly delisted; no price data found  (1d 2023-12-29 -> 2024-01-28)\n"
     ]
    },
    {
     "name": "stdout",
     "output_type": "stream",
     "text": [
      "Error fetching data for AGNC: No historical data available for AGNC around 2024-01-28.\n"
     ]
    },
    {
     "name": "stderr",
     "output_type": "stream",
     "text": [
      "$TY.P: possibly delisted; no price data found  (1d 2023-12-29 -> 2024-01-28)\n"
     ]
    },
    {
     "name": "stdout",
     "output_type": "stream",
     "text": [
      "Error fetching data for TY.P: No historical data available for TY.P around 2024-01-28.\n"
     ]
    },
    {
     "name": "stderr",
     "output_type": "stream",
     "text": [
      "$ETR: possibly delisted; no price data found  (1d 2023-12-29 -> 2024-01-28)\n"
     ]
    },
    {
     "name": "stdout",
     "output_type": "stream",
     "text": [
      "Error fetching data for ETR: No historical data available for ETR around 2024-01-28.\n"
     ]
    },
    {
     "name": "stderr",
     "output_type": "stream",
     "text": [
      "$MYGN: possibly delisted; no price data found  (1d 2023-12-29 -> 2024-01-28)\n"
     ]
    },
    {
     "name": "stdout",
     "output_type": "stream",
     "text": [
      "Error fetching data for MYGN: No historical data available for MYGN around 2024-01-28.\n"
     ]
    },
    {
     "name": "stderr",
     "output_type": "stream",
     "text": [
      "$LPDX: possibly delisted; no price data found  (1d 2023-12-29 -> 2024-01-28)\n"
     ]
    },
    {
     "name": "stdout",
     "output_type": "stream",
     "text": [
      "Error fetching data for LPDX: No historical data available for LPDX around 2024-01-28.\n"
     ]
    },
    {
     "name": "stderr",
     "output_type": "stream",
     "text": [
      "$FMN: possibly delisted; no price data found  (1d 2023-12-29 -> 2024-01-28)\n"
     ]
    },
    {
     "name": "stdout",
     "output_type": "stream",
     "text": [
      "Error fetching data for FMN: No historical data available for FMN around 2024-01-28.\n"
     ]
    },
    {
     "name": "stderr",
     "output_type": "stream",
     "text": [
      "Failed to get ticker 'PGRX' reason: Expecting value: line 1 column 1 (char 0)\n",
      "$PGRX: possibly delisted; no timezone found\n"
     ]
    },
    {
     "name": "stdout",
     "output_type": "stream",
     "text": [
      "Error fetching data for PGRX: No historical data available for PGRX around 2024-01-28.\n"
     ]
    },
    {
     "name": "stderr",
     "output_type": "stream",
     "text": [
      "$AFOP: possibly delisted; no price data found  (1d 2023-12-29 -> 2024-01-28)\n"
     ]
    },
    {
     "name": "stdout",
     "output_type": "stream",
     "text": [
      "Error fetching data for AFOP: No historical data available for AFOP around 2024-01-28.\n"
     ]
    },
    {
     "name": "stderr",
     "output_type": "stream",
     "text": [
      "$HOT: possibly delisted; no price data found  (1d 2023-12-29 -> 2024-01-28)\n"
     ]
    },
    {
     "name": "stdout",
     "output_type": "stream",
     "text": [
      "Error fetching data for HOT: No historical data available for HOT around 2024-01-28.\n"
     ]
    },
    {
     "name": "stderr",
     "output_type": "stream",
     "text": [
      "$BZ: possibly delisted; no price data found  (1d 2023-12-29 -> 2024-01-28)\n"
     ]
    },
    {
     "name": "stdout",
     "output_type": "stream",
     "text": [
      "Error fetching data for BZ: No historical data available for BZ around 2024-01-28.\n"
     ]
    },
    {
     "name": "stderr",
     "output_type": "stream",
     "text": [
      "$KFS: possibly delisted; no price data found  (1d 2023-12-29 -> 2024-01-28)\n"
     ]
    },
    {
     "name": "stdout",
     "output_type": "stream",
     "text": [
      "Error fetching data for KFS: No historical data available for KFS around 2024-01-28.\n"
     ]
    },
    {
     "name": "stderr",
     "output_type": "stream",
     "text": [
      "$STRT: possibly delisted; no price data found  (1d 2023-12-29 -> 2024-01-28)\n"
     ]
    },
    {
     "name": "stdout",
     "output_type": "stream",
     "text": [
      "Error fetching data for STRT: No historical data available for STRT around 2024-01-28.\n"
     ]
    },
    {
     "name": "stderr",
     "output_type": "stream",
     "text": [
      "Failed to get ticker 'NYMTP' reason: Expecting value: line 1 column 1 (char 0)\n",
      "$NYMTP: possibly delisted; no timezone found\n"
     ]
    },
    {
     "name": "stdout",
     "output_type": "stream",
     "text": [
      "Error fetching data for NYMTP: No historical data available for NYMTP around 2024-01-28.\n"
     ]
    },
    {
     "name": "stderr",
     "output_type": "stream",
     "text": [
      "$ARII: possibly delisted; no price data found  (1d 2023-12-29 -> 2024-01-28)\n"
     ]
    },
    {
     "name": "stdout",
     "output_type": "stream",
     "text": [
      "Error fetching data for ARII: No historical data available for ARII around 2024-01-28.\n"
     ]
    },
    {
     "name": "stderr",
     "output_type": "stream",
     "text": [
      "$HMC: possibly delisted; no price data found  (1d 2023-12-29 -> 2024-01-28)\n"
     ]
    },
    {
     "name": "stdout",
     "output_type": "stream",
     "text": [
      "Error fetching data for HMC: No historical data available for HMC around 2024-01-28.\n"
     ]
    },
    {
     "name": "stderr",
     "output_type": "stream",
     "text": [
      "$RDI: possibly delisted; no price data found  (1d 2023-12-29 -> 2024-01-28)\n"
     ]
    },
    {
     "name": "stdout",
     "output_type": "stream",
     "text": [
      "Error fetching data for RDI: No historical data available for RDI around 2024-01-28.\n"
     ]
    },
    {
     "name": "stderr",
     "output_type": "stream",
     "text": [
      "$NOV: possibly delisted; no price data found  (1d 2023-12-29 -> 2024-01-28)\n"
     ]
    },
    {
     "name": "stdout",
     "output_type": "stream",
     "text": [
      "Error fetching data for NOV: No historical data available for NOV around 2024-01-28.\n"
     ]
    },
    {
     "name": "stderr",
     "output_type": "stream",
     "text": [
      "$KTF: possibly delisted; no price data found  (1d 2023-12-29 -> 2024-01-28)\n"
     ]
    },
    {
     "name": "stdout",
     "output_type": "stream",
     "text": [
      "Error fetching data for KTF: No historical data available for KTF around 2024-01-28.\n"
     ]
    },
    {
     "name": "stderr",
     "output_type": "stream",
     "text": [
      "$ATLO: possibly delisted; no price data found  (1d 2023-12-29 -> 2024-01-28)\n"
     ]
    },
    {
     "name": "stdout",
     "output_type": "stream",
     "text": [
      "Error fetching data for ATLO: No historical data available for ATLO around 2024-01-28.\n"
     ]
    },
    {
     "name": "stderr",
     "output_type": "stream",
     "text": [
      "Failed to get ticker 'PME' reason: Expecting value: line 1 column 1 (char 0)\n",
      "$PME: possibly delisted; no timezone found\n"
     ]
    },
    {
     "name": "stdout",
     "output_type": "stream",
     "text": [
      "Error fetching data for PME: No historical data available for PME around 2024-01-28.\n"
     ]
    },
    {
     "name": "stderr",
     "output_type": "stream",
     "text": [
      "$CMGE: possibly delisted; no price data found  (1d 2023-12-29 -> 2024-01-28)\n"
     ]
    },
    {
     "name": "stdout",
     "output_type": "stream",
     "text": [
      "Error fetching data for CMGE: No historical data available for CMGE around 2024-01-28.\n"
     ]
    },
    {
     "name": "stderr",
     "output_type": "stream",
     "text": [
      "$RNA: possibly delisted; no price data found  (1d 2023-12-29 -> 2024-01-28)\n"
     ]
    },
    {
     "name": "stdout",
     "output_type": "stream",
     "text": [
      "Error fetching data for RNA: No historical data available for RNA around 2024-01-28.\n"
     ]
    },
    {
     "name": "stderr",
     "output_type": "stream",
     "text": [
      "$PTEN: possibly delisted; no price data found  (1d 2023-12-29 -> 2024-01-28)\n"
     ]
    },
    {
     "name": "stdout",
     "output_type": "stream",
     "text": [
      "Error fetching data for PTEN: No historical data available for PTEN around 2024-01-28.\n"
     ]
    },
    {
     "name": "stderr",
     "output_type": "stream",
     "text": [
      "$GGT: possibly delisted; no price data found  (1d 2023-12-29 -> 2024-01-28)\n"
     ]
    },
    {
     "name": "stdout",
     "output_type": "stream",
     "text": [
      "Error fetching data for GGT: No historical data available for GGT around 2024-01-28.\n"
     ]
    },
    {
     "name": "stderr",
     "output_type": "stream",
     "text": [
      "$ARG: possibly delisted; no price data found  (1d 2023-12-29 -> 2024-01-28)\n"
     ]
    },
    {
     "name": "stdout",
     "output_type": "stream",
     "text": [
      "Error fetching data for ARG: No historical data available for ARG around 2024-01-28.\n"
     ]
    },
    {
     "name": "stderr",
     "output_type": "stream",
     "text": [
      "Failed to get ticker 'MGLN' reason: Expecting value: line 1 column 1 (char 0)\n",
      "$MGLN: possibly delisted; no timezone found\n"
     ]
    },
    {
     "name": "stdout",
     "output_type": "stream",
     "text": [
      "Error fetching data for MGLN: No historical data available for MGLN around 2024-01-28.\n"
     ]
    },
    {
     "name": "stderr",
     "output_type": "stream",
     "text": [
      "Failed to get ticker 'RBS-H' reason: Expecting value: line 1 column 1 (char 0)\n",
      "$RBS-H: possibly delisted; no timezone found\n"
     ]
    },
    {
     "name": "stdout",
     "output_type": "stream",
     "text": [
      "Error fetching data for RBS-H: No historical data available for RBS-H around 2024-01-28.\n"
     ]
    },
    {
     "name": "stderr",
     "output_type": "stream",
     "text": [
      "$HSIC: possibly delisted; no price data found  (1d 2023-12-29 -> 2024-01-28)\n"
     ]
    },
    {
     "name": "stdout",
     "output_type": "stream",
     "text": [
      "Error fetching data for HSIC: No historical data available for HSIC around 2024-01-28.\n"
     ]
    },
    {
     "name": "stderr",
     "output_type": "stream",
     "text": [
      "$INFY: possibly delisted; no price data found  (1d 2023-12-29 -> 2024-01-28)\n"
     ]
    },
    {
     "name": "stdout",
     "output_type": "stream",
     "text": [
      "Error fetching data for INFY: No historical data available for INFY around 2024-01-28.\n"
     ]
    },
    {
     "name": "stderr",
     "output_type": "stream",
     "text": [
      "Failed to get ticker 'TAX' reason: Expecting value: line 1 column 1 (char 0)\n",
      "$TAX: possibly delisted; no timezone found\n"
     ]
    },
    {
     "name": "stdout",
     "output_type": "stream",
     "text": [
      "Error fetching data for TAX: No historical data available for TAX around 2024-01-28.\n"
     ]
    },
    {
     "name": "stderr",
     "output_type": "stream",
     "text": [
      "$OSIS: possibly delisted; no price data found  (1d 2023-12-29 -> 2024-01-28)\n"
     ]
    },
    {
     "name": "stdout",
     "output_type": "stream",
     "text": [
      "Error fetching data for OSIS: No historical data available for OSIS around 2024-01-28.\n"
     ]
    },
    {
     "name": "stderr",
     "output_type": "stream",
     "text": [
      "$HBC: possibly delisted; no price data found  (1d 2023-12-29 -> 2024-01-28)\n"
     ]
    },
    {
     "name": "stdout",
     "output_type": "stream",
     "text": [
      "Error fetching data for HBC: No historical data available for HBC around 2024-01-28.\n"
     ]
    },
    {
     "name": "stderr",
     "output_type": "stream",
     "text": [
      "Failed to get ticker 'CLR' reason: Expecting value: line 1 column 1 (char 0)\n",
      "$CLR: possibly delisted; no timezone found\n"
     ]
    },
    {
     "name": "stdout",
     "output_type": "stream",
     "text": [
      "Error fetching data for CLR: No historical data available for CLR around 2024-01-28.\n"
     ]
    },
    {
     "name": "stderr",
     "output_type": "stream",
     "text": [
      "$CACC: possibly delisted; no price data found  (1d 2023-12-29 -> 2024-01-28)\n"
     ]
    },
    {
     "name": "stdout",
     "output_type": "stream",
     "text": [
      "Error fetching data for CACC: No historical data available for CACC around 2024-01-28.\n"
     ]
    },
    {
     "name": "stderr",
     "output_type": "stream",
     "text": [
      "$NMM: possibly delisted; no price data found  (1d 2023-12-29 -> 2024-01-28)\n"
     ]
    },
    {
     "name": "stdout",
     "output_type": "stream",
     "text": [
      "Error fetching data for NMM: No historical data available for NMM around 2024-01-28.\n"
     ]
    },
    {
     "name": "stderr",
     "output_type": "stream",
     "text": [
      "$SPIL: possibly delisted; no price data found  (1d 2023-12-29 -> 2024-01-28)\n"
     ]
    },
    {
     "name": "stdout",
     "output_type": "stream",
     "text": [
      "Error fetching data for SPIL: No historical data available for SPIL around 2024-01-28.\n"
     ]
    },
    {
     "name": "stderr",
     "output_type": "stream",
     "text": [
      "$VC: possibly delisted; no price data found  (1d 2023-12-29 -> 2024-01-28)\n"
     ]
    },
    {
     "name": "stdout",
     "output_type": "stream",
     "text": [
      "Error fetching data for VC: No historical data available for VC around 2024-01-28.\n"
     ]
    },
    {
     "name": "stderr",
     "output_type": "stream",
     "text": [
      "$EML: possibly delisted; no price data found  (1d 2023-12-29 -> 2024-01-28)\n"
     ]
    },
    {
     "name": "stdout",
     "output_type": "stream",
     "text": [
      "Error fetching data for EML: No historical data available for EML around 2024-01-28.\n"
     ]
    },
    {
     "name": "stderr",
     "output_type": "stream",
     "text": [
      "$IOSP: possibly delisted; no price data found  (1d 2023-12-29 -> 2024-01-28)\n"
     ]
    },
    {
     "name": "stdout",
     "output_type": "stream",
     "text": [
      "Error fetching data for IOSP: No historical data available for IOSP around 2024-01-28.\n"
     ]
    },
    {
     "name": "stderr",
     "output_type": "stream",
     "text": [
      "Failed to get ticker 'EAC' reason: Expecting value: line 1 column 1 (char 0)\n",
      "$EAC: possibly delisted; no timezone found\n"
     ]
    },
    {
     "name": "stdout",
     "output_type": "stream",
     "text": [
      "Error fetching data for EAC: No historical data available for EAC around 2024-01-28.\n"
     ]
    },
    {
     "name": "stderr",
     "output_type": "stream",
     "text": [
      "$POM: possibly delisted; no price data found  (1d 2023-12-29 -> 2024-01-28)\n"
     ]
    },
    {
     "name": "stdout",
     "output_type": "stream",
     "text": [
      "Error fetching data for POM: No historical data available for POM around 2024-01-28.\n"
     ]
    },
    {
     "name": "stderr",
     "output_type": "stream",
     "text": [
      "Failed to get ticker 'ACST' reason: Expecting value: line 1 column 1 (char 0)\n",
      "$ACST: possibly delisted; no timezone found\n"
     ]
    },
    {
     "name": "stdout",
     "output_type": "stream",
     "text": [
      "Error fetching data for ACST: No historical data available for ACST around 2024-01-28.\n"
     ]
    },
    {
     "name": "stderr",
     "output_type": "stream",
     "text": [
      "$GEB: possibly delisted; no price data found  (1d 2023-12-29 -> 2024-01-28)\n"
     ]
    },
    {
     "name": "stdout",
     "output_type": "stream",
     "text": [
      "Error fetching data for GEB: No historical data available for GEB around 2024-01-28.\n"
     ]
    },
    {
     "name": "stderr",
     "output_type": "stream",
     "text": [
      "$ZIPR: possibly delisted; no price data found  (1d 2023-12-29 -> 2024-01-28)\n"
     ]
    },
    {
     "name": "stdout",
     "output_type": "stream",
     "text": [
      "Error fetching data for ZIPR: No historical data available for ZIPR around 2024-01-28.\n"
     ]
    },
    {
     "name": "stderr",
     "output_type": "stream",
     "text": [
      "$NMRX: possibly delisted; no price data found  (1d 2023-12-29 -> 2024-01-28)\n"
     ]
    },
    {
     "name": "stdout",
     "output_type": "stream",
     "text": [
      "Error fetching data for NMRX: No historical data available for NMRX around 2024-01-28.\n"
     ]
    },
    {
     "name": "stderr",
     "output_type": "stream",
     "text": [
      "$DHR: possibly delisted; no price data found  (1d 2023-12-29 -> 2024-01-28)\n"
     ]
    },
    {
     "name": "stdout",
     "output_type": "stream",
     "text": [
      "Error fetching data for DHR: No historical data available for DHR around 2024-01-28.\n"
     ]
    },
    {
     "name": "stderr",
     "output_type": "stream",
     "text": [
      "$BLOX: possibly delisted; no price data found  (1d 2023-12-29 -> 2024-01-28)\n"
     ]
    },
    {
     "name": "stdout",
     "output_type": "stream",
     "text": [
      "Error fetching data for BLOX: No historical data available for BLOX around 2024-01-28.\n"
     ]
    },
    {
     "name": "stderr",
     "output_type": "stream",
     "text": [
      "Failed to get ticker 'CS' reason: Expecting value: line 1 column 1 (char 0)\n",
      "$CS: possibly delisted; no timezone found\n"
     ]
    },
    {
     "name": "stdout",
     "output_type": "stream",
     "text": [
      "Error fetching data for CS: No historical data available for CS around 2024-01-28.\n"
     ]
    },
    {
     "name": "stderr",
     "output_type": "stream",
     "text": [
      "$XFP: possibly delisted; no price data found  (1d 2023-12-29 -> 2024-01-28)\n"
     ]
    },
    {
     "name": "stdout",
     "output_type": "stream",
     "text": [
      "Error fetching data for XFP: No historical data available for XFP around 2024-01-28.\n"
     ]
    },
    {
     "name": "stderr",
     "output_type": "stream",
     "text": [
      "Failed to get ticker 'CDR-B' reason: Expecting value: line 1 column 1 (char 0)\n",
      "$CDR-B: possibly delisted; no timezone found\n"
     ]
    },
    {
     "name": "stdout",
     "output_type": "stream",
     "text": [
      "Error fetching data for CDR-B: No historical data available for CDR-B around 2024-01-28.\n"
     ]
    },
    {
     "name": "stderr",
     "output_type": "stream",
     "text": [
      "$TRGT: possibly delisted; no price data found  (1d 2023-12-29 -> 2024-01-28)\n"
     ]
    },
    {
     "name": "stdout",
     "output_type": "stream",
     "text": [
      "Error fetching data for TRGT: No historical data available for TRGT around 2024-01-28.\n"
     ]
    },
    {
     "name": "stderr",
     "output_type": "stream",
     "text": [
      "Failed to get ticker 'TST' reason: Expecting value: line 1 column 1 (char 0)\n",
      "$TST: possibly delisted; no timezone found\n"
     ]
    },
    {
     "name": "stdout",
     "output_type": "stream",
     "text": [
      "Error fetching data for TST: No historical data available for TST around 2024-01-28.\n"
     ]
    },
    {
     "name": "stderr",
     "output_type": "stream",
     "text": [
      "Failed to get ticker 'CWH-E' reason: Expecting value: line 1 column 1 (char 0)\n",
      "$CWH-E: possibly delisted; no timezone found\n"
     ]
    },
    {
     "name": "stdout",
     "output_type": "stream",
     "text": [
      "Error fetching data for CWH-E: No historical data available for CWH-E around 2024-01-28.\n"
     ]
    },
    {
     "name": "stderr",
     "output_type": "stream",
     "text": [
      "$ANIK: possibly delisted; no price data found  (1d 2023-12-29 -> 2024-01-28)\n"
     ]
    },
    {
     "name": "stdout",
     "output_type": "stream",
     "text": [
      "Error fetching data for ANIK: No historical data available for ANIK around 2024-01-28.\n"
     ]
    },
    {
     "name": "stderr",
     "output_type": "stream",
     "text": [
      "$MWA: possibly delisted; no price data found  (1d 2023-12-29 -> 2024-01-28)\n"
     ]
    },
    {
     "name": "stdout",
     "output_type": "stream",
     "text": [
      "Error fetching data for MWA: No historical data available for MWA around 2024-01-28.\n"
     ]
    },
    {
     "name": "stderr",
     "output_type": "stream",
     "text": [
      "$EBTC: possibly delisted; no price data found  (1d 2023-12-29 -> 2024-01-28)\n"
     ]
    },
    {
     "name": "stdout",
     "output_type": "stream",
     "text": [
      "Error fetching data for EBTC: No historical data available for EBTC around 2024-01-28.\n"
     ]
    },
    {
     "name": "stderr",
     "output_type": "stream",
     "text": [
      "Failed to get ticker 'UTX-A' reason: Expecting value: line 1 column 1 (char 0)\n",
      "$UTX-A: possibly delisted; no timezone found\n"
     ]
    },
    {
     "name": "stdout",
     "output_type": "stream",
     "text": [
      "Error fetching data for UTX-A: No historical data available for UTX-A around 2024-01-28.\n"
     ]
    },
    {
     "name": "stderr",
     "output_type": "stream",
     "text": [
      "$CXPO: possibly delisted; no price data found  (1d 2023-12-29 -> 2024-01-28)\n"
     ]
    },
    {
     "name": "stdout",
     "output_type": "stream",
     "text": [
      "Error fetching data for CXPO: No historical data available for CXPO around 2024-01-28.\n"
     ]
    },
    {
     "name": "stderr",
     "output_type": "stream",
     "text": [
      "$OXY: possibly delisted; no price data found  (1d 2023-12-29 -> 2024-01-28)\n"
     ]
    },
    {
     "name": "stdout",
     "output_type": "stream",
     "text": [
      "Error fetching data for OXY: No historical data available for OXY around 2024-01-28.\n"
     ]
    },
    {
     "name": "stderr",
     "output_type": "stream",
     "text": [
      "Failed to get ticker 'IRC-A' reason: Expecting value: line 1 column 1 (char 0)\n",
      "$IRC-A: possibly delisted; no timezone found\n"
     ]
    },
    {
     "name": "stdout",
     "output_type": "stream",
     "text": [
      "Error fetching data for IRC-A: No historical data available for IRC-A around 2024-01-28.\n"
     ]
    },
    {
     "name": "stderr",
     "output_type": "stream",
     "text": [
      "$LEDS: possibly delisted; no price data found  (1d 2023-12-29 -> 2024-01-28)\n"
     ]
    },
    {
     "name": "stdout",
     "output_type": "stream",
     "text": [
      "Error fetching data for LEDS: No historical data available for LEDS around 2024-01-28.\n"
     ]
    },
    {
     "name": "stderr",
     "output_type": "stream",
     "text": [
      "Failed to get ticker 'EGRW' reason: Expecting value: line 1 column 1 (char 0)\n",
      "$EGRW: possibly delisted; no timezone found\n"
     ]
    },
    {
     "name": "stdout",
     "output_type": "stream",
     "text": [
      "Error fetching data for EGRW: No historical data available for EGRW around 2024-01-28.\n"
     ]
    },
    {
     "name": "stderr",
     "output_type": "stream",
     "text": [
      "$TIBX: possibly delisted; no price data found  (1d 2023-12-29 -> 2024-01-28)\n"
     ]
    },
    {
     "name": "stdout",
     "output_type": "stream",
     "text": [
      "Error fetching data for TIBX: No historical data available for TIBX around 2024-01-28.\n"
     ]
    },
    {
     "name": "stderr",
     "output_type": "stream",
     "text": [
      "$PNX: possibly delisted; no price data found  (1d 2023-12-29 -> 2024-01-28)\n"
     ]
    },
    {
     "name": "stdout",
     "output_type": "stream",
     "text": [
      "Error fetching data for PNX: No historical data available for PNX around 2024-01-28.\n"
     ]
    },
    {
     "name": "stderr",
     "output_type": "stream",
     "text": [
      "$LARK: possibly delisted; no price data found  (1d 2023-12-29 -> 2024-01-28)\n"
     ]
    },
    {
     "name": "stdout",
     "output_type": "stream",
     "text": [
      "Error fetching data for LARK: No historical data available for LARK around 2024-01-28.\n"
     ]
    },
    {
     "name": "stderr",
     "output_type": "stream",
     "text": [
      "$ITMN: possibly delisted; no price data found  (1d 2023-12-29 -> 2024-01-28)\n"
     ]
    },
    {
     "name": "stdout",
     "output_type": "stream",
     "text": [
      "Error fetching data for ITMN: No historical data available for ITMN around 2024-01-28.\n"
     ]
    },
    {
     "name": "stderr",
     "output_type": "stream",
     "text": [
      "Failed to get ticker 'JCOM' reason: Expecting value: line 1 column 1 (char 0)\n",
      "$JCOM: possibly delisted; no timezone found\n"
     ]
    },
    {
     "name": "stdout",
     "output_type": "stream",
     "text": [
      "Error fetching data for JCOM: No historical data available for JCOM around 2024-01-28.\n"
     ]
    },
    {
     "name": "stderr",
     "output_type": "stream",
     "text": [
      "Failed to get ticker 'NAN-C' reason: Expecting value: line 1 column 1 (char 0)\n",
      "$NAN-C: possibly delisted; no timezone found\n"
     ]
    },
    {
     "name": "stdout",
     "output_type": "stream",
     "text": [
      "Error fetching data for NAN-C: No historical data available for NAN-C around 2024-01-28.\n"
     ]
    },
    {
     "name": "stderr",
     "output_type": "stream",
     "text": [
      "$KF: possibly delisted; no price data found  (1d 2023-12-29 -> 2024-01-28)\n"
     ]
    },
    {
     "name": "stdout",
     "output_type": "stream",
     "text": [
      "Error fetching data for KF: No historical data available for KF around 2024-01-28.\n"
     ]
    },
    {
     "name": "stderr",
     "output_type": "stream",
     "text": [
      "$CDW: possibly delisted; no price data found  (1d 2023-12-29 -> 2024-01-28)\n"
     ]
    },
    {
     "name": "stdout",
     "output_type": "stream",
     "text": [
      "Error fetching data for CDW: No historical data available for CDW around 2024-01-28.\n"
     ]
    },
    {
     "name": "stderr",
     "output_type": "stream",
     "text": [
      "$GRVY: possibly delisted; no price data found  (1d 2023-12-29 -> 2024-01-28)\n"
     ]
    },
    {
     "name": "stdout",
     "output_type": "stream",
     "text": [
      "Error fetching data for GRVY: No historical data available for GRVY around 2024-01-28.\n"
     ]
    },
    {
     "name": "stderr",
     "output_type": "stream",
     "text": [
      "$GNE: possibly delisted; no price data found  (1d 2023-12-29 -> 2024-01-28)\n"
     ]
    },
    {
     "name": "stdout",
     "output_type": "stream",
     "text": [
      "Error fetching data for GNE: No historical data available for GNE around 2024-01-28.\n"
     ]
    },
    {
     "name": "stderr",
     "output_type": "stream",
     "text": [
      "$HRL: possibly delisted; no price data found  (1d 2023-12-29 -> 2024-01-28)\n"
     ]
    },
    {
     "name": "stdout",
     "output_type": "stream",
     "text": [
      "Error fetching data for HRL: No historical data available for HRL around 2024-01-28.\n"
     ]
    },
    {
     "name": "stderr",
     "output_type": "stream",
     "text": [
      "Failed to get ticker 'RTIX' reason: Expecting value: line 1 column 1 (char 0)\n",
      "$RTIX: possibly delisted; no timezone found\n"
     ]
    },
    {
     "name": "stdout",
     "output_type": "stream",
     "text": [
      "Error fetching data for RTIX: No historical data available for RTIX around 2024-01-28.\n"
     ]
    },
    {
     "name": "stderr",
     "output_type": "stream",
     "text": [
      "$DNB: possibly delisted; no price data found  (1d 2023-12-29 -> 2024-01-28)\n"
     ]
    },
    {
     "name": "stdout",
     "output_type": "stream",
     "text": [
      "Error fetching data for DNB: No historical data available for DNB around 2024-01-28.\n"
     ]
    },
    {
     "name": "stderr",
     "output_type": "stream",
     "text": [
      "$AIRT: possibly delisted; no price data found  (1d 2023-12-29 -> 2024-01-28)\n"
     ]
    },
    {
     "name": "stdout",
     "output_type": "stream",
     "text": [
      "Error fetching data for AIRT: No historical data available for AIRT around 2024-01-28.\n"
     ]
    },
    {
     "name": "stderr",
     "output_type": "stream",
     "text": [
      "$JBLU: possibly delisted; no price data found  (1d 2023-12-29 -> 2024-01-28)\n"
     ]
    },
    {
     "name": "stdout",
     "output_type": "stream",
     "text": [
      "Error fetching data for JBLU: No historical data available for JBLU around 2024-01-28.\n"
     ]
    },
    {
     "name": "stderr",
     "output_type": "stream",
     "text": [
      "$KR: possibly delisted; no price data found  (1d 2023-12-29 -> 2024-01-28)\n"
     ]
    },
    {
     "name": "stdout",
     "output_type": "stream",
     "text": [
      "Error fetching data for KR: No historical data available for KR around 2024-01-28.\n"
     ]
    },
    {
     "name": "stderr",
     "output_type": "stream",
     "text": [
      "$ARTNA: possibly delisted; no price data found  (1d 2023-12-29 -> 2024-01-28)\n"
     ]
    },
    {
     "name": "stdout",
     "output_type": "stream",
     "text": [
      "Error fetching data for ARTNA: No historical data available for ARTNA around 2024-01-28.\n"
     ]
    },
    {
     "name": "stderr",
     "output_type": "stream",
     "text": [
      "$TKR: possibly delisted; no price data found  (1d 2023-12-29 -> 2024-01-28)\n"
     ]
    },
    {
     "name": "stdout",
     "output_type": "stream",
     "text": [
      "Error fetching data for TKR: No historical data available for TKR around 2024-01-28.\n"
     ]
    },
    {
     "name": "stderr",
     "output_type": "stream",
     "text": [
      "$XTLB: possibly delisted; no price data found  (1d 2023-12-29 -> 2024-01-28)\n"
     ]
    },
    {
     "name": "stdout",
     "output_type": "stream",
     "text": [
      "Error fetching data for XTLB: No historical data available for XTLB around 2024-01-28.\n"
     ]
    },
    {
     "name": "stderr",
     "output_type": "stream",
     "text": [
      "Failed to get ticker 'GAB-D' reason: Expecting value: line 1 column 1 (char 0)\n",
      "$GAB-D: possibly delisted; no timezone found\n"
     ]
    },
    {
     "name": "stdout",
     "output_type": "stream",
     "text": [
      "Error fetching data for GAB-D: No historical data available for GAB-D around 2024-01-28.\n"
     ]
    },
    {
     "name": "stderr",
     "output_type": "stream",
     "text": [
      "$UNP: possibly delisted; no price data found  (1d 2023-12-29 -> 2024-01-28)\n"
     ]
    },
    {
     "name": "stdout",
     "output_type": "stream",
     "text": [
      "Error fetching data for UNP: No historical data available for UNP around 2024-01-28.\n"
     ]
    },
    {
     "name": "stderr",
     "output_type": "stream",
     "text": [
      "$HBM: possibly delisted; no price data found  (1d 2023-12-29 -> 2024-01-28)\n"
     ]
    },
    {
     "name": "stdout",
     "output_type": "stream",
     "text": [
      "Error fetching data for HBM: No historical data available for HBM around 2024-01-28.\n"
     ]
    },
    {
     "name": "stderr",
     "output_type": "stream",
     "text": [
      "$TCK: possibly delisted; no price data found  (1d 2023-12-29 -> 2024-01-28)\n"
     ]
    },
    {
     "name": "stdout",
     "output_type": "stream",
     "text": [
      "Error fetching data for TCK: No historical data available for TCK around 2024-01-28.\n"
     ]
    },
    {
     "name": "stderr",
     "output_type": "stream",
     "text": [
      "$SJW: possibly delisted; no price data found  (1d 2023-12-29 -> 2024-01-28)\n"
     ]
    },
    {
     "name": "stdout",
     "output_type": "stream",
     "text": [
      "Error fetching data for SJW: No historical data available for SJW around 2024-01-28.\n"
     ]
    },
    {
     "name": "stderr",
     "output_type": "stream",
     "text": [
      "$TNGO: possibly delisted; no price data found  (1d 2023-12-29 -> 2024-01-28)\n"
     ]
    },
    {
     "name": "stdout",
     "output_type": "stream",
     "text": [
      "Error fetching data for TNGO: No historical data available for TNGO around 2024-01-28.\n"
     ]
    },
    {
     "name": "stderr",
     "output_type": "stream",
     "text": [
      "Failed to get ticker 'PSB-R' reason: Expecting value: line 1 column 1 (char 0)\n",
      "$PSB-R: possibly delisted; no timezone found\n"
     ]
    },
    {
     "name": "stdout",
     "output_type": "stream",
     "text": [
      "Error fetching data for PSB-R: No historical data available for PSB-R around 2024-01-28.\n"
     ]
    },
    {
     "name": "stderr",
     "output_type": "stream",
     "text": [
      "$CVC: possibly delisted; no price data found  (1d 2023-12-29 -> 2024-01-28)\n"
     ]
    },
    {
     "name": "stdout",
     "output_type": "stream",
     "text": [
      "Error fetching data for CVC: No historical data available for CVC around 2024-01-28.\n"
     ]
    },
    {
     "name": "stderr",
     "output_type": "stream",
     "text": [
      "$TOWN: possibly delisted; no price data found  (1d 2023-12-29 -> 2024-01-28)\n"
     ]
    },
    {
     "name": "stdout",
     "output_type": "stream",
     "text": [
      "Error fetching data for TOWN: No historical data available for TOWN around 2024-01-28.\n"
     ]
    },
    {
     "name": "stderr",
     "output_type": "stream",
     "text": [
      "Failed to get ticker 'AKO.A' reason: Expecting value: line 1 column 1 (char 0)\n",
      "$AKO.A: possibly delisted; no timezone found\n"
     ]
    },
    {
     "name": "stdout",
     "output_type": "stream",
     "text": [
      "Error fetching data for AKO.A: No historical data available for AKO.A around 2024-01-28.\n"
     ]
    },
    {
     "name": "stderr",
     "output_type": "stream",
     "text": [
      "$ATML: possibly delisted; no price data found  (1d 2023-12-29 -> 2024-01-28)\n"
     ]
    },
    {
     "name": "stdout",
     "output_type": "stream",
     "text": [
      "Error fetching data for ATML: No historical data available for ATML around 2024-01-28.\n"
     ]
    },
    {
     "name": "stderr",
     "output_type": "stream",
     "text": [
      "$OXM: possibly delisted; no price data found  (1d 2023-12-29 -> 2024-01-28)\n"
     ]
    },
    {
     "name": "stdout",
     "output_type": "stream",
     "text": [
      "Error fetching data for OXM: No historical data available for OXM around 2024-01-28.\n"
     ]
    },
    {
     "name": "stderr",
     "output_type": "stream",
     "text": [
      "$TDC: possibly delisted; no price data found  (1d 2023-12-29 -> 2024-01-28)\n"
     ]
    },
    {
     "name": "stdout",
     "output_type": "stream",
     "text": [
      "Error fetching data for TDC: No historical data available for TDC around 2024-01-28.\n"
     ]
    },
    {
     "name": "stderr",
     "output_type": "stream",
     "text": [
      "Failed to get ticker 'MVCB' reason: Expecting value: line 1 column 1 (char 0)\n",
      "$MVCB: possibly delisted; no timezone found\n"
     ]
    },
    {
     "name": "stdout",
     "output_type": "stream",
     "text": [
      "Error fetching data for MVCB: No historical data available for MVCB around 2024-01-28.\n"
     ]
    },
    {
     "name": "stderr",
     "output_type": "stream",
     "text": [
      "Failed to get ticker 'ABR-PA' reason: Expecting value: line 1 column 1 (char 0)\n",
      "$ABR-PA: possibly delisted; no timezone found\n"
     ]
    },
    {
     "name": "stdout",
     "output_type": "stream",
     "text": [
      "Error fetching data for ABR-PA: No historical data available for ABR-PA around 2024-01-28.\n"
     ]
    },
    {
     "name": "stderr",
     "output_type": "stream",
     "text": [
      "$NNI: possibly delisted; no price data found  (1d 2023-12-29 -> 2024-01-28)\n"
     ]
    },
    {
     "name": "stdout",
     "output_type": "stream",
     "text": [
      "Error fetching data for NNI: No historical data available for NNI around 2024-01-28.\n"
     ]
    },
    {
     "name": "stderr",
     "output_type": "stream",
     "text": [
      "$CBST: possibly delisted; no price data found  (1d 2023-12-29 -> 2024-01-28)\n"
     ]
    },
    {
     "name": "stdout",
     "output_type": "stream",
     "text": [
      "Error fetching data for CBST: No historical data available for CBST around 2024-01-28.\n"
     ]
    },
    {
     "name": "stderr",
     "output_type": "stream",
     "text": [
      "$COBR: possibly delisted; no price data found  (1d 2023-12-29 -> 2024-01-28)\n"
     ]
    },
    {
     "name": "stdout",
     "output_type": "stream",
     "text": [
      "Error fetching data for COBR: No historical data available for COBR around 2024-01-28.\n"
     ]
    },
    {
     "name": "stderr",
     "output_type": "stream",
     "text": [
      "$VTWV: possibly delisted; no price data found  (1d 2023-12-29 -> 2024-01-28)\n"
     ]
    },
    {
     "name": "stdout",
     "output_type": "stream",
     "text": [
      "Error fetching data for VTWV: No historical data available for VTWV around 2024-01-28.\n"
     ]
    },
    {
     "name": "stderr",
     "output_type": "stream",
     "text": [
      "$TXTR: possibly delisted; no price data found  (1d 2023-12-29 -> 2024-01-28)\n"
     ]
    },
    {
     "name": "stdout",
     "output_type": "stream",
     "text": [
      "Error fetching data for TXTR: No historical data available for TXTR around 2024-01-28.\n"
     ]
    },
    {
     "name": "stderr",
     "output_type": "stream",
     "text": [
      "$EEP: possibly delisted; no price data found  (1d 2023-12-29 -> 2024-01-28)\n"
     ]
    },
    {
     "name": "stdout",
     "output_type": "stream",
     "text": [
      "Error fetching data for EEP: No historical data available for EEP around 2024-01-28.\n"
     ]
    },
    {
     "name": "stderr",
     "output_type": "stream",
     "text": [
      "Failed to get ticker 'AROW' reason: Expecting value: line 1 column 1 (char 0)\n",
      "$AROW: possibly delisted; no timezone found\n"
     ]
    },
    {
     "name": "stdout",
     "output_type": "stream",
     "text": [
      "Error fetching data for AROW: No historical data available for AROW around 2024-01-28.\n"
     ]
    },
    {
     "name": "stderr",
     "output_type": "stream",
     "text": [
      "$HBCP: possibly delisted; no price data found  (1d 2023-12-29 -> 2024-01-28)\n"
     ]
    },
    {
     "name": "stdout",
     "output_type": "stream",
     "text": [
      "Error fetching data for HBCP: No historical data available for HBCP around 2024-01-28.\n"
     ]
    },
    {
     "name": "stderr",
     "output_type": "stream",
     "text": [
      "$SPNC: possibly delisted; no price data found  (1d 2023-12-29 -> 2024-01-28)\n"
     ]
    },
    {
     "name": "stdout",
     "output_type": "stream",
     "text": [
      "Error fetching data for SPNC: No historical data available for SPNC around 2024-01-28.\n"
     ]
    },
    {
     "name": "stderr",
     "output_type": "stream",
     "text": [
      "$MED: possibly delisted; no price data found  (1d 2023-12-29 -> 2024-01-28)\n"
     ]
    },
    {
     "name": "stdout",
     "output_type": "stream",
     "text": [
      "Error fetching data for MED: No historical data available for MED around 2024-01-28.\n"
     ]
    },
    {
     "name": "stderr",
     "output_type": "stream",
     "text": [
      "$E: possibly delisted; no price data found  (1d 2023-12-29 -> 2024-01-28)\n"
     ]
    },
    {
     "name": "stdout",
     "output_type": "stream",
     "text": [
      "Error fetching data for E: No historical data available for E around 2024-01-28.\n"
     ]
    },
    {
     "name": "stderr",
     "output_type": "stream",
     "text": [
      "Failed to get ticker 'TIVO' reason: Expecting value: line 1 column 1 (char 0)\n",
      "$TIVO: possibly delisted; no timezone found\n"
     ]
    },
    {
     "name": "stdout",
     "output_type": "stream",
     "text": [
      "Error fetching data for TIVO: No historical data available for TIVO around 2024-01-28.\n"
     ]
    },
    {
     "name": "stderr",
     "output_type": "stream",
     "text": [
      "$MTRN: possibly delisted; no price data found  (1d 2023-12-29 -> 2024-01-28)\n"
     ]
    },
    {
     "name": "stdout",
     "output_type": "stream",
     "text": [
      "Error fetching data for MTRN: No historical data available for MTRN around 2024-01-28.\n"
     ]
    },
    {
     "name": "stderr",
     "output_type": "stream",
     "text": [
      "$LPNT: possibly delisted; no price data found  (1d 2023-12-29 -> 2024-01-28)\n"
     ]
    },
    {
     "name": "stdout",
     "output_type": "stream",
     "text": [
      "Error fetching data for LPNT: No historical data available for LPNT around 2024-01-28.\n"
     ]
    },
    {
     "name": "stderr",
     "output_type": "stream",
     "text": [
      "Failed to get ticker 'AINV' reason: Expecting value: line 1 column 1 (char 0)\n",
      "$AINV: possibly delisted; no timezone found\n"
     ]
    },
    {
     "name": "stdout",
     "output_type": "stream",
     "text": [
      "Error fetching data for AINV: No historical data available for AINV around 2024-01-28.\n"
     ]
    },
    {
     "name": "stderr",
     "output_type": "stream",
     "text": [
      "$EDN: possibly delisted; no price data found  (1d 2023-12-29 -> 2024-01-28)\n"
     ]
    },
    {
     "name": "stdout",
     "output_type": "stream",
     "text": [
      "Error fetching data for EDN: No historical data available for EDN around 2024-01-28.\n"
     ]
    },
    {
     "name": "stderr",
     "output_type": "stream",
     "text": [
      "Failed to get ticker 'NMY-C' reason: Expecting value: line 1 column 1 (char 0)\n",
      "$NMY-C: possibly delisted; no timezone found\n"
     ]
    },
    {
     "name": "stdout",
     "output_type": "stream",
     "text": [
      "Error fetching data for NMY-C: No historical data available for NMY-C around 2024-01-28.\n"
     ]
    },
    {
     "name": "stderr",
     "output_type": "stream",
     "text": [
      "Failed to get ticker 'TESS' reason: Expecting value: line 1 column 1 (char 0)\n",
      "$TESS: possibly delisted; no timezone found\n"
     ]
    },
    {
     "name": "stdout",
     "output_type": "stream",
     "text": [
      "Error fetching data for TESS: No historical data available for TESS around 2024-01-28.\n"
     ]
    },
    {
     "name": "stderr",
     "output_type": "stream",
     "text": [
      "Failed to get ticker 'THRX' reason: Expecting value: line 1 column 1 (char 0)\n",
      "$THRX: possibly delisted; no timezone found\n"
     ]
    },
    {
     "name": "stdout",
     "output_type": "stream",
     "text": [
      "Error fetching data for THRX: No historical data available for THRX around 2024-01-28.\n"
     ]
    },
    {
     "name": "stderr",
     "output_type": "stream",
     "text": [
      "$IFT: possibly delisted; no price data found  (1d 2023-12-29 -> 2024-01-28)\n"
     ]
    },
    {
     "name": "stdout",
     "output_type": "stream",
     "text": [
      "Error fetching data for IFT: No historical data available for IFT around 2024-01-28.\n"
     ]
    },
    {
     "name": "stderr",
     "output_type": "stream",
     "text": [
      "$ANTH: possibly delisted; no price data found  (1d 2023-12-29 -> 2024-01-28)\n"
     ]
    },
    {
     "name": "stdout",
     "output_type": "stream",
     "text": [
      "Error fetching data for ANTH: No historical data available for ANTH around 2024-01-28.\n"
     ]
    },
    {
     "name": "stderr",
     "output_type": "stream",
     "text": [
      "$JACK: possibly delisted; no price data found  (1d 2023-12-29 -> 2024-01-28)\n"
     ]
    },
    {
     "name": "stdout",
     "output_type": "stream",
     "text": [
      "Error fetching data for JACK: No historical data available for JACK around 2024-01-28.\n"
     ]
    },
    {
     "name": "stderr",
     "output_type": "stream",
     "text": [
      "$DJCO: possibly delisted; no price data found  (1d 2023-12-29 -> 2024-01-28)\n"
     ]
    },
    {
     "name": "stdout",
     "output_type": "stream",
     "text": [
      "Error fetching data for DJCO: No historical data available for DJCO around 2024-01-28.\n"
     ]
    },
    {
     "name": "stderr",
     "output_type": "stream",
     "text": [
      "$SMFG: possibly delisted; no price data found  (1d 2023-12-29 -> 2024-01-28)\n"
     ]
    },
    {
     "name": "stdout",
     "output_type": "stream",
     "text": [
      "Error fetching data for SMFG: No historical data available for SMFG around 2024-01-28.\n"
     ]
    },
    {
     "name": "stderr",
     "output_type": "stream",
     "text": [
      "$NEWS: possibly delisted; no price data found  (1d 2023-12-29 -> 2024-01-28)\n"
     ]
    },
    {
     "name": "stdout",
     "output_type": "stream",
     "text": [
      "Error fetching data for NEWS: No historical data available for NEWS around 2024-01-28.\n"
     ]
    },
    {
     "name": "stderr",
     "output_type": "stream",
     "text": [
      "$AAV: possibly delisted; no price data found  (1d 2023-12-29 -> 2024-01-28)\n"
     ]
    },
    {
     "name": "stdout",
     "output_type": "stream",
     "text": [
      "Error fetching data for AAV: No historical data available for AAV around 2024-01-28.\n"
     ]
    },
    {
     "name": "stderr",
     "output_type": "stream",
     "text": [
      "$MRGE: possibly delisted; no price data found  (1d 2023-12-29 -> 2024-01-28)\n"
     ]
    },
    {
     "name": "stdout",
     "output_type": "stream",
     "text": [
      "Error fetching data for MRGE: No historical data available for MRGE around 2024-01-28.\n"
     ]
    },
    {
     "name": "stderr",
     "output_type": "stream",
     "text": [
      "$CNX: possibly delisted; no price data found  (1d 2023-12-29 -> 2024-01-28)\n"
     ]
    },
    {
     "name": "stdout",
     "output_type": "stream",
     "text": [
      "Error fetching data for CNX: No historical data available for CNX around 2024-01-28.\n"
     ]
    },
    {
     "name": "stderr",
     "output_type": "stream",
     "text": [
      "$ORN: possibly delisted; no price data found  (1d 2023-12-29 -> 2024-01-28)\n"
     ]
    },
    {
     "name": "stdout",
     "output_type": "stream",
     "text": [
      "Error fetching data for ORN: No historical data available for ORN around 2024-01-28.\n"
     ]
    },
    {
     "name": "stderr",
     "output_type": "stream",
     "text": [
      "$GASS: possibly delisted; no price data found  (1d 2023-12-29 -> 2024-01-28)\n"
     ]
    },
    {
     "name": "stdout",
     "output_type": "stream",
     "text": [
      "Error fetching data for GASS: No historical data available for GASS around 2024-01-28.\n"
     ]
    },
    {
     "name": "stderr",
     "output_type": "stream",
     "text": [
      "$AIV: possibly delisted; no price data found  (1d 2023-12-29 -> 2024-01-28)\n"
     ]
    },
    {
     "name": "stdout",
     "output_type": "stream",
     "text": [
      "Error fetching data for AIV: No historical data available for AIV around 2024-01-28.\n"
     ]
    },
    {
     "name": "stderr",
     "output_type": "stream",
     "text": [
      "Failed to get ticker 'MFV' reason: Expecting value: line 1 column 1 (char 0)\n",
      "$MFV: possibly delisted; no timezone found\n"
     ]
    },
    {
     "name": "stdout",
     "output_type": "stream",
     "text": [
      "Error fetching data for MFV: No historical data available for MFV around 2024-01-28.\n"
     ]
    },
    {
     "name": "stderr",
     "output_type": "stream",
     "text": [
      "$SRPT: possibly delisted; no price data found  (1d 2023-12-29 -> 2024-01-28)\n"
     ]
    },
    {
     "name": "stdout",
     "output_type": "stream",
     "text": [
      "Error fetching data for SRPT: No historical data available for SRPT around 2024-01-28.\n"
     ]
    },
    {
     "name": "stderr",
     "output_type": "stream",
     "text": [
      "$IN: possibly delisted; no price data found  (1d 2023-12-29 -> 2024-01-28)\n"
     ]
    },
    {
     "name": "stdout",
     "output_type": "stream",
     "text": [
      "Error fetching data for IN: No historical data available for IN around 2024-01-28.\n"
     ]
    },
    {
     "name": "stderr",
     "output_type": "stream",
     "text": [
      "$BEAT: possibly delisted; no price data found  (1d 2023-12-29 -> 2024-01-28)\n"
     ]
    },
    {
     "name": "stdout",
     "output_type": "stream",
     "text": [
      "Error fetching data for BEAT: No historical data available for BEAT around 2024-01-28.\n"
     ]
    },
    {
     "name": "stderr",
     "output_type": "stream",
     "text": [
      "$MKTO: possibly delisted; no price data found  (1d 2023-12-29 -> 2024-01-28)\n"
     ]
    },
    {
     "name": "stdout",
     "output_type": "stream",
     "text": [
      "Error fetching data for MKTO: No historical data available for MKTO around 2024-01-28.\n"
     ]
    },
    {
     "name": "stderr",
     "output_type": "stream",
     "text": [
      "$KEYN: possibly delisted; no price data found  (1d 2023-12-29 -> 2024-01-28)\n"
     ]
    },
    {
     "name": "stdout",
     "output_type": "stream",
     "text": [
      "Error fetching data for KEYN: No historical data available for KEYN around 2024-01-28.\n"
     ]
    },
    {
     "name": "stderr",
     "output_type": "stream",
     "text": [
      "$PLP: possibly delisted; no price data found  (1d 2023-12-29 -> 2024-01-28)\n"
     ]
    },
    {
     "name": "stdout",
     "output_type": "stream",
     "text": [
      "Error fetching data for PLP: No historical data available for PLP around 2024-01-28.\n"
     ]
    },
    {
     "name": "stderr",
     "output_type": "stream",
     "text": [
      "Failed to get ticker 'TAP.A' reason: Expecting value: line 1 column 1 (char 0)\n",
      "$TAP.A: possibly delisted; no timezone found\n"
     ]
    },
    {
     "name": "stdout",
     "output_type": "stream",
     "text": [
      "Error fetching data for TAP.A: No historical data available for TAP.A around 2024-01-28.\n"
     ]
    },
    {
     "name": "stderr",
     "output_type": "stream",
     "text": [
      "$AVNR: possibly delisted; no price data found  (1d 2023-12-29 -> 2024-01-28)\n"
     ]
    },
    {
     "name": "stdout",
     "output_type": "stream",
     "text": [
      "Error fetching data for AVNR: No historical data available for AVNR around 2024-01-28.\n"
     ]
    },
    {
     "name": "stderr",
     "output_type": "stream",
     "text": [
      "$KMDA: possibly delisted; no price data found  (1d 2023-12-29 -> 2024-01-28)\n"
     ]
    },
    {
     "name": "stdout",
     "output_type": "stream",
     "text": [
      "Error fetching data for KMDA: No historical data available for KMDA around 2024-01-28.\n"
     ]
    },
    {
     "name": "stderr",
     "output_type": "stream",
     "text": [
      "$EEMA: possibly delisted; no price data found  (1d 2023-12-29 -> 2024-01-28)\n"
     ]
    },
    {
     "name": "stdout",
     "output_type": "stream",
     "text": [
      "Error fetching data for EEMA: No historical data available for EEMA around 2024-01-28.\n"
     ]
    },
    {
     "name": "stderr",
     "output_type": "stream",
     "text": [
      "$EDAP: possibly delisted; no price data found  (1d 2023-12-29 -> 2024-01-28)\n"
     ]
    },
    {
     "name": "stdout",
     "output_type": "stream",
     "text": [
      "Error fetching data for EDAP: No historical data available for EDAP around 2024-01-28.\n"
     ]
    },
    {
     "name": "stderr",
     "output_type": "stream",
     "text": [
      "Failed to get ticker 'MTL' reason: Expecting value: line 1 column 1 (char 0)\n",
      "$MTL: possibly delisted; no timezone found\n"
     ]
    },
    {
     "name": "stdout",
     "output_type": "stream",
     "text": [
      "Error fetching data for MTL: No historical data available for MTL around 2024-01-28.\n"
     ]
    },
    {
     "name": "stderr",
     "output_type": "stream",
     "text": [
      "Failed to get ticker 'FAM' reason: Expecting value: line 1 column 1 (char 0)\n",
      "$FAM: possibly delisted; no timezone found\n"
     ]
    },
    {
     "name": "stdout",
     "output_type": "stream",
     "text": [
      "Error fetching data for FAM: No historical data available for FAM around 2024-01-28.\n"
     ]
    },
    {
     "name": "stderr",
     "output_type": "stream",
     "text": [
      "$EZCH: possibly delisted; no price data found  (1d 2023-12-29 -> 2024-01-28)\n"
     ]
    },
    {
     "name": "stdout",
     "output_type": "stream",
     "text": [
      "Error fetching data for EZCH: No historical data available for EZCH around 2024-01-28.\n"
     ]
    },
    {
     "name": "stderr",
     "output_type": "stream",
     "text": [
      "Failed to get ticker 'AEGN' reason: Expecting value: line 1 column 1 (char 0)\n",
      "$AEGN: possibly delisted; no timezone found\n"
     ]
    },
    {
     "name": "stdout",
     "output_type": "stream",
     "text": [
      "Error fetching data for AEGN: No historical data available for AEGN around 2024-01-28.\n"
     ]
    },
    {
     "name": "stderr",
     "output_type": "stream",
     "text": [
      "Failed to get ticker 'HE-U' reason: Expecting value: line 1 column 1 (char 0)\n",
      "$HE-U: possibly delisted; no timezone found\n"
     ]
    },
    {
     "name": "stdout",
     "output_type": "stream",
     "text": [
      "Error fetching data for HE-U: No historical data available for HE-U around 2024-01-28.\n"
     ]
    },
    {
     "name": "stderr",
     "output_type": "stream",
     "text": [
      "$RIGL: possibly delisted; no price data found  (1d 2023-12-29 -> 2024-01-28)\n"
     ]
    },
    {
     "name": "stdout",
     "output_type": "stream",
     "text": [
      "Error fetching data for RIGL: No historical data available for RIGL around 2024-01-28.\n"
     ]
    },
    {
     "name": "stderr",
     "output_type": "stream",
     "text": [
      "$PLPM: possibly delisted; no price data found  (1d 2023-12-29 -> 2024-01-28)\n"
     ]
    },
    {
     "name": "stdout",
     "output_type": "stream",
     "text": [
      "Error fetching data for PLPM: No historical data available for PLPM around 2024-01-28.\n"
     ]
    },
    {
     "name": "stderr",
     "output_type": "stream",
     "text": [
      "Failed to get ticker 'ELY' reason: Expecting value: line 1 column 1 (char 0)\n",
      "$ELY: possibly delisted; no timezone found\n"
     ]
    },
    {
     "name": "stdout",
     "output_type": "stream",
     "text": [
      "Error fetching data for ELY: No historical data available for ELY around 2024-01-28.\n"
     ]
    },
    {
     "name": "stderr",
     "output_type": "stream",
     "text": [
      "$GLCH: possibly delisted; no price data found  (1d 2023-12-29 -> 2024-01-28)\n"
     ]
    },
    {
     "name": "stdout",
     "output_type": "stream",
     "text": [
      "Error fetching data for GLCH: No historical data available for GLCH around 2024-01-28.\n"
     ]
    },
    {
     "name": "stderr",
     "output_type": "stream",
     "text": [
      "$ERS: possibly delisted; no price data found  (1d 2023-12-29 -> 2024-01-28)\n"
     ]
    },
    {
     "name": "stdout",
     "output_type": "stream",
     "text": [
      "Error fetching data for ERS: No historical data available for ERS around 2024-01-28.\n"
     ]
    },
    {
     "name": "stderr",
     "output_type": "stream",
     "text": [
      "Failed to get ticker 'NTX' reason: Expecting value: line 1 column 1 (char 0)\n",
      "$NTX: possibly delisted; no timezone found\n"
     ]
    },
    {
     "name": "stdout",
     "output_type": "stream",
     "text": [
      "Error fetching data for NTX: No historical data available for NTX around 2024-01-28.\n"
     ]
    },
    {
     "name": "stderr",
     "output_type": "stream",
     "text": [
      "$SUPX: possibly delisted; no price data found  (1d 2023-12-29 -> 2024-01-28)\n"
     ]
    },
    {
     "name": "stdout",
     "output_type": "stream",
     "text": [
      "Error fetching data for SUPX: No historical data available for SUPX around 2024-01-28.\n"
     ]
    },
    {
     "name": "stderr",
     "output_type": "stream",
     "text": [
      "Failed to get ticker 'GAINP' reason: Expecting value: line 1 column 1 (char 0)\n",
      "$GAINP: possibly delisted; no timezone found\n"
     ]
    },
    {
     "name": "stdout",
     "output_type": "stream",
     "text": [
      "Error fetching data for GAINP: No historical data available for GAINP around 2024-01-28.\n"
     ]
    },
    {
     "name": "stderr",
     "output_type": "stream",
     "text": [
      "$TCBI: possibly delisted; no price data found  (1d 2023-12-29 -> 2024-01-28)\n"
     ]
    },
    {
     "name": "stdout",
     "output_type": "stream",
     "text": [
      "Error fetching data for TCBI: No historical data available for TCBI around 2024-01-28.\n"
     ]
    },
    {
     "name": "stderr",
     "output_type": "stream",
     "text": [
      "$NUE: possibly delisted; no price data found  (1d 2023-12-29 -> 2024-01-28)\n"
     ]
    },
    {
     "name": "stdout",
     "output_type": "stream",
     "text": [
      "Error fetching data for NUE: No historical data available for NUE around 2024-01-28.\n"
     ]
    },
    {
     "name": "stderr",
     "output_type": "stream",
     "text": [
      "$MOH: possibly delisted; no price data found  (1d 2023-12-29 -> 2024-01-28)\n"
     ]
    },
    {
     "name": "stdout",
     "output_type": "stream",
     "text": [
      "Error fetching data for MOH: No historical data available for MOH around 2024-01-28.\n"
     ]
    },
    {
     "name": "stderr",
     "output_type": "stream",
     "text": [
      "$FDUS: possibly delisted; no price data found  (1d 2023-12-29 -> 2024-01-28)\n"
     ]
    },
    {
     "name": "stdout",
     "output_type": "stream",
     "text": [
      "Error fetching data for FDUS: No historical data available for FDUS around 2024-01-28.\n"
     ]
    },
    {
     "name": "stderr",
     "output_type": "stream",
     "text": [
      "Failed to get ticker 'CBM' reason: Expecting value: line 1 column 1 (char 0)\n",
      "$CBM: possibly delisted; no timezone found\n"
     ]
    },
    {
     "name": "stdout",
     "output_type": "stream",
     "text": [
      "Error fetching data for CBM: No historical data available for CBM around 2024-01-28.\n"
     ]
    },
    {
     "name": "stderr",
     "output_type": "stream",
     "text": [
      "$CCE: possibly delisted; no price data found  (1d 2023-12-29 -> 2024-01-28)\n"
     ]
    },
    {
     "name": "stdout",
     "output_type": "stream",
     "text": [
      "Error fetching data for CCE: No historical data available for CCE around 2024-01-28.\n"
     ]
    },
    {
     "name": "stderr",
     "output_type": "stream",
     "text": [
      "$BYD: possibly delisted; no price data found  (1d 2023-12-29 -> 2024-01-28)\n"
     ]
    },
    {
     "name": "stdout",
     "output_type": "stream",
     "text": [
      "Error fetching data for BYD: No historical data available for BYD around 2024-01-28.\n"
     ]
    },
    {
     "name": "stderr",
     "output_type": "stream",
     "text": [
      "$RSG: possibly delisted; no price data found  (1d 2023-12-29 -> 2024-01-28)\n"
     ]
    },
    {
     "name": "stdout",
     "output_type": "stream",
     "text": [
      "Error fetching data for RSG: No historical data available for RSG around 2024-01-28.\n"
     ]
    },
    {
     "name": "stderr",
     "output_type": "stream",
     "text": [
      "$DGI: possibly delisted; no price data found  (1d 2023-12-29 -> 2024-01-28)\n"
     ]
    },
    {
     "name": "stdout",
     "output_type": "stream",
     "text": [
      "Error fetching data for DGI: No historical data available for DGI around 2024-01-28.\n"
     ]
    },
    {
     "name": "stderr",
     "output_type": "stream",
     "text": [
      "$MWV: possibly delisted; no price data found  (1d 2023-12-29 -> 2024-01-28)\n"
     ]
    },
    {
     "name": "stdout",
     "output_type": "stream",
     "text": [
      "Error fetching data for MWV: No historical data available for MWV around 2024-01-28.\n"
     ]
    },
    {
     "name": "stderr",
     "output_type": "stream",
     "text": [
      "Failed to get ticker 'TISA' reason: Expecting value: line 1 column 1 (char 0)\n",
      "$TISA: possibly delisted; no timezone found\n"
     ]
    },
    {
     "name": "stdout",
     "output_type": "stream",
     "text": [
      "Error fetching data for TISA: No historical data available for TISA around 2024-01-28.\n"
     ]
    },
    {
     "name": "stderr",
     "output_type": "stream",
     "text": [
      "Failed to get ticker 'CVLY' reason: Expecting value: line 1 column 1 (char 0)\n",
      "$CVLY: possibly delisted; no timezone found\n"
     ]
    },
    {
     "name": "stdout",
     "output_type": "stream",
     "text": [
      "Error fetching data for CVLY: No historical data available for CVLY around 2024-01-28.\n"
     ]
    },
    {
     "name": "stderr",
     "output_type": "stream",
     "text": [
      "$SCBT: possibly delisted; no price data found  (1d 2023-12-29 -> 2024-01-28)\n"
     ]
    },
    {
     "name": "stdout",
     "output_type": "stream",
     "text": [
      "Error fetching data for SCBT: No historical data available for SCBT around 2024-01-28.\n"
     ]
    },
    {
     "name": "stderr",
     "output_type": "stream",
     "text": [
      "$HDNG: possibly delisted; no price data found  (1d 2023-12-29 -> 2024-01-28)\n"
     ]
    },
    {
     "name": "stdout",
     "output_type": "stream",
     "text": [
      "Error fetching data for HDNG: No historical data available for HDNG around 2024-01-28.\n"
     ]
    },
    {
     "name": "stderr",
     "output_type": "stream",
     "text": [
      "Failed to get ticker 'SZYM' reason: Expecting value: line 1 column 1 (char 0)\n",
      "$SZYM: possibly delisted; no timezone found\n"
     ]
    },
    {
     "name": "stdout",
     "output_type": "stream",
     "text": [
      "Error fetching data for SZYM: No historical data available for SZYM around 2024-01-28.\n"
     ]
    },
    {
     "name": "stderr",
     "output_type": "stream",
     "text": [
      "$NXP: possibly delisted; no price data found  (1d 2023-12-29 -> 2024-01-28)\n"
     ]
    },
    {
     "name": "stdout",
     "output_type": "stream",
     "text": [
      "Error fetching data for NXP: No historical data available for NXP around 2024-01-28.\n"
     ]
    },
    {
     "name": "stderr",
     "output_type": "stream",
     "text": [
      "Failed to get ticker 'ROICU' reason: Expecting value: line 1 column 1 (char 0)\n",
      "$ROICU: possibly delisted; no timezone found\n"
     ]
    },
    {
     "name": "stdout",
     "output_type": "stream",
     "text": [
      "Error fetching data for ROICU: No historical data available for ROICU around 2024-01-28.\n"
     ]
    },
    {
     "name": "stderr",
     "output_type": "stream",
     "text": [
      "$ASYS: possibly delisted; no price data found  (1d 2023-12-29 -> 2024-01-28)\n"
     ]
    },
    {
     "name": "stdout",
     "output_type": "stream",
     "text": [
      "Error fetching data for ASYS: No historical data available for ASYS around 2024-01-28.\n"
     ]
    },
    {
     "name": "stderr",
     "output_type": "stream",
     "text": [
      "Failed to get ticker 'RLH-A' reason: Expecting value: line 1 column 1 (char 0)\n",
      "$RLH-A: possibly delisted; no timezone found\n"
     ]
    },
    {
     "name": "stdout",
     "output_type": "stream",
     "text": [
      "Error fetching data for RLH-A: No historical data available for RLH-A around 2024-01-28.\n"
     ]
    },
    {
     "name": "stderr",
     "output_type": "stream",
     "text": [
      "$VSAT: possibly delisted; no price data found  (1d 2023-12-29 -> 2024-01-28)\n"
     ]
    },
    {
     "name": "stdout",
     "output_type": "stream",
     "text": [
      "Error fetching data for VSAT: No historical data available for VSAT around 2024-01-28.\n"
     ]
    },
    {
     "name": "stderr",
     "output_type": "stream",
     "text": [
      "$CPLA: possibly delisted; no price data found  (1d 2023-12-29 -> 2024-01-28)\n"
     ]
    },
    {
     "name": "stdout",
     "output_type": "stream",
     "text": [
      "Error fetching data for CPLA: No historical data available for CPLA around 2024-01-28.\n"
     ]
    },
    {
     "name": "stderr",
     "output_type": "stream",
     "text": [
      "Failed to get ticker 'DX-A' reason: Expecting value: line 1 column 1 (char 0)\n",
      "$DX-A: possibly delisted; no timezone found\n"
     ]
    },
    {
     "name": "stdout",
     "output_type": "stream",
     "text": [
      "Error fetching data for DX-A: No historical data available for DX-A around 2024-01-28.\n"
     ]
    },
    {
     "name": "stderr",
     "output_type": "stream",
     "text": [
      "Failed to get ticker 'RAVN' reason: Expecting value: line 1 column 1 (char 0)\n",
      "$RAVN: possibly delisted; no timezone found\n"
     ]
    },
    {
     "name": "stdout",
     "output_type": "stream",
     "text": [
      "Error fetching data for RAVN: No historical data available for RAVN around 2024-01-28.\n"
     ]
    },
    {
     "name": "stderr",
     "output_type": "stream",
     "text": [
      "Failed to get ticker 'PBI-A' reason: Expecting value: line 1 column 1 (char 0)\n",
      "$PBI-A: possibly delisted; no timezone found\n"
     ]
    },
    {
     "name": "stdout",
     "output_type": "stream",
     "text": [
      "Error fetching data for PBI-A: No historical data available for PBI-A around 2024-01-28.\n"
     ]
    },
    {
     "name": "stderr",
     "output_type": "stream",
     "text": [
      "$BKN: possibly delisted; no price data found  (1d 2023-12-29 -> 2024-01-28)\n"
     ]
    },
    {
     "name": "stdout",
     "output_type": "stream",
     "text": [
      "Error fetching data for BKN: No historical data available for BKN around 2024-01-28.\n"
     ]
    },
    {
     "name": "stderr",
     "output_type": "stream",
     "text": [
      "$NEPT: possibly delisted; no price data found  (1d 2023-12-29 -> 2024-01-28)\n"
     ]
    },
    {
     "name": "stdout",
     "output_type": "stream",
     "text": [
      "Error fetching data for NEPT: No historical data available for NEPT around 2024-01-28.\n"
     ]
    },
    {
     "name": "stderr",
     "output_type": "stream",
     "text": [
      "$LEE: possibly delisted; no price data found  (1d 2023-12-29 -> 2024-01-28)\n"
     ]
    },
    {
     "name": "stdout",
     "output_type": "stream",
     "text": [
      "Error fetching data for LEE: No historical data available for LEE around 2024-01-28.\n"
     ]
    },
    {
     "name": "stderr",
     "output_type": "stream",
     "text": [
      "Failed to get ticker 'FSRV' reason: Expecting value: line 1 column 1 (char 0)\n",
      "$FSRV: possibly delisted; no timezone found\n"
     ]
    },
    {
     "name": "stdout",
     "output_type": "stream",
     "text": [
      "Error fetching data for FSRV: No historical data available for FSRV around 2024-01-28.\n"
     ]
    },
    {
     "name": "stderr",
     "output_type": "stream",
     "text": [
      "$PATR: possibly delisted; no price data found  (1d 2023-12-29 -> 2024-01-28)\n"
     ]
    },
    {
     "name": "stdout",
     "output_type": "stream",
     "text": [
      "Error fetching data for PATR: No historical data available for PATR around 2024-01-28.\n"
     ]
    },
    {
     "name": "stderr",
     "output_type": "stream",
     "text": [
      "Failed to get ticker 'MIC' reason: Expecting value: line 1 column 1 (char 0)\n",
      "$MIC: possibly delisted; no timezone found\n"
     ]
    },
    {
     "name": "stdout",
     "output_type": "stream",
     "text": [
      "Error fetching data for MIC: No historical data available for MIC around 2024-01-28.\n"
     ]
    },
    {
     "name": "stderr",
     "output_type": "stream",
     "text": [
      "$GOOD: possibly delisted; no price data found  (1d 2023-12-29 -> 2024-01-28)\n"
     ]
    },
    {
     "name": "stdout",
     "output_type": "stream",
     "text": [
      "Error fetching data for GOOD: No historical data available for GOOD around 2024-01-28.\n"
     ]
    },
    {
     "name": "stderr",
     "output_type": "stream",
     "text": [
      "$CNBC: possibly delisted; no price data found  (1d 2023-12-29 -> 2024-01-28)\n"
     ]
    },
    {
     "name": "stdout",
     "output_type": "stream",
     "text": [
      "Error fetching data for CNBC: No historical data available for CNBC around 2024-01-28.\n"
     ]
    },
    {
     "name": "stderr",
     "output_type": "stream",
     "text": [
      "Failed to get ticker 'CLI' reason: Expecting value: line 1 column 1 (char 0)\n",
      "$CLI: possibly delisted; no timezone found\n"
     ]
    },
    {
     "name": "stdout",
     "output_type": "stream",
     "text": [
      "Error fetching data for CLI: No historical data available for CLI around 2024-01-28.\n"
     ]
    },
    {
     "name": "stderr",
     "output_type": "stream",
     "text": [
      "Failed to get ticker 'SPRT' reason: Expecting value: line 1 column 1 (char 0)\n",
      "$SPRT: possibly delisted; no timezone found\n"
     ]
    },
    {
     "name": "stdout",
     "output_type": "stream",
     "text": [
      "Error fetching data for SPRT: No historical data available for SPRT around 2024-01-28.\n"
     ]
    },
    {
     "name": "stderr",
     "output_type": "stream",
     "text": [
      "$DSGX: possibly delisted; no price data found  (1d 2023-12-29 -> 2024-01-28)\n"
     ]
    },
    {
     "name": "stdout",
     "output_type": "stream",
     "text": [
      "Error fetching data for DSGX: No historical data available for DSGX around 2024-01-28.\n"
     ]
    },
    {
     "name": "stderr",
     "output_type": "stream",
     "text": [
      "$EMMSP: possibly delisted; no price data found  (1d 2023-12-29 -> 2024-01-28)\n"
     ]
    },
    {
     "name": "stdout",
     "output_type": "stream",
     "text": [
      "Error fetching data for EMMSP: No historical data available for EMMSP around 2024-01-28.\n"
     ]
    },
    {
     "name": "stderr",
     "output_type": "stream",
     "text": [
      "$OTEX: possibly delisted; no price data found  (1d 2023-12-29 -> 2024-01-28)\n"
     ]
    },
    {
     "name": "stdout",
     "output_type": "stream",
     "text": [
      "Error fetching data for OTEX: No historical data available for OTEX around 2024-01-28.\n"
     ]
    },
    {
     "name": "stderr",
     "output_type": "stream",
     "text": [
      "Failed to get ticker 'PSB-T' reason: Expecting value: line 1 column 1 (char 0)\n",
      "$PSB-T: possibly delisted; no timezone found\n"
     ]
    },
    {
     "name": "stdout",
     "output_type": "stream",
     "text": [
      "Error fetching data for PSB-T: No historical data available for PSB-T around 2024-01-28.\n"
     ]
    },
    {
     "name": "stderr",
     "output_type": "stream",
     "text": [
      "Failed to get ticker 'BT' reason: Expecting value: line 1 column 1 (char 0)\n",
      "$BT: possibly delisted; no timezone found\n"
     ]
    },
    {
     "name": "stdout",
     "output_type": "stream",
     "text": [
      "Error fetching data for BT: No historical data available for BT around 2024-01-28.\n"
     ]
    },
    {
     "name": "stderr",
     "output_type": "stream",
     "text": [
      "$AEV: possibly delisted; no price data found  (1d 2023-12-29 -> 2024-01-28)\n"
     ]
    },
    {
     "name": "stdout",
     "output_type": "stream",
     "text": [
      "Error fetching data for AEV: No historical data available for AEV around 2024-01-28.\n"
     ]
    },
    {
     "name": "stderr",
     "output_type": "stream",
     "text": [
      "$GPI: possibly delisted; no price data found  (1d 2023-12-29 -> 2024-01-28)\n"
     ]
    },
    {
     "name": "stdout",
     "output_type": "stream",
     "text": [
      "Error fetching data for GPI: No historical data available for GPI around 2024-01-28.\n"
     ]
    },
    {
     "name": "stderr",
     "output_type": "stream",
     "text": [
      "$GDO: possibly delisted; no price data found  (1d 2023-12-29 -> 2024-01-28)\n"
     ]
    },
    {
     "name": "stdout",
     "output_type": "stream",
     "text": [
      "Error fetching data for GDO: No historical data available for GDO around 2024-01-28.\n"
     ]
    },
    {
     "name": "stderr",
     "output_type": "stream",
     "text": [
      "Failed to get ticker 'ELJ' reason: Expecting value: line 1 column 1 (char 0)\n",
      "$ELJ: possibly delisted; no timezone found\n"
     ]
    },
    {
     "name": "stdout",
     "output_type": "stream",
     "text": [
      "Error fetching data for ELJ: No historical data available for ELJ around 2024-01-28.\n"
     ]
    },
    {
     "name": "stderr",
     "output_type": "stream",
     "text": [
      "Failed to get ticker 'FEI' reason: Expecting value: line 1 column 1 (char 0)\n",
      "$FEI: possibly delisted; no timezone found\n"
     ]
    },
    {
     "name": "stdout",
     "output_type": "stream",
     "text": [
      "Error fetching data for FEI: No historical data available for FEI around 2024-01-28.\n"
     ]
    },
    {
     "name": "stderr",
     "output_type": "stream",
     "text": [
      "Failed to get ticker 'CFR-A' reason: Expecting value: line 1 column 1 (char 0)\n",
      "$CFR-A: possibly delisted; no timezone found\n"
     ]
    },
    {
     "name": "stdout",
     "output_type": "stream",
     "text": [
      "Error fetching data for CFR-A: No historical data available for CFR-A around 2024-01-28.\n"
     ]
    },
    {
     "name": "stderr",
     "output_type": "stream",
     "text": [
      "$SRV: possibly delisted; no price data found  (1d 2023-12-29 -> 2024-01-28)\n"
     ]
    },
    {
     "name": "stdout",
     "output_type": "stream",
     "text": [
      "Error fetching data for SRV: No historical data available for SRV around 2024-01-28.\n"
     ]
    },
    {
     "name": "stderr",
     "output_type": "stream",
     "text": [
      "$EDF: possibly delisted; no price data found  (1d 2023-12-29 -> 2024-01-28)\n"
     ]
    },
    {
     "name": "stdout",
     "output_type": "stream",
     "text": [
      "Error fetching data for EDF: No historical data available for EDF around 2024-01-28.\n"
     ]
    },
    {
     "name": "stderr",
     "output_type": "stream",
     "text": [
      "$EFUT: possibly delisted; no price data found  (1d 2023-12-29 -> 2024-01-28)\n"
     ]
    },
    {
     "name": "stdout",
     "output_type": "stream",
     "text": [
      "Error fetching data for EFUT: No historical data available for EFUT around 2024-01-28.\n"
     ]
    },
    {
     "name": "stderr",
     "output_type": "stream",
     "text": [
      "Failed to get ticker 'ATAX' reason: Expecting value: line 1 column 1 (char 0)\n",
      "$ATAX: possibly delisted; no timezone found\n"
     ]
    },
    {
     "name": "stdout",
     "output_type": "stream",
     "text": [
      "Error fetching data for ATAX: No historical data available for ATAX around 2024-01-28.\n"
     ]
    },
    {
     "name": "stderr",
     "output_type": "stream",
     "text": [
      "$SCMP: possibly delisted; no price data found  (1d 2023-12-29 -> 2024-01-28)\n"
     ]
    },
    {
     "name": "stdout",
     "output_type": "stream",
     "text": [
      "Error fetching data for SCMP: No historical data available for SCMP around 2024-01-28.\n"
     ]
    },
    {
     "name": "stderr",
     "output_type": "stream",
     "text": [
      "$PLMT: possibly delisted; no price data found  (1d 2023-12-29 -> 2024-01-28)\n"
     ]
    },
    {
     "name": "stdout",
     "output_type": "stream",
     "text": [
      "Error fetching data for PLMT: No historical data available for PLMT around 2024-01-28.\n"
     ]
    },
    {
     "name": "stderr",
     "output_type": "stream",
     "text": [
      "$EXXI: possibly delisted; no price data found  (1d 2023-12-29 -> 2024-01-28)\n"
     ]
    },
    {
     "name": "stdout",
     "output_type": "stream",
     "text": [
      "Error fetching data for EXXI: No historical data available for EXXI around 2024-01-28.\n"
     ]
    },
    {
     "name": "stderr",
     "output_type": "stream",
     "text": [
      "$LOOK: possibly delisted; no price data found  (1d 2023-12-29 -> 2024-01-28)\n"
     ]
    },
    {
     "name": "stdout",
     "output_type": "stream",
     "text": [
      "Error fetching data for LOOK: No historical data available for LOOK around 2024-01-28.\n"
     ]
    },
    {
     "name": "stderr",
     "output_type": "stream",
     "text": [
      "Failed to get ticker 'DXB' reason: Expecting value: line 1 column 1 (char 0)\n",
      "$DXB: possibly delisted; no timezone found\n"
     ]
    },
    {
     "name": "stdout",
     "output_type": "stream",
     "text": [
      "Error fetching data for DXB: No historical data available for DXB around 2024-01-28.\n"
     ]
    },
    {
     "name": "stderr",
     "output_type": "stream",
     "text": [
      "$DAN: possibly delisted; no price data found  (1d 2023-12-29 -> 2024-01-28)\n"
     ]
    },
    {
     "name": "stdout",
     "output_type": "stream",
     "text": [
      "Error fetching data for DAN: No historical data available for DAN around 2024-01-28.\n"
     ]
    },
    {
     "name": "stderr",
     "output_type": "stream",
     "text": [
      "$ECPG: possibly delisted; no price data found  (1d 2023-12-29 -> 2024-01-28)\n"
     ]
    },
    {
     "name": "stdout",
     "output_type": "stream",
     "text": [
      "Error fetching data for ECPG: No historical data available for ECPG around 2024-01-28.\n"
     ]
    },
    {
     "name": "stderr",
     "output_type": "stream",
     "text": [
      "$FIG: possibly delisted; no price data found  (1d 2023-12-29 -> 2024-01-28)\n"
     ]
    },
    {
     "name": "stdout",
     "output_type": "stream",
     "text": [
      "Error fetching data for FIG: No historical data available for FIG around 2024-01-28.\n"
     ]
    },
    {
     "name": "stderr",
     "output_type": "stream",
     "text": [
      "$UPI: possibly delisted; no price data found  (1d 2023-12-29 -> 2024-01-28)\n"
     ]
    },
    {
     "name": "stdout",
     "output_type": "stream",
     "text": [
      "Error fetching data for UPI: No historical data available for UPI around 2024-01-28.\n"
     ]
    },
    {
     "name": "stderr",
     "output_type": "stream",
     "text": [
      "$IEP: possibly delisted; no price data found  (1d 2023-12-29 -> 2024-01-28)\n"
     ]
    },
    {
     "name": "stdout",
     "output_type": "stream",
     "text": [
      "Error fetching data for IEP: No historical data available for IEP around 2024-01-28.\n"
     ]
    },
    {
     "name": "stderr",
     "output_type": "stream",
     "text": [
      "$JTP: possibly delisted; no price data found  (1d 2023-12-29 -> 2024-01-28)\n"
     ]
    },
    {
     "name": "stdout",
     "output_type": "stream",
     "text": [
      "Error fetching data for JTP: No historical data available for JTP around 2024-01-28.\n"
     ]
    },
    {
     "name": "stderr",
     "output_type": "stream",
     "text": [
      "$AXTI: possibly delisted; no price data found  (1d 2023-12-29 -> 2024-01-28)\n"
     ]
    },
    {
     "name": "stdout",
     "output_type": "stream",
     "text": [
      "Error fetching data for AXTI: No historical data available for AXTI around 2024-01-28.\n"
     ]
    },
    {
     "name": "stderr",
     "output_type": "stream",
     "text": [
      "$MIN: possibly delisted; no price data found  (1d 2023-12-29 -> 2024-01-28)\n"
     ]
    },
    {
     "name": "stdout",
     "output_type": "stream",
     "text": [
      "Error fetching data for MIN: No historical data available for MIN around 2024-01-28.\n"
     ]
    },
    {
     "name": "stderr",
     "output_type": "stream",
     "text": [
      "Failed to get ticker 'GDP' reason: Expecting value: line 1 column 1 (char 0)\n",
      "$GDP: possibly delisted; no timezone found\n"
     ]
    },
    {
     "name": "stdout",
     "output_type": "stream",
     "text": [
      "Error fetching data for GDP: No historical data available for GDP around 2024-01-28.\n"
     ]
    },
    {
     "name": "stderr",
     "output_type": "stream",
     "text": [
      "$IGTE: possibly delisted; no price data found  (1d 2023-12-29 -> 2024-01-28)\n"
     ]
    },
    {
     "name": "stdout",
     "output_type": "stream",
     "text": [
      "Error fetching data for IGTE: No historical data available for IGTE around 2024-01-28.\n"
     ]
    },
    {
     "name": "stderr",
     "output_type": "stream",
     "text": [
      "$GULF: possibly delisted; no price data found  (1d 2023-12-29 -> 2024-01-28)\n"
     ]
    },
    {
     "name": "stdout",
     "output_type": "stream",
     "text": [
      "Error fetching data for GULF: No historical data available for GULF around 2024-01-28.\n"
     ]
    },
    {
     "name": "stderr",
     "output_type": "stream",
     "text": [
      "Failed to get ticker 'NHF' reason: Expecting value: line 1 column 1 (char 0)\n",
      "$NHF: possibly delisted; no timezone found\n"
     ]
    },
    {
     "name": "stdout",
     "output_type": "stream",
     "text": [
      "Error fetching data for NHF: No historical data available for NHF around 2024-01-28.\n"
     ]
    },
    {
     "name": "stderr",
     "output_type": "stream",
     "text": [
      "$BHE: possibly delisted; no price data found  (1d 2023-12-29 -> 2024-01-28)\n"
     ]
    },
    {
     "name": "stdout",
     "output_type": "stream",
     "text": [
      "Error fetching data for BHE: No historical data available for BHE around 2024-01-28.\n"
     ]
    },
    {
     "name": "stderr",
     "output_type": "stream",
     "text": [
      "$NVO: possibly delisted; no price data found  (1d 2023-12-29 -> 2024-01-28)\n"
     ]
    },
    {
     "name": "stdout",
     "output_type": "stream",
     "text": [
      "Error fetching data for NVO: No historical data available for NVO around 2024-01-28.\n"
     ]
    },
    {
     "name": "stderr",
     "output_type": "stream",
     "text": [
      "$CJJD: possibly delisted; no price data found  (1d 2023-12-29 -> 2024-01-28)\n"
     ]
    },
    {
     "name": "stdout",
     "output_type": "stream",
     "text": [
      "Error fetching data for CJJD: No historical data available for CJJD around 2024-01-28.\n"
     ]
    },
    {
     "name": "stderr",
     "output_type": "stream",
     "text": [
      "Failed to get ticker 'ICPT' reason: Expecting value: line 1 column 1 (char 0)\n",
      "$ICPT: possibly delisted; no timezone found\n"
     ]
    },
    {
     "name": "stdout",
     "output_type": "stream",
     "text": [
      "Error fetching data for ICPT: No historical data available for ICPT around 2024-01-28.\n"
     ]
    },
    {
     "name": "stderr",
     "output_type": "stream",
     "text": [
      "Failed to get ticker 'STML' reason: Expecting value: line 1 column 1 (char 0)\n",
      "$STML: possibly delisted; no timezone found\n"
     ]
    },
    {
     "name": "stdout",
     "output_type": "stream",
     "text": [
      "Error fetching data for STML: No historical data available for STML around 2024-01-28.\n"
     ]
    },
    {
     "name": "stderr",
     "output_type": "stream",
     "text": [
      "Failed to get ticker 'GNC' reason: Expecting value: line 1 column 1 (char 0)\n",
      "$GNC: possibly delisted; no timezone found\n"
     ]
    },
    {
     "name": "stdout",
     "output_type": "stream",
     "text": [
      "Error fetching data for GNC: No historical data available for GNC around 2024-01-28.\n"
     ]
    },
    {
     "name": "stderr",
     "output_type": "stream",
     "text": [
      "$SIMG: possibly delisted; no price data found  (1d 2023-12-29 -> 2024-01-28)\n"
     ]
    },
    {
     "name": "stdout",
     "output_type": "stream",
     "text": [
      "Error fetching data for SIMG: No historical data available for SIMG around 2024-01-28.\n"
     ]
    },
    {
     "name": "stderr",
     "output_type": "stream",
     "text": [
      "$LII: possibly delisted; no price data found  (1d 2023-12-29 -> 2024-01-28)\n"
     ]
    },
    {
     "name": "stdout",
     "output_type": "stream",
     "text": [
      "Error fetching data for LII: No historical data available for LII around 2024-01-28.\n"
     ]
    },
    {
     "name": "stderr",
     "output_type": "stream",
     "text": [
      "$TCO: possibly delisted; no timezone found\n"
     ]
    },
    {
     "name": "stdout",
     "output_type": "stream",
     "text": [
      "Error fetching data for TCO: No historical data available for TCO around 2024-01-28.\n"
     ]
    },
    {
     "name": "stderr",
     "output_type": "stream",
     "text": [
      "$STON: possibly delisted; no timezone found\n"
     ]
    },
    {
     "name": "stdout",
     "output_type": "stream",
     "text": [
      "Error fetching data for STON: No historical data available for STON around 2024-01-28.\n"
     ]
    },
    {
     "name": "stderr",
     "output_type": "stream",
     "text": [
      "$AXE: possibly delisted; no timezone found\n",
      "$TLLP: possibly delisted; no price data found  (1d 2023-12-29 -> 2024-01-28)\n"
     ]
    },
    {
     "name": "stdout",
     "output_type": "stream",
     "text": [
      "Error fetching data for AXE: No historical data available for AXE around 2024-01-28.\n",
      "Error fetching data for TLLP: No historical data available for TLLP around 2024-01-28.\n"
     ]
    },
    {
     "name": "stderr",
     "output_type": "stream",
     "text": [
      "$ATRI: possibly delisted; no timezone found\n"
     ]
    },
    {
     "name": "stdout",
     "output_type": "stream",
     "text": [
      "Error fetching data for ATRI: No historical data available for ATRI around 2024-01-28.\n"
     ]
    },
    {
     "name": "stderr",
     "output_type": "stream",
     "text": [
      "$SUNS: possibly delisted; no price data found  (1d 2023-12-29 -> 2024-01-28) (Yahoo error = \"Data doesn't exist for startDate = 1703826000, endDate = 1706418000\")\n",
      "$NSYS: possibly delisted; no price data found  (period=1d)\n"
     ]
    },
    {
     "name": "stdout",
     "output_type": "stream",
     "text": [
      "Error fetching data for SUNS: No historical data available for SUNS around 2024-01-28.\n",
      "Error fetching data for NSYS: single positional indexer is out-of-bounds\n"
     ]
    },
    {
     "name": "stderr",
     "output_type": "stream",
     "text": [
      "$JZC: possibly delisted; no price data found  (1d 2023-12-29 -> 2024-01-28)\n"
     ]
    },
    {
     "name": "stdout",
     "output_type": "stream",
     "text": [
      "Error fetching data for JZC: No historical data available for JZC around 2024-01-28.\n"
     ]
    },
    {
     "name": "stderr",
     "output_type": "stream",
     "text": [
      "$UMPQ: possibly delisted; no timezone found\n"
     ]
    },
    {
     "name": "stdout",
     "output_type": "stream",
     "text": [
      "Error fetching data for UMPQ: No historical data available for UMPQ around 2024-01-28.\n"
     ]
    },
    {
     "name": "stderr",
     "output_type": "stream",
     "text": [
      "$WETF: possibly delisted; no timezone found\n",
      "$EEQ: possibly delisted; no price data found  (1d 2023-12-29 -> 2024-01-28)\n"
     ]
    },
    {
     "name": "stdout",
     "output_type": "stream",
     "text": [
      "Error fetching data for WETF: No historical data available for WETF around 2024-01-28.\n",
      "Error fetching data for EEQ: No historical data available for EEQ around 2024-01-28.\n"
     ]
    },
    {
     "name": "stderr",
     "output_type": "stream",
     "text": [
      "$GCAP: possibly delisted; no timezone found\n"
     ]
    },
    {
     "name": "stdout",
     "output_type": "stream",
     "text": [
      "Error fetching data for GCAP: No historical data available for GCAP around 2024-01-28.\n"
     ]
    },
    {
     "name": "stderr",
     "output_type": "stream",
     "text": [
      "$RIOM: possibly delisted; no price data found  (1d 2023-12-29 -> 2024-01-28)\n"
     ]
    },
    {
     "name": "stdout",
     "output_type": "stream",
     "text": [
      "Error fetching data for RIOM: No historical data available for RIOM around 2024-01-28.\n"
     ]
    },
    {
     "name": "stderr",
     "output_type": "stream",
     "text": [
      "$ANFI: possibly delisted; no timezone found\n"
     ]
    },
    {
     "name": "stdout",
     "output_type": "stream",
     "text": [
      "Error fetching data for ANFI: No historical data available for ANFI around 2024-01-28.\n"
     ]
    },
    {
     "name": "stderr",
     "output_type": "stream",
     "text": [
      "$PLT: possibly delisted; no timezone found\n"
     ]
    },
    {
     "name": "stdout",
     "output_type": "stream",
     "text": [
      "Error fetching data for PLT: No historical data available for PLT around 2024-01-28.\n"
     ]
    },
    {
     "name": "stderr",
     "output_type": "stream",
     "text": [
      "$UBS-D: possibly delisted; no timezone found\n",
      "$MCGC: possibly delisted; no price data found  (1d 2023-12-29 -> 2024-01-28)\n"
     ]
    },
    {
     "name": "stdout",
     "output_type": "stream",
     "text": [
      "Error fetching data for UBS-D: No historical data available for UBS-D around 2024-01-28.\n",
      "Error fetching data for MCGC: No historical data available for MCGC around 2024-01-28.\n"
     ]
    },
    {
     "name": "stderr",
     "output_type": "stream",
     "text": [
      "$NNC-C: possibly delisted; no timezone found\n"
     ]
    },
    {
     "name": "stdout",
     "output_type": "stream",
     "text": [
      "Error fetching data for NNC-C: No historical data available for NNC-C around 2024-01-28.\n"
     ]
    },
    {
     "name": "stderr",
     "output_type": "stream",
     "text": [
      "$SJI: possibly delisted; no timezone found\n"
     ]
    },
    {
     "name": "stdout",
     "output_type": "stream",
     "text": [
      "Error fetching data for SJI: No historical data available for SJI around 2024-01-28.\n"
     ]
    },
    {
     "name": "stderr",
     "output_type": "stream",
     "text": [
      "$IMN: possibly delisted; no price data found  (1d 2023-12-29 -> 2024-01-28)\n"
     ]
    },
    {
     "name": "stdout",
     "output_type": "stream",
     "text": [
      "Error fetching data for IMN: No historical data available for IMN around 2024-01-28.\n"
     ]
    },
    {
     "name": "stderr",
     "output_type": "stream",
     "text": [
      "$BQH: possibly delisted; no timezone found\n"
     ]
    },
    {
     "name": "stdout",
     "output_type": "stream",
     "text": [
      "Error fetching data for BQH: No historical data available for BQH around 2024-01-28.\n"
     ]
    },
    {
     "name": "stderr",
     "output_type": "stream",
     "text": [
      "$WEBK: possibly delisted; no timezone found\n"
     ]
    },
    {
     "name": "stdout",
     "output_type": "stream",
     "text": [
      "Error fetching data for WEBK: No historical data available for WEBK around 2024-01-28.\n"
     ]
    },
    {
     "name": "stderr",
     "output_type": "stream",
     "text": [
      "$LAYN: possibly delisted; no price data found  (1d 2023-12-29 -> 2024-01-28)\n",
      "$STZ.B: possibly delisted; no price data found  (1d 2023-12-29 -> 2024-01-28)\n"
     ]
    },
    {
     "name": "stdout",
     "output_type": "stream",
     "text": [
      "Error fetching data for LAYN: No historical data available for LAYN around 2024-01-28.\n",
      "Error fetching data for STZ.B: No historical data available for STZ.B around 2024-01-28.\n"
     ]
    },
    {
     "name": "stderr",
     "output_type": "stream",
     "text": [
      "$SFI-D: possibly delisted; no timezone found\n"
     ]
    },
    {
     "name": "stdout",
     "output_type": "stream",
     "text": [
      "Error fetching data for SFI-D: No historical data available for SFI-D around 2024-01-28.\n"
     ]
    },
    {
     "name": "stderr",
     "output_type": "stream",
     "text": [
      "$SGEN: possibly delisted; no timezone found\n",
      "$BNNY: possibly delisted; no price data found  (1d 2023-12-29 -> 2024-01-28)\n"
     ]
    },
    {
     "name": "stdout",
     "output_type": "stream",
     "text": [
      "Error fetching data for SGEN: No historical data available for SGEN around 2024-01-28.\n",
      "Error fetching data for BNNY: No historical data available for BNNY around 2024-01-28.\n"
     ]
    },
    {
     "name": "stderr",
     "output_type": "stream",
     "text": [
      "$KYE: possibly delisted; no price data found  (1d 2023-12-29 -> 2024-01-28)\n"
     ]
    },
    {
     "name": "stdout",
     "output_type": "stream",
     "text": [
      "Error fetching data for KYE: No historical data available for KYE around 2024-01-28.\n"
     ]
    },
    {
     "name": "stderr",
     "output_type": "stream",
     "text": [
      "$FES: possibly delisted; no price data found  (1d 2023-12-29 -> 2024-01-28)\n"
     ]
    },
    {
     "name": "stdout",
     "output_type": "stream",
     "text": [
      "Error fetching data for FES: No historical data available for FES around 2024-01-28.\n"
     ]
    },
    {
     "name": "stderr",
     "output_type": "stream",
     "text": [
      "$ANDAW: possibly delisted; no timezone found\n"
     ]
    },
    {
     "name": "stdout",
     "output_type": "stream",
     "text": [
      "Error fetching data for ANDAW: No historical data available for ANDAW around 2024-01-28.\n"
     ]
    },
    {
     "name": "stderr",
     "output_type": "stream",
     "text": [
      "$LINTA: possibly delisted; no price data found  (1d 2023-12-29 -> 2024-01-28)\n",
      "$SMT: possibly delisted; no price data found  (1d 2023-12-29 -> 2024-01-28)\n"
     ]
    },
    {
     "name": "stdout",
     "output_type": "stream",
     "text": [
      "Error fetching data for LINTA: No historical data available for LINTA around 2024-01-28.\n",
      "Error fetching data for SMT: No historical data available for SMT around 2024-01-28.\n"
     ]
    },
    {
     "name": "stderr",
     "output_type": "stream",
     "text": [
      "$ATK: possibly delisted; no price data found  (1d 2023-12-29 -> 2024-01-28)\n"
     ]
    },
    {
     "name": "stdout",
     "output_type": "stream",
     "text": [
      "Error fetching data for ATK: No historical data available for ATK around 2024-01-28.\n"
     ]
    },
    {
     "name": "stderr",
     "output_type": "stream",
     "text": [
      "$UBPS: possibly delisted; no price data found  (1d 2023-12-29 -> 2024-01-28)\n"
     ]
    },
    {
     "name": "stdout",
     "output_type": "stream",
     "text": [
      "Error fetching data for UBPS: No historical data available for UBPS around 2024-01-28.\n"
     ]
    },
    {
     "name": "stderr",
     "output_type": "stream",
     "text": [
      "$SNBC: possibly delisted; no price data found  (1d 2023-12-29 -> 2024-01-28)\n"
     ]
    },
    {
     "name": "stdout",
     "output_type": "stream",
     "text": [
      "Error fetching data for SNBC: No historical data available for SNBC around 2024-01-28.\n"
     ]
    },
    {
     "name": "stderr",
     "output_type": "stream",
     "text": [
      "$CCV: possibly delisted; no timezone found\n"
     ]
    },
    {
     "name": "stdout",
     "output_type": "stream",
     "text": [
      "Error fetching data for CCV: No historical data available for CCV around 2024-01-28.\n"
     ]
    },
    {
     "name": "stderr",
     "output_type": "stream",
     "text": [
      "$CPSI: possibly delisted; no timezone found\n",
      "$TCB: possibly delisted; no price data found  (1d 2023-12-29 -> 2024-01-28)\n"
     ]
    },
    {
     "name": "stdout",
     "output_type": "stream",
     "text": [
      "Error fetching data for CPSI: No historical data available for CPSI around 2024-01-28.\n",
      "Error fetching data for TCB: No historical data available for TCB around 2024-01-28.\n"
     ]
    },
    {
     "name": "stderr",
     "output_type": "stream",
     "text": [
      "$RBS-I: possibly delisted; no timezone found\n"
     ]
    },
    {
     "name": "stdout",
     "output_type": "stream",
     "text": [
      "Error fetching data for RBS-I: No historical data available for RBS-I around 2024-01-28.\n"
     ]
    },
    {
     "name": "stderr",
     "output_type": "stream",
     "text": [
      "$SPPRO: possibly delisted; no timezone found\n",
      "$SKS: possibly delisted; no price data found  (1d 2023-12-29 -> 2024-01-28)\n"
     ]
    },
    {
     "name": "stdout",
     "output_type": "stream",
     "text": [
      "Error fetching data for SPPRO: No historical data available for SPPRO around 2024-01-28.\n",
      "Error fetching data for SKS: No historical data available for SKS around 2024-01-28.\n"
     ]
    },
    {
     "name": "stderr",
     "output_type": "stream",
     "text": [
      "$LBIX: possibly delisted; no price data found  (1d 2023-12-29 -> 2024-01-28)\n",
      "$STRZB: possibly delisted; no price data found  (1d 2023-12-29 -> 2024-01-28)\n"
     ]
    },
    {
     "name": "stdout",
     "output_type": "stream",
     "text": [
      "Error fetching data for LBIX: No historical data available for LBIX around 2024-01-28.\n",
      "Error fetching data for STRZB: No historical data available for STRZB around 2024-01-28.\n"
     ]
    },
    {
     "name": "stderr",
     "output_type": "stream",
     "text": [
      "$PTSI: possibly delisted; no timezone found\n",
      "$CGA: possibly delisted; no price data found  (period=1d)\n"
     ]
    },
    {
     "name": "stdout",
     "output_type": "stream",
     "text": [
      "Error fetching data for PTSI: No historical data available for PTSI around 2024-01-28.\n",
      "Error fetching data for CGA: single positional indexer is out-of-bounds\n"
     ]
    },
    {
     "name": "stderr",
     "output_type": "stream",
     "text": [
      "$CNSL: possibly delisted; no price data found  (period=1d)\n",
      "$CIFC: possibly delisted; no price data found  (1d 2023-12-29 -> 2024-01-28)\n"
     ]
    },
    {
     "name": "stdout",
     "output_type": "stream",
     "text": [
      "Error fetching data for CNSL: single positional indexer is out-of-bounds\n",
      "Error fetching data for CIFC: No historical data available for CIFC around 2024-01-28.\n"
     ]
    },
    {
     "name": "stderr",
     "output_type": "stream",
     "text": [
      "$STRZA: possibly delisted; no price data found  (1d 2023-12-29 -> 2024-01-28)\n"
     ]
    },
    {
     "name": "stdout",
     "output_type": "stream",
     "text": [
      "Error fetching data for STRZA: No historical data available for STRZA around 2024-01-28.\n"
     ]
    },
    {
     "name": "stderr",
     "output_type": "stream",
     "text": [
      "$MIL: possibly delisted; no price data found  (1d 2023-12-29 -> 2024-01-28)\n"
     ]
    },
    {
     "name": "stdout",
     "output_type": "stream",
     "text": [
      "Error fetching data for MIL: No historical data available for MIL around 2024-01-28.\n"
     ]
    },
    {
     "name": "stderr",
     "output_type": "stream",
     "text": [
      "$GJV: possibly delisted; no timezone found\n",
      "$LG: possibly delisted; no price data found  (1d 2023-12-29 -> 2024-01-28)\n"
     ]
    },
    {
     "name": "stdout",
     "output_type": "stream",
     "text": [
      "Error fetching data for GJV: No historical data available for GJV around 2024-01-28.\n",
      "Error fetching data for LG: No historical data available for LG around 2024-01-28.\n"
     ]
    },
    {
     "name": "stderr",
     "output_type": "stream",
     "text": [
      "$AVHI: possibly delisted; no timezone found\n",
      "$ADAT: possibly delisted; no price data found  (1d 2023-12-29 -> 2024-01-28)\n"
     ]
    },
    {
     "name": "stdout",
     "output_type": "stream",
     "text": [
      "Error fetching data for AVHI: No historical data available for AVHI around 2024-01-28.\n",
      "Error fetching data for ADAT: No historical data available for ADAT around 2024-01-28.\n"
     ]
    },
    {
     "name": "stderr",
     "output_type": "stream",
     "text": [
      "$GUA: possibly delisted; no price data found  (1d 2023-12-29 -> 2024-01-28)\n",
      "$EVAC: possibly delisted; no price data found  (1d 2023-12-29 -> 2024-01-28)\n"
     ]
    },
    {
     "name": "stdout",
     "output_type": "stream",
     "text": [
      "Error fetching data for GUA: No historical data available for GUA around 2024-01-28.\n",
      "Error fetching data for EVAC: No historical data available for EVAC around 2024-01-28.\n"
     ]
    },
    {
     "name": "stderr",
     "output_type": "stream",
     "text": [
      "$WMGI: possibly delisted; no timezone found\n"
     ]
    },
    {
     "name": "stdout",
     "output_type": "stream",
     "text": [
      "Error fetching data for WMGI: No historical data available for WMGI around 2024-01-28.\n"
     ]
    },
    {
     "name": "stderr",
     "output_type": "stream",
     "text": [
      "$PGNX: possibly delisted; no timezone found\n"
     ]
    },
    {
     "name": "stdout",
     "output_type": "stream",
     "text": [
      "Error fetching data for PGNX: No historical data available for PGNX around 2024-01-28.\n"
     ]
    },
    {
     "name": "stderr",
     "output_type": "stream",
     "text": [
      "$TE: possibly delisted; no price data found  (1d 2023-12-29 -> 2024-01-28)\n"
     ]
    },
    {
     "name": "stdout",
     "output_type": "stream",
     "text": [
      "Error fetching data for TE: No historical data available for TE around 2024-01-28.\n"
     ]
    },
    {
     "name": "stderr",
     "output_type": "stream",
     "text": [
      "$JPM.W: possibly delisted; no timezone found\n"
     ]
    },
    {
     "name": "stdout",
     "output_type": "stream",
     "text": [
      "Error fetching data for JPM.W: No historical data available for JPM.W around 2024-01-28.\n"
     ]
    },
    {
     "name": "stderr",
     "output_type": "stream",
     "text": [
      "$CYS-B: possibly delisted; no timezone found\n"
     ]
    },
    {
     "name": "stdout",
     "output_type": "stream",
     "text": [
      "Error fetching data for CYS-B: No historical data available for CYS-B around 2024-01-28.\n"
     ]
    },
    {
     "name": "stderr",
     "output_type": "stream",
     "text": [
      "$MCBI: possibly delisted; no price data found  (period=1d)\n"
     ]
    },
    {
     "name": "stdout",
     "output_type": "stream",
     "text": [
      "Error fetching data for MCBI: single positional indexer is out-of-bounds\n"
     ]
    },
    {
     "name": "stderr",
     "output_type": "stream",
     "text": [
      "$SB-B: possibly delisted; no timezone found\n"
     ]
    },
    {
     "name": "stdout",
     "output_type": "stream",
     "text": [
      "Error fetching data for SB-B: No historical data available for SB-B around 2024-01-28.\n"
     ]
    },
    {
     "name": "stderr",
     "output_type": "stream",
     "text": [
      "$SKBI: possibly delisted; no timezone found\n"
     ]
    },
    {
     "name": "stdout",
     "output_type": "stream",
     "text": [
      "Error fetching data for SKBI: No historical data available for SKBI around 2024-01-28.\n"
     ]
    },
    {
     "name": "stderr",
     "output_type": "stream",
     "text": [
      "$TMK-B: possibly delisted; no timezone found\n"
     ]
    },
    {
     "name": "stdout",
     "output_type": "stream",
     "text": [
      "Error fetching data for TMK-B: No historical data available for TMK-B around 2024-01-28.\n"
     ]
    },
    {
     "name": "stderr",
     "output_type": "stream",
     "text": [
      "$WBC: possibly delisted; no timezone found\n"
     ]
    },
    {
     "name": "stdout",
     "output_type": "stream",
     "text": [
      "Error fetching data for WBC: No historical data available for WBC around 2024-01-28.\n"
     ]
    },
    {
     "name": "stderr",
     "output_type": "stream",
     "text": [
      "$SGOC: possibly delisted; no timezone found\n"
     ]
    },
    {
     "name": "stdout",
     "output_type": "stream",
     "text": [
      "Error fetching data for SGOC: No historical data available for SGOC around 2024-01-28.\n"
     ]
    },
    {
     "name": "stderr",
     "output_type": "stream",
     "text": [
      "$FFEX: possibly delisted; no price data found  (1d 2023-12-29 -> 2024-01-28)\n",
      "$MZOR: possibly delisted; no price data found  (1d 2023-12-29 -> 2024-01-28)\n"
     ]
    },
    {
     "name": "stdout",
     "output_type": "stream",
     "text": [
      "Error fetching data for FFEX: No historical data available for FFEX around 2024-01-28.\n",
      "Error fetching data for MZOR: No historical data available for MZOR around 2024-01-28.\n"
     ]
    },
    {
     "name": "stderr",
     "output_type": "stream",
     "text": [
      "$NRF-A: possibly delisted; no timezone found\n"
     ]
    },
    {
     "name": "stdout",
     "output_type": "stream",
     "text": [
      "Error fetching data for NRF-A: No historical data available for NRF-A around 2024-01-28.\n"
     ]
    },
    {
     "name": "stderr",
     "output_type": "stream",
     "text": [
      "$TTS: possibly delisted; no timezone found\n",
      "$JAXB: possibly delisted; no price data found  (1d 2023-12-29 -> 2024-01-28)\n"
     ]
    },
    {
     "name": "stdout",
     "output_type": "stream",
     "text": [
      "Error fetching data for TTS: No historical data available for TTS around 2024-01-28.\n",
      "Error fetching data for JAXB: No historical data available for JAXB around 2024-01-28.\n"
     ]
    },
    {
     "name": "stderr",
     "output_type": "stream",
     "text": [
      "$OPLK: possibly delisted; no price data found  (1d 2023-12-29 -> 2024-01-28)\n"
     ]
    },
    {
     "name": "stdout",
     "output_type": "stream",
     "text": [
      "Error fetching data for OPLK: No historical data available for OPLK around 2024-01-28.\n"
     ]
    },
    {
     "name": "stderr",
     "output_type": "stream",
     "text": [
      "$BF.A: possibly delisted; no timezone found\n"
     ]
    },
    {
     "name": "stdout",
     "output_type": "stream",
     "text": [
      "Error fetching data for BF.A: No historical data available for BF.A around 2024-01-28.\n"
     ]
    },
    {
     "name": "stderr",
     "output_type": "stream",
     "text": [
      "$EXH: possibly delisted; no price data found  (1d 2023-12-29 -> 2024-01-28)\n"
     ]
    },
    {
     "name": "stdout",
     "output_type": "stream",
     "text": [
      "Error fetching data for EXH: No historical data available for EXH around 2024-01-28.\n"
     ]
    },
    {
     "name": "stderr",
     "output_type": "stream",
     "text": [
      "429 Client Error: Too Many Requests for url: https://query2.finance.yahoo.com/v10/finance/quoteSummary/EVER?modules=financialData%2CquoteType%2CdefaultKeyStatistics%2CassetProfile%2CsummaryDetail&corsDomain=finance.yahoo.com&formatted=false&symbol=EVER&crumb=Edge%3A+Too+Many+Requests\n"
     ]
    },
    {
     "name": "stdout",
     "output_type": "stream",
     "text": [
      "Error fetching data for EVER: Expecting value: line 1 column 1 (char 0)\n"
     ]
    },
    {
     "name": "stderr",
     "output_type": "stream",
     "text": [
      "$USATZ: possibly delisted; no price data found  (1d 2023-12-29 -> 2024-01-28)\n"
     ]
    },
    {
     "name": "stdout",
     "output_type": "stream",
     "text": [
      "Error fetching data for USATZ: No historical data available for USATZ around 2024-01-28.\n"
     ]
    },
    {
     "name": "stderr",
     "output_type": "stream",
     "text": [
      "$HPCCP: possibly delisted; no price data found  (1d 2023-12-29 -> 2024-01-28)\n"
     ]
    },
    {
     "name": "stdout",
     "output_type": "stream",
     "text": [
      "Error fetching data for HPCCP: No historical data available for HPCCP around 2024-01-28.\n"
     ]
    },
    {
     "name": "stderr",
     "output_type": "stream",
     "text": [
      "$EOI: possibly delisted; no price data found  (1d 2023-12-29 -> 2024-01-28)\n"
     ]
    },
    {
     "name": "stdout",
     "output_type": "stream",
     "text": [
      "Error fetching data for EOI: No historical data available for EOI around 2024-01-28.\n"
     ]
    },
    {
     "name": "stderr",
     "output_type": "stream",
     "text": [
      "Failed to get ticker 'STA-A' reason: Expecting value: line 1 column 1 (char 0)\n",
      "$STA-A: possibly delisted; no timezone found\n"
     ]
    },
    {
     "name": "stdout",
     "output_type": "stream",
     "text": [
      "Error fetching data for STA-A: No historical data available for STA-A around 2024-01-28.\n"
     ]
    },
    {
     "name": "stderr",
     "output_type": "stream",
     "text": [
      "$JZV: possibly delisted; no price data found  (1d 2023-12-29 -> 2024-01-28)\n"
     ]
    },
    {
     "name": "stdout",
     "output_type": "stream",
     "text": [
      "Error fetching data for JZV: No historical data available for JZV around 2024-01-28.\n"
     ]
    },
    {
     "name": "stderr",
     "output_type": "stream",
     "text": [
      "$KBH: possibly delisted; no price data found  (1d 2023-12-29 -> 2024-01-28)\n"
     ]
    },
    {
     "name": "stdout",
     "output_type": "stream",
     "text": [
      "Error fetching data for KBH: No historical data available for KBH around 2024-01-28.\n"
     ]
    },
    {
     "name": "stderr",
     "output_type": "stream",
     "text": [
      "$TSRE: possibly delisted; no price data found  (1d 2023-12-29 -> 2024-01-28)\n"
     ]
    },
    {
     "name": "stdout",
     "output_type": "stream",
     "text": [
      "Error fetching data for TSRE: No historical data available for TSRE around 2024-01-28.\n"
     ]
    },
    {
     "name": "stderr",
     "output_type": "stream",
     "text": [
      "$ATO: possibly delisted; no price data found  (1d 2023-12-29 -> 2024-01-28)\n"
     ]
    },
    {
     "name": "stdout",
     "output_type": "stream",
     "text": [
      "Error fetching data for ATO: No historical data available for ATO around 2024-01-28.\n"
     ]
    },
    {
     "name": "stderr",
     "output_type": "stream",
     "text": [
      "$TFM: possibly delisted; no price data found  (1d 2023-12-29 -> 2024-01-28)\n"
     ]
    },
    {
     "name": "stdout",
     "output_type": "stream",
     "text": [
      "Error fetching data for TFM: No historical data available for TFM around 2024-01-28.\n"
     ]
    },
    {
     "name": "stderr",
     "output_type": "stream",
     "text": [
      "$CSCO: possibly delisted; no price data found  (1d 2023-12-29 -> 2024-01-28)\n"
     ]
    },
    {
     "name": "stdout",
     "output_type": "stream",
     "text": [
      "Error fetching data for CSCO: No historical data available for CSCO around 2024-01-28.\n"
     ]
    },
    {
     "name": "stderr",
     "output_type": "stream",
     "text": [
      "$QLTI: possibly delisted; no price data found  (1d 2023-12-29 -> 2024-01-28)\n"
     ]
    },
    {
     "name": "stdout",
     "output_type": "stream",
     "text": [
      "Error fetching data for QLTI: No historical data available for QLTI around 2024-01-28.\n"
     ]
    },
    {
     "name": "stderr",
     "output_type": "stream",
     "text": [
      "$NTGR: possibly delisted; no price data found  (1d 2023-12-29 -> 2024-01-28)\n"
     ]
    },
    {
     "name": "stdout",
     "output_type": "stream",
     "text": [
      "Error fetching data for NTGR: No historical data available for NTGR around 2024-01-28.\n"
     ]
    },
    {
     "name": "stderr",
     "output_type": "stream",
     "text": [
      "$BGSC: possibly delisted; no price data found  (1d 2023-12-29 -> 2024-01-28)\n"
     ]
    },
    {
     "name": "stdout",
     "output_type": "stream",
     "text": [
      "Error fetching data for BGSC: No historical data available for BGSC around 2024-01-28.\n"
     ]
    },
    {
     "name": "stderr",
     "output_type": "stream",
     "text": [
      "$MMYT: possibly delisted; no price data found  (1d 2023-12-29 -> 2024-01-28)\n"
     ]
    },
    {
     "name": "stdout",
     "output_type": "stream",
     "text": [
      "Error fetching data for MMYT: No historical data available for MMYT around 2024-01-28.\n"
     ]
    },
    {
     "name": "stderr",
     "output_type": "stream",
     "text": [
      "$ELOS: possibly delisted; no price data found  (1d 2023-12-29 -> 2024-01-28)\n"
     ]
    },
    {
     "name": "stdout",
     "output_type": "stream",
     "text": [
      "Error fetching data for ELOS: No historical data available for ELOS around 2024-01-28.\n"
     ]
    },
    {
     "name": "stderr",
     "output_type": "stream",
     "text": [
      "Failed to get ticker 'BMY' reason: Expecting value: line 1 column 1 (char 0)\n",
      "$BMY: possibly delisted; no timezone found\n"
     ]
    },
    {
     "name": "stdout",
     "output_type": "stream",
     "text": [
      "Error fetching data for BMY: No historical data available for BMY around 2024-01-28.\n"
     ]
    },
    {
     "name": "stderr",
     "output_type": "stream",
     "text": [
      "$PEP: possibly delisted; no price data found  (1d 2023-12-29 -> 2024-01-28)\n"
     ]
    },
    {
     "name": "stdout",
     "output_type": "stream",
     "text": [
      "Error fetching data for PEP: No historical data available for PEP around 2024-01-28.\n"
     ]
    },
    {
     "name": "stderr",
     "output_type": "stream",
     "text": [
      "$ZLTQ: possibly delisted; no price data found  (1d 2023-12-29 -> 2024-01-28)\n"
     ]
    },
    {
     "name": "stdout",
     "output_type": "stream",
     "text": [
      "Error fetching data for ZLTQ: No historical data available for ZLTQ around 2024-01-28.\n"
     ]
    },
    {
     "name": "stderr",
     "output_type": "stream",
     "text": [
      "Failed to get ticker 'GRP.U' reason: Expecting value: line 1 column 1 (char 0)\n",
      "$GRP.U: possibly delisted; no timezone found\n"
     ]
    },
    {
     "name": "stdout",
     "output_type": "stream",
     "text": [
      "Error fetching data for GRP.U: No historical data available for GRP.U around 2024-01-28.\n"
     ]
    },
    {
     "name": "stderr",
     "output_type": "stream",
     "text": [
      "$NRGY: possibly delisted; no price data found  (1d 2023-12-29 -> 2024-01-28)\n"
     ]
    },
    {
     "name": "stdout",
     "output_type": "stream",
     "text": [
      "Error fetching data for NRGY: No historical data available for NRGY around 2024-01-28.\n"
     ]
    },
    {
     "name": "stderr",
     "output_type": "stream",
     "text": [
      "Failed to get ticker 'GJS' reason: Expecting value: line 1 column 1 (char 0)\n",
      "$GJS: possibly delisted; no timezone found\n"
     ]
    },
    {
     "name": "stdout",
     "output_type": "stream",
     "text": [
      "Error fetching data for GJS: No historical data available for GJS around 2024-01-28.\n"
     ]
    },
    {
     "name": "stderr",
     "output_type": "stream",
     "text": [
      "$AHL-PC: possibly delisted; no price data found  (1d 2023-12-29 -> 2024-01-28)\n"
     ]
    },
    {
     "name": "stdout",
     "output_type": "stream",
     "text": [
      "Error fetching data for AHL-PC: No historical data available for AHL-PC around 2024-01-28.\n"
     ]
    },
    {
     "name": "stderr",
     "output_type": "stream",
     "text": [
      "$OXBT: possibly delisted; no price data found  (1d 2023-12-29 -> 2024-01-28)\n"
     ]
    },
    {
     "name": "stdout",
     "output_type": "stream",
     "text": [
      "Error fetching data for OXBT: No historical data available for OXBT around 2024-01-28.\n"
     ]
    },
    {
     "name": "stderr",
     "output_type": "stream",
     "text": [
      "$FEIC: possibly delisted; no price data found  (1d 2023-12-29 -> 2024-01-28)\n"
     ]
    },
    {
     "name": "stdout",
     "output_type": "stream",
     "text": [
      "Error fetching data for FEIC: No historical data available for FEIC around 2024-01-28.\n"
     ]
    },
    {
     "name": "stderr",
     "output_type": "stream",
     "text": [
      "$LIOX: possibly delisted; no price data found  (1d 2023-12-29 -> 2024-01-28)\n"
     ]
    },
    {
     "name": "stdout",
     "output_type": "stream",
     "text": [
      "Error fetching data for LIOX: No historical data available for LIOX around 2024-01-28.\n"
     ]
    },
    {
     "name": "stderr",
     "output_type": "stream",
     "text": [
      "Failed to get ticker 'CPE' reason: Expecting value: line 1 column 1 (char 0)\n",
      "$CPE: possibly delisted; no timezone found\n"
     ]
    },
    {
     "name": "stdout",
     "output_type": "stream",
     "text": [
      "Error fetching data for CPE: No historical data available for CPE around 2024-01-28.\n"
     ]
    },
    {
     "name": "stderr",
     "output_type": "stream",
     "text": [
      "$QNST: possibly delisted; no price data found  (1d 2023-12-29 -> 2024-01-28)\n"
     ]
    },
    {
     "name": "stdout",
     "output_type": "stream",
     "text": [
      "Error fetching data for QNST: No historical data available for QNST around 2024-01-28.\n"
     ]
    },
    {
     "name": "stderr",
     "output_type": "stream",
     "text": [
      "$KND: possibly delisted; no price data found  (1d 2023-12-29 -> 2024-01-28)\n"
     ]
    },
    {
     "name": "stdout",
     "output_type": "stream",
     "text": [
      "Error fetching data for KND: No historical data available for KND around 2024-01-28.\n"
     ]
    },
    {
     "name": "stderr",
     "output_type": "stream",
     "text": [
      "$BHLB: possibly delisted; no price data found  (1d 2023-12-29 -> 2024-01-28)\n"
     ]
    },
    {
     "name": "stdout",
     "output_type": "stream",
     "text": [
      "Error fetching data for BHLB: No historical data available for BHLB around 2024-01-28.\n"
     ]
    },
    {
     "name": "stderr",
     "output_type": "stream",
     "text": [
      "$HIO: possibly delisted; no price data found  (1d 2023-12-29 -> 2024-01-28)\n"
     ]
    },
    {
     "name": "stdout",
     "output_type": "stream",
     "text": [
      "Error fetching data for HIO: No historical data available for HIO around 2024-01-28.\n"
     ]
    },
    {
     "name": "stderr",
     "output_type": "stream",
     "text": [
      "$BOOM: possibly delisted; no price data found  (1d 2023-12-29 -> 2024-01-28)\n"
     ]
    },
    {
     "name": "stdout",
     "output_type": "stream",
     "text": [
      "Error fetching data for BOOM: No historical data available for BOOM around 2024-01-28.\n"
     ]
    },
    {
     "name": "stderr",
     "output_type": "stream",
     "text": [
      "Failed to get ticker 'SEM.W' reason: Expecting value: line 1 column 1 (char 0)\n",
      "$SEM.W: possibly delisted; no timezone found\n"
     ]
    },
    {
     "name": "stdout",
     "output_type": "stream",
     "text": [
      "Error fetching data for SEM.W: No historical data available for SEM.W around 2024-01-28.\n"
     ]
    },
    {
     "name": "stderr",
     "output_type": "stream",
     "text": [
      "$RBPAA: possibly delisted; no price data found  (1d 2023-12-29 -> 2024-01-28)\n"
     ]
    },
    {
     "name": "stdout",
     "output_type": "stream",
     "text": [
      "Error fetching data for RBPAA: No historical data available for RBPAA around 2024-01-28.\n"
     ]
    },
    {
     "name": "stderr",
     "output_type": "stream",
     "text": [
      "Failed to get ticker 'ZB-H' reason: Expecting value: line 1 column 1 (char 0)\n",
      "$ZB-H: possibly delisted; no timezone found\n"
     ]
    },
    {
     "name": "stdout",
     "output_type": "stream",
     "text": [
      "Error fetching data for ZB-H: No historical data available for ZB-H around 2024-01-28.\n"
     ]
    },
    {
     "name": "stderr",
     "output_type": "stream",
     "text": [
      "Failed to get ticker 'HBC-A' reason: Expecting value: line 1 column 1 (char 0)\n",
      "$HBC-A: possibly delisted; no timezone found\n"
     ]
    },
    {
     "name": "stdout",
     "output_type": "stream",
     "text": [
      "Error fetching data for HBC-A: No historical data available for HBC-A around 2024-01-28.\n"
     ]
    },
    {
     "name": "stderr",
     "output_type": "stream",
     "text": [
      "$NQM: possibly delisted; no price data found  (1d 2023-12-29 -> 2024-01-28)\n"
     ]
    },
    {
     "name": "stdout",
     "output_type": "stream",
     "text": [
      "Error fetching data for NQM: No historical data available for NQM around 2024-01-28.\n"
     ]
    },
    {
     "name": "stderr",
     "output_type": "stream",
     "text": [
      "$EHTH: possibly delisted; no price data found  (1d 2023-12-29 -> 2024-01-28)\n"
     ]
    },
    {
     "name": "stdout",
     "output_type": "stream",
     "text": [
      "Error fetching data for EHTH: No historical data available for EHTH around 2024-01-28.\n"
     ]
    },
    {
     "name": "stderr",
     "output_type": "stream",
     "text": [
      "$MHD: possibly delisted; no price data found  (1d 2023-12-29 -> 2024-01-28)\n"
     ]
    },
    {
     "name": "stdout",
     "output_type": "stream",
     "text": [
      "Error fetching data for MHD: No historical data available for MHD around 2024-01-28.\n"
     ]
    },
    {
     "name": "stderr",
     "output_type": "stream",
     "text": [
      "$HSOL: possibly delisted; no price data found  (1d 2023-12-29 -> 2024-01-28)\n"
     ]
    },
    {
     "name": "stdout",
     "output_type": "stream",
     "text": [
      "Error fetching data for HSOL: No historical data available for HSOL around 2024-01-28.\n"
     ]
    },
    {
     "name": "stderr",
     "output_type": "stream",
     "text": [
      "$BFS: possibly delisted; no price data found  (1d 2023-12-29 -> 2024-01-28)\n"
     ]
    },
    {
     "name": "stdout",
     "output_type": "stream",
     "text": [
      "Error fetching data for BFS: No historical data available for BFS around 2024-01-28.\n"
     ]
    },
    {
     "name": "stderr",
     "output_type": "stream",
     "text": [
      "$AZO: possibly delisted; no price data found  (1d 2023-12-29 -> 2024-01-28)\n"
     ]
    },
    {
     "name": "stdout",
     "output_type": "stream",
     "text": [
      "Error fetching data for AZO: No historical data available for AZO around 2024-01-28.\n"
     ]
    },
    {
     "name": "stderr",
     "output_type": "stream",
     "text": [
      "$ADUS: possibly delisted; no price data found  (1d 2023-12-29 -> 2024-01-28)\n"
     ]
    },
    {
     "name": "stdout",
     "output_type": "stream",
     "text": [
      "Error fetching data for ADUS: No historical data available for ADUS around 2024-01-28.\n"
     ]
    },
    {
     "name": "stderr",
     "output_type": "stream",
     "text": [
      "$ASTI: possibly delisted; no price data found  (1d 2023-12-29 -> 2024-01-28)\n"
     ]
    },
    {
     "name": "stdout",
     "output_type": "stream",
     "text": [
      "Error fetching data for ASTI: No historical data available for ASTI around 2024-01-28.\n"
     ]
    },
    {
     "name": "stderr",
     "output_type": "stream",
     "text": [
      "$GOLD: possibly delisted; no price data found  (1d 2023-12-29 -> 2024-01-28)\n"
     ]
    },
    {
     "name": "stdout",
     "output_type": "stream",
     "text": [
      "Error fetching data for GOLD: No historical data available for GOLD around 2024-01-28.\n"
     ]
    },
    {
     "name": "stderr",
     "output_type": "stream",
     "text": [
      "$GJH: possibly delisted; no price data found  (1d 2023-12-29 -> 2024-01-28)\n"
     ]
    },
    {
     "name": "stdout",
     "output_type": "stream",
     "text": [
      "Error fetching data for GJH: No historical data available for GJH around 2024-01-28.\n"
     ]
    },
    {
     "name": "stderr",
     "output_type": "stream",
     "text": [
      "Failed to get ticker 'REN' reason: Expecting value: line 1 column 1 (char 0)\n",
      "$REN: possibly delisted; no timezone found\n"
     ]
    },
    {
     "name": "stdout",
     "output_type": "stream",
     "text": [
      "Error fetching data for REN: No historical data available for REN around 2024-01-28.\n"
     ]
    },
    {
     "name": "stderr",
     "output_type": "stream",
     "text": [
      "$CAB: possibly delisted; no price data found  (1d 2023-12-29 -> 2024-01-28)\n"
     ]
    },
    {
     "name": "stdout",
     "output_type": "stream",
     "text": [
      "Error fetching data for CAB: No historical data available for CAB around 2024-01-28.\n"
     ]
    },
    {
     "name": "stderr",
     "output_type": "stream",
     "text": [
      "$SYT: possibly delisted; no price data found  (1d 2023-12-29 -> 2024-01-28)\n"
     ]
    },
    {
     "name": "stdout",
     "output_type": "stream",
     "text": [
      "Error fetching data for SYT: No historical data available for SYT around 2024-01-28.\n"
     ]
    },
    {
     "name": "stderr",
     "output_type": "stream",
     "text": [
      "$PMCS: possibly delisted; no price data found  (1d 2023-12-29 -> 2024-01-28)\n"
     ]
    },
    {
     "name": "stdout",
     "output_type": "stream",
     "text": [
      "Error fetching data for PMCS: No historical data available for PMCS around 2024-01-28.\n"
     ]
    },
    {
     "name": "stderr",
     "output_type": "stream",
     "text": [
      "$XONE: possibly delisted; no price data found  (1d 2023-12-29 -> 2024-01-28)\n"
     ]
    },
    {
     "name": "stdout",
     "output_type": "stream",
     "text": [
      "Error fetching data for XONE: No historical data available for XONE around 2024-01-28.\n"
     ]
    },
    {
     "name": "stderr",
     "output_type": "stream",
     "text": [
      "Failed to get ticker 'CADC' reason: Expecting value: line 1 column 1 (char 0)\n",
      "$CADC: possibly delisted; no timezone found\n"
     ]
    },
    {
     "name": "stdout",
     "output_type": "stream",
     "text": [
      "Error fetching data for CADC: No historical data available for CADC around 2024-01-28.\n"
     ]
    },
    {
     "name": "stderr",
     "output_type": "stream",
     "text": [
      "$MY: possibly delisted; no price data found  (1d 2023-12-29 -> 2024-01-28)\n"
     ]
    },
    {
     "name": "stdout",
     "output_type": "stream",
     "text": [
      "Error fetching data for MY: No historical data available for MY around 2024-01-28.\n"
     ]
    },
    {
     "name": "stderr",
     "output_type": "stream",
     "text": [
      "$PCAR: possibly delisted; no price data found  (1d 2023-12-29 -> 2024-01-28)\n"
     ]
    },
    {
     "name": "stdout",
     "output_type": "stream",
     "text": [
      "Error fetching data for PCAR: No historical data available for PCAR around 2024-01-28.\n"
     ]
    },
    {
     "name": "stderr",
     "output_type": "stream",
     "text": [
      "$AEH: possibly delisted; no price data found  (1d 2023-12-29 -> 2024-01-28)\n"
     ]
    },
    {
     "name": "stdout",
     "output_type": "stream",
     "text": [
      "Error fetching data for AEH: No historical data available for AEH around 2024-01-28.\n"
     ]
    },
    {
     "name": "stderr",
     "output_type": "stream",
     "text": [
      "$SD: possibly delisted; no price data found  (1d 2023-12-29 -> 2024-01-28)\n"
     ]
    },
    {
     "name": "stdout",
     "output_type": "stream",
     "text": [
      "Error fetching data for SD: No historical data available for SD around 2024-01-28.\n"
     ]
    },
    {
     "name": "stderr",
     "output_type": "stream",
     "text": [
      "$PPHM: possibly delisted; no price data found  (1d 2023-12-29 -> 2024-01-28)\n"
     ]
    },
    {
     "name": "stdout",
     "output_type": "stream",
     "text": [
      "Error fetching data for PPHM: No historical data available for PPHM around 2024-01-28.\n"
     ]
    },
    {
     "name": "stderr",
     "output_type": "stream",
     "text": [
      "$HON: possibly delisted; no price data found  (1d 2023-12-29 -> 2024-01-28)\n"
     ]
    },
    {
     "name": "stdout",
     "output_type": "stream",
     "text": [
      "Error fetching data for HON: No historical data available for HON around 2024-01-28.\n"
     ]
    },
    {
     "name": "stderr",
     "output_type": "stream",
     "text": [
      "$PB: possibly delisted; no price data found  (1d 2023-12-29 -> 2024-01-28)\n"
     ]
    },
    {
     "name": "stdout",
     "output_type": "stream",
     "text": [
      "Error fetching data for PB: No historical data available for PB around 2024-01-28.\n"
     ]
    },
    {
     "name": "stderr",
     "output_type": "stream",
     "text": [
      "Failed to get ticker 'USATP' reason: Expecting value: line 1 column 1 (char 0)\n",
      "$USATP: possibly delisted; no timezone found\n"
     ]
    },
    {
     "name": "stdout",
     "output_type": "stream",
     "text": [
      "Error fetching data for USATP: No historical data available for USATP around 2024-01-28.\n"
     ]
    },
    {
     "name": "stderr",
     "output_type": "stream",
     "text": [
      "$FDML: possibly delisted; no price data found  (1d 2023-12-29 -> 2024-01-28)\n"
     ]
    },
    {
     "name": "stdout",
     "output_type": "stream",
     "text": [
      "Error fetching data for FDML: No historical data available for FDML around 2024-01-28.\n"
     ]
    },
    {
     "name": "stderr",
     "output_type": "stream",
     "text": [
      "$KOPN: possibly delisted; no price data found  (1d 2023-12-29 -> 2024-01-28)\n"
     ]
    },
    {
     "name": "stdout",
     "output_type": "stream",
     "text": [
      "Error fetching data for KOPN: No historical data available for KOPN around 2024-01-28.\n"
     ]
    },
    {
     "name": "stderr",
     "output_type": "stream",
     "text": [
      "$UFPI: possibly delisted; no price data found  (1d 2023-12-29 -> 2024-01-28)\n"
     ]
    },
    {
     "name": "stdout",
     "output_type": "stream",
     "text": [
      "Error fetching data for UFPI: No historical data available for UFPI around 2024-01-28.\n"
     ]
    },
    {
     "name": "stderr",
     "output_type": "stream",
     "text": [
      "Failed to get ticker 'GUT-A' reason: Expecting value: line 1 column 1 (char 0)\n",
      "$GUT-A: possibly delisted; no timezone found\n"
     ]
    },
    {
     "name": "stdout",
     "output_type": "stream",
     "text": [
      "Error fetching data for GUT-A: No historical data available for GUT-A around 2024-01-28.\n"
     ]
    },
    {
     "name": "stderr",
     "output_type": "stream",
     "text": [
      "$DRWI: possibly delisted; no price data found  (1d 2023-12-29 -> 2024-01-28)\n"
     ]
    },
    {
     "name": "stdout",
     "output_type": "stream",
     "text": [
      "Error fetching data for DRWI: No historical data available for DRWI around 2024-01-28.\n"
     ]
    },
    {
     "name": "stderr",
     "output_type": "stream",
     "text": [
      "$CARZ: possibly delisted; no price data found  (1d 2023-12-29 -> 2024-01-28)\n"
     ]
    },
    {
     "name": "stdout",
     "output_type": "stream",
     "text": [
      "Error fetching data for CARZ: No historical data available for CARZ around 2024-01-28.\n"
     ]
    },
    {
     "name": "stderr",
     "output_type": "stream",
     "text": [
      "$DUKH: possibly delisted; no price data found  (1d 2023-12-29 -> 2024-01-28)\n"
     ]
    },
    {
     "name": "stdout",
     "output_type": "stream",
     "text": [
      "Error fetching data for DUKH: No historical data available for DUKH around 2024-01-28.\n"
     ]
    },
    {
     "name": "stderr",
     "output_type": "stream",
     "text": [
      "$PLCC: possibly delisted; no price data found  (1d 2023-12-29 -> 2024-01-28)\n"
     ]
    },
    {
     "name": "stdout",
     "output_type": "stream",
     "text": [
      "Error fetching data for PLCC: No historical data available for PLCC around 2024-01-28.\n"
     ]
    },
    {
     "name": "stderr",
     "output_type": "stream",
     "text": [
      "$SOXX: possibly delisted; no price data found  (1d 2023-12-29 -> 2024-01-28)\n"
     ]
    },
    {
     "name": "stdout",
     "output_type": "stream",
     "text": [
      "Error fetching data for SOXX: No historical data available for SOXX around 2024-01-28.\n"
     ]
    },
    {
     "name": "stderr",
     "output_type": "stream",
     "text": [
      "$RMBS: possibly delisted; no price data found  (1d 2023-12-29 -> 2024-01-28)\n"
     ]
    },
    {
     "name": "stdout",
     "output_type": "stream",
     "text": [
      "Error fetching data for RMBS: No historical data available for RMBS around 2024-01-28.\n"
     ]
    },
    {
     "name": "stderr",
     "output_type": "stream",
     "text": [
      "$ABBV: possibly delisted; no price data found  (1d 2023-12-29 -> 2024-01-28)\n"
     ]
    },
    {
     "name": "stdout",
     "output_type": "stream",
     "text": [
      "Error fetching data for ABBV: No historical data available for ABBV around 2024-01-28.\n"
     ]
    },
    {
     "name": "stderr",
     "output_type": "stream",
     "text": [
      "$SNA: possibly delisted; no price data found  (1d 2023-12-29 -> 2024-01-28)\n"
     ]
    },
    {
     "name": "stdout",
     "output_type": "stream",
     "text": [
      "Error fetching data for SNA: No historical data available for SNA around 2024-01-28.\n"
     ]
    },
    {
     "name": "stderr",
     "output_type": "stream",
     "text": [
      "$FFIC: possibly delisted; no price data found  (1d 2023-12-29 -> 2024-01-28)\n"
     ]
    },
    {
     "name": "stdout",
     "output_type": "stream",
     "text": [
      "Error fetching data for FFIC: No historical data available for FFIC around 2024-01-28.\n"
     ]
    },
    {
     "name": "stderr",
     "output_type": "stream",
     "text": [
      "$DV: possibly delisted; no price data found  (1d 2023-12-29 -> 2024-01-28)\n"
     ]
    },
    {
     "name": "stdout",
     "output_type": "stream",
     "text": [
      "Error fetching data for DV: No historical data available for DV around 2024-01-28.\n"
     ]
    },
    {
     "name": "stderr",
     "output_type": "stream",
     "text": [
      "$CLDT: possibly delisted; no price data found  (1d 2023-12-29 -> 2024-01-28)\n"
     ]
    },
    {
     "name": "stdout",
     "output_type": "stream",
     "text": [
      "Error fetching data for CLDT: No historical data available for CLDT around 2024-01-28.\n"
     ]
    },
    {
     "name": "stderr",
     "output_type": "stream",
     "text": [
      "$HLF: possibly delisted; no price data found  (1d 2023-12-29 -> 2024-01-28)\n"
     ]
    },
    {
     "name": "stdout",
     "output_type": "stream",
     "text": [
      "Error fetching data for HLF: No historical data available for HLF around 2024-01-28.\n"
     ]
    },
    {
     "name": "stderr",
     "output_type": "stream",
     "text": [
      "$DOM: possibly delisted; no price data found  (1d 2023-12-29 -> 2024-01-28)\n"
     ]
    },
    {
     "name": "stdout",
     "output_type": "stream",
     "text": [
      "Error fetching data for DOM: No historical data available for DOM around 2024-01-28.\n"
     ]
    },
    {
     "name": "stderr",
     "output_type": "stream",
     "text": [
      "$TXRH: possibly delisted; no price data found  (1d 2023-12-29 -> 2024-01-28)\n"
     ]
    },
    {
     "name": "stdout",
     "output_type": "stream",
     "text": [
      "Error fetching data for TXRH: No historical data available for TXRH around 2024-01-28.\n"
     ]
    },
    {
     "name": "stderr",
     "output_type": "stream",
     "text": [
      "$GTIM: possibly delisted; no price data found  (1d 2023-12-29 -> 2024-01-28)\n"
     ]
    },
    {
     "name": "stdout",
     "output_type": "stream",
     "text": [
      "Error fetching data for GTIM: No historical data available for GTIM around 2024-01-28.\n"
     ]
    },
    {
     "name": "stderr",
     "output_type": "stream",
     "text": [
      "Failed to get ticker 'STB' reason: Expecting value: line 1 column 1 (char 0)\n",
      "$STB: possibly delisted; no timezone found\n"
     ]
    },
    {
     "name": "stdout",
     "output_type": "stream",
     "text": [
      "Error fetching data for STB: No historical data available for STB around 2024-01-28.\n"
     ]
    },
    {
     "name": "stderr",
     "output_type": "stream",
     "text": [
      "$LEA: possibly delisted; no price data found  (1d 2023-12-29 -> 2024-01-28)\n"
     ]
    },
    {
     "name": "stdout",
     "output_type": "stream",
     "text": [
      "Error fetching data for LEA: No historical data available for LEA around 2024-01-28.\n"
     ]
    },
    {
     "name": "stderr",
     "output_type": "stream",
     "text": [
      "$EXL: possibly delisted; no price data found  (1d 2023-12-29 -> 2024-01-28)\n"
     ]
    },
    {
     "name": "stdout",
     "output_type": "stream",
     "text": [
      "Error fetching data for EXL: No historical data available for EXL around 2024-01-28.\n"
     ]
    },
    {
     "name": "stderr",
     "output_type": "stream",
     "text": [
      "$EQT: possibly delisted; no price data found  (1d 2023-12-29 -> 2024-01-28)\n"
     ]
    },
    {
     "name": "stdout",
     "output_type": "stream",
     "text": [
      "Error fetching data for EQT: No historical data available for EQT around 2024-01-28.\n"
     ]
    },
    {
     "name": "stderr",
     "output_type": "stream",
     "text": [
      "$ARX: possibly delisted; no price data found  (1d 2023-12-29 -> 2024-01-28)\n"
     ]
    },
    {
     "name": "stdout",
     "output_type": "stream",
     "text": [
      "Error fetching data for ARX: No historical data available for ARX around 2024-01-28.\n"
     ]
    },
    {
     "name": "stderr",
     "output_type": "stream",
     "text": [
      "$NMO: possibly delisted; no price data found  (1d 2023-12-29 -> 2024-01-28)\n"
     ]
    },
    {
     "name": "stdout",
     "output_type": "stream",
     "text": [
      "Error fetching data for NMO: No historical data available for NMO around 2024-01-28.\n"
     ]
    },
    {
     "name": "stderr",
     "output_type": "stream",
     "text": [
      "$IILG: possibly delisted; no price data found  (1d 2023-12-29 -> 2024-01-28)\n"
     ]
    },
    {
     "name": "stdout",
     "output_type": "stream",
     "text": [
      "Error fetching data for IILG: No historical data available for IILG around 2024-01-28.\n"
     ]
    },
    {
     "name": "stderr",
     "output_type": "stream",
     "text": [
      "Failed to get ticker 'ALL-A' reason: Expecting value: line 1 column 1 (char 0)\n",
      "$ALL-A: possibly delisted; no timezone found\n"
     ]
    },
    {
     "name": "stdout",
     "output_type": "stream",
     "text": [
      "Error fetching data for ALL-A: No historical data available for ALL-A around 2024-01-28.\n"
     ]
    },
    {
     "name": "stderr",
     "output_type": "stream",
     "text": [
      "Failed to get ticker 'SLA' reason: Expecting value: line 1 column 1 (char 0)\n",
      "$SLA: possibly delisted; no timezone found\n"
     ]
    },
    {
     "name": "stdout",
     "output_type": "stream",
     "text": [
      "Error fetching data for SLA: No historical data available for SLA around 2024-01-28.\n"
     ]
    },
    {
     "name": "stderr",
     "output_type": "stream",
     "text": [
      "$BDN: possibly delisted; no price data found  (1d 2023-12-29 -> 2024-01-28)\n"
     ]
    },
    {
     "name": "stdout",
     "output_type": "stream",
     "text": [
      "Error fetching data for BDN: No historical data available for BDN around 2024-01-28.\n"
     ]
    },
    {
     "name": "stderr",
     "output_type": "stream",
     "text": [
      "Failed to get ticker 'CHC.W' reason: Expecting value: line 1 column 1 (char 0)\n",
      "$CHC.W: possibly delisted; no timezone found\n"
     ]
    },
    {
     "name": "stdout",
     "output_type": "stream",
     "text": [
      "Error fetching data for CHC.W: No historical data available for CHC.W around 2024-01-28.\n"
     ]
    },
    {
     "name": "stderr",
     "output_type": "stream",
     "text": [
      "Failed to get ticker 'MYL' reason: Expecting value: line 1 column 1 (char 0)\n",
      "$MYL: possibly delisted; no timezone found\n"
     ]
    },
    {
     "name": "stdout",
     "output_type": "stream",
     "text": [
      "Error fetching data for MYL: No historical data available for MYL around 2024-01-28.\n"
     ]
    },
    {
     "name": "stderr",
     "output_type": "stream",
     "text": [
      "$SOHO: possibly delisted; no price data found  (1d 2023-12-29 -> 2024-01-28)\n"
     ]
    },
    {
     "name": "stdout",
     "output_type": "stream",
     "text": [
      "Error fetching data for SOHO: No historical data available for SOHO around 2024-01-28.\n"
     ]
    },
    {
     "name": "stderr",
     "output_type": "stream",
     "text": [
      "$SSYS: possibly delisted; no price data found  (1d 2023-12-29 -> 2024-01-28)\n"
     ]
    },
    {
     "name": "stdout",
     "output_type": "stream",
     "text": [
      "Error fetching data for SSYS: No historical data available for SSYS around 2024-01-28.\n"
     ]
    },
    {
     "name": "stderr",
     "output_type": "stream",
     "text": [
      "Failed to get ticker 'ERW' reason: Expecting value: line 1 column 1 (char 0)\n",
      "$ERW: possibly delisted; no timezone found\n"
     ]
    },
    {
     "name": "stdout",
     "output_type": "stream",
     "text": [
      "Error fetching data for ERW: No historical data available for ERW around 2024-01-28.\n"
     ]
    },
    {
     "name": "stderr",
     "output_type": "stream",
     "text": [
      "$NSSC: possibly delisted; no price data found  (1d 2023-12-29 -> 2024-01-28)\n"
     ]
    },
    {
     "name": "stdout",
     "output_type": "stream",
     "text": [
      "Error fetching data for NSSC: No historical data available for NSSC around 2024-01-28.\n"
     ]
    },
    {
     "name": "stderr",
     "output_type": "stream",
     "text": [
      "Failed to get ticker 'EVAL' reason: Expecting value: line 1 column 1 (char 0)\n",
      "$EVAL: possibly delisted; no timezone found\n"
     ]
    },
    {
     "name": "stdout",
     "output_type": "stream",
     "text": [
      "Error fetching data for EVAL: No historical data available for EVAL around 2024-01-28.\n"
     ]
    },
    {
     "name": "stderr",
     "output_type": "stream",
     "text": [
      "$MKTG: possibly delisted; no price data found  (1d 2023-12-29 -> 2024-01-28)\n"
     ]
    },
    {
     "name": "stdout",
     "output_type": "stream",
     "text": [
      "Error fetching data for MKTG: No historical data available for MKTG around 2024-01-28.\n"
     ]
    },
    {
     "name": "stderr",
     "output_type": "stream",
     "text": [
      "$GAI: possibly delisted; no price data found  (1d 2023-12-29 -> 2024-01-28)\n"
     ]
    },
    {
     "name": "stdout",
     "output_type": "stream",
     "text": [
      "Error fetching data for GAI: No historical data available for GAI around 2024-01-28.\n"
     ]
    },
    {
     "name": "stderr",
     "output_type": "stream",
     "text": [
      "Failed to get ticker 'SPAR' reason: Expecting value: line 1 column 1 (char 0)\n",
      "$SPAR: possibly delisted; no timezone found\n"
     ]
    },
    {
     "name": "stdout",
     "output_type": "stream",
     "text": [
      "Error fetching data for SPAR: No historical data available for SPAR around 2024-01-28.\n"
     ]
    },
    {
     "name": "stderr",
     "output_type": "stream",
     "text": [
      "$PGZ: possibly delisted; no price data found  (1d 2023-12-29 -> 2024-01-28)\n"
     ]
    },
    {
     "name": "stdout",
     "output_type": "stream",
     "text": [
      "Error fetching data for PGZ: No historical data available for PGZ around 2024-01-28.\n"
     ]
    },
    {
     "name": "stderr",
     "output_type": "stream",
     "text": [
      "$CAM: possibly delisted; no price data found  (1d 2023-12-29 -> 2024-01-28)\n"
     ]
    },
    {
     "name": "stdout",
     "output_type": "stream",
     "text": [
      "Error fetching data for CAM: No historical data available for CAM around 2024-01-28.\n"
     ]
    },
    {
     "name": "stderr",
     "output_type": "stream",
     "text": [
      "Failed to get ticker 'DFT-B' reason: Expecting value: line 1 column 1 (char 0)\n",
      "$DFT-B: possibly delisted; no timezone found\n"
     ]
    },
    {
     "name": "stdout",
     "output_type": "stream",
     "text": [
      "Error fetching data for DFT-B: No historical data available for DFT-B around 2024-01-28.\n"
     ]
    },
    {
     "name": "stderr",
     "output_type": "stream",
     "text": [
      "$CME: possibly delisted; no price data found  (1d 2023-12-29 -> 2024-01-28)\n"
     ]
    },
    {
     "name": "stdout",
     "output_type": "stream",
     "text": [
      "Error fetching data for CME: No historical data available for CME around 2024-01-28.\n"
     ]
    },
    {
     "name": "stderr",
     "output_type": "stream",
     "text": [
      "$IRM: possibly delisted; no price data found  (1d 2023-12-29 -> 2024-01-28)\n"
     ]
    },
    {
     "name": "stdout",
     "output_type": "stream",
     "text": [
      "Error fetching data for IRM: No historical data available for IRM around 2024-01-28.\n"
     ]
    },
    {
     "name": "stderr",
     "output_type": "stream",
     "text": [
      "$HCI: possibly delisted; no price data found  (1d 2023-12-29 -> 2024-01-28)\n"
     ]
    },
    {
     "name": "stdout",
     "output_type": "stream",
     "text": [
      "Error fetching data for HCI: No historical data available for HCI around 2024-01-28.\n"
     ]
    },
    {
     "name": "stderr",
     "output_type": "stream",
     "text": [
      "$ACN: possibly delisted; no price data found  (1d 2023-12-29 -> 2024-01-28)\n"
     ]
    },
    {
     "name": "stdout",
     "output_type": "stream",
     "text": [
      "Error fetching data for ACN: No historical data available for ACN around 2024-01-28.\n"
     ]
    },
    {
     "name": "stderr",
     "output_type": "stream",
     "text": [
      "$HYI: possibly delisted; no price data found  (1d 2023-12-29 -> 2024-01-28)\n"
     ]
    },
    {
     "name": "stdout",
     "output_type": "stream",
     "text": [
      "Error fetching data for HYI: No historical data available for HYI around 2024-01-28.\n"
     ]
    },
    {
     "name": "stderr",
     "output_type": "stream",
     "text": [
      "$PVH: possibly delisted; no price data found  (1d 2023-12-29 -> 2024-01-28)\n"
     ]
    },
    {
     "name": "stdout",
     "output_type": "stream",
     "text": [
      "Error fetching data for PVH: No historical data available for PVH around 2024-01-28.\n"
     ]
    },
    {
     "name": "stderr",
     "output_type": "stream",
     "text": [
      "Failed to get ticker 'MCC' reason: Expecting value: line 1 column 1 (char 0)\n",
      "$MCC: possibly delisted; no timezone found\n"
     ]
    },
    {
     "name": "stdout",
     "output_type": "stream",
     "text": [
      "Error fetching data for MCC: No historical data available for MCC around 2024-01-28.\n"
     ]
    },
    {
     "name": "stderr",
     "output_type": "stream",
     "text": [
      "Failed to get ticker 'CSI' reason: Expecting value: line 1 column 1 (char 0)\n",
      "$CSI: possibly delisted; no timezone found\n"
     ]
    },
    {
     "name": "stdout",
     "output_type": "stream",
     "text": [
      "Error fetching data for CSI: No historical data available for CSI around 2024-01-28.\n"
     ]
    },
    {
     "name": "stderr",
     "output_type": "stream",
     "text": [
      "$JAH: possibly delisted; no price data found  (1d 2023-12-29 -> 2024-01-28)\n"
     ]
    },
    {
     "name": "stdout",
     "output_type": "stream",
     "text": [
      "Error fetching data for JAH: No historical data available for JAH around 2024-01-28.\n"
     ]
    },
    {
     "name": "stderr",
     "output_type": "stream",
     "text": [
      "$GYC: possibly delisted; no price data found  (1d 2023-12-29 -> 2024-01-28)\n"
     ]
    },
    {
     "name": "stdout",
     "output_type": "stream",
     "text": [
      "Error fetching data for GYC: No historical data available for GYC around 2024-01-28.\n"
     ]
    },
    {
     "name": "stderr",
     "output_type": "stream",
     "text": [
      "$ROIAK: possibly delisted; no price data found  (1d 2023-12-29 -> 2024-01-28)\n"
     ]
    },
    {
     "name": "stdout",
     "output_type": "stream",
     "text": [
      "Error fetching data for ROIAK: No historical data available for ROIAK around 2024-01-28.\n"
     ]
    },
    {
     "name": "stderr",
     "output_type": "stream",
     "text": [
      "$CNMD: possibly delisted; no price data found  (1d 2023-12-29 -> 2024-01-28)\n"
     ]
    },
    {
     "name": "stdout",
     "output_type": "stream",
     "text": [
      "Error fetching data for CNMD: No historical data available for CNMD around 2024-01-28.\n"
     ]
    },
    {
     "name": "stderr",
     "output_type": "stream",
     "text": [
      "$UVSP: possibly delisted; no price data found  (1d 2023-12-29 -> 2024-01-28)\n"
     ]
    },
    {
     "name": "stdout",
     "output_type": "stream",
     "text": [
      "Error fetching data for UVSP: No historical data available for UVSP around 2024-01-28.\n"
     ]
    },
    {
     "name": "stderr",
     "output_type": "stream",
     "text": [
      "$LPHI: possibly delisted; no price data found  (1d 2023-12-29 -> 2024-01-28)\n"
     ]
    },
    {
     "name": "stdout",
     "output_type": "stream",
     "text": [
      "Error fetching data for LPHI: No historical data available for LPHI around 2024-01-28.\n"
     ]
    },
    {
     "name": "stderr",
     "output_type": "stream",
     "text": [
      "$AVA: possibly delisted; no price data found  (1d 2023-12-29 -> 2024-01-28)\n"
     ]
    },
    {
     "name": "stdout",
     "output_type": "stream",
     "text": [
      "Error fetching data for AVA: No historical data available for AVA around 2024-01-28.\n"
     ]
    },
    {
     "name": "stderr",
     "output_type": "stream",
     "text": [
      "Failed to get ticker 'INN-A' reason: Expecting value: line 1 column 1 (char 0)\n",
      "$INN-A: possibly delisted; no timezone found\n"
     ]
    },
    {
     "name": "stdout",
     "output_type": "stream",
     "text": [
      "Error fetching data for INN-A: No historical data available for INN-A around 2024-01-28.\n"
     ]
    },
    {
     "name": "stderr",
     "output_type": "stream",
     "text": [
      "$PFN: possibly delisted; no price data found  (1d 2023-12-29 -> 2024-01-28)\n"
     ]
    },
    {
     "name": "stdout",
     "output_type": "stream",
     "text": [
      "Error fetching data for PFN: No historical data available for PFN around 2024-01-28.\n"
     ]
    },
    {
     "name": "stderr",
     "output_type": "stream",
     "text": [
      "$DGAS: possibly delisted; no price data found  (1d 2023-12-29 -> 2024-01-28)\n"
     ]
    },
    {
     "name": "stdout",
     "output_type": "stream",
     "text": [
      "Error fetching data for DGAS: No historical data available for DGAS around 2024-01-28.\n"
     ]
    },
    {
     "name": "stderr",
     "output_type": "stream",
     "text": [
      "$FUR: possibly delisted; no price data found  (1d 2023-12-29 -> 2024-01-28)\n"
     ]
    },
    {
     "name": "stdout",
     "output_type": "stream",
     "text": [
      "Error fetching data for FUR: No historical data available for FUR around 2024-01-28.\n"
     ]
    },
    {
     "name": "stderr",
     "output_type": "stream",
     "text": [
      "$HME: possibly delisted; no price data found  (1d 2023-12-29 -> 2024-01-28)\n"
     ]
    },
    {
     "name": "stdout",
     "output_type": "stream",
     "text": [
      "Error fetching data for HME: No historical data available for HME around 2024-01-28.\n"
     ]
    },
    {
     "name": "stderr",
     "output_type": "stream",
     "text": [
      "$RMT: possibly delisted; no price data found  (1d 2023-12-29 -> 2024-01-28)\n"
     ]
    },
    {
     "name": "stdout",
     "output_type": "stream",
     "text": [
      "Error fetching data for RMT: No historical data available for RMT around 2024-01-28.\n"
     ]
    },
    {
     "name": "stderr",
     "output_type": "stream",
     "text": [
      "Failed to get ticker 'LEAP' reason: Expecting value: line 1 column 1 (char 0)\n",
      "$LEAP: possibly delisted; no timezone found\n"
     ]
    },
    {
     "name": "stdout",
     "output_type": "stream",
     "text": [
      "Error fetching data for LEAP: No historical data available for LEAP around 2024-01-28.\n"
     ]
    },
    {
     "name": "stderr",
     "output_type": "stream",
     "text": [
      "Failed to get ticker 'ELA' reason: Expecting value: line 1 column 1 (char 0)\n",
      "$ELA: possibly delisted; no timezone found\n"
     ]
    },
    {
     "name": "stdout",
     "output_type": "stream",
     "text": [
      "Error fetching data for ELA: No historical data available for ELA around 2024-01-28.\n"
     ]
    },
    {
     "name": "stderr",
     "output_type": "stream",
     "text": [
      "$LYV: possibly delisted; no price data found  (1d 2023-12-29 -> 2024-01-28)\n"
     ]
    },
    {
     "name": "stdout",
     "output_type": "stream",
     "text": [
      "Error fetching data for LYV: No historical data available for LYV around 2024-01-28.\n"
     ]
    },
    {
     "name": "stderr",
     "output_type": "stream",
     "text": [
      "$CCIX: possibly delisted; no price data found  (1d 2023-12-29 -> 2024-01-28)\n"
     ]
    },
    {
     "name": "stdout",
     "output_type": "stream",
     "text": [
      "Error fetching data for CCIX: No historical data available for CCIX around 2024-01-28.\n"
     ]
    },
    {
     "name": "stderr",
     "output_type": "stream",
     "text": [
      "Failed to get ticker 'AFC' reason: Expecting value: line 1 column 1 (char 0)\n",
      "$AFC: possibly delisted; no timezone found\n"
     ]
    },
    {
     "name": "stdout",
     "output_type": "stream",
     "text": [
      "Error fetching data for AFC: No historical data available for AFC around 2024-01-28.\n"
     ]
    },
    {
     "name": "stderr",
     "output_type": "stream",
     "text": [
      "$CG: possibly delisted; no price data found  (1d 2023-12-29 -> 2024-01-28)\n"
     ]
    },
    {
     "name": "stdout",
     "output_type": "stream",
     "text": [
      "Error fetching data for CG: No historical data available for CG around 2024-01-28.\n"
     ]
    },
    {
     "name": "stderr",
     "output_type": "stream",
     "text": [
      "$DWA: possibly delisted; no price data found  (1d 2023-12-29 -> 2024-01-28)\n"
     ]
    },
    {
     "name": "stdout",
     "output_type": "stream",
     "text": [
      "Error fetching data for DWA: No historical data available for DWA around 2024-01-28.\n"
     ]
    },
    {
     "name": "stderr",
     "output_type": "stream",
     "text": [
      "Failed to get ticker 'SONA' reason: Expecting value: line 1 column 1 (char 0)\n",
      "$SONA: possibly delisted; no timezone found\n"
     ]
    },
    {
     "name": "stdout",
     "output_type": "stream",
     "text": [
      "Error fetching data for SONA: No historical data available for SONA around 2024-01-28.\n"
     ]
    },
    {
     "name": "stderr",
     "output_type": "stream",
     "text": [
      "Failed to get ticker 'BMTC' reason: Expecting value: line 1 column 1 (char 0)\n",
      "$BMTC: possibly delisted; no timezone found\n"
     ]
    },
    {
     "name": "stdout",
     "output_type": "stream",
     "text": [
      "Error fetching data for BMTC: No historical data available for BMTC around 2024-01-28.\n"
     ]
    },
    {
     "name": "stderr",
     "output_type": "stream",
     "text": [
      "$NEOG: possibly delisted; no price data found  (1d 2023-12-29 -> 2024-01-28)\n"
     ]
    },
    {
     "name": "stdout",
     "output_type": "stream",
     "text": [
      "Error fetching data for NEOG: No historical data available for NEOG around 2024-01-28.\n"
     ]
    },
    {
     "name": "stderr",
     "output_type": "stream",
     "text": [
      "$PVFC: possibly delisted; no price data found  (1d 2023-12-29 -> 2024-01-28)\n"
     ]
    },
    {
     "name": "stdout",
     "output_type": "stream",
     "text": [
      "Error fetching data for PVFC: No historical data available for PVFC around 2024-01-28.\n"
     ]
    },
    {
     "name": "stderr",
     "output_type": "stream",
     "text": [
      "Failed to get ticker 'SYNL' reason: Expecting value: line 1 column 1 (char 0)\n",
      "$SYNL: possibly delisted; no timezone found\n"
     ]
    },
    {
     "name": "stdout",
     "output_type": "stream",
     "text": [
      "Error fetching data for SYNL: No historical data available for SYNL around 2024-01-28.\n"
     ]
    },
    {
     "name": "stderr",
     "output_type": "stream",
     "text": [
      "Failed to get ticker 'LSE-B' reason: Expecting value: line 1 column 1 (char 0)\n",
      "$LSE-B: possibly delisted; no timezone found\n"
     ]
    },
    {
     "name": "stdout",
     "output_type": "stream",
     "text": [
      "Error fetching data for LSE-B: No historical data available for LSE-B around 2024-01-28.\n"
     ]
    },
    {
     "name": "stderr",
     "output_type": "stream",
     "text": [
      "$ARE: possibly delisted; no price data found  (1d 2023-12-29 -> 2024-01-28)\n"
     ]
    },
    {
     "name": "stdout",
     "output_type": "stream",
     "text": [
      "Error fetching data for ARE: No historical data available for ARE around 2024-01-28.\n"
     ]
    },
    {
     "name": "stderr",
     "output_type": "stream",
     "text": [
      "$MOV: possibly delisted; no price data found  (1d 2023-12-29 -> 2024-01-28)\n"
     ]
    },
    {
     "name": "stdout",
     "output_type": "stream",
     "text": [
      "Error fetching data for MOV: No historical data available for MOV around 2024-01-28.\n"
     ]
    },
    {
     "name": "stderr",
     "output_type": "stream",
     "text": [
      "Failed to get ticker 'AU-A' reason: Expecting value: line 1 column 1 (char 0)\n",
      "$AU-A: possibly delisted; no timezone found\n"
     ]
    },
    {
     "name": "stdout",
     "output_type": "stream",
     "text": [
      "Error fetching data for AU-A: No historical data available for AU-A around 2024-01-28.\n"
     ]
    },
    {
     "name": "stderr",
     "output_type": "stream",
     "text": [
      "$ADRD: possibly delisted; no price data found  (1d 2023-12-29 -> 2024-01-28)\n"
     ]
    },
    {
     "name": "stdout",
     "output_type": "stream",
     "text": [
      "Error fetching data for ADRD: No historical data available for ADRD around 2024-01-28.\n"
     ]
    },
    {
     "name": "stderr",
     "output_type": "stream",
     "text": [
      "Failed to get ticker 'ABB' reason: Expecting value: line 1 column 1 (char 0)\n",
      "$ABB: possibly delisted; no timezone found\n"
     ]
    },
    {
     "name": "stdout",
     "output_type": "stream",
     "text": [
      "Error fetching data for ABB: No historical data available for ABB around 2024-01-28.\n"
     ]
    },
    {
     "name": "stderr",
     "output_type": "stream",
     "text": [
      "$FINL: possibly delisted; no price data found  (1d 2023-12-29 -> 2024-01-28)\n"
     ]
    },
    {
     "name": "stdout",
     "output_type": "stream",
     "text": [
      "Error fetching data for FINL: No historical data available for FINL around 2024-01-28.\n"
     ]
    },
    {
     "name": "stderr",
     "output_type": "stream",
     "text": [
      "$KMG: possibly delisted; no price data found  (1d 2023-12-29 -> 2024-01-28)\n"
     ]
    },
    {
     "name": "stdout",
     "output_type": "stream",
     "text": [
      "Error fetching data for KMG: No historical data available for KMG around 2024-01-28.\n"
     ]
    },
    {
     "name": "stderr",
     "output_type": "stream",
     "text": [
      "Failed to get ticker 'AMP-A' reason: Expecting value: line 1 column 1 (char 0)\n",
      "$AMP-A: possibly delisted; no timezone found\n"
     ]
    },
    {
     "name": "stdout",
     "output_type": "stream",
     "text": [
      "Error fetching data for AMP-A: No historical data available for AMP-A around 2024-01-28.\n"
     ]
    },
    {
     "name": "stderr",
     "output_type": "stream",
     "text": [
      "Failed to get ticker 'GLBZ' reason: Expecting value: line 1 column 1 (char 0)\n",
      "$GLBZ: possibly delisted; no timezone found\n"
     ]
    },
    {
     "name": "stdout",
     "output_type": "stream",
     "text": [
      "Error fetching data for GLBZ: No historical data available for GLBZ around 2024-01-28.\n"
     ]
    },
    {
     "name": "stderr",
     "output_type": "stream",
     "text": [
      "$ST: possibly delisted; no price data found  (1d 2023-12-29 -> 2024-01-28)\n"
     ]
    },
    {
     "name": "stdout",
     "output_type": "stream",
     "text": [
      "Error fetching data for ST: No historical data available for ST around 2024-01-28.\n"
     ]
    },
    {
     "name": "stderr",
     "output_type": "stream",
     "text": [
      "Failed to get ticker 'BBBY' reason: Expecting value: line 1 column 1 (char 0)\n",
      "$BBBY: possibly delisted; no timezone found\n"
     ]
    },
    {
     "name": "stdout",
     "output_type": "stream",
     "text": [
      "Error fetching data for BBBY: No historical data available for BBBY around 2024-01-28.\n"
     ]
    },
    {
     "name": "stderr",
     "output_type": "stream",
     "text": [
      "Failed to get ticker 'GDP-C' reason: Expecting value: line 1 column 1 (char 0)\n",
      "$GDP-C: possibly delisted; no timezone found\n"
     ]
    },
    {
     "name": "stdout",
     "output_type": "stream",
     "text": [
      "Error fetching data for GDP-C: No historical data available for GDP-C around 2024-01-28.\n"
     ]
    },
    {
     "name": "stderr",
     "output_type": "stream",
     "text": [
      "$INDY: possibly delisted; no price data found  (1d 2023-12-29 -> 2024-01-28)\n"
     ]
    },
    {
     "name": "stdout",
     "output_type": "stream",
     "text": [
      "Error fetching data for INDY: No historical data available for INDY around 2024-01-28.\n"
     ]
    },
    {
     "name": "stderr",
     "output_type": "stream",
     "text": [
      "$PRAA: possibly delisted; no price data found  (1d 2023-12-29 -> 2024-01-28)\n"
     ]
    },
    {
     "name": "stdout",
     "output_type": "stream",
     "text": [
      "Error fetching data for PRAA: No historical data available for PRAA around 2024-01-28.\n"
     ]
    },
    {
     "name": "stderr",
     "output_type": "stream",
     "text": [
      "$SMPL: possibly delisted; no price data found  (1d 2023-12-29 -> 2024-01-28)\n"
     ]
    },
    {
     "name": "stdout",
     "output_type": "stream",
     "text": [
      "Error fetching data for SMPL: No historical data available for SMPL around 2024-01-28.\n"
     ]
    },
    {
     "name": "stderr",
     "output_type": "stream",
     "text": [
      "$BFAM: possibly delisted; no price data found  (1d 2023-12-29 -> 2024-01-28)\n"
     ]
    },
    {
     "name": "stdout",
     "output_type": "stream",
     "text": [
      "Error fetching data for BFAM: No historical data available for BFAM around 2024-01-28.\n"
     ]
    },
    {
     "name": "stderr",
     "output_type": "stream",
     "text": [
      "$LZB: possibly delisted; no price data found  (1d 2023-12-29 -> 2024-01-28)\n"
     ]
    },
    {
     "name": "stdout",
     "output_type": "stream",
     "text": [
      "Error fetching data for LZB: No historical data available for LZB around 2024-01-28.\n"
     ]
    },
    {
     "name": "stderr",
     "output_type": "stream",
     "text": [
      "$ROK: possibly delisted; no price data found  (1d 2023-12-29 -> 2024-01-28)\n"
     ]
    },
    {
     "name": "stdout",
     "output_type": "stream",
     "text": [
      "Error fetching data for ROK: No historical data available for ROK around 2024-01-28.\n"
     ]
    },
    {
     "name": "stderr",
     "output_type": "stream",
     "text": [
      "$HTLF: possibly delisted; no price data found  (1d 2023-12-29 -> 2024-01-28)\n"
     ]
    },
    {
     "name": "stdout",
     "output_type": "stream",
     "text": [
      "Error fetching data for HTLF: No historical data available for HTLF around 2024-01-28.\n"
     ]
    },
    {
     "name": "stderr",
     "output_type": "stream",
     "text": [
      "$MFLX: possibly delisted; no price data found  (1d 2023-12-29 -> 2024-01-28)\n"
     ]
    },
    {
     "name": "stdout",
     "output_type": "stream",
     "text": [
      "Error fetching data for MFLX: No historical data available for MFLX around 2024-01-28.\n"
     ]
    },
    {
     "name": "stderr",
     "output_type": "stream",
     "text": [
      "$ALKS: possibly delisted; no price data found  (1d 2023-12-29 -> 2024-01-28)\n"
     ]
    },
    {
     "name": "stdout",
     "output_type": "stream",
     "text": [
      "Error fetching data for ALKS: No historical data available for ALKS around 2024-01-28.\n"
     ]
    },
    {
     "name": "stderr",
     "output_type": "stream",
     "text": [
      "$ANGO: possibly delisted; no price data found  (1d 2023-12-29 -> 2024-01-28)\n"
     ]
    },
    {
     "name": "stdout",
     "output_type": "stream",
     "text": [
      "Error fetching data for ANGO: No historical data available for ANGO around 2024-01-28.\n"
     ]
    },
    {
     "name": "stderr",
     "output_type": "stream",
     "text": [
      "$YPF: possibly delisted; no price data found  (1d 2023-12-29 -> 2024-01-28)\n"
     ]
    },
    {
     "name": "stdout",
     "output_type": "stream",
     "text": [
      "Error fetching data for YPF: No historical data available for YPF around 2024-01-28.\n"
     ]
    },
    {
     "name": "stderr",
     "output_type": "stream",
     "text": [
      "$MWR: possibly delisted; no price data found  (1d 2023-12-29 -> 2024-01-28)\n"
     ]
    },
    {
     "name": "stdout",
     "output_type": "stream",
     "text": [
      "Error fetching data for MWR: No historical data available for MWR around 2024-01-28.\n"
     ]
    },
    {
     "name": "stderr",
     "output_type": "stream",
     "text": [
      "$TC: possibly delisted; no price data found  (1d 2023-12-29 -> 2024-01-28)\n"
     ]
    },
    {
     "name": "stdout",
     "output_type": "stream",
     "text": [
      "Error fetching data for TC: No historical data available for TC around 2024-01-28.\n"
     ]
    },
    {
     "name": "stderr",
     "output_type": "stream",
     "text": [
      "$WABC: possibly delisted; no price data found  (1d 2023-12-29 -> 2024-01-28)\n"
     ]
    },
    {
     "name": "stdout",
     "output_type": "stream",
     "text": [
      "Error fetching data for WABC: No historical data available for WABC around 2024-01-28.\n"
     ]
    },
    {
     "name": "stderr",
     "output_type": "stream",
     "text": [
      "$BECN: possibly delisted; no price data found  (1d 2023-12-29 -> 2024-01-28)\n"
     ]
    },
    {
     "name": "stdout",
     "output_type": "stream",
     "text": [
      "Error fetching data for BECN: No historical data available for BECN around 2024-01-28.\n"
     ]
    },
    {
     "name": "stderr",
     "output_type": "stream",
     "text": [
      "$ORRF: possibly delisted; no price data found  (1d 2023-12-29 -> 2024-01-28)\n"
     ]
    },
    {
     "name": "stdout",
     "output_type": "stream",
     "text": [
      "Error fetching data for ORRF: No historical data available for ORRF around 2024-01-28.\n"
     ]
    },
    {
     "name": "stderr",
     "output_type": "stream",
     "text": [
      "$PVA: possibly delisted; no price data found  (1d 2023-12-29 -> 2024-01-28)\n"
     ]
    },
    {
     "name": "stdout",
     "output_type": "stream",
     "text": [
      "Error fetching data for PVA: No historical data available for PVA around 2024-01-28.\n"
     ]
    },
    {
     "name": "stderr",
     "output_type": "stream",
     "text": [
      "$IDG: possibly delisted; no price data found  (1d 2023-12-29 -> 2024-01-28)\n"
     ]
    },
    {
     "name": "stdout",
     "output_type": "stream",
     "text": [
      "Error fetching data for IDG: No historical data available for IDG around 2024-01-28.\n"
     ]
    },
    {
     "name": "stderr",
     "output_type": "stream",
     "text": [
      "$TATT: possibly delisted; no price data found  (1d 2023-12-29 -> 2024-01-28)\n"
     ]
    },
    {
     "name": "stdout",
     "output_type": "stream",
     "text": [
      "Error fetching data for TATT: No historical data available for TATT around 2024-01-28.\n"
     ]
    },
    {
     "name": "stderr",
     "output_type": "stream",
     "text": [
      "$ISHG: possibly delisted; no price data found  (1d 2023-12-29 -> 2024-01-28)\n"
     ]
    },
    {
     "name": "stdout",
     "output_type": "stream",
     "text": [
      "Error fetching data for ISHG: No historical data available for ISHG around 2024-01-28.\n"
     ]
    },
    {
     "name": "stderr",
     "output_type": "stream",
     "text": [
      "Failed to get ticker 'PNK' reason: Expecting value: line 1 column 1 (char 0)\n",
      "$PNK: possibly delisted; no timezone found\n"
     ]
    },
    {
     "name": "stdout",
     "output_type": "stream",
     "text": [
      "Error fetching data for PNK: No historical data available for PNK around 2024-01-28.\n"
     ]
    },
    {
     "name": "stderr",
     "output_type": "stream",
     "text": [
      "$NLST: possibly delisted; no price data found  (1d 2023-12-29 -> 2024-01-28)\n"
     ]
    },
    {
     "name": "stdout",
     "output_type": "stream",
     "text": [
      "Error fetching data for NLST: No historical data available for NLST around 2024-01-28.\n"
     ]
    },
    {
     "name": "stderr",
     "output_type": "stream",
     "text": [
      "Failed to get ticker 'QPACU' reason: Expecting value: line 1 column 1 (char 0)\n",
      "$QPACU: possibly delisted; no timezone found\n"
     ]
    },
    {
     "name": "stdout",
     "output_type": "stream",
     "text": [
      "Error fetching data for QPACU: No historical data available for QPACU around 2024-01-28.\n"
     ]
    },
    {
     "name": "stderr",
     "output_type": "stream",
     "text": [
      "Failed to get ticker 'MGI' reason: Expecting value: line 1 column 1 (char 0)\n",
      "$MGI: possibly delisted; no timezone found\n"
     ]
    },
    {
     "name": "stdout",
     "output_type": "stream",
     "text": [
      "Error fetching data for MGI: No historical data available for MGI around 2024-01-28.\n"
     ]
    },
    {
     "name": "stderr",
     "output_type": "stream",
     "text": [
      "Failed to get ticker 'IO' reason: Expecting value: line 1 column 1 (char 0)\n",
      "$IO: possibly delisted; no timezone found\n"
     ]
    },
    {
     "name": "stdout",
     "output_type": "stream",
     "text": [
      "Error fetching data for IO: No historical data available for IO around 2024-01-28.\n"
     ]
    },
    {
     "name": "stderr",
     "output_type": "stream",
     "text": [
      "$QSII: possibly delisted; no price data found  (1d 2023-12-29 -> 2024-01-28)\n"
     ]
    },
    {
     "name": "stdout",
     "output_type": "stream",
     "text": [
      "Error fetching data for QSII: No historical data available for QSII around 2024-01-28.\n"
     ]
    },
    {
     "name": "stderr",
     "output_type": "stream",
     "text": [
      "$CSRE: possibly delisted; no price data found  (1d 2023-12-29 -> 2024-01-28)\n"
     ]
    },
    {
     "name": "stdout",
     "output_type": "stream",
     "text": [
      "Error fetching data for CSRE: No historical data available for CSRE around 2024-01-28.\n"
     ]
    },
    {
     "name": "stderr",
     "output_type": "stream",
     "text": [
      "$BME: possibly delisted; no price data found  (1d 2023-12-29 -> 2024-01-28)\n"
     ]
    },
    {
     "name": "stdout",
     "output_type": "stream",
     "text": [
      "Error fetching data for BME: No historical data available for BME around 2024-01-28.\n"
     ]
    },
    {
     "name": "stderr",
     "output_type": "stream",
     "text": [
      "$HMN: possibly delisted; no price data found  (1d 2023-12-29 -> 2024-01-28)\n"
     ]
    },
    {
     "name": "stdout",
     "output_type": "stream",
     "text": [
      "Error fetching data for HMN: No historical data available for HMN around 2024-01-28.\n"
     ]
    },
    {
     "name": "stderr",
     "output_type": "stream",
     "text": [
      "Failed to get ticker 'BDGE' reason: Expecting value: line 1 column 1 (char 0)\n",
      "$BDGE: possibly delisted; no timezone found\n"
     ]
    },
    {
     "name": "stdout",
     "output_type": "stream",
     "text": [
      "Error fetching data for BDGE: No historical data available for BDGE around 2024-01-28.\n"
     ]
    },
    {
     "name": "stderr",
     "output_type": "stream",
     "text": [
      "Failed to get ticker 'SAEX' reason: Expecting value: line 1 column 1 (char 0)\n",
      "$SAEX: possibly delisted; no timezone found\n"
     ]
    },
    {
     "name": "stdout",
     "output_type": "stream",
     "text": [
      "Error fetching data for SAEX: No historical data available for SAEX around 2024-01-28.\n"
     ]
    },
    {
     "name": "stderr",
     "output_type": "stream",
     "text": [
      "$EXG: possibly delisted; no price data found  (1d 2023-12-29 -> 2024-01-28)\n"
     ]
    },
    {
     "name": "stdout",
     "output_type": "stream",
     "text": [
      "Error fetching data for EXG: No historical data available for EXG around 2024-01-28.\n"
     ]
    },
    {
     "name": "stderr",
     "output_type": "stream",
     "text": [
      "$NVEEU: possibly delisted; no price data found  (1d 2023-12-29 -> 2024-01-28)\n"
     ]
    },
    {
     "name": "stdout",
     "output_type": "stream",
     "text": [
      "Error fetching data for NVEEU: No historical data available for NVEEU around 2024-01-28.\n"
     ]
    },
    {
     "name": "stderr",
     "output_type": "stream",
     "text": [
      "$OSUR: possibly delisted; no price data found  (1d 2023-12-29 -> 2024-01-28)\n"
     ]
    },
    {
     "name": "stdout",
     "output_type": "stream",
     "text": [
      "Error fetching data for OSUR: No historical data available for OSUR around 2024-01-28.\n"
     ]
    },
    {
     "name": "stderr",
     "output_type": "stream",
     "text": [
      "Failed to get ticker 'JOBS' reason: Expecting value: line 1 column 1 (char 0)\n",
      "$JOBS: possibly delisted; no timezone found\n"
     ]
    },
    {
     "name": "stdout",
     "output_type": "stream",
     "text": [
      "Error fetching data for JOBS: No historical data available for JOBS around 2024-01-28.\n"
     ]
    },
    {
     "name": "stderr",
     "output_type": "stream",
     "text": [
      "$FCEL: possibly delisted; no price data found  (1d 2023-12-29 -> 2024-01-28)\n"
     ]
    },
    {
     "name": "stdout",
     "output_type": "stream",
     "text": [
      "Error fetching data for FCEL: No historical data available for FCEL around 2024-01-28.\n"
     ]
    },
    {
     "name": "stderr",
     "output_type": "stream",
     "text": [
      "$BELFA: possibly delisted; no price data found  (1d 2023-12-29 -> 2024-01-28)\n"
     ]
    },
    {
     "name": "stdout",
     "output_type": "stream",
     "text": [
      "Error fetching data for BELFA: No historical data available for BELFA around 2024-01-28.\n"
     ]
    },
    {
     "name": "stderr",
     "output_type": "stream",
     "text": [
      "Failed to get ticker 'INB' reason: Expecting value: line 1 column 1 (char 0)\n",
      "$INB: possibly delisted; no timezone found\n"
     ]
    },
    {
     "name": "stdout",
     "output_type": "stream",
     "text": [
      "Error fetching data for INB: No historical data available for INB around 2024-01-28.\n"
     ]
    },
    {
     "name": "stderr",
     "output_type": "stream",
     "text": [
      "$DEO: possibly delisted; no price data found  (1d 2023-12-29 -> 2024-01-28)\n"
     ]
    },
    {
     "name": "stdout",
     "output_type": "stream",
     "text": [
      "Error fetching data for DEO: No historical data available for DEO around 2024-01-28.\n"
     ]
    },
    {
     "name": "stderr",
     "output_type": "stream",
     "text": [
      "$FSC: possibly delisted; no price data found  (1d 2023-12-29 -> 2024-01-28)\n"
     ]
    },
    {
     "name": "stdout",
     "output_type": "stream",
     "text": [
      "Error fetching data for FSC: No historical data available for FSC around 2024-01-28.\n"
     ]
    },
    {
     "name": "stderr",
     "output_type": "stream",
     "text": [
      "$EOC: possibly delisted; no price data found  (1d 2023-12-29 -> 2024-01-28)\n"
     ]
    },
    {
     "name": "stdout",
     "output_type": "stream",
     "text": [
      "Error fetching data for EOC: No historical data available for EOC around 2024-01-28.\n"
     ]
    },
    {
     "name": "stderr",
     "output_type": "stream",
     "text": [
      "$CU: possibly delisted; no price data found  (1d 2023-12-29 -> 2024-01-28)\n"
     ]
    },
    {
     "name": "stdout",
     "output_type": "stream",
     "text": [
      "Error fetching data for CU: No historical data available for CU around 2024-01-28.\n"
     ]
    },
    {
     "name": "stderr",
     "output_type": "stream",
     "text": [
      "Failed to get ticker 'CUZ-B' reason: Expecting value: line 1 column 1 (char 0)\n",
      "$CUZ-B: possibly delisted; no timezone found\n"
     ]
    },
    {
     "name": "stdout",
     "output_type": "stream",
     "text": [
      "Error fetching data for CUZ-B: No historical data available for CUZ-B around 2024-01-28.\n"
     ]
    },
    {
     "name": "stderr",
     "output_type": "stream",
     "text": [
      "$PCL: possibly delisted; no price data found  (1d 2023-12-29 -> 2024-01-28)\n"
     ]
    },
    {
     "name": "stdout",
     "output_type": "stream",
     "text": [
      "Error fetching data for PCL: No historical data available for PCL around 2024-01-28.\n"
     ]
    },
    {
     "name": "stderr",
     "output_type": "stream",
     "text": [
      "Failed to get ticker 'JGT' reason: Expecting value: line 1 column 1 (char 0)\n",
      "$JGT: possibly delisted; no timezone found\n"
     ]
    },
    {
     "name": "stdout",
     "output_type": "stream",
     "text": [
      "Error fetching data for JGT: No historical data available for JGT around 2024-01-28.\n"
     ]
    },
    {
     "name": "stderr",
     "output_type": "stream",
     "text": [
      "Failed to get ticker 'EAGLU' reason: Expecting value: line 1 column 1 (char 0)\n",
      "$EAGLU: possibly delisted; no timezone found\n"
     ]
    },
    {
     "name": "stdout",
     "output_type": "stream",
     "text": [
      "Error fetching data for EAGLU: No historical data available for EAGLU around 2024-01-28.\n"
     ]
    },
    {
     "name": "stderr",
     "output_type": "stream",
     "text": [
      "Failed to get ticker 'IEH' reason: Expecting value: line 1 column 1 (char 0)\n",
      "$IEH: possibly delisted; no timezone found\n"
     ]
    },
    {
     "name": "stdout",
     "output_type": "stream",
     "text": [
      "Error fetching data for IEH: No historical data available for IEH around 2024-01-28.\n"
     ]
    },
    {
     "name": "stderr",
     "output_type": "stream",
     "text": [
      "Failed to get ticker 'SFI-E' reason: Expecting value: line 1 column 1 (char 0)\n",
      "$SFI-E: possibly delisted; no timezone found\n"
     ]
    },
    {
     "name": "stdout",
     "output_type": "stream",
     "text": [
      "Error fetching data for SFI-E: No historical data available for SFI-E around 2024-01-28.\n"
     ]
    },
    {
     "name": "stderr",
     "output_type": "stream",
     "text": [
      "Failed to get ticker 'BIOL' reason: Expecting value: line 1 column 1 (char 0)\n",
      "$BIOL: possibly delisted; no timezone found\n"
     ]
    },
    {
     "name": "stdout",
     "output_type": "stream",
     "text": [
      "Error fetching data for BIOL: No historical data available for BIOL around 2024-01-28.\n"
     ]
    },
    {
     "name": "stderr",
     "output_type": "stream",
     "text": [
      "$PLNR: possibly delisted; no price data found  (1d 2023-12-29 -> 2024-01-28)\n"
     ]
    },
    {
     "name": "stdout",
     "output_type": "stream",
     "text": [
      "Error fetching data for PLNR: No historical data available for PLNR around 2024-01-28.\n"
     ]
    },
    {
     "name": "stderr",
     "output_type": "stream",
     "text": [
      "$BSP: possibly delisted; no price data found  (1d 2023-12-29 -> 2024-01-28)\n"
     ]
    },
    {
     "name": "stdout",
     "output_type": "stream",
     "text": [
      "Error fetching data for BSP: No historical data available for BSP around 2024-01-28.\n"
     ]
    },
    {
     "name": "stderr",
     "output_type": "stream",
     "text": [
      "$JSN: possibly delisted; no price data found  (1d 2023-12-29 -> 2024-01-28)\n"
     ]
    },
    {
     "name": "stdout",
     "output_type": "stream",
     "text": [
      "Error fetching data for JSN: No historical data available for JSN around 2024-01-28.\n"
     ]
    },
    {
     "name": "stderr",
     "output_type": "stream",
     "text": [
      "Failed to get ticker 'COOL' reason: Expecting value: line 1 column 1 (char 0)\n",
      "$COOL: possibly delisted; no timezone found\n"
     ]
    },
    {
     "name": "stdout",
     "output_type": "stream",
     "text": [
      "Error fetching data for COOL: No historical data available for COOL around 2024-01-28.\n"
     ]
    },
    {
     "name": "stderr",
     "output_type": "stream",
     "text": [
      "Failed to get ticker 'NRZ' reason: Expecting value: line 1 column 1 (char 0)\n",
      "$NRZ: possibly delisted; no timezone found\n"
     ]
    },
    {
     "name": "stdout",
     "output_type": "stream",
     "text": [
      "Error fetching data for NRZ: No historical data available for NRZ around 2024-01-28.\n"
     ]
    },
    {
     "name": "stderr",
     "output_type": "stream",
     "text": [
      "$BHK: possibly delisted; no price data found  (1d 2023-12-29 -> 2024-01-28)\n"
     ]
    },
    {
     "name": "stdout",
     "output_type": "stream",
     "text": [
      "Error fetching data for BHK: No historical data available for BHK around 2024-01-28.\n"
     ]
    },
    {
     "name": "stderr",
     "output_type": "stream",
     "text": [
      "$HTBK: possibly delisted; no price data found  (1d 2023-12-29 -> 2024-01-28)\n"
     ]
    },
    {
     "name": "stdout",
     "output_type": "stream",
     "text": [
      "Error fetching data for HTBK: No historical data available for HTBK around 2024-01-28.\n"
     ]
    },
    {
     "name": "stderr",
     "output_type": "stream",
     "text": [
      "$XNPT: possibly delisted; no price data found  (1d 2023-12-29 -> 2024-01-28)\n"
     ]
    },
    {
     "name": "stdout",
     "output_type": "stream",
     "text": [
      "Error fetching data for XNPT: No historical data available for XNPT around 2024-01-28.\n"
     ]
    },
    {
     "name": "stderr",
     "output_type": "stream",
     "text": [
      "Failed to get ticker 'SMMF' reason: Expecting value: line 1 column 1 (char 0)\n",
      "$SMMF: possibly delisted; no timezone found\n"
     ]
    },
    {
     "name": "stdout",
     "output_type": "stream",
     "text": [
      "Error fetching data for SMMF: No historical data available for SMMF around 2024-01-28.\n"
     ]
    },
    {
     "name": "stderr",
     "output_type": "stream",
     "text": [
      "$LAND: possibly delisted; no price data found  (1d 2023-12-29 -> 2024-01-28)\n"
     ]
    },
    {
     "name": "stdout",
     "output_type": "stream",
     "text": [
      "Error fetching data for LAND: No historical data available for LAND around 2024-01-28.\n"
     ]
    },
    {
     "name": "stderr",
     "output_type": "stream",
     "text": [
      "$BMC: possibly delisted; no price data found  (1d 2023-12-29 -> 2024-01-28)\n"
     ]
    },
    {
     "name": "stdout",
     "output_type": "stream",
     "text": [
      "Error fetching data for BMC: No historical data available for BMC around 2024-01-28.\n"
     ]
    },
    {
     "name": "stderr",
     "output_type": "stream",
     "text": [
      "$YDKN: possibly delisted; no price data found  (1d 2023-12-29 -> 2024-01-28)\n"
     ]
    },
    {
     "name": "stdout",
     "output_type": "stream",
     "text": [
      "Error fetching data for YDKN: No historical data available for YDKN around 2024-01-28.\n"
     ]
    },
    {
     "name": "stderr",
     "output_type": "stream",
     "text": [
      "$ARUN: possibly delisted; no price data found  (1d 2023-12-29 -> 2024-01-28)\n"
     ]
    },
    {
     "name": "stdout",
     "output_type": "stream",
     "text": [
      "Error fetching data for ARUN: No historical data available for ARUN around 2024-01-28.\n"
     ]
    },
    {
     "name": "stderr",
     "output_type": "stream",
     "text": [
      "$NFJ: possibly delisted; no price data found  (1d 2023-12-29 -> 2024-01-28)\n"
     ]
    },
    {
     "name": "stdout",
     "output_type": "stream",
     "text": [
      "Error fetching data for NFJ: No historical data available for NFJ around 2024-01-28.\n"
     ]
    },
    {
     "name": "stderr",
     "output_type": "stream",
     "text": [
      "$GCH: possibly delisted; no price data found  (1d 2023-12-29 -> 2024-01-28)\n"
     ]
    },
    {
     "name": "stdout",
     "output_type": "stream",
     "text": [
      "Error fetching data for GCH: No historical data available for GCH around 2024-01-28.\n"
     ]
    },
    {
     "name": "stderr",
     "output_type": "stream",
     "text": [
      "$LUV: possibly delisted; no price data found  (1d 2023-12-29 -> 2024-01-28)\n"
     ]
    },
    {
     "name": "stdout",
     "output_type": "stream",
     "text": [
      "Error fetching data for LUV: No historical data available for LUV around 2024-01-28.\n"
     ]
    },
    {
     "name": "stderr",
     "output_type": "stream",
     "text": [
      "Failed to get ticker 'ISH-A' reason: Expecting value: line 1 column 1 (char 0)\n",
      "$ISH-A: possibly delisted; no timezone found\n"
     ]
    },
    {
     "name": "stdout",
     "output_type": "stream",
     "text": [
      "Error fetching data for ISH-A: No historical data available for ISH-A around 2024-01-28.\n"
     ]
    },
    {
     "name": "stderr",
     "output_type": "stream",
     "text": [
      "$LLTC: possibly delisted; no price data found  (1d 2023-12-29 -> 2024-01-28)\n"
     ]
    },
    {
     "name": "stdout",
     "output_type": "stream",
     "text": [
      "Error fetching data for LLTC: No historical data available for LLTC around 2024-01-28.\n"
     ]
    },
    {
     "name": "stderr",
     "output_type": "stream",
     "text": [
      "$BLRX: possibly delisted; no price data found  (1d 2023-12-29 -> 2024-01-28)\n"
     ]
    },
    {
     "name": "stdout",
     "output_type": "stream",
     "text": [
      "Error fetching data for BLRX: No historical data available for BLRX around 2024-01-28.\n"
     ]
    },
    {
     "name": "stderr",
     "output_type": "stream",
     "text": [
      "Failed to get ticker 'ECTE' reason: Expecting value: line 1 column 1 (char 0)\n",
      "$ECTE: possibly delisted; no timezone found\n"
     ]
    },
    {
     "name": "stdout",
     "output_type": "stream",
     "text": [
      "Error fetching data for ECTE: No historical data available for ECTE around 2024-01-28.\n"
     ]
    },
    {
     "name": "stderr",
     "output_type": "stream",
     "text": [
      "$EIX: possibly delisted; no price data found  (1d 2023-12-29 -> 2024-01-28)\n"
     ]
    },
    {
     "name": "stdout",
     "output_type": "stream",
     "text": [
      "Error fetching data for EIX: No historical data available for EIX around 2024-01-28.\n"
     ]
    },
    {
     "name": "stderr",
     "output_type": "stream",
     "text": [
      "$AZN: possibly delisted; no price data found  (1d 2023-12-29 -> 2024-01-28)\n"
     ]
    },
    {
     "name": "stdout",
     "output_type": "stream",
     "text": [
      "Error fetching data for AZN: No historical data available for AZN around 2024-01-28.\n"
     ]
    },
    {
     "name": "stderr",
     "output_type": "stream",
     "text": [
      "$NIM: possibly delisted; no price data found  (1d 2023-12-29 -> 2024-01-28)\n"
     ]
    },
    {
     "name": "stdout",
     "output_type": "stream",
     "text": [
      "Error fetching data for NIM: No historical data available for NIM around 2024-01-28.\n"
     ]
    },
    {
     "name": "stderr",
     "output_type": "stream",
     "text": [
      "$OKE: possibly delisted; no price data found  (1d 2023-12-29 -> 2024-01-28)\n"
     ]
    },
    {
     "name": "stdout",
     "output_type": "stream",
     "text": [
      "Error fetching data for OKE: No historical data available for OKE around 2024-01-28.\n"
     ]
    },
    {
     "name": "stderr",
     "output_type": "stream",
     "text": [
      "$TCI: possibly delisted; no price data found  (1d 2023-12-29 -> 2024-01-28)\n"
     ]
    },
    {
     "name": "stdout",
     "output_type": "stream",
     "text": [
      "Error fetching data for TCI: No historical data available for TCI around 2024-01-28.\n"
     ]
    },
    {
     "name": "stderr",
     "output_type": "stream",
     "text": [
      "$IBCP: possibly delisted; no price data found  (1d 2023-12-29 -> 2024-01-28)\n"
     ]
    },
    {
     "name": "stdout",
     "output_type": "stream",
     "text": [
      "Error fetching data for IBCP: No historical data available for IBCP around 2024-01-28.\n"
     ]
    },
    {
     "name": "stderr",
     "output_type": "stream",
     "text": [
      "$SUBK: possibly delisted; no price data found  (1d 2023-12-29 -> 2024-01-28)\n"
     ]
    },
    {
     "name": "stdout",
     "output_type": "stream",
     "text": [
      "Error fetching data for SUBK: No historical data available for SUBK around 2024-01-28.\n"
     ]
    },
    {
     "name": "stderr",
     "output_type": "stream",
     "text": [
      "Failed to get ticker 'AGO-E' reason: Expecting value: line 1 column 1 (char 0)\n",
      "$AGO-E: possibly delisted; no timezone found\n"
     ]
    },
    {
     "name": "stdout",
     "output_type": "stream",
     "text": [
      "Error fetching data for AGO-E: No historical data available for AGO-E around 2024-01-28.\n"
     ]
    },
    {
     "name": "stderr",
     "output_type": "stream",
     "text": [
      "Failed to get ticker 'MHO-A' reason: Expecting value: line 1 column 1 (char 0)\n",
      "$MHO-A: possibly delisted; no timezone found\n"
     ]
    },
    {
     "name": "stdout",
     "output_type": "stream",
     "text": [
      "Error fetching data for MHO-A: No historical data available for MHO-A around 2024-01-28.\n"
     ]
    },
    {
     "name": "stderr",
     "output_type": "stream",
     "text": [
      "$WPPGY: possibly delisted; no price data found  (1d 2023-12-29 -> 2024-01-28)\n"
     ]
    },
    {
     "name": "stdout",
     "output_type": "stream",
     "text": [
      "Error fetching data for WPPGY: No historical data available for WPPGY around 2024-01-28.\n"
     ]
    },
    {
     "name": "stderr",
     "output_type": "stream",
     "text": [
      "Failed to get ticker 'KRA' reason: Expecting value: line 1 column 1 (char 0)\n",
      "$KRA: possibly delisted; no timezone found\n"
     ]
    },
    {
     "name": "stdout",
     "output_type": "stream",
     "text": [
      "Error fetching data for KRA: No historical data available for KRA around 2024-01-28.\n"
     ]
    },
    {
     "name": "stderr",
     "output_type": "stream",
     "text": [
      "$DRD: possibly delisted; no price data found  (1d 2023-12-29 -> 2024-01-28)\n"
     ]
    },
    {
     "name": "stdout",
     "output_type": "stream",
     "text": [
      "Error fetching data for DRD: No historical data available for DRD around 2024-01-28.\n"
     ]
    },
    {
     "name": "stderr",
     "output_type": "stream",
     "text": [
      "Failed to get ticker 'ALXN' reason: Expecting value: line 1 column 1 (char 0)\n",
      "$ALXN: possibly delisted; no timezone found\n"
     ]
    },
    {
     "name": "stdout",
     "output_type": "stream",
     "text": [
      "Error fetching data for ALXN: No historical data available for ALXN around 2024-01-28.\n"
     ]
    },
    {
     "name": "stderr",
     "output_type": "stream",
     "text": [
      "$PRU: possibly delisted; no price data found  (1d 2023-12-29 -> 2024-01-28)\n"
     ]
    },
    {
     "name": "stdout",
     "output_type": "stream",
     "text": [
      "Error fetching data for PRU: No historical data available for PRU around 2024-01-28.\n"
     ]
    },
    {
     "name": "stderr",
     "output_type": "stream",
     "text": [
      "Failed to get ticker 'CPAH' reason: Expecting value: line 1 column 1 (char 0)\n",
      "$CPAH: possibly delisted; no timezone found\n"
     ]
    },
    {
     "name": "stdout",
     "output_type": "stream",
     "text": [
      "Error fetching data for CPAH: No historical data available for CPAH around 2024-01-28.\n"
     ]
    },
    {
     "name": "stderr",
     "output_type": "stream",
     "text": [
      "Failed to get ticker 'TCBIL' reason: Expecting value: line 1 column 1 (char 0)\n",
      "$TCBIL: possibly delisted; no timezone found\n"
     ]
    },
    {
     "name": "stdout",
     "output_type": "stream",
     "text": [
      "Error fetching data for TCBIL: No historical data available for TCBIL around 2024-01-28.\n"
     ]
    },
    {
     "name": "stderr",
     "output_type": "stream",
     "text": [
      "$AMED: possibly delisted; no price data found  (1d 2023-12-29 -> 2024-01-28)\n"
     ]
    },
    {
     "name": "stdout",
     "output_type": "stream",
     "text": [
      "Error fetching data for AMED: No historical data available for AMED around 2024-01-28.\n"
     ]
    },
    {
     "name": "stderr",
     "output_type": "stream",
     "text": [
      "Failed to get ticker 'MPG-A' reason: Expecting value: line 1 column 1 (char 0)\n",
      "$MPG-A: possibly delisted; no timezone found\n"
     ]
    },
    {
     "name": "stdout",
     "output_type": "stream",
     "text": [
      "Error fetching data for MPG-A: No historical data available for MPG-A around 2024-01-28.\n"
     ]
    },
    {
     "name": "stderr",
     "output_type": "stream",
     "text": [
      "Failed to get ticker 'SFI-I' reason: Expecting value: line 1 column 1 (char 0)\n",
      "$SFI-I: possibly delisted; no timezone found\n"
     ]
    },
    {
     "name": "stdout",
     "output_type": "stream",
     "text": [
      "Error fetching data for SFI-I: No historical data available for SFI-I around 2024-01-28.\n"
     ]
    },
    {
     "name": "stderr",
     "output_type": "stream",
     "text": [
      "Failed to get ticker 'BNY' reason: Expecting value: line 1 column 1 (char 0)\n",
      "$BNY: possibly delisted; no timezone found\n"
     ]
    },
    {
     "name": "stdout",
     "output_type": "stream",
     "text": [
      "Error fetching data for BNY: No historical data available for BNY around 2024-01-28.\n"
     ]
    },
    {
     "name": "stderr",
     "output_type": "stream",
     "text": [
      "$EGY: possibly delisted; no price data found  (1d 2023-12-29 -> 2024-01-28)\n"
     ]
    },
    {
     "name": "stdout",
     "output_type": "stream",
     "text": [
      "Error fetching data for EGY: No historical data available for EGY around 2024-01-28.\n"
     ]
    },
    {
     "name": "stderr",
     "output_type": "stream",
     "text": [
      "$GJM: possibly delisted; no price data found  (1d 2023-12-29 -> 2024-01-28)\n"
     ]
    },
    {
     "name": "stdout",
     "output_type": "stream",
     "text": [
      "Error fetching data for GJM: No historical data available for GJM around 2024-01-28.\n"
     ]
    },
    {
     "name": "stderr",
     "output_type": "stream",
     "text": [
      "$SQQQ: possibly delisted; no price data found  (1d 2023-12-29 -> 2024-01-28)\n"
     ]
    },
    {
     "name": "stdout",
     "output_type": "stream",
     "text": [
      "Error fetching data for SQQQ: No historical data available for SQQQ around 2024-01-28.\n"
     ]
    },
    {
     "name": "stderr",
     "output_type": "stream",
     "text": [
      "$JBK: possibly delisted; no price data found  (1d 2023-12-29 -> 2024-01-28)\n"
     ]
    },
    {
     "name": "stdout",
     "output_type": "stream",
     "text": [
      "Error fetching data for JBK: No historical data available for JBK around 2024-01-28.\n"
     ]
    },
    {
     "name": "stderr",
     "output_type": "stream",
     "text": [
      "Failed to get ticker 'SAN-I' reason: Expecting value: line 1 column 1 (char 0)\n",
      "$SAN-I: possibly delisted; no timezone found\n"
     ]
    },
    {
     "name": "stdout",
     "output_type": "stream",
     "text": [
      "Error fetching data for SAN-I: No historical data available for SAN-I around 2024-01-28.\n"
     ]
    },
    {
     "name": "stderr",
     "output_type": "stream",
     "text": [
      "$SOCL: possibly delisted; no price data found  (1d 2023-12-29 -> 2024-01-28)\n"
     ]
    },
    {
     "name": "stdout",
     "output_type": "stream",
     "text": [
      "Error fetching data for SOCL: No historical data available for SOCL around 2024-01-28.\n"
     ]
    },
    {
     "name": "stderr",
     "output_type": "stream",
     "text": [
      "$SIVBO: possibly delisted; no price data found  (1d 2023-12-29 -> 2024-01-28)\n"
     ]
    },
    {
     "name": "stdout",
     "output_type": "stream",
     "text": [
      "Error fetching data for SIVBO: No historical data available for SIVBO around 2024-01-28.\n"
     ]
    },
    {
     "name": "stderr",
     "output_type": "stream",
     "text": [
      "$EHI: possibly delisted; no price data found  (1d 2023-12-29 -> 2024-01-28)\n"
     ]
    },
    {
     "name": "stdout",
     "output_type": "stream",
     "text": [
      "Error fetching data for EHI: No historical data available for EHI around 2024-01-28.\n"
     ]
    },
    {
     "name": "stderr",
     "output_type": "stream",
     "text": [
      "$KEY: possibly delisted; no price data found  (1d 2023-12-29 -> 2024-01-28)\n"
     ]
    },
    {
     "name": "stdout",
     "output_type": "stream",
     "text": [
      "Error fetching data for KEY: No historical data available for KEY around 2024-01-28.\n"
     ]
    },
    {
     "name": "stderr",
     "output_type": "stream",
     "text": [
      "Failed to get ticker 'MHNB' reason: Expecting value: line 1 column 1 (char 0)\n",
      "$MHNB: possibly delisted; no timezone found\n"
     ]
    },
    {
     "name": "stdout",
     "output_type": "stream",
     "text": [
      "Error fetching data for MHNB: No historical data available for MHNB around 2024-01-28.\n"
     ]
    },
    {
     "name": "stderr",
     "output_type": "stream",
     "text": [
      "$SVVC: possibly delisted; no price data found  (period=1d)\n",
      "$SUSP: possibly delisted; no price data found  (1d 2023-12-29 -> 2024-01-28)\n"
     ]
    },
    {
     "name": "stdout",
     "output_type": "stream",
     "text": [
      "Error fetching data for SVVC: single positional indexer is out-of-bounds\n",
      "Error fetching data for SUSP: No historical data available for SUSP around 2024-01-28.\n"
     ]
    },
    {
     "name": "stderr",
     "output_type": "stream",
     "text": [
      "$BBEP: possibly delisted; no price data found  (1d 2023-12-29 -> 2024-01-28)\n"
     ]
    },
    {
     "name": "stdout",
     "output_type": "stream",
     "text": [
      "Error fetching data for BBEP: No historical data available for BBEP around 2024-01-28.\n"
     ]
    },
    {
     "name": "stderr",
     "output_type": "stream",
     "text": [
      "$NXR: possibly delisted; no timezone found\n"
     ]
    },
    {
     "name": "stdout",
     "output_type": "stream",
     "text": [
      "Error fetching data for NXR: No historical data available for NXR around 2024-01-28.\n"
     ]
    },
    {
     "name": "stderr",
     "output_type": "stream",
     "text": [
      "$TARO: possibly delisted; no timezone found\n"
     ]
    },
    {
     "name": "stdout",
     "output_type": "stream",
     "text": [
      "Error fetching data for TARO: No historical data available for TARO around 2024-01-28.\n"
     ]
    },
    {
     "name": "stderr",
     "output_type": "stream",
     "text": [
      "$PSCF: possibly delisted; no price data found  (period=1d)\n"
     ]
    },
    {
     "name": "stdout",
     "output_type": "stream",
     "text": [
      "Error fetching data for PSCF: single positional indexer is out-of-bounds\n"
     ]
    },
    {
     "name": "stderr",
     "output_type": "stream",
     "text": [
      "$DUA: possibly delisted; no timezone found\n"
     ]
    },
    {
     "name": "stdout",
     "output_type": "stream",
     "text": [
      "Error fetching data for DUA: No historical data available for DUA around 2024-01-28.\n"
     ]
    },
    {
     "name": "stderr",
     "output_type": "stream",
     "text": [
      "$RTK: possibly delisted; no price data found  (1d 2023-12-29 -> 2024-01-28)\n"
     ]
    },
    {
     "name": "stdout",
     "output_type": "stream",
     "text": [
      "Error fetching data for RTK: No historical data available for RTK around 2024-01-28.\n"
     ]
    },
    {
     "name": "stderr",
     "output_type": "stream",
     "text": [
      "$NNC-E: possibly delisted; no timezone found\n",
      "$NYLD: possibly delisted; no price data found  (1d 2023-12-29 -> 2024-01-28)\n",
      "$NTI: possibly delisted; no price data found  (1d 2023-12-29 -> 2024-01-28)\n"
     ]
    },
    {
     "name": "stdout",
     "output_type": "stream",
     "text": [
      "Error fetching data for NNC-E: No historical data available for NNC-E around 2024-01-28.\n",
      "Error fetching data for NYLD: No historical data available for NYLD around 2024-01-28.\n",
      "Error fetching data for NTI: No historical data available for NTI around 2024-01-28.\n"
     ]
    },
    {
     "name": "stderr",
     "output_type": "stream",
     "text": [
      "$COY: possibly delisted; no price data found  (1d 2023-12-29 -> 2024-01-28)\n"
     ]
    },
    {
     "name": "stdout",
     "output_type": "stream",
     "text": [
      "Error fetching data for COY: No historical data available for COY around 2024-01-28.\n"
     ]
    },
    {
     "name": "stderr",
     "output_type": "stream",
     "text": [
      "$HMH: possibly delisted; no timezone found\n",
      "$COB: possibly delisted; no price data found  (1d 2023-12-29 -> 2024-01-28)\n"
     ]
    },
    {
     "name": "stdout",
     "output_type": "stream",
     "text": [
      "Error fetching data for HMH: No historical data available for HMH around 2024-01-28.\n",
      "Error fetching data for COB: No historical data available for COB around 2024-01-28.\n"
     ]
    },
    {
     "name": "stderr",
     "output_type": "stream",
     "text": [
      "$OZM: possibly delisted; no timezone found\n"
     ]
    },
    {
     "name": "stdout",
     "output_type": "stream",
     "text": [
      "Error fetching data for OZM: No historical data available for OZM around 2024-01-28.\n"
     ]
    },
    {
     "name": "stderr",
     "output_type": "stream",
     "text": [
      "$CPLP: possibly delisted; no timezone found\n",
      "$BSDM: possibly delisted; no price data found  (1d 2023-12-29 -> 2024-01-28)\n"
     ]
    },
    {
     "name": "stdout",
     "output_type": "stream",
     "text": [
      "Error fetching data for CPLP: No historical data available for CPLP around 2024-01-28.\n",
      "Error fetching data for BSDM: No historical data available for BSDM around 2024-01-28.\n"
     ]
    },
    {
     "name": "stderr",
     "output_type": "stream",
     "text": [
      "$FCE.A: possibly delisted; no timezone found\n",
      "$CST: possibly delisted; no price data found  (1d 2023-12-29 -> 2024-01-28)\n"
     ]
    },
    {
     "name": "stdout",
     "output_type": "stream",
     "text": [
      "Error fetching data for FCE.A: No historical data available for FCE.A around 2024-01-28.\n",
      "Error fetching data for CST: No historical data available for CST around 2024-01-28.\n"
     ]
    },
    {
     "name": "stderr",
     "output_type": "stream",
     "text": [
      "$BRKS: possibly delisted; no timezone found\n",
      "$XOOM: possibly delisted; no price data found  (1d 2023-12-29 -> 2024-01-28)\n",
      "$IPAS: possibly delisted; no price data found  (1d 2023-12-29 -> 2024-01-28)\n"
     ]
    },
    {
     "name": "stdout",
     "output_type": "stream",
     "text": [
      "Error fetching data for BRKS: No historical data available for BRKS around 2024-01-28.\n",
      "Error fetching data for XOOM: No historical data available for XOOM around 2024-01-28.\n",
      "Error fetching data for IPAS: No historical data available for IPAS around 2024-01-28.\n"
     ]
    },
    {
     "name": "stderr",
     "output_type": "stream",
     "text": [
      "$PCCC: possibly delisted; no price data found  (1d 2023-12-29 -> 2024-01-28)\n"
     ]
    },
    {
     "name": "stdout",
     "output_type": "stream",
     "text": [
      "Error fetching data for PCCC: No historical data available for PCCC around 2024-01-28.\n"
     ]
    },
    {
     "name": "stderr",
     "output_type": "stream",
     "text": [
      "$BDN-E: possibly delisted; no timezone found\n"
     ]
    },
    {
     "name": "stdout",
     "output_type": "stream",
     "text": [
      "Error fetching data for BDN-E: No historical data available for BDN-E around 2024-01-28.\n"
     ]
    },
    {
     "name": "stderr",
     "output_type": "stream",
     "text": [
      "$MOG.A: possibly delisted; no timezone found\n"
     ]
    },
    {
     "name": "stdout",
     "output_type": "stream",
     "text": [
      "Error fetching data for MOG.A: No historical data available for MOG.A around 2024-01-28.\n"
     ]
    },
    {
     "name": "stderr",
     "output_type": "stream",
     "text": [
      "$BNSO: possibly delisted; no timezone found\n"
     ]
    },
    {
     "name": "stdout",
     "output_type": "stream",
     "text": [
      "Error fetching data for BNSO: No historical data available for BNSO around 2024-01-28.\n"
     ]
    },
    {
     "name": "stderr",
     "output_type": "stream",
     "text": [
      "$BORN: possibly delisted; no timezone found\n"
     ]
    },
    {
     "name": "stdout",
     "output_type": "stream",
     "text": [
      "Error fetching data for BORN: No historical data available for BORN around 2024-01-28.\n"
     ]
    },
    {
     "name": "stderr",
     "output_type": "stream",
     "text": [
      "$SCR: possibly delisted; no timezone found\n",
      "$FPO: possibly delisted; no price data found  (1d 2023-12-29 -> 2024-01-28)\n"
     ]
    },
    {
     "name": "stdout",
     "output_type": "stream",
     "text": [
      "Error fetching data for SCR: No historical data available for SCR around 2024-01-28.\n",
      "Error fetching data for FPO: No historical data available for FPO around 2024-01-28.\n"
     ]
    },
    {
     "name": "stderr",
     "output_type": "stream",
     "text": [
      "$COT: possibly delisted; no timezone found\n"
     ]
    },
    {
     "name": "stdout",
     "output_type": "stream",
     "text": [
      "Error fetching data for COT: No historical data available for COT around 2024-01-28.\n"
     ]
    },
    {
     "name": "stderr",
     "output_type": "stream",
     "text": [
      "$CWH-D: possibly delisted; no timezone found\n",
      "$ZLC: possibly delisted; no price data found  (1d 2023-12-29 -> 2024-01-28)\n"
     ]
    },
    {
     "name": "stdout",
     "output_type": "stream",
     "text": [
      "Error fetching data for CWH-D: No historical data available for CWH-D around 2024-01-28.\n",
      "Error fetching data for ZLC: No historical data available for ZLC around 2024-01-28.\n"
     ]
    },
    {
     "data": {
      "text/html": [
       "\n",
       "<style>\n",
       "    /* Turns off some styling */\n",
       "    progress {\n",
       "        /* gets rid of default border in Firefox and Opera. */\n",
       "        border: none;\n",
       "        /* Needs to be in here for Safari polyfill so background images work as expected. */\n",
       "        background-size: auto;\n",
       "    }\n",
       "    progress:not([value]), progress:not([value])::-webkit-progress-bar {\n",
       "        background: repeating-linear-gradient(45deg, #7e7e7e, #7e7e7e 10px, #5c5c5c 10px, #5c5c5c 20px);\n",
       "    }\n",
       "    .progress-bar-interrupted, .progress-bar-interrupted::-webkit-progress-bar {\n",
       "        background: #F44336;\n",
       "    }\n",
       "</style>\n"
      ],
      "text/plain": [
       "<IPython.core.display.HTML object>"
      ]
     },
     "metadata": {},
     "output_type": "display_data"
    },
    {
     "data": {
      "text/html": [],
      "text/plain": [
       "<IPython.core.display.HTML object>"
      ]
     },
     "metadata": {},
     "output_type": "display_data"
    },
    {
     "name": "stdout",
     "output_type": "stream",
     "text": [
      "Logged evaluation results to c:\\Users\\Gamer\\Documents\\GitHub\\VS-Code\\Side-Projects\\TrainedModels\\stockScreener\\modelEvaluations.csv\n"
     ]
    },
    {
     "data": {
      "image/png": "[encoded data removed]",
      "text/plain": [
       "<Figure size 1200x800 with 2 Axes>"
      ]
     },
     "metadata": {},
     "output_type": "display_data"
    },
    {
     "name": "stdout",
     "output_type": "stream",
     "text": [
      "Collected 392 valid test tickers (target: 500)\n",
      "Warning: Reached max attempts (2000). Some invalid tickers may remain.\n",
      "\n",
      "Evaluation Results:\n",
      "MAE: 0.405\n",
      "RMSE: 0.688\n",
      "R²: -0.165\n"
     ]
    }
   ],
   "source": [
    "def logEvaluation(model_name, mae, rmse, r2, model_folder, test_tickers):\n",
    "    \"\"\"Log evaluation metrics to CSV file\"\"\"\n",
    "    log_file = model_folder / \"modelEvaluations.csv\"\n",
    "    \n",
    "    new_entry_df = pd.DataFrame([{\n",
    "        \"Model Name\": model_name,\n",
    "        \"Timestamp\": datetime.now().strftime('%Y-%m-%d %H:%M'),\n",
    "        \"MAE\": f'{mae:.3f}',\n",
    "        \"RMSE\": f'{rmse:.3f}',\n",
    "        \"R2\": f'{r2:.3f}',\n",
    "        \"Epochs\": epochs,\n",
    "        \"Training Size\": trainingSize,\n",
    "        \"Test Size\": len(test_tickers),\n",
    "        \"Cat Names\": catNames,\n",
    "        \"Cont Names\": contNames,\n",
    "    }])\n",
    "    \n",
    "    try:\n",
    "        log_df = pd.read_csv(log_file)\n",
    "        log_df = pd.concat([log_df, new_entry_df], ignore_index=True)\n",
    "    except FileNotFoundError:\n",
    "        log_df = new_entry_df\n",
    "        \n",
    "    log_df.to_csv(log_file, index=False)\n",
    "    print(f\"Logged evaluation results to {log_file}\")\n",
    "\n",
    "def plotResults(results_df, model_name, model_folder):\n",
    "    \"\"\"Create and save visualization plots using all data points.\"\"\"\n",
    "    plt.figure(figsize=(12, 8))\n",
    "    \n",
    "    plt.subplot(2, 1, 1)\n",
    "    plt.scatter(results_df['Actual'], results_df['Predicted'], alpha=0.7, label='Predictions')\n",
    "    min_val = min(results_df['Actual'].min(), results_df['Predicted'].min())\n",
    "    max_val = max(results_df['Actual'].max(), results_df['Predicted'].max())\n",
    "    plt.plot([min_val, max_val], [min_val, max_val], color='red', linestyle='--', label='Perfect Prediction')\n",
    "    plt.title(f'Predicted vs. Actual Returns - {model_name}', fontsize=14)\n",
    "    plt.xlabel('Actual Returns')\n",
    "    plt.ylabel('Predicted Returns')\n",
    "    plt.legend()\n",
    "    plt.grid(alpha=0.5)\n",
    "    \n",
    "    plt.subplot(2, 1, 2)\n",
    "    plt.scatter(results_df['Predicted'], results_df['Residual'], alpha=0.7)\n",
    "    plt.axhline(y=0, color='r', linestyle='--')\n",
    "    plt.title('Residual Plot')\n",
    "    plt.xlabel('Predicted Returns')\n",
    "    plt.ylabel('Residual')\n",
    "    plt.grid(alpha=0.5)\n",
    "    \n",
    "    plt.tight_layout()\n",
    "    plt.show()\n",
    "\n",
    "if trainNewModel:\n",
    "    nonTrainingTickers = list(set(tickers) - set(trainingTickers))\n",
    "    validTestData = []\n",
    "    attempted_tickers = set()\n",
    "    attempts = 0\n",
    "\n",
    "    if testSize * 4 <= len(tickers):  \n",
    "        max_attempts = testSize * 4 # Prevent infinite loops\n",
    "    else:\n",
    "        max_attempts = len(tickers)\n",
    "\n",
    "    # Keep trying until we reach testSize or exhaust attempts\n",
    "    while len(validTestData) < testSize and attempts < max_attempts:\n",
    "        # Get a new ticker we haven't tried yet\n",
    "        remaining_tickers = [t for t in nonTrainingTickers if t not in attempted_tickers]\n",
    "        if not remaining_tickers:  # If all tried, reset attempted list\n",
    "            attempted_tickers = set()\n",
    "            remaining_tickers = nonTrainingTickers\n",
    "            \n",
    "        ticker = np.random.choice(remaining_tickers)\n",
    "        attempted_tickers.add(ticker)\n",
    "        attempts += 1\n",
    "\n",
    "        # Fetch and validate data\n",
    "        data = getTickerDataFrom1YrAgo(ticker)\n",
    "        if not data.empty and not data[['EV/EBIT', 'ROIC']].isna().any().any():\n",
    "            validTestData.append(data)\n",
    "\n",
    "    if not validTestData:\n",
    "        raise ValueError(\"No valid test data collected after multiple attempts\")\n",
    "        \n",
    "    # Trim to exact testSize if we collected more\n",
    "    validTestData = validTestData[:testSize]  \n",
    "    combinedTestData = pd.concat(validTestData, ignore_index=True)\n",
    "\n",
    "    # Clean data\n",
    "    test_data_clean = combinedTestData.dropna(subset=['EV/EBIT', 'ROIC', 'Future Year Change'])\n",
    "    \n",
    "    if test_data_clean.empty:\n",
    "        raise ValueError(\"No valid test data after cleaning NaN values\")\n",
    "\n",
    "    # Create test dataloader\n",
    "    test_dl = learn.dls.test_dl(test_data_clean)\n",
    "    preds, targs = learn.get_preds(dl=test_dl)\n",
    "    \n",
    "    # Create results DataFrame\n",
    "    results_df = pd.DataFrame({\n",
    "        'Predicted': preds.numpy().flatten(),\n",
    "        'Actual': targs.numpy().flatten()\n",
    "    })\n",
    "    results_df['Residual'] = results_df['Actual'] - results_df['Predicted']\n",
    "\n",
    "    # Calculate metrics\n",
    "    mae = np.mean(np.abs(results_df['Residual']))\n",
    "    rmse = np.sqrt(np.mean(results_df['Residual']**2))\n",
    "    r2 = 1 - (np.sum(results_df['Residual']**2) / np.sum((results_df['Actual'] - results_df['Actual'].mean())**2))\n",
    "\n",
    "    # Log and plot\n",
    "    logEvaluation(modelName, mae, rmse, r2, modelFolder, test_data_clean['Ticker'].unique())\n",
    "    plotResults(results_df, modelName, modelFolder)\n",
    "\n",
    "    # Show collection stats\n",
    "    print(f\"Collected {len(validTestData)} valid test tickers (target: {testSize})\")\n",
    "    if attempts >= max_attempts:\n",
    "        print(f\"Warning: Reached max attempts ({max_attempts}). Some invalid tickers may remain.\")  \n",
    "    print(f\"\\nEvaluation Results:\")\n",
    "    print(f\"MAE: {mae:.3f}\")\n",
    "    print(f\"RMSE: {rmse:.3f}\")\n",
    "    print(f\"R²: {r2:.3f}\")"
   ]
  },
  {
   "cell_type": "markdown",
   "metadata": {},
   "source": [
    "## Predictions"
   ]
  },
  {
   "cell_type": "code",
   "execution_count": 28,
   "metadata": {},
   "outputs": [
    {
     "name": "stdout",
     "output_type": "stream",
     "text": [
      "Model files in modelFolder:\n",
      "stockScreenerV1.0.pkl\n",
      "stockScreenerV1.1.pkl\n",
      "stockScreenerV1.10.pkl\n",
      "stockScreenerV1.2.pkl\n",
      "stockScreenerV1.3.pkl\n",
      "stockScreenerV1.4.pkl\n",
      "stockScreenerV1.5.pkl\n",
      "stockScreenerV1.6.pkl\n",
      "stockScreenerV1.7.pkl\n",
      "stockScreenerV1.8.pkl\n",
      "stockScreenerV1.9.pkl\n"
     ]
    }
   ],
   "source": [
    "print('Model files in modelFolder:')\n",
    "for file in modelFolder.glob('*.pkl'):\n",
    "    print(file.name)"
   ]
  },
  {
   "cell_type": "code",
   "execution_count": 29,
   "metadata": {},
   "outputs": [
    {
     "data": {
      "text/plain": [
       "Model Name    stockScreenerV1.7\n",
       "Timestamp      2025-01-27 08:45\n",
       "MAE                       0.328\n",
       "RMSE                      0.739\n",
       "R2                        0.077\n",
       "Name: 7, dtype: object"
      ]
     },
     "execution_count": 29,
     "metadata": {},
     "output_type": "execute_result"
    }
   ],
   "source": [
    "evaluations = pd.read_csv(modelFolder / 'modelEvaluations.csv')\n",
    "bestModel = evaluations.sort_values('MAE', ascending=True).iloc[0]\n",
    "bestModel.head()"
   ]
  },
  {
   "cell_type": "markdown",
   "metadata": {},
   "source": [
    "### Load model"
   ]
  },
  {
   "cell_type": "code",
   "execution_count": 30,
   "metadata": {},
   "outputs": [],
   "source": [
    "if os.name == 'nt':\n",
    "    temp = pathlib.PosixPath\n",
    "    pathlib.PosixPath = pathlib.WindowsPath\n",
    "else:\n",
    "    pathlib.WindowsPath = pathlib.PosixPath\n",
    "\n",
    "importedModel = Path(f\"{bestModel['Model Name']}.pkl\") # Change this if you want to try other models\n",
    "learn = load_learner(modelFolder / importedModel)"
   ]
  },
  {
   "cell_type": "code",
   "execution_count": 31,
   "metadata": {},
   "outputs": [],
   "source": [
    "#predictionTarget = '95%'"
   ]
  },
  {
   "cell_type": "code",
   "execution_count": 32,
   "metadata": {},
   "outputs": [
    {
     "data": {
      "text/html": [
       "\n",
       "<style>\n",
       "    /* Turns off some styling */\n",
       "    progress {\n",
       "        /* gets rid of default border in Firefox and Opera. */\n",
       "        border: none;\n",
       "        /* Needs to be in here for Safari polyfill so background images work as expected. */\n",
       "        background-size: auto;\n",
       "    }\n",
       "    progress:not([value]), progress:not([value])::-webkit-progress-bar {\n",
       "        background: repeating-linear-gradient(45deg, #7e7e7e, #7e7e7e 10px, #5c5c5c 10px, #5c5c5c 20px);\n",
       "    }\n",
       "    .progress-bar-interrupted, .progress-bar-interrupted::-webkit-progress-bar {\n",
       "        background: #F44336;\n",
       "    }\n",
       "</style>\n"
      ],
      "text/plain": [
       "<IPython.core.display.HTML object>"
      ]
     },
     "metadata": {},
     "output_type": "display_data"
    },
    {
     "data": {
      "text/html": [],
      "text/plain": [
       "<IPython.core.display.HTML object>"
      ]
     },
     "metadata": {},
     "output_type": "display_data"
    },
    {
     "name": "stdout",
     "output_type": "stream",
     "text": [
      "Prediction for NVO (Novo Nordisk A/S):\n",
      "12.48%\n",
      "Free money?!\n"
     ]
    }
   ],
   "source": [
    "if predictionTarget != 'None':\n",
    "    if predictionTarget == 'ALL':\n",
    "        predictionTickers = tickers\n",
    "    elif predictionTarget.endswith('%'):\n",
    "        percentage = float(predictionTarget.strip('%')) / 100\n",
    "        num_tickers = int(len(tickers) * percentage)\n",
    "        predictionTickers = np.random.choice(tickers, size=num_tickers, replace=False).tolist()\n",
    "    else:\n",
    "        predictionTickers = [predictionTarget]\n",
    "\n",
    "    # Fetch data for prediction tickers\n",
    "    dfPrediction = pd.concat([getTickerData(ticker) for ticker in predictionTickers], ignore_index=True)\n",
    "\n",
    "    # Ensure dfPrediction is a DataFrame\n",
    "    if isinstance(dfPrediction, dict):\n",
    "        dfPrediction = pd.DataFrame([dfPrediction])\n",
    "\n",
    "    # Drop rows with NaN values in 'EV/EBIT' or 'ROIC'\n",
    "    dfPrediction = dfPrediction.dropna(subset=['EV/EBIT', 'ROIC'])\n",
    "\n",
    "    # Create test dataloader\n",
    "    dl = learn.dls.test_dl(dfPrediction)\n",
    "    dfPrediction.head()\n",
    "\n",
    "    # Make predictions\n",
    "    prediction = learn.get_preds(dl=dl)\n",
    "    adr_df = pd.read_csv(testFolder / 'tickers.csv')\n",
    "    company_dict = dict(zip(adr_df['Ticker'], adr_df['Company']))\n",
    "\n",
    "    if predictionTarget == 'ALL' or predictionTarget.endswith('%'):\n",
    "        sorted_predictions = sorted(zip(predictionTickers, prediction[0]), key=lambda x: x[1], reverse=True)\n",
    "        print(f\"Got predictions for {len(sorted_predictions)} tickers, expected: {len(predictionTickers)}\")\n",
    "        print(f\"Prediction for best performing tickers:\")\n",
    "        for symbol, pred in sorted_predictions:\n",
    "            company_name = company_dict.get(symbol, 'Unknown')\n",
    "            print(f\"{symbol} ({company_name}): {pred[0].item() * 100:.2f}%\")\n",
    "    else:\n",
    "        company_name = company_dict.get(predictionTarget, 'Unknown')\n",
    "        print(f\"Prediction for {predictionTarget} ({company_name}):\")\n",
    "        print(f\"{prediction[0][0][0].item() * 100:.2f}%\")\n",
    "    print(\"Free money?!\")"
   ]
  },
  {
   "cell_type": "code",
   "execution_count": null,
   "metadata": {},
   "outputs": [],
   "source": []
  }
 ],
 "metadata": {
  "kernelspec": {
   "display_name": "base",
   "language": "python",
   "name": "python3"
  },
  "language_info": {
   "codemirror_mode": {
    "name": "ipython",
    "version": 3
   },
   "file_extension": ".py",
   "mimetype": "text/x-python",
   "name": "python",
   "nbconvert_exporter": "python",
   "pygments_lexer": "ipython3",
   "version": "3.12.3"
  }
 },
 "nbformat": 4,
 "nbformat_minor": 2
}
