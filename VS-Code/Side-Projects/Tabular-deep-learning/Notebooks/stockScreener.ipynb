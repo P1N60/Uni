{
 "cells": [
  {
   "cell_type": "markdown",
   "metadata": {},
   "source": [
    "## Stock Screener: Model Training and Evaluation"
   ]
  },
  {
   "cell_type": "markdown",
   "metadata": {},
   "source": [
    "### Library Installation (if needed)"
   ]
  },
  {
   "cell_type": "code",
   "execution_count": 12,
   "metadata": {},
   "outputs": [],
   "source": [
    "# Install libraries the first time\n",
    "# ! conda install fastai::fastai conda-forge::yfinance pandas pathlib numpy"
   ]
  },
  {
   "cell_type": "markdown",
   "metadata": {},
   "source": [
    "### Importing Required Libraries"
   ]
  },
  {
   "cell_type": "code",
   "execution_count": 13,
   "metadata": {},
   "outputs": [],
   "source": [
    "from fastai.tabular.all import *\n",
    "from fastai.metrics import rmse, mae\n",
    "from datetime import datetime, timedelta\n",
    "import matplotlib.pyplot as plt\n",
    "import yfinance as yf\n",
    "import pandas as pd\n",
    "import numpy as np\n",
    "import pathlib"
   ]
  },
  {
   "cell_type": "markdown",
   "metadata": {},
   "source": [
    "### Variables"
   ]
  },
  {
   "cell_type": "code",
   "execution_count": 14,
   "metadata": {},
   "outputs": [],
   "source": [
    "# Model settings\n",
    "modelName = 'stockScreenerV1.7'\n",
    "trainingData = 'stockData.csv'\n",
    "getNewData = True \n",
    "trainNewModel = True\n",
    "predictionTarget = 'DRS'  # 'ALL' for all, 'amount%', 'None' for no prediction\n",
    "\n",
    "# Training parameters\n",
    "trainingSize = 1200  # Number of stocks to use for training\n",
    "timeFrame = '10y'   # Options: '1d', '5d', '1mo', '3mo', '6mo', '1y', '2y', '5y', '10y', 'ytd', 'max'\n",
    "yNames = ['Future Year Change']\n",
    "contNames = [\n",
    "    'Open', 'Close', 'Volume', 'Dividends', 'Stock Splits',\n",
    "    'EV/EBIT', 'ROIC']\n",
    "catNames = ['Industry']\n",
    "batchSize = 256\n",
    "epochs = 30\n",
    "\n",
    "# Testing parameters\n",
    "testSize = 400  # Number of stocks to test, 'ALL' for all non-training stocks\n",
    "\n",
    "# Paths\n",
    "basePath = Path.cwd().parent\n",
    "dataFolder = basePath / 'TrainingData'\n",
    "modelFolder = basePath.parent / 'TrainedModels' / 'stockScreener'\n",
    "testFolder = basePath / 'TestData'"
   ]
  },
  {
   "cell_type": "markdown",
   "metadata": {},
   "source": [
    "## Data Preparation"
   ]
  },
  {
   "cell_type": "markdown",
   "metadata": {},
   "source": [
    "#### Functions"
   ]
  },
  {
   "cell_type": "code",
   "execution_count": 15,
   "metadata": {},
   "outputs": [],
   "source": [
    "def calculateFutureYearChange(ticker_symbol, timeframe, buffer=1):\n",
    "    try:\n",
    "        ticker = yf.Ticker(ticker_symbol)\n",
    "        end_date = datetime.now().date()\n",
    "        \n",
    "        # Calculate required date range\n",
    "        if timeframe == 'max':\n",
    "            hist = ticker.history(period='max')\n",
    "        else:\n",
    "            years = int(timeframe[:-1])\n",
    "            start_date = end_date - pd.DateOffset(years=years + buffer)\n",
    "            \n",
    "            # First check if ticker has existed long enough\n",
    "            try:\n",
    "                hist = ticker.history(start=start_date, end=end_date)\n",
    "            except Exception as e:\n",
    "                print(f\"Data unavailable for {ticker_symbol} ({timeframe}): {e}\")\n",
    "                return pd.DataFrame()\n",
    "\n",
    "        if hist.empty:\n",
    "            print(f\"No data found for {ticker_symbol} ({timeframe})\")\n",
    "            return pd.DataFrame()\n",
    "\n",
    "        # Calculate future changes only if we have enough data points\n",
    "        if len(hist) < 300:  # Minimum ~1.5 years of trading days\n",
    "            print(f\"Insufficient data for {ticker_symbol} ({len(hist)} rows)\")\n",
    "            return pd.DataFrame()\n",
    "\n",
    "        # Calculate future price change\n",
    "        hist['Future Year Change'] = (hist['Close'].shift(-252) / hist['Close'] - 1)\n",
    "        hist = hist.dropna(subset=['Future Year Change'])\n",
    "        \n",
    "        return hist[['Open', 'Close', 'Volume', 'Dividends', 'Stock Splits', \n",
    "            'Future Year Change']].reset_index()\n",
    "\n",
    "    except Exception as e:\n",
    "        print(f\"Error processing {ticker_symbol}: {str(e)}\")\n",
    "        return pd.DataFrame()"
   ]
  },
  {
   "cell_type": "code",
   "execution_count": 16,
   "metadata": {},
   "outputs": [],
   "source": [
    "def calculateApproxEBIT(tickerSymbol):\n",
    "    try:\n",
    "        info = yf.Ticker(tickerSymbol).info\n",
    "        revenue = info.get('totalRevenue', None)\n",
    "        operatingIncome = info.get('operatingIncome', None)\n",
    "        ebit = operatingIncome if operatingIncome else (revenue * 0.15 if revenue else None)\n",
    "        return ebit if ebit and ebit != 0 else None  # Avoid zero division\n",
    "    except Exception as e:\n",
    "        return None"
   ]
  },
  {
   "cell_type": "code",
   "execution_count": 17,
   "metadata": {},
   "outputs": [],
   "source": [
    "def enrichDataWithMetrics(histData):\n",
    "    \"\"\"Adds EV/EBIT and ROIC to the historical data.\"\"\"\n",
    "    # Initialize columns with NaN if they don't exist\n",
    "    if 'EV/EBIT' not in histData.columns:\n",
    "        histData['EV/EBIT'] = np.nan\n",
    "    if 'ROIC' not in histData.columns:\n",
    "        histData['ROIC'] = np.nan\n",
    "    \n",
    "    for ticker in histData['Ticker'].unique():\n",
    "        try:\n",
    "            evInfo = yf.Ticker(ticker).info\n",
    "            totalDebt, cash, sharesOutstanding = evInfo.get('totalDebt', 0), evInfo.get('totalCash', 0), evInfo.get('sharesOutstanding', None)\n",
    "            ebit = calculateApproxEBIT(ticker)\n",
    "\n",
    "            if sharesOutstanding and ebit and ebit != 0:\n",
    "                histData.loc[histData['Ticker'] == ticker, 'EV/EBIT'] = (\n",
    "                    (histData['Close'] * sharesOutstanding + totalDebt - cash) / ebit\n",
    "                )\n",
    "\n",
    "                taxRate = 0.21\n",
    "                nopat = ebit * (1 - taxRate)\n",
    "                investedCapital = totalDebt + (histData['Close'] * sharesOutstanding) - cash\n",
    "                histData.loc[histData['Ticker'] == ticker, 'ROIC'] = nopat / investedCapital\n",
    "        except Exception as e:\n",
    "            pass\n",
    "    return histData"
   ]
  },
  {
   "cell_type": "code",
   "execution_count": 18,
   "metadata": {},
   "outputs": [],
   "source": [
    "def getTickerDataFrom1YrAgo(ticker_symbol):\n",
    "    try:\n",
    "        # Fetch ticker data\n",
    "        ticker = yf.Ticker(ticker_symbol)\n",
    "\n",
    "        # Define the date range: one year ago to today\n",
    "        today = datetime.today()\n",
    "        one_year_ago = today - timedelta(days=365)\n",
    "\n",
    "        # Fetch historical data for one year ago\n",
    "        hist = ticker.history(start=(one_year_ago - timedelta(days=30)).strftime('%Y-%m-%d'), \n",
    "                              end=(one_year_ago + timedelta(days=0)).strftime('%Y-%m-%d'))\n",
    "        if hist.empty:\n",
    "            raise ValueError(f\"No historical data available for {ticker_symbol} around {one_year_ago.strftime('%Y-%m-%d')}.\")\n",
    "\n",
    "        # Extract the closest data point to one year ago\n",
    "        row = hist.iloc[0]  # Get the first available entry within the date range\n",
    "\n",
    "        # Price today\n",
    "        price_today = ticker.history(period='1d')['Close'].iloc[-1]\n",
    "\n",
    "        # Calculate future price change (from one year ago to today)\n",
    "        price_change_future = ((price_today - row['Close']) / row['Close']) if row['Close'] else None\n",
    "\n",
    "        # Collect additional data\n",
    "        evInfo = yf.Ticker(ticker_symbol).info\n",
    "        total_debt, cash, shares_outstanding = evInfo.get('totalDebt', 0), evInfo.get('totalCash', 0), evInfo.get('sharesOutstanding', None)\n",
    "        ebit = calculateApproxEBIT(ticker_symbol)\n",
    "        ev = (row['Close'] * shares_outstanding) + total_debt - cash if shares_outstanding else None\n",
    "        ev_ebit = ev / ebit if ebit else None\n",
    "        market_cap = row['Close'] * shares_outstanding if shares_outstanding else None\n",
    "        tax_rate = 0.21\n",
    "        nopat = ebit * (1 - tax_rate) if ebit else None\n",
    "        invested_capital = total_debt + market_cap - cash if market_cap and total_debt and cash else None\n",
    "        roic = nopat / invested_capital if nopat and invested_capital else None\n",
    "        industry = yf.Ticker(ticker_symbol).info.get('industry', 'Unknown')\n",
    "\n",
    "        # Return as a DataFrame\n",
    "        return pd.DataFrame([{\n",
    "            'Ticker': ticker_symbol,\n",
    "            'Date': row.name,\n",
    "            'Open': row['Open'],\n",
    "            'High': row['High'],\n",
    "            'Low': row['Low'],\n",
    "            'Close': row['Close'],\n",
    "            'Volume': row['Volume'],\n",
    "            'Dividends': row.get('Dividends', 0.0),\n",
    "            'Stock Splits': row.get('Stock Splits', 0.0),\n",
    "            'Future Year Change': price_change_future,\n",
    "            'Industry': industry,\n",
    "            'EV/EBIT': ev_ebit,\n",
    "            'ROIC': roic\n",
    "        }])\n",
    "\n",
    "    except Exception as e:\n",
    "        print(f\"Error fetching data for {ticker_symbol}: {e}\")\n",
    "        return pd.DataFrame()"
   ]
  },
  {
   "cell_type": "code",
   "execution_count": 19,
   "metadata": {},
   "outputs": [],
   "source": [
    "def getTickerData(ticker_symbol):\n",
    "    try:\n",
    "        ticker = yf.Ticker(ticker_symbol)\n",
    "        hist = ticker.history(period='1d')\n",
    "        evInfo = ticker.info\n",
    "        total_debt, cash, shares_outstanding = evInfo.get('totalDebt', 0), evInfo.get('totalCash', 0), evInfo.get('sharesOutstanding', None)\n",
    "        ebit = calculateApproxEBIT(ticker_symbol)\n",
    "        ev = (hist['Close'].iloc[-1] * shares_outstanding) + total_debt - cash\n",
    "        ev_ebit = ev / ebit if ebit else None\n",
    "        market_cap = hist['Close'].iloc[-1] * shares_outstanding\n",
    "        tax_rate = 0.21\n",
    "        nopat = ebit * (1 - tax_rate) if ebit else None\n",
    "        invested_capital = total_debt + market_cap - cash\n",
    "        roic = nopat / invested_capital if nopat and invested_capital else None\n",
    "        industry = yf.Ticker(ticker_symbol).info.get('industry', 'Unknown')\n",
    "        \n",
    "        # Add the 'Date' column\n",
    "        date = datetime.now().strftime('%Y-%m-%d')\n",
    "\n",
    "        return pd.DataFrame([{\n",
    "            'Date': date,\n",
    "            'Open': hist['Open'].iloc[-1],\n",
    "            'High': hist['High'].iloc[-1],\n",
    "            'Low': hist['Low'].iloc[-1],\n",
    "            'Close': hist['Close'].iloc[-1],\n",
    "            'Volume': hist['Volume'].iloc[-1],\n",
    "            'Dividends': hist.get('Dividends', pd.Series([0.0])).iloc[-1],\n",
    "            'Stock Splits': hist.get('Stock Splits', pd.Series([0.0])).iloc[-1],\n",
    "            'EV/EBIT': ev_ebit,\n",
    "            'Market Cap': market_cap,\n",
    "            'ROIC': roic,\n",
    "            'Industry': industry\n",
    "        }])\n",
    "    except Exception:\n",
    "        return pd.DataFrame()"
   ]
  },
  {
   "cell_type": "markdown",
   "metadata": {},
   "source": [
    "#### Download and Process Historical Data"
   ]
  },
  {
   "cell_type": "code",
   "execution_count": 20,
   "metadata": {},
   "outputs": [
    {
     "name": "stdout",
     "output_type": "stream",
     "text": [
      "Processing TESS...\n"
     ]
    },
    {
     "name": "stderr",
     "output_type": "stream",
     "text": [
      "$TESS: possibly delisted; no timezone found\n"
     ]
    },
    {
     "name": "stdout",
     "output_type": "stream",
     "text": [
      "No data found for TESS (10y)\n",
      "Skipped TESS - insufficient data\n",
      "Processing VGIT...\n"
     ]
    },
    {
     "name": "stderr",
     "output_type": "stream",
     "text": [
      "$CHC: possibly delisted; no price data found  (1d 2014-01-27 00:00:00 -> 2025-01-27)\n"
     ]
    },
    {
     "name": "stdout",
     "output_type": "stream",
     "text": [
      "Processing CHC...\n",
      "No data found for CHC (10y)\n",
      "Skipped CHC - insufficient data\n",
      "Processing IPDN...\n",
      "Processing CFB...\n",
      "Processing CZWI...\n",
      "Processing EFF...\n"
     ]
    },
    {
     "name": "stderr",
     "output_type": "stream",
     "text": [
      "$EFF: possibly delisted; no timezone found\n"
     ]
    },
    {
     "name": "stdout",
     "output_type": "stream",
     "text": [
      "No data found for EFF (10y)\n",
      "Skipped EFF - insufficient data\n",
      "Processing BML-I...\n"
     ]
    },
    {
     "name": "stderr",
     "output_type": "stream",
     "text": [
      "$BML-I: possibly delisted; no timezone found\n"
     ]
    },
    {
     "name": "stdout",
     "output_type": "stream",
     "text": [
      "No data found for BML-I (10y)\n",
      "Skipped BML-I - insufficient data\n",
      "Processing CPLP...\n"
     ]
    },
    {
     "name": "stderr",
     "output_type": "stream",
     "text": [
      "$CPLP: possibly delisted; no timezone found\n"
     ]
    },
    {
     "name": "stdout",
     "output_type": "stream",
     "text": [
      "No data found for CPLP (10y)\n",
      "Skipped CPLP - insufficient data\n",
      "Processing HIO...\n"
     ]
    },
    {
     "name": "stderr",
     "output_type": "stream",
     "text": [
      "$ARX: possibly delisted; no price data found  (1d 2014-01-27 00:00:00 -> 2025-01-27)\n"
     ]
    },
    {
     "name": "stdout",
     "output_type": "stream",
     "text": [
      "Processing ARX...\n",
      "No data found for ARX (10y)\n",
      "Skipped ARX - insufficient data\n",
      "Processing SURG...\n",
      "Processing CPIX...\n"
     ]
    },
    {
     "name": "stderr",
     "output_type": "stream",
     "text": [
      "$FMER: possibly delisted; no price data found  (1d 2014-01-27 00:00:00 -> 2025-01-27)\n",
      "$BKMU: possibly delisted; no price data found  (1d 2014-01-27 00:00:00 -> 2025-01-27)\n"
     ]
    },
    {
     "name": "stdout",
     "output_type": "stream",
     "text": [
      "Processing FMER...\n",
      "No data found for FMER (10y)\n",
      "Skipped FMER - insufficient data\n",
      "Processing BKMU...\n",
      "No data found for BKMU (10y)\n",
      "Skipped BKMU - insufficient data\n",
      "Processing CEB...\n",
      "Insufficient data for CEB (195 rows)\n",
      "Skipped CEB - insufficient data\n",
      "Processing PLXS...\n"
     ]
    },
    {
     "name": "stderr",
     "output_type": "stream",
     "text": [
      "$ONNN: possibly delisted; no price data found  (1d 2014-01-27 00:00:00 -> 2025-01-27)\n"
     ]
    },
    {
     "name": "stdout",
     "output_type": "stream",
     "text": [
      "Processing ONNN...\n",
      "No data found for ONNN (10y)\n",
      "Skipped ONNN - insufficient data\n",
      "Processing NCR...\n"
     ]
    },
    {
     "name": "stderr",
     "output_type": "stream",
     "text": [
      "$NCR: possibly delisted; no timezone found\n",
      "$WFD: possibly delisted; no price data found  (1d 2014-01-27 00:00:00 -> 2025-01-27)\n"
     ]
    },
    {
     "name": "stdout",
     "output_type": "stream",
     "text": [
      "No data found for NCR (10y)\n",
      "Skipped NCR - insufficient data\n",
      "Processing WFD...\n",
      "No data found for WFD (10y)\n",
      "Skipped WFD - insufficient data\n",
      "Processing PBY...\n",
      "Processing MTG...\n",
      "Processing CIB...\n",
      "Processing JOE...\n",
      "Processing ACGL...\n",
      "Processing AEB...\n"
     ]
    },
    {
     "name": "stderr",
     "output_type": "stream",
     "text": [
      "$ARMH: possibly delisted; no price data found  (1d 2014-01-27 00:00:00 -> 2025-01-27)\n"
     ]
    },
    {
     "name": "stdout",
     "output_type": "stream",
     "text": [
      "Processing ARMH...\n",
      "No data found for ARMH (10y)\n",
      "Skipped ARMH - insufficient data\n",
      "Processing SSNC...\n",
      "Processing BUSE...\n",
      "Processing TTGT...\n",
      "Processing NUW...\n",
      "Processing LXFT...\n"
     ]
    },
    {
     "name": "stderr",
     "output_type": "stream",
     "text": [
      "$LXFT: possibly delisted; no timezone found\n",
      "$MENT: possibly delisted; no price data found  (1d 2014-01-27 00:00:00 -> 2025-01-27)\n"
     ]
    },
    {
     "name": "stdout",
     "output_type": "stream",
     "text": [
      "No data found for LXFT (10y)\n",
      "Skipped LXFT - insufficient data\n",
      "Processing MENT...\n",
      "No data found for MENT (10y)\n",
      "Skipped MENT - insufficient data\n",
      "Processing TYN...\n"
     ]
    },
    {
     "name": "stderr",
     "output_type": "stream",
     "text": [
      "$TYN: possibly delisted; no timezone found\n"
     ]
    },
    {
     "name": "stdout",
     "output_type": "stream",
     "text": [
      "No data found for TYN (10y)\n",
      "Skipped TYN - insufficient data\n",
      "Processing CVCO...\n",
      "Processing ARP...\n",
      "Processing KSU.P...\n",
      "Processing PCF...\n",
      "Processing JNJ...\n",
      "Processing VIFL...\n",
      "Insufficient data for VIFL (28 rows)\n",
      "Skipped VIFL - insufficient data\n",
      "Processing SMBC...\n"
     ]
    },
    {
     "name": "stderr",
     "output_type": "stream",
     "text": [
      "$SBW: possibly delisted; no price data found  (1d 2014-01-27 00:00:00 -> 2025-01-27)\n"
     ]
    },
    {
     "name": "stdout",
     "output_type": "stream",
     "text": [
      "Processing SBW...\n",
      "No data found for SBW (10y)\n",
      "Skipped SBW - insufficient data\n",
      "Processing TWI...\n",
      "Processing NUV...\n",
      "Processing STL...\n"
     ]
    },
    {
     "name": "stderr",
     "output_type": "stream",
     "text": [
      "$STL: possibly delisted; no timezone found\n"
     ]
    },
    {
     "name": "stdout",
     "output_type": "stream",
     "text": [
      "No data found for STL (10y)\n",
      "Skipped STL - insufficient data\n",
      "Processing TEP...\n"
     ]
    },
    {
     "name": "stderr",
     "output_type": "stream",
     "text": [
      "$UNIS: possibly delisted; no price data found  (1d 2014-01-27 00:00:00 -> 2025-01-27)\n"
     ]
    },
    {
     "name": "stdout",
     "output_type": "stream",
     "text": [
      "Processing UNIS...\n",
      "No data found for UNIS (10y)\n",
      "Skipped UNIS - insufficient data\n",
      "Processing MSON...\n"
     ]
    },
    {
     "name": "stderr",
     "output_type": "stream",
     "text": [
      "$MSON: possibly delisted; no timezone found\n"
     ]
    },
    {
     "name": "stdout",
     "output_type": "stream",
     "text": [
      "No data found for MSON (10y)\n",
      "Skipped MSON - insufficient data\n",
      "Processing IFN...\n"
     ]
    },
    {
     "name": "stderr",
     "output_type": "stream",
     "text": [
      "$HOLL: possibly delisted; no price data found  (1d 2014-01-27 00:00:00 -> 2025-01-27)\n",
      "$PPP: possibly delisted; no price data found  (1d 2014-01-27 00:00:00 -> 2025-01-27)\n"
     ]
    },
    {
     "name": "stdout",
     "output_type": "stream",
     "text": [
      "Processing HOLL...\n",
      "No data found for HOLL (10y)\n",
      "Skipped HOLL - insufficient data\n",
      "Processing PPP...\n",
      "No data found for PPP (10y)\n",
      "Skipped PPP - insufficient data\n",
      "Processing RNDY...\n"
     ]
    },
    {
     "name": "stderr",
     "output_type": "stream",
     "text": [
      "$RNDY: possibly delisted; no price data found  (1d 2014-01-27 00:00:00 -> 2025-01-27)\n"
     ]
    },
    {
     "name": "stdout",
     "output_type": "stream",
     "text": [
      "No data found for RNDY (10y)\n",
      "Skipped RNDY - insufficient data\n",
      "Processing CYTXW...\n"
     ]
    },
    {
     "name": "stderr",
     "output_type": "stream",
     "text": [
      "$CYTXW: possibly delisted; no timezone found\n"
     ]
    },
    {
     "name": "stdout",
     "output_type": "stream",
     "text": [
      "No data found for CYTXW (10y)\n",
      "Skipped CYTXW - insufficient data\n",
      "Processing AHH...\n",
      "Processing ABCD...\n",
      "Processing AOD...\n",
      "Processing PX...\n",
      "Processing SPG-J...\n"
     ]
    },
    {
     "name": "stderr",
     "output_type": "stream",
     "text": [
      "$SPG-J: possibly delisted; no timezone found\n"
     ]
    },
    {
     "name": "stdout",
     "output_type": "stream",
     "text": [
      "No data found for SPG-J (10y)\n",
      "Skipped SPG-J - insufficient data\n",
      "Processing HCS-B...\n"
     ]
    },
    {
     "name": "stderr",
     "output_type": "stream",
     "text": [
      "$HCS-B: possibly delisted; no timezone found\n"
     ]
    },
    {
     "name": "stdout",
     "output_type": "stream",
     "text": [
      "No data found for HCS-B (10y)\n",
      "Skipped HCS-B - insufficient data\n",
      "Processing RFI...\n",
      "Processing INXN...\n"
     ]
    },
    {
     "name": "stderr",
     "output_type": "stream",
     "text": [
      "$INXN: possibly delisted; no timezone found\n"
     ]
    },
    {
     "name": "stdout",
     "output_type": "stream",
     "text": [
      "No data found for INXN (10y)\n",
      "Skipped INXN - insufficient data\n",
      "Processing RGP...\n",
      "Processing GASS...\n",
      "Processing UBS-D...\n"
     ]
    },
    {
     "name": "stderr",
     "output_type": "stream",
     "text": [
      "$UBS-D: possibly delisted; no timezone found\n"
     ]
    },
    {
     "name": "stdout",
     "output_type": "stream",
     "text": [
      "No data found for UBS-D (10y)\n",
      "Skipped UBS-D - insufficient data\n",
      "Processing GSOL...\n",
      "Insufficient data for GSOL (267 rows)\n",
      "Skipped GSOL - insufficient data\n",
      "Processing CXO...\n"
     ]
    },
    {
     "name": "stderr",
     "output_type": "stream",
     "text": [
      "$CXO: possibly delisted; no timezone found\n"
     ]
    },
    {
     "name": "stdout",
     "output_type": "stream",
     "text": [
      "No data found for CXO (10y)\n",
      "Skipped CXO - insufficient data\n",
      "Processing ASG...\n",
      "Processing FSLR...\n",
      "Processing VGSH...\n"
     ]
    },
    {
     "name": "stderr",
     "output_type": "stream",
     "text": [
      "$LBF: possibly delisted; no price data found  (1d 2014-01-27 00:00:00 -> 2025-01-27)\n",
      "$NMRX: possibly delisted; no price data found  (1d 2014-01-27 00:00:00 -> 2025-01-27)\n"
     ]
    },
    {
     "name": "stdout",
     "output_type": "stream",
     "text": [
      "Processing LBF...\n",
      "No data found for LBF (10y)\n",
      "Skipped LBF - insufficient data\n",
      "Processing NMRX...\n",
      "No data found for NMRX (10y)\n",
      "Skipped NMRX - insufficient data\n",
      "Processing NVAX...\n",
      "Processing TEI...\n",
      "Processing NLST...\n",
      "Processing CPHC...\n"
     ]
    },
    {
     "name": "stderr",
     "output_type": "stream",
     "text": [
      "$FCZA: possibly delisted; no price data found  (1d 2014-01-27 00:00:00 -> 2025-01-27)\n"
     ]
    },
    {
     "name": "stdout",
     "output_type": "stream",
     "text": [
      "Processing FCZA...\n",
      "No data found for FCZA (10y)\n",
      "Skipped FCZA - insufficient data\n",
      "Processing FOXA...\n",
      "Processing PSB-S...\n"
     ]
    },
    {
     "name": "stderr",
     "output_type": "stream",
     "text": [
      "$PSB-S: possibly delisted; no timezone found\n",
      "$CPHD: possibly delisted; no price data found  (1d 2014-01-27 00:00:00 -> 2025-01-27)\n"
     ]
    },
    {
     "name": "stdout",
     "output_type": "stream",
     "text": [
      "No data found for PSB-S (10y)\n",
      "Skipped PSB-S - insufficient data\n",
      "Processing CPHD...\n",
      "No data found for CPHD (10y)\n",
      "Skipped CPHD - insufficient data\n",
      "Processing HAR...\n",
      "Processing BCPC...\n",
      "Processing FCCO...\n",
      "Processing MER-E...\n"
     ]
    },
    {
     "name": "stderr",
     "output_type": "stream",
     "text": [
      "$MER-E: possibly delisted; no timezone found\n"
     ]
    },
    {
     "name": "stdout",
     "output_type": "stream",
     "text": [
      "No data found for MER-E (10y)\n",
      "Skipped MER-E - insufficient data\n",
      "Processing NXPI...\n",
      "Processing GOODP...\n"
     ]
    },
    {
     "name": "stderr",
     "output_type": "stream",
     "text": [
      "$GOODP: possibly delisted; no timezone found\n",
      "$PBNY: possibly delisted; no price data found  (1d 2014-01-27 00:00:00 -> 2025-01-27)\n"
     ]
    },
    {
     "name": "stdout",
     "output_type": "stream",
     "text": [
      "No data found for GOODP (10y)\n",
      "Skipped GOODP - insufficient data\n",
      "Processing PBNY...\n",
      "No data found for PBNY (10y)\n",
      "Skipped PBNY - insufficient data\n",
      "Processing AHT-PA...\n"
     ]
    },
    {
     "name": "stderr",
     "output_type": "stream",
     "text": [
      "$AHT-PA: possibly delisted; no price data found  (1d 2014-01-27 00:00:00 -> 2025-01-27)\n",
      "$ARN: possibly delisted; no price data found  (1d 2014-01-27 00:00:00 -> 2025-01-27)\n"
     ]
    },
    {
     "name": "stdout",
     "output_type": "stream",
     "text": [
      "No data found for AHT-PA (10y)\n",
      "Skipped AHT-PA - insufficient data\n",
      "Processing ARN...\n",
      "No data found for ARN (10y)\n",
      "Skipped ARN - insufficient data\n",
      "Processing VTWO...\n",
      "Processing LUNA...\n",
      "Processing DUKH...\n",
      "Insufficient data for DUKH (136 rows)\n",
      "Skipped DUKH - insufficient data\n",
      "Processing JBLU...\n"
     ]
    },
    {
     "name": "stderr",
     "output_type": "stream",
     "text": [
      "$PCLN: possibly delisted; no price data found  (1d 2014-01-27 00:00:00 -> 2025-01-27)\n"
     ]
    },
    {
     "name": "stdout",
     "output_type": "stream",
     "text": [
      "Processing PCLN...\n",
      "No data found for PCLN (10y)\n",
      "Skipped PCLN - insufficient data\n",
      "Processing PGEM...\n",
      "Processing THTI...\n"
     ]
    },
    {
     "name": "stderr",
     "output_type": "stream",
     "text": [
      "$THTI: possibly delisted; no timezone found\n"
     ]
    },
    {
     "name": "stdout",
     "output_type": "stream",
     "text": [
      "No data found for THTI (10y)\n",
      "Skipped THTI - insufficient data\n",
      "Processing JPM-I...\n"
     ]
    },
    {
     "name": "stderr",
     "output_type": "stream",
     "text": [
      "$JPM-I: possibly delisted; no timezone found\n"
     ]
    },
    {
     "name": "stdout",
     "output_type": "stream",
     "text": [
      "No data found for JPM-I (10y)\n",
      "Skipped JPM-I - insufficient data\n",
      "Processing MTB.P...\n",
      "Processing IN...\n",
      "Processing FBC...\n"
     ]
    },
    {
     "name": "stderr",
     "output_type": "stream",
     "text": [
      "$FBC: possibly delisted; no timezone found\n",
      "$CNBC: possibly delisted; no price data found  (1d 2014-01-27 00:00:00 -> 2025-01-27)\n"
     ]
    },
    {
     "name": "stdout",
     "output_type": "stream",
     "text": [
      "No data found for FBC (10y)\n",
      "Skipped FBC - insufficient data\n",
      "Processing CNBC...\n",
      "No data found for CNBC (10y)\n",
      "Skipped CNBC - insufficient data\n",
      "Processing THO...\n",
      "Processing NGVC...\n",
      "Processing KSS...\n",
      "Processing ACI...\n",
      "Processing RMTI...\n",
      "Processing CPRX...\n",
      "Processing ARW...\n",
      "Processing BCC...\n",
      "Processing CYS-A...\n"
     ]
    },
    {
     "name": "stderr",
     "output_type": "stream",
     "text": [
      "$CYS-A: possibly delisted; no timezone found\n"
     ]
    },
    {
     "name": "stdout",
     "output_type": "stream",
     "text": [
      "No data found for CYS-A (10y)\n",
      "Skipped CYS-A - insufficient data\n",
      "Processing GXP-A...\n"
     ]
    },
    {
     "name": "stderr",
     "output_type": "stream",
     "text": [
      "$GXP-A: possibly delisted; no timezone found\n",
      "$HW: possibly delisted; no price data found  (1d 2014-01-27 00:00:00 -> 2025-01-27)\n"
     ]
    },
    {
     "name": "stdout",
     "output_type": "stream",
     "text": [
      "No data found for GXP-A (10y)\n",
      "Skipped GXP-A - insufficient data\n",
      "Processing HW...\n",
      "No data found for HW (10y)\n",
      "Skipped HW - insufficient data\n",
      "Processing WYNN...\n",
      "Processing GEK...\n"
     ]
    },
    {
     "name": "stderr",
     "output_type": "stream",
     "text": [
      "$GEK: possibly delisted; no timezone found\n"
     ]
    },
    {
     "name": "stdout",
     "output_type": "stream",
     "text": [
      "No data found for GEK (10y)\n",
      "Skipped GEK - insufficient data\n",
      "Processing IIIN...\n",
      "Processing JMBA...\n",
      "Processing BKSC...\n",
      "Processing SB-B...\n"
     ]
    },
    {
     "name": "stderr",
     "output_type": "stream",
     "text": [
      "$SB-B: possibly delisted; no timezone found\n"
     ]
    },
    {
     "name": "stdout",
     "output_type": "stream",
     "text": [
      "No data found for SB-B (10y)\n",
      "Skipped SB-B - insufficient data\n",
      "Processing MCBC...\n"
     ]
    },
    {
     "name": "stderr",
     "output_type": "stream",
     "text": [
      "$MCBC: possibly delisted; no timezone found\n"
     ]
    },
    {
     "name": "stdout",
     "output_type": "stream",
     "text": [
      "No data found for MCBC (10y)\n",
      "Skipped MCBC - insufficient data\n",
      "Processing IPAR...\n",
      "Processing GSE...\n"
     ]
    },
    {
     "name": "stderr",
     "output_type": "stream",
     "text": [
      "$KIOR: possibly delisted; no price data found  (1d 2014-01-27 00:00:00 -> 2025-01-27)\n"
     ]
    },
    {
     "name": "stdout",
     "output_type": "stream",
     "text": [
      "Processing KIOR...\n",
      "No data found for KIOR (10y)\n",
      "Skipped KIOR - insufficient data\n",
      "Processing HCKT...\n",
      "Processing WSBC...\n",
      "Processing TECH...\n",
      "Processing FUR-D...\n"
     ]
    },
    {
     "name": "stderr",
     "output_type": "stream",
     "text": [
      "$FUR-D: possibly delisted; no timezone found\n"
     ]
    },
    {
     "name": "stdout",
     "output_type": "stream",
     "text": [
      "No data found for FUR-D (10y)\n",
      "Skipped FUR-D - insufficient data\n",
      "Processing CAMT...\n",
      "Processing RDNT...\n",
      "Processing SHI...\n"
     ]
    },
    {
     "name": "stderr",
     "output_type": "stream",
     "text": [
      "$SHI: possibly delisted; no timezone found\n",
      "$GSF: possibly delisted; no price data found  (1d 2014-01-27 00:00:00 -> 2025-01-27)\n"
     ]
    },
    {
     "name": "stdout",
     "output_type": "stream",
     "text": [
      "No data found for SHI (10y)\n",
      "Skipped SHI - insufficient data\n",
      "Processing GSF...\n",
      "No data found for GSF (10y)\n",
      "Skipped GSF - insufficient data\n",
      "Processing SLB...\n",
      "Processing UFI...\n",
      "Processing PRCP...\n"
     ]
    },
    {
     "name": "stderr",
     "output_type": "stream",
     "text": [
      "$PRCP: possibly delisted; no timezone found\n"
     ]
    },
    {
     "name": "stdout",
     "output_type": "stream",
     "text": [
      "No data found for PRCP (10y)\n",
      "Skipped PRCP - insufficient data\n",
      "Processing NVMI...\n"
     ]
    },
    {
     "name": "stderr",
     "output_type": "stream",
     "text": [
      "$WRES: possibly delisted; no price data found  (1d 2014-01-27 00:00:00 -> 2025-01-27)\n"
     ]
    },
    {
     "name": "stdout",
     "output_type": "stream",
     "text": [
      "Processing WRES...\n",
      "No data found for WRES (10y)\n",
      "Skipped WRES - insufficient data\n",
      "Processing CHU...\n"
     ]
    },
    {
     "name": "stderr",
     "output_type": "stream",
     "text": [
      "$CHU: possibly delisted; no timezone found\n"
     ]
    },
    {
     "name": "stdout",
     "output_type": "stream",
     "text": [
      "No data found for CHU (10y)\n",
      "Skipped CHU - insufficient data\n",
      "Processing RTEC...\n"
     ]
    },
    {
     "name": "stderr",
     "output_type": "stream",
     "text": [
      "$RTEC: possibly delisted; no timezone found\n"
     ]
    },
    {
     "name": "stdout",
     "output_type": "stream",
     "text": [
      "No data found for RTEC (10y)\n",
      "Skipped RTEC - insufficient data\n",
      "Processing IMGN...\n"
     ]
    },
    {
     "name": "stderr",
     "output_type": "stream",
     "text": [
      "$IMGN: possibly delisted; no timezone found\n"
     ]
    },
    {
     "name": "stdout",
     "output_type": "stream",
     "text": [
      "No data found for IMGN (10y)\n",
      "Skipped IMGN - insufficient data\n",
      "Processing I-A...\n"
     ]
    },
    {
     "name": "stderr",
     "output_type": "stream",
     "text": [
      "$I-A: possibly delisted; no timezone found\n"
     ]
    },
    {
     "name": "stdout",
     "output_type": "stream",
     "text": [
      "No data found for I-A (10y)\n",
      "Skipped I-A - insufficient data\n",
      "Processing BRKL...\n",
      "Processing GRX-A...\n"
     ]
    },
    {
     "name": "stderr",
     "output_type": "stream",
     "text": [
      "$GRX-A: possibly delisted; no timezone found\n"
     ]
    },
    {
     "name": "stdout",
     "output_type": "stream",
     "text": [
      "No data found for GRX-A (10y)\n",
      "Skipped GRX-A - insufficient data\n",
      "Processing GCI...\n",
      "Processing BPOP...\n",
      "Processing GIFI...\n"
     ]
    },
    {
     "name": "stderr",
     "output_type": "stream",
     "text": [
      "$LRY: possibly delisted; no price data found  (1d 2014-01-27 00:00:00 -> 2025-01-27)\n"
     ]
    },
    {
     "name": "stdout",
     "output_type": "stream",
     "text": [
      "Processing LRY...\n",
      "No data found for LRY (10y)\n",
      "Skipped LRY - insufficient data\n",
      "Processing IMKTA...\n"
     ]
    },
    {
     "name": "stderr",
     "output_type": "stream",
     "text": [
      "$CGI: possibly delisted; no price data found  (1d 2014-01-27 00:00:00 -> 2025-01-27)\n"
     ]
    },
    {
     "name": "stdout",
     "output_type": "stream",
     "text": [
      "Processing CGI...\n",
      "No data found for CGI (10y)\n",
      "Skipped CGI - insufficient data\n",
      "Processing ONFC...\n"
     ]
    },
    {
     "name": "stderr",
     "output_type": "stream",
     "text": [
      "$ONFC: possibly delisted; no price data found  (1d 2014-01-27 00:00:00 -> 2025-01-27)\n"
     ]
    },
    {
     "name": "stdout",
     "output_type": "stream",
     "text": [
      "No data found for ONFC (10y)\n",
      "Skipped ONFC - insufficient data\n",
      "Processing SXE...\n"
     ]
    },
    {
     "name": "stderr",
     "output_type": "stream",
     "text": [
      "$SXE: possibly delisted; no timezone found\n"
     ]
    },
    {
     "name": "stdout",
     "output_type": "stream",
     "text": [
      "No data found for SXE (10y)\n",
      "Skipped SXE - insufficient data\n",
      "Processing DX-B...\n"
     ]
    },
    {
     "name": "stderr",
     "output_type": "stream",
     "text": [
      "$DX-B: possibly delisted; no timezone found\n",
      "$ASDR: possibly delisted; no price data found  (1d 2014-01-27 00:00:00 -> 2025-01-27)\n"
     ]
    },
    {
     "name": "stdout",
     "output_type": "stream",
     "text": [
      "No data found for DX-B (10y)\n",
      "Skipped DX-B - insufficient data\n",
      "Processing ASDR...\n",
      "No data found for ASDR (10y)\n",
      "Skipped ASDR - insufficient data\n",
      "Processing BXP...\n",
      "Processing EQM...\n"
     ]
    },
    {
     "name": "stderr",
     "output_type": "stream",
     "text": [
      "$EQM: possibly delisted; no timezone found\n"
     ]
    },
    {
     "name": "stdout",
     "output_type": "stream",
     "text": [
      "No data found for EQM (10y)\n",
      "Skipped EQM - insufficient data\n",
      "Processing CHMT...\n"
     ]
    },
    {
     "name": "stderr",
     "output_type": "stream",
     "text": [
      "$CHMT: possibly delisted; no timezone found\n",
      "$MIL: possibly delisted; no price data found  (1d 2014-01-27 00:00:00 -> 2025-01-27)\n"
     ]
    },
    {
     "name": "stdout",
     "output_type": "stream",
     "text": [
      "No data found for CHMT (10y)\n",
      "Skipped CHMT - insufficient data\n",
      "Processing MIL...\n",
      "No data found for MIL (10y)\n",
      "Skipped MIL - insufficient data\n",
      "Processing RGR...\n",
      "Processing CY...\n"
     ]
    },
    {
     "name": "stderr",
     "output_type": "stream",
     "text": [
      "$CY: possibly delisted; no timezone found\n"
     ]
    },
    {
     "name": "stdout",
     "output_type": "stream",
     "text": [
      "No data found for CY (10y)\n",
      "Skipped CY - insufficient data\n",
      "Processing NDAQ...\n",
      "Processing TISA...\n"
     ]
    },
    {
     "name": "stderr",
     "output_type": "stream",
     "text": [
      "$TISA: possibly delisted; no timezone found\n"
     ]
    },
    {
     "name": "stdout",
     "output_type": "stream",
     "text": [
      "No data found for TISA (10y)\n",
      "Skipped TISA - insufficient data\n",
      "Processing UNP...\n",
      "Processing UBP-D...\n"
     ]
    },
    {
     "name": "stderr",
     "output_type": "stream",
     "text": [
      "$UBP-D: possibly delisted; no timezone found\n"
     ]
    },
    {
     "name": "stdout",
     "output_type": "stream",
     "text": [
      "No data found for UBP-D (10y)\n",
      "Skipped UBP-D - insufficient data\n",
      "Processing HR...\n",
      "Processing GLUU...\n"
     ]
    },
    {
     "name": "stderr",
     "output_type": "stream",
     "text": [
      "$GLUU: possibly delisted; no timezone found\n"
     ]
    },
    {
     "name": "stdout",
     "output_type": "stream",
     "text": [
      "No data found for GLUU (10y)\n",
      "Skipped GLUU - insufficient data\n",
      "Processing NIM...\n",
      "Processing SNX...\n"
     ]
    },
    {
     "name": "stderr",
     "output_type": "stream",
     "text": [
      "$ENL: possibly delisted; no price data found  (1d 2014-01-27 00:00:00 -> 2025-01-27)\n"
     ]
    },
    {
     "name": "stdout",
     "output_type": "stream",
     "text": [
      "Processing ENL...\n",
      "No data found for ENL (10y)\n",
      "Skipped ENL - insufficient data\n",
      "Processing RHT...\n"
     ]
    },
    {
     "name": "stderr",
     "output_type": "stream",
     "text": [
      "$RHT: possibly delisted; no timezone found\n"
     ]
    },
    {
     "name": "stdout",
     "output_type": "stream",
     "text": [
      "No data found for RHT (10y)\n",
      "Skipped RHT - insufficient data\n",
      "Processing LPSN...\n"
     ]
    },
    {
     "name": "stderr",
     "output_type": "stream",
     "text": [
      "$VOCS: possibly delisted; no price data found  (1d 2014-01-27 00:00:00 -> 2025-01-27)\n"
     ]
    },
    {
     "name": "stdout",
     "output_type": "stream",
     "text": [
      "Processing VOCS...\n",
      "No data found for VOCS (10y)\n",
      "Skipped VOCS - insufficient data\n",
      "Processing ZLTQ...\n"
     ]
    },
    {
     "name": "stderr",
     "output_type": "stream",
     "text": [
      "$ZLTQ: possibly delisted; no price data found  (1d 2014-01-27 00:00:00 -> 2025-01-27)\n",
      "$JFBI: possibly delisted; no price data found  (1d 2014-01-27 00:00:00 -> 2025-01-27)\n"
     ]
    },
    {
     "name": "stdout",
     "output_type": "stream",
     "text": [
      "No data found for ZLTQ (10y)\n",
      "Skipped ZLTQ - insufficient data\n",
      "Processing JFBI...\n",
      "No data found for JFBI (10y)\n",
      "Skipped JFBI - insufficient data\n",
      "Processing EEME...\n",
      "Processing EVER...\n"
     ]
    },
    {
     "name": "stderr",
     "output_type": "stream",
     "text": [
      "$PEOP: possibly delisted; no price data found  (1d 2014-01-27 00:00:00 -> 2025-01-27)\n",
      "$ESD: possibly delisted; no price data found  (1d 2014-01-27 00:00:00 -> 2025-01-27)\n"
     ]
    },
    {
     "name": "stdout",
     "output_type": "stream",
     "text": [
      "Processing PEOP...\n",
      "No data found for PEOP (10y)\n",
      "Skipped PEOP - insufficient data\n",
      "Processing ESD...\n",
      "No data found for ESD (10y)\n",
      "Skipped ESD - insufficient data\n",
      "Processing MOLXA...\n"
     ]
    },
    {
     "name": "stderr",
     "output_type": "stream",
     "text": [
      "$MOLXA: possibly delisted; no price data found  (1d 2014-01-27 00:00:00 -> 2025-01-27)\n"
     ]
    },
    {
     "name": "stdout",
     "output_type": "stream",
     "text": [
      "No data found for MOLXA (10y)\n",
      "Skipped MOLXA - insufficient data\n",
      "Processing SUNS...\n",
      "Insufficient data for SUNS (138 rows)\n",
      "Skipped SUNS - insufficient data\n",
      "Processing SMTX...\n"
     ]
    },
    {
     "name": "stderr",
     "output_type": "stream",
     "text": [
      "$SMTX: possibly delisted; no timezone found\n"
     ]
    },
    {
     "name": "stdout",
     "output_type": "stream",
     "text": [
      "No data found for SMTX (10y)\n",
      "Skipped SMTX - insufficient data\n",
      "Processing GES...\n",
      "Processing RELV...\n",
      "Processing RPRXZ...\n"
     ]
    },
    {
     "name": "stderr",
     "output_type": "stream",
     "text": [
      "$RPRXZ: possibly delisted; no timezone found\n"
     ]
    },
    {
     "name": "stdout",
     "output_type": "stream",
     "text": [
      "No data found for RPRXZ (10y)\n",
      "Skipped RPRXZ - insufficient data\n",
      "Processing ICCC...\n",
      "Processing AEP...\n",
      "Processing AKO.A...\n"
     ]
    },
    {
     "name": "stderr",
     "output_type": "stream",
     "text": [
      "$AKO.A: possibly delisted; no timezone found\n"
     ]
    },
    {
     "name": "stdout",
     "output_type": "stream",
     "text": [
      "No data found for AKO.A (10y)\n",
      "Skipped AKO.A - insufficient data\n",
      "Processing TDI...\n",
      "Insufficient data for TDI (279 rows)\n",
      "Skipped TDI - insufficient data\n",
      "Processing POR...\n",
      "Processing DHIL...\n",
      "Processing BCSB...\n",
      "Insufficient data for BCSB (15 rows)\n",
      "Skipped BCSB - insufficient data\n",
      "Processing M...\n",
      "Processing XOM...\n"
     ]
    },
    {
     "name": "stderr",
     "output_type": "stream",
     "text": [
      "$IDIX: possibly delisted; no price data found  (1d 2014-01-27 00:00:00 -> 2025-01-27)\n"
     ]
    },
    {
     "name": "stdout",
     "output_type": "stream",
     "text": [
      "Processing IDIX...\n",
      "No data found for IDIX (10y)\n",
      "Skipped IDIX - insufficient data\n",
      "Processing PLCE...\n"
     ]
    },
    {
     "name": "stderr",
     "output_type": "stream",
     "text": [
      "$LCC: possibly delisted; no price data found  (1d 2014-01-27 00:00:00 -> 2025-01-27)\n"
     ]
    },
    {
     "name": "stdout",
     "output_type": "stream",
     "text": [
      "Processing LCC...\n",
      "No data found for LCC (10y)\n",
      "Skipped LCC - insufficient data\n",
      "Processing SAFT...\n",
      "Processing PYC...\n"
     ]
    },
    {
     "name": "stderr",
     "output_type": "stream",
     "text": [
      "$IL: possibly delisted; no price data found  (1d 2014-01-27 00:00:00 -> 2025-01-27)\n"
     ]
    },
    {
     "name": "stdout",
     "output_type": "stream",
     "text": [
      "Processing IL...\n",
      "No data found for IL (10y)\n",
      "Skipped IL - insufficient data\n",
      "Processing HSB-B...\n"
     ]
    },
    {
     "name": "stderr",
     "output_type": "stream",
     "text": [
      "$HSB-B: possibly delisted; no timezone found\n",
      "$JBO: possibly delisted; no price data found  (1d 2014-01-27 00:00:00 -> 2025-01-27)\n"
     ]
    },
    {
     "name": "stdout",
     "output_type": "stream",
     "text": [
      "No data found for HSB-B (10y)\n",
      "Skipped HSB-B - insufficient data\n",
      "Processing JBO...\n",
      "No data found for JBO (10y)\n",
      "Skipped JBO - insufficient data\n",
      "Processing AAT...\n",
      "Processing JE...\n"
     ]
    },
    {
     "name": "stderr",
     "output_type": "stream",
     "text": [
      "$JE: possibly delisted; no timezone found\n"
     ]
    },
    {
     "name": "stdout",
     "output_type": "stream",
     "text": [
      "No data found for JE (10y)\n",
      "Skipped JE - insufficient data\n",
      "Processing PFN...\n",
      "Processing QIWI...\n",
      "Processing MPG-A...\n"
     ]
    },
    {
     "name": "stderr",
     "output_type": "stream",
     "text": [
      "$MPG-A: possibly delisted; no timezone found\n",
      "$BRCM: possibly delisted; no price data found  (1d 2014-01-27 00:00:00 -> 2025-01-27)\n"
     ]
    },
    {
     "name": "stdout",
     "output_type": "stream",
     "text": [
      "No data found for MPG-A (10y)\n",
      "Skipped MPG-A - insufficient data\n",
      "Processing BRCM...\n",
      "No data found for BRCM (10y)\n",
      "Skipped BRCM - insufficient data\n",
      "Processing NSIT...\n",
      "Processing HSTM...\n",
      "Processing APF...\n"
     ]
    },
    {
     "name": "stderr",
     "output_type": "stream",
     "text": [
      "$APF: possibly delisted; no timezone found\n",
      "$BONT: possibly delisted; no price data found  (1d 2014-01-27 00:00:00 -> 2025-01-27)\n"
     ]
    },
    {
     "name": "stdout",
     "output_type": "stream",
     "text": [
      "No data found for APF (10y)\n",
      "Skipped APF - insufficient data\n",
      "Processing BONT...\n",
      "No data found for BONT (10y)\n",
      "Skipped BONT - insufficient data\n",
      "Processing FSCI...\n",
      "Processing CNQ...\n",
      "Processing HTCO...\n",
      "Processing CIS...\n",
      "Processing ALU...\n",
      "Insufficient data for ALU (196 rows)\n",
      "Skipped ALU - insufficient data\n",
      "Processing GARS...\n"
     ]
    },
    {
     "name": "stderr",
     "output_type": "stream",
     "text": [
      "$GARS: possibly delisted; no timezone found\n"
     ]
    },
    {
     "name": "stdout",
     "output_type": "stream",
     "text": [
      "No data found for GARS (10y)\n",
      "Skipped GARS - insufficient data\n",
      "Processing AU...\n",
      "Processing EXEL...\n",
      "Processing CRD.B...\n"
     ]
    },
    {
     "name": "stderr",
     "output_type": "stream",
     "text": [
      "$CRD.B: possibly delisted; no timezone found\n",
      "$ANLY: possibly delisted; no price data found  (1d 2014-01-27 00:00:00 -> 2025-01-27)\n"
     ]
    },
    {
     "name": "stdout",
     "output_type": "stream",
     "text": [
      "No data found for CRD.B (10y)\n",
      "Skipped CRD.B - insufficient data\n",
      "Processing ANLY...\n",
      "No data found for ANLY (10y)\n",
      "Skipped ANLY - insufficient data\n",
      "Processing STK...\n",
      "Processing ENDP...\n"
     ]
    },
    {
     "name": "stderr",
     "output_type": "stream",
     "text": [
      "$ENDP: possibly delisted; no timezone found\n"
     ]
    },
    {
     "name": "stdout",
     "output_type": "stream",
     "text": [
      "No data found for ENDP (10y)\n",
      "Skipped ENDP - insufficient data\n",
      "Processing FC...\n",
      "Processing CVLT...\n",
      "Processing BRKS...\n"
     ]
    },
    {
     "name": "stderr",
     "output_type": "stream",
     "text": [
      "$BRKS: possibly delisted; no timezone found\n"
     ]
    },
    {
     "name": "stdout",
     "output_type": "stream",
     "text": [
      "No data found for BRKS (10y)\n",
      "Skipped BRKS - insufficient data\n",
      "Processing EE...\n"
     ]
    },
    {
     "name": "stderr",
     "output_type": "stream",
     "text": [
      "$XRSC: possibly delisted; no price data found  (1d 2014-01-27 00:00:00 -> 2025-01-27)\n"
     ]
    },
    {
     "name": "stdout",
     "output_type": "stream",
     "text": [
      "Processing XRSC...\n",
      "No data found for XRSC (10y)\n",
      "Skipped XRSC - insufficient data\n",
      "Processing LBTYA...\n",
      "Processing PERI...\n",
      "Processing SDLP...\n"
     ]
    },
    {
     "name": "stderr",
     "output_type": "stream",
     "text": [
      "$SDLP: possibly delisted; no timezone found\n"
     ]
    },
    {
     "name": "stdout",
     "output_type": "stream",
     "text": [
      "No data found for SDLP (10y)\n",
      "Skipped SDLP - insufficient data\n",
      "Processing OABC...\n"
     ]
    },
    {
     "name": "stderr",
     "output_type": "stream",
     "text": [
      "$FAV: possibly delisted; no price data found  (1d 2014-01-27 00:00:00 -> 2025-01-27)\n"
     ]
    },
    {
     "name": "stdout",
     "output_type": "stream",
     "text": [
      "Insufficient data for OABC (220 rows)\n",
      "Skipped OABC - insufficient data\n",
      "Processing FAV...\n",
      "No data found for FAV (10y)\n",
      "Skipped FAV - insufficient data\n",
      "Processing WVVI...\n",
      "Processing CSV...\n",
      "Processing ETV...\n"
     ]
    },
    {
     "name": "stderr",
     "output_type": "stream",
     "text": [
      "$BGSC: possibly delisted; no price data found  (1d 2014-01-27 00:00:00 -> 2025-01-27)\n"
     ]
    },
    {
     "name": "stdout",
     "output_type": "stream",
     "text": [
      "Processing BGSC...\n",
      "No data found for BGSC (10y)\n",
      "Skipped BGSC - insufficient data\n",
      "Processing DHT...\n",
      "Processing SCE-F...\n"
     ]
    },
    {
     "name": "stderr",
     "output_type": "stream",
     "text": [
      "$SCE-F: possibly delisted; no timezone found\n"
     ]
    },
    {
     "name": "stdout",
     "output_type": "stream",
     "text": [
      "No data found for SCE-F (10y)\n",
      "Skipped SCE-F - insufficient data\n",
      "Processing MGF...\n",
      "Processing GNE...\n",
      "Processing CAH...\n",
      "Processing LKFN...\n"
     ]
    },
    {
     "name": "stderr",
     "output_type": "stream",
     "text": [
      "$NNP: possibly delisted; no price data found  (1d 2014-01-27 00:00:00 -> 2025-01-27)\n"
     ]
    },
    {
     "name": "stdout",
     "output_type": "stream",
     "text": [
      "Processing NNP...\n",
      "No data found for NNP (10y)\n",
      "Skipped NNP - insufficient data\n",
      "Processing DTE...\n",
      "Processing RCII...\n"
     ]
    },
    {
     "name": "stderr",
     "output_type": "stream",
     "text": [
      "$RCII: possibly delisted; no timezone found\n"
     ]
    },
    {
     "name": "stdout",
     "output_type": "stream",
     "text": [
      "No data found for RCII (10y)\n",
      "Skipped RCII - insufficient data\n",
      "Processing KOF...\n",
      "Processing TEVA...\n",
      "Processing DNKN...\n"
     ]
    },
    {
     "name": "stderr",
     "output_type": "stream",
     "text": [
      "$DNKN: possibly delisted; no timezone found\n",
      "$CVB: possibly delisted; no price data found  (1d 2014-01-27 00:00:00 -> 2025-01-27)\n"
     ]
    },
    {
     "name": "stdout",
     "output_type": "stream",
     "text": [
      "No data found for DNKN (10y)\n",
      "Skipped DNKN - insufficient data\n",
      "Processing CVB...\n",
      "No data found for CVB (10y)\n",
      "Skipped CVB - insufficient data\n",
      "Processing GCOM...\n",
      "Processing NLY-C...\n"
     ]
    },
    {
     "name": "stderr",
     "output_type": "stream",
     "text": [
      "$NLY-C: possibly delisted; no timezone found\n"
     ]
    },
    {
     "name": "stdout",
     "output_type": "stream",
     "text": [
      "No data found for NLY-C (10y)\n",
      "Skipped NLY-C - insufficient data\n",
      "Processing SAQ...\n"
     ]
    },
    {
     "name": "stderr",
     "output_type": "stream",
     "text": [
      "$SAQ: possibly delisted; no timezone found\n"
     ]
    },
    {
     "name": "stdout",
     "output_type": "stream",
     "text": [
      "No data found for SAQ (10y)\n",
      "Skipped SAQ - insufficient data\n",
      "Processing OPY...\n",
      "Processing NSM...\n"
     ]
    },
    {
     "name": "stderr",
     "output_type": "stream",
     "text": [
      "$CWZ: possibly delisted; no price data found  (1d 2014-01-27 00:00:00 -> 2025-01-27)\n"
     ]
    },
    {
     "name": "stdout",
     "output_type": "stream",
     "text": [
      "Processing CWZ...\n",
      "No data found for CWZ (10y)\n",
      "Skipped CWZ - insufficient data\n",
      "Processing XRAY...\n",
      "Processing MFA...\n"
     ]
    },
    {
     "name": "stderr",
     "output_type": "stream",
     "text": [
      "$HME: possibly delisted; no price data found  (1d 2014-01-27 00:00:00 -> 2025-01-27)\n"
     ]
    },
    {
     "name": "stdout",
     "output_type": "stream",
     "text": [
      "Processing HME...\n",
      "No data found for HME (10y)\n",
      "Skipped HME - insufficient data\n",
      "Processing BDSI...\n"
     ]
    },
    {
     "name": "stderr",
     "output_type": "stream",
     "text": [
      "$BDSI: possibly delisted; no timezone found\n"
     ]
    },
    {
     "name": "stdout",
     "output_type": "stream",
     "text": [
      "No data found for BDSI (10y)\n",
      "Skipped BDSI - insufficient data\n",
      "Processing NAUH...\n",
      "Processing CBNK...\n",
      "Processing BKI...\n"
     ]
    },
    {
     "name": "stderr",
     "output_type": "stream",
     "text": [
      "$BKI: possibly delisted; no timezone found\n"
     ]
    },
    {
     "name": "stdout",
     "output_type": "stream",
     "text": [
      "No data found for BKI (10y)\n",
      "Skipped BKI - insufficient data\n",
      "Processing GIGM...\n"
     ]
    },
    {
     "name": "stderr",
     "output_type": "stream",
     "text": [
      "$UNS: possibly delisted; no price data found  (1d 2014-01-27 00:00:00 -> 2025-01-27)\n"
     ]
    },
    {
     "name": "stdout",
     "output_type": "stream",
     "text": [
      "Processing UNS...\n",
      "No data found for UNS (10y)\n",
      "Skipped UNS - insufficient data\n",
      "Processing SRF...\n"
     ]
    },
    {
     "name": "stderr",
     "output_type": "stream",
     "text": [
      "$SRF: possibly delisted; no timezone found\n"
     ]
    },
    {
     "name": "stdout",
     "output_type": "stream",
     "text": [
      "No data found for SRF (10y)\n",
      "Skipped SRF - insufficient data\n",
      "Processing SGZA...\n"
     ]
    },
    {
     "name": "stderr",
     "output_type": "stream",
     "text": [
      "$SGZA: possibly delisted; no timezone found\n"
     ]
    },
    {
     "name": "stdout",
     "output_type": "stream",
     "text": [
      "No data found for SGZA (10y)\n",
      "Skipped SGZA - insufficient data\n",
      "Processing BML-L...\n"
     ]
    },
    {
     "name": "stderr",
     "output_type": "stream",
     "text": [
      "$BML-L: possibly delisted; no timezone found\n"
     ]
    },
    {
     "name": "stdout",
     "output_type": "stream",
     "text": [
      "No data found for BML-L (10y)\n",
      "Skipped BML-L - insufficient data\n",
      "Processing PHG...\n",
      "Processing MEIL...\n"
     ]
    },
    {
     "name": "stderr",
     "output_type": "stream",
     "text": [
      "$SPPR: possibly delisted; no price data found  (1d 2014-01-27 00:00:00 -> 2025-01-27)\n"
     ]
    },
    {
     "name": "stdout",
     "output_type": "stream",
     "text": [
      "Processing SPPR...\n",
      "No data found for SPPR (10y)\n",
      "Skipped SPPR - insufficient data\n",
      "Processing AL...\n",
      "Processing EXLS...\n",
      "Processing ALV...\n"
     ]
    },
    {
     "name": "stderr",
     "output_type": "stream",
     "text": [
      "$TLAB: possibly delisted; no price data found  (1d 2014-01-27 00:00:00 -> 2025-01-27)\n"
     ]
    },
    {
     "name": "stdout",
     "output_type": "stream",
     "text": [
      "Processing TLAB...\n",
      "No data found for TLAB (10y)\n",
      "Skipped TLAB - insufficient data\n",
      "Processing JW.A...\n"
     ]
    },
    {
     "name": "stderr",
     "output_type": "stream",
     "text": [
      "$JW.A: possibly delisted; no timezone found\n"
     ]
    },
    {
     "name": "stdout",
     "output_type": "stream",
     "text": [
      "No data found for JW.A (10y)\n",
      "Skipped JW.A - insufficient data\n",
      "Processing CISAW...\n"
     ]
    },
    {
     "name": "stderr",
     "output_type": "stream",
     "text": [
      "$CISAW: possibly delisted; no timezone found\n",
      "$EOPN: possibly delisted; no price data found  (1d 2014-01-27 00:00:00 -> 2025-01-27)\n"
     ]
    },
    {
     "name": "stdout",
     "output_type": "stream",
     "text": [
      "No data found for CISAW (10y)\n",
      "Skipped CISAW - insufficient data\n",
      "Processing EOPN...\n",
      "No data found for EOPN (10y)\n",
      "Skipped EOPN - insufficient data\n",
      "Processing MDR...\n"
     ]
    },
    {
     "name": "stderr",
     "output_type": "stream",
     "text": [
      "$MDR: possibly delisted; no timezone found\n"
     ]
    },
    {
     "name": "stdout",
     "output_type": "stream",
     "text": [
      "No data found for MDR (10y)\n",
      "Skipped MDR - insufficient data\n",
      "Processing EBS...\n"
     ]
    },
    {
     "name": "stderr",
     "output_type": "stream",
     "text": [
      "$GSJK: possibly delisted; no price data found  (1d 2014-01-27 00:00:00 -> 2025-01-27)\n"
     ]
    },
    {
     "name": "stdout",
     "output_type": "stream",
     "text": [
      "Processing GSJK...\n",
      "No data found for GSJK (10y)\n",
      "Skipped GSJK - insufficient data\n",
      "Processing SFI-F...\n"
     ]
    },
    {
     "name": "stderr",
     "output_type": "stream",
     "text": [
      "$SFI-F: possibly delisted; no timezone found\n"
     ]
    },
    {
     "name": "stdout",
     "output_type": "stream",
     "text": [
      "No data found for SFI-F (10y)\n",
      "Skipped SFI-F - insufficient data\n",
      "Processing CWST...\n",
      "Processing RENT...\n",
      "Processing SQQQ...\n",
      "Processing JACK...\n"
     ]
    },
    {
     "name": "stderr",
     "output_type": "stream",
     "text": [
      "$DRWI: possibly delisted; no price data found  (1d 2014-01-27 00:00:00 -> 2025-01-27)\n",
      "$EFM: possibly delisted; no price data found  (1d 2014-01-27 00:00:00 -> 2025-01-27)\n"
     ]
    },
    {
     "name": "stdout",
     "output_type": "stream",
     "text": [
      "Processing DRWI...\n",
      "No data found for DRWI (10y)\n",
      "Skipped DRWI - insufficient data\n",
      "Processing EFM...\n",
      "No data found for EFM (10y)\n",
      "Skipped EFM - insufficient data\n",
      "Processing AROW...\n"
     ]
    },
    {
     "name": "stderr",
     "output_type": "stream",
     "text": [
      "$PRXL: possibly delisted; no price data found  (1d 2014-01-27 00:00:00 -> 2025-01-27)\n"
     ]
    },
    {
     "name": "stdout",
     "output_type": "stream",
     "text": [
      "Processing PRXL...\n",
      "No data found for PRXL (10y)\n",
      "Skipped PRXL - insufficient data\n",
      "Processing PEO...\n",
      "Processing LSE...\n",
      "Insufficient data for LSE (23 rows)\n",
      "Skipped LSE - insufficient data\n",
      "Processing GM-B...\n"
     ]
    },
    {
     "name": "stderr",
     "output_type": "stream",
     "text": [
      "$GM-B: possibly delisted; no timezone found\n"
     ]
    },
    {
     "name": "stdout",
     "output_type": "stream",
     "text": [
      "No data found for GM-B (10y)\n",
      "Skipped GM-B - insufficient data\n",
      "Processing RDN...\n",
      "Processing LVS...\n",
      "Processing SYT...\n"
     ]
    },
    {
     "name": "stderr",
     "output_type": "stream",
     "text": [
      "$GFIG: possibly delisted; no price data found  (1d 2014-01-27 00:00:00 -> 2025-01-27)\n"
     ]
    },
    {
     "name": "stdout",
     "output_type": "stream",
     "text": [
      "Processing GFIG...\n",
      "No data found for GFIG (10y)\n",
      "Skipped GFIG - insufficient data\n",
      "Processing MCRI...\n",
      "Processing HYLS...\n",
      "Processing MTSC...\n"
     ]
    },
    {
     "name": "stderr",
     "output_type": "stream",
     "text": [
      "$MTSC: possibly delisted; no timezone found\n"
     ]
    },
    {
     "name": "stdout",
     "output_type": "stream",
     "text": [
      "No data found for MTSC (10y)\n",
      "Skipped MTSC - insufficient data\n",
      "Processing MOD...\n",
      "Processing SFI-G...\n"
     ]
    },
    {
     "name": "stderr",
     "output_type": "stream",
     "text": [
      "$SFI-G: possibly delisted; no timezone found\n"
     ]
    },
    {
     "name": "stdout",
     "output_type": "stream",
     "text": [
      "No data found for SFI-G (10y)\n",
      "Skipped SFI-G - insufficient data\n",
      "Processing OSUR...\n",
      "Processing BZH...\n"
     ]
    },
    {
     "name": "stderr",
     "output_type": "stream",
     "text": [
      "$MHGC: possibly delisted; no price data found  (1d 2014-01-27 00:00:00 -> 2025-01-27)\n"
     ]
    },
    {
     "name": "stdout",
     "output_type": "stream",
     "text": [
      "Processing MHGC...\n",
      "No data found for MHGC (10y)\n",
      "Skipped MHGC - insufficient data\n",
      "Processing ITW...\n",
      "Processing THC...\n",
      "Processing GNE-A...\n"
     ]
    },
    {
     "name": "stderr",
     "output_type": "stream",
     "text": [
      "$GNE-A: possibly delisted; no timezone found\n"
     ]
    },
    {
     "name": "stdout",
     "output_type": "stream",
     "text": [
      "No data found for GNE-A (10y)\n",
      "Skipped GNE-A - insufficient data\n",
      "Processing PETS...\n",
      "Processing BUI...\n"
     ]
    },
    {
     "name": "stderr",
     "output_type": "stream",
     "text": [
      "$LCAV: possibly delisted; no price data found  (1d 2014-01-27 00:00:00 -> 2025-01-27)\n",
      "$GEF.B: possibly delisted; no price data found  (1d 2014-01-27 00:00:00 -> 2025-01-27)\n"
     ]
    },
    {
     "name": "stdout",
     "output_type": "stream",
     "text": [
      "Processing LCAV...\n",
      "No data found for LCAV (10y)\n",
      "Skipped LCAV - insufficient data\n",
      "Processing GEF.B...\n",
      "No data found for GEF.B (10y)\n",
      "Skipped GEF.B - insufficient data\n",
      "Processing TXCC...\n"
     ]
    },
    {
     "name": "stderr",
     "output_type": "stream",
     "text": [
      "$TXCC: possibly delisted; no price data found  (1d 2014-01-27 00:00:00 -> 2025-01-27)\n"
     ]
    },
    {
     "name": "stdout",
     "output_type": "stream",
     "text": [
      "No data found for TXCC (10y)\n",
      "Skipped TXCC - insufficient data\n",
      "Processing SANM...\n"
     ]
    },
    {
     "name": "stderr",
     "output_type": "stream",
     "text": [
      "$SWFT: possibly delisted; no price data found  (1d 2014-01-27 00:00:00 -> 2025-01-27)\n"
     ]
    },
    {
     "name": "stdout",
     "output_type": "stream",
     "text": [
      "Processing MLU...\n",
      "Insufficient data for MLU (5 rows)\n",
      "Skipped MLU - insufficient data\n",
      "Processing SWFT...\n",
      "No data found for SWFT (10y)\n",
      "Skipped SWFT - insufficient data\n",
      "Processing PAM...\n",
      "Processing DSWL...\n",
      "Processing FCFS...\n",
      "Processing JBN...\n"
     ]
    },
    {
     "name": "stderr",
     "output_type": "stream",
     "text": [
      "$JBN: possibly delisted; no timezone found\n",
      "$RUE: possibly delisted; no price data found  (1d 2014-01-27 00:00:00 -> 2025-01-27)\n"
     ]
    },
    {
     "name": "stdout",
     "output_type": "stream",
     "text": [
      "No data found for JBN (10y)\n",
      "Skipped JBN - insufficient data\n",
      "Processing RUE...\n",
      "No data found for RUE (10y)\n",
      "Skipped RUE - insufficient data\n",
      "Processing SVBI...\n"
     ]
    },
    {
     "name": "stderr",
     "output_type": "stream",
     "text": [
      "$SVBI: possibly delisted; no timezone found\n"
     ]
    },
    {
     "name": "stdout",
     "output_type": "stream",
     "text": [
      "No data found for SVBI (10y)\n",
      "Skipped SVBI - insufficient data\n",
      "Processing RDHL...\n",
      "Processing IFSM...\n"
     ]
    },
    {
     "name": "stderr",
     "output_type": "stream",
     "text": [
      "$IFSM: possibly delisted; no timezone found\n",
      "$VLTR: possibly delisted; no price data found  (1d 2014-01-27 00:00:00 -> 2025-01-27)\n"
     ]
    },
    {
     "name": "stdout",
     "output_type": "stream",
     "text": [
      "No data found for IFSM (10y)\n",
      "Skipped IFSM - insufficient data\n",
      "Processing VLTR...\n",
      "No data found for VLTR (10y)\n",
      "Skipped VLTR - insufficient data\n",
      "Processing CHXF...\n",
      "No data found for CHXF (10y)\n",
      "Skipped CHXF - insufficient data\n",
      "Processing BLMT...\n"
     ]
    },
    {
     "name": "stderr",
     "output_type": "stream",
     "text": [
      "$BLMT: possibly delisted; no timezone found\n",
      "$MAXY: possibly delisted; no price data found  (1d 2014-01-27 00:00:00 -> 2025-01-27)\n",
      "$FDI: possibly delisted; no price data found  (1d 2014-01-27 00:00:00 -> 2025-01-27)\n"
     ]
    },
    {
     "name": "stdout",
     "output_type": "stream",
     "text": [
      "No data found for BLMT (10y)\n",
      "Skipped BLMT - insufficient data\n",
      "Processing MAXY...\n",
      "No data found for MAXY (10y)\n",
      "Skipped MAXY - insufficient data\n",
      "Processing FDI...\n",
      "No data found for FDI (10y)\n",
      "Skipped FDI - insufficient data\n",
      "Processing AXL...\n",
      "Processing RGDO...\n"
     ]
    },
    {
     "name": "stderr",
     "output_type": "stream",
     "text": [
      "$RGDO: possibly delisted; no timezone found\n"
     ]
    },
    {
     "name": "stdout",
     "output_type": "stream",
     "text": [
      "No data found for RGDO (10y)\n",
      "Skipped RGDO - insufficient data\n",
      "Processing DQ...\n"
     ]
    },
    {
     "name": "stderr",
     "output_type": "stream",
     "text": [
      "$EAA: possibly delisted; no price data found  (1d 2014-01-27 00:00:00 -> 2025-01-27)\n"
     ]
    },
    {
     "name": "stdout",
     "output_type": "stream",
     "text": [
      "Processing EAA...\n",
      "No data found for EAA (10y)\n",
      "Skipped EAA - insufficient data\n",
      "Processing AMBA...\n",
      "Processing BLIN...\n",
      "Processing KVHI...\n",
      "Processing SIBC...\n",
      "Processing DKS...\n",
      "Processing EPD...\n"
     ]
    },
    {
     "name": "stderr",
     "output_type": "stream",
     "text": [
      "$CRMB: possibly delisted; no price data found  (1d 2014-01-27 00:00:00 -> 2025-01-27)\n"
     ]
    },
    {
     "name": "stdout",
     "output_type": "stream",
     "text": [
      "Processing CRMB...\n",
      "No data found for CRMB (10y)\n",
      "Skipped CRMB - insufficient data\n",
      "Processing DISCB...\n"
     ]
    },
    {
     "name": "stderr",
     "output_type": "stream",
     "text": [
      "$DISCB: possibly delisted; no timezone found\n"
     ]
    },
    {
     "name": "stdout",
     "output_type": "stream",
     "text": [
      "No data found for DISCB (10y)\n",
      "Skipped DISCB - insufficient data\n",
      "Processing OIA...\n",
      "Processing PNFP...\n",
      "Processing MNGA...\n"
     ]
    },
    {
     "name": "stderr",
     "output_type": "stream",
     "text": [
      "$MNGA: possibly delisted; no timezone found\n"
     ]
    },
    {
     "name": "stdout",
     "output_type": "stream",
     "text": [
      "No data found for MNGA (10y)\n",
      "Skipped MNGA - insufficient data\n",
      "Processing TCC...\n"
     ]
    },
    {
     "name": "stderr",
     "output_type": "stream",
     "text": [
      "$LMCB: possibly delisted; no price data found  (1d 2014-01-27 00:00:00 -> 2025-01-27)\n"
     ]
    },
    {
     "name": "stdout",
     "output_type": "stream",
     "text": [
      "Processing LMCB...\n",
      "No data found for LMCB (10y)\n",
      "Skipped LMCB - insufficient data\n",
      "Processing CEO...\n"
     ]
    },
    {
     "name": "stderr",
     "output_type": "stream",
     "text": [
      "$CEO: possibly delisted; no timezone found\n",
      "$LIOX: possibly delisted; no price data found  (1d 2014-01-27 00:00:00 -> 2025-01-27)\n"
     ]
    },
    {
     "name": "stdout",
     "output_type": "stream",
     "text": [
      "No data found for CEO (10y)\n",
      "Skipped CEO - insufficient data\n",
      "Processing LIOX...\n",
      "No data found for LIOX (10y)\n",
      "Skipped LIOX - insufficient data\n",
      "Processing AXS-C...\n"
     ]
    },
    {
     "name": "stderr",
     "output_type": "stream",
     "text": [
      "$AXS-C: possibly delisted; no timezone found\n"
     ]
    },
    {
     "name": "stdout",
     "output_type": "stream",
     "text": [
      "No data found for AXS-C (10y)\n",
      "Skipped AXS-C - insufficient data\n",
      "Processing MAC...\n",
      "Processing ULTI...\n"
     ]
    },
    {
     "name": "stderr",
     "output_type": "stream",
     "text": [
      "$ULTI: possibly delisted; no timezone found\n"
     ]
    },
    {
     "name": "stdout",
     "output_type": "stream",
     "text": [
      "No data found for ULTI (10y)\n",
      "Skipped ULTI - insufficient data\n",
      "Processing CLX...\n",
      "Processing GURE...\n",
      "Processing BIF...\n"
     ]
    },
    {
     "name": "stderr",
     "output_type": "stream",
     "text": [
      "$BIF: possibly delisted; no timezone found\n"
     ]
    },
    {
     "name": "stdout",
     "output_type": "stream",
     "text": [
      "No data found for BIF (10y)\n",
      "Skipped BIF - insufficient data\n",
      "Processing SPNS...\n",
      "Processing IRDMZ...\n"
     ]
    },
    {
     "name": "stderr",
     "output_type": "stream",
     "text": [
      "$IRDMZ: possibly delisted; no timezone found\n"
     ]
    },
    {
     "name": "stdout",
     "output_type": "stream",
     "text": [
      "No data found for IRDMZ (10y)\n",
      "Skipped IRDMZ - insufficient data\n",
      "Processing SFLY...\n"
     ]
    },
    {
     "name": "stderr",
     "output_type": "stream",
     "text": [
      "$SFLY: possibly delisted; no timezone found\n"
     ]
    },
    {
     "name": "stdout",
     "output_type": "stream",
     "text": [
      "No data found for SFLY (10y)\n",
      "Skipped SFLY - insufficient data\n",
      "Processing ARR-A...\n"
     ]
    },
    {
     "name": "stderr",
     "output_type": "stream",
     "text": [
      "$ARR-A: possibly delisted; no timezone found\n"
     ]
    },
    {
     "name": "stdout",
     "output_type": "stream",
     "text": [
      "No data found for ARR-A (10y)\n",
      "Skipped ARR-A - insufficient data\n",
      "Processing LYB...\n",
      "Processing NEOG...\n",
      "Processing NXN...\n",
      "Processing CARZ...\n",
      "Processing BEAT...\n",
      "Processing MIDD...\n",
      "Processing KRO...\n",
      "Processing SKYW...\n",
      "Processing CTIC...\n"
     ]
    },
    {
     "name": "stderr",
     "output_type": "stream",
     "text": [
      "$CTIC: possibly delisted; no timezone found\n"
     ]
    },
    {
     "name": "stdout",
     "output_type": "stream",
     "text": [
      "No data found for CTIC (10y)\n",
      "Skipped CTIC - insufficient data\n",
      "Processing EPR-E...\n"
     ]
    },
    {
     "name": "stderr",
     "output_type": "stream",
     "text": [
      "$EPR-E: possibly delisted; no timezone found\n"
     ]
    },
    {
     "name": "stdout",
     "output_type": "stream",
     "text": [
      "No data found for EPR-E (10y)\n",
      "Skipped EPR-E - insufficient data\n",
      "Processing OSTK...\n",
      "Insufficient data for OSTK (1 rows)\n",
      "Skipped OSTK - insufficient data\n",
      "Processing OAKS...\n"
     ]
    },
    {
     "name": "stderr",
     "output_type": "stream",
     "text": [
      "$OAKS: possibly delisted; no price data found  (1d 2014-01-27 00:00:00 -> 2025-01-27)\n"
     ]
    },
    {
     "name": "stdout",
     "output_type": "stream",
     "text": [
      "No data found for OAKS (10y)\n",
      "Skipped OAKS - insufficient data\n",
      "Processing CAC...\n",
      "Processing EHI...\n",
      "Processing PRTS...\n",
      "Processing GRFS...\n",
      "Processing NEV...\n"
     ]
    },
    {
     "name": "stderr",
     "output_type": "stream",
     "text": [
      "$NEV: possibly delisted; no timezone found\n",
      "$TLLP: possibly delisted; no price data found  (1d 2014-01-27 00:00:00 -> 2025-01-27)\n"
     ]
    },
    {
     "name": "stdout",
     "output_type": "stream",
     "text": [
      "No data found for NEV (10y)\n",
      "Skipped NEV - insufficient data\n",
      "Processing TLLP...\n",
      "No data found for TLLP (10y)\n",
      "Skipped TLLP - insufficient data\n",
      "Processing ASX...\n",
      "Processing MFNC...\n"
     ]
    },
    {
     "name": "stderr",
     "output_type": "stream",
     "text": [
      "$MFNC: possibly delisted; no timezone found\n"
     ]
    },
    {
     "name": "stdout",
     "output_type": "stream",
     "text": [
      "No data found for MFNC (10y)\n",
      "Skipped MFNC - insufficient data\n",
      "Processing DXB...\n"
     ]
    },
    {
     "name": "stderr",
     "output_type": "stream",
     "text": [
      "$DXB: possibly delisted; no timezone found\n"
     ]
    },
    {
     "name": "stdout",
     "output_type": "stream",
     "text": [
      "No data found for DXB (10y)\n",
      "Skipped DXB - insufficient data\n",
      "Processing CPLA...\n"
     ]
    },
    {
     "name": "stderr",
     "output_type": "stream",
     "text": [
      "$ISH: possibly delisted; no price data found  (1d 2014-01-27 00:00:00 -> 2025-01-27)\n",
      "$NNJ: possibly delisted; no price data found  (1d 2014-01-27 00:00:00 -> 2025-01-27)\n"
     ]
    },
    {
     "name": "stdout",
     "output_type": "stream",
     "text": [
      "Processing ISH...\n",
      "No data found for ISH (10y)\n",
      "Skipped ISH - insufficient data\n",
      "Processing NNJ...\n",
      "No data found for NNJ (10y)\n",
      "Skipped NNJ - insufficient data\n",
      "Processing PRIM...\n",
      "Processing EHTH...\n"
     ]
    },
    {
     "name": "stderr",
     "output_type": "stream",
     "text": [
      "$LTON: possibly delisted; no price data found  (1d 2014-01-27 00:00:00 -> 2025-01-27)\n"
     ]
    },
    {
     "name": "stdout",
     "output_type": "stream",
     "text": [
      "Processing LTON...\n",
      "No data found for LTON (10y)\n",
      "Skipped LTON - insufficient data\n",
      "Processing MLI...\n",
      "Processing DGLY...\n",
      "Processing DFT-A...\n"
     ]
    },
    {
     "name": "stderr",
     "output_type": "stream",
     "text": [
      "$DFT-A: possibly delisted; no timezone found\n"
     ]
    },
    {
     "name": "stdout",
     "output_type": "stream",
     "text": [
      "No data found for DFT-A (10y)\n",
      "Skipped DFT-A - insufficient data\n",
      "Processing HOS...\n"
     ]
    },
    {
     "name": "stderr",
     "output_type": "stream",
     "text": [
      "$HOS: possibly delisted; no timezone found\n",
      "$PSEM: possibly delisted; no price data found  (1d 2014-01-27 00:00:00 -> 2025-01-27)\n"
     ]
    },
    {
     "name": "stdout",
     "output_type": "stream",
     "text": [
      "No data found for HOS (10y)\n",
      "Skipped HOS - insufficient data\n",
      "Processing PSEM...\n",
      "No data found for PSEM (10y)\n",
      "Skipped PSEM - insufficient data\n",
      "Processing PRPH...\n",
      "Processing KTP...\n"
     ]
    },
    {
     "name": "stderr",
     "output_type": "stream",
     "text": [
      "$KTP: possibly delisted; no timezone found\n"
     ]
    },
    {
     "name": "stdout",
     "output_type": "stream",
     "text": [
      "No data found for KTP (10y)\n",
      "Skipped KTP - insufficient data\n",
      "Processing OC.B...\n"
     ]
    },
    {
     "name": "stderr",
     "output_type": "stream",
     "text": [
      "$OC.B: possibly delisted; no timezone found\n"
     ]
    },
    {
     "name": "stdout",
     "output_type": "stream",
     "text": [
      "No data found for OC.B (10y)\n",
      "Skipped OC.B - insufficient data\n",
      "Processing PHA...\n",
      "Insufficient data for PHA (194 rows)\n",
      "Skipped PHA - insufficient data\n",
      "Processing PPS-A...\n"
     ]
    },
    {
     "name": "stderr",
     "output_type": "stream",
     "text": [
      "$PPS-A: possibly delisted; no timezone found\n",
      "$MBRG: possibly delisted; no price data found  (1d 2014-01-27 00:00:00 -> 2025-01-27)\n"
     ]
    },
    {
     "name": "stdout",
     "output_type": "stream",
     "text": [
      "No data found for PPS-A (10y)\n",
      "Skipped PPS-A - insufficient data\n",
      "Processing MBRG...\n",
      "No data found for MBRG (10y)\n",
      "Skipped MBRG - insufficient data\n",
      "Processing SNCR...\n",
      "Processing ARI-A...\n"
     ]
    },
    {
     "name": "stderr",
     "output_type": "stream",
     "text": [
      "$ARI-A: possibly delisted; no timezone found\n"
     ]
    },
    {
     "name": "stdout",
     "output_type": "stream",
     "text": [
      "No data found for ARI-A (10y)\n",
      "Skipped ARI-A - insufficient data\n",
      "Processing EA...\n",
      "Processing HDSN...\n"
     ]
    },
    {
     "name": "stderr",
     "output_type": "stream",
     "text": [
      "$ENI: possibly delisted; no price data found  (1d 2014-01-27 00:00:00 -> 2025-01-27)\n"
     ]
    },
    {
     "name": "stdout",
     "output_type": "stream",
     "text": [
      "Processing ENI...\n",
      "No data found for ENI (10y)\n",
      "Skipped ENI - insufficient data\n",
      "Processing ECOL...\n"
     ]
    },
    {
     "name": "stderr",
     "output_type": "stream",
     "text": [
      "$ECOL: possibly delisted; no timezone found\n"
     ]
    },
    {
     "name": "stdout",
     "output_type": "stream",
     "text": [
      "No data found for ECOL (10y)\n",
      "Skipped ECOL - insufficient data\n",
      "Processing KYN...\n",
      "Processing SB...\n"
     ]
    },
    {
     "name": "stderr",
     "output_type": "stream",
     "text": [
      "$MWIV: possibly delisted; no price data found  (1d 2014-01-27 00:00:00 -> 2025-01-27)\n"
     ]
    },
    {
     "name": "stdout",
     "output_type": "stream",
     "text": [
      "Processing MWIV...\n",
      "No data found for MWIV (10y)\n",
      "Skipped MWIV - insufficient data\n",
      "Processing KW...\n",
      "Processing FRC...\n"
     ]
    },
    {
     "name": "stderr",
     "output_type": "stream",
     "text": [
      "$FRC: possibly delisted; no timezone found\n"
     ]
    },
    {
     "name": "stdout",
     "output_type": "stream",
     "text": [
      "No data found for FRC (10y)\n",
      "Skipped FRC - insufficient data\n",
      "Processing HASI...\n",
      "Processing ZF...\n",
      "Processing AMRC...\n",
      "Processing MPLX...\n",
      "Processing AMSWA...\n"
     ]
    },
    {
     "name": "stderr",
     "output_type": "stream",
     "text": [
      "$AMSWA: possibly delisted; no timezone found\n"
     ]
    },
    {
     "name": "stdout",
     "output_type": "stream",
     "text": [
      "No data found for AMSWA (10y)\n",
      "Skipped AMSWA - insufficient data\n",
      "Processing KONA...\n"
     ]
    },
    {
     "name": "stderr",
     "output_type": "stream",
     "text": [
      "$KONA: possibly delisted; no timezone found\n"
     ]
    },
    {
     "name": "stdout",
     "output_type": "stream",
     "text": [
      "No data found for KONA (10y)\n",
      "Skipped KONA - insufficient data\n",
      "Processing TVE...\n"
     ]
    },
    {
     "name": "stderr",
     "output_type": "stream",
     "text": [
      "$BIE: possibly delisted; no price data found  (1d 2014-01-27 00:00:00 -> 2025-01-27)\n"
     ]
    },
    {
     "name": "stdout",
     "output_type": "stream",
     "text": [
      "Processing BIE...\n",
      "No data found for BIE (10y)\n",
      "Skipped BIE - insufficient data\n",
      "Processing IPCC...\n",
      "Processing DENN...\n",
      "Processing KAMN...\n"
     ]
    },
    {
     "name": "stderr",
     "output_type": "stream",
     "text": [
      "$KAMN: possibly delisted; no timezone found\n"
     ]
    },
    {
     "name": "stdout",
     "output_type": "stream",
     "text": [
      "No data found for KAMN (10y)\n",
      "Skipped KAMN - insufficient data\n",
      "Processing KKR...\n",
      "Processing LOGM...\n"
     ]
    },
    {
     "name": "stderr",
     "output_type": "stream",
     "text": [
      "$LOGM: possibly delisted; no timezone found\n"
     ]
    },
    {
     "name": "stdout",
     "output_type": "stream",
     "text": [
      "No data found for LOGM (10y)\n",
      "Skipped LOGM - insufficient data\n",
      "Processing SSD...\n",
      "Processing NLSN...\n"
     ]
    },
    {
     "name": "stderr",
     "output_type": "stream",
     "text": [
      "$NLSN: possibly delisted; no timezone found\n"
     ]
    },
    {
     "name": "stdout",
     "output_type": "stream",
     "text": [
      "No data found for NLSN (10y)\n",
      "Skipped NLSN - insufficient data\n",
      "Processing USATZ...\n",
      "Processing EOG...\n",
      "Processing ALB...\n",
      "Processing LIN...\n",
      "Processing PFK...\n"
     ]
    },
    {
     "name": "stderr",
     "output_type": "stream",
     "text": [
      "$PFK: possibly delisted; no timezone found\n"
     ]
    },
    {
     "name": "stdout",
     "output_type": "stream",
     "text": [
      "No data found for PFK (10y)\n",
      "Skipped PFK - insufficient data\n",
      "Processing ACNB...\n",
      "Processing SZC...\n"
     ]
    },
    {
     "name": "stderr",
     "output_type": "stream",
     "text": [
      "$SZC: possibly delisted; no timezone found\n"
     ]
    },
    {
     "name": "stdout",
     "output_type": "stream",
     "text": [
      "No data found for SZC (10y)\n",
      "Skipped SZC - insufficient data\n",
      "Processing FRX...\n"
     ]
    },
    {
     "name": "stderr",
     "output_type": "stream",
     "text": [
      "$FRX: possibly delisted; no timezone found\n"
     ]
    },
    {
     "name": "stdout",
     "output_type": "stream",
     "text": [
      "No data found for FRX (10y)\n",
      "Skipped FRX - insufficient data\n",
      "Processing NRT...\n",
      "Processing MX...\n",
      "Processing AMSC...\n",
      "Processing CYTR...\n"
     ]
    },
    {
     "name": "stderr",
     "output_type": "stream",
     "text": [
      "$CYTR: possibly delisted; no timezone found\n",
      "$ARSD: possibly delisted; no price data found  (1d 2014-01-27 00:00:00 -> 2025-01-27)\n"
     ]
    },
    {
     "name": "stdout",
     "output_type": "stream",
     "text": [
      "No data found for CYTR (10y)\n",
      "Skipped CYTR - insufficient data\n",
      "Processing ARSD...\n",
      "No data found for ARSD (10y)\n",
      "Skipped ARSD - insufficient data\n",
      "Processing NCT-B...\n"
     ]
    },
    {
     "name": "stderr",
     "output_type": "stream",
     "text": [
      "$NCT-B: possibly delisted; no timezone found\n"
     ]
    },
    {
     "name": "stdout",
     "output_type": "stream",
     "text": [
      "No data found for NCT-B (10y)\n",
      "Skipped NCT-B - insufficient data\n",
      "Processing LSE-A...\n"
     ]
    },
    {
     "name": "stderr",
     "output_type": "stream",
     "text": [
      "$LSE-A: possibly delisted; no timezone found\n"
     ]
    },
    {
     "name": "stdout",
     "output_type": "stream",
     "text": [
      "No data found for LSE-A (10y)\n",
      "Skipped LSE-A - insufficient data\n",
      "Processing XLNX...\n"
     ]
    },
    {
     "name": "stderr",
     "output_type": "stream",
     "text": [
      "$XLNX: possibly delisted; no timezone found\n"
     ]
    },
    {
     "name": "stdout",
     "output_type": "stream",
     "text": [
      "No data found for XLNX (10y)\n",
      "Skipped XLNX - insufficient data\n",
      "Processing FAF...\n"
     ]
    },
    {
     "name": "stderr",
     "output_type": "stream",
     "text": [
      "$ALDW: possibly delisted; no price data found  (1d 2014-01-27 00:00:00 -> 2025-01-27)\n",
      "$KIPO: possibly delisted; no price data found  (1d 2014-01-27 00:00:00 -> 2025-01-27)\n"
     ]
    },
    {
     "name": "stdout",
     "output_type": "stream",
     "text": [
      "Processing ALDW...\n",
      "No data found for ALDW (10y)\n",
      "Skipped ALDW - insufficient data\n",
      "Processing KIPO...\n",
      "No data found for KIPO (10y)\n",
      "Skipped KIPO - insufficient data\n",
      "Processing AEIS...\n",
      "Processing TWO...\n",
      "Processing BNS...\n",
      "Processing AIW...\n"
     ]
    },
    {
     "name": "stderr",
     "output_type": "stream",
     "text": [
      "$AIW: possibly delisted; no timezone found\n"
     ]
    },
    {
     "name": "stdout",
     "output_type": "stream",
     "text": [
      "No data found for AIW (10y)\n",
      "Skipped AIW - insufficient data\n",
      "Processing SPH...\n"
     ]
    },
    {
     "name": "stderr",
     "output_type": "stream",
     "text": [
      "$PTNT: possibly delisted; no price data found  (1d 2014-01-27 00:00:00 -> 2025-01-27)\n"
     ]
    },
    {
     "name": "stdout",
     "output_type": "stream",
     "text": [
      "Processing PTNT...\n",
      "No data found for PTNT (10y)\n",
      "Skipped PTNT - insufficient data\n",
      "Processing DFS...\n",
      "Processing PDLI...\n"
     ]
    },
    {
     "name": "stderr",
     "output_type": "stream",
     "text": [
      "$PDLI: possibly delisted; no timezone found\n"
     ]
    },
    {
     "name": "stdout",
     "output_type": "stream",
     "text": [
      "No data found for PDLI (10y)\n",
      "Skipped PDLI - insufficient data\n",
      "Processing IDT...\n",
      "Processing OTEL...\n"
     ]
    },
    {
     "name": "stderr",
     "output_type": "stream",
     "text": [
      "$OTEL: possibly delisted; no timezone found\n"
     ]
    },
    {
     "name": "stdout",
     "output_type": "stream",
     "text": [
      "No data found for OTEL (10y)\n",
      "Skipped OTEL - insufficient data\n",
      "Processing SBR...\n",
      "Processing LYG-A...\n"
     ]
    },
    {
     "name": "stderr",
     "output_type": "stream",
     "text": [
      "$LYG-A: possibly delisted; no timezone found\n"
     ]
    },
    {
     "name": "stdout",
     "output_type": "stream",
     "text": [
      "No data found for LYG-A (10y)\n",
      "Skipped LYG-A - insufficient data\n",
      "Processing ASCMA...\n"
     ]
    },
    {
     "name": "stderr",
     "output_type": "stream",
     "text": [
      "$ASCMA: possibly delisted; no timezone found\n"
     ]
    },
    {
     "name": "stdout",
     "output_type": "stream",
     "text": [
      "No data found for ASCMA (10y)\n",
      "Skipped ASCMA - insufficient data\n",
      "Processing C-R...\n"
     ]
    },
    {
     "name": "stderr",
     "output_type": "stream",
     "text": [
      "$C-R: possibly delisted; no timezone found\n"
     ]
    },
    {
     "name": "stdout",
     "output_type": "stream",
     "text": [
      "No data found for C-R (10y)\n",
      "Skipped C-R - insufficient data\n",
      "Processing RIO...\n",
      "Processing CAMP...\n",
      "Insufficient data for CAMP (71 rows)\n",
      "Skipped CAMP - insufficient data\n",
      "Processing DMRC...\n",
      "Processing ESL...\n"
     ]
    },
    {
     "name": "stderr",
     "output_type": "stream",
     "text": [
      "$ESL: possibly delisted; no timezone found\n"
     ]
    },
    {
     "name": "stdout",
     "output_type": "stream",
     "text": [
      "No data found for ESL (10y)\n",
      "Skipped ESL - insufficient data\n",
      "Processing NXTM...\n"
     ]
    },
    {
     "name": "stderr",
     "output_type": "stream",
     "text": [
      "$NXTM: possibly delisted; no timezone found\n"
     ]
    },
    {
     "name": "stdout",
     "output_type": "stream",
     "text": [
      "No data found for NXTM (10y)\n",
      "Skipped NXTM - insufficient data\n",
      "Processing NASB...\n"
     ]
    },
    {
     "name": "stderr",
     "output_type": "stream",
     "text": [
      "$LPS: possibly delisted; no price data found  (1d 2014-01-27 00:00:00 -> 2025-01-27)\n"
     ]
    },
    {
     "name": "stdout",
     "output_type": "stream",
     "text": [
      "Processing LPS...\n",
      "No data found for LPS (10y)\n",
      "Skipped LPS - insufficient data\n",
      "Processing DFS-B...\n"
     ]
    },
    {
     "name": "stderr",
     "output_type": "stream",
     "text": [
      "$DFS-B: possibly delisted; no timezone found\n"
     ]
    },
    {
     "name": "stdout",
     "output_type": "stream",
     "text": [
      "No data found for DFS-B (10y)\n",
      "Skipped DFS-B - insufficient data\n",
      "Processing USB-M...\n"
     ]
    },
    {
     "name": "stderr",
     "output_type": "stream",
     "text": [
      "$USB-M: possibly delisted; no timezone found\n"
     ]
    },
    {
     "name": "stdout",
     "output_type": "stream",
     "text": [
      "No data found for USB-M (10y)\n",
      "Skipped USB-M - insufficient data\n",
      "Processing DRE-L...\n"
     ]
    },
    {
     "name": "stderr",
     "output_type": "stream",
     "text": [
      "$DRE-L: possibly delisted; no timezone found\n",
      "$SAPE: possibly delisted; no price data found  (1d 2014-01-27 00:00:00 -> 2025-01-27)\n"
     ]
    },
    {
     "name": "stdout",
     "output_type": "stream",
     "text": [
      "No data found for DRE-L (10y)\n",
      "Skipped DRE-L - insufficient data\n",
      "Processing SAPE...\n",
      "No data found for SAPE (10y)\n",
      "Skipped SAPE - insufficient data\n",
      "Processing ATRC...\n",
      "Processing HOLI...\n"
     ]
    },
    {
     "name": "stderr",
     "output_type": "stream",
     "text": [
      "$HOLI: possibly delisted; no timezone found\n",
      "$BPZ: possibly delisted; no price data found  (1d 2014-01-27 00:00:00 -> 2025-01-27)\n"
     ]
    },
    {
     "name": "stdout",
     "output_type": "stream",
     "text": [
      "No data found for HOLI (10y)\n",
      "Skipped HOLI - insufficient data\n",
      "Processing BPZ...\n",
      "No data found for BPZ (10y)\n",
      "Skipped BPZ - insufficient data\n",
      "Processing EEP...\n",
      "Processing NVR...\n",
      "Processing CVS...\n"
     ]
    },
    {
     "name": "stderr",
     "output_type": "stream",
     "text": [
      "$MNDL: possibly delisted; no price data found  (1d 2014-01-27 00:00:00 -> 2025-01-27)\n"
     ]
    },
    {
     "name": "stdout",
     "output_type": "stream",
     "text": [
      "Processing MNDL...\n",
      "No data found for MNDL (10y)\n",
      "Skipped MNDL - insufficient data\n",
      "Processing SPR...\n",
      "Processing AP...\n",
      "Processing HLF...\n",
      "Processing AMED...\n",
      "Processing KEG...\n"
     ]
    },
    {
     "name": "stderr",
     "output_type": "stream",
     "text": [
      "$KEG: possibly delisted; no timezone found\n"
     ]
    },
    {
     "name": "stdout",
     "output_type": "stream",
     "text": [
      "No data found for KEG (10y)\n",
      "Skipped KEG - insufficient data\n",
      "Processing ONB...\n",
      "Processing CHL...\n"
     ]
    },
    {
     "name": "stderr",
     "output_type": "stream",
     "text": [
      "$CHL: possibly delisted; no timezone found\n"
     ]
    },
    {
     "name": "stdout",
     "output_type": "stream",
     "text": [
      "No data found for CHL (10y)\n",
      "Skipped CHL - insufficient data\n",
      "Processing LANC...\n",
      "Processing HOME...\n"
     ]
    },
    {
     "name": "stderr",
     "output_type": "stream",
     "text": [
      "$HOME: possibly delisted; no timezone found\n"
     ]
    },
    {
     "name": "stdout",
     "output_type": "stream",
     "text": [
      "No data found for HOME (10y)\n",
      "Skipped HOME - insufficient data\n",
      "Processing ZEUS...\n",
      "Processing USB-H...\n"
     ]
    },
    {
     "name": "stderr",
     "output_type": "stream",
     "text": [
      "$USB-H: possibly delisted; no timezone found\n"
     ]
    },
    {
     "name": "stdout",
     "output_type": "stream",
     "text": [
      "No data found for USB-H (10y)\n",
      "Skipped USB-H - insufficient data\n",
      "Processing ZB-G...\n"
     ]
    },
    {
     "name": "stderr",
     "output_type": "stream",
     "text": [
      "$ZB-G: possibly delisted; no timezone found\n"
     ]
    },
    {
     "name": "stdout",
     "output_type": "stream",
     "text": [
      "No data found for ZB-G (10y)\n",
      "Skipped ZB-G - insufficient data\n",
      "Processing STSA...\n"
     ]
    },
    {
     "name": "stderr",
     "output_type": "stream",
     "text": [
      "$STSA: possibly delisted; no timezone found\n"
     ]
    },
    {
     "name": "stdout",
     "output_type": "stream",
     "text": [
      "No data found for STSA (10y)\n",
      "Skipped STSA - insufficient data\n",
      "Processing ACOR...\n"
     ]
    },
    {
     "name": "stderr",
     "output_type": "stream",
     "text": [
      "$ACOR: possibly delisted; no timezone found\n"
     ]
    },
    {
     "name": "stdout",
     "output_type": "stream",
     "text": [
      "No data found for ACOR (10y)\n",
      "Skipped ACOR - insufficient data\n",
      "Processing PEBO...\n",
      "Processing LNC.W...\n"
     ]
    },
    {
     "name": "stderr",
     "output_type": "stream",
     "text": [
      "$LNC.W: possibly delisted; no timezone found\n"
     ]
    },
    {
     "name": "stdout",
     "output_type": "stream",
     "text": [
      "No data found for LNC.W (10y)\n",
      "Skipped LNC.W - insufficient data\n",
      "Processing AZZ...\n",
      "Processing MIE...\n"
     ]
    },
    {
     "name": "stderr",
     "output_type": "stream",
     "text": [
      "$MIE: possibly delisted; no timezone found\n"
     ]
    },
    {
     "name": "stdout",
     "output_type": "stream",
     "text": [
      "No data found for MIE (10y)\n",
      "Skipped MIE - insufficient data\n",
      "Processing ANEN...\n"
     ]
    },
    {
     "name": "stderr",
     "output_type": "stream",
     "text": [
      "$SCLN: possibly delisted; no price data found  (1d 2014-01-27 00:00:00 -> 2025-01-27)\n"
     ]
    },
    {
     "name": "stdout",
     "output_type": "stream",
     "text": [
      "Insufficient data for ANEN (15 rows)\n",
      "Skipped ANEN - insufficient data\n",
      "Processing SCLN...\n",
      "No data found for SCLN (10y)\n",
      "Skipped SCLN - insufficient data\n",
      "Processing OHRP...\n"
     ]
    },
    {
     "name": "stderr",
     "output_type": "stream",
     "text": [
      "$OHRP: possibly delisted; no timezone found\n"
     ]
    },
    {
     "name": "stdout",
     "output_type": "stream",
     "text": [
      "No data found for OHRP (10y)\n",
      "Skipped OHRP - insufficient data\n",
      "Processing CMP...\n",
      "Processing UNAM...\n",
      "Processing DOX...\n",
      "Processing OMC...\n",
      "Processing OFG-A...\n"
     ]
    },
    {
     "name": "stderr",
     "output_type": "stream",
     "text": [
      "$OFG-A: possibly delisted; no timezone found\n",
      "$RVBD: possibly delisted; no price data found  (1d 2014-01-27 00:00:00 -> 2025-01-27)\n"
     ]
    },
    {
     "name": "stdout",
     "output_type": "stream",
     "text": [
      "No data found for OFG-A (10y)\n",
      "Skipped OFG-A - insufficient data\n",
      "Processing RVBD...\n",
      "No data found for RVBD (10y)\n",
      "Skipped RVBD - insufficient data\n",
      "Processing APFC...\n",
      "Insufficient data for APFC (22 rows)\n",
      "Skipped APFC - insufficient data\n",
      "Processing PRE-E...\n"
     ]
    },
    {
     "name": "stderr",
     "output_type": "stream",
     "text": [
      "$PRE-E: possibly delisted; no timezone found\n"
     ]
    },
    {
     "name": "stdout",
     "output_type": "stream",
     "text": [
      "No data found for PRE-E (10y)\n",
      "Skipped PRE-E - insufficient data\n",
      "Processing TWIN...\n",
      "Processing EVOL...\n"
     ]
    },
    {
     "name": "stderr",
     "output_type": "stream",
     "text": [
      "$CHRM: possibly delisted; no price data found  (1d 2014-01-27 00:00:00 -> 2025-01-27)\n"
     ]
    },
    {
     "name": "stdout",
     "output_type": "stream",
     "text": [
      "Processing CHRM...\n",
      "No data found for CHRM (10y)\n",
      "Skipped CHRM - insufficient data\n",
      "Processing NXST...\n",
      "Processing KTN...\n",
      "Processing INFA...\n",
      "Processing GCV...\n",
      "Processing CDTI...\n",
      "Processing LEAP...\n"
     ]
    },
    {
     "name": "stderr",
     "output_type": "stream",
     "text": [
      "$LEAP: possibly delisted; no timezone found\n"
     ]
    },
    {
     "name": "stdout",
     "output_type": "stream",
     "text": [
      "No data found for LEAP (10y)\n",
      "Skipped LEAP - insufficient data\n",
      "Processing GS-B...\n"
     ]
    },
    {
     "name": "stderr",
     "output_type": "stream",
     "text": [
      "$GS-B: possibly delisted; no timezone found\n"
     ]
    },
    {
     "name": "stdout",
     "output_type": "stream",
     "text": [
      "No data found for GS-B (10y)\n",
      "Skipped GS-B - insufficient data\n",
      "Processing STN...\n",
      "Processing BLX...\n",
      "Processing FSM...\n",
      "Processing PSB-U...\n"
     ]
    },
    {
     "name": "stderr",
     "output_type": "stream",
     "text": [
      "$PSB-U: possibly delisted; no timezone found\n"
     ]
    },
    {
     "name": "stdout",
     "output_type": "stream",
     "text": [
      "No data found for PSB-U (10y)\n",
      "Skipped PSB-U - insufficient data\n",
      "Processing JW.B...\n"
     ]
    },
    {
     "name": "stderr",
     "output_type": "stream",
     "text": [
      "$JW.B: possibly delisted; no timezone found\n"
     ]
    },
    {
     "name": "stdout",
     "output_type": "stream",
     "text": [
      "No data found for JW.B (10y)\n",
      "Skipped JW.B - insufficient data\n",
      "Processing INSY...\n"
     ]
    },
    {
     "name": "stderr",
     "output_type": "stream",
     "text": [
      "$INSY: possibly delisted; no timezone found\n"
     ]
    },
    {
     "name": "stdout",
     "output_type": "stream",
     "text": [
      "No data found for INSY (10y)\n",
      "Skipped INSY - insufficient data\n",
      "Processing CCM...\n",
      "Processing PRE-D...\n"
     ]
    },
    {
     "name": "stderr",
     "output_type": "stream",
     "text": [
      "$PRE-D: possibly delisted; no timezone found\n"
     ]
    },
    {
     "name": "stdout",
     "output_type": "stream",
     "text": [
      "No data found for PRE-D (10y)\n",
      "Skipped PRE-D - insufficient data\n",
      "Processing DTQ...\n"
     ]
    },
    {
     "name": "stderr",
     "output_type": "stream",
     "text": [
      "$DTQ: possibly delisted; no timezone found\n"
     ]
    },
    {
     "name": "stdout",
     "output_type": "stream",
     "text": [
      "No data found for DTQ (10y)\n",
      "Skipped DTQ - insufficient data\n",
      "Processing GSIT...\n",
      "Processing TNXP...\n",
      "Processing NBB...\n"
     ]
    },
    {
     "name": "stderr",
     "output_type": "stream",
     "text": [
      "$IFT: possibly delisted; no price data found  (1d 2014-01-27 00:00:00 -> 2025-01-27)\n"
     ]
    },
    {
     "name": "stdout",
     "output_type": "stream",
     "text": [
      "Processing IFT...\n",
      "No data found for IFT (10y)\n",
      "Skipped IFT - insufficient data\n",
      "Processing CXDC...\n"
     ]
    },
    {
     "name": "stderr",
     "output_type": "stream",
     "text": [
      "$CXDC: possibly delisted; no timezone found\n"
     ]
    },
    {
     "name": "stdout",
     "output_type": "stream",
     "text": [
      "No data found for CXDC (10y)\n",
      "Skipped CXDC - insufficient data\n",
      "Processing SONC...\n",
      "Processing MLNK...\n",
      "Processing BPFHP...\n"
     ]
    },
    {
     "name": "stderr",
     "output_type": "stream",
     "text": [
      "$BPFHP: possibly delisted; no timezone found\n"
     ]
    },
    {
     "name": "stdout",
     "output_type": "stream",
     "text": [
      "No data found for BPFHP (10y)\n",
      "Skipped BPFHP - insufficient data\n",
      "Processing FSS...\n",
      "Processing AMH...\n",
      "Processing ORCL...\n",
      "Processing COKE...\n",
      "Processing ICFI...\n",
      "Processing AEK...\n"
     ]
    },
    {
     "name": "stderr",
     "output_type": "stream",
     "text": [
      "$AEK: possibly delisted; no timezone found\n"
     ]
    },
    {
     "name": "stdout",
     "output_type": "stream",
     "text": [
      "No data found for AEK (10y)\n",
      "Skipped AEK - insufficient data\n",
      "Processing CLACW...\n"
     ]
    },
    {
     "name": "stderr",
     "output_type": "stream",
     "text": [
      "$CLACW: possibly delisted; no timezone found\n"
     ]
    },
    {
     "name": "stdout",
     "output_type": "stream",
     "text": [
      "No data found for CLACW (10y)\n",
      "Skipped CLACW - insufficient data\n",
      "Processing TSBK...\n",
      "Processing MYF...\n"
     ]
    },
    {
     "name": "stderr",
     "output_type": "stream",
     "text": [
      "$MYF: possibly delisted; no timezone found\n"
     ]
    },
    {
     "name": "stdout",
     "output_type": "stream",
     "text": [
      "No data found for MYF (10y)\n",
      "Skipped MYF - insufficient data\n",
      "Processing KIM-I...\n"
     ]
    },
    {
     "name": "stderr",
     "output_type": "stream",
     "text": [
      "$KIM-I: possibly delisted; no timezone found\n"
     ]
    },
    {
     "name": "stdout",
     "output_type": "stream",
     "text": [
      "No data found for KIM-I (10y)\n",
      "Skipped KIM-I - insufficient data\n",
      "Processing PRGX...\n"
     ]
    },
    {
     "name": "stderr",
     "output_type": "stream",
     "text": [
      "$PRGX: possibly delisted; no timezone found\n"
     ]
    },
    {
     "name": "stdout",
     "output_type": "stream",
     "text": [
      "No data found for PRGX (10y)\n",
      "Skipped PRGX - insufficient data\n",
      "Processing HNI...\n"
     ]
    },
    {
     "name": "stderr",
     "output_type": "stream",
     "text": [
      "$RGDX: possibly delisted; no price data found  (1d 2014-01-27 00:00:00 -> 2025-01-27)\n"
     ]
    },
    {
     "name": "stdout",
     "output_type": "stream",
     "text": [
      "Processing RGDX...\n",
      "No data found for RGDX (10y)\n",
      "Skipped RGDX - insufficient data\n",
      "Processing SKBI...\n"
     ]
    },
    {
     "name": "stderr",
     "output_type": "stream",
     "text": [
      "$SKBI: possibly delisted; no timezone found\n"
     ]
    },
    {
     "name": "stdout",
     "output_type": "stream",
     "text": [
      "No data found for SKBI (10y)\n",
      "Skipped SKBI - insufficient data\n",
      "Processing VRSN...\n",
      "Processing MDRX...\n",
      "Processing RESI...\n",
      "Processing KLIC...\n",
      "Processing HTLF...\n",
      "Processing ADUS...\n",
      "Processing ERJ...\n",
      "Processing IVR-A...\n"
     ]
    },
    {
     "name": "stderr",
     "output_type": "stream",
     "text": [
      "$IVR-A: possibly delisted; no timezone found\n"
     ]
    },
    {
     "name": "stdout",
     "output_type": "stream",
     "text": [
      "No data found for IVR-A (10y)\n",
      "Skipped IVR-A - insufficient data\n",
      "Processing SAM...\n"
     ]
    },
    {
     "name": "stderr",
     "output_type": "stream",
     "text": [
      "$DMND: possibly delisted; no price data found  (1d 2014-01-27 00:00:00 -> 2025-01-27)\n"
     ]
    },
    {
     "name": "stdout",
     "output_type": "stream",
     "text": [
      "Processing DMND...\n",
      "No data found for DMND (10y)\n",
      "Skipped DMND - insufficient data\n",
      "Processing KR...\n",
      "Processing ANIP...\n"
     ]
    },
    {
     "name": "stderr",
     "output_type": "stream",
     "text": [
      "$LNBB: possibly delisted; no price data found  (1d 2014-01-27 00:00:00 -> 2025-01-27)\n"
     ]
    },
    {
     "name": "stdout",
     "output_type": "stream",
     "text": [
      "Processing LNBB...\n",
      "No data found for LNBB (10y)\n",
      "Skipped LNBB - insufficient data\n",
      "Processing BXMT...\n"
     ]
    },
    {
     "name": "stderr",
     "output_type": "stream",
     "text": [
      "$CMSB: possibly delisted; no price data found  (1d 2014-01-27 00:00:00 -> 2025-01-27)\n"
     ]
    },
    {
     "name": "stdout",
     "output_type": "stream",
     "text": [
      "Processing CMSB...\n",
      "No data found for CMSB (10y)\n",
      "Skipped CMSB - insufficient data\n",
      "Processing FET...\n",
      "Processing AMT-A...\n"
     ]
    },
    {
     "name": "stderr",
     "output_type": "stream",
     "text": [
      "$AMT-A: possibly delisted; no timezone found\n",
      "$STI.B: possibly delisted; no price data found  (1d 2014-01-27 00:00:00 -> 2025-01-27)\n"
     ]
    },
    {
     "name": "stdout",
     "output_type": "stream",
     "text": [
      "No data found for AMT-A (10y)\n",
      "Skipped AMT-A - insufficient data\n",
      "Processing STI.B...\n",
      "No data found for STI.B (10y)\n",
      "Skipped STI.B - insufficient data\n",
      "Processing CDZI...\n",
      "Processing CONE...\n"
     ]
    },
    {
     "name": "stderr",
     "output_type": "stream",
     "text": [
      "$CONE: possibly delisted; no timezone found\n"
     ]
    },
    {
     "name": "stdout",
     "output_type": "stream",
     "text": [
      "No data found for CONE (10y)\n",
      "Skipped CONE - insufficient data\n",
      "Processing TU...\n",
      "Processing IRWD...\n",
      "Processing EME...\n"
     ]
    },
    {
     "name": "stderr",
     "output_type": "stream",
     "text": [
      "$ALXA: possibly delisted; no price data found  (1d 2014-01-27 00:00:00 -> 2025-01-27)\n"
     ]
    },
    {
     "name": "stdout",
     "output_type": "stream",
     "text": [
      "Processing ALXA...\n",
      "No data found for ALXA (10y)\n",
      "Skipped ALXA - insufficient data\n",
      "Processing SJM...\n",
      "Processing DHR...\n"
     ]
    },
    {
     "name": "stderr",
     "output_type": "stream",
     "text": [
      "$FCS: possibly delisted; no price data found  (1d 2014-01-27 00:00:00 -> 2025-01-27)\n"
     ]
    },
    {
     "name": "stdout",
     "output_type": "stream",
     "text": [
      "Processing FCS...\n",
      "No data found for FCS (10y)\n",
      "Skipped FCS - insufficient data\n",
      "Processing MEN...\n"
     ]
    },
    {
     "name": "stderr",
     "output_type": "stream",
     "text": [
      "$MEN: possibly delisted; no timezone found\n"
     ]
    },
    {
     "name": "stdout",
     "output_type": "stream",
     "text": [
      "No data found for MEN (10y)\n",
      "Skipped MEN - insufficient data\n",
      "Processing CASY...\n",
      "Processing LND...\n",
      "Processing MPAC...\n"
     ]
    },
    {
     "name": "stderr",
     "output_type": "stream",
     "text": [
      "$MPAC: possibly delisted; no timezone found\n",
      "$BRCD: possibly delisted; no price data found  (1d 2014-01-27 00:00:00 -> 2025-01-27)\n"
     ]
    },
    {
     "name": "stdout",
     "output_type": "stream",
     "text": [
      "No data found for MPAC (10y)\n",
      "Skipped MPAC - insufficient data\n",
      "Processing BRCD...\n",
      "No data found for BRCD (10y)\n",
      "Skipped BRCD - insufficient data\n",
      "Processing PACW...\n"
     ]
    },
    {
     "name": "stderr",
     "output_type": "stream",
     "text": [
      "$PACW: possibly delisted; no timezone found\n"
     ]
    },
    {
     "name": "stdout",
     "output_type": "stream",
     "text": [
      "No data found for PACW (10y)\n",
      "Skipped PACW - insufficient data\n",
      "Processing CTG...\n"
     ]
    },
    {
     "name": "stderr",
     "output_type": "stream",
     "text": [
      "$CTG: possibly delisted; no timezone found\n"
     ]
    },
    {
     "name": "stdout",
     "output_type": "stream",
     "text": [
      "No data found for CTG (10y)\n",
      "Skipped CTG - insufficient data\n",
      "Processing CMRX...\n",
      "Processing HAS...\n",
      "Processing SPB...\n",
      "Processing MS-A...\n"
     ]
    },
    {
     "name": "stderr",
     "output_type": "stream",
     "text": [
      "$MS-A: possibly delisted; no timezone found\n"
     ]
    },
    {
     "name": "stdout",
     "output_type": "stream",
     "text": [
      "No data found for MS-A (10y)\n",
      "Skipped MS-A - insufficient data\n",
      "Processing MTOR...\n"
     ]
    },
    {
     "name": "stderr",
     "output_type": "stream",
     "text": [
      "$MTOR: possibly delisted; no timezone found\n"
     ]
    },
    {
     "name": "stdout",
     "output_type": "stream",
     "text": [
      "No data found for MTOR (10y)\n",
      "Skipped MTOR - insufficient data\n",
      "Processing AIG...\n",
      "Processing VALE...\n",
      "Processing VBF...\n",
      "Processing MMYT...\n",
      "Processing QCRH...\n",
      "Processing ROSE...\n"
     ]
    },
    {
     "name": "stderr",
     "output_type": "stream",
     "text": [
      "$ROSE: possibly delisted; no timezone found\n"
     ]
    },
    {
     "name": "stdout",
     "output_type": "stream",
     "text": [
      "No data found for ROSE (10y)\n",
      "Skipped ROSE - insufficient data\n",
      "Processing ORBT...\n"
     ]
    },
    {
     "name": "stderr",
     "output_type": "stream",
     "text": [
      "$LGF: possibly delisted; no price data found  (1d 2014-01-27 00:00:00 -> 2025-01-27)\n"
     ]
    },
    {
     "name": "stdout",
     "output_type": "stream",
     "text": [
      "Processing LGF...\n",
      "No data found for LGF (10y)\n",
      "Skipped LGF - insufficient data\n",
      "Processing PESI...\n"
     ]
    },
    {
     "name": "stderr",
     "output_type": "stream",
     "text": [
      "$TRR: possibly delisted; no price data found  (1d 2014-01-27 00:00:00 -> 2025-01-27)\n"
     ]
    },
    {
     "name": "stdout",
     "output_type": "stream",
     "text": [
      "Processing TRR...\n",
      "No data found for TRR (10y)\n",
      "Skipped TRR - insufficient data\n",
      "Processing JSM...\n",
      "Processing ESBK...\n"
     ]
    },
    {
     "name": "stderr",
     "output_type": "stream",
     "text": [
      "$ESBK: possibly delisted; no timezone found\n",
      "$DEG: possibly delisted; no price data found  (1d 2014-01-27 00:00:00 -> 2025-01-27)\n"
     ]
    },
    {
     "name": "stdout",
     "output_type": "stream",
     "text": [
      "No data found for ESBK (10y)\n",
      "Skipped ESBK - insufficient data\n",
      "Processing DEG...\n",
      "No data found for DEG (10y)\n",
      "Skipped DEG - insufficient data\n",
      "Processing CTBI...\n",
      "Processing MBWM...\n",
      "Processing MTSI...\n",
      "Processing ATRS...\n"
     ]
    },
    {
     "name": "stderr",
     "output_type": "stream",
     "text": [
      "$ATRS: possibly delisted; no timezone found\n"
     ]
    },
    {
     "name": "stdout",
     "output_type": "stream",
     "text": [
      "No data found for ATRS (10y)\n",
      "Skipped ATRS - insufficient data\n",
      "Processing DB...\n",
      "Processing ETR...\n",
      "Processing ARRS...\n"
     ]
    },
    {
     "name": "stderr",
     "output_type": "stream",
     "text": [
      "$ARRS: possibly delisted; no timezone found\n"
     ]
    },
    {
     "name": "stdout",
     "output_type": "stream",
     "text": [
      "No data found for ARRS (10y)\n",
      "Skipped ARRS - insufficient data\n",
      "Processing BSE...\n"
     ]
    },
    {
     "name": "stderr",
     "output_type": "stream",
     "text": [
      "$BSE: possibly delisted; no timezone found\n"
     ]
    },
    {
     "name": "stdout",
     "output_type": "stream",
     "text": [
      "No data found for BSE (10y)\n",
      "Skipped BSE - insufficient data\n",
      "Processing DGII...\n",
      "Processing CTY...\n"
     ]
    },
    {
     "name": "stderr",
     "output_type": "stream",
     "text": [
      "$CTY: possibly delisted; no timezone found\n"
     ]
    },
    {
     "name": "stdout",
     "output_type": "stream",
     "text": [
      "No data found for CTY (10y)\n",
      "Skipped CTY - insufficient data\n",
      "Processing PCQ...\n",
      "Processing CFX...\n"
     ]
    },
    {
     "name": "stderr",
     "output_type": "stream",
     "text": [
      "$CFX: possibly delisted; no timezone found\n"
     ]
    },
    {
     "name": "stdout",
     "output_type": "stream",
     "text": [
      "No data found for CFX (10y)\n",
      "Skipped CFX - insufficient data\n",
      "Processing MHNB...\n"
     ]
    },
    {
     "name": "stderr",
     "output_type": "stream",
     "text": [
      "$MHNB: possibly delisted; no timezone found\n"
     ]
    },
    {
     "name": "stdout",
     "output_type": "stream",
     "text": [
      "No data found for MHNB (10y)\n",
      "Skipped MHNB - insufficient data\n",
      "Processing LPTH...\n",
      "Processing XEL...\n",
      "Processing ESS-H...\n"
     ]
    },
    {
     "name": "stderr",
     "output_type": "stream",
     "text": [
      "$ESS-H: possibly delisted; no timezone found\n"
     ]
    },
    {
     "name": "stdout",
     "output_type": "stream",
     "text": [
      "No data found for ESS-H (10y)\n",
      "Skipped ESS-H - insufficient data\n",
      "Processing FRGI...\n"
     ]
    },
    {
     "name": "stderr",
     "output_type": "stream",
     "text": [
      "$FRGI: possibly delisted; no timezone found\n"
     ]
    },
    {
     "name": "stdout",
     "output_type": "stream",
     "text": [
      "No data found for FRGI (10y)\n",
      "Skipped FRGI - insufficient data\n",
      "Processing SLP...\n",
      "Processing MTRX...\n",
      "Processing SWI...\n",
      "Processing MPW...\n",
      "Processing HAYN...\n",
      "Data unavailable for HAYN (10y): Too Many Requests. Rate limited. Try after a while.\n",
      "Skipped HAYN - insufficient data\n",
      "Processing RAD...\n",
      "Data unavailable for RAD (10y): Too Many Requests. Rate limited. Try after a while.\n",
      "Skipped RAD - insufficient data\n",
      "Processing DFRG...\n",
      "Data unavailable for DFRG (10y): Too Many Requests. Rate limited. Try after a while.\n",
      "Skipped DFRG - insufficient data\n",
      "Processing NYT...\n",
      "Data unavailable for NYT (10y): Too Many Requests. Rate limited. Try after a while.\n",
      "Skipped NYT - insufficient data\n",
      "Processing PKBK...\n",
      "Data unavailable for PKBK (10y): Too Many Requests. Rate limited. Try after a while.\n",
      "Skipped PKBK - insufficient data\n",
      "Processing MPEL...\n",
      "Data unavailable for MPEL (10y): Too Many Requests. Rate limited. Try after a while.\n",
      "Skipped MPEL - insufficient data\n",
      "Processing TROX...\n",
      "Data unavailable for TROX (10y): Too Many Requests. Rate limited. Try after a while.\n",
      "Skipped TROX - insufficient data\n",
      "Processing NUVA...\n",
      "Data unavailable for NUVA (10y): Too Many Requests. Rate limited. Try after a while.\n",
      "Skipped NUVA - insufficient data\n",
      "Processing GJK...\n",
      "Data unavailable for GJK (10y): Too Many Requests. Rate limited. Try after a while.\n",
      "Skipped GJK - insufficient data\n",
      "Processing HAL...\n",
      "Data unavailable for HAL (10y): Too Many Requests. Rate limited. Try after a while.\n",
      "Skipped HAL - insufficient data\n",
      "Processing IMMU...\n",
      "Data unavailable for IMMU (10y): Too Many Requests. Rate limited. Try after a while.\n",
      "Skipped IMMU - insufficient data\n",
      "Processing PL-B...\n",
      "Data unavailable for PL-B (10y): Too Many Requests. Rate limited. Try after a while.\n",
      "Skipped PL-B - insufficient data\n",
      "Processing CRRC...\n",
      "Data unavailable for CRRC (10y): Too Many Requests. Rate limited. Try after a while.\n",
      "Skipped CRRC - insufficient data\n",
      "Processing CYNI...\n",
      "Data unavailable for CYNI (10y): Too Many Requests. Rate limited. Try after a while.\n",
      "Skipped CYNI - insufficient data\n",
      "Processing RSO...\n",
      "Data unavailable for RSO (10y): Too Many Requests. Rate limited. Try after a while.\n",
      "Skipped RSO - insufficient data\n",
      "Processing UBA...\n",
      "Data unavailable for UBA (10y): Too Many Requests. Rate limited. Try after a while.\n",
      "Skipped UBA - insufficient data\n",
      "Processing EVRY...\n",
      "Data unavailable for EVRY (10y): Too Many Requests. Rate limited. Try after a while.\n",
      "Skipped EVRY - insufficient data\n",
      "Processing SPG...\n",
      "Data unavailable for SPG (10y): Too Many Requests. Rate limited. Try after a while.\n",
      "Skipped SPG - insufficient data\n",
      "Processing JZK...\n",
      "Data unavailable for JZK (10y): Too Many Requests. Rate limited. Try after a while.\n",
      "Skipped JZK - insufficient data\n",
      "Processing STEM...\n",
      "Data unavailable for STEM (10y): Too Many Requests. Rate limited. Try after a while.\n",
      "Skipped STEM - insufficient data\n",
      "Processing CBEY...\n",
      "Data unavailable for CBEY (10y): Too Many Requests. Rate limited. Try after a while.\n",
      "Skipped CBEY - insufficient data\n",
      "Processing BKS...\n",
      "Data unavailable for BKS (10y): Too Many Requests. Rate limited. Try after a while.\n",
      "Skipped BKS - insufficient data\n",
      "Processing GSL...\n",
      "Data unavailable for GSL (10y): Too Many Requests. Rate limited. Try after a while.\n",
      "Skipped GSL - insufficient data\n",
      "Processing XEC...\n",
      "Data unavailable for XEC (10y): Too Many Requests. Rate limited. Try after a while.\n",
      "Skipped XEC - insufficient data\n",
      "Processing GSH...\n",
      "Data unavailable for GSH (10y): Too Many Requests. Rate limited. Try after a while.\n",
      "Skipped GSH - insufficient data\n",
      "Processing TD...\n",
      "Data unavailable for TD (10y): Too Many Requests. Rate limited. Try after a while.\n",
      "Skipped TD - insufficient data\n",
      "Processing UTMD...\n",
      "Data unavailable for UTMD (10y): Too Many Requests. Rate limited. Try after a while.\n",
      "Skipped UTMD - insufficient data\n",
      "Processing MFT...\n",
      "Data unavailable for MFT (10y): Too Many Requests. Rate limited. Try after a while.\n",
      "Skipped MFT - insufficient data\n",
      "Processing KNOP...\n",
      "Data unavailable for KNOP (10y): Too Many Requests. Rate limited. Try after a while.\n",
      "Skipped KNOP - insufficient data\n",
      "Processing BCRX...\n",
      "Data unavailable for BCRX (10y): Too Many Requests. Rate limited. Try after a while.\n",
      "Skipped BCRX - insufficient data\n",
      "Processing BMRN...\n",
      "Data unavailable for BMRN (10y): Too Many Requests. Rate limited. Try after a while.\n",
      "Skipped BMRN - insufficient data\n",
      "Processing CBMX...\n",
      "Data unavailable for CBMX (10y): Too Many Requests. Rate limited. Try after a while.\n",
      "Skipped CBMX - insufficient data\n",
      "Processing CYN-C...\n",
      "Data unavailable for CYN-C (10y): Too Many Requests. Rate limited. Try after a while.\n",
      "Skipped CYN-C - insufficient data\n",
      "Processing WABC...\n",
      "Data unavailable for WABC (10y): Too Many Requests. Rate limited. Try after a while.\n",
      "Skipped WABC - insufficient data\n",
      "Processing LHO...\n",
      "Data unavailable for LHO (10y): Too Many Requests. Rate limited. Try after a while.\n",
      "Skipped LHO - insufficient data\n",
      "Processing FB...\n",
      "Data unavailable for FB (10y): Too Many Requests. Rate limited. Try after a while.\n",
      "Skipped FB - insufficient data\n",
      "Processing FICO...\n",
      "Data unavailable for FICO (10y): Too Many Requests. Rate limited. Try after a while.\n",
      "Skipped FICO - insufficient data\n",
      "Processing WSTG...\n",
      "Data unavailable for WSTG (10y): Too Many Requests. Rate limited. Try after a while.\n",
      "Skipped WSTG - insufficient data\n",
      "Processing FGB...\n",
      "Data unavailable for FGB (10y): Too Many Requests. Rate limited. Try after a while.\n",
      "Skipped FGB - insufficient data\n",
      "Processing KTH...\n",
      "Data unavailable for KTH (10y): Too Many Requests. Rate limited. Try after a while.\n",
      "Skipped KTH - insufficient data\n",
      "Processing SVVC...\n",
      "Data unavailable for SVVC (10y): Too Many Requests. Rate limited. Try after a while.\n",
      "Skipped SVVC - insufficient data\n",
      "Processing UAN...\n",
      "Data unavailable for UAN (10y): Too Many Requests. Rate limited. Try after a while.\n",
      "Skipped UAN - insufficient data\n",
      "Processing AKO.B...\n",
      "Data unavailable for AKO.B (10y): Too Many Requests. Rate limited. Try after a while.\n",
      "Skipped AKO.B - insufficient data\n",
      "Processing FBMI...\n",
      "Data unavailable for FBMI (10y): Too Many Requests. Rate limited. Try after a while.\n",
      "Skipped FBMI - insufficient data\n",
      "Processing GIS...\n",
      "Data unavailable for GIS (10y): Too Many Requests. Rate limited. Try after a while.\n",
      "Skipped GIS - insufficient data\n",
      "Processing MUS...\n",
      "Data unavailable for MUS (10y): Too Many Requests. Rate limited. Try after a while.\n",
      "Skipped MUS - insufficient data\n",
      "Processing MEILW...\n",
      "Data unavailable for MEILW (10y): Too Many Requests. Rate limited. Try after a while.\n",
      "Skipped MEILW - insufficient data\n",
      "Processing EXH...\n",
      "Data unavailable for EXH (10y): Too Many Requests. Rate limited. Try after a while.\n",
      "Skipped EXH - insufficient data\n",
      "Processing ATHX...\n",
      "Data unavailable for ATHX (10y): Too Many Requests. Rate limited. Try after a while.\n",
      "Skipped ATHX - insufficient data\n",
      "Processing SEMG...\n",
      "Data unavailable for SEMG (10y): Too Many Requests. Rate limited. Try after a while.\n",
      "Skipped SEMG - insufficient data\n",
      "Processing PAI...\n",
      "Data unavailable for PAI (10y): Too Many Requests. Rate limited. Try after a while.\n",
      "Skipped PAI - insufficient data\n",
      "Processing CSRE...\n",
      "Data unavailable for CSRE (10y): Too Many Requests. Rate limited. Try after a while.\n",
      "Skipped CSRE - insufficient data\n",
      "Processing CNQR...\n",
      "Data unavailable for CNQR (10y): Too Many Requests. Rate limited. Try after a while.\n",
      "Skipped CNQR - insufficient data\n",
      "Processing ACST...\n",
      "Data unavailable for ACST (10y): Too Many Requests. Rate limited. Try after a while.\n",
      "Skipped ACST - insufficient data\n",
      "Processing FLT...\n",
      "Data unavailable for FLT (10y): Too Many Requests. Rate limited. Try after a while.\n",
      "Skipped FLT - insufficient data\n",
      "Processing FTEK...\n",
      "Data unavailable for FTEK (10y): Too Many Requests. Rate limited. Try after a while.\n",
      "Skipped FTEK - insufficient data\n",
      "Processing USAP...\n",
      "Data unavailable for USAP (10y): Too Many Requests. Rate limited. Try after a while.\n",
      "Skipped USAP - insufficient data\n",
      "Processing DLR-F...\n",
      "Data unavailable for DLR-F (10y): Too Many Requests. Rate limited. Try after a while.\n",
      "Skipped DLR-F - insufficient data\n",
      "Processing IFEU...\n",
      "Data unavailable for IFEU (10y): Too Many Requests. Rate limited. Try after a while.\n",
      "Skipped IFEU - insufficient data\n",
      "Processing SAFM...\n",
      "Data unavailable for SAFM (10y): Too Many Requests. Rate limited. Try after a while.\n",
      "Skipped SAFM - insufficient data\n",
      "Processing WAFD...\n",
      "Data unavailable for WAFD (10y): Too Many Requests. Rate limited. Try after a while.\n",
      "Skipped WAFD - insufficient data\n",
      "Processing GALE...\n",
      "Data unavailable for GALE (10y): Too Many Requests. Rate limited. Try after a while.\n",
      "Skipped GALE - insufficient data\n",
      "Processing BGCP...\n",
      "Data unavailable for BGCP (10y): Too Many Requests. Rate limited. Try after a while.\n",
      "Skipped BGCP - insufficient data\n",
      "Processing IKNX...\n",
      "Data unavailable for IKNX (10y): Too Many Requests. Rate limited. Try after a while.\n",
      "Skipped IKNX - insufficient data\n",
      "Processing NJR...\n",
      "Data unavailable for NJR (10y): Too Many Requests. Rate limited. Try after a while.\n",
      "Skipped NJR - insufficient data\n",
      "Processing MHO-A...\n",
      "Data unavailable for MHO-A (10y): Too Many Requests. Rate limited. Try after a while.\n",
      "Skipped MHO-A - insufficient data\n",
      "Processing NMA...\n",
      "Data unavailable for NMA (10y): Too Many Requests. Rate limited. Try after a while.\n",
      "Skipped NMA - insufficient data\n",
      "Processing CCG...\n",
      "Data unavailable for CCG (10y): Too Many Requests. Rate limited. Try after a while.\n",
      "Skipped CCG - insufficient data\n",
      "Processing HQL...\n",
      "Data unavailable for HQL (10y): Too Many Requests. Rate limited. Try after a while.\n",
      "Skipped HQL - insufficient data\n",
      "Processing FFC...\n",
      "Data unavailable for FFC (10y): Too Many Requests. Rate limited. Try after a while.\n",
      "Skipped FFC - insufficient data\n",
      "Processing CATY...\n",
      "Data unavailable for CATY (10y): Too Many Requests. Rate limited. Try after a while.\n",
      "Skipped CATY - insufficient data\n",
      "Processing EDAP...\n",
      "Data unavailable for EDAP (10y): Too Many Requests. Rate limited. Try after a while.\n",
      "Skipped EDAP - insufficient data\n",
      "Processing SINO...\n",
      "Data unavailable for SINO (10y): Too Many Requests. Rate limited. Try after a while.\n",
      "Skipped SINO - insufficient data\n",
      "Processing SYUT...\n",
      "Data unavailable for SYUT (10y): Too Many Requests. Rate limited. Try after a while.\n",
      "Skipped SYUT - insufficient data\n",
      "Processing CVRR...\n",
      "Data unavailable for CVRR (10y): Too Many Requests. Rate limited. Try after a while.\n",
      "Skipped CVRR - insufficient data\n",
      "Processing RSYS...\n",
      "Data unavailable for RSYS (10y): Too Many Requests. Rate limited. Try after a while.\n",
      "Skipped RSYS - insufficient data\n",
      "Processing CSL...\n",
      "Data unavailable for CSL (10y): Too Many Requests. Rate limited. Try after a while.\n",
      "Skipped CSL - insufficient data\n",
      "Processing CIE...\n",
      "Data unavailable for CIE (10y): Too Many Requests. Rate limited. Try after a while.\n",
      "Skipped CIE - insufficient data\n",
      "Processing ABBV...\n",
      "Data unavailable for ABBV (10y): Too Many Requests. Rate limited. Try after a while.\n",
      "Skipped ABBV - insufficient data\n",
      "Processing CB...\n",
      "Data unavailable for CB (10y): Too Many Requests. Rate limited. Try after a while.\n",
      "Skipped CB - insufficient data\n",
      "Processing NSC...\n",
      "Data unavailable for NSC (10y): Too Many Requests. Rate limited. Try after a while.\n",
      "Skipped NSC - insufficient data\n",
      "Processing ANH-A...\n",
      "Data unavailable for ANH-A (10y): Too Many Requests. Rate limited. Try after a while.\n",
      "Skipped ANH-A - insufficient data\n",
      "Processing XOOM...\n",
      "Data unavailable for XOOM (10y): Too Many Requests. Rate limited. Try after a while.\n",
      "Skipped XOOM - insufficient data\n",
      "Processing ZIGO...\n",
      "Data unavailable for ZIGO (10y): Too Many Requests. Rate limited. Try after a while.\n",
      "Skipped ZIGO - insufficient data\n",
      "Processing CMGE...\n",
      "Data unavailable for CMGE (10y): Too Many Requests. Rate limited. Try after a while.\n",
      "Skipped CMGE - insufficient data\n",
      "Processing NPV-E...\n",
      "Data unavailable for NPV-E (10y): Too Many Requests. Rate limited. Try after a while.\n",
      "Skipped NPV-E - insufficient data\n",
      "Processing IGI...\n",
      "Data unavailable for IGI (10y): Too Many Requests. Rate limited. Try after a while.\n",
      "Skipped IGI - insufficient data\n",
      "Processing ESXB...\n",
      "Data unavailable for ESXB (10y): Too Many Requests. Rate limited. Try after a while.\n",
      "Skipped ESXB - insufficient data\n",
      "Processing HBOS...\n",
      "Data unavailable for HBOS (10y): Too Many Requests. Rate limited. Try after a while.\n",
      "Skipped HBOS - insufficient data\n",
      "Processing SYNC...\n",
      "Data unavailable for SYNC (10y): Too Many Requests. Rate limited. Try after a while.\n",
      "Skipped SYNC - insufficient data\n",
      "Processing NOV...\n",
      "Data unavailable for NOV (10y): Too Many Requests. Rate limited. Try after a while.\n",
      "Skipped NOV - insufficient data\n",
      "Processing BGB...\n",
      "Data unavailable for BGB (10y): Too Many Requests. Rate limited. Try after a while.\n",
      "Skipped BGB - insufficient data\n",
      "Processing WBKC...\n",
      "Data unavailable for WBKC (10y): Too Many Requests. Rate limited. Try after a while.\n",
      "Skipped WBKC - insufficient data\n",
      "Processing CNTY...\n",
      "Data unavailable for CNTY (10y): Too Many Requests. Rate limited. Try after a while.\n",
      "Skipped CNTY - insufficient data\n",
      "Processing SRE...\n",
      "Data unavailable for SRE (10y): Too Many Requests. Rate limited. Try after a while.\n",
      "Skipped SRE - insufficient data\n",
      "Processing SCL...\n",
      "Data unavailable for SCL (10y): Too Many Requests. Rate limited. Try after a while.\n",
      "Skipped SCL - insufficient data\n",
      "Processing NTC-E...\n",
      "Data unavailable for NTC-E (10y): Too Many Requests. Rate limited. Try after a while.\n",
      "Skipped NTC-E - insufficient data\n",
      "Processing OPK...\n",
      "Data unavailable for OPK (10y): Too Many Requests. Rate limited. Try after a while.\n",
      "Skipped OPK - insufficient data\n",
      "Processing HTCH...\n",
      "Data unavailable for HTCH (10y): Too Many Requests. Rate limited. Try after a while.\n",
      "Skipped HTCH - insufficient data\n",
      "Processing GLBZ...\n",
      "Data unavailable for GLBZ (10y): Too Many Requests. Rate limited. Try after a while.\n",
      "Skipped GLBZ - insufficient data\n",
      "Processing SSFN...\n",
      "Data unavailable for SSFN (10y): Too Many Requests. Rate limited. Try after a while.\n",
      "Skipped SSFN - insufficient data\n",
      "Processing OXLCO...\n",
      "Data unavailable for OXLCO (10y): Too Many Requests. Rate limited. Try after a while.\n",
      "Skipped OXLCO - insufficient data\n",
      "Processing BSMX...\n",
      "Data unavailable for BSMX (10y): Too Many Requests. Rate limited. Try after a while.\n",
      "Skipped BSMX - insufficient data\n",
      "Processing NRF-B...\n",
      "Data unavailable for NRF-B (10y): Too Many Requests. Rate limited. Try after a while.\n",
      "Skipped NRF-B - insufficient data\n",
      "Processing USCR...\n",
      "Data unavailable for USCR (10y): Too Many Requests. Rate limited. Try after a while.\n",
      "Skipped USCR - insufficient data\n",
      "Processing RDIB...\n",
      "Data unavailable for RDIB (10y): Too Many Requests. Rate limited. Try after a while.\n",
      "Skipped RDIB - insufficient data\n",
      "Processing CSS...\n",
      "Data unavailable for CSS (10y): Too Many Requests. Rate limited. Try after a while.\n",
      "Skipped CSS - insufficient data\n",
      "Processing CSI...\n",
      "Data unavailable for CSI (10y): Too Many Requests. Rate limited. Try after a while.\n",
      "Skipped CSI - insufficient data\n",
      "Processing UVV...\n",
      "Data unavailable for UVV (10y): Too Many Requests. Rate limited. Try after a while.\n",
      "Skipped UVV - insufficient data\n",
      "Processing SPPRO...\n",
      "Data unavailable for SPPRO (10y): Too Many Requests. Rate limited. Try after a while.\n",
      "Skipped SPPRO - insufficient data\n",
      "Processing BTO...\n",
      "Data unavailable for BTO (10y): Too Many Requests. Rate limited. Try after a while.\n",
      "Skipped BTO - insufficient data\n",
      "Processing BSP...\n",
      "Data unavailable for BSP (10y): Too Many Requests. Rate limited. Try after a while.\n",
      "Skipped BSP - insufficient data\n",
      "Processing EXL-B...\n",
      "Data unavailable for EXL-B (10y): Too Many Requests. Rate limited. Try after a while.\n",
      "Skipped EXL-B - insufficient data\n",
      "Processing MRCC...\n",
      "Data unavailable for MRCC (10y): Too Many Requests. Rate limited. Try after a while.\n",
      "Skipped MRCC - insufficient data\n",
      "Processing EMES...\n",
      "Data unavailable for EMES (10y): Too Many Requests. Rate limited. Try after a while.\n",
      "Skipped EMES - insufficient data\n",
      "Processing NWS...\n",
      "Data unavailable for NWS (10y): Too Many Requests. Rate limited. Try after a while.\n",
      "Skipped NWS - insufficient data\n",
      "Processing METR...\n",
      "Data unavailable for METR (10y): Too Many Requests. Rate limited. Try after a while.\n",
      "Skipped METR - insufficient data\n",
      "Processing COSI...\n",
      "Data unavailable for COSI (10y): Too Many Requests. Rate limited. Try after a while.\n",
      "Skipped COSI - insufficient data\n",
      "Processing IIVI...\n",
      "Data unavailable for IIVI (10y): Too Many Requests. Rate limited. Try after a while.\n",
      "Skipped IIVI - insufficient data\n",
      "Processing BVN...\n",
      "Data unavailable for BVN (10y): Too Many Requests. Rate limited. Try after a while.\n",
      "Skipped BVN - insufficient data\n",
      "Processing CRR...\n",
      "Data unavailable for CRR (10y): Too Many Requests. Rate limited. Try after a while.\n",
      "Skipped CRR - insufficient data\n",
      "Processing GCO...\n",
      "Data unavailable for GCO (10y): Too Many Requests. Rate limited. Try after a while.\n",
      "Skipped GCO - insufficient data\n",
      "Processing CPA...\n",
      "Data unavailable for CPA (10y): Too Many Requests. Rate limited. Try after a while.\n",
      "Skipped CPA - insufficient data\n",
      "Processing FHN-A...\n",
      "Data unavailable for FHN-A (10y): Too Many Requests. Rate limited. Try after a while.\n",
      "Skipped FHN-A - insufficient data\n",
      "Processing MDIV...\n",
      "Data unavailable for MDIV (10y): Too Many Requests. Rate limited. Try after a while.\n",
      "Skipped MDIV - insufficient data\n",
      "Processing ERW...\n",
      "Data unavailable for ERW (10y): Too Many Requests. Rate limited. Try after a while.\n",
      "Skipped ERW - insufficient data\n",
      "Processing TXTR...\n",
      "Data unavailable for TXTR (10y): Too Many Requests. Rate limited. Try after a while.\n",
      "Skipped TXTR - insufficient data\n",
      "Processing HITK...\n",
      "Data unavailable for HITK (10y): Too Many Requests. Rate limited. Try after a while.\n",
      "Skipped HITK - insufficient data\n",
      "Processing ZGNX...\n",
      "Data unavailable for ZGNX (10y): Too Many Requests. Rate limited. Try after a while.\n",
      "Skipped ZGNX - insufficient data\n",
      "Processing MIY...\n",
      "Data unavailable for MIY (10y): Too Many Requests. Rate limited. Try after a while.\n",
      "Skipped MIY - insufficient data\n",
      "Processing ULTR...\n",
      "Data unavailable for ULTR (10y): Too Many Requests. Rate limited. Try after a while.\n",
      "Skipped ULTR - insufficient data\n",
      "Processing NGPC...\n",
      "Data unavailable for NGPC (10y): Too Many Requests. Rate limited. Try after a while.\n",
      "Skipped NGPC - insufficient data\n",
      "Processing COR...\n",
      "Data unavailable for COR (10y): Too Many Requests. Rate limited. Try after a while.\n",
      "Skipped COR - insufficient data\n",
      "Processing SFL...\n",
      "Data unavailable for SFL (10y): Too Many Requests. Rate limited. Try after a while.\n",
      "Skipped SFL - insufficient data\n",
      "Processing WEBK...\n",
      "Data unavailable for WEBK (10y): Too Many Requests. Rate limited. Try after a while.\n",
      "Skipped WEBK - insufficient data\n",
      "Processing NZH-C...\n",
      "Data unavailable for NZH-C (10y): Too Many Requests. Rate limited. Try after a while.\n",
      "Skipped NZH-C - insufficient data\n",
      "Processing CCOI...\n",
      "Data unavailable for CCOI (10y): Too Many Requests. Rate limited. Try after a while.\n",
      "Skipped CCOI - insufficient data\n",
      "Processing PSCH...\n",
      "Data unavailable for PSCH (10y): Too Many Requests. Rate limited. Try after a while.\n",
      "Skipped PSCH - insufficient data\n",
      "Processing MTH...\n",
      "Data unavailable for MTH (10y): Too Many Requests. Rate limited. Try after a while.\n",
      "Skipped MTH - insufficient data\n",
      "Processing ANN...\n",
      "Data unavailable for ANN (10y): Too Many Requests. Rate limited. Try after a while.\n",
      "Skipped ANN - insufficient data\n",
      "Processing PXD...\n",
      "Data unavailable for PXD (10y): Too Many Requests. Rate limited. Try after a while.\n",
      "Skipped PXD - insufficient data\n",
      "Processing ERA...\n",
      "Data unavailable for ERA (10y): Too Many Requests. Rate limited. Try after a while.\n",
      "Skipped ERA - insufficient data\n",
      "Processing CVX...\n",
      "Data unavailable for CVX (10y): Too Many Requests. Rate limited. Try after a while.\n",
      "Skipped CVX - insufficient data\n",
      "Processing CPAC...\n",
      "Data unavailable for CPAC (10y): Too Many Requests. Rate limited. Try after a while.\n",
      "Skipped CPAC - insufficient data\n",
      "Processing BRE...\n",
      "Data unavailable for BRE (10y): Too Many Requests. Rate limited. Try after a while.\n",
      "Skipped BRE - insufficient data\n",
      "Processing JNS...\n",
      "Data unavailable for JNS (10y): Too Many Requests. Rate limited. Try after a while.\n",
      "Skipped JNS - insufficient data\n",
      "Processing POWR...\n",
      "Data unavailable for POWR (10y): Too Many Requests. Rate limited. Try after a while.\n",
      "Skipped POWR - insufficient data\n",
      "Processing ARC...\n",
      "Data unavailable for ARC (10y): Too Many Requests. Rate limited. Try after a while.\n",
      "Skipped ARC - insufficient data\n",
      "Processing MER-F...\n",
      "Data unavailable for MER-F (10y): Too Many Requests. Rate limited. Try after a while.\n",
      "Skipped MER-F - insufficient data\n",
      "Processing TQQQ...\n",
      "Data unavailable for TQQQ (10y): Too Many Requests. Rate limited. Try after a while.\n",
      "Skipped TQQQ - insufficient data\n",
      "Processing IM...\n",
      "Data unavailable for IM (10y): Too Many Requests. Rate limited. Try after a while.\n",
      "Skipped IM - insufficient data\n",
      "Processing AMRB...\n",
      "Data unavailable for AMRB (10y): Too Many Requests. Rate limited. Try after a while.\n",
      "Skipped AMRB - insufficient data\n",
      "Processing CCXI...\n",
      "Data unavailable for CCXI (10y): Too Many Requests. Rate limited. Try after a while.\n",
      "Skipped CCXI - insufficient data\n",
      "Processing VCI...\n",
      "Data unavailable for VCI (10y): Too Many Requests. Rate limited. Try after a while.\n",
      "Skipped VCI - insufficient data\n",
      "Processing SALM...\n",
      "Data unavailable for SALM (10y): Too Many Requests. Rate limited. Try after a while.\n",
      "Skipped SALM - insufficient data\n",
      "Processing HON...\n",
      "Data unavailable for HON (10y): Too Many Requests. Rate limited. Try after a while.\n",
      "Skipped HON - insufficient data\n",
      "Processing BOXC...\n"
     ]
    },
    {
     "name": "stderr",
     "output_type": "stream",
     "text": [
      "$BOXC: possibly delisted; no price data found  (1d 2014-01-27 00:00:00 -> 2025-01-27)\n"
     ]
    },
    {
     "name": "stdout",
     "output_type": "stream",
     "text": [
      "No data found for BOXC (10y)\n",
      "Skipped BOXC - insufficient data\n",
      "Processing NLY-A...\n"
     ]
    },
    {
     "name": "stderr",
     "output_type": "stream",
     "text": [
      "$NLY-A: possibly delisted; no timezone found\n",
      "$MILL: possibly delisted; no price data found  (1d 2014-01-27 00:00:00 -> 2025-01-27)\n"
     ]
    },
    {
     "name": "stdout",
     "output_type": "stream",
     "text": [
      "No data found for NLY-A (10y)\n",
      "Skipped NLY-A - insufficient data\n",
      "Processing MILL...\n",
      "No data found for MILL (10y)\n",
      "Skipped MILL - insufficient data\n",
      "Processing GRT...\n",
      "Insufficient data for GRT (1 rows)\n",
      "Skipped GRT - insufficient data\n",
      "Processing KED...\n",
      "Processing AVA...\n",
      "Processing TCB.W...\n"
     ]
    },
    {
     "name": "stderr",
     "output_type": "stream",
     "text": [
      "$TCB.W: possibly delisted; no timezone found\n"
     ]
    },
    {
     "name": "stdout",
     "output_type": "stream",
     "text": [
      "No data found for TCB.W (10y)\n",
      "Skipped TCB.W - insufficient data\n",
      "Processing CCV...\n"
     ]
    },
    {
     "name": "stderr",
     "output_type": "stream",
     "text": [
      "$CCV: possibly delisted; no timezone found\n"
     ]
    },
    {
     "name": "stdout",
     "output_type": "stream",
     "text": [
      "No data found for CCV (10y)\n",
      "Skipped CCV - insufficient data\n",
      "Processing TSU...\n"
     ]
    },
    {
     "name": "stderr",
     "output_type": "stream",
     "text": [
      "$TSU: possibly delisted; no timezone found\n"
     ]
    },
    {
     "name": "stdout",
     "output_type": "stream",
     "text": [
      "No data found for TSU (10y)\n",
      "Skipped TSU - insufficient data\n",
      "Processing CYE...\n",
      "Processing GMA...\n",
      "Insufficient data for GMA (1 rows)\n",
      "Skipped GMA - insufficient data\n",
      "Processing MINI...\n"
     ]
    },
    {
     "name": "stderr",
     "output_type": "stream",
     "text": [
      "$MINI: possibly delisted; no timezone found\n"
     ]
    },
    {
     "name": "stdout",
     "output_type": "stream",
     "text": [
      "No data found for MINI (10y)\n",
      "Skipped MINI - insufficient data\n",
      "Processing HAWK...\n",
      "Processing GXP-E...\n"
     ]
    },
    {
     "name": "stderr",
     "output_type": "stream",
     "text": [
      "$GXP-E: possibly delisted; no timezone found\n"
     ]
    },
    {
     "name": "stdout",
     "output_type": "stream",
     "text": [
      "No data found for GXP-E (10y)\n",
      "Skipped GXP-E - insufficient data\n",
      "Processing TBOW...\n"
     ]
    },
    {
     "name": "stderr",
     "output_type": "stream",
     "text": [
      "$TBOW: possibly delisted; no timezone found\n"
     ]
    },
    {
     "name": "stdout",
     "output_type": "stream",
     "text": [
      "No data found for TBOW (10y)\n",
      "Skipped TBOW - insufficient data\n",
      "Processing EDUC...\n",
      "Processing DHI...\n",
      "Processing NRF-D...\n"
     ]
    },
    {
     "name": "stderr",
     "output_type": "stream",
     "text": [
      "$NRF-D: possibly delisted; no timezone found\n"
     ]
    },
    {
     "name": "stdout",
     "output_type": "stream",
     "text": [
      "No data found for NRF-D (10y)\n",
      "Skipped NRF-D - insufficient data\n",
      "Processing BDMS...\n",
      "Processing PCI...\n"
     ]
    },
    {
     "name": "stderr",
     "output_type": "stream",
     "text": [
      "$PCI: possibly delisted; no timezone found\n"
     ]
    },
    {
     "name": "stdout",
     "output_type": "stream",
     "text": [
      "No data found for PCI (10y)\n",
      "Skipped PCI - insufficient data\n",
      "Processing SFNC...\n",
      "Processing AER...\n",
      "Processing FFKT...\n"
     ]
    },
    {
     "name": "stderr",
     "output_type": "stream",
     "text": [
      "$WAC: possibly delisted; no price data found  (1d 2014-01-27 00:00:00 -> 2025-01-27)\n"
     ]
    },
    {
     "name": "stdout",
     "output_type": "stream",
     "text": [
      "Processing WAC...\n",
      "No data found for WAC (10y)\n",
      "Skipped WAC - insufficient data\n",
      "Processing PSTR...\n",
      "Insufficient data for PSTR (185 rows)\n",
      "Skipped PSTR - insufficient data\n",
      "Processing NFSB...\n"
     ]
    },
    {
     "name": "stderr",
     "output_type": "stream",
     "text": [
      "$NFSB: possibly delisted; no price data found  (1d 2014-01-27 00:00:00 -> 2025-01-27)\n"
     ]
    },
    {
     "name": "stdout",
     "output_type": "stream",
     "text": [
      "No data found for NFSB (10y)\n",
      "Skipped NFSB - insufficient data\n",
      "Processing BICK...\n",
      "Processing UBNK...\n"
     ]
    },
    {
     "name": "stderr",
     "output_type": "stream",
     "text": [
      "$UBNK: possibly delisted; no timezone found\n"
     ]
    },
    {
     "name": "stdout",
     "output_type": "stream",
     "text": [
      "No data found for UBNK (10y)\n",
      "Skipped UBNK - insufficient data\n",
      "Processing BRP...\n"
     ]
    },
    {
     "name": "stderr",
     "output_type": "stream",
     "text": [
      "$BRP: possibly delisted; no timezone found\n"
     ]
    },
    {
     "name": "stdout",
     "output_type": "stream",
     "text": [
      "No data found for BRP (10y)\n",
      "Skipped BRP - insufficient data\n",
      "Processing RRTS...\n",
      "Processing TECUB...\n",
      "Insufficient data for TECUB (67 rows)\n",
      "Skipped TECUB - insufficient data\n",
      "Processing EXR...\n",
      "Processing LRE...\n",
      "Processing HIBB...\n"
     ]
    },
    {
     "name": "stderr",
     "output_type": "stream",
     "text": [
      "$HIBB: possibly delisted; no timezone found\n",
      "$GM.B: possibly delisted; no price data found  (1d 2014-01-27 00:00:00 -> 2025-01-27)\n"
     ]
    },
    {
     "name": "stdout",
     "output_type": "stream",
     "text": [
      "No data found for HIBB (10y)\n",
      "Skipped HIBB - insufficient data\n",
      "Processing GM.B...\n",
      "No data found for GM.B (10y)\n",
      "Skipped GM.B - insufficient data\n",
      "Processing BCA...\n",
      "Insufficient data for BCA (4 rows)\n",
      "Skipped BCA - insufficient data\n",
      "Processing EDU...\n",
      "Processing PCN...\n",
      "Processing ACN...\n",
      "Processing CYCC...\n",
      "Processing GBAB...\n",
      "Processing MPWR...\n"
     ]
    },
    {
     "name": "stderr",
     "output_type": "stream",
     "text": [
      "$XUE: possibly delisted; no price data found  (1d 2014-01-27 00:00:00 -> 2025-01-27)\n"
     ]
    },
    {
     "name": "stdout",
     "output_type": "stream",
     "text": [
      "Processing XUE...\n",
      "No data found for XUE (10y)\n",
      "Skipped XUE - insufficient data\n",
      "Processing LWAY...\n",
      "Processing TEN...\n",
      "Processing IR...\n",
      "Processing USAK...\n"
     ]
    },
    {
     "name": "stderr",
     "output_type": "stream",
     "text": [
      "$USAK: possibly delisted; no timezone found\n",
      "$ZX: possibly delisted; no price data found  (1d 2014-01-27 00:00:00 -> 2025-01-27)\n"
     ]
    },
    {
     "name": "stdout",
     "output_type": "stream",
     "text": [
      "No data found for USAK (10y)\n",
      "Skipped USAK - insufficient data\n",
      "Processing ZX...\n",
      "No data found for ZX (10y)\n",
      "Skipped ZX - insufficient data\n",
      "Processing BCOR...\n"
     ]
    },
    {
     "name": "stderr",
     "output_type": "stream",
     "text": [
      "$BCOR: possibly delisted; no timezone found\n"
     ]
    },
    {
     "name": "stdout",
     "output_type": "stream",
     "text": [
      "No data found for BCOR (10y)\n",
      "Skipped BCOR - insufficient data\n",
      "Processing NEE-F...\n"
     ]
    },
    {
     "name": "stderr",
     "output_type": "stream",
     "text": [
      "$NEE-F: possibly delisted; no timezone found\n"
     ]
    },
    {
     "name": "stdout",
     "output_type": "stream",
     "text": [
      "No data found for NEE-F (10y)\n",
      "Skipped NEE-F - insufficient data\n",
      "Processing ESEA...\n"
     ]
    },
    {
     "name": "stderr",
     "output_type": "stream",
     "text": [
      "$PUK.P: possibly delisted; no price data found  (1d 2014-01-27 00:00:00 -> 2025-01-27)\n",
      "$PMCS: possibly delisted; no price data found  (1d 2014-01-27 00:00:00 -> 2025-01-27)\n"
     ]
    },
    {
     "name": "stdout",
     "output_type": "stream",
     "text": [
      "Processing PUK.P...\n",
      "No data found for PUK.P (10y)\n",
      "Skipped PUK.P - insufficient data\n",
      "Processing PMCS...\n",
      "No data found for PMCS (10y)\n",
      "Skipped PMCS - insufficient data\n",
      "Processing XNY...\n"
     ]
    },
    {
     "name": "stderr",
     "output_type": "stream",
     "text": [
      "$XNY: possibly delisted; no price data found  (1d 2014-01-27 00:00:00 -> 2025-01-27)\n",
      "$SGNT: possibly delisted; no price data found  (1d 2014-01-27 00:00:00 -> 2025-01-27)\n"
     ]
    },
    {
     "name": "stdout",
     "output_type": "stream",
     "text": [
      "No data found for XNY (10y)\n",
      "Skipped XNY - insufficient data\n",
      "Processing SGNT...\n",
      "No data found for SGNT (10y)\n",
      "Skipped SGNT - insufficient data\n",
      "Processing SJR...\n"
     ]
    },
    {
     "name": "stderr",
     "output_type": "stream",
     "text": [
      "$SJR: possibly delisted; no timezone found\n"
     ]
    },
    {
     "name": "stdout",
     "output_type": "stream",
     "text": [
      "No data found for SJR (10y)\n",
      "Skipped SJR - insufficient data\n",
      "Processing SMP...\n",
      "Processing ACFC...\n",
      "Processing PDEX...\n"
     ]
    },
    {
     "name": "stderr",
     "output_type": "stream",
     "text": [
      "$UBIC: possibly delisted; no price data found  (1d 2014-01-27 00:00:00 -> 2025-01-27)\n"
     ]
    },
    {
     "name": "stdout",
     "output_type": "stream",
     "text": [
      "Processing UBIC...\n",
      "No data found for UBIC (10y)\n",
      "Skipped UBIC - insufficient data\n",
      "Processing HBMD...\n"
     ]
    },
    {
     "name": "stderr",
     "output_type": "stream",
     "text": [
      "$HBMD: possibly delisted; no timezone found\n"
     ]
    },
    {
     "name": "stdout",
     "output_type": "stream",
     "text": [
      "No data found for HBMD (10y)\n",
      "Skipped HBMD - insufficient data\n",
      "Processing RM...\n"
     ]
    },
    {
     "name": "stderr",
     "output_type": "stream",
     "text": [
      "$EXLP: possibly delisted; no price data found  (1d 2014-01-27 00:00:00 -> 2025-01-27)\n"
     ]
    },
    {
     "name": "stdout",
     "output_type": "stream",
     "text": [
      "Processing EXLP...\n",
      "No data found for EXLP (10y)\n",
      "Skipped EXLP - insufficient data\n",
      "Processing CPL...\n"
     ]
    },
    {
     "name": "stderr",
     "output_type": "stream",
     "text": [
      "$CPL: possibly delisted; no timezone found\n",
      "$IMMY: possibly delisted; no price data found  (1d 2014-01-27 00:00:00 -> 2025-01-27)\n"
     ]
    },
    {
     "name": "stdout",
     "output_type": "stream",
     "text": [
      "No data found for CPL (10y)\n",
      "Skipped CPL - insufficient data\n",
      "Processing IMMY...\n",
      "No data found for IMMY (10y)\n",
      "Skipped IMMY - insufficient data\n",
      "Processing NWBI...\n",
      "Processing CEM...\n"
     ]
    },
    {
     "name": "stderr",
     "output_type": "stream",
     "text": [
      "$CEM: possibly delisted; no timezone found\n",
      "$DGAS: possibly delisted; no price data found  (1d 2014-01-27 00:00:00 -> 2025-01-27)\n"
     ]
    },
    {
     "name": "stdout",
     "output_type": "stream",
     "text": [
      "No data found for CEM (10y)\n",
      "Skipped CEM - insufficient data\n",
      "Processing DGAS...\n",
      "No data found for DGAS (10y)\n",
      "Skipped DGAS - insufficient data\n",
      "Processing MPR...\n",
      "Insufficient data for MPR (1 rows)\n",
      "Skipped MPR - insufficient data\n",
      "Processing IMRS...\n"
     ]
    },
    {
     "name": "stderr",
     "output_type": "stream",
     "text": [
      "$IMRS: possibly delisted; no price data found  (1d 2014-01-27 00:00:00 -> 2025-01-27)\n"
     ]
    },
    {
     "name": "stdout",
     "output_type": "stream",
     "text": [
      "No data found for IMRS (10y)\n",
      "Skipped IMRS - insufficient data\n",
      "Processing IT...\n",
      "Processing VCBI...\n",
      "Insufficient data for VCBI (5 rows)\n",
      "Skipped VCBI - insufficient data\n",
      "Processing ESLT...\n",
      "Processing JPG...\n"
     ]
    },
    {
     "name": "stderr",
     "output_type": "stream",
     "text": [
      "$JPG: possibly delisted; no timezone found\n"
     ]
    },
    {
     "name": "stdout",
     "output_type": "stream",
     "text": [
      "No data found for JPG (10y)\n",
      "Skipped JPG - insufficient data\n",
      "Processing PSCT...\n",
      "Processing AMCF...\n",
      "Processing NVO...\n",
      "Processing NOK...\n",
      "Processing CWH-D...\n"
     ]
    },
    {
     "name": "stderr",
     "output_type": "stream",
     "text": [
      "$CWH-D: possibly delisted; no timezone found\n"
     ]
    },
    {
     "name": "stdout",
     "output_type": "stream",
     "text": [
      "No data found for CWH-D (10y)\n",
      "Skipped CWH-D - insufficient data\n",
      "Processing MTDR...\n",
      "Processing PEB-A...\n"
     ]
    },
    {
     "name": "stderr",
     "output_type": "stream",
     "text": [
      "$PEB-A: possibly delisted; no timezone found\n"
     ]
    },
    {
     "name": "stdout",
     "output_type": "stream",
     "text": [
      "No data found for PEB-A (10y)\n",
      "Skipped PEB-A - insufficient data\n",
      "Processing ATI...\n"
     ]
    },
    {
     "name": "stderr",
     "output_type": "stream",
     "text": [
      "$BWINA: possibly delisted; no price data found  (1d 2014-01-27 00:00:00 -> 2025-01-27)\n"
     ]
    },
    {
     "name": "stdout",
     "output_type": "stream",
     "text": [
      "Processing BWINA...\n",
      "No data found for BWINA (10y)\n",
      "Skipped BWINA - insufficient data\n",
      "Processing DRL...\n",
      "Processing PSCF...\n",
      "Processing LUV...\n",
      "Processing BYFC...\n",
      "Processing KYN-F...\n"
     ]
    },
    {
     "name": "stderr",
     "output_type": "stream",
     "text": [
      "$KYN-F: possibly delisted; no timezone found\n"
     ]
    },
    {
     "name": "stdout",
     "output_type": "stream",
     "text": [
      "No data found for KYN-F (10y)\n",
      "Skipped KYN-F - insufficient data\n",
      "Processing EZPW...\n"
     ]
    },
    {
     "name": "stderr",
     "output_type": "stream",
     "text": [
      "$COB: possibly delisted; no price data found  (1d 2014-01-27 00:00:00 -> 2025-01-27)\n"
     ]
    },
    {
     "name": "stdout",
     "output_type": "stream",
     "text": [
      "Processing COB...\n",
      "No data found for COB (10y)\n",
      "Skipped COB - insufficient data\n",
      "Processing SBS...\n",
      "Processing CYOU...\n"
     ]
    },
    {
     "name": "stderr",
     "output_type": "stream",
     "text": [
      "$CYOU: possibly delisted; no timezone found\n"
     ]
    },
    {
     "name": "stdout",
     "output_type": "stream",
     "text": [
      "No data found for CYOU (10y)\n",
      "Skipped CYOU - insufficient data\n",
      "Processing MNE...\n"
     ]
    },
    {
     "name": "stderr",
     "output_type": "stream",
     "text": [
      "$MNE: possibly delisted; no timezone found\n",
      "$JPW: possibly delisted; no price data found  (1d 2014-01-27 00:00:00 -> 2025-01-27)\n",
      "$EPL: possibly delisted; no price data found  (1d 2014-01-27 00:00:00 -> 2025-01-27)\n"
     ]
    },
    {
     "name": "stdout",
     "output_type": "stream",
     "text": [
      "No data found for MNE (10y)\n",
      "Skipped MNE - insufficient data\n",
      "Processing JPW...\n",
      "No data found for JPW (10y)\n",
      "Skipped JPW - insufficient data\n",
      "Processing EPL...\n",
      "No data found for EPL (10y)\n",
      "Skipped EPL - insufficient data\n",
      "Processing AQUUU...\n"
     ]
    },
    {
     "name": "stderr",
     "output_type": "stream",
     "text": [
      "$AQUUU: possibly delisted; no timezone found\n"
     ]
    },
    {
     "name": "stdout",
     "output_type": "stream",
     "text": [
      "No data found for AQUUU (10y)\n",
      "Skipped AQUUU - insufficient data\n",
      "Processing RFIL...\n",
      "Processing NXJ-A...\n"
     ]
    },
    {
     "name": "stderr",
     "output_type": "stream",
     "text": [
      "$NXJ-A: possibly delisted; no timezone found\n"
     ]
    },
    {
     "name": "stdout",
     "output_type": "stream",
     "text": [
      "No data found for NXJ-A (10y)\n",
      "Skipped NXJ-A - insufficient data\n",
      "Processing CDE...\n",
      "Processing BGE-B...\n"
     ]
    },
    {
     "name": "stderr",
     "output_type": "stream",
     "text": [
      "$BGE-B: possibly delisted; no timezone found\n",
      "$BONA: possibly delisted; no price data found  (1d 2014-01-27 00:00:00 -> 2025-01-27)\n",
      "$DANG: possibly delisted; no price data found  (1d 2014-01-27 00:00:00 -> 2025-01-27)\n"
     ]
    },
    {
     "name": "stdout",
     "output_type": "stream",
     "text": [
      "No data found for BGE-B (10y)\n",
      "Skipped BGE-B - insufficient data\n",
      "Processing BONA...\n",
      "No data found for BONA (10y)\n",
      "Skipped BONA - insufficient data\n",
      "Processing DANG...\n",
      "No data found for DANG (10y)\n",
      "Skipped DANG - insufficient data\n",
      "Processing USTR...\n"
     ]
    },
    {
     "name": "stderr",
     "output_type": "stream",
     "text": [
      "$USTR: possibly delisted; no price data found  (1d 2014-01-27 00:00:00 -> 2025-01-27)\n"
     ]
    },
    {
     "name": "stdout",
     "output_type": "stream",
     "text": [
      "No data found for USTR (10y)\n",
      "Skipped USTR - insufficient data\n",
      "Processing STLD...\n",
      "Processing CHA...\n"
     ]
    },
    {
     "name": "stderr",
     "output_type": "stream",
     "text": [
      "$CHA: possibly delisted; no timezone found\n",
      "$EDE: possibly delisted; no price data found  (1d 2014-01-27 00:00:00 -> 2025-01-27)\n"
     ]
    },
    {
     "name": "stdout",
     "output_type": "stream",
     "text": [
      "No data found for CHA (10y)\n",
      "Skipped CHA - insufficient data\n",
      "Processing EDE...\n",
      "No data found for EDE (10y)\n",
      "Skipped EDE - insufficient data\n",
      "Processing HGSH...\n"
     ]
    },
    {
     "name": "stderr",
     "output_type": "stream",
     "text": [
      "$HGSH: possibly delisted; no timezone found\n",
      "$GAT: possibly delisted; no price data found  (1d 2014-01-27 00:00:00 -> 2025-01-27)\n"
     ]
    },
    {
     "name": "stdout",
     "output_type": "stream",
     "text": [
      "No data found for HGSH (10y)\n",
      "Skipped HGSH - insufficient data\n",
      "Processing GAT...\n",
      "No data found for GAT (10y)\n",
      "Skipped GAT - insufficient data\n",
      "Processing NRP...\n"
     ]
    },
    {
     "name": "stderr",
     "output_type": "stream",
     "text": [
      "$OUTR: possibly delisted; no price data found  (1d 2014-01-27 00:00:00 -> 2025-01-27)\n"
     ]
    },
    {
     "name": "stdout",
     "output_type": "stream",
     "text": [
      "Processing OUTR...\n",
      "No data found for OUTR (10y)\n",
      "Skipped OUTR - insufficient data\n",
      "Processing QLYS...\n",
      "Processing SJW...\n",
      "Processing COL...\n",
      "Processing HFWA...\n",
      "Processing CRS...\n",
      "Processing IIJI...\n"
     ]
    },
    {
     "name": "stderr",
     "output_type": "stream",
     "text": [
      "$IIJI: possibly delisted; no timezone found\n"
     ]
    },
    {
     "name": "stdout",
     "output_type": "stream",
     "text": [
      "No data found for IIJI (10y)\n",
      "Skipped IIJI - insufficient data\n",
      "Processing TMK-B...\n"
     ]
    },
    {
     "name": "stderr",
     "output_type": "stream",
     "text": [
      "$TMK-B: possibly delisted; no timezone found\n"
     ]
    },
    {
     "name": "stdout",
     "output_type": "stream",
     "text": [
      "No data found for TMK-B (10y)\n",
      "Skipped TMK-B - insufficient data\n",
      "Processing GDOT...\n",
      "Processing TAX...\n",
      "Insufficient data for TAX (24 rows)\n",
      "Skipped TAX - insufficient data\n",
      "Processing I...\n"
     ]
    },
    {
     "name": "stderr",
     "output_type": "stream",
     "text": [
      "$I: possibly delisted; no timezone found\n"
     ]
    },
    {
     "name": "stdout",
     "output_type": "stream",
     "text": [
      "No data found for I (10y)\n",
      "Skipped I - insufficient data\n",
      "Processing AA...\n",
      "Processing NEO...\n"
     ]
    },
    {
     "name": "stderr",
     "output_type": "stream",
     "text": [
      "$ZLC: possibly delisted; no price data found  (1d 2014-01-27 00:00:00 -> 2025-01-27)\n"
     ]
    },
    {
     "name": "stdout",
     "output_type": "stream",
     "text": [
      "Processing ZLC...\n",
      "No data found for ZLC (10y)\n",
      "Skipped ZLC - insufficient data\n",
      "Processing SAN...\n",
      "Processing VTNC...\n",
      "Insufficient data for VTNC (44 rows)\n",
      "Skipped VTNC - insufficient data\n",
      "Processing MXE...\n",
      "Processing DNP...\n",
      "Processing CDNS...\n",
      "Processing PSA-T...\n"
     ]
    },
    {
     "name": "stderr",
     "output_type": "stream",
     "text": [
      "$PSA-T: possibly delisted; no timezone found\n"
     ]
    },
    {
     "name": "stdout",
     "output_type": "stream",
     "text": [
      "No data found for PSA-T (10y)\n",
      "Skipped PSA-T - insufficient data\n",
      "Processing DISCK...\n"
     ]
    },
    {
     "name": "stderr",
     "output_type": "stream",
     "text": [
      "$DISCK: possibly delisted; no timezone found\n"
     ]
    },
    {
     "name": "stdout",
     "output_type": "stream",
     "text": [
      "No data found for DISCK (10y)\n",
      "Skipped DISCK - insufficient data\n",
      "Processing CSGS...\n"
     ]
    },
    {
     "name": "stderr",
     "output_type": "stream",
     "text": [
      "$MY: possibly delisted; no price data found  (1d 2014-01-27 00:00:00 -> 2025-01-27)\n",
      "$QLIK: possibly delisted; no price data found  (1d 2014-01-27 00:00:00 -> 2025-01-27)\n"
     ]
    },
    {
     "name": "stdout",
     "output_type": "stream",
     "text": [
      "Processing MY...\n",
      "No data found for MY (10y)\n",
      "Skipped MY - insufficient data\n",
      "Processing QLIK...\n",
      "No data found for QLIK (10y)\n",
      "Skipped QLIK - insufficient data\n",
      "Processing AGC...\n"
     ]
    },
    {
     "name": "stderr",
     "output_type": "stream",
     "text": [
      "$AGC: possibly delisted; no timezone found\n"
     ]
    },
    {
     "name": "stdout",
     "output_type": "stream",
     "text": [
      "No data found for AGC (10y)\n",
      "Skipped AGC - insufficient data\n",
      "Processing HPQ...\n",
      "Processing USM...\n",
      "Processing CRAY...\n"
     ]
    },
    {
     "name": "stderr",
     "output_type": "stream",
     "text": [
      "$CRAY: possibly delisted; no timezone found\n"
     ]
    },
    {
     "name": "stdout",
     "output_type": "stream",
     "text": [
      "No data found for CRAY (10y)\n",
      "Skipped CRAY - insufficient data\n",
      "Processing ISRL...\n"
     ]
    },
    {
     "name": "stderr",
     "output_type": "stream",
     "text": [
      "$ESSX: possibly delisted; no price data found  (1d 2014-01-27 00:00:00 -> 2025-01-27)\n"
     ]
    },
    {
     "name": "stdout",
     "output_type": "stream",
     "text": [
      "Processing AXFN...\n",
      "Insufficient data for AXFN (1 rows)\n",
      "Skipped AXFN - insufficient data\n",
      "Processing ESSX...\n",
      "No data found for ESSX (10y)\n",
      "Skipped ESSX - insufficient data\n",
      "Processing POWI...\n",
      "Processing AEF...\n",
      "Processing TLP...\n"
     ]
    },
    {
     "name": "stderr",
     "output_type": "stream",
     "text": [
      "$TLP: possibly delisted; no timezone found\n",
      "$LIQD: possibly delisted; no price data found  (1d 2014-01-27 00:00:00 -> 2025-01-27)\n"
     ]
    },
    {
     "name": "stdout",
     "output_type": "stream",
     "text": [
      "No data found for TLP (10y)\n",
      "Skipped TLP - insufficient data\n",
      "Processing LIQD...\n",
      "No data found for LIQD (10y)\n",
      "Skipped LIQD - insufficient data\n",
      "Processing NP...\n"
     ]
    },
    {
     "name": "stderr",
     "output_type": "stream",
     "text": [
      "$NP: possibly delisted; no timezone found\n",
      "$TWC: possibly delisted; no price data found  (1d 2014-01-27 00:00:00 -> 2025-01-27)\n"
     ]
    },
    {
     "name": "stdout",
     "output_type": "stream",
     "text": [
      "No data found for NP (10y)\n",
      "Skipped NP - insufficient data\n",
      "Processing TWC...\n",
      "No data found for TWC (10y)\n",
      "Skipped TWC - insufficient data\n",
      "Processing AVNW...\n",
      "Processing SLVO...\n",
      "Processing LPNT...\n",
      "Processing TR...\n"
     ]
    },
    {
     "name": "stderr",
     "output_type": "stream",
     "text": [
      "$GCA: possibly delisted; no price data found  (1d 2014-01-27 00:00:00 -> 2025-01-27)\n"
     ]
    },
    {
     "name": "stdout",
     "output_type": "stream",
     "text": [
      "Processing GCA...\n",
      "No data found for GCA (10y)\n",
      "Skipped GCA - insufficient data\n",
      "Processing DM...\n",
      "Processing CEMI...\n"
     ]
    },
    {
     "name": "stderr",
     "output_type": "stream",
     "text": [
      "$CEMI: possibly delisted; no timezone found\n"
     ]
    },
    {
     "name": "stdout",
     "output_type": "stream",
     "text": [
      "No data found for CEMI (10y)\n",
      "Skipped CEMI - insufficient data\n",
      "Processing USAT...\n"
     ]
    },
    {
     "name": "stderr",
     "output_type": "stream",
     "text": [
      "$USAT: possibly delisted; no timezone found\n"
     ]
    },
    {
     "name": "stdout",
     "output_type": "stream",
     "text": [
      "No data found for USAT (10y)\n",
      "Skipped USAT - insufficient data\n",
      "Processing BRK.A...\n"
     ]
    },
    {
     "name": "stderr",
     "output_type": "stream",
     "text": [
      "$BRK.A: possibly delisted; no timezone found\n"
     ]
    },
    {
     "name": "stdout",
     "output_type": "stream",
     "text": [
      "No data found for BRK.A (10y)\n",
      "Skipped BRK.A - insufficient data\n",
      "Processing AREX...\n"
     ]
    },
    {
     "name": "stderr",
     "output_type": "stream",
     "text": [
      "$AREX: possibly delisted; no timezone found\n"
     ]
    },
    {
     "name": "stdout",
     "output_type": "stream",
     "text": [
      "No data found for AREX (10y)\n",
      "Skipped AREX - insufficient data\n",
      "Processing ENH-B...\n"
     ]
    },
    {
     "name": "stderr",
     "output_type": "stream",
     "text": [
      "$ENH-B: possibly delisted; no timezone found\n"
     ]
    },
    {
     "name": "stdout",
     "output_type": "stream",
     "text": [
      "No data found for ENH-B (10y)\n",
      "Skipped ENH-B - insufficient data\n",
      "Processing C-Q...\n"
     ]
    },
    {
     "name": "stderr",
     "output_type": "stream",
     "text": [
      "$C-Q: possibly delisted; no timezone found\n"
     ]
    },
    {
     "name": "stdout",
     "output_type": "stream",
     "text": [
      "No data found for C-Q (10y)\n",
      "Skipped C-Q - insufficient data\n",
      "Processing CZZ...\n"
     ]
    },
    {
     "name": "stderr",
     "output_type": "stream",
     "text": [
      "$CZZ: possibly delisted; no timezone found\n"
     ]
    },
    {
     "name": "stdout",
     "output_type": "stream",
     "text": [
      "No data found for CZZ (10y)\n",
      "Skipped CZZ - insufficient data\n",
      "Processing MMP...\n"
     ]
    },
    {
     "name": "stderr",
     "output_type": "stream",
     "text": [
      "$MMP: possibly delisted; no timezone found\n"
     ]
    },
    {
     "name": "stdout",
     "output_type": "stream",
     "text": [
      "No data found for MMP (10y)\n",
      "Skipped MMP - insufficient data\n",
      "Processing HSON...\n",
      "Processing DKL...\n",
      "Processing NTZ...\n",
      "Processing FNSR...\n"
     ]
    },
    {
     "name": "stderr",
     "output_type": "stream",
     "text": [
      "$FNSR: possibly delisted; no timezone found\n"
     ]
    },
    {
     "name": "stdout",
     "output_type": "stream",
     "text": [
      "No data found for FNSR (10y)\n",
      "Skipped FNSR - insufficient data\n",
      "Processing MER-P...\n"
     ]
    },
    {
     "name": "stderr",
     "output_type": "stream",
     "text": [
      "$MER-P: possibly delisted; no timezone found\n"
     ]
    },
    {
     "name": "stdout",
     "output_type": "stream",
     "text": [
      "No data found for MER-P (10y)\n",
      "Skipped MER-P - insufficient data\n",
      "Processing CNO...\n",
      "Processing IHD...\n",
      "Processing UFPT...\n",
      "Processing AIV...\n",
      "Processing COWN...\n"
     ]
    },
    {
     "name": "stderr",
     "output_type": "stream",
     "text": [
      "$COWN: possibly delisted; no timezone found\n"
     ]
    },
    {
     "name": "stdout",
     "output_type": "stream",
     "text": [
      "No data found for COWN (10y)\n",
      "Skipped COWN - insufficient data\n",
      "Processing AHGP...\n"
     ]
    },
    {
     "name": "stderr",
     "output_type": "stream",
     "text": [
      "$EDT: possibly delisted; no price data found  (1d 2014-01-27 00:00:00 -> 2025-01-27)\n"
     ]
    },
    {
     "name": "stdout",
     "output_type": "stream",
     "text": [
      "Processing EDT...\n",
      "No data found for EDT (10y)\n",
      "Skipped EDT - insufficient data\n",
      "Processing SPIL...\n",
      "Processing AMG...\n",
      "Processing GRT-H...\n"
     ]
    },
    {
     "name": "stderr",
     "output_type": "stream",
     "text": [
      "$GRT-H: possibly delisted; no timezone found\n"
     ]
    },
    {
     "name": "stdout",
     "output_type": "stream",
     "text": [
      "No data found for GRT-H (10y)\n",
      "Skipped GRT-H - insufficient data\n",
      "Processing HL...\n",
      "Processing CBSH...\n",
      "Processing JONE...\n"
     ]
    },
    {
     "name": "stderr",
     "output_type": "stream",
     "text": [
      "$JONE: possibly delisted; no timezone found\n"
     ]
    },
    {
     "name": "stdout",
     "output_type": "stream",
     "text": [
      "No data found for JONE (10y)\n",
      "Skipped JONE - insufficient data\n",
      "Processing FCT...\n",
      "Processing HTSI...\n",
      "Insufficient data for HTSI (2 rows)\n",
      "Skipped HTSI - insufficient data\n",
      "Processing BRE-D...\n"
     ]
    },
    {
     "name": "stderr",
     "output_type": "stream",
     "text": [
      "$BRE-D: possibly delisted; no timezone found\n"
     ]
    },
    {
     "name": "stdout",
     "output_type": "stream",
     "text": [
      "No data found for BRE-D (10y)\n",
      "Skipped BRE-D - insufficient data\n",
      "Processing TRK...\n"
     ]
    },
    {
     "name": "stderr",
     "output_type": "stream",
     "text": [
      "$TRK: possibly delisted; no timezone found\n"
     ]
    },
    {
     "name": "stdout",
     "output_type": "stream",
     "text": [
      "No data found for TRK (10y)\n",
      "Skipped TRK - insufficient data\n",
      "Processing XGTIW...\n"
     ]
    },
    {
     "name": "stderr",
     "output_type": "stream",
     "text": [
      "$XGTIW: possibly delisted; no timezone found\n"
     ]
    },
    {
     "name": "stdout",
     "output_type": "stream",
     "text": [
      "No data found for XGTIW (10y)\n",
      "Skipped XGTIW - insufficient data\n",
      "Processing RGLD...\n",
      "Processing CUZ...\n",
      "Processing MNP...\n"
     ]
    },
    {
     "name": "stderr",
     "output_type": "stream",
     "text": [
      "$MNP: possibly delisted; no timezone found\n"
     ]
    },
    {
     "name": "stdout",
     "output_type": "stream",
     "text": [
      "No data found for MNP (10y)\n",
      "Skipped MNP - insufficient data\n",
      "Processing BNY...\n",
      "Processing RAIL...\n"
     ]
    },
    {
     "name": "stderr",
     "output_type": "stream",
     "text": [
      "$LBIX: possibly delisted; no price data found  (1d 2014-01-27 00:00:00 -> 2025-01-27)\n",
      "$BHD: possibly delisted; no price data found  (1d 2014-01-27 00:00:00 -> 2025-01-27)\n"
     ]
    },
    {
     "name": "stdout",
     "output_type": "stream",
     "text": [
      "Processing LBIX...\n",
      "No data found for LBIX (10y)\n",
      "Skipped LBIX - insufficient data\n",
      "Processing BHD...\n",
      "No data found for BHD (10y)\n",
      "Skipped BHD - insufficient data\n",
      "Processing FCH-C...\n"
     ]
    },
    {
     "name": "stderr",
     "output_type": "stream",
     "text": [
      "$FCH-C: possibly delisted; no timezone found\n"
     ]
    },
    {
     "name": "stdout",
     "output_type": "stream",
     "text": [
      "No data found for FCH-C (10y)\n",
      "Skipped FCH-C - insufficient data\n",
      "Processing EIX...\n",
      "Processing MITL...\n",
      "Processing JRO...\n"
     ]
    },
    {
     "name": "stderr",
     "output_type": "stream",
     "text": [
      "$JRO: possibly delisted; no timezone found\n"
     ]
    },
    {
     "name": "stdout",
     "output_type": "stream",
     "text": [
      "No data found for JRO (10y)\n",
      "Skipped JRO - insufficient data\n",
      "Processing CRI...\n",
      "Processing MDT...\n",
      "Processing TROW...\n",
      "Processing ADBE...\n"
     ]
    },
    {
     "name": "stderr",
     "output_type": "stream",
     "text": [
      "$AHPI: possibly delisted; no price data found  (1d 2014-01-27 00:00:00 -> 2025-01-27)\n"
     ]
    },
    {
     "name": "stdout",
     "output_type": "stream",
     "text": [
      "Processing AHPI...\n",
      "No data found for AHPI (10y)\n",
      "Skipped AHPI - insufficient data\n",
      "Processing DTT...\n"
     ]
    },
    {
     "name": "stderr",
     "output_type": "stream",
     "text": [
      "$HFFC: possibly delisted; no price data found  (1d 2014-01-27 00:00:00 -> 2025-01-27)\n"
     ]
    },
    {
     "name": "stdout",
     "output_type": "stream",
     "text": [
      "Processing HFFC...\n",
      "No data found for HFFC (10y)\n",
      "Skipped HFFC - insufficient data\n",
      "Processing HMN...\n",
      "Processing NTC...\n"
     ]
    },
    {
     "name": "stderr",
     "output_type": "stream",
     "text": [
      "$NTC: possibly delisted; no timezone found\n"
     ]
    },
    {
     "name": "stdout",
     "output_type": "stream",
     "text": [
      "No data found for NTC (10y)\n",
      "Skipped NTC - insufficient data\n",
      "Processing ZIOP...\n"
     ]
    },
    {
     "name": "stderr",
     "output_type": "stream",
     "text": [
      "$ZIOP: possibly delisted; no timezone found\n"
     ]
    },
    {
     "name": "stdout",
     "output_type": "stream",
     "text": [
      "No data found for ZIOP (10y)\n",
      "Skipped ZIOP - insufficient data\n",
      "Processing EEQ...\n",
      "Processing LPL...\n",
      "Processing REFR...\n",
      "Processing CACC...\n"
     ]
    },
    {
     "name": "stderr",
     "output_type": "stream",
     "text": [
      "$LTXC: possibly delisted; no price data found  (1d 2014-01-27 00:00:00 -> 2025-01-27)\n",
      "$RAI: possibly delisted; no price data found  (1d 2014-01-27 00:00:00 -> 2025-01-27)\n"
     ]
    },
    {
     "name": "stdout",
     "output_type": "stream",
     "text": [
      "Processing LTXC...\n",
      "No data found for LTXC (10y)\n",
      "Skipped LTXC - insufficient data\n",
      "Processing RAI...\n",
      "No data found for RAI (10y)\n",
      "Skipped RAI - insufficient data\n",
      "Processing CRT...\n"
     ]
    },
    {
     "name": "stderr",
     "output_type": "stream",
     "text": [
      "$MEAS: possibly delisted; no price data found  (1d 2014-01-27 00:00:00 -> 2025-01-27)\n"
     ]
    },
    {
     "name": "stdout",
     "output_type": "stream",
     "text": [
      "Processing MEAS...\n",
      "No data found for MEAS (10y)\n",
      "Skipped MEAS - insufficient data\n",
      "Processing HBNC...\n",
      "Processing TOT...\n"
     ]
    },
    {
     "name": "stderr",
     "output_type": "stream",
     "text": [
      "$TOT: possibly delisted; no timezone found\n"
     ]
    },
    {
     "name": "stdout",
     "output_type": "stream",
     "text": [
      "No data found for TOT (10y)\n",
      "Skipped TOT - insufficient data\n",
      "Processing SMA...\n",
      "Processing PFBI...\n"
     ]
    },
    {
     "name": "stderr",
     "output_type": "stream",
     "text": [
      "$PFBI: possibly delisted; no timezone found\n"
     ]
    },
    {
     "name": "stdout",
     "output_type": "stream",
     "text": [
      "No data found for PFBI (10y)\n",
      "Skipped PFBI - insufficient data\n",
      "Processing TROVW...\n"
     ]
    },
    {
     "name": "stderr",
     "output_type": "stream",
     "text": [
      "$TROVW: possibly delisted; no timezone found\n"
     ]
    },
    {
     "name": "stdout",
     "output_type": "stream",
     "text": [
      "No data found for TROVW (10y)\n",
      "Skipped TROVW - insufficient data\n",
      "Processing RKUS...\n"
     ]
    },
    {
     "name": "stderr",
     "output_type": "stream",
     "text": [
      "$RKUS: possibly delisted; no price data found  (1d 2014-01-27 00:00:00 -> 2025-01-27)\n"
     ]
    },
    {
     "name": "stdout",
     "output_type": "stream",
     "text": [
      "No data found for RKUS (10y)\n",
      "Skipped RKUS - insufficient data\n",
      "Processing CHH...\n",
      "Processing HPOL...\n",
      "Insufficient data for HPOL (6 rows)\n",
      "Skipped HPOL - insufficient data\n",
      "Processing EEA...\n",
      "Processing ABMD...\n"
     ]
    },
    {
     "name": "stderr",
     "output_type": "stream",
     "text": [
      "$ABMD: possibly delisted; no timezone found\n"
     ]
    },
    {
     "name": "stdout",
     "output_type": "stream",
     "text": [
      "No data found for ABMD (10y)\n",
      "Skipped ABMD - insufficient data\n",
      "Processing NWPX...\n",
      "Processing LOPE...\n",
      "Processing C.A...\n"
     ]
    },
    {
     "name": "stderr",
     "output_type": "stream",
     "text": [
      "$C.A: possibly delisted; no timezone found\n",
      "$SLTM: possibly delisted; no price data found  (1d 2014-01-27 00:00:00 -> 2025-01-27)\n"
     ]
    },
    {
     "name": "stdout",
     "output_type": "stream",
     "text": [
      "No data found for C.A (10y)\n",
      "Skipped C.A - insufficient data\n",
      "Processing SLTM...\n",
      "No data found for SLTM (10y)\n",
      "Skipped SLTM - insufficient data\n",
      "Processing UPL...\n"
     ]
    },
    {
     "name": "stderr",
     "output_type": "stream",
     "text": [
      "$UPL: possibly delisted; no timezone found\n"
     ]
    },
    {
     "name": "stdout",
     "output_type": "stream",
     "text": [
      "No data found for UPL (10y)\n",
      "Skipped UPL - insufficient data\n",
      "Processing MITT...\n",
      "Processing TRMR...\n"
     ]
    },
    {
     "name": "stderr",
     "output_type": "stream",
     "text": [
      "$TRMR: possibly delisted; no timezone found\n"
     ]
    },
    {
     "name": "stdout",
     "output_type": "stream",
     "text": [
      "No data found for TRMR (10y)\n",
      "Skipped TRMR - insufficient data\n",
      "Processing VIVO...\n"
     ]
    },
    {
     "name": "stderr",
     "output_type": "stream",
     "text": [
      "$VIVO: possibly delisted; no timezone found\n"
     ]
    },
    {
     "name": "stdout",
     "output_type": "stream",
     "text": [
      "No data found for VIVO (10y)\n",
      "Skipped VIVO - insufficient data\n",
      "Processing GOODN...\n",
      "Processing INT...\n"
     ]
    },
    {
     "name": "stderr",
     "output_type": "stream",
     "text": [
      "$INT: possibly delisted; no timezone found\n"
     ]
    },
    {
     "name": "stdout",
     "output_type": "stream",
     "text": [
      "No data found for INT (10y)\n",
      "Skipped INT - insufficient data\n",
      "Processing NWBOW...\n"
     ]
    },
    {
     "name": "stderr",
     "output_type": "stream",
     "text": [
      "$NWBOW: possibly delisted; no timezone found\n"
     ]
    },
    {
     "name": "stdout",
     "output_type": "stream",
     "text": [
      "No data found for NWBOW (10y)\n",
      "Skipped NWBOW - insufficient data\n",
      "Processing EBMT...\n",
      "Processing HRL...\n"
     ]
    },
    {
     "name": "stderr",
     "output_type": "stream",
     "text": [
      "$GIMO: possibly delisted; no price data found  (1d 2014-01-27 00:00:00 -> 2025-01-27)\n"
     ]
    },
    {
     "name": "stdout",
     "output_type": "stream",
     "text": [
      "Processing GIMO...\n",
      "No data found for GIMO (10y)\n",
      "Skipped GIMO - insufficient data\n",
      "Processing MASC...\n",
      "Insufficient data for MASC (38 rows)\n",
      "Skipped MASC - insufficient data\n",
      "Processing BPL...\n"
     ]
    },
    {
     "name": "stderr",
     "output_type": "stream",
     "text": [
      "$BPL: possibly delisted; no timezone found\n"
     ]
    },
    {
     "name": "stdout",
     "output_type": "stream",
     "text": [
      "No data found for BPL (10y)\n",
      "Skipped BPL - insufficient data\n",
      "Processing CNH...\n"
     ]
    },
    {
     "name": "stderr",
     "output_type": "stream",
     "text": [
      "$SZYM: possibly delisted; no price data found  (1d 2014-01-27 00:00:00 -> 2025-01-27)\n"
     ]
    },
    {
     "name": "stdout",
     "output_type": "stream",
     "text": [
      "Processing SZYM...\n",
      "No data found for SZYM (10y)\n",
      "Skipped SZYM - insufficient data\n",
      "Processing OPXA...\n"
     ]
    },
    {
     "name": "stderr",
     "output_type": "stream",
     "text": [
      "$OPXA: possibly delisted; no price data found  (1d 2014-01-27 00:00:00 -> 2025-01-27)\n"
     ]
    },
    {
     "name": "stdout",
     "output_type": "stream",
     "text": [
      "No data found for OPXA (10y)\n",
      "Skipped OPXA - insufficient data\n",
      "Processing KNDI...\n",
      "Processing TNGO...\n"
     ]
    },
    {
     "name": "stderr",
     "output_type": "stream",
     "text": [
      "$TNGO: possibly delisted; no price data found  (1d 2014-01-27 00:00:00 -> 2025-01-27)\n"
     ]
    },
    {
     "name": "stdout",
     "output_type": "stream",
     "text": [
      "No data found for TNGO (10y)\n",
      "Skipped TNGO - insufficient data\n",
      "Processing STBA...\n",
      "Processing AGM-A...\n",
      "Processing HPT-D...\n"
     ]
    },
    {
     "name": "stderr",
     "output_type": "stream",
     "text": [
      "$HPT-D: possibly delisted; no timezone found\n"
     ]
    },
    {
     "name": "stdout",
     "output_type": "stream",
     "text": [
      "No data found for HPT-D (10y)\n",
      "Skipped HPT-D - insufficient data\n",
      "Processing GFF...\n",
      "Processing EML...\n",
      "Processing SMSI...\n",
      "Processing RBS-P...\n"
     ]
    },
    {
     "name": "stderr",
     "output_type": "stream",
     "text": [
      "$RBS-P: possibly delisted; no timezone found\n"
     ]
    },
    {
     "name": "stdout",
     "output_type": "stream",
     "text": [
      "No data found for RBS-P (10y)\n",
      "Skipped RBS-P - insufficient data\n",
      "Processing MCR...\n",
      "Processing CTAS...\n",
      "Processing CTZ-A...\n"
     ]
    },
    {
     "name": "stderr",
     "output_type": "stream",
     "text": [
      "$CTZ-A: possibly delisted; no timezone found\n"
     ]
    },
    {
     "name": "stdout",
     "output_type": "stream",
     "text": [
      "No data found for CTZ-A (10y)\n",
      "Skipped CTZ-A - insufficient data\n",
      "Processing TSL...\n",
      "Processing SBH...\n",
      "Processing STRS...\n",
      "Processing CZR...\n",
      "Processing WAL...\n"
     ]
    },
    {
     "name": "stderr",
     "output_type": "stream",
     "text": [
      "$RYL: possibly delisted; no price data found  (1d 2014-01-27 00:00:00 -> 2025-01-27)\n"
     ]
    },
    {
     "name": "stdout",
     "output_type": "stream",
     "text": [
      "Processing RYL...\n",
      "No data found for RYL (10y)\n",
      "Skipped RYL - insufficient data\n",
      "Processing BASI...\n"
     ]
    },
    {
     "name": "stderr",
     "output_type": "stream",
     "text": [
      "$BASI: possibly delisted; no timezone found\n"
     ]
    },
    {
     "name": "stdout",
     "output_type": "stream",
     "text": [
      "No data found for BASI (10y)\n",
      "Skipped BASI - insufficient data\n",
      "Processing PKD...\n"
     ]
    },
    {
     "name": "stderr",
     "output_type": "stream",
     "text": [
      "$PKD: possibly delisted; no timezone found\n"
     ]
    },
    {
     "name": "stdout",
     "output_type": "stream",
     "text": [
      "No data found for PKD (10y)\n",
      "Skipped PKD - insufficient data\n",
      "Processing THRD...\n"
     ]
    },
    {
     "name": "stderr",
     "output_type": "stream",
     "text": [
      "$VLCCF: possibly delisted; no price data found  (1d 2014-01-27 00:00:00 -> 2025-01-27)\n"
     ]
    },
    {
     "name": "stdout",
     "output_type": "stream",
     "text": [
      "Processing VLCCF...\n",
      "No data found for VLCCF (10y)\n",
      "Skipped VLCCF - insufficient data\n",
      "Processing ORN...\n",
      "Processing OXLC...\n",
      "Processing IP...\n",
      "Processing VTIP...\n",
      "Processing MCK...\n",
      "Processing FRM...\n",
      "Data unavailable for FRM (10y): Too Many Requests. Rate limited. Try after a while.\n",
      "Skipped FRM - insufficient data\n",
      "Processing PIM...\n",
      "Data unavailable for PIM (10y): Too Many Requests. Rate limited. Try after a while.\n",
      "Skipped PIM - insufficient data\n",
      "Processing OILT...\n",
      "Data unavailable for OILT (10y): Too Many Requests. Rate limited. Try after a while.\n",
      "Skipped OILT - insufficient data\n",
      "Processing ISSI...\n",
      "Data unavailable for ISSI (10y): Too Many Requests. Rate limited. Try after a while.\n",
      "Skipped ISSI - insufficient data\n",
      "Processing PSTI...\n",
      "Data unavailable for PSTI (10y): Too Many Requests. Rate limited. Try after a while.\n",
      "Skipped PSTI - insufficient data\n",
      "Processing JXSB...\n",
      "Data unavailable for JXSB (10y): Too Many Requests. Rate limited. Try after a while.\n",
      "Skipped JXSB - insufficient data\n",
      "Processing PDS...\n",
      "Data unavailable for PDS (10y): Too Many Requests. Rate limited. Try after a while.\n",
      "Skipped PDS - insufficient data\n",
      "Processing EVAL...\n",
      "Data unavailable for EVAL (10y): Too Many Requests. Rate limited. Try after a while.\n",
      "Skipped EVAL - insufficient data\n",
      "Processing CRNT...\n",
      "Data unavailable for CRNT (10y): Too Many Requests. Rate limited. Try after a while.\n",
      "Skipped CRNT - insufficient data\n",
      "Processing EVG...\n",
      "Data unavailable for EVG (10y): Too Many Requests. Rate limited. Try after a while.\n",
      "Skipped EVG - insufficient data\n",
      "Processing HSIC...\n",
      "Data unavailable for HSIC (10y): Too Many Requests. Rate limited. Try after a while.\n",
      "Skipped HSIC - insufficient data\n",
      "Processing PTP...\n",
      "Data unavailable for PTP (10y): Too Many Requests. Rate limited. Try after a while.\n",
      "Skipped PTP - insufficient data\n",
      "Processing ALX...\n",
      "Data unavailable for ALX (10y): Too Many Requests. Rate limited. Try after a while.\n",
      "Skipped ALX - insufficient data\n",
      "Processing IMCB...\n",
      "Data unavailable for IMCB (10y): Too Many Requests. Rate limited. Try after a while.\n",
      "Skipped IMCB - insufficient data\n",
      "Processing PRA...\n",
      "Data unavailable for PRA (10y): Too Many Requests. Rate limited. Try after a while.\n",
      "Skipped PRA - insufficient data\n",
      "Processing UPIP...\n",
      "Data unavailable for UPIP (10y): Too Many Requests. Rate limited. Try after a while.\n",
      "Skipped UPIP - insufficient data\n",
      "Processing MPA...\n",
      "Data unavailable for MPA (10y): Too Many Requests. Rate limited. Try after a while.\n",
      "Skipped MPA - insufficient data\n",
      "Processing QLGC...\n",
      "Data unavailable for QLGC (10y): Too Many Requests. Rate limited. Try after a while.\n",
      "Skipped QLGC - insufficient data\n",
      "Processing BRID...\n",
      "Data unavailable for BRID (10y): Too Many Requests. Rate limited. Try after a while.\n",
      "Skipped BRID - insufficient data\n",
      "Processing CVO...\n",
      "Data unavailable for CVO (10y): Too Many Requests. Rate limited. Try after a while.\n",
      "Skipped CVO - insufficient data\n",
      "Processing HRS...\n",
      "Data unavailable for HRS (10y): Too Many Requests. Rate limited. Try after a while.\n",
      "Skipped HRS - insufficient data\n",
      "Processing JZJ...\n",
      "Data unavailable for JZJ (10y): Too Many Requests. Rate limited. Try after a while.\n",
      "Skipped JZJ - insufficient data\n",
      "Processing LPDX...\n",
      "Data unavailable for LPDX (10y): Too Many Requests. Rate limited. Try after a while.\n",
      "Skipped LPDX - insufficient data\n",
      "Processing AMCN...\n",
      "Data unavailable for AMCN (10y): Too Many Requests. Rate limited. Try after a while.\n",
      "Skipped AMCN - insufficient data\n",
      "Processing ACMP...\n",
      "Data unavailable for ACMP (10y): Too Many Requests. Rate limited. Try after a while.\n",
      "Skipped ACMP - insufficient data\n",
      "Processing LL...\n",
      "Data unavailable for LL (10y): Too Many Requests. Rate limited. Try after a while.\n",
      "Skipped LL - insufficient data\n",
      "Processing RTI...\n",
      "Data unavailable for RTI (10y): Too Many Requests. Rate limited. Try after a while.\n",
      "Skipped RTI - insufficient data\n",
      "Processing EFR...\n",
      "Data unavailable for EFR (10y): Too Many Requests. Rate limited. Try after a while.\n",
      "Skipped EFR - insufficient data\n",
      "Processing TRV...\n",
      "Data unavailable for TRV (10y): Too Many Requests. Rate limited. Try after a while.\n",
      "Skipped TRV - insufficient data\n",
      "Processing CMCO...\n",
      "Data unavailable for CMCO (10y): Too Many Requests. Rate limited. Try after a while.\n",
      "Skipped CMCO - insufficient data\n",
      "Processing PVD...\n",
      "Data unavailable for PVD (10y): Too Many Requests. Rate limited. Try after a while.\n",
      "Skipped PVD - insufficient data\n",
      "Processing SUTR...\n",
      "Data unavailable for SUTR (10y): Too Many Requests. Rate limited. Try after a while.\n",
      "Skipped SUTR - insufficient data\n",
      "Processing GGM...\n",
      "Data unavailable for GGM (10y): Too Many Requests. Rate limited. Try after a while.\n",
      "Skipped GGM - insufficient data\n",
      "Processing CSCO...\n",
      "Data unavailable for CSCO (10y): Too Many Requests. Rate limited. Try after a while.\n",
      "Skipped CSCO - insufficient data\n",
      "Processing MHY...\n",
      "Data unavailable for MHY (10y): Too Many Requests. Rate limited. Try after a while.\n",
      "Skipped MHY - insufficient data\n",
      "Processing VASC...\n",
      "Data unavailable for VASC (10y): Too Many Requests. Rate limited. Try after a while.\n",
      "Skipped VASC - insufficient data\n",
      "Processing HSOL...\n",
      "Data unavailable for HSOL (10y): Too Many Requests. Rate limited. Try after a while.\n",
      "Skipped HSOL - insufficient data\n",
      "Processing PLD...\n",
      "Data unavailable for PLD (10y): Too Many Requests. Rate limited. Try after a while.\n",
      "Skipped PLD - insufficient data\n",
      "Processing BODY...\n",
      "Data unavailable for BODY (10y): Too Many Requests. Rate limited. Try after a while.\n",
      "Skipped BODY - insufficient data\n",
      "Processing ZB-C...\n",
      "Data unavailable for ZB-C (10y): Too Many Requests. Rate limited. Try after a while.\n",
      "Skipped ZB-C - insufficient data\n",
      "Processing CYCCP...\n",
      "Data unavailable for CYCCP (10y): Too Many Requests. Rate limited. Try after a while.\n",
      "Skipped CYCCP - insufficient data\n",
      "Processing AMP-A...\n",
      "Data unavailable for AMP-A (10y): Too Many Requests. Rate limited. Try after a while.\n",
      "Skipped AMP-A - insufficient data\n",
      "Processing SPPI...\n",
      "Data unavailable for SPPI (10y): Too Many Requests. Rate limited. Try after a while.\n",
      "Skipped SPPI - insufficient data\n",
      "Processing CLB...\n",
      "Data unavailable for CLB (10y): Too Many Requests. Rate limited. Try after a while.\n",
      "Skipped CLB - insufficient data\n",
      "Processing SWIR...\n",
      "Data unavailable for SWIR (10y): Too Many Requests. Rate limited. Try after a while.\n",
      "Skipped SWIR - insufficient data\n",
      "Processing HUN...\n",
      "Data unavailable for HUN (10y): Too Many Requests. Rate limited. Try after a while.\n",
      "Skipped HUN - insufficient data\n",
      "Processing PMTC...\n",
      "Data unavailable for PMTC (10y): Too Many Requests. Rate limited. Try after a while.\n",
      "Skipped PMTC - insufficient data\n",
      "Processing REG...\n",
      "Data unavailable for REG (10y): Too Many Requests. Rate limited. Try after a while.\n",
      "Skipped REG - insufficient data\n",
      "Processing BBGI...\n",
      "Data unavailable for BBGI (10y): Too Many Requests. Rate limited. Try after a while.\n",
      "Skipped BBGI - insufficient data\n",
      "Processing SBRA...\n",
      "Data unavailable for SBRA (10y): Too Many Requests. Rate limited. Try after a while.\n",
      "Skipped SBRA - insufficient data\n",
      "Processing SGU...\n",
      "Data unavailable for SGU (10y): Too Many Requests. Rate limited. Try after a while.\n",
      "Skipped SGU - insufficient data\n",
      "Processing TA...\n",
      "Data unavailable for TA (10y): Too Many Requests. Rate limited. Try after a while.\n",
      "Skipped TA - insufficient data\n",
      "Processing MGIC...\n",
      "Data unavailable for MGIC (10y): Too Many Requests. Rate limited. Try after a while.\n",
      "Skipped MGIC - insufficient data\n",
      "Processing ISRG...\n",
      "Data unavailable for ISRG (10y): Too Many Requests. Rate limited. Try after a while.\n",
      "Skipped ISRG - insufficient data\n",
      "Processing KYN-E...\n",
      "Data unavailable for KYN-E (10y): Too Many Requests. Rate limited. Try after a while.\n",
      "Skipped KYN-E - insufficient data\n",
      "Processing ADSK...\n",
      "Data unavailable for ADSK (10y): Too Many Requests. Rate limited. Try after a while.\n",
      "Skipped ADSK - insufficient data\n",
      "Processing TAOM...\n",
      "Data unavailable for TAOM (10y): Too Many Requests. Rate limited. Try after a while.\n",
      "Skipped TAOM - insufficient data\n",
      "Processing DVN...\n",
      "Data unavailable for DVN (10y): Too Many Requests. Rate limited. Try after a while.\n",
      "Skipped DVN - insufficient data\n",
      "Processing RBS-I...\n",
      "Data unavailable for RBS-I (10y): Too Many Requests. Rate limited. Try after a while.\n",
      "Skipped RBS-I - insufficient data\n",
      "Processing ULTA...\n",
      "Data unavailable for ULTA (10y): Too Many Requests. Rate limited. Try after a while.\n",
      "Skipped ULTA - insufficient data\n",
      "Processing PUK...\n",
      "Data unavailable for PUK (10y): Too Many Requests. Rate limited. Try after a while.\n",
      "Skipped PUK - insufficient data\n",
      "Processing DSCI...\n",
      "Data unavailable for DSCI (10y): Too Many Requests. Rate limited. Try after a while.\n",
      "Skipped DSCI - insufficient data\n",
      "Processing LFVN...\n",
      "Data unavailable for LFVN (10y): Too Many Requests. Rate limited. Try after a while.\n",
      "Skipped LFVN - insufficient data\n",
      "Processing AMGN...\n",
      "Data unavailable for AMGN (10y): Too Many Requests. Rate limited. Try after a while.\n",
      "Skipped AMGN - insufficient data\n",
      "Processing JMP...\n",
      "Data unavailable for JMP (10y): Too Many Requests. Rate limited. Try after a while.\n",
      "Skipped JMP - insufficient data\n",
      "Processing IDTI...\n",
      "Data unavailable for IDTI (10y): Too Many Requests. Rate limited. Try after a while.\n",
      "Skipped IDTI - insufficient data\n",
      "Processing ENB...\n",
      "Data unavailable for ENB (10y): Too Many Requests. Rate limited. Try after a while.\n",
      "Skipped ENB - insufficient data\n",
      "Processing HYF...\n",
      "Data unavailable for HYF (10y): Too Many Requests. Rate limited. Try after a while.\n",
      "Skipped HYF - insufficient data\n",
      "Processing NMT-D...\n",
      "Data unavailable for NMT-D (10y): Too Many Requests. Rate limited. Try after a while.\n",
      "Skipped NMT-D - insufficient data\n",
      "Processing AED...\n",
      "Data unavailable for AED (10y): Too Many Requests. Rate limited. Try after a while.\n",
      "Skipped AED - insufficient data\n",
      "Processing COLB...\n",
      "Data unavailable for COLB (10y): Too Many Requests. Rate limited. Try after a while.\n",
      "Skipped COLB - insufficient data\n",
      "Processing BLKB...\n",
      "Data unavailable for BLKB (10y): Too Many Requests. Rate limited. Try after a while.\n",
      "Skipped BLKB - insufficient data\n",
      "Processing SHFL...\n",
      "Data unavailable for SHFL (10y): Too Many Requests. Rate limited. Try after a while.\n",
      "Skipped SHFL - insufficient data\n",
      "Processing CTU...\n",
      "Data unavailable for CTU (10y): Too Many Requests. Rate limited. Try after a while.\n",
      "Skipped CTU - insufficient data\n",
      "Processing TRN...\n",
      "Data unavailable for TRN (10y): Too Many Requests. Rate limited. Try after a while.\n",
      "Skipped TRN - insufficient data\n",
      "Processing CISAU...\n",
      "Data unavailable for CISAU (10y): Too Many Requests. Rate limited. Try after a while.\n",
      "Skipped CISAU - insufficient data\n",
      "Processing VDSI...\n",
      "Data unavailable for VDSI (10y): Too Many Requests. Rate limited. Try after a while.\n",
      "Skipped VDSI - insufficient data\n",
      "Processing SLT...\n",
      "Data unavailable for SLT (10y): Too Many Requests. Rate limited. Try after a while.\n",
      "Skipped SLT - insufficient data\n",
      "Processing LYG...\n",
      "Data unavailable for LYG (10y): Too Many Requests. Rate limited. Try after a while.\n",
      "Skipped LYG - insufficient data\n",
      "Processing DSM...\n",
      "Data unavailable for DSM (10y): Too Many Requests. Rate limited. Try after a while.\n",
      "Skipped DSM - insufficient data\n",
      "Processing ADS...\n",
      "Data unavailable for ADS (10y): Too Many Requests. Rate limited. Try after a while.\n",
      "Skipped ADS - insufficient data\n",
      "Processing DOV...\n",
      "Data unavailable for DOV (10y): Too Many Requests. Rate limited. Try after a while.\n",
      "Skipped DOV - insufficient data\n",
      "Processing ASTC...\n",
      "Data unavailable for ASTC (10y): Too Many Requests. Rate limited. Try after a while.\n",
      "Skipped ASTC - insufficient data\n",
      "Processing PNX...\n",
      "Data unavailable for PNX (10y): Too Many Requests. Rate limited. Try after a while.\n",
      "Skipped PNX - insufficient data\n",
      "Processing STND...\n",
      "Data unavailable for STND (10y): Too Many Requests. Rate limited. Try after a while.\n",
      "Skipped STND - insufficient data\n",
      "Processing CTX...\n",
      "Data unavailable for CTX (10y): Too Many Requests. Rate limited. Try after a while.\n",
      "Skipped CTX - insufficient data\n",
      "Processing DK...\n",
      "Data unavailable for DK (10y): Too Many Requests. Rate limited. Try after a while.\n",
      "Skipped DK - insufficient data\n",
      "Processing INGR...\n",
      "Data unavailable for INGR (10y): Too Many Requests. Rate limited. Try after a while.\n",
      "Skipped INGR - insufficient data\n",
      "Processing BF.B...\n",
      "Data unavailable for BF.B (10y): Too Many Requests. Rate limited. Try after a while.\n",
      "Skipped BF.B - insufficient data\n",
      "Processing CLDX...\n",
      "Data unavailable for CLDX (10y): Too Many Requests. Rate limited. Try after a while.\n",
      "Skipped CLDX - insufficient data\n",
      "Processing SA...\n",
      "Data unavailable for SA (10y): Too Many Requests. Rate limited. Try after a while.\n",
      "Skipped SA - insufficient data\n",
      "Processing VNDA...\n",
      "Data unavailable for VNDA (10y): Too Many Requests. Rate limited. Try after a while.\n",
      "Skipped VNDA - insufficient data\n",
      "Processing CPWR...\n",
      "Data unavailable for CPWR (10y): Too Many Requests. Rate limited. Try after a while.\n",
      "Skipped CPWR - insufficient data\n",
      "Processing GNMA...\n",
      "Data unavailable for GNMA (10y): Too Many Requests. Rate limited. Try after a while.\n",
      "Skipped GNMA - insufficient data\n",
      "Processing UVSP...\n",
      "Data unavailable for UVSP (10y): Too Many Requests. Rate limited. Try after a while.\n",
      "Skipped UVSP - insufficient data\n",
      "Processing MSM...\n",
      "Data unavailable for MSM (10y): Too Many Requests. Rate limited. Try after a while.\n",
      "Skipped MSM - insufficient data\n",
      "Processing USNA...\n",
      "Data unavailable for USNA (10y): Too Many Requests. Rate limited. Try after a while.\n",
      "Skipped USNA - insufficient data\n",
      "Processing PACR...\n",
      "Data unavailable for PACR (10y): Too Many Requests. Rate limited. Try after a while.\n",
      "Skipped PACR - insufficient data\n",
      "Processing BQH...\n",
      "Data unavailable for BQH (10y): Too Many Requests. Rate limited. Try after a while.\n",
      "Skipped BQH - insufficient data\n",
      "Processing PTLA...\n",
      "Data unavailable for PTLA (10y): Too Many Requests. Rate limited. Try after a while.\n",
      "Skipped PTLA - insufficient data\n",
      "Processing EVC...\n",
      "Data unavailable for EVC (10y): Too Many Requests. Rate limited. Try after a while.\n",
      "Skipped EVC - insufficient data\n",
      "Processing SVNT...\n",
      "Data unavailable for SVNT (10y): Too Many Requests. Rate limited. Try after a while.\n",
      "Skipped SVNT - insufficient data\n",
      "Processing AUBN...\n",
      "Data unavailable for AUBN (10y): Too Many Requests. Rate limited. Try after a while.\n",
      "Skipped AUBN - insufficient data\n",
      "Processing ISIS...\n",
      "Data unavailable for ISIS (10y): Too Many Requests. Rate limited. Try after a while.\n",
      "Skipped ISIS - insufficient data\n",
      "Processing OCFC...\n",
      "Data unavailable for OCFC (10y): Too Many Requests. Rate limited. Try after a while.\n",
      "Skipped OCFC - insufficient data\n",
      "Processing BRFS...\n",
      "Data unavailable for BRFS (10y): Too Many Requests. Rate limited. Try after a while.\n",
      "Skipped BRFS - insufficient data\n",
      "Processing EUFN...\n",
      "Data unavailable for EUFN (10y): Too Many Requests. Rate limited. Try after a while.\n",
      "Skipped EUFN - insufficient data\n",
      "Processing BUD...\n",
      "Data unavailable for BUD (10y): Too Many Requests. Rate limited. Try after a while.\n",
      "Skipped BUD - insufficient data\n",
      "Processing MIXT...\n",
      "Data unavailable for MIXT (10y): Too Many Requests. Rate limited. Try after a while.\n",
      "Skipped MIXT - insufficient data\n",
      "Processing NFG...\n",
      "Data unavailable for NFG (10y): Too Many Requests. Rate limited. Try after a while.\n",
      "Skipped NFG - insufficient data\n",
      "Processing GTI...\n",
      "Data unavailable for GTI (10y): Too Many Requests. Rate limited. Try after a while.\n",
      "Skipped GTI - insufficient data\n",
      "Processing PFPT...\n",
      "Data unavailable for PFPT (10y): Too Many Requests. Rate limited. Try after a while.\n",
      "Skipped PFPT - insufficient data\n",
      "Processing SFM...\n",
      "Data unavailable for SFM (10y): Too Many Requests. Rate limited. Try after a while.\n",
      "Skipped SFM - insufficient data\n",
      "Processing SCHL...\n",
      "Data unavailable for SCHL (10y): Too Many Requests. Rate limited. Try after a while.\n",
      "Skipped SCHL - insufficient data\n",
      "Processing OFG-B...\n",
      "Data unavailable for OFG-B (10y): Too Many Requests. Rate limited. Try after a while.\n",
      "Skipped OFG-B - insufficient data\n",
      "Processing IPCI...\n",
      "Data unavailable for IPCI (10y): Too Many Requests. Rate limited. Try after a while.\n",
      "Skipped IPCI - insufficient data\n",
      "Processing GCAP...\n",
      "Data unavailable for GCAP (10y): Too Many Requests. Rate limited. Try after a while.\n",
      "Skipped GCAP - insufficient data\n",
      "Processing CHYR...\n",
      "Data unavailable for CHYR (10y): Too Many Requests. Rate limited. Try after a while.\n",
      "Skipped CHYR - insufficient data\n",
      "Processing LSE-B...\n",
      "Data unavailable for LSE-B (10y): Too Many Requests. Rate limited. Try after a while.\n",
      "Skipped LSE-B - insufficient data\n",
      "Processing ETG...\n",
      "Data unavailable for ETG (10y): Too Many Requests. Rate limited. Try after a while.\n",
      "Skipped ETG - insufficient data\n",
      "Processing CACH...\n",
      "Data unavailable for CACH (10y): Too Many Requests. Rate limited. Try after a while.\n",
      "Skipped CACH - insufficient data\n",
      "Processing GA...\n",
      "Data unavailable for GA (10y): Too Many Requests. Rate limited. Try after a while.\n",
      "Skipped GA - insufficient data\n",
      "Processing SGI...\n",
      "Data unavailable for SGI (10y): Too Many Requests. Rate limited. Try after a while.\n",
      "Skipped SGI - insufficient data\n",
      "Processing LGI...\n",
      "Data unavailable for LGI (10y): Too Many Requests. Rate limited. Try after a while.\n",
      "Skipped LGI - insufficient data\n",
      "Processing UNXL...\n",
      "Data unavailable for UNXL (10y): Too Many Requests. Rate limited. Try after a while.\n",
      "Skipped UNXL - insufficient data\n",
      "Processing PICO...\n",
      "Data unavailable for PICO (10y): Too Many Requests. Rate limited. Try after a while.\n",
      "Skipped PICO - insufficient data\n",
      "Processing CENX...\n",
      "Data unavailable for CENX (10y): Too Many Requests. Rate limited. Try after a while.\n",
      "Skipped CENX - insufficient data\n",
      "Processing PSCE...\n",
      "Data unavailable for PSCE (10y): Too Many Requests. Rate limited. Try after a while.\n",
      "Skipped PSCE - insufficient data\n",
      "Processing JCI...\n",
      "Data unavailable for JCI (10y): Too Many Requests. Rate limited. Try after a while.\n",
      "Skipped JCI - insufficient data\n",
      "Processing MMC...\n",
      "Data unavailable for MMC (10y): Too Many Requests. Rate limited. Try after a while.\n",
      "Skipped MMC - insufficient data\n",
      "Processing AVX...\n",
      "Data unavailable for AVX (10y): Too Many Requests. Rate limited. Try after a while.\n",
      "Skipped AVX - insufficient data\n",
      "Processing ASIA...\n",
      "Data unavailable for ASIA (10y): Too Many Requests. Rate limited. Try after a while.\n",
      "Skipped ASIA - insufficient data\n",
      "Processing EGLE...\n",
      "Data unavailable for EGLE (10y): Too Many Requests. Rate limited. Try after a while.\n",
      "Skipped EGLE - insufficient data\n",
      "Processing SNTA...\n",
      "Data unavailable for SNTA (10y): Too Many Requests. Rate limited. Try after a while.\n",
      "Skipped SNTA - insufficient data\n",
      "Processing SHOR...\n",
      "Data unavailable for SHOR (10y): Too Many Requests. Rate limited. Try after a while.\n",
      "Skipped SHOR - insufficient data\n",
      "Processing TEU...\n",
      "Data unavailable for TEU (10y): Too Many Requests. Rate limited. Try after a while.\n",
      "Skipped TEU - insufficient data\n",
      "Processing PNK...\n",
      "Data unavailable for PNK (10y): Too Many Requests. Rate limited. Try after a while.\n",
      "Skipped PNK - insufficient data\n",
      "Processing DOLE...\n",
      "Data unavailable for DOLE (10y): Too Many Requests. Rate limited. Try after a while.\n",
      "Skipped DOLE - insufficient data\n",
      "Processing HUBG...\n",
      "Data unavailable for HUBG (10y): Too Many Requests. Rate limited. Try after a while.\n",
      "Skipped HUBG - insufficient data\n",
      "Processing SMFG...\n",
      "Data unavailable for SMFG (10y): Too Many Requests. Rate limited. Try after a while.\n",
      "Skipped SMFG - insufficient data\n",
      "Processing AEPI...\n",
      "Data unavailable for AEPI (10y): Too Many Requests. Rate limited. Try after a while.\n",
      "Skipped AEPI - insufficient data\n",
      "Processing IDSY...\n",
      "Data unavailable for IDSY (10y): Too Many Requests. Rate limited. Try after a while.\n",
      "Skipped IDSY - insufficient data\n",
      "Processing CAP...\n",
      "Data unavailable for CAP (10y): Too Many Requests. Rate limited. Try after a while.\n",
      "Skipped CAP - insufficient data\n",
      "Processing CSTM...\n",
      "Data unavailable for CSTM (10y): Too Many Requests. Rate limited. Try after a while.\n",
      "Skipped CSTM - insufficient data\n",
      "Processing SHO...\n",
      "Data unavailable for SHO (10y): Too Many Requests. Rate limited. Try after a while.\n",
      "Skipped SHO - insufficient data\n",
      "Processing DCT...\n",
      "Data unavailable for DCT (10y): Too Many Requests. Rate limited. Try after a while.\n",
      "Skipped DCT - insufficient data\n",
      "Processing CHFN...\n",
      "Data unavailable for CHFN (10y): Too Many Requests. Rate limited. Try after a while.\n",
      "Skipped CHFN - insufficient data\n",
      "Processing OFC-L...\n",
      "Data unavailable for OFC-L (10y): Too Many Requests. Rate limited. Try after a while.\n",
      "Skipped OFC-L - insufficient data\n",
      "Processing ICLN...\n",
      "Data unavailable for ICLN (10y): Too Many Requests. Rate limited. Try after a while.\n",
      "Skipped ICLN - insufficient data\n",
      "Processing ADES...\n",
      "Data unavailable for ADES (10y): Too Many Requests. Rate limited. Try after a while.\n",
      "Skipped ADES - insufficient data\n",
      "Processing FCE.B...\n",
      "Data unavailable for FCE.B (10y): Too Many Requests. Rate limited. Try after a while.\n",
      "Skipped FCE.B - insufficient data\n",
      "Processing FTNT...\n",
      "Data unavailable for FTNT (10y): Too Many Requests. Rate limited. Try after a while.\n",
      "Skipped FTNT - insufficient data\n",
      "Processing AIZ...\n",
      "Data unavailable for AIZ (10y): Too Many Requests. Rate limited. Try after a while.\n",
      "Skipped AIZ - insufficient data\n",
      "Processing IVH...\n",
      "Data unavailable for IVH (10y): Too Many Requests. Rate limited. Try after a while.\n",
      "Skipped IVH - insufficient data\n",
      "Processing VONV...\n",
      "Data unavailable for VONV (10y): Too Many Requests. Rate limited. Try after a while.\n",
      "Skipped VONV - insufficient data\n",
      "Processing BOKF...\n",
      "Data unavailable for BOKF (10y): Too Many Requests. Rate limited. Try after a while.\n",
      "Skipped BOKF - insufficient data\n",
      "Processing MVO...\n",
      "Data unavailable for MVO (10y): Too Many Requests. Rate limited. Try after a while.\n",
      "Skipped MVO - insufficient data\n",
      "Processing PHT...\n",
      "Data unavailable for PHT (10y): Too Many Requests. Rate limited. Try after a while.\n",
      "Skipped PHT - insufficient data\n",
      "Processing FULLL...\n",
      "Data unavailable for FULLL (10y): Too Many Requests. Rate limited. Try after a while.\n",
      "Skipped FULLL - insufficient data\n",
      "Processing O...\n",
      "Data unavailable for O (10y): Too Many Requests. Rate limited. Try after a while.\n",
      "Skipped O - insufficient data\n",
      "Processing IPGP...\n",
      "Data unavailable for IPGP (10y): Too Many Requests. Rate limited. Try after a while.\n",
      "Skipped IPGP - insufficient data\n",
      "Processing EOS...\n",
      "Data unavailable for EOS (10y): Too Many Requests. Rate limited. Try after a while.\n",
      "Skipped EOS - insufficient data\n",
      "Processing NMY-D...\n",
      "Data unavailable for NMY-D (10y): Too Many Requests. Rate limited. Try after a while.\n",
      "Skipped NMY-D - insufficient data\n",
      "Processing DUC...\n",
      "Data unavailable for DUC (10y): Too Many Requests. Rate limited. Try after a while.\n",
      "Skipped DUC - insufficient data\n",
      "\n",
      "Columns in final dataset: ['Date', 'Open', 'Close', 'Volume', 'Dividends', 'Stock Splits', 'Future Year Change', 'Ticker', 'Industry', 'EV/EBIT', 'ROIC']\n"
     ]
    },
    {
     "name": "stderr",
     "output_type": "stream",
     "text": [
      "401 Client Error: Unauthorized for url: https://query2.finance.yahoo.com/v10/finance/quoteSummary/JMBA?modules=financialData%2CquoteType%2CdefaultKeyStatistics%2CassetProfile%2CsummaryDetail&corsDomain=finance.yahoo.com&formatted=false&symbol=JMBA&crumb=Edge%3A+Too+Many+Requests\n",
      "401 Client Error: Unauthorized for url: https://query2.finance.yahoo.com/v10/finance/quoteSummary/CZR?modules=financialData%2CquoteType%2CdefaultKeyStatistics%2CassetProfile%2CsummaryDetail&corsDomain=finance.yahoo.com&formatted=false&symbol=CZR&crumb=Edge%3A+Too+Many+Requests\n"
     ]
    },
    {
     "name": "stdout",
     "output_type": "stream",
     "text": [
      "Saved training data with 1024840 rows\n"
     ]
    }
   ],
   "source": [
    "tickers = pd.read_csv(testFolder / 'tickers.csv')['Ticker']\n",
    "trainingTickers = np.random.choice(tickers, size=trainingSize, replace=False)\n",
    "\n",
    "if getNewData:\n",
    "    histData = pd.DataFrame()\n",
    "    valid_tickers = []\n",
    "    \n",
    "    for ticker in trainingTickers:\n",
    "        print(f\"Processing {ticker}...\")\n",
    "        data = calculateFutureYearChange(ticker, timeFrame)\n",
    "        if not data.empty:\n",
    "            data['Ticker'] = ticker\n",
    "            data['Industry'] = yf.Ticker(ticker).info.get('industry', 'Unknown')\n",
    "            data['Date'] = pd.to_datetime(data['Date']).dt.tz_localize(None)\n",
    "            \n",
    "            # Enrich individual ticker data first\n",
    "            ticker_data = enrichDataWithMetrics(data)\n",
    "            histData = pd.concat([histData, ticker_data])\n",
    "            \n",
    "            # Check if metrics were added\n",
    "            if 'ROIC' not in ticker_data.columns:\n",
    "                print(f\"WARNING: Failed to add metrics for {ticker}\")\n",
    "            \n",
    "            valid_tickers.append(ticker)\n",
    "        else:\n",
    "            print(f\"Skipped {ticker} - insufficient data\")\n",
    "\n",
    "    print(f\"\\nColumns in final dataset: {histData.columns.tolist()}\")\n",
    "    \n",
    "    if not histData.empty:\n",
    "        histData = enrichDataWithMetrics(histData)\n",
    "        histData.to_csv(dataFolder / trainingData, index=True)\n",
    "        # Verify no future targets leaked to past dates\n",
    "        latest_date = pd.to_datetime(histData['Date']).max()\n",
    "        if 'Future Year Change' in histData.columns:\n",
    "            target_dates = histData[histData['Future Year Change'].notnull()]['Date']\n",
    "            if any(pd.to_datetime(target_dates) > latest_date):\n",
    "                raise ValueError(\"CRITICAL: Analyst targets contain future dates!\")\n",
    "        print(f\"Saved training data with {len(histData)} rows\")\n",
    "    else:\n",
    "        print(\"Warning: No data collected - check your tickers list\")"
   ]
  },
  {
   "cell_type": "markdown",
   "metadata": {},
   "source": [
    "## Model Training"
   ]
  },
  {
   "cell_type": "code",
   "execution_count": 21,
   "metadata": {},
   "outputs": [],
   "source": [
    "if trainNewModel:\n",
    "    TRAINING_CUTOFF = pd.to_datetime('2023-01-01')\n",
    "\n",
    "    df = pd.read_csv(dataFolder / trainingData)\n",
    "    dfCleaned = df.dropna(subset=['EV/EBIT', 'ROIC']).copy()\n",
    "\n",
    "    # Convert 'Date' to datetime, parse UTC-aware dates, then make naive\n",
    "    dfCleaned['Date'] = pd.to_datetime(dfCleaned['Date'], errors='coerce', utc=True).dt.tz_convert(None)\n",
    "    dfCleaned = dfCleaned.dropna(subset=['Date'])\n",
    "\n",
    "    # Clean 'EV/EBIT' and reset index\n",
    "    dfCleaned['EV/EBIT'] = dfCleaned['EV/EBIT'].replace([np.inf, -np.inf], np.nan)\n",
    "    dfCleaned = dfCleaned.dropna(subset=['EV/EBIT', 'ROIC'])\n",
    "    dfCleaned = dfCleaned.reset_index(drop=True)\n",
    "    dfCleaned.to_csv(dataFolder / trainingData, index=False)\n",
    "\n",
    "    # Check for empty data\n",
    "    if dfCleaned.empty:\n",
    "        raise ValueError(\"The cleaned DataFrame is empty.\")\n",
    "\n",
    "    # Create splits with valid indices\n",
    "    train_mask = dfCleaned['Date'] < TRAINING_CUTOFF\n",
    "    valid_mask = ~train_mask\n",
    "    splits = (list(dfCleaned[train_mask].index), list(dfCleaned[valid_mask].index))\n",
    "\n",
    "    if not splits[0] or not splits[1]:\n",
    "        raise ValueError(\"Empty training or validation split.\")\n",
    "\n",
    "    # Proceed with TabularPandas\n",
    "    to = TabularPandas(\n",
    "        dfCleaned, \n",
    "        procs=[Categorify, FillMissing, Normalize],\n",
    "        y_names=yNames,\n",
    "        cat_names=catNames, \n",
    "        cont_names=contNames,\n",
    "        splits=splits\n",
    "    )\n",
    "\n",
    "    dls = to.dataloaders(bs=batchSize)"
   ]
  },
  {
   "cell_type": "code",
   "execution_count": 22,
   "metadata": {},
   "outputs": [
    {
     "data": {
      "text/html": [
       "\n",
       "    <div>\n",
       "        <style>\n",
       "            /* Turns off some styling */\n",
       "            progress {\n",
       "                /* gets rid of default border in Firefox and Opera. */\n",
       "                border: none;\n",
       "                /* Needs to be in here for Safari polyfill so background images work as expected. */\n",
       "                background-size: auto;\n",
       "            }\n",
       "            .progress-bar-interrupted, .progress-bar-interrupted::-webkit-progress-bar {\n",
       "                background: #F44336;\n",
       "            }\n",
       "        </style>\n",
       "      <progress value='0' class='' max='1' style='width:300px; height:20px; vertical-align: middle;'></progress>\n",
       "      0.00% [0/1 00:00<00:00]\n",
       "    </div>\n",
       "    \n",
       "\n",
       "\n",
       "    <div>\n",
       "        <style>\n",
       "            /* Turns off some styling */\n",
       "            progress {\n",
       "                /* gets rid of default border in Firefox and Opera. */\n",
       "                border: none;\n",
       "                /* Needs to be in here for Safari polyfill so background images work as expected. */\n",
       "                background-size: auto;\n",
       "            }\n",
       "            .progress-bar-interrupted, .progress-bar-interrupted::-webkit-progress-bar {\n",
       "                background: #F44336;\n",
       "            }\n",
       "        </style>\n",
       "      <progress value='7' class='' max='3213' style='width:300px; height:20px; vertical-align: middle;'></progress>\n",
       "      0.22% [7/3213 00:01<12:18 0.6943]\n",
       "    </div>\n",
       "    "
      ],
      "text/plain": [
       "<IPython.core.display.HTML object>"
      ]
     },
     "metadata": {},
     "output_type": "display_data"
    },
    {
     "name": "stdout",
     "output_type": "stream",
     "text": [
      "Learning rate finder results: lr_min=0.00010000000474974513, lr_steep=9.12010818865383e-07\n",
      "Training for 30 epochs...\n"
     ]
    },
    {
     "data": {
      "text/html": [
       "<table border=\"1\" class=\"dataframe\">\n",
       "  <thead>\n",
       "    <tr style=\"text-align: left;\">\n",
       "      <th>epoch</th>\n",
       "      <th>train_loss</th>\n",
       "      <th>valid_loss</th>\n",
       "      <th>_rmse</th>\n",
       "      <th>mae</th>\n",
       "      <th>time</th>\n",
       "    </tr>\n",
       "  </thead>\n",
       "  <tbody>\n",
       "    <tr>\n",
       "      <td>0</td>\n",
       "      <td>1.564992</td>\n",
       "      <td>1.098770</td>\n",
       "      <td>1.048222</td>\n",
       "      <td>0.431299</td>\n",
       "      <td>01:01</td>\n",
       "    </tr>\n",
       "    <tr>\n",
       "      <td>1</td>\n",
       "      <td>0.782286</td>\n",
       "      <td>1.488896</td>\n",
       "      <td>1.220203</td>\n",
       "      <td>0.428108</td>\n",
       "      <td>01:11</td>\n",
       "    </tr>\n",
       "    <tr>\n",
       "      <td>2</td>\n",
       "      <td>0.845868</td>\n",
       "      <td>0.921441</td>\n",
       "      <td>0.959917</td>\n",
       "      <td>0.423476</td>\n",
       "      <td>01:09</td>\n",
       "    </tr>\n",
       "    <tr>\n",
       "      <td>3</td>\n",
       "      <td>0.825271</td>\n",
       "      <td>1.810336</td>\n",
       "      <td>1.345488</td>\n",
       "      <td>0.433953</td>\n",
       "      <td>01:10</td>\n",
       "    </tr>\n",
       "    <tr>\n",
       "      <td>4</td>\n",
       "      <td>0.906488</td>\n",
       "      <td>0.970767</td>\n",
       "      <td>0.985275</td>\n",
       "      <td>0.428403</td>\n",
       "      <td>01:00</td>\n",
       "    </tr>\n",
       "    <tr>\n",
       "      <td>5</td>\n",
       "      <td>0.758723</td>\n",
       "      <td>1.385267</td>\n",
       "      <td>1.176974</td>\n",
       "      <td>0.403473</td>\n",
       "      <td>01:12</td>\n",
       "    </tr>\n",
       "    <tr>\n",
       "      <td>6</td>\n",
       "      <td>0.833165</td>\n",
       "      <td>1.913038</td>\n",
       "      <td>1.383126</td>\n",
       "      <td>0.400285</td>\n",
       "      <td>01:03</td>\n",
       "    </tr>\n",
       "    <tr>\n",
       "      <td>7</td>\n",
       "      <td>1.711033</td>\n",
       "      <td>2.140089</td>\n",
       "      <td>1.462904</td>\n",
       "      <td>0.389883</td>\n",
       "      <td>01:44</td>\n",
       "    </tr>\n",
       "    <tr>\n",
       "      <td>8</td>\n",
       "      <td>0.702066</td>\n",
       "      <td>1.833951</td>\n",
       "      <td>1.354234</td>\n",
       "      <td>0.390530</td>\n",
       "      <td>01:00</td>\n",
       "    </tr>\n",
       "    <tr>\n",
       "      <td>9</td>\n",
       "      <td>0.888034</td>\n",
       "      <td>1.045839</td>\n",
       "      <td>1.022663</td>\n",
       "      <td>0.375616</td>\n",
       "      <td>00:51</td>\n",
       "    </tr>\n",
       "    <tr>\n",
       "      <td>10</td>\n",
       "      <td>0.694043</td>\n",
       "      <td>1286.418945</td>\n",
       "      <td>35.866692</td>\n",
       "      <td>0.603872</td>\n",
       "      <td>00:53</td>\n",
       "    </tr>\n",
       "    <tr>\n",
       "      <td>11</td>\n",
       "      <td>0.690785</td>\n",
       "      <td>0.863787</td>\n",
       "      <td>0.929402</td>\n",
       "      <td>0.367245</td>\n",
       "      <td>00:59</td>\n",
       "    </tr>\n",
       "    <tr>\n",
       "      <td>12</td>\n",
       "      <td>0.650732</td>\n",
       "      <td>2.123308</td>\n",
       "      <td>1.457158</td>\n",
       "      <td>0.374350</td>\n",
       "      <td>00:58</td>\n",
       "    </tr>\n",
       "    <tr>\n",
       "      <td>13</td>\n",
       "      <td>0.899741</td>\n",
       "      <td>0.939169</td>\n",
       "      <td>0.969107</td>\n",
       "      <td>0.366517</td>\n",
       "      <td>00:59</td>\n",
       "    </tr>\n",
       "    <tr>\n",
       "      <td>14</td>\n",
       "      <td>0.743898</td>\n",
       "      <td>1.708514</td>\n",
       "      <td>1.307102</td>\n",
       "      <td>0.368233</td>\n",
       "      <td>01:00</td>\n",
       "    </tr>\n",
       "    <tr>\n",
       "      <td>15</td>\n",
       "      <td>0.753155</td>\n",
       "      <td>1.057032</td>\n",
       "      <td>1.028121</td>\n",
       "      <td>0.365096</td>\n",
       "      <td>01:01</td>\n",
       "    </tr>\n",
       "    <tr>\n",
       "      <td>16</td>\n",
       "      <td>1.045626</td>\n",
       "      <td>3.066970</td>\n",
       "      <td>1.751276</td>\n",
       "      <td>0.374114</td>\n",
       "      <td>00:59</td>\n",
       "    </tr>\n",
       "    <tr>\n",
       "      <td>17</td>\n",
       "      <td>0.778402</td>\n",
       "      <td>1256.712769</td>\n",
       "      <td>35.450150</td>\n",
       "      <td>0.590773</td>\n",
       "      <td>01:07</td>\n",
       "    </tr>\n",
       "    <tr>\n",
       "      <td>18</td>\n",
       "      <td>1.994017</td>\n",
       "      <td>2.078470</td>\n",
       "      <td>1.441690</td>\n",
       "      <td>0.367817</td>\n",
       "      <td>00:56</td>\n",
       "    </tr>\n",
       "    <tr>\n",
       "      <td>19</td>\n",
       "      <td>0.697568</td>\n",
       "      <td>0.873036</td>\n",
       "      <td>0.934364</td>\n",
       "      <td>0.362713</td>\n",
       "      <td>01:04</td>\n",
       "    </tr>\n",
       "    <tr>\n",
       "      <td>20</td>\n",
       "      <td>0.577685</td>\n",
       "      <td>0.841930</td>\n",
       "      <td>0.917568</td>\n",
       "      <td>0.360183</td>\n",
       "      <td>01:05</td>\n",
       "    </tr>\n",
       "    <tr>\n",
       "      <td>21</td>\n",
       "      <td>0.818814</td>\n",
       "      <td>1.308299</td>\n",
       "      <td>1.143809</td>\n",
       "      <td>0.364231</td>\n",
       "      <td>01:08</td>\n",
       "    </tr>\n",
       "    <tr>\n",
       "      <td>22</td>\n",
       "      <td>1.019710</td>\n",
       "      <td>0.888897</td>\n",
       "      <td>0.942813</td>\n",
       "      <td>0.361117</td>\n",
       "      <td>01:03</td>\n",
       "    </tr>\n",
       "    <tr>\n",
       "      <td>23</td>\n",
       "      <td>0.841710</td>\n",
       "      <td>0.881334</td>\n",
       "      <td>0.938794</td>\n",
       "      <td>0.363396</td>\n",
       "      <td>01:03</td>\n",
       "    </tr>\n",
       "    <tr>\n",
       "      <td>24</td>\n",
       "      <td>0.835104</td>\n",
       "      <td>0.836411</td>\n",
       "      <td>0.914555</td>\n",
       "      <td>0.359480</td>\n",
       "      <td>01:01</td>\n",
       "    </tr>\n",
       "    <tr>\n",
       "      <td>25</td>\n",
       "      <td>0.659896</td>\n",
       "      <td>461.649323</td>\n",
       "      <td>21.486025</td>\n",
       "      <td>0.498818</td>\n",
       "      <td>00:59</td>\n",
       "    </tr>\n",
       "    <tr>\n",
       "      <td>26</td>\n",
       "      <td>0.746663</td>\n",
       "      <td>0.860640</td>\n",
       "      <td>0.927707</td>\n",
       "      <td>0.362086</td>\n",
       "      <td>01:01</td>\n",
       "    </tr>\n",
       "    <tr>\n",
       "      <td>27</td>\n",
       "      <td>1.250165</td>\n",
       "      <td>0.843116</td>\n",
       "      <td>0.918213</td>\n",
       "      <td>0.359483</td>\n",
       "      <td>01:00</td>\n",
       "    </tr>\n",
       "    <tr>\n",
       "      <td>28</td>\n",
       "      <td>0.752446</td>\n",
       "      <td>12.855796</td>\n",
       "      <td>3.585498</td>\n",
       "      <td>0.385367</td>\n",
       "      <td>01:08</td>\n",
       "    </tr>\n",
       "    <tr>\n",
       "      <td>29</td>\n",
       "      <td>0.787812</td>\n",
       "      <td>0.838874</td>\n",
       "      <td>0.915901</td>\n",
       "      <td>0.358137</td>\n",
       "      <td>01:01</td>\n",
       "    </tr>\n",
       "  </tbody>\n",
       "</table>"
      ],
      "text/plain": [
       "<IPython.core.display.HTML object>"
      ]
     },
     "metadata": {},
     "output_type": "display_data"
    },
    {
     "name": "stdout",
     "output_type": "stream",
     "text": [
      "Model training complete\n"
     ]
    },
    {
     "data": {
      "image/png": "[encoded data removed]",
      "text/plain": [
       "<Figure size 640x480 with 1 Axes>"
      ]
     },
     "metadata": {},
     "output_type": "display_data"
    }
   ],
   "source": [
    "if trainNewModel:\n",
    "    learn = tabular_learner(dls, metrics=[rmse, mae])\n",
    "\n",
    "    # Learning rate finder\n",
    "    lr_min, lr_steep = learn.lr_find(suggest_funcs=(minimum, steep))\n",
    "\n",
    "    # Debugging information\n",
    "    print(f\"Learning rate finder results: lr_min={lr_min}, lr_steep={lr_steep}\")\n",
    "\n",
    "    # Check if learning rates are valid\n",
    "    if lr_min is None or lr_steep is None:\n",
    "        raise ValueError(\"Learning rate finder did not return valid learning rates.\")\n",
    "\n",
    "    # Train\n",
    "    print(f\"Training for {epochs} epochs...\")\n",
    "    learn.fit_one_cycle(epochs, lr_max=lr_steep)\n",
    "    print(\"Model training complete\")\n",
    "\n",
    "    learn.export(modelFolder / f'{modelName}.pkl')"
   ]
  },
  {
   "cell_type": "markdown",
   "metadata": {},
   "source": [
    "## Testing and benchmarking"
   ]
  },
  {
   "cell_type": "code",
   "execution_count": 29,
   "metadata": {},
   "outputs": [
    {
     "name": "stderr",
     "output_type": "stream",
     "text": [
      "$ASCA: possibly delisted; no timezone found\n"
     ]
    },
    {
     "name": "stdout",
     "output_type": "stream",
     "text": [
      "Error fetching data for ASCA: No historical data available for ASCA around 2024-01-28.\n"
     ]
    },
    {
     "name": "stderr",
     "output_type": "stream",
     "text": [
      "$GPX: possibly delisted; no timezone found\n"
     ]
    },
    {
     "name": "stdout",
     "output_type": "stream",
     "text": [
      "Error fetching data for GPX: No historical data available for GPX around 2024-01-28.\n"
     ]
    },
    {
     "name": "stderr",
     "output_type": "stream",
     "text": [
      "$TECD: possibly delisted; no timezone found\n"
     ]
    },
    {
     "name": "stdout",
     "output_type": "stream",
     "text": [
      "Error fetching data for TECD: No historical data available for TECD around 2024-01-28.\n"
     ]
    },
    {
     "name": "stderr",
     "output_type": "stream",
     "text": [
      "$MLG: possibly delisted; no price data found  (1d 2023-12-29 -> 2024-01-28)\n"
     ]
    },
    {
     "name": "stdout",
     "output_type": "stream",
     "text": [
      "Error fetching data for MLG: No historical data available for MLG around 2024-01-28.\n"
     ]
    },
    {
     "name": "stderr",
     "output_type": "stream",
     "text": [
      "$EDGW: possibly delisted; no price data found  (1d 2023-12-29 -> 2024-01-28)\n"
     ]
    },
    {
     "name": "stdout",
     "output_type": "stream",
     "text": [
      "Error fetching data for EDGW: No historical data available for EDGW around 2024-01-28.\n"
     ]
    },
    {
     "name": "stderr",
     "output_type": "stream",
     "text": [
      "$VVUS: possibly delisted; no timezone found\n"
     ]
    },
    {
     "name": "stdout",
     "output_type": "stream",
     "text": [
      "Error fetching data for VVUS: No historical data available for VVUS around 2024-01-28.\n"
     ]
    },
    {
     "name": "stderr",
     "output_type": "stream",
     "text": [
      "$KNL: possibly delisted; no timezone found\n"
     ]
    },
    {
     "name": "stdout",
     "output_type": "stream",
     "text": [
      "Error fetching data for KNL: No historical data available for KNL around 2024-01-28.\n"
     ]
    },
    {
     "name": "stderr",
     "output_type": "stream",
     "text": [
      "$RVLT: possibly delisted; no timezone found\n"
     ]
    },
    {
     "name": "stdout",
     "output_type": "stream",
     "text": [
      "Error fetching data for RVLT: No historical data available for RVLT around 2024-01-28.\n"
     ]
    },
    {
     "name": "stderr",
     "output_type": "stream",
     "text": [
      "$AMNB: possibly delisted; no timezone found\n"
     ]
    },
    {
     "name": "stdout",
     "output_type": "stream",
     "text": [
      "Error fetching data for AMNB: No historical data available for AMNB around 2024-01-28.\n"
     ]
    },
    {
     "name": "stderr",
     "output_type": "stream",
     "text": [
      "$EGOV: possibly delisted; no timezone found\n"
     ]
    },
    {
     "name": "stdout",
     "output_type": "stream",
     "text": [
      "Error fetching data for EGOV: No historical data available for EGOV around 2024-01-28.\n"
     ]
    },
    {
     "name": "stderr",
     "output_type": "stream",
     "text": [
      "$AUO: possibly delisted; no timezone found\n"
     ]
    },
    {
     "name": "stdout",
     "output_type": "stream",
     "text": [
      "Error fetching data for AUO: No historical data available for AUO around 2024-01-28.\n"
     ]
    },
    {
     "name": "stderr",
     "output_type": "stream",
     "text": [
      "$HMTV: possibly delisted; no timezone found\n",
      "$MOCO: possibly delisted; no price data found  (1d 2023-12-29 -> 2024-01-28)\n"
     ]
    },
    {
     "name": "stdout",
     "output_type": "stream",
     "text": [
      "Error fetching data for HMTV: No historical data available for HMTV around 2024-01-28.\n",
      "Error fetching data for MOCO: No historical data available for MOCO around 2024-01-28.\n"
     ]
    },
    {
     "name": "stderr",
     "output_type": "stream",
     "text": [
      "$SINA: possibly delisted; no timezone found\n"
     ]
    },
    {
     "name": "stdout",
     "output_type": "stream",
     "text": [
      "Error fetching data for SINA: No historical data available for SINA around 2024-01-28.\n"
     ]
    },
    {
     "name": "stderr",
     "output_type": "stream",
     "text": [
      "$MNR-B: possibly delisted; no timezone found\n",
      "$BJZ: possibly delisted; no price data found  (1d 2023-12-29 -> 2024-01-28)\n"
     ]
    },
    {
     "name": "stdout",
     "output_type": "stream",
     "text": [
      "Error fetching data for MNR-B: No historical data available for MNR-B around 2024-01-28.\n",
      "Error fetching data for BJZ: No historical data available for BJZ around 2024-01-28.\n"
     ]
    },
    {
     "name": "stderr",
     "output_type": "stream",
     "text": [
      "$VLTC: possibly delisted; no timezone found\n"
     ]
    },
    {
     "name": "stdout",
     "output_type": "stream",
     "text": [
      "Error fetching data for VLTC: No historical data available for VLTC around 2024-01-28.\n"
     ]
    },
    {
     "name": "stderr",
     "output_type": "stream",
     "text": [
      "$SYNT: possibly delisted; no price data found  (1d 2023-12-29 -> 2024-01-28)\n"
     ]
    },
    {
     "name": "stdout",
     "output_type": "stream",
     "text": [
      "Error fetching data for SYNT: No historical data available for SYNT around 2024-01-28.\n"
     ]
    },
    {
     "name": "stderr",
     "output_type": "stream",
     "text": [
      "$TCO: possibly delisted; no timezone found\n",
      "$PSUN: possibly delisted; no price data found  (1d 2023-12-29 -> 2024-01-28)\n"
     ]
    },
    {
     "name": "stdout",
     "output_type": "stream",
     "text": [
      "Error fetching data for TCO: No historical data available for TCO around 2024-01-28.\n",
      "Error fetching data for PSUN: No historical data available for PSUN around 2024-01-28.\n"
     ]
    },
    {
     "name": "stderr",
     "output_type": "stream",
     "text": [
      "$HBA-G: possibly delisted; no timezone found\n",
      "$JZL: possibly delisted; no price data found  (1d 2023-12-29 -> 2024-01-28)\n"
     ]
    },
    {
     "name": "stdout",
     "output_type": "stream",
     "text": [
      "Error fetching data for HBA-G: No historical data available for HBA-G around 2024-01-28.\n",
      "Error fetching data for JZL: No historical data available for JZL around 2024-01-28.\n"
     ]
    },
    {
     "name": "stderr",
     "output_type": "stream",
     "text": [
      "$OCZ: possibly delisted; no price data found  (1d 2023-12-29 -> 2024-01-28)\n"
     ]
    },
    {
     "name": "stdout",
     "output_type": "stream",
     "text": [
      "Error fetching data for OCZ: No historical data available for OCZ around 2024-01-28.\n"
     ]
    },
    {
     "name": "stderr",
     "output_type": "stream",
     "text": [
      "$ELS-C: possibly delisted; no timezone found\n"
     ]
    },
    {
     "name": "stdout",
     "output_type": "stream",
     "text": [
      "Error fetching data for ELS-C: No historical data available for ELS-C around 2024-01-28.\n"
     ]
    },
    {
     "name": "stderr",
     "output_type": "stream",
     "text": [
      "$GEQ: possibly delisted; no price data found  (1d 2023-12-29 -> 2024-01-28)\n"
     ]
    },
    {
     "name": "stdout",
     "output_type": "stream",
     "text": [
      "Error fetching data for GEQ: No historical data available for GEQ around 2024-01-28.\n"
     ]
    },
    {
     "name": "stderr",
     "output_type": "stream",
     "text": [
      "$JPS: possibly delisted; no timezone found\n"
     ]
    },
    {
     "name": "stdout",
     "output_type": "stream",
     "text": [
      "Error fetching data for JPS: No historical data available for JPS around 2024-01-28.\n"
     ]
    },
    {
     "name": "stderr",
     "output_type": "stream",
     "text": [
      "$CUB: possibly delisted; no price data found  (1d 2023-12-29 -> 2024-01-28) (Yahoo error = \"Data doesn't exist for startDate = 1703826000, endDate = 1706418000\")\n"
     ]
    },
    {
     "name": "stdout",
     "output_type": "stream",
     "text": [
      "Error fetching data for CUB: No historical data available for CUB around 2024-01-28.\n"
     ]
    },
    {
     "name": "stderr",
     "output_type": "stream",
     "text": [
      "$DISH: possibly delisted; no timezone found\n"
     ]
    },
    {
     "name": "stdout",
     "output_type": "stream",
     "text": [
      "Error fetching data for DISH: No historical data available for DISH around 2024-01-28.\n"
     ]
    },
    {
     "name": "stderr",
     "output_type": "stream",
     "text": [
      "$PTR: possibly delisted; no timezone found\n"
     ]
    },
    {
     "name": "stdout",
     "output_type": "stream",
     "text": [
      "Error fetching data for PTR: No historical data available for PTR around 2024-01-28.\n"
     ]
    },
    {
     "name": "stderr",
     "output_type": "stream",
     "text": [
      "$SNV-C: possibly delisted; no timezone found\n"
     ]
    },
    {
     "name": "stdout",
     "output_type": "stream",
     "text": [
      "Error fetching data for SNV-C: No historical data available for SNV-C around 2024-01-28.\n"
     ]
    },
    {
     "name": "stderr",
     "output_type": "stream",
     "text": [
      "$TAST: possibly delisted; no timezone found\n"
     ]
    },
    {
     "name": "stdout",
     "output_type": "stream",
     "text": [
      "Error fetching data for TAST: No historical data available for TAST around 2024-01-28.\n"
     ]
    },
    {
     "name": "stderr",
     "output_type": "stream",
     "text": [
      "$GZT: possibly delisted; no timezone found\n"
     ]
    },
    {
     "name": "stdout",
     "output_type": "stream",
     "text": [
      "Error fetching data for GZT: No historical data available for GZT around 2024-01-28.\n"
     ]
    },
    {
     "name": "stderr",
     "output_type": "stream",
     "text": [
      "$NMK-B: possibly delisted; no timezone found\n",
      "$ADRD: possibly delisted; no price data found  (1d 2023-12-29 -> 2024-01-28)\n"
     ]
    },
    {
     "name": "stdout",
     "output_type": "stream",
     "text": [
      "Error fetching data for NMK-B: No historical data available for NMK-B around 2024-01-28.\n",
      "Error fetching data for ADRD: No historical data available for ADRD around 2024-01-28.\n"
     ]
    },
    {
     "name": "stderr",
     "output_type": "stream",
     "text": [
      "$MDCA: possibly delisted; no timezone found\n"
     ]
    },
    {
     "name": "stdout",
     "output_type": "stream",
     "text": [
      "Error fetching data for MDCA: No historical data available for MDCA around 2024-01-28.\n"
     ]
    },
    {
     "name": "stderr",
     "output_type": "stream",
     "text": [
      "$PGTI: possibly delisted; no timezone found\n"
     ]
    },
    {
     "name": "stdout",
     "output_type": "stream",
     "text": [
      "Error fetching data for PGTI: No historical data available for PGTI around 2024-01-28.\n"
     ]
    },
    {
     "name": "stderr",
     "output_type": "stream",
     "text": [
      "$NCU-C: possibly delisted; no timezone found\n"
     ]
    },
    {
     "name": "stdout",
     "output_type": "stream",
     "text": [
      "Error fetching data for NCU-C: No historical data available for NCU-C around 2024-01-28.\n"
     ]
    },
    {
     "name": "stderr",
     "output_type": "stream",
     "text": [
      "$QADA: possibly delisted; no timezone found\n"
     ]
    },
    {
     "name": "stdout",
     "output_type": "stream",
     "text": [
      "Error fetching data for QADA: No historical data available for QADA around 2024-01-28.\n"
     ]
    },
    {
     "name": "stderr",
     "output_type": "stream",
     "text": [
      "$NED: possibly delisted; no timezone found\n"
     ]
    },
    {
     "name": "stdout",
     "output_type": "stream",
     "text": [
      "Error fetching data for NED: No historical data available for NED around 2024-01-28.\n"
     ]
    },
    {
     "name": "stderr",
     "output_type": "stream",
     "text": [
      "$CKEC: possibly delisted; no price data found  (1d 2023-12-29 -> 2024-01-28)\n"
     ]
    },
    {
     "name": "stdout",
     "output_type": "stream",
     "text": [
      "Error fetching data for CKEC: No historical data available for CKEC around 2024-01-28.\n"
     ]
    },
    {
     "name": "stderr",
     "output_type": "stream",
     "text": [
      "$SAN-E: possibly delisted; no timezone found\n"
     ]
    },
    {
     "name": "stdout",
     "output_type": "stream",
     "text": [
      "Error fetching data for SAN-E: No historical data available for SAN-E around 2024-01-28.\n"
     ]
    },
    {
     "name": "stderr",
     "output_type": "stream",
     "text": [
      "$TE: possibly delisted; no price data found  (1d 2023-12-29 -> 2024-01-28)\n",
      "$CLMS: possibly delisted; no price data found  (1d 2023-12-29 -> 2024-01-28)\n"
     ]
    },
    {
     "name": "stdout",
     "output_type": "stream",
     "text": [
      "Error fetching data for TE: No historical data available for TE around 2024-01-28.\n",
      "Error fetching data for CLMS: No historical data available for CLMS around 2024-01-28.\n"
     ]
    },
    {
     "name": "stderr",
     "output_type": "stream",
     "text": [
      "$EAB: possibly delisted; no timezone found\n"
     ]
    },
    {
     "name": "stdout",
     "output_type": "stream",
     "text": [
      "Error fetching data for EAB: No historical data available for EAB around 2024-01-28.\n"
     ]
    },
    {
     "name": "stderr",
     "output_type": "stream",
     "text": [
      "$SLXP: possibly delisted; no price data found  (1d 2023-12-29 -> 2024-01-28)\n"
     ]
    },
    {
     "name": "stdout",
     "output_type": "stream",
     "text": [
      "Error fetching data for SLXP: No historical data available for SLXP around 2024-01-28.\n"
     ]
    },
    {
     "name": "stderr",
     "output_type": "stream",
     "text": [
      "$JOY: possibly delisted; no price data found  (1d 2023-12-29 -> 2024-01-28)\n",
      "$MRH: possibly delisted; no price data found  (1d 2023-12-29 -> 2024-01-28)\n",
      "$HBHC: possibly delisted; no price data found  (1d 2023-12-29 -> 2024-01-28)\n"
     ]
    },
    {
     "name": "stdout",
     "output_type": "stream",
     "text": [
      "Error fetching data for JOY: No historical data available for JOY around 2024-01-28.\n",
      "Error fetching data for MRH: No historical data available for MRH around 2024-01-28.\n",
      "Error fetching data for HBHC: No historical data available for HBHC around 2024-01-28.\n"
     ]
    },
    {
     "name": "stderr",
     "output_type": "stream",
     "text": [
      "$MPG: possibly delisted; no price data found  (1d 2023-12-29 -> 2024-01-28)\n"
     ]
    },
    {
     "name": "stdout",
     "output_type": "stream",
     "text": [
      "Error fetching data for MPG: No historical data available for MPG around 2024-01-28.\n"
     ]
    },
    {
     "name": "stderr",
     "output_type": "stream",
     "text": [
      "$WSFSL: possibly delisted; no timezone found\n",
      "$TSO: possibly delisted; no price data found  (1d 2023-12-29 -> 2024-01-28)\n"
     ]
    },
    {
     "name": "stdout",
     "output_type": "stream",
     "text": [
      "Error fetching data for WSFSL: No historical data available for WSFSL around 2024-01-28.\n",
      "Error fetching data for TSO: No historical data available for TSO around 2024-01-28.\n"
     ]
    },
    {
     "name": "stderr",
     "output_type": "stream",
     "text": [
      "$RENN: possibly delisted; no timezone found\n"
     ]
    },
    {
     "name": "stdout",
     "output_type": "stream",
     "text": [
      "Error fetching data for RENN: No historical data available for RENN around 2024-01-28.\n"
     ]
    },
    {
     "name": "stderr",
     "output_type": "stream",
     "text": [
      "$NYLD: possibly delisted; no price data found  (1d 2023-12-29 -> 2024-01-28)\n"
     ]
    },
    {
     "name": "stdout",
     "output_type": "stream",
     "text": [
      "Error fetching data for NYLD: No historical data available for NYLD around 2024-01-28.\n"
     ]
    },
    {
     "name": "stderr",
     "output_type": "stream",
     "text": [
      "$EXA: possibly delisted; no price data found  (1d 2023-12-29 -> 2024-01-28)\n"
     ]
    },
    {
     "name": "stdout",
     "output_type": "stream",
     "text": [
      "Error fetching data for EXA: No historical data available for EXA around 2024-01-28.\n"
     ]
    },
    {
     "name": "stderr",
     "output_type": "stream",
     "text": [
      "$JBJ: possibly delisted; no price data found  (1d 2023-12-29 -> 2024-01-28)\n"
     ]
    },
    {
     "name": "stdout",
     "output_type": "stream",
     "text": [
      "Error fetching data for JBJ: No historical data available for JBJ around 2024-01-28.\n"
     ]
    },
    {
     "name": "stderr",
     "output_type": "stream",
     "text": [
      "$NDP: possibly delisted; no price data found  (period=1d)\n"
     ]
    },
    {
     "name": "stdout",
     "output_type": "stream",
     "text": [
      "Error fetching data for NDP: single positional indexer is out-of-bounds\n"
     ]
    },
    {
     "name": "stderr",
     "output_type": "stream",
     "text": [
      "$RBS-M: possibly delisted; no timezone found\n"
     ]
    },
    {
     "name": "stdout",
     "output_type": "stream",
     "text": [
      "Error fetching data for RBS-M: No historical data available for RBS-M around 2024-01-28.\n"
     ]
    },
    {
     "name": "stderr",
     "output_type": "stream",
     "text": [
      "$YHOO: possibly delisted; no timezone found\n",
      "$HCLP: possibly delisted; no price data found  (1d 2023-12-29 -> 2024-01-28)\n"
     ]
    },
    {
     "name": "stdout",
     "output_type": "stream",
     "text": [
      "Error fetching data for YHOO: No historical data available for YHOO around 2024-01-28.\n",
      "Error fetching data for HCLP: No historical data available for HCLP around 2024-01-28.\n"
     ]
    },
    {
     "name": "stderr",
     "output_type": "stream",
     "text": [
      "$IQNT: possibly delisted; no price data found  (1d 2023-12-29 -> 2024-01-28)\n"
     ]
    },
    {
     "name": "stdout",
     "output_type": "stream",
     "text": [
      "Error fetching data for IQNT: No historical data available for IQNT around 2024-01-28.\n"
     ]
    },
    {
     "name": "stderr",
     "output_type": "stream",
     "text": [
      "$ERS: possibly delisted; no price data found  (1d 2023-12-29 -> 2024-01-28)\n"
     ]
    },
    {
     "name": "stdout",
     "output_type": "stream",
     "text": [
      "Error fetching data for ERS: No historical data available for ERS around 2024-01-28.\n"
     ]
    },
    {
     "name": "stderr",
     "output_type": "stream",
     "text": [
      "$NM: possibly delisted; no timezone found\n"
     ]
    },
    {
     "name": "stdout",
     "output_type": "stream",
     "text": [
      "Error fetching data for NM: No historical data available for NM around 2024-01-28.\n"
     ]
    },
    {
     "name": "stderr",
     "output_type": "stream",
     "text": [
      "$MYJ: possibly delisted; no timezone found\n"
     ]
    },
    {
     "name": "stdout",
     "output_type": "stream",
     "text": [
      "Error fetching data for MYJ: No historical data available for MYJ around 2024-01-28.\n"
     ]
    },
    {
     "name": "stderr",
     "output_type": "stream",
     "text": [
      "$OCLR: possibly delisted; no price data found  (1d 2023-12-29 -> 2024-01-28)\n"
     ]
    },
    {
     "name": "stdout",
     "output_type": "stream",
     "text": [
      "Error fetching data for OCLR: No historical data available for OCLR around 2024-01-28.\n"
     ]
    },
    {
     "name": "stderr",
     "output_type": "stream",
     "text": [
      "$POZN: possibly delisted; no price data found  (1d 2023-12-29 -> 2024-01-28)\n"
     ]
    },
    {
     "name": "stdout",
     "output_type": "stream",
     "text": [
      "Error fetching data for POZN: No historical data available for POZN around 2024-01-28.\n"
     ]
    },
    {
     "name": "stderr",
     "output_type": "stream",
     "text": [
      "$REIS: possibly delisted; no price data found  (1d 2023-12-29 -> 2024-01-28)\n"
     ]
    },
    {
     "name": "stdout",
     "output_type": "stream",
     "text": [
      "Error fetching data for REIS: No historical data available for REIS around 2024-01-28.\n"
     ]
    },
    {
     "name": "stderr",
     "output_type": "stream",
     "text": [
      "$WILN: possibly delisted; no price data found  (1d 2023-12-29 -> 2024-01-28)\n"
     ]
    },
    {
     "name": "stdout",
     "output_type": "stream",
     "text": [
      "Error fetching data for WILN: No historical data available for WILN around 2024-01-28.\n"
     ]
    },
    {
     "name": "stderr",
     "output_type": "stream",
     "text": [
      "$GCVRZ: possibly delisted; no timezone found\n"
     ]
    },
    {
     "name": "stdout",
     "output_type": "stream",
     "text": [
      "Error fetching data for GCVRZ: No historical data available for GCVRZ around 2024-01-28.\n"
     ]
    },
    {
     "name": "stderr",
     "output_type": "stream",
     "text": [
      "$YDKN: possibly delisted; no price data found  (1d 2023-12-29 -> 2024-01-28)\n",
      "$KMM: possibly delisted; no price data found  (1d 2023-12-29 -> 2024-01-28)\n"
     ]
    },
    {
     "name": "stdout",
     "output_type": "stream",
     "text": [
      "Error fetching data for YDKN: No historical data available for YDKN around 2024-01-28.\n",
      "Error fetching data for KMM: No historical data available for KMM around 2024-01-28.\n"
     ]
    },
    {
     "name": "stderr",
     "output_type": "stream",
     "text": [
      "$ENMD: possibly delisted; no price data found  (1d 2023-12-29 -> 2024-01-28)\n"
     ]
    },
    {
     "name": "stdout",
     "output_type": "stream",
     "text": [
      "Error fetching data for ENMD: No historical data available for ENMD around 2024-01-28.\n"
     ]
    },
    {
     "name": "stderr",
     "output_type": "stream",
     "text": [
      "$PSDV: possibly delisted; no price data found  (1d 2023-12-29 -> 2024-01-28)\n"
     ]
    },
    {
     "name": "stdout",
     "output_type": "stream",
     "text": [
      "Error fetching data for PSDV: No historical data available for PSDV around 2024-01-28.\n"
     ]
    },
    {
     "name": "stderr",
     "output_type": "stream",
     "text": [
      "$JMF: possibly delisted; no timezone found\n"
     ]
    },
    {
     "name": "stdout",
     "output_type": "stream",
     "text": [
      "Error fetching data for JMF: No historical data available for JMF around 2024-01-28.\n"
     ]
    },
    {
     "name": "stderr",
     "output_type": "stream",
     "text": [
      "$CAB: possibly delisted; no price data found  (1d 2023-12-29 -> 2024-01-28)\n",
      "$SPU: possibly delisted; no price data found  (1d 2023-12-29 -> 2024-01-28)\n",
      "$WLB: possibly delisted; no price data found  (1d 2023-12-29 -> 2024-01-28)\n"
     ]
    },
    {
     "name": "stdout",
     "output_type": "stream",
     "text": [
      "Error fetching data for CAB: No historical data available for CAB around 2024-01-28.\n",
      "Error fetching data for SPU: No historical data available for SPU around 2024-01-28.\n",
      "Error fetching data for WLB: No historical data available for WLB around 2024-01-28.\n"
     ]
    },
    {
     "name": "stderr",
     "output_type": "stream",
     "text": [
      "$PDII: possibly delisted; no price data found  (1d 2023-12-29 -> 2024-01-28)\n"
     ]
    },
    {
     "name": "stdout",
     "output_type": "stream",
     "text": [
      "Error fetching data for PDII: No historical data available for PDII around 2024-01-28.\n"
     ]
    },
    {
     "name": "stderr",
     "output_type": "stream",
     "text": [
      "$HMIN: possibly delisted; no price data found  (1d 2023-12-29 -> 2024-01-28)\n"
     ]
    },
    {
     "name": "stdout",
     "output_type": "stream",
     "text": [
      "Error fetching data for HMIN: No historical data available for HMIN around 2024-01-28.\n"
     ]
    },
    {
     "name": "stderr",
     "output_type": "stream",
     "text": [
      "$UTEK: possibly delisted; no price data found  (1d 2023-12-29 -> 2024-01-28)\n"
     ]
    },
    {
     "name": "stdout",
     "output_type": "stream",
     "text": [
      "Error fetching data for UTEK: No historical data available for UTEK around 2024-01-28.\n"
     ]
    },
    {
     "name": "stderr",
     "output_type": "stream",
     "text": [
      "$ALCS: possibly delisted; no price data found  (1d 2023-12-29 -> 2024-01-28)\n",
      "$EXL: possibly delisted; no price data found  (1d 2023-12-29 -> 2024-01-28)\n",
      "$ARIA: possibly delisted; no price data found  (1d 2023-12-29 -> 2024-01-28)\n"
     ]
    },
    {
     "name": "stdout",
     "output_type": "stream",
     "text": [
      "Error fetching data for ALCS: No historical data available for ALCS around 2024-01-28.\n",
      "Error fetching data for EXL: No historical data available for EXL around 2024-01-28.\n",
      "Error fetching data for ARIA: No historical data available for ARIA around 2024-01-28.\n"
     ]
    },
    {
     "name": "stderr",
     "output_type": "stream",
     "text": [
      "$RPRXW: possibly delisted; no timezone found\n",
      "$BOFI: possibly delisted; no price data found  (1d 2023-12-29 -> 2024-01-28)\n"
     ]
    },
    {
     "name": "stdout",
     "output_type": "stream",
     "text": [
      "Error fetching data for RPRXW: No historical data available for RPRXW around 2024-01-28.\n",
      "Error fetching data for BOFI: No historical data available for BOFI around 2024-01-28.\n"
     ]
    },
    {
     "name": "stderr",
     "output_type": "stream",
     "text": [
      "$SUSP: possibly delisted; no price data found  (1d 2023-12-29 -> 2024-01-28)\n"
     ]
    },
    {
     "name": "stdout",
     "output_type": "stream",
     "text": [
      "Error fetching data for SUSP: No historical data available for SUSP around 2024-01-28.\n"
     ]
    },
    {
     "name": "stderr",
     "output_type": "stream",
     "text": [
      "$ATAX: possibly delisted; no timezone found\n"
     ]
    },
    {
     "name": "stdout",
     "output_type": "stream",
     "text": [
      "Error fetching data for ATAX: No historical data available for ATAX around 2024-01-28.\n"
     ]
    },
    {
     "name": "stderr",
     "output_type": "stream",
     "text": [
      "$MDAS: possibly delisted; no price data found  (1d 2023-12-29 -> 2024-01-28)\n",
      "$CIMT: possibly delisted; no price data found  (1d 2023-12-29 -> 2024-01-28)\n"
     ]
    },
    {
     "name": "stdout",
     "output_type": "stream",
     "text": [
      "Error fetching data for MDAS: No historical data available for MDAS around 2024-01-28.\n",
      "Error fetching data for CIMT: No historical data available for CIMT around 2024-01-28.\n"
     ]
    },
    {
     "name": "stderr",
     "output_type": "stream",
     "text": [
      "$AGIIL: possibly delisted; no timezone found\n"
     ]
    },
    {
     "name": "stdout",
     "output_type": "stream",
     "text": [
      "Error fetching data for AGIIL: No historical data available for AGIIL around 2024-01-28.\n"
     ]
    },
    {
     "name": "stderr",
     "output_type": "stream",
     "text": [
      "$SCU: possibly delisted; no timezone found\n"
     ]
    },
    {
     "name": "stdout",
     "output_type": "stream",
     "text": [
      "Error fetching data for SCU: No historical data available for SCU around 2024-01-28.\n",
      "Error fetching data for LSCC: Too Many Requests. Rate limited. Try after a while.\n",
      "Error fetching data for CERS: Too Many Requests. Rate limited. Try after a while.\n",
      "Error fetching data for SYBT: Too Many Requests. Rate limited. Try after a while.\n",
      "Error fetching data for AHL-PA: Too Many Requests. Rate limited. Try after a while.\n",
      "Error fetching data for PBH: Too Many Requests. Rate limited. Try after a while.\n",
      "Error fetching data for NTX-C: Too Many Requests. Rate limited. Try after a while.\n",
      "Error fetching data for IRC: Too Many Requests. Rate limited. Try after a while.\n",
      "Error fetching data for FLY: Too Many Requests. Rate limited. Try after a while.\n",
      "Error fetching data for NGG: Too Many Requests. Rate limited. Try after a while.\n",
      "Error fetching data for ISIG: Too Many Requests. Rate limited. Try after a while.\n",
      "Error fetching data for NSSC: Too Many Requests. Rate limited. Try after a while.\n",
      "Error fetching data for IBCA: Too Many Requests. Rate limited. Try after a while.\n",
      "Error fetching data for GRMN: Too Many Requests. Rate limited. Try after a while.\n",
      "Error fetching data for RNR-E: Too Many Requests. Rate limited. Try after a while.\n",
      "Error fetching data for TYL: Too Many Requests. Rate limited. Try after a while.\n",
      "Error fetching data for PCK: Too Many Requests. Rate limited. Try after a while.\n",
      "Error fetching data for HALO: Too Many Requests. Rate limited. Try after a while.\n",
      "Error fetching data for FFHL: Too Many Requests. Rate limited. Try after a while.\n",
      "Error fetching data for AKP: Too Many Requests. Rate limited. Try after a while.\n",
      "Error fetching data for IBTX: Too Many Requests. Rate limited. Try after a while.\n",
      "Error fetching data for CUK: Too Many Requests. Rate limited. Try after a while.\n",
      "Error fetching data for GF: Too Many Requests. Rate limited. Try after a while.\n",
      "Error fetching data for CBZ: Too Many Requests. Rate limited. Try after a while.\n",
      "Error fetching data for ALP-N: Too Many Requests. Rate limited. Try after a while.\n",
      "Error fetching data for CBAK: Too Many Requests. Rate limited. Try after a while.\n",
      "Error fetching data for TM: Too Many Requests. Rate limited. Try after a while.\n",
      "Error fetching data for XTLB: Too Many Requests. Rate limited. Try after a while.\n",
      "Error fetching data for SPP: Too Many Requests. Rate limited. Try after a while.\n",
      "Error fetching data for ARKR: Too Many Requests. Rate limited. Try after a while.\n",
      "Error fetching data for FRO: Too Many Requests. Rate limited. Try after a while.\n",
      "Error fetching data for CHD: Too Many Requests. Rate limited. Try after a while.\n",
      "Error fetching data for ASA: Too Many Requests. Rate limited. Try after a while.\n",
      "Error fetching data for WWWW: Too Many Requests. Rate limited. Try after a while.\n",
      "Error fetching data for NE: Too Many Requests. Rate limited. Try after a while.\n",
      "Error fetching data for THR: Too Many Requests. Rate limited. Try after a while.\n",
      "Error fetching data for O-F: Too Many Requests. Rate limited. Try after a while.\n",
      "Error fetching data for CHCO: Too Many Requests. Rate limited. Try after a while.\n",
      "Error fetching data for FLO: Too Many Requests. Rate limited. Try after a while.\n",
      "Error fetching data for PBIP: Too Many Requests. Rate limited. Try after a while.\n",
      "Error fetching data for PVFC: Too Many Requests. Rate limited. Try after a while.\n",
      "Error fetching data for CRDS: Too Many Requests. Rate limited. Try after a while.\n",
      "Error fetching data for USPH: Too Many Requests. Rate limited. Try after a while.\n",
      "Error fetching data for ALNY: Too Many Requests. Rate limited. Try after a while.\n",
      "Error fetching data for FRT: Too Many Requests. Rate limited. Try after a while.\n",
      "Error fetching data for CSCD: Too Many Requests. Rate limited. Try after a while.\n",
      "Error fetching data for TBAC: Too Many Requests. Rate limited. Try after a while.\n",
      "Error fetching data for BMR: Too Many Requests. Rate limited. Try after a while.\n",
      "Error fetching data for CSOD: Too Many Requests. Rate limited. Try after a while.\n",
      "Error fetching data for VSEC: Too Many Requests. Rate limited. Try after a while.\n",
      "Error fetching data for JTA: Too Many Requests. Rate limited. Try after a while.\n",
      "Error fetching data for ADT: Too Many Requests. Rate limited. Try after a while.\n",
      "Error fetching data for PLMT: Too Many Requests. Rate limited. Try after a while.\n",
      "Error fetching data for KYO: Too Many Requests. Rate limited. Try after a while.\n",
      "Error fetching data for AFOP: Too Many Requests. Rate limited. Try after a while.\n",
      "Error fetching data for CALL: Too Many Requests. Rate limited. Try after a while.\n",
      "Error fetching data for PLCM: Too Many Requests. Rate limited. Try after a while.\n",
      "Error fetching data for PYN: Too Many Requests. Rate limited. Try after a while.\n",
      "Error fetching data for PRLS: Too Many Requests. Rate limited. Try after a while.\n",
      "Error fetching data for CENT: Too Many Requests. Rate limited. Try after a while.\n",
      "Error fetching data for CIG.C: Too Many Requests. Rate limited. Try after a while.\n",
      "Error fetching data for RDWR: Too Many Requests. Rate limited. Try after a while.\n",
      "Error fetching data for SCR: Too Many Requests. Rate limited. Try after a while.\n",
      "Error fetching data for TST: Too Many Requests. Rate limited. Try after a while.\n",
      "Error fetching data for PSB-T: Too Many Requests. Rate limited. Try after a while.\n",
      "Error fetching data for MVCB: Too Many Requests. Rate limited. Try after a while.\n",
      "Error fetching data for NICE: Too Many Requests. Rate limited. Try after a while.\n",
      "Error fetching data for RL: Too Many Requests. Rate limited. Try after a while.\n",
      "Error fetching data for ABR-PB: Too Many Requests. Rate limited. Try after a while.\n",
      "Error fetching data for ARAY: Too Many Requests. Rate limited. Try after a while.\n",
      "Error fetching data for OLP: Too Many Requests. Rate limited. Try after a while.\n",
      "Error fetching data for AFW: Too Many Requests. Rate limited. Try after a while.\n",
      "Error fetching data for TRF: Too Many Requests. Rate limited. Try after a while.\n",
      "Error fetching data for RLJ: Too Many Requests. Rate limited. Try after a while.\n",
      "Error fetching data for PL-C: Too Many Requests. Rate limited. Try after a while.\n",
      "Error fetching data for NTGR: Too Many Requests. Rate limited. Try after a while.\n",
      "Error fetching data for EGO: Too Many Requests. Rate limited. Try after a while.\n",
      "Error fetching data for REXR: Too Many Requests. Rate limited. Try after a while.\n",
      "Error fetching data for AWF: Too Many Requests. Rate limited. Try after a while.\n",
      "Error fetching data for TPC: Too Many Requests. Rate limited. Try after a while.\n",
      "Error fetching data for SAMG: Too Many Requests. Rate limited. Try after a while.\n",
      "Error fetching data for CCIX: Too Many Requests. Rate limited. Try after a while.\n",
      "Error fetching data for WFBI: Too Many Requests. Rate limited. Try after a while.\n",
      "Error fetching data for GKM: Too Many Requests. Rate limited. Try after a while.\n",
      "Error fetching data for IRR: Too Many Requests. Rate limited. Try after a while.\n",
      "Error fetching data for TTI: Too Many Requests. Rate limited. Try after a while.\n",
      "Error fetching data for ALE: Too Many Requests. Rate limited. Try after a while.\n",
      "Error fetching data for COF.W: Too Many Requests. Rate limited. Try after a while.\n",
      "Error fetching data for GFNCP: Too Many Requests. Rate limited. Try after a while.\n",
      "Error fetching data for BTZ: Too Many Requests. Rate limited. Try after a while.\n",
      "Error fetching data for MMLP: Too Many Requests. Rate limited. Try after a while.\n",
      "Error fetching data for GTIM: Too Many Requests. Rate limited. Try after a while.\n",
      "Error fetching data for PNG: Too Many Requests. Rate limited. Try after a while.\n",
      "Error fetching data for GMT: Too Many Requests. Rate limited. Try after a while.\n",
      "Error fetching data for WAB: Too Many Requests. Rate limited. Try after a while.\n",
      "Error fetching data for CTCM: Too Many Requests. Rate limited. Try after a while.\n",
      "Error fetching data for AGCO: Too Many Requests. Rate limited. Try after a while.\n",
      "Error fetching data for DIN: Too Many Requests. Rate limited. Try after a while.\n",
      "Error fetching data for LVNTA: Too Many Requests. Rate limited. Try after a while.\n",
      "Error fetching data for UCTT: Too Many Requests. Rate limited. Try after a while.\n",
      "Error fetching data for CDXS: Too Many Requests. Rate limited. Try after a while.\n",
      "Error fetching data for NSYS: Too Many Requests. Rate limited. Try after a while.\n",
      "Error fetching data for CST: Too Many Requests. Rate limited. Try after a while.\n",
      "Error fetching data for HSII: Too Many Requests. Rate limited. Try after a while.\n",
      "Error fetching data for FSRV: Too Many Requests. Rate limited. Try after a while.\n",
      "Error fetching data for SHG: Too Many Requests. Rate limited. Try after a while.\n",
      "Error fetching data for NZH-A: Too Many Requests. Rate limited. Try after a while.\n",
      "Error fetching data for ABT: Too Many Requests. Rate limited. Try after a while.\n",
      "Error fetching data for MNK: Too Many Requests. Rate limited. Try after a while.\n",
      "Error fetching data for CLIR: Too Many Requests. Rate limited. Try after a while.\n",
      "Error fetching data for RNR: Too Many Requests. Rate limited. Try after a while.\n",
      "Error fetching data for ESGR: Too Many Requests. Rate limited. Try after a while.\n",
      "Error fetching data for SMLP: Too Many Requests. Rate limited. Try after a while.\n",
      "Error fetching data for SYNA: Too Many Requests. Rate limited. Try after a while.\n",
      "Error fetching data for USMD: Too Many Requests. Rate limited. Try after a while.\n",
      "Error fetching data for HAST: Too Many Requests. Rate limited. Try after a while.\n",
      "Error fetching data for AH: Too Many Requests. Rate limited. Try after a while.\n",
      "Error fetching data for QUIK: Too Many Requests. Rate limited. Try after a while.\n",
      "Error fetching data for BIS: Too Many Requests. Rate limited. Try after a while.\n",
      "Error fetching data for HJJ: Too Many Requests. Rate limited. Try after a while.\n",
      "Error fetching data for ACUR: Too Many Requests. Rate limited. Try after a while.\n",
      "Error fetching data for ATHL: Too Many Requests. Rate limited. Try after a while.\n",
      "Error fetching data for OINK: Too Many Requests. Rate limited. Try after a while.\n",
      "Error fetching data for VONG: Too Many Requests. Rate limited. Try after a while.\n",
      "Error fetching data for STL-A: Too Many Requests. Rate limited. Try after a while.\n",
      "Error fetching data for AVGO: Too Many Requests. Rate limited. Try after a while.\n",
      "Error fetching data for OXM: Too Many Requests. Rate limited. Try after a while.\n",
      "Error fetching data for CPSS: Too Many Requests. Rate limited. Try after a while.\n",
      "Error fetching data for SBNY: Too Many Requests. Rate limited. Try after a while.\n",
      "Error fetching data for PAMT: Too Many Requests. Rate limited. Try after a while.\n",
      "Error fetching data for CGA: Too Many Requests. Rate limited. Try after a while.\n",
      "Error fetching data for ASPS: Too Many Requests. Rate limited. Try after a while.\n",
      "Error fetching data for UBFO: Too Many Requests. Rate limited. Try after a while.\n",
      "Error fetching data for TSRX: Too Many Requests. Rate limited. Try after a while.\n",
      "Error fetching data for KEP: Too Many Requests. Rate limited. Try after a while.\n",
      "Error fetching data for DST: Too Many Requests. Rate limited. Try after a while.\n",
      "Error fetching data for MHF: Too Many Requests. Rate limited. Try after a while.\n",
      "Error fetching data for WINA: Too Many Requests. Rate limited. Try after a while.\n",
      "Error fetching data for MFL: Too Many Requests. Rate limited. Try after a while.\n",
      "Error fetching data for BSI: Too Many Requests. Rate limited. Try after a while.\n",
      "Error fetching data for PSAU: Too Many Requests. Rate limited. Try after a while.\n",
      "Error fetching data for MODN: Too Many Requests. Rate limited. Try after a while.\n",
      "Error fetching data for HOVU: Too Many Requests. Rate limited. Try after a while.\n",
      "Error fetching data for GDV: Too Many Requests. Rate limited. Try after a while.\n",
      "Error fetching data for NIO: Too Many Requests. Rate limited. Try after a while.\n",
      "Error fetching data for RE: Too Many Requests. Rate limited. Try after a while.\n",
      "Error fetching data for DOC: Too Many Requests. Rate limited. Try after a while.\n",
      "Error fetching data for HPCCP: Too Many Requests. Rate limited. Try after a while.\n",
      "Error fetching data for TOO-A: Too Many Requests. Rate limited. Try after a while.\n",
      "Error fetching data for PRTA: Too Many Requests. Rate limited. Try after a while.\n",
      "Error fetching data for BFIN: Too Many Requests. Rate limited. Try after a while.\n",
      "Error fetching data for KFY: Too Many Requests. Rate limited. Try after a while.\n",
      "Error fetching data for SAR: Too Many Requests. Rate limited. Try after a while.\n",
      "Error fetching data for ANAT: Too Many Requests. Rate limited. Try after a while.\n",
      "Error fetching data for DTK: Too Many Requests. Rate limited. Try after a while.\n",
      "Error fetching data for CIEN: Too Many Requests. Rate limited. Try after a while.\n",
      "Error fetching data for ADAT: Too Many Requests. Rate limited. Try after a while.\n",
      "Error fetching data for NWLI: Too Many Requests. Rate limited. Try after a while.\n",
      "Error fetching data for ACTG: Too Many Requests. Rate limited. Try after a while.\n",
      "Error fetching data for CWHO: Too Many Requests. Rate limited. Try after a while.\n",
      "Error fetching data for GS-I: Too Many Requests. Rate limited. Try after a while.\n",
      "Error fetching data for IHC: Too Many Requests. Rate limited. Try after a while.\n",
      "Error fetching data for VTUS: Too Many Requests. Rate limited. Try after a while.\n",
      "Error fetching data for AON: Too Many Requests. Rate limited. Try after a while.\n",
      "Error fetching data for IND: Too Many Requests. Rate limited. Try after a while.\n",
      "Error fetching data for HIHO: Too Many Requests. Rate limited. Try after a while.\n",
      "Error fetching data for RIOM: Too Many Requests. Rate limited. Try after a while.\n",
      "Error fetching data for SFUN: Too Many Requests. Rate limited. Try after a while.\n",
      "Error fetching data for FLL: Too Many Requests. Rate limited. Try after a while.\n",
      "Error fetching data for CHEV: Too Many Requests. Rate limited. Try after a while.\n",
      "Error fetching data for MBFI: Too Many Requests. Rate limited. Try after a while.\n",
      "Error fetching data for HCSG: Too Many Requests. Rate limited. Try after a while.\n",
      "Error fetching data for HHY: Too Many Requests. Rate limited. Try after a while.\n",
      "Error fetching data for CWH-E: Too Many Requests. Rate limited. Try after a while.\n",
      "Error fetching data for HLS: Too Many Requests. Rate limited. Try after a while.\n",
      "Error fetching data for EMD: Too Many Requests. Rate limited. Try after a while.\n",
      "Error fetching data for CTW: Too Many Requests. Rate limited. Try after a while.\n"
     ]
    },
    {
     "name": "stderr",
     "output_type": "stream",
     "text": [
      "$AES-PC: possibly delisted; no price data found  (1d 2023-12-29 -> 2024-01-28)\n"
     ]
    },
    {
     "name": "stdout",
     "output_type": "stream",
     "text": [
      "Error fetching data for AES-PC: No historical data available for AES-PC around 2024-01-28.\n"
     ]
    },
    {
     "name": "stderr",
     "output_type": "stream",
     "text": [
      "$PES: possibly delisted; no timezone found\n"
     ]
    },
    {
     "name": "stdout",
     "output_type": "stream",
     "text": [
      "Error fetching data for PES: No historical data available for PES around 2024-01-28.\n"
     ]
    },
    {
     "name": "stderr",
     "output_type": "stream",
     "text": [
      "$DCUA: possibly delisted; no timezone found\n"
     ]
    },
    {
     "name": "stdout",
     "output_type": "stream",
     "text": [
      "Error fetching data for DCUA: No historical data available for DCUA around 2024-01-28.\n"
     ]
    },
    {
     "name": "stderr",
     "output_type": "stream",
     "text": [
      "$STAN: possibly delisted; no price data found  (1d 2023-12-29 -> 2024-01-28)\n"
     ]
    },
    {
     "name": "stdout",
     "output_type": "stream",
     "text": [
      "Error fetching data for STAN: No historical data available for STAN around 2024-01-28.\n"
     ]
    },
    {
     "name": "stderr",
     "output_type": "stream",
     "text": [
      "$VNRAP: possibly delisted; no timezone found\n"
     ]
    },
    {
     "name": "stdout",
     "output_type": "stream",
     "text": [
      "Error fetching data for VNRAP: No historical data available for VNRAP around 2024-01-28.\n"
     ]
    },
    {
     "name": "stderr",
     "output_type": "stream",
     "text": [
      "$CBLI: possibly delisted; no timezone found\n"
     ]
    },
    {
     "name": "stdout",
     "output_type": "stream",
     "text": [
      "Error fetching data for CBLI: No historical data available for CBLI around 2024-01-28.\n"
     ]
    },
    {
     "name": "stderr",
     "output_type": "stream",
     "text": [
      "$KMP: possibly delisted; no price data found  (1d 2023-12-29 -> 2024-01-28)\n",
      "$SCL.P: possibly delisted; no price data found  (1d 2023-12-29 -> 2024-01-28)\n"
     ]
    },
    {
     "name": "stdout",
     "output_type": "stream",
     "text": [
      "Error fetching data for KMP: No historical data available for KMP around 2024-01-28.\n",
      "Error fetching data for SCL.P: No historical data available for SCL.P around 2024-01-28.\n"
     ]
    },
    {
     "name": "stderr",
     "output_type": "stream",
     "text": [
      "$SFI-D: possibly delisted; no timezone found\n"
     ]
    },
    {
     "name": "stdout",
     "output_type": "stream",
     "text": [
      "Error fetching data for SFI-D: No historical data available for SFI-D around 2024-01-28.\n"
     ]
    },
    {
     "name": "stderr",
     "output_type": "stream",
     "text": [
      "$CONN: possibly delisted; no timezone found\n",
      "$BMC: possibly delisted; no price data found  (1d 2023-12-29 -> 2024-01-28)\n",
      "$MSCC: possibly delisted; no price data found  (1d 2023-12-29 -> 2024-01-28)\n"
     ]
    },
    {
     "name": "stdout",
     "output_type": "stream",
     "text": [
      "Error fetching data for CONN: No historical data available for CONN around 2024-01-28.\n",
      "Error fetching data for BMC: No historical data available for BMC around 2024-01-28.\n",
      "Error fetching data for MSCC: No historical data available for MSCC around 2024-01-28.\n"
     ]
    },
    {
     "name": "stderr",
     "output_type": "stream",
     "text": [
      "$VRTU: possibly delisted; no timezone found\n",
      "$PETM: possibly delisted; no price data found  (1d 2023-12-29 -> 2024-01-28)\n"
     ]
    },
    {
     "name": "stdout",
     "output_type": "stream",
     "text": [
      "Error fetching data for VRTU: No historical data available for VRTU around 2024-01-28.\n",
      "Error fetching data for PETM: No historical data available for PETM around 2024-01-28.\n"
     ]
    },
    {
     "name": "stderr",
     "output_type": "stream",
     "text": [
      "$SNHN: possibly delisted; no timezone found\n"
     ]
    },
    {
     "name": "stdout",
     "output_type": "stream",
     "text": [
      "Error fetching data for SNHN: No historical data available for SNHN around 2024-01-28.\n"
     ]
    },
    {
     "name": "stderr",
     "output_type": "stream",
     "text": [
      "$MGLN: possibly delisted; no timezone found\n",
      "$SIRO: possibly delisted; no price data found  (1d 2023-12-29 -> 2024-01-28)\n",
      "$SHPG: possibly delisted; no price data found  (1d 2023-12-29 -> 2024-01-28)\n"
     ]
    },
    {
     "name": "stdout",
     "output_type": "stream",
     "text": [
      "Error fetching data for MGLN: No historical data available for MGLN around 2024-01-28.\n",
      "Error fetching data for SIRO: No historical data available for SIRO around 2024-01-28.\n",
      "Error fetching data for SHPG: No historical data available for SHPG around 2024-01-28.\n"
     ]
    },
    {
     "name": "stderr",
     "output_type": "stream",
     "text": [
      "$GLT: possibly delisted; no timezone found\n"
     ]
    },
    {
     "name": "stdout",
     "output_type": "stream",
     "text": [
      "Error fetching data for GLT: No historical data available for GLT around 2024-01-28.\n"
     ]
    },
    {
     "name": "stderr",
     "output_type": "stream",
     "text": [
      "$MSBF: possibly delisted; no timezone found\n"
     ]
    },
    {
     "name": "stdout",
     "output_type": "stream",
     "text": [
      "Error fetching data for MSBF: No historical data available for MSBF around 2024-01-28.\n"
     ]
    },
    {
     "name": "stderr",
     "output_type": "stream",
     "text": [
      "$PKI: possibly delisted; no timezone found\n"
     ]
    },
    {
     "name": "stdout",
     "output_type": "stream",
     "text": [
      "Error fetching data for PKI: No historical data available for PKI around 2024-01-28.\n"
     ]
    },
    {
     "name": "stderr",
     "output_type": "stream",
     "text": [
      "$ATRI: possibly delisted; no timezone found\n"
     ]
    },
    {
     "name": "stdout",
     "output_type": "stream",
     "text": [
      "Error fetching data for ATRI: No historical data available for ATRI around 2024-01-28.\n"
     ]
    },
    {
     "name": "stderr",
     "output_type": "stream",
     "text": [
      "$CRDC: possibly delisted; no price data found  (1d 2023-12-29 -> 2024-01-28)\n",
      "$FES: possibly delisted; no price data found  (1d 2023-12-29 -> 2024-01-28)\n"
     ]
    },
    {
     "name": "stdout",
     "output_type": "stream",
     "text": [
      "Error fetching data for CRDC: No historical data available for CRDC around 2024-01-28.\n",
      "Error fetching data for FES: No historical data available for FES around 2024-01-28.\n"
     ]
    },
    {
     "name": "stderr",
     "output_type": "stream",
     "text": [
      "$AIRM: possibly delisted; no price data found  (1d 2023-12-29 -> 2024-01-28)\n"
     ]
    },
    {
     "name": "stdout",
     "output_type": "stream",
     "text": [
      "Error fetching data for AIRM: No historical data available for AIRM around 2024-01-28.\n"
     ]
    },
    {
     "name": "stderr",
     "output_type": "stream",
     "text": [
      "$KGJI: possibly delisted; no price data found  (period=1d)\n",
      "$DATE: possibly delisted; no price data found  (1d 2023-12-29 -> 2024-01-28)\n",
      "$GLCB: possibly delisted; no price data found  (1d 2023-12-29 -> 2024-01-28)\n"
     ]
    },
    {
     "name": "stdout",
     "output_type": "stream",
     "text": [
      "Error fetching data for KGJI: single positional indexer is out-of-bounds\n",
      "Error fetching data for DATE: No historical data available for DATE around 2024-01-28.\n",
      "Error fetching data for GLCB: No historical data available for GLCB around 2024-01-28.\n"
     ]
    },
    {
     "name": "stderr",
     "output_type": "stream",
     "text": [
      "$NCP: possibly delisted; no price data found  (1d 2023-12-29 -> 2024-01-28)\n"
     ]
    },
    {
     "name": "stdout",
     "output_type": "stream",
     "text": [
      "Error fetching data for NCP: No historical data available for NCP around 2024-01-28.\n"
     ]
    },
    {
     "name": "stderr",
     "output_type": "stream",
     "text": [
      "$NPY: possibly delisted; no price data found  (1d 2023-12-29 -> 2024-01-28)\n"
     ]
    },
    {
     "name": "stdout",
     "output_type": "stream",
     "text": [
      "Error fetching data for NPY: No historical data available for NPY around 2024-01-28.\n"
     ]
    },
    {
     "name": "stderr",
     "output_type": "stream",
     "text": [
      "$FBR: possibly delisted; no price data found  (1d 2023-12-29 -> 2024-01-28)\n",
      "$PRSS: possibly delisted; no price data found  (1d 2023-12-29 -> 2024-01-28)\n"
     ]
    },
    {
     "name": "stdout",
     "output_type": "stream",
     "text": [
      "Error fetching data for FBR: No historical data available for FBR around 2024-01-28.\n",
      "Error fetching data for PRSS: No historical data available for PRSS around 2024-01-28.\n"
     ]
    },
    {
     "name": "stderr",
     "output_type": "stream",
     "text": [
      "$RAS-B: possibly delisted; no timezone found\n",
      "$JRCC: possibly delisted; no price data found  (1d 2023-12-29 -> 2024-01-28)\n"
     ]
    },
    {
     "name": "stdout",
     "output_type": "stream",
     "text": [
      "Error fetching data for RAS-B: No historical data available for RAS-B around 2024-01-28.\n",
      "Error fetching data for JRCC: No historical data available for JRCC around 2024-01-28.\n"
     ]
    },
    {
     "name": "stderr",
     "output_type": "stream",
     "text": [
      "$PCBK: possibly delisted; no price data found  (1d 2023-12-29 -> 2024-01-28)\n"
     ]
    },
    {
     "name": "stdout",
     "output_type": "stream",
     "text": [
      "Error fetching data for PCBK: No historical data available for PCBK around 2024-01-28.\n"
     ]
    },
    {
     "name": "stderr",
     "output_type": "stream",
     "text": [
      "$DM-B: possibly delisted; no timezone found\n"
     ]
    },
    {
     "name": "stdout",
     "output_type": "stream",
     "text": [
      "Error fetching data for DM-B: No historical data available for DM-B around 2024-01-28.\n"
     ]
    },
    {
     "name": "stderr",
     "output_type": "stream",
     "text": [
      "$TICC: possibly delisted; no price data found  (1d 2023-12-29 -> 2024-01-28)\n"
     ]
    },
    {
     "name": "stdout",
     "output_type": "stream",
     "text": [
      "Error fetching data for TICC: No historical data available for TICC around 2024-01-28.\n"
     ]
    },
    {
     "name": "stderr",
     "output_type": "stream",
     "text": [
      "$ADRU: possibly delisted; no price data found  (1d 2023-12-29 -> 2024-01-28)\n"
     ]
    },
    {
     "name": "stdout",
     "output_type": "stream",
     "text": [
      "Error fetching data for ADRU: No historical data available for ADRU around 2024-01-28.\n"
     ]
    },
    {
     "name": "stderr",
     "output_type": "stream",
     "text": [
      "$PPL-W: possibly delisted; no timezone found\n",
      "$FCVA: possibly delisted; no price data found  (1d 2023-12-29 -> 2024-01-28)\n"
     ]
    },
    {
     "name": "stdout",
     "output_type": "stream",
     "text": [
      "Error fetching data for PPL-W: No historical data available for PPL-W around 2024-01-28.\n",
      "Error fetching data for FCVA: No historical data available for FCVA around 2024-01-28.\n"
     ]
    },
    {
     "name": "stderr",
     "output_type": "stream",
     "text": [
      "$NYCB: possibly delisted; no timezone found\n"
     ]
    },
    {
     "name": "stdout",
     "output_type": "stream",
     "text": [
      "Error fetching data for NYCB: No historical data available for NYCB around 2024-01-28.\n"
     ]
    },
    {
     "name": "stderr",
     "output_type": "stream",
     "text": [
      "$HWCC: possibly delisted; no timezone found\n"
     ]
    },
    {
     "name": "stdout",
     "output_type": "stream",
     "text": [
      "Error fetching data for HWCC: No historical data available for HWCC around 2024-01-28.\n"
     ]
    },
    {
     "name": "stderr",
     "output_type": "stream",
     "text": [
      "$MFSF: possibly delisted; no timezone found\n",
      "$GIVN: possibly delisted; no price data found  (1d 2023-12-29 -> 2024-01-28)\n"
     ]
    },
    {
     "name": "stdout",
     "output_type": "stream",
     "text": [
      "Error fetching data for MFSF: No historical data available for MFSF around 2024-01-28.\n",
      "Error fetching data for GIVN: No historical data available for GIVN around 2024-01-28.\n"
     ]
    },
    {
     "name": "stderr",
     "output_type": "stream",
     "text": [
      "$SYX: possibly delisted; no timezone found\n",
      "$END: possibly delisted; no price data found  (1d 2023-12-29 -> 2024-01-28)\n",
      "$REXX: possibly delisted; no price data found  (1d 2023-12-29 -> 2024-01-28)\n"
     ]
    },
    {
     "name": "stdout",
     "output_type": "stream",
     "text": [
      "Error fetching data for SYX: No historical data available for SYX around 2024-01-28.\n",
      "Error fetching data for END: No historical data available for END around 2024-01-28.\n",
      "Error fetching data for REXX: No historical data available for REXX around 2024-01-28.\n"
     ]
    },
    {
     "name": "stderr",
     "output_type": "stream",
     "text": [
      "$QTM: possibly delisted; no price data found  (1d 2023-12-29 -> 2024-01-28)\n"
     ]
    },
    {
     "name": "stdout",
     "output_type": "stream",
     "text": [
      "Error fetching data for QTM: No historical data available for QTM around 2024-01-28.\n"
     ]
    },
    {
     "name": "stderr",
     "output_type": "stream",
     "text": [
      "$CSBK: possibly delisted; no price data found  (1d 2023-12-29 -> 2024-01-28)\n",
      "$CTCT: possibly delisted; no price data found  (1d 2023-12-29 -> 2024-01-28)\n",
      "$MKTO: possibly delisted; no price data found  (1d 2023-12-29 -> 2024-01-28)\n"
     ]
    },
    {
     "name": "stdout",
     "output_type": "stream",
     "text": [
      "Error fetching data for CSBK: No historical data available for CSBK around 2024-01-28.\n",
      "Error fetching data for CTCT: No historical data available for CTCT around 2024-01-28.\n",
      "Error fetching data for MKTO: No historical data available for MKTO around 2024-01-28.\n"
     ]
    },
    {
     "name": "stderr",
     "output_type": "stream",
     "text": [
      "$FINL: possibly delisted; no price data found  (1d 2023-12-29 -> 2024-01-28)\n",
      "$EMEY: possibly delisted; no price data found  (1d 2023-12-29 -> 2024-01-28)\n"
     ]
    },
    {
     "name": "stdout",
     "output_type": "stream",
     "text": [
      "Error fetching data for FINL: No historical data available for FINL around 2024-01-28.\n",
      "Error fetching data for EMEY: No historical data available for EMEY around 2024-01-28.\n"
     ]
    },
    {
     "name": "stderr",
     "output_type": "stream",
     "text": [
      "$TCBIL: possibly delisted; no timezone found\n"
     ]
    },
    {
     "name": "stdout",
     "output_type": "stream",
     "text": [
      "Error fetching data for TCBIL: No historical data available for TCBIL around 2024-01-28.\n"
     ]
    },
    {
     "name": "stderr",
     "output_type": "stream",
     "text": [
      "$ORBC: possibly delisted; no timezone found\n"
     ]
    },
    {
     "name": "stdout",
     "output_type": "stream",
     "text": [
      "Error fetching data for ORBC: No historical data available for ORBC around 2024-01-28.\n"
     ]
    },
    {
     "name": "stderr",
     "output_type": "stream",
     "text": [
      "$NYMX: possibly delisted; no timezone found\n",
      "$BEAV: possibly delisted; no price data found  (1d 2023-12-29 -> 2024-01-28)\n"
     ]
    },
    {
     "name": "stdout",
     "output_type": "stream",
     "text": [
      "Error fetching data for NYMX: No historical data available for NYMX around 2024-01-28.\n",
      "Error fetching data for BEAV: No historical data available for BEAV around 2024-01-28.\n"
     ]
    },
    {
     "name": "stderr",
     "output_type": "stream",
     "text": [
      "$TTF: possibly delisted; no price data found  (1d 2023-12-29 -> 2024-01-28)\n",
      "$COBZ: possibly delisted; no price data found  (1d 2023-12-29 -> 2024-01-28)\n"
     ]
    },
    {
     "name": "stdout",
     "output_type": "stream",
     "text": [
      "Error fetching data for TTF: No historical data available for TTF around 2024-01-28.\n",
      "Error fetching data for COBZ: No historical data available for COBZ around 2024-01-28.\n"
     ]
    },
    {
     "name": "stderr",
     "output_type": "stream",
     "text": [
      "$NPV-C: possibly delisted; no timezone found\n"
     ]
    },
    {
     "name": "stdout",
     "output_type": "stream",
     "text": [
      "Error fetching data for NPV-C: No historical data available for NPV-C around 2024-01-28.\n"
     ]
    },
    {
     "name": "stderr",
     "output_type": "stream",
     "text": [
      "$MJI: possibly delisted; no price data found  (1d 2023-12-29 -> 2024-01-28)\n"
     ]
    },
    {
     "name": "stdout",
     "output_type": "stream",
     "text": [
      "Error fetching data for MJI: No historical data available for MJI around 2024-01-28.\n"
     ]
    },
    {
     "name": "stderr",
     "output_type": "stream",
     "text": [
      "$HWAY: possibly delisted; no price data found  (1d 2023-12-29 -> 2024-01-28) (Yahoo error = \"Data doesn't exist for startDate = 1703826000, endDate = 1706418000\")\n"
     ]
    },
    {
     "name": "stdout",
     "output_type": "stream",
     "text": [
      "Error fetching data for HWAY: No historical data available for HWAY around 2024-01-28.\n"
     ]
    },
    {
     "name": "stderr",
     "output_type": "stream",
     "text": [
      "$DXPS: possibly delisted; no timezone found\n"
     ]
    },
    {
     "name": "stdout",
     "output_type": "stream",
     "text": [
      "Error fetching data for DXPS: No historical data available for DXPS around 2024-01-28.\n"
     ]
    },
    {
     "name": "stderr",
     "output_type": "stream",
     "text": [
      "$GM.A: possibly delisted; no timezone found\n"
     ]
    },
    {
     "name": "stdout",
     "output_type": "stream",
     "text": [
      "Error fetching data for GM.A: No historical data available for GM.A around 2024-01-28.\n"
     ]
    },
    {
     "name": "stderr",
     "output_type": "stream",
     "text": [
      "$GHDX: possibly delisted; no timezone found\n"
     ]
    },
    {
     "name": "stdout",
     "output_type": "stream",
     "text": [
      "Error fetching data for GHDX: No historical data available for GHDX around 2024-01-28.\n"
     ]
    },
    {
     "name": "stderr",
     "output_type": "stream",
     "text": [
      "$MCQ: possibly delisted; no timezone found\n"
     ]
    },
    {
     "name": "stdout",
     "output_type": "stream",
     "text": [
      "Error fetching data for MCQ: No historical data available for MCQ around 2024-01-28.\n"
     ]
    },
    {
     "name": "stderr",
     "output_type": "stream",
     "text": [
      "$LFL: possibly delisted; no price data found  (1d 2023-12-29 -> 2024-01-28)\n",
      "$PERY: possibly delisted; no price data found  (1d 2023-12-29 -> 2024-01-28)\n"
     ]
    },
    {
     "name": "stdout",
     "output_type": "stream",
     "text": [
      "Error fetching data for LFL: No historical data available for LFL around 2024-01-28.\n",
      "Error fetching data for PERY: No historical data available for PERY around 2024-01-28.\n"
     ]
    },
    {
     "name": "stderr",
     "output_type": "stream",
     "text": [
      "$IBCPO: possibly delisted; no price data found  (1d 2023-12-29 -> 2024-01-28)\n"
     ]
    },
    {
     "name": "stdout",
     "output_type": "stream",
     "text": [
      "Error fetching data for IBCPO: No historical data available for IBCPO around 2024-01-28.\n"
     ]
    },
    {
     "name": "stderr",
     "output_type": "stream",
     "text": [
      "$DVCR: possibly delisted; no timezone found\n",
      "$BTH: possibly delisted; no price data found  (1d 2023-12-29 -> 2024-01-28)\n"
     ]
    },
    {
     "name": "stdout",
     "output_type": "stream",
     "text": [
      "Error fetching data for DVCR: No historical data available for DVCR around 2024-01-28.\n",
      "Error fetching data for BTH: No historical data available for BTH around 2024-01-28.\n"
     ]
    },
    {
     "name": "stderr",
     "output_type": "stream",
     "text": [
      "$CRESW: possibly delisted; no price data found  (1d 2023-12-29 -> 2024-01-28)\n"
     ]
    },
    {
     "name": "stdout",
     "output_type": "stream",
     "text": [
      "Error fetching data for CRESW: No historical data available for CRESW around 2024-01-28.\n"
     ]
    },
    {
     "name": "stderr",
     "output_type": "stream",
     "text": [
      "$NCT-D: possibly delisted; no timezone found\n"
     ]
    },
    {
     "name": "stdout",
     "output_type": "stream",
     "text": [
      "Error fetching data for NCT-D: No historical data available for NCT-D around 2024-01-28.\n"
     ]
    },
    {
     "name": "stderr",
     "output_type": "stream",
     "text": [
      "$NID: possibly delisted; no timezone found\n"
     ]
    },
    {
     "name": "stdout",
     "output_type": "stream",
     "text": [
      "Error fetching data for NID: No historical data available for NID around 2024-01-28.\n"
     ]
    },
    {
     "name": "stderr",
     "output_type": "stream",
     "text": [
      "$FCHI: possibly delisted; no timezone found\n"
     ]
    },
    {
     "name": "stdout",
     "output_type": "stream",
     "text": [
      "Error fetching data for FCHI: No historical data available for FCHI around 2024-01-28.\n"
     ]
    },
    {
     "name": "stderr",
     "output_type": "stream",
     "text": [
      "$PACD: possibly delisted; no timezone found\n"
     ]
    },
    {
     "name": "stdout",
     "output_type": "stream",
     "text": [
      "Error fetching data for PACD: No historical data available for PACD around 2024-01-28.\n"
     ]
    },
    {
     "name": "stderr",
     "output_type": "stream",
     "text": [
      "$GRO: possibly delisted; no price data found  (1d 2023-12-29 -> 2024-01-28) (Yahoo error = \"Data doesn't exist for startDate = 1703826000, endDate = 1706418000\")\n"
     ]
    },
    {
     "name": "stdout",
     "output_type": "stream",
     "text": [
      "Error fetching data for GRO: No historical data available for GRO around 2024-01-28.\n"
     ]
    },
    {
     "name": "stderr",
     "output_type": "stream",
     "text": [
      "$AIMC: possibly delisted; no timezone found\n"
     ]
    },
    {
     "name": "stdout",
     "output_type": "stream",
     "text": [
      "Error fetching data for AIMC: No historical data available for AIMC around 2024-01-28.\n"
     ]
    },
    {
     "name": "stderr",
     "output_type": "stream",
     "text": [
      "$ANDAW: possibly delisted; no timezone found\n"
     ]
    },
    {
     "name": "stdout",
     "output_type": "stream",
     "text": [
      "Error fetching data for ANDAW: No historical data available for ANDAW around 2024-01-28.\n"
     ]
    },
    {
     "name": "stderr",
     "output_type": "stream",
     "text": [
      "$NZF-C: possibly delisted; no timezone found\n"
     ]
    },
    {
     "name": "stdout",
     "output_type": "stream",
     "text": [
      "Error fetching data for NZF-C: No historical data available for NZF-C around 2024-01-28.\n"
     ]
    },
    {
     "name": "stderr",
     "output_type": "stream",
     "text": [
      "$FCH: possibly delisted; no price data found  (1d 2023-12-29 -> 2024-01-28)\n",
      "$GTIV: possibly delisted; no price data found  (1d 2023-12-29 -> 2024-01-28)\n"
     ]
    },
    {
     "name": "stdout",
     "output_type": "stream",
     "text": [
      "Error fetching data for FCH: No historical data available for FCH around 2024-01-28.\n",
      "Error fetching data for GTIV: No historical data available for GTIV around 2024-01-28.\n"
     ]
    },
    {
     "name": "stderr",
     "output_type": "stream",
     "text": [
      "$MOSY: possibly delisted; no timezone found\n"
     ]
    },
    {
     "name": "stdout",
     "output_type": "stream",
     "text": [
      "Error fetching data for MOSY: No historical data available for MOSY around 2024-01-28.\n"
     ]
    },
    {
     "name": "stderr",
     "output_type": "stream",
     "text": [
      "$GDP-D: possibly delisted; no timezone found\n"
     ]
    },
    {
     "name": "stdout",
     "output_type": "stream",
     "text": [
      "Error fetching data for GDP-D: No historical data available for GDP-D around 2024-01-28.\n"
     ]
    },
    {
     "name": "stderr",
     "output_type": "stream",
     "text": [
      "$RMGN: possibly delisted; no price data found  (1d 2023-12-29 -> 2024-01-28)\n"
     ]
    },
    {
     "name": "stdout",
     "output_type": "stream",
     "text": [
      "Error fetching data for RMGN: No historical data available for RMGN around 2024-01-28.\n",
      "Error fetching data for TYY-C: Too Many Requests. Rate limited. Try after a while.\n",
      "Error fetching data for STMP: Too Many Requests. Rate limited. Try after a while.\n",
      "Error fetching data for MSA: Too Many Requests. Rate limited. Try after a while.\n",
      "Error fetching data for LOJN: Too Many Requests. Rate limited. Try after a while.\n",
      "Error fetching data for WLBPZ: Too Many Requests. Rate limited. Try after a while.\n",
      "Error fetching data for DGIT: Too Many Requests. Rate limited. Try after a while.\n",
      "Error fetching data for BKEP: Too Many Requests. Rate limited. Try after a while.\n",
      "Error fetching data for GEF: Too Many Requests. Rate limited. Try after a while.\n",
      "Error fetching data for EEI: Too Many Requests. Rate limited. Try after a while.\n",
      "Error fetching data for ARDNA: Too Many Requests. Rate limited. Try after a while.\n",
      "Error fetching data for FN: Too Many Requests. Rate limited. Try after a while.\n",
      "Error fetching data for NPV: Too Many Requests. Rate limited. Try after a while.\n",
      "Error fetching data for LINC: Too Many Requests. Rate limited. Try after a while.\n",
      "Error fetching data for AVK: Too Many Requests. Rate limited. Try after a while.\n",
      "Error fetching data for CECE: Too Many Requests. Rate limited. Try after a while.\n",
      "Error fetching data for MWV: Too Many Requests. Rate limited. Try after a while.\n",
      "Error fetching data for MTD: Too Many Requests. Rate limited. Try after a while.\n",
      "Error fetching data for CMU: Too Many Requests. Rate limited. Try after a while.\n",
      "Error fetching data for BLT: Too Many Requests. Rate limited. Try after a while.\n",
      "Error fetching data for NCI: Too Many Requests. Rate limited. Try after a while.\n",
      "Error fetching data for AIB: Too Many Requests. Rate limited. Try after a while.\n",
      "Error fetching data for RNP: Too Many Requests. Rate limited. Try after a while.\n",
      "Error fetching data for NVC: Too Many Requests. Rate limited. Try after a while.\n",
      "Error fetching data for GS-J: Too Many Requests. Rate limited. Try after a while.\n",
      "Error fetching data for MHD: Too Many Requests. Rate limited. Try after a while.\n",
      "Error fetching data for ALEX: Too Many Requests. Rate limited. Try after a while.\n",
      "Error fetching data for GMED: Too Many Requests. Rate limited. Try after a while.\n",
      "Error fetching data for CROX: Too Many Requests. Rate limited. Try after a while.\n",
      "Error fetching data for ROICW: Too Many Requests. Rate limited. Try after a while.\n",
      "Error fetching data for NQU: Too Many Requests. Rate limited. Try after a while.\n",
      "Error fetching data for AIQ: Too Many Requests. Rate limited. Try after a while.\n",
      "Error fetching data for ABM: Too Many Requests. Rate limited. Try after a while.\n",
      "Error fetching data for RICK: Too Many Requests. Rate limited. Try after a while.\n",
      "Error fetching data for PNRA: Too Many Requests. Rate limited. Try after a while.\n",
      "Error fetching data for NMY-F: Too Many Requests. Rate limited. Try after a while.\n",
      "Error fetching data for N: Too Many Requests. Rate limited. Try after a while.\n",
      "Error fetching data for KT: Too Many Requests. Rate limited. Try after a while.\n",
      "Error fetching data for AVID: Too Many Requests. Rate limited. Try after a while.\n",
      "Error fetching data for RKT: Too Many Requests. Rate limited. Try after a while.\n",
      "Error fetching data for ACRX: Too Many Requests. Rate limited. Try after a while.\n",
      "Error fetching data for PRKR: Too Many Requests. Rate limited. Try after a while.\n",
      "Error fetching data for DPZ: Too Many Requests. Rate limited. Try after a while.\n",
      "Error fetching data for QNST: Too Many Requests. Rate limited. Try after a while.\n",
      "Error fetching data for AXGN: Too Many Requests. Rate limited. Try after a while.\n",
      "Error fetching data for ABCO: Too Many Requests. Rate limited. Try after a while.\n",
      "Error fetching data for CBU: Too Many Requests. Rate limited. Try after a while.\n",
      "Error fetching data for PFLT: Too Many Requests. Rate limited. Try after a while.\n",
      "Error fetching data for KWN: Too Many Requests. Rate limited. Try after a while.\n",
      "Error fetching data for PNC.W: Too Many Requests. Rate limited. Try after a while.\n",
      "Error fetching data for MGAM: Too Many Requests. Rate limited. Try after a while.\n",
      "Error fetching data for OPOF: Too Many Requests. Rate limited. Try after a while.\n",
      "Error fetching data for ORIT: Too Many Requests. Rate limited. Try after a while.\n",
      "Error fetching data for MTB-C: Too Many Requests. Rate limited. Try after a while.\n",
      "Error fetching data for Z: Too Many Requests. Rate limited. Try after a while.\n",
      "Error fetching data for AVG: Too Many Requests. Rate limited. Try after a while.\n",
      "Error fetching data for GIL: Too Many Requests. Rate limited. Try after a while.\n",
      "Error fetching data for FLIR: Too Many Requests. Rate limited. Try after a while.\n",
      "Error fetching data for ITUB: Too Many Requests. Rate limited. Try after a while.\n",
      "Error fetching data for LAS: Too Many Requests. Rate limited. Try after a while.\n",
      "Error fetching data for ADTN: Too Many Requests. Rate limited. Try after a while.\n",
      "Error fetching data for NXC: Too Many Requests. Rate limited. Try after a while.\n",
      "Error fetching data for XCO: Too Many Requests. Rate limited. Try after a while.\n",
      "Error fetching data for ASI: Too Many Requests. Rate limited. Try after a while.\n",
      "Error fetching data for NAVG: Too Many Requests. Rate limited. Try after a while.\n",
      "Error fetching data for CLFD: Too Many Requests. Rate limited. Try after a while.\n",
      "Error fetching data for FONR: Too Many Requests. Rate limited. Try after a while.\n",
      "Error fetching data for NCS: Too Many Requests. Rate limited. Try after a while.\n",
      "Error fetching data for HJN: Too Many Requests. Rate limited. Try after a while.\n",
      "Error fetching data for YPF: Too Many Requests. Rate limited. Try after a while.\n",
      "Error fetching data for SSTK: Too Many Requests. Rate limited. Try after a while.\n",
      "Error fetching data for CMS: Too Many Requests. Rate limited. Try after a while.\n",
      "Error fetching data for DDR-H: Too Many Requests. Rate limited. Try after a while.\n",
      "Error fetching data for TITN: Too Many Requests. Rate limited. Try after a while.\n",
      "Error fetching data for UTHR: Too Many Requests. Rate limited. Try after a while.\n",
      "Error fetching data for RDC: Too Many Requests. Rate limited. Try after a while.\n",
      "Error fetching data for ZB-F: Too Many Requests. Rate limited. Try after a while.\n",
      "Error fetching data for RNF: Too Many Requests. Rate limited. Try after a while.\n",
      "Error fetching data for PSA-X: Too Many Requests. Rate limited. Try after a while.\n",
      "Error fetching data for SHOO: Too Many Requests. Rate limited. Try after a while.\n",
      "Error fetching data for TCO-K: Too Many Requests. Rate limited. Try after a while.\n",
      "Error fetching data for MUA: Too Many Requests. Rate limited. Try after a while.\n",
      "Error fetching data for C-N: Too Many Requests. Rate limited. Try after a while.\n",
      "Error fetching data for FSFR: Too Many Requests. Rate limited. Try after a while.\n",
      "Error fetching data for SVU: Too Many Requests. Rate limited. Try after a while.\n",
      "Error fetching data for MYN: Too Many Requests. Rate limited. Try after a while.\n",
      "Error fetching data for ANAC: Too Many Requests. Rate limited. Try after a while.\n",
      "Error fetching data for SOCL: Too Many Requests. Rate limited. Try after a while.\n",
      "Error fetching data for EDS: Too Many Requests. Rate limited. Try after a while.\n",
      "Error fetching data for BEBE: Too Many Requests. Rate limited. Try after a while.\n",
      "Error fetching data for CVD: Too Many Requests. Rate limited. Try after a while.\n",
      "Error fetching data for AFSD: Too Many Requests. Rate limited. Try after a while.\n",
      "Error fetching data for NPTN: Too Many Requests. Rate limited. Try after a while.\n",
      "Error fetching data for VIAS: Too Many Requests. Rate limited. Try after a while.\n",
      "Error fetching data for BPT: Too Many Requests. Rate limited. Try after a while.\n",
      "Error fetching data for GBCI: Too Many Requests. Rate limited. Try after a while.\n",
      "Error fetching data for NAFC: Too Many Requests. Rate limited. Try after a while.\n",
      "Error fetching data for INFI: Too Many Requests. Rate limited. Try after a while.\n",
      "Error fetching data for AVV: Too Many Requests. Rate limited. Try after a while.\n",
      "Error fetching data for RYN: Too Many Requests. Rate limited. Try after a while.\n",
      "Error fetching data for PBI-A: Too Many Requests. Rate limited. Try after a while.\n"
     ]
    },
    {
     "name": "stderr",
     "output_type": "stream",
     "text": [
      "$MSCI: possibly delisted; no price data found  (1d 2023-12-29 -> 2024-01-28)\n"
     ]
    },
    {
     "name": "stdout",
     "output_type": "stream",
     "text": [
      "Error fetching data for MSCI: No historical data available for MSCI around 2024-01-28.\n",
      "Error fetching data for GLP: Too Many Requests. Rate limited. Try after a while.\n",
      "Error fetching data for TATT: Too Many Requests. Rate limited. Try after a while.\n",
      "Error fetching data for SMRT: Too Many Requests. Rate limited. Try after a while.\n",
      "Error fetching data for EMC: Too Many Requests. Rate limited. Try after a while.\n",
      "Error fetching data for BBSI: Too Many Requests. Rate limited. Try after a while.\n",
      "Error fetching data for XRM: Too Many Requests. Rate limited. Try after a while.\n",
      "Error fetching data for ACTV: Too Many Requests. Rate limited. Try after a while.\n",
      "Error fetching data for BITA: Too Many Requests. Rate limited. Try after a while.\n",
      "Error fetching data for MXF: Too Many Requests. Rate limited. Try after a while.\n",
      "Error fetching data for PLTM: Too Many Requests. Rate limited. Try after a while.\n",
      "Error fetching data for SNBC: Too Many Requests. Rate limited. Try after a while.\n",
      "Error fetching data for STEL: Too Many Requests. Rate limited. Try after a while.\n",
      "Error fetching data for MDSO: Too Many Requests. Rate limited. Try after a while.\n",
      "Error fetching data for NAZ-D: Too Many Requests. Rate limited. Try after a while.\n",
      "Error fetching data for NDRO: Too Many Requests. Rate limited. Try after a while.\n",
      "Error fetching data for WSCI: Too Many Requests. Rate limited. Try after a while.\n",
      "Error fetching data for NXM-C: Too Many Requests. Rate limited. Try after a while.\n",
      "Error fetching data for FFIV: Too Many Requests. Rate limited. Try after a while.\n",
      "Error fetching data for COA: Too Many Requests. Rate limited. Try after a while.\n",
      "Error fetching data for LHO-I: Too Many Requests. Rate limited. Try after a while.\n",
      "Error fetching data for CEVA: Too Many Requests. Rate limited. Try after a while.\n",
      "Error fetching data for SFE: Too Many Requests. Rate limited. Try after a while.\n",
      "Error fetching data for SGK: Too Many Requests. Rate limited. Try after a while.\n",
      "Error fetching data for NQP: Too Many Requests. Rate limited. Try after a while.\n",
      "Error fetching data for TDJ: Too Many Requests. Rate limited. Try after a while.\n",
      "Error fetching data for AFQ: Too Many Requests. Rate limited. Try after a while.\n",
      "Error fetching data for AEGN: Too Many Requests. Rate limited. Try after a while.\n",
      "Error fetching data for APOL: Too Many Requests. Rate limited. Try after a while.\n",
      "Error fetching data for GUT-A: Too Many Requests. Rate limited. Try after a while.\n",
      "Error fetching data for SOV-C: Too Many Requests. Rate limited. Try after a while.\n",
      "Error fetching data for NVGN: Too Many Requests. Rate limited. Try after a while.\n",
      "Error fetching data for PEIX: Too Many Requests. Rate limited. Try after a while.\n",
      "Error fetching data for MYC: Too Many Requests. Rate limited. Try after a while.\n",
      "Error fetching data for HBNK: Too Many Requests. Rate limited. Try after a while.\n",
      "Error fetching data for HIX: Too Many Requests. Rate limited. Try after a while.\n",
      "Error fetching data for FBMS: Too Many Requests. Rate limited. Try after a while.\n",
      "Error fetching data for OFS: Too Many Requests. Rate limited. Try after a while.\n",
      "Error fetching data for SKX: Too Many Requests. Rate limited. Try after a while.\n",
      "Error fetching data for MORN: Too Many Requests. Rate limited. Try after a while.\n",
      "Error fetching data for CADX: Too Many Requests. Rate limited. Try after a while.\n",
      "Error fetching data for RCON: Too Many Requests. Rate limited. Try after a while.\n",
      "Error fetching data for CSQ: Too Many Requests. Rate limited. Try after a while.\n",
      "Error fetching data for SIAL: Too Many Requests. Rate limited. Try after a while.\n",
      "Error fetching data for INDY: Too Many Requests. Rate limited. Try after a while.\n",
      "Error fetching data for CLRX: Too Many Requests. Rate limited. Try after a while.\n",
      "Error fetching data for JJSF: Too Many Requests. Rate limited. Try after a while.\n",
      "Error fetching data for SUMR: Too Many Requests. Rate limited. Try after a while.\n",
      "Error fetching data for HZO: Too Many Requests. Rate limited. Try after a while.\n",
      "Error fetching data for NWL: Too Many Requests. Rate limited. Try after a while.\n",
      "Error fetching data for DDS: Too Many Requests. Rate limited. Try after a while.\n",
      "Error fetching data for CSG: Too Many Requests. Rate limited. Try after a while.\n",
      "Error fetching data for CDE.W: Too Many Requests. Rate limited. Try after a while.\n",
      "Error fetching data for DD-A: Too Many Requests. Rate limited. Try after a while.\n",
      "Error fetching data for BEE: Too Many Requests. Rate limited. Try after a while.\n",
      "Error fetching data for BHI: Too Many Requests. Rate limited. Try after a while.\n",
      "Error fetching data for CETV: Too Many Requests. Rate limited. Try after a while.\n",
      "Error fetching data for TDY: Too Many Requests. Rate limited. Try after a while.\n",
      "Error fetching data for CSP: Too Many Requests. Rate limited. Try after a while.\n",
      "Error fetching data for MSJ: Too Many Requests. Rate limited. Try after a while.\n",
      "Error fetching data for HTGY: Too Many Requests. Rate limited. Try after a while.\n",
      "Error fetching data for AVEO: Too Many Requests. Rate limited. Try after a while.\n",
      "Error fetching data for BWP: Too Many Requests. Rate limited. Try after a while.\n",
      "Error fetching data for BIO.B: Too Many Requests. Rate limited. Try after a while.\n",
      "Error fetching data for RCS: Too Many Requests. Rate limited. Try after a while.\n",
      "Error fetching data for FMN: Too Many Requests. Rate limited. Try after a while.\n",
      "Error fetching data for WMGI: Too Many Requests. Rate limited. Try after a while.\n",
      "Error fetching data for XLS: Too Many Requests. Rate limited. Try after a while.\n",
      "Error fetching data for INTU: Too Many Requests. Rate limited. Try after a while.\n",
      "Error fetching data for FMNB: Too Many Requests. Rate limited. Try after a while.\n",
      "Error fetching data for OVTI: Too Many Requests. Rate limited. Try after a while.\n",
      "Error fetching data for SE: Too Many Requests. Rate limited. Try after a while.\n",
      "Error fetching data for NC: Too Many Requests. Rate limited. Try after a while.\n",
      "Error fetching data for RLI: Too Many Requests. Rate limited. Try after a while.\n",
      "Error fetching data for INCY: Too Many Requests. Rate limited. Try after a while.\n",
      "Error fetching data for AETI: Too Many Requests. Rate limited. Try after a while.\n",
      "Error fetching data for BKT: Too Many Requests. Rate limited. Try after a while.\n",
      "Error fetching data for JFR: Too Many Requests. Rate limited. Try after a while.\n",
      "Error fetching data for PBF: Too Many Requests. Rate limited. Try after a while.\n",
      "Error fetching data for FRC-D: Too Many Requests. Rate limited. Try after a while.\n",
      "Error fetching data for RBS-R: Too Many Requests. Rate limited. Try after a while.\n",
      "Error fetching data for NHTB: Too Many Requests. Rate limited. Try after a while.\n",
      "Error fetching data for PEB-C: Too Many Requests. Rate limited. Try after a while.\n",
      "Error fetching data for QPACU: Too Many Requests. Rate limited. Try after a while.\n",
      "Error fetching data for KOS: Too Many Requests. Rate limited. Try after a while.\n",
      "Error fetching data for HMY: Too Many Requests. Rate limited. Try after a while.\n",
      "Error fetching data for USB-O: Too Many Requests. Rate limited. Try after a while.\n",
      "Error fetching data for PMM: Too Many Requests. Rate limited. Try after a while.\n",
      "Error fetching data for ANH-B: Too Many Requests. Rate limited. Try after a while.\n",
      "Error fetching data for AXLL: Too Many Requests. Rate limited. Try after a while.\n",
      "Error fetching data for SCD: Too Many Requests. Rate limited. Try after a while.\n",
      "Error fetching data for CP: Too Many Requests. Rate limited. Try after a while.\n",
      "Error fetching data for RMT: Too Many Requests. Rate limited. Try after a while.\n",
      "Error fetching data for PEBK: Too Many Requests. Rate limited. Try after a while.\n",
      "Error fetching data for TG: Too Many Requests. Rate limited. Try after a while.\n",
      "Error fetching data for BMTC: Too Many Requests. Rate limited. Try after a while.\n"
     ]
    },
    {
     "name": "stderr",
     "output_type": "stream",
     "text": [
      "$TYG-B: possibly delisted; no timezone found\n"
     ]
    },
    {
     "name": "stdout",
     "output_type": "stream",
     "text": [
      "Error fetching data for TYG-B: No historical data available for TYG-B around 2024-01-28.\n"
     ]
    },
    {
     "name": "stderr",
     "output_type": "stream",
     "text": [
      "$AFH: possibly delisted; no timezone found\n"
     ]
    },
    {
     "name": "stdout",
     "output_type": "stream",
     "text": [
      "Error fetching data for AFH: No historical data available for AFH around 2024-01-28.\n"
     ]
    },
    {
     "name": "stderr",
     "output_type": "stream",
     "text": [
      "$JSD: possibly delisted; no timezone found\n"
     ]
    },
    {
     "name": "stdout",
     "output_type": "stream",
     "text": [
      "Error fetching data for JSD: No historical data available for JSD around 2024-01-28.\n"
     ]
    },
    {
     "name": "stderr",
     "output_type": "stream",
     "text": [
      "$AFC: possibly delisted; no timezone found\n"
     ]
    },
    {
     "name": "stdout",
     "output_type": "stream",
     "text": [
      "Error fetching data for AFC: No historical data available for AFC around 2024-01-28.\n"
     ]
    },
    {
     "name": "stderr",
     "output_type": "stream",
     "text": [
      "$SORL: possibly delisted; no timezone found\n"
     ]
    },
    {
     "name": "stdout",
     "output_type": "stream",
     "text": [
      "Error fetching data for SORL: No historical data available for SORL around 2024-01-28.\n"
     ]
    },
    {
     "name": "stderr",
     "output_type": "stream",
     "text": [
      "$JCP: possibly delisted; no timezone found\n"
     ]
    },
    {
     "name": "stdout",
     "output_type": "stream",
     "text": [
      "Error fetching data for JCP: No historical data available for JCP around 2024-01-28.\n"
     ]
    },
    {
     "name": "stderr",
     "output_type": "stream",
     "text": [
      "$WPCS: possibly delisted; no price data found  (1d 2023-12-29 -> 2024-01-28)\n",
      "$RIT: possibly delisted; no price data found  (1d 2023-12-29 -> 2024-01-28)\n"
     ]
    },
    {
     "name": "stdout",
     "output_type": "stream",
     "text": [
      "Error fetching data for AGNCP: unsupported operand type(s) for /: 'NoneType' and 'float'\n",
      "Error fetching data for WPCS: No historical data available for WPCS around 2024-01-28.\n",
      "Error fetching data for RIT: No historical data available for RIT around 2024-01-28.\n"
     ]
    },
    {
     "name": "stderr",
     "output_type": "stream",
     "text": [
      "$SGOC: possibly delisted; no timezone found\n"
     ]
    },
    {
     "name": "stdout",
     "output_type": "stream",
     "text": [
      "Error fetching data for SGOC: No historical data available for SGOC around 2024-01-28.\n"
     ]
    },
    {
     "name": "stderr",
     "output_type": "stream",
     "text": [
      "$RBS-S: possibly delisted; no timezone found\n",
      "$CFI: possibly delisted; no price data found  (1d 2023-12-29 -> 2024-01-28)\n"
     ]
    },
    {
     "name": "stdout",
     "output_type": "stream",
     "text": [
      "Error fetching data for RBS-S: No historical data available for RBS-S around 2024-01-28.\n",
      "Error fetching data for CFI: No historical data available for CFI around 2024-01-28.\n"
     ]
    },
    {
     "name": "stderr",
     "output_type": "stream",
     "text": [
      "$KMR: possibly delisted; no price data found  (1d 2023-12-29 -> 2024-01-28)\n"
     ]
    },
    {
     "name": "stdout",
     "output_type": "stream",
     "text": [
      "Error fetching data for KMR: No historical data available for KMR around 2024-01-28.\n"
     ]
    },
    {
     "name": "stderr",
     "output_type": "stream",
     "text": [
      "$MSF: possibly delisted; no timezone found\n"
     ]
    },
    {
     "name": "stdout",
     "output_type": "stream",
     "text": [
      "Error fetching data for MSF: No historical data available for MSF around 2024-01-28.\n"
     ]
    },
    {
     "name": "stderr",
     "output_type": "stream",
     "text": [
      "$SIX: possibly delisted; no timezone found\n"
     ]
    },
    {
     "name": "stdout",
     "output_type": "stream",
     "text": [
      "Error fetching data for SIX: No historical data available for SIX around 2024-01-28.\n"
     ]
    },
    {
     "name": "stderr",
     "output_type": "stream",
     "text": [
      "$SWY: possibly delisted; no price data found  (1d 2023-12-29 -> 2024-01-28)\n"
     ]
    },
    {
     "name": "stdout",
     "output_type": "stream",
     "text": [
      "Error fetching data for SWY: No historical data available for SWY around 2024-01-28.\n"
     ]
    },
    {
     "name": "stderr",
     "output_type": "stream",
     "text": [
      "$NNA: possibly delisted; no timezone found\n"
     ]
    },
    {
     "name": "stdout",
     "output_type": "stream",
     "text": [
      "Error fetching data for NNA: No historical data available for NNA around 2024-01-28.\n"
     ]
    },
    {
     "name": "stderr",
     "output_type": "stream",
     "text": [
      "$MFRI: possibly delisted; no price data found  (1d 2023-12-29 -> 2024-01-28)\n"
     ]
    },
    {
     "name": "stdout",
     "output_type": "stream",
     "text": [
      "Error fetching data for MFRI: No historical data available for MFRI around 2024-01-28.\n"
     ]
    },
    {
     "name": "stderr",
     "output_type": "stream",
     "text": [
      "$MDVN: possibly delisted; no price data found  (1d 2023-12-29 -> 2024-01-28)\n"
     ]
    },
    {
     "name": "stdout",
     "output_type": "stream",
     "text": [
      "Error fetching data for MDVN: No historical data available for MDVN around 2024-01-28.\n"
     ]
    },
    {
     "name": "stderr",
     "output_type": "stream",
     "text": [
      "$GSVC: possibly delisted; no timezone found\n",
      "$PCCC: possibly delisted; no price data found  (1d 2023-12-29 -> 2024-01-28)\n"
     ]
    },
    {
     "name": "stdout",
     "output_type": "stream",
     "text": [
      "Error fetching data for GSVC: No historical data available for GSVC around 2024-01-28.\n",
      "Error fetching data for PCCC: No historical data available for PCCC around 2024-01-28.\n"
     ]
    },
    {
     "name": "stderr",
     "output_type": "stream",
     "text": [
      "$CTWS: possibly delisted; no timezone found\n",
      "$AV: possibly delisted; no price data found  (1d 2023-12-29 -> 2024-01-28)\n"
     ]
    },
    {
     "name": "stdout",
     "output_type": "stream",
     "text": [
      "Error fetching data for CTWS: No historical data available for CTWS around 2024-01-28.\n",
      "Error fetching data for AV: No historical data available for AV around 2024-01-28.\n"
     ]
    },
    {
     "name": "stderr",
     "output_type": "stream",
     "text": [
      "$BIRT: possibly delisted; no price data found  (1d 2023-12-29 -> 2024-01-28)\n"
     ]
    },
    {
     "name": "stdout",
     "output_type": "stream",
     "text": [
      "Error fetching data for BIRT: No historical data available for BIRT around 2024-01-28.\n"
     ]
    },
    {
     "name": "stderr",
     "output_type": "stream",
     "text": [
      "$MAMS: possibly delisted; no timezone found\n"
     ]
    },
    {
     "name": "stdout",
     "output_type": "stream",
     "text": [
      "Error fetching data for MAMS: No historical data available for MAMS around 2024-01-28.\n"
     ]
    },
    {
     "name": "stderr",
     "output_type": "stream",
     "text": [
      "$HEOP: possibly delisted; no price data found  (1d 2023-12-29 -> 2024-01-28)\n"
     ]
    },
    {
     "name": "stdout",
     "output_type": "stream",
     "text": [
      "Error fetching data for HEOP: No historical data available for HEOP around 2024-01-28.\n"
     ]
    },
    {
     "name": "stderr",
     "output_type": "stream",
     "text": [
      "$EIHI: possibly delisted; no price data found  (1d 2023-12-29 -> 2024-01-28)\n"
     ]
    },
    {
     "name": "stdout",
     "output_type": "stream",
     "text": [
      "Error fetching data for EIHI: No historical data available for EIHI around 2024-01-28.\n"
     ]
    },
    {
     "name": "stderr",
     "output_type": "stream",
     "text": [
      "$BCOM: possibly delisted; no timezone found\n"
     ]
    },
    {
     "name": "stdout",
     "output_type": "stream",
     "text": [
      "Error fetching data for BCOM: No historical data available for BCOM around 2024-01-28.\n"
     ]
    },
    {
     "name": "stderr",
     "output_type": "stream",
     "text": [
      "$MON: possibly delisted; no timezone found\n",
      "$CHLN: possibly delisted; no price data found  (1d 2023-12-29 -> 2024-01-28)\n"
     ]
    },
    {
     "name": "stdout",
     "output_type": "stream",
     "text": [
      "Error fetching data for MON: No historical data available for MON around 2024-01-28.\n",
      "Error fetching data for CHLN: No historical data available for CHLN around 2024-01-28.\n"
     ]
    },
    {
     "name": "stderr",
     "output_type": "stream",
     "text": [
      "$NMY-C: possibly delisted; no timezone found\n"
     ]
    },
    {
     "name": "stdout",
     "output_type": "stream",
     "text": [
      "Error fetching data for NMY-C: No historical data available for NMY-C around 2024-01-28.\n"
     ]
    },
    {
     "name": "stderr",
     "output_type": "stream",
     "text": [
      "$BBNK: possibly delisted; no price data found  (1d 2023-12-29 -> 2024-01-28)\n"
     ]
    },
    {
     "name": "stdout",
     "output_type": "stream",
     "text": [
      "Error fetching data for BBNK: No historical data available for BBNK around 2024-01-28.\n"
     ]
    },
    {
     "name": "stderr",
     "output_type": "stream",
     "text": [
      "$GRIF: possibly delisted; no timezone found\n"
     ]
    },
    {
     "name": "stdout",
     "output_type": "stream",
     "text": [
      "Error fetching data for GRIF: No historical data available for GRIF around 2024-01-28.\n"
     ]
    },
    {
     "name": "stderr",
     "output_type": "stream",
     "text": [
      "$ARCW: possibly delisted; no timezone found\n"
     ]
    },
    {
     "name": "stdout",
     "output_type": "stream",
     "text": [
      "Error fetching data for ARCW: No historical data available for ARCW around 2024-01-28.\n"
     ]
    },
    {
     "name": "stderr",
     "output_type": "stream",
     "text": [
      "$LUK: possibly delisted; no price data found  (1d 2023-12-29 -> 2024-01-28)\n"
     ]
    },
    {
     "name": "stdout",
     "output_type": "stream",
     "text": [
      "Error fetching data for LUK: No historical data available for LUK around 2024-01-28.\n"
     ]
    },
    {
     "name": "stderr",
     "output_type": "stream",
     "text": [
      "$SCMP: possibly delisted; no price data found  (1d 2023-12-29 -> 2024-01-28)\n"
     ]
    },
    {
     "name": "stdout",
     "output_type": "stream",
     "text": [
      "Error fetching data for SCMP: No historical data available for SCMP around 2024-01-28.\n"
     ]
    },
    {
     "name": "stderr",
     "output_type": "stream",
     "text": [
      "$GGT-B: possibly delisted; no timezone found\n",
      "$APL: possibly delisted; no price data found  (1d 2023-12-29 -> 2024-01-28)\n"
     ]
    },
    {
     "name": "stdout",
     "output_type": "stream",
     "text": [
      "Error fetching data for GGT-B: No historical data available for GGT-B around 2024-01-28.\n",
      "Error fetching data for APL: No historical data available for APL around 2024-01-28.\n"
     ]
    },
    {
     "name": "stderr",
     "output_type": "stream",
     "text": [
      "$ENOC: possibly delisted; no price data found  (1d 2023-12-29 -> 2024-01-28)\n"
     ]
    },
    {
     "name": "stdout",
     "output_type": "stream",
     "text": [
      "Error fetching data for ENOC: No historical data available for ENOC around 2024-01-28.\n"
     ]
    },
    {
     "name": "stderr",
     "output_type": "stream",
     "text": [
      "$NETE: possibly delisted; no timezone found\n"
     ]
    },
    {
     "name": "stdout",
     "output_type": "stream",
     "text": [
      "Error fetching data for NETE: No historical data available for NETE around 2024-01-28.\n"
     ]
    },
    {
     "name": "stderr",
     "output_type": "stream",
     "text": [
      "$BPOPN: possibly delisted; no timezone found\n",
      "$VRNM: possibly delisted; no price data found  (1d 2023-12-29 -> 2024-01-28)\n"
     ]
    },
    {
     "name": "stdout",
     "output_type": "stream",
     "text": [
      "Error fetching data for BPOPN: No historical data available for BPOPN around 2024-01-28.\n",
      "Error fetching data for VRNM: No historical data available for VRNM around 2024-01-28.\n"
     ]
    },
    {
     "name": "stderr",
     "output_type": "stream",
     "text": [
      "$MXIM: possibly delisted; no timezone found\n"
     ]
    },
    {
     "name": "stdout",
     "output_type": "stream",
     "text": [
      "Error fetching data for MXIM: No historical data available for MXIM around 2024-01-28.\n"
     ]
    },
    {
     "name": "stderr",
     "output_type": "stream",
     "text": [
      "$EMCI: possibly delisted; no timezone found\n"
     ]
    },
    {
     "name": "stdout",
     "output_type": "stream",
     "text": [
      "Error fetching data for EMCI: No historical data available for EMCI around 2024-01-28.\n"
     ]
    },
    {
     "data": {
      "text/html": [],
      "text/plain": [
       "<IPython.core.display.HTML object>"
      ]
     },
     "metadata": {},
     "output_type": "display_data"
    },
    {
     "name": "stdout",
     "output_type": "stream",
     "text": [
      "Logged evaluation results to /Users/victor/Documents/GitHub/VS-Code/Side-Projects/TrainedModels/stockScreener/modelEvaluations.csv\n"
     ]
    },
    {
     "data": {
      "image/png": "[encoded data removed]",
      "text/plain": [
       "<Figure size 1200x800 with 2 Axes>"
      ]
     },
     "metadata": {},
     "output_type": "display_data"
    },
    {
     "name": "stdout",
     "output_type": "stream",
     "text": [
      "Collected 174 valid test tickers (target: 200)\n",
      "Warning: Reached max attempts (800). Some invalid tickers may remain.\n",
      "\n",
      "Evaluation Results:\n",
      "MAE: 0.328\n",
      "RMSE: 0.739\n",
      "R²: 0.077\n"
     ]
    }
   ],
   "source": [
    "def logEvaluation(model_name, mae, rmse, r2, model_folder, test_tickers):\n",
    "    \"\"\"Log evaluation metrics to CSV file\"\"\"\n",
    "    log_file = model_folder / \"modelEvaluations.csv\"\n",
    "    \n",
    "    new_entry_df = pd.DataFrame([{\n",
    "        \"Model Name\": model_name,\n",
    "        \"Timestamp\": datetime.now().strftime('%Y-%m-%d %H:%M'),\n",
    "        \"MAE\": f'{mae:.3f}',\n",
    "        \"RMSE\": f'{rmse:.3f}',\n",
    "        \"R2\": f'{r2:.3f}',\n",
    "        \"Epochs\": epochs,\n",
    "        \"Training Size\": trainingSize,\n",
    "        \"Test Size\": len(test_tickers),\n",
    "        \"Cat Names\": catNames,\n",
    "        \"Cont Names\": contNames,\n",
    "    }])\n",
    "    \n",
    "    try:\n",
    "        log_df = pd.read_csv(log_file)\n",
    "        log_df = pd.concat([log_df, new_entry_df], ignore_index=True)\n",
    "    except FileNotFoundError:\n",
    "        log_df = new_entry_df\n",
    "        \n",
    "    log_df.to_csv(log_file, index=False)\n",
    "    print(f\"Logged evaluation results to {log_file}\")\n",
    "\n",
    "def plotResults(results_df, model_name, model_folder):\n",
    "    \"\"\"Create and save visualization plots using all data points.\"\"\"\n",
    "    plt.figure(figsize=(12, 8))\n",
    "    \n",
    "    plt.subplot(2, 1, 1)\n",
    "    plt.scatter(results_df['Actual'], results_df['Predicted'], alpha=0.7, label='Predictions')\n",
    "    min_val = min(results_df['Actual'].min(), results_df['Predicted'].min())\n",
    "    max_val = max(results_df['Actual'].max(), results_df['Predicted'].max())\n",
    "    plt.plot([min_val, max_val], [min_val, max_val], color='red', linestyle='--', label='Perfect Prediction')\n",
    "    plt.title(f'Predicted vs. Actual Returns - {model_name}', fontsize=14)\n",
    "    plt.xlabel('Actual Returns')\n",
    "    plt.ylabel('Predicted Returns')\n",
    "    plt.legend()\n",
    "    plt.grid(alpha=0.5)\n",
    "    \n",
    "    plt.subplot(2, 1, 2)\n",
    "    plt.scatter(results_df['Predicted'], results_df['Residual'], alpha=0.7)\n",
    "    plt.axhline(y=0, color='r', linestyle='--')\n",
    "    plt.title('Residual Plot')\n",
    "    plt.xlabel('Predicted Returns')\n",
    "    plt.ylabel('Residual')\n",
    "    plt.grid(alpha=0.5)\n",
    "    \n",
    "    plt.tight_layout()\n",
    "    plt.show()\n",
    "\n",
    "if trainNewModel:\n",
    "    nonTrainingTickers = list(set(tickers) - set(trainingTickers))\n",
    "    validTestData = []\n",
    "    attempted_tickers = set()\n",
    "    attempts = 0\n",
    "\n",
    "    if testSize * 4 <= len(tickers):  \n",
    "        max_attempts = testSize * 4 # Prevent infinite loops\n",
    "    else:\n",
    "        max_attempts = len(tickers)\n",
    "\n",
    "    # Keep trying until we reach testSize or exhaust attempts\n",
    "    while len(validTestData) < testSize and attempts < max_attempts:\n",
    "        # Get a new ticker we haven't tried yet\n",
    "        remaining_tickers = [t for t in nonTrainingTickers if t not in attempted_tickers]\n",
    "        if not remaining_tickers:  # If all tried, reset attempted list\n",
    "            attempted_tickers = set()\n",
    "            remaining_tickers = nonTrainingTickers\n",
    "            \n",
    "        ticker = np.random.choice(remaining_tickers)\n",
    "        attempted_tickers.add(ticker)\n",
    "        attempts += 1\n",
    "\n",
    "        # Fetch and validate data\n",
    "        data = getTickerDataFrom1YrAgo(ticker)\n",
    "        if not data.empty and not data[['EV/EBIT', 'ROIC']].isna().any().any():\n",
    "            validTestData.append(data)\n",
    "\n",
    "    if not validTestData:\n",
    "        raise ValueError(\"No valid test data collected after multiple attempts\")\n",
    "        \n",
    "    # Trim to exact testSize if we collected more\n",
    "    validTestData = validTestData[:testSize]  \n",
    "    combinedTestData = pd.concat(validTestData, ignore_index=True)\n",
    "\n",
    "    # Clean data\n",
    "    test_data_clean = combinedTestData.dropna(subset=['EV/EBIT', 'ROIC', 'Future Year Change'])\n",
    "    \n",
    "    if test_data_clean.empty:\n",
    "        raise ValueError(\"No valid test data after cleaning NaN values\")\n",
    "\n",
    "    # Create test dataloader\n",
    "    test_dl = learn.dls.test_dl(test_data_clean)\n",
    "    preds, targs = learn.get_preds(dl=test_dl)\n",
    "    \n",
    "    # Create results DataFrame\n",
    "    results_df = pd.DataFrame({\n",
    "        'Predicted': preds.numpy().flatten(),\n",
    "        'Actual': targs.numpy().flatten()\n",
    "    })\n",
    "    results_df['Residual'] = results_df['Actual'] - results_df['Predicted']\n",
    "\n",
    "    # Calculate metrics\n",
    "    mae = np.mean(np.abs(results_df['Residual']))\n",
    "    rmse = np.sqrt(np.mean(results_df['Residual']**2))\n",
    "    r2 = 1 - (np.sum(results_df['Residual']**2) / np.sum((results_df['Actual'] - results_df['Actual'].mean())**2))\n",
    "\n",
    "    # Log and plot\n",
    "    logEvaluation(modelName, mae, rmse, r2, modelFolder, test_data_clean['Ticker'].unique())\n",
    "    plotResults(results_df, modelName, modelFolder)\n",
    "\n",
    "    # Show collection stats\n",
    "    print(f\"Collected {len(validTestData)} valid test tickers (target: {testSize})\")\n",
    "    if attempts >= max_attempts:\n",
    "        print(f\"Warning: Reached max attempts ({max_attempts}). Some invalid tickers may remain.\")  \n",
    "    print(f\"\\nEvaluation Results:\")\n",
    "    print(f\"MAE: {mae:.3f}\")\n",
    "    print(f\"RMSE: {rmse:.3f}\")\n",
    "    print(f\"R²: {r2:.3f}\")"
   ]
  },
  {
   "cell_type": "markdown",
   "metadata": {},
   "source": [
    "## Predictions"
   ]
  },
  {
   "cell_type": "code",
   "execution_count": 35,
   "metadata": {},
   "outputs": [
    {
     "name": "stdout",
     "output_type": "stream",
     "text": [
      "Model files in modelFolder:\n",
      "stockScreenerV1.5.pkl\n",
      "stockScreenerV1.4.pkl\n",
      "stockScreenerV1.6.pkl\n",
      "stockScreenerV1.7.pkl\n",
      "stockScreenerV1.3.pkl\n",
      "stockScreenerV1.2.pkl\n",
      "stockScreenerV1.0.pkl\n",
      "stockScreenerV1.1.pkl\n"
     ]
    }
   ],
   "source": [
    "print('Model files in modelFolder:')\n",
    "for file in modelFolder.glob('*.pkl'):\n",
    "    print(file.name)"
   ]
  },
  {
   "cell_type": "code",
   "execution_count": 36,
   "metadata": {},
   "outputs": [
    {
     "data": {
      "text/plain": [
       "Model Name    stockScreenerV1.7\n",
       "Timestamp      2025-01-27 08:45\n",
       "MAE                       0.328\n",
       "RMSE                      0.739\n",
       "R2                        0.077\n",
       "Name: 7, dtype: object"
      ]
     },
     "execution_count": 36,
     "metadata": {},
     "output_type": "execute_result"
    }
   ],
   "source": [
    "evaluations = pd.read_csv(modelFolder / 'modelEvaluations.csv')\n",
    "bestModel = evaluations.sort_values('MAE', ascending=True).iloc[0]\n",
    "bestModel.head()"
   ]
  },
  {
   "cell_type": "markdown",
   "metadata": {},
   "source": [
    "### Load model"
   ]
  },
  {
   "cell_type": "code",
   "execution_count": 32,
   "metadata": {},
   "outputs": [],
   "source": [
    "if os.name == 'nt':\n",
    "    temp = pathlib.PosixPath\n",
    "    pathlib.PosixPath = pathlib.WindowsPath\n",
    "else:\n",
    "    pathlib.WindowsPath = pathlib.PosixPath\n",
    "\n",
    "importedModel = Path(f\"{bestModel['Model Name']}.pkl\") # Change this if you want to try other models\n",
    "learn = load_learner(modelFolder / importedModel)"
   ]
  },
  {
   "cell_type": "code",
   "execution_count": 33,
   "metadata": {},
   "outputs": [],
   "source": [
    "#predictionTarget = '10%'"
   ]
  },
  {
   "cell_type": "code",
   "execution_count": 34,
   "metadata": {},
   "outputs": [
    {
     "data": {
      "text/html": [],
      "text/plain": [
       "<IPython.core.display.HTML object>"
      ]
     },
     "metadata": {},
     "output_type": "display_data"
    },
    {
     "name": "stdout",
     "output_type": "stream",
     "text": [
      "Prediction for DRS (Unknown):\n",
      "1.66%\n",
      "Free money?!\n"
     ]
    }
   ],
   "source": [
    "if predictionTarget != 'None':\n",
    "    if predictionTarget == 'ALL':\n",
    "        predictionTickers = tickers\n",
    "    elif predictionTarget.endswith('%'):\n",
    "        percentage = float(predictionTarget.strip('%')) / 100\n",
    "        num_tickers = int(len(tickers) * percentage)\n",
    "        predictionTickers = np.random.choice(tickers, size=num_tickers, replace=False).tolist()\n",
    "    else:\n",
    "        predictionTickers = [predictionTarget]\n",
    "\n",
    "    # Fetch data for prediction tickers\n",
    "    dfPrediction = pd.concat([getTickerData(ticker) for ticker in predictionTickers], ignore_index=True)\n",
    "\n",
    "    # Ensure dfPrediction is a DataFrame\n",
    "    if isinstance(dfPrediction, dict):\n",
    "        dfPrediction = pd.DataFrame([dfPrediction])\n",
    "\n",
    "    # Drop rows with NaN values in 'EV/EBIT' or 'ROIC'\n",
    "    dfPrediction = dfPrediction.dropna(subset=['EV/EBIT', 'ROIC'])\n",
    "\n",
    "    # Create test dataloader\n",
    "    dl = learn.dls.test_dl(dfPrediction)\n",
    "    dfPrediction.head()\n",
    "\n",
    "    # Make predictions\n",
    "    prediction = learn.get_preds(dl=dl)\n",
    "    adr_df = pd.read_csv(testFolder / 'tickers.csv')\n",
    "    company_dict = dict(zip(adr_df['Ticker'], adr_df['Company']))\n",
    "\n",
    "    if predictionTarget == 'ALL' or predictionTarget.endswith('%'):\n",
    "        sorted_predictions = sorted(zip(predictionTickers, prediction[0]), key=lambda x: x[1], reverse=True)\n",
    "        print(f\"Got predictions for {len(sorted_predictions)} tickers, expected: {len(predictionTickers)}\")\n",
    "        print(f\"Prediction for best performing tickers:\")\n",
    "        for symbol, pred in sorted_predictions:\n",
    "            company_name = company_dict.get(symbol, 'Unknown')\n",
    "            print(f\"{symbol} ({company_name}): {pred[0].item() * 100:.2f}%\")\n",
    "    else:\n",
    "        company_name = company_dict.get(predictionTarget, 'Unknown')\n",
    "        print(f\"Prediction for {predictionTarget} ({company_name}):\")\n",
    "        print(f\"{prediction[0][0][0].item() * 100:.2f}%\")\n",
    "    print(\"Free money?!\")"
   ]
  },
  {
   "cell_type": "code",
   "execution_count": null,
   "metadata": {},
   "outputs": [],
   "source": []
  }
 ],
 "metadata": {
  "kernelspec": {
   "display_name": "base",
   "language": "python",
   "name": "python3"
  },
  "language_info": {
   "codemirror_mode": {
    "name": "ipython",
    "version": 3
   },
   "file_extension": ".py",
   "mimetype": "text/x-python",
   "name": "python",
   "nbconvert_exporter": "python",
   "pygments_lexer": "ipython3",
   "version": "3.12.3"
  }
 },
 "nbformat": 4,
 "nbformat_minor": 2
}
