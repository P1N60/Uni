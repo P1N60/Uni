{
 "cells": [
  {
   "cell_type": "markdown",
   "metadata": {},
   "source": [
    "## Stock Screener: Model Training and Evaluation"
   ]
  },
  {
   "cell_type": "markdown",
   "metadata": {},
   "source": [
    "### Library Installation (if needed)"
   ]
  },
  {
   "cell_type": "code",
   "execution_count": 184,
   "metadata": {},
   "outputs": [],
   "source": [
    "# Install libraries the first time\n",
    "# !pip install -q ipynb yfinance pandas pathlib numpy"
   ]
  },
  {
   "cell_type": "markdown",
   "metadata": {},
   "source": [
    "### Importing Required Libraries"
   ]
  },
  {
   "cell_type": "code",
   "execution_count": 185,
   "metadata": {},
   "outputs": [],
   "source": [
    "from fastai.tabular.all import *\n",
    "import yfinance as yf\n",
    "import pandas as pd\n",
    "import pathlib\n",
    "from datetime import datetime, timedelta\n",
    "import numpy as np\n",
    "import matplotlib.pyplot as plt\n",
    "from fastai.metrics import rmse, mae"
   ]
  },
  {
   "cell_type": "markdown",
   "metadata": {},
   "source": [
    "### Global Variables"
   ]
  },
  {
   "cell_type": "code",
   "execution_count": 186,
   "metadata": {},
   "outputs": [],
   "source": [
    "# Model settings\n",
    "modelName = 'stockScreenerV6.0'\n",
    "trainingData = 'stockData.csv'\n",
    "getNewData = True \n",
    "trainNewModel = True\n",
    "predictionTarget = 'NVO'  # 'ALL' for all tickers, 'None' for no prediction\n",
    "\n",
    "# Training parameters\n",
    "trainingSize = 100  # Number of stocks to use for training\n",
    "timeFrame = 'max'   # Options: '1d', '5d', '1mo', '3mo', '6mo', '1y', '2y', '5y', '10y', 'ytd', 'max'\n",
    "yNames = ['Future Year Change']\n",
    "catNames = ['Date']\n",
    "contNames = ['Open', 'Close', 'Volume', 'Dividends', 'Stock Splits', 'EV/EBIT', 'ROIC']\n",
    "epochs = 3\n",
    "\n",
    "# Testing parameters\n",
    "testSize = 400  # Number of stocks to test, 'ALL' for all non-training stocks\n",
    "\n",
    "# Paths\n",
    "basePath = Path.cwd().parent\n",
    "dataFolder = basePath / 'TrainingData'\n",
    "modelFolder = basePath.parent / 'TrainedModels' / 'stockScreener'\n",
    "testFolder = basePath / 'TestData'"
   ]
  },
  {
   "cell_type": "markdown",
   "metadata": {},
   "source": [
    "## Data Preparation"
   ]
  },
  {
   "cell_type": "markdown",
   "metadata": {},
   "source": [
    "#### Remove Duplicate Tickers"
   ]
  },
  {
   "cell_type": "code",
   "execution_count": 187,
   "metadata": {},
   "outputs": [],
   "source": [
    "df = pd.read_csv(testFolder / 'tickers.csv')\n",
    "df.drop_duplicates().to_csv(testFolder / 'tickers.csv', index=False)"
   ]
  },
  {
   "cell_type": "markdown",
   "metadata": {},
   "source": [
    "#### Utility Functions"
   ]
  },
  {
   "cell_type": "code",
   "execution_count": 188,
   "metadata": {},
   "outputs": [],
   "source": [
    "def getIndustry(tickerSymbol):\n",
    "    \"\"\"Fetches the industry of the given ticker symbol.\"\"\"\n",
    "    try:\n",
    "        return yf.Ticker(tickerSymbol).info.get('industry', 'Unknown')\n",
    "    except Exception as e:\n",
    "        return 'Error'"
   ]
  },
  {
   "cell_type": "code",
   "execution_count": 189,
   "metadata": {},
   "outputs": [],
   "source": [
    "def calculateFutureYearChange(ticker_symbol, timeframe, buffer=1):\n",
    "    valid_periods = ['1d', '5d', '1mo', '3mo', '6mo', '1y', '2y', '5y', '10y', 'ytd', 'max']\n",
    "    try:\n",
    "        if timeframe == 'max':\n",
    "            future_change = yf.Ticker(ticker_symbol).history(period='max')\n",
    "            future_change['Future Year Change'] = (future_change['Close'].shift(-252) / future_change['Close'] - 1)\n",
    "            future_change = future_change.dropna(subset=['Future Year Change'])\n",
    "        else:\n",
    "            # Calculate the extended timeframe\n",
    "            extended_timeframe = valid_periods[min(valid_periods.index(timeframe) + buffer, len(valid_periods) - 1)]\n",
    "            future_change = yf.Ticker(ticker_symbol).history(period=extended_timeframe)\n",
    "            future_change['Future Year Change'] = (future_change['Close'].shift(-252) / future_change['Close'] - 1)\n",
    "\n",
    "            # Calculate the end date and start date based on the timeframe\n",
    "            end_date = future_change.index[-1] - pd.DateOffset(years=1)\n",
    "            start_date = end_date - pd.DateOffset(years=int(timeframe[:-1]))\n",
    "            future_change = future_change.loc[start_date:end_date].dropna(subset=['Future Year Change'])\n",
    "        return future_change\n",
    "    except Exception as e:\n",
    "        return pd.DataFrame()"
   ]
  },
  {
   "cell_type": "code",
   "execution_count": 190,
   "metadata": {},
   "outputs": [],
   "source": [
    "def getEVComponents(tickerSymbol):\n",
    "    \"\"\"Fetches static EV components (total debt, cash, shares outstanding).\"\"\"\n",
    "    try:\n",
    "        info = yf.Ticker(tickerSymbol).info\n",
    "        return info.get('totalDebt', 0), info.get('totalCash', 0), info.get('sharesOutstanding', None)\n",
    "    except Exception as e:\n",
    "        return None, None, None"
   ]
  },
  {
   "cell_type": "code",
   "execution_count": 191,
   "metadata": {},
   "outputs": [],
   "source": [
    "def calculateApproxEBIT(tickerSymbol):\n",
    "    \"\"\"Estimates EBIT based on revenue and operating income.\"\"\"\n",
    "    try:\n",
    "        info = yf.Ticker(tickerSymbol).info\n",
    "        revenue = info.get('totalRevenue', None)\n",
    "        operatingIncome = info.get('operatingIncome', None)\n",
    "        return operatingIncome if operatingIncome else (revenue * 0.15 if revenue else None)\n",
    "    except Exception as e:\n",
    "        return None"
   ]
  },
  {
   "cell_type": "code",
   "execution_count": 192,
   "metadata": {},
   "outputs": [],
   "source": [
    "def enrichDataWithMetrics(histData):\n",
    "    \"\"\"Adds EV/EBIT and ROIC to the historical data.\"\"\"\n",
    "    for ticker in histData['Ticker'].unique():\n",
    "        try:\n",
    "            totalDebt, cash, sharesOutstanding = getEVComponents(ticker)\n",
    "            ebit = calculateApproxEBIT(ticker)\n",
    "\n",
    "            if sharesOutstanding and ebit and ebit != 0:\n",
    "                histData.loc[histData['Ticker'] == ticker, 'EV/EBIT'] = (\n",
    "                    (histData['Close'] * sharesOutstanding + totalDebt - cash) / ebit\n",
    "                )\n",
    "\n",
    "                taxRate = 0.21\n",
    "                nopat = ebit * (1 - taxRate)\n",
    "                investedCapital = totalDebt + (histData['Close'] * sharesOutstanding) - cash\n",
    "                histData.loc[histData['Ticker'] == ticker, 'ROIC'] = nopat / investedCapital\n",
    "        except Exception as e:\n",
    "            pass\n",
    "    return histData"
   ]
  },
  {
   "cell_type": "code",
   "execution_count": 193,
   "metadata": {},
   "outputs": [],
   "source": [
    "def getTickerDataFrom1YrAgo(ticker_symbol):\n",
    "    try:\n",
    "        # Fetch ticker data\n",
    "        ticker = yf.Ticker(ticker_symbol)\n",
    "\n",
    "        # Define the date range: one year ago to today\n",
    "        today = datetime.today()\n",
    "        one_year_ago = today - timedelta(days=365)\n",
    "\n",
    "        # Fetch historical data for one year ago\n",
    "        hist = ticker.history(start=(one_year_ago - timedelta(days=30)).strftime('%Y-%m-%d'), \n",
    "                              end=(one_year_ago + timedelta(days=0)).strftime('%Y-%m-%d'))\n",
    "        if hist.empty:\n",
    "            raise ValueError(f\"No historical data available for {ticker_symbol} around {one_year_ago.strftime('%Y-%m-%d')}.\")\n",
    "\n",
    "        # Extract the closest data point to one year ago\n",
    "        row = hist.iloc[0]  # Get the first available entry within the date range\n",
    "\n",
    "        # Price today\n",
    "        price_today = ticker.history(period='1d')['Close'].iloc[-1]\n",
    "\n",
    "        # Calculate future price change (from one year ago to today)\n",
    "        price_change_future = ((price_today - row['Close']) / row['Close']) if row['Close'] else None\n",
    "\n",
    "        # Collect additional data\n",
    "        total_debt, cash, shares_outstanding = getEVComponents(ticker_symbol)\n",
    "        ebit = calculateApproxEBIT(ticker_symbol)\n",
    "        ev = (row['Close'] * shares_outstanding) + total_debt - cash if shares_outstanding else None\n",
    "        ev_ebit = ev / ebit if ebit else None\n",
    "        market_cap = row['Close'] * shares_outstanding if shares_outstanding else None\n",
    "        tax_rate = 0.21\n",
    "        nopat = ebit * (1 - tax_rate) if ebit else None\n",
    "        invested_capital = total_debt + market_cap - cash if market_cap and total_debt and cash else None\n",
    "        roic = nopat / invested_capital if nopat and invested_capital else None\n",
    "        industry = getIndustry(ticker_symbol)\n",
    "\n",
    "        # Return as a DataFrame\n",
    "        return pd.DataFrame([{\n",
    "            'Date': row.name,\n",
    "            'Open': row['Open'],\n",
    "            'High': row['High'],\n",
    "            'Low': row['Low'],\n",
    "            'Close': row['Close'],\n",
    "            'Volume': row['Volume'],\n",
    "            'Dividends': row.get('Dividends', 0.0),\n",
    "            'Stock Splits': row.get('Stock Splits', 0.0),\n",
    "            'Future Year Change': price_change_future,\n",
    "            'Industry': industry,\n",
    "            'EV/EBIT': ev_ebit,\n",
    "            'ROIC': roic\n",
    "        }])\n",
    "\n",
    "    except Exception as e:\n",
    "        print(f\"Error fetching data for {ticker_symbol}: {e}\")\n",
    "        return pd.DataFrame()"
   ]
  },
  {
   "cell_type": "code",
   "execution_count": 194,
   "metadata": {},
   "outputs": [],
   "source": [
    "def getTickerData(ticker_symbol):\n",
    "    try:\n",
    "        ticker = yf.Ticker(ticker_symbol)\n",
    "        hist = ticker.history(period='1d')\n",
    "        total_debt, cash, shares_outstanding = getEVComponents(ticker_symbol)\n",
    "        ebit = calculateApproxEBIT(ticker_symbol)\n",
    "        ev = (hist['Close'].iloc[-1] * shares_outstanding) + total_debt - cash\n",
    "        ev_ebit = ev / ebit if ebit else None\n",
    "        market_cap = hist['Close'].iloc[-1] * shares_outstanding\n",
    "        tax_rate = 0.21\n",
    "        nopat = ebit * (1 - tax_rate) if ebit else None\n",
    "        invested_capital = total_debt + market_cap - cash\n",
    "        roic = nopat / invested_capital if nopat and invested_capital else None\n",
    "        industry = getIndustry(ticker_symbol)\n",
    "        \n",
    "        # Add the 'Date' column\n",
    "        date = datetime.now().strftime('%Y-%m-%d')\n",
    "\n",
    "        return pd.DataFrame([{\n",
    "            'Date': date,\n",
    "            'Open': hist['Open'].iloc[-1],\n",
    "            'High': hist['High'].iloc[-1],\n",
    "            'Low': hist['Low'].iloc[-1],\n",
    "            'Close': hist['Close'].iloc[-1],\n",
    "            'Volume': hist['Volume'].iloc[-1],\n",
    "            'Dividends': hist.get('Dividends', pd.Series([0.0])).iloc[-1],\n",
    "            'Stock Splits': hist.get('Stock Splits', pd.Series([0.0])).iloc[-1],\n",
    "            'EV/EBIT': ev_ebit,\n",
    "            'Market Cap': market_cap,\n",
    "            'ROIC': roic,\n",
    "            'Industry': industry\n",
    "        }])\n",
    "    except Exception as e:\n",
    "\n",
    "        return pd.DataFrame()"
   ]
  },
  {
   "cell_type": "markdown",
   "metadata": {},
   "source": [
    "#### Download and Process Historical Data"
   ]
  },
  {
   "cell_type": "code",
   "execution_count": 195,
   "metadata": {},
   "outputs": [
    {
     "name": "stderr",
     "output_type": "stream",
     "text": [
      "$ALXN: possibly delisted; no timezone found\n",
      "C:\\Users\\Gamer\\AppData\\Local\\Temp\\ipykernel_6480\\223849276.py:12: FutureWarning: The behavior of array concatenation with empty entries is deprecated. In a future version, this will no longer exclude empty items when determining the result dtype. To retain the old behavior, exclude the empty entries before the concat operation.\n",
      "  histData = pd.concat([histData, data])\n",
      "$CMA.W: possibly delisted; no timezone found\n",
      "404 Client Error: Not Found for url: https://query2.finance.yahoo.com/v10/finance/quoteSummary/CMA.W?modules=financialData%2CquoteType%2CdefaultKeyStatistics%2CassetProfile%2CsummaryDetail&corsDomain=finance.yahoo.com&formatted=false&symbol=CMA.W&crumb=TLJxoxQPcjU\n",
      "C:\\Users\\Gamer\\AppData\\Local\\Temp\\ipykernel_6480\\223849276.py:12: FutureWarning: The behavior of array concatenation with empty entries is deprecated. In a future version, this will no longer exclude empty items when determining the result dtype. To retain the old behavior, exclude the empty entries before the concat operation.\n",
      "  histData = pd.concat([histData, data])\n",
      "$ADRA: possibly delisted; no timezone found\n",
      "C:\\Users\\Gamer\\AppData\\Local\\Temp\\ipykernel_6480\\223849276.py:12: FutureWarning: The behavior of array concatenation with empty entries is deprecated. In a future version, this will no longer exclude empty items when determining the result dtype. To retain the old behavior, exclude the empty entries before the concat operation.\n",
      "  histData = pd.concat([histData, data])\n",
      "$TROVW: possibly delisted; no timezone found\n",
      "404 Client Error: Not Found for url: https://query2.finance.yahoo.com/v10/finance/quoteSummary/TROVW?modules=financialData%2CquoteType%2CdefaultKeyStatistics%2CassetProfile%2CsummaryDetail&corsDomain=finance.yahoo.com&formatted=false&symbol=TROVW&crumb=TLJxoxQPcjU\n",
      "C:\\Users\\Gamer\\AppData\\Local\\Temp\\ipykernel_6480\\223849276.py:12: FutureWarning: The behavior of array concatenation with empty entries is deprecated. In a future version, this will no longer exclude empty items when determining the result dtype. To retain the old behavior, exclude the empty entries before the concat operation.\n",
      "  histData = pd.concat([histData, data])\n",
      "$DX-A: possibly delisted; no timezone found\n",
      "404 Client Error: Not Found for url: https://query2.finance.yahoo.com/v10/finance/quoteSummary/DX-A?modules=financialData%2CquoteType%2CdefaultKeyStatistics%2CassetProfile%2CsummaryDetail&corsDomain=finance.yahoo.com&formatted=false&symbol=DX-A&crumb=TLJxoxQPcjU\n",
      "C:\\Users\\Gamer\\AppData\\Local\\Temp\\ipykernel_6480\\223849276.py:12: FutureWarning: The behavior of array concatenation with empty entries is deprecated. In a future version, this will no longer exclude empty items when determining the result dtype. To retain the old behavior, exclude the empty entries before the concat operation.\n",
      "  histData = pd.concat([histData, data])\n",
      "$TFM: possibly delisted; no price data found  (1d 1926-02-16 -> 2025-01-22)\n",
      "C:\\Users\\Gamer\\AppData\\Local\\Temp\\ipykernel_6480\\223849276.py:12: FutureWarning: The behavior of array concatenation with empty entries is deprecated. In a future version, this will no longer exclude empty items when determining the result dtype. To retain the old behavior, exclude the empty entries before the concat operation.\n",
      "  histData = pd.concat([histData, data])\n",
      "$ACRX: possibly delisted; no timezone found\n",
      "404 Client Error: Not Found for url: https://query2.finance.yahoo.com/v10/finance/quoteSummary/ACRX?modules=financialData%2CquoteType%2CdefaultKeyStatistics%2CassetProfile%2CsummaryDetail&corsDomain=finance.yahoo.com&formatted=false&symbol=ACRX&crumb=TLJxoxQPcjU\n",
      "C:\\Users\\Gamer\\AppData\\Local\\Temp\\ipykernel_6480\\223849276.py:12: FutureWarning: The behavior of array concatenation with empty entries is deprecated. In a future version, this will no longer exclude empty items when determining the result dtype. To retain the old behavior, exclude the empty entries before the concat operation.\n",
      "  histData = pd.concat([histData, data])\n",
      "$ABIO: possibly delisted; no timezone found\n",
      "C:\\Users\\Gamer\\AppData\\Local\\Temp\\ipykernel_6480\\223849276.py:12: FutureWarning: The behavior of array concatenation with empty entries is deprecated. In a future version, this will no longer exclude empty items when determining the result dtype. To retain the old behavior, exclude the empty entries before the concat operation.\n",
      "  histData = pd.concat([histData, data])\n",
      "$SGYPW: possibly delisted; no timezone found\n",
      "404 Client Error: Not Found for url: https://query2.finance.yahoo.com/v10/finance/quoteSummary/SGYPW?modules=financialData%2CquoteType%2CdefaultKeyStatistics%2CassetProfile%2CsummaryDetail&corsDomain=finance.yahoo.com&formatted=false&symbol=SGYPW&crumb=TLJxoxQPcjU\n",
      "C:\\Users\\Gamer\\AppData\\Local\\Temp\\ipykernel_6480\\223849276.py:12: FutureWarning: The behavior of array concatenation with empty entries is deprecated. In a future version, this will no longer exclude empty items when determining the result dtype. To retain the old behavior, exclude the empty entries before the concat operation.\n",
      "  histData = pd.concat([histData, data])\n",
      "$EPR-F: possibly delisted; no timezone found\n",
      "404 Client Error: Not Found for url: https://query2.finance.yahoo.com/v10/finance/quoteSummary/EPR-F?modules=financialData%2CquoteType%2CdefaultKeyStatistics%2CassetProfile%2CsummaryDetail&corsDomain=finance.yahoo.com&formatted=false&symbol=EPR-F&crumb=TLJxoxQPcjU\n",
      "C:\\Users\\Gamer\\AppData\\Local\\Temp\\ipykernel_6480\\223849276.py:12: FutureWarning: The behavior of array concatenation with empty entries is deprecated. In a future version, this will no longer exclude empty items when determining the result dtype. To retain the old behavior, exclude the empty entries before the concat operation.\n",
      "  histData = pd.concat([histData, data])\n",
      "$TMK: possibly delisted; no timezone found\n",
      "C:\\Users\\Gamer\\AppData\\Local\\Temp\\ipykernel_6480\\223849276.py:12: FutureWarning: The behavior of array concatenation with empty entries is deprecated. In a future version, this will no longer exclude empty items when determining the result dtype. To retain the old behavior, exclude the empty entries before the concat operation.\n",
      "  histData = pd.concat([histData, data])\n",
      "$APPY: possibly delisted; no price data found  (1d 1926-02-16 -> 2025-01-22)\n",
      "C:\\Users\\Gamer\\AppData\\Local\\Temp\\ipykernel_6480\\223849276.py:12: FutureWarning: The behavior of array concatenation with empty entries is deprecated. In a future version, this will no longer exclude empty items when determining the result dtype. To retain the old behavior, exclude the empty entries before the concat operation.\n",
      "  histData = pd.concat([histData, data])\n",
      "$ISG: possibly delisted; no timezone found\n",
      "C:\\Users\\Gamer\\AppData\\Local\\Temp\\ipykernel_6480\\223849276.py:12: FutureWarning: The behavior of array concatenation with empty entries is deprecated. In a future version, this will no longer exclude empty items when determining the result dtype. To retain the old behavior, exclude the empty entries before the concat operation.\n",
      "  histData = pd.concat([histData, data])\n",
      "$HWCC: possibly delisted; no timezone found\n",
      "C:\\Users\\Gamer\\AppData\\Local\\Temp\\ipykernel_6480\\223849276.py:12: FutureWarning: The behavior of array concatenation with empty entries is deprecated. In a future version, this will no longer exclude empty items when determining the result dtype. To retain the old behavior, exclude the empty entries before the concat operation.\n",
      "  histData = pd.concat([histData, data])\n",
      "$ECA: possibly delisted; no timezone found\n",
      "C:\\Users\\Gamer\\AppData\\Local\\Temp\\ipykernel_6480\\223849276.py:12: FutureWarning: The behavior of array concatenation with empty entries is deprecated. In a future version, this will no longer exclude empty items when determining the result dtype. To retain the old behavior, exclude the empty entries before the concat operation.\n",
      "  histData = pd.concat([histData, data])\n",
      "$HITT: possibly delisted; no price data found  (1d 1926-02-16 -> 2025-01-22)\n",
      "C:\\Users\\Gamer\\AppData\\Local\\Temp\\ipykernel_6480\\223849276.py:12: FutureWarning: The behavior of array concatenation with empty entries is deprecated. In a future version, this will no longer exclude empty items when determining the result dtype. To retain the old behavior, exclude the empty entries before the concat operation.\n",
      "  histData = pd.concat([histData, data])\n",
      "$SWFT: possibly delisted; no price data found  (1d 1926-02-16 -> 2025-01-22)\n",
      "C:\\Users\\Gamer\\AppData\\Local\\Temp\\ipykernel_6480\\223849276.py:12: FutureWarning: The behavior of array concatenation with empty entries is deprecated. In a future version, this will no longer exclude empty items when determining the result dtype. To retain the old behavior, exclude the empty entries before the concat operation.\n",
      "  histData = pd.concat([histData, data])\n",
      "$EVRY: possibly delisted; no price data found  (1d 1926-02-16 -> 2025-01-22)\n",
      "C:\\Users\\Gamer\\AppData\\Local\\Temp\\ipykernel_6480\\223849276.py:12: FutureWarning: The behavior of array concatenation with empty entries is deprecated. In a future version, this will no longer exclude empty items when determining the result dtype. To retain the old behavior, exclude the empty entries before the concat operation.\n",
      "  histData = pd.concat([histData, data])\n",
      "$MSF: possibly delisted; no timezone found\n",
      "C:\\Users\\Gamer\\AppData\\Local\\Temp\\ipykernel_6480\\223849276.py:12: FutureWarning: The behavior of array concatenation with empty entries is deprecated. In a future version, this will no longer exclude empty items when determining the result dtype. To retain the old behavior, exclude the empty entries before the concat operation.\n",
      "  histData = pd.concat([histData, data])\n",
      "$GNVC: possibly delisted; no price data found  (1d 1926-02-16 -> 2025-01-22)\n",
      "C:\\Users\\Gamer\\AppData\\Local\\Temp\\ipykernel_6480\\223849276.py:12: FutureWarning: The behavior of array concatenation with empty entries is deprecated. In a future version, this will no longer exclude empty items when determining the result dtype. To retain the old behavior, exclude the empty entries before the concat operation.\n",
      "  histData = pd.concat([histData, data])\n",
      "$BSD: possibly delisted; no timezone found\n",
      "C:\\Users\\Gamer\\AppData\\Local\\Temp\\ipykernel_6480\\223849276.py:12: FutureWarning: The behavior of array concatenation with empty entries is deprecated. In a future version, this will no longer exclude empty items when determining the result dtype. To retain the old behavior, exclude the empty entries before the concat operation.\n",
      "  histData = pd.concat([histData, data])\n",
      "$CLVS: possibly delisted; no timezone found\n",
      "C:\\Users\\Gamer\\AppData\\Local\\Temp\\ipykernel_6480\\223849276.py:12: FutureWarning: The behavior of array concatenation with empty entries is deprecated. In a future version, this will no longer exclude empty items when determining the result dtype. To retain the old behavior, exclude the empty entries before the concat operation.\n",
      "  histData = pd.concat([histData, data])\n",
      "$SPPRP: possibly delisted; no timezone found\n",
      "404 Client Error: Not Found for url: https://query2.finance.yahoo.com/v10/finance/quoteSummary/SPPRP?modules=financialData%2CquoteType%2CdefaultKeyStatistics%2CassetProfile%2CsummaryDetail&corsDomain=finance.yahoo.com&formatted=false&symbol=SPPRP&crumb=TLJxoxQPcjU\n",
      "C:\\Users\\Gamer\\AppData\\Local\\Temp\\ipykernel_6480\\223849276.py:12: FutureWarning: The behavior of array concatenation with empty entries is deprecated. In a future version, this will no longer exclude empty items when determining the result dtype. To retain the old behavior, exclude the empty entries before the concat operation.\n",
      "  histData = pd.concat([histData, data])\n",
      "$OFC-H: possibly delisted; no timezone found\n",
      "404 Client Error: Not Found for url: https://query2.finance.yahoo.com/v10/finance/quoteSummary/OFC-H?modules=financialData%2CquoteType%2CdefaultKeyStatistics%2CassetProfile%2CsummaryDetail&corsDomain=finance.yahoo.com&formatted=false&symbol=OFC-H&crumb=TLJxoxQPcjU\n",
      "C:\\Users\\Gamer\\AppData\\Local\\Temp\\ipykernel_6480\\223849276.py:12: FutureWarning: The behavior of array concatenation with empty entries is deprecated. In a future version, this will no longer exclude empty items when determining the result dtype. To retain the old behavior, exclude the empty entries before the concat operation.\n",
      "  histData = pd.concat([histData, data])\n",
      "$KRC-G: possibly delisted; no timezone found\n",
      "404 Client Error: Not Found for url: https://query2.finance.yahoo.com/v10/finance/quoteSummary/KRC-G?modules=financialData%2CquoteType%2CdefaultKeyStatistics%2CassetProfile%2CsummaryDetail&corsDomain=finance.yahoo.com&formatted=false&symbol=KRC-G&crumb=TLJxoxQPcjU\n",
      "C:\\Users\\Gamer\\AppData\\Local\\Temp\\ipykernel_6480\\223849276.py:12: FutureWarning: The behavior of array concatenation with empty entries is deprecated. In a future version, this will no longer exclude empty items when determining the result dtype. To retain the old behavior, exclude the empty entries before the concat operation.\n",
      "  histData = pd.concat([histData, data])\n",
      "$TECUA: possibly delisted; no price data found  (1d 1926-02-16 -> 2025-01-22)\n",
      "C:\\Users\\Gamer\\AppData\\Local\\Temp\\ipykernel_6480\\223849276.py:12: FutureWarning: The behavior of array concatenation with empty entries is deprecated. In a future version, this will no longer exclude empty items when determining the result dtype. To retain the old behavior, exclude the empty entries before the concat operation.\n",
      "  histData = pd.concat([histData, data])\n",
      "$NRF: possibly delisted; no price data found  (1d 1926-02-16 -> 2025-01-22)\n",
      "C:\\Users\\Gamer\\AppData\\Local\\Temp\\ipykernel_6480\\223849276.py:12: FutureWarning: The behavior of array concatenation with empty entries is deprecated. In a future version, this will no longer exclude empty items when determining the result dtype. To retain the old behavior, exclude the empty entries before the concat operation.\n",
      "  histData = pd.concat([histData, data])\n",
      "$HMNF: possibly delisted; no timezone found\n",
      "404 Client Error: Not Found for url: https://query2.finance.yahoo.com/v10/finance/quoteSummary/HMNF?modules=financialData%2CquoteType%2CdefaultKeyStatistics%2CassetProfile%2CsummaryDetail&corsDomain=finance.yahoo.com&formatted=false&symbol=HMNF&crumb=TLJxoxQPcjU\n",
      "C:\\Users\\Gamer\\AppData\\Local\\Temp\\ipykernel_6480\\223849276.py:12: FutureWarning: The behavior of array concatenation with empty entries is deprecated. In a future version, this will no longer exclude empty items when determining the result dtype. To retain the old behavior, exclude the empty entries before the concat operation.\n",
      "  histData = pd.concat([histData, data])\n",
      "$CO: possibly delisted; no timezone found\n",
      "C:\\Users\\Gamer\\AppData\\Local\\Temp\\ipykernel_6480\\223849276.py:12: FutureWarning: The behavior of array concatenation with empty entries is deprecated. In a future version, this will no longer exclude empty items when determining the result dtype. To retain the old behavior, exclude the empty entries before the concat operation.\n",
      "  histData = pd.concat([histData, data])\n",
      "$RPT-D: possibly delisted; no timezone found\n",
      "404 Client Error: Not Found for url: https://query2.finance.yahoo.com/v10/finance/quoteSummary/RPT-D?modules=financialData%2CquoteType%2CdefaultKeyStatistics%2CassetProfile%2CsummaryDetail&corsDomain=finance.yahoo.com&formatted=false&symbol=RPT-D&crumb=TLJxoxQPcjU\n",
      "C:\\Users\\Gamer\\AppData\\Local\\Temp\\ipykernel_6480\\223849276.py:12: FutureWarning: The behavior of array concatenation with empty entries is deprecated. In a future version, this will no longer exclude empty items when determining the result dtype. To retain the old behavior, exclude the empty entries before the concat operation.\n",
      "  histData = pd.concat([histData, data])\n",
      "$TEU-C: possibly delisted; no timezone found\n",
      "404 Client Error: Not Found for url: https://query2.finance.yahoo.com/v10/finance/quoteSummary/TEU-C?modules=financialData%2CquoteType%2CdefaultKeyStatistics%2CassetProfile%2CsummaryDetail&corsDomain=finance.yahoo.com&formatted=false&symbol=TEU-C&crumb=TLJxoxQPcjU\n",
      "C:\\Users\\Gamer\\AppData\\Local\\Temp\\ipykernel_6480\\223849276.py:12: FutureWarning: The behavior of array concatenation with empty entries is deprecated. In a future version, this will no longer exclude empty items when determining the result dtype. To retain the old behavior, exclude the empty entries before the concat operation.\n",
      "  histData = pd.concat([histData, data])\n",
      "$MUS: possibly delisted; no timezone found\n",
      "C:\\Users\\Gamer\\AppData\\Local\\Temp\\ipykernel_6480\\223849276.py:12: FutureWarning: The behavior of array concatenation with empty entries is deprecated. In a future version, this will no longer exclude empty items when determining the result dtype. To retain the old behavior, exclude the empty entries before the concat operation.\n",
      "  histData = pd.concat([histData, data])\n",
      "$BML-G: possibly delisted; no timezone found\n",
      "404 Client Error: Not Found for url: https://query2.finance.yahoo.com/v10/finance/quoteSummary/BML-G?modules=financialData%2CquoteType%2CdefaultKeyStatistics%2CassetProfile%2CsummaryDetail&corsDomain=finance.yahoo.com&formatted=false&symbol=BML-G&crumb=TLJxoxQPcjU\n",
      "C:\\Users\\Gamer\\AppData\\Local\\Temp\\ipykernel_6480\\223849276.py:12: FutureWarning: The behavior of array concatenation with empty entries is deprecated. In a future version, this will no longer exclude empty items when determining the result dtype. To retain the old behavior, exclude the empty entries before the concat operation.\n",
      "  histData = pd.concat([histData, data])\n",
      "$HTCH: possibly delisted; no price data found  (1d 1926-02-16 -> 2025-01-22)\n",
      "C:\\Users\\Gamer\\AppData\\Local\\Temp\\ipykernel_6480\\223849276.py:12: FutureWarning: The behavior of array concatenation with empty entries is deprecated. In a future version, this will no longer exclude empty items when determining the result dtype. To retain the old behavior, exclude the empty entries before the concat operation.\n",
      "  histData = pd.concat([histData, data])\n",
      "$NEE-F: possibly delisted; no timezone found\n",
      "404 Client Error: Not Found for url: https://query2.finance.yahoo.com/v10/finance/quoteSummary/NEE-F?modules=financialData%2CquoteType%2CdefaultKeyStatistics%2CassetProfile%2CsummaryDetail&corsDomain=finance.yahoo.com&formatted=false&symbol=NEE-F&crumb=TLJxoxQPcjU\n",
      "C:\\Users\\Gamer\\AppData\\Local\\Temp\\ipykernel_6480\\223849276.py:12: FutureWarning: The behavior of array concatenation with empty entries is deprecated. In a future version, this will no longer exclude empty items when determining the result dtype. To retain the old behavior, exclude the empty entries before the concat operation.\n",
      "  histData = pd.concat([histData, data])\n",
      "$DAEG: possibly delisted; no price data found  (1d 1926-02-16 -> 2025-01-22)\n",
      "C:\\Users\\Gamer\\AppData\\Local\\Temp\\ipykernel_6480\\223849276.py:12: FutureWarning: The behavior of array concatenation with empty entries is deprecated. In a future version, this will no longer exclude empty items when determining the result dtype. To retain the old behavior, exclude the empty entries before the concat operation.\n",
      "  histData = pd.concat([histData, data])\n"
     ]
    },
    {
     "name": "stdout",
     "output_type": "stream",
     "text": [
      "Training data saved: 360750 rows\n"
     ]
    }
   ],
   "source": [
    "tickers = pd.read_csv(testFolder / 'tickers.csv')['Ticker']\n",
    "trainingTickers = np.random.choice(tickers, size=trainingSize, replace=False)\n",
    "\n",
    "if getNewData:\n",
    "    histData = pd.DataFrame()\n",
    "\n",
    "    for ticker in trainingTickers:\n",
    "        try:\n",
    "            data = calculateFutureYearChange(ticker, timeFrame)\n",
    "            data['Ticker'] = ticker\n",
    "            data['Industry'] = getIndustry(ticker)\n",
    "            histData = pd.concat([histData, data])\n",
    "        except Exception:\n",
    "            pass\n",
    "\n",
    "    histData.reset_index(inplace=True)\n",
    "    histData = enrichDataWithMetrics(histData)\n",
    "    histData.to_csv(dataFolder / trainingData, index=False)\n",
    "    print(f\"Training data saved: {len(histData)} rows\")"
   ]
  },
  {
   "cell_type": "markdown",
   "metadata": {},
   "source": [
    "### Model Training"
   ]
  },
  {
   "cell_type": "code",
   "execution_count": 196,
   "metadata": {},
   "outputs": [
    {
     "name": "stderr",
     "output_type": "stream",
     "text": [
      "c:\\Users\\Gamer\\miniconda3\\Lib\\site-packages\\fastai\\tabular\\core.py:314: FutureWarning: A value is trying to be set on a copy of a DataFrame or Series through chained assignment using an inplace method.\n",
      "The behavior will change in pandas 3.0. This inplace method will never work because the intermediate object on which we are setting values always behaves as a copy.\n",
      "\n",
      "For example, when doing 'df[col].method(value, inplace=True)', try using 'df.method({col: value}, inplace=True)' or df[col] = df[col].method(value) instead, to perform the operation inplace on the original object.\n",
      "\n",
      "\n",
      "  to[n].fillna(self.na_dict[n], inplace=True)\n",
      "c:\\Users\\Gamer\\miniconda3\\Lib\\site-packages\\fastai\\tabular\\core.py:314: FutureWarning: A value is trying to be set on a copy of a DataFrame or Series through chained assignment using an inplace method.\n",
      "The behavior will change in pandas 3.0. This inplace method will never work because the intermediate object on which we are setting values always behaves as a copy.\n",
      "\n",
      "For example, when doing 'df[col].method(value, inplace=True)', try using 'df.method({col: value}, inplace=True)' or df[col] = df[col].method(value) instead, to perform the operation inplace on the original object.\n",
      "\n",
      "\n",
      "  to[n].fillna(self.na_dict[n], inplace=True)\n"
     ]
    }
   ],
   "source": [
    "# Remove rows with no EV/EBIT- or ROIC data\n",
    "df = pd.read_csv(dataFolder / trainingData)\n",
    "dfCleaned = df.dropna(subset=['EV/EBIT', 'ROIC'])\n",
    "dfCleaned.to_csv(dataFolder / trainingData, index=False)\n",
    "\n",
    "splits = RandomSplitter(valid_pct=0.2)(range_of(dfCleaned))\n",
    "\n",
    "to = TabularPandas(\n",
    "    df, procs=[Categorify, FillMissing, Normalize],\n",
    "    y_names=yNames, cat_names=catNames, cont_names=contNames, splits=splits)\n",
    "\n",
    "dls = to.dataloaders(bs=64)"
   ]
  },
  {
   "cell_type": "code",
   "execution_count": 197,
   "metadata": {},
   "outputs": [
    {
     "data": {
      "text/html": [
       "\n",
       "<style>\n",
       "    /* Turns off some styling */\n",
       "    progress {\n",
       "        /* gets rid of default border in Firefox and Opera. */\n",
       "        border: none;\n",
       "        /* Needs to be in here for Safari polyfill so background images work as expected. */\n",
       "        background-size: auto;\n",
       "    }\n",
       "    progress:not([value]), progress:not([value])::-webkit-progress-bar {\n",
       "        background: repeating-linear-gradient(45deg, #7e7e7e, #7e7e7e 10px, #5c5c5c 10px, #5c5c5c 20px);\n",
       "    }\n",
       "    .progress-bar-interrupted, .progress-bar-interrupted::-webkit-progress-bar {\n",
       "        background: #F44336;\n",
       "    }\n",
       "</style>\n"
      ],
      "text/plain": [
       "<IPython.core.display.HTML object>"
      ]
     },
     "metadata": {},
     "output_type": "display_data"
    },
    {
     "data": {
      "text/html": [
       "\n",
       "    <div>\n",
       "      <progress value='0' class='' max='3' style='width:300px; height:20px; vertical-align: middle;'></progress>\n",
       "      0.00% [0/3 00:00&lt;?]\n",
       "    </div>\n",
       "    \n",
       "<table border=\"1\" class=\"dataframe\">\n",
       "  <thead>\n",
       "    <tr style=\"text-align: left;\">\n",
       "      <th>epoch</th>\n",
       "      <th>train_loss</th>\n",
       "      <th>valid_loss</th>\n",
       "      <th>_rmse</th>\n",
       "      <th>mae</th>\n",
       "      <th>time</th>\n",
       "    </tr>\n",
       "  </thead>\n",
       "  <tbody>\n",
       "  </tbody>\n",
       "</table><p>\n",
       "\n",
       "    <div>\n",
       "      <progress value='83' class='' max='4111' style='width:300px; height:20px; vertical-align: middle;'></progress>\n",
       "      2.02% [83/4111 00:03&lt;02:51 8471.9678]\n",
       "    </div>\n",
       "    "
      ],
      "text/plain": [
       "<IPython.core.display.HTML object>"
      ]
     },
     "metadata": {},
     "output_type": "display_data"
    },
    {
     "name": "stdout",
     "output_type": "stream",
     "text": [
      "Model training complete.\n"
     ]
    }
   ],
   "source": [
    "if trainNewModel:\n",
    "    learn = tabular_learner(dls, metrics=[rmse, mae])\n",
    "    learn.fit_one_cycle(epochs)\n",
    "    learn.export(modelFolder / f'{modelName}.pkl')\n",
    "    print(\"Model training complete.\")"
   ]
  },
  {
   "cell_type": "markdown",
   "metadata": {},
   "source": [
    "## Testing and benchmarking"
   ]
  },
  {
   "cell_type": "code",
   "execution_count": 198,
   "metadata": {},
   "outputs": [],
   "source": [
    "def logEvaluation(model_name, mae, rmse, r2, model_folder, test_tickers):\n",
    "    \"\"\"Log evaluation metrics to CSV file\"\"\"\n",
    "    log_file = model_folder / \"modelEvaluations.csv\"\n",
    "    \n",
    "    new_entry_df = pd.DataFrame([{\n",
    "        \"Model Name\": modelName,\n",
    "        \"Timestamp\": datetime.now().strftime('%Y-%m-%d %H:%M'),\n",
    "        \"MAE\": f'{mae:.3f}',\n",
    "        \"RMSE\": f'{rmse:.3f}',\n",
    "        \"R2\": f'{r2:.3f}',\n",
    "        \"Epochs\": epochs,\n",
    "        \"Training Size\": trainingSize,\n",
    "        \"Test Size\": len(test_tickers),\n",
    "        \"Cat Names\": catNames,\n",
    "        \"Cont Names\": contNames,\n",
    "    }])\n",
    "    \n",
    "    try:\n",
    "        log_df = pd.read_csv(log_file)\n",
    "        log_df = pd.concat([log_df, new_entry_df], ignore_index=True)\n",
    "    except FileNotFoundError:\n",
    "        log_df = new_entry_df\n",
    "        \n",
    "    log_df.to_csv(log_file, index=False)\n",
    "    print(f\"Logged evaluation results to {log_file}\")"
   ]
  },
  {
   "cell_type": "code",
   "execution_count": 199,
   "metadata": {},
   "outputs": [],
   "source": [
    "def plotResults(filtered_df, model_name, model_folder):\n",
    "    \"\"\"Create and save visualization plots\"\"\"\n",
    "    plt.figure(figsize=(12, 8))\n",
    "    \n",
    "    # Scatter plot\n",
    "    plt.subplot(2, 1, 1)\n",
    "    actuals = filtered_df['Actual']\n",
    "    predictions = filtered_df['Predicted']\n",
    "    plt.scatter(actuals, predictions, alpha=0.7, label='Predictions')\n",
    "    \n",
    "    # Perfect prediction line\n",
    "    min_val = min(actuals.min(), predictions.min())\n",
    "    max_val = max(actuals.max(), predictions.max())\n",
    "    plt.plot([min_val, max_val], [min_val, max_val], \n",
    "             color='red', linestyle='--', label='Perfect Prediction')\n",
    "    \n",
    "    plt.title(f'Predicted vs. Actual Returns - {model_name}', fontsize=14)\n",
    "    plt.xlabel('Actual Returns', fontsize=12)\n",
    "    plt.ylabel('Predicted Returns', fontsize=12)\n",
    "    plt.legend()\n",
    "    plt.grid(alpha=0.5)\n",
    "    \n",
    "    # Residual plot\n",
    "    plt.subplot(2, 1, 2)\n",
    "    plt.scatter(predictions, filtered_df['Residual'], alpha=0.7)\n",
    "    plt.axhline(y=0, color='r', linestyle='--')\n",
    "    plt.title('Residual Plot', fontsize=14)\n",
    "    plt.xlabel('Predicted Returns', fontsize=12)\n",
    "    plt.ylabel('Residual', fontsize=12)\n",
    "    plt.grid(alpha=0.5)\n",
    "    \n",
    "    plt.tight_layout()\n",
    "    \n",
    "    # Show plot\n",
    "    plt.show()"
   ]
  },
  {
   "cell_type": "code",
   "execution_count": 200,
   "metadata": {},
   "outputs": [],
   "source": [
    "def evaluateModel(learn, test_tickers, model_name, model_folder, cont_names, cat_names):\n",
    "    all_predictions = []\n",
    "    all_actuals = []\n",
    "    test_data_list = []\n",
    "\n",
    "    for ticker in test_tickers:\n",
    "        try:\n",
    "            test_data = getTickerDataFrom1YrAgo(ticker)\n",
    "            if test_data.empty:\n",
    "                print(f\"Skipping {ticker} due to insufficient valid data\")\n",
    "                continue\n",
    "            test_data = test_data.dropna(subset=['EV/EBIT', 'ROIC'] + cont_names + cat_names)\n",
    "            if test_data.empty:\n",
    "                print(f\"Skipping {ticker} due to insufficient valid data after dropping NaNs\")\n",
    "                continue\n",
    "            test_data_list.append(test_data)\n",
    "        except Exception:\n",
    "            continue\n",
    "\n",
    "    if not test_data_list:\n",
    "        print(\"No valid test data collected\")\n",
    "        return None, None, None\n",
    "\n",
    "    combined_test_data = pd.concat(test_data_list, ignore_index=True)\n",
    "    test_dl = learn.dls.test_dl(combined_test_data)\n",
    "    preds, targs = learn.get_preds(dl=test_dl)\n",
    "    predictions = preds.numpy()\n",
    "    actuals = targs.numpy()\n",
    "\n",
    "    results_df = pd.DataFrame({\n",
    "        'Predicted': predictions.flatten(),\n",
    "        'Actual': actuals.flatten()\n",
    "    })\n",
    "\n",
    "    results_df['Residual'] = results_df['Actual'] - results_df['Predicted']\n",
    "    outlier_threshold = 2 * results_df['Residual'].std()\n",
    "    filtered_df = results_df[abs(results_df['Residual']) <= outlier_threshold]\n",
    "\n",
    "    mae = np.mean(np.abs(filtered_df['Residual']))\n",
    "    rmse = np.sqrt(np.mean(filtered_df['Residual']**2))\n",
    "    r2 = 1 - (np.sum(filtered_df['Residual']**2) / np.sum((filtered_df['Actual'] - filtered_df['Actual'].mean())**2))\n",
    "\n",
    "    logEvaluation(model_name, mae, rmse, r2, model_folder, test_tickers)\n",
    "    plotResults(filtered_df, model_name, model_folder)\n",
    "\n",
    "    return mae, rmse, r2"
   ]
  },
  {
   "cell_type": "code",
   "execution_count": 201,
   "metadata": {},
   "outputs": [
    {
     "data": {
      "text/html": [
       "<div>\n",
       "<style scoped>\n",
       "    .dataframe tbody tr th:only-of-type {\n",
       "        vertical-align: middle;\n",
       "    }\n",
       "\n",
       "    .dataframe tbody tr th {\n",
       "        vertical-align: top;\n",
       "    }\n",
       "\n",
       "    .dataframe thead th {\n",
       "        text-align: right;\n",
       "    }\n",
       "</style>\n",
       "<table border=\"1\" class=\"dataframe\">\n",
       "  <thead>\n",
       "    <tr style=\"text-align: right;\">\n",
       "      <th></th>\n",
       "      <th>Date</th>\n",
       "      <th>Open</th>\n",
       "      <th>High</th>\n",
       "      <th>Low</th>\n",
       "      <th>Close</th>\n",
       "      <th>Volume</th>\n",
       "      <th>Dividends</th>\n",
       "      <th>Stock Splits</th>\n",
       "      <th>Future Year Change</th>\n",
       "      <th>Industry</th>\n",
       "      <th>EV/EBIT</th>\n",
       "      <th>ROIC</th>\n",
       "    </tr>\n",
       "  </thead>\n",
       "  <tbody>\n",
       "    <tr>\n",
       "      <th>0</th>\n",
       "      <td>2023-12-26 00:00:00-05:00</td>\n",
       "      <td>101.445632</td>\n",
       "      <td>102.009439</td>\n",
       "      <td>101.297268</td>\n",
       "      <td>101.564331</td>\n",
       "      <td>1851400.0</td>\n",
       "      <td>0.0</td>\n",
       "      <td>0.0</td>\n",
       "      <td>-0.202181</td>\n",
       "      <td>Drug Manufacturers - General</td>\n",
       "      <td>7.979916</td>\n",
       "      <td>0.098999</td>\n",
       "    </tr>\n",
       "  </tbody>\n",
       "</table>\n",
       "</div>"
      ],
      "text/plain": [
       "                       Date        Open        High         Low       Close  \\\n",
       "0 2023-12-26 00:00:00-05:00  101.445632  102.009439  101.297268  101.564331   \n",
       "\n",
       "      Volume  Dividends  Stock Splits  Future Year Change  \\\n",
       "0  1851400.0        0.0           0.0           -0.202181   \n",
       "\n",
       "                       Industry   EV/EBIT      ROIC  \n",
       "0  Drug Manufacturers - General  7.979916  0.098999  "
      ]
     },
     "execution_count": 201,
     "metadata": {},
     "output_type": "execute_result"
    }
   ],
   "source": [
    "test = getTickerDataFrom1YrAgo(\"NVO\")\n",
    "test.head()"
   ]
  },
  {
   "cell_type": "code",
   "execution_count": 202,
   "metadata": {},
   "outputs": [
    {
     "name": "stderr",
     "output_type": "stream",
     "text": [
      "$CLUB: possibly delisted; no timezone found\n",
      "$MFB: possibly delisted; no price data found  (1d 2023-12-24 -> 2024-01-23)\n"
     ]
    },
    {
     "name": "stdout",
     "output_type": "stream",
     "text": [
      "Error fetching data for CLUB: No historical data available for CLUB around 2024-01-23.\n",
      "Error fetching data for MFB: No historical data available for MFB around 2024-01-23.\n"
     ]
    },
    {
     "name": "stderr",
     "output_type": "stream",
     "text": [
      "$ACO: possibly delisted; no price data found  (1d 2023-12-24 -> 2024-01-23)\n"
     ]
    },
    {
     "name": "stdout",
     "output_type": "stream",
     "text": [
      "Error fetching data for ACO: No historical data available for ACO around 2024-01-23.\n"
     ]
    },
    {
     "name": "stderr",
     "output_type": "stream",
     "text": [
      "$PENX: possibly delisted; no price data found  (1d 2023-12-24 -> 2024-01-23)\n"
     ]
    },
    {
     "name": "stdout",
     "output_type": "stream",
     "text": [
      "Error fetching data for PENX: No historical data available for PENX around 2024-01-23.\n"
     ]
    },
    {
     "name": "stderr",
     "output_type": "stream",
     "text": [
      "$CBEY: possibly delisted; no price data found  (1d 2023-12-24 -> 2024-01-23)\n"
     ]
    },
    {
     "name": "stdout",
     "output_type": "stream",
     "text": [
      "Error fetching data for CBEY: No historical data available for CBEY around 2024-01-23.\n"
     ]
    },
    {
     "name": "stderr",
     "output_type": "stream",
     "text": [
      "$AERL: possibly delisted; no price data found  (1d 2023-12-24 -> 2024-01-23)\n"
     ]
    },
    {
     "name": "stdout",
     "output_type": "stream",
     "text": [
      "Error fetching data for AERL: No historical data available for AERL around 2024-01-23.\n"
     ]
    },
    {
     "name": "stderr",
     "output_type": "stream",
     "text": [
      "$DCM: possibly delisted; no price data found  (1d 2023-12-24 -> 2024-01-23)\n"
     ]
    },
    {
     "name": "stdout",
     "output_type": "stream",
     "text": [
      "Error fetching data for DCM: No historical data available for DCM around 2024-01-23.\n"
     ]
    },
    {
     "name": "stderr",
     "output_type": "stream",
     "text": [
      "$BORN: possibly delisted; no timezone found\n",
      "$DCIN: possibly delisted; no price data found  (1d 2023-12-24 -> 2024-01-23)\n"
     ]
    },
    {
     "name": "stdout",
     "output_type": "stream",
     "text": [
      "Error fetching data for BORN: No historical data available for BORN around 2024-01-23.\n",
      "Error fetching data for DCIN: No historical data available for DCIN around 2024-01-23.\n"
     ]
    },
    {
     "name": "stderr",
     "output_type": "stream",
     "text": [
      "$BIG: possibly delisted; no timezone found\n"
     ]
    },
    {
     "name": "stdout",
     "output_type": "stream",
     "text": [
      "Error fetching data for BIG: No historical data available for BIG around 2024-01-23.\n"
     ]
    },
    {
     "name": "stderr",
     "output_type": "stream",
     "text": [
      "$NNC-G: possibly delisted; no timezone found\n",
      "$BONT: possibly delisted; no price data found  (1d 2023-12-24 -> 2024-01-23)\n"
     ]
    },
    {
     "name": "stdout",
     "output_type": "stream",
     "text": [
      "Error fetching data for NNC-G: No historical data available for NNC-G around 2024-01-23.\n",
      "Error fetching data for BONT: No historical data available for BONT around 2024-01-23.\n"
     ]
    },
    {
     "name": "stderr",
     "output_type": "stream",
     "text": [
      "$AHGP: possibly delisted; no price data found  (1d 2023-12-24 -> 2024-01-23)\n",
      "$OME: possibly delisted; no price data found  (1d 2023-12-24 -> 2024-01-23)\n"
     ]
    },
    {
     "name": "stdout",
     "output_type": "stream",
     "text": [
      "Error fetching data for AHGP: No historical data available for AHGP around 2024-01-23.\n",
      "Error fetching data for OME: No historical data available for OME around 2024-01-23.\n"
     ]
    },
    {
     "name": "stderr",
     "output_type": "stream",
     "text": [
      "$DCA: possibly delisted; no price data found  (1d 2023-12-24 -> 2024-01-23)\n"
     ]
    },
    {
     "name": "stdout",
     "output_type": "stream",
     "text": [
      "Error fetching data for DCA: No historical data available for DCA around 2024-01-23.\n"
     ]
    },
    {
     "name": "stderr",
     "output_type": "stream",
     "text": [
      "$MELA: possibly delisted; no price data found  (1d 2023-12-24 -> 2024-01-23)\n"
     ]
    },
    {
     "name": "stdout",
     "output_type": "stream",
     "text": [
      "Error fetching data for MELA: No historical data available for MELA around 2024-01-23.\n"
     ]
    },
    {
     "name": "stderr",
     "output_type": "stream",
     "text": [
      "$PRSC: possibly delisted; no timezone found\n"
     ]
    },
    {
     "name": "stdout",
     "output_type": "stream",
     "text": [
      "Error fetching data for PRSC: No historical data available for PRSC around 2024-01-23.\n"
     ]
    },
    {
     "name": "stderr",
     "output_type": "stream",
     "text": [
      "$CIT: possibly delisted; no timezone found\n"
     ]
    },
    {
     "name": "stdout",
     "output_type": "stream",
     "text": [
      "Error fetching data for CIT: No historical data available for CIT around 2024-01-23.\n"
     ]
    },
    {
     "name": "stderr",
     "output_type": "stream",
     "text": [
      "$AMSWA: possibly delisted; no timezone found\n"
     ]
    },
    {
     "name": "stdout",
     "output_type": "stream",
     "text": [
      "Error fetching data for AMSWA: No historical data available for AMSWA around 2024-01-23.\n"
     ]
    },
    {
     "name": "stderr",
     "output_type": "stream",
     "text": [
      "$TPRE: possibly delisted; no timezone found\n"
     ]
    },
    {
     "name": "stdout",
     "output_type": "stream",
     "text": [
      "Error fetching data for TPRE: No historical data available for TPRE around 2024-01-23.\n"
     ]
    },
    {
     "name": "stderr",
     "output_type": "stream",
     "text": [
      "$GPS: possibly delisted; no timezone found\n"
     ]
    },
    {
     "name": "stdout",
     "output_type": "stream",
     "text": [
      "Error fetching data for GPS: No historical data available for GPS around 2024-01-23.\n"
     ]
    },
    {
     "name": "stderr",
     "output_type": "stream",
     "text": [
      "$CVC: possibly delisted; no price data found  (1d 2023-12-24 -> 2024-01-23)\n"
     ]
    },
    {
     "name": "stdout",
     "output_type": "stream",
     "text": [
      "Error fetching data for CVC: No historical data available for CVC around 2024-01-23.\n"
     ]
    },
    {
     "name": "stderr",
     "output_type": "stream",
     "text": [
      "$CXO: possibly delisted; no timezone found\n",
      "$MXT: possibly delisted; no price data found  (1d 2023-12-24 -> 2024-01-23)\n"
     ]
    },
    {
     "name": "stdout",
     "output_type": "stream",
     "text": [
      "Error fetching data for CXO: No historical data available for CXO around 2024-01-23.\n",
      "Error fetching data for MXT: No historical data available for MXT around 2024-01-23.\n"
     ]
    },
    {
     "name": "stderr",
     "output_type": "stream",
     "text": [
      "$RSO: possibly delisted; no price data found  (1d 2023-12-24 -> 2024-01-23)\n",
      "$IMF: possibly delisted; no price data found  (1d 2023-12-24 -> 2024-01-23)\n"
     ]
    },
    {
     "name": "stdout",
     "output_type": "stream",
     "text": [
      "Error fetching data for RSO: No historical data available for RSO around 2024-01-23.\n",
      "Error fetching data for IMF: No historical data available for IMF around 2024-01-23.\n"
     ]
    },
    {
     "name": "stderr",
     "output_type": "stream",
     "text": [
      "$BWINA: possibly delisted; no price data found  (1d 2023-12-24 -> 2024-01-23)\n",
      "$CTRX: possibly delisted; no price data found  (1d 2023-12-24 -> 2024-01-23)\n"
     ]
    },
    {
     "name": "stdout",
     "output_type": "stream",
     "text": [
      "Error fetching data for BWINA: No historical data available for BWINA around 2024-01-23.\n",
      "Error fetching data for CTRX: No historical data available for CTRX around 2024-01-23.\n"
     ]
    },
    {
     "name": "stderr",
     "output_type": "stream",
     "text": [
      "$DUA: possibly delisted; no timezone found\n",
      "$FSC: possibly delisted; no price data found  (1d 2023-12-24 -> 2024-01-23)\n"
     ]
    },
    {
     "name": "stdout",
     "output_type": "stream",
     "text": [
      "Error fetching data for DUA: No historical data available for DUA around 2024-01-23.\n",
      "Error fetching data for FSC: No historical data available for FSC around 2024-01-23.\n"
     ]
    },
    {
     "name": "stderr",
     "output_type": "stream",
     "text": [
      "$BBBY: possibly delisted; no timezone found\n"
     ]
    },
    {
     "name": "stdout",
     "output_type": "stream",
     "text": [
      "Error fetching data for BBBY: No historical data available for BBBY around 2024-01-23.\n"
     ]
    },
    {
     "name": "stderr",
     "output_type": "stream",
     "text": [
      "$AHL-PA: possibly delisted; no timezone found\n"
     ]
    },
    {
     "name": "stdout",
     "output_type": "stream",
     "text": [
      "Error fetching data for AHL-PA: No historical data available for AHL-PA around 2024-01-23.\n"
     ]
    },
    {
     "name": "stderr",
     "output_type": "stream",
     "text": [
      "$XPLR: possibly delisted; no price data found  (1d 2023-12-24 -> 2024-01-23)\n"
     ]
    },
    {
     "name": "stdout",
     "output_type": "stream",
     "text": [
      "Error fetching data for XPLR: No historical data available for XPLR around 2024-01-23.\n"
     ]
    },
    {
     "name": "stderr",
     "output_type": "stream",
     "text": [
      "$BPY: possibly delisted; no timezone found\n"
     ]
    },
    {
     "name": "stdout",
     "output_type": "stream",
     "text": [
      "Error fetching data for BPY: No historical data available for BPY around 2024-01-23.\n"
     ]
    },
    {
     "name": "stderr",
     "output_type": "stream",
     "text": [
      "$CGIX: possibly delisted; no timezone found\n"
     ]
    },
    {
     "name": "stdout",
     "output_type": "stream",
     "text": [
      "Error fetching data for CGIX: No historical data available for CGIX around 2024-01-23.\n"
     ]
    },
    {
     "name": "stderr",
     "output_type": "stream",
     "text": [
      "$PYC: possibly delisted; no price data found  (1d 2023-12-24 -> 2024-01-23)\n",
      "$FULL: possibly delisted; no price data found  (1d 2023-12-24 -> 2024-01-23)\n"
     ]
    },
    {
     "name": "stdout",
     "output_type": "stream",
     "text": [
      "Error fetching data for PYC: No historical data available for PYC around 2024-01-23.\n",
      "Error fetching data for FULL: No historical data available for FULL around 2024-01-23.\n"
     ]
    },
    {
     "name": "stderr",
     "output_type": "stream",
     "text": [
      "$IEH: possibly delisted; no timezone found\n"
     ]
    },
    {
     "name": "stdout",
     "output_type": "stream",
     "text": [
      "Error fetching data for IEH: No historical data available for IEH around 2024-01-23.\n"
     ]
    },
    {
     "name": "stderr",
     "output_type": "stream",
     "text": [
      "$CY: possibly delisted; no timezone found\n"
     ]
    },
    {
     "name": "stdout",
     "output_type": "stream",
     "text": [
      "Error fetching data for CY: No historical data available for CY around 2024-01-23.\n"
     ]
    },
    {
     "name": "stderr",
     "output_type": "stream",
     "text": [
      "$JCS: possibly delisted; no timezone found\n"
     ]
    },
    {
     "name": "stdout",
     "output_type": "stream",
     "text": [
      "Error fetching data for JCS: No historical data available for JCS around 2024-01-23.\n"
     ]
    },
    {
     "name": "stderr",
     "output_type": "stream",
     "text": [
      "$ASEI: possibly delisted; no price data found  (1d 2023-12-24 -> 2024-01-23)\n",
      "$AEH: possibly delisted; no price data found  (1d 2023-12-24 -> 2024-01-23)\n"
     ]
    },
    {
     "name": "stdout",
     "output_type": "stream",
     "text": [
      "Error fetching data for ASEI: No historical data available for ASEI around 2024-01-23.\n",
      "Error fetching data for AEH: No historical data available for AEH around 2024-01-23.\n"
     ]
    },
    {
     "name": "stderr",
     "output_type": "stream",
     "text": [
      "$LDK: possibly delisted; no price data found  (1d 2023-12-24 -> 2024-01-23)\n"
     ]
    },
    {
     "name": "stdout",
     "output_type": "stream",
     "text": [
      "Error fetching data for LDK: No historical data available for LDK around 2024-01-23.\n"
     ]
    },
    {
     "name": "stderr",
     "output_type": "stream",
     "text": [
      "$TYY-C: possibly delisted; no timezone found\n",
      "$FAC: possibly delisted; no price data found  (1d 2023-12-24 -> 2024-01-23)\n",
      "$VTSS: possibly delisted; no price data found  (1d 2023-12-24 -> 2024-01-23)\n"
     ]
    },
    {
     "name": "stdout",
     "output_type": "stream",
     "text": [
      "Error fetching data for TYY-C: No historical data available for TYY-C around 2024-01-23.\n",
      "Error fetching data for FAC: No historical data available for FAC around 2024-01-23.\n",
      "Error fetching data for VTSS: No historical data available for VTSS around 2024-01-23.\n"
     ]
    },
    {
     "name": "stderr",
     "output_type": "stream",
     "text": [
      "$MTB-C: possibly delisted; no timezone found\n"
     ]
    },
    {
     "name": "stdout",
     "output_type": "stream",
     "text": [
      "Error fetching data for MTB-C: No historical data available for MTB-C around 2024-01-23.\n"
     ]
    },
    {
     "name": "stderr",
     "output_type": "stream",
     "text": [
      "$SAEX: possibly delisted; no timezone found\n",
      "$ANCX: possibly delisted; no price data found  (1d 2023-12-24 -> 2024-01-23)\n"
     ]
    },
    {
     "name": "stdout",
     "output_type": "stream",
     "text": [
      "Error fetching data for SAEX: No historical data available for SAEX around 2024-01-23.\n",
      "Error fetching data for ANCX: No historical data available for ANCX around 2024-01-23.\n"
     ]
    },
    {
     "name": "stderr",
     "output_type": "stream",
     "text": [
      "$SNBC: possibly delisted; no price data found  (1d 2023-12-24 -> 2024-01-23)\n"
     ]
    },
    {
     "name": "stdout",
     "output_type": "stream",
     "text": [
      "Error fetching data for SNBC: No historical data available for SNBC around 2024-01-23.\n"
     ]
    },
    {
     "name": "stderr",
     "output_type": "stream",
     "text": [
      "$MNP: possibly delisted; no timezone found\n"
     ]
    },
    {
     "name": "stdout",
     "output_type": "stream",
     "text": [
      "Error fetching data for MNP: No historical data available for MNP around 2024-01-23.\n"
     ]
    },
    {
     "name": "stderr",
     "output_type": "stream",
     "text": [
      "$WSTG: possibly delisted; no timezone found\n"
     ]
    },
    {
     "name": "stdout",
     "output_type": "stream",
     "text": [
      "Error fetching data for WSTG: No historical data available for WSTG around 2024-01-23.\n"
     ]
    },
    {
     "name": "stderr",
     "output_type": "stream",
     "text": [
      "$DUKH: possibly delisted; no price data found  (1d 2023-12-24 -> 2024-01-23) (Yahoo error = \"Data doesn't exist for startDate = 1703394000, endDate = 1705986000\")\n"
     ]
    },
    {
     "name": "stdout",
     "output_type": "stream",
     "text": [
      "Error fetching data for DUKH: No historical data available for DUKH around 2024-01-23.\n"
     ]
    },
    {
     "name": "stderr",
     "output_type": "stream",
     "text": [
      "$THTI: possibly delisted; no timezone found\n",
      "$OSM: possibly delisted; no price data found  (1d 2023-12-24 -> 2024-01-23)\n"
     ]
    },
    {
     "name": "stdout",
     "output_type": "stream",
     "text": [
      "Error fetching data for THTI: No historical data available for THTI around 2024-01-23.\n",
      "Error fetching data for OSM: No historical data available for OSM around 2024-01-23.\n"
     ]
    },
    {
     "name": "stderr",
     "output_type": "stream",
     "text": [
      "$HT-B: possibly delisted; no timezone found\n"
     ]
    },
    {
     "name": "stdout",
     "output_type": "stream",
     "text": [
      "Error fetching data for HT-B: No historical data available for HT-B around 2024-01-23.\n"
     ]
    },
    {
     "name": "stderr",
     "output_type": "stream",
     "text": [
      "$ATTU: possibly delisted; no timezone found\n",
      "$MEAS: possibly delisted; no price data found  (1d 2023-12-24 -> 2024-01-23)\n"
     ]
    },
    {
     "name": "stdout",
     "output_type": "stream",
     "text": [
      "Error fetching data for ATTU: No historical data available for ATTU around 2024-01-23.\n",
      "Error fetching data for MEAS: No historical data available for MEAS around 2024-01-23.\n"
     ]
    },
    {
     "name": "stderr",
     "output_type": "stream",
     "text": [
      "$RAX: possibly delisted; no price data found  (1d 2023-12-24 -> 2024-01-23)\n"
     ]
    },
    {
     "name": "stdout",
     "output_type": "stream",
     "text": [
      "Error fetching data for RAX: No historical data available for RAX around 2024-01-23.\n"
     ]
    },
    {
     "name": "stderr",
     "output_type": "stream",
     "text": [
      "$NNA: possibly delisted; no timezone found\n"
     ]
    },
    {
     "name": "stdout",
     "output_type": "stream",
     "text": [
      "Error fetching data for NNA: No historical data available for NNA around 2024-01-23.\n"
     ]
    },
    {
     "name": "stderr",
     "output_type": "stream",
     "text": [
      "$DRTX: possibly delisted; no price data found  (1d 2023-12-24 -> 2024-01-23)\n"
     ]
    },
    {
     "name": "stdout",
     "output_type": "stream",
     "text": [
      "Error fetching data for DRTX: No historical data available for DRTX around 2024-01-23.\n"
     ]
    },
    {
     "name": "stderr",
     "output_type": "stream",
     "text": [
      "$ACAS: possibly delisted; no price data found  (1d 2023-12-24 -> 2024-01-23)\n"
     ]
    },
    {
     "name": "stdout",
     "output_type": "stream",
     "text": [
      "Error fetching data for ACAS: No historical data available for ACAS around 2024-01-23.\n"
     ]
    },
    {
     "name": "stderr",
     "output_type": "stream",
     "text": [
      "$GWR: possibly delisted; no timezone found\n"
     ]
    },
    {
     "name": "stdout",
     "output_type": "stream",
     "text": [
      "Error fetching data for GWR: No historical data available for GWR around 2024-01-23.\n"
     ]
    },
    {
     "name": "stderr",
     "output_type": "stream",
     "text": [
      "$OSIR: possibly delisted; no timezone found\n"
     ]
    },
    {
     "name": "stdout",
     "output_type": "stream",
     "text": [
      "Error fetching data for OSIR: No historical data available for OSIR around 2024-01-23.\n"
     ]
    },
    {
     "name": "stderr",
     "output_type": "stream",
     "text": [
      "$MRLN: possibly delisted; no timezone found\n"
     ]
    },
    {
     "name": "stdout",
     "output_type": "stream",
     "text": [
      "Error fetching data for MRLN: No historical data available for MRLN around 2024-01-23.\n"
     ]
    },
    {
     "name": "stderr",
     "output_type": "stream",
     "text": [
      "$LXP-C: possibly delisted; no timezone found\n"
     ]
    },
    {
     "name": "stdout",
     "output_type": "stream",
     "text": [
      "Error fetching data for LXP-C: No historical data available for LXP-C around 2024-01-23.\n"
     ]
    },
    {
     "name": "stderr",
     "output_type": "stream",
     "text": [
      "$UBA: possibly delisted; no timezone found\n"
     ]
    },
    {
     "name": "stdout",
     "output_type": "stream",
     "text": [
      "Error fetching data for UBA: No historical data available for UBA around 2024-01-23.\n"
     ]
    },
    {
     "name": "stderr",
     "output_type": "stream",
     "text": [
      "$SFI: possibly delisted; no price data found  (1d 2023-12-24 -> 2024-01-23)\n"
     ]
    },
    {
     "name": "stdout",
     "output_type": "stream",
     "text": [
      "Error fetching data for SFI: No historical data available for SFI around 2024-01-23.\n"
     ]
    },
    {
     "name": "stderr",
     "output_type": "stream",
     "text": [
      "$RLD: possibly delisted; no price data found  (1d 2023-12-24 -> 2024-01-23)\n",
      "$BRCD: possibly delisted; no price data found  (1d 2023-12-24 -> 2024-01-23)\n"
     ]
    },
    {
     "name": "stdout",
     "output_type": "stream",
     "text": [
      "Error fetching data for RLD: No historical data available for RLD around 2024-01-23.\n",
      "Error fetching data for BRCD: No historical data available for BRCD around 2024-01-23.\n"
     ]
    },
    {
     "name": "stderr",
     "output_type": "stream",
     "text": [
      "$CLACW: possibly delisted; no timezone found\n"
     ]
    },
    {
     "name": "stdout",
     "output_type": "stream",
     "text": [
      "Error fetching data for CLACW: No historical data available for CLACW around 2024-01-23.\n"
     ]
    },
    {
     "name": "stderr",
     "output_type": "stream",
     "text": [
      "$CTB: possibly delisted; no timezone found\n"
     ]
    },
    {
     "name": "stdout",
     "output_type": "stream",
     "text": [
      "Error fetching data for CTB: No historical data available for CTB around 2024-01-23.\n"
     ]
    },
    {
     "name": "stderr",
     "output_type": "stream",
     "text": [
      "$BDMS: possibly delisted; no price data found  (1d 2023-12-24 -> 2024-01-23)\n"
     ]
    },
    {
     "name": "stdout",
     "output_type": "stream",
     "text": [
      "Error fetching data for BDMS: No historical data available for BDMS around 2024-01-23.\n"
     ]
    },
    {
     "name": "stderr",
     "output_type": "stream",
     "text": [
      "$JADE: possibly delisted; no price data found  (1d 2023-12-24 -> 2024-01-23) (Yahoo error = \"Data doesn't exist for startDate = 1703394000, endDate = 1705986000\")\n"
     ]
    },
    {
     "name": "stdout",
     "output_type": "stream",
     "text": [
      "Error fetching data for JADE: No historical data available for JADE around 2024-01-23.\n"
     ]
    },
    {
     "name": "stderr",
     "output_type": "stream",
     "text": [
      "$JACQU: possibly delisted; no price data found  (1d 2023-12-24 -> 2024-01-23)\n"
     ]
    },
    {
     "name": "stdout",
     "output_type": "stream",
     "text": [
      "Error fetching data for JACQU: No historical data available for JACQU around 2024-01-23.\n"
     ]
    },
    {
     "name": "stderr",
     "output_type": "stream",
     "text": [
      "$IILG: possibly delisted; no price data found  (1d 2023-12-24 -> 2024-01-23)\n"
     ]
    },
    {
     "name": "stdout",
     "output_type": "stream",
     "text": [
      "Error fetching data for IILG: No historical data available for IILG around 2024-01-23.\n"
     ]
    },
    {
     "name": "stderr",
     "output_type": "stream",
     "text": [
      "$GLOG: possibly delisted; no timezone found\n"
     ]
    },
    {
     "name": "stdout",
     "output_type": "stream",
     "text": [
      "Error fetching data for GLOG: No historical data available for GLOG around 2024-01-23.\n"
     ]
    },
    {
     "name": "stderr",
     "output_type": "stream",
     "text": [
      "$KEYN: possibly delisted; no price data found  (1d 2023-12-24 -> 2024-01-23)\n"
     ]
    },
    {
     "name": "stdout",
     "output_type": "stream",
     "text": [
      "Error fetching data for KEYN: No historical data available for KEYN around 2024-01-23.\n"
     ]
    },
    {
     "name": "stderr",
     "output_type": "stream",
     "text": [
      "$LG: possibly delisted; no price data found  (1d 2023-12-24 -> 2024-01-23)\n",
      "$HBC: possibly delisted; no price data found  (1d 2023-12-24 -> 2024-01-23)\n"
     ]
    },
    {
     "name": "stdout",
     "output_type": "stream",
     "text": [
      "Error fetching data for LG: No historical data available for LG around 2024-01-23.\n",
      "Error fetching data for HBC: No historical data available for HBC around 2024-01-23.\n"
     ]
    },
    {
     "name": "stderr",
     "output_type": "stream",
     "text": [
      "$DANG: possibly delisted; no price data found  (1d 2023-12-24 -> 2024-01-23)\n"
     ]
    },
    {
     "name": "stdout",
     "output_type": "stream",
     "text": [
      "Error fetching data for DANG: No historical data available for DANG around 2024-01-23.\n"
     ]
    },
    {
     "name": "stderr",
     "output_type": "stream",
     "text": [
      "$MIC: possibly delisted; no timezone found\n"
     ]
    },
    {
     "name": "stdout",
     "output_type": "stream",
     "text": [
      "Error fetching data for MIC: No historical data available for MIC around 2024-01-23.\n"
     ]
    },
    {
     "name": "stderr",
     "output_type": "stream",
     "text": [
      "$RBS-P: possibly delisted; no timezone found\n"
     ]
    },
    {
     "name": "stdout",
     "output_type": "stream",
     "text": [
      "Error fetching data for RBS-P: No historical data available for RBS-P around 2024-01-23.\n"
     ]
    },
    {
     "name": "stderr",
     "output_type": "stream",
     "text": [
      "$INFI: possibly delisted; no timezone found\n"
     ]
    },
    {
     "name": "stdout",
     "output_type": "stream",
     "text": [
      "Error fetching data for INFI: No historical data available for INFI around 2024-01-23.\n"
     ]
    },
    {
     "name": "stderr",
     "output_type": "stream",
     "text": [
      "$TRIT: possibly delisted; no timezone found\n"
     ]
    },
    {
     "name": "stdout",
     "output_type": "stream",
     "text": [
      "Error fetching data for TRIT: No historical data available for TRIT around 2024-01-23.\n"
     ]
    },
    {
     "name": "stderr",
     "output_type": "stream",
     "text": [
      "$CTR: possibly delisted; no timezone found\n"
     ]
    },
    {
     "name": "stdout",
     "output_type": "stream",
     "text": [
      "Error fetching data for CTR: No historical data available for CTR around 2024-01-23.\n"
     ]
    },
    {
     "name": "stderr",
     "output_type": "stream",
     "text": [
      "$NAVR: possibly delisted; no price data found  (1d 2023-12-24 -> 2024-01-23)\n"
     ]
    },
    {
     "name": "stdout",
     "output_type": "stream",
     "text": [
      "Error fetching data for NAVR: No historical data available for NAVR around 2024-01-23.\n"
     ]
    },
    {
     "name": "stderr",
     "output_type": "stream",
     "text": [
      "$PSA-X: possibly delisted; no timezone found\n"
     ]
    },
    {
     "name": "stdout",
     "output_type": "stream",
     "text": [
      "Error fetching data for PSA-X: No historical data available for PSA-X around 2024-01-23.\n"
     ]
    },
    {
     "name": "stderr",
     "output_type": "stream",
     "text": [
      "$SPPR: possibly delisted; no price data found  (1d 2023-12-24 -> 2024-01-23)\n"
     ]
    },
    {
     "name": "stdout",
     "output_type": "stream",
     "text": [
      "Error fetching data for SPPR: No historical data available for SPPR around 2024-01-23.\n"
     ]
    },
    {
     "name": "stderr",
     "output_type": "stream",
     "text": [
      "$SONA: possibly delisted; no timezone found\n"
     ]
    },
    {
     "name": "stdout",
     "output_type": "stream",
     "text": [
      "Error fetching data for SONA: No historical data available for SONA around 2024-01-23.\n"
     ]
    },
    {
     "name": "stderr",
     "output_type": "stream",
     "text": [
      "$NMY-F: possibly delisted; no timezone found\n"
     ]
    },
    {
     "name": "stdout",
     "output_type": "stream",
     "text": [
      "Error fetching data for NMY-F: No historical data available for NMY-F around 2024-01-23.\n",
      "Error fetching data for GOODN: unsupported operand type(s) for /: 'NoneType' and 'float'\n"
     ]
    },
    {
     "name": "stderr",
     "output_type": "stream",
     "text": [
      "$ZB-H: possibly delisted; no timezone found\n"
     ]
    },
    {
     "name": "stdout",
     "output_type": "stream",
     "text": [
      "Error fetching data for ZB-H: No historical data available for ZB-H around 2024-01-23.\n"
     ]
    },
    {
     "name": "stderr",
     "output_type": "stream",
     "text": [
      "$CYTX: possibly delisted; no timezone found\n"
     ]
    },
    {
     "name": "stdout",
     "output_type": "stream",
     "text": [
      "Error fetching data for CYTX: No historical data available for CYTX around 2024-01-23.\n"
     ]
    },
    {
     "name": "stderr",
     "output_type": "stream",
     "text": [
      "$PPP: possibly delisted; no price data found  (1d 2023-12-24 -> 2024-01-23)\n",
      "$JBJ: possibly delisted; no price data found  (1d 2023-12-24 -> 2024-01-23)\n"
     ]
    },
    {
     "name": "stdout",
     "output_type": "stream",
     "text": [
      "Error fetching data for PPP: No historical data available for PPP around 2024-01-23.\n",
      "Error fetching data for JBJ: No historical data available for JBJ around 2024-01-23.\n"
     ]
    },
    {
     "name": "stderr",
     "output_type": "stream",
     "text": [
      "$FDEF: possibly delisted; no timezone found\n"
     ]
    },
    {
     "name": "stdout",
     "output_type": "stream",
     "text": [
      "Error fetching data for FDEF: No historical data available for FDEF around 2024-01-23.\n"
     ]
    },
    {
     "name": "stderr",
     "output_type": "stream",
     "text": [
      "$GMETP: possibly delisted; no timezone found\n",
      "$CPGI: possibly delisted; no price data found  (1d 2023-12-24 -> 2024-01-23)\n"
     ]
    },
    {
     "name": "stdout",
     "output_type": "stream",
     "text": [
      "Error fetching data for GMETP: No historical data available for GMETP around 2024-01-23.\n",
      "Error fetching data for CPGI: No historical data available for CPGI around 2024-01-23.\n"
     ]
    },
    {
     "name": "stderr",
     "output_type": "stream",
     "text": [
      "$CRMBU: possibly delisted; no timezone found\n"
     ]
    },
    {
     "name": "stdout",
     "output_type": "stream",
     "text": [
      "Error fetching data for CRMBU: No historical data available for CRMBU around 2024-01-23.\n"
     ]
    },
    {
     "name": "stderr",
     "output_type": "stream",
     "text": [
      "$BLMT: possibly delisted; no timezone found\n"
     ]
    },
    {
     "name": "stdout",
     "output_type": "stream",
     "text": [
      "Error fetching data for BLMT: No historical data available for BLMT around 2024-01-23.\n"
     ]
    },
    {
     "name": "stderr",
     "output_type": "stream",
     "text": [
      "$BGSCU: possibly delisted; no price data found  (1d 2023-12-24 -> 2024-01-23)\n"
     ]
    },
    {
     "name": "stdout",
     "output_type": "stream",
     "text": [
      "Error fetching data for BGSCU: No historical data available for BGSCU around 2024-01-23.\n"
     ]
    },
    {
     "name": "stderr",
     "output_type": "stream",
     "text": [
      "$FCTY: possibly delisted; no price data found  (1d 2023-12-24 -> 2024-01-23)\n",
      "$VAL.P: possibly delisted; no price data found  (1d 2023-12-24 -> 2024-01-23)\n"
     ]
    },
    {
     "name": "stdout",
     "output_type": "stream",
     "text": [
      "Error fetching data for FCTY: No historical data available for FCTY around 2024-01-23.\n",
      "Error fetching data for VAL.P: No historical data available for VAL.P around 2024-01-23.\n"
     ]
    },
    {
     "name": "stderr",
     "output_type": "stream",
     "text": [
      "$CLR: possibly delisted; no timezone found\n"
     ]
    },
    {
     "name": "stdout",
     "output_type": "stream",
     "text": [
      "Error fetching data for CLR: No historical data available for CLR around 2024-01-23.\n"
     ]
    },
    {
     "name": "stderr",
     "output_type": "stream",
     "text": [
      "$ARIA: possibly delisted; no price data found  (1d 2023-12-24 -> 2024-01-23)\n"
     ]
    },
    {
     "name": "stdout",
     "output_type": "stream",
     "text": [
      "Error fetching data for ARIA: No historical data available for ARIA around 2024-01-23.\n"
     ]
    },
    {
     "name": "stderr",
     "output_type": "stream",
     "text": [
      "$HBA-H: possibly delisted; no timezone found\n",
      "$GUID: possibly delisted; no price data found  (1d 2023-12-24 -> 2024-01-23)\n"
     ]
    },
    {
     "name": "stdout",
     "output_type": "stream",
     "text": [
      "Error fetching data for HBA-H: No historical data available for HBA-H around 2024-01-23.\n",
      "Error fetching data for GUID: No historical data available for GUID around 2024-01-23.\n"
     ]
    },
    {
     "name": "stderr",
     "output_type": "stream",
     "text": [
      "$MON: possibly delisted; no timezone found\n",
      "$CACGU: possibly delisted; no price data found  (1d 2023-12-24 -> 2024-01-23)\n"
     ]
    },
    {
     "name": "stdout",
     "output_type": "stream",
     "text": [
      "Error fetching data for MON: No historical data available for MON around 2024-01-23.\n",
      "Error fetching data for CACGU: No historical data available for CACGU around 2024-01-23.\n"
     ]
    },
    {
     "name": "stderr",
     "output_type": "stream",
     "text": [
      "$LOCK: possibly delisted; no price data found  (1d 2023-12-24 -> 2024-01-23)\n"
     ]
    },
    {
     "name": "stdout",
     "output_type": "stream",
     "text": [
      "Error fetching data for LOCK: No historical data available for LOCK around 2024-01-23.\n"
     ]
    },
    {
     "name": "stderr",
     "output_type": "stream",
     "text": [
      "$VLTR: possibly delisted; no price data found  (1d 2023-12-24 -> 2024-01-23)\n"
     ]
    },
    {
     "name": "stdout",
     "output_type": "stream",
     "text": [
      "Error fetching data for VLTR: No historical data available for VLTR around 2024-01-23.\n"
     ]
    },
    {
     "name": "stderr",
     "output_type": "stream",
     "text": [
      "$IDSA: possibly delisted; no timezone found\n"
     ]
    },
    {
     "name": "stdout",
     "output_type": "stream",
     "text": [
      "Error fetching data for IDSA: No historical data available for IDSA around 2024-01-23.\n"
     ]
    },
    {
     "name": "stderr",
     "output_type": "stream",
     "text": [
      "$CYTXW: possibly delisted; no timezone found\n",
      "$EVRY: possibly delisted; no price data found  (1d 2023-12-24 -> 2024-01-23)\n"
     ]
    },
    {
     "name": "stdout",
     "output_type": "stream",
     "text": [
      "Error fetching data for CYTXW: No historical data available for CYTXW around 2024-01-23.\n",
      "Error fetching data for EVRY: No historical data available for EVRY around 2024-01-23.\n"
     ]
    },
    {
     "name": "stderr",
     "output_type": "stream",
     "text": [
      "$IRDMZ: possibly delisted; no timezone found\n"
     ]
    },
    {
     "name": "stdout",
     "output_type": "stream",
     "text": [
      "Error fetching data for IRDMZ: No historical data available for IRDMZ around 2024-01-23.\n"
     ]
    },
    {
     "name": "stderr",
     "output_type": "stream",
     "text": [
      "$IQNT: possibly delisted; no price data found  (1d 2023-12-24 -> 2024-01-23)\n"
     ]
    },
    {
     "name": "stdout",
     "output_type": "stream",
     "text": [
      "Error fetching data for IQNT: No historical data available for IQNT around 2024-01-23.\n"
     ]
    },
    {
     "name": "stderr",
     "output_type": "stream",
     "text": [
      "Could not get exchangeTimezoneName for ticker 'KSM' reason: 'chart'\n",
      "$KSM: possibly delisted; no timezone found\n"
     ]
    },
    {
     "name": "stdout",
     "output_type": "stream",
     "text": [
      "Error fetching data for KSM: No historical data available for KSM around 2024-01-23.\n"
     ]
    },
    {
     "name": "stderr",
     "output_type": "stream",
     "text": [
      "$MVC: possibly delisted; no timezone found\n"
     ]
    },
    {
     "name": "stdout",
     "output_type": "stream",
     "text": [
      "Error fetching data for MVC: No historical data available for MVC around 2024-01-23.\n"
     ]
    },
    {
     "name": "stderr",
     "output_type": "stream",
     "text": [
      "$ATLS: possibly delisted; no timezone found\n",
      "$ABTL: possibly delisted; no price data found  (1d 2023-12-24 -> 2024-01-23)\n",
      "$PLP: possibly delisted; no price data found  (1d 2023-12-24 -> 2024-01-23)\n"
     ]
    },
    {
     "name": "stdout",
     "output_type": "stream",
     "text": [
      "Error fetching data for ATLS: No historical data available for ATLS around 2024-01-23.\n",
      "Error fetching data for ABTL: No historical data available for ABTL around 2024-01-23.\n",
      "Error fetching data for PLP: No historical data available for PLP around 2024-01-23.\n"
     ]
    },
    {
     "name": "stderr",
     "output_type": "stream",
     "text": [
      "$MIE: possibly delisted; no timezone found\n"
     ]
    },
    {
     "name": "stdout",
     "output_type": "stream",
     "text": [
      "Error fetching data for MIE: No historical data available for MIE around 2024-01-23.\n"
     ]
    },
    {
     "name": "stderr",
     "output_type": "stream",
     "text": [
      "$MDCO: possibly delisted; no timezone found\n"
     ]
    },
    {
     "name": "stdout",
     "output_type": "stream",
     "text": [
      "Error fetching data for MDCO: No historical data available for MDCO around 2024-01-23.\n"
     ]
    },
    {
     "name": "stderr",
     "output_type": "stream",
     "text": [
      "$NEE-F: possibly delisted; no timezone found\n"
     ]
    },
    {
     "name": "stdout",
     "output_type": "stream",
     "text": [
      "Error fetching data for NEE-F: No historical data available for NEE-F around 2024-01-23.\n"
     ]
    },
    {
     "name": "stderr",
     "output_type": "stream",
     "text": [
      "$GGE: possibly delisted; no timezone found\n"
     ]
    },
    {
     "name": "stdout",
     "output_type": "stream",
     "text": [
      "Error fetching data for GGE: No historical data available for GGE around 2024-01-23.\n"
     ]
    },
    {
     "name": "stderr",
     "output_type": "stream",
     "text": [
      "$RYL: possibly delisted; no price data found  (1d 2023-12-24 -> 2024-01-23)\n"
     ]
    },
    {
     "name": "stdout",
     "output_type": "stream",
     "text": [
      "Error fetching data for RYL: No historical data available for RYL around 2024-01-23.\n"
     ]
    },
    {
     "name": "stderr",
     "output_type": "stream",
     "text": [
      "$FISV: possibly delisted; no price data found  (1d 2023-12-24 -> 2024-01-23) (Yahoo error = \"No data found, symbol may be delisted\")\n"
     ]
    },
    {
     "name": "stdout",
     "output_type": "stream",
     "text": [
      "Error fetching data for FISV: No historical data available for FISV around 2024-01-23.\n"
     ]
    },
    {
     "name": "stderr",
     "output_type": "stream",
     "text": [
      "$SAVE: possibly delisted; no timezone found\n"
     ]
    },
    {
     "name": "stdout",
     "output_type": "stream",
     "text": [
      "Error fetching data for SAVE: No historical data available for SAVE around 2024-01-23.\n"
     ]
    },
    {
     "name": "stderr",
     "output_type": "stream",
     "text": [
      "$HBA-F: possibly delisted; no timezone found\n",
      "$OMX: possibly delisted; no price data found  (1d 2023-12-24 -> 2024-01-23)\n"
     ]
    },
    {
     "name": "stdout",
     "output_type": "stream",
     "text": [
      "Error fetching data for HBA-F: No historical data available for HBA-F around 2024-01-23.\n",
      "Error fetching data for OMX: No historical data available for OMX around 2024-01-23.\n"
     ]
    },
    {
     "name": "stderr",
     "output_type": "stream",
     "text": [
      "$PNC.W: possibly delisted; no timezone found\n"
     ]
    },
    {
     "name": "stdout",
     "output_type": "stream",
     "text": [
      "Error fetching data for PNC.W: No historical data available for PNC.W around 2024-01-23.\n"
     ]
    },
    {
     "name": "stderr",
     "output_type": "stream",
     "text": [
      "$LOGM: possibly delisted; no timezone found\n",
      "$CIS: possibly delisted; no price data found  (1d 2023-12-24 -> 2024-01-23)\n"
     ]
    },
    {
     "name": "stdout",
     "output_type": "stream",
     "text": [
      "Error fetching data for LOGM: No historical data available for LOGM around 2024-01-23.\n",
      "Error fetching data for CIS: No historical data available for CIS around 2024-01-23.\n"
     ]
    },
    {
     "name": "stderr",
     "output_type": "stream",
     "text": [
      "$VIFL: possibly delisted; no price data found  (1d 2023-12-24 -> 2024-01-23)\n"
     ]
    },
    {
     "name": "stdout",
     "output_type": "stream",
     "text": [
      "Error fetching data for VIFL: No historical data available for VIFL around 2024-01-23.\n"
     ]
    },
    {
     "name": "stderr",
     "output_type": "stream",
     "text": [
      "$GWRU: possibly delisted; no timezone found\n",
      "$REXX: possibly delisted; no price data found  (1d 2023-12-24 -> 2024-01-23)\n",
      "$CBRX: possibly delisted; no price data found  (1d 2023-12-24 -> 2024-01-23)\n"
     ]
    },
    {
     "name": "stdout",
     "output_type": "stream",
     "text": [
      "Error fetching data for GWRU: No historical data available for GWRU around 2024-01-23.\n",
      "Error fetching data for REXX: No historical data available for REXX around 2024-01-23.\n",
      "Error fetching data for CBRX: No historical data available for CBRX around 2024-01-23.\n"
     ]
    },
    {
     "name": "stderr",
     "output_type": "stream",
     "text": [
      "$ISCA: possibly delisted; no timezone found\n"
     ]
    },
    {
     "name": "stdout",
     "output_type": "stream",
     "text": [
      "Error fetching data for ISCA: No historical data available for ISCA around 2024-01-23.\n"
     ]
    },
    {
     "name": "stderr",
     "output_type": "stream",
     "text": [
      "$STFC: possibly delisted; no timezone found\n"
     ]
    },
    {
     "name": "stdout",
     "output_type": "stream",
     "text": [
      "Error fetching data for STFC: No historical data available for STFC around 2024-01-23.\n"
     ]
    },
    {
     "name": "stderr",
     "output_type": "stream",
     "text": [
      "$NNP: possibly delisted; no price data found  (1d 2023-12-24 -> 2024-01-23)\n"
     ]
    },
    {
     "name": "stdout",
     "output_type": "stream",
     "text": [
      "Error fetching data for NNP: No historical data available for NNP around 2024-01-23.\n"
     ]
    },
    {
     "name": "stderr",
     "output_type": "stream",
     "text": [
      "$CBPO: possibly delisted; no timezone found\n"
     ]
    },
    {
     "name": "stdout",
     "output_type": "stream",
     "text": [
      "Error fetching data for CBPO: No historical data available for CBPO around 2024-01-23.\n"
     ]
    },
    {
     "name": "stderr",
     "output_type": "stream",
     "text": [
      "$MEN: possibly delisted; no timezone found\n",
      "$SIAL: possibly delisted; no price data found  (1d 2023-12-24 -> 2024-01-23)\n"
     ]
    },
    {
     "name": "stdout",
     "output_type": "stream",
     "text": [
      "Error fetching data for MEN: No historical data available for MEN around 2024-01-23.\n",
      "Error fetching data for SIAL: No historical data available for SIAL around 2024-01-23.\n"
     ]
    },
    {
     "name": "stderr",
     "output_type": "stream",
     "text": [
      "$STZ.B: possibly delisted; no price data found  (1d 2023-12-24 -> 2024-01-23)\n",
      "$TELK: possibly delisted; no price data found  (1d 2023-12-24 -> 2024-01-23)\n",
      "$CYNO: possibly delisted; no price data found  (1d 2023-12-24 -> 2024-01-23)\n"
     ]
    },
    {
     "name": "stdout",
     "output_type": "stream",
     "text": [
      "Error fetching data for STZ.B: No historical data available for STZ.B around 2024-01-23.\n",
      "Error fetching data for TELK: No historical data available for TELK around 2024-01-23.\n",
      "Error fetching data for CYNO: No historical data available for CYNO around 2024-01-23.\n"
     ]
    },
    {
     "name": "stderr",
     "output_type": "stream",
     "text": [
      "$SGZA: possibly delisted; no timezone found\n",
      "$PVR: possibly delisted; no price data found  (1d 2023-12-24 -> 2024-01-23)\n"
     ]
    },
    {
     "name": "stdout",
     "output_type": "stream",
     "text": [
      "Error fetching data for SGZA: No historical data available for SGZA around 2024-01-23.\n",
      "Error fetching data for PVR: No historical data available for PVR around 2024-01-23.\n"
     ]
    },
    {
     "name": "stderr",
     "output_type": "stream",
     "text": [
      "$AAN: possibly delisted; no timezone found\n",
      "$FES: possibly delisted; no price data found  (1d 2023-12-24 -> 2024-01-23)\n"
     ]
    },
    {
     "name": "stdout",
     "output_type": "stream",
     "text": [
      "Error fetching data for AAN: No historical data available for AAN around 2024-01-23.\n",
      "Error fetching data for FES: No historical data available for FES around 2024-01-23.\n"
     ]
    },
    {
     "name": "stderr",
     "output_type": "stream",
     "text": [
      "$VSCI: possibly delisted; no price data found  (1d 2023-12-24 -> 2024-01-23)\n"
     ]
    },
    {
     "name": "stdout",
     "output_type": "stream",
     "text": [
      "Error fetching data for VSCI: No historical data available for VSCI around 2024-01-23.\n"
     ]
    },
    {
     "name": "stderr",
     "output_type": "stream",
     "text": [
      "$XRM: possibly delisted; no price data found  (1d 2023-12-24 -> 2024-01-23)\n"
     ]
    },
    {
     "name": "stdout",
     "output_type": "stream",
     "text": [
      "Error fetching data for XRM: No historical data available for XRM around 2024-01-23.\n"
     ]
    },
    {
     "name": "stderr",
     "output_type": "stream",
     "text": [
      "$FLTX: possibly delisted; no price data found  (1d 2023-12-24 -> 2024-01-23)\n"
     ]
    },
    {
     "name": "stdout",
     "output_type": "stream",
     "text": [
      "Error fetching data for FLTX: No historical data available for FLTX around 2024-01-23.\n"
     ]
    },
    {
     "name": "stderr",
     "output_type": "stream",
     "text": [
      "$JW.B: possibly delisted; no timezone found\n"
     ]
    },
    {
     "name": "stdout",
     "output_type": "stream",
     "text": [
      "Error fetching data for JW.B: No historical data available for JW.B around 2024-01-23.\n"
     ]
    },
    {
     "name": "stderr",
     "output_type": "stream",
     "text": [
      "$HEP: possibly delisted; no timezone found\n"
     ]
    },
    {
     "name": "stdout",
     "output_type": "stream",
     "text": [
      "Error fetching data for HEP: No historical data available for HEP around 2024-01-23.\n"
     ]
    },
    {
     "name": "stderr",
     "output_type": "stream",
     "text": [
      "$GENT: possibly delisted; no price data found  (1d 2023-12-24 -> 2024-01-23) (Yahoo error = \"Data doesn't exist for startDate = 1703394000, endDate = 1705986000\")\n"
     ]
    },
    {
     "name": "stdout",
     "output_type": "stream",
     "text": [
      "Error fetching data for GENT: No historical data available for GENT around 2024-01-23.\n"
     ]
    },
    {
     "name": "stderr",
     "output_type": "stream",
     "text": [
      "$ZGNX: possibly delisted; no timezone found\n",
      "$BNA: possibly delisted; no price data found  (1d 2023-12-24 -> 2024-01-23)\n"
     ]
    },
    {
     "name": "stdout",
     "output_type": "stream",
     "text": [
      "Error fetching data for ZGNX: No historical data available for ZGNX around 2024-01-23.\n",
      "Error fetching data for BNA: No historical data available for BNA around 2024-01-23.\n"
     ]
    },
    {
     "name": "stderr",
     "output_type": "stream",
     "text": [
      "$NVTL: possibly delisted; no price data found  (1d 2023-12-24 -> 2024-01-23)\n"
     ]
    },
    {
     "name": "stdout",
     "output_type": "stream",
     "text": [
      "Error fetching data for NVTL: No historical data available for NVTL around 2024-01-23.\n"
     ]
    },
    {
     "name": "stderr",
     "output_type": "stream",
     "text": [
      "$ASIA: possibly delisted; no price data found  (1d 2023-12-24 -> 2024-01-23) (Yahoo error = \"Data doesn't exist for startDate = 1703394000, endDate = 1705986000\")\n"
     ]
    },
    {
     "name": "stdout",
     "output_type": "stream",
     "text": [
      "Error fetching data for ASIA: No historical data available for ASIA around 2024-01-23.\n"
     ]
    },
    {
     "name": "stderr",
     "output_type": "stream",
     "text": [
      "$PHH: possibly delisted; no price data found  (1d 2023-12-24 -> 2024-01-23) (Yahoo error = \"Data doesn't exist for startDate = 1703394000, endDate = 1705986000\")\n",
      "$MCRS: possibly delisted; no price data found  (1d 2023-12-24 -> 2024-01-23)\n"
     ]
    },
    {
     "name": "stdout",
     "output_type": "stream",
     "text": [
      "Error fetching data for PHH: No historical data available for PHH around 2024-01-23.\n",
      "Error fetching data for MCRS: No historical data available for MCRS around 2024-01-23.\n"
     ]
    },
    {
     "name": "stderr",
     "output_type": "stream",
     "text": [
      "$BRLI: possibly delisted; no timezone found\n"
     ]
    },
    {
     "name": "stdout",
     "output_type": "stream",
     "text": [
      "Error fetching data for BRLI: No historical data available for BRLI around 2024-01-23.\n"
     ]
    },
    {
     "name": "stderr",
     "output_type": "stream",
     "text": [
      "$QADB: possibly delisted; no timezone found\n"
     ]
    },
    {
     "name": "stdout",
     "output_type": "stream",
     "text": [
      "Error fetching data for QADB: No historical data available for QADB around 2024-01-23.\n"
     ]
    },
    {
     "name": "stderr",
     "output_type": "stream",
     "text": [
      "$ROLL: possibly delisted; no timezone found\n"
     ]
    },
    {
     "name": "stdout",
     "output_type": "stream",
     "text": [
      "Error fetching data for ROLL: No historical data available for ROLL around 2024-01-23.\n"
     ]
    },
    {
     "name": "stderr",
     "output_type": "stream",
     "text": [
      "$TTHI: possibly delisted; no price data found  (1d 2023-12-24 -> 2024-01-23)\n"
     ]
    },
    {
     "name": "stdout",
     "output_type": "stream",
     "text": [
      "Error fetching data for TTHI: No historical data available for TTHI around 2024-01-23.\n"
     ]
    },
    {
     "name": "stderr",
     "output_type": "stream",
     "text": [
      "$KRC-H: possibly delisted; no timezone found\n"
     ]
    },
    {
     "name": "stdout",
     "output_type": "stream",
     "text": [
      "Error fetching data for KRC-H: No historical data available for KRC-H around 2024-01-23.\n"
     ]
    },
    {
     "name": "stderr",
     "output_type": "stream",
     "text": [
      "$SYMC: possibly delisted; no timezone found\n",
      "$CMK: possibly delisted; no price data found  (1d 2023-12-24 -> 2024-01-23)\n"
     ]
    },
    {
     "name": "stdout",
     "output_type": "stream",
     "text": [
      "Error fetching data for SYMC: No historical data available for SYMC around 2024-01-23.\n",
      "Error fetching data for CMK: No historical data available for CMK around 2024-01-23.\n"
     ]
    },
    {
     "name": "stderr",
     "output_type": "stream",
     "text": [
      "$BDE: possibly delisted; no price data found  (1d 2023-12-24 -> 2024-01-23)\n"
     ]
    },
    {
     "name": "stdout",
     "output_type": "stream",
     "text": [
      "Error fetching data for BDE: No historical data available for BDE around 2024-01-23.\n"
     ]
    },
    {
     "name": "stderr",
     "output_type": "stream",
     "text": [
      "$INXB: possibly delisted; no timezone found\n"
     ]
    },
    {
     "name": "stdout",
     "output_type": "stream",
     "text": [
      "Error fetching data for INXB: No historical data available for INXB around 2024-01-23.\n"
     ]
    },
    {
     "name": "stderr",
     "output_type": "stream",
     "text": [
      "$RJD: possibly delisted; no timezone found\n",
      "$CNIT: possibly delisted; no price data found  (1d 2023-12-24 -> 2024-01-23)\n"
     ]
    },
    {
     "name": "stdout",
     "output_type": "stream",
     "text": [
      "Error fetching data for RJD: No historical data available for RJD around 2024-01-23.\n",
      "Error fetching data for CNIT: No historical data available for CNIT around 2024-01-23.\n"
     ]
    },
    {
     "name": "stderr",
     "output_type": "stream",
     "text": [
      "$AV: possibly delisted; no price data found  (1d 2023-12-24 -> 2024-01-23)\n"
     ]
    },
    {
     "name": "stdout",
     "output_type": "stream",
     "text": [
      "Error fetching data for AV: No historical data available for AV around 2024-01-23.\n"
     ]
    },
    {
     "name": "stderr",
     "output_type": "stream",
     "text": [
      "$ASDR: possibly delisted; no price data found  (1d 2023-12-24 -> 2024-01-23)\n"
     ]
    },
    {
     "name": "stdout",
     "output_type": "stream",
     "text": [
      "Error fetching data for ASDR: No historical data available for ASDR around 2024-01-23.\n"
     ]
    },
    {
     "name": "stderr",
     "output_type": "stream",
     "text": [
      "$SGOC: possibly delisted; no timezone found\n",
      "$DTLK: possibly delisted; no price data found  (1d 2023-12-24 -> 2024-01-23)\n"
     ]
    },
    {
     "name": "stdout",
     "output_type": "stream",
     "text": [
      "Error fetching data for SGOC: No historical data available for SGOC around 2024-01-23.\n",
      "Error fetching data for DTLK: No historical data available for DTLK around 2024-01-23.\n"
     ]
    },
    {
     "name": "stderr",
     "output_type": "stream",
     "text": [
      "$EEQ: possibly delisted; no price data found  (1d 2023-12-24 -> 2024-01-23)\n",
      "$FHCO: possibly delisted; no price data found  (1d 2023-12-24 -> 2024-01-23)\n"
     ]
    },
    {
     "name": "stdout",
     "output_type": "stream",
     "text": [
      "Error fetching data for EEQ: No historical data available for EEQ around 2024-01-23.\n",
      "Error fetching data for FHCO: No historical data available for FHCO around 2024-01-23.\n"
     ]
    },
    {
     "name": "stderr",
     "output_type": "stream",
     "text": [
      "$RNO: possibly delisted; no price data found  (1d 2023-12-24 -> 2024-01-23)\n"
     ]
    },
    {
     "name": "stdout",
     "output_type": "stream",
     "text": [
      "Error fetching data for RNO: No historical data available for RNO around 2024-01-23.\n"
     ]
    },
    {
     "name": "stderr",
     "output_type": "stream",
     "text": [
      "$BIOA: possibly delisted; no price data found  (1d 2023-12-24 -> 2024-01-23) (Yahoo error = \"Data doesn't exist for startDate = 1703394000, endDate = 1705986000\")\n",
      "$KUTV: possibly delisted; no price data found  (1d 2023-12-24 -> 2024-01-23)\n"
     ]
    },
    {
     "name": "stdout",
     "output_type": "stream",
     "text": [
      "Error fetching data for BIOA: No historical data available for BIOA around 2024-01-23.\n",
      "Error fetching data for KUTV: No historical data available for KUTV around 2024-01-23.\n"
     ]
    },
    {
     "name": "stderr",
     "output_type": "stream",
     "text": [
      "$SAL: possibly delisted; no timezone found\n",
      "$CNSI: possibly delisted; no price data found  (1d 2023-12-24 -> 2024-01-23)\n"
     ]
    },
    {
     "name": "stdout",
     "output_type": "stream",
     "text": [
      "Error fetching data for SAL: No historical data available for SAL around 2024-01-23.\n",
      "Error fetching data for CNSI: No historical data available for CNSI around 2024-01-23.\n"
     ]
    },
    {
     "name": "stderr",
     "output_type": "stream",
     "text": [
      "$AIMC: possibly delisted; no timezone found\n"
     ]
    },
    {
     "name": "stdout",
     "output_type": "stream",
     "text": [
      "Error fetching data for AIMC: No historical data available for AIMC around 2024-01-23.\n"
     ]
    },
    {
     "name": "stderr",
     "output_type": "stream",
     "text": [
      "$HVB: possibly delisted; no price data found  (1d 2023-12-24 -> 2024-01-23)\n",
      "$MDAS: possibly delisted; no price data found  (1d 2023-12-24 -> 2024-01-23)\n"
     ]
    },
    {
     "name": "stdout",
     "output_type": "stream",
     "text": [
      "Error fetching data for HVB: No historical data available for HVB around 2024-01-23.\n",
      "Error fetching data for MDAS: No historical data available for MDAS around 2024-01-23.\n"
     ]
    },
    {
     "name": "stderr",
     "output_type": "stream",
     "text": [
      "$ULTI: possibly delisted; no timezone found\n"
     ]
    },
    {
     "name": "stdout",
     "output_type": "stream",
     "text": [
      "Error fetching data for ULTI: No historical data available for ULTI around 2024-01-23.\n"
     ]
    },
    {
     "name": "stderr",
     "output_type": "stream",
     "text": [
      "$IPAS: possibly delisted; no price data found  (1d 2023-12-24 -> 2024-01-23)\n",
      "$WTSL: possibly delisted; no price data found  (1d 2023-12-24 -> 2024-01-23)\n",
      "$BCSB: possibly delisted; no price data found  (1d 2023-12-24 -> 2024-01-23)\n"
     ]
    },
    {
     "name": "stdout",
     "output_type": "stream",
     "text": [
      "Error fetching data for IPAS: No historical data available for IPAS around 2024-01-23.\n",
      "Error fetching data for WTSL: No historical data available for WTSL around 2024-01-23.\n",
      "Error fetching data for BCSB: No historical data available for BCSB around 2024-01-23.\n"
     ]
    },
    {
     "name": "stderr",
     "output_type": "stream",
     "text": [
      "$EAE: possibly delisted; no timezone found\n"
     ]
    },
    {
     "name": "stdout",
     "output_type": "stream",
     "text": [
      "Error fetching data for EAE: No historical data available for EAE around 2024-01-23.\n"
     ]
    },
    {
     "name": "stderr",
     "output_type": "stream",
     "text": [
      "$JLA: possibly delisted; no timezone found\n"
     ]
    },
    {
     "name": "stdout",
     "output_type": "stream",
     "text": [
      "Error fetching data for JLA: No historical data available for JLA around 2024-01-23.\n"
     ]
    },
    {
     "name": "stderr",
     "output_type": "stream",
     "text": [
      "$SPWR: possibly delisted; no timezone found\n"
     ]
    },
    {
     "name": "stdout",
     "output_type": "stream",
     "text": [
      "Error fetching data for SPWR: No historical data available for SPWR around 2024-01-23.\n"
     ]
    },
    {
     "name": "stderr",
     "output_type": "stream",
     "text": [
      "$VRNGW: possibly delisted; no timezone found\n"
     ]
    },
    {
     "name": "stdout",
     "output_type": "stream",
     "text": [
      "Error fetching data for VRNGW: No historical data available for VRNGW around 2024-01-23.\n"
     ]
    },
    {
     "name": "stderr",
     "output_type": "stream",
     "text": [
      "$BGCA: possibly delisted; no timezone found\n"
     ]
    },
    {
     "name": "stdout",
     "output_type": "stream",
     "text": [
      "Error fetching data for BGCA: No historical data available for BGCA around 2024-01-23.\n"
     ]
    },
    {
     "name": "stderr",
     "output_type": "stream",
     "text": [
      "$FSCI: possibly delisted; no price data found  (1d 2023-12-24 -> 2024-01-23)\n"
     ]
    },
    {
     "name": "stdout",
     "output_type": "stream",
     "text": [
      "Error fetching data for FSCI: No historical data available for FSCI around 2024-01-23.\n"
     ]
    },
    {
     "name": "stderr",
     "output_type": "stream",
     "text": [
      "$HMH: possibly delisted; no timezone found\n"
     ]
    },
    {
     "name": "stdout",
     "output_type": "stream",
     "text": [
      "Error fetching data for HMH: No historical data available for HMH around 2024-01-23.\n"
     ]
    },
    {
     "name": "stderr",
     "output_type": "stream",
     "text": [
      "$LM: possibly delisted; no timezone found\n"
     ]
    },
    {
     "name": "stdout",
     "output_type": "stream",
     "text": [
      "Error fetching data for LM: No historical data available for LM around 2024-01-23.\n"
     ]
    },
    {
     "name": "stderr",
     "output_type": "stream",
     "text": [
      "$AXAS: possibly delisted; no timezone found\n"
     ]
    },
    {
     "name": "stdout",
     "output_type": "stream",
     "text": [
      "Error fetching data for AXAS: No historical data available for AXAS around 2024-01-23.\n"
     ]
    },
    {
     "name": "stderr",
     "output_type": "stream",
     "text": [
      "$AQUUU: possibly delisted; no timezone found\n"
     ]
    },
    {
     "name": "stdout",
     "output_type": "stream",
     "text": [
      "Error fetching data for AQUUU: No historical data available for AQUUU around 2024-01-23.\n"
     ]
    },
    {
     "name": "stderr",
     "output_type": "stream",
     "text": [
      "$SCHN: possibly delisted; no timezone found\n"
     ]
    },
    {
     "name": "stdout",
     "output_type": "stream",
     "text": [
      "Error fetching data for SCHN: No historical data available for SCHN around 2024-01-23.\n"
     ]
    },
    {
     "name": "stderr",
     "output_type": "stream",
     "text": [
      "$XGTIW: possibly delisted; no timezone found\n"
     ]
    },
    {
     "name": "stdout",
     "output_type": "stream",
     "text": [
      "Error fetching data for XGTIW: No historical data available for XGTIW around 2024-01-23.\n"
     ]
    },
    {
     "name": "stderr",
     "output_type": "stream",
     "text": [
      "$TUES: possibly delisted; no timezone found\n",
      "$CSCD: possibly delisted; no price data found  (1d 2023-12-24 -> 2024-01-23)\n"
     ]
    },
    {
     "name": "stdout",
     "output_type": "stream",
     "text": [
      "Error fetching data for TUES: No historical data available for TUES around 2024-01-23.\n",
      "Error fetching data for CSCD: No historical data available for CSCD around 2024-01-23.\n"
     ]
    },
    {
     "name": "stderr",
     "output_type": "stream",
     "text": [
      "$STP: possibly delisted; no price data found  (1d 2023-12-24 -> 2024-01-23)\n"
     ]
    },
    {
     "name": "stdout",
     "output_type": "stream",
     "text": [
      "Error fetching data for STP: No historical data available for STP around 2024-01-23.\n"
     ]
    },
    {
     "name": "stderr",
     "output_type": "stream",
     "text": [
      "$VRML: possibly delisted; no timezone found\n"
     ]
    },
    {
     "name": "stdout",
     "output_type": "stream",
     "text": [
      "Error fetching data for VRML: No historical data available for VRML around 2024-01-23.\n"
     ]
    },
    {
     "name": "stderr",
     "output_type": "stream",
     "text": [
      "$ESSX: possibly delisted; no price data found  (1d 2023-12-24 -> 2024-01-23)\n"
     ]
    },
    {
     "name": "stdout",
     "output_type": "stream",
     "text": [
      "Error fetching data for ESSX: No historical data available for ESSX around 2024-01-23.\n"
     ]
    },
    {
     "name": "stderr",
     "output_type": "stream",
     "text": [
      "$NZH-A: possibly delisted; no timezone found\n"
     ]
    },
    {
     "name": "stdout",
     "output_type": "stream",
     "text": [
      "Error fetching data for NZH-A: No historical data available for NZH-A around 2024-01-23.\n"
     ]
    },
    {
     "name": "stderr",
     "output_type": "stream",
     "text": [
      "$NMK-B: possibly delisted; no timezone found\n"
     ]
    },
    {
     "name": "stdout",
     "output_type": "stream",
     "text": [
      "Error fetching data for NMK-B: No historical data available for NMK-B around 2024-01-23.\n"
     ]
    },
    {
     "name": "stderr",
     "output_type": "stream",
     "text": [
      "$CNYD: possibly delisted; no price data found  (1d 2023-12-24 -> 2024-01-23)\n",
      "$PNG: possibly delisted; no price data found  (1d 2023-12-24 -> 2024-01-23)\n"
     ]
    },
    {
     "name": "stdout",
     "output_type": "stream",
     "text": [
      "Error fetching data for CNYD: No historical data available for CNYD around 2024-01-23.\n",
      "Error fetching data for PNG: No historical data available for PNG around 2024-01-23.\n"
     ]
    },
    {
     "name": "stderr",
     "output_type": "stream",
     "text": [
      "$ESL: possibly delisted; no timezone found\n"
     ]
    },
    {
     "name": "stdout",
     "output_type": "stream",
     "text": [
      "Error fetching data for ESL: No historical data available for ESL around 2024-01-23.\n"
     ]
    },
    {
     "name": "stderr",
     "output_type": "stream",
     "text": [
      "$TC-T: possibly delisted; no timezone found\n",
      "$CCSC: possibly delisted; no price data found  (1d 2023-12-24 -> 2024-01-23)\n"
     ]
    },
    {
     "name": "stdout",
     "output_type": "stream",
     "text": [
      "Error fetching data for TC-T: No historical data available for TC-T around 2024-01-23.\n",
      "Error fetching data for CCSC: No historical data available for CCSC around 2024-01-23.\n"
     ]
    },
    {
     "name": "stderr",
     "output_type": "stream",
     "text": [
      "$CSFS: possibly delisted; no price data found  (1d 2023-12-24 -> 2024-01-23)\n"
     ]
    },
    {
     "name": "stdout",
     "output_type": "stream",
     "text": [
      "Error fetching data for CSFS: No historical data available for CSFS around 2024-01-23.\n"
     ]
    },
    {
     "name": "stderr",
     "output_type": "stream",
     "text": [
      "$TNP-B: possibly delisted; no timezone found\n"
     ]
    },
    {
     "name": "stdout",
     "output_type": "stream",
     "text": [
      "Error fetching data for TNP-B: No historical data available for TNP-B around 2024-01-23.\n"
     ]
    },
    {
     "name": "stderr",
     "output_type": "stream",
     "text": [
      "$MEILW: possibly delisted; no timezone found\n"
     ]
    },
    {
     "name": "stdout",
     "output_type": "stream",
     "text": [
      "Error fetching data for MEILW: No historical data available for MEILW around 2024-01-23.\n"
     ]
    },
    {
     "name": "stderr",
     "output_type": "stream",
     "text": [
      "$FCVA: possibly delisted; no price data found  (1d 2023-12-24 -> 2024-01-23)\n"
     ]
    },
    {
     "name": "stdout",
     "output_type": "stream",
     "text": [
      "Error fetching data for FCVA: No historical data available for FCVA around 2024-01-23.\n"
     ]
    },
    {
     "name": "stderr",
     "output_type": "stream",
     "text": [
      "$NNC-F: possibly delisted; no timezone found\n"
     ]
    },
    {
     "name": "stdout",
     "output_type": "stream",
     "text": [
      "Error fetching data for NNC-F: No historical data available for NNC-F around 2024-01-23.\n"
     ]
    },
    {
     "name": "stderr",
     "output_type": "stream",
     "text": [
      "$ATRI: possibly delisted; no timezone found\n"
     ]
    },
    {
     "name": "stdout",
     "output_type": "stream",
     "text": [
      "Error fetching data for ATRI: No historical data available for ATRI around 2024-01-23.\n"
     ]
    },
    {
     "name": "stderr",
     "output_type": "stream",
     "text": [
      "$CHL: possibly delisted; no timezone found\n",
      "$DATE: possibly delisted; no price data found  (1d 2023-12-24 -> 2024-01-23)\n"
     ]
    },
    {
     "name": "stdout",
     "output_type": "stream",
     "text": [
      "Error fetching data for CHL: No historical data available for CHL around 2024-01-23.\n",
      "Error fetching data for Date: No historical data available for Date around 2024-01-23.\n",
      "Skipping Date due to insufficient valid data\n"
     ]
    },
    {
     "name": "stderr",
     "output_type": "stream",
     "text": [
      "$CLOSE: possibly delisted; no timezone found\n"
     ]
    },
    {
     "name": "stdout",
     "output_type": "stream",
     "text": [
      "Error fetching data for Close: No historical data available for Close around 2024-01-23.\n",
      "Skipping Close due to insufficient valid data\n"
     ]
    },
    {
     "name": "stderr",
     "output_type": "stream",
     "text": [
      "$VOLUME: possibly delisted; no timezone found\n"
     ]
    },
    {
     "name": "stdout",
     "output_type": "stream",
     "text": [
      "Error fetching data for Volume: No historical data available for Volume around 2024-01-23.\n",
      "Skipping Volume due to insufficient valid data\n"
     ]
    },
    {
     "name": "stderr",
     "output_type": "stream",
     "text": [
      "$DIVIDENDS: possibly delisted; no timezone found\n"
     ]
    },
    {
     "name": "stdout",
     "output_type": "stream",
     "text": [
      "Error fetching data for Dividends: No historical data available for Dividends around 2024-01-23.\n",
      "Skipping Dividends due to insufficient valid data\n"
     ]
    },
    {
     "name": "stderr",
     "output_type": "stream",
     "text": [
      "$STOCK SPLITS: possibly delisted; no timezone found\n"
     ]
    },
    {
     "name": "stdout",
     "output_type": "stream",
     "text": [
      "Error fetching data for Stock Splits: No historical data available for Stock Splits around 2024-01-23.\n",
      "Skipping Stock Splits due to insufficient valid data\n"
     ]
    },
    {
     "name": "stderr",
     "output_type": "stream",
     "text": [
      "$FUTURE YEAR CHANGE: possibly delisted; no timezone found\n"
     ]
    },
    {
     "name": "stdout",
     "output_type": "stream",
     "text": [
      "Error fetching data for Future Year Change: No historical data available for Future Year Change around 2024-01-23.\n",
      "Skipping Future Year Change due to insufficient valid data\n"
     ]
    },
    {
     "name": "stderr",
     "output_type": "stream",
     "text": [
      "$INDUSTRY: possibly delisted; no timezone found\n"
     ]
    },
    {
     "name": "stdout",
     "output_type": "stream",
     "text": [
      "Error fetching data for Industry: No historical data available for Industry around 2024-01-23.\n",
      "Skipping Industry due to insufficient valid data\n"
     ]
    },
    {
     "name": "stderr",
     "output_type": "stream",
     "text": [
      "Failed to get ticker 'EV/EBIT' reason: Expecting value: line 1 column 1 (char 0)\n",
      "$EV/EBIT: possibly delisted; no timezone found\n"
     ]
    },
    {
     "name": "stdout",
     "output_type": "stream",
     "text": [
      "Error fetching data for EV/EBIT: No historical data available for EV/EBIT around 2024-01-23.\n",
      "Skipping EV/EBIT due to insufficient valid data\n",
      "No valid test data collected\n",
      "Amount of test tickers: 141, Expected: 400\n",
      "Evaluation failed. Metrics are None.\n"
     ]
    }
   ],
   "source": [
    "if trainNewModel:\n",
    "    # Evaluate model\n",
    "    trainingTickers = np.random.choice(tickers, size=trainingSize, replace=False).tolist()\n",
    "    nonTrainingTickers = list(set(tickers) - set(trainingTickers))\n",
    "    \n",
    "    if not nonTrainingTickers:\n",
    "        raise ValueError(\"No tickers available for testing. Ensure nonTrainingTickers is populated correctly.\")\n",
    "    \n",
    "    if testSize == 'ALL':\n",
    "        testTickers = nonTrainingTickers\n",
    "    else:\n",
    "        testTickers = np.random.choice(nonTrainingTickers, size=min(testSize, len(nonTrainingTickers)), replace=False).tolist()\n",
    "    \n",
    "    # Filter out test tickers with NaN EV/EBIT or NaN ROIC\n",
    "    valid_test_data_list = []\n",
    "    for ticker in testTickers:\n",
    "        test_data = getTickerDataFrom1YrAgo(ticker)\n",
    "        if test_data.empty or test_data[['EV/EBIT', 'ROIC']].isna().any().any():\n",
    "            continue\n",
    "        valid_test_data_list.append(test_data)\n",
    "\n",
    "    if not valid_test_data_list:\n",
    "        raise ValueError(\"No valid test data collected. Ensure testTickers have valid EV/EBIT and ROIC data.\")\n",
    "\n",
    "    combined_test_data = pd.concat(valid_test_data_list, ignore_index=True)\n",
    "\n",
    "    mae, rmse, r2 = evaluateModel(\n",
    "        learn=learn,\n",
    "        test_tickers=combined_test_data,\n",
    "        model_name=modelName,\n",
    "        model_folder=modelFolder,\n",
    "        cont_names=contNames,\n",
    "        cat_names=catNames\n",
    "    )\n",
    "    \n",
    "    print(f\"Amount of test tickers: {len(combined_test_data)}, Expected: {testSize}\")\n",
    "\n",
    "    if mae is not None and rmse is not None and r2 is not None:\n",
    "        print(f\"Evaluation Results:\")\n",
    "        print(f\"MAE: {mae:.3f}\")\n",
    "        print(f\"RMSE: {rmse:.3f}\")\n",
    "        print(f\"R2: {r2:.3f}\")\n",
    "    else:\n",
    "        print(\"Evaluation failed. Metrics are None.\")"
   ]
  },
  {
   "cell_type": "markdown",
   "metadata": {},
   "source": [
    "## Tests"
   ]
  },
  {
   "cell_type": "code",
   "execution_count": 203,
   "metadata": {},
   "outputs": [
    {
     "name": "stdout",
     "output_type": "stream",
     "text": [
      "Model files in modelFolder:\n",
      "stockScreenerV1.0.pkl\n",
      "stockScreenerV2.0.pkl\n",
      "stockScreenerV3.0.pkl\n",
      "stockScreenerV4.0.pkl\n",
      "stockScreenerV4.1.pkl\n",
      "stockScreenerV5.0.pkl\n",
      "stockScreenerV5.1.pkl\n",
      "stockScreenerV5.2.pkl\n",
      "stockScreenerV5.3.pkl\n",
      "stockScreenerV5.4.pkl\n",
      "stockScreenerV6.0.pkl\n"
     ]
    }
   ],
   "source": [
    "print('Model files in modelFolder:')\n",
    "for file in modelFolder.glob('*.pkl'):\n",
    "    print(file.name)"
   ]
  },
  {
   "cell_type": "code",
   "execution_count": 204,
   "metadata": {},
   "outputs": [
    {
     "data": {
      "text/plain": [
       "Model Name    stockScreenerV5.0\n",
       "Timestamp      2025-01-21 21:03\n",
       "MAE                       0.237\n",
       "RMSE                      0.302\n",
       "R2                       -0.002\n",
       "Name: 5, dtype: object"
      ]
     },
     "execution_count": 204,
     "metadata": {},
     "output_type": "execute_result"
    }
   ],
   "source": [
    "evaluations = pd.read_csv(modelFolder / 'modelEvaluations.csv')\n",
    "bestModel = evaluations.sort_values('MAE', ascending=True).iloc[0]\n",
    "bestModel.head()"
   ]
  },
  {
   "cell_type": "markdown",
   "metadata": {},
   "source": [
    "### Load model"
   ]
  },
  {
   "cell_type": "code",
   "execution_count": 205,
   "metadata": {},
   "outputs": [],
   "source": [
    "if os.name == 'nt':\n",
    "    temp = pathlib.PosixPath\n",
    "    pathlib.PosixPath = pathlib.WindowsPath\n",
    "\n",
    "importedModel = Path(f\"{bestModel['Model Name']}.pkl\") # Change this if you want to try other models\n",
    "learn = load_learner(modelFolder / importedModel)"
   ]
  },
  {
   "cell_type": "markdown",
   "metadata": {},
   "source": [
    "## Predictions"
   ]
  },
  {
   "cell_type": "code",
   "execution_count": 206,
   "metadata": {},
   "outputs": [
    {
     "data": {
      "text/html": [
       "\n",
       "<style>\n",
       "    /* Turns off some styling */\n",
       "    progress {\n",
       "        /* gets rid of default border in Firefox and Opera. */\n",
       "        border: none;\n",
       "        /* Needs to be in here for Safari polyfill so background images work as expected. */\n",
       "        background-size: auto;\n",
       "    }\n",
       "    progress:not([value]), progress:not([value])::-webkit-progress-bar {\n",
       "        background: repeating-linear-gradient(45deg, #7e7e7e, #7e7e7e 10px, #5c5c5c 10px, #5c5c5c 20px);\n",
       "    }\n",
       "    .progress-bar-interrupted, .progress-bar-interrupted::-webkit-progress-bar {\n",
       "        background: #F44336;\n",
       "    }\n",
       "</style>\n"
      ],
      "text/plain": [
       "<IPython.core.display.HTML object>"
      ]
     },
     "metadata": {},
     "output_type": "display_data"
    },
    {
     "data": {
      "text/html": [],
      "text/plain": [
       "<IPython.core.display.HTML object>"
      ]
     },
     "metadata": {},
     "output_type": "display_data"
    },
    {
     "name": "stdout",
     "output_type": "stream",
     "text": [
      "Prediction for NVO (Novo Nordisk A/S):\n",
      "41.37%\n",
      "Free money?!\n"
     ]
    }
   ],
   "source": [
    "if predictionTarget != 'None':\n",
    "    if predictionTarget == 'ALL':\n",
    "        predictionTickers = tickers\n",
    "    elif predictionTarget.endswith('%'):\n",
    "        percentage = float(predictionTarget.strip('%')) / 100\n",
    "        num_tickers = int(len(tickers) * percentage)\n",
    "        predictionTickers = np.random.choice(tickers, size=num_tickers, replace=False).tolist()\n",
    "    else:\n",
    "        predictionTickers = [predictionTarget]\n",
    "\n",
    "    # Fetch data for prediction tickers\n",
    "    dfPrediction = pd.concat([getTickerData(ticker) for ticker in predictionTickers], ignore_index=True)\n",
    "\n",
    "    # Ensure dfPrediction is a DataFrame\n",
    "    if isinstance(dfPrediction, dict):\n",
    "        dfPrediction = pd.DataFrame([dfPrediction])\n",
    "\n",
    "    # Create test dataloader\n",
    "    dl = learn.dls.test_dl(dfPrediction)\n",
    "    dfPrediction.head()\n",
    "\n",
    "    # Make predictions\n",
    "    prediction = learn.get_preds(dl=dl)\n",
    "    adr_df = pd.read_csv(testFolder / 'tickers.csv')\n",
    "    company_dict = dict(zip(adr_df['Ticker'], adr_df['Company']))\n",
    "\n",
    "    if predictionTarget == 'ALL' or predictionTarget.endswith('%'):\n",
    "        sorted_predictions = sorted(zip(predictionTickers, prediction[0]), key=lambda x: x[1], reverse=True)\n",
    "        print(f\"Got predictions for {len(sorted_predictions)} tickers, expected: {len(predictionTickers)}\")\n",
    "        print(f\"Prediction for best performing tickers:\")\n",
    "        for symbol, pred in sorted_predictions:\n",
    "            company_name = company_dict.get(symbol, 'Unknown')\n",
    "            print(f\"{symbol} ({company_name}): {pred[0].item() * 100:.2f}%\")\n",
    "    else:\n",
    "        company_name = company_dict.get(predictionTarget, 'Unknown')\n",
    "        print(f\"Prediction for {predictionTarget} ({company_name}):\")\n",
    "        print(f\"{prediction[0][0][0].item() * 100:.2f}%\")\n",
    "    print(\"Free money?!\")\n",
    "\n",
    "predictionTarget = '8%'"
   ]
  },
  {
   "cell_type": "code",
   "execution_count": null,
   "metadata": {},
   "outputs": [],
   "source": []
  }
 ],
 "metadata": {
  "kernelspec": {
   "display_name": "base",
   "language": "python",
   "name": "python3"
  },
  "language_info": {
   "codemirror_mode": {
    "name": "ipython",
    "version": 3
   },
   "file_extension": ".py",
   "mimetype": "text/x-python",
   "name": "python",
   "nbconvert_exporter": "python",
   "pygments_lexer": "ipython3",
   "version": "3.12.3"
  }
 },
 "nbformat": 4,
 "nbformat_minor": 2
}
