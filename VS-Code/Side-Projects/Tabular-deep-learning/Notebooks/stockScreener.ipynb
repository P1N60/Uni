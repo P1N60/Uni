{
 "cells": [
  {
   "cell_type": "markdown",
   "metadata": {},
   "source": [
    "## Stock Screener: Model Training and Evaluation"
   ]
  },
  {
   "cell_type": "markdown",
   "metadata": {},
   "source": [
    "### Library Installation (if needed)"
   ]
  },
  {
   "cell_type": "code",
   "execution_count": 1,
   "metadata": {},
   "outputs": [],
   "source": [
    "# Install libraries the first time\n",
    "# ! conda install fastai::fastai conda-forge::yfinance pandas pathlib numpy"
   ]
  },
  {
   "cell_type": "markdown",
   "metadata": {},
   "source": [
    "### Importing Required Libraries"
   ]
  },
  {
   "cell_type": "code",
   "execution_count": 2,
   "metadata": {},
   "outputs": [],
   "source": [
    "from fastai.tabular.all import *\n",
    "from fastai.metrics import rmse, mae\n",
    "from datetime import datetime, timedelta\n",
    "import matplotlib.pyplot as plt\n",
    "import yfinance as yf\n",
    "import pandas as pd\n",
    "import numpy as np\n",
    "import pathlib"
   ]
  },
  {
   "cell_type": "markdown",
   "metadata": {},
   "source": [
    "### Variables"
   ]
  },
  {
   "cell_type": "code",
   "execution_count": 3,
   "metadata": {},
   "outputs": [],
   "source": [
    "# Model settings\n",
    "modelName = 'stockScreenerV1.6'\n",
    "trainingData = 'stockData.csv'\n",
    "getNewData = True \n",
    "trainNewModel = True\n",
    "predictionTarget = 'DRS'  # 'ALL' for all, 'amount%', 'None' for no prediction\n",
    "\n",
    "# Training parameters\n",
    "trainingSize = 1000  # Number of stocks to use for training\n",
    "timeFrame = '10y'   # Options: '1d', '5d', '1mo', '3mo', '6mo', '1y', '2y', '5y', '10y', 'ytd', 'max'\n",
    "yNames = ['Future Year Change']\n",
    "contNames = [\n",
    "    'Open', 'Close', 'Volume', 'Dividends', 'Stock Splits',\n",
    "    'EV/EBIT', 'ROIC']\n",
    "catNames = ['Industry']\n",
    "batchSize = 256\n",
    "epochs = 25\n",
    "\n",
    "# Testing parameters\n",
    "testSize = 200  # Number of stocks to test, 'ALL' for all non-training stocks\n",
    "\n",
    "# Paths\n",
    "basePath = Path.cwd().parent\n",
    "dataFolder = basePath / 'TrainingData'\n",
    "modelFolder = basePath.parent / 'TrainedModels' / 'stockScreener'\n",
    "testFolder = basePath / 'TestData'"
   ]
  },
  {
   "cell_type": "markdown",
   "metadata": {},
   "source": [
    "## Data Preparation"
   ]
  },
  {
   "cell_type": "markdown",
   "metadata": {},
   "source": [
    "#### Functions"
   ]
  },
  {
   "cell_type": "code",
   "execution_count": 4,
   "metadata": {},
   "outputs": [],
   "source": [
    "def calculateFutureYearChange(ticker_symbol, timeframe, buffer=1):\n",
    "    try:\n",
    "        ticker = yf.Ticker(ticker_symbol)\n",
    "        end_date = datetime.now().date()\n",
    "        \n",
    "        # Calculate required date range\n",
    "        if timeframe == 'max':\n",
    "            hist = ticker.history(period='max')\n",
    "        else:\n",
    "            years = int(timeframe[:-1])\n",
    "            start_date = end_date - pd.DateOffset(years=years + buffer)\n",
    "            \n",
    "            # First check if ticker has existed long enough\n",
    "            try:\n",
    "                hist = ticker.history(start=start_date, end=end_date)\n",
    "            except Exception as e:\n",
    "                print(f\"Data unavailable for {ticker_symbol} ({timeframe}): {e}\")\n",
    "                return pd.DataFrame()\n",
    "\n",
    "        if hist.empty:\n",
    "            print(f\"No data found for {ticker_symbol} ({timeframe})\")\n",
    "            return pd.DataFrame()\n",
    "\n",
    "        # Calculate future changes only if we have enough data points\n",
    "        if len(hist) < 300:  # Minimum ~1.5 years of trading days\n",
    "            print(f\"Insufficient data for {ticker_symbol} ({len(hist)} rows)\")\n",
    "            return pd.DataFrame()\n",
    "\n",
    "        # Calculate future price change\n",
    "        hist['Future Year Change'] = (hist['Close'].shift(-252) / hist['Close'] - 1)\n",
    "        hist = hist.dropna(subset=['Future Year Change'])\n",
    "        \n",
    "        return hist[['Open', 'Close', 'Volume', 'Dividends', 'Stock Splits', \n",
    "            'Future Year Change']].reset_index()\n",
    "\n",
    "    except Exception as e:\n",
    "        print(f\"Error processing {ticker_symbol}: {str(e)}\")\n",
    "        return pd.DataFrame()"
   ]
  },
  {
   "cell_type": "code",
   "execution_count": 5,
   "metadata": {},
   "outputs": [],
   "source": [
    "def calculateApproxEBIT(tickerSymbol):\n",
    "    try:\n",
    "        info = yf.Ticker(tickerSymbol).info\n",
    "        revenue = info.get('totalRevenue', None)\n",
    "        operatingIncome = info.get('operatingIncome', None)\n",
    "        ebit = operatingIncome if operatingIncome else (revenue * 0.15 if revenue else None)\n",
    "        return ebit if ebit and ebit != 0 else None  # Avoid zero division\n",
    "    except Exception as e:\n",
    "        return None"
   ]
  },
  {
   "cell_type": "code",
   "execution_count": 6,
   "metadata": {},
   "outputs": [],
   "source": [
    "def enrichDataWithMetrics(histData):\n",
    "    \"\"\"Adds EV/EBIT and ROIC to the historical data.\"\"\"\n",
    "    # Initialize columns with NaN if they don't exist\n",
    "    if 'EV/EBIT' not in histData.columns:\n",
    "        histData['EV/EBIT'] = np.nan\n",
    "    if 'ROIC' not in histData.columns:\n",
    "        histData['ROIC'] = np.nan\n",
    "    \n",
    "    for ticker in histData['Ticker'].unique():\n",
    "        try:\n",
    "            evInfo = yf.Ticker(ticker).info\n",
    "            totalDebt, cash, sharesOutstanding = evInfo.get('totalDebt', 0), evInfo.get('totalCash', 0), evInfo.get('sharesOutstanding', None)\n",
    "            ebit = calculateApproxEBIT(ticker)\n",
    "\n",
    "            if sharesOutstanding and ebit and ebit != 0:\n",
    "                histData.loc[histData['Ticker'] == ticker, 'EV/EBIT'] = (\n",
    "                    (histData['Close'] * sharesOutstanding + totalDebt - cash) / ebit\n",
    "                )\n",
    "\n",
    "                taxRate = 0.21\n",
    "                nopat = ebit * (1 - taxRate)\n",
    "                investedCapital = totalDebt + (histData['Close'] * sharesOutstanding) - cash\n",
    "                histData.loc[histData['Ticker'] == ticker, 'ROIC'] = nopat / investedCapital\n",
    "        except Exception as e:\n",
    "            pass\n",
    "    return histData"
   ]
  },
  {
   "cell_type": "code",
   "execution_count": 7,
   "metadata": {},
   "outputs": [],
   "source": [
    "def getTickerDataFrom1YrAgo(ticker_symbol):\n",
    "    try:\n",
    "        # Fetch ticker data\n",
    "        ticker = yf.Ticker(ticker_symbol)\n",
    "\n",
    "        # Define the date range: one year ago to today\n",
    "        today = datetime.today()\n",
    "        one_year_ago = today - timedelta(days=365)\n",
    "\n",
    "        # Fetch historical data for one year ago\n",
    "        hist = ticker.history(start=(one_year_ago - timedelta(days=30)).strftime('%Y-%m-%d'), \n",
    "                              end=(one_year_ago + timedelta(days=0)).strftime('%Y-%m-%d'))\n",
    "        if hist.empty:\n",
    "            raise ValueError(f\"No historical data available for {ticker_symbol} around {one_year_ago.strftime('%Y-%m-%d')}.\")\n",
    "\n",
    "        # Extract the closest data point to one year ago\n",
    "        row = hist.iloc[0]  # Get the first available entry within the date range\n",
    "\n",
    "        # Price today\n",
    "        price_today = ticker.history(period='1d')['Close'].iloc[-1]\n",
    "\n",
    "        # Calculate future price change (from one year ago to today)\n",
    "        price_change_future = ((price_today - row['Close']) / row['Close']) if row['Close'] else None\n",
    "\n",
    "        # Collect additional data\n",
    "        evInfo = yf.Ticker(ticker_symbol).info\n",
    "        total_debt, cash, shares_outstanding = evInfo.get('totalDebt', 0), evInfo.get('totalCash', 0), evInfo.get('sharesOutstanding', None)\n",
    "        ebit = calculateApproxEBIT(ticker_symbol)\n",
    "        ev = (row['Close'] * shares_outstanding) + total_debt - cash if shares_outstanding else None\n",
    "        ev_ebit = ev / ebit if ebit else None\n",
    "        market_cap = row['Close'] * shares_outstanding if shares_outstanding else None\n",
    "        tax_rate = 0.21\n",
    "        nopat = ebit * (1 - tax_rate) if ebit else None\n",
    "        invested_capital = total_debt + market_cap - cash if market_cap and total_debt and cash else None\n",
    "        roic = nopat / invested_capital if nopat and invested_capital else None\n",
    "        industry = yf.Ticker(ticker_symbol).info.get('industry', 'Unknown')\n",
    "\n",
    "        # Return as a DataFrame\n",
    "        return pd.DataFrame([{\n",
    "            'Ticker': ticker_symbol,\n",
    "            'Date': row.name,\n",
    "            'Open': row['Open'],\n",
    "            'High': row['High'],\n",
    "            'Low': row['Low'],\n",
    "            'Close': row['Close'],\n",
    "            'Volume': row['Volume'],\n",
    "            'Dividends': row.get('Dividends', 0.0),\n",
    "            'Stock Splits': row.get('Stock Splits', 0.0),\n",
    "            'Future Year Change': price_change_future,\n",
    "            'Industry': industry,\n",
    "            'EV/EBIT': ev_ebit,\n",
    "            'ROIC': roic\n",
    "        }])\n",
    "\n",
    "    except Exception as e:\n",
    "        print(f\"Error fetching data for {ticker_symbol}: {e}\")\n",
    "        return pd.DataFrame()"
   ]
  },
  {
   "cell_type": "code",
   "execution_count": 8,
   "metadata": {},
   "outputs": [],
   "source": [
    "def getTickerData(ticker_symbol):\n",
    "    try:\n",
    "        ticker = yf.Ticker(ticker_symbol)\n",
    "        hist = ticker.history(period='1d')\n",
    "        evInfo = ticker.info\n",
    "        total_debt, cash, shares_outstanding = evInfo.get('totalDebt', 0), evInfo.get('totalCash', 0), evInfo.get('sharesOutstanding', None)\n",
    "        ebit = calculateApproxEBIT(ticker_symbol)\n",
    "        ev = (hist['Close'].iloc[-1] * shares_outstanding) + total_debt - cash\n",
    "        ev_ebit = ev / ebit if ebit else None\n",
    "        market_cap = hist['Close'].iloc[-1] * shares_outstanding\n",
    "        tax_rate = 0.21\n",
    "        nopat = ebit * (1 - tax_rate) if ebit else None\n",
    "        invested_capital = total_debt + market_cap - cash\n",
    "        roic = nopat / invested_capital if nopat and invested_capital else None\n",
    "        industry = yf.Ticker(ticker_symbol).info.get('industry', 'Unknown')\n",
    "        \n",
    "        # Add the 'Date' column\n",
    "        date = datetime.now().strftime('%Y-%m-%d')\n",
    "\n",
    "        return pd.DataFrame([{\n",
    "            'Date': date,\n",
    "            'Open': hist['Open'].iloc[-1],\n",
    "            'High': hist['High'].iloc[-1],\n",
    "            'Low': hist['Low'].iloc[-1],\n",
    "            'Close': hist['Close'].iloc[-1],\n",
    "            'Volume': hist['Volume'].iloc[-1],\n",
    "            'Dividends': hist.get('Dividends', pd.Series([0.0])).iloc[-1],\n",
    "            'Stock Splits': hist.get('Stock Splits', pd.Series([0.0])).iloc[-1],\n",
    "            'EV/EBIT': ev_ebit,\n",
    "            'Market Cap': market_cap,\n",
    "            'ROIC': roic,\n",
    "            'Industry': industry\n",
    "        }])\n",
    "    except Exception:\n",
    "        return pd.DataFrame()"
   ]
  },
  {
   "cell_type": "markdown",
   "metadata": {},
   "source": [
    "#### Download and Process Historical Data"
   ]
  },
  {
   "cell_type": "code",
   "execution_count": 9,
   "metadata": {},
   "outputs": [
    {
     "name": "stdout",
     "output_type": "stream",
     "text": [
      "Processing EGP...\n",
      "Processing ARWR...\n",
      "Processing OFC-L...\n"
     ]
    },
    {
     "name": "stderr",
     "output_type": "stream",
     "text": [
      "$OFC-L: possibly delisted; no timezone found\n"
     ]
    },
    {
     "name": "stdout",
     "output_type": "stream",
     "text": [
      "No data found for OFC-L (10y)\n",
      "Skipped OFC-L - insufficient data\n",
      "Processing TBBK...\n",
      "Processing SRI...\n",
      "Processing MGM...\n",
      "Processing AMX...\n"
     ]
    },
    {
     "name": "stderr",
     "output_type": "stream",
     "text": [
      "$ENL: possibly delisted; no price data found  (1d 2014-01-26 00:00:00 -> 2025-01-26)\n"
     ]
    },
    {
     "name": "stdout",
     "output_type": "stream",
     "text": [
      "Processing ENL...\n",
      "No data found for ENL (10y)\n",
      "Skipped ENL - insufficient data\n",
      "Processing APA-D...\n"
     ]
    },
    {
     "name": "stderr",
     "output_type": "stream",
     "text": [
      "$APA-D: possibly delisted; no timezone found\n"
     ]
    },
    {
     "name": "stdout",
     "output_type": "stream",
     "text": [
      "No data found for APA-D (10y)\n",
      "Skipped APA-D - insufficient data\n",
      "Processing HUM...\n"
     ]
    },
    {
     "name": "stderr",
     "output_type": "stream",
     "text": [
      "$WAC: possibly delisted; no price data found  (1d 2014-01-26 00:00:00 -> 2025-01-26)\n"
     ]
    },
    {
     "name": "stdout",
     "output_type": "stream",
     "text": [
      "Processing WAC...\n",
      "No data found for WAC (10y)\n",
      "Skipped WAC - insufficient data\n",
      "Processing ATTU...\n"
     ]
    },
    {
     "name": "stderr",
     "output_type": "stream",
     "text": [
      "$ATTU: possibly delisted; no timezone found\n",
      "$CBMX: possibly delisted; no price data found  (1d 2014-01-26 00:00:00 -> 2025-01-26)\n"
     ]
    },
    {
     "name": "stdout",
     "output_type": "stream",
     "text": [
      "No data found for ATTU (10y)\n",
      "Skipped ATTU - insufficient data\n",
      "Processing CBMX...\n",
      "No data found for CBMX (10y)\n",
      "Skipped CBMX - insufficient data\n",
      "Processing BICK...\n",
      "Processing CIT...\n"
     ]
    },
    {
     "name": "stderr",
     "output_type": "stream",
     "text": [
      "$CIT: possibly delisted; no timezone found\n"
     ]
    },
    {
     "name": "stdout",
     "output_type": "stream",
     "text": [
      "No data found for CIT (10y)\n",
      "Skipped CIT - insufficient data\n",
      "Processing ANDAW...\n"
     ]
    },
    {
     "name": "stderr",
     "output_type": "stream",
     "text": [
      "$ANDAW: possibly delisted; no timezone found\n"
     ]
    },
    {
     "name": "stdout",
     "output_type": "stream",
     "text": [
      "No data found for ANDAW (10y)\n",
      "Skipped ANDAW - insufficient data\n",
      "Processing BUI...\n",
      "Processing SRE...\n",
      "Processing KCLI...\n",
      "Processing SPTN...\n",
      "Processing BELFB...\n",
      "Processing ISNS...\n"
     ]
    },
    {
     "name": "stderr",
     "output_type": "stream",
     "text": [
      "$ISNS: possibly delisted; no timezone found\n"
     ]
    },
    {
     "name": "stdout",
     "output_type": "stream",
     "text": [
      "No data found for ISNS (10y)\n",
      "Skipped ISNS - insufficient data\n",
      "Processing BRKS...\n"
     ]
    },
    {
     "name": "stderr",
     "output_type": "stream",
     "text": [
      "$BRKS: possibly delisted; no timezone found\n"
     ]
    },
    {
     "name": "stdout",
     "output_type": "stream",
     "text": [
      "No data found for BRKS (10y)\n",
      "Skipped BRKS - insufficient data\n",
      "Processing ALL...\n",
      "Processing GULF...\n",
      "Processing PL-E...\n"
     ]
    },
    {
     "name": "stderr",
     "output_type": "stream",
     "text": [
      "$PL-E: possibly delisted; no timezone found\n"
     ]
    },
    {
     "name": "stdout",
     "output_type": "stream",
     "text": [
      "No data found for PL-E (10y)\n",
      "Skipped PL-E - insufficient data\n",
      "Processing PYS...\n"
     ]
    },
    {
     "name": "stderr",
     "output_type": "stream",
     "text": [
      "$LGF: possibly delisted; no price data found  (1d 2014-01-26 00:00:00 -> 2025-01-26)\n"
     ]
    },
    {
     "name": "stdout",
     "output_type": "stream",
     "text": [
      "Processing LGF...\n",
      "No data found for LGF (10y)\n",
      "Skipped LGF - insufficient data\n",
      "Processing AGC...\n"
     ]
    },
    {
     "name": "stderr",
     "output_type": "stream",
     "text": [
      "$AGC: possibly delisted; no timezone found\n"
     ]
    },
    {
     "name": "stdout",
     "output_type": "stream",
     "text": [
      "No data found for AGC (10y)\n",
      "Skipped AGC - insufficient data\n",
      "Processing YORW...\n",
      "Processing BLIN...\n"
     ]
    },
    {
     "name": "stderr",
     "output_type": "stream",
     "text": [
      "$ANCI: possibly delisted; no price data found  (1d 2014-01-26 00:00:00 -> 2025-01-26)\n"
     ]
    },
    {
     "name": "stdout",
     "output_type": "stream",
     "text": [
      "Processing ANCI...\n",
      "No data found for ANCI (10y)\n",
      "Skipped ANCI - insufficient data\n",
      "Processing CWH...\n",
      "Processing MHNA...\n"
     ]
    },
    {
     "name": "stderr",
     "output_type": "stream",
     "text": [
      "$MHNA: possibly delisted; no timezone found\n"
     ]
    },
    {
     "name": "stdout",
     "output_type": "stream",
     "text": [
      "No data found for MHNA (10y)\n",
      "Skipped MHNA - insufficient data\n",
      "Processing BERY...\n",
      "Processing MNR-A...\n"
     ]
    },
    {
     "name": "stderr",
     "output_type": "stream",
     "text": [
      "$MNR-A: possibly delisted; no timezone found\n"
     ]
    },
    {
     "name": "stdout",
     "output_type": "stream",
     "text": [
      "No data found for MNR-A (10y)\n",
      "Skipped MNR-A - insufficient data\n",
      "Processing LVNTB...\n",
      "Processing AFW...\n"
     ]
    },
    {
     "name": "stderr",
     "output_type": "stream",
     "text": [
      "$AFW: possibly delisted; no timezone found\n"
     ]
    },
    {
     "name": "stdout",
     "output_type": "stream",
     "text": [
      "No data found for AFW (10y)\n",
      "Skipped AFW - insufficient data\n",
      "Processing EIX...\n",
      "Processing HSC...\n"
     ]
    },
    {
     "name": "stderr",
     "output_type": "stream",
     "text": [
      "$HSC: possibly delisted; no timezone found\n"
     ]
    },
    {
     "name": "stdout",
     "output_type": "stream",
     "text": [
      "No data found for HSC (10y)\n",
      "Skipped HSC - insufficient data\n",
      "Processing CBPO...\n"
     ]
    },
    {
     "name": "stderr",
     "output_type": "stream",
     "text": [
      "$CBPO: possibly delisted; no timezone found\n",
      "$YOKU: possibly delisted; no price data found  (1d 2014-01-26 00:00:00 -> 2025-01-26)\n"
     ]
    },
    {
     "name": "stdout",
     "output_type": "stream",
     "text": [
      "No data found for CBPO (10y)\n",
      "Skipped CBPO - insufficient data\n",
      "Processing YOKU...\n",
      "No data found for YOKU (10y)\n",
      "Skipped YOKU - insufficient data\n",
      "Processing PRGO...\n",
      "Processing MNDO...\n",
      "Processing CBM...\n"
     ]
    },
    {
     "name": "stderr",
     "output_type": "stream",
     "text": [
      "$CBM: possibly delisted; no timezone found\n"
     ]
    },
    {
     "name": "stdout",
     "output_type": "stream",
     "text": [
      "No data found for CBM (10y)\n",
      "Skipped CBM - insufficient data\n",
      "Processing COCO...\n",
      "Processing BTH...\n",
      "Insufficient data for BTH (1 rows)\n",
      "Skipped BTH - insufficient data\n",
      "Processing SBBX...\n"
     ]
    },
    {
     "name": "stderr",
     "output_type": "stream",
     "text": [
      "$SBBX: possibly delisted; no timezone found\n",
      "$IILG: possibly delisted; no price data found  (1d 2014-01-26 00:00:00 -> 2025-01-26)\n",
      "$LONG: possibly delisted; no price data found  (1d 2014-01-26 00:00:00 -> 2025-01-26)\n"
     ]
    },
    {
     "name": "stdout",
     "output_type": "stream",
     "text": [
      "No data found for SBBX (10y)\n",
      "Skipped SBBX - insufficient data\n",
      "Processing IILG...\n",
      "No data found for IILG (10y)\n",
      "Skipped IILG - insufficient data\n",
      "Processing LONG...\n",
      "No data found for LONG (10y)\n",
      "Skipped LONG - insufficient data\n",
      "Processing TECD...\n"
     ]
    },
    {
     "name": "stderr",
     "output_type": "stream",
     "text": [
      "$TECD: possibly delisted; no timezone found\n"
     ]
    },
    {
     "name": "stdout",
     "output_type": "stream",
     "text": [
      "No data found for TECD (10y)\n",
      "Skipped TECD - insufficient data\n",
      "Processing TRNO...\n",
      "Processing ESCA...\n"
     ]
    },
    {
     "name": "stderr",
     "output_type": "stream",
     "text": [
      "$GNVC: possibly delisted; no price data found  (1d 2014-01-26 00:00:00 -> 2025-01-26)\n"
     ]
    },
    {
     "name": "stdout",
     "output_type": "stream",
     "text": [
      "Processing GNVC...\n",
      "No data found for GNVC (10y)\n",
      "Skipped GNVC - insufficient data\n",
      "Processing PSCD...\n",
      "Processing WASH...\n"
     ]
    },
    {
     "name": "stderr",
     "output_type": "stream",
     "text": [
      "$PVTB: possibly delisted; no price data found  (1d 2014-01-26 00:00:00 -> 2025-01-26)\n"
     ]
    },
    {
     "name": "stdout",
     "output_type": "stream",
     "text": [
      "Processing PVTB...\n",
      "No data found for PVTB (10y)\n",
      "Skipped PVTB - insufficient data\n",
      "Processing NEON...\n"
     ]
    },
    {
     "name": "stderr",
     "output_type": "stream",
     "text": [
      "$BOFI: possibly delisted; no price data found  (1d 2014-01-26 00:00:00 -> 2025-01-26)\n"
     ]
    },
    {
     "name": "stdout",
     "output_type": "stream",
     "text": [
      "Processing BOFI...\n",
      "No data found for BOFI (10y)\n",
      "Skipped BOFI - insufficient data\n",
      "Processing MSJ...\n"
     ]
    },
    {
     "name": "stderr",
     "output_type": "stream",
     "text": [
      "$MSJ: possibly delisted; no timezone found\n"
     ]
    },
    {
     "name": "stdout",
     "output_type": "stream",
     "text": [
      "No data found for MSJ (10y)\n",
      "Skipped MSJ - insufficient data\n",
      "Processing CACGW...\n"
     ]
    },
    {
     "name": "stderr",
     "output_type": "stream",
     "text": [
      "$CACGW: possibly delisted; no timezone found\n",
      "$PENX: possibly delisted; no price data found  (1d 2014-01-26 00:00:00 -> 2025-01-26)\n"
     ]
    },
    {
     "name": "stdout",
     "output_type": "stream",
     "text": [
      "No data found for CACGW (10y)\n",
      "Skipped CACGW - insufficient data\n",
      "Processing PENX...\n",
      "No data found for PENX (10y)\n",
      "Skipped PENX - insufficient data\n",
      "Processing LEDS...\n",
      "Processing MOH...\n",
      "Processing MPG-A...\n"
     ]
    },
    {
     "name": "stderr",
     "output_type": "stream",
     "text": [
      "$MPG-A: possibly delisted; no timezone found\n"
     ]
    },
    {
     "name": "stdout",
     "output_type": "stream",
     "text": [
      "No data found for MPG-A (10y)\n",
      "Skipped MPG-A - insufficient data\n",
      "Processing CSFL...\n"
     ]
    },
    {
     "name": "stderr",
     "output_type": "stream",
     "text": [
      "$CSFL: possibly delisted; no timezone found\n"
     ]
    },
    {
     "name": "stdout",
     "output_type": "stream",
     "text": [
      "No data found for CSFL (10y)\n",
      "Skipped CSFL - insufficient data\n",
      "Processing GBNK...\n",
      "Processing VITC...\n"
     ]
    },
    {
     "name": "stderr",
     "output_type": "stream",
     "text": [
      "$VITC: possibly delisted; no price data found  (1d 2014-01-26 00:00:00 -> 2025-01-26)\n"
     ]
    },
    {
     "name": "stdout",
     "output_type": "stream",
     "text": [
      "No data found for VITC (10y)\n",
      "Skipped VITC - insufficient data\n",
      "Processing EGN...\n"
     ]
    },
    {
     "name": "stderr",
     "output_type": "stream",
     "text": [
      "$FUBC: possibly delisted; no price data found  (1d 2014-01-26 00:00:00 -> 2025-01-26)\n"
     ]
    },
    {
     "name": "stdout",
     "output_type": "stream",
     "text": [
      "Processing FUBC...\n",
      "No data found for FUBC (10y)\n",
      "Skipped FUBC - insufficient data\n",
      "Processing FISI...\n",
      "Processing CRT...\n",
      "Processing RBS-I...\n"
     ]
    },
    {
     "name": "stderr",
     "output_type": "stream",
     "text": [
      "$RBS-I: possibly delisted; no timezone found\n"
     ]
    },
    {
     "name": "stdout",
     "output_type": "stream",
     "text": [
      "No data found for RBS-I (10y)\n",
      "Skipped RBS-I - insufficient data\n",
      "Processing PLCE...\n",
      "Processing PRA...\n",
      "Processing AGIO...\n",
      "Processing WAB...\n",
      "Processing RDN...\n",
      "Processing TRS...\n",
      "Processing NRF-A...\n"
     ]
    },
    {
     "name": "stderr",
     "output_type": "stream",
     "text": [
      "$NRF-A: possibly delisted; no timezone found\n"
     ]
    },
    {
     "name": "stdout",
     "output_type": "stream",
     "text": [
      "No data found for NRF-A (10y)\n",
      "Skipped NRF-A - insufficient data\n",
      "Processing NTL...\n"
     ]
    },
    {
     "name": "stderr",
     "output_type": "stream",
     "text": [
      "$HCN: possibly delisted; no price data found  (1d 2014-01-26 00:00:00 -> 2025-01-26)\n"
     ]
    },
    {
     "name": "stdout",
     "output_type": "stream",
     "text": [
      "Processing HCN...\n",
      "No data found for HCN (10y)\n",
      "Skipped HCN - insufficient data\n",
      "Processing KSS...\n"
     ]
    },
    {
     "name": "stderr",
     "output_type": "stream",
     "text": [
      "$CMSB: possibly delisted; no price data found  (1d 2014-01-26 00:00:00 -> 2025-01-26)\n"
     ]
    },
    {
     "name": "stdout",
     "output_type": "stream",
     "text": [
      "Processing CMSB...\n",
      "No data found for CMSB (10y)\n",
      "Skipped CMSB - insufficient data\n",
      "Processing JQC...\n",
      "Processing GPM...\n"
     ]
    },
    {
     "name": "stderr",
     "output_type": "stream",
     "text": [
      "$GPM: possibly delisted; no timezone found\n"
     ]
    },
    {
     "name": "stdout",
     "output_type": "stream",
     "text": [
      "No data found for GPM (10y)\n",
      "Skipped GPM - insufficient data\n",
      "Processing CCMP...\n"
     ]
    },
    {
     "name": "stderr",
     "output_type": "stream",
     "text": [
      "$CCMP: possibly delisted; no timezone found\n",
      "$UNTK: possibly delisted; no price data found  (1d 2014-01-26 00:00:00 -> 2025-01-26)\n"
     ]
    },
    {
     "name": "stdout",
     "output_type": "stream",
     "text": [
      "No data found for CCMP (10y)\n",
      "Skipped CCMP - insufficient data\n",
      "Processing UNTK...\n",
      "No data found for UNTK (10y)\n",
      "Skipped UNTK - insufficient data\n",
      "Processing CTIB...\n"
     ]
    },
    {
     "name": "stderr",
     "output_type": "stream",
     "text": [
      "$CTIB: possibly delisted; no timezone found\n"
     ]
    },
    {
     "name": "stdout",
     "output_type": "stream",
     "text": [
      "No data found for CTIB (10y)\n",
      "Skipped CTIB - insufficient data\n",
      "Processing IDRA...\n"
     ]
    },
    {
     "name": "stderr",
     "output_type": "stream",
     "text": [
      "$IDRA: possibly delisted; no timezone found\n",
      "$STRZA: possibly delisted; no price data found  (1d 2014-01-26 00:00:00 -> 2025-01-26)\n"
     ]
    },
    {
     "name": "stdout",
     "output_type": "stream",
     "text": [
      "No data found for IDRA (10y)\n",
      "Skipped IDRA - insufficient data\n",
      "Processing STRZA...\n",
      "No data found for STRZA (10y)\n",
      "Skipped STRZA - insufficient data\n",
      "Processing CPRT...\n",
      "Processing MSZ...\n"
     ]
    },
    {
     "name": "stderr",
     "output_type": "stream",
     "text": [
      "$MSZ: possibly delisted; no timezone found\n",
      "$KKD: possibly delisted; no price data found  (1d 2014-01-26 00:00:00 -> 2025-01-26)\n",
      "$GAT: possibly delisted; no price data found  (1d 2014-01-26 00:00:00 -> 2025-01-26)\n"
     ]
    },
    {
     "name": "stdout",
     "output_type": "stream",
     "text": [
      "No data found for MSZ (10y)\n",
      "Skipped MSZ - insufficient data\n",
      "Processing KKD...\n",
      "No data found for KKD (10y)\n",
      "Skipped KKD - insufficient data\n",
      "Processing GAT...\n",
      "No data found for GAT (10y)\n",
      "Skipped GAT - insufficient data\n",
      "Processing HCIIP...\n",
      "Processing MVCB...\n"
     ]
    },
    {
     "name": "stderr",
     "output_type": "stream",
     "text": [
      "$MVCB: possibly delisted; no timezone found\n"
     ]
    },
    {
     "name": "stdout",
     "output_type": "stream",
     "text": [
      "No data found for MVCB (10y)\n",
      "Skipped MVCB - insufficient data\n",
      "Processing MXF...\n",
      "Processing ALIM...\n"
     ]
    },
    {
     "name": "stderr",
     "output_type": "stream",
     "text": [
      "$ALIM: possibly delisted; no timezone found\n"
     ]
    },
    {
     "name": "stdout",
     "output_type": "stream",
     "text": [
      "No data found for ALIM (10y)\n",
      "Skipped ALIM - insufficient data\n",
      "Processing LRCX...\n",
      "Processing MOD...\n"
     ]
    },
    {
     "name": "stderr",
     "output_type": "stream",
     "text": [
      "$ANN: possibly delisted; no price data found  (1d 2014-01-26 00:00:00 -> 2025-01-26)\n",
      "$RTK: possibly delisted; no price data found  (1d 2014-01-26 00:00:00 -> 2025-01-26)\n"
     ]
    },
    {
     "name": "stdout",
     "output_type": "stream",
     "text": [
      "Processing ANN...\n",
      "No data found for ANN (10y)\n",
      "Skipped ANN - insufficient data\n",
      "Processing RTK...\n",
      "No data found for RTK (10y)\n",
      "Skipped RTK - insufficient data\n",
      "Processing FBMI...\n"
     ]
    },
    {
     "name": "stderr",
     "output_type": "stream",
     "text": [
      "$FBMI: possibly delisted; no price data found  (1d 2014-01-26 00:00:00 -> 2025-01-26)\n",
      "$AEPI: possibly delisted; no price data found  (1d 2014-01-26 00:00:00 -> 2025-01-26)\n"
     ]
    },
    {
     "name": "stdout",
     "output_type": "stream",
     "text": [
      "No data found for FBMI (10y)\n",
      "Skipped FBMI - insufficient data\n",
      "Processing AEPI...\n",
      "No data found for AEPI (10y)\n",
      "Skipped AEPI - insufficient data\n",
      "Processing PSTI...\n"
     ]
    },
    {
     "name": "stderr",
     "output_type": "stream",
     "text": [
      "$PSTI: possibly delisted; no timezone found\n"
     ]
    },
    {
     "name": "stdout",
     "output_type": "stream",
     "text": [
      "No data found for PSTI (10y)\n",
      "Skipped PSTI - insufficient data\n",
      "Processing NCLH...\n",
      "Processing FOX...\n"
     ]
    },
    {
     "name": "stderr",
     "output_type": "stream",
     "text": [
      "$RLOC: possibly delisted; no price data found  (1d 2014-01-26 00:00:00 -> 2025-01-26)\n"
     ]
    },
    {
     "name": "stdout",
     "output_type": "stream",
     "text": [
      "Processing RLOC...\n",
      "No data found for RLOC (10y)\n",
      "Skipped RLOC - insufficient data\n",
      "Processing FRC-C...\n"
     ]
    },
    {
     "name": "stderr",
     "output_type": "stream",
     "text": [
      "$FRC-C: possibly delisted; no timezone found\n",
      "$MHR: possibly delisted; no price data found  (1d 2014-01-26 00:00:00 -> 2025-01-26)\n"
     ]
    },
    {
     "name": "stdout",
     "output_type": "stream",
     "text": [
      "No data found for FRC-C (10y)\n",
      "Skipped FRC-C - insufficient data\n",
      "Processing MHR...\n",
      "No data found for MHR (10y)\n",
      "Skipped MHR - insufficient data\n",
      "Processing SFUN...\n"
     ]
    },
    {
     "name": "stderr",
     "output_type": "stream",
     "text": [
      "$SFUN: possibly delisted; no timezone found\n"
     ]
    },
    {
     "name": "stdout",
     "output_type": "stream",
     "text": [
      "No data found for SFUN (10y)\n",
      "Skipped SFUN - insufficient data\n",
      "Processing CWBC...\n",
      "Processing CWHO...\n"
     ]
    },
    {
     "name": "stderr",
     "output_type": "stream",
     "text": [
      "$CWHO: possibly delisted; no timezone found\n"
     ]
    },
    {
     "name": "stdout",
     "output_type": "stream",
     "text": [
      "No data found for CWHO (10y)\n",
      "Skipped CWHO - insufficient data\n",
      "Processing DDC...\n",
      "Insufficient data for DDC (295 rows)\n",
      "Skipped DDC - insufficient data\n",
      "Processing BTF...\n",
      "Processing IIJI...\n"
     ]
    },
    {
     "name": "stderr",
     "output_type": "stream",
     "text": [
      "$IIJI: possibly delisted; no timezone found\n"
     ]
    },
    {
     "name": "stdout",
     "output_type": "stream",
     "text": [
      "No data found for IIJI (10y)\n",
      "Skipped IIJI - insufficient data\n",
      "Processing GALTW...\n"
     ]
    },
    {
     "name": "stderr",
     "output_type": "stream",
     "text": [
      "$GALTW: possibly delisted; no timezone found\n"
     ]
    },
    {
     "name": "stdout",
     "output_type": "stream",
     "text": [
      "No data found for GALTW (10y)\n",
      "Skipped GALTW - insufficient data\n",
      "Processing TPC...\n",
      "Processing NED...\n"
     ]
    },
    {
     "name": "stderr",
     "output_type": "stream",
     "text": [
      "$NED: possibly delisted; no timezone found\n"
     ]
    },
    {
     "name": "stdout",
     "output_type": "stream",
     "text": [
      "No data found for NED (10y)\n",
      "Skipped NED - insufficient data\n",
      "Processing IT...\n",
      "Processing PSEC...\n"
     ]
    },
    {
     "name": "stderr",
     "output_type": "stream",
     "text": [
      "$MPET: possibly delisted; no price data found  (1d 2014-01-26 00:00:00 -> 2025-01-26)\n"
     ]
    },
    {
     "name": "stdout",
     "output_type": "stream",
     "text": [
      "Processing MPET...\n",
      "No data found for MPET (10y)\n",
      "Skipped MPET - insufficient data\n",
      "Processing ELGX...\n"
     ]
    },
    {
     "name": "stderr",
     "output_type": "stream",
     "text": [
      "$ELGX: possibly delisted; no timezone found\n"
     ]
    },
    {
     "name": "stdout",
     "output_type": "stream",
     "text": [
      "No data found for ELGX (10y)\n",
      "Skipped ELGX - insufficient data\n",
      "Processing EHTH...\n",
      "Processing SMIT...\n"
     ]
    },
    {
     "name": "stderr",
     "output_type": "stream",
     "text": [
      "$ESC: possibly delisted; no price data found  (1d 2014-01-26 00:00:00 -> 2025-01-26)\n"
     ]
    },
    {
     "name": "stdout",
     "output_type": "stream",
     "text": [
      "Processing ESC...\n",
      "No data found for ESC (10y)\n",
      "Skipped ESC - insufficient data\n",
      "Processing CASM...\n"
     ]
    },
    {
     "name": "stderr",
     "output_type": "stream",
     "text": [
      "$CASM: possibly delisted; no timezone found\n"
     ]
    },
    {
     "name": "stdout",
     "output_type": "stream",
     "text": [
      "No data found for CASM (10y)\n",
      "Skipped CASM - insufficient data\n",
      "Processing OCN...\n"
     ]
    },
    {
     "name": "stderr",
     "output_type": "stream",
     "text": [
      "$OCN: possibly delisted; no timezone found\n"
     ]
    },
    {
     "name": "stdout",
     "output_type": "stream",
     "text": [
      "No data found for OCN (10y)\n",
      "Skipped OCN - insufficient data\n",
      "Processing I-A...\n"
     ]
    },
    {
     "name": "stderr",
     "output_type": "stream",
     "text": [
      "$I-A: possibly delisted; no timezone found\n",
      "$IFT: possibly delisted; no price data found  (1d 2014-01-26 00:00:00 -> 2025-01-26)\n"
     ]
    },
    {
     "name": "stdout",
     "output_type": "stream",
     "text": [
      "No data found for I-A (10y)\n",
      "Skipped I-A - insufficient data\n",
      "Processing IFT...\n",
      "No data found for IFT (10y)\n",
      "Skipped IFT - insufficient data\n",
      "Processing NCS...\n"
     ]
    },
    {
     "name": "stderr",
     "output_type": "stream",
     "text": [
      "$NCS: possibly delisted; no timezone found\n",
      "$TZF: possibly delisted; no price data found  (1d 2014-01-26 00:00:00 -> 2025-01-26)\n"
     ]
    },
    {
     "name": "stdout",
     "output_type": "stream",
     "text": [
      "No data found for NCS (10y)\n",
      "Skipped NCS - insufficient data\n",
      "Processing TZF...\n",
      "No data found for TZF (10y)\n",
      "Skipped TZF - insufficient data\n",
      "Processing MCBK...\n"
     ]
    },
    {
     "name": "stderr",
     "output_type": "stream",
     "text": [
      "$JBJ: possibly delisted; no price data found  (1d 2014-01-26 00:00:00 -> 2025-01-26)\n"
     ]
    },
    {
     "name": "stdout",
     "output_type": "stream",
     "text": [
      "Processing JBJ...\n",
      "No data found for JBJ (10y)\n",
      "Skipped JBJ - insufficient data\n",
      "Processing AAT...\n",
      "Processing LPL...\n",
      "Processing AAWW...\n"
     ]
    },
    {
     "name": "stderr",
     "output_type": "stream",
     "text": [
      "$AAWW: possibly delisted; no timezone found\n"
     ]
    },
    {
     "name": "stdout",
     "output_type": "stream",
     "text": [
      "No data found for AAWW (10y)\n",
      "Skipped AAWW - insufficient data\n",
      "Processing MITT...\n"
     ]
    },
    {
     "name": "stderr",
     "output_type": "stream",
     "text": [
      "$MDAS: possibly delisted; no price data found  (1d 2014-01-26 00:00:00 -> 2025-01-26)\n"
     ]
    },
    {
     "name": "stdout",
     "output_type": "stream",
     "text": [
      "Processing MDAS...\n",
      "No data found for MDAS (10y)\n",
      "Skipped MDAS - insufficient data\n",
      "Processing ATEC...\n",
      "Processing PRH...\n",
      "Processing PMT...\n",
      "Processing OSBCP...\n"
     ]
    },
    {
     "name": "stderr",
     "output_type": "stream",
     "text": [
      "$OSBCP: possibly delisted; no timezone found\n",
      "$GGP: possibly delisted; no price data found  (1d 2014-01-26 00:00:00 -> 2025-01-26)\n"
     ]
    },
    {
     "name": "stdout",
     "output_type": "stream",
     "text": [
      "No data found for OSBCP (10y)\n",
      "Skipped OSBCP - insufficient data\n",
      "Processing GGP...\n",
      "No data found for GGP (10y)\n",
      "Skipped GGP - insufficient data\n",
      "Processing EMF...\n",
      "Processing MUI...\n"
     ]
    },
    {
     "name": "stderr",
     "output_type": "stream",
     "text": [
      "$XTXI: possibly delisted; no price data found  (1d 2014-01-26 00:00:00 -> 2025-01-26)\n"
     ]
    },
    {
     "name": "stdout",
     "output_type": "stream",
     "text": [
      "Processing XTXI...\n",
      "No data found for XTXI (10y)\n",
      "Skipped XTXI - insufficient data\n",
      "Processing RELL...\n",
      "Processing NATR...\n",
      "Processing RNST...\n",
      "Processing IIM...\n",
      "Processing FANG...\n"
     ]
    },
    {
     "name": "stderr",
     "output_type": "stream",
     "text": [
      "$SBY: possibly delisted; no price data found  (1d 2014-01-26 00:00:00 -> 2025-01-26)\n"
     ]
    },
    {
     "name": "stdout",
     "output_type": "stream",
     "text": [
      "Processing SBY...\n",
      "No data found for SBY (10y)\n",
      "Skipped SBY - insufficient data\n",
      "Processing TWI...\n",
      "Processing SGYP...\n"
     ]
    },
    {
     "name": "stderr",
     "output_type": "stream",
     "text": [
      "$SGYP: possibly delisted; no timezone found\n"
     ]
    },
    {
     "name": "stdout",
     "output_type": "stream",
     "text": [
      "No data found for SGYP (10y)\n",
      "Skipped SGYP - insufficient data\n",
      "Processing TCPC...\n",
      "Processing VTWO...\n",
      "Processing CRL...\n",
      "Processing PL-B...\n"
     ]
    },
    {
     "name": "stderr",
     "output_type": "stream",
     "text": [
      "$PL-B: possibly delisted; no timezone found\n",
      "$NUTR: possibly delisted; no price data found  (1d 2014-01-26 00:00:00 -> 2025-01-26)\n"
     ]
    },
    {
     "name": "stdout",
     "output_type": "stream",
     "text": [
      "No data found for PL-B (10y)\n",
      "Skipped PL-B - insufficient data\n",
      "Processing NUTR...\n",
      "No data found for NUTR (10y)\n",
      "Skipped NUTR - insufficient data\n",
      "Processing INPH...\n"
     ]
    },
    {
     "name": "stderr",
     "output_type": "stream",
     "text": [
      "$INPH: possibly delisted; no price data found  (1d 2014-01-26 00:00:00 -> 2025-01-26)\n"
     ]
    },
    {
     "name": "stdout",
     "output_type": "stream",
     "text": [
      "No data found for INPH (10y)\n",
      "Skipped INPH - insufficient data\n",
      "Processing GGG...\n",
      "Processing USPH...\n",
      "Processing TROVU...\n"
     ]
    },
    {
     "name": "stderr",
     "output_type": "stream",
     "text": [
      "$TROVU: possibly delisted; no timezone found\n"
     ]
    },
    {
     "name": "stdout",
     "output_type": "stream",
     "text": [
      "No data found for TROVU (10y)\n",
      "Skipped TROVU - insufficient data\n",
      "Processing MEN...\n"
     ]
    },
    {
     "name": "stderr",
     "output_type": "stream",
     "text": [
      "$MEN: possibly delisted; no timezone found\n"
     ]
    },
    {
     "name": "stdout",
     "output_type": "stream",
     "text": [
      "No data found for MEN (10y)\n",
      "Skipped MEN - insufficient data\n",
      "Processing OABC...\n",
      "Insufficient data for OABC (220 rows)\n",
      "Skipped OABC - insufficient data\n",
      "Processing DRAD...\n"
     ]
    },
    {
     "name": "stderr",
     "output_type": "stream",
     "text": [
      "$DRAD: possibly delisted; no timezone found\n"
     ]
    },
    {
     "name": "stdout",
     "output_type": "stream",
     "text": [
      "No data found for DRAD (10y)\n",
      "Skipped DRAD - insufficient data\n",
      "Processing EFT...\n"
     ]
    },
    {
     "name": "stderr",
     "output_type": "stream",
     "text": [
      "$XFR: possibly delisted; no price data found  (1d 2014-01-26 00:00:00 -> 2025-01-26)\n"
     ]
    },
    {
     "name": "stdout",
     "output_type": "stream",
     "text": [
      "Processing XFR...\n",
      "No data found for XFR (10y)\n",
      "Skipped XFR - insufficient data\n",
      "Processing IND...\n",
      "Processing WDFC...\n",
      "Processing EML...\n"
     ]
    },
    {
     "name": "stderr",
     "output_type": "stream",
     "text": [
      "$MSCA: possibly delisted; no price data found  (1d 2014-01-26 00:00:00 -> 2025-01-26)\n"
     ]
    },
    {
     "name": "stdout",
     "output_type": "stream",
     "text": [
      "Processing MSCA...\n",
      "No data found for MSCA (10y)\n",
      "Skipped MSCA - insufficient data\n",
      "Processing EXPR...\n"
     ]
    },
    {
     "name": "stderr",
     "output_type": "stream",
     "text": [
      "$EXPR: possibly delisted; no timezone found\n"
     ]
    },
    {
     "name": "stdout",
     "output_type": "stream",
     "text": [
      "No data found for EXPR (10y)\n",
      "Skipped EXPR - insufficient data\n",
      "Processing ASTI...\n",
      "Processing NXP...\n",
      "Processing KIRK...\n",
      "Processing NX...\n",
      "Processing ESLT...\n"
     ]
    },
    {
     "name": "stderr",
     "output_type": "stream",
     "text": [
      "$PATR: possibly delisted; no price data found  (1d 2014-01-26 00:00:00 -> 2025-01-26)\n"
     ]
    },
    {
     "name": "stdout",
     "output_type": "stream",
     "text": [
      "Processing PATR...\n",
      "No data found for PATR (10y)\n",
      "Skipped PATR - insufficient data\n",
      "Processing OXM...\n",
      "Processing NATH...\n",
      "Processing IRDMZ...\n"
     ]
    },
    {
     "name": "stderr",
     "output_type": "stream",
     "text": [
      "$IRDMZ: possibly delisted; no timezone found\n"
     ]
    },
    {
     "name": "stdout",
     "output_type": "stream",
     "text": [
      "No data found for IRDMZ (10y)\n",
      "Skipped IRDMZ - insufficient data\n",
      "Processing AEM...\n",
      "Processing CADX...\n",
      "Insufficient data for CADX (37 rows)\n",
      "Skipped CADX - insufficient data\n",
      "Processing USB-H...\n"
     ]
    },
    {
     "name": "stderr",
     "output_type": "stream",
     "text": [
      "$USB-H: possibly delisted; no timezone found\n"
     ]
    },
    {
     "name": "stdout",
     "output_type": "stream",
     "text": [
      "No data found for USB-H (10y)\n",
      "Skipped USB-H - insufficient data\n",
      "Processing ESS...\n",
      "Processing SLGN...\n",
      "Processing MTDR...\n",
      "Processing AXJS...\n",
      "Processing GSOL...\n",
      "Insufficient data for GSOL (267 rows)\n",
      "Skipped GSOL - insufficient data\n",
      "Processing ALG...\n",
      "Processing MT...\n",
      "Processing BHK...\n",
      "Processing APB...\n",
      "Processing RPT-D...\n"
     ]
    },
    {
     "name": "stderr",
     "output_type": "stream",
     "text": [
      "$RPT-D: possibly delisted; no timezone found\n"
     ]
    },
    {
     "name": "stdout",
     "output_type": "stream",
     "text": [
      "No data found for RPT-D (10y)\n",
      "Skipped RPT-D - insufficient data\n",
      "Processing FRC-B...\n"
     ]
    },
    {
     "name": "stderr",
     "output_type": "stream",
     "text": [
      "$FRC-B: possibly delisted; no timezone found\n"
     ]
    },
    {
     "name": "stdout",
     "output_type": "stream",
     "text": [
      "No data found for FRC-B (10y)\n",
      "Skipped FRC-B - insufficient data\n",
      "Processing CATM...\n"
     ]
    },
    {
     "name": "stderr",
     "output_type": "stream",
     "text": [
      "$CATM: possibly delisted; no timezone found\n"
     ]
    },
    {
     "name": "stdout",
     "output_type": "stream",
     "text": [
      "No data found for CATM (10y)\n",
      "Skipped CATM - insufficient data\n",
      "Processing SONC...\n",
      "Processing ETY...\n",
      "Processing HHC...\n"
     ]
    },
    {
     "name": "stderr",
     "output_type": "stream",
     "text": [
      "$HHC: possibly delisted; no timezone found\n"
     ]
    },
    {
     "name": "stdout",
     "output_type": "stream",
     "text": [
      "No data found for HHC (10y)\n",
      "Skipped HHC - insufficient data\n",
      "Processing AAN...\n"
     ]
    },
    {
     "name": "stderr",
     "output_type": "stream",
     "text": [
      "$AAN: possibly delisted; no timezone found\n"
     ]
    },
    {
     "name": "stdout",
     "output_type": "stream",
     "text": [
      "No data found for AAN (10y)\n",
      "Skipped AAN - insufficient data\n",
      "Processing XYL...\n",
      "Processing OPHC...\n",
      "Processing GGT...\n",
      "Processing BMR...\n",
      "Processing TCO...\n"
     ]
    },
    {
     "name": "stderr",
     "output_type": "stream",
     "text": [
      "$TCO: possibly delisted; no timezone found\n",
      "$KIPO: possibly delisted; no price data found  (1d 2014-01-26 00:00:00 -> 2025-01-26)\n",
      "$DRU: possibly delisted; no price data found  (1d 2014-01-26 00:00:00 -> 2025-01-26)\n"
     ]
    },
    {
     "name": "stdout",
     "output_type": "stream",
     "text": [
      "No data found for TCO (10y)\n",
      "Skipped TCO - insufficient data\n",
      "Processing KIPO...\n",
      "No data found for KIPO (10y)\n",
      "Skipped KIPO - insufficient data\n",
      "Processing DRU...\n",
      "No data found for DRU (10y)\n",
      "Skipped DRU - insufficient data\n",
      "Processing SKS...\n",
      "Processing CALI...\n",
      "Processing MRLN...\n"
     ]
    },
    {
     "name": "stderr",
     "output_type": "stream",
     "text": [
      "$MRLN: possibly delisted; no timezone found\n"
     ]
    },
    {
     "name": "stdout",
     "output_type": "stream",
     "text": [
      "No data found for MRLN (10y)\n",
      "Skipped MRLN - insufficient data\n",
      "Processing HPP...\n",
      "Processing PETM...\n",
      "Insufficient data for PETM (1 rows)\n",
      "Skipped PETM - insufficient data\n",
      "Processing YOD...\n"
     ]
    },
    {
     "name": "stderr",
     "output_type": "stream",
     "text": [
      "$YOD: possibly delisted; no price data found  (1d 2014-01-26 00:00:00 -> 2025-01-26)\n"
     ]
    },
    {
     "name": "stdout",
     "output_type": "stream",
     "text": [
      "No data found for YOD (10y)\n",
      "Skipped YOD - insufficient data\n",
      "Processing GOODO...\n",
      "Processing PLBC...\n",
      "Processing NJR...\n",
      "Processing SDT...\n"
     ]
    },
    {
     "name": "stderr",
     "output_type": "stream",
     "text": [
      "$SDT: possibly delisted; no timezone found\n"
     ]
    },
    {
     "name": "stdout",
     "output_type": "stream",
     "text": [
      "No data found for SDT (10y)\n",
      "Skipped SDT - insufficient data\n",
      "Processing MTB...\n",
      "Processing PBI-A...\n"
     ]
    },
    {
     "name": "stderr",
     "output_type": "stream",
     "text": [
      "$PBI-A: possibly delisted; no timezone found\n"
     ]
    },
    {
     "name": "stdout",
     "output_type": "stream",
     "text": [
      "No data found for PBI-A (10y)\n",
      "Skipped PBI-A - insufficient data\n",
      "Processing MH-A...\n"
     ]
    },
    {
     "name": "stderr",
     "output_type": "stream",
     "text": [
      "$MH-A: possibly delisted; no timezone found\n"
     ]
    },
    {
     "name": "stdout",
     "output_type": "stream",
     "text": [
      "No data found for MH-A (10y)\n",
      "Skipped MH-A - insufficient data\n",
      "Processing SPIL...\n",
      "Processing CXO...\n"
     ]
    },
    {
     "name": "stderr",
     "output_type": "stream",
     "text": [
      "$CXO: possibly delisted; no timezone found\n"
     ]
    },
    {
     "name": "stdout",
     "output_type": "stream",
     "text": [
      "No data found for CXO (10y)\n",
      "Skipped CXO - insufficient data\n",
      "Processing VTUS...\n"
     ]
    },
    {
     "name": "stderr",
     "output_type": "stream",
     "text": [
      "$VTUS: possibly delisted; no timezone found\n"
     ]
    },
    {
     "name": "stdout",
     "output_type": "stream",
     "text": [
      "No data found for VTUS (10y)\n",
      "Skipped VTUS - insufficient data\n",
      "Processing ACG...\n",
      "Insufficient data for ACG (1 rows)\n",
      "Skipped ACG - insufficient data\n",
      "Processing ENJ...\n",
      "Processing SIFY...\n",
      "Processing ADBE...\n",
      "Processing JBHT...\n",
      "Processing TTC...\n",
      "Processing VMBS...\n",
      "Processing IBKC...\n"
     ]
    },
    {
     "name": "stderr",
     "output_type": "stream",
     "text": [
      "$IBKC: possibly delisted; no timezone found\n"
     ]
    },
    {
     "name": "stdout",
     "output_type": "stream",
     "text": [
      "No data found for IBKC (10y)\n",
      "Skipped IBKC - insufficient data\n",
      "Processing AQU...\n"
     ]
    },
    {
     "name": "stderr",
     "output_type": "stream",
     "text": [
      "$CRDC: possibly delisted; no price data found  (1d 2014-01-26 00:00:00 -> 2025-01-26)\n"
     ]
    },
    {
     "name": "stdout",
     "output_type": "stream",
     "text": [
      "Processing CRDC...\n",
      "No data found for CRDC (10y)\n",
      "Skipped CRDC - insufficient data\n",
      "Processing LOGI...\n",
      "Processing AMAP...\n"
     ]
    },
    {
     "name": "stderr",
     "output_type": "stream",
     "text": [
      "$LINTA: possibly delisted; no price data found  (1d 2014-01-26 00:00:00 -> 2025-01-26)\n",
      "$KRFT: possibly delisted; no price data found  (1d 2014-01-26 00:00:00 -> 2025-01-26)\n"
     ]
    },
    {
     "name": "stdout",
     "output_type": "stream",
     "text": [
      "Processing LINTA...\n",
      "No data found for LINTA (10y)\n",
      "Skipped LINTA - insufficient data\n",
      "Processing KRFT...\n",
      "No data found for KRFT (10y)\n",
      "Skipped KRFT - insufficient data\n",
      "Processing LAZ...\n",
      "Processing RNWK...\n"
     ]
    },
    {
     "name": "stderr",
     "output_type": "stream",
     "text": [
      "$RNWK: possibly delisted; no timezone found\n"
     ]
    },
    {
     "name": "stdout",
     "output_type": "stream",
     "text": [
      "No data found for RNWK (10y)\n",
      "Skipped RNWK - insufficient data\n",
      "Processing IRS...\n",
      "Processing HNRG...\n",
      "Processing CAP...\n"
     ]
    },
    {
     "name": "stderr",
     "output_type": "stream",
     "text": [
      "$CAP: possibly delisted; no timezone found\n"
     ]
    },
    {
     "name": "stdout",
     "output_type": "stream",
     "text": [
      "No data found for CAP (10y)\n",
      "Skipped CAP - insufficient data\n",
      "Processing TRCB...\n"
     ]
    },
    {
     "name": "stderr",
     "output_type": "stream",
     "text": [
      "$TRCB: possibly delisted; no timezone found\n"
     ]
    },
    {
     "name": "stdout",
     "output_type": "stream",
     "text": [
      "No data found for TRCB (10y)\n",
      "Skipped TRCB - insufficient data\n",
      "Processing RBS-M...\n"
     ]
    },
    {
     "name": "stderr",
     "output_type": "stream",
     "text": [
      "$RBS-M: possibly delisted; no timezone found\n",
      "$JDSU: possibly delisted; no price data found  (1d 2014-01-26 00:00:00 -> 2025-01-26)\n"
     ]
    },
    {
     "name": "stdout",
     "output_type": "stream",
     "text": [
      "No data found for RBS-M (10y)\n",
      "Skipped RBS-M - insufficient data\n",
      "Processing JDSU...\n",
      "No data found for JDSU (10y)\n",
      "Skipped JDSU - insufficient data\n",
      "Processing GFA...\n",
      "Processing NTX...\n"
     ]
    },
    {
     "name": "stderr",
     "output_type": "stream",
     "text": [
      "$NTX: possibly delisted; no timezone found\n"
     ]
    },
    {
     "name": "stdout",
     "output_type": "stream",
     "text": [
      "No data found for NTX (10y)\n",
      "Skipped NTX - insufficient data\n",
      "Processing CYCC...\n",
      "Processing PWOD...\n",
      "Processing RRC...\n",
      "Processing EMITF...\n",
      "Processing LSCC...\n"
     ]
    },
    {
     "name": "stderr",
     "output_type": "stream",
     "text": [
      "$TXTR: possibly delisted; no price data found  (1d 2014-01-26 00:00:00 -> 2025-01-26)\n",
      "$BOTA: possibly delisted; no price data found  (1d 2014-01-26 00:00:00 -> 2025-01-26)\n"
     ]
    },
    {
     "name": "stdout",
     "output_type": "stream",
     "text": [
      "Processing TXTR...\n",
      "No data found for TXTR (10y)\n",
      "Skipped TXTR - insufficient data\n",
      "Processing BOTA...\n",
      "No data found for BOTA (10y)\n",
      "Skipped BOTA - insufficient data\n",
      "Processing UNFI...\n"
     ]
    },
    {
     "name": "stderr",
     "output_type": "stream",
     "text": [
      "$ACAS: possibly delisted; no price data found  (1d 2014-01-26 00:00:00 -> 2025-01-26)\n"
     ]
    },
    {
     "name": "stdout",
     "output_type": "stream",
     "text": [
      "Processing ACAS...\n",
      "No data found for ACAS (10y)\n",
      "Skipped ACAS - insufficient data\n",
      "Processing SCU...\n"
     ]
    },
    {
     "name": "stderr",
     "output_type": "stream",
     "text": [
      "$SCU: possibly delisted; no timezone found\n"
     ]
    },
    {
     "name": "stdout",
     "output_type": "stream",
     "text": [
      "No data found for SCU (10y)\n",
      "Skipped SCU - insufficient data\n",
      "Processing PDEX...\n",
      "Processing EXPE...\n"
     ]
    },
    {
     "name": "stderr",
     "output_type": "stream",
     "text": [
      "$PJS: possibly delisted; no price data found  (1d 2014-01-26 00:00:00 -> 2025-01-26)\n"
     ]
    },
    {
     "name": "stdout",
     "output_type": "stream",
     "text": [
      "Processing PJS...\n",
      "No data found for PJS (10y)\n",
      "Skipped PJS - insufficient data\n",
      "Processing GRO...\n",
      "Insufficient data for GRO (38 rows)\n",
      "Skipped GRO - insufficient data\n",
      "Processing NBTB...\n",
      "Processing BDGE...\n"
     ]
    },
    {
     "name": "stderr",
     "output_type": "stream",
     "text": [
      "$BDGE: possibly delisted; no timezone found\n"
     ]
    },
    {
     "name": "stdout",
     "output_type": "stream",
     "text": [
      "No data found for BDGE (10y)\n",
      "Skipped BDGE - insufficient data\n",
      "Processing NASB...\n",
      "Processing JCOM...\n"
     ]
    },
    {
     "name": "stderr",
     "output_type": "stream",
     "text": [
      "$JCOM: possibly delisted; no timezone found\n"
     ]
    },
    {
     "name": "stdout",
     "output_type": "stream",
     "text": [
      "No data found for JCOM (10y)\n",
      "Skipped JCOM - insufficient data\n",
      "Processing TREX...\n",
      "Processing FNSR...\n"
     ]
    },
    {
     "name": "stderr",
     "output_type": "stream",
     "text": [
      "$FNSR: possibly delisted; no timezone found\n"
     ]
    },
    {
     "name": "stdout",
     "output_type": "stream",
     "text": [
      "No data found for FNSR (10y)\n",
      "Skipped FNSR - insufficient data\n",
      "Processing ONTX...\n"
     ]
    },
    {
     "name": "stderr",
     "output_type": "stream",
     "text": [
      "$ONTX: possibly delisted; no timezone found\n",
      "$GEF.B: possibly delisted; no price data found  (1d 2014-01-26 00:00:00 -> 2025-01-26)\n"
     ]
    },
    {
     "name": "stdout",
     "output_type": "stream",
     "text": [
      "No data found for ONTX (10y)\n",
      "Skipped ONTX - insufficient data\n",
      "Processing GEF.B...\n",
      "No data found for GEF.B (10y)\n",
      "Skipped GEF.B - insufficient data\n",
      "Processing MET-B...\n"
     ]
    },
    {
     "name": "stderr",
     "output_type": "stream",
     "text": [
      "$MET-B: possibly delisted; no timezone found\n"
     ]
    },
    {
     "name": "stdout",
     "output_type": "stream",
     "text": [
      "No data found for MET-B (10y)\n",
      "Skipped MET-B - insufficient data\n",
      "Processing COA...\n",
      "Insufficient data for COA (68 rows)\n",
      "Skipped COA - insufficient data\n",
      "Processing CBD...\n"
     ]
    },
    {
     "name": "stderr",
     "output_type": "stream",
     "text": [
      "$CBD: possibly delisted; no timezone found\n"
     ]
    },
    {
     "name": "stdout",
     "output_type": "stream",
     "text": [
      "No data found for CBD (10y)\n",
      "Skipped CBD - insufficient data\n",
      "Processing IGT...\n",
      "Processing CHTR...\n"
     ]
    },
    {
     "name": "stderr",
     "output_type": "stream",
     "text": [
      "$WFBI: possibly delisted; no price data found  (1d 2014-01-26 00:00:00 -> 2025-01-26)\n"
     ]
    },
    {
     "name": "stdout",
     "output_type": "stream",
     "text": [
      "Processing WFBI...\n",
      "No data found for WFBI (10y)\n",
      "Skipped WFBI - insufficient data\n",
      "Processing NSM...\n",
      "Processing SAFM...\n"
     ]
    },
    {
     "name": "stderr",
     "output_type": "stream",
     "text": [
      "$SAFM: possibly delisted; no timezone found\n"
     ]
    },
    {
     "name": "stdout",
     "output_type": "stream",
     "text": [
      "No data found for SAFM (10y)\n",
      "Skipped SAFM - insufficient data\n",
      "Processing G...\n",
      "Processing GUT-A...\n"
     ]
    },
    {
     "name": "stderr",
     "output_type": "stream",
     "text": [
      "$GUT-A: possibly delisted; no timezone found\n"
     ]
    },
    {
     "name": "stdout",
     "output_type": "stream",
     "text": [
      "No data found for GUT-A (10y)\n",
      "Skipped GUT-A - insufficient data\n",
      "Processing TYY-C...\n"
     ]
    },
    {
     "name": "stderr",
     "output_type": "stream",
     "text": [
      "$TYY-C: possibly delisted; no timezone found\n"
     ]
    },
    {
     "name": "stdout",
     "output_type": "stream",
     "text": [
      "No data found for TYY-C (10y)\n",
      "Skipped TYY-C - insufficient data\n",
      "Processing RAIL...\n",
      "Processing DTV...\n"
     ]
    },
    {
     "name": "stderr",
     "output_type": "stream",
     "text": [
      "$DTV: possibly delisted; no timezone found\n"
     ]
    },
    {
     "name": "stdout",
     "output_type": "stream",
     "text": [
      "No data found for DTV (10y)\n",
      "Skipped DTV - insufficient data\n",
      "Processing CYTXW...\n"
     ]
    },
    {
     "name": "stderr",
     "output_type": "stream",
     "text": [
      "$CYTXW: possibly delisted; no timezone found\n"
     ]
    },
    {
     "name": "stdout",
     "output_type": "stream",
     "text": [
      "No data found for CYTXW (10y)\n",
      "Skipped CYTXW - insufficient data\n",
      "Processing MRF...\n",
      "Processing DD-A...\n"
     ]
    },
    {
     "name": "stderr",
     "output_type": "stream",
     "text": [
      "$DD-A: possibly delisted; no timezone found\n"
     ]
    },
    {
     "name": "stdout",
     "output_type": "stream",
     "text": [
      "No data found for DD-A (10y)\n",
      "Skipped DD-A - insufficient data\n",
      "Processing EPD...\n"
     ]
    },
    {
     "name": "stderr",
     "output_type": "stream",
     "text": [
      "$EDE: possibly delisted; no price data found  (1d 2014-01-26 00:00:00 -> 2025-01-26)\n"
     ]
    },
    {
     "name": "stdout",
     "output_type": "stream",
     "text": [
      "Processing EDE...\n",
      "No data found for EDE (10y)\n",
      "Skipped EDE - insufficient data\n",
      "Processing BTO...\n",
      "Processing AXS...\n",
      "Processing IPHI...\n"
     ]
    },
    {
     "name": "stderr",
     "output_type": "stream",
     "text": [
      "$IPHI: possibly delisted; no timezone found\n"
     ]
    },
    {
     "name": "stdout",
     "output_type": "stream",
     "text": [
      "No data found for IPHI (10y)\n",
      "Skipped IPHI - insufficient data\n",
      "Processing PRFT...\n"
     ]
    },
    {
     "name": "stderr",
     "output_type": "stream",
     "text": [
      "$PRFT: possibly delisted; no timezone found\n"
     ]
    },
    {
     "name": "stdout",
     "output_type": "stream",
     "text": [
      "No data found for PRFT (10y)\n",
      "Skipped PRFT - insufficient data\n",
      "Processing AHL...\n",
      "Processing DOW...\n",
      "Processing CGNX...\n",
      "Processing STZ...\n",
      "Processing HVT...\n",
      "Processing USB...\n",
      "Processing CHKP...\n",
      "Processing EVR...\n",
      "Processing SSNC...\n"
     ]
    },
    {
     "name": "stderr",
     "output_type": "stream",
     "text": [
      "$EDT: possibly delisted; no price data found  (1d 2014-01-26 00:00:00 -> 2025-01-26)\n"
     ]
    },
    {
     "name": "stdout",
     "output_type": "stream",
     "text": [
      "Processing EDT...\n",
      "No data found for EDT (10y)\n",
      "Skipped EDT - insufficient data\n",
      "Processing NAUH...\n"
     ]
    },
    {
     "name": "stderr",
     "output_type": "stream",
     "text": [
      "$RAX: possibly delisted; no price data found  (1d 2014-01-26 00:00:00 -> 2025-01-26)\n"
     ]
    },
    {
     "name": "stdout",
     "output_type": "stream",
     "text": [
      "Processing RAX...\n",
      "No data found for RAX (10y)\n",
      "Skipped RAX - insufficient data\n",
      "Processing MRC...\n",
      "Processing CCNE...\n"
     ]
    },
    {
     "name": "stderr",
     "output_type": "stream",
     "text": [
      "$FCS: possibly delisted; no price data found  (1d 2014-01-26 00:00:00 -> 2025-01-26)\n"
     ]
    },
    {
     "name": "stdout",
     "output_type": "stream",
     "text": [
      "Processing FCS...\n",
      "No data found for FCS (10y)\n",
      "Skipped FCS - insufficient data\n",
      "Processing QGEN...\n",
      "Processing STT-C...\n"
     ]
    },
    {
     "name": "stderr",
     "output_type": "stream",
     "text": [
      "$STT-C: possibly delisted; no timezone found\n",
      "$FCZA: possibly delisted; no price data found  (1d 2014-01-26 00:00:00 -> 2025-01-26)\n"
     ]
    },
    {
     "name": "stdout",
     "output_type": "stream",
     "text": [
      "No data found for STT-C (10y)\n",
      "Skipped STT-C - insufficient data\n",
      "Processing FCZA...\n",
      "No data found for FCZA (10y)\n",
      "Skipped FCZA - insufficient data\n",
      "Processing LECO...\n",
      "Processing CPN...\n",
      "Processing AIQ...\n",
      "Processing CTRP...\n"
     ]
    },
    {
     "name": "stderr",
     "output_type": "stream",
     "text": [
      "$CTRP: possibly delisted; no timezone found\n",
      "$JACQ: possibly delisted; no price data found  (1d 2014-01-26 00:00:00 -> 2025-01-26)\n"
     ]
    },
    {
     "name": "stdout",
     "output_type": "stream",
     "text": [
      "No data found for CTRP (10y)\n",
      "Skipped CTRP - insufficient data\n",
      "Processing JACQ...\n",
      "No data found for JACQ (10y)\n",
      "Skipped JACQ - insufficient data\n",
      "Processing CHDN...\n",
      "Processing PB...\n",
      "Processing OKE...\n",
      "Processing DFRG...\n"
     ]
    },
    {
     "name": "stderr",
     "output_type": "stream",
     "text": [
      "$DFRG: possibly delisted; no timezone found\n"
     ]
    },
    {
     "name": "stdout",
     "output_type": "stream",
     "text": [
      "No data found for DFRG (10y)\n",
      "Skipped DFRG - insufficient data\n",
      "Processing GFED...\n"
     ]
    },
    {
     "name": "stderr",
     "output_type": "stream",
     "text": [
      "$GFED: possibly delisted; no timezone found\n"
     ]
    },
    {
     "name": "stdout",
     "output_type": "stream",
     "text": [
      "No data found for GFED (10y)\n",
      "Skipped GFED - insufficient data\n",
      "Processing DNB...\n"
     ]
    },
    {
     "name": "stderr",
     "output_type": "stream",
     "text": [
      "$GIMO: possibly delisted; no price data found  (1d 2014-01-26 00:00:00 -> 2025-01-26)\n"
     ]
    },
    {
     "name": "stdout",
     "output_type": "stream",
     "text": [
      "Processing GIMO...\n",
      "No data found for GIMO (10y)\n",
      "Skipped GIMO - insufficient data\n",
      "Processing GILD...\n",
      "Processing CP...\n",
      "Processing GAIA...\n",
      "Processing SIGM...\n"
     ]
    },
    {
     "name": "stderr",
     "output_type": "stream",
     "text": [
      "$SIGM: possibly delisted; no timezone found\n",
      "$NBCB: possibly delisted; no price data found  (1d 2014-01-26 00:00:00 -> 2025-01-26)\n"
     ]
    },
    {
     "name": "stdout",
     "output_type": "stream",
     "text": [
      "No data found for SIGM (10y)\n",
      "Skipped SIGM - insufficient data\n",
      "Processing NBCB...\n",
      "No data found for NBCB (10y)\n",
      "Skipped NBCB - insufficient data\n",
      "Processing CIF...\n",
      "Processing NDLS...\n",
      "Processing STAG...\n",
      "Processing KYE...\n",
      "Insufficient data for KYE (275 rows)\n",
      "Skipped KYE - insufficient data\n",
      "Processing IIN...\n"
     ]
    },
    {
     "name": "stderr",
     "output_type": "stream",
     "text": [
      "$IIN: possibly delisted; no timezone found\n"
     ]
    },
    {
     "name": "stdout",
     "output_type": "stream",
     "text": [
      "No data found for IIN (10y)\n",
      "Skipped IIN - insufficient data\n",
      "Processing UFI...\n",
      "Processing PICO...\n"
     ]
    },
    {
     "name": "stderr",
     "output_type": "stream",
     "text": [
      "$PICO: possibly delisted; no timezone found\n"
     ]
    },
    {
     "name": "stdout",
     "output_type": "stream",
     "text": [
      "No data found for PICO (10y)\n",
      "Skipped PICO - insufficient data\n",
      "Processing UMPQ...\n"
     ]
    },
    {
     "name": "stderr",
     "output_type": "stream",
     "text": [
      "$UMPQ: possibly delisted; no timezone found\n"
     ]
    },
    {
     "name": "stdout",
     "output_type": "stream",
     "text": [
      "No data found for UMPQ (10y)\n",
      "Skipped UMPQ - insufficient data\n",
      "Processing AP...\n",
      "Processing HAE...\n",
      "Processing PFX...\n"
     ]
    },
    {
     "name": "stderr",
     "output_type": "stream",
     "text": [
      "$PQ: possibly delisted; no price data found  (1d 2014-01-26 00:00:00 -> 2025-01-26)\n"
     ]
    },
    {
     "name": "stdout",
     "output_type": "stream",
     "text": [
      "Processing PQ...\n",
      "No data found for PQ (10y)\n",
      "Skipped PQ - insufficient data\n",
      "Processing AFCB...\n",
      "Processing AMRC...\n"
     ]
    },
    {
     "name": "stderr",
     "output_type": "stream",
     "text": [
      "$PRXI: possibly delisted; no price data found  (1d 2014-01-26 00:00:00 -> 2025-01-26)\n"
     ]
    },
    {
     "name": "stdout",
     "output_type": "stream",
     "text": [
      "Processing PRXI...\n",
      "No data found for PRXI (10y)\n",
      "Skipped PRXI - insufficient data\n",
      "Processing UNXL...\n"
     ]
    },
    {
     "name": "stderr",
     "output_type": "stream",
     "text": [
      "$UNXL: possibly delisted; no price data found  (1d 2014-01-26 00:00:00 -> 2025-01-26)\n",
      "$PZB: possibly delisted; no price data found  (1d 2014-01-26 00:00:00 -> 2025-01-26)\n"
     ]
    },
    {
     "name": "stdout",
     "output_type": "stream",
     "text": [
      "No data found for UNXL (10y)\n",
      "Skipped UNXL - insufficient data\n",
      "Processing PZB...\n",
      "No data found for PZB (10y)\n",
      "Skipped PZB - insufficient data\n",
      "Processing OSUR...\n",
      "Processing AKRX...\n"
     ]
    },
    {
     "name": "stderr",
     "output_type": "stream",
     "text": [
      "$AKRX: possibly delisted; no timezone found\n"
     ]
    },
    {
     "name": "stdout",
     "output_type": "stream",
     "text": [
      "No data found for AKRX (10y)\n",
      "Skipped AKRX - insufficient data\n",
      "Processing SKM...\n"
     ]
    },
    {
     "name": "stderr",
     "output_type": "stream",
     "text": [
      "$WRES: possibly delisted; no price data found  (1d 2014-01-26 00:00:00 -> 2025-01-26)\n"
     ]
    },
    {
     "name": "stdout",
     "output_type": "stream",
     "text": [
      "Processing WRES...\n",
      "No data found for WRES (10y)\n",
      "Skipped WRES - insufficient data\n",
      "Processing MEIP...\n",
      "Processing SOHU...\n",
      "Processing JCP...\n"
     ]
    },
    {
     "name": "stderr",
     "output_type": "stream",
     "text": [
      "$JCP: possibly delisted; no timezone found\n",
      "$RDS.B: possibly delisted; no price data found  (1d 2014-01-26 00:00:00 -> 2025-01-26)\n",
      "$KBALB: possibly delisted; no price data found  (1d 2014-01-26 00:00:00 -> 2025-01-26)\n"
     ]
    },
    {
     "name": "stdout",
     "output_type": "stream",
     "text": [
      "No data found for JCP (10y)\n",
      "Skipped JCP - insufficient data\n",
      "Processing RDS.B...\n",
      "No data found for RDS.B (10y)\n",
      "Skipped RDS.B - insufficient data\n",
      "Processing KBALB...\n",
      "No data found for KBALB (10y)\n",
      "Skipped KBALB - insufficient data\n",
      "Processing CALD...\n",
      "Processing ARTNA...\n",
      "Processing SHIP...\n",
      "Processing NRG...\n",
      "Processing IQI...\n",
      "Processing NAN...\n",
      "Processing GRID...\n",
      "Processing SPN...\n"
     ]
    },
    {
     "name": "stderr",
     "output_type": "stream",
     "text": [
      "$SPN: possibly delisted; no timezone found\n",
      "$VSCP: possibly delisted; no price data found  (1d 2014-01-26 00:00:00 -> 2025-01-26)\n"
     ]
    },
    {
     "name": "stdout",
     "output_type": "stream",
     "text": [
      "No data found for SPN (10y)\n",
      "Skipped SPN - insufficient data\n",
      "Processing VSCP...\n",
      "No data found for VSCP (10y)\n",
      "Skipped VSCP - insufficient data\n",
      "Processing ELRC...\n"
     ]
    },
    {
     "name": "stderr",
     "output_type": "stream",
     "text": [
      "$ELRC: possibly delisted; no price data found  (1d 2014-01-26 00:00:00 -> 2025-01-26)\n"
     ]
    },
    {
     "name": "stdout",
     "output_type": "stream",
     "text": [
      "No data found for ELRC (10y)\n",
      "Skipped ELRC - insufficient data\n",
      "Processing ELSE...\n",
      "Processing HIBB...\n"
     ]
    },
    {
     "name": "stderr",
     "output_type": "stream",
     "text": [
      "$HIBB: possibly delisted; no timezone found\n"
     ]
    },
    {
     "name": "stdout",
     "output_type": "stream",
     "text": [
      "No data found for HIBB (10y)\n",
      "Skipped HIBB - insufficient data\n",
      "Processing PBR...\n",
      "Processing ARTW...\n",
      "Processing FCEL...\n",
      "Processing FCE.B...\n"
     ]
    },
    {
     "name": "stderr",
     "output_type": "stream",
     "text": [
      "$FCE.B: possibly delisted; no timezone found\n"
     ]
    },
    {
     "name": "stdout",
     "output_type": "stream",
     "text": [
      "No data found for FCE.B (10y)\n",
      "Skipped FCE.B - insufficient data\n",
      "Processing KTH...\n",
      "Processing ARI...\n",
      "Processing BSRR...\n",
      "Processing TNC...\n",
      "Processing FMX...\n"
     ]
    },
    {
     "name": "stderr",
     "output_type": "stream",
     "text": [
      "$LO: possibly delisted; no price data found  (1d 2014-01-26 00:00:00 -> 2025-01-26)\n"
     ]
    },
    {
     "name": "stdout",
     "output_type": "stream",
     "text": [
      "Processing LO...\n",
      "No data found for LO (10y)\n",
      "Skipped LO - insufficient data\n",
      "Processing WSTL...\n",
      "Processing LQDT...\n",
      "Processing WAL...\n",
      "Processing HOG...\n"
     ]
    },
    {
     "name": "stderr",
     "output_type": "stream",
     "text": [
      "$BCR: possibly delisted; no price data found  (1d 2014-01-26 00:00:00 -> 2025-01-26)\n"
     ]
    },
    {
     "name": "stdout",
     "output_type": "stream",
     "text": [
      "Processing BCR...\n",
      "No data found for BCR (10y)\n",
      "Skipped BCR - insufficient data\n",
      "Processing AAON...\n",
      "Processing ACIW...\n",
      "Processing SEMG...\n"
     ]
    },
    {
     "name": "stderr",
     "output_type": "stream",
     "text": [
      "$SEMG: possibly delisted; no timezone found\n"
     ]
    },
    {
     "name": "stdout",
     "output_type": "stream",
     "text": [
      "No data found for SEMG (10y)\n",
      "Skipped SEMG - insufficient data\n",
      "Processing PEIX...\n"
     ]
    },
    {
     "name": "stderr",
     "output_type": "stream",
     "text": [
      "$PEIX: possibly delisted; no timezone found\n"
     ]
    },
    {
     "name": "stdout",
     "output_type": "stream",
     "text": [
      "No data found for PEIX (10y)\n",
      "Skipped PEIX - insufficient data\n",
      "Processing RENT...\n",
      "Processing DGI...\n"
     ]
    },
    {
     "name": "stderr",
     "output_type": "stream",
     "text": [
      "$DGI: possibly delisted; no price data found  (1d 2014-01-26 00:00:00 -> 2025-01-26)\n"
     ]
    },
    {
     "name": "stdout",
     "output_type": "stream",
     "text": [
      "No data found for DGI (10y)\n",
      "Skipped DGI - insufficient data\n",
      "Processing GGM...\n",
      "Processing LKFN...\n",
      "Processing THRM...\n",
      "Processing ACNB...\n",
      "Processing NGX-C...\n"
     ]
    },
    {
     "name": "stderr",
     "output_type": "stream",
     "text": [
      "$NGX-C: possibly delisted; no timezone found\n"
     ]
    },
    {
     "name": "stdout",
     "output_type": "stream",
     "text": [
      "No data found for NGX-C (10y)\n",
      "Skipped NGX-C - insufficient data\n",
      "Processing CPSL...\n",
      "Insufficient data for CPSL (95 rows)\n",
      "Skipped CPSL - insufficient data\n",
      "Processing CBST...\n"
     ]
    },
    {
     "name": "stderr",
     "output_type": "stream",
     "text": [
      "$CBST: possibly delisted; no price data found  (1d 2014-01-26 00:00:00 -> 2025-01-26)\n"
     ]
    },
    {
     "name": "stdout",
     "output_type": "stream",
     "text": [
      "No data found for CBST (10y)\n",
      "Skipped CBST - insufficient data\n",
      "Processing TLYS...\n",
      "Processing HSII...\n",
      "Processing SAFT...\n",
      "Processing GILT...\n",
      "Processing KMI...\n",
      "Processing CHC.W...\n"
     ]
    },
    {
     "name": "stderr",
     "output_type": "stream",
     "text": [
      "$CHC.W: possibly delisted; no timezone found\n",
      "$BAGL: possibly delisted; no price data found  (1d 2014-01-26 00:00:00 -> 2025-01-26)\n"
     ]
    },
    {
     "name": "stdout",
     "output_type": "stream",
     "text": [
      "No data found for CHC.W (10y)\n",
      "Skipped CHC.W - insufficient data\n",
      "Processing BAGL...\n",
      "No data found for BAGL (10y)\n",
      "Skipped BAGL - insufficient data\n",
      "Processing AU-A...\n"
     ]
    },
    {
     "name": "stderr",
     "output_type": "stream",
     "text": [
      "$AU-A: possibly delisted; no timezone found\n"
     ]
    },
    {
     "name": "stdout",
     "output_type": "stream",
     "text": [
      "No data found for AU-A (10y)\n",
      "Skipped AU-A - insufficient data\n",
      "Processing ORN...\n",
      "Processing RBS-F...\n"
     ]
    },
    {
     "name": "stderr",
     "output_type": "stream",
     "text": [
      "$RBS-F: possibly delisted; no timezone found\n"
     ]
    },
    {
     "name": "stdout",
     "output_type": "stream",
     "text": [
      "No data found for RBS-F (10y)\n",
      "Skipped RBS-F - insufficient data\n",
      "Processing TROX...\n",
      "Processing ATLO...\n"
     ]
    },
    {
     "name": "stderr",
     "output_type": "stream",
     "text": [
      "$AIXG: possibly delisted; no price data found  (1d 2014-01-26 00:00:00 -> 2025-01-26)\n"
     ]
    },
    {
     "name": "stdout",
     "output_type": "stream",
     "text": [
      "Processing AIXG...\n",
      "No data found for AIXG (10y)\n",
      "Skipped AIXG - insufficient data\n",
      "Processing MHO...\n"
     ]
    },
    {
     "name": "stderr",
     "output_type": "stream",
     "text": [
      "$CLV: possibly delisted; no price data found  (1d 2014-01-26 00:00:00 -> 2025-01-26)\n"
     ]
    },
    {
     "name": "stdout",
     "output_type": "stream",
     "text": [
      "Processing CLV...\n",
      "No data found for CLV (10y)\n",
      "Skipped CLV - insufficient data\n",
      "Processing TEL...\n",
      "Processing DRIV...\n",
      "Processing PCAR...\n",
      "Processing ORA...\n",
      "Processing MKC...\n"
     ]
    },
    {
     "name": "stderr",
     "output_type": "stream",
     "text": [
      "$AYN: possibly delisted; no price data found  (1d 2014-01-26 00:00:00 -> 2025-01-26)\n"
     ]
    },
    {
     "name": "stdout",
     "output_type": "stream",
     "text": [
      "Processing AYN...\n",
      "No data found for AYN (10y)\n",
      "Skipped AYN - insufficient data\n",
      "Processing IHC...\n"
     ]
    },
    {
     "name": "stderr",
     "output_type": "stream",
     "text": [
      "$IHC: possibly delisted; no timezone found\n"
     ]
    },
    {
     "name": "stdout",
     "output_type": "stream",
     "text": [
      "No data found for IHC (10y)\n",
      "Skipped IHC - insufficient data\n",
      "Processing TAC...\n",
      "Processing AQUUU...\n"
     ]
    },
    {
     "name": "stderr",
     "output_type": "stream",
     "text": [
      "$AQUUU: possibly delisted; no timezone found\n"
     ]
    },
    {
     "name": "stdout",
     "output_type": "stream",
     "text": [
      "No data found for AQUUU (10y)\n",
      "Skipped AQUUU - insufficient data\n",
      "Processing MFD...\n"
     ]
    },
    {
     "name": "stderr",
     "output_type": "stream",
     "text": [
      "$MFD: possibly delisted; no timezone found\n"
     ]
    },
    {
     "name": "stdout",
     "output_type": "stream",
     "text": [
      "No data found for MFD (10y)\n",
      "Skipped MFD - insufficient data\n",
      "Processing MOS...\n"
     ]
    },
    {
     "name": "stderr",
     "output_type": "stream",
     "text": [
      "$JFBI: possibly delisted; no price data found  (1d 2014-01-26 00:00:00 -> 2025-01-26)\n"
     ]
    },
    {
     "name": "stdout",
     "output_type": "stream",
     "text": [
      "Processing JFBI...\n",
      "No data found for JFBI (10y)\n",
      "Skipped JFBI - insufficient data\n",
      "Processing DWCH...\n",
      "Processing BGS...\n",
      "Processing NNC-D...\n"
     ]
    },
    {
     "name": "stderr",
     "output_type": "stream",
     "text": [
      "$NNC-D: possibly delisted; no timezone found\n"
     ]
    },
    {
     "name": "stdout",
     "output_type": "stream",
     "text": [
      "No data found for NNC-D (10y)\n",
      "Skipped NNC-D - insufficient data\n",
      "Processing IMPV...\n",
      "Processing DAN...\n",
      "Processing PRI...\n",
      "Processing FHY...\n"
     ]
    },
    {
     "name": "stderr",
     "output_type": "stream",
     "text": [
      "$FHY: possibly delisted; no timezone found\n"
     ]
    },
    {
     "name": "stdout",
     "output_type": "stream",
     "text": [
      "No data found for FHY (10y)\n",
      "Skipped FHY - insufficient data\n",
      "Processing SYNA...\n",
      "Processing COO...\n",
      "Processing HQL...\n",
      "Processing TCRD...\n"
     ]
    },
    {
     "name": "stderr",
     "output_type": "stream",
     "text": [
      "$TCRD: possibly delisted; no timezone found\n"
     ]
    },
    {
     "name": "stdout",
     "output_type": "stream",
     "text": [
      "No data found for TCRD (10y)\n",
      "Skipped TCRD - insufficient data\n",
      "Processing DV...\n",
      "Processing MDT...\n",
      "Processing PDCO...\n",
      "Processing LUB...\n"
     ]
    },
    {
     "name": "stderr",
     "output_type": "stream",
     "text": [
      "$LUB: possibly delisted; no timezone found\n",
      "$MBVT: possibly delisted; no price data found  (1d 2014-01-26 00:00:00 -> 2025-01-26)\n"
     ]
    },
    {
     "name": "stdout",
     "output_type": "stream",
     "text": [
      "No data found for LUB (10y)\n",
      "Skipped LUB - insufficient data\n",
      "Processing MBVT...\n",
      "No data found for MBVT (10y)\n",
      "Skipped MBVT - insufficient data\n",
      "Processing PSCM...\n",
      "Processing FCH-A...\n"
     ]
    },
    {
     "name": "stderr",
     "output_type": "stream",
     "text": [
      "$FCH-A: possibly delisted; no timezone found\n",
      "$SWHC: possibly delisted; no price data found  (1d 2014-01-26 00:00:00 -> 2025-01-26)\n"
     ]
    },
    {
     "name": "stdout",
     "output_type": "stream",
     "text": [
      "No data found for FCH-A (10y)\n",
      "Skipped FCH-A - insufficient data\n",
      "Processing SWHC...\n",
      "No data found for SWHC (10y)\n",
      "Skipped SWHC - insufficient data\n",
      "Processing XPLR...\n",
      "Processing IHG...\n",
      "Processing RRD...\n"
     ]
    },
    {
     "name": "stderr",
     "output_type": "stream",
     "text": [
      "$RRD: possibly delisted; no timezone found\n"
     ]
    },
    {
     "name": "stdout",
     "output_type": "stream",
     "text": [
      "No data found for RRD (10y)\n",
      "Skipped RRD - insufficient data\n",
      "Processing PCRX...\n",
      "Processing CVLT...\n",
      "Processing SCHL...\n",
      "Processing VAL...\n",
      "Processing AIV-Z...\n"
     ]
    },
    {
     "name": "stderr",
     "output_type": "stream",
     "text": [
      "$AIV-Z: possibly delisted; no timezone found\n"
     ]
    },
    {
     "name": "stdout",
     "output_type": "stream",
     "text": [
      "No data found for AIV-Z (10y)\n",
      "Skipped AIV-Z - insufficient data\n",
      "Processing CVTI...\n"
     ]
    },
    {
     "name": "stderr",
     "output_type": "stream",
     "text": [
      "$CVTI: possibly delisted; no timezone found\n"
     ]
    },
    {
     "name": "stdout",
     "output_type": "stream",
     "text": [
      "No data found for CVTI (10y)\n",
      "Skipped CVTI - insufficient data\n",
      "Processing GES...\n",
      "Processing DMRC...\n",
      "Processing WEN...\n",
      "Processing NOAH...\n",
      "Processing SBGL...\n"
     ]
    },
    {
     "name": "stderr",
     "output_type": "stream",
     "text": [
      "$SBGL: possibly delisted; no timezone found\n"
     ]
    },
    {
     "name": "stdout",
     "output_type": "stream",
     "text": [
      "No data found for SBGL (10y)\n",
      "Skipped SBGL - insufficient data\n",
      "Processing YY...\n"
     ]
    },
    {
     "name": "stderr",
     "output_type": "stream",
     "text": [
      "$BIO.B: possibly delisted; no price data found  (1d 2014-01-26 00:00:00 -> 2025-01-26)\n",
      "CHXF: Period '1mo' is invalid, must be one of ['1d', '5d']\n"
     ]
    },
    {
     "name": "stdout",
     "output_type": "stream",
     "text": [
      "Processing BIO.B...\n",
      "No data found for BIO.B (10y)\n",
      "Skipped BIO.B - insufficient data\n",
      "Processing CHXF...\n",
      "No data found for CHXF (10y)\n",
      "Skipped CHXF - insufficient data\n",
      "Processing HAYN...\n"
     ]
    },
    {
     "name": "stderr",
     "output_type": "stream",
     "text": [
      "$HAYN: possibly delisted; no price data found  (1d 2014-01-26 00:00:00 -> 2025-01-26) (Yahoo error = \"No data found, symbol may be delisted\")\n"
     ]
    },
    {
     "name": "stdout",
     "output_type": "stream",
     "text": [
      "No data found for HAYN (10y)\n",
      "Skipped HAYN - insufficient data\n",
      "Processing ECOM...\n"
     ]
    },
    {
     "name": "stderr",
     "output_type": "stream",
     "text": [
      "$ECOM: possibly delisted; no timezone found\n"
     ]
    },
    {
     "name": "stdout",
     "output_type": "stream",
     "text": [
      "No data found for ECOM (10y)\n",
      "Skipped ECOM - insufficient data\n",
      "Processing RHP...\n",
      "Processing MVT...\n",
      "Processing CASH...\n",
      "Processing EMEY...\n",
      "Processing SHBI...\n",
      "Processing QQXT...\n",
      "Processing VRNT...\n",
      "Processing VC...\n",
      "Processing RFIL...\n"
     ]
    },
    {
     "name": "stderr",
     "output_type": "stream",
     "text": [
      "$CNBC: possibly delisted; no price data found  (1d 2014-01-26 00:00:00 -> 2025-01-26)\n",
      "$BONT: possibly delisted; no price data found  (1d 2014-01-26 00:00:00 -> 2025-01-26)\n"
     ]
    },
    {
     "name": "stdout",
     "output_type": "stream",
     "text": [
      "Processing CNBC...\n",
      "No data found for CNBC (10y)\n",
      "Skipped CNBC - insufficient data\n",
      "Processing BONT...\n",
      "No data found for BONT (10y)\n",
      "Skipped BONT - insufficient data\n",
      "Processing NQJ...\n"
     ]
    },
    {
     "name": "stderr",
     "output_type": "stream",
     "text": [
      "$NQJ: possibly delisted; no price data found  (1d 2014-01-26 00:00:00 -> 2025-01-26)\n"
     ]
    },
    {
     "name": "stdout",
     "output_type": "stream",
     "text": [
      "No data found for NQJ (10y)\n",
      "Skipped NQJ - insufficient data\n",
      "Processing MFNC...\n"
     ]
    },
    {
     "name": "stderr",
     "output_type": "stream",
     "text": [
      "$MFNC: possibly delisted; no timezone found\n"
     ]
    },
    {
     "name": "stdout",
     "output_type": "stream",
     "text": [
      "No data found for MFNC (10y)\n",
      "Skipped MFNC - insufficient data\n",
      "Processing PGI...\n",
      "Processing BIOL...\n"
     ]
    },
    {
     "name": "stderr",
     "output_type": "stream",
     "text": [
      "$BIOL: possibly delisted; no timezone found\n"
     ]
    },
    {
     "name": "stdout",
     "output_type": "stream",
     "text": [
      "No data found for BIOL (10y)\n",
      "Skipped BIOL - insufficient data\n",
      "Processing DVN...\n"
     ]
    },
    {
     "name": "stderr",
     "output_type": "stream",
     "text": [
      "$AHT-PA: possibly delisted; no price data found  (1d 2014-01-26 00:00:00 -> 2025-01-26)\n"
     ]
    },
    {
     "name": "stdout",
     "output_type": "stream",
     "text": [
      "Processing AHT-PA...\n",
      "No data found for AHT-PA (10y)\n",
      "Skipped AHT-PA - insufficient data\n",
      "Processing FLWS...\n"
     ]
    },
    {
     "name": "stderr",
     "output_type": "stream",
     "text": [
      "$FEIC: possibly delisted; no price data found  (1d 2014-01-26 00:00:00 -> 2025-01-26)\n",
      "$APPY: possibly delisted; no price data found  (1d 2014-01-26 00:00:00 -> 2025-01-26)\n"
     ]
    },
    {
     "name": "stdout",
     "output_type": "stream",
     "text": [
      "Processing FEIC...\n",
      "No data found for FEIC (10y)\n",
      "Skipped FEIC - insufficient data\n",
      "Processing APPY...\n",
      "No data found for APPY (10y)\n",
      "Skipped APPY - insufficient data\n",
      "Processing BIG...\n"
     ]
    },
    {
     "name": "stderr",
     "output_type": "stream",
     "text": [
      "$BIG: possibly delisted; no timezone found\n"
     ]
    },
    {
     "name": "stdout",
     "output_type": "stream",
     "text": [
      "No data found for BIG (10y)\n",
      "Skipped BIG - insufficient data\n",
      "Processing IRM...\n",
      "Processing LTM...\n",
      "Insufficient data for LTM (126 rows)\n",
      "Skipped LTM - insufficient data\n",
      "Processing DGLY...\n",
      "Processing NWS...\n",
      "Processing AGNC...\n",
      "Processing DPD...\n"
     ]
    },
    {
     "name": "stderr",
     "output_type": "stream",
     "text": [
      "$DPD: possibly delisted; no timezone found\n"
     ]
    },
    {
     "name": "stdout",
     "output_type": "stream",
     "text": [
      "No data found for DPD (10y)\n",
      "Skipped DPD - insufficient data\n",
      "Processing FIRE...\n",
      "Processing AMCN...\n"
     ]
    },
    {
     "name": "stderr",
     "output_type": "stream",
     "text": [
      "$AMCN: possibly delisted; no timezone found\n"
     ]
    },
    {
     "name": "stdout",
     "output_type": "stream",
     "text": [
      "No data found for AMCN (10y)\n",
      "Skipped AMCN - insufficient data\n",
      "Processing XIN...\n",
      "Processing GDL-B...\n"
     ]
    },
    {
     "name": "stderr",
     "output_type": "stream",
     "text": [
      "$GDL-B: possibly delisted; no timezone found\n",
      "$ITMN: possibly delisted; no price data found  (1d 2014-01-26 00:00:00 -> 2025-01-26)\n"
     ]
    },
    {
     "name": "stdout",
     "output_type": "stream",
     "text": [
      "No data found for GDL-B (10y)\n",
      "Skipped GDL-B - insufficient data\n",
      "Processing ITMN...\n",
      "No data found for ITMN (10y)\n",
      "Skipped ITMN - insufficient data\n",
      "Processing CBL-D...\n"
     ]
    },
    {
     "name": "stderr",
     "output_type": "stream",
     "text": [
      "$CBL-D: possibly delisted; no timezone found\n"
     ]
    },
    {
     "name": "stdout",
     "output_type": "stream",
     "text": [
      "No data found for CBL-D (10y)\n",
      "Skipped CBL-D - insufficient data\n",
      "Processing NPO...\n",
      "Processing OPLK...\n",
      "Insufficient data for OPLK (150 rows)\n",
      "Skipped OPLK - insufficient data\n",
      "Processing KMDA...\n",
      "Processing RUSHA...\n",
      "Processing MDLZ...\n",
      "Processing NPTN...\n"
     ]
    },
    {
     "name": "stderr",
     "output_type": "stream",
     "text": [
      "$NPTN: possibly delisted; no timezone found\n",
      "$ZLTQ: possibly delisted; no price data found  (1d 2014-01-26 00:00:00 -> 2025-01-26)\n"
     ]
    },
    {
     "name": "stdout",
     "output_type": "stream",
     "text": [
      "No data found for NPTN (10y)\n",
      "Skipped NPTN - insufficient data\n",
      "Processing ZLTQ...\n",
      "No data found for ZLTQ (10y)\n",
      "Skipped ZLTQ - insufficient data\n",
      "Processing NYMTP...\n"
     ]
    },
    {
     "name": "stderr",
     "output_type": "stream",
     "text": [
      "$NYMTP: possibly delisted; no timezone found\n"
     ]
    },
    {
     "name": "stdout",
     "output_type": "stream",
     "text": [
      "No data found for NYMTP (10y)\n",
      "Skipped NYMTP - insufficient data\n",
      "Processing TRC...\n",
      "Processing LTC...\n"
     ]
    },
    {
     "name": "stderr",
     "output_type": "stream",
     "text": [
      "$ACPW: possibly delisted; no price data found  (1d 2014-01-26 00:00:00 -> 2025-01-26)\n"
     ]
    },
    {
     "name": "stdout",
     "output_type": "stream",
     "text": [
      "Processing ACPW...\n",
      "No data found for ACPW (10y)\n",
      "Skipped ACPW - insufficient data\n",
      "Processing MPW...\n",
      "Processing FFN...\n"
     ]
    },
    {
     "name": "stderr",
     "output_type": "stream",
     "text": [
      "$FFN: possibly delisted; no price data found  (1d 2014-01-26 00:00:00 -> 2025-01-26)\n"
     ]
    },
    {
     "name": "stdout",
     "output_type": "stream",
     "text": [
      "No data found for FFN (10y)\n",
      "Skipped FFN - insufficient data\n",
      "Processing CSS...\n"
     ]
    },
    {
     "name": "stderr",
     "output_type": "stream",
     "text": [
      "Failed to get ticker 'CSS' reason: Expecting value: line 1 column 1 (char 0)\n",
      "$CSS: possibly delisted; no timezone found\n"
     ]
    },
    {
     "name": "stdout",
     "output_type": "stream",
     "text": [
      "No data found for CSS (10y)\n",
      "Skipped CSS - insufficient data\n",
      "Processing CORT...\n"
     ]
    },
    {
     "name": "stderr",
     "output_type": "stream",
     "text": [
      "$CORT: possibly delisted; no price data found  (1d 2014-01-26 00:00:00 -> 2025-01-26)\n"
     ]
    },
    {
     "name": "stdout",
     "output_type": "stream",
     "text": [
      "No data found for CORT (10y)\n",
      "Skipped CORT - insufficient data\n",
      "Processing PH...\n"
     ]
    },
    {
     "name": "stderr",
     "output_type": "stream",
     "text": [
      "Failed to get ticker 'PH' reason: Expecting value: line 1 column 1 (char 0)\n",
      "$PH: possibly delisted; no timezone found\n"
     ]
    },
    {
     "name": "stdout",
     "output_type": "stream",
     "text": [
      "No data found for PH (10y)\n",
      "Skipped PH - insufficient data\n",
      "Processing NSYS...\n"
     ]
    },
    {
     "name": "stderr",
     "output_type": "stream",
     "text": [
      "$NSYS: possibly delisted; no price data found  (1d 2014-01-26 00:00:00 -> 2025-01-26)\n"
     ]
    },
    {
     "name": "stdout",
     "output_type": "stream",
     "text": [
      "No data found for NSYS (10y)\n",
      "Skipped NSYS - insufficient data\n",
      "Processing ACTG...\n"
     ]
    },
    {
     "name": "stderr",
     "output_type": "stream",
     "text": [
      "$ACTG: possibly delisted; no price data found  (1d 2014-01-26 00:00:00 -> 2025-01-26)\n"
     ]
    },
    {
     "name": "stdout",
     "output_type": "stream",
     "text": [
      "No data found for ACTG (10y)\n",
      "Skipped ACTG - insufficient data\n",
      "Processing DHX...\n"
     ]
    },
    {
     "name": "stderr",
     "output_type": "stream",
     "text": [
      "$DHX: possibly delisted; no price data found  (1d 2014-01-26 00:00:00 -> 2025-01-26)\n"
     ]
    },
    {
     "name": "stdout",
     "output_type": "stream",
     "text": [
      "No data found for DHX (10y)\n",
      "Skipped DHX - insufficient data\n",
      "Processing GPRC...\n"
     ]
    },
    {
     "name": "stderr",
     "output_type": "stream",
     "text": [
      "$GPRC: possibly delisted; no price data found  (1d 2014-01-26 00:00:00 -> 2025-01-26)\n"
     ]
    },
    {
     "name": "stdout",
     "output_type": "stream",
     "text": [
      "No data found for GPRC (10y)\n",
      "Skipped GPRC - insufficient data\n",
      "Processing ETO...\n"
     ]
    },
    {
     "name": "stderr",
     "output_type": "stream",
     "text": [
      "$ETO: possibly delisted; no price data found  (1d 2014-01-26 00:00:00 -> 2025-01-26)\n"
     ]
    },
    {
     "name": "stdout",
     "output_type": "stream",
     "text": [
      "No data found for ETO (10y)\n",
      "Skipped ETO - insufficient data\n",
      "Processing EXL-B...\n"
     ]
    },
    {
     "name": "stderr",
     "output_type": "stream",
     "text": [
      "Failed to get ticker 'EXL-B' reason: Expecting value: line 1 column 1 (char 0)\n",
      "$EXL-B: possibly delisted; no timezone found\n"
     ]
    },
    {
     "name": "stdout",
     "output_type": "stream",
     "text": [
      "No data found for EXL-B (10y)\n",
      "Skipped EXL-B - insufficient data\n",
      "Processing GS-C...\n"
     ]
    },
    {
     "name": "stderr",
     "output_type": "stream",
     "text": [
      "Failed to get ticker 'GS-C' reason: Expecting value: line 1 column 1 (char 0)\n",
      "$GS-C: possibly delisted; no timezone found\n"
     ]
    },
    {
     "name": "stdout",
     "output_type": "stream",
     "text": [
      "No data found for GS-C (10y)\n",
      "Skipped GS-C - insufficient data\n",
      "Processing AN...\n"
     ]
    },
    {
     "name": "stderr",
     "output_type": "stream",
     "text": [
      "$AN: possibly delisted; no price data found  (1d 2014-01-26 00:00:00 -> 2025-01-26)\n"
     ]
    },
    {
     "name": "stdout",
     "output_type": "stream",
     "text": [
      "No data found for AN (10y)\n",
      "Skipped AN - insufficient data\n",
      "Processing TAYCO...\n"
     ]
    },
    {
     "name": "stderr",
     "output_type": "stream",
     "text": [
      "Failed to get ticker 'TAYCO' reason: Expecting value: line 1 column 1 (char 0)\n",
      "$TAYCO: possibly delisted; no timezone found\n"
     ]
    },
    {
     "name": "stdout",
     "output_type": "stream",
     "text": [
      "No data found for TAYCO (10y)\n",
      "Skipped TAYCO - insufficient data\n",
      "Processing NGG...\n"
     ]
    },
    {
     "name": "stderr",
     "output_type": "stream",
     "text": [
      "$NGG: possibly delisted; no price data found  (1d 2014-01-26 00:00:00 -> 2025-01-26)\n"
     ]
    },
    {
     "name": "stdout",
     "output_type": "stream",
     "text": [
      "No data found for NGG (10y)\n",
      "Skipped NGG - insufficient data\n",
      "Processing PRAA...\n"
     ]
    },
    {
     "name": "stderr",
     "output_type": "stream",
     "text": [
      "$PRAA: possibly delisted; no price data found  (1d 2014-01-26 00:00:00 -> 2025-01-26)\n"
     ]
    },
    {
     "name": "stdout",
     "output_type": "stream",
     "text": [
      "No data found for PRAA (10y)\n",
      "Skipped PRAA - insufficient data\n",
      "Processing MGPI...\n"
     ]
    },
    {
     "name": "stderr",
     "output_type": "stream",
     "text": [
      "$MGPI: possibly delisted; no price data found  (1d 2014-01-26 00:00:00 -> 2025-01-26)\n"
     ]
    },
    {
     "name": "stdout",
     "output_type": "stream",
     "text": [
      "No data found for MGPI (10y)\n",
      "Skipped MGPI - insufficient data\n",
      "Processing IMOS...\n"
     ]
    },
    {
     "name": "stderr",
     "output_type": "stream",
     "text": [
      "Failed to get ticker 'IMOS' reason: Expecting value: line 1 column 1 (char 0)\n",
      "$IMOS: possibly delisted; no timezone found\n"
     ]
    },
    {
     "name": "stdout",
     "output_type": "stream",
     "text": [
      "No data found for IMOS (10y)\n",
      "Skipped IMOS - insufficient data\n",
      "Processing CSC...\n"
     ]
    },
    {
     "name": "stderr",
     "output_type": "stream",
     "text": [
      "$CSC: possibly delisted; no price data found  (1d 2014-01-26 00:00:00 -> 2025-01-26)\n"
     ]
    },
    {
     "name": "stdout",
     "output_type": "stream",
     "text": [
      "No data found for CSC (10y)\n",
      "Skipped CSC - insufficient data\n",
      "Processing ARG...\n"
     ]
    },
    {
     "name": "stderr",
     "output_type": "stream",
     "text": [
      "$ARG: possibly delisted; no price data found  (1d 2014-01-26 00:00:00 -> 2025-01-26)\n"
     ]
    },
    {
     "name": "stdout",
     "output_type": "stream",
     "text": [
      "No data found for ARG (10y)\n",
      "Skipped ARG - insufficient data\n",
      "Processing PPO...\n"
     ]
    },
    {
     "name": "stderr",
     "output_type": "stream",
     "text": [
      "$PPO: possibly delisted; no price data found  (1d 2014-01-26 00:00:00 -> 2025-01-26)\n"
     ]
    },
    {
     "name": "stdout",
     "output_type": "stream",
     "text": [
      "No data found for PPO (10y)\n",
      "Skipped PPO - insufficient data\n",
      "Processing KAP...\n"
     ]
    },
    {
     "name": "stderr",
     "output_type": "stream",
     "text": [
      "$KAP: possibly delisted; no price data found  (1d 2014-01-26 00:00:00 -> 2025-01-26)\n"
     ]
    },
    {
     "name": "stdout",
     "output_type": "stream",
     "text": [
      "No data found for KAP (10y)\n",
      "Skipped KAP - insufficient data\n",
      "Processing PVTBP...\n"
     ]
    },
    {
     "name": "stderr",
     "output_type": "stream",
     "text": [
      "$PVTBP: possibly delisted; no price data found  (1d 2014-01-26 00:00:00 -> 2025-01-26)\n"
     ]
    },
    {
     "name": "stdout",
     "output_type": "stream",
     "text": [
      "No data found for PVTBP (10y)\n",
      "Skipped PVTBP - insufficient data\n",
      "Processing SMF...\n"
     ]
    },
    {
     "name": "stderr",
     "output_type": "stream",
     "text": [
      "$SMF: possibly delisted; no price data found  (1d 2014-01-26 00:00:00 -> 2025-01-26)\n"
     ]
    },
    {
     "name": "stdout",
     "output_type": "stream",
     "text": [
      "No data found for SMF (10y)\n",
      "Skipped SMF - insufficient data\n",
      "Processing NZH-C...\n"
     ]
    },
    {
     "name": "stderr",
     "output_type": "stream",
     "text": [
      "Failed to get ticker 'NZH-C' reason: Expecting value: line 1 column 1 (char 0)\n",
      "$NZH-C: possibly delisted; no timezone found\n"
     ]
    },
    {
     "name": "stdout",
     "output_type": "stream",
     "text": [
      "No data found for NZH-C (10y)\n",
      "Skipped NZH-C - insufficient data\n",
      "Processing FICO...\n"
     ]
    },
    {
     "name": "stderr",
     "output_type": "stream",
     "text": [
      "Failed to get ticker 'FICO' reason: Expecting value: line 1 column 1 (char 0)\n",
      "$FICO: possibly delisted; no timezone found\n"
     ]
    },
    {
     "name": "stdout",
     "output_type": "stream",
     "text": [
      "No data found for FICO (10y)\n",
      "Skipped FICO - insufficient data\n",
      "Processing FULLL...\n"
     ]
    },
    {
     "name": "stderr",
     "output_type": "stream",
     "text": [
      "Failed to get ticker 'FULLL' reason: Expecting value: line 1 column 1 (char 0)\n",
      "$FULLL: possibly delisted; no timezone found\n"
     ]
    },
    {
     "name": "stdout",
     "output_type": "stream",
     "text": [
      "No data found for FULLL (10y)\n",
      "Skipped FULLL - insufficient data\n",
      "Processing MHY...\n"
     ]
    },
    {
     "name": "stderr",
     "output_type": "stream",
     "text": [
      "$MHY: possibly delisted; no price data found  (1d 2014-01-26 00:00:00 -> 2025-01-26)\n"
     ]
    },
    {
     "name": "stdout",
     "output_type": "stream",
     "text": [
      "No data found for MHY (10y)\n",
      "Skipped MHY - insufficient data\n",
      "Processing ODFL...\n"
     ]
    },
    {
     "name": "stderr",
     "output_type": "stream",
     "text": [
      "$ODFL: possibly delisted; no price data found  (1d 2014-01-26 00:00:00 -> 2025-01-26)\n"
     ]
    },
    {
     "name": "stdout",
     "output_type": "stream",
     "text": [
      "No data found for ODFL (10y)\n",
      "Skipped ODFL - insufficient data\n",
      "Processing NS...\n"
     ]
    },
    {
     "name": "stderr",
     "output_type": "stream",
     "text": [
      "Failed to get ticker 'NS' reason: Expecting value: line 1 column 1 (char 0)\n",
      "$NS: possibly delisted; no timezone found\n"
     ]
    },
    {
     "name": "stdout",
     "output_type": "stream",
     "text": [
      "No data found for NS (10y)\n",
      "Skipped NS - insufficient data\n",
      "Processing ORLY...\n"
     ]
    },
    {
     "name": "stderr",
     "output_type": "stream",
     "text": [
      "$ORLY: possibly delisted; no price data found  (1d 2014-01-26 00:00:00 -> 2025-01-26)\n"
     ]
    },
    {
     "name": "stdout",
     "output_type": "stream",
     "text": [
      "No data found for ORLY (10y)\n",
      "Skipped ORLY - insufficient data\n",
      "Processing SENEA...\n"
     ]
    },
    {
     "name": "stderr",
     "output_type": "stream",
     "text": [
      "$SENEA: possibly delisted; no price data found  (1d 2014-01-26 00:00:00 -> 2025-01-26)\n"
     ]
    },
    {
     "name": "stdout",
     "output_type": "stream",
     "text": [
      "No data found for SENEA (10y)\n",
      "Skipped SENEA - insufficient data\n",
      "Processing PKO...\n"
     ]
    },
    {
     "name": "stderr",
     "output_type": "stream",
     "text": [
      "Failed to get ticker 'PKO' reason: Expecting value: line 1 column 1 (char 0)\n",
      "$PKO: possibly delisted; no timezone found\n"
     ]
    },
    {
     "name": "stdout",
     "output_type": "stream",
     "text": [
      "No data found for PKO (10y)\n",
      "Skipped PKO - insufficient data\n",
      "Processing AGM...\n"
     ]
    },
    {
     "name": "stderr",
     "output_type": "stream",
     "text": [
      "$AGM: possibly delisted; no price data found  (1d 2014-01-26 00:00:00 -> 2025-01-26)\n"
     ]
    },
    {
     "name": "stdout",
     "output_type": "stream",
     "text": [
      "No data found for AGM (10y)\n",
      "Skipped AGM - insufficient data\n",
      "Processing HSIC...\n"
     ]
    },
    {
     "name": "stderr",
     "output_type": "stream",
     "text": [
      "$HSIC: possibly delisted; no price data found  (1d 2014-01-26 00:00:00 -> 2025-01-26)\n"
     ]
    },
    {
     "name": "stdout",
     "output_type": "stream",
     "text": [
      "No data found for HSIC (10y)\n",
      "Skipped HSIC - insufficient data\n",
      "Processing PATK...\n"
     ]
    },
    {
     "name": "stderr",
     "output_type": "stream",
     "text": [
      "Failed to get ticker 'PATK' reason: Expecting value: line 1 column 1 (char 0)\n",
      "$PATK: possibly delisted; no timezone found\n"
     ]
    },
    {
     "name": "stdout",
     "output_type": "stream",
     "text": [
      "No data found for PATK (10y)\n",
      "Skipped PATK - insufficient data\n",
      "Processing PCYC...\n"
     ]
    },
    {
     "name": "stderr",
     "output_type": "stream",
     "text": [
      "$PCYC: possibly delisted; no price data found  (1d 2014-01-26 00:00:00 -> 2025-01-26)\n"
     ]
    },
    {
     "name": "stdout",
     "output_type": "stream",
     "text": [
      "No data found for PCYC (10y)\n",
      "Skipped PCYC - insufficient data\n",
      "Processing BG...\n"
     ]
    },
    {
     "name": "stderr",
     "output_type": "stream",
     "text": [
      "$BG: possibly delisted; no price data found  (1d 2014-01-26 00:00:00 -> 2025-01-26)\n"
     ]
    },
    {
     "name": "stdout",
     "output_type": "stream",
     "text": [
      "No data found for BG (10y)\n",
      "Skipped BG - insufficient data\n",
      "Processing MORN...\n"
     ]
    },
    {
     "name": "stderr",
     "output_type": "stream",
     "text": [
      "$MORN: possibly delisted; no price data found  (1d 2014-01-26 00:00:00 -> 2025-01-26)\n"
     ]
    },
    {
     "name": "stdout",
     "output_type": "stream",
     "text": [
      "No data found for MORN (10y)\n",
      "Skipped MORN - insufficient data\n",
      "Processing JFC...\n"
     ]
    },
    {
     "name": "stderr",
     "output_type": "stream",
     "text": [
      "$JFC: possibly delisted; no price data found  (1d 2014-01-26 00:00:00 -> 2025-01-26)\n"
     ]
    },
    {
     "name": "stdout",
     "output_type": "stream",
     "text": [
      "No data found for JFC (10y)\n",
      "Skipped JFC - insufficient data\n",
      "Processing ARDNA...\n"
     ]
    },
    {
     "name": "stderr",
     "output_type": "stream",
     "text": [
      "$ARDNA: possibly delisted; no price data found  (1d 2014-01-26 00:00:00 -> 2025-01-26)\n"
     ]
    },
    {
     "name": "stdout",
     "output_type": "stream",
     "text": [
      "No data found for ARDNA (10y)\n",
      "Skipped ARDNA - insufficient data\n",
      "Processing HEI...\n"
     ]
    },
    {
     "name": "stderr",
     "output_type": "stream",
     "text": [
      "$HEI: possibly delisted; no price data found  (1d 2014-01-26 00:00:00 -> 2025-01-26)\n"
     ]
    },
    {
     "name": "stdout",
     "output_type": "stream",
     "text": [
      "No data found for HEI (10y)\n",
      "Skipped HEI - insufficient data\n",
      "Processing JW.B...\n"
     ]
    },
    {
     "name": "stderr",
     "output_type": "stream",
     "text": [
      "Failed to get ticker 'JW.B' reason: Expecting value: line 1 column 1 (char 0)\n",
      "$JW.B: possibly delisted; no timezone found\n"
     ]
    },
    {
     "name": "stdout",
     "output_type": "stream",
     "text": [
      "No data found for JW.B (10y)\n",
      "Skipped JW.B - insufficient data\n",
      "Processing UPS...\n"
     ]
    },
    {
     "name": "stderr",
     "output_type": "stream",
     "text": [
      "$UPS: possibly delisted; no price data found  (1d 2014-01-26 00:00:00 -> 2025-01-26)\n"
     ]
    },
    {
     "name": "stdout",
     "output_type": "stream",
     "text": [
      "No data found for UPS (10y)\n",
      "Skipped UPS - insufficient data\n",
      "Processing AVD...\n"
     ]
    },
    {
     "name": "stderr",
     "output_type": "stream",
     "text": [
      "$AVD: possibly delisted; no price data found  (1d 2014-01-26 00:00:00 -> 2025-01-26)\n"
     ]
    },
    {
     "name": "stdout",
     "output_type": "stream",
     "text": [
      "No data found for AVD (10y)\n",
      "Skipped AVD - insufficient data\n",
      "Processing INDB...\n"
     ]
    },
    {
     "name": "stderr",
     "output_type": "stream",
     "text": [
      "$INDB: possibly delisted; no price data found  (1d 2014-01-26 00:00:00 -> 2025-01-26)\n"
     ]
    },
    {
     "name": "stdout",
     "output_type": "stream",
     "text": [
      "No data found for INDB (10y)\n",
      "Skipped INDB - insufficient data\n",
      "Processing RDY...\n"
     ]
    },
    {
     "name": "stderr",
     "output_type": "stream",
     "text": [
      "$RDY: possibly delisted; no price data found  (1d 2014-01-26 00:00:00 -> 2025-01-26)\n"
     ]
    },
    {
     "name": "stdout",
     "output_type": "stream",
     "text": [
      "No data found for RDY (10y)\n",
      "Skipped RDY - insufficient data\n",
      "Processing HMNF...\n"
     ]
    },
    {
     "name": "stderr",
     "output_type": "stream",
     "text": [
      "Failed to get ticker 'HMNF' reason: Expecting value: line 1 column 1 (char 0)\n",
      "$HMNF: possibly delisted; no timezone found\n"
     ]
    },
    {
     "name": "stdout",
     "output_type": "stream",
     "text": [
      "No data found for HMNF (10y)\n",
      "Skipped HMNF - insufficient data\n",
      "Processing PBCT...\n"
     ]
    },
    {
     "name": "stderr",
     "output_type": "stream",
     "text": [
      "Failed to get ticker 'PBCT' reason: Expecting value: line 1 column 1 (char 0)\n",
      "$PBCT: possibly delisted; no timezone found\n"
     ]
    },
    {
     "name": "stdout",
     "output_type": "stream",
     "text": [
      "No data found for PBCT (10y)\n",
      "Skipped PBCT - insufficient data\n",
      "Processing HKTV...\n"
     ]
    },
    {
     "name": "stderr",
     "output_type": "stream",
     "text": [
      "$HKTV: possibly delisted; no price data found  (1d 2014-01-26 00:00:00 -> 2025-01-26)\n"
     ]
    },
    {
     "name": "stdout",
     "output_type": "stream",
     "text": [
      "No data found for HKTV (10y)\n",
      "Skipped HKTV - insufficient data\n",
      "Processing DATE...\n"
     ]
    },
    {
     "name": "stderr",
     "output_type": "stream",
     "text": [
      "$DATE: possibly delisted; no price data found  (1d 2014-01-26 00:00:00 -> 2025-01-26)\n"
     ]
    },
    {
     "name": "stdout",
     "output_type": "stream",
     "text": [
      "No data found for DATE (10y)\n",
      "Skipped DATE - insufficient data\n",
      "Processing RAD...\n"
     ]
    },
    {
     "name": "stderr",
     "output_type": "stream",
     "text": [
      "Failed to get ticker 'RAD' reason: Expecting value: line 1 column 1 (char 0)\n",
      "$RAD: possibly delisted; no timezone found\n"
     ]
    },
    {
     "name": "stdout",
     "output_type": "stream",
     "text": [
      "No data found for RAD (10y)\n",
      "Skipped RAD - insufficient data\n",
      "Processing BEE...\n"
     ]
    },
    {
     "name": "stderr",
     "output_type": "stream",
     "text": [
      "$BEE: possibly delisted; no price data found  (1d 2014-01-26 00:00:00 -> 2025-01-26)\n"
     ]
    },
    {
     "name": "stdout",
     "output_type": "stream",
     "text": [
      "No data found for BEE (10y)\n",
      "Skipped BEE - insufficient data\n",
      "Processing CLI...\n"
     ]
    },
    {
     "name": "stderr",
     "output_type": "stream",
     "text": [
      "Failed to get ticker 'CLI' reason: Expecting value: line 1 column 1 (char 0)\n",
      "$CLI: possibly delisted; no timezone found\n"
     ]
    },
    {
     "name": "stdout",
     "output_type": "stream",
     "text": [
      "No data found for CLI (10y)\n",
      "Skipped CLI - insufficient data\n",
      "Processing FBIZ...\n"
     ]
    },
    {
     "name": "stderr",
     "output_type": "stream",
     "text": [
      "$FBIZ: possibly delisted; no price data found  (1d 2014-01-26 00:00:00 -> 2025-01-26)\n"
     ]
    },
    {
     "name": "stdout",
     "output_type": "stream",
     "text": [
      "No data found for FBIZ (10y)\n",
      "Skipped FBIZ - insufficient data\n",
      "Processing UEIC...\n"
     ]
    },
    {
     "name": "stderr",
     "output_type": "stream",
     "text": [
      "$UEIC: possibly delisted; no price data found  (1d 2014-01-26 00:00:00 -> 2025-01-26)\n"
     ]
    },
    {
     "name": "stdout",
     "output_type": "stream",
     "text": [
      "No data found for UEIC (10y)\n",
      "Skipped UEIC - insufficient data\n",
      "Processing IPAR...\n"
     ]
    },
    {
     "name": "stderr",
     "output_type": "stream",
     "text": [
      "$IPAR: possibly delisted; no price data found  (1d 2014-01-26 00:00:00 -> 2025-01-26)\n"
     ]
    },
    {
     "name": "stdout",
     "output_type": "stream",
     "text": [
      "No data found for IPAR (10y)\n",
      "Skipped IPAR - insufficient data\n",
      "Processing NPT...\n"
     ]
    },
    {
     "name": "stderr",
     "output_type": "stream",
     "text": [
      "$NPT: possibly delisted; no price data found  (1d 2014-01-26 00:00:00 -> 2025-01-26)\n"
     ]
    },
    {
     "name": "stdout",
     "output_type": "stream",
     "text": [
      "No data found for NPT (10y)\n",
      "Skipped NPT - insufficient data\n",
      "Processing EQT...\n"
     ]
    },
    {
     "name": "stderr",
     "output_type": "stream",
     "text": [
      "$EQT: possibly delisted; no price data found  (1d 2014-01-26 00:00:00 -> 2025-01-26)\n"
     ]
    },
    {
     "name": "stdout",
     "output_type": "stream",
     "text": [
      "No data found for EQT (10y)\n",
      "Skipped EQT - insufficient data\n",
      "Processing PSMT...\n"
     ]
    },
    {
     "name": "stderr",
     "output_type": "stream",
     "text": [
      "Failed to get ticker 'PSMT' reason: Expecting value: line 1 column 1 (char 0)\n",
      "$PSMT: possibly delisted; no timezone found\n"
     ]
    },
    {
     "name": "stdout",
     "output_type": "stream",
     "text": [
      "No data found for PSMT (10y)\n",
      "Skipped PSMT - insufficient data\n",
      "Processing EXAM...\n"
     ]
    },
    {
     "name": "stderr",
     "output_type": "stream",
     "text": [
      "Failed to get ticker 'EXAM' reason: Expecting value: line 1 column 1 (char 0)\n",
      "$EXAM: possibly delisted; no timezone found\n"
     ]
    },
    {
     "name": "stdout",
     "output_type": "stream",
     "text": [
      "No data found for EXAM (10y)\n",
      "Skipped EXAM - insufficient data\n",
      "Processing NICE...\n"
     ]
    },
    {
     "name": "stderr",
     "output_type": "stream",
     "text": [
      "Failed to get ticker 'NICE' reason: Expecting value: line 1 column 1 (char 0)\n",
      "$NICE: possibly delisted; no timezone found\n"
     ]
    },
    {
     "name": "stdout",
     "output_type": "stream",
     "text": [
      "No data found for NICE (10y)\n",
      "Skipped NICE - insufficient data\n",
      "Processing AG...\n"
     ]
    },
    {
     "name": "stderr",
     "output_type": "stream",
     "text": [
      "$AG: possibly delisted; no price data found  (1d 2014-01-26 00:00:00 -> 2025-01-26)\n"
     ]
    },
    {
     "name": "stdout",
     "output_type": "stream",
     "text": [
      "No data found for AG (10y)\n",
      "Skipped AG - insufficient data\n",
      "Processing PMC...\n"
     ]
    },
    {
     "name": "stderr",
     "output_type": "stream",
     "text": [
      "$PMC: possibly delisted; no price data found  (1d 2014-01-26 00:00:00 -> 2025-01-26)\n"
     ]
    },
    {
     "name": "stdout",
     "output_type": "stream",
     "text": [
      "No data found for PMC (10y)\n",
      "Skipped PMC - insufficient data\n",
      "Processing ADRU...\n"
     ]
    },
    {
     "name": "stderr",
     "output_type": "stream",
     "text": [
      "$ADRU: possibly delisted; no price data found  (1d 2014-01-26 00:00:00 -> 2025-01-26)\n"
     ]
    },
    {
     "name": "stdout",
     "output_type": "stream",
     "text": [
      "No data found for ADRU (10y)\n",
      "Skipped ADRU - insufficient data\n",
      "Processing JTPY...\n"
     ]
    },
    {
     "name": "stderr",
     "output_type": "stream",
     "text": [
      "$JTPY: possibly delisted; no price data found  (1d 2014-01-26 00:00:00 -> 2025-01-26)\n"
     ]
    },
    {
     "name": "stdout",
     "output_type": "stream",
     "text": [
      "No data found for JTPY (10y)\n",
      "Skipped JTPY - insufficient data\n",
      "Processing HAUP...\n"
     ]
    },
    {
     "name": "stderr",
     "output_type": "stream",
     "text": [
      "$HAUP: possibly delisted; no price data found  (1d 2014-01-26 00:00:00 -> 2025-01-26)\n"
     ]
    },
    {
     "name": "stdout",
     "output_type": "stream",
     "text": [
      "No data found for HAUP (10y)\n",
      "Skipped HAUP - insufficient data\n",
      "Processing ARW...\n"
     ]
    },
    {
     "name": "stderr",
     "output_type": "stream",
     "text": [
      "$ARW: possibly delisted; no price data found  (1d 2014-01-26 00:00:00 -> 2025-01-26)\n"
     ]
    },
    {
     "name": "stdout",
     "output_type": "stream",
     "text": [
      "No data found for ARW (10y)\n",
      "Skipped ARW - insufficient data\n",
      "Processing CYS...\n"
     ]
    },
    {
     "name": "stderr",
     "output_type": "stream",
     "text": [
      "$CYS: possibly delisted; no price data found  (1d 2014-01-26 00:00:00 -> 2025-01-26)\n"
     ]
    },
    {
     "name": "stdout",
     "output_type": "stream",
     "text": [
      "No data found for CYS (10y)\n",
      "Skipped CYS - insufficient data\n",
      "Processing EGY...\n"
     ]
    },
    {
     "name": "stderr",
     "output_type": "stream",
     "text": [
      "$EGY: possibly delisted; no price data found  (1d 2014-01-26 00:00:00 -> 2025-01-26)\n"
     ]
    },
    {
     "name": "stdout",
     "output_type": "stream",
     "text": [
      "No data found for EGY (10y)\n",
      "Skipped EGY - insufficient data\n",
      "Processing CATY...\n"
     ]
    },
    {
     "name": "stderr",
     "output_type": "stream",
     "text": [
      "Failed to get ticker 'CATY' reason: Expecting value: line 1 column 1 (char 0)\n",
      "$CATY: possibly delisted; no timezone found\n"
     ]
    },
    {
     "name": "stdout",
     "output_type": "stream",
     "text": [
      "No data found for CATY (10y)\n",
      "Skipped CATY - insufficient data\n",
      "Processing REXX...\n"
     ]
    },
    {
     "name": "stderr",
     "output_type": "stream",
     "text": [
      "$REXX: possibly delisted; no price data found  (1d 2014-01-26 00:00:00 -> 2025-01-26)\n"
     ]
    },
    {
     "name": "stdout",
     "output_type": "stream",
     "text": [
      "No data found for REXX (10y)\n",
      "Skipped REXX - insufficient data\n",
      "Processing LMOS...\n"
     ]
    },
    {
     "name": "stderr",
     "output_type": "stream",
     "text": [
      "$LMOS: possibly delisted; no price data found  (1d 2014-01-26 00:00:00 -> 2025-01-26)\n"
     ]
    },
    {
     "name": "stdout",
     "output_type": "stream",
     "text": [
      "No data found for LMOS (10y)\n",
      "Skipped LMOS - insufficient data\n",
      "Processing WFD...\n"
     ]
    },
    {
     "name": "stderr",
     "output_type": "stream",
     "text": [
      "Failed to get ticker 'WFD' reason: Expecting value: line 1 column 1 (char 0)\n",
      "$WFD: possibly delisted; no timezone found\n"
     ]
    },
    {
     "name": "stdout",
     "output_type": "stream",
     "text": [
      "No data found for WFD (10y)\n",
      "Skipped WFD - insufficient data\n",
      "Processing ATLS...\n"
     ]
    },
    {
     "name": "stderr",
     "output_type": "stream",
     "text": [
      "Failed to get ticker 'ATLS' reason: Expecting value: line 1 column 1 (char 0)\n",
      "$ATLS: possibly delisted; no timezone found\n"
     ]
    },
    {
     "name": "stdout",
     "output_type": "stream",
     "text": [
      "No data found for ATLS (10y)\n",
      "Skipped ATLS - insufficient data\n",
      "Processing BDMS...\n"
     ]
    },
    {
     "name": "stderr",
     "output_type": "stream",
     "text": [
      "$BDMS: possibly delisted; no price data found  (1d 2014-01-26 00:00:00 -> 2025-01-26)\n"
     ]
    },
    {
     "name": "stdout",
     "output_type": "stream",
     "text": [
      "No data found for BDMS (10y)\n",
      "Skipped BDMS - insufficient data\n",
      "Processing ZAGG...\n"
     ]
    },
    {
     "name": "stderr",
     "output_type": "stream",
     "text": [
      "Failed to get ticker 'ZAGG' reason: Expecting value: line 1 column 1 (char 0)\n",
      "$ZAGG: possibly delisted; no timezone found\n"
     ]
    },
    {
     "name": "stdout",
     "output_type": "stream",
     "text": [
      "No data found for ZAGG (10y)\n",
      "Skipped ZAGG - insufficient data\n",
      "Processing LNBB...\n"
     ]
    },
    {
     "name": "stderr",
     "output_type": "stream",
     "text": [
      "$LNBB: possibly delisted; no price data found  (1d 2014-01-26 00:00:00 -> 2025-01-26)\n"
     ]
    },
    {
     "name": "stdout",
     "output_type": "stream",
     "text": [
      "No data found for LNBB (10y)\n",
      "Skipped LNBB - insufficient data\n",
      "Processing HIG.W...\n"
     ]
    },
    {
     "name": "stderr",
     "output_type": "stream",
     "text": [
      "Failed to get ticker 'HIG.W' reason: Expecting value: line 1 column 1 (char 0)\n",
      "$HIG.W: possibly delisted; no timezone found\n"
     ]
    },
    {
     "name": "stdout",
     "output_type": "stream",
     "text": [
      "No data found for HIG.W (10y)\n",
      "Skipped HIG.W - insufficient data\n",
      "Processing CX...\n"
     ]
    },
    {
     "name": "stderr",
     "output_type": "stream",
     "text": [
      "$CX: possibly delisted; no price data found  (1d 2014-01-26 00:00:00 -> 2025-01-26)\n"
     ]
    },
    {
     "name": "stdout",
     "output_type": "stream",
     "text": [
      "No data found for CX (10y)\n",
      "Skipped CX - insufficient data\n",
      "Processing EMQ...\n"
     ]
    },
    {
     "name": "stderr",
     "output_type": "stream",
     "text": [
      "$EMQ: possibly delisted; no price data found  (1d 2014-01-26 00:00:00 -> 2025-01-26)\n"
     ]
    },
    {
     "name": "stdout",
     "output_type": "stream",
     "text": [
      "No data found for EMQ (10y)\n",
      "Skipped EMQ - insufficient data\n",
      "Processing RBCN...\n"
     ]
    },
    {
     "name": "stderr",
     "output_type": "stream",
     "text": [
      "$RBCN: possibly delisted; no price data found  (1d 2014-01-26 00:00:00 -> 2025-01-26)\n"
     ]
    },
    {
     "name": "stdout",
     "output_type": "stream",
     "text": [
      "No data found for RBCN (10y)\n",
      "Skipped RBCN - insufficient data\n",
      "Processing HYT...\n"
     ]
    },
    {
     "name": "stderr",
     "output_type": "stream",
     "text": [
      "$HYT: possibly delisted; no price data found  (1d 2014-01-26 00:00:00 -> 2025-01-26)\n"
     ]
    },
    {
     "name": "stdout",
     "output_type": "stream",
     "text": [
      "No data found for HYT (10y)\n",
      "Skipped HYT - insufficient data\n",
      "Processing MTU...\n"
     ]
    },
    {
     "name": "stderr",
     "output_type": "stream",
     "text": [
      "$MTU: possibly delisted; no price data found  (1d 2014-01-26 00:00:00 -> 2025-01-26)\n"
     ]
    },
    {
     "name": "stdout",
     "output_type": "stream",
     "text": [
      "No data found for MTU (10y)\n",
      "Skipped MTU - insufficient data\n",
      "Processing MGR...\n"
     ]
    },
    {
     "name": "stderr",
     "output_type": "stream",
     "text": [
      "$MGR: possibly delisted; no price data found  (1d 2014-01-26 00:00:00 -> 2025-01-26)\n"
     ]
    },
    {
     "name": "stdout",
     "output_type": "stream",
     "text": [
      "No data found for MGR (10y)\n",
      "Skipped MGR - insufficient data\n",
      "Processing AHH...\n"
     ]
    },
    {
     "name": "stderr",
     "output_type": "stream",
     "text": [
      "$AHH: possibly delisted; no price data found  (1d 2014-01-26 00:00:00 -> 2025-01-26)\n"
     ]
    },
    {
     "name": "stdout",
     "output_type": "stream",
     "text": [
      "No data found for AHH (10y)\n",
      "Skipped AHH - insufficient data\n",
      "Processing FPT...\n"
     ]
    },
    {
     "name": "stderr",
     "output_type": "stream",
     "text": [
      "$FPT: possibly delisted; no price data found  (1d 2014-01-26 00:00:00 -> 2025-01-26)\n"
     ]
    },
    {
     "name": "stdout",
     "output_type": "stream",
     "text": [
      "No data found for FPT (10y)\n",
      "Skipped FPT - insufficient data\n",
      "Processing HYF...\n"
     ]
    },
    {
     "name": "stderr",
     "output_type": "stream",
     "text": [
      "$HYF: possibly delisted; no price data found  (1d 2014-01-26 00:00:00 -> 2025-01-26)\n"
     ]
    },
    {
     "name": "stdout",
     "output_type": "stream",
     "text": [
      "No data found for HYF (10y)\n",
      "Skipped HYF - insufficient data\n",
      "Processing NSSC...\n"
     ]
    },
    {
     "name": "stderr",
     "output_type": "stream",
     "text": [
      "$NSSC: possibly delisted; no price data found  (1d 2014-01-26 00:00:00 -> 2025-01-26)\n"
     ]
    },
    {
     "name": "stdout",
     "output_type": "stream",
     "text": [
      "No data found for NSSC (10y)\n",
      "Skipped NSSC - insufficient data\n",
      "Processing DHI...\n"
     ]
    },
    {
     "name": "stderr",
     "output_type": "stream",
     "text": [
      "$DHI: possibly delisted; no price data found  (1d 2014-01-26 00:00:00 -> 2025-01-26)\n"
     ]
    },
    {
     "name": "stdout",
     "output_type": "stream",
     "text": [
      "No data found for DHI (10y)\n",
      "Skipped DHI - insufficient data\n",
      "Processing CENX...\n"
     ]
    },
    {
     "name": "stderr",
     "output_type": "stream",
     "text": [
      "$CENX: possibly delisted; no price data found  (1d 2014-01-26 00:00:00 -> 2025-01-26)\n"
     ]
    },
    {
     "name": "stdout",
     "output_type": "stream",
     "text": [
      "No data found for CENX (10y)\n",
      "Skipped CENX - insufficient data\n",
      "Processing PSCC...\n"
     ]
    },
    {
     "name": "stderr",
     "output_type": "stream",
     "text": [
      "Failed to get ticker 'PSCC' reason: Expecting value: line 1 column 1 (char 0)\n",
      "$PSCC: possibly delisted; no timezone found\n"
     ]
    },
    {
     "name": "stdout",
     "output_type": "stream",
     "text": [
      "No data found for PSCC (10y)\n",
      "Skipped PSCC - insufficient data\n",
      "Processing HCLP...\n"
     ]
    },
    {
     "name": "stderr",
     "output_type": "stream",
     "text": [
      "$HCLP: possibly delisted; no price data found  (1d 2014-01-26 00:00:00 -> 2025-01-26)\n"
     ]
    },
    {
     "name": "stdout",
     "output_type": "stream",
     "text": [
      "No data found for HCLP (10y)\n",
      "Skipped HCLP - insufficient data\n",
      "Processing GWPH...\n"
     ]
    },
    {
     "name": "stderr",
     "output_type": "stream",
     "text": [
      "Failed to get ticker 'GWPH' reason: Expecting value: line 1 column 1 (char 0)\n",
      "$GWPH: possibly delisted; no timezone found\n"
     ]
    },
    {
     "name": "stdout",
     "output_type": "stream",
     "text": [
      "No data found for GWPH (10y)\n",
      "Skipped GWPH - insufficient data\n",
      "Processing RPRXW...\n"
     ]
    },
    {
     "name": "stderr",
     "output_type": "stream",
     "text": [
      "Failed to get ticker 'RPRXW' reason: Expecting value: line 1 column 1 (char 0)\n",
      "$RPRXW: possibly delisted; no timezone found\n"
     ]
    },
    {
     "name": "stdout",
     "output_type": "stream",
     "text": [
      "No data found for RPRXW (10y)\n",
      "Skipped RPRXW - insufficient data\n",
      "Processing RSYS...\n"
     ]
    },
    {
     "name": "stderr",
     "output_type": "stream",
     "text": [
      "$RSYS: possibly delisted; no price data found  (1d 2014-01-26 00:00:00 -> 2025-01-26)\n"
     ]
    },
    {
     "name": "stdout",
     "output_type": "stream",
     "text": [
      "No data found for RSYS (10y)\n",
      "Skipped RSYS - insufficient data\n",
      "Processing WVFC...\n"
     ]
    },
    {
     "name": "stderr",
     "output_type": "stream",
     "text": [
      "$WVFC: possibly delisted; no price data found  (1d 2014-01-26 00:00:00 -> 2025-01-26)\n"
     ]
    },
    {
     "name": "stdout",
     "output_type": "stream",
     "text": [
      "No data found for WVFC (10y)\n",
      "Skipped WVFC - insufficient data\n",
      "Processing PNC.W...\n"
     ]
    },
    {
     "name": "stderr",
     "output_type": "stream",
     "text": [
      "Failed to get ticker 'PNC.W' reason: Expecting value: line 1 column 1 (char 0)\n",
      "$PNC.W: possibly delisted; no timezone found\n"
     ]
    },
    {
     "name": "stdout",
     "output_type": "stream",
     "text": [
      "No data found for PNC.W (10y)\n",
      "Skipped PNC.W - insufficient data\n",
      "Processing GMCR...\n"
     ]
    },
    {
     "name": "stderr",
     "output_type": "stream",
     "text": [
      "$GMCR: possibly delisted; no price data found  (1d 2014-01-26 00:00:00 -> 2025-01-26)\n"
     ]
    },
    {
     "name": "stdout",
     "output_type": "stream",
     "text": [
      "No data found for GMCR (10y)\n",
      "Skipped GMCR - insufficient data\n",
      "Processing BKMU...\n"
     ]
    },
    {
     "name": "stderr",
     "output_type": "stream",
     "text": [
      "$BKMU: possibly delisted; no price data found  (1d 2014-01-26 00:00:00 -> 2025-01-26)\n"
     ]
    },
    {
     "name": "stdout",
     "output_type": "stream",
     "text": [
      "No data found for BKMU (10y)\n",
      "Skipped BKMU - insufficient data\n",
      "Processing UAN...\n"
     ]
    },
    {
     "name": "stderr",
     "output_type": "stream",
     "text": [
      "$UAN: possibly delisted; no price data found  (1d 2014-01-26 00:00:00 -> 2025-01-26)\n"
     ]
    },
    {
     "name": "stdout",
     "output_type": "stream",
     "text": [
      "No data found for UAN (10y)\n",
      "Skipped UAN - insufficient data\n",
      "Processing RNET...\n"
     ]
    },
    {
     "name": "stderr",
     "output_type": "stream",
     "text": [
      "Failed to get ticker 'RNET' reason: Expecting value: line 1 column 1 (char 0)\n",
      "$RNET: possibly delisted; no timezone found\n"
     ]
    },
    {
     "name": "stdout",
     "output_type": "stream",
     "text": [
      "No data found for RNET (10y)\n",
      "Skipped RNET - insufficient data\n",
      "Processing NFX...\n"
     ]
    },
    {
     "name": "stderr",
     "output_type": "stream",
     "text": [
      "$NFX: possibly delisted; no price data found  (1d 2014-01-26 00:00:00 -> 2025-01-26)\n"
     ]
    },
    {
     "name": "stdout",
     "output_type": "stream",
     "text": [
      "No data found for NFX (10y)\n",
      "Skipped NFX - insufficient data\n",
      "Processing AVG...\n"
     ]
    },
    {
     "name": "stderr",
     "output_type": "stream",
     "text": [
      "$AVG: possibly delisted; no price data found  (1d 2014-01-26 00:00:00 -> 2025-01-26)\n"
     ]
    },
    {
     "name": "stdout",
     "output_type": "stream",
     "text": [
      "No data found for AVG (10y)\n",
      "Skipped AVG - insufficient data\n",
      "Processing BGC...\n"
     ]
    },
    {
     "name": "stderr",
     "output_type": "stream",
     "text": [
      "Failed to get ticker 'BGC' reason: Expecting value: line 1 column 1 (char 0)\n",
      "$BGC: possibly delisted; no timezone found\n"
     ]
    },
    {
     "name": "stdout",
     "output_type": "stream",
     "text": [
      "No data found for BGC (10y)\n",
      "Skipped BGC - insufficient data\n",
      "Processing CHLN...\n"
     ]
    },
    {
     "name": "stderr",
     "output_type": "stream",
     "text": [
      "$CHLN: possibly delisted; no price data found  (1d 2014-01-26 00:00:00 -> 2025-01-26)\n"
     ]
    },
    {
     "name": "stdout",
     "output_type": "stream",
     "text": [
      "No data found for CHLN (10y)\n",
      "Skipped CHLN - insufficient data\n",
      "Processing SAQ...\n"
     ]
    },
    {
     "name": "stderr",
     "output_type": "stream",
     "text": [
      "Failed to get ticker 'SAQ' reason: Expecting value: line 1 column 1 (char 0)\n",
      "$SAQ: possibly delisted; no timezone found\n"
     ]
    },
    {
     "name": "stdout",
     "output_type": "stream",
     "text": [
      "No data found for SAQ (10y)\n",
      "Skipped SAQ - insufficient data\n",
      "Processing QBAK...\n"
     ]
    },
    {
     "name": "stderr",
     "output_type": "stream",
     "text": [
      "$QBAK: possibly delisted; no price data found  (1d 2014-01-26 00:00:00 -> 2025-01-26)\n"
     ]
    },
    {
     "name": "stdout",
     "output_type": "stream",
     "text": [
      "No data found for QBAK (10y)\n",
      "Skipped QBAK - insufficient data\n",
      "Processing FMD...\n"
     ]
    },
    {
     "name": "stderr",
     "output_type": "stream",
     "text": [
      "$FMD: possibly delisted; no price data found  (1d 2014-01-26 00:00:00 -> 2025-01-26)\n"
     ]
    },
    {
     "name": "stdout",
     "output_type": "stream",
     "text": [
      "No data found for FMD (10y)\n",
      "Skipped FMD - insufficient data\n",
      "Processing BRO...\n"
     ]
    },
    {
     "name": "stderr",
     "output_type": "stream",
     "text": [
      "$BRO: possibly delisted; no price data found  (1d 2014-01-26 00:00:00 -> 2025-01-26)\n"
     ]
    },
    {
     "name": "stdout",
     "output_type": "stream",
     "text": [
      "No data found for BRO (10y)\n",
      "Skipped BRO - insufficient data\n",
      "Processing CBL...\n"
     ]
    },
    {
     "name": "stderr",
     "output_type": "stream",
     "text": [
      "$CBL: possibly delisted; no price data found  (1d 2014-01-26 00:00:00 -> 2025-01-26)\n"
     ]
    },
    {
     "name": "stdout",
     "output_type": "stream",
     "text": [
      "No data found for CBL (10y)\n",
      "Skipped CBL - insufficient data\n",
      "Processing FUN...\n"
     ]
    },
    {
     "name": "stderr",
     "output_type": "stream",
     "text": [
      "$FUN: possibly delisted; no price data found  (1d 2014-01-26 00:00:00 -> 2025-01-26)\n"
     ]
    },
    {
     "name": "stdout",
     "output_type": "stream",
     "text": [
      "No data found for FUN (10y)\n",
      "Skipped FUN - insufficient data\n",
      "Processing KST...\n"
     ]
    },
    {
     "name": "stderr",
     "output_type": "stream",
     "text": [
      "$KST: possibly delisted; no price data found  (1d 2014-01-26 00:00:00 -> 2025-01-26)\n"
     ]
    },
    {
     "name": "stdout",
     "output_type": "stream",
     "text": [
      "No data found for KST (10y)\n",
      "Skipped KST - insufficient data\n",
      "Processing SFD...\n"
     ]
    },
    {
     "name": "stderr",
     "output_type": "stream",
     "text": [
      "$SFD: possibly delisted; no price data found  (1d 2014-01-26 00:00:00 -> 2025-01-26)\n"
     ]
    },
    {
     "name": "stdout",
     "output_type": "stream",
     "text": [
      "No data found for SFD (10y)\n",
      "Skipped SFD - insufficient data\n",
      "Processing HNR...\n"
     ]
    },
    {
     "name": "stderr",
     "output_type": "stream",
     "text": [
      "$HNR: possibly delisted; no price data found  (1d 2014-01-26 00:00:00 -> 2025-01-26)\n"
     ]
    },
    {
     "name": "stdout",
     "output_type": "stream",
     "text": [
      "No data found for HNR (10y)\n",
      "Skipped HNR - insufficient data\n",
      "Processing BZH...\n"
     ]
    },
    {
     "name": "stderr",
     "output_type": "stream",
     "text": [
      "$BZH: possibly delisted; no price data found  (1d 2014-01-26 00:00:00 -> 2025-01-26)\n"
     ]
    },
    {
     "name": "stdout",
     "output_type": "stream",
     "text": [
      "No data found for BZH (10y)\n",
      "Skipped BZH - insufficient data\n",
      "Processing COLE...\n"
     ]
    },
    {
     "name": "stderr",
     "output_type": "stream",
     "text": [
      "Failed to get ticker 'COLE' reason: Expecting value: line 1 column 1 (char 0)\n",
      "$COLE: possibly delisted; no timezone found\n"
     ]
    },
    {
     "name": "stdout",
     "output_type": "stream",
     "text": [
      "No data found for COLE (10y)\n",
      "Skipped COLE - insufficient data\n",
      "Processing NTWK...\n"
     ]
    },
    {
     "name": "stderr",
     "output_type": "stream",
     "text": [
      "$NTWK: possibly delisted; no price data found  (1d 2014-01-26 00:00:00 -> 2025-01-26)\n"
     ]
    },
    {
     "name": "stdout",
     "output_type": "stream",
     "text": [
      "No data found for NTWK (10y)\n",
      "Skipped NTWK - insufficient data\n",
      "Processing ZINC...\n"
     ]
    },
    {
     "name": "stderr",
     "output_type": "stream",
     "text": [
      "$ZINC: possibly delisted; no price data found  (1d 2014-01-26 00:00:00 -> 2025-01-26)\n"
     ]
    },
    {
     "name": "stdout",
     "output_type": "stream",
     "text": [
      "No data found for ZINC (10y)\n",
      "Skipped ZINC - insufficient data\n",
      "Processing DHR...\n"
     ]
    },
    {
     "name": "stderr",
     "output_type": "stream",
     "text": [
      "$DHR: possibly delisted; no price data found  (1d 2014-01-26 00:00:00 -> 2025-01-26)\n"
     ]
    },
    {
     "name": "stdout",
     "output_type": "stream",
     "text": [
      "No data found for DHR (10y)\n",
      "Skipped DHR - insufficient data\n",
      "Processing MBFI...\n"
     ]
    },
    {
     "name": "stderr",
     "output_type": "stream",
     "text": [
      "Failed to get ticker 'MBFI' reason: Expecting value: line 1 column 1 (char 0)\n",
      "$MBFI: possibly delisted; no timezone found\n"
     ]
    },
    {
     "name": "stdout",
     "output_type": "stream",
     "text": [
      "No data found for MBFI (10y)\n",
      "Skipped MBFI - insufficient data\n",
      "Processing CM...\n"
     ]
    },
    {
     "name": "stderr",
     "output_type": "stream",
     "text": [
      "$CM: possibly delisted; no price data found  (1d 2014-01-26 00:00:00 -> 2025-01-26)\n"
     ]
    },
    {
     "name": "stdout",
     "output_type": "stream",
     "text": [
      "No data found for CM (10y)\n",
      "Skipped CM - insufficient data\n",
      "Processing OVLY...\n"
     ]
    },
    {
     "name": "stderr",
     "output_type": "stream",
     "text": [
      "$OVLY: possibly delisted; no price data found  (1d 2014-01-26 00:00:00 -> 2025-01-26)\n"
     ]
    },
    {
     "name": "stdout",
     "output_type": "stream",
     "text": [
      "No data found for OVLY (10y)\n",
      "Skipped OVLY - insufficient data\n",
      "Processing HTA...\n"
     ]
    },
    {
     "name": "stderr",
     "output_type": "stream",
     "text": [
      "Failed to get ticker 'HTA' reason: Expecting value: line 1 column 1 (char 0)\n",
      "$HTA: possibly delisted; no timezone found\n"
     ]
    },
    {
     "name": "stdout",
     "output_type": "stream",
     "text": [
      "No data found for HTA (10y)\n",
      "Skipped HTA - insufficient data\n",
      "Processing BLX...\n"
     ]
    },
    {
     "name": "stderr",
     "output_type": "stream",
     "text": [
      "$BLX: possibly delisted; no price data found  (1d 2014-01-26 00:00:00 -> 2025-01-26)\n"
     ]
    },
    {
     "name": "stdout",
     "output_type": "stream",
     "text": [
      "No data found for BLX (10y)\n",
      "Skipped BLX - insufficient data\n",
      "Processing IDSY...\n"
     ]
    },
    {
     "name": "stderr",
     "output_type": "stream",
     "text": [
      "Failed to get ticker 'IDSY' reason: Expecting value: line 1 column 1 (char 0)\n",
      "$IDSY: possibly delisted; no timezone found\n"
     ]
    },
    {
     "name": "stdout",
     "output_type": "stream",
     "text": [
      "No data found for IDSY (10y)\n",
      "Skipped IDSY - insufficient data\n",
      "Processing OSHC...\n"
     ]
    },
    {
     "name": "stderr",
     "output_type": "stream",
     "text": [
      "$OSHC: possibly delisted; no price data found  (1d 2014-01-26 00:00:00 -> 2025-01-26)\n"
     ]
    },
    {
     "name": "stdout",
     "output_type": "stream",
     "text": [
      "No data found for OSHC (10y)\n",
      "Skipped OSHC - insufficient data\n",
      "Processing Y...\n"
     ]
    },
    {
     "name": "stderr",
     "output_type": "stream",
     "text": [
      "Failed to get ticker 'Y' reason: Expecting value: line 1 column 1 (char 0)\n",
      "$Y: possibly delisted; no timezone found\n"
     ]
    },
    {
     "name": "stdout",
     "output_type": "stream",
     "text": [
      "No data found for Y (10y)\n",
      "Skipped Y - insufficient data\n",
      "Processing QPACU...\n"
     ]
    },
    {
     "name": "stderr",
     "output_type": "stream",
     "text": [
      "Failed to get ticker 'QPACU' reason: Expecting value: line 1 column 1 (char 0)\n",
      "$QPACU: possibly delisted; no timezone found\n"
     ]
    },
    {
     "name": "stdout",
     "output_type": "stream",
     "text": [
      "No data found for QPACU (10y)\n",
      "Skipped QPACU - insufficient data\n",
      "Processing IBCA...\n"
     ]
    },
    {
     "name": "stderr",
     "output_type": "stream",
     "text": [
      "$IBCA: possibly delisted; no price data found  (1d 2014-01-26 00:00:00 -> 2025-01-26)\n"
     ]
    },
    {
     "name": "stdout",
     "output_type": "stream",
     "text": [
      "No data found for IBCA (10y)\n",
      "Skipped IBCA - insufficient data\n",
      "Processing SONS...\n"
     ]
    },
    {
     "name": "stderr",
     "output_type": "stream",
     "text": [
      "$SONS: possibly delisted; no price data found  (1d 2014-01-26 00:00:00 -> 2025-01-26)\n"
     ]
    },
    {
     "name": "stdout",
     "output_type": "stream",
     "text": [
      "No data found for SONS (10y)\n",
      "Skipped SONS - insufficient data\n",
      "Processing CTW...\n"
     ]
    },
    {
     "name": "stderr",
     "output_type": "stream",
     "text": [
      "Failed to get ticker 'CTW' reason: Expecting value: line 1 column 1 (char 0)\n",
      "$CTW: possibly delisted; no timezone found\n"
     ]
    },
    {
     "name": "stdout",
     "output_type": "stream",
     "text": [
      "No data found for CTW (10y)\n",
      "Skipped CTW - insufficient data\n",
      "Processing CTCT...\n"
     ]
    },
    {
     "name": "stderr",
     "output_type": "stream",
     "text": [
      "$CTCT: possibly delisted; no price data found  (1d 2014-01-26 00:00:00 -> 2025-01-26)\n"
     ]
    },
    {
     "name": "stdout",
     "output_type": "stream",
     "text": [
      "No data found for CTCT (10y)\n",
      "Skipped CTCT - insufficient data\n",
      "Processing NGVC...\n"
     ]
    },
    {
     "name": "stderr",
     "output_type": "stream",
     "text": [
      "$NGVC: possibly delisted; no price data found  (1d 2014-01-26 00:00:00 -> 2025-01-26)\n"
     ]
    },
    {
     "name": "stdout",
     "output_type": "stream",
     "text": [
      "No data found for NGVC (10y)\n",
      "Skipped NGVC - insufficient data\n",
      "Processing TTPH...\n"
     ]
    },
    {
     "name": "stderr",
     "output_type": "stream",
     "text": [
      "Failed to get ticker 'TTPH' reason: Expecting value: line 1 column 1 (char 0)\n",
      "$TTPH: possibly delisted; no timezone found\n"
     ]
    },
    {
     "name": "stdout",
     "output_type": "stream",
     "text": [
      "No data found for TTPH (10y)\n",
      "Skipped TTPH - insufficient data\n",
      "Processing STI-A...\n"
     ]
    },
    {
     "name": "stderr",
     "output_type": "stream",
     "text": [
      "Failed to get ticker 'STI-A' reason: Expecting value: line 1 column 1 (char 0)\n",
      "$STI-A: possibly delisted; no timezone found\n"
     ]
    },
    {
     "name": "stdout",
     "output_type": "stream",
     "text": [
      "No data found for STI-A (10y)\n",
      "Skipped STI-A - insufficient data\n",
      "Processing MTOR...\n"
     ]
    },
    {
     "name": "stderr",
     "output_type": "stream",
     "text": [
      "Failed to get ticker 'MTOR' reason: Expecting value: line 1 column 1 (char 0)\n",
      "$MTOR: possibly delisted; no timezone found\n"
     ]
    },
    {
     "name": "stdout",
     "output_type": "stream",
     "text": [
      "No data found for MTOR (10y)\n",
      "Skipped MTOR - insufficient data\n",
      "Processing BNDX...\n"
     ]
    },
    {
     "name": "stderr",
     "output_type": "stream",
     "text": [
      "$BNDX: possibly delisted; no price data found  (1d 2014-01-26 00:00:00 -> 2025-01-26)\n"
     ]
    },
    {
     "name": "stdout",
     "output_type": "stream",
     "text": [
      "No data found for BNDX (10y)\n",
      "Skipped BNDX - insufficient data\n",
      "Processing TSBK...\n"
     ]
    },
    {
     "name": "stderr",
     "output_type": "stream",
     "text": [
      "Failed to get ticker 'TSBK' reason: Expecting value: line 1 column 1 (char 0)\n",
      "$TSBK: possibly delisted; no timezone found\n"
     ]
    },
    {
     "name": "stdout",
     "output_type": "stream",
     "text": [
      "No data found for TSBK (10y)\n",
      "Skipped TSBK - insufficient data\n",
      "Processing CNH...\n"
     ]
    },
    {
     "name": "stderr",
     "output_type": "stream",
     "text": [
      "$CNH: possibly delisted; no price data found  (1d 2014-01-26 00:00:00 -> 2025-01-26)\n"
     ]
    },
    {
     "name": "stdout",
     "output_type": "stream",
     "text": [
      "No data found for CNH (10y)\n",
      "Skipped CNH - insufficient data\n",
      "Processing MWIV...\n"
     ]
    },
    {
     "name": "stderr",
     "output_type": "stream",
     "text": [
      "Failed to get ticker 'MWIV' reason: Expecting value: line 1 column 1 (char 0)\n",
      "$MWIV: possibly delisted; no timezone found\n"
     ]
    },
    {
     "name": "stdout",
     "output_type": "stream",
     "text": [
      "No data found for MWIV (10y)\n",
      "Skipped MWIV - insufficient data\n",
      "Processing GLNG...\n"
     ]
    },
    {
     "name": "stderr",
     "output_type": "stream",
     "text": [
      "$GLNG: possibly delisted; no price data found  (1d 2014-01-26 00:00:00 -> 2025-01-26)\n"
     ]
    },
    {
     "name": "stdout",
     "output_type": "stream",
     "text": [
      "No data found for GLNG (10y)\n",
      "Skipped GLNG - insufficient data\n",
      "Processing FRX...\n"
     ]
    },
    {
     "name": "stderr",
     "output_type": "stream",
     "text": [
      "Failed to get ticker 'FRX' reason: Expecting value: line 1 column 1 (char 0)\n",
      "$FRX: possibly delisted; no timezone found\n"
     ]
    },
    {
     "name": "stdout",
     "output_type": "stream",
     "text": [
      "No data found for FRX (10y)\n",
      "Skipped FRX - insufficient data\n",
      "Processing AXTI...\n"
     ]
    },
    {
     "name": "stderr",
     "output_type": "stream",
     "text": [
      "$AXTI: possibly delisted; no price data found  (1d 2014-01-26 00:00:00 -> 2025-01-26)\n"
     ]
    },
    {
     "name": "stdout",
     "output_type": "stream",
     "text": [
      "No data found for AXTI (10y)\n",
      "Skipped AXTI - insufficient data\n",
      "Processing ARR-A...\n"
     ]
    },
    {
     "name": "stderr",
     "output_type": "stream",
     "text": [
      "Failed to get ticker 'ARR-A' reason: Expecting value: line 1 column 1 (char 0)\n",
      "$ARR-A: possibly delisted; no timezone found\n"
     ]
    },
    {
     "name": "stdout",
     "output_type": "stream",
     "text": [
      "No data found for ARR-A (10y)\n",
      "Skipped ARR-A - insufficient data\n",
      "Processing TAM...\n"
     ]
    },
    {
     "name": "stderr",
     "output_type": "stream",
     "text": [
      "$TAM: possibly delisted; no price data found  (1d 2014-01-26 00:00:00 -> 2025-01-26)\n"
     ]
    },
    {
     "name": "stdout",
     "output_type": "stream",
     "text": [
      "No data found for TAM (10y)\n",
      "Skipped TAM - insufficient data\n",
      "Processing VAR...\n"
     ]
    },
    {
     "name": "stderr",
     "output_type": "stream",
     "text": [
      "Failed to get ticker 'VAR' reason: Expecting value: line 1 column 1 (char 0)\n",
      "$VAR: possibly delisted; no timezone found\n"
     ]
    },
    {
     "name": "stdout",
     "output_type": "stream",
     "text": [
      "No data found for VAR (10y)\n",
      "Skipped VAR - insufficient data\n",
      "Processing GDF...\n"
     ]
    },
    {
     "name": "stderr",
     "output_type": "stream",
     "text": [
      "$GDF: possibly delisted; no price data found  (1d 2014-01-26 00:00:00 -> 2025-01-26)\n"
     ]
    },
    {
     "name": "stdout",
     "output_type": "stream",
     "text": [
      "No data found for GDF (10y)\n",
      "Skipped GDF - insufficient data\n",
      "Processing LLY...\n"
     ]
    },
    {
     "name": "stderr",
     "output_type": "stream",
     "text": [
      "$LLY: possibly delisted; no price data found  (1d 2014-01-26 00:00:00 -> 2025-01-26)\n"
     ]
    },
    {
     "name": "stdout",
     "output_type": "stream",
     "text": [
      "No data found for LLY (10y)\n",
      "Skipped LLY - insufficient data\n",
      "Processing JEQ...\n"
     ]
    },
    {
     "name": "stderr",
     "output_type": "stream",
     "text": [
      "$JEQ: possibly delisted; no price data found  (1d 2014-01-26 00:00:00 -> 2025-01-26)\n"
     ]
    },
    {
     "name": "stdout",
     "output_type": "stream",
     "text": [
      "No data found for JEQ (10y)\n",
      "Skipped JEQ - insufficient data\n",
      "Processing PIM...\n"
     ]
    },
    {
     "name": "stderr",
     "output_type": "stream",
     "text": [
      "$PIM: possibly delisted; no price data found  (1d 2014-01-26 00:00:00 -> 2025-01-26)\n"
     ]
    },
    {
     "name": "stdout",
     "output_type": "stream",
     "text": [
      "No data found for PIM (10y)\n",
      "Skipped PIM - insufficient data\n",
      "Processing USAC...\n"
     ]
    },
    {
     "name": "stderr",
     "output_type": "stream",
     "text": [
      "$USAC: possibly delisted; no price data found  (1d 2014-01-26 00:00:00 -> 2025-01-26)\n"
     ]
    },
    {
     "name": "stdout",
     "output_type": "stream",
     "text": [
      "No data found for USAC (10y)\n",
      "Skipped USAC - insufficient data\n",
      "Processing BQR...\n"
     ]
    },
    {
     "name": "stderr",
     "output_type": "stream",
     "text": [
      "Failed to get ticker 'BQR' reason: Expecting value: line 1 column 1 (char 0)\n",
      "$BQR: possibly delisted; no timezone found\n"
     ]
    },
    {
     "name": "stdout",
     "output_type": "stream",
     "text": [
      "No data found for BQR (10y)\n",
      "Skipped BQR - insufficient data\n",
      "Processing GLDC...\n"
     ]
    },
    {
     "name": "stderr",
     "output_type": "stream",
     "text": [
      "$GLDC: possibly delisted; no price data found  (1d 2014-01-26 00:00:00 -> 2025-01-26)\n"
     ]
    },
    {
     "name": "stdout",
     "output_type": "stream",
     "text": [
      "No data found for GLDC (10y)\n",
      "Skipped GLDC - insufficient data\n",
      "Processing LOCM...\n"
     ]
    },
    {
     "name": "stderr",
     "output_type": "stream",
     "text": [
      "Failed to get ticker 'LOCM' reason: Expecting value: line 1 column 1 (char 0)\n",
      "$LOCM: possibly delisted; no timezone found\n"
     ]
    },
    {
     "name": "stdout",
     "output_type": "stream",
     "text": [
      "No data found for LOCM (10y)\n",
      "Skipped LOCM - insufficient data\n",
      "Processing UBSH...\n"
     ]
    },
    {
     "name": "stderr",
     "output_type": "stream",
     "text": [
      "Failed to get ticker 'UBSH' reason: Expecting value: line 1 column 1 (char 0)\n",
      "$UBSH: possibly delisted; no timezone found\n"
     ]
    },
    {
     "name": "stdout",
     "output_type": "stream",
     "text": [
      "No data found for UBSH (10y)\n",
      "Skipped UBSH - insufficient data\n",
      "Processing BYI...\n"
     ]
    },
    {
     "name": "stderr",
     "output_type": "stream",
     "text": [
      "Failed to get ticker 'BYI' reason: Expecting value: line 1 column 1 (char 0)\n",
      "$BYI: possibly delisted; no timezone found\n"
     ]
    },
    {
     "name": "stdout",
     "output_type": "stream",
     "text": [
      "No data found for BYI (10y)\n",
      "Skipped BYI - insufficient data\n",
      "Processing MANT...\n"
     ]
    },
    {
     "name": "stderr",
     "output_type": "stream",
     "text": [
      "Failed to get ticker 'MANT' reason: Expecting value: line 1 column 1 (char 0)\n",
      "$MANT: possibly delisted; no timezone found\n"
     ]
    },
    {
     "name": "stdout",
     "output_type": "stream",
     "text": [
      "No data found for MANT (10y)\n",
      "Skipped MANT - insufficient data\n",
      "Processing GNCMA...\n"
     ]
    },
    {
     "name": "stderr",
     "output_type": "stream",
     "text": [
      "$GNCMA: possibly delisted; no price data found  (1d 2014-01-26 00:00:00 -> 2025-01-26)\n"
     ]
    },
    {
     "name": "stdout",
     "output_type": "stream",
     "text": [
      "No data found for GNCMA (10y)\n",
      "Skipped GNCMA - insufficient data\n",
      "Processing TOO...\n"
     ]
    },
    {
     "name": "stderr",
     "output_type": "stream",
     "text": [
      "Failed to get ticker 'TOO' reason: Expecting value: line 1 column 1 (char 0)\n",
      "$TOO: possibly delisted; no timezone found\n"
     ]
    },
    {
     "name": "stdout",
     "output_type": "stream",
     "text": [
      "No data found for TOO (10y)\n",
      "Skipped TOO - insufficient data\n",
      "Processing FORM...\n"
     ]
    },
    {
     "name": "stderr",
     "output_type": "stream",
     "text": [
      "$FORM: possibly delisted; no price data found  (1d 2014-01-26 00:00:00 -> 2025-01-26)\n"
     ]
    },
    {
     "name": "stdout",
     "output_type": "stream",
     "text": [
      "No data found for FORM (10y)\n",
      "Skipped FORM - insufficient data\n",
      "Processing MUX...\n"
     ]
    },
    {
     "name": "stderr",
     "output_type": "stream",
     "text": [
      "$MUX: possibly delisted; no price data found  (1d 2014-01-26 00:00:00 -> 2025-01-26)\n"
     ]
    },
    {
     "name": "stdout",
     "output_type": "stream",
     "text": [
      "No data found for MUX (10y)\n",
      "Skipped MUX - insufficient data\n",
      "Processing JNY...\n"
     ]
    },
    {
     "name": "stderr",
     "output_type": "stream",
     "text": [
      "$JNY: possibly delisted; no price data found  (1d 2014-01-26 00:00:00 -> 2025-01-26)\n"
     ]
    },
    {
     "name": "stdout",
     "output_type": "stream",
     "text": [
      "No data found for JNY (10y)\n",
      "Skipped JNY - insufficient data\n",
      "Processing PNRG...\n"
     ]
    },
    {
     "name": "stderr",
     "output_type": "stream",
     "text": [
      "$PNRG: possibly delisted; no price data found  (1d 2014-01-26 00:00:00 -> 2025-01-26)\n"
     ]
    },
    {
     "name": "stdout",
     "output_type": "stream",
     "text": [
      "No data found for PNRG (10y)\n",
      "Skipped PNRG - insufficient data\n",
      "Processing STC...\n"
     ]
    },
    {
     "name": "stderr",
     "output_type": "stream",
     "text": [
      "$STC: possibly delisted; no price data found  (1d 2014-01-26 00:00:00 -> 2025-01-26)\n"
     ]
    },
    {
     "name": "stdout",
     "output_type": "stream",
     "text": [
      "No data found for STC (10y)\n",
      "Skipped STC - insufficient data\n",
      "Processing SCR...\n"
     ]
    },
    {
     "name": "stderr",
     "output_type": "stream",
     "text": [
      "Failed to get ticker 'SCR' reason: Expecting value: line 1 column 1 (char 0)\n",
      "$SCR: possibly delisted; no timezone found\n"
     ]
    },
    {
     "name": "stdout",
     "output_type": "stream",
     "text": [
      "No data found for SCR (10y)\n",
      "Skipped SCR - insufficient data\n",
      "Processing SFLY...\n"
     ]
    },
    {
     "name": "stderr",
     "output_type": "stream",
     "text": [
      "Failed to get ticker 'SFLY' reason: Expecting value: line 1 column 1 (char 0)\n",
      "$SFLY: possibly delisted; no timezone found\n"
     ]
    },
    {
     "name": "stdout",
     "output_type": "stream",
     "text": [
      "No data found for SFLY (10y)\n",
      "Skipped SFLY - insufficient data\n",
      "Processing LBTYA...\n"
     ]
    },
    {
     "name": "stderr",
     "output_type": "stream",
     "text": [
      "$LBTYA: possibly delisted; no price data found  (1d 2014-01-26 00:00:00 -> 2025-01-26)\n"
     ]
    },
    {
     "name": "stdout",
     "output_type": "stream",
     "text": [
      "No data found for LBTYA (10y)\n",
      "Skipped LBTYA - insufficient data\n",
      "Processing III...\n"
     ]
    },
    {
     "name": "stderr",
     "output_type": "stream",
     "text": [
      "$III: possibly delisted; no price data found  (1d 2014-01-26 00:00:00 -> 2025-01-26)\n"
     ]
    },
    {
     "name": "stdout",
     "output_type": "stream",
     "text": [
      "No data found for III (10y)\n",
      "Skipped III - insufficient data\n",
      "Processing TNK...\n"
     ]
    },
    {
     "name": "stderr",
     "output_type": "stream",
     "text": [
      "Failed to get ticker 'TNK' reason: Expecting value: line 1 column 1 (char 0)\n",
      "$TNK: possibly delisted; no timezone found\n"
     ]
    },
    {
     "name": "stdout",
     "output_type": "stream",
     "text": [
      "No data found for TNK (10y)\n",
      "Skipped TNK - insufficient data\n",
      "Processing TSRI...\n"
     ]
    },
    {
     "name": "stderr",
     "output_type": "stream",
     "text": [
      "Failed to get ticker 'TSRI' reason: Expecting value: line 1 column 1 (char 0)\n",
      "$TSRI: possibly delisted; no timezone found\n"
     ]
    },
    {
     "name": "stdout",
     "output_type": "stream",
     "text": [
      "No data found for TSRI (10y)\n",
      "Skipped TSRI - insufficient data\n",
      "Processing C-S...\n"
     ]
    },
    {
     "name": "stderr",
     "output_type": "stream",
     "text": [
      "Failed to get ticker 'C-S' reason: Expecting value: line 1 column 1 (char 0)\n",
      "$C-S: possibly delisted; no timezone found\n"
     ]
    },
    {
     "name": "stdout",
     "output_type": "stream",
     "text": [
      "No data found for C-S (10y)\n",
      "Skipped C-S - insufficient data\n",
      "Processing BJRI...\n"
     ]
    },
    {
     "name": "stderr",
     "output_type": "stream",
     "text": [
      "$BJRI: possibly delisted; no price data found  (1d 2014-01-26 00:00:00 -> 2025-01-26)\n"
     ]
    },
    {
     "name": "stdout",
     "output_type": "stream",
     "text": [
      "No data found for BJRI (10y)\n",
      "Skipped BJRI - insufficient data\n",
      "Processing SURG...\n"
     ]
    },
    {
     "name": "stderr",
     "output_type": "stream",
     "text": [
      "$SURG: possibly delisted; no price data found  (1d 2014-01-26 00:00:00 -> 2025-01-26)\n"
     ]
    },
    {
     "name": "stdout",
     "output_type": "stream",
     "text": [
      "No data found for SURG (10y)\n",
      "Skipped SURG - insufficient data\n",
      "Processing ARE...\n"
     ]
    },
    {
     "name": "stderr",
     "output_type": "stream",
     "text": [
      "$ARE: possibly delisted; no price data found  (1d 2014-01-26 00:00:00 -> 2025-01-26)\n"
     ]
    },
    {
     "name": "stdout",
     "output_type": "stream",
     "text": [
      "No data found for ARE (10y)\n",
      "Skipped ARE - insufficient data\n",
      "Processing BZT...\n"
     ]
    },
    {
     "name": "stderr",
     "output_type": "stream",
     "text": [
      "Failed to get ticker 'BZT' reason: Expecting value: line 1 column 1 (char 0)\n",
      "$BZT: possibly delisted; no timezone found\n"
     ]
    },
    {
     "name": "stdout",
     "output_type": "stream",
     "text": [
      "No data found for BZT (10y)\n",
      "Skipped BZT - insufficient data\n",
      "Processing VIAS...\n"
     ]
    },
    {
     "name": "stderr",
     "output_type": "stream",
     "text": [
      "$VIAS: possibly delisted; no price data found  (1d 2014-01-26 00:00:00 -> 2025-01-26)\n"
     ]
    },
    {
     "name": "stdout",
     "output_type": "stream",
     "text": [
      "No data found for VIAS (10y)\n",
      "Skipped VIAS - insufficient data\n",
      "Processing NKSH...\n"
     ]
    },
    {
     "name": "stderr",
     "output_type": "stream",
     "text": [
      "$NKSH: possibly delisted; no price data found  (1d 2014-01-26 00:00:00 -> 2025-01-26)\n"
     ]
    },
    {
     "name": "stdout",
     "output_type": "stream",
     "text": [
      "No data found for NKSH (10y)\n",
      "Skipped NKSH - insufficient data\n",
      "Processing DDR-K...\n"
     ]
    },
    {
     "name": "stderr",
     "output_type": "stream",
     "text": [
      "Failed to get ticker 'DDR-K' reason: Expecting value: line 1 column 1 (char 0)\n",
      "$DDR-K: possibly delisted; no timezone found\n"
     ]
    },
    {
     "name": "stdout",
     "output_type": "stream",
     "text": [
      "No data found for DDR-K (10y)\n",
      "Skipped DDR-K - insufficient data\n",
      "Processing MQY...\n"
     ]
    },
    {
     "name": "stderr",
     "output_type": "stream",
     "text": [
      "$MQY: possibly delisted; no price data found  (1d 2014-01-26 00:00:00 -> 2025-01-26)\n"
     ]
    },
    {
     "name": "stdout",
     "output_type": "stream",
     "text": [
      "No data found for MQY (10y)\n",
      "Skipped MQY - insufficient data\n",
      "Processing FIG...\n"
     ]
    },
    {
     "name": "stderr",
     "output_type": "stream",
     "text": [
      "$FIG: possibly delisted; no price data found  (1d 2014-01-26 00:00:00 -> 2025-01-26)\n"
     ]
    },
    {
     "name": "stdout",
     "output_type": "stream",
     "text": [
      "No data found for FIG (10y)\n",
      "Skipped FIG - insufficient data\n",
      "Processing TUC...\n"
     ]
    },
    {
     "name": "stderr",
     "output_type": "stream",
     "text": [
      "$TUC: possibly delisted; no price data found  (1d 2014-01-26 00:00:00 -> 2025-01-26)\n"
     ]
    },
    {
     "name": "stdout",
     "output_type": "stream",
     "text": [
      "No data found for TUC (10y)\n",
      "Skipped TUC - insufficient data\n",
      "Processing AGM-A...\n"
     ]
    },
    {
     "name": "stderr",
     "output_type": "stream",
     "text": [
      "$AGM-A: possibly delisted; no price data found  (1d 2014-01-26 00:00:00 -> 2025-01-26)\n"
     ]
    },
    {
     "name": "stdout",
     "output_type": "stream",
     "text": [
      "No data found for AGM-A (10y)\n",
      "Skipped AGM-A - insufficient data\n",
      "Processing NUJ-C...\n"
     ]
    },
    {
     "name": "stderr",
     "output_type": "stream",
     "text": [
      "Failed to get ticker 'NUJ-C' reason: Expecting value: line 1 column 1 (char 0)\n",
      "$NUJ-C: possibly delisted; no timezone found\n"
     ]
    },
    {
     "name": "stdout",
     "output_type": "stream",
     "text": [
      "No data found for NUJ-C (10y)\n",
      "Skipped NUJ-C - insufficient data\n",
      "Processing MSA...\n"
     ]
    },
    {
     "name": "stderr",
     "output_type": "stream",
     "text": [
      "$MSA: possibly delisted; no price data found  (1d 2014-01-26 00:00:00 -> 2025-01-26)\n"
     ]
    },
    {
     "name": "stdout",
     "output_type": "stream",
     "text": [
      "No data found for MSA (10y)\n",
      "Skipped MSA - insufficient data\n",
      "Processing BANC...\n"
     ]
    },
    {
     "name": "stderr",
     "output_type": "stream",
     "text": [
      "$BANC: possibly delisted; no price data found  (1d 2014-01-26 00:00:00 -> 2025-01-26)\n"
     ]
    },
    {
     "name": "stdout",
     "output_type": "stream",
     "text": [
      "No data found for BANC (10y)\n",
      "Skipped BANC - insufficient data\n",
      "Processing AU...\n"
     ]
    },
    {
     "name": "stderr",
     "output_type": "stream",
     "text": [
      "$AU: possibly delisted; no price data found  (1d 2014-01-26 00:00:00 -> 2025-01-26)\n"
     ]
    },
    {
     "name": "stdout",
     "output_type": "stream",
     "text": [
      "No data found for AU (10y)\n",
      "Skipped AU - insufficient data\n",
      "Processing DKT...\n"
     ]
    },
    {
     "name": "stderr",
     "output_type": "stream",
     "text": [
      "Failed to get ticker 'DKT' reason: Expecting value: line 1 column 1 (char 0)\n",
      "$DKT: possibly delisted; no timezone found\n"
     ]
    },
    {
     "name": "stdout",
     "output_type": "stream",
     "text": [
      "No data found for DKT (10y)\n",
      "Skipped DKT - insufficient data\n",
      "Processing NCA...\n"
     ]
    },
    {
     "name": "stderr",
     "output_type": "stream",
     "text": [
      "$NCA: possibly delisted; no price data found  (1d 2014-01-26 00:00:00 -> 2025-01-26)\n"
     ]
    },
    {
     "name": "stdout",
     "output_type": "stream",
     "text": [
      "No data found for NCA (10y)\n",
      "Skipped NCA - insufficient data\n",
      "Processing CYE...\n"
     ]
    },
    {
     "name": "stderr",
     "output_type": "stream",
     "text": [
      "$CYE: possibly delisted; no price data found  (1d 2014-01-26 00:00:00 -> 2025-01-26)\n"
     ]
    },
    {
     "name": "stdout",
     "output_type": "stream",
     "text": [
      "No data found for CYE (10y)\n",
      "Skipped CYE - insufficient data\n",
      "Processing FRM...\n"
     ]
    },
    {
     "name": "stderr",
     "output_type": "stream",
     "text": [
      "$FRM: possibly delisted; no price data found  (1d 2014-01-26 00:00:00 -> 2025-01-26)\n"
     ]
    },
    {
     "name": "stdout",
     "output_type": "stream",
     "text": [
      "No data found for FRM (10y)\n",
      "Skipped FRM - insufficient data\n",
      "Processing SI...\n"
     ]
    },
    {
     "name": "stderr",
     "output_type": "stream",
     "text": [
      "Failed to get ticker 'SI' reason: Expecting value: line 1 column 1 (char 0)\n",
      "$SI: possibly delisted; no timezone found\n"
     ]
    },
    {
     "name": "stdout",
     "output_type": "stream",
     "text": [
      "No data found for SI (10y)\n",
      "Skipped SI - insufficient data\n",
      "Processing FES...\n"
     ]
    },
    {
     "name": "stderr",
     "output_type": "stream",
     "text": [
      "$FES: possibly delisted; no price data found  (1d 2014-01-26 00:00:00 -> 2025-01-26)\n"
     ]
    },
    {
     "name": "stdout",
     "output_type": "stream",
     "text": [
      "No data found for FES (10y)\n",
      "Skipped FES - insufficient data\n",
      "Processing PSB...\n"
     ]
    },
    {
     "name": "stderr",
     "output_type": "stream",
     "text": [
      "Failed to get ticker 'PSB' reason: Expecting value: line 1 column 1 (char 0)\n",
      "$PSB: possibly delisted; no timezone found\n"
     ]
    },
    {
     "name": "stdout",
     "output_type": "stream",
     "text": [
      "No data found for PSB (10y)\n",
      "Skipped PSB - insufficient data\n",
      "Processing SYK...\n"
     ]
    },
    {
     "name": "stderr",
     "output_type": "stream",
     "text": [
      "$SYK: possibly delisted; no price data found  (1d 2014-01-26 00:00:00 -> 2025-01-26)\n"
     ]
    },
    {
     "name": "stdout",
     "output_type": "stream",
     "text": [
      "No data found for SYK (10y)\n",
      "Skipped SYK - insufficient data\n",
      "Processing XKO...\n"
     ]
    },
    {
     "name": "stderr",
     "output_type": "stream",
     "text": [
      "$XKO: possibly delisted; no price data found  (1d 2014-01-26 00:00:00 -> 2025-01-26)\n"
     ]
    },
    {
     "name": "stdout",
     "output_type": "stream",
     "text": [
      "No data found for XKO (10y)\n",
      "Skipped XKO - insufficient data\n",
      "Processing SKY...\n"
     ]
    },
    {
     "name": "stderr",
     "output_type": "stream",
     "text": [
      "$SKY: possibly delisted; no price data found  (1d 2014-01-26 00:00:00 -> 2025-01-26)\n"
     ]
    },
    {
     "name": "stdout",
     "output_type": "stream",
     "text": [
      "No data found for SKY (10y)\n",
      "Skipped SKY - insufficient data\n",
      "Processing PRGS...\n"
     ]
    },
    {
     "name": "stderr",
     "output_type": "stream",
     "text": [
      "$PRGS: possibly delisted; no price data found  (1d 2014-01-26 00:00:00 -> 2025-01-26)\n"
     ]
    },
    {
     "name": "stdout",
     "output_type": "stream",
     "text": [
      "No data found for PRGS (10y)\n",
      "Skipped PRGS - insufficient data\n",
      "Processing BK-C...\n"
     ]
    },
    {
     "name": "stderr",
     "output_type": "stream",
     "text": [
      "Failed to get ticker 'BK-C' reason: Expecting value: line 1 column 1 (char 0)\n",
      "$BK-C: possibly delisted; no timezone found\n"
     ]
    },
    {
     "name": "stdout",
     "output_type": "stream",
     "text": [
      "No data found for BK-C (10y)\n",
      "Skipped BK-C - insufficient data\n",
      "Processing ASPS...\n"
     ]
    },
    {
     "name": "stderr",
     "output_type": "stream",
     "text": [
      "$ASPS: possibly delisted; no price data found  (1d 2014-01-26 00:00:00 -> 2025-01-26)\n"
     ]
    },
    {
     "name": "stdout",
     "output_type": "stream",
     "text": [
      "No data found for ASPS (10y)\n",
      "Skipped ASPS - insufficient data\n",
      "Processing BNCL...\n"
     ]
    },
    {
     "name": "stderr",
     "output_type": "stream",
     "text": [
      "Failed to get ticker 'BNCL' reason: Expecting value: line 1 column 1 (char 0)\n",
      "$BNCL: possibly delisted; no timezone found\n"
     ]
    },
    {
     "name": "stdout",
     "output_type": "stream",
     "text": [
      "No data found for BNCL (10y)\n",
      "Skipped BNCL - insufficient data\n",
      "Processing LTRX...\n"
     ]
    },
    {
     "name": "stderr",
     "output_type": "stream",
     "text": [
      "Failed to get ticker 'LTRX' reason: Expecting value: line 1 column 1 (char 0)\n",
      "$LTRX: possibly delisted; no timezone found\n"
     ]
    },
    {
     "name": "stdout",
     "output_type": "stream",
     "text": [
      "No data found for LTRX (10y)\n",
      "Skipped LTRX - insufficient data\n",
      "Processing MER-P...\n"
     ]
    },
    {
     "name": "stderr",
     "output_type": "stream",
     "text": [
      "Failed to get ticker 'MER-P' reason: Expecting value: line 1 column 1 (char 0)\n",
      "$MER-P: possibly delisted; no timezone found\n"
     ]
    },
    {
     "name": "stdout",
     "output_type": "stream",
     "text": [
      "No data found for MER-P (10y)\n",
      "Skipped MER-P - insufficient data\n",
      "Processing CMN...\n"
     ]
    },
    {
     "name": "stderr",
     "output_type": "stream",
     "text": [
      "$CMN: possibly delisted; no price data found  (1d 2014-01-26 00:00:00 -> 2025-01-26)\n"
     ]
    },
    {
     "name": "stdout",
     "output_type": "stream",
     "text": [
      "No data found for CMN (10y)\n",
      "Skipped CMN - insufficient data\n",
      "Processing OCC...\n"
     ]
    },
    {
     "name": "stderr",
     "output_type": "stream",
     "text": [
      "$OCC: possibly delisted; no price data found  (1d 2014-01-26 00:00:00 -> 2025-01-26)\n"
     ]
    },
    {
     "name": "stdout",
     "output_type": "stream",
     "text": [
      "No data found for OCC (10y)\n",
      "Skipped OCC - insufficient data\n",
      "Processing KWN...\n"
     ]
    },
    {
     "name": "stderr",
     "output_type": "stream",
     "text": [
      "Failed to get ticker 'KWN' reason: Expecting value: line 1 column 1 (char 0)\n",
      "$KWN: possibly delisted; no timezone found\n"
     ]
    },
    {
     "name": "stdout",
     "output_type": "stream",
     "text": [
      "No data found for KWN (10y)\n",
      "Skipped KWN - insufficient data\n",
      "Processing MSTR...\n"
     ]
    },
    {
     "name": "stderr",
     "output_type": "stream",
     "text": [
      "$MSTR: possibly delisted; no price data found  (1d 2014-01-26 00:00:00 -> 2025-01-26)\n"
     ]
    },
    {
     "name": "stdout",
     "output_type": "stream",
     "text": [
      "No data found for MSTR (10y)\n",
      "Skipped MSTR - insufficient data\n",
      "Processing ING...\n"
     ]
    },
    {
     "name": "stderr",
     "output_type": "stream",
     "text": [
      "$ING: possibly delisted; no price data found  (1d 2014-01-26 00:00:00 -> 2025-01-26)\n"
     ]
    },
    {
     "name": "stdout",
     "output_type": "stream",
     "text": [
      "No data found for ING (10y)\n",
      "Skipped ING - insufficient data\n",
      "Processing BCC...\n"
     ]
    },
    {
     "name": "stderr",
     "output_type": "stream",
     "text": [
      "$BCC: possibly delisted; no price data found  (1d 2014-01-26 00:00:00 -> 2025-01-26)\n"
     ]
    },
    {
     "name": "stdout",
     "output_type": "stream",
     "text": [
      "No data found for BCC (10y)\n",
      "Skipped BCC - insufficient data\n",
      "Processing MCBC...\n"
     ]
    },
    {
     "name": "stderr",
     "output_type": "stream",
     "text": [
      "Failed to get ticker 'MCBC' reason: Expecting value: line 1 column 1 (char 0)\n",
      "$MCBC: possibly delisted; no timezone found\n"
     ]
    },
    {
     "name": "stdout",
     "output_type": "stream",
     "text": [
      "No data found for MCBC (10y)\n",
      "Skipped MCBC - insufficient data\n",
      "Processing FDI...\n"
     ]
    },
    {
     "name": "stderr",
     "output_type": "stream",
     "text": [
      "$FDI: possibly delisted; no price data found  (1d 2014-01-26 00:00:00 -> 2025-01-26)\n"
     ]
    },
    {
     "name": "stdout",
     "output_type": "stream",
     "text": [
      "No data found for FDI (10y)\n",
      "Skipped FDI - insufficient data\n",
      "Processing CTB...\n"
     ]
    },
    {
     "name": "stderr",
     "output_type": "stream",
     "text": [
      "Failed to get ticker 'CTB' reason: Expecting value: line 1 column 1 (char 0)\n",
      "$CTB: possibly delisted; no timezone found\n"
     ]
    },
    {
     "name": "stdout",
     "output_type": "stream",
     "text": [
      "No data found for CTB (10y)\n",
      "Skipped CTB - insufficient data\n",
      "Processing DTT...\n"
     ]
    },
    {
     "name": "stderr",
     "output_type": "stream",
     "text": [
      "$DTT: possibly delisted; no price data found  (1d 2014-01-26 00:00:00 -> 2025-01-26)\n"
     ]
    },
    {
     "name": "stdout",
     "output_type": "stream",
     "text": [
      "No data found for DTT (10y)\n",
      "Skipped DTT - insufficient data\n",
      "Processing HGH...\n"
     ]
    },
    {
     "name": "stderr",
     "output_type": "stream",
     "text": [
      "Failed to get ticker 'HGH' reason: Expecting value: line 1 column 1 (char 0)\n",
      "$HGH: possibly delisted; no timezone found\n"
     ]
    },
    {
     "name": "stdout",
     "output_type": "stream",
     "text": [
      "No data found for HGH (10y)\n",
      "Skipped HGH - insufficient data\n",
      "Processing AIW...\n"
     ]
    },
    {
     "name": "stderr",
     "output_type": "stream",
     "text": [
      "Failed to get ticker 'AIW' reason: Expecting value: line 1 column 1 (char 0)\n",
      "$AIW: possibly delisted; no timezone found\n"
     ]
    },
    {
     "name": "stdout",
     "output_type": "stream",
     "text": [
      "No data found for AIW (10y)\n",
      "Skipped AIW - insufficient data\n",
      "Processing CYOU...\n"
     ]
    },
    {
     "name": "stderr",
     "output_type": "stream",
     "text": [
      "Failed to get ticker 'CYOU' reason: Expecting value: line 1 column 1 (char 0)\n",
      "$CYOU: possibly delisted; no timezone found\n"
     ]
    },
    {
     "name": "stdout",
     "output_type": "stream",
     "text": [
      "No data found for CYOU (10y)\n",
      "Skipped CYOU - insufficient data\n",
      "Processing NFSB...\n"
     ]
    },
    {
     "name": "stderr",
     "output_type": "stream",
     "text": [
      "$NFSB: possibly delisted; no price data found  (1d 2014-01-26 00:00:00 -> 2025-01-26)\n"
     ]
    },
    {
     "name": "stdout",
     "output_type": "stream",
     "text": [
      "No data found for NFSB (10y)\n",
      "Skipped NFSB - insufficient data\n",
      "Processing PFS...\n"
     ]
    },
    {
     "name": "stderr",
     "output_type": "stream",
     "text": [
      "$PFS: possibly delisted; no price data found  (1d 2014-01-26 00:00:00 -> 2025-01-26)\n"
     ]
    },
    {
     "name": "stdout",
     "output_type": "stream",
     "text": [
      "No data found for PFS (10y)\n",
      "Skipped PFS - insufficient data\n",
      "Processing LMAT...\n"
     ]
    },
    {
     "name": "stderr",
     "output_type": "stream",
     "text": [
      "$LMAT: possibly delisted; no price data found  (1d 2014-01-26 00:00:00 -> 2025-01-26)\n"
     ]
    },
    {
     "name": "stdout",
     "output_type": "stream",
     "text": [
      "No data found for LMAT (10y)\n",
      "Skipped LMAT - insufficient data\n",
      "Processing FSYS...\n"
     ]
    },
    {
     "name": "stderr",
     "output_type": "stream",
     "text": [
      "$FSYS: possibly delisted; no price data found  (1d 2014-01-26 00:00:00 -> 2025-01-26)\n"
     ]
    },
    {
     "name": "stdout",
     "output_type": "stream",
     "text": [
      "No data found for FSYS (10y)\n",
      "Skipped FSYS - insufficient data\n",
      "Processing CVE...\n"
     ]
    },
    {
     "name": "stderr",
     "output_type": "stream",
     "text": [
      "Failed to get ticker 'CVE' reason: Expecting value: line 1 column 1 (char 0)\n",
      "$CVE: possibly delisted; no timezone found\n"
     ]
    },
    {
     "name": "stdout",
     "output_type": "stream",
     "text": [
      "No data found for CVE (10y)\n",
      "Skipped CVE - insufficient data\n",
      "Processing ANTP...\n"
     ]
    },
    {
     "name": "stderr",
     "output_type": "stream",
     "text": [
      "$ANTP: possibly delisted; no price data found  (1d 2014-01-26 00:00:00 -> 2025-01-26)\n"
     ]
    },
    {
     "name": "stdout",
     "output_type": "stream",
     "text": [
      "No data found for ANTP (10y)\n",
      "Skipped ANTP - insufficient data\n",
      "Processing SPAN...\n"
     ]
    },
    {
     "name": "stderr",
     "output_type": "stream",
     "text": [
      "Failed to get ticker 'SPAN' reason: Expecting value: line 1 column 1 (char 0)\n",
      "$SPAN: possibly delisted; no timezone found\n"
     ]
    },
    {
     "name": "stdout",
     "output_type": "stream",
     "text": [
      "No data found for SPAN (10y)\n",
      "Skipped SPAN - insufficient data\n",
      "Processing NSIT...\n"
     ]
    },
    {
     "name": "stderr",
     "output_type": "stream",
     "text": [
      "Failed to get ticker 'NSIT' reason: Expecting value: line 1 column 1 (char 0)\n",
      "$NSIT: possibly delisted; no timezone found\n"
     ]
    },
    {
     "name": "stdout",
     "output_type": "stream",
     "text": [
      "No data found for NSIT (10y)\n",
      "Skipped NSIT - insufficient data\n",
      "Processing HMY...\n"
     ]
    },
    {
     "name": "stderr",
     "output_type": "stream",
     "text": [
      "$HMY: possibly delisted; no price data found  (1d 2014-01-26 00:00:00 -> 2025-01-26)\n"
     ]
    },
    {
     "name": "stdout",
     "output_type": "stream",
     "text": [
      "No data found for HMY (10y)\n",
      "Skipped HMY - insufficient data\n",
      "Processing TSO...\n"
     ]
    },
    {
     "name": "stderr",
     "output_type": "stream",
     "text": [
      "$TSO: possibly delisted; no price data found  (1d 2014-01-26 00:00:00 -> 2025-01-26)\n"
     ]
    },
    {
     "name": "stdout",
     "output_type": "stream",
     "text": [
      "No data found for TSO (10y)\n",
      "Skipped TSO - insufficient data\n",
      "Processing PBI...\n"
     ]
    },
    {
     "name": "stderr",
     "output_type": "stream",
     "text": [
      "$PBI: possibly delisted; no price data found  (1d 2014-01-26 00:00:00 -> 2025-01-26)\n"
     ]
    },
    {
     "name": "stdout",
     "output_type": "stream",
     "text": [
      "No data found for PBI (10y)\n",
      "Skipped PBI - insufficient data\n",
      "Processing AVV...\n"
     ]
    },
    {
     "name": "stderr",
     "output_type": "stream",
     "text": [
      "Failed to get ticker 'AVV' reason: Expecting value: line 1 column 1 (char 0)\n",
      "$AVV: possibly delisted; no timezone found\n"
     ]
    },
    {
     "name": "stdout",
     "output_type": "stream",
     "text": [
      "No data found for AVV (10y)\n",
      "Skipped AVV - insufficient data\n",
      "Processing NPV-A...\n"
     ]
    },
    {
     "name": "stderr",
     "output_type": "stream",
     "text": [
      "Failed to get ticker 'NPV-A' reason: Expecting value: line 1 column 1 (char 0)\n",
      "$NPV-A: possibly delisted; no timezone found\n"
     ]
    },
    {
     "name": "stdout",
     "output_type": "stream",
     "text": [
      "No data found for NPV-A (10y)\n",
      "Skipped NPV-A - insufficient data\n",
      "Processing JAZZ...\n"
     ]
    },
    {
     "name": "stderr",
     "output_type": "stream",
     "text": [
      "$JAZZ: possibly delisted; no price data found  (1d 2014-01-26 00:00:00 -> 2025-01-26)\n"
     ]
    },
    {
     "name": "stdout",
     "output_type": "stream",
     "text": [
      "No data found for JAZZ (10y)\n",
      "Skipped JAZZ - insufficient data\n",
      "Processing TUMI...\n"
     ]
    },
    {
     "name": "stderr",
     "output_type": "stream",
     "text": [
      "Failed to get ticker 'TUMI' reason: Expecting value: line 1 column 1 (char 0)\n",
      "$TUMI: possibly delisted; no timezone found\n"
     ]
    },
    {
     "name": "stdout",
     "output_type": "stream",
     "text": [
      "No data found for TUMI (10y)\n",
      "Skipped TUMI - insufficient data\n",
      "Processing DOX...\n"
     ]
    },
    {
     "name": "stderr",
     "output_type": "stream",
     "text": [
      "$DOX: possibly delisted; no price data found  (1d 2014-01-26 00:00:00 -> 2025-01-26)\n"
     ]
    },
    {
     "name": "stdout",
     "output_type": "stream",
     "text": [
      "No data found for DOX (10y)\n",
      "Skipped DOX - insufficient data\n",
      "Processing CRAI...\n"
     ]
    },
    {
     "name": "stderr",
     "output_type": "stream",
     "text": [
      "$CRAI: possibly delisted; no price data found  (1d 2014-01-26 00:00:00 -> 2025-01-26)\n"
     ]
    },
    {
     "name": "stdout",
     "output_type": "stream",
     "text": [
      "No data found for CRAI (10y)\n",
      "Skipped CRAI - insufficient data\n",
      "Processing KONG...\n"
     ]
    },
    {
     "name": "stderr",
     "output_type": "stream",
     "text": [
      "$KONG: possibly delisted; no price data found  (1d 2014-01-26 00:00:00 -> 2025-01-26)\n"
     ]
    },
    {
     "name": "stdout",
     "output_type": "stream",
     "text": [
      "No data found for KONG (10y)\n",
      "Skipped KONG - insufficient data\n",
      "Processing AAXJ...\n"
     ]
    },
    {
     "name": "stderr",
     "output_type": "stream",
     "text": [
      "$AAXJ: possibly delisted; no price data found  (1d 2014-01-26 00:00:00 -> 2025-01-26)\n"
     ]
    },
    {
     "name": "stdout",
     "output_type": "stream",
     "text": [
      "No data found for AAXJ (10y)\n",
      "Skipped AAXJ - insufficient data\n",
      "Processing AMED...\n"
     ]
    },
    {
     "name": "stderr",
     "output_type": "stream",
     "text": [
      "$AMED: possibly delisted; no price data found  (1d 2014-01-26 00:00:00 -> 2025-01-26)\n"
     ]
    },
    {
     "name": "stdout",
     "output_type": "stream",
     "text": [
      "No data found for AMED (10y)\n",
      "Skipped AMED - insufficient data\n",
      "Processing XLS...\n"
     ]
    },
    {
     "name": "stderr",
     "output_type": "stream",
     "text": [
      "$XLS: possibly delisted; no price data found  (1d 2014-01-26 00:00:00 -> 2025-01-26)\n"
     ]
    },
    {
     "name": "stdout",
     "output_type": "stream",
     "text": [
      "No data found for XLS (10y)\n",
      "Skipped XLS - insufficient data\n",
      "Processing RVSB...\n"
     ]
    },
    {
     "name": "stderr",
     "output_type": "stream",
     "text": [
      "$RVSB: possibly delisted; no price data found  (1d 2014-01-26 00:00:00 -> 2025-01-26)\n"
     ]
    },
    {
     "name": "stdout",
     "output_type": "stream",
     "text": [
      "No data found for RVSB (10y)\n",
      "Skipped RVSB - insufficient data\n",
      "Processing BLRX...\n"
     ]
    },
    {
     "name": "stderr",
     "output_type": "stream",
     "text": [
      "$BLRX: possibly delisted; no price data found  (1d 2014-01-26 00:00:00 -> 2025-01-26)\n"
     ]
    },
    {
     "name": "stdout",
     "output_type": "stream",
     "text": [
      "No data found for BLRX (10y)\n",
      "Skipped BLRX - insufficient data\n",
      "Processing MVO...\n"
     ]
    },
    {
     "name": "stderr",
     "output_type": "stream",
     "text": [
      "$MVO: possibly delisted; no price data found  (1d 2014-01-26 00:00:00 -> 2025-01-26)\n"
     ]
    },
    {
     "name": "stdout",
     "output_type": "stream",
     "text": [
      "No data found for MVO (10y)\n",
      "Skipped MVO - insufficient data\n",
      "Processing OKSB...\n"
     ]
    },
    {
     "name": "stderr",
     "output_type": "stream",
     "text": [
      "$OKSB: possibly delisted; no price data found  (1d 2014-01-26 00:00:00 -> 2025-01-26)\n"
     ]
    },
    {
     "name": "stdout",
     "output_type": "stream",
     "text": [
      "No data found for OKSB (10y)\n",
      "Skipped OKSB - insufficient data\n",
      "Processing PRE-F...\n"
     ]
    },
    {
     "name": "stderr",
     "output_type": "stream",
     "text": [
      "Failed to get ticker 'PRE-F' reason: Expecting value: line 1 column 1 (char 0)\n",
      "$PRE-F: possibly delisted; no timezone found\n"
     ]
    },
    {
     "name": "stdout",
     "output_type": "stream",
     "text": [
      "No data found for PRE-F (10y)\n",
      "Skipped PRE-F - insufficient data\n",
      "Processing GNMK...\n"
     ]
    },
    {
     "name": "stderr",
     "output_type": "stream",
     "text": [
      "Failed to get ticker 'GNMK' reason: Expecting value: line 1 column 1 (char 0)\n",
      "$GNMK: possibly delisted; no timezone found\n"
     ]
    },
    {
     "name": "stdout",
     "output_type": "stream",
     "text": [
      "No data found for GNMK (10y)\n",
      "Skipped GNMK - insufficient data\n",
      "Processing SODA...\n"
     ]
    },
    {
     "name": "stderr",
     "output_type": "stream",
     "text": [
      "$SODA: possibly delisted; no price data found  (1d 2014-01-26 00:00:00 -> 2025-01-26)\n"
     ]
    },
    {
     "name": "stdout",
     "output_type": "stream",
     "text": [
      "No data found for SODA (10y)\n",
      "Skipped SODA - insufficient data\n",
      "Processing TGX...\n"
     ]
    },
    {
     "name": "stderr",
     "output_type": "stream",
     "text": [
      "$TGX: possibly delisted; no price data found  (1d 2014-01-26 00:00:00 -> 2025-01-26)\n"
     ]
    },
    {
     "name": "stdout",
     "output_type": "stream",
     "text": [
      "No data found for TGX (10y)\n",
      "Skipped TGX - insufficient data\n",
      "Processing PVTD...\n"
     ]
    },
    {
     "name": "stderr",
     "output_type": "stream",
     "text": [
      "$PVTD: possibly delisted; no price data found  (1d 2014-01-26 00:00:00 -> 2025-01-26)\n"
     ]
    },
    {
     "name": "stdout",
     "output_type": "stream",
     "text": [
      "No data found for PVTD (10y)\n",
      "Skipped PVTD - insufficient data\n",
      "Processing MWA...\n"
     ]
    },
    {
     "name": "stderr",
     "output_type": "stream",
     "text": [
      "$MWA: possibly delisted; no price data found  (1d 2014-01-26 00:00:00 -> 2025-01-26)\n"
     ]
    },
    {
     "name": "stdout",
     "output_type": "stream",
     "text": [
      "No data found for MWA (10y)\n",
      "Skipped MWA - insufficient data\n",
      "Processing AIV...\n"
     ]
    },
    {
     "name": "stderr",
     "output_type": "stream",
     "text": [
      "$AIV: possibly delisted; no price data found  (1d 2014-01-26 00:00:00 -> 2025-01-26)\n"
     ]
    },
    {
     "name": "stdout",
     "output_type": "stream",
     "text": [
      "No data found for AIV (10y)\n",
      "Skipped AIV - insufficient data\n",
      "Processing DLHC...\n"
     ]
    },
    {
     "name": "stderr",
     "output_type": "stream",
     "text": [
      "$DLHC: possibly delisted; no price data found  (1d 2014-01-26 00:00:00 -> 2025-01-26)\n"
     ]
    },
    {
     "name": "stdout",
     "output_type": "stream",
     "text": [
      "No data found for DLHC (10y)\n",
      "Skipped DLHC - insufficient data\n",
      "Processing CRH...\n"
     ]
    },
    {
     "name": "stderr",
     "output_type": "stream",
     "text": [
      "$CRH: possibly delisted; no price data found  (1d 2014-01-26 00:00:00 -> 2025-01-26)\n"
     ]
    },
    {
     "name": "stdout",
     "output_type": "stream",
     "text": [
      "No data found for CRH (10y)\n",
      "Skipped CRH - insufficient data\n",
      "Processing HCJ...\n"
     ]
    },
    {
     "name": "stderr",
     "output_type": "stream",
     "text": [
      "Failed to get ticker 'HCJ' reason: Expecting value: line 1 column 1 (char 0)\n",
      "$HCJ: possibly delisted; no timezone found\n"
     ]
    },
    {
     "name": "stdout",
     "output_type": "stream",
     "text": [
      "No data found for HCJ (10y)\n",
      "Skipped HCJ - insufficient data\n",
      "Processing MGU...\n"
     ]
    },
    {
     "name": "stderr",
     "output_type": "stream",
     "text": [
      "Failed to get ticker 'MGU' reason: Expecting value: line 1 column 1 (char 0)\n",
      "$MGU: possibly delisted; no timezone found\n"
     ]
    },
    {
     "name": "stdout",
     "output_type": "stream",
     "text": [
      "No data found for MGU (10y)\n",
      "Skipped MGU - insufficient data\n",
      "Processing SRC...\n"
     ]
    },
    {
     "name": "stderr",
     "output_type": "stream",
     "text": [
      "Failed to get ticker 'SRC' reason: Expecting value: line 1 column 1 (char 0)\n",
      "$SRC: possibly delisted; no timezone found\n"
     ]
    },
    {
     "name": "stdout",
     "output_type": "stream",
     "text": [
      "No data found for SRC (10y)\n",
      "Skipped SRC - insufficient data\n",
      "Processing SBRAP...\n"
     ]
    },
    {
     "name": "stderr",
     "output_type": "stream",
     "text": [
      "Failed to get ticker 'SBRAP' reason: Expecting value: line 1 column 1 (char 0)\n",
      "$SBRAP: possibly delisted; no timezone found\n"
     ]
    },
    {
     "name": "stdout",
     "output_type": "stream",
     "text": [
      "No data found for SBRAP (10y)\n",
      "Skipped SBRAP - insufficient data\n",
      "Processing FIVE...\n"
     ]
    },
    {
     "name": "stderr",
     "output_type": "stream",
     "text": [
      "$FIVE: possibly delisted; no price data found  (1d 2014-01-26 00:00:00 -> 2025-01-26)\n"
     ]
    },
    {
     "name": "stdout",
     "output_type": "stream",
     "text": [
      "No data found for FIVE (10y)\n",
      "Skipped FIVE - insufficient data\n",
      "Processing TEVA...\n"
     ]
    },
    {
     "name": "stderr",
     "output_type": "stream",
     "text": [
      "$TEVA: possibly delisted; no price data found  (1d 2014-01-26 00:00:00 -> 2025-01-26)\n"
     ]
    },
    {
     "name": "stdout",
     "output_type": "stream",
     "text": [
      "No data found for TEVA (10y)\n",
      "Skipped TEVA - insufficient data\n",
      "Processing ACGL...\n"
     ]
    },
    {
     "name": "stderr",
     "output_type": "stream",
     "text": [
      "$ACGL: possibly delisted; no price data found  (1d 2014-01-26 00:00:00 -> 2025-01-26)\n"
     ]
    },
    {
     "name": "stdout",
     "output_type": "stream",
     "text": [
      "No data found for ACGL (10y)\n",
      "Skipped ACGL - insufficient data\n",
      "Processing BBOX...\n"
     ]
    },
    {
     "name": "stderr",
     "output_type": "stream",
     "text": [
      "$BBOX: possibly delisted; no price data found  (1d 2014-01-26 00:00:00 -> 2025-01-26)\n"
     ]
    },
    {
     "name": "stdout",
     "output_type": "stream",
     "text": [
      "No data found for BBOX (10y)\n",
      "Skipped BBOX - insufficient data\n",
      "Processing EMCI...\n"
     ]
    },
    {
     "name": "stderr",
     "output_type": "stream",
     "text": [
      "Failed to get ticker 'EMCI' reason: Expecting value: line 1 column 1 (char 0)\n",
      "$EMCI: possibly delisted; no timezone found\n"
     ]
    },
    {
     "name": "stdout",
     "output_type": "stream",
     "text": [
      "No data found for EMCI (10y)\n",
      "Skipped EMCI - insufficient data\n",
      "Processing NSC...\n"
     ]
    },
    {
     "name": "stderr",
     "output_type": "stream",
     "text": [
      "$NSC: possibly delisted; no price data found  (1d 2014-01-26 00:00:00 -> 2025-01-26)\n"
     ]
    },
    {
     "name": "stdout",
     "output_type": "stream",
     "text": [
      "No data found for NSC (10y)\n",
      "Skipped NSC - insufficient data\n",
      "Processing GEL...\n"
     ]
    },
    {
     "name": "stderr",
     "output_type": "stream",
     "text": [
      "$GEL: possibly delisted; no price data found  (1d 2014-01-26 00:00:00 -> 2025-01-26)\n"
     ]
    },
    {
     "name": "stdout",
     "output_type": "stream",
     "text": [
      "No data found for GEL (10y)\n",
      "Skipped GEL - insufficient data\n",
      "Processing USM...\n"
     ]
    },
    {
     "name": "stderr",
     "output_type": "stream",
     "text": [
      "$USM: possibly delisted; no price data found  (1d 2014-01-26 00:00:00 -> 2025-01-26)\n"
     ]
    },
    {
     "name": "stdout",
     "output_type": "stream",
     "text": [
      "No data found for USM (10y)\n",
      "Skipped USM - insufficient data\n",
      "Processing BSX...\n"
     ]
    },
    {
     "name": "stderr",
     "output_type": "stream",
     "text": [
      "$BSX: possibly delisted; no price data found  (1d 2014-01-26 00:00:00 -> 2025-01-26)\n"
     ]
    },
    {
     "name": "stdout",
     "output_type": "stream",
     "text": [
      "No data found for BSX (10y)\n",
      "Skipped BSX - insufficient data\n",
      "Processing BMI...\n"
     ]
    },
    {
     "name": "stderr",
     "output_type": "stream",
     "text": [
      "$BMI: possibly delisted; no price data found  (1d 2014-01-26 00:00:00 -> 2025-01-26)\n"
     ]
    },
    {
     "name": "stdout",
     "output_type": "stream",
     "text": [
      "No data found for BMI (10y)\n",
      "Skipped BMI - insufficient data\n",
      "Processing JBI...\n"
     ]
    },
    {
     "name": "stderr",
     "output_type": "stream",
     "text": [
      "$JBI: possibly delisted; no price data found  (1d 2014-01-26 00:00:00 -> 2025-01-26)\n"
     ]
    },
    {
     "name": "stdout",
     "output_type": "stream",
     "text": [
      "No data found for JBI (10y)\n",
      "Skipped JBI - insufficient data\n",
      "Processing INSY...\n"
     ]
    },
    {
     "name": "stderr",
     "output_type": "stream",
     "text": [
      "Failed to get ticker 'INSY' reason: Expecting value: line 1 column 1 (char 0)\n",
      "$INSY: possibly delisted; no timezone found\n"
     ]
    },
    {
     "name": "stdout",
     "output_type": "stream",
     "text": [
      "No data found for INSY (10y)\n",
      "Skipped INSY - insufficient data\n",
      "Processing OFIX...\n"
     ]
    },
    {
     "name": "stderr",
     "output_type": "stream",
     "text": [
      "Failed to get ticker 'OFIX' reason: Expecting value: line 1 column 1 (char 0)\n",
      "$OFIX: possibly delisted; no timezone found\n"
     ]
    },
    {
     "name": "stdout",
     "output_type": "stream",
     "text": [
      "No data found for OFIX (10y)\n",
      "Skipped OFIX - insufficient data\n",
      "Processing COBR...\n"
     ]
    },
    {
     "name": "stderr",
     "output_type": "stream",
     "text": [
      "$COBR: possibly delisted; no price data found  (1d 2014-01-26 00:00:00 -> 2025-01-26)\n"
     ]
    },
    {
     "name": "stdout",
     "output_type": "stream",
     "text": [
      "No data found for COBR (10y)\n",
      "Skipped COBR - insufficient data\n",
      "Processing DX...\n"
     ]
    },
    {
     "name": "stderr",
     "output_type": "stream",
     "text": [
      "$DX: possibly delisted; no price data found  (1d 2014-01-26 00:00:00 -> 2025-01-26)\n"
     ]
    },
    {
     "name": "stdout",
     "output_type": "stream",
     "text": [
      "No data found for DX (10y)\n",
      "Skipped DX - insufficient data\n",
      "Processing JNPR...\n"
     ]
    },
    {
     "name": "stderr",
     "output_type": "stream",
     "text": [
      "$JNPR: possibly delisted; no price data found  (1d 2014-01-26 00:00:00 -> 2025-01-26)\n"
     ]
    },
    {
     "name": "stdout",
     "output_type": "stream",
     "text": [
      "No data found for JNPR (10y)\n",
      "Skipped JNPR - insufficient data\n",
      "Processing JHS...\n"
     ]
    },
    {
     "name": "stderr",
     "output_type": "stream",
     "text": [
      "Failed to get ticker 'JHS' reason: Expecting value: line 1 column 1 (char 0)\n",
      "$JHS: possibly delisted; no timezone found\n"
     ]
    },
    {
     "name": "stdout",
     "output_type": "stream",
     "text": [
      "No data found for JHS (10y)\n",
      "Skipped JHS - insufficient data\n",
      "Processing PSIX...\n"
     ]
    },
    {
     "name": "stderr",
     "output_type": "stream",
     "text": [
      "$PSIX: possibly delisted; no price data found  (1d 2014-01-26 00:00:00 -> 2025-01-26)\n"
     ]
    },
    {
     "name": "stdout",
     "output_type": "stream",
     "text": [
      "No data found for PSIX (10y)\n",
      "Skipped PSIX - insufficient data\n",
      "Processing PBNY...\n"
     ]
    },
    {
     "name": "stderr",
     "output_type": "stream",
     "text": [
      "$PBNY: possibly delisted; no price data found  (1d 2014-01-26 00:00:00 -> 2025-01-26)\n"
     ]
    },
    {
     "name": "stdout",
     "output_type": "stream",
     "text": [
      "No data found for PBNY (10y)\n",
      "Skipped PBNY - insufficient data\n",
      "Processing NRF-B...\n"
     ]
    },
    {
     "name": "stderr",
     "output_type": "stream",
     "text": [
      "Failed to get ticker 'NRF-B' reason: Expecting value: line 1 column 1 (char 0)\n",
      "$NRF-B: possibly delisted; no timezone found\n"
     ]
    },
    {
     "name": "stdout",
     "output_type": "stream",
     "text": [
      "No data found for NRF-B (10y)\n",
      "Skipped NRF-B - insufficient data\n",
      "Processing TYL...\n"
     ]
    },
    {
     "name": "stderr",
     "output_type": "stream",
     "text": [
      "$TYL: possibly delisted; no price data found  (1d 2014-01-26 00:00:00 -> 2025-01-26)\n"
     ]
    },
    {
     "name": "stdout",
     "output_type": "stream",
     "text": [
      "No data found for TYL (10y)\n",
      "Skipped TYL - insufficient data\n",
      "Processing ELN...\n"
     ]
    },
    {
     "name": "stderr",
     "output_type": "stream",
     "text": [
      "$ELN: possibly delisted; no price data found  (1d 2014-01-26 00:00:00 -> 2025-01-26)\n"
     ]
    },
    {
     "name": "stdout",
     "output_type": "stream",
     "text": [
      "No data found for ELN (10y)\n",
      "Skipped ELN - insufficient data\n",
      "Processing LOPE...\n"
     ]
    },
    {
     "name": "stderr",
     "output_type": "stream",
     "text": [
      "Failed to get ticker 'LOPE' reason: Expecting value: line 1 column 1 (char 0)\n",
      "$LOPE: possibly delisted; no timezone found\n"
     ]
    },
    {
     "name": "stdout",
     "output_type": "stream",
     "text": [
      "No data found for LOPE (10y)\n",
      "Skipped LOPE - insufficient data\n",
      "Processing ICPT...\n"
     ]
    },
    {
     "name": "stderr",
     "output_type": "stream",
     "text": [
      "Failed to get ticker 'ICPT' reason: Expecting value: line 1 column 1 (char 0)\n",
      "$ICPT: possibly delisted; no timezone found\n"
     ]
    },
    {
     "name": "stdout",
     "output_type": "stream",
     "text": [
      "No data found for ICPT (10y)\n",
      "Skipped ICPT - insufficient data\n",
      "Processing PKG...\n"
     ]
    },
    {
     "name": "stderr",
     "output_type": "stream",
     "text": [
      "$PKG: possibly delisted; no price data found  (1d 2014-01-26 00:00:00 -> 2025-01-26)\n"
     ]
    },
    {
     "name": "stdout",
     "output_type": "stream",
     "text": [
      "No data found for PKG (10y)\n",
      "Skipped PKG - insufficient data\n",
      "Processing ZOOM...\n"
     ]
    },
    {
     "name": "stderr",
     "output_type": "stream",
     "text": [
      "Failed to get ticker 'ZOOM' reason: Expecting value: line 1 column 1 (char 0)\n",
      "$ZOOM: possibly delisted; no timezone found\n"
     ]
    },
    {
     "name": "stdout",
     "output_type": "stream",
     "text": [
      "No data found for ZOOM (10y)\n",
      "Skipped ZOOM - insufficient data\n",
      "Processing CVCY...\n"
     ]
    },
    {
     "name": "stderr",
     "output_type": "stream",
     "text": [
      "Failed to get ticker 'CVCY' reason: Expecting value: line 1 column 1 (char 0)\n",
      "$CVCY: possibly delisted; no timezone found\n"
     ]
    },
    {
     "name": "stdout",
     "output_type": "stream",
     "text": [
      "No data found for CVCY (10y)\n",
      "Skipped CVCY - insufficient data\n",
      "Processing SLG...\n"
     ]
    },
    {
     "name": "stderr",
     "output_type": "stream",
     "text": [
      "$SLG: possibly delisted; no price data found  (1d 2014-01-26 00:00:00 -> 2025-01-26)\n"
     ]
    },
    {
     "name": "stdout",
     "output_type": "stream",
     "text": [
      "No data found for SLG (10y)\n",
      "Skipped SLG - insufficient data\n",
      "Processing MSCC...\n"
     ]
    },
    {
     "name": "stderr",
     "output_type": "stream",
     "text": [
      "$MSCC: possibly delisted; no price data found  (1d 2014-01-26 00:00:00 -> 2025-01-26)\n"
     ]
    },
    {
     "name": "stdout",
     "output_type": "stream",
     "text": [
      "No data found for MSCC (10y)\n",
      "Skipped MSCC - insufficient data\n",
      "Processing MAYS...\n"
     ]
    },
    {
     "name": "stderr",
     "output_type": "stream",
     "text": [
      "$MAYS: possibly delisted; no price data found  (1d 2014-01-26 00:00:00 -> 2025-01-26)\n"
     ]
    },
    {
     "name": "stdout",
     "output_type": "stream",
     "text": [
      "No data found for MAYS (10y)\n",
      "Skipped MAYS - insufficient data\n",
      "Processing GDP...\n"
     ]
    },
    {
     "name": "stderr",
     "output_type": "stream",
     "text": [
      "Failed to get ticker 'GDP' reason: Expecting value: line 1 column 1 (char 0)\n",
      "$GDP: possibly delisted; no timezone found\n"
     ]
    },
    {
     "name": "stdout",
     "output_type": "stream",
     "text": [
      "No data found for GDP (10y)\n",
      "Skipped GDP - insufficient data\n",
      "Processing INFA...\n"
     ]
    },
    {
     "name": "stderr",
     "output_type": "stream",
     "text": [
      "Failed to get ticker 'INFA' reason: Expecting value: line 1 column 1 (char 0)\n",
      "$INFA: possibly delisted; no timezone found\n"
     ]
    },
    {
     "name": "stdout",
     "output_type": "stream",
     "text": [
      "No data found for INFA (10y)\n",
      "Skipped INFA - insufficient data\n",
      "Processing FLDM...\n"
     ]
    },
    {
     "name": "stderr",
     "output_type": "stream",
     "text": [
      "Failed to get ticker 'FLDM' reason: Expecting value: line 1 column 1 (char 0)\n",
      "$FLDM: possibly delisted; no timezone found\n"
     ]
    },
    {
     "name": "stdout",
     "output_type": "stream",
     "text": [
      "No data found for FLDM (10y)\n",
      "Skipped FLDM - insufficient data\n",
      "Processing LUK...\n"
     ]
    },
    {
     "name": "stderr",
     "output_type": "stream",
     "text": [
      "$LUK: possibly delisted; no price data found  (1d 2014-01-26 00:00:00 -> 2025-01-26)\n"
     ]
    },
    {
     "name": "stdout",
     "output_type": "stream",
     "text": [
      "No data found for LUK (10y)\n",
      "Skipped LUK - insufficient data\n",
      "Processing OFC...\n"
     ]
    },
    {
     "name": "stderr",
     "output_type": "stream",
     "text": [
      "Failed to get ticker 'OFC' reason: Expecting value: line 1 column 1 (char 0)\n",
      "$OFC: possibly delisted; no timezone found\n"
     ]
    },
    {
     "name": "stdout",
     "output_type": "stream",
     "text": [
      "No data found for OFC (10y)\n",
      "Skipped OFC - insufficient data\n",
      "Processing NTGR...\n"
     ]
    },
    {
     "name": "stderr",
     "output_type": "stream",
     "text": [
      "$NTGR: possibly delisted; no price data found  (1d 2014-01-26 00:00:00 -> 2025-01-26)\n"
     ]
    },
    {
     "name": "stdout",
     "output_type": "stream",
     "text": [
      "No data found for NTGR (10y)\n",
      "Skipped NTGR - insufficient data\n",
      "Processing VIAB...\n"
     ]
    },
    {
     "name": "stderr",
     "output_type": "stream",
     "text": [
      "Failed to get ticker 'VIAB' reason: Expecting value: line 1 column 1 (char 0)\n",
      "$VIAB: possibly delisted; no timezone found\n"
     ]
    },
    {
     "name": "stdout",
     "output_type": "stream",
     "text": [
      "No data found for VIAB (10y)\n",
      "Skipped VIAB - insufficient data\n",
      "Processing EBF...\n"
     ]
    },
    {
     "name": "stderr",
     "output_type": "stream",
     "text": [
      "$EBF: possibly delisted; no price data found  (1d 2014-01-26 00:00:00 -> 2025-01-26)\n"
     ]
    },
    {
     "name": "stdout",
     "output_type": "stream",
     "text": [
      "No data found for EBF (10y)\n",
      "Skipped EBF - insufficient data\n",
      "Processing RSG...\n"
     ]
    },
    {
     "name": "stderr",
     "output_type": "stream",
     "text": [
      "$RSG: possibly delisted; no price data found  (1d 2014-01-26 00:00:00 -> 2025-01-26)\n"
     ]
    },
    {
     "name": "stdout",
     "output_type": "stream",
     "text": [
      "No data found for RSG (10y)\n",
      "Skipped RSG - insufficient data\n",
      "Processing PPS-A...\n"
     ]
    },
    {
     "name": "stderr",
     "output_type": "stream",
     "text": [
      "Failed to get ticker 'PPS-A' reason: Expecting value: line 1 column 1 (char 0)\n",
      "$PPS-A: possibly delisted; no timezone found\n"
     ]
    },
    {
     "name": "stdout",
     "output_type": "stream",
     "text": [
      "No data found for PPS-A (10y)\n",
      "Skipped PPS-A - insufficient data\n",
      "Processing AEK...\n"
     ]
    },
    {
     "name": "stderr",
     "output_type": "stream",
     "text": [
      "Failed to get ticker 'AEK' reason: Expecting value: line 1 column 1 (char 0)\n",
      "$AEK: possibly delisted; no timezone found\n"
     ]
    },
    {
     "name": "stdout",
     "output_type": "stream",
     "text": [
      "No data found for AEK (10y)\n",
      "Skipped AEK - insufficient data\n",
      "Processing BSE...\n"
     ]
    },
    {
     "name": "stderr",
     "output_type": "stream",
     "text": [
      "Failed to get ticker 'BSE' reason: Expecting value: line 1 column 1 (char 0)\n",
      "$BSE: possibly delisted; no timezone found\n"
     ]
    },
    {
     "name": "stdout",
     "output_type": "stream",
     "text": [
      "No data found for BSE (10y)\n",
      "Skipped BSE - insufficient data\n",
      "Processing SLB...\n"
     ]
    },
    {
     "name": "stderr",
     "output_type": "stream",
     "text": [
      "$SLB: possibly delisted; no price data found  (1d 2014-01-26 00:00:00 -> 2025-01-26)\n"
     ]
    },
    {
     "name": "stdout",
     "output_type": "stream",
     "text": [
      "No data found for SLB (10y)\n",
      "Skipped SLB - insufficient data\n",
      "Processing HZO...\n"
     ]
    },
    {
     "name": "stderr",
     "output_type": "stream",
     "text": [
      "$HZO: possibly delisted; no price data found  (1d 2014-01-26 00:00:00 -> 2025-01-26)\n"
     ]
    },
    {
     "name": "stdout",
     "output_type": "stream",
     "text": [
      "No data found for HZO (10y)\n",
      "Skipped HZO - insufficient data\n",
      "Processing GTIM...\n"
     ]
    },
    {
     "name": "stderr",
     "output_type": "stream",
     "text": [
      "$GTIM: possibly delisted; no price data found  (1d 2014-01-26 00:00:00 -> 2025-01-26)\n"
     ]
    },
    {
     "name": "stdout",
     "output_type": "stream",
     "text": [
      "No data found for GTIM (10y)\n",
      "Skipped GTIM - insufficient data\n",
      "Processing NEU...\n"
     ]
    },
    {
     "name": "stderr",
     "output_type": "stream",
     "text": [
      "$NEU: possibly delisted; no price data found  (1d 2014-01-26 00:00:00 -> 2025-01-26)\n"
     ]
    },
    {
     "name": "stdout",
     "output_type": "stream",
     "text": [
      "No data found for NEU (10y)\n",
      "Skipped NEU - insufficient data\n",
      "Processing NQC...\n"
     ]
    },
    {
     "name": "stderr",
     "output_type": "stream",
     "text": [
      "$NQC: possibly delisted; no price data found  (1d 2014-01-26 00:00:00 -> 2025-01-26)\n"
     ]
    },
    {
     "name": "stdout",
     "output_type": "stream",
     "text": [
      "No data found for NQC (10y)\n",
      "Skipped NQC - insufficient data\n",
      "Processing BMY...\n"
     ]
    },
    {
     "name": "stderr",
     "output_type": "stream",
     "text": [
      "Failed to get ticker 'BMY' reason: Expecting value: line 1 column 1 (char 0)\n",
      "$BMY: possibly delisted; no timezone found\n"
     ]
    },
    {
     "name": "stdout",
     "output_type": "stream",
     "text": [
      "No data found for BMY (10y)\n",
      "Skipped BMY - insufficient data\n",
      "Processing SBW...\n"
     ]
    },
    {
     "name": "stderr",
     "output_type": "stream",
     "text": [
      "$SBW: possibly delisted; no price data found  (1d 2014-01-26 00:00:00 -> 2025-01-26)\n"
     ]
    },
    {
     "name": "stdout",
     "output_type": "stream",
     "text": [
      "No data found for SBW (10y)\n",
      "Skipped SBW - insufficient data\n",
      "Processing SBNYW...\n"
     ]
    },
    {
     "name": "stderr",
     "output_type": "stream",
     "text": [
      "Failed to get ticker 'SBNYW' reason: Expecting value: line 1 column 1 (char 0)\n",
      "$SBNYW: possibly delisted; no timezone found\n"
     ]
    },
    {
     "name": "stdout",
     "output_type": "stream",
     "text": [
      "No data found for SBNYW (10y)\n",
      "Skipped SBNYW - insufficient data\n",
      "Processing RFP...\n"
     ]
    },
    {
     "name": "stderr",
     "output_type": "stream",
     "text": [
      "Failed to get ticker 'RFP' reason: Expecting value: line 1 column 1 (char 0)\n",
      "$RFP: possibly delisted; no timezone found\n"
     ]
    },
    {
     "name": "stdout",
     "output_type": "stream",
     "text": [
      "No data found for RFP (10y)\n",
      "Skipped RFP - insufficient data\n",
      "Processing MRTN...\n",
      "Processing FDUS...\n",
      "Processing ESBK...\n"
     ]
    },
    {
     "name": "stderr",
     "output_type": "stream",
     "text": [
      "$ESBK: possibly delisted; no timezone found\n"
     ]
    },
    {
     "name": "stdout",
     "output_type": "stream",
     "text": [
      "No data found for ESBK (10y)\n",
      "Skipped ESBK - insufficient data\n",
      "Processing OFS...\n",
      "Processing AIN...\n"
     ]
    },
    {
     "name": "stderr",
     "output_type": "stream",
     "text": [
      "$NCIT: possibly delisted; no price data found  (1d 2014-01-26 00:00:00 -> 2025-01-26)\n"
     ]
    },
    {
     "name": "stdout",
     "output_type": "stream",
     "text": [
      "Processing NCIT...\n",
      "No data found for NCIT (10y)\n",
      "Skipped NCIT - insufficient data\n",
      "Processing SCHN...\n"
     ]
    },
    {
     "name": "stderr",
     "output_type": "stream",
     "text": [
      "$SCHN: possibly delisted; no timezone found\n"
     ]
    },
    {
     "name": "stdout",
     "output_type": "stream",
     "text": [
      "No data found for SCHN (10y)\n",
      "Skipped SCHN - insufficient data\n",
      "Processing WIFI...\n"
     ]
    },
    {
     "name": "stderr",
     "output_type": "stream",
     "text": [
      "$WIFI: possibly delisted; no timezone found\n"
     ]
    },
    {
     "name": "stdout",
     "output_type": "stream",
     "text": [
      "No data found for WIFI (10y)\n",
      "Skipped WIFI - insufficient data\n",
      "Processing DIN...\n",
      "Processing ASX...\n",
      "Processing PACD...\n"
     ]
    },
    {
     "name": "stderr",
     "output_type": "stream",
     "text": [
      "$PACD: possibly delisted; no timezone found\n"
     ]
    },
    {
     "name": "stdout",
     "output_type": "stream",
     "text": [
      "No data found for PACD (10y)\n",
      "Skipped PACD - insufficient data\n",
      "Processing CBL-E...\n"
     ]
    },
    {
     "name": "stderr",
     "output_type": "stream",
     "text": [
      "$CBL-E: possibly delisted; no timezone found\n"
     ]
    },
    {
     "name": "stdout",
     "output_type": "stream",
     "text": [
      "No data found for CBL-E (10y)\n",
      "Skipped CBL-E - insufficient data\n",
      "Processing ABBV...\n",
      "Processing NRT...\n",
      "Processing ASRVP...\n"
     ]
    },
    {
     "name": "stderr",
     "output_type": "stream",
     "text": [
      "$ASRVP: possibly delisted; no timezone found\n"
     ]
    },
    {
     "name": "stdout",
     "output_type": "stream",
     "text": [
      "No data found for ASRVP (10y)\n",
      "Skipped ASRVP - insufficient data\n",
      "Processing WTFCW...\n"
     ]
    },
    {
     "name": "stderr",
     "output_type": "stream",
     "text": [
      "$WTFCW: possibly delisted; no timezone found\n"
     ]
    },
    {
     "name": "stdout",
     "output_type": "stream",
     "text": [
      "No data found for WTFCW (10y)\n",
      "Skipped WTFCW - insufficient data\n",
      "Processing PPL-W...\n"
     ]
    },
    {
     "name": "stderr",
     "output_type": "stream",
     "text": [
      "$PPL-W: possibly delisted; no timezone found\n",
      "$MERU: possibly delisted; no price data found  (1d 2014-01-26 00:00:00 -> 2025-01-26)\n",
      "$ZEP: possibly delisted; no price data found  (1d 2014-01-26 00:00:00 -> 2025-01-26)\n"
     ]
    },
    {
     "name": "stdout",
     "output_type": "stream",
     "text": [
      "No data found for PPL-W (10y)\n",
      "Skipped PPL-W - insufficient data\n",
      "Processing MERU...\n",
      "No data found for MERU (10y)\n",
      "Skipped MERU - insufficient data\n",
      "Processing ZEP...\n",
      "No data found for ZEP (10y)\n",
      "Skipped ZEP - insufficient data\n",
      "Processing BVA...\n"
     ]
    },
    {
     "name": "stderr",
     "output_type": "stream",
     "text": [
      "$BVA: possibly delisted; no price data found  (1d 2014-01-26 00:00:00 -> 2025-01-26)\n"
     ]
    },
    {
     "name": "stdout",
     "output_type": "stream",
     "text": [
      "No data found for BVA (10y)\n",
      "Skipped BVA - insufficient data\n",
      "Processing PAI...\n",
      "Processing MUS...\n"
     ]
    },
    {
     "name": "stderr",
     "output_type": "stream",
     "text": [
      "$MUS: possibly delisted; no timezone found\n",
      "$IOC: possibly delisted; no price data found  (1d 2014-01-26 00:00:00 -> 2025-01-26)\n"
     ]
    },
    {
     "name": "stdout",
     "output_type": "stream",
     "text": [
      "No data found for MUS (10y)\n",
      "Skipped MUS - insufficient data\n",
      "Processing IOC...\n",
      "No data found for IOC (10y)\n",
      "Skipped IOC - insufficient data\n",
      "Processing CLR...\n"
     ]
    },
    {
     "name": "stderr",
     "output_type": "stream",
     "text": [
      "$CLR: possibly delisted; no timezone found\n"
     ]
    },
    {
     "name": "stdout",
     "output_type": "stream",
     "text": [
      "No data found for CLR (10y)\n",
      "Skipped CLR - insufficient data\n",
      "Processing OZRK...\n"
     ]
    },
    {
     "name": "stderr",
     "output_type": "stream",
     "text": [
      "$OZRK: possibly delisted; no timezone found\n"
     ]
    },
    {
     "name": "stdout",
     "output_type": "stream",
     "text": [
      "No data found for OZRK (10y)\n",
      "Skipped OZRK - insufficient data\n",
      "Processing ESXB...\n"
     ]
    },
    {
     "name": "stderr",
     "output_type": "stream",
     "text": [
      "$ESXB: possibly delisted; no timezone found\n"
     ]
    },
    {
     "name": "stdout",
     "output_type": "stream",
     "text": [
      "No data found for ESXB (10y)\n",
      "Skipped ESXB - insufficient data\n",
      "Processing PG...\n",
      "Processing GLADP...\n"
     ]
    },
    {
     "name": "stderr",
     "output_type": "stream",
     "text": [
      "$GLADP: possibly delisted; no timezone found\n"
     ]
    },
    {
     "name": "stdout",
     "output_type": "stream",
     "text": [
      "No data found for GLADP (10y)\n",
      "Skipped GLADP - insufficient data\n",
      "Processing ASCMA...\n"
     ]
    },
    {
     "name": "stderr",
     "output_type": "stream",
     "text": [
      "$ASCMA: possibly delisted; no timezone found\n"
     ]
    },
    {
     "name": "stdout",
     "output_type": "stream",
     "text": [
      "No data found for ASCMA (10y)\n",
      "Skipped ASCMA - insufficient data\n",
      "Processing INTC...\n"
     ]
    },
    {
     "name": "stderr",
     "output_type": "stream",
     "text": [
      "$HTS: possibly delisted; no price data found  (1d 2014-01-26 00:00:00 -> 2025-01-26)\n",
      "$RFMD: possibly delisted; no price data found  (1d 2014-01-26 00:00:00 -> 2025-01-26)\n"
     ]
    },
    {
     "name": "stdout",
     "output_type": "stream",
     "text": [
      "Processing HTS...\n",
      "No data found for HTS (10y)\n",
      "Skipped HTS - insufficient data\n",
      "Processing RFMD...\n",
      "No data found for RFMD (10y)\n",
      "Skipped RFMD - insufficient data\n",
      "Processing FUR-D...\n"
     ]
    },
    {
     "name": "stderr",
     "output_type": "stream",
     "text": [
      "$FUR-D: possibly delisted; no timezone found\n",
      "$MAKO: possibly delisted; no price data found  (1d 2014-01-26 00:00:00 -> 2025-01-26)\n",
      "$ZMH: possibly delisted; no price data found  (1d 2014-01-26 00:00:00 -> 2025-01-26)\n"
     ]
    },
    {
     "name": "stdout",
     "output_type": "stream",
     "text": [
      "No data found for FUR-D (10y)\n",
      "Skipped FUR-D - insufficient data\n",
      "Processing MAKO...\n",
      "No data found for MAKO (10y)\n",
      "Skipped MAKO - insufficient data\n",
      "Processing ZMH...\n",
      "No data found for ZMH (10y)\n",
      "Skipped ZMH - insufficient data\n",
      "Processing FSD...\n"
     ]
    },
    {
     "name": "stderr",
     "output_type": "stream",
     "text": [
      "$FSD: possibly delisted; no timezone found\n",
      "$FDO: possibly delisted; no price data found  (1d 2014-01-26 00:00:00 -> 2025-01-26)\n"
     ]
    },
    {
     "name": "stdout",
     "output_type": "stream",
     "text": [
      "No data found for FSD (10y)\n",
      "Skipped FSD - insufficient data\n",
      "Processing FDO...\n",
      "No data found for FDO (10y)\n",
      "Skipped FDO - insufficient data\n",
      "Processing HWBK...\n"
     ]
    },
    {
     "name": "stderr",
     "output_type": "stream",
     "text": [
      "$EROC: possibly delisted; no price data found  (1d 2014-01-26 00:00:00 -> 2025-01-26)\n"
     ]
    },
    {
     "name": "stdout",
     "output_type": "stream",
     "text": [
      "Processing EROC...\n",
      "No data found for EROC (10y)\n",
      "Skipped EROC - insufficient data\n",
      "Processing UTHR...\n",
      "Processing UVV...\n"
     ]
    },
    {
     "name": "stderr",
     "output_type": "stream",
     "text": [
      "$CBIN: possibly delisted; no price data found  (1d 2014-01-26 00:00:00 -> 2025-01-26)\n"
     ]
    },
    {
     "name": "stdout",
     "output_type": "stream",
     "text": [
      "Processing CBIN...\n",
      "No data found for CBIN (10y)\n",
      "Skipped CBIN - insufficient data\n",
      "Processing BCX...\n",
      "Processing MEOH...\n",
      "Processing RFI...\n",
      "Processing BGB...\n",
      "Processing FRO...\n",
      "Processing PPL...\n",
      "Processing HTY...\n"
     ]
    },
    {
     "name": "stderr",
     "output_type": "stream",
     "text": [
      "$HTY: possibly delisted; no timezone found\n"
     ]
    },
    {
     "name": "stdout",
     "output_type": "stream",
     "text": [
      "No data found for HTY (10y)\n",
      "Skipped HTY - insufficient data\n",
      "Processing CELGZ...\n"
     ]
    },
    {
     "name": "stderr",
     "output_type": "stream",
     "text": [
      "$CELGZ: possibly delisted; no timezone found\n"
     ]
    },
    {
     "name": "stdout",
     "output_type": "stream",
     "text": [
      "No data found for CELGZ (10y)\n",
      "Skipped CELGZ - insufficient data\n",
      "Processing BNJ...\n",
      "Processing UVSP...\n",
      "Processing PBR.A...\n"
     ]
    },
    {
     "name": "stderr",
     "output_type": "stream",
     "text": [
      "$PBR.A: possibly delisted; no timezone found\n",
      "$INXBU: possibly delisted; no price data found  (1d 2014-01-26 00:00:00 -> 2025-01-26)\n"
     ]
    },
    {
     "name": "stdout",
     "output_type": "stream",
     "text": [
      "No data found for PBR.A (10y)\n",
      "Skipped PBR.A - insufficient data\n",
      "Processing INXBU...\n",
      "No data found for INXBU (10y)\n",
      "Skipped INXBU - insufficient data\n",
      "Processing NEE-O...\n"
     ]
    },
    {
     "name": "stderr",
     "output_type": "stream",
     "text": [
      "$NEE-O: possibly delisted; no timezone found\n"
     ]
    },
    {
     "name": "stdout",
     "output_type": "stream",
     "text": [
      "No data found for NEE-O (10y)\n",
      "Skipped NEE-O - insufficient data\n",
      "Processing NMT-D...\n"
     ]
    },
    {
     "name": "stderr",
     "output_type": "stream",
     "text": [
      "$NMT-D: possibly delisted; no timezone found\n"
     ]
    },
    {
     "name": "stdout",
     "output_type": "stream",
     "text": [
      "No data found for NMT-D (10y)\n",
      "Skipped NMT-D - insufficient data\n",
      "Processing TFX...\n",
      "Processing AMSF...\n"
     ]
    },
    {
     "name": "stderr",
     "output_type": "stream",
     "text": [
      "$MM: possibly delisted; no price data found  (1d 2014-01-26 00:00:00 -> 2025-01-26)\n"
     ]
    },
    {
     "name": "stdout",
     "output_type": "stream",
     "text": [
      "Processing MM...\n",
      "No data found for MM (10y)\n",
      "Skipped MM - insufficient data\n",
      "Processing TLK...\n"
     ]
    },
    {
     "name": "stderr",
     "output_type": "stream",
     "text": [
      "$NQI: possibly delisted; no price data found  (1d 2014-01-26 00:00:00 -> 2025-01-26)\n",
      "$POT: possibly delisted; no price data found  (1d 2014-01-26 00:00:00 -> 2025-01-26)\n"
     ]
    },
    {
     "name": "stdout",
     "output_type": "stream",
     "text": [
      "Processing NQI...\n",
      "No data found for NQI (10y)\n",
      "Skipped NQI - insufficient data\n",
      "Processing POT...\n",
      "No data found for POT (10y)\n",
      "Skipped POT - insufficient data\n",
      "Processing ISSC...\n"
     ]
    },
    {
     "name": "stderr",
     "output_type": "stream",
     "text": [
      "$HHY: possibly delisted; no price data found  (1d 2014-01-26 00:00:00 -> 2025-01-26)\n"
     ]
    },
    {
     "name": "stdout",
     "output_type": "stream",
     "text": [
      "Processing HHY...\n",
      "No data found for HHY (10y)\n",
      "Skipped HHY - insufficient data\n",
      "Processing PJL...\n"
     ]
    },
    {
     "name": "stderr",
     "output_type": "stream",
     "text": [
      "$PJL: possibly delisted; no price data found  (1d 2014-01-26 00:00:00 -> 2025-01-26)\n"
     ]
    },
    {
     "name": "stdout",
     "output_type": "stream",
     "text": [
      "No data found for PJL (10y)\n",
      "Skipped PJL - insufficient data\n",
      "Processing DJCO...\n",
      "Processing SMMF...\n"
     ]
    },
    {
     "name": "stderr",
     "output_type": "stream",
     "text": [
      "$SMMF: possibly delisted; no timezone found\n"
     ]
    },
    {
     "name": "stdout",
     "output_type": "stream",
     "text": [
      "No data found for SMMF (10y)\n",
      "Skipped SMMF - insufficient data\n",
      "Processing GTLS...\n",
      "Processing MTGE...\n",
      "Processing NMY-D...\n"
     ]
    },
    {
     "name": "stderr",
     "output_type": "stream",
     "text": [
      "$NMY-D: possibly delisted; no timezone found\n"
     ]
    },
    {
     "name": "stdout",
     "output_type": "stream",
     "text": [
      "No data found for NMY-D (10y)\n",
      "Skipped NMY-D - insufficient data\n",
      "Processing NNC-C...\n"
     ]
    },
    {
     "name": "stderr",
     "output_type": "stream",
     "text": [
      "$NNC-C: possibly delisted; no timezone found\n"
     ]
    },
    {
     "name": "stdout",
     "output_type": "stream",
     "text": [
      "No data found for NNC-C (10y)\n",
      "Skipped NNC-C - insufficient data\n",
      "Processing PACW...\n"
     ]
    },
    {
     "name": "stderr",
     "output_type": "stream",
     "text": [
      "$PACW: possibly delisted; no timezone found\n"
     ]
    },
    {
     "name": "stdout",
     "output_type": "stream",
     "text": [
      "No data found for PACW (10y)\n",
      "Skipped PACW - insufficient data\n",
      "Processing GJO...\n",
      "Processing RTEC...\n"
     ]
    },
    {
     "name": "stderr",
     "output_type": "stream",
     "text": [
      "$RTEC: possibly delisted; no timezone found\n"
     ]
    },
    {
     "name": "stdout",
     "output_type": "stream",
     "text": [
      "No data found for RTEC (10y)\n",
      "Skipped RTEC - insufficient data\n",
      "Processing SIG...\n",
      "Processing UNTY...\n",
      "Processing GAM-B...\n"
     ]
    },
    {
     "name": "stderr",
     "output_type": "stream",
     "text": [
      "$GAM-B: possibly delisted; no timezone found\n"
     ]
    },
    {
     "name": "stdout",
     "output_type": "stream",
     "text": [
      "No data found for GAM-B (10y)\n",
      "Skipped GAM-B - insufficient data\n",
      "Processing PAMT...\n",
      "Processing MTT...\n"
     ]
    },
    {
     "name": "stderr",
     "output_type": "stream",
     "text": [
      "$MTT: possibly delisted; no timezone found\n"
     ]
    },
    {
     "name": "stdout",
     "output_type": "stream",
     "text": [
      "No data found for MTT (10y)\n",
      "Skipped MTT - insufficient data\n",
      "Processing ALR-B...\n"
     ]
    },
    {
     "name": "stderr",
     "output_type": "stream",
     "text": [
      "$ALR-B: possibly delisted; no timezone found\n"
     ]
    },
    {
     "name": "stdout",
     "output_type": "stream",
     "text": [
      "No data found for ALR-B (10y)\n",
      "Skipped ALR-B - insufficient data\n",
      "Processing SRV...\n",
      "Processing NZH-A...\n"
     ]
    },
    {
     "name": "stderr",
     "output_type": "stream",
     "text": [
      "$NZH-A: possibly delisted; no timezone found\n"
     ]
    },
    {
     "name": "stdout",
     "output_type": "stream",
     "text": [
      "No data found for NZH-A (10y)\n",
      "Skipped NZH-A - insufficient data\n",
      "Processing GM.A...\n"
     ]
    },
    {
     "name": "stderr",
     "output_type": "stream",
     "text": [
      "$GM.A: possibly delisted; no timezone found\n"
     ]
    },
    {
     "name": "stdout",
     "output_type": "stream",
     "text": [
      "No data found for GM.A (10y)\n",
      "Skipped GM.A - insufficient data\n",
      "Processing HOS...\n"
     ]
    },
    {
     "name": "stderr",
     "output_type": "stream",
     "text": [
      "$HOS: possibly delisted; no timezone found\n"
     ]
    },
    {
     "name": "stdout",
     "output_type": "stream",
     "text": [
      "No data found for HOS (10y)\n",
      "Skipped HOS - insufficient data\n",
      "Processing ALVR...\n",
      "Processing IFGL...\n",
      "Processing NKTR...\n",
      "Processing SINA...\n"
     ]
    },
    {
     "name": "stderr",
     "output_type": "stream",
     "text": [
      "$SINA: possibly delisted; no timezone found\n"
     ]
    },
    {
     "name": "stdout",
     "output_type": "stream",
     "text": [
      "No data found for SINA (10y)\n",
      "Skipped SINA - insufficient data\n",
      "Processing FHN-A...\n"
     ]
    },
    {
     "name": "stderr",
     "output_type": "stream",
     "text": [
      "$FHN-A: possibly delisted; no timezone found\n"
     ]
    },
    {
     "name": "stdout",
     "output_type": "stream",
     "text": [
      "No data found for FHN-A (10y)\n",
      "Skipped FHN-A - insufficient data\n",
      "Processing TOFC...\n",
      "Insufficient data for TOFC (68 rows)\n",
      "Skipped TOFC - insufficient data\n",
      "Processing TYN...\n"
     ]
    },
    {
     "name": "stderr",
     "output_type": "stream",
     "text": [
      "$TYN: possibly delisted; no timezone found\n",
      "$BHY: possibly delisted; no price data found  (1d 2014-01-26 00:00:00 -> 2025-01-26)\n"
     ]
    },
    {
     "name": "stdout",
     "output_type": "stream",
     "text": [
      "No data found for TYN (10y)\n",
      "Skipped TYN - insufficient data\n",
      "Processing BHY...\n",
      "No data found for BHY (10y)\n",
      "Skipped BHY - insufficient data\n",
      "Processing FFEX...\n"
     ]
    },
    {
     "name": "stderr",
     "output_type": "stream",
     "text": [
      "$FFEX: possibly delisted; no price data found  (1d 2014-01-26 00:00:00 -> 2025-01-26)\n"
     ]
    },
    {
     "name": "stdout",
     "output_type": "stream",
     "text": [
      "No data found for FFEX (10y)\n",
      "Skipped FFEX - insufficient data\n",
      "Processing MTSC...\n"
     ]
    },
    {
     "name": "stderr",
     "output_type": "stream",
     "text": [
      "$MTSC: possibly delisted; no timezone found\n"
     ]
    },
    {
     "name": "stdout",
     "output_type": "stream",
     "text": [
      "No data found for MTSC (10y)\n",
      "Skipped MTSC - insufficient data\n",
      "Processing BLKB...\n"
     ]
    },
    {
     "name": "stderr",
     "output_type": "stream",
     "text": [
      "$TSPT: possibly delisted; no price data found  (1d 2014-01-26 00:00:00 -> 2025-01-26)\n"
     ]
    },
    {
     "name": "stdout",
     "output_type": "stream",
     "text": [
      "Processing TSPT...\n",
      "No data found for TSPT (10y)\n",
      "Skipped TSPT - insufficient data\n",
      "Processing BLUE...\n",
      "Processing RPT...\n",
      "Processing MTB.P...\n",
      "Processing BGG...\n"
     ]
    },
    {
     "name": "stderr",
     "output_type": "stream",
     "text": [
      "$BGG: possibly delisted; no timezone found\n"
     ]
    },
    {
     "name": "stdout",
     "output_type": "stream",
     "text": [
      "No data found for BGG (10y)\n",
      "Skipped BGG - insufficient data\n",
      "Processing PNF...\n"
     ]
    },
    {
     "name": "stderr",
     "output_type": "stream",
     "text": [
      "$MENT: possibly delisted; no price data found  (1d 2014-01-26 00:00:00 -> 2025-01-26)\n"
     ]
    },
    {
     "name": "stdout",
     "output_type": "stream",
     "text": [
      "Processing MENT...\n",
      "No data found for MENT (10y)\n",
      "Skipped MENT - insufficient data\n",
      "Processing QDEL...\n",
      "Processing CECO...\n",
      "Processing KIM-I...\n"
     ]
    },
    {
     "name": "stderr",
     "output_type": "stream",
     "text": [
      "$KIM-I: possibly delisted; no timezone found\n"
     ]
    },
    {
     "name": "stdout",
     "output_type": "stream",
     "text": [
      "No data found for KIM-I (10y)\n",
      "Skipped KIM-I - insufficient data\n",
      "Processing APD...\n",
      "Processing ALP-O...\n"
     ]
    },
    {
     "name": "stderr",
     "output_type": "stream",
     "text": [
      "$ALP-O: possibly delisted; no timezone found\n"
     ]
    },
    {
     "name": "stdout",
     "output_type": "stream",
     "text": [
      "No data found for ALP-O (10y)\n",
      "Skipped ALP-O - insufficient data\n",
      "Processing ENPH...\n",
      "Processing ETN...\n",
      "Processing LHO-G...\n"
     ]
    },
    {
     "name": "stderr",
     "output_type": "stream",
     "text": [
      "$LHO-G: possibly delisted; no timezone found\n"
     ]
    },
    {
     "name": "stdout",
     "output_type": "stream",
     "text": [
      "No data found for LHO-G (10y)\n",
      "Skipped LHO-G - insufficient data\n",
      "Processing ALX...\n",
      "Processing TCC...\n",
      "Processing NC...\n",
      "Processing EMN...\n",
      "Processing C-R...\n"
     ]
    },
    {
     "name": "stderr",
     "output_type": "stream",
     "text": [
      "$C-R: possibly delisted; no timezone found\n",
      "$IMMY: possibly delisted; no price data found  (1d 2014-01-26 00:00:00 -> 2025-01-26)\n"
     ]
    },
    {
     "name": "stdout",
     "output_type": "stream",
     "text": [
      "No data found for C-R (10y)\n",
      "Skipped C-R - insufficient data\n",
      "Processing IMMY...\n",
      "No data found for IMMY (10y)\n",
      "Skipped IMMY - insufficient data\n",
      "Processing COHU...\n",
      "Processing AVAV...\n",
      "Processing AUDC...\n",
      "Processing TSN...\n",
      "Processing PCG...\n",
      "Processing GRVY...\n",
      "Processing ROC...\n"
     ]
    },
    {
     "name": "stderr",
     "output_type": "stream",
     "text": [
      "$ROC: possibly delisted; no timezone found\n"
     ]
    },
    {
     "name": "stdout",
     "output_type": "stream",
     "text": [
      "No data found for ROC (10y)\n",
      "Skipped ROC - insufficient data\n",
      "Processing GRP.U...\n"
     ]
    },
    {
     "name": "stderr",
     "output_type": "stream",
     "text": [
      "$GRP.U: possibly delisted; no timezone found\n"
     ]
    },
    {
     "name": "stdout",
     "output_type": "stream",
     "text": [
      "No data found for GRP.U (10y)\n",
      "Skipped GRP.U - insufficient data\n",
      "Processing DTK...\n",
      "Processing GPC...\n",
      "Processing HIL...\n"
     ]
    },
    {
     "name": "stderr",
     "output_type": "stream",
     "text": [
      "$HIL: possibly delisted; no timezone found\n"
     ]
    },
    {
     "name": "stdout",
     "output_type": "stream",
     "text": [
      "No data found for HIL (10y)\n",
      "Skipped HIL - insufficient data\n",
      "Processing PRE-D...\n"
     ]
    },
    {
     "name": "stderr",
     "output_type": "stream",
     "text": [
      "$PRE-D: possibly delisted; no timezone found\n"
     ]
    },
    {
     "name": "stdout",
     "output_type": "stream",
     "text": [
      "No data found for PRE-D (10y)\n",
      "Skipped PRE-D - insufficient data\n",
      "Processing DFS-B...\n"
     ]
    },
    {
     "name": "stderr",
     "output_type": "stream",
     "text": [
      "$DFS-B: possibly delisted; no timezone found\n"
     ]
    },
    {
     "name": "stdout",
     "output_type": "stream",
     "text": [
      "No data found for DFS-B (10y)\n",
      "Skipped DFS-B - insufficient data\n",
      "Processing FCCO...\n"
     ]
    },
    {
     "name": "stderr",
     "output_type": "stream",
     "text": [
      "$SNDK: possibly delisted; no price data found  (1d 2014-01-26 00:00:00 -> 2025-01-26)\n",
      "$VPHM: possibly delisted; no price data found  (1d 2014-01-26 00:00:00 -> 2025-01-26)\n"
     ]
    },
    {
     "name": "stdout",
     "output_type": "stream",
     "text": [
      "Processing SNDK...\n",
      "No data found for SNDK (10y)\n",
      "Skipped SNDK - insufficient data\n",
      "Processing VPHM...\n",
      "No data found for VPHM (10y)\n",
      "Skipped VPHM - insufficient data\n",
      "Processing CRRB...\n"
     ]
    },
    {
     "name": "stderr",
     "output_type": "stream",
     "text": [
      "$CRRB: possibly delisted; no price data found  (1d 2014-01-26 00:00:00 -> 2025-01-26)\n"
     ]
    },
    {
     "name": "stdout",
     "output_type": "stream",
     "text": [
      "No data found for CRRB (10y)\n",
      "Skipped CRRB - insufficient data\n",
      "Processing ACFN...\n",
      "Processing AIR...\n"
     ]
    },
    {
     "name": "stderr",
     "output_type": "stream",
     "text": [
      "$PTP: possibly delisted; no price data found  (1d 2014-01-26 00:00:00 -> 2025-01-26)\n"
     ]
    },
    {
     "name": "stdout",
     "output_type": "stream",
     "text": [
      "Processing PTP...\n",
      "No data found for PTP (10y)\n",
      "Skipped PTP - insufficient data\n",
      "Processing DGII...\n",
      "Processing GIGM...\n"
     ]
    },
    {
     "name": "stderr",
     "output_type": "stream",
     "text": [
      "$IDT.P: possibly delisted; no price data found  (1d 2014-01-26 00:00:00 -> 2025-01-26)\n"
     ]
    },
    {
     "name": "stdout",
     "output_type": "stream",
     "text": [
      "Processing IDT.P...\n",
      "No data found for IDT.P (10y)\n",
      "Skipped IDT.P - insufficient data\n",
      "Processing CIS...\n"
     ]
    },
    {
     "name": "stderr",
     "output_type": "stream",
     "text": [
      "$CTCH: possibly delisted; no price data found  (1d 2014-01-26 00:00:00 -> 2025-01-26)\n"
     ]
    },
    {
     "name": "stdout",
     "output_type": "stream",
     "text": [
      "Processing CTCH...\n",
      "No data found for CTCH (10y)\n",
      "Skipped CTCH - insufficient data\n",
      "Processing GS-A...\n"
     ]
    },
    {
     "name": "stderr",
     "output_type": "stream",
     "text": [
      "$GS-A: possibly delisted; no timezone found\n"
     ]
    },
    {
     "name": "stdout",
     "output_type": "stream",
     "text": [
      "No data found for GS-A (10y)\n",
      "Skipped GS-A - insufficient data\n",
      "Processing TMO...\n",
      "Processing ADT...\n",
      "Processing AXS-D...\n"
     ]
    },
    {
     "name": "stderr",
     "output_type": "stream",
     "text": [
      "$AXS-D: possibly delisted; no timezone found\n"
     ]
    },
    {
     "name": "stdout",
     "output_type": "stream",
     "text": [
      "No data found for AXS-D (10y)\n",
      "Skipped AXS-D - insufficient data\n",
      "Processing BECN...\n",
      "Processing CA...\n",
      "Insufficient data for CA (275 rows)\n",
      "Skipped CA - insufficient data\n",
      "Processing RGCO...\n"
     ]
    },
    {
     "name": "stderr",
     "output_type": "stream",
     "text": [
      "$ELNK: possibly delisted; no price data found  (1d 2014-01-26 00:00:00 -> 2025-01-26)\n"
     ]
    },
    {
     "name": "stdout",
     "output_type": "stream",
     "text": [
      "Processing ELNK...\n",
      "No data found for ELNK (10y)\n",
      "Skipped ELNK - insufficient data\n",
      "Processing NIE...\n",
      "Processing BCS-C...\n"
     ]
    },
    {
     "name": "stderr",
     "output_type": "stream",
     "text": [
      "$BCS-C: possibly delisted; no timezone found\n"
     ]
    },
    {
     "name": "stdout",
     "output_type": "stream",
     "text": [
      "No data found for BCS-C (10y)\n",
      "Skipped BCS-C - insufficient data\n",
      "Processing GTS...\n"
     ]
    },
    {
     "name": "stderr",
     "output_type": "stream",
     "text": [
      "$GTS: possibly delisted; no timezone found\n"
     ]
    },
    {
     "name": "stdout",
     "output_type": "stream",
     "text": [
      "No data found for GTS (10y)\n",
      "Skipped GTS - insufficient data\n",
      "Processing ARB...\n"
     ]
    },
    {
     "name": "stderr",
     "output_type": "stream",
     "text": [
      "$OPXA: possibly delisted; no price data found  (1d 2014-01-26 00:00:00 -> 2025-01-26)\n"
     ]
    },
    {
     "name": "stdout",
     "output_type": "stream",
     "text": [
      "Processing OPXA...\n",
      "No data found for OPXA (10y)\n",
      "Skipped OPXA - insufficient data\n",
      "Processing STRN...\n"
     ]
    },
    {
     "name": "stderr",
     "output_type": "stream",
     "text": [
      "$STRN: possibly delisted; no timezone found\n"
     ]
    },
    {
     "name": "stdout",
     "output_type": "stream",
     "text": [
      "No data found for STRN (10y)\n",
      "Skipped STRN - insufficient data\n",
      "Processing NRK-C...\n"
     ]
    },
    {
     "name": "stderr",
     "output_type": "stream",
     "text": [
      "$NRK-C: possibly delisted; no timezone found\n"
     ]
    },
    {
     "name": "stdout",
     "output_type": "stream",
     "text": [
      "No data found for NRK-C (10y)\n",
      "Skipped NRK-C - insufficient data\n",
      "Processing AFC...\n"
     ]
    },
    {
     "name": "stderr",
     "output_type": "stream",
     "text": [
      "$AFC: possibly delisted; no timezone found\n"
     ]
    },
    {
     "name": "stdout",
     "output_type": "stream",
     "text": [
      "No data found for AFC (10y)\n",
      "Skipped AFC - insufficient data\n",
      "Processing MPR...\n",
      "Insufficient data for MPR (1 rows)\n",
      "Skipped MPR - insufficient data\n",
      "Processing SYT...\n"
     ]
    },
    {
     "name": "stderr",
     "output_type": "stream",
     "text": [
      "$VSCI: possibly delisted; no price data found  (1d 2014-01-26 00:00:00 -> 2025-01-26)\n"
     ]
    },
    {
     "name": "stdout",
     "output_type": "stream",
     "text": [
      "Processing VSCI...\n",
      "No data found for VSCI (10y)\n",
      "Skipped VSCI - insufficient data\n",
      "Processing NURO...\n",
      "Processing BCH...\n",
      "Processing TW...\n",
      "Processing JASO...\n"
     ]
    },
    {
     "name": "stderr",
     "output_type": "stream",
     "text": [
      "$JASO: possibly delisted; no timezone found\n",
      "$CMGE: possibly delisted; no price data found  (1d 2014-01-26 00:00:00 -> 2025-01-26)\n"
     ]
    },
    {
     "name": "stdout",
     "output_type": "stream",
     "text": [
      "No data found for JASO (10y)\n",
      "Skipped JASO - insufficient data\n",
      "Processing CMGE...\n",
      "No data found for CMGE (10y)\n",
      "Skipped CMGE - insufficient data\n",
      "Processing IPL-D...\n"
     ]
    },
    {
     "name": "stderr",
     "output_type": "stream",
     "text": [
      "$IPL-D: possibly delisted; no timezone found\n",
      "$GKNT: possibly delisted; no price data found  (1d 2014-01-26 00:00:00 -> 2025-01-26)\n"
     ]
    },
    {
     "name": "stdout",
     "output_type": "stream",
     "text": [
      "No data found for IPL-D (10y)\n",
      "Skipped IPL-D - insufficient data\n",
      "Processing GKNT...\n",
      "No data found for GKNT (10y)\n",
      "Skipped GKNT - insufficient data\n",
      "Processing LINC...\n"
     ]
    },
    {
     "name": "stderr",
     "output_type": "stream",
     "text": [
      "$HITT: possibly delisted; no price data found  (1d 2014-01-26 00:00:00 -> 2025-01-26)\n"
     ]
    },
    {
     "name": "stdout",
     "output_type": "stream",
     "text": [
      "Processing HITT...\n",
      "No data found for HITT (10y)\n",
      "Skipped HITT - insufficient data\n",
      "Processing HBIO...\n",
      "Processing MTH...\n",
      "Processing FPO-A...\n"
     ]
    },
    {
     "name": "stderr",
     "output_type": "stream",
     "text": [
      "$FPO-A: possibly delisted; no timezone found\n"
     ]
    },
    {
     "name": "stdout",
     "output_type": "stream",
     "text": [
      "No data found for FPO-A (10y)\n",
      "Skipped FPO-A - insufficient data\n",
      "Processing BP...\n",
      "Processing DB...\n"
     ]
    },
    {
     "name": "stderr",
     "output_type": "stream",
     "text": [
      "$FSC: possibly delisted; no price data found  (1d 2014-01-26 00:00:00 -> 2025-01-26)\n"
     ]
    },
    {
     "name": "stdout",
     "output_type": "stream",
     "text": [
      "Processing VIFL...\n",
      "Insufficient data for VIFL (28 rows)\n",
      "Skipped VIFL - insufficient data\n",
      "Processing FSC...\n",
      "No data found for FSC (10y)\n",
      "Skipped FSC - insufficient data\n",
      "Processing NMY...\n"
     ]
    },
    {
     "name": "stderr",
     "output_type": "stream",
     "text": [
      "$NMY: possibly delisted; no timezone found\n"
     ]
    },
    {
     "name": "stdout",
     "output_type": "stream",
     "text": [
      "No data found for NMY (10y)\n",
      "Skipped NMY - insufficient data\n",
      "Processing UTMD...\n",
      "Processing CGEN...\n",
      "Processing PRTA...\n",
      "Processing GGAL...\n",
      "Processing NVX-A...\n"
     ]
    },
    {
     "name": "stderr",
     "output_type": "stream",
     "text": [
      "$NVX-A: possibly delisted; no timezone found\n"
     ]
    },
    {
     "name": "stdout",
     "output_type": "stream",
     "text": [
      "No data found for NVX-A (10y)\n",
      "Skipped NVX-A - insufficient data\n",
      "Processing CLWT...\n",
      "Processing SAN...\n",
      "Processing SOV-C...\n"
     ]
    },
    {
     "name": "stderr",
     "output_type": "stream",
     "text": [
      "$SOV-C: possibly delisted; no timezone found\n"
     ]
    },
    {
     "name": "stdout",
     "output_type": "stream",
     "text": [
      "No data found for SOV-C (10y)\n",
      "Skipped SOV-C - insufficient data\n",
      "Processing AGI...\n",
      "Processing CROX...\n",
      "Processing INFY...\n"
     ]
    },
    {
     "name": "stderr",
     "output_type": "stream",
     "text": [
      "$NVSL: possibly delisted; no price data found  (1d 2014-01-26 00:00:00 -> 2025-01-26)\n"
     ]
    },
    {
     "name": "stdout",
     "output_type": "stream",
     "text": [
      "Processing NVSL...\n",
      "No data found for NVSL (10y)\n",
      "Skipped NVSL - insufficient data\n",
      "Processing FMNB...\n",
      "Processing CFX...\n"
     ]
    },
    {
     "name": "stderr",
     "output_type": "stream",
     "text": [
      "$CFX: possibly delisted; no timezone found\n"
     ]
    },
    {
     "name": "stdout",
     "output_type": "stream",
     "text": [
      "No data found for CFX (10y)\n",
      "Skipped CFX - insufficient data\n",
      "\n",
      "Columns in final dataset: ['Date', 'Open', 'Close', 'Volume', 'Dividends', 'Stock Splits', 'Future Year Change', 'Ticker', 'Industry', 'EV/EBIT', 'ROIC']\n"
     ]
    },
    {
     "name": "stderr",
     "output_type": "stream",
     "text": [
      "429 Client Error: Too Many Requests for url: https://query2.finance.yahoo.com/v10/finance/quoteSummary/SRE?modules=financialData%2CquoteType%2CdefaultKeyStatistics%2CassetProfile%2CsummaryDetail&corsDomain=finance.yahoo.com&formatted=false&symbol=SRE&crumb=Edge%3A+Too+Many+Requests\n",
      "429 Client Error: Too Many Requests for url: https://query2.finance.yahoo.com/v10/finance/quoteSummary/KCLI?modules=financialData%2CquoteType%2CdefaultKeyStatistics%2CassetProfile%2CsummaryDetail&corsDomain=finance.yahoo.com&formatted=false&symbol=KCLI&crumb=Edge%3A+Too+Many+Requests\n",
      "429 Client Error: Too Many Requests for url: https://query2.finance.yahoo.com/v10/finance/quoteSummary/SPTN?modules=financialData%2CquoteType%2CdefaultKeyStatistics%2CassetProfile%2CsummaryDetail&corsDomain=finance.yahoo.com&formatted=false&symbol=SPTN&crumb=Edge%3A+Too+Many+Requests\n",
      "429 Client Error: Too Many Requests for url: https://query2.finance.yahoo.com/v10/finance/quoteSummary/BELFB?modules=financialData%2CquoteType%2CdefaultKeyStatistics%2CassetProfile%2CsummaryDetail&corsDomain=finance.yahoo.com&formatted=false&symbol=BELFB&crumb=Edge%3A+Too+Many+Requests\n",
      "429 Client Error: Too Many Requests for url: https://query2.finance.yahoo.com/v10/finance/quoteSummary/ALL?modules=financialData%2CquoteType%2CdefaultKeyStatistics%2CassetProfile%2CsummaryDetail&corsDomain=finance.yahoo.com&formatted=false&symbol=ALL&crumb=Edge%3A+Too+Many+Requests\n",
      "429 Client Error: Too Many Requests for url: https://query2.finance.yahoo.com/v10/finance/quoteSummary/GULF?modules=financialData%2CquoteType%2CdefaultKeyStatistics%2CassetProfile%2CsummaryDetail&corsDomain=finance.yahoo.com&formatted=false&symbol=GULF&crumb=Edge%3A+Too+Many+Requests\n",
      "429 Client Error: Too Many Requests for url: https://query2.finance.yahoo.com/v10/finance/quoteSummary/PYS?modules=financialData%2CquoteType%2CdefaultKeyStatistics%2CassetProfile%2CsummaryDetail&corsDomain=finance.yahoo.com&formatted=false&symbol=PYS&crumb=Edge%3A+Too+Many+Requests\n",
      "429 Client Error: Too Many Requests for url: https://query2.finance.yahoo.com/v10/finance/quoteSummary/YORW?modules=financialData%2CquoteType%2CdefaultKeyStatistics%2CassetProfile%2CsummaryDetail&corsDomain=finance.yahoo.com&formatted=false&symbol=YORW&crumb=Edge%3A+Too+Many+Requests\n",
      "429 Client Error: Too Many Requests for url: https://query2.finance.yahoo.com/v10/finance/quoteSummary/BLIN?modules=financialData%2CquoteType%2CdefaultKeyStatistics%2CassetProfile%2CsummaryDetail&corsDomain=finance.yahoo.com&formatted=false&symbol=BLIN&crumb=Edge%3A+Too+Many+Requests\n",
      "429 Client Error: Too Many Requests for url: https://query2.finance.yahoo.com/v10/finance/quoteSummary/CWH?modules=financialData%2CquoteType%2CdefaultKeyStatistics%2CassetProfile%2CsummaryDetail&corsDomain=finance.yahoo.com&formatted=false&symbol=CWH&crumb=Edge%3A+Too+Many+Requests\n",
      "429 Client Error: Too Many Requests for url: https://query2.finance.yahoo.com/v10/finance/quoteSummary/BERY?modules=financialData%2CquoteType%2CdefaultKeyStatistics%2CassetProfile%2CsummaryDetail&corsDomain=finance.yahoo.com&formatted=false&symbol=BERY&crumb=Edge%3A+Too+Many+Requests\n",
      "429 Client Error: Too Many Requests for url: https://query2.finance.yahoo.com/v10/finance/quoteSummary/LVNTB?modules=financialData%2CquoteType%2CdefaultKeyStatistics%2CassetProfile%2CsummaryDetail&corsDomain=finance.yahoo.com&formatted=false&symbol=LVNTB&crumb=Edge%3A+Too+Many+Requests\n",
      "429 Client Error: Too Many Requests for url: https://query2.finance.yahoo.com/v10/finance/quoteSummary/EIX?modules=financialData%2CquoteType%2CdefaultKeyStatistics%2CassetProfile%2CsummaryDetail&corsDomain=finance.yahoo.com&formatted=false&symbol=EIX&crumb=Edge%3A+Too+Many+Requests\n",
      "429 Client Error: Too Many Requests for url: https://query2.finance.yahoo.com/v10/finance/quoteSummary/PRGO?modules=financialData%2CquoteType%2CdefaultKeyStatistics%2CassetProfile%2CsummaryDetail&corsDomain=finance.yahoo.com&formatted=false&symbol=PRGO&crumb=Edge%3A+Too+Many+Requests\n",
      "429 Client Error: Too Many Requests for url: https://query2.finance.yahoo.com/v10/finance/quoteSummary/MNDO?modules=financialData%2CquoteType%2CdefaultKeyStatistics%2CassetProfile%2CsummaryDetail&corsDomain=finance.yahoo.com&formatted=false&symbol=MNDO&crumb=Edge%3A+Too+Many+Requests\n",
      "429 Client Error: Too Many Requests for url: https://query2.finance.yahoo.com/v10/finance/quoteSummary/COCO?modules=financialData%2CquoteType%2CdefaultKeyStatistics%2CassetProfile%2CsummaryDetail&corsDomain=finance.yahoo.com&formatted=false&symbol=COCO&crumb=Edge%3A+Too+Many+Requests\n",
      "429 Client Error: Too Many Requests for url: https://query2.finance.yahoo.com/v10/finance/quoteSummary/TRNO?modules=financialData%2CquoteType%2CdefaultKeyStatistics%2CassetProfile%2CsummaryDetail&corsDomain=finance.yahoo.com&formatted=false&symbol=TRNO&crumb=Edge%3A+Too+Many+Requests\n",
      "429 Client Error: Too Many Requests for url: https://query2.finance.yahoo.com/v10/finance/quoteSummary/ESCA?modules=financialData%2CquoteType%2CdefaultKeyStatistics%2CassetProfile%2CsummaryDetail&corsDomain=finance.yahoo.com&formatted=false&symbol=ESCA&crumb=Edge%3A+Too+Many+Requests\n",
      "429 Client Error: Too Many Requests for url: https://query2.finance.yahoo.com/v10/finance/quoteSummary/PSCD?modules=financialData%2CquoteType%2CdefaultKeyStatistics%2CassetProfile%2CsummaryDetail&corsDomain=finance.yahoo.com&formatted=false&symbol=PSCD&crumb=Edge%3A+Too+Many+Requests\n",
      "429 Client Error: Too Many Requests for url: https://query2.finance.yahoo.com/v10/finance/quoteSummary/WASH?modules=financialData%2CquoteType%2CdefaultKeyStatistics%2CassetProfile%2CsummaryDetail&corsDomain=finance.yahoo.com&formatted=false&symbol=WASH&crumb=Edge%3A+Too+Many+Requests\n",
      "429 Client Error: Too Many Requests for url: https://query2.finance.yahoo.com/v10/finance/quoteSummary/NEON?modules=financialData%2CquoteType%2CdefaultKeyStatistics%2CassetProfile%2CsummaryDetail&corsDomain=finance.yahoo.com&formatted=false&symbol=NEON&crumb=Edge%3A+Too+Many+Requests\n",
      "429 Client Error: Too Many Requests for url: https://query2.finance.yahoo.com/v10/finance/quoteSummary/LEDS?modules=financialData%2CquoteType%2CdefaultKeyStatistics%2CassetProfile%2CsummaryDetail&corsDomain=finance.yahoo.com&formatted=false&symbol=LEDS&crumb=Edge%3A+Too+Many+Requests\n",
      "429 Client Error: Too Many Requests for url: https://query2.finance.yahoo.com/v10/finance/quoteSummary/MOH?modules=financialData%2CquoteType%2CdefaultKeyStatistics%2CassetProfile%2CsummaryDetail&corsDomain=finance.yahoo.com&formatted=false&symbol=MOH&crumb=Edge%3A+Too+Many+Requests\n",
      "429 Client Error: Too Many Requests for url: https://query2.finance.yahoo.com/v10/finance/quoteSummary/GBNK?modules=financialData%2CquoteType%2CdefaultKeyStatistics%2CassetProfile%2CsummaryDetail&corsDomain=finance.yahoo.com&formatted=false&symbol=GBNK&crumb=Edge%3A+Too+Many+Requests\n",
      "429 Client Error: Too Many Requests for url: https://query2.finance.yahoo.com/v10/finance/quoteSummary/EGN?modules=financialData%2CquoteType%2CdefaultKeyStatistics%2CassetProfile%2CsummaryDetail&corsDomain=finance.yahoo.com&formatted=false&symbol=EGN&crumb=Edge%3A+Too+Many+Requests\n",
      "429 Client Error: Too Many Requests for url: https://query2.finance.yahoo.com/v10/finance/quoteSummary/FISI?modules=financialData%2CquoteType%2CdefaultKeyStatistics%2CassetProfile%2CsummaryDetail&corsDomain=finance.yahoo.com&formatted=false&symbol=FISI&crumb=Edge%3A+Too+Many+Requests\n",
      "429 Client Error: Too Many Requests for url: https://query2.finance.yahoo.com/v10/finance/quoteSummary/CRT?modules=financialData%2CquoteType%2CdefaultKeyStatistics%2CassetProfile%2CsummaryDetail&corsDomain=finance.yahoo.com&formatted=false&symbol=CRT&crumb=Edge%3A+Too+Many+Requests\n",
      "429 Client Error: Too Many Requests for url: https://query2.finance.yahoo.com/v10/finance/quoteSummary/PLCE?modules=financialData%2CquoteType%2CdefaultKeyStatistics%2CassetProfile%2CsummaryDetail&corsDomain=finance.yahoo.com&formatted=false&symbol=PLCE&crumb=Edge%3A+Too+Many+Requests\n",
      "429 Client Error: Too Many Requests for url: https://query2.finance.yahoo.com/v10/finance/quoteSummary/PRA?modules=financialData%2CquoteType%2CdefaultKeyStatistics%2CassetProfile%2CsummaryDetail&corsDomain=finance.yahoo.com&formatted=false&symbol=PRA&crumb=Edge%3A+Too+Many+Requests\n",
      "429 Client Error: Too Many Requests for url: https://query2.finance.yahoo.com/v10/finance/quoteSummary/AGIO?modules=financialData%2CquoteType%2CdefaultKeyStatistics%2CassetProfile%2CsummaryDetail&corsDomain=finance.yahoo.com&formatted=false&symbol=AGIO&crumb=Edge%3A+Too+Many+Requests\n",
      "429 Client Error: Too Many Requests for url: https://query2.finance.yahoo.com/v10/finance/quoteSummary/WAB?modules=financialData%2CquoteType%2CdefaultKeyStatistics%2CassetProfile%2CsummaryDetail&corsDomain=finance.yahoo.com&formatted=false&symbol=WAB&crumb=Edge%3A+Too+Many+Requests\n",
      "429 Client Error: Too Many Requests for url: https://query2.finance.yahoo.com/v10/finance/quoteSummary/RDN?modules=financialData%2CquoteType%2CdefaultKeyStatistics%2CassetProfile%2CsummaryDetail&corsDomain=finance.yahoo.com&formatted=false&symbol=RDN&crumb=Edge%3A+Too+Many+Requests\n",
      "429 Client Error: Too Many Requests for url: https://query2.finance.yahoo.com/v10/finance/quoteSummary/TRS?modules=financialData%2CquoteType%2CdefaultKeyStatistics%2CassetProfile%2CsummaryDetail&corsDomain=finance.yahoo.com&formatted=false&symbol=TRS&crumb=Edge%3A+Too+Many+Requests\n",
      "429 Client Error: Too Many Requests for url: https://query2.finance.yahoo.com/v10/finance/quoteSummary/NTL?modules=financialData%2CquoteType%2CdefaultKeyStatistics%2CassetProfile%2CsummaryDetail&corsDomain=finance.yahoo.com&formatted=false&symbol=NTL&crumb=Edge%3A+Too+Many+Requests\n",
      "429 Client Error: Too Many Requests for url: https://query2.finance.yahoo.com/v10/finance/quoteSummary/KSS?modules=financialData%2CquoteType%2CdefaultKeyStatistics%2CassetProfile%2CsummaryDetail&corsDomain=finance.yahoo.com&formatted=false&symbol=KSS&crumb=Edge%3A+Too+Many+Requests\n",
      "429 Client Error: Too Many Requests for url: https://query2.finance.yahoo.com/v10/finance/quoteSummary/JQC?modules=financialData%2CquoteType%2CdefaultKeyStatistics%2CassetProfile%2CsummaryDetail&corsDomain=finance.yahoo.com&formatted=false&symbol=JQC&crumb=Edge%3A+Too+Many+Requests\n",
      "429 Client Error: Too Many Requests for url: https://query2.finance.yahoo.com/v10/finance/quoteSummary/CPRT?modules=financialData%2CquoteType%2CdefaultKeyStatistics%2CassetProfile%2CsummaryDetail&corsDomain=finance.yahoo.com&formatted=false&symbol=CPRT&crumb=Edge%3A+Too+Many+Requests\n",
      "429 Client Error: Too Many Requests for url: https://query2.finance.yahoo.com/v10/finance/quoteSummary/HCIIP?modules=financialData%2CquoteType%2CdefaultKeyStatistics%2CassetProfile%2CsummaryDetail&corsDomain=finance.yahoo.com&formatted=false&symbol=HCIIP&crumb=Edge%3A+Too+Many+Requests\n",
      "429 Client Error: Too Many Requests for url: https://query2.finance.yahoo.com/v10/finance/quoteSummary/MXF?modules=financialData%2CquoteType%2CdefaultKeyStatistics%2CassetProfile%2CsummaryDetail&corsDomain=finance.yahoo.com&formatted=false&symbol=MXF&crumb=Edge%3A+Too+Many+Requests\n",
      "429 Client Error: Too Many Requests for url: https://query2.finance.yahoo.com/v10/finance/quoteSummary/LRCX?modules=financialData%2CquoteType%2CdefaultKeyStatistics%2CassetProfile%2CsummaryDetail&corsDomain=finance.yahoo.com&formatted=false&symbol=LRCX&crumb=Edge%3A+Too+Many+Requests\n",
      "429 Client Error: Too Many Requests for url: https://query2.finance.yahoo.com/v10/finance/quoteSummary/MOD?modules=financialData%2CquoteType%2CdefaultKeyStatistics%2CassetProfile%2CsummaryDetail&corsDomain=finance.yahoo.com&formatted=false&symbol=MOD&crumb=Edge%3A+Too+Many+Requests\n",
      "429 Client Error: Too Many Requests for url: https://query2.finance.yahoo.com/v10/finance/quoteSummary/NCLH?modules=financialData%2CquoteType%2CdefaultKeyStatistics%2CassetProfile%2CsummaryDetail&corsDomain=finance.yahoo.com&formatted=false&symbol=NCLH&crumb=Edge%3A+Too+Many+Requests\n",
      "429 Client Error: Too Many Requests for url: https://query2.finance.yahoo.com/v10/finance/quoteSummary/FOX?modules=financialData%2CquoteType%2CdefaultKeyStatistics%2CassetProfile%2CsummaryDetail&corsDomain=finance.yahoo.com&formatted=false&symbol=FOX&crumb=Edge%3A+Too+Many+Requests\n",
      "429 Client Error: Too Many Requests for url: https://query2.finance.yahoo.com/v10/finance/quoteSummary/CWBC?modules=financialData%2CquoteType%2CdefaultKeyStatistics%2CassetProfile%2CsummaryDetail&corsDomain=finance.yahoo.com&formatted=false&symbol=CWBC&crumb=Edge%3A+Too+Many+Requests\n",
      "429 Client Error: Too Many Requests for url: https://query2.finance.yahoo.com/v10/finance/quoteSummary/BTF?modules=financialData%2CquoteType%2CdefaultKeyStatistics%2CassetProfile%2CsummaryDetail&corsDomain=finance.yahoo.com&formatted=false&symbol=BTF&crumb=Edge%3A+Too+Many+Requests\n",
      "429 Client Error: Too Many Requests for url: https://query2.finance.yahoo.com/v10/finance/quoteSummary/TPC?modules=financialData%2CquoteType%2CdefaultKeyStatistics%2CassetProfile%2CsummaryDetail&corsDomain=finance.yahoo.com&formatted=false&symbol=TPC&crumb=Edge%3A+Too+Many+Requests\n",
      "429 Client Error: Too Many Requests for url: https://query2.finance.yahoo.com/v10/finance/quoteSummary/IT?modules=financialData%2CquoteType%2CdefaultKeyStatistics%2CassetProfile%2CsummaryDetail&corsDomain=finance.yahoo.com&formatted=false&symbol=IT&crumb=Edge%3A+Too+Many+Requests\n",
      "429 Client Error: Too Many Requests for url: https://query2.finance.yahoo.com/v10/finance/quoteSummary/PSEC?modules=financialData%2CquoteType%2CdefaultKeyStatistics%2CassetProfile%2CsummaryDetail&corsDomain=finance.yahoo.com&formatted=false&symbol=PSEC&crumb=Edge%3A+Too+Many+Requests\n",
      "429 Client Error: Too Many Requests for url: https://query2.finance.yahoo.com/v10/finance/quoteSummary/EHTH?modules=financialData%2CquoteType%2CdefaultKeyStatistics%2CassetProfile%2CsummaryDetail&corsDomain=finance.yahoo.com&formatted=false&symbol=EHTH&crumb=Edge%3A+Too+Many+Requests\n",
      "429 Client Error: Too Many Requests for url: https://query2.finance.yahoo.com/v10/finance/quoteSummary/SMIT?modules=financialData%2CquoteType%2CdefaultKeyStatistics%2CassetProfile%2CsummaryDetail&corsDomain=finance.yahoo.com&formatted=false&symbol=SMIT&crumb=Edge%3A+Too+Many+Requests\n",
      "429 Client Error: Too Many Requests for url: https://query2.finance.yahoo.com/v10/finance/quoteSummary/MCBK?modules=financialData%2CquoteType%2CdefaultKeyStatistics%2CassetProfile%2CsummaryDetail&corsDomain=finance.yahoo.com&formatted=false&symbol=MCBK&crumb=Edge%3A+Too+Many+Requests\n",
      "429 Client Error: Too Many Requests for url: https://query2.finance.yahoo.com/v10/finance/quoteSummary/AAT?modules=financialData%2CquoteType%2CdefaultKeyStatistics%2CassetProfile%2CsummaryDetail&corsDomain=finance.yahoo.com&formatted=false&symbol=AAT&crumb=Edge%3A+Too+Many+Requests\n",
      "429 Client Error: Too Many Requests for url: https://query2.finance.yahoo.com/v10/finance/quoteSummary/LPL?modules=financialData%2CquoteType%2CdefaultKeyStatistics%2CassetProfile%2CsummaryDetail&corsDomain=finance.yahoo.com&formatted=false&symbol=LPL&crumb=Edge%3A+Too+Many+Requests\n",
      "429 Client Error: Too Many Requests for url: https://query2.finance.yahoo.com/v10/finance/quoteSummary/MITT?modules=financialData%2CquoteType%2CdefaultKeyStatistics%2CassetProfile%2CsummaryDetail&corsDomain=finance.yahoo.com&formatted=false&symbol=MITT&crumb=Edge%3A+Too+Many+Requests\n",
      "429 Client Error: Too Many Requests for url: https://query2.finance.yahoo.com/v10/finance/quoteSummary/ATEC?modules=financialData%2CquoteType%2CdefaultKeyStatistics%2CassetProfile%2CsummaryDetail&corsDomain=finance.yahoo.com&formatted=false&symbol=ATEC&crumb=Edge%3A+Too+Many+Requests\n",
      "429 Client Error: Too Many Requests for url: https://query2.finance.yahoo.com/v10/finance/quoteSummary/PRH?modules=financialData%2CquoteType%2CdefaultKeyStatistics%2CassetProfile%2CsummaryDetail&corsDomain=finance.yahoo.com&formatted=false&symbol=PRH&crumb=Edge%3A+Too+Many+Requests\n",
      "429 Client Error: Too Many Requests for url: https://query2.finance.yahoo.com/v10/finance/quoteSummary/PMT?modules=financialData%2CquoteType%2CdefaultKeyStatistics%2CassetProfile%2CsummaryDetail&corsDomain=finance.yahoo.com&formatted=false&symbol=PMT&crumb=Edge%3A+Too+Many+Requests\n",
      "429 Client Error: Too Many Requests for url: https://query2.finance.yahoo.com/v10/finance/quoteSummary/EMF?modules=financialData%2CquoteType%2CdefaultKeyStatistics%2CassetProfile%2CsummaryDetail&corsDomain=finance.yahoo.com&formatted=false&symbol=EMF&crumb=Edge%3A+Too+Many+Requests\n",
      "429 Client Error: Too Many Requests for url: https://query2.finance.yahoo.com/v10/finance/quoteSummary/MUI?modules=financialData%2CquoteType%2CdefaultKeyStatistics%2CassetProfile%2CsummaryDetail&corsDomain=finance.yahoo.com&formatted=false&symbol=MUI&crumb=Edge%3A+Too+Many+Requests\n",
      "429 Client Error: Too Many Requests for url: https://query2.finance.yahoo.com/v10/finance/quoteSummary/RELL?modules=financialData%2CquoteType%2CdefaultKeyStatistics%2CassetProfile%2CsummaryDetail&corsDomain=finance.yahoo.com&formatted=false&symbol=RELL&crumb=Edge%3A+Too+Many+Requests\n",
      "429 Client Error: Too Many Requests for url: https://query2.finance.yahoo.com/v10/finance/quoteSummary/NATR?modules=financialData%2CquoteType%2CdefaultKeyStatistics%2CassetProfile%2CsummaryDetail&corsDomain=finance.yahoo.com&formatted=false&symbol=NATR&crumb=Edge%3A+Too+Many+Requests\n",
      "429 Client Error: Too Many Requests for url: https://query2.finance.yahoo.com/v10/finance/quoteSummary/RNST?modules=financialData%2CquoteType%2CdefaultKeyStatistics%2CassetProfile%2CsummaryDetail&corsDomain=finance.yahoo.com&formatted=false&symbol=RNST&crumb=Edge%3A+Too+Many+Requests\n",
      "429 Client Error: Too Many Requests for url: https://query2.finance.yahoo.com/v10/finance/quoteSummary/IIM?modules=financialData%2CquoteType%2CdefaultKeyStatistics%2CassetProfile%2CsummaryDetail&corsDomain=finance.yahoo.com&formatted=false&symbol=IIM&crumb=Edge%3A+Too+Many+Requests\n",
      "429 Client Error: Too Many Requests for url: https://query2.finance.yahoo.com/v10/finance/quoteSummary/FANG?modules=financialData%2CquoteType%2CdefaultKeyStatistics%2CassetProfile%2CsummaryDetail&corsDomain=finance.yahoo.com&formatted=false&symbol=FANG&crumb=Edge%3A+Too+Many+Requests\n",
      "429 Client Error: Too Many Requests for url: https://query2.finance.yahoo.com/v10/finance/quoteSummary/TWI?modules=financialData%2CquoteType%2CdefaultKeyStatistics%2CassetProfile%2CsummaryDetail&corsDomain=finance.yahoo.com&formatted=false&symbol=TWI&crumb=Edge%3A+Too+Many+Requests\n",
      "429 Client Error: Too Many Requests for url: https://query2.finance.yahoo.com/v10/finance/quoteSummary/TCPC?modules=financialData%2CquoteType%2CdefaultKeyStatistics%2CassetProfile%2CsummaryDetail&corsDomain=finance.yahoo.com&formatted=false&symbol=TCPC&crumb=Edge%3A+Too+Many+Requests\n",
      "429 Client Error: Too Many Requests for url: https://query2.finance.yahoo.com/v10/finance/quoteSummary/VTWO?modules=financialData%2CquoteType%2CdefaultKeyStatistics%2CassetProfile%2CsummaryDetail&corsDomain=finance.yahoo.com&formatted=false&symbol=VTWO&crumb=Edge%3A+Too+Many+Requests\n",
      "429 Client Error: Too Many Requests for url: https://query2.finance.yahoo.com/v10/finance/quoteSummary/CRL?modules=financialData%2CquoteType%2CdefaultKeyStatistics%2CassetProfile%2CsummaryDetail&corsDomain=finance.yahoo.com&formatted=false&symbol=CRL&crumb=Edge%3A+Too+Many+Requests\n",
      "429 Client Error: Too Many Requests for url: https://query2.finance.yahoo.com/v10/finance/quoteSummary/GGG?modules=financialData%2CquoteType%2CdefaultKeyStatistics%2CassetProfile%2CsummaryDetail&corsDomain=finance.yahoo.com&formatted=false&symbol=GGG&crumb=Edge%3A+Too+Many+Requests\n",
      "429 Client Error: Too Many Requests for url: https://query2.finance.yahoo.com/v10/finance/quoteSummary/USPH?modules=financialData%2CquoteType%2CdefaultKeyStatistics%2CassetProfile%2CsummaryDetail&corsDomain=finance.yahoo.com&formatted=false&symbol=USPH&crumb=Edge%3A+Too+Many+Requests\n",
      "429 Client Error: Too Many Requests for url: https://query2.finance.yahoo.com/v10/finance/quoteSummary/EFT?modules=financialData%2CquoteType%2CdefaultKeyStatistics%2CassetProfile%2CsummaryDetail&corsDomain=finance.yahoo.com&formatted=false&symbol=EFT&crumb=Edge%3A+Too+Many+Requests\n",
      "429 Client Error: Too Many Requests for url: https://query2.finance.yahoo.com/v10/finance/quoteSummary/IND?modules=financialData%2CquoteType%2CdefaultKeyStatistics%2CassetProfile%2CsummaryDetail&corsDomain=finance.yahoo.com&formatted=false&symbol=IND&crumb=Edge%3A+Too+Many+Requests\n",
      "429 Client Error: Too Many Requests for url: https://query2.finance.yahoo.com/v10/finance/quoteSummary/WDFC?modules=financialData%2CquoteType%2CdefaultKeyStatistics%2CassetProfile%2CsummaryDetail&corsDomain=finance.yahoo.com&formatted=false&symbol=WDFC&crumb=Edge%3A+Too+Many+Requests\n",
      "429 Client Error: Too Many Requests for url: https://query2.finance.yahoo.com/v10/finance/quoteSummary/EML?modules=financialData%2CquoteType%2CdefaultKeyStatistics%2CassetProfile%2CsummaryDetail&corsDomain=finance.yahoo.com&formatted=false&symbol=EML&crumb=Edge%3A+Too+Many+Requests\n",
      "429 Client Error: Too Many Requests for url: https://query2.finance.yahoo.com/v10/finance/quoteSummary/ASTI?modules=financialData%2CquoteType%2CdefaultKeyStatistics%2CassetProfile%2CsummaryDetail&corsDomain=finance.yahoo.com&formatted=false&symbol=ASTI&crumb=Edge%3A+Too+Many+Requests\n",
      "429 Client Error: Too Many Requests for url: https://query2.finance.yahoo.com/v10/finance/quoteSummary/NXP?modules=financialData%2CquoteType%2CdefaultKeyStatistics%2CassetProfile%2CsummaryDetail&corsDomain=finance.yahoo.com&formatted=false&symbol=NXP&crumb=Edge%3A+Too+Many+Requests\n",
      "429 Client Error: Too Many Requests for url: https://query2.finance.yahoo.com/v10/finance/quoteSummary/KIRK?modules=financialData%2CquoteType%2CdefaultKeyStatistics%2CassetProfile%2CsummaryDetail&corsDomain=finance.yahoo.com&formatted=false&symbol=KIRK&crumb=Edge%3A+Too+Many+Requests\n",
      "429 Client Error: Too Many Requests for url: https://query2.finance.yahoo.com/v10/finance/quoteSummary/NX?modules=financialData%2CquoteType%2CdefaultKeyStatistics%2CassetProfile%2CsummaryDetail&corsDomain=finance.yahoo.com&formatted=false&symbol=NX&crumb=Edge%3A+Too+Many+Requests\n",
      "429 Client Error: Too Many Requests for url: https://query2.finance.yahoo.com/v10/finance/quoteSummary/ESLT?modules=financialData%2CquoteType%2CdefaultKeyStatistics%2CassetProfile%2CsummaryDetail&corsDomain=finance.yahoo.com&formatted=false&symbol=ESLT&crumb=Edge%3A+Too+Many+Requests\n",
      "429 Client Error: Too Many Requests for url: https://query2.finance.yahoo.com/v10/finance/quoteSummary/OXM?modules=financialData%2CquoteType%2CdefaultKeyStatistics%2CassetProfile%2CsummaryDetail&corsDomain=finance.yahoo.com&formatted=false&symbol=OXM&crumb=Edge%3A+Too+Many+Requests\n",
      "429 Client Error: Too Many Requests for url: https://query2.finance.yahoo.com/v10/finance/quoteSummary/NATH?modules=financialData%2CquoteType%2CdefaultKeyStatistics%2CassetProfile%2CsummaryDetail&corsDomain=finance.yahoo.com&formatted=false&symbol=NATH&crumb=Edge%3A+Too+Many+Requests\n",
      "429 Client Error: Too Many Requests for url: https://query2.finance.yahoo.com/v10/finance/quoteSummary/AEM?modules=financialData%2CquoteType%2CdefaultKeyStatistics%2CassetProfile%2CsummaryDetail&corsDomain=finance.yahoo.com&formatted=false&symbol=AEM&crumb=Edge%3A+Too+Many+Requests\n",
      "429 Client Error: Too Many Requests for url: https://query2.finance.yahoo.com/v10/finance/quoteSummary/ESS?modules=financialData%2CquoteType%2CdefaultKeyStatistics%2CassetProfile%2CsummaryDetail&corsDomain=finance.yahoo.com&formatted=false&symbol=ESS&crumb=Edge%3A+Too+Many+Requests\n",
      "429 Client Error: Too Many Requests for url: https://query2.finance.yahoo.com/v10/finance/quoteSummary/SLGN?modules=financialData%2CquoteType%2CdefaultKeyStatistics%2CassetProfile%2CsummaryDetail&corsDomain=finance.yahoo.com&formatted=false&symbol=SLGN&crumb=Edge%3A+Too+Many+Requests\n",
      "429 Client Error: Too Many Requests for url: https://query2.finance.yahoo.com/v10/finance/quoteSummary/MTDR?modules=financialData%2CquoteType%2CdefaultKeyStatistics%2CassetProfile%2CsummaryDetail&corsDomain=finance.yahoo.com&formatted=false&symbol=MTDR&crumb=Edge%3A+Too+Many+Requests\n",
      "429 Client Error: Too Many Requests for url: https://query2.finance.yahoo.com/v10/finance/quoteSummary/AXJS?modules=financialData%2CquoteType%2CdefaultKeyStatistics%2CassetProfile%2CsummaryDetail&corsDomain=finance.yahoo.com&formatted=false&symbol=AXJS&crumb=Edge%3A+Too+Many+Requests\n",
      "429 Client Error: Too Many Requests for url: https://query2.finance.yahoo.com/v10/finance/quoteSummary/ALG?modules=financialData%2CquoteType%2CdefaultKeyStatistics%2CassetProfile%2CsummaryDetail&corsDomain=finance.yahoo.com&formatted=false&symbol=ALG&crumb=Edge%3A+Too+Many+Requests\n",
      "429 Client Error: Too Many Requests for url: https://query2.finance.yahoo.com/v10/finance/quoteSummary/MT?modules=financialData%2CquoteType%2CdefaultKeyStatistics%2CassetProfile%2CsummaryDetail&corsDomain=finance.yahoo.com&formatted=false&symbol=MT&crumb=Edge%3A+Too+Many+Requests\n",
      "429 Client Error: Too Many Requests for url: https://query2.finance.yahoo.com/v10/finance/quoteSummary/BHK?modules=financialData%2CquoteType%2CdefaultKeyStatistics%2CassetProfile%2CsummaryDetail&corsDomain=finance.yahoo.com&formatted=false&symbol=BHK&crumb=Edge%3A+Too+Many+Requests\n",
      "429 Client Error: Too Many Requests for url: https://query2.finance.yahoo.com/v10/finance/quoteSummary/APB?modules=financialData%2CquoteType%2CdefaultKeyStatistics%2CassetProfile%2CsummaryDetail&corsDomain=finance.yahoo.com&formatted=false&symbol=APB&crumb=Edge%3A+Too+Many+Requests\n",
      "429 Client Error: Too Many Requests for url: https://query2.finance.yahoo.com/v10/finance/quoteSummary/SONC?modules=financialData%2CquoteType%2CdefaultKeyStatistics%2CassetProfile%2CsummaryDetail&corsDomain=finance.yahoo.com&formatted=false&symbol=SONC&crumb=Edge%3A+Too+Many+Requests\n",
      "429 Client Error: Too Many Requests for url: https://query2.finance.yahoo.com/v10/finance/quoteSummary/ETY?modules=financialData%2CquoteType%2CdefaultKeyStatistics%2CassetProfile%2CsummaryDetail&corsDomain=finance.yahoo.com&formatted=false&symbol=ETY&crumb=Edge%3A+Too+Many+Requests\n",
      "429 Client Error: Too Many Requests for url: https://query2.finance.yahoo.com/v10/finance/quoteSummary/XYL?modules=financialData%2CquoteType%2CdefaultKeyStatistics%2CassetProfile%2CsummaryDetail&corsDomain=finance.yahoo.com&formatted=false&symbol=XYL&crumb=Edge%3A+Too+Many+Requests\n",
      "429 Client Error: Too Many Requests for url: https://query2.finance.yahoo.com/v10/finance/quoteSummary/OPHC?modules=financialData%2CquoteType%2CdefaultKeyStatistics%2CassetProfile%2CsummaryDetail&corsDomain=finance.yahoo.com&formatted=false&symbol=OPHC&crumb=Edge%3A+Too+Many+Requests\n",
      "429 Client Error: Too Many Requests for url: https://query2.finance.yahoo.com/v10/finance/quoteSummary/GGT?modules=financialData%2CquoteType%2CdefaultKeyStatistics%2CassetProfile%2CsummaryDetail&corsDomain=finance.yahoo.com&formatted=false&symbol=GGT&crumb=Edge%3A+Too+Many+Requests\n",
      "429 Client Error: Too Many Requests for url: https://query2.finance.yahoo.com/v10/finance/quoteSummary/BMR?modules=financialData%2CquoteType%2CdefaultKeyStatistics%2CassetProfile%2CsummaryDetail&corsDomain=finance.yahoo.com&formatted=false&symbol=BMR&crumb=Edge%3A+Too+Many+Requests\n",
      "429 Client Error: Too Many Requests for url: https://query2.finance.yahoo.com/v10/finance/quoteSummary/SKS?modules=financialData%2CquoteType%2CdefaultKeyStatistics%2CassetProfile%2CsummaryDetail&corsDomain=finance.yahoo.com&formatted=false&symbol=SKS&crumb=Edge%3A+Too+Many+Requests\n",
      "429 Client Error: Too Many Requests for url: https://query2.finance.yahoo.com/v10/finance/quoteSummary/CALI?modules=financialData%2CquoteType%2CdefaultKeyStatistics%2CassetProfile%2CsummaryDetail&corsDomain=finance.yahoo.com&formatted=false&symbol=CALI&crumb=Edge%3A+Too+Many+Requests\n",
      "429 Client Error: Too Many Requests for url: https://query2.finance.yahoo.com/v10/finance/quoteSummary/HPP?modules=financialData%2CquoteType%2CdefaultKeyStatistics%2CassetProfile%2CsummaryDetail&corsDomain=finance.yahoo.com&formatted=false&symbol=HPP&crumb=Edge%3A+Too+Many+Requests\n",
      "429 Client Error: Too Many Requests for url: https://query2.finance.yahoo.com/v10/finance/quoteSummary/GOODO?modules=financialData%2CquoteType%2CdefaultKeyStatistics%2CassetProfile%2CsummaryDetail&corsDomain=finance.yahoo.com&formatted=false&symbol=GOODO&crumb=Edge%3A+Too+Many+Requests\n",
      "429 Client Error: Too Many Requests for url: https://query2.finance.yahoo.com/v10/finance/quoteSummary/PLBC?modules=financialData%2CquoteType%2CdefaultKeyStatistics%2CassetProfile%2CsummaryDetail&corsDomain=finance.yahoo.com&formatted=false&symbol=PLBC&crumb=Edge%3A+Too+Many+Requests\n",
      "429 Client Error: Too Many Requests for url: https://query2.finance.yahoo.com/v10/finance/quoteSummary/NJR?modules=financialData%2CquoteType%2CdefaultKeyStatistics%2CassetProfile%2CsummaryDetail&corsDomain=finance.yahoo.com&formatted=false&symbol=NJR&crumb=Edge%3A+Too+Many+Requests\n",
      "429 Client Error: Too Many Requests for url: https://query2.finance.yahoo.com/v10/finance/quoteSummary/MTB?modules=financialData%2CquoteType%2CdefaultKeyStatistics%2CassetProfile%2CsummaryDetail&corsDomain=finance.yahoo.com&formatted=false&symbol=MTB&crumb=Edge%3A+Too+Many+Requests\n",
      "429 Client Error: Too Many Requests for url: https://query2.finance.yahoo.com/v10/finance/quoteSummary/SPIL?modules=financialData%2CquoteType%2CdefaultKeyStatistics%2CassetProfile%2CsummaryDetail&corsDomain=finance.yahoo.com&formatted=false&symbol=SPIL&crumb=Edge%3A+Too+Many+Requests\n",
      "429 Client Error: Too Many Requests for url: https://query2.finance.yahoo.com/v10/finance/quoteSummary/ENJ?modules=financialData%2CquoteType%2CdefaultKeyStatistics%2CassetProfile%2CsummaryDetail&corsDomain=finance.yahoo.com&formatted=false&symbol=ENJ&crumb=Edge%3A+Too+Many+Requests\n",
      "429 Client Error: Too Many Requests for url: https://query2.finance.yahoo.com/v10/finance/quoteSummary/SIFY?modules=financialData%2CquoteType%2CdefaultKeyStatistics%2CassetProfile%2CsummaryDetail&corsDomain=finance.yahoo.com&formatted=false&symbol=SIFY&crumb=Edge%3A+Too+Many+Requests\n",
      "429 Client Error: Too Many Requests for url: https://query2.finance.yahoo.com/v10/finance/quoteSummary/ADBE?modules=financialData%2CquoteType%2CdefaultKeyStatistics%2CassetProfile%2CsummaryDetail&corsDomain=finance.yahoo.com&formatted=false&symbol=ADBE&crumb=Edge%3A+Too+Many+Requests\n",
      "429 Client Error: Too Many Requests for url: https://query2.finance.yahoo.com/v10/finance/quoteSummary/JBHT?modules=financialData%2CquoteType%2CdefaultKeyStatistics%2CassetProfile%2CsummaryDetail&corsDomain=finance.yahoo.com&formatted=false&symbol=JBHT&crumb=Edge%3A+Too+Many+Requests\n",
      "429 Client Error: Too Many Requests for url: https://query2.finance.yahoo.com/v10/finance/quoteSummary/TTC?modules=financialData%2CquoteType%2CdefaultKeyStatistics%2CassetProfile%2CsummaryDetail&corsDomain=finance.yahoo.com&formatted=false&symbol=TTC&crumb=Edge%3A+Too+Many+Requests\n",
      "429 Client Error: Too Many Requests for url: https://query2.finance.yahoo.com/v10/finance/quoteSummary/VMBS?modules=financialData%2CquoteType%2CdefaultKeyStatistics%2CassetProfile%2CsummaryDetail&corsDomain=finance.yahoo.com&formatted=false&symbol=VMBS&crumb=Edge%3A+Too+Many+Requests\n",
      "429 Client Error: Too Many Requests for url: https://query2.finance.yahoo.com/v10/finance/quoteSummary/AQU?modules=financialData%2CquoteType%2CdefaultKeyStatistics%2CassetProfile%2CsummaryDetail&corsDomain=finance.yahoo.com&formatted=false&symbol=AQU&crumb=Edge%3A+Too+Many+Requests\n",
      "429 Client Error: Too Many Requests for url: https://query2.finance.yahoo.com/v10/finance/quoteSummary/LOGI?modules=financialData%2CquoteType%2CdefaultKeyStatistics%2CassetProfile%2CsummaryDetail&corsDomain=finance.yahoo.com&formatted=false&symbol=LOGI&crumb=Edge%3A+Too+Many+Requests\n",
      "429 Client Error: Too Many Requests for url: https://query2.finance.yahoo.com/v10/finance/quoteSummary/AMAP?modules=financialData%2CquoteType%2CdefaultKeyStatistics%2CassetProfile%2CsummaryDetail&corsDomain=finance.yahoo.com&formatted=false&symbol=AMAP&crumb=Edge%3A+Too+Many+Requests\n",
      "429 Client Error: Too Many Requests for url: https://query2.finance.yahoo.com/v10/finance/quoteSummary/LAZ?modules=financialData%2CquoteType%2CdefaultKeyStatistics%2CassetProfile%2CsummaryDetail&corsDomain=finance.yahoo.com&formatted=false&symbol=LAZ&crumb=Edge%3A+Too+Many+Requests\n",
      "429 Client Error: Too Many Requests for url: https://query2.finance.yahoo.com/v10/finance/quoteSummary/IRS?modules=financialData%2CquoteType%2CdefaultKeyStatistics%2CassetProfile%2CsummaryDetail&corsDomain=finance.yahoo.com&formatted=false&symbol=IRS&crumb=Edge%3A+Too+Many+Requests\n",
      "429 Client Error: Too Many Requests for url: https://query2.finance.yahoo.com/v10/finance/quoteSummary/HNRG?modules=financialData%2CquoteType%2CdefaultKeyStatistics%2CassetProfile%2CsummaryDetail&corsDomain=finance.yahoo.com&formatted=false&symbol=HNRG&crumb=Edge%3A+Too+Many+Requests\n",
      "429 Client Error: Too Many Requests for url: https://query2.finance.yahoo.com/v10/finance/quoteSummary/GFA?modules=financialData%2CquoteType%2CdefaultKeyStatistics%2CassetProfile%2CsummaryDetail&corsDomain=finance.yahoo.com&formatted=false&symbol=GFA&crumb=Edge%3A+Too+Many+Requests\n",
      "429 Client Error: Too Many Requests for url: https://query2.finance.yahoo.com/v10/finance/quoteSummary/CYCC?modules=financialData%2CquoteType%2CdefaultKeyStatistics%2CassetProfile%2CsummaryDetail&corsDomain=finance.yahoo.com&formatted=false&symbol=CYCC&crumb=Edge%3A+Too+Many+Requests\n",
      "429 Client Error: Too Many Requests for url: https://query2.finance.yahoo.com/v10/finance/quoteSummary/PWOD?modules=financialData%2CquoteType%2CdefaultKeyStatistics%2CassetProfile%2CsummaryDetail&corsDomain=finance.yahoo.com&formatted=false&symbol=PWOD&crumb=Edge%3A+Too+Many+Requests\n",
      "429 Client Error: Too Many Requests for url: https://query2.finance.yahoo.com/v10/finance/quoteSummary/RRC?modules=financialData%2CquoteType%2CdefaultKeyStatistics%2CassetProfile%2CsummaryDetail&corsDomain=finance.yahoo.com&formatted=false&symbol=RRC&crumb=Edge%3A+Too+Many+Requests\n",
      "429 Client Error: Too Many Requests for url: https://query2.finance.yahoo.com/v10/finance/quoteSummary/EMITF?modules=financialData%2CquoteType%2CdefaultKeyStatistics%2CassetProfile%2CsummaryDetail&corsDomain=finance.yahoo.com&formatted=false&symbol=EMITF&crumb=Edge%3A+Too+Many+Requests\n",
      "429 Client Error: Too Many Requests for url: https://query2.finance.yahoo.com/v10/finance/quoteSummary/LSCC?modules=financialData%2CquoteType%2CdefaultKeyStatistics%2CassetProfile%2CsummaryDetail&corsDomain=finance.yahoo.com&formatted=false&symbol=LSCC&crumb=Edge%3A+Too+Many+Requests\n",
      "429 Client Error: Too Many Requests for url: https://query2.finance.yahoo.com/v10/finance/quoteSummary/UNFI?modules=financialData%2CquoteType%2CdefaultKeyStatistics%2CassetProfile%2CsummaryDetail&corsDomain=finance.yahoo.com&formatted=false&symbol=UNFI&crumb=Edge%3A+Too+Many+Requests\n",
      "429 Client Error: Too Many Requests for url: https://query2.finance.yahoo.com/v10/finance/quoteSummary/PDEX?modules=financialData%2CquoteType%2CdefaultKeyStatistics%2CassetProfile%2CsummaryDetail&corsDomain=finance.yahoo.com&formatted=false&symbol=PDEX&crumb=Edge%3A+Too+Many+Requests\n",
      "429 Client Error: Too Many Requests for url: https://query2.finance.yahoo.com/v10/finance/quoteSummary/EXPE?modules=financialData%2CquoteType%2CdefaultKeyStatistics%2CassetProfile%2CsummaryDetail&corsDomain=finance.yahoo.com&formatted=false&symbol=EXPE&crumb=Edge%3A+Too+Many+Requests\n",
      "429 Client Error: Too Many Requests for url: https://query2.finance.yahoo.com/v10/finance/quoteSummary/NBTB?modules=financialData%2CquoteType%2CdefaultKeyStatistics%2CassetProfile%2CsummaryDetail&corsDomain=finance.yahoo.com&formatted=false&symbol=NBTB&crumb=Edge%3A+Too+Many+Requests\n",
      "429 Client Error: Too Many Requests for url: https://query2.finance.yahoo.com/v10/finance/quoteSummary/NASB?modules=financialData%2CquoteType%2CdefaultKeyStatistics%2CassetProfile%2CsummaryDetail&corsDomain=finance.yahoo.com&formatted=false&symbol=NASB&crumb=Edge%3A+Too+Many+Requests\n",
      "429 Client Error: Too Many Requests for url: https://query2.finance.yahoo.com/v10/finance/quoteSummary/TREX?modules=financialData%2CquoteType%2CdefaultKeyStatistics%2CassetProfile%2CsummaryDetail&corsDomain=finance.yahoo.com&formatted=false&symbol=TREX&crumb=Edge%3A+Too+Many+Requests\n",
      "429 Client Error: Too Many Requests for url: https://query2.finance.yahoo.com/v10/finance/quoteSummary/IGT?modules=financialData%2CquoteType%2CdefaultKeyStatistics%2CassetProfile%2CsummaryDetail&corsDomain=finance.yahoo.com&formatted=false&symbol=IGT&crumb=Edge%3A+Too+Many+Requests\n",
      "429 Client Error: Too Many Requests for url: https://query2.finance.yahoo.com/v10/finance/quoteSummary/CHTR?modules=financialData%2CquoteType%2CdefaultKeyStatistics%2CassetProfile%2CsummaryDetail&corsDomain=finance.yahoo.com&formatted=false&symbol=CHTR&crumb=Edge%3A+Too+Many+Requests\n",
      "429 Client Error: Too Many Requests for url: https://query2.finance.yahoo.com/v10/finance/quoteSummary/NSM?modules=financialData%2CquoteType%2CdefaultKeyStatistics%2CassetProfile%2CsummaryDetail&corsDomain=finance.yahoo.com&formatted=false&symbol=NSM&crumb=Edge%3A+Too+Many+Requests\n",
      "429 Client Error: Too Many Requests for url: https://query2.finance.yahoo.com/v10/finance/quoteSummary/G?modules=financialData%2CquoteType%2CdefaultKeyStatistics%2CassetProfile%2CsummaryDetail&corsDomain=finance.yahoo.com&formatted=false&symbol=G&crumb=Edge%3A+Too+Many+Requests\n",
      "429 Client Error: Too Many Requests for url: https://query2.finance.yahoo.com/v10/finance/quoteSummary/RAIL?modules=financialData%2CquoteType%2CdefaultKeyStatistics%2CassetProfile%2CsummaryDetail&corsDomain=finance.yahoo.com&formatted=false&symbol=RAIL&crumb=Edge%3A+Too+Many+Requests\n",
      "429 Client Error: Too Many Requests for url: https://query2.finance.yahoo.com/v10/finance/quoteSummary/MRF?modules=financialData%2CquoteType%2CdefaultKeyStatistics%2CassetProfile%2CsummaryDetail&corsDomain=finance.yahoo.com&formatted=false&symbol=MRF&crumb=Edge%3A+Too+Many+Requests\n",
      "429 Client Error: Too Many Requests for url: https://query2.finance.yahoo.com/v10/finance/quoteSummary/EPD?modules=financialData%2CquoteType%2CdefaultKeyStatistics%2CassetProfile%2CsummaryDetail&corsDomain=finance.yahoo.com&formatted=false&symbol=EPD&crumb=Edge%3A+Too+Many+Requests\n",
      "429 Client Error: Too Many Requests for url: https://query2.finance.yahoo.com/v10/finance/quoteSummary/BTO?modules=financialData%2CquoteType%2CdefaultKeyStatistics%2CassetProfile%2CsummaryDetail&corsDomain=finance.yahoo.com&formatted=false&symbol=BTO&crumb=Edge%3A+Too+Many+Requests\n",
      "429 Client Error: Too Many Requests for url: https://query2.finance.yahoo.com/v10/finance/quoteSummary/AXS?modules=financialData%2CquoteType%2CdefaultKeyStatistics%2CassetProfile%2CsummaryDetail&corsDomain=finance.yahoo.com&formatted=false&symbol=AXS&crumb=Edge%3A+Too+Many+Requests\n",
      "429 Client Error: Too Many Requests for url: https://query2.finance.yahoo.com/v10/finance/quoteSummary/AHL?modules=financialData%2CquoteType%2CdefaultKeyStatistics%2CassetProfile%2CsummaryDetail&corsDomain=finance.yahoo.com&formatted=false&symbol=AHL&crumb=Edge%3A+Too+Many+Requests\n",
      "429 Client Error: Too Many Requests for url: https://query2.finance.yahoo.com/v10/finance/quoteSummary/DOW?modules=financialData%2CquoteType%2CdefaultKeyStatistics%2CassetProfile%2CsummaryDetail&corsDomain=finance.yahoo.com&formatted=false&symbol=DOW&crumb=Edge%3A+Too+Many+Requests\n",
      "429 Client Error: Too Many Requests for url: https://query2.finance.yahoo.com/v10/finance/quoteSummary/CGNX?modules=financialData%2CquoteType%2CdefaultKeyStatistics%2CassetProfile%2CsummaryDetail&corsDomain=finance.yahoo.com&formatted=false&symbol=CGNX&crumb=Edge%3A+Too+Many+Requests\n",
      "429 Client Error: Too Many Requests for url: https://query2.finance.yahoo.com/v10/finance/quoteSummary/STZ?modules=financialData%2CquoteType%2CdefaultKeyStatistics%2CassetProfile%2CsummaryDetail&corsDomain=finance.yahoo.com&formatted=false&symbol=STZ&crumb=Edge%3A+Too+Many+Requests\n",
      "429 Client Error: Too Many Requests for url: https://query2.finance.yahoo.com/v10/finance/quoteSummary/HVT?modules=financialData%2CquoteType%2CdefaultKeyStatistics%2CassetProfile%2CsummaryDetail&corsDomain=finance.yahoo.com&formatted=false&symbol=HVT&crumb=Edge%3A+Too+Many+Requests\n",
      "429 Client Error: Too Many Requests for url: https://query2.finance.yahoo.com/v10/finance/quoteSummary/USB?modules=financialData%2CquoteType%2CdefaultKeyStatistics%2CassetProfile%2CsummaryDetail&corsDomain=finance.yahoo.com&formatted=false&symbol=USB&crumb=Edge%3A+Too+Many+Requests\n",
      "429 Client Error: Too Many Requests for url: https://query2.finance.yahoo.com/v10/finance/quoteSummary/CHKP?modules=financialData%2CquoteType%2CdefaultKeyStatistics%2CassetProfile%2CsummaryDetail&corsDomain=finance.yahoo.com&formatted=false&symbol=CHKP&crumb=Edge%3A+Too+Many+Requests\n",
      "429 Client Error: Too Many Requests for url: https://query2.finance.yahoo.com/v10/finance/quoteSummary/EVR?modules=financialData%2CquoteType%2CdefaultKeyStatistics%2CassetProfile%2CsummaryDetail&corsDomain=finance.yahoo.com&formatted=false&symbol=EVR&crumb=Edge%3A+Too+Many+Requests\n",
      "429 Client Error: Too Many Requests for url: https://query2.finance.yahoo.com/v10/finance/quoteSummary/SSNC?modules=financialData%2CquoteType%2CdefaultKeyStatistics%2CassetProfile%2CsummaryDetail&corsDomain=finance.yahoo.com&formatted=false&symbol=SSNC&crumb=Edge%3A+Too+Many+Requests\n",
      "429 Client Error: Too Many Requests for url: https://query2.finance.yahoo.com/v10/finance/quoteSummary/NAUH?modules=financialData%2CquoteType%2CdefaultKeyStatistics%2CassetProfile%2CsummaryDetail&corsDomain=finance.yahoo.com&formatted=false&symbol=NAUH&crumb=Edge%3A+Too+Many+Requests\n",
      "429 Client Error: Too Many Requests for url: https://query2.finance.yahoo.com/v10/finance/quoteSummary/MRC?modules=financialData%2CquoteType%2CdefaultKeyStatistics%2CassetProfile%2CsummaryDetail&corsDomain=finance.yahoo.com&formatted=false&symbol=MRC&crumb=Edge%3A+Too+Many+Requests\n",
      "429 Client Error: Too Many Requests for url: https://query2.finance.yahoo.com/v10/finance/quoteSummary/CCNE?modules=financialData%2CquoteType%2CdefaultKeyStatistics%2CassetProfile%2CsummaryDetail&corsDomain=finance.yahoo.com&formatted=false&symbol=CCNE&crumb=Edge%3A+Too+Many+Requests\n",
      "429 Client Error: Too Many Requests for url: https://query2.finance.yahoo.com/v10/finance/quoteSummary/QGEN?modules=financialData%2CquoteType%2CdefaultKeyStatistics%2CassetProfile%2CsummaryDetail&corsDomain=finance.yahoo.com&formatted=false&symbol=QGEN&crumb=Edge%3A+Too+Many+Requests\n",
      "429 Client Error: Too Many Requests for url: https://query2.finance.yahoo.com/v10/finance/quoteSummary/LECO?modules=financialData%2CquoteType%2CdefaultKeyStatistics%2CassetProfile%2CsummaryDetail&corsDomain=finance.yahoo.com&formatted=false&symbol=LECO&crumb=Edge%3A+Too+Many+Requests\n",
      "429 Client Error: Too Many Requests for url: https://query2.finance.yahoo.com/v10/finance/quoteSummary/CPN?modules=financialData%2CquoteType%2CdefaultKeyStatistics%2CassetProfile%2CsummaryDetail&corsDomain=finance.yahoo.com&formatted=false&symbol=CPN&crumb=Edge%3A+Too+Many+Requests\n",
      "429 Client Error: Too Many Requests for url: https://query2.finance.yahoo.com/v10/finance/quoteSummary/AIQ?modules=financialData%2CquoteType%2CdefaultKeyStatistics%2CassetProfile%2CsummaryDetail&corsDomain=finance.yahoo.com&formatted=false&symbol=AIQ&crumb=Edge%3A+Too+Many+Requests\n",
      "429 Client Error: Too Many Requests for url: https://query2.finance.yahoo.com/v10/finance/quoteSummary/CHDN?modules=financialData%2CquoteType%2CdefaultKeyStatistics%2CassetProfile%2CsummaryDetail&corsDomain=finance.yahoo.com&formatted=false&symbol=CHDN&crumb=Edge%3A+Too+Many+Requests\n",
      "429 Client Error: Too Many Requests for url: https://query2.finance.yahoo.com/v10/finance/quoteSummary/PB?modules=financialData%2CquoteType%2CdefaultKeyStatistics%2CassetProfile%2CsummaryDetail&corsDomain=finance.yahoo.com&formatted=false&symbol=PB&crumb=Edge%3A+Too+Many+Requests\n",
      "429 Client Error: Too Many Requests for url: https://query2.finance.yahoo.com/v10/finance/quoteSummary/OKE?modules=financialData%2CquoteType%2CdefaultKeyStatistics%2CassetProfile%2CsummaryDetail&corsDomain=finance.yahoo.com&formatted=false&symbol=OKE&crumb=Edge%3A+Too+Many+Requests\n",
      "429 Client Error: Too Many Requests for url: https://query2.finance.yahoo.com/v10/finance/quoteSummary/DNB?modules=financialData%2CquoteType%2CdefaultKeyStatistics%2CassetProfile%2CsummaryDetail&corsDomain=finance.yahoo.com&formatted=false&symbol=DNB&crumb=Edge%3A+Too+Many+Requests\n",
      "429 Client Error: Too Many Requests for url: https://query2.finance.yahoo.com/v10/finance/quoteSummary/GILD?modules=financialData%2CquoteType%2CdefaultKeyStatistics%2CassetProfile%2CsummaryDetail&corsDomain=finance.yahoo.com&formatted=false&symbol=GILD&crumb=Edge%3A+Too+Many+Requests\n",
      "429 Client Error: Too Many Requests for url: https://query2.finance.yahoo.com/v10/finance/quoteSummary/CP?modules=financialData%2CquoteType%2CdefaultKeyStatistics%2CassetProfile%2CsummaryDetail&corsDomain=finance.yahoo.com&formatted=false&symbol=CP&crumb=Edge%3A+Too+Many+Requests\n",
      "429 Client Error: Too Many Requests for url: https://query2.finance.yahoo.com/v10/finance/quoteSummary/GAIA?modules=financialData%2CquoteType%2CdefaultKeyStatistics%2CassetProfile%2CsummaryDetail&corsDomain=finance.yahoo.com&formatted=false&symbol=GAIA&crumb=Edge%3A+Too+Many+Requests\n",
      "429 Client Error: Too Many Requests for url: https://query2.finance.yahoo.com/v10/finance/quoteSummary/CIF?modules=financialData%2CquoteType%2CdefaultKeyStatistics%2CassetProfile%2CsummaryDetail&corsDomain=finance.yahoo.com&formatted=false&symbol=CIF&crumb=Edge%3A+Too+Many+Requests\n",
      "429 Client Error: Too Many Requests for url: https://query2.finance.yahoo.com/v10/finance/quoteSummary/NDLS?modules=financialData%2CquoteType%2CdefaultKeyStatistics%2CassetProfile%2CsummaryDetail&corsDomain=finance.yahoo.com&formatted=false&symbol=NDLS&crumb=Edge%3A+Too+Many+Requests\n",
      "429 Client Error: Too Many Requests for url: https://query2.finance.yahoo.com/v10/finance/quoteSummary/STAG?modules=financialData%2CquoteType%2CdefaultKeyStatistics%2CassetProfile%2CsummaryDetail&corsDomain=finance.yahoo.com&formatted=false&symbol=STAG&crumb=Edge%3A+Too+Many+Requests\n",
      "429 Client Error: Too Many Requests for url: https://query2.finance.yahoo.com/v10/finance/quoteSummary/UFI?modules=financialData%2CquoteType%2CdefaultKeyStatistics%2CassetProfile%2CsummaryDetail&corsDomain=finance.yahoo.com&formatted=false&symbol=UFI&crumb=Edge%3A+Too+Many+Requests\n",
      "429 Client Error: Too Many Requests for url: https://query2.finance.yahoo.com/v10/finance/quoteSummary/AP?modules=financialData%2CquoteType%2CdefaultKeyStatistics%2CassetProfile%2CsummaryDetail&corsDomain=finance.yahoo.com&formatted=false&symbol=AP&crumb=Edge%3A+Too+Many+Requests\n",
      "429 Client Error: Too Many Requests for url: https://query2.finance.yahoo.com/v10/finance/quoteSummary/HAE?modules=financialData%2CquoteType%2CdefaultKeyStatistics%2CassetProfile%2CsummaryDetail&corsDomain=finance.yahoo.com&formatted=false&symbol=HAE&crumb=Edge%3A+Too+Many+Requests\n",
      "429 Client Error: Too Many Requests for url: https://query2.finance.yahoo.com/v10/finance/quoteSummary/PFX?modules=financialData%2CquoteType%2CdefaultKeyStatistics%2CassetProfile%2CsummaryDetail&corsDomain=finance.yahoo.com&formatted=false&symbol=PFX&crumb=Edge%3A+Too+Many+Requests\n",
      "429 Client Error: Too Many Requests for url: https://query2.finance.yahoo.com/v10/finance/quoteSummary/AFCB?modules=financialData%2CquoteType%2CdefaultKeyStatistics%2CassetProfile%2CsummaryDetail&corsDomain=finance.yahoo.com&formatted=false&symbol=AFCB&crumb=Edge%3A+Too+Many+Requests\n",
      "429 Client Error: Too Many Requests for url: https://query2.finance.yahoo.com/v10/finance/quoteSummary/AMRC?modules=financialData%2CquoteType%2CdefaultKeyStatistics%2CassetProfile%2CsummaryDetail&corsDomain=finance.yahoo.com&formatted=false&symbol=AMRC&crumb=Edge%3A+Too+Many+Requests\n",
      "429 Client Error: Too Many Requests for url: https://query2.finance.yahoo.com/v10/finance/quoteSummary/OSUR?modules=financialData%2CquoteType%2CdefaultKeyStatistics%2CassetProfile%2CsummaryDetail&corsDomain=finance.yahoo.com&formatted=false&symbol=OSUR&crumb=Edge%3A+Too+Many+Requests\n",
      "429 Client Error: Too Many Requests for url: https://query2.finance.yahoo.com/v10/finance/quoteSummary/SKM?modules=financialData%2CquoteType%2CdefaultKeyStatistics%2CassetProfile%2CsummaryDetail&corsDomain=finance.yahoo.com&formatted=false&symbol=SKM&crumb=Edge%3A+Too+Many+Requests\n",
      "429 Client Error: Too Many Requests for url: https://query2.finance.yahoo.com/v10/finance/quoteSummary/MEIP?modules=financialData%2CquoteType%2CdefaultKeyStatistics%2CassetProfile%2CsummaryDetail&corsDomain=finance.yahoo.com&formatted=false&symbol=MEIP&crumb=Edge%3A+Too+Many+Requests\n",
      "429 Client Error: Too Many Requests for url: https://query2.finance.yahoo.com/v10/finance/quoteSummary/IFGL?modules=financialData%2CquoteType%2CdefaultKeyStatistics%2CassetProfile%2CsummaryDetail&corsDomain=finance.yahoo.com&formatted=false&symbol=IFGL&crumb=Edge%3A+Too+Many+Requests\n",
      "429 Client Error: Too Many Requests for url: https://query2.finance.yahoo.com/v10/finance/quoteSummary/NKTR?modules=financialData%2CquoteType%2CdefaultKeyStatistics%2CassetProfile%2CsummaryDetail&corsDomain=finance.yahoo.com&formatted=false&symbol=NKTR&crumb=Edge%3A+Too+Many+Requests\n",
      "429 Client Error: Too Many Requests for url: https://query2.finance.yahoo.com/v10/finance/quoteSummary/BLKB?modules=financialData%2CquoteType%2CdefaultKeyStatistics%2CassetProfile%2CsummaryDetail&corsDomain=finance.yahoo.com&formatted=false&symbol=BLKB&crumb=Edge%3A+Too+Many+Requests\n",
      "429 Client Error: Too Many Requests for url: https://query2.finance.yahoo.com/v10/finance/quoteSummary/BLUE?modules=financialData%2CquoteType%2CdefaultKeyStatistics%2CassetProfile%2CsummaryDetail&corsDomain=finance.yahoo.com&formatted=false&symbol=BLUE&crumb=Edge%3A+Too+Many+Requests\n",
      "429 Client Error: Too Many Requests for url: https://query2.finance.yahoo.com/v10/finance/quoteSummary/RPT?modules=financialData%2CquoteType%2CdefaultKeyStatistics%2CassetProfile%2CsummaryDetail&corsDomain=finance.yahoo.com&formatted=false&symbol=RPT&crumb=Edge%3A+Too+Many+Requests\n",
      "429 Client Error: Too Many Requests for url: https://query2.finance.yahoo.com/v10/finance/quoteSummary/MTB.P?modules=financialData%2CquoteType%2CdefaultKeyStatistics%2CassetProfile%2CsummaryDetail&corsDomain=finance.yahoo.com&formatted=false&symbol=MTB.P&crumb=Edge%3A+Too+Many+Requests\n",
      "429 Client Error: Too Many Requests for url: https://query2.finance.yahoo.com/v10/finance/quoteSummary/PNF?modules=financialData%2CquoteType%2CdefaultKeyStatistics%2CassetProfile%2CsummaryDetail&corsDomain=finance.yahoo.com&formatted=false&symbol=PNF&crumb=Edge%3A+Too+Many+Requests\n",
      "429 Client Error: Too Many Requests for url: https://query2.finance.yahoo.com/v10/finance/quoteSummary/QDEL?modules=financialData%2CquoteType%2CdefaultKeyStatistics%2CassetProfile%2CsummaryDetail&corsDomain=finance.yahoo.com&formatted=false&symbol=QDEL&crumb=Edge%3A+Too+Many+Requests\n",
      "429 Client Error: Too Many Requests for url: https://query2.finance.yahoo.com/v10/finance/quoteSummary/CECO?modules=financialData%2CquoteType%2CdefaultKeyStatistics%2CassetProfile%2CsummaryDetail&corsDomain=finance.yahoo.com&formatted=false&symbol=CECO&crumb=Edge%3A+Too+Many+Requests\n",
      "429 Client Error: Too Many Requests for url: https://query2.finance.yahoo.com/v10/finance/quoteSummary/APD?modules=financialData%2CquoteType%2CdefaultKeyStatistics%2CassetProfile%2CsummaryDetail&corsDomain=finance.yahoo.com&formatted=false&symbol=APD&crumb=Edge%3A+Too+Many+Requests\n",
      "429 Client Error: Too Many Requests for url: https://query2.finance.yahoo.com/v10/finance/quoteSummary/ENPH?modules=financialData%2CquoteType%2CdefaultKeyStatistics%2CassetProfile%2CsummaryDetail&corsDomain=finance.yahoo.com&formatted=false&symbol=ENPH&crumb=Edge%3A+Too+Many+Requests\n",
      "429 Client Error: Too Many Requests for url: https://query2.finance.yahoo.com/v10/finance/quoteSummary/ETN?modules=financialData%2CquoteType%2CdefaultKeyStatistics%2CassetProfile%2CsummaryDetail&corsDomain=finance.yahoo.com&formatted=false&symbol=ETN&crumb=Edge%3A+Too+Many+Requests\n",
      "429 Client Error: Too Many Requests for url: https://query2.finance.yahoo.com/v10/finance/quoteSummary/ALX?modules=financialData%2CquoteType%2CdefaultKeyStatistics%2CassetProfile%2CsummaryDetail&corsDomain=finance.yahoo.com&formatted=false&symbol=ALX&crumb=Edge%3A+Too+Many+Requests\n",
      "429 Client Error: Too Many Requests for url: https://query2.finance.yahoo.com/v10/finance/quoteSummary/TCC?modules=financialData%2CquoteType%2CdefaultKeyStatistics%2CassetProfile%2CsummaryDetail&corsDomain=finance.yahoo.com&formatted=false&symbol=TCC&crumb=Edge%3A+Too+Many+Requests\n",
      "429 Client Error: Too Many Requests for url: https://query2.finance.yahoo.com/v10/finance/quoteSummary/NC?modules=financialData%2CquoteType%2CdefaultKeyStatistics%2CassetProfile%2CsummaryDetail&corsDomain=finance.yahoo.com&formatted=false&symbol=NC&crumb=Edge%3A+Too+Many+Requests\n",
      "429 Client Error: Too Many Requests for url: https://query2.finance.yahoo.com/v10/finance/quoteSummary/EMN?modules=financialData%2CquoteType%2CdefaultKeyStatistics%2CassetProfile%2CsummaryDetail&corsDomain=finance.yahoo.com&formatted=false&symbol=EMN&crumb=Edge%3A+Too+Many+Requests\n",
      "429 Client Error: Too Many Requests for url: https://query2.finance.yahoo.com/v10/finance/quoteSummary/COHU?modules=financialData%2CquoteType%2CdefaultKeyStatistics%2CassetProfile%2CsummaryDetail&corsDomain=finance.yahoo.com&formatted=false&symbol=COHU&crumb=Edge%3A+Too+Many+Requests\n",
      "429 Client Error: Too Many Requests for url: https://query2.finance.yahoo.com/v10/finance/quoteSummary/AVAV?modules=financialData%2CquoteType%2CdefaultKeyStatistics%2CassetProfile%2CsummaryDetail&corsDomain=finance.yahoo.com&formatted=false&symbol=AVAV&crumb=Edge%3A+Too+Many+Requests\n",
      "429 Client Error: Too Many Requests for url: https://query2.finance.yahoo.com/v10/finance/quoteSummary/AUDC?modules=financialData%2CquoteType%2CdefaultKeyStatistics%2CassetProfile%2CsummaryDetail&corsDomain=finance.yahoo.com&formatted=false&symbol=AUDC&crumb=Edge%3A+Too+Many+Requests\n",
      "429 Client Error: Too Many Requests for url: https://query2.finance.yahoo.com/v10/finance/quoteSummary/TSN?modules=financialData%2CquoteType%2CdefaultKeyStatistics%2CassetProfile%2CsummaryDetail&corsDomain=finance.yahoo.com&formatted=false&symbol=TSN&crumb=Edge%3A+Too+Many+Requests\n",
      "429 Client Error: Too Many Requests for url: https://query2.finance.yahoo.com/v10/finance/quoteSummary/PCG?modules=financialData%2CquoteType%2CdefaultKeyStatistics%2CassetProfile%2CsummaryDetail&corsDomain=finance.yahoo.com&formatted=false&symbol=PCG&crumb=Edge%3A+Too+Many+Requests\n",
      "429 Client Error: Too Many Requests for url: https://query2.finance.yahoo.com/v10/finance/quoteSummary/GRVY?modules=financialData%2CquoteType%2CdefaultKeyStatistics%2CassetProfile%2CsummaryDetail&corsDomain=finance.yahoo.com&formatted=false&symbol=GRVY&crumb=Edge%3A+Too+Many+Requests\n",
      "429 Client Error: Too Many Requests for url: https://query2.finance.yahoo.com/v10/finance/quoteSummary/DTK?modules=financialData%2CquoteType%2CdefaultKeyStatistics%2CassetProfile%2CsummaryDetail&corsDomain=finance.yahoo.com&formatted=false&symbol=DTK&crumb=Edge%3A+Too+Many+Requests\n",
      "429 Client Error: Too Many Requests for url: https://query2.finance.yahoo.com/v10/finance/quoteSummary/GPC?modules=financialData%2CquoteType%2CdefaultKeyStatistics%2CassetProfile%2CsummaryDetail&corsDomain=finance.yahoo.com&formatted=false&symbol=GPC&crumb=Edge%3A+Too+Many+Requests\n",
      "429 Client Error: Too Many Requests for url: https://query2.finance.yahoo.com/v10/finance/quoteSummary/FCCO?modules=financialData%2CquoteType%2CdefaultKeyStatistics%2CassetProfile%2CsummaryDetail&corsDomain=finance.yahoo.com&formatted=false&symbol=FCCO&crumb=Edge%3A+Too+Many+Requests\n",
      "429 Client Error: Too Many Requests for url: https://query2.finance.yahoo.com/v10/finance/quoteSummary/ACFN?modules=financialData%2CquoteType%2CdefaultKeyStatistics%2CassetProfile%2CsummaryDetail&corsDomain=finance.yahoo.com&formatted=false&symbol=ACFN&crumb=Edge%3A+Too+Many+Requests\n",
      "429 Client Error: Too Many Requests for url: https://query2.finance.yahoo.com/v10/finance/quoteSummary/AIR?modules=financialData%2CquoteType%2CdefaultKeyStatistics%2CassetProfile%2CsummaryDetail&corsDomain=finance.yahoo.com&formatted=false&symbol=AIR&crumb=Edge%3A+Too+Many+Requests\n",
      "429 Client Error: Too Many Requests for url: https://query2.finance.yahoo.com/v10/finance/quoteSummary/DGII?modules=financialData%2CquoteType%2CdefaultKeyStatistics%2CassetProfile%2CsummaryDetail&corsDomain=finance.yahoo.com&formatted=false&symbol=DGII&crumb=Edge%3A+Too+Many+Requests\n",
      "429 Client Error: Too Many Requests for url: https://query2.finance.yahoo.com/v10/finance/quoteSummary/GIGM?modules=financialData%2CquoteType%2CdefaultKeyStatistics%2CassetProfile%2CsummaryDetail&corsDomain=finance.yahoo.com&formatted=false&symbol=GIGM&crumb=Edge%3A+Too+Many+Requests\n",
      "429 Client Error: Too Many Requests for url: https://query2.finance.yahoo.com/v10/finance/quoteSummary/CIS?modules=financialData%2CquoteType%2CdefaultKeyStatistics%2CassetProfile%2CsummaryDetail&corsDomain=finance.yahoo.com&formatted=false&symbol=CIS&crumb=Edge%3A+Too+Many+Requests\n",
      "429 Client Error: Too Many Requests for url: https://query2.finance.yahoo.com/v10/finance/quoteSummary/TMO?modules=financialData%2CquoteType%2CdefaultKeyStatistics%2CassetProfile%2CsummaryDetail&corsDomain=finance.yahoo.com&formatted=false&symbol=TMO&crumb=Edge%3A+Too+Many+Requests\n",
      "429 Client Error: Too Many Requests for url: https://query2.finance.yahoo.com/v10/finance/quoteSummary/ADT?modules=financialData%2CquoteType%2CdefaultKeyStatistics%2CassetProfile%2CsummaryDetail&corsDomain=finance.yahoo.com&formatted=false&symbol=ADT&crumb=Edge%3A+Too+Many+Requests\n",
      "429 Client Error: Too Many Requests for url: https://query2.finance.yahoo.com/v10/finance/quoteSummary/BECN?modules=financialData%2CquoteType%2CdefaultKeyStatistics%2CassetProfile%2CsummaryDetail&corsDomain=finance.yahoo.com&formatted=false&symbol=BECN&crumb=Edge%3A+Too+Many+Requests\n",
      "429 Client Error: Too Many Requests for url: https://query2.finance.yahoo.com/v10/finance/quoteSummary/RGCO?modules=financialData%2CquoteType%2CdefaultKeyStatistics%2CassetProfile%2CsummaryDetail&corsDomain=finance.yahoo.com&formatted=false&symbol=RGCO&crumb=Edge%3A+Too+Many+Requests\n",
      "429 Client Error: Too Many Requests for url: https://query2.finance.yahoo.com/v10/finance/quoteSummary/NIE?modules=financialData%2CquoteType%2CdefaultKeyStatistics%2CassetProfile%2CsummaryDetail&corsDomain=finance.yahoo.com&formatted=false&symbol=NIE&crumb=Edge%3A+Too+Many+Requests\n",
      "429 Client Error: Too Many Requests for url: https://query2.finance.yahoo.com/v10/finance/quoteSummary/ARB?modules=financialData%2CquoteType%2CdefaultKeyStatistics%2CassetProfile%2CsummaryDetail&corsDomain=finance.yahoo.com&formatted=false&symbol=ARB&crumb=Edge%3A+Too+Many+Requests\n",
      "429 Client Error: Too Many Requests for url: https://query2.finance.yahoo.com/v10/finance/quoteSummary/SYT?modules=financialData%2CquoteType%2CdefaultKeyStatistics%2CassetProfile%2CsummaryDetail&corsDomain=finance.yahoo.com&formatted=false&symbol=SYT&crumb=Edge%3A+Too+Many+Requests\n",
      "429 Client Error: Too Many Requests for url: https://query2.finance.yahoo.com/v10/finance/quoteSummary/NURO?modules=financialData%2CquoteType%2CdefaultKeyStatistics%2CassetProfile%2CsummaryDetail&corsDomain=finance.yahoo.com&formatted=false&symbol=NURO&crumb=Edge%3A+Too+Many+Requests\n",
      "429 Client Error: Too Many Requests for url: https://query2.finance.yahoo.com/v10/finance/quoteSummary/BCH?modules=financialData%2CquoteType%2CdefaultKeyStatistics%2CassetProfile%2CsummaryDetail&corsDomain=finance.yahoo.com&formatted=false&symbol=BCH&crumb=Edge%3A+Too+Many+Requests\n",
      "429 Client Error: Too Many Requests for url: https://query2.finance.yahoo.com/v10/finance/quoteSummary/TW?modules=financialData%2CquoteType%2CdefaultKeyStatistics%2CassetProfile%2CsummaryDetail&corsDomain=finance.yahoo.com&formatted=false&symbol=TW&crumb=Edge%3A+Too+Many+Requests\n",
      "429 Client Error: Too Many Requests for url: https://query2.finance.yahoo.com/v10/finance/quoteSummary/LINC?modules=financialData%2CquoteType%2CdefaultKeyStatistics%2CassetProfile%2CsummaryDetail&corsDomain=finance.yahoo.com&formatted=false&symbol=LINC&crumb=Edge%3A+Too+Many+Requests\n",
      "429 Client Error: Too Many Requests for url: https://query2.finance.yahoo.com/v10/finance/quoteSummary/HBIO?modules=financialData%2CquoteType%2CdefaultKeyStatistics%2CassetProfile%2CsummaryDetail&corsDomain=finance.yahoo.com&formatted=false&symbol=HBIO&crumb=Edge%3A+Too+Many+Requests\n",
      "429 Client Error: Too Many Requests for url: https://query2.finance.yahoo.com/v10/finance/quoteSummary/MTH?modules=financialData%2CquoteType%2CdefaultKeyStatistics%2CassetProfile%2CsummaryDetail&corsDomain=finance.yahoo.com&formatted=false&symbol=MTH&crumb=Edge%3A+Too+Many+Requests\n",
      "429 Client Error: Too Many Requests for url: https://query2.finance.yahoo.com/v10/finance/quoteSummary/BP?modules=financialData%2CquoteType%2CdefaultKeyStatistics%2CassetProfile%2CsummaryDetail&corsDomain=finance.yahoo.com&formatted=false&symbol=BP&crumb=Edge%3A+Too+Many+Requests\n",
      "429 Client Error: Too Many Requests for url: https://query2.finance.yahoo.com/v10/finance/quoteSummary/DB?modules=financialData%2CquoteType%2CdefaultKeyStatistics%2CassetProfile%2CsummaryDetail&corsDomain=finance.yahoo.com&formatted=false&symbol=DB&crumb=Edge%3A+Too+Many+Requests\n",
      "429 Client Error: Too Many Requests for url: https://query2.finance.yahoo.com/v10/finance/quoteSummary/UTMD?modules=financialData%2CquoteType%2CdefaultKeyStatistics%2CassetProfile%2CsummaryDetail&corsDomain=finance.yahoo.com&formatted=false&symbol=UTMD&crumb=Edge%3A+Too+Many+Requests\n",
      "429 Client Error: Too Many Requests for url: https://query2.finance.yahoo.com/v10/finance/quoteSummary/CGEN?modules=financialData%2CquoteType%2CdefaultKeyStatistics%2CassetProfile%2CsummaryDetail&corsDomain=finance.yahoo.com&formatted=false&symbol=CGEN&crumb=Edge%3A+Too+Many+Requests\n",
      "429 Client Error: Too Many Requests for url: https://query2.finance.yahoo.com/v10/finance/quoteSummary/PRTA?modules=financialData%2CquoteType%2CdefaultKeyStatistics%2CassetProfile%2CsummaryDetail&corsDomain=finance.yahoo.com&formatted=false&symbol=PRTA&crumb=Edge%3A+Too+Many+Requests\n",
      "429 Client Error: Too Many Requests for url: https://query2.finance.yahoo.com/v10/finance/quoteSummary/GGAL?modules=financialData%2CquoteType%2CdefaultKeyStatistics%2CassetProfile%2CsummaryDetail&corsDomain=finance.yahoo.com&formatted=false&symbol=GGAL&crumb=Edge%3A+Too+Many+Requests\n",
      "429 Client Error: Too Many Requests for url: https://query2.finance.yahoo.com/v10/finance/quoteSummary/CLWT?modules=financialData%2CquoteType%2CdefaultKeyStatistics%2CassetProfile%2CsummaryDetail&corsDomain=finance.yahoo.com&formatted=false&symbol=CLWT&crumb=Edge%3A+Too+Many+Requests\n",
      "429 Client Error: Too Many Requests for url: https://query2.finance.yahoo.com/v10/finance/quoteSummary/SAN?modules=financialData%2CquoteType%2CdefaultKeyStatistics%2CassetProfile%2CsummaryDetail&corsDomain=finance.yahoo.com&formatted=false&symbol=SAN&crumb=Edge%3A+Too+Many+Requests\n",
      "429 Client Error: Too Many Requests for url: https://query2.finance.yahoo.com/v10/finance/quoteSummary/AGI?modules=financialData%2CquoteType%2CdefaultKeyStatistics%2CassetProfile%2CsummaryDetail&corsDomain=finance.yahoo.com&formatted=false&symbol=AGI&crumb=Edge%3A+Too+Many+Requests\n",
      "429 Client Error: Too Many Requests for url: https://query2.finance.yahoo.com/v10/finance/quoteSummary/CROX?modules=financialData%2CquoteType%2CdefaultKeyStatistics%2CassetProfile%2CsummaryDetail&corsDomain=finance.yahoo.com&formatted=false&symbol=CROX&crumb=Edge%3A+Too+Many+Requests\n",
      "429 Client Error: Too Many Requests for url: https://query2.finance.yahoo.com/v10/finance/quoteSummary/INFY?modules=financialData%2CquoteType%2CdefaultKeyStatistics%2CassetProfile%2CsummaryDetail&corsDomain=finance.yahoo.com&formatted=false&symbol=INFY&crumb=Edge%3A+Too+Many+Requests\n",
      "429 Client Error: Too Many Requests for url: https://query2.finance.yahoo.com/v10/finance/quoteSummary/FMNB?modules=financialData%2CquoteType%2CdefaultKeyStatistics%2CassetProfile%2CsummaryDetail&corsDomain=finance.yahoo.com&formatted=false&symbol=FMNB&crumb=Edge%3A+Too+Many+Requests\n"
     ]
    },
    {
     "name": "stdout",
     "output_type": "stream",
     "text": [
      "Saved training data with 819105 rows\n"
     ]
    }
   ],
   "source": [
    "tickers = pd.read_csv(testFolder / 'tickers.csv')['Ticker']\n",
    "trainingTickers = np.random.choice(tickers, size=trainingSize, replace=False)\n",
    "\n",
    "if getNewData:\n",
    "    histData = pd.DataFrame()\n",
    "    valid_tickers = []\n",
    "    \n",
    "    for ticker in trainingTickers:\n",
    "        print(f\"Processing {ticker}...\")\n",
    "        data = calculateFutureYearChange(ticker, timeFrame)\n",
    "        if not data.empty:\n",
    "            data['Ticker'] = ticker\n",
    "            data['Industry'] = yf.Ticker(ticker).info.get('industry', 'Unknown')\n",
    "            data['Date'] = pd.to_datetime(data['Date']).dt.tz_localize(None)\n",
    "            \n",
    "            # Enrich individual ticker data first\n",
    "            ticker_data = enrichDataWithMetrics(data)\n",
    "            histData = pd.concat([histData, ticker_data])\n",
    "            \n",
    "            # Check if metrics were added\n",
    "            if 'ROIC' not in ticker_data.columns:\n",
    "                print(f\"WARNING: Failed to add metrics for {ticker}\")\n",
    "            \n",
    "            valid_tickers.append(ticker)\n",
    "        else:\n",
    "            print(f\"Skipped {ticker} - insufficient data\")\n",
    "\n",
    "    print(f\"\\nColumns in final dataset: {histData.columns.tolist()}\")\n",
    "    \n",
    "    if not histData.empty:\n",
    "        histData = enrichDataWithMetrics(histData)\n",
    "        histData.to_csv(dataFolder / trainingData, index=True)\n",
    "        # Verify no future targets leaked to past dates\n",
    "        latest_date = pd.to_datetime(histData['Date']).max()\n",
    "        if 'Future Year Change' in histData.columns:\n",
    "            target_dates = histData[histData['Future Year Change'].notnull()]['Date']\n",
    "            if any(pd.to_datetime(target_dates) > latest_date):\n",
    "                raise ValueError(\"CRITICAL: Analyst targets contain future dates!\")\n",
    "        print(f\"Saved training data with {len(histData)} rows\")\n",
    "    else:\n",
    "        print(\"Warning: No data collected - check your tickers list\")"
   ]
  },
  {
   "cell_type": "markdown",
   "metadata": {},
   "source": [
    "## Model Training"
   ]
  },
  {
   "cell_type": "code",
   "execution_count": 10,
   "metadata": {},
   "outputs": [],
   "source": [
    "if trainNewModel:\n",
    "    TRAINING_CUTOFF = pd.to_datetime('2023-01-01')\n",
    "\n",
    "    df = pd.read_csv(dataFolder / trainingData)\n",
    "    dfCleaned = df.dropna(subset=['EV/EBIT', 'ROIC']).copy()\n",
    "\n",
    "    # Convert 'Date' to datetime, parse UTC-aware dates, then make naive\n",
    "    dfCleaned['Date'] = pd.to_datetime(dfCleaned['Date'], errors='coerce', utc=True).dt.tz_convert(None)\n",
    "    dfCleaned = dfCleaned.dropna(subset=['Date'])\n",
    "\n",
    "    # Clean 'EV/EBIT' and reset index\n",
    "    dfCleaned['EV/EBIT'] = dfCleaned['EV/EBIT'].replace([np.inf, -np.inf], np.nan)\n",
    "    dfCleaned = dfCleaned.dropna(subset=['EV/EBIT', 'ROIC'])\n",
    "    dfCleaned = dfCleaned.reset_index(drop=True)\n",
    "    dfCleaned.to_csv(dataFolder / trainingData, index=False)\n",
    "\n",
    "    # Check for empty data\n",
    "    if dfCleaned.empty:\n",
    "        raise ValueError(\"The cleaned DataFrame is empty.\")\n",
    "\n",
    "    # Create splits with valid indices\n",
    "    train_mask = dfCleaned['Date'] < TRAINING_CUTOFF\n",
    "    valid_mask = ~train_mask\n",
    "    splits = (list(dfCleaned[train_mask].index), list(dfCleaned[valid_mask].index))\n",
    "\n",
    "    if not splits[0] or not splits[1]:\n",
    "        raise ValueError(\"Empty training or validation split.\")\n",
    "\n",
    "    # Proceed with TabularPandas\n",
    "    to = TabularPandas(\n",
    "        dfCleaned, \n",
    "        procs=[Categorify, FillMissing, Normalize],\n",
    "        y_names=yNames,\n",
    "        cat_names=catNames, \n",
    "        cont_names=contNames,\n",
    "        splits=splits\n",
    "    )\n",
    "\n",
    "    dls = to.dataloaders(bs=batchSize)"
   ]
  },
  {
   "cell_type": "code",
   "execution_count": 11,
   "metadata": {},
   "outputs": [
    {
     "data": {
      "text/html": [
       "\n",
       "<style>\n",
       "    /* Turns off some styling */\n",
       "    progress {\n",
       "        /* gets rid of default border in Firefox and Opera. */\n",
       "        border: none;\n",
       "        /* Needs to be in here for Safari polyfill so background images work as expected. */\n",
       "        background-size: auto;\n",
       "    }\n",
       "    progress:not([value]), progress:not([value])::-webkit-progress-bar {\n",
       "        background: repeating-linear-gradient(45deg, #7e7e7e, #7e7e7e 10px, #5c5c5c 10px, #5c5c5c 20px);\n",
       "    }\n",
       "    .progress-bar-interrupted, .progress-bar-interrupted::-webkit-progress-bar {\n",
       "        background: #F44336;\n",
       "    }\n",
       "</style>\n"
      ],
      "text/plain": [
       "<IPython.core.display.HTML object>"
      ]
     },
     "metadata": {},
     "output_type": "display_data"
    },
    {
     "data": {
      "text/html": [],
      "text/plain": [
       "<IPython.core.display.HTML object>"
      ]
     },
     "metadata": {},
     "output_type": "display_data"
    },
    {
     "name": "stdout",
     "output_type": "stream",
     "text": [
      "Learning rate finder results: lr_min=0.0007585775572806596, lr_steep=6.309573450380412e-07\n",
      "Training for 25 epochs...\n"
     ]
    },
    {
     "name": "stderr",
     "output_type": "stream",
     "text": [
      "c:\\Users\\Gamer\\miniconda3\\Lib\\site-packages\\fastai\\learner.py:53: FutureWarning: You are using `torch.load` with `weights_only=False` (the current default value), which uses the default pickle module implicitly. It is possible to construct malicious pickle data which will execute arbitrary code during unpickling (See https://github.com/pytorch/pytorch/blob/main/SECURITY.md#untrusted-models for more details). In a future release, the default value for `weights_only` will be flipped to `True`. This limits the functions that could be executed during unpickling. Arbitrary objects will no longer be allowed to be loaded via this mode unless they are explicitly allowlisted by the user via `torch.serialization.add_safe_globals`. We recommend you start setting `weights_only=True` for any use case where you don't have full control of the loaded file. Please open an issue on GitHub for any issues related to this experimental feature.\n",
      "  state = torch.load(file, map_location=device, **torch_load_kwargs)\n"
     ]
    },
    {
     "data": {
      "text/html": [
       "\n",
       "<style>\n",
       "    /* Turns off some styling */\n",
       "    progress {\n",
       "        /* gets rid of default border in Firefox and Opera. */\n",
       "        border: none;\n",
       "        /* Needs to be in here for Safari polyfill so background images work as expected. */\n",
       "        background-size: auto;\n",
       "    }\n",
       "    progress:not([value]), progress:not([value])::-webkit-progress-bar {\n",
       "        background: repeating-linear-gradient(45deg, #7e7e7e, #7e7e7e 10px, #5c5c5c 10px, #5c5c5c 20px);\n",
       "    }\n",
       "    .progress-bar-interrupted, .progress-bar-interrupted::-webkit-progress-bar {\n",
       "        background: #F44336;\n",
       "    }\n",
       "</style>\n"
      ],
      "text/plain": [
       "<IPython.core.display.HTML object>"
      ]
     },
     "metadata": {},
     "output_type": "display_data"
    },
    {
     "data": {
      "text/html": [
       "<table border=\"1\" class=\"dataframe\">\n",
       "  <thead>\n",
       "    <tr style=\"text-align: left;\">\n",
       "      <th>epoch</th>\n",
       "      <th>train_loss</th>\n",
       "      <th>valid_loss</th>\n",
       "      <th>_rmse</th>\n",
       "      <th>mae</th>\n",
       "      <th>time</th>\n",
       "    </tr>\n",
       "  </thead>\n",
       "  <tbody>\n",
       "    <tr>\n",
       "      <td>0</td>\n",
       "      <td>0.695950</td>\n",
       "      <td>61.551247</td>\n",
       "      <td>7.845458</td>\n",
       "      <td>0.455569</td>\n",
       "      <td>00:23</td>\n",
       "    </tr>\n",
       "    <tr>\n",
       "      <td>1</td>\n",
       "      <td>0.461075</td>\n",
       "      <td>2.119040</td>\n",
       "      <td>1.455692</td>\n",
       "      <td>0.395753</td>\n",
       "      <td>00:23</td>\n",
       "    </tr>\n",
       "    <tr>\n",
       "      <td>2</td>\n",
       "      <td>0.604823</td>\n",
       "      <td>12.091806</td>\n",
       "      <td>3.477326</td>\n",
       "      <td>0.415570</td>\n",
       "      <td>00:23</td>\n",
       "    </tr>\n",
       "    <tr>\n",
       "      <td>3</td>\n",
       "      <td>0.493418</td>\n",
       "      <td>1.886043</td>\n",
       "      <td>1.373333</td>\n",
       "      <td>0.397088</td>\n",
       "      <td>00:23</td>\n",
       "    </tr>\n",
       "    <tr>\n",
       "      <td>4</td>\n",
       "      <td>0.577590</td>\n",
       "      <td>184.478241</td>\n",
       "      <td>13.582279</td>\n",
       "      <td>0.488160</td>\n",
       "      <td>00:23</td>\n",
       "    </tr>\n",
       "    <tr>\n",
       "      <td>5</td>\n",
       "      <td>0.538902</td>\n",
       "      <td>3.917409</td>\n",
       "      <td>1.979244</td>\n",
       "      <td>0.407072</td>\n",
       "      <td>00:23</td>\n",
       "    </tr>\n",
       "    <tr>\n",
       "      <td>6</td>\n",
       "      <td>0.426687</td>\n",
       "      <td>5.695159</td>\n",
       "      <td>2.386453</td>\n",
       "      <td>0.403157</td>\n",
       "      <td>00:23</td>\n",
       "    </tr>\n",
       "    <tr>\n",
       "      <td>7</td>\n",
       "      <td>0.542951</td>\n",
       "      <td>1.899507</td>\n",
       "      <td>1.378226</td>\n",
       "      <td>0.397213</td>\n",
       "      <td>00:23</td>\n",
       "    </tr>\n",
       "    <tr>\n",
       "      <td>8</td>\n",
       "      <td>0.498280</td>\n",
       "      <td>2.880271</td>\n",
       "      <td>1.697136</td>\n",
       "      <td>0.398125</td>\n",
       "      <td>00:23</td>\n",
       "    </tr>\n",
       "    <tr>\n",
       "      <td>9</td>\n",
       "      <td>0.585161</td>\n",
       "      <td>44.865868</td>\n",
       "      <td>6.698198</td>\n",
       "      <td>0.433458</td>\n",
       "      <td>00:23</td>\n",
       "    </tr>\n",
       "    <tr>\n",
       "      <td>10</td>\n",
       "      <td>0.591225</td>\n",
       "      <td>2.452012</td>\n",
       "      <td>1.565890</td>\n",
       "      <td>0.402107</td>\n",
       "      <td>00:23</td>\n",
       "    </tr>\n",
       "    <tr>\n",
       "      <td>11</td>\n",
       "      <td>0.528989</td>\n",
       "      <td>2.289101</td>\n",
       "      <td>1.512978</td>\n",
       "      <td>0.398442</td>\n",
       "      <td>00:23</td>\n",
       "    </tr>\n",
       "    <tr>\n",
       "      <td>12</td>\n",
       "      <td>0.412120</td>\n",
       "      <td>2.219028</td>\n",
       "      <td>1.489640</td>\n",
       "      <td>0.397450</td>\n",
       "      <td>00:22</td>\n",
       "    </tr>\n",
       "    <tr>\n",
       "      <td>13</td>\n",
       "      <td>0.460149</td>\n",
       "      <td>2.170998</td>\n",
       "      <td>1.473431</td>\n",
       "      <td>0.393801</td>\n",
       "      <td>00:23</td>\n",
       "    </tr>\n",
       "    <tr>\n",
       "      <td>14</td>\n",
       "      <td>0.386326</td>\n",
       "      <td>5.797099</td>\n",
       "      <td>2.407717</td>\n",
       "      <td>0.403520</td>\n",
       "      <td>00:23</td>\n",
       "    </tr>\n",
       "    <tr>\n",
       "      <td>15</td>\n",
       "      <td>0.537023</td>\n",
       "      <td>2.073983</td>\n",
       "      <td>1.440133</td>\n",
       "      <td>0.393694</td>\n",
       "      <td>00:23</td>\n",
       "    </tr>\n",
       "    <tr>\n",
       "      <td>16</td>\n",
       "      <td>0.533610</td>\n",
       "      <td>1.904596</td>\n",
       "      <td>1.380071</td>\n",
       "      <td>0.387553</td>\n",
       "      <td>00:27</td>\n",
       "    </tr>\n",
       "    <tr>\n",
       "      <td>17</td>\n",
       "      <td>0.424965</td>\n",
       "      <td>2.351311</td>\n",
       "      <td>1.533399</td>\n",
       "      <td>0.394129</td>\n",
       "      <td>00:24</td>\n",
       "    </tr>\n",
       "    <tr>\n",
       "      <td>18</td>\n",
       "      <td>0.604528</td>\n",
       "      <td>2.222691</td>\n",
       "      <td>1.490869</td>\n",
       "      <td>0.394706</td>\n",
       "      <td>00:26</td>\n",
       "    </tr>\n",
       "    <tr>\n",
       "      <td>19</td>\n",
       "      <td>0.511204</td>\n",
       "      <td>2.060241</td>\n",
       "      <td>1.435354</td>\n",
       "      <td>0.391246</td>\n",
       "      <td>00:23</td>\n",
       "    </tr>\n",
       "    <tr>\n",
       "      <td>20</td>\n",
       "      <td>0.543458</td>\n",
       "      <td>29968.125000</td>\n",
       "      <td>173.113190</td>\n",
       "      <td>1.539613</td>\n",
       "      <td>00:23</td>\n",
       "    </tr>\n",
       "    <tr>\n",
       "      <td>21</td>\n",
       "      <td>0.511216</td>\n",
       "      <td>7.509324</td>\n",
       "      <td>2.740314</td>\n",
       "      <td>0.406934</td>\n",
       "      <td>00:23</td>\n",
       "    </tr>\n",
       "    <tr>\n",
       "      <td>22</td>\n",
       "      <td>0.453089</td>\n",
       "      <td>8.301210</td>\n",
       "      <td>2.881182</td>\n",
       "      <td>0.410665</td>\n",
       "      <td>00:24</td>\n",
       "    </tr>\n",
       "    <tr>\n",
       "      <td>23</td>\n",
       "      <td>0.454194</td>\n",
       "      <td>24.759010</td>\n",
       "      <td>4.975842</td>\n",
       "      <td>0.428026</td>\n",
       "      <td>00:23</td>\n",
       "    </tr>\n",
       "    <tr>\n",
       "      <td>24</td>\n",
       "      <td>0.482281</td>\n",
       "      <td>1.903077</td>\n",
       "      <td>1.379520</td>\n",
       "      <td>0.392764</td>\n",
       "      <td>00:23</td>\n",
       "    </tr>\n",
       "  </tbody>\n",
       "</table>"
      ],
      "text/plain": [
       "<IPython.core.display.HTML object>"
      ]
     },
     "metadata": {},
     "output_type": "display_data"
    },
    {
     "name": "stdout",
     "output_type": "stream",
     "text": [
      "Model training complete\n"
     ]
    },
    {
     "data": {
      "image/png": "[encoded data removed]",
      "text/plain": [
       "<Figure size 640x480 with 1 Axes>"
      ]
     },
     "metadata": {},
     "output_type": "display_data"
    }
   ],
   "source": [
    "if trainNewModel:\n",
    "    learn = tabular_learner(dls, metrics=[rmse, mae])\n",
    "\n",
    "    # Learning rate finder\n",
    "    lr_min, lr_steep = learn.lr_find(suggest_funcs=(minimum, steep))\n",
    "\n",
    "    # Debugging information\n",
    "    print(f\"Learning rate finder results: lr_min={lr_min}, lr_steep={lr_steep}\")\n",
    "\n",
    "    # Check if learning rates are valid\n",
    "    if lr_min is None or lr_steep is None:\n",
    "        raise ValueError(\"Learning rate finder did not return valid learning rates.\")\n",
    "\n",
    "    # Train\n",
    "    print(f\"Training for {epochs} epochs...\")\n",
    "    learn.fit_one_cycle(epochs, lr_max=lr_steep)\n",
    "    print(\"Model training complete\")\n",
    "\n",
    "    learn.export(modelFolder / f'{modelName}.pkl')"
   ]
  },
  {
   "cell_type": "markdown",
   "metadata": {},
   "source": [
    "## Testing and benchmarking"
   ]
  },
  {
   "cell_type": "code",
   "execution_count": 12,
   "metadata": {},
   "outputs": [
    {
     "name": "stderr",
     "output_type": "stream",
     "text": [
      "$HNT: possibly delisted; no price data found  (1d 2023-12-28 -> 2024-01-27)\n",
      "$FONE: possibly delisted; no price data found  (1d 2023-12-28 -> 2024-01-27)\n"
     ]
    },
    {
     "name": "stdout",
     "output_type": "stream",
     "text": [
      "Error fetching data for HNT: No historical data available for HNT around 2024-01-27.\n",
      "Error fetching data for FONE: No historical data available for FONE around 2024-01-27.\n"
     ]
    },
    {
     "name": "stderr",
     "output_type": "stream",
     "text": [
      "$VLCCF: possibly delisted; no price data found  (1d 2023-12-28 -> 2024-01-27)\n"
     ]
    },
    {
     "name": "stdout",
     "output_type": "stream",
     "text": [
      "Error fetching data for VLCCF: No historical data available for VLCCF around 2024-01-27.\n"
     ]
    },
    {
     "name": "stderr",
     "output_type": "stream",
     "text": [
      "$SNHN: possibly delisted; no timezone found\n"
     ]
    },
    {
     "name": "stdout",
     "output_type": "stream",
     "text": [
      "Error fetching data for SNHN: No historical data available for SNHN around 2024-01-27.\n"
     ]
    },
    {
     "name": "stderr",
     "output_type": "stream",
     "text": [
      "$ATRI: possibly delisted; no timezone found\n",
      "$PCCC: possibly delisted; no price data found  (1d 2023-12-28 -> 2024-01-27)\n"
     ]
    },
    {
     "name": "stdout",
     "output_type": "stream",
     "text": [
      "Error fetching data for ATRI: No historical data available for ATRI around 2024-01-27.\n",
      "Error fetching data for PCCC: No historical data available for PCCC around 2024-01-27.\n"
     ]
    },
    {
     "name": "stderr",
     "output_type": "stream",
     "text": [
      "$CTZ-A: possibly delisted; no timezone found\n",
      "$ALOG: possibly delisted; no price data found  (1d 2023-12-28 -> 2024-01-27)\n"
     ]
    },
    {
     "name": "stdout",
     "output_type": "stream",
     "text": [
      "Error fetching data for CTZ-A: No historical data available for CTZ-A around 2024-01-27.\n",
      "Error fetching data for ALOG: No historical data available for ALOG around 2024-01-27.\n"
     ]
    },
    {
     "name": "stderr",
     "output_type": "stream",
     "text": [
      "$PBI-B: possibly delisted; no timezone found\n"
     ]
    },
    {
     "name": "stdout",
     "output_type": "stream",
     "text": [
      "Error fetching data for PBI-B: No historical data available for PBI-B around 2024-01-27.\n"
     ]
    },
    {
     "name": "stderr",
     "output_type": "stream",
     "text": [
      "$FRAN: possibly delisted; no timezone found\n"
     ]
    },
    {
     "name": "stdout",
     "output_type": "stream",
     "text": [
      "Error fetching data for FRAN: No historical data available for FRAN around 2024-01-27.\n"
     ]
    },
    {
     "name": "stderr",
     "output_type": "stream",
     "text": [
      "$ATVI: possibly delisted; no timezone found\n"
     ]
    },
    {
     "name": "stdout",
     "output_type": "stream",
     "text": [
      "Error fetching data for ATVI: No historical data available for ATVI around 2024-01-27.\n"
     ]
    },
    {
     "name": "stderr",
     "output_type": "stream",
     "text": [
      "$MBRG: possibly delisted; no price data found  (1d 2023-12-28 -> 2024-01-27)\n"
     ]
    },
    {
     "name": "stdout",
     "output_type": "stream",
     "text": [
      "Error fetching data for MBRG: No historical data available for MBRG around 2024-01-27.\n"
     ]
    },
    {
     "name": "stderr",
     "output_type": "stream",
     "text": [
      "$ABC: possibly delisted; no timezone found\n"
     ]
    },
    {
     "name": "stdout",
     "output_type": "stream",
     "text": [
      "Error fetching data for ABC: No historical data available for ABC around 2024-01-27.\n"
     ]
    },
    {
     "name": "stderr",
     "output_type": "stream",
     "text": [
      "$HBA-D: possibly delisted; no timezone found\n"
     ]
    },
    {
     "name": "stdout",
     "output_type": "stream",
     "text": [
      "Error fetching data for HBA-D: No historical data available for HBA-D around 2024-01-27.\n"
     ]
    },
    {
     "name": "stderr",
     "output_type": "stream",
     "text": [
      "$ABFS: possibly delisted; no price data found  (1d 2023-12-28 -> 2024-01-27)\n"
     ]
    },
    {
     "name": "stdout",
     "output_type": "stream",
     "text": [
      "Error fetching data for ABFS: No historical data available for ABFS around 2024-01-27.\n"
     ]
    },
    {
     "name": "stderr",
     "output_type": "stream",
     "text": [
      "$NVGN: possibly delisted; no price data found  (1d 2023-12-28 -> 2024-01-27)\n"
     ]
    },
    {
     "name": "stdout",
     "output_type": "stream",
     "text": [
      "Error fetching data for NVGN: No historical data available for NVGN around 2024-01-27.\n"
     ]
    },
    {
     "name": "stderr",
     "output_type": "stream",
     "text": [
      "$MFI: possibly delisted; no price data found  (1d 2023-12-28 -> 2024-01-27) (Yahoo error = \"Data doesn't exist for startDate = 1703739600, endDate = 1706331600\")\n"
     ]
    },
    {
     "name": "stdout",
     "output_type": "stream",
     "text": [
      "Error fetching data for MFI: No historical data available for MFI around 2024-01-27.\n"
     ]
    },
    {
     "name": "stderr",
     "output_type": "stream",
     "text": [
      "$GPE-A: possibly delisted; no timezone found\n"
     ]
    },
    {
     "name": "stdout",
     "output_type": "stream",
     "text": [
      "Error fetching data for GPE-A: No historical data available for GPE-A around 2024-01-27.\n"
     ]
    },
    {
     "name": "stderr",
     "output_type": "stream",
     "text": [
      "$IBTX: possibly delisted; no price data found  (period=1d)\n"
     ]
    },
    {
     "name": "stdout",
     "output_type": "stream",
     "text": [
      "Error fetching data for IBTX: single positional indexer is out-of-bounds\n"
     ]
    },
    {
     "name": "stderr",
     "output_type": "stream",
     "text": [
      "$MFB: possibly delisted; no price data found  (1d 2023-12-28 -> 2024-01-27)\n"
     ]
    },
    {
     "name": "stdout",
     "output_type": "stream",
     "text": [
      "Error fetching data for MFB: No historical data available for MFB around 2024-01-27.\n"
     ]
    },
    {
     "name": "stderr",
     "output_type": "stream",
     "text": [
      "$TI.A: possibly delisted; no timezone found\n",
      "$HFFC: possibly delisted; no price data found  (1d 2023-12-28 -> 2024-01-27)\n",
      "$RNE: possibly delisted; no price data found  (1d 2023-12-28 -> 2024-01-27)\n"
     ]
    },
    {
     "name": "stdout",
     "output_type": "stream",
     "text": [
      "Error fetching data for TI.A: No historical data available for TI.A around 2024-01-27.\n",
      "Error fetching data for HFFC: No historical data available for HFFC around 2024-01-27.\n",
      "Error fetching data for RNE: No historical data available for RNE around 2024-01-27.\n"
     ]
    },
    {
     "name": "stderr",
     "output_type": "stream",
     "text": [
      "$ARMH: possibly delisted; no price data found  (1d 2023-12-28 -> 2024-01-27)\n"
     ]
    },
    {
     "name": "stdout",
     "output_type": "stream",
     "text": [
      "Error fetching data for ARMH: No historical data available for ARMH around 2024-01-27.\n"
     ]
    },
    {
     "name": "stderr",
     "output_type": "stream",
     "text": [
      "$RADA: possibly delisted; no timezone found\n"
     ]
    },
    {
     "name": "stdout",
     "output_type": "stream",
     "text": [
      "Error fetching data for RADA: No historical data available for RADA around 2024-01-27.\n"
     ]
    },
    {
     "name": "stderr",
     "output_type": "stream",
     "text": [
      "$NYLD: possibly delisted; no price data found  (1d 2023-12-28 -> 2024-01-27)\n"
     ]
    },
    {
     "name": "stdout",
     "output_type": "stream",
     "text": [
      "Error fetching data for NYLD: No historical data available for NYLD around 2024-01-27.\n"
     ]
    },
    {
     "name": "stderr",
     "output_type": "stream",
     "text": [
      "$HTGY: possibly delisted; no timezone found\n",
      "$BCA: possibly delisted; no price data found  (1d 2023-12-28 -> 2024-01-27)\n",
      "$KMP: possibly delisted; no price data found  (1d 2023-12-28 -> 2024-01-27)\n"
     ]
    },
    {
     "name": "stdout",
     "output_type": "stream",
     "text": [
      "Error fetching data for HTGY: No historical data available for HTGY around 2024-01-27.\n",
      "Error fetching data for BCA: No historical data available for BCA around 2024-01-27.\n",
      "Error fetching data for KMP: No historical data available for KMP around 2024-01-27.\n"
     ]
    },
    {
     "name": "stderr",
     "output_type": "stream",
     "text": [
      "$HIH: possibly delisted; no price data found  (1d 2023-12-28 -> 2024-01-27)\n"
     ]
    },
    {
     "name": "stdout",
     "output_type": "stream",
     "text": [
      "Error fetching data for HIH: No historical data available for HIH around 2024-01-27.\n"
     ]
    },
    {
     "name": "stderr",
     "output_type": "stream",
     "text": [
      "$PWX: possibly delisted; no price data found  (1d 2023-12-28 -> 2024-01-27)\n"
     ]
    },
    {
     "name": "stdout",
     "output_type": "stream",
     "text": [
      "Error fetching data for PWX: No historical data available for PWX around 2024-01-27.\n"
     ]
    },
    {
     "name": "stderr",
     "output_type": "stream",
     "text": [
      "$TEU-C: possibly delisted; no timezone found\n"
     ]
    },
    {
     "name": "stdout",
     "output_type": "stream",
     "text": [
      "Error fetching data for TEU-C: No historical data available for TEU-C around 2024-01-27.\n"
     ]
    },
    {
     "name": "stderr",
     "output_type": "stream",
     "text": [
      "$GTN.A: possibly delisted; no timezone found\n"
     ]
    },
    {
     "name": "stdout",
     "output_type": "stream",
     "text": [
      "Error fetching data for GTN.A: No historical data available for GTN.A around 2024-01-27.\n"
     ]
    },
    {
     "name": "stderr",
     "output_type": "stream",
     "text": [
      "$AIRM: possibly delisted; no price data found  (1d 2023-12-28 -> 2024-01-27)\n",
      "$BCSB: possibly delisted; no price data found  (1d 2023-12-28 -> 2024-01-27)\n",
      "$RLD: possibly delisted; no price data found  (1d 2023-12-28 -> 2024-01-27)\n"
     ]
    },
    {
     "name": "stdout",
     "output_type": "stream",
     "text": [
      "Error fetching data for AIRM: No historical data available for AIRM around 2024-01-27.\n",
      "Error fetching data for BCSB: No historical data available for BCSB around 2024-01-27.\n",
      "Error fetching data for RLD: No historical data available for RLD around 2024-01-27.\n"
     ]
    },
    {
     "name": "stderr",
     "output_type": "stream",
     "text": [
      "$MICT: possibly delisted; no timezone found\n",
      "$CPLA: possibly delisted; no price data found  (1d 2023-12-28 -> 2024-01-27)\n"
     ]
    },
    {
     "name": "stdout",
     "output_type": "stream",
     "text": [
      "Error fetching data for MICT: No historical data available for MICT around 2024-01-27.\n",
      "Error fetching data for CPLA: No historical data available for CPLA around 2024-01-27.\n"
     ]
    },
    {
     "name": "stderr",
     "output_type": "stream",
     "text": [
      "$CISAA: possibly delisted; no timezone found\n"
     ]
    },
    {
     "name": "stdout",
     "output_type": "stream",
     "text": [
      "Error fetching data for CISAA: No historical data available for CISAA around 2024-01-27.\n"
     ]
    },
    {
     "name": "stderr",
     "output_type": "stream",
     "text": [
      "$OFG-A: possibly delisted; no timezone found\n",
      "$IPCC: possibly delisted; no price data found  (1d 2023-12-28 -> 2024-01-27)\n"
     ]
    },
    {
     "name": "stdout",
     "output_type": "stream",
     "text": [
      "Error fetching data for OFG-A: No historical data available for OFG-A around 2024-01-27.\n",
      "Error fetching data for IPCC: No historical data available for IPCC around 2024-01-27.\n"
     ]
    },
    {
     "name": "stderr",
     "output_type": "stream",
     "text": [
      "CBI: Period '1d' is invalid, must be one of ['1mo', '3mo', '6mo', 'ytd', '1y', '2y', '5y', '10y', 'max']\n",
      "$PCO: possibly delisted; no price data found  (1d 2023-12-28 -> 2024-01-27)\n"
     ]
    },
    {
     "name": "stdout",
     "output_type": "stream",
     "text": [
      "Error fetching data for CBI: single positional indexer is out-of-bounds\n",
      "Error fetching data for PCO: No historical data available for PCO around 2024-01-27.\n"
     ]
    },
    {
     "name": "stderr",
     "output_type": "stream",
     "text": [
      "$EAGLU: possibly delisted; no timezone found\n",
      "$APOL: possibly delisted; no price data found  (1d 2023-12-28 -> 2024-01-27)\n"
     ]
    },
    {
     "name": "stdout",
     "output_type": "stream",
     "text": [
      "Error fetching data for EAGLU: No historical data available for EAGLU around 2024-01-27.\n",
      "Error fetching data for APOL: No historical data available for APOL around 2024-01-27.\n"
     ]
    },
    {
     "name": "stderr",
     "output_type": "stream",
     "text": [
      "$RBS-Q: possibly delisted; no timezone found\n"
     ]
    },
    {
     "name": "stdout",
     "output_type": "stream",
     "text": [
      "Error fetching data for RBS-Q: No historical data available for RBS-Q around 2024-01-27.\n"
     ]
    },
    {
     "name": "stderr",
     "output_type": "stream",
     "text": [
      "$CERE: possibly delisted; no timezone found\n"
     ]
    },
    {
     "name": "stdout",
     "output_type": "stream",
     "text": [
      "Error fetching data for CERE: No historical data available for CERE around 2024-01-27.\n"
     ]
    },
    {
     "name": "stderr",
     "output_type": "stream",
     "text": [
      "$POPE: possibly delisted; no timezone found\n"
     ]
    },
    {
     "name": "stdout",
     "output_type": "stream",
     "text": [
      "Error fetching data for POPE: No historical data available for POPE around 2024-01-27.\n"
     ]
    },
    {
     "name": "stderr",
     "output_type": "stream",
     "text": [
      "$CYTX: possibly delisted; no timezone found\n"
     ]
    },
    {
     "name": "stdout",
     "output_type": "stream",
     "text": [
      "Error fetching data for CYTX: No historical data available for CYTX around 2024-01-27.\n"
     ]
    },
    {
     "name": "stderr",
     "output_type": "stream",
     "text": [
      "$CYN-C: possibly delisted; no timezone found\n",
      "$VDSI: possibly delisted; no price data found  (1d 2023-12-28 -> 2024-01-27)\n"
     ]
    },
    {
     "name": "stdout",
     "output_type": "stream",
     "text": [
      "Error fetching data for CYN-C: No historical data available for CYN-C around 2024-01-27.\n",
      "Error fetching data for VDSI: No historical data available for VDSI around 2024-01-27.\n"
     ]
    },
    {
     "name": "stderr",
     "output_type": "stream",
     "text": [
      "$MMP: possibly delisted; no timezone found\n"
     ]
    },
    {
     "name": "stdout",
     "output_type": "stream",
     "text": [
      "Error fetching data for MMP: No historical data available for MMP around 2024-01-27.\n"
     ]
    },
    {
     "name": "stderr",
     "output_type": "stream",
     "text": [
      "$CHDX: possibly delisted; no price data found  (1d 2023-12-28 -> 2024-01-27)\n"
     ]
    },
    {
     "name": "stdout",
     "output_type": "stream",
     "text": [
      "Error fetching data for CHDX: No historical data available for CHDX around 2024-01-27.\n"
     ]
    },
    {
     "name": "stderr",
     "output_type": "stream",
     "text": [
      "$AKS: possibly delisted; no timezone found\n"
     ]
    },
    {
     "name": "stdout",
     "output_type": "stream",
     "text": [
      "Error fetching data for AKS: No historical data available for AKS around 2024-01-27.\n"
     ]
    },
    {
     "name": "stderr",
     "output_type": "stream",
     "text": [
      "$RBS-N: possibly delisted; no timezone found\n"
     ]
    },
    {
     "name": "stdout",
     "output_type": "stream",
     "text": [
      "Error fetching data for RBS-N: No historical data available for RBS-N around 2024-01-27.\n"
     ]
    },
    {
     "name": "stderr",
     "output_type": "stream",
     "text": [
      "$HGT: possibly delisted; no price data found  (1d 2023-12-28 -> 2024-01-27)\n"
     ]
    },
    {
     "name": "stdout",
     "output_type": "stream",
     "text": [
      "Error fetching data for HGT: No historical data available for HGT around 2024-01-27.\n"
     ]
    },
    {
     "name": "stderr",
     "output_type": "stream",
     "text": [
      "$SPAR: possibly delisted; no timezone found\n",
      "$CVB: possibly delisted; no price data found  (1d 2023-12-28 -> 2024-01-27)\n"
     ]
    },
    {
     "name": "stdout",
     "output_type": "stream",
     "text": [
      "Error fetching data for SPAR: No historical data available for SPAR around 2024-01-27.\n",
      "Error fetching data for CVB: No historical data available for CVB around 2024-01-27.\n"
     ]
    },
    {
     "name": "stderr",
     "output_type": "stream",
     "text": [
      "$PSA-P: possibly delisted; no timezone found\n"
     ]
    },
    {
     "name": "stdout",
     "output_type": "stream",
     "text": [
      "Error fetching data for PSA-P: No historical data available for PSA-P around 2024-01-27.\n"
     ]
    },
    {
     "name": "stderr",
     "output_type": "stream",
     "text": [
      "$NEPT: possibly delisted; no price data found  (1d 2023-12-28 -> 2024-01-27)\n"
     ]
    },
    {
     "name": "stdout",
     "output_type": "stream",
     "text": [
      "Error fetching data for NEPT: No historical data available for NEPT around 2024-01-27.\n"
     ]
    },
    {
     "name": "stderr",
     "output_type": "stream",
     "text": [
      "$ATRM: possibly delisted; no timezone found\n",
      "$NPD: possibly delisted; no price data found  (1d 2023-12-28 -> 2024-01-27)\n"
     ]
    },
    {
     "name": "stdout",
     "output_type": "stream",
     "text": [
      "Error fetching data for ATRM: No historical data available for ATRM around 2024-01-27.\n",
      "Error fetching data for NPD: No historical data available for NPD around 2024-01-27.\n"
     ]
    },
    {
     "name": "stderr",
     "output_type": "stream",
     "text": [
      "$STRZB: possibly delisted; no price data found  (1d 2023-12-28 -> 2024-01-27)\n",
      "$ESRX: possibly delisted; no price data found  (1d 2023-12-28 -> 2024-01-27)\n"
     ]
    },
    {
     "name": "stdout",
     "output_type": "stream",
     "text": [
      "Error fetching data for STRZB: No historical data available for STRZB around 2024-01-27.\n",
      "Error fetching data for ESRX: No historical data available for ESRX around 2024-01-27.\n"
     ]
    },
    {
     "name": "stderr",
     "output_type": "stream",
     "text": [
      "$OAKS: possibly delisted; no price data found  (1d 2023-12-28 -> 2024-01-27)\n"
     ]
    },
    {
     "name": "stdout",
     "output_type": "stream",
     "text": [
      "Error fetching data for OAKS: No historical data available for OAKS around 2024-01-27.\n"
     ]
    },
    {
     "name": "stderr",
     "output_type": "stream",
     "text": [
      "$GAB-H: possibly delisted; no timezone found\n"
     ]
    },
    {
     "name": "stdout",
     "output_type": "stream",
     "text": [
      "Error fetching data for GAB-H: No historical data available for GAB-H around 2024-01-27.\n"
     ]
    },
    {
     "name": "stderr",
     "output_type": "stream",
     "text": [
      "$HMA: possibly delisted; no timezone found\n"
     ]
    },
    {
     "name": "stdout",
     "output_type": "stream",
     "text": [
      "Error fetching data for HMA: No historical data available for HMA around 2024-01-27.\n"
     ]
    },
    {
     "name": "stderr",
     "output_type": "stream",
     "text": [
      "$TCO-K: possibly delisted; no timezone found\n"
     ]
    },
    {
     "name": "stdout",
     "output_type": "stream",
     "text": [
      "Error fetching data for TCO-K: No historical data available for TCO-K around 2024-01-27.\n"
     ]
    },
    {
     "name": "stderr",
     "output_type": "stream",
     "text": [
      "$XGTI: possibly delisted; no timezone found\n",
      "$MBIS: possibly delisted; no price data found  (1d 2023-12-28 -> 2024-01-27)\n"
     ]
    },
    {
     "name": "stdout",
     "output_type": "stream",
     "text": [
      "Error fetching data for XGTI: No historical data available for XGTI around 2024-01-27.\n",
      "Error fetching data for MBIS: No historical data available for MBIS around 2024-01-27.\n"
     ]
    },
    {
     "name": "stderr",
     "output_type": "stream",
     "text": [
      "$DMND: possibly delisted; no price data found  (1d 2023-12-28 -> 2024-01-27)\n"
     ]
    },
    {
     "name": "stdout",
     "output_type": "stream",
     "text": [
      "Error fetching data for DMND: No historical data available for DMND around 2024-01-27.\n"
     ]
    },
    {
     "name": "stderr",
     "output_type": "stream",
     "text": [
      "$CBO: possibly delisted; no timezone found\n"
     ]
    },
    {
     "name": "stdout",
     "output_type": "stream",
     "text": [
      "Error fetching data for CBO: No historical data available for CBO around 2024-01-27.\n"
     ]
    },
    {
     "name": "stderr",
     "output_type": "stream",
     "text": [
      "$MWO: possibly delisted; no price data found  (1d 2023-12-28 -> 2024-01-27)\n"
     ]
    },
    {
     "name": "stdout",
     "output_type": "stream",
     "text": [
      "Error fetching data for MWO: No historical data available for MWO around 2024-01-27.\n"
     ]
    },
    {
     "name": "stderr",
     "output_type": "stream",
     "text": [
      "$BCEI: possibly delisted; no timezone found\n"
     ]
    },
    {
     "name": "stdout",
     "output_type": "stream",
     "text": [
      "Error fetching data for BCEI: No historical data available for BCEI around 2024-01-27.\n"
     ]
    },
    {
     "name": "stderr",
     "output_type": "stream",
     "text": [
      "$CHS: possibly delisted; no timezone found\n"
     ]
    },
    {
     "name": "stdout",
     "output_type": "stream",
     "text": [
      "Error fetching data for CHS: No historical data available for CHS around 2024-01-27.\n"
     ]
    },
    {
     "name": "stderr",
     "output_type": "stream",
     "text": [
      "$TA: possibly delisted; no timezone found\n"
     ]
    },
    {
     "name": "stdout",
     "output_type": "stream",
     "text": [
      "Error fetching data for TA: No historical data available for TA around 2024-01-27.\n"
     ]
    },
    {
     "name": "stderr",
     "output_type": "stream",
     "text": [
      "$MICTW: possibly delisted; no timezone found\n"
     ]
    },
    {
     "name": "stdout",
     "output_type": "stream",
     "text": [
      "Error fetching data for MICTW: No historical data available for MICTW around 2024-01-27.\n"
     ]
    },
    {
     "name": "stderr",
     "output_type": "stream",
     "text": [
      "$NEE-G: possibly delisted; no timezone found\n"
     ]
    },
    {
     "name": "stdout",
     "output_type": "stream",
     "text": [
      "Error fetching data for NEE-G: No historical data available for NEE-G around 2024-01-27.\n"
     ]
    },
    {
     "name": "stderr",
     "output_type": "stream",
     "text": [
      "$PER: possibly delisted; no timezone found\n"
     ]
    },
    {
     "name": "stdout",
     "output_type": "stream",
     "text": [
      "Error fetching data for PER: No historical data available for PER around 2024-01-27.\n"
     ]
    },
    {
     "name": "stderr",
     "output_type": "stream",
     "text": [
      "$ARPI: possibly delisted; no price data found  (1d 2023-12-28 -> 2024-01-27)\n",
      "$HTR: possibly delisted; no price data found  (1d 2023-12-28 -> 2024-01-27)\n"
     ]
    },
    {
     "name": "stdout",
     "output_type": "stream",
     "text": [
      "Error fetching data for ARPI: No historical data available for ARPI around 2024-01-27.\n",
      "Error fetching data for HTR: No historical data available for HTR around 2024-01-27.\n"
     ]
    },
    {
     "name": "stderr",
     "output_type": "stream",
     "text": [
      "$EDS: possibly delisted; no price data found  (1d 2023-12-28 -> 2024-01-27)\n"
     ]
    },
    {
     "name": "stdout",
     "output_type": "stream",
     "text": [
      "Error fetching data for EDS: No historical data available for EDS around 2024-01-27.\n"
     ]
    },
    {
     "name": "stderr",
     "output_type": "stream",
     "text": [
      "$GPT-A: possibly delisted; no timezone found\n"
     ]
    },
    {
     "name": "stdout",
     "output_type": "stream",
     "text": [
      "Error fetching data for GPT-A: No historical data available for GPT-A around 2024-01-27.\n"
     ]
    },
    {
     "name": "stderr",
     "output_type": "stream",
     "text": [
      "$CRAY: possibly delisted; no timezone found\n"
     ]
    },
    {
     "name": "stdout",
     "output_type": "stream",
     "text": [
      "Error fetching data for CRAY: No historical data available for CRAY around 2024-01-27.\n"
     ]
    },
    {
     "name": "stderr",
     "output_type": "stream",
     "text": [
      "$CNDO: possibly delisted; no price data found  (1d 2023-12-28 -> 2024-01-27)\n"
     ]
    },
    {
     "name": "stdout",
     "output_type": "stream",
     "text": [
      "Error fetching data for CNDO: No historical data available for CNDO around 2024-01-27.\n"
     ]
    },
    {
     "name": "stderr",
     "output_type": "stream",
     "text": [
      "$ICA: possibly delisted; no price data found  (1d 2023-12-28 -> 2024-01-27)\n"
     ]
    },
    {
     "name": "stdout",
     "output_type": "stream",
     "text": [
      "Error fetching data for ICA: No historical data available for ICA around 2024-01-27.\n"
     ]
    },
    {
     "name": "stderr",
     "output_type": "stream",
     "text": [
      "$BKCC: possibly delisted; no timezone found\n"
     ]
    },
    {
     "name": "stdout",
     "output_type": "stream",
     "text": [
      "Error fetching data for BKCC: No historical data available for BKCC around 2024-01-27.\n"
     ]
    },
    {
     "name": "stderr",
     "output_type": "stream",
     "text": [
      "$NATI: possibly delisted; no timezone found\n",
      "$XRSC: possibly delisted; no price data found  (1d 2023-12-28 -> 2024-01-27)\n"
     ]
    },
    {
     "name": "stdout",
     "output_type": "stream",
     "text": [
      "Error fetching data for NATI: No historical data available for NATI around 2024-01-27.\n",
      "Error fetching data for XRSC: No historical data available for XRSC around 2024-01-27.\n"
     ]
    },
    {
     "name": "stderr",
     "output_type": "stream",
     "text": [
      "$DCIN: possibly delisted; no price data found  (1d 2023-12-28 -> 2024-01-27)\n"
     ]
    },
    {
     "name": "stdout",
     "output_type": "stream",
     "text": [
      "Error fetching data for DCIN: No historical data available for DCIN around 2024-01-27.\n"
     ]
    },
    {
     "name": "stderr",
     "output_type": "stream",
     "text": [
      "$CPST: possibly delisted; no price data found  (1d 2023-12-28 -> 2024-01-27) (Yahoo error = \"Data doesn't exist for startDate = 1703739600, endDate = 1706331600\")\n"
     ]
    },
    {
     "name": "stdout",
     "output_type": "stream",
     "text": [
      "Error fetching data for CPST: No historical data available for CPST around 2024-01-27.\n"
     ]
    },
    {
     "name": "stderr",
     "output_type": "stream",
     "text": [
      "$ARCW: possibly delisted; no timezone found\n",
      "$NTK: possibly delisted; no price data found  (1d 2023-12-28 -> 2024-01-27)\n",
      "$PZZI: possibly delisted; no price data found  (1d 2023-12-28 -> 2024-01-27)\n"
     ]
    },
    {
     "name": "stdout",
     "output_type": "stream",
     "text": [
      "Error fetching data for ARCW: No historical data available for ARCW around 2024-01-27.\n",
      "Error fetching data for NTK: No historical data available for NTK around 2024-01-27.\n",
      "Error fetching data for PZZI: No historical data available for PZZI around 2024-01-27.\n"
     ]
    },
    {
     "name": "stderr",
     "output_type": "stream",
     "text": [
      "$SFI-D: possibly delisted; no timezone found\n",
      "$RCAP: possibly delisted; no price data found  (1d 2023-12-28 -> 2024-01-27)\n"
     ]
    },
    {
     "name": "stdout",
     "output_type": "stream",
     "text": [
      "Error fetching data for SFI-D: No historical data available for SFI-D around 2024-01-27.\n",
      "Error fetching data for RCAP: No historical data available for RCAP around 2024-01-27.\n"
     ]
    },
    {
     "name": "stderr",
     "output_type": "stream",
     "text": [
      "$KHI: possibly delisted; no price data found  (1d 2023-12-28 -> 2024-01-27)\n"
     ]
    },
    {
     "name": "stdout",
     "output_type": "stream",
     "text": [
      "Error fetching data for KHI: No historical data available for KHI around 2024-01-27.\n"
     ]
    },
    {
     "name": "stderr",
     "output_type": "stream",
     "text": [
      "$ARNA: possibly delisted; no timezone found\n",
      "$AMCC: possibly delisted; no price data found  (1d 2023-12-28 -> 2024-01-27)\n"
     ]
    },
    {
     "name": "stdout",
     "output_type": "stream",
     "text": [
      "Error fetching data for ARNA: No historical data available for ARNA around 2024-01-27.\n",
      "Error fetching data for AMCC: No historical data available for AMCC around 2024-01-27.\n"
     ]
    },
    {
     "name": "stderr",
     "output_type": "stream",
     "text": [
      "$NSL: possibly delisted; no timezone found\n"
     ]
    },
    {
     "name": "stdout",
     "output_type": "stream",
     "text": [
      "Error fetching data for NSL: No historical data available for NSL around 2024-01-27.\n"
     ]
    },
    {
     "name": "stderr",
     "output_type": "stream",
     "text": [
      "$SBNY: possibly delisted; no price data found  (1d 2023-12-28 -> 2024-01-27) (Yahoo error = \"Data doesn't exist for startDate = 1703739600, endDate = 1706331600\")\n"
     ]
    },
    {
     "name": "stdout",
     "output_type": "stream",
     "text": [
      "Error fetching data for SBNY: No historical data available for SBNY around 2024-01-27.\n"
     ]
    },
    {
     "name": "stderr",
     "output_type": "stream",
     "text": [
      "$LHCG: possibly delisted; no timezone found\n"
     ]
    },
    {
     "name": "stdout",
     "output_type": "stream",
     "text": [
      "Error fetching data for LHCG: No historical data available for LHCG around 2024-01-27.\n"
     ]
    },
    {
     "name": "stderr",
     "output_type": "stream",
     "text": [
      "$USU: possibly delisted; no price data found  (1d 2023-12-28 -> 2024-01-27)\n"
     ]
    },
    {
     "name": "stdout",
     "output_type": "stream",
     "text": [
      "Error fetching data for USU: No historical data available for USU around 2024-01-27.\n"
     ]
    },
    {
     "name": "stderr",
     "output_type": "stream",
     "text": [
      "$SPEX: possibly delisted; no timezone found\n"
     ]
    },
    {
     "name": "stdout",
     "output_type": "stream",
     "text": [
      "Error fetching data for SPEX: No historical data available for SPEX around 2024-01-27.\n"
     ]
    },
    {
     "name": "stderr",
     "output_type": "stream",
     "text": [
      "$CST: possibly delisted; no price data found  (1d 2023-12-28 -> 2024-01-27)\n"
     ]
    },
    {
     "name": "stdout",
     "output_type": "stream",
     "text": [
      "Error fetching data for CST: No historical data available for CST around 2024-01-27.\n"
     ]
    },
    {
     "name": "stderr",
     "output_type": "stream",
     "text": [
      "$HW: possibly delisted; no price data found  (1d 2023-12-28 -> 2024-01-27)\n"
     ]
    },
    {
     "name": "stdout",
     "output_type": "stream",
     "text": [
      "Error fetching data for HW: No historical data available for HW around 2024-01-27.\n"
     ]
    },
    {
     "name": "stderr",
     "output_type": "stream",
     "text": [
      "$VISN: possibly delisted; no timezone found\n"
     ]
    },
    {
     "name": "stdout",
     "output_type": "stream",
     "text": [
      "Error fetching data for VISN: No historical data available for VISN around 2024-01-27.\n"
     ]
    },
    {
     "name": "stderr",
     "output_type": "stream",
     "text": [
      "$USAT: possibly delisted; no timezone found\n"
     ]
    },
    {
     "name": "stdout",
     "output_type": "stream",
     "text": [
      "Error fetching data for USAT: No historical data available for USAT around 2024-01-27.\n"
     ]
    },
    {
     "name": "stderr",
     "output_type": "stream",
     "text": [
      "$MSP: possibly delisted; no timezone found\n"
     ]
    },
    {
     "name": "stdout",
     "output_type": "stream",
     "text": [
      "Error fetching data for MSP: No historical data available for MSP around 2024-01-27.\n"
     ]
    },
    {
     "name": "stderr",
     "output_type": "stream",
     "text": [
      "$WILN: possibly delisted; no price data found  (1d 2023-12-28 -> 2024-01-27)\n"
     ]
    },
    {
     "name": "stdout",
     "output_type": "stream",
     "text": [
      "Error fetching data for WILN: No historical data available for WILN around 2024-01-27.\n"
     ]
    },
    {
     "name": "stderr",
     "output_type": "stream",
     "text": [
      "$AVP: possibly delisted; no timezone found\n"
     ]
    },
    {
     "name": "stdout",
     "output_type": "stream",
     "text": [
      "Error fetching data for AVP: No historical data available for AVP around 2024-01-27.\n"
     ]
    },
    {
     "name": "stderr",
     "output_type": "stream",
     "text": [
      "$TSS: possibly delisted; no timezone found\n",
      "$FWLT: possibly delisted; no price data found  (1d 2023-12-28 -> 2024-01-27)\n"
     ]
    },
    {
     "name": "stdout",
     "output_type": "stream",
     "text": [
      "Error fetching data for TSS: No historical data available for TSS around 2024-01-27.\n",
      "Error fetching data for FWLT: No historical data available for FWLT around 2024-01-27.\n"
     ]
    },
    {
     "name": "stderr",
     "output_type": "stream",
     "text": [
      "$SMS: possibly delisted; no price data found  (1d 2023-12-28 -> 2024-01-27)\n"
     ]
    },
    {
     "name": "stdout",
     "output_type": "stream",
     "text": [
      "Error fetching data for SMS: No historical data available for SMS around 2024-01-27.\n"
     ]
    },
    {
     "name": "stderr",
     "output_type": "stream",
     "text": [
      "$DO: possibly delisted; no timezone found\n"
     ]
    },
    {
     "name": "stdout",
     "output_type": "stream",
     "text": [
      "Error fetching data for DO: No historical data available for DO around 2024-01-27.\n"
     ]
    },
    {
     "name": "stderr",
     "output_type": "stream",
     "text": [
      "$LNCE: possibly delisted; no price data found  (1d 2023-12-28 -> 2024-01-27)\n"
     ]
    },
    {
     "name": "stdout",
     "output_type": "stream",
     "text": [
      "Error fetching data for LNCE: No historical data available for LNCE around 2024-01-27.\n"
     ]
    },
    {
     "name": "stderr",
     "output_type": "stream",
     "text": [
      "$HOLI: possibly delisted; no timezone found\n"
     ]
    },
    {
     "name": "stdout",
     "output_type": "stream",
     "text": [
      "Error fetching data for HOLI: No historical data available for HOLI around 2024-01-27.\n"
     ]
    },
    {
     "name": "stderr",
     "output_type": "stream",
     "text": [
      "$OILT: possibly delisted; no price data found  (1d 2023-12-28 -> 2024-01-27) (Yahoo error = \"Data doesn't exist for startDate = 1703739600, endDate = 1706331600\")\n"
     ]
    },
    {
     "name": "stdout",
     "output_type": "stream",
     "text": [
      "Error fetching data for OILT: No historical data available for OILT around 2024-01-27.\n"
     ]
    },
    {
     "name": "stderr",
     "output_type": "stream",
     "text": [
      "$FRED: possibly delisted; no timezone found\n",
      "$Q: possibly delisted; no price data found  (1d 2023-12-28 -> 2024-01-27)\n"
     ]
    },
    {
     "name": "stdout",
     "output_type": "stream",
     "text": [
      "Error fetching data for FRED: No historical data available for FRED around 2024-01-27.\n",
      "Error fetching data for Q: No historical data available for Q around 2024-01-27.\n"
     ]
    },
    {
     "name": "stderr",
     "output_type": "stream",
     "text": [
      "$CHL: possibly delisted; no timezone found\n"
     ]
    },
    {
     "name": "stdout",
     "output_type": "stream",
     "text": [
      "Error fetching data for CHL: No historical data available for CHL around 2024-01-27.\n"
     ]
    },
    {
     "name": "stderr",
     "output_type": "stream",
     "text": [
      "$MGLN: possibly delisted; no timezone found\n"
     ]
    },
    {
     "name": "stdout",
     "output_type": "stream",
     "text": [
      "Error fetching data for MGLN: No historical data available for MGLN around 2024-01-27.\n"
     ]
    },
    {
     "name": "stderr",
     "output_type": "stream",
     "text": [
      "$QLGC: possibly delisted; no price data found  (1d 2023-12-28 -> 2024-01-27)\n",
      "$COBK: possibly delisted; no price data found  (1d 2023-12-28 -> 2024-01-27)\n"
     ]
    },
    {
     "name": "stdout",
     "output_type": "stream",
     "text": [
      "Error fetching data for QLGC: No historical data available for QLGC around 2024-01-27.\n",
      "Error fetching data for COBK: No historical data available for COBK around 2024-01-27.\n"
     ]
    },
    {
     "name": "stderr",
     "output_type": "stream",
     "text": [
      "$ISCA: possibly delisted; no timezone found\n",
      "$CNQR: possibly delisted; no price data found  (1d 2023-12-28 -> 2024-01-27)\n"
     ]
    },
    {
     "name": "stdout",
     "output_type": "stream",
     "text": [
      "Error fetching data for ISCA: No historical data available for ISCA around 2024-01-27.\n",
      "Error fetching data for CNQR: No historical data available for CNQR around 2024-01-27.\n"
     ]
    },
    {
     "name": "stderr",
     "output_type": "stream",
     "text": [
      "$QIWI: possibly delisted; no price data found  (period=1d)\n"
     ]
    },
    {
     "name": "stdout",
     "output_type": "stream",
     "text": [
      "Error fetching data for QIWI: single positional indexer is out-of-bounds\n"
     ]
    },
    {
     "name": "stderr",
     "output_type": "stream",
     "text": [
      "$SINO: possibly delisted; no timezone found\n"
     ]
    },
    {
     "name": "stdout",
     "output_type": "stream",
     "text": [
      "Error fetching data for SINO: No historical data available for SINO around 2024-01-27.\n"
     ]
    },
    {
     "name": "stderr",
     "output_type": "stream",
     "text": [
      "$SSW-D: possibly delisted; no timezone found\n",
      "$CACGU: possibly delisted; no price data found  (1d 2023-12-28 -> 2024-01-27)\n"
     ]
    },
    {
     "name": "stdout",
     "output_type": "stream",
     "text": [
      "Error fetching data for SSW-D: No historical data available for SSW-D around 2024-01-27.\n",
      "Error fetching data for CACGU: No historical data available for CACGU around 2024-01-27.\n"
     ]
    },
    {
     "name": "stderr",
     "output_type": "stream",
     "text": [
      "$BWC: possibly delisted; no timezone found\n",
      "$MKTG: possibly delisted; no price data found  (1d 2023-12-28 -> 2024-01-27)\n"
     ]
    },
    {
     "name": "stdout",
     "output_type": "stream",
     "text": [
      "Error fetching data for BWC: No historical data available for BWC around 2024-01-27.\n",
      "Error fetching data for MKTG: No historical data available for MKTG around 2024-01-27.\n"
     ]
    },
    {
     "name": "stderr",
     "output_type": "stream",
     "text": [
      "$FBSS: possibly delisted; no timezone found\n"
     ]
    },
    {
     "name": "stdout",
     "output_type": "stream",
     "text": [
      "Error fetching data for FBSS: No historical data available for FBSS around 2024-01-27.\n"
     ]
    },
    {
     "name": "stderr",
     "output_type": "stream",
     "text": [
      "$SUNS: possibly delisted; no price data found  (1d 2023-12-28 -> 2024-01-27) (Yahoo error = \"Data doesn't exist for startDate = 1703739600, endDate = 1706331600\")\n"
     ]
    },
    {
     "name": "stdout",
     "output_type": "stream",
     "text": [
      "Error fetching data for SUNS: No historical data available for SUNS around 2024-01-27.\n"
     ]
    },
    {
     "name": "stderr",
     "output_type": "stream",
     "text": [
      "$ZIXI: possibly delisted; no timezone found\n"
     ]
    },
    {
     "name": "stdout",
     "output_type": "stream",
     "text": [
      "Error fetching data for ZIXI: No historical data available for ZIXI around 2024-01-27.\n"
     ]
    },
    {
     "name": "stderr",
     "output_type": "stream",
     "text": [
      "$CCG-A: possibly delisted; no timezone found\n"
     ]
    },
    {
     "name": "stdout",
     "output_type": "stream",
     "text": [
      "Error fetching data for CCG-A: No historical data available for CCG-A around 2024-01-27.\n"
     ]
    },
    {
     "name": "stderr",
     "output_type": "stream",
     "text": [
      "$APFC: possibly delisted; no price data found  (1d 2023-12-28 -> 2024-01-27)\n",
      "$BOXC: possibly delisted; no price data found  (1d 2023-12-28 -> 2024-01-27)\n",
      "$EOPN: possibly delisted; no price data found  (1d 2023-12-28 -> 2024-01-27)\n"
     ]
    },
    {
     "name": "stdout",
     "output_type": "stream",
     "text": [
      "Error fetching data for APFC: No historical data available for APFC around 2024-01-27.\n",
      "Error fetching data for BOXC: No historical data available for BOXC around 2024-01-27.\n",
      "Error fetching data for EOPN: No historical data available for EOPN around 2024-01-27.\n"
     ]
    },
    {
     "name": "stderr",
     "output_type": "stream",
     "text": [
      "$HT-B: possibly delisted; no timezone found\n"
     ]
    },
    {
     "name": "stdout",
     "output_type": "stream",
     "text": [
      "Error fetching data for HT-B: No historical data available for HT-B around 2024-01-27.\n"
     ]
    },
    {
     "name": "stderr",
     "output_type": "stream",
     "text": [
      "$NICK: possibly delisted; no timezone found\n"
     ]
    },
    {
     "name": "stdout",
     "output_type": "stream",
     "text": [
      "Error fetching data for NICK: No historical data available for NICK around 2024-01-27.\n"
     ]
    },
    {
     "name": "stderr",
     "output_type": "stream",
     "text": [
      "$STO: possibly delisted; no price data found  (1d 2023-12-28 -> 2024-01-27)\n",
      "$YONG: possibly delisted; no price data found  (1d 2023-12-28 -> 2024-01-27)\n"
     ]
    },
    {
     "name": "stdout",
     "output_type": "stream",
     "text": [
      "Error fetching data for STO: No historical data available for STO around 2024-01-27.\n",
      "Error fetching data for YONG: No historical data available for YONG around 2024-01-27.\n"
     ]
    },
    {
     "name": "stderr",
     "output_type": "stream",
     "text": [
      "$ADEP: possibly delisted; no price data found  (1d 2023-12-28 -> 2024-01-27)\n",
      "$AFFX: possibly delisted; no price data found  (1d 2023-12-28 -> 2024-01-27)\n",
      "$PERY: possibly delisted; no price data found  (1d 2023-12-28 -> 2024-01-27)\n"
     ]
    },
    {
     "name": "stdout",
     "output_type": "stream",
     "text": [
      "Error fetching data for ADEP: No historical data available for ADEP around 2024-01-27.\n",
      "Error fetching data for AFFX: No historical data available for AFFX around 2024-01-27.\n",
      "Error fetching data for PERY: No historical data available for PERY around 2024-01-27.\n"
     ]
    },
    {
     "name": "stderr",
     "output_type": "stream",
     "text": [
      "$THI: possibly delisted; no price data found  (1d 2023-12-28 -> 2024-01-27)\n",
      "$RJET: possibly delisted; no price data found  (1d 2023-12-28 -> 2024-01-27)\n"
     ]
    },
    {
     "name": "stdout",
     "output_type": "stream",
     "text": [
      "Error fetching data for THI: No historical data available for THI around 2024-01-27.\n",
      "Error fetching data for RJET: No historical data available for RJET around 2024-01-27.\n"
     ]
    },
    {
     "name": "stderr",
     "output_type": "stream",
     "text": [
      "$DRYS: possibly delisted; no timezone found\n"
     ]
    },
    {
     "name": "stdout",
     "output_type": "stream",
     "text": [
      "Error fetching data for DRYS: No historical data available for DRYS around 2024-01-27.\n"
     ]
    },
    {
     "name": "stderr",
     "output_type": "stream",
     "text": [
      "$NYNY: possibly delisted; no timezone found\n"
     ]
    },
    {
     "name": "stdout",
     "output_type": "stream",
     "text": [
      "Error fetching data for NYNY: No historical data available for NYNY around 2024-01-27.\n"
     ]
    },
    {
     "name": "stderr",
     "output_type": "stream",
     "text": [
      "$JST: possibly delisted; no price data found  (1d 2023-12-28 -> 2024-01-27)\n"
     ]
    },
    {
     "name": "stdout",
     "output_type": "stream",
     "text": [
      "Error fetching data for JST: No historical data available for JST around 2024-01-27.\n"
     ]
    },
    {
     "name": "stderr",
     "output_type": "stream",
     "text": [
      "$DOVR: possibly delisted; no price data found  (1d 2023-12-28 -> 2024-01-27)\n"
     ]
    },
    {
     "name": "stdout",
     "output_type": "stream",
     "text": [
      "Error fetching data for DOVR: No historical data available for DOVR around 2024-01-27.\n"
     ]
    },
    {
     "name": "stderr",
     "output_type": "stream",
     "text": [
      "$CELG: possibly delisted; no timezone found\n"
     ]
    },
    {
     "name": "stdout",
     "output_type": "stream",
     "text": [
      "Error fetching data for CELG: No historical data available for CELG around 2024-01-27.\n"
     ]
    },
    {
     "name": "stderr",
     "output_type": "stream",
     "text": [
      "$SWC: possibly delisted; no price data found  (1d 2023-12-28 -> 2024-01-27)\n",
      "$NAVR: possibly delisted; no price data found  (1d 2023-12-28 -> 2024-01-27)\n",
      "$KEYW: possibly delisted; no price data found  (1d 2023-12-28 -> 2024-01-27)\n"
     ]
    },
    {
     "name": "stdout",
     "output_type": "stream",
     "text": [
      "Error fetching data for SWC: No historical data available for SWC around 2024-01-27.\n",
      "Error fetching data for NAVR: No historical data available for NAVR around 2024-01-27.\n",
      "Error fetching data for KEYW: No historical data available for KEYW around 2024-01-27.\n"
     ]
    },
    {
     "name": "stderr",
     "output_type": "stream",
     "text": [
      "$RNO: possibly delisted; no price data found  (1d 2023-12-28 -> 2024-01-27)\n"
     ]
    },
    {
     "name": "stdout",
     "output_type": "stream",
     "text": [
      "Error fetching data for RNO: No historical data available for RNO around 2024-01-27.\n"
     ]
    },
    {
     "name": "stderr",
     "output_type": "stream",
     "text": [
      "$ACO: possibly delisted; no price data found  (1d 2023-12-28 -> 2024-01-27)\n"
     ]
    },
    {
     "name": "stdout",
     "output_type": "stream",
     "text": [
      "Error fetching data for ACO: No historical data available for ACO around 2024-01-27.\n"
     ]
    },
    {
     "name": "stderr",
     "output_type": "stream",
     "text": [
      "$END: possibly delisted; no price data found  (1d 2023-12-28 -> 2024-01-27)\n",
      "$GMK: possibly delisted; no price data found  (1d 2023-12-28 -> 2024-01-27)\n"
     ]
    },
    {
     "name": "stdout",
     "output_type": "stream",
     "text": [
      "Error fetching data for END: No historical data available for END around 2024-01-27.\n",
      "Error fetching data for GMK: No historical data available for GMK around 2024-01-27.\n"
     ]
    },
    {
     "name": "stderr",
     "output_type": "stream",
     "text": [
      "$TMK-B: possibly delisted; no timezone found\n"
     ]
    },
    {
     "name": "stdout",
     "output_type": "stream",
     "text": [
      "Error fetching data for TMK-B: No historical data available for TMK-B around 2024-01-27.\n"
     ]
    },
    {
     "name": "stderr",
     "output_type": "stream",
     "text": [
      "$DTQ: possibly delisted; no timezone found\n"
     ]
    },
    {
     "name": "stdout",
     "output_type": "stream",
     "text": [
      "Error fetching data for DTQ: No historical data available for DTQ around 2024-01-27.\n"
     ]
    },
    {
     "name": "stderr",
     "output_type": "stream",
     "text": [
      "$EMMT: possibly delisted; no price data found  (1d 2023-12-28 -> 2024-01-27)\n"
     ]
    },
    {
     "name": "stdout",
     "output_type": "stream",
     "text": [
      "Error fetching data for EMMT: No historical data available for EMMT around 2024-01-27.\n"
     ]
    },
    {
     "name": "stderr",
     "output_type": "stream",
     "text": [
      "$JPM.W: possibly delisted; no timezone found\n"
     ]
    },
    {
     "name": "stdout",
     "output_type": "stream",
     "text": [
      "Error fetching data for JPM.W: No historical data available for JPM.W around 2024-01-27.\n"
     ]
    },
    {
     "name": "stderr",
     "output_type": "stream",
     "text": [
      "$ASIA: possibly delisted; no price data found  (1d 2023-12-28 -> 2024-01-27) (Yahoo error = \"Data doesn't exist for startDate = 1703739600, endDate = 1706331600\")\n",
      "$XAA: possibly delisted; no price data found  (1d 2023-12-28 -> 2024-01-27)\n"
     ]
    },
    {
     "name": "stdout",
     "output_type": "stream",
     "text": [
      "Error fetching data for ASIA: No historical data available for ASIA around 2024-01-27.\n",
      "Error fetching data for XAA: No historical data available for XAA around 2024-01-27.\n"
     ]
    },
    {
     "name": "stderr",
     "output_type": "stream",
     "text": [
      "$UAM: possibly delisted; no price data found  (1d 2023-12-28 -> 2024-01-27)\n"
     ]
    },
    {
     "name": "stdout",
     "output_type": "stream",
     "text": [
      "Error fetching data for UAM: No historical data available for UAM around 2024-01-27.\n"
     ]
    },
    {
     "name": "stderr",
     "output_type": "stream",
     "text": [
      "$GBL: possibly delisted; no timezone found\n"
     ]
    },
    {
     "name": "stdout",
     "output_type": "stream",
     "text": [
      "Error fetching data for GBL: No historical data available for GBL around 2024-01-27.\n"
     ]
    },
    {
     "name": "stderr",
     "output_type": "stream",
     "text": [
      "$PRE-E: possibly delisted; no timezone found\n"
     ]
    },
    {
     "name": "stdout",
     "output_type": "stream",
     "text": [
      "Error fetching data for PRE-E: No historical data available for PRE-E around 2024-01-27.\n"
     ]
    },
    {
     "name": "stderr",
     "output_type": "stream",
     "text": [
      "$MOLXA: possibly delisted; no price data found  (1d 2023-12-28 -> 2024-01-27)\n"
     ]
    },
    {
     "name": "stdout",
     "output_type": "stream",
     "text": [
      "Error fetching data for MOLXA: No historical data available for MOLXA around 2024-01-27.\n"
     ]
    },
    {
     "name": "stderr",
     "output_type": "stream",
     "text": [
      "$FBC: possibly delisted; no timezone found\n"
     ]
    },
    {
     "name": "stdout",
     "output_type": "stream",
     "text": [
      "Error fetching data for FBC: No historical data available for FBC around 2024-01-27.\n"
     ]
    },
    {
     "name": "stderr",
     "output_type": "stream",
     "text": [
      "$GLF: possibly delisted; no price data found  (1d 2023-12-28 -> 2024-01-27)\n",
      "$CRME: possibly delisted; no price data found  (1d 2023-12-28 -> 2024-01-27)\n"
     ]
    },
    {
     "name": "stdout",
     "output_type": "stream",
     "text": [
      "Error fetching data for GLF: No historical data available for GLF around 2024-01-27.\n",
      "Error fetching data for CRME: No historical data available for CRME around 2024-01-27.\n"
     ]
    },
    {
     "name": "stderr",
     "output_type": "stream",
     "text": [
      "$FRBK: possibly delisted; no timezone found\n"
     ]
    },
    {
     "name": "stdout",
     "output_type": "stream",
     "text": [
      "Error fetching data for FRBK: No historical data available for FRBK around 2024-01-27.\n"
     ]
    },
    {
     "name": "stderr",
     "output_type": "stream",
     "text": [
      "$RSO-B: possibly delisted; no timezone found\n"
     ]
    },
    {
     "name": "stdout",
     "output_type": "stream",
     "text": [
      "Error fetching data for RSO-B: No historical data available for RSO-B around 2024-01-27.\n"
     ]
    },
    {
     "name": "stderr",
     "output_type": "stream",
     "text": [
      "$TGE: possibly delisted; no timezone found\n",
      "$ESBF: possibly delisted; no price data found  (1d 2023-12-28 -> 2024-01-27)\n"
     ]
    },
    {
     "name": "stdout",
     "output_type": "stream",
     "text": [
      "Error fetching data for TGE: No historical data available for TGE around 2024-01-27.\n",
      "Error fetching data for ESBF: No historical data available for ESBF around 2024-01-27.\n"
     ]
    },
    {
     "name": "stderr",
     "output_type": "stream",
     "text": [
      "$EAC: possibly delisted; no timezone found\n",
      "$AMRI: possibly delisted; no price data found  (1d 2023-12-28 -> 2024-01-27)\n"
     ]
    },
    {
     "name": "stdout",
     "output_type": "stream",
     "text": [
      "Error fetching data for EAC: No historical data available for EAC around 2024-01-27.\n",
      "Error fetching data for AMRI: No historical data available for AMRI around 2024-01-27.\n"
     ]
    },
    {
     "name": "stderr",
     "output_type": "stream",
     "text": [
      "$UBOH: possibly delisted; no price data found  (1d 2023-12-28 -> 2024-01-27) (Yahoo error = \"Data doesn't exist for startDate = 1703739600, endDate = 1706331600\")\n"
     ]
    },
    {
     "name": "stdout",
     "output_type": "stream",
     "text": [
      "Error fetching data for UBOH: No historical data available for UBOH around 2024-01-27.\n"
     ]
    },
    {
     "name": "stderr",
     "output_type": "stream",
     "text": [
      "$C-N: possibly delisted; no timezone found\n"
     ]
    },
    {
     "name": "stdout",
     "output_type": "stream",
     "text": [
      "Error fetching data for C-N: No historical data available for C-N around 2024-01-27.\n"
     ]
    },
    {
     "name": "stderr",
     "output_type": "stream",
     "text": [
      "$SDLP: possibly delisted; no timezone found\n"
     ]
    },
    {
     "name": "stdout",
     "output_type": "stream",
     "text": [
      "Error fetching data for SDLP: No historical data available for SDLP around 2024-01-27.\n"
     ]
    },
    {
     "name": "stderr",
     "output_type": "stream",
     "text": [
      "$RPXC: possibly delisted; no timezone found\n"
     ]
    },
    {
     "name": "stdout",
     "output_type": "stream",
     "text": [
      "Error fetching data for RPXC: No historical data available for RPXC around 2024-01-27.\n"
     ]
    },
    {
     "name": "stderr",
     "output_type": "stream",
     "text": [
      "$SGMS: possibly delisted; no timezone found\n",
      "$SLXP: possibly delisted; no price data found  (1d 2023-12-28 -> 2024-01-27)\n"
     ]
    },
    {
     "name": "stdout",
     "output_type": "stream",
     "text": [
      "Error fetching data for SGMS: No historical data available for SGMS around 2024-01-27.\n",
      "Error fetching data for SLXP: No historical data available for SLXP around 2024-01-27.\n"
     ]
    },
    {
     "name": "stderr",
     "output_type": "stream",
     "text": [
      "$MAXY: possibly delisted; no price data found  (1d 2023-12-28 -> 2024-01-27)\n"
     ]
    },
    {
     "name": "stdout",
     "output_type": "stream",
     "text": [
      "Error fetching data for MAXY: No historical data available for MAXY around 2024-01-27.\n"
     ]
    },
    {
     "name": "stderr",
     "output_type": "stream",
     "text": [
      "$WIBC: possibly delisted; no price data found  (1d 2023-12-28 -> 2024-01-27)\n"
     ]
    },
    {
     "name": "stdout",
     "output_type": "stream",
     "text": [
      "Error fetching data for WIBC: No historical data available for WIBC around 2024-01-27.\n"
     ]
    },
    {
     "name": "stderr",
     "output_type": "stream",
     "text": [
      "$GLT: possibly delisted; no timezone found\n"
     ]
    },
    {
     "name": "stdout",
     "output_type": "stream",
     "text": [
      "Error fetching data for GLT: No historical data available for GLT around 2024-01-27.\n"
     ]
    },
    {
     "name": "stderr",
     "output_type": "stream",
     "text": [
      "$ABIO: possibly delisted; no timezone found\n"
     ]
    },
    {
     "name": "stdout",
     "output_type": "stream",
     "text": [
      "Error fetching data for ABIO: No historical data available for ABIO around 2024-01-27.\n"
     ]
    },
    {
     "name": "stderr",
     "output_type": "stream",
     "text": [
      "$VOLC: possibly delisted; no price data found  (1d 2023-12-28 -> 2024-01-27)\n",
      "$BSDM: possibly delisted; no price data found  (1d 2023-12-28 -> 2024-01-27)\n"
     ]
    },
    {
     "name": "stdout",
     "output_type": "stream",
     "text": [
      "Error fetching data for VOLC: No historical data available for VOLC around 2024-01-27.\n",
      "Error fetching data for BSDM: No historical data available for BSDM around 2024-01-27.\n"
     ]
    },
    {
     "name": "stderr",
     "output_type": "stream",
     "text": [
      "$CARB: possibly delisted; no timezone found\n",
      "$JMI: possibly delisted; no price data found  (1d 2023-12-28 -> 2024-01-27)\n"
     ]
    },
    {
     "name": "stdout",
     "output_type": "stream",
     "text": [
      "Error fetching data for CARB: No historical data available for CARB around 2024-01-27.\n",
      "Error fetching data for JMI: No historical data available for JMI around 2024-01-27.\n"
     ]
    },
    {
     "name": "stderr",
     "output_type": "stream",
     "text": [
      "$BML-H: possibly delisted; no timezone found\n"
     ]
    },
    {
     "name": "stdout",
     "output_type": "stream",
     "text": [
      "Error fetching data for BML-H: No historical data available for BML-H around 2024-01-27.\n"
     ]
    },
    {
     "name": "stderr",
     "output_type": "stream",
     "text": [
      "$CVO: possibly delisted; no price data found  (1d 2023-12-28 -> 2024-01-27)\n",
      "$PNRA: possibly delisted; no price data found  (1d 2023-12-28 -> 2024-01-27)\n",
      "$VOCS: possibly delisted; no price data found  (1d 2023-12-28 -> 2024-01-27)\n"
     ]
    },
    {
     "name": "stdout",
     "output_type": "stream",
     "text": [
      "Error fetching data for CVO: No historical data available for CVO around 2024-01-27.\n",
      "Error fetching data for PNRA: No historical data available for PNRA around 2024-01-27.\n",
      "Error fetching data for VOCS: No historical data available for VOCS around 2024-01-27.\n"
     ]
    },
    {
     "name": "stderr",
     "output_type": "stream",
     "text": [
      "$ROICU: possibly delisted; no timezone found\n"
     ]
    },
    {
     "name": "stdout",
     "output_type": "stream",
     "text": [
      "Error fetching data for ROICU: No historical data available for ROICU around 2024-01-27.\n"
     ]
    },
    {
     "name": "stderr",
     "output_type": "stream",
     "text": [
      "$LGP: possibly delisted; no price data found  (1d 2023-12-28 -> 2024-01-27)\n"
     ]
    },
    {
     "name": "stdout",
     "output_type": "stream",
     "text": [
      "Error fetching data for LGP: No historical data available for LGP around 2024-01-27.\n"
     ]
    },
    {
     "name": "stderr",
     "output_type": "stream",
     "text": [
      "$TSRO: possibly delisted; no price data found  (1d 2023-12-28 -> 2024-01-27)\n",
      "$GTIV: possibly delisted; no price data found  (1d 2023-12-28 -> 2024-01-27)\n"
     ]
    },
    {
     "name": "stdout",
     "output_type": "stream",
     "text": [
      "Error fetching data for TSRO: No historical data available for TSRO around 2024-01-27.\n",
      "Error fetching data for GTIV: No historical data available for GTIV around 2024-01-27.\n"
     ]
    },
    {
     "name": "stderr",
     "output_type": "stream",
     "text": [
      "CBA: Period '1d' is invalid, must be one of ['1mo', '3mo', '6mo', 'ytd', '1y', '2y', '5y', '10y', 'max']\n"
     ]
    },
    {
     "name": "stdout",
     "output_type": "stream",
     "text": [
      "Error fetching data for CBA: single positional indexer is out-of-bounds\n"
     ]
    },
    {
     "name": "stderr",
     "output_type": "stream",
     "text": [
      "$NMY-H: possibly delisted; no timezone found\n"
     ]
    },
    {
     "name": "stdout",
     "output_type": "stream",
     "text": [
      "Error fetching data for NMY-H: No historical data available for NMY-H around 2024-01-27.\n"
     ]
    },
    {
     "name": "stderr",
     "output_type": "stream",
     "text": [
      "$PBY: possibly delisted; no price data found  (1d 2023-12-28 -> 2024-01-27)\n",
      "$MPEL: possibly delisted; no price data found  (1d 2023-12-28 -> 2024-01-27)\n"
     ]
    },
    {
     "name": "stdout",
     "output_type": "stream",
     "text": [
      "Error fetching data for PBY: No historical data available for PBY around 2024-01-27.\n",
      "Error fetching data for MPEL: No historical data available for MPEL around 2024-01-27.\n"
     ]
    },
    {
     "name": "stderr",
     "output_type": "stream",
     "text": [
      "$BLT: possibly delisted; no price data found  (1d 2023-12-28 -> 2024-01-27)\n"
     ]
    },
    {
     "name": "stdout",
     "output_type": "stream",
     "text": [
      "Error fetching data for BLT: No historical data available for BLT around 2024-01-27.\n"
     ]
    },
    {
     "name": "stderr",
     "output_type": "stream",
     "text": [
      "$GSVC: possibly delisted; no timezone found\n",
      "$AEC: possibly delisted; no price data found  (1d 2023-12-28 -> 2024-01-27)\n"
     ]
    },
    {
     "name": "stdout",
     "output_type": "stream",
     "text": [
      "Error fetching data for GSVC: No historical data available for GSVC around 2024-01-27.\n",
      "Error fetching data for AEC: No historical data available for AEC around 2024-01-27.\n"
     ]
    },
    {
     "name": "stderr",
     "output_type": "stream",
     "text": [
      "$ANAC: possibly delisted; no timezone found\n"
     ]
    },
    {
     "name": "stdout",
     "output_type": "stream",
     "text": [
      "Error fetching data for ANAC: No historical data available for ANAC around 2024-01-27.\n"
     ]
    },
    {
     "name": "stderr",
     "output_type": "stream",
     "text": [
      "$NNC-F: possibly delisted; no timezone found\n"
     ]
    },
    {
     "name": "stdout",
     "output_type": "stream",
     "text": [
      "Error fetching data for NNC-F: No historical data available for NNC-F around 2024-01-27.\n"
     ]
    },
    {
     "name": "stderr",
     "output_type": "stream",
     "text": [
      "$NEE-C: possibly delisted; no timezone found\n"
     ]
    },
    {
     "name": "stdout",
     "output_type": "stream",
     "text": [
      "Error fetching data for NEE-C: No historical data available for NEE-C around 2024-01-27.\n"
     ]
    },
    {
     "name": "stderr",
     "output_type": "stream",
     "text": [
      "$ZB-F: possibly delisted; no timezone found\n",
      "$ETE: possibly delisted; no price data found  (1d 2023-12-28 -> 2024-01-27)\n"
     ]
    },
    {
     "name": "stdout",
     "output_type": "stream",
     "text": [
      "Error fetching data for ZB-F: No historical data available for ZB-F around 2024-01-27.\n",
      "Error fetching data for ETE: No historical data available for ETE around 2024-01-27.\n"
     ]
    },
    {
     "name": "stderr",
     "output_type": "stream",
     "text": [
      "$PACQW: possibly delisted; no timezone found\n"
     ]
    },
    {
     "name": "stdout",
     "output_type": "stream",
     "text": [
      "Error fetching data for PACQW: No historical data available for PACQW around 2024-01-27.\n"
     ]
    },
    {
     "name": "stderr",
     "output_type": "stream",
     "text": [
      "$NGPC: possibly delisted; no price data found  (1d 2023-12-28 -> 2024-01-27)\n"
     ]
    },
    {
     "name": "stdout",
     "output_type": "stream",
     "text": [
      "Error fetching data for NGPC: No historical data available for NGPC around 2024-01-27.\n"
     ]
    },
    {
     "name": "stderr",
     "output_type": "stream",
     "text": [
      "$APC: possibly delisted; no timezone found\n"
     ]
    },
    {
     "name": "stdout",
     "output_type": "stream",
     "text": [
      "Error fetching data for APC: No historical data available for APC around 2024-01-27.\n"
     ]
    },
    {
     "name": "stderr",
     "output_type": "stream",
     "text": [
      "$KFH: possibly delisted; no timezone found\n",
      "$LVLT: possibly delisted; no price data found  (1d 2023-12-28 -> 2024-01-27)\n"
     ]
    },
    {
     "name": "stdout",
     "output_type": "stream",
     "text": [
      "Error fetching data for KFH: No historical data available for KFH around 2024-01-27.\n",
      "Error fetching data for LVLT: No historical data available for LVLT around 2024-01-27.\n"
     ]
    },
    {
     "name": "stderr",
     "output_type": "stream",
     "text": [
      "$ITG: possibly delisted; no timezone found\n",
      "$FFKY: possibly delisted; no price data found  (1d 2023-12-28 -> 2024-01-27)\n"
     ]
    },
    {
     "name": "stdout",
     "output_type": "stream",
     "text": [
      "Error fetching data for ITG: No historical data available for ITG around 2024-01-27.\n",
      "Error fetching data for FFKY: No historical data available for FFKY around 2024-01-27.\n"
     ]
    },
    {
     "name": "stderr",
     "output_type": "stream",
     "text": [
      "$GE-A: possibly delisted; no timezone found\n"
     ]
    },
    {
     "name": "stdout",
     "output_type": "stream",
     "text": [
      "Error fetching data for GE-A: No historical data available for GE-A around 2024-01-27.\n"
     ]
    },
    {
     "name": "stderr",
     "output_type": "stream",
     "text": [
      "$MP-D: possibly delisted; no timezone found\n"
     ]
    },
    {
     "name": "stdout",
     "output_type": "stream",
     "text": [
      "Error fetching data for MP-D: No historical data available for MP-D around 2024-01-27.\n"
     ]
    },
    {
     "name": "stderr",
     "output_type": "stream",
     "text": [
      "$JRO: possibly delisted; no timezone found\n"
     ]
    },
    {
     "name": "stdout",
     "output_type": "stream",
     "text": [
      "Error fetching data for JRO: No historical data available for JRO around 2024-01-27.\n"
     ]
    },
    {
     "name": "stderr",
     "output_type": "stream",
     "text": [
      "$BGE-B: possibly delisted; no timezone found\n"
     ]
    },
    {
     "name": "stdout",
     "output_type": "stream",
     "text": [
      "Error fetching data for BGE-B: No historical data available for BGE-B around 2024-01-27.\n"
     ]
    },
    {
     "name": "stderr",
     "output_type": "stream",
     "text": [
      "$MTB-A: possibly delisted; no timezone found\n"
     ]
    },
    {
     "name": "stdout",
     "output_type": "stream",
     "text": [
      "Error fetching data for MTB-A: No historical data available for MTB-A around 2024-01-27.\n"
     ]
    },
    {
     "name": "stderr",
     "output_type": "stream",
     "text": [
      "$CSRE: possibly delisted; no price data found  (1d 2023-12-28 -> 2024-01-27)\n"
     ]
    },
    {
     "name": "stdout",
     "output_type": "stream",
     "text": [
      "Error fetching data for CSRE: No historical data available for CSRE around 2024-01-27.\n"
     ]
    },
    {
     "name": "stderr",
     "output_type": "stream",
     "text": [
      "$STI.A: possibly delisted; no timezone found\n"
     ]
    },
    {
     "name": "stdout",
     "output_type": "stream",
     "text": [
      "Error fetching data for STI.A: No historical data available for STI.A around 2024-01-27.\n"
     ]
    },
    {
     "name": "stderr",
     "output_type": "stream",
     "text": [
      "$BML-L: possibly delisted; no timezone found\n",
      "$ANAD: possibly delisted; no price data found  (1d 2023-12-28 -> 2024-01-27)\n",
      "$PSTB: possibly delisted; no price data found  (1d 2023-12-28 -> 2024-01-27)\n"
     ]
    },
    {
     "name": "stdout",
     "output_type": "stream",
     "text": [
      "Error fetching data for BML-L: No historical data available for BML-L around 2024-01-27.\n",
      "Error fetching data for ANAD: No historical data available for ANAD around 2024-01-27.\n",
      "Error fetching data for PSTB: No historical data available for PSTB around 2024-01-27.\n"
     ]
    },
    {
     "name": "stderr",
     "output_type": "stream",
     "text": [
      "$HJV: possibly delisted; no timezone found\n"
     ]
    },
    {
     "name": "stdout",
     "output_type": "stream",
     "text": [
      "Error fetching data for HJV: No historical data available for HJV around 2024-01-27.\n"
     ]
    },
    {
     "name": "stderr",
     "output_type": "stream",
     "text": [
      "$WPPGY: possibly delisted; no price data found  (1d 2023-12-28 -> 2024-01-27)\n"
     ]
    },
    {
     "name": "stdout",
     "output_type": "stream",
     "text": [
      "Error fetching data for WPPGY: No historical data available for WPPGY around 2024-01-27.\n"
     ]
    },
    {
     "name": "stderr",
     "output_type": "stream",
     "text": [
      "$BML-I: possibly delisted; no timezone found\n"
     ]
    },
    {
     "name": "stdout",
     "output_type": "stream",
     "text": [
      "Error fetching data for BML-I: No historical data available for BML-I around 2024-01-27.\n"
     ]
    },
    {
     "name": "stderr",
     "output_type": "stream",
     "text": [
      "$LINE: possibly delisted; no price data found  (1d 2023-12-28 -> 2024-01-27) (Yahoo error = \"Data doesn't exist for startDate = 1703739600, endDate = 1706331600\")\n",
      "$SYMX: possibly delisted; no price data found  (1d 2023-12-28 -> 2024-01-27)\n"
     ]
    },
    {
     "name": "stdout",
     "output_type": "stream",
     "text": [
      "Error fetching data for LINE: No historical data available for LINE around 2024-01-27.\n",
      "Error fetching data for SYMX: No historical data available for SYMX around 2024-01-27.\n"
     ]
    },
    {
     "name": "stderr",
     "output_type": "stream",
     "text": [
      "$AVHI: possibly delisted; no timezone found\n"
     ]
    },
    {
     "name": "stdout",
     "output_type": "stream",
     "text": [
      "Error fetching data for AVHI: No historical data available for AVHI around 2024-01-27.\n"
     ]
    },
    {
     "name": "stderr",
     "output_type": "stream",
     "text": [
      "$GEK: possibly delisted; no timezone found\n"
     ]
    },
    {
     "name": "stdout",
     "output_type": "stream",
     "text": [
      "Error fetching data for GEK: No historical data available for GEK around 2024-01-27.\n"
     ]
    },
    {
     "name": "stderr",
     "output_type": "stream",
     "text": [
      "$EGOV: possibly delisted; no timezone found\n"
     ]
    },
    {
     "name": "stdout",
     "output_type": "stream",
     "text": [
      "Error fetching data for EGOV: No historical data available for EGOV around 2024-01-27.\n"
     ]
    },
    {
     "name": "stderr",
     "output_type": "stream",
     "text": [
      "$PNTR: possibly delisted; no timezone found\n"
     ]
    },
    {
     "name": "stdout",
     "output_type": "stream",
     "text": [
      "Error fetching data for PNTR: No historical data available for PNTR around 2024-01-27.\n"
     ]
    },
    {
     "name": "stderr",
     "output_type": "stream",
     "text": [
      "$GHL: possibly delisted; no timezone found\n"
     ]
    },
    {
     "name": "stdout",
     "output_type": "stream",
     "text": [
      "Error fetching data for GHL: No historical data available for GHL around 2024-01-27.\n"
     ]
    },
    {
     "name": "stderr",
     "output_type": "stream",
     "text": [
      "$USMD: possibly delisted; no price data found  (1d 2023-12-28 -> 2024-01-27)\n"
     ]
    },
    {
     "name": "stdout",
     "output_type": "stream",
     "text": [
      "Error fetching data for USMD: No historical data available for USMD around 2024-01-27.\n"
     ]
    },
    {
     "name": "stderr",
     "output_type": "stream",
     "text": [
      "$EQU: possibly delisted; no price data found  (1d 2023-12-28 -> 2024-01-27)\n"
     ]
    },
    {
     "name": "stdout",
     "output_type": "stream",
     "text": [
      "Error fetching data for EQU: No historical data available for EQU around 2024-01-27.\n"
     ]
    },
    {
     "name": "stderr",
     "output_type": "stream",
     "text": [
      "$HCBK: possibly delisted; no price data found  (1d 2023-12-28 -> 2024-01-27)\n"
     ]
    },
    {
     "name": "stdout",
     "output_type": "stream",
     "text": [
      "Error fetching data for HCBK: No historical data available for HCBK around 2024-01-27.\n"
     ]
    },
    {
     "name": "stderr",
     "output_type": "stream",
     "text": [
      "$HLS: possibly delisted; no price data found  (1d 2023-12-28 -> 2024-01-27)\n"
     ]
    },
    {
     "name": "stdout",
     "output_type": "stream",
     "text": [
      "Error fetching data for HLS: No historical data available for HLS around 2024-01-27.\n"
     ]
    },
    {
     "name": "stderr",
     "output_type": "stream",
     "text": [
      "$HL-B: possibly delisted; no timezone found\n"
     ]
    },
    {
     "name": "stdout",
     "output_type": "stream",
     "text": [
      "Error fetching data for HL-B: No historical data available for HL-B around 2024-01-27.\n"
     ]
    },
    {
     "name": "stderr",
     "output_type": "stream",
     "text": [
      "$NPV-C: possibly delisted; no timezone found\n",
      "$WBCO: possibly delisted; no price data found  (1d 2023-12-28 -> 2024-01-27)\n"
     ]
    },
    {
     "name": "stdout",
     "output_type": "stream",
     "text": [
      "Error fetching data for NPV-C: No historical data available for NPV-C around 2024-01-27.\n",
      "Error fetching data for WBCO: No historical data available for WBCO around 2024-01-27.\n"
     ]
    },
    {
     "name": "stderr",
     "output_type": "stream",
     "text": [
      "$BFS-C: possibly delisted; no timezone found\n"
     ]
    },
    {
     "name": "stdout",
     "output_type": "stream",
     "text": [
      "Error fetching data for BFS-C: No historical data available for BFS-C around 2024-01-27.\n"
     ]
    },
    {
     "name": "stderr",
     "output_type": "stream",
     "text": [
      "$BBRG: possibly delisted; no price data found  (1d 2023-12-28 -> 2024-01-27)\n"
     ]
    },
    {
     "name": "stdout",
     "output_type": "stream",
     "text": [
      "Error fetching data for BBRG: No historical data available for BBRG around 2024-01-27.\n"
     ]
    },
    {
     "name": "stderr",
     "output_type": "stream",
     "text": [
      "$TDA: possibly delisted; no timezone found\n"
     ]
    },
    {
     "name": "stdout",
     "output_type": "stream",
     "text": [
      "Error fetching data for TDA: No historical data available for TDA around 2024-01-27.\n"
     ]
    },
    {
     "name": "stderr",
     "output_type": "stream",
     "text": [
      "$AUQ: possibly delisted; no price data found  (1d 2023-12-28 -> 2024-01-27)\n",
      "$DCA: possibly delisted; no price data found  (1d 2023-12-28 -> 2024-01-27)\n",
      "$GUA: possibly delisted; no price data found  (1d 2023-12-28 -> 2024-01-27)\n"
     ]
    },
    {
     "name": "stdout",
     "output_type": "stream",
     "text": [
      "Error fetching data for AUQ: No historical data available for AUQ around 2024-01-27.\n",
      "Error fetching data for DCA: No historical data available for DCA around 2024-01-27.\n",
      "Error fetching data for GUA: No historical data available for GUA around 2024-01-27.\n",
      "Error fetching data for FCNCA: Expecting value: line 1 column 1 (char 0)\n"
     ]
    },
    {
     "name": "stderr",
     "output_type": "stream",
     "text": [
      "$OCZ: possibly delisted; no price data found  (1d 2023-12-28 -> 2024-01-27)\n"
     ]
    },
    {
     "name": "stdout",
     "output_type": "stream",
     "text": [
      "Error fetching data for OCZ: No historical data available for OCZ around 2024-01-27.\n"
     ]
    },
    {
     "name": "stderr",
     "output_type": "stream",
     "text": [
      "Failed to get ticker 'LFC' reason: Expecting value: line 1 column 1 (char 0)\n",
      "$LFC: possibly delisted; no timezone found\n"
     ]
    },
    {
     "name": "stdout",
     "output_type": "stream",
     "text": [
      "Error fetching data for LFC: No historical data available for LFC around 2024-01-27.\n"
     ]
    },
    {
     "name": "stderr",
     "output_type": "stream",
     "text": [
      "Failed to get ticker 'C.A' reason: Expecting value: line 1 column 1 (char 0)\n",
      "$C.A: possibly delisted; no timezone found\n"
     ]
    },
    {
     "name": "stdout",
     "output_type": "stream",
     "text": [
      "Error fetching data for C.A: No historical data available for C.A around 2024-01-27.\n"
     ]
    },
    {
     "name": "stderr",
     "output_type": "stream",
     "text": [
      "$BCO: possibly delisted; no price data found  (1d 2023-12-28 -> 2024-01-27)\n"
     ]
    },
    {
     "name": "stdout",
     "output_type": "stream",
     "text": [
      "Error fetching data for BCO: No historical data available for BCO around 2024-01-27.\n"
     ]
    },
    {
     "name": "stderr",
     "output_type": "stream",
     "text": [
      "$MXT: possibly delisted; no price data found  (1d 2023-12-28 -> 2024-01-27)\n"
     ]
    },
    {
     "name": "stdout",
     "output_type": "stream",
     "text": [
      "Error fetching data for MXT: No historical data available for MXT around 2024-01-27.\n"
     ]
    },
    {
     "name": "stderr",
     "output_type": "stream",
     "text": [
      "$IROQ: possibly delisted; no price data found  (1d 2023-12-28 -> 2024-01-27)\n"
     ]
    },
    {
     "name": "stdout",
     "output_type": "stream",
     "text": [
      "Error fetching data for IROQ: No historical data available for IROQ around 2024-01-27.\n"
     ]
    },
    {
     "name": "stderr",
     "output_type": "stream",
     "text": [
      "$IRC: possibly delisted; no price data found  (1d 2023-12-28 -> 2024-01-27)\n"
     ]
    },
    {
     "name": "stdout",
     "output_type": "stream",
     "text": [
      "Error fetching data for IRC: No historical data available for IRC around 2024-01-27.\n"
     ]
    },
    {
     "name": "stderr",
     "output_type": "stream",
     "text": [
      "Failed to get ticker 'IRE-B' reason: Expecting value: line 1 column 1 (char 0)\n",
      "$IRE-B: possibly delisted; no timezone found\n"
     ]
    },
    {
     "name": "stdout",
     "output_type": "stream",
     "text": [
      "Error fetching data for IRE-B: No historical data available for IRE-B around 2024-01-27.\n"
     ]
    },
    {
     "name": "stderr",
     "output_type": "stream",
     "text": [
      "Failed to get ticker 'PSB-R' reason: Expecting value: line 1 column 1 (char 0)\n",
      "$PSB-R: possibly delisted; no timezone found\n"
     ]
    },
    {
     "name": "stdout",
     "output_type": "stream",
     "text": [
      "Error fetching data for PSB-R: No historical data available for PSB-R around 2024-01-27.\n"
     ]
    },
    {
     "name": "stderr",
     "output_type": "stream",
     "text": [
      "$RVT: possibly delisted; no price data found  (1d 2023-12-28 -> 2024-01-27)\n"
     ]
    },
    {
     "name": "stdout",
     "output_type": "stream",
     "text": [
      "Error fetching data for RVT: No historical data available for RVT around 2024-01-27.\n"
     ]
    },
    {
     "name": "stderr",
     "output_type": "stream",
     "text": [
      "$DANG: possibly delisted; no price data found  (1d 2023-12-28 -> 2024-01-27)\n"
     ]
    },
    {
     "name": "stdout",
     "output_type": "stream",
     "text": [
      "Error fetching data for DANG: No historical data available for DANG around 2024-01-27.\n"
     ]
    },
    {
     "name": "stderr",
     "output_type": "stream",
     "text": [
      "$PNFP: possibly delisted; no price data found  (1d 2023-12-28 -> 2024-01-27)\n"
     ]
    },
    {
     "name": "stdout",
     "output_type": "stream",
     "text": [
      "Error fetching data for PNFP: No historical data available for PNFP around 2024-01-27.\n"
     ]
    },
    {
     "name": "stderr",
     "output_type": "stream",
     "text": [
      "$ATRC: possibly delisted; no price data found  (1d 2023-12-28 -> 2024-01-27)\n"
     ]
    },
    {
     "name": "stdout",
     "output_type": "stream",
     "text": [
      "Error fetching data for ATRC: No historical data available for ATRC around 2024-01-27.\n"
     ]
    },
    {
     "name": "stderr",
     "output_type": "stream",
     "text": [
      "Failed to get ticker 'OVRL' reason: Expecting value: line 1 column 1 (char 0)\n",
      "$OVRL: possibly delisted; no timezone found\n"
     ]
    },
    {
     "name": "stdout",
     "output_type": "stream",
     "text": [
      "Error fetching data for OVRL: No historical data available for OVRL around 2024-01-27.\n"
     ]
    },
    {
     "name": "stderr",
     "output_type": "stream",
     "text": [
      "Failed to get ticker 'CEM' reason: Expecting value: line 1 column 1 (char 0)\n",
      "$CEM: possibly delisted; no timezone found\n"
     ]
    },
    {
     "name": "stdout",
     "output_type": "stream",
     "text": [
      "Error fetching data for CEM: No historical data available for CEM around 2024-01-27.\n"
     ]
    },
    {
     "name": "stderr",
     "output_type": "stream",
     "text": [
      "Failed to get ticker 'CCCL' reason: Expecting value: line 1 column 1 (char 0)\n",
      "$CCCL: possibly delisted; no timezone found\n"
     ]
    },
    {
     "name": "stdout",
     "output_type": "stream",
     "text": [
      "Error fetching data for CCCL: No historical data available for CCCL around 2024-01-27.\n"
     ]
    },
    {
     "name": "stderr",
     "output_type": "stream",
     "text": [
      "$GAME: possibly delisted; no price data found  (1d 2023-12-28 -> 2024-01-27)\n"
     ]
    },
    {
     "name": "stdout",
     "output_type": "stream",
     "text": [
      "Error fetching data for GAME: No historical data available for GAME around 2024-01-27.\n"
     ]
    },
    {
     "name": "stderr",
     "output_type": "stream",
     "text": [
      "$TNH: possibly delisted; no price data found  (1d 2023-12-28 -> 2024-01-27)\n"
     ]
    },
    {
     "name": "stdout",
     "output_type": "stream",
     "text": [
      "Error fetching data for TNH: No historical data available for TNH around 2024-01-27.\n"
     ]
    },
    {
     "name": "stderr",
     "output_type": "stream",
     "text": [
      "$INGR: possibly delisted; no price data found  (1d 2023-12-28 -> 2024-01-27)\n"
     ]
    },
    {
     "name": "stdout",
     "output_type": "stream",
     "text": [
      "Error fetching data for INGR: No historical data available for INGR around 2024-01-27.\n"
     ]
    },
    {
     "name": "stderr",
     "output_type": "stream",
     "text": [
      "$PMO: possibly delisted; no price data found  (1d 2023-12-28 -> 2024-01-27)\n"
     ]
    },
    {
     "name": "stdout",
     "output_type": "stream",
     "text": [
      "Error fetching data for PMO: No historical data available for PMO around 2024-01-27.\n"
     ]
    },
    {
     "name": "stderr",
     "output_type": "stream",
     "text": [
      "$OVAS: possibly delisted; no price data found  (1d 2023-12-28 -> 2024-01-27)\n"
     ]
    },
    {
     "name": "stdout",
     "output_type": "stream",
     "text": [
      "Error fetching data for OVAS: No historical data available for OVAS around 2024-01-27.\n"
     ]
    },
    {
     "name": "stderr",
     "output_type": "stream",
     "text": [
      "Failed to get ticker 'HYL' reason: Expecting value: line 1 column 1 (char 0)\n",
      "$HYL: possibly delisted; no timezone found\n"
     ]
    },
    {
     "name": "stdout",
     "output_type": "stream",
     "text": [
      "Error fetching data for HYL: No historical data available for HYL around 2024-01-27.\n"
     ]
    },
    {
     "name": "stderr",
     "output_type": "stream",
     "text": [
      "$CGA: possibly delisted; no price data found  (1d 2023-12-28 -> 2024-01-27)\n"
     ]
    },
    {
     "name": "stdout",
     "output_type": "stream",
     "text": [
      "Error fetching data for CGA: No historical data available for CGA around 2024-01-27.\n"
     ]
    },
    {
     "name": "stderr",
     "output_type": "stream",
     "text": [
      "$THG: possibly delisted; no price data found  (1d 2023-12-28 -> 2024-01-27)\n"
     ]
    },
    {
     "name": "stdout",
     "output_type": "stream",
     "text": [
      "Error fetching data for THG: No historical data available for THG around 2024-01-27.\n"
     ]
    },
    {
     "name": "stderr",
     "output_type": "stream",
     "text": [
      "Failed to get ticker 'GTAT' reason: Expecting value: line 1 column 1 (char 0)\n",
      "$GTAT: possibly delisted; no timezone found\n"
     ]
    },
    {
     "name": "stdout",
     "output_type": "stream",
     "text": [
      "Error fetching data for GTAT: No historical data available for GTAT around 2024-01-27.\n"
     ]
    },
    {
     "name": "stderr",
     "output_type": "stream",
     "text": [
      "Failed to get ticker 'EBR.B' reason: Expecting value: line 1 column 1 (char 0)\n",
      "$EBR.B: possibly delisted; no timezone found\n"
     ]
    },
    {
     "name": "stdout",
     "output_type": "stream",
     "text": [
      "Error fetching data for EBR.B: No historical data available for EBR.B around 2024-01-27.\n"
     ]
    },
    {
     "name": "stderr",
     "output_type": "stream",
     "text": [
      "$BSI: possibly delisted; no price data found  (1d 2023-12-28 -> 2024-01-27)\n"
     ]
    },
    {
     "name": "stdout",
     "output_type": "stream",
     "text": [
      "Error fetching data for BSI: No historical data available for BSI around 2024-01-27.\n"
     ]
    },
    {
     "name": "stderr",
     "output_type": "stream",
     "text": [
      "$JOF: possibly delisted; no price data found  (1d 2023-12-28 -> 2024-01-27)\n"
     ]
    },
    {
     "name": "stdout",
     "output_type": "stream",
     "text": [
      "Error fetching data for JOF: No historical data available for JOF around 2024-01-27.\n"
     ]
    },
    {
     "name": "stderr",
     "output_type": "stream",
     "text": [
      "$EMDR: possibly delisted; no price data found  (1d 2023-12-28 -> 2024-01-27)\n"
     ]
    },
    {
     "name": "stdout",
     "output_type": "stream",
     "text": [
      "Error fetching data for EMDR: No historical data available for EMDR around 2024-01-27.\n"
     ]
    },
    {
     "name": "stderr",
     "output_type": "stream",
     "text": [
      "$RIO: possibly delisted; no price data found  (1d 2023-12-28 -> 2024-01-27)\n"
     ]
    },
    {
     "name": "stdout",
     "output_type": "stream",
     "text": [
      "Error fetching data for RIO: No historical data available for RIO around 2024-01-27.\n"
     ]
    },
    {
     "name": "stderr",
     "output_type": "stream",
     "text": [
      "Failed to get ticker 'CHS-A' reason: Expecting value: line 1 column 1 (char 0)\n",
      "$CHS-A: possibly delisted; no timezone found\n"
     ]
    },
    {
     "name": "stdout",
     "output_type": "stream",
     "text": [
      "Error fetching data for CHS-A: No historical data available for CHS-A around 2024-01-27.\n"
     ]
    },
    {
     "name": "stderr",
     "output_type": "stream",
     "text": [
      "$LOW: possibly delisted; no price data found  (1d 2023-12-28 -> 2024-01-27)\n"
     ]
    },
    {
     "name": "stdout",
     "output_type": "stream",
     "text": [
      "Error fetching data for LOW: No historical data available for LOW around 2024-01-27.\n"
     ]
    },
    {
     "name": "stderr",
     "output_type": "stream",
     "text": [
      "$GWRE: possibly delisted; no price data found  (1d 2023-12-28 -> 2024-01-27)\n"
     ]
    },
    {
     "name": "stdout",
     "output_type": "stream",
     "text": [
      "Error fetching data for GWRE: No historical data available for GWRE around 2024-01-27.\n"
     ]
    },
    {
     "name": "stderr",
     "output_type": "stream",
     "text": [
      "$CASY: possibly delisted; no price data found  (1d 2023-12-28 -> 2024-01-27)\n"
     ]
    },
    {
     "name": "stdout",
     "output_type": "stream",
     "text": [
      "Error fetching data for CASY: No historical data available for CASY around 2024-01-27.\n"
     ]
    },
    {
     "name": "stderr",
     "output_type": "stream",
     "text": [
      "Failed to get ticker 'WMGIZ' reason: Expecting value: line 1 column 1 (char 0)\n",
      "$WMGIZ: possibly delisted; no timezone found\n"
     ]
    },
    {
     "name": "stdout",
     "output_type": "stream",
     "text": [
      "Error fetching data for WMGIZ: No historical data available for WMGIZ around 2024-01-27.\n"
     ]
    },
    {
     "name": "stderr",
     "output_type": "stream",
     "text": [
      "$GRR: possibly delisted; no price data found  (1d 2023-12-28 -> 2024-01-27)\n"
     ]
    },
    {
     "name": "stdout",
     "output_type": "stream",
     "text": [
      "Error fetching data for GRR: No historical data available for GRR around 2024-01-27.\n"
     ]
    },
    {
     "name": "stderr",
     "output_type": "stream",
     "text": [
      "$LXP: possibly delisted; no price data found  (1d 2023-12-28 -> 2024-01-27)\n"
     ]
    },
    {
     "name": "stdout",
     "output_type": "stream",
     "text": [
      "Error fetching data for LXP: No historical data available for LXP around 2024-01-27.\n"
     ]
    },
    {
     "name": "stderr",
     "output_type": "stream",
     "text": [
      "$TINY: possibly delisted; no price data found  (1d 2023-12-28 -> 2024-01-27)\n"
     ]
    },
    {
     "name": "stdout",
     "output_type": "stream",
     "text": [
      "Error fetching data for TINY: No historical data available for TINY around 2024-01-27.\n"
     ]
    },
    {
     "name": "stderr",
     "output_type": "stream",
     "text": [
      "$CWST: possibly delisted; no price data found  (1d 2023-12-28 -> 2024-01-27)\n"
     ]
    },
    {
     "name": "stdout",
     "output_type": "stream",
     "text": [
      "Error fetching data for CWST: No historical data available for CWST around 2024-01-27.\n"
     ]
    },
    {
     "name": "stderr",
     "output_type": "stream",
     "text": [
      "$DHF: possibly delisted; no price data found  (1d 2023-12-28 -> 2024-01-27)\n"
     ]
    },
    {
     "name": "stdout",
     "output_type": "stream",
     "text": [
      "Error fetching data for DHF: No historical data available for DHF around 2024-01-27.\n"
     ]
    },
    {
     "name": "stderr",
     "output_type": "stream",
     "text": [
      "$HEQ: possibly delisted; no price data found  (1d 2023-12-28 -> 2024-01-27)\n"
     ]
    },
    {
     "name": "stdout",
     "output_type": "stream",
     "text": [
      "Error fetching data for HEQ: No historical data available for HEQ around 2024-01-27.\n"
     ]
    },
    {
     "name": "stderr",
     "output_type": "stream",
     "text": [
      "$L: possibly delisted; no price data found  (1d 2023-12-28 -> 2024-01-27)\n"
     ]
    },
    {
     "name": "stdout",
     "output_type": "stream",
     "text": [
      "Error fetching data for L: No historical data available for L around 2024-01-27.\n"
     ]
    },
    {
     "name": "stderr",
     "output_type": "stream",
     "text": [
      "Failed to get ticker 'PRGX' reason: Expecting value: line 1 column 1 (char 0)\n",
      "$PRGX: possibly delisted; no timezone found\n"
     ]
    },
    {
     "name": "stdout",
     "output_type": "stream",
     "text": [
      "Error fetching data for PRGX: No historical data available for PRGX around 2024-01-27.\n"
     ]
    },
    {
     "name": "stderr",
     "output_type": "stream",
     "text": [
      "Failed to get ticker 'IMCB' reason: Expecting value: line 1 column 1 (char 0)\n",
      "$IMCB: possibly delisted; no timezone found\n"
     ]
    },
    {
     "name": "stdout",
     "output_type": "stream",
     "text": [
      "Error fetching data for IMCB: No historical data available for IMCB around 2024-01-27.\n"
     ]
    },
    {
     "name": "stderr",
     "output_type": "stream",
     "text": [
      "$GRPN: possibly delisted; no price data found  (1d 2023-12-28 -> 2024-01-27)\n"
     ]
    },
    {
     "name": "stdout",
     "output_type": "stream",
     "text": [
      "Error fetching data for GRPN: No historical data available for GRPN around 2024-01-27.\n"
     ]
    },
    {
     "name": "stderr",
     "output_type": "stream",
     "text": [
      "$METR: possibly delisted; no price data found  (1d 2023-12-28 -> 2024-01-27)\n"
     ]
    },
    {
     "name": "stdout",
     "output_type": "stream",
     "text": [
      "Error fetching data for METR: No historical data available for METR around 2024-01-27.\n"
     ]
    },
    {
     "name": "stderr",
     "output_type": "stream",
     "text": [
      "$MAG: possibly delisted; no price data found  (1d 2023-12-28 -> 2024-01-27)\n"
     ]
    },
    {
     "name": "stdout",
     "output_type": "stream",
     "text": [
      "Error fetching data for MAG: No historical data available for MAG around 2024-01-27.\n"
     ]
    },
    {
     "name": "stderr",
     "output_type": "stream",
     "text": [
      "$SAP: possibly delisted; no price data found  (1d 2023-12-28 -> 2024-01-27)\n"
     ]
    },
    {
     "name": "stdout",
     "output_type": "stream",
     "text": [
      "Error fetching data for SAP: No historical data available for SAP around 2024-01-27.\n"
     ]
    },
    {
     "name": "stderr",
     "output_type": "stream",
     "text": [
      "Failed to get ticker 'UIHC' reason: Expecting value: line 1 column 1 (char 0)\n",
      "$UIHC: possibly delisted; no timezone found\n"
     ]
    },
    {
     "name": "stdout",
     "output_type": "stream",
     "text": [
      "Error fetching data for UIHC: No historical data available for UIHC around 2024-01-27.\n"
     ]
    },
    {
     "name": "stderr",
     "output_type": "stream",
     "text": [
      "Failed to get ticker 'NTC-D' reason: Expecting value: line 1 column 1 (char 0)\n",
      "$NTC-D: possibly delisted; no timezone found\n"
     ]
    },
    {
     "name": "stdout",
     "output_type": "stream",
     "text": [
      "Error fetching data for NTC-D: No historical data available for NTC-D around 2024-01-27.\n"
     ]
    },
    {
     "name": "stderr",
     "output_type": "stream",
     "text": [
      "Failed to get ticker 'PEI-A' reason: Expecting value: line 1 column 1 (char 0)\n",
      "$PEI-A: possibly delisted; no timezone found\n"
     ]
    },
    {
     "name": "stdout",
     "output_type": "stream",
     "text": [
      "Error fetching data for PEI-A: No historical data available for PEI-A around 2024-01-27.\n"
     ]
    },
    {
     "name": "stderr",
     "output_type": "stream",
     "text": [
      "Failed to get ticker 'DEI' reason: Expecting value: line 1 column 1 (char 0)\n",
      "$DEI: possibly delisted; no timezone found\n"
     ]
    },
    {
     "name": "stdout",
     "output_type": "stream",
     "text": [
      "Error fetching data for DEI: No historical data available for DEI around 2024-01-27.\n"
     ]
    },
    {
     "name": "stderr",
     "output_type": "stream",
     "text": [
      "$RCS: possibly delisted; no price data found  (1d 2023-12-28 -> 2024-01-27)\n"
     ]
    },
    {
     "name": "stdout",
     "output_type": "stream",
     "text": [
      "Error fetching data for RCS: No historical data available for RCS around 2024-01-27.\n"
     ]
    },
    {
     "name": "stderr",
     "output_type": "stream",
     "text": [
      "$ACW: possibly delisted; no price data found  (1d 2023-12-28 -> 2024-01-27)\n"
     ]
    },
    {
     "name": "stdout",
     "output_type": "stream",
     "text": [
      "Error fetching data for ACW: No historical data available for ACW around 2024-01-27.\n"
     ]
    },
    {
     "name": "stderr",
     "output_type": "stream",
     "text": [
      "$GBCI: possibly delisted; no price data found  (1d 2023-12-28 -> 2024-01-27)\n"
     ]
    },
    {
     "name": "stdout",
     "output_type": "stream",
     "text": [
      "Error fetching data for GBCI: No historical data available for GBCI around 2024-01-27.\n"
     ]
    },
    {
     "name": "stderr",
     "output_type": "stream",
     "text": [
      "$GLW: possibly delisted; no price data found  (1d 2023-12-28 -> 2024-01-27)\n"
     ]
    },
    {
     "name": "stdout",
     "output_type": "stream",
     "text": [
      "Error fetching data for GLW: No historical data available for GLW around 2024-01-27.\n"
     ]
    },
    {
     "name": "stderr",
     "output_type": "stream",
     "text": [
      "$IP: possibly delisted; no price data found  (1d 2023-12-28 -> 2024-01-27)\n"
     ]
    },
    {
     "name": "stdout",
     "output_type": "stream",
     "text": [
      "Error fetching data for IP: No historical data available for IP around 2024-01-27.\n"
     ]
    },
    {
     "name": "stderr",
     "output_type": "stream",
     "text": [
      "$EXTR: possibly delisted; no price data found  (1d 2023-12-28 -> 2024-01-27)\n"
     ]
    },
    {
     "name": "stdout",
     "output_type": "stream",
     "text": [
      "Error fetching data for EXTR: No historical data available for EXTR around 2024-01-27.\n"
     ]
    },
    {
     "name": "stderr",
     "output_type": "stream",
     "text": [
      "Failed to get ticker 'AMRB' reason: Expecting value: line 1 column 1 (char 0)\n",
      "$AMRB: possibly delisted; no timezone found\n"
     ]
    },
    {
     "name": "stdout",
     "output_type": "stream",
     "text": [
      "Error fetching data for AMRB: No historical data available for AMRB around 2024-01-27.\n"
     ]
    },
    {
     "name": "stderr",
     "output_type": "stream",
     "text": [
      "Failed to get ticker 'MIC' reason: Expecting value: line 1 column 1 (char 0)\n",
      "$MIC: possibly delisted; no timezone found\n"
     ]
    },
    {
     "name": "stdout",
     "output_type": "stream",
     "text": [
      "Error fetching data for MIC: No historical data available for MIC around 2024-01-27.\n"
     ]
    },
    {
     "name": "stderr",
     "output_type": "stream",
     "text": [
      "$CART: possibly delisted; no price data found  (1d 2023-12-28 -> 2024-01-27)\n"
     ]
    },
    {
     "name": "stdout",
     "output_type": "stream",
     "text": [
      "Error fetching data for CART: No historical data available for CART around 2024-01-27.\n"
     ]
    },
    {
     "name": "stderr",
     "output_type": "stream",
     "text": [
      "Failed to get ticker 'TCB.W' reason: Expecting value: line 1 column 1 (char 0)\n",
      "$TCB.W: possibly delisted; no timezone found\n"
     ]
    },
    {
     "name": "stdout",
     "output_type": "stream",
     "text": [
      "Error fetching data for TCB.W: No historical data available for TCB.W around 2024-01-27.\n"
     ]
    },
    {
     "name": "stderr",
     "output_type": "stream",
     "text": [
      "Failed to get ticker 'IVAN' reason: Expecting value: line 1 column 1 (char 0)\n",
      "$IVAN: possibly delisted; no timezone found\n"
     ]
    },
    {
     "name": "stdout",
     "output_type": "stream",
     "text": [
      "Error fetching data for IVAN: No historical data available for IVAN around 2024-01-27.\n"
     ]
    },
    {
     "name": "stderr",
     "output_type": "stream",
     "text": [
      "$PSCT: possibly delisted; no price data found  (1d 2023-12-28 -> 2024-01-27)\n"
     ]
    },
    {
     "name": "stdout",
     "output_type": "stream",
     "text": [
      "Error fetching data for PSCT: No historical data available for PSCT around 2024-01-27.\n"
     ]
    },
    {
     "name": "stderr",
     "output_type": "stream",
     "text": [
      "Failed to get ticker 'SGYPW' reason: Expecting value: line 1 column 1 (char 0)\n",
      "$SGYPW: possibly delisted; no timezone found\n"
     ]
    },
    {
     "name": "stdout",
     "output_type": "stream",
     "text": [
      "Error fetching data for SGYPW: No historical data available for SGYPW around 2024-01-27.\n"
     ]
    },
    {
     "name": "stderr",
     "output_type": "stream",
     "text": [
      "Failed to get ticker 'S' reason: Expecting value: line 1 column 1 (char 0)\n",
      "$S: possibly delisted; no timezone found\n"
     ]
    },
    {
     "name": "stdout",
     "output_type": "stream",
     "text": [
      "Error fetching data for S: No historical data available for S around 2024-01-27.\n"
     ]
    },
    {
     "name": "stderr",
     "output_type": "stream",
     "text": [
      "Failed to get ticker 'AUY' reason: Expecting value: line 1 column 1 (char 0)\n",
      "$AUY: possibly delisted; no timezone found\n"
     ]
    },
    {
     "name": "stdout",
     "output_type": "stream",
     "text": [
      "Error fetching data for AUY: No historical data available for AUY around 2024-01-27.\n"
     ]
    },
    {
     "name": "stderr",
     "output_type": "stream",
     "text": [
      "Failed to get ticker 'DL' reason: Expecting value: line 1 column 1 (char 0)\n",
      "$DL: possibly delisted; no timezone found\n"
     ]
    },
    {
     "name": "stdout",
     "output_type": "stream",
     "text": [
      "Error fetching data for DL: No historical data available for DL around 2024-01-27.\n"
     ]
    },
    {
     "name": "stderr",
     "output_type": "stream",
     "text": [
      "Failed to get ticker 'IDSA' reason: Expecting value: line 1 column 1 (char 0)\n",
      "$IDSA: possibly delisted; no timezone found\n"
     ]
    },
    {
     "name": "stdout",
     "output_type": "stream",
     "text": [
      "Error fetching data for IDSA: No historical data available for IDSA around 2024-01-27.\n"
     ]
    },
    {
     "name": "stderr",
     "output_type": "stream",
     "text": [
      "$KMM: possibly delisted; no price data found  (1d 2023-12-28 -> 2024-01-27)\n"
     ]
    },
    {
     "name": "stdout",
     "output_type": "stream",
     "text": [
      "Error fetching data for KMM: No historical data available for KMM around 2024-01-27.\n"
     ]
    },
    {
     "name": "stderr",
     "output_type": "stream",
     "text": [
      "Failed to get ticker 'SAN-F' reason: Expecting value: line 1 column 1 (char 0)\n",
      "$SAN-F: possibly delisted; no timezone found\n"
     ]
    },
    {
     "name": "stdout",
     "output_type": "stream",
     "text": [
      "Error fetching data for SAN-F: No historical data available for SAN-F around 2024-01-27.\n"
     ]
    },
    {
     "name": "stderr",
     "output_type": "stream",
     "text": [
      "$DMO: possibly delisted; no price data found  (1d 2023-12-28 -> 2024-01-27)\n"
     ]
    },
    {
     "name": "stdout",
     "output_type": "stream",
     "text": [
      "Error fetching data for DMO: No historical data available for DMO around 2024-01-27.\n"
     ]
    },
    {
     "name": "stderr",
     "output_type": "stream",
     "text": [
      "$CKSW: possibly delisted; no price data found  (1d 2023-12-28 -> 2024-01-27)\n"
     ]
    },
    {
     "name": "stdout",
     "output_type": "stream",
     "text": [
      "Error fetching data for CKSW: No historical data available for CKSW around 2024-01-27.\n"
     ]
    },
    {
     "name": "stderr",
     "output_type": "stream",
     "text": [
      "$BRE: possibly delisted; no price data found  (1d 2023-12-28 -> 2024-01-27)\n"
     ]
    },
    {
     "name": "stdout",
     "output_type": "stream",
     "text": [
      "Error fetching data for BRE: No historical data available for BRE around 2024-01-27.\n"
     ]
    },
    {
     "name": "stderr",
     "output_type": "stream",
     "text": [
      "Failed to get ticker 'ASRV' reason: Expecting value: line 1 column 1 (char 0)\n",
      "$ASRV: possibly delisted; no timezone found\n"
     ]
    },
    {
     "name": "stdout",
     "output_type": "stream",
     "text": [
      "Error fetching data for ASRV: No historical data available for ASRV around 2024-01-27.\n"
     ]
    },
    {
     "name": "stderr",
     "output_type": "stream",
     "text": [
      "$PAAS: possibly delisted; no price data found  (1d 2023-12-28 -> 2024-01-27)\n"
     ]
    },
    {
     "name": "stdout",
     "output_type": "stream",
     "text": [
      "Error fetching data for PAAS: No historical data available for PAAS around 2024-01-27.\n"
     ]
    },
    {
     "name": "stderr",
     "output_type": "stream",
     "text": [
      "$LTD: possibly delisted; no price data found  (1d 2023-12-28 -> 2024-01-27)\n"
     ]
    },
    {
     "name": "stdout",
     "output_type": "stream",
     "text": [
      "Error fetching data for LTD: No historical data available for LTD around 2024-01-27.\n"
     ]
    },
    {
     "name": "stderr",
     "output_type": "stream",
     "text": [
      "Failed to get ticker 'KIM-H' reason: Expecting value: line 1 column 1 (char 0)\n",
      "$KIM-H: possibly delisted; no timezone found\n"
     ]
    },
    {
     "name": "stdout",
     "output_type": "stream",
     "text": [
      "Error fetching data for KIM-H: No historical data available for KIM-H around 2024-01-27.\n"
     ]
    },
    {
     "name": "stderr",
     "output_type": "stream",
     "text": [
      "$TNXP: possibly delisted; no price data found  (1d 2023-12-28 -> 2024-01-27)\n"
     ]
    },
    {
     "name": "stdout",
     "output_type": "stream",
     "text": [
      "Error fetching data for TNXP: No historical data available for TNXP around 2024-01-27.\n"
     ]
    },
    {
     "name": "stderr",
     "output_type": "stream",
     "text": [
      "$QRE: possibly delisted; no price data found  (1d 2023-12-28 -> 2024-01-27)\n"
     ]
    },
    {
     "name": "stdout",
     "output_type": "stream",
     "text": [
      "Error fetching data for QRE: No historical data available for QRE around 2024-01-27.\n"
     ]
    },
    {
     "name": "stderr",
     "output_type": "stream",
     "text": [
      "$ESI: possibly delisted; no price data found  (1d 2023-12-28 -> 2024-01-27)\n"
     ]
    },
    {
     "name": "stdout",
     "output_type": "stream",
     "text": [
      "Error fetching data for ESI: No historical data available for ESI around 2024-01-27.\n"
     ]
    },
    {
     "name": "stderr",
     "output_type": "stream",
     "text": [
      "Failed to get ticker 'SCON' reason: Expecting value: line 1 column 1 (char 0)\n",
      "$SCON: possibly delisted; no timezone found\n"
     ]
    },
    {
     "name": "stdout",
     "output_type": "stream",
     "text": [
      "Error fetching data for SCON: No historical data available for SCON around 2024-01-27.\n"
     ]
    },
    {
     "name": "stderr",
     "output_type": "stream",
     "text": [
      "$SSS: possibly delisted; no price data found  (1d 2023-12-28 -> 2024-01-27)\n"
     ]
    },
    {
     "name": "stdout",
     "output_type": "stream",
     "text": [
      "Error fetching data for SSS: No historical data available for SSS around 2024-01-27.\n"
     ]
    },
    {
     "name": "stderr",
     "output_type": "stream",
     "text": [
      "Failed to get ticker 'MEILZ' reason: Expecting value: line 1 column 1 (char 0)\n",
      "$MEILZ: possibly delisted; no timezone found\n"
     ]
    },
    {
     "name": "stdout",
     "output_type": "stream",
     "text": [
      "Error fetching data for MEILZ: No historical data available for MEILZ around 2024-01-27.\n"
     ]
    },
    {
     "name": "stderr",
     "output_type": "stream",
     "text": [
      "$NKA: possibly delisted; no price data found  (1d 2023-12-28 -> 2024-01-27)\n"
     ]
    },
    {
     "name": "stdout",
     "output_type": "stream",
     "text": [
      "Error fetching data for NKA: No historical data available for NKA around 2024-01-27.\n"
     ]
    },
    {
     "name": "stderr",
     "output_type": "stream",
     "text": [
      "$HEES: possibly delisted; no price data found  (1d 2023-12-28 -> 2024-01-27)\n"
     ]
    },
    {
     "name": "stdout",
     "output_type": "stream",
     "text": [
      "Error fetching data for HEES: No historical data available for HEES around 2024-01-27.\n"
     ]
    },
    {
     "name": "stderr",
     "output_type": "stream",
     "text": [
      "$CSTM: possibly delisted; no price data found  (1d 2023-12-28 -> 2024-01-27)\n"
     ]
    },
    {
     "name": "stdout",
     "output_type": "stream",
     "text": [
      "Error fetching data for CSTM: No historical data available for CSTM around 2024-01-27.\n"
     ]
    },
    {
     "name": "stderr",
     "output_type": "stream",
     "text": [
      "Failed to get ticker 'SMED' reason: Expecting value: line 1 column 1 (char 0)\n",
      "$SMED: possibly delisted; no timezone found\n"
     ]
    },
    {
     "name": "stdout",
     "output_type": "stream",
     "text": [
      "Error fetching data for SMED: No historical data available for SMED around 2024-01-27.\n"
     ]
    },
    {
     "name": "stderr",
     "output_type": "stream",
     "text": [
      "Failed to get ticker 'INXBW' reason: Expecting value: line 1 column 1 (char 0)\n",
      "$INXBW: possibly delisted; no timezone found\n"
     ]
    },
    {
     "name": "stdout",
     "output_type": "stream",
     "text": [
      "Error fetching data for INXBW: No historical data available for INXBW around 2024-01-27.\n"
     ]
    },
    {
     "name": "stderr",
     "output_type": "stream",
     "text": [
      "$PAR: possibly delisted; no price data found  (1d 2023-12-28 -> 2024-01-27)\n"
     ]
    },
    {
     "name": "stdout",
     "output_type": "stream",
     "text": [
      "Error fetching data for PAR: No historical data available for PAR around 2024-01-27.\n"
     ]
    },
    {
     "name": "stderr",
     "output_type": "stream",
     "text": [
      "$GOLD: possibly delisted; no price data found  (1d 2023-12-28 -> 2024-01-27)\n"
     ]
    },
    {
     "name": "stdout",
     "output_type": "stream",
     "text": [
      "Error fetching data for GOLD: No historical data available for GOLD around 2024-01-27.\n"
     ]
    },
    {
     "name": "stderr",
     "output_type": "stream",
     "text": [
      "Failed to get ticker 'OCR-A' reason: Expecting value: line 1 column 1 (char 0)\n",
      "$OCR-A: possibly delisted; no timezone found\n"
     ]
    },
    {
     "name": "stdout",
     "output_type": "stream",
     "text": [
      "Error fetching data for OCR-A: No historical data available for OCR-A around 2024-01-27.\n"
     ]
    },
    {
     "name": "stderr",
     "output_type": "stream",
     "text": [
      "$TDY: possibly delisted; no price data found  (1d 2023-12-28 -> 2024-01-27)\n"
     ]
    },
    {
     "name": "stdout",
     "output_type": "stream",
     "text": [
      "Error fetching data for TDY: No historical data available for TDY around 2024-01-27.\n"
     ]
    },
    {
     "name": "stderr",
     "output_type": "stream",
     "text": [
      "$GM: possibly delisted; no price data found  (1d 2023-12-28 -> 2024-01-27)\n"
     ]
    },
    {
     "name": "stdout",
     "output_type": "stream",
     "text": [
      "Error fetching data for GM: No historical data available for GM around 2024-01-27.\n"
     ]
    },
    {
     "name": "stderr",
     "output_type": "stream",
     "text": [
      "$PSCI: possibly delisted; no price data found  (1d 2023-12-28 -> 2024-01-27)\n"
     ]
    },
    {
     "name": "stdout",
     "output_type": "stream",
     "text": [
      "Error fetching data for PSCI: No historical data available for PSCI around 2024-01-27.\n"
     ]
    },
    {
     "name": "stderr",
     "output_type": "stream",
     "text": [
      "Failed to get ticker 'NES' reason: Expecting value: line 1 column 1 (char 0)\n",
      "$NES: possibly delisted; no timezone found\n"
     ]
    },
    {
     "name": "stdout",
     "output_type": "stream",
     "text": [
      "Error fetching data for NES: No historical data available for NES around 2024-01-27.\n"
     ]
    },
    {
     "name": "stderr",
     "output_type": "stream",
     "text": [
      "Failed to get ticker 'MFV' reason: Expecting value: line 1 column 1 (char 0)\n",
      "$MFV: possibly delisted; no timezone found\n"
     ]
    },
    {
     "name": "stdout",
     "output_type": "stream",
     "text": [
      "Error fetching data for MFV: No historical data available for MFV around 2024-01-27.\n"
     ]
    },
    {
     "name": "stderr",
     "output_type": "stream",
     "text": [
      "Failed to get ticker 'JONE' reason: Expecting value: line 1 column 1 (char 0)\n",
      "$JONE: possibly delisted; no timezone found\n"
     ]
    },
    {
     "name": "stdout",
     "output_type": "stream",
     "text": [
      "Error fetching data for JONE: No historical data available for JONE around 2024-01-27.\n"
     ]
    },
    {
     "name": "stderr",
     "output_type": "stream",
     "text": [
      "$MPA: possibly delisted; no price data found  (1d 2023-12-28 -> 2024-01-27)\n"
     ]
    },
    {
     "name": "stdout",
     "output_type": "stream",
     "text": [
      "Error fetching data for MPA: No historical data available for MPA around 2024-01-27.\n"
     ]
    },
    {
     "name": "stderr",
     "output_type": "stream",
     "text": [
      "Failed to get ticker 'CLN-A' reason: Expecting value: line 1 column 1 (char 0)\n",
      "$CLN-A: possibly delisted; no timezone found\n"
     ]
    },
    {
     "name": "stdout",
     "output_type": "stream",
     "text": [
      "Error fetching data for CLN-A: No historical data available for CLN-A around 2024-01-27.\n"
     ]
    },
    {
     "name": "stderr",
     "output_type": "stream",
     "text": [
      "$BTU: possibly delisted; no price data found  (1d 2023-12-28 -> 2024-01-27)\n"
     ]
    },
    {
     "name": "stdout",
     "output_type": "stream",
     "text": [
      "Error fetching data for BTU: No historical data available for BTU around 2024-01-27.\n"
     ]
    },
    {
     "name": "stderr",
     "output_type": "stream",
     "text": [
      "$EOG: possibly delisted; no price data found  (1d 2023-12-28 -> 2024-01-27)\n"
     ]
    },
    {
     "name": "stdout",
     "output_type": "stream",
     "text": [
      "Error fetching data for EOG: No historical data available for EOG around 2024-01-27.\n"
     ]
    },
    {
     "name": "stderr",
     "output_type": "stream",
     "text": [
      "$RBA: possibly delisted; no price data found  (1d 2023-12-28 -> 2024-01-27)\n"
     ]
    },
    {
     "name": "stdout",
     "output_type": "stream",
     "text": [
      "Error fetching data for RBA: No historical data available for RBA around 2024-01-27.\n"
     ]
    },
    {
     "name": "stderr",
     "output_type": "stream",
     "text": [
      "$ASG: possibly delisted; no price data found  (1d 2023-12-28 -> 2024-01-27)\n"
     ]
    },
    {
     "name": "stdout",
     "output_type": "stream",
     "text": [
      "Error fetching data for ASG: No historical data available for ASG around 2024-01-27.\n"
     ]
    },
    {
     "name": "stderr",
     "output_type": "stream",
     "text": [
      "Failed to get ticker 'TCB-B' reason: Expecting value: line 1 column 1 (char 0)\n",
      "$TCB-B: possibly delisted; no timezone found\n"
     ]
    },
    {
     "name": "stdout",
     "output_type": "stream",
     "text": [
      "Error fetching data for TCB-B: No historical data available for TCB-B around 2024-01-27.\n"
     ]
    },
    {
     "name": "stderr",
     "output_type": "stream",
     "text": [
      "$VTHR: possibly delisted; no price data found  (1d 2023-12-28 -> 2024-01-27)\n"
     ]
    },
    {
     "name": "stdout",
     "output_type": "stream",
     "text": [
      "Error fetching data for VTHR: No historical data available for VTHR around 2024-01-27.\n"
     ]
    },
    {
     "name": "stderr",
     "output_type": "stream",
     "text": [
      "Failed to get ticker 'KMF' reason: Expecting value: line 1 column 1 (char 0)\n",
      "$KMF: possibly delisted; no timezone found\n"
     ]
    },
    {
     "name": "stdout",
     "output_type": "stream",
     "text": [
      "Error fetching data for KMF: No historical data available for KMF around 2024-01-27.\n"
     ]
    },
    {
     "name": "stderr",
     "output_type": "stream",
     "text": [
      "$EVER: possibly delisted; no price data found  (1d 2023-12-28 -> 2024-01-27)\n"
     ]
    },
    {
     "name": "stdout",
     "output_type": "stream",
     "text": [
      "Error fetching data for EVER: No historical data available for EVER around 2024-01-27.\n"
     ]
    },
    {
     "name": "stderr",
     "output_type": "stream",
     "text": [
      "Failed to get ticker 'NPY' reason: Expecting value: line 1 column 1 (char 0)\n",
      "$NPY: possibly delisted; no timezone found\n"
     ]
    },
    {
     "name": "stdout",
     "output_type": "stream",
     "text": [
      "Error fetching data for NPY: No historical data available for NPY around 2024-01-27.\n"
     ]
    },
    {
     "name": "stderr",
     "output_type": "stream",
     "text": [
      "Failed to get ticker 'ARE-E' reason: Expecting value: line 1 column 1 (char 0)\n",
      "$ARE-E: possibly delisted; no timezone found\n"
     ]
    },
    {
     "name": "stdout",
     "output_type": "stream",
     "text": [
      "Error fetching data for ARE-E: No historical data available for ARE-E around 2024-01-27.\n"
     ]
    },
    {
     "name": "stderr",
     "output_type": "stream",
     "text": [
      "$EBTC: possibly delisted; no price data found  (1d 2023-12-28 -> 2024-01-27)\n"
     ]
    },
    {
     "name": "stdout",
     "output_type": "stream",
     "text": [
      "Error fetching data for EBTC: No historical data available for EBTC around 2024-01-27.\n"
     ]
    },
    {
     "name": "stderr",
     "output_type": "stream",
     "text": [
      "$GBAB: possibly delisted; no price data found  (1d 2023-12-28 -> 2024-01-27)\n"
     ]
    },
    {
     "name": "stdout",
     "output_type": "stream",
     "text": [
      "Error fetching data for GBAB: No historical data available for GBAB around 2024-01-27.\n"
     ]
    },
    {
     "name": "stderr",
     "output_type": "stream",
     "text": [
      "Failed to get ticker 'FBS-A' reason: Expecting value: line 1 column 1 (char 0)\n",
      "$FBS-A: possibly delisted; no timezone found\n"
     ]
    },
    {
     "name": "stdout",
     "output_type": "stream",
     "text": [
      "Error fetching data for FBS-A: No historical data available for FBS-A around 2024-01-27.\n"
     ]
    },
    {
     "name": "stderr",
     "output_type": "stream",
     "text": [
      "Failed to get ticker 'ANAT' reason: Expecting value: line 1 column 1 (char 0)\n",
      "$ANAT: possibly delisted; no timezone found\n"
     ]
    },
    {
     "name": "stdout",
     "output_type": "stream",
     "text": [
      "Error fetching data for ANAT: No historical data available for ANAT around 2024-01-27.\n"
     ]
    },
    {
     "name": "stderr",
     "output_type": "stream",
     "text": [
      "$MCOX: possibly delisted; no price data found  (1d 2023-12-28 -> 2024-01-27)\n"
     ]
    },
    {
     "name": "stdout",
     "output_type": "stream",
     "text": [
      "Error fetching data for MCOX: No historical data available for MCOX around 2024-01-27.\n"
     ]
    },
    {
     "name": "stderr",
     "output_type": "stream",
     "text": [
      "$SGMA: possibly delisted; no price data found  (1d 2023-12-28 -> 2024-01-27)\n"
     ]
    },
    {
     "name": "stdout",
     "output_type": "stream",
     "text": [
      "Error fetching data for SGMA: No historical data available for SGMA around 2024-01-27.\n"
     ]
    },
    {
     "name": "stderr",
     "output_type": "stream",
     "text": [
      "$BMRN: possibly delisted; no price data found  (1d 2023-12-28 -> 2024-01-27)\n"
     ]
    },
    {
     "name": "stdout",
     "output_type": "stream",
     "text": [
      "Error fetching data for BMRN: No historical data available for BMRN around 2024-01-27.\n"
     ]
    },
    {
     "name": "stderr",
     "output_type": "stream",
     "text": [
      "$FBNC: possibly delisted; no price data found  (1d 2023-12-28 -> 2024-01-27)\n"
     ]
    },
    {
     "name": "stdout",
     "output_type": "stream",
     "text": [
      "Error fetching data for FBNC: No historical data available for FBNC around 2024-01-27.\n"
     ]
    },
    {
     "name": "stderr",
     "output_type": "stream",
     "text": [
      "Failed to get ticker 'TAP.A' reason: Expecting value: line 1 column 1 (char 0)\n",
      "$TAP.A: possibly delisted; no timezone found\n"
     ]
    },
    {
     "name": "stdout",
     "output_type": "stream",
     "text": [
      "Error fetching data for TAP.A: No historical data available for TAP.A around 2024-01-27.\n"
     ]
    },
    {
     "name": "stderr",
     "output_type": "stream",
     "text": [
      "$PERF: possibly delisted; no price data found  (1d 2023-12-28 -> 2024-01-27)\n"
     ]
    },
    {
     "name": "stdout",
     "output_type": "stream",
     "text": [
      "Error fetching data for PERF: No historical data available for PERF around 2024-01-27.\n"
     ]
    },
    {
     "name": "stderr",
     "output_type": "stream",
     "text": [
      "Failed to get ticker 'ROYT' reason: Expecting value: line 1 column 1 (char 0)\n",
      "$ROYT: possibly delisted; no timezone found\n"
     ]
    },
    {
     "name": "stdout",
     "output_type": "stream",
     "text": [
      "Error fetching data for ROYT: No historical data available for ROYT around 2024-01-27.\n"
     ]
    },
    {
     "name": "stderr",
     "output_type": "stream",
     "text": [
      "$NPBC: possibly delisted; no price data found  (1d 2023-12-28 -> 2024-01-27)\n"
     ]
    },
    {
     "name": "stdout",
     "output_type": "stream",
     "text": [
      "Error fetching data for NPBC: No historical data available for NPBC around 2024-01-27.\n"
     ]
    },
    {
     "name": "stderr",
     "output_type": "stream",
     "text": [
      "Failed to get ticker 'ASYS' reason: Expecting value: line 1 column 1 (char 0)\n",
      "$ASYS: possibly delisted; no timezone found\n"
     ]
    },
    {
     "name": "stdout",
     "output_type": "stream",
     "text": [
      "Error fetching data for ASYS: No historical data available for ASYS around 2024-01-27.\n"
     ]
    },
    {
     "name": "stderr",
     "output_type": "stream",
     "text": [
      "$HBM: possibly delisted; no price data found  (1d 2023-12-28 -> 2024-01-27)\n"
     ]
    },
    {
     "name": "stdout",
     "output_type": "stream",
     "text": [
      "Error fetching data for HBM: No historical data available for HBM around 2024-01-27.\n"
     ]
    },
    {
     "name": "stderr",
     "output_type": "stream",
     "text": [
      "$MTG: possibly delisted; no price data found  (1d 2023-12-28 -> 2024-01-27)\n"
     ]
    },
    {
     "name": "stdout",
     "output_type": "stream",
     "text": [
      "Error fetching data for MTG: No historical data available for MTG around 2024-01-27.\n"
     ]
    },
    {
     "name": "stderr",
     "output_type": "stream",
     "text": [
      "Failed to get ticker 'GCVRZ' reason: Expecting value: line 1 column 1 (char 0)\n",
      "$GCVRZ: possibly delisted; no timezone found\n"
     ]
    },
    {
     "name": "stdout",
     "output_type": "stream",
     "text": [
      "Error fetching data for GCVRZ: No historical data available for GCVRZ around 2024-01-27.\n"
     ]
    },
    {
     "name": "stderr",
     "output_type": "stream",
     "text": [
      "Failed to get ticker 'AFH' reason: Expecting value: line 1 column 1 (char 0)\n",
      "$AFH: possibly delisted; no timezone found\n"
     ]
    },
    {
     "name": "stdout",
     "output_type": "stream",
     "text": [
      "Error fetching data for AFH: No historical data available for AFH around 2024-01-27.\n"
     ]
    },
    {
     "name": "stderr",
     "output_type": "stream",
     "text": [
      "Failed to get ticker 'ADVS' reason: Expecting value: line 1 column 1 (char 0)\n",
      "$ADVS: possibly delisted; no timezone found\n"
     ]
    },
    {
     "name": "stdout",
     "output_type": "stream",
     "text": [
      "Error fetching data for ADVS: No historical data available for ADVS around 2024-01-27.\n"
     ]
    },
    {
     "name": "stderr",
     "output_type": "stream",
     "text": [
      "$GRFS: possibly delisted; no price data found  (1d 2023-12-28 -> 2024-01-27)\n"
     ]
    },
    {
     "name": "stdout",
     "output_type": "stream",
     "text": [
      "Error fetching data for GRFS: No historical data available for GRFS around 2024-01-27.\n"
     ]
    },
    {
     "name": "stderr",
     "output_type": "stream",
     "text": [
      "$PCP: possibly delisted; no price data found  (1d 2023-12-28 -> 2024-01-27)\n"
     ]
    },
    {
     "name": "stdout",
     "output_type": "stream",
     "text": [
      "Error fetching data for PCP: No historical data available for PCP around 2024-01-27.\n"
     ]
    },
    {
     "name": "stderr",
     "output_type": "stream",
     "text": [
      "Failed to get ticker 'ARQL' reason: Expecting value: line 1 column 1 (char 0)\n",
      "$ARQL: possibly delisted; no timezone found\n"
     ]
    },
    {
     "name": "stdout",
     "output_type": "stream",
     "text": [
      "Error fetching data for ARQL: No historical data available for ARQL around 2024-01-27.\n"
     ]
    },
    {
     "name": "stderr",
     "output_type": "stream",
     "text": [
      "Failed to get ticker 'CYS-B' reason: Expecting value: line 1 column 1 (char 0)\n",
      "$CYS-B: possibly delisted; no timezone found\n"
     ]
    },
    {
     "name": "stdout",
     "output_type": "stream",
     "text": [
      "Error fetching data for CYS-B: No historical data available for CYS-B around 2024-01-27.\n"
     ]
    },
    {
     "name": "stderr",
     "output_type": "stream",
     "text": [
      "$VRNM: possibly delisted; no price data found  (1d 2023-12-28 -> 2024-01-27)\n"
     ]
    },
    {
     "name": "stdout",
     "output_type": "stream",
     "text": [
      "Error fetching data for VRNM: No historical data available for VRNM around 2024-01-27.\n"
     ]
    },
    {
     "name": "stderr",
     "output_type": "stream",
     "text": [
      "$MA: possibly delisted; no price data found  (1d 2023-12-28 -> 2024-01-27)\n"
     ]
    },
    {
     "name": "stdout",
     "output_type": "stream",
     "text": [
      "Error fetching data for MA: No historical data available for MA around 2024-01-27.\n"
     ]
    },
    {
     "name": "stderr",
     "output_type": "stream",
     "text": [
      "$GTN: possibly delisted; no price data found  (1d 2023-12-28 -> 2024-01-27)\n"
     ]
    },
    {
     "name": "stdout",
     "output_type": "stream",
     "text": [
      "Error fetching data for GTN: No historical data available for GTN around 2024-01-27.\n"
     ]
    },
    {
     "name": "stderr",
     "output_type": "stream",
     "text": [
      "$BKE: possibly delisted; no price data found  (1d 2023-12-28 -> 2024-01-27)\n"
     ]
    },
    {
     "name": "stdout",
     "output_type": "stream",
     "text": [
      "Error fetching data for BKE: No historical data available for BKE around 2024-01-27.\n"
     ]
    },
    {
     "name": "stderr",
     "output_type": "stream",
     "text": [
      "$KEY: possibly delisted; no price data found  (1d 2023-12-28 -> 2024-01-27)\n"
     ]
    },
    {
     "name": "stdout",
     "output_type": "stream",
     "text": [
      "Error fetching data for KEY: No historical data available for KEY around 2024-01-27.\n"
     ]
    },
    {
     "name": "stderr",
     "output_type": "stream",
     "text": [
      "$OMCL: possibly delisted; no price data found  (1d 2023-12-28 -> 2024-01-27)\n"
     ]
    },
    {
     "name": "stdout",
     "output_type": "stream",
     "text": [
      "Error fetching data for OMCL: No historical data available for OMCL around 2024-01-27.\n"
     ]
    },
    {
     "name": "stderr",
     "output_type": "stream",
     "text": [
      "$COBZ: possibly delisted; no price data found  (1d 2023-12-28 -> 2024-01-27)\n"
     ]
    },
    {
     "name": "stdout",
     "output_type": "stream",
     "text": [
      "Error fetching data for COBZ: No historical data available for COBZ around 2024-01-27.\n"
     ]
    },
    {
     "name": "stderr",
     "output_type": "stream",
     "text": [
      "Failed to get ticker 'NMFC' reason: Expecting value: line 1 column 1 (char 0)\n",
      "$NMFC: possibly delisted; no timezone found\n"
     ]
    },
    {
     "name": "stdout",
     "output_type": "stream",
     "text": [
      "Error fetching data for NMFC: No historical data available for NMFC around 2024-01-27.\n"
     ]
    },
    {
     "name": "stderr",
     "output_type": "stream",
     "text": [
      "Failed to get ticker 'HJR' reason: Expecting value: line 1 column 1 (char 0)\n",
      "$HJR: possibly delisted; no timezone found\n"
     ]
    },
    {
     "name": "stdout",
     "output_type": "stream",
     "text": [
      "Error fetching data for HJR: No historical data available for HJR around 2024-01-27.\n"
     ]
    },
    {
     "name": "stderr",
     "output_type": "stream",
     "text": [
      "$GIL: possibly delisted; no price data found  (1d 2023-12-28 -> 2024-01-27)\n"
     ]
    },
    {
     "name": "stdout",
     "output_type": "stream",
     "text": [
      "Error fetching data for GIL: No historical data available for GIL around 2024-01-27.\n"
     ]
    },
    {
     "name": "stderr",
     "output_type": "stream",
     "text": [
      "$INTX: possibly delisted; no price data found  (1d 2023-12-28 -> 2024-01-27)\n"
     ]
    },
    {
     "name": "stdout",
     "output_type": "stream",
     "text": [
      "Error fetching data for INTX: No historical data available for INTX around 2024-01-27.\n"
     ]
    },
    {
     "name": "stderr",
     "output_type": "stream",
     "text": [
      "$FITB: possibly delisted; no price data found  (1d 2023-12-28 -> 2024-01-27)\n"
     ]
    },
    {
     "name": "stdout",
     "output_type": "stream",
     "text": [
      "Error fetching data for FITB: No historical data available for FITB around 2024-01-27.\n"
     ]
    },
    {
     "name": "stderr",
     "output_type": "stream",
     "text": [
      "$DFP: possibly delisted; no price data found  (1d 2023-12-28 -> 2024-01-27)\n"
     ]
    },
    {
     "name": "stdout",
     "output_type": "stream",
     "text": [
      "Error fetching data for DFP: No historical data available for DFP around 2024-01-27.\n"
     ]
    },
    {
     "name": "stderr",
     "output_type": "stream",
     "text": [
      "$LND: possibly delisted; no price data found  (1d 2023-12-28 -> 2024-01-27)\n"
     ]
    },
    {
     "name": "stdout",
     "output_type": "stream",
     "text": [
      "Error fetching data for LND: No historical data available for LND around 2024-01-27.\n"
     ]
    },
    {
     "name": "stderr",
     "output_type": "stream",
     "text": [
      "Failed to get ticker 'NEWT' reason: Expecting value: line 1 column 1 (char 0)\n",
      "$NEWT: possibly delisted; no timezone found\n"
     ]
    },
    {
     "name": "stdout",
     "output_type": "stream",
     "text": [
      "Error fetching data for NEWT: No historical data available for NEWT around 2024-01-27.\n"
     ]
    },
    {
     "name": "stderr",
     "output_type": "stream",
     "text": [
      "Failed to get ticker 'SIBC' reason: Expecting value: line 1 column 1 (char 0)\n",
      "$SIBC: possibly delisted; no timezone found\n"
     ]
    },
    {
     "name": "stdout",
     "output_type": "stream",
     "text": [
      "Error fetching data for SIBC: No historical data available for SIBC around 2024-01-27.\n"
     ]
    },
    {
     "name": "stderr",
     "output_type": "stream",
     "text": [
      "Failed to get ticker 'VSBN' reason: Expecting value: line 1 column 1 (char 0)\n",
      "$VSBN: possibly delisted; no timezone found\n"
     ]
    },
    {
     "name": "stdout",
     "output_type": "stream",
     "text": [
      "Error fetching data for VSBN: No historical data available for VSBN around 2024-01-27.\n"
     ]
    },
    {
     "name": "stderr",
     "output_type": "stream",
     "text": [
      "$GERN: possibly delisted; no price data found  (1d 2023-12-28 -> 2024-01-27)\n"
     ]
    },
    {
     "name": "stdout",
     "output_type": "stream",
     "text": [
      "Error fetching data for GERN: No historical data available for GERN around 2024-01-27.\n"
     ]
    },
    {
     "name": "stderr",
     "output_type": "stream",
     "text": [
      "Failed to get ticker 'TCP' reason: Expecting value: line 1 column 1 (char 0)\n",
      "$TCP: possibly delisted; no timezone found\n"
     ]
    },
    {
     "name": "stdout",
     "output_type": "stream",
     "text": [
      "Error fetching data for TCP: No historical data available for TCP around 2024-01-27.\n"
     ]
    },
    {
     "name": "stderr",
     "output_type": "stream",
     "text": [
      "$AMCF: possibly delisted; no price data found  (1d 2023-12-28 -> 2024-01-27)\n"
     ]
    },
    {
     "name": "stdout",
     "output_type": "stream",
     "text": [
      "Error fetching data for AMCF: No historical data available for AMCF around 2024-01-27.\n"
     ]
    },
    {
     "name": "stderr",
     "output_type": "stream",
     "text": [
      "$CXW: possibly delisted; no price data found  (1d 2023-12-28 -> 2024-01-27)\n"
     ]
    },
    {
     "name": "stdout",
     "output_type": "stream",
     "text": [
      "Error fetching data for CXW: No historical data available for CXW around 2024-01-27.\n"
     ]
    },
    {
     "name": "stderr",
     "output_type": "stream",
     "text": [
      "Failed to get ticker 'WLBPZ' reason: Expecting value: line 1 column 1 (char 0)\n",
      "$WLBPZ: possibly delisted; no timezone found\n"
     ]
    },
    {
     "name": "stdout",
     "output_type": "stream",
     "text": [
      "Error fetching data for WLBPZ: No historical data available for WLBPZ around 2024-01-27.\n"
     ]
    },
    {
     "name": "stderr",
     "output_type": "stream",
     "text": [
      "$DRTX: possibly delisted; no price data found  (1d 2023-12-28 -> 2024-01-27)\n"
     ]
    },
    {
     "name": "stdout",
     "output_type": "stream",
     "text": [
      "Error fetching data for DRTX: No historical data available for DRTX around 2024-01-27.\n"
     ]
    },
    {
     "name": "stderr",
     "output_type": "stream",
     "text": [
      "$IGD: possibly delisted; no price data found  (1d 2023-12-28 -> 2024-01-27)\n"
     ]
    },
    {
     "name": "stdout",
     "output_type": "stream",
     "text": [
      "Error fetching data for IGD: No historical data available for IGD around 2024-01-27.\n"
     ]
    },
    {
     "name": "stderr",
     "output_type": "stream",
     "text": [
      "$NMRX: possibly delisted; no price data found  (1d 2023-12-28 -> 2024-01-27)\n"
     ]
    },
    {
     "name": "stdout",
     "output_type": "stream",
     "text": [
      "Error fetching data for NMRX: No historical data available for NMRX around 2024-01-27.\n"
     ]
    },
    {
     "name": "stderr",
     "output_type": "stream",
     "text": [
      "$STEI: possibly delisted; no price data found  (1d 2023-12-28 -> 2024-01-27)\n"
     ]
    },
    {
     "name": "stdout",
     "output_type": "stream",
     "text": [
      "Error fetching data for STEI: No historical data available for STEI around 2024-01-27.\n"
     ]
    },
    {
     "name": "stderr",
     "output_type": "stream",
     "text": [
      "Failed to get ticker 'CXH' reason: Expecting value: line 1 column 1 (char 0)\n",
      "$CXH: possibly delisted; no timezone found\n"
     ]
    },
    {
     "name": "stdout",
     "output_type": "stream",
     "text": [
      "Error fetching data for CXH: No historical data available for CXH around 2024-01-27.\n"
     ]
    },
    {
     "name": "stderr",
     "output_type": "stream",
     "text": [
      "$AMZN: possibly delisted; no price data found  (1d 2023-12-28 -> 2024-01-27)\n"
     ]
    },
    {
     "name": "stdout",
     "output_type": "stream",
     "text": [
      "Error fetching data for AMZN: No historical data available for AMZN around 2024-01-27.\n"
     ]
    },
    {
     "name": "stderr",
     "output_type": "stream",
     "text": [
      "Failed to get ticker 'LOR' reason: Expecting value: line 1 column 1 (char 0)\n",
      "$LOR: possibly delisted; no timezone found\n"
     ]
    },
    {
     "name": "stdout",
     "output_type": "stream",
     "text": [
      "Error fetching data for LOR: No historical data available for LOR around 2024-01-27.\n"
     ]
    },
    {
     "name": "stderr",
     "output_type": "stream",
     "text": [
      "$CTCM: possibly delisted; no price data found  (1d 2023-12-28 -> 2024-01-27)\n"
     ]
    },
    {
     "name": "stdout",
     "output_type": "stream",
     "text": [
      "Error fetching data for CTCM: No historical data available for CTCM around 2024-01-27.\n"
     ]
    },
    {
     "name": "stderr",
     "output_type": "stream",
     "text": [
      "$FPO: possibly delisted; no price data found  (1d 2023-12-28 -> 2024-01-27)\n"
     ]
    },
    {
     "name": "stdout",
     "output_type": "stream",
     "text": [
      "Error fetching data for FPO: No historical data available for FPO around 2024-01-27.\n"
     ]
    },
    {
     "name": "stderr",
     "output_type": "stream",
     "text": [
      "$PFMT: possibly delisted; no price data found  (1d 2023-12-28 -> 2024-01-27)\n"
     ]
    },
    {
     "name": "stdout",
     "output_type": "stream",
     "text": [
      "Error fetching data for PFMT: No historical data available for PFMT around 2024-01-27.\n"
     ]
    },
    {
     "name": "stderr",
     "output_type": "stream",
     "text": [
      "$PZC: possibly delisted; no price data found  (1d 2023-12-28 -> 2024-01-27)\n"
     ]
    },
    {
     "name": "stdout",
     "output_type": "stream",
     "text": [
      "Error fetching data for PZC: No historical data available for PZC around 2024-01-27.\n"
     ]
    },
    {
     "name": "stderr",
     "output_type": "stream",
     "text": [
      "Failed to get ticker 'RBS' reason: Expecting value: line 1 column 1 (char 0)\n",
      "$RBS: possibly delisted; no timezone found\n"
     ]
    },
    {
     "name": "stdout",
     "output_type": "stream",
     "text": [
      "Error fetching data for RBS: No historical data available for RBS around 2024-01-27.\n"
     ]
    },
    {
     "name": "stderr",
     "output_type": "stream",
     "text": [
      "$MSM: possibly delisted; no price data found  (1d 2023-12-28 -> 2024-01-27)\n"
     ]
    },
    {
     "name": "stdout",
     "output_type": "stream",
     "text": [
      "Error fetching data for MSM: No historical data available for MSM around 2024-01-27.\n"
     ]
    },
    {
     "name": "stderr",
     "output_type": "stream",
     "text": [
      "$KRNY: possibly delisted; no price data found  (1d 2023-12-28 -> 2024-01-27)\n"
     ]
    },
    {
     "name": "stdout",
     "output_type": "stream",
     "text": [
      "Error fetching data for KRNY: No historical data available for KRNY around 2024-01-27.\n"
     ]
    },
    {
     "name": "stderr",
     "output_type": "stream",
     "text": [
      "Failed to get ticker 'CORR' reason: Expecting value: line 1 column 1 (char 0)\n",
      "$CORR: possibly delisted; no timezone found\n"
     ]
    },
    {
     "name": "stdout",
     "output_type": "stream",
     "text": [
      "Error fetching data for CORR: No historical data available for CORR around 2024-01-27.\n"
     ]
    },
    {
     "name": "stderr",
     "output_type": "stream",
     "text": [
      "$ERS: possibly delisted; no price data found  (1d 2023-12-28 -> 2024-01-27)\n"
     ]
    },
    {
     "name": "stdout",
     "output_type": "stream",
     "text": [
      "Error fetching data for ERS: No historical data available for ERS around 2024-01-27.\n"
     ]
    },
    {
     "name": "stderr",
     "output_type": "stream",
     "text": [
      "$HCKT: possibly delisted; no price data found  (1d 2023-12-28 -> 2024-01-27)\n"
     ]
    },
    {
     "name": "stdout",
     "output_type": "stream",
     "text": [
      "Error fetching data for HCKT: No historical data available for HCKT around 2024-01-27.\n"
     ]
    },
    {
     "name": "stderr",
     "output_type": "stream",
     "text": [
      "$RUK: possibly delisted; no price data found  (1d 2023-12-28 -> 2024-01-27)\n"
     ]
    },
    {
     "name": "stdout",
     "output_type": "stream",
     "text": [
      "Error fetching data for RUK: No historical data available for RUK around 2024-01-27.\n"
     ]
    },
    {
     "name": "stderr",
     "output_type": "stream",
     "text": [
      "Failed to get ticker 'HSB-B' reason: Expecting value: line 1 column 1 (char 0)\n",
      "$HSB-B: possibly delisted; no timezone found\n"
     ]
    },
    {
     "name": "stdout",
     "output_type": "stream",
     "text": [
      "Error fetching data for HSB-B: No historical data available for HSB-B around 2024-01-27.\n"
     ]
    },
    {
     "name": "stderr",
     "output_type": "stream",
     "text": [
      "Failed to get ticker 'NANO' reason: Expecting value: line 1 column 1 (char 0)\n",
      "$NANO: possibly delisted; no timezone found\n"
     ]
    },
    {
     "name": "stdout",
     "output_type": "stream",
     "text": [
      "Error fetching data for NANO: No historical data available for NANO around 2024-01-27.\n"
     ]
    },
    {
     "name": "stderr",
     "output_type": "stream",
     "text": [
      "$UCBA: possibly delisted; no price data found  (1d 2023-12-28 -> 2024-01-27)\n"
     ]
    },
    {
     "name": "stdout",
     "output_type": "stream",
     "text": [
      "Error fetching data for UCBA: No historical data available for UCBA around 2024-01-27.\n"
     ]
    },
    {
     "name": "stderr",
     "output_type": "stream",
     "text": [
      "Failed to get ticker 'DATA' reason: Expecting value: line 1 column 1 (char 0)\n",
      "$DATA: possibly delisted; no timezone found\n"
     ]
    },
    {
     "name": "stdout",
     "output_type": "stream",
     "text": [
      "Error fetching data for DATA: No historical data available for DATA around 2024-01-27.\n"
     ]
    },
    {
     "name": "stderr",
     "output_type": "stream",
     "text": [
      "$MUC: possibly delisted; no price data found  (1d 2023-12-28 -> 2024-01-27)\n"
     ]
    },
    {
     "name": "stdout",
     "output_type": "stream",
     "text": [
      "Error fetching data for MUC: No historical data available for MUC around 2024-01-27.\n"
     ]
    },
    {
     "name": "stderr",
     "output_type": "stream",
     "text": [
      "Failed to get ticker 'HCAP' reason: Expecting value: line 1 column 1 (char 0)\n",
      "$HCAP: possibly delisted; no timezone found\n"
     ]
    },
    {
     "name": "stdout",
     "output_type": "stream",
     "text": [
      "Error fetching data for HCAP: No historical data available for HCAP around 2024-01-27.\n"
     ]
    },
    {
     "name": "stderr",
     "output_type": "stream",
     "text": [
      "$JKS: possibly delisted; no price data found  (1d 2023-12-28 -> 2024-01-27)\n"
     ]
    },
    {
     "name": "stdout",
     "output_type": "stream",
     "text": [
      "Error fetching data for JKS: No historical data available for JKS around 2024-01-27.\n"
     ]
    },
    {
     "name": "stderr",
     "output_type": "stream",
     "text": [
      "$AH: possibly delisted; no price data found  (1d 2023-12-28 -> 2024-01-27)\n"
     ]
    },
    {
     "name": "stdout",
     "output_type": "stream",
     "text": [
      "Error fetching data for AH: No historical data available for AH around 2024-01-27.\n"
     ]
    },
    {
     "name": "stderr",
     "output_type": "stream",
     "text": [
      "Failed to get ticker 'GOODP' reason: Expecting value: line 1 column 1 (char 0)\n",
      "$GOODP: possibly delisted; no timezone found\n"
     ]
    },
    {
     "name": "stdout",
     "output_type": "stream",
     "text": [
      "Error fetching data for GOODP: No historical data available for GOODP around 2024-01-27.\n"
     ]
    },
    {
     "name": "stderr",
     "output_type": "stream",
     "text": [
      "$COSI: possibly delisted; no price data found  (1d 2023-12-28 -> 2024-01-27)\n"
     ]
    },
    {
     "name": "stdout",
     "output_type": "stream",
     "text": [
      "Error fetching data for COSI: No historical data available for COSI around 2024-01-27.\n"
     ]
    },
    {
     "name": "stderr",
     "output_type": "stream",
     "text": [
      "Failed to get ticker 'ERA' reason: Expecting value: line 1 column 1 (char 0)\n",
      "$ERA: possibly delisted; no timezone found\n"
     ]
    },
    {
     "name": "stdout",
     "output_type": "stream",
     "text": [
      "Error fetching data for ERA: No historical data available for ERA around 2024-01-27.\n"
     ]
    },
    {
     "name": "stderr",
     "output_type": "stream",
     "text": [
      "$BCRX: possibly delisted; no price data found  (1d 2023-12-28 -> 2024-01-27)\n"
     ]
    },
    {
     "name": "stdout",
     "output_type": "stream",
     "text": [
      "Error fetching data for BCRX: No historical data available for BCRX around 2024-01-27.\n"
     ]
    },
    {
     "name": "stderr",
     "output_type": "stream",
     "text": [
      "$ADI: possibly delisted; no price data found  (1d 2023-12-28 -> 2024-01-27)\n"
     ]
    },
    {
     "name": "stdout",
     "output_type": "stream",
     "text": [
      "Error fetching data for ADI: No historical data available for ADI around 2024-01-27.\n"
     ]
    },
    {
     "name": "stderr",
     "output_type": "stream",
     "text": [
      "$KORS: possibly delisted; no price data found  (1d 2023-12-28 -> 2024-01-27)\n"
     ]
    },
    {
     "name": "stdout",
     "output_type": "stream",
     "text": [
      "Error fetching data for KORS: No historical data available for KORS around 2024-01-27.\n"
     ]
    },
    {
     "name": "stderr",
     "output_type": "stream",
     "text": [
      "$PMF: possibly delisted; no price data found  (1d 2023-12-28 -> 2024-01-27)\n"
     ]
    },
    {
     "name": "stdout",
     "output_type": "stream",
     "text": [
      "Error fetching data for PMF: No historical data available for PMF around 2024-01-27.\n"
     ]
    },
    {
     "name": "stderr",
     "output_type": "stream",
     "text": [
      "$STKL: possibly delisted; no price data found  (1d 2023-12-28 -> 2024-01-27)\n"
     ]
    },
    {
     "name": "stdout",
     "output_type": "stream",
     "text": [
      "Error fetching data for STKL: No historical data available for STKL around 2024-01-27.\n"
     ]
    },
    {
     "name": "stderr",
     "output_type": "stream",
     "text": [
      "$XEL: possibly delisted; no price data found  (1d 2023-12-28 -> 2024-01-27)\n"
     ]
    },
    {
     "name": "stdout",
     "output_type": "stream",
     "text": [
      "Error fetching data for XEL: No historical data available for XEL around 2024-01-27.\n"
     ]
    },
    {
     "name": "stderr",
     "output_type": "stream",
     "text": [
      "$PLUG: possibly delisted; no price data found  (1d 2023-12-28 -> 2024-01-27)\n"
     ]
    },
    {
     "name": "stdout",
     "output_type": "stream",
     "text": [
      "Error fetching data for PLUG: No historical data available for PLUG around 2024-01-27.\n"
     ]
    },
    {
     "name": "stderr",
     "output_type": "stream",
     "text": [
      "Failed to get ticker 'NTC-F' reason: Expecting value: line 1 column 1 (char 0)\n",
      "$NTC-F: possibly delisted; no timezone found\n"
     ]
    },
    {
     "name": "stdout",
     "output_type": "stream",
     "text": [
      "Error fetching data for NTC-F: No historical data available for NTC-F around 2024-01-27.\n"
     ]
    },
    {
     "name": "stderr",
     "output_type": "stream",
     "text": [
      "Failed to get ticker 'KBIO' reason: Expecting value: line 1 column 1 (char 0)\n",
      "$KBIO: possibly delisted; no timezone found\n"
     ]
    },
    {
     "name": "stdout",
     "output_type": "stream",
     "text": [
      "Error fetching data for KBIO: No historical data available for KBIO around 2024-01-27.\n"
     ]
    },
    {
     "name": "stderr",
     "output_type": "stream",
     "text": [
      "Failed to get ticker 'HEP' reason: Expecting value: line 1 column 1 (char 0)\n",
      "$HEP: possibly delisted; no timezone found\n"
     ]
    },
    {
     "name": "stdout",
     "output_type": "stream",
     "text": [
      "Error fetching data for HEP: No historical data available for HEP around 2024-01-27.\n"
     ]
    },
    {
     "name": "stderr",
     "output_type": "stream",
     "text": [
      "$DEG: possibly delisted; no price data found  (1d 2023-12-28 -> 2024-01-27)\n"
     ]
    },
    {
     "name": "stdout",
     "output_type": "stream",
     "text": [
      "Error fetching data for DEG: No historical data available for DEG around 2024-01-27.\n"
     ]
    },
    {
     "name": "stderr",
     "output_type": "stream",
     "text": [
      "Failed to get ticker 'TCCA' reason: Expecting value: line 1 column 1 (char 0)\n",
      "$TCCA: possibly delisted; no timezone found\n"
     ]
    },
    {
     "name": "stdout",
     "output_type": "stream",
     "text": [
      "Error fetching data for TCCA: No historical data available for TCCA around 2024-01-27.\n"
     ]
    },
    {
     "name": "stderr",
     "output_type": "stream",
     "text": [
      "Failed to get ticker 'GIII' reason: Expecting value: line 1 column 1 (char 0)\n",
      "$GIII: possibly delisted; no timezone found\n"
     ]
    },
    {
     "name": "stdout",
     "output_type": "stream",
     "text": [
      "Error fetching data for GIII: No historical data available for GIII around 2024-01-27.\n"
     ]
    },
    {
     "name": "stderr",
     "output_type": "stream",
     "text": [
      "$AOSL: possibly delisted; no price data found  (1d 2023-12-28 -> 2024-01-27)\n"
     ]
    },
    {
     "name": "stdout",
     "output_type": "stream",
     "text": [
      "Error fetching data for AOSL: No historical data available for AOSL around 2024-01-27.\n"
     ]
    },
    {
     "name": "stderr",
     "output_type": "stream",
     "text": [
      "$VRTS: possibly delisted; no price data found  (1d 2023-12-28 -> 2024-01-27)\n"
     ]
    },
    {
     "name": "stdout",
     "output_type": "stream",
     "text": [
      "Error fetching data for VRTS: No historical data available for VRTS around 2024-01-27.\n"
     ]
    },
    {
     "name": "stderr",
     "output_type": "stream",
     "text": [
      "$ARLP: possibly delisted; no price data found  (1d 2023-12-28 -> 2024-01-27)\n"
     ]
    },
    {
     "name": "stdout",
     "output_type": "stream",
     "text": [
      "Error fetching data for ARLP: No historical data available for ARLP around 2024-01-27.\n"
     ]
    },
    {
     "name": "stderr",
     "output_type": "stream",
     "text": [
      "$GIVN: possibly delisted; no price data found  (1d 2023-12-28 -> 2024-01-27)\n"
     ]
    },
    {
     "name": "stdout",
     "output_type": "stream",
     "text": [
      "Error fetching data for GIVN: No historical data available for GIVN around 2024-01-27.\n"
     ]
    },
    {
     "name": "stderr",
     "output_type": "stream",
     "text": [
      "Failed to get ticker 'EMZ' reason: Expecting value: line 1 column 1 (char 0)\n",
      "$EMZ: possibly delisted; no timezone found\n"
     ]
    },
    {
     "name": "stdout",
     "output_type": "stream",
     "text": [
      "Error fetching data for EMZ: No historical data available for EMZ around 2024-01-27.\n"
     ]
    },
    {
     "name": "stderr",
     "output_type": "stream",
     "text": [
      "$PACR: possibly delisted; no price data found  (1d 2023-12-28 -> 2024-01-27)\n"
     ]
    },
    {
     "name": "stdout",
     "output_type": "stream",
     "text": [
      "Error fetching data for PACR: No historical data available for PACR around 2024-01-27.\n"
     ]
    },
    {
     "name": "stderr",
     "output_type": "stream",
     "text": [
      "Failed to get ticker 'HP' reason: Expecting value: line 1 column 1 (char 0)\n",
      "$HP: possibly delisted; no timezone found\n"
     ]
    },
    {
     "name": "stdout",
     "output_type": "stream",
     "text": [
      "Error fetching data for HP: No historical data available for HP around 2024-01-27.\n"
     ]
    },
    {
     "name": "stderr",
     "output_type": "stream",
     "text": [
      "$BRT: possibly delisted; no price data found  (1d 2023-12-28 -> 2024-01-27)\n"
     ]
    },
    {
     "name": "stdout",
     "output_type": "stream",
     "text": [
      "Error fetching data for BRT: No historical data available for BRT around 2024-01-27.\n"
     ]
    },
    {
     "name": "stderr",
     "output_type": "stream",
     "text": [
      "$EDMC: possibly delisted; no price data found  (1d 2023-12-28 -> 2024-01-27)\n"
     ]
    },
    {
     "name": "stdout",
     "output_type": "stream",
     "text": [
      "Error fetching data for EDMC: No historical data available for EDMC around 2024-01-27.\n"
     ]
    },
    {
     "name": "stderr",
     "output_type": "stream",
     "text": [
      "$AES: possibly delisted; no price data found  (1d 2023-12-28 -> 2024-01-27)\n"
     ]
    },
    {
     "name": "stdout",
     "output_type": "stream",
     "text": [
      "Error fetching data for AES: No historical data available for AES around 2024-01-27.\n"
     ]
    },
    {
     "name": "stderr",
     "output_type": "stream",
     "text": [
      "$EDF: possibly delisted; no price data found  (1d 2023-12-28 -> 2024-01-27)\n"
     ]
    },
    {
     "name": "stdout",
     "output_type": "stream",
     "text": [
      "Error fetching data for EDF: No historical data available for EDF around 2024-01-27.\n"
     ]
    },
    {
     "name": "stderr",
     "output_type": "stream",
     "text": [
      "$CLRX: possibly delisted; no price data found  (1d 2023-12-28 -> 2024-01-27)\n"
     ]
    },
    {
     "name": "stdout",
     "output_type": "stream",
     "text": [
      "Error fetching data for CLRX: No historical data available for CLRX around 2024-01-27.\n"
     ]
    },
    {
     "name": "stderr",
     "output_type": "stream",
     "text": [
      "Failed to get ticker 'HK' reason: Expecting value: line 1 column 1 (char 0)\n",
      "$HK: possibly delisted; no timezone found\n"
     ]
    },
    {
     "name": "stdout",
     "output_type": "stream",
     "text": [
      "Error fetching data for HK: No historical data available for HK around 2024-01-27.\n"
     ]
    },
    {
     "name": "stderr",
     "output_type": "stream",
     "text": [
      "$HBI: possibly delisted; no price data found  (1d 2023-12-28 -> 2024-01-27)\n"
     ]
    },
    {
     "name": "stdout",
     "output_type": "stream",
     "text": [
      "Error fetching data for HBI: No historical data available for HBI around 2024-01-27.\n"
     ]
    },
    {
     "name": "stderr",
     "output_type": "stream",
     "text": [
      "Failed to get ticker 'LORL' reason: Expecting value: line 1 column 1 (char 0)\n",
      "$LORL: possibly delisted; no timezone found\n"
     ]
    },
    {
     "name": "stdout",
     "output_type": "stream",
     "text": [
      "Error fetching data for LORL: No historical data available for LORL around 2024-01-27.\n"
     ]
    },
    {
     "name": "stderr",
     "output_type": "stream",
     "text": [
      "Failed to get ticker 'APU' reason: Expecting value: line 1 column 1 (char 0)\n",
      "$APU: possibly delisted; no timezone found\n"
     ]
    },
    {
     "name": "stdout",
     "output_type": "stream",
     "text": [
      "Error fetching data for APU: No historical data available for APU around 2024-01-27.\n"
     ]
    },
    {
     "name": "stderr",
     "output_type": "stream",
     "text": [
      "Failed to get ticker 'CHTP' reason: Expecting value: line 1 column 1 (char 0)\n",
      "$CHTP: possibly delisted; no timezone found\n"
     ]
    },
    {
     "name": "stdout",
     "output_type": "stream",
     "text": [
      "Error fetching data for CHTP: No historical data available for CHTP around 2024-01-27.\n"
     ]
    },
    {
     "name": "stderr",
     "output_type": "stream",
     "text": [
      "Failed to get ticker 'HAV' reason: Expecting value: line 1 column 1 (char 0)\n",
      "$HAV: possibly delisted; no timezone found\n"
     ]
    },
    {
     "name": "stdout",
     "output_type": "stream",
     "text": [
      "Error fetching data for HAV: No historical data available for HAV around 2024-01-27.\n"
     ]
    },
    {
     "name": "stderr",
     "output_type": "stream",
     "text": [
      "Failed to get ticker 'TOWR' reason: Expecting value: line 1 column 1 (char 0)\n",
      "$TOWR: possibly delisted; no timezone found\n"
     ]
    },
    {
     "name": "stdout",
     "output_type": "stream",
     "text": [
      "Error fetching data for TOWR: No historical data available for TOWR around 2024-01-27.\n"
     ]
    },
    {
     "name": "stderr",
     "output_type": "stream",
     "text": [
      "Failed to get ticker 'HMH' reason: Expecting value: line 1 column 1 (char 0)\n",
      "$HMH: possibly delisted; no timezone found\n"
     ]
    },
    {
     "name": "stdout",
     "output_type": "stream",
     "text": [
      "Error fetching data for HMH: No historical data available for HMH around 2024-01-27.\n"
     ]
    },
    {
     "name": "stderr",
     "output_type": "stream",
     "text": [
      "Failed to get ticker 'EGLE' reason: Expecting value: line 1 column 1 (char 0)\n",
      "$EGLE: possibly delisted; no timezone found\n"
     ]
    },
    {
     "name": "stdout",
     "output_type": "stream",
     "text": [
      "Error fetching data for EGLE: No historical data available for EGLE around 2024-01-27.\n"
     ]
    },
    {
     "name": "stderr",
     "output_type": "stream",
     "text": [
      "$VGLT: possibly delisted; no price data found  (1d 2023-12-28 -> 2024-01-27)\n"
     ]
    },
    {
     "name": "stdout",
     "output_type": "stream",
     "text": [
      "Error fetching data for VGLT: No historical data available for VGLT around 2024-01-27.\n"
     ]
    },
    {
     "name": "stderr",
     "output_type": "stream",
     "text": [
      "$ISRG: possibly delisted; no price data found  (1d 2023-12-28 -> 2024-01-27)\n"
     ]
    },
    {
     "name": "stdout",
     "output_type": "stream",
     "text": [
      "Error fetching data for ISRG: No historical data available for ISRG around 2024-01-27.\n"
     ]
    },
    {
     "name": "stderr",
     "output_type": "stream",
     "text": [
      "$CITZ: possibly delisted; no price data found  (1d 2023-12-28 -> 2024-01-27)\n"
     ]
    },
    {
     "name": "stdout",
     "output_type": "stream",
     "text": [
      "Error fetching data for CITZ: No historical data available for CITZ around 2024-01-27.\n"
     ]
    },
    {
     "name": "stderr",
     "output_type": "stream",
     "text": [
      "$CAS: possibly delisted; no price data found  (1d 2023-12-28 -> 2024-01-27)\n"
     ]
    },
    {
     "name": "stdout",
     "output_type": "stream",
     "text": [
      "Error fetching data for CAS: No historical data available for CAS around 2024-01-27.\n"
     ]
    },
    {
     "name": "stderr",
     "output_type": "stream",
     "text": [
      "$KRC: possibly delisted; no price data found  (1d 2023-12-28 -> 2024-01-27)\n"
     ]
    },
    {
     "name": "stdout",
     "output_type": "stream",
     "text": [
      "Error fetching data for KRC: No historical data available for KRC around 2024-01-27.\n"
     ]
    },
    {
     "name": "stderr",
     "output_type": "stream",
     "text": [
      "Failed to get ticker 'AROW' reason: Expecting value: line 1 column 1 (char 0)\n",
      "$AROW: possibly delisted; no timezone found\n"
     ]
    },
    {
     "name": "stdout",
     "output_type": "stream",
     "text": [
      "Error fetching data for AROW: No historical data available for AROW around 2024-01-27.\n"
     ]
    },
    {
     "name": "stderr",
     "output_type": "stream",
     "text": [
      "Failed to get ticker 'CACC' reason: Expecting value: line 1 column 1 (char 0)\n",
      "$CACC: possibly delisted; no timezone found\n"
     ]
    },
    {
     "name": "stdout",
     "output_type": "stream",
     "text": [
      "Error fetching data for CACC: No historical data available for CACC around 2024-01-27.\n"
     ]
    },
    {
     "name": "stderr",
     "output_type": "stream",
     "text": [
      "$WOOF: possibly delisted; no price data found  (1d 2023-12-28 -> 2024-01-27)\n"
     ]
    },
    {
     "name": "stdout",
     "output_type": "stream",
     "text": [
      "Error fetching data for WOOF: No historical data available for WOOF around 2024-01-27.\n"
     ]
    },
    {
     "name": "stderr",
     "output_type": "stream",
     "text": [
      "Failed to get ticker 'TNAV' reason: Expecting value: line 1 column 1 (char 0)\n",
      "$TNAV: possibly delisted; no timezone found\n"
     ]
    },
    {
     "name": "stdout",
     "output_type": "stream",
     "text": [
      "Error fetching data for TNAV: No historical data available for TNAV around 2024-01-27.\n"
     ]
    },
    {
     "name": "stderr",
     "output_type": "stream",
     "text": [
      "$NMM: possibly delisted; no price data found  (1d 2023-12-28 -> 2024-01-27)\n"
     ]
    },
    {
     "name": "stdout",
     "output_type": "stream",
     "text": [
      "Error fetching data for NMM: No historical data available for NMM around 2024-01-27.\n"
     ]
    },
    {
     "name": "stderr",
     "output_type": "stream",
     "text": [
      "Failed to get ticker 'FTT' reason: Expecting value: line 1 column 1 (char 0)\n",
      "$FTT: possibly delisted; no timezone found\n"
     ]
    },
    {
     "name": "stdout",
     "output_type": "stream",
     "text": [
      "Error fetching data for FTT: No historical data available for FTT around 2024-01-27.\n"
     ]
    },
    {
     "name": "stderr",
     "output_type": "stream",
     "text": [
      "Failed to get ticker 'WEBK' reason: Expecting value: line 1 column 1 (char 0)\n",
      "$WEBK: possibly delisted; no timezone found\n"
     ]
    },
    {
     "name": "stdout",
     "output_type": "stream",
     "text": [
      "Error fetching data for WEBK: No historical data available for WEBK around 2024-01-27.\n"
     ]
    },
    {
     "name": "stderr",
     "output_type": "stream",
     "text": [
      "$ONXX: possibly delisted; no price data found  (1d 2023-12-28 -> 2024-01-27)\n"
     ]
    },
    {
     "name": "stdout",
     "output_type": "stream",
     "text": [
      "Error fetching data for ONXX: No historical data available for ONXX around 2024-01-27.\n"
     ]
    },
    {
     "name": "stderr",
     "output_type": "stream",
     "text": [
      "Failed to get ticker 'O-E' reason: Expecting value: line 1 column 1 (char 0)\n",
      "$O-E: possibly delisted; no timezone found\n"
     ]
    },
    {
     "name": "stdout",
     "output_type": "stream",
     "text": [
      "Error fetching data for O-E: No historical data available for O-E around 2024-01-27.\n"
     ]
    },
    {
     "name": "stderr",
     "output_type": "stream",
     "text": [
      "$FORR: possibly delisted; no price data found  (1d 2023-12-28 -> 2024-01-27)\n"
     ]
    },
    {
     "name": "stdout",
     "output_type": "stream",
     "text": [
      "Error fetching data for FORR: No historical data available for FORR around 2024-01-27.\n"
     ]
    },
    {
     "name": "stderr",
     "output_type": "stream",
     "text": [
      "Failed to get ticker 'MDCO' reason: Expecting value: line 1 column 1 (char 0)\n",
      "$MDCO: possibly delisted; no timezone found\n"
     ]
    },
    {
     "name": "stdout",
     "output_type": "stream",
     "text": [
      "Error fetching data for MDCO: No historical data available for MDCO around 2024-01-27.\n"
     ]
    },
    {
     "name": "stderr",
     "output_type": "stream",
     "text": [
      "Failed to get ticker 'TWMC' reason: Expecting value: line 1 column 1 (char 0)\n",
      "$TWMC: possibly delisted; no timezone found\n"
     ]
    },
    {
     "name": "stdout",
     "output_type": "stream",
     "text": [
      "Error fetching data for TWMC: No historical data available for TWMC around 2024-01-27.\n"
     ]
    },
    {
     "name": "stderr",
     "output_type": "stream",
     "text": [
      "Failed to get ticker 'AT' reason: Expecting value: line 1 column 1 (char 0)\n",
      "$AT: possibly delisted; no timezone found\n"
     ]
    },
    {
     "name": "stdout",
     "output_type": "stream",
     "text": [
      "Error fetching data for AT: No historical data available for AT around 2024-01-27.\n"
     ]
    },
    {
     "name": "stderr",
     "output_type": "stream",
     "text": [
      "$XNY: possibly delisted; no price data found  (1d 2023-12-28 -> 2024-01-27)\n"
     ]
    },
    {
     "name": "stdout",
     "output_type": "stream",
     "text": [
      "Error fetching data for XNY: No historical data available for XNY around 2024-01-27.\n"
     ]
    },
    {
     "name": "stderr",
     "output_type": "stream",
     "text": [
      "$FFCO: possibly delisted; no price data found  (1d 2023-12-28 -> 2024-01-27)\n"
     ]
    },
    {
     "name": "stdout",
     "output_type": "stream",
     "text": [
      "Error fetching data for FFCO: No historical data available for FFCO around 2024-01-27.\n"
     ]
    },
    {
     "name": "stderr",
     "output_type": "stream",
     "text": [
      "$BOE: possibly delisted; no price data found  (1d 2023-12-28 -> 2024-01-27)\n"
     ]
    },
    {
     "name": "stdout",
     "output_type": "stream",
     "text": [
      "Error fetching data for BOE: No historical data available for BOE around 2024-01-27.\n"
     ]
    },
    {
     "name": "stderr",
     "output_type": "stream",
     "text": [
      "$GWW: possibly delisted; no price data found  (1d 2023-12-28 -> 2024-01-27)\n"
     ]
    },
    {
     "name": "stdout",
     "output_type": "stream",
     "text": [
      "Error fetching data for GWW: No historical data available for GWW around 2024-01-27.\n"
     ]
    },
    {
     "name": "stderr",
     "output_type": "stream",
     "text": [
      "$EXPD: possibly delisted; no price data found  (1d 2023-12-28 -> 2024-01-27)\n"
     ]
    },
    {
     "name": "stdout",
     "output_type": "stream",
     "text": [
      "Error fetching data for EXPD: No historical data available for EXPD around 2024-01-27.\n"
     ]
    },
    {
     "name": "stderr",
     "output_type": "stream",
     "text": [
      "$NPM: possibly delisted; no price data found  (1d 2023-12-28 -> 2024-01-27)\n"
     ]
    },
    {
     "name": "stdout",
     "output_type": "stream",
     "text": [
      "Error fetching data for NPM: No historical data available for NPM around 2024-01-27.\n"
     ]
    },
    {
     "name": "stderr",
     "output_type": "stream",
     "text": [
      "Failed to get ticker 'CDR' reason: Expecting value: line 1 column 1 (char 0)\n",
      "$CDR: possibly delisted; no timezone found\n"
     ]
    },
    {
     "name": "stdout",
     "output_type": "stream",
     "text": [
      "Error fetching data for CDR: No historical data available for CDR around 2024-01-27.\n"
     ]
    },
    {
     "name": "stderr",
     "output_type": "stream",
     "text": [
      "Failed to get ticker 'JMP' reason: Expecting value: line 1 column 1 (char 0)\n",
      "$JMP: possibly delisted; no timezone found\n"
     ]
    },
    {
     "name": "stdout",
     "output_type": "stream",
     "text": [
      "Error fetching data for JMP: No historical data available for JMP around 2024-01-27.\n"
     ]
    },
    {
     "name": "stderr",
     "output_type": "stream",
     "text": [
      "$DXLG: possibly delisted; no price data found  (1d 2023-12-28 -> 2024-01-27)\n"
     ]
    },
    {
     "name": "stdout",
     "output_type": "stream",
     "text": [
      "Error fetching data for DXLG: No historical data available for DXLG around 2024-01-27.\n"
     ]
    },
    {
     "name": "stderr",
     "output_type": "stream",
     "text": [
      "Failed to get ticker 'GOV' reason: Expecting value: line 1 column 1 (char 0)\n",
      "$GOV: possibly delisted; no timezone found\n"
     ]
    },
    {
     "name": "stdout",
     "output_type": "stream",
     "text": [
      "Error fetching data for GOV: No historical data available for GOV around 2024-01-27.\n"
     ]
    },
    {
     "name": "stderr",
     "output_type": "stream",
     "text": [
      "Failed to get ticker 'WPCS' reason: Expecting value: line 1 column 1 (char 0)\n",
      "$WPCS: possibly delisted; no timezone found\n"
     ]
    },
    {
     "name": "stdout",
     "output_type": "stream",
     "text": [
      "Error fetching data for WPCS: No historical data available for WPCS around 2024-01-27.\n"
     ]
    },
    {
     "name": "stderr",
     "output_type": "stream",
     "text": [
      "$CTAS: possibly delisted; no price data found  (1d 2023-12-28 -> 2024-01-27)\n"
     ]
    },
    {
     "name": "stdout",
     "output_type": "stream",
     "text": [
      "Error fetching data for CTAS: No historical data available for CTAS around 2024-01-27.\n"
     ]
    },
    {
     "name": "stderr",
     "output_type": "stream",
     "text": [
      "$PPBI: possibly delisted; no price data found  (1d 2023-12-28 -> 2024-01-27)\n"
     ]
    },
    {
     "name": "stdout",
     "output_type": "stream",
     "text": [
      "Error fetching data for PPBI: No historical data available for PPBI around 2024-01-27.\n"
     ]
    },
    {
     "name": "stderr",
     "output_type": "stream",
     "text": [
      "Failed to get ticker 'RST' reason: Expecting value: line 1 column 1 (char 0)\n",
      "$RST: possibly delisted; no timezone found\n"
     ]
    },
    {
     "name": "stdout",
     "output_type": "stream",
     "text": [
      "Error fetching data for RST: No historical data available for RST around 2024-01-27.\n"
     ]
    },
    {
     "name": "stderr",
     "output_type": "stream",
     "text": [
      "Failed to get ticker 'LSI' reason: Expecting value: line 1 column 1 (char 0)\n",
      "$LSI: possibly delisted; no timezone found\n"
     ]
    },
    {
     "name": "stdout",
     "output_type": "stream",
     "text": [
      "Error fetching data for LSI: No historical data available for LSI around 2024-01-27.\n"
     ]
    },
    {
     "name": "stderr",
     "output_type": "stream",
     "text": [
      "$SCVL: possibly delisted; no price data found  (1d 2023-12-28 -> 2024-01-27)\n"
     ]
    },
    {
     "name": "stdout",
     "output_type": "stream",
     "text": [
      "Error fetching data for SCVL: No historical data available for SCVL around 2024-01-27.\n"
     ]
    },
    {
     "name": "stderr",
     "output_type": "stream",
     "text": [
      "$ENG: possibly delisted; no price data found  (1d 2023-12-28 -> 2024-01-27)\n"
     ]
    },
    {
     "name": "stdout",
     "output_type": "stream",
     "text": [
      "Error fetching data for ENG: No historical data available for ENG around 2024-01-27.\n"
     ]
    },
    {
     "name": "stderr",
     "output_type": "stream",
     "text": [
      "Failed to get ticker 'TCB-C' reason: Expecting value: line 1 column 1 (char 0)\n",
      "$TCB-C: possibly delisted; no timezone found\n"
     ]
    },
    {
     "name": "stdout",
     "output_type": "stream",
     "text": [
      "Error fetching data for TCB-C: No historical data available for TCB-C around 2024-01-27.\n"
     ]
    },
    {
     "name": "stderr",
     "output_type": "stream",
     "text": [
      "Failed to get ticker 'DLR-F' reason: Expecting value: line 1 column 1 (char 0)\n",
      "$DLR-F: possibly delisted; no timezone found\n"
     ]
    },
    {
     "name": "stdout",
     "output_type": "stream",
     "text": [
      "Error fetching data for DLR-F: No historical data available for DLR-F around 2024-01-27.\n"
     ]
    },
    {
     "name": "stderr",
     "output_type": "stream",
     "text": [
      "$PBHC: possibly delisted; no price data found  (1d 2023-12-28 -> 2024-01-27)\n"
     ]
    },
    {
     "name": "stdout",
     "output_type": "stream",
     "text": [
      "Error fetching data for PBHC: No historical data available for PBHC around 2024-01-27.\n"
     ]
    },
    {
     "name": "stderr",
     "output_type": "stream",
     "text": [
      "Failed to get ticker 'IRR' reason: Expecting value: line 1 column 1 (char 0)\n",
      "$IRR: possibly delisted; no timezone found\n"
     ]
    },
    {
     "name": "stdout",
     "output_type": "stream",
     "text": [
      "Error fetching data for IRR: No historical data available for IRR around 2024-01-27.\n"
     ]
    },
    {
     "name": "stderr",
     "output_type": "stream",
     "text": [
      "$FOR: possibly delisted; no price data found  (1d 2023-12-28 -> 2024-01-27)\n"
     ]
    },
    {
     "name": "stdout",
     "output_type": "stream",
     "text": [
      "Error fetching data for FOR: No historical data available for FOR around 2024-01-27.\n"
     ]
    },
    {
     "name": "stderr",
     "output_type": "stream",
     "text": [
      "Failed to get ticker 'TNP' reason: Expecting value: line 1 column 1 (char 0)\n",
      "$TNP: possibly delisted; no timezone found\n"
     ]
    },
    {
     "name": "stdout",
     "output_type": "stream",
     "text": [
      "Error fetching data for TNP: No historical data available for TNP around 2024-01-27.\n"
     ]
    },
    {
     "name": "stderr",
     "output_type": "stream",
     "text": [
      "$FNP: possibly delisted; no price data found  (1d 2023-12-28 -> 2024-01-27)\n"
     ]
    },
    {
     "name": "stdout",
     "output_type": "stream",
     "text": [
      "Error fetching data for FNP: No historical data available for FNP around 2024-01-27.\n"
     ]
    },
    {
     "name": "stderr",
     "output_type": "stream",
     "text": [
      "$JBR: possibly delisted; no price data found  (1d 2023-12-28 -> 2024-01-27)\n"
     ]
    },
    {
     "name": "stdout",
     "output_type": "stream",
     "text": [
      "Error fetching data for JBR: No historical data available for JBR around 2024-01-27.\n"
     ]
    },
    {
     "name": "stderr",
     "output_type": "stream",
     "text": [
      "$MSK: possibly delisted; no price data found  (1d 2023-12-28 -> 2024-01-27)\n"
     ]
    },
    {
     "name": "stdout",
     "output_type": "stream",
     "text": [
      "Error fetching data for MSK: No historical data available for MSK around 2024-01-27.\n"
     ]
    },
    {
     "name": "stderr",
     "output_type": "stream",
     "text": [
      "$NTC: possibly delisted; no timezone found\n"
     ]
    },
    {
     "name": "stdout",
     "output_type": "stream",
     "text": [
      "Error fetching data for NTC: No historical data available for NTC around 2024-01-27.\n"
     ]
    },
    {
     "name": "stderr",
     "output_type": "stream",
     "text": [
      "$AQUUW: possibly delisted; no timezone found\n"
     ]
    },
    {
     "name": "stdout",
     "output_type": "stream",
     "text": [
      "Error fetching data for AQUUW: No historical data available for AQUUW around 2024-01-27.\n"
     ]
    },
    {
     "name": "stderr",
     "output_type": "stream",
     "text": [
      "$SAI: possibly delisted; no timezone found\n"
     ]
    },
    {
     "name": "stdout",
     "output_type": "stream",
     "text": [
      "Error fetching data for SAI: No historical data available for SAI around 2024-01-27.\n"
     ]
    },
    {
     "name": "stderr",
     "output_type": "stream",
     "text": [
      "$ARTX: possibly delisted; no timezone found\n"
     ]
    },
    {
     "name": "stdout",
     "output_type": "stream",
     "text": [
      "Error fetching data for ARTX: No historical data available for ARTX around 2024-01-27.\n"
     ]
    },
    {
     "name": "stderr",
     "output_type": "stream",
     "text": [
      "$RLH: possibly delisted; no timezone found\n",
      "$BHD: possibly delisted; no price data found  (1d 2023-12-28 -> 2024-01-27)\n"
     ]
    },
    {
     "name": "stdout",
     "output_type": "stream",
     "text": [
      "Error fetching data for RLH: No historical data available for RLH around 2024-01-27.\n",
      "Error fetching data for BHD: No historical data available for BHD around 2024-01-27.\n"
     ]
    },
    {
     "name": "stderr",
     "output_type": "stream",
     "text": [
      "$NETC: possibly delisted; no timezone found\n"
     ]
    },
    {
     "name": "stdout",
     "output_type": "stream",
     "text": [
      "Error fetching data for NETC: No historical data available for NETC around 2024-01-27.\n"
     ]
    },
    {
     "name": "stderr",
     "output_type": "stream",
     "text": [
      "$EXLP: possibly delisted; no price data found  (1d 2023-12-28 -> 2024-01-27)\n"
     ]
    },
    {
     "name": "stdout",
     "output_type": "stream",
     "text": [
      "Error fetching data for EXLP: No historical data available for EXLP around 2024-01-27.\n"
     ]
    },
    {
     "name": "stderr",
     "output_type": "stream",
     "text": [
      "$PRI.B: possibly delisted; no timezone found\n"
     ]
    },
    {
     "name": "stdout",
     "output_type": "stream",
     "text": [
      "Error fetching data for PRI.B: No historical data available for PRI.B around 2024-01-27.\n"
     ]
    },
    {
     "name": "stderr",
     "output_type": "stream",
     "text": [
      "$REG-F: possibly delisted; no timezone found\n",
      "$TEG: possibly delisted; no price data found  (1d 2023-12-28 -> 2024-01-27)\n"
     ]
    },
    {
     "name": "stdout",
     "output_type": "stream",
     "text": [
      "Error fetching data for REG-F: No historical data available for REG-F around 2024-01-27.\n",
      "Error fetching data for TEG: No historical data available for TEG around 2024-01-27.\n"
     ]
    },
    {
     "name": "stderr",
     "output_type": "stream",
     "text": [
      "$SYMC: possibly delisted; no timezone found\n"
     ]
    },
    {
     "name": "stdout",
     "output_type": "stream",
     "text": [
      "Error fetching data for SYMC: No historical data available for SYMC around 2024-01-27.\n"
     ]
    },
    {
     "name": "stderr",
     "output_type": "stream",
     "text": [
      "$STON: possibly delisted; no timezone found\n"
     ]
    },
    {
     "name": "stdout",
     "output_type": "stream",
     "text": [
      "Error fetching data for STON: No historical data available for STON around 2024-01-27.\n"
     ]
    },
    {
     "name": "stderr",
     "output_type": "stream",
     "text": [
      "$NXQ: possibly delisted; no timezone found\n"
     ]
    },
    {
     "name": "stdout",
     "output_type": "stream",
     "text": [
      "Error fetching data for NXQ: No historical data available for NXQ around 2024-01-27.\n"
     ]
    },
    {
     "name": "stderr",
     "output_type": "stream",
     "text": [
      "$ORBC: possibly delisted; no timezone found\n",
      "$SSH: possibly delisted; no price data found  (1d 2023-12-28 -> 2024-01-27)\n"
     ]
    },
    {
     "name": "stdout",
     "output_type": "stream",
     "text": [
      "Error fetching data for ORBC: No historical data available for ORBC around 2024-01-27.\n",
      "Error fetching data for SSH: No historical data available for SSH around 2024-01-27.\n"
     ]
    },
    {
     "name": "stderr",
     "output_type": "stream",
     "text": [
      "$CHK-D: possibly delisted; no timezone found\n",
      "$EVAC: possibly delisted; no price data found  (1d 2023-12-28 -> 2024-01-27)\n"
     ]
    },
    {
     "name": "stdout",
     "output_type": "stream",
     "text": [
      "Error fetching data for CHK-D: No historical data available for CHK-D around 2024-01-27.\n",
      "Error fetching data for EVAC: No historical data available for EVAC around 2024-01-27.\n"
     ]
    },
    {
     "name": "stderr",
     "output_type": "stream",
     "text": [
      "$TCO-J: possibly delisted; no timezone found\n"
     ]
    },
    {
     "name": "stdout",
     "output_type": "stream",
     "text": [
      "Error fetching data for TCO-J: No historical data available for TCO-J around 2024-01-27.\n"
     ]
    },
    {
     "name": "stderr",
     "output_type": "stream",
     "text": [
      "$GY: possibly delisted; no price data found  (1d 2023-12-28 -> 2024-01-27)\n"
     ]
    },
    {
     "name": "stdout",
     "output_type": "stream",
     "text": [
      "Error fetching data for GY: No historical data available for GY around 2024-01-27.\n"
     ]
    },
    {
     "name": "stderr",
     "output_type": "stream",
     "text": [
      "$MCC: possibly delisted; no timezone found\n"
     ]
    },
    {
     "name": "stdout",
     "output_type": "stream",
     "text": [
      "Error fetching data for MCC: No historical data available for MCC around 2024-01-27.\n"
     ]
    },
    {
     "name": "stderr",
     "output_type": "stream",
     "text": [
      "$IKNX: possibly delisted; no timezone found\n"
     ]
    },
    {
     "name": "stdout",
     "output_type": "stream",
     "text": [
      "Error fetching data for IKNX: No historical data available for IKNX around 2024-01-27.\n"
     ]
    },
    {
     "name": "stderr",
     "output_type": "stream",
     "text": [
      "$ISH-A: possibly delisted; no timezone found\n"
     ]
    },
    {
     "name": "stdout",
     "output_type": "stream",
     "text": [
      "Error fetching data for ISH-A: No historical data available for ISH-A around 2024-01-27.\n"
     ]
    },
    {
     "name": "stderr",
     "output_type": "stream",
     "text": [
      "$THST: possibly delisted; no timezone found\n"
     ]
    },
    {
     "name": "stdout",
     "output_type": "stream",
     "text": [
      "Error fetching data for THST: No historical data available for THST around 2024-01-27.\n"
     ]
    },
    {
     "name": "stderr",
     "output_type": "stream",
     "text": [
      "HAWK: Period '1d' is invalid, must be one of ['1mo', '3mo', '6mo', 'ytd', '1y', '2y', '5y', '10y', 'max']\n"
     ]
    },
    {
     "name": "stdout",
     "output_type": "stream",
     "text": [
      "Error fetching data for HAWK: single positional indexer is out-of-bounds\n"
     ]
    },
    {
     "name": "stderr",
     "output_type": "stream",
     "text": [
      "$FCH-C: possibly delisted; no timezone found\n"
     ]
    },
    {
     "name": "stdout",
     "output_type": "stream",
     "text": [
      "Error fetching data for FCH-C: No historical data available for FCH-C around 2024-01-27.\n"
     ]
    },
    {
     "name": "stderr",
     "output_type": "stream",
     "text": [
      "$CBLI: possibly delisted; no timezone found\n"
     ]
    },
    {
     "name": "stdout",
     "output_type": "stream",
     "text": [
      "Error fetching data for CBLI: No historical data available for CBLI around 2024-01-27.\n"
     ]
    },
    {
     "name": "stderr",
     "output_type": "stream",
     "text": [
      "$PLMT: possibly delisted; no price data found  (1d 2023-12-28 -> 2024-01-27)\n"
     ]
    },
    {
     "name": "stdout",
     "output_type": "stream",
     "text": [
      "Error fetching data for PLMT: No historical data available for PLMT around 2024-01-27.\n"
     ]
    },
    {
     "name": "stderr",
     "output_type": "stream",
     "text": [
      "$IVC: possibly delisted; no timezone found\n"
     ]
    },
    {
     "name": "stdout",
     "output_type": "stream",
     "text": [
      "Error fetching data for IVC: No historical data available for IVC around 2024-01-27.\n"
     ]
    },
    {
     "name": "stderr",
     "output_type": "stream",
     "text": [
      "$PACQ: possibly delisted; no timezone found\n"
     ]
    },
    {
     "name": "stdout",
     "output_type": "stream",
     "text": [
      "Error fetching data for PACQ: No historical data available for PACQ around 2024-01-27.\n"
     ]
    },
    {
     "name": "stderr",
     "output_type": "stream",
     "text": [
      "$JMF: possibly delisted; no timezone found\n"
     ]
    },
    {
     "name": "stdout",
     "output_type": "stream",
     "text": [
      "Error fetching data for JMF: No historical data available for JMF around 2024-01-27.\n"
     ]
    },
    {
     "name": "stderr",
     "output_type": "stream",
     "text": [
      "$MRH: possibly delisted; no price data found  (1d 2023-12-28 -> 2024-01-27)\n"
     ]
    },
    {
     "name": "stdout",
     "output_type": "stream",
     "text": [
      "Error fetching data for MRH: No historical data available for MRH around 2024-01-27.\n"
     ]
    },
    {
     "name": "stderr",
     "output_type": "stream",
     "text": [
      "$ERW: possibly delisted; no timezone found\n",
      "$DRWI: possibly delisted; no price data found  (1d 2023-12-28 -> 2024-01-27)\n"
     ]
    },
    {
     "name": "stdout",
     "output_type": "stream",
     "text": [
      "Error fetching data for ERW: No historical data available for ERW around 2024-01-27.\n",
      "Error fetching data for DRWI: No historical data available for DRWI around 2024-01-27.\n"
     ]
    },
    {
     "name": "stderr",
     "output_type": "stream",
     "text": [
      "$PGTI: possibly delisted; no timezone found\n"
     ]
    },
    {
     "name": "stdout",
     "output_type": "stream",
     "text": [
      "Error fetching data for PGTI: No historical data available for PGTI around 2024-01-27.\n"
     ]
    },
    {
     "name": "stderr",
     "output_type": "stream",
     "text": [
      "$CRR: possibly delisted; no timezone found\n"
     ]
    },
    {
     "name": "stdout",
     "output_type": "stream",
     "text": [
      "Error fetching data for CRR: No historical data available for CRR around 2024-01-27.\n"
     ]
    },
    {
     "name": "stderr",
     "output_type": "stream",
     "text": [
      "$PNC-Q: possibly delisted; no timezone found\n",
      "$CMK: possibly delisted; no price data found  (1d 2023-12-28 -> 2024-01-27)\n"
     ]
    },
    {
     "name": "stdout",
     "output_type": "stream",
     "text": [
      "Error fetching data for PNC-Q: No historical data available for PNC-Q around 2024-01-27.\n",
      "Error fetching data for CMK: No historical data available for CMK around 2024-01-27.\n"
     ]
    },
    {
     "name": "stderr",
     "output_type": "stream",
     "text": [
      "$KNL: possibly delisted; no timezone found\n",
      "$PYC: possibly delisted; no price data found  (1d 2023-12-28 -> 2024-01-27)\n"
     ]
    },
    {
     "name": "stdout",
     "output_type": "stream",
     "text": [
      "Error fetching data for KNL: No historical data available for KNL around 2024-01-27.\n",
      "Error fetching data for PYC: No historical data available for PYC around 2024-01-27.\n"
     ]
    },
    {
     "name": "stderr",
     "output_type": "stream",
     "text": [
      "$ARK: possibly delisted; no price data found  (1d 2023-12-28 -> 2024-01-27)\n"
     ]
    },
    {
     "name": "stdout",
     "output_type": "stream",
     "text": [
      "Error fetching data for ARK: No historical data available for ARK around 2024-01-27.\n"
     ]
    },
    {
     "name": "stderr",
     "output_type": "stream",
     "text": [
      "$LAWS: possibly delisted; no timezone found\n"
     ]
    },
    {
     "name": "stdout",
     "output_type": "stream",
     "text": [
      "Error fetching data for LAWS: No historical data available for LAWS around 2024-01-27.\n"
     ]
    },
    {
     "name": "stderr",
     "output_type": "stream",
     "text": [
      "$TIF: possibly delisted; no timezone found\n"
     ]
    },
    {
     "name": "stdout",
     "output_type": "stream",
     "text": [
      "Error fetching data for TIF: No historical data available for TIF around 2024-01-27.\n"
     ]
    },
    {
     "name": "stderr",
     "output_type": "stream",
     "text": [
      "$RBS-P: possibly delisted; no timezone found\n",
      "$VYFC: possibly delisted; no price data found  (1d 2023-12-28 -> 2024-01-27)\n"
     ]
    },
    {
     "name": "stdout",
     "output_type": "stream",
     "text": [
      "Error fetching data for RBS-P: No historical data available for RBS-P around 2024-01-27.\n",
      "Error fetching data for VYFC: No historical data available for VYFC around 2024-01-27.\n"
     ]
    },
    {
     "name": "stderr",
     "output_type": "stream",
     "text": [
      "$BOCH: possibly delisted; no timezone found\n"
     ]
    },
    {
     "name": "stdout",
     "output_type": "stream",
     "text": [
      "Error fetching data for BOCH: No historical data available for BOCH around 2024-01-27.\n"
     ]
    },
    {
     "name": "stderr",
     "output_type": "stream",
     "text": [
      "$FFKT: possibly delisted; no price data found  (1d 2023-12-28 -> 2024-01-27)\n"
     ]
    },
    {
     "name": "stdout",
     "output_type": "stream",
     "text": [
      "Error fetching data for FFKT: No historical data available for FFKT around 2024-01-27.\n"
     ]
    },
    {
     "name": "stderr",
     "output_type": "stream",
     "text": [
      "$MZOR: possibly delisted; no price data found  (1d 2023-12-28 -> 2024-01-27)\n"
     ]
    },
    {
     "name": "stdout",
     "output_type": "stream",
     "text": [
      "Error fetching data for MZOR: No historical data available for MZOR around 2024-01-27.\n"
     ]
    },
    {
     "name": "stderr",
     "output_type": "stream",
     "text": [
      "$EPR-F: possibly delisted; no timezone found\n"
     ]
    },
    {
     "name": "stdout",
     "output_type": "stream",
     "text": [
      "Error fetching data for EPR-F: No historical data available for EPR-F around 2024-01-27.\n"
     ]
    },
    {
     "name": "stderr",
     "output_type": "stream",
     "text": [
      "$UBNK: possibly delisted; no timezone found\n"
     ]
    },
    {
     "name": "stdout",
     "output_type": "stream",
     "text": [
      "Error fetching data for UBNK: No historical data available for UBNK around 2024-01-27.\n"
     ]
    },
    {
     "name": "stderr",
     "output_type": "stream",
     "text": [
      "$OMG: possibly delisted; no price data found  (1d 2023-12-28 -> 2024-01-27)\n"
     ]
    },
    {
     "name": "stdout",
     "output_type": "stream",
     "text": [
      "Error fetching data for OMG: No historical data available for OMG around 2024-01-27.\n"
     ]
    },
    {
     "data": {
      "text/html": [
       "\n",
       "<style>\n",
       "    /* Turns off some styling */\n",
       "    progress {\n",
       "        /* gets rid of default border in Firefox and Opera. */\n",
       "        border: none;\n",
       "        /* Needs to be in here for Safari polyfill so background images work as expected. */\n",
       "        background-size: auto;\n",
       "    }\n",
       "    progress:not([value]), progress:not([value])::-webkit-progress-bar {\n",
       "        background: repeating-linear-gradient(45deg, #7e7e7e, #7e7e7e 10px, #5c5c5c 10px, #5c5c5c 20px);\n",
       "    }\n",
       "    .progress-bar-interrupted, .progress-bar-interrupted::-webkit-progress-bar {\n",
       "        background: #F44336;\n",
       "    }\n",
       "</style>\n"
      ],
      "text/plain": [
       "<IPython.core.display.HTML object>"
      ]
     },
     "metadata": {},
     "output_type": "display_data"
    },
    {
     "data": {
      "text/html": [],
      "text/plain": [
       "<IPython.core.display.HTML object>"
      ]
     },
     "metadata": {},
     "output_type": "display_data"
    },
    {
     "name": "stdout",
     "output_type": "stream",
     "text": [
      "Logged evaluation results to c:\\Users\\Gamer\\Documents\\GitHub\\VS-Code\\Side-Projects\\TrainedModels\\stockScreener\\modelEvaluations.csv\n"
     ]
    },
    {
     "data": {
      "image/png": "[encoded data removed]",
      "text/plain": [
       "<Figure size 1200x800 with 2 Axes>"
      ]
     },
     "metadata": {},
     "output_type": "display_data"
    },
    {
     "name": "stdout",
     "output_type": "stream",
     "text": [
      "Collected 200 valid test tickers (target: 200)\n",
      "Warning: Reached max attempts (800). Some invalid tickers may remain.\n",
      "\n",
      "Evaluation Results:\n",
      "MAE: 0.400\n",
      "RMSE: 0.636\n",
      "R²: -0.108\n"
     ]
    }
   ],
   "source": [
    "def logEvaluation(model_name, mae, rmse, r2, model_folder, test_tickers):\n",
    "    \"\"\"Log evaluation metrics to CSV file\"\"\"\n",
    "    log_file = model_folder / \"modelEvaluations.csv\"\n",
    "    \n",
    "    new_entry_df = pd.DataFrame([{\n",
    "        \"Model Name\": model_name,\n",
    "        \"Timestamp\": datetime.now().strftime('%Y-%m-%d %H:%M'),\n",
    "        \"MAE\": f'{mae:.3f}',\n",
    "        \"RMSE\": f'{rmse:.3f}',\n",
    "        \"R2\": f'{r2:.3f}',\n",
    "        \"Epochs\": epochs,\n",
    "        \"Training Size\": trainingSize,\n",
    "        \"Test Size\": len(test_tickers),\n",
    "        \"Cat Names\": catNames,\n",
    "        \"Cont Names\": contNames,\n",
    "    }])\n",
    "    \n",
    "    try:\n",
    "        log_df = pd.read_csv(log_file)\n",
    "        log_df = pd.concat([log_df, new_entry_df], ignore_index=True)\n",
    "    except FileNotFoundError:\n",
    "        log_df = new_entry_df\n",
    "        \n",
    "    log_df.to_csv(log_file, index=False)\n",
    "    print(f\"Logged evaluation results to {log_file}\")\n",
    "\n",
    "def plotResults(results_df, model_name, model_folder):\n",
    "    \"\"\"Create and save visualization plots using all data points.\"\"\"\n",
    "    plt.figure(figsize=(12, 8))\n",
    "    \n",
    "    plt.subplot(2, 1, 1)\n",
    "    plt.scatter(results_df['Actual'], results_df['Predicted'], alpha=0.7, label='Predictions')\n",
    "    min_val = min(results_df['Actual'].min(), results_df['Predicted'].min())\n",
    "    max_val = max(results_df['Actual'].max(), results_df['Predicted'].max())\n",
    "    plt.plot([min_val, max_val], [min_val, max_val], color='red', linestyle='--', label='Perfect Prediction')\n",
    "    plt.title(f'Predicted vs. Actual Returns - {model_name}', fontsize=14)\n",
    "    plt.xlabel('Actual Returns')\n",
    "    plt.ylabel('Predicted Returns')\n",
    "    plt.legend()\n",
    "    plt.grid(alpha=0.5)\n",
    "    \n",
    "    plt.subplot(2, 1, 2)\n",
    "    plt.scatter(results_df['Predicted'], results_df['Residual'], alpha=0.7)\n",
    "    plt.axhline(y=0, color='r', linestyle='--')\n",
    "    plt.title('Residual Plot')\n",
    "    plt.xlabel('Predicted Returns')\n",
    "    plt.ylabel('Residual')\n",
    "    plt.grid(alpha=0.5)\n",
    "    \n",
    "    plt.tight_layout()\n",
    "    plt.show()\n",
    "\n",
    "if trainNewModel:\n",
    "    nonTrainingTickers = list(set(tickers) - set(trainingTickers))\n",
    "    validTestData = []\n",
    "    attempted_tickers = set()\n",
    "    attempts = 0\n",
    "\n",
    "    if testSize * 4 <= len(tickers):  \n",
    "        max_attempts = testSize * 4 # Prevent infinite loops\n",
    "    else:\n",
    "        max_attempts = len(tickers)\n",
    "\n",
    "    # Keep trying until we reach testSize or exhaust attempts\n",
    "    while len(validTestData) < testSize and attempts < max_attempts:\n",
    "        # Get a new ticker we haven't tried yet\n",
    "        remaining_tickers = [t for t in nonTrainingTickers if t not in attempted_tickers]\n",
    "        if not remaining_tickers:  # If all tried, reset attempted list\n",
    "            attempted_tickers = set()\n",
    "            remaining_tickers = nonTrainingTickers\n",
    "            \n",
    "        ticker = np.random.choice(remaining_tickers)\n",
    "        attempted_tickers.add(ticker)\n",
    "        attempts += 1\n",
    "\n",
    "        # Fetch and validate data\n",
    "        data = getTickerDataFrom1YrAgo(ticker)\n",
    "        if not data.empty and not data[['EV/EBIT', 'ROIC']].isna().any().any():\n",
    "            validTestData.append(data)\n",
    "\n",
    "    if not validTestData:\n",
    "        raise ValueError(\"No valid test data collected after multiple attempts\")\n",
    "        \n",
    "    # Trim to exact testSize if we collected more\n",
    "    validTestData = validTestData[:testSize]  \n",
    "    combinedTestData = pd.concat(validTestData, ignore_index=True)\n",
    "\n",
    "    # Clean data\n",
    "    test_data_clean = combinedTestData.dropna(subset=['EV/EBIT', 'ROIC', 'Future Year Change'])\n",
    "    \n",
    "    if test_data_clean.empty:\n",
    "        raise ValueError(\"No valid test data after cleaning NaN values\")\n",
    "\n",
    "    # Create test dataloader\n",
    "    test_dl = learn.dls.test_dl(test_data_clean)\n",
    "    preds, targs = learn.get_preds(dl=test_dl)\n",
    "    \n",
    "    # Create results DataFrame\n",
    "    results_df = pd.DataFrame({\n",
    "        'Predicted': preds.numpy().flatten(),\n",
    "        'Actual': targs.numpy().flatten()\n",
    "    })\n",
    "    results_df['Residual'] = results_df['Actual'] - results_df['Predicted']\n",
    "\n",
    "    # Calculate metrics\n",
    "    mae = np.mean(np.abs(results_df['Residual']))\n",
    "    rmse = np.sqrt(np.mean(results_df['Residual']**2))\n",
    "    r2 = 1 - (np.sum(results_df['Residual']**2) / np.sum((results_df['Actual'] - results_df['Actual'].mean())**2))\n",
    "\n",
    "    # Log and plot\n",
    "    logEvaluation(modelName, mae, rmse, r2, modelFolder, test_data_clean['Ticker'].unique())\n",
    "    plotResults(results_df, modelName, modelFolder)\n",
    "\n",
    "    # Show collection stats\n",
    "    print(f\"Collected {len(validTestData)} valid test tickers (target: {testSize})\")\n",
    "    if attempts >= max_attempts:\n",
    "        print(f\"Warning: Reached max attempts ({max_attempts}). Some invalid tickers may remain.\")  \n",
    "    print(f\"\\nEvaluation Results:\")\n",
    "    print(f\"MAE: {mae:.3f}\")\n",
    "    print(f\"RMSE: {rmse:.3f}\")\n",
    "    print(f\"R²: {r2:.3f}\")"
   ]
  },
  {
   "cell_type": "markdown",
   "metadata": {},
   "source": [
    "## Predictions"
   ]
  },
  {
   "cell_type": "code",
   "execution_count": 18,
   "metadata": {},
   "outputs": [
    {
     "name": "stdout",
     "output_type": "stream",
     "text": [
      "Model files in modelFolder:\n",
      "stockScreenerV1.0.pkl\n",
      "stockScreenerV1.1.pkl\n",
      "stockScreenerV1.2.pkl\n",
      "stockScreenerV1.3.pkl\n",
      "stockScreenerV1.4.pkl\n",
      "stockScreenerV1.5.pkl\n",
      "stockScreenerV1.6.pkl\n"
     ]
    }
   ],
   "source": [
    "print('Model files in modelFolder:')\n",
    "for file in modelFolder.glob('*.pkl'):\n",
    "    print(file.name)"
   ]
  },
  {
   "cell_type": "code",
   "execution_count": 19,
   "metadata": {},
   "outputs": [
    {
     "data": {
      "text/plain": [
       "Model Name    stockScreenerV1.6\n",
       "Timestamp      2025-01-26 21:33\n",
       "MAE                         0.4\n",
       "RMSE                      0.636\n",
       "R2                       -0.108\n",
       "Name: 6, dtype: object"
      ]
     },
     "execution_count": 19,
     "metadata": {},
     "output_type": "execute_result"
    }
   ],
   "source": [
    "evaluations = pd.read_csv(modelFolder / 'modelEvaluations.csv')\n",
    "bestModel = evaluations.sort_values('MAE', ascending=True).iloc[0]\n",
    "bestModel.head()"
   ]
  },
  {
   "cell_type": "markdown",
   "metadata": {},
   "source": [
    "### Load model"
   ]
  },
  {
   "cell_type": "code",
   "execution_count": 20,
   "metadata": {},
   "outputs": [],
   "source": [
    "if os.name == 'nt':\n",
    "    temp = pathlib.PosixPath\n",
    "    pathlib.PosixPath = pathlib.WindowsPath\n",
    "else:\n",
    "    pathlib.WindowsPath = pathlib.PosixPath\n",
    "\n",
    "importedModel = Path(f\"{bestModel['Model Name']}.pkl\") # Change this if you want to try other models\n",
    "learn = load_learner(modelFolder / importedModel)"
   ]
  },
  {
   "cell_type": "code",
   "execution_count": 34,
   "metadata": {},
   "outputs": [],
   "source": [
    "#predictionTarget = '10%'"
   ]
  },
  {
   "cell_type": "code",
   "execution_count": 35,
   "metadata": {},
   "outputs": [
    {
     "name": "stderr",
     "output_type": "stream",
     "text": [
      "$BNSO: possibly delisted; no price data found  (period=1d) (Yahoo error = \"No data found, symbol may be delisted\")\n",
      "404 Client Error: Not Found for url: https://query2.finance.yahoo.com/v10/finance/quoteSummary/BNSO?modules=financialData%2CquoteType%2CdefaultKeyStatistics%2CassetProfile%2CsummaryDetail&corsDomain=finance.yahoo.com&formatted=false&symbol=BNSO&crumb=eH0scvPxYkq\n",
      "404 Client Error: Not Found for url: https://query2.finance.yahoo.com/v10/finance/quoteSummary/BNSO?modules=financialData%2CquoteType%2CdefaultKeyStatistics%2CassetProfile%2CsummaryDetail&corsDomain=finance.yahoo.com&formatted=false&symbol=BNSO&crumb=eH0scvPxYkq\n",
      "$POM: possibly delisted; no price data found  (period=1d)\n",
      "$AEL: possibly delisted; no price data found  (period=1d) (Yahoo error = \"No data found, symbol may be delisted\")\n",
      "404 Client Error: Not Found for url: https://query2.finance.yahoo.com/v10/finance/quoteSummary/AEL?modules=financialData%2CquoteType%2CdefaultKeyStatistics%2CassetProfile%2CsummaryDetail&corsDomain=finance.yahoo.com&formatted=false&symbol=AEL&crumb=eH0scvPxYkq\n",
      "404 Client Error: Not Found for url: https://query2.finance.yahoo.com/v10/finance/quoteSummary/AEL?modules=financialData%2CquoteType%2CdefaultKeyStatistics%2CassetProfile%2CsummaryDetail&corsDomain=finance.yahoo.com&formatted=false&symbol=AEL&crumb=eH0scvPxYkq\n",
      "$OKSBP: possibly delisted; no price data found  (period=1d)\n",
      "$BRP: possibly delisted; no price data found  (period=1d) (Yahoo error = \"No data found, symbol may be delisted\")\n",
      "404 Client Error: Not Found for url: https://query2.finance.yahoo.com/v10/finance/quoteSummary/BRP?modules=financialData%2CquoteType%2CdefaultKeyStatistics%2CassetProfile%2CsummaryDetail&corsDomain=finance.yahoo.com&formatted=false&symbol=BRP&crumb=eH0scvPxYkq\n",
      "404 Client Error: Not Found for url: https://query2.finance.yahoo.com/v10/finance/quoteSummary/BRP?modules=financialData%2CquoteType%2CdefaultKeyStatistics%2CassetProfile%2CsummaryDetail&corsDomain=finance.yahoo.com&formatted=false&symbol=BRP&crumb=eH0scvPxYkq\n",
      "$STV: possibly delisted; no price data found  (period=1d)\n",
      "$AAV: possibly delisted; no price data found  (period=1d)\n",
      "$CHS-A: possibly delisted; no price data found  (period=1d) (Yahoo error = \"No data found, symbol may be delisted\")\n",
      "404 Client Error: Not Found for url: https://query2.finance.yahoo.com/v10/finance/quoteSummary/CHS-A?modules=financialData%2CquoteType%2CdefaultKeyStatistics%2CassetProfile%2CsummaryDetail&corsDomain=finance.yahoo.com&formatted=false&symbol=CHS-A&crumb=eH0scvPxYkq\n",
      "404 Client Error: Not Found for url: https://query2.finance.yahoo.com/v10/finance/quoteSummary/CHS-A?modules=financialData%2CquoteType%2CdefaultKeyStatistics%2CassetProfile%2CsummaryDetail&corsDomain=finance.yahoo.com&formatted=false&symbol=CHS-A&crumb=eH0scvPxYkq\n",
      "$ROICW: possibly delisted; no price data found  (period=1d) (Yahoo error = \"No data found, symbol may be delisted\")\n",
      "404 Client Error: Not Found for url: https://query2.finance.yahoo.com/v10/finance/quoteSummary/ROICW?modules=financialData%2CquoteType%2CdefaultKeyStatistics%2CassetProfile%2CsummaryDetail&corsDomain=finance.yahoo.com&formatted=false&symbol=ROICW&crumb=eH0scvPxYkq\n",
      "404 Client Error: Not Found for url: https://query2.finance.yahoo.com/v10/finance/quoteSummary/ROICW?modules=financialData%2CquoteType%2CdefaultKeyStatistics%2CassetProfile%2CsummaryDetail&corsDomain=finance.yahoo.com&formatted=false&symbol=ROICW&crumb=eH0scvPxYkq\n",
      "$CMSB: possibly delisted; no price data found  (period=1d)\n",
      "$ARQL: possibly delisted; no price data found  (period=1d) (Yahoo error = \"No data found, symbol may be delisted\")\n",
      "$STMP: possibly delisted; no price data found  (period=1d) (Yahoo error = \"No data found, symbol may be delisted\")\n",
      "$JPM-D: possibly delisted; no price data found  (period=1d) (Yahoo error = \"No data found, symbol may be delisted\")\n",
      "404 Client Error: Not Found for url: https://query2.finance.yahoo.com/v10/finance/quoteSummary/JPM-D?modules=financialData%2CquoteType%2CdefaultKeyStatistics%2CassetProfile%2CsummaryDetail&corsDomain=finance.yahoo.com&formatted=false&symbol=JPM-D&crumb=eH0scvPxYkq\n",
      "404 Client Error: Not Found for url: https://query2.finance.yahoo.com/v10/finance/quoteSummary/JPM-D?modules=financialData%2CquoteType%2CdefaultKeyStatistics%2CassetProfile%2CsummaryDetail&corsDomain=finance.yahoo.com&formatted=false&symbol=JPM-D&crumb=eH0scvPxYkq\n",
      "$DM-B: possibly delisted; no price data found  (period=1d) (Yahoo error = \"No data found, symbol may be delisted\")\n",
      "404 Client Error: Not Found for url: https://query2.finance.yahoo.com/v10/finance/quoteSummary/DM-B?modules=financialData%2CquoteType%2CdefaultKeyStatistics%2CassetProfile%2CsummaryDetail&corsDomain=finance.yahoo.com&formatted=false&symbol=DM-B&crumb=eH0scvPxYkq\n",
      "404 Client Error: Not Found for url: https://query2.finance.yahoo.com/v10/finance/quoteSummary/DM-B?modules=financialData%2CquoteType%2CdefaultKeyStatistics%2CassetProfile%2CsummaryDetail&corsDomain=finance.yahoo.com&formatted=false&symbol=DM-B&crumb=eH0scvPxYkq\n",
      "$PPS: possibly delisted; no price data found  (period=1d)\n",
      "$DDR: possibly delisted; no price data found  (period=1d)\n",
      "$DATA: possibly delisted; no price data found  (period=1d) (Yahoo error = \"No data found, symbol may be delisted\")\n",
      "$CTQ: possibly delisted; no price data found  (period=1d)\n",
      "$CO: possibly delisted; no price data found  (period=1d) (Yahoo error = \"No data found, symbol may be delisted\")\n",
      "$CAB: possibly delisted; no price data found  (period=1d)\n",
      "$ZIOP: possibly delisted; no price data found  (period=1d) (Yahoo error = \"No data found, symbol may be delisted\")\n",
      "$CHRM: possibly delisted; no price data found  (period=1d)\n",
      "$BLOX: possibly delisted; no price data found  (period=1d)\n",
      "$EROC: possibly delisted; no price data found  (period=1d)\n",
      "$HCAP: possibly delisted; no price data found  (period=1d) (Yahoo error = \"No data found, symbol may be delisted\")\n",
      "$NTG: possibly delisted; no price data found  (period=1d)\n",
      "$DX-B: possibly delisted; no price data found  (period=1d) (Yahoo error = \"No data found, symbol may be delisted\")\n",
      "404 Client Error: Not Found for url: https://query2.finance.yahoo.com/v10/finance/quoteSummary/DX-B?modules=financialData%2CquoteType%2CdefaultKeyStatistics%2CassetProfile%2CsummaryDetail&corsDomain=finance.yahoo.com&formatted=false&symbol=DX-B&crumb=eH0scvPxYkq\n",
      "404 Client Error: Not Found for url: https://query2.finance.yahoo.com/v10/finance/quoteSummary/DX-B?modules=financialData%2CquoteType%2CdefaultKeyStatistics%2CassetProfile%2CsummaryDetail&corsDomain=finance.yahoo.com&formatted=false&symbol=DX-B&crumb=eH0scvPxYkq\n",
      "$PEI-B: possibly delisted; no price data found  (period=1d) (Yahoo error = \"No data found, symbol may be delisted\")\n",
      "404 Client Error: Not Found for url: https://query2.finance.yahoo.com/v10/finance/quoteSummary/PEI-B?modules=financialData%2CquoteType%2CdefaultKeyStatistics%2CassetProfile%2CsummaryDetail&corsDomain=finance.yahoo.com&formatted=false&symbol=PEI-B&crumb=eH0scvPxYkq\n",
      "404 Client Error: Not Found for url: https://query2.finance.yahoo.com/v10/finance/quoteSummary/PEI-B?modules=financialData%2CquoteType%2CdefaultKeyStatistics%2CassetProfile%2CsummaryDetail&corsDomain=finance.yahoo.com&formatted=false&symbol=PEI-B&crumb=eH0scvPxYkq\n",
      "$TOO: possibly delisted; no price data found  (period=1d) (Yahoo error = \"No data found, symbol may be delisted\")\n",
      "$NDP: possibly delisted; no price data found  (period=1d)\n",
      "$NBTF: possibly delisted; no price data found  (period=1d)\n",
      "$AERL: possibly delisted; no price data found  (period=1d)\n",
      "$EEML: possibly delisted; no price data found  (period=1d) (Yahoo error = \"No data found, symbol may be delisted\")\n",
      "$PCBK: possibly delisted; no price data found  (period=1d)\n",
      "$TOO-A: possibly delisted; no price data found  (period=1d) (Yahoo error = \"No data found, symbol may be delisted\")\n",
      "404 Client Error: Not Found for url: https://query2.finance.yahoo.com/v10/finance/quoteSummary/TOO-A?modules=financialData%2CquoteType%2CdefaultKeyStatistics%2CassetProfile%2CsummaryDetail&corsDomain=finance.yahoo.com&formatted=false&symbol=TOO-A&crumb=eH0scvPxYkq\n",
      "404 Client Error: Not Found for url: https://query2.finance.yahoo.com/v10/finance/quoteSummary/TOO-A?modules=financialData%2CquoteType%2CdefaultKeyStatistics%2CassetProfile%2CsummaryDetail&corsDomain=finance.yahoo.com&formatted=false&symbol=TOO-A&crumb=eH0scvPxYkq\n",
      "$EXXI: possibly delisted; no price data found  (period=1d)\n",
      "$GTPPP: possibly delisted; no price data found  (period=1d)\n",
      "$CLN-A: possibly delisted; no price data found  (period=1d) (Yahoo error = \"No data found, symbol may be delisted\")\n",
      "404 Client Error: Not Found for url: https://query2.finance.yahoo.com/v10/finance/quoteSummary/CLN-A?modules=financialData%2CquoteType%2CdefaultKeyStatistics%2CassetProfile%2CsummaryDetail&corsDomain=finance.yahoo.com&formatted=false&symbol=CLN-A&crumb=eH0scvPxYkq\n",
      "404 Client Error: Not Found for url: https://query2.finance.yahoo.com/v10/finance/quoteSummary/CLN-A?modules=financialData%2CquoteType%2CdefaultKeyStatistics%2CassetProfile%2CsummaryDetail&corsDomain=finance.yahoo.com&formatted=false&symbol=CLN-A&crumb=eH0scvPxYkq\n",
      "$UPIP: possibly delisted; no price data found  (period=1d)\n",
      "$CSC: possibly delisted; no price data found  (period=1d)\n",
      "$APU: possibly delisted; no price data found  (period=1d) (Yahoo error = \"No data found, symbol may be delisted\")\n",
      "$EVRY: possibly delisted; no price data found  (period=1d)\n",
      "$STRN: possibly delisted; no price data found  (period=1d) (Yahoo error = \"No data found, symbol may be delisted\")\n",
      "$ADHD: possibly delisted; no price data found  (period=1d)\n",
      "$SFI-I: possibly delisted; no price data found  (period=1d) (Yahoo error = \"No data found, symbol may be delisted\")\n",
      "404 Client Error: Not Found for url: https://query2.finance.yahoo.com/v10/finance/quoteSummary/SFI-I?modules=financialData%2CquoteType%2CdefaultKeyStatistics%2CassetProfile%2CsummaryDetail&corsDomain=finance.yahoo.com&formatted=false&symbol=SFI-I&crumb=eH0scvPxYkq\n",
      "404 Client Error: Not Found for url: https://query2.finance.yahoo.com/v10/finance/quoteSummary/SFI-I?modules=financialData%2CquoteType%2CdefaultKeyStatistics%2CassetProfile%2CsummaryDetail&corsDomain=finance.yahoo.com&formatted=false&symbol=SFI-I&crumb=eH0scvPxYkq\n",
      "$PLCC: possibly delisted; no price data found  (period=1d)\n",
      "$SUBK: possibly delisted; no price data found  (period=1d)\n",
      "$USAP: possibly delisted; no price data found  (period=1d)\n",
      "$DRYS: possibly delisted; no price data found  (period=1d) (Yahoo error = \"No data found, symbol may be delisted\")\n",
      "$MIL: possibly delisted; no price data found  (period=1d)\n",
      "$MWO: possibly delisted; no price data found  (period=1d)\n",
      "$HEP: possibly delisted; no price data found  (period=1d) (Yahoo error = \"No data found, symbol may be delisted\")\n",
      "404 Client Error: Not Found for url: https://query2.finance.yahoo.com/v10/finance/quoteSummary/HEP?modules=financialData%2CquoteType%2CdefaultKeyStatistics%2CassetProfile%2CsummaryDetail&corsDomain=finance.yahoo.com&formatted=false&symbol=HEP&crumb=eH0scvPxYkq\n",
      "404 Client Error: Not Found for url: https://query2.finance.yahoo.com/v10/finance/quoteSummary/HEP?modules=financialData%2CquoteType%2CdefaultKeyStatistics%2CassetProfile%2CsummaryDetail&corsDomain=finance.yahoo.com&formatted=false&symbol=HEP&crumb=eH0scvPxYkq\n",
      "$TMS: possibly delisted; no price data found  (period=1d)\n",
      "$SYNL: possibly delisted; no price data found  (period=1d) (Yahoo error = \"No data found, symbol may be delisted\")\n",
      "$FDI: possibly delisted; no price data found  (period=1d)\n",
      "$MSBF: possibly delisted; no price data found  (period=1d) (Yahoo error = \"No data found, symbol may be delisted\")\n",
      "$MER-E: possibly delisted; no price data found  (period=1d) (Yahoo error = \"No data found, symbol may be delisted\")\n",
      "404 Client Error: Not Found for url: https://query2.finance.yahoo.com/v10/finance/quoteSummary/MER-E?modules=financialData%2CquoteType%2CdefaultKeyStatistics%2CassetProfile%2CsummaryDetail&corsDomain=finance.yahoo.com&formatted=false&symbol=MER-E&crumb=eH0scvPxYkq\n",
      "404 Client Error: Not Found for url: https://query2.finance.yahoo.com/v10/finance/quoteSummary/MER-E?modules=financialData%2CquoteType%2CdefaultKeyStatistics%2CassetProfile%2CsummaryDetail&corsDomain=finance.yahoo.com&formatted=false&symbol=MER-E&crumb=eH0scvPxYkq\n",
      "$HRC: possibly delisted; no price data found  (period=1d) (Yahoo error = \"No data found, symbol may be delisted\")\n",
      "$BCOR: possibly delisted; no price data found  (period=1d) (Yahoo error = \"No data found, symbol may be delisted\")\n",
      "$IRL: possibly delisted; no price data found  (period=1d) (Yahoo error = \"No data found, symbol may be delisted\")\n",
      "404 Client Error: Not Found for url: https://query2.finance.yahoo.com/v10/finance/quoteSummary/IRL?modules=financialData%2CquoteType%2CdefaultKeyStatistics%2CassetProfile%2CsummaryDetail&corsDomain=finance.yahoo.com&formatted=false&symbol=IRL&crumb=eH0scvPxYkq\n",
      "404 Client Error: Not Found for url: https://query2.finance.yahoo.com/v10/finance/quoteSummary/IRL?modules=financialData%2CquoteType%2CdefaultKeyStatistics%2CassetProfile%2CsummaryDetail&corsDomain=finance.yahoo.com&formatted=false&symbol=IRL&crumb=eH0scvPxYkq\n",
      "$TMH: possibly delisted; no price data found  (period=1d)\n",
      "$AVEO: possibly delisted; no price data found  (period=1d) (Yahoo error = \"No data found, symbol may be delisted\")\n",
      "$CIS: possibly delisted; no price data found  (period=1d)\n",
      "$HWCC: possibly delisted; no price data found  (period=1d) (Yahoo error = \"No data found, symbol may be delisted\")\n",
      "$AMAG: possibly delisted; no price data found  (period=1d) (Yahoo error = \"No data found, symbol may be delisted\")\n",
      "$PCL: possibly delisted; no price data found  (period=1d)\n",
      "$ALR-B: possibly delisted; no price data found  (period=1d) (Yahoo error = \"No data found, symbol may be delisted\")\n",
      "404 Client Error: Not Found for url: https://query2.finance.yahoo.com/v10/finance/quoteSummary/ALR-B?modules=financialData%2CquoteType%2CdefaultKeyStatistics%2CassetProfile%2CsummaryDetail&corsDomain=finance.yahoo.com&formatted=false&symbol=ALR-B&crumb=eH0scvPxYkq\n",
      "404 Client Error: Not Found for url: https://query2.finance.yahoo.com/v10/finance/quoteSummary/ALR-B?modules=financialData%2CquoteType%2CdefaultKeyStatistics%2CassetProfile%2CsummaryDetail&corsDomain=finance.yahoo.com&formatted=false&symbol=ALR-B&crumb=eH0scvPxYkq\n",
      "$EEP: possibly delisted; no price data found  (period=1d)\n",
      "$MNR-B: possibly delisted; no price data found  (period=1d) (Yahoo error = \"No data found, symbol may be delisted\")\n",
      "404 Client Error: Not Found for url: https://query2.finance.yahoo.com/v10/finance/quoteSummary/MNR-B?modules=financialData%2CquoteType%2CdefaultKeyStatistics%2CassetProfile%2CsummaryDetail&corsDomain=finance.yahoo.com&formatted=false&symbol=MNR-B&crumb=eH0scvPxYkq\n",
      "404 Client Error: Not Found for url: https://query2.finance.yahoo.com/v10/finance/quoteSummary/MNR-B?modules=financialData%2CquoteType%2CdefaultKeyStatistics%2CassetProfile%2CsummaryDetail&corsDomain=finance.yahoo.com&formatted=false&symbol=MNR-B&crumb=eH0scvPxYkq\n",
      "$ELNK: possibly delisted; no price data found  (period=1d)\n",
      "$TTS: possibly delisted; no price data found  (period=1d) (Yahoo error = \"No data found, symbol may be delisted\")\n",
      "$IM: possibly delisted; no price data found  (period=1d)\n",
      "$VLTC: possibly delisted; no price data found  (period=1d) (Yahoo error = \"No data found, symbol may be delisted\")\n",
      "$C-Q: possibly delisted; no price data found  (period=1d) (Yahoo error = \"No data found, symbol may be delisted\")\n",
      "404 Client Error: Not Found for url: https://query2.finance.yahoo.com/v10/finance/quoteSummary/C-Q?modules=financialData%2CquoteType%2CdefaultKeyStatistics%2CassetProfile%2CsummaryDetail&corsDomain=finance.yahoo.com&formatted=false&symbol=C-Q&crumb=eH0scvPxYkq\n",
      "404 Client Error: Not Found for url: https://query2.finance.yahoo.com/v10/finance/quoteSummary/C-Q?modules=financialData%2CquoteType%2CdefaultKeyStatistics%2CassetProfile%2CsummaryDetail&corsDomain=finance.yahoo.com&formatted=false&symbol=C-Q&crumb=eH0scvPxYkq\n",
      "$RVBD: possibly delisted; no price data found  (period=1d)\n",
      "$Y: possibly delisted; no price data found  (period=1d) (Yahoo error = \"No data found, symbol may be delisted\")\n",
      "$HSOL: possibly delisted; no price data found  (period=1d)\n",
      "$NAVG: possibly delisted; no price data found  (period=1d) (Yahoo error = \"No data found, symbol may be delisted\")\n",
      "$IPCI: possibly delisted; no price data found  (period=1d) (Yahoo error = \"No data found, symbol may be delisted\")\n",
      "$VICL: possibly delisted; no price data found  (period=1d) (Yahoo error = \"No data found, symbol may be delisted\")\n",
      "$CXDC: possibly delisted; no price data found  (period=1d) (Yahoo error = \"No data found, symbol may be delisted\")\n",
      "$CTRP: possibly delisted; no price data found  (period=1d) (Yahoo error = \"No data found, symbol may be delisted\")\n",
      "$INOC: possibly delisted; no price data found  (period=1d)\n",
      "$USTR: possibly delisted; no price data found  (period=1d)\n",
      "$RBS-N: possibly delisted; no price data found  (period=1d) (Yahoo error = \"No data found, symbol may be delisted\")\n",
      "404 Client Error: Not Found for url: https://query2.finance.yahoo.com/v10/finance/quoteSummary/RBS-N?modules=financialData%2CquoteType%2CdefaultKeyStatistics%2CassetProfile%2CsummaryDetail&corsDomain=finance.yahoo.com&formatted=false&symbol=RBS-N&crumb=eH0scvPxYkq\n",
      "404 Client Error: Not Found for url: https://query2.finance.yahoo.com/v10/finance/quoteSummary/RBS-N?modules=financialData%2CquoteType%2CdefaultKeyStatistics%2CassetProfile%2CsummaryDetail&corsDomain=finance.yahoo.com&formatted=false&symbol=RBS-N&crumb=eH0scvPxYkq\n",
      "$LONG: possibly delisted; no price data found  (period=1d)\n",
      "$CYOU: possibly delisted; no price data found  (period=1d) (Yahoo error = \"No data found, symbol may be delisted\")\n",
      "$DPD: possibly delisted; no price data found  (period=1d) (Yahoo error = \"No data found, symbol may be delisted\")\n",
      "$LAWS: possibly delisted; no price data found  (period=1d) (Yahoo error = \"No data found, symbol may be delisted\")\n",
      "$MBRG: possibly delisted; no price data found  (period=1d)\n",
      "$ALOG: possibly delisted; no price data found  (period=1d)\n",
      "$PSA-R: possibly delisted; no price data found  (period=1d) (Yahoo error = \"No data found, symbol may be delisted\")\n",
      "404 Client Error: Not Found for url: https://query2.finance.yahoo.com/v10/finance/quoteSummary/PSA-R?modules=financialData%2CquoteType%2CdefaultKeyStatistics%2CassetProfile%2CsummaryDetail&corsDomain=finance.yahoo.com&formatted=false&symbol=PSA-R&crumb=eH0scvPxYkq\n",
      "404 Client Error: Not Found for url: https://query2.finance.yahoo.com/v10/finance/quoteSummary/PSA-R?modules=financialData%2CquoteType%2CdefaultKeyStatistics%2CassetProfile%2CsummaryDetail&corsDomain=finance.yahoo.com&formatted=false&symbol=PSA-R&crumb=eH0scvPxYkq\n",
      "$GUA: possibly delisted; no price data found  (period=1d)\n",
      "$EJ: possibly delisted; no price data found  (period=1d)\n",
      "$SPLS: possibly delisted; no price data found  (period=1d)\n",
      "$MWE: possibly delisted; no price data found  (period=1d)\n",
      "$GAT: possibly delisted; no price data found  (period=1d)\n",
      "$GRA: possibly delisted; no price data found  (period=1d) (Yahoo error = \"No data found, symbol may be delisted\")\n",
      "$GEB: possibly delisted; no price data found  (period=1d)\n",
      "$DPO: possibly delisted; no price data found  (period=1d) (Yahoo error = \"No data found, symbol may be delisted\")\n",
      "$AES-PC: possibly delisted; no price data found  (period=1d)\n",
      "$ALCS: possibly delisted; no price data found  (period=1d)\n",
      "$SGL: possibly delisted; no price data found  (period=1d)\n",
      "429 Client Error: Too Many Requests for url: https://query2.finance.yahoo.com/v10/finance/quoteSummary/PAA?modules=financialData%2CquoteType%2CdefaultKeyStatistics%2CassetProfile%2CsummaryDetail&corsDomain=finance.yahoo.com&formatted=false&symbol=PAA&crumb=Edge%3A+Too+Many+Requests\n",
      "$GME: possibly delisted; no price data found  (period=1d)\n",
      "429 Client Error: Too Many Requests for url: https://query2.finance.yahoo.com/v10/finance/quoteSummary/GME?modules=financialData%2CquoteType%2CdefaultKeyStatistics%2CassetProfile%2CsummaryDetail&corsDomain=finance.yahoo.com&formatted=false&symbol=GME&crumb=Edge%3A+Too+Many+Requests\n",
      "Failed to get ticker 'NOK' reason: Expecting value: line 1 column 1 (char 0)\n",
      "$NOK: possibly delisted; no price data found  (period=1d)\n",
      "429 Client Error: Too Many Requests for url: https://query2.finance.yahoo.com/v10/finance/quoteSummary/NOK?modules=financialData%2CquoteType%2CdefaultKeyStatistics%2CassetProfile%2CsummaryDetail&corsDomain=finance.yahoo.com&formatted=false&symbol=NOK&crumb=Edge%3A+Too+Many+Requests\n",
      "Failed to get ticker 'SGEN' reason: Expecting value: line 1 column 1 (char 0)\n",
      "$SGEN: possibly delisted; no price data found  (period=1d)\n",
      "429 Client Error: Too Many Requests for url: https://query2.finance.yahoo.com/v10/finance/quoteSummary/SGEN?modules=financialData%2CquoteType%2CdefaultKeyStatistics%2CassetProfile%2CsummaryDetail&corsDomain=finance.yahoo.com&formatted=false&symbol=SGEN&crumb=Edge%3A+Too+Many+Requests\n",
      "$KRG: possibly delisted; no price data found  (period=1d)\n",
      "429 Client Error: Too Many Requests for url: https://query2.finance.yahoo.com/v10/finance/quoteSummary/KRG?modules=financialData%2CquoteType%2CdefaultKeyStatistics%2CassetProfile%2CsummaryDetail&corsDomain=finance.yahoo.com&formatted=false&symbol=KRG&crumb=Edge%3A+Too+Many+Requests\n",
      "Failed to get ticker 'EGRW' reason: Expecting value: line 1 column 1 (char 0)\n",
      "$EGRW: possibly delisted; no price data found  (period=1d)\n",
      "429 Client Error: Too Many Requests for url: https://query2.finance.yahoo.com/v10/finance/quoteSummary/EGRW?modules=financialData%2CquoteType%2CdefaultKeyStatistics%2CassetProfile%2CsummaryDetail&corsDomain=finance.yahoo.com&formatted=false&symbol=EGRW&crumb=Edge%3A+Too+Many+Requests\n",
      "$ESIO: possibly delisted; no price data found  (period=1d)\n",
      "429 Client Error: Too Many Requests for url: https://query2.finance.yahoo.com/v10/finance/quoteSummary/ESIO?modules=financialData%2CquoteType%2CdefaultKeyStatistics%2CassetProfile%2CsummaryDetail&corsDomain=finance.yahoo.com&formatted=false&symbol=ESIO&crumb=Edge%3A+Too+Many+Requests\n",
      "$CPWR: possibly delisted; no price data found  (period=1d)\n",
      "429 Client Error: Too Many Requests for url: https://query2.finance.yahoo.com/v10/finance/quoteSummary/CPWR?modules=financialData%2CquoteType%2CdefaultKeyStatistics%2CassetProfile%2CsummaryDetail&corsDomain=finance.yahoo.com&formatted=false&symbol=CPWR&crumb=Edge%3A+Too+Many+Requests\n",
      "Failed to get ticker 'CKH' reason: Expecting value: line 1 column 1 (char 0)\n",
      "$CKH: possibly delisted; no price data found  (period=1d)\n",
      "429 Client Error: Too Many Requests for url: https://query2.finance.yahoo.com/v10/finance/quoteSummary/CKH?modules=financialData%2CquoteType%2CdefaultKeyStatistics%2CassetProfile%2CsummaryDetail&corsDomain=finance.yahoo.com&formatted=false&symbol=CKH&crumb=Edge%3A+Too+Many+Requests\n",
      "Failed to get ticker 'FCHI' reason: Expecting value: line 1 column 1 (char 0)\n",
      "$FCHI: possibly delisted; no price data found  (period=1d)\n",
      "429 Client Error: Too Many Requests for url: https://query2.finance.yahoo.com/v10/finance/quoteSummary/FCHI?modules=financialData%2CquoteType%2CdefaultKeyStatistics%2CassetProfile%2CsummaryDetail&corsDomain=finance.yahoo.com&formatted=false&symbol=FCHI&crumb=Edge%3A+Too+Many+Requests\n",
      "Failed to get ticker 'HIL' reason: Expecting value: line 1 column 1 (char 0)\n",
      "$HIL: possibly delisted; no price data found  (period=1d)\n",
      "429 Client Error: Too Many Requests for url: https://query2.finance.yahoo.com/v10/finance/quoteSummary/HIL?modules=financialData%2CquoteType%2CdefaultKeyStatistics%2CassetProfile%2CsummaryDetail&corsDomain=finance.yahoo.com&formatted=false&symbol=HIL&crumb=Edge%3A+Too+Many+Requests\n",
      "$DD: possibly delisted; no price data found  (period=1d)\n",
      "429 Client Error: Too Many Requests for url: https://query2.finance.yahoo.com/v10/finance/quoteSummary/DD?modules=financialData%2CquoteType%2CdefaultKeyStatistics%2CassetProfile%2CsummaryDetail&corsDomain=finance.yahoo.com&formatted=false&symbol=DD&crumb=Edge%3A+Too+Many+Requests\n",
      "$ZOLT: possibly delisted; no price data found  (period=1d)\n",
      "429 Client Error: Too Many Requests for url: https://query2.finance.yahoo.com/v10/finance/quoteSummary/ZOLT?modules=financialData%2CquoteType%2CdefaultKeyStatistics%2CassetProfile%2CsummaryDetail&corsDomain=finance.yahoo.com&formatted=false&symbol=ZOLT&crumb=Edge%3A+Too+Many+Requests\n",
      "$ELOS: possibly delisted; no price data found  (period=1d)\n",
      "429 Client Error: Too Many Requests for url: https://query2.finance.yahoo.com/v10/finance/quoteSummary/ELOS?modules=financialData%2CquoteType%2CdefaultKeyStatistics%2CassetProfile%2CsummaryDetail&corsDomain=finance.yahoo.com&formatted=false&symbol=ELOS&crumb=Edge%3A+Too+Many+Requests\n",
      "Failed to get ticker 'CYH' reason: Expecting value: line 1 column 1 (char 0)\n",
      "$CYH: possibly delisted; no price data found  (period=1d)\n",
      "429 Client Error: Too Many Requests for url: https://query2.finance.yahoo.com/v10/finance/quoteSummary/CYH?modules=financialData%2CquoteType%2CdefaultKeyStatistics%2CassetProfile%2CsummaryDetail&corsDomain=finance.yahoo.com&formatted=false&symbol=CYH&crumb=Edge%3A+Too+Many+Requests\n",
      "Failed to get ticker 'PPS-A' reason: Expecting value: line 1 column 1 (char 0)\n",
      "$PPS-A: possibly delisted; no price data found  (period=1d)\n",
      "429 Client Error: Too Many Requests for url: https://query2.finance.yahoo.com/v10/finance/quoteSummary/PPS-A?modules=financialData%2CquoteType%2CdefaultKeyStatistics%2CassetProfile%2CsummaryDetail&corsDomain=finance.yahoo.com&formatted=false&symbol=PPS-A&crumb=Edge%3A+Too+Many+Requests\n",
      "$TM: possibly delisted; no price data found  (period=1d)\n",
      "429 Client Error: Too Many Requests for url: https://query2.finance.yahoo.com/v10/finance/quoteSummary/TM?modules=financialData%2CquoteType%2CdefaultKeyStatistics%2CassetProfile%2CsummaryDetail&corsDomain=finance.yahoo.com&formatted=false&symbol=TM&crumb=Edge%3A+Too+Many+Requests\n",
      "Failed to get ticker 'JMT' reason: Expecting value: line 1 column 1 (char 0)\n",
      "$JMT: possibly delisted; no price data found  (period=1d)\n",
      "429 Client Error: Too Many Requests for url: https://query2.finance.yahoo.com/v10/finance/quoteSummary/JMT?modules=financialData%2CquoteType%2CdefaultKeyStatistics%2CassetProfile%2CsummaryDetail&corsDomain=finance.yahoo.com&formatted=false&symbol=JMT&crumb=Edge%3A+Too+Many+Requests\n",
      "Failed to get ticker 'RDS.A' reason: Expecting value: line 1 column 1 (char 0)\n",
      "$RDS.A: possibly delisted; no price data found  (period=1d)\n",
      "429 Client Error: Too Many Requests for url: https://query2.finance.yahoo.com/v10/finance/quoteSummary/RDS.A?modules=financialData%2CquoteType%2CdefaultKeyStatistics%2CassetProfile%2CsummaryDetail&corsDomain=finance.yahoo.com&formatted=false&symbol=RDS.A&crumb=Edge%3A+Too+Many+Requests\n",
      "Failed to get ticker 'UNAM' reason: Expecting value: line 1 column 1 (char 0)\n",
      "$UNAM: possibly delisted; no price data found  (period=1d)\n",
      "429 Client Error: Too Many Requests for url: https://query2.finance.yahoo.com/v10/finance/quoteSummary/UNAM?modules=financialData%2CquoteType%2CdefaultKeyStatistics%2CassetProfile%2CsummaryDetail&corsDomain=finance.yahoo.com&formatted=false&symbol=UNAM&crumb=Edge%3A+Too+Many+Requests\n",
      "$SYBT: possibly delisted; no price data found  (period=1d)\n",
      "429 Client Error: Too Many Requests for url: https://query2.finance.yahoo.com/v10/finance/quoteSummary/SYBT?modules=financialData%2CquoteType%2CdefaultKeyStatistics%2CassetProfile%2CsummaryDetail&corsDomain=finance.yahoo.com&formatted=false&symbol=SYBT&crumb=Edge%3A+Too+Many+Requests\n",
      "$BGX: possibly delisted; no price data found  (period=1d)\n",
      "429 Client Error: Too Many Requests for url: https://query2.finance.yahoo.com/v10/finance/quoteSummary/BGX?modules=financialData%2CquoteType%2CdefaultKeyStatistics%2CassetProfile%2CsummaryDetail&corsDomain=finance.yahoo.com&formatted=false&symbol=BGX&crumb=Edge%3A+Too+Many+Requests\n",
      "Failed to get ticker 'GRT-I' reason: Expecting value: line 1 column 1 (char 0)\n",
      "$GRT-I: possibly delisted; no price data found  (period=1d)\n",
      "429 Client Error: Too Many Requests for url: https://query2.finance.yahoo.com/v10/finance/quoteSummary/GRT-I?modules=financialData%2CquoteType%2CdefaultKeyStatistics%2CassetProfile%2CsummaryDetail&corsDomain=finance.yahoo.com&formatted=false&symbol=GRT-I&crumb=Edge%3A+Too+Many+Requests\n",
      "Failed to get ticker 'VGIT' reason: Expecting value: line 1 column 1 (char 0)\n",
      "$VGIT: possibly delisted; no price data found  (period=1d)\n",
      "429 Client Error: Too Many Requests for url: https://query2.finance.yahoo.com/v10/finance/quoteSummary/VGIT?modules=financialData%2CquoteType%2CdefaultKeyStatistics%2CassetProfile%2CsummaryDetail&corsDomain=finance.yahoo.com&formatted=false&symbol=VGIT&crumb=Edge%3A+Too+Many+Requests\n",
      "$MAGS: possibly delisted; no price data found  (period=1d)\n",
      "429 Client Error: Too Many Requests for url: https://query2.finance.yahoo.com/v10/finance/quoteSummary/MAGS?modules=financialData%2CquoteType%2CdefaultKeyStatistics%2CassetProfile%2CsummaryDetail&corsDomain=finance.yahoo.com&formatted=false&symbol=MAGS&crumb=Edge%3A+Too+Many+Requests\n",
      "$HBC: possibly delisted; no price data found  (period=1d)\n",
      "429 Client Error: Too Many Requests for url: https://query2.finance.yahoo.com/v10/finance/quoteSummary/HBC?modules=financialData%2CquoteType%2CdefaultKeyStatistics%2CassetProfile%2CsummaryDetail&corsDomain=finance.yahoo.com&formatted=false&symbol=HBC&crumb=Edge%3A+Too+Many+Requests\n",
      "Failed to get ticker 'SEM.W' reason: Expecting value: line 1 column 1 (char 0)\n",
      "$SEM.W: possibly delisted; no price data found  (period=1d)\n",
      "429 Client Error: Too Many Requests for url: https://query2.finance.yahoo.com/v10/finance/quoteSummary/SEM.W?modules=financialData%2CquoteType%2CdefaultKeyStatistics%2CassetProfile%2CsummaryDetail&corsDomain=finance.yahoo.com&formatted=false&symbol=SEM.W&crumb=Edge%3A+Too+Many+Requests\n",
      "Failed to get ticker 'MVC' reason: Expecting value: line 1 column 1 (char 0)\n",
      "$MVC: possibly delisted; no price data found  (period=1d)\n",
      "429 Client Error: Too Many Requests for url: https://query2.finance.yahoo.com/v10/finance/quoteSummary/MVC?modules=financialData%2CquoteType%2CdefaultKeyStatistics%2CassetProfile%2CsummaryDetail&corsDomain=finance.yahoo.com&formatted=false&symbol=MVC&crumb=Edge%3A+Too+Many+Requests\n",
      "$PSTR: possibly delisted; no price data found  (period=1d)\n",
      "429 Client Error: Too Many Requests for url: https://query2.finance.yahoo.com/v10/finance/quoteSummary/PSTR?modules=financialData%2CquoteType%2CdefaultKeyStatistics%2CassetProfile%2CsummaryDetail&corsDomain=finance.yahoo.com&formatted=false&symbol=PSTR&crumb=Edge%3A+Too+Many+Requests\n",
      "Failed to get ticker 'RNR-E' reason: Expecting value: line 1 column 1 (char 0)\n",
      "$RNR-E: possibly delisted; no price data found  (period=1d)\n",
      "429 Client Error: Too Many Requests for url: https://query2.finance.yahoo.com/v10/finance/quoteSummary/RNR-E?modules=financialData%2CquoteType%2CdefaultKeyStatistics%2CassetProfile%2CsummaryDetail&corsDomain=finance.yahoo.com&formatted=false&symbol=RNR-E&crumb=Edge%3A+Too+Many+Requests\n",
      "$SMA: possibly delisted; no price data found  (period=1d)\n",
      "429 Client Error: Too Many Requests for url: https://query2.finance.yahoo.com/v10/finance/quoteSummary/SMA?modules=financialData%2CquoteType%2CdefaultKeyStatistics%2CassetProfile%2CsummaryDetail&corsDomain=finance.yahoo.com&formatted=false&symbol=SMA&crumb=Edge%3A+Too+Many+Requests\n",
      "$ANN: possibly delisted; no price data found  (period=1d)\n",
      "429 Client Error: Too Many Requests for url: https://query2.finance.yahoo.com/v10/finance/quoteSummary/ANN?modules=financialData%2CquoteType%2CdefaultKeyStatistics%2CassetProfile%2CsummaryDetail&corsDomain=finance.yahoo.com&formatted=false&symbol=ANN&crumb=Edge%3A+Too+Many+Requests\n",
      "$DMND: possibly delisted; no price data found  (period=1d)\n",
      "429 Client Error: Too Many Requests for url: https://query2.finance.yahoo.com/v10/finance/quoteSummary/DMND?modules=financialData%2CquoteType%2CdefaultKeyStatistics%2CassetProfile%2CsummaryDetail&corsDomain=finance.yahoo.com&formatted=false&symbol=DMND&crumb=Edge%3A+Too+Many+Requests\n",
      "Failed to get ticker 'CISAU' reason: Expecting value: line 1 column 1 (char 0)\n",
      "$CISAU: possibly delisted; no price data found  (period=1d)\n",
      "429 Client Error: Too Many Requests for url: https://query2.finance.yahoo.com/v10/finance/quoteSummary/CISAU?modules=financialData%2CquoteType%2CdefaultKeyStatistics%2CassetProfile%2CsummaryDetail&corsDomain=finance.yahoo.com&formatted=false&symbol=CISAU&crumb=Edge%3A+Too+Many+Requests\n",
      "Failed to get ticker 'OFG' reason: Expecting value: line 1 column 1 (char 0)\n",
      "$OFG: possibly delisted; no price data found  (period=1d)\n",
      "429 Client Error: Too Many Requests for url: https://query2.finance.yahoo.com/v10/finance/quoteSummary/OFG?modules=financialData%2CquoteType%2CdefaultKeyStatistics%2CassetProfile%2CsummaryDetail&corsDomain=finance.yahoo.com&formatted=false&symbol=OFG&crumb=Edge%3A+Too+Many+Requests\n",
      "Failed to get ticker 'CLGX' reason: Expecting value: line 1 column 1 (char 0)\n",
      "$CLGX: possibly delisted; no price data found  (period=1d)\n",
      "429 Client Error: Too Many Requests for url: https://query2.finance.yahoo.com/v10/finance/quoteSummary/CLGX?modules=financialData%2CquoteType%2CdefaultKeyStatistics%2CassetProfile%2CsummaryDetail&corsDomain=finance.yahoo.com&formatted=false&symbol=CLGX&crumb=Edge%3A+Too+Many+Requests\n",
      "$APWC: possibly delisted; no price data found  (period=1d)\n",
      "429 Client Error: Too Many Requests for url: https://query2.finance.yahoo.com/v10/finance/quoteSummary/APWC?modules=financialData%2CquoteType%2CdefaultKeyStatistics%2CassetProfile%2CsummaryDetail&corsDomain=finance.yahoo.com&formatted=false&symbol=APWC&crumb=Edge%3A+Too+Many+Requests\n",
      "$AHT: possibly delisted; no price data found  (period=1d)\n",
      "429 Client Error: Too Many Requests for url: https://query2.finance.yahoo.com/v10/finance/quoteSummary/AHT?modules=financialData%2CquoteType%2CdefaultKeyStatistics%2CassetProfile%2CsummaryDetail&corsDomain=finance.yahoo.com&formatted=false&symbol=AHT&crumb=Edge%3A+Too+Many+Requests\n",
      "$IRG: possibly delisted; no price data found  (period=1d)\n",
      "429 Client Error: Too Many Requests for url: https://query2.finance.yahoo.com/v10/finance/quoteSummary/IRG?modules=financialData%2CquoteType%2CdefaultKeyStatistics%2CassetProfile%2CsummaryDetail&corsDomain=finance.yahoo.com&formatted=false&symbol=IRG&crumb=Edge%3A+Too+Many+Requests\n",
      "$AVK: possibly delisted; no price data found  (period=1d)\n",
      "429 Client Error: Too Many Requests for url: https://query2.finance.yahoo.com/v10/finance/quoteSummary/AVK?modules=financialData%2CquoteType%2CdefaultKeyStatistics%2CassetProfile%2CsummaryDetail&corsDomain=finance.yahoo.com&formatted=false&symbol=AVK&crumb=Edge%3A+Too+Many+Requests\n",
      "Failed to get ticker 'CERE' reason: Expecting value: line 1 column 1 (char 0)\n",
      "$CERE: possibly delisted; no price data found  (period=1d)\n",
      "429 Client Error: Too Many Requests for url: https://query2.finance.yahoo.com/v10/finance/quoteSummary/CERE?modules=financialData%2CquoteType%2CdefaultKeyStatistics%2CassetProfile%2CsummaryDetail&corsDomain=finance.yahoo.com&formatted=false&symbol=CERE&crumb=Edge%3A+Too+Many+Requests\n",
      "$TSRE: possibly delisted; no price data found  (period=1d)\n",
      "429 Client Error: Too Many Requests for url: https://query2.finance.yahoo.com/v10/finance/quoteSummary/TSRE?modules=financialData%2CquoteType%2CdefaultKeyStatistics%2CassetProfile%2CsummaryDetail&corsDomain=finance.yahoo.com&formatted=false&symbol=TSRE&crumb=Edge%3A+Too+Many+Requests\n",
      "$BEN: possibly delisted; no price data found  (period=1d)\n",
      "429 Client Error: Too Many Requests for url: https://query2.finance.yahoo.com/v10/finance/quoteSummary/BEN?modules=financialData%2CquoteType%2CdefaultKeyStatistics%2CassetProfile%2CsummaryDetail&corsDomain=finance.yahoo.com&formatted=false&symbol=BEN&crumb=Edge%3A+Too+Many+Requests\n",
      "Failed to get ticker 'SSRI' reason: Expecting value: line 1 column 1 (char 0)\n",
      "$SSRI: possibly delisted; no price data found  (period=1d)\n",
      "429 Client Error: Too Many Requests for url: https://query2.finance.yahoo.com/v10/finance/quoteSummary/SSRI?modules=financialData%2CquoteType%2CdefaultKeyStatistics%2CassetProfile%2CsummaryDetail&corsDomain=finance.yahoo.com&formatted=false&symbol=SSRI&crumb=Edge%3A+Too+Many+Requests\n",
      "Failed to get ticker 'GJS' reason: Expecting value: line 1 column 1 (char 0)\n",
      "$GJS: possibly delisted; no price data found  (period=1d)\n",
      "429 Client Error: Too Many Requests for url: https://query2.finance.yahoo.com/v10/finance/quoteSummary/GJS?modules=financialData%2CquoteType%2CdefaultKeyStatistics%2CassetProfile%2CsummaryDetail&corsDomain=finance.yahoo.com&formatted=false&symbol=GJS&crumb=Edge%3A+Too+Many+Requests\n",
      "$MOV: possibly delisted; no price data found  (period=1d)\n",
      "429 Client Error: Too Many Requests for url: https://query2.finance.yahoo.com/v10/finance/quoteSummary/MOV?modules=financialData%2CquoteType%2CdefaultKeyStatistics%2CassetProfile%2CsummaryDetail&corsDomain=finance.yahoo.com&formatted=false&symbol=MOV&crumb=Edge%3A+Too+Many+Requests\n",
      "$PPT: possibly delisted; no price data found  (period=1d)\n",
      "429 Client Error: Too Many Requests for url: https://query2.finance.yahoo.com/v10/finance/quoteSummary/PPT?modules=financialData%2CquoteType%2CdefaultKeyStatistics%2CassetProfile%2CsummaryDetail&corsDomain=finance.yahoo.com&formatted=false&symbol=PPT&crumb=Edge%3A+Too+Many+Requests\n",
      "$GEF.B: possibly delisted; no price data found  (period=1d)\n",
      "429 Client Error: Too Many Requests for url: https://query2.finance.yahoo.com/v10/finance/quoteSummary/GEF.B?modules=financialData%2CquoteType%2CdefaultKeyStatistics%2CassetProfile%2CsummaryDetail&corsDomain=finance.yahoo.com&formatted=false&symbol=GEF.B&crumb=Edge%3A+Too+Many+Requests\n",
      "Failed to get ticker 'WSTG' reason: Expecting value: line 1 column 1 (char 0)\n",
      "$WSTG: possibly delisted; no price data found  (period=1d)\n",
      "429 Client Error: Too Many Requests for url: https://query2.finance.yahoo.com/v10/finance/quoteSummary/WSTG?modules=financialData%2CquoteType%2CdefaultKeyStatistics%2CassetProfile%2CsummaryDetail&corsDomain=finance.yahoo.com&formatted=false&symbol=WSTG&crumb=Edge%3A+Too+Many+Requests\n",
      "Failed to get ticker 'TAX' reason: Expecting value: line 1 column 1 (char 0)\n",
      "$TAX: possibly delisted; no price data found  (period=1d)\n",
      "429 Client Error: Too Many Requests for url: https://query2.finance.yahoo.com/v10/finance/quoteSummary/TAX?modules=financialData%2CquoteType%2CdefaultKeyStatistics%2CassetProfile%2CsummaryDetail&corsDomain=finance.yahoo.com&formatted=false&symbol=TAX&crumb=Edge%3A+Too+Many+Requests\n",
      "$HAE: possibly delisted; no price data found  (period=1d)\n",
      "429 Client Error: Too Many Requests for url: https://query2.finance.yahoo.com/v10/finance/quoteSummary/HAE?modules=financialData%2CquoteType%2CdefaultKeyStatistics%2CassetProfile%2CsummaryDetail&corsDomain=finance.yahoo.com&formatted=false&symbol=HAE&crumb=Edge%3A+Too+Many+Requests\n",
      "$DTLK: possibly delisted; no price data found  (period=1d)\n",
      "429 Client Error: Too Many Requests for url: https://query2.finance.yahoo.com/v10/finance/quoteSummary/DTLK?modules=financialData%2CquoteType%2CdefaultKeyStatistics%2CassetProfile%2CsummaryDetail&corsDomain=finance.yahoo.com&formatted=false&symbol=DTLK&crumb=Edge%3A+Too+Many+Requests\n",
      "$CBNJ: possibly delisted; no price data found  (period=1d)\n",
      "429 Client Error: Too Many Requests for url: https://query2.finance.yahoo.com/v10/finance/quoteSummary/CBNJ?modules=financialData%2CquoteType%2CdefaultKeyStatistics%2CassetProfile%2CsummaryDetail&corsDomain=finance.yahoo.com&formatted=false&symbol=CBNJ&crumb=Edge%3A+Too+Many+Requests\n",
      "$OWW: possibly delisted; no price data found  (period=1d)\n",
      "429 Client Error: Too Many Requests for url: https://query2.finance.yahoo.com/v10/finance/quoteSummary/OWW?modules=financialData%2CquoteType%2CdefaultKeyStatistics%2CassetProfile%2CsummaryDetail&corsDomain=finance.yahoo.com&formatted=false&symbol=OWW&crumb=Edge%3A+Too+Many+Requests\n",
      "Failed to get ticker 'TCBIP' reason: Expecting value: line 1 column 1 (char 0)\n",
      "$TCBIP: possibly delisted; no price data found  (period=1d)\n",
      "429 Client Error: Too Many Requests for url: https://query2.finance.yahoo.com/v10/finance/quoteSummary/TCBIP?modules=financialData%2CquoteType%2CdefaultKeyStatistics%2CassetProfile%2CsummaryDetail&corsDomain=finance.yahoo.com&formatted=false&symbol=TCBIP&crumb=Edge%3A+Too+Many+Requests\n",
      "$LII: possibly delisted; no price data found  (period=1d)\n",
      "429 Client Error: Too Many Requests for url: https://query2.finance.yahoo.com/v10/finance/quoteSummary/LII?modules=financialData%2CquoteType%2CdefaultKeyStatistics%2CassetProfile%2CsummaryDetail&corsDomain=finance.yahoo.com&formatted=false&symbol=LII&crumb=Edge%3A+Too+Many+Requests\n",
      "Failed to get ticker 'FIBK' reason: Expecting value: line 1 column 1 (char 0)\n",
      "$FIBK: possibly delisted; no price data found  (period=1d)\n",
      "429 Client Error: Too Many Requests for url: https://query2.finance.yahoo.com/v10/finance/quoteSummary/FIBK?modules=financialData%2CquoteType%2CdefaultKeyStatistics%2CassetProfile%2CsummaryDetail&corsDomain=finance.yahoo.com&formatted=false&symbol=FIBK&crumb=Edge%3A+Too+Many+Requests\n",
      "$USBI: possibly delisted; no price data found  (period=1d)\n",
      "429 Client Error: Too Many Requests for url: https://query2.finance.yahoo.com/v10/finance/quoteSummary/USBI?modules=financialData%2CquoteType%2CdefaultKeyStatistics%2CassetProfile%2CsummaryDetail&corsDomain=finance.yahoo.com&formatted=false&symbol=USBI&crumb=Edge%3A+Too+Many+Requests\n",
      "Failed to get ticker 'STML' reason: Expecting value: line 1 column 1 (char 0)\n",
      "$STML: possibly delisted; no price data found  (period=1d)\n",
      "429 Client Error: Too Many Requests for url: https://query2.finance.yahoo.com/v10/finance/quoteSummary/STML?modules=financialData%2CquoteType%2CdefaultKeyStatistics%2CassetProfile%2CsummaryDetail&corsDomain=finance.yahoo.com&formatted=false&symbol=STML&crumb=Edge%3A+Too+Many+Requests\n",
      "$PNC: possibly delisted; no price data found  (period=1d)\n",
      "429 Client Error: Too Many Requests for url: https://query2.finance.yahoo.com/v10/finance/quoteSummary/PNC?modules=financialData%2CquoteType%2CdefaultKeyStatistics%2CassetProfile%2CsummaryDetail&corsDomain=finance.yahoo.com&formatted=false&symbol=PNC&crumb=Edge%3A+Too+Many+Requests\n",
      "$HES: possibly delisted; no price data found  (period=1d)\n",
      "429 Client Error: Too Many Requests for url: https://query2.finance.yahoo.com/v10/finance/quoteSummary/HES?modules=financialData%2CquoteType%2CdefaultKeyStatistics%2CassetProfile%2CsummaryDetail&corsDomain=finance.yahoo.com&formatted=false&symbol=HES&crumb=Edge%3A+Too+Many+Requests\n",
      "Failed to get ticker 'CTIC' reason: Expecting value: line 1 column 1 (char 0)\n",
      "$CTIC: possibly delisted; no price data found  (period=1d)\n",
      "429 Client Error: Too Many Requests for url: https://query2.finance.yahoo.com/v10/finance/quoteSummary/CTIC?modules=financialData%2CquoteType%2CdefaultKeyStatistics%2CassetProfile%2CsummaryDetail&corsDomain=finance.yahoo.com&formatted=false&symbol=CTIC&crumb=Edge%3A+Too+Many+Requests\n",
      "$RSYS: possibly delisted; no price data found  (period=1d)\n",
      "429 Client Error: Too Many Requests for url: https://query2.finance.yahoo.com/v10/finance/quoteSummary/RSYS?modules=financialData%2CquoteType%2CdefaultKeyStatistics%2CassetProfile%2CsummaryDetail&corsDomain=finance.yahoo.com&formatted=false&symbol=RSYS&crumb=Edge%3A+Too+Many+Requests\n",
      "Failed to get ticker 'ROYT' reason: Expecting value: line 1 column 1 (char 0)\n",
      "$ROYT: possibly delisted; no price data found  (period=1d)\n",
      "429 Client Error: Too Many Requests for url: https://query2.finance.yahoo.com/v10/finance/quoteSummary/ROYT?modules=financialData%2CquoteType%2CdefaultKeyStatistics%2CassetProfile%2CsummaryDetail&corsDomain=finance.yahoo.com&formatted=false&symbol=ROYT&crumb=Edge%3A+Too+Many+Requests\n",
      "Failed to get ticker 'NXQ' reason: Expecting value: line 1 column 1 (char 0)\n",
      "$NXQ: possibly delisted; no price data found  (period=1d)\n",
      "429 Client Error: Too Many Requests for url: https://query2.finance.yahoo.com/v10/finance/quoteSummary/NXQ?modules=financialData%2CquoteType%2CdefaultKeyStatistics%2CassetProfile%2CsummaryDetail&corsDomain=finance.yahoo.com&formatted=false&symbol=NXQ&crumb=Edge%3A+Too+Many+Requests\n",
      "$SBY: possibly delisted; no price data found  (period=1d)\n",
      "429 Client Error: Too Many Requests for url: https://query2.finance.yahoo.com/v10/finance/quoteSummary/SBY?modules=financialData%2CquoteType%2CdefaultKeyStatistics%2CassetProfile%2CsummaryDetail&corsDomain=finance.yahoo.com&formatted=false&symbol=SBY&crumb=Edge%3A+Too+Many+Requests\n",
      "Failed to get ticker 'SYX' reason: Expecting value: line 1 column 1 (char 0)\n",
      "$SYX: possibly delisted; no price data found  (period=1d)\n",
      "429 Client Error: Too Many Requests for url: https://query2.finance.yahoo.com/v10/finance/quoteSummary/SYX?modules=financialData%2CquoteType%2CdefaultKeyStatistics%2CassetProfile%2CsummaryDetail&corsDomain=finance.yahoo.com&formatted=false&symbol=SYX&crumb=Edge%3A+Too+Many+Requests\n",
      "$LZB: possibly delisted; no price data found  (period=1d)\n",
      "429 Client Error: Too Many Requests for url: https://query2.finance.yahoo.com/v10/finance/quoteSummary/LZB?modules=financialData%2CquoteType%2CdefaultKeyStatistics%2CassetProfile%2CsummaryDetail&corsDomain=finance.yahoo.com&formatted=false&symbol=LZB&crumb=Edge%3A+Too+Many+Requests\n",
      "$ONB: possibly delisted; no price data found  (period=1d)\n",
      "429 Client Error: Too Many Requests for url: https://query2.finance.yahoo.com/v10/finance/quoteSummary/ONB?modules=financialData%2CquoteType%2CdefaultKeyStatistics%2CassetProfile%2CsummaryDetail&corsDomain=finance.yahoo.com&formatted=false&symbol=ONB&crumb=Edge%3A+Too+Many+Requests\n",
      "$KEYN: possibly delisted; no price data found  (period=1d)\n",
      "429 Client Error: Too Many Requests for url: https://query2.finance.yahoo.com/v10/finance/quoteSummary/KEYN?modules=financialData%2CquoteType%2CdefaultKeyStatistics%2CassetProfile%2CsummaryDetail&corsDomain=finance.yahoo.com&formatted=false&symbol=KEYN&crumb=Edge%3A+Too+Many+Requests\n",
      "$PWX: possibly delisted; no price data found  (period=1d)\n",
      "429 Client Error: Too Many Requests for url: https://query2.finance.yahoo.com/v10/finance/quoteSummary/PWX?modules=financialData%2CquoteType%2CdefaultKeyStatistics%2CassetProfile%2CsummaryDetail&corsDomain=finance.yahoo.com&formatted=false&symbol=PWX&crumb=Edge%3A+Too+Many+Requests\n",
      "$BUSE: possibly delisted; no price data found  (period=1d)\n",
      "429 Client Error: Too Many Requests for url: https://query2.finance.yahoo.com/v10/finance/quoteSummary/BUSE?modules=financialData%2CquoteType%2CdefaultKeyStatistics%2CassetProfile%2CsummaryDetail&corsDomain=finance.yahoo.com&formatted=false&symbol=BUSE&crumb=Edge%3A+Too+Many+Requests\n",
      "$ZUMZ: possibly delisted; no price data found  (period=1d)\n",
      "429 Client Error: Too Many Requests for url: https://query2.finance.yahoo.com/v10/finance/quoteSummary/ZUMZ?modules=financialData%2CquoteType%2CdefaultKeyStatistics%2CassetProfile%2CsummaryDetail&corsDomain=finance.yahoo.com&formatted=false&symbol=ZUMZ&crumb=Edge%3A+Too+Many+Requests\n",
      "Failed to get ticker 'NPY' reason: Expecting value: line 1 column 1 (char 0)\n",
      "$NPY: possibly delisted; no price data found  (period=1d)\n",
      "429 Client Error: Too Many Requests for url: https://query2.finance.yahoo.com/v10/finance/quoteSummary/NPY?modules=financialData%2CquoteType%2CdefaultKeyStatistics%2CassetProfile%2CsummaryDetail&corsDomain=finance.yahoo.com&formatted=false&symbol=NPY&crumb=Edge%3A+Too+Many+Requests\n",
      "$BEP: possibly delisted; no price data found  (period=1d)\n",
      "429 Client Error: Too Many Requests for url: https://query2.finance.yahoo.com/v10/finance/quoteSummary/BEP?modules=financialData%2CquoteType%2CdefaultKeyStatistics%2CassetProfile%2CsummaryDetail&corsDomain=finance.yahoo.com&formatted=false&symbol=BEP&crumb=Edge%3A+Too+Many+Requests\n",
      "Failed to get ticker 'CMO-E' reason: Expecting value: line 1 column 1 (char 0)\n",
      "$CMO-E: possibly delisted; no price data found  (period=1d)\n",
      "429 Client Error: Too Many Requests for url: https://query2.finance.yahoo.com/v10/finance/quoteSummary/CMO-E?modules=financialData%2CquoteType%2CdefaultKeyStatistics%2CassetProfile%2CsummaryDetail&corsDomain=finance.yahoo.com&formatted=false&symbol=CMO-E&crumb=Edge%3A+Too+Many+Requests\n",
      "$LIQD: possibly delisted; no price data found  (period=1d)\n",
      "429 Client Error: Too Many Requests for url: https://query2.finance.yahoo.com/v10/finance/quoteSummary/LIQD?modules=financialData%2CquoteType%2CdefaultKeyStatistics%2CassetProfile%2CsummaryDetail&corsDomain=finance.yahoo.com&formatted=false&symbol=LIQD&crumb=Edge%3A+Too+Many+Requests\n",
      "$ARRY: possibly delisted; no price data found  (period=1d)\n",
      "429 Client Error: Too Many Requests for url: https://query2.finance.yahoo.com/v10/finance/quoteSummary/ARRY?modules=financialData%2CquoteType%2CdefaultKeyStatistics%2CassetProfile%2CsummaryDetail&corsDomain=finance.yahoo.com&formatted=false&symbol=ARRY&crumb=Edge%3A+Too+Many+Requests\n",
      "$HOT: possibly delisted; no price data found  (period=1d)\n",
      "429 Client Error: Too Many Requests for url: https://query2.finance.yahoo.com/v10/finance/quoteSummary/HOT?modules=financialData%2CquoteType%2CdefaultKeyStatistics%2CassetProfile%2CsummaryDetail&corsDomain=finance.yahoo.com&formatted=false&symbol=HOT&crumb=Edge%3A+Too+Many+Requests\n",
      "$STZ: possibly delisted; no price data found  (period=1d)\n",
      "429 Client Error: Too Many Requests for url: https://query2.finance.yahoo.com/v10/finance/quoteSummary/STZ?modules=financialData%2CquoteType%2CdefaultKeyStatistics%2CassetProfile%2CsummaryDetail&corsDomain=finance.yahoo.com&formatted=false&symbol=STZ&crumb=Edge%3A+Too+Many+Requests\n",
      "$MDU: possibly delisted; no price data found  (period=1d)\n",
      "429 Client Error: Too Many Requests for url: https://query2.finance.yahoo.com/v10/finance/quoteSummary/MDU?modules=financialData%2CquoteType%2CdefaultKeyStatistics%2CassetProfile%2CsummaryDetail&corsDomain=finance.yahoo.com&formatted=false&symbol=MDU&crumb=Edge%3A+Too+Many+Requests\n",
      "$HYT: possibly delisted; no price data found  (period=1d)\n",
      "429 Client Error: Too Many Requests for url: https://query2.finance.yahoo.com/v10/finance/quoteSummary/HYT?modules=financialData%2CquoteType%2CdefaultKeyStatistics%2CassetProfile%2CsummaryDetail&corsDomain=finance.yahoo.com&formatted=false&symbol=HYT&crumb=Edge%3A+Too+Many+Requests\n",
      "$BIT: possibly delisted; no price data found  (period=1d)\n",
      "429 Client Error: Too Many Requests for url: https://query2.finance.yahoo.com/v10/finance/quoteSummary/BIT?modules=financialData%2CquoteType%2CdefaultKeyStatistics%2CassetProfile%2CsummaryDetail&corsDomain=finance.yahoo.com&formatted=false&symbol=BIT&crumb=Edge%3A+Too+Many+Requests\n",
      "Failed to get ticker 'EBIX' reason: Expecting value: line 1 column 1 (char 0)\n",
      "$EBIX: possibly delisted; no price data found  (period=1d)\n",
      "429 Client Error: Too Many Requests for url: https://query2.finance.yahoo.com/v10/finance/quoteSummary/EBIX?modules=financialData%2CquoteType%2CdefaultKeyStatistics%2CassetProfile%2CsummaryDetail&corsDomain=finance.yahoo.com&formatted=false&symbol=EBIX&crumb=Edge%3A+Too+Many+Requests\n",
      "$ACWX: possibly delisted; no price data found  (period=1d)\n",
      "429 Client Error: Too Many Requests for url: https://query2.finance.yahoo.com/v10/finance/quoteSummary/ACWX?modules=financialData%2CquoteType%2CdefaultKeyStatistics%2CassetProfile%2CsummaryDetail&corsDomain=finance.yahoo.com&formatted=false&symbol=ACWX&crumb=Edge%3A+Too+Many+Requests\n",
      "$LMNR: possibly delisted; no price data found  (period=1d)\n",
      "429 Client Error: Too Many Requests for url: https://query2.finance.yahoo.com/v10/finance/quoteSummary/LMNR?modules=financialData%2CquoteType%2CdefaultKeyStatistics%2CassetProfile%2CsummaryDetail&corsDomain=finance.yahoo.com&formatted=false&symbol=LMNR&crumb=Edge%3A+Too+Many+Requests\n",
      "$GGP: possibly delisted; no price data found  (period=1d)\n",
      "429 Client Error: Too Many Requests for url: https://query2.finance.yahoo.com/v10/finance/quoteSummary/GGP?modules=financialData%2CquoteType%2CdefaultKeyStatistics%2CassetProfile%2CsummaryDetail&corsDomain=finance.yahoo.com&formatted=false&symbol=GGP&crumb=Edge%3A+Too+Many+Requests\n",
      "$GGS: possibly delisted; no price data found  (period=1d)\n",
      "429 Client Error: Too Many Requests for url: https://query2.finance.yahoo.com/v10/finance/quoteSummary/GGS?modules=financialData%2CquoteType%2CdefaultKeyStatistics%2CassetProfile%2CsummaryDetail&corsDomain=finance.yahoo.com&formatted=false&symbol=GGS&crumb=Edge%3A+Too+Many+Requests\n",
      "$JBI: possibly delisted; no price data found  (period=1d)\n",
      "429 Client Error: Too Many Requests for url: https://query2.finance.yahoo.com/v10/finance/quoteSummary/JBI?modules=financialData%2CquoteType%2CdefaultKeyStatistics%2CassetProfile%2CsummaryDetail&corsDomain=finance.yahoo.com&formatted=false&symbol=JBI&crumb=Edge%3A+Too+Many+Requests\n",
      "$NAC: possibly delisted; no price data found  (period=1d)\n",
      "429 Client Error: Too Many Requests for url: https://query2.finance.yahoo.com/v10/finance/quoteSummary/NAC?modules=financialData%2CquoteType%2CdefaultKeyStatistics%2CassetProfile%2CsummaryDetail&corsDomain=finance.yahoo.com&formatted=false&symbol=NAC&crumb=Edge%3A+Too+Many+Requests\n",
      "Failed to get ticker 'CPAH' reason: Expecting value: line 1 column 1 (char 0)\n",
      "$CPAH: possibly delisted; no price data found  (period=1d)\n",
      "429 Client Error: Too Many Requests for url: https://query2.finance.yahoo.com/v10/finance/quoteSummary/CPAH?modules=financialData%2CquoteType%2CdefaultKeyStatistics%2CassetProfile%2CsummaryDetail&corsDomain=finance.yahoo.com&formatted=false&symbol=CPAH&crumb=Edge%3A+Too+Many+Requests\n",
      "$MATW: possibly delisted; no price data found  (period=1d)\n",
      "429 Client Error: Too Many Requests for url: https://query2.finance.yahoo.com/v10/finance/quoteSummary/MATW?modules=financialData%2CquoteType%2CdefaultKeyStatistics%2CassetProfile%2CsummaryDetail&corsDomain=finance.yahoo.com&formatted=false&symbol=MATW&crumb=Edge%3A+Too+Many+Requests\n",
      "Failed to get ticker 'MDR' reason: Expecting value: line 1 column 1 (char 0)\n",
      "$MDR: possibly delisted; no price data found  (period=1d)\n",
      "429 Client Error: Too Many Requests for url: https://query2.finance.yahoo.com/v10/finance/quoteSummary/MDR?modules=financialData%2CquoteType%2CdefaultKeyStatistics%2CassetProfile%2CsummaryDetail&corsDomain=finance.yahoo.com&formatted=false&symbol=MDR&crumb=Edge%3A+Too+Many+Requests\n",
      "$SNHN: possibly delisted; no price data found  (period=1d) (Yahoo error = \"No data found, symbol may be delisted\")\n",
      "404 Client Error: Not Found for url: https://query2.finance.yahoo.com/v10/finance/quoteSummary/SNHN?modules=financialData%2CquoteType%2CdefaultKeyStatistics%2CassetProfile%2CsummaryDetail&corsDomain=finance.yahoo.com&formatted=false&symbol=SNHN&crumb=eH0scvPxYkq\n",
      "404 Client Error: Not Found for url: https://query2.finance.yahoo.com/v10/finance/quoteSummary/SNHN?modules=financialData%2CquoteType%2CdefaultKeyStatistics%2CassetProfile%2CsummaryDetail&corsDomain=finance.yahoo.com&formatted=false&symbol=SNHN&crumb=eH0scvPxYkq\n",
      "$SPCHB: possibly delisted; no price data found  (period=1d)\n",
      "$CDR: possibly delisted; no price data found  (period=1d) (Yahoo error = \"No data found, symbol may be delisted\")\n",
      "$CGIX: possibly delisted; no price data found  (period=1d) (Yahoo error = \"No data found, symbol may be delisted\")\n",
      "$ASMI: possibly delisted; no price data found  (period=1d)\n",
      "$HAYN: possibly delisted; no price data found  (period=1d) (Yahoo error = \"No data found, symbol may be delisted\")\n",
      "404 Client Error: Not Found for url: https://query2.finance.yahoo.com/v10/finance/quoteSummary/HAYN?modules=financialData%2CquoteType%2CdefaultKeyStatistics%2CassetProfile%2CsummaryDetail&corsDomain=finance.yahoo.com&formatted=false&symbol=HAYN&crumb=eH0scvPxYkq\n",
      "404 Client Error: Not Found for url: https://query2.finance.yahoo.com/v10/finance/quoteSummary/HAYN?modules=financialData%2CquoteType%2CdefaultKeyStatistics%2CassetProfile%2CsummaryDetail&corsDomain=finance.yahoo.com&formatted=false&symbol=HAYN&crumb=eH0scvPxYkq\n",
      "$NFSB: possibly delisted; no price data found  (period=1d)\n",
      "$CLC: possibly delisted; no price data found  (period=1d)\n",
      "$AF: possibly delisted; no price data found  (period=1d)\n",
      "$NNC: possibly delisted; no price data found  (period=1d) (Yahoo error = \"No data found, symbol may be delisted\")\n",
      "$POT: possibly delisted; no price data found  (period=1d)\n",
      "$GHL: possibly delisted; no price data found  (period=1d) (Yahoo error = \"No data found, symbol may be delisted\")\n",
      "404 Client Error: Not Found for url: https://query2.finance.yahoo.com/v10/finance/quoteSummary/GHL?modules=financialData%2CquoteType%2CdefaultKeyStatistics%2CassetProfile%2CsummaryDetail&corsDomain=finance.yahoo.com&formatted=false&symbol=GHL&crumb=eH0scvPxYkq\n",
      "404 Client Error: Not Found for url: https://query2.finance.yahoo.com/v10/finance/quoteSummary/GHL?modules=financialData%2CquoteType%2CdefaultKeyStatistics%2CassetProfile%2CsummaryDetail&corsDomain=finance.yahoo.com&formatted=false&symbol=GHL&crumb=eH0scvPxYkq\n",
      "$XTEX: possibly delisted; no price data found  (period=1d)\n",
      "$JTA: possibly delisted; no price data found  (period=1d) (Yahoo error = \"No data found, symbol may be delisted\")\n",
      "$SAEX: possibly delisted; no price data found  (period=1d) (Yahoo error = \"No data found, symbol may be delisted\")\n",
      "$AEK: possibly delisted; no price data found  (period=1d) (Yahoo error = \"No data found, symbol may be delisted\")\n",
      "$AKO.B: possibly delisted; no price data found  (period=1d) (Yahoo error = \"No data found, symbol may be delisted\")\n",
      "404 Client Error: Not Found for url: https://query2.finance.yahoo.com/v10/finance/quoteSummary/AKO.B?modules=financialData%2CquoteType%2CdefaultKeyStatistics%2CassetProfile%2CsummaryDetail&corsDomain=finance.yahoo.com&formatted=false&symbol=AKO.B&crumb=eH0scvPxYkq\n",
      "404 Client Error: Not Found for url: https://query2.finance.yahoo.com/v10/finance/quoteSummary/AKO.B?modules=financialData%2CquoteType%2CdefaultKeyStatistics%2CassetProfile%2CsummaryDetail&corsDomain=finance.yahoo.com&formatted=false&symbol=AKO.B&crumb=eH0scvPxYkq\n",
      "$CPN: possibly delisted; no price data found  (period=1d)\n",
      "$BXP-B: possibly delisted; no price data found  (period=1d) (Yahoo error = \"No data found, symbol may be delisted\")\n",
      "404 Client Error: Not Found for url: https://query2.finance.yahoo.com/v10/finance/quoteSummary/BXP-B?modules=financialData%2CquoteType%2CdefaultKeyStatistics%2CassetProfile%2CsummaryDetail&corsDomain=finance.yahoo.com&formatted=false&symbol=BXP-B&crumb=eH0scvPxYkq\n",
      "404 Client Error: Not Found for url: https://query2.finance.yahoo.com/v10/finance/quoteSummary/BXP-B?modules=financialData%2CquoteType%2CdefaultKeyStatistics%2CassetProfile%2CsummaryDetail&corsDomain=finance.yahoo.com&formatted=false&symbol=BXP-B&crumb=eH0scvPxYkq\n",
      "$HGT: possibly delisted; no price data found  (period=1d)\n",
      "$CLAC: possibly delisted; no price data found  (period=1d)\n",
      "$TAYC: possibly delisted; no price data found  (period=1d)\n",
      "$MNP: possibly delisted; no price data found  (period=1d) (Yahoo error = \"No data found, symbol may be delisted\")\n",
      "$SGYPW: possibly delisted; no price data found  (period=1d) (Yahoo error = \"No data found, symbol may be delisted\")\n",
      "404 Client Error: Not Found for url: https://query2.finance.yahoo.com/v10/finance/quoteSummary/SGYPW?modules=financialData%2CquoteType%2CdefaultKeyStatistics%2CassetProfile%2CsummaryDetail&corsDomain=finance.yahoo.com&formatted=false&symbol=SGYPW&crumb=eH0scvPxYkq\n",
      "404 Client Error: Not Found for url: https://query2.finance.yahoo.com/v10/finance/quoteSummary/SGYPW?modules=financialData%2CquoteType%2CdefaultKeyStatistics%2CassetProfile%2CsummaryDetail&corsDomain=finance.yahoo.com&formatted=false&symbol=SGYPW&crumb=eH0scvPxYkq\n",
      "$IMF: possibly delisted; no price data found  (period=1d)\n",
      "$TKF: possibly delisted; no price data found  (period=1d)\n",
      "$SOCB: possibly delisted; no price data found  (period=1d)\n",
      "$SLT: possibly delisted; no price data found  (period=1d)\n",
      "$HTGZ: possibly delisted; no price data found  (period=1d) (Yahoo error = \"No data found, symbol may be delisted\")\n",
      "$SAN-A: possibly delisted; no price data found  (period=1d) (Yahoo error = \"No data found, symbol may be delisted\")\n",
      "404 Client Error: Not Found for url: https://query2.finance.yahoo.com/v10/finance/quoteSummary/SAN-A?modules=financialData%2CquoteType%2CdefaultKeyStatistics%2CassetProfile%2CsummaryDetail&corsDomain=finance.yahoo.com&formatted=false&symbol=SAN-A&crumb=eH0scvPxYkq\n",
      "404 Client Error: Not Found for url: https://query2.finance.yahoo.com/v10/finance/quoteSummary/SAN-A?modules=financialData%2CquoteType%2CdefaultKeyStatistics%2CassetProfile%2CsummaryDetail&corsDomain=finance.yahoo.com&formatted=false&symbol=SAN-A&crumb=eH0scvPxYkq\n",
      "$IDIX: possibly delisted; no price data found  (period=1d)\n",
      "$LHCG: possibly delisted; no price data found  (period=1d) (Yahoo error = \"No data found, symbol may be delisted\")\n",
      "$FBR: possibly delisted; no price data found  (period=1d)\n",
      "$URS: possibly delisted; no price data found  (period=1d)\n",
      "$FLIR: possibly delisted; no price data found  (period=1d) (Yahoo error = \"No data found, symbol may be delisted\")\n",
      "$CHUY: possibly delisted; no price data found  (period=1d) (Yahoo error = \"No data found, symbol may be delisted\")\n",
      "404 Client Error: Not Found for url: https://query2.finance.yahoo.com/v10/finance/quoteSummary/CHUY?modules=financialData%2CquoteType%2CdefaultKeyStatistics%2CassetProfile%2CsummaryDetail&corsDomain=finance.yahoo.com&formatted=false&symbol=CHUY&crumb=eH0scvPxYkq\n",
      "404 Client Error: Not Found for url: https://query2.finance.yahoo.com/v10/finance/quoteSummary/CHUY?modules=financialData%2CquoteType%2CdefaultKeyStatistics%2CassetProfile%2CsummaryDetail&corsDomain=finance.yahoo.com&formatted=false&symbol=CHUY&crumb=eH0scvPxYkq\n",
      "$RCAP: possibly delisted; no price data found  (period=1d)\n",
      "$RPAI: possibly delisted; no price data found  (period=1d) (Yahoo error = \"No data found, symbol may be delisted\")\n",
      "$DNKN: possibly delisted; no price data found  (period=1d) (Yahoo error = \"No data found, symbol may be delisted\")\n",
      "$LNBB: possibly delisted; no price data found  (period=1d)\n",
      "$ISNS: possibly delisted; no price data found  (period=1d) (Yahoo error = \"No data found, symbol may be delisted\")\n",
      "$DXB: possibly delisted; no price data found  (period=1d) (Yahoo error = \"No data found, symbol may be delisted\")\n",
      "$HIIQ: possibly delisted; no price data found  (period=1d) (Yahoo error = \"No data found, symbol may be delisted\")\n",
      "$AIB: possibly delisted; no price data found  (period=1d)\n",
      "$EIHI: possibly delisted; no price data found  (period=1d)\n",
      "$BCEI: possibly delisted; no price data found  (period=1d) (Yahoo error = \"No data found, symbol may be delisted\")\n",
      "$NNP: possibly delisted; no price data found  (period=1d)\n",
      "$CMS-B: possibly delisted; no price data found  (period=1d) (Yahoo error = \"No data found, symbol may be delisted\")\n",
      "404 Client Error: Not Found for url: https://query2.finance.yahoo.com/v10/finance/quoteSummary/CMS-B?modules=financialData%2CquoteType%2CdefaultKeyStatistics%2CassetProfile%2CsummaryDetail&corsDomain=finance.yahoo.com&formatted=false&symbol=CMS-B&crumb=eH0scvPxYkq\n",
      "404 Client Error: Not Found for url: https://query2.finance.yahoo.com/v10/finance/quoteSummary/CMS-B?modules=financialData%2CquoteType%2CdefaultKeyStatistics%2CassetProfile%2CsummaryDetail&corsDomain=finance.yahoo.com&formatted=false&symbol=CMS-B&crumb=eH0scvPxYkq\n",
      "$SCG: possibly delisted; no price data found  (period=1d)\n",
      "$ISIG: possibly delisted; no price data found  (period=1d) (Yahoo error = \"No data found, symbol may be delisted\")\n",
      "404 Client Error: Not Found for url: https://query2.finance.yahoo.com/v10/finance/quoteSummary/ISIG?modules=financialData%2CquoteType%2CdefaultKeyStatistics%2CassetProfile%2CsummaryDetail&corsDomain=finance.yahoo.com&formatted=false&symbol=ISIG&crumb=eH0scvPxYkq\n",
      "404 Client Error: Not Found for url: https://query2.finance.yahoo.com/v10/finance/quoteSummary/ISIG?modules=financialData%2CquoteType%2CdefaultKeyStatistics%2CassetProfile%2CsummaryDetail&corsDomain=finance.yahoo.com&formatted=false&symbol=ISIG&crumb=eH0scvPxYkq\n",
      "$AHT-PA: possibly delisted; no price data found  (period=1d)\n",
      "$RBS-P: possibly delisted; no price data found  (period=1d) (Yahoo error = \"No data found, symbol may be delisted\")\n",
      "404 Client Error: Not Found for url: https://query2.finance.yahoo.com/v10/finance/quoteSummary/RBS-P?modules=financialData%2CquoteType%2CdefaultKeyStatistics%2CassetProfile%2CsummaryDetail&corsDomain=finance.yahoo.com&formatted=false&symbol=RBS-P&crumb=eH0scvPxYkq\n",
      "404 Client Error: Not Found for url: https://query2.finance.yahoo.com/v10/finance/quoteSummary/RBS-P?modules=financialData%2CquoteType%2CdefaultKeyStatistics%2CassetProfile%2CsummaryDetail&corsDomain=finance.yahoo.com&formatted=false&symbol=RBS-P&crumb=eH0scvPxYkq\n",
      "$LVB: possibly delisted; no price data found  (period=1d)\n",
      "$AXS-C: possibly delisted; no price data found  (period=1d) (Yahoo error = \"No data found, symbol may be delisted\")\n",
      "404 Client Error: Not Found for url: https://query2.finance.yahoo.com/v10/finance/quoteSummary/AXS-C?modules=financialData%2CquoteType%2CdefaultKeyStatistics%2CassetProfile%2CsummaryDetail&corsDomain=finance.yahoo.com&formatted=false&symbol=AXS-C&crumb=eH0scvPxYkq\n",
      "404 Client Error: Not Found for url: https://query2.finance.yahoo.com/v10/finance/quoteSummary/AXS-C?modules=financialData%2CquoteType%2CdefaultKeyStatistics%2CassetProfile%2CsummaryDetail&corsDomain=finance.yahoo.com&formatted=false&symbol=AXS-C&crumb=eH0scvPxYkq\n",
      "$CBS: possibly delisted; no price data found  (period=1d) (Yahoo error = \"No data found, symbol may be delisted\")\n",
      "$MTB.W: possibly delisted; no price data found  (period=1d) (Yahoo error = \"No data found, symbol may be delisted\")\n",
      "404 Client Error: Not Found for url: https://query2.finance.yahoo.com/v10/finance/quoteSummary/MTB.W?modules=financialData%2CquoteType%2CdefaultKeyStatistics%2CassetProfile%2CsummaryDetail&corsDomain=finance.yahoo.com&formatted=false&symbol=MTB.W&crumb=eH0scvPxYkq\n",
      "404 Client Error: Not Found for url: https://query2.finance.yahoo.com/v10/finance/quoteSummary/MTB.W?modules=financialData%2CquoteType%2CdefaultKeyStatistics%2CassetProfile%2CsummaryDetail&corsDomain=finance.yahoo.com&formatted=false&symbol=MTB.W&crumb=eH0scvPxYkq\n",
      "$BSMX: possibly delisted; no price data found  (period=1d) (Yahoo error = \"No data found, symbol may be delisted\")\n",
      "$GS-B: possibly delisted; no price data found  (period=1d) (Yahoo error = \"No data found, symbol may be delisted\")\n",
      "404 Client Error: Not Found for url: https://query2.finance.yahoo.com/v10/finance/quoteSummary/GS-B?modules=financialData%2CquoteType%2CdefaultKeyStatistics%2CassetProfile%2CsummaryDetail&corsDomain=finance.yahoo.com&formatted=false&symbol=GS-B&crumb=eH0scvPxYkq\n",
      "404 Client Error: Not Found for url: https://query2.finance.yahoo.com/v10/finance/quoteSummary/GS-B?modules=financialData%2CquoteType%2CdefaultKeyStatistics%2CassetProfile%2CsummaryDetail&corsDomain=finance.yahoo.com&formatted=false&symbol=GS-B&crumb=eH0scvPxYkq\n",
      "$AFSI: possibly delisted; no price data found  (period=1d)\n",
      "$DOM: possibly delisted; no price data found  (period=1d)\n",
      "$APF: possibly delisted; no price data found  (period=1d) (Yahoo error = \"No data found, symbol may be delisted\")\n",
      "$IIJI: possibly delisted; no price data found  (period=1d) (Yahoo error = \"No data found, symbol may be delisted\")\n",
      "$ABV: possibly delisted; no price data found  (period=1d)\n",
      "$ALSK: possibly delisted; no price data found  (period=1d) (Yahoo error = \"No data found, symbol may be delisted\")\n",
      "$NMA: possibly delisted; no price data found  (period=1d)\n",
      "$OCLR: possibly delisted; no price data found  (period=1d)\n",
      "$HCLP: possibly delisted; no price data found  (period=1d)\n",
      "$GOV: possibly delisted; no price data found  (period=1d)\n",
      "$NXTM: possibly delisted; no price data found  (period=1d) (Yahoo error = \"No data found, symbol may be delisted\")\n",
      "$GKNT: possibly delisted; no price data found  (period=1d)\n",
      "$DDF: possibly delisted; no price data found  (period=1d) (Yahoo error = \"No data found, symbol may be delisted\")\n",
      "404 Client Error: Not Found for url: https://query2.finance.yahoo.com/v10/finance/quoteSummary/DDF?modules=financialData%2CquoteType%2CdefaultKeyStatistics%2CassetProfile%2CsummaryDetail&corsDomain=finance.yahoo.com&formatted=false&symbol=DDF&crumb=eH0scvPxYkq\n",
      "404 Client Error: Not Found for url: https://query2.finance.yahoo.com/v10/finance/quoteSummary/DDF?modules=financialData%2CquoteType%2CdefaultKeyStatistics%2CassetProfile%2CsummaryDetail&corsDomain=finance.yahoo.com&formatted=false&symbol=DDF&crumb=eH0scvPxYkq\n",
      "$SWY: possibly delisted; no price data found  (period=1d)\n",
      "$NP: possibly delisted; no price data found  (period=1d) (Yahoo error = \"No data found, symbol may be delisted\")\n",
      "$HE-U: possibly delisted; no price data found  (period=1d) (Yahoo error = \"No data found, symbol may be delisted\")\n",
      "404 Client Error: Not Found for url: https://query2.finance.yahoo.com/v10/finance/quoteSummary/HE-U?modules=financialData%2CquoteType%2CdefaultKeyStatistics%2CassetProfile%2CsummaryDetail&corsDomain=finance.yahoo.com&formatted=false&symbol=HE-U&crumb=eH0scvPxYkq\n",
      "404 Client Error: Not Found for url: https://query2.finance.yahoo.com/v10/finance/quoteSummary/HE-U?modules=financialData%2CquoteType%2CdefaultKeyStatistics%2CassetProfile%2CsummaryDetail&corsDomain=finance.yahoo.com&formatted=false&symbol=HE-U&crumb=eH0scvPxYkq\n",
      "$MXT: possibly delisted; no price data found  (period=1d)\n",
      "$MPAC: possibly delisted; no price data found  (period=1d) (Yahoo error = \"No data found, symbol may be delisted\")\n",
      "$ORIT: possibly delisted; no price data found  (period=1d) (Yahoo error = \"No data found, symbol may be delisted\")\n",
      "$NUO-C: possibly delisted; no price data found  (period=1d) (Yahoo error = \"No data found, symbol may be delisted\")\n",
      "404 Client Error: Not Found for url: https://query2.finance.yahoo.com/v10/finance/quoteSummary/NUO-C?modules=financialData%2CquoteType%2CdefaultKeyStatistics%2CassetProfile%2CsummaryDetail&corsDomain=finance.yahoo.com&formatted=false&symbol=NUO-C&crumb=eH0scvPxYkq\n",
      "404 Client Error: Not Found for url: https://query2.finance.yahoo.com/v10/finance/quoteSummary/NUO-C?modules=financialData%2CquoteType%2CdefaultKeyStatistics%2CassetProfile%2CsummaryDetail&corsDomain=finance.yahoo.com&formatted=false&symbol=NUO-C&crumb=eH0scvPxYkq\n",
      "$OSHC: possibly delisted; no price data found  (period=1d)\n",
      "$CTU: possibly delisted; no price data found  (period=1d)\n",
      "429 Client Error: Too Many Requests for url: https://query2.finance.yahoo.com/v10/finance/quoteSummary/DKS?modules=financialData%2CquoteType%2CdefaultKeyStatistics%2CassetProfile%2CsummaryDetail&corsDomain=finance.yahoo.com&formatted=false&symbol=DKS&crumb=Edge%3A+Too+Many+Requests\n",
      "429 Client Error: Too Many Requests for url: https://query2.finance.yahoo.com/v10/finance/quoteSummary/DKS?modules=financialData%2CquoteType%2CdefaultKeyStatistics%2CassetProfile%2CsummaryDetail&corsDomain=finance.yahoo.com&formatted=false&symbol=DKS&crumb=Edge%3A+Too+Many+Requests\n",
      "$NQC: possibly delisted; no price data found  (period=1d)\n",
      "429 Client Error: Too Many Requests for url: https://query2.finance.yahoo.com/v10/finance/quoteSummary/NQC?modules=financialData%2CquoteType%2CdefaultKeyStatistics%2CassetProfile%2CsummaryDetail&corsDomain=finance.yahoo.com&formatted=false&symbol=NQC&crumb=Edge%3A+Too+Many+Requests\n",
      "$RGP: possibly delisted; no price data found  (period=1d)\n",
      "429 Client Error: Too Many Requests for url: https://query2.finance.yahoo.com/v10/finance/quoteSummary/RGP?modules=financialData%2CquoteType%2CdefaultKeyStatistics%2CassetProfile%2CsummaryDetail&corsDomain=finance.yahoo.com&formatted=false&symbol=RGP&crumb=Edge%3A+Too+Many+Requests\n",
      "$ANIK: possibly delisted; no price data found  (period=1d)\n",
      "429 Client Error: Too Many Requests for url: https://query2.finance.yahoo.com/v10/finance/quoteSummary/ANIK?modules=financialData%2CquoteType%2CdefaultKeyStatistics%2CassetProfile%2CsummaryDetail&corsDomain=finance.yahoo.com&formatted=false&symbol=ANIK&crumb=Edge%3A+Too+Many+Requests\n",
      "Failed to get ticker 'PFIN' reason: Expecting value: line 1 column 1 (char 0)\n",
      "$PFIN: possibly delisted; no price data found  (period=1d)\n",
      "429 Client Error: Too Many Requests for url: https://query2.finance.yahoo.com/v10/finance/quoteSummary/PFIN?modules=financialData%2CquoteType%2CdefaultKeyStatistics%2CassetProfile%2CsummaryDetail&corsDomain=finance.yahoo.com&formatted=false&symbol=PFIN&crumb=Edge%3A+Too+Many+Requests\n",
      "$JNS: possibly delisted; no price data found  (period=1d)\n",
      "429 Client Error: Too Many Requests for url: https://query2.finance.yahoo.com/v10/finance/quoteSummary/JNS?modules=financialData%2CquoteType%2CdefaultKeyStatistics%2CassetProfile%2CsummaryDetail&corsDomain=finance.yahoo.com&formatted=false&symbol=JNS&crumb=Edge%3A+Too+Many+Requests\n",
      "Failed to get ticker 'SCHN' reason: Expecting value: line 1 column 1 (char 0)\n",
      "$SCHN: possibly delisted; no price data found  (period=1d)\n",
      "429 Client Error: Too Many Requests for url: https://query2.finance.yahoo.com/v10/finance/quoteSummary/SCHN?modules=financialData%2CquoteType%2CdefaultKeyStatistics%2CassetProfile%2CsummaryDetail&corsDomain=finance.yahoo.com&formatted=false&symbol=SCHN&crumb=Edge%3A+Too+Many+Requests\n",
      "$VSCI: possibly delisted; no price data found  (period=1d)\n",
      "429 Client Error: Too Many Requests for url: https://query2.finance.yahoo.com/v10/finance/quoteSummary/VSCI?modules=financialData%2CquoteType%2CdefaultKeyStatistics%2CassetProfile%2CsummaryDetail&corsDomain=finance.yahoo.com&formatted=false&symbol=VSCI&crumb=Edge%3A+Too+Many+Requests\n",
      "$CRMB: possibly delisted; no price data found  (period=1d)\n",
      "429 Client Error: Too Many Requests for url: https://query2.finance.yahoo.com/v10/finance/quoteSummary/CRMB?modules=financialData%2CquoteType%2CdefaultKeyStatistics%2CassetProfile%2CsummaryDetail&corsDomain=finance.yahoo.com&formatted=false&symbol=CRMB&crumb=Edge%3A+Too+Many+Requests\n",
      "$ALLT: possibly delisted; no price data found  (period=1d)\n",
      "429 Client Error: Too Many Requests for url: https://query2.finance.yahoo.com/v10/finance/quoteSummary/ALLT?modules=financialData%2CquoteType%2CdefaultKeyStatistics%2CassetProfile%2CsummaryDetail&corsDomain=finance.yahoo.com&formatted=false&symbol=ALLT&crumb=Edge%3A+Too+Many+Requests\n",
      "$GPT: possibly delisted; no price data found  (period=1d)\n",
      "429 Client Error: Too Many Requests for url: https://query2.finance.yahoo.com/v10/finance/quoteSummary/GPT?modules=financialData%2CquoteType%2CdefaultKeyStatistics%2CassetProfile%2CsummaryDetail&corsDomain=finance.yahoo.com&formatted=false&symbol=GPT&crumb=Edge%3A+Too+Many+Requests\n",
      "$IGT: possibly delisted; no price data found  (period=1d)\n",
      "429 Client Error: Too Many Requests for url: https://query2.finance.yahoo.com/v10/finance/quoteSummary/IGT?modules=financialData%2CquoteType%2CdefaultKeyStatistics%2CassetProfile%2CsummaryDetail&corsDomain=finance.yahoo.com&formatted=false&symbol=IGT&crumb=Edge%3A+Too+Many+Requests\n",
      "$TSRX: possibly delisted; no price data found  (period=1d)\n",
      "429 Client Error: Too Many Requests for url: https://query2.finance.yahoo.com/v10/finance/quoteSummary/TSRX?modules=financialData%2CquoteType%2CdefaultKeyStatistics%2CassetProfile%2CsummaryDetail&corsDomain=finance.yahoo.com&formatted=false&symbol=TSRX&crumb=Edge%3A+Too+Many+Requests\n",
      "$LEA: possibly delisted; no price data found  (period=1d)\n",
      "429 Client Error: Too Many Requests for url: https://query2.finance.yahoo.com/v10/finance/quoteSummary/LEA?modules=financialData%2CquoteType%2CdefaultKeyStatistics%2CassetProfile%2CsummaryDetail&corsDomain=finance.yahoo.com&formatted=false&symbol=LEA&crumb=Edge%3A+Too+Many+Requests\n",
      "Failed to get ticker 'GYB' reason: Expecting value: line 1 column 1 (char 0)\n",
      "$GYB: possibly delisted; no price data found  (period=1d)\n",
      "429 Client Error: Too Many Requests for url: https://query2.finance.yahoo.com/v10/finance/quoteSummary/GYB?modules=financialData%2CquoteType%2CdefaultKeyStatistics%2CassetProfile%2CsummaryDetail&corsDomain=finance.yahoo.com&formatted=false&symbol=GYB&crumb=Edge%3A+Too+Many+Requests\n",
      "$CHLN: possibly delisted; no price data found  (period=1d)\n",
      "429 Client Error: Too Many Requests for url: https://query2.finance.yahoo.com/v10/finance/quoteSummary/CHLN?modules=financialData%2CquoteType%2CdefaultKeyStatistics%2CassetProfile%2CsummaryDetail&corsDomain=finance.yahoo.com&formatted=false&symbol=CHLN&crumb=Edge%3A+Too+Many+Requests\n",
      "$ROYL: possibly delisted; no price data found  (period=1d)\n",
      "429 Client Error: Too Many Requests for url: https://query2.finance.yahoo.com/v10/finance/quoteSummary/ROYL?modules=financialData%2CquoteType%2CdefaultKeyStatistics%2CassetProfile%2CsummaryDetail&corsDomain=finance.yahoo.com&formatted=false&symbol=ROYL&crumb=Edge%3A+Too+Many+Requests\n",
      "Failed to get ticker 'PEI-A' reason: Expecting value: line 1 column 1 (char 0)\n",
      "$PEI-A: possibly delisted; no price data found  (period=1d)\n",
      "429 Client Error: Too Many Requests for url: https://query2.finance.yahoo.com/v10/finance/quoteSummary/PEI-A?modules=financialData%2CquoteType%2CdefaultKeyStatistics%2CassetProfile%2CsummaryDetail&corsDomain=finance.yahoo.com&formatted=false&symbol=PEI-A&crumb=Edge%3A+Too+Many+Requests\n",
      "$UIS: possibly delisted; no price data found  (period=1d)\n",
      "429 Client Error: Too Many Requests for url: https://query2.finance.yahoo.com/v10/finance/quoteSummary/UIS?modules=financialData%2CquoteType%2CdefaultKeyStatistics%2CassetProfile%2CsummaryDetail&corsDomain=finance.yahoo.com&formatted=false&symbol=UIS&crumb=Edge%3A+Too+Many+Requests\n",
      "Failed to get ticker 'NZH-A' reason: Expecting value: line 1 column 1 (char 0)\n",
      "$NZH-A: possibly delisted; no price data found  (period=1d)\n",
      "429 Client Error: Too Many Requests for url: https://query2.finance.yahoo.com/v10/finance/quoteSummary/NZH-A?modules=financialData%2CquoteType%2CdefaultKeyStatistics%2CassetProfile%2CsummaryDetail&corsDomain=finance.yahoo.com&formatted=false&symbol=NZH-A&crumb=Edge%3A+Too+Many+Requests\n",
      "$SHEN: possibly delisted; no price data found  (period=1d)\n",
      "429 Client Error: Too Many Requests for url: https://query2.finance.yahoo.com/v10/finance/quoteSummary/SHEN?modules=financialData%2CquoteType%2CdefaultKeyStatistics%2CassetProfile%2CsummaryDetail&corsDomain=finance.yahoo.com&formatted=false&symbol=SHEN&crumb=Edge%3A+Too+Many+Requests\n",
      "Failed to get ticker 'TARO' reason: Expecting value: line 1 column 1 (char 0)\n",
      "$TARO: possibly delisted; no price data found  (period=1d)\n",
      "429 Client Error: Too Many Requests for url: https://query2.finance.yahoo.com/v10/finance/quoteSummary/TARO?modules=financialData%2CquoteType%2CdefaultKeyStatistics%2CassetProfile%2CsummaryDetail&corsDomain=finance.yahoo.com&formatted=false&symbol=TARO&crumb=Edge%3A+Too+Many+Requests\n",
      "$COO: possibly delisted; no price data found  (period=1d)\n",
      "429 Client Error: Too Many Requests for url: https://query2.finance.yahoo.com/v10/finance/quoteSummary/COO?modules=financialData%2CquoteType%2CdefaultKeyStatistics%2CassetProfile%2CsummaryDetail&corsDomain=finance.yahoo.com&formatted=false&symbol=COO&crumb=Edge%3A+Too+Many+Requests\n",
      "$GTY: possibly delisted; no price data found  (period=1d)\n",
      "429 Client Error: Too Many Requests for url: https://query2.finance.yahoo.com/v10/finance/quoteSummary/GTY?modules=financialData%2CquoteType%2CdefaultKeyStatistics%2CassetProfile%2CsummaryDetail&corsDomain=finance.yahoo.com&formatted=false&symbol=GTY&crumb=Edge%3A+Too+Many+Requests\n",
      "$MTW: possibly delisted; no price data found  (period=1d)\n",
      "429 Client Error: Too Many Requests for url: https://query2.finance.yahoo.com/v10/finance/quoteSummary/MTW?modules=financialData%2CquoteType%2CdefaultKeyStatistics%2CassetProfile%2CsummaryDetail&corsDomain=finance.yahoo.com&formatted=false&symbol=MTW&crumb=Edge%3A+Too+Many+Requests\n",
      "$EBR: possibly delisted; no price data found  (period=1d)\n",
      "429 Client Error: Too Many Requests for url: https://query2.finance.yahoo.com/v10/finance/quoteSummary/EBR?modules=financialData%2CquoteType%2CdefaultKeyStatistics%2CassetProfile%2CsummaryDetail&corsDomain=finance.yahoo.com&formatted=false&symbol=EBR&crumb=Edge%3A+Too+Many+Requests\n",
      "Failed to get ticker 'NRF-A' reason: Expecting value: line 1 column 1 (char 0)\n",
      "$NRF-A: possibly delisted; no price data found  (period=1d)\n",
      "429 Client Error: Too Many Requests for url: https://query2.finance.yahoo.com/v10/finance/quoteSummary/NRF-A?modules=financialData%2CquoteType%2CdefaultKeyStatistics%2CassetProfile%2CsummaryDetail&corsDomain=finance.yahoo.com&formatted=false&symbol=NRF-A&crumb=Edge%3A+Too+Many+Requests\n",
      "$VRNG: possibly delisted; no price data found  (period=1d)\n",
      "429 Client Error: Too Many Requests for url: https://query2.finance.yahoo.com/v10/finance/quoteSummary/VRNG?modules=financialData%2CquoteType%2CdefaultKeyStatistics%2CassetProfile%2CsummaryDetail&corsDomain=finance.yahoo.com&formatted=false&symbol=VRNG&crumb=Edge%3A+Too+Many+Requests\n",
      "$IL: possibly delisted; no price data found  (period=1d)\n",
      "429 Client Error: Too Many Requests for url: https://query2.finance.yahoo.com/v10/finance/quoteSummary/IL?modules=financialData%2CquoteType%2CdefaultKeyStatistics%2CassetProfile%2CsummaryDetail&corsDomain=finance.yahoo.com&formatted=false&symbol=IL&crumb=Edge%3A+Too+Many+Requests\n",
      "$ELP: possibly delisted; no price data found  (period=1d)\n",
      "429 Client Error: Too Many Requests for url: https://query2.finance.yahoo.com/v10/finance/quoteSummary/ELP?modules=financialData%2CquoteType%2CdefaultKeyStatistics%2CassetProfile%2CsummaryDetail&corsDomain=finance.yahoo.com&formatted=false&symbol=ELP&crumb=Edge%3A+Too+Many+Requests\n",
      "$NEPT: possibly delisted; no price data found  (period=1d)\n",
      "429 Client Error: Too Many Requests for url: https://query2.finance.yahoo.com/v10/finance/quoteSummary/NEPT?modules=financialData%2CquoteType%2CdefaultKeyStatistics%2CassetProfile%2CsummaryDetail&corsDomain=finance.yahoo.com&formatted=false&symbol=NEPT&crumb=Edge%3A+Too+Many+Requests\n",
      "$ENB: possibly delisted; no price data found  (period=1d)\n",
      "429 Client Error: Too Many Requests for url: https://query2.finance.yahoo.com/v10/finance/quoteSummary/ENB?modules=financialData%2CquoteType%2CdefaultKeyStatistics%2CassetProfile%2CsummaryDetail&corsDomain=finance.yahoo.com&formatted=false&symbol=ENB&crumb=Edge%3A+Too+Many+Requests\n",
      "$EPB: possibly delisted; no price data found  (period=1d)\n",
      "429 Client Error: Too Many Requests for url: https://query2.finance.yahoo.com/v10/finance/quoteSummary/EPB?modules=financialData%2CquoteType%2CdefaultKeyStatistics%2CassetProfile%2CsummaryDetail&corsDomain=finance.yahoo.com&formatted=false&symbol=EPB&crumb=Edge%3A+Too+Many+Requests\n",
      "Failed to get ticker 'ASCA' reason: Expecting value: line 1 column 1 (char 0)\n",
      "$ASCA: possibly delisted; no price data found  (period=1d)\n",
      "429 Client Error: Too Many Requests for url: https://query2.finance.yahoo.com/v10/finance/quoteSummary/ASCA?modules=financialData%2CquoteType%2CdefaultKeyStatistics%2CassetProfile%2CsummaryDetail&corsDomain=finance.yahoo.com&formatted=false&symbol=ASCA&crumb=Edge%3A+Too+Many+Requests\n",
      "$WLDN: possibly delisted; no price data found  (period=1d)\n",
      "429 Client Error: Too Many Requests for url: https://query2.finance.yahoo.com/v10/finance/quoteSummary/WLDN?modules=financialData%2CquoteType%2CdefaultKeyStatistics%2CassetProfile%2CsummaryDetail&corsDomain=finance.yahoo.com&formatted=false&symbol=WLDN&crumb=Edge%3A+Too+Many+Requests\n",
      "$BSI: possibly delisted; no price data found  (period=1d)\n",
      "429 Client Error: Too Many Requests for url: https://query2.finance.yahoo.com/v10/finance/quoteSummary/BSI?modules=financialData%2CquoteType%2CdefaultKeyStatistics%2CassetProfile%2CsummaryDetail&corsDomain=finance.yahoo.com&formatted=false&symbol=BSI&crumb=Edge%3A+Too+Many+Requests\n",
      "Failed to get ticker 'BBEP' reason: Expecting value: line 1 column 1 (char 0)\n",
      "$BBEP: possibly delisted; no price data found  (period=1d)\n",
      "429 Client Error: Too Many Requests for url: https://query2.finance.yahoo.com/v10/finance/quoteSummary/BBEP?modules=financialData%2CquoteType%2CdefaultKeyStatistics%2CassetProfile%2CsummaryDetail&corsDomain=finance.yahoo.com&formatted=false&symbol=BBEP&crumb=Edge%3A+Too+Many+Requests\n",
      "$MLG: possibly delisted; no price data found  (period=1d)\n",
      "429 Client Error: Too Many Requests for url: https://query2.finance.yahoo.com/v10/finance/quoteSummary/MLG?modules=financialData%2CquoteType%2CdefaultKeyStatistics%2CassetProfile%2CsummaryDetail&corsDomain=finance.yahoo.com&formatted=false&symbol=MLG&crumb=Edge%3A+Too+Many+Requests\n",
      "$MRO: possibly delisted; no price data found  (period=1d)\n",
      "429 Client Error: Too Many Requests for url: https://query2.finance.yahoo.com/v10/finance/quoteSummary/MRO?modules=financialData%2CquoteType%2CdefaultKeyStatistics%2CassetProfile%2CsummaryDetail&corsDomain=finance.yahoo.com&formatted=false&symbol=MRO&crumb=Edge%3A+Too+Many+Requests\n",
      "Failed to get ticker 'HOLI' reason: Expecting value: line 1 column 1 (char 0)\n",
      "$HOLI: possibly delisted; no price data found  (period=1d)\n",
      "429 Client Error: Too Many Requests for url: https://query2.finance.yahoo.com/v10/finance/quoteSummary/HOLI?modules=financialData%2CquoteType%2CdefaultKeyStatistics%2CassetProfile%2CsummaryDetail&corsDomain=finance.yahoo.com&formatted=false&symbol=HOLI&crumb=Edge%3A+Too+Many+Requests\n",
      "Failed to get ticker 'TWMC' reason: Expecting value: line 1 column 1 (char 0)\n",
      "$TWMC: possibly delisted; no price data found  (period=1d)\n",
      "429 Client Error: Too Many Requests for url: https://query2.finance.yahoo.com/v10/finance/quoteSummary/TWMC?modules=financialData%2CquoteType%2CdefaultKeyStatistics%2CassetProfile%2CsummaryDetail&corsDomain=finance.yahoo.com&formatted=false&symbol=TWMC&crumb=Edge%3A+Too+Many+Requests\n",
      "Failed to get ticker 'FBHS' reason: Expecting value: line 1 column 1 (char 0)\n",
      "$FBHS: possibly delisted; no price data found  (period=1d)\n",
      "429 Client Error: Too Many Requests for url: https://query2.finance.yahoo.com/v10/finance/quoteSummary/FBHS?modules=financialData%2CquoteType%2CdefaultKeyStatistics%2CassetProfile%2CsummaryDetail&corsDomain=finance.yahoo.com&formatted=false&symbol=FBHS&crumb=Edge%3A+Too+Many+Requests\n",
      "Failed to get ticker 'VSBN' reason: Expecting value: line 1 column 1 (char 0)\n",
      "$VSBN: possibly delisted; no price data found  (period=1d)\n",
      "429 Client Error: Too Many Requests for url: https://query2.finance.yahoo.com/v10/finance/quoteSummary/VSBN?modules=financialData%2CquoteType%2CdefaultKeyStatistics%2CassetProfile%2CsummaryDetail&corsDomain=finance.yahoo.com&formatted=false&symbol=VSBN&crumb=Edge%3A+Too+Many+Requests\n",
      "$TCBI: possibly delisted; no price data found  (period=1d)\n",
      "429 Client Error: Too Many Requests for url: https://query2.finance.yahoo.com/v10/finance/quoteSummary/TCBI?modules=financialData%2CquoteType%2CdefaultKeyStatistics%2CassetProfile%2CsummaryDetail&corsDomain=finance.yahoo.com&formatted=false&symbol=TCBI&crumb=Edge%3A+Too+Many+Requests\n",
      "$SQI: possibly delisted; no price data found  (period=1d)\n",
      "429 Client Error: Too Many Requests for url: https://query2.finance.yahoo.com/v10/finance/quoteSummary/SQI?modules=financialData%2CquoteType%2CdefaultKeyStatistics%2CassetProfile%2CsummaryDetail&corsDomain=finance.yahoo.com&formatted=false&symbol=SQI&crumb=Edge%3A+Too+Many+Requests\n",
      "Failed to get ticker 'IPL-D' reason: Expecting value: line 1 column 1 (char 0)\n",
      "$IPL-D: possibly delisted; no price data found  (period=1d)\n",
      "429 Client Error: Too Many Requests for url: https://query2.finance.yahoo.com/v10/finance/quoteSummary/IPL-D?modules=financialData%2CquoteType%2CdefaultKeyStatistics%2CassetProfile%2CsummaryDetail&corsDomain=finance.yahoo.com&formatted=false&symbol=IPL-D&crumb=Edge%3A+Too+Many+Requests\n",
      "Failed to get ticker 'ALL-B' reason: Expecting value: line 1 column 1 (char 0)\n",
      "$ALL-B: possibly delisted; no price data found  (period=1d)\n",
      "429 Client Error: Too Many Requests for url: https://query2.finance.yahoo.com/v10/finance/quoteSummary/ALL-B?modules=financialData%2CquoteType%2CdefaultKeyStatistics%2CassetProfile%2CsummaryDetail&corsDomain=finance.yahoo.com&formatted=false&symbol=ALL-B&crumb=Edge%3A+Too+Many+Requests\n",
      "$TFM: possibly delisted; no price data found  (period=1d)\n",
      "429 Client Error: Too Many Requests for url: https://query2.finance.yahoo.com/v10/finance/quoteSummary/TFM?modules=financialData%2CquoteType%2CdefaultKeyStatistics%2CassetProfile%2CsummaryDetail&corsDomain=finance.yahoo.com&formatted=false&symbol=TFM&crumb=Edge%3A+Too+Many+Requests\n",
      "$TXTR: possibly delisted; no price data found  (period=1d)\n",
      "429 Client Error: Too Many Requests for url: https://query2.finance.yahoo.com/v10/finance/quoteSummary/TXTR?modules=financialData%2CquoteType%2CdefaultKeyStatistics%2CassetProfile%2CsummaryDetail&corsDomain=finance.yahoo.com&formatted=false&symbol=TXTR&crumb=Edge%3A+Too+Many+Requests\n",
      "$GSF: possibly delisted; no price data found  (period=1d)\n",
      "429 Client Error: Too Many Requests for url: https://query2.finance.yahoo.com/v10/finance/quoteSummary/GSF?modules=financialData%2CquoteType%2CdefaultKeyStatistics%2CassetProfile%2CsummaryDetail&corsDomain=finance.yahoo.com&formatted=false&symbol=GSF&crumb=Edge%3A+Too+Many+Requests\n",
      "$IAG: possibly delisted; no price data found  (period=1d)\n",
      "429 Client Error: Too Many Requests for url: https://query2.finance.yahoo.com/v10/finance/quoteSummary/IAG?modules=financialData%2CquoteType%2CdefaultKeyStatistics%2CassetProfile%2CsummaryDetail&corsDomain=finance.yahoo.com&formatted=false&symbol=IAG&crumb=Edge%3A+Too+Many+Requests\n",
      "$HON: possibly delisted; no price data found  (period=1d)\n",
      "429 Client Error: Too Many Requests for url: https://query2.finance.yahoo.com/v10/finance/quoteSummary/HON?modules=financialData%2CquoteType%2CdefaultKeyStatistics%2CassetProfile%2CsummaryDetail&corsDomain=finance.yahoo.com&formatted=false&symbol=HON&crumb=Edge%3A+Too+Many+Requests\n",
      "Failed to get ticker 'NATI' reason: Expecting value: line 1 column 1 (char 0)\n",
      "$NATI: possibly delisted; no price data found  (period=1d)\n",
      "429 Client Error: Too Many Requests for url: https://query2.finance.yahoo.com/v10/finance/quoteSummary/NATI?modules=financialData%2CquoteType%2CdefaultKeyStatistics%2CassetProfile%2CsummaryDetail&corsDomain=finance.yahoo.com&formatted=false&symbol=NATI&crumb=Edge%3A+Too+Many+Requests\n",
      "$CWEI: possibly delisted; no price data found  (period=1d)\n",
      "429 Client Error: Too Many Requests for url: https://query2.finance.yahoo.com/v10/finance/quoteSummary/CWEI?modules=financialData%2CquoteType%2CdefaultKeyStatistics%2CassetProfile%2CsummaryDetail&corsDomain=finance.yahoo.com&formatted=false&symbol=CWEI&crumb=Edge%3A+Too+Many+Requests\n",
      "$DXJS: possibly delisted; no price data found  (period=1d)\n",
      "429 Client Error: Too Many Requests for url: https://query2.finance.yahoo.com/v10/finance/quoteSummary/DXJS?modules=financialData%2CquoteType%2CdefaultKeyStatistics%2CassetProfile%2CsummaryDetail&corsDomain=finance.yahoo.com&formatted=false&symbol=DXJS&crumb=Edge%3A+Too+Many+Requests\n",
      "$HQH: possibly delisted; no price data found  (period=1d)\n",
      "429 Client Error: Too Many Requests for url: https://query2.finance.yahoo.com/v10/finance/quoteSummary/HQH?modules=financialData%2CquoteType%2CdefaultKeyStatistics%2CassetProfile%2CsummaryDetail&corsDomain=finance.yahoo.com&formatted=false&symbol=HQH&crumb=Edge%3A+Too+Many+Requests\n",
      "$BFS: possibly delisted; no price data found  (period=1d)\n",
      "429 Client Error: Too Many Requests for url: https://query2.finance.yahoo.com/v10/finance/quoteSummary/BFS?modules=financialData%2CquoteType%2CdefaultKeyStatistics%2CassetProfile%2CsummaryDetail&corsDomain=finance.yahoo.com&formatted=false&symbol=BFS&crumb=Edge%3A+Too+Many+Requests\n",
      "$TECUB: possibly delisted; no price data found  (period=1d)\n",
      "429 Client Error: Too Many Requests for url: https://query2.finance.yahoo.com/v10/finance/quoteSummary/TECUB?modules=financialData%2CquoteType%2CdefaultKeyStatistics%2CassetProfile%2CsummaryDetail&corsDomain=finance.yahoo.com&formatted=false&symbol=TECUB&crumb=Edge%3A+Too+Many+Requests\n",
      "$PHI: possibly delisted; no price data found  (period=1d)\n",
      "429 Client Error: Too Many Requests for url: https://query2.finance.yahoo.com/v10/finance/quoteSummary/PHI?modules=financialData%2CquoteType%2CdefaultKeyStatistics%2CassetProfile%2CsummaryDetail&corsDomain=finance.yahoo.com&formatted=false&symbol=PHI&crumb=Edge%3A+Too+Many+Requests\n",
      "$VTWO: possibly delisted; no price data found  (period=1d)\n",
      "429 Client Error: Too Many Requests for url: https://query2.finance.yahoo.com/v10/finance/quoteSummary/VTWO?modules=financialData%2CquoteType%2CdefaultKeyStatistics%2CassetProfile%2CsummaryDetail&corsDomain=finance.yahoo.com&formatted=false&symbol=VTWO&crumb=Edge%3A+Too+Many+Requests\n",
      "Failed to get ticker 'CBB' reason: Expecting value: line 1 column 1 (char 0)\n",
      "$CBB: possibly delisted; no price data found  (period=1d)\n",
      "429 Client Error: Too Many Requests for url: https://query2.finance.yahoo.com/v10/finance/quoteSummary/CBB?modules=financialData%2CquoteType%2CdefaultKeyStatistics%2CassetProfile%2CsummaryDetail&corsDomain=finance.yahoo.com&formatted=false&symbol=CBB&crumb=Edge%3A+Too+Many+Requests\n",
      "$CAH: possibly delisted; no price data found  (period=1d)\n",
      "429 Client Error: Too Many Requests for url: https://query2.finance.yahoo.com/v10/finance/quoteSummary/CAH?modules=financialData%2CquoteType%2CdefaultKeyStatistics%2CassetProfile%2CsummaryDetail&corsDomain=finance.yahoo.com&formatted=false&symbol=CAH&crumb=Edge%3A+Too+Many+Requests\n",
      "$CMCSA: possibly delisted; no price data found  (period=1d)\n",
      "429 Client Error: Too Many Requests for url: https://query2.finance.yahoo.com/v10/finance/quoteSummary/CMCSA?modules=financialData%2CquoteType%2CdefaultKeyStatistics%2CassetProfile%2CsummaryDetail&corsDomain=finance.yahoo.com&formatted=false&symbol=CMCSA&crumb=Edge%3A+Too+Many+Requests\n",
      "Failed to get ticker 'YUM' reason: Expecting value: line 1 column 1 (char 0)\n",
      "$YUM: possibly delisted; no price data found  (period=1d)\n",
      "429 Client Error: Too Many Requests for url: https://query2.finance.yahoo.com/v10/finance/quoteSummary/YUM?modules=financialData%2CquoteType%2CdefaultKeyStatistics%2CassetProfile%2CsummaryDetail&corsDomain=finance.yahoo.com&formatted=false&symbol=YUM&crumb=Edge%3A+Too+Many+Requests\n",
      "$PJS: possibly delisted; no price data found  (period=1d)\n",
      "429 Client Error: Too Many Requests for url: https://query2.finance.yahoo.com/v10/finance/quoteSummary/PJS?modules=financialData%2CquoteType%2CdefaultKeyStatistics%2CassetProfile%2CsummaryDetail&corsDomain=finance.yahoo.com&formatted=false&symbol=PJS&crumb=Edge%3A+Too+Many+Requests\n",
      "Failed to get ticker 'EGL' reason: Expecting value: line 1 column 1 (char 0)\n",
      "$EGL: possibly delisted; no price data found  (period=1d)\n",
      "$RMD: possibly delisted; no price data found  (period=1d)\n",
      "429 Client Error: Too Many Requests for url: https://query2.finance.yahoo.com/v10/finance/quoteSummary/RMD?modules=financialData%2CquoteType%2CdefaultKeyStatistics%2CassetProfile%2CsummaryDetail&corsDomain=finance.yahoo.com&formatted=false&symbol=RMD&crumb=Edge%3A+Too+Many+Requests\n",
      "$QDEL: possibly delisted; no price data found  (period=1d)\n",
      "429 Client Error: Too Many Requests for url: https://query2.finance.yahoo.com/v10/finance/quoteSummary/QDEL?modules=financialData%2CquoteType%2CdefaultKeyStatistics%2CassetProfile%2CsummaryDetail&corsDomain=finance.yahoo.com&formatted=false&symbol=QDEL&crumb=Edge%3A+Too+Many+Requests\n",
      "Failed to get ticker 'HCN-J' reason: Expecting value: line 1 column 1 (char 0)\n",
      "$HCN-J: possibly delisted; no price data found  (period=1d)\n",
      "429 Client Error: Too Many Requests for url: https://query2.finance.yahoo.com/v10/finance/quoteSummary/HCN-J?modules=financialData%2CquoteType%2CdefaultKeyStatistics%2CassetProfile%2CsummaryDetail&corsDomain=finance.yahoo.com&formatted=false&symbol=HCN-J&crumb=Edge%3A+Too+Many+Requests\n",
      "$MHLD: possibly delisted; no price data found  (period=1d)\n",
      "429 Client Error: Too Many Requests for url: https://query2.finance.yahoo.com/v10/finance/quoteSummary/MHLD?modules=financialData%2CquoteType%2CdefaultKeyStatistics%2CassetProfile%2CsummaryDetail&corsDomain=finance.yahoo.com&formatted=false&symbol=MHLD&crumb=Edge%3A+Too+Many+Requests\n",
      "Failed to get ticker 'FAM' reason: Expecting value: line 1 column 1 (char 0)\n",
      "$FAM: possibly delisted; no price data found  (period=1d)\n",
      "429 Client Error: Too Many Requests for url: https://query2.finance.yahoo.com/v10/finance/quoteSummary/FAM?modules=financialData%2CquoteType%2CdefaultKeyStatistics%2CassetProfile%2CsummaryDetail&corsDomain=finance.yahoo.com&formatted=false&symbol=FAM&crumb=Edge%3A+Too+Many+Requests\n",
      "Failed to get ticker 'TSU' reason: Expecting value: line 1 column 1 (char 0)\n",
      "$TSU: possibly delisted; no price data found  (period=1d)\n",
      "429 Client Error: Too Many Requests for url: https://query2.finance.yahoo.com/v10/finance/quoteSummary/TSU?modules=financialData%2CquoteType%2CdefaultKeyStatistics%2CassetProfile%2CsummaryDetail&corsDomain=finance.yahoo.com&formatted=false&symbol=TSU&crumb=Edge%3A+Too+Many+Requests\n",
      "Failed to get ticker 'CIR' reason: Expecting value: line 1 column 1 (char 0)\n",
      "$CIR: possibly delisted; no price data found  (period=1d)\n",
      "429 Client Error: Too Many Requests for url: https://query2.finance.yahoo.com/v10/finance/quoteSummary/CIR?modules=financialData%2CquoteType%2CdefaultKeyStatistics%2CassetProfile%2CsummaryDetail&corsDomain=finance.yahoo.com&formatted=false&symbol=CIR&crumb=Edge%3A+Too+Many+Requests\n",
      "$CNSL: possibly delisted; no price data found  (period=1d)\n",
      "429 Client Error: Too Many Requests for url: https://query2.finance.yahoo.com/v10/finance/quoteSummary/CNSL?modules=financialData%2CquoteType%2CdefaultKeyStatistics%2CassetProfile%2CsummaryDetail&corsDomain=finance.yahoo.com&formatted=false&symbol=CNSL&crumb=Edge%3A+Too+Many+Requests\n",
      "Failed to get ticker 'PYN' reason: Expecting value: line 1 column 1 (char 0)\n",
      "$PYN: possibly delisted; no price data found  (period=1d)\n",
      "429 Client Error: Too Many Requests for url: https://query2.finance.yahoo.com/v10/finance/quoteSummary/PYN?modules=financialData%2CquoteType%2CdefaultKeyStatistics%2CassetProfile%2CsummaryDetail&corsDomain=finance.yahoo.com&formatted=false&symbol=PYN&crumb=Edge%3A+Too+Many+Requests\n",
      "$MENT: possibly delisted; no price data found  (period=1d)\n",
      "429 Client Error: Too Many Requests for url: https://query2.finance.yahoo.com/v10/finance/quoteSummary/MENT?modules=financialData%2CquoteType%2CdefaultKeyStatistics%2CassetProfile%2CsummaryDetail&corsDomain=finance.yahoo.com&formatted=false&symbol=MENT&crumb=Edge%3A+Too+Many+Requests\n",
      "$GDF: possibly delisted; no price data found  (period=1d)\n",
      "429 Client Error: Too Many Requests for url: https://query2.finance.yahoo.com/v10/finance/quoteSummary/GDF?modules=financialData%2CquoteType%2CdefaultKeyStatistics%2CassetProfile%2CsummaryDetail&corsDomain=finance.yahoo.com&formatted=false&symbol=GDF&crumb=Edge%3A+Too+Many+Requests\n",
      "Failed to get ticker 'EBR.B' reason: Expecting value: line 1 column 1 (char 0)\n",
      "$EBR.B: possibly delisted; no price data found  (period=1d)\n",
      "429 Client Error: Too Many Requests for url: https://query2.finance.yahoo.com/v10/finance/quoteSummary/EBR.B?modules=financialData%2CquoteType%2CdefaultKeyStatistics%2CassetProfile%2CsummaryDetail&corsDomain=finance.yahoo.com&formatted=false&symbol=EBR.B&crumb=Edge%3A+Too+Many+Requests\n",
      "$MED: possibly delisted; no price data found  (period=1d)\n",
      "429 Client Error: Too Many Requests for url: https://query2.finance.yahoo.com/v10/finance/quoteSummary/MED?modules=financialData%2CquoteType%2CdefaultKeyStatistics%2CassetProfile%2CsummaryDetail&corsDomain=finance.yahoo.com&formatted=false&symbol=MED&crumb=Edge%3A+Too+Many+Requests\n",
      "$UFPT: possibly delisted; no price data found  (period=1d)\n",
      "429 Client Error: Too Many Requests for url: https://query2.finance.yahoo.com/v10/finance/quoteSummary/UFPT?modules=financialData%2CquoteType%2CdefaultKeyStatistics%2CassetProfile%2CsummaryDetail&corsDomain=finance.yahoo.com&formatted=false&symbol=UFPT&crumb=Edge%3A+Too+Many+Requests\n",
      "$DRRX: possibly delisted; no price data found  (period=1d)\n",
      "429 Client Error: Too Many Requests for url: https://query2.finance.yahoo.com/v10/finance/quoteSummary/DRRX?modules=financialData%2CquoteType%2CdefaultKeyStatistics%2CassetProfile%2CsummaryDetail&corsDomain=finance.yahoo.com&formatted=false&symbol=DRRX&crumb=Edge%3A+Too+Many+Requests\n",
      "Failed to get ticker 'TKMR' reason: Expecting value: line 1 column 1 (char 0)\n",
      "$TKMR: possibly delisted; no price data found  (period=1d)\n",
      "429 Client Error: Too Many Requests for url: https://query2.finance.yahoo.com/v10/finance/quoteSummary/TKMR?modules=financialData%2CquoteType%2CdefaultKeyStatistics%2CassetProfile%2CsummaryDetail&corsDomain=finance.yahoo.com&formatted=false&symbol=TKMR&crumb=Edge%3A+Too+Many+Requests\n",
      "Failed to get ticker 'TE' reason: Expecting value: line 1 column 1 (char 0)\n",
      "$TE: possibly delisted; no price data found  (period=1d)\n",
      "429 Client Error: Too Many Requests for url: https://query2.finance.yahoo.com/v10/finance/quoteSummary/TE?modules=financialData%2CquoteType%2CdefaultKeyStatistics%2CassetProfile%2CsummaryDetail&corsDomain=finance.yahoo.com&formatted=false&symbol=TE&crumb=Edge%3A+Too+Many+Requests\n",
      "$ARG: possibly delisted; no price data found  (period=1d)\n",
      "429 Client Error: Too Many Requests for url: https://query2.finance.yahoo.com/v10/finance/quoteSummary/ARG?modules=financialData%2CquoteType%2CdefaultKeyStatistics%2CassetProfile%2CsummaryDetail&corsDomain=finance.yahoo.com&formatted=false&symbol=ARG&crumb=Edge%3A+Too+Many+Requests\n",
      "$SMCI: possibly delisted; no price data found  (period=1d)\n",
      "401 Client Error: Unauthorized for url: https://query2.finance.yahoo.com/v10/finance/quoteSummary/SMCI?modules=financialData%2CquoteType%2CdefaultKeyStatistics%2CassetProfile%2CsummaryDetail&corsDomain=finance.yahoo.com&formatted=false&symbol=SMCI&crumb=Edge%3A+Too+Many+Requests\n",
      "$AHC: possibly delisted; no price data found  (period=1d) (Yahoo error = \"No data found, symbol may be delisted\")\n",
      "$TCB-B: possibly delisted; no price data found  (period=1d) (Yahoo error = \"No data found, symbol may be delisted\")\n",
      "404 Client Error: Not Found for url: https://query2.finance.yahoo.com/v10/finance/quoteSummary/TCB-B?modules=financialData%2CquoteType%2CdefaultKeyStatistics%2CassetProfile%2CsummaryDetail&corsDomain=finance.yahoo.com&formatted=false&symbol=TCB-B&crumb=eH0scvPxYkq\n",
      "404 Client Error: Not Found for url: https://query2.finance.yahoo.com/v10/finance/quoteSummary/TCB-B?modules=financialData%2CquoteType%2CdefaultKeyStatistics%2CassetProfile%2CsummaryDetail&corsDomain=finance.yahoo.com&formatted=false&symbol=TCB-B&crumb=eH0scvPxYkq\n",
      "$PIR: possibly delisted; no price data found  (period=1d) (Yahoo error = \"No data found, symbol may be delisted\")\n",
      "$RDA: possibly delisted; no price data found  (period=1d)\n",
      "$BBNK: possibly delisted; no price data found  (period=1d)\n",
      "$GIGA: possibly delisted; no price data found  (period=1d) (Yahoo error = \"No data found, symbol may be delisted\")\n",
      "404 Client Error: Not Found for url: https://query2.finance.yahoo.com/v10/finance/quoteSummary/GIGA?modules=financialData%2CquoteType%2CdefaultKeyStatistics%2CassetProfile%2CsummaryDetail&corsDomain=finance.yahoo.com&formatted=false&symbol=GIGA&crumb=eH0scvPxYkq\n",
      "404 Client Error: Not Found for url: https://query2.finance.yahoo.com/v10/finance/quoteSummary/GIGA?modules=financialData%2CquoteType%2CdefaultKeyStatistics%2CassetProfile%2CsummaryDetail&corsDomain=finance.yahoo.com&formatted=false&symbol=GIGA&crumb=eH0scvPxYkq\n",
      "$PRXL: possibly delisted; no price data found  (period=1d)\n",
      "$ENOC: possibly delisted; no price data found  (period=1d)\n",
      "$NNC-F: possibly delisted; no price data found  (period=1d) (Yahoo error = \"No data found, symbol may be delisted\")\n",
      "404 Client Error: Not Found for url: https://query2.finance.yahoo.com/v10/finance/quoteSummary/NNC-F?modules=financialData%2CquoteType%2CdefaultKeyStatistics%2CassetProfile%2CsummaryDetail&corsDomain=finance.yahoo.com&formatted=false&symbol=NNC-F&crumb=eH0scvPxYkq\n",
      "404 Client Error: Not Found for url: https://query2.finance.yahoo.com/v10/finance/quoteSummary/NNC-F?modules=financialData%2CquoteType%2CdefaultKeyStatistics%2CassetProfile%2CsummaryDetail&corsDomain=finance.yahoo.com&formatted=false&symbol=NNC-F&crumb=eH0scvPxYkq\n",
      "$PTRY: possibly delisted; no price data found  (period=1d)\n",
      "$PVTBP: possibly delisted; no price data found  (period=1d)\n",
      "$CLUB: possibly delisted; no price data found  (period=1d) (Yahoo error = \"No data found, symbol may be delisted\")\n",
      "$JZV: possibly delisted; no price data found  (period=1d)\n",
      "$TEAR: possibly delisted; no price data found  (period=1d) (Yahoo error = \"No data found, symbol may be delisted\")\n",
      "$BRS: possibly delisted; no price data found  (period=1d) (Yahoo error = \"No data found, symbol may be delisted\")\n",
      "$BNCL: possibly delisted; no price data found  (period=1d) (Yahoo error = \"No data found, symbol may be delisted\")\n",
      "$SYMX: possibly delisted; no price data found  (period=1d)\n",
      "$GMT: possibly delisted; no price data found  (period=1d)\n",
      "$THLD: possibly delisted; no price data found  (period=1d)\n",
      "$SRCL: possibly delisted; no price data found  (period=1d)\n",
      "$MRF: possibly delisted; no price data found  (period=1d)\n",
      "$ARCW: possibly delisted; no price data found  (period=1d) (Yahoo error = \"No data found, symbol may be delisted\")\n",
      "$MPEL: possibly delisted; no price data found  (period=1d)\n",
      "$MYC: possibly delisted; no price data found  (period=1d) (Yahoo error = \"No data found, symbol may be delisted\")\n",
      "404 Client Error: Not Found for url: https://query2.finance.yahoo.com/v10/finance/quoteSummary/MYC?modules=financialData%2CquoteType%2CdefaultKeyStatistics%2CassetProfile%2CsummaryDetail&corsDomain=finance.yahoo.com&formatted=false&symbol=MYC&crumb=eH0scvPxYkq\n",
      "404 Client Error: Not Found for url: https://query2.finance.yahoo.com/v10/finance/quoteSummary/MYC?modules=financialData%2CquoteType%2CdefaultKeyStatistics%2CassetProfile%2CsummaryDetail&corsDomain=finance.yahoo.com&formatted=false&symbol=MYC&crumb=eH0scvPxYkq\n",
      "$SSNI: possibly delisted; no price data found  (period=1d)\n",
      "$HBC-A: possibly delisted; no price data found  (period=1d) (Yahoo error = \"No data found, symbol may be delisted\")\n",
      "404 Client Error: Not Found for url: https://query2.finance.yahoo.com/v10/finance/quoteSummary/HBC-A?modules=financialData%2CquoteType%2CdefaultKeyStatistics%2CassetProfile%2CsummaryDetail&corsDomain=finance.yahoo.com&formatted=false&symbol=HBC-A&crumb=eH0scvPxYkq\n",
      "404 Client Error: Not Found for url: https://query2.finance.yahoo.com/v10/finance/quoteSummary/HBC-A?modules=financialData%2CquoteType%2CdefaultKeyStatistics%2CassetProfile%2CsummaryDetail&corsDomain=finance.yahoo.com&formatted=false&symbol=HBC-A&crumb=eH0scvPxYkq\n",
      "$WFBI: possibly delisted; no price data found  (period=1d)\n",
      "$NTI: possibly delisted; no price data found  (period=1d)\n",
      "$LCM: possibly delisted; no price data found  (period=1d)\n",
      "$PRSC: possibly delisted; no price data found  (period=1d) (Yahoo error = \"No data found, symbol may be delisted\")\n",
      "$WAYN: possibly delisted; no price data found  (period=1d) (Yahoo error = \"No data found, symbol may be delisted\")\n",
      "404 Client Error: Not Found for url: https://query2.finance.yahoo.com/v10/finance/quoteSummary/WAYN?modules=financialData%2CquoteType%2CdefaultKeyStatistics%2CassetProfile%2CsummaryDetail&corsDomain=finance.yahoo.com&formatted=false&symbol=WAYN&crumb=eH0scvPxYkq\n",
      "404 Client Error: Not Found for url: https://query2.finance.yahoo.com/v10/finance/quoteSummary/WAYN?modules=financialData%2CquoteType%2CdefaultKeyStatistics%2CassetProfile%2CsummaryDetail&corsDomain=finance.yahoo.com&formatted=false&symbol=WAYN&crumb=eH0scvPxYkq\n",
      "$EPR-C: possibly delisted; no price data found  (period=1d) (Yahoo error = \"No data found, symbol may be delisted\")\n",
      "404 Client Error: Not Found for url: https://query2.finance.yahoo.com/v10/finance/quoteSummary/EPR-C?modules=financialData%2CquoteType%2CdefaultKeyStatistics%2CassetProfile%2CsummaryDetail&corsDomain=finance.yahoo.com&formatted=false&symbol=EPR-C&crumb=eH0scvPxYkq\n",
      "404 Client Error: Not Found for url: https://query2.finance.yahoo.com/v10/finance/quoteSummary/EPR-C?modules=financialData%2CquoteType%2CdefaultKeyStatistics%2CassetProfile%2CsummaryDetail&corsDomain=finance.yahoo.com&formatted=false&symbol=EPR-C&crumb=eH0scvPxYkq\n",
      "$CRY: possibly delisted; no price data found  (period=1d) (Yahoo error = \"No data found, symbol may be delisted\")\n",
      "$BDGE: possibly delisted; no price data found  (period=1d) (Yahoo error = \"No data found, symbol may be delisted\")\n",
      "$RBS-Q: possibly delisted; no price data found  (period=1d) (Yahoo error = \"No data found, symbol may be delisted\")\n",
      "404 Client Error: Not Found for url: https://query2.finance.yahoo.com/v10/finance/quoteSummary/RBS-Q?modules=financialData%2CquoteType%2CdefaultKeyStatistics%2CassetProfile%2CsummaryDetail&corsDomain=finance.yahoo.com&formatted=false&symbol=RBS-Q&crumb=eH0scvPxYkq\n",
      "404 Client Error: Not Found for url: https://query2.finance.yahoo.com/v10/finance/quoteSummary/RBS-Q?modules=financialData%2CquoteType%2CdefaultKeyStatistics%2CassetProfile%2CsummaryDetail&corsDomain=finance.yahoo.com&formatted=false&symbol=RBS-Q&crumb=eH0scvPxYkq\n",
      "$AGN: possibly delisted; no price data found  (period=1d) (Yahoo error = \"No data found, symbol may be delisted\")\n",
      "$DRE-L: possibly delisted; no price data found  (period=1d) (Yahoo error = \"No data found, symbol may be delisted\")\n",
      "404 Client Error: Not Found for url: https://query2.finance.yahoo.com/v10/finance/quoteSummary/DRE-L?modules=financialData%2CquoteType%2CdefaultKeyStatistics%2CassetProfile%2CsummaryDetail&corsDomain=finance.yahoo.com&formatted=false&symbol=DRE-L&crumb=eH0scvPxYkq\n",
      "404 Client Error: Not Found for url: https://query2.finance.yahoo.com/v10/finance/quoteSummary/DRE-L?modules=financialData%2CquoteType%2CdefaultKeyStatistics%2CassetProfile%2CsummaryDetail&corsDomain=finance.yahoo.com&formatted=false&symbol=DRE-L&crumb=eH0scvPxYkq\n",
      "$TXCC: possibly delisted; no price data found  (period=1d)\n",
      "$WLB: possibly delisted; no price data found  (period=1d)\n",
      "$PBR.A: possibly delisted; no price data found  (period=1d) (Yahoo error = \"No data found, symbol may be delisted\")\n",
      "404 Client Error: Not Found for url: https://query2.finance.yahoo.com/v10/finance/quoteSummary/PBR.A?modules=financialData%2CquoteType%2CdefaultKeyStatistics%2CassetProfile%2CsummaryDetail&corsDomain=finance.yahoo.com&formatted=false&symbol=PBR.A&crumb=eH0scvPxYkq\n",
      "404 Client Error: Not Found for url: https://query2.finance.yahoo.com/v10/finance/quoteSummary/PBR.A?modules=financialData%2CquoteType%2CdefaultKeyStatistics%2CassetProfile%2CsummaryDetail&corsDomain=finance.yahoo.com&formatted=false&symbol=PBR.A&crumb=eH0scvPxYkq\n",
      "$ZB-G: possibly delisted; no price data found  (period=1d) (Yahoo error = \"No data found, symbol may be delisted\")\n",
      "404 Client Error: Not Found for url: https://query2.finance.yahoo.com/v10/finance/quoteSummary/ZB-G?modules=financialData%2CquoteType%2CdefaultKeyStatistics%2CassetProfile%2CsummaryDetail&corsDomain=finance.yahoo.com&formatted=false&symbol=ZB-G&crumb=eH0scvPxYkq\n",
      "404 Client Error: Not Found for url: https://query2.finance.yahoo.com/v10/finance/quoteSummary/ZB-G?modules=financialData%2CquoteType%2CdefaultKeyStatistics%2CassetProfile%2CsummaryDetail&corsDomain=finance.yahoo.com&formatted=false&symbol=ZB-G&crumb=eH0scvPxYkq\n",
      "C:\\Users\\Gamer\\AppData\\Local\\Temp\\ipykernel_8212\\2305047298.py:12: FutureWarning: The behavior of DataFrame concatenation with empty or all-NA entries is deprecated. In a future version, this will no longer exclude empty or all-NA columns when determining the result dtypes. To retain the old behavior, exclude the relevant entries before the concat operation.\n",
      "  dfPrediction = pd.concat([getTickerData(ticker) for ticker in predictionTickers], ignore_index=True)\n"
     ]
    },
    {
     "data": {
      "text/html": [
       "\n",
       "<style>\n",
       "    /* Turns off some styling */\n",
       "    progress {\n",
       "        /* gets rid of default border in Firefox and Opera. */\n",
       "        border: none;\n",
       "        /* Needs to be in here for Safari polyfill so background images work as expected. */\n",
       "        background-size: auto;\n",
       "    }\n",
       "    progress:not([value]), progress:not([value])::-webkit-progress-bar {\n",
       "        background: repeating-linear-gradient(45deg, #7e7e7e, #7e7e7e 10px, #5c5c5c 10px, #5c5c5c 20px);\n",
       "    }\n",
       "    .progress-bar-interrupted, .progress-bar-interrupted::-webkit-progress-bar {\n",
       "        background: #F44336;\n",
       "    }\n",
       "</style>\n"
      ],
      "text/plain": [
       "<IPython.core.display.HTML object>"
      ]
     },
     "metadata": {},
     "output_type": "display_data"
    },
    {
     "data": {
      "text/html": [],
      "text/plain": [
       "<IPython.core.display.HTML object>"
      ]
     },
     "metadata": {},
     "output_type": "display_data"
    },
    {
     "name": "stdout",
     "output_type": "stream",
     "text": [
      "Got predictions for 159 tickers, expected: 578\n",
      "Prediction for best performing tickers:\n",
      "MLI (Mueller Industries): 18.24%\n",
      "APU (Amerigas Partners L.P.): 17.77%\n",
      "BXMT (Blackstone Mortgage Trust Inc. CI A): 17.01%\n",
      "NBTF (NB&T Financial Group Inc): 16.20%\n",
      "FDI (Fort Dearborn Income Securities): 15.45%\n",
      "SUPN (Supernus Pharmaceuticals Inc.): 14.89%\n",
      "OKSBP (Southwest Bancorp): 14.52%\n",
      "IM (Ingram Micro Inc.): 13.78%\n",
      "HSOL (Hanwha Solarone Co. Ltd): 13.71%\n",
      "CWH (Commonwealth REIT): 13.62%\n",
      "PDI (Pimco Dynamic Income Fund): 13.61%\n",
      "AMAG (Amag Pharmaceuticals): 13.54%\n",
      "NBTB (Nbt Bancorp Inc.): 12.27%\n",
      "EXXI (Energy Xxi [Bermuda] Limited): 12.26%\n",
      "UPIP (Unwired Planet Inc): 12.23%\n",
      "GRVY (Gravity Co.): 12.05%\n",
      "VICL (Vical Inc.): 12.05%\n",
      "DX-B (Dynex Capital Inc.): 11.75%\n",
      "TOO (Teekay Offshore Partners L.P.): 11.72%\n",
      "EMD (Western Asset Emerging Markets Fund): 10.92%\n",
      "Y (Alleghany Corp.): 10.07%\n",
      "LTRX (Lantronix): 9.74%\n",
      "EEML (Emrg Mkts Latin Amer MSCI Ishares): 9.35%\n",
      "NDP (Tortoise Energy Independence F): 9.30%\n",
      "GTPPP (The Goodyear Tire & Rubber Co.): 9.17%\n",
      "JNPR (Juniper Networks): 8.92%\n",
      "BRP (Brookfield Residential Propert): 8.66%\n",
      "AVEO (Aveo Pharmaceuticals): 8.62%\n",
      "DXCM (Dexcom): 8.33%\n",
      "C-Q (Citigrp Cap Vi Trups): 7.57%\n",
      "TOO-A (Teekay Offshore Partners L.P.): 7.56%\n",
      "SFI-I (Istar Fincl Inc Pfd): 6.84%\n",
      "EVRY (Everyware Global Inc): 6.63%\n",
      "HEP (Holly Energy Partners L.P.): 6.09%\n",
      "DDR (Ddr Corp): 5.94%\n",
      "CLN-A (Colony Financial Inc.): 5.88%\n",
      "PCL (Plum Creek Timber Company): 5.74%\n",
      "UL (Unilever Plc): 5.67%\n",
      "TTS (Tile Shop Holdings Inc.): 5.53%\n",
      "MSBF (Msb Financial): 5.38%\n",
      "CVX (Chevron Corp.): 4.85%\n",
      "CXDC (China Xd Plastics Company): 4.74%\n",
      "RDCM (Radcom Ltd): 4.64%\n",
      "CIM (Chimera Investment Corp.): 4.64%\n",
      "RBS-N (RBS Series N Ads Pfd): 4.57%\n",
      "NE (Noble Corp.): 4.52%\n",
      "BFZ (Blackrock California Muni Trust): 4.47%\n",
      "CO (China Cord Blood Corporation.): 4.43%\n",
      "NGVC (Natural Grocers By Vitamin Cottage Inc): 4.35%\n",
      "FTI (Fmc Technologies): 4.17%\n",
      "HUBG (Hub Group): 3.89%\n",
      "MIL (Mfc Industrial Ltd): 3.60%\n",
      "USAP (Universal Stainless & Alloy Products): 3.44%\n",
      "MA (Mastercard Inc.): 3.11%\n",
      "PEI-B (Pennsylvania Real Estate Inves): 2.94%\n",
      "FTNT (Fortinet): 2.87%\n",
      "FBNC (First Bancorp): 2.80%\n",
      "MWO (Morgan Stanley Cap TR V Gtd Cap Secs): 2.67%\n",
      "PMM (Putnam Managed Muni Income Trust): 2.56%\n",
      "MER-E (M L Cap TR 7.12): 2.45%\n",
      "ZIOP (Ziopharm Oncology Inc): 2.31%\n",
      "USTR (United Stationers Inc.): 2.25%\n",
      "WDC (Western Digital Corp.): 2.16%\n",
      "DM-B (Dolan Company The): 1.88%\n",
      "BIDU (Baidu): 1.86%\n",
      "STC (Stewart Information Services Corp.): 1.84%\n",
      "BCOR (Blucora Inc.): 1.53%\n",
      "DRYS (Dryships Inc.): 1.47%\n",
      "ZTR (Zweig Total Return Fund): 1.37%\n",
      "JOUT (Johnson Outdoors Inc.): 1.19%\n",
      "SGRP (Spar Group): 0.89%\n",
      "IPCI (Intellipharmaceutics International Inc.): 0.86%\n",
      "SUBK (Suffolk Bancorp): 0.86%\n",
      "PCBK (Pacific Continental Corporation [Ore]): 0.81%\n",
      "SPE (Special Opportunities Fund Inc.): 0.76%\n",
      "GWW (W.W. Grainger): 0.68%\n",
      "TMH (Team Health Holdings): 0.46%\n",
      "COP (Conocophillips): 0.38%\n",
      "BLOX (Infoblox Inc.): 0.30%\n",
      "PLCC (Paulson Capital): 0.25%\n",
      "IRL (Irish Investment Fund): 0.21%\n",
      "ARQL (Arqule): 0.01%\n",
      "CHW (Calamos Global Dynamic): -0.03%\n",
      "CTRP (Ctrip.Com International): -0.13%\n",
      "SR (Standard Register Company): -0.16%\n",
      "ALR-B (Alere Inc. inverness Medical In): -0.17%\n",
      "PPS (Post Properties): -0.30%\n",
      "STI (Suntrust Banks): -0.35%\n",
      "JPM-D (Jpmorgan Chase & Co.): -0.58%\n",
      "CVGW (Calavo Growers): -0.59%\n",
      "SYNL (Synalloy Corp.): -0.68%\n",
      "LPX (Louisiana-Pacific Corp.): -0.69%\n",
      "ROICW (Retail Opportunity Investments): -0.73%\n",
      "EGBN (Eagle Bancorp): -0.81%\n",
      "INDB (Independent Bank): -0.90%\n",
      "BKE (Buckle): -1.01%\n",
      "AGNC (American Capital Agency): -1.08%\n",
      "MBWM (Mercantile Bank Corp.): -1.21%\n",
      "OMC (Omnicom Group Inc.): -1.27%\n",
      "AERL (Asia Entertainment & Resources Ltd): -1.34%\n",
      "BNSO (Bonso Electronics International): -1.69%\n",
      "GEOS (Oyo Geospace Corp.): -1.72%\n",
      "CTQ (Qwest Corporation): -1.81%\n",
      "CNO (Cno Financial Group): -1.83%\n",
      "TECH (Techne Corp.): -1.90%\n",
      "CSC (Computer Sciences Corp.): -2.04%\n",
      "EEP (Enbridge Energy L.P.): -2.54%\n",
      "QQQ (Powershares QQQ): -2.72%\n",
      "PAR (Par Technology Corp.): -2.86%\n",
      "NAVG (The Navigators Group): -2.92%\n",
      "AGI (Alamos Gold Inc.): -3.00%\n",
      "VLTC (Voltari Corp.): -3.01%\n",
      "EXPD (Expeditors International Of Washington): -3.12%\n",
      "ELNK (Earthlink): -3.35%\n",
      "BNJ (Blackrock New Jersey Muni Income Trust): -3.45%\n",
      "FOLD (Amicus Therapeutics): -3.46%\n",
      "RVBD (Riverbed Technology): -3.65%\n",
      "CBU (Communitiy Bank System): -3.67%\n",
      "ADHD (Alcobra Ltd.): -3.71%\n",
      "TEVA (Teva Pharmaceutical Industries Limited): -3.72%\n",
      "HFBL (Home Federal Bancorp Inc. Of Louisiana): -3.76%\n",
      "SHBI (Shore Bancshares Inc): -3.77%\n",
      "LOAN (Manhattan Bridge Capital Inc): -3.86%\n",
      "AAV (Advantage Oil & Gas Ltd): -3.87%\n",
      "ERJ (Embraer-Empresa Brasileira De): -3.97%\n",
      "BANFP (Bancfirst Corp.): -4.18%\n",
      "STMP (Stamps.Com Inc.): -4.27%\n",
      "TMS (Tms International Corp.): -4.36%\n",
      "APEI (American Public Education): -4.46%\n",
      "PSCD (S&P Smallcap Cnsmr Discret Powershares): -4.60%\n",
      "AEL (American Equity Investment Life): -4.92%\n",
      "SAH (Sonic Automotive): -4.98%\n",
      "CNH (Cnh Global N.V.): -5.05%\n",
      "LONG (Elong): -5.20%\n",
      "CAB (Cabela's Inc): -5.29%\n",
      "PBF (Pbf Energy Inc.): -5.68%\n",
      "MNR-B (Monmouth Real Estate Investmen): -6.03%\n",
      "SXC (Suncoke Energy Inc): -6.22%\n",
      "BPOP (Popular): -6.56%\n",
      "LMAT (Lemaitre Vascular): -6.78%\n",
      "STRN (Sutron Corp.): -6.85%\n",
      "CARZ (Nasdaq Global Auto Index First Trust): -6.89%\n",
      "POM (Potomac Electric Power Company): -6.97%\n",
      "STV (China Digital Tv Holding Co.): -7.05%\n",
      "INOC (Innotrac Corp.): -7.34%\n",
      "NTG (Tortoise MLP Fund): -7.91%\n",
      "DATA (Tableau Software Inc. Class A): -8.10%\n",
      "HTLF (Heartland Financial USA): -8.48%\n",
      "CIS (Camelot Information Systems): -8.52%\n",
      "CHRM (Charm Communications Inc.): -8.69%\n",
      "ENS (Enersys): -8.98%\n",
      "CMSB (Cms Bancorp): -9.25%\n",
      "GYRO (Gyrodyne Company Of America): -9.34%\n",
      "HWCC (Houston Wire & Cable Company): -9.70%\n",
      "EROC (Eagle Rock Energy Partners L.P.): -10.58%\n",
      "CHS-A (Chesapeake Lodging Trust 7.75%): -11.63%\n",
      "PCN (Pimco Corporate): -11.88%\n",
      "HCAP (Harvest Capital Credit Corporat): -13.17%\n",
      "HRC (Hill-Rom Holdings Inc): -13.37%\n",
      "Free money?!\n"
     ]
    }
   ],
   "source": [
    "if predictionTarget != 'None':\n",
    "    if predictionTarget == 'ALL':\n",
    "        predictionTickers = tickers\n",
    "    elif predictionTarget.endswith('%'):\n",
    "        percentage = float(predictionTarget.strip('%')) / 100\n",
    "        num_tickers = int(len(tickers) * percentage)\n",
    "        predictionTickers = np.random.choice(tickers, size=num_tickers, replace=False).tolist()\n",
    "    else:\n",
    "        predictionTickers = [predictionTarget]\n",
    "\n",
    "    # Fetch data for prediction tickers\n",
    "    dfPrediction = pd.concat([getTickerData(ticker) for ticker in predictionTickers], ignore_index=True)\n",
    "\n",
    "    # Ensure dfPrediction is a DataFrame\n",
    "    if isinstance(dfPrediction, dict):\n",
    "        dfPrediction = pd.DataFrame([dfPrediction])\n",
    "\n",
    "    # Drop rows with NaN values in 'EV/EBIT' or 'ROIC'\n",
    "    dfPrediction = dfPrediction.dropna(subset=['EV/EBIT', 'ROIC'])\n",
    "\n",
    "    # Create test dataloader\n",
    "    dl = learn.dls.test_dl(dfPrediction)\n",
    "    dfPrediction.head()\n",
    "\n",
    "    # Make predictions\n",
    "    prediction = learn.get_preds(dl=dl)\n",
    "    adr_df = pd.read_csv(testFolder / 'tickers.csv')\n",
    "    company_dict = dict(zip(adr_df['Ticker'], adr_df['Company']))\n",
    "\n",
    "    if predictionTarget == 'ALL' or predictionTarget.endswith('%'):\n",
    "        sorted_predictions = sorted(zip(predictionTickers, prediction[0]), key=lambda x: x[1], reverse=True)\n",
    "        print(f\"Got predictions for {len(sorted_predictions)} tickers, expected: {len(predictionTickers)}\")\n",
    "        print(f\"Prediction for best performing tickers:\")\n",
    "        for symbol, pred in sorted_predictions:\n",
    "            company_name = company_dict.get(symbol, 'Unknown')\n",
    "            print(f\"{symbol} ({company_name}): {pred[0].item() * 100:.2f}%\")\n",
    "    else:\n",
    "        company_name = company_dict.get(predictionTarget, 'Unknown')\n",
    "        print(f\"Prediction for {predictionTarget} ({company_name}):\")\n",
    "        print(f\"{prediction[0][0][0].item() * 100:.2f}%\")\n",
    "    print(\"Free money?!\")"
   ]
  },
  {
   "cell_type": "code",
   "execution_count": null,
   "metadata": {},
   "outputs": [],
   "source": []
  }
 ],
 "metadata": {
  "kernelspec": {
   "display_name": "base",
   "language": "python",
   "name": "python3"
  },
  "language_info": {
   "codemirror_mode": {
    "name": "ipython",
    "version": 3
   },
   "file_extension": ".py",
   "mimetype": "text/x-python",
   "name": "python",
   "nbconvert_exporter": "python",
   "pygments_lexer": "ipython3",
   "version": "3.12.3"
  }
 },
 "nbformat": 4,
 "nbformat_minor": 2
}
