{
 "cells": [
  {
   "cell_type": "markdown",
   "metadata": {},
   "source": [
    "## Stock Screener: Model Training and Evaluation"
   ]
  },
  {
   "cell_type": "markdown",
   "metadata": {},
   "source": [
    "### Library Installation (if needed)"
   ]
  },
  {
   "cell_type": "code",
   "execution_count": 2,
   "metadata": {},
   "outputs": [],
   "source": [
    "# Install libraries the first time\n",
    "# ! conda install fastai::fastai conda-forge::yfinance pandas pathlib numpy"
   ]
  },
  {
   "cell_type": "markdown",
   "metadata": {},
   "source": [
    "### Importing Required Libraries"
   ]
  },
  {
   "cell_type": "code",
   "execution_count": 3,
   "metadata": {},
   "outputs": [],
   "source": [
    "from fastai.tabular.all import *\n",
    "from fastai.metrics import rmse, mae\n",
    "from datetime import datetime, timedelta\n",
    "import matplotlib.pyplot as plt\n",
    "import yfinance as yf\n",
    "import pandas as pd\n",
    "import numpy as np\n",
    "import pathlib"
   ]
  },
  {
   "cell_type": "markdown",
   "metadata": {},
   "source": [
    "### Variables"
   ]
  },
  {
   "cell_type": "code",
   "execution_count": 4,
   "metadata": {},
   "outputs": [],
   "source": [
    "# Model settings\n",
    "modelName = 'stockScreenerV2.1'\n",
    "trainingData = 'stockData.csv'\n",
    "getNewData = False \n",
    "trainNewModel = True\n",
    "predictionTarget = 'DRS'  # 'ALL' for all, 'x%', 'None' for no prediction\n",
    "\n",
    "# Training parameters\n",
    "trainingSize = 200  # Number of stocks to use for training\n",
    "timeFrame = '10y'   # Options: '1d', '5d', '1mo', '3mo', '6mo', '1y', '2y', '5y', '10y', 'ytd', 'max'\n",
    "yNames = ['Future Year Change']\n",
    "contNames = ['Open', 'Close', 'Volume', 'Dividends', 'Stock Splits', 'EV/EBIT', 'ROIC']\n",
    "catNames = ['Industry', 'Date']\n",
    "batchSize = 512\n",
    "epochs = round(0.5+trainingSize/10)\n",
    "\n",
    "# Testing parameters\n",
    "testSize = 200  # Number of stocks to test, 'ALL' for all non-training stocks\n",
    "\n",
    "# Paths\n",
    "basePath = Path.cwd().parent\n",
    "dataFolder = basePath / 'TrainingData'\n",
    "modelFolder = basePath.parent / 'TrainedModels' / 'stockScreener'\n",
    "testFolder = basePath / 'TestData'"
   ]
  },
  {
   "cell_type": "markdown",
   "metadata": {},
   "source": [
    "## Data Preparation"
   ]
  },
  {
   "cell_type": "markdown",
   "metadata": {},
   "source": [
    "#### Functions"
   ]
  },
  {
   "cell_type": "code",
   "execution_count": 5,
   "metadata": {},
   "outputs": [],
   "source": [
    "def calculateFutureYearChange(ticker_symbol, timeframe, buffer=1):\n",
    "    try:\n",
    "        ticker = yf.Ticker(ticker_symbol)\n",
    "        end_date = datetime.now().date()\n",
    "        \n",
    "        # Calculate required date range\n",
    "        if timeframe == 'max':\n",
    "            hist = ticker.history(period='max')\n",
    "        else:\n",
    "            years = int(timeframe[:-1])\n",
    "            start_date = end_date - pd.DateOffset(years=years + buffer)\n",
    "            \n",
    "            # First check if ticker has existed long enough\n",
    "            try:\n",
    "                hist = ticker.history(start=start_date, end=end_date)\n",
    "            except Exception as e:\n",
    "                print(f\"Data unavailable for {ticker_symbol} ({timeframe}): {e}\")\n",
    "                return pd.DataFrame()\n",
    "\n",
    "        if hist.empty:\n",
    "            print(f\"No data found for {ticker_symbol} ({timeframe})\")\n",
    "            return pd.DataFrame()\n",
    "\n",
    "        # Calculate future changes only if we have enough data points\n",
    "        if len(hist) < 300:  # Minimum ~1.5 years of trading days\n",
    "            print(f\"Insufficient data for {ticker_symbol} ({len(hist)} rows)\")\n",
    "            return pd.DataFrame()\n",
    "\n",
    "        # Calculate future price change\n",
    "        hist['Future Year Change'] = (hist['Close'].shift(-252) / hist['Close'] - 1)\n",
    "        hist = hist.dropna(subset=['Future Year Change'])\n",
    "        \n",
    "        return hist[['Open', 'Close', 'Volume', 'Dividends', 'Stock Splits', \n",
    "            'Future Year Change']].reset_index()\n",
    "\n",
    "    except Exception as e:\n",
    "        print(f\"Error processing {ticker_symbol}: {str(e)}\")\n",
    "        return pd.DataFrame()"
   ]
  },
  {
   "cell_type": "code",
   "execution_count": 6,
   "metadata": {},
   "outputs": [],
   "source": [
    "def calculateApproxEBIT(tickerSymbol):\n",
    "    try:\n",
    "        info = yf.Ticker(tickerSymbol).info\n",
    "        revenue = info.get('totalRevenue', None)\n",
    "        operatingIncome = info.get('operatingIncome', None)\n",
    "        ebit = operatingIncome if operatingIncome else (revenue * 0.15 if revenue else None)\n",
    "        return ebit if ebit and ebit != 0 else None  # Avoid zero division\n",
    "    except Exception as e:\n",
    "        return None"
   ]
  },
  {
   "cell_type": "code",
   "execution_count": 7,
   "metadata": {},
   "outputs": [],
   "source": [
    "def enrichDataWithMetrics(histData):\n",
    "    # Initialize columns with NaN if they don't exist\n",
    "    if 'EV/EBIT' not in histData.columns:\n",
    "        histData['P/E'] = np.nan\n",
    "    if 'EV/EBIT' not in histData.columns:\n",
    "        histData['EV/EBIT'] = np.nan\n",
    "    if 'ROIC' not in histData.columns:\n",
    "        histData['ROIC'] = np.nan\n",
    "    \n",
    "    for ticker in histData['Ticker'].unique():\n",
    "        try:\n",
    "            evInfo = yf.Ticker(ticker).info\n",
    "            totalDebt, cash, sharesOutstanding = evInfo.get('totalDebt', 0), evInfo.get('totalCash', 0), evInfo.get('sharesOutstanding', None)\n",
    "            ebit = calculateApproxEBIT(ticker)\n",
    "\n",
    "            if sharesOutstanding and ebit and ebit != 0:\n",
    "                histData.loc[histData['Ticker'] == ticker, 'EV/EBIT'] = (\n",
    "                    (histData['Close'] * sharesOutstanding + totalDebt - cash) / ebit\n",
    "                )\n",
    "\n",
    "                taxRate = 0.21\n",
    "                nopat = ebit * (1 - taxRate)\n",
    "                investedCapital = totalDebt + (histData['Close'] * sharesOutstanding) - cash\n",
    "                histData.loc[histData['Ticker'] == ticker, 'ROIC'] = nopat / investedCapital\n",
    "        except Exception as e:\n",
    "            pass\n",
    "    return histData"
   ]
  },
  {
   "cell_type": "code",
   "execution_count": 8,
   "metadata": {},
   "outputs": [],
   "source": [
    "def getTickerDataFrom1YrAgo(ticker_symbol):\n",
    "    try:\n",
    "        # Fetch ticker data\n",
    "        ticker = yf.Ticker(ticker_symbol)\n",
    "\n",
    "        # Define the date range: one year ago to today\n",
    "        today = datetime.today()\n",
    "        one_year_ago = today - timedelta(days=365)\n",
    "\n",
    "        # Fetch historical data for one year ago\n",
    "        hist = ticker.history(start=(one_year_ago - timedelta(days=30)).strftime('%Y-%m-%d'), \n",
    "                              end=(one_year_ago + timedelta(days=0)).strftime('%Y-%m-%d'))\n",
    "        if hist.empty:\n",
    "            raise ValueError(f\"No historical data available for {ticker_symbol} around {one_year_ago.strftime('%Y-%m-%d')}.\")\n",
    "\n",
    "        # Extract the closest data point to one year ago\n",
    "        row = hist.iloc[0]  # Get the first available entry within the date range\n",
    "\n",
    "        # Price today\n",
    "        price_today = ticker.history(period='1d')['Close'].iloc[-1]\n",
    "\n",
    "        # Calculate future price change (from one year ago to today)\n",
    "        price_change_future = ((price_today - row['Close']) / row['Close']) if row['Close'] else None\n",
    "\n",
    "        # Collect additional data\n",
    "        evInfo = yf.Ticker(ticker_symbol).info\n",
    "        total_debt, cash, shares_outstanding = evInfo.get('totalDebt', 0), evInfo.get('totalCash', 0), evInfo.get('sharesOutstanding', None)\n",
    "        ebit = calculateApproxEBIT(ticker_symbol)\n",
    "        ev = (row['Close'] * shares_outstanding) + total_debt - cash if shares_outstanding else None\n",
    "        ev_ebit = ev / ebit if ebit else None\n",
    "        market_cap = row['Close'] * shares_outstanding if shares_outstanding else None\n",
    "        tax_rate = 0.21\n",
    "        nopat = ebit * (1 - tax_rate) if ebit else None\n",
    "        invested_capital = total_debt + market_cap - cash if market_cap and total_debt and cash else None\n",
    "        roic = nopat / invested_capital if nopat and invested_capital else None\n",
    "        industry = yf.Ticker(ticker_symbol).info.get('industry', 'Unknown')\n",
    "\n",
    "        # Return as a DataFrame\n",
    "        return pd.DataFrame([{\n",
    "            'Ticker': ticker_symbol,\n",
    "            'Date': row.name,\n",
    "            'Open': row['Open'],\n",
    "            'High': row['High'],\n",
    "            'Low': row['Low'],\n",
    "            'Close': row['Close'],\n",
    "            'Volume': row['Volume'],\n",
    "            'Dividends': row.get('Dividends', 0.0),\n",
    "            'Stock Splits': row.get('Stock Splits', 0.0),\n",
    "            'Future Year Change': price_change_future,\n",
    "            'Industry': industry,\n",
    "            'EV/EBIT': ev_ebit,\n",
    "            'ROIC': roic\n",
    "        }])\n",
    "\n",
    "    except Exception as e:\n",
    "        print(f\"Error fetching data for {ticker_symbol}: {e}\")\n",
    "        return pd.DataFrame()"
   ]
  },
  {
   "cell_type": "code",
   "execution_count": 9,
   "metadata": {},
   "outputs": [],
   "source": [
    "def getTickerData(ticker_symbol):\n",
    "    try:\n",
    "        ticker = yf.Ticker(ticker_symbol)\n",
    "        hist = ticker.history(period='1d')\n",
    "        evInfo = ticker.info\n",
    "        total_debt, cash, shares_outstanding = evInfo.get('totalDebt', 0), evInfo.get('totalCash', 0), evInfo.get('sharesOutstanding', None)\n",
    "        ebit = calculateApproxEBIT(ticker_symbol)\n",
    "        ev = (hist['Close'].iloc[-1] * shares_outstanding) + total_debt - cash\n",
    "        ev_ebit = ev / ebit if ebit else None\n",
    "        market_cap = hist['Close'].iloc[-1] * shares_outstanding\n",
    "        tax_rate = 0.21\n",
    "        nopat = ebit * (1 - tax_rate) if ebit else None\n",
    "        invested_capital = total_debt + market_cap - cash\n",
    "        roic = nopat / invested_capital if nopat and invested_capital else None\n",
    "        industry = yf.Ticker(ticker_symbol).info.get('industry', 'Unknown')\n",
    "        \n",
    "        # Add the 'Date' column\n",
    "        date = datetime.now().strftime('%Y-%m-%d')\n",
    "\n",
    "        return pd.DataFrame([{\n",
    "            'Date': date,\n",
    "            'Open': hist['Open'].iloc[-1],\n",
    "            'High': hist['High'].iloc[-1],\n",
    "            'Low': hist['Low'].iloc[-1],\n",
    "            'Close': hist['Close'].iloc[-1],\n",
    "            'Volume': hist['Volume'].iloc[-1],\n",
    "            'Dividends': hist.get('Dividends', pd.Series([0.0])).iloc[-1],\n",
    "            'Stock Splits': hist.get('Stock Splits', pd.Series([0.0])).iloc[-1],\n",
    "            'EV/EBIT': ev_ebit,\n",
    "            'Market Cap': market_cap,\n",
    "            'ROIC': roic,\n",
    "            'Industry': industry\n",
    "        }])\n",
    "    except Exception:\n",
    "        return pd.DataFrame()"
   ]
  },
  {
   "cell_type": "markdown",
   "metadata": {},
   "source": [
    "#### Download and Process Historical Data"
   ]
  },
  {
   "cell_type": "code",
   "execution_count": 10,
   "metadata": {},
   "outputs": [],
   "source": [
    "tickers = pd.read_csv(testFolder / 'tickers.csv')['Ticker']\n",
    "trainingTickers = np.random.choice(tickers, size=trainingSize, replace=False)\n",
    "\n",
    "if getNewData:\n",
    "    histData = pd.DataFrame()\n",
    "    valid_tickers = []\n",
    "    \n",
    "    for ticker in trainingTickers:\n",
    "        print(f\"Processing {ticker}...\")\n",
    "        data = calculateFutureYearChange(ticker, timeFrame)\n",
    "        if not data.empty:\n",
    "            data['Ticker'] = ticker\n",
    "            data['Industry'] = yf.Ticker(ticker).info.get('industry', 'Unknown')\n",
    "            data['Date'] = pd.to_datetime(data['Date']).dt.tz_localize(None)\n",
    "            \n",
    "            # Enrich individual ticker data first\n",
    "            ticker_data = enrichDataWithMetrics(data)\n",
    "            histData = pd.concat([histData, ticker_data])\n",
    "            \n",
    "            # Check if metrics were added\n",
    "            if 'ROIC' not in ticker_data.columns:\n",
    "                print(f\"WARNING: Failed to add metrics for {ticker}\")\n",
    "            \n",
    "            valid_tickers.append(ticker)\n",
    "        else:\n",
    "            print(f\"Skipped {ticker} - insufficient data\")\n",
    "\n",
    "    print(f\"\\nColumns in final dataset: {histData.columns.tolist()}\")\n",
    "    \n",
    "    if not histData.empty:\n",
    "        histData = enrichDataWithMetrics(histData)\n",
    "        histData.to_csv(dataFolder / trainingData, index=True)\n",
    "        # Verify no future targets leaked to past dates\n",
    "        latest_date = pd.to_datetime(histData['Date']).max()\n",
    "        if 'Future Year Change' in histData.columns:\n",
    "            target_dates = histData[histData['Future Year Change'].notnull()]['Date']\n",
    "            if any(pd.to_datetime(target_dates) > latest_date):\n",
    "                raise ValueError(\"CRITICAL: Analyst targets contain future dates!\")\n",
    "        print(f\"Saved training data with {len(histData)} rows\")\n",
    "    else:\n",
    "        print(\"Warning: No data collected - check your tickers list\")"
   ]
  },
  {
   "cell_type": "code",
   "execution_count": 5,
   "metadata": {},
   "outputs": [
    {
     "name": "stderr",
     "output_type": "stream",
     "text": [
      "404 Client Error: Not Found for url: https://query2.finance.yahoo.com/v10/finance/quoteSummary/AAN?modules=financialData%2CquoteType%2CdefaultKeyStatistics%2CassetProfile%2CsummaryDetail&corsDomain=finance.yahoo.com&formatted=false&symbol=AAN&crumb=wMYLnRQb6Q9\n",
      "404 Client Error: Not Found for url: https://query2.finance.yahoo.com/v10/finance/quoteSummary/ABC?modules=financialData%2CquoteType%2CdefaultKeyStatistics%2CassetProfile%2CsummaryDetail&corsDomain=finance.yahoo.com&formatted=false&symbol=ABC&crumb=wMYLnRQb6Q9\n",
      "404 Client Error: Not Found for url: https://query2.finance.yahoo.com/v10/finance/quoteSummary/AEL?modules=financialData%2CquoteType%2CdefaultKeyStatistics%2CassetProfile%2CsummaryDetail&corsDomain=finance.yahoo.com&formatted=false&symbol=AEL&crumb=wMYLnRQb6Q9\n",
      "404 Client Error: Not Found for url: https://query2.finance.yahoo.com/v10/finance/quoteSummary/AFT?modules=financialData%2CquoteType%2CdefaultKeyStatistics%2CassetProfile%2CsummaryDetail&corsDomain=finance.yahoo.com&formatted=false&symbol=AFT&crumb=wMYLnRQb6Q9\n",
      "404 Client Error: Not Found for url: https://query2.finance.yahoo.com/v10/finance/quoteSummary/AFW?modules=financialData%2CquoteType%2CdefaultKeyStatistics%2CassetProfile%2CsummaryDetail&corsDomain=finance.yahoo.com&formatted=false&symbol=AFW&crumb=wMYLnRQb6Q9\n",
      "404 Client Error: Not Found for url: https://query2.finance.yahoo.com/v10/finance/quoteSummary/AGM.A?modules=financialData%2CquoteType%2CdefaultKeyStatistics%2CassetProfile%2CsummaryDetail&corsDomain=finance.yahoo.com&formatted=false&symbol=AGM.A&crumb=wMYLnRQb6Q9\n",
      "404 Client Error: Not Found for url: https://query2.finance.yahoo.com/v10/finance/quoteSummary/AGO-E?modules=financialData%2CquoteType%2CdefaultKeyStatistics%2CassetProfile%2CsummaryDetail&corsDomain=finance.yahoo.com&formatted=false&symbol=AGO-E&crumb=wMYLnRQb6Q9\n",
      "404 Client Error: Not Found for url: https://query2.finance.yahoo.com/v10/finance/quoteSummary/AGO-F?modules=financialData%2CquoteType%2CdefaultKeyStatistics%2CassetProfile%2CsummaryDetail&corsDomain=finance.yahoo.com&formatted=false&symbol=AGO-F&crumb=wMYLnRQb6Q9\n",
      "404 Client Error: Not Found for url: https://query2.finance.yahoo.com/v10/finance/quoteSummary/AHL-C?modules=financialData%2CquoteType%2CdefaultKeyStatistics%2CassetProfile%2CsummaryDetail&corsDomain=finance.yahoo.com&formatted=false&symbol=AHL-C&crumb=wMYLnRQb6Q9\n",
      "404 Client Error: Not Found for url: https://query2.finance.yahoo.com/v10/finance/quoteSummary/AIF?modules=financialData%2CquoteType%2CdefaultKeyStatistics%2CassetProfile%2CsummaryDetail&corsDomain=finance.yahoo.com&formatted=false&symbol=AIF&crumb=wMYLnRQb6Q9\n",
      "404 Client Error: Not Found for url: https://query2.finance.yahoo.com/v10/finance/quoteSummary/AIG-WT?modules=financialData%2CquoteType%2CdefaultKeyStatistics%2CassetProfile%2CsummaryDetail&corsDomain=finance.yahoo.com&formatted=false&symbol=AIG-WT&crumb=wMYLnRQb6Q9\n",
      "404 Client Error: Not Found for url: https://query2.finance.yahoo.com/v10/finance/quoteSummary/AIV-Z?modules=financialData%2CquoteType%2CdefaultKeyStatistics%2CassetProfile%2CsummaryDetail&corsDomain=finance.yahoo.com&formatted=false&symbol=AIV-Z&crumb=wMYLnRQb6Q9\n",
      "404 Client Error: Not Found for url: https://query2.finance.yahoo.com/v10/finance/quoteSummary/AKO.A?modules=financialData%2CquoteType%2CdefaultKeyStatistics%2CassetProfile%2CsummaryDetail&corsDomain=finance.yahoo.com&formatted=false&symbol=AKO.A&crumb=wMYLnRQb6Q9\n",
      "404 Client Error: Not Found for url: https://query2.finance.yahoo.com/v10/finance/quoteSummary/AKO.B?modules=financialData%2CquoteType%2CdefaultKeyStatistics%2CassetProfile%2CsummaryDetail&corsDomain=finance.yahoo.com&formatted=false&symbol=AKO.B&crumb=wMYLnRQb6Q9\n",
      "404 Client Error: Not Found for url: https://query2.finance.yahoo.com/v10/finance/quoteSummary/ALL-A?modules=financialData%2CquoteType%2CdefaultKeyStatistics%2CassetProfile%2CsummaryDetail&corsDomain=finance.yahoo.com&formatted=false&symbol=ALL-A&crumb=wMYLnRQb6Q9\n",
      "404 Client Error: Not Found for url: https://query2.finance.yahoo.com/v10/finance/quoteSummary/ALL-B?modules=financialData%2CquoteType%2CdefaultKeyStatistics%2CassetProfile%2CsummaryDetail&corsDomain=finance.yahoo.com&formatted=false&symbol=ALL-B&crumb=wMYLnRQb6Q9\n",
      "404 Client Error: Not Found for url: https://query2.finance.yahoo.com/v10/finance/quoteSummary/ALP-N?modules=financialData%2CquoteType%2CdefaultKeyStatistics%2CassetProfile%2CsummaryDetail&corsDomain=finance.yahoo.com&formatted=false&symbol=ALP-N&crumb=wMYLnRQb6Q9\n",
      "404 Client Error: Not Found for url: https://query2.finance.yahoo.com/v10/finance/quoteSummary/ALP-O?modules=financialData%2CquoteType%2CdefaultKeyStatistics%2CassetProfile%2CsummaryDetail&corsDomain=finance.yahoo.com&formatted=false&symbol=ALP-O&crumb=wMYLnRQb6Q9\n",
      "404 Client Error: Not Found for url: https://query2.finance.yahoo.com/v10/finance/quoteSummary/ALP-P?modules=financialData%2CquoteType%2CdefaultKeyStatistics%2CassetProfile%2CsummaryDetail&corsDomain=finance.yahoo.com&formatted=false&symbol=ALP-P&crumb=wMYLnRQb6Q9\n",
      "404 Client Error: Not Found for url: https://query2.finance.yahoo.com/v10/finance/quoteSummary/ALR-B?modules=financialData%2CquoteType%2CdefaultKeyStatistics%2CassetProfile%2CsummaryDetail&corsDomain=finance.yahoo.com&formatted=false&symbol=ALR-B&crumb=wMYLnRQb6Q9\n",
      "404 Client Error: Not Found for url: https://query2.finance.yahoo.com/v10/finance/quoteSummary/AMP-A?modules=financialData%2CquoteType%2CdefaultKeyStatistics%2CassetProfile%2CsummaryDetail&corsDomain=finance.yahoo.com&formatted=false&symbol=AMP-A&crumb=wMYLnRQb6Q9\n",
      "404 Client Error: Not Found for url: https://query2.finance.yahoo.com/v10/finance/quoteSummary/AMT-A?modules=financialData%2CquoteType%2CdefaultKeyStatistics%2CassetProfile%2CsummaryDetail&corsDomain=finance.yahoo.com&formatted=false&symbol=AMT-A&crumb=wMYLnRQb6Q9\n",
      "404 Client Error: Not Found for url: https://query2.finance.yahoo.com/v10/finance/quoteSummary/ANH-A?modules=financialData%2CquoteType%2CdefaultKeyStatistics%2CassetProfile%2CsummaryDetail&corsDomain=finance.yahoo.com&formatted=false&symbol=ANH-A&crumb=wMYLnRQb6Q9\n",
      "404 Client Error: Not Found for url: https://query2.finance.yahoo.com/v10/finance/quoteSummary/ANH-B?modules=financialData%2CquoteType%2CdefaultKeyStatistics%2CassetProfile%2CsummaryDetail&corsDomain=finance.yahoo.com&formatted=false&symbol=ANH-B&crumb=wMYLnRQb6Q9\n",
      "404 Client Error: Not Found for url: https://query2.finance.yahoo.com/v10/finance/quoteSummary/APA-D?modules=financialData%2CquoteType%2CdefaultKeyStatistics%2CassetProfile%2CsummaryDetail&corsDomain=finance.yahoo.com&formatted=false&symbol=APA-D&crumb=wMYLnRQb6Q9\n",
      "404 Client Error: Not Found for url: https://query2.finance.yahoo.com/v10/finance/quoteSummary/ARC?modules=financialData%2CquoteType%2CdefaultKeyStatistics%2CassetProfile%2CsummaryDetail&corsDomain=finance.yahoo.com&formatted=false&symbol=ARC&crumb=wMYLnRQb6Q9\n",
      "404 Client Error: Not Found for url: https://query2.finance.yahoo.com/v10/finance/quoteSummary/ARE-E?modules=financialData%2CquoteType%2CdefaultKeyStatistics%2CassetProfile%2CsummaryDetail&corsDomain=finance.yahoo.com&formatted=false&symbol=ARE-E&crumb=wMYLnRQb6Q9\n",
      "404 Client Error: Not Found for url: https://query2.finance.yahoo.com/v10/finance/quoteSummary/ARH-C?modules=financialData%2CquoteType%2CdefaultKeyStatistics%2CassetProfile%2CsummaryDetail&corsDomain=finance.yahoo.com&formatted=false&symbol=ARH-C&crumb=wMYLnRQb6Q9\n",
      "404 Client Error: Not Found for url: https://query2.finance.yahoo.com/v10/finance/quoteSummary/ARI-A?modules=financialData%2CquoteType%2CdefaultKeyStatistics%2CassetProfile%2CsummaryDetail&corsDomain=finance.yahoo.com&formatted=false&symbol=ARI-A&crumb=wMYLnRQb6Q9\n",
      "404 Client Error: Not Found for url: https://query2.finance.yahoo.com/v10/finance/quoteSummary/ARR-A?modules=financialData%2CquoteType%2CdefaultKeyStatistics%2CassetProfile%2CsummaryDetail&corsDomain=finance.yahoo.com&formatted=false&symbol=ARR-A&crumb=wMYLnRQb6Q9\n",
      "404 Client Error: Not Found for url: https://query2.finance.yahoo.com/v10/finance/quoteSummary/ARR-B?modules=financialData%2CquoteType%2CdefaultKeyStatistics%2CassetProfile%2CsummaryDetail&corsDomain=finance.yahoo.com&formatted=false&symbol=ARR-B&crumb=wMYLnRQb6Q9\n",
      "404 Client Error: Not Found for url: https://query2.finance.yahoo.com/v10/finance/quoteSummary/ARU?modules=financialData%2CquoteType%2CdefaultKeyStatistics%2CassetProfile%2CsummaryDetail&corsDomain=finance.yahoo.com&formatted=false&symbol=ARU&crumb=wMYLnRQb6Q9\n",
      "404 Client Error: Not Found for url: https://query2.finance.yahoo.com/v10/finance/quoteSummary/AU-A?modules=financialData%2CquoteType%2CdefaultKeyStatistics%2CassetProfile%2CsummaryDetail&corsDomain=finance.yahoo.com&formatted=false&symbol=AU-A&crumb=wMYLnRQb6Q9\n",
      "404 Client Error: Not Found for url: https://query2.finance.yahoo.com/v10/finance/quoteSummary/AVIV%20?modules=financialData%2CquoteType%2CdefaultKeyStatistics%2CassetProfile%2CsummaryDetail&corsDomain=finance.yahoo.com&formatted=false&symbol=AVIV+&crumb=wMYLnRQb6Q9\n",
      "404 Client Error: Not Found for url: https://query2.finance.yahoo.com/v10/finance/quoteSummary/AVV?modules=financialData%2CquoteType%2CdefaultKeyStatistics%2CassetProfile%2CsummaryDetail&corsDomain=finance.yahoo.com&formatted=false&symbol=AVV&crumb=wMYLnRQb6Q9\n",
      "404 Client Error: Not Found for url: https://query2.finance.yahoo.com/v10/finance/quoteSummary/AXS-C?modules=financialData%2CquoteType%2CdefaultKeyStatistics%2CassetProfile%2CsummaryDetail&corsDomain=finance.yahoo.com&formatted=false&symbol=AXS-C&crumb=wMYLnRQb6Q9\n",
      "404 Client Error: Not Found for url: https://query2.finance.yahoo.com/v10/finance/quoteSummary/AXS-D?modules=financialData%2CquoteType%2CdefaultKeyStatistics%2CassetProfile%2CsummaryDetail&corsDomain=finance.yahoo.com&formatted=false&symbol=AXS-D&crumb=wMYLnRQb6Q9\n",
      "404 Client Error: Not Found for url: https://query2.finance.yahoo.com/v10/finance/quoteSummary/BCS-A?modules=financialData%2CquoteType%2CdefaultKeyStatistics%2CassetProfile%2CsummaryDetail&corsDomain=finance.yahoo.com&formatted=false&symbol=BCS-A&crumb=wMYLnRQb6Q9\n",
      "404 Client Error: Not Found for url: https://query2.finance.yahoo.com/v10/finance/quoteSummary/BCS-C?modules=financialData%2CquoteType%2CdefaultKeyStatistics%2CassetProfile%2CsummaryDetail&corsDomain=finance.yahoo.com&formatted=false&symbol=BCS-C&crumb=wMYLnRQb6Q9\n",
      "404 Client Error: Not Found for url: https://query2.finance.yahoo.com/v10/finance/quoteSummary/BCS-D?modules=financialData%2CquoteType%2CdefaultKeyStatistics%2CassetProfile%2CsummaryDetail&corsDomain=finance.yahoo.com&formatted=false&symbol=BCS-D&crumb=wMYLnRQb6Q9\n",
      "404 Client Error: Not Found for url: https://query2.finance.yahoo.com/v10/finance/quoteSummary/BDN-E?modules=financialData%2CquoteType%2CdefaultKeyStatistics%2CassetProfile%2CsummaryDetail&corsDomain=finance.yahoo.com&formatted=false&symbol=BDN-E&crumb=wMYLnRQb6Q9\n",
      "404 Client Error: Not Found for url: https://query2.finance.yahoo.com/v10/finance/quoteSummary/BEE-A?modules=financialData%2CquoteType%2CdefaultKeyStatistics%2CassetProfile%2CsummaryDetail&corsDomain=finance.yahoo.com&formatted=false&symbol=BEE-A&crumb=wMYLnRQb6Q9\n",
      "404 Client Error: Not Found for url: https://query2.finance.yahoo.com/v10/finance/quoteSummary/BEE-B?modules=financialData%2CquoteType%2CdefaultKeyStatistics%2CassetProfile%2CsummaryDetail&corsDomain=finance.yahoo.com&formatted=false&symbol=BEE-B&crumb=wMYLnRQb6Q9\n",
      "404 Client Error: Not Found for url: https://query2.finance.yahoo.com/v10/finance/quoteSummary/BEE-C?modules=financialData%2CquoteType%2CdefaultKeyStatistics%2CassetProfile%2CsummaryDetail&corsDomain=finance.yahoo.com&formatted=false&symbol=BEE-C&crumb=wMYLnRQb6Q9\n",
      "404 Client Error: Not Found for url: https://query2.finance.yahoo.com/v10/finance/quoteSummary/BFS-A?modules=financialData%2CquoteType%2CdefaultKeyStatistics%2CassetProfile%2CsummaryDetail&corsDomain=finance.yahoo.com&formatted=false&symbol=BFS-A&crumb=wMYLnRQb6Q9\n",
      "404 Client Error: Not Found for url: https://query2.finance.yahoo.com/v10/finance/quoteSummary/BFS-C?modules=financialData%2CquoteType%2CdefaultKeyStatistics%2CassetProfile%2CsummaryDetail&corsDomain=finance.yahoo.com&formatted=false&symbol=BFS-C&crumb=wMYLnRQb6Q9\n",
      "404 Client Error: Not Found for url: https://query2.finance.yahoo.com/v10/finance/quoteSummary/BGCA?modules=financialData%2CquoteType%2CdefaultKeyStatistics%2CassetProfile%2CsummaryDetail&corsDomain=finance.yahoo.com&formatted=false&symbol=BGCA&crumb=wMYLnRQb6Q9\n",
      "404 Client Error: Not Found for url: https://query2.finance.yahoo.com/v10/finance/quoteSummary/BGE-B?modules=financialData%2CquoteType%2CdefaultKeyStatistics%2CassetProfile%2CsummaryDetail&corsDomain=finance.yahoo.com&formatted=false&symbol=BGE-B&crumb=wMYLnRQb6Q9\n",
      "404 Client Error: Not Found for url: https://query2.finance.yahoo.com/v10/finance/quoteSummary/BIG?modules=financialData%2CquoteType%2CdefaultKeyStatistics%2CassetProfile%2CsummaryDetail&corsDomain=finance.yahoo.com&formatted=false&symbol=BIG&crumb=wMYLnRQb6Q9\n",
      "404 Client Error: Not Found for url: https://query2.finance.yahoo.com/v10/finance/quoteSummary/BK-C?modules=financialData%2CquoteType%2CdefaultKeyStatistics%2CassetProfile%2CsummaryDetail&corsDomain=finance.yahoo.com&formatted=false&symbol=BK-C&crumb=wMYLnRQb6Q9\n",
      "404 Client Error: Not Found for url: https://query2.finance.yahoo.com/v10/finance/quoteSummary/BKI?modules=financialData%2CquoteType%2CdefaultKeyStatistics%2CassetProfile%2CsummaryDetail&corsDomain=finance.yahoo.com&formatted=false&symbol=BKI&crumb=wMYLnRQb6Q9\n",
      "404 Client Error: Not Found for url: https://query2.finance.yahoo.com/v10/finance/quoteSummary/BML-G?modules=financialData%2CquoteType%2CdefaultKeyStatistics%2CassetProfile%2CsummaryDetail&corsDomain=finance.yahoo.com&formatted=false&symbol=BML-G&crumb=wMYLnRQb6Q9\n",
      "404 Client Error: Not Found for url: https://query2.finance.yahoo.com/v10/finance/quoteSummary/BML-H?modules=financialData%2CquoteType%2CdefaultKeyStatistics%2CassetProfile%2CsummaryDetail&corsDomain=finance.yahoo.com&formatted=false&symbol=BML-H&crumb=wMYLnRQb6Q9\n",
      "404 Client Error: Not Found for url: https://query2.finance.yahoo.com/v10/finance/quoteSummary/BML-I?modules=financialData%2CquoteType%2CdefaultKeyStatistics%2CassetProfile%2CsummaryDetail&corsDomain=finance.yahoo.com&formatted=false&symbol=BML-I&crumb=wMYLnRQb6Q9\n",
      "404 Client Error: Not Found for url: https://query2.finance.yahoo.com/v10/finance/quoteSummary/BML-L?modules=financialData%2CquoteType%2CdefaultKeyStatistics%2CassetProfile%2CsummaryDetail&corsDomain=finance.yahoo.com&formatted=false&symbol=BML-L&crumb=wMYLnRQb6Q9\n",
      "404 Client Error: Not Found for url: https://query2.finance.yahoo.com/v10/finance/quoteSummary/BRE-D?modules=financialData%2CquoteType%2CdefaultKeyStatistics%2CassetProfile%2CsummaryDetail&corsDomain=finance.yahoo.com&formatted=false&symbol=BRE-D&crumb=wMYLnRQb6Q9\n",
      "404 Client Error: Not Found for url: https://query2.finance.yahoo.com/v10/finance/quoteSummary/BRP?modules=financialData%2CquoteType%2CdefaultKeyStatistics%2CassetProfile%2CsummaryDetail&corsDomain=finance.yahoo.com&formatted=false&symbol=BRP&crumb=wMYLnRQb6Q9\n",
      "404 Client Error: Not Found for url: https://query2.finance.yahoo.com/v10/finance/quoteSummary/BWC?modules=financialData%2CquoteType%2CdefaultKeyStatistics%2CassetProfile%2CsummaryDetail&corsDomain=finance.yahoo.com&formatted=false&symbol=BWC&crumb=wMYLnRQb6Q9\n",
      "404 Client Error: Not Found for url: https://query2.finance.yahoo.com/v10/finance/quoteSummary/BXP-B?modules=financialData%2CquoteType%2CdefaultKeyStatistics%2CassetProfile%2CsummaryDetail&corsDomain=finance.yahoo.com&formatted=false&symbol=BXP-B&crumb=wMYLnRQb6Q9\n",
      "404 Client Error: Not Found for url: https://query2.finance.yahoo.com/v10/finance/quoteSummary/BXS-A?modules=financialData%2CquoteType%2CdefaultKeyStatistics%2CassetProfile%2CsummaryDetail&corsDomain=finance.yahoo.com&formatted=false&symbol=BXS-A&crumb=wMYLnRQb6Q9\n",
      "404 Client Error: Not Found for url: https://query2.finance.yahoo.com/v10/finance/quoteSummary/BZT?modules=financialData%2CquoteType%2CdefaultKeyStatistics%2CassetProfile%2CsummaryDetail&corsDomain=finance.yahoo.com&formatted=false&symbol=BZT&crumb=wMYLnRQb6Q9\n",
      "404 Client Error: Not Found for url: https://query2.finance.yahoo.com/v10/finance/quoteSummary/C-C?modules=financialData%2CquoteType%2CdefaultKeyStatistics%2CassetProfile%2CsummaryDetail&corsDomain=finance.yahoo.com&formatted=false&symbol=C-C&crumb=wMYLnRQb6Q9\n",
      "404 Client Error: Not Found for url: https://query2.finance.yahoo.com/v10/finance/quoteSummary/C-E?modules=financialData%2CquoteType%2CdefaultKeyStatistics%2CassetProfile%2CsummaryDetail&corsDomain=finance.yahoo.com&formatted=false&symbol=C-E&crumb=wMYLnRQb6Q9\n",
      "404 Client Error: Not Found for url: https://query2.finance.yahoo.com/v10/finance/quoteSummary/C-N?modules=financialData%2CquoteType%2CdefaultKeyStatistics%2CassetProfile%2CsummaryDetail&corsDomain=finance.yahoo.com&formatted=false&symbol=C-N&crumb=wMYLnRQb6Q9\n",
      "404 Client Error: Not Found for url: https://query2.finance.yahoo.com/v10/finance/quoteSummary/C-P?modules=financialData%2CquoteType%2CdefaultKeyStatistics%2CassetProfile%2CsummaryDetail&corsDomain=finance.yahoo.com&formatted=false&symbol=C-P&crumb=wMYLnRQb6Q9\n",
      "404 Client Error: Not Found for url: https://query2.finance.yahoo.com/v10/finance/quoteSummary/C-Q?modules=financialData%2CquoteType%2CdefaultKeyStatistics%2CassetProfile%2CsummaryDetail&corsDomain=finance.yahoo.com&formatted=false&symbol=C-Q&crumb=wMYLnRQb6Q9\n",
      "404 Client Error: Not Found for url: https://query2.finance.yahoo.com/v10/finance/quoteSummary/C-R?modules=financialData%2CquoteType%2CdefaultKeyStatistics%2CassetProfile%2CsummaryDetail&corsDomain=finance.yahoo.com&formatted=false&symbol=C-R&crumb=wMYLnRQb6Q9\n",
      "404 Client Error: Not Found for url: https://query2.finance.yahoo.com/v10/finance/quoteSummary/C-S?modules=financialData%2CquoteType%2CdefaultKeyStatistics%2CassetProfile%2CsummaryDetail&corsDomain=finance.yahoo.com&formatted=false&symbol=C-S&crumb=wMYLnRQb6Q9\n",
      "404 Client Error: Not Found for url: https://query2.finance.yahoo.com/v10/finance/quoteSummary/C.A?modules=financialData%2CquoteType%2CdefaultKeyStatistics%2CassetProfile%2CsummaryDetail&corsDomain=finance.yahoo.com&formatted=false&symbol=C.A&crumb=wMYLnRQb6Q9\n",
      "404 Client Error: Not Found for url: https://query2.finance.yahoo.com/v10/finance/quoteSummary/CBD?modules=financialData%2CquoteType%2CdefaultKeyStatistics%2CassetProfile%2CsummaryDetail&corsDomain=finance.yahoo.com&formatted=false&symbol=CBD&crumb=wMYLnRQb6Q9\n",
      "404 Client Error: Not Found for url: https://query2.finance.yahoo.com/v10/finance/quoteSummary/CBL-D?modules=financialData%2CquoteType%2CdefaultKeyStatistics%2CassetProfile%2CsummaryDetail&corsDomain=finance.yahoo.com&formatted=false&symbol=CBL-D&crumb=wMYLnRQb6Q9\n",
      "404 Client Error: Not Found for url: https://query2.finance.yahoo.com/v10/finance/quoteSummary/CBL-E?modules=financialData%2CquoteType%2CdefaultKeyStatistics%2CassetProfile%2CsummaryDetail&corsDomain=finance.yahoo.com&formatted=false&symbol=CBL-E&crumb=wMYLnRQb6Q9\n",
      "404 Client Error: Not Found for url: https://query2.finance.yahoo.com/v10/finance/quoteSummary/CBO?modules=financialData%2CquoteType%2CdefaultKeyStatistics%2CassetProfile%2CsummaryDetail&corsDomain=finance.yahoo.com&formatted=false&symbol=CBO&crumb=wMYLnRQb6Q9\n",
      "404 Client Error: Not Found for url: https://query2.finance.yahoo.com/v10/finance/quoteSummary/CBS.A?modules=financialData%2CquoteType%2CdefaultKeyStatistics%2CassetProfile%2CsummaryDetail&corsDomain=finance.yahoo.com&formatted=false&symbol=CBS.A&crumb=wMYLnRQb6Q9\n",
      "404 Client Error: Not Found for url: https://query2.finance.yahoo.com/v10/finance/quoteSummary/CBX?modules=financialData%2CquoteType%2CdefaultKeyStatistics%2CassetProfile%2CsummaryDetail&corsDomain=finance.yahoo.com&formatted=false&symbol=CBX&crumb=wMYLnRQb6Q9\n",
      "404 Client Error: Not Found for url: https://query2.finance.yahoo.com/v10/finance/quoteSummary/CCG-A?modules=financialData%2CquoteType%2CdefaultKeyStatistics%2CassetProfile%2CsummaryDetail&corsDomain=finance.yahoo.com&formatted=false&symbol=CCG-A&crumb=wMYLnRQb6Q9\n",
      "404 Client Error: Not Found for url: https://query2.finance.yahoo.com/v10/finance/quoteSummary/CCV?modules=financialData%2CquoteType%2CdefaultKeyStatistics%2CassetProfile%2CsummaryDetail&corsDomain=finance.yahoo.com&formatted=false&symbol=CCV&crumb=wMYLnRQb6Q9\n",
      "404 Client Error: Not Found for url: https://query2.finance.yahoo.com/v10/finance/quoteSummary/CDE.W?modules=financialData%2CquoteType%2CdefaultKeyStatistics%2CassetProfile%2CsummaryDetail&corsDomain=finance.yahoo.com&formatted=false&symbol=CDE.W&crumb=wMYLnRQb6Q9\n",
      "404 Client Error: Not Found for url: https://query2.finance.yahoo.com/v10/finance/quoteSummary/CDR-B?modules=financialData%2CquoteType%2CdefaultKeyStatistics%2CassetProfile%2CsummaryDetail&corsDomain=finance.yahoo.com&formatted=false&symbol=CDR-B&crumb=wMYLnRQb6Q9\n",
      "404 Client Error: Not Found for url: https://query2.finance.yahoo.com/v10/finance/quoteSummary/CEM?modules=financialData%2CquoteType%2CdefaultKeyStatistics%2CassetProfile%2CsummaryDetail&corsDomain=finance.yahoo.com&formatted=false&symbol=CEM&crumb=wMYLnRQb6Q9\n",
      "404 Client Error: Not Found for url: https://query2.finance.yahoo.com/v10/finance/quoteSummary/CFC-A?modules=financialData%2CquoteType%2CdefaultKeyStatistics%2CassetProfile%2CsummaryDetail&corsDomain=finance.yahoo.com&formatted=false&symbol=CFC-A&crumb=wMYLnRQb6Q9\n",
      "404 Client Error: Not Found for url: https://query2.finance.yahoo.com/v10/finance/quoteSummary/CFR-A?modules=financialData%2CquoteType%2CdefaultKeyStatistics%2CassetProfile%2CsummaryDetail&corsDomain=finance.yahoo.com&formatted=false&symbol=CFR-A&crumb=wMYLnRQb6Q9\n",
      "404 Client Error: Not Found for url: https://query2.finance.yahoo.com/v10/finance/quoteSummary/CHC.W?modules=financialData%2CquoteType%2CdefaultKeyStatistics%2CassetProfile%2CsummaryDetail&corsDomain=finance.yahoo.com&formatted=false&symbol=CHC.W&crumb=wMYLnRQb6Q9\n",
      "404 Client Error: Not Found for url: https://query2.finance.yahoo.com/v10/finance/quoteSummary/CHK?modules=financialData%2CquoteType%2CdefaultKeyStatistics%2CassetProfile%2CsummaryDetail&corsDomain=finance.yahoo.com&formatted=false&symbol=CHK&crumb=wMYLnRQb6Q9\n",
      "404 Client Error: Not Found for url: https://query2.finance.yahoo.com/v10/finance/quoteSummary/CHK-D?modules=financialData%2CquoteType%2CdefaultKeyStatistics%2CassetProfile%2CsummaryDetail&corsDomain=finance.yahoo.com&formatted=false&symbol=CHK-D&crumb=wMYLnRQb6Q9\n",
      "404 Client Error: Not Found for url: https://query2.finance.yahoo.com/v10/finance/quoteSummary/CHS?modules=financialData%2CquoteType%2CdefaultKeyStatistics%2CassetProfile%2CsummaryDetail&corsDomain=finance.yahoo.com&formatted=false&symbol=CHS&crumb=wMYLnRQb6Q9\n",
      "404 Client Error: Not Found for url: https://query2.finance.yahoo.com/v10/finance/quoteSummary/CHS-A?modules=financialData%2CquoteType%2CdefaultKeyStatistics%2CassetProfile%2CsummaryDetail&corsDomain=finance.yahoo.com&formatted=false&symbol=CHS-A&crumb=wMYLnRQb6Q9\n",
      "404 Client Error: Not Found for url: https://query2.finance.yahoo.com/v10/finance/quoteSummary/CIG.C?modules=financialData%2CquoteType%2CdefaultKeyStatistics%2CassetProfile%2CsummaryDetail&corsDomain=finance.yahoo.com&formatted=false&symbol=CIG.C&crumb=wMYLnRQb6Q9\n",
      "404 Client Error: Not Found for url: https://query2.finance.yahoo.com/v10/finance/quoteSummary/CIR?modules=financialData%2CquoteType%2CdefaultKeyStatistics%2CassetProfile%2CsummaryDetail&corsDomain=finance.yahoo.com&formatted=false&symbol=CIR&crumb=wMYLnRQb6Q9\n",
      "404 Client Error: Not Found for url: https://query2.finance.yahoo.com/v10/finance/quoteSummary/CLN-A?modules=financialData%2CquoteType%2CdefaultKeyStatistics%2CassetProfile%2CsummaryDetail&corsDomain=finance.yahoo.com&formatted=false&symbol=CLN-A&crumb=wMYLnRQb6Q9\n",
      "404 Client Error: Not Found for url: https://query2.finance.yahoo.com/v10/finance/quoteSummary/CMA.W?modules=financialData%2CquoteType%2CdefaultKeyStatistics%2CassetProfile%2CsummaryDetail&corsDomain=finance.yahoo.com&formatted=false&symbol=CMA.W&crumb=wMYLnRQb6Q9\n",
      "404 Client Error: Not Found for url: https://query2.finance.yahoo.com/v10/finance/quoteSummary/CMO-E?modules=financialData%2CquoteType%2CdefaultKeyStatistics%2CassetProfile%2CsummaryDetail&corsDomain=finance.yahoo.com&formatted=false&symbol=CMO-E&crumb=wMYLnRQb6Q9\n",
      "404 Client Error: Not Found for url: https://query2.finance.yahoo.com/v10/finance/quoteSummary/CMS-B?modules=financialData%2CquoteType%2CdefaultKeyStatistics%2CassetProfile%2CsummaryDetail&corsDomain=finance.yahoo.com&formatted=false&symbol=CMS-B&crumb=wMYLnRQb6Q9\n",
      "404 Client Error: Not Found for url: https://query2.finance.yahoo.com/v10/finance/quoteSummary/COF-P?modules=financialData%2CquoteType%2CdefaultKeyStatistics%2CassetProfile%2CsummaryDetail&corsDomain=finance.yahoo.com&formatted=false&symbol=COF-P&crumb=wMYLnRQb6Q9\n",
      "404 Client Error: Not Found for url: https://query2.finance.yahoo.com/v10/finance/quoteSummary/COF.W?modules=financialData%2CquoteType%2CdefaultKeyStatistics%2CassetProfile%2CsummaryDetail&corsDomain=finance.yahoo.com&formatted=false&symbol=COF.W&crumb=wMYLnRQb6Q9\n",
      "404 Client Error: Not Found for url: https://query2.finance.yahoo.com/v10/finance/quoteSummary/COR-A?modules=financialData%2CquoteType%2CdefaultKeyStatistics%2CassetProfile%2CsummaryDetail&corsDomain=finance.yahoo.com&formatted=false&symbol=COR-A&crumb=wMYLnRQb6Q9\n",
      "404 Client Error: Not Found for url: https://query2.finance.yahoo.com/v10/finance/quoteSummary/CPE?modules=financialData%2CquoteType%2CdefaultKeyStatistics%2CassetProfile%2CsummaryDetail&corsDomain=finance.yahoo.com&formatted=false&symbol=CPE&crumb=wMYLnRQb6Q9\n",
      "404 Client Error: Not Found for url: https://query2.finance.yahoo.com/v10/finance/quoteSummary/CPE-A?modules=financialData%2CquoteType%2CdefaultKeyStatistics%2CassetProfile%2CsummaryDetail&corsDomain=finance.yahoo.com&formatted=false&symbol=CPE-A&crumb=wMYLnRQb6Q9\n",
      "404 Client Error: Not Found for url: https://query2.finance.yahoo.com/v10/finance/quoteSummary/CTR?modules=financialData%2CquoteType%2CdefaultKeyStatistics%2CassetProfile%2CsummaryDetail&corsDomain=finance.yahoo.com&formatted=false&symbol=CTR&crumb=wMYLnRQb6Q9\n",
      "404 Client Error: Not Found for url: https://query2.finance.yahoo.com/v10/finance/quoteSummary/CTW?modules=financialData%2CquoteType%2CdefaultKeyStatistics%2CassetProfile%2CsummaryDetail&corsDomain=finance.yahoo.com&formatted=false&symbol=CTW&crumb=wMYLnRQb6Q9\n",
      "404 Client Error: Not Found for url: https://query2.finance.yahoo.com/v10/finance/quoteSummary/CTY?modules=financialData%2CquoteType%2CdefaultKeyStatistics%2CassetProfile%2CsummaryDetail&corsDomain=finance.yahoo.com&formatted=false&symbol=CTY&crumb=wMYLnRQb6Q9\n",
      "404 Client Error: Not Found for url: https://query2.finance.yahoo.com/v10/finance/quoteSummary/CTZ-A?modules=financialData%2CquoteType%2CdefaultKeyStatistics%2CassetProfile%2CsummaryDetail&corsDomain=finance.yahoo.com&formatted=false&symbol=CTZ-A&crumb=wMYLnRQb6Q9\n",
      "404 Client Error: Not Found for url: https://query2.finance.yahoo.com/v10/finance/quoteSummary/CUB-A?modules=financialData%2CquoteType%2CdefaultKeyStatistics%2CassetProfile%2CsummaryDetail&corsDomain=finance.yahoo.com&formatted=false&symbol=CUB-A&crumb=wMYLnRQb6Q9\n",
      "404 Client Error: Not Found for url: https://query2.finance.yahoo.com/v10/finance/quoteSummary/CUZ-B?modules=financialData%2CquoteType%2CdefaultKeyStatistics%2CassetProfile%2CsummaryDetail&corsDomain=finance.yahoo.com&formatted=false&symbol=CUZ-B&crumb=wMYLnRQb6Q9\n",
      "404 Client Error: Not Found for url: https://query2.finance.yahoo.com/v10/finance/quoteSummary/CWH-D?modules=financialData%2CquoteType%2CdefaultKeyStatistics%2CassetProfile%2CsummaryDetail&corsDomain=finance.yahoo.com&formatted=false&symbol=CWH-D&crumb=wMYLnRQb6Q9\n",
      "404 Client Error: Not Found for url: https://query2.finance.yahoo.com/v10/finance/quoteSummary/CWH-E?modules=financialData%2CquoteType%2CdefaultKeyStatistics%2CassetProfile%2CsummaryDetail&corsDomain=finance.yahoo.com&formatted=false&symbol=CWH-E&crumb=wMYLnRQb6Q9\n",
      "404 Client Error: Not Found for url: https://query2.finance.yahoo.com/v10/finance/quoteSummary/CWHN?modules=financialData%2CquoteType%2CdefaultKeyStatistics%2CassetProfile%2CsummaryDetail&corsDomain=finance.yahoo.com&formatted=false&symbol=CWHN&crumb=wMYLnRQb6Q9\n",
      "404 Client Error: Not Found for url: https://query2.finance.yahoo.com/v10/finance/quoteSummary/CWHO?modules=financialData%2CquoteType%2CdefaultKeyStatistics%2CassetProfile%2CsummaryDetail&corsDomain=finance.yahoo.com&formatted=false&symbol=CWHO&crumb=wMYLnRQb6Q9\n",
      "404 Client Error: Not Found for url: https://query2.finance.yahoo.com/v10/finance/quoteSummary/CYN-C?modules=financialData%2CquoteType%2CdefaultKeyStatistics%2CassetProfile%2CsummaryDetail&corsDomain=finance.yahoo.com&formatted=false&symbol=CYN-C&crumb=wMYLnRQb6Q9\n",
      "404 Client Error: Not Found for url: https://query2.finance.yahoo.com/v10/finance/quoteSummary/CYS-A?modules=financialData%2CquoteType%2CdefaultKeyStatistics%2CassetProfile%2CsummaryDetail&corsDomain=finance.yahoo.com&formatted=false&symbol=CYS-A&crumb=wMYLnRQb6Q9\n",
      "404 Client Error: Not Found for url: https://query2.finance.yahoo.com/v10/finance/quoteSummary/CYS-B?modules=financialData%2CquoteType%2CdefaultKeyStatistics%2CassetProfile%2CsummaryDetail&corsDomain=finance.yahoo.com&formatted=false&symbol=CYS-B&crumb=wMYLnRQb6Q9\n",
      "404 Client Error: Not Found for url: https://query2.finance.yahoo.com/v10/finance/quoteSummary/CYT?modules=financialData%2CquoteType%2CdefaultKeyStatistics%2CassetProfile%2CsummaryDetail&corsDomain=finance.yahoo.com&formatted=false&symbol=CYT&crumb=wMYLnRQb6Q9\n",
      "404 Client Error: Not Found for url: https://query2.finance.yahoo.com/v10/finance/quoteSummary/DCE?modules=financialData%2CquoteType%2CdefaultKeyStatistics%2CassetProfile%2CsummaryDetail&corsDomain=finance.yahoo.com&formatted=false&symbol=DCE&crumb=wMYLnRQb6Q9\n",
      "404 Client Error: Not Found for url: https://query2.finance.yahoo.com/v10/finance/quoteSummary/DCUA?modules=financialData%2CquoteType%2CdefaultKeyStatistics%2CassetProfile%2CsummaryDetail&corsDomain=finance.yahoo.com&formatted=false&symbol=DCUA&crumb=wMYLnRQb6Q9\n",
      "404 Client Error: Not Found for url: https://query2.finance.yahoo.com/v10/finance/quoteSummary/DCUB?modules=financialData%2CquoteType%2CdefaultKeyStatistics%2CassetProfile%2CsummaryDetail&corsDomain=finance.yahoo.com&formatted=false&symbol=DCUB&crumb=wMYLnRQb6Q9\n",
      "404 Client Error: Not Found for url: https://query2.finance.yahoo.com/v10/finance/quoteSummary/DD-A?modules=financialData%2CquoteType%2CdefaultKeyStatistics%2CassetProfile%2CsummaryDetail&corsDomain=finance.yahoo.com&formatted=false&symbol=DD-A&crumb=wMYLnRQb6Q9\n",
      "404 Client Error: Not Found for url: https://query2.finance.yahoo.com/v10/finance/quoteSummary/DD-B?modules=financialData%2CquoteType%2CdefaultKeyStatistics%2CassetProfile%2CsummaryDetail&corsDomain=finance.yahoo.com&formatted=false&symbol=DD-B&crumb=wMYLnRQb6Q9\n",
      "404 Client Error: Not Found for url: https://query2.finance.yahoo.com/v10/finance/quoteSummary/DDF?modules=financialData%2CquoteType%2CdefaultKeyStatistics%2CassetProfile%2CsummaryDetail&corsDomain=finance.yahoo.com&formatted=false&symbol=DDF&crumb=wMYLnRQb6Q9\n",
      "404 Client Error: Not Found for url: https://query2.finance.yahoo.com/v10/finance/quoteSummary/DDR-H?modules=financialData%2CquoteType%2CdefaultKeyStatistics%2CassetProfile%2CsummaryDetail&corsDomain=finance.yahoo.com&formatted=false&symbol=DDR-H&crumb=wMYLnRQb6Q9\n",
      "404 Client Error: Not Found for url: https://query2.finance.yahoo.com/v10/finance/quoteSummary/DDR-J?modules=financialData%2CquoteType%2CdefaultKeyStatistics%2CassetProfile%2CsummaryDetail&corsDomain=finance.yahoo.com&formatted=false&symbol=DDR-J&crumb=wMYLnRQb6Q9\n",
      "404 Client Error: Not Found for url: https://query2.finance.yahoo.com/v10/finance/quoteSummary/DDR-K?modules=financialData%2CquoteType%2CdefaultKeyStatistics%2CassetProfile%2CsummaryDetail&corsDomain=finance.yahoo.com&formatted=false&symbol=DDR-K&crumb=wMYLnRQb6Q9\n",
      "404 Client Error: Not Found for url: https://query2.finance.yahoo.com/v10/finance/quoteSummary/DEX?modules=financialData%2CquoteType%2CdefaultKeyStatistics%2CassetProfile%2CsummaryDetail&corsDomain=finance.yahoo.com&formatted=false&symbol=DEX&crumb=wMYLnRQb6Q9\n",
      "404 Client Error: Not Found for url: https://query2.finance.yahoo.com/v10/finance/quoteSummary/DFS-B?modules=financialData%2CquoteType%2CdefaultKeyStatistics%2CassetProfile%2CsummaryDetail&corsDomain=finance.yahoo.com&formatted=false&symbol=DFS-B&crumb=wMYLnRQb6Q9\n",
      "404 Client Error: Not Found for url: https://query2.finance.yahoo.com/v10/finance/quoteSummary/DFT-A?modules=financialData%2CquoteType%2CdefaultKeyStatistics%2CassetProfile%2CsummaryDetail&corsDomain=finance.yahoo.com&formatted=false&symbol=DFT-A&crumb=wMYLnRQb6Q9\n",
      "404 Client Error: Not Found for url: https://query2.finance.yahoo.com/v10/finance/quoteSummary/DFT-B?modules=financialData%2CquoteType%2CdefaultKeyStatistics%2CassetProfile%2CsummaryDetail&corsDomain=finance.yahoo.com&formatted=false&symbol=DFT-B&crumb=wMYLnRQb6Q9\n",
      "404 Client Error: Not Found for url: https://query2.finance.yahoo.com/v10/finance/quoteSummary/DLR-E?modules=financialData%2CquoteType%2CdefaultKeyStatistics%2CassetProfile%2CsummaryDetail&corsDomain=finance.yahoo.com&formatted=false&symbol=DLR-E&crumb=wMYLnRQb6Q9\n",
      "404 Client Error: Not Found for url: https://query2.finance.yahoo.com/v10/finance/quoteSummary/DLR-F?modules=financialData%2CquoteType%2CdefaultKeyStatistics%2CassetProfile%2CsummaryDetail&corsDomain=finance.yahoo.com&formatted=false&symbol=DLR-F&crumb=wMYLnRQb6Q9\n",
      "404 Client Error: Not Found for url: https://query2.finance.yahoo.com/v10/finance/quoteSummary/DLR-G?modules=financialData%2CquoteType%2CdefaultKeyStatistics%2CassetProfile%2CsummaryDetail&corsDomain=finance.yahoo.com&formatted=false&symbol=DLR-G&crumb=wMYLnRQb6Q9\n",
      "404 Client Error: Not Found for url: https://query2.finance.yahoo.com/v10/finance/quoteSummary/DM-B?modules=financialData%2CquoteType%2CdefaultKeyStatistics%2CassetProfile%2CsummaryDetail&corsDomain=finance.yahoo.com&formatted=false&symbol=DM-B&crumb=wMYLnRQb6Q9\n",
      "404 Client Error: Not Found for url: https://query2.finance.yahoo.com/v10/finance/quoteSummary/DO?modules=financialData%2CquoteType%2CdefaultKeyStatistics%2CassetProfile%2CsummaryDetail&corsDomain=finance.yahoo.com&formatted=false&symbol=DO&crumb=wMYLnRQb6Q9\n",
      "404 Client Error: Not Found for url: https://query2.finance.yahoo.com/v10/finance/quoteSummary/DRE-J?modules=financialData%2CquoteType%2CdefaultKeyStatistics%2CassetProfile%2CsummaryDetail&corsDomain=finance.yahoo.com&formatted=false&symbol=DRE-J&crumb=wMYLnRQb6Q9\n",
      "404 Client Error: Not Found for url: https://query2.finance.yahoo.com/v10/finance/quoteSummary/DRE-K?modules=financialData%2CquoteType%2CdefaultKeyStatistics%2CassetProfile%2CsummaryDetail&corsDomain=finance.yahoo.com&formatted=false&symbol=DRE-K&crumb=wMYLnRQb6Q9\n",
      "404 Client Error: Not Found for url: https://query2.finance.yahoo.com/v10/finance/quoteSummary/DRE-L?modules=financialData%2CquoteType%2CdefaultKeyStatistics%2CassetProfile%2CsummaryDetail&corsDomain=finance.yahoo.com&formatted=false&symbol=DRE-L&crumb=wMYLnRQb6Q9\n"
     ]
    },
    {
     "name": "stdout",
     "output_type": "stream",
     "text": [
      "Error fetching data for DTQ: Too Many Requests. Rate limited. Try after a while.\n",
      "Error fetching data for DTT: Too Many Requests. Rate limited. Try after a while.\n",
      "Error fetching data for DTZ: Too Many Requests. Rate limited. Try after a while.\n",
      "Error fetching data for DUA: Too Many Requests. Rate limited. Try after a while.\n",
      "Error fetching data for DUC: Too Many Requests. Rate limited. Try after a while.\n",
      "Error fetching data for DUK: Too Many Requests. Rate limited. Try after a while.\n",
      "Error fetching data for DUKH: Too Many Requests. Rate limited. Try after a while.\n",
      "Error fetching data for DV: Too Many Requests. Rate limited. Try after a while.\n",
      "Error fetching data for DVA: Too Many Requests. Rate limited. Try after a while.\n",
      "Error fetching data for DVM: Too Many Requests. Rate limited. Try after a while.\n",
      "Error fetching data for DVN: Too Many Requests. Rate limited. Try after a while.\n",
      "Error fetching data for DVR: Too Many Requests. Rate limited. Try after a while.\n",
      "Error fetching data for DW: Too Many Requests. Rate limited. Try after a while.\n",
      "Error fetching data for DWRE: Too Many Requests. Rate limited. Try after a while.\n",
      "Error fetching data for DX: Too Many Requests. Rate limited. Try after a while.\n",
      "Error fetching data for DX-A: Too Many Requests. Rate limited. Try after a while.\n",
      "Error fetching data for DX-B: Too Many Requests. Rate limited. Try after a while.\n",
      "Error fetching data for DXB: Too Many Requests. Rate limited. Try after a while.\n",
      "Error fetching data for DY: Too Many Requests. Rate limited. Try after a while.\n",
      "Error fetching data for DYN: Too Many Requests. Rate limited. Try after a while.\n",
      "Error fetching data for DYN.W: Too Many Requests. Rate limited. Try after a while.\n",
      "Error fetching data for E: Too Many Requests. Rate limited. Try after a while.\n",
      "Error fetching data for EAA: Too Many Requests. Rate limited. Try after a while.\n",
      "Error fetching data for EAB: Too Many Requests. Rate limited. Try after a while.\n",
      "Error fetching data for EAE: Too Many Requests. Rate limited. Try after a while.\n",
      "Error fetching data for EARN: Too Many Requests. Rate limited. Try after a while.\n",
      "Error fetching data for EAT: Too Many Requests. Rate limited. Try after a while.\n",
      "Error fetching data for EBF: Too Many Requests. Rate limited. Try after a while.\n",
      "Error fetching data for EBR: Too Many Requests. Rate limited. Try after a while.\n",
      "Error fetching data for EBR.B: Too Many Requests. Rate limited. Try after a while.\n",
      "Error fetching data for EBS: Too Many Requests. Rate limited. Try after a while.\n",
      "Error fetching data for EC: Too Many Requests. Rate limited. Try after a while.\n",
      "Error fetching data for ECA: Too Many Requests. Rate limited. Try after a while.\n",
      "Error fetching data for ECL: Too Many Requests. Rate limited. Try after a while.\n",
      "Error fetching data for ECOM: Too Many Requests. Rate limited. Try after a while.\n",
      "Error fetching data for ECT: Too Many Requests. Rate limited. Try after a while.\n",
      "Error fetching data for ED: Too Many Requests. Rate limited. Try after a while.\n",
      "Error fetching data for EDD: Too Many Requests. Rate limited. Try after a while.\n",
      "Error fetching data for EDE: Too Many Requests. Rate limited. Try after a while.\n",
      "Error fetching data for EDF: Too Many Requests. Rate limited. Try after a while.\n",
      "Error fetching data for EDG: Too Many Requests. Rate limited. Try after a while.\n",
      "Error fetching data for EDI: Too Many Requests. Rate limited. Try after a while.\n",
      "Error fetching data for EDN: Too Many Requests. Rate limited. Try after a while.\n",
      "Error fetching data for EDU: Too Many Requests. Rate limited. Try after a while.\n",
      "Error fetching data for EE: Too Many Requests. Rate limited. Try after a while.\n",
      "Error fetching data for EEA: Too Many Requests. Rate limited. Try after a while.\n",
      "Error fetching data for EEP: Too Many Requests. Rate limited. Try after a while.\n",
      "Error fetching data for EEQ: Too Many Requests. Rate limited. Try after a while.\n",
      "Error fetching data for EFC: Too Many Requests. Rate limited. Try after a while.\n",
      "Error fetching data for EFF: Too Many Requests. Rate limited. Try after a while.\n",
      "Error fetching data for EFM: Too Many Requests. Rate limited. Try after a while.\n",
      "Error fetching data for EFR: Too Many Requests. Rate limited. Try after a while.\n",
      "Error fetching data for EFT: Too Many Requests. Rate limited. Try after a while.\n",
      "Error fetching data for EFX: Too Many Requests. Rate limited. Try after a while.\n",
      "Error fetching data for EGF: Too Many Requests. Rate limited. Try after a while.\n",
      "Error fetching data for EGL: Too Many Requests. Rate limited. Try after a while.\n",
      "Error fetching data for EGN: Too Many Requests. Rate limited. Try after a while.\n",
      "Error fetching data for EGO: Too Many Requests. Rate limited. Try after a while.\n",
      "Error fetching data for EGP: Too Many Requests. Rate limited. Try after a while.\n",
      "Error fetching data for EGY: Too Many Requests. Rate limited. Try after a while.\n",
      "Error fetching data for EHI: Too Many Requests. Rate limited. Try after a while.\n",
      "Error fetching data for EIG: Too Many Requests. Rate limited. Try after a while.\n",
      "Error fetching data for EIX: Too Many Requests. Rate limited. Try after a while.\n",
      "Error fetching data for EJ: Too Many Requests. Rate limited. Try after a while.\n",
      "Error fetching data for EL: Too Many Requests. Rate limited. Try after a while.\n",
      "Error fetching data for ELA: Too Many Requests. Rate limited. Try after a while.\n",
      "Error fetching data for ELB: Too Many Requests. Rate limited. Try after a while.\n",
      "Error fetching data for ELJ: Too Many Requests. Rate limited. Try after a while.\n",
      "Error fetching data for ELLI: Too Many Requests. Rate limited. Try after a while.\n",
      "Error fetching data for ELN: Too Many Requests. Rate limited. Try after a while.\n",
      "Error fetching data for ELP: Too Many Requests. Rate limited. Try after a while.\n",
      "Error fetching data for ELS: Too Many Requests. Rate limited. Try after a while.\n",
      "Error fetching data for ELS-C: Too Many Requests. Rate limited. Try after a while.\n",
      "Error fetching data for ELU: Too Many Requests. Rate limited. Try after a while.\n",
      "Error fetching data for ELX: Too Many Requests. Rate limited. Try after a while.\n",
      "Error fetching data for ELY: Too Many Requests. Rate limited. Try after a while.\n",
      "Error fetching data for EMC: Too Many Requests. Rate limited. Try after a while.\n",
      "Error fetching data for EMD: Too Many Requests. Rate limited. Try after a while.\n",
      "Error fetching data for EME: Too Many Requests. Rate limited. Try after a while.\n",
      "Error fetching data for EMES: Too Many Requests. Rate limited. Try after a while.\n",
      "Error fetching data for EMF: Too Many Requests. Rate limited. Try after a while.\n",
      "Error fetching data for EMN: Too Many Requests. Rate limited. Try after a while.\n",
      "Error fetching data for EMO: Too Many Requests. Rate limited. Try after a while.\n",
      "Error fetching data for EMQ: Too Many Requests. Rate limited. Try after a while.\n",
      "Error fetching data for EMR: Too Many Requests. Rate limited. Try after a while.\n",
      "Error fetching data for EMZ: Too Many Requests. Rate limited. Try after a while.\n",
      "Error fetching data for ENB: Too Many Requests. Rate limited. Try after a while.\n",
      "Error fetching data for END: Too Many Requests. Rate limited. Try after a while.\n",
      "Error fetching data for ENH: Too Many Requests. Rate limited. Try after a while.\n",
      "Error fetching data for ENH-A: Too Many Requests. Rate limited. Try after a while.\n",
      "Error fetching data for ENH-B: Too Many Requests. Rate limited. Try after a while.\n",
      "Error fetching data for ENI: Too Many Requests. Rate limited. Try after a while.\n",
      "Error fetching data for ENJ: Too Many Requests. Rate limited. Try after a while.\n",
      "Error fetching data for ENL: Too Many Requests. Rate limited. Try after a while.\n",
      "Error fetching data for ENR: Too Many Requests. Rate limited. Try after a while.\n",
      "Error fetching data for ENS: Too Many Requests. Rate limited. Try after a while.\n",
      "Error fetching data for ENV: Too Many Requests. Rate limited. Try after a while.\n",
      "Error fetching data for ENZ: Too Many Requests. Rate limited. Try after a while.\n",
      "Error fetching data for EOC: Too Many Requests. Rate limited. Try after a while.\n",
      "Error fetching data for EOD: Too Many Requests. Rate limited. Try after a while.\n",
      "Error fetching data for EOG: Too Many Requests. Rate limited. Try after a while.\n",
      "Error fetching data for EOI: Too Many Requests. Rate limited. Try after a while.\n",
      "Error fetching data for EOS: Too Many Requests. Rate limited. Try after a while.\n",
      "Error fetching data for EOT: Too Many Requests. Rate limited. Try after a while.\n",
      "Error fetching data for EP-C: Too Many Requests. Rate limited. Try after a while.\n",
      "Error fetching data for EPAM: Too Many Requests. Rate limited. Try after a while.\n",
      "Error fetching data for EPB: Too Many Requests. Rate limited. Try after a while.\n",
      "Error fetching data for EPD: Too Many Requests. Rate limited. Try after a while.\n",
      "Error fetching data for EPL: Too Many Requests. Rate limited. Try after a while.\n",
      "Error fetching data for EPR: Too Many Requests. Rate limited. Try after a while.\n",
      "Error fetching data for EPR-C: Too Many Requests. Rate limited. Try after a while.\n",
      "Error fetching data for EPR-E: Too Many Requests. Rate limited. Try after a while.\n",
      "Error fetching data for EPR-F: Too Many Requests. Rate limited. Try after a while.\n",
      "Error fetching data for EQM: Too Many Requests. Rate limited. Try after a while.\n",
      "Error fetching data for EQR: Too Many Requests. Rate limited. Try after a while.\n",
      "Error fetching data for EQS: Too Many Requests. Rate limited. Try after a while.\n",
      "Error fetching data for EQT: Too Many Requests. Rate limited. Try after a while.\n",
      "Error fetching data for EQU: Too Many Requests. Rate limited. Try after a while.\n",
      "Error fetching data for EQY: Too Many Requests. Rate limited. Try after a while.\n",
      "Error fetching data for ERA: Too Many Requests. Rate limited. Try after a while.\n",
      "Error fetching data for ERF: Too Many Requests. Rate limited. Try after a while.\n",
      "Error fetching data for ERJ: Too Many Requests. Rate limited. Try after a while.\n",
      "Error fetching data for ESC: Too Many Requests. Rate limited. Try after a while.\n",
      "Error fetching data for ESD: Too Many Requests. Rate limited. Try after a while.\n",
      "Error fetching data for ESE: Too Many Requests. Rate limited. Try after a while.\n",
      "Error fetching data for ESI: Too Many Requests. Rate limited. Try after a while.\n",
      "Error fetching data for ESL: Too Many Requests. Rate limited. Try after a while.\n",
      "Error fetching data for ESS: Too Many Requests. Rate limited. Try after a while.\n",
      "Error fetching data for ESS-H: Too Many Requests. Rate limited. Try after a while.\n",
      "Error fetching data for ESV: Too Many Requests. Rate limited. Try after a while.\n",
      "Error fetching data for ETB: Too Many Requests. Rate limited. Try after a while.\n",
      "Error fetching data for ETE: Too Many Requests. Rate limited. Try after a while.\n",
      "Error fetching data for ETG: Too Many Requests. Rate limited. Try after a while.\n",
      "Error fetching data for ETH: Too Many Requests. Rate limited. Try after a while.\n",
      "Error fetching data for ETJ: Too Many Requests. Rate limited. Try after a while.\n",
      "Error fetching data for ETM: Too Many Requests. Rate limited. Try after a while.\n",
      "Error fetching data for ETN: Too Many Requests. Rate limited. Try after a while.\n",
      "Error fetching data for ETO: Too Many Requests. Rate limited. Try after a while.\n",
      "Error fetching data for ETP: Too Many Requests. Rate limited. Try after a while.\n",
      "Error fetching data for ETR: Too Many Requests. Rate limited. Try after a while.\n",
      "Error fetching data for ETV: Too Many Requests. Rate limited. Try after a while.\n",
      "Error fetching data for ETW: Too Many Requests. Rate limited. Try after a while.\n",
      "Error fetching data for ETX: Too Many Requests. Rate limited. Try after a while.\n",
      "Error fetching data for ETY: Too Many Requests. Rate limited. Try after a while.\n",
      "Error fetching data for EV: Too Many Requests. Rate limited. Try after a while.\n",
      "Error fetching data for EVC: Too Many Requests. Rate limited. Try after a while.\n",
      "Error fetching data for EVER: Too Many Requests. Rate limited. Try after a while.\n",
      "Error fetching data for EVF: Too Many Requests. Rate limited. Try after a while.\n",
      "Error fetching data for EVG: Too Many Requests. Rate limited. Try after a while.\n",
      "Error fetching data for EVHC: Too Many Requests. Rate limited. Try after a while.\n",
      "Error fetching data for EVN: Too Many Requests. Rate limited. Try after a while.\n",
      "Error fetching data for EVR: Too Many Requests. Rate limited. Try after a while.\n",
      "Error fetching data for EVT: Too Many Requests. Rate limited. Try after a while.\n",
      "Error fetching data for EVTC: Too Many Requests. Rate limited. Try after a while.\n",
      "Error fetching data for EW: Too Many Requests. Rate limited. Try after a while.\n",
      "Error fetching data for EXAM: Too Many Requests. Rate limited. Try after a while.\n",
      "Error fetching data for EXAR: Too Many Requests. Rate limited. Try after a while.\n",
      "Error fetching data for EXC: Too Many Requests. Rate limited. Try after a while.\n",
      "Error fetching data for EXD: Too Many Requests. Rate limited. Try after a while.\n",
      "Error fetching data for EXG: Too Many Requests. Rate limited. Try after a while.\n",
      "Error fetching data for EXH: Too Many Requests. Rate limited. Try after a while.\n",
      "Error fetching data for EXK: Too Many Requests. Rate limited. Try after a while.\n",
      "Error fetching data for EXL: Too Many Requests. Rate limited. Try after a while.\n",
      "Error fetching data for EXL-B: Too Many Requests. Rate limited. Try after a while.\n",
      "Error fetching data for EXP: Too Many Requests. Rate limited. Try after a while.\n",
      "Error fetching data for EXP: Too Many Requests. Rate limited. Try after a while.\n",
      "Error fetching data for EXPR: Too Many Requests. Rate limited. Try after a while.\n",
      "Error fetching data for EXR: Too Many Requests. Rate limited. Try after a while.\n",
      "Error fetching data for F: Too Many Requests. Rate limited. Try after a while.\n",
      "Error fetching data for FAC: Too Many Requests. Rate limited. Try after a while.\n"
     ]
    },
    {
     "name": "stderr",
     "output_type": "stream",
     "text": [
      "401 Client Error: Unauthorized for url: https://query2.finance.yahoo.com/v10/finance/quoteSummary/FAF?modules=financialData%2CquoteType%2CdefaultKeyStatistics%2CassetProfile%2CsummaryDetail&corsDomain=finance.yahoo.com&formatted=false&symbol=FAF&crumb=Edge%3A+Too+Many+Requests\n",
      "404 Client Error: Not Found for url: https://query2.finance.yahoo.com/v10/finance/quoteSummary/FAM?modules=financialData%2CquoteType%2CdefaultKeyStatistics%2CassetProfile%2CsummaryDetail&corsDomain=finance.yahoo.com&formatted=false&symbol=FAM&crumb=wMYLnRQb6Q9\n",
      "404 Client Error: Not Found for url: https://query2.finance.yahoo.com/v10/finance/quoteSummary/FBS-A?modules=financialData%2CquoteType%2CdefaultKeyStatistics%2CassetProfile%2CsummaryDetail&corsDomain=finance.yahoo.com&formatted=false&symbol=FBS-A&crumb=wMYLnRQb6Q9\n",
      "404 Client Error: Not Found for url: https://query2.finance.yahoo.com/v10/finance/quoteSummary/FCE.B?modules=financialData%2CquoteType%2CdefaultKeyStatistics%2CassetProfile%2CsummaryDetail&corsDomain=finance.yahoo.com&formatted=false&symbol=FCE.B&crumb=wMYLnRQb6Q9\n",
      "404 Client Error: Not Found for url: https://query2.finance.yahoo.com/v10/finance/quoteSummary/FCH-A?modules=financialData%2CquoteType%2CdefaultKeyStatistics%2CassetProfile%2CsummaryDetail&corsDomain=finance.yahoo.com&formatted=false&symbol=FCH-A&crumb=wMYLnRQb6Q9\n",
      "404 Client Error: Not Found for url: https://query2.finance.yahoo.com/v10/finance/quoteSummary/FCH-C?modules=financialData%2CquoteType%2CdefaultKeyStatistics%2CassetProfile%2CsummaryDetail&corsDomain=finance.yahoo.com&formatted=false&symbol=FCH-C&crumb=wMYLnRQb6Q9\n",
      "404 Client Error: Not Found for url: https://query2.finance.yahoo.com/v10/finance/quoteSummary/FEI?modules=financialData%2CquoteType%2CdefaultKeyStatistics%2CassetProfile%2CsummaryDetail&corsDomain=finance.yahoo.com&formatted=false&symbol=FEI&crumb=wMYLnRQb6Q9\n",
      "404 Client Error: Not Found for url: https://query2.finance.yahoo.com/v10/finance/quoteSummary/FEO?modules=financialData%2CquoteType%2CdefaultKeyStatistics%2CassetProfile%2CsummaryDetail&corsDomain=finance.yahoo.com&formatted=false&symbol=FEO&crumb=wMYLnRQb6Q9\n",
      "404 Client Error: Not Found for url: https://query2.finance.yahoo.com/v10/finance/quoteSummary/FHN-A?modules=financialData%2CquoteType%2CdefaultKeyStatistics%2CassetProfile%2CsummaryDetail&corsDomain=finance.yahoo.com&formatted=false&symbol=FHN-A&crumb=wMYLnRQb6Q9\n",
      "404 Client Error: Not Found for url: https://query2.finance.yahoo.com/v10/finance/quoteSummary/FIF?modules=financialData%2CquoteType%2CdefaultKeyStatistics%2CassetProfile%2CsummaryDetail&corsDomain=finance.yahoo.com&formatted=false&symbol=FIF&crumb=wMYLnRQb6Q9\n",
      "404 Client Error: Not Found for url: https://query2.finance.yahoo.com/v10/finance/quoteSummary/FLT?modules=financialData%2CquoteType%2CdefaultKeyStatistics%2CassetProfile%2CsummaryDetail&corsDomain=finance.yahoo.com&formatted=false&symbol=FLT&crumb=wMYLnRQb6Q9\n",
      "404 Client Error: Not Found for url: https://query2.finance.yahoo.com/v10/finance/quoteSummary/FNF-B?modules=financialData%2CquoteType%2CdefaultKeyStatistics%2CassetProfile%2CsummaryDetail&corsDomain=finance.yahoo.com&formatted=false&symbol=FNF-B&crumb=wMYLnRQb6Q9\n",
      "404 Client Error: Not Found for url: https://query2.finance.yahoo.com/v10/finance/quoteSummary/FPO-A?modules=financialData%2CquoteType%2CdefaultKeyStatistics%2CassetProfile%2CsummaryDetail&corsDomain=finance.yahoo.com&formatted=false&symbol=FPO-A&crumb=wMYLnRQb6Q9\n",
      "404 Client Error: Not Found for url: https://query2.finance.yahoo.com/v10/finance/quoteSummary/FRC-A?modules=financialData%2CquoteType%2CdefaultKeyStatistics%2CassetProfile%2CsummaryDetail&corsDomain=finance.yahoo.com&formatted=false&symbol=FRC-A&crumb=wMYLnRQb6Q9\n",
      "404 Client Error: Not Found for url: https://query2.finance.yahoo.com/v10/finance/quoteSummary/FRC-B?modules=financialData%2CquoteType%2CdefaultKeyStatistics%2CassetProfile%2CsummaryDetail&corsDomain=finance.yahoo.com&formatted=false&symbol=FRC-B&crumb=wMYLnRQb6Q9\n",
      "404 Client Error: Not Found for url: https://query2.finance.yahoo.com/v10/finance/quoteSummary/FRC-C?modules=financialData%2CquoteType%2CdefaultKeyStatistics%2CassetProfile%2CsummaryDetail&corsDomain=finance.yahoo.com&formatted=false&symbol=FRC-C&crumb=wMYLnRQb6Q9\n",
      "404 Client Error: Not Found for url: https://query2.finance.yahoo.com/v10/finance/quoteSummary/FRC-D?modules=financialData%2CquoteType%2CdefaultKeyStatistics%2CassetProfile%2CsummaryDetail&corsDomain=finance.yahoo.com&formatted=false&symbol=FRC-D&crumb=wMYLnRQb6Q9\n",
      "404 Client Error: Not Found for url: https://query2.finance.yahoo.com/v10/finance/quoteSummary/FSD?modules=financialData%2CquoteType%2CdefaultKeyStatistics%2CassetProfile%2CsummaryDetail&corsDomain=finance.yahoo.com&formatted=false&symbol=FSD&crumb=wMYLnRQb6Q9\n",
      "404 Client Error: Not Found for url: https://query2.finance.yahoo.com/v10/finance/quoteSummary/FUR-D?modules=financialData%2CquoteType%2CdefaultKeyStatistics%2CassetProfile%2CsummaryDetail&corsDomain=finance.yahoo.com&formatted=false&symbol=FUR-D&crumb=wMYLnRQb6Q9\n",
      "404 Client Error: Not Found for url: https://query2.finance.yahoo.com/v10/finance/quoteSummary/GAB-D?modules=financialData%2CquoteType%2CdefaultKeyStatistics%2CassetProfile%2CsummaryDetail&corsDomain=finance.yahoo.com&formatted=false&symbol=GAB-D&crumb=wMYLnRQb6Q9\n",
      "404 Client Error: Not Found for url: https://query2.finance.yahoo.com/v10/finance/quoteSummary/GAB-G?modules=financialData%2CquoteType%2CdefaultKeyStatistics%2CassetProfile%2CsummaryDetail&corsDomain=finance.yahoo.com&formatted=false&symbol=GAB-G&crumb=wMYLnRQb6Q9\n",
      "404 Client Error: Not Found for url: https://query2.finance.yahoo.com/v10/finance/quoteSummary/GAB-H?modules=financialData%2CquoteType%2CdefaultKeyStatistics%2CassetProfile%2CsummaryDetail&corsDomain=finance.yahoo.com&formatted=false&symbol=GAB-H&crumb=wMYLnRQb6Q9\n",
      "404 Client Error: Not Found for url: https://query2.finance.yahoo.com/v10/finance/quoteSummary/GAM-B?modules=financialData%2CquoteType%2CdefaultKeyStatistics%2CassetProfile%2CsummaryDetail&corsDomain=finance.yahoo.com&formatted=false&symbol=GAM-B&crumb=wMYLnRQb6Q9\n",
      "404 Client Error: Not Found for url: https://query2.finance.yahoo.com/v10/finance/quoteSummary/GCV-B?modules=financialData%2CquoteType%2CdefaultKeyStatistics%2CassetProfile%2CsummaryDetail&corsDomain=finance.yahoo.com&formatted=false&symbol=GCV-B&crumb=wMYLnRQb6Q9\n",
      "404 Client Error: Not Found for url: https://query2.finance.yahoo.com/v10/finance/quoteSummary/GDL-B?modules=financialData%2CquoteType%2CdefaultKeyStatistics%2CassetProfile%2CsummaryDetail&corsDomain=finance.yahoo.com&formatted=false&symbol=GDL-B&crumb=wMYLnRQb6Q9\n",
      "404 Client Error: Not Found for url: https://query2.finance.yahoo.com/v10/finance/quoteSummary/GDP-C?modules=financialData%2CquoteType%2CdefaultKeyStatistics%2CassetProfile%2CsummaryDetail&corsDomain=finance.yahoo.com&formatted=false&symbol=GDP-C&crumb=wMYLnRQb6Q9\n",
      "404 Client Error: Not Found for url: https://query2.finance.yahoo.com/v10/finance/quoteSummary/GDP-D?modules=financialData%2CquoteType%2CdefaultKeyStatistics%2CassetProfile%2CsummaryDetail&corsDomain=finance.yahoo.com&formatted=false&symbol=GDP-D&crumb=wMYLnRQb6Q9\n",
      "404 Client Error: Not Found for url: https://query2.finance.yahoo.com/v10/finance/quoteSummary/GDV-A?modules=financialData%2CquoteType%2CdefaultKeyStatistics%2CassetProfile%2CsummaryDetail&corsDomain=finance.yahoo.com&formatted=false&symbol=GDV-A&crumb=wMYLnRQb6Q9\n",
      "404 Client Error: Not Found for url: https://query2.finance.yahoo.com/v10/finance/quoteSummary/GDV-D?modules=financialData%2CquoteType%2CdefaultKeyStatistics%2CassetProfile%2CsummaryDetail&corsDomain=finance.yahoo.com&formatted=false&symbol=GDV-D&crumb=wMYLnRQb6Q9\n",
      "404 Client Error: Not Found for url: https://query2.finance.yahoo.com/v10/finance/quoteSummary/GE-A?modules=financialData%2CquoteType%2CdefaultKeyStatistics%2CassetProfile%2CsummaryDetail&corsDomain=finance.yahoo.com&formatted=false&symbol=GE-A&crumb=wMYLnRQb6Q9\n",
      "404 Client Error: Not Found for url: https://query2.finance.yahoo.com/v10/finance/quoteSummary/GEH?modules=financialData%2CquoteType%2CdefaultKeyStatistics%2CassetProfile%2CsummaryDetail&corsDomain=finance.yahoo.com&formatted=false&symbol=GEH&crumb=wMYLnRQb6Q9\n",
      "404 Client Error: Not Found for url: https://query2.finance.yahoo.com/v10/finance/quoteSummary/GEK?modules=financialData%2CquoteType%2CdefaultKeyStatistics%2CassetProfile%2CsummaryDetail&corsDomain=finance.yahoo.com&formatted=false&symbol=GEK&crumb=wMYLnRQb6Q9\n",
      "404 Client Error: Not Found for url: https://query2.finance.yahoo.com/v10/finance/quoteSummary/GGE?modules=financialData%2CquoteType%2CdefaultKeyStatistics%2CassetProfile%2CsummaryDetail&corsDomain=finance.yahoo.com&formatted=false&symbol=GGE&crumb=wMYLnRQb6Q9\n",
      "404 Client Error: Not Found for url: https://query2.finance.yahoo.com/v10/finance/quoteSummary/GGP-A?modules=financialData%2CquoteType%2CdefaultKeyStatistics%2CassetProfile%2CsummaryDetail&corsDomain=finance.yahoo.com&formatted=false&symbol=GGP-A&crumb=wMYLnRQb6Q9\n",
      "404 Client Error: Not Found for url: https://query2.finance.yahoo.com/v10/finance/quoteSummary/GGT-B?modules=financialData%2CquoteType%2CdefaultKeyStatistics%2CassetProfile%2CsummaryDetail&corsDomain=finance.yahoo.com&formatted=false&symbol=GGT-B&crumb=wMYLnRQb6Q9\n",
      "404 Client Error: Not Found for url: https://query2.finance.yahoo.com/v10/finance/quoteSummary/GHL?modules=financialData%2CquoteType%2CdefaultKeyStatistics%2CassetProfile%2CsummaryDetail&corsDomain=finance.yahoo.com&formatted=false&symbol=GHL&crumb=wMYLnRQb6Q9\n",
      "404 Client Error: Not Found for url: https://query2.finance.yahoo.com/v10/finance/quoteSummary/GIM?modules=financialData%2CquoteType%2CdefaultKeyStatistics%2CassetProfile%2CsummaryDetail&corsDomain=finance.yahoo.com&formatted=false&symbol=GIM&crumb=wMYLnRQb6Q9\n",
      "404 Client Error: Not Found for url: https://query2.finance.yahoo.com/v10/finance/quoteSummary/GLT?modules=financialData%2CquoteType%2CdefaultKeyStatistics%2CassetProfile%2CsummaryDetail&corsDomain=finance.yahoo.com&formatted=false&symbol=GLT&crumb=wMYLnRQb6Q9\n",
      "404 Client Error: Not Found for url: https://query2.finance.yahoo.com/v10/finance/quoteSummary/GM-B?modules=financialData%2CquoteType%2CdefaultKeyStatistics%2CassetProfile%2CsummaryDetail&corsDomain=finance.yahoo.com&formatted=false&symbol=GM-B&crumb=wMYLnRQb6Q9\n",
      "404 Client Error: Not Found for url: https://query2.finance.yahoo.com/v10/finance/quoteSummary/GM.A?modules=financialData%2CquoteType%2CdefaultKeyStatistics%2CassetProfile%2CsummaryDetail&corsDomain=finance.yahoo.com&formatted=false&symbol=GM.A&crumb=wMYLnRQb6Q9\n",
      "404 Client Error: Not Found for url: https://query2.finance.yahoo.com/v10/finance/quoteSummary/GNE-A?modules=financialData%2CquoteType%2CdefaultKeyStatistics%2CassetProfile%2CsummaryDetail&corsDomain=finance.yahoo.com&formatted=false&symbol=GNE-A&crumb=wMYLnRQb6Q9\n",
      "404 Client Error: Not Found for url: https://query2.finance.yahoo.com/v10/finance/quoteSummary/GPE-A?modules=financialData%2CquoteType%2CdefaultKeyStatistics%2CassetProfile%2CsummaryDetail&corsDomain=finance.yahoo.com&formatted=false&symbol=GPE-A&crumb=wMYLnRQb6Q9\n",
      "404 Client Error: Not Found for url: https://query2.finance.yahoo.com/v10/finance/quoteSummary/GPS?modules=financialData%2CquoteType%2CdefaultKeyStatistics%2CassetProfile%2CsummaryDetail&corsDomain=finance.yahoo.com&formatted=false&symbol=GPS&crumb=wMYLnRQb6Q9\n",
      "404 Client Error: Not Found for url: https://query2.finance.yahoo.com/v10/finance/quoteSummary/GPT-A?modules=financialData%2CquoteType%2CdefaultKeyStatistics%2CassetProfile%2CsummaryDetail&corsDomain=finance.yahoo.com&formatted=false&symbol=GPT-A&crumb=wMYLnRQb6Q9\n",
      "404 Client Error: Not Found for url: https://query2.finance.yahoo.com/v10/finance/quoteSummary/GRT-G?modules=financialData%2CquoteType%2CdefaultKeyStatistics%2CassetProfile%2CsummaryDetail&corsDomain=finance.yahoo.com&formatted=false&symbol=GRT-G&crumb=wMYLnRQb6Q9\n",
      "404 Client Error: Not Found for url: https://query2.finance.yahoo.com/v10/finance/quoteSummary/GRT-H?modules=financialData%2CquoteType%2CdefaultKeyStatistics%2CassetProfile%2CsummaryDetail&corsDomain=finance.yahoo.com&formatted=false&symbol=GRT-H&crumb=wMYLnRQb6Q9\n",
      "404 Client Error: Not Found for url: https://query2.finance.yahoo.com/v10/finance/quoteSummary/GRT-I?modules=financialData%2CquoteType%2CdefaultKeyStatistics%2CassetProfile%2CsummaryDetail&corsDomain=finance.yahoo.com&formatted=false&symbol=GRT-I&crumb=wMYLnRQb6Q9\n",
      "404 Client Error: Not Found for url: https://query2.finance.yahoo.com/v10/finance/quoteSummary/GRX-A?modules=financialData%2CquoteType%2CdefaultKeyStatistics%2CassetProfile%2CsummaryDetail&corsDomain=finance.yahoo.com&formatted=false&symbol=GRX-A&crumb=wMYLnRQb6Q9\n",
      "404 Client Error: Not Found for url: https://query2.finance.yahoo.com/v10/finance/quoteSummary/GS-A?modules=financialData%2CquoteType%2CdefaultKeyStatistics%2CassetProfile%2CsummaryDetail&corsDomain=finance.yahoo.com&formatted=false&symbol=GS-A&crumb=wMYLnRQb6Q9\n",
      "404 Client Error: Not Found for url: https://query2.finance.yahoo.com/v10/finance/quoteSummary/GS-B?modules=financialData%2CquoteType%2CdefaultKeyStatistics%2CassetProfile%2CsummaryDetail&corsDomain=finance.yahoo.com&formatted=false&symbol=GS-B&crumb=wMYLnRQb6Q9\n",
      "404 Client Error: Not Found for url: https://query2.finance.yahoo.com/v10/finance/quoteSummary/GS-C?modules=financialData%2CquoteType%2CdefaultKeyStatistics%2CassetProfile%2CsummaryDetail&corsDomain=finance.yahoo.com&formatted=false&symbol=GS-C&crumb=wMYLnRQb6Q9\n",
      "404 Client Error: Not Found for url: https://query2.finance.yahoo.com/v10/finance/quoteSummary/GS-D?modules=financialData%2CquoteType%2CdefaultKeyStatistics%2CassetProfile%2CsummaryDetail&corsDomain=finance.yahoo.com&formatted=false&symbol=GS-D&crumb=wMYLnRQb6Q9\n",
      "404 Client Error: Not Found for url: https://query2.finance.yahoo.com/v10/finance/quoteSummary/GS-I?modules=financialData%2CquoteType%2CdefaultKeyStatistics%2CassetProfile%2CsummaryDetail&corsDomain=finance.yahoo.com&formatted=false&symbol=GS-I&crumb=wMYLnRQb6Q9\n",
      "404 Client Error: Not Found for url: https://query2.finance.yahoo.com/v10/finance/quoteSummary/GS-J?modules=financialData%2CquoteType%2CdefaultKeyStatistics%2CassetProfile%2CsummaryDetail&corsDomain=finance.yahoo.com&formatted=false&symbol=GS-J&crumb=wMYLnRQb6Q9\n",
      "404 Client Error: Not Found for url: https://query2.finance.yahoo.com/v10/finance/quoteSummary/GSJ?modules=financialData%2CquoteType%2CdefaultKeyStatistics%2CassetProfile%2CsummaryDetail&corsDomain=finance.yahoo.com&formatted=false&symbol=GSJ&crumb=wMYLnRQb6Q9\n",
      "404 Client Error: Not Found for url: https://query2.finance.yahoo.com/v10/finance/quoteSummary/GUT-A?modules=financialData%2CquoteType%2CdefaultKeyStatistics%2CassetProfile%2CsummaryDetail&corsDomain=finance.yahoo.com&formatted=false&symbol=GUT-A&crumb=wMYLnRQb6Q9\n",
      "404 Client Error: Not Found for url: https://query2.finance.yahoo.com/v10/finance/quoteSummary/GWRU?modules=financialData%2CquoteType%2CdefaultKeyStatistics%2CassetProfile%2CsummaryDetail&corsDomain=finance.yahoo.com&formatted=false&symbol=GWRU&crumb=wMYLnRQb6Q9\n",
      "404 Client Error: Not Found for url: https://query2.finance.yahoo.com/v10/finance/quoteSummary/GXP-A?modules=financialData%2CquoteType%2CdefaultKeyStatistics%2CassetProfile%2CsummaryDetail&corsDomain=finance.yahoo.com&formatted=false&symbol=GXP-A&crumb=wMYLnRQb6Q9\n",
      "404 Client Error: Not Found for url: https://query2.finance.yahoo.com/v10/finance/quoteSummary/GXP-D?modules=financialData%2CquoteType%2CdefaultKeyStatistics%2CassetProfile%2CsummaryDetail&corsDomain=finance.yahoo.com&formatted=false&symbol=GXP-D&crumb=wMYLnRQb6Q9\n",
      "404 Client Error: Not Found for url: https://query2.finance.yahoo.com/v10/finance/quoteSummary/GXP-E?modules=financialData%2CquoteType%2CdefaultKeyStatistics%2CassetProfile%2CsummaryDetail&corsDomain=finance.yahoo.com&formatted=false&symbol=GXP-E&crumb=wMYLnRQb6Q9\n",
      "404 Client Error: Not Found for url: https://query2.finance.yahoo.com/v10/finance/quoteSummary/HBA-D?modules=financialData%2CquoteType%2CdefaultKeyStatistics%2CassetProfile%2CsummaryDetail&corsDomain=finance.yahoo.com&formatted=false&symbol=HBA-D&crumb=wMYLnRQb6Q9\n",
      "404 Client Error: Not Found for url: https://query2.finance.yahoo.com/v10/finance/quoteSummary/HBA-F?modules=financialData%2CquoteType%2CdefaultKeyStatistics%2CassetProfile%2CsummaryDetail&corsDomain=finance.yahoo.com&formatted=false&symbol=HBA-F&crumb=wMYLnRQb6Q9\n",
      "404 Client Error: Not Found for url: https://query2.finance.yahoo.com/v10/finance/quoteSummary/HBA-G?modules=financialData%2CquoteType%2CdefaultKeyStatistics%2CassetProfile%2CsummaryDetail&corsDomain=finance.yahoo.com&formatted=false&symbol=HBA-G&crumb=wMYLnRQb6Q9\n",
      "404 Client Error: Not Found for url: https://query2.finance.yahoo.com/v10/finance/quoteSummary/HBA-H?modules=financialData%2CquoteType%2CdefaultKeyStatistics%2CassetProfile%2CsummaryDetail&corsDomain=finance.yahoo.com&formatted=false&symbol=HBA-H&crumb=wMYLnRQb6Q9\n",
      "404 Client Error: Not Found for url: https://query2.finance.yahoo.com/v10/finance/quoteSummary/HBA-Z?modules=financialData%2CquoteType%2CdefaultKeyStatistics%2CassetProfile%2CsummaryDetail&corsDomain=finance.yahoo.com&formatted=false&symbol=HBA-Z&crumb=wMYLnRQb6Q9\n",
      "404 Client Error: Not Found for url: https://query2.finance.yahoo.com/v10/finance/quoteSummary/HBC-A?modules=financialData%2CquoteType%2CdefaultKeyStatistics%2CassetProfile%2CsummaryDetail&corsDomain=finance.yahoo.com&formatted=false&symbol=HBC-A&crumb=wMYLnRQb6Q9\n",
      "404 Client Error: Not Found for url: https://query2.finance.yahoo.com/v10/finance/quoteSummary/HCJ?modules=financialData%2CquoteType%2CdefaultKeyStatistics%2CassetProfile%2CsummaryDetail&corsDomain=finance.yahoo.com&formatted=false&symbol=HCJ&crumb=wMYLnRQb6Q9\n",
      "404 Client Error: Not Found for url: https://query2.finance.yahoo.com/v10/finance/quoteSummary/HCN-I?modules=financialData%2CquoteType%2CdefaultKeyStatistics%2CassetProfile%2CsummaryDetail&corsDomain=finance.yahoo.com&formatted=false&symbol=HCN-I&crumb=wMYLnRQb6Q9\n",
      "404 Client Error: Not Found for url: https://query2.finance.yahoo.com/v10/finance/quoteSummary/HCN-J?modules=financialData%2CquoteType%2CdefaultKeyStatistics%2CassetProfile%2CsummaryDetail&corsDomain=finance.yahoo.com&formatted=false&symbol=HCN-J&crumb=wMYLnRQb6Q9\n",
      "404 Client Error: Not Found for url: https://query2.finance.yahoo.com/v10/finance/quoteSummary/HCS-B?modules=financialData%2CquoteType%2CdefaultKeyStatistics%2CassetProfile%2CsummaryDetail&corsDomain=finance.yahoo.com&formatted=false&symbol=HCS-B&crumb=wMYLnRQb6Q9\n"
     ]
    },
    {
     "name": "stdout",
     "output_type": "stream",
     "text": [
      "Error fetching data for HDB: ('Connection broken: IncompleteRead(1 bytes read, 1 more expected)', IncompleteRead(1 bytes read, 1 more expected))\n"
     ]
    },
    {
     "name": "stderr",
     "output_type": "stream",
     "text": [
      "404 Client Error: Not Found for url: https://query2.finance.yahoo.com/v10/finance/quoteSummary/HE-U?modules=financialData%2CquoteType%2CdefaultKeyStatistics%2CassetProfile%2CsummaryDetail&corsDomain=finance.yahoo.com&formatted=false&symbol=HE-U&crumb=wMYLnRQb6Q9\n",
      "500 Server Error: Internal Server Error for url: https://query2.finance.yahoo.com/v10/finance/quoteSummary/HEI.A?modules=financialData%2CquoteType%2CdefaultKeyStatistics%2CassetProfile%2CsummaryDetail&corsDomain=finance.yahoo.com&formatted=false&symbol=HEI.A&crumb=wMYLnRQb6Q9\n",
      "404 Client Error: Not Found for url: https://query2.finance.yahoo.com/v10/finance/quoteSummary/HEP?modules=financialData%2CquoteType%2CdefaultKeyStatistics%2CassetProfile%2CsummaryDetail&corsDomain=finance.yahoo.com&formatted=false&symbol=HEP&crumb=wMYLnRQb6Q9\n",
      "404 Client Error: Not Found for url: https://query2.finance.yahoo.com/v10/finance/quoteSummary/HHC?modules=financialData%2CquoteType%2CdefaultKeyStatistics%2CassetProfile%2CsummaryDetail&corsDomain=finance.yahoo.com&formatted=false&symbol=HHC&crumb=wMYLnRQb6Q9\n",
      "404 Client Error: Not Found for url: https://query2.finance.yahoo.com/v10/finance/quoteSummary/HIG.W?modules=financialData%2CquoteType%2CdefaultKeyStatistics%2CassetProfile%2CsummaryDetail&corsDomain=finance.yahoo.com&formatted=false&symbol=HIG.W&crumb=wMYLnRQb6Q9\n",
      "404 Client Error: Not Found for url: https://query2.finance.yahoo.com/v10/finance/quoteSummary/HL-B?modules=financialData%2CquoteType%2CdefaultKeyStatistics%2CassetProfile%2CsummaryDetail&corsDomain=finance.yahoo.com&formatted=false&symbol=HL-B&crumb=wMYLnRQb6Q9\n",
      "404 Client Error: Not Found for url: https://query2.finance.yahoo.com/v10/finance/quoteSummary/HMA?modules=financialData%2CquoteType%2CdefaultKeyStatistics%2CassetProfile%2CsummaryDetail&corsDomain=finance.yahoo.com&formatted=false&symbol=HMA&crumb=wMYLnRQb6Q9\n",
      "404 Client Error: Not Found for url: https://query2.finance.yahoo.com/v10/finance/quoteSummary/HPP-B?modules=financialData%2CquoteType%2CdefaultKeyStatistics%2CassetProfile%2CsummaryDetail&corsDomain=finance.yahoo.com&formatted=false&symbol=HPP-B&crumb=wMYLnRQb6Q9\n",
      "404 Client Error: Not Found for url: https://query2.finance.yahoo.com/v10/finance/quoteSummary/HPT-D?modules=financialData%2CquoteType%2CdefaultKeyStatistics%2CassetProfile%2CsummaryDetail&corsDomain=finance.yahoo.com&formatted=false&symbol=HPT-D&crumb=wMYLnRQb6Q9\n",
      "404 Client Error: Not Found for url: https://query2.finance.yahoo.com/v10/finance/quoteSummary/HSB-B?modules=financialData%2CquoteType%2CdefaultKeyStatistics%2CassetProfile%2CsummaryDetail&corsDomain=finance.yahoo.com&formatted=false&symbol=HSB-B&crumb=wMYLnRQb6Q9\n",
      "404 Client Error: Not Found for url: https://query2.finance.yahoo.com/v10/finance/quoteSummary/HT?modules=financialData%2CquoteType%2CdefaultKeyStatistics%2CassetProfile%2CsummaryDetail&corsDomain=finance.yahoo.com&formatted=false&symbol=HT&crumb=wMYLnRQb6Q9\n",
      "404 Client Error: Not Found for url: https://query2.finance.yahoo.com/v10/finance/quoteSummary/HT-B?modules=financialData%2CquoteType%2CdefaultKeyStatistics%2CassetProfile%2CsummaryDetail&corsDomain=finance.yahoo.com&formatted=false&symbol=HT-B&crumb=wMYLnRQb6Q9\n",
      "404 Client Error: Not Found for url: https://query2.finance.yahoo.com/v10/finance/quoteSummary/HT-C?modules=financialData%2CquoteType%2CdefaultKeyStatistics%2CassetProfile%2CsummaryDetail&corsDomain=finance.yahoo.com&formatted=false&symbol=HT-C&crumb=wMYLnRQb6Q9\n",
      "404 Client Error: Not Found for url: https://query2.finance.yahoo.com/v10/finance/quoteSummary/HTGY?modules=financialData%2CquoteType%2CdefaultKeyStatistics%2CassetProfile%2CsummaryDetail&corsDomain=finance.yahoo.com&formatted=false&symbol=HTGY&crumb=wMYLnRQb6Q9\n",
      "404 Client Error: Not Found for url: https://query2.finance.yahoo.com/v10/finance/quoteSummary/HTS-A?modules=financialData%2CquoteType%2CdefaultKeyStatistics%2CassetProfile%2CsummaryDetail&corsDomain=finance.yahoo.com&formatted=false&symbol=HTS-A&crumb=wMYLnRQb6Q9\n",
      "404 Client Error: Not Found for url: https://query2.finance.yahoo.com/v10/finance/quoteSummary/HTY?modules=financialData%2CquoteType%2CdefaultKeyStatistics%2CassetProfile%2CsummaryDetail&corsDomain=finance.yahoo.com&formatted=false&symbol=HTY&crumb=wMYLnRQb6Q9\n",
      "404 Client Error: Not Found for url: https://query2.finance.yahoo.com/v10/finance/quoteSummary/HUB.A?modules=financialData%2CquoteType%2CdefaultKeyStatistics%2CassetProfile%2CsummaryDetail&corsDomain=finance.yahoo.com&formatted=false&symbol=HUB.A&crumb=wMYLnRQb6Q9\n",
      "404 Client Error: Not Found for url: https://query2.finance.yahoo.com/v10/finance/quoteSummary/HVT.A?modules=financialData%2CquoteType%2CdefaultKeyStatistics%2CassetProfile%2CsummaryDetail&corsDomain=finance.yahoo.com&formatted=false&symbol=HVT.A&crumb=wMYLnRQb6Q9\n",
      "404 Client Error: Not Found for url: https://query2.finance.yahoo.com/v10/finance/quoteSummary/I-A?modules=financialData%2CquoteType%2CdefaultKeyStatistics%2CassetProfile%2CsummaryDetail&corsDomain=finance.yahoo.com&formatted=false&symbol=I-A&crumb=wMYLnRQb6Q9\n",
      "404 Client Error: Not Found for url: https://query2.finance.yahoo.com/v10/finance/quoteSummary/INN-A?modules=financialData%2CquoteType%2CdefaultKeyStatistics%2CassetProfile%2CsummaryDetail&corsDomain=finance.yahoo.com&formatted=false&symbol=INN-A&crumb=wMYLnRQb6Q9\n",
      "404 Client Error: Not Found for url: https://query2.finance.yahoo.com/v10/finance/quoteSummary/INN-B?modules=financialData%2CquoteType%2CdefaultKeyStatistics%2CassetProfile%2CsummaryDetail&corsDomain=finance.yahoo.com&formatted=false&symbol=INN-B&crumb=wMYLnRQb6Q9\n",
      "404 Client Error: Not Found for url: https://query2.finance.yahoo.com/v10/finance/quoteSummary/INN-C?modules=financialData%2CquoteType%2CdefaultKeyStatistics%2CassetProfile%2CsummaryDetail&corsDomain=finance.yahoo.com&formatted=false&symbol=INN-C&crumb=wMYLnRQb6Q9\n",
      "404 Client Error: Not Found for url: https://query2.finance.yahoo.com/v10/finance/quoteSummary/IPL-D?modules=financialData%2CquoteType%2CdefaultKeyStatistics%2CassetProfile%2CsummaryDetail&corsDomain=finance.yahoo.com&formatted=false&symbol=IPL-D&crumb=wMYLnRQb6Q9\n",
      "404 Client Error: Not Found for url: https://query2.finance.yahoo.com/v10/finance/quoteSummary/IRC-A?modules=financialData%2CquoteType%2CdefaultKeyStatistics%2CassetProfile%2CsummaryDetail&corsDomain=finance.yahoo.com&formatted=false&symbol=IRC-A&crumb=wMYLnRQb6Q9\n",
      "404 Client Error: Not Found for url: https://query2.finance.yahoo.com/v10/finance/quoteSummary/IRE-B?modules=financialData%2CquoteType%2CdefaultKeyStatistics%2CassetProfile%2CsummaryDetail&corsDomain=finance.yahoo.com&formatted=false&symbol=IRE-B&crumb=wMYLnRQb6Q9\n",
      "404 Client Error: Not Found for url: https://query2.finance.yahoo.com/v10/finance/quoteSummary/IRL?modules=financialData%2CquoteType%2CdefaultKeyStatistics%2CassetProfile%2CsummaryDetail&corsDomain=finance.yahoo.com&formatted=false&symbol=IRL&crumb=wMYLnRQb6Q9\n",
      "404 Client Error: Not Found for url: https://query2.finance.yahoo.com/v10/finance/quoteSummary/ISH-A?modules=financialData%2CquoteType%2CdefaultKeyStatistics%2CassetProfile%2CsummaryDetail&corsDomain=finance.yahoo.com&formatted=false&symbol=ISH-A&crumb=wMYLnRQb6Q9\n",
      "404 Client Error: Not Found for url: https://query2.finance.yahoo.com/v10/finance/quoteSummary/ISH-B?modules=financialData%2CquoteType%2CdefaultKeyStatistics%2CassetProfile%2CsummaryDetail&corsDomain=finance.yahoo.com&formatted=false&symbol=ISH-B&crumb=wMYLnRQb6Q9\n",
      "404 Client Error: Not Found for url: https://query2.finance.yahoo.com/v10/finance/quoteSummary/IVH?modules=financialData%2CquoteType%2CdefaultKeyStatistics%2CassetProfile%2CsummaryDetail&corsDomain=finance.yahoo.com&formatted=false&symbol=IVH&crumb=wMYLnRQb6Q9\n",
      "404 Client Error: Not Found for url: https://query2.finance.yahoo.com/v10/finance/quoteSummary/IVR-A?modules=financialData%2CquoteType%2CdefaultKeyStatistics%2CassetProfile%2CsummaryDetail&corsDomain=finance.yahoo.com&formatted=false&symbol=IVR-A&crumb=wMYLnRQb6Q9\n",
      "404 Client Error: Not Found for url: https://query2.finance.yahoo.com/v10/finance/quoteSummary/JBN?modules=financialData%2CquoteType%2CdefaultKeyStatistics%2CassetProfile%2CsummaryDetail&corsDomain=finance.yahoo.com&formatted=false&symbol=JBN&crumb=wMYLnRQb6Q9\n",
      "404 Client Error: Not Found for url: https://query2.finance.yahoo.com/v10/finance/quoteSummary/JGT?modules=financialData%2CquoteType%2CdefaultKeyStatistics%2CassetProfile%2CsummaryDetail&corsDomain=finance.yahoo.com&formatted=false&symbol=JGT&crumb=wMYLnRQb6Q9\n",
      "404 Client Error: Not Found for url: https://query2.finance.yahoo.com/v10/finance/quoteSummary/JLA?modules=financialData%2CquoteType%2CdefaultKeyStatistics%2CassetProfile%2CsummaryDetail&corsDomain=finance.yahoo.com&formatted=false&symbol=JLA&crumb=wMYLnRQb6Q9\n",
      "404 Client Error: Not Found for url: https://query2.finance.yahoo.com/v10/finance/quoteSummary/JMPB?modules=financialData%2CquoteType%2CdefaultKeyStatistics%2CassetProfile%2CsummaryDetail&corsDomain=finance.yahoo.com&formatted=false&symbol=JMPB&crumb=wMYLnRQb6Q9\n",
      "404 Client Error: Not Found for url: https://query2.finance.yahoo.com/v10/finance/quoteSummary/JPG?modules=financialData%2CquoteType%2CdefaultKeyStatistics%2CassetProfile%2CsummaryDetail&corsDomain=finance.yahoo.com&formatted=false&symbol=JPG&crumb=wMYLnRQb6Q9\n",
      "404 Client Error: Not Found for url: https://query2.finance.yahoo.com/v10/finance/quoteSummary/JPM-A?modules=financialData%2CquoteType%2CdefaultKeyStatistics%2CassetProfile%2CsummaryDetail&corsDomain=finance.yahoo.com&formatted=false&symbol=JPM-A&crumb=wMYLnRQb6Q9\n",
      "404 Client Error: Not Found for url: https://query2.finance.yahoo.com/v10/finance/quoteSummary/JPM-C?modules=financialData%2CquoteType%2CdefaultKeyStatistics%2CassetProfile%2CsummaryDetail&corsDomain=finance.yahoo.com&formatted=false&symbol=JPM-C&crumb=wMYLnRQb6Q9\n",
      "404 Client Error: Not Found for url: https://query2.finance.yahoo.com/v10/finance/quoteSummary/JPM-D?modules=financialData%2CquoteType%2CdefaultKeyStatistics%2CassetProfile%2CsummaryDetail&corsDomain=finance.yahoo.com&formatted=false&symbol=JPM-D&crumb=wMYLnRQb6Q9\n",
      "404 Client Error: Not Found for url: https://query2.finance.yahoo.com/v10/finance/quoteSummary/JPM-I?modules=financialData%2CquoteType%2CdefaultKeyStatistics%2CassetProfile%2CsummaryDetail&corsDomain=finance.yahoo.com&formatted=false&symbol=JPM-I&crumb=wMYLnRQb6Q9\n",
      "404 Client Error: Not Found for url: https://query2.finance.yahoo.com/v10/finance/quoteSummary/JPM.W?modules=financialData%2CquoteType%2CdefaultKeyStatistics%2CassetProfile%2CsummaryDetail&corsDomain=finance.yahoo.com&formatted=false&symbol=JPM.W&crumb=wMYLnRQb6Q9\n",
      "404 Client Error: Not Found for url: https://query2.finance.yahoo.com/v10/finance/quoteSummary/JPS?modules=financialData%2CquoteType%2CdefaultKeyStatistics%2CassetProfile%2CsummaryDetail&corsDomain=finance.yahoo.com&formatted=false&symbol=JPS&crumb=wMYLnRQb6Q9\n",
      "404 Client Error: Not Found for url: https://query2.finance.yahoo.com/v10/finance/quoteSummary/JRO?modules=financialData%2CquoteType%2CdefaultKeyStatistics%2CassetProfile%2CsummaryDetail&corsDomain=finance.yahoo.com&formatted=false&symbol=JRO&crumb=wMYLnRQb6Q9\n",
      "404 Client Error: Not Found for url: https://query2.finance.yahoo.com/v10/finance/quoteSummary/JSD?modules=financialData%2CquoteType%2CdefaultKeyStatistics%2CassetProfile%2CsummaryDetail&corsDomain=finance.yahoo.com&formatted=false&symbol=JSD&crumb=wMYLnRQb6Q9\n",
      "404 Client Error: Not Found for url: https://query2.finance.yahoo.com/v10/finance/quoteSummary/JW.B?modules=financialData%2CquoteType%2CdefaultKeyStatistics%2CassetProfile%2CsummaryDetail&corsDomain=finance.yahoo.com&formatted=false&symbol=JW.B&crumb=wMYLnRQb6Q9\n",
      "404 Client Error: Not Found for url: https://query2.finance.yahoo.com/v10/finance/quoteSummary/KAMN?modules=financialData%2CquoteType%2CdefaultKeyStatistics%2CassetProfile%2CsummaryDetail&corsDomain=finance.yahoo.com&formatted=false&symbol=KAMN&crumb=wMYLnRQb6Q9\n",
      "404 Client Error: Not Found for url: https://query2.finance.yahoo.com/v10/finance/quoteSummary/KEY-G?modules=financialData%2CquoteType%2CdefaultKeyStatistics%2CassetProfile%2CsummaryDetail&corsDomain=finance.yahoo.com&formatted=false&symbol=KEY-G&crumb=wMYLnRQb6Q9\n",
      "404 Client Error: Not Found for url: https://query2.finance.yahoo.com/v10/finance/quoteSummary/KFH?modules=financialData%2CquoteType%2CdefaultKeyStatistics%2CassetProfile%2CsummaryDetail&corsDomain=finance.yahoo.com&formatted=false&symbol=KFH&crumb=wMYLnRQb6Q9\n",
      "404 Client Error: Not Found for url: https://query2.finance.yahoo.com/v10/finance/quoteSummary/KFN.P?modules=financialData%2CquoteType%2CdefaultKeyStatistics%2CassetProfile%2CsummaryDetail&corsDomain=finance.yahoo.com&formatted=false&symbol=KFN.P&crumb=wMYLnRQb6Q9\n",
      "404 Client Error: Not Found for url: https://query2.finance.yahoo.com/v10/finance/quoteSummary/KIM-H?modules=financialData%2CquoteType%2CdefaultKeyStatistics%2CassetProfile%2CsummaryDetail&corsDomain=finance.yahoo.com&formatted=false&symbol=KIM-H&crumb=wMYLnRQb6Q9\n",
      "404 Client Error: Not Found for url: https://query2.finance.yahoo.com/v10/finance/quoteSummary/KIM-I?modules=financialData%2CquoteType%2CdefaultKeyStatistics%2CassetProfile%2CsummaryDetail&corsDomain=finance.yahoo.com&formatted=false&symbol=KIM-I&crumb=wMYLnRQb6Q9\n",
      "404 Client Error: Not Found for url: https://query2.finance.yahoo.com/v10/finance/quoteSummary/KIM-J?modules=financialData%2CquoteType%2CdefaultKeyStatistics%2CassetProfile%2CsummaryDetail&corsDomain=finance.yahoo.com&formatted=false&symbol=KIM-J&crumb=wMYLnRQb6Q9\n",
      "404 Client Error: Not Found for url: https://query2.finance.yahoo.com/v10/finance/quoteSummary/KIM-K?modules=financialData%2CquoteType%2CdefaultKeyStatistics%2CassetProfile%2CsummaryDetail&corsDomain=finance.yahoo.com&formatted=false&symbol=KIM-K&crumb=wMYLnRQb6Q9\n",
      "404 Client Error: Not Found for url: https://query2.finance.yahoo.com/v10/finance/quoteSummary/KMF?modules=financialData%2CquoteType%2CdefaultKeyStatistics%2CassetProfile%2CsummaryDetail&corsDomain=finance.yahoo.com&formatted=false&symbol=KMF&crumb=wMYLnRQb6Q9\n",
      "404 Client Error: Not Found for url: https://query2.finance.yahoo.com/v10/finance/quoteSummary/KMI.W?modules=financialData%2CquoteType%2CdefaultKeyStatistics%2CassetProfile%2CsummaryDetail&corsDomain=finance.yahoo.com&formatted=false&symbol=KMI.W&crumb=wMYLnRQb6Q9\n",
      "404 Client Error: Not Found for url: https://query2.finance.yahoo.com/v10/finance/quoteSummary/KRC-G?modules=financialData%2CquoteType%2CdefaultKeyStatistics%2CassetProfile%2CsummaryDetail&corsDomain=finance.yahoo.com&formatted=false&symbol=KRC-G&crumb=wMYLnRQb6Q9\n",
      "404 Client Error: Not Found for url: https://query2.finance.yahoo.com/v10/finance/quoteSummary/KRC-H?modules=financialData%2CquoteType%2CdefaultKeyStatistics%2CassetProfile%2CsummaryDetail&corsDomain=finance.yahoo.com&formatted=false&symbol=KRC-H&crumb=wMYLnRQb6Q9\n",
      "404 Client Error: Not Found for url: https://query2.finance.yahoo.com/v10/finance/quoteSummary/KRG-A?modules=financialData%2CquoteType%2CdefaultKeyStatistics%2CassetProfile%2CsummaryDetail&corsDomain=finance.yahoo.com&formatted=false&symbol=KRG-A&crumb=wMYLnRQb6Q9\n",
      "404 Client Error: Not Found for url: https://query2.finance.yahoo.com/v10/finance/quoteSummary/KWN?modules=financialData%2CquoteType%2CdefaultKeyStatistics%2CassetProfile%2CsummaryDetail&corsDomain=finance.yahoo.com&formatted=false&symbol=KWN&crumb=wMYLnRQb6Q9\n",
      "404 Client Error: Not Found for url: https://query2.finance.yahoo.com/v10/finance/quoteSummary/KYN-E?modules=financialData%2CquoteType%2CdefaultKeyStatistics%2CassetProfile%2CsummaryDetail&corsDomain=finance.yahoo.com&formatted=false&symbol=KYN-E&crumb=wMYLnRQb6Q9\n",
      "404 Client Error: Not Found for url: https://query2.finance.yahoo.com/v10/finance/quoteSummary/KYN-F?modules=financialData%2CquoteType%2CdefaultKeyStatistics%2CassetProfile%2CsummaryDetail&corsDomain=finance.yahoo.com&formatted=false&symbol=KYN-F&crumb=wMYLnRQb6Q9\n",
      "404 Client Error: Not Found for url: https://query2.finance.yahoo.com/v10/finance/quoteSummary/LHO-G?modules=financialData%2CquoteType%2CdefaultKeyStatistics%2CassetProfile%2CsummaryDetail&corsDomain=finance.yahoo.com&formatted=false&symbol=LHO-G&crumb=wMYLnRQb6Q9\n",
      "404 Client Error: Not Found for url: https://query2.finance.yahoo.com/v10/finance/quoteSummary/LHO-H?modules=financialData%2CquoteType%2CdefaultKeyStatistics%2CassetProfile%2CsummaryDetail&corsDomain=finance.yahoo.com&formatted=false&symbol=LHO-H&crumb=wMYLnRQb6Q9\n",
      "404 Client Error: Not Found for url: https://query2.finance.yahoo.com/v10/finance/quoteSummary/LHO-I?modules=financialData%2CquoteType%2CdefaultKeyStatistics%2CassetProfile%2CsummaryDetail&corsDomain=finance.yahoo.com&formatted=false&symbol=LHO-I&crumb=wMYLnRQb6Q9\n",
      "404 Client Error: Not Found for url: https://query2.finance.yahoo.com/v10/finance/quoteSummary/LL?modules=financialData%2CquoteType%2CdefaultKeyStatistics%2CassetProfile%2CsummaryDetail&corsDomain=finance.yahoo.com&formatted=false&symbol=LL&crumb=wMYLnRQb6Q9\n",
      "404 Client Error: Not Found for url: https://query2.finance.yahoo.com/v10/finance/quoteSummary/LNC.W?modules=financialData%2CquoteType%2CdefaultKeyStatistics%2CassetProfile%2CsummaryDetail&corsDomain=finance.yahoo.com&formatted=false&symbol=LNC.W&crumb=wMYLnRQb6Q9\n",
      "404 Client Error: Not Found for url: https://query2.finance.yahoo.com/v10/finance/quoteSummary/LSE-A?modules=financialData%2CquoteType%2CdefaultKeyStatistics%2CassetProfile%2CsummaryDetail&corsDomain=finance.yahoo.com&formatted=false&symbol=LSE-A&crumb=wMYLnRQb6Q9\n",
      "404 Client Error: Not Found for url: https://query2.finance.yahoo.com/v10/finance/quoteSummary/LSE-B?modules=financialData%2CquoteType%2CdefaultKeyStatistics%2CassetProfile%2CsummaryDetail&corsDomain=finance.yahoo.com&formatted=false&symbol=LSE-B&crumb=wMYLnRQb6Q9\n",
      "404 Client Error: Not Found for url: https://query2.finance.yahoo.com/v10/finance/quoteSummary/LSE-C?modules=financialData%2CquoteType%2CdefaultKeyStatistics%2CassetProfile%2CsummaryDetail&corsDomain=finance.yahoo.com&formatted=false&symbol=LSE-C&crumb=wMYLnRQb6Q9\n",
      "404 Client Error: Not Found for url: https://query2.finance.yahoo.com/v10/finance/quoteSummary/LXP-C?modules=financialData%2CquoteType%2CdefaultKeyStatistics%2CassetProfile%2CsummaryDetail&corsDomain=finance.yahoo.com&formatted=false&symbol=LXP-C&crumb=wMYLnRQb6Q9\n",
      "404 Client Error: Not Found for url: https://query2.finance.yahoo.com/v10/finance/quoteSummary/LYG-A?modules=financialData%2CquoteType%2CdefaultKeyStatistics%2CassetProfile%2CsummaryDetail&corsDomain=finance.yahoo.com&formatted=false&symbol=LYG-A&crumb=wMYLnRQb6Q9\n",
      "404 Client Error: Not Found for url: https://query2.finance.yahoo.com/v10/finance/quoteSummary/MCA?modules=financialData%2CquoteType%2CdefaultKeyStatistics%2CassetProfile%2CsummaryDetail&corsDomain=finance.yahoo.com&formatted=false&symbol=MCA&crumb=wMYLnRQb6Q9\n"
     ]
    },
    {
     "name": "stdout",
     "output_type": "stream",
     "text": [
      "Error fetching data for MCP-A: Too Many Requests. Rate limited. Try after a while.\n",
      "Error fetching data for MCQ: Too Many Requests. Rate limited. Try after a while.\n",
      "Error fetching data for MCR: Too Many Requests. Rate limited. Try after a while.\n",
      "Error fetching data for MCS: Too Many Requests. Rate limited. Try after a while.\n",
      "Error fetching data for MCV: Too Many Requests. Rate limited. Try after a while.\n",
      "Error fetching data for MCY: Too Many Requests. Rate limited. Try after a while.\n",
      "Error fetching data for MD: Too Many Requests. Rate limited. Try after a while.\n",
      "Error fetching data for MDC: Too Many Requests. Rate limited. Try after a while.\n",
      "Error fetching data for MDP: Too Many Requests. Rate limited. Try after a while.\n",
      "Error fetching data for MDR: Too Many Requests. Rate limited. Try after a while.\n",
      "Error fetching data for MDT: Too Many Requests. Rate limited. Try after a while.\n",
      "Error fetching data for MDU: Too Many Requests. Rate limited. Try after a while.\n",
      "Error fetching data for MED: Too Many Requests. Rate limited. Try after a while.\n",
      "Error fetching data for MEG: Too Many Requests. Rate limited. Try after a while.\n",
      "Error fetching data for MEI: Too Many Requests. Rate limited. Try after a while.\n",
      "Error fetching data for MEN: Too Many Requests. Rate limited. Try after a while.\n",
      "Error fetching data for MER-D: Too Many Requests. Rate limited. Try after a while.\n",
      "Error fetching data for MER-E: Too Many Requests. Rate limited. Try after a while.\n",
      "Error fetching data for MER-F: Too Many Requests. Rate limited. Try after a while.\n",
      "Error fetching data for MER-K: Too Many Requests. Rate limited. Try after a while.\n",
      "Error fetching data for MER-M: Too Many Requests. Rate limited. Try after a while.\n",
      "Error fetching data for MER-P: Too Many Requests. Rate limited. Try after a while.\n",
      "Error fetching data for MET: Too Many Requests. Rate limited. Try after a while.\n",
      "Error fetching data for MET-A: Too Many Requests. Rate limited. Try after a while.\n",
      "Error fetching data for MET-B: Too Many Requests. Rate limited. Try after a while.\n",
      "Error fetching data for MFA: Too Many Requests. Rate limited. Try after a while.\n",
      "Error fetching data for MFA-B: Too Many Requests. Rate limited. Try after a while.\n",
      "Error fetching data for MFB: Too Many Requests. Rate limited. Try after a while.\n",
      "Error fetching data for MFC: Too Many Requests. Rate limited. Try after a while.\n",
      "Error fetching data for MFD: Too Many Requests. Rate limited. Try after a while.\n",
      "Error fetching data for MFG: Too Many Requests. Rate limited. Try after a while.\n",
      "Error fetching data for MFL: Too Many Requests. Rate limited. Try after a while.\n",
      "Error fetching data for MFM: Too Many Requests. Rate limited. Try after a while.\n",
      "Error fetching data for MFO: Too Many Requests. Rate limited. Try after a while.\n",
      "Error fetching data for MFT: Too Many Requests. Rate limited. Try after a while.\n",
      "Error fetching data for MFV: Too Many Requests. Rate limited. Try after a while.\n",
      "Error fetching data for MG: Too Many Requests. Rate limited. Try after a while.\n",
      "Error fetching data for MGA: Too Many Requests. Rate limited. Try after a while.\n",
      "Error fetching data for MGF: Too Many Requests. Rate limited. Try after a while.\n",
      "Error fetching data for MGM: Too Many Requests. Rate limited. Try after a while.\n",
      "Error fetching data for MGR: Too Many Requests. Rate limited. Try after a while.\n",
      "Error fetching data for MGU: Too Many Requests. Rate limited. Try after a while.\n",
      "Error fetching data for MH-A: Too Many Requests. Rate limited. Try after a while.\n",
      "Error fetching data for MHD: Too Many Requests. Rate limited. Try after a while.\n",
      "Error fetching data for MHF: Too Many Requests. Rate limited. Try after a while.\n",
      "Error fetching data for MHFI: Too Many Requests. Rate limited. Try after a while.\n",
      "Error fetching data for MHI: Too Many Requests. Rate limited. Try after a while.\n",
      "Error fetching data for MHK: Too Many Requests. Rate limited. Try after a while.\n",
      "Error fetching data for MHN: Too Many Requests. Rate limited. Try after a while.\n",
      "Error fetching data for MHNA: Too Many Requests. Rate limited. Try after a while.\n",
      "Error fetching data for MHNB: Too Many Requests. Rate limited. Try after a while.\n",
      "Error fetching data for MHO: Too Many Requests. Rate limited. Try after a while.\n",
      "Error fetching data for MHO-A: Too Many Requests. Rate limited. Try after a while.\n",
      "Error fetching data for MHR: Too Many Requests. Rate limited. Try after a while.\n",
      "Error fetching data for MHY: Too Many Requests. Rate limited. Try after a while.\n",
      "Error fetching data for MIC: Too Many Requests. Rate limited. Try after a while.\n",
      "Error fetching data for MIE: Too Many Requests. Rate limited. Try after a while.\n",
      "Error fetching data for MIG: Too Many Requests. Rate limited. Try after a while.\n",
      "Error fetching data for MIL: Too Many Requests. Rate limited. Try after a while.\n",
      "Error fetching data for MILL: Too Many Requests. Rate limited. Try after a while.\n",
      "Error fetching data for MIN: Too Many Requests. Rate limited. Try after a while.\n",
      "Error fetching data for MIT-A: Too Many Requests. Rate limited. Try after a while.\n",
      "Error fetching data for MITT: Too Many Requests. Rate limited. Try after a while.\n",
      "Error fetching data for MIXT: Too Many Requests. Rate limited. Try after a while.\n",
      "Error fetching data for MIY: Too Many Requests. Rate limited. Try after a while.\n",
      "Error fetching data for MJI: Too Many Requests. Rate limited. Try after a while.\n",
      "Error fetching data for MJN: Too Many Requests. Rate limited. Try after a while.\n",
      "Error fetching data for MKC: Too Many Requests. Rate limited. Try after a while.\n",
      "Error fetching data for MKC.V: Too Many Requests. Rate limited. Try after a while.\n",
      "Error fetching data for MKL: Too Many Requests. Rate limited. Try after a while.\n",
      "Error fetching data for MLG: Too Many Requests. Rate limited. Try after a while.\n",
      "Error fetching data for MLI: Too Many Requests. Rate limited. Try after a while.\n",
      "Error fetching data for MLM: Too Many Requests. Rate limited. Try after a while.\n",
      "Error fetching data for MLP: Too Many Requests. Rate limited. Try after a while.\n",
      "Error fetching data for MLR: Too Many Requests. Rate limited. Try after a while.\n",
      "Error fetching data for MLU: Too Many Requests. Rate limited. Try after a while.\n",
      "Error fetching data for MM: Too Many Requests. Rate limited. Try after a while.\n",
      "Error fetching data for MMC: Too Many Requests. Rate limited. Try after a while.\n",
      "Error fetching data for MMD: Too Many Requests. Rate limited. Try after a while.\n",
      "Error fetching data for MMM: Too Many Requests. Rate limited. Try after a while.\n",
      "Error fetching data for MMP: Too Many Requests. Rate limited. Try after a while.\n",
      "Error fetching data for MMS: Too Many Requests. Rate limited. Try after a while.\n",
      "Error fetching data for MMT: Too Many Requests. Rate limited. Try after a while.\n",
      "Error fetching data for MMU: Too Many Requests. Rate limited. Try after a while.\n",
      "Error fetching data for MN: Too Many Requests. Rate limited. Try after a while.\n",
      "Error fetching data for MNE: Too Many Requests. Rate limited. Try after a while.\n",
      "Error fetching data for MNI: Too Many Requests. Rate limited. Try after a while.\n",
      "Error fetching data for MNK: Too Many Requests. Rate limited. Try after a while.\n",
      "Error fetching data for MNP: Too Many Requests. Rate limited. Try after a while.\n",
      "Error fetching data for MNR: Too Many Requests. Rate limited. Try after a while.\n",
      "Error fetching data for MNR-A: Too Many Requests. Rate limited. Try after a while.\n",
      "Error fetching data for MNR-B: Too Many Requests. Rate limited. Try after a while.\n",
      "Error fetching data for MO: Too Many Requests. Rate limited. Try after a while.\n",
      "Error fetching data for MOD: Too Many Requests. Rate limited. Try after a while.\n",
      "Error fetching data for MODN: Too Many Requests. Rate limited. Try after a while.\n",
      "Error fetching data for MOG.A: Too Many Requests. Rate limited. Try after a while.\n",
      "Error fetching data for MOG.B: Too Many Requests. Rate limited. Try after a while.\n",
      "Error fetching data for MOH: Too Many Requests. Rate limited. Try after a while.\n",
      "Error fetching data for MON: Too Many Requests. Rate limited. Try after a while.\n",
      "Error fetching data for MOS: Too Many Requests. Rate limited. Try after a while.\n",
      "Error fetching data for MOV: Too Many Requests. Rate limited. Try after a while.\n",
      "Error fetching data for MP-D: Too Many Requests. Rate limited. Try after a while.\n",
      "Error fetching data for MPA: Too Many Requests. Rate limited. Try after a while.\n",
      "Error fetching data for MPC: Too Many Requests. Rate limited. Try after a while.\n",
      "Error fetching data for MPG: Too Many Requests. Rate limited. Try after a while.\n",
      "Error fetching data for MPG-A: Too Many Requests. Rate limited. Try after a while.\n",
      "Error fetching data for MPLX: Too Many Requests. Rate limited. Try after a while.\n",
      "Error fetching data for MPO: Too Many Requests. Rate limited. Try after a while.\n",
      "Error fetching data for MPR: Too Many Requests. Rate limited. Try after a while.\n",
      "Error fetching data for MPV: Too Many Requests. Rate limited. Try after a while.\n",
      "Error fetching data for MPW: Too Many Requests. Rate limited. Try after a while.\n",
      "Error fetching data for MPX: Too Many Requests. Rate limited. Try after a while.\n",
      "Error fetching data for MQT: Too Many Requests. Rate limited. Try after a while.\n",
      "Error fetching data for MQY: Too Many Requests. Rate limited. Try after a while.\n",
      "Error fetching data for MR: Too Many Requests. Rate limited. Try after a while.\n",
      "Error fetching data for MRC: Too Many Requests. Rate limited. Try after a while.\n",
      "Error fetching data for MRF: Too Many Requests. Rate limited. Try after a while.\n",
      "Error fetching data for MRH: Too Many Requests. Rate limited. Try after a while.\n",
      "Error fetching data for MRH-A: Too Many Requests. Rate limited. Try after a while.\n",
      "Error fetching data for MRIN: Too Many Requests. Rate limited. Try after a while.\n",
      "Error fetching data for MRK: Too Many Requests. Rate limited. Try after a while.\n",
      "Error fetching data for MRO: Too Many Requests. Rate limited. Try after a while.\n",
      "Error fetching data for MS: Too Many Requests. Rate limited. Try after a while.\n",
      "Error fetching data for MS-A: Too Many Requests. Rate limited. Try after a while.\n",
      "Error fetching data for MSA: Too Many Requests. Rate limited. Try after a while.\n",
      "Error fetching data for MSB: Too Many Requests. Rate limited. Try after a while.\n",
      "Error fetching data for MSCA: Too Many Requests. Rate limited. Try after a while.\n",
      "Error fetching data for MSCI: Too Many Requests. Rate limited. Try after a while.\n",
      "Error fetching data for MSD: Too Many Requests. Rate limited. Try after a while.\n",
      "Error fetching data for MSF: Too Many Requests. Rate limited. Try after a while.\n",
      "Error fetching data for MSI: Too Many Requests. Rate limited. Try after a while.\n",
      "Error fetching data for MSJ: Too Many Requests. Rate limited. Try after a while.\n",
      "Error fetching data for MSK: Too Many Requests. Rate limited. Try after a while.\n",
      "Error fetching data for MSM: Too Many Requests. Rate limited. Try after a while.\n",
      "Error fetching data for MSO: Too Many Requests. Rate limited. Try after a while.\n",
      "Error fetching data for MSP: Too Many Requests. Rate limited. Try after a while.\n",
      "Error fetching data for MSZ: Too Many Requests. Rate limited. Try after a while.\n",
      "Error fetching data for MT: Too Many Requests. Rate limited. Try after a while.\n",
      "Error fetching data for MTB: Too Many Requests. Rate limited. Try after a while.\n",
      "Error fetching data for MTB-A: Too Many Requests. Rate limited. Try after a while.\n",
      "Error fetching data for MTB-C: Too Many Requests. Rate limited. Try after a while.\n",
      "Error fetching data for MTB.P: Too Many Requests. Rate limited. Try after a while.\n",
      "Error fetching data for MTB.W: Too Many Requests. Rate limited. Try after a while.\n",
      "Error fetching data for MTCN: Too Many Requests. Rate limited. Try after a while.\n",
      "Error fetching data for MTD: Too Many Requests. Rate limited. Try after a while.\n",
      "Error fetching data for MTDR: Too Many Requests. Rate limited. Try after a while.\n",
      "Error fetching data for MTG: Too Many Requests. Rate limited. Try after a while.\n",
      "Error fetching data for MTH: Too Many Requests. Rate limited. Try after a while.\n",
      "Error fetching data for MTL: Too Many Requests. Rate limited. Try after a while.\n",
      "Error fetching data for MTL.P: Too Many Requests. Rate limited. Try after a while.\n",
      "Error fetching data for MTN: Too Many Requests. Rate limited. Try after a while.\n",
      "Error fetching data for MTOR: Too Many Requests. Rate limited. Try after a while.\n",
      "Error fetching data for MTR: Too Many Requests. Rate limited. Try after a while.\n",
      "Error fetching data for MTRN: Too Many Requests. Rate limited. Try after a while.\n",
      "Error fetching data for MTS: Too Many Requests. Rate limited. Try after a while.\n",
      "Error fetching data for MTT: Too Many Requests. Rate limited. Try after a while.\n",
      "Error fetching data for MTU: Too Many Requests. Rate limited. Try after a while.\n",
      "Error fetching data for MTW: Too Many Requests. Rate limited. Try after a while.\n",
      "Error fetching data for MTX: Too Many Requests. Rate limited. Try after a while.\n",
      "Error fetching data for MTZ: Too Many Requests. Rate limited. Try after a while.\n",
      "Error fetching data for MUA: Too Many Requests. Rate limited. Try after a while.\n",
      "Error fetching data for MUC: Too Many Requests. Rate limited. Try after a while.\n",
      "Error fetching data for MUE: Too Many Requests. Rate limited. Try after a while.\n",
      "Error fetching data for MUH: Too Many Requests. Rate limited. Try after a while.\n",
      "Error fetching data for MUI: Too Many Requests. Rate limited. Try after a while.\n",
      "Error fetching data for MUJ: Too Many Requests. Rate limited. Try after a while.\n",
      "Error fetching data for MUR: Too Many Requests. Rate limited. Try after a while.\n",
      "Error fetching data for MUS: Too Many Requests. Rate limited. Try after a while.\n",
      "Error fetching data for MUX: Too Many Requests. Rate limited. Try after a while.\n",
      "Error fetching data for MVC: Too Many Requests. Rate limited. Try after a while.\n",
      "Error fetching data for MVCB: Too Many Requests. Rate limited. Try after a while.\n",
      "Error fetching data for MVO: Too Many Requests. Rate limited. Try after a while.\n",
      "Error fetching data for MVT: Too Many Requests. Rate limited. Try after a while.\n",
      "Error fetching data for MW: Too Many Requests. Rate limited. Try after a while.\n",
      "Error fetching data for MWA: Too Many Requests. Rate limited. Try after a while.\n",
      "Error fetching data for MWE: Too Many Requests. Rate limited. Try after a while.\n",
      "Error fetching data for MWG: Too Many Requests. Rate limited. Try after a while.\n",
      "Error fetching data for MWO: Too Many Requests. Rate limited. Try after a while.\n",
      "Error fetching data for MWR: Too Many Requests. Rate limited. Try after a while.\n",
      "Error fetching data for MWV: Too Many Requests. Rate limited. Try after a while.\n",
      "Error fetching data for MWW: Too Many Requests. Rate limited. Try after a while.\n",
      "Error fetching data for MX: Too Many Requests. Rate limited. Try after a while.\n",
      "Error fetching data for MXE: Too Many Requests. Rate limited. Try after a while.\n",
      "Error fetching data for MXF: Too Many Requests. Rate limited. Try after a while.\n",
      "Error fetching data for MXL: Too Many Requests. Rate limited. Try after a while.\n",
      "Error fetching data for MXT: Too Many Requests. Rate limited. Try after a while.\n",
      "Error fetching data for MY: Too Many Requests. Rate limited. Try after a while.\n",
      "Error fetching data for MYC: Too Many Requests. Rate limited. Try after a while.\n",
      "Error fetching data for MYD: Too Many Requests. Rate limited. Try after a while.\n",
      "Error fetching data for MYE: Too Many Requests. Rate limited. Try after a while.\n",
      "Error fetching data for MYF: Too Many Requests. Rate limited. Try after a while.\n"
     ]
    },
    {
     "name": "stderr",
     "output_type": "stream",
     "text": [
      "401 Client Error: Unauthorized for url: https://query2.finance.yahoo.com/v10/finance/quoteSummary/MYI?modules=financialData%2CquoteType%2CdefaultKeyStatistics%2CassetProfile%2CsummaryDetail&corsDomain=finance.yahoo.com&formatted=false&symbol=MYI&crumb=Edge%3A+Too+Many+Requests\n",
      "404 Client Error: Not Found for url: https://query2.finance.yahoo.com/v10/finance/quoteSummary/MYJ?modules=financialData%2CquoteType%2CdefaultKeyStatistics%2CassetProfile%2CsummaryDetail&corsDomain=finance.yahoo.com&formatted=false&symbol=MYJ&crumb=wMYLnRQb6Q9\n",
      "404 Client Error: Not Found for url: https://query2.finance.yahoo.com/v10/finance/quoteSummary/NAD-C?modules=financialData%2CquoteType%2CdefaultKeyStatistics%2CassetProfile%2CsummaryDetail&corsDomain=finance.yahoo.com&formatted=false&symbol=NAD-C&crumb=wMYLnRQb6Q9\n",
      "404 Client Error: Not Found for url: https://query2.finance.yahoo.com/v10/finance/quoteSummary/NAN-C?modules=financialData%2CquoteType%2CdefaultKeyStatistics%2CassetProfile%2CsummaryDetail&corsDomain=finance.yahoo.com&formatted=false&symbol=NAN-C&crumb=wMYLnRQb6Q9\n",
      "404 Client Error: Not Found for url: https://query2.finance.yahoo.com/v10/finance/quoteSummary/NAN-D?modules=financialData%2CquoteType%2CdefaultKeyStatistics%2CassetProfile%2CsummaryDetail&corsDomain=finance.yahoo.com&formatted=false&symbol=NAN-D&crumb=wMYLnRQb6Q9\n",
      "404 Client Error: Not Found for url: https://query2.finance.yahoo.com/v10/finance/quoteSummary/NAZ-D?modules=financialData%2CquoteType%2CdefaultKeyStatistics%2CassetProfile%2CsummaryDetail&corsDomain=finance.yahoo.com&formatted=false&symbol=NAZ-D&crumb=wMYLnRQb6Q9\n",
      "404 Client Error: Not Found for url: https://query2.finance.yahoo.com/v10/finance/quoteSummary/NBG-A?modules=financialData%2CquoteType%2CdefaultKeyStatistics%2CassetProfile%2CsummaryDetail&corsDomain=finance.yahoo.com&formatted=false&symbol=NBG-A&crumb=wMYLnRQb6Q9\n",
      "404 Client Error: Not Found for url: https://query2.finance.yahoo.com/v10/finance/quoteSummary/NCR?modules=financialData%2CquoteType%2CdefaultKeyStatistics%2CassetProfile%2CsummaryDetail&corsDomain=finance.yahoo.com&formatted=false&symbol=NCR&crumb=wMYLnRQb6Q9\n",
      "404 Client Error: Not Found for url: https://query2.finance.yahoo.com/v10/finance/quoteSummary/NCT-B?modules=financialData%2CquoteType%2CdefaultKeyStatistics%2CassetProfile%2CsummaryDetail&corsDomain=finance.yahoo.com&formatted=false&symbol=NCT-B&crumb=wMYLnRQb6Q9\n",
      "404 Client Error: Not Found for url: https://query2.finance.yahoo.com/v10/finance/quoteSummary/NCT-C?modules=financialData%2CquoteType%2CdefaultKeyStatistics%2CassetProfile%2CsummaryDetail&corsDomain=finance.yahoo.com&formatted=false&symbol=NCT-C&crumb=wMYLnRQb6Q9\n",
      "404 Client Error: Not Found for url: https://query2.finance.yahoo.com/v10/finance/quoteSummary/NCT-D?modules=financialData%2CquoteType%2CdefaultKeyStatistics%2CassetProfile%2CsummaryDetail&corsDomain=finance.yahoo.com&formatted=false&symbol=NCT-D&crumb=wMYLnRQb6Q9\n",
      "404 Client Error: Not Found for url: https://query2.finance.yahoo.com/v10/finance/quoteSummary/NCU-C?modules=financialData%2CquoteType%2CdefaultKeyStatistics%2CassetProfile%2CsummaryDetail&corsDomain=finance.yahoo.com&formatted=false&symbol=NCU-C&crumb=wMYLnRQb6Q9\n",
      "404 Client Error: Not Found for url: https://query2.finance.yahoo.com/v10/finance/quoteSummary/NEA-C?modules=financialData%2CquoteType%2CdefaultKeyStatistics%2CassetProfile%2CsummaryDetail&corsDomain=finance.yahoo.com&formatted=false&symbol=NEA-C&crumb=wMYLnRQb6Q9\n",
      "404 Client Error: Not Found for url: https://query2.finance.yahoo.com/v10/finance/quoteSummary/NEE-C?modules=financialData%2CquoteType%2CdefaultKeyStatistics%2CassetProfile%2CsummaryDetail&corsDomain=finance.yahoo.com&formatted=false&symbol=NEE-C&crumb=wMYLnRQb6Q9\n",
      "404 Client Error: Not Found for url: https://query2.finance.yahoo.com/v10/finance/quoteSummary/NEE-F?modules=financialData%2CquoteType%2CdefaultKeyStatistics%2CassetProfile%2CsummaryDetail&corsDomain=finance.yahoo.com&formatted=false&symbol=NEE-F&crumb=wMYLnRQb6Q9\n",
      "404 Client Error: Not Found for url: https://query2.finance.yahoo.com/v10/finance/quoteSummary/NEE-G?modules=financialData%2CquoteType%2CdefaultKeyStatistics%2CassetProfile%2CsummaryDetail&corsDomain=finance.yahoo.com&formatted=false&symbol=NEE-G&crumb=wMYLnRQb6Q9\n",
      "404 Client Error: Not Found for url: https://query2.finance.yahoo.com/v10/finance/quoteSummary/NEE-H?modules=financialData%2CquoteType%2CdefaultKeyStatistics%2CassetProfile%2CsummaryDetail&corsDomain=finance.yahoo.com&formatted=false&symbol=NEE-H&crumb=wMYLnRQb6Q9\n",
      "404 Client Error: Not Found for url: https://query2.finance.yahoo.com/v10/finance/quoteSummary/NEE-I?modules=financialData%2CquoteType%2CdefaultKeyStatistics%2CassetProfile%2CsummaryDetail&corsDomain=finance.yahoo.com&formatted=false&symbol=NEE-I&crumb=wMYLnRQb6Q9\n",
      "404 Client Error: Not Found for url: https://query2.finance.yahoo.com/v10/finance/quoteSummary/NEE-J?modules=financialData%2CquoteType%2CdefaultKeyStatistics%2CassetProfile%2CsummaryDetail&corsDomain=finance.yahoo.com&formatted=false&symbol=NEE-J&crumb=wMYLnRQb6Q9\n",
      "404 Client Error: Not Found for url: https://query2.finance.yahoo.com/v10/finance/quoteSummary/NEE-O?modules=financialData%2CquoteType%2CdefaultKeyStatistics%2CassetProfile%2CsummaryDetail&corsDomain=finance.yahoo.com&formatted=false&symbol=NEE-O&crumb=wMYLnRQb6Q9\n",
      "404 Client Error: Not Found for url: https://query2.finance.yahoo.com/v10/finance/quoteSummary/NEV?modules=financialData%2CquoteType%2CdefaultKeyStatistics%2CassetProfile%2CsummaryDetail&corsDomain=finance.yahoo.com&formatted=false&symbol=NEV&crumb=wMYLnRQb6Q9\n",
      "404 Client Error: Not Found for url: https://query2.finance.yahoo.com/v10/finance/quoteSummary/NGX-C?modules=financialData%2CquoteType%2CdefaultKeyStatistics%2CassetProfile%2CsummaryDetail&corsDomain=finance.yahoo.com&formatted=false&symbol=NGX-C&crumb=wMYLnRQb6Q9\n",
      "404 Client Error: Not Found for url: https://query2.finance.yahoo.com/v10/finance/quoteSummary/NID?modules=financialData%2CquoteType%2CdefaultKeyStatistics%2CassetProfile%2CsummaryDetail&corsDomain=finance.yahoo.com&formatted=false&symbol=NID&crumb=wMYLnRQb6Q9\n",
      "404 Client Error: Not Found for url: https://query2.finance.yahoo.com/v10/finance/quoteSummary/NIQ?modules=financialData%2CquoteType%2CdefaultKeyStatistics%2CassetProfile%2CsummaryDetail&corsDomain=finance.yahoo.com&formatted=false&symbol=NIQ&crumb=wMYLnRQb6Q9\n",
      "404 Client Error: Not Found for url: https://query2.finance.yahoo.com/v10/finance/quoteSummary/NKG-C?modules=financialData%2CquoteType%2CdefaultKeyStatistics%2CassetProfile%2CsummaryDetail&corsDomain=finance.yahoo.com&formatted=false&symbol=NKG-C&crumb=wMYLnRQb6Q9\n",
      "404 Client Error: Not Found for url: https://query2.finance.yahoo.com/v10/finance/quoteSummary/NKG-D?modules=financialData%2CquoteType%2CdefaultKeyStatistics%2CassetProfile%2CsummaryDetail&corsDomain=finance.yahoo.com&formatted=false&symbol=NKG-D&crumb=wMYLnRQb6Q9\n",
      "404 Client Error: Not Found for url: https://query2.finance.yahoo.com/v10/finance/quoteSummary/NLY-A?modules=financialData%2CquoteType%2CdefaultKeyStatistics%2CassetProfile%2CsummaryDetail&corsDomain=finance.yahoo.com&formatted=false&symbol=NLY-A&crumb=wMYLnRQb6Q9\n",
      "404 Client Error: Not Found for url: https://query2.finance.yahoo.com/v10/finance/quoteSummary/NLY-C?modules=financialData%2CquoteType%2CdefaultKeyStatistics%2CassetProfile%2CsummaryDetail&corsDomain=finance.yahoo.com&formatted=false&symbol=NLY-C&crumb=wMYLnRQb6Q9\n",
      "404 Client Error: Not Found for url: https://query2.finance.yahoo.com/v10/finance/quoteSummary/NLY-D?modules=financialData%2CquoteType%2CdefaultKeyStatistics%2CassetProfile%2CsummaryDetail&corsDomain=finance.yahoo.com&formatted=false&symbol=NLY-D&crumb=wMYLnRQb6Q9\n",
      "404 Client Error: Not Found for url: https://query2.finance.yahoo.com/v10/finance/quoteSummary/NMK-B?modules=financialData%2CquoteType%2CdefaultKeyStatistics%2CassetProfile%2CsummaryDetail&corsDomain=finance.yahoo.com&formatted=false&symbol=NMK-B&crumb=wMYLnRQb6Q9\n",
      "404 Client Error: Not Found for url: https://query2.finance.yahoo.com/v10/finance/quoteSummary/NMK-C?modules=financialData%2CquoteType%2CdefaultKeyStatistics%2CassetProfile%2CsummaryDetail&corsDomain=finance.yahoo.com&formatted=false&symbol=NMK-C&crumb=wMYLnRQb6Q9\n",
      "404 Client Error: Not Found for url: https://query2.finance.yahoo.com/v10/finance/quoteSummary/NMT-C?modules=financialData%2CquoteType%2CdefaultKeyStatistics%2CassetProfile%2CsummaryDetail&corsDomain=finance.yahoo.com&formatted=false&symbol=NMT-C&crumb=wMYLnRQb6Q9\n",
      "404 Client Error: Not Found for url: https://query2.finance.yahoo.com/v10/finance/quoteSummary/NMT-D?modules=financialData%2CquoteType%2CdefaultKeyStatistics%2CassetProfile%2CsummaryDetail&corsDomain=finance.yahoo.com&formatted=false&symbol=NMT-D&crumb=wMYLnRQb6Q9\n",
      "404 Client Error: Not Found for url: https://query2.finance.yahoo.com/v10/finance/quoteSummary/NMY-C?modules=financialData%2CquoteType%2CdefaultKeyStatistics%2CassetProfile%2CsummaryDetail&corsDomain=finance.yahoo.com&formatted=false&symbol=NMY-C&crumb=wMYLnRQb6Q9\n",
      "404 Client Error: Not Found for url: https://query2.finance.yahoo.com/v10/finance/quoteSummary/NMY-D?modules=financialData%2CquoteType%2CdefaultKeyStatistics%2CassetProfile%2CsummaryDetail&corsDomain=finance.yahoo.com&formatted=false&symbol=NMY-D&crumb=wMYLnRQb6Q9\n",
      "404 Client Error: Not Found for url: https://query2.finance.yahoo.com/v10/finance/quoteSummary/NMY-E?modules=financialData%2CquoteType%2CdefaultKeyStatistics%2CassetProfile%2CsummaryDetail&corsDomain=finance.yahoo.com&formatted=false&symbol=NMY-E&crumb=wMYLnRQb6Q9\n",
      "404 Client Error: Not Found for url: https://query2.finance.yahoo.com/v10/finance/quoteSummary/NMY-F?modules=financialData%2CquoteType%2CdefaultKeyStatistics%2CassetProfile%2CsummaryDetail&corsDomain=finance.yahoo.com&formatted=false&symbol=NMY-F&crumb=wMYLnRQb6Q9\n",
      "404 Client Error: Not Found for url: https://query2.finance.yahoo.com/v10/finance/quoteSummary/NMY-G?modules=financialData%2CquoteType%2CdefaultKeyStatistics%2CassetProfile%2CsummaryDetail&corsDomain=finance.yahoo.com&formatted=false&symbol=NMY-G&crumb=wMYLnRQb6Q9\n",
      "404 Client Error: Not Found for url: https://query2.finance.yahoo.com/v10/finance/quoteSummary/NMY-H?modules=financialData%2CquoteType%2CdefaultKeyStatistics%2CassetProfile%2CsummaryDetail&corsDomain=finance.yahoo.com&formatted=false&symbol=NMY-H&crumb=wMYLnRQb6Q9\n",
      "404 Client Error: Not Found for url: https://query2.finance.yahoo.com/v10/finance/quoteSummary/NNC-C?modules=financialData%2CquoteType%2CdefaultKeyStatistics%2CassetProfile%2CsummaryDetail&corsDomain=finance.yahoo.com&formatted=false&symbol=NNC-C&crumb=wMYLnRQb6Q9\n",
      "404 Client Error: Not Found for url: https://query2.finance.yahoo.com/v10/finance/quoteSummary/NNC-D?modules=financialData%2CquoteType%2CdefaultKeyStatistics%2CassetProfile%2CsummaryDetail&corsDomain=finance.yahoo.com&formatted=false&symbol=NNC-D&crumb=wMYLnRQb6Q9\n",
      "404 Client Error: Not Found for url: https://query2.finance.yahoo.com/v10/finance/quoteSummary/NNC-E?modules=financialData%2CquoteType%2CdefaultKeyStatistics%2CassetProfile%2CsummaryDetail&corsDomain=finance.yahoo.com&formatted=false&symbol=NNC-E&crumb=wMYLnRQb6Q9\n",
      "404 Client Error: Not Found for url: https://query2.finance.yahoo.com/v10/finance/quoteSummary/NNC-F?modules=financialData%2CquoteType%2CdefaultKeyStatistics%2CassetProfile%2CsummaryDetail&corsDomain=finance.yahoo.com&formatted=false&symbol=NNC-F&crumb=wMYLnRQb6Q9\n",
      "404 Client Error: Not Found for url: https://query2.finance.yahoo.com/v10/finance/quoteSummary/NNC-G?modules=financialData%2CquoteType%2CdefaultKeyStatistics%2CassetProfile%2CsummaryDetail&corsDomain=finance.yahoo.com&formatted=false&symbol=NNC-G&crumb=wMYLnRQb6Q9\n",
      "404 Client Error: Not Found for url: https://query2.finance.yahoo.com/v10/finance/quoteSummary/NNN-D?modules=financialData%2CquoteType%2CdefaultKeyStatistics%2CassetProfile%2CsummaryDetail&corsDomain=finance.yahoo.com&formatted=false&symbol=NNN-D&crumb=wMYLnRQb6Q9\n",
      "404 Client Error: Not Found for url: https://query2.finance.yahoo.com/v10/finance/quoteSummary/NNN-E?modules=financialData%2CquoteType%2CdefaultKeyStatistics%2CassetProfile%2CsummaryDetail&corsDomain=finance.yahoo.com&formatted=false&symbol=NNN-E&crumb=wMYLnRQb6Q9\n",
      "404 Client Error: Not Found for url: https://query2.finance.yahoo.com/v10/finance/quoteSummary/NOM-C?modules=financialData%2CquoteType%2CdefaultKeyStatistics%2CassetProfile%2CsummaryDetail&corsDomain=finance.yahoo.com&formatted=false&symbol=NOM-C&crumb=wMYLnRQb6Q9\n",
      "404 Client Error: Not Found for url: https://query2.finance.yahoo.com/v10/finance/quoteSummary/NPV-A?modules=financialData%2CquoteType%2CdefaultKeyStatistics%2CassetProfile%2CsummaryDetail&corsDomain=finance.yahoo.com&formatted=false&symbol=NPV-A&crumb=wMYLnRQb6Q9\n",
      "404 Client Error: Not Found for url: https://query2.finance.yahoo.com/v10/finance/quoteSummary/NPV-C?modules=financialData%2CquoteType%2CdefaultKeyStatistics%2CassetProfile%2CsummaryDetail&corsDomain=finance.yahoo.com&formatted=false&symbol=NPV-C&crumb=wMYLnRQb6Q9\n",
      "404 Client Error: Not Found for url: https://query2.finance.yahoo.com/v10/finance/quoteSummary/NPV-D?modules=financialData%2CquoteType%2CdefaultKeyStatistics%2CassetProfile%2CsummaryDetail&corsDomain=finance.yahoo.com&formatted=false&symbol=NPV-D&crumb=wMYLnRQb6Q9\n",
      "404 Client Error: Not Found for url: https://query2.finance.yahoo.com/v10/finance/quoteSummary/NPV-E?modules=financialData%2CquoteType%2CdefaultKeyStatistics%2CassetProfile%2CsummaryDetail&corsDomain=finance.yahoo.com&formatted=false&symbol=NPV-E&crumb=wMYLnRQb6Q9\n",
      "404 Client Error: Not Found for url: https://query2.finance.yahoo.com/v10/finance/quoteSummary/NRF-A?modules=financialData%2CquoteType%2CdefaultKeyStatistics%2CassetProfile%2CsummaryDetail&corsDomain=finance.yahoo.com&formatted=false&symbol=NRF-A&crumb=wMYLnRQb6Q9\n",
      "404 Client Error: Not Found for url: https://query2.finance.yahoo.com/v10/finance/quoteSummary/NRF-B?modules=financialData%2CquoteType%2CdefaultKeyStatistics%2CassetProfile%2CsummaryDetail&corsDomain=finance.yahoo.com&formatted=false&symbol=NRF-B&crumb=wMYLnRQb6Q9\n",
      "404 Client Error: Not Found for url: https://query2.finance.yahoo.com/v10/finance/quoteSummary/NRF-C?modules=financialData%2CquoteType%2CdefaultKeyStatistics%2CassetProfile%2CsummaryDetail&corsDomain=finance.yahoo.com&formatted=false&symbol=NRF-C&crumb=wMYLnRQb6Q9\n",
      "404 Client Error: Not Found for url: https://query2.finance.yahoo.com/v10/finance/quoteSummary/NRF-D?modules=financialData%2CquoteType%2CdefaultKeyStatistics%2CassetProfile%2CsummaryDetail&corsDomain=finance.yahoo.com&formatted=false&symbol=NRF-D&crumb=wMYLnRQb6Q9\n",
      "404 Client Error: Not Found for url: https://query2.finance.yahoo.com/v10/finance/quoteSummary/NRK-C?modules=financialData%2CquoteType%2CdefaultKeyStatistics%2CassetProfile%2CsummaryDetail&corsDomain=finance.yahoo.com&formatted=false&symbol=NRK-C&crumb=wMYLnRQb6Q9\n",
      "404 Client Error: Not Found for url: https://query2.finance.yahoo.com/v10/finance/quoteSummary/NS?modules=financialData%2CquoteType%2CdefaultKeyStatistics%2CassetProfile%2CsummaryDetail&corsDomain=finance.yahoo.com&formatted=false&symbol=NS&crumb=wMYLnRQb6Q9\n",
      "404 Client Error: Not Found for url: https://query2.finance.yahoo.com/v10/finance/quoteSummary/NSL?modules=financialData%2CquoteType%2CdefaultKeyStatistics%2CassetProfile%2CsummaryDetail&corsDomain=finance.yahoo.com&formatted=false&symbol=NSL&crumb=wMYLnRQb6Q9\n",
      "404 Client Error: Not Found for url: https://query2.finance.yahoo.com/v10/finance/quoteSummary/NSR?modules=financialData%2CquoteType%2CdefaultKeyStatistics%2CassetProfile%2CsummaryDetail&corsDomain=finance.yahoo.com&formatted=false&symbol=NSR&crumb=wMYLnRQb6Q9\n",
      "404 Client Error: Not Found for url: https://query2.finance.yahoo.com/v10/finance/quoteSummary/NSS?modules=financialData%2CquoteType%2CdefaultKeyStatistics%2CassetProfile%2CsummaryDetail&corsDomain=finance.yahoo.com&formatted=false&symbol=NSS&crumb=wMYLnRQb6Q9\n",
      "404 Client Error: Not Found for url: https://query2.finance.yahoo.com/v10/finance/quoteSummary/NTC-C?modules=financialData%2CquoteType%2CdefaultKeyStatistics%2CassetProfile%2CsummaryDetail&corsDomain=finance.yahoo.com&formatted=false&symbol=NTC-C&crumb=wMYLnRQb6Q9\n",
      "404 Client Error: Not Found for url: https://query2.finance.yahoo.com/v10/finance/quoteSummary/NTC-D?modules=financialData%2CquoteType%2CdefaultKeyStatistics%2CassetProfile%2CsummaryDetail&corsDomain=finance.yahoo.com&formatted=false&symbol=NTC-D&crumb=wMYLnRQb6Q9\n",
      "404 Client Error: Not Found for url: https://query2.finance.yahoo.com/v10/finance/quoteSummary/NTC-E?modules=financialData%2CquoteType%2CdefaultKeyStatistics%2CassetProfile%2CsummaryDetail&corsDomain=finance.yahoo.com&formatted=false&symbol=NTC-E&crumb=wMYLnRQb6Q9\n",
      "404 Client Error: Not Found for url: https://query2.finance.yahoo.com/v10/finance/quoteSummary/NTC-F?modules=financialData%2CquoteType%2CdefaultKeyStatistics%2CassetProfile%2CsummaryDetail&corsDomain=finance.yahoo.com&formatted=false&symbol=NTC-F&crumb=wMYLnRQb6Q9\n",
      "404 Client Error: Not Found for url: https://query2.finance.yahoo.com/v10/finance/quoteSummary/NTC-G?modules=financialData%2CquoteType%2CdefaultKeyStatistics%2CassetProfile%2CsummaryDetail&corsDomain=finance.yahoo.com&formatted=false&symbol=NTC-G&crumb=wMYLnRQb6Q9\n",
      "404 Client Error: Not Found for url: https://query2.finance.yahoo.com/v10/finance/quoteSummary/NTX-C?modules=financialData%2CquoteType%2CdefaultKeyStatistics%2CassetProfile%2CsummaryDetail&corsDomain=finance.yahoo.com&formatted=false&symbol=NTX-C&crumb=wMYLnRQb6Q9\n",
      "404 Client Error: Not Found for url: https://query2.finance.yahoo.com/v10/finance/quoteSummary/NUJ-C?modules=financialData%2CquoteType%2CdefaultKeyStatistics%2CassetProfile%2CsummaryDetail&corsDomain=finance.yahoo.com&formatted=false&symbol=NUJ-C&crumb=wMYLnRQb6Q9\n",
      "404 Client Error: Not Found for url: https://query2.finance.yahoo.com/v10/finance/quoteSummary/NUO?modules=financialData%2CquoteType%2CdefaultKeyStatistics%2CassetProfile%2CsummaryDetail&corsDomain=finance.yahoo.com&formatted=false&symbol=NUO&crumb=wMYLnRQb6Q9\n",
      "404 Client Error: Not Found for url: https://query2.finance.yahoo.com/v10/finance/quoteSummary/NUO-C?modules=financialData%2CquoteType%2CdefaultKeyStatistics%2CassetProfile%2CsummaryDetail&corsDomain=finance.yahoo.com&formatted=false&symbol=NUO-C&crumb=wMYLnRQb6Q9\n",
      "404 Client Error: Not Found for url: https://query2.finance.yahoo.com/v10/finance/quoteSummary/NVG-C?modules=financialData%2CquoteType%2CdefaultKeyStatistics%2CassetProfile%2CsummaryDetail&corsDomain=finance.yahoo.com&formatted=false&symbol=NVG-C&crumb=wMYLnRQb6Q9\n",
      "404 Client Error: Not Found for url: https://query2.finance.yahoo.com/v10/finance/quoteSummary/NVX-A?modules=financialData%2CquoteType%2CdefaultKeyStatistics%2CassetProfile%2CsummaryDetail&corsDomain=finance.yahoo.com&formatted=false&symbol=NVX-A&crumb=wMYLnRQb6Q9\n",
      "404 Client Error: Not Found for url: https://query2.finance.yahoo.com/v10/finance/quoteSummary/NVX-C?modules=financialData%2CquoteType%2CdefaultKeyStatistics%2CassetProfile%2CsummaryDetail&corsDomain=finance.yahoo.com&formatted=false&symbol=NVX-C&crumb=wMYLnRQb6Q9\n",
      "404 Client Error: Not Found for url: https://query2.finance.yahoo.com/v10/finance/quoteSummary/NVY-C?modules=financialData%2CquoteType%2CdefaultKeyStatistics%2CassetProfile%2CsummaryDetail&corsDomain=finance.yahoo.com&formatted=false&symbol=NVY-C&crumb=wMYLnRQb6Q9\n",
      "404 Client Error: Not Found for url: https://query2.finance.yahoo.com/v10/finance/quoteSummary/NW-C?modules=financialData%2CquoteType%2CdefaultKeyStatistics%2CassetProfile%2CsummaryDetail&corsDomain=finance.yahoo.com&formatted=false&symbol=NW-C&crumb=wMYLnRQb6Q9\n",
      "404 Client Error: Not Found for url: https://query2.finance.yahoo.com/v10/finance/quoteSummary/NXJ-A?modules=financialData%2CquoteType%2CdefaultKeyStatistics%2CassetProfile%2CsummaryDetail&corsDomain=finance.yahoo.com&formatted=false&symbol=NXJ-A&crumb=wMYLnRQb6Q9\n",
      "404 Client Error: Not Found for url: https://query2.finance.yahoo.com/v10/finance/quoteSummary/NXK-C?modules=financialData%2CquoteType%2CdefaultKeyStatistics%2CassetProfile%2CsummaryDetail&corsDomain=finance.yahoo.com&formatted=false&symbol=NXK-C&crumb=wMYLnRQb6Q9\n",
      "404 Client Error: Not Found for url: https://query2.finance.yahoo.com/v10/finance/quoteSummary/NXM-C?modules=financialData%2CquoteType%2CdefaultKeyStatistics%2CassetProfile%2CsummaryDetail&corsDomain=finance.yahoo.com&formatted=false&symbol=NXM-C&crumb=wMYLnRQb6Q9\n",
      "404 Client Error: Not Found for url: https://query2.finance.yahoo.com/v10/finance/quoteSummary/NYCB?modules=financialData%2CquoteType%2CdefaultKeyStatistics%2CassetProfile%2CsummaryDetail&corsDomain=finance.yahoo.com&formatted=false&symbol=NYCB&crumb=wMYLnRQb6Q9\n",
      "404 Client Error: Not Found for url: https://query2.finance.yahoo.com/v10/finance/quoteSummary/NZF-C?modules=financialData%2CquoteType%2CdefaultKeyStatistics%2CassetProfile%2CsummaryDetail&corsDomain=finance.yahoo.com&formatted=false&symbol=NZF-C&crumb=wMYLnRQb6Q9\n",
      "404 Client Error: Not Found for url: https://query2.finance.yahoo.com/v10/finance/quoteSummary/NZH-A?modules=financialData%2CquoteType%2CdefaultKeyStatistics%2CassetProfile%2CsummaryDetail&corsDomain=finance.yahoo.com&formatted=false&symbol=NZH-A&crumb=wMYLnRQb6Q9\n",
      "404 Client Error: Not Found for url: https://query2.finance.yahoo.com/v10/finance/quoteSummary/NZH-B?modules=financialData%2CquoteType%2CdefaultKeyStatistics%2CassetProfile%2CsummaryDetail&corsDomain=finance.yahoo.com&formatted=false&symbol=NZH-B&crumb=wMYLnRQb6Q9\n",
      "404 Client Error: Not Found for url: https://query2.finance.yahoo.com/v10/finance/quoteSummary/NZH-C?modules=financialData%2CquoteType%2CdefaultKeyStatistics%2CassetProfile%2CsummaryDetail&corsDomain=finance.yahoo.com&formatted=false&symbol=NZH-C&crumb=wMYLnRQb6Q9\n",
      "404 Client Error: Not Found for url: https://query2.finance.yahoo.com/v10/finance/quoteSummary/O-E?modules=financialData%2CquoteType%2CdefaultKeyStatistics%2CassetProfile%2CsummaryDetail&corsDomain=finance.yahoo.com&formatted=false&symbol=O-E&crumb=wMYLnRQb6Q9\n",
      "404 Client Error: Not Found for url: https://query2.finance.yahoo.com/v10/finance/quoteSummary/O-F?modules=financialData%2CquoteType%2CdefaultKeyStatistics%2CassetProfile%2CsummaryDetail&corsDomain=finance.yahoo.com&formatted=false&symbol=O-F&crumb=wMYLnRQb6Q9\n",
      "404 Client Error: Not Found for url: https://query2.finance.yahoo.com/v10/finance/quoteSummary/OC.B?modules=financialData%2CquoteType%2CdefaultKeyStatistics%2CassetProfile%2CsummaryDetail&corsDomain=finance.yahoo.com&formatted=false&symbol=OC.B&crumb=wMYLnRQb6Q9\n",
      "404 Client Error: Not Found for url: https://query2.finance.yahoo.com/v10/finance/quoteSummary/OCN?modules=financialData%2CquoteType%2CdefaultKeyStatistics%2CassetProfile%2CsummaryDetail&corsDomain=finance.yahoo.com&formatted=false&symbol=OCN&crumb=wMYLnRQb6Q9\n",
      "404 Client Error: Not Found for url: https://query2.finance.yahoo.com/v10/finance/quoteSummary/OCR-A?modules=financialData%2CquoteType%2CdefaultKeyStatistics%2CassetProfile%2CsummaryDetail&corsDomain=finance.yahoo.com&formatted=false&symbol=OCR-A&crumb=wMYLnRQb6Q9\n",
      "404 Client Error: Not Found for url: https://query2.finance.yahoo.com/v10/finance/quoteSummary/OCR-B?modules=financialData%2CquoteType%2CdefaultKeyStatistics%2CassetProfile%2CsummaryDetail&corsDomain=finance.yahoo.com&formatted=false&symbol=OCR-B&crumb=wMYLnRQb6Q9\n",
      "404 Client Error: Not Found for url: https://query2.finance.yahoo.com/v10/finance/quoteSummary/OFC?modules=financialData%2CquoteType%2CdefaultKeyStatistics%2CassetProfile%2CsummaryDetail&corsDomain=finance.yahoo.com&formatted=false&symbol=OFC&crumb=wMYLnRQb6Q9\n",
      "404 Client Error: Not Found for url: https://query2.finance.yahoo.com/v10/finance/quoteSummary/OFC-H?modules=financialData%2CquoteType%2CdefaultKeyStatistics%2CassetProfile%2CsummaryDetail&corsDomain=finance.yahoo.com&formatted=false&symbol=OFC-H&crumb=wMYLnRQb6Q9\n",
      "404 Client Error: Not Found for url: https://query2.finance.yahoo.com/v10/finance/quoteSummary/OFC-L?modules=financialData%2CquoteType%2CdefaultKeyStatistics%2CassetProfile%2CsummaryDetail&corsDomain=finance.yahoo.com&formatted=false&symbol=OFC-L&crumb=wMYLnRQb6Q9\n",
      "404 Client Error: Not Found for url: https://query2.finance.yahoo.com/v10/finance/quoteSummary/OFG-A?modules=financialData%2CquoteType%2CdefaultKeyStatistics%2CassetProfile%2CsummaryDetail&corsDomain=finance.yahoo.com&formatted=false&symbol=OFG-A&crumb=wMYLnRQb6Q9\n",
      "404 Client Error: Not Found for url: https://query2.finance.yahoo.com/v10/finance/quoteSummary/OFG-B?modules=financialData%2CquoteType%2CdefaultKeyStatistics%2CassetProfile%2CsummaryDetail&corsDomain=finance.yahoo.com&formatted=false&symbol=OFG-B&crumb=wMYLnRQb6Q9\n",
      "404 Client Error: Not Found for url: https://query2.finance.yahoo.com/v10/finance/quoteSummary/OFG-D?modules=financialData%2CquoteType%2CdefaultKeyStatistics%2CassetProfile%2CsummaryDetail&corsDomain=finance.yahoo.com&formatted=false&symbol=OFG-D&crumb=wMYLnRQb6Q9\n",
      "404 Client Error: Not Found for url: https://query2.finance.yahoo.com/v10/finance/quoteSummary/OIB.C?modules=financialData%2CquoteType%2CdefaultKeyStatistics%2CassetProfile%2CsummaryDetail&corsDomain=finance.yahoo.com&formatted=false&symbol=OIB.C&crumb=wMYLnRQb6Q9\n",
      "404 Client Error: Not Found for url: https://query2.finance.yahoo.com/v10/finance/quoteSummary/ORAN?modules=financialData%2CquoteType%2CdefaultKeyStatistics%2CassetProfile%2CsummaryDetail&corsDomain=finance.yahoo.com&formatted=false&symbol=ORAN&crumb=wMYLnRQb6Q9\n",
      "404 Client Error: Not Found for url: https://query2.finance.yahoo.com/v10/finance/quoteSummary/PBI-A?modules=financialData%2CquoteType%2CdefaultKeyStatistics%2CassetProfile%2CsummaryDetail&corsDomain=finance.yahoo.com&formatted=false&symbol=PBI-A&crumb=wMYLnRQb6Q9\n",
      "404 Client Error: Not Found for url: https://query2.finance.yahoo.com/v10/finance/quoteSummary/PBI-B?modules=financialData%2CquoteType%2CdefaultKeyStatistics%2CassetProfile%2CsummaryDetail&corsDomain=finance.yahoo.com&formatted=false&symbol=PBI-B&crumb=wMYLnRQb6Q9\n",
      "404 Client Error: Not Found for url: https://query2.finance.yahoo.com/v10/finance/quoteSummary/PBR.A?modules=financialData%2CquoteType%2CdefaultKeyStatistics%2CassetProfile%2CsummaryDetail&corsDomain=finance.yahoo.com&formatted=false&symbol=PBR.A&crumb=wMYLnRQb6Q9\n",
      "404 Client Error: Not Found for url: https://query2.finance.yahoo.com/v10/finance/quoteSummary/PEB-A?modules=financialData%2CquoteType%2CdefaultKeyStatistics%2CassetProfile%2CsummaryDetail&corsDomain=finance.yahoo.com&formatted=false&symbol=PEB-A&crumb=wMYLnRQb6Q9\n",
      "404 Client Error: Not Found for url: https://query2.finance.yahoo.com/v10/finance/quoteSummary/PEB-B?modules=financialData%2CquoteType%2CdefaultKeyStatistics%2CassetProfile%2CsummaryDetail&corsDomain=finance.yahoo.com&formatted=false&symbol=PEB-B&crumb=wMYLnRQb6Q9\n",
      "404 Client Error: Not Found for url: https://query2.finance.yahoo.com/v10/finance/quoteSummary/PEI-A?modules=financialData%2CquoteType%2CdefaultKeyStatistics%2CassetProfile%2CsummaryDetail&corsDomain=finance.yahoo.com&formatted=false&symbol=PEI-A&crumb=wMYLnRQb6Q9\n",
      "404 Client Error: Not Found for url: https://query2.finance.yahoo.com/v10/finance/quoteSummary/PEI-B?modules=financialData%2CquoteType%2CdefaultKeyStatistics%2CassetProfile%2CsummaryDetail&corsDomain=finance.yahoo.com&formatted=false&symbol=PEI-B&crumb=wMYLnRQb6Q9\n",
      "404 Client Error: Not Found for url: https://query2.finance.yahoo.com/v10/finance/quoteSummary/PFG-B?modules=financialData%2CquoteType%2CdefaultKeyStatistics%2CassetProfile%2CsummaryDetail&corsDomain=finance.yahoo.com&formatted=false&symbol=PFG-B&crumb=wMYLnRQb6Q9\n",
      "404 Client Error: Not Found for url: https://query2.finance.yahoo.com/v10/finance/quoteSummary/PFK?modules=financialData%2CquoteType%2CdefaultKeyStatistics%2CassetProfile%2CsummaryDetail&corsDomain=finance.yahoo.com&formatted=false&symbol=PFK&crumb=wMYLnRQb6Q9\n",
      "404 Client Error: Not Found for url: https://query2.finance.yahoo.com/v10/finance/quoteSummary/PJH?modules=financialData%2CquoteType%2CdefaultKeyStatistics%2CassetProfile%2CsummaryDetail&corsDomain=finance.yahoo.com&formatted=false&symbol=PJH&crumb=wMYLnRQb6Q9\n",
      "404 Client Error: Not Found for url: https://query2.finance.yahoo.com/v10/finance/quoteSummary/PL-B?modules=financialData%2CquoteType%2CdefaultKeyStatistics%2CassetProfile%2CsummaryDetail&corsDomain=finance.yahoo.com&formatted=false&symbol=PL-B&crumb=wMYLnRQb6Q9\n",
      "404 Client Error: Not Found for url: https://query2.finance.yahoo.com/v10/finance/quoteSummary/PL-C?modules=financialData%2CquoteType%2CdefaultKeyStatistics%2CassetProfile%2CsummaryDetail&corsDomain=finance.yahoo.com&formatted=false&symbol=PL-C&crumb=wMYLnRQb6Q9\n",
      "404 Client Error: Not Found for url: https://query2.finance.yahoo.com/v10/finance/quoteSummary/PL-E?modules=financialData%2CquoteType%2CdefaultKeyStatistics%2CassetProfile%2CsummaryDetail&corsDomain=finance.yahoo.com&formatted=false&symbol=PL-E&crumb=wMYLnRQb6Q9\n",
      "404 Client Error: Not Found for url: https://query2.finance.yahoo.com/v10/finance/quoteSummary/PNC-P?modules=financialData%2CquoteType%2CdefaultKeyStatistics%2CassetProfile%2CsummaryDetail&corsDomain=finance.yahoo.com&formatted=false&symbol=PNC-P&crumb=wMYLnRQb6Q9\n",
      "404 Client Error: Not Found for url: https://query2.finance.yahoo.com/v10/finance/quoteSummary/PNC-Q?modules=financialData%2CquoteType%2CdefaultKeyStatistics%2CassetProfile%2CsummaryDetail&corsDomain=finance.yahoo.com&formatted=false&symbol=PNC-Q&crumb=wMYLnRQb6Q9\n",
      "404 Client Error: Not Found for url: https://query2.finance.yahoo.com/v10/finance/quoteSummary/PNC.W?modules=financialData%2CquoteType%2CdefaultKeyStatistics%2CassetProfile%2CsummaryDetail&corsDomain=finance.yahoo.com&formatted=false&symbol=PNC.W&crumb=wMYLnRQb6Q9\n",
      "404 Client Error: Not Found for url: https://query2.finance.yahoo.com/v10/finance/quoteSummary/PNM?modules=financialData%2CquoteType%2CdefaultKeyStatistics%2CassetProfile%2CsummaryDetail&corsDomain=finance.yahoo.com&formatted=false&symbol=PNM&crumb=wMYLnRQb6Q9\n",
      "404 Client Error: Not Found for url: https://query2.finance.yahoo.com/v10/finance/quoteSummary/POL?modules=financialData%2CquoteType%2CdefaultKeyStatistics%2CassetProfile%2CsummaryDetail&corsDomain=finance.yahoo.com&formatted=false&symbol=POL&crumb=wMYLnRQb6Q9\n",
      "404 Client Error: Not Found for url: https://query2.finance.yahoo.com/v10/finance/quoteSummary/PPL-W?modules=financialData%2CquoteType%2CdefaultKeyStatistics%2CassetProfile%2CsummaryDetail&corsDomain=finance.yahoo.com&formatted=false&symbol=PPL-W&crumb=wMYLnRQb6Q9\n",
      "404 Client Error: Not Found for url: https://query2.finance.yahoo.com/v10/finance/quoteSummary/PPS-A?modules=financialData%2CquoteType%2CdefaultKeyStatistics%2CassetProfile%2CsummaryDetail&corsDomain=finance.yahoo.com&formatted=false&symbol=PPS-A&crumb=wMYLnRQb6Q9\n",
      "404 Client Error: Not Found for url: https://query2.finance.yahoo.com/v10/finance/quoteSummary/PRE-D?modules=financialData%2CquoteType%2CdefaultKeyStatistics%2CassetProfile%2CsummaryDetail&corsDomain=finance.yahoo.com&formatted=false&symbol=PRE-D&crumb=wMYLnRQb6Q9\n",
      "404 Client Error: Not Found for url: https://query2.finance.yahoo.com/v10/finance/quoteSummary/PRE-E?modules=financialData%2CquoteType%2CdefaultKeyStatistics%2CassetProfile%2CsummaryDetail&corsDomain=finance.yahoo.com&formatted=false&symbol=PRE-E&crumb=wMYLnRQb6Q9\n",
      "404 Client Error: Not Found for url: https://query2.finance.yahoo.com/v10/finance/quoteSummary/PRE-F?modules=financialData%2CquoteType%2CdefaultKeyStatistics%2CassetProfile%2CsummaryDetail&corsDomain=finance.yahoo.com&formatted=false&symbol=PRE-F&crumb=wMYLnRQb6Q9\n",
      "404 Client Error: Not Found for url: https://query2.finance.yahoo.com/v10/finance/quoteSummary/PRI.B?modules=financialData%2CquoteType%2CdefaultKeyStatistics%2CassetProfile%2CsummaryDetail&corsDomain=finance.yahoo.com&formatted=false&symbol=PRI.B&crumb=wMYLnRQb6Q9\n",
      "404 Client Error: Not Found for url: https://query2.finance.yahoo.com/v10/finance/quoteSummary/PSA-O?modules=financialData%2CquoteType%2CdefaultKeyStatistics%2CassetProfile%2CsummaryDetail&corsDomain=finance.yahoo.com&formatted=false&symbol=PSA-O&crumb=wMYLnRQb6Q9\n",
      "404 Client Error: Not Found for url: https://query2.finance.yahoo.com/v10/finance/quoteSummary/PSA-P?modules=financialData%2CquoteType%2CdefaultKeyStatistics%2CassetProfile%2CsummaryDetail&corsDomain=finance.yahoo.com&formatted=false&symbol=PSA-P&crumb=wMYLnRQb6Q9\n",
      "404 Client Error: Not Found for url: https://query2.finance.yahoo.com/v10/finance/quoteSummary/PSA-Q?modules=financialData%2CquoteType%2CdefaultKeyStatistics%2CassetProfile%2CsummaryDetail&corsDomain=finance.yahoo.com&formatted=false&symbol=PSA-Q&crumb=wMYLnRQb6Q9\n",
      "404 Client Error: Not Found for url: https://query2.finance.yahoo.com/v10/finance/quoteSummary/PSA-R?modules=financialData%2CquoteType%2CdefaultKeyStatistics%2CassetProfile%2CsummaryDetail&corsDomain=finance.yahoo.com&formatted=false&symbol=PSA-R&crumb=wMYLnRQb6Q9\n",
      "404 Client Error: Not Found for url: https://query2.finance.yahoo.com/v10/finance/quoteSummary/PSA-S?modules=financialData%2CquoteType%2CdefaultKeyStatistics%2CassetProfile%2CsummaryDetail&corsDomain=finance.yahoo.com&formatted=false&symbol=PSA-S&crumb=wMYLnRQb6Q9\n",
      "404 Client Error: Not Found for url: https://query2.finance.yahoo.com/v10/finance/quoteSummary/PSA-T?modules=financialData%2CquoteType%2CdefaultKeyStatistics%2CassetProfile%2CsummaryDetail&corsDomain=finance.yahoo.com&formatted=false&symbol=PSA-T&crumb=wMYLnRQb6Q9\n",
      "404 Client Error: Not Found for url: https://query2.finance.yahoo.com/v10/finance/quoteSummary/PSA-U?modules=financialData%2CquoteType%2CdefaultKeyStatistics%2CassetProfile%2CsummaryDetail&corsDomain=finance.yahoo.com&formatted=false&symbol=PSA-U&crumb=wMYLnRQb6Q9\n",
      "404 Client Error: Not Found for url: https://query2.finance.yahoo.com/v10/finance/quoteSummary/PSA-V?modules=financialData%2CquoteType%2CdefaultKeyStatistics%2CassetProfile%2CsummaryDetail&corsDomain=finance.yahoo.com&formatted=false&symbol=PSA-V&crumb=wMYLnRQb6Q9\n",
      "404 Client Error: Not Found for url: https://query2.finance.yahoo.com/v10/finance/quoteSummary/PSA-W?modules=financialData%2CquoteType%2CdefaultKeyStatistics%2CassetProfile%2CsummaryDetail&corsDomain=finance.yahoo.com&formatted=false&symbol=PSA-W&crumb=wMYLnRQb6Q9\n",
      "404 Client Error: Not Found for url: https://query2.finance.yahoo.com/v10/finance/quoteSummary/PSA-X?modules=financialData%2CquoteType%2CdefaultKeyStatistics%2CassetProfile%2CsummaryDetail&corsDomain=finance.yahoo.com&formatted=false&symbol=PSA-X&crumb=wMYLnRQb6Q9\n",
      "404 Client Error: Not Found for url: https://query2.finance.yahoo.com/v10/finance/quoteSummary/PSB-R?modules=financialData%2CquoteType%2CdefaultKeyStatistics%2CassetProfile%2CsummaryDetail&corsDomain=finance.yahoo.com&formatted=false&symbol=PSB-R&crumb=wMYLnRQb6Q9\n",
      "404 Client Error: Not Found for url: https://query2.finance.yahoo.com/v10/finance/quoteSummary/PSB-S?modules=financialData%2CquoteType%2CdefaultKeyStatistics%2CassetProfile%2CsummaryDetail&corsDomain=finance.yahoo.com&formatted=false&symbol=PSB-S&crumb=wMYLnRQb6Q9\n",
      "404 Client Error: Not Found for url: https://query2.finance.yahoo.com/v10/finance/quoteSummary/PSB-T?modules=financialData%2CquoteType%2CdefaultKeyStatistics%2CassetProfile%2CsummaryDetail&corsDomain=finance.yahoo.com&formatted=false&symbol=PSB-T&crumb=wMYLnRQb6Q9\n",
      "404 Client Error: Not Found for url: https://query2.finance.yahoo.com/v10/finance/quoteSummary/PSB-U?modules=financialData%2CquoteType%2CdefaultKeyStatistics%2CassetProfile%2CsummaryDetail&corsDomain=finance.yahoo.com&formatted=false&symbol=PSB-U&crumb=wMYLnRQb6Q9\n",
      "404 Client Error: Not Found for url: https://query2.finance.yahoo.com/v10/finance/quoteSummary/PSB-V?modules=financialData%2CquoteType%2CdefaultKeyStatistics%2CassetProfile%2CsummaryDetail&corsDomain=finance.yahoo.com&formatted=false&symbol=PSB-V&crumb=wMYLnRQb6Q9\n",
      "404 Client Error: Not Found for url: https://query2.finance.yahoo.com/v10/finance/quoteSummary/PUK-A?modules=financialData%2CquoteType%2CdefaultKeyStatistics%2CassetProfile%2CsummaryDetail&corsDomain=finance.yahoo.com&formatted=false&symbol=PUK-A&crumb=wMYLnRQb6Q9\n",
      "404 Client Error: Not Found for url: https://query2.finance.yahoo.com/v10/finance/quoteSummary/PXD?modules=financialData%2CquoteType%2CdefaultKeyStatistics%2CassetProfile%2CsummaryDetail&corsDomain=finance.yahoo.com&formatted=false&symbol=PXD&crumb=wMYLnRQb6Q9\n"
     ]
    },
    {
     "name": "stdout",
     "output_type": "stream",
     "text": [
      "Error fetching data for PZE: Too Many Requests. Rate limited. Try after a while.\n",
      "Error fetching data for PZN: Too Many Requests. Rate limited. Try after a while.\n",
      "Error fetching data for Q: Too Many Requests. Rate limited. Try after a while.\n",
      "Error fetching data for QEP: Too Many Requests. Rate limited. Try after a while.\n",
      "Error fetching data for QEPM: Too Many Requests. Rate limited. Try after a while.\n",
      "Error fetching data for QIHU: Too Many Requests. Rate limited. Try after a while.\n",
      "Error fetching data for QRE: Too Many Requests. Rate limited. Try after a while.\n",
      "Error fetching data for QTM: Too Many Requests. Rate limited. Try after a while.\n",
      "Error fetching data for QUAD: Too Many Requests. Rate limited. Try after a while.\n",
      "Error fetching data for R: Too Many Requests. Rate limited. Try after a while.\n",
      "Error fetching data for RAD: Too Many Requests. Rate limited. Try after a while.\n",
      "Error fetching data for RAI: Too Many Requests. Rate limited. Try after a while.\n",
      "Error fetching data for RALY: Too Many Requests. Rate limited. Try after a while.\n",
      "Error fetching data for RAS: Too Many Requests. Rate limited. Try after a while.\n",
      "Error fetching data for RAS-A: Too Many Requests. Rate limited. Try after a while.\n",
      "Error fetching data for RAS-B: Too Many Requests. Rate limited. Try after a while.\n",
      "Error fetching data for RAS-C: Too Many Requests. Rate limited. Try after a while.\n",
      "Error fetching data for RATE: Too Many Requests. Rate limited. Try after a while.\n",
      "Error fetching data for RAX: Too Many Requests. Rate limited. Try after a while.\n",
      "Error fetching data for RBA: Too Many Requests. Rate limited. Try after a while.\n",
      "Error fetching data for RBC: Too Many Requests. Rate limited. Try after a while.\n",
      "Error fetching data for RBS: Too Many Requests. Rate limited. Try after a while.\n",
      "Error fetching data for RBS-E: Too Many Requests. Rate limited. Try after a while.\n",
      "Error fetching data for RBS-F: Too Many Requests. Rate limited. Try after a while.\n",
      "Error fetching data for RBS-G: Too Many Requests. Rate limited. Try after a while.\n",
      "Error fetching data for RBS-H: Too Many Requests. Rate limited. Try after a while.\n",
      "Error fetching data for RBS-I: Too Many Requests. Rate limited. Try after a while.\n",
      "Error fetching data for RBS-L: Too Many Requests. Rate limited. Try after a while.\n",
      "Error fetching data for RBS-M: Too Many Requests. Rate limited. Try after a while.\n",
      "Error fetching data for RBS-N: Too Many Requests. Rate limited. Try after a while.\n",
      "Error fetching data for RBS-P: Too Many Requests. Rate limited. Try after a while.\n",
      "Error fetching data for RBS-Q: Too Many Requests. Rate limited. Try after a while.\n",
      "Error fetching data for RBS-R: Too Many Requests. Rate limited. Try after a while.\n",
      "Error fetching data for RBS-S: Too Many Requests. Rate limited. Try after a while.\n",
      "Error fetching data for RBS-T: Too Many Requests. Rate limited. Try after a while.\n",
      "Error fetching data for RCAP: Too Many Requests. Rate limited. Try after a while.\n",
      "Error fetching data for RCI: Too Many Requests. Rate limited. Try after a while.\n",
      "Error fetching data for RCL: Too Many Requests. Rate limited. Try after a while.\n",
      "Error fetching data for RCS: Too Many Requests. Rate limited. Try after a while.\n",
      "Error fetching data for RDC: Too Many Requests. Rate limited. Try after a while.\n",
      "Error fetching data for RDN: Too Many Requests. Rate limited. Try after a while.\n",
      "Error fetching data for RDS.A: Too Many Requests. Rate limited. Try after a while.\n",
      "Error fetching data for RDS.B: Too Many Requests. Rate limited. Try after a while.\n",
      "Error fetching data for RDY: Too Many Requests. Rate limited. Try after a while.\n",
      "Error fetching data for RE: Too Many Requests. Rate limited. Try after a while.\n",
      "Error fetching data for REG: Too Many Requests. Rate limited. Try after a while.\n",
      "Error fetching data for REG-F: Too Many Requests. Rate limited. Try after a while.\n",
      "Error fetching data for REG-G: Too Many Requests. Rate limited. Try after a while.\n",
      "Error fetching data for REN: Too Many Requests. Rate limited. Try after a while.\n",
      "Error fetching data for REN.W: Too Many Requests. Rate limited. Try after a while.\n",
      "Error fetching data for RENN: Too Many Requests. Rate limited. Try after a while.\n",
      "Error fetching data for RES: Too Many Requests. Rate limited. Try after a while.\n",
      "Error fetching data for RESI: Too Many Requests. Rate limited. Try after a while.\n",
      "Error fetching data for REV: Too Many Requests. Rate limited. Try after a while.\n",
      "Error fetching data for REX: Too Many Requests. Rate limited. Try after a while.\n",
      "Error fetching data for REXR: Too Many Requests. Rate limited. Try after a while.\n",
      "Error fetching data for RF: Too Many Requests. Rate limited. Try after a while.\n",
      "Error fetching data for RF-A: Too Many Requests. Rate limited. Try after a while.\n",
      "Error fetching data for RFI: Too Many Requests. Rate limited. Try after a while.\n",
      "Error fetching data for RFP: Too Many Requests. Rate limited. Try after a while.\n",
      "Error fetching data for RGA: Too Many Requests. Rate limited. Try after a while.\n",
      "Error fetching data for RGC: Too Many Requests. Rate limited. Try after a while.\n",
      "Error fetching data for RGP: Too Many Requests. Rate limited. Try after a while.\n",
      "Error fetching data for RGR: Too Many Requests. Rate limited. Try after a while.\n",
      "Error fetching data for RGS: Too Many Requests. Rate limited. Try after a while.\n",
      "Error fetching data for RH: Too Many Requests. Rate limited. Try after a while.\n",
      "Error fetching data for RHI: Too Many Requests. Rate limited. Try after a while.\n",
      "Error fetching data for RHP: Too Many Requests. Rate limited. Try after a while.\n",
      "Error fetching data for RHT: Too Many Requests. Rate limited. Try after a while.\n",
      "Error fetching data for RIG: Too Many Requests. Rate limited. Try after a while.\n",
      "Error fetching data for RIO: Too Many Requests. Rate limited. Try after a while.\n",
      "Error fetching data for RIOM: Too Many Requests. Rate limited. Try after a while.\n",
      "Error fetching data for RIT: Too Many Requests. Rate limited. Try after a while.\n",
      "Error fetching data for RJD: Too Many Requests. Rate limited. Try after a while.\n",
      "Error fetching data for RJF: Too Many Requests. Rate limited. Try after a while.\n",
      "Error fetching data for RKT: Too Many Requests. Rate limited. Try after a while.\n",
      "Error fetching data for RKUS: Too Many Requests. Rate limited. Try after a while.\n",
      "Error fetching data for RL: Too Many Requests. Rate limited. Try after a while.\n",
      "Error fetching data for RLD: Too Many Requests. Rate limited. Try after a while.\n",
      "Error fetching data for RLGY: Too Many Requests. Rate limited. Try after a while.\n",
      "Error fetching data for RLH: Too Many Requests. Rate limited. Try after a while.\n",
      "Error fetching data for RLH-A: Too Many Requests. Rate limited. Try after a while.\n",
      "Error fetching data for RLI: Too Many Requests. Rate limited. Try after a while.\n",
      "Error fetching data for RLJ: Too Many Requests. Rate limited. Try after a while.\n",
      "Error fetching data for RM: Too Many Requests. Rate limited. Try after a while.\n",
      "Error fetching data for RMD: Too Many Requests. Rate limited. Try after a while.\n",
      "Error fetching data for RMT: Too Many Requests. Rate limited. Try after a while.\n",
      "Error fetching data for RNDY: Too Many Requests. Rate limited. Try after a while.\n",
      "Error fetching data for RNE: Too Many Requests. Rate limited. Try after a while.\n",
      "Error fetching data for RNF: Too Many Requests. Rate limited. Try after a while.\n",
      "Error fetching data for RNO: Too Many Requests. Rate limited. Try after a while.\n",
      "Error fetching data for RNP: Too Many Requests. Rate limited. Try after a while.\n",
      "Error fetching data for RNR: Too Many Requests. Rate limited. Try after a while.\n",
      "Error fetching data for RNR-C: Too Many Requests. Rate limited. Try after a while.\n",
      "Error fetching data for RNR-E: Too Many Requests. Rate limited. Try after a while.\n",
      "Error fetching data for ROC: Too Many Requests. Rate limited. Try after a while.\n",
      "Error fetching data for ROG: Too Many Requests. Rate limited. Try after a while.\n",
      "Error fetching data for ROK: Too Many Requests. Rate limited. Try after a while.\n",
      "Error fetching data for ROL: Too Many Requests. Rate limited. Try after a while.\n",
      "Error fetching data for ROP: Too Many Requests. Rate limited. Try after a while.\n",
      "Error fetching data for ROYT: Too Many Requests. Rate limited. Try after a while.\n",
      "Error fetching data for RPAI: Too Many Requests. Rate limited. Try after a while.\n",
      "Error fetching data for RPM: Too Many Requests. Rate limited. Try after a while.\n",
      "Error fetching data for RPT: Too Many Requests. Rate limited. Try after a while.\n",
      "Error fetching data for RPT-D: Too Many Requests. Rate limited. Try after a while.\n",
      "Error fetching data for RQI: Too Many Requests. Rate limited. Try after a while.\n",
      "Error fetching data for RRC: Too Many Requests. Rate limited. Try after a while.\n",
      "Error fetching data for RRMS: Too Many Requests. Rate limited. Try after a while.\n",
      "Error fetching data for RRTS: Too Many Requests. Rate limited. Try after a while.\n",
      "Error fetching data for RS: Too Many Requests. Rate limited. Try after a while.\n",
      "Error fetching data for RSE: Too Many Requests. Rate limited. Try after a while.\n",
      "Error fetching data for RSG: Too Many Requests. Rate limited. Try after a while.\n",
      "Error fetching data for RSH: Too Many Requests. Rate limited. Try after a while.\n",
      "Error fetching data for RSO: Too Many Requests. Rate limited. Try after a while.\n",
      "Error fetching data for RSO-A: Too Many Requests. Rate limited. Try after a while.\n",
      "Error fetching data for RSO-B: Too Many Requests. Rate limited. Try after a while.\n",
      "Error fetching data for RST: Too Many Requests. Rate limited. Try after a while.\n",
      "Error fetching data for RT: Too Many Requests. Rate limited. Try after a while.\n",
      "Error fetching data for RTI: Too Many Requests. Rate limited. Try after a while.\n",
      "Error fetching data for RTN: Too Many Requests. Rate limited. Try after a while.\n",
      "Error fetching data for RUK: Too Many Requests. Rate limited. Try after a while.\n",
      "Error fetching data for RVT: Too Many Requests. Rate limited. Try after a while.\n",
      "Error fetching data for RWT: Too Many Requests. Rate limited. Try after a while.\n",
      "Error fetching data for RXN: Too Many Requests. Rate limited. Try after a while.\n",
      "Error fetching data for RY: Too Many Requests. Rate limited. Try after a while.\n",
      "Error fetching data for RYL: Too Many Requests. Rate limited. Try after a while.\n",
      "Error fetching data for RYN: Too Many Requests. Rate limited. Try after a while.\n",
      "Error fetching data for RZA: Too Many Requests. Rate limited. Try after a while.\n",
      "Error fetching data for S: Too Many Requests. Rate limited. Try after a while.\n",
      "Error fetching data for SA: Too Many Requests. Rate limited. Try after a while.\n",
      "Error fetching data for SAH: Too Many Requests. Rate limited. Try after a while.\n",
      "Error fetching data for SAI: Too Many Requests. Rate limited. Try after a while.\n",
      "Error fetching data for SAM: Too Many Requests. Rate limited. Try after a while.\n",
      "Error fetching data for SAN: Too Many Requests. Rate limited. Try after a while.\n",
      "Error fetching data for SAN-A: Too Many Requests. Rate limited. Try after a while.\n",
      "Error fetching data for SAN-B: Too Many Requests. Rate limited. Try after a while.\n",
      "Error fetching data for SAN-C: Too Many Requests. Rate limited. Try after a while.\n",
      "Error fetching data for SAN-E: Too Many Requests. Rate limited. Try after a while.\n",
      "Error fetching data for SAN-F: Too Many Requests. Rate limited. Try after a while.\n",
      "Error fetching data for SAN-I: Too Many Requests. Rate limited. Try after a while.\n",
      "Error fetching data for SAP: Too Many Requests. Rate limited. Try after a while.\n",
      "Error fetching data for SAQ: Too Many Requests. Rate limited. Try after a while.\n",
      "Error fetching data for SAR: Too Many Requests. Rate limited. Try after a while.\n",
      "Error fetching data for SB: Too Many Requests. Rate limited. Try after a while.\n",
      "Error fetching data for SB-B: Too Many Requests. Rate limited. Try after a while.\n",
      "Error fetching data for SBGL: Too Many Requests. Rate limited. Try after a while.\n",
      "Error fetching data for SBH: Too Many Requests. Rate limited. Try after a while.\n",
      "Error fetching data for SBR: Too Many Requests. Rate limited. Try after a while.\n",
      "Error fetching data for SBS: Too Many Requests. Rate limited. Try after a while.\n",
      "Error fetching data for SBW: Too Many Requests. Rate limited. Try after a while.\n",
      "Error fetching data for SBY: Too Many Requests. Rate limited. Try after a while.\n",
      "Error fetching data for SCCO: Too Many Requests. Rate limited. Try after a while.\n",
      "Error fetching data for SCD: Too Many Requests. Rate limited. Try after a while.\n",
      "Error fetching data for SCE-F: Too Many Requests. Rate limited. Try after a while.\n",
      "Error fetching data for SCE-G: Too Many Requests. Rate limited. Try after a while.\n",
      "Error fetching data for SCG: Too Many Requests. Rate limited. Try after a while.\n",
      "Error fetching data for SCH-B: Too Many Requests. Rate limited. Try after a while.\n",
      "Error fetching data for SCHW: Too Many Requests. Rate limited. Try after a while.\n",
      "Error fetching data for SCI: Too Many Requests. Rate limited. Try after a while.\n",
      "Error fetching data for SCL: Too Many Requests. Rate limited. Try after a while.\n",
      "Error fetching data for SCL.P: Too Many Requests. Rate limited. Try after a while.\n",
      "Error fetching data for SCM: Too Many Requests. Rate limited. Try after a while.\n",
      "Error fetching data for SCR: Too Many Requests. Rate limited. Try after a while.\n",
      "Error fetching data for SCS: Too Many Requests. Rate limited. Try after a while.\n",
      "Error fetching data for SCU: Too Many Requests. Rate limited. Try after a while.\n",
      "Error fetching data for SCX: Too Many Requests. Rate limited. Try after a while.\n",
      "Error fetching data for SD: Too Many Requests. Rate limited. Try after a while.\n",
      "Error fetching data for SDLP: Too Many Requests. Rate limited. Try after a while.\n",
      "Error fetching data for SDR: Too Many Requests. Rate limited. Try after a while.\n",
      "Error fetching data for SDRL: Too Many Requests. Rate limited. Try after a while.\n"
     ]
    },
    {
     "name": "stderr",
     "output_type": "stream",
     "text": [
      "401 Client Error: Unauthorized for url: https://query2.finance.yahoo.com/v10/finance/quoteSummary/SDT?modules=financialData%2CquoteType%2CdefaultKeyStatistics%2CassetProfile%2CsummaryDetail&corsDomain=finance.yahoo.com&formatted=false&symbol=SDT&crumb=Edge%3A+Too+Many+Requests\n",
      "404 Client Error: Not Found for url: https://query2.finance.yahoo.com/v10/finance/quoteSummary/SEAS?modules=financialData%2CquoteType%2CdefaultKeyStatistics%2CassetProfile%2CsummaryDetail&corsDomain=finance.yahoo.com&formatted=false&symbol=SEAS&crumb=wMYLnRQb6Q9\n",
      "404 Client Error: Not Found for url: https://query2.finance.yahoo.com/v10/finance/quoteSummary/SEM.W?modules=financialData%2CquoteType%2CdefaultKeyStatistics%2CassetProfile%2CsummaryDetail&corsDomain=finance.yahoo.com&formatted=false&symbol=SEM.W&crumb=wMYLnRQb6Q9\n",
      "404 Client Error: Not Found for url: https://query2.finance.yahoo.com/v10/finance/quoteSummary/SFE?modules=financialData%2CquoteType%2CdefaultKeyStatistics%2CassetProfile%2CsummaryDetail&corsDomain=finance.yahoo.com&formatted=false&symbol=SFE&crumb=wMYLnRQb6Q9\n",
      "404 Client Error: Not Found for url: https://query2.finance.yahoo.com/v10/finance/quoteSummary/SFI-D?modules=financialData%2CquoteType%2CdefaultKeyStatistics%2CassetProfile%2CsummaryDetail&corsDomain=finance.yahoo.com&formatted=false&symbol=SFI-D&crumb=wMYLnRQb6Q9\n",
      "404 Client Error: Not Found for url: https://query2.finance.yahoo.com/v10/finance/quoteSummary/SFI-E?modules=financialData%2CquoteType%2CdefaultKeyStatistics%2CassetProfile%2CsummaryDetail&corsDomain=finance.yahoo.com&formatted=false&symbol=SFI-E&crumb=wMYLnRQb6Q9\n",
      "404 Client Error: Not Found for url: https://query2.finance.yahoo.com/v10/finance/quoteSummary/SFI-F?modules=financialData%2CquoteType%2CdefaultKeyStatistics%2CassetProfile%2CsummaryDetail&corsDomain=finance.yahoo.com&formatted=false&symbol=SFI-F&crumb=wMYLnRQb6Q9\n",
      "404 Client Error: Not Found for url: https://query2.finance.yahoo.com/v10/finance/quoteSummary/SFI-G?modules=financialData%2CquoteType%2CdefaultKeyStatistics%2CassetProfile%2CsummaryDetail&corsDomain=finance.yahoo.com&formatted=false&symbol=SFI-G&crumb=wMYLnRQb6Q9\n",
      "404 Client Error: Not Found for url: https://query2.finance.yahoo.com/v10/finance/quoteSummary/SFI-I?modules=financialData%2CquoteType%2CdefaultKeyStatistics%2CassetProfile%2CsummaryDetail&corsDomain=finance.yahoo.com&formatted=false&symbol=SFI-I&crumb=wMYLnRQb6Q9\n",
      "404 Client Error: Not Found for url: https://query2.finance.yahoo.com/v10/finance/quoteSummary/SGZA?modules=financialData%2CquoteType%2CdefaultKeyStatistics%2CassetProfile%2CsummaryDetail&corsDomain=finance.yahoo.com&formatted=false&symbol=SGZA&crumb=wMYLnRQb6Q9\n",
      "404 Client Error: Not Found for url: https://query2.finance.yahoo.com/v10/finance/quoteSummary/SHO-D?modules=financialData%2CquoteType%2CdefaultKeyStatistics%2CassetProfile%2CsummaryDetail&corsDomain=finance.yahoo.com&formatted=false&symbol=SHO-D&crumb=wMYLnRQb6Q9\n",
      "404 Client Error: Not Found for url: https://query2.finance.yahoo.com/v10/finance/quoteSummary/SIX?modules=financialData%2CquoteType%2CdefaultKeyStatistics%2CassetProfile%2CsummaryDetail&corsDomain=finance.yahoo.com&formatted=false&symbol=SIX&crumb=wMYLnRQb6Q9\n",
      "404 Client Error: Not Found for url: https://query2.finance.yahoo.com/v10/finance/quoteSummary/SLCA?modules=financialData%2CquoteType%2CdefaultKeyStatistics%2CassetProfile%2CsummaryDetail&corsDomain=finance.yahoo.com&formatted=false&symbol=SLCA&crumb=wMYLnRQb6Q9\n",
      "404 Client Error: Not Found for url: https://query2.finance.yahoo.com/v10/finance/quoteSummary/SLG-I?modules=financialData%2CquoteType%2CdefaultKeyStatistics%2CassetProfile%2CsummaryDetail&corsDomain=finance.yahoo.com&formatted=false&symbol=SLG-I&crumb=wMYLnRQb6Q9\n",
      "404 Client Error: Not Found for url: https://query2.finance.yahoo.com/v10/finance/quoteSummary/SMLP?modules=financialData%2CquoteType%2CdefaultKeyStatistics%2CassetProfile%2CsummaryDetail&corsDomain=finance.yahoo.com&formatted=false&symbol=SMLP&crumb=wMYLnRQb6Q9\n",
      "404 Client Error: Not Found for url: https://query2.finance.yahoo.com/v10/finance/quoteSummary/SMM?modules=financialData%2CquoteType%2CdefaultKeyStatistics%2CassetProfile%2CsummaryDetail&corsDomain=finance.yahoo.com&formatted=false&symbol=SMM&crumb=wMYLnRQb6Q9\n",
      "404 Client Error: Not Found for url: https://query2.finance.yahoo.com/v10/finance/quoteSummary/SNHN?modules=financialData%2CquoteType%2CdefaultKeyStatistics%2CassetProfile%2CsummaryDetail&corsDomain=finance.yahoo.com&formatted=false&symbol=SNHN&crumb=wMYLnRQb6Q9\n",
      "404 Client Error: Not Found for url: https://query2.finance.yahoo.com/v10/finance/quoteSummary/SNV-C?modules=financialData%2CquoteType%2CdefaultKeyStatistics%2CassetProfile%2CsummaryDetail&corsDomain=finance.yahoo.com&formatted=false&symbol=SNV-C&crumb=wMYLnRQb6Q9\n",
      "404 Client Error: Not Found for url: https://query2.finance.yahoo.com/v10/finance/quoteSummary/SOV-C?modules=financialData%2CquoteType%2CdefaultKeyStatistics%2CassetProfile%2CsummaryDetail&corsDomain=finance.yahoo.com&formatted=false&symbol=SOV-C&crumb=wMYLnRQb6Q9\n",
      "404 Client Error: Not Found for url: https://query2.finance.yahoo.com/v10/finance/quoteSummary/SPE.P?modules=financialData%2CquoteType%2CdefaultKeyStatistics%2CassetProfile%2CsummaryDetail&corsDomain=finance.yahoo.com&formatted=false&symbol=SPE.P&crumb=wMYLnRQb6Q9\n",
      "404 Client Error: Not Found for url: https://query2.finance.yahoo.com/v10/finance/quoteSummary/SPG-J?modules=financialData%2CquoteType%2CdefaultKeyStatistics%2CassetProfile%2CsummaryDetail&corsDomain=finance.yahoo.com&formatted=false&symbol=SPG-J&crumb=wMYLnRQb6Q9\n",
      "404 Client Error: Not Found for url: https://query2.finance.yahoo.com/v10/finance/quoteSummary/SRC?modules=financialData%2CquoteType%2CdefaultKeyStatistics%2CassetProfile%2CsummaryDetail&corsDomain=finance.yahoo.com&formatted=false&symbol=SRC&crumb=wMYLnRQb6Q9\n",
      "404 Client Error: Not Found for url: https://query2.finance.yahoo.com/v10/finance/quoteSummary/SSW-C?modules=financialData%2CquoteType%2CdefaultKeyStatistics%2CassetProfile%2CsummaryDetail&corsDomain=finance.yahoo.com&formatted=false&symbol=SSW-C&crumb=wMYLnRQb6Q9\n",
      "404 Client Error: Not Found for url: https://query2.finance.yahoo.com/v10/finance/quoteSummary/SSW-D?modules=financialData%2CquoteType%2CdefaultKeyStatistics%2CassetProfile%2CsummaryDetail&corsDomain=finance.yahoo.com&formatted=false&symbol=SSW-D&crumb=wMYLnRQb6Q9\n",
      "404 Client Error: Not Found for url: https://query2.finance.yahoo.com/v10/finance/quoteSummary/STA-A?modules=financialData%2CquoteType%2CdefaultKeyStatistics%2CassetProfile%2CsummaryDetail&corsDomain=finance.yahoo.com&formatted=false&symbol=STA-A&crumb=wMYLnRQb6Q9\n",
      "404 Client Error: Not Found for url: https://query2.finance.yahoo.com/v10/finance/quoteSummary/STI-A?modules=financialData%2CquoteType%2CdefaultKeyStatistics%2CassetProfile%2CsummaryDetail&corsDomain=finance.yahoo.com&formatted=false&symbol=STI-A&crumb=wMYLnRQb6Q9\n",
      "404 Client Error: Not Found for url: https://query2.finance.yahoo.com/v10/finance/quoteSummary/STI-E?modules=financialData%2CquoteType%2CdefaultKeyStatistics%2CassetProfile%2CsummaryDetail&corsDomain=finance.yahoo.com&formatted=false&symbol=STI-E&crumb=wMYLnRQb6Q9\n",
      "404 Client Error: Not Found for url: https://query2.finance.yahoo.com/v10/finance/quoteSummary/STI.A?modules=financialData%2CquoteType%2CdefaultKeyStatistics%2CassetProfile%2CsummaryDetail&corsDomain=finance.yahoo.com&formatted=false&symbol=STI.A&crumb=wMYLnRQb6Q9\n",
      "404 Client Error: Not Found for url: https://query2.finance.yahoo.com/v10/finance/quoteSummary/STL-A?modules=financialData%2CquoteType%2CdefaultKeyStatistics%2CassetProfile%2CsummaryDetail&corsDomain=finance.yahoo.com&formatted=false&symbol=STL-A&crumb=wMYLnRQb6Q9\n",
      "404 Client Error: Not Found for url: https://query2.finance.yahoo.com/v10/finance/quoteSummary/STRI?modules=financialData%2CquoteType%2CdefaultKeyStatistics%2CassetProfile%2CsummaryDetail&corsDomain=finance.yahoo.com&formatted=false&symbol=STRI&crumb=wMYLnRQb6Q9\n",
      "404 Client Error: Not Found for url: https://query2.finance.yahoo.com/v10/finance/quoteSummary/STT-C?modules=financialData%2CquoteType%2CdefaultKeyStatistics%2CassetProfile%2CsummaryDetail&corsDomain=finance.yahoo.com&formatted=false&symbol=STT-C&crumb=wMYLnRQb6Q9\n",
      "404 Client Error: Not Found for url: https://query2.finance.yahoo.com/v10/finance/quoteSummary/SUI-A?modules=financialData%2CquoteType%2CdefaultKeyStatistics%2CassetProfile%2CsummaryDetail&corsDomain=finance.yahoo.com&formatted=false&symbol=SUI-A&crumb=wMYLnRQb6Q9\n",
      "404 Client Error: Not Found for url: https://query2.finance.yahoo.com/v10/finance/quoteSummary/TAP.A?modules=financialData%2CquoteType%2CdefaultKeyStatistics%2CassetProfile%2CsummaryDetail&corsDomain=finance.yahoo.com&formatted=false&symbol=TAP.A&crumb=wMYLnRQb6Q9\n",
      "404 Client Error: Not Found for url: https://query2.finance.yahoo.com/v10/finance/quoteSummary/TC-T?modules=financialData%2CquoteType%2CdefaultKeyStatistics%2CassetProfile%2CsummaryDetail&corsDomain=finance.yahoo.com&formatted=false&symbol=TC-T&crumb=wMYLnRQb6Q9\n",
      "404 Client Error: Not Found for url: https://query2.finance.yahoo.com/v10/finance/quoteSummary/TCB-B?modules=financialData%2CquoteType%2CdefaultKeyStatistics%2CassetProfile%2CsummaryDetail&corsDomain=finance.yahoo.com&formatted=false&symbol=TCB-B&crumb=wMYLnRQb6Q9\n",
      "404 Client Error: Not Found for url: https://query2.finance.yahoo.com/v10/finance/quoteSummary/TCB-C?modules=financialData%2CquoteType%2CdefaultKeyStatistics%2CassetProfile%2CsummaryDetail&corsDomain=finance.yahoo.com&formatted=false&symbol=TCB-C&crumb=wMYLnRQb6Q9\n",
      "404 Client Error: Not Found for url: https://query2.finance.yahoo.com/v10/finance/quoteSummary/TCB.W?modules=financialData%2CquoteType%2CdefaultKeyStatistics%2CassetProfile%2CsummaryDetail&corsDomain=finance.yahoo.com&formatted=false&symbol=TCB.W&crumb=wMYLnRQb6Q9\n",
      "404 Client Error: Not Found for url: https://query2.finance.yahoo.com/v10/finance/quoteSummary/TCCA?modules=financialData%2CquoteType%2CdefaultKeyStatistics%2CassetProfile%2CsummaryDetail&corsDomain=finance.yahoo.com&formatted=false&symbol=TCCA&crumb=wMYLnRQb6Q9\n",
      "404 Client Error: Not Found for url: https://query2.finance.yahoo.com/v10/finance/quoteSummary/TCO-J?modules=financialData%2CquoteType%2CdefaultKeyStatistics%2CassetProfile%2CsummaryDetail&corsDomain=finance.yahoo.com&formatted=false&symbol=TCO-J&crumb=wMYLnRQb6Q9\n",
      "404 Client Error: Not Found for url: https://query2.finance.yahoo.com/v10/finance/quoteSummary/TCO-K?modules=financialData%2CquoteType%2CdefaultKeyStatistics%2CassetProfile%2CsummaryDetail&corsDomain=finance.yahoo.com&formatted=false&symbol=TCO-K&crumb=wMYLnRQb6Q9\n",
      "404 Client Error: Not Found for url: https://query2.finance.yahoo.com/v10/finance/quoteSummary/TDA?modules=financialData%2CquoteType%2CdefaultKeyStatistics%2CassetProfile%2CsummaryDetail&corsDomain=finance.yahoo.com&formatted=false&symbol=TDA&crumb=wMYLnRQb6Q9\n",
      "404 Client Error: Not Found for url: https://query2.finance.yahoo.com/v10/finance/quoteSummary/TDJ?modules=financialData%2CquoteType%2CdefaultKeyStatistics%2CassetProfile%2CsummaryDetail&corsDomain=finance.yahoo.com&formatted=false&symbol=TDJ&crumb=wMYLnRQb6Q9\n",
      "404 Client Error: Not Found for url: https://query2.finance.yahoo.com/v10/finance/quoteSummary/TEU-C?modules=financialData%2CquoteType%2CdefaultKeyStatistics%2CassetProfile%2CsummaryDetail&corsDomain=finance.yahoo.com&formatted=false&symbol=TEU-C&crumb=wMYLnRQb6Q9\n",
      "404 Client Error: Not Found for url: https://query2.finance.yahoo.com/v10/finance/quoteSummary/TGH?modules=financialData%2CquoteType%2CdefaultKeyStatistics%2CassetProfile%2CsummaryDetail&corsDomain=finance.yahoo.com&formatted=false&symbol=TGH&crumb=wMYLnRQb6Q9\n",
      "404 Client Error: Not Found for url: https://query2.finance.yahoo.com/v10/finance/quoteSummary/THGA?modules=financialData%2CquoteType%2CdefaultKeyStatistics%2CassetProfile%2CsummaryDetail&corsDomain=finance.yahoo.com&formatted=false&symbol=THGA&crumb=wMYLnRQb6Q9\n",
      "404 Client Error: Not Found for url: https://query2.finance.yahoo.com/v10/finance/quoteSummary/TI.A?modules=financialData%2CquoteType%2CdefaultKeyStatistics%2CassetProfile%2CsummaryDetail&corsDomain=finance.yahoo.com&formatted=false&symbol=TI.A&crumb=wMYLnRQb6Q9\n",
      "404 Client Error: Not Found for url: https://query2.finance.yahoo.com/v10/finance/quoteSummary/TMK-B?modules=financialData%2CquoteType%2CdefaultKeyStatistics%2CassetProfile%2CsummaryDetail&corsDomain=finance.yahoo.com&formatted=false&symbol=TMK-B&crumb=wMYLnRQb6Q9\n",
      "404 Client Error: Not Found for url: https://query2.finance.yahoo.com/v10/finance/quoteSummary/TNP?modules=financialData%2CquoteType%2CdefaultKeyStatistics%2CassetProfile%2CsummaryDetail&corsDomain=finance.yahoo.com&formatted=false&symbol=TNP&crumb=wMYLnRQb6Q9\n",
      "404 Client Error: Not Found for url: https://query2.finance.yahoo.com/v10/finance/quoteSummary/TNP-B?modules=financialData%2CquoteType%2CdefaultKeyStatistics%2CassetProfile%2CsummaryDetail&corsDomain=finance.yahoo.com&formatted=false&symbol=TNP-B&crumb=wMYLnRQb6Q9\n",
      "404 Client Error: Not Found for url: https://query2.finance.yahoo.com/v10/finance/quoteSummary/TOO-A?modules=financialData%2CquoteType%2CdefaultKeyStatistics%2CassetProfile%2CsummaryDetail&corsDomain=finance.yahoo.com&formatted=false&symbol=TOO-A&crumb=wMYLnRQb6Q9\n",
      "404 Client Error: Not Found for url: https://query2.finance.yahoo.com/v10/finance/quoteSummary/TRMR?modules=financialData%2CquoteType%2CdefaultKeyStatistics%2CassetProfile%2CsummaryDetail&corsDomain=finance.yahoo.com&formatted=false&symbol=TRMR&crumb=wMYLnRQb6Q9\n",
      "404 Client Error: Not Found for url: https://query2.finance.yahoo.com/v10/finance/quoteSummary/TRN-A?modules=financialData%2CquoteType%2CdefaultKeyStatistics%2CassetProfile%2CsummaryDetail&corsDomain=finance.yahoo.com&formatted=false&symbol=TRN-A&crumb=wMYLnRQb6Q9\n",
      "404 Client Error: Not Found for url: https://query2.finance.yahoo.com/v10/finance/quoteSummary/TUP?modules=financialData%2CquoteType%2CdefaultKeyStatistics%2CassetProfile%2CsummaryDetail&corsDomain=finance.yahoo.com&formatted=false&symbol=TUP&crumb=wMYLnRQb6Q9\n"
     ]
    },
    {
     "name": "stdout",
     "output_type": "stream",
     "text": [
      "Error fetching data for TXT: Too Many Requests. Rate limited. Try after a while.\n",
      "Error fetching data for TXTR: Too Many Requests. Rate limited. Try after a while.\n",
      "Error fetching data for TY: Too Many Requests. Rate limited. Try after a while.\n",
      "Error fetching data for TY.P: Too Many Requests. Rate limited. Try after a while.\n",
      "Error fetching data for TYC: Too Many Requests. Rate limited. Try after a while.\n",
      "Error fetching data for TYG: Too Many Requests. Rate limited. Try after a while.\n",
      "Error fetching data for TYG-B: Too Many Requests. Rate limited. Try after a while.\n",
      "Error fetching data for TYL: Too Many Requests. Rate limited. Try after a while.\n",
      "Error fetching data for TYN: Too Many Requests. Rate limited. Try after a while.\n",
      "Error fetching data for TYY: Too Many Requests. Rate limited. Try after a while.\n",
      "Error fetching data for TYY-C: Too Many Requests. Rate limited. Try after a while.\n",
      "Error fetching data for TZF: Too Many Requests. Rate limited. Try after a while.\n",
      "Error fetching data for UA: Too Many Requests. Rate limited. Try after a while.\n",
      "Error fetching data for UAL: Too Many Requests. Rate limited. Try after a while.\n",
      "Error fetching data for UAM: Too Many Requests. Rate limited. Try after a while.\n",
      "Error fetching data for UAN: Too Many Requests. Rate limited. Try after a while.\n",
      "Error fetching data for UBA: Too Many Requests. Rate limited. Try after a while.\n",
      "Error fetching data for UBP: Too Many Requests. Rate limited. Try after a while.\n",
      "Error fetching data for UBP-D: Too Many Requests. Rate limited. Try after a while.\n",
      "Error fetching data for UBP-F: Too Many Requests. Rate limited. Try after a while.\n",
      "Error fetching data for UBS: Too Many Requests. Rate limited. Try after a while.\n",
      "Error fetching data for UBS-D: Too Many Requests. Rate limited. Try after a while.\n",
      "Error fetching data for UCP: Too Many Requests. Rate limited. Try after a while.\n",
      "Error fetching data for UDR: Too Many Requests. Rate limited. Try after a while.\n",
      "Error fetching data for UFI: Too Many Requests. Rate limited. Try after a while.\n",
      "Error fetching data for UFS: Too Many Requests. Rate limited. Try after a while.\n",
      "Error fetching data for UGI: Too Many Requests. Rate limited. Try after a while.\n",
      "Error fetching data for UGP: Too Many Requests. Rate limited. Try after a while.\n",
      "Error fetching data for UHS: Too Many Requests. Rate limited. Try after a while.\n",
      "Error fetching data for UHT: Too Many Requests. Rate limited. Try after a while.\n",
      "Error fetching data for UIL: Too Many Requests. Rate limited. Try after a while.\n",
      "Error fetching data for UIS: Too Many Requests. Rate limited. Try after a while.\n",
      "Error fetching data for UIS-A: Too Many Requests. Rate limited. Try after a while.\n",
      "Error fetching data for UL: Too Many Requests. Rate limited. Try after a while.\n",
      "Error fetching data for UMC: Too Many Requests. Rate limited. Try after a while.\n",
      "Error fetching data for UMH: Too Many Requests. Rate limited. Try after a while.\n",
      "Error fetching data for UMH-A: Too Many Requests. Rate limited. Try after a while.\n",
      "Error fetching data for UN: Too Many Requests. Rate limited. Try after a while.\n",
      "Error fetching data for UNF: Too Many Requests. Rate limited. Try after a while.\n",
      "Error fetching data for UNH: Too Many Requests. Rate limited. Try after a while.\n",
      "Error fetching data for UNM: Too Many Requests. Rate limited. Try after a while.\n",
      "Error fetching data for UNP: Too Many Requests. Rate limited. Try after a while.\n",
      "Error fetching data for UNS: Too Many Requests. Rate limited. Try after a while.\n",
      "Error fetching data for UNT: Too Many Requests. Rate limited. Try after a while.\n",
      "Error fetching data for UPL: Too Many Requests. Rate limited. Try after a while.\n",
      "Error fetching data for UPS: Too Many Requests. Rate limited. Try after a while.\n",
      "Error fetching data for URI: Too Many Requests. Rate limited. Try after a while.\n",
      "Error fetching data for URS: Too Many Requests. Rate limited. Try after a while.\n",
      "Error fetching data for USA: Too Many Requests. Rate limited. Try after a while.\n",
      "Error fetching data for USAC: Too Many Requests. Rate limited. Try after a while.\n",
      "Error fetching data for USB: Too Many Requests. Rate limited. Try after a while.\n",
      "Error fetching data for USB-A: Too Many Requests. Rate limited. Try after a while.\n",
      "Error fetching data for USB-H: Too Many Requests. Rate limited. Try after a while.\n",
      "Error fetching data for USB-M: Too Many Requests. Rate limited. Try after a while.\n",
      "Error fetching data for USB-N: Too Many Requests. Rate limited. Try after a while.\n",
      "Error fetching data for USB-O: Too Many Requests. Rate limited. Try after a while.\n",
      "Error fetching data for USG: Too Many Requests. Rate limited. Try after a while.\n",
      "Error fetching data for USM: Too Many Requests. Rate limited. Try after a while.\n",
      "Error fetching data for USNA: Too Many Requests. Rate limited. Try after a while.\n",
      "Error fetching data for USPH: Too Many Requests. Rate limited. Try after a while.\n",
      "Error fetching data for USU: Too Many Requests. Rate limited. Try after a while.\n",
      "Error fetching data for UTF: Too Many Requests. Rate limited. Try after a while.\n",
      "Error fetching data for UTI: Too Many Requests. Rate limited. Try after a while.\n",
      "Error fetching data for UTL: Too Many Requests. Rate limited. Try after a while.\n",
      "Error fetching data for UTX: Too Many Requests. Rate limited. Try after a while.\n",
      "Error fetching data for UTX-A: Too Many Requests. Rate limited. Try after a while.\n",
      "Error fetching data for UVV: Too Many Requests. Rate limited. Try after a while.\n",
      "Error fetching data for UZA: Too Many Requests. Rate limited. Try after a while.\n",
      "Error fetching data for V: Too Many Requests. Rate limited. Try after a while.\n",
      "Error fetching data for VAC: Too Many Requests. Rate limited. Try after a while.\n",
      "Error fetching data for VAL: Too Many Requests. Rate limited. Try after a while.\n",
      "Error fetching data for VAL.P: Too Many Requests. Rate limited. Try after a while.\n",
      "Error fetching data for VALE: Too Many Requests. Rate limited. Try after a while.\n",
      "Error fetching data for VAR: Too Many Requests. Rate limited. Try after a while.\n",
      "Error fetching data for VBF: Too Many Requests. Rate limited. Try after a while.\n",
      "Error fetching data for VC: Too Many Requests. Rate limited. Try after a while.\n",
      "Error fetching data for VCI: Too Many Requests. Rate limited. Try after a while.\n",
      "Error fetching data for VCO: Too Many Requests. Rate limited. Try after a while.\n",
      "Error fetching data for VCRA: Too Many Requests. Rate limited. Try after a while.\n",
      "Error fetching data for WAB: Too Many Requests. Rate limited. Try after a while.\n",
      "Error fetching data for WAC: Too Many Requests. Rate limited. Try after a while.\n",
      "Error fetching data for WAG: Too Many Requests. Rate limited. Try after a while.\n",
      "Error fetching data for WAGE: Too Many Requests. Rate limited. Try after a while.\n",
      "Error fetching data for WAIR: Too Many Requests. Rate limited. Try after a while.\n",
      "Error fetching data for WAL: Too Many Requests. Rate limited. Try after a while.\n",
      "Error fetching data for WAT: Too Many Requests. Rate limited. Try after a while.\n",
      "Error fetching data for WBC: Too Many Requests. Rate limited. Try after a while.\n",
      "Error fetching data for WBK: Too Many Requests. Rate limited. Try after a while.\n",
      "Error fetching data for WBS: Too Many Requests. Rate limited. Try after a while.\n",
      "Error fetching data for X: Too Many Requests. Rate limited. Try after a while.\n",
      "Error fetching data for XAA: Too Many Requests. Rate limited. Try after a while.\n",
      "Error fetching data for XCO: Too Many Requests. Rate limited. Try after a while.\n",
      "Error fetching data for XEC: Too Many Requests. Rate limited. Try after a while.\n",
      "Error fetching data for XEL: Too Many Requests. Rate limited. Try after a while.\n",
      "Error fetching data for XFP: Too Many Requests. Rate limited. Try after a while.\n",
      "Error fetching data for XFR: Too Many Requests. Rate limited. Try after a while.\n",
      "Error fetching data for XIN: Too Many Requests. Rate limited. Try after a while.\n",
      "Error fetching data for XKE: Too Many Requests. Rate limited. Try after a while.\n",
      "Error fetching data for XKO: Too Many Requests. Rate limited. Try after a while.\n",
      "Error fetching data for XL: Too Many Requests. Rate limited. Try after a while.\n",
      "Error fetching data for XLS: Too Many Requests. Rate limited. Try after a while.\n",
      "Error fetching data for XNY: Too Many Requests. Rate limited. Try after a while.\n",
      "Error fetching data for XOM: Too Many Requests. Rate limited. Try after a while.\n",
      "Error fetching data for XON: Too Many Requests. Rate limited. Try after a while.\n",
      "Error fetching data for XOXO: Too Many Requests. Rate limited. Try after a while.\n",
      "Error fetching data for XPO: Too Many Requests. Rate limited. Try after a while.\n",
      "Error fetching data for XRM: Too Many Requests. Rate limited. Try after a while.\n",
      "Error fetching data for XRS: Too Many Requests. Rate limited. Try after a while.\n",
      "Error fetching data for XRX: Too Many Requests. Rate limited. Try after a while.\n",
      "Error fetching data for XUE: Too Many Requests. Rate limited. Try after a while.\n",
      "Error fetching data for XVG: Too Many Requests. Rate limited. Try after a while.\n",
      "Error fetching data for XYL: Too Many Requests. Rate limited. Try after a while.\n",
      "Error fetching data for Y: Too Many Requests. Rate limited. Try after a while.\n",
      "Error fetching data for YELP: Too Many Requests. Rate limited. Try after a while.\n",
      "Error fetching data for YGE: Too Many Requests. Rate limited. Try after a while.\n",
      "Error fetching data for YOKU: Too Many Requests. Rate limited. Try after a while.\n",
      "Error fetching data for YPF: Too Many Requests. Rate limited. Try after a while.\n",
      "Error fetching data for YUM: Too Many Requests. Rate limited. Try after a while.\n",
      "Error fetching data for YUME: Too Many Requests. Rate limited. Try after a while.\n",
      "Error fetching data for YZC: Too Many Requests. Rate limited. Try after a while.\n",
      "Error fetching data for ZA: Too Many Requests. Rate limited. Try after a while.\n",
      "Error fetching data for ZB-A: Too Many Requests. Rate limited. Try after a while.\n",
      "Error fetching data for ZB-C: Too Many Requests. Rate limited. Try after a while.\n",
      "Error fetching data for ZB-F: Too Many Requests. Rate limited. Try after a while.\n",
      "Error fetching data for ZB-G: Too Many Requests. Rate limited. Try after a while.\n",
      "Error fetching data for ZB-H: Too Many Requests. Rate limited. Try after a while.\n",
      "Error fetching data for ZEP: Too Many Requests. Rate limited. Try after a while.\n",
      "Error fetching data for ZF: Too Many Requests. Rate limited. Try after a while.\n",
      "Error fetching data for ZFC: Too Many Requests. Rate limited. Try after a while.\n",
      "Error fetching data for ZLC: Too Many Requests. Rate limited. Try after a while.\n",
      "Error fetching data for ZMH: Too Many Requests. Rate limited. Try after a while.\n",
      "Error fetching data for ZNH: Too Many Requests. Rate limited. Try after a while.\n",
      "Error fetching data for ZQK: Too Many Requests. Rate limited. Try after a while.\n",
      "Error fetching data for ZTR: Too Many Requests. Rate limited. Try after a while.\n",
      "Error fetching data for ZTS: Too Many Requests. Rate limited. Try after a while.\n",
      "Error fetching data for ZX: Too Many Requests. Rate limited. Try after a while.\n",
      "Error fetching data for AAIT: Too Many Requests. Rate limited. Try after a while.\n",
      "Error fetching data for AAME: Too Many Requests. Rate limited. Try after a while.\n",
      "Error fetching data for AAON: Too Many Requests. Rate limited. Try after a while.\n",
      "Error fetching data for AAPL: Too Many Requests. Rate limited. Try after a while.\n",
      "Error fetching data for AAWW: Too Many Requests. Rate limited. Try after a while.\n",
      "Error fetching data for AAXJ: Too Many Requests. Rate limited. Try after a while.\n",
      "Error fetching data for ABAX: Too Many Requests. Rate limited. Try after a while.\n",
      "Error fetching data for ABCB: Too Many Requests. Rate limited. Try after a while.\n",
      "Error fetching data for ABCD: Too Many Requests. Rate limited. Try after a while.\n",
      "Error fetching data for ABCO: Too Many Requests. Rate limited. Try after a while.\n",
      "Error fetching data for ABFS: Too Many Requests. Rate limited. Try after a while.\n",
      "Error fetching data for ABIO: Too Many Requests. Rate limited. Try after a while.\n",
      "Error fetching data for ABMD: Too Many Requests. Rate limited. Try after a while.\n",
      "Error fetching data for ABTL: Too Many Requests. Rate limited. Try after a while.\n",
      "Error fetching data for ACAD: Too Many Requests. Rate limited. Try after a while.\n",
      "Error fetching data for ACAS: Too Many Requests. Rate limited. Try after a while.\n",
      "Error fetching data for ACAT: Too Many Requests. Rate limited. Try after a while.\n",
      "Error fetching data for ACCL: Too Many Requests. Rate limited. Try after a while.\n",
      "Error fetching data for ACET: Too Many Requests. Rate limited. Try after a while.\n",
      "Error fetching data for ACFC: Too Many Requests. Rate limited. Try after a while.\n",
      "Error fetching data for ACFN: Too Many Requests. Rate limited. Try after a while.\n",
      "Error fetching data for ACGL: Too Many Requests. Rate limited. Try after a while.\n",
      "Error fetching data for ACHC: Too Many Requests. Rate limited. Try after a while.\n",
      "Error fetching data for ACHN: Too Many Requests. Rate limited. Try after a while.\n"
     ]
    },
    {
     "name": "stderr",
     "output_type": "stream",
     "text": [
      "401 Client Error: Unauthorized for url: https://query2.finance.yahoo.com/v10/finance/quoteSummary/ACIW?modules=financialData%2CquoteType%2CdefaultKeyStatistics%2CassetProfile%2CsummaryDetail&corsDomain=finance.yahoo.com&formatted=false&symbol=ACIW&crumb=Edge%3A+Too+Many+Requests\n",
      "404 Client Error: Not Found for url: https://query2.finance.yahoo.com/v10/finance/quoteSummary/ACRX?modules=financialData%2CquoteType%2CdefaultKeyStatistics%2CassetProfile%2CsummaryDetail&corsDomain=finance.yahoo.com&formatted=false&symbol=ACRX&crumb=wMYLnRQb6Q9\n",
      "404 Client Error: Not Found for url: https://query2.finance.yahoo.com/v10/finance/quoteSummary/ACST?modules=financialData%2CquoteType%2CdefaultKeyStatistics%2CassetProfile%2CsummaryDetail&corsDomain=finance.yahoo.com&formatted=false&symbol=ACST&crumb=wMYLnRQb6Q9\n",
      "404 Client Error: Not Found for url: https://query2.finance.yahoo.com/v10/finance/quoteSummary/ADES?modules=financialData%2CquoteType%2CdefaultKeyStatistics%2CassetProfile%2CsummaryDetail&corsDomain=finance.yahoo.com&formatted=false&symbol=ADES&crumb=wMYLnRQb6Q9\n",
      "404 Client Error: Not Found for url: https://query2.finance.yahoo.com/v10/finance/quoteSummary/AEY?modules=financialData%2CquoteType%2CdefaultKeyStatistics%2CassetProfile%2CsummaryDetail&corsDomain=finance.yahoo.com&formatted=false&symbol=AEY&crumb=wMYLnRQb6Q9\n",
      "404 Client Error: Not Found for url: https://query2.finance.yahoo.com/v10/finance/quoteSummary/ALIM?modules=financialData%2CquoteType%2CdefaultKeyStatistics%2CassetProfile%2CsummaryDetail&corsDomain=finance.yahoo.com&formatted=false&symbol=ALIM&crumb=wMYLnRQb6Q9\n",
      "404 Client Error: Not Found for url: https://query2.finance.yahoo.com/v10/finance/quoteSummary/AMOT?modules=financialData%2CquoteType%2CdefaultKeyStatistics%2CassetProfile%2CsummaryDetail&corsDomain=finance.yahoo.com&formatted=false&symbol=AMOT&crumb=wMYLnRQb6Q9\n",
      "404 Client Error: Not Found for url: https://query2.finance.yahoo.com/v10/finance/quoteSummary/AMSWA?modules=financialData%2CquoteType%2CdefaultKeyStatistics%2CassetProfile%2CsummaryDetail&corsDomain=finance.yahoo.com&formatted=false&symbol=AMSWA&crumb=wMYLnRQb6Q9\n",
      "404 Client Error: Not Found for url: https://query2.finance.yahoo.com/v10/finance/quoteSummary/AQUUU?modules=financialData%2CquoteType%2CdefaultKeyStatistics%2CassetProfile%2CsummaryDetail&corsDomain=finance.yahoo.com&formatted=false&symbol=AQUUU&crumb=wMYLnRQb6Q9\n",
      "404 Client Error: Not Found for url: https://query2.finance.yahoo.com/v10/finance/quoteSummary/AQUUW?modules=financialData%2CquoteType%2CdefaultKeyStatistics%2CassetProfile%2CsummaryDetail&corsDomain=finance.yahoo.com&formatted=false&symbol=AQUUW&crumb=wMYLnRQb6Q9\n",
      "404 Client Error: Not Found for url: https://query2.finance.yahoo.com/v10/finance/quoteSummary/ASCA?modules=financialData%2CquoteType%2CdefaultKeyStatistics%2CassetProfile%2CsummaryDetail&corsDomain=finance.yahoo.com&formatted=false&symbol=ASCA&crumb=wMYLnRQb6Q9\n",
      "404 Client Error: Not Found for url: https://query2.finance.yahoo.com/v10/finance/quoteSummary/ATRI?modules=financialData%2CquoteType%2CdefaultKeyStatistics%2CassetProfile%2CsummaryDetail&corsDomain=finance.yahoo.com&formatted=false&symbol=ATRI&crumb=wMYLnRQb6Q9\n",
      "404 Client Error: Not Found for url: https://query2.finance.yahoo.com/v10/finance/quoteSummary/ATVI?modules=financialData%2CquoteType%2CdefaultKeyStatistics%2CassetProfile%2CsummaryDetail&corsDomain=finance.yahoo.com&formatted=false&symbol=ATVI&crumb=wMYLnRQb6Q9\n",
      "404 Client Error: Not Found for url: https://query2.finance.yahoo.com/v10/finance/quoteSummary/AVHI?modules=financialData%2CquoteType%2CdefaultKeyStatistics%2CassetProfile%2CsummaryDetail&corsDomain=finance.yahoo.com&formatted=false&symbol=AVHI&crumb=wMYLnRQb6Q9\n",
      "404 Client Error: Not Found for url: https://query2.finance.yahoo.com/v10/finance/quoteSummary/AVID?modules=financialData%2CquoteType%2CdefaultKeyStatistics%2CassetProfile%2CsummaryDetail&corsDomain=finance.yahoo.com&formatted=false&symbol=AVID&crumb=wMYLnRQb6Q9\n",
      "404 Client Error: Not Found for url: https://query2.finance.yahoo.com/v10/finance/quoteSummary/AXAS?modules=financialData%2CquoteType%2CdefaultKeyStatistics%2CassetProfile%2CsummaryDetail&corsDomain=finance.yahoo.com&formatted=false&symbol=AXAS&crumb=wMYLnRQb6Q9\n",
      "404 Client Error: Not Found for url: https://query2.finance.yahoo.com/v10/finance/quoteSummary/BANCL?modules=financialData%2CquoteType%2CdefaultKeyStatistics%2CassetProfile%2CsummaryDetail&corsDomain=finance.yahoo.com&formatted=false&symbol=BANCL&crumb=wMYLnRQb6Q9\n"
     ]
    },
    {
     "name": "stdout",
     "output_type": "stream",
     "text": [
      "Error fetching data for BDSI: Too Many Requests. Rate limited. Try after a while.\n",
      "Error fetching data for BEAT: Too Many Requests. Rate limited. Try after a while.\n",
      "Error fetching data for BEAV: Too Many Requests. Rate limited. Try after a while.\n",
      "Error fetching data for BEBE: Too Many Requests. Rate limited. Try after a while.\n",
      "Error fetching data for BECN: Too Many Requests. Rate limited. Try after a while.\n",
      "Error fetching data for BELFA: Too Many Requests. Rate limited. Try after a while.\n",
      "Error fetching data for BELFB: Too Many Requests. Rate limited. Try after a while.\n",
      "Error fetching data for BERK: Too Many Requests. Rate limited. Try after a while.\n",
      "Error fetching data for BFIN: Too Many Requests. Rate limited. Try after a while.\n",
      "Error fetching data for BGCP: Too Many Requests. Rate limited. Try after a while.\n",
      "Error fetching data for BGFV: Too Many Requests. Rate limited. Try after a while.\n",
      "Error fetching data for BGMD: Too Many Requests. Rate limited. Try after a while.\n",
      "Error fetching data for BGSC: Too Many Requests. Rate limited. Try after a while.\n",
      "Error fetching data for BGSCU: Too Many Requests. Rate limited. Try after a while.\n",
      "Error fetching data for BGSCW: Too Many Requests. Rate limited. Try after a while.\n",
      "Error fetching data for BIB: Too Many Requests. Rate limited. Try after a while.\n",
      "Error fetching data for BICK: Too Many Requests. Rate limited. Try after a while.\n",
      "Error fetching data for BIDU: Too Many Requests. Rate limited. Try after a while.\n",
      "Error fetching data for BIIB: Too Many Requests. Rate limited. Try after a while.\n",
      "Error fetching data for BIOD: Too Many Requests. Rate limited. Try after a while.\n",
      "Error fetching data for BIOF: Too Many Requests. Rate limited. Try after a while.\n",
      "Error fetching data for BIOL: Too Many Requests. Rate limited. Try after a while.\n",
      "Error fetching data for BIOS: Too Many Requests. Rate limited. Try after a while.\n",
      "Error fetching data for BIRT: Too Many Requests. Rate limited. Try after a while.\n",
      "Error fetching data for BIS: Too Many Requests. Rate limited. Try after a while.\n",
      "Error fetching data for BJRI: Too Many Requests. Rate limited. Try after a while.\n",
      "Error fetching data for BKCC: Too Many Requests. Rate limited. Try after a while.\n",
      "Error fetching data for BKEP: Too Many Requests. Rate limited. Try after a while.\n",
      "Error fetching data for BKEPP: Too Many Requests. Rate limited. Try after a while.\n",
      "Error fetching data for BKMU: Too Many Requests. Rate limited. Try after a while.\n",
      "Error fetching data for BKSC: Too Many Requests. Rate limited. Try after a while.\n",
      "Error fetching data for BKYF: Too Many Requests. Rate limited. Try after a while.\n",
      "Error fetching data for BLDP: Too Many Requests. Rate limited. Try after a while.\n",
      "Error fetching data for BLDR: Too Many Requests. Rate limited. Try after a while.\n",
      "Error fetching data for BLIN: Too Many Requests. Rate limited. Try after a while.\n",
      "Error fetching data for BLKB: Too Many Requests. Rate limited. Try after a while.\n",
      "Error fetching data for BLMN: Too Many Requests. Rate limited. Try after a while.\n",
      "Error fetching data for BLMT: Too Many Requests. Rate limited. Try after a while.\n",
      "Error fetching data for BLRX: Too Many Requests. Rate limited. Try after a while.\n",
      "Error fetching data for BLUE: Too Many Requests. Rate limited. Try after a while.\n",
      "Error fetching data for BMC: Too Many Requests. Rate limited. Try after a while.\n",
      "Error fetching data for BMRC: Too Many Requests. Rate limited. Try after a while.\n",
      "Error fetching data for BMRN: Too Many Requests. Rate limited. Try after a while.\n",
      "Error fetching data for BMTC: Too Many Requests. Rate limited. Try after a while.\n",
      "Error fetching data for BNCL: Too Many Requests. Rate limited. Try after a while.\n",
      "Error fetching data for BNCN: Too Many Requests. Rate limited. Try after a while.\n",
      "Error fetching data for BNDX: Too Many Requests. Rate limited. Try after a while.\n",
      "Error fetching data for BNSO: Too Many Requests. Rate limited. Try after a while.\n",
      "Error fetching data for BOBE: Too Many Requests. Rate limited. Try after a while.\n",
      "Error fetching data for BOCH: Too Many Requests. Rate limited. Try after a while.\n",
      "Error fetching data for BODY: Too Many Requests. Rate limited. Try after a while.\n",
      "Error fetching data for BOFI: Too Many Requests. Rate limited. Try after a while.\n",
      "Error fetching data for BOKF: Too Many Requests. Rate limited. Try after a while.\n",
      "Error fetching data for BOLT: Too Many Requests. Rate limited. Try after a while.\n",
      "Error fetching data for BONA: Too Many Requests. Rate limited. Try after a while.\n",
      "Error fetching data for BONT: Too Many Requests. Rate limited. Try after a while.\n",
      "Error fetching data for BOOM: Too Many Requests. Rate limited. Try after a while.\n",
      "Error fetching data for BOSC: Too Many Requests. Rate limited. Try after a while.\n",
      "Error fetching data for BOTA: Too Many Requests. Rate limited. Try after a while.\n",
      "Error fetching data for BOTJ: Too Many Requests. Rate limited. Try after a while.\n",
      "Error fetching data for BPFH: Too Many Requests. Rate limited. Try after a while.\n",
      "Error fetching data for BPFHP: Too Many Requests. Rate limited. Try after a while.\n",
      "Error fetching data for BPFHW: Too Many Requests. Rate limited. Try after a while.\n",
      "Error fetching data for BPHX: Too Many Requests. Rate limited. Try after a while.\n",
      "Error fetching data for BPOP: Too Many Requests. Rate limited. Try after a while.\n",
      "Error fetching data for BPOPM: Too Many Requests. Rate limited. Try after a while.\n",
      "Error fetching data for BPOPN: Too Many Requests. Rate limited. Try after a while.\n",
      "Error fetching data for BRCD: Too Many Requests. Rate limited. Try after a while.\n",
      "Error fetching data for BRCM: Too Many Requests. Rate limited. Try after a while.\n",
      "Error fetching data for BREW: Too Many Requests. Rate limited. Try after a while.\n",
      "Error fetching data for BRID: Too Many Requests. Rate limited. Try after a while.\n",
      "Error fetching data for BRKL: Too Many Requests. Rate limited. Try after a while.\n",
      "Error fetching data for BRKR: Too Many Requests. Rate limited. Try after a while.\n",
      "Error fetching data for BRKS: Too Many Requests. Rate limited. Try after a while.\n",
      "Error fetching data for BRLI: Too Many Requests. Rate limited. Try after a while.\n",
      "Error fetching data for BSDM: Too Many Requests. Rate limited. Try after a while.\n",
      "Error fetching data for BSET: Too Many Requests. Rate limited. Try after a while.\n",
      "Error fetching data for BSFT: Too Many Requests. Rate limited. Try after a while.\n",
      "Error fetching data for BSPM: Too Many Requests. Rate limited. Try after a while.\n",
      "Error fetching data for BSQR: Too Many Requests. Rate limited. Try after a while.\n",
      "Error fetching data for BSRR: Too Many Requests. Rate limited. Try after a while.\n",
      "Error fetching data for BSTC: Too Many Requests. Rate limited. Try after a while.\n",
      "Error fetching data for BTUI: Too Many Requests. Rate limited. Try after a while.\n",
      "Error fetching data for BUR: Too Many Requests. Rate limited. Try after a while.\n",
      "Error fetching data for BUSE: Too Many Requests. Rate limited. Try after a while.\n",
      "Error fetching data for BV: Too Many Requests. Rate limited. Try after a while.\n",
      "Error fetching data for BVA: Too Many Requests. Rate limited. Try after a while.\n",
      "Error fetching data for BVSN: Too Many Requests. Rate limited. Try after a while.\n",
      "Error fetching data for BWEN: Too Many Requests. Rate limited. Try after a while.\n",
      "Error fetching data for BWINA: Too Many Requests. Rate limited. Try after a while.\n",
      "Error fetching data for BWINB: Too Many Requests. Rate limited. Try after a while.\n",
      "Error fetching data for BWLD: Too Many Requests. Rate limited. Try after a while.\n",
      "Error fetching data for BYFC: Too Many Requests. Rate limited. Try after a while.\n",
      "Error fetching data for CA: Too Many Requests. Rate limited. Try after a while.\n",
      "Error fetching data for CAAS: Too Many Requests. Rate limited. Try after a while.\n",
      "Error fetching data for CAC: Too Many Requests. Rate limited. Try after a while.\n",
      "Error fetching data for CACB: Too Many Requests. Rate limited. Try after a while.\n",
      "Error fetching data for CACC: Too Many Requests. Rate limited. Try after a while.\n",
      "Error fetching data for CACGU: Too Many Requests. Rate limited. Try after a while.\n",
      "Error fetching data for CACGW: Too Many Requests. Rate limited. Try after a while.\n",
      "Error fetching data for CADC: Too Many Requests. Rate limited. Try after a while.\n",
      "Error fetching data for CADX: Too Many Requests. Rate limited. Try after a while.\n",
      "Error fetching data for CAFI: Too Many Requests. Rate limited. Try after a while.\n",
      "Error fetching data for CAKE: Too Many Requests. Rate limited. Try after a while.\n",
      "Error fetching data for CALD: Too Many Requests. Rate limited. Try after a while.\n",
      "Error fetching data for CALI: Too Many Requests. Rate limited. Try after a while.\n",
      "Error fetching data for CALL: Too Many Requests. Rate limited. Try after a while.\n",
      "Error fetching data for CALM: Too Many Requests. Rate limited. Try after a while.\n",
      "Error fetching data for CAMP: Too Many Requests. Rate limited. Try after a while.\n",
      "Error fetching data for CAMT: Too Many Requests. Rate limited. Try after a while.\n",
      "Error fetching data for CAR: Too Many Requests. Rate limited. Try after a while.\n",
      "Error fetching data for CARB: Too Many Requests. Rate limited. Try after a while.\n",
      "Error fetching data for CART: Too Many Requests. Rate limited. Try after a while.\n",
      "Error fetching data for CARV: Too Many Requests. Rate limited. Try after a while.\n",
      "Error fetching data for CARZ: Too Many Requests. Rate limited. Try after a while.\n",
      "Error fetching data for CASH: Too Many Requests. Rate limited. Try after a while.\n",
      "Error fetching data for CASM: Too Many Requests. Rate limited. Try after a while.\n",
      "Error fetching data for CASS: Too Many Requests. Rate limited. Try after a while.\n",
      "Error fetching data for CASY: Too Many Requests. Rate limited. Try after a while.\n",
      "Error fetching data for CATM: Too Many Requests. Rate limited. Try after a while.\n",
      "Error fetching data for CATY: Too Many Requests. Rate limited. Try after a while.\n",
      "Error fetching data for CAVM: Too Many Requests. Rate limited. Try after a while.\n",
      "Error fetching data for CBAK: Too Many Requests. Rate limited. Try after a while.\n",
      "Error fetching data for CBAN: Too Many Requests. Rate limited. Try after a while.\n",
      "Error fetching data for CBEY: Too Many Requests. Rate limited. Try after a while.\n",
      "Error fetching data for CBF: Too Many Requests. Rate limited. Try after a while.\n",
      "Error fetching data for CBIN: Too Many Requests. Rate limited. Try after a while.\n",
      "Error fetching data for CBLI: Too Many Requests. Rate limited. Try after a while.\n",
      "Error fetching data for CBMX: Too Many Requests. Rate limited. Try after a while.\n",
      "Error fetching data for CBMXW: Too Many Requests. Rate limited. Try after a while.\n",
      "Error fetching data for CBNJ: Too Many Requests. Rate limited. Try after a while.\n",
      "Error fetching data for CBNK: Too Many Requests. Rate limited. Try after a while.\n",
      "Error fetching data for CBOE: Too Many Requests. Rate limited. Try after a while.\n",
      "Error fetching data for CBPO: Too Many Requests. Rate limited. Try after a while.\n",
      "Error fetching data for CBRL: Too Many Requests. Rate limited. Try after a while.\n",
      "Error fetching data for CBRX: Too Many Requests. Rate limited. Try after a while.\n",
      "Error fetching data for CBSH: Too Many Requests. Rate limited. Try after a while.\n",
      "Error fetching data for CBST: Too Many Requests. Rate limited. Try after a while.\n",
      "Error fetching data for CCBG: Too Many Requests. Rate limited. Try after a while.\n",
      "Error fetching data for CCCL: Too Many Requests. Rate limited. Try after a while.\n",
      "Error fetching data for CCCR: Too Many Requests. Rate limited. Try after a while.\n",
      "Error fetching data for CCIH: Too Many Requests. Rate limited. Try after a while.\n",
      "Error fetching data for CCIX: Too Many Requests. Rate limited. Try after a while.\n",
      "Error fetching data for CCMP: Too Many Requests. Rate limited. Try after a while.\n",
      "Error fetching data for CCNE: Too Many Requests. Rate limited. Try after a while.\n",
      "Error fetching data for CCOI: Too Many Requests. Rate limited. Try after a while.\n",
      "Error fetching data for CCRN: Too Many Requests. Rate limited. Try after a while.\n",
      "Error fetching data for CCUR: Too Many Requests. Rate limited. Try after a while.\n",
      "Error fetching data for CCXI: Too Many Requests. Rate limited. Try after a while.\n",
      "Error fetching data for CDNS: Too Many Requests. Rate limited. Try after a while.\n",
      "Error fetching data for CDTI: Too Many Requests. Rate limited. Try after a while.\n",
      "Error fetching data for CDW: Too Many Requests. Rate limited. Try after a while.\n",
      "Error fetching data for CDXS: Too Many Requests. Rate limited. Try after a while.\n",
      "Error fetching data for CDZI: Too Many Requests. Rate limited. Try after a while.\n",
      "Error fetching data for CECE: Too Many Requests. Rate limited. Try after a while.\n",
      "Error fetching data for CECO: Too Many Requests. Rate limited. Try after a while.\n",
      "Error fetching data for CEDU: Too Many Requests. Rate limited. Try after a while.\n",
      "Error fetching data for CELG: Too Many Requests. Rate limited. Try after a while.\n",
      "Error fetching data for CELGZ: Too Many Requests. Rate limited. Try after a while.\n",
      "Error fetching data for CEMI: Too Many Requests. Rate limited. Try after a while.\n",
      "Error fetching data for CEMP: Too Many Requests. Rate limited. Try after a while.\n",
      "Error fetching data for CENT: Too Many Requests. Rate limited. Try after a while.\n",
      "Error fetching data for CENTA: Too Many Requests. Rate limited. Try after a while.\n",
      "Error fetching data for CENX: Too Many Requests. Rate limited. Try after a while.\n",
      "Error fetching data for CERE: Too Many Requests. Rate limited. Try after a while.\n",
      "Error fetching data for CERN: Too Many Requests. Rate limited. Try after a while.\n",
      "Error fetching data for CERS: Too Many Requests. Rate limited. Try after a while.\n",
      "Error fetching data for CETV: Too Many Requests. Rate limited. Try after a while.\n",
      "Error fetching data for CEVA: Too Many Requests. Rate limited. Try after a while.\n",
      "Error fetching data for CFBK: Too Many Requests. Rate limited. Try after a while.\n",
      "Error fetching data for CFFI: Too Many Requests. Rate limited. Try after a while.\n",
      "Error fetching data for CFFN: Too Many Requests. Rate limited. Try after a while.\n",
      "Error fetching data for CFNB: Too Many Requests. Rate limited. Try after a while.\n",
      "Error fetching data for CFNL: Too Many Requests. Rate limited. Try after a while.\n",
      "Error fetching data for CG: Too Many Requests. Rate limited. Try after a while.\n",
      "Error fetching data for CGEN: Too Many Requests. Rate limited. Try after a while.\n",
      "Error fetching data for CGIX: Too Many Requests. Rate limited. Try after a while.\n",
      "Error fetching data for CGNX: Too Many Requests. Rate limited. Try after a while.\n",
      "Error fetching data for CGO: Too Many Requests. Rate limited. Try after a while.\n",
      "Error fetching data for CHCI: Too Many Requests. Rate limited. Try after a while.\n",
      "Error fetching data for CHCO: Too Many Requests. Rate limited. Try after a while.\n",
      "Error fetching data for CHDN: Too Many Requests. Rate limited. Try after a while.\n",
      "Error fetching data for CHDX: Too Many Requests. Rate limited. Try after a while.\n",
      "Error fetching data for CHEF: Too Many Requests. Rate limited. Try after a while.\n",
      "Error fetching data for CHEV: Too Many Requests. Rate limited. Try after a while.\n",
      "Error fetching data for CHFC: Too Many Requests. Rate limited. Try after a while.\n",
      "Error fetching data for CHFN: Too Many Requests. Rate limited. Try after a while.\n",
      "Error fetching data for CHI: Too Many Requests. Rate limited. Try after a while.\n",
      "Error fetching data for CHKE: Too Many Requests. Rate limited. Try after a while.\n",
      "Error fetching data for CHKP: Too Many Requests. Rate limited. Try after a while.\n",
      "Error fetching data for CHLN: Too Many Requests. Rate limited. Try after a while.\n",
      "Error fetching data for CHMG: Too Many Requests. Rate limited. Try after a while.\n"
     ]
    },
    {
     "name": "stderr",
     "output_type": "stream",
     "text": [
      "401 Client Error: Unauthorized for url: https://query2.finance.yahoo.com/v10/finance/quoteSummary/CHNR?modules=financialData%2CquoteType%2CdefaultKeyStatistics%2CassetProfile%2CsummaryDetail&corsDomain=finance.yahoo.com&formatted=false&symbol=CHNR&crumb=Edge%3A+Too+Many+Requests\n",
      "404 Client Error: Not Found for url: https://query2.finance.yahoo.com/v10/finance/quoteSummary/CHUY?modules=financialData%2CquoteType%2CdefaultKeyStatistics%2CassetProfile%2CsummaryDetail&corsDomain=finance.yahoo.com&formatted=false&symbol=CHUY&crumb=wMYLnRQb6Q9\n",
      "404 Client Error: Not Found for url: https://query2.finance.yahoo.com/v10/finance/quoteSummary/CISAA?modules=financialData%2CquoteType%2CdefaultKeyStatistics%2CassetProfile%2CsummaryDetail&corsDomain=finance.yahoo.com&formatted=false&symbol=CISAA&crumb=wMYLnRQb6Q9\n",
      "404 Client Error: Not Found for url: https://query2.finance.yahoo.com/v10/finance/quoteSummary/CISAU?modules=financialData%2CquoteType%2CdefaultKeyStatistics%2CassetProfile%2CsummaryDetail&corsDomain=finance.yahoo.com&formatted=false&symbol=CISAU&crumb=wMYLnRQb6Q9\n",
      "404 Client Error: Not Found for url: https://query2.finance.yahoo.com/v10/finance/quoteSummary/CLACW?modules=financialData%2CquoteType%2CdefaultKeyStatistics%2CassetProfile%2CsummaryDetail&corsDomain=finance.yahoo.com&formatted=false&symbol=CLACW&crumb=wMYLnRQb6Q9\n",
      "404 Client Error: Not Found for url: https://query2.finance.yahoo.com/v10/finance/quoteSummary/CONN?modules=financialData%2CquoteType%2CdefaultKeyStatistics%2CassetProfile%2CsummaryDetail&corsDomain=finance.yahoo.com&formatted=false&symbol=CONN&crumb=wMYLnRQb6Q9\n",
      "404 Client Error: Not Found for url: https://query2.finance.yahoo.com/v10/finance/quoteSummary/COOL?modules=financialData%2CquoteType%2CdefaultKeyStatistics%2CassetProfile%2CsummaryDetail&corsDomain=finance.yahoo.com&formatted=false&symbol=COOL&crumb=wMYLnRQb6Q9\n",
      "404 Client Error: Not Found for url: https://query2.finance.yahoo.com/v10/finance/quoteSummary/CPLP?modules=financialData%2CquoteType%2CdefaultKeyStatistics%2CassetProfile%2CsummaryDetail&corsDomain=finance.yahoo.com&formatted=false&symbol=CPLP&crumb=wMYLnRQb6Q9\n",
      "404 Client Error: Not Found for url: https://query2.finance.yahoo.com/v10/finance/quoteSummary/CPSI?modules=financialData%2CquoteType%2CdefaultKeyStatistics%2CassetProfile%2CsummaryDetail&corsDomain=finance.yahoo.com&formatted=false&symbol=CPSI&crumb=wMYLnRQb6Q9\n",
      "404 Client Error: Not Found for url: https://query2.finance.yahoo.com/v10/finance/quoteSummary/CRMBU?modules=financialData%2CquoteType%2CdefaultKeyStatistics%2CassetProfile%2CsummaryDetail&corsDomain=finance.yahoo.com&formatted=false&symbol=CRMBU&crumb=wMYLnRQb6Q9\n",
      "404 Client Error: Not Found for url: https://query2.finance.yahoo.com/v10/finance/quoteSummary/CTG?modules=financialData%2CquoteType%2CdefaultKeyStatistics%2CassetProfile%2CsummaryDetail&corsDomain=finance.yahoo.com&formatted=false&symbol=CTG&crumb=wMYLnRQb6Q9\n",
      "404 Client Error: Not Found for url: https://query2.finance.yahoo.com/v10/finance/quoteSummary/CTIB?modules=financialData%2CquoteType%2CdefaultKeyStatistics%2CassetProfile%2CsummaryDetail&corsDomain=finance.yahoo.com&formatted=false&symbol=CTIB&crumb=wMYLnRQb6Q9\n",
      "404 Client Error: Not Found for url: https://query2.finance.yahoo.com/v10/finance/quoteSummary/CVCY?modules=financialData%2CquoteType%2CdefaultKeyStatistics%2CassetProfile%2CsummaryDetail&corsDomain=finance.yahoo.com&formatted=false&symbol=CVCY&crumb=wMYLnRQb6Q9\n",
      "404 Client Error: Not Found for url: https://query2.finance.yahoo.com/v10/finance/quoteSummary/CVLY?modules=financialData%2CquoteType%2CdefaultKeyStatistics%2CassetProfile%2CsummaryDetail&corsDomain=finance.yahoo.com&formatted=false&symbol=CVLY&crumb=wMYLnRQb6Q9\n",
      "404 Client Error: Not Found for url: https://query2.finance.yahoo.com/v10/finance/quoteSummary/CYTXW?modules=financialData%2CquoteType%2CdefaultKeyStatistics%2CassetProfile%2CsummaryDetail&corsDomain=finance.yahoo.com&formatted=false&symbol=CYTXW&crumb=wMYLnRQb6Q9\n",
      "404 Client Error: Not Found for url: https://query2.finance.yahoo.com/v10/finance/quoteSummary/DISH?modules=financialData%2CquoteType%2CdefaultKeyStatistics%2CassetProfile%2CsummaryDetail&corsDomain=finance.yahoo.com&formatted=false&symbol=DISH&crumb=wMYLnRQb6Q9\n"
     ]
    },
    {
     "name": "stdout",
     "output_type": "stream",
     "text": [
      "Error fetching data for DRYS: Too Many Requests. Rate limited. Try after a while.\n",
      "Error fetching data for DSCI: Too Many Requests. Rate limited. Try after a while.\n",
      "Error fetching data for DSCO: Too Many Requests. Rate limited. Try after a while.\n",
      "Error fetching data for DSGX: Too Many Requests. Rate limited. Try after a while.\n",
      "Error fetching data for DSKX: Too Many Requests. Rate limited. Try after a while.\n",
      "Error fetching data for DSPG: Too Many Requests. Rate limited. Try after a while.\n",
      "Error fetching data for DSWL: Too Many Requests. Rate limited. Try after a while.\n",
      "Error fetching data for DTLK: Too Many Requests. Rate limited. Try after a while.\n",
      "Error fetching data for DTSI: Too Many Requests. Rate limited. Try after a while.\n",
      "Error fetching data for DTV: Too Many Requests. Rate limited. Try after a while.\n",
      "Error fetching data for DVAX: Too Many Requests. Rate limited. Try after a while.\n",
      "Error fetching data for DVCR: Too Many Requests. Rate limited. Try after a while.\n",
      "Error fetching data for DWA: Too Many Requests. Rate limited. Try after a while.\n",
      "Error fetching data for DWCH: Too Many Requests. Rate limited. Try after a while.\n",
      "Error fetching data for DWSN: Too Many Requests. Rate limited. Try after a while.\n",
      "Error fetching data for DXCM: Too Many Requests. Rate limited. Try after a while.\n",
      "Error fetching data for DXJS: Too Many Requests. Rate limited. Try after a while.\n",
      "Error fetching data for DXLG: Too Many Requests. Rate limited. Try after a while.\n",
      "Error fetching data for DXM: Too Many Requests. Rate limited. Try after a while.\n",
      "Error fetching data for DXPE: Too Many Requests. Rate limited. Try after a while.\n",
      "Error fetching data for DXPS: Too Many Requests. Rate limited. Try after a while.\n",
      "Error fetching data for DXYN: Too Many Requests. Rate limited. Try after a while.\n",
      "Error fetching data for DYAX: Too Many Requests. Rate limited. Try after a while.\n",
      "Error fetching data for DYNT: Too Many Requests. Rate limited. Try after a while.\n",
      "Error fetching data for DYSL: Too Many Requests. Rate limited. Try after a while.\n",
      "Error fetching data for EA: Too Many Requests. Rate limited. Try after a while.\n",
      "Error fetching data for EAC: Too Many Requests. Rate limited. Try after a while.\n",
      "Error fetching data for EAGLU: Too Many Requests. Rate limited. Try after a while.\n",
      "Error fetching data for EBAY: Too Many Requests. Rate limited. Try after a while.\n",
      "Error fetching data for EBIX: Too Many Requests. Rate limited. Try after a while.\n",
      "Error fetching data for EBMT: Too Many Requests. Rate limited. Try after a while.\n",
      "Error fetching data for EBSB: Too Many Requests. Rate limited. Try after a while.\n",
      "Error fetching data for EBTC: Too Many Requests. Rate limited. Try after a while.\n",
      "Error fetching data for ECHO: Too Many Requests. Rate limited. Try after a while.\n",
      "Error fetching data for ECOL: Too Many Requests. Rate limited. Try after a while.\n",
      "Error fetching data for ECPG: Too Many Requests. Rate limited. Try after a while.\n",
      "Error fetching data for ECTE: Too Many Requests. Rate limited. Try after a while.\n",
      "Error fetching data for ECTY: Too Many Requests. Rate limited. Try after a while.\n",
      "Error fetching data for ECYT: Too Many Requests. Rate limited. Try after a while.\n",
      "Error fetching data for EDAP: Too Many Requests. Rate limited. Try after a while.\n",
      "Error fetching data for EDGW: Too Many Requests. Rate limited. Try after a while.\n",
      "Error fetching data for EDMC: Too Many Requests. Rate limited. Try after a while.\n",
      "Error fetching data for EDS: Too Many Requests. Rate limited. Try after a while.\n",
      "Error fetching data for EDUC: Too Many Requests. Rate limited. Try after a while.\n",
      "Error fetching data for EEFT: Too Many Requests. Rate limited. Try after a while.\n",
      "Error fetching data for EEI: Too Many Requests. Rate limited. Try after a while.\n",
      "Error fetching data for EEMA: Too Many Requests. Rate limited. Try after a while.\n",
      "Error fetching data for EEME: Too Many Requests. Rate limited. Try after a while.\n",
      "Error fetching data for EEML: Too Many Requests. Rate limited. Try after a while.\n",
      "Error fetching data for EFII: Too Many Requests. Rate limited. Try after a while.\n",
      "Error fetching data for EFSC: Too Many Requests. Rate limited. Try after a while.\n",
      "Error fetching data for EFUT: Too Many Requests. Rate limited. Try after a while.\n",
      "Error fetching data for EGAN: Too Many Requests. Rate limited. Try after a while.\n",
      "Error fetching data for EGBN: Too Many Requests. Rate limited. Try after a while.\n",
      "Error fetching data for EGHT: Too Many Requests. Rate limited. Try after a while.\n",
      "Error fetching data for EGLE: Too Many Requests. Rate limited. Try after a while.\n",
      "Error fetching data for EGOV: Too Many Requests. Rate limited. Try after a while.\n",
      "Error fetching data for EGRW: Too Many Requests. Rate limited. Try after a while.\n",
      "Error fetching data for EGT: Too Many Requests. Rate limited. Try after a while.\n",
      "Error fetching data for EHTH: Too Many Requests. Rate limited. Try after a while.\n",
      "Error fetching data for EIHI: Too Many Requests. Rate limited. Try after a while.\n",
      "Error fetching data for ELGX: Too Many Requests. Rate limited. Try after a while.\n",
      "Error fetching data for ELNK: Too Many Requests. Rate limited. Try after a while.\n",
      "Error fetching data for ELON: Too Many Requests. Rate limited. Try after a while.\n",
      "Error fetching data for ELOS: Too Many Requests. Rate limited. Try after a while.\n",
      "Error fetching data for ELRC: Too Many Requests. Rate limited. Try after a while.\n",
      "Error fetching data for ELSE: Too Many Requests. Rate limited. Try after a while.\n",
      "Error fetching data for ELTK: Too Many Requests. Rate limited. Try after a while.\n",
      "Error fetching data for EMCB: Too Many Requests. Rate limited. Try after a while.\n",
      "Error fetching data for EMCF: Too Many Requests. Rate limited. Try after a while.\n",
      "Error fetching data for EMCI: Too Many Requests. Rate limited. Try after a while.\n",
      "Error fetching data for EMDI: Too Many Requests. Rate limited. Try after a while.\n",
      "Error fetching data for EMDR: Too Many Requests. Rate limited. Try after a while.\n",
      "Error fetching data for EMEY: Too Many Requests. Rate limited. Try after a while.\n",
      "Error fetching data for EMFN: Too Many Requests. Rate limited. Try after a while.\n",
      "Error fetching data for EMIF: Too Many Requests. Rate limited. Try after a while.\n",
      "Error fetching data for EMITF: Too Many Requests. Rate limited. Try after a while.\n",
      "Error fetching data for EMKR: Too Many Requests. Rate limited. Try after a while.\n",
      "Error fetching data for EML: Response ended prematurely\n",
      "Error fetching data for EMMS: Too Many Requests. Rate limited. Try after a while.\n",
      "Error fetching data for EMMSP: Too Many Requests. Rate limited. Try after a while.\n",
      "Error fetching data for EMMT: Too Many Requests. Rate limited. Try after a while.\n",
      "Error fetching data for ENDP: Too Many Requests. Rate limited. Try after a while.\n",
      "Error fetching data for ENG: Too Many Requests. Rate limited. Try after a while.\n",
      "Error fetching data for ENMD: Too Many Requests. Rate limited. Try after a while.\n",
      "Error fetching data for ENOC: Too Many Requests. Rate limited. Try after a while.\n",
      "Error fetching data for ENPH: Too Many Requests. Rate limited. Try after a while.\n",
      "Error fetching data for ENSG: Too Many Requests. Rate limited. Try after a while.\n",
      "Error fetching data for ENT: Too Many Requests. Rate limited. Try after a while.\n",
      "Error fetching data for ENTA: Too Many Requests. Rate limited. Try after a while.\n",
      "Error fetching data for ENTG: Too Many Requests. Rate limited. Try after a while.\n",
      "Error fetching data for ENTR: Too Many Requests. Rate limited. Try after a while.\n",
      "Error fetching data for ENVI: Too Many Requests. Rate limited. Try after a while.\n",
      "Error fetching data for ENZN: Too Many Requests. Rate limited. Try after a while.\n",
      "Error fetching data for EONC: Too Many Requests. Rate limited. Try after a while.\n",
      "Error fetching data for EOPN: Too Many Requests. Rate limited. Try after a while.\n",
      "Error fetching data for EPAX: Too Many Requests. Rate limited. Try after a while.\n",
      "Error fetching data for EPAY: Too Many Requests. Rate limited. Try after a while.\n",
      "Error fetching data for EPIQ: Too Many Requests. Rate limited. Try after a while.\n",
      "Error fetching data for EPZM: Too Many Requests. Rate limited. Try after a while.\n",
      "Error fetching data for EQIX: Too Many Requests. Rate limited. Try after a while.\n",
      "Error fetching data for ERIC: Too Many Requests. Rate limited. Try after a while.\n",
      "Error fetching data for ERIE: Too Many Requests. Rate limited. Try after a while.\n",
      "Error fetching data for ERII: Too Many Requests. Rate limited. Try after a while.\n",
      "Error fetching data for EROC: Too Many Requests. Rate limited. Try after a while.\n",
      "Error fetching data for ERS: Too Many Requests. Rate limited. Try after a while.\n",
      "Error fetching data for ERW: Too Many Requests. Rate limited. Try after a while.\n",
      "Error fetching data for ESBF: Too Many Requests. Rate limited. Try after a while.\n",
      "Error fetching data for ESBK: Too Many Requests. Rate limited. Try after a while.\n",
      "Error fetching data for ESCA: Too Many Requests. Rate limited. Try after a while.\n",
      "Error fetching data for ESEA: Too Many Requests. Rate limited. Try after a while.\n",
      "Error fetching data for ESGR: Too Many Requests. Rate limited. Try after a while.\n",
      "Error fetching data for ESIO: Too Many Requests. Rate limited. Try after a while.\n",
      "Error fetching data for ESLT: Too Many Requests. Rate limited. Try after a while.\n",
      "Error fetching data for ESMC: Too Many Requests. Rate limited. Try after a while.\n",
      "Error fetching data for ESPR: Too Many Requests. Rate limited. Try after a while.\n",
      "Error fetching data for ESRX: Too Many Requests. Rate limited. Try after a while.\n",
      "Error fetching data for ESSA: Too Many Requests. Rate limited. Try after a while.\n",
      "Error fetching data for ESSX: Too Many Requests. Rate limited. Try after a while.\n",
      "Error fetching data for ESXB: Too Many Requests. Rate limited. Try after a while.\n",
      "Error fetching data for ESYS: Too Many Requests. Rate limited. Try after a while.\n",
      "Error fetching data for ETFC: Too Many Requests. Rate limited. Try after a while.\n",
      "Error fetching data for ETRM: Too Many Requests. Rate limited. Try after a while.\n",
      "Error fetching data for EUFN: Too Many Requests. Rate limited. Try after a while.\n",
      "Error fetching data for EVAC: Too Many Requests. Rate limited. Try after a while.\n",
      "Error fetching data for EVAL: Too Many Requests. Rate limited. Try after a while.\n",
      "Error fetching data for EVBS: Too Many Requests. Rate limited. Try after a while.\n",
      "Error fetching data for EVEP: Too Many Requests. Rate limited. Try after a while.\n",
      "Error fetching data for EVOL: Too Many Requests. Rate limited. Try after a while.\n",
      "Error fetching data for EVRY: Too Many Requests. Rate limited. Try after a while.\n",
      "Error fetching data for EWBC: Too Many Requests. Rate limited. Try after a while.\n",
      "Error fetching data for EXA: Too Many Requests. Rate limited. Try after a while.\n",
      "Error fetching data for EXAC: Too Many Requests. Rate limited. Try after a while.\n",
      "Error fetching data for EXAS: Too Many Requests. Rate limited. Try after a while.\n",
      "Error fetching data for EXEL: Too Many Requests. Rate limited. Try after a while.\n",
      "Error fetching data for EXFO: Too Many Requests. Rate limited. Try after a while.\n",
      "Error fetching data for EXLP: Too Many Requests. Rate limited. Try after a while.\n",
      "Error fetching data for EXLS: Too Many Requests. Rate limited. Try after a while.\n",
      "Error fetching data for EXPD: Too Many Requests. Rate limited. Try after a while.\n",
      "Error fetching data for EXPE: Too Many Requests. Rate limited. Try after a while.\n",
      "Error fetching data for EXPO: Too Many Requests. Rate limited. Try after a while.\n",
      "Error fetching data for EXTR: Too Many Requests. Rate limited. Try after a while.\n",
      "Error fetching data for EXXI: Too Many Requests. Rate limited. Try after a while.\n",
      "Error fetching data for EZCH: Too Many Requests. Rate limited. Try after a while.\n",
      "Error fetching data for EZPW: Too Many Requests. Rate limited. Try after a while.\n",
      "Error fetching data for FALC: Too Many Requests. Rate limited. Try after a while.\n",
      "Error fetching data for FANG: Too Many Requests. Rate limited. Try after a while.\n",
      "Error fetching data for FARM: Too Many Requests. Rate limited. Try after a while.\n",
      "Error fetching data for FARO: Too Many Requests. Rate limited. Try after a while.\n",
      "Error fetching data for FAST: Too Many Requests. Rate limited. Try after a while.\n",
      "Error fetching data for FB: Too Many Requests. Rate limited. Try after a while.\n",
      "Error fetching data for FBIZ: Too Many Requests. Rate limited. Try after a while.\n",
      "Error fetching data for FBMI: Too Many Requests. Rate limited. Try after a while.\n",
      "Error fetching data for FBMS: Too Many Requests. Rate limited. Try after a while.\n",
      "Error fetching data for FBNC: Too Many Requests. Rate limited. Try after a while.\n",
      "Error fetching data for FBNK: Too Many Requests. Rate limited. Try after a while.\n",
      "Error fetching data for FBRC: Too Many Requests. Rate limited. Try after a while.\n",
      "Error fetching data for FBSS: Too Many Requests. Rate limited. Try after a while.\n",
      "Error fetching data for FCAP: Too Many Requests. Rate limited. Try after a while.\n",
      "Error fetching data for FCBC: Too Many Requests. Rate limited. Try after a while.\n",
      "Error fetching data for FCCO: Too Many Requests. Rate limited. Try after a while.\n",
      "Error fetching data for FCCY: Too Many Requests. Rate limited. Try after a while.\n",
      "Error fetching data for FCEL: Too Many Requests. Rate limited. Try after a while.\n"
     ]
    },
    {
     "name": "stderr",
     "output_type": "stream",
     "text": [
      "401 Client Error: Unauthorized for url: https://query2.finance.yahoo.com/v10/finance/quoteSummary/FCFS?modules=financialData%2CquoteType%2CdefaultKeyStatistics%2CassetProfile%2CsummaryDetail&corsDomain=finance.yahoo.com&formatted=false&symbol=FCFS&crumb=Edge%3A+Too+Many+Requests\n",
      "404 Client Error: Not Found for url: https://query2.finance.yahoo.com/v10/finance/quoteSummary/FCHI?modules=financialData%2CquoteType%2CdefaultKeyStatistics%2CassetProfile%2CsummaryDetail&corsDomain=finance.yahoo.com&formatted=false&symbol=FCHI&crumb=wMYLnRQb6Q9\n",
      "404 Client Error: Not Found for url: https://query2.finance.yahoo.com/v10/finance/quoteSummary/FREE?modules=financialData%2CquoteType%2CdefaultKeyStatistics%2CassetProfile%2CsummaryDetail&corsDomain=finance.yahoo.com&formatted=false&symbol=FREE&crumb=wMYLnRQb6Q9\n",
      "404 Client Error: Not Found for url: https://query2.finance.yahoo.com/v10/finance/quoteSummary/FRGI?modules=financialData%2CquoteType%2CdefaultKeyStatistics%2CassetProfile%2CsummaryDetail&corsDomain=finance.yahoo.com&formatted=false&symbol=FRGI&crumb=wMYLnRQb6Q9\n",
      "404 Client Error: Not Found for url: https://query2.finance.yahoo.com/v10/finance/quoteSummary/FULLL?modules=financialData%2CquoteType%2CdefaultKeyStatistics%2CassetProfile%2CsummaryDetail&corsDomain=finance.yahoo.com&formatted=false&symbol=FULLL&crumb=wMYLnRQb6Q9\n",
      "404 Client Error: Not Found for url: https://query2.finance.yahoo.com/v10/finance/quoteSummary/GALTU?modules=financialData%2CquoteType%2CdefaultKeyStatistics%2CassetProfile%2CsummaryDetail&corsDomain=finance.yahoo.com&formatted=false&symbol=GALTU&crumb=wMYLnRQb6Q9\n",
      "404 Client Error: Not Found for url: https://query2.finance.yahoo.com/v10/finance/quoteSummary/GALTW?modules=financialData%2CquoteType%2CdefaultKeyStatistics%2CassetProfile%2CsummaryDetail&corsDomain=finance.yahoo.com&formatted=false&symbol=GALTW&crumb=wMYLnRQb6Q9\n",
      "404 Client Error: Not Found for url: https://query2.finance.yahoo.com/v10/finance/quoteSummary/GIGA?modules=financialData%2CquoteType%2CdefaultKeyStatistics%2CassetProfile%2CsummaryDetail&corsDomain=finance.yahoo.com&formatted=false&symbol=GIGA&crumb=wMYLnRQb6Q9\n",
      "404 Client Error: Not Found for url: https://query2.finance.yahoo.com/v10/finance/quoteSummary/GLADP?modules=financialData%2CquoteType%2CdefaultKeyStatistics%2CassetProfile%2CsummaryDetail&corsDomain=finance.yahoo.com&formatted=false&symbol=GLADP&crumb=wMYLnRQb6Q9\n",
      "404 Client Error: Not Found for url: https://query2.finance.yahoo.com/v10/finance/quoteSummary/GMETP?modules=financialData%2CquoteType%2CdefaultKeyStatistics%2CassetProfile%2CsummaryDetail&corsDomain=finance.yahoo.com&formatted=false&symbol=GMETP&crumb=wMYLnRQb6Q9\n",
      "404 Client Error: Not Found for url: https://query2.finance.yahoo.com/v10/finance/quoteSummary/GRIF?modules=financialData%2CquoteType%2CdefaultKeyStatistics%2CassetProfile%2CsummaryDetail&corsDomain=finance.yahoo.com&formatted=false&symbol=GRIF&crumb=wMYLnRQb6Q9\n",
      "404 Client Error: Not Found for url: https://query2.finance.yahoo.com/v10/finance/quoteSummary/GTAT?modules=financialData%2CquoteType%2CdefaultKeyStatistics%2CassetProfile%2CsummaryDetail&corsDomain=finance.yahoo.com&formatted=false&symbol=GTAT&crumb=wMYLnRQb6Q9\n",
      "404 Client Error: Not Found for url: https://query2.finance.yahoo.com/v10/finance/quoteSummary/HA?modules=financialData%2CquoteType%2CdefaultKeyStatistics%2CassetProfile%2CsummaryDetail&corsDomain=finance.yahoo.com&formatted=false&symbol=HA&crumb=wMYLnRQb6Q9\n",
      "404 Client Error: Not Found for url: https://query2.finance.yahoo.com/v10/finance/quoteSummary/HAYN?modules=financialData%2CquoteType%2CdefaultKeyStatistics%2CassetProfile%2CsummaryDetail&corsDomain=finance.yahoo.com&formatted=false&symbol=HAYN&crumb=wMYLnRQb6Q9\n",
      "404 Client Error: Not Found for url: https://query2.finance.yahoo.com/v10/finance/quoteSummary/HCCI?modules=financialData%2CquoteType%2CdefaultKeyStatistics%2CassetProfile%2CsummaryDetail&corsDomain=finance.yahoo.com&formatted=false&symbol=HCCI&crumb=wMYLnRQb6Q9\n",
      "404 Client Error: Not Found for url: https://query2.finance.yahoo.com/v10/finance/quoteSummary/HIBB?modules=financialData%2CquoteType%2CdefaultKeyStatistics%2CassetProfile%2CsummaryDetail&corsDomain=finance.yahoo.com&formatted=false&symbol=HIBB&crumb=wMYLnRQb6Q9\n",
      "404 Client Error: Not Found for url: https://query2.finance.yahoo.com/v10/finance/quoteSummary/HMNF?modules=financialData%2CquoteType%2CdefaultKeyStatistics%2CassetProfile%2CsummaryDetail&corsDomain=finance.yahoo.com&formatted=false&symbol=HMNF&crumb=wMYLnRQb6Q9\n",
      "404 Client Error: Not Found for url: https://query2.finance.yahoo.com/v10/finance/quoteSummary/HOLI?modules=financialData%2CquoteType%2CdefaultKeyStatistics%2CassetProfile%2CsummaryDetail&corsDomain=finance.yahoo.com&formatted=false&symbol=HOLI&crumb=wMYLnRQb6Q9\n",
      "404 Client Error: Not Found for url: https://query2.finance.yahoo.com/v10/finance/quoteSummary/HOTRW?modules=financialData%2CquoteType%2CdefaultKeyStatistics%2CassetProfile%2CsummaryDetail&corsDomain=finance.yahoo.com&formatted=false&symbol=HOTRW&crumb=wMYLnRQb6Q9\n"
     ]
    },
    {
     "name": "stdout",
     "output_type": "stream",
     "text": [
      "Error fetching data for HTHT: Too Many Requests. Rate limited. Try after a while.\n",
      "Error fetching data for HTLD: Too Many Requests. Rate limited. Try after a while.\n",
      "Error fetching data for HTLF: Too Many Requests. Rate limited. Try after a while.\n",
      "Error fetching data for HTWO: Too Many Requests. Rate limited. Try after a while.\n",
      "Error fetching data for HTWR: Too Many Requests. Rate limited. Try after a while.\n",
      "Error fetching data for HUBG: Too Many Requests. Rate limited. Try after a while.\n",
      "Error fetching data for HURC: Too Many Requests. Rate limited. Try after a while.\n",
      "Error fetching data for HURN: Too Many Requests. Rate limited. Try after a while.\n",
      "Error fetching data for HWAY: Too Many Requests. Rate limited. Try after a while.\n",
      "Error fetching data for HWBK: Too Many Requests. Rate limited. Try after a while.\n",
      "Error fetching data for HWCC: Too Many Requests. Rate limited. Try after a while.\n",
      "Error fetching data for HWKN: Too Many Requests. Rate limited. Try after a while.\n",
      "Error fetching data for HYGS: Too Many Requests. Rate limited. Try after a while.\n",
      "Error fetching data for HYLS: Too Many Requests. Rate limited. Try after a while.\n",
      "Error fetching data for HZNP: Too Many Requests. Rate limited. Try after a while.\n",
      "Error fetching data for IACI: Too Many Requests. Rate limited. Try after a while.\n",
      "Error fetching data for IART: Too Many Requests. Rate limited. Try after a while.\n",
      "Error fetching data for IBB: Too Many Requests. Rate limited. Try after a while.\n",
      "Error fetching data for IBCA: Too Many Requests. Rate limited. Try after a while.\n",
      "Error fetching data for IBCP: Too Many Requests. Rate limited. Try after a while.\n",
      "Error fetching data for IBCPO: Too Many Requests. Rate limited. Try after a while.\n",
      "Error fetching data for IBKC: Too Many Requests. Rate limited. Try after a while.\n",
      "Error fetching data for IBKR: Too Many Requests. Rate limited. Try after a while.\n",
      "Error fetching data for IBOC: Too Many Requests. Rate limited. Try after a while.\n",
      "Error fetching data for IBTX: Too Many Requests. Rate limited. Try after a while.\n",
      "Error fetching data for ICAD: Too Many Requests. Rate limited. Try after a while.\n",
      "Error fetching data for ICCC: Too Many Requests. Rate limited. Try after a while.\n",
      "Error fetching data for ICEL: Too Many Requests. Rate limited. Try after a while.\n",
      "Error fetching data for ICFI: Too Many Requests. Rate limited. Try after a while.\n",
      "Error fetching data for ICGE: Too Many Requests. Rate limited. Try after a while.\n",
      "Error fetching data for ICLN: Too Many Requests. Rate limited. Try after a while.\n",
      "Error fetching data for ICLR: Too Many Requests. Rate limited. Try after a while.\n",
      "Error fetching data for ICON: Too Many Requests. Rate limited. Try after a while.\n",
      "Error fetching data for ICPT: Too Many Requests. Rate limited. Try after a while.\n",
      "Error fetching data for ICUI: Too Many Requests. Rate limited. Try after a while.\n",
      "Error fetching data for IDCC: Too Many Requests. Rate limited. Try after a while.\n",
      "Error fetching data for IDIX: Too Many Requests. Rate limited. Try after a while.\n",
      "Error fetching data for IDRA: Too Many Requests. Rate limited. Try after a while.\n",
      "Error fetching data for IDSA: Too Many Requests. Rate limited. Try after a while.\n",
      "Error fetching data for IDSY: Too Many Requests. Rate limited. Try after a while.\n",
      "Error fetching data for IDTI: Too Many Requests. Rate limited. Try after a while.\n",
      "Error fetching data for IDXX: Too Many Requests. Rate limited. Try after a while.\n",
      "Error fetching data for IEP: Too Many Requests. Rate limited. Try after a while.\n",
      "Error fetching data for IESC: Too Many Requests. Rate limited. Try after a while.\n",
      "Error fetching data for IFAS: Too Many Requests. Rate limited. Try after a while.\n",
      "Error fetching data for IFEU: Too Many Requests. Rate limited. Try after a while.\n",
      "Error fetching data for IFGL: Too Many Requests. Rate limited. Try after a while.\n",
      "Error fetching data for IFNA: Too Many Requests. Rate limited. Try after a while.\n",
      "Error fetching data for IFON: Too Many Requests. Rate limited. Try after a while.\n",
      "Error fetching data for IFSM: Too Many Requests. Rate limited. Try after a while.\n",
      "Error fetching data for IGLD: Too Many Requests. Rate limited. Try after a while.\n",
      "Error fetching data for IGOI: Too Many Requests. Rate limited. Try after a while.\n",
      "Error fetching data for IGOV: Too Many Requests. Rate limited. Try after a while.\n",
      "Error fetching data for IGTE: Too Many Requests. Rate limited. Try after a while.\n",
      "Error fetching data for III: Too Many Requests. Rate limited. Try after a while.\n",
      "Error fetching data for IIIN: Too Many Requests. Rate limited. Try after a while.\n",
      "Error fetching data for IIJI: Too Many Requests. Rate limited. Try after a while.\n",
      "Error fetching data for IILG: Too Many Requests. Rate limited. Try after a while.\n",
      "Error fetching data for IIN: Too Many Requests. Rate limited. Try after a while.\n",
      "Error fetching data for IIVI: Too Many Requests. Rate limited. Try after a while.\n",
      "Error fetching data for IKAN: Too Many Requests. Rate limited. Try after a while.\n",
      "Error fetching data for IKNX: Too Many Requests. Rate limited. Try after a while.\n",
      "Error fetching data for ILMN: Too Many Requests. Rate limited. Try after a while.\n",
      "Error fetching data for IMCB: Too Many Requests. Rate limited. Try after a while.\n",
      "Error fetching data for IMGN: Too Many Requests. Rate limited. Try after a while.\n",
      "Error fetching data for IMI: Too Many Requests. Rate limited. Try after a while.\n",
      "Error fetching data for IMKTA: Too Many Requests. Rate limited. Try after a while.\n",
      "Error fetching data for IMMR: Too Many Requests. Rate limited. Try after a while.\n",
      "Error fetching data for IMMU: Too Many Requests. Rate limited. Try after a while.\n",
      "Error fetching data for IMMY: Too Many Requests. Rate limited. Try after a while.\n",
      "Error fetching data for IMOS: Too Many Requests. Rate limited. Try after a while.\n",
      "Error fetching data for IMRS: Too Many Requests. Rate limited. Try after a while.\n",
      "Error fetching data for INAP: Too Many Requests. Rate limited. Try after a while.\n",
      "Error fetching data for INBK: Too Many Requests. Rate limited. Try after a while.\n",
      "Error fetching data for INCY: Too Many Requests. Rate limited. Try after a while.\n",
      "Error fetching data for INDB: Too Many Requests. Rate limited. Try after a while.\n",
      "Error fetching data for INDY: Too Many Requests. Rate limited. Try after a while.\n",
      "Error fetching data for INFA: Too Many Requests. Rate limited. Try after a while.\n",
      "Error fetching data for INFI: Too Many Requests. Rate limited. Try after a while.\n",
      "Error fetching data for INFN: Too Many Requests. Rate limited. Try after a while.\n",
      "Error fetching data for ININ: Too Many Requests. Rate limited. Try after a while.\n",
      "Error fetching data for INOC: Too Many Requests. Rate limited. Try after a while.\n",
      "Error fetching data for INOD: Too Many Requests. Rate limited. Try after a while.\n",
      "Error fetching data for INPH: Too Many Requests. Rate limited. Try after a while.\n",
      "Error fetching data for INSM: Too Many Requests. Rate limited. Try after a while.\n",
      "Error fetching data for INSY: Too Many Requests. Rate limited. Try after a while.\n",
      "Error fetching data for INTC: Too Many Requests. Rate limited. Try after a while.\n",
      "Error fetching data for INTG: Too Many Requests. Rate limited. Try after a while.\n",
      "Error fetching data for INTL: Too Many Requests. Rate limited. Try after a while.\n",
      "Error fetching data for INTLL: Too Many Requests. Rate limited. Try after a while.\n",
      "Error fetching data for INTT: Too Many Requests. Rate limited. Try after a while.\n",
      "Error fetching data for INTU: Too Many Requests. Rate limited. Try after a while.\n",
      "Error fetching data for INTX: Too Many Requests. Rate limited. Try after a while.\n",
      "Error fetching data for INVE: Too Many Requests. Rate limited. Try after a while.\n",
      "Error fetching data for INWK: Too Many Requests. Rate limited. Try after a while.\n",
      "Error fetching data for INXB: Too Many Requests. Rate limited. Try after a while.\n",
      "Error fetching data for INXBU: Too Many Requests. Rate limited. Try after a while.\n",
      "Error fetching data for INXBW: Too Many Requests. Rate limited. Try after a while.\n",
      "Error fetching data for IOSP: Too Many Requests. Rate limited. Try after a while.\n",
      "Error fetching data for IPAR: Too Many Requests. Rate limited. Try after a while.\n",
      "Error fetching data for IPAS: Too Many Requests. Rate limited. Try after a while.\n",
      "Error fetching data for IPCC: Too Many Requests. Rate limited. Try after a while.\n",
      "Error fetching data for IPCI: Too Many Requests. Rate limited. Try after a while.\n",
      "Error fetching data for IPCM: Too Many Requests. Rate limited. Try after a while.\n",
      "Error fetching data for IPDN: Too Many Requests. Rate limited. Try after a while.\n",
      "Error fetching data for IPGP: Too Many Requests. Rate limited. Try after a while.\n",
      "Error fetching data for IPHS: Too Many Requests. Rate limited. Try after a while.\n",
      "Error fetching data for IPXL: Too Many Requests. Rate limited. Try after a while.\n",
      "Error fetching data for IQNT: Too Many Requests. Rate limited. Try after a while.\n",
      "Error fetching data for IRBT: Too Many Requests. Rate limited. Try after a while.\n",
      "Error fetching data for IRDM: Too Many Requests. Rate limited. Try after a while.\n",
      "Error fetching data for IRDMZ: Too Many Requests. Rate limited. Try after a while.\n",
      "Error fetching data for IRG: Too Many Requests. Rate limited. Try after a while.\n",
      "Error fetching data for IRIX: Too Many Requests. Rate limited. Try after a while.\n",
      "Error fetching data for IROQ: Too Many Requests. Rate limited. Try after a while.\n",
      "Error fetching data for IRWD: Too Many Requests. Rate limited. Try after a while.\n",
      "Error fetching data for ISBC: Too Many Requests. Rate limited. Try after a while.\n",
      "Error fetching data for ISCA: Too Many Requests. Rate limited. Try after a while.\n",
      "Error fetching data for ISHG: Too Many Requests. Rate limited. Try after a while.\n",
      "Error fetching data for ISIG: Too Many Requests. Rate limited. Try after a while.\n",
      "Error fetching data for ISIL: Too Many Requests. Rate limited. Try after a while.\n",
      "Error fetching data for ISIS: Too Many Requests. Rate limited. Try after a while.\n",
      "Error fetching data for ISLE: Too Many Requests. Rate limited. Try after a while.\n",
      "Error fetching data for ISM: Too Many Requests. Rate limited. Try after a while.\n",
      "Error fetching data for ISNS: Too Many Requests. Rate limited. Try after a while.\n",
      "Error fetching data for ISRG: Too Many Requests. Rate limited. Try after a while.\n",
      "Error fetching data for ISRL: Too Many Requests. Rate limited. Try after a while.\n",
      "Error fetching data for ISSC: Too Many Requests. Rate limited. Try after a while.\n",
      "Error fetching data for ISSI: Too Many Requests. Rate limited. Try after a while.\n",
      "Error fetching data for ITIC: Too Many Requests. Rate limited. Try after a while.\n",
      "Error fetching data for ITMN: Too Many Requests. Rate limited. Try after a while.\n",
      "Error fetching data for ITRI: Too Many Requests. Rate limited. Try after a while.\n",
      "Error fetching data for ITRN: Too Many Requests. Rate limited. Try after a while.\n",
      "Error fetching data for IVAC: Too Many Requests. Rate limited. Try after a while.\n",
      "Error fetching data for IVAN: Too Many Requests. Rate limited. Try after a while.\n",
      "Error fetching data for IXYS: Too Many Requests. Rate limited. Try after a while.\n",
      "Error fetching data for JACK: Too Many Requests. Rate limited. Try after a while.\n",
      "Error fetching data for JACQ: Too Many Requests. Rate limited. Try after a while.\n",
      "Error fetching data for JACQU: Too Many Requests. Rate limited. Try after a while.\n",
      "Error fetching data for JACQW: Too Many Requests. Rate limited. Try after a while.\n",
      "Error fetching data for JADE: Too Many Requests. Rate limited. Try after a while.\n",
      "Error fetching data for JAKK: Too Many Requests. Rate limited. Try after a while.\n",
      "Error fetching data for JASO: Too Many Requests. Rate limited. Try after a while.\n",
      "Error fetching data for JAXB: Too Many Requests. Rate limited. Try after a while.\n",
      "Error fetching data for JAZZ: Too Many Requests. Rate limited. Try after a while.\n",
      "Error fetching data for JBHT: Too Many Requests. Rate limited. Try after a while.\n",
      "Error fetching data for JBLU: Too Many Requests. Rate limited. Try after a while.\n",
      "Error fetching data for JBSS: Too Many Requests. Rate limited. Try after a while.\n",
      "Error fetching data for JCOM: Too Many Requests. Rate limited. Try after a while.\n",
      "Error fetching data for JCS: Too Many Requests. Rate limited. Try after a while.\n",
      "Error fetching data for JCTCF: Too Many Requests. Rate limited. Try after a while.\n",
      "Error fetching data for JDSU: Too Many Requests. Rate limited. Try after a while.\n",
      "Error fetching data for JFBI: Too Many Requests. Rate limited. Try after a while.\n",
      "Error fetching data for JIVE: Too Many Requests. Rate limited. Try after a while.\n",
      "Error fetching data for JJSF: Too Many Requests. Rate limited. Try after a while.\n",
      "Error fetching data for JKHY: Too Many Requests. Rate limited. Try after a while.\n",
      "Error fetching data for JMBA: Too Many Requests. Rate limited. Try after a while.\n",
      "Error fetching data for JOBS: Too Many Requests. Rate limited. Try after a while.\n",
      "Error fetching data for JOEZ: Too Many Requests. Rate limited. Try after a while.\n",
      "Error fetching data for JOSB: Too Many Requests. Rate limited. Try after a while.\n",
      "Error fetching data for JOUT: Too Many Requests. Rate limited. Try after a while.\n",
      "Error fetching data for JRCC: Too Many Requests. Rate limited. Try after a while.\n",
      "Error fetching data for JRJC: Too Many Requests. Rate limited. Try after a while.\n",
      "Error fetching data for JSM: Too Many Requests. Rate limited. Try after a while.\n",
      "Error fetching data for JST: Too Many Requests. Rate limited. Try after a while.\n",
      "Error fetching data for JTPY: Too Many Requests. Rate limited. Try after a while.\n",
      "Error fetching data for JVA: Too Many Requests. Rate limited. Try after a while.\n",
      "Error fetching data for JXSB: Too Many Requests. Rate limited. Try after a while.\n",
      "Error fetching data for KALU: Too Many Requests. Rate limited. Try after a while.\n",
      "Error fetching data for KBALB: Too Many Requests. Rate limited. Try after a while.\n",
      "Error fetching data for KBIO: Too Many Requests. Rate limited. Try after a while.\n",
      "Error fetching data for KCAP: Too Many Requests. Rate limited. Try after a while.\n",
      "Error fetching data for KCLI: Too Many Requests. Rate limited. Try after a while.\n",
      "Error fetching data for KELYA: Too Many Requests. Rate limited. Try after a while.\n",
      "Error fetching data for KELYB: Too Many Requests. Rate limited. Try after a while.\n",
      "Error fetching data for KEQU: Too Many Requests. Rate limited. Try after a while.\n",
      "Error fetching data for KERX: Too Many Requests. Rate limited. Try after a while.\n",
      "Error fetching data for KEYN: Too Many Requests. Rate limited. Try after a while.\n",
      "Error fetching data for KEYW: Too Many Requests. Rate limited. Try after a while.\n",
      "Error fetching data for KFFB: Too Many Requests. Rate limited. Try after a while.\n",
      "Error fetching data for KFRC: Too Many Requests. Rate limited. Try after a while.\n",
      "Error fetching data for KGJI: Too Many Requests. Rate limited. Try after a while.\n",
      "Error fetching data for KINS: Too Many Requests. Rate limited. Try after a while.\n"
     ]
    },
    {
     "name": "stderr",
     "output_type": "stream",
     "text": [
      "401 Client Error: Unauthorized for url: https://query2.finance.yahoo.com/v10/finance/quoteSummary/KIOR?modules=financialData%2CquoteType%2CdefaultKeyStatistics%2CassetProfile%2CsummaryDetail&corsDomain=finance.yahoo.com&formatted=false&symbol=KIOR&crumb=Edge%3A+Too+Many+Requests\n",
      "404 Client Error: Not Found for url: https://query2.finance.yahoo.com/v10/finance/quoteSummary/LIFE?modules=financialData%2CquoteType%2CdefaultKeyStatistics%2CassetProfile%2CsummaryDetail&corsDomain=finance.yahoo.com&formatted=false&symbol=LIFE&crumb=wMYLnRQb6Q9\n",
      "404 Client Error: Not Found for url: https://query2.finance.yahoo.com/v10/finance/quoteSummary/LSI?modules=financialData%2CquoteType%2CdefaultKeyStatistics%2CassetProfile%2CsummaryDetail&corsDomain=finance.yahoo.com&formatted=false&symbol=LSI&crumb=wMYLnRQb6Q9\n",
      "404 Client Error: Not Found for url: https://query2.finance.yahoo.com/v10/finance/quoteSummary/MCBC?modules=financialData%2CquoteType%2CdefaultKeyStatistics%2CassetProfile%2CsummaryDetail&corsDomain=finance.yahoo.com&formatted=false&symbol=MCBC&crumb=wMYLnRQb6Q9\n",
      "404 Client Error: Not Found for url: https://query2.finance.yahoo.com/v10/finance/quoteSummary/MEILZ?modules=financialData%2CquoteType%2CdefaultKeyStatistics%2CassetProfile%2CsummaryDetail&corsDomain=finance.yahoo.com&formatted=false&symbol=MEILZ&crumb=wMYLnRQb6Q9\n",
      "404 Client Error: Not Found for url: https://query2.finance.yahoo.com/v10/finance/quoteSummary/MICTW?modules=financialData%2CquoteType%2CdefaultKeyStatistics%2CassetProfile%2CsummaryDetail&corsDomain=finance.yahoo.com&formatted=false&symbol=MICTW&crumb=wMYLnRQb6Q9\n",
      "404 Client Error: Not Found for url: https://query2.finance.yahoo.com/v10/finance/quoteSummary/MLVF?modules=financialData%2CquoteType%2CdefaultKeyStatistics%2CassetProfile%2CsummaryDetail&corsDomain=finance.yahoo.com&formatted=false&symbol=MLVF&crumb=wMYLnRQb6Q9\n"
     ]
    },
    {
     "name": "stdout",
     "output_type": "stream",
     "text": [
      "Error fetching data for MPAA: Too Many Requests. Rate limited. Try after a while.\n",
      "Error fetching data for MPAC: Too Many Requests. Rate limited. Try after a while.\n",
      "Error fetching data for MPB: Too Many Requests. Rate limited. Try after a while.\n",
      "Error fetching data for MPEL: Too Many Requests. Rate limited. Try after a while.\n",
      "Error fetching data for MPET: Too Many Requests. Rate limited. Try after a while.\n",
      "Error fetching data for MPWR: Too Many Requests. Rate limited. Try after a while.\n",
      "Error fetching data for MRCC: Too Many Requests. Rate limited. Try after a while.\n",
      "Error fetching data for MRCY: Too Many Requests. Rate limited. Try after a while.\n",
      "Error fetching data for MRGE: Too Many Requests. Rate limited. Try after a while.\n",
      "Error fetching data for MRLN: Too Many Requests. Rate limited. Try after a while.\n",
      "Error fetching data for MRTN: Too Many Requests. Rate limited. Try after a while.\n",
      "Error fetching data for MRTX: Too Many Requests. Rate limited. Try after a while.\n",
      "Error fetching data for MRVL: Too Many Requests. Rate limited. Try after a while.\n",
      "Error fetching data for MSBF: Too Many Requests. Rate limited. Try after a while.\n",
      "Error fetching data for MSCC: Too Many Requests. Rate limited. Try after a while.\n",
      "Error fetching data for MSEX: Too Many Requests. Rate limited. Try after a while.\n",
      "Error fetching data for MSFG: Too Many Requests. Rate limited. Try after a while.\n",
      "Error fetching data for MSFT: Too Many Requests. Rate limited. Try after a while.\n",
      "Error fetching data for MSG: Too Many Requests. Rate limited. Try after a while.\n",
      "Error fetching data for MSLI: Too Many Requests. Rate limited. Try after a while.\n",
      "Error fetching data for MSON: Too Many Requests. Rate limited. Try after a while.\n",
      "Error fetching data for MSPD: Too Many Requests. Rate limited. Try after a while.\n",
      "Error fetching data for MSTR: Too Many Requests. Rate limited. Try after a while.\n",
      "Error fetching data for MTEX: Too Many Requests. Rate limited. Try after a while.\n",
      "Error fetching data for MTGE: Too Many Requests. Rate limited. Try after a while.\n",
      "Error fetching data for MTRX: Too Many Requests. Rate limited. Try after a while.\n",
      "Error fetching data for MTSC: Too Many Requests. Rate limited. Try after a while.\n",
      "Error fetching data for MTSI: Too Many Requests. Rate limited. Try after a while.\n",
      "Error fetching data for MTSL: Too Many Requests. Rate limited. Try after a while.\n",
      "Error fetching data for MTSN: Too Many Requests. Rate limited. Try after a while.\n",
      "Error fetching data for MU: Too Many Requests. Rate limited. Try after a while.\n",
      "Error fetching data for MVIS: Too Many Requests. Rate limited. Try after a while.\n",
      "Error fetching data for MWIV: Too Many Requests. Rate limited. Try after a while.\n",
      "Error fetching data for MWRX: Too Many Requests. Rate limited. Try after a while.\n",
      "Error fetching data for MXIM: Too Many Requests. Rate limited. Try after a while.\n",
      "Error fetching data for MXWL: Too Many Requests. Rate limited. Try after a while.\n",
      "Error fetching data for MYGN: Too Many Requests. Rate limited. Try after a while.\n",
      "Error fetching data for MYL: Too Many Requests. Rate limited. Try after a while.\n",
      "Error fetching data for MYRG: Too Many Requests. Rate limited. Try after a while.\n",
      "Error fetching data for MZOR: Too Many Requests. Rate limited. Try after a while.\n",
      "Error fetching data for NAFC: Too Many Requests. Rate limited. Try after a while.\n",
      "Error fetching data for NAII: Too Many Requests. Rate limited. Try after a while.\n",
      "Error fetching data for NANO: Too Many Requests. Rate limited. Try after a while.\n",
      "Error fetching data for NASB: Too Many Requests. Rate limited. Try after a while.\n",
      "Error fetching data for NATH: Too Many Requests. Rate limited. Try after a while.\n",
      "Error fetching data for NATI: Too Many Requests. Rate limited. Try after a while.\n",
      "Error fetching data for NATL: Too Many Requests. Rate limited. Try after a while.\n",
      "Error fetching data for NATR: Too Many Requests. Rate limited. Try after a while.\n",
      "Error fetching data for NAUH: Too Many Requests. Rate limited. Try after a while.\n",
      "Error fetching data for NAVG: Too Many Requests. Rate limited. Try after a while.\n",
      "Error fetching data for NAVR: Too Many Requests. Rate limited. Try after a while.\n",
      "Error fetching data for NBBC: Too Many Requests. Rate limited. Try after a while.\n",
      "Error fetching data for NBCB: Too Many Requests. Rate limited. Try after a while.\n",
      "Error fetching data for NBIX: Too Many Requests. Rate limited. Try after a while.\n",
      "Error fetching data for NBN: Too Many Requests. Rate limited. Try after a while.\n",
      "Error fetching data for NBS: Too Many Requests. Rate limited. Try after a while.\n",
      "Error fetching data for NBTB: Too Many Requests. Rate limited. Try after a while.\n",
      "Error fetching data for NBTF: Too Many Requests. Rate limited. Try after a while.\n",
      "Error fetching data for NCBC: Too Many Requests. Rate limited. Try after a while.\n",
      "Error fetching data for NCIT: Too Many Requests. Rate limited. Try after a while.\n",
      "Error fetching data for NCLH: Too Many Requests. Rate limited. Try after a while.\n",
      "Error fetching data for NCMI: Too Many Requests. Rate limited. Try after a while.\n",
      "Error fetching data for NCTY: Too Many Requests. Rate limited. Try after a while.\n",
      "Error fetching data for NDAQ: Too Many Requests. Rate limited. Try after a while.\n",
      "Error fetching data for NDLS: Too Many Requests. Rate limited. Try after a while.\n",
      "Error fetching data for NDSN: Too Many Requests. Rate limited. Try after a while.\n",
      "Error fetching data for NECB: Too Many Requests. Rate limited. Try after a while.\n",
      "Error fetching data for NEO: Too Many Requests. Rate limited. Try after a while.\n",
      "Error fetching data for NEOG: Too Many Requests. Rate limited. Try after a while.\n",
      "Error fetching data for NEON: Too Many Requests. Rate limited. Try after a while.\n",
      "Error fetching data for NEPT: Too Many Requests. Rate limited. Try after a while.\n",
      "Error fetching data for NETC: Too Many Requests. Rate limited. Try after a while.\n",
      "Error fetching data for NETE: Too Many Requests. Rate limited. Try after a while.\n",
      "Error fetching data for NEWL: Too Many Requests. Rate limited. Try after a while.\n",
      "Error fetching data for NEWP: Too Many Requests. Rate limited. Try after a while.\n",
      "Error fetching data for NEWS: Too Many Requests. Rate limited. Try after a while.\n",
      "Error fetching data for NEWT: Too Many Requests. Rate limited. Try after a while.\n",
      "Error fetching data for NFBK: Too Many Requests. Rate limited. Try after a while.\n",
      "Error fetching data for NFEC: Too Many Requests. Rate limited. Try after a while.\n",
      "Error fetching data for NFLX: Too Many Requests. Rate limited. Try after a while.\n",
      "Error fetching data for NFSB: Too Many Requests. Rate limited. Try after a while.\n",
      "Error fetching data for NGPC: Too Many Requests. Rate limited. Try after a while.\n",
      "Error fetching data for NHTB: Too Many Requests. Rate limited. Try after a while.\n",
      "Error fetching data for NICE: Too Many Requests. Rate limited. Try after a while.\n",
      "Error fetching data for NICK: Too Many Requests. Rate limited. Try after a while.\n",
      "Error fetching data for NIHD: Too Many Requests. Rate limited. Try after a while.\n",
      "Error fetching data for NILE: Too Many Requests. Rate limited. Try after a while.\n",
      "Error fetching data for NINE: Too Many Requests. Rate limited. Try after a while.\n",
      "Error fetching data for NKSH: Too Many Requests. Rate limited. Try after a while.\n",
      "Error fetching data for NKTR: Too Many Requests. Rate limited. Try after a while.\n",
      "Error fetching data for NLNK: Too Many Requests. Rate limited. Try after a while.\n",
      "Error fetching data for NLST: Too Many Requests. Rate limited. Try after a while.\n",
      "Error fetching data for NMRX: Too Many Requests. Rate limited. Try after a while.\n",
      "Error fetching data for NNBR: Too Many Requests. Rate limited. Try after a while.\n",
      "Error fetching data for NOVB: Too Many Requests. Rate limited. Try after a while.\n",
      "Error fetching data for NPBC: Too Many Requests. Rate limited. Try after a while.\n",
      "Error fetching data for NPSP: Too Many Requests. Rate limited. Try after a while.\n",
      "Error fetching data for NRCIA: Too Many Requests. Rate limited. Try after a while.\n",
      "Error fetching data for NRCIB: Too Many Requests. Rate limited. Try after a while.\n",
      "Error fetching data for NRIM: Too Many Requests. Rate limited. Try after a while.\n",
      "Error fetching data for NSEC: Too Many Requests. Rate limited. Try after a while.\n",
      "Error fetching data for NSIT: Too Many Requests. Rate limited. Try after a while.\n",
      "Error fetching data for NSPH: Too Many Requests. Rate limited. Try after a while.\n",
      "Error fetching data for NSSC: Too Many Requests. Rate limited. Try after a while.\n",
      "Error fetching data for NSTG: Too Many Requests. Rate limited. Try after a while.\n",
      "Error fetching data for NSYS: Too Many Requests. Rate limited. Try after a while.\n",
      "Error fetching data for NTAP: Too Many Requests. Rate limited. Try after a while.\n",
      "Error fetching data for NTCT: Too Many Requests. Rate limited. Try after a while.\n",
      "Error fetching data for NTES: Too Many Requests. Rate limited. Try after a while.\n",
      "Error fetching data for NTGR: Too Many Requests. Rate limited. Try after a while.\n",
      "Error fetching data for NTIC: Too Many Requests. Rate limited. Try after a while.\n",
      "Error fetching data for NTK: Too Many Requests. Rate limited. Try after a while.\n",
      "Error fetching data for NTLS: Too Many Requests. Rate limited. Try after a while.\n",
      "Error fetching data for NTRI: Too Many Requests. Rate limited. Try after a while.\n",
      "Error fetching data for NTRS: Too Many Requests. Rate limited. Try after a while.\n",
      "Error fetching data for NTSC: Too Many Requests. Rate limited. Try after a while.\n",
      "Error fetching data for NTWK: Too Many Requests. Rate limited. Try after a while.\n",
      "Error fetching data for NUAN: Too Many Requests. Rate limited. Try after a while.\n",
      "Error fetching data for NUCL: Too Many Requests. Rate limited. Try after a while.\n",
      "Error fetching data for NURO: Too Many Requests. Rate limited. Try after a while.\n",
      "Error fetching data for NUTR: Too Many Requests. Rate limited. Try after a while.\n",
      "Error fetching data for NUVA: Too Many Requests. Rate limited. Try after a while.\n",
      "Error fetching data for NVAX: Too Many Requests. Rate limited. Try after a while.\n",
      "Error fetching data for NVDA: Too Many Requests. Rate limited. Try after a while.\n",
      "Error fetching data for NVDQ: Too Many Requests. Rate limited. Try after a while.\n",
      "Error fetching data for NVEC: Too Many Requests. Rate limited. Try after a while.\n",
      "Error fetching data for NVEEU: Too Many Requests. Rate limited. Try after a while.\n",
      "Error fetching data for NVGN: Too Many Requests. Rate limited. Try after a while.\n",
      "Error fetching data for NVMI: Too Many Requests. Rate limited. Try after a while.\n",
      "Error fetching data for NVSL: Too Many Requests. Rate limited. Try after a while.\n",
      "Error fetching data for NVTL: Too Many Requests. Rate limited. Try after a while.\n",
      "Error fetching data for NWBI: Too Many Requests. Rate limited. Try after a while.\n",
      "Error fetching data for NWBO: Too Many Requests. Rate limited. Try after a while.\n",
      "Error fetching data for NWBOW: Too Many Requests. Rate limited. Try after a while.\n",
      "Error fetching data for NWFL: Too Many Requests. Rate limited. Try after a while.\n",
      "Error fetching data for NWLI: Too Many Requests. Rate limited. Try after a while.\n",
      "Error fetching data for NWPX: Too Many Requests. Rate limited. Try after a while.\n",
      "Error fetching data for NWS: Too Many Requests. Rate limited. Try after a while.\n",
      "Error fetching data for NWSA: Too Many Requests. Rate limited. Try after a while.\n",
      "Error fetching data for NXPI: Too Many Requests. Rate limited. Try after a while.\n",
      "Error fetching data for NXST: Too Many Requests. Rate limited. Try after a while.\n",
      "Error fetching data for NXTM: Too Many Requests. Rate limited. Try after a while.\n",
      "Error fetching data for NYMT: Too Many Requests. Rate limited. Try after a while.\n",
      "Error fetching data for NYMTP: Too Many Requests. Rate limited. Try after a while.\n",
      "Error fetching data for NYMX: Too Many Requests. Rate limited. Try after a while.\n",
      "Error fetching data for NYNY: Too Many Requests. Rate limited. Try after a while.\n",
      "Error fetching data for OABC: Too Many Requests. Rate limited. Try after a while.\n",
      "Error fetching data for OBAF: Too Many Requests. Rate limited. Try after a while.\n",
      "Error fetching data for OBAS: Too Many Requests. Rate limited. Try after a while.\n",
      "Error fetching data for OBCI: Too Many Requests. Rate limited. Try after a while.\n",
      "Error fetching data for OCC: Too Many Requests. Rate limited. Try after a while.\n",
      "Error fetching data for OCFC: Too Many Requests. Rate limited. Try after a while.\n",
      "Error fetching data for OCLR: Too Many Requests. Rate limited. Try after a while.\n",
      "Error fetching data for OCLS: Too Many Requests. Rate limited. Try after a while.\n",
      "Error fetching data for OCRX: Too Many Requests. Rate limited. Try after a while.\n",
      "Error fetching data for OCZ: Too Many Requests. Rate limited. Try after a while.\n",
      "Error fetching data for ODFL: Too Many Requests. Rate limited. Try after a while.\n",
      "Error fetching data for OFED: Too Many Requests. Rate limited. Try after a while.\n",
      "Error fetching data for OFIX: Too Many Requests. Rate limited. Try after a while.\n",
      "Error fetching data for OFLX: Too Many Requests. Rate limited. Try after a while.\n",
      "Error fetching data for OFS: Too Many Requests. Rate limited. Try after a while.\n",
      "Error fetching data for OGXI: Too Many Requests. Rate limited. Try after a while.\n",
      "Error fetching data for OHRP: Too Many Requests. Rate limited. Try after a while.\n",
      "Error fetching data for OIIM: Too Many Requests. Rate limited. Try after a while.\n",
      "Error fetching data for OINK: Too Many Requests. Rate limited. Try after a while.\n",
      "Error fetching data for OKSB: Too Many Requests. Rate limited. Try after a while.\n",
      "Error fetching data for OKSBP: Too Many Requests. Rate limited. Try after a while.\n",
      "Error fetching data for OLBK: Too Many Requests. Rate limited. Try after a while.\n",
      "Error fetching data for OLED: Too Many Requests. Rate limited. Try after a while.\n",
      "Error fetching data for OMAB: Too Many Requests. Rate limited. Try after a while.\n",
      "Error fetching data for OMCL: Too Many Requests. Rate limited. Try after a while.\n",
      "Error fetching data for OMED: Too Many Requests. Rate limited. Try after a while.\n",
      "Error fetching data for OMER: Too Many Requests. Rate limited. Try after a while.\n",
      "Error fetching data for OMEX: Too Many Requests. Rate limited. Try after a while.\n",
      "Error fetching data for ONB: Too Many Requests. Rate limited. Try after a while.\n",
      "Error fetching data for ONCY: Too Many Requests. Rate limited. Try after a while.\n",
      "Error fetching data for ONEQ: Too Many Requests. Rate limited. Try after a while.\n",
      "Error fetching data for ONFC: Too Many Requests. Rate limited. Try after a while.\n",
      "Error fetching data for ONNN: Too Many Requests. Rate limited. Try after a while.\n",
      "Error fetching data for ONTX: Too Many Requests. Rate limited. Try after a while.\n",
      "Error fetching data for ONTY: Too Many Requests. Rate limited. Try after a while.\n",
      "Error fetching data for ONVI: Too Many Requests. Rate limited. Try after a while.\n",
      "Error fetching data for ONXX: Too Many Requests. Rate limited. Try after a while.\n",
      "Error fetching data for OPAY: Too Many Requests. Rate limited. Try after a while.\n",
      "Error fetching data for OPEN: Too Many Requests. Rate limited. Try after a while.\n",
      "Error fetching data for OPHC: Too Many Requests. Rate limited. Try after a while.\n",
      "Error fetching data for OPLK: Too Many Requests. Rate limited. Try after a while.\n",
      "Error fetching data for OPOF: Too Many Requests. Rate limited. Try after a while.\n",
      "Error fetching data for OPTR: Too Many Requests. Rate limited. Try after a while.\n",
      "Error fetching data for OPTT: Too Many Requests. Rate limited. Try after a while.\n",
      "Error fetching data for OPXA: Too Many Requests. Rate limited. Try after a while.\n",
      "Error fetching data for ORBC: Too Many Requests. Rate limited. Try after a while.\n"
     ]
    },
    {
     "name": "stderr",
     "output_type": "stream",
     "text": [
      "401 Client Error: Unauthorized for url: https://query2.finance.yahoo.com/v10/finance/quoteSummary/ORBK?modules=financialData%2CquoteType%2CdefaultKeyStatistics%2CassetProfile%2CsummaryDetail&corsDomain=finance.yahoo.com&formatted=false&symbol=ORBK&crumb=Edge%3A+Too+Many+Requests\n",
      "404 Client Error: Not Found for url: https://query2.finance.yahoo.com/v10/finance/quoteSummary/PACW?modules=financialData%2CquoteType%2CdefaultKeyStatistics%2CassetProfile%2CsummaryDetail&corsDomain=finance.yahoo.com&formatted=false&symbol=PACW&crumb=wMYLnRQb6Q9\n",
      "404 Client Error: Not Found for url: https://query2.finance.yahoo.com/v10/finance/quoteSummary/PCTI?modules=financialData%2CquoteType%2CdefaultKeyStatistics%2CassetProfile%2CsummaryDetail&corsDomain=finance.yahoo.com&formatted=false&symbol=PCTI&crumb=wMYLnRQb6Q9\n",
      "404 Client Error: Not Found for url: https://query2.finance.yahoo.com/v10/finance/quoteSummary/PFIN?modules=financialData%2CquoteType%2CdefaultKeyStatistics%2CassetProfile%2CsummaryDetail&corsDomain=finance.yahoo.com&formatted=false&symbol=PFIN&crumb=wMYLnRQb6Q9\n",
      "404 Client Error: Not Found for url: https://query2.finance.yahoo.com/v10/finance/quoteSummary/PFSW?modules=financialData%2CquoteType%2CdefaultKeyStatistics%2CassetProfile%2CsummaryDetail&corsDomain=finance.yahoo.com&formatted=false&symbol=PFSW&crumb=wMYLnRQb6Q9\n",
      "404 Client Error: Not Found for url: https://query2.finance.yahoo.com/v10/finance/quoteSummary/PGTI?modules=financialData%2CquoteType%2CdefaultKeyStatistics%2CassetProfile%2CsummaryDetail&corsDomain=finance.yahoo.com&formatted=false&symbol=PGTI&crumb=wMYLnRQb6Q9\n",
      "404 Client Error: Not Found for url: https://query2.finance.yahoo.com/v10/finance/quoteSummary/PRFT?modules=financialData%2CquoteType%2CdefaultKeyStatistics%2CassetProfile%2CsummaryDetail&corsDomain=finance.yahoo.com&formatted=false&symbol=PRFT&crumb=wMYLnRQb6Q9\n",
      "404 Client Error: Not Found for url: https://query2.finance.yahoo.com/v10/finance/quoteSummary/PRMW?modules=financialData%2CquoteType%2CdefaultKeyStatistics%2CassetProfile%2CsummaryDetail&corsDomain=finance.yahoo.com&formatted=false&symbol=PRMW&crumb=wMYLnRQb6Q9\n",
      "404 Client Error: Not Found for url: https://query2.finance.yahoo.com/v10/finance/quoteSummary/PTSI?modules=financialData%2CquoteType%2CdefaultKeyStatistics%2CassetProfile%2CsummaryDetail&corsDomain=finance.yahoo.com&formatted=false&symbol=PTSI&crumb=wMYLnRQb6Q9\n",
      "404 Client Error: Not Found for url: https://query2.finance.yahoo.com/v10/finance/quoteSummary/QPACU?modules=financialData%2CquoteType%2CdefaultKeyStatistics%2CassetProfile%2CsummaryDetail&corsDomain=finance.yahoo.com&formatted=false&symbol=QPACU&crumb=wMYLnRQb6Q9\n"
     ]
    },
    {
     "name": "stdout",
     "output_type": "stream",
     "text": [
      "Error fetching data for RCKB: Too Many Requests. Rate limited. Try after a while.\n",
      "Error fetching data for RCKY: Too Many Requests. Rate limited. Try after a while.\n",
      "Error fetching data for RCMT: Too Many Requests. Rate limited. Try after a while.\n",
      "Error fetching data for RCON: Too Many Requests. Rate limited. Try after a while.\n",
      "Error fetching data for RCPT: Too Many Requests. Rate limited. Try after a while.\n",
      "Error fetching data for RDA: Too Many Requests. Rate limited. Try after a while.\n",
      "Error fetching data for RDCM: Too Many Requests. Rate limited. Try after a while.\n",
      "Error fetching data for RDEN: Too Many Requests. Rate limited. Try after a while.\n",
      "Error fetching data for RDHL: Too Many Requests. Rate limited. Try after a while.\n",
      "Error fetching data for RDI: Too Many Requests. Rate limited. Try after a while.\n",
      "Error fetching data for RDIB: Too Many Requests. Rate limited. Try after a while.\n",
      "Error fetching data for RDNT: Too Many Requests. Rate limited. Try after a while.\n",
      "Error fetching data for RDWR: Too Many Requests. Rate limited. Try after a while.\n",
      "Error fetching data for RECN: Too Many Requests. Rate limited. Try after a while.\n",
      "Error fetching data for RECV: Too Many Requests. Rate limited. Try after a while.\n",
      "Error fetching data for REDF: Too Many Requests. Rate limited. Try after a while.\n",
      "Error fetching data for REFR: Too Many Requests. Rate limited. Try after a while.\n",
      "Error fetching data for REGI: Too Many Requests. Rate limited. Try after a while.\n",
      "Error fetching data for REGN: Too Many Requests. Rate limited. Try after a while.\n",
      "Error fetching data for REIS: Too Many Requests. Rate limited. Try after a while.\n",
      "Error fetching data for RELL: Too Many Requests. Rate limited. Try after a while.\n",
      "Error fetching data for RELV: Too Many Requests. Rate limited. Try after a while.\n",
      "Error fetching data for REMY: Too Many Requests. Rate limited. Try after a while.\n",
      "Error fetching data for RENT: Too Many Requests. Rate limited. Try after a while.\n",
      "Error fetching data for REXI: Too Many Requests. Rate limited. Try after a while.\n",
      "Error fetching data for REXX: Too Many Requests. Rate limited. Try after a while.\n",
      "Error fetching data for RFIL: Too Many Requests. Rate limited. Try after a while.\n",
      "Error fetching data for RFMD: Too Many Requests. Rate limited. Try after a while.\n",
      "Error fetching data for RGCO: Too Many Requests. Rate limited. Try after a while.\n",
      "Error fetching data for RGDO: Too Many Requests. Rate limited. Try after a while.\n",
      "Error fetching data for RGDX: Too Many Requests. Rate limited. Try after a while.\n",
      "Error fetching data for RGEN: Too Many Requests. Rate limited. Try after a while.\n",
      "Error fetching data for RGLD: Too Many Requests. Rate limited. Try after a while.\n",
      "Error fetching data for RGLS: Too Many Requests. Rate limited. Try after a while.\n",
      "Error fetching data for RICK: Too Many Requests. Rate limited. Try after a while.\n",
      "Error fetching data for RIGL: Too Many Requests. Rate limited. Try after a while.\n",
      "Error fetching data for RIMG: Too Many Requests. Rate limited. Try after a while.\n",
      "Error fetching data for RITT: Too Many Requests. Rate limited. Try after a while.\n",
      "Error fetching data for RIVR: Too Many Requests. Rate limited. Try after a while.\n",
      "Error fetching data for RJET: Too Many Requests. Rate limited. Try after a while.\n",
      "Error fetching data for RLJE: Too Many Requests. Rate limited. Try after a while.\n",
      "Error fetching data for RLOC: Too Many Requests. Rate limited. Try after a while.\n",
      "Error fetching data for RLOG: Too Many Requests. Rate limited. Try after a while.\n",
      "Error fetching data for RMBS: Too Many Requests. Rate limited. Try after a while.\n",
      "Error fetching data for RMCF: Too Many Requests. Rate limited. Try after a while.\n",
      "Error fetching data for RMGN: Too Many Requests. Rate limited. Try after a while.\n",
      "Error fetching data for RMTI: Too Many Requests. Rate limited. Try after a while.\n",
      "Error fetching data for RNA: Too Many Requests. Rate limited. Try after a while.\n",
      "Error fetching data for RNET: Too Many Requests. Rate limited. Try after a while.\n",
      "Error fetching data for RNST: Too Many Requests. Rate limited. Try after a while.\n",
      "Error fetching data for RNWK: Too Many Requests. Rate limited. Try after a while.\n",
      "Error fetching data for ROCK: Too Many Requests. Rate limited. Try after a while.\n",
      "Error fetching data for ROCM: Too Many Requests. Rate limited. Try after a while.\n",
      "Error fetching data for ROIA: Too Many Requests. Rate limited. Try after a while.\n",
      "Error fetching data for ROIAK: Too Many Requests. Rate limited. Try after a while.\n",
      "Error fetching data for ROIC: Too Many Requests. Rate limited. Try after a while.\n",
      "Error fetching data for ROICU: Too Many Requests. Rate limited. Try after a while.\n",
      "Error fetching data for ROICW: Too Many Requests. Rate limited. Try after a while.\n",
      "Error fetching data for ROLL: Too Many Requests. Rate limited. Try after a while.\n",
      "Error fetching data for ROMA: Too Many Requests. Rate limited. Try after a while.\n",
      "Error fetching data for ROSE: Too Many Requests. Rate limited. Try after a while.\n",
      "Error fetching data for ROSG: Too Many Requests. Rate limited. Try after a while.\n",
      "Error fetching data for ROST: Too Many Requests. Rate limited. Try after a while.\n",
      "Error fetching data for ROVI: Too Many Requests. Rate limited. Try after a while.\n",
      "Error fetching data for ROYL: Too Many Requests. Rate limited. Try after a while.\n",
      "Error fetching data for RP: Too Many Requests. Rate limited. Try after a while.\n",
      "Error fetching data for RPRX: Too Many Requests. Rate limited. Try after a while.\n",
      "Error fetching data for RPRXW: Too Many Requests. Rate limited. Try after a while.\n",
      "Error fetching data for RPRXZ: Too Many Requests. Rate limited. Try after a while.\n",
      "Error fetching data for RPTP: Too Many Requests. Rate limited. Try after a while.\n",
      "Error fetching data for RPXC: Too Many Requests. Rate limited. Try after a while.\n",
      "Error fetching data for RRD: Too Many Requests. Rate limited. Try after a while.\n",
      "Error fetching data for RRGB: Too Many Requests. Rate limited. Try after a while.\n",
      "Error fetching data for RRST: Too Many Requests. Rate limited. Try after a while.\n",
      "Error fetching data for RSOL: Too Many Requests. Rate limited. Try after a while.\n",
      "Error fetching data for RSTI: Too Many Requests. Rate limited. Try after a while.\n",
      "Error fetching data for RSYS: Too Many Requests. Rate limited. Try after a while.\n",
      "Error fetching data for RTEC: Too Many Requests. Rate limited. Try after a while.\n",
      "Error fetching data for RTIX: Too Many Requests. Rate limited. Try after a while.\n",
      "Error fetching data for RTK: Too Many Requests. Rate limited. Try after a while.\n",
      "Error fetching data for RUE: Too Many Requests. Rate limited. Try after a while.\n",
      "Error fetching data for RUSHA: Too Many Requests. Rate limited. Try after a while.\n",
      "Error fetching data for RUSHB: Too Many Requests. Rate limited. Try after a while.\n",
      "Error fetching data for RUTH: Too Many Requests. Rate limited. Try after a while.\n",
      "Error fetching data for RVBD: Too Many Requests. Rate limited. Try after a while.\n",
      "Error fetching data for RVLT: Too Many Requests. Rate limited. Try after a while.\n",
      "Error fetching data for RVSB: Too Many Requests. Rate limited. Try after a while.\n",
      "Error fetching data for RYAAY: Too Many Requests. Rate limited. Try after a while.\n",
      "Error fetching data for SAAS: Too Many Requests. Rate limited. Try after a while.\n",
      "Error fetching data for SAEX: Too Many Requests. Rate limited. Try after a while.\n",
      "Error fetching data for SAFM: Too Many Requests. Rate limited. Try after a while.\n",
      "Error fetching data for SAFT: Too Many Requests. Rate limited. Try after a while.\n",
      "Error fetching data for SAIA: Too Many Requests. Rate limited. Try after a while.\n",
      "Error fetching data for SAL: Too Many Requests. Rate limited. Try after a while.\n",
      "Error fetching data for SALE: Too Many Requests. Rate limited. Try after a while.\n",
      "Error fetching data for SALM: Too Many Requests. Rate limited. Try after a while.\n",
      "Error fetching data for SAMG: Too Many Requests. Rate limited. Try after a while.\n",
      "Error fetching data for SANM: Too Many Requests. Rate limited. Try after a while.\n",
      "Error fetching data for SANW: Too Many Requests. Rate limited. Try after a while.\n",
      "Error fetching data for SANWZ: Too Many Requests. Rate limited. Try after a while.\n",
      "Error fetching data for SAPE: Too Many Requests. Rate limited. Try after a while.\n",
      "Error fetching data for SASR: Too Many Requests. Rate limited. Try after a while.\n",
      "Error fetching data for SATS: Too Many Requests. Rate limited. Try after a while.\n",
      "Error fetching data for SAVE: Too Many Requests. Rate limited. Try after a while.\n",
      "Error fetching data for SBAC: Too Many Requests. Rate limited. Try after a while.\n",
      "Error fetching data for SBBX: Too Many Requests. Rate limited. Try after a while.\n",
      "Error fetching data for SBCF: Too Many Requests. Rate limited. Try after a while.\n",
      "Error fetching data for SBFG: Too Many Requests. Rate limited. Try after a while.\n",
      "Error fetching data for SBGI: Too Many Requests. Rate limited. Try after a while.\n",
      "Error fetching data for SBLK: Too Many Requests. Rate limited. Try after a while.\n",
      "Error fetching data for SBNY: Too Many Requests. Rate limited. Try after a while.\n",
      "Error fetching data for SBNYW: Too Many Requests. Rate limited. Try after a while.\n",
      "Error fetching data for SBRA: Too Many Requests. Rate limited. Try after a while.\n",
      "Error fetching data for SBRAP: Too Many Requests. Rate limited. Try after a while.\n",
      "Error fetching data for SBSA: Too Many Requests. Rate limited. Try after a while.\n",
      "Error fetching data for SBSI: Too Many Requests. Rate limited. Try after a while.\n",
      "Error fetching data for SBUX: Too Many Requests. Rate limited. Try after a while.\n",
      "Error fetching data for SCBT: Too Many Requests. Rate limited. Try after a while.\n",
      "Error fetching data for SCHL: Too Many Requests. Rate limited. Try after a while.\n",
      "Error fetching data for SCHN: Too Many Requests. Rate limited. Try after a while.\n",
      "Error fetching data for SCLN: Too Many Requests. Rate limited. Try after a while.\n",
      "Error fetching data for SCMP: Too Many Requests. Rate limited. Try after a while.\n",
      "Error fetching data for SCOK: Too Many Requests. Rate limited. Try after a while.\n",
      "Error fetching data for SCON: Too Many Requests. Rate limited. Try after a while.\n",
      "Error fetching data for SCOR: Too Many Requests. Rate limited. Try after a while.\n",
      "Error fetching data for SCSC: Too Many Requests. Rate limited. Try after a while.\n",
      "Error fetching data for SCSS: Too Many Requests. Rate limited. Try after a while.\n",
      "Error fetching data for SCTY: Too Many Requests. Rate limited. Try after a while.\n",
      "Error fetching data for SCVL: Too Many Requests. Rate limited. Try after a while.\n",
      "Error fetching data for SEAC: Too Many Requests. Rate limited. Try after a while.\n",
      "Error fetching data for SEED: Too Many Requests. Rate limited. Try after a while.\n",
      "Error fetching data for SEIC: Too Many Requests. Rate limited. Try after a while.\n",
      "Error fetching data for SENEA: Too Many Requests. Rate limited. Try after a while.\n",
      "Error fetching data for SENEB: Too Many Requests. Rate limited. Try after a while.\n",
      "Error fetching data for SEV: Too Many Requests. Rate limited. Try after a while.\n",
      "Error fetching data for SFBC: Too Many Requests. Rate limited. Try after a while.\n",
      "Error fetching data for SFLY: Too Many Requests. Rate limited. Try after a while.\n",
      "Error fetching data for SFM: Too Many Requests. Rate limited. Try after a while.\n",
      "Error fetching data for SFNC: Too Many Requests. Rate limited. Try after a while.\n",
      "Error fetching data for SFST: Too Many Requests. Rate limited. Try after a while.\n",
      "Error fetching data for SGC: Too Many Requests. Rate limited. Try after a while.\n",
      "Error fetching data for SGEN: Too Many Requests. Rate limited. Try after a while.\n",
      "Error fetching data for SGI: Too Many Requests. Rate limited. Try after a while.\n",
      "Error fetching data for SGMA: Too Many Requests. Rate limited. Try after a while.\n",
      "Error fetching data for SGMO: Too Many Requests. Rate limited. Try after a while.\n",
      "Error fetching data for SGMS: Too Many Requests. Rate limited. Try after a while.\n",
      "Error fetching data for SGNT: Too Many Requests. Rate limited. Try after a while.\n",
      "Error fetching data for SGOC: Too Many Requests. Rate limited. Try after a while.\n",
      "Error fetching data for SGRP: Too Many Requests. Rate limited. Try after a while.\n",
      "Error fetching data for SGYP: Too Many Requests. Rate limited. Try after a while.\n",
      "Error fetching data for SGYPW: Too Many Requests. Rate limited. Try after a while.\n",
      "Error fetching data for SHBI: Too Many Requests. Rate limited. Try after a while.\n",
      "Error fetching data for SHEN: Too Many Requests. Rate limited. Try after a while.\n",
      "Error fetching data for SHFL: Too Many Requests. Rate limited. Try after a while.\n",
      "Error fetching data for SHIP: Too Many Requests. Rate limited. Try after a while.\n",
      "Error fetching data for SHLD: Too Many Requests. Rate limited. Try after a while.\n",
      "Error fetching data for SHLM: Too Many Requests. Rate limited. Try after a while.\n",
      "Error fetching data for SHLO: Too Many Requests. Rate limited. Try after a while.\n",
      "Error fetching data for SHOO: Too Many Requests. Rate limited. Try after a while.\n",
      "Error fetching data for SHOR: Too Many Requests. Rate limited. Try after a while.\n",
      "Error fetching data for SHOS: Too Many Requests. Rate limited. Try after a while.\n",
      "Error fetching data for SHPG: Too Many Requests. Rate limited. Try after a while.\n",
      "Error fetching data for SIAL: Too Many Requests. Rate limited. Try after a while.\n",
      "Error fetching data for SIBC: Too Many Requests. Rate limited. Try after a while.\n",
      "Error fetching data for SIEB: Too Many Requests. Rate limited. Try after a while.\n",
      "Error fetching data for SIFI: Too Many Requests. Rate limited. Try after a while.\n",
      "Error fetching data for SIFY: Too Many Requests. Rate limited. Try after a while.\n",
      "Error fetching data for SIGA: Too Many Requests. Rate limited. Try after a while.\n",
      "Error fetching data for SIGI: Too Many Requests. Rate limited. Try after a while.\n",
      "Error fetching data for SIGM: Too Many Requests. Rate limited. Try after a while.\n",
      "Error fetching data for SILC: Too Many Requests. Rate limited. Try after a while.\n",
      "Error fetching data for SIMG: Too Many Requests. Rate limited. Try after a while.\n",
      "Error fetching data for SIMO: Too Many Requests. Rate limited. Try after a while.\n",
      "Error fetching data for SINA: Too Many Requests. Rate limited. Try after a while.\n",
      "Error fetching data for SINO: Too Many Requests. Rate limited. Try after a while.\n",
      "Error fetching data for SIRI: Too Many Requests. Rate limited. Try after a while.\n",
      "Error fetching data for SIRO: Too Many Requests. Rate limited. Try after a while.\n",
      "Error fetching data for SIVB: Too Many Requests. Rate limited. Try after a while.\n",
      "Error fetching data for SIVBO: Too Many Requests. Rate limited. Try after a while.\n",
      "Error fetching data for SKBI: Too Many Requests. Rate limited. Try after a while.\n"
     ]
    },
    {
     "name": "stderr",
     "output_type": "stream",
     "text": [
      "401 Client Error: Unauthorized for url: https://query2.finance.yahoo.com/v10/finance/quoteSummary/SKUL?modules=financialData%2CquoteType%2CdefaultKeyStatistics%2CassetProfile%2CsummaryDetail&corsDomain=finance.yahoo.com&formatted=false&symbol=SKUL&crumb=Edge%3A+Too+Many+Requests\n",
      "404 Client Error: Not Found for url: https://query2.finance.yahoo.com/v10/finance/quoteSummary/SLMAP?modules=financialData%2CquoteType%2CdefaultKeyStatistics%2CassetProfile%2CsummaryDetail&corsDomain=finance.yahoo.com&formatted=false&symbol=SLMAP&crumb=wMYLnRQb6Q9\n",
      "404 Client Error: Not Found for url: https://query2.finance.yahoo.com/v10/finance/quoteSummary/SMMF?modules=financialData%2CquoteType%2CdefaultKeyStatistics%2CassetProfile%2CsummaryDetail&corsDomain=finance.yahoo.com&formatted=false&symbol=SMMF&crumb=wMYLnRQb6Q9\n",
      "404 Client Error: Not Found for url: https://query2.finance.yahoo.com/v10/finance/quoteSummary/SPLK?modules=financialData%2CquoteType%2CdefaultKeyStatistics%2CassetProfile%2CsummaryDetail&corsDomain=finance.yahoo.com&formatted=false&symbol=SPLK&crumb=wMYLnRQb6Q9\n",
      "404 Client Error: Not Found for url: https://query2.finance.yahoo.com/v10/finance/quoteSummary/SPPI?modules=financialData%2CquoteType%2CdefaultKeyStatistics%2CassetProfile%2CsummaryDetail&corsDomain=finance.yahoo.com&formatted=false&symbol=SPPI&crumb=wMYLnRQb6Q9\n",
      "404 Client Error: Not Found for url: https://query2.finance.yahoo.com/v10/finance/quoteSummary/SPPRP?modules=financialData%2CquoteType%2CdefaultKeyStatistics%2CassetProfile%2CsummaryDetail&corsDomain=finance.yahoo.com&formatted=false&symbol=SPPRP&crumb=wMYLnRQb6Q9\n",
      "404 Client Error: Not Found for url: https://query2.finance.yahoo.com/v10/finance/quoteSummary/SPWR?modules=financialData%2CquoteType%2CdefaultKeyStatistics%2CassetProfile%2CsummaryDetail&corsDomain=finance.yahoo.com&formatted=false&symbol=SPWR&crumb=wMYLnRQb6Q9\n",
      "404 Client Error: Not Found for url: https://query2.finance.yahoo.com/v10/finance/quoteSummary/TAST?modules=financialData%2CquoteType%2CdefaultKeyStatistics%2CassetProfile%2CsummaryDetail&corsDomain=finance.yahoo.com&formatted=false&symbol=TAST&crumb=wMYLnRQb6Q9\n",
      "404 Client Error: Not Found for url: https://query2.finance.yahoo.com/v10/finance/quoteSummary/TAYCO?modules=financialData%2CquoteType%2CdefaultKeyStatistics%2CassetProfile%2CsummaryDetail&corsDomain=finance.yahoo.com&formatted=false&symbol=TAYCO&crumb=wMYLnRQb6Q9\n",
      "404 Client Error: Not Found for url: https://query2.finance.yahoo.com/v10/finance/quoteSummary/TESS?modules=financialData%2CquoteType%2CdefaultKeyStatistics%2CassetProfile%2CsummaryDetail&corsDomain=finance.yahoo.com&formatted=false&symbol=TESS&crumb=wMYLnRQb6Q9\n",
      "404 Client Error: Not Found for url: https://query2.finance.yahoo.com/v10/finance/quoteSummary/THRX?modules=financialData%2CquoteType%2CdefaultKeyStatistics%2CassetProfile%2CsummaryDetail&corsDomain=finance.yahoo.com&formatted=false&symbol=THRX&crumb=wMYLnRQb6Q9\n",
      "404 Client Error: Not Found for url: https://query2.finance.yahoo.com/v10/finance/quoteSummary/THST?modules=financialData%2CquoteType%2CdefaultKeyStatistics%2CassetProfile%2CsummaryDetail&corsDomain=finance.yahoo.com&formatted=false&symbol=THST&crumb=wMYLnRQb6Q9\n",
      "404 Client Error: Not Found for url: https://query2.finance.yahoo.com/v10/finance/quoteSummary/TRIT?modules=financialData%2CquoteType%2CdefaultKeyStatistics%2CassetProfile%2CsummaryDetail&corsDomain=finance.yahoo.com&formatted=false&symbol=TRIT&crumb=wMYLnRQb6Q9\n",
      "404 Client Error: Not Found for url: https://query2.finance.yahoo.com/v10/finance/quoteSummary/TROVW?modules=financialData%2CquoteType%2CdefaultKeyStatistics%2CassetProfile%2CsummaryDetail&corsDomain=finance.yahoo.com&formatted=false&symbol=TROVW&crumb=wMYLnRQb6Q9\n",
      "404 Client Error: Not Found for url: https://query2.finance.yahoo.com/v10/finance/quoteSummary/TSRI?modules=financialData%2CquoteType%2CdefaultKeyStatistics%2CassetProfile%2CsummaryDetail&corsDomain=finance.yahoo.com&formatted=false&symbol=TSRI&crumb=wMYLnRQb6Q9\n"
     ]
    },
    {
     "name": "stdout",
     "output_type": "stream",
     "text": [
      "Error fetching data for TTWO: Too Many Requests. Rate limited. Try after a while.\n",
      "Error fetching data for TUES: Too Many Requests. Rate limited. Try after a while.\n",
      "Error fetching data for TWER: Too Many Requests. Rate limited. Try after a while.\n",
      "Error fetching data for TWGP: Too Many Requests. Rate limited. Try after a while.\n",
      "Error fetching data for TWIN: Too Many Requests. Rate limited. Try after a while.\n",
      "Error fetching data for TWMC: Too Many Requests. Rate limited. Try after a while.\n",
      "Error fetching data for TWTC: Too Many Requests. Rate limited. Try after a while.\n",
      "Error fetching data for TXCC: Too Many Requests. Rate limited. Try after a while.\n",
      "Error fetching data for TXN: Too Many Requests. Rate limited. Try after a while.\n",
      "Error fetching data for TXRH: Too Many Requests. Rate limited. Try after a while.\n",
      "Error fetching data for TYPE: Too Many Requests. Rate limited. Try after a while.\n",
      "Error fetching data for TZOO: Too Many Requests. Rate limited. Try after a while.\n",
      "Error fetching data for UACL: Too Many Requests. Rate limited. Try after a while.\n",
      "Error fetching data for UBCP: Too Many Requests. Rate limited. Try after a while.\n",
      "Error fetching data for UBFO: Too Many Requests. Rate limited. Try after a while.\n",
      "Error fetching data for UBIC: Too Many Requests. Rate limited. Try after a while.\n",
      "Error fetching data for UBNK: Too Many Requests. Rate limited. Try after a while.\n",
      "Error fetching data for UBNT: Too Many Requests. Rate limited. Try after a while.\n",
      "Error fetching data for UBOH: Too Many Requests. Rate limited. Try after a while.\n",
      "Error fetching data for UBPS: Too Many Requests. Rate limited. Try after a while.\n",
      "Error fetching data for UBSH: Too Many Requests. Rate limited. Try after a while.\n",
      "Error fetching data for UBSI: Too Many Requests. Rate limited. Try after a while.\n",
      "Error fetching data for UCBA: Too Many Requests. Rate limited. Try after a while.\n",
      "Error fetching data for UCBI: Too Many Requests. Rate limited. Try after a while.\n",
      "Error fetching data for UCFC: Too Many Requests. Rate limited. Try after a while.\n",
      "Error fetching data for UCTT: Too Many Requests. Rate limited. Try after a while.\n",
      "Error fetching data for UEIC: Too Many Requests. Rate limited. Try after a while.\n",
      "Error fetching data for UEPS: Too Many Requests. Rate limited. Try after a while.\n",
      "Error fetching data for UFCS: Too Many Requests. Rate limited. Try after a while.\n",
      "Error fetching data for UFPI: Too Many Requests. Rate limited. Try after a while.\n",
      "Error fetching data for UFPT: Too Many Requests. Rate limited. Try after a while.\n",
      "Error fetching data for UG: Too Many Requests. Rate limited. Try after a while.\n",
      "Error fetching data for UHAL: Too Many Requests. Rate limited. Try after a while.\n",
      "Error fetching data for UIHC: Too Many Requests. Rate limited. Try after a while.\n",
      "Error fetching data for ULBI: Too Many Requests. Rate limited. Try after a while.\n",
      "Error fetching data for ULTA: Too Many Requests. Rate limited. Try after a while.\n",
      "Error fetching data for ULTI: Too Many Requests. Rate limited. Try after a while.\n",
      "Error fetching data for ULTR: Too Many Requests. Rate limited. Try after a while.\n",
      "Error fetching data for UMBF: Too Many Requests. Rate limited. Try after a while.\n",
      "Error fetching data for UMPQ: Too Many Requests. Rate limited. Try after a while.\n",
      "Error fetching data for UNAM: Too Many Requests. Rate limited. Try after a while.\n",
      "Error fetching data for UNB: Too Many Requests. Rate limited. Try after a while.\n",
      "Error fetching data for UNFI: Too Many Requests. Rate limited. Try after a while.\n",
      "Error fetching data for UNIS: Too Many Requests. Rate limited. Try after a while.\n",
      "Error fetching data for UNTD: Too Many Requests. Rate limited. Try after a while.\n",
      "Error fetching data for UNTK: Too Many Requests. Rate limited. Try after a while.\n",
      "Error fetching data for UNTY: Too Many Requests. Rate limited. Try after a while.\n",
      "Error fetching data for UNXL: Too Many Requests. Rate limited. Try after a while.\n",
      "Error fetching data for UPI: Too Many Requests. Rate limited. Try after a while.\n",
      "Error fetching data for UPIP: Too Many Requests. Rate limited. Try after a while.\n",
      "Error fetching data for URBN: Too Many Requests. Rate limited. Try after a while.\n",
      "Error fetching data for URRE: Too Many Requests. Rate limited. Try after a while.\n",
      "Error fetching data for USAK: Too Many Requests. Rate limited. Try after a while.\n",
      "Error fetching data for USAP: Too Many Requests. Rate limited. Try after a while.\n",
      "Error fetching data for USAT: Too Many Requests. Rate limited. Try after a while.\n",
      "Error fetching data for USATP: Too Many Requests. Rate limited. Try after a while.\n",
      "Error fetching data for USATZ: Too Many Requests. Rate limited. Try after a while.\n",
      "Error fetching data for USBI: Too Many Requests. Rate limited. Try after a while.\n",
      "Error fetching data for USCR: Too Many Requests. Rate limited. Try after a while.\n",
      "Error fetching data for USEG: Too Many Requests. Rate limited. Try after a while.\n",
      "Error fetching data for USLM: Too Many Requests. Rate limited. Try after a while.\n",
      "Error fetching data for USMD: Too Many Requests. Rate limited. Try after a while.\n",
      "Error fetching data for USMO: Too Many Requests. Rate limited. Try after a while.\n",
      "Error fetching data for USTR: Too Many Requests. Rate limited. Try after a while.\n",
      "Error fetching data for UTEK: Too Many Requests. Rate limited. Try after a while.\n",
      "Error fetching data for UTHR: Too Many Requests. Rate limited. Try after a while.\n",
      "Error fetching data for UTIW: Too Many Requests. Rate limited. Try after a while.\n",
      "Error fetching data for UTMD: Too Many Requests. Rate limited. Try after a while.\n",
      "Error fetching data for UTSI: Too Many Requests. Rate limited. Try after a while.\n",
      "Error fetching data for UVSP: Too Many Requests. Rate limited. Try after a while.\n",
      "Error fetching data for VALU: Too Many Requests. Rate limited. Try after a while.\n",
      "Error fetching data for VASC: Too Many Requests. Rate limited. Try after a while.\n",
      "Error fetching data for VBFC: Too Many Requests. Rate limited. Try after a while.\n",
      "Error fetching data for VCBI: Too Many Requests. Rate limited. Try after a while.\n",
      "Error fetching data for VCIT: Too Many Requests. Rate limited. Try after a while.\n",
      "Error fetching data for VCLK: Too Many Requests. Rate limited. Try after a while.\n",
      "Error fetching data for VCLT: Too Many Requests. Rate limited. Try after a while.\n",
      "Error fetching data for VCSH: Too Many Requests. Rate limited. Try after a while.\n",
      "Error fetching data for VDSI: Too Many Requests. Rate limited. Try after a while.\n",
      "Error fetching data for VECO: Too Many Requests. Rate limited. Try after a while.\n",
      "Error fetching data for VELT: Too Many Requests. Rate limited. Try after a while.\n",
      "Error fetching data for VGIT: Too Many Requests. Rate limited. Try after a while.\n",
      "Error fetching data for VGLT: Too Many Requests. Rate limited. Try after a while.\n",
      "Error fetching data for VGSH: Too Many Requests. Rate limited. Try after a while.\n",
      "Error fetching data for VIA: Too Many Requests. Rate limited. Try after a while.\n",
      "Error fetching data for VIAB: Too Many Requests. Rate limited. Try after a while.\n",
      "Error fetching data for VIAS: Too Many Requests. Rate limited. Try after a while.\n",
      "Error fetching data for VICL: Too Many Requests. Rate limited. Try after a while.\n",
      "Error fetching data for VICR: Too Many Requests. Rate limited. Try after a while.\n",
      "Error fetching data for VIDE: Too Many Requests. Rate limited. Try after a while.\n",
      "Error fetching data for VIFL: Too Many Requests. Rate limited. Try after a while.\n",
      "Error fetching data for VIMC: Too Many Requests. Rate limited. Try after a while.\n",
      "Error fetching data for VIRC: Too Many Requests. Rate limited. Try after a while.\n",
      "Error fetching data for VISN: Too Many Requests. Rate limited. Try after a while.\n",
      "Error fetching data for VITC: Too Many Requests. Rate limited. Try after a while.\n",
      "Error fetching data for VIVO: Too Many Requests. Rate limited. Try after a while.\n",
      "Error fetching data for VLCCF: Too Many Requests. Rate limited. Try after a while.\n",
      "Error fetching data for VLGEA: Too Many Requests. Rate limited. Try after a while.\n",
      "Error fetching data for VLTC: Too Many Requests. Rate limited. Try after a while.\n",
      "Error fetching data for VLTR: Too Many Requests. Rate limited. Try after a while.\n",
      "Error fetching data for VLYWW: Too Many Requests. Rate limited. Try after a while.\n",
      "Error fetching data for VMBS: Too Many Requests. Rate limited. Try after a while.\n",
      "Error fetching data for VNDA: Too Many Requests. Rate limited. Try after a while.\n",
      "Error fetching data for VNET: Too Many Requests. Rate limited. Try after a while.\n",
      "Error fetching data for VNQI: Too Many Requests. Rate limited. Try after a while.\n",
      "Error fetching data for VNR: Too Many Requests. Rate limited. Try after a while.\n",
      "Error fetching data for VNRAP: Too Many Requests. Rate limited. Try after a while.\n",
      "Error fetching data for VOCS: Too Many Requests. Rate limited. Try after a while.\n",
      "Error fetching data for VOD: Too Many Requests. Rate limited. Try after a while.\n",
      "Error fetching data for VOLC: Too Many Requests. Rate limited. Try after a while.\n",
      "Error fetching data for VONE: Too Many Requests. Rate limited. Try after a while.\n",
      "Error fetching data for VONG: Too Many Requests. Rate limited. Try after a while.\n",
      "Error fetching data for VONV: Too Many Requests. Rate limited. Try after a while.\n",
      "Error fetching data for VOXX: Too Many Requests. Rate limited. Try after a while.\n",
      "Error fetching data for VPFG: Too Many Requests. Rate limited. Try after a while.\n",
      "Error fetching data for VPHM: Too Many Requests. Rate limited. Try after a while.\n",
      "Error fetching data for VPRT: Too Many Requests. Rate limited. Try after a while.\n",
      "Error fetching data for VRA: Too Many Requests. Rate limited. Try after a while.\n",
      "Error fetching data for VRML: Too Many Requests. Rate limited. Try after a while.\n",
      "Error fetching data for VRNG: Too Many Requests. Rate limited. Try after a while.\n",
      "Error fetching data for VRNGW: Too Many Requests. Rate limited. Try after a while.\n",
      "Error fetching data for VRNM: Too Many Requests. Rate limited. Try after a while.\n",
      "Error fetching data for VRNT: Too Many Requests. Rate limited. Try after a while.\n",
      "Error fetching data for VRSK: Too Many Requests. Rate limited. Try after a while.\n",
      "Error fetching data for VRSN: Too Many Requests. Rate limited. Try after a while.\n",
      "Error fetching data for VRTA: Too Many Requests. Rate limited. Try after a while.\n",
      "Error fetching data for VRTB: Too Many Requests. Rate limited. Try after a while.\n",
      "Error fetching data for VRTS: Too Many Requests. Rate limited. Try after a while.\n",
      "Error fetching data for VRTU: Too Many Requests. Rate limited. Try after a while.\n",
      "Error fetching data for VRTX: Too Many Requests. Rate limited. Try after a while.\n",
      "Error fetching data for VSAT: Too Many Requests. Rate limited. Try after a while.\n",
      "Error fetching data for VSBN: Too Many Requests. Rate limited. Try after a while.\n",
      "Error fetching data for VSCI: Too Many Requests. Rate limited. Try after a while.\n",
      "Error fetching data for VSCP: Too Many Requests. Rate limited. Try after a while.\n",
      "Error fetching data for VSEC: Too Many Requests. Rate limited. Try after a while.\n",
      "Error fetching data for VSTM: Too Many Requests. Rate limited. Try after a while.\n",
      "Error fetching data for VTHR: Too Many Requests. Rate limited. Try after a while.\n",
      "Error fetching data for VTIP: Too Many Requests. Rate limited. Try after a while.\n",
      "Error fetching data for VTNC: Too Many Requests. Rate limited. Try after a while.\n",
      "Error fetching data for VTNR: Too Many Requests. Rate limited. Try after a while.\n",
      "Error fetching data for VTSS: Too Many Requests. Rate limited. Try after a while.\n",
      "Error fetching data for VTUS: Too Many Requests. Rate limited. Try after a while.\n",
      "Error fetching data for VTWG: Too Many Requests. Rate limited. Try after a while.\n",
      "Error fetching data for VTWO: Too Many Requests. Rate limited. Try after a while.\n",
      "Error fetching data for VTWV: Too Many Requests. Rate limited. Try after a while.\n",
      "Error fetching data for VVTV: Too Many Requests. Rate limited. Try after a while.\n",
      "Error fetching data for VVUS: Too Many Requests. Rate limited. Try after a while.\n",
      "Error fetching data for VWOB: Too Many Requests. Rate limited. Try after a while.\n",
      "Error fetching data for VXUS: Too Many Requests. Rate limited. Try after a while.\n",
      "Error fetching data for VYFC: Too Many Requests. Rate limited. Try after a while.\n",
      "Error fetching data for WABC: Too Many Requests. Rate limited. Try after a while.\n",
      "Error fetching data for WAFD: Too Many Requests. Rate limited. Try after a while.\n",
      "Error fetching data for WAFDW: Too Many Requests. Rate limited. Try after a while.\n",
      "Error fetching data for WASH: Too Many Requests. Rate limited. Try after a while.\n",
      "Error fetching data for WAVX: Too Many Requests. Rate limited. Try after a while.\n",
      "Error fetching data for WAYN: Too Many Requests. Rate limited. Try after a while.\n",
      "Error fetching data for WBB: Too Many Requests. Rate limited. Try after a while.\n",
      "Error fetching data for WBCO: Too Many Requests. Rate limited. Try after a while.\n",
      "Error fetching data for WBKC: Too Many Requests. Rate limited. Try after a while.\n",
      "Error fetching data for WBMD: Too Many Requests. Rate limited. Try after a while.\n",
      "Error fetching data for WCRX: Too Many Requests. Rate limited. Try after a while.\n",
      "Error fetching data for WDC: Too Many Requests. Rate limited. Try after a while.\n",
      "Error fetching data for WDFC: Too Many Requests. Rate limited. Try after a while.\n",
      "Error fetching data for WEBK: Too Many Requests. Rate limited. Try after a while.\n",
      "Error fetching data for WEN: Too Many Requests. Rate limited. Try after a while.\n",
      "Error fetching data for WERN: Too Many Requests. Rate limited. Try after a while.\n",
      "Error fetching data for WETF: Too Many Requests. Rate limited. Try after a while.\n",
      "Error fetching data for WEYS: Too Many Requests. Rate limited. Try after a while.\n",
      "Error fetching data for WFBI: Too Many Requests. Rate limited. Try after a while.\n",
      "Error fetching data for WFD: Too Many Requests. Rate limited. Try after a while.\n",
      "Error fetching data for WFM: Too Many Requests. Rate limited. Try after a while.\n",
      "Error fetching data for WHF: Too Many Requests. Rate limited. Try after a while.\n",
      "Error fetching data for WHFBL: Too Many Requests. Rate limited. Try after a while.\n",
      "Error fetching data for WHLR: Too Many Requests. Rate limited. Try after a while.\n",
      "Error fetching data for WIBC: Too Many Requests. Rate limited. Try after a while.\n",
      "Error fetching data for WIFI: Too Many Requests. Rate limited. Try after a while.\n",
      "Error fetching data for WILC: Too Many Requests. Rate limited. Try after a while.\n",
      "Error fetching data for WILN: Too Many Requests. Rate limited. Try after a while.\n",
      "Error fetching data for WIN: Too Many Requests. Rate limited. Try after a while.\n",
      "Error fetching data for WINA: Too Many Requests. Rate limited. Try after a while.\n",
      "Error fetching data for WIRE: Too Many Requests. Rate limited. Try after a while.\n",
      "Error fetching data for WLB: Too Many Requests. Rate limited. Try after a while.\n"
     ]
    },
    {
     "name": "stderr",
     "output_type": "stream",
     "text": [
      "401 Client Error: Unauthorized for url: https://query2.finance.yahoo.com/v10/finance/quoteSummary/WLBPZ?modules=financialData%2CquoteType%2CdefaultKeyStatistics%2CassetProfile%2CsummaryDetail&corsDomain=finance.yahoo.com&formatted=false&symbol=WLBPZ&crumb=Edge%3A+Too+Many+Requests\n",
      "404 Client Error: Not Found for url: https://query2.finance.yahoo.com/v10/finance/quoteSummary/WMGIZ?modules=financialData%2CquoteType%2CdefaultKeyStatistics%2CassetProfile%2CsummaryDetail&corsDomain=finance.yahoo.com&formatted=false&symbol=WMGIZ&crumb=wMYLnRQb6Q9\n",
      "404 Client Error: Not Found for url: https://query2.finance.yahoo.com/v10/finance/quoteSummary/WSFSL?modules=financialData%2CquoteType%2CdefaultKeyStatistics%2CassetProfile%2CsummaryDetail&corsDomain=finance.yahoo.com&formatted=false&symbol=WSFSL&crumb=wMYLnRQb6Q9\n",
      "404 Client Error: Not Found for url: https://query2.finance.yahoo.com/v10/finance/quoteSummary/XGTIW?modules=financialData%2CquoteType%2CdefaultKeyStatistics%2CassetProfile%2CsummaryDetail&corsDomain=finance.yahoo.com&formatted=false&symbol=XGTIW&crumb=wMYLnRQb6Q9\n",
      "404 Client Error: Not Found for url: https://query2.finance.yahoo.com/v10/finance/quoteSummary/YHOO?modules=financialData%2CquoteType%2CdefaultKeyStatistics%2CassetProfile%2CsummaryDetail&corsDomain=finance.yahoo.com&formatted=false&symbol=YHOO&crumb=wMYLnRQb6Q9\n"
     ]
    }
   ],
   "source": [
    "import pandas as pd\n",
    "import yfinance as yf\n",
    "\n",
    "def get_market_cap(ticker):\n",
    "    try:\n",
    "        company = yf.Ticker(ticker)\n",
    "        info = company.info\n",
    "        return info.get('marketCap', None)\n",
    "    except Exception as e:\n",
    "        print(f\"Error fetching data for {ticker}: {e}\")\n",
    "        return None\n",
    "\n",
    "# Read the CSV file\n",
    "df = pd.read_csv(testFolder / 'tickers.csv')\n",
    "\n",
    "# Fetch market cap for each ticker and add it as a new column\n",
    "df['Market Cap'] = df['Ticker'].apply(get_market_cap)\n",
    "\n",
    "# Drop rows where market cap data is missing\n",
    "df_clean = df.dropna(subset=['Market Cap'])\n",
    "\n",
    "# Filter rows where market cap is at least 50 million USD\n",
    "filtered_df = df_clean[df_clean['Market Cap'] >= 50_000_000]\n",
    "\n",
    "# Save the filtered data to a new CSV file\n",
    "filtered_df.to_csv(testFolder / 'filteredTickers.csv', index=False)"
   ]
  },
  {
   "cell_type": "markdown",
   "metadata": {},
   "source": [
    "## Model Training"
   ]
  },
  {
   "cell_type": "code",
   "execution_count": 43,
   "metadata": {},
   "outputs": [],
   "source": [
    "if trainNewModel:\n",
    "    TRAINING_CUTOFF = pd.to_datetime('2023-01-01')\n",
    "\n",
    "    df = pd.read_csv(dataFolder / trainingData)\n",
    "    dfCleaned = df.dropna(subset=['EV/EBIT', 'ROIC']).copy()\n",
    "\n",
    "    # Convert 'Date' to datetime, parse UTC-aware dates, then make naive\n",
    "    dfCleaned['Date'] = pd.to_datetime(dfCleaned['Date'], errors='coerce', utc=True).dt.tz_convert(None)\n",
    "    dfCleaned = dfCleaned.dropna(subset=['Date'])\n",
    "\n",
    "    # Clean 'EV/EBIT' and reset index\n",
    "    dfCleaned['EV/EBIT'] = dfCleaned['EV/EBIT'].replace([np.inf, -np.inf], np.nan)\n",
    "    dfCleaned = dfCleaned.dropna(subset=['EV/EBIT', 'ROIC'])\n",
    "    dfCleaned = dfCleaned.reset_index(drop=True)\n",
    "    dfCleaned.to_csv(dataFolder / trainingData, index=False)\n",
    "\n",
    "    # Check for empty data\n",
    "    if dfCleaned.empty:\n",
    "        raise ValueError(\"The cleaned DataFrame is empty.\")\n",
    "\n",
    "    # Create splits with valid indices\n",
    "    train_mask = dfCleaned['Date'] < TRAINING_CUTOFF\n",
    "    valid_mask = ~train_mask\n",
    "    splits = (list(dfCleaned[train_mask].index), list(dfCleaned[valid_mask].index))\n",
    "\n",
    "    if not splits[0] or not splits[1]:\n",
    "        raise ValueError(\"Empty training or validation split.\")\n",
    "\n",
    "    # Proceed with TabularPandas\n",
    "    to = TabularPandas(\n",
    "        dfCleaned, \n",
    "        procs=[Categorify, FillMissing, Normalize],\n",
    "        y_names=yNames,\n",
    "        cat_names=catNames, \n",
    "        cont_names=contNames,\n",
    "        splits=splits\n",
    "    )\n",
    "\n",
    "    dls = to.dataloaders(bs=batchSize)"
   ]
  },
  {
   "cell_type": "code",
   "execution_count": 44,
   "metadata": {},
   "outputs": [
    {
     "data": {
      "text/html": [
       "\n",
       "    <div>\n",
       "        <style>\n",
       "            /* Turns off some styling */\n",
       "            progress {\n",
       "                /* gets rid of default border in Firefox and Opera. */\n",
       "                border: none;\n",
       "                /* Needs to be in here for Safari polyfill so background images work as expected. */\n",
       "                background-size: auto;\n",
       "            }\n",
       "            .progress-bar-interrupted, .progress-bar-interrupted::-webkit-progress-bar {\n",
       "                background: #F44336;\n",
       "            }\n",
       "        </style>\n",
       "      <progress value='0' class='' max='1' style='width:300px; height:20px; vertical-align: middle;'></progress>\n",
       "      0.00% [0/1 00:00<00:00]\n",
       "    </div>\n",
       "    \n",
       "\n",
       "\n",
       "    <div>\n",
       "        <style>\n",
       "            /* Turns off some styling */\n",
       "            progress {\n",
       "                /* gets rid of default border in Firefox and Opera. */\n",
       "                border: none;\n",
       "                /* Needs to be in here for Safari polyfill so background images work as expected. */\n",
       "                background-size: auto;\n",
       "            }\n",
       "            .progress-bar-interrupted, .progress-bar-interrupted::-webkit-progress-bar {\n",
       "                background: #F44336;\n",
       "            }\n",
       "        </style>\n",
       "      <progress value='4' class='' max='399' style='width:300px; height:20px; vertical-align: middle;'></progress>\n",
       "      1.00% [4/399 00:01<02:26 0.5619]\n",
       "    </div>\n",
       "    "
      ],
      "text/plain": [
       "<IPython.core.display.HTML object>"
      ]
     },
     "metadata": {},
     "output_type": "display_data"
    },
    {
     "name": "stdout",
     "output_type": "stream",
     "text": [
      "Learning rate finder results: SuggestedLRs(minimum=1.318256749982538e-07, steep=9.12010818865383e-07)\n",
      "Training for 20 epochs...\n"
     ]
    },
    {
     "data": {
      "text/html": [
       "<table border=\"1\" class=\"dataframe\">\n",
       "  <thead>\n",
       "    <tr style=\"text-align: left;\">\n",
       "      <th>epoch</th>\n",
       "      <th>train_loss</th>\n",
       "      <th>valid_loss</th>\n",
       "      <th>_rmse</th>\n",
       "      <th>mae</th>\n",
       "      <th>time</th>\n",
       "    </tr>\n",
       "  </thead>\n",
       "  <tbody>\n",
       "    <tr>\n",
       "      <td>0</td>\n",
       "      <td>122.853729</td>\n",
       "      <td>0.241096</td>\n",
       "      <td>0.491015</td>\n",
       "      <td>0.359312</td>\n",
       "      <td>00:11</td>\n",
       "    </tr>\n",
       "    <tr>\n",
       "      <td>1</td>\n",
       "      <td>236.540298</td>\n",
       "      <td>0.279050</td>\n",
       "      <td>0.528252</td>\n",
       "      <td>0.360688</td>\n",
       "      <td>00:11</td>\n",
       "    </tr>\n",
       "    <tr>\n",
       "      <td>2</td>\n",
       "      <td>70.319817</td>\n",
       "      <td>0.210892</td>\n",
       "      <td>0.459230</td>\n",
       "      <td>0.334198</td>\n",
       "      <td>00:10</td>\n",
       "    </tr>\n",
       "    <tr>\n",
       "      <td>3</td>\n",
       "      <td>67.417587</td>\n",
       "      <td>9.647026</td>\n",
       "      <td>3.105966</td>\n",
       "      <td>0.336525</td>\n",
       "      <td>00:11</td>\n",
       "    </tr>\n",
       "    <tr>\n",
       "      <td>4</td>\n",
       "      <td>101.624313</td>\n",
       "      <td>0.208268</td>\n",
       "      <td>0.456364</td>\n",
       "      <td>0.340109</td>\n",
       "      <td>00:10</td>\n",
       "    </tr>\n",
       "    <tr>\n",
       "      <td>5</td>\n",
       "      <td>168.687119</td>\n",
       "      <td>0.197813</td>\n",
       "      <td>0.444761</td>\n",
       "      <td>0.319167</td>\n",
       "      <td>00:10</td>\n",
       "    </tr>\n",
       "    <tr>\n",
       "      <td>6</td>\n",
       "      <td>132.916412</td>\n",
       "      <td>0.478087</td>\n",
       "      <td>0.691438</td>\n",
       "      <td>0.313358</td>\n",
       "      <td>00:11</td>\n",
       "    </tr>\n",
       "    <tr>\n",
       "      <td>7</td>\n",
       "      <td>227.851196</td>\n",
       "      <td>0.190618</td>\n",
       "      <td>0.436599</td>\n",
       "      <td>0.316867</td>\n",
       "      <td>00:17</td>\n",
       "    </tr>\n",
       "    <tr>\n",
       "      <td>8</td>\n",
       "      <td>123.041595</td>\n",
       "      <td>0.201517</td>\n",
       "      <td>0.448906</td>\n",
       "      <td>0.330634</td>\n",
       "      <td>00:12</td>\n",
       "    </tr>\n",
       "    <tr>\n",
       "      <td>9</td>\n",
       "      <td>153.299866</td>\n",
       "      <td>0.197398</td>\n",
       "      <td>0.444295</td>\n",
       "      <td>0.322546</td>\n",
       "      <td>00:10</td>\n",
       "    </tr>\n",
       "    <tr>\n",
       "      <td>10</td>\n",
       "      <td>57.622150</td>\n",
       "      <td>0.191937</td>\n",
       "      <td>0.438106</td>\n",
       "      <td>0.318200</td>\n",
       "      <td>00:10</td>\n",
       "    </tr>\n",
       "    <tr>\n",
       "      <td>11</td>\n",
       "      <td>110.258011</td>\n",
       "      <td>0.207097</td>\n",
       "      <td>0.455079</td>\n",
       "      <td>0.332470</td>\n",
       "      <td>00:11</td>\n",
       "    </tr>\n",
       "    <tr>\n",
       "      <td>12</td>\n",
       "      <td>75.494118</td>\n",
       "      <td>0.206439</td>\n",
       "      <td>0.454356</td>\n",
       "      <td>0.328517</td>\n",
       "      <td>00:11</td>\n",
       "    </tr>\n",
       "    <tr>\n",
       "      <td>13</td>\n",
       "      <td>88.560379</td>\n",
       "      <td>0.279917</td>\n",
       "      <td>0.529072</td>\n",
       "      <td>0.318796</td>\n",
       "      <td>00:13</td>\n",
       "    </tr>\n",
       "    <tr>\n",
       "      <td>14</td>\n",
       "      <td>145.414780</td>\n",
       "      <td>0.193997</td>\n",
       "      <td>0.440451</td>\n",
       "      <td>0.317004</td>\n",
       "      <td>00:11</td>\n",
       "    </tr>\n",
       "    <tr>\n",
       "      <td>15</td>\n",
       "      <td>135.723373</td>\n",
       "      <td>0.197706</td>\n",
       "      <td>0.444642</td>\n",
       "      <td>0.322906</td>\n",
       "      <td>00:10</td>\n",
       "    </tr>\n",
       "    <tr>\n",
       "      <td>16</td>\n",
       "      <td>106.848480</td>\n",
       "      <td>0.192921</td>\n",
       "      <td>0.439228</td>\n",
       "      <td>0.315356</td>\n",
       "      <td>00:11</td>\n",
       "    </tr>\n",
       "    <tr>\n",
       "      <td>17</td>\n",
       "      <td>94.370598</td>\n",
       "      <td>0.814341</td>\n",
       "      <td>0.902409</td>\n",
       "      <td>0.324012</td>\n",
       "      <td>00:12</td>\n",
       "    </tr>\n",
       "    <tr>\n",
       "      <td>18</td>\n",
       "      <td>92.750893</td>\n",
       "      <td>0.204474</td>\n",
       "      <td>0.452188</td>\n",
       "      <td>0.331107</td>\n",
       "      <td>00:10</td>\n",
       "    </tr>\n",
       "    <tr>\n",
       "      <td>19</td>\n",
       "      <td>125.415619</td>\n",
       "      <td>0.206224</td>\n",
       "      <td>0.454119</td>\n",
       "      <td>0.333851</td>\n",
       "      <td>00:11</td>\n",
       "    </tr>\n",
       "  </tbody>\n",
       "</table>"
      ],
      "text/plain": [
       "<IPython.core.display.HTML object>"
      ]
     },
     "metadata": {},
     "output_type": "display_data"
    },
    {
     "name": "stdout",
     "output_type": "stream",
     "text": [
      "Model training complete\n"
     ]
    },
    {
     "data": {
      "image/png": "[encoded data removed]",
      "text/plain": [
       "<Figure size 640x480 with 1 Axes>"
      ]
     },
     "metadata": {},
     "output_type": "display_data"
    }
   ],
   "source": [
    "if trainNewModel:\n",
    "    learn = tabular_learner(dls, metrics=[rmse, mae])\n",
    "\n",
    "    # Learning rate finder\n",
    "    lr_find_results = learn.lr_find(suggest_funcs=(minimum, steep))\n",
    "\n",
    "    # Debugging information\n",
    "    print(f\"Learning rate finder results: {lr_find_results}\")\n",
    "\n",
    "    # Extract learning rates\n",
    "    lr_min, lr_steep = lr_find_results\n",
    "\n",
    "    # Check if learning rates are valid\n",
    "    if lr_min is None or lr_steep is None or lr_min == 0 or lr_steep == 0:\n",
    "        raise ValueError(\"Learning rate finder did not return valid learning rates.\")\n",
    "\n",
    "    # Train\n",
    "    print(f\"Training for {epochs} epochs...\")\n",
    "    learn.fit_one_cycle(epochs, lr_max=lr_steep)\n",
    "    print(\"Model training complete\")\n",
    "\n",
    "    learn.export(modelFolder / f'{modelName}.pkl')"
   ]
  },
  {
   "cell_type": "markdown",
   "metadata": {},
   "source": [
    "## Testing and benchmarking"
   ]
  },
  {
   "cell_type": "code",
   "execution_count": null,
   "metadata": {},
   "outputs": [
    {
     "name": "stderr",
     "output_type": "stream",
     "text": [
      "$JPM-D: possibly delisted; no timezone found\n"
     ]
    },
    {
     "name": "stdout",
     "output_type": "stream",
     "text": [
      "Error fetching data for JPM-D: No historical data available for JPM-D around 2024-01-29.\n"
     ]
    },
    {
     "name": "stderr",
     "output_type": "stream",
     "text": [
      "$WBB: possibly delisted; no price data found  (1d 2023-12-30 -> 2024-01-29)\n"
     ]
    },
    {
     "name": "stdout",
     "output_type": "stream",
     "text": [
      "Error fetching data for WBB: No historical data available for WBB around 2024-01-29.\n"
     ]
    },
    {
     "name": "stderr",
     "output_type": "stream",
     "text": [
      "$CONE: possibly delisted; no timezone found\n"
     ]
    },
    {
     "name": "stdout",
     "output_type": "stream",
     "text": [
      "Error fetching data for CONE: No historical data available for CONE around 2024-01-29.\n"
     ]
    },
    {
     "name": "stderr",
     "output_type": "stream",
     "text": [
      "$DATE: possibly delisted; no price data found  (1d 2023-12-30 -> 2024-01-29)\n"
     ]
    },
    {
     "name": "stdout",
     "output_type": "stream",
     "text": [
      "Error fetching data for DATE: No historical data available for DATE around 2024-01-29.\n"
     ]
    },
    {
     "name": "stderr",
     "output_type": "stream",
     "text": [
      "$GPX: possibly delisted; no timezone found\n"
     ]
    },
    {
     "name": "stdout",
     "output_type": "stream",
     "text": [
      "Error fetching data for GPX: No historical data available for GPX around 2024-01-29.\n"
     ]
    },
    {
     "name": "stderr",
     "output_type": "stream",
     "text": [
      "$GG: possibly delisted; no timezone found\n"
     ]
    },
    {
     "name": "stdout",
     "output_type": "stream",
     "text": [
      "Error fetching data for GG: No historical data available for GG around 2024-01-29.\n"
     ]
    },
    {
     "name": "stderr",
     "output_type": "stream",
     "text": [
      "$TCB.W: possibly delisted; no timezone found\n",
      "$ARO: possibly delisted; no price data found  (1d 2023-12-30 -> 2024-01-29)\n",
      "$ACAT: possibly delisted; no price data found  (1d 2023-12-30 -> 2024-01-29)\n"
     ]
    },
    {
     "name": "stdout",
     "output_type": "stream",
     "text": [
      "Error fetching data for TCB.W: No historical data available for TCB.W around 2024-01-29.\n",
      "Error fetching data for ARO: No historical data available for ARO around 2024-01-29.\n",
      "Error fetching data for ACAT: No historical data available for ACAT around 2024-01-29.\n",
      "Error fetching data for CHSCP: unsupported operand type(s) for /: 'NoneType' and 'float'\n"
     ]
    },
    {
     "name": "stderr",
     "output_type": "stream",
     "text": [
      "$UBA: possibly delisted; no timezone found\n",
      "$GMT: possibly delisted; no price data found  (1d 2023-12-30 -> 2024-01-29)\n"
     ]
    },
    {
     "name": "stdout",
     "output_type": "stream",
     "text": [
      "Error fetching data for UBA: No historical data available for UBA around 2024-01-29.\n",
      "Error fetching data for GMT: No historical data available for GMT around 2024-01-29.\n"
     ]
    },
    {
     "name": "stderr",
     "output_type": "stream",
     "text": [
      "$TCB-B: possibly delisted; no timezone found\n",
      "$QTWW: possibly delisted; no price data found  (1d 2023-12-30 -> 2024-01-29)\n"
     ]
    },
    {
     "name": "stdout",
     "output_type": "stream",
     "text": [
      "Error fetching data for TCB-B: No historical data available for TCB-B around 2024-01-29.\n",
      "Error fetching data for QTWW: No historical data available for QTWW around 2024-01-29.\n"
     ]
    },
    {
     "name": "stderr",
     "output_type": "stream",
     "text": [
      "$CCIH: possibly delisted; no price data found  (1d 2023-12-30 -> 2024-01-29)\n",
      "$AOI: possibly delisted; no price data found  (1d 2023-12-30 -> 2024-01-29)\n"
     ]
    },
    {
     "name": "stdout",
     "output_type": "stream",
     "text": [
      "Error fetching data for CCIH: No historical data available for CCIH around 2024-01-29.\n",
      "Error fetching data for AOI: No historical data available for AOI around 2024-01-29.\n"
     ]
    },
    {
     "name": "stderr",
     "output_type": "stream",
     "text": [
      "$MCGC: possibly delisted; no price data found  (1d 2023-12-30 -> 2024-01-29)\n"
     ]
    },
    {
     "name": "stdout",
     "output_type": "stream",
     "text": [
      "Error fetching data for MCGC: No historical data available for MCGC around 2024-01-29.\n"
     ]
    },
    {
     "name": "stderr",
     "output_type": "stream",
     "text": [
      "$EIHI: possibly delisted; no price data found  (1d 2023-12-30 -> 2024-01-29)\n"
     ]
    },
    {
     "name": "stdout",
     "output_type": "stream",
     "text": [
      "Error fetching data for EIHI: No historical data available for EIHI around 2024-01-29.\n"
     ]
    },
    {
     "name": "stderr",
     "output_type": "stream",
     "text": [
      "$STI.A: possibly delisted; no timezone found\n"
     ]
    },
    {
     "name": "stdout",
     "output_type": "stream",
     "text": [
      "Error fetching data for STI.A: No historical data available for STI.A around 2024-01-29.\n"
     ]
    },
    {
     "name": "stderr",
     "output_type": "stream",
     "text": [
      "$IDTI: possibly delisted; no timezone found\n"
     ]
    },
    {
     "name": "stdout",
     "output_type": "stream",
     "text": [
      "Error fetching data for IDTI: No historical data available for IDTI around 2024-01-29.\n"
     ]
    },
    {
     "name": "stderr",
     "output_type": "stream",
     "text": [
      "$HPJ: possibly delisted; no timezone found\n"
     ]
    },
    {
     "name": "stdout",
     "output_type": "stream",
     "text": [
      "Error fetching data for HPJ: No historical data available for HPJ around 2024-01-29.\n"
     ]
    },
    {
     "name": "stderr",
     "output_type": "stream",
     "text": [
      "$MBT: possibly delisted; no timezone found\n",
      "$SCMP: possibly delisted; no price data found  (1d 2023-12-30 -> 2024-01-29)\n"
     ]
    },
    {
     "name": "stdout",
     "output_type": "stream",
     "text": [
      "Error fetching data for MBT: No historical data available for MBT around 2024-01-29.\n",
      "Error fetching data for SCMP: No historical data available for SCMP around 2024-01-29.\n"
     ]
    },
    {
     "name": "stderr",
     "output_type": "stream",
     "text": [
      "$RBS-L: possibly delisted; no timezone found\n"
     ]
    },
    {
     "name": "stdout",
     "output_type": "stream",
     "text": [
      "Error fetching data for RBS-L: No historical data available for RBS-L around 2024-01-29.\n"
     ]
    },
    {
     "name": "stderr",
     "output_type": "stream",
     "text": [
      "$NILE: possibly delisted; no timezone found\n"
     ]
    },
    {
     "name": "stdout",
     "output_type": "stream",
     "text": [
      "Error fetching data for NILE: No historical data available for NILE around 2024-01-29.\n"
     ]
    },
    {
     "name": "stderr",
     "output_type": "stream",
     "text": [
      "$MEILW: possibly delisted; no timezone found\n",
      "$ROSG: possibly delisted; no price data found  (1d 2023-12-30 -> 2024-01-29)\n"
     ]
    },
    {
     "name": "stdout",
     "output_type": "stream",
     "text": [
      "Error fetching data for MEILW: No historical data available for MEILW around 2024-01-29.\n",
      "Error fetching data for ROSG: No historical data available for ROSG around 2024-01-29.\n"
     ]
    },
    {
     "name": "stderr",
     "output_type": "stream",
     "text": [
      "$HAR: possibly delisted; no price data found  (1d 2023-12-30 -> 2024-01-29)\n"
     ]
    },
    {
     "name": "stdout",
     "output_type": "stream",
     "text": [
      "Error fetching data for HAR: No historical data available for HAR around 2024-01-29.\n"
     ]
    },
    {
     "name": "stderr",
     "output_type": "stream",
     "text": [
      "$HAV: possibly delisted; no timezone found\n",
      "$FSC: possibly delisted; no price data found  (1d 2023-12-30 -> 2024-01-29)\n"
     ]
    },
    {
     "name": "stdout",
     "output_type": "stream",
     "text": [
      "Error fetching data for HAV: No historical data available for HAV around 2024-01-29.\n",
      "Error fetching data for FSC: No historical data available for FSC around 2024-01-29.\n"
     ]
    },
    {
     "name": "stderr",
     "output_type": "stream",
     "text": [
      "$MTB.P: possibly delisted; no price data found  (1d 2023-12-30 -> 2024-01-29)\n"
     ]
    },
    {
     "name": "stdout",
     "output_type": "stream",
     "text": [
      "Error fetching data for MTB.P: No historical data available for MTB.P around 2024-01-29.\n"
     ]
    },
    {
     "name": "stderr",
     "output_type": "stream",
     "text": [
      "$GDI: possibly delisted; no timezone found\n"
     ]
    },
    {
     "name": "stdout",
     "output_type": "stream",
     "text": [
      "Error fetching data for GDI: No historical data available for GDI around 2024-01-29.\n"
     ]
    },
    {
     "name": "stderr",
     "output_type": "stream",
     "text": [
      "$PL-C: possibly delisted; no timezone found\n"
     ]
    },
    {
     "name": "stdout",
     "output_type": "stream",
     "text": [
      "Error fetching data for PL-C: No historical data available for PL-C around 2024-01-29.\n"
     ]
    },
    {
     "name": "stderr",
     "output_type": "stream",
     "text": [
      "$PGNX: possibly delisted; no timezone found\n"
     ]
    },
    {
     "name": "stdout",
     "output_type": "stream",
     "text": [
      "Error fetching data for PGNX: No historical data available for PGNX around 2024-01-29.\n"
     ]
    },
    {
     "name": "stderr",
     "output_type": "stream",
     "text": [
      "$SPHS: possibly delisted; no timezone found\n",
      "$LFL: possibly delisted; no price data found  (1d 2023-12-30 -> 2024-01-29)\n"
     ]
    },
    {
     "name": "stdout",
     "output_type": "stream",
     "text": [
      "Error fetching data for SPHS: No historical data available for SPHS around 2024-01-29.\n",
      "Error fetching data for LFL: No historical data available for LFL around 2024-01-29.\n"
     ]
    },
    {
     "name": "stderr",
     "output_type": "stream",
     "text": [
      "$PYB: possibly delisted; no price data found  (1d 2023-12-30 -> 2024-01-29)\n"
     ]
    },
    {
     "name": "stdout",
     "output_type": "stream",
     "text": [
      "Error fetching data for PYB: No historical data available for PYB around 2024-01-29.\n"
     ]
    },
    {
     "name": "stderr",
     "output_type": "stream",
     "text": [
      "$NPV-D: possibly delisted; no timezone found\n",
      "$RDS.B: possibly delisted; no price data found  (1d 2023-12-30 -> 2024-01-29)\n",
      "$SPCHB: possibly delisted; no price data found  (1d 2023-12-30 -> 2024-01-29)\n"
     ]
    },
    {
     "name": "stdout",
     "output_type": "stream",
     "text": [
      "Error fetching data for NPV-D: No historical data available for NPV-D around 2024-01-29.\n",
      "Error fetching data for RDS.B: No historical data available for RDS.B around 2024-01-29.\n",
      "Error fetching data for SPCHB: No historical data available for SPCHB around 2024-01-29.\n"
     ]
    },
    {
     "name": "stderr",
     "output_type": "stream",
     "text": [
      "$WAVX: possibly delisted; no price data found  (1d 2023-12-30 -> 2024-01-29)\n",
      "$BTUI: possibly delisted; no price data found  (1d 2023-12-30 -> 2024-01-29)\n"
     ]
    },
    {
     "name": "stdout",
     "output_type": "stream",
     "text": [
      "Error fetching data for WAVX: No historical data available for WAVX around 2024-01-29.\n",
      "Error fetching data for BTUI: No historical data available for BTUI around 2024-01-29.\n"
     ]
    },
    {
     "name": "stderr",
     "output_type": "stream",
     "text": [
      "$SPEX: possibly delisted; no timezone found\n",
      "$IMN: possibly delisted; no price data found  (1d 2023-12-30 -> 2024-01-29)\n"
     ]
    },
    {
     "name": "stdout",
     "output_type": "stream",
     "text": [
      "Error fetching data for SPEX: No historical data available for SPEX around 2024-01-29.\n",
      "Error fetching data for IMN: No historical data available for IMN around 2024-01-29.\n"
     ]
    },
    {
     "name": "stderr",
     "output_type": "stream",
     "text": [
      "$DTLK: possibly delisted; no price data found  (1d 2023-12-30 -> 2024-01-29)\n"
     ]
    },
    {
     "name": "stdout",
     "output_type": "stream",
     "text": [
      "Error fetching data for DTLK: No historical data available for DTLK around 2024-01-29.\n"
     ]
    },
    {
     "name": "stderr",
     "output_type": "stream",
     "text": [
      "$DXB: possibly delisted; no timezone found\n",
      "$NBCB: possibly delisted; no price data found  (1d 2023-12-30 -> 2024-01-29)\n"
     ]
    },
    {
     "name": "stdout",
     "output_type": "stream",
     "text": [
      "Error fetching data for DXB: No historical data available for DXB around 2024-01-29.\n",
      "Error fetching data for NBCB: No historical data available for NBCB around 2024-01-29.\n"
     ]
    },
    {
     "name": "stderr",
     "output_type": "stream",
     "text": [
      "$NEE-H: possibly delisted; no timezone found\n"
     ]
    },
    {
     "name": "stdout",
     "output_type": "stream",
     "text": [
      "Error fetching data for NEE-H: No historical data available for NEE-H around 2024-01-29.\n"
     ]
    },
    {
     "name": "stderr",
     "output_type": "stream",
     "text": [
      "$MHFI: possibly delisted; no price data found  (1d 2023-12-30 -> 2024-01-29)\n"
     ]
    },
    {
     "name": "stdout",
     "output_type": "stream",
     "text": [
      "Error fetching data for MHFI: No historical data available for MHFI around 2024-01-29.\n"
     ]
    },
    {
     "name": "stderr",
     "output_type": "stream",
     "text": [
      "$SNH: possibly delisted; no timezone found\n"
     ]
    },
    {
     "name": "stdout",
     "output_type": "stream",
     "text": [
      "Error fetching data for SNH: No historical data available for SNH around 2024-01-29.\n"
     ]
    },
    {
     "name": "stderr",
     "output_type": "stream",
     "text": [
      "$COWN: possibly delisted; no timezone found\n"
     ]
    },
    {
     "name": "stdout",
     "output_type": "stream",
     "text": [
      "Error fetching data for COWN: No historical data available for COWN around 2024-01-29.\n"
     ]
    },
    {
     "name": "stderr",
     "output_type": "stream",
     "text": [
      "$CRZO: possibly delisted; no timezone found\n"
     ]
    },
    {
     "name": "stdout",
     "output_type": "stream",
     "text": [
      "Error fetching data for CRZO: No historical data available for CRZO around 2024-01-29.\n"
     ]
    },
    {
     "name": "stderr",
     "output_type": "stream",
     "text": [
      "$PFG-B: possibly delisted; no timezone found\n",
      "$LIQD: possibly delisted; no price data found  (1d 2023-12-30 -> 2024-01-29)\n"
     ]
    },
    {
     "name": "stdout",
     "output_type": "stream",
     "text": [
      "Error fetching data for PFG-B: No historical data available for PFG-B around 2024-01-29.\n",
      "Error fetching data for LIQD: No historical data available for LIQD around 2024-01-29.\n"
     ]
    },
    {
     "name": "stderr",
     "output_type": "stream",
     "text": [
      "$HIH: possibly delisted; no price data found  (1d 2023-12-30 -> 2024-01-29)\n",
      "$BMS: possibly delisted; no price data found  (1d 2023-12-30 -> 2024-01-29)\n"
     ]
    },
    {
     "name": "stdout",
     "output_type": "stream",
     "text": [
      "Error fetching data for HIH: No historical data available for HIH around 2024-01-29.\n",
      "Error fetching data for BMS: No historical data available for BMS around 2024-01-29.\n"
     ]
    },
    {
     "name": "stderr",
     "output_type": "stream",
     "text": [
      "$RTIX: possibly delisted; no timezone found\n"
     ]
    },
    {
     "name": "stdout",
     "output_type": "stream",
     "text": [
      "Error fetching data for RTIX: No historical data available for RTIX around 2024-01-29.\n"
     ]
    },
    {
     "name": "stderr",
     "output_type": "stream",
     "text": [
      "$OCR: possibly delisted; no price data found  (1d 2023-12-30 -> 2024-01-29)\n"
     ]
    },
    {
     "name": "stdout",
     "output_type": "stream",
     "text": [
      "Error fetching data for OCR: No historical data available for OCR around 2024-01-29.\n"
     ]
    },
    {
     "name": "stderr",
     "output_type": "stream",
     "text": [
      "$ENVI: possibly delisted; no timezone found\n"
     ]
    },
    {
     "name": "stdout",
     "output_type": "stream",
     "text": [
      "Error fetching data for ENVI: No historical data available for ENVI around 2024-01-29.\n"
     ]
    },
    {
     "name": "stderr",
     "output_type": "stream",
     "text": [
      "$STI-A: possibly delisted; no timezone found\n"
     ]
    },
    {
     "name": "stdout",
     "output_type": "stream",
     "text": [
      "Error fetching data for STI-A: No historical data available for STI-A around 2024-01-29.\n"
     ]
    },
    {
     "name": "stderr",
     "output_type": "stream",
     "text": [
      "$TFG: possibly delisted; no price data found  (1d 2023-12-30 -> 2024-01-29)\n"
     ]
    },
    {
     "name": "stdout",
     "output_type": "stream",
     "text": [
      "Error fetching data for TFG: No historical data available for TFG around 2024-01-29.\n"
     ]
    },
    {
     "name": "stderr",
     "output_type": "stream",
     "text": [
      "$MRO: possibly delisted; no timezone found\n"
     ]
    },
    {
     "name": "stdout",
     "output_type": "stream",
     "text": [
      "Error fetching data for MRO: No historical data available for MRO around 2024-01-29.\n"
     ]
    },
    {
     "name": "stderr",
     "output_type": "stream",
     "text": [
      "$TAX: possibly delisted; no price data found  (1d 2023-12-30 -> 2024-01-29) (Yahoo error = \"Data doesn't exist for startDate = 1703912400, endDate = 1706504400\")\n"
     ]
    },
    {
     "name": "stdout",
     "output_type": "stream",
     "text": [
      "Error fetching data for TAX: No historical data available for TAX around 2024-01-29.\n"
     ]
    },
    {
     "name": "stderr",
     "output_type": "stream",
     "text": [
      "$FBS-A: possibly delisted; no timezone found\n"
     ]
    },
    {
     "name": "stdout",
     "output_type": "stream",
     "text": [
      "Error fetching data for FBS-A: No historical data available for FBS-A around 2024-01-29.\n"
     ]
    },
    {
     "name": "stderr",
     "output_type": "stream",
     "text": [
      "$PFIN: possibly delisted; no timezone found\n"
     ]
    },
    {
     "name": "stdout",
     "output_type": "stream",
     "text": [
      "Error fetching data for PFIN: No historical data available for PFIN around 2024-01-29.\n"
     ]
    },
    {
     "name": "stderr",
     "output_type": "stream",
     "text": [
      "$GY: possibly delisted; no price data found  (1d 2023-12-30 -> 2024-01-29)\n",
      "$ITC: possibly delisted; no price data found  (1d 2023-12-30 -> 2024-01-29)\n"
     ]
    },
    {
     "name": "stdout",
     "output_type": "stream",
     "text": [
      "Error fetching data for GY: No historical data available for GY around 2024-01-29.\n",
      "Error fetching data for ITC: No historical data available for ITC around 2024-01-29.\n"
     ]
    },
    {
     "name": "stderr",
     "output_type": "stream",
     "text": [
      "$SEM.W: possibly delisted; no timezone found\n"
     ]
    },
    {
     "name": "stdout",
     "output_type": "stream",
     "text": [
      "Error fetching data for SEM.W: No historical data available for SEM.W around 2024-01-29.\n"
     ]
    },
    {
     "name": "stderr",
     "output_type": "stream",
     "text": [
      "$VRTB: possibly delisted; no timezone found\n"
     ]
    },
    {
     "name": "stdout",
     "output_type": "stream",
     "text": [
      "Error fetching data for VRTB: No historical data available for VRTB around 2024-01-29.\n"
     ]
    },
    {
     "name": "stderr",
     "output_type": "stream",
     "text": [
      "$REGI: possibly delisted; no price data found  (1d 2023-12-30 -> 2024-01-29)\n"
     ]
    },
    {
     "name": "stdout",
     "output_type": "stream",
     "text": [
      "Error fetching data for REGI: No historical data available for REGI around 2024-01-29.\n"
     ]
    },
    {
     "name": "stderr",
     "output_type": "stream",
     "text": [
      "$CYBE: possibly delisted; no timezone found\n"
     ]
    },
    {
     "name": "stdout",
     "output_type": "stream",
     "text": [
      "Error fetching data for CYBE: No historical data available for CYBE around 2024-01-29.\n"
     ]
    },
    {
     "name": "stderr",
     "output_type": "stream",
     "text": [
      "$HBA-Z: possibly delisted; no timezone found\n"
     ]
    },
    {
     "name": "stdout",
     "output_type": "stream",
     "text": [
      "Error fetching data for HBA-Z: No historical data available for HBA-Z around 2024-01-29.\n"
     ]
    },
    {
     "name": "stderr",
     "output_type": "stream",
     "text": [
      "$CLV: possibly delisted; no price data found  (1d 2023-12-30 -> 2024-01-29)\n",
      "$PBNY: possibly delisted; no price data found  (1d 2023-12-30 -> 2024-01-29)\n"
     ]
    },
    {
     "name": "stdout",
     "output_type": "stream",
     "text": [
      "Error fetching data for CLV: No historical data available for CLV around 2024-01-29.\n",
      "Error fetching data for PBNY: No historical data available for PBNY around 2024-01-29.\n"
     ]
    },
    {
     "name": "stderr",
     "output_type": "stream",
     "text": [
      "$NDZ: possibly delisted; no price data found  (1d 2023-12-30 -> 2024-01-29)\n",
      "$SSS: possibly delisted; no price data found  (1d 2023-12-30 -> 2024-01-29)\n"
     ]
    },
    {
     "name": "stdout",
     "output_type": "stream",
     "text": [
      "Error fetching data for NDZ: No historical data available for NDZ around 2024-01-29.\n",
      "Error fetching data for SSS: No historical data available for SSS around 2024-01-29.\n"
     ]
    },
    {
     "name": "stderr",
     "output_type": "stream",
     "text": [
      "$HTWO: possibly delisted; no timezone found\n"
     ]
    },
    {
     "name": "stdout",
     "output_type": "stream",
     "text": [
      "Error fetching data for HTWO: No historical data available for HTWO around 2024-01-29.\n"
     ]
    },
    {
     "name": "stderr",
     "output_type": "stream",
     "text": [
      "$HLS: possibly delisted; no price data found  (1d 2023-12-30 -> 2024-01-29)\n",
      "$CISG: possibly delisted; no price data found  (1d 2023-12-30 -> 2024-01-29)\n"
     ]
    },
    {
     "name": "stdout",
     "output_type": "stream",
     "text": [
      "Error fetching data for HLS: No historical data available for HLS around 2024-01-29.\n",
      "Error fetching data for CISG: No historical data available for CISG around 2024-01-29.\n"
     ]
    },
    {
     "name": "stderr",
     "output_type": "stream",
     "text": [
      "$SBGL: possibly delisted; no timezone found\n"
     ]
    },
    {
     "name": "stdout",
     "output_type": "stream",
     "text": [
      "Error fetching data for SBGL: No historical data available for SBGL around 2024-01-29.\n"
     ]
    },
    {
     "name": "stderr",
     "output_type": "stream",
     "text": [
      "$HPT-D: possibly delisted; no timezone found\n"
     ]
    },
    {
     "name": "stdout",
     "output_type": "stream",
     "text": [
      "Error fetching data for HPT-D: No historical data available for HPT-D around 2024-01-29.\n"
     ]
    },
    {
     "name": "stderr",
     "output_type": "stream",
     "text": [
      "$EDS: possibly delisted; no price data found  (1d 2023-12-30 -> 2024-01-29)\n",
      "$HUB.B: possibly delisted; no price data found  (1d 2023-12-30 -> 2024-01-29)\n"
     ]
    },
    {
     "name": "stdout",
     "output_type": "stream",
     "text": [
      "Error fetching data for EDS: No historical data available for EDS around 2024-01-29.\n",
      "Error fetching data for HUB.B: No historical data available for HUB.B around 2024-01-29.\n"
     ]
    },
    {
     "name": "stderr",
     "output_type": "stream",
     "text": [
      "$GLADP: possibly delisted; no timezone found\n"
     ]
    },
    {
     "name": "stdout",
     "output_type": "stream",
     "text": [
      "Error fetching data for GLADP: No historical data available for GLADP around 2024-01-29.\n"
     ]
    },
    {
     "name": "stderr",
     "output_type": "stream",
     "text": [
      "$CNDO: possibly delisted; no price data found  (1d 2023-12-30 -> 2024-01-29)\n"
     ]
    },
    {
     "name": "stdout",
     "output_type": "stream",
     "text": [
      "Error fetching data for CNDO: No historical data available for CNDO around 2024-01-29.\n"
     ]
    },
    {
     "name": "stderr",
     "output_type": "stream",
     "text": [
      "$CLACU: possibly delisted; no price data found  (1d 2023-12-30 -> 2024-01-29)\n"
     ]
    },
    {
     "name": "stdout",
     "output_type": "stream",
     "text": [
      "Error fetching data for CLACU: No historical data available for CLACU around 2024-01-29.\n"
     ]
    },
    {
     "name": "stderr",
     "output_type": "stream",
     "text": [
      "$PSTR: possibly delisted; no price data found  (1d 2023-12-30 -> 2024-01-29) (Yahoo error = \"Data doesn't exist for startDate = 1703912400, endDate = 1706504400\")\n"
     ]
    },
    {
     "name": "stdout",
     "output_type": "stream",
     "text": [
      "Error fetching data for PSTR: No historical data available for PSTR around 2024-01-29.\n"
     ]
    },
    {
     "name": "stderr",
     "output_type": "stream",
     "text": [
      "$SLW: possibly delisted; no price data found  (1d 2023-12-30 -> 2024-01-29)\n"
     ]
    },
    {
     "name": "stdout",
     "output_type": "stream",
     "text": [
      "Error fetching data for SLW: No historical data available for SLW around 2024-01-29.\n"
     ]
    },
    {
     "name": "stderr",
     "output_type": "stream",
     "text": [
      "$NSM: possibly delisted; no price data found  (1d 2023-12-30 -> 2024-01-29)\n",
      "$MXT: possibly delisted; no price data found  (1d 2023-12-30 -> 2024-01-29)\n"
     ]
    },
    {
     "name": "stdout",
     "output_type": "stream",
     "text": [
      "Error fetching data for NSM: No historical data available for NSM around 2024-01-29.\n",
      "Error fetching data for MXT: No historical data available for MXT around 2024-01-29.\n"
     ]
    },
    {
     "name": "stderr",
     "output_type": "stream",
     "text": [
      "$CIDM: possibly delisted; no timezone found\n",
      "$ICA: possibly delisted; no price data found  (1d 2023-12-30 -> 2024-01-29)\n"
     ]
    },
    {
     "name": "stdout",
     "output_type": "stream",
     "text": [
      "Error fetching data for CIDM: No historical data available for CIDM around 2024-01-29.\n",
      "Error fetching data for ICA: No historical data available for ICA around 2024-01-29.\n"
     ]
    },
    {
     "name": "stderr",
     "output_type": "stream",
     "text": [
      "$PVTB: possibly delisted; no price data found  (1d 2023-12-30 -> 2024-01-29)\n",
      "$NVEEU: possibly delisted; no price data found  (1d 2023-12-30 -> 2024-01-29)\n",
      "$CNBC: possibly delisted; no price data found  (1d 2023-12-30 -> 2024-01-29)\n"
     ]
    },
    {
     "name": "stdout",
     "output_type": "stream",
     "text": [
      "Error fetching data for PVTB: No historical data available for PVTB around 2024-01-29.\n",
      "Error fetching data for NVEEU: No historical data available for NVEEU around 2024-01-29.\n",
      "Error fetching data for CNBC: No historical data available for CNBC around 2024-01-29.\n"
     ]
    },
    {
     "name": "stderr",
     "output_type": "stream",
     "text": [
      "$SCSS: possibly delisted; no price data found  (1d 2023-12-30 -> 2024-01-29)\n"
     ]
    },
    {
     "name": "stdout",
     "output_type": "stream",
     "text": [
      "Error fetching data for SCSS: No historical data available for SCSS around 2024-01-29.\n"
     ]
    },
    {
     "name": "stderr",
     "output_type": "stream",
     "text": [
      "$CPSI: possibly delisted; no timezone found\n"
     ]
    },
    {
     "name": "stdout",
     "output_type": "stream",
     "text": [
      "Error fetching data for CPSI: No historical data available for CPSI around 2024-01-29.\n"
     ]
    },
    {
     "name": "stderr",
     "output_type": "stream",
     "text": [
      "$FRC-A: possibly delisted; no timezone found\n"
     ]
    },
    {
     "name": "stdout",
     "output_type": "stream",
     "text": [
      "Error fetching data for FRC-A: No historical data available for FRC-A around 2024-01-29.\n"
     ]
    },
    {
     "name": "stderr",
     "output_type": "stream",
     "text": [
      "$PPX: possibly delisted; no timezone found\n"
     ]
    },
    {
     "name": "stdout",
     "output_type": "stream",
     "text": [
      "Error fetching data for PPX: No historical data available for PPX around 2024-01-29.\n"
     ]
    },
    {
     "name": "stderr",
     "output_type": "stream",
     "text": [
      "$HOTR: possibly delisted; no price data found  (1d 2023-12-30 -> 2024-01-29)\n"
     ]
    },
    {
     "name": "stdout",
     "output_type": "stream",
     "text": [
      "Error fetching data for HOTR: No historical data available for HOTR around 2024-01-29.\n"
     ]
    },
    {
     "name": "stderr",
     "output_type": "stream",
     "text": [
      "$RFMD: possibly delisted; no price data found  (1d 2023-12-30 -> 2024-01-29)\n"
     ]
    },
    {
     "name": "stdout",
     "output_type": "stream",
     "text": [
      "Error fetching data for RFMD: No historical data available for RFMD around 2024-01-29.\n"
     ]
    },
    {
     "name": "stderr",
     "output_type": "stream",
     "text": [
      "$HCCI: possibly delisted; no timezone found\n",
      "$URRE: possibly delisted; no price data found  (1d 2023-12-30 -> 2024-01-29)\n"
     ]
    },
    {
     "name": "stdout",
     "output_type": "stream",
     "text": [
      "Error fetching data for HCCI: No historical data available for HCCI around 2024-01-29.\n",
      "Error fetching data for URRE: No historical data available for URRE around 2024-01-29.\n"
     ]
    },
    {
     "name": "stderr",
     "output_type": "stream",
     "text": [
      "$FLY: possibly delisted; no timezone found\n",
      "$LTON: possibly delisted; no price data found  (1d 2023-12-30 -> 2024-01-29)\n",
      "$EDMC: possibly delisted; no price data found  (1d 2023-12-30 -> 2024-01-29)\n"
     ]
    },
    {
     "name": "stdout",
     "output_type": "stream",
     "text": [
      "Error fetching data for FLY: No historical data available for FLY around 2024-01-29.\n",
      "Error fetching data for LTON: No historical data available for LTON around 2024-01-29.\n",
      "Error fetching data for EDMC: No historical data available for EDMC around 2024-01-29.\n"
     ]
    },
    {
     "name": "stderr",
     "output_type": "stream",
     "text": [
      "$EGL: possibly delisted; no price data found  (1d 2023-12-30 -> 2024-01-29)\n"
     ]
    },
    {
     "name": "stdout",
     "output_type": "stream",
     "text": [
      "Error fetching data for EGL: No historical data available for EGL around 2024-01-29.\n"
     ]
    },
    {
     "name": "stderr",
     "output_type": "stream",
     "text": [
      "$CVG: possibly delisted; no price data found  (period=1d)\n",
      "$NQS: possibly delisted; no price data found  (1d 2023-12-30 -> 2024-01-29)\n"
     ]
    },
    {
     "name": "stdout",
     "output_type": "stream",
     "text": [
      "Error fetching data for CVG: single positional indexer is out-of-bounds\n",
      "Error fetching data for NQS: No historical data available for NQS around 2024-01-29.\n"
     ]
    },
    {
     "name": "stderr",
     "output_type": "stream",
     "text": [
      "$AGU: possibly delisted; no price data found  (1d 2023-12-30 -> 2024-01-29)\n"
     ]
    },
    {
     "name": "stdout",
     "output_type": "stream",
     "text": [
      "Error fetching data for AGU: No historical data available for AGU around 2024-01-29.\n"
     ]
    },
    {
     "name": "stderr",
     "output_type": "stream",
     "text": [
      "$OIIM: possibly delisted; no timezone found\n"
     ]
    },
    {
     "name": "stdout",
     "output_type": "stream",
     "text": [
      "Error fetching data for OIIM: No historical data available for OIIM around 2024-01-29.\n"
     ]
    },
    {
     "name": "stderr",
     "output_type": "stream",
     "text": [
      "$AAWW: possibly delisted; no timezone found\n"
     ]
    },
    {
     "name": "stdout",
     "output_type": "stream",
     "text": [
      "Error fetching data for AAWW: No historical data available for AAWW around 2024-01-29.\n"
     ]
    },
    {
     "name": "stderr",
     "output_type": "stream",
     "text": [
      "$AFSD: possibly delisted; no timezone found\n"
     ]
    },
    {
     "name": "stdout",
     "output_type": "stream",
     "text": [
      "Error fetching data for AFSD: No historical data available for AFSD around 2024-01-29.\n"
     ]
    },
    {
     "name": "stderr",
     "output_type": "stream",
     "text": [
      "$BCS-D: possibly delisted; no timezone found\n",
      "$SHFL: possibly delisted; no price data found  (1d 2023-12-30 -> 2024-01-29)\n"
     ]
    },
    {
     "name": "stdout",
     "output_type": "stream",
     "text": [
      "Error fetching data for BCS-D: No historical data available for BCS-D around 2024-01-29.\n",
      "Error fetching data for SHFL: No historical data available for SHFL around 2024-01-29.\n"
     ]
    },
    {
     "name": "stderr",
     "output_type": "stream",
     "text": [
      "$TTP: possibly delisted; no price data found  (period=1d)\n"
     ]
    },
    {
     "name": "stdout",
     "output_type": "stream",
     "text": [
      "Error fetching data for TTP: single positional indexer is out-of-bounds\n"
     ]
    },
    {
     "name": "stderr",
     "output_type": "stream",
     "text": [
      "$GRR: possibly delisted; no price data found  (1d 2023-12-30 -> 2024-01-29)\n",
      "$XTEX: possibly delisted; no price data found  (1d 2023-12-30 -> 2024-01-29)\n",
      "$CBEY: possibly delisted; no price data found  (1d 2023-12-30 -> 2024-01-29)\n"
     ]
    },
    {
     "name": "stdout",
     "output_type": "stream",
     "text": [
      "Error fetching data for GRR: No historical data available for GRR around 2024-01-29.\n",
      "Error fetching data for XTEX: No historical data available for XTEX around 2024-01-29.\n",
      "Error fetching data for CBEY: No historical data available for CBEY around 2024-01-29.\n"
     ]
    },
    {
     "name": "stderr",
     "output_type": "stream",
     "text": [
      "$DXPS: possibly delisted; no timezone found\n"
     ]
    },
    {
     "name": "stdout",
     "output_type": "stream",
     "text": [
      "Error fetching data for DXPS: No historical data available for DXPS around 2024-01-29.\n"
     ]
    },
    {
     "name": "stderr",
     "output_type": "stream",
     "text": [
      "$XEC: possibly delisted; no timezone found\n"
     ]
    },
    {
     "name": "stdout",
     "output_type": "stream",
     "text": [
      "Error fetching data for XEC: No historical data available for XEC around 2024-01-29.\n"
     ]
    },
    {
     "name": "stderr",
     "output_type": "stream",
     "text": [
      "$ARNA: possibly delisted; no timezone found\n"
     ]
    },
    {
     "name": "stdout",
     "output_type": "stream",
     "text": [
      "Error fetching data for ARNA: No historical data available for ARNA around 2024-01-29.\n"
     ]
    },
    {
     "name": "stderr",
     "output_type": "stream",
     "text": [
      "$WSCI: possibly delisted; no price data found  (1d 2023-12-30 -> 2024-01-29)\n"
     ]
    },
    {
     "name": "stdout",
     "output_type": "stream",
     "text": [
      "Error fetching data for WSCI: No historical data available for WSCI around 2024-01-29.\n"
     ]
    },
    {
     "name": "stderr",
     "output_type": "stream",
     "text": [
      "$AQUUU: possibly delisted; no timezone found\n"
     ]
    },
    {
     "name": "stdout",
     "output_type": "stream",
     "text": [
      "Error fetching data for AQUUU: No historical data available for AQUUU around 2024-01-29.\n"
     ]
    },
    {
     "name": "stderr",
     "output_type": "stream",
     "text": [
      "$SGMS: possibly delisted; no timezone found\n"
     ]
    },
    {
     "name": "stdout",
     "output_type": "stream",
     "text": [
      "Error fetching data for SGMS: No historical data available for SGMS around 2024-01-29.\n"
     ]
    },
    {
     "name": "stderr",
     "output_type": "stream",
     "text": [
      "$CSCD: possibly delisted; no price data found  (1d 2023-12-30 -> 2024-01-29)\n"
     ]
    },
    {
     "name": "stdout",
     "output_type": "stream",
     "text": [
      "Error fetching data for CSCD: No historical data available for CSCD around 2024-01-29.\n"
     ]
    },
    {
     "name": "stderr",
     "output_type": "stream",
     "text": [
      "$BDSI: possibly delisted; no timezone found\n"
     ]
    },
    {
     "name": "stdout",
     "output_type": "stream",
     "text": [
      "Error fetching data for BDSI: No historical data available for BDSI around 2024-01-29.\n"
     ]
    },
    {
     "name": "stderr",
     "output_type": "stream",
     "text": [
      "$LLEN: possibly delisted; no timezone found\n"
     ]
    },
    {
     "name": "stdout",
     "output_type": "stream",
     "text": [
      "Error fetching data for LLEN: No historical data available for LLEN around 2024-01-29.\n"
     ]
    },
    {
     "name": "stderr",
     "output_type": "stream",
     "text": [
      "$BZU: possibly delisted; no price data found  (1d 2023-12-30 -> 2024-01-29)\n"
     ]
    },
    {
     "name": "stdout",
     "output_type": "stream",
     "text": [
      "Error fetching data for BZU: No historical data available for BZU around 2024-01-29.\n"
     ]
    },
    {
     "name": "stderr",
     "output_type": "stream",
     "text": [
      "$EPL: possibly delisted; no price data found  (1d 2023-12-30 -> 2024-01-29)\n"
     ]
    },
    {
     "name": "stdout",
     "output_type": "stream",
     "text": [
      "Error fetching data for EPL: No historical data available for EPL around 2024-01-29.\n"
     ]
    },
    {
     "name": "stderr",
     "output_type": "stream",
     "text": [
      "$LHCG: possibly delisted; no timezone found\n"
     ]
    },
    {
     "name": "stdout",
     "output_type": "stream",
     "text": [
      "Error fetching data for LHCG: No historical data available for LHCG around 2024-01-29.\n"
     ]
    },
    {
     "name": "stderr",
     "output_type": "stream",
     "text": [
      "$SHLD: possibly delisted; no price data found  (1d 2023-12-30 -> 2024-01-29) (Yahoo error = \"Data doesn't exist for startDate = 1703912400, endDate = 1706504400\")\n"
     ]
    },
    {
     "name": "stdout",
     "output_type": "stream",
     "text": [
      "Error fetching data for SHLD: No historical data available for SHLD around 2024-01-29.\n"
     ]
    },
    {
     "name": "stderr",
     "output_type": "stream",
     "text": [
      "$SHPG: possibly delisted; no price data found  (1d 2023-12-30 -> 2024-01-29)\n"
     ]
    },
    {
     "name": "stdout",
     "output_type": "stream",
     "text": [
      "Error fetching data for SHPG: No historical data available for SHPG around 2024-01-29.\n"
     ]
    },
    {
     "name": "stderr",
     "output_type": "stream",
     "text": [
      "$DRYS: possibly delisted; no timezone found\n"
     ]
    },
    {
     "name": "stdout",
     "output_type": "stream",
     "text": [
      "Error fetching data for DRYS: No historical data available for DRYS around 2024-01-29.\n"
     ]
    },
    {
     "name": "stderr",
     "output_type": "stream",
     "text": [
      "$JZC: possibly delisted; no price data found  (1d 2023-12-30 -> 2024-01-29)\n"
     ]
    },
    {
     "name": "stdout",
     "output_type": "stream",
     "text": [
      "Error fetching data for JZC: No historical data available for JZC around 2024-01-29.\n"
     ]
    },
    {
     "name": "stderr",
     "output_type": "stream",
     "text": [
      "$DUKH: possibly delisted; no price data found  (1d 2023-12-30 -> 2024-01-29) (Yahoo error = \"Data doesn't exist for startDate = 1703912400, endDate = 1706504400\")\n"
     ]
    },
    {
     "name": "stdout",
     "output_type": "stream",
     "text": [
      "Error fetching data for DUKH: No historical data available for DUKH around 2024-01-29.\n"
     ]
    },
    {
     "name": "stderr",
     "output_type": "stream",
     "text": [
      "$FOE: possibly delisted; no timezone found\n"
     ]
    },
    {
     "name": "stdout",
     "output_type": "stream",
     "text": [
      "Error fetching data for FOE: No historical data available for FOE around 2024-01-29.\n"
     ]
    },
    {
     "name": "stderr",
     "output_type": "stream",
     "text": [
      "$ACRX: possibly delisted; no timezone found\n",
      "$CVO: possibly delisted; no price data found  (1d 2023-12-30 -> 2024-01-29)\n"
     ]
    },
    {
     "name": "stdout",
     "output_type": "stream",
     "text": [
      "Error fetching data for ACRX: No historical data available for ACRX around 2024-01-29.\n",
      "Error fetching data for CVO: No historical data available for CVO around 2024-01-29.\n"
     ]
    },
    {
     "name": "stderr",
     "output_type": "stream",
     "text": [
      "$PCYC: possibly delisted; no price data found  (1d 2023-12-30 -> 2024-01-29)\n"
     ]
    },
    {
     "name": "stdout",
     "output_type": "stream",
     "text": [
      "Error fetching data for PCYC: No historical data available for PCYC around 2024-01-29.\n"
     ]
    },
    {
     "name": "stderr",
     "output_type": "stream",
     "text": [
      "$BANFP: possibly delisted; no price data found  (period=1d)\n"
     ]
    },
    {
     "name": "stdout",
     "output_type": "stream",
     "text": [
      "Error fetching data for BANFP: single positional indexer is out-of-bounds\n"
     ]
    },
    {
     "name": "stderr",
     "output_type": "stream",
     "text": [
      "$HCN-J: possibly delisted; no timezone found\n"
     ]
    },
    {
     "name": "stdout",
     "output_type": "stream",
     "text": [
      "Error fetching data for HCN-J: No historical data available for HCN-J around 2024-01-29.\n"
     ]
    },
    {
     "name": "stderr",
     "output_type": "stream",
     "text": [
      "$NVX-C: possibly delisted; no timezone found\n"
     ]
    },
    {
     "name": "stdout",
     "output_type": "stream",
     "text": [
      "Error fetching data for NVX-C: No historical data available for NVX-C around 2024-01-29.\n"
     ]
    },
    {
     "name": "stderr",
     "output_type": "stream",
     "text": [
      "$AIXG: possibly delisted; no price data found  (1d 2023-12-30 -> 2024-01-29)\n"
     ]
    },
    {
     "name": "stdout",
     "output_type": "stream",
     "text": [
      "Error fetching data for AIXG: No historical data available for AIXG around 2024-01-29.\n"
     ]
    },
    {
     "name": "stderr",
     "output_type": "stream",
     "text": [
      "$FFCO: possibly delisted; no price data found  (1d 2023-12-30 -> 2024-01-29)\n",
      "$BOI: possibly delisted; no price data found  (1d 2023-12-30 -> 2024-01-29)\n"
     ]
    },
    {
     "name": "stdout",
     "output_type": "stream",
     "text": [
      "Error fetching data for FFCO: No historical data available for FFCO around 2024-01-29.\n",
      "Error fetching data for BOI: No historical data available for BOI around 2024-01-29.\n"
     ]
    },
    {
     "name": "stderr",
     "output_type": "stream",
     "text": [
      "$ORIT: possibly delisted; no timezone found\n",
      "$PLNR: possibly delisted; no price data found  (1d 2023-12-30 -> 2024-01-29)\n"
     ]
    },
    {
     "name": "stdout",
     "output_type": "stream",
     "text": [
      "Error fetching data for ORIT: No historical data available for ORIT around 2024-01-29.\n",
      "Error fetching data for PLNR: No historical data available for PLNR around 2024-01-29.\n"
     ]
    },
    {
     "name": "stderr",
     "output_type": "stream",
     "text": [
      "$ORBK: possibly delisted; no timezone found\n"
     ]
    },
    {
     "name": "stdout",
     "output_type": "stream",
     "text": [
      "Error fetching data for ORBK: No historical data available for ORBK around 2024-01-29.\n"
     ]
    },
    {
     "name": "stderr",
     "output_type": "stream",
     "text": [
      "$NKG-D: possibly delisted; no timezone found\n"
     ]
    },
    {
     "name": "stdout",
     "output_type": "stream",
     "text": [
      "Error fetching data for NKG-D: No historical data available for NKG-D around 2024-01-29.\n"
     ]
    },
    {
     "name": "stderr",
     "output_type": "stream",
     "text": [
      "$OBCI: possibly delisted; no timezone found\n"
     ]
    },
    {
     "name": "stdout",
     "output_type": "stream",
     "text": [
      "Error fetching data for OBCI: No historical data available for OBCI around 2024-01-29.\n"
     ]
    },
    {
     "name": "stderr",
     "output_type": "stream",
     "text": [
      "$SWIR: possibly delisted; no timezone found\n"
     ]
    },
    {
     "name": "stdout",
     "output_type": "stream",
     "text": [
      "Error fetching data for SWIR: No historical data available for SWIR around 2024-01-29.\n"
     ]
    },
    {
     "name": "stderr",
     "output_type": "stream",
     "text": [
      "$ASIA: possibly delisted; no price data found  (1d 2023-12-30 -> 2024-01-29) (Yahoo error = \"Data doesn't exist for startDate = 1703912400, endDate = 1706504400\")\n"
     ]
    },
    {
     "name": "stdout",
     "output_type": "stream",
     "text": [
      "Error fetching data for ASIA: No historical data available for ASIA around 2024-01-29.\n"
     ]
    },
    {
     "name": "stderr",
     "output_type": "stream",
     "text": [
      "$FVE: possibly delisted; no timezone found\n",
      "$FFNM: possibly delisted; no price data found  (1d 2023-12-30 -> 2024-01-29)\n"
     ]
    },
    {
     "name": "stdout",
     "output_type": "stream",
     "text": [
      "Error fetching data for FVE: No historical data available for FVE around 2024-01-29.\n",
      "Error fetching data for FFNM: No historical data available for FFNM around 2024-01-29.\n"
     ]
    },
    {
     "name": "stderr",
     "output_type": "stream",
     "text": [
      "$PTX: possibly delisted; no timezone found\n"
     ]
    },
    {
     "name": "stdout",
     "output_type": "stream",
     "text": [
      "Error fetching data for PTX: No historical data available for PTX around 2024-01-29.\n"
     ]
    },
    {
     "name": "stderr",
     "output_type": "stream",
     "text": [
      "$HUB.A: possibly delisted; no timezone found\n"
     ]
    },
    {
     "name": "stdout",
     "output_type": "stream",
     "text": [
      "Error fetching data for HUB.A: No historical data available for HUB.A around 2024-01-29.\n"
     ]
    },
    {
     "name": "stderr",
     "output_type": "stream",
     "text": [
      "$LCC: possibly delisted; no price data found  (1d 2023-12-30 -> 2024-01-29)\n",
      "$RJET: possibly delisted; no price data found  (1d 2023-12-30 -> 2024-01-29)\n"
     ]
    },
    {
     "name": "stdout",
     "output_type": "stream",
     "text": [
      "Error fetching data for LCC: No historical data available for LCC around 2024-01-29.\n",
      "Error fetching data for RJET: No historical data available for RJET around 2024-01-29.\n"
     ]
    },
    {
     "name": "stderr",
     "output_type": "stream",
     "text": [
      "$INT: possibly delisted; no timezone found\n",
      "$UNTK: possibly delisted; no price data found  (1d 2023-12-30 -> 2024-01-29)\n"
     ]
    },
    {
     "name": "stdout",
     "output_type": "stream",
     "text": [
      "Error fetching data for INT: No historical data available for INT around 2024-01-29.\n",
      "Error fetching data for UNTK: No historical data available for UNTK around 2024-01-29.\n"
     ]
    },
    {
     "name": "stderr",
     "output_type": "stream",
     "text": [
      "$RECN: possibly delisted; no timezone found\n",
      "$SGK: possibly delisted; no price data found  (1d 2023-12-30 -> 2024-01-29)\n",
      "$SBSA: possibly delisted; no price data found  (1d 2023-12-30 -> 2024-01-29)\n"
     ]
    },
    {
     "name": "stdout",
     "output_type": "stream",
     "text": [
      "Error fetching data for RECN: No historical data available for RECN around 2024-01-29.\n",
      "Error fetching data for SGK: No historical data available for SGK around 2024-01-29.\n",
      "Error fetching data for SBSA: No historical data available for SBSA around 2024-01-29.\n"
     ]
    },
    {
     "name": "stderr",
     "output_type": "stream",
     "text": [
      "$CTCH: possibly delisted; no price data found  (1d 2023-12-30 -> 2024-01-29)\n"
     ]
    },
    {
     "name": "stdout",
     "output_type": "stream",
     "text": [
      "Error fetching data for CTCH: No historical data available for CTCH around 2024-01-29.\n"
     ]
    },
    {
     "name": "stderr",
     "output_type": "stream",
     "text": [
      "$NTC: possibly delisted; no timezone found\n"
     ]
    },
    {
     "name": "stdout",
     "output_type": "stream",
     "text": [
      "Error fetching data for NTC: No historical data available for NTC around 2024-01-29.\n"
     ]
    },
    {
     "name": "stderr",
     "output_type": "stream",
     "text": [
      "$MFV: possibly delisted; no timezone found\n"
     ]
    },
    {
     "name": "stdout",
     "output_type": "stream",
     "text": [
      "Error fetching data for MFV: No historical data available for MFV around 2024-01-29.\n"
     ]
    },
    {
     "name": "stderr",
     "output_type": "stream",
     "text": [
      "$AGO-E: possibly delisted; no timezone found\n"
     ]
    },
    {
     "name": "stdout",
     "output_type": "stream",
     "text": [
      "Error fetching data for AGO-E: No historical data available for AGO-E around 2024-01-29.\n"
     ]
    },
    {
     "name": "stderr",
     "output_type": "stream",
     "text": [
      "$C-S: possibly delisted; no timezone found\n"
     ]
    },
    {
     "name": "stdout",
     "output_type": "stream",
     "text": [
      "Error fetching data for C-S: No historical data available for C-S around 2024-01-29.\n"
     ]
    },
    {
     "name": "stderr",
     "output_type": "stream",
     "text": [
      "$PZN: possibly delisted; no timezone found\n"
     ]
    },
    {
     "name": "stdout",
     "output_type": "stream",
     "text": [
      "Error fetching data for PZN: No historical data available for PZN around 2024-01-29.\n"
     ]
    },
    {
     "name": "stderr",
     "output_type": "stream",
     "text": [
      "$DGICB: possibly delisted; no price data found  (period=1d)\n"
     ]
    },
    {
     "name": "stdout",
     "output_type": "stream",
     "text": [
      "Error fetching data for DGICB: single positional indexer is out-of-bounds\n"
     ]
    },
    {
     "name": "stderr",
     "output_type": "stream",
     "text": [
      "$PHII: possibly delisted; no timezone found\n"
     ]
    },
    {
     "name": "stdout",
     "output_type": "stream",
     "text": [
      "Error fetching data for PHII: No historical data available for PHII around 2024-01-29.\n"
     ]
    },
    {
     "name": "stderr",
     "output_type": "stream",
     "text": [
      "$ZFC: possibly delisted; no price data found  (1d 2023-12-30 -> 2024-01-29)\n"
     ]
    },
    {
     "name": "stdout",
     "output_type": "stream",
     "text": [
      "Error fetching data for ZFC: No historical data available for ZFC around 2024-01-29.\n"
     ]
    },
    {
     "name": "stderr",
     "output_type": "stream",
     "text": [
      "$NVY-C: possibly delisted; no timezone found\n"
     ]
    },
    {
     "name": "stdout",
     "output_type": "stream",
     "text": [
      "Error fetching data for NVY-C: No historical data available for NVY-C around 2024-01-29.\n"
     ]
    },
    {
     "name": "stderr",
     "output_type": "stream",
     "text": [
      "$GGE: possibly delisted; no timezone found\n"
     ]
    },
    {
     "name": "stdout",
     "output_type": "stream",
     "text": [
      "Error fetching data for GGE: No historical data available for GGE around 2024-01-29.\n"
     ]
    },
    {
     "name": "stderr",
     "output_type": "stream",
     "text": [
      "$SSFN: possibly delisted; no timezone found\n",
      "$BNA: possibly delisted; no price data found  (1d 2023-12-30 -> 2024-01-29)\n",
      "$ESRX: possibly delisted; no price data found  (1d 2023-12-30 -> 2024-01-29)\n"
     ]
    },
    {
     "name": "stdout",
     "output_type": "stream",
     "text": [
      "Error fetching data for SSFN: No historical data available for SSFN around 2024-01-29.\n",
      "Error fetching data for BNA: No historical data available for BNA around 2024-01-29.\n",
      "Error fetching data for ESRX: No historical data available for ESRX around 2024-01-29.\n"
     ]
    },
    {
     "name": "stderr",
     "output_type": "stream",
     "text": [
      "$OTEL: possibly delisted; no timezone found\n"
     ]
    },
    {
     "name": "stdout",
     "output_type": "stream",
     "text": [
      "Error fetching data for OTEL: No historical data available for OTEL around 2024-01-29.\n"
     ]
    },
    {
     "name": "stderr",
     "output_type": "stream",
     "text": [
      "$MBIS: possibly delisted; no price data found  (1d 2023-12-30 -> 2024-01-29)\n",
      "$LF: possibly delisted; no price data found  (1d 2023-12-30 -> 2024-01-29)\n",
      "$PWX: possibly delisted; no price data found  (1d 2023-12-30 -> 2024-01-29)\n"
     ]
    },
    {
     "name": "stdout",
     "output_type": "stream",
     "text": [
      "Error fetching data for MBIS: No historical data available for MBIS around 2024-01-29.\n",
      "Error fetching data for LF: No historical data available for LF around 2024-01-29.\n",
      "Error fetching data for PWX: No historical data available for PWX around 2024-01-29.\n"
     ]
    },
    {
     "name": "stderr",
     "output_type": "stream",
     "text": [
      "$MWRX: possibly delisted; no timezone found\n"
     ]
    },
    {
     "name": "stdout",
     "output_type": "stream",
     "text": [
      "Error fetching data for MWRX: No historical data available for MWRX around 2024-01-29.\n"
     ]
    },
    {
     "name": "stderr",
     "output_type": "stream",
     "text": [
      "$TEU-C: possibly delisted; no timezone found\n"
     ]
    },
    {
     "name": "stdout",
     "output_type": "stream",
     "text": [
      "Error fetching data for TEU-C: No historical data available for TEU-C around 2024-01-29.\n"
     ]
    },
    {
     "name": "stderr",
     "output_type": "stream",
     "text": [
      "$NMY-C: possibly delisted; no timezone found\n",
      "$VLCCF: possibly delisted; no price data found  (1d 2023-12-30 -> 2024-01-29)\n"
     ]
    },
    {
     "name": "stdout",
     "output_type": "stream",
     "text": [
      "Error fetching data for NMY-C: No historical data available for NMY-C around 2024-01-29.\n",
      "Error fetching data for VLCCF: No historical data available for VLCCF around 2024-01-29.\n"
     ]
    },
    {
     "name": "stderr",
     "output_type": "stream",
     "text": [
      "$HBA-F: possibly delisted; no timezone found\n"
     ]
    },
    {
     "name": "stdout",
     "output_type": "stream",
     "text": [
      "Error fetching data for HBA-F: No historical data available for HBA-F around 2024-01-29.\n"
     ]
    },
    {
     "name": "stderr",
     "output_type": "stream",
     "text": [
      "$CPGI: possibly delisted; no price data found  (1d 2023-12-30 -> 2024-01-29)\n"
     ]
    },
    {
     "name": "stdout",
     "output_type": "stream",
     "text": [
      "Error fetching data for CPGI: No historical data available for CPGI around 2024-01-29.\n"
     ]
    },
    {
     "name": "stderr",
     "output_type": "stream",
     "text": [
      "$UPL: possibly delisted; no timezone found\n"
     ]
    },
    {
     "name": "stdout",
     "output_type": "stream",
     "text": [
      "Error fetching data for UPL: No historical data available for UPL around 2024-01-29.\n"
     ]
    },
    {
     "name": "stderr",
     "output_type": "stream",
     "text": [
      "$BDGE: possibly delisted; no timezone found\n"
     ]
    },
    {
     "name": "stdout",
     "output_type": "stream",
     "text": [
      "Error fetching data for BDGE: No historical data available for BDGE around 2024-01-29.\n"
     ]
    },
    {
     "name": "stderr",
     "output_type": "stream",
     "text": [
      "$QEP: possibly delisted; no timezone found\n"
     ]
    },
    {
     "name": "stdout",
     "output_type": "stream",
     "text": [
      "Error fetching data for QEP: No historical data available for QEP around 2024-01-29.\n"
     ]
    },
    {
     "name": "stderr",
     "output_type": "stream",
     "text": [
      "$POL: possibly delisted; no timezone found\n"
     ]
    },
    {
     "name": "stdout",
     "output_type": "stream",
     "text": [
      "Error fetching data for POL: No historical data available for POL around 2024-01-29.\n"
     ]
    },
    {
     "name": "stderr",
     "output_type": "stream",
     "text": [
      "$LMNX: possibly delisted; no timezone found\n",
      "$NEPT: possibly delisted; no price data found  (1d 2023-12-30 -> 2024-01-29)\n",
      "$HCBK: possibly delisted; no price data found  (1d 2023-12-30 -> 2024-01-29)\n"
     ]
    },
    {
     "name": "stdout",
     "output_type": "stream",
     "text": [
      "Error fetching data for LMNX: No historical data available for LMNX around 2024-01-29.\n",
      "Error fetching data for NEPT: No historical data available for NEPT around 2024-01-29.\n",
      "Error fetching data for HCBK: No historical data available for HCBK around 2024-01-29.\n"
     ]
    },
    {
     "name": "stderr",
     "output_type": "stream",
     "text": [
      "$INXBU: possibly delisted; no price data found  (1d 2023-12-30 -> 2024-01-29)\n"
     ]
    },
    {
     "name": "stdout",
     "output_type": "stream",
     "text": [
      "Error fetching data for INXBU: No historical data available for INXBU around 2024-01-29.\n"
     ]
    },
    {
     "name": "stderr",
     "output_type": "stream",
     "text": [
      "$JOSB: possibly delisted; no price data found  (1d 2023-12-30 -> 2024-01-29)\n"
     ]
    },
    {
     "name": "stdout",
     "output_type": "stream",
     "text": [
      "Error fetching data for JOSB: No historical data available for JOSB around 2024-01-29.\n"
     ]
    },
    {
     "name": "stderr",
     "output_type": "stream",
     "text": [
      "$HBOS: possibly delisted; no price data found  (1d 2023-12-30 -> 2024-01-29)\n",
      "$DEG: possibly delisted; no price data found  (1d 2023-12-30 -> 2024-01-29)\n",
      "$HNH: possibly delisted; no price data found  (1d 2023-12-30 -> 2024-01-29)\n"
     ]
    },
    {
     "name": "stdout",
     "output_type": "stream",
     "text": [
      "Error fetching data for HBOS: No historical data available for HBOS around 2024-01-29.\n",
      "Error fetching data for DEG: No historical data available for DEG around 2024-01-29.\n",
      "Error fetching data for HNH: No historical data available for HNH around 2024-01-29.\n"
     ]
    },
    {
     "name": "stderr",
     "output_type": "stream",
     "text": [
      "$GRT: possibly delisted; no price data found  (1d 2023-12-30 -> 2024-01-29)\n"
     ]
    },
    {
     "name": "stdout",
     "output_type": "stream",
     "text": [
      "Error fetching data for GRT: No historical data available for GRT around 2024-01-29.\n"
     ]
    },
    {
     "name": "stderr",
     "output_type": "stream",
     "text": [
      "$ALR: possibly delisted; no timezone found\n"
     ]
    },
    {
     "name": "stdout",
     "output_type": "stream",
     "text": [
      "Error fetching data for ALR: No historical data available for ALR around 2024-01-29.\n"
     ]
    },
    {
     "name": "stderr",
     "output_type": "stream",
     "text": [
      "$WEBK: possibly delisted; no timezone found\n",
      "$YUME: possibly delisted; no price data found  (1d 2023-12-30 -> 2024-01-29)\n"
     ]
    },
    {
     "name": "stdout",
     "output_type": "stream",
     "text": [
      "Error fetching data for WEBK: No historical data available for WEBK around 2024-01-29.\n",
      "Error fetching data for YUME: No historical data available for YUME around 2024-01-29.\n"
     ]
    },
    {
     "name": "stderr",
     "output_type": "stream",
     "text": [
      "$CUZ-B: possibly delisted; no timezone found\n"
     ]
    },
    {
     "name": "stdout",
     "output_type": "stream",
     "text": [
      "Error fetching data for CUZ-B: No historical data available for CUZ-B around 2024-01-29.\n"
     ]
    },
    {
     "name": "stderr",
     "output_type": "stream",
     "text": [
      "$BERK: possibly delisted; no timezone found\n"
     ]
    },
    {
     "name": "stdout",
     "output_type": "stream",
     "text": [
      "Error fetching data for BERK: No historical data available for BERK around 2024-01-29.\n"
     ]
    },
    {
     "name": "stderr",
     "output_type": "stream",
     "text": [
      "$AEZS: possibly delisted; no timezone found\n"
     ]
    },
    {
     "name": "stdout",
     "output_type": "stream",
     "text": [
      "Error fetching data for AEZS: No historical data available for AEZS around 2024-01-29.\n"
     ]
    },
    {
     "name": "stderr",
     "output_type": "stream",
     "text": [
      "$USMD: possibly delisted; no price data found  (1d 2023-12-30 -> 2024-01-29)\n"
     ]
    },
    {
     "name": "stdout",
     "output_type": "stream",
     "text": [
      "Error fetching data for USMD: No historical data available for USMD around 2024-01-29.\n"
     ]
    },
    {
     "name": "stderr",
     "output_type": "stream",
     "text": [
      "$PDLI: possibly delisted; no timezone found\n"
     ]
    },
    {
     "name": "stdout",
     "output_type": "stream",
     "text": [
      "Error fetching data for PDLI: No historical data available for PDLI around 2024-01-29.\n"
     ]
    },
    {
     "name": "stderr",
     "output_type": "stream",
     "text": [
      "$MTCN: possibly delisted; no timezone found\n"
     ]
    },
    {
     "name": "stdout",
     "output_type": "stream",
     "text": [
      "Error fetching data for MTCN: No historical data available for MTCN around 2024-01-29.\n"
     ]
    },
    {
     "name": "stderr",
     "output_type": "stream",
     "text": [
      "$FMBI: possibly delisted; no timezone found\n"
     ]
    },
    {
     "name": "stdout",
     "output_type": "stream",
     "text": [
      "Error fetching data for FMBI: No historical data available for FMBI around 2024-01-29.\n"
     ]
    },
    {
     "name": "stderr",
     "output_type": "stream",
     "text": [
      "$CERE: possibly delisted; no timezone found\n"
     ]
    },
    {
     "name": "stdout",
     "output_type": "stream",
     "text": [
      "Error fetching data for CERE: No historical data available for CERE around 2024-01-29.\n"
     ]
    },
    {
     "name": "stderr",
     "output_type": "stream",
     "text": [
      "$PCOM: possibly delisted; no timezone found\n"
     ]
    },
    {
     "name": "stdout",
     "output_type": "stream",
     "text": [
      "Error fetching data for PCOM: No historical data available for PCOM around 2024-01-29.\n"
     ]
    },
    {
     "name": "stderr",
     "output_type": "stream",
     "text": [
      "$SJR: possibly delisted; no timezone found\n"
     ]
    },
    {
     "name": "stdout",
     "output_type": "stream",
     "text": [
      "Error fetching data for SJR: No historical data available for SJR around 2024-01-29.\n"
     ]
    },
    {
     "name": "stderr",
     "output_type": "stream",
     "text": [
      "$GFIG: possibly delisted; no price data found  (1d 2023-12-30 -> 2024-01-29)\n"
     ]
    },
    {
     "name": "stdout",
     "output_type": "stream",
     "text": [
      "Error fetching data for GFIG: No historical data available for GFIG around 2024-01-29.\n"
     ]
    },
    {
     "name": "stderr",
     "output_type": "stream",
     "text": [
      "$SPG-J: possibly delisted; no timezone found\n"
     ]
    },
    {
     "name": "stdout",
     "output_type": "stream",
     "text": [
      "Error fetching data for SPG-J: No historical data available for SPG-J around 2024-01-29.\n"
     ]
    },
    {
     "name": "stderr",
     "output_type": "stream",
     "text": [
      "$MOG.B: possibly delisted; no timezone found\n"
     ]
    },
    {
     "name": "stdout",
     "output_type": "stream",
     "text": [
      "Error fetching data for MOG.B: No historical data available for MOG.B around 2024-01-29.\n"
     ]
    },
    {
     "name": "stderr",
     "output_type": "stream",
     "text": [
      "$AVNR: possibly delisted; no price data found  (1d 2023-12-30 -> 2024-01-29)\n"
     ]
    },
    {
     "name": "stdout",
     "output_type": "stream",
     "text": [
      "Error fetching data for AVNR: No historical data available for AVNR around 2024-01-29.\n"
     ]
    },
    {
     "name": "stderr",
     "output_type": "stream",
     "text": [
      "$DVR: possibly delisted; no price data found  (1d 2023-12-30 -> 2024-01-29)\n"
     ]
    },
    {
     "name": "stdout",
     "output_type": "stream",
     "text": [
      "Error fetching data for DVR: No historical data available for DVR around 2024-01-29.\n"
     ]
    },
    {
     "name": "stderr",
     "output_type": "stream",
     "text": [
      "$MPO: possibly delisted; no price data found  (period=1d)\n"
     ]
    },
    {
     "name": "stdout",
     "output_type": "stream",
     "text": [
      "Error fetching data for MPO: single positional indexer is out-of-bounds\n"
     ]
    },
    {
     "name": "stderr",
     "output_type": "stream",
     "text": [
      "$MIT-A: possibly delisted; no timezone found\n"
     ]
    },
    {
     "name": "stdout",
     "output_type": "stream",
     "text": [
      "Error fetching data for MIT-A: No historical data available for MIT-A around 2024-01-29.\n"
     ]
    },
    {
     "name": "stderr",
     "output_type": "stream",
     "text": [
      "$CMN: possibly delisted; no price data found  (1d 2023-12-30 -> 2024-01-29)\n"
     ]
    },
    {
     "name": "stdout",
     "output_type": "stream",
     "text": [
      "Error fetching data for CMN: No historical data available for CMN around 2024-01-29.\n"
     ]
    },
    {
     "name": "stderr",
     "output_type": "stream",
     "text": [
      "$DDE: possibly delisted; no timezone found\n"
     ]
    },
    {
     "name": "stdout",
     "output_type": "stream",
     "text": [
      "Error fetching data for DDE: No historical data available for DDE around 2024-01-29.\n"
     ]
    },
    {
     "name": "stderr",
     "output_type": "stream",
     "text": [
      "$ISSI: possibly delisted; no price data found  (1d 2023-12-30 -> 2024-01-29)\n"
     ]
    },
    {
     "name": "stdout",
     "output_type": "stream",
     "text": [
      "Error fetching data for ISSI: No historical data available for ISSI around 2024-01-29.\n"
     ]
    },
    {
     "name": "stderr",
     "output_type": "stream",
     "text": [
      "$CTG: possibly delisted; no timezone found\n",
      "$LVLT: possibly delisted; no price data found  (1d 2023-12-30 -> 2024-01-29)\n"
     ]
    },
    {
     "name": "stdout",
     "output_type": "stream",
     "text": [
      "Error fetching data for CTG: No historical data available for CTG around 2024-01-29.\n",
      "Error fetching data for LVLT: No historical data available for LVLT around 2024-01-29.\n"
     ]
    },
    {
     "name": "stderr",
     "output_type": "stream",
     "text": [
      "$CHS-A: possibly delisted; no timezone found\n",
      "$CHYR: possibly delisted; no price data found  (1d 2023-12-30 -> 2024-01-29)\n"
     ]
    },
    {
     "name": "stdout",
     "output_type": "stream",
     "text": [
      "Error fetching data for CHS-A: No historical data available for CHS-A around 2024-01-29.\n",
      "Error fetching data for CHYR: No historical data available for CHYR around 2024-01-29.\n"
     ]
    },
    {
     "name": "stderr",
     "output_type": "stream",
     "text": [
      "$VVUS: possibly delisted; no timezone found\n"
     ]
    },
    {
     "name": "stdout",
     "output_type": "stream",
     "text": [
      "Error fetching data for VVUS: No historical data available for VVUS around 2024-01-29.\n"
     ]
    },
    {
     "name": "stderr",
     "output_type": "stream",
     "text": [
      "$BOTA: possibly delisted; no price data found  (1d 2023-12-30 -> 2024-01-29)\n"
     ]
    },
    {
     "name": "stdout",
     "output_type": "stream",
     "text": [
      "Error fetching data for BOTA: No historical data available for BOTA around 2024-01-29.\n"
     ]
    },
    {
     "name": "stderr",
     "output_type": "stream",
     "text": [
      "$NYCB: possibly delisted; no timezone found\n"
     ]
    },
    {
     "name": "stdout",
     "output_type": "stream",
     "text": [
      "Error fetching data for NYCB: No historical data available for NYCB around 2024-01-29.\n"
     ]
    },
    {
     "name": "stderr",
     "output_type": "stream",
     "text": [
      "$NMY-D: possibly delisted; no timezone found\n",
      "$SGY: possibly delisted; no price data found  (1d 2023-12-30 -> 2024-01-29)\n"
     ]
    },
    {
     "name": "stdout",
     "output_type": "stream",
     "text": [
      "Error fetching data for NMY-D: No historical data available for NMY-D around 2024-01-29.\n",
      "Error fetching data for SGY: No historical data available for SGY around 2024-01-29.\n"
     ]
    },
    {
     "name": "stderr",
     "output_type": "stream",
     "text": [
      "$LEN.B: possibly delisted; no price data found  (1d 2023-12-30 -> 2024-01-29)\n"
     ]
    },
    {
     "name": "stdout",
     "output_type": "stream",
     "text": [
      "Error fetching data for LEN.B: No historical data available for LEN.B around 2024-01-29.\n"
     ]
    },
    {
     "name": "stderr",
     "output_type": "stream",
     "text": [
      "$EMMS: possibly delisted; no price data found  (period=1d)\n"
     ]
    },
    {
     "name": "stdout",
     "output_type": "stream",
     "text": [
      "Error fetching data for EMMS: single positional indexer is out-of-bounds\n"
     ]
    },
    {
     "name": "stderr",
     "output_type": "stream",
     "text": [
      "$SSW: possibly delisted; no timezone found\n"
     ]
    },
    {
     "name": "stdout",
     "output_type": "stream",
     "text": [
      "Error fetching data for SSW: No historical data available for SSW around 2024-01-29.\n"
     ]
    },
    {
     "name": "stderr",
     "output_type": "stream",
     "text": [
      "$KFN: possibly delisted; no price data found  (1d 2023-12-30 -> 2024-01-29)\n",
      "$ALOG: possibly delisted; no price data found  (1d 2023-12-30 -> 2024-01-29)\n"
     ]
    },
    {
     "name": "stdout",
     "output_type": "stream",
     "text": [
      "Error fetching data for KFN: No historical data available for KFN around 2024-01-29.\n",
      "Error fetching data for ALOG: No historical data available for ALOG around 2024-01-29.\n"
     ]
    },
    {
     "name": "stderr",
     "output_type": "stream",
     "text": [
      "$GTS: possibly delisted; no timezone found\n"
     ]
    },
    {
     "name": "stdout",
     "output_type": "stream",
     "text": [
      "Error fetching data for GTS: No historical data available for GTS around 2024-01-29.\n"
     ]
    },
    {
     "name": "stderr",
     "output_type": "stream",
     "text": [
      "$KMF: possibly delisted; no timezone found\n",
      "$VSCP: possibly delisted; no price data found  (1d 2023-12-30 -> 2024-01-29)\n"
     ]
    },
    {
     "name": "stdout",
     "output_type": "stream",
     "text": [
      "Error fetching data for KMF: No historical data available for KMF around 2024-01-29.\n",
      "Error fetching data for VSCP: No historical data available for VSCP around 2024-01-29.\n"
     ]
    },
    {
     "name": "stderr",
     "output_type": "stream",
     "text": [
      "$VRTA: possibly delisted; no timezone found\n",
      "$COV: possibly delisted; no price data found  (1d 2023-12-30 -> 2024-01-29)\n",
      "$TTHI: possibly delisted; no price data found  (1d 2023-12-30 -> 2024-01-29)\n"
     ]
    },
    {
     "name": "stdout",
     "output_type": "stream",
     "text": [
      "Error fetching data for VRTA: No historical data available for VRTA around 2024-01-29.\n",
      "Error fetching data for COV: No historical data available for COV around 2024-01-29.\n",
      "Error fetching data for TTHI: No historical data available for TTHI around 2024-01-29.\n"
     ]
    },
    {
     "name": "stderr",
     "output_type": "stream",
     "text": [
      "$PSA-V: possibly delisted; no timezone found\n",
      "$PVTBP: possibly delisted; no price data found  (1d 2023-12-30 -> 2024-01-29)\n"
     ]
    },
    {
     "name": "stdout",
     "output_type": "stream",
     "text": [
      "Error fetching data for PSA-V: No historical data available for PSA-V around 2024-01-29.\n",
      "Error fetching data for PVTBP: No historical data available for PVTBP around 2024-01-29.\n"
     ]
    },
    {
     "name": "stderr",
     "output_type": "stream",
     "text": [
      "$ZMH: possibly delisted; no price data found  (1d 2023-12-30 -> 2024-01-29)\n"
     ]
    },
    {
     "name": "stdout",
     "output_type": "stream",
     "text": [
      "Error fetching data for ZMH: No historical data available for ZMH around 2024-01-29.\n"
     ]
    },
    {
     "name": "stderr",
     "output_type": "stream",
     "text": [
      "$TRCB: possibly delisted; no timezone found\n"
     ]
    },
    {
     "name": "stdout",
     "output_type": "stream",
     "text": [
      "Error fetching data for TRCB: No historical data available for TRCB around 2024-01-29.\n"
     ]
    },
    {
     "name": "stderr",
     "output_type": "stream",
     "text": [
      "$PGI: possibly delisted; no price data found  (1d 2023-12-30 -> 2024-01-29)\n"
     ]
    },
    {
     "name": "stdout",
     "output_type": "stream",
     "text": [
      "Error fetching data for PGI: No historical data available for PGI around 2024-01-29.\n"
     ]
    },
    {
     "name": "stderr",
     "output_type": "stream",
     "text": [
      "$MDVN: possibly delisted; no price data found  (1d 2023-12-30 -> 2024-01-29)\n"
     ]
    },
    {
     "name": "stdout",
     "output_type": "stream",
     "text": [
      "Error fetching data for MDVN: No historical data available for MDVN around 2024-01-29.\n"
     ]
    },
    {
     "name": "stderr",
     "output_type": "stream",
     "text": [
      "$BMC: possibly delisted; no price data found  (1d 2023-12-30 -> 2024-01-29)\n"
     ]
    },
    {
     "name": "stdout",
     "output_type": "stream",
     "text": [
      "Error fetching data for BMC: No historical data available for BMC around 2024-01-29.\n"
     ]
    },
    {
     "name": "stderr",
     "output_type": "stream",
     "text": [
      "$GLCH: possibly delisted; no price data found  (1d 2023-12-30 -> 2024-01-29)\n",
      "$KAP: possibly delisted; no price data found  (1d 2023-12-30 -> 2024-01-29)\n"
     ]
    },
    {
     "name": "stdout",
     "output_type": "stream",
     "text": [
      "Error fetching data for GLCH: No historical data available for GLCH around 2024-01-29.\n",
      "Error fetching data for KAP: No historical data available for KAP around 2024-01-29.\n"
     ]
    },
    {
     "name": "stderr",
     "output_type": "stream",
     "text": [
      "$NSL: possibly delisted; no timezone found\n",
      "$SUSP: possibly delisted; no price data found  (1d 2023-12-30 -> 2024-01-29)\n",
      "$SSH: possibly delisted; no price data found  (1d 2023-12-30 -> 2024-01-29)\n"
     ]
    },
    {
     "name": "stdout",
     "output_type": "stream",
     "text": [
      "Error fetching data for NSL: No historical data available for NSL around 2024-01-29.\n",
      "Error fetching data for SUSP: No historical data available for SUSP around 2024-01-29.\n",
      "Error fetching data for SSH: No historical data available for SSH around 2024-01-29.\n"
     ]
    },
    {
     "name": "stderr",
     "output_type": "stream",
     "text": [
      "$NMO: possibly delisted; no price data found  (1d 2023-12-30 -> 2024-01-29)\n",
      "$MSFG: possibly delisted; no price data found  (1d 2023-12-30 -> 2024-01-29)\n"
     ]
    },
    {
     "name": "stdout",
     "output_type": "stream",
     "text": [
      "Error fetching data for NMO: No historical data available for NMO around 2024-01-29.\n",
      "Error fetching data for MSFG: No historical data available for MSFG around 2024-01-29.\n"
     ]
    },
    {
     "name": "stderr",
     "output_type": "stream",
     "text": [
      "$SUTR: possibly delisted; no price data found  (1d 2023-12-30 -> 2024-01-29)\n",
      "$ASMI: possibly delisted; no price data found  (1d 2023-12-30 -> 2024-01-29)\n"
     ]
    },
    {
     "name": "stdout",
     "output_type": "stream",
     "text": [
      "Error fetching data for SUTR: No historical data available for SUTR around 2024-01-29.\n",
      "Error fetching data for ASMI: No historical data available for ASMI around 2024-01-29.\n"
     ]
    },
    {
     "name": "stderr",
     "output_type": "stream",
     "text": [
      "$TIBX: possibly delisted; no price data found  (1d 2023-12-30 -> 2024-01-29)\n"
     ]
    },
    {
     "name": "stdout",
     "output_type": "stream",
     "text": [
      "Error fetching data for TIBX: No historical data available for TIBX around 2024-01-29.\n"
     ]
    },
    {
     "name": "stderr",
     "output_type": "stream",
     "text": [
      "$BANCL: possibly delisted; no timezone found\n",
      "$ACO: possibly delisted; no price data found  (1d 2023-12-30 -> 2024-01-29)\n"
     ]
    },
    {
     "name": "stdout",
     "output_type": "stream",
     "text": [
      "Error fetching data for BANCL: No historical data available for BANCL around 2024-01-29.\n",
      "Error fetching data for ACO: No historical data available for ACO around 2024-01-29.\n"
     ]
    },
    {
     "name": "stderr",
     "output_type": "stream",
     "text": [
      "$TXCC: possibly delisted; no price data found  (1d 2023-12-30 -> 2024-01-29)\n"
     ]
    },
    {
     "name": "stdout",
     "output_type": "stream",
     "text": [
      "Error fetching data for TXCC: No historical data available for TXCC around 2024-01-29.\n"
     ]
    },
    {
     "name": "stderr",
     "output_type": "stream",
     "text": [
      "$HFBC: possibly delisted; no timezone found\n"
     ]
    },
    {
     "name": "stdout",
     "output_type": "stream",
     "text": [
      "Error fetching data for HFBC: No historical data available for HFBC around 2024-01-29.\n"
     ]
    },
    {
     "name": "stderr",
     "output_type": "stream",
     "text": [
      "$MER-F: possibly delisted; no timezone found\n",
      "$RBCN: possibly delisted; no price data found  (period=1d)\n"
     ]
    },
    {
     "name": "stdout",
     "output_type": "stream",
     "text": [
      "Error fetching data for MER-F: No historical data available for MER-F around 2024-01-29.\n",
      "Error fetching data for RBCN: single positional indexer is out-of-bounds\n"
     ]
    },
    {
     "name": "stderr",
     "output_type": "stream",
     "text": [
      "$WPCS: possibly delisted; no price data found  (1d 2023-12-30 -> 2024-01-29)\n",
      "$MSPD: possibly delisted; no price data found  (1d 2023-12-30 -> 2024-01-29)\n"
     ]
    },
    {
     "name": "stdout",
     "output_type": "stream",
     "text": [
      "Error fetching data for WPCS: No historical data available for WPCS around 2024-01-29.\n",
      "Error fetching data for MSPD: No historical data available for MSPD around 2024-01-29.\n"
     ]
    },
    {
     "name": "stderr",
     "output_type": "stream",
     "text": [
      "$SMLP: possibly delisted; no timezone found\n"
     ]
    },
    {
     "name": "stdout",
     "output_type": "stream",
     "text": [
      "Error fetching data for SMLP: No historical data available for SMLP around 2024-01-29.\n"
     ]
    },
    {
     "name": "stderr",
     "output_type": "stream",
     "text": [
      "$TDE: possibly delisted; no timezone found\n"
     ]
    },
    {
     "name": "stdout",
     "output_type": "stream",
     "text": [
      "Error fetching data for TDE: No historical data available for TDE around 2024-01-29.\n"
     ]
    },
    {
     "name": "stderr",
     "output_type": "stream",
     "text": [
      "$LOGM: possibly delisted; no timezone found\n"
     ]
    },
    {
     "name": "stdout",
     "output_type": "stream",
     "text": [
      "Error fetching data for LOGM: No historical data available for LOGM around 2024-01-29.\n"
     ]
    },
    {
     "name": "stderr",
     "output_type": "stream",
     "text": [
      "$FSGI: possibly delisted; no price data found  (1d 2023-12-30 -> 2024-01-29)\n"
     ]
    },
    {
     "name": "stdout",
     "output_type": "stream",
     "text": [
      "Error fetching data for FSGI: No historical data available for FSGI around 2024-01-29.\n"
     ]
    },
    {
     "name": "stderr",
     "output_type": "stream",
     "text": [
      "$QPACU: possibly delisted; no timezone found\n"
     ]
    },
    {
     "name": "stdout",
     "output_type": "stream",
     "text": [
      "Error fetching data for QPACU: No historical data available for QPACU around 2024-01-29.\n"
     ]
    },
    {
     "name": "stderr",
     "output_type": "stream",
     "text": [
      "$HBA-D: possibly delisted; no timezone found\n"
     ]
    },
    {
     "name": "stdout",
     "output_type": "stream",
     "text": [
      "Error fetching data for HBA-D: No historical data available for HBA-D around 2024-01-29.\n"
     ]
    },
    {
     "name": "stderr",
     "output_type": "stream",
     "text": [
      "$CASM: possibly delisted; no timezone found\n"
     ]
    },
    {
     "name": "stdout",
     "output_type": "stream",
     "text": [
      "Error fetching data for CASM: No historical data available for CASM around 2024-01-29.\n"
     ]
    },
    {
     "name": "stderr",
     "output_type": "stream",
     "text": [
      "$BKEPP: possibly delisted; no timezone found\n"
     ]
    },
    {
     "name": "stdout",
     "output_type": "stream",
     "text": [
      "Error fetching data for BKEPP: No historical data available for BKEPP around 2024-01-29.\n"
     ]
    },
    {
     "name": "stderr",
     "output_type": "stream",
     "text": [
      "$ARC: possibly delisted; no timezone found\n"
     ]
    },
    {
     "name": "stdout",
     "output_type": "stream",
     "text": [
      "Error fetching data for ARC: No historical data available for ARC around 2024-01-29.\n"
     ]
    },
    {
     "name": "stderr",
     "output_type": "stream",
     "text": [
      "$PRCP: possibly delisted; no timezone found\n"
     ]
    },
    {
     "name": "stdout",
     "output_type": "stream",
     "text": [
      "Error fetching data for PRCP: No historical data available for PRCP around 2024-01-29.\n"
     ]
    },
    {
     "name": "stderr",
     "output_type": "stream",
     "text": [
      "$SFI-D: possibly delisted; no timezone found\n"
     ]
    },
    {
     "name": "stdout",
     "output_type": "stream",
     "text": [
      "Error fetching data for SFI-D: No historical data available for SFI-D around 2024-01-29.\n"
     ]
    },
    {
     "name": "stderr",
     "output_type": "stream",
     "text": [
      "$FFBCW: possibly delisted; no timezone found\n",
      "$EOC: possibly delisted; no price data found  (1d 2023-12-30 -> 2024-01-29)\n"
     ]
    },
    {
     "name": "stdout",
     "output_type": "stream",
     "text": [
      "Error fetching data for FFBCW: No historical data available for FFBCW around 2024-01-29.\n",
      "Error fetching data for EOC: No historical data available for EOC around 2024-01-29.\n"
     ]
    },
    {
     "name": "stderr",
     "output_type": "stream",
     "text": [
      "$RDS.A: possibly delisted; no timezone found\n",
      "$ACE: possibly delisted; no price data found  (1d 2023-12-30 -> 2024-01-29)\n",
      "$WBKC: possibly delisted; no price data found  (1d 2023-12-30 -> 2024-01-29)\n"
     ]
    },
    {
     "name": "stdout",
     "output_type": "stream",
     "text": [
      "Error fetching data for RDS.A: No historical data available for RDS.A around 2024-01-29.\n",
      "Error fetching data for ACE: No historical data available for ACE around 2024-01-29.\n",
      "Error fetching data for WBKC: No historical data available for WBKC around 2024-01-29.\n"
     ]
    },
    {
     "name": "stderr",
     "output_type": "stream",
     "text": [
      "$XKE: possibly delisted; no price data found  (1d 2023-12-30 -> 2024-01-29)\n"
     ]
    },
    {
     "name": "stdout",
     "output_type": "stream",
     "text": [
      "Error fetching data for XKE: No historical data available for XKE around 2024-01-29.\n"
     ]
    },
    {
     "name": "stderr",
     "output_type": "stream",
     "text": [
      "$WAFDW: possibly delisted; no timezone found\n",
      "$DGIT: possibly delisted; no price data found  (1d 2023-12-30 -> 2024-01-29)\n"
     ]
    },
    {
     "name": "stdout",
     "output_type": "stream",
     "text": [
      "Error fetching data for WAFDW: No historical data available for WAFDW around 2024-01-29.\n",
      "Error fetching data for DGIT: No historical data available for DGIT around 2024-01-29.\n"
     ]
    },
    {
     "name": "stderr",
     "output_type": "stream",
     "text": [
      "$EMDR: possibly delisted; no price data found  (1d 2023-12-30 -> 2024-01-29)\n",
      "$STNR: possibly delisted; no price data found  (1d 2023-12-30 -> 2024-01-29)\n"
     ]
    },
    {
     "name": "stdout",
     "output_type": "stream",
     "text": [
      "Error fetching data for EMDR: No historical data available for EMDR around 2024-01-29.\n",
      "Error fetching data for STNR: No historical data available for STNR around 2024-01-29.\n"
     ]
    },
    {
     "name": "stderr",
     "output_type": "stream",
     "text": [
      "$ARIA: possibly delisted; no price data found  (1d 2023-12-30 -> 2024-01-29)\n"
     ]
    },
    {
     "name": "stdout",
     "output_type": "stream",
     "text": [
      "Error fetching data for ARIA: No historical data available for ARIA around 2024-01-29.\n"
     ]
    },
    {
     "name": "stderr",
     "output_type": "stream",
     "text": [
      "$RNE: possibly delisted; no price data found  (1d 2023-12-30 -> 2024-01-29)\n"
     ]
    },
    {
     "name": "stdout",
     "output_type": "stream",
     "text": [
      "Error fetching data for RNE: No historical data available for RNE around 2024-01-29.\n"
     ]
    },
    {
     "name": "stderr",
     "output_type": "stream",
     "text": [
      "$OCN: possibly delisted; no timezone found\n",
      "$STO: possibly delisted; no price data found  (1d 2023-12-30 -> 2024-01-29)\n"
     ]
    },
    {
     "name": "stdout",
     "output_type": "stream",
     "text": [
      "Error fetching data for OCN: No historical data available for OCN around 2024-01-29.\n",
      "Error fetching data for STO: No historical data available for STO around 2024-01-29.\n"
     ]
    },
    {
     "name": "stderr",
     "output_type": "stream",
     "text": [
      "$IPAS: possibly delisted; no price data found  (1d 2023-12-30 -> 2024-01-29)\n"
     ]
    },
    {
     "name": "stdout",
     "output_type": "stream",
     "text": [
      "Error fetching data for IPAS: No historical data available for IPAS around 2024-01-29.\n"
     ]
    },
    {
     "name": "stderr",
     "output_type": "stream",
     "text": [
      "$VVTV: possibly delisted; no price data found  (1d 2023-12-30 -> 2024-01-29)\n"
     ]
    },
    {
     "name": "stdout",
     "output_type": "stream",
     "text": [
      "Error fetching data for VVTV: No historical data available for VVTV around 2024-01-29.\n"
     ]
    },
    {
     "name": "stderr",
     "output_type": "stream",
     "text": [
      "$GGT-B: possibly delisted; no timezone found\n",
      "$ANW: possibly delisted; no price data found  (1d 2023-12-30 -> 2024-01-29)\n"
     ]
    },
    {
     "name": "stdout",
     "output_type": "stream",
     "text": [
      "Error fetching data for GGT-B: No historical data available for GGT-B around 2024-01-29.\n",
      "Error fetching data for ANW: No historical data available for ANW around 2024-01-29.\n"
     ]
    },
    {
     "name": "stderr",
     "output_type": "stream",
     "text": [
      "$AVV: possibly delisted; no timezone found\n"
     ]
    },
    {
     "name": "stdout",
     "output_type": "stream",
     "text": [
      "Error fetching data for AVV: No historical data available for AVV around 2024-01-29.\n"
     ]
    },
    {
     "name": "stderr",
     "output_type": "stream",
     "text": [
      "$XUE: possibly delisted; no price data found  (1d 2023-12-30 -> 2024-01-29)\n",
      "$DCIN: possibly delisted; no price data found  (1d 2023-12-30 -> 2024-01-29)\n",
      "$IBCA: possibly delisted; no price data found  (1d 2023-12-30 -> 2024-01-29)\n"
     ]
    },
    {
     "name": "stdout",
     "output_type": "stream",
     "text": [
      "Error fetching data for XUE: No historical data available for XUE around 2024-01-29.\n",
      "Error fetching data for DCIN: No historical data available for DCIN around 2024-01-29.\n",
      "Error fetching data for IBCA: No historical data available for IBCA around 2024-01-29.\n"
     ]
    },
    {
     "name": "stderr",
     "output_type": "stream",
     "text": [
      "$NWBOW: possibly delisted; no timezone found\n"
     ]
    },
    {
     "name": "stdout",
     "output_type": "stream",
     "text": [
      "Error fetching data for NWBOW: No historical data available for NWBOW around 2024-01-29.\n"
     ]
    },
    {
     "name": "stderr",
     "output_type": "stream",
     "text": [
      "$PGH: possibly delisted; no price data found  (1d 2023-12-30 -> 2024-01-29)\n"
     ]
    },
    {
     "name": "stdout",
     "output_type": "stream",
     "text": [
      "Error fetching data for PGH: No historical data available for PGH around 2024-01-29.\n"
     ]
    },
    {
     "name": "stderr",
     "output_type": "stream",
     "text": [
      "$VIA: possibly delisted; no timezone found\n",
      "$DRU: possibly delisted; no price data found  (1d 2023-12-30 -> 2024-01-29)\n"
     ]
    },
    {
     "name": "stdout",
     "output_type": "stream",
     "text": [
      "Error fetching data for VIA: No historical data available for VIA around 2024-01-29.\n",
      "Error fetching data for DRU: No historical data available for DRU around 2024-01-29.\n"
     ]
    },
    {
     "name": "stderr",
     "output_type": "stream",
     "text": [
      "$JTPY: possibly delisted; no price data found  (1d 2023-12-30 -> 2024-01-29)\n"
     ]
    },
    {
     "name": "stdout",
     "output_type": "stream",
     "text": [
      "Error fetching data for JTPY: No historical data available for JTPY around 2024-01-29.\n"
     ]
    },
    {
     "name": "stderr",
     "output_type": "stream",
     "text": [
      "$SFI-G: possibly delisted; no timezone found\n",
      "$BAGL: possibly delisted; no price data found  (1d 2023-12-30 -> 2024-01-29)\n"
     ]
    },
    {
     "name": "stdout",
     "output_type": "stream",
     "text": [
      "Error fetching data for SFI-G: No historical data available for SFI-G around 2024-01-29.\n",
      "Error fetching data for BAGL: No historical data available for BAGL around 2024-01-29.\n"
     ]
    },
    {
     "name": "stderr",
     "output_type": "stream",
     "text": [
      "$SYMM: possibly delisted; no price data found  (1d 2023-12-30 -> 2024-01-29)\n",
      "$RTK: possibly delisted; no price data found  (1d 2023-12-30 -> 2024-01-29)\n"
     ]
    },
    {
     "name": "stdout",
     "output_type": "stream",
     "text": [
      "Error fetching data for SYMM: No historical data available for SYMM around 2024-01-29.\n",
      "Error fetching data for RTK: No historical data available for RTK around 2024-01-29.\n"
     ]
    },
    {
     "name": "stderr",
     "output_type": "stream",
     "text": [
      "$CFC-A: possibly delisted; no timezone found\n",
      "$BAGR: possibly delisted; no price data found  (1d 2023-12-30 -> 2024-01-29)\n"
     ]
    },
    {
     "name": "stdout",
     "output_type": "stream",
     "text": [
      "Error fetching data for CFC-A: No historical data available for CFC-A around 2024-01-29.\n",
      "Error fetching data for BAGR: No historical data available for BAGR around 2024-01-29.\n"
     ]
    },
    {
     "name": "stderr",
     "output_type": "stream",
     "text": [
      "$DDR-K: possibly delisted; no timezone found\n"
     ]
    },
    {
     "name": "stdout",
     "output_type": "stream",
     "text": [
      "Error fetching data for DDR-K: No historical data available for DDR-K around 2024-01-29.\n"
     ]
    },
    {
     "name": "stderr",
     "output_type": "stream",
     "text": [
      "$COY: possibly delisted; no price data found  (1d 2023-12-30 -> 2024-01-29)\n"
     ]
    },
    {
     "name": "stdout",
     "output_type": "stream",
     "text": [
      "Error fetching data for COY: No historical data available for COY around 2024-01-29.\n"
     ]
    },
    {
     "name": "stderr",
     "output_type": "stream",
     "text": [
      "$BPFHP: possibly delisted; no timezone found\n",
      "$MYM: possibly delisted; no price data found  (1d 2023-12-30 -> 2024-01-29)\n"
     ]
    },
    {
     "name": "stdout",
     "output_type": "stream",
     "text": [
      "Error fetching data for BPFHP: No historical data available for BPFHP around 2024-01-29.\n",
      "Error fetching data for MYM: No historical data available for MYM around 2024-01-29.\n"
     ]
    },
    {
     "data": {
      "text/html": [],
      "text/plain": [
       "<IPython.core.display.HTML object>"
      ]
     },
     "metadata": {},
     "output_type": "display_data"
    },
    {
     "name": "stdout",
     "output_type": "stream",
     "text": [
      "Logged evaluation results to /Users/victor/Documents/GitHub/VS-Code/Side-Projects/TrainedModels/stockScreener/modelEvaluations.csv\n"
     ]
    },
    {
     "data": {
      "image/png": "[encoded data removed]",
      "text/plain": [
       "<Figure size 1200x800 with 2 Axes>"
      ]
     },
     "metadata": {},
     "output_type": "display_data"
    },
    {
     "name": "stdout",
     "output_type": "stream",
     "text": [
      "Collected 200 valid test tickers (target: 200)\n",
      "\n",
      "Evaluation Results:\n",
      "MAE: 0.370\n",
      "RMSE: 0.605\n",
      "R²: -0.081\n"
     ]
    }
   ],
   "source": [
    "def logEvaluation(model_name, mae, rmse, r2, model_folder, test_tickers):\n",
    "    \"\"\"Log evaluation metrics to CSV file\"\"\"\n",
    "    log_file = model_folder / \"modelEvaluations.csv\"\n",
    "    \n",
    "    new_entry_df = pd.DataFrame([{\n",
    "        \"Model Name\": model_name,\n",
    "        \"Timestamp\": datetime.now().strftime('%Y-%m-%d %H:%M'),\n",
    "        \"MAE\": f'{mae:.3f}',\n",
    "        \"RMSE\": f'{rmse:.3f}',\n",
    "        \"R2\": f'{r2:.3f}',\n",
    "        \"Epochs\": epochs,\n",
    "        \"Training Size\": trainingSize,\n",
    "        \"Test Size\": len(test_tickers),\n",
    "        \"Cat Names\": catNames,\n",
    "        \"Cont Names\": contNames,\n",
    "    }])\n",
    "    \n",
    "    try:\n",
    "        log_df = pd.read_csv(log_file)\n",
    "        log_df = pd.concat([log_df, new_entry_df], ignore_index=True)\n",
    "    except FileNotFoundError:\n",
    "        log_df = new_entry_df\n",
    "        \n",
    "    log_df.to_csv(log_file, index=False)\n",
    "    print(f\"Logged evaluation results to {log_file}\")\n",
    "\n",
    "def plotResults(results_df, model_name, model_folder):\n",
    "    \"\"\"Create and save visualization plots using all data points.\"\"\"\n",
    "    plt.figure(figsize=(12, 8))\n",
    "    \n",
    "    plt.subplot(2, 1, 1)\n",
    "    plt.scatter(results_df['Actual'], results_df['Predicted'], alpha=0.7, label='Predictions')\n",
    "    min_val = min(results_df['Actual'].min(), results_df['Predicted'].min())\n",
    "    max_val = max(results_df['Actual'].max(), results_df['Predicted'].max())\n",
    "    plt.plot([min_val, max_val], [min_val, max_val], color='red', linestyle='--', label='Perfect Prediction')\n",
    "    plt.title(f'Predicted vs. Actual Returns - {model_name}', fontsize=14)\n",
    "    plt.xlabel('Actual Returns')\n",
    "    plt.ylabel('Predicted Returns')\n",
    "    plt.legend()\n",
    "    plt.grid(alpha=0.5)\n",
    "    \n",
    "    plt.subplot(2, 1, 2)\n",
    "    plt.scatter(results_df['Predicted'], results_df['Residual'], alpha=0.7)\n",
    "    plt.axhline(y=0, color='r', linestyle='--')\n",
    "    plt.title('Residual Plot')\n",
    "    plt.xlabel('Predicted Returns')\n",
    "    plt.ylabel('Residual')\n",
    "    plt.grid(alpha=0.5)\n",
    "    \n",
    "    plt.tight_layout()\n",
    "    plt.show()\n",
    "\n",
    "if trainNewModel:\n",
    "    nonTrainingTickers = list(set(tickers) - set(trainingTickers))\n",
    "    validTestData = []\n",
    "    attempted_tickers = set()\n",
    "    attempts = 0\n",
    "\n",
    "    if testSize * 4 <= len(tickers):  \n",
    "        max_attempts = testSize * 4 # Prevent infinite loops\n",
    "    else:\n",
    "        max_attempts = len(tickers)\n",
    "\n",
    "    # Keep trying until we reach testSize or exhaust attempts\n",
    "    while len(validTestData) < testSize and attempts < max_attempts:\n",
    "        # Get a new ticker we haven't tried yet\n",
    "        remaining_tickers = [t for t in nonTrainingTickers if t not in attempted_tickers]\n",
    "        if not remaining_tickers:  # If all tried, reset attempted list\n",
    "            attempted_tickers = set()\n",
    "            remaining_tickers = nonTrainingTickers\n",
    "            \n",
    "        ticker = np.random.choice(remaining_tickers)\n",
    "        attempted_tickers.add(ticker)\n",
    "        attempts += 1\n",
    "\n",
    "        # Fetch and validate data\n",
    "        data = getTickerDataFrom1YrAgo(ticker)\n",
    "        if not data.empty and not data[['EV/EBIT', 'ROIC']].isna().any().any():\n",
    "            validTestData.append(data)\n",
    "\n",
    "    if not validTestData:\n",
    "        raise ValueError(\"No valid test data collected after multiple attempts\")\n",
    "        \n",
    "    # Trim to exact testSize if we collected more\n",
    "    validTestData = validTestData[:testSize]  \n",
    "    combinedTestData = pd.concat(validTestData, ignore_index=True)\n",
    "\n",
    "    # Clean data\n",
    "    test_data_clean = combinedTestData.dropna(subset=['EV/EBIT', 'ROIC', 'Future Year Change'])\n",
    "    \n",
    "    if test_data_clean.empty:\n",
    "        raise ValueError(\"No valid test data after cleaning NaN values\")\n",
    "\n",
    "    # Create test dataloader\n",
    "    test_dl = learn.dls.test_dl(test_data_clean)\n",
    "    preds, targs = learn.get_preds(dl=test_dl)\n",
    "    \n",
    "    # Create results DataFrame\n",
    "    results_df = pd.DataFrame({\n",
    "        'Predicted': preds.numpy().flatten(),\n",
    "        'Actual': targs.numpy().flatten()\n",
    "    })\n",
    "    results_df['Residual'] = results_df['Actual'] - results_df['Predicted']\n",
    "\n",
    "    # Calculate metrics\n",
    "    mae = np.mean(np.abs(results_df['Residual']))\n",
    "    rmse = np.sqrt(np.mean(results_df['Residual']**2))\n",
    "    r2 = 1 - (np.sum(results_df['Residual']**2) / np.sum((results_df['Actual'] - results_df['Actual'].mean())**2))\n",
    "\n",
    "    # Log and plot\n",
    "    logEvaluation(modelName, mae, rmse, r2, modelFolder, test_data_clean['Ticker'].unique())\n",
    "    plotResults(results_df, modelName, modelFolder)\n",
    "\n",
    "    # Show collection stats\n",
    "    print(f\"Collected {len(validTestData)} valid test tickers (target: {testSize})\")\n",
    "    if attempts >= max_attempts:\n",
    "        print(f\"Warning: Reached max attempts ({max_attempts}). Some invalid tickers may remain.\")  \n",
    "    print(f\"\\nEvaluation Results:\")\n",
    "    print(f\"MAE: {mae:.3f}\")\n",
    "    print(f\"RMSE: {rmse:.3f}\")\n",
    "    print(f\"R²: {r2:.3f}\")"
   ]
  },
  {
   "cell_type": "markdown",
   "metadata": {},
   "source": [
    "## Predictions"
   ]
  },
  {
   "cell_type": "code",
   "execution_count": 46,
   "metadata": {},
   "outputs": [
    {
     "name": "stdout",
     "output_type": "stream",
     "text": [
      "Model files in modelFolder:\n",
      "stockScreenerV2.0.pkl\n",
      "stockScreenerV1.5.pkl\n",
      "stockScreenerV1.4.pkl\n",
      "stockScreenerV1.6.pkl\n",
      "stockScreenerV1.7.pkl\n",
      "stockScreenerV1.3.pkl\n",
      "stockScreenerV1.2.pkl\n",
      "stockScreenerV1.0.pkl\n",
      "stockScreenerV1.1.pkl\n",
      "stockScreenerV1.9.pkl\n",
      "stockScreenerV1.8.pkl\n",
      "stockScreenerV1.10.pkl\n"
     ]
    }
   ],
   "source": [
    "print('Model files in modelFolder:')\n",
    "for file in modelFolder.glob('*.pkl'):\n",
    "    print(file.name)"
   ]
  },
  {
   "cell_type": "code",
   "execution_count": 47,
   "metadata": {},
   "outputs": [
    {
     "data": {
      "text/plain": [
       "Model Name    stockScreenerV1.7\n",
       "Timestamp      2025-01-27 08:45\n",
       "MAE                       0.328\n",
       "RMSE                      0.739\n",
       "R2                        0.077\n",
       "Name: 7, dtype: object"
      ]
     },
     "execution_count": 47,
     "metadata": {},
     "output_type": "execute_result"
    }
   ],
   "source": [
    "evaluations = pd.read_csv(modelFolder / 'modelEvaluations.csv')\n",
    "bestModel = evaluations.sort_values('MAE', ascending=True).iloc[0]\n",
    "bestModel.head()"
   ]
  },
  {
   "cell_type": "markdown",
   "metadata": {},
   "source": [
    "### Load model"
   ]
  },
  {
   "cell_type": "code",
   "execution_count": 48,
   "metadata": {},
   "outputs": [],
   "source": [
    "if os.name == 'nt':\n",
    "    temp = pathlib.PosixPath\n",
    "    pathlib.PosixPath = pathlib.WindowsPath\n",
    "else:\n",
    "    pathlib.WindowsPath = pathlib.PosixPath\n",
    "\n",
    "importedModel = Path(f\"{bestModel['Model Name']}.pkl\") # Change this if you want to try other models\n",
    "learn = load_learner(modelFolder / importedModel)"
   ]
  },
  {
   "cell_type": "code",
   "execution_count": 49,
   "metadata": {},
   "outputs": [],
   "source": [
    "#predictionTarget = '95%'"
   ]
  },
  {
   "cell_type": "code",
   "execution_count": null,
   "metadata": {},
   "outputs": [
    {
     "data": {
      "text/html": [],
      "text/plain": [
       "<IPython.core.display.HTML object>"
      ]
     },
     "metadata": {},
     "output_type": "display_data"
    },
    {
     "name": "stdout",
     "output_type": "stream",
     "text": [
      "Prediction for DRS (Unknown):\n",
      "1.40%\n",
      "Free money?!\n"
     ]
    }
   ],
   "source": [
    "if predictionTarget != 'None':\n",
    "    if predictionTarget == 'ALL':\n",
    "        predictionTickers = tickers\n",
    "    elif predictionTarget.endswith('%'):\n",
    "        percentage = float(predictionTarget.strip('%')) / 100\n",
    "        num_tickers = int(len(tickers) * percentage)\n",
    "        predictionTickers = np.random.choice(tickers, size=num_tickers, replace=False).tolist()\n",
    "    else:\n",
    "        predictionTickers = [predictionTarget]\n",
    "\n",
    "    # Fetch data for prediction tickers\n",
    "    dfPrediction = pd.concat([getTickerData(ticker) for ticker in predictionTickers], ignore_index=True)\n",
    "\n",
    "    # Ensure dfPrediction is a DataFrame\n",
    "    if isinstance(dfPrediction, dict):\n",
    "        dfPrediction = pd.DataFrame([dfPrediction])\n",
    "\n",
    "    # Drop rows with NaN values in 'EV/EBIT' or 'ROIC'\n",
    "    dfPrediction = dfPrediction.dropna(subset=['EV/EBIT', 'ROIC'])\n",
    "\n",
    "    # Create test dataloader\n",
    "    dl = learn.dls.test_dl(dfPrediction)\n",
    "    dfPrediction.head()\n",
    "\n",
    "    # Make predictions\n",
    "    prediction = learn.get_preds(dl=dl)\n",
    "    adr_df = pd.read_csv(testFolder / 'tickers.csv')\n",
    "    company_dict = dict(zip(adr_df['Ticker'], adr_df['Company']))\n",
    "\n",
    "    if predictionTarget == 'ALL' or predictionTarget.endswith('%'):\n",
    "        sorted_predictions = sorted(zip(predictionTickers, prediction[0]), key=lambda x: x[1], reverse=True)\n",
    "        print(f\"Got predictions for {len(sorted_predictions)} tickers, expected: {len(predictionTickers)}\")\n",
    "        print(f\"Prediction for best performing tickers:\")\n",
    "        for symbol, pred in sorted_predictions:\n",
    "            company_name = company_dict.get(symbol, 'Unknown')\n",
    "            print(f\"{symbol} ({company_name}): {pred[0].item() * 100:.2f}%\")\n",
    "    else:\n",
    "        company_name = company_dict.get(predictionTarget, 'Unknown')\n",
    "        print(f\"Prediction for {predictionTarget} ({company_name}):\")\n",
    "        print(f\"{prediction[0][0][0].item() * 100:.2f}%\")\n",
    "    print(\"Free money?!\")"
   ]
  },
  {
   "cell_type": "code",
   "execution_count": null,
   "metadata": {},
   "outputs": [],
   "source": []
  }
 ],
 "metadata": {
  "kernelspec": {
   "display_name": "base",
   "language": "python",
   "name": "python3"
  },
  "language_info": {
   "codemirror_mode": {
    "name": "ipython",
    "version": 3
   },
   "file_extension": ".py",
   "mimetype": "text/x-python",
   "name": "python",
   "nbconvert_exporter": "python",
   "pygments_lexer": "ipython3",
   "version": "3.12.2"
  }
 },
 "nbformat": 4,
 "nbformat_minor": 2
}
