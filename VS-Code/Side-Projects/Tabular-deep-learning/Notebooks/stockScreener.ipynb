{
 "cells": [
  {
   "cell_type": "markdown",
   "metadata": {},
   "source": [
    "## Stock Screener: Model Training and Evaluation"
   ]
  },
  {
   "cell_type": "markdown",
   "metadata": {},
   "source": [
    "### Library Installation (if needed)"
   ]
  },
  {
   "cell_type": "code",
   "execution_count": 41,
   "metadata": {},
   "outputs": [],
   "source": [
    "# Install libraries the first time\n",
    "# ! conda install fastai::fastai conda-forge::yfinance pandas pathlib numpy"
   ]
  },
  {
   "cell_type": "markdown",
   "metadata": {},
   "source": [
    "### Importing Required Libraries"
   ]
  },
  {
   "cell_type": "code",
   "execution_count": 42,
   "metadata": {},
   "outputs": [],
   "source": [
    "from fastai.tabular.all import *\n",
    "from fastai.metrics import rmse, mae\n",
    "from datetime import datetime, timedelta\n",
    "import matplotlib.pyplot as plt\n",
    "import yfinance as yf\n",
    "import pandas as pd\n",
    "import numpy as np\n",
    "import pathlib\n",
    "import os"
   ]
  },
  {
   "cell_type": "markdown",
   "metadata": {},
   "source": [
    "### Global Variables"
   ]
  },
  {
   "cell_type": "code",
   "execution_count": 43,
   "metadata": {},
   "outputs": [],
   "source": [
    "# Model settings\n",
    "modelName = 'stockScreenerV11.0'\n",
    "trainingData = 'stockData.csv'\n",
    "getNewData = True \n",
    "trainNewModel = True\n",
    "predictionTarget = 'NVO'  # 'ALL' for all tickers, 'None' for no prediction\n",
    "\n",
    "# Training parameters\n",
    "trainingSize = 200  # Number of stocks to use for training\n",
    "timeFrame = '10y'   # Options: '1d', '5d', '1mo', '3mo', '6mo', '1y', '2y', '5y', '10y', 'ytd', 'max'\n",
    "yNames = ['Future Year Change']\n",
    "catNames = ['Date']\n",
    "contNames = ['Open', 'Close', 'Volume', 'Dividends', 'Stock Splits', 'EV/EBIT', 'ROIC']\n",
    "batchSize = 256\n",
    "epochs = 25\n",
    "\n",
    "# Testing parameters\n",
    "testSize = 300  # Number of stocks to test, 'ALL' for all non-training stocks\n",
    "\n",
    "# Paths\n",
    "basePath = Path.cwd().parent\n",
    "dataFolder = basePath / 'TrainingData'\n",
    "modelFolder = basePath.parent / 'TrainedModels' / 'stockScreener'\n",
    "testFolder = basePath / 'TestData'"
   ]
  },
  {
   "cell_type": "markdown",
   "metadata": {},
   "source": [
    "## Data Preparation"
   ]
  },
  {
   "cell_type": "markdown",
   "metadata": {},
   "source": [
    "#### Remove Duplicate Tickers"
   ]
  },
  {
   "cell_type": "code",
   "execution_count": 44,
   "metadata": {},
   "outputs": [],
   "source": [
    "df = pd.read_csv(testFolder / 'tickers.csv')\n",
    "df.drop_duplicates().to_csv(testFolder / 'tickers.csv', index=False)"
   ]
  },
  {
   "cell_type": "markdown",
   "metadata": {},
   "source": [
    "#### Utility Functions"
   ]
  },
  {
   "cell_type": "code",
   "execution_count": 45,
   "metadata": {},
   "outputs": [],
   "source": [
    "def getIndustry(tickerSymbol):\n",
    "    \"\"\"Fetches the industry of the given ticker symbol.\"\"\"\n",
    "    try:\n",
    "        return yf.Ticker(tickerSymbol).info.get('industry', 'Unknown')\n",
    "    except Exception as e:\n",
    "        return 'Error'"
   ]
  },
  {
   "cell_type": "code",
   "execution_count": 46,
   "metadata": {},
   "outputs": [],
   "source": [
    "def calculateFutureYearChange(ticker_symbol, timeframe, buffer=1):\n",
    "    try:\n",
    "        ticker = yf.Ticker(ticker_symbol)\n",
    "        end_date = datetime.now().date()\n",
    "        \n",
    "        # Calculate required date range\n",
    "        if timeframe == 'max':\n",
    "            hist = ticker.history(period='max')\n",
    "        else:\n",
    "            years = int(timeframe[:-1])\n",
    "            start_date = end_date - pd.DateOffset(years=years + buffer)\n",
    "            \n",
    "            # First check if ticker has existed long enough\n",
    "            try:\n",
    "                hist = ticker.history(start=start_date, end=end_date)\n",
    "            except Exception as e:\n",
    "                print(f\"Data unavailable for {ticker_symbol} ({timeframe}): {e}\")\n",
    "                return pd.DataFrame()\n",
    "\n",
    "        if hist.empty:\n",
    "            print(f\"No data found for {ticker_symbol} ({timeframe})\")\n",
    "            return pd.DataFrame()\n",
    "\n",
    "        # Calculate future changes only if we have enough data points\n",
    "        if len(hist) < 300:  # Minimum ~1.5 years of trading days\n",
    "            print(f\"Insufficient data for {ticker_symbol} ({len(hist)} rows)\")\n",
    "            return pd.DataFrame()\n",
    "\n",
    "        # Calculate future price change\n",
    "        hist['Future Year Change'] = (hist['Close'].shift(-252) / hist['Close'] - 1)\n",
    "        hist = hist.dropna(subset=['Future Year Change'])\n",
    "        \n",
    "        return hist[['Open', 'Close', 'Volume', 'Dividends', 'Stock Splits', 'Future Year Change']]\n",
    "\n",
    "    except Exception as e:\n",
    "        print(f\"Error processing {ticker_symbol}: {str(e)}\")\n",
    "        return pd.DataFrame()"
   ]
  },
  {
   "cell_type": "code",
   "execution_count": 47,
   "metadata": {},
   "outputs": [],
   "source": [
    "def getEVComponents(tickerSymbol):\n",
    "    \"\"\"Fetches static EV components (total debt, cash, shares outstanding).\"\"\"\n",
    "    try:\n",
    "        info = yf.Ticker(tickerSymbol).info\n",
    "        return info.get('totalDebt', 0), info.get('totalCash', 0), info.get('sharesOutstanding', None)\n",
    "    except Exception as e:\n",
    "        return None, None, None"
   ]
  },
  {
   "cell_type": "code",
   "execution_count": 48,
   "metadata": {},
   "outputs": [],
   "source": [
    "def calculateApproxEBIT(tickerSymbol):\n",
    "    try:\n",
    "        info = yf.Ticker(tickerSymbol).info\n",
    "        revenue = info.get('totalRevenue', None)\n",
    "        operatingIncome = info.get('operatingIncome', None)\n",
    "        ebit = operatingIncome if operatingIncome else (revenue * 0.15 if revenue else None)\n",
    "        return ebit if ebit and ebit != 0 else None  # Avoid zero division\n",
    "    except Exception as e:\n",
    "        return None"
   ]
  },
  {
   "cell_type": "code",
   "execution_count": 49,
   "metadata": {},
   "outputs": [],
   "source": [
    "def enrichDataWithMetrics(histData):\n",
    "    \"\"\"Adds EV/EBIT and ROIC to the historical data.\"\"\"\n",
    "    # Initialize columns with NaN if they don't exist\n",
    "    if 'EV/EBIT' not in histData.columns:\n",
    "        histData['EV/EBIT'] = np.nan\n",
    "    if 'ROIC' not in histData.columns:\n",
    "        histData['ROIC'] = np.nan\n",
    "    \n",
    "    for ticker in histData['Ticker'].unique():\n",
    "        try:\n",
    "            totalDebt, cash, sharesOutstanding = getEVComponents(ticker)\n",
    "            ebit = calculateApproxEBIT(ticker)\n",
    "\n",
    "            if sharesOutstanding and ebit and ebit != 0:\n",
    "                histData.loc[histData['Ticker'] == ticker, 'EV/EBIT'] = (\n",
    "                    (histData['Close'] * sharesOutstanding + totalDebt - cash) / ebit\n",
    "                )\n",
    "\n",
    "                taxRate = 0.21\n",
    "                nopat = ebit * (1 - taxRate)\n",
    "                investedCapital = totalDebt + (histData['Close'] * sharesOutstanding) - cash\n",
    "                histData.loc[histData['Ticker'] == ticker, 'ROIC'] = nopat / investedCapital\n",
    "        except Exception as e:\n",
    "            pass\n",
    "    return histData"
   ]
  },
  {
   "cell_type": "code",
   "execution_count": 50,
   "metadata": {},
   "outputs": [],
   "source": [
    "def getTickerDataFrom1YrAgo(ticker_symbol):\n",
    "    try:\n",
    "        # Fetch ticker data\n",
    "        ticker = yf.Ticker(ticker_symbol)\n",
    "\n",
    "        # Define the date range: one year ago to today\n",
    "        today = datetime.today()\n",
    "        one_year_ago = today - timedelta(days=365)\n",
    "\n",
    "        # Fetch historical data for one year ago\n",
    "        hist = ticker.history(start=(one_year_ago - timedelta(days=30)).strftime('%Y-%m-%d'), \n",
    "                              end=(one_year_ago + timedelta(days=0)).strftime('%Y-%m-%d'))\n",
    "        if hist.empty:\n",
    "            raise ValueError(f\"No historical data available for {ticker_symbol} around {one_year_ago.strftime('%Y-%m-%d')}.\")\n",
    "\n",
    "        # Extract the closest data point to one year ago\n",
    "        row = hist.iloc[0]  # Get the first available entry within the date range\n",
    "\n",
    "        # Price today\n",
    "        price_today = ticker.history(period='1d')['Close'].iloc[-1]\n",
    "\n",
    "        # Calculate future price change (from one year ago to today)\n",
    "        price_change_future = ((price_today - row['Close']) / row['Close']) if row['Close'] else None\n",
    "\n",
    "        # Collect additional data\n",
    "        total_debt, cash, shares_outstanding = getEVComponents(ticker_symbol)\n",
    "        ebit = calculateApproxEBIT(ticker_symbol)\n",
    "        ev = (row['Close'] * shares_outstanding) + total_debt - cash if shares_outstanding else None\n",
    "        ev_ebit = ev / ebit if ebit else None\n",
    "        market_cap = row['Close'] * shares_outstanding if shares_outstanding else None\n",
    "        tax_rate = 0.21\n",
    "        nopat = ebit * (1 - tax_rate) if ebit else None\n",
    "        invested_capital = total_debt + market_cap - cash if market_cap and total_debt and cash else None\n",
    "        roic = nopat / invested_capital if nopat and invested_capital else None\n",
    "        industry = getIndustry(ticker_symbol)\n",
    "\n",
    "        # Return as a DataFrame\n",
    "        return pd.DataFrame([{\n",
    "            'Ticker': ticker_symbol,\n",
    "            'Date': row.name,\n",
    "            'Open': row['Open'],\n",
    "            'High': row['High'],\n",
    "            'Low': row['Low'],\n",
    "            'Close': row['Close'],\n",
    "            'Volume': row['Volume'],\n",
    "            'Dividends': row.get('Dividends', 0.0),\n",
    "            'Stock Splits': row.get('Stock Splits', 0.0),\n",
    "            'Future Year Change': price_change_future,\n",
    "            'Industry': industry,\n",
    "            'EV/EBIT': ev_ebit,\n",
    "            'ROIC': roic\n",
    "        }])\n",
    "\n",
    "    except Exception as e:\n",
    "        print(f\"Error fetching data for {ticker_symbol}: {e}\")\n",
    "        return pd.DataFrame()"
   ]
  },
  {
   "cell_type": "code",
   "execution_count": 51,
   "metadata": {},
   "outputs": [],
   "source": [
    "def getTickerData(ticker_symbol):\n",
    "    try:\n",
    "        ticker = yf.Ticker(ticker_symbol)\n",
    "        hist = ticker.history(period='1d')\n",
    "        total_debt, cash, shares_outstanding = getEVComponents(ticker_symbol)\n",
    "        ebit = calculateApproxEBIT(ticker_symbol)\n",
    "        ev = (hist['Close'].iloc[-1] * shares_outstanding) + total_debt - cash\n",
    "        ev_ebit = ev / ebit if ebit else None\n",
    "        market_cap = hist['Close'].iloc[-1] * shares_outstanding\n",
    "        tax_rate = 0.21\n",
    "        nopat = ebit * (1 - tax_rate) if ebit else None\n",
    "        invested_capital = total_debt + market_cap - cash\n",
    "        roic = nopat / invested_capital if nopat and invested_capital else None\n",
    "        industry = getIndustry(ticker_symbol)\n",
    "        \n",
    "        # Add the 'Date' column\n",
    "        date = datetime.now().strftime('%Y-%m-%d')\n",
    "\n",
    "        return pd.DataFrame([{\n",
    "            'Date': date,\n",
    "            'Open': hist['Open'].iloc[-1],\n",
    "            'High': hist['High'].iloc[-1],\n",
    "            'Low': hist['Low'].iloc[-1],\n",
    "            'Close': hist['Close'].iloc[-1],\n",
    "            'Volume': hist['Volume'].iloc[-1],\n",
    "            'Dividends': hist.get('Dividends', pd.Series([0.0])).iloc[-1],\n",
    "            'Stock Splits': hist.get('Stock Splits', pd.Series([0.0])).iloc[-1],\n",
    "            'EV/EBIT': ev_ebit,\n",
    "            'Market Cap': market_cap,\n",
    "            'ROIC': roic,\n",
    "            'Industry': industry\n",
    "        }])\n",
    "    except Exception as e:\n",
    "\n",
    "        return pd.DataFrame()"
   ]
  },
  {
   "cell_type": "markdown",
   "metadata": {},
   "source": [
    "#### Download and Process Historical Data"
   ]
  },
  {
   "cell_type": "code",
   "execution_count": 52,
   "metadata": {},
   "outputs": [
    {
     "name": "stdout",
     "output_type": "stream",
     "text": [
      "Processing NEOG...\n"
     ]
    },
    {
     "name": "stderr",
     "output_type": "stream",
     "text": [
      "$HNR: possibly delisted; no price data found  (1d 2014-01-25 00:00:00 -> 2025-01-25)\n"
     ]
    },
    {
     "name": "stdout",
     "output_type": "stream",
     "text": [
      "Processing HNR...\n",
      "No data found for HNR (10y)\n",
      "Skipped HNR - insufficient data\n",
      "Processing GM-B...\n"
     ]
    },
    {
     "name": "stderr",
     "output_type": "stream",
     "text": [
      "$GM-B: possibly delisted; no timezone found\n"
     ]
    },
    {
     "name": "stdout",
     "output_type": "stream",
     "text": [
      "No data found for GM-B (10y)\n",
      "Skipped GM-B - insufficient data\n",
      "Processing BCPC...\n",
      "Processing AHT...\n",
      "Processing KELYB...\n",
      "Processing PKBK...\n",
      "Processing BCF...\n",
      "Insufficient data for BCF (1 rows)\n",
      "Skipped BCF - insufficient data\n",
      "Processing DSU...\n",
      "Processing HXL...\n",
      "Processing MTX...\n",
      "Processing E...\n",
      "Processing GOGO...\n",
      "Processing BEP...\n",
      "Processing ARQL...\n"
     ]
    },
    {
     "name": "stderr",
     "output_type": "stream",
     "text": [
      "$ARQL: possibly delisted; no timezone found\n"
     ]
    },
    {
     "name": "stdout",
     "output_type": "stream",
     "text": [
      "No data found for ARQL (10y)\n",
      "Skipped ARQL - insufficient data\n",
      "Processing GLAD...\n",
      "Processing WIN...\n"
     ]
    },
    {
     "name": "stderr",
     "output_type": "stream",
     "text": [
      "$WIN: possibly delisted; no timezone found\n"
     ]
    },
    {
     "name": "stdout",
     "output_type": "stream",
     "text": [
      "No data found for WIN (10y)\n",
      "Skipped WIN - insufficient data\n",
      "Processing STI-E...\n"
     ]
    },
    {
     "name": "stderr",
     "output_type": "stream",
     "text": [
      "$STI-E: possibly delisted; no timezone found\n",
      "$NBG: possibly delisted; no price data found  (1d 2014-01-25 00:00:00 -> 2025-01-25)\n"
     ]
    },
    {
     "name": "stdout",
     "output_type": "stream",
     "text": [
      "No data found for STI-E (10y)\n",
      "Skipped STI-E - insufficient data\n",
      "Processing NBG...\n",
      "No data found for NBG (10y)\n",
      "Skipped NBG - insufficient data\n",
      "Processing TUP...\n"
     ]
    },
    {
     "name": "stderr",
     "output_type": "stream",
     "text": [
      "$TUP: possibly delisted; no timezone found\n",
      "$GMT: possibly delisted; no price data found  (1d 2014-01-25 00:00:00 -> 2025-01-25)\n"
     ]
    },
    {
     "name": "stdout",
     "output_type": "stream",
     "text": [
      "No data found for TUP (10y)\n",
      "Skipped TUP - insufficient data\n",
      "Processing GMT...\n",
      "No data found for GMT (10y)\n",
      "Skipped GMT - insufficient data\n",
      "Processing NASB...\n",
      "Processing LHO-H...\n"
     ]
    },
    {
     "name": "stderr",
     "output_type": "stream",
     "text": [
      "$LHO-H: possibly delisted; no timezone found\n",
      "$CGG: possibly delisted; no price data found  (1d 2014-01-25 00:00:00 -> 2025-01-25)\n"
     ]
    },
    {
     "name": "stdout",
     "output_type": "stream",
     "text": [
      "No data found for LHO-H (10y)\n",
      "Skipped LHO-H - insufficient data\n",
      "Processing CGG...\n",
      "No data found for CGG (10y)\n",
      "Skipped CGG - insufficient data\n",
      "Processing GKM...\n",
      "Insufficient data for GKM (135 rows)\n",
      "Skipped GKM - insufficient data\n",
      "Processing DELL...\n",
      "Processing GTS...\n"
     ]
    },
    {
     "name": "stderr",
     "output_type": "stream",
     "text": [
      "$GTS: possibly delisted; no timezone found\n"
     ]
    },
    {
     "name": "stdout",
     "output_type": "stream",
     "text": [
      "No data found for GTS (10y)\n",
      "Skipped GTS - insufficient data\n",
      "Processing NTG...\n",
      "Processing SKBI...\n"
     ]
    },
    {
     "name": "stderr",
     "output_type": "stream",
     "text": [
      "$SKBI: possibly delisted; no timezone found\n"
     ]
    },
    {
     "name": "stdout",
     "output_type": "stream",
     "text": [
      "No data found for SKBI (10y)\n",
      "Skipped SKBI - insufficient data\n",
      "Processing CBB...\n"
     ]
    },
    {
     "name": "stderr",
     "output_type": "stream",
     "text": [
      "$CBB: possibly delisted; no timezone found\n"
     ]
    },
    {
     "name": "stdout",
     "output_type": "stream",
     "text": [
      "No data found for CBB (10y)\n",
      "Skipped CBB - insufficient data\n",
      "Processing GSK...\n",
      "Processing KOF...\n",
      "Processing HSII...\n"
     ]
    },
    {
     "name": "stderr",
     "output_type": "stream",
     "text": [
      "$DVR: possibly delisted; no price data found  (1d 2014-01-25 00:00:00 -> 2025-01-25)\n"
     ]
    },
    {
     "name": "stdout",
     "output_type": "stream",
     "text": [
      "Processing DVR...\n",
      "No data found for DVR (10y)\n",
      "Skipped DVR - insufficient data\n",
      "Processing KAMN...\n"
     ]
    },
    {
     "name": "stderr",
     "output_type": "stream",
     "text": [
      "$KAMN: possibly delisted; no timezone found\n"
     ]
    },
    {
     "name": "stdout",
     "output_type": "stream",
     "text": [
      "No data found for KAMN (10y)\n",
      "Skipped KAMN - insufficient data\n",
      "Processing SRC...\n"
     ]
    },
    {
     "name": "stderr",
     "output_type": "stream",
     "text": [
      "$SRC: possibly delisted; no timezone found\n"
     ]
    },
    {
     "name": "stdout",
     "output_type": "stream",
     "text": [
      "No data found for SRC (10y)\n",
      "Skipped SRC - insufficient data\n",
      "Processing MXF...\n",
      "Processing ALG...\n",
      "Processing OXM...\n",
      "Processing NAC...\n"
     ]
    },
    {
     "name": "stderr",
     "output_type": "stream",
     "text": [
      "$HNT: possibly delisted; no price data found  (1d 2014-01-25 00:00:00 -> 2025-01-25)\n"
     ]
    },
    {
     "name": "stdout",
     "output_type": "stream",
     "text": [
      "Processing HNT...\n",
      "No data found for HNT (10y)\n",
      "Skipped HNT - insufficient data\n",
      "Processing MAA...\n",
      "Processing PENN...\n"
     ]
    },
    {
     "name": "stderr",
     "output_type": "stream",
     "text": [
      "$KYO: possibly delisted; no price data found  (1d 2014-01-25 00:00:00 -> 2025-01-25)\n"
     ]
    },
    {
     "name": "stdout",
     "output_type": "stream",
     "text": [
      "Processing KYO...\n",
      "No data found for KYO (10y)\n",
      "Skipped KYO - insufficient data\n",
      "Processing PSCI...\n",
      "Processing STND...\n"
     ]
    },
    {
     "name": "stderr",
     "output_type": "stream",
     "text": [
      "$STND: possibly delisted; no timezone found\n"
     ]
    },
    {
     "name": "stdout",
     "output_type": "stream",
     "text": [
      "No data found for STND (10y)\n",
      "Skipped STND - insufficient data\n",
      "Processing PNRG...\n",
      "Processing PDM...\n",
      "Processing UNM...\n",
      "Processing ANAC...\n"
     ]
    },
    {
     "name": "stderr",
     "output_type": "stream",
     "text": [
      "$ANAC: possibly delisted; no timezone found\n"
     ]
    },
    {
     "name": "stdout",
     "output_type": "stream",
     "text": [
      "No data found for ANAC (10y)\n",
      "Skipped ANAC - insufficient data\n",
      "Processing AIF...\n"
     ]
    },
    {
     "name": "stderr",
     "output_type": "stream",
     "text": [
      "$AIF: possibly delisted; no timezone found\n"
     ]
    },
    {
     "name": "stdout",
     "output_type": "stream",
     "text": [
      "No data found for AIF (10y)\n",
      "Skipped AIF - insufficient data\n",
      "Processing TDC...\n",
      "Processing ATRI...\n"
     ]
    },
    {
     "name": "stderr",
     "output_type": "stream",
     "text": [
      "$ATRI: possibly delisted; no timezone found\n"
     ]
    },
    {
     "name": "stdout",
     "output_type": "stream",
     "text": [
      "No data found for ATRI (10y)\n",
      "Skipped ATRI - insufficient data\n",
      "Processing SHG...\n",
      "Processing KVHI...\n",
      "Processing TMS...\n",
      "Processing DUKH...\n",
      "Insufficient data for DUKH (136 rows)\n",
      "Skipped DUKH - insufficient data\n",
      "Processing VRNG...\n"
     ]
    },
    {
     "name": "stderr",
     "output_type": "stream",
     "text": [
      "$VRNG: possibly delisted; no price data found  (1d 2014-01-25 00:00:00 -> 2025-01-25)\n"
     ]
    },
    {
     "name": "stdout",
     "output_type": "stream",
     "text": [
      "No data found for VRNG (10y)\n",
      "Skipped VRNG - insufficient data\n",
      "Processing SN...\n",
      "Processing FNGN...\n"
     ]
    },
    {
     "name": "stderr",
     "output_type": "stream",
     "text": [
      "$FNGN: possibly delisted; no timezone found\n"
     ]
    },
    {
     "name": "stdout",
     "output_type": "stream",
     "text": [
      "No data found for FNGN (10y)\n",
      "Skipped FNGN - insufficient data\n",
      "Processing PTX...\n"
     ]
    },
    {
     "name": "stderr",
     "output_type": "stream",
     "text": [
      "$PTX: possibly delisted; no timezone found\n"
     ]
    },
    {
     "name": "stdout",
     "output_type": "stream",
     "text": [
      "No data found for PTX (10y)\n",
      "Skipped PTX - insufficient data\n",
      "Processing LPX...\n",
      "Processing CLVS...\n"
     ]
    },
    {
     "name": "stderr",
     "output_type": "stream",
     "text": [
      "$CLVS: possibly delisted; no timezone found\n"
     ]
    },
    {
     "name": "stdout",
     "output_type": "stream",
     "text": [
      "No data found for CLVS (10y)\n",
      "Skipped CLVS - insufficient data\n",
      "Processing IBCP...\n",
      "Processing NYMT...\n",
      "Processing HSTM...\n",
      "Processing INTG...\n",
      "Processing LXU...\n",
      "Processing ADI...\n"
     ]
    },
    {
     "name": "stderr",
     "output_type": "stream",
     "text": [
      "$KMP: possibly delisted; no price data found  (1d 2014-01-25 00:00:00 -> 2025-01-25)\n"
     ]
    },
    {
     "name": "stdout",
     "output_type": "stream",
     "text": [
      "Processing KMP...\n",
      "No data found for KMP (10y)\n",
      "Skipped KMP - insufficient data\n",
      "Processing NI...\n",
      "Processing DLR-E...\n"
     ]
    },
    {
     "name": "stderr",
     "output_type": "stream",
     "text": [
      "$DLR-E: possibly delisted; no timezone found\n"
     ]
    },
    {
     "name": "stdout",
     "output_type": "stream",
     "text": [
      "No data found for DLR-E (10y)\n",
      "Skipped DLR-E - insufficient data\n",
      "Processing ADUS...\n",
      "Processing NVEC...\n",
      "Processing NWBI...\n",
      "Processing JOE...\n"
     ]
    },
    {
     "name": "stderr",
     "output_type": "stream",
     "text": [
      "$REMY: possibly delisted; no price data found  (1d 2014-01-25 00:00:00 -> 2025-01-25)\n"
     ]
    },
    {
     "name": "stdout",
     "output_type": "stream",
     "text": [
      "Processing REMY...\n",
      "No data found for REMY (10y)\n",
      "Skipped REMY - insufficient data\n",
      "Processing RBS-P...\n"
     ]
    },
    {
     "name": "stderr",
     "output_type": "stream",
     "text": [
      "$RBS-P: possibly delisted; no timezone found\n"
     ]
    },
    {
     "name": "stdout",
     "output_type": "stream",
     "text": [
      "No data found for RBS-P (10y)\n",
      "Skipped RBS-P - insufficient data\n",
      "Processing BIOF...\n"
     ]
    },
    {
     "name": "stderr",
     "output_type": "stream",
     "text": [
      "$ASBC: possibly delisted; no price data found  (1d 2014-01-25 00:00:00 -> 2025-01-25)\n"
     ]
    },
    {
     "name": "stdout",
     "output_type": "stream",
     "text": [
      "Processing ASBC...\n",
      "No data found for ASBC (10y)\n",
      "Skipped ASBC - insufficient data\n",
      "Processing VNR...\n"
     ]
    },
    {
     "name": "stderr",
     "output_type": "stream",
     "text": [
      "$VNR: possibly delisted; no price data found  (1d 2014-01-25 00:00:00 -> 2025-01-25)\n"
     ]
    },
    {
     "name": "stdout",
     "output_type": "stream",
     "text": [
      "No data found for VNR (10y)\n",
      "Skipped VNR - insufficient data\n",
      "Processing XOM...\n",
      "Processing NBD...\n"
     ]
    },
    {
     "name": "stderr",
     "output_type": "stream",
     "text": [
      "$OMX: possibly delisted; no price data found  (1d 2014-01-25 00:00:00 -> 2025-01-25)\n"
     ]
    },
    {
     "name": "stdout",
     "output_type": "stream",
     "text": [
      "Insufficient data for NBD (293 rows)\n",
      "Skipped NBD - insufficient data\n",
      "Processing OMX...\n",
      "No data found for OMX (10y)\n",
      "Skipped OMX - insufficient data\n",
      "Processing EAGLU...\n"
     ]
    },
    {
     "name": "stderr",
     "output_type": "stream",
     "text": [
      "$EAGLU: possibly delisted; no timezone found\n"
     ]
    },
    {
     "name": "stdout",
     "output_type": "stream",
     "text": [
      "No data found for EAGLU (10y)\n",
      "Skipped EAGLU - insufficient data\n",
      "Processing EHI...\n"
     ]
    },
    {
     "name": "stderr",
     "output_type": "stream",
     "text": [
      "$MSLI: possibly delisted; no price data found  (1d 2014-01-25 00:00:00 -> 2025-01-25)\n"
     ]
    },
    {
     "name": "stdout",
     "output_type": "stream",
     "text": [
      "Processing MSLI...\n",
      "No data found for MSLI (10y)\n",
      "Skipped MSLI - insufficient data\n",
      "Processing NSPH...\n"
     ]
    },
    {
     "name": "stderr",
     "output_type": "stream",
     "text": [
      "$NSPH: possibly delisted; no price data found  (1d 2014-01-25 00:00:00 -> 2025-01-25)\n"
     ]
    },
    {
     "name": "stdout",
     "output_type": "stream",
     "text": [
      "No data found for NSPH (10y)\n",
      "Skipped NSPH - insufficient data\n",
      "Processing PTEN...\n",
      "Processing CEA...\n"
     ]
    },
    {
     "name": "stderr",
     "output_type": "stream",
     "text": [
      "$CEA: possibly delisted; no timezone found\n",
      "$N: possibly delisted; no price data found  (1d 2014-01-25 00:00:00 -> 2025-01-25)\n"
     ]
    },
    {
     "name": "stdout",
     "output_type": "stream",
     "text": [
      "No data found for CEA (10y)\n",
      "Skipped CEA - insufficient data\n",
      "Processing N...\n",
      "No data found for N (10y)\n",
      "Skipped N - insufficient data\n",
      "Processing CPAH...\n"
     ]
    },
    {
     "name": "stderr",
     "output_type": "stream",
     "text": [
      "$CPAH: possibly delisted; no timezone found\n"
     ]
    },
    {
     "name": "stdout",
     "output_type": "stream",
     "text": [
      "No data found for CPAH (10y)\n",
      "Skipped CPAH - insufficient data\n",
      "Processing HIL...\n"
     ]
    },
    {
     "name": "stderr",
     "output_type": "stream",
     "text": [
      "$HIL: possibly delisted; no timezone found\n"
     ]
    },
    {
     "name": "stdout",
     "output_type": "stream",
     "text": [
      "No data found for HIL (10y)\n",
      "Skipped HIL - insufficient data\n",
      "Processing UIHC...\n"
     ]
    },
    {
     "name": "stderr",
     "output_type": "stream",
     "text": [
      "$UIHC: possibly delisted; no timezone found\n",
      "$OPXA: possibly delisted; no price data found  (1d 2014-01-25 00:00:00 -> 2025-01-25)\n"
     ]
    },
    {
     "name": "stdout",
     "output_type": "stream",
     "text": [
      "No data found for UIHC (10y)\n",
      "Skipped UIHC - insufficient data\n",
      "Processing OPXA...\n",
      "No data found for OPXA (10y)\n",
      "Skipped OPXA - insufficient data\n",
      "Processing PRGX...\n"
     ]
    },
    {
     "name": "stderr",
     "output_type": "stream",
     "text": [
      "$PRGX: possibly delisted; no timezone found\n",
      "$OKSB: possibly delisted; no price data found  (1d 2014-01-25 00:00:00 -> 2025-01-25)\n"
     ]
    },
    {
     "name": "stdout",
     "output_type": "stream",
     "text": [
      "No data found for PRGX (10y)\n",
      "Skipped PRGX - insufficient data\n",
      "Processing OKSB...\n",
      "No data found for OKSB (10y)\n",
      "Skipped OKSB - insufficient data\n",
      "Processing RVLT...\n"
     ]
    },
    {
     "name": "stderr",
     "output_type": "stream",
     "text": [
      "$RVLT: possibly delisted; no timezone found\n"
     ]
    },
    {
     "name": "stdout",
     "output_type": "stream",
     "text": [
      "No data found for RVLT (10y)\n",
      "Skipped RVLT - insufficient data\n",
      "Processing BOH...\n",
      "Processing NSLP...\n"
     ]
    },
    {
     "name": "stderr",
     "output_type": "stream",
     "text": [
      "$NSLP: possibly delisted; no price data found  (1d 2014-01-25 00:00:00 -> 2025-01-25)\n"
     ]
    },
    {
     "name": "stdout",
     "output_type": "stream",
     "text": [
      "No data found for NSLP (10y)\n",
      "Skipped NSLP - insufficient data\n",
      "Processing GEL...\n",
      "Processing INN-A...\n"
     ]
    },
    {
     "name": "stderr",
     "output_type": "stream",
     "text": [
      "$INN-A: possibly delisted; no timezone found\n"
     ]
    },
    {
     "name": "stdout",
     "output_type": "stream",
     "text": [
      "No data found for INN-A (10y)\n",
      "Skipped INN-A - insufficient data\n",
      "Processing PFG-B...\n"
     ]
    },
    {
     "name": "stderr",
     "output_type": "stream",
     "text": [
      "$PFG-B: possibly delisted; no timezone found\n"
     ]
    },
    {
     "name": "stdout",
     "output_type": "stream",
     "text": [
      "No data found for PFG-B (10y)\n",
      "Skipped PFG-B - insufficient data\n",
      "Processing MFL...\n"
     ]
    },
    {
     "name": "stderr",
     "output_type": "stream",
     "text": [
      "$MFL: possibly delisted; no timezone found\n"
     ]
    },
    {
     "name": "stdout",
     "output_type": "stream",
     "text": [
      "No data found for MFL (10y)\n",
      "Skipped MFL - insufficient data\n",
      "Processing SLCA...\n"
     ]
    },
    {
     "name": "stderr",
     "output_type": "stream",
     "text": [
      "$SLCA: possibly delisted; no timezone found\n"
     ]
    },
    {
     "name": "stdout",
     "output_type": "stream",
     "text": [
      "No data found for SLCA (10y)\n",
      "Skipped SLCA - insufficient data\n",
      "Processing CRK...\n"
     ]
    },
    {
     "name": "stderr",
     "output_type": "stream",
     "text": [
      "$ALCS: possibly delisted; no price data found  (1d 2014-01-25 00:00:00 -> 2025-01-25)\n"
     ]
    },
    {
     "name": "stdout",
     "output_type": "stream",
     "text": [
      "Processing ALCS...\n",
      "No data found for ALCS (10y)\n",
      "Skipped ALCS - insufficient data\n",
      "Processing QTEC...\n",
      "Processing WBC...\n"
     ]
    },
    {
     "name": "stderr",
     "output_type": "stream",
     "text": [
      "$WBC: possibly delisted; no timezone found\n",
      "$JHP: possibly delisted; no price data found  (1d 2014-01-25 00:00:00 -> 2025-01-25)\n"
     ]
    },
    {
     "name": "stdout",
     "output_type": "stream",
     "text": [
      "No data found for WBC (10y)\n",
      "Skipped WBC - insufficient data\n",
      "Processing JHP...\n",
      "No data found for JHP (10y)\n",
      "Skipped JHP - insufficient data\n",
      "Processing PHIIK...\n"
     ]
    },
    {
     "name": "stderr",
     "output_type": "stream",
     "text": [
      "$PHIIK: possibly delisted; no timezone found\n"
     ]
    },
    {
     "name": "stdout",
     "output_type": "stream",
     "text": [
      "No data found for PHIIK (10y)\n",
      "Skipped PHIIK - insufficient data\n",
      "Processing VRML...\n"
     ]
    },
    {
     "name": "stderr",
     "output_type": "stream",
     "text": [
      "$VRML: possibly delisted; no timezone found\n"
     ]
    },
    {
     "name": "stdout",
     "output_type": "stream",
     "text": [
      "No data found for VRML (10y)\n",
      "Skipped VRML - insufficient data\n",
      "Processing AET...\n"
     ]
    },
    {
     "name": "stderr",
     "output_type": "stream",
     "text": [
      "$XFP: possibly delisted; no price data found  (1d 2014-01-25 00:00:00 -> 2025-01-25)\n"
     ]
    },
    {
     "name": "stdout",
     "output_type": "stream",
     "text": [
      "Processing XFP...\n",
      "No data found for XFP (10y)\n",
      "Skipped XFP - insufficient data\n",
      "Processing IRC...\n",
      "Insufficient data for IRC (37 rows)\n",
      "Skipped IRC - insufficient data\n",
      "Processing ACAD...\n",
      "Processing JPM-D...\n"
     ]
    },
    {
     "name": "stderr",
     "output_type": "stream",
     "text": [
      "$JPM-D: possibly delisted; no timezone found\n"
     ]
    },
    {
     "name": "stdout",
     "output_type": "stream",
     "text": [
      "No data found for JPM-D (10y)\n",
      "Skipped JPM-D - insufficient data\n",
      "Processing TRNS...\n",
      "Processing SAN-E...\n"
     ]
    },
    {
     "name": "stderr",
     "output_type": "stream",
     "text": [
      "$SAN-E: possibly delisted; no timezone found\n"
     ]
    },
    {
     "name": "stdout",
     "output_type": "stream",
     "text": [
      "No data found for SAN-E (10y)\n",
      "Skipped SAN-E - insufficient data\n",
      "Processing FL...\n",
      "Processing LCUT...\n"
     ]
    },
    {
     "name": "stderr",
     "output_type": "stream",
     "text": [
      "$OKS: possibly delisted; no price data found  (1d 2014-01-25 00:00:00 -> 2025-01-25)\n"
     ]
    },
    {
     "name": "stdout",
     "output_type": "stream",
     "text": [
      "Processing OKS...\n",
      "No data found for OKS (10y)\n",
      "Skipped OKS - insufficient data\n",
      "Processing MPA...\n",
      "Processing SOHO...\n",
      "Processing LARK...\n",
      "Processing AMNB...\n"
     ]
    },
    {
     "name": "stderr",
     "output_type": "stream",
     "text": [
      "$AMNB: possibly delisted; no timezone found\n"
     ]
    },
    {
     "name": "stdout",
     "output_type": "stream",
     "text": [
      "No data found for AMNB (10y)\n",
      "Skipped AMNB - insufficient data\n",
      "Processing HDS...\n"
     ]
    },
    {
     "name": "stderr",
     "output_type": "stream",
     "text": [
      "$HDS: possibly delisted; no timezone found\n"
     ]
    },
    {
     "name": "stdout",
     "output_type": "stream",
     "text": [
      "No data found for HDS (10y)\n",
      "Skipped HDS - insufficient data\n",
      "Processing CI...\n",
      "Processing HPI...\n",
      "Processing TWER...\n",
      "Processing NOW...\n",
      "Processing BPK...\n",
      "Processing DFT-B...\n"
     ]
    },
    {
     "name": "stderr",
     "output_type": "stream",
     "text": [
      "$DFT-B: possibly delisted; no timezone found\n"
     ]
    },
    {
     "name": "stdout",
     "output_type": "stream",
     "text": [
      "No data found for DFT-B (10y)\n",
      "Skipped DFT-B - insufficient data\n",
      "Processing MS-A...\n"
     ]
    },
    {
     "name": "stderr",
     "output_type": "stream",
     "text": [
      "$MS-A: possibly delisted; no timezone found\n"
     ]
    },
    {
     "name": "stdout",
     "output_type": "stream",
     "text": [
      "No data found for MS-A (10y)\n",
      "Skipped MS-A - insufficient data\n",
      "Processing ELON...\n",
      "Processing DV...\n"
     ]
    },
    {
     "name": "stderr",
     "output_type": "stream",
     "text": [
      "$KEF: possibly delisted; no price data found  (1d 2014-01-25 00:00:00 -> 2025-01-25)\n"
     ]
    },
    {
     "name": "stdout",
     "output_type": "stream",
     "text": [
      "Processing KEF...\n",
      "No data found for KEF (10y)\n",
      "Skipped KEF - insufficient data\n",
      "Processing FBHS...\n"
     ]
    },
    {
     "name": "stderr",
     "output_type": "stream",
     "text": [
      "$FBHS: possibly delisted; no timezone found\n"
     ]
    },
    {
     "name": "stdout",
     "output_type": "stream",
     "text": [
      "No data found for FBHS (10y)\n",
      "Skipped FBHS - insufficient data\n",
      "Processing EFR...\n",
      "Processing UTX...\n"
     ]
    },
    {
     "name": "stderr",
     "output_type": "stream",
     "text": [
      "$UTX: possibly delisted; no timezone found\n",
      "$SLH: possibly delisted; no price data found  (1d 2014-01-25 00:00:00 -> 2025-01-25)\n"
     ]
    },
    {
     "name": "stdout",
     "output_type": "stream",
     "text": [
      "No data found for UTX (10y)\n",
      "Skipped UTX - insufficient data\n",
      "Processing SLH...\n",
      "No data found for SLH (10y)\n",
      "Skipped SLH - insufficient data\n",
      "Processing HIBB...\n"
     ]
    },
    {
     "name": "stderr",
     "output_type": "stream",
     "text": [
      "$HIBB: possibly delisted; no timezone found\n"
     ]
    },
    {
     "name": "stdout",
     "output_type": "stream",
     "text": [
      "No data found for HIBB (10y)\n",
      "Skipped HIBB - insufficient data\n",
      "Processing KTF...\n",
      "Processing LOGI...\n",
      "Processing TSU...\n"
     ]
    },
    {
     "name": "stderr",
     "output_type": "stream",
     "text": [
      "$TSU: possibly delisted; no timezone found\n"
     ]
    },
    {
     "name": "stdout",
     "output_type": "stream",
     "text": [
      "No data found for TSU (10y)\n",
      "Skipped TSU - insufficient data\n",
      "Processing ANGI...\n",
      "Processing FSS...\n",
      "Processing OCR-A...\n"
     ]
    },
    {
     "name": "stderr",
     "output_type": "stream",
     "text": [
      "$OCR-A: possibly delisted; no timezone found\n"
     ]
    },
    {
     "name": "stdout",
     "output_type": "stream",
     "text": [
      "No data found for OCR-A (10y)\n",
      "Skipped OCR-A - insufficient data\n",
      "Processing GRPN...\n",
      "Processing SIGA...\n",
      "Processing EMC...\n",
      "Processing CYBE...\n"
     ]
    },
    {
     "name": "stderr",
     "output_type": "stream",
     "text": [
      "$CYBE: possibly delisted; no timezone found\n"
     ]
    },
    {
     "name": "stdout",
     "output_type": "stream",
     "text": [
      "No data found for CYBE (10y)\n",
      "Skipped CYBE - insufficient data\n",
      "Processing UIS...\n"
     ]
    },
    {
     "name": "stderr",
     "output_type": "stream",
     "text": [
      "$PMC: possibly delisted; no price data found  (1d 2014-01-25 00:00:00 -> 2025-01-25)\n"
     ]
    },
    {
     "name": "stdout",
     "output_type": "stream",
     "text": [
      "Processing PMC...\n",
      "No data found for PMC (10y)\n",
      "Skipped PMC - insufficient data\n",
      "Processing FFBC...\n",
      "Processing COF...\n",
      "Processing WTBA...\n",
      "Processing SPG...\n",
      "Processing ZBRA...\n"
     ]
    },
    {
     "name": "stderr",
     "output_type": "stream",
     "text": [
      "$MDAS: possibly delisted; no price data found  (1d 2014-01-25 00:00:00 -> 2025-01-25)\n"
     ]
    },
    {
     "name": "stdout",
     "output_type": "stream",
     "text": [
      "Processing MDAS...\n",
      "No data found for MDAS (10y)\n",
      "Skipped MDAS - insufficient data\n",
      "Processing EBTC...\n",
      "Processing QNST...\n",
      "Processing BZT...\n"
     ]
    },
    {
     "name": "stderr",
     "output_type": "stream",
     "text": [
      "$BZT: possibly delisted; no timezone found\n"
     ]
    },
    {
     "name": "stdout",
     "output_type": "stream",
     "text": [
      "No data found for BZT (10y)\n",
      "Skipped BZT - insufficient data\n",
      "Processing ONEQ...\n",
      "Processing PAG...\n",
      "Processing CYN-C...\n"
     ]
    },
    {
     "name": "stderr",
     "output_type": "stream",
     "text": [
      "$CYN-C: possibly delisted; no timezone found\n"
     ]
    },
    {
     "name": "stdout",
     "output_type": "stream",
     "text": [
      "No data found for CYN-C (10y)\n",
      "Skipped CYN-C - insufficient data\n",
      "Processing PB...\n",
      "Processing ALCO...\n",
      "Processing CNQ...\n",
      "Processing UCBA...\n",
      "Processing HPOL...\n",
      "Insufficient data for HPOL (6 rows)\n",
      "Skipped HPOL - insufficient data\n",
      "Processing OPHC...\n",
      "Processing ARRS...\n"
     ]
    },
    {
     "name": "stderr",
     "output_type": "stream",
     "text": [
      "$ARRS: possibly delisted; no timezone found\n"
     ]
    },
    {
     "name": "stdout",
     "output_type": "stream",
     "text": [
      "No data found for ARRS (10y)\n",
      "Skipped ARRS - insufficient data\n",
      "Processing CAJ...\n"
     ]
    },
    {
     "name": "stderr",
     "output_type": "stream",
     "text": [
      "$CAJ: possibly delisted; no timezone found\n"
     ]
    },
    {
     "name": "stdout",
     "output_type": "stream",
     "text": [
      "No data found for CAJ (10y)\n",
      "Skipped CAJ - insufficient data\n",
      "Processing NSC...\n",
      "Processing UHT...\n",
      "Processing CEVA...\n",
      "Processing CLSN...\n"
     ]
    },
    {
     "name": "stderr",
     "output_type": "stream",
     "text": [
      "$CLSN: possibly delisted; no timezone found\n"
     ]
    },
    {
     "name": "stdout",
     "output_type": "stream",
     "text": [
      "No data found for CLSN (10y)\n",
      "Skipped CLSN - insufficient data\n",
      "Processing HVT...\n",
      "Processing LCNB...\n",
      "Processing CUK...\n",
      "Processing PSTI...\n"
     ]
    },
    {
     "name": "stderr",
     "output_type": "stream",
     "text": [
      "$PSTI: possibly delisted; no timezone found\n"
     ]
    },
    {
     "name": "stdout",
     "output_type": "stream",
     "text": [
      "No data found for PSTI (10y)\n",
      "Skipped PSTI - insufficient data\n",
      "Processing IPAS...\n",
      "Processing MGA...\n",
      "Processing CVRR...\n",
      "Processing THRD...\n",
      "Processing CL...\n",
      "Processing BRK.B...\n"
     ]
    },
    {
     "name": "stderr",
     "output_type": "stream",
     "text": [
      "$BRK.B: possibly delisted; no timezone found\n"
     ]
    },
    {
     "name": "stdout",
     "output_type": "stream",
     "text": [
      "No data found for BRK.B (10y)\n",
      "Skipped BRK.B - insufficient data\n",
      "Processing AEM...\n",
      "Processing ENSG...\n",
      "Processing LOPE...\n",
      "Processing EIX...\n"
     ]
    },
    {
     "name": "stderr",
     "output_type": "stream",
     "text": [
      "$SUSS: possibly delisted; no price data found  (1d 2014-01-25 00:00:00 -> 2025-01-25)\n"
     ]
    },
    {
     "name": "stdout",
     "output_type": "stream",
     "text": [
      "Processing SUSS...\n",
      "No data found for SUSS (10y)\n",
      "Skipped SUSS - insufficient data\n",
      "Processing BPT...\n"
     ]
    },
    {
     "name": "stderr",
     "output_type": "stream",
     "text": [
      "$MEAS: possibly delisted; no price data found  (1d 2014-01-25 00:00:00 -> 2025-01-25)\n"
     ]
    },
    {
     "name": "stdout",
     "output_type": "stream",
     "text": [
      "Processing MEAS...\n",
      "No data found for MEAS (10y)\n",
      "Skipped MEAS - insufficient data\n",
      "Processing CHMG...\n",
      "Processing BCS-C...\n"
     ]
    },
    {
     "name": "stderr",
     "output_type": "stream",
     "text": [
      "$BCS-C: possibly delisted; no timezone found\n"
     ]
    },
    {
     "name": "stdout",
     "output_type": "stream",
     "text": [
      "No data found for BCS-C (10y)\n",
      "Skipped BCS-C - insufficient data\n",
      "Processing WBK...\n"
     ]
    },
    {
     "name": "stderr",
     "output_type": "stream",
     "text": [
      "$WBK: possibly delisted; no timezone found\n",
      "$IOC: possibly delisted; no price data found  (1d 2014-01-25 00:00:00 -> 2025-01-25)\n"
     ]
    },
    {
     "name": "stdout",
     "output_type": "stream",
     "text": [
      "No data found for WBK (10y)\n",
      "Skipped WBK - insufficient data\n",
      "Processing IOC...\n",
      "No data found for IOC (10y)\n",
      "Skipped IOC - insufficient data\n",
      "Processing EAC...\n"
     ]
    },
    {
     "name": "stderr",
     "output_type": "stream",
     "text": [
      "$EAC: possibly delisted; no timezone found\n"
     ]
    },
    {
     "name": "stdout",
     "output_type": "stream",
     "text": [
      "No data found for EAC (10y)\n",
      "Skipped EAC - insufficient data\n",
      "\n",
      "Columns in final dataset: ['Open', 'Close', 'Volume', 'Dividends', 'Stock Splits', 'Future Year Change', 'Ticker', 'Industry', 'EV/EBIT', 'ROIC']\n",
      "Saved training data with 251300 rows\n"
     ]
    }
   ],
   "source": [
    "tickers = pd.read_csv(testFolder / 'tickers.csv')['Ticker']\n",
    "trainingTickers = np.random.choice(tickers, size=trainingSize, replace=False)\n",
    "\n",
    "if getNewData:\n",
    "    histData = pd.DataFrame()\n",
    "    valid_tickers = []\n",
    "    \n",
    "    for ticker in trainingTickers:\n",
    "        print(f\"Processing {ticker}...\")\n",
    "        data = calculateFutureYearChange(ticker, timeFrame)\n",
    "        if not data.empty:\n",
    "            data['Ticker'] = ticker\n",
    "            data['Industry'] = getIndustry(ticker)\n",
    "            \n",
    "            # Enrich individual ticker data first\n",
    "            ticker_data = enrichDataWithMetrics(data)\n",
    "            histData = pd.concat([histData, ticker_data])\n",
    "            \n",
    "            # Check if metrics were added\n",
    "            if 'ROIC' not in ticker_data.columns:\n",
    "                print(f\"WARNING: Failed to add metrics for {ticker}\")\n",
    "            \n",
    "            valid_tickers.append(ticker)\n",
    "        else:\n",
    "            print(f\"Skipped {ticker} - insufficient data\")\n",
    "\n",
    "    print(f\"\\nColumns in final dataset: {histData.columns.tolist()}\")\n",
    "    \n",
    "    if not histData.empty:\n",
    "        histData = enrichDataWithMetrics(histData)\n",
    "        histData.to_csv(dataFolder / trainingData, index=True)\n",
    "        print(f\"Saved training data with {len(histData)} rows\")\n",
    "    else:\n",
    "        print(\"Warning: No data collected - check your tickers list\")"
   ]
  },
  {
   "cell_type": "markdown",
   "metadata": {},
   "source": [
    "## Model Training"
   ]
  },
  {
   "cell_type": "code",
   "execution_count": 53,
   "metadata": {},
   "outputs": [
    {
     "name": "stderr",
     "output_type": "stream",
     "text": [
      "/var/folders/ch/yfh31z5s3cq4cw_md59n4qw40000gn/T/ipykernel_28403/3198407231.py:7: FutureWarning: In a future version of pandas, parsing datetimes with mixed time zones will raise an error unless `utc=True`. Please specify `utc=True` to opt in to the new behaviour and silence this warning. To create a `Series` with mixed offsets and `object` dtype, please use `apply` and `datetime.datetime.strptime`\n",
      "  dfCleaned['Date'] = pd.to_datetime(dfCleaned['Date'], errors='coerce')\n"
     ]
    }
   ],
   "source": [
    "TRAINING_CUTOFF = pd.to_datetime('2023-01-01').tz_localize('America/New_York')\n",
    "\n",
    "df = pd.read_csv(dataFolder / trainingData)\n",
    "dfCleaned = df.dropna(subset=['EV/EBIT', 'ROIC']).copy()\n",
    "\n",
    "# Convert 'Date' to datetime and drop invalid\n",
    "dfCleaned['Date'] = pd.to_datetime(dfCleaned['Date'], errors='coerce')\n",
    "dfCleaned = dfCleaned.dropna(subset=['Date'])\n",
    "\n",
    "# Clean 'EV/EBIT' and reset index\n",
    "dfCleaned['EV/EBIT'] = dfCleaned['EV/EBIT'].replace([np.inf, -np.inf], np.nan)\n",
    "dfCleaned = dfCleaned.dropna(subset=['EV/EBIT', 'ROIC'])\n",
    "dfCleaned = dfCleaned.reset_index(drop=True)  # Reset index here\n",
    "dfCleaned.to_csv(dataFolder / trainingData, index=False)\n",
    "\n",
    "# Check for empty data\n",
    "if dfCleaned.empty:\n",
    "    raise ValueError(\"The cleaned DataFrame is empty.\")\n",
    "\n",
    "# Create splits with valid indices\n",
    "train_mask = dfCleaned['Date'] < TRAINING_CUTOFF\n",
    "valid_mask = ~train_mask\n",
    "splits = (list(dfCleaned[train_mask].index), list(dfCleaned[valid_mask].index))\n",
    "\n",
    "if not splits[0] or not splits[1]:\n",
    "    raise ValueError(\"Empty training or validation split.\")\n",
    "\n",
    "# Proceed with TabularPandas\n",
    "to = TabularPandas(\n",
    "    dfCleaned, \n",
    "    procs=[Categorify, FillMissing, Normalize],\n",
    "    y_names='Future Year Change',\n",
    "    cat_names=['Industry'], \n",
    "    cont_names=['Open', 'Close', 'EV/EBIT', 'ROIC'],\n",
    "    splits=splits\n",
    ")\n",
    "\n",
    "dls = to.dataloaders(bs=batchSize)"
   ]
  },
  {
   "cell_type": "code",
   "execution_count": 54,
   "metadata": {},
   "outputs": [
    {
     "data": {
      "text/html": [
       "\n",
       "    <div>\n",
       "        <style>\n",
       "            /* Turns off some styling */\n",
       "            progress {\n",
       "                /* gets rid of default border in Firefox and Opera. */\n",
       "                border: none;\n",
       "                /* Needs to be in here for Safari polyfill so background images work as expected. */\n",
       "                background-size: auto;\n",
       "            }\n",
       "            .progress-bar-interrupted, .progress-bar-interrupted::-webkit-progress-bar {\n",
       "                background: #F44336;\n",
       "            }\n",
       "        </style>\n",
       "      <progress value='0' class='' max='1' style='width:300px; height:20px; vertical-align: middle;'></progress>\n",
       "      0.00% [0/1 00:00<00:00]\n",
       "    </div>\n",
       "    \n",
       "\n",
       "\n",
       "    <div>\n",
       "        <style>\n",
       "            /* Turns off some styling */\n",
       "            progress {\n",
       "                /* gets rid of default border in Firefox and Opera. */\n",
       "                border: none;\n",
       "                /* Needs to be in here for Safari polyfill so background images work as expected. */\n",
       "                background-size: auto;\n",
       "            }\n",
       "            .progress-bar-interrupted, .progress-bar-interrupted::-webkit-progress-bar {\n",
       "                background: #F44336;\n",
       "            }\n",
       "        </style>\n",
       "      <progress value='3' class='' max='798' style='width:300px; height:20px; vertical-align: middle;'></progress>\n",
       "      0.38% [3/798 00:00<03:37 0.3561]\n",
       "    </div>\n",
       "    "
      ],
      "text/plain": [
       "<IPython.core.display.HTML object>"
      ]
     },
     "metadata": {},
     "output_type": "display_data"
    },
    {
     "data": {
      "text/html": [
       "<table border=\"1\" class=\"dataframe\">\n",
       "  <thead>\n",
       "    <tr style=\"text-align: left;\">\n",
       "      <th>epoch</th>\n",
       "      <th>train_loss</th>\n",
       "      <th>valid_loss</th>\n",
       "      <th>_rmse</th>\n",
       "      <th>mae</th>\n",
       "      <th>time</th>\n",
       "    </tr>\n",
       "  </thead>\n",
       "  <tbody>\n",
       "    <tr>\n",
       "      <td>0</td>\n",
       "      <td>20.865858</td>\n",
       "      <td>0.175011</td>\n",
       "      <td>0.418344</td>\n",
       "      <td>0.293407</td>\n",
       "      <td>00:20</td>\n",
       "    </tr>\n",
       "    <tr>\n",
       "      <td>1</td>\n",
       "      <td>91.295052</td>\n",
       "      <td>0.311161</td>\n",
       "      <td>0.557818</td>\n",
       "      <td>0.366067</td>\n",
       "      <td>00:16</td>\n",
       "    </tr>\n",
       "    <tr>\n",
       "      <td>2</td>\n",
       "      <td>100.858894</td>\n",
       "      <td>0.295086</td>\n",
       "      <td>0.543218</td>\n",
       "      <td>0.347043</td>\n",
       "      <td>00:16</td>\n",
       "    </tr>\n",
       "    <tr>\n",
       "      <td>3</td>\n",
       "      <td>300.577789</td>\n",
       "      <td>1.559572</td>\n",
       "      <td>1.248828</td>\n",
       "      <td>0.657242</td>\n",
       "      <td>00:20</td>\n",
       "    </tr>\n",
       "    <tr>\n",
       "      <td>4</td>\n",
       "      <td>101.181557</td>\n",
       "      <td>0.412423</td>\n",
       "      <td>0.642201</td>\n",
       "      <td>0.390214</td>\n",
       "      <td>00:18</td>\n",
       "    </tr>\n",
       "    <tr>\n",
       "      <td>5</td>\n",
       "      <td>95.866394</td>\n",
       "      <td>0.348783</td>\n",
       "      <td>0.590578</td>\n",
       "      <td>0.388448</td>\n",
       "      <td>00:17</td>\n",
       "    </tr>\n",
       "    <tr>\n",
       "      <td>6</td>\n",
       "      <td>28.613924</td>\n",
       "      <td>0.212684</td>\n",
       "      <td>0.461177</td>\n",
       "      <td>0.307590</td>\n",
       "      <td>00:14</td>\n",
       "    </tr>\n",
       "    <tr>\n",
       "      <td>7</td>\n",
       "      <td>154.528458</td>\n",
       "      <td>0.525826</td>\n",
       "      <td>0.725139</td>\n",
       "      <td>0.373420</td>\n",
       "      <td>00:16</td>\n",
       "    </tr>\n",
       "    <tr>\n",
       "      <td>8</td>\n",
       "      <td>74.310143</td>\n",
       "      <td>0.241451</td>\n",
       "      <td>0.491377</td>\n",
       "      <td>0.298305</td>\n",
       "      <td>00:17</td>\n",
       "    </tr>\n",
       "    <tr>\n",
       "      <td>9</td>\n",
       "      <td>410.804047</td>\n",
       "      <td>2.060647</td>\n",
       "      <td>1.435495</td>\n",
       "      <td>0.518912</td>\n",
       "      <td>00:18</td>\n",
       "    </tr>\n",
       "    <tr>\n",
       "      <td>10</td>\n",
       "      <td>97.514885</td>\n",
       "      <td>0.405850</td>\n",
       "      <td>0.637064</td>\n",
       "      <td>0.352416</td>\n",
       "      <td>00:17</td>\n",
       "    </tr>\n",
       "    <tr>\n",
       "      <td>11</td>\n",
       "      <td>122.938118</td>\n",
       "      <td>0.923427</td>\n",
       "      <td>0.960951</td>\n",
       "      <td>0.410968</td>\n",
       "      <td>00:15</td>\n",
       "    </tr>\n",
       "    <tr>\n",
       "      <td>12</td>\n",
       "      <td>73.387817</td>\n",
       "      <td>0.497721</td>\n",
       "      <td>0.705493</td>\n",
       "      <td>0.367478</td>\n",
       "      <td>00:16</td>\n",
       "    </tr>\n",
       "    <tr>\n",
       "      <td>13</td>\n",
       "      <td>113.359573</td>\n",
       "      <td>0.397148</td>\n",
       "      <td>0.630197</td>\n",
       "      <td>0.354520</td>\n",
       "      <td>00:16</td>\n",
       "    </tr>\n",
       "    <tr>\n",
       "      <td>14</td>\n",
       "      <td>133.948090</td>\n",
       "      <td>0.334708</td>\n",
       "      <td>0.578540</td>\n",
       "      <td>0.349691</td>\n",
       "      <td>00:15</td>\n",
       "    </tr>\n",
       "    <tr>\n",
       "      <td>15</td>\n",
       "      <td>172.106308</td>\n",
       "      <td>1.193370</td>\n",
       "      <td>1.092415</td>\n",
       "      <td>0.463257</td>\n",
       "      <td>00:16</td>\n",
       "    </tr>\n",
       "    <tr>\n",
       "      <td>16</td>\n",
       "      <td>131.328812</td>\n",
       "      <td>0.739266</td>\n",
       "      <td>0.859806</td>\n",
       "      <td>0.420318</td>\n",
       "      <td>00:14</td>\n",
       "    </tr>\n",
       "    <tr>\n",
       "      <td>17</td>\n",
       "      <td>95.702690</td>\n",
       "      <td>1.275198</td>\n",
       "      <td>1.129247</td>\n",
       "      <td>0.460046</td>\n",
       "      <td>00:13</td>\n",
       "    </tr>\n",
       "    <tr>\n",
       "      <td>18</td>\n",
       "      <td>145.993820</td>\n",
       "      <td>0.888637</td>\n",
       "      <td>0.942676</td>\n",
       "      <td>0.427797</td>\n",
       "      <td>00:15</td>\n",
       "    </tr>\n",
       "    <tr>\n",
       "      <td>19</td>\n",
       "      <td>121.193199</td>\n",
       "      <td>1.069747</td>\n",
       "      <td>1.034286</td>\n",
       "      <td>0.442405</td>\n",
       "      <td>00:11</td>\n",
       "    </tr>\n",
       "    <tr>\n",
       "      <td>20</td>\n",
       "      <td>109.072403</td>\n",
       "      <td>1.104682</td>\n",
       "      <td>1.051039</td>\n",
       "      <td>0.446233</td>\n",
       "      <td>00:16</td>\n",
       "    </tr>\n",
       "    <tr>\n",
       "      <td>21</td>\n",
       "      <td>3.982001</td>\n",
       "      <td>0.475561</td>\n",
       "      <td>0.689609</td>\n",
       "      <td>0.362156</td>\n",
       "      <td>00:14</td>\n",
       "    </tr>\n",
       "    <tr>\n",
       "      <td>22</td>\n",
       "      <td>67.311905</td>\n",
       "      <td>0.668144</td>\n",
       "      <td>0.817400</td>\n",
       "      <td>0.393775</td>\n",
       "      <td>00:17</td>\n",
       "    </tr>\n",
       "    <tr>\n",
       "      <td>23</td>\n",
       "      <td>11.494853</td>\n",
       "      <td>0.894778</td>\n",
       "      <td>0.945927</td>\n",
       "      <td>0.423291</td>\n",
       "      <td>00:17</td>\n",
       "    </tr>\n",
       "    <tr>\n",
       "      <td>24</td>\n",
       "      <td>50.417095</td>\n",
       "      <td>1.001578</td>\n",
       "      <td>1.000789</td>\n",
       "      <td>0.429796</td>\n",
       "      <td>00:15</td>\n",
       "    </tr>\n",
       "  </tbody>\n",
       "</table>"
      ],
      "text/plain": [
       "<IPython.core.display.HTML object>"
      ]
     },
     "metadata": {},
     "output_type": "display_data"
    },
    {
     "name": "stdout",
     "output_type": "stream",
     "text": [
      "Model training complete\n"
     ]
    },
    {
     "data": {
      "image/png": "[encoded data removed]",
      "text/plain": [
       "<Figure size 640x480 with 1 Axes>"
      ]
     },
     "metadata": {},
     "output_type": "display_data"
    }
   ],
   "source": [
    "if trainNewModel:\n",
    "    learn = tabular_learner(dls, metrics=[rmse, mae])\n",
    "\n",
    "    # Learning rate finder\n",
    "    lr_min, lr_steep = learn.lr_find(suggest_funcs=(minimum, steep))\n",
    "\n",
    "    # Train\n",
    "    learn.fit_one_cycle(epochs, lr_max=3e-3)\n",
    "    print(\"Model training complete\")\n",
    "\n",
    "    learn.export(modelFolder / f'{modelName}.pkl')"
   ]
  },
  {
   "cell_type": "markdown",
   "metadata": {},
   "source": [
    "## Testing and benchmarking"
   ]
  },
  {
   "cell_type": "code",
   "execution_count": 55,
   "metadata": {},
   "outputs": [
    {
     "name": "stderr",
     "output_type": "stream",
     "text": [
      "$AVNR: possibly delisted; no price data found  (1d 2023-12-27 -> 2024-01-26)\n"
     ]
    },
    {
     "name": "stdout",
     "output_type": "stream",
     "text": [
      "Error fetching data for AVNR: No historical data available for AVNR around 2024-01-26.\n"
     ]
    },
    {
     "name": "stderr",
     "output_type": "stream",
     "text": [
      "$SCH-B: possibly delisted; no timezone found\n"
     ]
    },
    {
     "name": "stdout",
     "output_type": "stream",
     "text": [
      "Error fetching data for SCH-B: No historical data available for SCH-B around 2024-01-26.\n"
     ]
    },
    {
     "name": "stderr",
     "output_type": "stream",
     "text": [
      "$LUB: possibly delisted; no timezone found\n"
     ]
    },
    {
     "name": "stdout",
     "output_type": "stream",
     "text": [
      "Error fetching data for LUB: No historical data available for LUB around 2024-01-26.\n"
     ]
    },
    {
     "name": "stderr",
     "output_type": "stream",
     "text": [
      "$ABR-PA: possibly delisted; no timezone found\n"
     ]
    },
    {
     "name": "stdout",
     "output_type": "stream",
     "text": [
      "Error fetching data for ABR-PA: No historical data available for ABR-PA around 2024-01-26.\n"
     ]
    },
    {
     "name": "stderr",
     "output_type": "stream",
     "text": [
      "$UTX-A: possibly delisted; no timezone found\n"
     ]
    },
    {
     "name": "stdout",
     "output_type": "stream",
     "text": [
      "Error fetching data for UTX-A: No historical data available for UTX-A around 2024-01-26.\n"
     ]
    },
    {
     "name": "stderr",
     "output_type": "stream",
     "text": [
      "$CONN: possibly delisted; no timezone found\n"
     ]
    },
    {
     "name": "stdout",
     "output_type": "stream",
     "text": [
      "Error fetching data for CONN: No historical data available for CONN around 2024-01-26.\n"
     ]
    },
    {
     "name": "stderr",
     "output_type": "stream",
     "text": [
      "$GHL: possibly delisted; no timezone found\n"
     ]
    },
    {
     "name": "stdout",
     "output_type": "stream",
     "text": [
      "Error fetching data for GHL: No historical data available for GHL around 2024-01-26.\n"
     ]
    },
    {
     "name": "stderr",
     "output_type": "stream",
     "text": [
      "$EDI: possibly delisted; no timezone found\n"
     ]
    },
    {
     "name": "stdout",
     "output_type": "stream",
     "text": [
      "Error fetching data for EDI: No historical data available for EDI around 2024-01-26.\n"
     ]
    },
    {
     "name": "stderr",
     "output_type": "stream",
     "text": [
      "$PSA-P: possibly delisted; no timezone found\n"
     ]
    },
    {
     "name": "stdout",
     "output_type": "stream",
     "text": [
      "Error fetching data for PSA-P: No historical data available for PSA-P around 2024-01-26.\n"
     ]
    },
    {
     "name": "stderr",
     "output_type": "stream",
     "text": [
      "$ARCW: possibly delisted; no timezone found\n",
      "$OME: possibly delisted; no price data found  (1d 2023-12-27 -> 2024-01-26)\n"
     ]
    },
    {
     "name": "stdout",
     "output_type": "stream",
     "text": [
      "Error fetching data for ARCW: No historical data available for ARCW around 2024-01-26.\n",
      "Error fetching data for OME: No historical data available for OME around 2024-01-26.\n"
     ]
    },
    {
     "name": "stderr",
     "output_type": "stream",
     "text": [
      "$ZOOM: possibly delisted; no timezone found\n",
      "$CPLA: possibly delisted; no price data found  (1d 2023-12-27 -> 2024-01-26)\n"
     ]
    },
    {
     "name": "stdout",
     "output_type": "stream",
     "text": [
      "Error fetching data for ZOOM: No historical data available for ZOOM around 2024-01-26.\n",
      "Error fetching data for CPLA: No historical data available for CPLA around 2024-01-26.\n"
     ]
    },
    {
     "name": "stderr",
     "output_type": "stream",
     "text": [
      "$SLXP: possibly delisted; no price data found  (1d 2023-12-27 -> 2024-01-26)\n"
     ]
    },
    {
     "name": "stdout",
     "output_type": "stream",
     "text": [
      "Error fetching data for SLXP: No historical data available for SLXP around 2024-01-26.\n"
     ]
    },
    {
     "name": "stderr",
     "output_type": "stream",
     "text": [
      "$NNN-D: possibly delisted; no timezone found\n"
     ]
    },
    {
     "name": "stdout",
     "output_type": "stream",
     "text": [
      "Error fetching data for NNN-D: No historical data available for NNN-D around 2024-01-26.\n"
     ]
    },
    {
     "name": "stderr",
     "output_type": "stream",
     "text": [
      "$TUES: possibly delisted; no timezone found\n"
     ]
    },
    {
     "name": "stdout",
     "output_type": "stream",
     "text": [
      "Error fetching data for TUES: No historical data available for TUES around 2024-01-26.\n"
     ]
    },
    {
     "name": "stderr",
     "output_type": "stream",
     "text": [
      "$CRZO: possibly delisted; no timezone found\n",
      "$ADVS: possibly delisted; no price data found  (1d 2023-12-27 -> 2024-01-26)\n"
     ]
    },
    {
     "name": "stdout",
     "output_type": "stream",
     "text": [
      "Error fetching data for CRZO: No historical data available for CRZO around 2024-01-26.\n",
      "Error fetching data for ADVS: No historical data available for ADVS around 2024-01-26.\n"
     ]
    },
    {
     "name": "stderr",
     "output_type": "stream",
     "text": [
      "$PL-E: possibly delisted; no timezone found\n"
     ]
    },
    {
     "name": "stdout",
     "output_type": "stream",
     "text": [
      "Error fetching data for PL-E: No historical data available for PL-E around 2024-01-26.\n"
     ]
    },
    {
     "name": "stderr",
     "output_type": "stream",
     "text": [
      "$ATU: possibly delisted; no timezone found\n",
      "$HAST: possibly delisted; no price data found  (1d 2023-12-27 -> 2024-01-26)\n"
     ]
    },
    {
     "name": "stdout",
     "output_type": "stream",
     "text": [
      "Error fetching data for ATU: No historical data available for ATU around 2024-01-26.\n",
      "Error fetching data for HAST: No historical data available for HAST around 2024-01-26.\n"
     ]
    },
    {
     "name": "stderr",
     "output_type": "stream",
     "text": [
      "$NEWS: possibly delisted; no price data found  (1d 2023-12-27 -> 2024-01-26)\n"
     ]
    },
    {
     "name": "stdout",
     "output_type": "stream",
     "text": [
      "Error fetching data for NEWS: No historical data available for NEWS around 2024-01-26.\n"
     ]
    },
    {
     "name": "stderr",
     "output_type": "stream",
     "text": [
      "$IFSM: possibly delisted; no timezone found\n"
     ]
    },
    {
     "name": "stdout",
     "output_type": "stream",
     "text": [
      "Error fetching data for IFSM: No historical data available for IFSM around 2024-01-26.\n"
     ]
    },
    {
     "name": "stderr",
     "output_type": "stream",
     "text": [
      "$ALIM: possibly delisted; no timezone found\n"
     ]
    },
    {
     "name": "stdout",
     "output_type": "stream",
     "text": [
      "Error fetching data for ALIM: No historical data available for ALIM around 2024-01-26.\n"
     ]
    },
    {
     "name": "stderr",
     "output_type": "stream",
     "text": [
      "$HEP: possibly delisted; no timezone found\n",
      "$NHTB: possibly delisted; no price data found  (1d 2023-12-27 -> 2024-01-26)\n"
     ]
    },
    {
     "name": "stdout",
     "output_type": "stream",
     "text": [
      "Error fetching data for HEP: No historical data available for HEP around 2024-01-26.\n",
      "Error fetching data for NHTB: No historical data available for NHTB around 2024-01-26.\n"
     ]
    },
    {
     "name": "stderr",
     "output_type": "stream",
     "text": [
      "$DRE-L: possibly delisted; no timezone found\n"
     ]
    },
    {
     "name": "stdout",
     "output_type": "stream",
     "text": [
      "Error fetching data for DRE-L: No historical data available for DRE-L around 2024-01-26.\n"
     ]
    },
    {
     "name": "stderr",
     "output_type": "stream",
     "text": [
      "$C-C: possibly delisted; no timezone found\n",
      "$PVTBP: possibly delisted; no price data found  (1d 2023-12-27 -> 2024-01-26)\n"
     ]
    },
    {
     "name": "stdout",
     "output_type": "stream",
     "text": [
      "Error fetching data for C-C: No historical data available for C-C around 2024-01-26.\n",
      "Error fetching data for PVTBP: No historical data available for PVTBP around 2024-01-26.\n"
     ]
    },
    {
     "name": "stderr",
     "output_type": "stream",
     "text": [
      "$MIE: possibly delisted; no timezone found\n"
     ]
    },
    {
     "name": "stdout",
     "output_type": "stream",
     "text": [
      "Error fetching data for MIE: No historical data available for MIE around 2024-01-26.\n"
     ]
    },
    {
     "name": "stderr",
     "output_type": "stream",
     "text": [
      "$VLTR: possibly delisted; no price data found  (1d 2023-12-27 -> 2024-01-26)\n"
     ]
    },
    {
     "name": "stdout",
     "output_type": "stream",
     "text": [
      "Error fetching data for VLTR: No historical data available for VLTR around 2024-01-26.\n"
     ]
    },
    {
     "name": "stderr",
     "output_type": "stream",
     "text": [
      "$ACST: possibly delisted; no timezone found\n",
      "$OUTR: possibly delisted; no price data found  (1d 2023-12-27 -> 2024-01-26)\n"
     ]
    },
    {
     "name": "stdout",
     "output_type": "stream",
     "text": [
      "Error fetching data for ACST: No historical data available for ACST around 2024-01-26.\n",
      "Error fetching data for OUTR: No historical data available for OUTR around 2024-01-26.\n"
     ]
    },
    {
     "name": "stderr",
     "output_type": "stream",
     "text": [
      "$PKD: possibly delisted; no timezone found\n"
     ]
    },
    {
     "name": "stdout",
     "output_type": "stream",
     "text": [
      "Error fetching data for PKD: No historical data available for PKD around 2024-01-26.\n"
     ]
    },
    {
     "name": "stderr",
     "output_type": "stream",
     "text": [
      "$QADA: possibly delisted; no timezone found\n"
     ]
    },
    {
     "name": "stdout",
     "output_type": "stream",
     "text": [
      "Error fetching data for QADA: No historical data available for QADA around 2024-01-26.\n"
     ]
    },
    {
     "name": "stderr",
     "output_type": "stream",
     "text": [
      "$ISH-A: possibly delisted; no timezone found\n"
     ]
    },
    {
     "name": "stdout",
     "output_type": "stream",
     "text": [
      "Error fetching data for ISH-A: No historical data available for ISH-A around 2024-01-26.\n"
     ]
    },
    {
     "name": "stderr",
     "output_type": "stream",
     "text": [
      "$MY: possibly delisted; no price data found  (1d 2023-12-27 -> 2024-01-26)\n"
     ]
    },
    {
     "name": "stdout",
     "output_type": "stream",
     "text": [
      "Error fetching data for MY: No historical data available for MY around 2024-01-26.\n"
     ]
    },
    {
     "name": "stderr",
     "output_type": "stream",
     "text": [
      "$HGG: possibly delisted; no price data found  (1d 2023-12-27 -> 2024-01-26)\n"
     ]
    },
    {
     "name": "stdout",
     "output_type": "stream",
     "text": [
      "Error fetching data for HGG: No historical data available for HGG around 2024-01-26.\n"
     ]
    },
    {
     "name": "stderr",
     "output_type": "stream",
     "text": [
      "$MACK: possibly delisted; no timezone found\n"
     ]
    },
    {
     "name": "stdout",
     "output_type": "stream",
     "text": [
      "Error fetching data for MACK: No historical data available for MACK around 2024-01-26.\n"
     ]
    },
    {
     "name": "stderr",
     "output_type": "stream",
     "text": [
      "$ACH: possibly delisted; no timezone found\n"
     ]
    },
    {
     "name": "stdout",
     "output_type": "stream",
     "text": [
      "Error fetching data for ACH: No historical data available for ACH around 2024-01-26.\n"
     ]
    },
    {
     "name": "stderr",
     "output_type": "stream",
     "text": [
      "$PHII: possibly delisted; no timezone found\n"
     ]
    },
    {
     "name": "stdout",
     "output_type": "stream",
     "text": [
      "Error fetching data for PHII: No historical data available for PHII around 2024-01-26.\n"
     ]
    },
    {
     "name": "stderr",
     "output_type": "stream",
     "text": [
      "$INN-C: possibly delisted; no timezone found\n"
     ]
    },
    {
     "name": "stdout",
     "output_type": "stream",
     "text": [
      "Error fetching data for INN-C: No historical data available for INN-C around 2024-01-26.\n"
     ]
    },
    {
     "name": "stderr",
     "output_type": "stream",
     "text": [
      "$GGP-A: possibly delisted; no timezone found\n"
     ]
    },
    {
     "name": "stdout",
     "output_type": "stream",
     "text": [
      "Error fetching data for GGP-A: No historical data available for GGP-A around 2024-01-26.\n"
     ]
    },
    {
     "name": "stderr",
     "output_type": "stream",
     "text": [
      "$JCOM: possibly delisted; no timezone found\n",
      "$BBNK: possibly delisted; no price data found  (1d 2023-12-27 -> 2024-01-26)\n"
     ]
    },
    {
     "name": "stdout",
     "output_type": "stream",
     "text": [
      "Error fetching data for JCOM: No historical data available for JCOM around 2024-01-26.\n",
      "Error fetching data for BBNK: No historical data available for BBNK around 2024-01-26.\n"
     ]
    },
    {
     "name": "stderr",
     "output_type": "stream",
     "text": [
      "$OILT: possibly delisted; no price data found  (1d 2023-12-27 -> 2024-01-26) (Yahoo error = \"Data doesn't exist for startDate = 1703653200, endDate = 1706245200\")\n"
     ]
    },
    {
     "name": "stdout",
     "output_type": "stream",
     "text": [
      "Error fetching data for OILT: No historical data available for OILT around 2024-01-26.\n"
     ]
    },
    {
     "name": "stderr",
     "output_type": "stream",
     "text": [
      "$COSI: possibly delisted; no price data found  (1d 2023-12-27 -> 2024-01-26)\n",
      "$RKUS: possibly delisted; no price data found  (1d 2023-12-27 -> 2024-01-26)\n"
     ]
    },
    {
     "name": "stdout",
     "output_type": "stream",
     "text": [
      "Error fetching data for COSI: No historical data available for COSI around 2024-01-26.\n",
      "Error fetching data for RKUS: No historical data available for RKUS around 2024-01-26.\n"
     ]
    },
    {
     "name": "stderr",
     "output_type": "stream",
     "text": [
      "$ATE: possibly delisted; no price data found  (1d 2023-12-27 -> 2024-01-26)\n",
      "$BWP: possibly delisted; no price data found  (1d 2023-12-27 -> 2024-01-26)\n"
     ]
    },
    {
     "name": "stdout",
     "output_type": "stream",
     "text": [
      "Error fetching data for ATE: No historical data available for ATE around 2024-01-26.\n",
      "Error fetching data for BWP: No historical data available for BWP around 2024-01-26.\n"
     ]
    },
    {
     "name": "stderr",
     "output_type": "stream",
     "text": [
      "$UAM: possibly delisted; no price data found  (1d 2023-12-27 -> 2024-01-26)\n"
     ]
    },
    {
     "name": "stdout",
     "output_type": "stream",
     "text": [
      "Error fetching data for UAM: No historical data available for UAM around 2024-01-26.\n"
     ]
    },
    {
     "name": "stderr",
     "output_type": "stream",
     "text": [
      "$CIR: possibly delisted; no timezone found\n"
     ]
    },
    {
     "name": "stdout",
     "output_type": "stream",
     "text": [
      "Error fetching data for CIR: No historical data available for CIR around 2024-01-26.\n"
     ]
    },
    {
     "name": "stderr",
     "output_type": "stream",
     "text": [
      "$SNTS: possibly delisted; no price data found  (1d 2023-12-27 -> 2024-01-26)\n"
     ]
    },
    {
     "name": "stdout",
     "output_type": "stream",
     "text": [
      "Error fetching data for SNTS: No historical data available for SNTS around 2024-01-26.\n"
     ]
    },
    {
     "name": "stderr",
     "output_type": "stream",
     "text": [
      "$BASI: possibly delisted; no timezone found\n"
     ]
    },
    {
     "name": "stdout",
     "output_type": "stream",
     "text": [
      "Error fetching data for BASI: No historical data available for BASI around 2024-01-26.\n"
     ]
    },
    {
     "name": "stderr",
     "output_type": "stream",
     "text": [
      "$XPLR: possibly delisted; no price data found  (1d 2023-12-27 -> 2024-01-26)\n"
     ]
    },
    {
     "name": "stdout",
     "output_type": "stream",
     "text": [
      "Error fetching data for XPLR: No historical data available for XPLR around 2024-01-26.\n"
     ]
    },
    {
     "name": "stderr",
     "output_type": "stream",
     "text": [
      "$ATX: possibly delisted; no price data found  (1d 2023-12-27 -> 2024-01-26)\n",
      "$LIQD: possibly delisted; no price data found  (1d 2023-12-27 -> 2024-01-26)\n"
     ]
    },
    {
     "name": "stdout",
     "output_type": "stream",
     "text": [
      "Error fetching data for ATX: No historical data available for ATX around 2024-01-26.\n",
      "Error fetching data for LIQD: No historical data available for LIQD around 2024-01-26.\n"
     ]
    },
    {
     "name": "stderr",
     "output_type": "stream",
     "text": [
      "$SLTM: possibly delisted; no price data found  (1d 2023-12-27 -> 2024-01-26)\n"
     ]
    },
    {
     "name": "stdout",
     "output_type": "stream",
     "text": [
      "Error fetching data for SLTM: No historical data available for SLTM around 2024-01-26.\n"
     ]
    },
    {
     "name": "stderr",
     "output_type": "stream",
     "text": [
      "$CHKE: possibly delisted; no price data found  (1d 2023-12-27 -> 2024-01-26)\n"
     ]
    },
    {
     "name": "stdout",
     "output_type": "stream",
     "text": [
      "Error fetching data for CHKE: No historical data available for CHKE around 2024-01-26.\n"
     ]
    },
    {
     "name": "stderr",
     "output_type": "stream",
     "text": [
      "$DRE-K: possibly delisted; no timezone found\n",
      "$PYS: possibly delisted; no price data found  (1d 2023-12-27 -> 2024-01-26)\n"
     ]
    },
    {
     "name": "stdout",
     "output_type": "stream",
     "text": [
      "Error fetching data for DRE-K: No historical data available for DRE-K around 2024-01-26.\n",
      "Error fetching data for PYS: No historical data available for PYS around 2024-01-26.\n"
     ]
    },
    {
     "name": "stderr",
     "output_type": "stream",
     "text": [
      "$KAP: possibly delisted; no price data found  (1d 2023-12-27 -> 2024-01-26)\n"
     ]
    },
    {
     "name": "stdout",
     "output_type": "stream",
     "text": [
      "Error fetching data for KAP: No historical data available for KAP around 2024-01-26.\n"
     ]
    },
    {
     "name": "stderr",
     "output_type": "stream",
     "text": [
      "$SYMX: possibly delisted; no price data found  (1d 2023-12-27 -> 2024-01-26)\n"
     ]
    },
    {
     "name": "stdout",
     "output_type": "stream",
     "text": [
      "Error fetching data for SYMX: No historical data available for SYMX around 2024-01-26.\n"
     ]
    },
    {
     "name": "stderr",
     "output_type": "stream",
     "text": [
      "$AES-PC: possibly delisted; no price data found  (1d 2023-12-27 -> 2024-01-26)\n"
     ]
    },
    {
     "name": "stdout",
     "output_type": "stream",
     "text": [
      "Error fetching data for AES-PC: No historical data available for AES-PC around 2024-01-26.\n"
     ]
    },
    {
     "name": "stderr",
     "output_type": "stream",
     "text": [
      "$HTA: possibly delisted; no timezone found\n"
     ]
    },
    {
     "name": "stdout",
     "output_type": "stream",
     "text": [
      "Error fetching data for HTA: No historical data available for HTA around 2024-01-26.\n"
     ]
    },
    {
     "name": "stderr",
     "output_type": "stream",
     "text": [
      "$PPL-W: possibly delisted; no timezone found\n",
      "$HYL: possibly delisted; no price data found  (1d 2023-12-27 -> 2024-01-26)\n"
     ]
    },
    {
     "name": "stdout",
     "output_type": "stream",
     "text": [
      "Error fetching data for PPL-W: No historical data available for PPL-W around 2024-01-26.\n",
      "Error fetching data for HYL: No historical data available for HYL around 2024-01-26.\n"
     ]
    },
    {
     "name": "stderr",
     "output_type": "stream",
     "text": [
      "$FXEN: possibly delisted; no price data found  (1d 2023-12-27 -> 2024-01-26)\n"
     ]
    },
    {
     "name": "stdout",
     "output_type": "stream",
     "text": [
      "Error fetching data for FXEN: No historical data available for FXEN around 2024-01-26.\n"
     ]
    },
    {
     "name": "stderr",
     "output_type": "stream",
     "text": [
      "$ASCA: possibly delisted; no timezone found\n"
     ]
    },
    {
     "name": "stdout",
     "output_type": "stream",
     "text": [
      "Error fetching data for ASCA: No historical data available for ASCA around 2024-01-26.\n"
     ]
    },
    {
     "name": "stderr",
     "output_type": "stream",
     "text": [
      "$TTM: possibly delisted; no timezone found\n"
     ]
    },
    {
     "name": "stdout",
     "output_type": "stream",
     "text": [
      "Error fetching data for TTM: No historical data available for TTM around 2024-01-26.\n"
     ]
    },
    {
     "name": "stderr",
     "output_type": "stream",
     "text": [
      "$PTR: possibly delisted; no timezone found\n"
     ]
    },
    {
     "name": "stdout",
     "output_type": "stream",
     "text": [
      "Error fetching data for PTR: No historical data available for PTR around 2024-01-26.\n"
     ]
    },
    {
     "name": "stderr",
     "output_type": "stream",
     "text": [
      "$AMRB: possibly delisted; no timezone found\n"
     ]
    },
    {
     "name": "stdout",
     "output_type": "stream",
     "text": [
      "Error fetching data for AMRB: No historical data available for AMRB around 2024-01-26.\n"
     ]
    },
    {
     "name": "stderr",
     "output_type": "stream",
     "text": [
      "$BPFHW: possibly delisted; no timezone found\n"
     ]
    },
    {
     "name": "stdout",
     "output_type": "stream",
     "text": [
      "Error fetching data for BPFHW: No historical data available for BPFHW around 2024-01-26.\n"
     ]
    },
    {
     "name": "stderr",
     "output_type": "stream",
     "text": [
      "$DVD: possibly delisted; no timezone found\n"
     ]
    },
    {
     "name": "stdout",
     "output_type": "stream",
     "text": [
      "Error fetching data for DVD: No historical data available for DVD around 2024-01-26.\n"
     ]
    },
    {
     "name": "stderr",
     "output_type": "stream",
     "text": [
      "$PSB-T: possibly delisted; no timezone found\n",
      "$QRE: possibly delisted; no price data found  (1d 2023-12-27 -> 2024-01-26)\n"
     ]
    },
    {
     "name": "stdout",
     "output_type": "stream",
     "text": [
      "Error fetching data for PSB-T: No historical data available for PSB-T around 2024-01-26.\n",
      "Error fetching data for QRE: No historical data available for QRE around 2024-01-26.\n"
     ]
    },
    {
     "name": "stderr",
     "output_type": "stream",
     "text": [
      "$PSA-T: possibly delisted; no timezone found\n"
     ]
    },
    {
     "name": "stdout",
     "output_type": "stream",
     "text": [
      "Error fetching data for PSA-T: No historical data available for PSA-T around 2024-01-26.\n"
     ]
    },
    {
     "name": "stderr",
     "output_type": "stream",
     "text": [
      "$NEE-J: possibly delisted; no timezone found\n"
     ]
    },
    {
     "name": "stdout",
     "output_type": "stream",
     "text": [
      "Error fetching data for NEE-J: No historical data available for NEE-J around 2024-01-26.\n"
     ]
    },
    {
     "name": "stderr",
     "output_type": "stream",
     "text": [
      "$AMP-A: possibly delisted; no timezone found\n"
     ]
    },
    {
     "name": "stdout",
     "output_type": "stream",
     "text": [
      "Error fetching data for AMP-A: No historical data available for AMP-A around 2024-01-26.\n"
     ]
    },
    {
     "name": "stderr",
     "output_type": "stream",
     "text": [
      "$TMK: possibly delisted; no timezone found\n"
     ]
    },
    {
     "name": "stdout",
     "output_type": "stream",
     "text": [
      "Error fetching data for TMK: No historical data available for TMK around 2024-01-26.\n"
     ]
    },
    {
     "name": "stderr",
     "output_type": "stream",
     "text": [
      "$ROYT: possibly delisted; no timezone found\n",
      "$XVG: possibly delisted; no price data found  (1d 2023-12-27 -> 2024-01-26)\n"
     ]
    },
    {
     "name": "stdout",
     "output_type": "stream",
     "text": [
      "Error fetching data for ROYT: No historical data available for ROYT around 2024-01-26.\n",
      "Error fetching data for XVG: No historical data available for XVG around 2024-01-26.\n"
     ]
    },
    {
     "name": "stderr",
     "output_type": "stream",
     "text": [
      "$FTT: possibly delisted; no timezone found\n",
      "$CWEI: possibly delisted; no price data found  (1d 2023-12-27 -> 2024-01-26)\n",
      "$KMR: possibly delisted; no price data found  (1d 2023-12-27 -> 2024-01-26)\n"
     ]
    },
    {
     "name": "stdout",
     "output_type": "stream",
     "text": [
      "Error fetching data for FTT: No historical data available for FTT around 2024-01-26.\n",
      "Error fetching data for CWEI: No historical data available for CWEI around 2024-01-26.\n",
      "Error fetching data for KMR: No historical data available for KMR around 2024-01-26.\n"
     ]
    },
    {
     "name": "stderr",
     "output_type": "stream",
     "text": [
      "$ABC: possibly delisted; no timezone found\n"
     ]
    },
    {
     "name": "stdout",
     "output_type": "stream",
     "text": [
      "Error fetching data for ABC: No historical data available for ABC around 2024-01-26.\n"
     ]
    },
    {
     "name": "stderr",
     "output_type": "stream",
     "text": [
      "$VAL.P: possibly delisted; no price data found  (1d 2023-12-27 -> 2024-01-26)\n",
      "$WAC: possibly delisted; no price data found  (1d 2023-12-27 -> 2024-01-26)\n",
      "$MSPD: possibly delisted; no price data found  (1d 2023-12-27 -> 2024-01-26)\n"
     ]
    },
    {
     "name": "stdout",
     "output_type": "stream",
     "text": [
      "Error fetching data for VAL.P: No historical data available for VAL.P around 2024-01-26.\n",
      "Error fetching data for WAC: No historical data available for WAC around 2024-01-26.\n",
      "Error fetching data for MSPD: No historical data available for MSPD around 2024-01-26.\n"
     ]
    },
    {
     "name": "stderr",
     "output_type": "stream",
     "text": [
      "$CAP: possibly delisted; no timezone found\n",
      "$AVG: possibly delisted; no price data found  (1d 2023-12-27 -> 2024-01-26)\n"
     ]
    },
    {
     "name": "stdout",
     "output_type": "stream",
     "text": [
      "Error fetching data for CAP: No historical data available for CAP around 2024-01-26.\n",
      "Error fetching data for AVG: No historical data available for AVG around 2024-01-26.\n"
     ]
    },
    {
     "name": "stderr",
     "output_type": "stream",
     "text": [
      "$SMM: possibly delisted; no timezone found\n",
      "$CYNO: possibly delisted; no price data found  (1d 2023-12-27 -> 2024-01-26)\n"
     ]
    },
    {
     "name": "stdout",
     "output_type": "stream",
     "text": [
      "Error fetching data for SMM: No historical data available for SMM around 2024-01-26.\n",
      "Error fetching data for CYNO: No historical data available for CYNO around 2024-01-26.\n"
     ]
    },
    {
     "name": "stderr",
     "output_type": "stream",
     "text": [
      "$ELGX: possibly delisted; no timezone found\n"
     ]
    },
    {
     "name": "stdout",
     "output_type": "stream",
     "text": [
      "Error fetching data for ELGX: No historical data available for ELGX around 2024-01-26.\n"
     ]
    },
    {
     "name": "stderr",
     "output_type": "stream",
     "text": [
      "$ZMH: possibly delisted; no price data found  (1d 2023-12-27 -> 2024-01-26)\n"
     ]
    },
    {
     "name": "stdout",
     "output_type": "stream",
     "text": [
      "Error fetching data for ZMH: No historical data available for ZMH around 2024-01-26.\n"
     ]
    },
    {
     "name": "stderr",
     "output_type": "stream",
     "text": [
      "$LEAP: possibly delisted; no timezone found\n"
     ]
    },
    {
     "name": "stdout",
     "output_type": "stream",
     "text": [
      "Error fetching data for LEAP: No historical data available for LEAP around 2024-01-26.\n"
     ]
    },
    {
     "name": "stderr",
     "output_type": "stream",
     "text": [
      "$NEA-C: possibly delisted; no timezone found\n"
     ]
    },
    {
     "name": "stdout",
     "output_type": "stream",
     "text": [
      "Error fetching data for NEA-C: No historical data available for NEA-C around 2024-01-26.\n"
     ]
    },
    {
     "name": "stderr",
     "output_type": "stream",
     "text": [
      "$BRS: possibly delisted; no timezone found\n"
     ]
    },
    {
     "name": "stdout",
     "output_type": "stream",
     "text": [
      "Error fetching data for BRS: No historical data available for BRS around 2024-01-26.\n"
     ]
    },
    {
     "name": "stderr",
     "output_type": "stream",
     "text": [
      "$ROICU: possibly delisted; no timezone found\n"
     ]
    },
    {
     "name": "stdout",
     "output_type": "stream",
     "text": [
      "Error fetching data for ROICU: No historical data available for ROICU around 2024-01-26.\n"
     ]
    },
    {
     "name": "stderr",
     "output_type": "stream",
     "text": [
      "$RALY: possibly delisted; no price data found  (1d 2023-12-27 -> 2024-01-26)\n"
     ]
    },
    {
     "name": "stdout",
     "output_type": "stream",
     "text": [
      "Error fetching data for RALY: No historical data available for RALY around 2024-01-26.\n"
     ]
    },
    {
     "name": "stderr",
     "output_type": "stream",
     "text": [
      "$ISH-B: possibly delisted; no timezone found\n",
      "$GUID: possibly delisted; no price data found  (1d 2023-12-27 -> 2024-01-26)\n"
     ]
    },
    {
     "name": "stdout",
     "output_type": "stream",
     "text": [
      "Error fetching data for ISH-B: No historical data available for ISH-B around 2024-01-26.\n",
      "Error fetching data for GUID: No historical data available for GUID around 2024-01-26.\n"
     ]
    },
    {
     "name": "stderr",
     "output_type": "stream",
     "text": [
      "$USB-A: possibly delisted; no timezone found\n"
     ]
    },
    {
     "name": "stdout",
     "output_type": "stream",
     "text": [
      "Error fetching data for USB-A: No historical data available for USB-A around 2024-01-26.\n"
     ]
    },
    {
     "name": "stderr",
     "output_type": "stream",
     "text": [
      "$NEE-H: possibly delisted; no timezone found\n",
      "$CPN: possibly delisted; no price data found  (1d 2023-12-27 -> 2024-01-26)\n"
     ]
    },
    {
     "name": "stdout",
     "output_type": "stream",
     "text": [
      "Error fetching data for NEE-H: No historical data available for NEE-H around 2024-01-26.\n",
      "Error fetching data for CPN: No historical data available for CPN around 2024-01-26.\n"
     ]
    },
    {
     "name": "stderr",
     "output_type": "stream",
     "text": [
      "$CERN: possibly delisted; no timezone found\n",
      "$LLTC: possibly delisted; no price data found  (1d 2023-12-27 -> 2024-01-26)\n"
     ]
    },
    {
     "name": "stdout",
     "output_type": "stream",
     "text": [
      "Error fetching data for CERN: No historical data available for CERN around 2024-01-26.\n",
      "Error fetching data for LLTC: No historical data available for LLTC around 2024-01-26.\n"
     ]
    },
    {
     "name": "stderr",
     "output_type": "stream",
     "text": [
      "$AAN: possibly delisted; no timezone found\n"
     ]
    },
    {
     "name": "stdout",
     "output_type": "stream",
     "text": [
      "Error fetching data for AAN: No historical data available for AAN around 2024-01-26.\n"
     ]
    },
    {
     "name": "stderr",
     "output_type": "stream",
     "text": [
      "$NEE-G: possibly delisted; no timezone found\n",
      "$RCPT: possibly delisted; no price data found  (1d 2023-12-27 -> 2024-01-26)\n"
     ]
    },
    {
     "name": "stdout",
     "output_type": "stream",
     "text": [
      "Error fetching data for NEE-G: No historical data available for NEE-G around 2024-01-26.\n",
      "Error fetching data for RCPT: No historical data available for RCPT around 2024-01-26.\n"
     ]
    },
    {
     "name": "stderr",
     "output_type": "stream",
     "text": [
      "$SQNM: possibly delisted; no price data found  (1d 2023-12-27 -> 2024-01-26)\n",
      "$ANCI: possibly delisted; no price data found  (1d 2023-12-27 -> 2024-01-26)\n"
     ]
    },
    {
     "name": "stdout",
     "output_type": "stream",
     "text": [
      "Error fetching data for SQNM: No historical data available for SQNM around 2024-01-26.\n",
      "Error fetching data for ANCI: No historical data available for ANCI around 2024-01-26.\n"
     ]
    },
    {
     "name": "stderr",
     "output_type": "stream",
     "text": [
      "$SMMF: possibly delisted; no timezone found\n"
     ]
    },
    {
     "name": "stdout",
     "output_type": "stream",
     "text": [
      "Error fetching data for SMMF: No historical data available for SMMF around 2024-01-26.\n"
     ]
    },
    {
     "name": "stderr",
     "output_type": "stream",
     "text": [
      "$ACRX: possibly delisted; no timezone found\n"
     ]
    },
    {
     "name": "stdout",
     "output_type": "stream",
     "text": [
      "Error fetching data for ACRX: No historical data available for ACRX around 2024-01-26.\n"
     ]
    },
    {
     "name": "stderr",
     "output_type": "stream",
     "text": [
      "$FCTY: possibly delisted; no price data found  (1d 2023-12-27 -> 2024-01-26)\n"
     ]
    },
    {
     "name": "stdout",
     "output_type": "stream",
     "text": [
      "Error fetching data for FCTY: No historical data available for FCTY around 2024-01-26.\n"
     ]
    },
    {
     "name": "stderr",
     "output_type": "stream",
     "text": [
      "$EMQ: possibly delisted; no price data found  (1d 2023-12-27 -> 2024-01-26)\n"
     ]
    },
    {
     "name": "stdout",
     "output_type": "stream",
     "text": [
      "Error fetching data for EMQ: No historical data available for EMQ around 2024-01-26.\n"
     ]
    },
    {
     "name": "stderr",
     "output_type": "stream",
     "text": [
      "$C.B: possibly delisted; no price data found  (1d 2023-12-27 -> 2024-01-26)\n"
     ]
    },
    {
     "name": "stdout",
     "output_type": "stream",
     "text": [
      "Error fetching data for C.B: No historical data available for C.B around 2024-01-26.\n"
     ]
    },
    {
     "name": "stderr",
     "output_type": "stream",
     "text": [
      "$MER-M: possibly delisted; no timezone found\n"
     ]
    },
    {
     "name": "stdout",
     "output_type": "stream",
     "text": [
      "Error fetching data for MER-M: No historical data available for MER-M around 2024-01-26.\n"
     ]
    },
    {
     "name": "stderr",
     "output_type": "stream",
     "text": [
      "$HUB.A: possibly delisted; no timezone found\n"
     ]
    },
    {
     "name": "stdout",
     "output_type": "stream",
     "text": [
      "Error fetching data for HUB.A: No historical data available for HUB.A around 2024-01-26.\n"
     ]
    },
    {
     "name": "stderr",
     "output_type": "stream",
     "text": [
      "$TICC: possibly delisted; no price data found  (1d 2023-12-27 -> 2024-01-26)\n"
     ]
    },
    {
     "name": "stdout",
     "output_type": "stream",
     "text": [
      "Error fetching data for TICC: No historical data available for TICC around 2024-01-26.\n"
     ]
    },
    {
     "name": "stderr",
     "output_type": "stream",
     "text": [
      "$BODY: possibly delisted; no timezone found\n"
     ]
    },
    {
     "name": "stdout",
     "output_type": "stream",
     "text": [
      "Error fetching data for BODY: No historical data available for BODY around 2024-01-26.\n"
     ]
    },
    {
     "name": "stderr",
     "output_type": "stream",
     "text": [
      "$AGU: possibly delisted; no price data found  (1d 2023-12-27 -> 2024-01-26)\n"
     ]
    },
    {
     "name": "stdout",
     "output_type": "stream",
     "text": [
      "Error fetching data for AGU: No historical data available for AGU around 2024-01-26.\n"
     ]
    },
    {
     "name": "stderr",
     "output_type": "stream",
     "text": [
      "$ISF: possibly delisted; no timezone found\n"
     ]
    },
    {
     "name": "stdout",
     "output_type": "stream",
     "text": [
      "Error fetching data for ISF: No historical data available for ISF around 2024-01-26.\n"
     ]
    },
    {
     "name": "stderr",
     "output_type": "stream",
     "text": [
      "$NYNY: possibly delisted; no timezone found\n"
     ]
    },
    {
     "name": "stdout",
     "output_type": "stream",
     "text": [
      "Error fetching data for NYNY: No historical data available for NYNY around 2024-01-26.\n"
     ]
    },
    {
     "name": "stderr",
     "output_type": "stream",
     "text": [
      "$DDR-H: possibly delisted; no timezone found\n"
     ]
    },
    {
     "name": "stdout",
     "output_type": "stream",
     "text": [
      "Error fetching data for DDR-H: No historical data available for DDR-H around 2024-01-26.\n"
     ]
    },
    {
     "name": "stderr",
     "output_type": "stream",
     "text": [
      "$MEILW: possibly delisted; no timezone found\n"
     ]
    },
    {
     "name": "stdout",
     "output_type": "stream",
     "text": [
      "Error fetching data for MEILW: No historical data available for MEILW around 2024-01-26.\n"
     ]
    },
    {
     "name": "stderr",
     "output_type": "stream",
     "text": [
      "$TAYC: possibly delisted; no price data found  (1d 2023-12-27 -> 2024-01-26)\n"
     ]
    },
    {
     "name": "stdout",
     "output_type": "stream",
     "text": [
      "Error fetching data for TAYC: No historical data available for TAYC around 2024-01-26.\n"
     ]
    },
    {
     "name": "stderr",
     "output_type": "stream",
     "text": [
      "$SPPRP: possibly delisted; no timezone found\n"
     ]
    },
    {
     "name": "stdout",
     "output_type": "stream",
     "text": [
      "Error fetching data for SPPRP: No historical data available for SPPRP around 2024-01-26.\n"
     ]
    },
    {
     "name": "stderr",
     "output_type": "stream",
     "text": [
      "$UPL: possibly delisted; no timezone found\n"
     ]
    },
    {
     "name": "stdout",
     "output_type": "stream",
     "text": [
      "Error fetching data for UPL: No historical data available for UPL around 2024-01-26.\n"
     ]
    },
    {
     "name": "stderr",
     "output_type": "stream",
     "text": [
      "$PSTR: possibly delisted; no price data found  (1d 2023-12-27 -> 2024-01-26) (Yahoo error = \"Data doesn't exist for startDate = 1703653200, endDate = 1706245200\")\n",
      "$BKYF: possibly delisted; no price data found  (1d 2023-12-27 -> 2024-01-26)\n"
     ]
    },
    {
     "name": "stdout",
     "output_type": "stream",
     "text": [
      "Error fetching data for PSTR: No historical data available for PSTR around 2024-01-26.\n",
      "Error fetching data for BKYF: No historical data available for BKYF around 2024-01-26.\n"
     ]
    },
    {
     "name": "stderr",
     "output_type": "stream",
     "text": [
      "$NVGN: possibly delisted; no price data found  (1d 2023-12-27 -> 2024-01-26)\n"
     ]
    },
    {
     "name": "stdout",
     "output_type": "stream",
     "text": [
      "Error fetching data for NVGN: No historical data available for NVGN around 2024-01-26.\n"
     ]
    },
    {
     "name": "stderr",
     "output_type": "stream",
     "text": [
      "$APF: possibly delisted; no timezone found\n"
     ]
    },
    {
     "name": "stdout",
     "output_type": "stream",
     "text": [
      "Error fetching data for APF: No historical data available for APF around 2024-01-26.\n"
     ]
    },
    {
     "name": "stderr",
     "output_type": "stream",
     "text": [
      "$TSS: possibly delisted; no timezone found\n"
     ]
    },
    {
     "name": "stdout",
     "output_type": "stream",
     "text": [
      "Error fetching data for TSS: No historical data available for TSS around 2024-01-26.\n"
     ]
    },
    {
     "name": "stderr",
     "output_type": "stream",
     "text": [
      "$ARE-E: possibly delisted; no timezone found\n",
      "$LF: possibly delisted; no price data found  (1d 2023-12-27 -> 2024-01-26)\n"
     ]
    },
    {
     "name": "stdout",
     "output_type": "stream",
     "text": [
      "Error fetching data for ARE-E: No historical data available for ARE-E around 2024-01-26.\n",
      "Error fetching data for LF: No historical data available for LF around 2024-01-26.\n"
     ]
    },
    {
     "name": "stderr",
     "output_type": "stream",
     "text": [
      "$SPN: possibly delisted; no timezone found\n",
      "$ANR: possibly delisted; no price data found  (1d 2023-12-27 -> 2024-01-26)\n"
     ]
    },
    {
     "name": "stdout",
     "output_type": "stream",
     "text": [
      "Error fetching data for SPN: No historical data available for SPN around 2024-01-26.\n",
      "Error fetching data for ANR: No historical data available for ANR around 2024-01-26.\n"
     ]
    },
    {
     "name": "stderr",
     "output_type": "stream",
     "text": [
      "$CNBC: possibly delisted; no price data found  (1d 2023-12-27 -> 2024-01-26)\n"
     ]
    },
    {
     "name": "stdout",
     "output_type": "stream",
     "text": [
      "Error fetching data for CNBC: No historical data available for CNBC around 2024-01-26.\n"
     ]
    },
    {
     "name": "stderr",
     "output_type": "stream",
     "text": [
      "$EXPR: possibly delisted; no timezone found\n"
     ]
    },
    {
     "name": "stdout",
     "output_type": "stream",
     "text": [
      "Error fetching data for EXPR: No historical data available for EXPR around 2024-01-26.\n"
     ]
    },
    {
     "name": "stderr",
     "output_type": "stream",
     "text": [
      "$NUO: possibly delisted; no timezone found\n"
     ]
    },
    {
     "name": "stdout",
     "output_type": "stream",
     "text": [
      "Error fetching data for NUO: No historical data available for NUO around 2024-01-26.\n"
     ]
    },
    {
     "name": "stderr",
     "output_type": "stream",
     "text": [
      "$HW: possibly delisted; no price data found  (1d 2023-12-27 -> 2024-01-26)\n",
      "$ISS: possibly delisted; no price data found  (1d 2023-12-27 -> 2024-01-26)\n"
     ]
    },
    {
     "name": "stdout",
     "output_type": "stream",
     "text": [
      "Error fetching data for HW: No historical data available for HW around 2024-01-26.\n",
      "Error fetching data for ISS: No historical data available for ISS around 2024-01-26.\n"
     ]
    },
    {
     "name": "stderr",
     "output_type": "stream",
     "text": [
      "$PRY: possibly delisted; no price data found  (1d 2023-12-27 -> 2024-01-26)\n"
     ]
    },
    {
     "name": "stdout",
     "output_type": "stream",
     "text": [
      "Error fetching data for PRY: No historical data available for PRY around 2024-01-26.\n"
     ]
    },
    {
     "name": "stderr",
     "output_type": "stream",
     "text": [
      "$HNP: possibly delisted; no timezone found\n"
     ]
    },
    {
     "name": "stdout",
     "output_type": "stream",
     "text": [
      "Error fetching data for HNP: No historical data available for HNP around 2024-01-26.\n"
     ]
    },
    {
     "name": "stderr",
     "output_type": "stream",
     "text": [
      "$ZAGG: possibly delisted; no timezone found\n"
     ]
    },
    {
     "name": "stdout",
     "output_type": "stream",
     "text": [
      "Error fetching data for ZAGG: No historical data available for ZAGG around 2024-01-26.\n"
     ]
    },
    {
     "name": "stderr",
     "output_type": "stream",
     "text": [
      "$GTN.A: possibly delisted; no timezone found\n"
     ]
    },
    {
     "name": "stdout",
     "output_type": "stream",
     "text": [
      "Error fetching data for GTN.A: No historical data available for GTN.A around 2024-01-26.\n"
     ]
    },
    {
     "name": "stderr",
     "output_type": "stream",
     "text": [
      "$AMT-A: possibly delisted; no timezone found\n"
     ]
    },
    {
     "name": "stdout",
     "output_type": "stream",
     "text": [
      "Error fetching data for AMT-A: No historical data available for AMT-A around 2024-01-26.\n"
     ]
    },
    {
     "name": "stderr",
     "output_type": "stream",
     "text": [
      "$GEK: possibly delisted; no timezone found\n"
     ]
    },
    {
     "name": "stdout",
     "output_type": "stream",
     "text": [
      "Error fetching data for GEK: No historical data available for GEK around 2024-01-26.\n"
     ]
    },
    {
     "name": "stderr",
     "output_type": "stream",
     "text": [
      "$ADHD: possibly delisted; no price data found  (1d 2023-12-27 -> 2024-01-26)\n"
     ]
    },
    {
     "name": "stdout",
     "output_type": "stream",
     "text": [
      "Error fetching data for ADHD: No historical data available for ADHD around 2024-01-26.\n"
     ]
    },
    {
     "name": "stderr",
     "output_type": "stream",
     "text": [
      "$ANDA: possibly delisted; no timezone found\n"
     ]
    },
    {
     "name": "stdout",
     "output_type": "stream",
     "text": [
      "Error fetching data for ANDA: No historical data available for ANDA around 2024-01-26.\n"
     ]
    },
    {
     "name": "stderr",
     "output_type": "stream",
     "text": [
      "$SNSS: possibly delisted; no timezone found\n"
     ]
    },
    {
     "name": "stdout",
     "output_type": "stream",
     "text": [
      "Error fetching data for SNSS: No historical data available for SNSS around 2024-01-26.\n"
     ]
    },
    {
     "name": "stderr",
     "output_type": "stream",
     "text": [
      "$NBTF: possibly delisted; no price data found  (1d 2023-12-27 -> 2024-01-26)\n"
     ]
    },
    {
     "name": "stdout",
     "output_type": "stream",
     "text": [
      "Error fetching data for NBTF: No historical data available for NBTF around 2024-01-26.\n"
     ]
    },
    {
     "name": "stderr",
     "output_type": "stream",
     "text": [
      "$AHL: possibly delisted; no price data found  (1d 2023-12-27 -> 2024-01-26)\n"
     ]
    },
    {
     "name": "stdout",
     "output_type": "stream",
     "text": [
      "Error fetching data for AHL: No historical data available for AHL around 2024-01-26.\n"
     ]
    },
    {
     "name": "stderr",
     "output_type": "stream",
     "text": [
      "$WTSL: possibly delisted; no price data found  (1d 2023-12-27 -> 2024-01-26)\n",
      "$ARMH: possibly delisted; no price data found  (1d 2023-12-27 -> 2024-01-26)\n"
     ]
    },
    {
     "name": "stdout",
     "output_type": "stream",
     "text": [
      "Error fetching data for WTSL: No historical data available for WTSL around 2024-01-26.\n",
      "Error fetching data for ARMH: No historical data available for ARMH around 2024-01-26.\n"
     ]
    },
    {
     "name": "stderr",
     "output_type": "stream",
     "text": [
      "$RIT: possibly delisted; no price data found  (1d 2023-12-27 -> 2024-01-26)\n",
      "$CHTP: possibly delisted; no price data found  (1d 2023-12-27 -> 2024-01-26)\n"
     ]
    },
    {
     "name": "stdout",
     "output_type": "stream",
     "text": [
      "Error fetching data for RIT: No historical data available for RIT around 2024-01-26.\n",
      "Error fetching data for CHTP: No historical data available for CHTP around 2024-01-26.\n"
     ]
    },
    {
     "name": "stderr",
     "output_type": "stream",
     "text": [
      "$APA-D: possibly delisted; no timezone found\n"
     ]
    },
    {
     "name": "stdout",
     "output_type": "stream",
     "text": [
      "Error fetching data for APA-D: No historical data available for APA-D around 2024-01-26.\n"
     ]
    },
    {
     "name": "stderr",
     "output_type": "stream",
     "text": [
      "$GARS: possibly delisted; no timezone found\n"
     ]
    },
    {
     "name": "stdout",
     "output_type": "stream",
     "text": [
      "Error fetching data for GARS: No historical data available for GARS around 2024-01-26.\n"
     ]
    },
    {
     "name": "stderr",
     "output_type": "stream",
     "text": [
      "$HTWO: possibly delisted; no timezone found\n"
     ]
    },
    {
     "name": "stdout",
     "output_type": "stream",
     "text": [
      "Error fetching data for HTWO: No historical data available for HTWO around 2024-01-26.\n"
     ]
    },
    {
     "name": "stderr",
     "output_type": "stream",
     "text": [
      "$STRI: possibly delisted; no timezone found\n"
     ]
    },
    {
     "name": "stdout",
     "output_type": "stream",
     "text": [
      "Error fetching data for STRI: No historical data available for STRI around 2024-01-26.\n"
     ]
    },
    {
     "name": "stderr",
     "output_type": "stream",
     "text": [
      "$COT: possibly delisted; no timezone found\n",
      "$CNIT: possibly delisted; no price data found  (1d 2023-12-27 -> 2024-01-26)\n"
     ]
    },
    {
     "name": "stdout",
     "output_type": "stream",
     "text": [
      "Error fetching data for COT: No historical data available for COT around 2024-01-26.\n",
      "Error fetching data for CNIT: No historical data available for CNIT around 2024-01-26.\n"
     ]
    },
    {
     "name": "stderr",
     "output_type": "stream",
     "text": [
      "$FSCFL: possibly delisted; no timezone found\n"
     ]
    },
    {
     "name": "stdout",
     "output_type": "stream",
     "text": [
      "Error fetching data for FSCFL: No historical data available for FSCFL around 2024-01-26.\n"
     ]
    },
    {
     "name": "stderr",
     "output_type": "stream",
     "text": [
      "$POPE: possibly delisted; no timezone found\n",
      "$IBCA: possibly delisted; no price data found  (1d 2023-12-27 -> 2024-01-26)\n"
     ]
    },
    {
     "name": "stdout",
     "output_type": "stream",
     "text": [
      "Error fetching data for POPE: No historical data available for POPE around 2024-01-26.\n",
      "Error fetching data for IBCA: No historical data available for IBCA around 2024-01-26.\n"
     ]
    },
    {
     "name": "stderr",
     "output_type": "stream",
     "text": [
      "$CRDS: possibly delisted; no price data found  (1d 2023-12-27 -> 2024-01-26)\n",
      "$PTSX: possibly delisted; no price data found  (1d 2023-12-27 -> 2024-01-26)\n",
      "$FSC: possibly delisted; no price data found  (1d 2023-12-27 -> 2024-01-26)\n"
     ]
    },
    {
     "name": "stdout",
     "output_type": "stream",
     "text": [
      "Error fetching data for CRDS: No historical data available for CRDS around 2024-01-26.\n",
      "Error fetching data for PTSX: No historical data available for PTSX around 2024-01-26.\n",
      "Error fetching data for FSC: No historical data available for FSC around 2024-01-26.\n"
     ]
    },
    {
     "name": "stderr",
     "output_type": "stream",
     "text": [
      "$STSA: possibly delisted; no timezone found\n"
     ]
    },
    {
     "name": "stdout",
     "output_type": "stream",
     "text": [
      "Error fetching data for STSA: No historical data available for STSA around 2024-01-26.\n"
     ]
    },
    {
     "name": "stderr",
     "output_type": "stream",
     "text": [
      "$PNK: possibly delisted; no price data found  (1d 2023-12-27 -> 2024-01-26)\n"
     ]
    },
    {
     "name": "stdout",
     "output_type": "stream",
     "text": [
      "Error fetching data for PNK: No historical data available for PNK around 2024-01-26.\n"
     ]
    },
    {
     "name": "stderr",
     "output_type": "stream",
     "text": [
      "$SOV-C: possibly delisted; no timezone found\n"
     ]
    },
    {
     "name": "stdout",
     "output_type": "stream",
     "text": [
      "Error fetching data for SOV-C: No historical data available for SOV-C around 2024-01-26.\n"
     ]
    },
    {
     "name": "stderr",
     "output_type": "stream",
     "text": [
      "$CETV: possibly delisted; no timezone found\n"
     ]
    },
    {
     "name": "stdout",
     "output_type": "stream",
     "text": [
      "Error fetching data for CETV: No historical data available for CETV around 2024-01-26.\n"
     ]
    },
    {
     "name": "stderr",
     "output_type": "stream",
     "text": [
      "$EXL: possibly delisted; no price data found  (1d 2023-12-27 -> 2024-01-26)\n",
      "$CKP: possibly delisted; no price data found  (1d 2023-12-27 -> 2024-01-26)\n"
     ]
    },
    {
     "name": "stdout",
     "output_type": "stream",
     "text": [
      "Error fetching data for EXL: No historical data available for EXL around 2024-01-26.\n",
      "Error fetching data for CKP: No historical data available for CKP around 2024-01-26.\n"
     ]
    },
    {
     "name": "stderr",
     "output_type": "stream",
     "text": [
      "$DGI: possibly delisted; no price data found  (1d 2023-12-27 -> 2024-01-26)\n",
      "$NTE: possibly delisted; no price data found  (1d 2023-12-27 -> 2024-01-26)\n"
     ]
    },
    {
     "name": "stdout",
     "output_type": "stream",
     "text": [
      "Error fetching data for DGI: No historical data available for DGI around 2024-01-26.\n",
      "Error fetching data for NTE: No historical data available for NTE around 2024-01-26.\n"
     ]
    },
    {
     "name": "stderr",
     "output_type": "stream",
     "text": [
      "$ELRC: possibly delisted; no price data found  (1d 2023-12-27 -> 2024-01-26)\n"
     ]
    },
    {
     "name": "stdout",
     "output_type": "stream",
     "text": [
      "Error fetching data for ELRC: No historical data available for ELRC around 2024-01-26.\n"
     ]
    },
    {
     "name": "stderr",
     "output_type": "stream",
     "text": [
      "$EBR.B: possibly delisted; no timezone found\n"
     ]
    },
    {
     "name": "stdout",
     "output_type": "stream",
     "text": [
      "Error fetching data for EBR.B: No historical data available for EBR.B around 2024-01-26.\n"
     ]
    },
    {
     "name": "stderr",
     "output_type": "stream",
     "text": [
      "$GOL: possibly delisted; no timezone found\n"
     ]
    },
    {
     "name": "stdout",
     "output_type": "stream",
     "text": [
      "Error fetching data for GOL: No historical data available for GOL around 2024-01-26.\n"
     ]
    },
    {
     "name": "stderr",
     "output_type": "stream",
     "text": [
      "$CTW: possibly delisted; no timezone found\n",
      "$FBN: possibly delisted; no price data found  (1d 2023-12-27 -> 2024-01-26)\n"
     ]
    },
    {
     "name": "stdout",
     "output_type": "stream",
     "text": [
      "Error fetching data for CTW: No historical data available for CTW around 2024-01-26.\n",
      "Error fetching data for FBN: No historical data available for FBN around 2024-01-26.\n"
     ]
    },
    {
     "name": "stderr",
     "output_type": "stream",
     "text": [
      "$AIB: possibly delisted; no price data found  (period=1d)\n"
     ]
    },
    {
     "name": "stdout",
     "output_type": "stream",
     "text": [
      "Error fetching data for AIB: single positional indexer is out-of-bounds\n"
     ]
    },
    {
     "name": "stderr",
     "output_type": "stream",
     "text": [
      "$GDV-D: possibly delisted; no timezone found\n",
      "$NTT: possibly delisted; no price data found  (1d 2023-12-27 -> 2024-01-26)\n"
     ]
    },
    {
     "name": "stdout",
     "output_type": "stream",
     "text": [
      "Error fetching data for GDV-D: No historical data available for GDV-D around 2024-01-26.\n",
      "Error fetching data for NTT: No historical data available for NTT around 2024-01-26.\n"
     ]
    },
    {
     "name": "stderr",
     "output_type": "stream",
     "text": [
      "$CBS: possibly delisted; no timezone found\n"
     ]
    },
    {
     "name": "stdout",
     "output_type": "stream",
     "text": [
      "Error fetching data for CBS: No historical data available for CBS around 2024-01-26.\n"
     ]
    },
    {
     "name": "stderr",
     "output_type": "stream",
     "text": [
      "$SEP: possibly delisted; no price data found  (1d 2023-12-27 -> 2024-01-26)\n"
     ]
    },
    {
     "name": "stdout",
     "output_type": "stream",
     "text": [
      "Error fetching data for SEP: No historical data available for SEP around 2024-01-26.\n"
     ]
    },
    {
     "name": "stderr",
     "output_type": "stream",
     "text": [
      "$EEP: possibly delisted; no price data found  (1d 2023-12-27 -> 2024-01-26)\n"
     ]
    },
    {
     "name": "stdout",
     "output_type": "stream",
     "text": [
      "Error fetching data for EEP: No historical data available for EEP around 2024-01-26.\n"
     ]
    },
    {
     "name": "stderr",
     "output_type": "stream",
     "text": [
      "$GSVC: possibly delisted; no timezone found\n"
     ]
    },
    {
     "name": "stdout",
     "output_type": "stream",
     "text": [
      "Error fetching data for GSVC: No historical data available for GSVC around 2024-01-26.\n"
     ]
    },
    {
     "name": "stderr",
     "output_type": "stream",
     "text": [
      "$HPT-D: possibly delisted; no timezone found\n",
      "$PCCC: possibly delisted; no price data found  (1d 2023-12-27 -> 2024-01-26)\n"
     ]
    },
    {
     "name": "stdout",
     "output_type": "stream",
     "text": [
      "Error fetching data for HPT-D: No historical data available for HPT-D around 2024-01-26.\n",
      "Error fetching data for PCCC: No historical data available for PCCC around 2024-01-26.\n"
     ]
    },
    {
     "name": "stderr",
     "output_type": "stream",
     "text": [
      "$CSC: possibly delisted; no price data found  (1d 2023-12-27 -> 2024-01-26)\n"
     ]
    },
    {
     "name": "stdout",
     "output_type": "stream",
     "text": [
      "Error fetching data for CSC: No historical data available for CSC around 2024-01-26.\n"
     ]
    },
    {
     "name": "stderr",
     "output_type": "stream",
     "text": [
      "$KHI: possibly delisted; no price data found  (1d 2023-12-27 -> 2024-01-26)\n"
     ]
    },
    {
     "name": "stdout",
     "output_type": "stream",
     "text": [
      "Error fetching data for KHI: No historical data available for KHI around 2024-01-26.\n"
     ]
    },
    {
     "name": "stderr",
     "output_type": "stream",
     "text": [
      "$ESC: possibly delisted; no price data found  (1d 2023-12-27 -> 2024-01-26)\n"
     ]
    },
    {
     "name": "stdout",
     "output_type": "stream",
     "text": [
      "Error fetching data for ESC: No historical data available for ESC around 2024-01-26.\n"
     ]
    },
    {
     "name": "stderr",
     "output_type": "stream",
     "text": [
      "$HPT: possibly delisted; no timezone found\n",
      "$SVU: possibly delisted; no price data found  (1d 2023-12-27 -> 2024-01-26)\n"
     ]
    },
    {
     "name": "stdout",
     "output_type": "stream",
     "text": [
      "Error fetching data for HPT: No historical data available for HPT around 2024-01-26.\n",
      "Error fetching data for SVU: No historical data available for SVU around 2024-01-26.\n"
     ]
    },
    {
     "name": "stderr",
     "output_type": "stream",
     "text": [
      "$ADAT: possibly delisted; no price data found  (1d 2023-12-27 -> 2024-01-26)\n",
      "$GAT: possibly delisted; no price data found  (1d 2023-12-27 -> 2024-01-26)\n"
     ]
    },
    {
     "name": "stdout",
     "output_type": "stream",
     "text": [
      "Error fetching data for ADAT: No historical data available for ADAT around 2024-01-26.\n",
      "Error fetching data for GAT: No historical data available for GAT around 2024-01-26.\n"
     ]
    },
    {
     "name": "stderr",
     "output_type": "stream",
     "text": [
      "$HSH: possibly delisted; no price data found  (1d 2023-12-27 -> 2024-01-26)\n"
     ]
    },
    {
     "name": "stdout",
     "output_type": "stream",
     "text": [
      "Error fetching data for HSH: No historical data available for HSH around 2024-01-26.\n"
     ]
    },
    {
     "name": "stderr",
     "output_type": "stream",
     "text": [
      "$EMCF: possibly delisted; no timezone found\n"
     ]
    },
    {
     "name": "stdout",
     "output_type": "stream",
     "text": [
      "Error fetching data for EMCF: No historical data available for EMCF around 2024-01-26.\n"
     ]
    },
    {
     "name": "stderr",
     "output_type": "stream",
     "text": [
      "$EAB: possibly delisted; no timezone found\n"
     ]
    },
    {
     "name": "stdout",
     "output_type": "stream",
     "text": [
      "Error fetching data for EAB: No historical data available for EAB around 2024-01-26.\n"
     ]
    },
    {
     "name": "stderr",
     "output_type": "stream",
     "text": [
      "$GNC: possibly delisted; no timezone found\n"
     ]
    },
    {
     "name": "stdout",
     "output_type": "stream",
     "text": [
      "Error fetching data for GNC: No historical data available for GNC around 2024-01-26.\n"
     ]
    },
    {
     "name": "stderr",
     "output_type": "stream",
     "text": [
      "$AINV: possibly delisted; no timezone found\n"
     ]
    },
    {
     "name": "stdout",
     "output_type": "stream",
     "text": [
      "Error fetching data for AINV: No historical data available for AINV around 2024-01-26.\n"
     ]
    },
    {
     "name": "stderr",
     "output_type": "stream",
     "text": [
      "$SJR: possibly delisted; no timezone found\n"
     ]
    },
    {
     "name": "stdout",
     "output_type": "stream",
     "text": [
      "Error fetching data for SJR: No historical data available for SJR around 2024-01-26.\n"
     ]
    },
    {
     "name": "stderr",
     "output_type": "stream",
     "text": [
      "$GPT-A: possibly delisted; no timezone found\n"
     ]
    },
    {
     "name": "stdout",
     "output_type": "stream",
     "text": [
      "Error fetching data for GPT-A: No historical data available for GPT-A around 2024-01-26.\n"
     ]
    },
    {
     "name": "stderr",
     "output_type": "stream",
     "text": [
      "$HPAC: possibly delisted; no price data found  (1d 2023-12-27 -> 2024-01-26)\n"
     ]
    },
    {
     "name": "stdout",
     "output_type": "stream",
     "text": [
      "Error fetching data for HPAC: No historical data available for HPAC around 2024-01-26.\n"
     ]
    },
    {
     "name": "stderr",
     "output_type": "stream",
     "text": [
      "$AGO-F: possibly delisted; no timezone found\n",
      "$PBSK: possibly delisted; no price data found  (1d 2023-12-27 -> 2024-01-26)\n"
     ]
    },
    {
     "name": "stdout",
     "output_type": "stream",
     "text": [
      "Error fetching data for AGO-F: No historical data available for AGO-F around 2024-01-26.\n",
      "Error fetching data for PBSK: No historical data available for PBSK around 2024-01-26.\n"
     ]
    },
    {
     "name": "stderr",
     "output_type": "stream",
     "text": [
      "$ATRS: possibly delisted; no timezone found\n",
      "$STP: possibly delisted; no price data found  (1d 2023-12-27 -> 2024-01-26)\n"
     ]
    },
    {
     "name": "stdout",
     "output_type": "stream",
     "text": [
      "Error fetching data for ATRS: No historical data available for ATRS around 2024-01-26.\n",
      "Error fetching data for STP: No historical data available for STP around 2024-01-26.\n"
     ]
    },
    {
     "name": "stderr",
     "output_type": "stream",
     "text": [
      "$ERF: possibly delisted; no timezone found\n",
      "$BEAV: possibly delisted; no price data found  (1d 2023-12-27 -> 2024-01-26)\n"
     ]
    },
    {
     "name": "stdout",
     "output_type": "stream",
     "text": [
      "Error fetching data for ERF: No historical data available for ERF around 2024-01-26.\n",
      "Error fetching data for BEAV: No historical data available for BEAV around 2024-01-26.\n"
     ]
    },
    {
     "name": "stderr",
     "output_type": "stream",
     "text": [
      "$SNP: possibly delisted; no timezone found\n"
     ]
    },
    {
     "name": "stdout",
     "output_type": "stream",
     "text": [
      "Error fetching data for SNP: No historical data available for SNP around 2024-01-26.\n"
     ]
    },
    {
     "name": "stderr",
     "output_type": "stream",
     "text": [
      "$DD-A: possibly delisted; no timezone found\n",
      "$AEC: possibly delisted; no price data found  (1d 2023-12-27 -> 2024-01-26)\n"
     ]
    },
    {
     "name": "stdout",
     "output_type": "stream",
     "text": [
      "Error fetching data for DD-A: No historical data available for DD-A around 2024-01-26.\n",
      "Error fetching data for AEC: No historical data available for AEC around 2024-01-26.\n"
     ]
    },
    {
     "name": "stderr",
     "output_type": "stream",
     "text": [
      "$IRET: possibly delisted; no price data found  (1d 2023-12-27 -> 2024-01-26) (Yahoo error = \"Data doesn't exist for startDate = 1703653200, endDate = 1706245200\")\n"
     ]
    },
    {
     "name": "stdout",
     "output_type": "stream",
     "text": [
      "Error fetching data for IRET: No historical data available for IRET around 2024-01-26.\n"
     ]
    },
    {
     "name": "stderr",
     "output_type": "stream",
     "text": [
      "$PBI-B: possibly delisted; no timezone found\n"
     ]
    },
    {
     "name": "stdout",
     "output_type": "stream",
     "text": [
      "Error fetching data for PBI-B: No historical data available for PBI-B around 2024-01-26.\n"
     ]
    },
    {
     "name": "stderr",
     "output_type": "stream",
     "text": [
      "$FDO: possibly delisted; no price data found  (1d 2023-12-27 -> 2024-01-26)\n"
     ]
    },
    {
     "name": "stdout",
     "output_type": "stream",
     "text": [
      "Error fetching data for FDO: No historical data available for FDO around 2024-01-26.\n"
     ]
    },
    {
     "name": "stderr",
     "output_type": "stream",
     "text": [
      "$HTF: possibly delisted; no timezone found\n",
      "$PZZI: possibly delisted; no price data found  (1d 2023-12-27 -> 2024-01-26)\n"
     ]
    },
    {
     "name": "stdout",
     "output_type": "stream",
     "text": [
      "Error fetching data for HTF: No historical data available for HTF around 2024-01-26.\n",
      "Error fetching data for PZZI: No historical data available for PZZI around 2024-01-26.\n"
     ]
    },
    {
     "name": "stderr",
     "output_type": "stream",
     "text": [
      "$SIMG: possibly delisted; no price data found  (1d 2023-12-27 -> 2024-01-26)\n"
     ]
    },
    {
     "name": "stdout",
     "output_type": "stream",
     "text": [
      "Error fetching data for SIMG: No historical data available for SIMG around 2024-01-26.\n"
     ]
    },
    {
     "name": "stderr",
     "output_type": "stream",
     "text": [
      "$GS-C: possibly delisted; no timezone found\n"
     ]
    },
    {
     "name": "stdout",
     "output_type": "stream",
     "text": [
      "Error fetching data for GS-C: No historical data available for GS-C around 2024-01-26.\n"
     ]
    },
    {
     "name": "stderr",
     "output_type": "stream",
     "text": [
      "$VASC: possibly delisted; no price data found  (1d 2023-12-27 -> 2024-01-26)\n",
      "$UPIP: possibly delisted; no price data found  (1d 2023-12-27 -> 2024-01-26)\n"
     ]
    },
    {
     "name": "stdout",
     "output_type": "stream",
     "text": [
      "Error fetching data for VASC: No historical data available for VASC around 2024-01-26.\n",
      "Error fetching data for UPIP: No historical data available for UPIP around 2024-01-26.\n"
     ]
    },
    {
     "name": "stderr",
     "output_type": "stream",
     "text": [
      "$EVAL: possibly delisted; no price data found  (1d 2023-12-27 -> 2024-01-26)\n",
      "$RSOL: possibly delisted; no price data found  (1d 2023-12-27 -> 2024-01-26)\n"
     ]
    },
    {
     "name": "stdout",
     "output_type": "stream",
     "text": [
      "Error fetching data for EVAL: No historical data available for EVAL around 2024-01-26.\n",
      "Error fetching data for RSOL: No historical data available for RSOL around 2024-01-26.\n"
     ]
    },
    {
     "name": "stderr",
     "output_type": "stream",
     "text": [
      "$PVD: possibly delisted; no price data found  (1d 2023-12-27 -> 2024-01-26)\n"
     ]
    },
    {
     "name": "stdout",
     "output_type": "stream",
     "text": [
      "Error fetching data for PVD: No historical data available for PVD around 2024-01-26.\n"
     ]
    },
    {
     "name": "stderr",
     "output_type": "stream",
     "text": [
      "$IDRA: possibly delisted; no timezone found\n"
     ]
    },
    {
     "name": "stdout",
     "output_type": "stream",
     "text": [
      "Error fetching data for IDRA: No historical data available for IDRA around 2024-01-26.\n"
     ]
    },
    {
     "name": "stderr",
     "output_type": "stream",
     "text": [
      "$PLP: possibly delisted; no price data found  (1d 2023-12-27 -> 2024-01-26)\n"
     ]
    },
    {
     "name": "stdout",
     "output_type": "stream",
     "text": [
      "Error fetching data for PLP: No historical data available for PLP around 2024-01-26.\n"
     ]
    },
    {
     "name": "stderr",
     "output_type": "stream",
     "text": [
      "$YHOO: possibly delisted; no timezone found\n"
     ]
    },
    {
     "name": "stdout",
     "output_type": "stream",
     "text": [
      "Error fetching data for YHOO: No historical data available for YHOO around 2024-01-26.\n"
     ]
    },
    {
     "name": "stderr",
     "output_type": "stream",
     "text": [
      "$TMNG: possibly delisted; no price data found  (1d 2023-12-27 -> 2024-01-26)\n"
     ]
    },
    {
     "name": "stdout",
     "output_type": "stream",
     "text": [
      "Error fetching data for TMNG: No historical data available for TMNG around 2024-01-26.\n"
     ]
    },
    {
     "name": "stderr",
     "output_type": "stream",
     "text": [
      "$CRMBU: possibly delisted; no timezone found\n"
     ]
    },
    {
     "name": "stdout",
     "output_type": "stream",
     "text": [
      "Error fetching data for CRMBU: No historical data available for CRMBU around 2024-01-26.\n"
     ]
    },
    {
     "name": "stderr",
     "output_type": "stream",
     "text": [
      "$CBB-B: possibly delisted; no timezone found\n"
     ]
    },
    {
     "name": "stdout",
     "output_type": "stream",
     "text": [
      "Error fetching data for CBB-B: No historical data available for CBB-B around 2024-01-26.\n"
     ]
    },
    {
     "name": "stderr",
     "output_type": "stream",
     "text": [
      "$CAM: possibly delisted; no price data found  (1d 2023-12-27 -> 2024-01-26)\n"
     ]
    },
    {
     "name": "stdout",
     "output_type": "stream",
     "text": [
      "Error fetching data for CAM: No historical data available for CAM around 2024-01-26.\n"
     ]
    },
    {
     "name": "stderr",
     "output_type": "stream",
     "text": [
      "$TLI: possibly delisted; no timezone found\n",
      "$CTX: possibly delisted; no price data found  (1d 2023-12-27 -> 2024-01-26)\n",
      "$GUA: possibly delisted; no price data found  (1d 2023-12-27 -> 2024-01-26)\n"
     ]
    },
    {
     "name": "stdout",
     "output_type": "stream",
     "text": [
      "Error fetching data for TLI: No historical data available for TLI around 2024-01-26.\n",
      "Error fetching data for CTX: No historical data available for CTX around 2024-01-26.\n",
      "Error fetching data for GUA: No historical data available for GUA around 2024-01-26.\n"
     ]
    },
    {
     "name": "stderr",
     "output_type": "stream",
     "text": [
      "$BDBD: possibly delisted; no price data found  (1d 2023-12-27 -> 2024-01-26)\n",
      "$VVTV: possibly delisted; no price data found  (1d 2023-12-27 -> 2024-01-26)\n"
     ]
    },
    {
     "name": "stdout",
     "output_type": "stream",
     "text": [
      "Error fetching data for BDBD: No historical data available for BDBD around 2024-01-26.\n",
      "Error fetching data for VVTV: No historical data available for VVTV around 2024-01-26.\n"
     ]
    },
    {
     "name": "stderr",
     "output_type": "stream",
     "text": [
      "$SPAN: possibly delisted; no price data found  (1d 2023-12-27 -> 2024-01-26)\n"
     ]
    },
    {
     "name": "stdout",
     "output_type": "stream",
     "text": [
      "Error fetching data for SPAN: No historical data available for SPAN around 2024-01-26.\n"
     ]
    },
    {
     "name": "stderr",
     "output_type": "stream",
     "text": [
      "$FSCE: possibly delisted; no price data found  (1d 2023-12-27 -> 2024-01-26)\n"
     ]
    },
    {
     "name": "stdout",
     "output_type": "stream",
     "text": [
      "Error fetching data for FSCE: No historical data available for FSCE around 2024-01-26.\n"
     ]
    },
    {
     "name": "stderr",
     "output_type": "stream",
     "text": [
      "$CLUB: possibly delisted; no timezone found\n"
     ]
    },
    {
     "name": "stdout",
     "output_type": "stream",
     "text": [
      "Error fetching data for CLUB: No historical data available for CLUB around 2024-01-26.\n"
     ]
    },
    {
     "name": "stderr",
     "output_type": "stream",
     "text": [
      "$AXAS: possibly delisted; no timezone found\n"
     ]
    },
    {
     "name": "stdout",
     "output_type": "stream",
     "text": [
      "Error fetching data for AXAS: No historical data available for AXAS around 2024-01-26.\n"
     ]
    },
    {
     "name": "stderr",
     "output_type": "stream",
     "text": [
      "$RCII: possibly delisted; no timezone found\n"
     ]
    },
    {
     "name": "stdout",
     "output_type": "stream",
     "text": [
      "Error fetching data for RCII: No historical data available for RCII around 2024-01-26.\n"
     ]
    },
    {
     "name": "stderr",
     "output_type": "stream",
     "text": [
      "$NEE-F: possibly delisted; no timezone found\n"
     ]
    },
    {
     "name": "stdout",
     "output_type": "stream",
     "text": [
      "Error fetching data for NEE-F: No historical data available for NEE-F around 2024-01-26.\n"
     ]
    },
    {
     "name": "stderr",
     "output_type": "stream",
     "text": [
      "$ABIO: possibly delisted; no timezone found\n"
     ]
    },
    {
     "name": "stdout",
     "output_type": "stream",
     "text": [
      "Error fetching data for ABIO: No historical data available for ABIO around 2024-01-26.\n"
     ]
    },
    {
     "name": "stderr",
     "output_type": "stream",
     "text": [
      "$BML-L: possibly delisted; no timezone found\n"
     ]
    },
    {
     "name": "stdout",
     "output_type": "stream",
     "text": [
      "Error fetching data for BML-L: No historical data available for BML-L around 2024-01-26.\n"
     ]
    },
    {
     "name": "stderr",
     "output_type": "stream",
     "text": [
      "$EXFO: possibly delisted; no timezone found\n"
     ]
    },
    {
     "name": "stdout",
     "output_type": "stream",
     "text": [
      "Error fetching data for EXFO: No historical data available for EXFO around 2024-01-26.\n"
     ]
    },
    {
     "name": "stderr",
     "output_type": "stream",
     "text": [
      "$BKEPP: possibly delisted; no timezone found\n"
     ]
    },
    {
     "name": "stdout",
     "output_type": "stream",
     "text": [
      "Error fetching data for BKEPP: No historical data available for BKEPP around 2024-01-26.\n"
     ]
    },
    {
     "name": "stderr",
     "output_type": "stream",
     "text": [
      "$MR: possibly delisted; no timezone found\n"
     ]
    },
    {
     "name": "stdout",
     "output_type": "stream",
     "text": [
      "Error fetching data for MR: No historical data available for MR around 2024-01-26.\n"
     ]
    },
    {
     "name": "stderr",
     "output_type": "stream",
     "text": [
      "$AFW: possibly delisted; no timezone found\n",
      "$CVB: possibly delisted; no price data found  (1d 2023-12-27 -> 2024-01-26)\n"
     ]
    },
    {
     "name": "stdout",
     "output_type": "stream",
     "text": [
      "Error fetching data for AFW: No historical data available for AFW around 2024-01-26.\n",
      "Error fetching data for CVB: No historical data available for CVB around 2024-01-26.\n"
     ]
    },
    {
     "name": "stderr",
     "output_type": "stream",
     "text": [
      "$DW: possibly delisted; no price data found  (1d 2023-12-27 -> 2024-01-26)\n",
      "$FWM: possibly delisted; no price data found  (1d 2023-12-27 -> 2024-01-26)\n"
     ]
    },
    {
     "name": "stdout",
     "output_type": "stream",
     "text": [
      "Error fetching data for DW: No historical data available for DW around 2024-01-26.\n",
      "Error fetching data for FWM: No historical data available for FWM around 2024-01-26.\n"
     ]
    },
    {
     "name": "stderr",
     "output_type": "stream",
     "text": [
      "$DOM: possibly delisted; no price data found  (1d 2023-12-27 -> 2024-01-26)\n",
      "$GCA: possibly delisted; no price data found  (1d 2023-12-27 -> 2024-01-26)\n"
     ]
    },
    {
     "name": "stdout",
     "output_type": "stream",
     "text": [
      "Error fetching data for DOM: No historical data available for DOM around 2024-01-26.\n",
      "Error fetching data for GCA: No historical data available for GCA around 2024-01-26.\n"
     ]
    },
    {
     "name": "stderr",
     "output_type": "stream",
     "text": [
      "$AMCN: possibly delisted; no timezone found\n"
     ]
    },
    {
     "name": "stdout",
     "output_type": "stream",
     "text": [
      "Error fetching data for AMCN: No historical data available for AMCN around 2024-01-26.\n"
     ]
    },
    {
     "name": "stderr",
     "output_type": "stream",
     "text": [
      "$HCS-B: possibly delisted; no timezone found\n",
      "$DLLR: possibly delisted; no price data found  (1d 2023-12-27 -> 2024-01-26)\n"
     ]
    },
    {
     "name": "stdout",
     "output_type": "stream",
     "text": [
      "Error fetching data for HCS-B: No historical data available for HCS-B around 2024-01-26.\n",
      "Error fetching data for DLLR: No historical data available for DLLR around 2024-01-26.\n"
     ]
    },
    {
     "name": "stderr",
     "output_type": "stream",
     "text": [
      "$OPTR: possibly delisted; no price data found  (1d 2023-12-27 -> 2024-01-26)\n"
     ]
    },
    {
     "name": "stdout",
     "output_type": "stream",
     "text": [
      "Error fetching data for OPTR: No historical data available for OPTR around 2024-01-26.\n"
     ]
    },
    {
     "name": "stderr",
     "output_type": "stream",
     "text": [
      "$MLNX: possibly delisted; no timezone found\n",
      "$MWO: possibly delisted; no price data found  (1d 2023-12-27 -> 2024-01-26)\n"
     ]
    },
    {
     "name": "stdout",
     "output_type": "stream",
     "text": [
      "Error fetching data for MLNX: No historical data available for MLNX around 2024-01-26.\n",
      "Error fetching data for MWO: No historical data available for MWO around 2024-01-26.\n"
     ]
    },
    {
     "name": "stderr",
     "output_type": "stream",
     "text": [
      "$OC.B: possibly delisted; no timezone found\n"
     ]
    },
    {
     "name": "stdout",
     "output_type": "stream",
     "text": [
      "Error fetching data for OC.B: No historical data available for OC.B around 2024-01-26.\n"
     ]
    },
    {
     "name": "stderr",
     "output_type": "stream",
     "text": [
      "$PRMW: possibly delisted; no timezone found\n",
      "$BKW: possibly delisted; no price data found  (1d 2023-12-27 -> 2024-01-26)\n"
     ]
    },
    {
     "name": "stdout",
     "output_type": "stream",
     "text": [
      "Error fetching data for PRMW: No historical data available for PRMW around 2024-01-26.\n",
      "Error fetching data for BKW: No historical data available for BKW around 2024-01-26.\n"
     ]
    },
    {
     "name": "stderr",
     "output_type": "stream",
     "text": [
      "$GCH: possibly delisted; no price data found  (1d 2023-12-27 -> 2024-01-26)\n",
      "$CNQR: possibly delisted; no price data found  (1d 2023-12-27 -> 2024-01-26)\n"
     ]
    },
    {
     "name": "stdout",
     "output_type": "stream",
     "text": [
      "Error fetching data for GCH: No historical data available for GCH around 2024-01-26.\n",
      "Error fetching data for CNQR: No historical data available for CNQR around 2024-01-26.\n"
     ]
    },
    {
     "name": "stderr",
     "output_type": "stream",
     "text": [
      "$CSFL: possibly delisted; no timezone found\n"
     ]
    },
    {
     "name": "stdout",
     "output_type": "stream",
     "text": [
      "Error fetching data for CSFL: No historical data available for CSFL around 2024-01-26.\n"
     ]
    },
    {
     "name": "stderr",
     "output_type": "stream",
     "text": [
      "$KST: possibly delisted; no price data found  (1d 2023-12-27 -> 2024-01-26)\n"
     ]
    },
    {
     "name": "stdout",
     "output_type": "stream",
     "text": [
      "Error fetching data for KST: No historical data available for KST around 2024-01-26.\n"
     ]
    },
    {
     "name": "stderr",
     "output_type": "stream",
     "text": [
      "$PNC-Q: possibly delisted; no timezone found\n"
     ]
    },
    {
     "name": "stdout",
     "output_type": "stream",
     "text": [
      "Error fetching data for PNC-Q: No historical data available for PNC-Q around 2024-01-26.\n"
     ]
    },
    {
     "name": "stderr",
     "output_type": "stream",
     "text": [
      "$CALD: possibly delisted; no price data found  (1d 2023-12-27 -> 2024-01-26)\n"
     ]
    },
    {
     "name": "stdout",
     "output_type": "stream",
     "text": [
      "Error fetching data for CALD: No historical data available for CALD around 2024-01-26.\n"
     ]
    },
    {
     "name": "stderr",
     "output_type": "stream",
     "text": [
      "$JOY: possibly delisted; no price data found  (1d 2023-12-27 -> 2024-01-26)\n"
     ]
    },
    {
     "name": "stdout",
     "output_type": "stream",
     "text": [
      "Error fetching data for JOY: No historical data available for JOY around 2024-01-26.\n"
     ]
    },
    {
     "name": "stderr",
     "output_type": "stream",
     "text": [
      "$NLSN: possibly delisted; no timezone found\n"
     ]
    },
    {
     "name": "stdout",
     "output_type": "stream",
     "text": [
      "Error fetching data for NLSN: No historical data available for NLSN around 2024-01-26.\n"
     ]
    },
    {
     "name": "stderr",
     "output_type": "stream",
     "text": [
      "$PSTB: possibly delisted; no price data found  (1d 2023-12-27 -> 2024-01-26)\n"
     ]
    },
    {
     "name": "stdout",
     "output_type": "stream",
     "text": [
      "Error fetching data for PSTB: No historical data available for PSTB around 2024-01-26.\n",
      "Error fetching data for LNC: Too Many Requests. Rate limited. Try after a while.\n",
      "Error fetching data for ELA: Too Many Requests. Rate limited. Try after a while.\n",
      "Error fetching data for LUX: Too Many Requests. Rate limited. Try after a while.\n",
      "Error fetching data for PRXI: Too Many Requests. Rate limited. Try after a while.\n",
      "Error fetching data for PG: Too Many Requests. Rate limited. Try after a while.\n",
      "Error fetching data for CCU: Too Many Requests. Rate limited. Try after a while.\n",
      "Error fetching data for BXC: Too Many Requests. Rate limited. Try after a while.\n",
      "Error fetching data for CAMT: Too Many Requests. Rate limited. Try after a while.\n",
      "Error fetching data for LTD: Too Many Requests. Rate limited. Try after a while.\n",
      "Error fetching data for FCF: Too Many Requests. Rate limited. Try after a while.\n",
      "Error fetching data for HTBI: Too Many Requests. Rate limited. Try after a while.\n",
      "Error fetching data for SFM: Too Many Requests. Rate limited. Try after a while.\n",
      "Error fetching data for DTT: Too Many Requests. Rate limited. Try after a while.\n",
      "Error fetching data for CBZ: Too Many Requests. Rate limited. Try after a while.\n",
      "Error fetching data for CLN-A: Too Many Requests. Rate limited. Try after a while.\n",
      "Error fetching data for KMM: Too Many Requests. Rate limited. Try after a while.\n",
      "Error fetching data for NBBC: Too Many Requests. Rate limited. Try after a while.\n",
      "Error fetching data for FONR: Too Many Requests. Rate limited. Try after a while.\n",
      "Error fetching data for NUW: Too Many Requests. Rate limited. Try after a while.\n",
      "Error fetching data for ECTY: Too Many Requests. Rate limited. Try after a while.\n",
      "Error fetching data for GXP: Too Many Requests. Rate limited. Try after a while.\n",
      "Error fetching data for FOXA: Too Many Requests. Rate limited. Try after a while.\n",
      "Error fetching data for ISIS: Too Many Requests. Rate limited. Try after a while.\n",
      "Error fetching data for STNG: Too Many Requests. Rate limited. Try after a while.\n",
      "Error fetching data for KYTH: Too Many Requests. Rate limited. Try after a while.\n",
      "Error fetching data for GRA: Too Many Requests. Rate limited. Try after a while.\n",
      "Error fetching data for BPI: Too Many Requests. Rate limited. Try after a while.\n",
      "Error fetching data for AIT: Too Many Requests. Rate limited. Try after a while.\n",
      "Error fetching data for CCCR: Too Many Requests. Rate limited. Try after a while.\n",
      "Error fetching data for IRIX: Too Many Requests. Rate limited. Try after a while.\n",
      "Error fetching data for MNOV: Too Many Requests. Rate limited. Try after a while.\n",
      "Error fetching data for MFG: Too Many Requests. Rate limited. Try after a while.\n",
      "Error fetching data for CSTM: Too Many Requests. Rate limited. Try after a while.\n",
      "Error fetching data for SQM: Too Many Requests. Rate limited. Try after a while.\n",
      "Error fetching data for SWC: Too Many Requests. Rate limited. Try after a while.\n",
      "Error fetching data for TISA: Too Many Requests. Rate limited. Try after a while.\n",
      "Error fetching data for FOLD: Too Many Requests. Rate limited. Try after a while.\n",
      "Error fetching data for TEL: Too Many Requests. Rate limited. Try after a while.\n",
      "Error fetching data for ATHX: Too Many Requests. Rate limited. Try after a while.\n",
      "Error fetching data for AEP: Too Many Requests. Rate limited. Try after a while.\n",
      "Error fetching data for SHOR: Too Many Requests. Rate limited. Try after a while.\n",
      "Error fetching data for TCBK: Too Many Requests. Rate limited. Try after a while.\n",
      "Error fetching data for NSTG: Too Many Requests. Rate limited. Try after a while.\n",
      "Error fetching data for TMH: Too Many Requests. Rate limited. Try after a while.\n",
      "Error fetching data for ECTE: Too Many Requests. Rate limited. Try after a while.\n",
      "Error fetching data for NPO: Too Many Requests. Rate limited. Try after a while.\n",
      "Error fetching data for MRH: Too Many Requests. Rate limited. Try after a while.\n",
      "Error fetching data for MGYR: Too Many Requests. Rate limited. Try after a while.\n",
      "Error fetching data for SCU: Too Many Requests. Rate limited. Try after a while.\n",
      "Error fetching data for GS-J: Too Many Requests. Rate limited. Try after a while.\n",
      "Error fetching data for O: Too Many Requests. Rate limited. Try after a while.\n",
      "Error fetching data for PSA-W: Too Many Requests. Rate limited. Try after a while.\n",
      "Error fetching data for PRU: Too Many Requests. Rate limited. Try after a while.\n",
      "Error fetching data for TJX: Too Many Requests. Rate limited. Try after a while.\n",
      "Error fetching data for SIX: Too Many Requests. Rate limited. Try after a while.\n",
      "Error fetching data for JBJ: Too Many Requests. Rate limited. Try after a while.\n",
      "Error fetching data for MTT: Too Many Requests. Rate limited. Try after a while.\n",
      "Error fetching data for DCI: Too Many Requests. Rate limited. Try after a while.\n",
      "Error fetching data for QCOM: Too Many Requests. Rate limited. Try after a while.\n",
      "Error fetching data for ASG: Too Many Requests. Rate limited. Try after a while.\n",
      "Error fetching data for MZF: Too Many Requests. Rate limited. Try after a while.\n",
      "Error fetching data for ALEX: Too Many Requests. Rate limited. Try after a while.\n",
      "Error fetching data for DAR: Too Many Requests. Rate limited. Try after a while.\n",
      "Error fetching data for JAXB: Too Many Requests. Rate limited. Try after a while.\n",
      "Error fetching data for EXXI: Too Many Requests. Rate limited. Try after a while.\n",
      "Error fetching data for GENE: Too Many Requests. Rate limited. Try after a while.\n",
      "Error fetching data for CLDX: Too Many Requests. Rate limited. Try after a while.\n",
      "Error fetching data for LNDC: Too Many Requests. Rate limited. Try after a while.\n",
      "Error fetching data for PDI: Too Many Requests. Rate limited. Try after a while.\n",
      "Error fetching data for LTXC: Too Many Requests. Rate limited. Try after a while.\n",
      "Error fetching data for EMMS: Too Many Requests. Rate limited. Try after a while.\n",
      "Error fetching data for LH: Too Many Requests. Rate limited. Try after a while.\n",
      "Error fetching data for ETX: Too Many Requests. Rate limited. Try after a while.\n",
      "Error fetching data for TBNK: Too Many Requests. Rate limited. Try after a while.\n",
      "Error fetching data for MIY: Too Many Requests. Rate limited. Try after a while.\n",
      "Error fetching data for POST: Too Many Requests. Rate limited. Try after a while.\n",
      "Error fetching data for ALP-O: Too Many Requests. Rate limited. Try after a while.\n",
      "Error fetching data for ITT: Too Many Requests. Rate limited. Try after a while.\n",
      "Error fetching data for GOM: Too Many Requests. Rate limited. Try after a while.\n",
      "Error fetching data for VYFC: Too Many Requests. Rate limited. Try after a while.\n",
      "Error fetching data for TUMI: Too Many Requests. Rate limited. Try after a while.\n",
      "Error fetching data for LLEN: Too Many Requests. Rate limited. Try after a while.\n",
      "Error fetching data for RENN: Too Many Requests. Rate limited. Try after a while.\n",
      "Error fetching data for DISCA: Too Many Requests. Rate limited. Try after a while.\n",
      "Error fetching data for CLRO: Too Many Requests. Rate limited. Try after a while.\n",
      "Error fetching data for NLNK: Too Many Requests. Rate limited. Try after a while.\n",
      "Error fetching data for AWI: Too Many Requests. Rate limited. Try after a while.\n",
      "Error fetching data for CMI: Too Many Requests. Rate limited. Try after a while.\n",
      "Error fetching data for ATHN: Too Many Requests. Rate limited. Try after a while.\n",
      "Error fetching data for JEQ: Too Many Requests. Rate limited. Try after a while.\n",
      "Error fetching data for BPL: Too Many Requests. Rate limited. Try after a while.\n",
      "Error fetching data for FOXF: Too Many Requests. Rate limited. Try after a while.\n",
      "Error fetching data for LNBB: Too Many Requests. Rate limited. Try after a while.\n",
      "Error fetching data for ALP-P: Too Many Requests. Rate limited. Try after a while.\n",
      "Error fetching data for LBAI: Too Many Requests. Rate limited. Try after a while.\n",
      "Error fetching data for BSDM: Too Many Requests. Rate limited. Try after a while.\n",
      "Error fetching data for BSPM: Too Many Requests. Rate limited. Try after a while.\n",
      "Error fetching data for VWOB: Too Many Requests. Rate limited. Try after a while.\n",
      "Error fetching data for CBOE: Too Many Requests. Rate limited. Try after a while.\n",
      "Error fetching data for WFBI: Too Many Requests. Rate limited. Try after a while.\n",
      "Error fetching data for CJES: Too Many Requests. Rate limited. Try after a while.\n",
      "Error fetching data for GEVO: Too Many Requests. Rate limited. Try after a while.\n",
      "Error fetching data for ADEP: Too Many Requests. Rate limited. Try after a while.\n",
      "Error fetching data for EGN: Too Many Requests. Rate limited. Try after a while.\n",
      "Error fetching data for BH: Too Many Requests. Rate limited. Try after a while.\n",
      "Error fetching data for PRXL: Too Many Requests. Rate limited. Try after a while.\n",
      "Error fetching data for OAKS: Too Many Requests. Rate limited. Try after a while.\n",
      "Error fetching data for NTK: Too Many Requests. Rate limited. Try after a while.\n",
      "Error fetching data for CHDX: Too Many Requests. Rate limited. Try after a while.\n",
      "Error fetching data for DIS: Too Many Requests. Rate limited. Try after a while.\n",
      "Error fetching data for PVR: Too Many Requests. Rate limited. Try after a while.\n",
      "Error fetching data for TCBIL: Too Many Requests. Rate limited. Try after a while.\n",
      "Error fetching data for EOT: Too Many Requests. Rate limited. Try after a while.\n",
      "Error fetching data for CDE.W: Too Many Requests. Rate limited. Try after a while.\n",
      "Error fetching data for SVVC: Too Many Requests. Rate limited. Try after a while.\n",
      "Error fetching data for DCT: Too Many Requests. Rate limited. Try after a while.\n",
      "Error fetching data for JBLU: Too Many Requests. Rate limited. Try after a while.\n",
      "Error fetching data for KRG-A: Too Many Requests. Rate limited. Try after a while.\n",
      "Error fetching data for TRK: Too Many Requests. Rate limited. Try after a while.\n",
      "Error fetching data for GHDX: Too Many Requests. Rate limited. Try after a while.\n",
      "Error fetching data for CTAS: Too Many Requests. Rate limited. Try after a while.\n",
      "Error fetching data for GAB-G: Too Many Requests. Rate limited. Try after a while.\n",
      "Error fetching data for SRF: Too Many Requests. Rate limited. Try after a while.\n",
      "Error fetching data for OZM: Too Many Requests. Rate limited. Try after a while.\n",
      "Error fetching data for TANN: Too Many Requests. Rate limited. Try after a while.\n",
      "Error fetching data for C-P: Too Many Requests. Rate limited. Try after a while.\n",
      "Error fetching data for NTC-E: Too Many Requests. Rate limited. Try after a while.\n",
      "Error fetching data for KOOL: Too Many Requests. Rate limited. Try after a while.\n",
      "Error fetching data for DSCI: Too Many Requests. Rate limited. Try after a while.\n",
      "Error fetching data for NQJ: Too Many Requests. Rate limited. Try after a while.\n",
      "Error fetching data for GLBZ: Too Many Requests. Rate limited. Try after a while.\n",
      "Error fetching data for PETM: Too Many Requests. Rate limited. Try after a while.\n",
      "Error fetching data for JE: Too Many Requests. Rate limited. Try after a while.\n",
      "Error fetching data for MCY: Too Many Requests. Rate limited. Try after a while.\n",
      "Error fetching data for MP-D: Too Many Requests. Rate limited. Try after a while.\n",
      "Error fetching data for RNR-C: Too Many Requests. Rate limited. Try after a while.\n",
      "Error fetching data for LOJN: Too Many Requests. Rate limited. Try after a while.\n",
      "Error fetching data for ACTS: Too Many Requests. Rate limited. Try after a while.\n",
      "Error fetching data for SIBC: Too Many Requests. Rate limited. Try after a while.\n",
      "Error fetching data for NFX: Too Many Requests. Rate limited. Try after a while.\n",
      "Error fetching data for FRNK: Too Many Requests. Rate limited. Try after a while.\n",
      "Error fetching data for GWR: Too Many Requests. Rate limited. Try after a while.\n",
      "Error fetching data for BJZ: Too Many Requests. Rate limited. Try after a while.\n",
      "Error fetching data for SSRI: Too Many Requests. Rate limited. Try after a while.\n",
      "Error fetching data for TTPH: Too Many Requests. Rate limited. Try after a while.\n",
      "Error fetching data for PSA-U: Too Many Requests. Rate limited. Try after a while.\n",
      "Error fetching data for FORM: Too Many Requests. Rate limited. Try after a while.\n",
      "Error fetching data for HCC: Too Many Requests. Rate limited. Try after a while.\n",
      "Error fetching data for ASBI: Too Many Requests. Rate limited. Try after a while.\n",
      "Error fetching data for CIEN: Too Many Requests. Rate limited. Try after a while.\n",
      "Error fetching data for FLXS: Too Many Requests. Rate limited. Try after a while.\n",
      "Error fetching data for PSA-X: Too Many Requests. Rate limited. Try after a while.\n",
      "Error fetching data for LPSN: Too Many Requests. Rate limited. Try after a while.\n",
      "Error fetching data for HBOS: Too Many Requests. Rate limited. Try after a while.\n",
      "Error fetching data for CMA.W: Too Many Requests. Rate limited. Try after a while.\n",
      "Error fetching data for PAC: Too Many Requests. Rate limited. Try after a while.\n",
      "Error fetching data for CISAW: Too Many Requests. Rate limited. Try after a while.\n",
      "Error fetching data for SF: Too Many Requests. Rate limited. Try after a while.\n",
      "Error fetching data for GLDD: Too Many Requests. Rate limited. Try after a while.\n",
      "Error fetching data for BIB: Too Many Requests. Rate limited. Try after a while.\n",
      "Error fetching data for IDSA: Too Many Requests. Rate limited. Try after a while.\n",
      "Error fetching data for BYD: Too Many Requests. Rate limited. Try after a while.\n",
      "Error fetching data for SCS: Too Many Requests. Rate limited. Try after a while.\n",
      "Error fetching data for BLRX: Too Many Requests. Rate limited. Try after a while.\n",
      "Error fetching data for MXWL: Too Many Requests. Rate limited. Try after a while.\n",
      "Error fetching data for PIY: Too Many Requests. Rate limited. Try after a while.\n",
      "Error fetching data for FMN: Too Many Requests. Rate limited. Try after a while.\n",
      "Error fetching data for PCK: Too Many Requests. Rate limited. Try after a while.\n",
      "Error fetching data for ROIC: Too Many Requests. Rate limited. Try after a while.\n",
      "Error fetching data for QLTY: Too Many Requests. Rate limited. Try after a while.\n",
      "Error fetching data for PMTC: Too Many Requests. Rate limited. Try after a while.\n",
      "Error fetching data for NUVA: Too Many Requests. Rate limited. Try after a while.\n",
      "Error fetching data for AKRX: Too Many Requests. Rate limited. Try after a while.\n",
      "Error fetching data for FCVA: Too Many Requests. Rate limited. Try after a while.\n",
      "Error fetching data for MPC: Too Many Requests. Rate limited. Try after a while.\n",
      "Error fetching data for GBNK: Too Many Requests. Rate limited. Try after a while.\n",
      "Error fetching data for AMED: Too Many Requests. Rate limited. Try after a while.\n",
      "Error fetching data for XRX: Too Many Requests. Rate limited. Try after a while.\n",
      "Error fetching data for FTNT: Too Many Requests. Rate limited. Try after a while.\n",
      "Error fetching data for AFB: Too Many Requests. Rate limited. Try after a while.\n",
      "Error fetching data for ACGL: Too Many Requests. Rate limited. Try after a while.\n"
     ]
    },
    {
     "name": "stderr",
     "output_type": "stream",
     "text": [
      "$LYG-A: possibly delisted; no timezone found\n"
     ]
    },
    {
     "name": "stdout",
     "output_type": "stream",
     "text": [
      "Error fetching data for LYG-A: No historical data available for LYG-A around 2024-01-26.\n"
     ]
    },
    {
     "name": "stderr",
     "output_type": "stream",
     "text": [
      "$CTG: possibly delisted; no timezone found\n"
     ]
    },
    {
     "name": "stdout",
     "output_type": "stream",
     "text": [
      "Error fetching data for CTG: No historical data available for CTG around 2024-01-26.\n"
     ]
    },
    {
     "name": "stderr",
     "output_type": "stream",
     "text": [
      "$DEL: possibly delisted; no price data found  (1d 2023-12-27 -> 2024-01-26)\n"
     ]
    },
    {
     "name": "stdout",
     "output_type": "stream",
     "text": [
      "Error fetching data for DEL: No historical data available for DEL around 2024-01-26.\n"
     ]
    },
    {
     "name": "stderr",
     "output_type": "stream",
     "text": [
      "$LIWA: possibly delisted; no timezone found\n"
     ]
    },
    {
     "name": "stdout",
     "output_type": "stream",
     "text": [
      "Error fetching data for LIWA: No historical data available for LIWA around 2024-01-26.\n"
     ]
    },
    {
     "name": "stderr",
     "output_type": "stream",
     "text": [
      "$TRR: possibly delisted; no price data found  (1d 2023-12-27 -> 2024-01-26)\n",
      "$LO: possibly delisted; no price data found  (1d 2023-12-27 -> 2024-01-26)\n"
     ]
    },
    {
     "name": "stdout",
     "output_type": "stream",
     "text": [
      "Error fetching data for TRR: No historical data available for TRR around 2024-01-26.\n",
      "Error fetching data for LO: No historical data available for LO around 2024-01-26.\n"
     ]
    },
    {
     "name": "stderr",
     "output_type": "stream",
     "text": [
      "$CLP: possibly delisted; no price data found  (1d 2023-12-27 -> 2024-01-26)\n"
     ]
    },
    {
     "name": "stdout",
     "output_type": "stream",
     "text": [
      "Error fetching data for CLP: No historical data available for CLP around 2024-01-26.\n"
     ]
    },
    {
     "name": "stderr",
     "output_type": "stream",
     "text": [
      "$HBA-G: possibly delisted; no timezone found\n"
     ]
    },
    {
     "name": "stdout",
     "output_type": "stream",
     "text": [
      "Error fetching data for HBA-G: No historical data available for HBA-G around 2024-01-26.\n"
     ]
    },
    {
     "name": "stderr",
     "output_type": "stream",
     "text": [
      "$IIN: possibly delisted; no timezone found\n"
     ]
    },
    {
     "name": "stdout",
     "output_type": "stream",
     "text": [
      "Error fetching data for IIN: No historical data available for IIN around 2024-01-26.\n"
     ]
    },
    {
     "name": "stderr",
     "output_type": "stream",
     "text": [
      "$BDSI: possibly delisted; no timezone found\n"
     ]
    },
    {
     "name": "stdout",
     "output_type": "stream",
     "text": [
      "Error fetching data for BDSI: No historical data available for BDSI around 2024-01-26.\n"
     ]
    },
    {
     "name": "stderr",
     "output_type": "stream",
     "text": [
      "$XGTIW: possibly delisted; no timezone found\n"
     ]
    },
    {
     "name": "stdout",
     "output_type": "stream",
     "text": [
      "Error fetching data for XGTIW: No historical data available for XGTIW around 2024-01-26.\n"
     ]
    },
    {
     "name": "stderr",
     "output_type": "stream",
     "text": [
      "$SGOC: possibly delisted; no timezone found\n"
     ]
    },
    {
     "name": "stdout",
     "output_type": "stream",
     "text": [
      "Error fetching data for SGOC: No historical data available for SGOC around 2024-01-26.\n"
     ]
    },
    {
     "name": "stderr",
     "output_type": "stream",
     "text": [
      "$BLH: possibly delisted; no price data found  (1d 2023-12-27 -> 2024-01-26)\n",
      "$MTGE: possibly delisted; no price data found  (1d 2023-12-27 -> 2024-01-26)\n"
     ]
    },
    {
     "name": "stdout",
     "output_type": "stream",
     "text": [
      "Error fetching data for BLH: No historical data available for BLH around 2024-01-26.\n",
      "Error fetching data for MTGE: No historical data available for MTGE around 2024-01-26.\n"
     ]
    },
    {
     "name": "stderr",
     "output_type": "stream",
     "text": [
      "$ABCO: possibly delisted; no price data found  (1d 2023-12-27 -> 2024-01-26)\n"
     ]
    },
    {
     "name": "stdout",
     "output_type": "stream",
     "text": [
      "Error fetching data for ABCO: No historical data available for ABCO around 2024-01-26.\n"
     ]
    },
    {
     "name": "stderr",
     "output_type": "stream",
     "text": [
      "$ABMD: possibly delisted; no timezone found\n"
     ]
    },
    {
     "name": "stdout",
     "output_type": "stream",
     "text": [
      "Error fetching data for ABMD: No historical data available for ABMD around 2024-01-26.\n"
     ]
    },
    {
     "name": "stderr",
     "output_type": "stream",
     "text": [
      "$ENL: possibly delisted; no price data found  (1d 2023-12-27 -> 2024-01-26)\n"
     ]
    },
    {
     "name": "stdout",
     "output_type": "stream",
     "text": [
      "Error fetching data for ENL: No historical data available for ENL around 2024-01-26.\n"
     ]
    },
    {
     "name": "stderr",
     "output_type": "stream",
     "text": [
      "$JEC: possibly delisted; no timezone found\n"
     ]
    },
    {
     "name": "stdout",
     "output_type": "stream",
     "text": [
      "Error fetching data for JEC: No historical data available for JEC around 2024-01-26.\n"
     ]
    },
    {
     "name": "stderr",
     "output_type": "stream",
     "text": [
      "$NTC-D: possibly delisted; no timezone found\n"
     ]
    },
    {
     "name": "stdout",
     "output_type": "stream",
     "text": [
      "Error fetching data for NTC-D: No historical data available for NTC-D around 2024-01-26.\n"
     ]
    },
    {
     "name": "stderr",
     "output_type": "stream",
     "text": [
      "$BRE-D: possibly delisted; no timezone found\n",
      "$EMFN: possibly delisted; no price data found  (1d 2023-12-27 -> 2024-01-26)\n"
     ]
    },
    {
     "name": "stdout",
     "output_type": "stream",
     "text": [
      "Error fetching data for BRE-D: No historical data available for BRE-D around 2024-01-26.\n",
      "Error fetching data for EMFN: No historical data available for EMFN around 2024-01-26.\n"
     ]
    },
    {
     "name": "stderr",
     "output_type": "stream",
     "text": [
      "$ELNK: possibly delisted; no price data found  (1d 2023-12-27 -> 2024-01-26)\n"
     ]
    },
    {
     "name": "stdout",
     "output_type": "stream",
     "text": [
      "Error fetching data for ELNK: No historical data available for ELNK around 2024-01-26.\n"
     ]
    },
    {
     "name": "stderr",
     "output_type": "stream",
     "text": [
      "$NVG-C: possibly delisted; no timezone found\n"
     ]
    },
    {
     "name": "stdout",
     "output_type": "stream",
     "text": [
      "Error fetching data for NVG-C: No historical data available for NVG-C around 2024-01-26.\n"
     ]
    },
    {
     "name": "stderr",
     "output_type": "stream",
     "text": [
      "$MODN: possibly delisted; no timezone found\n",
      "$MELA: possibly delisted; no price data found  (1d 2023-12-27 -> 2024-01-26)\n",
      "$PNRA: possibly delisted; no price data found  (1d 2023-12-27 -> 2024-01-26)\n"
     ]
    },
    {
     "name": "stdout",
     "output_type": "stream",
     "text": [
      "Error fetching data for MODN: No historical data available for MODN around 2024-01-26.\n",
      "Error fetching data for MELA: No historical data available for MELA around 2024-01-26.\n",
      "Error fetching data for PNRA: No historical data available for PNRA around 2024-01-26.\n"
     ]
    },
    {
     "name": "stderr",
     "output_type": "stream",
     "text": [
      "$OSHC: possibly delisted; no price data found  (1d 2023-12-27 -> 2024-01-26)\n"
     ]
    },
    {
     "name": "stdout",
     "output_type": "stream",
     "text": [
      "Error fetching data for OSHC: No historical data available for OSHC around 2024-01-26.\n"
     ]
    },
    {
     "name": "stderr",
     "output_type": "stream",
     "text": [
      "$MDCA: possibly delisted; no timezone found\n"
     ]
    },
    {
     "name": "stdout",
     "output_type": "stream",
     "text": [
      "Error fetching data for MDCA: No historical data available for MDCA around 2024-01-26.\n"
     ]
    },
    {
     "name": "stderr",
     "output_type": "stream",
     "text": [
      "$HPY: possibly delisted; no price data found  (1d 2023-12-27 -> 2024-01-26)\n"
     ]
    },
    {
     "name": "stdout",
     "output_type": "stream",
     "text": [
      "Error fetching data for HPY: No historical data available for HPY around 2024-01-26.\n"
     ]
    },
    {
     "name": "stderr",
     "output_type": "stream",
     "text": [
      "$EXL-B: possibly delisted; no timezone found\n"
     ]
    },
    {
     "name": "stdout",
     "output_type": "stream",
     "text": [
      "Error fetching data for EXL-B: No historical data available for EXL-B around 2024-01-26.\n"
     ]
    },
    {
     "name": "stderr",
     "output_type": "stream",
     "text": [
      "$EP-C: possibly delisted; no timezone found\n"
     ]
    },
    {
     "name": "stdout",
     "output_type": "stream",
     "text": [
      "Error fetching data for EP-C: No historical data available for EP-C around 2024-01-26.\n"
     ]
    },
    {
     "name": "stderr",
     "output_type": "stream",
     "text": [
      "$TRLG: possibly delisted; no price data found  (1d 2023-12-27 -> 2024-01-26)\n"
     ]
    },
    {
     "name": "stdout",
     "output_type": "stream",
     "text": [
      "Error fetching data for TRLG: No historical data available for TRLG around 2024-01-26.\n"
     ]
    },
    {
     "name": "stderr",
     "output_type": "stream",
     "text": [
      "$TROVU: possibly delisted; no timezone found\n"
     ]
    },
    {
     "name": "stdout",
     "output_type": "stream",
     "text": [
      "Error fetching data for TROVU: No historical data available for TROVU around 2024-01-26.\n"
     ]
    },
    {
     "name": "stderr",
     "output_type": "stream",
     "text": [
      "$SINO: possibly delisted; no timezone found\n",
      "$SWY: possibly delisted; no price data found  (1d 2023-12-27 -> 2024-01-26)\n"
     ]
    },
    {
     "name": "stdout",
     "output_type": "stream",
     "text": [
      "Error fetching data for SINO: No historical data available for SINO around 2024-01-26.\n",
      "Error fetching data for SWY: No historical data available for SWY around 2024-01-26.\n"
     ]
    },
    {
     "name": "stderr",
     "output_type": "stream",
     "text": [
      "$RAS-A: possibly delisted; no timezone found\n"
     ]
    },
    {
     "name": "stdout",
     "output_type": "stream",
     "text": [
      "Error fetching data for RAS-A: No historical data available for RAS-A around 2024-01-26.\n"
     ]
    },
    {
     "name": "stderr",
     "output_type": "stream",
     "text": [
      "$USB-M: possibly delisted; no timezone found\n"
     ]
    },
    {
     "name": "stdout",
     "output_type": "stream",
     "text": [
      "Error fetching data for USB-M: No historical data available for USB-M around 2024-01-26.\n"
     ]
    },
    {
     "name": "stderr",
     "output_type": "stream",
     "text": [
      "$EPR-C: possibly delisted; no timezone found\n"
     ]
    },
    {
     "name": "stdout",
     "output_type": "stream",
     "text": [
      "Error fetching data for EPR-C: No historical data available for EPR-C around 2024-01-26.\n"
     ]
    },
    {
     "name": "stderr",
     "output_type": "stream",
     "text": [
      "$CYS-A: possibly delisted; no timezone found\n",
      "$CVO: possibly delisted; no price data found  (1d 2023-12-27 -> 2024-01-26)\n"
     ]
    },
    {
     "name": "stdout",
     "output_type": "stream",
     "text": [
      "Error fetching data for CYS-A: No historical data available for CYS-A around 2024-01-26.\n",
      "Error fetching data for CVO: No historical data available for CVO around 2024-01-26.\n"
     ]
    },
    {
     "name": "stderr",
     "output_type": "stream",
     "text": [
      "$GPT: possibly delisted; no price data found  (1d 2023-12-27 -> 2024-01-26)\n"
     ]
    },
    {
     "name": "stdout",
     "output_type": "stream",
     "text": [
      "Error fetching data for GPT: No historical data available for GPT around 2024-01-26.\n"
     ]
    },
    {
     "name": "stderr",
     "output_type": "stream",
     "text": [
      "$MRH-A: possibly delisted; no timezone found\n"
     ]
    },
    {
     "name": "stdout",
     "output_type": "stream",
     "text": [
      "Error fetching data for MRH-A: No historical data available for MRH-A around 2024-01-26.\n"
     ]
    },
    {
     "name": "stderr",
     "output_type": "stream",
     "text": [
      "$WILN: possibly delisted; no price data found  (1d 2023-12-27 -> 2024-01-26)\n"
     ]
    },
    {
     "name": "stdout",
     "output_type": "stream",
     "text": [
      "Error fetching data for WILN: No historical data available for WILN around 2024-01-26.\n"
     ]
    },
    {
     "name": "stderr",
     "output_type": "stream",
     "text": [
      "$LSE-C: possibly delisted; no timezone found\n",
      "$HPCCP: possibly delisted; no price data found  (1d 2023-12-27 -> 2024-01-26)\n"
     ]
    },
    {
     "name": "stdout",
     "output_type": "stream",
     "text": [
      "Error fetching data for LSE-C: No historical data available for LSE-C around 2024-01-26.\n",
      "Error fetching data for HPCCP: No historical data available for HPCCP around 2024-01-26.\n"
     ]
    },
    {
     "name": "stderr",
     "output_type": "stream",
     "text": [
      "$VCRA: possibly delisted; no timezone found\n"
     ]
    },
    {
     "name": "stdout",
     "output_type": "stream",
     "text": [
      "Error fetching data for VCRA: No historical data available for VCRA around 2024-01-26.\n"
     ]
    },
    {
     "name": "stderr",
     "output_type": "stream",
     "text": [
      "$NNC-C: possibly delisted; no timezone found\n"
     ]
    },
    {
     "name": "stdout",
     "output_type": "stream",
     "text": [
      "Error fetching data for NNC-C: No historical data available for NNC-C around 2024-01-26.\n"
     ]
    },
    {
     "name": "stderr",
     "output_type": "stream",
     "text": [
      "$PL-C: possibly delisted; no timezone found\n"
     ]
    },
    {
     "name": "stdout",
     "output_type": "stream",
     "text": [
      "Error fetching data for PL-C: No historical data available for PL-C around 2024-01-26.\n"
     ]
    },
    {
     "name": "stderr",
     "output_type": "stream",
     "text": [
      "$BDN-E: possibly delisted; no timezone found\n"
     ]
    },
    {
     "name": "stdout",
     "output_type": "stream",
     "text": [
      "Error fetching data for BDN-E: No historical data available for BDN-E around 2024-01-26.\n"
     ]
    },
    {
     "name": "stderr",
     "output_type": "stream",
     "text": [
      "$BSE: possibly delisted; no timezone found\n"
     ]
    },
    {
     "name": "stdout",
     "output_type": "stream",
     "text": [
      "Error fetching data for BSE: No historical data available for BSE around 2024-01-26.\n"
     ]
    },
    {
     "name": "stderr",
     "output_type": "stream",
     "text": [
      "$CHU: possibly delisted; no timezone found\n"
     ]
    },
    {
     "name": "stdout",
     "output_type": "stream",
     "text": [
      "Error fetching data for CHU: No historical data available for CHU around 2024-01-26.\n"
     ]
    },
    {
     "name": "stderr",
     "output_type": "stream",
     "text": [
      "$MNTA: possibly delisted; no timezone found\n"
     ]
    },
    {
     "name": "stdout",
     "output_type": "stream",
     "text": [
      "Error fetching data for MNTA: No historical data available for MNTA around 2024-01-26.\n"
     ]
    },
    {
     "name": "stderr",
     "output_type": "stream",
     "text": [
      "$RVBD: possibly delisted; no price data found  (1d 2023-12-27 -> 2024-01-26)\n"
     ]
    },
    {
     "name": "stdout",
     "output_type": "stream",
     "text": [
      "Error fetching data for RVBD: No historical data available for RVBD around 2024-01-26.\n"
     ]
    },
    {
     "name": "stderr",
     "output_type": "stream",
     "text": [
      "$NANO: possibly delisted; no timezone found\n"
     ]
    },
    {
     "name": "stdout",
     "output_type": "stream",
     "text": [
      "Error fetching data for NANO: No historical data available for NANO around 2024-01-26.\n"
     ]
    },
    {
     "name": "stderr",
     "output_type": "stream",
     "text": [
      "$LNCE: possibly delisted; no price data found  (1d 2023-12-27 -> 2024-01-26)\n"
     ]
    },
    {
     "name": "stdout",
     "output_type": "stream",
     "text": [
      "Error fetching data for LNCE: No historical data available for LNCE around 2024-01-26.\n"
     ]
    },
    {
     "name": "stderr",
     "output_type": "stream",
     "text": [
      "$LXK: possibly delisted; no price data found  (1d 2023-12-27 -> 2024-01-26)\n",
      "$NPD: possibly delisted; no price data found  (1d 2023-12-27 -> 2024-01-26)\n"
     ]
    },
    {
     "name": "stdout",
     "output_type": "stream",
     "text": [
      "Error fetching data for LXK: No historical data available for LXK around 2024-01-26.\n",
      "Error fetching data for NPD: No historical data available for NPD around 2024-01-26.\n"
     ]
    },
    {
     "name": "stderr",
     "output_type": "stream",
     "text": [
      "$NDP: possibly delisted; no price data found  (period=1d)\n"
     ]
    },
    {
     "name": "stdout",
     "output_type": "stream",
     "text": [
      "Error fetching data for NDP: single positional indexer is out-of-bounds\n"
     ]
    },
    {
     "name": "stderr",
     "output_type": "stream",
     "text": [
      "$LINTB: possibly delisted; no price data found  (1d 2023-12-27 -> 2024-01-26)\n"
     ]
    },
    {
     "name": "stdout",
     "output_type": "stream",
     "text": [
      "Error fetching data for LINTB: No historical data available for LINTB around 2024-01-26.\n"
     ]
    },
    {
     "name": "stderr",
     "output_type": "stream",
     "text": [
      "$SLW: possibly delisted; no price data found  (1d 2023-12-27 -> 2024-01-26)\n"
     ]
    },
    {
     "name": "stdout",
     "output_type": "stream",
     "text": [
      "Error fetching data for SLW: No historical data available for SLW around 2024-01-26.\n"
     ]
    },
    {
     "name": "stderr",
     "output_type": "stream",
     "text": [
      "$EQM: possibly delisted; no timezone found\n"
     ]
    },
    {
     "name": "stdout",
     "output_type": "stream",
     "text": [
      "Error fetching data for EQM: No historical data available for EQM around 2024-01-26.\n"
     ]
    },
    {
     "name": "stderr",
     "output_type": "stream",
     "text": [
      "$SLTC: possibly delisted; no price data found  (1d 2023-12-27 -> 2024-01-26)\n",
      "$INPH: possibly delisted; no price data found  (1d 2023-12-27 -> 2024-01-26)\n"
     ]
    },
    {
     "name": "stdout",
     "output_type": "stream",
     "text": [
      "Error fetching data for SLTC: No historical data available for SLTC around 2024-01-26.\n",
      "Error fetching data for INPH: No historical data available for INPH around 2024-01-26.\n"
     ]
    },
    {
     "name": "stderr",
     "output_type": "stream",
     "text": [
      "$MTB.W: possibly delisted; no timezone found\n"
     ]
    },
    {
     "name": "stdout",
     "output_type": "stream",
     "text": [
      "Error fetching data for MTB.W: No historical data available for MTB.W around 2024-01-26.\n"
     ]
    },
    {
     "name": "stderr",
     "output_type": "stream",
     "text": [
      "$NCIT: possibly delisted; no price data found  (1d 2023-12-27 -> 2024-01-26)\n"
     ]
    },
    {
     "name": "stdout",
     "output_type": "stream",
     "text": [
      "Error fetching data for NCIT: No historical data available for NCIT around 2024-01-26.\n"
     ]
    },
    {
     "name": "stderr",
     "output_type": "stream",
     "text": [
      "$MON: possibly delisted; no timezone found\n"
     ]
    },
    {
     "name": "stdout",
     "output_type": "stream",
     "text": [
      "Error fetching data for MON: No historical data available for MON around 2024-01-26.\n"
     ]
    },
    {
     "name": "stderr",
     "output_type": "stream",
     "text": [
      "$HTR: possibly delisted; no price data found  (1d 2023-12-27 -> 2024-01-26)\n"
     ]
    },
    {
     "name": "stdout",
     "output_type": "stream",
     "text": [
      "Error fetching data for HTR: No historical data available for HTR around 2024-01-26.\n"
     ]
    },
    {
     "name": "stderr",
     "output_type": "stream",
     "text": [
      "$PFK: possibly delisted; no timezone found\n"
     ]
    },
    {
     "name": "stdout",
     "output_type": "stream",
     "text": [
      "Error fetching data for PFK: No historical data available for PFK around 2024-01-26.\n"
     ]
    },
    {
     "name": "stderr",
     "output_type": "stream",
     "text": [
      "$SAQ: possibly delisted; no timezone found\n"
     ]
    },
    {
     "name": "stdout",
     "output_type": "stream",
     "text": [
      "Error fetching data for SAQ: No historical data available for SAQ around 2024-01-26.\n"
     ]
    },
    {
     "name": "stderr",
     "output_type": "stream",
     "text": [
      "$AXJS: possibly delisted; no price data found  (1d 2023-12-27 -> 2024-01-26)\n"
     ]
    },
    {
     "name": "stdout",
     "output_type": "stream",
     "text": [
      "Error fetching data for AXJS: No historical data available for AXJS around 2024-01-26.\n"
     ]
    },
    {
     "name": "stderr",
     "output_type": "stream",
     "text": [
      "$INTX: possibly delisted; no price data found  (1d 2023-12-27 -> 2024-01-26)\n",
      "$IMRS: possibly delisted; no price data found  (1d 2023-12-27 -> 2024-01-26)\n"
     ]
    },
    {
     "name": "stdout",
     "output_type": "stream",
     "text": [
      "Error fetching data for INTX: No historical data available for INTX around 2024-01-26.\n",
      "Error fetching data for IMRS: No historical data available for IMRS around 2024-01-26.\n"
     ]
    },
    {
     "name": "stderr",
     "output_type": "stream",
     "text": [
      "$YZC: possibly delisted; no price data found  (1d 2023-12-27 -> 2024-01-26)\n"
     ]
    },
    {
     "name": "stdout",
     "output_type": "stream",
     "text": [
      "Error fetching data for YZC: No historical data available for YZC around 2024-01-26.\n"
     ]
    },
    {
     "name": "stderr",
     "output_type": "stream",
     "text": [
      "$OXBT: possibly delisted; no price data found  (1d 2023-12-27 -> 2024-01-26)\n"
     ]
    },
    {
     "name": "stdout",
     "output_type": "stream",
     "text": [
      "Error fetching data for OXBT: No historical data available for OXBT around 2024-01-26.\n"
     ]
    },
    {
     "name": "stderr",
     "output_type": "stream",
     "text": [
      "$TOO: possibly delisted; no timezone found\n"
     ]
    },
    {
     "name": "stdout",
     "output_type": "stream",
     "text": [
      "Error fetching data for TOO: No historical data available for TOO around 2024-01-26.\n"
     ]
    },
    {
     "name": "stderr",
     "output_type": "stream",
     "text": [
      "$PACQW: possibly delisted; no timezone found\n"
     ]
    },
    {
     "name": "stdout",
     "output_type": "stream",
     "text": [
      "Error fetching data for PACQW: No historical data available for PACQW around 2024-01-26.\n"
     ]
    },
    {
     "name": "stderr",
     "output_type": "stream",
     "text": [
      "$BONA: possibly delisted; no price data found  (1d 2023-12-27 -> 2024-01-26)\n"
     ]
    },
    {
     "name": "stdout",
     "output_type": "stream",
     "text": [
      "Error fetching data for BONA: No historical data available for BONA around 2024-01-26.\n"
     ]
    },
    {
     "name": "stderr",
     "output_type": "stream",
     "text": [
      "$XOOM: possibly delisted; no price data found  (1d 2023-12-27 -> 2024-01-26)\n"
     ]
    },
    {
     "name": "stdout",
     "output_type": "stream",
     "text": [
      "Error fetching data for XOOM: No historical data available for XOOM around 2024-01-26.\n"
     ]
    },
    {
     "name": "stderr",
     "output_type": "stream",
     "text": [
      "$MTCN: possibly delisted; no timezone found\n",
      "$KID: possibly delisted; no price data found  (1d 2023-12-27 -> 2024-01-26)\n"
     ]
    },
    {
     "name": "stdout",
     "output_type": "stream",
     "text": [
      "Error fetching data for MTCN: No historical data available for MTCN around 2024-01-26.\n",
      "Error fetching data for KID: No historical data available for KID around 2024-01-26.\n"
     ]
    },
    {
     "name": "stderr",
     "output_type": "stream",
     "text": [
      "$NBS: possibly delisted; no price data found  (1d 2023-12-27 -> 2024-01-26)\n"
     ]
    },
    {
     "name": "stdout",
     "output_type": "stream",
     "text": [
      "Error fetching data for NBS: No historical data available for NBS around 2024-01-26.\n"
     ]
    },
    {
     "name": "stderr",
     "output_type": "stream",
     "text": [
      "$ETM: possibly delisted; no timezone found\n"
     ]
    },
    {
     "name": "stdout",
     "output_type": "stream",
     "text": [
      "Error fetching data for ETM: No historical data available for ETM around 2024-01-26.\n"
     ]
    },
    {
     "name": "stderr",
     "output_type": "stream",
     "text": [
      "$BIO.B: possibly delisted; no price data found  (1d 2023-12-27 -> 2024-01-26)\n",
      "$ENMD: possibly delisted; no price data found  (1d 2023-12-27 -> 2024-01-26)\n"
     ]
    },
    {
     "name": "stdout",
     "output_type": "stream",
     "text": [
      "Error fetching data for BIO.B: No historical data available for BIO.B around 2024-01-26.\n",
      "Error fetching data for ENMD: No historical data available for ENMD around 2024-01-26.\n"
     ]
    },
    {
     "name": "stderr",
     "output_type": "stream",
     "text": [
      "$MRTX: possibly delisted; no timezone found\n"
     ]
    },
    {
     "name": "stdout",
     "output_type": "stream",
     "text": [
      "Error fetching data for MRTX: No historical data available for MRTX around 2024-01-26.\n"
     ]
    },
    {
     "name": "stderr",
     "output_type": "stream",
     "text": [
      "$BMTC: possibly delisted; no timezone found\n"
     ]
    },
    {
     "name": "stdout",
     "output_type": "stream",
     "text": [
      "Error fetching data for BMTC: No historical data available for BMTC around 2024-01-26.\n"
     ]
    },
    {
     "name": "stderr",
     "output_type": "stream",
     "text": [
      "$GPM: possibly delisted; no timezone found\n",
      "$ININ: possibly delisted; no price data found  (1d 2023-12-27 -> 2024-01-26)\n"
     ]
    },
    {
     "name": "stdout",
     "output_type": "stream",
     "text": [
      "Error fetching data for GPM: No historical data available for GPM around 2024-01-26.\n",
      "Error fetching data for ININ: No historical data available for ININ around 2024-01-26.\n"
     ]
    },
    {
     "name": "stderr",
     "output_type": "stream",
     "text": [
      "$ENH-A: possibly delisted; no timezone found\n"
     ]
    },
    {
     "name": "stdout",
     "output_type": "stream",
     "text": [
      "Error fetching data for ENH-A: No historical data available for ENH-A around 2024-01-26.\n"
     ]
    },
    {
     "name": "stderr",
     "output_type": "stream",
     "text": [
      "$MATR: possibly delisted; no price data found  (1d 2023-12-27 -> 2024-01-26)\n"
     ]
    },
    {
     "name": "stdout",
     "output_type": "stream",
     "text": [
      "Error fetching data for MATR: No historical data available for MATR around 2024-01-26.\n"
     ]
    },
    {
     "name": "stderr",
     "output_type": "stream",
     "text": [
      "$AMSWA: possibly delisted; no timezone found\n"
     ]
    },
    {
     "name": "stdout",
     "output_type": "stream",
     "text": [
      "Error fetching data for AMSWA: No historical data available for AMSWA around 2024-01-26.\n"
     ]
    },
    {
     "name": "stderr",
     "output_type": "stream",
     "text": [
      "$MFO: possibly delisted; no timezone found\n",
      "$SWFT: possibly delisted; no price data found  (1d 2023-12-27 -> 2024-01-26)\n"
     ]
    },
    {
     "name": "stdout",
     "output_type": "stream",
     "text": [
      "Error fetching data for MFO: No historical data available for MFO around 2024-01-26.\n",
      "Error fetching data for SWFT: No historical data available for SWFT around 2024-01-26.\n"
     ]
    },
    {
     "name": "stderr",
     "output_type": "stream",
     "text": [
      "$EDMC: possibly delisted; no price data found  (1d 2023-12-27 -> 2024-01-26)\n"
     ]
    },
    {
     "name": "stdout",
     "output_type": "stream",
     "text": [
      "Error fetching data for EDMC: No historical data available for EDMC around 2024-01-26.\n"
     ]
    },
    {
     "name": "stderr",
     "output_type": "stream",
     "text": [
      "$UFS: possibly delisted; no timezone found\n"
     ]
    },
    {
     "name": "stdout",
     "output_type": "stream",
     "text": [
      "Error fetching data for UFS: No historical data available for UFS around 2024-01-26.\n"
     ]
    },
    {
     "name": "stderr",
     "output_type": "stream",
     "text": [
      "$JACQ: possibly delisted; no price data found  (1d 2023-12-27 -> 2024-01-26)\n"
     ]
    },
    {
     "name": "stdout",
     "output_type": "stream",
     "text": [
      "Error fetching data for JACQ: No historical data available for JACQ around 2024-01-26.\n"
     ]
    },
    {
     "name": "stderr",
     "output_type": "stream",
     "text": [
      "$PSUN: possibly delisted; no price data found  (1d 2023-12-27 -> 2024-01-26)\n"
     ]
    },
    {
     "name": "stdout",
     "output_type": "stream",
     "text": [
      "Error fetching data for PSUN: No historical data available for PSUN around 2024-01-26.\n"
     ]
    },
    {
     "name": "stderr",
     "output_type": "stream",
     "text": [
      "$PSXP: possibly delisted; no timezone found\n"
     ]
    },
    {
     "name": "stdout",
     "output_type": "stream",
     "text": [
      "Error fetching data for PSXP: No historical data available for PSXP around 2024-01-26.\n"
     ]
    },
    {
     "name": "stderr",
     "output_type": "stream",
     "text": [
      "$PULB: possibly delisted; no price data found  (1d 2023-12-27 -> 2024-01-26)\n"
     ]
    },
    {
     "name": "stdout",
     "output_type": "stream",
     "text": [
      "Error fetching data for PULB: No historical data available for PULB around 2024-01-26.\n"
     ]
    },
    {
     "name": "stderr",
     "output_type": "stream",
     "text": [
      "$HCCI: possibly delisted; no timezone found\n",
      "$CDI: possibly delisted; no price data found  (1d 2023-12-27 -> 2024-01-26)\n"
     ]
    },
    {
     "name": "stdout",
     "output_type": "stream",
     "text": [
      "Error fetching data for HCCI: No historical data available for HCCI around 2024-01-26.\n",
      "Error fetching data for CDI: No historical data available for CDI around 2024-01-26.\n"
     ]
    },
    {
     "name": "stderr",
     "output_type": "stream",
     "text": [
      "$TCB: possibly delisted; no price data found  (1d 2023-12-27 -> 2024-01-26)\n"
     ]
    },
    {
     "name": "stdout",
     "output_type": "stream",
     "text": [
      "Error fetching data for TCB: No historical data available for TCB around 2024-01-26.\n"
     ]
    },
    {
     "name": "stderr",
     "output_type": "stream",
     "text": [
      "$ARY: possibly delisted; no timezone found\n"
     ]
    },
    {
     "name": "stdout",
     "output_type": "stream",
     "text": [
      "Error fetching data for ARY: No historical data available for ARY around 2024-01-26.\n"
     ]
    },
    {
     "name": "stderr",
     "output_type": "stream",
     "text": [
      "$ESL: possibly delisted; no timezone found\n"
     ]
    },
    {
     "name": "stdout",
     "output_type": "stream",
     "text": [
      "Error fetching data for ESL: No historical data available for ESL around 2024-01-26.\n"
     ]
    },
    {
     "name": "stderr",
     "output_type": "stream",
     "text": [
      "$OSN: possibly delisted; no timezone found\n",
      "$VDSI: possibly delisted; no price data found  (1d 2023-12-27 -> 2024-01-26)\n"
     ]
    },
    {
     "name": "stdout",
     "output_type": "stream",
     "text": [
      "Error fetching data for OSN: No historical data available for OSN around 2024-01-26.\n",
      "Error fetching data for VDSI: No historical data available for VDSI around 2024-01-26.\n"
     ]
    },
    {
     "name": "stderr",
     "output_type": "stream",
     "text": [
      "$TAXI: possibly delisted; no price data found  (1d 2023-12-27 -> 2024-01-26)\n"
     ]
    },
    {
     "name": "stdout",
     "output_type": "stream",
     "text": [
      "Error fetching data for TAXI: No historical data available for TAXI around 2024-01-26.\n"
     ]
    },
    {
     "name": "stderr",
     "output_type": "stream",
     "text": [
      "$HSB-B: possibly delisted; no timezone found\n"
     ]
    },
    {
     "name": "stdout",
     "output_type": "stream",
     "text": [
      "Error fetching data for HSB-B: No historical data available for HSB-B around 2024-01-26.\n"
     ]
    },
    {
     "name": "stderr",
     "output_type": "stream",
     "text": [
      "$NAN-C: possibly delisted; no timezone found\n"
     ]
    },
    {
     "name": "stdout",
     "output_type": "stream",
     "text": [
      "Error fetching data for NAN-C: No historical data available for NAN-C around 2024-01-26.\n"
     ]
    },
    {
     "name": "stderr",
     "output_type": "stream",
     "text": [
      "$LVNTB: possibly delisted; no price data found  (1d 2023-12-27 -> 2024-01-26)\n"
     ]
    },
    {
     "name": "stdout",
     "output_type": "stream",
     "text": [
      "Error fetching data for LVNTB: No historical data available for LVNTB around 2024-01-26.\n"
     ]
    },
    {
     "name": "stderr",
     "output_type": "stream",
     "text": [
      "$CTL: possibly delisted; no timezone found\n"
     ]
    },
    {
     "name": "stdout",
     "output_type": "stream",
     "text": [
      "Error fetching data for CTL: No historical data available for CTL around 2024-01-26.\n",
      "Error fetching data for RBS-G: Too Many Requests. Rate limited. Try after a while.\n",
      "Error fetching data for LOGM: Too Many Requests. Rate limited. Try after a while.\n",
      "Error fetching data for TRF: Too Many Requests. Rate limited. Try after a while.\n",
      "Error fetching data for AMBT: Too Many Requests. Rate limited. Try after a while.\n",
      "Error fetching data for LPTN: Too Many Requests. Rate limited. Try after a while.\n",
      "Error fetching data for EXA: Too Many Requests. Rate limited. Try after a while.\n",
      "Error fetching data for BYI: Too Many Requests. Rate limited. Try after a while.\n",
      "Error fetching data for HSA: Too Many Requests. Rate limited. Try after a while.\n",
      "Error fetching data for FTSL: Too Many Requests. Rate limited. Try after a while.\n",
      "Error fetching data for JADE: Too Many Requests. Rate limited. Try after a while.\n",
      "Error fetching data for SPLP: Too Many Requests. Rate limited. Try after a while.\n",
      "Error fetching data for ARCI: Too Many Requests. Rate limited. Try after a while.\n",
      "Error fetching data for BCS: Too Many Requests. Rate limited. Try after a while.\n",
      "Error fetching data for HBC-A: Too Many Requests. Rate limited. Try after a while.\n",
      "Error fetching data for EMCI: Too Many Requests. Rate limited. Try after a while.\n",
      "Error fetching data for RBS-L: Too Many Requests. Rate limited. Try after a while.\n",
      "Error fetching data for BCS-D: Too Many Requests. Rate limited. Try after a while.\n",
      "Error fetching data for RWT: Too Many Requests. Rate limited. Try after a while.\n",
      "Error fetching data for RBS-H: Too Many Requests. Rate limited. Try after a while.\n",
      "Error fetching data for USEG: Too Many Requests. Rate limited. Try after a while.\n",
      "Error fetching data for FFNW: Too Many Requests. Rate limited. Try after a while.\n",
      "Error fetching data for INFY: Too Many Requests. Rate limited. Try after a while.\n",
      "Error fetching data for AWP: Too Many Requests. Rate limited. Try after a while.\n",
      "Error fetching data for BIOD: Too Many Requests. Rate limited. Try after a while.\n",
      "Error fetching data for PGRX: Too Many Requests. Rate limited. Try after a while.\n",
      "Error fetching data for WYNN: Too Many Requests. Rate limited. Try after a while.\n",
      "Error fetching data for TAC: Too Many Requests. Rate limited. Try after a while.\n",
      "Error fetching data for PBHC: Too Many Requests. Rate limited. Try after a while.\n",
      "Error fetching data for TXI: Too Many Requests. Rate limited. Try after a while.\n",
      "Error fetching data for MENT: Too Many Requests. Rate limited. Try after a while.\n",
      "Error fetching data for SLA: Too Many Requests. Rate limited. Try after a while.\n",
      "Error fetching data for JVA: Too Many Requests. Rate limited. Try after a while.\n",
      "Error fetching data for SYBT: Too Many Requests. Rate limited. Try after a while.\n",
      "Error fetching data for DDE: Too Many Requests. Rate limited. Try after a while.\n",
      "Error fetching data for INZ: Too Many Requests. Rate limited. Try after a while.\n",
      "Error fetching data for NVTL: Too Many Requests. Rate limited. Try after a while.\n",
      "Error fetching data for PEG: Too Many Requests. Rate limited. Try after a while.\n",
      "Error fetching data for AWC: Too Many Requests. Rate limited. Try after a while.\n",
      "Error fetching data for CSV: Too Many Requests. Rate limited. Try after a while.\n",
      "Error fetching data for ARTX: Too Many Requests. Rate limited. Try after a while.\n",
      "Error fetching data for UDR: Too Many Requests. Rate limited. Try after a while.\n",
      "Error fetching data for BAGR: Too Many Requests. Rate limited. Try after a while.\n",
      "Error fetching data for SWJ: Too Many Requests. Rate limited. Try after a while.\n",
      "Error fetching data for GHY: Too Many Requests. Rate limited. Try after a while.\n",
      "Error fetching data for LMOS: Too Many Requests. Rate limited. Try after a while.\n",
      "Error fetching data for AUXL: Too Many Requests. Rate limited. Try after a while.\n",
      "Error fetching data for FVE: Too Many Requests. Rate limited. Try after a while.\n",
      "Error fetching data for ENH-B: Too Many Requests. Rate limited. Try after a while.\n",
      "Error fetching data for SOHU: Too Many Requests. Rate limited. Try after a while.\n",
      "Error fetching data for IVR: Too Many Requests. Rate limited. Try after a while.\n",
      "Error fetching data for RNWK: Too Many Requests. Rate limited. Try after a while.\n",
      "Error fetching data for CZR: Too Many Requests. Rate limited. Try after a while.\n",
      "Error fetching data for PRE-D: Too Many Requests. Rate limited. Try after a while.\n",
      "Error fetching data for DDF: Too Many Requests. Rate limited. Try after a while.\n",
      "Error fetching data for PJC: Too Many Requests. Rate limited. Try after a while.\n",
      "Error fetching data for SORL: Too Many Requests. Rate limited. Try after a while.\n",
      "Error fetching data for TQQQ: Too Many Requests. Rate limited. Try after a while.\n",
      "Error fetching data for PPO: Too Many Requests. Rate limited. Try after a while.\n",
      "Error fetching data for CNX: Too Many Requests. Rate limited. Try after a while.\n",
      "Error fetching data for HOS: Too Many Requests. Rate limited. Try after a while.\n",
      "Error fetching data for KALU: Too Many Requests. Rate limited. Try after a while.\n",
      "Error fetching data for RSE: Too Many Requests. Rate limited. Try after a while.\n",
      "Error fetching data for FFBCW: Too Many Requests. Rate limited. Try after a while.\n",
      "Error fetching data for ANDAW: Too Many Requests. Rate limited. Try after a while.\n",
      "Error fetching data for PNI: Too Many Requests. Rate limited. Try after a while.\n",
      "Error fetching data for CBL-E: Too Many Requests. Rate limited. Try after a while.\n",
      "Error fetching data for INOC: Too Many Requests. Rate limited. Try after a while.\n",
      "Error fetching data for CVGW: Too Many Requests. Rate limited. Try after a while.\n",
      "Error fetching data for GLRE: Too Many Requests. Rate limited. Try after a while.\n",
      "Error fetching data for KOPN: Too Many Requests. Rate limited. Try after a while.\n",
      "Error fetching data for KSU.P: Too Many Requests. Rate limited. Try after a while.\n",
      "Error fetching data for GGP: Too Many Requests. Rate limited. Try after a while.\n",
      "Error fetching data for SAMG: Too Many Requests. Rate limited. Try after a while.\n",
      "Error fetching data for MER-E: Too Many Requests. Rate limited. Try after a while.\n",
      "Error fetching data for NTLS: Too Many Requests. Rate limited. Try after a while.\n",
      "Error fetching data for ASP: Too Many Requests. Rate limited. Try after a while.\n",
      "Error fetching data for MYI: Too Many Requests. Rate limited. Try after a while.\n",
      "Error fetching data for OFG-B: Too Many Requests. Rate limited. Try after a while.\n",
      "Error fetching data for NAZ-D: Too Many Requests. Rate limited. Try after a while.\n",
      "Error fetching data for BHL: Too Many Requests. Rate limited. Try after a while.\n",
      "Error fetching data for SHFL: Too Many Requests. Rate limited. Try after a while.\n",
      "Error fetching data for SQNS: Too Many Requests. Rate limited. Try after a while.\n",
      "Error fetching data for XON: Too Many Requests. Rate limited. Try after a while.\n",
      "Error fetching data for ATTU: Too Many Requests. Rate limited. Try after a while.\n",
      "Error fetching data for CWBC: Too Many Requests. Rate limited. Try after a while.\n",
      "Error fetching data for PZC: Too Many Requests. Rate limited. Try after a while.\n",
      "Error fetching data for GAI: Too Many Requests. Rate limited. Try after a while.\n",
      "Error fetching data for RBS-N: Too Many Requests. Rate limited. Try after a while.\n",
      "Error fetching data for ALGN: Too Many Requests. Rate limited. Try after a while.\n",
      "Error fetching data for JZC: Too Many Requests. Rate limited. Try after a while.\n",
      "Error fetching data for SPPI: Too Many Requests. Rate limited. Try after a while.\n",
      "Error fetching data for TIF: Too Many Requests. Rate limited. Try after a while.\n",
      "Error fetching data for SBFG: Too Many Requests. Rate limited. Try after a while.\n",
      "Error fetching data for PEP: Too Many Requests. Rate limited. Try after a while.\n",
      "Error fetching data for AFG: Too Many Requests. Rate limited. Try after a while.\n",
      "Error fetching data for FRBK: Too Many Requests. Rate limited. Try after a while.\n",
      "Error fetching data for ARSD: Too Many Requests. Rate limited. Try after a while.\n",
      "Error fetching data for PTCT: Too Many Requests. Rate limited. Try after a while.\n",
      "Error fetching data for BSRR: Too Many Requests. Rate limited. Try after a while.\n",
      "Error fetching data for NCTY: Too Many Requests. Rate limited. Try after a while.\n",
      "Error fetching data for KMI: Too Many Requests. Rate limited. Try after a while.\n",
      "Error fetching data for CALM: Too Many Requests. Rate limited. Try after a while.\n",
      "Error fetching data for MINI: Too Many Requests. Rate limited. Try after a while.\n",
      "Error fetching data for WMGI: Too Many Requests. Rate limited. Try after a while.\n",
      "Error fetching data for SYX: Too Many Requests. Rate limited. Try after a while.\n",
      "Error fetching data for NSR: Too Many Requests. Rate limited. Try after a while.\n",
      "Error fetching data for CBNJ: Too Many Requests. Rate limited. Try after a while.\n",
      "Error fetching data for MTW: Too Many Requests. Rate limited. Try after a while.\n",
      "Error fetching data for DSM: Too Many Requests. Rate limited. Try after a while.\n",
      "Error fetching data for ORRF: Too Many Requests. Rate limited. Try after a while.\n",
      "Error fetching data for GSOL: Too Many Requests. Rate limited. Try after a while.\n",
      "Error fetching data for FSBW: Too Many Requests. Rate limited. Try after a while.\n",
      "Error fetching data for HI: Too Many Requests. Rate limited. Try after a while.\n",
      "Error fetching data for PX: Too Many Requests. Rate limited. Try after a while.\n",
      "Error fetching data for QLIK: Too Many Requests. Rate limited. Try after a while.\n",
      "Error fetching data for AGII: Too Many Requests. Rate limited. Try after a while.\n",
      "Error fetching data for MSZ: Too Many Requests. Rate limited. Try after a while.\n",
      "Error fetching data for TRN-A: Too Many Requests. Rate limited. Try after a while.\n",
      "Error fetching data for PPHM: Too Many Requests. Rate limited. Try after a while.\n",
      "Error fetching data for NTC-C: Too Many Requests. Rate limited. Try after a while.\n",
      "Error fetching data for FCT: Too Many Requests. Rate limited. Try after a while.\n",
      "Error fetching data for FNLC: Too Many Requests. Rate limited. Try after a while.\n",
      "Error fetching data for AQUUU: Too Many Requests. Rate limited. Try after a while.\n",
      "Error fetching data for CRAY: Too Many Requests. Rate limited. Try after a while.\n",
      "Error fetching data for STI-A: Too Many Requests. Rate limited. Try after a while.\n",
      "Error fetching data for AVAV: Too Many Requests. Rate limited. Try after a while.\n",
      "Error fetching data for IGR: Too Many Requests. Rate limited. Try after a while.\n",
      "Error fetching data for GOOG: Too Many Requests. Rate limited. Try after a while.\n",
      "Error fetching data for M: Too Many Requests. Rate limited. Try after a while.\n",
      "Error fetching data for HME: Too Many Requests. Rate limited. Try after a while.\n"
     ]
    },
    {
     "name": "stderr",
     "output_type": "stream",
     "text": [
      "Failed to get ticker 'INBK' reason: Response ended prematurely\n",
      "$INBK: possibly delisted; no timezone found\n"
     ]
    },
    {
     "name": "stdout",
     "output_type": "stream",
     "text": [
      "Error fetching data for INBK: No historical data available for INBK around 2024-01-26.\n",
      "Error fetching data for PCLN: Too Many Requests. Rate limited. Try after a while.\n",
      "Error fetching data for SNBC: Too Many Requests. Rate limited. Try after a while.\n",
      "Error fetching data for DCOM: Too Many Requests. Rate limited. Try after a while.\n",
      "Error fetching data for TW: Too Many Requests. Rate limited. Try after a while.\n",
      "Error fetching data for EMDR: Too Many Requests. Rate limited. Try after a while.\n",
      "Error fetching data for NCBC: Too Many Requests. Rate limited. Try after a while.\n",
      "Error fetching data for NSH: Too Many Requests. Rate limited. Try after a while.\n",
      "Error fetching data for BCC: Too Many Requests. Rate limited. Try after a while.\n",
      "Error fetching data for CBI: Too Many Requests. Rate limited. Try after a while.\n",
      "Error fetching data for BSI: Too Many Requests. Rate limited. Try after a while.\n",
      "Error fetching data for RCKY: Too Many Requests. Rate limited. Try after a while.\n",
      "Error fetching data for NCT: Too Many Requests. Rate limited. Try after a while.\n",
      "Error fetching data for KTOS: Too Many Requests. Rate limited. Try after a while.\n",
      "Error fetching data for HTLD: Too Many Requests. Rate limited. Try after a while.\n",
      "Error fetching data for OKE: Too Many Requests. Rate limited. Try after a while.\n",
      "Error fetching data for XNY: Too Many Requests. Rate limited. Try after a while.\n",
      "Error fetching data for MFT: Too Many Requests. Rate limited. Try after a while.\n",
      "Error fetching data for HYV: Too Many Requests. Rate limited. Try after a while.\n",
      "Error fetching data for AOI: Too Many Requests. Rate limited. Try after a while.\n",
      "Error fetching data for UNB: Too Many Requests. Rate limited. Try after a while.\n",
      "Error fetching data for AREX: Too Many Requests. Rate limited. Try after a while.\n",
      "Error fetching data for PYB: Too Many Requests. Rate limited. Try after a while.\n",
      "Error fetching data for PFMT: Too Many Requests. Rate limited. Try after a while.\n",
      "Error fetching data for NRP: Too Many Requests. Rate limited. Try after a while.\n",
      "Error fetching data for FNFG: Too Many Requests. Rate limited. Try after a while.\n",
      "Error fetching data for VELT: Too Many Requests. Rate limited. Try after a while.\n",
      "Error fetching data for NPV-A: Too Many Requests. Rate limited. Try after a while.\n",
      "Error fetching data for NJ: Too Many Requests. Rate limited. Try after a while.\n",
      "Error fetching data for HAFC: Too Many Requests. Rate limited. Try after a while.\n",
      "Error fetching data for EDG: Too Many Requests. Rate limited. Try after a while.\n",
      "Error fetching data for MG: Too Many Requests. Rate limited. Try after a while.\n"
     ]
    },
    {
     "name": "stderr",
     "output_type": "stream",
     "text": [
      "$OCRX: possibly delisted; no price data found  (1d 2023-12-27 -> 2024-01-26)\n"
     ]
    },
    {
     "name": "stdout",
     "output_type": "stream",
     "text": [
      "Error fetching data for OCRX: No historical data available for OCRX around 2024-01-26.\n"
     ]
    },
    {
     "name": "stderr",
     "output_type": "stream",
     "text": [
      "$IFAS: possibly delisted; no price data found  (1d 2023-12-27 -> 2024-01-26)\n"
     ]
    },
    {
     "name": "stdout",
     "output_type": "stream",
     "text": [
      "Error fetching data for IFAS: No historical data available for IFAS around 2024-01-26.\n"
     ]
    },
    {
     "name": "stderr",
     "output_type": "stream",
     "text": [
      "$MJN: possibly delisted; no price data found  (1d 2023-12-27 -> 2024-01-26)\n",
      "$TLAB: possibly delisted; no price data found  (1d 2023-12-27 -> 2024-01-26)\n"
     ]
    },
    {
     "name": "stdout",
     "output_type": "stream",
     "text": [
      "Error fetching data for MJN: No historical data available for MJN around 2024-01-26.\n",
      "Error fetching data for TLAB: No historical data available for TLAB around 2024-01-26.\n"
     ]
    },
    {
     "name": "stderr",
     "output_type": "stream",
     "text": [
      "$OHRP: possibly delisted; no timezone found\n"
     ]
    },
    {
     "name": "stdout",
     "output_type": "stream",
     "text": [
      "Error fetching data for OHRP: No historical data available for OHRP around 2024-01-26.\n"
     ]
    },
    {
     "name": "stderr",
     "output_type": "stream",
     "text": [
      "$SGY: possibly delisted; no price data found  (1d 2023-12-27 -> 2024-01-26)\n"
     ]
    },
    {
     "name": "stdout",
     "output_type": "stream",
     "text": [
      "Error fetching data for SGY: No historical data available for SGY around 2024-01-26.\n"
     ]
    },
    {
     "name": "stderr",
     "output_type": "stream",
     "text": [
      "$SLT: possibly delisted; no price data found  (1d 2023-12-27 -> 2024-01-26)\n"
     ]
    },
    {
     "name": "stdout",
     "output_type": "stream",
     "text": [
      "Error fetching data for SLT: No historical data available for SLT around 2024-01-26.\n"
     ]
    },
    {
     "name": "stderr",
     "output_type": "stream",
     "text": [
      "$VIA: possibly delisted; no timezone found\n",
      "$GLDC: possibly delisted; no price data found  (1d 2023-12-27 -> 2024-01-26)\n"
     ]
    },
    {
     "name": "stdout",
     "output_type": "stream",
     "text": [
      "Error fetching data for VIA: No historical data available for VIA around 2024-01-26.\n",
      "Error fetching data for GLDC: No historical data available for GLDC around 2024-01-26.\n"
     ]
    },
    {
     "name": "stderr",
     "output_type": "stream",
     "text": [
      "$TSO: possibly delisted; no price data found  (1d 2023-12-27 -> 2024-01-26)\n"
     ]
    },
    {
     "name": "stdout",
     "output_type": "stream",
     "text": [
      "Error fetching data for TSO: No historical data available for TSO around 2024-01-26.\n"
     ]
    },
    {
     "name": "stderr",
     "output_type": "stream",
     "text": [
      "$NTX: possibly delisted; no timezone found\n"
     ]
    },
    {
     "name": "stdout",
     "output_type": "stream",
     "text": [
      "Error fetching data for NTX: No historical data available for NTX around 2024-01-26.\n"
     ]
    },
    {
     "name": "stderr",
     "output_type": "stream",
     "text": [
      "$FRC: possibly delisted; no timezone found\n"
     ]
    },
    {
     "name": "stdout",
     "output_type": "stream",
     "text": [
      "Error fetching data for FRC: No historical data available for FRC around 2024-01-26.\n"
     ]
    },
    {
     "name": "stderr",
     "output_type": "stream",
     "text": [
      "$TCB-B: possibly delisted; no timezone found\n"
     ]
    },
    {
     "name": "stdout",
     "output_type": "stream",
     "text": [
      "Error fetching data for TCB-B: No historical data available for TCB-B around 2024-01-26.\n"
     ]
    },
    {
     "name": "stderr",
     "output_type": "stream",
     "text": [
      "$SPWR: possibly delisted; no timezone found\n"
     ]
    },
    {
     "name": "stdout",
     "output_type": "stream",
     "text": [
      "Error fetching data for SPWR: No historical data available for SPWR around 2024-01-26.\n"
     ]
    },
    {
     "name": "stderr",
     "output_type": "stream",
     "text": [
      "$AEZS: possibly delisted; no timezone found\n"
     ]
    },
    {
     "name": "stdout",
     "output_type": "stream",
     "text": [
      "Error fetching data for AEZS: No historical data available for AEZS around 2024-01-26.\n"
     ]
    },
    {
     "name": "stderr",
     "output_type": "stream",
     "text": [
      "$KMI.W: possibly delisted; no timezone found\n"
     ]
    },
    {
     "name": "stdout",
     "output_type": "stream",
     "text": [
      "Error fetching data for KMI.W: No historical data available for KMI.W around 2024-01-26.\n"
     ]
    },
    {
     "name": "stderr",
     "output_type": "stream",
     "text": [
      "$BML-H: possibly delisted; no timezone found\n"
     ]
    },
    {
     "name": "stdout",
     "output_type": "stream",
     "text": [
      "Error fetching data for BML-H: No historical data available for BML-H around 2024-01-26.\n"
     ]
    },
    {
     "name": "stderr",
     "output_type": "stream",
     "text": [
      "$TRQ: possibly delisted; no timezone found\n",
      "$ABV.C: possibly delisted; no price data found  (1d 2023-12-27 -> 2024-01-26)\n"
     ]
    },
    {
     "name": "stdout",
     "output_type": "stream",
     "text": [
      "Error fetching data for TRQ: No historical data available for TRQ around 2024-01-26.\n",
      "Error fetching data for ABV.C: No historical data available for ABV.C around 2024-01-26.\n"
     ]
    },
    {
     "name": "stderr",
     "output_type": "stream",
     "text": [
      "$SSW-C: possibly delisted; no timezone found\n",
      "$CYBX: possibly delisted; no price data found  (1d 2023-12-27 -> 2024-01-26)\n"
     ]
    },
    {
     "name": "stdout",
     "output_type": "stream",
     "text": [
      "Error fetching data for SSW-C: No historical data available for SSW-C around 2024-01-26.\n",
      "Error fetching data for CYBX: No historical data available for CYBX around 2024-01-26.\n"
     ]
    },
    {
     "name": "stderr",
     "output_type": "stream",
     "text": [
      "$AVHI: possibly delisted; no timezone found\n"
     ]
    },
    {
     "name": "stdout",
     "output_type": "stream",
     "text": [
      "Error fetching data for AVHI: No historical data available for AVHI around 2024-01-26.\n"
     ]
    },
    {
     "name": "stderr",
     "output_type": "stream",
     "text": [
      "$THI: possibly delisted; no price data found  (1d 2023-12-27 -> 2024-01-26)\n"
     ]
    },
    {
     "name": "stdout",
     "output_type": "stream",
     "text": [
      "Error fetching data for THI: No historical data available for THI around 2024-01-26.\n"
     ]
    },
    {
     "name": "stderr",
     "output_type": "stream",
     "text": [
      "$SPRD: possibly delisted; no price data found  (1d 2023-12-27 -> 2024-01-26)\n"
     ]
    },
    {
     "name": "stdout",
     "output_type": "stream",
     "text": [
      "Error fetching data for SPRD: No historical data available for SPRD around 2024-01-26.\n"
     ]
    },
    {
     "name": "stderr",
     "output_type": "stream",
     "text": [
      "$TGA: possibly delisted; no timezone found\n",
      "$JZL: possibly delisted; no price data found  (1d 2023-12-27 -> 2024-01-26)\n"
     ]
    },
    {
     "name": "stdout",
     "output_type": "stream",
     "text": [
      "Error fetching data for TGA: No historical data available for TGA around 2024-01-26.\n",
      "Error fetching data for JZL: No historical data available for JZL around 2024-01-26.\n"
     ]
    },
    {
     "name": "stderr",
     "output_type": "stream",
     "text": [
      "$ESRX: possibly delisted; no price data found  (1d 2023-12-27 -> 2024-01-26)\n"
     ]
    },
    {
     "name": "stdout",
     "output_type": "stream",
     "text": [
      "Error fetching data for ESRX: No historical data available for ESRX around 2024-01-26.\n"
     ]
    },
    {
     "name": "stderr",
     "output_type": "stream",
     "text": [
      "$SUNS: possibly delisted; no price data found  (1d 2023-12-27 -> 2024-01-26) (Yahoo error = \"Data doesn't exist for startDate = 1703653200, endDate = 1706245200\")\n"
     ]
    },
    {
     "name": "stdout",
     "output_type": "stream",
     "text": [
      "Error fetching data for SUNS: No historical data available for SUNS around 2024-01-26.\n"
     ]
    },
    {
     "name": "stderr",
     "output_type": "stream",
     "text": [
      "$IPHS: possibly delisted; no timezone found\n",
      "$IFT: possibly delisted; no price data found  (1d 2023-12-27 -> 2024-01-26)\n"
     ]
    },
    {
     "name": "stdout",
     "output_type": "stream",
     "text": [
      "Error fetching data for IPHS: No historical data available for IPHS around 2024-01-26.\n",
      "Error fetching data for IFT: No historical data available for IFT around 2024-01-26.\n"
     ]
    },
    {
     "name": "stderr",
     "output_type": "stream",
     "text": [
      "$SPLS: possibly delisted; no price data found  (1d 2023-12-27 -> 2024-01-26)\n"
     ]
    },
    {
     "name": "stdout",
     "output_type": "stream",
     "text": [
      "Error fetching data for SPLS: No historical data available for SPLS around 2024-01-26.\n"
     ]
    },
    {
     "name": "stderr",
     "output_type": "stream",
     "text": [
      "$SXE: possibly delisted; no timezone found\n",
      "$ZLCS: possibly delisted; no price data found  (1d 2023-12-27 -> 2024-01-26)\n"
     ]
    },
    {
     "name": "stdout",
     "output_type": "stream",
     "text": [
      "Error fetching data for SXE: No historical data available for SXE around 2024-01-26.\n",
      "Error fetching data for ZLCS: No historical data available for ZLCS around 2024-01-26.\n"
     ]
    },
    {
     "name": "stderr",
     "output_type": "stream",
     "text": [
      "$FRGI: possibly delisted; no timezone found\n"
     ]
    },
    {
     "name": "stdout",
     "output_type": "stream",
     "text": [
      "Error fetching data for FRGI: No historical data available for FRGI around 2024-01-26.\n"
     ]
    },
    {
     "name": "stderr",
     "output_type": "stream",
     "text": [
      "$RBS-I: possibly delisted; no timezone found\n"
     ]
    },
    {
     "name": "stdout",
     "output_type": "stream",
     "text": [
      "Error fetching data for RBS-I: No historical data available for RBS-I around 2024-01-26.\n"
     ]
    },
    {
     "name": "stderr",
     "output_type": "stream",
     "text": [
      "$CYOU: possibly delisted; no timezone found\n",
      "$ESSX: possibly delisted; no price data found  (1d 2023-12-27 -> 2024-01-26)\n"
     ]
    },
    {
     "name": "stdout",
     "output_type": "stream",
     "text": [
      "Error fetching data for CYOU: No historical data available for CYOU around 2024-01-26.\n",
      "Error fetching data for ESSX: No historical data available for ESSX around 2024-01-26.\n"
     ]
    },
    {
     "name": "stderr",
     "output_type": "stream",
     "text": [
      "$CARB: possibly delisted; no timezone found\n"
     ]
    },
    {
     "name": "stdout",
     "output_type": "stream",
     "text": [
      "Error fetching data for CARB: No historical data available for CARB around 2024-01-26.\n"
     ]
    },
    {
     "name": "stderr",
     "output_type": "stream",
     "text": [
      "$ATAX: possibly delisted; no timezone found\n"
     ]
    },
    {
     "name": "stdout",
     "output_type": "stream",
     "text": [
      "Error fetching data for ATAX: No historical data available for ATAX around 2024-01-26.\n"
     ]
    },
    {
     "name": "stderr",
     "output_type": "stream",
     "text": [
      "$CORE: possibly delisted; no timezone found\n"
     ]
    },
    {
     "name": "stdout",
     "output_type": "stream",
     "text": [
      "Error fetching data for CORE: No historical data available for CORE around 2024-01-26.\n"
     ]
    },
    {
     "name": "stderr",
     "output_type": "stream",
     "text": [
      "$CAS: possibly delisted; no price data found  (1d 2023-12-27 -> 2024-01-26) (Yahoo error = \"Data doesn't exist for startDate = 1703653200, endDate = 1706245200\")\n"
     ]
    },
    {
     "name": "stdout",
     "output_type": "stream",
     "text": [
      "Error fetching data for CAS: No historical data available for CAS around 2024-01-26.\n"
     ]
    },
    {
     "name": "stderr",
     "output_type": "stream",
     "text": [
      "$ANFI: possibly delisted; no timezone found\n"
     ]
    },
    {
     "name": "stdout",
     "output_type": "stream",
     "text": [
      "Error fetching data for ANFI: No historical data available for ANFI around 2024-01-26.\n"
     ]
    },
    {
     "name": "stderr",
     "output_type": "stream",
     "text": [
      "$ASBCW: possibly delisted; no price data found  (1d 2023-12-27 -> 2024-01-26)\n"
     ]
    },
    {
     "name": "stdout",
     "output_type": "stream",
     "text": [
      "Error fetching data for ASBCW: No historical data available for ASBCW around 2024-01-26.\n"
     ]
    },
    {
     "name": "stderr",
     "output_type": "stream",
     "text": [
      "$ABX: possibly delisted; no price data found  (1d 2023-12-27 -> 2024-01-26)\n"
     ]
    },
    {
     "name": "stdout",
     "output_type": "stream",
     "text": [
      "Error fetching data for ABX: No historical data available for ABX around 2024-01-26.\n"
     ]
    },
    {
     "name": "stderr",
     "output_type": "stream",
     "text": [
      "$REN.W: possibly delisted; no timezone found\n"
     ]
    },
    {
     "name": "stdout",
     "output_type": "stream",
     "text": [
      "Error fetching data for REN.W: No historical data available for REN.W around 2024-01-26.\n"
     ]
    },
    {
     "name": "stderr",
     "output_type": "stream",
     "text": [
      "$JCS: possibly delisted; no timezone found\n"
     ]
    },
    {
     "name": "stdout",
     "output_type": "stream",
     "text": [
      "Error fetching data for JCS: No historical data available for JCS around 2024-01-26.\n"
     ]
    },
    {
     "name": "stderr",
     "output_type": "stream",
     "text": [
      "$PEB-B: possibly delisted; no timezone found\n"
     ]
    },
    {
     "name": "stdout",
     "output_type": "stream",
     "text": [
      "Error fetching data for PEB-B: No historical data available for PEB-B around 2024-01-26.\n"
     ]
    },
    {
     "name": "stderr",
     "output_type": "stream",
     "text": [
      "$EPAY: possibly delisted; no timezone found\n",
      "$GALE: possibly delisted; no price data found  (1d 2023-12-27 -> 2024-01-26)\n"
     ]
    },
    {
     "name": "stdout",
     "output_type": "stream",
     "text": [
      "Error fetching data for EPAY: No historical data available for EPAY around 2024-01-26.\n",
      "Error fetching data for GALE: No historical data available for GALE around 2024-01-26.\n"
     ]
    },
    {
     "name": "stderr",
     "output_type": "stream",
     "text": [
      "$NUTR: possibly delisted; no price data found  (1d 2023-12-27 -> 2024-01-26)\n",
      "$BOI: possibly delisted; no price data found  (1d 2023-12-27 -> 2024-01-26)\n"
     ]
    },
    {
     "name": "stdout",
     "output_type": "stream",
     "text": [
      "Error fetching data for NUTR: No historical data available for NUTR around 2024-01-26.\n",
      "Error fetching data for BOI: No historical data available for BOI around 2024-01-26.\n"
     ]
    },
    {
     "name": "stderr",
     "output_type": "stream",
     "text": [
      "$AMOT: possibly delisted; no timezone found\n"
     ]
    },
    {
     "name": "stdout",
     "output_type": "stream",
     "text": [
      "Error fetching data for AMOT: No historical data available for AMOT around 2024-01-26.\n"
     ]
    },
    {
     "name": "stderr",
     "output_type": "stream",
     "text": [
      "$TOWR: possibly delisted; no timezone found\n"
     ]
    },
    {
     "name": "stdout",
     "output_type": "stream",
     "text": [
      "Error fetching data for TOWR: No historical data available for TOWR around 2024-01-26.\n"
     ]
    },
    {
     "name": "stderr",
     "output_type": "stream",
     "text": [
      "$ALR-B: possibly delisted; no timezone found\n"
     ]
    },
    {
     "name": "stdout",
     "output_type": "stream",
     "text": [
      "Error fetching data for ALR-B: No historical data available for ALR-B around 2024-01-26.\n"
     ]
    },
    {
     "name": "stderr",
     "output_type": "stream",
     "text": [
      "$GRIF: possibly delisted; no timezone found\n"
     ]
    },
    {
     "name": "stdout",
     "output_type": "stream",
     "text": [
      "Error fetching data for GRIF: No historical data available for GRIF around 2024-01-26.\n"
     ]
    },
    {
     "name": "stderr",
     "output_type": "stream",
     "text": [
      "$MLHR: possibly delisted; no timezone found\n"
     ]
    },
    {
     "name": "stdout",
     "output_type": "stream",
     "text": [
      "Error fetching data for MLHR: No historical data available for MLHR around 2024-01-26.\n"
     ]
    },
    {
     "name": "stderr",
     "output_type": "stream",
     "text": [
      "$OIBR: possibly delisted; no price data found  (1d 2023-12-27 -> 2024-01-26)\n"
     ]
    },
    {
     "name": "stdout",
     "output_type": "stream",
     "text": [
      "Error fetching data for OIBR: No historical data available for OIBR around 2024-01-26.\n"
     ]
    },
    {
     "name": "stderr",
     "output_type": "stream",
     "text": [
      "$MPEL: possibly delisted; no price data found  (1d 2023-12-27 -> 2024-01-26)\n"
     ]
    },
    {
     "name": "stdout",
     "output_type": "stream",
     "text": [
      "Error fetching data for MPEL: No historical data available for MPEL around 2024-01-26.\n"
     ]
    },
    {
     "name": "stderr",
     "output_type": "stream",
     "text": [
      "$CCIH: possibly delisted; no price data found  (1d 2023-12-27 -> 2024-01-26)\n"
     ]
    },
    {
     "name": "stdout",
     "output_type": "stream",
     "text": [
      "Error fetching data for CCIH: No historical data available for CCIH around 2024-01-26.\n"
     ]
    },
    {
     "name": "stderr",
     "output_type": "stream",
     "text": [
      "$ISG: possibly delisted; no timezone found\n"
     ]
    },
    {
     "name": "stdout",
     "output_type": "stream",
     "text": [
      "Error fetching data for ISG: No historical data available for ISG around 2024-01-26.\n"
     ]
    },
    {
     "name": "stderr",
     "output_type": "stream",
     "text": [
      "$ESV: possibly delisted; no timezone found\n",
      "$GRR: possibly delisted; no price data found  (1d 2023-12-27 -> 2024-01-26)\n"
     ]
    },
    {
     "name": "stdout",
     "output_type": "stream",
     "text": [
      "Error fetching data for ESV: No historical data available for ESV around 2024-01-26.\n",
      "Error fetching data for GRR: No historical data available for GRR around 2024-01-26.\n"
     ]
    },
    {
     "name": "stderr",
     "output_type": "stream",
     "text": [
      "$KCC: possibly delisted; no price data found  (1d 2023-12-27 -> 2024-01-26)\n"
     ]
    },
    {
     "name": "stdout",
     "output_type": "stream",
     "text": [
      "Error fetching data for KCC: No historical data available for KCC around 2024-01-26.\n"
     ]
    },
    {
     "name": "stderr",
     "output_type": "stream",
     "text": [
      "$IMPV: possibly delisted; no price data found  (1d 2023-12-27 -> 2024-01-26)\n"
     ]
    },
    {
     "name": "stdout",
     "output_type": "stream",
     "text": [
      "Error fetching data for IMPV: No historical data available for IMPV around 2024-01-26.\n"
     ]
    },
    {
     "name": "stderr",
     "output_type": "stream",
     "text": [
      "$XAA: possibly delisted; no price data found  (1d 2023-12-27 -> 2024-01-26)\n"
     ]
    },
    {
     "name": "stdout",
     "output_type": "stream",
     "text": [
      "Error fetching data for XAA: No historical data available for XAA around 2024-01-26.\n"
     ]
    },
    {
     "name": "stderr",
     "output_type": "stream",
     "text": [
      "$MNR-A: possibly delisted; no timezone found\n"
     ]
    },
    {
     "name": "stdout",
     "output_type": "stream",
     "text": [
      "Error fetching data for MNR-A: No historical data available for MNR-A around 2024-01-26.\n"
     ]
    },
    {
     "name": "stderr",
     "output_type": "stream",
     "text": [
      "$OINK: possibly delisted; no timezone found\n"
     ]
    },
    {
     "name": "stdout",
     "output_type": "stream",
     "text": [
      "Error fetching data for OINK: No historical data available for OINK around 2024-01-26.\n"
     ]
    },
    {
     "name": "stderr",
     "output_type": "stream",
     "text": [
      "$FBR: possibly delisted; no price data found  (1d 2023-12-27 -> 2024-01-26)\n"
     ]
    },
    {
     "name": "stdout",
     "output_type": "stream",
     "text": [
      "Error fetching data for FBR: No historical data available for FBR around 2024-01-26.\n"
     ]
    },
    {
     "name": "stderr",
     "output_type": "stream",
     "text": [
      "$ESBK: possibly delisted; no timezone found\n",
      "$ROIAK: possibly delisted; no price data found  (1d 2023-12-27 -> 2024-01-26)\n"
     ]
    },
    {
     "name": "stdout",
     "output_type": "stream",
     "text": [
      "Error fetching data for ESBK: No historical data available for ESBK around 2024-01-26.\n",
      "Error fetching data for ROIAK: No historical data available for ROIAK around 2024-01-26.\n"
     ]
    },
    {
     "name": "stderr",
     "output_type": "stream",
     "text": [
      "$RPTP: possibly delisted; no price data found  (1d 2023-12-27 -> 2024-01-26)\n"
     ]
    },
    {
     "name": "stdout",
     "output_type": "stream",
     "text": [
      "Error fetching data for RPTP: No historical data available for RPTP around 2024-01-26.\n"
     ]
    },
    {
     "name": "stderr",
     "output_type": "stream",
     "text": [
      "$ELLI: possibly delisted; no timezone found\n"
     ]
    },
    {
     "name": "stdout",
     "output_type": "stream",
     "text": [
      "Error fetching data for ELLI: No historical data available for ELLI around 2024-01-26.\n"
     ]
    },
    {
     "name": "stderr",
     "output_type": "stream",
     "text": [
      "$ENDP: possibly delisted; no timezone found\n",
      "$KIPS: possibly delisted; no price data found  (1d 2023-12-27 -> 2024-01-26)\n"
     ]
    },
    {
     "name": "stdout",
     "output_type": "stream",
     "text": [
      "Error fetching data for ENDP: No historical data available for ENDP around 2024-01-26.\n",
      "Error fetching data for KIPS: No historical data available for KIPS around 2024-01-26.\n"
     ]
    },
    {
     "name": "stderr",
     "output_type": "stream",
     "text": [
      "$HFC: possibly delisted; no timezone found\n"
     ]
    },
    {
     "name": "stdout",
     "output_type": "stream",
     "text": [
      "Error fetching data for HFC: No historical data available for HFC around 2024-01-26.\n"
     ]
    },
    {
     "name": "stderr",
     "output_type": "stream",
     "text": [
      "$O-F: possibly delisted; no timezone found\n",
      "$FRM: possibly delisted; no price data found  (1d 2023-12-27 -> 2024-01-26)\n"
     ]
    },
    {
     "name": "stdout",
     "output_type": "stream",
     "text": [
      "Error fetching data for O-F: No historical data available for O-F around 2024-01-26.\n",
      "Error fetching data for FRM: No historical data available for FRM around 2024-01-26.\n"
     ]
    },
    {
     "name": "stderr",
     "output_type": "stream",
     "text": [
      "$CBF: possibly delisted; no price data found  (1d 2023-12-27 -> 2024-01-26)\n",
      "$NYLD: possibly delisted; no price data found  (1d 2023-12-27 -> 2024-01-26)\n"
     ]
    },
    {
     "name": "stdout",
     "output_type": "stream",
     "text": [
      "Error fetching data for CBF: No historical data available for CBF around 2024-01-26.\n",
      "Error fetching data for NYLD: No historical data available for NYLD around 2024-01-26.\n"
     ]
    },
    {
     "name": "stderr",
     "output_type": "stream",
     "text": [
      "$SYBTP: possibly delisted; no price data found  (1d 2023-12-27 -> 2024-01-26)\n",
      "$XXIA: possibly delisted; no price data found  (1d 2023-12-27 -> 2024-01-26)\n"
     ]
    },
    {
     "name": "stdout",
     "output_type": "stream",
     "text": [
      "Error fetching data for SYBTP: No historical data available for SYBTP around 2024-01-26.\n",
      "Error fetching data for XXIA: No historical data available for XXIA around 2024-01-26.\n"
     ]
    },
    {
     "name": "stderr",
     "output_type": "stream",
     "text": [
      "$ARK: possibly delisted; no price data found  (1d 2023-12-27 -> 2024-01-26)\n"
     ]
    },
    {
     "name": "stdout",
     "output_type": "stream",
     "text": [
      "Error fetching data for ARK: No historical data available for ARK around 2024-01-26.\n"
     ]
    },
    {
     "name": "stderr",
     "output_type": "stream",
     "text": [
      "$NEV: possibly delisted; no timezone found\n",
      "$ERS: possibly delisted; no price data found  (1d 2023-12-27 -> 2024-01-26)\n"
     ]
    },
    {
     "name": "stdout",
     "output_type": "stream",
     "text": [
      "Error fetching data for NEV: No historical data available for NEV around 2024-01-26.\n",
      "Error fetching data for ERS: No historical data available for ERS around 2024-01-26.\n"
     ]
    },
    {
     "name": "stderr",
     "output_type": "stream",
     "text": [
      "$FISV: possibly delisted; no price data found  (1d 2023-12-27 -> 2024-01-26) (Yahoo error = \"No data found, symbol may be delisted\")\n"
     ]
    },
    {
     "name": "stdout",
     "output_type": "stream",
     "text": [
      "Error fetching data for FISV: No historical data available for FISV around 2024-01-26.\n"
     ]
    },
    {
     "name": "stderr",
     "output_type": "stream",
     "text": [
      "$PSA-Q: possibly delisted; no timezone found\n"
     ]
    },
    {
     "name": "stdout",
     "output_type": "stream",
     "text": [
      "Error fetching data for PSA-Q: No historical data available for PSA-Q around 2024-01-26.\n"
     ]
    },
    {
     "data": {
      "text/html": [],
      "text/plain": [
       "<IPython.core.display.HTML object>"
      ]
     },
     "metadata": {},
     "output_type": "display_data"
    },
    {
     "name": "stdout",
     "output_type": "stream",
     "text": [
      "Logged evaluation results to /Users/victor/Documents/GitHub/VS-Code/Side-Projects/TrainedModels/stockScreener/modelEvaluations.csv\n"
     ]
    },
    {
     "data": {
      "image/png": "[encoded data removed]",
      "text/plain": [
       "<Figure size 1200x800 with 2 Axes>"
      ]
     },
     "metadata": {},
     "output_type": "display_data"
    },
    {
     "name": "stdout",
     "output_type": "stream",
     "text": [
      "Collected 300 valid test tickers (target: 300)\n",
      "\n",
      "Evaluation Results:\n",
      "MAE: 0.709\n",
      "RMSE: 1.057\n",
      "R²: -2.524\n"
     ]
    }
   ],
   "source": [
    "def logEvaluation(model_name, mae, rmse, r2, model_folder, test_tickers):\n",
    "    \"\"\"Log evaluation metrics to CSV file\"\"\"\n",
    "    log_file = model_folder / \"modelEvaluations.csv\"\n",
    "    \n",
    "    new_entry_df = pd.DataFrame([{\n",
    "        \"Model Name\": model_name,\n",
    "        \"Timestamp\": datetime.now().strftime('%Y-%m-%d %H:%M'),\n",
    "        \"MAE\": f'{mae:.3f}',\n",
    "        \"RMSE\": f'{rmse:.3f}',\n",
    "        \"R2\": f'{r2:.3f}',\n",
    "        \"Epochs\": epochs,\n",
    "        \"Training Size\": trainingSize,\n",
    "        \"Test Size\": len(test_tickers),\n",
    "        \"Cat Names\": catNames,\n",
    "        \"Cont Names\": contNames,\n",
    "    }])\n",
    "    \n",
    "    try:\n",
    "        log_df = pd.read_csv(log_file)\n",
    "        log_df = pd.concat([log_df, new_entry_df], ignore_index=True)\n",
    "    except FileNotFoundError:\n",
    "        log_df = new_entry_df\n",
    "        \n",
    "    log_df.to_csv(log_file, index=False)\n",
    "    print(f\"Logged evaluation results to {log_file}\")\n",
    "\n",
    "def plotResults(results_df, model_name, model_folder):\n",
    "    \"\"\"Create and save visualization plots using all data points.\"\"\"\n",
    "    plt.figure(figsize=(12, 8))\n",
    "    \n",
    "    plt.subplot(2, 1, 1)\n",
    "    plt.scatter(results_df['Actual'], results_df['Predicted'], alpha=0.7, label='Predictions')\n",
    "    min_val = min(results_df['Actual'].min(), results_df['Predicted'].min())\n",
    "    max_val = max(results_df['Actual'].max(), results_df['Predicted'].max())\n",
    "    plt.plot([min_val, max_val], [min_val, max_val], color='red', linestyle='--', label='Perfect Prediction')\n",
    "    plt.title(f'Predicted vs. Actual Returns - {model_name}', fontsize=14)\n",
    "    plt.xlabel('Actual Returns')\n",
    "    plt.ylabel('Predicted Returns')\n",
    "    plt.legend()\n",
    "    plt.grid(alpha=0.5)\n",
    "    \n",
    "    plt.subplot(2, 1, 2)\n",
    "    plt.scatter(results_df['Predicted'], results_df['Residual'], alpha=0.7)\n",
    "    plt.axhline(y=0, color='r', linestyle='--')\n",
    "    plt.title('Residual Plot')\n",
    "    plt.xlabel('Predicted Returns')\n",
    "    plt.ylabel('Residual')\n",
    "    plt.grid(alpha=0.5)\n",
    "    \n",
    "    plt.tight_layout()\n",
    "    plt.show()\n",
    "\n",
    "def evaluateModel(learn, test_data, model_name, model_folder, cont_names, cat_names):\n",
    "    \"\"\"Evaluate model on pre-collected test data\"\"\"\n",
    "    # Clean data\n",
    "    test_data_clean = test_data.dropna(subset=['EV/EBIT', 'ROIC', 'Future Year Change'])\n",
    "    \n",
    "    if test_data_clean.empty:\n",
    "        raise ValueError(\"No valid test data after cleaning NaN values\")\n",
    "\n",
    "    # Create test dataloader\n",
    "    test_dl = learn.dls.test_dl(test_data_clean)\n",
    "    preds, targs = learn.get_preds(dl=test_dl)\n",
    "    \n",
    "    # Create results DataFrame\n",
    "    results_df = pd.DataFrame({\n",
    "        'Predicted': preds.numpy().flatten(),\n",
    "        'Actual': targs.numpy().flatten()\n",
    "    })\n",
    "    results_df['Residual'] = results_df['Actual'] - results_df['Predicted']\n",
    "\n",
    "    # Calculate metrics\n",
    "    mae = np.mean(np.abs(results_df['Residual']))\n",
    "    rmse = np.sqrt(np.mean(results_df['Residual']**2))\n",
    "    r2 = 1 - (np.sum(results_df['Residual']**2) / np.sum((results_df['Actual'] - results_df['Actual'].mean())**2))\n",
    "\n",
    "    # Log and plot\n",
    "    logEvaluation(model_name, mae, rmse, r2, model_folder, test_data_clean['Ticker'].unique())\n",
    "    plotResults(results_df, model_name, model_folder)\n",
    "    \n",
    "    return mae, rmse, r2\n",
    "\n",
    "if trainNewModel:\n",
    "    nonTrainingTickers = list(set(tickers) - set(trainingTickers))\n",
    "    validTestData = []\n",
    "    attempted_tickers = set()\n",
    "    attempts = 0\n",
    "\n",
    "    if testSize * 4 <= len(tickers):  \n",
    "        max_attempts = testSize * 4 # Prevent infinite loops\n",
    "    else:\n",
    "        max_attempts = len(tickers)\n",
    "\n",
    "    # Keep trying until we reach testSize or exhaust attempts\n",
    "    while len(validTestData) < testSize and attempts < max_attempts:\n",
    "        # Get a new ticker we haven't tried yet\n",
    "        remaining_tickers = [t for t in nonTrainingTickers if t not in attempted_tickers]\n",
    "        if not remaining_tickers:  # If all tried, reset attempted list\n",
    "            attempted_tickers = set()\n",
    "            remaining_tickers = nonTrainingTickers\n",
    "            \n",
    "        ticker = np.random.choice(remaining_tickers)\n",
    "        attempted_tickers.add(ticker)\n",
    "        attempts += 1\n",
    "\n",
    "        # Fetch and validate data\n",
    "        data = getTickerDataFrom1YrAgo(ticker)\n",
    "        if not data.empty and not data[['EV/EBIT', 'ROIC']].isna().any().any():\n",
    "            validTestData.append(data)\n",
    "\n",
    "    if not validTestData:\n",
    "        raise ValueError(\"No valid test data collected after multiple attempts\")\n",
    "        \n",
    "    # Trim to exact testSize if we collected more\n",
    "    validTestData = validTestData[:testSize]  \n",
    "    combinedTestData = pd.concat(validTestData, ignore_index=True)\n",
    "\n",
    "    # Run evaluation\n",
    "    mae, rmse, r2 = evaluateModel(\n",
    "        learn=learn,\n",
    "        test_data=combinedTestData,\n",
    "        model_name=modelName,\n",
    "        model_folder=modelFolder,\n",
    "        cont_names=contNames,\n",
    "        cat_names=catNames\n",
    "    )\n",
    "\n",
    "    # Show collection stats\n",
    "    print(f\"Collected {len(validTestData)} valid test tickers (target: {testSize})\")\n",
    "    if attempts >= max_attempts:\n",
    "        print(f\"Warning: Reached max attempts ({max_attempts}). Some invalid tickers may remain.\")  \n",
    "    print(f\"\\nEvaluation Results:\")\n",
    "    print(f\"MAE: {mae:.3f}\")\n",
    "    print(f\"RMSE: {rmse:.3f}\")\n",
    "    print(f\"R²: {r2:.3f}\")"
   ]
  },
  {
   "cell_type": "markdown",
   "metadata": {},
   "source": [
    "## Tests"
   ]
  },
  {
   "cell_type": "code",
   "execution_count": 56,
   "metadata": {},
   "outputs": [
    {
     "name": "stdout",
     "output_type": "stream",
     "text": [
      "Model files in modelFolder:\n",
      "stockScreenerV6.0.pkl\n",
      "stockScreenerV4.1.pkl\n",
      "stockScreenerV4.0.pkl\n",
      "stockScreenerV2.0.pkl\n",
      "stockScreenerV5.1.pkl\n",
      "stockScreenerV5.0.pkl\n",
      "stockScreenerV5.2.pkl\n",
      "stockScreenerV5.3.pkl\n",
      "stockScreenerV3.0.pkl\n",
      "stockScreenerV5.4.pkl\n",
      "stockScreenerV1.0.pkl\n",
      "stockScreenerV11.0.pkl\n",
      "stockScreenerV8.0.pkl\n",
      "stockScreenerV8.1.pkl\n",
      "stockScreenerV8.3.pkl\n",
      "stockScreenerV10.0.pkl\n",
      "stockScreenerV8.2.pkl\n"
     ]
    }
   ],
   "source": [
    "print('Model files in modelFolder:')\n",
    "for file in modelFolder.glob('*.pkl'):\n",
    "    print(file.name)"
   ]
  },
  {
   "cell_type": "code",
   "execution_count": 57,
   "metadata": {},
   "outputs": [
    {
     "data": {
      "text/plain": [
       "Model Name    stockScreenerV5.0\n",
       "Timestamp      2025-01-21 21:03\n",
       "MAE                       0.237\n",
       "RMSE                      0.302\n",
       "R2                       -0.002\n",
       "Name: 5, dtype: object"
      ]
     },
     "execution_count": 57,
     "metadata": {},
     "output_type": "execute_result"
    }
   ],
   "source": [
    "evaluations = pd.read_csv(modelFolder / 'modelEvaluations.csv')\n",
    "bestModel = evaluations.sort_values('MAE', ascending=True).iloc[0]\n",
    "bestModel.head()"
   ]
  },
  {
   "cell_type": "markdown",
   "metadata": {},
   "source": [
    "### Load model"
   ]
  },
  {
   "cell_type": "code",
   "execution_count": 58,
   "metadata": {},
   "outputs": [],
   "source": [
    "if os.name == 'nt':\n",
    "    temp = pathlib.PosixPath\n",
    "    pathlib.PosixPath = pathlib.WindowsPath\n",
    "else:\n",
    "    pathlib.WindowsPath = pathlib.PosixPath\n",
    "\n",
    "importedModel = Path(f\"{bestModel['Model Name']}.pkl\") # Change this if you want to try other models\n",
    "learn = load_learner(modelFolder / importedModel)"
   ]
  },
  {
   "cell_type": "markdown",
   "metadata": {},
   "source": [
    "## Predictions"
   ]
  },
  {
   "cell_type": "code",
   "execution_count": 59,
   "metadata": {},
   "outputs": [
    {
     "data": {
      "text/html": [],
      "text/plain": [
       "<IPython.core.display.HTML object>"
      ]
     },
     "metadata": {},
     "output_type": "display_data"
    },
    {
     "name": "stdout",
     "output_type": "stream",
     "text": [
      "Prediction for NVO (Novo Nordisk A/S):\n",
      "51.46%\n",
      "Free money?!\n"
     ]
    }
   ],
   "source": [
    "if predictionTarget != 'None':\n",
    "    if predictionTarget == 'ALL':\n",
    "        predictionTickers = tickers\n",
    "    elif predictionTarget.endswith('%'):\n",
    "        percentage = float(predictionTarget.strip('%')) / 100\n",
    "        num_tickers = int(len(tickers) * percentage)\n",
    "        predictionTickers = np.random.choice(tickers, size=num_tickers, replace=False).tolist()\n",
    "    else:\n",
    "        predictionTickers = [predictionTarget]\n",
    "\n",
    "    # Fetch data for prediction tickers\n",
    "    dfPrediction = pd.concat([getTickerData(ticker) for ticker in predictionTickers], ignore_index=True)\n",
    "\n",
    "    # Ensure dfPrediction is a DataFrame\n",
    "    if isinstance(dfPrediction, dict):\n",
    "        dfPrediction = pd.DataFrame([dfPrediction])\n",
    "\n",
    "    # Create test dataloader\n",
    "    dl = learn.dls.test_dl(dfPrediction)\n",
    "    dfPrediction.head()\n",
    "\n",
    "    # Make predictions\n",
    "    prediction = learn.get_preds(dl=dl)\n",
    "    adr_df = pd.read_csv(testFolder / 'tickers.csv')\n",
    "    company_dict = dict(zip(adr_df['Ticker'], adr_df['Company']))\n",
    "\n",
    "    if predictionTarget == 'ALL' or predictionTarget.endswith('%'):\n",
    "        sorted_predictions = sorted(zip(predictionTickers, prediction[0]), key=lambda x: x[1], reverse=True)\n",
    "        print(f\"Got predictions for {len(sorted_predictions)} tickers, expected: {len(predictionTickers)}\")\n",
    "        print(f\"Prediction for best performing tickers:\")\n",
    "        for symbol, pred in sorted_predictions:\n",
    "            company_name = company_dict.get(symbol, 'Unknown')\n",
    "            print(f\"{symbol} ({company_name}): {pred[0].item() * 100:.2f}%\")\n",
    "    else:\n",
    "        company_name = company_dict.get(predictionTarget, 'Unknown')\n",
    "        print(f\"Prediction for {predictionTarget} ({company_name}):\")\n",
    "        print(f\"{prediction[0][0][0].item() * 100:.2f}%\")\n",
    "    print(\"Free money?!\")\n",
    "\n",
    "predictionTarget = '8%'"
   ]
  },
  {
   "cell_type": "code",
   "execution_count": null,
   "metadata": {},
   "outputs": [],
   "source": []
  },
  {
   "cell_type": "code",
   "execution_count": null,
   "metadata": {},
   "outputs": [],
   "source": []
  }
 ],
 "metadata": {
  "kernelspec": {
   "display_name": "base",
   "language": "python",
   "name": "python3"
  },
  "language_info": {
   "codemirror_mode": {
    "name": "ipython",
    "version": 3
   },
   "file_extension": ".py",
   "mimetype": "text/x-python",
   "name": "python",
   "nbconvert_exporter": "python",
   "pygments_lexer": "ipython3",
   "version": "3.12.2"
  }
 },
 "nbformat": 4,
 "nbformat_minor": 2
}
