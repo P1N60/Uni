{
 "cells": [
  {
   "cell_type": "markdown",
   "metadata": {},
   "source": [
    "## Tabular training"
   ]
  },
  {
   "cell_type": "code",
   "execution_count": 1,
   "metadata": {},
   "outputs": [],
   "source": [
    "# Install libraries on first run\n",
    "#! pip install -q ipynb fastai pathlib pandas import_ipynb numpy"
   ]
  },
  {
   "cell_type": "code",
   "execution_count": 2,
   "metadata": {},
   "outputs": [],
   "source": [
    "from fastai.tabular.all import *\n",
    "import yfinance as yf\n",
    "from pathlib import Path\n",
    "import pandas as pd\n",
    "import matplotlib.pyplot as plt\n",
    "from datetime import datetime\n",
    "import import_ipynb\n",
    "import numpy as np\n",
    "import random"
   ]
  },
  {
   "cell_type": "markdown",
   "metadata": {},
   "source": [
    "## Variables"
   ]
  },
  {
   "cell_type": "code",
   "execution_count": 3,
   "metadata": {},
   "outputs": [],
   "source": [
    "modelName = 'stockScreenerV3.0'\n",
    "trainingDataName = 'stockData.csv'\n",
    "trainingFolder = Path.cwd().parent / 'TrainingData'\n",
    "modelFolder = Path.cwd().parent.parent / 'TrainedModels'\n",
    "testFolder = Path.cwd().parent / 'TestData'\n",
    "\n",
    "# Training parameters\n",
    "yNames = ['Future Year Change']\n",
    "catNames = ['Industry']\n",
    "contNames = [\n",
    "    'Open',\n",
    "    'High', \n",
    "    'Low', \n",
    "    'Close', \n",
    "    'Volume', \n",
    "    'Dividends', \n",
    "    'Stock Splits', \n",
    "    'EV/EBIT', \n",
    "    'ROIC'\n",
    "]\n",
    "epochs = 2\n",
    "\n",
    "# Test parameters\n",
    "testSize = 100 # Number of stocks to test"
   ]
  },
  {
   "cell_type": "markdown",
   "metadata": {},
   "source": [
    "Then we can have a look at how the data is structured:"
   ]
  },
  {
   "cell_type": "code",
   "execution_count": 4,
   "metadata": {},
   "outputs": [
    {
     "data": {
      "text/html": [
       "<div>\n",
       "<style scoped>\n",
       "    .dataframe tbody tr th:only-of-type {\n",
       "        vertical-align: middle;\n",
       "    }\n",
       "\n",
       "    .dataframe tbody tr th {\n",
       "        vertical-align: top;\n",
       "    }\n",
       "\n",
       "    .dataframe thead th {\n",
       "        text-align: right;\n",
       "    }\n",
       "</style>\n",
       "<table border=\"1\" class=\"dataframe\">\n",
       "  <thead>\n",
       "    <tr style=\"text-align: right;\">\n",
       "      <th></th>\n",
       "      <th>Date</th>\n",
       "      <th>Open</th>\n",
       "      <th>High</th>\n",
       "      <th>Low</th>\n",
       "      <th>Close</th>\n",
       "      <th>Volume</th>\n",
       "      <th>Dividends</th>\n",
       "      <th>Stock Splits</th>\n",
       "      <th>Future Year Change</th>\n",
       "      <th>Ticker</th>\n",
       "      <th>Industry</th>\n",
       "      <th>Adj Close</th>\n",
       "      <th>EV/EBIT</th>\n",
       "      <th>ROIC</th>\n",
       "    </tr>\n",
       "  </thead>\n",
       "  <tbody>\n",
       "    <tr>\n",
       "      <th>0</th>\n",
       "      <td>1996-11-07 00:00:00-05:00</td>\n",
       "      <td>12.482195</td>\n",
       "      <td>12.534641</td>\n",
       "      <td>12.351079</td>\n",
       "      <td>12.482195</td>\n",
       "      <td>93521.0</td>\n",
       "      <td>0.0</td>\n",
       "      <td>0.0</td>\n",
       "      <td>0.302521</td>\n",
       "      <td>NVS</td>\n",
       "      <td>Drug Manufacturers - General</td>\n",
       "      <td>NaN</td>\n",
       "      <td>5.775368</td>\n",
       "      <td>0.136788</td>\n",
       "    </tr>\n",
       "    <tr>\n",
       "      <th>1</th>\n",
       "      <td>1996-11-08 00:00:00-05:00</td>\n",
       "      <td>12.508417</td>\n",
       "      <td>12.560863</td>\n",
       "      <td>12.351078</td>\n",
       "      <td>12.508417</td>\n",
       "      <td>26338.0</td>\n",
       "      <td>0.0</td>\n",
       "      <td>0.0</td>\n",
       "      <td>0.274633</td>\n",
       "      <td>NVS</td>\n",
       "      <td>Drug Manufacturers - General</td>\n",
       "      <td>NaN</td>\n",
       "      <td>5.782366</td>\n",
       "      <td>0.136622</td>\n",
       "    </tr>\n",
       "    <tr>\n",
       "      <th>2</th>\n",
       "      <td>1996-11-11 00:00:00-05:00</td>\n",
       "      <td>12.665755</td>\n",
       "      <td>12.744425</td>\n",
       "      <td>12.508418</td>\n",
       "      <td>12.665755</td>\n",
       "      <td>22097.0</td>\n",
       "      <td>0.0</td>\n",
       "      <td>0.0</td>\n",
       "      <td>0.274068</td>\n",
       "      <td>NVS</td>\n",
       "      <td>Drug Manufacturers - General</td>\n",
       "      <td>NaN</td>\n",
       "      <td>5.824358</td>\n",
       "      <td>0.135637</td>\n",
       "    </tr>\n",
       "    <tr>\n",
       "      <th>3</th>\n",
       "      <td>1996-11-12 00:00:00-05:00</td>\n",
       "      <td>12.560862</td>\n",
       "      <td>12.691977</td>\n",
       "      <td>12.482191</td>\n",
       "      <td>12.560862</td>\n",
       "      <td>78343.0</td>\n",
       "      <td>0.0</td>\n",
       "      <td>0.0</td>\n",
       "      <td>0.286012</td>\n",
       "      <td>NVS</td>\n",
       "      <td>Drug Manufacturers - General</td>\n",
       "      <td>NaN</td>\n",
       "      <td>5.796363</td>\n",
       "      <td>0.136292</td>\n",
       "    </tr>\n",
       "    <tr>\n",
       "      <th>4</th>\n",
       "      <td>1996-11-13 00:00:00-05:00</td>\n",
       "      <td>12.534638</td>\n",
       "      <td>12.587085</td>\n",
       "      <td>12.377301</td>\n",
       "      <td>12.534638</td>\n",
       "      <td>27007.0</td>\n",
       "      <td>0.0</td>\n",
       "      <td>0.0</td>\n",
       "      <td>0.255230</td>\n",
       "      <td>NVS</td>\n",
       "      <td>Drug Manufacturers - General</td>\n",
       "      <td>NaN</td>\n",
       "      <td>5.789364</td>\n",
       "      <td>0.136457</td>\n",
       "    </tr>\n",
       "  </tbody>\n",
       "</table>\n",
       "</div>"
      ],
      "text/plain": [
       "                        Date       Open       High        Low      Close  \\\n",
       "0  1996-11-07 00:00:00-05:00  12.482195  12.534641  12.351079  12.482195   \n",
       "1  1996-11-08 00:00:00-05:00  12.508417  12.560863  12.351078  12.508417   \n",
       "2  1996-11-11 00:00:00-05:00  12.665755  12.744425  12.508418  12.665755   \n",
       "3  1996-11-12 00:00:00-05:00  12.560862  12.691977  12.482191  12.560862   \n",
       "4  1996-11-13 00:00:00-05:00  12.534638  12.587085  12.377301  12.534638   \n",
       "\n",
       "    Volume  Dividends  Stock Splits  Future Year Change Ticker  \\\n",
       "0  93521.0        0.0           0.0            0.302521    NVS   \n",
       "1  26338.0        0.0           0.0            0.274633    NVS   \n",
       "2  22097.0        0.0           0.0            0.274068    NVS   \n",
       "3  78343.0        0.0           0.0            0.286012    NVS   \n",
       "4  27007.0        0.0           0.0            0.255230    NVS   \n",
       "\n",
       "                       Industry  Adj Close   EV/EBIT      ROIC  \n",
       "0  Drug Manufacturers - General        NaN  5.775368  0.136788  \n",
       "1  Drug Manufacturers - General        NaN  5.782366  0.136622  \n",
       "2  Drug Manufacturers - General        NaN  5.824358  0.135637  \n",
       "3  Drug Manufacturers - General        NaN  5.796363  0.136292  \n",
       "4  Drug Manufacturers - General        NaN  5.789364  0.136457  "
      ]
     },
     "execution_count": 4,
     "metadata": {},
     "output_type": "execute_result"
    }
   ],
   "source": [
    "dataPath = Path()\n",
    "df = pd.read_csv(trainingFolder/trainingDataName)\n",
    "df.head()"
   ]
  },
  {
   "cell_type": "markdown",
   "metadata": {},
   "source": [
    "Some of the columns are continuous (like age) and we will treat them as float numbers we can feed our model directly. Others are categorical (like workclass or education) and we will convert them to a unique index that we will feed to embedding layers. We can specify our categorical and continuous column names, as well as the name of the dependent variable in TabularDataLoaders factory methods:"
   ]
  },
  {
   "cell_type": "code",
   "execution_count": 5,
   "metadata": {},
   "outputs": [
    {
     "name": "stderr",
     "output_type": "stream",
     "text": [
      "c:\\Users\\Gamer\\miniconda3\\Lib\\site-packages\\fastai\\tabular\\core.py:314: FutureWarning: A value is trying to be set on a copy of a DataFrame or Series through chained assignment using an inplace method.\n",
      "The behavior will change in pandas 3.0. This inplace method will never work because the intermediate object on which we are setting values always behaves as a copy.\n",
      "\n",
      "For example, when doing 'df[col].method(value, inplace=True)', try using 'df.method({col: value}, inplace=True)' or df[col] = df[col].method(value) instead, to perform the operation inplace on the original object.\n",
      "\n",
      "\n",
      "  to[n].fillna(self.na_dict[n], inplace=True)\n",
      "c:\\Users\\Gamer\\miniconda3\\Lib\\site-packages\\fastai\\tabular\\core.py:314: FutureWarning: A value is trying to be set on a copy of a DataFrame or Series through chained assignment using an inplace method.\n",
      "The behavior will change in pandas 3.0. This inplace method will never work because the intermediate object on which we are setting values always behaves as a copy.\n",
      "\n",
      "For example, when doing 'df[col].method(value, inplace=True)', try using 'df.method({col: value}, inplace=True)' or df[col] = df[col].method(value) instead, to perform the operation inplace on the original object.\n",
      "\n",
      "\n",
      "  to[n].fillna(self.na_dict[n], inplace=True)\n"
     ]
    }
   ],
   "source": [
    "dls = TabularDataLoaders.from_csv(trainingFolder/trainingDataName, path=dataPath, \n",
    "    y_names=yNames,\n",
    "    cat_names=catNames,\n",
    "    cont_names=contNames,\n",
    "    procs = [Categorify, FillMissing, Normalize])"
   ]
  },
  {
   "cell_type": "markdown",
   "metadata": {},
   "source": [
    "The last part is the list of pre-processors we apply to our data:\n",
    "\n",
    "* Categorify is going to take every categorical variable and make a map from integer to unique categories, then replace the values by the corresponding index.\n",
    "* FillMissing will fill the missing values in the continuous variables by the median of existing values (you can choose a specific value if you prefer)\n",
    "* Normalize will normalize the continuous variables (subtract the mean and divide by the std)\n",
    "\n",
    "To further expose what’s going on below the surface, let’s rewrite this utilizing fastai’s TabularPandas class. We will need to make one adjustment, which is defining how we want to split our data. By default the factory method above used a random 80/20 split, so we will do the same:"
   ]
  },
  {
   "cell_type": "code",
   "execution_count": 6,
   "metadata": {},
   "outputs": [],
   "source": [
    "splits = EndSplitter (valid_pct=0.2, valid_last=True)(range_of(df))"
   ]
  },
  {
   "cell_type": "code",
   "execution_count": 7,
   "metadata": {},
   "outputs": [
    {
     "name": "stderr",
     "output_type": "stream",
     "text": [
      "c:\\Users\\Gamer\\miniconda3\\Lib\\site-packages\\fastai\\tabular\\core.py:314: FutureWarning: A value is trying to be set on a copy of a DataFrame or Series through chained assignment using an inplace method.\n",
      "The behavior will change in pandas 3.0. This inplace method will never work because the intermediate object on which we are setting values always behaves as a copy.\n",
      "\n",
      "For example, when doing 'df[col].method(value, inplace=True)', try using 'df.method({col: value}, inplace=True)' or df[col] = df[col].method(value) instead, to perform the operation inplace on the original object.\n",
      "\n",
      "\n",
      "  to[n].fillna(self.na_dict[n], inplace=True)\n",
      "c:\\Users\\Gamer\\miniconda3\\Lib\\site-packages\\fastai\\tabular\\core.py:314: FutureWarning: A value is trying to be set on a copy of a DataFrame or Series through chained assignment using an inplace method.\n",
      "The behavior will change in pandas 3.0. This inplace method will never work because the intermediate object on which we are setting values always behaves as a copy.\n",
      "\n",
      "For example, when doing 'df[col].method(value, inplace=True)', try using 'df.method({col: value}, inplace=True)' or df[col] = df[col].method(value) instead, to perform the operation inplace on the original object.\n",
      "\n",
      "\n",
      "  to[n].fillna(self.na_dict[n], inplace=True)\n"
     ]
    }
   ],
   "source": [
    "to = TabularPandas(df, procs=[Categorify, FillMissing, Normalize],\n",
    "    y_names=yNames,\n",
    "    cat_names = catNames,\n",
    "    cont_names = contNames,\n",
    "    splits=splits)"
   ]
  },
  {
   "cell_type": "markdown",
   "metadata": {},
   "source": [
    "Once we build our TabularPandas object, our data is completely preprocessed as seen below:"
   ]
  },
  {
   "cell_type": "code",
   "execution_count": 8,
   "metadata": {},
   "outputs": [
    {
     "data": {
      "text/html": [
       "<div>\n",
       "<style scoped>\n",
       "    .dataframe tbody tr th:only-of-type {\n",
       "        vertical-align: middle;\n",
       "    }\n",
       "\n",
       "    .dataframe tbody tr th {\n",
       "        vertical-align: top;\n",
       "    }\n",
       "\n",
       "    .dataframe thead th {\n",
       "        text-align: right;\n",
       "    }\n",
       "</style>\n",
       "<table border=\"1\" class=\"dataframe\">\n",
       "  <thead>\n",
       "    <tr style=\"text-align: right;\">\n",
       "      <th></th>\n",
       "      <th>Industry</th>\n",
       "      <th>EV/EBIT_na</th>\n",
       "      <th>ROIC_na</th>\n",
       "      <th>Open</th>\n",
       "      <th>High</th>\n",
       "      <th>Low</th>\n",
       "      <th>Close</th>\n",
       "      <th>Volume</th>\n",
       "      <th>Dividends</th>\n",
       "      <th>Stock Splits</th>\n",
       "      <th>EV/EBIT</th>\n",
       "      <th>ROIC</th>\n",
       "    </tr>\n",
       "  </thead>\n",
       "  <tbody>\n",
       "    <tr>\n",
       "      <th>0</th>\n",
       "      <td>14</td>\n",
       "      <td>1</td>\n",
       "      <td>1</td>\n",
       "      <td>-0.213232</td>\n",
       "      <td>-0.21596</td>\n",
       "      <td>-0.214281</td>\n",
       "      <td>-0.21477</td>\n",
       "      <td>-0.506834</td>\n",
       "      <td>-0.047449</td>\n",
       "      <td>-0.014296</td>\n",
       "      <td>-0.097244</td>\n",
       "      <td>-0.095044</td>\n",
       "    </tr>\n",
       "  </tbody>\n",
       "</table>\n",
       "</div>"
      ],
      "text/plain": [
       "   Industry  EV/EBIT_na  ROIC_na      Open     High       Low    Close  \\\n",
       "0        14           1        1 -0.213232 -0.21596 -0.214281 -0.21477   \n",
       "\n",
       "     Volume  Dividends  Stock Splits   EV/EBIT      ROIC  \n",
       "0 -0.506834  -0.047449     -0.014296 -0.097244 -0.095044  "
      ]
     },
     "execution_count": 8,
     "metadata": {},
     "output_type": "execute_result"
    }
   ],
   "source": [
    "to.xs.iloc[:1]"
   ]
  },
  {
   "cell_type": "markdown",
   "metadata": {},
   "source": [
    "Now we can build our DataLoaders again:"
   ]
  },
  {
   "cell_type": "code",
   "execution_count": 9,
   "metadata": {},
   "outputs": [],
   "source": [
    "dls = to.dataloaders(bs=64)"
   ]
  },
  {
   "cell_type": "markdown",
   "metadata": {},
   "source": [
    "The show_batch method works like for every other application:"
   ]
  },
  {
   "cell_type": "code",
   "execution_count": 10,
   "metadata": {},
   "outputs": [
    {
     "data": {
      "text/html": [
       "<table border=\"1\" class=\"dataframe\">\n",
       "  <thead>\n",
       "    <tr style=\"text-align: right;\">\n",
       "      <th></th>\n",
       "      <th>Industry</th>\n",
       "      <th>EV/EBIT_na</th>\n",
       "      <th>ROIC_na</th>\n",
       "      <th>Open</th>\n",
       "      <th>High</th>\n",
       "      <th>Low</th>\n",
       "      <th>Close</th>\n",
       "      <th>Volume</th>\n",
       "      <th>Dividends</th>\n",
       "      <th>Stock Splits</th>\n",
       "      <th>EV/EBIT</th>\n",
       "      <th>ROIC</th>\n",
       "      <th>Future Year Change</th>\n",
       "    </tr>\n",
       "  </thead>\n",
       "  <tbody>\n",
       "    <tr>\n",
       "      <th>0</th>\n",
       "      <td>Gold</td>\n",
       "      <td>False</td>\n",
       "      <td>False</td>\n",
       "      <td>2.118698</td>\n",
       "      <td>2.281673</td>\n",
       "      <td>1.955719</td>\n",
       "      <td>2.118697</td>\n",
       "      <td>8.339994e+04</td>\n",
       "      <td>2.378207e-11</td>\n",
       "      <td>-1.549504e-11</td>\n",
       "      <td>5.251971</td>\n",
       "      <td>0.150419</td>\n",
       "      <td>0.070769</td>\n",
       "    </tr>\n",
       "    <tr>\n",
       "      <th>1</th>\n",
       "      <td>Communication Equipment</td>\n",
       "      <td>False</td>\n",
       "      <td>False</td>\n",
       "      <td>5.487472</td>\n",
       "      <td>5.534897</td>\n",
       "      <td>5.291008</td>\n",
       "      <td>5.419729</td>\n",
       "      <td>9.002200e+06</td>\n",
       "      <td>2.378207e-11</td>\n",
       "      <td>-1.549504e-11</td>\n",
       "      <td>0.345004</td>\n",
       "      <td>2.289823</td>\n",
       "      <td>0.277130</td>\n",
       "    </tr>\n",
       "    <tr>\n",
       "      <th>2</th>\n",
       "      <td>Auto Manufacturers</td>\n",
       "      <td>False</td>\n",
       "      <td>False</td>\n",
       "      <td>14.698119</td>\n",
       "      <td>14.727615</td>\n",
       "      <td>14.560480</td>\n",
       "      <td>14.599805</td>\n",
       "      <td>1.336999e+05</td>\n",
       "      <td>2.378207e-11</td>\n",
       "      <td>-1.549504e-11</td>\n",
       "      <td>3.225746</td>\n",
       "      <td>0.244904</td>\n",
       "      <td>0.224242</td>\n",
       "    </tr>\n",
       "    <tr>\n",
       "      <th>3</th>\n",
       "      <td>Education &amp; Training Services</td>\n",
       "      <td>False</td>\n",
       "      <td>False</td>\n",
       "      <td>3.529997</td>\n",
       "      <td>3.910001</td>\n",
       "      <td>3.520000</td>\n",
       "      <td>3.680000</td>\n",
       "      <td>1.299120e+07</td>\n",
       "      <td>2.378207e-11</td>\n",
       "      <td>-1.549504e-11</td>\n",
       "      <td>-5.154705</td>\n",
       "      <td>-0.153258</td>\n",
       "      <td>0.921196</td>\n",
       "    </tr>\n",
       "    <tr>\n",
       "      <th>4</th>\n",
       "      <td>Banks - Regional</td>\n",
       "      <td>False</td>\n",
       "      <td>False</td>\n",
       "      <td>3.529997</td>\n",
       "      <td>3.549999</td>\n",
       "      <td>3.520000</td>\n",
       "      <td>3.550000</td>\n",
       "      <td>1.416000e+05</td>\n",
       "      <td>2.378207e-11</td>\n",
       "      <td>-1.549504e-11</td>\n",
       "      <td>-103.489479</td>\n",
       "      <td>-0.007633</td>\n",
       "      <td>-0.014084</td>\n",
       "    </tr>\n",
       "    <tr>\n",
       "      <th>5</th>\n",
       "      <td>Steel</td>\n",
       "      <td>False</td>\n",
       "      <td>False</td>\n",
       "      <td>103.854968</td>\n",
       "      <td>107.190900</td>\n",
       "      <td>103.732324</td>\n",
       "      <td>106.921073</td>\n",
       "      <td>2.147200e+06</td>\n",
       "      <td>2.378207e-11</td>\n",
       "      <td>-1.549504e-11</td>\n",
       "      <td>9.562223</td>\n",
       "      <td>0.082616</td>\n",
       "      <td>-0.198726</td>\n",
       "    </tr>\n",
       "    <tr>\n",
       "      <th>6</th>\n",
       "      <td>Solar</td>\n",
       "      <td>False</td>\n",
       "      <td>False</td>\n",
       "      <td>24.832321</td>\n",
       "      <td>25.912374</td>\n",
       "      <td>24.699529</td>\n",
       "      <td>25.301525</td>\n",
       "      <td>1.060500e+06</td>\n",
       "      <td>2.378207e-11</td>\n",
       "      <td>-1.549504e-11</td>\n",
       "      <td>0.995560</td>\n",
       "      <td>0.793523</td>\n",
       "      <td>-0.685094</td>\n",
       "    </tr>\n",
       "    <tr>\n",
       "      <th>7</th>\n",
       "      <td>Drug Manufacturers - General</td>\n",
       "      <td>False</td>\n",
       "      <td>False</td>\n",
       "      <td>67.471870</td>\n",
       "      <td>67.880746</td>\n",
       "      <td>62.872098</td>\n",
       "      <td>67.812599</td>\n",
       "      <td>4.352400e+06</td>\n",
       "      <td>2.378207e-11</td>\n",
       "      <td>-1.549504e-11</td>\n",
       "      <td>20.542476</td>\n",
       "      <td>0.038457</td>\n",
       "      <td>0.114338</td>\n",
       "    </tr>\n",
       "    <tr>\n",
       "      <th>8</th>\n",
       "      <td>Medical Devices</td>\n",
       "      <td>False</td>\n",
       "      <td>False</td>\n",
       "      <td>23.374443</td>\n",
       "      <td>23.702153</td>\n",
       "      <td>23.172775</td>\n",
       "      <td>23.601318</td>\n",
       "      <td>2.353700e+06</td>\n",
       "      <td>2.378207e-11</td>\n",
       "      <td>-1.549504e-11</td>\n",
       "      <td>10.513051</td>\n",
       "      <td>0.075145</td>\n",
       "      <td>-0.574894</td>\n",
       "    </tr>\n",
       "    <tr>\n",
       "      <th>9</th>\n",
       "      <td>Software - Application</td>\n",
       "      <td>False</td>\n",
       "      <td>False</td>\n",
       "      <td>171.800001</td>\n",
       "      <td>179.949988</td>\n",
       "      <td>171.009993</td>\n",
       "      <td>174.039997</td>\n",
       "      <td>4.625900e+06</td>\n",
       "      <td>2.378207e-11</td>\n",
       "      <td>-1.549504e-11</td>\n",
       "      <td>113.372823</td>\n",
       "      <td>0.006968</td>\n",
       "      <td>-0.146231</td>\n",
       "    </tr>\n",
       "  </tbody>\n",
       "</table>"
      ],
      "text/plain": [
       "<IPython.core.display.HTML object>"
      ]
     },
     "metadata": {},
     "output_type": "display_data"
    }
   ],
   "source": [
    "dls.show_batch()"
   ]
  },
  {
   "cell_type": "markdown",
   "metadata": {},
   "source": [
    "We can define a model using the tabular_learner method. When we define our model, fastai will try to infer the loss function based on our y_names earlier.\n",
    "\n",
    "Note: Sometimes with tabular data, your y’s may be encoded (such as 0 and 1). In such a case you should explicitly pass y_block = CategoryBlock in your constructor so fastai won’t presume you are doing regression."
   ]
  },
  {
   "cell_type": "code",
   "execution_count": 11,
   "metadata": {},
   "outputs": [],
   "source": [
    "learn = tabular_learner(dls, metrics=[rmse, mae])"
   ]
  },
  {
   "cell_type": "markdown",
   "metadata": {},
   "source": [
    "And we can train that model with the fit_one_cycle method (the fine_tune method won’t be useful here since we don’t have a pretrained model)."
   ]
  },
  {
   "cell_type": "code",
   "execution_count": 12,
   "metadata": {},
   "outputs": [
    {
     "name": "stdout",
     "output_type": "stream",
     "text": [
      "Training stockScreenerV3.0 for 2 epochs\n"
     ]
    },
    {
     "data": {
      "text/html": [
       "\n",
       "<style>\n",
       "    /* Turns off some styling */\n",
       "    progress {\n",
       "        /* gets rid of default border in Firefox and Opera. */\n",
       "        border: none;\n",
       "        /* Needs to be in here for Safari polyfill so background images work as expected. */\n",
       "        background-size: auto;\n",
       "    }\n",
       "    progress:not([value]), progress:not([value])::-webkit-progress-bar {\n",
       "        background: repeating-linear-gradient(45deg, #7e7e7e, #7e7e7e 10px, #5c5c5c 10px, #5c5c5c 20px);\n",
       "    }\n",
       "    .progress-bar-interrupted, .progress-bar-interrupted::-webkit-progress-bar {\n",
       "        background: #F44336;\n",
       "    }\n",
       "</style>\n"
      ],
      "text/plain": [
       "<IPython.core.display.HTML object>"
      ]
     },
     "metadata": {},
     "output_type": "display_data"
    },
    {
     "data": {
      "text/html": [
       "<table border=\"1\" class=\"dataframe\">\n",
       "  <thead>\n",
       "    <tr style=\"text-align: left;\">\n",
       "      <th>epoch</th>\n",
       "      <th>train_loss</th>\n",
       "      <th>valid_loss</th>\n",
       "      <th>_rmse</th>\n",
       "      <th>mae</th>\n",
       "      <th>time</th>\n",
       "    </tr>\n",
       "  </thead>\n",
       "  <tbody>\n",
       "    <tr>\n",
       "      <td>0</td>\n",
       "      <td>0.629530</td>\n",
       "      <td>1.071991</td>\n",
       "      <td>1.035370</td>\n",
       "      <td>0.368362</td>\n",
       "      <td>01:25</td>\n",
       "    </tr>\n",
       "    <tr>\n",
       "      <td>1</td>\n",
       "      <td>1.278168</td>\n",
       "      <td>2.761754</td>\n",
       "      <td>1.661854</td>\n",
       "      <td>0.375936</td>\n",
       "      <td>01:23</td>\n",
       "    </tr>\n",
       "  </tbody>\n",
       "</table>"
      ],
      "text/plain": [
       "<IPython.core.display.HTML object>"
      ]
     },
     "metadata": {},
     "output_type": "display_data"
    }
   ],
   "source": [
    "print(f\"Training {modelName} for {epochs} epochs\")\n",
    "learn.fit_one_cycle(epochs)"
   ]
  },
  {
   "cell_type": "markdown",
   "metadata": {},
   "source": [
    "We can then have a look at some training predictions:"
   ]
  },
  {
   "cell_type": "code",
   "execution_count": 13,
   "metadata": {},
   "outputs": [
    {
     "data": {
      "text/html": [
       "\n",
       "<style>\n",
       "    /* Turns off some styling */\n",
       "    progress {\n",
       "        /* gets rid of default border in Firefox and Opera. */\n",
       "        border: none;\n",
       "        /* Needs to be in here for Safari polyfill so background images work as expected. */\n",
       "        background-size: auto;\n",
       "    }\n",
       "    progress:not([value]), progress:not([value])::-webkit-progress-bar {\n",
       "        background: repeating-linear-gradient(45deg, #7e7e7e, #7e7e7e 10px, #5c5c5c 10px, #5c5c5c 20px);\n",
       "    }\n",
       "    .progress-bar-interrupted, .progress-bar-interrupted::-webkit-progress-bar {\n",
       "        background: #F44336;\n",
       "    }\n",
       "</style>\n"
      ],
      "text/plain": [
       "<IPython.core.display.HTML object>"
      ]
     },
     "metadata": {},
     "output_type": "display_data"
    },
    {
     "data": {
      "text/html": [],
      "text/plain": [
       "<IPython.core.display.HTML object>"
      ]
     },
     "metadata": {},
     "output_type": "display_data"
    },
    {
     "data": {
      "text/html": [
       "<table border=\"1\" class=\"dataframe\">\n",
       "  <thead>\n",
       "    <tr style=\"text-align: right;\">\n",
       "      <th></th>\n",
       "      <th>Industry</th>\n",
       "      <th>EV/EBIT_na</th>\n",
       "      <th>ROIC_na</th>\n",
       "      <th>Open</th>\n",
       "      <th>High</th>\n",
       "      <th>Low</th>\n",
       "      <th>Close</th>\n",
       "      <th>Volume</th>\n",
       "      <th>Dividends</th>\n",
       "      <th>Stock Splits</th>\n",
       "      <th>EV/EBIT</th>\n",
       "      <th>ROIC</th>\n",
       "      <th>Future Year Change</th>\n",
       "      <th>Future Year Change_pred</th>\n",
       "    </tr>\n",
       "  </thead>\n",
       "  <tbody>\n",
       "    <tr>\n",
       "      <th>0</th>\n",
       "      <td>1.0</td>\n",
       "      <td>1.0</td>\n",
       "      <td>1.0</td>\n",
       "      <td>-0.120210</td>\n",
       "      <td>-0.123409</td>\n",
       "      <td>-0.121906</td>\n",
       "      <td>-0.124042</td>\n",
       "      <td>-0.401535</td>\n",
       "      <td>-0.047449</td>\n",
       "      <td>-0.014296</td>\n",
       "      <td>-0.063018</td>\n",
       "      <td>-0.095218</td>\n",
       "      <td>-0.358323</td>\n",
       "      <td>0.308664</td>\n",
       "    </tr>\n",
       "    <tr>\n",
       "      <th>1</th>\n",
       "      <td>33.0</td>\n",
       "      <td>1.0</td>\n",
       "      <td>1.0</td>\n",
       "      <td>-0.095239</td>\n",
       "      <td>-0.097468</td>\n",
       "      <td>-0.098962</td>\n",
       "      <td>-0.099198</td>\n",
       "      <td>-0.463634</td>\n",
       "      <td>-0.047449</td>\n",
       "      <td>-0.014296</td>\n",
       "      <td>2.957398</td>\n",
       "      <td>-0.096435</td>\n",
       "      <td>-0.627244</td>\n",
       "      <td>-0.194502</td>\n",
       "    </tr>\n",
       "    <tr>\n",
       "      <th>2</th>\n",
       "      <td>6.0</td>\n",
       "      <td>1.0</td>\n",
       "      <td>1.0</td>\n",
       "      <td>-0.074404</td>\n",
       "      <td>-0.077448</td>\n",
       "      <td>-0.073455</td>\n",
       "      <td>-0.075739</td>\n",
       "      <td>-0.310688</td>\n",
       "      <td>-0.047449</td>\n",
       "      <td>-0.014296</td>\n",
       "      <td>-0.956742</td>\n",
       "      <td>-0.097220</td>\n",
       "      <td>-0.461201</td>\n",
       "      <td>-0.031235</td>\n",
       "    </tr>\n",
       "    <tr>\n",
       "      <th>3</th>\n",
       "      <td>13.0</td>\n",
       "      <td>1.0</td>\n",
       "      <td>1.0</td>\n",
       "      <td>-0.241912</td>\n",
       "      <td>-0.244736</td>\n",
       "      <td>-0.243462</td>\n",
       "      <td>-0.244704</td>\n",
       "      <td>-0.359955</td>\n",
       "      <td>-0.047449</td>\n",
       "      <td>-0.014296</td>\n",
       "      <td>-0.150312</td>\n",
       "      <td>-0.094662</td>\n",
       "      <td>-0.536003</td>\n",
       "      <td>0.281974</td>\n",
       "    </tr>\n",
       "    <tr>\n",
       "      <th>4</th>\n",
       "      <td>6.0</td>\n",
       "      <td>1.0</td>\n",
       "      <td>1.0</td>\n",
       "      <td>-0.269852</td>\n",
       "      <td>-0.272326</td>\n",
       "      <td>-0.271713</td>\n",
       "      <td>-0.272344</td>\n",
       "      <td>1.227808</td>\n",
       "      <td>-0.047449</td>\n",
       "      <td>-0.014296</td>\n",
       "      <td>-0.253601</td>\n",
       "      <td>-0.092823</td>\n",
       "      <td>0.231829</td>\n",
       "      <td>0.159269</td>\n",
       "    </tr>\n",
       "    <tr>\n",
       "      <th>5</th>\n",
       "      <td>4.0</td>\n",
       "      <td>1.0</td>\n",
       "      <td>1.0</td>\n",
       "      <td>-0.104186</td>\n",
       "      <td>-0.105591</td>\n",
       "      <td>-0.102708</td>\n",
       "      <td>-0.104822</td>\n",
       "      <td>-0.469821</td>\n",
       "      <td>-0.047449</td>\n",
       "      <td>-0.014296</td>\n",
       "      <td>-0.277186</td>\n",
       "      <td>-0.091760</td>\n",
       "      <td>-0.353511</td>\n",
       "      <td>0.107557</td>\n",
       "    </tr>\n",
       "    <tr>\n",
       "      <th>6</th>\n",
       "      <td>5.0</td>\n",
       "      <td>1.0</td>\n",
       "      <td>1.0</td>\n",
       "      <td>-0.270804</td>\n",
       "      <td>-0.273187</td>\n",
       "      <td>-0.271992</td>\n",
       "      <td>-0.272442</td>\n",
       "      <td>-0.524608</td>\n",
       "      <td>-0.047449</td>\n",
       "      <td>-0.014296</td>\n",
       "      <td>-1.805850</td>\n",
       "      <td>-0.096830</td>\n",
       "      <td>0.412326</td>\n",
       "      <td>0.204904</td>\n",
       "    </tr>\n",
       "    <tr>\n",
       "      <th>7</th>\n",
       "      <td>6.0</td>\n",
       "      <td>1.0</td>\n",
       "      <td>1.0</td>\n",
       "      <td>-0.279827</td>\n",
       "      <td>-0.282121</td>\n",
       "      <td>-0.281985</td>\n",
       "      <td>-0.282440</td>\n",
       "      <td>4.919855</td>\n",
       "      <td>-0.047449</td>\n",
       "      <td>-0.014296</td>\n",
       "      <td>0.039233</td>\n",
       "      <td>-0.095561</td>\n",
       "      <td>0.034697</td>\n",
       "      <td>-0.019836</td>\n",
       "    </tr>\n",
       "    <tr>\n",
       "      <th>8</th>\n",
       "      <td>6.0</td>\n",
       "      <td>1.0</td>\n",
       "      <td>1.0</td>\n",
       "      <td>-0.201304</td>\n",
       "      <td>-0.203355</td>\n",
       "      <td>-0.201341</td>\n",
       "      <td>-0.202269</td>\n",
       "      <td>-0.013630</td>\n",
       "      <td>-0.047449</td>\n",
       "      <td>-0.014296</td>\n",
       "      <td>-1.263635</td>\n",
       "      <td>-0.096995</td>\n",
       "      <td>-0.245435</td>\n",
       "      <td>-0.074713</td>\n",
       "    </tr>\n",
       "    <tr>\n",
       "      <th>9</th>\n",
       "      <td>45.0</td>\n",
       "      <td>1.0</td>\n",
       "      <td>1.0</td>\n",
       "      <td>0.194871</td>\n",
       "      <td>0.194561</td>\n",
       "      <td>0.200385</td>\n",
       "      <td>0.194176</td>\n",
       "      <td>-0.418617</td>\n",
       "      <td>-0.047449</td>\n",
       "      <td>-0.014296</td>\n",
       "      <td>-0.319466</td>\n",
       "      <td>-0.086756</td>\n",
       "      <td>0.519859</td>\n",
       "      <td>-0.030698</td>\n",
       "    </tr>\n",
       "    <tr>\n",
       "      <th>10</th>\n",
       "      <td>46.0</td>\n",
       "      <td>1.0</td>\n",
       "      <td>1.0</td>\n",
       "      <td>-0.166589</td>\n",
       "      <td>-0.170253</td>\n",
       "      <td>-0.166383</td>\n",
       "      <td>-0.168527</td>\n",
       "      <td>-0.109434</td>\n",
       "      <td>-0.047449</td>\n",
       "      <td>-0.014296</td>\n",
       "      <td>0.375832</td>\n",
       "      <td>-0.096016</td>\n",
       "      <td>-0.128533</td>\n",
       "      <td>-0.209410</td>\n",
       "    </tr>\n",
       "    <tr>\n",
       "      <th>11</th>\n",
       "      <td>5.0</td>\n",
       "      <td>1.0</td>\n",
       "      <td>1.0</td>\n",
       "      <td>0.071540</td>\n",
       "      <td>0.065975</td>\n",
       "      <td>0.069660</td>\n",
       "      <td>0.064437</td>\n",
       "      <td>-0.248923</td>\n",
       "      <td>-0.047449</td>\n",
       "      <td>-0.014296</td>\n",
       "      <td>-1.271844</td>\n",
       "      <td>-0.096991</td>\n",
       "      <td>0.012911</td>\n",
       "      <td>0.128525</td>\n",
       "    </tr>\n",
       "    <tr>\n",
       "      <th>12</th>\n",
       "      <td>46.0</td>\n",
       "      <td>1.0</td>\n",
       "      <td>1.0</td>\n",
       "      <td>-0.236169</td>\n",
       "      <td>-0.237563</td>\n",
       "      <td>-0.236817</td>\n",
       "      <td>-0.236846</td>\n",
       "      <td>0.725850</td>\n",
       "      <td>-0.047449</td>\n",
       "      <td>-0.014296</td>\n",
       "      <td>-0.106196</td>\n",
       "      <td>-0.094991</td>\n",
       "      <td>0.439914</td>\n",
       "      <td>-0.091903</td>\n",
       "    </tr>\n",
       "    <tr>\n",
       "      <th>13</th>\n",
       "      <td>6.0</td>\n",
       "      <td>1.0</td>\n",
       "      <td>1.0</td>\n",
       "      <td>-0.204384</td>\n",
       "      <td>-0.206557</td>\n",
       "      <td>-0.206933</td>\n",
       "      <td>-0.208109</td>\n",
       "      <td>0.782116</td>\n",
       "      <td>-0.047449</td>\n",
       "      <td>-0.014296</td>\n",
       "      <td>-1.277799</td>\n",
       "      <td>-0.096988</td>\n",
       "      <td>-0.148563</td>\n",
       "      <td>-0.062023</td>\n",
       "    </tr>\n",
       "    <tr>\n",
       "      <th>14</th>\n",
       "      <td>32.0</td>\n",
       "      <td>1.0</td>\n",
       "      <td>1.0</td>\n",
       "      <td>-0.322998</td>\n",
       "      <td>-0.322419</td>\n",
       "      <td>-0.322106</td>\n",
       "      <td>-0.322268</td>\n",
       "      <td>-0.525495</td>\n",
       "      <td>-0.047449</td>\n",
       "      <td>-0.014296</td>\n",
       "      <td>0.228750</td>\n",
       "      <td>-0.095881</td>\n",
       "      <td>0.265060</td>\n",
       "      <td>0.340924</td>\n",
       "    </tr>\n",
       "  </tbody>\n",
       "</table>"
      ],
      "text/plain": [
       "<IPython.core.display.HTML object>"
      ]
     },
     "metadata": {},
     "output_type": "display_data"
    }
   ],
   "source": [
    "learn.show_results(max_n=15)"
   ]
  },
  {
   "cell_type": "markdown",
   "metadata": {},
   "source": [
    "## Evaluation"
   ]
  },
  {
   "cell_type": "code",
   "execution_count": 14,
   "metadata": {},
   "outputs": [
    {
     "name": "stderr",
     "output_type": "stream",
     "text": [
      "$LEJU: possibly delisted; no timezone found\n",
      "404 Client Error: Not Found for url: https://query2.finance.yahoo.com/v10/finance/quoteSummary/LEJU?modules=financialData%2CquoteType%2CdefaultKeyStatistics%2CassetProfile%2CsummaryDetail&corsDomain=finance.yahoo.com&formatted=false&symbol=LEJU&crumb=vSmwn1lwQ8s\n",
      "<string>:9: FutureWarning: The behavior of array concatenation with empty entries is deprecated. In a future version, this will no longer exclude empty items when determining the result dtype. To retain the old behavior, exclude the empty entries before the concat operation.\n"
     ]
    }
   ],
   "source": [
    "import stockFetcher"
   ]
  },
  {
   "cell_type": "code",
   "execution_count": 15,
   "metadata": {},
   "outputs": [
    {
     "name": "stderr",
     "output_type": "stream",
     "text": [
      "$NESN: possibly delisted; no timezone found\n"
     ]
    },
    {
     "name": "stdout",
     "output_type": "stream",
     "text": [
      "Error fetching data for NESN: No historical data available for NESN around 2024-01-22.\n",
      "Skipping NESN due to missing data\n"
     ]
    },
    {
     "name": "stderr",
     "output_type": "stream",
     "text": [
      "$SPWR: possibly delisted; no timezone found\n"
     ]
    },
    {
     "name": "stdout",
     "output_type": "stream",
     "text": [
      "Error fetching data for SPWR: No historical data available for SPWR around 2024-01-22.\n",
      "Skipping SPWR due to missing data\n"
     ]
    },
    {
     "name": "stderr",
     "output_type": "stream",
     "text": [
      "$RDS.A: possibly delisted; no timezone found\n"
     ]
    },
    {
     "name": "stdout",
     "output_type": "stream",
     "text": [
      "Error fetching data for RDS.A: No historical data available for RDS.A around 2024-01-22.\n",
      "Skipping RDS.A due to missing data\n"
     ]
    },
    {
     "name": "stderr",
     "output_type": "stream",
     "text": [
      "429 Client Error: Too Many Requests for url: https://query2.finance.yahoo.com/v10/finance/quoteSummary/RUN?modules=financialData%2CquoteType%2CdefaultKeyStatistics%2CassetProfile%2CsummaryDetail&corsDomain=finance.yahoo.com&formatted=false&symbol=RUN&crumb=Edge%3A+Too+Many+Requests\n",
      "429 Client Error: Too Many Requests for url: https://query2.finance.yahoo.com/v10/finance/quoteSummary/RUN?modules=financialData%2CquoteType%2CdefaultKeyStatistics%2CassetProfile%2CsummaryDetail&corsDomain=finance.yahoo.com&formatted=false&symbol=RUN&crumb=Edge%3A+Too+Many+Requests\n",
      "Failed to get ticker 'TRV' reason: Expecting value: line 1 column 1 (char 0)\n",
      "$TRV: possibly delisted; no timezone found\n"
     ]
    },
    {
     "name": "stdout",
     "output_type": "stream",
     "text": [
      "Error fetching data for TRV: No historical data available for TRV around 2024-01-22.\n",
      "Skipping TRV due to missing data\n"
     ]
    },
    {
     "name": "stderr",
     "output_type": "stream",
     "text": [
      "Failed to get ticker 'KEY' reason: Expecting value: line 1 column 1 (char 0)\n",
      "$KEY: possibly delisted; no timezone found\n"
     ]
    },
    {
     "name": "stdout",
     "output_type": "stream",
     "text": [
      "Error fetching data for KEY: No historical data available for KEY around 2024-01-22.\n",
      "Skipping KEY due to missing data\n"
     ]
    },
    {
     "name": "stderr",
     "output_type": "stream",
     "text": [
      "$PYPL: possibly delisted; no price data found  (1d 2023-12-23 -> 2024-01-22)\n"
     ]
    },
    {
     "name": "stdout",
     "output_type": "stream",
     "text": [
      "Error fetching data for PYPL: No historical data available for PYPL around 2024-01-22.\n",
      "Skipping PYPL due to missing data\n"
     ]
    },
    {
     "name": "stderr",
     "output_type": "stream",
     "text": [
      "$MO: possibly delisted; no price data found  (1d 2023-12-23 -> 2024-01-22)\n"
     ]
    },
    {
     "name": "stdout",
     "output_type": "stream",
     "text": [
      "Error fetching data for MO: No historical data available for MO around 2024-01-22.\n",
      "Skipping MO due to missing data\n"
     ]
    },
    {
     "name": "stderr",
     "output_type": "stream",
     "text": [
      "Failed to get ticker 'PNC' reason: Expecting value: line 1 column 1 (char 0)\n",
      "$PNC: possibly delisted; no timezone found\n"
     ]
    },
    {
     "name": "stdout",
     "output_type": "stream",
     "text": [
      "Error fetching data for PNC: No historical data available for PNC around 2024-01-22.\n",
      "Skipping PNC due to missing data\n"
     ]
    },
    {
     "name": "stderr",
     "output_type": "stream",
     "text": [
      "Failed to get ticker 'PGR' reason: Expecting value: line 1 column 1 (char 0)\n",
      "$PGR: possibly delisted; no timezone found\n"
     ]
    },
    {
     "name": "stdout",
     "output_type": "stream",
     "text": [
      "Error fetching data for PGR: No historical data available for PGR around 2024-01-22.\n",
      "Skipping PGR due to missing data\n"
     ]
    },
    {
     "name": "stderr",
     "output_type": "stream",
     "text": [
      "Failed to get ticker 'TRGP' reason: Expecting value: line 1 column 1 (char 0)\n",
      "$TRGP: possibly delisted; no timezone found\n"
     ]
    },
    {
     "name": "stdout",
     "output_type": "stream",
     "text": [
      "Error fetching data for TRGP: No historical data available for TRGP around 2024-01-22.\n",
      "Skipping TRGP due to missing data\n"
     ]
    },
    {
     "name": "stderr",
     "output_type": "stream",
     "text": [
      "Failed to get ticker 'HIG' reason: Expecting value: line 1 column 1 (char 0)\n",
      "$HIG: possibly delisted; no timezone found\n"
     ]
    },
    {
     "name": "stdout",
     "output_type": "stream",
     "text": [
      "Error fetching data for HIG: No historical data available for HIG around 2024-01-22.\n",
      "Skipping HIG due to missing data\n"
     ]
    },
    {
     "name": "stderr",
     "output_type": "stream",
     "text": [
      "Failed to get ticker 'LC' reason: Expecting value: line 1 column 1 (char 0)\n",
      "$LC: possibly delisted; no timezone found\n"
     ]
    },
    {
     "name": "stdout",
     "output_type": "stream",
     "text": [
      "Error fetching data for LC: No historical data available for LC around 2024-01-22.\n",
      "Skipping LC due to missing data\n"
     ]
    },
    {
     "name": "stderr",
     "output_type": "stream",
     "text": [
      "Failed to get ticker 'PSX' reason: Expecting value: line 1 column 1 (char 0)\n",
      "$PSX: possibly delisted; no timezone found\n"
     ]
    },
    {
     "name": "stdout",
     "output_type": "stream",
     "text": [
      "Error fetching data for PSX: No historical data available for PSX around 2024-01-22.\n",
      "Skipping PSX due to missing data\n"
     ]
    },
    {
     "name": "stderr",
     "output_type": "stream",
     "text": [
      "Failed to get ticker 'KMI' reason: Expecting value: line 1 column 1 (char 0)\n",
      "$KMI: possibly delisted; no timezone found\n"
     ]
    },
    {
     "name": "stdout",
     "output_type": "stream",
     "text": [
      "Error fetching data for KMI: No historical data available for KMI around 2024-01-22.\n",
      "Skipping KMI due to missing data\n"
     ]
    },
    {
     "name": "stderr",
     "output_type": "stream",
     "text": [
      "Failed to get ticker 'ESTC' reason: Expecting value: line 1 column 1 (char 0)\n",
      "$ESTC: possibly delisted; no timezone found\n"
     ]
    },
    {
     "name": "stdout",
     "output_type": "stream",
     "text": [
      "Error fetching data for ESTC: No historical data available for ESTC around 2024-01-22.\n",
      "Skipping ESTC due to missing data\n"
     ]
    },
    {
     "name": "stderr",
     "output_type": "stream",
     "text": [
      "Failed to get ticker 'BKR' reason: Expecting value: line 1 column 1 (char 0)\n",
      "$BKR: possibly delisted; no timezone found\n"
     ]
    },
    {
     "name": "stdout",
     "output_type": "stream",
     "text": [
      "Error fetching data for BKR: No historical data available for BKR around 2024-01-22.\n",
      "Skipping BKR due to missing data\n"
     ]
    },
    {
     "name": "stderr",
     "output_type": "stream",
     "text": [
      "Failed to get ticker 'SPLK' reason: Expecting value: line 1 column 1 (char 0)\n",
      "$SPLK: possibly delisted; no timezone found\n"
     ]
    },
    {
     "name": "stdout",
     "output_type": "stream",
     "text": [
      "Error fetching data for SPLK: No historical data available for SPLK around 2024-01-22.\n",
      "Skipping SPLK due to missing data\n"
     ]
    },
    {
     "name": "stderr",
     "output_type": "stream",
     "text": [
      "Failed to get ticker 'AMTD' reason: Expecting value: line 1 column 1 (char 0)\n",
      "$AMTD: possibly delisted; no timezone found\n"
     ]
    },
    {
     "name": "stdout",
     "output_type": "stream",
     "text": [
      "Error fetching data for AMTD: No historical data available for AMTD around 2024-01-22.\n",
      "Skipping AMTD due to missing data\n"
     ]
    },
    {
     "name": "stderr",
     "output_type": "stream",
     "text": [
      "Failed to get ticker 'STT' reason: Expecting value: line 1 column 1 (char 0)\n",
      "$STT: possibly delisted; no timezone found\n"
     ]
    },
    {
     "name": "stdout",
     "output_type": "stream",
     "text": [
      "Error fetching data for STT: No historical data available for STT around 2024-01-22.\n",
      "Skipping STT due to missing data\n"
     ]
    },
    {
     "name": "stderr",
     "output_type": "stream",
     "text": [
      "Failed to get ticker 'BTI' reason: Expecting value: line 1 column 1 (char 0)\n",
      "$BTI: possibly delisted; no timezone found\n"
     ]
    },
    {
     "name": "stdout",
     "output_type": "stream",
     "text": [
      "Error fetching data for BTI: No historical data available for BTI around 2024-01-22.\n",
      "Skipping BTI due to missing data\n"
     ]
    },
    {
     "name": "stderr",
     "output_type": "stream",
     "text": [
      "Failed to get ticker 'UPST' reason: Expecting value: line 1 column 1 (char 0)\n",
      "$UPST: possibly delisted; no timezone found\n"
     ]
    },
    {
     "name": "stdout",
     "output_type": "stream",
     "text": [
      "Error fetching data for UPST: No historical data available for UPST around 2024-01-22.\n",
      "Skipping UPST due to missing data\n"
     ]
    },
    {
     "name": "stderr",
     "output_type": "stream",
     "text": [
      "Failed to get ticker 'AM' reason: Expecting value: line 1 column 1 (char 0)\n",
      "$AM: possibly delisted; no timezone found\n"
     ]
    },
    {
     "name": "stdout",
     "output_type": "stream",
     "text": [
      "Error fetching data for AM: No historical data available for AM around 2024-01-22.\n",
      "Skipping AM due to missing data\n"
     ]
    },
    {
     "name": "stderr",
     "output_type": "stream",
     "text": [
      "$DOCU: possibly delisted; no price data found  (1d 2023-12-23 -> 2024-01-22)\n"
     ]
    },
    {
     "name": "stdout",
     "output_type": "stream",
     "text": [
      "Error fetching data for DOCU: No historical data available for DOCU around 2024-01-22.\n",
      "Skipping DOCU due to missing data\n"
     ]
    },
    {
     "name": "stderr",
     "output_type": "stream",
     "text": [
      "Failed to get ticker 'RF' reason: Expecting value: line 1 column 1 (char 0)\n",
      "$RF: possibly delisted; no timezone found\n"
     ]
    },
    {
     "name": "stdout",
     "output_type": "stream",
     "text": [
      "Error fetching data for RF: No historical data available for RF around 2024-01-22.\n",
      "Skipping RF due to missing data\n"
     ]
    },
    {
     "name": "stderr",
     "output_type": "stream",
     "text": [
      "Failed to get ticker 'EQIX' reason: Expecting value: line 1 column 1 (char 0)\n",
      "$EQIX: possibly delisted; no timezone found\n"
     ]
    },
    {
     "name": "stdout",
     "output_type": "stream",
     "text": [
      "Error fetching data for EQIX: No historical data available for EQIX around 2024-01-22.\n",
      "Skipping EQIX due to missing data\n"
     ]
    },
    {
     "name": "stderr",
     "output_type": "stream",
     "text": [
      "$CVX: possibly delisted; no price data found  (1d 2023-12-23 -> 2024-01-22)\n"
     ]
    },
    {
     "name": "stdout",
     "output_type": "stream",
     "text": [
      "Error fetching data for CVX: No historical data available for CVX around 2024-01-22.\n",
      "Skipping CVX due to missing data\n"
     ]
    },
    {
     "name": "stderr",
     "output_type": "stream",
     "text": [
      "Failed to get ticker 'CYBR' reason: Expecting value: line 1 column 1 (char 0)\n",
      "$CYBR: possibly delisted; no timezone found\n"
     ]
    },
    {
     "name": "stdout",
     "output_type": "stream",
     "text": [
      "Error fetching data for CYBR: No historical data available for CYBR around 2024-01-22.\n",
      "Skipping CYBR due to missing data\n"
     ]
    },
    {
     "name": "stderr",
     "output_type": "stream",
     "text": [
      "Failed to get ticker 'ACGL' reason: Expecting value: line 1 column 1 (char 0)\n",
      "$ACGL: possibly delisted; no timezone found\n"
     ]
    },
    {
     "name": "stdout",
     "output_type": "stream",
     "text": [
      "Error fetching data for ACGL: No historical data available for ACGL around 2024-01-22.\n",
      "Skipping ACGL due to missing data\n"
     ]
    },
    {
     "name": "stderr",
     "output_type": "stream",
     "text": [
      "Failed to get ticker 'CSGP' reason: Expecting value: line 1 column 1 (char 0)\n",
      "$CSGP: possibly delisted; no timezone found\n"
     ]
    },
    {
     "name": "stdout",
     "output_type": "stream",
     "text": [
      "Error fetching data for CSGP: No historical data available for CSGP around 2024-01-22.\n",
      "Skipping CSGP due to missing data\n"
     ]
    },
    {
     "name": "stderr",
     "output_type": "stream",
     "text": [
      "Failed to get ticker 'IMBBY' reason: Expecting value: line 1 column 1 (char 0)\n",
      "$IMBBY: possibly delisted; no timezone found\n"
     ]
    },
    {
     "name": "stdout",
     "output_type": "stream",
     "text": [
      "Error fetching data for IMBBY: No historical data available for IMBBY around 2024-01-22.\n",
      "Skipping IMBBY due to missing data\n"
     ]
    },
    {
     "name": "stderr",
     "output_type": "stream",
     "text": [
      "Failed to get ticker 'DFS' reason: Expecting value: line 1 column 1 (char 0)\n",
      "$DFS: possibly delisted; no timezone found\n"
     ]
    },
    {
     "name": "stdout",
     "output_type": "stream",
     "text": [
      "Error fetching data for DFS: No historical data available for DFS around 2024-01-22.\n",
      "Skipping DFS due to missing data\n"
     ]
    },
    {
     "name": "stderr",
     "output_type": "stream",
     "text": [
      "Failed to get ticker 'NTRS' reason: Expecting value: line 1 column 1 (char 0)\n",
      "$NTRS: possibly delisted; no timezone found\n"
     ]
    },
    {
     "name": "stdout",
     "output_type": "stream",
     "text": [
      "Error fetching data for NTRS: No historical data available for NTRS around 2024-01-22.\n",
      "Skipping NTRS due to missing data\n"
     ]
    },
    {
     "name": "stderr",
     "output_type": "stream",
     "text": [
      "$ENI: possibly delisted; no price data found  (1d 2023-12-23 -> 2024-01-22)\n"
     ]
    },
    {
     "name": "stdout",
     "output_type": "stream",
     "text": [
      "Error fetching data for ENI: No historical data available for ENI around 2024-01-22.\n",
      "Skipping ENI due to missing data\n"
     ]
    },
    {
     "name": "stderr",
     "output_type": "stream",
     "text": [
      "$CRWD: possibly delisted; no price data found  (1d 2023-12-23 -> 2024-01-22)\n"
     ]
    },
    {
     "name": "stdout",
     "output_type": "stream",
     "text": [
      "Error fetching data for CRWD: No historical data available for CRWD around 2024-01-22.\n",
      "Skipping CRWD due to missing data\n"
     ]
    },
    {
     "name": "stderr",
     "output_type": "stream",
     "text": [
      "Failed to get ticker 'ALL' reason: Expecting value: line 1 column 1 (char 0)\n",
      "$ALL: possibly delisted; no timezone found\n"
     ]
    },
    {
     "name": "stdout",
     "output_type": "stream",
     "text": [
      "Error fetching data for ALL: No historical data available for ALL around 2024-01-22.\n",
      "Skipping ALL due to missing data\n"
     ]
    },
    {
     "name": "stderr",
     "output_type": "stream",
     "text": [
      "$DDOG: possibly delisted; no price data found  (1d 2023-12-23 -> 2024-01-22)\n"
     ]
    },
    {
     "name": "stdout",
     "output_type": "stream",
     "text": [
      "Error fetching data for DDOG: No historical data available for DDOG around 2024-01-22.\n",
      "Skipping DDOG due to missing data\n"
     ]
    },
    {
     "name": "stderr",
     "output_type": "stream",
     "text": [
      "Failed to get ticker 'ENPH' reason: Expecting value: line 1 column 1 (char 0)\n",
      "$ENPH: possibly delisted; no timezone found\n"
     ]
    },
    {
     "name": "stdout",
     "output_type": "stream",
     "text": [
      "Error fetching data for ENPH: No historical data available for ENPH around 2024-01-22.\n",
      "Skipping ENPH due to missing data\n"
     ]
    },
    {
     "name": "stderr",
     "output_type": "stream",
     "text": [
      "Failed to get ticker 'EOG' reason: Expecting value: line 1 column 1 (char 0)\n",
      "$EOG: possibly delisted; no timezone found\n"
     ]
    },
    {
     "name": "stdout",
     "output_type": "stream",
     "text": [
      "Error fetching data for EOG: No historical data available for EOG around 2024-01-22.\n",
      "Skipping EOG due to missing data\n"
     ]
    },
    {
     "name": "stderr",
     "output_type": "stream",
     "text": [
      "Failed to get ticker 'CSIQ' reason: Expecting value: line 1 column 1 (char 0)\n",
      "$CSIQ: possibly delisted; no timezone found\n"
     ]
    },
    {
     "name": "stdout",
     "output_type": "stream",
     "text": [
      "Error fetching data for CSIQ: No historical data available for CSIQ around 2024-01-22.\n",
      "Skipping CSIQ due to missing data\n"
     ]
    },
    {
     "name": "stderr",
     "output_type": "stream",
     "text": [
      "Failed to get ticker 'VRSK' reason: Expecting value: line 1 column 1 (char 0)\n",
      "$VRSK: possibly delisted; no timezone found\n"
     ]
    },
    {
     "name": "stdout",
     "output_type": "stream",
     "text": [
      "Error fetching data for VRSK: No historical data available for VRSK around 2024-01-22.\n",
      "Skipping VRSK due to missing data\n"
     ]
    },
    {
     "name": "stderr",
     "output_type": "stream",
     "text": [
      "Failed to get ticker 'RDFN' reason: Expecting value: line 1 column 1 (char 0)\n",
      "$RDFN: possibly delisted; no timezone found\n"
     ]
    },
    {
     "name": "stdout",
     "output_type": "stream",
     "text": [
      "Error fetching data for RDFN: No historical data available for RDFN around 2024-01-22.\n",
      "Skipping RDFN due to missing data\n"
     ]
    },
    {
     "name": "stderr",
     "output_type": "stream",
     "text": [
      "Failed to get ticker 'BAM' reason: Expecting value: line 1 column 1 (char 0)\n",
      "$BAM: possibly delisted; no timezone found\n"
     ]
    },
    {
     "name": "stdout",
     "output_type": "stream",
     "text": [
      "Error fetching data for BAM: No historical data available for BAM around 2024-01-22.\n",
      "Skipping BAM due to missing data\n"
     ]
    },
    {
     "name": "stderr",
     "output_type": "stream",
     "text": [
      "Failed to get ticker 'ICE' reason: Expecting value: line 1 column 1 (char 0)\n",
      "$ICE: possibly delisted; no timezone found\n"
     ]
    },
    {
     "name": "stdout",
     "output_type": "stream",
     "text": [
      "Error fetching data for ICE: No historical data available for ICE around 2024-01-22.\n",
      "Skipping ICE due to missing data\n"
     ]
    },
    {
     "name": "stderr",
     "output_type": "stream",
     "text": [
      "Failed to get ticker 'PANW' reason: Expecting value: line 1 column 1 (char 0)\n",
      "$PANW: possibly delisted; no timezone found\n"
     ]
    },
    {
     "name": "stdout",
     "output_type": "stream",
     "text": [
      "Error fetching data for PANW: No historical data available for PANW around 2024-01-22.\n",
      "Skipping PANW due to missing data\n"
     ]
    },
    {
     "name": "stderr",
     "output_type": "stream",
     "text": [
      "Failed to get ticker 'LMND' reason: Expecting value: line 1 column 1 (char 0)\n",
      "$LMND: possibly delisted; no timezone found\n"
     ]
    },
    {
     "name": "stdout",
     "output_type": "stream",
     "text": [
      "Error fetching data for LMND: No historical data available for LMND around 2024-01-22.\n",
      "Skipping LMND due to missing data\n"
     ]
    },
    {
     "name": "stderr",
     "output_type": "stream",
     "text": [
      "Failed to get ticker 'SCHW' reason: Expecting value: line 1 column 1 (char 0)\n",
      "$SCHW: possibly delisted; no timezone found\n"
     ]
    },
    {
     "name": "stdout",
     "output_type": "stream",
     "text": [
      "Error fetching data for SCHW: No historical data available for SCHW around 2024-01-22.\n",
      "Skipping SCHW due to missing data\n"
     ]
    },
    {
     "name": "stderr",
     "output_type": "stream",
     "text": [
      "Failed to get ticker 'ET' reason: Expecting value: line 1 column 1 (char 0)\n",
      "$ET: possibly delisted; no timezone found\n"
     ]
    },
    {
     "name": "stdout",
     "output_type": "stream",
     "text": [
      "Error fetching data for ET: No historical data available for ET around 2024-01-22.\n",
      "Skipping ET due to missing data\n"
     ]
    },
    {
     "name": "stderr",
     "output_type": "stream",
     "text": [
      "Failed to get ticker 'SEDG' reason: Expecting value: line 1 column 1 (char 0)\n",
      "$SEDG: possibly delisted; no timezone found\n"
     ]
    },
    {
     "name": "stdout",
     "output_type": "stream",
     "text": [
      "Error fetching data for SEDG: No historical data available for SEDG around 2024-01-22.\n",
      "Skipping SEDG due to missing data\n"
     ]
    },
    {
     "name": "stderr",
     "output_type": "stream",
     "text": [
      "Failed to get ticker 'MKC' reason: Expecting value: line 1 column 1 (char 0)\n",
      "$MKC: possibly delisted; no timezone found\n"
     ]
    },
    {
     "name": "stdout",
     "output_type": "stream",
     "text": [
      "Error fetching data for MKC: No historical data available for MKC around 2024-01-22.\n",
      "Skipping MKC due to missing data\n"
     ]
    },
    {
     "name": "stderr",
     "output_type": "stream",
     "text": [
      "Failed to get ticker 'DANOY' reason: Expecting value: line 1 column 1 (char 0)\n",
      "$DANOY: possibly delisted; no timezone found\n"
     ]
    },
    {
     "name": "stdout",
     "output_type": "stream",
     "text": [
      "Error fetching data for DANOY: No historical data available for DANOY around 2024-01-22.\n",
      "Skipping DANOY due to missing data\n"
     ]
    },
    {
     "name": "stderr",
     "output_type": "stream",
     "text": [
      "Failed to get ticker 'RNR' reason: Expecting value: line 1 column 1 (char 0)\n",
      "$RNR: possibly delisted; no timezone found\n"
     ]
    },
    {
     "name": "stdout",
     "output_type": "stream",
     "text": [
      "Error fetching data for RNR: No historical data available for RNR around 2024-01-22.\n",
      "Skipping RNR due to missing data\n"
     ]
    },
    {
     "name": "stderr",
     "output_type": "stream",
     "text": [
      "Failed to get ticker 'WMB' reason: Expecting value: line 1 column 1 (char 0)\n",
      "$WMB: possibly delisted; no timezone found\n"
     ]
    },
    {
     "name": "stdout",
     "output_type": "stream",
     "text": [
      "Error fetching data for WMB: No historical data available for WMB around 2024-01-22.\n",
      "Skipping WMB due to missing data\n"
     ]
    },
    {
     "name": "stderr",
     "output_type": "stream",
     "text": [
      "Failed to get ticker 'VLO' reason: Expecting value: line 1 column 1 (char 0)\n",
      "$VLO: possibly delisted; no timezone found\n"
     ]
    },
    {
     "name": "stdout",
     "output_type": "stream",
     "text": [
      "Error fetching data for VLO: No historical data available for VLO around 2024-01-22.\n",
      "Skipping VLO due to missing data\n"
     ]
    },
    {
     "name": "stderr",
     "output_type": "stream",
     "text": [
      "$AFRM: possibly delisted; no price data found  (1d 2023-12-23 -> 2024-01-22)\n"
     ]
    },
    {
     "name": "stdout",
     "output_type": "stream",
     "text": [
      "Error fetching data for AFRM: No historical data available for AFRM around 2024-01-22.\n",
      "Skipping AFRM due to missing data\n"
     ]
    },
    {
     "name": "stderr",
     "output_type": "stream",
     "text": [
      "Failed to get ticker 'BK' reason: Expecting value: line 1 column 1 (char 0)\n",
      "$BK: possibly delisted; no timezone found\n"
     ]
    },
    {
     "name": "stdout",
     "output_type": "stream",
     "text": [
      "Error fetching data for BK: No historical data available for BK around 2024-01-22.\n",
      "Skipping BK due to missing data\n"
     ]
    },
    {
     "name": "stderr",
     "output_type": "stream",
     "text": [
      "Failed to get ticker 'ROOT' reason: Expecting value: line 1 column 1 (char 0)\n",
      "$ROOT: possibly delisted; no timezone found\n"
     ]
    },
    {
     "name": "stdout",
     "output_type": "stream",
     "text": [
      "Error fetching data for ROOT: No historical data available for ROOT around 2024-01-22.\n",
      "Skipping ROOT due to missing data\n"
     ]
    },
    {
     "name": "stderr",
     "output_type": "stream",
     "text": [
      "Failed to get ticker 'COF' reason: Expecting value: line 1 column 1 (char 0)\n",
      "$COF: possibly delisted; no timezone found\n"
     ]
    },
    {
     "name": "stdout",
     "output_type": "stream",
     "text": [
      "Error fetching data for COF: No historical data available for COF around 2024-01-22.\n",
      "Skipping COF due to missing data\n"
     ]
    },
    {
     "name": "stderr",
     "output_type": "stream",
     "text": [
      "$L: possibly delisted; no price data found  (1d 2023-12-23 -> 2024-01-22)\n"
     ]
    },
    {
     "name": "stdout",
     "output_type": "stream",
     "text": [
      "Error fetching data for L: No historical data available for L around 2024-01-22.\n",
      "Skipping L due to missing data\n"
     ]
    },
    {
     "name": "stderr",
     "output_type": "stream",
     "text": [
      "Failed to get ticker 'DLR' reason: Expecting value: line 1 column 1 (char 0)\n",
      "$DLR: possibly delisted; no timezone found\n"
     ]
    },
    {
     "name": "stdout",
     "output_type": "stream",
     "text": [
      "Error fetching data for DLR: No historical data available for DLR around 2024-01-22.\n",
      "Skipping DLR due to missing data\n"
     ]
    },
    {
     "name": "stderr",
     "output_type": "stream",
     "text": [
      "Failed to get ticker 'AMT' reason: Expecting value: line 1 column 1 (char 0)\n",
      "$AMT: possibly delisted; no timezone found\n"
     ]
    },
    {
     "name": "stdout",
     "output_type": "stream",
     "text": [
      "Error fetching data for AMT: No historical data available for AMT around 2024-01-22.\n",
      "Skipping AMT due to missing data\n"
     ]
    },
    {
     "name": "stderr",
     "output_type": "stream",
     "text": [
      "Failed to get ticker 'SOFI' reason: Expecting value: line 1 column 1 (char 0)\n",
      "$SOFI: possibly delisted; no timezone found\n"
     ]
    },
    {
     "name": "stdout",
     "output_type": "stream",
     "text": [
      "Error fetching data for SOFI: No historical data available for SOFI around 2024-01-22.\n",
      "Skipping SOFI due to missing data\n"
     ]
    },
    {
     "name": "stderr",
     "output_type": "stream",
     "text": [
      "Failed to get ticker 'BLDP' reason: Expecting value: line 1 column 1 (char 0)\n",
      "$BLDP: possibly delisted; no timezone found\n"
     ]
    },
    {
     "name": "stdout",
     "output_type": "stream",
     "text": [
      "Error fetching data for BLDP: No historical data available for BLDP around 2024-01-22.\n",
      "Skipping BLDP due to missing data\n"
     ]
    },
    {
     "name": "stderr",
     "output_type": "stream",
     "text": [
      "Failed to get ticker 'MPC' reason: Expecting value: line 1 column 1 (char 0)\n",
      "$MPC: possibly delisted; no timezone found\n"
     ]
    },
    {
     "name": "stdout",
     "output_type": "stream",
     "text": [
      "Error fetching data for MPC: No historical data available for MPC around 2024-01-22.\n",
      "Skipping MPC due to missing data\n"
     ]
    },
    {
     "name": "stderr",
     "output_type": "stream",
     "text": [
      "Failed to get ticker 'CME' reason: Expecting value: line 1 column 1 (char 0)\n",
      "$CME: possibly delisted; no timezone found\n"
     ]
    },
    {
     "name": "stdout",
     "output_type": "stream",
     "text": [
      "Error fetching data for CME: No historical data available for CME around 2024-01-22.\n",
      "Skipping CME due to missing data\n"
     ]
    },
    {
     "name": "stderr",
     "output_type": "stream",
     "text": [
      "Failed to get ticker 'HAL' reason: Expecting value: line 1 column 1 (char 0)\n",
      "$HAL: possibly delisted; no timezone found\n"
     ]
    },
    {
     "name": "stdout",
     "output_type": "stream",
     "text": [
      "Error fetching data for HAL: No historical data available for HAL around 2024-01-22.\n",
      "Skipping HAL due to missing data\n"
     ]
    },
    {
     "name": "stderr",
     "output_type": "stream",
     "text": [
      "Failed to get ticker 'TFC' reason: Expecting value: line 1 column 1 (char 0)\n",
      "$TFC: possibly delisted; no timezone found\n"
     ]
    },
    {
     "name": "stdout",
     "output_type": "stream",
     "text": [
      "Error fetching data for TFC: No historical data available for TFC around 2024-01-22.\n",
      "Skipping TFC due to missing data\n"
     ]
    },
    {
     "name": "stderr",
     "output_type": "stream",
     "text": [
      "$OKTA: possibly delisted; no price data found  (1d 2023-12-23 -> 2024-01-22)\n"
     ]
    },
    {
     "name": "stdout",
     "output_type": "stream",
     "text": [
      "Error fetching data for OKTA: No historical data available for OKTA around 2024-01-22.\n",
      "Skipping OKTA due to missing data\n"
     ]
    },
    {
     "name": "stderr",
     "output_type": "stream",
     "text": [
      "Failed to get ticker 'IBKR' reason: Expecting value: line 1 column 1 (char 0)\n",
      "$IBKR: possibly delisted; no timezone found\n"
     ]
    },
    {
     "name": "stdout",
     "output_type": "stream",
     "text": [
      "Error fetching data for IBKR: No historical data available for IBKR around 2024-01-22.\n",
      "Skipping IBKR due to missing data\n"
     ]
    },
    {
     "name": "stderr",
     "output_type": "stream",
     "text": [
      "Failed to get ticker 'PM' reason: Expecting value: line 1 column 1 (char 0)\n",
      "$PM: possibly delisted; no timezone found\n"
     ]
    },
    {
     "name": "stdout",
     "output_type": "stream",
     "text": [
      "Error fetching data for PM: No historical data available for PM around 2024-01-22.\n",
      "Skipping PM due to missing data\n"
     ]
    },
    {
     "name": "stderr",
     "output_type": "stream",
     "text": [
      "Failed to get ticker 'CHKP' reason: Expecting value: line 1 column 1 (char 0)\n",
      "$CHKP: possibly delisted; no timezone found\n"
     ]
    },
    {
     "name": "stdout",
     "output_type": "stream",
     "text": [
      "Error fetching data for CHKP: No historical data available for CHKP around 2024-01-22.\n",
      "Skipping CHKP due to missing data\n"
     ]
    },
    {
     "name": "stderr",
     "output_type": "stream",
     "text": [
      "Failed to get ticker 'EXPI' reason: Expecting value: line 1 column 1 (char 0)\n",
      "$EXPI: possibly delisted; no timezone found\n"
     ]
    },
    {
     "name": "stdout",
     "output_type": "stream",
     "text": [
      "Error fetching data for EXPI: No historical data available for EXPI around 2024-01-22.\n",
      "Skipping EXPI due to missing data\n"
     ]
    },
    {
     "name": "stderr",
     "output_type": "stream",
     "text": [
      "$FSLY: possibly delisted; no price data found  (1d 2023-12-23 -> 2024-01-22)\n"
     ]
    },
    {
     "name": "stdout",
     "output_type": "stream",
     "text": [
      "Error fetching data for FSLY: No historical data available for FSLY around 2024-01-22.\n",
      "Skipping FSLY due to missing data\n"
     ]
    },
    {
     "name": "stderr",
     "output_type": "stream",
     "text": [
      "Failed to get ticker 'RLI' reason: Expecting value: line 1 column 1 (char 0)\n",
      "$RLI: possibly delisted; no timezone found\n"
     ]
    },
    {
     "name": "stdout",
     "output_type": "stream",
     "text": [
      "Error fetching data for RLI: No historical data available for RLI around 2024-01-22.\n",
      "Skipping RLI due to missing data\n"
     ]
    },
    {
     "name": "stderr",
     "output_type": "stream",
     "text": [
      "Failed to get ticker 'MKL' reason: Expecting value: line 1 column 1 (char 0)\n",
      "$MKL: possibly delisted; no timezone found\n"
     ]
    },
    {
     "name": "stdout",
     "output_type": "stream",
     "text": [
      "Error fetching data for MKL: No historical data available for MKL around 2024-01-22.\n",
      "Skipping MKL due to missing data\n"
     ]
    },
    {
     "name": "stderr",
     "output_type": "stream",
     "text": [
      "C:\\Users\\Gamer\\AppData\\Local\\Temp\\ipykernel_18860\\1918869076.py:37: FutureWarning: The behavior of DataFrame concatenation with empty or all-NA entries is deprecated. In a future version, this will no longer exclude empty or all-NA columns when determining the result dtypes. To retain the old behavior, exclude the relevant entries before the concat operation.\n",
      "  combined_test_data = pd.concat(test_data_list, ignore_index=True)\n",
      "c:\\Users\\Gamer\\miniconda3\\Lib\\site-packages\\fastai\\tabular\\core.py:314: FutureWarning: A value is trying to be set on a copy of a DataFrame or Series through chained assignment using an inplace method.\n",
      "The behavior will change in pandas 3.0. This inplace method will never work because the intermediate object on which we are setting values always behaves as a copy.\n",
      "\n",
      "For example, when doing 'df[col].method(value, inplace=True)', try using 'df.method({col: value}, inplace=True)' or df[col] = df[col].method(value) instead, to perform the operation inplace on the original object.\n",
      "\n",
      "\n",
      "  to[n].fillna(self.na_dict[n], inplace=True)\n",
      "c:\\Users\\Gamer\\miniconda3\\Lib\\site-packages\\fastai\\tabular\\core.py:314: FutureWarning: A value is trying to be set on a copy of a DataFrame or Series through chained assignment using an inplace method.\n",
      "The behavior will change in pandas 3.0. This inplace method will never work because the intermediate object on which we are setting values always behaves as a copy.\n",
      "\n",
      "For example, when doing 'df[col].method(value, inplace=True)', try using 'df.method({col: value}, inplace=True)' or df[col] = df[col].method(value) instead, to perform the operation inplace on the original object.\n",
      "\n",
      "\n",
      "  to[n].fillna(self.na_dict[n], inplace=True)\n"
     ]
    },
    {
     "data": {
      "text/html": [
       "\n",
       "<style>\n",
       "    /* Turns off some styling */\n",
       "    progress {\n",
       "        /* gets rid of default border in Firefox and Opera. */\n",
       "        border: none;\n",
       "        /* Needs to be in here for Safari polyfill so background images work as expected. */\n",
       "        background-size: auto;\n",
       "    }\n",
       "    progress:not([value]), progress:not([value])::-webkit-progress-bar {\n",
       "        background: repeating-linear-gradient(45deg, #7e7e7e, #7e7e7e 10px, #5c5c5c 10px, #5c5c5c 20px);\n",
       "    }\n",
       "    .progress-bar-interrupted, .progress-bar-interrupted::-webkit-progress-bar {\n",
       "        background: #F44336;\n",
       "    }\n",
       "</style>\n"
      ],
      "text/plain": [
       "<IPython.core.display.HTML object>"
      ]
     },
     "metadata": {},
     "output_type": "display_data"
    },
    {
     "data": {
      "text/html": [],
      "text/plain": [
       "<IPython.core.display.HTML object>"
      ]
     },
     "metadata": {},
     "output_type": "display_data"
    },
    {
     "name": "stdout",
     "output_type": "stream",
     "text": [
      "Logged evaluation results to c:\\Users\\Gamer\\Documents\\GitHub\\VS-Code\\Side-Projects\\TrainedModels\\modelEvaluations.csv\n"
     ]
    },
    {
     "data": {
      "image/png": "[encoded data removed]",
      "text/plain": [
       "<Figure size 1200x800 with 2 Axes>"
      ]
     },
     "metadata": {},
     "output_type": "display_data"
    },
    {
     "name": "stdout",
     "output_type": "stream",
     "text": [
      "Evaluation Results:\n",
      "MAE: 0.304\n",
      "RMSE: 0.373\n",
      "R2: -0.195\n"
     ]
    }
   ],
   "source": [
    "def evaluate_model(learn, test_tickers, model_name, model_folder, cont_names, cat_names):\n",
    "    \"\"\"\n",
    "    Evaluate a fastai model on a list of test tickers and log the results.\n",
    "    \n",
    "    Args:\n",
    "        learn: fastai Learner object\n",
    "        test_tickers (list): List of ticker symbols to test on\n",
    "        model_name (str): Name of the model for logging\n",
    "        model_folder (Path): Path to save evaluation results\n",
    "        cont_names (list): List of continuous feature names\n",
    "        cat_names (list): List of categorical feature names\n",
    "    \"\"\"\n",
    "    all_predictions = []\n",
    "    all_actuals = []\n",
    "    test_data_list = []\n",
    "    \n",
    "    # Collect test data for all tickers\n",
    "    for ticker in test_tickers:\n",
    "        try:\n",
    "            # Get test data\n",
    "            test_data = stockFetcher.getTickerDataFrom1YrAgo(ticker)\n",
    "            if test_data.empty:\n",
    "                print(f\"Skipping {ticker} due to missing data\")\n",
    "                continue\n",
    "            \n",
    "            test_data_list.append(test_data)\n",
    "            \n",
    "        except Exception as e:\n",
    "            print(f\"Error fetching data for {ticker}: {e}\")\n",
    "            continue\n",
    "    \n",
    "    if not test_data_list:\n",
    "        print(\"No valid test data collected\")\n",
    "        return None, None, None\n",
    "    \n",
    "    # Combine all test data\n",
    "    combined_test_data = pd.concat(test_data_list, ignore_index=True)\n",
    "    \n",
    "    # Create fastai test dataloader\n",
    "    test_dl = learn.dls.test_dl(combined_test_data)\n",
    "    \n",
    "    # Get predictions\n",
    "    preds, targs = learn.get_preds(dl=test_dl)\n",
    "    \n",
    "    # Convert to numpy arrays\n",
    "    predictions = preds.numpy()\n",
    "    actuals = targs.numpy()\n",
    "    \n",
    "    # Create DataFrame for analysis\n",
    "    results_df = pd.DataFrame({\n",
    "        'Predicted': predictions.flatten(),\n",
    "        'Actual': actuals.flatten()\n",
    "    })\n",
    "\n",
    "    # Calculate residuals\n",
    "    results_df['Residual'] = results_df['Actual'] - results_df['Predicted']\n",
    "\n",
    "    # Define outlier threshold (2 standard deviations)\n",
    "    outlier_threshold = 2 * results_df['Residual'].std()\n",
    "\n",
    "    # Filter outliers\n",
    "    filtered_df = results_df[abs(results_df['Residual']) <= outlier_threshold]\n",
    "\n",
    "    # Calculate metrics\n",
    "    mae = np.mean(np.abs(filtered_df['Residual']))\n",
    "    rmse = np.sqrt(np.mean(filtered_df['Residual']**2))\n",
    "    r2 = 1 - (np.sum(filtered_df['Residual']**2) / \n",
    "              np.sum((filtered_df['Actual'] - filtered_df['Actual'].mean())**2))\n",
    "\n",
    "    # Log results\n",
    "    log_evaluation(model_name, mae, rmse, r2, model_folder)\n",
    "    \n",
    "    # Create visualizations\n",
    "    plot_results(filtered_df, model_name, model_folder)\n",
    "    \n",
    "    return mae, rmse, r2\n",
    "\n",
    "def log_evaluation(model_name, mae, rmse, r2, model_folder):\n",
    "    \"\"\"Log evaluation metrics to CSV file\"\"\"\n",
    "    log_file = model_folder / \"modelEvaluations.csv\"\n",
    "    \n",
    "    new_entry_df = pd.DataFrame([{\n",
    "        \"Model Name\": modelName,\n",
    "        \"Timestamp\": datetime.now().strftime('%Y-%m-%d %H:%M'),\n",
    "        \"MAE\": f'{mae:.3f}',\n",
    "        \"RMSE\": f'{rmse:.3f}',\n",
    "        \"R2\": f'{r2:.3f}',\n",
    "        \"Epochs\": epochs,\n",
    "        \"Test Amount\": len(get_random_test_tickers(n_tickers=testSize)),\n",
    "        \"Cat Names\": catNames,\n",
    "        \"Cont Names\": contNames,\n",
    "    }])\n",
    "    \n",
    "    try:\n",
    "        log_df = pd.read_csv(log_file)\n",
    "        log_df = pd.concat([log_df, new_entry_df], ignore_index=True)\n",
    "    except FileNotFoundError:\n",
    "        log_df = new_entry_df\n",
    "        \n",
    "    log_df.to_csv(log_file, index=False)\n",
    "    print(f\"Logged evaluation results to {log_file}\")\n",
    "\n",
    "def plot_results(filtered_df, model_name, model_folder):\n",
    "    \"\"\"Create and save visualization plots\"\"\"\n",
    "    plt.figure(figsize=(12, 8))\n",
    "    \n",
    "    # Scatter plot\n",
    "    plt.subplot(2, 1, 1)\n",
    "    actuals = filtered_df['Actual']\n",
    "    predictions = filtered_df['Predicted']\n",
    "    plt.scatter(actuals, predictions, alpha=0.7, label='Predictions')\n",
    "    \n",
    "    # Perfect prediction line\n",
    "    min_val = min(actuals.min(), predictions.min())\n",
    "    max_val = max(actuals.max(), predictions.max())\n",
    "    plt.plot([min_val, max_val], [min_val, max_val], \n",
    "             color='red', linestyle='--', label='Perfect Prediction')\n",
    "    \n",
    "    plt.title(f'Predicted vs. Actual Returns - {model_name}', fontsize=14)\n",
    "    plt.xlabel('Actual Returns', fontsize=12)\n",
    "    plt.ylabel('Predicted Returns', fontsize=12)\n",
    "    plt.legend()\n",
    "    plt.grid(alpha=0.5)\n",
    "    \n",
    "    # Residual plot\n",
    "    plt.subplot(2, 1, 2)\n",
    "    plt.scatter(predictions, filtered_df['Residual'], alpha=0.7)\n",
    "    plt.axhline(y=0, color='r', linestyle='--')\n",
    "    plt.title('Residual Plot', fontsize=14)\n",
    "    plt.xlabel('Predicted Returns', fontsize=12)\n",
    "    plt.ylabel('Residual', fontsize=12)\n",
    "    plt.grid(alpha=0.5)\n",
    "    \n",
    "    plt.tight_layout()\n",
    "    \n",
    "    # Show plot\n",
    "    plt.show()\n",
    "\n",
    "# Function to get random test tickers\n",
    "def get_random_test_tickers(n_tickers):\n",
    "    \"\"\"\n",
    "    Get random US-listed tickers that aren't in our training set.\n",
    "    \n",
    "    Args:\n",
    "        n_tickers (int): Number of test tickers to return\n",
    "        \n",
    "    Returns:\n",
    "        list: List of ticker symbols\n",
    "    \"\"\"\n",
    "    training_tickers = set(stockFetcher.symbols)\n",
    "    \n",
    "    # Get US exchange tickers using pandas_datareader\n",
    "    try:\n",
    "        # Get ADR tickers\n",
    "        adr_df = pd.read_csv(testFolder / 'tickers.csv')\n",
    "        tickers = adr_df['Ticker'].tolist()\n",
    "        \n",
    "        # Clean tickers (remove warrants, preferred shares, etc.)\n",
    "        clean_tickers = [\n",
    "            ticker for ticker in tickers \n",
    "            if ticker not in training_tickers\n",
    "        ]\n",
    "        \n",
    "        # Randomly select tickers\n",
    "        if len(clean_tickers) < n_tickers:\n",
    "            print(f\"Warning: Only {len(clean_tickers)} tickers available\")\n",
    "            return clean_tickers\n",
    "            \n",
    "        return np.random.choice(clean_tickers, size=n_tickers, replace=False).tolist()\n",
    "        \n",
    "    except Exception as e:\n",
    "        print(f\"Error fetching tickers: {e}\")\n",
    "        # Fallback to a list of common US tickers not in training set\n",
    "        fallback_tickers = [\n",
    "            'KO', 'PEP', 'JNJ', 'PG', 'WMT', 'HD', 'MCD', 'NKE', \n",
    "            'DIS', 'SBUX', 'COST', 'TGT', 'LOW', 'MO', 'CVS'\n",
    "        ]\n",
    "        fallback_tickers = [t for t in fallback_tickers if t not in training_tickers]\n",
    "        return np.random.choice(fallback_tickers, size=min(n_tickers, len(fallback_tickers)), replace=False).tolist()\n",
    "    \n",
    "if __name__ == \"__main__\":\n",
    "    \n",
    "    # Evaluate model (replace learn with your actual learner)\n",
    "    mae, rmse, r2 = evaluate_model(\n",
    "        learn=learn,  # Your fastai learner\n",
    "        test_tickers = get_random_test_tickers(n_tickers=testSize),\n",
    "        model_name=modelName,\n",
    "        model_folder=modelFolder,\n",
    "        cont_names=contNames,\n",
    "        cat_names=catNames\n",
    "    )\n",
    "    \n",
    "    if mae is not None and rmse is not None and r2 is not None:\n",
    "        print(f\"Evaluation Results:\")\n",
    "        print(f\"MAE: {mae:.3f}\")\n",
    "        print(f\"RMSE: {rmse:.3f}\")\n",
    "        print(f\"R2: {r2:.3f}\")\n",
    "    else:\n",
    "        print(\"Evaluation failed. Metrics are None.\")\n"
   ]
  },
  {
   "cell_type": "markdown",
   "metadata": {},
   "source": [
    "## Export the model"
   ]
  },
  {
   "cell_type": "code",
   "execution_count": 16,
   "metadata": {},
   "outputs": [],
   "source": [
    "learn.export(modelFolder / f'{modelName}.pkl')"
   ]
  },
  {
   "cell_type": "markdown",
   "metadata": {},
   "source": [
    "## Tests (recommended to use the app instead, but feel free to use the tests below)"
   ]
  },
  {
   "cell_type": "markdown",
   "metadata": {},
   "source": [
    "\n",
    "To get prediction on a new dataframe, you can use the test_dl method of the DataLoaders. That dataframe does not need to have the dependent variable in its column."
   ]
  },
  {
   "cell_type": "code",
   "execution_count": 18,
   "metadata": {},
   "outputs": [
    {
     "name": "stdout",
     "output_type": "stream",
     "text": [
      "Error fetching EV components for AAPL: Expecting value: line 1 column 1 (char 0)\n",
      "Error calculating EBIT for AAPL: Expecting value: line 1 column 1 (char 0)\n",
      "Error fetching data for AAPL: unsupported operand type(s) for *: 'float' and 'NoneType'\n"
     ]
    },
    {
     "name": "stderr",
     "output_type": "stream",
     "text": [
      "c:\\Users\\Gamer\\miniconda3\\Lib\\site-packages\\fastai\\tabular\\core.py:314: FutureWarning: A value is trying to be set on a copy of a DataFrame or Series through chained assignment using an inplace method.\n",
      "The behavior will change in pandas 3.0. This inplace method will never work because the intermediate object on which we are setting values always behaves as a copy.\n",
      "\n",
      "For example, when doing 'df[col].method(value, inplace=True)', try using 'df.method({col: value}, inplace=True)' or df[col] = df[col].method(value) instead, to perform the operation inplace on the original object.\n",
      "\n",
      "\n",
      "  to[n].fillna(self.na_dict[n], inplace=True)\n",
      "c:\\Users\\Gamer\\miniconda3\\Lib\\site-packages\\fastai\\tabular\\core.py:314: FutureWarning: A value is trying to be set on a copy of a DataFrame or Series through chained assignment using an inplace method.\n",
      "The behavior will change in pandas 3.0. This inplace method will never work because the intermediate object on which we are setting values always behaves as a copy.\n",
      "\n",
      "For example, when doing 'df[col].method(value, inplace=True)', try using 'df.method({col: value}, inplace=True)' or df[col] = df[col].method(value) instead, to perform the operation inplace on the original object.\n",
      "\n",
      "\n",
      "  to[n].fillna(self.na_dict[n], inplace=True)\n"
     ]
    },
    {
     "data": {
      "text/html": [
       "<div>\n",
       "<style scoped>\n",
       "    .dataframe tbody tr th:only-of-type {\n",
       "        vertical-align: middle;\n",
       "    }\n",
       "\n",
       "    .dataframe tbody tr th {\n",
       "        vertical-align: top;\n",
       "    }\n",
       "\n",
       "    .dataframe thead th {\n",
       "        text-align: right;\n",
       "    }\n",
       "</style>\n",
       "<table border=\"1\" class=\"dataframe\">\n",
       "  <thead>\n",
       "    <tr style=\"text-align: right;\">\n",
       "      <th></th>\n",
       "      <th>Open</th>\n",
       "      <th>High</th>\n",
       "      <th>Low</th>\n",
       "      <th>Close</th>\n",
       "      <th>Volume</th>\n",
       "      <th>Dividends</th>\n",
       "      <th>Stock Splits</th>\n",
       "      <th>EV/EBIT</th>\n",
       "      <th>ROIC</th>\n",
       "      <th>Industry</th>\n",
       "      <th>EV/EBIT_na</th>\n",
       "      <th>ROIC_na</th>\n",
       "    </tr>\n",
       "  </thead>\n",
       "  <tbody>\n",
       "  </tbody>\n",
       "</table>\n",
       "</div>"
      ],
      "text/plain": [
       "Empty DataFrame\n",
       "Columns: [Open, High, Low, Close, Volume, Dividends, Stock Splits, EV/EBIT, ROIC, Industry, EV/EBIT_na, ROIC_na]\n",
       "Index: []"
      ]
     },
     "execution_count": 18,
     "metadata": {},
     "output_type": "execute_result"
    }
   ],
   "source": [
    "predictionTarget = 'AAPL'\n",
    "\n",
    "test_df = stockFetcher.getTickerData(predictionTarget)\n",
    "\n",
    "# Ensure test_df is a DataFrame\n",
    "if isinstance(test_df, dict):\n",
    "\ttest_df = pd.DataFrame([test_df])\n",
    "\n",
    "# Ensure test_df contains the required columns\n",
    "required_columns = contNames + catNames\n",
    "for col in required_columns:\n",
    "\tif col not in test_df.columns:\n",
    "\t\ttest_df[col] = np.nan\n",
    "\n",
    "dl = learn.dls.test_dl(test_df)\n",
    "test_df.head()"
   ]
  },
  {
   "cell_type": "code",
   "execution_count": 19,
   "metadata": {},
   "outputs": [
    {
     "data": {
      "text/html": [
       "\n",
       "<style>\n",
       "    /* Turns off some styling */\n",
       "    progress {\n",
       "        /* gets rid of default border in Firefox and Opera. */\n",
       "        border: none;\n",
       "        /* Needs to be in here for Safari polyfill so background images work as expected. */\n",
       "        background-size: auto;\n",
       "    }\n",
       "    progress:not([value]), progress:not([value])::-webkit-progress-bar {\n",
       "        background: repeating-linear-gradient(45deg, #7e7e7e, #7e7e7e 10px, #5c5c5c 10px, #5c5c5c 20px);\n",
       "    }\n",
       "    .progress-bar-interrupted, .progress-bar-interrupted::-webkit-progress-bar {\n",
       "        background: #F44336;\n",
       "    }\n",
       "</style>\n"
      ],
      "text/plain": [
       "<IPython.core.display.HTML object>"
      ]
     },
     "metadata": {},
     "output_type": "display_data"
    },
    {
     "data": {
      "text/html": [],
      "text/plain": [
       "<IPython.core.display.HTML object>"
      ]
     },
     "metadata": {},
     "output_type": "display_data"
    },
    {
     "name": "stderr",
     "output_type": "stream",
     "text": [
      "c:\\Users\\Gamer\\miniconda3\\Lib\\site-packages\\fastprogress\\fastprogress.py:73: UserWarning: Your generator is empty.\n",
      "  warn(\"Your generator is empty.\")\n"
     ]
    },
    {
     "name": "stdout",
     "output_type": "stream",
     "text": [
      "Prediction for AAPL:\n"
     ]
    },
    {
     "ename": "TypeError",
     "evalue": "'NoneType' object is not subscriptable",
     "output_type": "error",
     "traceback": [
      "\u001b[1;31m---------------------------------------------------------------------------\u001b[0m",
      "\u001b[1;31mTypeError\u001b[0m                                 Traceback (most recent call last)",
      "Cell \u001b[1;32mIn[19], line 3\u001b[0m\n\u001b[0;32m      1\u001b[0m prediction \u001b[38;5;241m=\u001b[39m learn\u001b[38;5;241m.\u001b[39mget_preds(dl\u001b[38;5;241m=\u001b[39mdl)\n\u001b[0;32m      2\u001b[0m \u001b[38;5;28mprint\u001b[39m(\u001b[38;5;124mf\u001b[39m\u001b[38;5;124m\"\u001b[39m\u001b[38;5;124mPrediction for \u001b[39m\u001b[38;5;132;01m{\u001b[39;00mpredictionTarget\u001b[38;5;132;01m}\u001b[39;00m\u001b[38;5;124m:\u001b[39m\u001b[38;5;124m\"\u001b[39m)\n\u001b[1;32m----> 3\u001b[0m \u001b[38;5;28mprint\u001b[39m(\u001b[38;5;124mf\u001b[39m\u001b[38;5;124m\"\u001b[39m\u001b[38;5;132;01m{\u001b[39;00m\u001b[43mprediction\u001b[49m\u001b[43m[\u001b[49m\u001b[38;5;241;43m0\u001b[39;49m\u001b[43m]\u001b[49m\u001b[43m[\u001b[49m\u001b[38;5;241;43m0\u001b[39;49m\u001b[43m]\u001b[49m[\u001b[38;5;241m0\u001b[39m]\u001b[38;5;241m.\u001b[39mitem()\u001b[38;5;250m \u001b[39m\u001b[38;5;241m*\u001b[39m\u001b[38;5;250m \u001b[39m\u001b[38;5;241m100\u001b[39m\u001b[38;5;132;01m:\u001b[39;00m\u001b[38;5;124m.2f\u001b[39m\u001b[38;5;132;01m}\u001b[39;00m\u001b[38;5;124m%\u001b[39m\u001b[38;5;124m\"\u001b[39m)\n",
      "\u001b[1;31mTypeError\u001b[0m: 'NoneType' object is not subscriptable"
     ]
    }
   ],
   "source": [
    "prediction = learn.get_preds(dl=dl)\n",
    "print(f\"Prediction for {predictionTarget}:\")\n",
    "print(f\"{prediction[0][0][0].item() * 100:.2f}%\")"
   ]
  },
  {
   "cell_type": "markdown",
   "metadata": {},
   "source": [
    "Note:\n",
    "Since machine learning models can’t magically understand categories it was never trained on, the data should reflect this. If there are different missing values in your test data you should address this before training"
   ]
  }
 ],
 "metadata": {
  "kernelspec": {
   "display_name": "base",
   "language": "python",
   "name": "python3"
  },
  "language_info": {
   "codemirror_mode": {
    "name": "ipython",
    "version": 3
   },
   "file_extension": ".py",
   "mimetype": "text/x-python",
   "name": "python",
   "nbconvert_exporter": "python",
   "pygments_lexer": "ipython3",
   "version": "3.12.3"
  }
 },
 "nbformat": 4,
 "nbformat_minor": 2
}
