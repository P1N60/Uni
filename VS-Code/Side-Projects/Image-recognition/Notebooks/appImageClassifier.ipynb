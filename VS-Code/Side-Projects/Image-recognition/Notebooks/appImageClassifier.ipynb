{
 "cells": [
  {
   "cell_type": "code",
   "execution_count": 12,
   "id": "c2b72ab3",
   "metadata": {},
   "outputs": [],
   "source": [
    "! pip install -Uq fastai fastbook setuptools ipywidgets RandomWords gradio"
   ]
  },
  {
   "cell_type": "code",
   "execution_count": 13,
   "id": "bddb2b6b",
   "metadata": {},
   "outputs": [],
   "source": [
    "%matplotlib inline\n",
    "#This helps widgets somehow"
   ]
  },
  {
   "cell_type": "code",
   "execution_count": 14,
   "metadata": {
    "trusted": true
   },
   "outputs": [],
   "source": [
    "#hide\n",
    "import fastbook\n",
    "fastbook.setup_book()\n",
    "import pathlib   \n",
    "from pathlib import Path"
   ]
  },
  {
   "cell_type": "code",
   "execution_count": 15,
   "metadata": {
    "trusted": true
   },
   "outputs": [],
   "source": [
    "#hide\n",
    "from fastbook import *\n",
    "from fastai.vision.widgets import *"
   ]
  },
  {
   "cell_type": "code",
   "execution_count": 16,
   "metadata": {
    "trusted": true
   },
   "outputs": [
    {
     "name": "stdout",
     "output_type": "stream",
     "text": [
      "/Users/victor/Documents/GitHub/VS-Code/Side-Projects/Trained-models\n"
     ]
    }
   ],
   "source": [
    "# If you want a spicific model version, then add /'version number' or 'latest' to the path\n",
    "modelFolder = Path.cwd().parent.parent / 'Trained-models'\n",
    "print(modelFolder)"
   ]
  },
  {
   "cell_type": "code",
   "execution_count": 17,
   "metadata": {
    "trusted": true
   },
   "outputs": [
    {
     "name": "stdout",
     "output_type": "stream",
     "text": [
      "This directory contains the following '.pkl' file(s):\n",
      "- countryGuesser.pkl\n",
      "- animalClassifier.pkl\n",
      "- leagueChampionClassifier.pkl\n",
      "- politicianClassifier.pkl\n",
      "- test.pkl\n"
     ]
    }
   ],
   "source": [
    "import os\n",
    "def find_files_with_extension(file_extension):\n",
    "    matching_files = [file for file in os.listdir(modelFolder) if file.endswith(file_extension)]\n",
    "    return matching_files\n",
    "\n",
    "# Example usage\n",
    "file_type = '.pkl'  # Change this to the file type you're looking for\n",
    "matching_files = find_files_with_extension(file_type)\n",
    "\n",
    "if matching_files:\n",
    "    print(f\"This directory contains the following '{file_type}' file(s):\")\n",
    "    for file in matching_files:\n",
    "        print(f\"- {file}\")\n",
    "else:\n",
    "    print(f\"This directory does not contain any '{file_type}' files\")"
   ]
  },
  {
   "cell_type": "code",
   "execution_count": 18,
   "metadata": {
    "trusted": true
   },
   "outputs": [
    {
     "name": "stdout",
     "output_type": "stream",
     "text": [
      "posix\n",
      "/Users/victor/Documents/GitHub/VS-Code/Side-Projects/Trained-models/countryGuesser.pkl\n",
      "Model loaded successfully!\n"
     ]
    }
   ],
   "source": [
    "# exclude '.pkl'\n",
    "modelName = 'countryGuesser'\n",
    "\n",
    "import os\n",
    "if os.name == 'nt':\n",
    "    print(os.name)\n",
    "    # Changes PosixPath to WindowsPath\n",
    "    temp = pathlib.PosixPath   \n",
    "    pathlib.PosixPath = pathlib.WindowsPath\n",
    "else:\n",
    "    print(os.name)\n",
    "    temp = pathlib.PosixPath   \n",
    "    pathlib.WindowsPath = pathlib.PosixPath\n",
    "\n",
    "modelPath = modelFolder / f'{modelName}.pkl'\n",
    "print(modelPath)\n",
    "\n",
    "learn_inf = load_learner(modelPath)\n",
    "print(\"Model loaded successfully!\")"
   ]
  },
  {
   "cell_type": "code",
   "execution_count": 19,
   "metadata": {
    "trusted": true
   },
   "outputs": [],
   "source": [
    "#hide_output\n",
    "btn_upload = widgets.FileUpload()\n",
    "out_pl = widgets.Output()\n",
    "lbl_pred = widgets.Label()\n",
    "btn_run = widgets.Button(description='Classify')"
   ]
  },
  {
   "cell_type": "code",
   "execution_count": 20,
   "metadata": {
    "trusted": true
   },
   "outputs": [],
   "source": [
    "def on_click_classify(change):\n",
    "    img = PILImage.create(btn_upload.data[-1])\n",
    "    out_pl.clear_output()\n",
    "    with out_pl: display(img.to_thumb(448,448))\n",
    "    pred,pred_idx,probs = learn_inf.predict(img)\n",
    "    lbl_pred.value = f'Prediction: {pred}; Probability: {probs[pred_idx]:.02f}'\n",
    "\n",
    "btn_run.on_click(on_click_classify)"
   ]
  },
  {
   "cell_type": "code",
   "execution_count": 21,
   "metadata": {
    "trusted": true
   },
   "outputs": [
    {
     "data": {
      "application/vnd.jupyter.widget-view+json": {
       "model_id": "2d5522b44348445595bca14bf7eb7fbb",
       "version_major": 2,
       "version_minor": 0
      },
      "text/plain": [
       "VBox(children=(FileUpload(value={}, description='Upload'), Button(description='Classify', style=ButtonStyle())…"
      ]
     },
     "metadata": {},
     "output_type": "display_data"
    }
   ],
   "source": [
    "# Alternative test here\n",
    "VBox([btn_upload, btn_run, out_pl, lbl_pred])"
   ]
  },
  {
   "cell_type": "code",
   "execution_count": 22,
   "metadata": {
    "trusted": true
   },
   "outputs": [
    {
     "name": "stdout",
     "output_type": "stream",
     "text": [
      "* Running on local URL:  http://127.0.0.1:7861\n",
      "* Running on public URL: https://d4261daf99bf7b3689.gradio.live\n",
      "\n",
      "This share link expires in 72 hours. For free permanent hosting and GPU upgrades, run `gradio deploy` from the terminal in the working directory to deploy to Hugging Face Spaces (https://huggingface.co/spaces)\n"
     ]
    },
    {
     "data": {
      "text/html": [
       "<div><iframe src=\"https://d4261daf99bf7b3689.gradio.live\" width=\"100%\" height=\"500\" allow=\"autoplay; camera; microphone; clipboard-read; clipboard-write;\" frameborder=\"0\" allowfullscreen></iframe></div>"
      ],
      "text/plain": [
       "<IPython.core.display.HTML object>"
      ]
     },
     "metadata": {},
     "output_type": "display_data"
    },
    {
     "data": {
      "text/plain": []
     },
     "execution_count": 22,
     "metadata": {},
     "output_type": "execute_result"
    },
    {
     "data": {
      "text/html": [
       "\n",
       "<style>\n",
       "    /* Turns off some styling */\n",
       "    progress {\n",
       "        /* gets rid of default border in Firefox and Opera. */\n",
       "        border: none;\n",
       "        /* Needs to be in here for Safari polyfill so background images work as expected. */\n",
       "        background-size: auto;\n",
       "    }\n",
       "    progress:not([value]), progress:not([value])::-webkit-progress-bar {\n",
       "        background: repeating-linear-gradient(45deg, #7e7e7e, #7e7e7e 10px, #5c5c5c 10px, #5c5c5c 20px);\n",
       "    }\n",
       "    .progress-bar-interrupted, .progress-bar-interrupted::-webkit-progress-bar {\n",
       "        background: #F44336;\n",
       "    }\n",
       "</style>\n"
      ],
      "text/plain": [
       "<IPython.core.display.HTML object>"
      ]
     },
     "metadata": {},
     "output_type": "display_data"
    },
    {
     "data": {
      "text/html": [],
      "text/plain": [
       "<IPython.core.display.HTML object>"
      ]
     },
     "metadata": {},
     "output_type": "display_data"
    },
    {
     "data": {
      "text/html": [
       "\n",
       "<style>\n",
       "    /* Turns off some styling */\n",
       "    progress {\n",
       "        /* gets rid of default border in Firefox and Opera. */\n",
       "        border: none;\n",
       "        /* Needs to be in here for Safari polyfill so background images work as expected. */\n",
       "        background-size: auto;\n",
       "    }\n",
       "    progress:not([value]), progress:not([value])::-webkit-progress-bar {\n",
       "        background: repeating-linear-gradient(45deg, #7e7e7e, #7e7e7e 10px, #5c5c5c 10px, #5c5c5c 20px);\n",
       "    }\n",
       "    .progress-bar-interrupted, .progress-bar-interrupted::-webkit-progress-bar {\n",
       "        background: #F44336;\n",
       "    }\n",
       "</style>\n"
      ],
      "text/plain": [
       "<IPython.core.display.HTML object>"
      ]
     },
     "metadata": {},
     "output_type": "display_data"
    },
    {
     "data": {
      "text/html": [],
      "text/plain": [
       "<IPython.core.display.HTML object>"
      ]
     },
     "metadata": {},
     "output_type": "display_data"
    }
   ],
   "source": [
    "import gradio as gr\n",
    "from fastai.vision.all import *\n",
    "\n",
    "\n",
    "learn = learn_inf\n",
    "labels = learn.dls.vocab\n",
    "def predict(img):\n",
    "    img = PILImage.create(img)\n",
    "    pred,pred_idx,probs = learn.predict(img)\n",
    "    return {labels[i]: float(probs[i]) for i in range(len(labels))}\n",
    "\n",
    "interface = gr.Interface(\n",
    "    fn=predict,\n",
    "    inputs=gr.Image(type=\"pil\"),\n",
    "    outputs=gr.Label(num_top_classes=10),\n",
    "    title=modelName,\n",
    "    description=\"\")\n",
    "\n",
    "interface.launch(share=True)"
   ]
  }
 ],
 "metadata": {
  "kaggle": {
   "accelerator": "none",
   "dataSources": [
    {
     "modelId": 99621,
     "modelInstanceId": 74898,
     "sourceId": 89280,
     "sourceType": "modelInstanceVersion"
    },
    {
     "modelId": 99621,
     "modelInstanceId": 74898,
     "sourceId": 89980,
     "sourceType": "modelInstanceVersion"
    },
    {
     "modelId": 99621,
     "modelInstanceId": 74898,
     "sourceId": 90067,
     "sourceType": "modelInstanceVersion"
    },
    {
     "modelId": 99621,
     "modelInstanceId": 74898,
     "sourceId": 90092,
     "sourceType": "modelInstanceVersion"
    },
    {
     "modelId": 99621,
     "modelInstanceId": 74898,
     "sourceId": 90677,
     "sourceType": "modelInstanceVersion"
    }
   ],
   "dockerImageVersionId": 30746,
   "isGpuEnabled": false,
   "isInternetEnabled": true,
   "language": "python",
   "sourceType": "notebook"
  },
  "kernelspec": {
   "display_name": "Python 3",
   "language": "python",
   "name": "python3"
  },
  "language_info": {
   "codemirror_mode": {
    "name": "ipython",
    "version": 3
   },
   "file_extension": ".py",
   "mimetype": "text/x-python",
   "name": "python",
   "nbconvert_exporter": "python",
   "pygments_lexer": "ipython3",
   "version": "3.12.4"
  }
 },
 "nbformat": 4,
 "nbformat_minor": 5
}
