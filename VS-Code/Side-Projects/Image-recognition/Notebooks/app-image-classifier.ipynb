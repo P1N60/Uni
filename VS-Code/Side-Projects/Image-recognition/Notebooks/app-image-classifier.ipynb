{
 "cells": [
  {
   "cell_type": "code",
   "execution_count": 3,
   "id": "2d85c832",
   "metadata": {},
   "outputs": [],
   "source": [
    "%matplotlib inline\n",
    "#This helps widgets somehow"
   ]
  },
  {
   "cell_type": "code",
   "execution_count": 2,
   "id": "c2b72ab3",
   "metadata": {},
   "outputs": [],
   "source": [
    "! pip install -Uq fastai fastbook setuptools ipywidgets RandomWords gradio"
   ]
  },
  {
   "cell_type": "code",
   "execution_count": null,
   "metadata": {
    "trusted": true
   },
   "outputs": [],
   "source": [
    "#hide\n",
    "import fastbook\n",
    "fastbook.setup_book()"
   ]
  },
  {
   "cell_type": "code",
   "execution_count": 5,
   "metadata": {
    "trusted": true
   },
   "outputs": [],
   "source": [
    "#hide\n",
    "from fastbook import *\n",
    "from fastai.vision.widgets import *"
   ]
  },
  {
   "cell_type": "code",
   "execution_count": 6,
   "metadata": {
    "trusted": true
   },
   "outputs": [],
   "source": [
    "from pathlib import Path\n",
    "modelFolder = Path.cwd().parent.parent / 'Trained-models'\n",
    "# If you want a spicific model version, then add /'version number' or 'latest' to the path"
   ]
  },
  {
   "cell_type": "code",
   "execution_count": 7,
   "metadata": {
    "trusted": true
   },
   "outputs": [
    {
     "name": "stdout",
     "output_type": "stream",
     "text": [
      "This directory contains the following '.pkl' file(s):\n",
      "- Animal Classifier.pkl\n",
      "- league_champion_classifier.pkl\n",
      "- test.pkl\n"
     ]
    }
   ],
   "source": [
    "import os\n",
    "\n",
    "def find_files_with_extension(file_extension):\n",
    "    current_dir = os.getcwd()\n",
    "    matching_files = [file for file in os.listdir(modelFolder) if file.endswith(file_extension)]\n",
    "    return matching_files\n",
    "\n",
    "# Example usage\n",
    "file_type = '.pkl'  # Change this to the file type you're looking for\n",
    "matching_files = find_files_with_extension(file_type)\n",
    "\n",
    "if matching_files:\n",
    "    print(f\"This directory contains the following '{file_type}' file(s):\")\n",
    "    for file in matching_files:\n",
    "        print(f\"- {file}\")\n",
    "else:\n",
    "    print(f\"This directory does not contain any '{file_type}' files\")"
   ]
  },
  {
   "cell_type": "code",
   "execution_count": 23,
   "metadata": {
    "trusted": true
   },
   "outputs": [
    {
     "name": "stdout",
     "output_type": "stream",
     "text": [
      "Path: 'c:\\Users\\Gamer\\Documents\\GitHub\\VS-Code\\Side-Projects\\Trained-models'\n"
     ]
    }
   ],
   "source": [
    "modelName = 'Animal Classifier.pkl'\n",
    "modelPath = f'{modelFolder} / {modelName}'\n",
    "print(f\"Path: '{modelFolder}'\")"
   ]
  },
  {
   "cell_type": "code",
   "execution_count": 38,
   "metadata": {
    "trusted": true
   },
   "outputs": [
    {
     "ename": "AttributeError",
     "evalue": "type object 'Path' has no attribute 'path'",
     "output_type": "error",
     "traceback": [
      "\u001b[1;31m---------------------------------------------------------------------------\u001b[0m",
      "\u001b[1;31mAttributeError\u001b[0m                            Traceback (most recent call last)",
      "Cell \u001b[1;32mIn[38], line 2\u001b[0m\n\u001b[0;32m      1\u001b[0m \u001b[38;5;28;01mif\u001b[39;00m(os\u001b[38;5;241m.\u001b[39msystem(\u001b[38;5;124m'\u001b[39m\u001b[38;5;124muname -o\u001b[39m\u001b[38;5;124m'\u001b[39m) \u001b[38;5;241m==\u001b[39m \u001b[38;5;241m1\u001b[39m):\n\u001b[1;32m----> 2\u001b[0m     modelPath \u001b[38;5;241m=\u001b[39m \u001b[43mPath\u001b[49m\u001b[38;5;241;43m.\u001b[39;49m\u001b[43mpath\u001b[49m(\u001b[38;5;124mf\u001b[39m\u001b[38;5;124m'\u001b[39m\u001b[38;5;132;01m{\u001b[39;00mmodelPath\u001b[38;5;132;01m}\u001b[39;00m\u001b[38;5;124m'\u001b[39m)\u001b[38;5;241m.\u001b[39mas_windows()\n\u001b[0;32m      4\u001b[0m learn_inf \u001b[38;5;241m=\u001b[39m load_learner(modelPath)\n\u001b[0;32m      5\u001b[0m \u001b[38;5;28mprint\u001b[39m(\u001b[38;5;124m\"\u001b[39m\u001b[38;5;124mModel loaded successfully!\u001b[39m\u001b[38;5;124m\"\u001b[39m)\n",
      "\u001b[1;31mAttributeError\u001b[0m: type object 'Path' has no attribute 'path'"
     ]
    }
   ],
   "source": [
    "if(os.system('uname -o') == 1):\n",
    "    modelPath = Path.path(f'{modelPath}').as_windows()\n",
    "\n",
    "learn_inf = load_learner(modelPath)\n",
    "print(\"Model loaded successfully!\")"
   ]
  },
  {
   "cell_type": "code",
   "execution_count": null,
   "metadata": {
    "trusted": true
   },
   "outputs": [],
   "source": [
    "#hide_output\n",
    "btn_upload = widgets.FileUpload()\n",
    "out_pl = widgets.Output()\n",
    "lbl_pred = widgets.Label()\n",
    "btn_run = widgets.Button(description='Classify')"
   ]
  },
  {
   "cell_type": "code",
   "execution_count": null,
   "metadata": {
    "trusted": true
   },
   "outputs": [],
   "source": [
    "def on_click_classify(change):\n",
    "    img = PILImage.create(btn_upload.data[-1])\n",
    "    out_pl.clear_output()\n",
    "    with out_pl: display(img.to_thumb(448,448))\n",
    "    pred,pred_idx,probs = learn_inf.predict(img)\n",
    "    lbl_pred.value = f'Prediction: {pred}; Probability: {probs[pred_idx]:.02f}'\n",
    "\n",
    "btn_run.on_click(on_click_classify)"
   ]
  },
  {
   "cell_type": "code",
   "execution_count": null,
   "metadata": {
    "trusted": true
   },
   "outputs": [],
   "source": [
    "VBox([btn_upload, btn_run, out_pl, lbl_pred])"
   ]
  },
  {
   "cell_type": "code",
   "execution_count": null,
   "metadata": {
    "trusted": true
   },
   "outputs": [],
   "source": [
    "import gradio as gr\n",
    "from fastai.vision.all import *\n",
    "import skimage\n",
    "\n",
    "learn = learn_inf\n",
    "labels = learn.dls.vocab\n",
    "def predict(img):\n",
    "    img = PILImage.create(img)\n",
    "    pred,pred_idx,probs = learn.predict(img)\n",
    "    return {labels[i]: float(probs[i]) for i in range(len(labels))}\n",
    "\n",
    "interface = gr.Interface(\n",
    "    fn=predict,\n",
    "    inputs=gr.Image(type=\"pil\"),\n",
    "    outputs=gr.Label(num_top_classes=10),\n",
    "    title=model_name,\n",
    "    description=\"\")\n",
    "\n",
    "interface.launch(share=True)"
   ]
  }
 ],
 "metadata": {
  "kaggle": {
   "accelerator": "none",
   "dataSources": [
    {
     "modelId": 99621,
     "modelInstanceId": 74898,
     "sourceId": 89280,
     "sourceType": "modelInstanceVersion"
    },
    {
     "modelId": 99621,
     "modelInstanceId": 74898,
     "sourceId": 89980,
     "sourceType": "modelInstanceVersion"
    },
    {
     "modelId": 99621,
     "modelInstanceId": 74898,
     "sourceId": 90067,
     "sourceType": "modelInstanceVersion"
    },
    {
     "modelId": 99621,
     "modelInstanceId": 74898,
     "sourceId": 90092,
     "sourceType": "modelInstanceVersion"
    },
    {
     "modelId": 99621,
     "modelInstanceId": 74898,
     "sourceId": 90677,
     "sourceType": "modelInstanceVersion"
    }
   ],
   "dockerImageVersionId": 30746,
   "isGpuEnabled": false,
   "isInternetEnabled": true,
   "language": "python",
   "sourceType": "notebook"
  },
  "kernelspec": {
   "display_name": "base",
   "language": "python",
   "name": "python3"
  },
  "language_info": {
   "codemirror_mode": {
    "name": "ipython",
    "version": 3
   },
   "file_extension": ".py",
   "mimetype": "text/x-python",
   "name": "python",
   "nbconvert_exporter": "python",
   "pygments_lexer": "ipython3",
   "version": "3.12.3"
  }
 },
 "nbformat": 4,
 "nbformat_minor": 5
}
