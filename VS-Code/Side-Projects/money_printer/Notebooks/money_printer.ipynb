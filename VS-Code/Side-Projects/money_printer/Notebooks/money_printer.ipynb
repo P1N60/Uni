{
 "cells": [
  {
   "cell_type": "markdown",
   "metadata": {},
   "source": [
    "# Stock Prediction Model"
   ]
  },
  {
   "cell_type": "markdown",
   "metadata": {},
   "source": [
    "## Dependencies"
   ]
  },
  {
   "cell_type": "markdown",
   "metadata": {},
   "source": [
    "### Library Installation (if needed)"
   ]
  },
  {
   "cell_type": "code",
   "execution_count": 36,
   "metadata": {},
   "outputs": [],
   "source": [
    "#! pip install yfinance pandas numpy matplotlib lightgbm torch tensorflow keras"
   ]
  },
  {
   "cell_type": "markdown",
   "metadata": {},
   "source": [
    "### Importing Required Libraries"
   ]
  },
  {
   "cell_type": "code",
   "execution_count": 37,
   "metadata": {},
   "outputs": [],
   "source": [
    "from datetime import datetime\n",
    "import matplotlib.pyplot as plt\n",
    "import yfinance as yf\n",
    "import pandas as pd\n",
    "import numpy as np\n",
    "from tqdm import tqdm\n",
    "from sklearn.impute import SimpleImputer\n",
    "from sklearn.neural_network import MLPRegressor\n",
    "from sklearn.metrics import r2_score, mean_squared_error, mean_absolute_error\n",
    "from sklearn.preprocessing import LabelEncoder, StandardScaler\n",
    "from sklearn.model_selection import train_test_split, GridSearchCV\n",
    "from lightgbm import LGBMRegressor\n",
    "import torch\n",
    "import torch.nn as nn\n",
    "from torch.utils.data import Dataset, DataLoader\n",
    "import os"
   ]
  },
  {
   "cell_type": "markdown",
   "metadata": {},
   "source": [
    "### Variables"
   ]
  },
  {
   "cell_type": "code",
   "execution_count": null,
   "metadata": {},
   "outputs": [],
   "source": [
    "print_errors = False\n",
    "build_new_dataset = False\n",
    "symbols = 'advanced' # 'simple' or 'advanced'. simple are the tickers from the screener notebook and advanced are all of the tickers in 'filtered_tickers'"
   ]
  },
  {
   "cell_type": "markdown",
   "metadata": {},
   "source": [
    "## Data Preparation"
   ]
  },
  {
   "cell_type": "code",
   "execution_count": 39,
   "metadata": {},
   "outputs": [
    {
     "data": {
      "text/plain": [
       "array(['MATAS.CO', 'TRIFOR.CO', 'QQ.L', 'RNMBY', 'SAABF', 'BCKIY',\n",
       "       'BAESY', 'IVSO.ST', 'NSKFF', 'GMAB', 'GN.CO', 'NVDA', 'LLY',\n",
       "       'DANSKE.CO', 'CARL-B.CO', 'MAERSK-B.CO', 'RBREW.CO', 'ISS.CO',\n",
       "       'DSV.CO', 'SCHO.CO', 'NETC.CO', 'JYSK.CO', 'ABBN.SW', 'TER',\n",
       "       'PARKEN.CO', 'NFLX', 'TRMD-A.CO', 'STG.CO', 'NOVO-B.CO', 'EQNR',\n",
       "       'NKT.CO', 'NSIS-B.CO', 'KCC.OL'], dtype=object)"
      ]
     },
     "execution_count": 39,
     "metadata": {},
     "output_type": "execute_result"
    }
   ],
   "source": [
    "if symbols == 'simple':\n",
    "    symbols = pd.read_csv('../data/simple_screener_results.csv')['Ticker'].tolist()\n",
    "if symbols == 'advanced':\n",
    "    symbols = pd.read_csv('../data/filtered_tickers.csv')['Ticker'].tolist()\n",
    "\n",
    "symbols = pd.Series(symbols).unique()\n",
    "symbols"
   ]
  },
  {
   "cell_type": "code",
   "execution_count": 40,
   "metadata": {},
   "outputs": [],
   "source": [
    "symbols=['MAERSK-B.CO']"
   ]
  },
  {
   "cell_type": "markdown",
   "metadata": {},
   "source": [
    "#### Download annual financial data"
   ]
  },
  {
   "cell_type": "code",
   "execution_count": 56,
   "metadata": {},
   "outputs": [
    {
     "name": "stderr",
     "output_type": "stream",
     "text": [
      "100%|██████████| 1/1 [00:01<00:00,  1.29s/it]\n",
      "/opt/anaconda3/lib/python3.12/site-packages/sklearn/impute/_base.py:598: UserWarning: Skipping features without any observed values: ['Other Non Current Liabilities']. At least one non-missing value is needed for imputation with strategy='mean'.\n",
      "  warnings.warn(\n",
      "/opt/anaconda3/lib/python3.12/site-packages/sklearn/impute/_base.py:598: UserWarning: Skipping features without any observed values: ['Other Current Liabilities']. At least one non-missing value is needed for imputation with strategy='mean'.\n",
      "  warnings.warn(\n"
     ]
    }
   ],
   "source": [
    "if build_new_dataset:\n",
    "    df = pd.DataFrame()\n",
    "    for symbol in tqdm(symbols):\n",
    "        ticker_df = pd.DataFrame()\n",
    "        ticker = yf.Ticker(symbol)\n",
    "        try:\n",
    "            # Latest earning data\n",
    "            latest_earning_date = ticker.quarterly_cash_flow.columns.tolist()[0]\n",
    "            latest_data = {'Ticker': symbol, 'Date': latest_earning_date}\n",
    "            latest_data['1 Year Future Change'] = np.nan\n",
    "\n",
    "            try:\n",
    "                latest_data['Sector'] = ticker.info['sector']\n",
    "            except:\n",
    "                latest_data['Sector'] = 'Unknown'\n",
    "                \n",
    "            try:\n",
    "                latest_data['Industry'] = ticker.info['industry']\n",
    "            except:\n",
    "                latest_data['Industry'] = 'Unknown'\n",
    "\n",
    "            for column in ticker.quarterly_cash_flow[latest_earning_date].keys().tolist():\n",
    "                latest_data[column] = ticker.quarterly_cash_flow[latest_earning_date][column]\n",
    "\n",
    "            for column in ticker.quarterly_balance_sheet[latest_earning_date].keys().tolist():\n",
    "                latest_data[column] = ticker.quarterly_balance_sheet[latest_earning_date][column]\n",
    "\n",
    "            for column in ticker.quarterly_income_stmt[latest_earning_date].keys().tolist():\n",
    "                latest_data[column] = ticker.quarterly_income_stmt[latest_earning_date][column]\n",
    "\n",
    "            ticker_df = pd.concat([ticker_df, pd.DataFrame([latest_data])], ignore_index=True)\n",
    "\n",
    "            # Annual data\n",
    "            earning_dates = ticker.cash_flow.columns.tolist()\n",
    "            price_data = yf.download(symbol, period='10y', rounding=False, progress=False)\n",
    "            cash_flow = ticker.cash_flow\n",
    "            cash_flow_columns = cash_flow[earning_dates[0]].keys().tolist()\n",
    "            balance_sheet = ticker.balance_sheet\n",
    "            balance_sheet_columns = balance_sheet[earning_dates[0]].keys().tolist()\n",
    "            income_statement = ticker.income_stmt\n",
    "            income_statement_columns = income_statement[earning_dates[0]].keys().tolist()\n",
    "            for earning_date in earning_dates:\n",
    "                earning_date_data = {'Ticker': symbol, 'Date': earning_date}\n",
    "                got_price = False\n",
    "                day_offset = 0\n",
    "                while(got_price==False and day_offset > -6):\n",
    "                    try:\n",
    "                        from_date = earning_date + pd.Timedelta(days=day_offset)\n",
    "                        to_date = earning_date + pd.Timedelta(days=day_offset+365)                    \n",
    "                        earning_date_data['1 Year Future Change'] = (\n",
    "                            float(price_data.loc[to_date, ('Close', symbol)]) / \n",
    "                            float(price_data.loc[from_date, ('Close', symbol)]) - 1\n",
    "                        )\n",
    "                        got_price = True\n",
    "                    except:\n",
    "                        day_offset += -1\n",
    "\n",
    "                try:\n",
    "                    earning_date_data['Sector'] = ticker.info['sector']\n",
    "                except:\n",
    "                    earning_date_data['Sector'] = 'Unknown'\n",
    "                \n",
    "                try:\n",
    "                    earning_date_data['Industry'] = ticker.info['industry']\n",
    "                except:\n",
    "                    earning_date_data['Industry'] = 'Unknown'\n",
    "\n",
    "                for column in cash_flow_columns:\n",
    "                    earning_date_data[column] = cash_flow[earning_date][column]\n",
    "\n",
    "                for column in balance_sheet_columns:\n",
    "                    earning_date_data[column] = balance_sheet[earning_date][column]\n",
    "\n",
    "                for column in income_statement_columns:\n",
    "                    earning_date_data[column] = income_statement[earning_date][column]\n",
    "                \n",
    "                if got_price:\n",
    "                    ticker_df = pd.concat([ticker_df, pd.DataFrame([earning_date_data])], ignore_index=True)\n",
    "\n",
    "            if len(ticker_df) != 5:\n",
    "                continue\n",
    "\n",
    "            imputer = SimpleImputer()\n",
    "            wanted_columns = ticker_df.columns.drop(['Ticker', 'Date', '1 Year Future Change', 'Sector', 'Industry'])\n",
    "            for column in wanted_columns:\n",
    "                if not ticker_df[column].isna().all():\n",
    "                    ticker_df[column] = imputer.fit_transform(ticker_df[[column]])\n",
    "            \n",
    "            df = pd.concat([df, ticker_df], ignore_index=True)\n",
    "        except Exception as error:\n",
    "            if print_errors:\n",
    "                print(f'Error for {symbol}: {error}')\n",
    "            continue\n",
    "\n",
    "    wanted_columns = df.columns.drop(['Ticker', 'Date', '1 Year Future Change', 'Sector', 'Industry'])\n",
    "    for column in wanted_columns:\n",
    "        df[column] = imputer.fit_transform(df[[column]])\n",
    "        scaler = StandardScaler()\n",
    "        scaler.fit(df[[column]])\n",
    "        df[column] = scaler.transform(df[[column]])\n",
    "\n",
    "    le = LabelEncoder()\n",
    "    for non_numeric_column in ['Sector', 'Industry']:\n",
    "        df[non_numeric_column] = df[non_numeric_column].astype(str)\n",
    "        le.fit(df[non_numeric_column])\n",
    "        df[non_numeric_column] = le.transform(df[non_numeric_column])\n",
    "\n",
    "    df.to_csv('../data/earnings_data.csv', index=False)\n",
    "else:\n",
    "    df = pd.read_csv('../data/earnings_data.csv')"
   ]
  },
  {
   "cell_type": "markdown",
   "metadata": {},
   "source": [
    "### Short visualisation"
   ]
  },
  {
   "cell_type": "code",
   "execution_count": 42,
   "metadata": {},
   "outputs": [
    {
     "data": {
      "application/vnd.microsoft.datawrangler.viewer.v0+json": {
       "columns": [
        {
         "name": "index",
         "rawType": "int64",
         "type": "integer"
        },
        {
         "name": "Ticker",
         "rawType": "object",
         "type": "string"
        },
        {
         "name": "Date",
         "rawType": "datetime64[ns]",
         "type": "datetime"
        },
        {
         "name": "1 Year Future Change",
         "rawType": "float64",
         "type": "float"
        },
        {
         "name": "Sector",
         "rawType": "int64",
         "type": "integer"
        },
        {
         "name": "Industry",
         "rawType": "int64",
         "type": "integer"
        },
        {
         "name": "Free Cash Flow",
         "rawType": "float64",
         "type": "float"
        },
        {
         "name": "Repurchase Of Capital Stock",
         "rawType": "float64",
         "type": "float"
        },
        {
         "name": "Capital Expenditure",
         "rawType": "float64",
         "type": "float"
        },
        {
         "name": "End Cash Position",
         "rawType": "float64",
         "type": "float"
        },
        {
         "name": "Other Cash Adjustment Outside Changein Cash",
         "rawType": "float64",
         "type": "float"
        },
        {
         "name": "Beginning Cash Position",
         "rawType": "float64",
         "type": "float"
        },
        {
         "name": "Effect Of Exchange Rate Changes",
         "rawType": "float64",
         "type": "float"
        },
        {
         "name": "Changes In Cash",
         "rawType": "float64",
         "type": "float"
        },
        {
         "name": "Financing Cash Flow",
         "rawType": "float64",
         "type": "float"
        },
        {
         "name": "Net Other Financing Charges",
         "rawType": "float64",
         "type": "float"
        },
        {
         "name": "Interest Paid Cff",
         "rawType": "float64",
         "type": "float"
        },
        {
         "name": "Cash Dividends Paid",
         "rawType": "float64",
         "type": "float"
        },
        {
         "name": "Net Common Stock Issuance",
         "rawType": "float64",
         "type": "float"
        },
        {
         "name": "Common Stock Payments",
         "rawType": "float64",
         "type": "float"
        },
        {
         "name": "Net Issuance Payments Of Debt",
         "rawType": "float64",
         "type": "float"
        },
        {
         "name": "Net Long Term Debt Issuance",
         "rawType": "float64",
         "type": "float"
        },
        {
         "name": "Investing Cash Flow",
         "rawType": "float64",
         "type": "float"
        },
        {
         "name": "Dividends Received Cfi",
         "rawType": "float64",
         "type": "float"
        },
        {
         "name": "Net Investment Purchase And Sale",
         "rawType": "float64",
         "type": "float"
        },
        {
         "name": "Sale Of Investment",
         "rawType": "float64",
         "type": "float"
        },
        {
         "name": "Purchase Of Investment",
         "rawType": "float64",
         "type": "float"
        },
        {
         "name": "Net Business Purchase And Sale",
         "rawType": "float64",
         "type": "float"
        },
        {
         "name": "Sale Of Business",
         "rawType": "float64",
         "type": "float"
        },
        {
         "name": "Purchase Of Business",
         "rawType": "float64",
         "type": "float"
        },
        {
         "name": "Net Intangibles Purchase And Sale",
         "rawType": "float64",
         "type": "float"
        },
        {
         "name": "Sale Of Intangibles",
         "rawType": "float64",
         "type": "float"
        },
        {
         "name": "Purchase Of Intangibles",
         "rawType": "float64",
         "type": "float"
        },
        {
         "name": "Operating Cash Flow",
         "rawType": "float64",
         "type": "float"
        },
        {
         "name": "Taxes Refund Paid",
         "rawType": "float64",
         "type": "float"
        },
        {
         "name": "Change In Working Capital",
         "rawType": "float64",
         "type": "float"
        },
        {
         "name": "Change In Other Current Assets",
         "rawType": "float64",
         "type": "float"
        },
        {
         "name": "Other Non Cash Items",
         "rawType": "float64",
         "type": "float"
        },
        {
         "name": "Net Income From Continuing Operations",
         "rawType": "float64",
         "type": "float"
        },
        {
         "name": "Treasury Shares Number",
         "rawType": "float64",
         "type": "float"
        },
        {
         "name": "Ordinary Shares Number",
         "rawType": "float64",
         "type": "float"
        },
        {
         "name": "Share Issued",
         "rawType": "float64",
         "type": "float"
        },
        {
         "name": "Total Debt",
         "rawType": "float64",
         "type": "float"
        },
        {
         "name": "Tangible Book Value",
         "rawType": "float64",
         "type": "float"
        },
        {
         "name": "Invested Capital",
         "rawType": "float64",
         "type": "float"
        },
        {
         "name": "Working Capital",
         "rawType": "float64",
         "type": "float"
        },
        {
         "name": "Net Tangible Assets",
         "rawType": "float64",
         "type": "float"
        },
        {
         "name": "Capital Lease Obligations",
         "rawType": "float64",
         "type": "float"
        },
        {
         "name": "Common Stock Equity",
         "rawType": "float64",
         "type": "float"
        },
        {
         "name": "Total Capitalization",
         "rawType": "float64",
         "type": "float"
        },
        {
         "name": "Total Equity Gross Minority Interest",
         "rawType": "float64",
         "type": "float"
        },
        {
         "name": "Minority Interest",
         "rawType": "float64",
         "type": "float"
        },
        {
         "name": "Stockholders Equity",
         "rawType": "float64",
         "type": "float"
        },
        {
         "name": "Retained Earnings",
         "rawType": "float64",
         "type": "float"
        },
        {
         "name": "Capital Stock",
         "rawType": "float64",
         "type": "float"
        },
        {
         "name": "Common Stock",
         "rawType": "float64",
         "type": "float"
        },
        {
         "name": "Total Liabilities Net Minority Interest",
         "rawType": "float64",
         "type": "float"
        },
        {
         "name": "Total Non Current Liabilities Net Minority Interest",
         "rawType": "float64",
         "type": "float"
        },
        {
         "name": "Other Non Current Liabilities",
         "rawType": "float64",
         "type": "float"
        },
        {
         "name": "Derivative Product Liabilities",
         "rawType": "float64",
         "type": "float"
        },
        {
         "name": "Non Current Pension And Other Postretirement Benefit Plans",
         "rawType": "float64",
         "type": "float"
        },
        {
         "name": "Tradeand Other Payables Non Current",
         "rawType": "float64",
         "type": "float"
        },
        {
         "name": "Non Current Deferred Taxes Liabilities",
         "rawType": "float64",
         "type": "float"
        },
        {
         "name": "Long Term Debt And Capital Lease Obligation",
         "rawType": "float64",
         "type": "float"
        },
        {
         "name": "Long Term Capital Lease Obligation",
         "rawType": "float64",
         "type": "float"
        },
        {
         "name": "Long Term Debt",
         "rawType": "float64",
         "type": "float"
        },
        {
         "name": "Long Term Provisions",
         "rawType": "float64",
         "type": "float"
        },
        {
         "name": "Current Liabilities",
         "rawType": "float64",
         "type": "float"
        },
        {
         "name": "Other Current Liabilities",
         "rawType": "float64",
         "type": "float"
        },
        {
         "name": "Current Debt And Capital Lease Obligation",
         "rawType": "float64",
         "type": "float"
        },
        {
         "name": "Current Capital Lease Obligation",
         "rawType": "float64",
         "type": "float"
        },
        {
         "name": "Current Debt",
         "rawType": "float64",
         "type": "float"
        },
        {
         "name": "Current Provisions",
         "rawType": "float64",
         "type": "float"
        },
        {
         "name": "Payables",
         "rawType": "float64",
         "type": "float"
        },
        {
         "name": "Other Payable",
         "rawType": "float64",
         "type": "float"
        },
        {
         "name": "Total Tax Payable",
         "rawType": "float64",
         "type": "float"
        },
        {
         "name": "Accounts Payable",
         "rawType": "float64",
         "type": "float"
        },
        {
         "name": "Total Assets",
         "rawType": "float64",
         "type": "float"
        },
        {
         "name": "Total Non Current Assets",
         "rawType": "float64",
         "type": "float"
        },
        {
         "name": "Defined Pension Benefit",
         "rawType": "float64",
         "type": "float"
        },
        {
         "name": "Non Current Deferred Taxes Assets",
         "rawType": "float64",
         "type": "float"
        },
        {
         "name": "Financial Assets",
         "rawType": "float64",
         "type": "float"
        },
        {
         "name": "Investmentin Financial Assets",
         "rawType": "float64",
         "type": "float"
        },
        {
         "name": "Available For Sale Securities",
         "rawType": "float64",
         "type": "float"
        },
        {
         "name": "Long Term Equity Investment",
         "rawType": "float64",
         "type": "float"
        },
        {
         "name": "Investmentsin Joint Venturesat Cost",
         "rawType": "float64",
         "type": "float"
        },
        {
         "name": "Investmentsin Associatesat Cost",
         "rawType": "float64",
         "type": "float"
        },
        {
         "name": "Goodwill And Other Intangible Assets",
         "rawType": "float64",
         "type": "float"
        },
        {
         "name": "Other Intangible Assets",
         "rawType": "float64",
         "type": "float"
        },
        {
         "name": "Goodwill",
         "rawType": "float64",
         "type": "float"
        },
        {
         "name": "Net PPE",
         "rawType": "float64",
         "type": "float"
        },
        {
         "name": "Accumulated Depreciation",
         "rawType": "float64",
         "type": "float"
        },
        {
         "name": "Gross PPE",
         "rawType": "float64",
         "type": "float"
        },
        {
         "name": "Construction In Progress",
         "rawType": "float64",
         "type": "float"
        },
        {
         "name": "Other Properties",
         "rawType": "float64",
         "type": "float"
        },
        {
         "name": "Machinery Furniture Equipment",
         "rawType": "float64",
         "type": "float"
        },
        {
         "name": "Current Assets",
         "rawType": "float64",
         "type": "float"
        },
        {
         "name": "Hedging Assets Current",
         "rawType": "float64",
         "type": "float"
        },
        {
         "name": "Assets Held For Sale Current",
         "rawType": "float64",
         "type": "float"
        },
        {
         "name": "Prepaid Assets",
         "rawType": "float64",
         "type": "float"
        },
        {
         "name": "Inventory",
         "rawType": "float64",
         "type": "float"
        },
        {
         "name": "Other Receivables",
         "rawType": "float64",
         "type": "float"
        },
        {
         "name": "Taxes Receivable",
         "rawType": "float64",
         "type": "float"
        },
        {
         "name": "Accounts Receivable",
         "rawType": "float64",
         "type": "float"
        },
        {
         "name": "Allowance For Doubtful Accounts Receivable",
         "rawType": "float64",
         "type": "float"
        },
        {
         "name": "Gross Accounts Receivable",
         "rawType": "float64",
         "type": "float"
        },
        {
         "name": "Cash Cash Equivalents And Short Term Investments",
         "rawType": "float64",
         "type": "float"
        },
        {
         "name": "Other Short Term Investments",
         "rawType": "float64",
         "type": "float"
        },
        {
         "name": "Cash And Cash Equivalents",
         "rawType": "float64",
         "type": "float"
        },
        {
         "name": "Cash Financial",
         "rawType": "float64",
         "type": "float"
        },
        {
         "name": "Tax Effect Of Unusual Items",
         "rawType": "float64",
         "type": "float"
        },
        {
         "name": "Tax Rate For Calcs",
         "rawType": "float64",
         "type": "float"
        },
        {
         "name": "Normalized EBITDA",
         "rawType": "float64",
         "type": "float"
        },
        {
         "name": "Total Unusual Items",
         "rawType": "float64",
         "type": "float"
        },
        {
         "name": "Total Unusual Items Excluding Goodwill",
         "rawType": "float64",
         "type": "float"
        },
        {
         "name": "Net Income From Continuing Operation Net Minority Interest",
         "rawType": "float64",
         "type": "float"
        },
        {
         "name": "Reconciled Cost Of Revenue",
         "rawType": "float64",
         "type": "float"
        },
        {
         "name": "EBITDA",
         "rawType": "float64",
         "type": "float"
        },
        {
         "name": "EBIT",
         "rawType": "float64",
         "type": "float"
        },
        {
         "name": "Net Interest Income",
         "rawType": "float64",
         "type": "float"
        },
        {
         "name": "Normalized Income",
         "rawType": "float64",
         "type": "float"
        },
        {
         "name": "Net Income From Continuing And Discontinued Operation",
         "rawType": "float64",
         "type": "float"
        },
        {
         "name": "Total Expenses",
         "rawType": "float64",
         "type": "float"
        },
        {
         "name": "Diluted Average Shares",
         "rawType": "float64",
         "type": "float"
        },
        {
         "name": "Basic Average Shares",
         "rawType": "float64",
         "type": "float"
        },
        {
         "name": "Diluted EPS",
         "rawType": "float64",
         "type": "float"
        },
        {
         "name": "Basic EPS",
         "rawType": "float64",
         "type": "float"
        },
        {
         "name": "Diluted NI Availto Com Stockholders",
         "rawType": "float64",
         "type": "float"
        },
        {
         "name": "Net Income Common Stockholders",
         "rawType": "float64",
         "type": "float"
        },
        {
         "name": "Otherunder Preferred Stock Dividend",
         "rawType": "float64",
         "type": "float"
        },
        {
         "name": "Net Income",
         "rawType": "float64",
         "type": "float"
        },
        {
         "name": "Minority Interests",
         "rawType": "float64",
         "type": "float"
        },
        {
         "name": "Net Income Including Noncontrolling Interests",
         "rawType": "float64",
         "type": "float"
        },
        {
         "name": "Net Income Continuous Operations",
         "rawType": "float64",
         "type": "float"
        },
        {
         "name": "Tax Provision",
         "rawType": "float64",
         "type": "float"
        },
        {
         "name": "Pretax Income",
         "rawType": "float64",
         "type": "float"
        },
        {
         "name": "Special Income Charges",
         "rawType": "float64",
         "type": "float"
        },
        {
         "name": "Other Special Charges",
         "rawType": "float64",
         "type": "float"
        },
        {
         "name": "Net Non Operating Interest Income Expense",
         "rawType": "float64",
         "type": "float"
        },
        {
         "name": "Operating Income",
         "rawType": "float64",
         "type": "float"
        },
        {
         "name": "Gross Profit",
         "rawType": "float64",
         "type": "float"
        },
        {
         "name": "Cost Of Revenue",
         "rawType": "float64",
         "type": "float"
        },
        {
         "name": "Total Revenue",
         "rawType": "float64",
         "type": "float"
        },
        {
         "name": "Operating Revenue",
         "rawType": "float64",
         "type": "float"
        },
        {
         "name": "Repayment Of Debt",
         "rawType": "float64",
         "type": "float"
        },
        {
         "name": "Issuance Of Debt",
         "rawType": "float64",
         "type": "float"
        },
        {
         "name": "Issuance Of Capital Stock",
         "rawType": "float64",
         "type": "float"
        },
        {
         "name": "Other Cash Adjustment Inside Changein Cash",
         "rawType": "float64",
         "type": "float"
        },
        {
         "name": "Common Stock Dividend Paid",
         "rawType": "float64",
         "type": "float"
        },
        {
         "name": "Common Stock Issuance",
         "rawType": "float64",
         "type": "float"
        },
        {
         "name": "Long Term Debt Payments",
         "rawType": "float64",
         "type": "float"
        },
        {
         "name": "Long Term Debt Issuance",
         "rawType": "float64",
         "type": "float"
        },
        {
         "name": "Capital Expenditure Reported",
         "rawType": "float64",
         "type": "float"
        },
        {
         "name": "Change In Receivables",
         "rawType": "float64",
         "type": "float"
        },
        {
         "name": "Depreciation And Amortization",
         "rawType": "float64",
         "type": "float"
        },
        {
         "name": "Amortization Cash Flow",
         "rawType": "float64",
         "type": "float"
        },
        {
         "name": "Depreciation",
         "rawType": "float64",
         "type": "float"
        },
        {
         "name": "Pension And Employee Benefit Expense",
         "rawType": "float64",
         "type": "float"
        },
        {
         "name": "Gain Loss On Investment Securities",
         "rawType": "float64",
         "type": "float"
        },
        {
         "name": "Net Debt",
         "rawType": "float64",
         "type": "float"
        },
        {
         "name": "Reconciled Depreciation",
         "rawType": "float64",
         "type": "float"
        },
        {
         "name": "Interest Expense",
         "rawType": "float64",
         "type": "float"
        },
        {
         "name": "Interest Income",
         "rawType": "float64",
         "type": "float"
        },
        {
         "name": "Rent Expense Supplemental",
         "rawType": "float64",
         "type": "float"
        },
        {
         "name": "Net Income Discontinuous Operations",
         "rawType": "float64",
         "type": "float"
        },
        {
         "name": "Other Non Operating Income Expenses",
         "rawType": "float64",
         "type": "float"
        },
        {
         "name": "Write Off",
         "rawType": "float64",
         "type": "float"
        },
        {
         "name": "Restructuring And Mergern Acquisition",
         "rawType": "float64",
         "type": "float"
        },
        {
         "name": "Total Other Finance Cost",
         "rawType": "float64",
         "type": "float"
        },
        {
         "name": "Interest Expense Non Operating",
         "rawType": "float64",
         "type": "float"
        },
        {
         "name": "Interest Income Non Operating",
         "rawType": "float64",
         "type": "float"
        },
        {
         "name": "Operating Expense",
         "rawType": "float64",
         "type": "float"
        },
        {
         "name": "Other Operating Expenses",
         "rawType": "float64",
         "type": "float"
        }
       ],
       "conversionMethod": "pd.DataFrame",
       "ref": "e11affa0-169e-4cec-86e7-3f17a7c08197",
       "rows": [
        [
         "0",
         "MAERSK-B.CO",
         "2024-12-31 00:00:00",
         null,
         "0",
         "0",
         "-1.1998804082714851",
         "1.8091061875172747",
         "1.732278234982607",
         "-1.1196450749321132",
         "0.0",
         "-0.9899994829901725",
         "1.0960701400849011",
         "-0.03475932858296761",
         "1.6407276299152653",
         "-0.0289063750166827",
         "1.6712218476729788",
         "1.1830945843746106",
         "1.8083114156948088",
         "1.8091061875172747",
         "0.7123899337269327",
         "0.7123899337269327",
         "0.4985543155407303",
         "-1.8791846695800627",
         "0.32976608769182675",
         "0.0",
         "0.0",
         "0.5523288973976367",
         "-0.8058550554772832",
         "0.8292081101276109",
         "1.680719614753373",
         "-1.352473846970906",
         "1.732278234982607",
         "-1.2707099388120395",
         "1.819257351914565",
         "1.3062112497835043",
         "0.0",
         "0.0",
         "-1.1408823548521758",
         "-1.5473357407315858",
         "-1.1833161145978746",
         "-1.6982650195380766",
         "1.6866269709503432",
         "0.2691047915244128",
         "0.4217506049949937",
         "0.08191216842566632",
         "0.2691047915244128",
         "0.8842036187688124",
         "0.3287565537873029",
         "0.3916073267915433",
         "0.3258547385719792",
         "-1.3355806352643498",
         "0.3287565537873029",
         "1.5811388300841898",
         "-1.6990068330970292",
         "-1.6990068330970292",
         "1.5473308640941013",
         "1.5906687208050936",
         "0.0",
         "-0.10128868700556133",
         "-1.2824729401064427",
         "-1.8371525753639313",
         "0.6669664676751244",
         "1.7803015448317627",
         "1.261353022821369",
         "1.3631925387863395",
         "1.1938287024563856",
         "1.4589289949162922",
         "0.0",
         "0.8890092174735661",
         "-0.034667061606144224",
         "1.3234030995953205",
         "-1.3949294406737143",
         "0.9726755716697724",
         "0.9257083088979458",
         "1.4360669724301527",
         "0.8033635112887733",
         "0.5180151153928348",
         "0.9293647157070367",
         "-0.7093483216400696",
         "-0.04045199174779453",
         "-1.165543034828717",
         "-0.15201325613392752",
         "-0.15201325613392752",
         "-0.967243632632242",
         "-0.5855141928581531",
         "-1.1829952053991302",
         "0.4600193250866341",
         "-0.20199211222659752",
         "0.6200955617366397",
         "0.8557735721414047",
         "-0.25342913508832854",
         "0.5886821021461516",
         "1.0204816705357582",
         "0.9320931015475539",
         "-0.20490906383794485",
         "0.2646221808697313",
         "-0.995652737084412",
         "-0.869635158249414",
         "-1.0792362352051994",
         "0.3149448894660933",
         "0.7360535966271217",
         "1.7406087190507378",
         "-0.08000016131393456",
         "-1.0708868530633977",
         "-0.03632202179875953",
         "-0.6810456774245572",
         "1.5858609934982248",
         "-1.1045632037729705",
         "-1.1045632037729705",
         "-0.48997339412673235",
         "0.19882403707061025",
         "0.0",
         "-4.7849645467018844e-17",
         "-4.7849645467018844e-17",
         "-1.1291404369922915",
         "0.0",
         "0.0",
         "0.0",
         "0.0",
         "-1.101141189733917",
         "-1.1291404369922915",
         "0.0",
         "0.0",
         "0.0",
         "0.0",
         "0.0",
         "-1.1291404369922915",
         "-1.1291404369922915",
         "0.0",
         "-1.1291404369922915",
         "1.7743949775052426",
         "-1.1318298088847427",
         "-1.1318298088847427",
         "-1.596740243935623",
         "-1.1451337141952163",
         "0.0",
         "0.0",
         "0.0",
         "0.0",
         "0.0",
         "0.0",
         "-1.7301892551690066",
         "-1.7301892551690066",
         "0.0",
         "0.0",
         "0.0",
         "0.0",
         "0.0",
         "0.0",
         "0.0",
         "0.0",
         "0.0",
         "0.0",
         "0.0",
         "0.0",
         "0.0",
         "0.0",
         "0.0",
         "0.0",
         "0.0",
         "0.0",
         "0.0",
         "0.0",
         "0.0",
         "0.0",
         "0.0",
         "0.0",
         "0.0",
         "0.0",
         "0.0",
         "0.0",
         "0.0"
        ],
        [
         "1",
         "MAERSK-B.CO",
         "2023-12-31 00:00:00",
         "0.06435524529691894",
         "0",
         "0",
         "-0.8702645072465651",
         "-1.0928778873495266",
         "-0.6379890191906807",
         "-1.0469745554650314",
         "-1.5684060733501073",
         "0.7362833364192026",
         "-0.9252540143573841",
         "-1.1889040252213097",
         "-1.2559875449859597",
         "1.8150160734159189",
         "-0.17218649339660994",
         "-1.563402043087132",
         "-1.0972287566605154",
         "-1.0928778873495266",
         "1.1548252152264349",
         "1.1548252152264349",
         "1.3443697095088352",
         "0.6320508256601114",
         "1.500806974954792",
         "0.0",
         "0.0",
         "1.1708330494834809",
         "1.9041904991100271",
         "0.7505074779421843",
         "-0.31021737578970277",
         "1.720083371299712",
         "-0.6379890191906807",
         "-0.768345180788042",
         "-0.5718371717151687",
         "0.908091710662262",
         "-1.1170542911633292",
         "1.625124752928192",
         "-0.9629426755159866",
         "1.4920707500338972",
         "-0.9319878030838575",
         "-0.2502989206797946",
         "-1.3964844911990613",
         "-0.3586827110982276",
         "-0.1691451439841223",
         "-0.2824619610107043",
         "-0.3586827110982276",
         "-1.2165290700620814",
         "-0.13299006298912303",
         "-0.14089035126296312",
         "-0.1321292673806193",
         "0.42562459805127634",
         "-0.13299006298912303",
         "-1.5811388300841898",
         "-0.2489429323308949",
         "-0.2489429323308949",
         "-0.6296633293942253",
         "-1.0192162567603436",
         "0.0",
         "-0.21383167256729613",
         "-0.25649458802128855",
         "0.30835141956037776",
         "0.12217704062517294",
         "-1.2953024528842394",
         "-1.5807022436204798",
         "-0.12137328711784184",
         "0.6189136516420083",
         "-0.3055129564798891",
         "0.0",
         "-1.1632028393970506",
         "-0.20304993226455903",
         "-1.3274317239472089",
         "1.7297125064354055",
         "-0.675209849815549",
         "-0.4885154730734539",
         "-0.9663254393922523",
         "-0.6694695927406444",
         "-0.21037916443024482",
         "-0.04564998140173582",
         "-1.234791522854936",
         "-1.2270437496831006",
         "-0.29138575870717925",
         "1.3301159911718656",
         "1.3301159911718656",
         "-0.9469659883422579",
         "-0.7249795858182061",
         "-0.8384826830559146",
         "0.5033152615653762",
         "-0.09273851693422402",
         "0.6422993877994013",
         "-1.2367308397398364",
         "1.5994813177919052",
         "-1.449398725085026",
         "1.0412631836549215",
         "0.8953603684816405",
         "-1.7129864061590974",
         "-0.2965884966787733",
         "0.5361207045839141",
         "1.8943275412467226",
         "1.1555298129516642",
         "1.1697953037312037",
         "0.039850392984997436",
         "0.21815629278769247",
         "-0.9230126138693739",
         "0.616571218430441",
         "-0.9197403910651407",
         "-1.462300442691071",
         "0.0",
         "-1.0417657018325783",
         "-1.0417657018325783",
         "1.9286079888905165",
         "1.7431414778781338",
         "-1.606126702741731",
         "1.810009959003201",
         "1.810009959003201",
         "-0.9536585715971087",
         "0.27803215044262103",
         "-1.5940756491513368",
         "-1.637633951234635",
         "1.7073670436298145",
         "-0.9867048293021089",
         "-0.9536585715971087",
         "0.3230800612295938",
         "-1.7031986139550126",
         "-1.7002762349513985",
         "-1.6015274332329807",
         "-1.6018230494454835",
         "-0.9536585715971087",
         "-0.9536585715971087",
         "0.0",
         "-0.9536585715971087",
         "-0.1498377981004427",
         "-0.9506644927292395",
         "-0.9506644927292395",
         "-0.3812964732295625",
         "-0.9377548460846932",
         "1.8248854595617572",
         "-1.8256468807114519",
         "1.7073670436298145",
         "-1.6600373363759449",
         "-1.6590704598960029",
         "0.27803215044262103",
         "-0.05416929951807028",
         "-0.05416929951807028",
         "1.0189656604999175",
         "1.4282075694760235",
         "-0.5576246709318385",
         "0.0",
         "0.0",
         "-0.5576246709318385",
         "1.0189656604999175",
         "1.4282075694760235",
         "0.0",
         "1.762524272125522",
         "1.2163097077852463",
         "1.5811388300841898",
         "1.3162342276992274",
         "0.4964003084776979",
         "-1.8256468807114519",
         "0.0",
         "1.2163097077852463",
         "-0.7351370145966665",
         "1.7247777400926843",
         "-1.7279500072737233",
         "0.0",
         "0.0",
         "-1.5311180047019057",
         "-1.6296016874534212",
         "-1.5811388300841898",
         "-0.7351370145966665",
         "1.7247777400926843",
         "1.7638476462667987",
         "-1.817347598446148"
        ],
        [
         "2",
         "MAERSK-B.CO",
         "2022-12-31 00:00:00",
         "-0.10049565262218052",
         "0",
         "0",
         "1.6096056194000792",
         "-0.7297734272777553",
         "-1.2519309883327598",
         "0.694003460910633",
         "1.534676910482363",
         "1.4394132017801298",
         "-1.2953556201003378",
         "-0.5790971635764313",
         "-0.7652992112093913",
         "-0.658761072748611",
         "-1.4754019140062458",
         "-0.5459659533442707",
         "-0.7251895443345703",
         "-0.7297734272777553",
         "-0.09228923450028678",
         "-0.09228923450028678",
         "-1.710743077025382",
         "1.0053425884660832",
         "-1.6093088229291916",
         "-0.38965632954607327",
         "-1.5811388300841898",
         "-1.8206011014220214",
         "-0.3027069751539033",
         "-1.9082051832785323",
         "-1.4401711691689554",
         "0.08504399443427603",
         "-1.2519309883327598",
         "1.617887419825946",
         "-1.1646705246812183",
         "-1.2009939430157475",
         "-0.6921295950730977",
         "-0.09198819356197313",
         "1.580159132236792",
         "0.46234497087117743",
         "0.560708111029027",
         "0.6960773159771548",
         "0.1404363759818505",
         "1.5931618512604442",
         "1.4166832687808004",
         "1.6644672641924592",
         "1.5931618512604442",
         "1.3243986427769456",
         "1.4601717138414896",
         "1.4230865564034196",
         "1.4615973644642302",
         "-0.6898053830486203",
         "1.4601717138414896",
         "0.0",
         "0.6963518890546231",
         "0.6963518890546231",
         "0.48674394931773707",
         "0.5104183161836379",
         "0.0",
         "1.7219076790945425",
         "-0.25649458802128855",
         "1.1893554754471714",
         "1.0595353195199424",
         "-0.374987102798451",
         "0.8151809057240463",
         "-1.7062476147723056",
         "-0.026399160496578554",
         "0.4511547494319458",
         "0.0",
         "1.3243269265067272",
         "1.6887811439564544",
         "-0.8601112991281612",
         "-0.22318871050779426",
         "1.1842620683861655",
         "1.1614122725598457",
         "0.738165266202415",
         "1.3290211174406867",
         "1.3693499417615564",
         "0.9263022431601697",
         "0.23644944054668984",
         "1.793371634152224",
         "-0.3885143449429057",
         "0.5320463964687463",
         "0.5320463964687463",
         "0.13991574560089035",
         "-0.6239874047092022",
         "1.6642994645550933",
         "0.9450508296930821",
         "1.7137569773187424",
         "0.6738144957594501",
         "1.3449447882170722",
         "-1.5307862408815156",
         "1.4749348203554637",
         "-0.4189115539283981",
         "-0.002754954979943509",
         "1.2626979045076179",
         "1.5718590273678228",
         "1.5743227039368908",
         "-0.7675525963206254",
         "1.0792362352051994",
         "0.35993701653267807",
         "1.0535096849695802",
         "-0.9329662734111955",
         "1.8503263116803574",
         "-1.0708868530633977",
         "1.8373933096131114",
         "0.8470757478972896",
         "0.5191458497429613",
         "0.6308407784210435",
         "0.6308407784210435",
         "-0.7720550903297768",
         "-1.10572651383939",
         "1.5549062611964364",
         "-1.1121232095826885",
         "-1.1121232095826885",
         "1.609972871274602",
         "1.4236814618888571",
         "1.5678764059836428",
         "1.517827906377866",
         "-0.29361804908418265",
         "1.6071064434456193",
         "1.609972871274602",
         "1.3946458373093777",
         "0.28209438068951936",
         "0.2741211527562367",
         "1.559929318084072",
         "1.5596092172847258",
         "1.609972871274602",
         "1.609972871274602",
         "0.0",
         "1.609972871274602",
         "-1.3169953833038912",
         "1.6099329374486262",
         "1.6099329374486262",
         "1.4065821056154812",
         "1.607161633588514",
         "-0.960865809092871",
         "0.8966958177346",
         "-0.29361804908418265",
         "1.4882033165795874",
         "1.489545765337664",
         "1.4236814618888571",
         "1.3457997698507467",
         "1.3457997698507467",
         "0.8024934412738349",
         "-1.699074522307683",
         "1.7843989469818817",
         "0.0",
         "0.0",
         "1.7843989469818817",
         "0.8024934412738349",
         "-1.699074522307683",
         "0.0",
         "-0.4687925703657272",
         "0.5710156261739897",
         "-1.5811388300841898",
         "0.43762263325038253",
         "1.2733747043558348",
         "0.8966958177346",
         "0.0",
         "0.5710156261739897",
         "-1.0797324901888552",
         "-0.3438753114381031",
         "0.3534443196696252",
         "0.0",
         "0.0",
         "-0.09569487529386927",
         "1.5277515819875822",
         "0.0",
         "-1.0797324901888552",
         "-0.3438753114381031",
         "-1.2901285641265738",
         "0.7572281660192284"
        ],
        [
         "3",
         "MAERSK-B.CO",
         "2021-12-31 00:00:00",
         "-0.2534552752860306",
         "0",
         "0",
         "0.46053929611797106",
         "0.013545127110007181",
         "0.15764177254083364",
         "1.4726161694865114",
         "-0.28669788437582605",
         "-1.18569705520916",
         "1.1245394943728206",
         "1.8027605173807086",
         "0.38055912628008576",
         "-1.1273486256506253",
         "-0.02363344027012293",
         "0.9262734120567921",
         "0.014106885300276838",
         "0.013545127110007181",
         "-1.774925914453081",
         "-1.774925914453081",
         "-0.13218094802418337",
         "0.24179125545386812",
         "-0.22126423971742726",
         "-1.349880855927468",
         "1.5811388300841898",
         "0.09743915454090384",
         "-0.7956284684788405",
         "0.32848959520873716",
         "0.06966893020528521",
         "-0.4526535187630821",
         "0.15764177254083364",
         "0.4211676997741356",
         "-0.08274965551817776",
         "-1.013309017430019",
         "1.8091838862364271",
         "-1.533136559366219",
         "0.5236658981313704",
         "-0.40707998017348884",
         "1.5545958066527052",
         "1.2524866242407164",
         "-0.43057885573313237",
         "-1.5035839316866295",
         "-1.6692887297916719",
         "-1.463917471607421",
         "-1.5035839316866295",
         "-0.9920731914836768",
         "-1.6559382046396696",
         "-1.6738035319319997",
         "-1.65532283565559",
         "1.5997614202616939",
         "-1.6559382046396696",
         "0.0",
         "1.251597876373301",
         "1.251597876373301",
         "-1.404411484017613",
         "-1.081870780228388",
         "0.0",
         "-1.4067873195216851",
         "1.7954621161490196",
         "0.33944568035638223",
         "-1.8486788278202397",
         "-0.11001198914907238",
         "-0.4958316849249354",
         "0.46442836310380803",
         "-1.7863431936018155",
         "-1.6045707878683488",
         "0.0",
         "-1.0501333045832426",
         "-1.451064150085751",
         "0.8641399234800495",
         "-0.11159435525389713",
         "-1.4817277902403891",
         "-1.5986051083843376",
         "-1.2079067992403154",
         "-1.4629150359888154",
         "-1.6769858927241463",
         "-1.8100169774654706",
         "1.7076904039483156",
         "-0.5258758927213288",
         "1.8454431384788021",
         "-1.7101491315066846",
         "-1.7101491315066846",
         "1.7742938753736095",
         "1.9344811833855613",
         "0.3571784238999515",
         "-1.9083854163450924",
         "-1.419026348157921",
         "-1.9362094452954912",
         "-0.9639875206186405",
         "0.18473405817793911",
         "-0.6142181974165895",
         "-1.6428333002622817",
         "-1.8246985150492507",
         "0.6551975654894243",
         "-1.5398927115587808",
         "-1.1147906714363929",
         "-0.2571397866766831",
         "-1.1555298129516642",
         "-1.844677209729975",
         "-1.8294136745816993",
         "-1.025798738427235",
         "-0.8473135364970488",
         "1.5252024876963541",
         "-0.8813308967492111",
         "1.2962703722183389",
         "-1.0508314543106319",
         "1.5154881271845055",
         "1.5154881271845055",
         "-0.6665795044340074",
         "-0.8362390011093539",
         "0.051220441545294225",
         "-0.6978867494205129",
         "-0.6978867494205129",
         "0.4728261373147984",
         "-1.701713612331481",
         "0.026199243167693884",
         "0.11980604485676909",
         "-1.4137489945456316",
         "0.4807395755904066",
         "0.4728261373147984",
         "-1.7177258985389687",
         "1.4211042332654984",
         "1.4261550821951618",
         "0.04159811514890859",
         "0.04221383216075792",
         "0.4728261373147984",
         "0.4728261373147984",
         "0.0",
         "0.4728261373147984",
         "-0.3075617961009087",
         "0.47256136416535593",
         "0.47256136416535593",
         "0.5714546115497042",
         "0.47572692669139555",
         "-0.864019650468886",
         "0.9289510629768518",
         "-1.4137489945456316",
         "0.17183401979635757",
         "0.16952469455833918",
         "-1.701713612331481",
         "0.43855878483633015",
         "0.43855878483633015",
         "-1.8214591017737525",
         "0.2708669528316596",
         "-1.2267742760500444",
         "0.0",
         "0.0",
         "-1.2267742760500444",
         "-1.8214591017737525",
         "0.2708669528316596",
         "0.0",
         "-1.2937317017597947",
         "-1.787325333959236",
         "0.0",
         "-1.75385686094961",
         "-1.7697750128335346",
         "0.9289510629768518",
         "0.0",
         "-1.787325333959236",
         "1.8148695047855299",
         "-1.3809024286545812",
         "1.3745056876040982",
         "0.0",
         "1.5811388300841898",
         "1.6268128799957744",
         "0.10185010546583882",
         "1.5811388300841898",
         "1.8148695047855299",
         "-1.3809024286545812",
         "-0.47371908214022673",
         "1.0601194324269196"
        ],
        [
         "4",
         "MAERSK-B.CO",
         "2020-12-31 00:00:00",
         "0.7670161639980566",
         "0",
         "0",
         "0.0",
         "0.0",
         "0.0",
         "0.0",
         "0.3204270472435703",
         "0.0",
         "0.0",
         "0.0",
         "0.0",
         "0.0",
         "0.0",
         "0.0",
         "0.0",
         "0.0",
         "0.0",
         "0.0",
         "0.0",
         "0.0",
         "0.0",
         "1.7395371854735409",
         "0.0",
         "0.0",
         "0.0",
         "0.0",
         "0.0",
         "0.0",
         "0.0",
         "0.0",
         "0.0",
         "0.0",
         "0.0",
         "0.0",
         "0.0",
         "0.0",
         "0.0",
         "0.0",
         "0.0",
         "0.0",
         "0.0",
         "0.0",
         "0.0",
         "0.0",
         "0.0",
         "0.0",
         "0.0",
         "0.0",
         "0.0",
         "0.0",
         "0.0",
         "0.0",
         "0.0",
         "0.0",
         "0.0",
         "0.0",
         "0.0",
         "0.0",
         "0.0",
         "0.0",
         "0.0",
         "0.0",
         "0.0",
         "0.0",
         "0.0",
         "0.0",
         "0.0",
         "0.0",
         "0.0",
         "0.0",
         "0.0",
         "0.0",
         "0.0",
         "0.0",
         "0.0",
         "0.0",
         "0.0",
         "0.0",
         "0.0",
         "0.0",
         "0.0",
         "0.0",
         "0.0",
         "0.0",
         "0.0",
         "0.0",
         "0.0",
         "0.0",
         "0.0",
         "0.0",
         "0.0",
         "0.0",
         "0.0",
         "0.0",
         "0.0",
         "0.0",
         "0.0",
         "0.0",
         "0.0",
         "0.0",
         "0.0",
         "0.0",
         "0.0",
         "-1.0541753889305543",
         "0.0",
         "0.0",
         "0.0",
         "0.0",
         "0.0",
         "-4.7849645467018844e-17",
         "-4.7849645467018844e-17",
         "0.0",
         "0.0",
         "0.0",
         "0.0",
         "0.0",
         "0.0",
         "0.0",
         "0.0",
         "0.0",
         "0.0",
         "0.0",
         "0.0",
         "0.0",
         "0.0",
         "0.0",
         "0.0",
         "0.0",
         "0.0",
         "0.0",
         "0.0",
         "0.0",
         "0.0",
         "0.0",
         "0.0",
         "0.0",
         "0.0",
         "0.0",
         "0.0",
         "0.0",
         "0.0",
         "0.0",
         "0.0",
         "0.0",
         "0.0",
         "0.0",
         "0.0",
         "0.0",
         "0.0",
         "0.0",
         "0.0",
         "0.0",
         "0.0",
         "0.0",
         "0.0",
         "0.0",
         "0.0",
         "0.0",
         "0.0",
         "0.0",
         "0.0",
         "-1.5811388300841898",
         "0.0",
         "0.0",
         "0.0",
         "0.0",
         "0.0",
         "0.0",
         "0.0"
        ]
       ],
       "shape": {
        "columns": 172,
        "rows": 5
       }
      },
      "text/html": [
       "<div>\n",
       "<style scoped>\n",
       "    .dataframe tbody tr th:only-of-type {\n",
       "        vertical-align: middle;\n",
       "    }\n",
       "\n",
       "    .dataframe tbody tr th {\n",
       "        vertical-align: top;\n",
       "    }\n",
       "\n",
       "    .dataframe thead th {\n",
       "        text-align: right;\n",
       "    }\n",
       "</style>\n",
       "<table border=\"1\" class=\"dataframe\">\n",
       "  <thead>\n",
       "    <tr style=\"text-align: right;\">\n",
       "      <th></th>\n",
       "      <th>Ticker</th>\n",
       "      <th>Date</th>\n",
       "      <th>1 Year Future Change</th>\n",
       "      <th>Sector</th>\n",
       "      <th>Industry</th>\n",
       "      <th>Free Cash Flow</th>\n",
       "      <th>Repurchase Of Capital Stock</th>\n",
       "      <th>Capital Expenditure</th>\n",
       "      <th>End Cash Position</th>\n",
       "      <th>Other Cash Adjustment Outside Changein Cash</th>\n",
       "      <th>...</th>\n",
       "      <th>Rent Expense Supplemental</th>\n",
       "      <th>Net Income Discontinuous Operations</th>\n",
       "      <th>Other Non Operating Income Expenses</th>\n",
       "      <th>Write Off</th>\n",
       "      <th>Restructuring And Mergern Acquisition</th>\n",
       "      <th>Total Other Finance Cost</th>\n",
       "      <th>Interest Expense Non Operating</th>\n",
       "      <th>Interest Income Non Operating</th>\n",
       "      <th>Operating Expense</th>\n",
       "      <th>Other Operating Expenses</th>\n",
       "    </tr>\n",
       "  </thead>\n",
       "  <tbody>\n",
       "    <tr>\n",
       "      <th>0</th>\n",
       "      <td>MAERSK-B.CO</td>\n",
       "      <td>2024-12-31</td>\n",
       "      <td>NaN</td>\n",
       "      <td>0</td>\n",
       "      <td>0</td>\n",
       "      <td>-1.199880</td>\n",
       "      <td>1.809106</td>\n",
       "      <td>1.732278</td>\n",
       "      <td>-1.119645</td>\n",
       "      <td>0.000000</td>\n",
       "      <td>...</td>\n",
       "      <td>0.000000</td>\n",
       "      <td>0.0</td>\n",
       "      <td>0.000000</td>\n",
       "      <td>0.000000</td>\n",
       "      <td>0.000000</td>\n",
       "      <td>0.000000</td>\n",
       "      <td>0.000000</td>\n",
       "      <td>0.000000</td>\n",
       "      <td>0.000000</td>\n",
       "      <td>0.000000</td>\n",
       "    </tr>\n",
       "    <tr>\n",
       "      <th>1</th>\n",
       "      <td>MAERSK-B.CO</td>\n",
       "      <td>2023-12-31</td>\n",
       "      <td>0.064355</td>\n",
       "      <td>0</td>\n",
       "      <td>0</td>\n",
       "      <td>-0.870265</td>\n",
       "      <td>-1.092878</td>\n",
       "      <td>-0.637989</td>\n",
       "      <td>-1.046975</td>\n",
       "      <td>-1.568406</td>\n",
       "      <td>...</td>\n",
       "      <td>-1.727950</td>\n",
       "      <td>0.0</td>\n",
       "      <td>0.000000</td>\n",
       "      <td>-1.531118</td>\n",
       "      <td>-1.629602</td>\n",
       "      <td>-1.581139</td>\n",
       "      <td>-0.735137</td>\n",
       "      <td>1.724778</td>\n",
       "      <td>1.763848</td>\n",
       "      <td>-1.817348</td>\n",
       "    </tr>\n",
       "    <tr>\n",
       "      <th>2</th>\n",
       "      <td>MAERSK-B.CO</td>\n",
       "      <td>2022-12-31</td>\n",
       "      <td>-0.100496</td>\n",
       "      <td>0</td>\n",
       "      <td>0</td>\n",
       "      <td>1.609606</td>\n",
       "      <td>-0.729773</td>\n",
       "      <td>-1.251931</td>\n",
       "      <td>0.694003</td>\n",
       "      <td>1.534677</td>\n",
       "      <td>...</td>\n",
       "      <td>0.353444</td>\n",
       "      <td>0.0</td>\n",
       "      <td>0.000000</td>\n",
       "      <td>-0.095695</td>\n",
       "      <td>1.527752</td>\n",
       "      <td>0.000000</td>\n",
       "      <td>-1.079732</td>\n",
       "      <td>-0.343875</td>\n",
       "      <td>-1.290129</td>\n",
       "      <td>0.757228</td>\n",
       "    </tr>\n",
       "    <tr>\n",
       "      <th>3</th>\n",
       "      <td>MAERSK-B.CO</td>\n",
       "      <td>2021-12-31</td>\n",
       "      <td>-0.253455</td>\n",
       "      <td>0</td>\n",
       "      <td>0</td>\n",
       "      <td>0.460539</td>\n",
       "      <td>0.013545</td>\n",
       "      <td>0.157642</td>\n",
       "      <td>1.472616</td>\n",
       "      <td>-0.286698</td>\n",
       "      <td>...</td>\n",
       "      <td>1.374506</td>\n",
       "      <td>0.0</td>\n",
       "      <td>1.581139</td>\n",
       "      <td>1.626813</td>\n",
       "      <td>0.101850</td>\n",
       "      <td>1.581139</td>\n",
       "      <td>1.814870</td>\n",
       "      <td>-1.380902</td>\n",
       "      <td>-0.473719</td>\n",
       "      <td>1.060119</td>\n",
       "    </tr>\n",
       "    <tr>\n",
       "      <th>4</th>\n",
       "      <td>MAERSK-B.CO</td>\n",
       "      <td>2020-12-31</td>\n",
       "      <td>0.767016</td>\n",
       "      <td>0</td>\n",
       "      <td>0</td>\n",
       "      <td>0.000000</td>\n",
       "      <td>0.000000</td>\n",
       "      <td>0.000000</td>\n",
       "      <td>0.000000</td>\n",
       "      <td>0.320427</td>\n",
       "      <td>...</td>\n",
       "      <td>0.000000</td>\n",
       "      <td>0.0</td>\n",
       "      <td>-1.581139</td>\n",
       "      <td>0.000000</td>\n",
       "      <td>0.000000</td>\n",
       "      <td>0.000000</td>\n",
       "      <td>0.000000</td>\n",
       "      <td>0.000000</td>\n",
       "      <td>0.000000</td>\n",
       "      <td>0.000000</td>\n",
       "    </tr>\n",
       "  </tbody>\n",
       "</table>\n",
       "<p>5 rows × 172 columns</p>\n",
       "</div>"
      ],
      "text/plain": [
       "        Ticker       Date  1 Year Future Change  Sector  Industry  \\\n",
       "0  MAERSK-B.CO 2024-12-31                   NaN       0         0   \n",
       "1  MAERSK-B.CO 2023-12-31              0.064355       0         0   \n",
       "2  MAERSK-B.CO 2022-12-31             -0.100496       0         0   \n",
       "3  MAERSK-B.CO 2021-12-31             -0.253455       0         0   \n",
       "4  MAERSK-B.CO 2020-12-31              0.767016       0         0   \n",
       "\n",
       "   Free Cash Flow  Repurchase Of Capital Stock  Capital Expenditure  \\\n",
       "0       -1.199880                     1.809106             1.732278   \n",
       "1       -0.870265                    -1.092878            -0.637989   \n",
       "2        1.609606                    -0.729773            -1.251931   \n",
       "3        0.460539                     0.013545             0.157642   \n",
       "4        0.000000                     0.000000             0.000000   \n",
       "\n",
       "   End Cash Position  Other Cash Adjustment Outside Changein Cash  ...  \\\n",
       "0          -1.119645                                     0.000000  ...   \n",
       "1          -1.046975                                    -1.568406  ...   \n",
       "2           0.694003                                     1.534677  ...   \n",
       "3           1.472616                                    -0.286698  ...   \n",
       "4           0.000000                                     0.320427  ...   \n",
       "\n",
       "   Rent Expense Supplemental  Net Income Discontinuous Operations  \\\n",
       "0                   0.000000                                  0.0   \n",
       "1                  -1.727950                                  0.0   \n",
       "2                   0.353444                                  0.0   \n",
       "3                   1.374506                                  0.0   \n",
       "4                   0.000000                                  0.0   \n",
       "\n",
       "   Other Non Operating Income Expenses  Write Off  \\\n",
       "0                             0.000000   0.000000   \n",
       "1                             0.000000  -1.531118   \n",
       "2                             0.000000  -0.095695   \n",
       "3                             1.581139   1.626813   \n",
       "4                            -1.581139   0.000000   \n",
       "\n",
       "   Restructuring And Mergern Acquisition  Total Other Finance Cost  \\\n",
       "0                               0.000000                  0.000000   \n",
       "1                              -1.629602                 -1.581139   \n",
       "2                               1.527752                  0.000000   \n",
       "3                               0.101850                  1.581139   \n",
       "4                               0.000000                  0.000000   \n",
       "\n",
       "   Interest Expense Non Operating  Interest Income Non Operating  \\\n",
       "0                        0.000000                       0.000000   \n",
       "1                       -0.735137                       1.724778   \n",
       "2                       -1.079732                      -0.343875   \n",
       "3                        1.814870                      -1.380902   \n",
       "4                        0.000000                       0.000000   \n",
       "\n",
       "   Operating Expense  Other Operating Expenses  \n",
       "0           0.000000                  0.000000  \n",
       "1           1.763848                 -1.817348  \n",
       "2          -1.290129                  0.757228  \n",
       "3          -0.473719                  1.060119  \n",
       "4           0.000000                  0.000000  \n",
       "\n",
       "[5 rows x 172 columns]"
      ]
     },
     "execution_count": 42,
     "metadata": {},
     "output_type": "execute_result"
    }
   ],
   "source": [
    "df"
   ]
  },
  {
   "cell_type": "markdown",
   "metadata": {},
   "source": [
    "### Splitting"
   ]
  },
  {
   "cell_type": "code",
   "execution_count": 48,
   "metadata": {},
   "outputs": [
    {
     "name": "stdout",
     "output_type": "stream",
     "text": [
      "Prediction Data:\n"
     ]
    },
    {
     "data": {
      "application/vnd.microsoft.datawrangler.viewer.v0+json": {
       "columns": [
        {
         "name": "index",
         "rawType": "int64",
         "type": "integer"
        },
        {
         "name": "Ticker",
         "rawType": "object",
         "type": "string"
        },
        {
         "name": "Date",
         "rawType": "datetime64[ns]",
         "type": "datetime"
        },
        {
         "name": "1 Year Future Change",
         "rawType": "float64",
         "type": "float"
        },
        {
         "name": "Sector",
         "rawType": "int64",
         "type": "integer"
        },
        {
         "name": "Industry",
         "rawType": "int64",
         "type": "integer"
        },
        {
         "name": "Free Cash Flow",
         "rawType": "float64",
         "type": "float"
        },
        {
         "name": "Repurchase Of Capital Stock",
         "rawType": "float64",
         "type": "float"
        },
        {
         "name": "Capital Expenditure",
         "rawType": "float64",
         "type": "float"
        },
        {
         "name": "End Cash Position",
         "rawType": "float64",
         "type": "float"
        },
        {
         "name": "Other Cash Adjustment Outside Changein Cash",
         "rawType": "float64",
         "type": "float"
        },
        {
         "name": "Beginning Cash Position",
         "rawType": "float64",
         "type": "float"
        },
        {
         "name": "Effect Of Exchange Rate Changes",
         "rawType": "float64",
         "type": "float"
        },
        {
         "name": "Changes In Cash",
         "rawType": "float64",
         "type": "float"
        },
        {
         "name": "Financing Cash Flow",
         "rawType": "float64",
         "type": "float"
        },
        {
         "name": "Net Other Financing Charges",
         "rawType": "float64",
         "type": "float"
        },
        {
         "name": "Interest Paid Cff",
         "rawType": "float64",
         "type": "float"
        },
        {
         "name": "Cash Dividends Paid",
         "rawType": "float64",
         "type": "float"
        },
        {
         "name": "Net Common Stock Issuance",
         "rawType": "float64",
         "type": "float"
        },
        {
         "name": "Common Stock Payments",
         "rawType": "float64",
         "type": "float"
        },
        {
         "name": "Net Issuance Payments Of Debt",
         "rawType": "float64",
         "type": "float"
        },
        {
         "name": "Net Long Term Debt Issuance",
         "rawType": "float64",
         "type": "float"
        },
        {
         "name": "Investing Cash Flow",
         "rawType": "float64",
         "type": "float"
        },
        {
         "name": "Dividends Received Cfi",
         "rawType": "float64",
         "type": "float"
        },
        {
         "name": "Net Investment Purchase And Sale",
         "rawType": "float64",
         "type": "float"
        },
        {
         "name": "Sale Of Investment",
         "rawType": "float64",
         "type": "float"
        },
        {
         "name": "Purchase Of Investment",
         "rawType": "float64",
         "type": "float"
        },
        {
         "name": "Net Business Purchase And Sale",
         "rawType": "float64",
         "type": "float"
        },
        {
         "name": "Sale Of Business",
         "rawType": "float64",
         "type": "float"
        },
        {
         "name": "Purchase Of Business",
         "rawType": "float64",
         "type": "float"
        },
        {
         "name": "Net Intangibles Purchase And Sale",
         "rawType": "float64",
         "type": "float"
        },
        {
         "name": "Sale Of Intangibles",
         "rawType": "float64",
         "type": "float"
        },
        {
         "name": "Purchase Of Intangibles",
         "rawType": "float64",
         "type": "float"
        },
        {
         "name": "Operating Cash Flow",
         "rawType": "float64",
         "type": "float"
        },
        {
         "name": "Taxes Refund Paid",
         "rawType": "float64",
         "type": "float"
        },
        {
         "name": "Change In Working Capital",
         "rawType": "float64",
         "type": "float"
        },
        {
         "name": "Change In Other Current Assets",
         "rawType": "float64",
         "type": "float"
        },
        {
         "name": "Other Non Cash Items",
         "rawType": "float64",
         "type": "float"
        },
        {
         "name": "Net Income From Continuing Operations",
         "rawType": "float64",
         "type": "float"
        },
        {
         "name": "Treasury Shares Number",
         "rawType": "float64",
         "type": "float"
        },
        {
         "name": "Ordinary Shares Number",
         "rawType": "float64",
         "type": "float"
        },
        {
         "name": "Share Issued",
         "rawType": "float64",
         "type": "float"
        },
        {
         "name": "Total Debt",
         "rawType": "float64",
         "type": "float"
        },
        {
         "name": "Tangible Book Value",
         "rawType": "float64",
         "type": "float"
        },
        {
         "name": "Invested Capital",
         "rawType": "float64",
         "type": "float"
        },
        {
         "name": "Working Capital",
         "rawType": "float64",
         "type": "float"
        },
        {
         "name": "Net Tangible Assets",
         "rawType": "float64",
         "type": "float"
        },
        {
         "name": "Capital Lease Obligations",
         "rawType": "float64",
         "type": "float"
        },
        {
         "name": "Common Stock Equity",
         "rawType": "float64",
         "type": "float"
        },
        {
         "name": "Total Capitalization",
         "rawType": "float64",
         "type": "float"
        },
        {
         "name": "Total Equity Gross Minority Interest",
         "rawType": "float64",
         "type": "float"
        },
        {
         "name": "Minority Interest",
         "rawType": "float64",
         "type": "float"
        },
        {
         "name": "Stockholders Equity",
         "rawType": "float64",
         "type": "float"
        },
        {
         "name": "Retained Earnings",
         "rawType": "float64",
         "type": "float"
        },
        {
         "name": "Capital Stock",
         "rawType": "float64",
         "type": "float"
        },
        {
         "name": "Common Stock",
         "rawType": "float64",
         "type": "float"
        },
        {
         "name": "Total Liabilities Net Minority Interest",
         "rawType": "float64",
         "type": "float"
        },
        {
         "name": "Total Non Current Liabilities Net Minority Interest",
         "rawType": "float64",
         "type": "float"
        },
        {
         "name": "Other Non Current Liabilities",
         "rawType": "float64",
         "type": "float"
        },
        {
         "name": "Derivative Product Liabilities",
         "rawType": "float64",
         "type": "float"
        },
        {
         "name": "Non Current Pension And Other Postretirement Benefit Plans",
         "rawType": "float64",
         "type": "float"
        },
        {
         "name": "Tradeand Other Payables Non Current",
         "rawType": "float64",
         "type": "float"
        },
        {
         "name": "Non Current Deferred Taxes Liabilities",
         "rawType": "float64",
         "type": "float"
        },
        {
         "name": "Long Term Debt And Capital Lease Obligation",
         "rawType": "float64",
         "type": "float"
        },
        {
         "name": "Long Term Capital Lease Obligation",
         "rawType": "float64",
         "type": "float"
        },
        {
         "name": "Long Term Debt",
         "rawType": "float64",
         "type": "float"
        },
        {
         "name": "Long Term Provisions",
         "rawType": "float64",
         "type": "float"
        },
        {
         "name": "Current Liabilities",
         "rawType": "float64",
         "type": "float"
        },
        {
         "name": "Other Current Liabilities",
         "rawType": "float64",
         "type": "float"
        },
        {
         "name": "Current Debt And Capital Lease Obligation",
         "rawType": "float64",
         "type": "float"
        },
        {
         "name": "Current Capital Lease Obligation",
         "rawType": "float64",
         "type": "float"
        },
        {
         "name": "Current Debt",
         "rawType": "float64",
         "type": "float"
        },
        {
         "name": "Current Provisions",
         "rawType": "float64",
         "type": "float"
        },
        {
         "name": "Payables",
         "rawType": "float64",
         "type": "float"
        },
        {
         "name": "Other Payable",
         "rawType": "float64",
         "type": "float"
        },
        {
         "name": "Total Tax Payable",
         "rawType": "float64",
         "type": "float"
        },
        {
         "name": "Accounts Payable",
         "rawType": "float64",
         "type": "float"
        },
        {
         "name": "Total Assets",
         "rawType": "float64",
         "type": "float"
        },
        {
         "name": "Total Non Current Assets",
         "rawType": "float64",
         "type": "float"
        },
        {
         "name": "Defined Pension Benefit",
         "rawType": "float64",
         "type": "float"
        },
        {
         "name": "Non Current Deferred Taxes Assets",
         "rawType": "float64",
         "type": "float"
        },
        {
         "name": "Financial Assets",
         "rawType": "float64",
         "type": "float"
        },
        {
         "name": "Investmentin Financial Assets",
         "rawType": "float64",
         "type": "float"
        },
        {
         "name": "Available For Sale Securities",
         "rawType": "float64",
         "type": "float"
        },
        {
         "name": "Long Term Equity Investment",
         "rawType": "float64",
         "type": "float"
        },
        {
         "name": "Investmentsin Joint Venturesat Cost",
         "rawType": "float64",
         "type": "float"
        },
        {
         "name": "Investmentsin Associatesat Cost",
         "rawType": "float64",
         "type": "float"
        },
        {
         "name": "Goodwill And Other Intangible Assets",
         "rawType": "float64",
         "type": "float"
        },
        {
         "name": "Other Intangible Assets",
         "rawType": "float64",
         "type": "float"
        },
        {
         "name": "Goodwill",
         "rawType": "float64",
         "type": "float"
        },
        {
         "name": "Net PPE",
         "rawType": "float64",
         "type": "float"
        },
        {
         "name": "Accumulated Depreciation",
         "rawType": "float64",
         "type": "float"
        },
        {
         "name": "Gross PPE",
         "rawType": "float64",
         "type": "float"
        },
        {
         "name": "Construction In Progress",
         "rawType": "float64",
         "type": "float"
        },
        {
         "name": "Other Properties",
         "rawType": "float64",
         "type": "float"
        },
        {
         "name": "Machinery Furniture Equipment",
         "rawType": "float64",
         "type": "float"
        },
        {
         "name": "Current Assets",
         "rawType": "float64",
         "type": "float"
        },
        {
         "name": "Hedging Assets Current",
         "rawType": "float64",
         "type": "float"
        },
        {
         "name": "Assets Held For Sale Current",
         "rawType": "float64",
         "type": "float"
        },
        {
         "name": "Prepaid Assets",
         "rawType": "float64",
         "type": "float"
        },
        {
         "name": "Inventory",
         "rawType": "float64",
         "type": "float"
        },
        {
         "name": "Other Receivables",
         "rawType": "float64",
         "type": "float"
        },
        {
         "name": "Taxes Receivable",
         "rawType": "float64",
         "type": "float"
        },
        {
         "name": "Accounts Receivable",
         "rawType": "float64",
         "type": "float"
        },
        {
         "name": "Allowance For Doubtful Accounts Receivable",
         "rawType": "float64",
         "type": "float"
        },
        {
         "name": "Gross Accounts Receivable",
         "rawType": "float64",
         "type": "float"
        },
        {
         "name": "Cash Cash Equivalents And Short Term Investments",
         "rawType": "float64",
         "type": "float"
        },
        {
         "name": "Other Short Term Investments",
         "rawType": "float64",
         "type": "float"
        },
        {
         "name": "Cash And Cash Equivalents",
         "rawType": "float64",
         "type": "float"
        },
        {
         "name": "Cash Financial",
         "rawType": "float64",
         "type": "float"
        },
        {
         "name": "Tax Effect Of Unusual Items",
         "rawType": "float64",
         "type": "float"
        },
        {
         "name": "Tax Rate For Calcs",
         "rawType": "float64",
         "type": "float"
        },
        {
         "name": "Normalized EBITDA",
         "rawType": "float64",
         "type": "float"
        },
        {
         "name": "Total Unusual Items",
         "rawType": "float64",
         "type": "float"
        },
        {
         "name": "Total Unusual Items Excluding Goodwill",
         "rawType": "float64",
         "type": "float"
        },
        {
         "name": "Net Income From Continuing Operation Net Minority Interest",
         "rawType": "float64",
         "type": "float"
        },
        {
         "name": "Reconciled Cost Of Revenue",
         "rawType": "float64",
         "type": "float"
        },
        {
         "name": "EBITDA",
         "rawType": "float64",
         "type": "float"
        },
        {
         "name": "EBIT",
         "rawType": "float64",
         "type": "float"
        },
        {
         "name": "Net Interest Income",
         "rawType": "float64",
         "type": "float"
        },
        {
         "name": "Normalized Income",
         "rawType": "float64",
         "type": "float"
        },
        {
         "name": "Net Income From Continuing And Discontinued Operation",
         "rawType": "float64",
         "type": "float"
        },
        {
         "name": "Total Expenses",
         "rawType": "float64",
         "type": "float"
        },
        {
         "name": "Diluted Average Shares",
         "rawType": "float64",
         "type": "float"
        },
        {
         "name": "Basic Average Shares",
         "rawType": "float64",
         "type": "float"
        },
        {
         "name": "Diluted EPS",
         "rawType": "float64",
         "type": "float"
        },
        {
         "name": "Basic EPS",
         "rawType": "float64",
         "type": "float"
        },
        {
         "name": "Diluted NI Availto Com Stockholders",
         "rawType": "float64",
         "type": "float"
        },
        {
         "name": "Net Income Common Stockholders",
         "rawType": "float64",
         "type": "float"
        },
        {
         "name": "Otherunder Preferred Stock Dividend",
         "rawType": "float64",
         "type": "float"
        },
        {
         "name": "Net Income",
         "rawType": "float64",
         "type": "float"
        },
        {
         "name": "Minority Interests",
         "rawType": "float64",
         "type": "float"
        },
        {
         "name": "Net Income Including Noncontrolling Interests",
         "rawType": "float64",
         "type": "float"
        },
        {
         "name": "Net Income Continuous Operations",
         "rawType": "float64",
         "type": "float"
        },
        {
         "name": "Tax Provision",
         "rawType": "float64",
         "type": "float"
        },
        {
         "name": "Pretax Income",
         "rawType": "float64",
         "type": "float"
        },
        {
         "name": "Special Income Charges",
         "rawType": "float64",
         "type": "float"
        },
        {
         "name": "Other Special Charges",
         "rawType": "float64",
         "type": "float"
        },
        {
         "name": "Net Non Operating Interest Income Expense",
         "rawType": "float64",
         "type": "float"
        },
        {
         "name": "Operating Income",
         "rawType": "float64",
         "type": "float"
        },
        {
         "name": "Gross Profit",
         "rawType": "float64",
         "type": "float"
        },
        {
         "name": "Cost Of Revenue",
         "rawType": "float64",
         "type": "float"
        },
        {
         "name": "Total Revenue",
         "rawType": "float64",
         "type": "float"
        },
        {
         "name": "Operating Revenue",
         "rawType": "float64",
         "type": "float"
        },
        {
         "name": "Repayment Of Debt",
         "rawType": "float64",
         "type": "float"
        },
        {
         "name": "Issuance Of Debt",
         "rawType": "float64",
         "type": "float"
        },
        {
         "name": "Issuance Of Capital Stock",
         "rawType": "float64",
         "type": "float"
        },
        {
         "name": "Other Cash Adjustment Inside Changein Cash",
         "rawType": "float64",
         "type": "float"
        },
        {
         "name": "Common Stock Dividend Paid",
         "rawType": "float64",
         "type": "float"
        },
        {
         "name": "Common Stock Issuance",
         "rawType": "float64",
         "type": "float"
        },
        {
         "name": "Long Term Debt Payments",
         "rawType": "float64",
         "type": "float"
        },
        {
         "name": "Long Term Debt Issuance",
         "rawType": "float64",
         "type": "float"
        },
        {
         "name": "Capital Expenditure Reported",
         "rawType": "float64",
         "type": "float"
        },
        {
         "name": "Change In Receivables",
         "rawType": "float64",
         "type": "float"
        },
        {
         "name": "Depreciation And Amortization",
         "rawType": "float64",
         "type": "float"
        },
        {
         "name": "Amortization Cash Flow",
         "rawType": "float64",
         "type": "float"
        },
        {
         "name": "Depreciation",
         "rawType": "float64",
         "type": "float"
        },
        {
         "name": "Pension And Employee Benefit Expense",
         "rawType": "float64",
         "type": "float"
        },
        {
         "name": "Gain Loss On Investment Securities",
         "rawType": "float64",
         "type": "float"
        },
        {
         "name": "Net Debt",
         "rawType": "float64",
         "type": "float"
        },
        {
         "name": "Reconciled Depreciation",
         "rawType": "float64",
         "type": "float"
        },
        {
         "name": "Interest Expense",
         "rawType": "float64",
         "type": "float"
        },
        {
         "name": "Interest Income",
         "rawType": "float64",
         "type": "float"
        },
        {
         "name": "Rent Expense Supplemental",
         "rawType": "float64",
         "type": "float"
        },
        {
         "name": "Net Income Discontinuous Operations",
         "rawType": "float64",
         "type": "float"
        },
        {
         "name": "Other Non Operating Income Expenses",
         "rawType": "float64",
         "type": "float"
        },
        {
         "name": "Write Off",
         "rawType": "float64",
         "type": "float"
        },
        {
         "name": "Restructuring And Mergern Acquisition",
         "rawType": "float64",
         "type": "float"
        },
        {
         "name": "Total Other Finance Cost",
         "rawType": "float64",
         "type": "float"
        },
        {
         "name": "Interest Expense Non Operating",
         "rawType": "float64",
         "type": "float"
        },
        {
         "name": "Interest Income Non Operating",
         "rawType": "float64",
         "type": "float"
        },
        {
         "name": "Operating Expense",
         "rawType": "float64",
         "type": "float"
        },
        {
         "name": "Other Operating Expenses",
         "rawType": "float64",
         "type": "float"
        }
       ],
       "conversionMethod": "pd.DataFrame",
       "ref": "edd8383d-b2a8-4a5c-817e-1824290499cc",
       "rows": [
        [
         "0",
         "MAERSK-B.CO",
         "2024-12-31 00:00:00",
         null,
         "0",
         "0",
         "-1.1998804082714851",
         "1.8091061875172747",
         "1.732278234982607",
         "-1.1196450749321132",
         "0.0",
         "-0.9899994829901725",
         "1.0960701400849011",
         "-0.03475932858296761",
         "1.6407276299152653",
         "-0.0289063750166827",
         "1.6712218476729788",
         "1.1830945843746106",
         "1.8083114156948088",
         "1.8091061875172747",
         "0.7123899337269327",
         "0.7123899337269327",
         "0.4985543155407303",
         "-1.8791846695800627",
         "0.32976608769182675",
         "0.0",
         "0.0",
         "0.5523288973976367",
         "-0.8058550554772832",
         "0.8292081101276109",
         "1.680719614753373",
         "-1.352473846970906",
         "1.732278234982607",
         "-1.2707099388120395",
         "1.819257351914565",
         "1.3062112497835043",
         "0.0",
         "0.0",
         "-1.1408823548521758",
         "-1.5473357407315858",
         "-1.1833161145978746",
         "-1.6982650195380766",
         "1.6866269709503432",
         "0.2691047915244128",
         "0.4217506049949937",
         "0.08191216842566632",
         "0.2691047915244128",
         "0.8842036187688124",
         "0.3287565537873029",
         "0.3916073267915433",
         "0.3258547385719792",
         "-1.3355806352643498",
         "0.3287565537873029",
         "1.5811388300841898",
         "-1.6990068330970292",
         "-1.6990068330970292",
         "1.5473308640941013",
         "1.5906687208050936",
         "0.0",
         "-0.10128868700556133",
         "-1.2824729401064427",
         "-1.8371525753639313",
         "0.6669664676751244",
         "1.7803015448317627",
         "1.261353022821369",
         "1.3631925387863395",
         "1.1938287024563856",
         "1.4589289949162922",
         "0.0",
         "0.8890092174735661",
         "-0.034667061606144224",
         "1.3234030995953205",
         "-1.3949294406737143",
         "0.9726755716697724",
         "0.9257083088979458",
         "1.4360669724301527",
         "0.8033635112887733",
         "0.5180151153928348",
         "0.9293647157070367",
         "-0.7093483216400696",
         "-0.04045199174779453",
         "-1.165543034828717",
         "-0.15201325613392752",
         "-0.15201325613392752",
         "-0.967243632632242",
         "-0.5855141928581531",
         "-1.1829952053991302",
         "0.4600193250866341",
         "-0.20199211222659752",
         "0.6200955617366397",
         "0.8557735721414047",
         "-0.25342913508832854",
         "0.5886821021461516",
         "1.0204816705357582",
         "0.9320931015475539",
         "-0.20490906383794485",
         "0.2646221808697313",
         "-0.995652737084412",
         "-0.869635158249414",
         "-1.0792362352051994",
         "0.3149448894660933",
         "0.7360535966271217",
         "1.7406087190507378",
         "-0.08000016131393456",
         "-1.0708868530633977",
         "-0.03632202179875953",
         "-0.6810456774245572",
         "1.5858609934982248",
         "-1.1045632037729705",
         "-1.1045632037729705",
         "-0.48997339412673235",
         "0.19882403707061025",
         "0.0",
         "-4.7849645467018844e-17",
         "-4.7849645467018844e-17",
         "-1.1291404369922915",
         "0.0",
         "0.0",
         "0.0",
         "0.0",
         "-1.101141189733917",
         "-1.1291404369922915",
         "0.0",
         "0.0",
         "0.0",
         "0.0",
         "0.0",
         "-1.1291404369922915",
         "-1.1291404369922915",
         "0.0",
         "-1.1291404369922915",
         "1.7743949775052426",
         "-1.1318298088847427",
         "-1.1318298088847427",
         "-1.596740243935623",
         "-1.1451337141952163",
         "0.0",
         "0.0",
         "0.0",
         "0.0",
         "0.0",
         "0.0",
         "-1.7301892551690066",
         "-1.7301892551690066",
         "0.0",
         "0.0",
         "0.0",
         "0.0",
         "0.0",
         "0.0",
         "0.0",
         "0.0",
         "0.0",
         "0.0",
         "0.0",
         "0.0",
         "0.0",
         "0.0",
         "0.0",
         "0.0",
         "0.0",
         "0.0",
         "0.0",
         "0.0",
         "0.0",
         "0.0",
         "0.0",
         "0.0",
         "0.0",
         "0.0",
         "0.0",
         "0.0",
         "0.0"
        ]
       ],
       "shape": {
        "columns": 172,
        "rows": 1
       }
      },
      "text/html": [
       "<div>\n",
       "<style scoped>\n",
       "    .dataframe tbody tr th:only-of-type {\n",
       "        vertical-align: middle;\n",
       "    }\n",
       "\n",
       "    .dataframe tbody tr th {\n",
       "        vertical-align: top;\n",
       "    }\n",
       "\n",
       "    .dataframe thead th {\n",
       "        text-align: right;\n",
       "    }\n",
       "</style>\n",
       "<table border=\"1\" class=\"dataframe\">\n",
       "  <thead>\n",
       "    <tr style=\"text-align: right;\">\n",
       "      <th></th>\n",
       "      <th>Ticker</th>\n",
       "      <th>Date</th>\n",
       "      <th>1 Year Future Change</th>\n",
       "      <th>Sector</th>\n",
       "      <th>Industry</th>\n",
       "      <th>Free Cash Flow</th>\n",
       "      <th>Repurchase Of Capital Stock</th>\n",
       "      <th>Capital Expenditure</th>\n",
       "      <th>End Cash Position</th>\n",
       "      <th>Other Cash Adjustment Outside Changein Cash</th>\n",
       "      <th>...</th>\n",
       "      <th>Rent Expense Supplemental</th>\n",
       "      <th>Net Income Discontinuous Operations</th>\n",
       "      <th>Other Non Operating Income Expenses</th>\n",
       "      <th>Write Off</th>\n",
       "      <th>Restructuring And Mergern Acquisition</th>\n",
       "      <th>Total Other Finance Cost</th>\n",
       "      <th>Interest Expense Non Operating</th>\n",
       "      <th>Interest Income Non Operating</th>\n",
       "      <th>Operating Expense</th>\n",
       "      <th>Other Operating Expenses</th>\n",
       "    </tr>\n",
       "  </thead>\n",
       "  <tbody>\n",
       "    <tr>\n",
       "      <th>0</th>\n",
       "      <td>MAERSK-B.CO</td>\n",
       "      <td>2024-12-31</td>\n",
       "      <td>NaN</td>\n",
       "      <td>0</td>\n",
       "      <td>0</td>\n",
       "      <td>-1.19988</td>\n",
       "      <td>1.809106</td>\n",
       "      <td>1.732278</td>\n",
       "      <td>-1.119645</td>\n",
       "      <td>0.0</td>\n",
       "      <td>...</td>\n",
       "      <td>0.0</td>\n",
       "      <td>0.0</td>\n",
       "      <td>0.0</td>\n",
       "      <td>0.0</td>\n",
       "      <td>0.0</td>\n",
       "      <td>0.0</td>\n",
       "      <td>0.0</td>\n",
       "      <td>0.0</td>\n",
       "      <td>0.0</td>\n",
       "      <td>0.0</td>\n",
       "    </tr>\n",
       "  </tbody>\n",
       "</table>\n",
       "<p>1 rows × 172 columns</p>\n",
       "</div>"
      ],
      "text/plain": [
       "        Ticker       Date  1 Year Future Change  Sector  Industry  \\\n",
       "0  MAERSK-B.CO 2024-12-31                   NaN       0         0   \n",
       "\n",
       "   Free Cash Flow  Repurchase Of Capital Stock  Capital Expenditure  \\\n",
       "0        -1.19988                     1.809106             1.732278   \n",
       "\n",
       "   End Cash Position  Other Cash Adjustment Outside Changein Cash  ...  \\\n",
       "0          -1.119645                                          0.0  ...   \n",
       "\n",
       "   Rent Expense Supplemental  Net Income Discontinuous Operations  \\\n",
       "0                        0.0                                  0.0   \n",
       "\n",
       "   Other Non Operating Income Expenses  Write Off  \\\n",
       "0                                  0.0        0.0   \n",
       "\n",
       "   Restructuring And Mergern Acquisition  Total Other Finance Cost  \\\n",
       "0                                    0.0                       0.0   \n",
       "\n",
       "   Interest Expense Non Operating  Interest Income Non Operating  \\\n",
       "0                             0.0                            0.0   \n",
       "\n",
       "   Operating Expense  Other Operating Expenses  \n",
       "0                0.0                       0.0  \n",
       "\n",
       "[1 rows x 172 columns]"
      ]
     },
     "metadata": {},
     "output_type": "display_data"
    },
    {
     "name": "stdout",
     "output_type": "stream",
     "text": [
      "Train and Test Data:\n"
     ]
    },
    {
     "data": {
      "application/vnd.microsoft.datawrangler.viewer.v0+json": {
       "columns": [
        {
         "name": "index",
         "rawType": "int64",
         "type": "integer"
        },
        {
         "name": "Ticker",
         "rawType": "object",
         "type": "string"
        },
        {
         "name": "Date",
         "rawType": "datetime64[ns]",
         "type": "datetime"
        },
        {
         "name": "1 Year Future Change",
         "rawType": "float64",
         "type": "float"
        },
        {
         "name": "Sector",
         "rawType": "int64",
         "type": "integer"
        },
        {
         "name": "Industry",
         "rawType": "int64",
         "type": "integer"
        },
        {
         "name": "Free Cash Flow",
         "rawType": "float64",
         "type": "float"
        },
        {
         "name": "Repurchase Of Capital Stock",
         "rawType": "float64",
         "type": "float"
        },
        {
         "name": "Capital Expenditure",
         "rawType": "float64",
         "type": "float"
        },
        {
         "name": "End Cash Position",
         "rawType": "float64",
         "type": "float"
        },
        {
         "name": "Other Cash Adjustment Outside Changein Cash",
         "rawType": "float64",
         "type": "float"
        },
        {
         "name": "Beginning Cash Position",
         "rawType": "float64",
         "type": "float"
        },
        {
         "name": "Effect Of Exchange Rate Changes",
         "rawType": "float64",
         "type": "float"
        },
        {
         "name": "Changes In Cash",
         "rawType": "float64",
         "type": "float"
        },
        {
         "name": "Financing Cash Flow",
         "rawType": "float64",
         "type": "float"
        },
        {
         "name": "Net Other Financing Charges",
         "rawType": "float64",
         "type": "float"
        },
        {
         "name": "Interest Paid Cff",
         "rawType": "float64",
         "type": "float"
        },
        {
         "name": "Cash Dividends Paid",
         "rawType": "float64",
         "type": "float"
        },
        {
         "name": "Net Common Stock Issuance",
         "rawType": "float64",
         "type": "float"
        },
        {
         "name": "Common Stock Payments",
         "rawType": "float64",
         "type": "float"
        },
        {
         "name": "Net Issuance Payments Of Debt",
         "rawType": "float64",
         "type": "float"
        },
        {
         "name": "Net Long Term Debt Issuance",
         "rawType": "float64",
         "type": "float"
        },
        {
         "name": "Investing Cash Flow",
         "rawType": "float64",
         "type": "float"
        },
        {
         "name": "Dividends Received Cfi",
         "rawType": "float64",
         "type": "float"
        },
        {
         "name": "Net Investment Purchase And Sale",
         "rawType": "float64",
         "type": "float"
        },
        {
         "name": "Sale Of Investment",
         "rawType": "float64",
         "type": "float"
        },
        {
         "name": "Purchase Of Investment",
         "rawType": "float64",
         "type": "float"
        },
        {
         "name": "Net Business Purchase And Sale",
         "rawType": "float64",
         "type": "float"
        },
        {
         "name": "Sale Of Business",
         "rawType": "float64",
         "type": "float"
        },
        {
         "name": "Purchase Of Business",
         "rawType": "float64",
         "type": "float"
        },
        {
         "name": "Net Intangibles Purchase And Sale",
         "rawType": "float64",
         "type": "float"
        },
        {
         "name": "Sale Of Intangibles",
         "rawType": "float64",
         "type": "float"
        },
        {
         "name": "Purchase Of Intangibles",
         "rawType": "float64",
         "type": "float"
        },
        {
         "name": "Operating Cash Flow",
         "rawType": "float64",
         "type": "float"
        },
        {
         "name": "Taxes Refund Paid",
         "rawType": "float64",
         "type": "float"
        },
        {
         "name": "Change In Working Capital",
         "rawType": "float64",
         "type": "float"
        },
        {
         "name": "Change In Other Current Assets",
         "rawType": "float64",
         "type": "float"
        },
        {
         "name": "Other Non Cash Items",
         "rawType": "float64",
         "type": "float"
        },
        {
         "name": "Net Income From Continuing Operations",
         "rawType": "float64",
         "type": "float"
        },
        {
         "name": "Treasury Shares Number",
         "rawType": "float64",
         "type": "float"
        },
        {
         "name": "Ordinary Shares Number",
         "rawType": "float64",
         "type": "float"
        },
        {
         "name": "Share Issued",
         "rawType": "float64",
         "type": "float"
        },
        {
         "name": "Total Debt",
         "rawType": "float64",
         "type": "float"
        },
        {
         "name": "Tangible Book Value",
         "rawType": "float64",
         "type": "float"
        },
        {
         "name": "Invested Capital",
         "rawType": "float64",
         "type": "float"
        },
        {
         "name": "Working Capital",
         "rawType": "float64",
         "type": "float"
        },
        {
         "name": "Net Tangible Assets",
         "rawType": "float64",
         "type": "float"
        },
        {
         "name": "Capital Lease Obligations",
         "rawType": "float64",
         "type": "float"
        },
        {
         "name": "Common Stock Equity",
         "rawType": "float64",
         "type": "float"
        },
        {
         "name": "Total Capitalization",
         "rawType": "float64",
         "type": "float"
        },
        {
         "name": "Total Equity Gross Minority Interest",
         "rawType": "float64",
         "type": "float"
        },
        {
         "name": "Minority Interest",
         "rawType": "float64",
         "type": "float"
        },
        {
         "name": "Stockholders Equity",
         "rawType": "float64",
         "type": "float"
        },
        {
         "name": "Retained Earnings",
         "rawType": "float64",
         "type": "float"
        },
        {
         "name": "Capital Stock",
         "rawType": "float64",
         "type": "float"
        },
        {
         "name": "Common Stock",
         "rawType": "float64",
         "type": "float"
        },
        {
         "name": "Total Liabilities Net Minority Interest",
         "rawType": "float64",
         "type": "float"
        },
        {
         "name": "Total Non Current Liabilities Net Minority Interest",
         "rawType": "float64",
         "type": "float"
        },
        {
         "name": "Other Non Current Liabilities",
         "rawType": "float64",
         "type": "float"
        },
        {
         "name": "Derivative Product Liabilities",
         "rawType": "float64",
         "type": "float"
        },
        {
         "name": "Non Current Pension And Other Postretirement Benefit Plans",
         "rawType": "float64",
         "type": "float"
        },
        {
         "name": "Tradeand Other Payables Non Current",
         "rawType": "float64",
         "type": "float"
        },
        {
         "name": "Non Current Deferred Taxes Liabilities",
         "rawType": "float64",
         "type": "float"
        },
        {
         "name": "Long Term Debt And Capital Lease Obligation",
         "rawType": "float64",
         "type": "float"
        },
        {
         "name": "Long Term Capital Lease Obligation",
         "rawType": "float64",
         "type": "float"
        },
        {
         "name": "Long Term Debt",
         "rawType": "float64",
         "type": "float"
        },
        {
         "name": "Long Term Provisions",
         "rawType": "float64",
         "type": "float"
        },
        {
         "name": "Current Liabilities",
         "rawType": "float64",
         "type": "float"
        },
        {
         "name": "Other Current Liabilities",
         "rawType": "float64",
         "type": "float"
        },
        {
         "name": "Current Debt And Capital Lease Obligation",
         "rawType": "float64",
         "type": "float"
        },
        {
         "name": "Current Capital Lease Obligation",
         "rawType": "float64",
         "type": "float"
        },
        {
         "name": "Current Debt",
         "rawType": "float64",
         "type": "float"
        },
        {
         "name": "Current Provisions",
         "rawType": "float64",
         "type": "float"
        },
        {
         "name": "Payables",
         "rawType": "float64",
         "type": "float"
        },
        {
         "name": "Other Payable",
         "rawType": "float64",
         "type": "float"
        },
        {
         "name": "Total Tax Payable",
         "rawType": "float64",
         "type": "float"
        },
        {
         "name": "Accounts Payable",
         "rawType": "float64",
         "type": "float"
        },
        {
         "name": "Total Assets",
         "rawType": "float64",
         "type": "float"
        },
        {
         "name": "Total Non Current Assets",
         "rawType": "float64",
         "type": "float"
        },
        {
         "name": "Defined Pension Benefit",
         "rawType": "float64",
         "type": "float"
        },
        {
         "name": "Non Current Deferred Taxes Assets",
         "rawType": "float64",
         "type": "float"
        },
        {
         "name": "Financial Assets",
         "rawType": "float64",
         "type": "float"
        },
        {
         "name": "Investmentin Financial Assets",
         "rawType": "float64",
         "type": "float"
        },
        {
         "name": "Available For Sale Securities",
         "rawType": "float64",
         "type": "float"
        },
        {
         "name": "Long Term Equity Investment",
         "rawType": "float64",
         "type": "float"
        },
        {
         "name": "Investmentsin Joint Venturesat Cost",
         "rawType": "float64",
         "type": "float"
        },
        {
         "name": "Investmentsin Associatesat Cost",
         "rawType": "float64",
         "type": "float"
        },
        {
         "name": "Goodwill And Other Intangible Assets",
         "rawType": "float64",
         "type": "float"
        },
        {
         "name": "Other Intangible Assets",
         "rawType": "float64",
         "type": "float"
        },
        {
         "name": "Goodwill",
         "rawType": "float64",
         "type": "float"
        },
        {
         "name": "Net PPE",
         "rawType": "float64",
         "type": "float"
        },
        {
         "name": "Accumulated Depreciation",
         "rawType": "float64",
         "type": "float"
        },
        {
         "name": "Gross PPE",
         "rawType": "float64",
         "type": "float"
        },
        {
         "name": "Construction In Progress",
         "rawType": "float64",
         "type": "float"
        },
        {
         "name": "Other Properties",
         "rawType": "float64",
         "type": "float"
        },
        {
         "name": "Machinery Furniture Equipment",
         "rawType": "float64",
         "type": "float"
        },
        {
         "name": "Current Assets",
         "rawType": "float64",
         "type": "float"
        },
        {
         "name": "Hedging Assets Current",
         "rawType": "float64",
         "type": "float"
        },
        {
         "name": "Assets Held For Sale Current",
         "rawType": "float64",
         "type": "float"
        },
        {
         "name": "Prepaid Assets",
         "rawType": "float64",
         "type": "float"
        },
        {
         "name": "Inventory",
         "rawType": "float64",
         "type": "float"
        },
        {
         "name": "Other Receivables",
         "rawType": "float64",
         "type": "float"
        },
        {
         "name": "Taxes Receivable",
         "rawType": "float64",
         "type": "float"
        },
        {
         "name": "Accounts Receivable",
         "rawType": "float64",
         "type": "float"
        },
        {
         "name": "Allowance For Doubtful Accounts Receivable",
         "rawType": "float64",
         "type": "float"
        },
        {
         "name": "Gross Accounts Receivable",
         "rawType": "float64",
         "type": "float"
        },
        {
         "name": "Cash Cash Equivalents And Short Term Investments",
         "rawType": "float64",
         "type": "float"
        },
        {
         "name": "Other Short Term Investments",
         "rawType": "float64",
         "type": "float"
        },
        {
         "name": "Cash And Cash Equivalents",
         "rawType": "float64",
         "type": "float"
        },
        {
         "name": "Cash Financial",
         "rawType": "float64",
         "type": "float"
        },
        {
         "name": "Tax Effect Of Unusual Items",
         "rawType": "float64",
         "type": "float"
        },
        {
         "name": "Tax Rate For Calcs",
         "rawType": "float64",
         "type": "float"
        },
        {
         "name": "Normalized EBITDA",
         "rawType": "float64",
         "type": "float"
        },
        {
         "name": "Total Unusual Items",
         "rawType": "float64",
         "type": "float"
        },
        {
         "name": "Total Unusual Items Excluding Goodwill",
         "rawType": "float64",
         "type": "float"
        },
        {
         "name": "Net Income From Continuing Operation Net Minority Interest",
         "rawType": "float64",
         "type": "float"
        },
        {
         "name": "Reconciled Cost Of Revenue",
         "rawType": "float64",
         "type": "float"
        },
        {
         "name": "EBITDA",
         "rawType": "float64",
         "type": "float"
        },
        {
         "name": "EBIT",
         "rawType": "float64",
         "type": "float"
        },
        {
         "name": "Net Interest Income",
         "rawType": "float64",
         "type": "float"
        },
        {
         "name": "Normalized Income",
         "rawType": "float64",
         "type": "float"
        },
        {
         "name": "Net Income From Continuing And Discontinued Operation",
         "rawType": "float64",
         "type": "float"
        },
        {
         "name": "Total Expenses",
         "rawType": "float64",
         "type": "float"
        },
        {
         "name": "Diluted Average Shares",
         "rawType": "float64",
         "type": "float"
        },
        {
         "name": "Basic Average Shares",
         "rawType": "float64",
         "type": "float"
        },
        {
         "name": "Diluted EPS",
         "rawType": "float64",
         "type": "float"
        },
        {
         "name": "Basic EPS",
         "rawType": "float64",
         "type": "float"
        },
        {
         "name": "Diluted NI Availto Com Stockholders",
         "rawType": "float64",
         "type": "float"
        },
        {
         "name": "Net Income Common Stockholders",
         "rawType": "float64",
         "type": "float"
        },
        {
         "name": "Otherunder Preferred Stock Dividend",
         "rawType": "float64",
         "type": "float"
        },
        {
         "name": "Net Income",
         "rawType": "float64",
         "type": "float"
        },
        {
         "name": "Minority Interests",
         "rawType": "float64",
         "type": "float"
        },
        {
         "name": "Net Income Including Noncontrolling Interests",
         "rawType": "float64",
         "type": "float"
        },
        {
         "name": "Net Income Continuous Operations",
         "rawType": "float64",
         "type": "float"
        },
        {
         "name": "Tax Provision",
         "rawType": "float64",
         "type": "float"
        },
        {
         "name": "Pretax Income",
         "rawType": "float64",
         "type": "float"
        },
        {
         "name": "Special Income Charges",
         "rawType": "float64",
         "type": "float"
        },
        {
         "name": "Other Special Charges",
         "rawType": "float64",
         "type": "float"
        },
        {
         "name": "Net Non Operating Interest Income Expense",
         "rawType": "float64",
         "type": "float"
        },
        {
         "name": "Operating Income",
         "rawType": "float64",
         "type": "float"
        },
        {
         "name": "Gross Profit",
         "rawType": "float64",
         "type": "float"
        },
        {
         "name": "Cost Of Revenue",
         "rawType": "float64",
         "type": "float"
        },
        {
         "name": "Total Revenue",
         "rawType": "float64",
         "type": "float"
        },
        {
         "name": "Operating Revenue",
         "rawType": "float64",
         "type": "float"
        },
        {
         "name": "Repayment Of Debt",
         "rawType": "float64",
         "type": "float"
        },
        {
         "name": "Issuance Of Debt",
         "rawType": "float64",
         "type": "float"
        },
        {
         "name": "Issuance Of Capital Stock",
         "rawType": "float64",
         "type": "float"
        },
        {
         "name": "Other Cash Adjustment Inside Changein Cash",
         "rawType": "float64",
         "type": "float"
        },
        {
         "name": "Common Stock Dividend Paid",
         "rawType": "float64",
         "type": "float"
        },
        {
         "name": "Common Stock Issuance",
         "rawType": "float64",
         "type": "float"
        },
        {
         "name": "Long Term Debt Payments",
         "rawType": "float64",
         "type": "float"
        },
        {
         "name": "Long Term Debt Issuance",
         "rawType": "float64",
         "type": "float"
        },
        {
         "name": "Capital Expenditure Reported",
         "rawType": "float64",
         "type": "float"
        },
        {
         "name": "Change In Receivables",
         "rawType": "float64",
         "type": "float"
        },
        {
         "name": "Depreciation And Amortization",
         "rawType": "float64",
         "type": "float"
        },
        {
         "name": "Amortization Cash Flow",
         "rawType": "float64",
         "type": "float"
        },
        {
         "name": "Depreciation",
         "rawType": "float64",
         "type": "float"
        },
        {
         "name": "Pension And Employee Benefit Expense",
         "rawType": "float64",
         "type": "float"
        },
        {
         "name": "Gain Loss On Investment Securities",
         "rawType": "float64",
         "type": "float"
        },
        {
         "name": "Net Debt",
         "rawType": "float64",
         "type": "float"
        },
        {
         "name": "Reconciled Depreciation",
         "rawType": "float64",
         "type": "float"
        },
        {
         "name": "Interest Expense",
         "rawType": "float64",
         "type": "float"
        },
        {
         "name": "Interest Income",
         "rawType": "float64",
         "type": "float"
        },
        {
         "name": "Rent Expense Supplemental",
         "rawType": "float64",
         "type": "float"
        },
        {
         "name": "Net Income Discontinuous Operations",
         "rawType": "float64",
         "type": "float"
        },
        {
         "name": "Other Non Operating Income Expenses",
         "rawType": "float64",
         "type": "float"
        },
        {
         "name": "Write Off",
         "rawType": "float64",
         "type": "float"
        },
        {
         "name": "Restructuring And Mergern Acquisition",
         "rawType": "float64",
         "type": "float"
        },
        {
         "name": "Total Other Finance Cost",
         "rawType": "float64",
         "type": "float"
        },
        {
         "name": "Interest Expense Non Operating",
         "rawType": "float64",
         "type": "float"
        },
        {
         "name": "Interest Income Non Operating",
         "rawType": "float64",
         "type": "float"
        },
        {
         "name": "Operating Expense",
         "rawType": "float64",
         "type": "float"
        },
        {
         "name": "Other Operating Expenses",
         "rawType": "float64",
         "type": "float"
        }
       ],
       "conversionMethod": "pd.DataFrame",
       "ref": "7eb77bfc-cbe9-4c6c-b66e-aa01efc89db3",
       "rows": [
        [
         "1",
         "MAERSK-B.CO",
         "2023-12-31 00:00:00",
         "0.06435524529691894",
         "0",
         "0",
         "-0.8702645072465651",
         "-1.0928778873495266",
         "-0.6379890191906807",
         "-1.0469745554650314",
         "-1.5684060733501073",
         "0.7362833364192026",
         "-0.9252540143573841",
         "-1.1889040252213097",
         "-1.2559875449859597",
         "1.8150160734159189",
         "-0.17218649339660994",
         "-1.563402043087132",
         "-1.0972287566605154",
         "-1.0928778873495266",
         "1.1548252152264349",
         "1.1548252152264349",
         "1.3443697095088352",
         "0.6320508256601114",
         "1.500806974954792",
         "0.0",
         "0.0",
         "1.1708330494834809",
         "1.9041904991100271",
         "0.7505074779421843",
         "-0.31021737578970277",
         "1.720083371299712",
         "-0.6379890191906807",
         "-0.768345180788042",
         "-0.5718371717151687",
         "0.908091710662262",
         "-1.1170542911633292",
         "1.625124752928192",
         "-0.9629426755159866",
         "1.4920707500338972",
         "-0.9319878030838575",
         "-0.2502989206797946",
         "-1.3964844911990613",
         "-0.3586827110982276",
         "-0.1691451439841223",
         "-0.2824619610107043",
         "-0.3586827110982276",
         "-1.2165290700620814",
         "-0.13299006298912303",
         "-0.14089035126296312",
         "-0.1321292673806193",
         "0.42562459805127634",
         "-0.13299006298912303",
         "-1.5811388300841898",
         "-0.2489429323308949",
         "-0.2489429323308949",
         "-0.6296633293942253",
         "-1.0192162567603436",
         "0.0",
         "-0.21383167256729613",
         "-0.25649458802128855",
         "0.30835141956037776",
         "0.12217704062517294",
         "-1.2953024528842394",
         "-1.5807022436204798",
         "-0.12137328711784184",
         "0.6189136516420083",
         "-0.3055129564798891",
         "0.0",
         "-1.1632028393970506",
         "-0.20304993226455903",
         "-1.3274317239472089",
         "1.7297125064354055",
         "-0.675209849815549",
         "-0.4885154730734539",
         "-0.9663254393922523",
         "-0.6694695927406444",
         "-0.21037916443024482",
         "-0.04564998140173582",
         "-1.234791522854936",
         "-1.2270437496831006",
         "-0.29138575870717925",
         "1.3301159911718656",
         "1.3301159911718656",
         "-0.9469659883422579",
         "-0.7249795858182061",
         "-0.8384826830559146",
         "0.5033152615653762",
         "-0.09273851693422402",
         "0.6422993877994013",
         "-1.2367308397398364",
         "1.5994813177919052",
         "-1.449398725085026",
         "1.0412631836549215",
         "0.8953603684816405",
         "-1.7129864061590974",
         "-0.2965884966787733",
         "0.5361207045839141",
         "1.8943275412467226",
         "1.1555298129516642",
         "1.1697953037312037",
         "0.039850392984997436",
         "0.21815629278769247",
         "-0.9230126138693739",
         "0.616571218430441",
         "-0.9197403910651407",
         "-1.462300442691071",
         "0.0",
         "-1.0417657018325783",
         "-1.0417657018325783",
         "1.9286079888905165",
         "1.7431414778781338",
         "-1.606126702741731",
         "1.810009959003201",
         "1.810009959003201",
         "-0.9536585715971087",
         "0.27803215044262103",
         "-1.5940756491513368",
         "-1.637633951234635",
         "1.7073670436298145",
         "-0.9867048293021089",
         "-0.9536585715971087",
         "0.3230800612295938",
         "-1.7031986139550126",
         "-1.7002762349513985",
         "-1.6015274332329807",
         "-1.6018230494454835",
         "-0.9536585715971087",
         "-0.9536585715971087",
         "0.0",
         "-0.9536585715971087",
         "-0.1498377981004427",
         "-0.9506644927292395",
         "-0.9506644927292395",
         "-0.3812964732295625",
         "-0.9377548460846932",
         "1.8248854595617572",
         "-1.8256468807114519",
         "1.7073670436298145",
         "-1.6600373363759449",
         "-1.6590704598960029",
         "0.27803215044262103",
         "-0.05416929951807028",
         "-0.05416929951807028",
         "1.0189656604999175",
         "1.4282075694760235",
         "-0.5576246709318385",
         "0.0",
         "0.0",
         "-0.5576246709318385",
         "1.0189656604999175",
         "1.4282075694760235",
         "0.0",
         "1.762524272125522",
         "1.2163097077852463",
         "1.5811388300841898",
         "1.3162342276992274",
         "0.4964003084776979",
         "-1.8256468807114519",
         "0.0",
         "1.2163097077852463",
         "-0.7351370145966665",
         "1.7247777400926843",
         "-1.7279500072737233",
         "0.0",
         "0.0",
         "-1.5311180047019057",
         "-1.6296016874534212",
         "-1.5811388300841898",
         "-0.7351370145966665",
         "1.7247777400926843",
         "1.7638476462667987",
         "-1.817347598446148"
        ],
        [
         "2",
         "MAERSK-B.CO",
         "2022-12-31 00:00:00",
         "-0.10049565262218052",
         "0",
         "0",
         "1.6096056194000792",
         "-0.7297734272777553",
         "-1.2519309883327598",
         "0.694003460910633",
         "1.534676910482363",
         "1.4394132017801298",
         "-1.2953556201003378",
         "-0.5790971635764313",
         "-0.7652992112093913",
         "-0.658761072748611",
         "-1.4754019140062458",
         "-0.5459659533442707",
         "-0.7251895443345703",
         "-0.7297734272777553",
         "-0.09228923450028678",
         "-0.09228923450028678",
         "-1.710743077025382",
         "1.0053425884660832",
         "-1.6093088229291916",
         "-0.38965632954607327",
         "-1.5811388300841898",
         "-1.8206011014220214",
         "-0.3027069751539033",
         "-1.9082051832785323",
         "-1.4401711691689554",
         "0.08504399443427603",
         "-1.2519309883327598",
         "1.617887419825946",
         "-1.1646705246812183",
         "-1.2009939430157475",
         "-0.6921295950730977",
         "-0.09198819356197313",
         "1.580159132236792",
         "0.46234497087117743",
         "0.560708111029027",
         "0.6960773159771548",
         "0.1404363759818505",
         "1.5931618512604442",
         "1.4166832687808004",
         "1.6644672641924592",
         "1.5931618512604442",
         "1.3243986427769456",
         "1.4601717138414896",
         "1.4230865564034196",
         "1.4615973644642302",
         "-0.6898053830486203",
         "1.4601717138414896",
         "0.0",
         "0.6963518890546231",
         "0.6963518890546231",
         "0.48674394931773707",
         "0.5104183161836379",
         "0.0",
         "1.7219076790945425",
         "-0.25649458802128855",
         "1.1893554754471714",
         "1.0595353195199424",
         "-0.374987102798451",
         "0.8151809057240463",
         "-1.7062476147723056",
         "-0.026399160496578554",
         "0.4511547494319458",
         "0.0",
         "1.3243269265067272",
         "1.6887811439564544",
         "-0.8601112991281612",
         "-0.22318871050779426",
         "1.1842620683861655",
         "1.1614122725598457",
         "0.738165266202415",
         "1.3290211174406867",
         "1.3693499417615564",
         "0.9263022431601697",
         "0.23644944054668984",
         "1.793371634152224",
         "-0.3885143449429057",
         "0.5320463964687463",
         "0.5320463964687463",
         "0.13991574560089035",
         "-0.6239874047092022",
         "1.6642994645550933",
         "0.9450508296930821",
         "1.7137569773187424",
         "0.6738144957594501",
         "1.3449447882170722",
         "-1.5307862408815156",
         "1.4749348203554637",
         "-0.4189115539283981",
         "-0.002754954979943509",
         "1.2626979045076179",
         "1.5718590273678228",
         "1.5743227039368908",
         "-0.7675525963206254",
         "1.0792362352051994",
         "0.35993701653267807",
         "1.0535096849695802",
         "-0.9329662734111955",
         "1.8503263116803574",
         "-1.0708868530633977",
         "1.8373933096131114",
         "0.8470757478972896",
         "0.5191458497429613",
         "0.6308407784210435",
         "0.6308407784210435",
         "-0.7720550903297768",
         "-1.10572651383939",
         "1.5549062611964364",
         "-1.1121232095826885",
         "-1.1121232095826885",
         "1.609972871274602",
         "1.4236814618888571",
         "1.5678764059836428",
         "1.517827906377866",
         "-0.29361804908418265",
         "1.6071064434456193",
         "1.609972871274602",
         "1.3946458373093777",
         "0.28209438068951936",
         "0.2741211527562367",
         "1.559929318084072",
         "1.5596092172847258",
         "1.609972871274602",
         "1.609972871274602",
         "0.0",
         "1.609972871274602",
         "-1.3169953833038912",
         "1.6099329374486262",
         "1.6099329374486262",
         "1.4065821056154812",
         "1.607161633588514",
         "-0.960865809092871",
         "0.8966958177346",
         "-0.29361804908418265",
         "1.4882033165795874",
         "1.489545765337664",
         "1.4236814618888571",
         "1.3457997698507467",
         "1.3457997698507467",
         "0.8024934412738349",
         "-1.699074522307683",
         "1.7843989469818817",
         "0.0",
         "0.0",
         "1.7843989469818817",
         "0.8024934412738349",
         "-1.699074522307683",
         "0.0",
         "-0.4687925703657272",
         "0.5710156261739897",
         "-1.5811388300841898",
         "0.43762263325038253",
         "1.2733747043558348",
         "0.8966958177346",
         "0.0",
         "0.5710156261739897",
         "-1.0797324901888552",
         "-0.3438753114381031",
         "0.3534443196696252",
         "0.0",
         "0.0",
         "-0.09569487529386927",
         "1.5277515819875822",
         "0.0",
         "-1.0797324901888552",
         "-0.3438753114381031",
         "-1.2901285641265738",
         "0.7572281660192284"
        ],
        [
         "3",
         "MAERSK-B.CO",
         "2021-12-31 00:00:00",
         "-0.2534552752860306",
         "0",
         "0",
         "0.46053929611797106",
         "0.013545127110007181",
         "0.15764177254083364",
         "1.4726161694865114",
         "-0.28669788437582605",
         "-1.18569705520916",
         "1.1245394943728206",
         "1.8027605173807086",
         "0.38055912628008576",
         "-1.1273486256506253",
         "-0.02363344027012293",
         "0.9262734120567921",
         "0.014106885300276838",
         "0.013545127110007181",
         "-1.774925914453081",
         "-1.774925914453081",
         "-0.13218094802418337",
         "0.24179125545386812",
         "-0.22126423971742726",
         "-1.349880855927468",
         "1.5811388300841898",
         "0.09743915454090384",
         "-0.7956284684788405",
         "0.32848959520873716",
         "0.06966893020528521",
         "-0.4526535187630821",
         "0.15764177254083364",
         "0.4211676997741356",
         "-0.08274965551817776",
         "-1.013309017430019",
         "1.8091838862364271",
         "-1.533136559366219",
         "0.5236658981313704",
         "-0.40707998017348884",
         "1.5545958066527052",
         "1.2524866242407164",
         "-0.43057885573313237",
         "-1.5035839316866295",
         "-1.6692887297916719",
         "-1.463917471607421",
         "-1.5035839316866295",
         "-0.9920731914836768",
         "-1.6559382046396696",
         "-1.6738035319319997",
         "-1.65532283565559",
         "1.5997614202616939",
         "-1.6559382046396696",
         "0.0",
         "1.251597876373301",
         "1.251597876373301",
         "-1.404411484017613",
         "-1.081870780228388",
         "0.0",
         "-1.4067873195216851",
         "1.7954621161490196",
         "0.33944568035638223",
         "-1.8486788278202397",
         "-0.11001198914907238",
         "-0.4958316849249354",
         "0.46442836310380803",
         "-1.7863431936018155",
         "-1.6045707878683488",
         "0.0",
         "-1.0501333045832426",
         "-1.451064150085751",
         "0.8641399234800495",
         "-0.11159435525389713",
         "-1.4817277902403891",
         "-1.5986051083843376",
         "-1.2079067992403154",
         "-1.4629150359888154",
         "-1.6769858927241463",
         "-1.8100169774654706",
         "1.7076904039483156",
         "-0.5258758927213288",
         "1.8454431384788021",
         "-1.7101491315066846",
         "-1.7101491315066846",
         "1.7742938753736095",
         "1.9344811833855613",
         "0.3571784238999515",
         "-1.9083854163450924",
         "-1.419026348157921",
         "-1.9362094452954912",
         "-0.9639875206186405",
         "0.18473405817793911",
         "-0.6142181974165895",
         "-1.6428333002622817",
         "-1.8246985150492507",
         "0.6551975654894243",
         "-1.5398927115587808",
         "-1.1147906714363929",
         "-0.2571397866766831",
         "-1.1555298129516642",
         "-1.844677209729975",
         "-1.8294136745816993",
         "-1.025798738427235",
         "-0.8473135364970488",
         "1.5252024876963541",
         "-0.8813308967492111",
         "1.2962703722183389",
         "-1.0508314543106319",
         "1.5154881271845055",
         "1.5154881271845055",
         "-0.6665795044340074",
         "-0.8362390011093539",
         "0.051220441545294225",
         "-0.6978867494205129",
         "-0.6978867494205129",
         "0.4728261373147984",
         "-1.701713612331481",
         "0.026199243167693884",
         "0.11980604485676909",
         "-1.4137489945456316",
         "0.4807395755904066",
         "0.4728261373147984",
         "-1.7177258985389687",
         "1.4211042332654984",
         "1.4261550821951618",
         "0.04159811514890859",
         "0.04221383216075792",
         "0.4728261373147984",
         "0.4728261373147984",
         "0.0",
         "0.4728261373147984",
         "-0.3075617961009087",
         "0.47256136416535593",
         "0.47256136416535593",
         "0.5714546115497042",
         "0.47572692669139555",
         "-0.864019650468886",
         "0.9289510629768518",
         "-1.4137489945456316",
         "0.17183401979635757",
         "0.16952469455833918",
         "-1.701713612331481",
         "0.43855878483633015",
         "0.43855878483633015",
         "-1.8214591017737525",
         "0.2708669528316596",
         "-1.2267742760500444",
         "0.0",
         "0.0",
         "-1.2267742760500444",
         "-1.8214591017737525",
         "0.2708669528316596",
         "0.0",
         "-1.2937317017597947",
         "-1.787325333959236",
         "0.0",
         "-1.75385686094961",
         "-1.7697750128335346",
         "0.9289510629768518",
         "0.0",
         "-1.787325333959236",
         "1.8148695047855299",
         "-1.3809024286545812",
         "1.3745056876040982",
         "0.0",
         "1.5811388300841898",
         "1.6268128799957744",
         "0.10185010546583882",
         "1.5811388300841898",
         "1.8148695047855299",
         "-1.3809024286545812",
         "-0.47371908214022673",
         "1.0601194324269196"
        ],
        [
         "4",
         "MAERSK-B.CO",
         "2020-12-31 00:00:00",
         "0.7670161639980566",
         "0",
         "0",
         "0.0",
         "0.0",
         "0.0",
         "0.0",
         "0.3204270472435703",
         "0.0",
         "0.0",
         "0.0",
         "0.0",
         "0.0",
         "0.0",
         "0.0",
         "0.0",
         "0.0",
         "0.0",
         "0.0",
         "0.0",
         "0.0",
         "0.0",
         "1.7395371854735409",
         "0.0",
         "0.0",
         "0.0",
         "0.0",
         "0.0",
         "0.0",
         "0.0",
         "0.0",
         "0.0",
         "0.0",
         "0.0",
         "0.0",
         "0.0",
         "0.0",
         "0.0",
         "0.0",
         "0.0",
         "0.0",
         "0.0",
         "0.0",
         "0.0",
         "0.0",
         "0.0",
         "0.0",
         "0.0",
         "0.0",
         "0.0",
         "0.0",
         "0.0",
         "0.0",
         "0.0",
         "0.0",
         "0.0",
         "0.0",
         "0.0",
         "0.0",
         "0.0",
         "0.0",
         "0.0",
         "0.0",
         "0.0",
         "0.0",
         "0.0",
         "0.0",
         "0.0",
         "0.0",
         "0.0",
         "0.0",
         "0.0",
         "0.0",
         "0.0",
         "0.0",
         "0.0",
         "0.0",
         "0.0",
         "0.0",
         "0.0",
         "0.0",
         "0.0",
         "0.0",
         "0.0",
         "0.0",
         "0.0",
         "0.0",
         "0.0",
         "0.0",
         "0.0",
         "0.0",
         "0.0",
         "0.0",
         "0.0",
         "0.0",
         "0.0",
         "0.0",
         "0.0",
         "0.0",
         "0.0",
         "0.0",
         "0.0",
         "0.0",
         "0.0",
         "-1.0541753889305543",
         "0.0",
         "0.0",
         "0.0",
         "0.0",
         "0.0",
         "-4.7849645467018844e-17",
         "-4.7849645467018844e-17",
         "0.0",
         "0.0",
         "0.0",
         "0.0",
         "0.0",
         "0.0",
         "0.0",
         "0.0",
         "0.0",
         "0.0",
         "0.0",
         "0.0",
         "0.0",
         "0.0",
         "0.0",
         "0.0",
         "0.0",
         "0.0",
         "0.0",
         "0.0",
         "0.0",
         "0.0",
         "0.0",
         "0.0",
         "0.0",
         "0.0",
         "0.0",
         "0.0",
         "0.0",
         "0.0",
         "0.0",
         "0.0",
         "0.0",
         "0.0",
         "0.0",
         "0.0",
         "0.0",
         "0.0",
         "0.0",
         "0.0",
         "0.0",
         "0.0",
         "0.0",
         "0.0",
         "0.0",
         "0.0",
         "0.0",
         "0.0",
         "0.0",
         "0.0",
         "-1.5811388300841898",
         "0.0",
         "0.0",
         "0.0",
         "0.0",
         "0.0",
         "0.0",
         "0.0"
        ]
       ],
       "shape": {
        "columns": 172,
        "rows": 4
       }
      },
      "text/html": [
       "<div>\n",
       "<style scoped>\n",
       "    .dataframe tbody tr th:only-of-type {\n",
       "        vertical-align: middle;\n",
       "    }\n",
       "\n",
       "    .dataframe tbody tr th {\n",
       "        vertical-align: top;\n",
       "    }\n",
       "\n",
       "    .dataframe thead th {\n",
       "        text-align: right;\n",
       "    }\n",
       "</style>\n",
       "<table border=\"1\" class=\"dataframe\">\n",
       "  <thead>\n",
       "    <tr style=\"text-align: right;\">\n",
       "      <th></th>\n",
       "      <th>Ticker</th>\n",
       "      <th>Date</th>\n",
       "      <th>1 Year Future Change</th>\n",
       "      <th>Sector</th>\n",
       "      <th>Industry</th>\n",
       "      <th>Free Cash Flow</th>\n",
       "      <th>Repurchase Of Capital Stock</th>\n",
       "      <th>Capital Expenditure</th>\n",
       "      <th>End Cash Position</th>\n",
       "      <th>Other Cash Adjustment Outside Changein Cash</th>\n",
       "      <th>...</th>\n",
       "      <th>Rent Expense Supplemental</th>\n",
       "      <th>Net Income Discontinuous Operations</th>\n",
       "      <th>Other Non Operating Income Expenses</th>\n",
       "      <th>Write Off</th>\n",
       "      <th>Restructuring And Mergern Acquisition</th>\n",
       "      <th>Total Other Finance Cost</th>\n",
       "      <th>Interest Expense Non Operating</th>\n",
       "      <th>Interest Income Non Operating</th>\n",
       "      <th>Operating Expense</th>\n",
       "      <th>Other Operating Expenses</th>\n",
       "    </tr>\n",
       "  </thead>\n",
       "  <tbody>\n",
       "    <tr>\n",
       "      <th>1</th>\n",
       "      <td>MAERSK-B.CO</td>\n",
       "      <td>2023-12-31</td>\n",
       "      <td>0.064355</td>\n",
       "      <td>0</td>\n",
       "      <td>0</td>\n",
       "      <td>-0.870265</td>\n",
       "      <td>-1.092878</td>\n",
       "      <td>-0.637989</td>\n",
       "      <td>-1.046975</td>\n",
       "      <td>-1.568406</td>\n",
       "      <td>...</td>\n",
       "      <td>-1.727950</td>\n",
       "      <td>0.0</td>\n",
       "      <td>0.000000</td>\n",
       "      <td>-1.531118</td>\n",
       "      <td>-1.629602</td>\n",
       "      <td>-1.581139</td>\n",
       "      <td>-0.735137</td>\n",
       "      <td>1.724778</td>\n",
       "      <td>1.763848</td>\n",
       "      <td>-1.817348</td>\n",
       "    </tr>\n",
       "    <tr>\n",
       "      <th>2</th>\n",
       "      <td>MAERSK-B.CO</td>\n",
       "      <td>2022-12-31</td>\n",
       "      <td>-0.100496</td>\n",
       "      <td>0</td>\n",
       "      <td>0</td>\n",
       "      <td>1.609606</td>\n",
       "      <td>-0.729773</td>\n",
       "      <td>-1.251931</td>\n",
       "      <td>0.694003</td>\n",
       "      <td>1.534677</td>\n",
       "      <td>...</td>\n",
       "      <td>0.353444</td>\n",
       "      <td>0.0</td>\n",
       "      <td>0.000000</td>\n",
       "      <td>-0.095695</td>\n",
       "      <td>1.527752</td>\n",
       "      <td>0.000000</td>\n",
       "      <td>-1.079732</td>\n",
       "      <td>-0.343875</td>\n",
       "      <td>-1.290129</td>\n",
       "      <td>0.757228</td>\n",
       "    </tr>\n",
       "    <tr>\n",
       "      <th>3</th>\n",
       "      <td>MAERSK-B.CO</td>\n",
       "      <td>2021-12-31</td>\n",
       "      <td>-0.253455</td>\n",
       "      <td>0</td>\n",
       "      <td>0</td>\n",
       "      <td>0.460539</td>\n",
       "      <td>0.013545</td>\n",
       "      <td>0.157642</td>\n",
       "      <td>1.472616</td>\n",
       "      <td>-0.286698</td>\n",
       "      <td>...</td>\n",
       "      <td>1.374506</td>\n",
       "      <td>0.0</td>\n",
       "      <td>1.581139</td>\n",
       "      <td>1.626813</td>\n",
       "      <td>0.101850</td>\n",
       "      <td>1.581139</td>\n",
       "      <td>1.814870</td>\n",
       "      <td>-1.380902</td>\n",
       "      <td>-0.473719</td>\n",
       "      <td>1.060119</td>\n",
       "    </tr>\n",
       "    <tr>\n",
       "      <th>4</th>\n",
       "      <td>MAERSK-B.CO</td>\n",
       "      <td>2020-12-31</td>\n",
       "      <td>0.767016</td>\n",
       "      <td>0</td>\n",
       "      <td>0</td>\n",
       "      <td>0.000000</td>\n",
       "      <td>0.000000</td>\n",
       "      <td>0.000000</td>\n",
       "      <td>0.000000</td>\n",
       "      <td>0.320427</td>\n",
       "      <td>...</td>\n",
       "      <td>0.000000</td>\n",
       "      <td>0.0</td>\n",
       "      <td>-1.581139</td>\n",
       "      <td>0.000000</td>\n",
       "      <td>0.000000</td>\n",
       "      <td>0.000000</td>\n",
       "      <td>0.000000</td>\n",
       "      <td>0.000000</td>\n",
       "      <td>0.000000</td>\n",
       "      <td>0.000000</td>\n",
       "    </tr>\n",
       "  </tbody>\n",
       "</table>\n",
       "<p>4 rows × 172 columns</p>\n",
       "</div>"
      ],
      "text/plain": [
       "        Ticker       Date  1 Year Future Change  Sector  Industry  \\\n",
       "1  MAERSK-B.CO 2023-12-31              0.064355       0         0   \n",
       "2  MAERSK-B.CO 2022-12-31             -0.100496       0         0   \n",
       "3  MAERSK-B.CO 2021-12-31             -0.253455       0         0   \n",
       "4  MAERSK-B.CO 2020-12-31              0.767016       0         0   \n",
       "\n",
       "   Free Cash Flow  Repurchase Of Capital Stock  Capital Expenditure  \\\n",
       "1       -0.870265                    -1.092878            -0.637989   \n",
       "2        1.609606                    -0.729773            -1.251931   \n",
       "3        0.460539                     0.013545             0.157642   \n",
       "4        0.000000                     0.000000             0.000000   \n",
       "\n",
       "   End Cash Position  Other Cash Adjustment Outside Changein Cash  ...  \\\n",
       "1          -1.046975                                    -1.568406  ...   \n",
       "2           0.694003                                     1.534677  ...   \n",
       "3           1.472616                                    -0.286698  ...   \n",
       "4           0.000000                                     0.320427  ...   \n",
       "\n",
       "   Rent Expense Supplemental  Net Income Discontinuous Operations  \\\n",
       "1                  -1.727950                                  0.0   \n",
       "2                   0.353444                                  0.0   \n",
       "3                   1.374506                                  0.0   \n",
       "4                   0.000000                                  0.0   \n",
       "\n",
       "   Other Non Operating Income Expenses  Write Off  \\\n",
       "1                             0.000000  -1.531118   \n",
       "2                             0.000000  -0.095695   \n",
       "3                             1.581139   1.626813   \n",
       "4                            -1.581139   0.000000   \n",
       "\n",
       "   Restructuring And Mergern Acquisition  Total Other Finance Cost  \\\n",
       "1                              -1.629602                 -1.581139   \n",
       "2                               1.527752                  0.000000   \n",
       "3                               0.101850                  1.581139   \n",
       "4                               0.000000                  0.000000   \n",
       "\n",
       "   Interest Expense Non Operating  Interest Income Non Operating  \\\n",
       "1                       -0.735137                       1.724778   \n",
       "2                       -1.079732                      -0.343875   \n",
       "3                        1.814870                      -1.380902   \n",
       "4                        0.000000                       0.000000   \n",
       "\n",
       "   Operating Expense  Other Operating Expenses  \n",
       "1           1.763848                 -1.817348  \n",
       "2          -1.290129                  0.757228  \n",
       "3          -0.473719                  1.060119  \n",
       "4           0.000000                  0.000000  \n",
       "\n",
       "[4 rows x 172 columns]"
      ]
     },
     "metadata": {},
     "output_type": "display_data"
    }
   ],
   "source": [
    "pred_data = pd.DataFrame()\n",
    "for i in range(int(len(df) / 5)):\n",
    "    pred_data = pd.concat([pred_data, df.iloc[[i*5]]]) \n",
    "print('Prediction Data:')\n",
    "display(pred_data)\n",
    "\n",
    "train_data = pd.DataFrame()\n",
    "for i in range(int(len(df) / 5)):\n",
    "    train_data = pd.concat([train_data, df.iloc[[1+i*5]]])\n",
    "    train_data = pd.concat([train_data, df.iloc[[2+i*5]]])\n",
    "    train_data = pd.concat([train_data, df.iloc[[3+i*5]]])\n",
    "    train_data = pd.concat([train_data, df.iloc[[4+i*5]]])\n",
    "print('Train and Test Data:')\n",
    "display(train_data)"
   ]
  },
  {
   "cell_type": "markdown",
   "metadata": {},
   "source": [
    "### Labeling"
   ]
  },
  {
   "cell_type": "code",
   "execution_count": 49,
   "metadata": {},
   "outputs": [],
   "source": [
    "X_pred = pred_data.drop(['Ticker', 'Date', '1 Year Future Change'], axis=1)\n",
    "X_train = train_data.drop(['Ticker', 'Date', '1 Year Future Change'], axis=1)\n",
    "y_train = train_data['1 Year Future Change']\n",
    "\n",
    "X_train, X_test, y_train, y_test = train_test_split(\n",
    "    X_train,\n",
    "    y_train,\n",
    "    test_size=0.15,\n",
    "    shuffle=True,\n",
    ")"
   ]
  },
  {
   "cell_type": "markdown",
   "metadata": {},
   "source": [
    "## Model Training"
   ]
  },
  {
   "cell_type": "code",
   "execution_count": null,
   "metadata": {},
   "outputs": [
    {
     "name": "stdout",
     "output_type": "stream",
     "text": [
      "Fitting 5 folds for each of 2 candidates, totalling 10 fits\n"
     ]
    },
    {
     "ename": "ValueError",
     "evalue": "Cannot have number of splits n_splits=5 greater than the number of samples: n_samples=3.",
     "output_type": "error",
     "traceback": [
      "\u001b[0;31m---------------------------------------------------------------------------\u001b[0m",
      "\u001b[0;31mValueError\u001b[0m                                Traceback (most recent call last)",
      "Cell \u001b[0;32mIn[50], line 22\u001b[0m\n\u001b[1;32m      3\u001b[0m param_grid \u001b[38;5;241m=\u001b[39m {\n\u001b[1;32m      4\u001b[0m     \u001b[38;5;124m'\u001b[39m\u001b[38;5;124mshuffle\u001b[39m\u001b[38;5;124m'\u001b[39m: [\u001b[38;5;28;01mTrue\u001b[39;00m], \n\u001b[1;32m      5\u001b[0m     \u001b[38;5;124m'\u001b[39m\u001b[38;5;124msolver\u001b[39m\u001b[38;5;124m'\u001b[39m: [\u001b[38;5;124m'\u001b[39m\u001b[38;5;124madam\u001b[39m\u001b[38;5;124m'\u001b[39m], \n\u001b[0;32m   (...)\u001b[0m\n\u001b[1;32m     11\u001b[0m     \u001b[38;5;124m'\u001b[39m\u001b[38;5;124mn_iter_no_change\u001b[39m\u001b[38;5;124m'\u001b[39m: [\u001b[38;5;241m4\u001b[39m, \u001b[38;5;241m6\u001b[39m]\n\u001b[1;32m     12\u001b[0m }\n\u001b[1;32m     14\u001b[0m grid_search \u001b[38;5;241m=\u001b[39m GridSearchCV(\n\u001b[1;32m     15\u001b[0m     estimator\u001b[38;5;241m=\u001b[39mbase_model, \n\u001b[1;32m     16\u001b[0m     param_grid\u001b[38;5;241m=\u001b[39mparam_grid, \n\u001b[0;32m   (...)\u001b[0m\n\u001b[1;32m     20\u001b[0m     verbose\u001b[38;5;241m=\u001b[39m\u001b[38;5;241m1\u001b[39m,\n\u001b[1;32m     21\u001b[0m )\n\u001b[0;32m---> 22\u001b[0m grid_search\u001b[38;5;241m.\u001b[39mfit(X_train, y_train)\n\u001b[1;32m     24\u001b[0m best_params \u001b[38;5;241m=\u001b[39m grid_search\u001b[38;5;241m.\u001b[39mbest_params_\n\u001b[1;32m     25\u001b[0m model \u001b[38;5;241m=\u001b[39m grid_search\u001b[38;5;241m.\u001b[39mbest_estimator_\n",
      "File \u001b[0;32m/opt/anaconda3/lib/python3.12/site-packages/sklearn/base.py:1473\u001b[0m, in \u001b[0;36m_fit_context.<locals>.decorator.<locals>.wrapper\u001b[0;34m(estimator, *args, **kwargs)\u001b[0m\n\u001b[1;32m   1466\u001b[0m     estimator\u001b[38;5;241m.\u001b[39m_validate_params()\n\u001b[1;32m   1468\u001b[0m \u001b[38;5;28;01mwith\u001b[39;00m config_context(\n\u001b[1;32m   1469\u001b[0m     skip_parameter_validation\u001b[38;5;241m=\u001b[39m(\n\u001b[1;32m   1470\u001b[0m         prefer_skip_nested_validation \u001b[38;5;129;01mor\u001b[39;00m global_skip_validation\n\u001b[1;32m   1471\u001b[0m     )\n\u001b[1;32m   1472\u001b[0m ):\n\u001b[0;32m-> 1473\u001b[0m     \u001b[38;5;28;01mreturn\u001b[39;00m fit_method(estimator, \u001b[38;5;241m*\u001b[39margs, \u001b[38;5;241m*\u001b[39m\u001b[38;5;241m*\u001b[39mkwargs)\n",
      "File \u001b[0;32m/opt/anaconda3/lib/python3.12/site-packages/sklearn/model_selection/_search.py:1018\u001b[0m, in \u001b[0;36mBaseSearchCV.fit\u001b[0;34m(self, X, y, **params)\u001b[0m\n\u001b[1;32m   1012\u001b[0m     results \u001b[38;5;241m=\u001b[39m \u001b[38;5;28mself\u001b[39m\u001b[38;5;241m.\u001b[39m_format_results(\n\u001b[1;32m   1013\u001b[0m         all_candidate_params, n_splits, all_out, all_more_results\n\u001b[1;32m   1014\u001b[0m     )\n\u001b[1;32m   1016\u001b[0m     \u001b[38;5;28;01mreturn\u001b[39;00m results\n\u001b[0;32m-> 1018\u001b[0m \u001b[38;5;28mself\u001b[39m\u001b[38;5;241m.\u001b[39m_run_search(evaluate_candidates)\n\u001b[1;32m   1020\u001b[0m \u001b[38;5;66;03m# multimetric is determined here because in the case of a callable\u001b[39;00m\n\u001b[1;32m   1021\u001b[0m \u001b[38;5;66;03m# self.scoring the return type is only known after calling\u001b[39;00m\n\u001b[1;32m   1022\u001b[0m first_test_score \u001b[38;5;241m=\u001b[39m all_out[\u001b[38;5;241m0\u001b[39m][\u001b[38;5;124m\"\u001b[39m\u001b[38;5;124mtest_scores\u001b[39m\u001b[38;5;124m\"\u001b[39m]\n",
      "File \u001b[0;32m/opt/anaconda3/lib/python3.12/site-packages/sklearn/model_selection/_search.py:1572\u001b[0m, in \u001b[0;36mGridSearchCV._run_search\u001b[0;34m(self, evaluate_candidates)\u001b[0m\n\u001b[1;32m   1570\u001b[0m \u001b[38;5;28;01mdef\u001b[39;00m \u001b[38;5;21m_run_search\u001b[39m(\u001b[38;5;28mself\u001b[39m, evaluate_candidates):\n\u001b[1;32m   1571\u001b[0m \u001b[38;5;250m    \u001b[39m\u001b[38;5;124;03m\"\"\"Search all candidates in param_grid\"\"\"\u001b[39;00m\n\u001b[0;32m-> 1572\u001b[0m     evaluate_candidates(ParameterGrid(\u001b[38;5;28mself\u001b[39m\u001b[38;5;241m.\u001b[39mparam_grid))\n",
      "File \u001b[0;32m/opt/anaconda3/lib/python3.12/site-packages/sklearn/model_selection/_search.py:976\u001b[0m, in \u001b[0;36mBaseSearchCV.fit.<locals>.evaluate_candidates\u001b[0;34m(candidate_params, cv, more_results)\u001b[0m\n\u001b[1;32m    956\u001b[0m \u001b[38;5;28;01mif\u001b[39;00m \u001b[38;5;28mself\u001b[39m\u001b[38;5;241m.\u001b[39mverbose \u001b[38;5;241m>\u001b[39m \u001b[38;5;241m0\u001b[39m:\n\u001b[1;32m    957\u001b[0m     \u001b[38;5;28mprint\u001b[39m(\n\u001b[1;32m    958\u001b[0m         \u001b[38;5;124m\"\u001b[39m\u001b[38;5;124mFitting \u001b[39m\u001b[38;5;132;01m{0}\u001b[39;00m\u001b[38;5;124m folds for each of \u001b[39m\u001b[38;5;132;01m{1}\u001b[39;00m\u001b[38;5;124m candidates,\u001b[39m\u001b[38;5;124m\"\u001b[39m\n\u001b[1;32m    959\u001b[0m         \u001b[38;5;124m\"\u001b[39m\u001b[38;5;124m totalling \u001b[39m\u001b[38;5;132;01m{2}\u001b[39;00m\u001b[38;5;124m fits\u001b[39m\u001b[38;5;124m\"\u001b[39m\u001b[38;5;241m.\u001b[39mformat(\n\u001b[1;32m    960\u001b[0m             n_splits, n_candidates, n_candidates \u001b[38;5;241m*\u001b[39m n_splits\n\u001b[1;32m    961\u001b[0m         )\n\u001b[1;32m    962\u001b[0m     )\n\u001b[1;32m    964\u001b[0m out \u001b[38;5;241m=\u001b[39m parallel(\n\u001b[1;32m    965\u001b[0m     delayed(_fit_and_score)(\n\u001b[1;32m    966\u001b[0m         clone(base_estimator),\n\u001b[1;32m    967\u001b[0m         X,\n\u001b[1;32m    968\u001b[0m         y,\n\u001b[1;32m    969\u001b[0m         train\u001b[38;5;241m=\u001b[39mtrain,\n\u001b[1;32m    970\u001b[0m         test\u001b[38;5;241m=\u001b[39mtest,\n\u001b[1;32m    971\u001b[0m         parameters\u001b[38;5;241m=\u001b[39mparameters,\n\u001b[1;32m    972\u001b[0m         split_progress\u001b[38;5;241m=\u001b[39m(split_idx, n_splits),\n\u001b[1;32m    973\u001b[0m         candidate_progress\u001b[38;5;241m=\u001b[39m(cand_idx, n_candidates),\n\u001b[1;32m    974\u001b[0m         \u001b[38;5;241m*\u001b[39m\u001b[38;5;241m*\u001b[39mfit_and_score_kwargs,\n\u001b[1;32m    975\u001b[0m     )\n\u001b[0;32m--> 976\u001b[0m     \u001b[38;5;28;01mfor\u001b[39;00m (cand_idx, parameters), (split_idx, (train, test)) \u001b[38;5;129;01min\u001b[39;00m product(\n\u001b[1;32m    977\u001b[0m         \u001b[38;5;28menumerate\u001b[39m(candidate_params),\n\u001b[1;32m    978\u001b[0m         \u001b[38;5;28menumerate\u001b[39m(cv\u001b[38;5;241m.\u001b[39msplit(X, y, \u001b[38;5;241m*\u001b[39m\u001b[38;5;241m*\u001b[39mrouted_params\u001b[38;5;241m.\u001b[39msplitter\u001b[38;5;241m.\u001b[39msplit)),\n\u001b[1;32m    979\u001b[0m     )\n\u001b[1;32m    980\u001b[0m )\n\u001b[1;32m    982\u001b[0m \u001b[38;5;28;01mif\u001b[39;00m \u001b[38;5;28mlen\u001b[39m(out) \u001b[38;5;241m<\u001b[39m \u001b[38;5;241m1\u001b[39m:\n\u001b[1;32m    983\u001b[0m     \u001b[38;5;28;01mraise\u001b[39;00m \u001b[38;5;167;01mValueError\u001b[39;00m(\n\u001b[1;32m    984\u001b[0m         \u001b[38;5;124m\"\u001b[39m\u001b[38;5;124mNo fits were performed. \u001b[39m\u001b[38;5;124m\"\u001b[39m\n\u001b[1;32m    985\u001b[0m         \u001b[38;5;124m\"\u001b[39m\u001b[38;5;124mWas the CV iterator empty? \u001b[39m\u001b[38;5;124m\"\u001b[39m\n\u001b[1;32m    986\u001b[0m         \u001b[38;5;124m\"\u001b[39m\u001b[38;5;124mWere there no candidates?\u001b[39m\u001b[38;5;124m\"\u001b[39m\n\u001b[1;32m    987\u001b[0m     )\n",
      "File \u001b[0;32m/opt/anaconda3/lib/python3.12/site-packages/sklearn/model_selection/_split.py:409\u001b[0m, in \u001b[0;36m_BaseKFold.split\u001b[0;34m(self, X, y, groups)\u001b[0m\n\u001b[1;32m    407\u001b[0m n_samples \u001b[38;5;241m=\u001b[39m _num_samples(X)\n\u001b[1;32m    408\u001b[0m \u001b[38;5;28;01mif\u001b[39;00m \u001b[38;5;28mself\u001b[39m\u001b[38;5;241m.\u001b[39mn_splits \u001b[38;5;241m>\u001b[39m n_samples:\n\u001b[0;32m--> 409\u001b[0m     \u001b[38;5;28;01mraise\u001b[39;00m \u001b[38;5;167;01mValueError\u001b[39;00m(\n\u001b[1;32m    410\u001b[0m         (\n\u001b[1;32m    411\u001b[0m             \u001b[38;5;124m\"\u001b[39m\u001b[38;5;124mCannot have number of splits n_splits=\u001b[39m\u001b[38;5;132;01m{0}\u001b[39;00m\u001b[38;5;124m greater\u001b[39m\u001b[38;5;124m\"\u001b[39m\n\u001b[1;32m    412\u001b[0m             \u001b[38;5;124m\"\u001b[39m\u001b[38;5;124m than the number of samples: n_samples=\u001b[39m\u001b[38;5;132;01m{1}\u001b[39;00m\u001b[38;5;124m.\u001b[39m\u001b[38;5;124m\"\u001b[39m\n\u001b[1;32m    413\u001b[0m         )\u001b[38;5;241m.\u001b[39mformat(\u001b[38;5;28mself\u001b[39m\u001b[38;5;241m.\u001b[39mn_splits, n_samples)\n\u001b[1;32m    414\u001b[0m     )\n\u001b[1;32m    416\u001b[0m \u001b[38;5;28;01mfor\u001b[39;00m train, test \u001b[38;5;129;01min\u001b[39;00m \u001b[38;5;28msuper\u001b[39m()\u001b[38;5;241m.\u001b[39msplit(X, y, groups):\n\u001b[1;32m    417\u001b[0m     \u001b[38;5;28;01myield\u001b[39;00m train, test\n",
      "\u001b[0;31mValueError\u001b[0m: Cannot have number of splits n_splits=5 greater than the number of samples: n_samples=3."
     ]
    }
   ],
   "source": [
    "base_model = MLPRegressor()\n",
    "\n",
    "param_grid = {\n",
    "    'shuffle': [True], \n",
    "    'solver': ['adam'], \n",
    "    'learning_rate': ['adaptive'],\n",
    "    'max_iter': [200],\n",
    "    'alpha': [0.0001],\n",
    "    'hidden_layer_sizes': [(400, 400, 400)],\n",
    "    'learning_rate_init': [(0.0005)],\n",
    "    'n_iter_no_change': [4, 6]\n",
    "}\n",
    "\n",
    "grid_search = GridSearchCV(\n",
    "    estimator=base_model, \n",
    "    param_grid=param_grid, \n",
    "    scoring='r2', \n",
    "    cv=5, \n",
    "    n_jobs=-1,\n",
    "    verbose=1,\n",
    ")\n",
    "grid_search.fit(X_train, y_train)\n",
    "\n",
    "best_params = grid_search.best_params_\n",
    "model = grid_search.best_estimator_\n",
    "print(f'Best Parameters: {best_params}')\n",
    "\n",
    "model.fit(X_train, y_train)"
   ]
  },
  {
   "cell_type": "markdown",
   "metadata": {},
   "source": [
    "## Testing and benchmarking"
   ]
  },
  {
   "cell_type": "code",
   "execution_count": null,
   "metadata": {},
   "outputs": [
    {
     "data": {
      "image/png": "[encoded data removed]",
      "text/plain": [
       "<Figure size 1100x600 with 1 Axes>"
      ]
     },
     "metadata": {},
     "output_type": "display_data"
    },
    {
     "name": "stdout",
     "output_type": "stream",
     "text": [
      "R²: -0.0469\n",
      "MSE: 0.2689\n",
      "MAE: 0.3408\n"
     ]
    }
   ],
   "source": [
    "y_test_pred = model.predict(X_test)\n",
    "\n",
    "plt.figure(figsize=(11, 6))\n",
    "plt.scatter(y_test, y_test_pred, alpha=0.7, color='blue', label='Predictions')\n",
    "plt.plot([y_test.min(), y_test.max()], [y_test.min(), y_test.max()], \n",
    "         color='red', linestyle='--', label='Perfect Fit')\n",
    "plt.title('Predicted vs Actual Values (Test Set)')\n",
    "plt.xlabel('Actual Values')\n",
    "plt.ylabel('Predicted Values')\n",
    "plt.legend()\n",
    "plt.grid(True)\n",
    "plt.show()\n",
    "\n",
    "mae = mean_absolute_error(y_test, y_test_pred)\n",
    "mse = mean_squared_error(y_test, y_test_pred)\n",
    "r2 = r2_score(y_test, y_test_pred)\n",
    "\n",
    "print(f\"R²: {r2:.4f}\")\n",
    "print(f\"MSE: {mse:.4f}\")\n",
    "print(f\"MAE: {mae:.4f}\")"
   ]
  },
  {
   "cell_type": "markdown",
   "metadata": {},
   "source": [
    "### Log test results"
   ]
  },
  {
   "cell_type": "code",
   "execution_count": null,
   "metadata": {},
   "outputs": [],
   "source": [
    "test_results = pd.DataFrame({\n",
    "    'R²': r2,\n",
    "    'MSE': mse,\n",
    "    'MAE': mae,\n",
    "    'hidden_layer_sizes': [model.hidden_layer_sizes],\n",
    "    'max_iter': model.max_iter,\n",
    "    'n_iter_no_change': model.n_iter_no_change,\n",
    "    'learning_rate': model.learning_rate,\n",
    "    'learning_rate_init': model.learning_rate_init,\n",
    "    'batch_size': model.batch_size,\n",
    "    'tol': model.tol,\n",
    "    'alpha': model.alpha,\n",
    "    'shuffle': model.shuffle,\n",
    "})\n",
    "test_results.to_csv('../data/test_results.csv', mode='a', index=False)"
   ]
  },
  {
   "cell_type": "markdown",
   "metadata": {},
   "source": [
    "## Predictions on latest data"
   ]
  },
  {
   "cell_type": "code",
   "execution_count": null,
   "metadata": {},
   "outputs": [],
   "source": []
  }
 ],
 "metadata": {
  "kernelspec": {
   "display_name": "base",
   "language": "python",
   "name": "python3"
  },
  "language_info": {
   "codemirror_mode": {
    "name": "ipython",
    "version": 3
   },
   "file_extension": ".py",
   "mimetype": "text/x-python",
   "name": "python",
   "nbconvert_exporter": "python",
   "pygments_lexer": "ipython3",
   "version": "3.12.2"
  }
 },
 "nbformat": 4,
 "nbformat_minor": 2
}
