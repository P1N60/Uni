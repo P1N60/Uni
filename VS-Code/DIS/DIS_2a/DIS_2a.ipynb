{
 "cells": [
  {
   "cell_type": "code",
   "execution_count": 151,
   "id": "eb1be392",
   "metadata": {},
   "outputs": [],
   "source": [
    "import psycopg2"
   ]
  },
  {
   "cell_type": "code",
   "execution_count": 152,
   "id": "90e2ffbd",
   "metadata": {},
   "outputs": [],
   "source": [
    "conn = psycopg2.connect(\n",
    "    dbname=\"dis_2a\",\n",
    "    user=\"postgres\",\n",
    "    password=\"0\",\n",
    "    host=\"localhost\",\n",
    "    port=\"5432\"\n",
    ")\n",
    "cur = conn.cursor()"
   ]
  },
  {
   "cell_type": "code",
   "execution_count": 153,
   "metadata": {},
   "outputs": [],
   "source": [
    "cur.execute(\"\"\"\n",
    "DROP TABLE IF EXISTS Product;\n",
    "CREATE table Product(maker varchar(1), model integer, type varchar(10));\n",
    "DROP TABLE IF EXISTS PC;\n",
    "CREATE table PC(model integer, speed float, ram integer, hd integer, price\n",
    "integer);\n",
    "DROP TABLE IF EXISTS Laptop;\n",
    "CREATE table Laptop(model integer, speed float, ram integer, hd integer, screen\n",
    "float, price integer);\n",
    "DROP TABLE IF EXISTS Printer;\n",
    "CREATE table Printer(model integer, color boolean, type varchar(10), price\n",
    "integer);\n",
    "start transaction;\n",
    "insert into Product values('A', 1001, 'pc');\n",
    "insert into Product values('A', 1002, 'pc');\n",
    "insert into Product values('A', 1003, 'pc');\n",
    "insert into Product values('A', 2004, 'laptop');\n",
    "insert into Product values('A', 2005, 'laptop');\n",
    "insert into Product values('A', 2006, 'laptop');\n",
    "insert into Product values('B', 1004, 'pc');\n",
    "insert into Product values('B', 1005, 'pc');\n",
    "insert into Product values('B', 1006, 'pc');\n",
    "insert into Product values('B', 2007, 'laptop');\n",
    "insert into Product values('C', 1007, 'pc');\n",
    "insert into Product values('D', 1008, 'pc');\n",
    "insert into Product values('D', 1009, 'pc');\n",
    "insert into Product values('D', 1010, 'pc');\n",
    "insert into Product values('D', 3004, 'printer');\n",
    "insert into Product values('D', 3005, 'printer');\n",
    "insert into Product values('E', 1011, 'pc');\n",
    "insert into Product values('E', 1012, 'pc');\n",
    "insert into Product values('E', 1013, 'pc');\n",
    "insert into Product values('E', 2001, 'laptop');\n",
    "insert into Product values('E', 2002, 'laptop');\n",
    "insert into Product values('E', 2003, 'laptop');\n",
    "insert into Product values('E', 3001, 'printer');\n",
    "insert into Product values('E', 3002, 'printer');\n",
    "insert into Product values('E', 3003, 'printer');\n",
    "insert into Product values('F', 2008, 'laptop');\n",
    "insert into Product values('F', 2009, 'laptop');\n",
    "insert into Product values('G', 2010, 'laptop');\n",
    "insert into Product values('H', 3006, 'printer');\n",
    "insert into Product values('H', 3007, 'printer');\n",
    "insert into PC values(1001, 2.66, 1024, 250, 2114);\n",
    "insert into PC values(1002, 2.10, 512, 250, 995);\n",
    "insert into PC values(1003, 1.42, 512, 80, 478);\n",
    "insert into PC values(1004, 2.80, 1024, 250, 649);\n",
    "insert into PC values(1005, 3.20, 512, 250, 630);\n",
    "insert into PC values(1006, 3.20, 1024, 320, 1049);\n",
    "insert into PC values(1007, 2.20, 1024, 200, 510);\n",
    "insert into PC values(1008, 2.20, 2048, 250, 770);\n",
    "insert into PC values(1009, 2.00, 1024, 250, 650);\n",
    "insert into PC values(1010, 2.80, 2048, 300, 770);\n",
    "insert into PC values(1011, 1.86, 2048, 160, 959);\n",
    "insert into PC values(1012, 2.80, 1024, 160, 649);\n",
    "insert into PC values(1013, 3.06, 512, 80, 529);\n",
    "insert into Laptop values(2001, 2.00, 2048, 240, 20.1, 3673);\n",
    "insert into Laptop values(2002, 1.73, 1024, 80, 17.0, 949);\n",
    "insert into Laptop values(2003, 1.80, 512, 60, 15.4, 549);\n",
    "insert into Laptop values(2004, 2.00, 512, 60, 13.3, 1150);\n",
    "insert into Laptop values(2005, 2.16, 1024, 120, 17.0, 2500);\n",
    "insert into Laptop values(2006, 2.00, 2048, 80, 15.4, 1700);\n",
    "insert into Laptop values(2007, 1.83, 1024, 120, 13.3, 1249);\n",
    "insert into Laptop values(2008, 1.60, 1024, 100, 15.4, 900);\n",
    "insert into Laptop values(2009, 1.60, 512, 80, 14.1, 680);\n",
    "insert into Laptop values(2010, 2.00, 2048, 160, 15.4, 2300);\n",
    "insert into Printer values(3001, 'true', 'ink-jet', 99);\n",
    "insert into Printer values(3002, 'false', 'laser', 239);\n",
    "insert into Printer values(3003, 'true', 'laser',899);\n",
    "insert into Printer values(3004, 'true', 'ink-jet', 120);\n",
    "insert into Printer values(3005, 'false', 'laser', 120);\n",
    "insert into Printer values(3006, 'true', 'ink-jet',100);\n",
    "insert into Printer values(3007, 'true', 'laser', 200);\n",
    "\"\"\")\n",
    "conn.commit()"
   ]
  },
  {
   "cell_type": "markdown",
   "metadata": {},
   "source": [
    "## a"
   ]
  },
  {
   "cell_type": "code",
   "execution_count": 154,
   "id": "962ba5de",
   "metadata": {},
   "outputs": [
    {
     "name": "stdout",
     "output_type": "stream",
     "text": [
      "['model', 'ghz', 'gb', 'price']\n",
      "(1002, 2.1, 250, 995)\n",
      "(1003, 1.42, 80, 478)\n",
      "(1004, 2.8, 250, 649)\n",
      "(1005, 3.2, 250, 630)\n",
      "(1007, 2.2, 200, 510)\n",
      "(1008, 2.2, 250, 770)\n",
      "(1009, 2.0, 250, 650)\n",
      "(1010, 2.8, 300, 770)\n",
      "(1011, 1.86, 160, 959)\n",
      "(1012, 2.8, 160, 649)\n",
      "(1013, 3.06, 80, 529)\n"
     ]
    }
   ],
   "source": [
    "cur.execute(\"\"\"\n",
    "ALTER TABLE pc RENAME COLUMN hd TO GB;\n",
    "ALTER TABLE pc RENAME COLUMN speed TO GHz;\n",
    "SELECT model, GHz, Gb, price FROM pc WHERE price < 1000;\n",
    "\"\"\")\n",
    "rows_pc = cur.fetchall()\n",
    "\n",
    "\n",
    "column_names = [desc[0] for desc in cur.description]\n",
    "print(column_names)\n",
    "\n",
    "for row in rows_pc:\n",
    "    print(row)\n",
    "\n",
    "conn.commit()\n"
   ]
  },
  {
   "cell_type": "markdown",
   "metadata": {},
   "source": [
    "## b"
   ]
  },
  {
   "cell_type": "code",
   "execution_count": 155,
   "metadata": {},
   "outputs": [
    {
     "name": "stdout",
     "output_type": "stream",
     "text": [
      "['maker']\n",
      "('H',)\n",
      "('D',)\n",
      "('E',)\n"
     ]
    }
   ],
   "source": [
    "cur.execute(\"\"\"\n",
    "SELECT DISTINCT maker FROM product INNER JOIN printer USING(model);\n",
    "\"\"\")\n",
    "rows_printer = cur.fetchall()\n",
    "\n",
    "column_names = [desc[0] for desc in cur.description]\n",
    "print(column_names)\n",
    "\n",
    "for row in rows_printer:\n",
    "    print(row)\n",
    "\n",
    "conn.commit()\n"
   ]
  },
  {
   "cell_type": "markdown",
   "metadata": {},
   "source": [
    "## c"
   ]
  },
  {
   "cell_type": "code",
   "execution_count": 156,
   "metadata": {},
   "outputs": [
    {
     "name": "stdout",
     "output_type": "stream",
     "text": [
      "['model', 'price']\n",
      "(2003, 549)\n",
      "(1012, 649)\n",
      "(2002, 949)\n",
      "(1008, 770)\n",
      "(2006, 1700)\n",
      "(1013, 529)\n",
      "(1006, 1049)\n",
      "(1005, 630)\n",
      "(2007, 1249)\n",
      "(2010, 2300)\n",
      "(1010, 770)\n",
      "(1009, 650)\n",
      "(1007, 510)\n",
      "(1002, 995)\n",
      "(1011, 959)\n",
      "(1001, 2114)\n",
      "(2005, 2500)\n",
      "(2009, 680)\n",
      "(1003, 478)\n",
      "(2008, 900)\n",
      "(2001, 3673)\n",
      "(1004, 649)\n",
      "(2004, 1150)\n"
     ]
    }
   ],
   "source": [
    "cur.execute(\"\"\"\n",
    "select model, price from product inner join pc using(model)\n",
    "UNION\n",
    "select model, price from product inner join laptop using(model)\n",
    "UNION\n",
    "select model, price from product inner join printer using(model) where maker='B';\n",
    "\"\"\")\n",
    "rows_printer = cur.fetchall()\n",
    "\n",
    "\n",
    "column_names = [desc[0] for desc in cur.description]\n",
    "print(column_names)\n",
    "\n",
    "for row in rows_printer:\n",
    "    print(row)\n",
    "\n",
    "conn.commit()"
   ]
  },
  {
   "cell_type": "markdown",
   "metadata": {},
   "source": [
    "## e"
   ]
  },
  {
   "cell_type": "code",
   "execution_count": 157,
   "metadata": {},
   "outputs": [
    {
     "name": "stdout",
     "output_type": "stream",
     "text": [
      "['maker']\n",
      "('A',)\n",
      "('A',)\n",
      "('A',)\n",
      "('A',)\n",
      "('A',)\n",
      "('A',)\n",
      "('B',)\n",
      "('B',)\n",
      "('B',)\n",
      "('B',)\n",
      "('C',)\n",
      "('D',)\n",
      "('D',)\n",
      "('D',)\n",
      "('D',)\n",
      "('D',)\n",
      "('E',)\n",
      "('E',)\n",
      "('E',)\n",
      "('E',)\n",
      "('E',)\n",
      "('E',)\n",
      "('E',)\n",
      "('E',)\n",
      "('E',)\n",
      "('F',)\n",
      "('F',)\n",
      "('G',)\n",
      "('H',)\n",
      "('H',)\n"
     ]
    }
   ],
   "source": [
    "cur.execute(\"\"\"\n",
    "SELECT maker FROM product \n",
    "\"\"\")\n",
    "rows_printer = cur.fetchall()\n",
    "\n",
    "\n",
    "column_names = [desc[0] for desc in cur.description]\n",
    "print(column_names)\n",
    "\n",
    "for row in rows_printer:\n",
    "    print(row)\n",
    "\n",
    "conn.commit()"
   ]
  },
  {
   "cell_type": "code",
   "execution_count": 158,
   "id": "01b2d3be",
   "metadata": {},
   "outputs": [],
   "source": [
    "cur.execute(\"\"\"\n",
    "DROP TABLE IF EXISTS Product;\n",
    "CREATE table Product(maker varchar(1), model integer, type varchar(10));\n",
    "DROP TABLE IF EXISTS PC;\n",
    "CREATE table PC(model integer, speed float, ram integer, hd integer, price\n",
    "integer);\n",
    "DROP TABLE IF EXISTS Laptop;\n",
    "CREATE table Laptop(model integer, speed float, ram integer, hd integer, screen\n",
    "float, price integer);\n",
    "DROP TABLE IF EXISTS Printer;\n",
    "CREATE table Printer(model integer, color boolean, type varchar(10), price\n",
    "integer);\n",
    "start transaction;\n",
    "insert into Product values('A', 1001, 'pc');\n",
    "insert into Product values('A', 1002, 'pc');\n",
    "insert into Product values('A', 1003, 'pc');\n",
    "insert into Product values('A', 2004, 'laptop');\n",
    "insert into Product values('A', 2005, 'laptop');\n",
    "insert into Product values('A', 2006, 'laptop');\n",
    "insert into Product values('B', 1004, 'pc');\n",
    "insert into Product values('B', 1005, 'pc');\n",
    "insert into Product values('B', 1006, 'pc');\n",
    "insert into Product values('B', 2007, 'laptop');\n",
    "insert into Product values('C', 1007, 'pc');\n",
    "insert into Product values('D', 1008, 'pc');\n",
    "insert into Product values('D', 1009, 'pc');\n",
    "insert into Product values('D', 1010, 'pc');\n",
    "insert into Product values('D', 3004, 'printer');\n",
    "insert into Product values('D', 3005, 'printer');\n",
    "insert into Product values('E', 1011, 'pc');\n",
    "insert into Product values('E', 1012, 'pc');\n",
    "insert into Product values('E', 1013, 'pc');\n",
    "insert into Product values('E', 2001, 'laptop');\n",
    "insert into Product values('E', 2002, 'laptop');\n",
    "insert into Product values('E', 2003, 'laptop');\n",
    "insert into Product values('E', 3001, 'printer');\n",
    "insert into Product values('E', 3002, 'printer');\n",
    "insert into Product values('E', 3003, 'printer');\n",
    "insert into Product values('F', 2008, 'laptop');\n",
    "insert into Product values('F', 2009, 'laptop');\n",
    "insert into Product values('G', 2010, 'laptop');\n",
    "insert into Product values('H', 3006, 'printer');\n",
    "insert into Product values('H', 3007, 'printer');\n",
    "insert into PC values(1001, 2.66, 1024, 250, 2114);\n",
    "insert into PC values(1002, 2.10, 512, 250, 995);\n",
    "insert into PC values(1003, 1.42, 512, 80, 478);\n",
    "insert into PC values(1004, 2.80, 1024, 250, 649);\n",
    "insert into PC values(1005, 3.20, 512, 250, 630);\n",
    "insert into PC values(1006, 3.20, 1024, 320, 1049);\n",
    "insert into PC values(1007, 2.20, 1024, 200, 510);\n",
    "insert into PC values(1008, 2.20, 2048, 250, 770);\n",
    "insert into PC values(1009, 2.00, 1024, 250, 650);\n",
    "insert into PC values(1010, 2.80, 2048, 300, 770);\n",
    "insert into PC values(1011, 1.86, 2048, 160, 959);\n",
    "insert into PC values(1012, 2.80, 1024, 160, 649);\n",
    "insert into PC values(1013, 3.06, 512, 80, 529);\n",
    "insert into Laptop values(2001, 2.00, 2048, 240, 20.1, 3673);\n",
    "insert into Laptop values(2002, 1.73, 1024, 80, 17.0, 949);\n",
    "insert into Laptop values(2003, 1.80, 512, 60, 15.4, 549);\n",
    "insert into Laptop values(2004, 2.00, 512, 60, 13.3, 1150);\n",
    "insert into Laptop values(2005, 2.16, 1024, 120, 17.0, 2500);\n",
    "insert into Laptop values(2006, 2.00, 2048, 80, 15.4, 1700);\n",
    "insert into Laptop values(2007, 1.83, 1024, 120, 13.3, 1249);\n",
    "insert into Laptop values(2008, 1.60, 1024, 100, 15.4, 900);\n",
    "insert into Laptop values(2009, 1.60, 512, 80, 14.1, 680);\n",
    "insert into Laptop values(2010, 2.00, 2048, 160, 15.4, 2300);\n",
    "insert into Printer values(3001, 'true', 'ink-jet', 99);\n",
    "insert into Printer values(3002, 'false', 'laser', 239);\n",
    "insert into Printer values(3003, 'true', 'laser',899);\n",
    "insert into Printer values(3004, 'true', 'ink-jet', 120);\n",
    "insert into Printer values(3005, 'false', 'laser', 120);\n",
    "insert into Printer values(3006, 'true', 'ink-jet',100);\n",
    "insert into Printer values(3007, 'true', 'laser', 200);\n",
    "\"\"\")\n",
    "conn.commit()"
   ]
  },
  {
   "cell_type": "markdown",
   "id": "48084683",
   "metadata": {},
   "source": [
    "### 4.a"
   ]
  },
  {
   "cell_type": "code",
   "execution_count": 159,
   "id": "fd76235b",
   "metadata": {},
   "outputs": [
    {
     "name": "stdout",
     "output_type": "stream",
     "text": [
      "['model', 'speed', 'ram', 'hd', 'price']\n",
      "(1001, 2.66, 1024, 250, 2114)\n",
      "(1002, 2.1, 512, 250, 995)\n",
      "(1003, 1.42, 512, 80, 478)\n",
      "(1004, 2.8, 1024, 250, 649)\n",
      "(1005, 3.2, 512, 250, 630)\n",
      "(1006, 3.2, 1024, 320, 1049)\n",
      "(1007, 2.2, 1024, 200, 510)\n",
      "(1008, 2.2, 2048, 250, 770)\n",
      "(1009, 2.0, 1024, 250, 650)\n",
      "(1010, 2.8, 2048, 300, 770)\n",
      "(1011, 1.86, 2048, 160, 959)\n",
      "(1012, 2.8, 1024, 160, 649)\n",
      "(1013, 3.06, 512, 80, 529)\n",
      "['maker', 'model', 'type']\n",
      "('A', 1001, 'pc')\n",
      "('A', 1002, 'pc')\n",
      "('A', 1003, 'pc')\n",
      "('A', 2004, 'laptop')\n",
      "('A', 2005, 'laptop')\n",
      "('A', 2006, 'laptop')\n",
      "('B', 1004, 'pc')\n",
      "('B', 1005, 'pc')\n",
      "('B', 1006, 'pc')\n",
      "('B', 2007, 'laptop')\n",
      "('C', 1007, 'pc')\n",
      "('D', 1008, 'pc')\n",
      "('D', 1009, 'pc')\n",
      "('D', 1010, 'pc')\n",
      "('D', 3004, 'printer')\n",
      "('D', 3005, 'printer')\n",
      "('E', 1011, 'pc')\n",
      "('E', 1012, 'pc')\n",
      "('E', 1013, 'pc')\n",
      "('E', 2001, 'laptop')\n",
      "('E', 2002, 'laptop')\n",
      "('E', 2003, 'laptop')\n",
      "('E', 3001, 'printer')\n",
      "('E', 3002, 'printer')\n",
      "('E', 3003, 'printer')\n",
      "('F', 2008, 'laptop')\n",
      "('F', 2009, 'laptop')\n",
      "('G', 2010, 'laptop')\n",
      "('H', 3006, 'printer')\n",
      "('H', 3007, 'printer')\n"
     ]
    }
   ],
   "source": [
    "# cur.execute(\"\"\"\n",
    "# INSERT INTO Product VALUES ('C', 1100, 'pc');\n",
    "# INSERT INTO PC VALUES (1100, 3.2, 1024, 180, 2499);\n",
    "# \"\"\")\n",
    "cur.execute(\"SELECT * FROM pc;\")\n",
    "rows = cur.fetchall()\n",
    "\n",
    "column_names = [desc[0] for desc in cur.description]\n",
    "print(column_names)\n",
    "\n",
    "for row in rows:\n",
    "    print(row)\n",
    "\n",
    "cur.execute(\"SELECT * FROM product;\")\n",
    "rows = cur.fetchall()\n",
    "\n",
    "column_names = [desc[0] for desc in cur.description]\n",
    "print(column_names)\n",
    "\n",
    "for row in rows:\n",
    "    print(row)\n",
    "\n",
    "conn.commit()"
   ]
  },
  {
   "cell_type": "markdown",
   "id": "980a0a76",
   "metadata": {},
   "source": [
    "### 4.b"
   ]
  },
  {
   "cell_type": "code",
   "execution_count": 160,
   "id": "7dc8c217",
   "metadata": {},
   "outputs": [
    {
     "name": "stdout",
     "output_type": "stream",
     "text": [
      "['model', 'speed', 'ram', 'hd', 'price']\n",
      "(1001, 2.66, 1024, 250, 2114)\n",
      "(1002, 2.1, 512, 250, 995)\n",
      "(1003, 1.42, 512, 80, 478)\n",
      "(1004, 2.8, 1024, 250, 649)\n",
      "(1005, 3.2, 512, 250, 630)\n",
      "(1006, 3.2, 1024, 320, 1049)\n",
      "(1007, 2.2, 1024, 200, 510)\n",
      "(1008, 2.2, 2048, 250, 770)\n",
      "(1009, 2.0, 1024, 250, 650)\n",
      "(1010, 2.8, 2048, 300, 770)\n",
      "(1011, 1.86, 2048, 160, 959)\n",
      "(1012, 2.8, 1024, 160, 649)\n",
      "(1013, 3.06, 512, 80, 529)\n"
     ]
    }
   ],
   "source": [
    "# cur.execute(\"\"\"\n",
    "# DELETE FROM PC WHERE hd < 100;\n",
    "# \"\"\")\n",
    "cur.execute(\"SELECT * FROM pc;\")\n",
    "rows = cur.fetchall()\n",
    "\n",
    "column_names = [desc[0] for desc in cur.description]\n",
    "print(column_names)\n",
    "\n",
    "for row in rows:\n",
    "    print(row)\n"
   ]
  },
  {
   "cell_type": "markdown",
   "id": "9f3073d9",
   "metadata": {},
   "source": [
    "### 4.c"
   ]
  },
  {
   "cell_type": "code",
   "execution_count": 161,
   "id": "369d6644",
   "metadata": {},
   "outputs": [
    {
     "name": "stdout",
     "output_type": "stream",
     "text": [
      "['model', 'speed', 'ram', 'hd', 'screen', 'price']\n",
      "(2001, 2.0, 2048, 240, 20.1, 3673)\n",
      "(2002, 1.73, 1024, 80, 17.0, 949)\n",
      "(2003, 1.8, 512, 60, 15.4, 549)\n",
      "(2004, 2.0, 512, 60, 13.3, 1150)\n",
      "(2005, 2.16, 1024, 120, 17.0, 2500)\n",
      "(2006, 2.0, 2048, 80, 15.4, 1700)\n",
      "(2007, 1.83, 1024, 120, 13.3, 1249)\n",
      "(2008, 1.6, 1024, 100, 15.4, 900)\n",
      "(2009, 1.6, 512, 80, 14.1, 680)\n",
      "(2010, 2.0, 2048, 160, 15.4, 2300)\n"
     ]
    }
   ],
   "source": [
    "# cur.execute(\"\"\"\n",
    "# DELETE FROM Laptop WHERE model IN (\n",
    "#     SELECT model FROM Product WHERE maker IN (\n",
    "#         SELECT DISTINCT maker FROM Product WHERE maker NOT IN (\n",
    "#             SELECT DISTINCT maker FROM Product WHERE type = 'printer'\n",
    "# )));\n",
    "# \"\"\")\n",
    "cur.execute(\"SELECT * FROM Laptop;\")\n",
    "rows = cur.fetchall()\n",
    "\n",
    "column_names = [desc[0] for desc in cur.description]\n",
    "print(column_names)\n",
    "\n",
    "for row in rows:\n",
    "    print(row)"
   ]
  },
  {
   "cell_type": "markdown",
   "id": "8b2dbd10",
   "metadata": {},
   "source": [
    "### 4.d"
   ]
  },
  {
   "cell_type": "code",
   "execution_count": 162,
   "id": "f3a2ab3e",
   "metadata": {},
   "outputs": [
    {
     "name": "stdout",
     "output_type": "stream",
     "text": [
      "['maker', 'model', 'type']\n",
      "('A', 1001, 'pc')\n",
      "('A', 1002, 'pc')\n",
      "('A', 1003, 'pc')\n",
      "('A', 2004, 'laptop')\n",
      "('A', 2005, 'laptop')\n",
      "('A', 2006, 'laptop')\n",
      "('B', 1004, 'pc')\n",
      "('B', 1005, 'pc')\n",
      "('B', 1006, 'pc')\n",
      "('B', 2007, 'laptop')\n",
      "('C', 1007, 'pc')\n",
      "('D', 1008, 'pc')\n",
      "('D', 1009, 'pc')\n",
      "('D', 1010, 'pc')\n",
      "('D', 3004, 'printer')\n",
      "('D', 3005, 'printer')\n",
      "('E', 1011, 'pc')\n",
      "('E', 1012, 'pc')\n",
      "('E', 1013, 'pc')\n",
      "('E', 2001, 'laptop')\n",
      "('E', 2002, 'laptop')\n",
      "('E', 2003, 'laptop')\n",
      "('E', 3001, 'printer')\n",
      "('E', 3002, 'printer')\n",
      "('E', 3003, 'printer')\n",
      "('F', 2008, 'laptop')\n",
      "('F', 2009, 'laptop')\n",
      "('G', 2010, 'laptop')\n",
      "('H', 3006, 'printer')\n",
      "('H', 3007, 'printer')\n"
     ]
    }
   ],
   "source": [
    "# cur.execute(\"\"\"\n",
    "# UPDATE Product\n",
    "# SET maker = 'A'\n",
    "# WHERE maker = 'B'\n",
    "# \"\"\")\n",
    "cur.execute(\"SELECT * FROM Product;\")\n",
    "rows = cur.fetchall()\n",
    "\n",
    "column_names = [desc[0] for desc in cur.description]\n",
    "print(column_names)\n",
    "\n",
    "for row in rows:\n",
    "    print(row)"
   ]
  },
  {
   "cell_type": "markdown",
   "id": "c9ac2203",
   "metadata": {},
   "source": [
    "### 4.e"
   ]
  },
  {
   "cell_type": "code",
   "execution_count": 163,
   "id": "5475415b",
   "metadata": {},
   "outputs": [
    {
     "name": "stdout",
     "output_type": "stream",
     "text": [
      "['model', 'speed', 'ram', 'hd', 'price']\n",
      "(1001, 2.66, 1024, 250, 2114)\n",
      "(1002, 2.1, 512, 250, 995)\n",
      "(1003, 1.42, 512, 80, 478)\n",
      "(1004, 2.8, 1024, 250, 649)\n",
      "(1005, 3.2, 512, 250, 630)\n",
      "(1006, 3.2, 1024, 320, 1049)\n",
      "(1007, 2.2, 1024, 200, 510)\n",
      "(1008, 2.2, 2048, 250, 770)\n",
      "(1009, 2.0, 1024, 250, 650)\n",
      "(1010, 2.8, 2048, 300, 770)\n",
      "(1011, 1.86, 2048, 160, 959)\n",
      "(1012, 2.8, 1024, 160, 649)\n",
      "(1013, 3.06, 512, 80, 529)\n"
     ]
    }
   ],
   "source": [
    "# cur.execute(\"\"\"\n",
    "# UPDATE PC\n",
    "# SET ram = ram * 2, hd = hd + 60;\n",
    "# \"\"\")\n",
    "cur.execute(\"SELECT * FROM PC;\")\n",
    "rows = cur.fetchall()\n",
    "\n",
    "column_names = [desc[0] for desc in cur.description]\n",
    "print(column_names)\n",
    "\n",
    "for row in rows:\n",
    "    print(row)"
   ]
  },
  {
   "cell_type": "markdown",
   "id": "2920e204",
   "metadata": {},
   "source": [
    "### 4.f"
   ]
  },
  {
   "cell_type": "code",
   "execution_count": 164,
   "id": "5641cf2a",
   "metadata": {},
   "outputs": [
    {
     "name": "stdout",
     "output_type": "stream",
     "text": [
      "['model', 'speed', 'ram', 'hd', 'screen', 'price']\n",
      "(2001, 2.0, 2048, 240, 20.1, 3673)\n",
      "(2002, 1.73, 1024, 80, 17.0, 949)\n",
      "(2003, 1.8, 512, 60, 15.4, 549)\n",
      "(2004, 2.0, 512, 60, 13.3, 1150)\n",
      "(2005, 2.16, 1024, 120, 17.0, 2500)\n",
      "(2006, 2.0, 2048, 80, 15.4, 1700)\n",
      "(2007, 1.83, 1024, 120, 13.3, 1249)\n",
      "(2008, 1.6, 1024, 100, 15.4, 900)\n",
      "(2009, 1.6, 512, 80, 14.1, 680)\n",
      "(2010, 2.0, 2048, 160, 15.4, 2300)\n"
     ]
    }
   ],
   "source": [
    "# cur.execute(\"\"\"\n",
    "# UPDATE Laptop \n",
    "# SET screen = screen + 1, price = price - 100\n",
    "# WHERE model IN (\n",
    "# SELECT model FROM Product WHERE maker = 'B'\n",
    "# );\n",
    "# \"\"\")\n",
    "cur.execute(\"SELECT * FROM Laptop;\")\n",
    "rows = cur.fetchall()\n",
    "\n",
    "column_names = [desc[0] for desc in cur.description]\n",
    "print(column_names)\n",
    "\n",
    "for row in rows:\n",
    "    print(row)"
   ]
  },
  {
   "cell_type": "markdown",
   "id": "1df03400",
   "metadata": {},
   "source": [
    "### 4.g"
   ]
  },
  {
   "cell_type": "code",
   "execution_count": null,
   "id": "aab683fe",
   "metadata": {},
   "outputs": [
    {
     "name": "stdout",
     "output_type": "stream",
     "text": [
      "['maker', 'model', 'type']\n"
     ]
    }
   ],
   "source": [
    "# cur.execute(\"\"\"\n",
    "# DELETE FROM Product;\n",
    "# DELETE FROM PC;\n",
    "# DELETE FROM Laptop;\n",
    "# DELETE FROM Printer;\n",
    "# \"\"\")\n",
    "cur.execute(\"SELECT * FROM Product;\")\n",
    "rows = cur.fetchall()\n",
    "\n",
    "column_names = [desc[0] for desc in cur.description]\n",
    "print(column_names)\n",
    "\n",
    "for row in rows:\n",
    "    print(row)"
   ]
  },
  {
   "cell_type": "code",
   "execution_count": null,
   "id": "26e50fb8",
   "metadata": {},
   "outputs": [],
   "source": []
  }
 ],
 "metadata": {
  "kernelspec": {
   "display_name": "base",
   "language": "python",
   "name": "python3"
  },
  "language_info": {
   "codemirror_mode": {
    "name": "ipython",
    "version": 3
   },
   "file_extension": ".py",
   "mimetype": "text/x-python",
   "name": "python",
   "nbconvert_exporter": "python",
   "pygments_lexer": "ipython3",
   "version": "3.12.2"
  }
 },
 "nbformat": 4,
 "nbformat_minor": 5
}
