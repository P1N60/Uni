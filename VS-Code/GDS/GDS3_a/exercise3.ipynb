{
  "cells": [
    {
      "cell_type": "markdown",
      "metadata": {
        "id": "qqtFyUJ1sSMD"
      },
      "source": [
        "# Exercise 3: Learning from Data\n",
        "\n",
        "In this exercise, you will train different types of regression and classification models on two datasets. You will be graded based on a combination of your code producing the expected results, your written responses to the questions and a passing leaderboard score in the final exercise."
      ]
    },
    {
      "cell_type": "markdown",
      "metadata": {
        "id": "hRhksUEwsSMH"
      },
      "source": [
        "### 3.1 Linear / Logistic Regression for digit recognition\n",
        "\n",
        "In this part you will experiment with two different types of prediction models, and qualitatively + quantitatively compare them. You will be working with the classic MNIST dataset, which we can load from `sklearn.datasets`."
      ]
    },
    {
      "cell_type": "code",
      "execution_count": 6,
      "metadata": {
        "id": "nSImOGLFsSMJ"
      },
      "outputs": [],
      "source": [
        "# Importing the dataset\n",
        "from sklearn import datasets\n",
        "digits = datasets.load_digits();"
      ]
    },
    {
      "cell_type": "markdown",
      "metadata": {
        "id": "Nn_nLW1FsSML"
      },
      "source": [
        "Here we plot the first few digits and their labels. Apparently they are in order, but our upcoming models will not rely on this."
      ]
    },
    {
      "cell_type": "code",
      "execution_count": 7,
      "metadata": {
        "id": "OW5cZj0LsSMM"
      },
      "outputs": [
        {
          "data": {
            "image/png": "[encoded data removed]",
            "text/plain": [
              "<Figure size 1500x300 with 12 Axes>"
            ]
          },
          "metadata": {},
          "output_type": "display_data"
        }
      ],
      "source": [
        "import matplotlib.pyplot as plt\n",
        "\n",
        "_, axes = plt.subplots(nrows=1, ncols=12, figsize=(15, 3))\n",
        "for ax, image, label in zip(axes, digits.images, digits.target):\n",
        "    ax.set_axis_off()\n",
        "    ax.imshow(image, cmap=plt.cm.gray_r, interpolation=\"nearest\")\n",
        "    ax.set_title(\"Label: %i\" % label)"
      ]
    },
    {
      "cell_type": "markdown",
      "metadata": {
        "id": "z-4Ru0k2sSMN"
      },
      "source": [
        "### A: Warmup Exercise\n",
        "\n",
        "Use the `train_test_split` function from `sklearn.model_selection` twice to split the data into train, validation, and test sets, with a distribution of 80%, 10%, and 10% respectively. Use `random_state=0` for reproducibility.\n",
        "Check out the documentation to figure out how to set the parameters to get the desired split."
      ]
    },
    {
      "cell_type": "code",
      "execution_count": 23,
      "metadata": {
        "id": "IIqZiqKdsSMN"
      },
      "outputs": [],
      "source": [
        "# INSERT YOUR CODE HERE. ASSIGN TO THE FOLLOWING VARIABLES, X_train, X_val, X_test, y_train, y_val, y_test\n",
        "from sklearn.model_selection import train_test_split\n",
        "\n",
        "data = digits.images.reshape((len(digits.images), -1))\n",
        "\n",
        "X_train, X_test, y_train, y_test = train_test_split(\n",
        "    data, \n",
        "    digits.target, \n",
        "    test_size=1/10, \n",
        "    shuffle=False, \n",
        "    random_state=0\n",
        ")\n",
        "\n",
        "X_train, X_val, y_train, y_val = train_test_split(\n",
        "    X_train, \n",
        "    y_train, \n",
        "    test_size=1/9, \n",
        "    shuffle=False, \n",
        "    random_state=0\n",
        ")"
      ]
    },
    {
      "cell_type": "markdown",
      "metadata": {
        "id": "dNP_N373sSMO"
      },
      "source": [
        "Now let's check out the returned training data, which is of the type `numpy.ndarray`, which you might have seen already. We want to make sure the classes are balanced, e.g. we don't have a lot more 4's than 5's.\n",
        " - How many images do we have for the train, validation, and test sets?\n",
        " - What is the distribution of the training labels? Comment on whether the classes are balanced."
      ]
    },
    {
      "cell_type": "code",
      "execution_count": 25,
      "metadata": {
        "id": "iwhPlRS4sSMP"
      },
      "outputs": [
        {
          "data": {
            "text/plain": [
              "array([[1.32097259e-311, 1.32146665e-311, 5.00000000e+000, ...,\n",
              "        0.00000000e+000, 0.00000000e+000, 0.00000000e+000],\n",
              "       [0.00000000e+000, 0.00000000e+000, 0.00000000e+000, ...,\n",
              "        1.00000000e+001, 0.00000000e+000, 0.00000000e+000],\n",
              "       [0.00000000e+000, 0.00000000e+000, 0.00000000e+000, ...,\n",
              "        1.60000000e+001, 9.00000000e+000, 0.00000000e+000],\n",
              "       ...,\n",
              "       [0.00000000e+000, 0.00000000e+000, 1.10000000e+001, ...,\n",
              "        1.20000000e+001, 0.00000000e+000, 0.00000000e+000],\n",
              "       [0.00000000e+000, 0.00000000e+000, 2.00000000e+000, ...,\n",
              "        8.00000000e+000, 0.00000000e+000, 0.00000000e+000],\n",
              "       [0.00000000e+000, 0.00000000e+000, 0.00000000e+000, ...,\n",
              "        1.60000000e+001, 7.00000000e+000, 0.00000000e+000]])"
            ]
          },
          "execution_count": 25,
          "metadata": {},
          "output_type": "execute_result"
        }
      ],
      "source": [
        "# CALCULATE AND WRITE YOUR ANSWERS HERE\n",
        "import numpy as np\n",
        "np.ndarray([X_train.shape[0], X_train.shape[1]])"
      ]
    },
    {
      "cell_type": "markdown",
      "metadata": {
        "id": "ndWjTdZHsSMP"
      },
      "source": [
        "### B: Programming Exercise\n",
        "\n",
        "Let's build a model that learns to predict the digit given the image. We'll first try our hand at linear regression. We will use the `LinearRegression` class from `sklearn.linear_model`. Again, check out the documentation on how to use it. We will use the `fit` method to train the model, and the `predict` method to make predictions on the test set.\n",
        "Afterwards, evaluate the model using functions from `sklearn.metrics` module."
      ]
    },
    {
      "cell_type": "code",
      "execution_count": null,
      "metadata": {
        "id": "im3QW3A1sSMQ"
      },
      "outputs": [
        {
          "ename": "NameError",
          "evalue": "name 'mse' is not defined",
          "output_type": "error",
          "traceback": [
            "\u001b[1;31m---------------------------------------------------------------------------\u001b[0m",
            "\u001b[1;31mNameError\u001b[0m                                 Traceback (most recent call last)",
            "Cell \u001b[1;32mIn[10], line 2\u001b[0m\n\u001b[0;32m      1\u001b[0m \u001b[38;5;66;03m# DO NOT INSERT OR CHANGE ANYTHING BELOW\u001b[39;00m\n\u001b[1;32m----> 2\u001b[0m \u001b[38;5;28mprint\u001b[39m(\u001b[38;5;124m\"\u001b[39m\u001b[38;5;124mLinearRegression MSE: \u001b[39m\u001b[38;5;124m\"\u001b[39m, \u001b[43mmse\u001b[49m)\n\u001b[0;32m      3\u001b[0m \u001b[38;5;28mprint\u001b[39m(\u001b[38;5;124m\"\u001b[39m\u001b[38;5;124mLinearRegression accuracy: \u001b[39m\u001b[38;5;124m\"\u001b[39m, acc)\n\u001b[0;32m      5\u001b[0m _, axes \u001b[38;5;241m=\u001b[39m plt\u001b[38;5;241m.\u001b[39msubplots(nrows\u001b[38;5;241m=\u001b[39m\u001b[38;5;241m1\u001b[39m, ncols\u001b[38;5;241m=\u001b[39m\u001b[38;5;241m10\u001b[39m, figsize\u001b[38;5;241m=\u001b[39m(\u001b[38;5;241m10\u001b[39m, \u001b[38;5;241m3\u001b[39m))\n",
            "\u001b[1;31mNameError\u001b[0m: name 'mse' is not defined"
          ]
        }
      ],
      "source": [
        "# DO NOT INSERT OR CHANGE ANYTHING BELOW\n",
        "print(\"LinearRegression MSE: \", mse)\n",
        "print(\"LinearRegression accuracy: \", acc)\n",
        "\n",
        "_, axes = plt.subplots(nrows=1, ncols=10, figsize=(10, 3))\n",
        "for ax, image, prediction in zip(axes, X_test, y_pred):\n",
        "    ax.set_axis_off()\n",
        "    image = image.reshape(8, 8)\n",
        "    ax.imshow(image, cmap=plt.cm.gray_r, interpolation=\"nearest\")\n",
        "    ax.set_title(\"%i\" % prediction)"
      ]
    },
    {
      "cell_type": "markdown",
      "metadata": {
        "id": "GTiMjFCXsSMR"
      },
      "source": [
        "### C: Programming Exercise\n",
        "\n",
        "Now, let's model the task differently.\n",
        "You will use the `LogisticRegression`, again included in the module `sklearn.linear_model`, and again, check out the documentation to see how to use it. Fit the model and make predictions on the test set.\n",
        "\n",
        "You are asked to produce output with the same structure as in the above programming exercise (two printouts and one image), but for a different model this time."
      ]
    },
    {
      "cell_type": "code",
      "execution_count": null,
      "metadata": {
        "id": "VSIm-m3FsSMS"
      },
      "outputs": [],
      "source": [
        "# YOUR CODE HERE\n",
        "# >"
      ]
    },
    {
      "cell_type": "markdown",
      "metadata": {
        "id": "mauemhttsSMS"
      },
      "source": [
        "### Written Questions"
      ]
    },
    {
      "cell_type": "markdown",
      "metadata": {
        "id": "P0j-wXktsSMS"
      },
      "source": [
        "1a) Describe the trends you observe in the results. Is there anything interesting or unexpected?\n",
        "\n",
        "1b) How do the results compare to the linear regression model?\n",
        "\n",
        "1c) What do you think is the reason for this?"
      ]
    },
    {
      "cell_type": "markdown",
      "metadata": {
        "id": "Tu4LjDiJsSMS"
      },
      "source": [
        "## Exercise 3.2: Determine habitability"
      ]
    },
    {
      "cell_type": "markdown",
      "metadata": {
        "id": "cLeM565QsSMS"
      },
      "source": [
        "**Prediction task**: Build a logistic model for exoplanet habitability\n",
        "\n",
        "Your team is tasked with applying data science and machine learning techniques to analyze exoplanet data from the famous NASA Exoplanet Archive (NEA). Among 372 features, your goal is to build a model that predicts whether an exoplanet is potentially habitable (1) or non-habitable (0).\n",
        "\n",
        "\n",
        "**Evaluation metric**: F1-score\n",
        "\n",
        "\n",
        "Due to the highly imbalanced nature of the data—habitable planets are much rarer than their non-habitable counterparts—the evaluation metric is the F1-score, which balance precision and recall. This helps us know whether your model is truly effective at identifying the minority (habitable) class rather than simply achieving high overall accuracy by predicting the majority class.\n",
        "\n",
        "\n",
        "\n",
        "**Feature engineering**\n",
        "\n",
        "The most minimal version of a working solution should give you around 50-60% F1.\n",
        "\n",
        "You can improve this performance substantially—achieve closer to **85-90%** F1—by feature engineering and data preprocessing:\n",
        "- **Feature selection:** Only choosing relevant features (Hint: Look out for anything temperature-related)\n",
        "- **Feature creation:** Earth Similarity Index (see below)\n",
        "- **Feature transformation:** Scaling and standardization\n",
        "- **Imputation** of NaN/unknown values\n",
        "- **Oversampling** to increase the minority class\n",
        "\n",
        "Consider conducting exploratory data analysis (EDA) to gain useful insight about the dataset and leveraging a [Pipeline](https://scikit-learn.org/stable/modules/generated/sklearn.pipeline.Pipeline.html) to streamline your steps. For more information see the description on the [Kaggle page](https://www.kaggle.com/competitions/gds-exercise-3-2025-).\n",
        "\n",
        "\n",
        "Good luck, and we look forward to seeing your solutions!\n",
        "\n"
      ]
    },
    {
      "cell_type": "markdown",
      "metadata": {
        "id": "Gp2_4LgqsSMT"
      },
      "source": [
        "### D: Programming Exercise\n",
        "\n",
        "1. Create an account on Kaggle to join the Kaggle competition: [GDS Exercise 3 – 2025](https://www.kaggle.com/competitions/gds-exercise-3-2025-). You can either use your real name, or tell us your Kaggle username, so we can grade you.\n",
        "2. Download the [training and test data](https://www.kaggle.com/competitions/gds-exercise-3-2025-/data). Check out the Dataset Description for more information about the data and your task.\n",
        "2. Load the training data file `train.npz` and split it into `train`, `val`, and `test` splits.\n",
        "3. Use a linear or logistic regression model to fit the `train` split. Use the `val` split for model selection and hyperparameter optimization, while reserving the `test` split for evaluation exclusively. (You should measure performance using f1-score)."
      ]
    },
    {
      "cell_type": "code",
      "execution_count": null,
      "metadata": {
        "id": "3wHn00kesSMT"
      },
      "outputs": [],
      "source": [
        "# YOUR CODE HERE\n",
        "# >"
      ]
    },
    {
      "cell_type": "markdown",
      "metadata": {
        "id": "G3rbN5nGHkdq"
      },
      "source": [
        "### E: Calculate the [Earth Similarity Index](https://en.wikipedia.org/wiki/Earth_Similarity_Index?wprov=sfla1) (Optional)\n",
        "Evidently, astronomers have observed Earth to be a very habitable planet (1) with their telescopes. As such, we make the remark that planets with properties similar to Earth tend to make excellent candidates for planet habitability.\n",
        "\n",
        "\n",
        "Earth Similarity Index (ESI) is a metric defined as:\n",
        "\n",
        "$$\n",
        "\\text{ESI} = \\prod_{i=1}^n \\left(1 - \\left| \\frac{x_i - x_{i,\\oplus}}{x_i + x_{i,\\oplus}} \\right| \\right)^\\frac{w_i}{n}\n",
        "$$\n",
        "\n",
        "where  \n",
        "$ x_i $ and $ x_{i,\\oplus} $ are features of the extraterrestrial body and of Earth respectively,  \n",
        "$ w_i $ is the weighted exponent of each feature, and  \n",
        "$ n $ is the total number of features.\n",
        "\n",
        "The weight assigned to each feature,\n",
        "$w_i$, are free parameters that can be chosen to emphasize certain characteristics over others, e.g. surface temperature is often given a much higher weight because maintaining liquid water is crucial.\n",
        "\n",
        "1. For each selected feature, determine $w_i$. You may default these to 1 (equal weight) or draw on domain knowledge.\n",
        "\n",
        "2. Compute the `ESI` for each exoplanet in `X_train` and `X_test`. Check whether your results approximately match those in `exampleESI.csv`\n",
        "\n",
        "3. When confident in you calculations, add `ESI` as a new column in both sets.\n",
        "\n",
        "4. Retrain your logistic model with your new `ESI` feature included."
      ]
    },
    {
      "cell_type": "code",
      "execution_count": null,
      "metadata": {
        "id": "CJUPXc_ElH91"
      },
      "outputs": [],
      "source": [
        "# YOUR CODE HERE\n",
        "# >"
      ]
    },
    {
      "cell_type": "markdown",
      "metadata": {
        "id": "E4zr0P2OsSMT"
      },
      "source": [
        "### F: Unlabelled data evaluation\n",
        "\n",
        "After downloading the unlabeled [test.npz](https://www.kaggle.com/competitions/gds-exercise-3-2025-/data), you will make predictions in `y_pred` for all of the unlabeled exoplanets in `X_test`. You can submit your best predictions to Kaggle three times/day.\n",
        "\n",
        "This programming exercise is considered **passed** if you achieve  $\\text{F1-Score} \\ge 0.80$ on the [leaderboard](https://www.kaggle.com/competitions/gds-exercise-3-2025-/leaderboard) using only a logistic model."
      ]
    },
    {
      "cell_type": "code",
      "execution_count": null,
      "metadata": {
        "id": "Cc5Qh5-csSMU"
      },
      "outputs": [
        {
          "ename": "NameError",
          "evalue": "name 'pd' is not defined",
          "output_type": "error",
          "traceback": [
            "\u001b[1;31m---------------------------------------------------------------------------\u001b[0m",
            "\u001b[1;31mNameError\u001b[0m                                 Traceback (most recent call last)",
            "Cell \u001b[1;32mIn[31], line 4\u001b[0m\n\u001b[0;32m      1\u001b[0m \u001b[38;5;66;03m# LOAD THE TEST SET AND MAKE PREDICTIONS. ASSIGN THE PREDICTIONS TO THE VARIABLE y_pred.\u001b[39;00m\n\u001b[0;32m      2\u001b[0m \u001b[38;5;66;03m# >\u001b[39;00m\n\u001b[1;32m----> 4\u001b[0m sample \u001b[38;5;241m=\u001b[39m \u001b[43mpd\u001b[49m\u001b[38;5;241m.\u001b[39mread_csv(\u001b[38;5;124m'\u001b[39m\u001b[38;5;124msample_submission.csv\u001b[39m\u001b[38;5;124m'\u001b[39m) \u001b[38;5;66;03m# Load `sample_submission.csv` to validate original indices\u001b[39;00m\n\u001b[0;32m      5\u001b[0m sample[\u001b[38;5;124m'\u001b[39m\u001b[38;5;124mP_HABITABLE\u001b[39m\u001b[38;5;124m'\u001b[39m] \u001b[38;5;241m=\u001b[39m y_pred  \u001b[38;5;66;03m# assuming y_pred contains your predictions\u001b[39;00m\n\u001b[0;32m      6\u001b[0m sample\u001b[38;5;241m.\u001b[39mto_csv(\u001b[38;5;124m'\u001b[39m\u001b[38;5;124msubmission.csv\u001b[39m\u001b[38;5;124m'\u001b[39m, index\u001b[38;5;241m=\u001b[39m\u001b[38;5;28;01mFalse\u001b[39;00m)\n",
            "\u001b[1;31mNameError\u001b[0m: name 'pd' is not defined"
          ]
        }
      ],
      "source": [
        "# LOAD THE TEST SET AND MAKE PREDICTIONS. ASSIGN THE PREDICTIONS TO THE VARIABLE y_pred.\n",
        "# >\n",
        "\n",
        "sample = pd.read_csv('sample_submission.csv') # Load `sample_submission.csv` to validate original indices\n",
        "sample['P_HABITABLE'] = y_pred  # assuming y_pred contains your predictions\n",
        "sample.to_csv('submission.csv', index=False)\n",
        "\n",
        "# NOW YOU CAN UPLOAD THE submission.csv FILE TO KAGGLE AND SEE YOUR ACCURACY"
      ]
    },
    {
      "cell_type": "markdown",
      "metadata": {
        "id": "XEavo41NsSMU"
      },
      "source": [
        "### Written Questions\n",
        "\n",
        "2a) Explain the different techniques and their purpose in your code for Programming Exercise D.\n",
        "\n",
        "2b) Which techniques were not useful in improving performance on this task?\n",
        "\n",
        "2c) Optional: Consider the exoplanet `Kepler-438 b` with `ESI=0.832838` and `P_HABITABLE=0`.\n",
        "Despite its high ESI, this planet gets violently nuked by its own sun every three Earth months. Discuss how a loss of granularity when designing a composite index, like the ESI, can result in masking outlier behavior.  "
      ]
    }
  ],
  "metadata": {
    "colab": {
      "provenance": []
    },
    "kernelspec": {
      "display_name": "base",
      "language": "python",
      "name": "python3"
    },
    "language_info": {
      "codemirror_mode": {
        "name": "ipython",
        "version": 3
      },
      "file_extension": ".py",
      "mimetype": "text/x-python",
      "name": "python",
      "nbconvert_exporter": "python",
      "pygments_lexer": "ipython3",
      "version": "3.12.3"
    }
  },
  "nbformat": 4,
  "nbformat_minor": 0
}
