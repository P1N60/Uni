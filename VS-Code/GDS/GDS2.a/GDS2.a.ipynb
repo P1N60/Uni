{
 "cells": [
  {
   "cell_type": "markdown",
   "metadata": {},
   "source": [
    "# Web Scraping for Fake News Detection"
   ]
  },
  {
   "cell_type": "markdown",
   "metadata": {},
   "source": [
    "### In this assignment, you'll gain hands-on experience in web scraping, a crucial skill in data science, especially when structured datasets are not readily available. Specifically, you'll focus on extracting information from news websites, a vital step in creating a dataset for training a fake news detection model. In terms of the Data Science Pipeline, you will mainly focusing on acquiring raw data, processing data, cleaning and explorative data analysis, and structured representation and storage of data."
   ]
  },
  {
   "cell_type": "markdown",
   "metadata": {},
   "source": [
    "# Submission Requirements"
   ]
  },
  {
   "cell_type": "markdown",
   "metadata": {},
   "source": [
    "### Jupyter Notebook (.ipynb file) implementing the assignment. "
   ]
  },
  {
   "cell_type": "markdown",
   "metadata": {},
   "source": [
    "### PDF printout of the executed Jupyter Notebook displaying the results."
   ]
  },
  {
   "cell_type": "markdown",
   "metadata": {},
   "source": [
    "# Part 1: Analyze the Fake News Dataset"
   ]
  },
  {
   "cell_type": "markdown",
   "metadata": {},
   "source": [
    "## 1. Import Dataset: "
   ]
  },
  {
   "cell_type": "markdown",
   "metadata": {},
   "source": [
    "### Import the cleaned dataset from last assignment"
   ]
  },
  {
   "cell_type": "code",
   "execution_count": 87,
   "metadata": {},
   "outputs": [],
   "source": [
    "import pandas as pd\n",
    "\n",
    "df = pd.read_csv('cleaned_news_sample.csv')"
   ]
  },
  {
   "cell_type": "markdown",
   "metadata": {},
   "source": [
    "## 2. Dataset Analysis:"
   ]
  },
  {
   "cell_type": "markdown",
   "metadata": {},
   "source": [
    "### Determine which article types should be omitted, if any."
   ]
  },
  {
   "cell_type": "code",
   "execution_count": 88,
   "metadata": {},
   "outputs": [
    {
     "data": {
      "application/vnd.microsoft.datawrangler.viewer.v0+json": {
       "columns": [
        {
         "name": "index",
         "rawType": "int64",
         "type": "integer"
        },
        {
         "name": "types",
         "rawType": "object",
         "type": "unknown"
        }
       ],
       "conversionMethod": "pd.DataFrame",
       "ref": "2c096292-72b6-4a10-818a-270a4a763e5b",
       "rows": [
        [
         "0",
         "unreliable"
        ],
        [
         "1",
         "fake"
        ],
        [
         "2",
         "clickbait"
        ],
        [
         "3",
         "conspiracy"
        ],
        [
         "4",
         "reliable"
        ],
        [
         "5",
         "bias"
        ],
        [
         "6",
         "hate"
        ],
        [
         "7",
         "junksci"
        ],
        [
         "8",
         "political"
        ],
        [
         "9",
         null
        ],
        [
         "10",
         "unknown"
        ]
       ],
       "shape": {
        "columns": 1,
        "rows": 11
       }
      },
      "text/html": [
       "<div>\n",
       "<style scoped>\n",
       "    .dataframe tbody tr th:only-of-type {\n",
       "        vertical-align: middle;\n",
       "    }\n",
       "\n",
       "    .dataframe tbody tr th {\n",
       "        vertical-align: top;\n",
       "    }\n",
       "\n",
       "    .dataframe thead th {\n",
       "        text-align: right;\n",
       "    }\n",
       "</style>\n",
       "<table border=\"1\" class=\"dataframe\">\n",
       "  <thead>\n",
       "    <tr style=\"text-align: right;\">\n",
       "      <th></th>\n",
       "      <th>types</th>\n",
       "    </tr>\n",
       "  </thead>\n",
       "  <tbody>\n",
       "    <tr>\n",
       "      <th>0</th>\n",
       "      <td>unreliable</td>\n",
       "    </tr>\n",
       "    <tr>\n",
       "      <th>1</th>\n",
       "      <td>fake</td>\n",
       "    </tr>\n",
       "    <tr>\n",
       "      <th>2</th>\n",
       "      <td>clickbait</td>\n",
       "    </tr>\n",
       "    <tr>\n",
       "      <th>3</th>\n",
       "      <td>conspiracy</td>\n",
       "    </tr>\n",
       "    <tr>\n",
       "      <th>4</th>\n",
       "      <td>reliable</td>\n",
       "    </tr>\n",
       "    <tr>\n",
       "      <th>5</th>\n",
       "      <td>bias</td>\n",
       "    </tr>\n",
       "    <tr>\n",
       "      <th>6</th>\n",
       "      <td>hate</td>\n",
       "    </tr>\n",
       "    <tr>\n",
       "      <th>7</th>\n",
       "      <td>junksci</td>\n",
       "    </tr>\n",
       "    <tr>\n",
       "      <th>8</th>\n",
       "      <td>political</td>\n",
       "    </tr>\n",
       "    <tr>\n",
       "      <th>9</th>\n",
       "      <td>NaN</td>\n",
       "    </tr>\n",
       "    <tr>\n",
       "      <th>10</th>\n",
       "      <td>unknown</td>\n",
       "    </tr>\n",
       "  </tbody>\n",
       "</table>\n",
       "</div>"
      ],
      "text/plain": [
       "         types\n",
       "0   unreliable\n",
       "1         fake\n",
       "2    clickbait\n",
       "3   conspiracy\n",
       "4     reliable\n",
       "5         bias\n",
       "6         hate\n",
       "7      junksci\n",
       "8    political\n",
       "9          NaN\n",
       "10     unknown"
      ]
     },
     "execution_count": 88,
     "metadata": {},
     "output_type": "execute_result"
    }
   ],
   "source": [
    "unique_types = df['type'].unique()\n",
    "pd.DataFrame(unique_types, columns=['types']).head(11)"
   ]
  },
  {
   "cell_type": "markdown",
   "metadata": {},
   "source": [
    "Jeg vælger alle bort set fra NaN og unknown"
   ]
  },
  {
   "cell_type": "code",
   "execution_count": 89,
   "metadata": {},
   "outputs": [
    {
     "data": {
      "application/vnd.microsoft.datawrangler.viewer.v0+json": {
       "columns": [
        {
         "name": "index",
         "rawType": "int64",
         "type": "integer"
        },
        {
         "name": "0",
         "rawType": "object",
         "type": "string"
        }
       ],
       "conversionMethod": "pd.DataFrame",
       "ref": "ddaad42b-40d7-47cf-8de2-4b2c6e5601ee",
       "rows": [
        [
         "0",
         "unreliable"
        ],
        [
         "1",
         "fake"
        ],
        [
         "2",
         "clickbait"
        ],
        [
         "3",
         "conspiracy"
        ],
        [
         "4",
         "reliable"
        ],
        [
         "5",
         "bias"
        ],
        [
         "6",
         "hate"
        ],
        [
         "7",
         "junksci"
        ],
        [
         "8",
         "political"
        ]
       ],
       "shape": {
        "columns": 1,
        "rows": 9
       }
      },
      "text/html": [
       "<div>\n",
       "<style scoped>\n",
       "    .dataframe tbody tr th:only-of-type {\n",
       "        vertical-align: middle;\n",
       "    }\n",
       "\n",
       "    .dataframe tbody tr th {\n",
       "        vertical-align: top;\n",
       "    }\n",
       "\n",
       "    .dataframe thead th {\n",
       "        text-align: right;\n",
       "    }\n",
       "</style>\n",
       "<table border=\"1\" class=\"dataframe\">\n",
       "  <thead>\n",
       "    <tr style=\"text-align: right;\">\n",
       "      <th></th>\n",
       "      <th>0</th>\n",
       "    </tr>\n",
       "  </thead>\n",
       "  <tbody>\n",
       "    <tr>\n",
       "      <th>0</th>\n",
       "      <td>unreliable</td>\n",
       "    </tr>\n",
       "    <tr>\n",
       "      <th>1</th>\n",
       "      <td>fake</td>\n",
       "    </tr>\n",
       "    <tr>\n",
       "      <th>2</th>\n",
       "      <td>clickbait</td>\n",
       "    </tr>\n",
       "    <tr>\n",
       "      <th>3</th>\n",
       "      <td>conspiracy</td>\n",
       "    </tr>\n",
       "    <tr>\n",
       "      <th>4</th>\n",
       "      <td>reliable</td>\n",
       "    </tr>\n",
       "    <tr>\n",
       "      <th>5</th>\n",
       "      <td>bias</td>\n",
       "    </tr>\n",
       "    <tr>\n",
       "      <th>6</th>\n",
       "      <td>hate</td>\n",
       "    </tr>\n",
       "    <tr>\n",
       "      <th>7</th>\n",
       "      <td>junksci</td>\n",
       "    </tr>\n",
       "    <tr>\n",
       "      <th>8</th>\n",
       "      <td>political</td>\n",
       "    </tr>\n",
       "  </tbody>\n",
       "</table>\n",
       "</div>"
      ],
      "text/plain": [
       "            0\n",
       "0  unreliable\n",
       "1        fake\n",
       "2   clickbait\n",
       "3  conspiracy\n",
       "4    reliable\n",
       "5        bias\n",
       "6        hate\n",
       "7     junksci\n",
       "8   political"
      ]
     },
     "execution_count": 89,
     "metadata": {},
     "output_type": "execute_result"
    }
   ],
   "source": [
    "wanted_types = ['unreliable', 'fake', 'clickbait', 'conspiracy', 'reliable', 'bias', 'hate', 'junksci', 'political']\n",
    "df['type'] = df['type'].apply(lambda x: x if x in wanted_types else None)\n",
    "df = df.dropna(subset=['type'])\n",
    "unique_types = df['type'].unique()\n",
    "pd.DataFrame(unique_types).head(9)"
   ]
  },
  {
   "cell_type": "markdown",
   "metadata": {},
   "source": [
    "### Group the remaining types into 'fake' and 'reliable'. Argue for your choice."
   ]
  },
  {
   "cell_type": "markdown",
   "metadata": {},
   "source": [
    "Arugmenter..."
   ]
  },
  {
   "cell_type": "code",
   "execution_count": 90,
   "metadata": {},
   "outputs": [],
   "source": [
    "reliable_types = ['clickbait', 'reliable', 'political']\n",
    "fake_types = ['unreliable', 'fake', 'conspiracy', 'bias', 'hate', 'junksci']\n",
    "\n",
    "for type in reliable_types:\n",
    "    df['type'] = df['type'].replace(type, 'reliable')\n",
    "\n",
    "for type in fake_types:\n",
    "    df['type'] = df['type'].replace(type, 'fake')"
   ]
  },
  {
   "cell_type": "markdown",
   "metadata": {},
   "source": [
    "### Examine the percentage distribution of 'reliable' vs. 'fake' articles. Is the dataset balanced? Discuss the importance of a balanced distribution."
   ]
  },
  {
   "cell_type": "code",
   "execution_count": 91,
   "metadata": {},
   "outputs": [
    {
     "name": "stdout",
     "output_type": "stream",
     "text": [
      "Reliable amount: 27\n",
      "Fake amount: 205\n",
      "Reliable percentage: 11.64%\n"
     ]
    }
   ],
   "source": [
    "reliable_amount = 0\n",
    "fake_amount = 0\n",
    "for type in df['type']:\n",
    "    if type == 'reliable':\n",
    "        reliable_amount += 1\n",
    "    else:\n",
    "        fake_amount += 1\n",
    "\n",
    "print(f'Reliable amount: {reliable_amount}')\n",
    "print(f'Fake amount: {fake_amount}')\n",
    "print(f'Reliable percentage: {reliable_amount / len(df['type']) * 100:.2f}%')"
   ]
  },
  {
   "cell_type": "markdown",
   "metadata": {},
   "source": [
    "# Part 2: Gathering Links"
   ]
  },
  {
   "cell_type": "markdown",
   "metadata": {},
   "source": [
    "### In this part of the exercise you will write code to extract a collection of article links."
   ]
  },
  {
   "cell_type": "markdown",
   "metadata": {},
   "source": [
    "## 1. Library Installation:"
   ]
  },
  {
   "cell_type": "markdown",
   "metadata": {},
   "source": [
    "### Install selenium (pip install selenium). Create a new Jupyter Notebook and import this module:"
   ]
  },
  {
   "cell_type": "code",
   "execution_count": 106,
   "metadata": {},
   "outputs": [],
   "source": [
    "from selenium import webdriver\n",
    "from selenium.webdriver.firefox.options import Options\n",
    "from selenium.webdriver.common.by import By\n",
    "from selenium.webdriver.support.ui import WebDriverWait\n",
    "from selenium.webdriver.support import expected_conditions as EC\n",
    "from bs4 import BeautifulSoup\n",
    "import requests"
   ]
  },
  {
   "cell_type": "markdown",
   "metadata": {},
   "source": [
    "### verify that contents holds the HTML source of the webpage:"
   ]
  },
  {
   "cell_type": "code",
   "execution_count": 93,
   "metadata": {},
   "outputs": [],
   "source": [
    "firefox_options = Options()\n",
    "firefox_options.add_argument('--headless')\n",
    "firefox_options.add_argument('--disable-gpu')\n",
    "firefox_options.add_argument('--no-sandbox')\n",
    "firefox_options.add_argument('--disable-dev-shm-usage')"
   ]
  },
  {
   "cell_type": "code",
   "execution_count": 94,
   "metadata": {},
   "outputs": [],
   "source": [
    "browser = webdriver.Firefox(options=firefox_options)\n",
    "browser.get('https://www.bbc.com/news/world/europe')"
   ]
  },
  {
   "cell_type": "markdown",
   "metadata": {},
   "source": [
    "## 2. Retrieve HTML Content: "
   ]
  },
  {
   "cell_type": "markdown",
   "metadata": {},
   "source": [
    "### Use the following example code to fetch the HTML content of a webpage and verify that contents holds the HTML source of the webpage:"
   ]
  },
  {
   "cell_type": "code",
   "execution_count": 95,
   "metadata": {},
   "outputs": [],
   "source": [
    "response = requests.get('https://www.bbc.com/news/world/europe')\n",
    "contents = response.text"
   ]
  },
  {
   "cell_type": "markdown",
   "metadata": {},
   "source": [
    "## 3. Extract Articles:"
   ]
  },
  {
   "cell_type": "markdown",
   "metadata": {},
   "source": [
    "### Selenium allows us to extract information easily. You can read the documentation here. Write a function to extract all articles from the page using the find_elements method. For each article, retrieve the headline, the summary, and the link to the article (href). (Hint: You might have to inspect the page for classes, ids, etc. that might be useful for extracting the information)"
   ]
  },
  {
   "cell_type": "markdown",
   "metadata": {},
   "source": [
    "## 4. Scrape Multiple Pages:"
   ]
  },
  {
   "cell_type": "markdown",
   "metadata": {},
   "source": [
    "### Identify the number of pages available for the 'Europe' section (Hint: See buttons at the bottom of the page). Write a function that extracts all article links from all these pages (Hint: Click on button using .click(). You may also have to add a delay for the page to load using time.wait(n_seconds))"
   ]
  },
  {
   "cell_type": "code",
   "execution_count": 96,
   "metadata": {},
   "outputs": [
    {
     "name": "stdout",
     "output_type": "stream",
     "text": [
      "URL amount: 24\n"
     ]
    },
    {
     "data": {
      "text/plain": [
       "['https://www.bbc.com/news/articles/cpq222rqv4po',\n",
       " 'https://www.bbc.com/news/articles/cg4kkv3e1v9o',\n",
       " 'https://www.bbc.com/news/articles/cn7vg0nvzkko',\n",
       " 'https://www.bbc.com/news/articles/c70eky7l6pxo',\n",
       " 'https://www.bbc.com/news/articles/cdrxy1zp8mxo',\n",
       " 'https://www.bbc.com/news/articles/cg4kkv3e1v9o',\n",
       " 'https://www.bbc.com/news/articles/c17qe11wy52o',\n",
       " 'https://www.bbc.com/news/articles/cx2rreg04dpo',\n",
       " 'https://www.bbc.com/news/articles/cn7vg0nvzkko',\n",
       " 'https://www.bbc.com/news/articles/clyrkkv4gd7o',\n",
       " 'https://www.bbc.com/news/articles/cvgd9v3r69qo',\n",
       " 'https://www.bbc.com/news/articles/cvg592557vgo',\n",
       " 'https://www.bbc.com/news/articles/c7435pnle0go',\n",
       " 'https://www.bbc.com/news/articles/cx29pnzy1l7o',\n",
       " 'https://www.bbc.com/news/articles/c0l1w1w41xzo',\n",
       " 'https://www.bbc.com/news/articles/cy9dl4drr8lo',\n",
       " 'https://www.bbc.com/news/articles/cpq222rqv4po',\n",
       " 'https://www.bbc.com/news/articles/c23444ddzjyo',\n",
       " 'https://www.bbc.com/news/articles/c0l11gr35gwo',\n",
       " 'https://www.bbc.com/news/articles/c17qe11wy52o',\n",
       " 'https://www.bbc.com/news/articles/c9de53y43lvo',\n",
       " 'https://www.bbc.com/news/articles/cdrxy1zp8mxo',\n",
       " 'https://www.bbc.com/news/articles/cwygwzd4wggo',\n",
       " 'https://www.bbc.com/news/articles/c70eky7l6pxo']"
      ]
     },
     "execution_count": 96,
     "metadata": {},
     "output_type": "execute_result"
    }
   ],
   "source": [
    "def url_finder():\n",
    "    urls = [url.get_attribute('href') for url in browser.find_elements(By.CLASS_NAME, 'sc-2e6baa30-0')  ]\n",
    "    urls = [url for url in urls if url.find('news/articles') != -1]\n",
    "    return urls\n",
    "\n",
    "print(f'URL amount: {len(url_finder())}')\n",
    "url_finder()"
   ]
  },
  {
   "cell_type": "code",
   "execution_count": 97,
   "metadata": {},
   "outputs": [
    {
     "name": "stdout",
     "output_type": "stream",
     "text": [
      "Headlines amount: 24\n"
     ]
    },
    {
     "data": {
      "text/plain": [
       "['Tate brothers allowed to leave Romania for US',\n",
       " 'Why are the Tate brothers heading to the US?',\n",
       " 'Zelensky to meet Trump in Washington to sign minerals deal',\n",
       " 'Romanian far-right presidential hopeful detained on street and indicted',\n",
       " 'Bosnian-Serb leader sentenced to jail in landmark trial',\n",
       " 'Why are the Tate brothers heading to the US?',\n",
       " 'Leaked recordings challenge Greek account of deadly shipwreck',\n",
       " \"North Korea has sent more troops to Russia, South's spy agency says\",\n",
       " 'Zelensky to meet Trump in Washington to sign minerals deal',\n",
       " 'Starmer cuts aid to fund increase in defence spending',\n",
       " 'Tesla shares slump after European sales fall',\n",
       " \"Macron walks tightrope with Trump as he makes Europe's case on Ukraine\",\n",
       " 'US sides with Russia in UN resolutions on Ukraine ',\n",
       " \"Spanish city 'adopts' migrants who intervened in homophobic attack\",\n",
       " 'Can Europe still count on the US coming to its defence?',\n",
       " 'German politics froze out the far right for years – is this about to change?',\n",
       " 'Tate brothers allowed to leave Romania for US',\n",
       " 'Search for missing six-year-old continues',\n",
       " \"'In a scary world, he gives us hope': Faithful gather to support the Pope\",\n",
       " 'Leaked recordings challenge Greek account of deadly shipwreck',\n",
       " 'New search for missing six-year-old Kyran Durnin',\n",
       " 'Bosnian-Serb leader sentenced to jail in landmark trial',\n",
       " 'British man dies and one injured while climbing in Norway',\n",
       " 'Romanian far-right presidential hopeful detained on street and indicted']"
      ]
     },
     "execution_count": 97,
     "metadata": {},
     "output_type": "execute_result"
    }
   ],
   "source": [
    "def headline_finder(link):\n",
    "    response = requests.get(link)\n",
    "    headline = BeautifulSoup(response.content, 'html.parser').find('h1').text\n",
    "    return headline\n",
    "\n",
    "headlines = [headline_finder(url) for url in url_finder()]\n",
    "\n",
    "print(f'Headlines amount: {len(headlines)}')\n",
    "headlines"
   ]
  },
  {
   "cell_type": "code",
   "execution_count": 98,
   "metadata": {},
   "outputs": [
    {
     "name": "stdout",
     "output_type": "stream",
     "text": [
      "Summary amount: 24\n"
     ]
    },
    {
     "data": {
      "text/plain": [
       "['British-American influencers Andrew and Tristan Tate - who are facing trial in Romania on charges of rape, trafficking minors and money laundering - have left the country after prosecutors lifted a two-year travel ban.',\n",
       " 'Controversial influencer Andrew Tate and his brother Tristan are travelling to the US after leaving Romania, where they face charges of rape, trafficking minors and money laundering, all of which they deny.',\n",
       " \"Ukrainian President Volodymyr Zelensky will meet US President Donald Trump in Washington on Friday to sign an agreement on sharing his country's mineral resources, Trump has said. \",\n",
       " \"Far-right populist Calin Georgescu, who came from nowhere to win the first round of last year's presidential election, has been detained by police and is facing criminal proceedings on a series of charges.\",\n",
       " 'A one-year prison sentence and a six-year ban on holding public office might seem like a heavy penalty for a politician. ',\n",
       " 'Controversial influencer Andrew Tate and his brother Tristan are travelling to the US after leaving Romania, where they face charges of rape, trafficking minors and money laundering, all of which they deny.',\n",
       " \"Leaked audio instructions by Greek rescue co-ordinators have cast further doubt on Greece's official version of events in the hours before a migrant boat sank along with up to 650 people onboard.\",\n",
       " \"North Korea has sent more soldiers to Russia and re-deployed others to the frontline in the western Kursk region, according to South Korea's intelligence agency. \",\n",
       " \"Ukrainian President Volodymyr Zelensky will meet US President Donald Trump in Washington on Friday to sign an agreement on sharing his country's mineral resources, Trump has said. \",\n",
       " 'Sir Keir Starmer has set out plans to increase defence spending to 2.5% of national income by 2027.',\n",
       " 'Shares in electric car maker Tesla have slumped more than 9% after EU and UK sales fell by almost half in January.',\n",
       " 'Relations between Europe and the US are unquestionably in crisis, so merely keeping things together as French President Emmanuel Macron did at the White House on Monday stands as an achievement.',\n",
       " \"The US has twice sided with Russia in votes at the United Nations to mark the third anniversary of the Russian invasion of Ukraine, highlighting the Trump administration's change of stance on the war.\",\n",
       " 'A Spanish city has honoured two Senegalese migrants for their heroism in trying to save a gay man beaten to death by a homophobic mob.',\n",
       " \"European leaders have been left stunned by the open rapprochement between US President Donald Trump and Russia's Vladimir Putin - and not-so-subtle hints that the US may abandon its obligation to defend European allies.\",\n",
       " 'One in five German voters put an X in the box for Alternative for Germany (AfD) on Sunday: a record result that has made them the second biggest force in German politics.',\n",
       " 'British-American influencers Andrew and Tristan Tate - who are facing trial in Romania on charges of rape, trafficking minors and money laundering - have left the country after prosecutors lifted a two-year travel ban.',\n",
       " 'A search at a house in Drogheda, County Louth, as part of the investigation into the murder of a six-year-old boy who disappeared more than two years ago, has entered a second day.',\n",
       " \"Catholics gathered to pray for the health of the Pope beneath the steps of St Peter's Basilica for a third night, as his doctors said his condition showed further slight improvement.\",\n",
       " \"Leaked audio instructions by Greek rescue co-ordinators have cast further doubt on Greece's official version of events in the hours before a migrant boat sank along with up to 650 people onboard.\",\n",
       " 'A house in Drogheda, County Louth, is being searched as part of the investigation into the murder of a six-year-old boy who disappeared more than two years ago.',\n",
       " 'A one-year prison sentence and a six-year ban on holding public office might seem like a heavy penalty for a politician. ',\n",
       " 'A British man has died and another was left injured while climbing in Norway.',\n",
       " \"Far-right populist Calin Georgescu, who came from nowhere to win the first round of last year's presidential election, has been detained by police and is facing criminal proceedings on a series of charges.\"]"
      ]
     },
     "execution_count": 98,
     "metadata": {},
     "output_type": "execute_result"
    }
   ],
   "source": [
    "def summary_finder(link):\n",
    "    response = requests.get(link)\n",
    "    headline = BeautifulSoup(response.content, 'html.parser').find('p').text\n",
    "    return headline\n",
    "\n",
    "summaries = [summary_finder(url) for url in url_finder()]\n",
    "\n",
    "print(f'Summary amount: {len(summaries)}')\n",
    "summaries"
   ]
  },
  {
   "cell_type": "markdown",
   "metadata": {},
   "source": [
    "## 5. Expand the Scope:"
   ]
  },
  {
   "cell_type": "markdown",
   "metadata": {},
   "source": [
    "### Extend your scraping to include articles from other regions: US & Canada, UK, Australia, Asia, Africa, Latin America, and the Middle East. If done correctly, you should get around 800 article links."
   ]
  },
  {
   "cell_type": "markdown",
   "metadata": {},
   "source": [
    "## 6. Save Your Results: "
   ]
  },
  {
   "cell_type": "markdown",
   "metadata": {},
   "source": [
    "### Store the collected links in a file (CSV, JSON, or TXT format)."
   ]
  },
  {
   "cell_type": "code",
   "execution_count": 99,
   "metadata": {},
   "outputs": [
    {
     "data": {
      "application/vnd.microsoft.datawrangler.viewer.v0+json": {
       "columns": [
        {
         "name": "index",
         "rawType": "int64",
         "type": "integer"
        },
        {
         "name": "url",
         "rawType": "object",
         "type": "string"
        },
        {
         "name": "headline",
         "rawType": "object",
         "type": "string"
        },
        {
         "name": "summary",
         "rawType": "object",
         "type": "string"
        }
       ],
       "conversionMethod": "pd.DataFrame",
       "ref": "997c6298-e020-44e8-b6c2-02746ca6ce1e",
       "rows": [
        [
         "0",
         "https://www.bbc.com/news/articles/cpq222rqv4po",
         "Tate brothers allowed to leave Romania for US",
         "British-American influencers Andrew and Tristan Tate - who are facing trial in Romania on charges of rape, trafficking minors and money laundering - have left the country after prosecutors lifted a two-year travel ban."
        ],
        [
         "1",
         "https://www.bbc.com/news/articles/cg4kkv3e1v9o",
         "Why are the Tate brothers heading to the US?",
         "Controversial influencer Andrew Tate and his brother Tristan are travelling to the US after leaving Romania, where they face charges of rape, trafficking minors and money laundering, all of which they deny."
        ],
        [
         "2",
         "https://www.bbc.com/news/articles/cn7vg0nvzkko",
         "Zelensky to meet Trump in Washington to sign minerals deal",
         "Ukrainian President Volodymyr Zelensky will meet US President Donald Trump in Washington on Friday to sign an agreement on sharing his country's mineral resources, Trump has said. "
        ],
        [
         "3",
         "https://www.bbc.com/news/articles/c70eky7l6pxo",
         "Romanian far-right presidential hopeful detained on street and indicted",
         "Far-right populist Calin Georgescu, who came from nowhere to win the first round of last year's presidential election, has been detained by police and is facing criminal proceedings on a series of charges."
        ],
        [
         "4",
         "https://www.bbc.com/news/articles/cdrxy1zp8mxo",
         "Bosnian-Serb leader sentenced to jail in landmark trial",
         "A one-year prison sentence and a six-year ban on holding public office might seem like a heavy penalty for a politician. "
        ],
        [
         "5",
         "https://www.bbc.com/news/articles/cg4kkv3e1v9o",
         "Why are the Tate brothers heading to the US?",
         "Controversial influencer Andrew Tate and his brother Tristan are travelling to the US after leaving Romania, where they face charges of rape, trafficking minors and money laundering, all of which they deny."
        ],
        [
         "6",
         "https://www.bbc.com/news/articles/c17qe11wy52o",
         "Leaked recordings challenge Greek account of deadly shipwreck",
         "Leaked audio instructions by Greek rescue co-ordinators have cast further doubt on Greece's official version of events in the hours before a migrant boat sank along with up to 650 people onboard."
        ],
        [
         "7",
         "https://www.bbc.com/news/articles/cx2rreg04dpo",
         "North Korea has sent more troops to Russia, South's spy agency says",
         "North Korea has sent more soldiers to Russia and re-deployed others to the frontline in the western Kursk region, according to South Korea's intelligence agency. "
        ],
        [
         "8",
         "https://www.bbc.com/news/articles/cn7vg0nvzkko",
         "Zelensky to meet Trump in Washington to sign minerals deal",
         "Ukrainian President Volodymyr Zelensky will meet US President Donald Trump in Washington on Friday to sign an agreement on sharing his country's mineral resources, Trump has said. "
        ],
        [
         "9",
         "https://www.bbc.com/news/articles/clyrkkv4gd7o",
         "Starmer cuts aid to fund increase in defence spending",
         "Sir Keir Starmer has set out plans to increase defence spending to 2.5% of national income by 2027."
        ],
        [
         "10",
         "https://www.bbc.com/news/articles/cvgd9v3r69qo",
         "Tesla shares slump after European sales fall",
         "Shares in electric car maker Tesla have slumped more than 9% after EU and UK sales fell by almost half in January."
        ],
        [
         "11",
         "https://www.bbc.com/news/articles/cvg592557vgo",
         "Macron walks tightrope with Trump as he makes Europe's case on Ukraine",
         "Relations between Europe and the US are unquestionably in crisis, so merely keeping things together as French President Emmanuel Macron did at the White House on Monday stands as an achievement."
        ],
        [
         "12",
         "https://www.bbc.com/news/articles/c7435pnle0go",
         "US sides with Russia in UN resolutions on Ukraine ",
         "The US has twice sided with Russia in votes at the United Nations to mark the third anniversary of the Russian invasion of Ukraine, highlighting the Trump administration's change of stance on the war."
        ],
        [
         "13",
         "https://www.bbc.com/news/articles/cx29pnzy1l7o",
         "Spanish city 'adopts' migrants who intervened in homophobic attack",
         "A Spanish city has honoured two Senegalese migrants for their heroism in trying to save a gay man beaten to death by a homophobic mob."
        ],
        [
         "14",
         "https://www.bbc.com/news/articles/c0l1w1w41xzo",
         "Can Europe still count on the US coming to its defence?",
         "European leaders have been left stunned by the open rapprochement between US President Donald Trump and Russia's Vladimir Putin - and not-so-subtle hints that the US may abandon its obligation to defend European allies."
        ],
        [
         "15",
         "https://www.bbc.com/news/articles/cy9dl4drr8lo",
         "German politics froze out the far right for years – is this about to change?",
         "One in five German voters put an X in the box for Alternative for Germany (AfD) on Sunday: a record result that has made them the second biggest force in German politics."
        ],
        [
         "16",
         "https://www.bbc.com/news/articles/cpq222rqv4po",
         "Tate brothers allowed to leave Romania for US",
         "British-American influencers Andrew and Tristan Tate - who are facing trial in Romania on charges of rape, trafficking minors and money laundering - have left the country after prosecutors lifted a two-year travel ban."
        ],
        [
         "17",
         "https://www.bbc.com/news/articles/c23444ddzjyo",
         "Search for missing six-year-old continues",
         "A search at a house in Drogheda, County Louth, as part of the investigation into the murder of a six-year-old boy who disappeared more than two years ago, has entered a second day."
        ],
        [
         "18",
         "https://www.bbc.com/news/articles/c0l11gr35gwo",
         "'In a scary world, he gives us hope': Faithful gather to support the Pope",
         "Catholics gathered to pray for the health of the Pope beneath the steps of St Peter's Basilica for a third night, as his doctors said his condition showed further slight improvement."
        ],
        [
         "19",
         "https://www.bbc.com/news/articles/c17qe11wy52o",
         "Leaked recordings challenge Greek account of deadly shipwreck",
         "Leaked audio instructions by Greek rescue co-ordinators have cast further doubt on Greece's official version of events in the hours before a migrant boat sank along with up to 650 people onboard."
        ],
        [
         "20",
         "https://www.bbc.com/news/articles/c9de53y43lvo",
         "New search for missing six-year-old Kyran Durnin",
         "A house in Drogheda, County Louth, is being searched as part of the investigation into the murder of a six-year-old boy who disappeared more than two years ago."
        ],
        [
         "21",
         "https://www.bbc.com/news/articles/cdrxy1zp8mxo",
         "Bosnian-Serb leader sentenced to jail in landmark trial",
         "A one-year prison sentence and a six-year ban on holding public office might seem like a heavy penalty for a politician. "
        ],
        [
         "22",
         "https://www.bbc.com/news/articles/cwygwzd4wggo",
         "British man dies and one injured while climbing in Norway",
         "A British man has died and another was left injured while climbing in Norway."
        ],
        [
         "23",
         "https://www.bbc.com/news/articles/c70eky7l6pxo",
         "Romanian far-right presidential hopeful detained on street and indicted",
         "Far-right populist Calin Georgescu, who came from nowhere to win the first round of last year's presidential election, has been detained by police and is facing criminal proceedings on a series of charges."
        ]
       ],
       "shape": {
        "columns": 3,
        "rows": 24
       }
      },
      "text/html": [
       "<div>\n",
       "<style scoped>\n",
       "    .dataframe tbody tr th:only-of-type {\n",
       "        vertical-align: middle;\n",
       "    }\n",
       "\n",
       "    .dataframe tbody tr th {\n",
       "        vertical-align: top;\n",
       "    }\n",
       "\n",
       "    .dataframe thead th {\n",
       "        text-align: right;\n",
       "    }\n",
       "</style>\n",
       "<table border=\"1\" class=\"dataframe\">\n",
       "  <thead>\n",
       "    <tr style=\"text-align: right;\">\n",
       "      <th></th>\n",
       "      <th>url</th>\n",
       "      <th>headline</th>\n",
       "      <th>summary</th>\n",
       "    </tr>\n",
       "  </thead>\n",
       "  <tbody>\n",
       "    <tr>\n",
       "      <th>0</th>\n",
       "      <td>https://www.bbc.com/news/articles/cpq222rqv4po</td>\n",
       "      <td>Tate brothers allowed to leave Romania for US</td>\n",
       "      <td>British-American influencers Andrew and Trista...</td>\n",
       "    </tr>\n",
       "    <tr>\n",
       "      <th>1</th>\n",
       "      <td>https://www.bbc.com/news/articles/cg4kkv3e1v9o</td>\n",
       "      <td>Why are the Tate brothers heading to the US?</td>\n",
       "      <td>Controversial influencer Andrew Tate and his b...</td>\n",
       "    </tr>\n",
       "    <tr>\n",
       "      <th>2</th>\n",
       "      <td>https://www.bbc.com/news/articles/cn7vg0nvzkko</td>\n",
       "      <td>Zelensky to meet Trump in Washington to sign m...</td>\n",
       "      <td>Ukrainian President Volodymyr Zelensky will me...</td>\n",
       "    </tr>\n",
       "    <tr>\n",
       "      <th>3</th>\n",
       "      <td>https://www.bbc.com/news/articles/c70eky7l6pxo</td>\n",
       "      <td>Romanian far-right presidential hopeful detain...</td>\n",
       "      <td>Far-right populist Calin Georgescu, who came f...</td>\n",
       "    </tr>\n",
       "    <tr>\n",
       "      <th>4</th>\n",
       "      <td>https://www.bbc.com/news/articles/cdrxy1zp8mxo</td>\n",
       "      <td>Bosnian-Serb leader sentenced to jail in landm...</td>\n",
       "      <td>A one-year prison sentence and a six-year ban ...</td>\n",
       "    </tr>\n",
       "    <tr>\n",
       "      <th>5</th>\n",
       "      <td>https://www.bbc.com/news/articles/cg4kkv3e1v9o</td>\n",
       "      <td>Why are the Tate brothers heading to the US?</td>\n",
       "      <td>Controversial influencer Andrew Tate and his b...</td>\n",
       "    </tr>\n",
       "    <tr>\n",
       "      <th>6</th>\n",
       "      <td>https://www.bbc.com/news/articles/c17qe11wy52o</td>\n",
       "      <td>Leaked recordings challenge Greek account of d...</td>\n",
       "      <td>Leaked audio instructions by Greek rescue co-o...</td>\n",
       "    </tr>\n",
       "    <tr>\n",
       "      <th>7</th>\n",
       "      <td>https://www.bbc.com/news/articles/cx2rreg04dpo</td>\n",
       "      <td>North Korea has sent more troops to Russia, So...</td>\n",
       "      <td>North Korea has sent more soldiers to Russia a...</td>\n",
       "    </tr>\n",
       "    <tr>\n",
       "      <th>8</th>\n",
       "      <td>https://www.bbc.com/news/articles/cn7vg0nvzkko</td>\n",
       "      <td>Zelensky to meet Trump in Washington to sign m...</td>\n",
       "      <td>Ukrainian President Volodymyr Zelensky will me...</td>\n",
       "    </tr>\n",
       "    <tr>\n",
       "      <th>9</th>\n",
       "      <td>https://www.bbc.com/news/articles/clyrkkv4gd7o</td>\n",
       "      <td>Starmer cuts aid to fund increase in defence s...</td>\n",
       "      <td>Sir Keir Starmer has set out plans to increase...</td>\n",
       "    </tr>\n",
       "    <tr>\n",
       "      <th>10</th>\n",
       "      <td>https://www.bbc.com/news/articles/cvgd9v3r69qo</td>\n",
       "      <td>Tesla shares slump after European sales fall</td>\n",
       "      <td>Shares in electric car maker Tesla have slumpe...</td>\n",
       "    </tr>\n",
       "    <tr>\n",
       "      <th>11</th>\n",
       "      <td>https://www.bbc.com/news/articles/cvg592557vgo</td>\n",
       "      <td>Macron walks tightrope with Trump as he makes ...</td>\n",
       "      <td>Relations between Europe and the US are unques...</td>\n",
       "    </tr>\n",
       "    <tr>\n",
       "      <th>12</th>\n",
       "      <td>https://www.bbc.com/news/articles/c7435pnle0go</td>\n",
       "      <td>US sides with Russia in UN resolutions on Ukra...</td>\n",
       "      <td>The US has twice sided with Russia in votes at...</td>\n",
       "    </tr>\n",
       "    <tr>\n",
       "      <th>13</th>\n",
       "      <td>https://www.bbc.com/news/articles/cx29pnzy1l7o</td>\n",
       "      <td>Spanish city 'adopts' migrants who intervened ...</td>\n",
       "      <td>A Spanish city has honoured two Senegalese mig...</td>\n",
       "    </tr>\n",
       "    <tr>\n",
       "      <th>14</th>\n",
       "      <td>https://www.bbc.com/news/articles/c0l1w1w41xzo</td>\n",
       "      <td>Can Europe still count on the US coming to its...</td>\n",
       "      <td>European leaders have been left stunned by the...</td>\n",
       "    </tr>\n",
       "    <tr>\n",
       "      <th>15</th>\n",
       "      <td>https://www.bbc.com/news/articles/cy9dl4drr8lo</td>\n",
       "      <td>German politics froze out the far right for ye...</td>\n",
       "      <td>One in five German voters put an X in the box ...</td>\n",
       "    </tr>\n",
       "    <tr>\n",
       "      <th>16</th>\n",
       "      <td>https://www.bbc.com/news/articles/cpq222rqv4po</td>\n",
       "      <td>Tate brothers allowed to leave Romania for US</td>\n",
       "      <td>British-American influencers Andrew and Trista...</td>\n",
       "    </tr>\n",
       "    <tr>\n",
       "      <th>17</th>\n",
       "      <td>https://www.bbc.com/news/articles/c23444ddzjyo</td>\n",
       "      <td>Search for missing six-year-old continues</td>\n",
       "      <td>A search at a house in Drogheda, County Louth,...</td>\n",
       "    </tr>\n",
       "    <tr>\n",
       "      <th>18</th>\n",
       "      <td>https://www.bbc.com/news/articles/c0l11gr35gwo</td>\n",
       "      <td>'In a scary world, he gives us hope': Faithful...</td>\n",
       "      <td>Catholics gathered to pray for the health of t...</td>\n",
       "    </tr>\n",
       "    <tr>\n",
       "      <th>19</th>\n",
       "      <td>https://www.bbc.com/news/articles/c17qe11wy52o</td>\n",
       "      <td>Leaked recordings challenge Greek account of d...</td>\n",
       "      <td>Leaked audio instructions by Greek rescue co-o...</td>\n",
       "    </tr>\n",
       "    <tr>\n",
       "      <th>20</th>\n",
       "      <td>https://www.bbc.com/news/articles/c9de53y43lvo</td>\n",
       "      <td>New search for missing six-year-old Kyran Durnin</td>\n",
       "      <td>A house in Drogheda, County Louth, is being se...</td>\n",
       "    </tr>\n",
       "    <tr>\n",
       "      <th>21</th>\n",
       "      <td>https://www.bbc.com/news/articles/cdrxy1zp8mxo</td>\n",
       "      <td>Bosnian-Serb leader sentenced to jail in landm...</td>\n",
       "      <td>A one-year prison sentence and a six-year ban ...</td>\n",
       "    </tr>\n",
       "    <tr>\n",
       "      <th>22</th>\n",
       "      <td>https://www.bbc.com/news/articles/cwygwzd4wggo</td>\n",
       "      <td>British man dies and one injured while climbin...</td>\n",
       "      <td>A British man has died and another was left in...</td>\n",
       "    </tr>\n",
       "    <tr>\n",
       "      <th>23</th>\n",
       "      <td>https://www.bbc.com/news/articles/c70eky7l6pxo</td>\n",
       "      <td>Romanian far-right presidential hopeful detain...</td>\n",
       "      <td>Far-right populist Calin Georgescu, who came f...</td>\n",
       "    </tr>\n",
       "  </tbody>\n",
       "</table>\n",
       "</div>"
      ],
      "text/plain": [
       "                                               url  \\\n",
       "0   https://www.bbc.com/news/articles/cpq222rqv4po   \n",
       "1   https://www.bbc.com/news/articles/cg4kkv3e1v9o   \n",
       "2   https://www.bbc.com/news/articles/cn7vg0nvzkko   \n",
       "3   https://www.bbc.com/news/articles/c70eky7l6pxo   \n",
       "4   https://www.bbc.com/news/articles/cdrxy1zp8mxo   \n",
       "5   https://www.bbc.com/news/articles/cg4kkv3e1v9o   \n",
       "6   https://www.bbc.com/news/articles/c17qe11wy52o   \n",
       "7   https://www.bbc.com/news/articles/cx2rreg04dpo   \n",
       "8   https://www.bbc.com/news/articles/cn7vg0nvzkko   \n",
       "9   https://www.bbc.com/news/articles/clyrkkv4gd7o   \n",
       "10  https://www.bbc.com/news/articles/cvgd9v3r69qo   \n",
       "11  https://www.bbc.com/news/articles/cvg592557vgo   \n",
       "12  https://www.bbc.com/news/articles/c7435pnle0go   \n",
       "13  https://www.bbc.com/news/articles/cx29pnzy1l7o   \n",
       "14  https://www.bbc.com/news/articles/c0l1w1w41xzo   \n",
       "15  https://www.bbc.com/news/articles/cy9dl4drr8lo   \n",
       "16  https://www.bbc.com/news/articles/cpq222rqv4po   \n",
       "17  https://www.bbc.com/news/articles/c23444ddzjyo   \n",
       "18  https://www.bbc.com/news/articles/c0l11gr35gwo   \n",
       "19  https://www.bbc.com/news/articles/c17qe11wy52o   \n",
       "20  https://www.bbc.com/news/articles/c9de53y43lvo   \n",
       "21  https://www.bbc.com/news/articles/cdrxy1zp8mxo   \n",
       "22  https://www.bbc.com/news/articles/cwygwzd4wggo   \n",
       "23  https://www.bbc.com/news/articles/c70eky7l6pxo   \n",
       "\n",
       "                                             headline  \\\n",
       "0       Tate brothers allowed to leave Romania for US   \n",
       "1        Why are the Tate brothers heading to the US?   \n",
       "2   Zelensky to meet Trump in Washington to sign m...   \n",
       "3   Romanian far-right presidential hopeful detain...   \n",
       "4   Bosnian-Serb leader sentenced to jail in landm...   \n",
       "5        Why are the Tate brothers heading to the US?   \n",
       "6   Leaked recordings challenge Greek account of d...   \n",
       "7   North Korea has sent more troops to Russia, So...   \n",
       "8   Zelensky to meet Trump in Washington to sign m...   \n",
       "9   Starmer cuts aid to fund increase in defence s...   \n",
       "10       Tesla shares slump after European sales fall   \n",
       "11  Macron walks tightrope with Trump as he makes ...   \n",
       "12  US sides with Russia in UN resolutions on Ukra...   \n",
       "13  Spanish city 'adopts' migrants who intervened ...   \n",
       "14  Can Europe still count on the US coming to its...   \n",
       "15  German politics froze out the far right for ye...   \n",
       "16      Tate brothers allowed to leave Romania for US   \n",
       "17          Search for missing six-year-old continues   \n",
       "18  'In a scary world, he gives us hope': Faithful...   \n",
       "19  Leaked recordings challenge Greek account of d...   \n",
       "20   New search for missing six-year-old Kyran Durnin   \n",
       "21  Bosnian-Serb leader sentenced to jail in landm...   \n",
       "22  British man dies and one injured while climbin...   \n",
       "23  Romanian far-right presidential hopeful detain...   \n",
       "\n",
       "                                              summary  \n",
       "0   British-American influencers Andrew and Trista...  \n",
       "1   Controversial influencer Andrew Tate and his b...  \n",
       "2   Ukrainian President Volodymyr Zelensky will me...  \n",
       "3   Far-right populist Calin Georgescu, who came f...  \n",
       "4   A one-year prison sentence and a six-year ban ...  \n",
       "5   Controversial influencer Andrew Tate and his b...  \n",
       "6   Leaked audio instructions by Greek rescue co-o...  \n",
       "7   North Korea has sent more soldiers to Russia a...  \n",
       "8   Ukrainian President Volodymyr Zelensky will me...  \n",
       "9   Sir Keir Starmer has set out plans to increase...  \n",
       "10  Shares in electric car maker Tesla have slumpe...  \n",
       "11  Relations between Europe and the US are unques...  \n",
       "12  The US has twice sided with Russia in votes at...  \n",
       "13  A Spanish city has honoured two Senegalese mig...  \n",
       "14  European leaders have been left stunned by the...  \n",
       "15  One in five German voters put an X in the box ...  \n",
       "16  British-American influencers Andrew and Trista...  \n",
       "17  A search at a house in Drogheda, County Louth,...  \n",
       "18  Catholics gathered to pray for the health of t...  \n",
       "19  Leaked audio instructions by Greek rescue co-o...  \n",
       "20  A house in Drogheda, County Louth, is being se...  \n",
       "21  A one-year prison sentence and a six-year ban ...  \n",
       "22  A British man has died and another was left in...  \n",
       "23  Far-right populist Calin Georgescu, who came f...  "
      ]
     },
     "metadata": {},
     "output_type": "display_data"
    }
   ],
   "source": [
    "def combiner(link):\n",
    "    return {'url': link, 'headline': headline_finder(link), 'summary': summary_finder(link)}\n",
    "\n",
    "df = pd.DataFrame([combiner(url) for url in url_finder()])\n",
    "df.to_csv('scraped_news.csv', index=False)\n",
    "display(df)"
   ]
  },
  {
   "cell_type": "markdown",
   "metadata": {},
   "source": [
    "# Part 3: Scraping Article Text"
   ]
  },
  {
   "cell_type": "markdown",
   "metadata": {},
   "source": [
    "### In this final part of the exercise, you will scrape the article text and store it on disk."
   ]
  },
  {
   "cell_type": "code",
   "execution_count": 100,
   "metadata": {},
   "outputs": [
    {
     "name": "stdout",
     "output_type": "stream",
     "text": [
      "Summary amount: 24\n"
     ]
    },
    {
     "data": {
      "text/plain": [
       "['British-American influencers Andrew and Tristan Tate - who are facing trial in Romania on charges of rape, trafficking minors and money laundering - have left the country after prosecutors lifted a two-year travel ban. Andrew Tate, 38, and his brother Tristan, 36, left Bucharest on a private jet early on Thursday. Both deny the allegations against them. Romanian prosecutors stressed the case against them had not been dropped and they would be expected to return, understood to be at the end of next month. However, their decision has raised concern that they came under pressure from leading figures in the Trump administration, with one leading Romanian politician saying she was outraged. The brothers are facing separate, unrelated charges in the UK over allegations of rape and human trafficking, which they also deny. A separate, civil case has been opened in the US. Romanian reports said they were heading to Fort Lauderdale in Florida on a non-stop flight that would take 12 hours, however the Tates\\' lawyer in Bucharest denied to the BBC that was their destination. The Tate brothers were first arrested in Romania in December 2022. The elder of the two, a former kickboxer who appeared on UK TV show Big Brother, was later accused of rape and human trafficking while his brother was suspected of human trafficking. They both denied those charges and spent several months under house arrest. A year later, in August 2024, they faced new allegations including sex with a minor and trafficking underage persons. Andrew Tate is a self-described misogynist who has attracted millions of followers online, despite being previously banned from social media platforms for expressing his views. He moved from the UK to Romania several years ago, however police in Bedfordshire are still seeking his extradition on separate and unrelated allegations of rape and human trafficking, as well as tax evasion. Thursday\\'s decision by Romanian prosecutors to lift the ban on the Tates leaving the country is believed to have come in the wake of comments from figures in the Trump administration earlier this month. The Tates have regularly posted messages in support of US President Donald Trump, and Tristan Tate has said his brother\\'s role in persuading \"millions of young men\" to back him \"cannot be overlooked\". Romania\\'s Foreign Minister Emil Hurezeanu told Romanian TV that Trump\\'s special envoy, Richard Grenell, had brought up the issue of the Tate brothers during a conversation at the Munich Security Conference earlier in February. Hurezeanu said his discussion with Trump\\'s envoy had only been an informal one and he had not considered Grenell\\'s approach as a \"form of pressure\". Grenell told the Financial Times his support for the brothers was evident from his \"publicly available tweets\". Four British women have also taken out a civil case against Andrew Tate at the UK High Court, alleging that he raped and coercively controlled them. Tate denies their allegations. They said it was clear he would not face criminal prosecution in Romania and appealed to UK authorities to take action. \"We are in disbelief and feel re-traumatised by the news that the Romanian authorities have given into pressure from the Trump administration to allow Andrew Tate to travel around Europe and to the US,\" the women said in a statement. Elena Lasconi, who is running for the Romanian presidency in May\\'s elections, six months after they were controversially cancelled, has called for the immediate resignation of the head of Romania\\'s organised crime investigations directorate DIICOT, which made the decision to let the brothers leave. \"I am outraged!\" she wrote on social media, \"as a woman, a human being and a Romanian.\" Lasconi said prosecutors should explain publicly whether their decision came as a result of external pressure. Prosecutors from DIICOT have emphasised that the judicial conditions for the brothers have not changed. Any violation of those obligations made in bad faith \"may lead to the replacement of judicial control with a higher measure of deprivation of liberty\", it said in a statement in Romanian. The Tates are understood to be required to return to Bucharest at the end of March to satisfy the prosecutors\\' terms, however it is too early to say whether they will comply with them. Romania is both a member of the European Union and a key Nato member state on the Western alliance\\'s eastern flank.  Senior Trump figures have also had the government in Bucharest in their sights over the court ruling that annulled last December\\'s presidential election. Romanian intelligence services said far-right candidate Calin Georgescu had been supported by a flurry of TikTok accounts engineered by Russia. Georgescu was indicted on Wednesday for attempted \"incitement to acts against the constitutional order\". Prosecutors are investigating a series of alleged offences, after Georgescu came from nowhere to win the first round. Charity says German Shepherd has spent her whole life chained to a tree. Two members of the Romanian community discuss how they have started businesses in the island. His exit comes as political opponents had sought to remove him over remaining in office beyond the end of his term. Several hundred well-paid foreign soldiers fighting on the side of the Congolese government surrender. Copyright 2025 BBC. All rights reserved.\\xa0\\xa0The BBC is not responsible for the content of external sites.\\xa0Read about our approach to external linking. \\xa0',\n",
       " 'Controversial influencer Andrew Tate and his brother Tristan are travelling to the US after leaving Romania, where they face charges of rape, trafficking minors and money laundering, all of which they deny. Questions remain about why they were allowed to travel and what happens next with their legal cases. Andrew Tate, 38, and his brother Tristan, 36, are dual US-UK citizens who claim to have made millions from their social media empire. Their online output was controversial even before their legal troubles, with the pair attracting frequent criticism over offensive statements about women. Police in the UK have linked Andrew Tate to the \"quite terrifying\" radicalisation of boys and young men in a 2024 report into violence against women and girls. The brothers were first arrested in Romania in 2022. They are facing separate, unrelated charges of rape and human trafficking in the UK. Both brothers also deny the charges against them in the UK. The brothers had been under a travel ban in Romania for more than two years while they were under investigation. Speculation that they would leave Romania had been mounting ahead of their journey, after the pair went quiet on social media. They left from a Bucharest airport at around 03:00 local time (05:00 GMT) on a private jet bound for Florida, sources have told the BBC. Prosecutors said the travel ban had been lifted, and the pair\\'s US passports had been returned to them, but investigations into their alleged crimes have not been dropped. The Tates have a large US following and are popular figures on the American right. Earlier in February, some of Andrew Tate\\'s alleged victims said they were \"extremely concerned\" by reports that US officials had asked for his travel restrictions to be relaxed. It came after US special envoy Richard Grenell raised the Tate brothers with Romania\\'s Foreign Minister Emil Hurezeanu at the Munich Security Conference. Hurezeanu said he had not considered Grenell\\'s approach as a \"form of pressure\". Grenell told the Financial Times his support for the brothers was evident. The Tates have been a vocal supporters of US President Donald Trump, while his close adviser, Elon Musk, restored Andrew Tate\\'s account on X after he bought the social media platform in 2022. Andrew and Tristan Tate have not yet commented on their trip to the US, and neither has the Trump administration. The cases against the Tate brothers in Romania are now being rewritten by prosecutors, who allowed them to leave the country on the condition that they return - possibly as early as the end of March. The pair\\'s request to leave the country was accepted, prosecutors said, but their request for the charges against them to be dropped was rejected. The brothers face a number of civic and criminal legal cases. The pair were charged with human trafficking and rape along with two Romanian female suspects in June 2023. They deny the charges. They face separate, unrelated charges of rape and human trafficking in the UK. Last year, a Romanian court ruled they could be extradited to the UK after their case in Romania concludes. Separately, lawyers for four women who claim they were assaulted by the Tates said they were bringing a civil case against him at the High Court in the UK for \"damages for injuries they suffered as a result\". A representative for the Tate brothers said in response that they \"unequivocally deny all allegations\". A separate civil case in the UK, which the brothers are contesting, accuses the brothers and a third individual of being serial tax evaders. Four women who allege they were sexually abused by Andrew Tate have said they are in \"disbelief and feel re-traumatised\" by news of him leaving Romania. In a joint statement, the four said: \"It is clear that he will now not face criminal prosecution for his alleged crimes in Romania; he will use it as an opportunity to harass further and intimidate witnesses and his accusers, and he will continue to spread his violent, misogynistic doctrine around the world.\" They also urged British authorities to \"finally take action, do something about this terrifying unfolding situation and ensure he faces justice in the UK\". Matthew Jury, a lawyer representing the four alleged victims, told the BBC the Trump administration was \"interfering in due process\" in Romania and the UK. President Trump has repeatedly claimed that the US has given over $300bn to Ukraine, but he is incorrect. Tariffs are a central part of Trump\\'s political vision, but economists warn they could put prices up. The decision goes against a lower court judge\\'s ruling that the government had to pay aid contractors. Trachtenberg, 39, found fame in television series Buffy the Vampire Slayer, and later Gossip Girl. The pair, who murdered their wealthy parents in 1989, are pursuing three possible routes that could see them leave prison.  Copyright 2025 BBC. All rights reserved.\\xa0\\xa0The BBC is not responsible for the content of external sites.\\xa0Read about our approach to external linking. \\xa0',\n",
       " 'Ukrainian President Volodymyr Zelensky will meet US President Donald Trump in Washington on Friday to sign an agreement on sharing his country\\'s mineral resources, Trump has said.  Zelensky has described the bilateral deal as preliminary, and said he wants further agreements which include US security guarantees to deter renewed Russian aggression.  But Trump said the US would not provide guarantees \"beyond... very much\", saying the responsibility should instead fall to Europe. Trump also seemingly ruled out the prospect of Ukraine becoming a Nato member - one of Zelensky\\'s long-held ambitions.  Speaking at a meeting of his cabinet on Wednesday, Trump said the presence of American workers extracting rare earth metals on Ukrainian soil would provide \"automatic security\" for Ukraine.  He said Kyiv should \"forget about\" joining Nato and repeated Russia\\'s claims that the issue was one of the driving factors behind the war.  The US president suggested a ceasefire between Ukraine and Russia was not far off, telling reporters: \"We\\'re going to make a deal with Russia and Ukraine to stop killing people.\" But Zelensky said without security guarantees \"we won\\'t have a ceasefire, nothing will work, nothing\".  \"I want to find a Nato path or something similar,\" he said.  Russia has consistently opposed the idea of Ukraine becoming a member, fearing it would bring Nato forces too close to its borders. In 2008, the alliance had said that Ukraine could eventually join. Trump has suggested European peacekeeping troops could be stationed in Ukraine as part of a ceasefire deal, but Russia says it is against this.  European representatives, however, were not included in Washington\\'s initial talks with Russia. Speaking to the BBC on Wednesday, Kaja Kallas, the EU High Representative for Foreign Affairs and Security Policy, said \"for any kind of deal to work on European soil, you need the Europeans to also agree to it\". She said the mineral resources deal was up to Ukraine, but any peace agreement would \"need the Europeans on board\". Ms Kallas\\' scheduled meeting with Secretary of State Marco Rubio on Wednesday was abruptly cancelled, with both sides citing scheduling issues. Zelensky said the success of the minerals deal, which was formally backed by his government on Wednesday evening, would depend on the outcome of his meeting with Trump this week. Key details have not yet been made public, but Ukrainian Prime Minister Denys Shmyhal said it envisages an \"investment fund\" for Ukraine\\'s reconstruction. The prospect of a deal was first proposed by Zelensky last year as a way to offer the US a tangible reason to continue supporting Ukraine. But disagreements over its substance exacerbated tensions between Trump and Zelensky in recent weeks.  The Ukrainian president had rejected an initial request from the US for $500bn (£395bn) in mineral wealth, but media reports suggest this demand has now been dropped. There are also differences in how both sides are now describing the deal. Trump has lauded the \"very big agreement\" as an opportunity for the US to get its \"money back\" after funding aid to Ukraine.  But Zelensky has instead referred to it as a \"framework agreement\" upon which he hopes further deals can be made. Trump has said he wants a quick end to the war in Ukraine and has sought to reset relations with Russia. After a phone call with Russian President Vladimir Putin, the two leaders sent delegations to Saudi Arabia in bilateral talks which excluded Ukraine.  In response, Zelensky accused the US of helping Putin \"break out of years of isolation\" and Trump of living in a \"Russian disinformation space\".  Ukraine is a country rich in natural resources. Kyiv estimates that about 5% of the world\\'s \"critical raw materials\" are there. But accessing some of these resources will not be completely straightforward.  Some of the mineral deposits have been seized by Russia. According to Yulia Svyrydenko, Ukraine\\'s economy minister, resources worth $350bn (£277bn) remain in occupied territories today. There are warnings too that Ukraine first needs to addresses its problem with unexploded mines before striking a deal with the US. A quarter of Ukraine\\'s landmass is estimated to be contaminated with landmines, mainly concentrated in the war-torn east of the country. Putin has also said he is open to offering the US access to rare minerals, including from Russian-occupied Ukraine. UK Prime Minister Sir Keir Starmer will also be meeting both Trump and Zelensky separately this week to discuss the war in Ukraine. He is due to arrive in Washington later on Wednesday. Andrew Tate and his brother Tristan have left Romania, where they were previously under a travel ban. Zelensky had no experience of politics when he was elected but is now a symbol of Ukrainian defiance. Tariffs are a central part of Trump\\'s political vision, but economists warn they could put prices up. The decision goes against a lower court judge\\'s ruling that the government had to pay aid contractors. The first minister is calling on civic Scotland to come together and tackle populist politics. Copyright 2025 BBC. All rights reserved.\\xa0\\xa0The BBC is not responsible for the content of external sites.\\xa0Read about our approach to external linking. \\xa0',\n",
       " 'Far-right populist Calin Georgescu, who came from nowhere to win the first round of last year\\'s presidential election, has been detained by police and is facing criminal proceedings on a series of charges. Georgescu was stopped in traffic in the capital, Bucharest, on his way to register as a candidate for new elections in May, after last December\\'s second-round run-off was annulled by the constitutional court. Prosecutors said one of the charges involved attempted \"incitement to actions against the constitutional order\". Two right-wing populist parties said they were mobilising their supporters to head for the prosecutor\\'s office, where Georgescu was taken for questioning. Police were seen erecting barriers around the building and hundreds of demonstrators gathered to protest. Prosecutors said Georgescu was also being investigated for giving \"false information, false statements\" and for setting up an organisation with \"fascist, racist or xenophobic characteristics\" as well as forming an antisemitic organisation. The severity of the indictment could jeopardise Georgescu\\'s bid to run in the presidential election on 4 and 18 May. He has been placed under judicial control and told not to leave Romania, according to reports. As he left the prosecutor\\'s office, Georgescu told supporters he would continue to fight and that there was \"no difference between the communist mentality and system [that collapsed in 1989] and now\". The original presidential vote was cancelled before the second round last December, after the then president, Klaus Iohannis declassified intelligence documents that suggested that hundreds of TikTok accounts had been activated backing Georgescu.  Romanian foreign intelligence said Russia had been behind the move, as well as thousands of cyber-attacks and other sabotage. Iohannis had decided to stay in office until a successor was elected, but he resigned earlier this month ahead of an impeachment vote. Opposition politicians had at the time accused Iohannis of an undemocratic move, and Georgescu\\'s communications team repeated the claim against prosecutors. \"Where is democracy now?\" they posted on X on Wednesday, tagging President Donald Trump, Elon Musk and US Vice-President JD Vance. Earlier this month, the US vice-president accused Romania of annulling the elections based on \"flimsy suspicions\" of Romanian intelligence and pressure from its neighbours. Romanian Foreign Minister Emil Hurezeanu accused Elon Musk of a \"form of interference\" in Romania\\'s elections, after the billionaire posted several messages of support for Georgescu. Georgescu\\'s hopes of running for the presidency may end up at the constitutional court, which barred another far-right, pro-Russian candidate from running last year.  The decision to turn down Diana Sosoaca\\'s candidacy because of her views was widely criticised in Romania. Romania is a vital part of Nato\\'s eastern flank as well as being a member of the European Union.  Calin Georgescu has been accused of being pro-Russian and he has praised Romania\\'s fascist and nationalist leaders from the last century as heroes. He denied he was \"Moscow\\'s man\", in a BBC interview last year, but referred to Vladimir Putin as a \"patriot and a leader\" while pointing out \"I am not a fan\". Meanwhile, Romanian police said they had carried out raids in several counties around the country, targeting 27 individuals as part of a criminal case relating to the creation of an organisation \"with a fascist, racist or xenophobic nature\".  Investigations were also being conducted into false statements regarding the sources of election campaign funding, police said.  The statement made no mention of Georgescu himself and it was not clear if the raids were linked, however he said he was fighting a security system \"that wants us in slavery\". The influencers had been banned from travelling out of Romania for more than two years. Andrew Tate and his brother Tristan have left Romania, where they were previously under a travel ban. The 38-year-old former kickboxer once said women should \"bear responsibility\" for sexual assault. Charity says German Shepherd has spent her whole life chained to a tree. Reports say US officials asked Romania to relax travel restrictions against Andrew Tate and his brother. Copyright 2025 BBC. All rights reserved.\\xa0\\xa0The BBC is not responsible for the content of external sites.\\xa0Read about our approach to external linking. \\xa0',\n",
       " 'A one-year prison sentence and a six-year ban on holding public office might seem like a heavy penalty for a politician.  But the Bosnian-Serb leader Milorad Dodik made light of the verdict at the Court of Bosnia and Herzegovina. The president of the country\\'s majority-Serb Republika Srpska region told supporters at a rally in the regional capital Banja Luka there was \"no reason to worry\". His conviction on charges of ignoring the rulings of the international High Representative was \"nonsense\", he said.  Dodik said he had \"learned to deal with more difficult things\" and called on the crowd in Republika Srpska\\'s de facto capital to \"be cheerful\". The verdict was the culmination of a long-running conflict between Dodik and the international High Representative for Bosnia and Herzegovina, Christian Schmidt. Schmidt is still the supreme authority in Bosnia, 30 years on from the Dayton Agreement which ended the Bosnian War of the 1990s.  The high representative has the power to impose or annul laws – and sack officials ranging from judges to political leaders. One former holder of the post, Paddy Ashdown, the former leader of the UK\\'s Liberal Democrats, sacked almost 60 Bosnian-Serb officials in a single day in 2004, in a crackdown on their protection of war criminals. But the high representative\\'s powers have been used much more sparingly in subsequent years, as Bosnia\\'s international supporters stepped back in the hope that local leaders would work together to create a viable and prosperous country. The strategy has not been a success. Ethno-nationalist leaders remain entrenched in a country which is divided into two \"entities\" – the majority-Serb Republika Srpska and the Federation, where the population are mostly Bosniaks and Croats. The central government is weak – and there is little incentive for parties to cooperate. Instead, their guiding philosophy is simple and self-interested: divide, rule and profit. As a result, the country is struggling with low wages, a sluggish economy and a constant flow of emigration by talented people seeking a better future elsewhere. \"Bosnians of all ethnicities are united by their disdain for their own leaders,\" says Toby Vogel, co-founder of the Democratisation Policy Council think tank. \"They would love not to vote for these guys, but it\\'s structurally almost impossible for cross-community politicians and parties to emerge.\" Instead, leaders like Dodik get elected, time after time. The leader of the SNSD party has previously served as the Serb representative of the three-person national presidency and first became prime minister of Republika Srpska in 1998. A constant theme of his leadership has been the threat to trigger the secession of the majority-Serb region.  Dodik and his government have consistently worked to undermine Bosnia\\'s national institutions, introducing a series of laws to withdraw Republika Srpska from the armed forces, judiciary and tax system. Such efforts eventually pushed the high representative to take action and annul the secessionist legislation.  Christian Schmidt warned that a renewal of conflict was possible, but insisted that he would \"not sit still while others seek to dismantle [decades] of peace, stability and progress\". Dodik apparently viewed that as a challenge. He approved a law declaring that Republika Srpska would no longer recognise Schmidt\\'s rulings. The high representative had already annulled the legislation – and made it a criminal offence to contradict his decisions. That led to the prosecution of the Bosnian-Serb leader – with prosecutors calling for a maximum five-year prison sentence and 10-year ban from holding elected office. Dodik warned he would take \"radical measures\" if found guilty. His conviction has not brought any fireworks so far. At this point, Dodik is insisting that he will not appeal. Instead, Republika Srpska\\'s government is once again proposing legislation to withdraw from national institutions – including the court which passed the guilty verdict. But Dodik is facing problems beyond Bosnia\\'s borders. The US and UK have imposed sanctions on him and his family for corruption - threatening the unity of Bosnia and Herzegovina - and connections with Russia.  Toby Vogel believes that is more likely to threaten the Bosnian-Serb leader than the court conviction. \"The conflict with the high representative will intensify,\" he says. \"But Dodik might well be running out of road.\" \"He is running out of cash to pay his bloated administration… and he can no longer raise money on international markets. So, he is in very deep trouble indeed.\" None of this will be much comfort to the long-suffering people of Bosnia and Herzegovina. They are still enduring the interminable wait for the prosperity promised by ethno-nationalists like Dodik. This latest court battle shows how distant that prospect remains. Copyright 2025 BBC. All rights reserved.\\xa0\\xa0The BBC is not responsible for the content of external sites.\\xa0Read about our approach to external linking. \\xa0',\n",
       " 'Controversial influencer Andrew Tate and his brother Tristan are travelling to the US after leaving Romania, where they face charges of rape, trafficking minors and money laundering, all of which they deny. Questions remain about why they were allowed to travel and what happens next with their legal cases. Andrew Tate, 38, and his brother Tristan, 36, are dual US-UK citizens who claim to have made millions from their social media empire. Their online output was controversial even before their legal troubles, with the pair attracting frequent criticism over offensive statements about women. Police in the UK have linked Andrew Tate to the \"quite terrifying\" radicalisation of boys and young men in a 2024 report into violence against women and girls. The brothers were first arrested in Romania in 2022. They are facing separate, unrelated charges of rape and human trafficking in the UK. Both brothers also deny the charges against them in the UK. The brothers had been under a travel ban in Romania for more than two years while they were under investigation. Speculation that they would leave Romania had been mounting ahead of their journey, after the pair went quiet on social media. They left from a Bucharest airport at around 03:00 local time (05:00 GMT) on a private jet bound for Florida, sources have told the BBC. Prosecutors said the travel ban had been lifted, and the pair\\'s US passports had been returned to them, but investigations into their alleged crimes have not been dropped. The Tates have a large US following and are popular figures on the American right. Earlier in February, some of Andrew Tate\\'s alleged victims said they were \"extremely concerned\" by reports that US officials had asked for his travel restrictions to be relaxed. It came after US special envoy Richard Grenell raised the Tate brothers with Romania\\'s Foreign Minister Emil Hurezeanu at the Munich Security Conference. Hurezeanu said he had not considered Grenell\\'s approach as a \"form of pressure\". Grenell told the Financial Times his support for the brothers was evident. The Tates have been a vocal supporters of US President Donald Trump, while his close adviser, Elon Musk, restored Andrew Tate\\'s account on X after he bought the social media platform in 2022. Andrew and Tristan Tate have not yet commented on their trip to the US, and neither has the Trump administration. The cases against the Tate brothers in Romania are now being rewritten by prosecutors, who allowed them to leave the country on the condition that they return - possibly as early as the end of March. The pair\\'s request to leave the country was accepted, prosecutors said, but their request for the charges against them to be dropped was rejected. The brothers face a number of civic and criminal legal cases. The pair were charged with human trafficking and rape along with two Romanian female suspects in June 2023. They deny the charges. They face separate, unrelated charges of rape and human trafficking in the UK. Last year, a Romanian court ruled they could be extradited to the UK after their case in Romania concludes. Separately, lawyers for four women who claim they were assaulted by the Tates said they were bringing a civil case against him at the High Court in the UK for \"damages for injuries they suffered as a result\". A representative for the Tate brothers said in response that they \"unequivocally deny all allegations\". A separate civil case in the UK, which the brothers are contesting, accuses the brothers and a third individual of being serial tax evaders. Four women who allege they were sexually abused by Andrew Tate have said they are in \"disbelief and feel re-traumatised\" by news of him leaving Romania. In a joint statement, the four said: \"It is clear that he will now not face criminal prosecution for his alleged crimes in Romania; he will use it as an opportunity to harass further and intimidate witnesses and his accusers, and he will continue to spread his violent, misogynistic doctrine around the world.\" They also urged British authorities to \"finally take action, do something about this terrifying unfolding situation and ensure he faces justice in the UK\". Matthew Jury, a lawyer representing the four alleged victims, told the BBC the Trump administration was \"interfering in due process\" in Romania and the UK. President Trump has repeatedly claimed that the US has given over $300bn to Ukraine, but he is incorrect. Tariffs are a central part of Trump\\'s political vision, but economists warn they could put prices up. The decision goes against a lower court judge\\'s ruling that the government had to pay aid contractors. Trachtenberg, 39, found fame in television series Buffy the Vampire Slayer, and later Gossip Girl. The pair, who murdered their wealthy parents in 1989, are pursuing three possible routes that could see them leave prison.  Copyright 2025 BBC. All rights reserved.\\xa0\\xa0The BBC is not responsible for the content of external sites.\\xa0Read about our approach to external linking. \\xa0',\n",
       " 'Leaked audio instructions by Greek rescue co-ordinators have cast further doubt on Greece\\'s official version of events in the hours before a migrant boat sank along with up to 650 people onboard. The Adriana went down in the early hours of 14 June 2023 in international waters – but within Greece\\'s rescue zone - after leaving Libya days earlier. Survivors later told the BBC that coastguards had caused their overcrowded fishing boat to capsize in a botched attempt to tow it and then forced witnesses to stay silent.  The Greek coastguard denied these claims and maintains it did not try to rescue those onboard because they were not in danger and said they had voluntarily wanted to reach Italy, not Greece. But in a phone call that\\'s now emerged an unnamed man speaking from inside a Greek rescue coordination centre is heard instructing the captain of the migrant boat to tell an approaching ship that those onboard do not want to reach Greece. The coastguard has not commented on the audio but said it had handed over all available evidence to a Naval Court which is investigating the disaster. The sinking was one of the worst-ever disasters known to have happened in the Mediterranean Sea. It is estimated the boat was carrying up to 750 migrants when it set off from the port of Tobruk in Libya nearly a week earlier. Eighty-two bodies were recovered, but the United Nations believes an additional 500 people - including 100 women and children who were in the hold of the boat - may have died. Audio recordings obtained by Greek website News247.gr reveal phone calls involving the Joint Rescue Coordination Centre (JRCC) at the port of Piraeus, near the capital Athens. In the first call, at 18:50 local time (15:50 GMT)  on 13 June, an officer is heard explaining to the man piloting the migrant boat that a large red vessel will soon be approaching to give supplies and that he should explain that the migrants do not want to reach Greece. Officer 1: The replies of the man captaining the migrant boat are not heard. In a second call, 90 minutes later, at 22:10, a seemingly different officer from the same coordination centre, speaks to the captain of the Lucky Sailor (the \"big red ship\"). Officer 2: OK, captain, sorry before I couldn\\'t hear you. I couldn\\'t understand what did you say to me. You told me you gave them food, water and they told you that they don\\'t want to stay in Greece and they want to go to Italy, they don\\'t want anything else? Lucky Sailor captain: Yes because I asked them by megaphone \"Greece or Italia?\" and everybody there screaming Italia. Officer 2: Aah, OK, OK everybody screaming that they don\\'t want Greece and they want Italy? Lucky Sailor captain: Yes, yes, yes. Officer 2: OK Lucky Sailor captain: They are all like crowded people, very crowded, full deck. Officer 2: OK, captain. So you have finished with the supplies? Lucky Sailor captain: Yes, sir, yes. Officer 2: Captain, I want this, I want this to write it in your logbook. The bridge logbook. Lucky Sailor captain: Yes OK, we will write it. Officer 2: OK? Lucky Sailor captain: Yes Officer 2: I want you to write it about that they don\\'t want to stay in Greece and they want to go to Italy. They want nothing from Greece and they want to go to Italy. Lucky Sailor captain: OK, yes, yes. Another vessel, the Faithful Warrior, also gave some supplies to the migrant boat but no further conversations between its captain and the Greek authorities have emerged. The Greek coastguard did not comment on the contents of the conversations but told the BBC it had submitted \"all the material it had in its possession, including the audio recordings and the diaries of events\" to the Maritime Court Prosecutor\\'s Office, which is investigating. It said it had rescued more than a quarter of a million migrants in danger at sea in the last decade and arrested more than a thousand smugglers, and that its humanitarian work had been recognised internationally. Our BBC investigation in the immediate days after the sinking challenged the Greek authorities\\' explanation for the disaster. Analysis of the movement of other ships in the area suggests the overcrowded fishing vessel was not moving for at least seven hours before it capsized. The coastguard has always insisted that during these hours the boat was on a course to Italy and not in need of rescue. Last year, a Greek court threw out charges against nine Egyptian men who were accused of causing the shipwreck.  The judges in the southern port city of Kalamata ruled they did not have jurisdiction to hear the case, on the grounds the vessel sank in international waters. The indictment had showed that the defendants were being prosecuted on evidence that had already been contradicted by at least six survivors, who told the BBC the coastguard had caused their boat to capsize and then pressured them to frame the Egyptians. Human rights lawyer, Dimitris Choulis, who represented some of the accused Egyptians said he was not surprised by what these recordings. \"We know about the coastguard\\'s tactics of either pushing back or not rescuing people.\" He claimed there had been \"an attempted cover up from day one.\" \"They [Greek authorities] told the story \\'they did not want to be rescued\\' and so have insulted the memory of so many dead people,\" he told the BBC. Human rights groups, including Amnesty International and Human Rights Watch, have said they have strong reservations about the integrity of the Greek investigation and have called for an international investigation. The Greek Ombudsman - an independent authority removed from the government - has been looking at the allegations. The disaster is also being examined by the Greek Naval Court. In the western city of Oberhausen the BBC finds conflicting attitudes towards immigration ahead of the vote. Six men have been arrested over their suspected involvement in a major people smuggling ring. The number of people crossing the Channel in small boats has led the government to promise action. Researchers at LJMU use new techniques to identify people who have died on migrations across Europe. Lorry driver Nathan Rimmington says outlook on life has changed after replicating refugees\\' journey. Copyright 2025 BBC. All rights reserved.\\xa0\\xa0The BBC is not responsible for the content of external sites.\\xa0Read about our approach to external linking. \\xa0',\n",
       " 'North Korea has sent more soldiers to Russia and re-deployed others to the frontline in the western Kursk region, according to South Korea\\'s intelligence agency.  It said the exact number of extra troops sent was unknown, but military officials quoted in South Korean media have said they believed it was at least 1,000.  Neither Moscow nor Pyongyang have confirmed the new deployment. North Korea is thought to have suffered heavy losses in the four months since its troops were first deployed to help Russia in its war with Ukraine.  In January, Western officials told the BBC they believed at least 1,000 of the 11,000 troops sent from North Korea had been killed in the past three months. North Korea and Russia did not comment.  The South Korean intelligence agency also said on Thursday that North Korean troops already in Russia had been re-deployed to the front line in Kursk at the start of February \"after about a month of lull\".  Ukrainian special forces fighting in Kursk told the BBC in January that they had not seen any North Korean troops for weeks. Ukrainian President Volodymyr Zelensky later confirmed they had returned to the front line.  Earlier reports attributed to South Korean intelligence suggested that the North Korean soldiers were unprepared for modern warfare, and were especially vulnerable to Ukrainian drones. However, defectors and other military experts have told the BBC these troops should not be underestimated. Russian President Vladimir Putin launched a full-scale invasion of Ukraine in February 2022. The fighting has led to heavy losses on both sides. Last August, Ukraine made a lightning thrust into the Russian Kursk region, taking border guards by surprise. Russia has been trying to drive them out ever since.  While Ukraine\\'s gains have since been steadily pushed back, partly due to the arrival of the North Koreans in Russia in October, it still retains hundreds of square kilometres of Russian territory and is inflicting huge losses on its enemy. Russia\\'s military has not publicly revealed its battlefield casualties since September 2022, when it said 5,937 soldiers had been killed. Zelensky has put Ukraine\\'s military casualties at 45,100 - but a number of military experts in both Ukraine and the West believe the losses are much higher. Reports began emerging that North Korean soldiers had been deployed in October, following the deepening of bilateral ties between Putin and North Korean leader Kim Jong Un. This included the signing a security and defence treaty. Denis Shmyhal said the Ukrainian government would not sign a deal without security guarantees. The UK says it will boost defence spending, as arguments continue about whether Ukraine could join Nato. The UK and France abstain as the UN Security Council passes a text that does not criticise Moscow. The proposal to give the US access to minerals would also include those from territories taken from Ukraine. During a visit to the White House, the French leader said any peace deal must \"not be a surrender of Ukraine\". Copyright 2025 BBC. All rights reserved.\\xa0\\xa0The BBC is not responsible for the content of external sites.\\xa0Read about our approach to external linking. \\xa0',\n",
       " 'Ukrainian President Volodymyr Zelensky will meet US President Donald Trump in Washington on Friday to sign an agreement on sharing his country\\'s mineral resources, Trump has said.  Zelensky has described the bilateral deal as preliminary, and said he wants further agreements which include US security guarantees to deter renewed Russian aggression.  But Trump said the US would not provide guarantees \"beyond... very much\", saying the responsibility should instead fall to Europe. Trump also seemingly ruled out the prospect of Ukraine becoming a Nato member - one of Zelensky\\'s long-held ambitions.  Speaking at a meeting of his cabinet on Wednesday, Trump said the presence of American workers extracting rare earth metals on Ukrainian soil would provide \"automatic security\" for Ukraine.  He said Kyiv should \"forget about\" joining Nato and repeated Russia\\'s claims that the issue was one of the driving factors behind the war.  The US president suggested a ceasefire between Ukraine and Russia was not far off, telling reporters: \"We\\'re going to make a deal with Russia and Ukraine to stop killing people.\" But Zelensky said without security guarantees \"we won\\'t have a ceasefire, nothing will work, nothing\".  \"I want to find a Nato path or something similar,\" he said.  Russia has consistently opposed the idea of Ukraine becoming a member, fearing it would bring Nato forces too close to its borders. In 2008, the alliance had said that Ukraine could eventually join. Trump has suggested European peacekeeping troops could be stationed in Ukraine as part of a ceasefire deal, but Russia says it is against this.  European representatives, however, were not included in Washington\\'s initial talks with Russia. Speaking to the BBC on Wednesday, Kaja Kallas, the EU High Representative for Foreign Affairs and Security Policy, said \"for any kind of deal to work on European soil, you need the Europeans to also agree to it\". She said the mineral resources deal was up to Ukraine, but any peace agreement would \"need the Europeans on board\". Ms Kallas\\' scheduled meeting with Secretary of State Marco Rubio on Wednesday was abruptly cancelled, with both sides citing scheduling issues. Zelensky said the success of the minerals deal, which was formally backed by his government on Wednesday evening, would depend on the outcome of his meeting with Trump this week. Key details have not yet been made public, but Ukrainian Prime Minister Denys Shmyhal said it envisages an \"investment fund\" for Ukraine\\'s reconstruction. The prospect of a deal was first proposed by Zelensky last year as a way to offer the US a tangible reason to continue supporting Ukraine. But disagreements over its substance exacerbated tensions between Trump and Zelensky in recent weeks.  The Ukrainian president had rejected an initial request from the US for $500bn (£395bn) in mineral wealth, but media reports suggest this demand has now been dropped. There are also differences in how both sides are now describing the deal. Trump has lauded the \"very big agreement\" as an opportunity for the US to get its \"money back\" after funding aid to Ukraine.  But Zelensky has instead referred to it as a \"framework agreement\" upon which he hopes further deals can be made. Trump has said he wants a quick end to the war in Ukraine and has sought to reset relations with Russia. After a phone call with Russian President Vladimir Putin, the two leaders sent delegations to Saudi Arabia in bilateral talks which excluded Ukraine.  In response, Zelensky accused the US of helping Putin \"break out of years of isolation\" and Trump of living in a \"Russian disinformation space\".  Ukraine is a country rich in natural resources. Kyiv estimates that about 5% of the world\\'s \"critical raw materials\" are there. But accessing some of these resources will not be completely straightforward.  Some of the mineral deposits have been seized by Russia. According to Yulia Svyrydenko, Ukraine\\'s economy minister, resources worth $350bn (£277bn) remain in occupied territories today. There are warnings too that Ukraine first needs to addresses its problem with unexploded mines before striking a deal with the US. A quarter of Ukraine\\'s landmass is estimated to be contaminated with landmines, mainly concentrated in the war-torn east of the country. Putin has also said he is open to offering the US access to rare minerals, including from Russian-occupied Ukraine. UK Prime Minister Sir Keir Starmer will also be meeting both Trump and Zelensky separately this week to discuss the war in Ukraine. He is due to arrive in Washington later on Wednesday. Andrew Tate and his brother Tristan have left Romania, where they were previously under a travel ban. Zelensky had no experience of politics when he was elected but is now a symbol of Ukrainian defiance. Tariffs are a central part of Trump\\'s political vision, but economists warn they could put prices up. The decision goes against a lower court judge\\'s ruling that the government had to pay aid contractors. The first minister is calling on civic Scotland to come together and tackle populist politics. Copyright 2025 BBC. All rights reserved.\\xa0\\xa0The BBC is not responsible for the content of external sites.\\xa0Read about our approach to external linking. \\xa0',\n",
       " 'Sir Keir Starmer has set out plans to increase defence spending to 2.5% of national income by 2027. The prime minister said he would cut the foreign aid budget to fund the military boost - a move welcomed by the US administration but labelled a \"betrayal\" by development charities. Sir Keir will face MPs in the Commons on Wednesday before flying to the US, where Ukraine will be top of the agenda in a meeting with President Donald Trump. The spending announcement came as leaders across Europe looked to overhaul defence policies over fears the US could make a deal with Russia to end the Ukraine war which leaves the continent vulnerable. Trump - who has long called for European members of the Nato military alliance to spend more on defence - is attempting to cut a rapid deal to bring the Ukraine war to an end after speaking to Russian President Vladimir Putin. He has been a staunch critic of the previous US administration\\'s military support for Kyiv and wants Europe to play a bigger role in any future security guarantees for Ukraine. On Tuesday, Ukrainian officials confirmed to BBC News a deal had been reached which gives American firms access to the country\\'s vast deposits of valuable rare earth minerals, which Trump signalled could mean continued US military support for Kyiv until a ceasefire with Russia is reached. Announcing the defence spending plan, Sir Keir said the UK\\'s aid budget would be reduced from 0.5% of gross national income to 0.3% in 2027, \"fully funding the investment in defence\", which will rise from 2.3% of GDP. He told the Commons that would mean spending £13.4bn more on defence every year from 2027.  Last year the UK spent £53.9bn on defence. The prime minister said defence spending would rise to 2.6% of GDP by 2027, once the contribution of intelligence services to defence had been factored in. The move was praised by US Defence Secretary Pete Hegseth, who called it a \"strong step from an enduring partner\".  Urging European allies to step up, Sir Keir said the UK would also set out a \"clear ambition\" to increase defence spending to 3% of GDP after the next general election. Holding a news conference following the announcement, Sir Keir said an election  pledge to raise defence spending to 2.5% of GDP had been brought forward \"in light of the grave threats that we face\", with the country facing a \"dangerous new era\".  Asked if pressure from Trump had pushed him to act, Sir Keir insisted it was \"very much my decision, based on my assessment of the circumstances that we face as a country\". But he conceded \"the last few weeks have accelerated my thinking\". \"I think in our heart of hearts we\\'ve all known that this decision has been coming for three years, since the beginning of the conflict in Ukraine,\" the prime minister added. In its election manifesto, Labour pledged to restore development spending to 0.7% of gross national income \"as soon as fiscal circumstances allow\" - a goal the government says it is still committed to. Charities were stunned by the aid cut, with Save the Children calling it \"a betrayal of the world\\'s most vulnerable children and the UK\\'s national interest\". \"There is nothing respectful about slashing lifelines for families in the most dangerous places,\" the charity\\'s chief executive Moazzam Malik said. Labour MP Sarah Champion, who chairs the Commons International Development Committee, called on the government to \"rethink today\\'s announcement\". \"Cutting the aid budget to fund defence spending is a false economy that will only make the world less safe,\" she said. Responding to the criticism, Sir Keir said it was \"not a decision I wanted to make\" but he argued there was \"no driver of migration and poverty like conflict\". The hike in defence spending will help the UK\\'s armed forces, which have experienced severe cuts since the end of the Cold War.  However, it will not completely reverse the decline in the country\\'s military capability.  Even before this extra cash injection, the Ministry of Defence was facing a black hole in its equipment budget of around £17bn over the next decade, according to the National Audit Office. A large part of the increase will go towards plugging holes in underfunded programs and fixing urgent shortages in munitions, according to Malcolm Chalmers, deputy director of the Royal United Services Institute think tank. But he said the commitment to reach 3% of GDP by the mid-2030s could lead to a \"transformation in how our military fights\", giving the armed forces the ability to plan long-term and \"ensuring that innovation is not always squeezed out by spending on big platforms\". Dr Simon Anglim, a fellow at the Department of War Studies at King\\'s College London, said spending 3% of GDP on defence by 2030 is \"the barest minimum\" to build a military strong enough to deter Russia. If the US were to withdraw military support \"we may have to start talking about more than that\", he told the BBC. Sir Keir had previously said the government would set out a pathway to spending 2.5% of GDP on the military by the next general election, following a review of the country\\'s defence capabilities. But rapid diplomatic developments, spurred by Trump\\'s push to end the war in Ukraine, injected urgency into decisions about defence. It is unclear if the increase will impress Trump, who has been telling European Nato allies they should be spending something more like 5% on defence.  Nato guidelines suggest each member state should spend at least 2% of their GDP, but recently the organisation\\'s head, Mark Rutte, said allies should be aiming for something \"north of 3%\". The prime minister\\'s trip to the White House later this week follows French President Emmanuel Macron\\'s talks with Trump on Monday. Sir Keir will also host European leaders in the UK this weekend to discuss their future defence. Conservative leader Kemi Badenoch welcomed the increase in defence spending and the \"repurposing\" of money from the aid budget. But she did question whether the government had a strong enough economic strategy to underpin the rise in spending on defence. The Liberal Democrats have previously called for cross-party talks on reaching 3% of GDP on defence \"as soon as possible\". Party leader Sir Ed Davey welcomed the announcement but urged the government to \"raise the money in different ways\" through seizing frozen Russian assets or by increasing taxes on multi-national tech companies.  The SNP\\'s Westminster leader, Stephen Flynn, said that whilst his party backed the increase in defence spending, it could not support \"the populist playbook\" of cutting aid to fund it. The prime minister announced the UK will reallocate aid funds to boost military spending to 2.5% of GDP by 2027. It comes as ministers face pressure to set out defence plans after talks begin to end war in Ukraine. Nato expects 23 of its 32 members to have met the target of spending 2% of GDP on defence in 2024. Business Secretary Jonathan Reynolds says the UK could act as a \"bridge\" between the US and Europe. Only a \"remote chance\" Russia would directly attack the UK if the countries were at war, Admiral Radakin said. Copyright 2025 BBC. All rights reserved.\\xa0\\xa0The BBC is not responsible for the content of external sites.\\xa0Read about our approach to external linking. \\xa0',\n",
       " 'Shares in electric car maker Tesla have slumped more than 9% after EU and UK sales fell by almost half in January. The drop in Tesla shares took the company\\'s valuation back below $1trn for the first time since November 2024. Tesla has been facing stiff competition in the European market from Chinese and other manufacturers. In addition, Tesla owner Elon Musk has been making controversial political waves on both sides of the Atlantic, an analyst said. Tesla sales in January bucked European electric car sale trends, which grew by more than a third in the month, according to trade body Acea. Instead, Tesla sales across the EU, EFTA and the UK fell more than 45%, and more than 50% in the EU alone. It comes after Tesla sales fell last year for the first time in more than a decade as demand faltered and rivals gained pace. The main factor in the January sales slump was likely to be increasing competition, AJ Bell investment director Russ Mould said. Chinese manufacturer BYD has been making big strides, in part because it includes as standard some features which cost extra from other makers, Mould said. However, some car buyers may also be taking a \"principled stand\" on Musk\\'s political interventions, he said. Musk has made waves in the US with his involvement in slashing US development funds and efforts to drastically reduce US federal funding. In the UK he supports jailed far-right activist Stephen Yaxley-Lennon, also known as Tommy Robinson, and repeatedly criticised Prime Minister Sir Keir Starmer. Musk also supports the far-right AfD party in Germany, and congratulated its leader after the party\\'s record second-place result in elections. Asked if the reason for Tesla\\'s share price slump was down to Musk being too toxic, a former senior director of the car maker\\'s Europe, Middle East and Asia division said it was \"definitely one of the reasons for the decline\", but added there was a \"cumulative number of things that are piling up a domino effect\". \"There\\'s no doubt his flirting with the right in politics, running around on TV with a chainsaw is not exactly helping his image,\" Peter Bardenfleth-Hansen told the BBC\\'s Today programme. \"He may be getting a bigger fanbase within a specific type of clientele, but they\\'re not the ones that are buying the Teslas. They\\'re not the ones putting money in to his company. So he has a problem.\" Tesla shares got a big boost after the US election due to Musk\\'s closeness to Donald Trump - Musk has described himself as \"first buddy\" to the US president. Investors thought this would stand his businesses in good stead. However, Trump is not a supporter of electric vehicles, and has said he will cancel efforts to boost their ownership. \"How anybody thought this was going to be good for Tesla, I don\\'t know,\" Mould said. There is also general market skittishness about the path of interest rate cuts and concerns about Trump tariff plans that could be contributing to the fall, he added. Copyright 2025 BBC. All rights reserved.\\xa0\\xa0The BBC is not responsible for the content of external sites.\\xa0Read about our approach to external linking. \\xa0',\n",
       " 'Relations between Europe and the US are unquestionably in crisis, so merely keeping things together as French President Emmanuel Macron did at the White House on Monday stands as an achievement. He did that by praising, flattering and gently cajoling the US president as they took questions in the Oval Office and held a joint news conference. This is a playbook that many leaders around the world now see as more productive than outright plain speaking or criticism of Trump. Macron managed to navigate what could have been a tricky day in Washington without conceding or revealing too much.  He spoke of both countries wanting peace, and while he gently corrected one of Trump\\'s claims on Europe\\'s support for Ukraine, he also agreed that Europe needed to take more responsibility for its own security. But Macron did make one important concession – that Trump was right to re-establish some kind of relationship with Russia\\'s Vladimir Putin. That is in sharp contrast to the view up until now in London, Paris and Berlin, which have all pursued a policy of isolating Putin and slapping sanctions on Russian industries and individuals. \"There is good reason for President Trump to re-engage with President Putin,\" Macron said, adding that the new administration represented \"a big change\". Macron held out the prospect of European countries such as France and the UK being willing to play a leading role in ensuring the security of a post-truce Ukraine, possibly in the form of air power and troops stationed away from the frontline. But at the same time, he stressed the importance of having an American backstop. Macron, however, did not get a commitment of US back-up from his meeting in the Oval Office. And if he was looking for a scintilla of criticism of the Russian president from Trump, then he did not get that either. What he did get was, at least to some extent, Europe\\'s voice back at the table and he, along with other European leaders, will take some heart from that. It is clear however, that the ambitions for re-establishing the kind of close relationship that Europe and the US have had since the end of World War Two are not on anyone\\'s roadmap. That is why Macron himself has been working on the idea of a more strategically autonomous Europe for some time, toying with ideas of combined European defence forces. His sense that Europe needs to adapt given the dramatic shift in the US position is shared by Friedrich Merz, who will be Germany\\'s next chancellor. Merz has already said that he believes the US under Donald Trump is indifferent to Europe\\'s fate, and that the continent needs to be independent of the US in terms of security. \"My absolute priority will be to strengthen Europe as quickly as possible so that, step by step, we can really achieve independence from the USA,\" Merz said. But France, the UK and Germany have also got to be cognisant of the fact that not all European powers are so hostile to the US view on Ukraine. The rise of far-right nationalist parties in Europe, most notably in places like Germany where the AfD came second in Sunday\\'s elections, suggests some European citizens are also sceptical about the continent\\'s continued support for Kyiv. Later this week, UK Prime Minister Sir Keir Starmer, who has been closely co-ordinating with his French counterpart, will come to Washington to reinforce their case on Ukraine. He, like Macron, believes his country has a special relationship with the US which can open doors and get a fair hearing. The problem is that Washington in the shape of Donald Trump is on transmit mode at the moment – pushing an agenda that leaves little room for the opinion of others. And while America has always had the ability to flex its muscles and get its way, Europe for the most part has not been on the receiving end. The fact that has changed is a sign of just how serious this rupture in established alliances has become. Follow the twists and turns of Trump\\'s second presidential term with North America correspondent Anthony Zurcher\\'s weekly US Politics Unspun newsletter. Readers in the UK can sign up here. Those outside the UK can sign up here. Andrew Tate and his brother Tristan have left Romania, where they were previously under a travel ban. Zelensky had no experience of politics when he was elected but is now a symbol of Ukrainian defiance. Tariffs are a central part of Trump\\'s political vision, but economists warn they could put prices up. The decision goes against a lower court judge\\'s ruling that the government had to pay aid contractors. Trachtenberg, 39, found fame in television series Buffy the Vampire Slayer, and later Gossip Girl. Copyright 2025 BBC. All rights reserved.\\xa0\\xa0The BBC is not responsible for the content of external sites.\\xa0Read about our approach to external linking. \\xa0',\n",
       " 'The US has twice sided with Russia in votes at the United Nations to mark the third anniversary of the Russian invasion of Ukraine, highlighting the Trump administration\\'s change of stance on the war. First, the US opposed a European-drafted resolution condemning Moscow\\'s actions and supporting Ukraine\\'s territorial integrity - voting the same way as Russia and countries including North Korea and Belarus at the UN General Assembly (UNGA) in New York. Then the US drafted and voted for a resolution at the UN Security Council which called for an end to the conflict, but contained no criticism of Russia. The Security Council passed the resolution, but two key US allies, the UK and France, abstained after their attempts to amend the wording were vetoed.   The UN resolutions were tabled as French President Emmanuel Macron visited President Donald Trump at the White House in an attempt to address their sharp differences over the war.       On Thursday, British Prime Minister Sir Keir Starmer will likewise visit the new American leader.   Trump\\'s White House has upended the transatlantic alliance, currying favour with Moscow and casting doubt on America\\'s long-term commitment to European security.  That rift was laid bare on the floor of the 193-member UNGA on Monday as US diplomats pushed their limited resolution mourning the loss of life during the \"Russia-Ukraine conflict\" and calling for a swift end to it.  European diplomats tabled a more detailed text, blaming Russia for its full-scale invasion, and supporting Ukraine\\'s sovereignty and territorial integrity.  \"We need to reconfirm that the aggression should be condemned and discredited, not rewarded,\" said Ukrainian Deputy Foreign Minister Mariana Betsa. UNGA members backed the European resolution by 93 votes but, extraordinarily, the US did not abstain but actually voted against it, along with Russia, Israel, North Korea, Sudan, Belarus, Hungary and 11 other states, with 65 abstentions.  The UNGA also passed the US resolution but only after it was amended to include language supporting Ukraine, which led to the US abstaining. Republican Senator John Curtis said he was \"deeply troubled\" by the vote \"which put us on the same side as Russia and North Korea\". \"These are not our friends. This posture is a dramatic shift from American ideals of freedom and democracy,\" he wrote on X.   The vote was \"contrary to our long-standing support of democracy\", said former US House of Representatives Speaker Nancy Pelosi.  Ukraine\\'s former minister of economy, Tymofiy Mylovanov, said the choice to side with Russia was deliberate.  \"This is no longer just rhetoric or political theatre,\" he said.  At the much more powerful 15-member UN Security Council, the unamended US resolution - which called for an end to the conflict but contained no criticism of Russia - was passed by 10 votes, with the UK, France, Denmark, Greece and Slovenia abstaining. America\\'s acting envoy to the UN, Dorothy Camille Shea, described the US resolution as a \"simple historic statement... that looks forward, not backwards. A resolution focused on one simple idea: ending the war\". Rarely has the US been so at odds with its supposed European allies.     Since Russia invaded Ukraine three years ago, the Security Council has been deadlocked by the power of Russia, one of its five permanent members, to veto any resolution there. For this reason the UNGA has been the main forum for debating the war. But its resolutions are not legally binding for member states, unlike those of the Security Council.  Follow the twists and turns of Trump\\'s second presidential term with North America correspondent Anthony Zurcher\\'s weekly US Politics Unspun newsletter. Readers in the UK can sign up here. Those outside the UK can sign up here. Andrew Tate and his brother Tristan have left Romania, where they were previously under a travel ban. Zelensky had no experience of politics when he was elected but is now a symbol of Ukrainian defiance. Tariffs are a central part of Trump\\'s political vision, but economists warn they could put prices up. The decision goes against a lower court judge\\'s ruling that the government had to pay aid contractors. Trachtenberg, 39, found fame in television series Buffy the Vampire Slayer, and later Gossip Girl. Copyright 2025 BBC. All rights reserved.\\xa0\\xa0The BBC is not responsible for the content of external sites.\\xa0Read about our approach to external linking. \\xa0',\n",
       " 'A Spanish city has honoured two Senegalese migrants for their heroism in trying to save a gay man beaten to death by a homophobic mob. Ibrahima Diack and Magatte N\\'Diaye were given \"adopted sons of the city\" status in A Coruña on Monday in a formal ceremony recognising their actions. The men were the only ones to intervene in July 2021, when Samuel Luiz was set upon by a group of men and kicked and punched outside a nightclub in the north-western city. The 24-year-old later died of his injuries in hospital - an event which sparked national outrage and condemnation. On Monday, at a formal ceremony in the city council\\'s hall, Mayor Inés Rey described the migrants\\' actions as \"pure altruism\".  Footage of that night showed other bystanders watching on, some filming on mobiles, and the two being the only ones who intervened. \"That two undocumented migrants were the only ones who physically risked themselves to help the victim of a pack thirsting for horror leaves much food for thought and a series of lessons,\" Mayor Rey said. \"Thank you for your example in risking everything despite having a lot to lose,\" said another councillor, Rosalía López, on Instagram in a post sharing videos of the ceremony. Mr Diack and Mr N\\'Diaye had been living in the city without papers at the time and doing irregular work, putting them at risk of arrest and deportation if they came into contact with authorities. But both men on Monday said they had just done what they thought was the right thing in trying to stop the violence. In front of friends, civic servants and other guests on Monday, they were handed plaques by the mayor bestowing them with the status of \"Adopted Sons of A Coruña\".  \"We are not heroes, we did what we had to do,\" said Mr N\\'Diaye, according to an AFP report. Mr Diack said: \"I was born in a family that doesn\\'t have much... but they gave me many things more valuable than money. They gave me respect, education and above all, values.\" The two were also crucial witnesses in the trial of Mr Luiz\\'s killers last November, Spanish media reported. A jury found four men guilty of the murder, with the court ordering sentences between 10 and 24 years. The court found the main accused - given a 24-year sentence - had shouted homophobic insults during the attack. Tens of thousands of migrants reach Spain illegally every year through boat crossings across the Atlantic - with the most common arrivals from Mali, Senegal and Morocco. The 14-year-old from London brought a case against his parents after being sent to school in Ghana. Herds have shrunk because of drought and dry pastures, so Moroccans are urged to abstain from slaughtering sheep. Rising stars of African journalism are encouraged to apply for the award, which is now in its 10th year. The BBC joins a mission aboard the Léon Thévenin to repair an undersea fibre optic cable. The UK says it is halting aid to Rwanda as a result of its support for the M23, a notorious rebel group. Copyright 2025 BBC. All rights reserved.\\xa0\\xa0The BBC is not responsible for the content of external sites.\\xa0Read about our approach to external linking. \\xa0',\n",
       " 'European leaders have been left stunned by the open rapprochement between US President Donald Trump and Russia\\'s Vladimir Putin - and not-so-subtle hints that the US may abandon its obligation to defend European allies. After World War Two, West European countries joined the US and Canada to set up Nato (North Atlantic Treaty Organization) to counter the then-Soviet Union.  The alliance\\'s famous Article 5 holds that Nato members will come to the defence of an ally which comes under attack. The US has long been the anchoring power, but now questions are being asked openly about Nato\\'s future - most recently by the man set to become Germany\\'s chancellor. Friedrich Merz said his aim would be to achieve independence from the US in terms of security. \"The events of the past week have shown that Trump has undermined Nato, undermined its secretary general and undermined the Article 5 of collective defence,\" said Armida van Rij, head of the European programme at the UK-based Chatham House think tank. \"The idea behind it was this all for one and one for all belief – and that\\'s been broken.\" While the Trump administration says it is not pulling out of Nato and remains committed to the defence partnership with Europe, it has warned that it will \"no longer tolerate an imbalanced relationship which encourages dependency\". Trump has consistently told European allies to considerably raise their financial contributions - at one stage last year he openly encouraged Putin to invade those who failed to pay their bills. But what is alarming, say experts, is how the message is being delivered as the war in Ukraine - the greatest security crisis for the continent in decades - rages. Under Trump, the US has started to even promote Russian objectives, said Chatham House defence analyst Minna Alander. \"It even looks like Trump outright switched sides into Russia\\'s team.\" Some of this pivoting by Trump includes:  \"This war is far more important to Europe than it is to us - we have a big, beautiful ocean as separation,\" Trump has said. The phrasing of Article 5 has long been understood as an automatic obligation by member states - and most significantly, the US military - to come to the other members\\' defence. But that does not always mean sending troops.  For example, if Estonia was invaded by Russia, the US could send a single surveillance plane in support and \"that would meet the letter if not the spirit of Article 5\", explained Edward Arnold, an analyst with the Royal United Services Institute, a defence and security think tank in London. \"There\\'s nothing to suggest that the US has to put its full forces in,\" he said.  \"But the assumption has always been under previous US presidents that that would happen, so now people are starting to worry.\"  The US is the dominant military power in Nato - committing about 70% of its capabilities and command, Mr Arnold said. Along with sheer numbers - the US has more than 100,000 troops deployed in Europe - Nato has relied on the US for key capabilities such as planes refuelling mid-air, moving troops or supplies via aircraft, and military mobility. The US also provides the bulk of nuclear weapons, as well as significant intelligence, logistics, and reconnaissance tools. And it has always been seen as group leader. The Supreme Allied Commander for Europe - the top military leader in Nato - has always been an American and Americans are in most senior Nato roles. \"Because the US is militarily so overpowering, it has always been a natural leader of Nato,\" says Ms Rij. No other single European Nato ally can step into that space, she says \"because no one has the capabilities or troop levels\". The US warned a decade before Trump that Europe would need to step up its defence.  Under Joe Biden, it declared its top security priority would be the Indo-Pacific theatre, amid its competition with China, and thus a shift away from Europe. Russia\\'s invasion of Ukraine pulled the US\\'s focus back on Europe. But Trump\\'s direction this past fortnight has been the push for a drastic rethink. Merz said after his German election victory that his \"absolute priority will be to strengthen Europe as quickly as possible so that, step by step, we can really achieve independence from the USA\". He even said he wasn\\'t sure if an alliance leaders meeting in June \"would still be talking about Nato in its current form or whether we will have to establish an independent European defence capability much more quickly\". Once in office, Merz will be one of the European Big Three, which includes the UK and France in addition to Germany. The UK prime minister heads to Washington on Thursday, following the visit there on Monday by French President Emmanuel Macron. \"I don\\'t think there are any good options for Europe at the moment. It\\'s more about avoiding the worst one,\" said Mr Arnold.  \"It is about mitigating risk. It\\'s not about keeping NATO together in its current form.\" The Europeans are acting quickly. Greece, Norway and others have voiced concerns while Denmark last week announced a major increase in defence spending. The UK also announced a hike on Tuesday, cutting foreign aid to fund the extra £13bn a year. Keir Starmer warned it was a \"painful\" choice, but said defence and security of the country comes first.  Mr Arnold says it\\'s the price Europeans will have to pay, especially as \"we\\'ve sent so much stuff to Ukraine now, our own stocks are quite dry\". We are seeing now what is a \"long term shift\" in the global security order, he said. \"The US is not the ally that it once was, and it is very, very unlikely to ever go back to that view,\" he said. President Trump has repeatedly claimed that the US has given over $300bn to Ukraine, but he is incorrect. The reports of a new deployment come after Pyongyang was said to be suffering heavy losses in the Kursk region.  Andrew Tate and his brother Tristan have left Romania, where they were previously under a travel ban. Tariffs are a central part of Trump\\'s political vision, but economists warn they could put prices up. The decision goes against a lower court judge\\'s ruling that the government had to pay aid contractors. Copyright 2025 BBC. All rights reserved.\\xa0\\xa0The BBC is not responsible for the content of external sites.\\xa0Read about our approach to external linking. \\xa0',\n",
       " 'One in five German voters put an X in the box for Alternative for Germany (AfD) on Sunday: a record result that has made them the second biggest force in German politics. Riding on the back of that success, the party is now calling for an end to the consensus in German politics not to work with the far right. That \"firewall\" - Brandmauer in German - has worked since the end of World War Two, but AfD joint leader Tino Chrupalla says: \"Anyone who erects firewalls will get grilled behind them.\" There is a determination among all of Germany\\'s main parties to keep that block in place - and the German public backs them up: 69% see the AfD as a threat to democracy, according to voters surveyed on Sunday. Friedrich Merz, who won the election for the conservatives, believes the only reason the AfD exists is because of problems such as migration and security that need to be addressed: \"We need to resolve these problems... then that party, the AfD, will disappear.\" The AfD won 20.8% of the vote nationally, and as the light blue areas of the map show, it was dominant in the five states in the east, securing 34%. \"East Germans have made it very clear they no longer want a firewall,\" said Tino Chrupalla. Friedrich Merz will now go into talks on forming a government with the Social Democrats, who came third.  Even though his party won 28.6% of the vote, it was still their second-worst result since World War Two.  Support for the AfD doubled, and a million of their voters deserted Merz\\'s conservatives for them, according to a survey by research institute Infratest dimap. Voters have not been put off by the fact that Germany\\'s domestic intelligence classifies parts of the AfD as right-wing extremist - or that the party has now embraced a policy called \"remigration\".  The AfD argues that remigration means deporting immigrants convicted of crime, but the term has been used by the extreme right to mean mass deportations. One of the big issues for the Christian Democrats is how to get their voters back and stop losing more. Merz has already flirted with the AfD in parliament, relying on their votes to push through a motion on migration.  But he was clearly stung by a public outcry and the mass protests that followed in many German cities. Germany\\'s chancellor-in-waiting is unlikely to try that again, especially if he forms a government with the centre-left.  But now the AfD has more than 150 seats in parliament, its supporters in particular believe it is time for the firewall to go. \"I just hope that the firewall will fall. But we all know that it won\\'t be like that,\" says pro-AfD TikTok influencer Celina Brychcy, 26. \"I think it will fall at the latest when new elections are held. Then they\\'ll have to realise at some point they can\\'t get through with what they\\'re doing right now.\" \"I think the Brandmauer will stay,\" says Dominic, 30, who voted for the AfD in Saxony. \"I want the government to really think about their own people and their own country.\" Read more on the German election here: Merz signals seismic shift in transatlantic relations Five key takeaways from German election Conservatives celebrate, but AfD doubles vote  Pressure to take down the long-standing firewall is not just coming from the AfD, but from leading figures in the Trump administration too, including US Vice-President JD Vance and Elon Musk, who has repeatedly backed the party. Most of the voices you hear challenging the firewall come from the east, which may not be surprising considering the deep reach of the AfD, especially in the five eastern states out of a total of 16 across Germany. They won 38.6% of the vote in Thuringia and 37.% in both Saxony and Saxony-Anhalt, far ahead of the CDU. It makes them increasingly difficult to keep at arm\\'s length. On one of the big talkshows on German TV on Monday night, Harsh but Fair, one local mayor from Saxony, Mirko Geissler, believed the AfD should be put on the \"playing field\", so they could show what they could do. If not, they would end up surging to 40-50% in the polls, he warned. Liane Bach, an independent mayor from a village in Thuringia said that in her region, \"AfD voters aren\\'t right-wing extremists\". A CDU politician on the programme, Phillip Amthor, conceded there should be \"no firewalls between the democratic parties and people who vote AfD\". That is the main issue the big national parties will have to address. How to avoid ostracising AfD voters who clearly have no problem with the firewall being breached. One mayor pointed out that one of her fellow residents who was also an AfD councillor was fixing the local fountain. It made no sense not to work with him. Prof Conrad Ziller from the University of Duisburg-Essen believes the greatest threat to the firewall could come at state level, rather than nationally. \"If you have trouble building a coalition in a state, then at some point, there could be a minority government that relies on the AfD, or gets votes from the AfD from time to time.\" On a national level, the worst-case scenario would be for a breakdown in a Merz-led coalition: \"Merz could make mistakes. If he gets really tough on immigration, it might become problematic with the SPD.\" Germany has already seen one early election because of a coalition collapse, and the AfD\\'s Alice Weidel has made clear she is looking for early elections. Her repeated appearances on TV election debates have made her a prominent figure in Germany and helped raise her party\\'s profile.  But it was the constant focus on migration and security that became the number one issue for AfD voters, partly fuelled by three deadly attacks, all allegedly carried out by immigrants. Tackling insecurity, and the perception of it, will be an immediate task for the next government, when it eventually takes shape. Underlying the urgency, Bavaria\\'s centre-right leader Markus Söder said the need to tackle immigration, along with Germany\\'s faltering economy, was \"in fact, the last bullet of democracy\". There is no question of breaching the long-standing firewall for the moment. And the general secretary of Merz\\'s party, Tom Unger, was adamant that there should be no collaboration with a party that opposed Germany\\'s ties with the West, its membership of Nato and \"the European idea\". That was incompatible, he said, with the conservatives\\' \"core DNA\". Friedrich Merz heralds a new era for Europe without the US as a key partner, writes Europe editor Katya Adler. The far-right Alternative for Germany (AfD) is expected to become the second biggest force in the country. Germany is at a crossroads and now for Friedrich Merz the hard work begins, writes Berlin correspondent Jessica Parker. Christian Democrats leader Friedrich Merz thanks those who placed their trust in the party and him. Conservative Friedrich Merz is expected to win, but the far-right AfD is set for a strong second place. Copyright 2025 BBC. All rights reserved.\\xa0\\xa0The BBC is not responsible for the content of external sites.\\xa0Read about our approach to external linking. \\xa0',\n",
       " 'British-American influencers Andrew and Tristan Tate - who are facing trial in Romania on charges of rape, trafficking minors and money laundering - have left the country after prosecutors lifted a two-year travel ban. Andrew Tate, 38, and his brother Tristan, 36, left Bucharest on a private jet early on Thursday. Both deny the allegations against them. Romanian prosecutors stressed the case against them had not been dropped and they would be expected to return, understood to be at the end of next month. However, their decision has raised concern that they came under pressure from leading figures in the Trump administration, with one leading Romanian politician saying she was outraged. The brothers are facing separate, unrelated charges in the UK over allegations of rape and human trafficking, which they also deny. A separate, civil case has been opened in the US. Romanian reports said they were heading to Fort Lauderdale in Florida on a non-stop flight that would take 12 hours, however the Tates\\' lawyer in Bucharest denied to the BBC that was their destination. The Tate brothers were first arrested in Romania in December 2022. The elder of the two, a former kickboxer who appeared on UK TV show Big Brother, was later accused of rape and human trafficking while his brother was suspected of human trafficking. They both denied those charges and spent several months under house arrest. A year later, in August 2024, they faced new allegations including sex with a minor and trafficking underage persons. Andrew Tate is a self-described misogynist who has attracted millions of followers online, despite being previously banned from social media platforms for expressing his views. He moved from the UK to Romania several years ago, however police in Bedfordshire are still seeking his extradition on separate and unrelated allegations of rape and human trafficking, as well as tax evasion. Thursday\\'s decision by Romanian prosecutors to lift the ban on the Tates leaving the country is believed to have come in the wake of comments from figures in the Trump administration earlier this month. The Tates have regularly posted messages in support of US President Donald Trump, and Tristan Tate has said his brother\\'s role in persuading \"millions of young men\" to back him \"cannot be overlooked\". Romania\\'s Foreign Minister Emil Hurezeanu told Romanian TV that Trump\\'s special envoy, Richard Grenell, had brought up the issue of the Tate brothers during a conversation at the Munich Security Conference earlier in February. Hurezeanu said his discussion with Trump\\'s envoy had only been an informal one and he had not considered Grenell\\'s approach as a \"form of pressure\". Grenell told the Financial Times his support for the brothers was evident from his \"publicly available tweets\". Four British women have also taken out a civil case against Andrew Tate at the UK High Court, alleging that he raped and coercively controlled them. Tate denies their allegations. They said it was clear he would not face criminal prosecution in Romania and appealed to UK authorities to take action. \"We are in disbelief and feel re-traumatised by the news that the Romanian authorities have given into pressure from the Trump administration to allow Andrew Tate to travel around Europe and to the US,\" the women said in a statement. Elena Lasconi, who is running for the Romanian presidency in May\\'s elections, six months after they were controversially cancelled, has called for the immediate resignation of the head of Romania\\'s organised crime investigations directorate DIICOT, which made the decision to let the brothers leave. \"I am outraged!\" she wrote on social media, \"as a woman, a human being and a Romanian.\" Lasconi said prosecutors should explain publicly whether their decision came as a result of external pressure. Prosecutors from DIICOT have emphasised that the judicial conditions for the brothers have not changed. Any violation of those obligations made in bad faith \"may lead to the replacement of judicial control with a higher measure of deprivation of liberty\", it said in a statement in Romanian. The Tates are understood to be required to return to Bucharest at the end of March to satisfy the prosecutors\\' terms, however it is too early to say whether they will comply with them. Romania is both a member of the European Union and a key Nato member state on the Western alliance\\'s eastern flank.  Senior Trump figures have also had the government in Bucharest in their sights over the court ruling that annulled last December\\'s presidential election. Romanian intelligence services said far-right candidate Calin Georgescu had been supported by a flurry of TikTok accounts engineered by Russia. Georgescu was indicted on Wednesday for attempted \"incitement to acts against the constitutional order\". Prosecutors are investigating a series of alleged offences, after Georgescu came from nowhere to win the first round. Charity says German Shepherd has spent her whole life chained to a tree. Two members of the Romanian community discuss how they have started businesses in the island. His exit comes as political opponents had sought to remove him over remaining in office beyond the end of his term. Several hundred well-paid foreign soldiers fighting on the side of the Congolese government surrender. Copyright 2025 BBC. All rights reserved.\\xa0\\xa0The BBC is not responsible for the content of external sites.\\xa0Read about our approach to external linking. \\xa0',\n",
       " \"A search at a house in Drogheda, County Louth, as part of the investigation into the murder of a six-year-old boy who disappeared more than two years ago, has entered a second day. Kyran Durnin was reported missing at the end of last summer but gardaí (Irish police) believe he may have been killed more than two years earlier. They began a murder investigation in October, saying they were treating Kyran as missing, presumed dead. That same month they carried out a dig at his former family home in Emer Terrace, Dundalk, but there was no sign of his body. On Wednesday, a white cordon was erected around a house on Hand Street in Drogheda. Officers from the Garda Technical Bureau undertook a forensic examination of the property, including the rear garden. A mini-digger was used to excavate land. Kyran had been a pupil at the national [primary] school near his home in Dundalk until the summer of 2022. He did not return to class after the summer holidays and it is understood authorities were told he was moving to Northern Ireland and to a new school in Newry. Tusla, the Irish state agency responsible for child welfare and protection, said it received no referrals or concern about Kyran's attendance or educational welfare between 2022 and 2024. In December, two houses were searched in Drogheda. One of the searches involved the use of a cadaver dog. The results of the searches were not made public. The Garda Commissioner Drew Harris previously said he had never seen a case like this in his 40-year career in policing on both sides of the border. A property in Drogheda, County Louth, is searched for a boy who is missing, presumed murdered. Police have released without charge a man in connection with the death of a woman on board a ferry. The President of Ireland has led tributes to the award-winning novelist and playwright Jennifer Johnston.  A man has been arrested in connection with the investigation and is currently detained. The gallery said the equipment was essential for examining paintings in a non-destructive way. Copyright 2025 BBC. All rights reserved.\\xa0\\xa0The BBC is not responsible for the content of external sites.\\xa0Read about our approach to external linking. \\xa0\",\n",
       " 'Catholics gathered to pray for the health of the Pope beneath the steps of St Peter\\'s Basilica for a third night, as his doctors said his condition showed further slight improvement. Nuns dangling rosary beads, tourists and student priests were among those who joined the gentle incantation of the rosary in the Vatican. They were led by a cardinal in a scarlet skull cap who prayed for Pope Francis to be able to resume his duties as soon as possible. The nightly gatherings began on Monday after the 88-year-old\\'s health took a dramatic dip at the weekend. He was fighting to breathe and needed blood transfusions. But the latest statements suggest the Pope is able to sit in his chair, is eating normally and even doing what the Vatican calls \"light work\": reading and signing documents. \"It was a bit scary last weekend but a bit better now,\" Stacey, a medical student from Paris, told the BBC. She was attending the prayers for the Pope for a second time. \"Francis is very popular with young people because he\\'s really open, and in a world that became a little scary, he gives us a lot of hope.\" Xiomara, from Panama, said she felt drawn to this Pope in particular as he was \"a good man\". \"Prayers always help, they don\\'t just hang in the air,\" she believes. Leading the rosary from beneath a white canopy was Cardinal Battista Re. He\\'s the figure in the Vatican who would call a conclave - the closed gathering of senior clergy that elects a Pope - if Francis were not able to continue in the role. Despite the slight improvement, the Pope\\'s medical team are still giving no prognosis. He was admitted to Gemelli hospital on 14 February with double-pneumonia and, according to the Vatican, a CT scan of his lungs shows a \"normal evolution\" which suggests he is responding to treatment. We\\'re told he still uses additional oxygen but has suffered no further \"respiratory crises\". The tone of Vatican officials has certainly relaxed a little. On Tuesday, the Pope\\'s condition was described as \"stable\", which was new. By Wednesday evening there was a \"further slight improvement\" and the update omitted to say \"critical\" for the first time. Vatican officials cautioned that didn\\'t mean the Pope was out of the woods. But with so little to go on, those following his condition closely are wringing every word - or missing word - for meaning. Inevitably, many have also been wondering about the future. The Pope was frail even before this infection, so there has been speculation over whether he might resign. The Quotidiano Nazionale newspaper calls it the \"fluttering of crows\" over St Peter\\'s, inevitable at the \"sunset\" of any Papacy. It\\'s even louder this time since Benedict XVI set a precedent and stepped down in 2013, the first Pope to do so in six centuries. Francis has said before that he would consider resigning if he can\\'t carry out his duties. \"His instinct will be to carry on as long as he can and is able to,\" believes Austen Ivereigh, who co-authored a book with Pope Francis.  \"He\\'s shown he doesn\\'t mind being a weak and frail Pope; he can be a Pope in a wheelchair, or one who gets ill regularly and that\\'s ok.\" All the same, if his health prognosis were too bad, the author said, \"then the [resignation] issue might arise.\" Even with Francis confined to the Gemelli hospital, the well-oiled Vatican cogs continue to turn. The bureaucracy functions and the Pope has been signing some documents. On Monday, his secretary of state and another senior official visited. Officially, the Pope signed papers, moving a list of candidates further along the path towards sainthood. But some question why they couldn\\'t wait, given the frailty of the Pope, and wonder what other plans were discussed at that meeting. As Francis enters his 14th day in hospital, pilgrims to Rome are already experiencing life without him. His weekly audience, or meeting, with the faithful was cancelled for the second week. \"We really want him to get better and continue the amazing work he\\'s started,\" said Mabi. She mentions the foregrounding of women in the church in particular. \"He\\'s a people\\'s Pope and people want his work to continue.\" \"We\\'re sorry, because we hoped to meet the Pope today at an audience – we had tickets,\" Fr Cristiano said. Around him almost 100 Catholics from northern Italy were gathering to begin processing up the street towards St Peter\\'s behind a large wooden crucifix. \"I\\'m not disappointed, I\\'m just worried for him,\" the priest said. \"Today the news is not so bad, but it\\'s not so good, either. So we need to pray.\" The Vatican says the Pope\\'s condition has improved as he spends an 11th day in hospital with double pneumonia. Pope Francis is \"more unwell than yesterday\", the Vatican says, adding his prognosis \"remains guarded\". The Gemelli hospital has been treating popes for more than thirty years.  The 88-year-old pontiff was admitted to hospital on Friday with a respiratory infection.  It said lab tests, a chest X-ray and the Pope\\'s clinical condition \"continue to present a complex picture\". Copyright 2025 BBC. All rights reserved.\\xa0\\xa0The BBC is not responsible for the content of external sites.\\xa0Read about our approach to external linking. \\xa0',\n",
       " 'Leaked audio instructions by Greek rescue co-ordinators have cast further doubt on Greece\\'s official version of events in the hours before a migrant boat sank along with up to 650 people onboard. The Adriana went down in the early hours of 14 June 2023 in international waters – but within Greece\\'s rescue zone - after leaving Libya days earlier. Survivors later told the BBC that coastguards had caused their overcrowded fishing boat to capsize in a botched attempt to tow it and then forced witnesses to stay silent.  The Greek coastguard denied these claims and maintains it did not try to rescue those onboard because they were not in danger and said they had voluntarily wanted to reach Italy, not Greece. But in a phone call that\\'s now emerged an unnamed man speaking from inside a Greek rescue coordination centre is heard instructing the captain of the migrant boat to tell an approaching ship that those onboard do not want to reach Greece. The coastguard has not commented on the audio but said it had handed over all available evidence to a Naval Court which is investigating the disaster. The sinking was one of the worst-ever disasters known to have happened in the Mediterranean Sea. It is estimated the boat was carrying up to 750 migrants when it set off from the port of Tobruk in Libya nearly a week earlier. Eighty-two bodies were recovered, but the United Nations believes an additional 500 people - including 100 women and children who were in the hold of the boat - may have died. Audio recordings obtained by Greek website News247.gr reveal phone calls involving the Joint Rescue Coordination Centre (JRCC) at the port of Piraeus, near the capital Athens. In the first call, at 18:50 local time (15:50 GMT)  on 13 June, an officer is heard explaining to the man piloting the migrant boat that a large red vessel will soon be approaching to give supplies and that he should explain that the migrants do not want to reach Greece. Officer 1: The replies of the man captaining the migrant boat are not heard. In a second call, 90 minutes later, at 22:10, a seemingly different officer from the same coordination centre, speaks to the captain of the Lucky Sailor (the \"big red ship\"). Officer 2: OK, captain, sorry before I couldn\\'t hear you. I couldn\\'t understand what did you say to me. You told me you gave them food, water and they told you that they don\\'t want to stay in Greece and they want to go to Italy, they don\\'t want anything else? Lucky Sailor captain: Yes because I asked them by megaphone \"Greece or Italia?\" and everybody there screaming Italia. Officer 2: Aah, OK, OK everybody screaming that they don\\'t want Greece and they want Italy? Lucky Sailor captain: Yes, yes, yes. Officer 2: OK Lucky Sailor captain: They are all like crowded people, very crowded, full deck. Officer 2: OK, captain. So you have finished with the supplies? Lucky Sailor captain: Yes, sir, yes. Officer 2: Captain, I want this, I want this to write it in your logbook. The bridge logbook. Lucky Sailor captain: Yes OK, we will write it. Officer 2: OK? Lucky Sailor captain: Yes Officer 2: I want you to write it about that they don\\'t want to stay in Greece and they want to go to Italy. They want nothing from Greece and they want to go to Italy. Lucky Sailor captain: OK, yes, yes. Another vessel, the Faithful Warrior, also gave some supplies to the migrant boat but no further conversations between its captain and the Greek authorities have emerged. The Greek coastguard did not comment on the contents of the conversations but told the BBC it had submitted \"all the material it had in its possession, including the audio recordings and the diaries of events\" to the Maritime Court Prosecutor\\'s Office, which is investigating. It said it had rescued more than a quarter of a million migrants in danger at sea in the last decade and arrested more than a thousand smugglers, and that its humanitarian work had been recognised internationally. Our BBC investigation in the immediate days after the sinking challenged the Greek authorities\\' explanation for the disaster. Analysis of the movement of other ships in the area suggests the overcrowded fishing vessel was not moving for at least seven hours before it capsized. The coastguard has always insisted that during these hours the boat was on a course to Italy and not in need of rescue. Last year, a Greek court threw out charges against nine Egyptian men who were accused of causing the shipwreck.  The judges in the southern port city of Kalamata ruled they did not have jurisdiction to hear the case, on the grounds the vessel sank in international waters. The indictment had showed that the defendants were being prosecuted on evidence that had already been contradicted by at least six survivors, who told the BBC the coastguard had caused their boat to capsize and then pressured them to frame the Egyptians. Human rights lawyer, Dimitris Choulis, who represented some of the accused Egyptians said he was not surprised by what these recordings. \"We know about the coastguard\\'s tactics of either pushing back or not rescuing people.\" He claimed there had been \"an attempted cover up from day one.\" \"They [Greek authorities] told the story \\'they did not want to be rescued\\' and so have insulted the memory of so many dead people,\" he told the BBC. Human rights groups, including Amnesty International and Human Rights Watch, have said they have strong reservations about the integrity of the Greek investigation and have called for an international investigation. The Greek Ombudsman - an independent authority removed from the government - has been looking at the allegations. The disaster is also being examined by the Greek Naval Court. In the western city of Oberhausen the BBC finds conflicting attitudes towards immigration ahead of the vote. Six men have been arrested over their suspected involvement in a major people smuggling ring. The number of people crossing the Channel in small boats has led the government to promise action. Researchers at LJMU use new techniques to identify people who have died on migrations across Europe. Lorry driver Nathan Rimmington says outlook on life has changed after replicating refugees\\' journey. Copyright 2025 BBC. All rights reserved.\\xa0\\xa0The BBC is not responsible for the content of external sites.\\xa0Read about our approach to external linking. \\xa0',\n",
       " 'A house in Drogheda, County Louth, is being searched as part of the investigation into the murder of a six-year-old boy who disappeared more than two years ago. Kyran Durnin was reported missing at the end of last summer but gardaí (Irish police) believe he may have been killed more than two years earlier.  They began a murder investigation in October, saying they were treating Kyran as missing, presumed dead.  That same month they carried out a dig at his former family home in Emer Terrace, Dundalk, but there was no sign of his body. On Wednesday, a white cordon was erected around a house on Hand Street in Drogheda.  Officers from the Garda Technical Bureau undertook a forensic examination of the property, including the rear garden.  A mini-digger was used to excavate land.  The search has been stood down for the night and is set to resume at first light on Thursday. Kyran was originally reported missing alongside his mother, Dayla Durnin, in August 2024. One of Kyran\\'s grandmothers claimed she had last seen them in her home in Drogheda and, at that time, she appealed for her daughter Dayla to contact her.  Dayla was later found alive in Great Britain without Kyran. Gardaí investigating the schoolboy\\'s disappearance have made two arrests during the course of their inquiry so far. A man and a woman were arrested two days apart in mid-December but they were both released without charge within a day of being detained.  The man, who was arrested on suspicion of Kyran\\'s murder, was found dead at his home in Drogheda just days after his release from custody.  He was named locally as 36-year-old Anthony Maguire.  Confirming the latest search at a \"domestic residence\" in Drogheda, gardaí said they were \"aware of ongoing extensive public commentary\" on their investigation.  They warned that most of the speculation, rumours and theories on what may have happened to Kyran was \"inaccurate and misinformed\". \"Such ill-informed public commentary is not only disruptive to the Garda investigations but also adds to the trauma experienced by victims families,\" they added. Kyran had been a pupil at the national [primary] school near his home in Dundalk until the summer of 2022.  He did not return to class after the summer holidays and it is understood authorities were told he was moving to Northern Ireland and to a new school in Newry. Tusla, the Irish state agency responsible for child welfare and protection, said it received no referrals or concern about Kyran\\'s attendance or educational welfare between 2022 and 2024. In December, two houses were searched in Drogheda. One of the searches involved the use of a cadaver dog. The results of the searches were not made public. The Garda Commissioner, Drew Harris, previously said he had never seen a case like this in his 40-year career in policing on both sides of the border. 2021-2022 - Kyran attends a national [primary] school near his home in Dundalk, but does not return to the school after the 2022 summer holidays. May 2024 - Kyran\\'s family move out of their home in Emer Terrace in Dundalk, where they had been living for a number of years. Unknown date in August 2024 - Tusla, the Irish state agency responsible for child protection, alerts gardaí about \"a significant concern about Kyran\". 30 August 2024 - Kyran and his 24-year-old mother Dayla Durnin are reported missing from their home in Drogheda. 4 September 2024 - Gardaí issue a public missing persons appeal, seeking help to find Dayla and Kyran. 16 October 2024 - Gardaí say they now believe that \"Kyran is missing, presumed dead\" and they confirm they have begun a murder inquiry. 22 October 2024 - Kyran\\'s former family home and garden in Emer Terrace, Dundalk, is searched by forensic investigators, as well as nearby open ground.  24 October 2024 - the Dundalk search ends, with gardaí adding that the results of the search are not being released for operational purposes. 31 October 2024 - Tusla declines to publicly release its review of its interactions with Kyran\\'s family, adding information it held on him was lost in a cyber attack. 10 December 2024 - A woman is arrested by gardaí investigating Kyran\\'s disappearance and murder but is released without charge the following day. 12 December 2024 - Two houses in Drogheda are searched and a man is arrested on suspicion of Kyran\\'s murder, but he too is released without charge the next day.   17 December 2024 - The man who had been arrested and released - named locally as 36-year-old Anthony Maguire - is found dead at his home in Drogheda.  26 February 2024 - Gardaí begin a forensic search at a \"domestic residence\" in Drogheda. Copyright 2025 BBC. All rights reserved.\\xa0\\xa0The BBC is not responsible for the content of external sites.\\xa0Read about our approach to external linking. \\xa0',\n",
       " 'A one-year prison sentence and a six-year ban on holding public office might seem like a heavy penalty for a politician.  But the Bosnian-Serb leader Milorad Dodik made light of the verdict at the Court of Bosnia and Herzegovina. The president of the country\\'s majority-Serb Republika Srpska region told supporters at a rally in the regional capital Banja Luka there was \"no reason to worry\". His conviction on charges of ignoring the rulings of the international High Representative was \"nonsense\", he said.  Dodik said he had \"learned to deal with more difficult things\" and called on the crowd in Republika Srpska\\'s de facto capital to \"be cheerful\". The verdict was the culmination of a long-running conflict between Dodik and the international High Representative for Bosnia and Herzegovina, Christian Schmidt. Schmidt is still the supreme authority in Bosnia, 30 years on from the Dayton Agreement which ended the Bosnian War of the 1990s.  The high representative has the power to impose or annul laws – and sack officials ranging from judges to political leaders. One former holder of the post, Paddy Ashdown, the former leader of the UK\\'s Liberal Democrats, sacked almost 60 Bosnian-Serb officials in a single day in 2004, in a crackdown on their protection of war criminals. But the high representative\\'s powers have been used much more sparingly in subsequent years, as Bosnia\\'s international supporters stepped back in the hope that local leaders would work together to create a viable and prosperous country. The strategy has not been a success. Ethno-nationalist leaders remain entrenched in a country which is divided into two \"entities\" – the majority-Serb Republika Srpska and the Federation, where the population are mostly Bosniaks and Croats. The central government is weak – and there is little incentive for parties to cooperate. Instead, their guiding philosophy is simple and self-interested: divide, rule and profit. As a result, the country is struggling with low wages, a sluggish economy and a constant flow of emigration by talented people seeking a better future elsewhere. \"Bosnians of all ethnicities are united by their disdain for their own leaders,\" says Toby Vogel, co-founder of the Democratisation Policy Council think tank. \"They would love not to vote for these guys, but it\\'s structurally almost impossible for cross-community politicians and parties to emerge.\" Instead, leaders like Dodik get elected, time after time. The leader of the SNSD party has previously served as the Serb representative of the three-person national presidency and first became prime minister of Republika Srpska in 1998. A constant theme of his leadership has been the threat to trigger the secession of the majority-Serb region.  Dodik and his government have consistently worked to undermine Bosnia\\'s national institutions, introducing a series of laws to withdraw Republika Srpska from the armed forces, judiciary and tax system. Such efforts eventually pushed the high representative to take action and annul the secessionist legislation.  Christian Schmidt warned that a renewal of conflict was possible, but insisted that he would \"not sit still while others seek to dismantle [decades] of peace, stability and progress\". Dodik apparently viewed that as a challenge. He approved a law declaring that Republika Srpska would no longer recognise Schmidt\\'s rulings. The high representative had already annulled the legislation – and made it a criminal offence to contradict his decisions. That led to the prosecution of the Bosnian-Serb leader – with prosecutors calling for a maximum five-year prison sentence and 10-year ban from holding elected office. Dodik warned he would take \"radical measures\" if found guilty. His conviction has not brought any fireworks so far. At this point, Dodik is insisting that he will not appeal. Instead, Republika Srpska\\'s government is once again proposing legislation to withdraw from national institutions – including the court which passed the guilty verdict. But Dodik is facing problems beyond Bosnia\\'s borders. The US and UK have imposed sanctions on him and his family for corruption - threatening the unity of Bosnia and Herzegovina - and connections with Russia.  Toby Vogel believes that is more likely to threaten the Bosnian-Serb leader than the court conviction. \"The conflict with the high representative will intensify,\" he says. \"But Dodik might well be running out of road.\" \"He is running out of cash to pay his bloated administration… and he can no longer raise money on international markets. So, he is in very deep trouble indeed.\" None of this will be much comfort to the long-suffering people of Bosnia and Herzegovina. They are still enduring the interminable wait for the prosperity promised by ethno-nationalists like Dodik. This latest court battle shows how distant that prospect remains. Copyright 2025 BBC. All rights reserved.\\xa0\\xa0The BBC is not responsible for the content of external sites.\\xa0Read about our approach to external linking. \\xa0',\n",
       " 'A British man has died and another was left injured while climbing in Norway. Norwegian media reported an avalanche fell while the men scaled a frozen waterfall at Gaustatoppen mountain on Friday. Rescuers reportedly failed to recover the man who died for several days due to poor weather conditions. The Foreign Office said: \"We are supporting the family of a British man who has died in Norway, and a British man who has been injured, and are in contact with the local authorities.\" An avalanche fell on the mountain in Norway\\'s southern Telemark county early on Friday afternoon, Norwegian media reported. Rescuers were said to have airlifted one of the climbers to hospital with non-fatal injuries on Saturday. Efforts to recover the second man were postponed several times due to bad weather, Norway\\'s NRK reported. \"Prevailing weather conditions, avalanche danger and accessibility made it a very complicated and demanding task to get in and down to the climbers,\" local emergency manager Tor Einar Bakken told the broadcaster. Fire and police officers reportedly recovered his body on Tuesday morning using ropes and by abseiling, as poor conditions meant it was not possible to use a helicopter. Hari Budha Magar, from Canterbury, climbed Mount Aconcagua in the Andes mountain range on Saturday. Ronald Mackinnon died after entering the water when the Njord capsized off Stavanger in 2022. Watford sign Norway goalkeeper Egil Selvik from Udinese for an undisclosed fee, on a three-and-a-half-year contract. Two separate avalanches killed four Norwegians and one Swiss skier.  The families of those killed are reacting to a new report which found they were failed. Copyright 2025 BBC. All rights reserved.\\xa0\\xa0The BBC is not responsible for the content of external sites.\\xa0Read about our approach to external linking. \\xa0',\n",
       " 'Far-right populist Calin Georgescu, who came from nowhere to win the first round of last year\\'s presidential election, has been detained by police and is facing criminal proceedings on a series of charges. Georgescu was stopped in traffic in the capital, Bucharest, on his way to register as a candidate for new elections in May, after last December\\'s second-round run-off was annulled by the constitutional court. Prosecutors said one of the charges involved attempted \"incitement to actions against the constitutional order\". Two right-wing populist parties said they were mobilising their supporters to head for the prosecutor\\'s office, where Georgescu was taken for questioning. Police were seen erecting barriers around the building and hundreds of demonstrators gathered to protest. Prosecutors said Georgescu was also being investigated for giving \"false information, false statements\" and for setting up an organisation with \"fascist, racist or xenophobic characteristics\" as well as forming an antisemitic organisation. The severity of the indictment could jeopardise Georgescu\\'s bid to run in the presidential election on 4 and 18 May. He has been placed under judicial control and told not to leave Romania, according to reports. As he left the prosecutor\\'s office, Georgescu told supporters he would continue to fight and that there was \"no difference between the communist mentality and system [that collapsed in 1989] and now\". The original presidential vote was cancelled before the second round last December, after the then president, Klaus Iohannis declassified intelligence documents that suggested that hundreds of TikTok accounts had been activated backing Georgescu.  Romanian foreign intelligence said Russia had been behind the move, as well as thousands of cyber-attacks and other sabotage. Iohannis had decided to stay in office until a successor was elected, but he resigned earlier this month ahead of an impeachment vote. Opposition politicians had at the time accused Iohannis of an undemocratic move, and Georgescu\\'s communications team repeated the claim against prosecutors. \"Where is democracy now?\" they posted on X on Wednesday, tagging President Donald Trump, Elon Musk and US Vice-President JD Vance. Earlier this month, the US vice-president accused Romania of annulling the elections based on \"flimsy suspicions\" of Romanian intelligence and pressure from its neighbours. Romanian Foreign Minister Emil Hurezeanu accused Elon Musk of a \"form of interference\" in Romania\\'s elections, after the billionaire posted several messages of support for Georgescu. Georgescu\\'s hopes of running for the presidency may end up at the constitutional court, which barred another far-right, pro-Russian candidate from running last year.  The decision to turn down Diana Sosoaca\\'s candidacy because of her views was widely criticised in Romania. Romania is a vital part of Nato\\'s eastern flank as well as being a member of the European Union.  Calin Georgescu has been accused of being pro-Russian and he has praised Romania\\'s fascist and nationalist leaders from the last century as heroes. He denied he was \"Moscow\\'s man\", in a BBC interview last year, but referred to Vladimir Putin as a \"patriot and a leader\" while pointing out \"I am not a fan\". Meanwhile, Romanian police said they had carried out raids in several counties around the country, targeting 27 individuals as part of a criminal case relating to the creation of an organisation \"with a fascist, racist or xenophobic nature\".  Investigations were also being conducted into false statements regarding the sources of election campaign funding, police said.  The statement made no mention of Georgescu himself and it was not clear if the raids were linked, however he said he was fighting a security system \"that wants us in slavery\". The influencers had been banned from travelling out of Romania for more than two years. Andrew Tate and his brother Tristan have left Romania, where they were previously under a travel ban. The 38-year-old former kickboxer once said women should \"bear responsibility\" for sexual assault. Charity says German Shepherd has spent her whole life chained to a tree. Reports say US officials asked Romania to relax travel restrictions against Andrew Tate and his brother. Copyright 2025 BBC. All rights reserved.\\xa0\\xa0The BBC is not responsible for the content of external sites.\\xa0Read about our approach to external linking. \\xa0']"
      ]
     },
     "execution_count": 100,
     "metadata": {},
     "output_type": "execute_result"
    }
   ],
   "source": [
    "def content_finder(link):\n",
    "    response = requests.get(link)\n",
    "    paragraphs = BeautifulSoup(response.content, 'html.parser').find_all('p')\n",
    "    main_text = ' '.join([p.text for p in paragraphs])\n",
    "    return main_text\n",
    "\n",
    "content = [content_finder(url) for url in url_finder()]\n",
    "\n",
    "print(f'Summary amount: {len(content)}')\n",
    "content"
   ]
  },
  {
   "cell_type": "markdown",
   "metadata": {},
   "source": [
    "## 1. Article Inspection: "
   ]
  },
  {
   "cell_type": "markdown",
   "metadata": {},
   "source": [
    "### Manually inspect a few articles to find unique attributes to identify the text, the headline, the published date, and the author."
   ]
  },
  {
   "cell_type": "markdown",
   "metadata": {},
   "source": [
    "## 2. Text Scraping Function:"
   ]
  },
  {
   "cell_type": "markdown",
   "metadata": {},
   "source": [
    "### Implement a function that takes a URL and returns a dictionary with the article's text, headline, published date, and author."
   ]
  },
  {
   "cell_type": "code",
   "execution_count": 101,
   "metadata": {},
   "outputs": [
    {
     "name": "stdout",
     "output_type": "stream",
     "text": [
      "Publish date amount: 24\n"
     ]
    },
    {
     "data": {
      "text/plain": [
       "['2025-02-27T13:09:39.367Z',\n",
       " '2025-02-27T12:19:05.853Z',\n",
       " '2025-02-27T02:03:10.229Z',\n",
       " '2025-02-26T17:11:57.047Z',\n",
       " '2025-02-26T21:03:11.477Z',\n",
       " '2025-02-27T12:19:05.853Z',\n",
       " '2025-02-27T00:23:25.454Z',\n",
       " '2025-02-27T12:54:52.742Z',\n",
       " '2025-02-27T02:03:10.229Z',\n",
       " '2025-02-26T02:23:47.711Z',\n",
       " '2025-02-26T07:53:15.992Z',\n",
       " '2025-02-25T01:47:56.921Z',\n",
       " '2025-02-25T12:39:17.669Z',\n",
       " '2025-02-25T11:16:13.166Z',\n",
       " '2025-02-26T00:00:32.454Z',\n",
       " '2025-02-25T13:08:08.773Z',\n",
       " '2025-02-27T13:09:39.367Z',\n",
       " '2025-02-27T08:55:24.894Z',\n",
       " '2025-02-27T05:12:03.716Z',\n",
       " '2025-02-27T00:23:25.454Z',\n",
       " '2025-02-26T21:10:02.468Z',\n",
       " '2025-02-26T21:03:11.477Z',\n",
       " '2025-02-26T17:24:17.617Z',\n",
       " '2025-02-26T17:11:57.047Z']"
      ]
     },
     "execution_count": 101,
     "metadata": {},
     "output_type": "execute_result"
    }
   ],
   "source": [
    "def publish_date_finder(link):\n",
    "    response = requests.get(link)\n",
    "    soup = BeautifulSoup(response.content, 'html.parser')\n",
    "    date = soup.find('time')['datetime']\n",
    "    return date\n",
    "\n",
    "publish_dates = [publish_date_finder(url) for url in url_finder()]\n",
    "\n",
    "print(f'Publish date amount: {len(publish_dates)}')\n",
    "publish_dates"
   ]
  },
  {
   "cell_type": "code",
   "execution_count": 102,
   "metadata": {},
   "outputs": [
    {
     "name": "stdout",
     "output_type": "stream",
     "text": [
      "Author amount: 24\n"
     ]
    },
    {
     "data": {
      "text/plain": [
       "['Nick Thorpe, Mircea Barbu & Paul Kirby',\n",
       " 'Unknown',\n",
       " 'James Gregory',\n",
       " 'Paul Kirby & Mircea Barbu',\n",
       " 'Guy Delauney',\n",
       " 'Unknown',\n",
       " 'Nick Beake',\n",
       " 'Kathryn Armstrong',\n",
       " 'James Gregory',\n",
       " 'Joshua Nevett and Sam Francis',\n",
       " 'Tom Espiner',\n",
       " \"Gary O'Donoghue\",\n",
       " 'James Landale',\n",
       " 'Frances Mao',\n",
       " 'Frances Mao',\n",
       " 'Paul Kirby & Kristina Volk',\n",
       " 'Nick Thorpe, Mircea Barbu & Paul Kirby',\n",
       " 'Unknown',\n",
       " 'Sarah Rainsford',\n",
       " 'Nick Beake',\n",
       " 'Unknown',\n",
       " 'Guy Delauney',\n",
       " 'Maia Davies',\n",
       " 'Paul Kirby & Mircea Barbu']"
      ]
     },
     "execution_count": 102,
     "metadata": {},
     "output_type": "execute_result"
    }
   ],
   "source": [
    "def author_finder(link):\n",
    "    response = requests.get(link)\n",
    "    soup = BeautifulSoup(response.content, 'html.parser')\n",
    "    author_tag = soup.find('span', 'kItaYD')\n",
    "    if author_tag:\n",
    "        return author_tag.text.strip()\n",
    "    return 'Unknown'\n",
    "\n",
    "authors = [author_finder(url) for url in url_finder()]\n",
    "\n",
    "print(f'Author amount: {len(authors)}')\n",
    "authors"
   ]
  },
  {
   "cell_type": "code",
   "execution_count": 103,
   "metadata": {},
   "outputs": [],
   "source": [
    "def combiner(link):\n",
    "    return {'url': link, 'publish_date': publish_date_finder(link), 'author': author_finder(link), 'headline': headline_finder(link), 'summary': summary_finder(link), 'content': content_finder(link)}"
   ]
  },
  {
   "cell_type": "markdown",
   "metadata": {},
   "source": [
    "## 3. Scrape All Articles:"
   ]
  },
  {
   "cell_type": "markdown",
   "metadata": {},
   "source": [
    "### Loop through all the collected article links to scrape their contents (May take a long time. So try on a smaller subset to start with). Remember to implement error handling and possibly introduce delays to avoid being blocked."
   ]
  },
  {
   "cell_type": "code",
   "execution_count": 104,
   "metadata": {},
   "outputs": [
    {
     "data": {
      "application/vnd.microsoft.datawrangler.viewer.v0+json": {
       "columns": [
        {
         "name": "index",
         "rawType": "int64",
         "type": "integer"
        },
        {
         "name": "url",
         "rawType": "object",
         "type": "string"
        },
        {
         "name": "publish_date",
         "rawType": "object",
         "type": "string"
        },
        {
         "name": "author",
         "rawType": "object",
         "type": "string"
        },
        {
         "name": "headline",
         "rawType": "object",
         "type": "string"
        },
        {
         "name": "summary",
         "rawType": "object",
         "type": "string"
        },
        {
         "name": "content",
         "rawType": "object",
         "type": "string"
        }
       ],
       "conversionMethod": "pd.DataFrame",
       "ref": "33a7b2d7-3321-4cf7-ada6-47ca8b4bea75",
       "rows": [
        [
         "0",
         "https://www.bbc.com/news/articles/cpq222rqv4po",
         "2025-02-27T13:09:39.367Z",
         "Nick Thorpe, Mircea Barbu & Paul Kirby",
         "Tate brothers allowed to leave Romania for US",
         "British-American influencers Andrew and Tristan Tate - who are facing trial in Romania on charges of rape, trafficking minors and money laundering - have left the country after prosecutors lifted a two-year travel ban.",
         "British-American influencers Andrew and Tristan Tate - who are facing trial in Romania on charges of rape, trafficking minors and money laundering - have left the country after prosecutors lifted a two-year travel ban. Andrew Tate, 38, and his brother Tristan, 36, left Bucharest on a private jet early on Thursday. Both deny the allegations against them. Romanian prosecutors stressed the case against them had not been dropped and they would be expected to return, understood to be at the end of next month. However, their decision has raised concern that they came under pressure from leading figures in the Trump administration, with one leading Romanian politician saying she was outraged. The brothers are facing separate, unrelated charges in the UK over allegations of rape and human trafficking, which they also deny. A separate, civil case has been opened in the US. Romanian reports said they were heading to Fort Lauderdale in Florida on a non-stop flight that would take 12 hours, however the Tates' lawyer in Bucharest denied to the BBC that was their destination. The Tate brothers were first arrested in Romania in December 2022. The elder of the two, a former kickboxer who appeared on UK TV show Big Brother, was later accused of rape and human trafficking while his brother was suspected of human trafficking. They both denied those charges and spent several months under house arrest. A year later, in August 2024, they faced new allegations including sex with a minor and trafficking underage persons. Andrew Tate is a self-described misogynist who has attracted millions of followers online, despite being previously banned from social media platforms for expressing his views. He moved from the UK to Romania several years ago, however police in Bedfordshire are still seeking his extradition on separate and unrelated allegations of rape and human trafficking, as well as tax evasion. Thursday's decision by Romanian prosecutors to lift the ban on the Tates leaving the country is believed to have come in the wake of comments from figures in the Trump administration earlier this month. The Tates have regularly posted messages in support of US President Donald Trump, and Tristan Tate has said his brother's role in persuading \"millions of young men\" to back him \"cannot be overlooked\". Romania's Foreign Minister Emil Hurezeanu told Romanian TV that Trump's special envoy, Richard Grenell, had brought up the issue of the Tate brothers during a conversation at the Munich Security Conference earlier in February. Hurezeanu said his discussion with Trump's envoy had only been an informal one and he had not considered Grenell's approach as a \"form of pressure\". Grenell told the Financial Times his support for the brothers was evident from his \"publicly available tweets\". Four British women have also taken out a civil case against Andrew Tate at the UK High Court, alleging that he raped and coercively controlled them. Tate denies their allegations. They said it was clear he would not face criminal prosecution in Romania and appealed to UK authorities to take action. \"We are in disbelief and feel re-traumatised by the news that the Romanian authorities have given into pressure from the Trump administration to allow Andrew Tate to travel around Europe and to the US,\" the women said in a statement. Elena Lasconi, who is running for the Romanian presidency in May's elections, six months after they were controversially cancelled, has called for the immediate resignation of the head of Romania's organised crime investigations directorate DIICOT, which made the decision to let the brothers leave. \"I am outraged!\" she wrote on social media, \"as a woman, a human being and a Romanian.\" Lasconi said prosecutors should explain publicly whether their decision came as a result of external pressure. Prosecutors from DIICOT have emphasised that the judicial conditions for the brothers have not changed. Any violation of those obligations made in bad faith \"may lead to the replacement of judicial control with a higher measure of deprivation of liberty\", it said in a statement in Romanian. The Tates are understood to be required to return to Bucharest at the end of March to satisfy the prosecutors' terms, however it is too early to say whether they will comply with them. Romania is both a member of the European Union and a key Nato member state on the Western alliance's eastern flank.  Senior Trump figures have also had the government in Bucharest in their sights over the court ruling that annulled last December's presidential election. Romanian intelligence services said far-right candidate Calin Georgescu had been supported by a flurry of TikTok accounts engineered by Russia. Georgescu was indicted on Wednesday for attempted \"incitement to acts against the constitutional order\". Prosecutors are investigating a series of alleged offences, after Georgescu came from nowhere to win the first round. Charity says German Shepherd has spent her whole life chained to a tree. Two members of the Romanian community discuss how they have started businesses in the island. His exit comes as political opponents had sought to remove him over remaining in office beyond the end of his term. Several hundred well-paid foreign soldiers fighting on the side of the Congolese government surrender. Copyright 2025 BBC. All rights reserved.  The BBC is not responsible for the content of external sites. Read about our approach to external linking.  "
        ],
        [
         "1",
         "https://www.bbc.com/news/articles/cg4kkv3e1v9o",
         "2025-02-27T12:19:05.853Z",
         "Unknown",
         "Why are the Tate brothers heading to the US?",
         "Controversial influencer Andrew Tate and his brother Tristan are travelling to the US after leaving Romania, where they face charges of rape, trafficking minors and money laundering, all of which they deny.",
         "Controversial influencer Andrew Tate and his brother Tristan are travelling to the US after leaving Romania, where they face charges of rape, trafficking minors and money laundering, all of which they deny. Questions remain about why they were allowed to travel and what happens next with their legal cases. Andrew Tate, 38, and his brother Tristan, 36, are dual US-UK citizens who claim to have made millions from their social media empire. Their online output was controversial even before their legal troubles, with the pair attracting frequent criticism over offensive statements about women. Police in the UK have linked Andrew Tate to the \"quite terrifying\" radicalisation of boys and young men in a 2024 report into violence against women and girls. The brothers were first arrested in Romania in 2022. They are facing separate, unrelated charges of rape and human trafficking in the UK. Both brothers also deny the charges against them in the UK. The brothers had been under a travel ban in Romania for more than two years while they were under investigation. Speculation that they would leave Romania had been mounting ahead of their journey, after the pair went quiet on social media. They left from a Bucharest airport at around 03:00 local time (05:00 GMT) on a private jet bound for Florida, sources have told the BBC. Prosecutors said the travel ban had been lifted, and the pair's US passports had been returned to them, but investigations into their alleged crimes have not been dropped. The Tates have a large US following and are popular figures on the American right. Earlier in February, some of Andrew Tate's alleged victims said they were \"extremely concerned\" by reports that US officials had asked for his travel restrictions to be relaxed. It came after US special envoy Richard Grenell raised the Tate brothers with Romania's Foreign Minister Emil Hurezeanu at the Munich Security Conference. Hurezeanu said he had not considered Grenell's approach as a \"form of pressure\". Grenell told the Financial Times his support for the brothers was evident. The Tates have been a vocal supporters of US President Donald Trump, while his close adviser, Elon Musk, restored Andrew Tate's account on X after he bought the social media platform in 2022. Andrew and Tristan Tate have not yet commented on their trip to the US, and neither has the Trump administration. The cases against the Tate brothers in Romania are now being rewritten by prosecutors, who allowed them to leave the country on the condition that they return - possibly as early as the end of March. The pair's request to leave the country was accepted, prosecutors said, but their request for the charges against them to be dropped was rejected. The brothers face a number of civic and criminal legal cases. The pair were charged with human trafficking and rape along with two Romanian female suspects in June 2023. They deny the charges. They face separate, unrelated charges of rape and human trafficking in the UK. Last year, a Romanian court ruled they could be extradited to the UK after their case in Romania concludes. Separately, lawyers for four women who claim they were assaulted by the Tates said they were bringing a civil case against him at the High Court in the UK for \"damages for injuries they suffered as a result\". A representative for the Tate brothers said in response that they \"unequivocally deny all allegations\". A separate civil case in the UK, which the brothers are contesting, accuses the brothers and a third individual of being serial tax evaders. Four women who allege they were sexually abused by Andrew Tate have said they are in \"disbelief and feel re-traumatised\" by news of him leaving Romania. In a joint statement, the four said: \"It is clear that he will now not face criminal prosecution for his alleged crimes in Romania; he will use it as an opportunity to harass further and intimidate witnesses and his accusers, and he will continue to spread his violent, misogynistic doctrine around the world.\" They also urged British authorities to \"finally take action, do something about this terrifying unfolding situation and ensure he faces justice in the UK\". Matthew Jury, a lawyer representing the four alleged victims, told the BBC the Trump administration was \"interfering in due process\" in Romania and the UK. President Trump has repeatedly claimed that the US has given over $300bn to Ukraine, but he is incorrect. Tariffs are a central part of Trump's political vision, but economists warn they could put prices up. The decision goes against a lower court judge's ruling that the government had to pay aid contractors. Trachtenberg, 39, found fame in television series Buffy the Vampire Slayer, and later Gossip Girl. The pair, who murdered their wealthy parents in 1989, are pursuing three possible routes that could see them leave prison.  Copyright 2025 BBC. All rights reserved.  The BBC is not responsible for the content of external sites. Read about our approach to external linking.  "
        ],
        [
         "2",
         "https://www.bbc.com/news/articles/cn7vg0nvzkko",
         "2025-02-27T02:03:10.229Z",
         "James Gregory",
         "Zelensky to meet Trump in Washington to sign minerals deal",
         "Ukrainian President Volodymyr Zelensky will meet US President Donald Trump in Washington on Friday to sign an agreement on sharing his country's mineral resources, Trump has said. ",
         "Ukrainian President Volodymyr Zelensky will meet US President Donald Trump in Washington on Friday to sign an agreement on sharing his country's mineral resources, Trump has said.  Zelensky has described the bilateral deal as preliminary, and said he wants further agreements which include US security guarantees to deter renewed Russian aggression.  But Trump said the US would not provide guarantees \"beyond... very much\", saying the responsibility should instead fall to Europe. Trump also seemingly ruled out the prospect of Ukraine becoming a Nato member - one of Zelensky's long-held ambitions.  Speaking at a meeting of his cabinet on Wednesday, Trump said the presence of American workers extracting rare earth metals on Ukrainian soil would provide \"automatic security\" for Ukraine.  He said Kyiv should \"forget about\" joining Nato and repeated Russia's claims that the issue was one of the driving factors behind the war.  The US president suggested a ceasefire between Ukraine and Russia was not far off, telling reporters: \"We're going to make a deal with Russia and Ukraine to stop killing people.\" But Zelensky said without security guarantees \"we won't have a ceasefire, nothing will work, nothing\".  \"I want to find a Nato path or something similar,\" he said.  Russia has consistently opposed the idea of Ukraine becoming a member, fearing it would bring Nato forces too close to its borders. In 2008, the alliance had said that Ukraine could eventually join. Trump has suggested European peacekeeping troops could be stationed in Ukraine as part of a ceasefire deal, but Russia says it is against this.  European representatives, however, were not included in Washington's initial talks with Russia. Speaking to the BBC on Wednesday, Kaja Kallas, the EU High Representative for Foreign Affairs and Security Policy, said \"for any kind of deal to work on European soil, you need the Europeans to also agree to it\". She said the mineral resources deal was up to Ukraine, but any peace agreement would \"need the Europeans on board\". Ms Kallas' scheduled meeting with Secretary of State Marco Rubio on Wednesday was abruptly cancelled, with both sides citing scheduling issues. Zelensky said the success of the minerals deal, which was formally backed by his government on Wednesday evening, would depend on the outcome of his meeting with Trump this week. Key details have not yet been made public, but Ukrainian Prime Minister Denys Shmyhal said it envisages an \"investment fund\" for Ukraine's reconstruction. The prospect of a deal was first proposed by Zelensky last year as a way to offer the US a tangible reason to continue supporting Ukraine. But disagreements over its substance exacerbated tensions between Trump and Zelensky in recent weeks.  The Ukrainian president had rejected an initial request from the US for $500bn (£395bn) in mineral wealth, but media reports suggest this demand has now been dropped. There are also differences in how both sides are now describing the deal. Trump has lauded the \"very big agreement\" as an opportunity for the US to get its \"money back\" after funding aid to Ukraine.  But Zelensky has instead referred to it as a \"framework agreement\" upon which he hopes further deals can be made. Trump has said he wants a quick end to the war in Ukraine and has sought to reset relations with Russia. After a phone call with Russian President Vladimir Putin, the two leaders sent delegations to Saudi Arabia in bilateral talks which excluded Ukraine.  In response, Zelensky accused the US of helping Putin \"break out of years of isolation\" and Trump of living in a \"Russian disinformation space\".  Ukraine is a country rich in natural resources. Kyiv estimates that about 5% of the world's \"critical raw materials\" are there. But accessing some of these resources will not be completely straightforward.  Some of the mineral deposits have been seized by Russia. According to Yulia Svyrydenko, Ukraine's economy minister, resources worth $350bn (£277bn) remain in occupied territories today. There are warnings too that Ukraine first needs to addresses its problem with unexploded mines before striking a deal with the US. A quarter of Ukraine's landmass is estimated to be contaminated with landmines, mainly concentrated in the war-torn east of the country. Putin has also said he is open to offering the US access to rare minerals, including from Russian-occupied Ukraine. UK Prime Minister Sir Keir Starmer will also be meeting both Trump and Zelensky separately this week to discuss the war in Ukraine. He is due to arrive in Washington later on Wednesday. Andrew Tate and his brother Tristan have left Romania, where they were previously under a travel ban. Zelensky had no experience of politics when he was elected but is now a symbol of Ukrainian defiance. Tariffs are a central part of Trump's political vision, but economists warn they could put prices up. The decision goes against a lower court judge's ruling that the government had to pay aid contractors. The first minister is calling on civic Scotland to come together and tackle populist politics. Copyright 2025 BBC. All rights reserved.  The BBC is not responsible for the content of external sites. Read about our approach to external linking.  "
        ],
        [
         "3",
         "https://www.bbc.com/news/articles/c70eky7l6pxo",
         "2025-02-26T17:11:57.047Z",
         "Paul Kirby & Mircea Barbu",
         "Romanian far-right presidential hopeful detained on street and indicted",
         "Far-right populist Calin Georgescu, who came from nowhere to win the first round of last year's presidential election, has been detained by police and is facing criminal proceedings on a series of charges.",
         "Far-right populist Calin Georgescu, who came from nowhere to win the first round of last year's presidential election, has been detained by police and is facing criminal proceedings on a series of charges. Georgescu was stopped in traffic in the capital, Bucharest, on his way to register as a candidate for new elections in May, after last December's second-round run-off was annulled by the constitutional court. Prosecutors said one of the charges involved attempted \"incitement to actions against the constitutional order\". Two right-wing populist parties said they were mobilising their supporters to head for the prosecutor's office, where Georgescu was taken for questioning. Police were seen erecting barriers around the building and hundreds of demonstrators gathered to protest. Prosecutors said Georgescu was also being investigated for giving \"false information, false statements\" and for setting up an organisation with \"fascist, racist or xenophobic characteristics\" as well as forming an antisemitic organisation. The severity of the indictment could jeopardise Georgescu's bid to run in the presidential election on 4 and 18 May. He has been placed under judicial control and told not to leave Romania, according to reports. As he left the prosecutor's office, Georgescu told supporters he would continue to fight and that there was \"no difference between the communist mentality and system [that collapsed in 1989] and now\". The original presidential vote was cancelled before the second round last December, after the then president, Klaus Iohannis declassified intelligence documents that suggested that hundreds of TikTok accounts had been activated backing Georgescu.  Romanian foreign intelligence said Russia had been behind the move, as well as thousands of cyber-attacks and other sabotage. Iohannis had decided to stay in office until a successor was elected, but he resigned earlier this month ahead of an impeachment vote. Opposition politicians had at the time accused Iohannis of an undemocratic move, and Georgescu's communications team repeated the claim against prosecutors. \"Where is democracy now?\" they posted on X on Wednesday, tagging President Donald Trump, Elon Musk and US Vice-President JD Vance. Earlier this month, the US vice-president accused Romania of annulling the elections based on \"flimsy suspicions\" of Romanian intelligence and pressure from its neighbours. Romanian Foreign Minister Emil Hurezeanu accused Elon Musk of a \"form of interference\" in Romania's elections, after the billionaire posted several messages of support for Georgescu. Georgescu's hopes of running for the presidency may end up at the constitutional court, which barred another far-right, pro-Russian candidate from running last year.  The decision to turn down Diana Sosoaca's candidacy because of her views was widely criticised in Romania. Romania is a vital part of Nato's eastern flank as well as being a member of the European Union.  Calin Georgescu has been accused of being pro-Russian and he has praised Romania's fascist and nationalist leaders from the last century as heroes. He denied he was \"Moscow's man\", in a BBC interview last year, but referred to Vladimir Putin as a \"patriot and a leader\" while pointing out \"I am not a fan\". Meanwhile, Romanian police said they had carried out raids in several counties around the country, targeting 27 individuals as part of a criminal case relating to the creation of an organisation \"with a fascist, racist or xenophobic nature\".  Investigations were also being conducted into false statements regarding the sources of election campaign funding, police said.  The statement made no mention of Georgescu himself and it was not clear if the raids were linked, however he said he was fighting a security system \"that wants us in slavery\". The influencers had been banned from travelling out of Romania for more than two years. Andrew Tate and his brother Tristan have left Romania, where they were previously under a travel ban. The 38-year-old former kickboxer once said women should \"bear responsibility\" for sexual assault. Charity says German Shepherd has spent her whole life chained to a tree. Reports say US officials asked Romania to relax travel restrictions against Andrew Tate and his brother. Copyright 2025 BBC. All rights reserved.  The BBC is not responsible for the content of external sites. Read about our approach to external linking.  "
        ],
        [
         "4",
         "https://www.bbc.com/news/articles/cdrxy1zp8mxo",
         "2025-02-26T21:03:11.477Z",
         "Guy Delauney",
         "Bosnian-Serb leader sentenced to jail in landmark trial",
         "A one-year prison sentence and a six-year ban on holding public office might seem like a heavy penalty for a politician. ",
         "A one-year prison sentence and a six-year ban on holding public office might seem like a heavy penalty for a politician.  But the Bosnian-Serb leader Milorad Dodik made light of the verdict at the Court of Bosnia and Herzegovina. The president of the country's majority-Serb Republika Srpska region told supporters at a rally in the regional capital Banja Luka there was \"no reason to worry\". His conviction on charges of ignoring the rulings of the international High Representative was \"nonsense\", he said.  Dodik said he had \"learned to deal with more difficult things\" and called on the crowd in Republika Srpska's de facto capital to \"be cheerful\". The verdict was the culmination of a long-running conflict between Dodik and the international High Representative for Bosnia and Herzegovina, Christian Schmidt. Schmidt is still the supreme authority in Bosnia, 30 years on from the Dayton Agreement which ended the Bosnian War of the 1990s.  The high representative has the power to impose or annul laws – and sack officials ranging from judges to political leaders. One former holder of the post, Paddy Ashdown, the former leader of the UK's Liberal Democrats, sacked almost 60 Bosnian-Serb officials in a single day in 2004, in a crackdown on their protection of war criminals. But the high representative's powers have been used much more sparingly in subsequent years, as Bosnia's international supporters stepped back in the hope that local leaders would work together to create a viable and prosperous country. The strategy has not been a success. Ethno-nationalist leaders remain entrenched in a country which is divided into two \"entities\" – the majority-Serb Republika Srpska and the Federation, where the population are mostly Bosniaks and Croats. The central government is weak – and there is little incentive for parties to cooperate. Instead, their guiding philosophy is simple and self-interested: divide, rule and profit. As a result, the country is struggling with low wages, a sluggish economy and a constant flow of emigration by talented people seeking a better future elsewhere. \"Bosnians of all ethnicities are united by their disdain for their own leaders,\" says Toby Vogel, co-founder of the Democratisation Policy Council think tank. \"They would love not to vote for these guys, but it's structurally almost impossible for cross-community politicians and parties to emerge.\" Instead, leaders like Dodik get elected, time after time. The leader of the SNSD party has previously served as the Serb representative of the three-person national presidency and first became prime minister of Republika Srpska in 1998. A constant theme of his leadership has been the threat to trigger the secession of the majority-Serb region.  Dodik and his government have consistently worked to undermine Bosnia's national institutions, introducing a series of laws to withdraw Republika Srpska from the armed forces, judiciary and tax system. Such efforts eventually pushed the high representative to take action and annul the secessionist legislation.  Christian Schmidt warned that a renewal of conflict was possible, but insisted that he would \"not sit still while others seek to dismantle [decades] of peace, stability and progress\". Dodik apparently viewed that as a challenge. He approved a law declaring that Republika Srpska would no longer recognise Schmidt's rulings. The high representative had already annulled the legislation – and made it a criminal offence to contradict his decisions. That led to the prosecution of the Bosnian-Serb leader – with prosecutors calling for a maximum five-year prison sentence and 10-year ban from holding elected office. Dodik warned he would take \"radical measures\" if found guilty. His conviction has not brought any fireworks so far. At this point, Dodik is insisting that he will not appeal. Instead, Republika Srpska's government is once again proposing legislation to withdraw from national institutions – including the court which passed the guilty verdict. But Dodik is facing problems beyond Bosnia's borders. The US and UK have imposed sanctions on him and his family for corruption - threatening the unity of Bosnia and Herzegovina - and connections with Russia.  Toby Vogel believes that is more likely to threaten the Bosnian-Serb leader than the court conviction. \"The conflict with the high representative will intensify,\" he says. \"But Dodik might well be running out of road.\" \"He is running out of cash to pay his bloated administration… and he can no longer raise money on international markets. So, he is in very deep trouble indeed.\" None of this will be much comfort to the long-suffering people of Bosnia and Herzegovina. They are still enduring the interminable wait for the prosperity promised by ethno-nationalists like Dodik. This latest court battle shows how distant that prospect remains. Copyright 2025 BBC. All rights reserved.  The BBC is not responsible for the content of external sites. Read about our approach to external linking.  "
        ],
        [
         "5",
         "https://www.bbc.com/news/articles/cg4kkv3e1v9o",
         "2025-02-27T12:19:05.853Z",
         "Unknown",
         "Why are the Tate brothers heading to the US?",
         "Controversial influencer Andrew Tate and his brother Tristan are travelling to the US after leaving Romania, where they face charges of rape, trafficking minors and money laundering, all of which they deny.",
         "Controversial influencer Andrew Tate and his brother Tristan are travelling to the US after leaving Romania, where they face charges of rape, trafficking minors and money laundering, all of which they deny. Questions remain about why they were allowed to travel and what happens next with their legal cases. Andrew Tate, 38, and his brother Tristan, 36, are dual US-UK citizens who claim to have made millions from their social media empire. Their online output was controversial even before their legal troubles, with the pair attracting frequent criticism over offensive statements about women. Police in the UK have linked Andrew Tate to the \"quite terrifying\" radicalisation of boys and young men in a 2024 report into violence against women and girls. The brothers were first arrested in Romania in 2022. They are facing separate, unrelated charges of rape and human trafficking in the UK. Both brothers also deny the charges against them in the UK. The brothers had been under a travel ban in Romania for more than two years while they were under investigation. Speculation that they would leave Romania had been mounting ahead of their journey, after the pair went quiet on social media. They left from a Bucharest airport at around 03:00 local time (05:00 GMT) on a private jet bound for Florida, sources have told the BBC. Prosecutors said the travel ban had been lifted, and the pair's US passports had been returned to them, but investigations into their alleged crimes have not been dropped. The Tates have a large US following and are popular figures on the American right. Earlier in February, some of Andrew Tate's alleged victims said they were \"extremely concerned\" by reports that US officials had asked for his travel restrictions to be relaxed. It came after US special envoy Richard Grenell raised the Tate brothers with Romania's Foreign Minister Emil Hurezeanu at the Munich Security Conference. Hurezeanu said he had not considered Grenell's approach as a \"form of pressure\". Grenell told the Financial Times his support for the brothers was evident. The Tates have been a vocal supporters of US President Donald Trump, while his close adviser, Elon Musk, restored Andrew Tate's account on X after he bought the social media platform in 2022. Andrew and Tristan Tate have not yet commented on their trip to the US, and neither has the Trump administration. The cases against the Tate brothers in Romania are now being rewritten by prosecutors, who allowed them to leave the country on the condition that they return - possibly as early as the end of March. The pair's request to leave the country was accepted, prosecutors said, but their request for the charges against them to be dropped was rejected. The brothers face a number of civic and criminal legal cases. The pair were charged with human trafficking and rape along with two Romanian female suspects in June 2023. They deny the charges. They face separate, unrelated charges of rape and human trafficking in the UK. Last year, a Romanian court ruled they could be extradited to the UK after their case in Romania concludes. Separately, lawyers for four women who claim they were assaulted by the Tates said they were bringing a civil case against him at the High Court in the UK for \"damages for injuries they suffered as a result\". A representative for the Tate brothers said in response that they \"unequivocally deny all allegations\". A separate civil case in the UK, which the brothers are contesting, accuses the brothers and a third individual of being serial tax evaders. Four women who allege they were sexually abused by Andrew Tate have said they are in \"disbelief and feel re-traumatised\" by news of him leaving Romania. In a joint statement, the four said: \"It is clear that he will now not face criminal prosecution for his alleged crimes in Romania; he will use it as an opportunity to harass further and intimidate witnesses and his accusers, and he will continue to spread his violent, misogynistic doctrine around the world.\" They also urged British authorities to \"finally take action, do something about this terrifying unfolding situation and ensure he faces justice in the UK\". Matthew Jury, a lawyer representing the four alleged victims, told the BBC the Trump administration was \"interfering in due process\" in Romania and the UK. President Trump has repeatedly claimed that the US has given over $300bn to Ukraine, but he is incorrect. Tariffs are a central part of Trump's political vision, but economists warn they could put prices up. The decision goes against a lower court judge's ruling that the government had to pay aid contractors. Trachtenberg, 39, found fame in television series Buffy the Vampire Slayer, and later Gossip Girl. The pair, who murdered their wealthy parents in 1989, are pursuing three possible routes that could see them leave prison.  Copyright 2025 BBC. All rights reserved.  The BBC is not responsible for the content of external sites. Read about our approach to external linking.  "
        ],
        [
         "6",
         "https://www.bbc.com/news/articles/c17qe11wy52o",
         "2025-02-27T00:23:25.454Z",
         "Nick Beake",
         "Leaked recordings challenge Greek account of deadly shipwreck",
         "Leaked audio instructions by Greek rescue co-ordinators have cast further doubt on Greece's official version of events in the hours before a migrant boat sank along with up to 650 people onboard.",
         "Leaked audio instructions by Greek rescue co-ordinators have cast further doubt on Greece's official version of events in the hours before a migrant boat sank along with up to 650 people onboard. The Adriana went down in the early hours of 14 June 2023 in international waters – but within Greece's rescue zone - after leaving Libya days earlier. Survivors later told the BBC that coastguards had caused their overcrowded fishing boat to capsize in a botched attempt to tow it and then forced witnesses to stay silent.  The Greek coastguard denied these claims and maintains it did not try to rescue those onboard because they were not in danger and said they had voluntarily wanted to reach Italy, not Greece. But in a phone call that's now emerged an unnamed man speaking from inside a Greek rescue coordination centre is heard instructing the captain of the migrant boat to tell an approaching ship that those onboard do not want to reach Greece. The coastguard has not commented on the audio but said it had handed over all available evidence to a Naval Court which is investigating the disaster. The sinking was one of the worst-ever disasters known to have happened in the Mediterranean Sea. It is estimated the boat was carrying up to 750 migrants when it set off from the port of Tobruk in Libya nearly a week earlier. Eighty-two bodies were recovered, but the United Nations believes an additional 500 people - including 100 women and children who were in the hold of the boat - may have died. Audio recordings obtained by Greek website News247.gr reveal phone calls involving the Joint Rescue Coordination Centre (JRCC) at the port of Piraeus, near the capital Athens. In the first call, at 18:50 local time (15:50 GMT)  on 13 June, an officer is heard explaining to the man piloting the migrant boat that a large red vessel will soon be approaching to give supplies and that he should explain that the migrants do not want to reach Greece. Officer 1: The replies of the man captaining the migrant boat are not heard. In a second call, 90 minutes later, at 22:10, a seemingly different officer from the same coordination centre, speaks to the captain of the Lucky Sailor (the \"big red ship\"). Officer 2: OK, captain, sorry before I couldn't hear you. I couldn't understand what did you say to me. You told me you gave them food, water and they told you that they don't want to stay in Greece and they want to go to Italy, they don't want anything else? Lucky Sailor captain: Yes because I asked them by megaphone \"Greece or Italia?\" and everybody there screaming Italia. Officer 2: Aah, OK, OK everybody screaming that they don't want Greece and they want Italy? Lucky Sailor captain: Yes, yes, yes. Officer 2: OK Lucky Sailor captain: They are all like crowded people, very crowded, full deck. Officer 2: OK, captain. So you have finished with the supplies? Lucky Sailor captain: Yes, sir, yes. Officer 2: Captain, I want this, I want this to write it in your logbook. The bridge logbook. Lucky Sailor captain: Yes OK, we will write it. Officer 2: OK? Lucky Sailor captain: Yes Officer 2: I want you to write it about that they don't want to stay in Greece and they want to go to Italy. They want nothing from Greece and they want to go to Italy. Lucky Sailor captain: OK, yes, yes. Another vessel, the Faithful Warrior, also gave some supplies to the migrant boat but no further conversations between its captain and the Greek authorities have emerged. The Greek coastguard did not comment on the contents of the conversations but told the BBC it had submitted \"all the material it had in its possession, including the audio recordings and the diaries of events\" to the Maritime Court Prosecutor's Office, which is investigating. It said it had rescued more than a quarter of a million migrants in danger at sea in the last decade and arrested more than a thousand smugglers, and that its humanitarian work had been recognised internationally. Our BBC investigation in the immediate days after the sinking challenged the Greek authorities' explanation for the disaster. Analysis of the movement of other ships in the area suggests the overcrowded fishing vessel was not moving for at least seven hours before it capsized. The coastguard has always insisted that during these hours the boat was on a course to Italy and not in need of rescue. Last year, a Greek court threw out charges against nine Egyptian men who were accused of causing the shipwreck.  The judges in the southern port city of Kalamata ruled they did not have jurisdiction to hear the case, on the grounds the vessel sank in international waters. The indictment had showed that the defendants were being prosecuted on evidence that had already been contradicted by at least six survivors, who told the BBC the coastguard had caused their boat to capsize and then pressured them to frame the Egyptians. Human rights lawyer, Dimitris Choulis, who represented some of the accused Egyptians said he was not surprised by what these recordings. \"We know about the coastguard's tactics of either pushing back or not rescuing people.\" He claimed there had been \"an attempted cover up from day one.\" \"They [Greek authorities] told the story 'they did not want to be rescued' and so have insulted the memory of so many dead people,\" he told the BBC. Human rights groups, including Amnesty International and Human Rights Watch, have said they have strong reservations about the integrity of the Greek investigation and have called for an international investigation. The Greek Ombudsman - an independent authority removed from the government - has been looking at the allegations. The disaster is also being examined by the Greek Naval Court. In the western city of Oberhausen the BBC finds conflicting attitudes towards immigration ahead of the vote. Six men have been arrested over their suspected involvement in a major people smuggling ring. The number of people crossing the Channel in small boats has led the government to promise action. Researchers at LJMU use new techniques to identify people who have died on migrations across Europe. Lorry driver Nathan Rimmington says outlook on life has changed after replicating refugees' journey. Copyright 2025 BBC. All rights reserved.  The BBC is not responsible for the content of external sites. Read about our approach to external linking.  "
        ],
        [
         "7",
         "https://www.bbc.com/news/articles/cx2rreg04dpo",
         "2025-02-27T12:54:52.742Z",
         "Kathryn Armstrong",
         "North Korea has sent more troops to Russia, South's spy agency says",
         "North Korea has sent more soldiers to Russia and re-deployed others to the frontline in the western Kursk region, according to South Korea's intelligence agency. ",
         "North Korea has sent more soldiers to Russia and re-deployed others to the frontline in the western Kursk region, according to South Korea's intelligence agency.  It said the exact number of extra troops sent was unknown, but military officials quoted in South Korean media have said they believed it was at least 1,000.  Neither Moscow nor Pyongyang have confirmed the new deployment. North Korea is thought to have suffered heavy losses in the four months since its troops were first deployed to help Russia in its war with Ukraine.  In January, Western officials told the BBC they believed at least 1,000 of the 11,000 troops sent from North Korea had been killed in the past three months. North Korea and Russia did not comment.  The South Korean intelligence agency also said on Thursday that North Korean troops already in Russia had been re-deployed to the front line in Kursk at the start of February \"after about a month of lull\".  Ukrainian special forces fighting in Kursk told the BBC in January that they had not seen any North Korean troops for weeks. Ukrainian President Volodymyr Zelensky later confirmed they had returned to the front line.  Earlier reports attributed to South Korean intelligence suggested that the North Korean soldiers were unprepared for modern warfare, and were especially vulnerable to Ukrainian drones. However, defectors and other military experts have told the BBC these troops should not be underestimated. Russian President Vladimir Putin launched a full-scale invasion of Ukraine in February 2022. The fighting has led to heavy losses on both sides. Last August, Ukraine made a lightning thrust into the Russian Kursk region, taking border guards by surprise. Russia has been trying to drive them out ever since.  While Ukraine's gains have since been steadily pushed back, partly due to the arrival of the North Koreans in Russia in October, it still retains hundreds of square kilometres of Russian territory and is inflicting huge losses on its enemy. Russia's military has not publicly revealed its battlefield casualties since September 2022, when it said 5,937 soldiers had been killed. Zelensky has put Ukraine's military casualties at 45,100 - but a number of military experts in both Ukraine and the West believe the losses are much higher. Reports began emerging that North Korean soldiers had been deployed in October, following the deepening of bilateral ties between Putin and North Korean leader Kim Jong Un. This included the signing a security and defence treaty. Denis Shmyhal said the Ukrainian government would not sign a deal without security guarantees. The UK says it will boost defence spending, as arguments continue about whether Ukraine could join Nato. The UK and France abstain as the UN Security Council passes a text that does not criticise Moscow. The proposal to give the US access to minerals would also include those from territories taken from Ukraine. During a visit to the White House, the French leader said any peace deal must \"not be a surrender of Ukraine\". Copyright 2025 BBC. All rights reserved.  The BBC is not responsible for the content of external sites. Read about our approach to external linking.  "
        ],
        [
         "8",
         "https://www.bbc.com/news/articles/cn7vg0nvzkko",
         "2025-02-27T02:03:10.229Z",
         "James Gregory",
         "Zelensky to meet Trump in Washington to sign minerals deal",
         "Ukrainian President Volodymyr Zelensky will meet US President Donald Trump in Washington on Friday to sign an agreement on sharing his country's mineral resources, Trump has said. ",
         "Ukrainian President Volodymyr Zelensky will meet US President Donald Trump in Washington on Friday to sign an agreement on sharing his country's mineral resources, Trump has said.  Zelensky has described the bilateral deal as preliminary, and said he wants further agreements which include US security guarantees to deter renewed Russian aggression.  But Trump said the US would not provide guarantees \"beyond... very much\", saying the responsibility should instead fall to Europe. Trump also seemingly ruled out the prospect of Ukraine becoming a Nato member - one of Zelensky's long-held ambitions.  Speaking at a meeting of his cabinet on Wednesday, Trump said the presence of American workers extracting rare earth metals on Ukrainian soil would provide \"automatic security\" for Ukraine.  He said Kyiv should \"forget about\" joining Nato and repeated Russia's claims that the issue was one of the driving factors behind the war.  The US president suggested a ceasefire between Ukraine and Russia was not far off, telling reporters: \"We're going to make a deal with Russia and Ukraine to stop killing people.\" But Zelensky said without security guarantees \"we won't have a ceasefire, nothing will work, nothing\".  \"I want to find a Nato path or something similar,\" he said.  Russia has consistently opposed the idea of Ukraine becoming a member, fearing it would bring Nato forces too close to its borders. In 2008, the alliance had said that Ukraine could eventually join. Trump has suggested European peacekeeping troops could be stationed in Ukraine as part of a ceasefire deal, but Russia says it is against this.  European representatives, however, were not included in Washington's initial talks with Russia. Speaking to the BBC on Wednesday, Kaja Kallas, the EU High Representative for Foreign Affairs and Security Policy, said \"for any kind of deal to work on European soil, you need the Europeans to also agree to it\". She said the mineral resources deal was up to Ukraine, but any peace agreement would \"need the Europeans on board\". Ms Kallas' scheduled meeting with Secretary of State Marco Rubio on Wednesday was abruptly cancelled, with both sides citing scheduling issues. Zelensky said the success of the minerals deal, which was formally backed by his government on Wednesday evening, would depend on the outcome of his meeting with Trump this week. Key details have not yet been made public, but Ukrainian Prime Minister Denys Shmyhal said it envisages an \"investment fund\" for Ukraine's reconstruction. The prospect of a deal was first proposed by Zelensky last year as a way to offer the US a tangible reason to continue supporting Ukraine. But disagreements over its substance exacerbated tensions between Trump and Zelensky in recent weeks.  The Ukrainian president had rejected an initial request from the US for $500bn (£395bn) in mineral wealth, but media reports suggest this demand has now been dropped. There are also differences in how both sides are now describing the deal. Trump has lauded the \"very big agreement\" as an opportunity for the US to get its \"money back\" after funding aid to Ukraine.  But Zelensky has instead referred to it as a \"framework agreement\" upon which he hopes further deals can be made. Trump has said he wants a quick end to the war in Ukraine and has sought to reset relations with Russia. After a phone call with Russian President Vladimir Putin, the two leaders sent delegations to Saudi Arabia in bilateral talks which excluded Ukraine.  In response, Zelensky accused the US of helping Putin \"break out of years of isolation\" and Trump of living in a \"Russian disinformation space\".  Ukraine is a country rich in natural resources. Kyiv estimates that about 5% of the world's \"critical raw materials\" are there. But accessing some of these resources will not be completely straightforward.  Some of the mineral deposits have been seized by Russia. According to Yulia Svyrydenko, Ukraine's economy minister, resources worth $350bn (£277bn) remain in occupied territories today. There are warnings too that Ukraine first needs to addresses its problem with unexploded mines before striking a deal with the US. A quarter of Ukraine's landmass is estimated to be contaminated with landmines, mainly concentrated in the war-torn east of the country. Putin has also said he is open to offering the US access to rare minerals, including from Russian-occupied Ukraine. UK Prime Minister Sir Keir Starmer will also be meeting both Trump and Zelensky separately this week to discuss the war in Ukraine. He is due to arrive in Washington later on Wednesday. Andrew Tate and his brother Tristan have left Romania, where they were previously under a travel ban. Zelensky had no experience of politics when he was elected but is now a symbol of Ukrainian defiance. Tariffs are a central part of Trump's political vision, but economists warn they could put prices up. The decision goes against a lower court judge's ruling that the government had to pay aid contractors. The first minister is calling on civic Scotland to come together and tackle populist politics. Copyright 2025 BBC. All rights reserved.  The BBC is not responsible for the content of external sites. Read about our approach to external linking.  "
        ],
        [
         "9",
         "https://www.bbc.com/news/articles/clyrkkv4gd7o",
         "2025-02-26T02:23:47.711Z",
         "Joshua Nevett and Sam Francis",
         "Starmer cuts aid to fund increase in defence spending",
         "Sir Keir Starmer has set out plans to increase defence spending to 2.5% of national income by 2027.",
         "Sir Keir Starmer has set out plans to increase defence spending to 2.5% of national income by 2027. The prime minister said he would cut the foreign aid budget to fund the military boost - a move welcomed by the US administration but labelled a \"betrayal\" by development charities. Sir Keir will face MPs in the Commons on Wednesday before flying to the US, where Ukraine will be top of the agenda in a meeting with President Donald Trump. The spending announcement came as leaders across Europe looked to overhaul defence policies over fears the US could make a deal with Russia to end the Ukraine war which leaves the continent vulnerable. Trump - who has long called for European members of the Nato military alliance to spend more on defence - is attempting to cut a rapid deal to bring the Ukraine war to an end after speaking to Russian President Vladimir Putin. He has been a staunch critic of the previous US administration's military support for Kyiv and wants Europe to play a bigger role in any future security guarantees for Ukraine. On Tuesday, Ukrainian officials confirmed to BBC News a deal had been reached which gives American firms access to the country's vast deposits of valuable rare earth minerals, which Trump signalled could mean continued US military support for Kyiv until a ceasefire with Russia is reached. Announcing the defence spending plan, Sir Keir said the UK's aid budget would be reduced from 0.5% of gross national income to 0.3% in 2027, \"fully funding the investment in defence\", which will rise from 2.3% of GDP. He told the Commons that would mean spending £13.4bn more on defence every year from 2027.  Last year the UK spent £53.9bn on defence. The prime minister said defence spending would rise to 2.6% of GDP by 2027, once the contribution of intelligence services to defence had been factored in. The move was praised by US Defence Secretary Pete Hegseth, who called it a \"strong step from an enduring partner\".  Urging European allies to step up, Sir Keir said the UK would also set out a \"clear ambition\" to increase defence spending to 3% of GDP after the next general election. Holding a news conference following the announcement, Sir Keir said an election  pledge to raise defence spending to 2.5% of GDP had been brought forward \"in light of the grave threats that we face\", with the country facing a \"dangerous new era\".  Asked if pressure from Trump had pushed him to act, Sir Keir insisted it was \"very much my decision, based on my assessment of the circumstances that we face as a country\". But he conceded \"the last few weeks have accelerated my thinking\". \"I think in our heart of hearts we've all known that this decision has been coming for three years, since the beginning of the conflict in Ukraine,\" the prime minister added. In its election manifesto, Labour pledged to restore development spending to 0.7% of gross national income \"as soon as fiscal circumstances allow\" - a goal the government says it is still committed to. Charities were stunned by the aid cut, with Save the Children calling it \"a betrayal of the world's most vulnerable children and the UK's national interest\". \"There is nothing respectful about slashing lifelines for families in the most dangerous places,\" the charity's chief executive Moazzam Malik said. Labour MP Sarah Champion, who chairs the Commons International Development Committee, called on the government to \"rethink today's announcement\". \"Cutting the aid budget to fund defence spending is a false economy that will only make the world less safe,\" she said. Responding to the criticism, Sir Keir said it was \"not a decision I wanted to make\" but he argued there was \"no driver of migration and poverty like conflict\". The hike in defence spending will help the UK's armed forces, which have experienced severe cuts since the end of the Cold War.  However, it will not completely reverse the decline in the country's military capability.  Even before this extra cash injection, the Ministry of Defence was facing a black hole in its equipment budget of around £17bn over the next decade, according to the National Audit Office. A large part of the increase will go towards plugging holes in underfunded programs and fixing urgent shortages in munitions, according to Malcolm Chalmers, deputy director of the Royal United Services Institute think tank. But he said the commitment to reach 3% of GDP by the mid-2030s could lead to a \"transformation in how our military fights\", giving the armed forces the ability to plan long-term and \"ensuring that innovation is not always squeezed out by spending on big platforms\". Dr Simon Anglim, a fellow at the Department of War Studies at King's College London, said spending 3% of GDP on defence by 2030 is \"the barest minimum\" to build a military strong enough to deter Russia. If the US were to withdraw military support \"we may have to start talking about more than that\", he told the BBC. Sir Keir had previously said the government would set out a pathway to spending 2.5% of GDP on the military by the next general election, following a review of the country's defence capabilities. But rapid diplomatic developments, spurred by Trump's push to end the war in Ukraine, injected urgency into decisions about defence. It is unclear if the increase will impress Trump, who has been telling European Nato allies they should be spending something more like 5% on defence.  Nato guidelines suggest each member state should spend at least 2% of their GDP, but recently the organisation's head, Mark Rutte, said allies should be aiming for something \"north of 3%\". The prime minister's trip to the White House later this week follows French President Emmanuel Macron's talks with Trump on Monday. Sir Keir will also host European leaders in the UK this weekend to discuss their future defence. Conservative leader Kemi Badenoch welcomed the increase in defence spending and the \"repurposing\" of money from the aid budget. But she did question whether the government had a strong enough economic strategy to underpin the rise in spending on defence. The Liberal Democrats have previously called for cross-party talks on reaching 3% of GDP on defence \"as soon as possible\". Party leader Sir Ed Davey welcomed the announcement but urged the government to \"raise the money in different ways\" through seizing frozen Russian assets or by increasing taxes on multi-national tech companies.  The SNP's Westminster leader, Stephen Flynn, said that whilst his party backed the increase in defence spending, it could not support \"the populist playbook\" of cutting aid to fund it. The prime minister announced the UK will reallocate aid funds to boost military spending to 2.5% of GDP by 2027. It comes as ministers face pressure to set out defence plans after talks begin to end war in Ukraine. Nato expects 23 of its 32 members to have met the target of spending 2% of GDP on defence in 2024. Business Secretary Jonathan Reynolds says the UK could act as a \"bridge\" between the US and Europe. Only a \"remote chance\" Russia would directly attack the UK if the countries were at war, Admiral Radakin said. Copyright 2025 BBC. All rights reserved.  The BBC is not responsible for the content of external sites. Read about our approach to external linking.  "
        ],
        [
         "10",
         "https://www.bbc.com/news/articles/cvgd9v3r69qo",
         "2025-02-26T07:53:15.992Z",
         "Tom Espiner",
         "Tesla shares slump after European sales fall",
         "Shares in electric car maker Tesla have slumped more than 9% after EU and UK sales fell by almost half in January.",
         "Shares in electric car maker Tesla have slumped more than 9% after EU and UK sales fell by almost half in January. The drop in Tesla shares took the company's valuation back below $1trn for the first time since November 2024. Tesla has been facing stiff competition in the European market from Chinese and other manufacturers. In addition, Tesla owner Elon Musk has been making controversial political waves on both sides of the Atlantic, an analyst said. Tesla sales in January bucked European electric car sale trends, which grew by more than a third in the month, according to trade body Acea. Instead, Tesla sales across the EU, EFTA and the UK fell more than 45%, and more than 50% in the EU alone. It comes after Tesla sales fell last year for the first time in more than a decade as demand faltered and rivals gained pace. The main factor in the January sales slump was likely to be increasing competition, AJ Bell investment director Russ Mould said. Chinese manufacturer BYD has been making big strides, in part because it includes as standard some features which cost extra from other makers, Mould said. However, some car buyers may also be taking a \"principled stand\" on Musk's political interventions, he said. Musk has made waves in the US with his involvement in slashing US development funds and efforts to drastically reduce US federal funding. In the UK he supports jailed far-right activist Stephen Yaxley-Lennon, also known as Tommy Robinson, and repeatedly criticised Prime Minister Sir Keir Starmer. Musk also supports the far-right AfD party in Germany, and congratulated its leader after the party's record second-place result in elections. Asked if the reason for Tesla's share price slump was down to Musk being too toxic, a former senior director of the car maker's Europe, Middle East and Asia division said it was \"definitely one of the reasons for the decline\", but added there was a \"cumulative number of things that are piling up a domino effect\". \"There's no doubt his flirting with the right in politics, running around on TV with a chainsaw is not exactly helping his image,\" Peter Bardenfleth-Hansen told the BBC's Today programme. \"He may be getting a bigger fanbase within a specific type of clientele, but they're not the ones that are buying the Teslas. They're not the ones putting money in to his company. So he has a problem.\" Tesla shares got a big boost after the US election due to Musk's closeness to Donald Trump - Musk has described himself as \"first buddy\" to the US president. Investors thought this would stand his businesses in good stead. However, Trump is not a supporter of electric vehicles, and has said he will cancel efforts to boost their ownership. \"How anybody thought this was going to be good for Tesla, I don't know,\" Mould said. There is also general market skittishness about the path of interest rate cuts and concerns about Trump tariff plans that could be contributing to the fall, he added. Copyright 2025 BBC. All rights reserved.  The BBC is not responsible for the content of external sites. Read about our approach to external linking.  "
        ],
        [
         "11",
         "https://www.bbc.com/news/articles/cvg592557vgo",
         "2025-02-25T01:47:56.921Z",
         "Gary O'Donoghue",
         "Macron walks tightrope with Trump as he makes Europe's case on Ukraine",
         "Relations between Europe and the US are unquestionably in crisis, so merely keeping things together as French President Emmanuel Macron did at the White House on Monday stands as an achievement.",
         "Relations between Europe and the US are unquestionably in crisis, so merely keeping things together as French President Emmanuel Macron did at the White House on Monday stands as an achievement. He did that by praising, flattering and gently cajoling the US president as they took questions in the Oval Office and held a joint news conference. This is a playbook that many leaders around the world now see as more productive than outright plain speaking or criticism of Trump. Macron managed to navigate what could have been a tricky day in Washington without conceding or revealing too much.  He spoke of both countries wanting peace, and while he gently corrected one of Trump's claims on Europe's support for Ukraine, he also agreed that Europe needed to take more responsibility for its own security. But Macron did make one important concession – that Trump was right to re-establish some kind of relationship with Russia's Vladimir Putin. That is in sharp contrast to the view up until now in London, Paris and Berlin, which have all pursued a policy of isolating Putin and slapping sanctions on Russian industries and individuals. \"There is good reason for President Trump to re-engage with President Putin,\" Macron said, adding that the new administration represented \"a big change\". Macron held out the prospect of European countries such as France and the UK being willing to play a leading role in ensuring the security of a post-truce Ukraine, possibly in the form of air power and troops stationed away from the frontline. But at the same time, he stressed the importance of having an American backstop. Macron, however, did not get a commitment of US back-up from his meeting in the Oval Office. And if he was looking for a scintilla of criticism of the Russian president from Trump, then he did not get that either. What he did get was, at least to some extent, Europe's voice back at the table and he, along with other European leaders, will take some heart from that. It is clear however, that the ambitions for re-establishing the kind of close relationship that Europe and the US have had since the end of World War Two are not on anyone's roadmap. That is why Macron himself has been working on the idea of a more strategically autonomous Europe for some time, toying with ideas of combined European defence forces. His sense that Europe needs to adapt given the dramatic shift in the US position is shared by Friedrich Merz, who will be Germany's next chancellor. Merz has already said that he believes the US under Donald Trump is indifferent to Europe's fate, and that the continent needs to be independent of the US in terms of security. \"My absolute priority will be to strengthen Europe as quickly as possible so that, step by step, we can really achieve independence from the USA,\" Merz said. But France, the UK and Germany have also got to be cognisant of the fact that not all European powers are so hostile to the US view on Ukraine. The rise of far-right nationalist parties in Europe, most notably in places like Germany where the AfD came second in Sunday's elections, suggests some European citizens are also sceptical about the continent's continued support for Kyiv. Later this week, UK Prime Minister Sir Keir Starmer, who has been closely co-ordinating with his French counterpart, will come to Washington to reinforce their case on Ukraine. He, like Macron, believes his country has a special relationship with the US which can open doors and get a fair hearing. The problem is that Washington in the shape of Donald Trump is on transmit mode at the moment – pushing an agenda that leaves little room for the opinion of others. And while America has always had the ability to flex its muscles and get its way, Europe for the most part has not been on the receiving end. The fact that has changed is a sign of just how serious this rupture in established alliances has become. Follow the twists and turns of Trump's second presidential term with North America correspondent Anthony Zurcher's weekly US Politics Unspun newsletter. Readers in the UK can sign up here. Those outside the UK can sign up here. Andrew Tate and his brother Tristan have left Romania, where they were previously under a travel ban. Zelensky had no experience of politics when he was elected but is now a symbol of Ukrainian defiance. Tariffs are a central part of Trump's political vision, but economists warn they could put prices up. The decision goes against a lower court judge's ruling that the government had to pay aid contractors. Trachtenberg, 39, found fame in television series Buffy the Vampire Slayer, and later Gossip Girl. Copyright 2025 BBC. All rights reserved.  The BBC is not responsible for the content of external sites. Read about our approach to external linking.  "
        ],
        [
         "12",
         "https://www.bbc.com/news/articles/c7435pnle0go",
         "2025-02-25T12:39:17.669Z",
         "James Landale",
         "US sides with Russia in UN resolutions on Ukraine ",
         "The US has twice sided with Russia in votes at the United Nations to mark the third anniversary of the Russian invasion of Ukraine, highlighting the Trump administration's change of stance on the war.",
         "The US has twice sided with Russia in votes at the United Nations to mark the third anniversary of the Russian invasion of Ukraine, highlighting the Trump administration's change of stance on the war. First, the US opposed a European-drafted resolution condemning Moscow's actions and supporting Ukraine's territorial integrity - voting the same way as Russia and countries including North Korea and Belarus at the UN General Assembly (UNGA) in New York. Then the US drafted and voted for a resolution at the UN Security Council which called for an end to the conflict, but contained no criticism of Russia. The Security Council passed the resolution, but two key US allies, the UK and France, abstained after their attempts to amend the wording were vetoed.   The UN resolutions were tabled as French President Emmanuel Macron visited President Donald Trump at the White House in an attempt to address their sharp differences over the war.       On Thursday, British Prime Minister Sir Keir Starmer will likewise visit the new American leader.   Trump's White House has upended the transatlantic alliance, currying favour with Moscow and casting doubt on America's long-term commitment to European security.  That rift was laid bare on the floor of the 193-member UNGA on Monday as US diplomats pushed their limited resolution mourning the loss of life during the \"Russia-Ukraine conflict\" and calling for a swift end to it.  European diplomats tabled a more detailed text, blaming Russia for its full-scale invasion, and supporting Ukraine's sovereignty and territorial integrity.  \"We need to reconfirm that the aggression should be condemned and discredited, not rewarded,\" said Ukrainian Deputy Foreign Minister Mariana Betsa. UNGA members backed the European resolution by 93 votes but, extraordinarily, the US did not abstain but actually voted against it, along with Russia, Israel, North Korea, Sudan, Belarus, Hungary and 11 other states, with 65 abstentions.  The UNGA also passed the US resolution but only after it was amended to include language supporting Ukraine, which led to the US abstaining. Republican Senator John Curtis said he was \"deeply troubled\" by the vote \"which put us on the same side as Russia and North Korea\". \"These are not our friends. This posture is a dramatic shift from American ideals of freedom and democracy,\" he wrote on X.   The vote was \"contrary to our long-standing support of democracy\", said former US House of Representatives Speaker Nancy Pelosi.  Ukraine's former minister of economy, Tymofiy Mylovanov, said the choice to side with Russia was deliberate.  \"This is no longer just rhetoric or political theatre,\" he said.  At the much more powerful 15-member UN Security Council, the unamended US resolution - which called for an end to the conflict but contained no criticism of Russia - was passed by 10 votes, with the UK, France, Denmark, Greece and Slovenia abstaining. America's acting envoy to the UN, Dorothy Camille Shea, described the US resolution as a \"simple historic statement... that looks forward, not backwards. A resolution focused on one simple idea: ending the war\". Rarely has the US been so at odds with its supposed European allies.     Since Russia invaded Ukraine three years ago, the Security Council has been deadlocked by the power of Russia, one of its five permanent members, to veto any resolution there. For this reason the UNGA has been the main forum for debating the war. But its resolutions are not legally binding for member states, unlike those of the Security Council.  Follow the twists and turns of Trump's second presidential term with North America correspondent Anthony Zurcher's weekly US Politics Unspun newsletter. Readers in the UK can sign up here. Those outside the UK can sign up here. Andrew Tate and his brother Tristan have left Romania, where they were previously under a travel ban. Zelensky had no experience of politics when he was elected but is now a symbol of Ukrainian defiance. Tariffs are a central part of Trump's political vision, but economists warn they could put prices up. The decision goes against a lower court judge's ruling that the government had to pay aid contractors. Trachtenberg, 39, found fame in television series Buffy the Vampire Slayer, and later Gossip Girl. Copyright 2025 BBC. All rights reserved.  The BBC is not responsible for the content of external sites. Read about our approach to external linking.  "
        ],
        [
         "13",
         "https://www.bbc.com/news/articles/cx29pnzy1l7o",
         "2025-02-25T11:16:13.166Z",
         "Frances Mao",
         "Spanish city 'adopts' migrants who intervened in homophobic attack",
         "A Spanish city has honoured two Senegalese migrants for their heroism in trying to save a gay man beaten to death by a homophobic mob.",
         "A Spanish city has honoured two Senegalese migrants for their heroism in trying to save a gay man beaten to death by a homophobic mob. Ibrahima Diack and Magatte N'Diaye were given \"adopted sons of the city\" status in A Coruña on Monday in a formal ceremony recognising their actions. The men were the only ones to intervene in July 2021, when Samuel Luiz was set upon by a group of men and kicked and punched outside a nightclub in the north-western city. The 24-year-old later died of his injuries in hospital - an event which sparked national outrage and condemnation. On Monday, at a formal ceremony in the city council's hall, Mayor Inés Rey described the migrants' actions as \"pure altruism\".  Footage of that night showed other bystanders watching on, some filming on mobiles, and the two being the only ones who intervened. \"That two undocumented migrants were the only ones who physically risked themselves to help the victim of a pack thirsting for horror leaves much food for thought and a series of lessons,\" Mayor Rey said. \"Thank you for your example in risking everything despite having a lot to lose,\" said another councillor, Rosalía López, on Instagram in a post sharing videos of the ceremony. Mr Diack and Mr N'Diaye had been living in the city without papers at the time and doing irregular work, putting them at risk of arrest and deportation if they came into contact with authorities. But both men on Monday said they had just done what they thought was the right thing in trying to stop the violence. In front of friends, civic servants and other guests on Monday, they were handed plaques by the mayor bestowing them with the status of \"Adopted Sons of A Coruña\".  \"We are not heroes, we did what we had to do,\" said Mr N'Diaye, according to an AFP report. Mr Diack said: \"I was born in a family that doesn't have much... but they gave me many things more valuable than money. They gave me respect, education and above all, values.\" The two were also crucial witnesses in the trial of Mr Luiz's killers last November, Spanish media reported. A jury found four men guilty of the murder, with the court ordering sentences between 10 and 24 years. The court found the main accused - given a 24-year sentence - had shouted homophobic insults during the attack. Tens of thousands of migrants reach Spain illegally every year through boat crossings across the Atlantic - with the most common arrivals from Mali, Senegal and Morocco. The 14-year-old from London brought a case against his parents after being sent to school in Ghana. Herds have shrunk because of drought and dry pastures, so Moroccans are urged to abstain from slaughtering sheep. Rising stars of African journalism are encouraged to apply for the award, which is now in its 10th year. The BBC joins a mission aboard the Léon Thévenin to repair an undersea fibre optic cable. The UK says it is halting aid to Rwanda as a result of its support for the M23, a notorious rebel group. Copyright 2025 BBC. All rights reserved.  The BBC is not responsible for the content of external sites. Read about our approach to external linking.  "
        ],
        [
         "14",
         "https://www.bbc.com/news/articles/c0l1w1w41xzo",
         "2025-02-26T00:00:32.454Z",
         "Frances Mao",
         "Can Europe still count on the US coming to its defence?",
         "European leaders have been left stunned by the open rapprochement between US President Donald Trump and Russia's Vladimir Putin - and not-so-subtle hints that the US may abandon its obligation to defend European allies.",
         "European leaders have been left stunned by the open rapprochement between US President Donald Trump and Russia's Vladimir Putin - and not-so-subtle hints that the US may abandon its obligation to defend European allies. After World War Two, West European countries joined the US and Canada to set up Nato (North Atlantic Treaty Organization) to counter the then-Soviet Union.  The alliance's famous Article 5 holds that Nato members will come to the defence of an ally which comes under attack. The US has long been the anchoring power, but now questions are being asked openly about Nato's future - most recently by the man set to become Germany's chancellor. Friedrich Merz said his aim would be to achieve independence from the US in terms of security. \"The events of the past week have shown that Trump has undermined Nato, undermined its secretary general and undermined the Article 5 of collective defence,\" said Armida van Rij, head of the European programme at the UK-based Chatham House think tank. \"The idea behind it was this all for one and one for all belief – and that's been broken.\" While the Trump administration says it is not pulling out of Nato and remains committed to the defence partnership with Europe, it has warned that it will \"no longer tolerate an imbalanced relationship which encourages dependency\". Trump has consistently told European allies to considerably raise their financial contributions - at one stage last year he openly encouraged Putin to invade those who failed to pay their bills. But what is alarming, say experts, is how the message is being delivered as the war in Ukraine - the greatest security crisis for the continent in decades - rages. Under Trump, the US has started to even promote Russian objectives, said Chatham House defence analyst Minna Alander. \"It even looks like Trump outright switched sides into Russia's team.\" Some of this pivoting by Trump includes:  \"This war is far more important to Europe than it is to us - we have a big, beautiful ocean as separation,\" Trump has said. The phrasing of Article 5 has long been understood as an automatic obligation by member states - and most significantly, the US military - to come to the other members' defence. But that does not always mean sending troops.  For example, if Estonia was invaded by Russia, the US could send a single surveillance plane in support and \"that would meet the letter if not the spirit of Article 5\", explained Edward Arnold, an analyst with the Royal United Services Institute, a defence and security think tank in London. \"There's nothing to suggest that the US has to put its full forces in,\" he said.  \"But the assumption has always been under previous US presidents that that would happen, so now people are starting to worry.\"  The US is the dominant military power in Nato - committing about 70% of its capabilities and command, Mr Arnold said. Along with sheer numbers - the US has more than 100,000 troops deployed in Europe - Nato has relied on the US for key capabilities such as planes refuelling mid-air, moving troops or supplies via aircraft, and military mobility. The US also provides the bulk of nuclear weapons, as well as significant intelligence, logistics, and reconnaissance tools. And it has always been seen as group leader. The Supreme Allied Commander for Europe - the top military leader in Nato - has always been an American and Americans are in most senior Nato roles. \"Because the US is militarily so overpowering, it has always been a natural leader of Nato,\" says Ms Rij. No other single European Nato ally can step into that space, she says \"because no one has the capabilities or troop levels\". The US warned a decade before Trump that Europe would need to step up its defence.  Under Joe Biden, it declared its top security priority would be the Indo-Pacific theatre, amid its competition with China, and thus a shift away from Europe. Russia's invasion of Ukraine pulled the US's focus back on Europe. But Trump's direction this past fortnight has been the push for a drastic rethink. Merz said after his German election victory that his \"absolute priority will be to strengthen Europe as quickly as possible so that, step by step, we can really achieve independence from the USA\". He even said he wasn't sure if an alliance leaders meeting in June \"would still be talking about Nato in its current form or whether we will have to establish an independent European defence capability much more quickly\". Once in office, Merz will be one of the European Big Three, which includes the UK and France in addition to Germany. The UK prime minister heads to Washington on Thursday, following the visit there on Monday by French President Emmanuel Macron. \"I don't think there are any good options for Europe at the moment. It's more about avoiding the worst one,\" said Mr Arnold.  \"It is about mitigating risk. It's not about keeping NATO together in its current form.\" The Europeans are acting quickly. Greece, Norway and others have voiced concerns while Denmark last week announced a major increase in defence spending. The UK also announced a hike on Tuesday, cutting foreign aid to fund the extra £13bn a year. Keir Starmer warned it was a \"painful\" choice, but said defence and security of the country comes first.  Mr Arnold says it's the price Europeans will have to pay, especially as \"we've sent so much stuff to Ukraine now, our own stocks are quite dry\". We are seeing now what is a \"long term shift\" in the global security order, he said. \"The US is not the ally that it once was, and it is very, very unlikely to ever go back to that view,\" he said. President Trump has repeatedly claimed that the US has given over $300bn to Ukraine, but he is incorrect. The reports of a new deployment come after Pyongyang was said to be suffering heavy losses in the Kursk region.  Andrew Tate and his brother Tristan have left Romania, where they were previously under a travel ban. Tariffs are a central part of Trump's political vision, but economists warn they could put prices up. The decision goes against a lower court judge's ruling that the government had to pay aid contractors. Copyright 2025 BBC. All rights reserved.  The BBC is not responsible for the content of external sites. Read about our approach to external linking.  "
        ],
        [
         "15",
         "https://www.bbc.com/news/articles/cy9dl4drr8lo",
         "2025-02-25T13:08:08.773Z",
         "Paul Kirby & Kristina Volk",
         "German politics froze out the far right for years – is this about to change?",
         "One in five German voters put an X in the box for Alternative for Germany (AfD) on Sunday: a record result that has made them the second biggest force in German politics.",
         "One in five German voters put an X in the box for Alternative for Germany (AfD) on Sunday: a record result that has made them the second biggest force in German politics. Riding on the back of that success, the party is now calling for an end to the consensus in German politics not to work with the far right. That \"firewall\" - Brandmauer in German - has worked since the end of World War Two, but AfD joint leader Tino Chrupalla says: \"Anyone who erects firewalls will get grilled behind them.\" There is a determination among all of Germany's main parties to keep that block in place - and the German public backs them up: 69% see the AfD as a threat to democracy, according to voters surveyed on Sunday. Friedrich Merz, who won the election for the conservatives, believes the only reason the AfD exists is because of problems such as migration and security that need to be addressed: \"We need to resolve these problems... then that party, the AfD, will disappear.\" The AfD won 20.8% of the vote nationally, and as the light blue areas of the map show, it was dominant in the five states in the east, securing 34%. \"East Germans have made it very clear they no longer want a firewall,\" said Tino Chrupalla. Friedrich Merz will now go into talks on forming a government with the Social Democrats, who came third.  Even though his party won 28.6% of the vote, it was still their second-worst result since World War Two.  Support for the AfD doubled, and a million of their voters deserted Merz's conservatives for them, according to a survey by research institute Infratest dimap. Voters have not been put off by the fact that Germany's domestic intelligence classifies parts of the AfD as right-wing extremist - or that the party has now embraced a policy called \"remigration\".  The AfD argues that remigration means deporting immigrants convicted of crime, but the term has been used by the extreme right to mean mass deportations. One of the big issues for the Christian Democrats is how to get their voters back and stop losing more. Merz has already flirted with the AfD in parliament, relying on their votes to push through a motion on migration.  But he was clearly stung by a public outcry and the mass protests that followed in many German cities. Germany's chancellor-in-waiting is unlikely to try that again, especially if he forms a government with the centre-left.  But now the AfD has more than 150 seats in parliament, its supporters in particular believe it is time for the firewall to go. \"I just hope that the firewall will fall. But we all know that it won't be like that,\" says pro-AfD TikTok influencer Celina Brychcy, 26. \"I think it will fall at the latest when new elections are held. Then they'll have to realise at some point they can't get through with what they're doing right now.\" \"I think the Brandmauer will stay,\" says Dominic, 30, who voted for the AfD in Saxony. \"I want the government to really think about their own people and their own country.\" Read more on the German election here: Merz signals seismic shift in transatlantic relations Five key takeaways from German election Conservatives celebrate, but AfD doubles vote  Pressure to take down the long-standing firewall is not just coming from the AfD, but from leading figures in the Trump administration too, including US Vice-President JD Vance and Elon Musk, who has repeatedly backed the party. Most of the voices you hear challenging the firewall come from the east, which may not be surprising considering the deep reach of the AfD, especially in the five eastern states out of a total of 16 across Germany. They won 38.6% of the vote in Thuringia and 37.% in both Saxony and Saxony-Anhalt, far ahead of the CDU. It makes them increasingly difficult to keep at arm's length. On one of the big talkshows on German TV on Monday night, Harsh but Fair, one local mayor from Saxony, Mirko Geissler, believed the AfD should be put on the \"playing field\", so they could show what they could do. If not, they would end up surging to 40-50% in the polls, he warned. Liane Bach, an independent mayor from a village in Thuringia said that in her region, \"AfD voters aren't right-wing extremists\". A CDU politician on the programme, Phillip Amthor, conceded there should be \"no firewalls between the democratic parties and people who vote AfD\". That is the main issue the big national parties will have to address. How to avoid ostracising AfD voters who clearly have no problem with the firewall being breached. One mayor pointed out that one of her fellow residents who was also an AfD councillor was fixing the local fountain. It made no sense not to work with him. Prof Conrad Ziller from the University of Duisburg-Essen believes the greatest threat to the firewall could come at state level, rather than nationally. \"If you have trouble building a coalition in a state, then at some point, there could be a minority government that relies on the AfD, or gets votes from the AfD from time to time.\" On a national level, the worst-case scenario would be for a breakdown in a Merz-led coalition: \"Merz could make mistakes. If he gets really tough on immigration, it might become problematic with the SPD.\" Germany has already seen one early election because of a coalition collapse, and the AfD's Alice Weidel has made clear she is looking for early elections. Her repeated appearances on TV election debates have made her a prominent figure in Germany and helped raise her party's profile.  But it was the constant focus on migration and security that became the number one issue for AfD voters, partly fuelled by three deadly attacks, all allegedly carried out by immigrants. Tackling insecurity, and the perception of it, will be an immediate task for the next government, when it eventually takes shape. Underlying the urgency, Bavaria's centre-right leader Markus Söder said the need to tackle immigration, along with Germany's faltering economy, was \"in fact, the last bullet of democracy\". There is no question of breaching the long-standing firewall for the moment. And the general secretary of Merz's party, Tom Unger, was adamant that there should be no collaboration with a party that opposed Germany's ties with the West, its membership of Nato and \"the European idea\". That was incompatible, he said, with the conservatives' \"core DNA\". Friedrich Merz heralds a new era for Europe without the US as a key partner, writes Europe editor Katya Adler. The far-right Alternative for Germany (AfD) is expected to become the second biggest force in the country. Germany is at a crossroads and now for Friedrich Merz the hard work begins, writes Berlin correspondent Jessica Parker. Christian Democrats leader Friedrich Merz thanks those who placed their trust in the party and him. Conservative Friedrich Merz is expected to win, but the far-right AfD is set for a strong second place. Copyright 2025 BBC. All rights reserved.  The BBC is not responsible for the content of external sites. Read about our approach to external linking.  "
        ],
        [
         "16",
         "https://www.bbc.com/news/articles/cpq222rqv4po",
         "2025-02-27T13:09:39.367Z",
         "Nick Thorpe, Mircea Barbu & Paul Kirby",
         "Tate brothers allowed to leave Romania for US",
         "British-American influencers Andrew and Tristan Tate - who are facing trial in Romania on charges of rape, trafficking minors and money laundering - have left the country after prosecutors lifted a two-year travel ban.",
         "British-American influencers Andrew and Tristan Tate - who are facing trial in Romania on charges of rape, trafficking minors and money laundering - have left the country after prosecutors lifted a two-year travel ban. Andrew Tate, 38, and his brother Tristan, 36, left Bucharest on a private jet early on Thursday. Both deny the allegations against them. Romanian prosecutors stressed the case against them had not been dropped and they would be expected to return, understood to be at the end of next month. However, their decision has raised concern that they came under pressure from leading figures in the Trump administration, with one leading Romanian politician saying she was outraged. The brothers are facing separate, unrelated charges in the UK over allegations of rape and human trafficking, which they also deny. A separate, civil case has been opened in the US. Romanian reports said they were heading to Fort Lauderdale in Florida on a non-stop flight that would take 12 hours, however the Tates' lawyer in Bucharest denied to the BBC that was their destination. The Tate brothers were first arrested in Romania in December 2022. The elder of the two, a former kickboxer who appeared on UK TV show Big Brother, was later accused of rape and human trafficking while his brother was suspected of human trafficking. They both denied those charges and spent several months under house arrest. A year later, in August 2024, they faced new allegations including sex with a minor and trafficking underage persons. Andrew Tate is a self-described misogynist who has attracted millions of followers online, despite being previously banned from social media platforms for expressing his views. He moved from the UK to Romania several years ago, however police in Bedfordshire are still seeking his extradition on separate and unrelated allegations of rape and human trafficking, as well as tax evasion. Thursday's decision by Romanian prosecutors to lift the ban on the Tates leaving the country is believed to have come in the wake of comments from figures in the Trump administration earlier this month. The Tates have regularly posted messages in support of US President Donald Trump, and Tristan Tate has said his brother's role in persuading \"millions of young men\" to back him \"cannot be overlooked\". Romania's Foreign Minister Emil Hurezeanu told Romanian TV that Trump's special envoy, Richard Grenell, had brought up the issue of the Tate brothers during a conversation at the Munich Security Conference earlier in February. Hurezeanu said his discussion with Trump's envoy had only been an informal one and he had not considered Grenell's approach as a \"form of pressure\". Grenell told the Financial Times his support for the brothers was evident from his \"publicly available tweets\". Four British women have also taken out a civil case against Andrew Tate at the UK High Court, alleging that he raped and coercively controlled them. Tate denies their allegations. They said it was clear he would not face criminal prosecution in Romania and appealed to UK authorities to take action. \"We are in disbelief and feel re-traumatised by the news that the Romanian authorities have given into pressure from the Trump administration to allow Andrew Tate to travel around Europe and to the US,\" the women said in a statement. Elena Lasconi, who is running for the Romanian presidency in May's elections, six months after they were controversially cancelled, has called for the immediate resignation of the head of Romania's organised crime investigations directorate DIICOT, which made the decision to let the brothers leave. \"I am outraged!\" she wrote on social media, \"as a woman, a human being and a Romanian.\" Lasconi said prosecutors should explain publicly whether their decision came as a result of external pressure. Prosecutors from DIICOT have emphasised that the judicial conditions for the brothers have not changed. Any violation of those obligations made in bad faith \"may lead to the replacement of judicial control with a higher measure of deprivation of liberty\", it said in a statement in Romanian. The Tates are understood to be required to return to Bucharest at the end of March to satisfy the prosecutors' terms, however it is too early to say whether they will comply with them. Romania is both a member of the European Union and a key Nato member state on the Western alliance's eastern flank.  Senior Trump figures have also had the government in Bucharest in their sights over the court ruling that annulled last December's presidential election. Romanian intelligence services said far-right candidate Calin Georgescu had been supported by a flurry of TikTok accounts engineered by Russia. Georgescu was indicted on Wednesday for attempted \"incitement to acts against the constitutional order\". Prosecutors are investigating a series of alleged offences, after Georgescu came from nowhere to win the first round. Charity says German Shepherd has spent her whole life chained to a tree. Two members of the Romanian community discuss how they have started businesses in the island. His exit comes as political opponents had sought to remove him over remaining in office beyond the end of his term. Several hundred well-paid foreign soldiers fighting on the side of the Congolese government surrender. Copyright 2025 BBC. All rights reserved.  The BBC is not responsible for the content of external sites. Read about our approach to external linking.  "
        ],
        [
         "17",
         "https://www.bbc.com/news/articles/c23444ddzjyo",
         "2025-02-27T08:55:24.894Z",
         "Unknown",
         "Search for missing six-year-old continues",
         "A search at a house in Drogheda, County Louth, as part of the investigation into the murder of a six-year-old boy who disappeared more than two years ago, has entered a second day.",
         "A search at a house in Drogheda, County Louth, as part of the investigation into the murder of a six-year-old boy who disappeared more than two years ago, has entered a second day. Kyran Durnin was reported missing at the end of last summer but gardaí (Irish police) believe he may have been killed more than two years earlier. They began a murder investigation in October, saying they were treating Kyran as missing, presumed dead. That same month they carried out a dig at his former family home in Emer Terrace, Dundalk, but there was no sign of his body. On Wednesday, a white cordon was erected around a house on Hand Street in Drogheda. Officers from the Garda Technical Bureau undertook a forensic examination of the property, including the rear garden. A mini-digger was used to excavate land. Kyran had been a pupil at the national [primary] school near his home in Dundalk until the summer of 2022. He did not return to class after the summer holidays and it is understood authorities were told he was moving to Northern Ireland and to a new school in Newry. Tusla, the Irish state agency responsible for child welfare and protection, said it received no referrals or concern about Kyran's attendance or educational welfare between 2022 and 2024. In December, two houses were searched in Drogheda. One of the searches involved the use of a cadaver dog. The results of the searches were not made public. The Garda Commissioner Drew Harris previously said he had never seen a case like this in his 40-year career in policing on both sides of the border. A property in Drogheda, County Louth, is searched for a boy who is missing, presumed murdered. Police have released without charge a man in connection with the death of a woman on board a ferry. The President of Ireland has led tributes to the award-winning novelist and playwright Jennifer Johnston.  A man has been arrested in connection with the investigation and is currently detained. The gallery said the equipment was essential for examining paintings in a non-destructive way. Copyright 2025 BBC. All rights reserved.  The BBC is not responsible for the content of external sites. Read about our approach to external linking.  "
        ],
        [
         "18",
         "https://www.bbc.com/news/articles/c0l11gr35gwo",
         "2025-02-27T05:12:03.716Z",
         "Sarah Rainsford",
         "'In a scary world, he gives us hope': Faithful gather to support the Pope",
         "Catholics gathered to pray for the health of the Pope beneath the steps of St Peter's Basilica for a third night, as his doctors said his condition showed further slight improvement.",
         "Catholics gathered to pray for the health of the Pope beneath the steps of St Peter's Basilica for a third night, as his doctors said his condition showed further slight improvement. Nuns dangling rosary beads, tourists and student priests were among those who joined the gentle incantation of the rosary in the Vatican. They were led by a cardinal in a scarlet skull cap who prayed for Pope Francis to be able to resume his duties as soon as possible. The nightly gatherings began on Monday after the 88-year-old's health took a dramatic dip at the weekend. He was fighting to breathe and needed blood transfusions. But the latest statements suggest the Pope is able to sit in his chair, is eating normally and even doing what the Vatican calls \"light work\": reading and signing documents. \"It was a bit scary last weekend but a bit better now,\" Stacey, a medical student from Paris, told the BBC. She was attending the prayers for the Pope for a second time. \"Francis is very popular with young people because he's really open, and in a world that became a little scary, he gives us a lot of hope.\" Xiomara, from Panama, said she felt drawn to this Pope in particular as he was \"a good man\". \"Prayers always help, they don't just hang in the air,\" she believes. Leading the rosary from beneath a white canopy was Cardinal Battista Re. He's the figure in the Vatican who would call a conclave - the closed gathering of senior clergy that elects a Pope - if Francis were not able to continue in the role. Despite the slight improvement, the Pope's medical team are still giving no prognosis. He was admitted to Gemelli hospital on 14 February with double-pneumonia and, according to the Vatican, a CT scan of his lungs shows a \"normal evolution\" which suggests he is responding to treatment. We're told he still uses additional oxygen but has suffered no further \"respiratory crises\". The tone of Vatican officials has certainly relaxed a little. On Tuesday, the Pope's condition was described as \"stable\", which was new. By Wednesday evening there was a \"further slight improvement\" and the update omitted to say \"critical\" for the first time. Vatican officials cautioned that didn't mean the Pope was out of the woods. But with so little to go on, those following his condition closely are wringing every word - or missing word - for meaning. Inevitably, many have also been wondering about the future. The Pope was frail even before this infection, so there has been speculation over whether he might resign. The Quotidiano Nazionale newspaper calls it the \"fluttering of crows\" over St Peter's, inevitable at the \"sunset\" of any Papacy. It's even louder this time since Benedict XVI set a precedent and stepped down in 2013, the first Pope to do so in six centuries. Francis has said before that he would consider resigning if he can't carry out his duties. \"His instinct will be to carry on as long as he can and is able to,\" believes Austen Ivereigh, who co-authored a book with Pope Francis.  \"He's shown he doesn't mind being a weak and frail Pope; he can be a Pope in a wheelchair, or one who gets ill regularly and that's ok.\" All the same, if his health prognosis were too bad, the author said, \"then the [resignation] issue might arise.\" Even with Francis confined to the Gemelli hospital, the well-oiled Vatican cogs continue to turn. The bureaucracy functions and the Pope has been signing some documents. On Monday, his secretary of state and another senior official visited. Officially, the Pope signed papers, moving a list of candidates further along the path towards sainthood. But some question why they couldn't wait, given the frailty of the Pope, and wonder what other plans were discussed at that meeting. As Francis enters his 14th day in hospital, pilgrims to Rome are already experiencing life without him. His weekly audience, or meeting, with the faithful was cancelled for the second week. \"We really want him to get better and continue the amazing work he's started,\" said Mabi. She mentions the foregrounding of women in the church in particular. \"He's a people's Pope and people want his work to continue.\" \"We're sorry, because we hoped to meet the Pope today at an audience – we had tickets,\" Fr Cristiano said. Around him almost 100 Catholics from northern Italy were gathering to begin processing up the street towards St Peter's behind a large wooden crucifix. \"I'm not disappointed, I'm just worried for him,\" the priest said. \"Today the news is not so bad, but it's not so good, either. So we need to pray.\" The Vatican says the Pope's condition has improved as he spends an 11th day in hospital with double pneumonia. Pope Francis is \"more unwell than yesterday\", the Vatican says, adding his prognosis \"remains guarded\". The Gemelli hospital has been treating popes for more than thirty years.  The 88-year-old pontiff was admitted to hospital on Friday with a respiratory infection.  It said lab tests, a chest X-ray and the Pope's clinical condition \"continue to present a complex picture\". Copyright 2025 BBC. All rights reserved.  The BBC is not responsible for the content of external sites. Read about our approach to external linking.  "
        ],
        [
         "19",
         "https://www.bbc.com/news/articles/c17qe11wy52o",
         "2025-02-27T00:23:25.454Z",
         "Nick Beake",
         "Leaked recordings challenge Greek account of deadly shipwreck",
         "Leaked audio instructions by Greek rescue co-ordinators have cast further doubt on Greece's official version of events in the hours before a migrant boat sank along with up to 650 people onboard.",
         "Leaked audio instructions by Greek rescue co-ordinators have cast further doubt on Greece's official version of events in the hours before a migrant boat sank along with up to 650 people onboard. The Adriana went down in the early hours of 14 June 2023 in international waters – but within Greece's rescue zone - after leaving Libya days earlier. Survivors later told the BBC that coastguards had caused their overcrowded fishing boat to capsize in a botched attempt to tow it and then forced witnesses to stay silent.  The Greek coastguard denied these claims and maintains it did not try to rescue those onboard because they were not in danger and said they had voluntarily wanted to reach Italy, not Greece. But in a phone call that's now emerged an unnamed man speaking from inside a Greek rescue coordination centre is heard instructing the captain of the migrant boat to tell an approaching ship that those onboard do not want to reach Greece. The coastguard has not commented on the audio but said it had handed over all available evidence to a Naval Court which is investigating the disaster. The sinking was one of the worst-ever disasters known to have happened in the Mediterranean Sea. It is estimated the boat was carrying up to 750 migrants when it set off from the port of Tobruk in Libya nearly a week earlier. Eighty-two bodies were recovered, but the United Nations believes an additional 500 people - including 100 women and children who were in the hold of the boat - may have died. Audio recordings obtained by Greek website News247.gr reveal phone calls involving the Joint Rescue Coordination Centre (JRCC) at the port of Piraeus, near the capital Athens. In the first call, at 18:50 local time (15:50 GMT)  on 13 June, an officer is heard explaining to the man piloting the migrant boat that a large red vessel will soon be approaching to give supplies and that he should explain that the migrants do not want to reach Greece. Officer 1: The replies of the man captaining the migrant boat are not heard. In a second call, 90 minutes later, at 22:10, a seemingly different officer from the same coordination centre, speaks to the captain of the Lucky Sailor (the \"big red ship\"). Officer 2: OK, captain, sorry before I couldn't hear you. I couldn't understand what did you say to me. You told me you gave them food, water and they told you that they don't want to stay in Greece and they want to go to Italy, they don't want anything else? Lucky Sailor captain: Yes because I asked them by megaphone \"Greece or Italia?\" and everybody there screaming Italia. Officer 2: Aah, OK, OK everybody screaming that they don't want Greece and they want Italy? Lucky Sailor captain: Yes, yes, yes. Officer 2: OK Lucky Sailor captain: They are all like crowded people, very crowded, full deck. Officer 2: OK, captain. So you have finished with the supplies? Lucky Sailor captain: Yes, sir, yes. Officer 2: Captain, I want this, I want this to write it in your logbook. The bridge logbook. Lucky Sailor captain: Yes OK, we will write it. Officer 2: OK? Lucky Sailor captain: Yes Officer 2: I want you to write it about that they don't want to stay in Greece and they want to go to Italy. They want nothing from Greece and they want to go to Italy. Lucky Sailor captain: OK, yes, yes. Another vessel, the Faithful Warrior, also gave some supplies to the migrant boat but no further conversations between its captain and the Greek authorities have emerged. The Greek coastguard did not comment on the contents of the conversations but told the BBC it had submitted \"all the material it had in its possession, including the audio recordings and the diaries of events\" to the Maritime Court Prosecutor's Office, which is investigating. It said it had rescued more than a quarter of a million migrants in danger at sea in the last decade and arrested more than a thousand smugglers, and that its humanitarian work had been recognised internationally. Our BBC investigation in the immediate days after the sinking challenged the Greek authorities' explanation for the disaster. Analysis of the movement of other ships in the area suggests the overcrowded fishing vessel was not moving for at least seven hours before it capsized. The coastguard has always insisted that during these hours the boat was on a course to Italy and not in need of rescue. Last year, a Greek court threw out charges against nine Egyptian men who were accused of causing the shipwreck.  The judges in the southern port city of Kalamata ruled they did not have jurisdiction to hear the case, on the grounds the vessel sank in international waters. The indictment had showed that the defendants were being prosecuted on evidence that had already been contradicted by at least six survivors, who told the BBC the coastguard had caused their boat to capsize and then pressured them to frame the Egyptians. Human rights lawyer, Dimitris Choulis, who represented some of the accused Egyptians said he was not surprised by what these recordings. \"We know about the coastguard's tactics of either pushing back or not rescuing people.\" He claimed there had been \"an attempted cover up from day one.\" \"They [Greek authorities] told the story 'they did not want to be rescued' and so have insulted the memory of so many dead people,\" he told the BBC. Human rights groups, including Amnesty International and Human Rights Watch, have said they have strong reservations about the integrity of the Greek investigation and have called for an international investigation. The Greek Ombudsman - an independent authority removed from the government - has been looking at the allegations. The disaster is also being examined by the Greek Naval Court. In the western city of Oberhausen the BBC finds conflicting attitudes towards immigration ahead of the vote. Six men have been arrested over their suspected involvement in a major people smuggling ring. The number of people crossing the Channel in small boats has led the government to promise action. Researchers at LJMU use new techniques to identify people who have died on migrations across Europe. Lorry driver Nathan Rimmington says outlook on life has changed after replicating refugees' journey. Copyright 2025 BBC. All rights reserved.  The BBC is not responsible for the content of external sites. Read about our approach to external linking.  "
        ],
        [
         "20",
         "https://www.bbc.com/news/articles/c9de53y43lvo",
         "2025-02-26T21:10:02.468Z",
         "Unknown",
         "New search for missing six-year-old Kyran Durnin",
         "A house in Drogheda, County Louth, is being searched as part of the investigation into the murder of a six-year-old boy who disappeared more than two years ago.",
         "A house in Drogheda, County Louth, is being searched as part of the investigation into the murder of a six-year-old boy who disappeared more than two years ago. Kyran Durnin was reported missing at the end of last summer but gardaí (Irish police) believe he may have been killed more than two years earlier.  They began a murder investigation in October, saying they were treating Kyran as missing, presumed dead.  That same month they carried out a dig at his former family home in Emer Terrace, Dundalk, but there was no sign of his body. On Wednesday, a white cordon was erected around a house on Hand Street in Drogheda.  Officers from the Garda Technical Bureau undertook a forensic examination of the property, including the rear garden.  A mini-digger was used to excavate land.  The search has been stood down for the night and is set to resume at first light on Thursday. Kyran was originally reported missing alongside his mother, Dayla Durnin, in August 2024. One of Kyran's grandmothers claimed she had last seen them in her home in Drogheda and, at that time, she appealed for her daughter Dayla to contact her.  Dayla was later found alive in Great Britain without Kyran. Gardaí investigating the schoolboy's disappearance have made two arrests during the course of their inquiry so far. A man and a woman were arrested two days apart in mid-December but they were both released without charge within a day of being detained.  The man, who was arrested on suspicion of Kyran's murder, was found dead at his home in Drogheda just days after his release from custody.  He was named locally as 36-year-old Anthony Maguire.  Confirming the latest search at a \"domestic residence\" in Drogheda, gardaí said they were \"aware of ongoing extensive public commentary\" on their investigation.  They warned that most of the speculation, rumours and theories on what may have happened to Kyran was \"inaccurate and misinformed\". \"Such ill-informed public commentary is not only disruptive to the Garda investigations but also adds to the trauma experienced by victims families,\" they added. Kyran had been a pupil at the national [primary] school near his home in Dundalk until the summer of 2022.  He did not return to class after the summer holidays and it is understood authorities were told he was moving to Northern Ireland and to a new school in Newry. Tusla, the Irish state agency responsible for child welfare and protection, said it received no referrals or concern about Kyran's attendance or educational welfare between 2022 and 2024. In December, two houses were searched in Drogheda. One of the searches involved the use of a cadaver dog. The results of the searches were not made public. The Garda Commissioner, Drew Harris, previously said he had never seen a case like this in his 40-year career in policing on both sides of the border. 2021-2022 - Kyran attends a national [primary] school near his home in Dundalk, but does not return to the school after the 2022 summer holidays. May 2024 - Kyran's family move out of their home in Emer Terrace in Dundalk, where they had been living for a number of years. Unknown date in August 2024 - Tusla, the Irish state agency responsible for child protection, alerts gardaí about \"a significant concern about Kyran\". 30 August 2024 - Kyran and his 24-year-old mother Dayla Durnin are reported missing from their home in Drogheda. 4 September 2024 - Gardaí issue a public missing persons appeal, seeking help to find Dayla and Kyran. 16 October 2024 - Gardaí say they now believe that \"Kyran is missing, presumed dead\" and they confirm they have begun a murder inquiry. 22 October 2024 - Kyran's former family home and garden in Emer Terrace, Dundalk, is searched by forensic investigators, as well as nearby open ground.  24 October 2024 - the Dundalk search ends, with gardaí adding that the results of the search are not being released for operational purposes. 31 October 2024 - Tusla declines to publicly release its review of its interactions with Kyran's family, adding information it held on him was lost in a cyber attack. 10 December 2024 - A woman is arrested by gardaí investigating Kyran's disappearance and murder but is released without charge the following day. 12 December 2024 - Two houses in Drogheda are searched and a man is arrested on suspicion of Kyran's murder, but he too is released without charge the next day.   17 December 2024 - The man who had been arrested and released - named locally as 36-year-old Anthony Maguire - is found dead at his home in Drogheda.  26 February 2024 - Gardaí begin a forensic search at a \"domestic residence\" in Drogheda. Copyright 2025 BBC. All rights reserved.  The BBC is not responsible for the content of external sites. Read about our approach to external linking.  "
        ],
        [
         "21",
         "https://www.bbc.com/news/articles/cdrxy1zp8mxo",
         "2025-02-26T21:03:11.477Z",
         "Guy Delauney",
         "Bosnian-Serb leader sentenced to jail in landmark trial",
         "A one-year prison sentence and a six-year ban on holding public office might seem like a heavy penalty for a politician. ",
         "A one-year prison sentence and a six-year ban on holding public office might seem like a heavy penalty for a politician.  But the Bosnian-Serb leader Milorad Dodik made light of the verdict at the Court of Bosnia and Herzegovina. The president of the country's majority-Serb Republika Srpska region told supporters at a rally in the regional capital Banja Luka there was \"no reason to worry\". His conviction on charges of ignoring the rulings of the international High Representative was \"nonsense\", he said.  Dodik said he had \"learned to deal with more difficult things\" and called on the crowd in Republika Srpska's de facto capital to \"be cheerful\". The verdict was the culmination of a long-running conflict between Dodik and the international High Representative for Bosnia and Herzegovina, Christian Schmidt. Schmidt is still the supreme authority in Bosnia, 30 years on from the Dayton Agreement which ended the Bosnian War of the 1990s.  The high representative has the power to impose or annul laws – and sack officials ranging from judges to political leaders. One former holder of the post, Paddy Ashdown, the former leader of the UK's Liberal Democrats, sacked almost 60 Bosnian-Serb officials in a single day in 2004, in a crackdown on their protection of war criminals. But the high representative's powers have been used much more sparingly in subsequent years, as Bosnia's international supporters stepped back in the hope that local leaders would work together to create a viable and prosperous country. The strategy has not been a success. Ethno-nationalist leaders remain entrenched in a country which is divided into two \"entities\" – the majority-Serb Republika Srpska and the Federation, where the population are mostly Bosniaks and Croats. The central government is weak – and there is little incentive for parties to cooperate. Instead, their guiding philosophy is simple and self-interested: divide, rule and profit. As a result, the country is struggling with low wages, a sluggish economy and a constant flow of emigration by talented people seeking a better future elsewhere. \"Bosnians of all ethnicities are united by their disdain for their own leaders,\" says Toby Vogel, co-founder of the Democratisation Policy Council think tank. \"They would love not to vote for these guys, but it's structurally almost impossible for cross-community politicians and parties to emerge.\" Instead, leaders like Dodik get elected, time after time. The leader of the SNSD party has previously served as the Serb representative of the three-person national presidency and first became prime minister of Republika Srpska in 1998. A constant theme of his leadership has been the threat to trigger the secession of the majority-Serb region.  Dodik and his government have consistently worked to undermine Bosnia's national institutions, introducing a series of laws to withdraw Republika Srpska from the armed forces, judiciary and tax system. Such efforts eventually pushed the high representative to take action and annul the secessionist legislation.  Christian Schmidt warned that a renewal of conflict was possible, but insisted that he would \"not sit still while others seek to dismantle [decades] of peace, stability and progress\". Dodik apparently viewed that as a challenge. He approved a law declaring that Republika Srpska would no longer recognise Schmidt's rulings. The high representative had already annulled the legislation – and made it a criminal offence to contradict his decisions. That led to the prosecution of the Bosnian-Serb leader – with prosecutors calling for a maximum five-year prison sentence and 10-year ban from holding elected office. Dodik warned he would take \"radical measures\" if found guilty. His conviction has not brought any fireworks so far. At this point, Dodik is insisting that he will not appeal. Instead, Republika Srpska's government is once again proposing legislation to withdraw from national institutions – including the court which passed the guilty verdict. But Dodik is facing problems beyond Bosnia's borders. The US and UK have imposed sanctions on him and his family for corruption - threatening the unity of Bosnia and Herzegovina - and connections with Russia.  Toby Vogel believes that is more likely to threaten the Bosnian-Serb leader than the court conviction. \"The conflict with the high representative will intensify,\" he says. \"But Dodik might well be running out of road.\" \"He is running out of cash to pay his bloated administration… and he can no longer raise money on international markets. So, he is in very deep trouble indeed.\" None of this will be much comfort to the long-suffering people of Bosnia and Herzegovina. They are still enduring the interminable wait for the prosperity promised by ethno-nationalists like Dodik. This latest court battle shows how distant that prospect remains. Copyright 2025 BBC. All rights reserved.  The BBC is not responsible for the content of external sites. Read about our approach to external linking.  "
        ],
        [
         "22",
         "https://www.bbc.com/news/articles/cwygwzd4wggo",
         "2025-02-26T17:24:17.617Z",
         "Maia Davies",
         "British man dies and one injured while climbing in Norway",
         "A British man has died and another was left injured while climbing in Norway.",
         "A British man has died and another was left injured while climbing in Norway. Norwegian media reported an avalanche fell while the men scaled a frozen waterfall at Gaustatoppen mountain on Friday. Rescuers reportedly failed to recover the man who died for several days due to poor weather conditions. The Foreign Office said: \"We are supporting the family of a British man who has died in Norway, and a British man who has been injured, and are in contact with the local authorities.\" An avalanche fell on the mountain in Norway's southern Telemark county early on Friday afternoon, Norwegian media reported. Rescuers were said to have airlifted one of the climbers to hospital with non-fatal injuries on Saturday. Efforts to recover the second man were postponed several times due to bad weather, Norway's NRK reported. \"Prevailing weather conditions, avalanche danger and accessibility made it a very complicated and demanding task to get in and down to the climbers,\" local emergency manager Tor Einar Bakken told the broadcaster. Fire and police officers reportedly recovered his body on Tuesday morning using ropes and by abseiling, as poor conditions meant it was not possible to use a helicopter. Hari Budha Magar, from Canterbury, climbed Mount Aconcagua in the Andes mountain range on Saturday. Ronald Mackinnon died after entering the water when the Njord capsized off Stavanger in 2022. Watford sign Norway goalkeeper Egil Selvik from Udinese for an undisclosed fee, on a three-and-a-half-year contract. Two separate avalanches killed four Norwegians and one Swiss skier.  The families of those killed are reacting to a new report which found they were failed. Copyright 2025 BBC. All rights reserved.  The BBC is not responsible for the content of external sites. Read about our approach to external linking.  "
        ],
        [
         "23",
         "https://www.bbc.com/news/articles/c70eky7l6pxo",
         "2025-02-26T17:11:57.047Z",
         "Paul Kirby & Mircea Barbu",
         "Romanian far-right presidential hopeful detained on street and indicted",
         "Far-right populist Calin Georgescu, who came from nowhere to win the first round of last year's presidential election, has been detained by police and is facing criminal proceedings on a series of charges.",
         "Far-right populist Calin Georgescu, who came from nowhere to win the first round of last year's presidential election, has been detained by police and is facing criminal proceedings on a series of charges. Georgescu was stopped in traffic in the capital, Bucharest, on his way to register as a candidate for new elections in May, after last December's second-round run-off was annulled by the constitutional court. Prosecutors said one of the charges involved attempted \"incitement to actions against the constitutional order\". Two right-wing populist parties said they were mobilising their supporters to head for the prosecutor's office, where Georgescu was taken for questioning. Police were seen erecting barriers around the building and hundreds of demonstrators gathered to protest. Prosecutors said Georgescu was also being investigated for giving \"false information, false statements\" and for setting up an organisation with \"fascist, racist or xenophobic characteristics\" as well as forming an antisemitic organisation. The severity of the indictment could jeopardise Georgescu's bid to run in the presidential election on 4 and 18 May. He has been placed under judicial control and told not to leave Romania, according to reports. As he left the prosecutor's office, Georgescu told supporters he would continue to fight and that there was \"no difference between the communist mentality and system [that collapsed in 1989] and now\". The original presidential vote was cancelled before the second round last December, after the then president, Klaus Iohannis declassified intelligence documents that suggested that hundreds of TikTok accounts had been activated backing Georgescu.  Romanian foreign intelligence said Russia had been behind the move, as well as thousands of cyber-attacks and other sabotage. Iohannis had decided to stay in office until a successor was elected, but he resigned earlier this month ahead of an impeachment vote. Opposition politicians had at the time accused Iohannis of an undemocratic move, and Georgescu's communications team repeated the claim against prosecutors. \"Where is democracy now?\" they posted on X on Wednesday, tagging President Donald Trump, Elon Musk and US Vice-President JD Vance. Earlier this month, the US vice-president accused Romania of annulling the elections based on \"flimsy suspicions\" of Romanian intelligence and pressure from its neighbours. Romanian Foreign Minister Emil Hurezeanu accused Elon Musk of a \"form of interference\" in Romania's elections, after the billionaire posted several messages of support for Georgescu. Georgescu's hopes of running for the presidency may end up at the constitutional court, which barred another far-right, pro-Russian candidate from running last year.  The decision to turn down Diana Sosoaca's candidacy because of her views was widely criticised in Romania. Romania is a vital part of Nato's eastern flank as well as being a member of the European Union.  Calin Georgescu has been accused of being pro-Russian and he has praised Romania's fascist and nationalist leaders from the last century as heroes. He denied he was \"Moscow's man\", in a BBC interview last year, but referred to Vladimir Putin as a \"patriot and a leader\" while pointing out \"I am not a fan\". Meanwhile, Romanian police said they had carried out raids in several counties around the country, targeting 27 individuals as part of a criminal case relating to the creation of an organisation \"with a fascist, racist or xenophobic nature\".  Investigations were also being conducted into false statements regarding the sources of election campaign funding, police said.  The statement made no mention of Georgescu himself and it was not clear if the raids were linked, however he said he was fighting a security system \"that wants us in slavery\". The influencers had been banned from travelling out of Romania for more than two years. Andrew Tate and his brother Tristan have left Romania, where they were previously under a travel ban. The 38-year-old former kickboxer once said women should \"bear responsibility\" for sexual assault. Charity says German Shepherd has spent her whole life chained to a tree. Reports say US officials asked Romania to relax travel restrictions against Andrew Tate and his brother. Copyright 2025 BBC. All rights reserved.  The BBC is not responsible for the content of external sites. Read about our approach to external linking.  "
        ]
       ],
       "shape": {
        "columns": 6,
        "rows": 24
       }
      },
      "text/html": [
       "<div>\n",
       "<style scoped>\n",
       "    .dataframe tbody tr th:only-of-type {\n",
       "        vertical-align: middle;\n",
       "    }\n",
       "\n",
       "    .dataframe tbody tr th {\n",
       "        vertical-align: top;\n",
       "    }\n",
       "\n",
       "    .dataframe thead th {\n",
       "        text-align: right;\n",
       "    }\n",
       "</style>\n",
       "<table border=\"1\" class=\"dataframe\">\n",
       "  <thead>\n",
       "    <tr style=\"text-align: right;\">\n",
       "      <th></th>\n",
       "      <th>url</th>\n",
       "      <th>publish_date</th>\n",
       "      <th>author</th>\n",
       "      <th>headline</th>\n",
       "      <th>summary</th>\n",
       "      <th>content</th>\n",
       "    </tr>\n",
       "  </thead>\n",
       "  <tbody>\n",
       "    <tr>\n",
       "      <th>0</th>\n",
       "      <td>https://www.bbc.com/news/articles/cpq222rqv4po</td>\n",
       "      <td>2025-02-27T13:09:39.367Z</td>\n",
       "      <td>Nick Thorpe, Mircea Barbu &amp; Paul Kirby</td>\n",
       "      <td>Tate brothers allowed to leave Romania for US</td>\n",
       "      <td>British-American influencers Andrew and Trista...</td>\n",
       "      <td>British-American influencers Andrew and Trista...</td>\n",
       "    </tr>\n",
       "    <tr>\n",
       "      <th>1</th>\n",
       "      <td>https://www.bbc.com/news/articles/cg4kkv3e1v9o</td>\n",
       "      <td>2025-02-27T12:19:05.853Z</td>\n",
       "      <td>Unknown</td>\n",
       "      <td>Why are the Tate brothers heading to the US?</td>\n",
       "      <td>Controversial influencer Andrew Tate and his b...</td>\n",
       "      <td>Controversial influencer Andrew Tate and his b...</td>\n",
       "    </tr>\n",
       "    <tr>\n",
       "      <th>2</th>\n",
       "      <td>https://www.bbc.com/news/articles/cn7vg0nvzkko</td>\n",
       "      <td>2025-02-27T02:03:10.229Z</td>\n",
       "      <td>James Gregory</td>\n",
       "      <td>Zelensky to meet Trump in Washington to sign m...</td>\n",
       "      <td>Ukrainian President Volodymyr Zelensky will me...</td>\n",
       "      <td>Ukrainian President Volodymyr Zelensky will me...</td>\n",
       "    </tr>\n",
       "    <tr>\n",
       "      <th>3</th>\n",
       "      <td>https://www.bbc.com/news/articles/c70eky7l6pxo</td>\n",
       "      <td>2025-02-26T17:11:57.047Z</td>\n",
       "      <td>Paul Kirby &amp; Mircea Barbu</td>\n",
       "      <td>Romanian far-right presidential hopeful detain...</td>\n",
       "      <td>Far-right populist Calin Georgescu, who came f...</td>\n",
       "      <td>Far-right populist Calin Georgescu, who came f...</td>\n",
       "    </tr>\n",
       "    <tr>\n",
       "      <th>4</th>\n",
       "      <td>https://www.bbc.com/news/articles/cdrxy1zp8mxo</td>\n",
       "      <td>2025-02-26T21:03:11.477Z</td>\n",
       "      <td>Guy Delauney</td>\n",
       "      <td>Bosnian-Serb leader sentenced to jail in landm...</td>\n",
       "      <td>A one-year prison sentence and a six-year ban ...</td>\n",
       "      <td>A one-year prison sentence and a six-year ban ...</td>\n",
       "    </tr>\n",
       "    <tr>\n",
       "      <th>5</th>\n",
       "      <td>https://www.bbc.com/news/articles/cg4kkv3e1v9o</td>\n",
       "      <td>2025-02-27T12:19:05.853Z</td>\n",
       "      <td>Unknown</td>\n",
       "      <td>Why are the Tate brothers heading to the US?</td>\n",
       "      <td>Controversial influencer Andrew Tate and his b...</td>\n",
       "      <td>Controversial influencer Andrew Tate and his b...</td>\n",
       "    </tr>\n",
       "    <tr>\n",
       "      <th>6</th>\n",
       "      <td>https://www.bbc.com/news/articles/c17qe11wy52o</td>\n",
       "      <td>2025-02-27T00:23:25.454Z</td>\n",
       "      <td>Nick Beake</td>\n",
       "      <td>Leaked recordings challenge Greek account of d...</td>\n",
       "      <td>Leaked audio instructions by Greek rescue co-o...</td>\n",
       "      <td>Leaked audio instructions by Greek rescue co-o...</td>\n",
       "    </tr>\n",
       "    <tr>\n",
       "      <th>7</th>\n",
       "      <td>https://www.bbc.com/news/articles/cx2rreg04dpo</td>\n",
       "      <td>2025-02-27T12:54:52.742Z</td>\n",
       "      <td>Kathryn Armstrong</td>\n",
       "      <td>North Korea has sent more troops to Russia, So...</td>\n",
       "      <td>North Korea has sent more soldiers to Russia a...</td>\n",
       "      <td>North Korea has sent more soldiers to Russia a...</td>\n",
       "    </tr>\n",
       "    <tr>\n",
       "      <th>8</th>\n",
       "      <td>https://www.bbc.com/news/articles/cn7vg0nvzkko</td>\n",
       "      <td>2025-02-27T02:03:10.229Z</td>\n",
       "      <td>James Gregory</td>\n",
       "      <td>Zelensky to meet Trump in Washington to sign m...</td>\n",
       "      <td>Ukrainian President Volodymyr Zelensky will me...</td>\n",
       "      <td>Ukrainian President Volodymyr Zelensky will me...</td>\n",
       "    </tr>\n",
       "    <tr>\n",
       "      <th>9</th>\n",
       "      <td>https://www.bbc.com/news/articles/clyrkkv4gd7o</td>\n",
       "      <td>2025-02-26T02:23:47.711Z</td>\n",
       "      <td>Joshua Nevett and Sam Francis</td>\n",
       "      <td>Starmer cuts aid to fund increase in defence s...</td>\n",
       "      <td>Sir Keir Starmer has set out plans to increase...</td>\n",
       "      <td>Sir Keir Starmer has set out plans to increase...</td>\n",
       "    </tr>\n",
       "    <tr>\n",
       "      <th>10</th>\n",
       "      <td>https://www.bbc.com/news/articles/cvgd9v3r69qo</td>\n",
       "      <td>2025-02-26T07:53:15.992Z</td>\n",
       "      <td>Tom Espiner</td>\n",
       "      <td>Tesla shares slump after European sales fall</td>\n",
       "      <td>Shares in electric car maker Tesla have slumpe...</td>\n",
       "      <td>Shares in electric car maker Tesla have slumpe...</td>\n",
       "    </tr>\n",
       "    <tr>\n",
       "      <th>11</th>\n",
       "      <td>https://www.bbc.com/news/articles/cvg592557vgo</td>\n",
       "      <td>2025-02-25T01:47:56.921Z</td>\n",
       "      <td>Gary O'Donoghue</td>\n",
       "      <td>Macron walks tightrope with Trump as he makes ...</td>\n",
       "      <td>Relations between Europe and the US are unques...</td>\n",
       "      <td>Relations between Europe and the US are unques...</td>\n",
       "    </tr>\n",
       "    <tr>\n",
       "      <th>12</th>\n",
       "      <td>https://www.bbc.com/news/articles/c7435pnle0go</td>\n",
       "      <td>2025-02-25T12:39:17.669Z</td>\n",
       "      <td>James Landale</td>\n",
       "      <td>US sides with Russia in UN resolutions on Ukra...</td>\n",
       "      <td>The US has twice sided with Russia in votes at...</td>\n",
       "      <td>The US has twice sided with Russia in votes at...</td>\n",
       "    </tr>\n",
       "    <tr>\n",
       "      <th>13</th>\n",
       "      <td>https://www.bbc.com/news/articles/cx29pnzy1l7o</td>\n",
       "      <td>2025-02-25T11:16:13.166Z</td>\n",
       "      <td>Frances Mao</td>\n",
       "      <td>Spanish city 'adopts' migrants who intervened ...</td>\n",
       "      <td>A Spanish city has honoured two Senegalese mig...</td>\n",
       "      <td>A Spanish city has honoured two Senegalese mig...</td>\n",
       "    </tr>\n",
       "    <tr>\n",
       "      <th>14</th>\n",
       "      <td>https://www.bbc.com/news/articles/c0l1w1w41xzo</td>\n",
       "      <td>2025-02-26T00:00:32.454Z</td>\n",
       "      <td>Frances Mao</td>\n",
       "      <td>Can Europe still count on the US coming to its...</td>\n",
       "      <td>European leaders have been left stunned by the...</td>\n",
       "      <td>European leaders have been left stunned by the...</td>\n",
       "    </tr>\n",
       "    <tr>\n",
       "      <th>15</th>\n",
       "      <td>https://www.bbc.com/news/articles/cy9dl4drr8lo</td>\n",
       "      <td>2025-02-25T13:08:08.773Z</td>\n",
       "      <td>Paul Kirby &amp; Kristina Volk</td>\n",
       "      <td>German politics froze out the far right for ye...</td>\n",
       "      <td>One in five German voters put an X in the box ...</td>\n",
       "      <td>One in five German voters put an X in the box ...</td>\n",
       "    </tr>\n",
       "    <tr>\n",
       "      <th>16</th>\n",
       "      <td>https://www.bbc.com/news/articles/cpq222rqv4po</td>\n",
       "      <td>2025-02-27T13:09:39.367Z</td>\n",
       "      <td>Nick Thorpe, Mircea Barbu &amp; Paul Kirby</td>\n",
       "      <td>Tate brothers allowed to leave Romania for US</td>\n",
       "      <td>British-American influencers Andrew and Trista...</td>\n",
       "      <td>British-American influencers Andrew and Trista...</td>\n",
       "    </tr>\n",
       "    <tr>\n",
       "      <th>17</th>\n",
       "      <td>https://www.bbc.com/news/articles/c23444ddzjyo</td>\n",
       "      <td>2025-02-27T08:55:24.894Z</td>\n",
       "      <td>Unknown</td>\n",
       "      <td>Search for missing six-year-old continues</td>\n",
       "      <td>A search at a house in Drogheda, County Louth,...</td>\n",
       "      <td>A search at a house in Drogheda, County Louth,...</td>\n",
       "    </tr>\n",
       "    <tr>\n",
       "      <th>18</th>\n",
       "      <td>https://www.bbc.com/news/articles/c0l11gr35gwo</td>\n",
       "      <td>2025-02-27T05:12:03.716Z</td>\n",
       "      <td>Sarah Rainsford</td>\n",
       "      <td>'In a scary world, he gives us hope': Faithful...</td>\n",
       "      <td>Catholics gathered to pray for the health of t...</td>\n",
       "      <td>Catholics gathered to pray for the health of t...</td>\n",
       "    </tr>\n",
       "    <tr>\n",
       "      <th>19</th>\n",
       "      <td>https://www.bbc.com/news/articles/c17qe11wy52o</td>\n",
       "      <td>2025-02-27T00:23:25.454Z</td>\n",
       "      <td>Nick Beake</td>\n",
       "      <td>Leaked recordings challenge Greek account of d...</td>\n",
       "      <td>Leaked audio instructions by Greek rescue co-o...</td>\n",
       "      <td>Leaked audio instructions by Greek rescue co-o...</td>\n",
       "    </tr>\n",
       "    <tr>\n",
       "      <th>20</th>\n",
       "      <td>https://www.bbc.com/news/articles/c9de53y43lvo</td>\n",
       "      <td>2025-02-26T21:10:02.468Z</td>\n",
       "      <td>Unknown</td>\n",
       "      <td>New search for missing six-year-old Kyran Durnin</td>\n",
       "      <td>A house in Drogheda, County Louth, is being se...</td>\n",
       "      <td>A house in Drogheda, County Louth, is being se...</td>\n",
       "    </tr>\n",
       "    <tr>\n",
       "      <th>21</th>\n",
       "      <td>https://www.bbc.com/news/articles/cdrxy1zp8mxo</td>\n",
       "      <td>2025-02-26T21:03:11.477Z</td>\n",
       "      <td>Guy Delauney</td>\n",
       "      <td>Bosnian-Serb leader sentenced to jail in landm...</td>\n",
       "      <td>A one-year prison sentence and a six-year ban ...</td>\n",
       "      <td>A one-year prison sentence and a six-year ban ...</td>\n",
       "    </tr>\n",
       "    <tr>\n",
       "      <th>22</th>\n",
       "      <td>https://www.bbc.com/news/articles/cwygwzd4wggo</td>\n",
       "      <td>2025-02-26T17:24:17.617Z</td>\n",
       "      <td>Maia Davies</td>\n",
       "      <td>British man dies and one injured while climbin...</td>\n",
       "      <td>A British man has died and another was left in...</td>\n",
       "      <td>A British man has died and another was left in...</td>\n",
       "    </tr>\n",
       "    <tr>\n",
       "      <th>23</th>\n",
       "      <td>https://www.bbc.com/news/articles/c70eky7l6pxo</td>\n",
       "      <td>2025-02-26T17:11:57.047Z</td>\n",
       "      <td>Paul Kirby &amp; Mircea Barbu</td>\n",
       "      <td>Romanian far-right presidential hopeful detain...</td>\n",
       "      <td>Far-right populist Calin Georgescu, who came f...</td>\n",
       "      <td>Far-right populist Calin Georgescu, who came f...</td>\n",
       "    </tr>\n",
       "  </tbody>\n",
       "</table>\n",
       "</div>"
      ],
      "text/plain": [
       "                                               url              publish_date  \\\n",
       "0   https://www.bbc.com/news/articles/cpq222rqv4po  2025-02-27T13:09:39.367Z   \n",
       "1   https://www.bbc.com/news/articles/cg4kkv3e1v9o  2025-02-27T12:19:05.853Z   \n",
       "2   https://www.bbc.com/news/articles/cn7vg0nvzkko  2025-02-27T02:03:10.229Z   \n",
       "3   https://www.bbc.com/news/articles/c70eky7l6pxo  2025-02-26T17:11:57.047Z   \n",
       "4   https://www.bbc.com/news/articles/cdrxy1zp8mxo  2025-02-26T21:03:11.477Z   \n",
       "5   https://www.bbc.com/news/articles/cg4kkv3e1v9o  2025-02-27T12:19:05.853Z   \n",
       "6   https://www.bbc.com/news/articles/c17qe11wy52o  2025-02-27T00:23:25.454Z   \n",
       "7   https://www.bbc.com/news/articles/cx2rreg04dpo  2025-02-27T12:54:52.742Z   \n",
       "8   https://www.bbc.com/news/articles/cn7vg0nvzkko  2025-02-27T02:03:10.229Z   \n",
       "9   https://www.bbc.com/news/articles/clyrkkv4gd7o  2025-02-26T02:23:47.711Z   \n",
       "10  https://www.bbc.com/news/articles/cvgd9v3r69qo  2025-02-26T07:53:15.992Z   \n",
       "11  https://www.bbc.com/news/articles/cvg592557vgo  2025-02-25T01:47:56.921Z   \n",
       "12  https://www.bbc.com/news/articles/c7435pnle0go  2025-02-25T12:39:17.669Z   \n",
       "13  https://www.bbc.com/news/articles/cx29pnzy1l7o  2025-02-25T11:16:13.166Z   \n",
       "14  https://www.bbc.com/news/articles/c0l1w1w41xzo  2025-02-26T00:00:32.454Z   \n",
       "15  https://www.bbc.com/news/articles/cy9dl4drr8lo  2025-02-25T13:08:08.773Z   \n",
       "16  https://www.bbc.com/news/articles/cpq222rqv4po  2025-02-27T13:09:39.367Z   \n",
       "17  https://www.bbc.com/news/articles/c23444ddzjyo  2025-02-27T08:55:24.894Z   \n",
       "18  https://www.bbc.com/news/articles/c0l11gr35gwo  2025-02-27T05:12:03.716Z   \n",
       "19  https://www.bbc.com/news/articles/c17qe11wy52o  2025-02-27T00:23:25.454Z   \n",
       "20  https://www.bbc.com/news/articles/c9de53y43lvo  2025-02-26T21:10:02.468Z   \n",
       "21  https://www.bbc.com/news/articles/cdrxy1zp8mxo  2025-02-26T21:03:11.477Z   \n",
       "22  https://www.bbc.com/news/articles/cwygwzd4wggo  2025-02-26T17:24:17.617Z   \n",
       "23  https://www.bbc.com/news/articles/c70eky7l6pxo  2025-02-26T17:11:57.047Z   \n",
       "\n",
       "                                    author  \\\n",
       "0   Nick Thorpe, Mircea Barbu & Paul Kirby   \n",
       "1                                  Unknown   \n",
       "2                            James Gregory   \n",
       "3                Paul Kirby & Mircea Barbu   \n",
       "4                             Guy Delauney   \n",
       "5                                  Unknown   \n",
       "6                               Nick Beake   \n",
       "7                        Kathryn Armstrong   \n",
       "8                            James Gregory   \n",
       "9            Joshua Nevett and Sam Francis   \n",
       "10                             Tom Espiner   \n",
       "11                         Gary O'Donoghue   \n",
       "12                           James Landale   \n",
       "13                             Frances Mao   \n",
       "14                             Frances Mao   \n",
       "15              Paul Kirby & Kristina Volk   \n",
       "16  Nick Thorpe, Mircea Barbu & Paul Kirby   \n",
       "17                                 Unknown   \n",
       "18                         Sarah Rainsford   \n",
       "19                              Nick Beake   \n",
       "20                                 Unknown   \n",
       "21                            Guy Delauney   \n",
       "22                             Maia Davies   \n",
       "23               Paul Kirby & Mircea Barbu   \n",
       "\n",
       "                                             headline  \\\n",
       "0       Tate brothers allowed to leave Romania for US   \n",
       "1        Why are the Tate brothers heading to the US?   \n",
       "2   Zelensky to meet Trump in Washington to sign m...   \n",
       "3   Romanian far-right presidential hopeful detain...   \n",
       "4   Bosnian-Serb leader sentenced to jail in landm...   \n",
       "5        Why are the Tate brothers heading to the US?   \n",
       "6   Leaked recordings challenge Greek account of d...   \n",
       "7   North Korea has sent more troops to Russia, So...   \n",
       "8   Zelensky to meet Trump in Washington to sign m...   \n",
       "9   Starmer cuts aid to fund increase in defence s...   \n",
       "10       Tesla shares slump after European sales fall   \n",
       "11  Macron walks tightrope with Trump as he makes ...   \n",
       "12  US sides with Russia in UN resolutions on Ukra...   \n",
       "13  Spanish city 'adopts' migrants who intervened ...   \n",
       "14  Can Europe still count on the US coming to its...   \n",
       "15  German politics froze out the far right for ye...   \n",
       "16      Tate brothers allowed to leave Romania for US   \n",
       "17          Search for missing six-year-old continues   \n",
       "18  'In a scary world, he gives us hope': Faithful...   \n",
       "19  Leaked recordings challenge Greek account of d...   \n",
       "20   New search for missing six-year-old Kyran Durnin   \n",
       "21  Bosnian-Serb leader sentenced to jail in landm...   \n",
       "22  British man dies and one injured while climbin...   \n",
       "23  Romanian far-right presidential hopeful detain...   \n",
       "\n",
       "                                              summary  \\\n",
       "0   British-American influencers Andrew and Trista...   \n",
       "1   Controversial influencer Andrew Tate and his b...   \n",
       "2   Ukrainian President Volodymyr Zelensky will me...   \n",
       "3   Far-right populist Calin Georgescu, who came f...   \n",
       "4   A one-year prison sentence and a six-year ban ...   \n",
       "5   Controversial influencer Andrew Tate and his b...   \n",
       "6   Leaked audio instructions by Greek rescue co-o...   \n",
       "7   North Korea has sent more soldiers to Russia a...   \n",
       "8   Ukrainian President Volodymyr Zelensky will me...   \n",
       "9   Sir Keir Starmer has set out plans to increase...   \n",
       "10  Shares in electric car maker Tesla have slumpe...   \n",
       "11  Relations between Europe and the US are unques...   \n",
       "12  The US has twice sided with Russia in votes at...   \n",
       "13  A Spanish city has honoured two Senegalese mig...   \n",
       "14  European leaders have been left stunned by the...   \n",
       "15  One in five German voters put an X in the box ...   \n",
       "16  British-American influencers Andrew and Trista...   \n",
       "17  A search at a house in Drogheda, County Louth,...   \n",
       "18  Catholics gathered to pray for the health of t...   \n",
       "19  Leaked audio instructions by Greek rescue co-o...   \n",
       "20  A house in Drogheda, County Louth, is being se...   \n",
       "21  A one-year prison sentence and a six-year ban ...   \n",
       "22  A British man has died and another was left in...   \n",
       "23  Far-right populist Calin Georgescu, who came f...   \n",
       "\n",
       "                                              content  \n",
       "0   British-American influencers Andrew and Trista...  \n",
       "1   Controversial influencer Andrew Tate and his b...  \n",
       "2   Ukrainian President Volodymyr Zelensky will me...  \n",
       "3   Far-right populist Calin Georgescu, who came f...  \n",
       "4   A one-year prison sentence and a six-year ban ...  \n",
       "5   Controversial influencer Andrew Tate and his b...  \n",
       "6   Leaked audio instructions by Greek rescue co-o...  \n",
       "7   North Korea has sent more soldiers to Russia a...  \n",
       "8   Ukrainian President Volodymyr Zelensky will me...  \n",
       "9   Sir Keir Starmer has set out plans to increase...  \n",
       "10  Shares in electric car maker Tesla have slumpe...  \n",
       "11  Relations between Europe and the US are unques...  \n",
       "12  The US has twice sided with Russia in votes at...  \n",
       "13  A Spanish city has honoured two Senegalese mig...  \n",
       "14  European leaders have been left stunned by the...  \n",
       "15  One in five German voters put an X in the box ...  \n",
       "16  British-American influencers Andrew and Trista...  \n",
       "17  A search at a house in Drogheda, County Louth,...  \n",
       "18  Catholics gathered to pray for the health of t...  \n",
       "19  Leaked audio instructions by Greek rescue co-o...  \n",
       "20  A house in Drogheda, County Louth, is being se...  \n",
       "21  A one-year prison sentence and a six-year ban ...  \n",
       "22  A British man has died and another was left in...  \n",
       "23  Far-right populist Calin Georgescu, who came f...  "
      ]
     },
     "metadata": {},
     "output_type": "display_data"
    }
   ],
   "source": [
    "df = pd.DataFrame([combiner(url) for url in url_finder()])\n",
    "display(df)"
   ]
  },
  {
   "cell_type": "markdown",
   "metadata": {},
   "source": [
    "## 4. Data Storage:"
   ]
  },
  {
   "cell_type": "markdown",
   "metadata": {},
   "source": [
    "### Save the scraped article data to a file."
   ]
  },
  {
   "cell_type": "code",
   "execution_count": 105,
   "metadata": {},
   "outputs": [],
   "source": [
    "df.to_csv('scraped_news.csv', index=False)"
   ]
  },
  {
   "cell_type": "markdown",
   "metadata": {},
   "source": [
    "## 5. Discussion:"
   ]
  },
  {
   "cell_type": "markdown",
   "metadata": {},
   "source": [
    "### Discuss whether it would make sense to include this newly acquired data in the dataset. Argue why or why not and if possible include statistics to support your claim."
   ]
  },
  {
   "cell_type": "markdown",
   "metadata": {},
   "source": [
    "# Part 4: Preservation"
   ]
  },
  {
   "cell_type": "markdown",
   "metadata": {},
   "source": [
    "### Keep the data that you have scraped so you can use it for your Group Project!"
   ]
  }
 ],
 "metadata": {
  "kernelspec": {
   "display_name": "base",
   "language": "python",
   "name": "python3"
  },
  "language_info": {
   "codemirror_mode": {
    "name": "ipython",
    "version": 3
   },
   "file_extension": ".py",
   "mimetype": "text/x-python",
   "name": "python",
   "nbconvert_exporter": "python",
   "pygments_lexer": "ipython3",
   "version": "3.12.2"
  }
 },
 "nbformat": 4,
 "nbformat_minor": 2
}
