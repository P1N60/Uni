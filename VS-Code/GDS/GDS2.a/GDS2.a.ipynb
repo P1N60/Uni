{
 "cells": [
  {
   "cell_type": "markdown",
   "metadata": {},
   "source": [
    "# Web Scraping for Fake News Detection"
   ]
  },
  {
   "cell_type": "markdown",
   "metadata": {},
   "source": [
    "### In this assignment, you'll gain hands-on experience in web scraping, a crucial skill in data science, especially when structured datasets are not readily available. Specifically, you'll focus on extracting information from news websites, a vital step in creating a dataset for training a fake news detection model. In terms of the Data Science Pipeline, you will mainly focusing on acquiring raw data, processing data, cleaning and explorative data analysis, and structured representation and storage of data."
   ]
  },
  {
   "cell_type": "markdown",
   "metadata": {},
   "source": [
    "# Submission Requirements"
   ]
  },
  {
   "cell_type": "markdown",
   "metadata": {},
   "source": [
    "### Jupyter Notebook (.ipynb file) implementing the assignment. "
   ]
  },
  {
   "cell_type": "markdown",
   "metadata": {},
   "source": [
    "### PDF printout of the executed Jupyter Notebook displaying the results."
   ]
  },
  {
   "cell_type": "markdown",
   "metadata": {},
   "source": [
    "# Part 1: Analyze the Fake News Dataset"
   ]
  },
  {
   "cell_type": "markdown",
   "metadata": {},
   "source": [
    "## 1. Import Dataset: "
   ]
  },
  {
   "cell_type": "markdown",
   "metadata": {},
   "source": [
    "### Import the cleaned dataset from last assignment"
   ]
  },
  {
   "cell_type": "markdown",
   "metadata": {},
   "source": [
    "Jeg benytter pandas til at importere data'en"
   ]
  },
  {
   "cell_type": "code",
   "execution_count": 1,
   "metadata": {},
   "outputs": [],
   "source": [
    "import pandas as pd\n",
    "\n",
    "df = pd.read_csv('cleaned_news_sample.csv')"
   ]
  },
  {
   "cell_type": "markdown",
   "metadata": {},
   "source": [
    "## 2. Dataset Analysis:"
   ]
  },
  {
   "cell_type": "markdown",
   "metadata": {},
   "source": [
    "### Determine which article types should be omitted, if any."
   ]
  },
  {
   "cell_type": "markdown",
   "metadata": {},
   "source": [
    "Jeg kigger først på, hvilke kategoriet vi har"
   ]
  },
  {
   "cell_type": "code",
   "execution_count": 2,
   "metadata": {},
   "outputs": [
    {
     "data": {
      "application/vnd.microsoft.datawrangler.viewer.v0+json": {
       "columns": [
        {
         "name": "index",
         "rawType": "int64",
         "type": "integer"
        },
        {
         "name": "types",
         "rawType": "object",
         "type": "unknown"
        }
       ],
       "conversionMethod": "pd.DataFrame",
       "ref": "a90a8660-17ee-4375-9f4d-a67dbc93f3c8",
       "rows": [
        [
         "0",
         "unreliable"
        ],
        [
         "1",
         "fake"
        ],
        [
         "2",
         "clickbait"
        ],
        [
         "3",
         "conspiracy"
        ],
        [
         "4",
         "reliable"
        ],
        [
         "5",
         "bias"
        ],
        [
         "6",
         "hate"
        ],
        [
         "7",
         "junksci"
        ],
        [
         "8",
         "political"
        ],
        [
         "9",
         null
        ],
        [
         "10",
         "unknown"
        ]
       ],
       "shape": {
        "columns": 1,
        "rows": 11
       }
      },
      "text/html": [
       "<div>\n",
       "<style scoped>\n",
       "    .dataframe tbody tr th:only-of-type {\n",
       "        vertical-align: middle;\n",
       "    }\n",
       "\n",
       "    .dataframe tbody tr th {\n",
       "        vertical-align: top;\n",
       "    }\n",
       "\n",
       "    .dataframe thead th {\n",
       "        text-align: right;\n",
       "    }\n",
       "</style>\n",
       "<table border=\"1\" class=\"dataframe\">\n",
       "  <thead>\n",
       "    <tr style=\"text-align: right;\">\n",
       "      <th></th>\n",
       "      <th>types</th>\n",
       "    </tr>\n",
       "  </thead>\n",
       "  <tbody>\n",
       "    <tr>\n",
       "      <th>0</th>\n",
       "      <td>unreliable</td>\n",
       "    </tr>\n",
       "    <tr>\n",
       "      <th>1</th>\n",
       "      <td>fake</td>\n",
       "    </tr>\n",
       "    <tr>\n",
       "      <th>2</th>\n",
       "      <td>clickbait</td>\n",
       "    </tr>\n",
       "    <tr>\n",
       "      <th>3</th>\n",
       "      <td>conspiracy</td>\n",
       "    </tr>\n",
       "    <tr>\n",
       "      <th>4</th>\n",
       "      <td>reliable</td>\n",
       "    </tr>\n",
       "    <tr>\n",
       "      <th>5</th>\n",
       "      <td>bias</td>\n",
       "    </tr>\n",
       "    <tr>\n",
       "      <th>6</th>\n",
       "      <td>hate</td>\n",
       "    </tr>\n",
       "    <tr>\n",
       "      <th>7</th>\n",
       "      <td>junksci</td>\n",
       "    </tr>\n",
       "    <tr>\n",
       "      <th>8</th>\n",
       "      <td>political</td>\n",
       "    </tr>\n",
       "    <tr>\n",
       "      <th>9</th>\n",
       "      <td>NaN</td>\n",
       "    </tr>\n",
       "    <tr>\n",
       "      <th>10</th>\n",
       "      <td>unknown</td>\n",
       "    </tr>\n",
       "  </tbody>\n",
       "</table>\n",
       "</div>"
      ],
      "text/plain": [
       "         types\n",
       "0   unreliable\n",
       "1         fake\n",
       "2    clickbait\n",
       "3   conspiracy\n",
       "4     reliable\n",
       "5         bias\n",
       "6         hate\n",
       "7      junksci\n",
       "8    political\n",
       "9          NaN\n",
       "10     unknown"
      ]
     },
     "execution_count": 2,
     "metadata": {},
     "output_type": "execute_result"
    }
   ],
   "source": [
    "unique_types = df['type'].unique()\n",
    "pd.DataFrame(unique_types, columns=['types']).head(11)"
   ]
  },
  {
   "cell_type": "markdown",
   "metadata": {},
   "source": [
    "Jeg vælger alle bort set fra NaN og unknown"
   ]
  },
  {
   "cell_type": "code",
   "execution_count": 3,
   "metadata": {},
   "outputs": [
    {
     "data": {
      "application/vnd.microsoft.datawrangler.viewer.v0+json": {
       "columns": [
        {
         "name": "index",
         "rawType": "int64",
         "type": "integer"
        },
        {
         "name": "0",
         "rawType": "object",
         "type": "string"
        }
       ],
       "conversionMethod": "pd.DataFrame",
       "ref": "0be20ef6-1ca1-4e00-b851-7ead34a6770d",
       "rows": [
        [
         "0",
         "unreliable"
        ],
        [
         "1",
         "fake"
        ],
        [
         "2",
         "clickbait"
        ],
        [
         "3",
         "conspiracy"
        ],
        [
         "4",
         "reliable"
        ],
        [
         "5",
         "bias"
        ],
        [
         "6",
         "hate"
        ],
        [
         "7",
         "junksci"
        ],
        [
         "8",
         "political"
        ]
       ],
       "shape": {
        "columns": 1,
        "rows": 9
       }
      },
      "text/html": [
       "<div>\n",
       "<style scoped>\n",
       "    .dataframe tbody tr th:only-of-type {\n",
       "        vertical-align: middle;\n",
       "    }\n",
       "\n",
       "    .dataframe tbody tr th {\n",
       "        vertical-align: top;\n",
       "    }\n",
       "\n",
       "    .dataframe thead th {\n",
       "        text-align: right;\n",
       "    }\n",
       "</style>\n",
       "<table border=\"1\" class=\"dataframe\">\n",
       "  <thead>\n",
       "    <tr style=\"text-align: right;\">\n",
       "      <th></th>\n",
       "      <th>0</th>\n",
       "    </tr>\n",
       "  </thead>\n",
       "  <tbody>\n",
       "    <tr>\n",
       "      <th>0</th>\n",
       "      <td>unreliable</td>\n",
       "    </tr>\n",
       "    <tr>\n",
       "      <th>1</th>\n",
       "      <td>fake</td>\n",
       "    </tr>\n",
       "    <tr>\n",
       "      <th>2</th>\n",
       "      <td>clickbait</td>\n",
       "    </tr>\n",
       "    <tr>\n",
       "      <th>3</th>\n",
       "      <td>conspiracy</td>\n",
       "    </tr>\n",
       "    <tr>\n",
       "      <th>4</th>\n",
       "      <td>reliable</td>\n",
       "    </tr>\n",
       "    <tr>\n",
       "      <th>5</th>\n",
       "      <td>bias</td>\n",
       "    </tr>\n",
       "    <tr>\n",
       "      <th>6</th>\n",
       "      <td>hate</td>\n",
       "    </tr>\n",
       "    <tr>\n",
       "      <th>7</th>\n",
       "      <td>junksci</td>\n",
       "    </tr>\n",
       "    <tr>\n",
       "      <th>8</th>\n",
       "      <td>political</td>\n",
       "    </tr>\n",
       "  </tbody>\n",
       "</table>\n",
       "</div>"
      ],
      "text/plain": [
       "            0\n",
       "0  unreliable\n",
       "1        fake\n",
       "2   clickbait\n",
       "3  conspiracy\n",
       "4    reliable\n",
       "5        bias\n",
       "6        hate\n",
       "7     junksci\n",
       "8   political"
      ]
     },
     "execution_count": 3,
     "metadata": {},
     "output_type": "execute_result"
    }
   ],
   "source": [
    "wanted_types = ['unreliable', 'fake', 'clickbait', 'conspiracy', 'reliable', 'bias', 'hate', 'junksci', 'political']\n",
    "df['type'] = df['type'].apply(lambda x: x if x in wanted_types else None)\n",
    "df = df.dropna(subset=['type'])\n",
    "unique_types = df['type'].unique()\n",
    "pd.DataFrame(unique_types).head(9)"
   ]
  },
  {
   "cell_type": "markdown",
   "metadata": {},
   "source": [
    "### Group the remaining types into 'fake' and 'reliable'. Argue for your choice."
   ]
  },
  {
   "cell_type": "markdown",
   "metadata": {},
   "source": [
    "Jeg har valgt, at indkludere de kategorier, der ikke indeholder direkte misinformation, som reliable."
   ]
  },
  {
   "cell_type": "code",
   "execution_count": 4,
   "metadata": {},
   "outputs": [],
   "source": [
    "reliable_types = ['clickbait', 'reliable', 'political', 'bias', 'hate']\n",
    "fake_types = ['unreliable', 'fake', 'conspiracy', 'junksci']\n",
    "\n",
    "for type in reliable_types:\n",
    "    df['type'] = df['type'].replace(type, 'reliable')\n",
    "\n",
    "for type in fake_types:\n",
    "    df['type'] = df['type'].replace(type, 'fake')"
   ]
  },
  {
   "cell_type": "markdown",
   "metadata": {},
   "source": [
    "### Examine the percentage distribution of 'reliable' vs. 'fake' articles. Is the dataset balanced? Discuss the importance of a balanced distribution."
   ]
  },
  {
   "cell_type": "markdown",
   "metadata": {},
   "source": [
    "Vi tæller mængden af artikler i hver kategori"
   ]
  },
  {
   "cell_type": "code",
   "execution_count": 5,
   "metadata": {},
   "outputs": [
    {
     "name": "stdout",
     "output_type": "stream",
     "text": [
      "Reliable amount: 34\n",
      "Fake amount: 198\n",
      "Reliable percentage: 14.66%\n"
     ]
    }
   ],
   "source": [
    "reliable_amount = 0\n",
    "fake_amount = 0\n",
    "for type in df['type']:\n",
    "    if type == 'reliable':\n",
    "        reliable_amount += 1\n",
    "    else:\n",
    "        fake_amount += 1\n",
    "\n",
    "print(f'Reliable amount: {reliable_amount}')\n",
    "print(f'Fake amount: {fake_amount}')\n",
    "print(f'Reliable percentage: {reliable_amount / len(df['type']) * 100:.2f}%')"
   ]
  },
  {
   "cell_type": "markdown",
   "metadata": {},
   "source": [
    "Vi ser, at vores sample kun indeholder 14,66% reliable artikler. \n",
    "\n",
    "Jeg ville tro, at fordelingen er vigtig, at få balanceret, da vi i så fald, har nok data, som modellen kan træne på, og undgår mulige fejlklassificeringer på grund af mangel af data."
   ]
  },
  {
   "cell_type": "markdown",
   "metadata": {},
   "source": [
    "# Part 2: Gathering Links"
   ]
  },
  {
   "cell_type": "markdown",
   "metadata": {},
   "source": [
    "### In this part of the exercise you will write code to extract a collection of article links."
   ]
  },
  {
   "cell_type": "markdown",
   "metadata": {},
   "source": [
    "## 1. Library Installation:"
   ]
  },
  {
   "cell_type": "markdown",
   "metadata": {},
   "source": [
    "### Install selenium (pip install selenium). Create a new Jupyter Notebook and import this module:"
   ]
  },
  {
   "cell_type": "code",
   "execution_count": 6,
   "metadata": {},
   "outputs": [],
   "source": [
    "from selenium import webdriver\n",
    "from selenium.webdriver.firefox.options import Options\n",
    "from selenium.webdriver.common.by import By \n",
    "from bs4 import BeautifulSoup\n",
    "from selenium.webdriver.support.ui import WebDriverWait\n",
    "from selenium.webdriver.support import expected_conditions as EC\n",
    "import requests\n",
    "import pandas as pd\n",
    "import time"
   ]
  },
  {
   "cell_type": "markdown",
   "metadata": {},
   "source": [
    "Jeg havde problemer med at få selenium til at køre på store mængder data, så jeg har også valgt, at bruge BeautifulSoup til at scrape dataen."
   ]
  },
  {
   "cell_type": "markdown",
   "metadata": {},
   "source": [
    "### verify that contents holds the HTML source of the webpage:"
   ]
  },
  {
   "cell_type": "markdown",
   "metadata": {},
   "source": [
    "## 2. Retrieve HTML Content: "
   ]
  },
  {
   "cell_type": "markdown",
   "metadata": {},
   "source": [
    "### Use the following example code to fetch the HTML content of a webpage and verify that contents holds the HTML source of the webpage:"
   ]
  },
  {
   "cell_type": "code",
   "execution_count": 7,
   "metadata": {},
   "outputs": [],
   "source": [
    "browser = webdriver.Firefox()\n",
    "browser.get('https://www.bbc.com/news/world/europe')"
   ]
  },
  {
   "cell_type": "markdown",
   "metadata": {},
   "source": [
    "## 3. Extract Articles:"
   ]
  },
  {
   "cell_type": "markdown",
   "metadata": {},
   "source": [
    "### Selenium allows us to extract information easily. You can read the documentation here. Write a function to extract all articles from the page using the find_elements method. For each article, retrieve the headline, the summary, and the link to the article (href). (Hint: You might have to inspect the page for classes, ids, etc. that might be useful for extracting the information)"
   ]
  },
  {
   "cell_type": "markdown",
   "metadata": {},
   "source": [
    "## 4. Scrape Multiple Pages:"
   ]
  },
  {
   "cell_type": "markdown",
   "metadata": {},
   "source": [
    "### Identify the number of pages available for the 'Europe' section (Hint: See buttons at the bottom of the page). Write a function that extracts all article links from all these pages (Hint: Click on button using .click(). You may also have to add a delay for the page to load using time.wait(n_seconds))"
   ]
  },
  {
   "cell_type": "markdown",
   "metadata": {},
   "source": [
    "Jeg bruger CLASS_NAME til at finde elementer i html-koden."
   ]
  },
  {
   "cell_type": "code",
   "execution_count": 8,
   "metadata": {},
   "outputs": [
    {
     "name": "stdout",
     "output_type": "stream",
     "text": [
      "URL amount: 27\n"
     ]
    },
    {
     "data": {
      "text/plain": [
       "['https://www.bbc.com/news/articles/cx2gg8le1kpo',\n",
       " 'https://www.bbc.com/news/articles/c3e44qev1dvo',\n",
       " 'https://www.bbc.com/news/articles/cn527pz54neo',\n",
       " 'https://www.bbc.com/news/articles/c2kggzqy0x7o',\n",
       " 'https://www.bbc.com/news/articles/c0eggy1104po',\n",
       " 'https://www.bbc.com/news/articles/c3e44qev1dvo',\n",
       " 'https://www.bbc.com/news/articles/czxnnzz558eo',\n",
       " 'https://www.bbc.com/news/articles/cd655917g6qo',\n",
       " 'https://www.bbc.com/news/articles/cn527pz54neo',\n",
       " 'https://www.bbc.com/news/articles/c0q1188p1n2o',\n",
       " 'https://www.bbc.com/news/articles/cq5zzn81229o',\n",
       " 'https://www.bbc.com/news/articles/cx2rreg04dpo',\n",
       " 'https://www.bbc.com/news/articles/cpq222rqv4po',\n",
       " 'https://www.bbc.com/news/articles/cn7vg0nvzkko',\n",
       " 'https://www.bbc.com/news/articles/clyj3j2r25wo',\n",
       " 'https://www.bbc.com/news/articles/cg4kkv3e1v9o',\n",
       " 'https://www.bbc.com/news/articles/cgr2n8xx5gyo',\n",
       " 'https://www.bbc.com/news/articles/c17qe11wy52o',\n",
       " 'https://www.bbc.com/news/articles/czxnnzz558eo',\n",
       " 'https://www.bbc.com/news/articles/cx2gg8le1kpo',\n",
       " 'https://www.bbc.com/news/articles/c3e44qev1dvo',\n",
       " 'https://www.bbc.com/news/articles/cq5zzn81229o',\n",
       " 'https://www.bbc.com/news/articles/cm2yyrl0dj5o',\n",
       " 'https://www.bbc.com/news/articles/cd655917g6qo',\n",
       " 'https://www.bbc.com/news/articles/cge11q4xwr3o',\n",
       " 'https://www.bbc.com/news/articles/cly7yxm3py5o',\n",
       " 'https://www.bbc.com/news/articles/cpq222rqv4po']"
      ]
     },
     "execution_count": 8,
     "metadata": {},
     "output_type": "execute_result"
    }
   ],
   "source": [
    "def url_finder():\n",
    "    urls = [url.get_attribute('href') for url in browser.find_elements(By.CLASS_NAME, 'sc-2e6baa30-0')  ]\n",
    "    urls = [url for url in urls if url.find('news/articles') != -1]\n",
    "    return urls\n",
    "\n",
    "print(f'URL amount: {len(url_finder())}')\n",
    "url_finder()"
   ]
  },
  {
   "cell_type": "code",
   "execution_count": 9,
   "metadata": {},
   "outputs": [
    {
     "name": "stdout",
     "output_type": "stream",
     "text": [
      "Headlines amount: 27\n"
     ]
    },
    {
     "data": {
      "text/plain": [
       "['Greeks hold mass protests demanding justice after train tragedy',\n",
       " 'Minister questions how Tate brothers could leave Romania',\n",
       " 'What we know about US-Ukraine minerals deal',\n",
       " 'Jailed Kurdish leader issues call to lay down arms',\n",
       " 'Free trade deal with India could come this year - EU Commission chief',\n",
       " 'Minister questions how Tate brothers could leave Romania',\n",
       " 'Dozens arrested in global hit against AI-generated child abuse',\n",
       " \"Pope's health improving as he remains in hospital\",\n",
       " 'What we know about US-Ukraine minerals deal',\n",
       " 'Austrian centrists agree government deal sidelining far right',\n",
       " 'Thirty-two people deported to Georgia on Irish chartered flight',\n",
       " \"North Korea has sent more troops to Russia, South's spy agency says\",\n",
       " 'Tate brothers arrive in US after Romania prosecutors lift travel ban',\n",
       " 'Zelensky to meet Trump in Washington to sign minerals deal',\n",
       " 'Congratulations to insults... Trump and Zelensky, in their own words',\n",
       " 'Why are the Tate brothers in the US?',\n",
       " \"Man's brain turned to glass by hot Vesuvius ash cloud \",\n",
       " 'Leaked recordings challenge Greek account of deadly shipwreck',\n",
       " 'Dozens arrested in global hit against AI-generated child abuse',\n",
       " 'Greeks hold mass protests demanding justice after train tragedy',\n",
       " 'Minister questions how Tate brothers could leave Romania',\n",
       " 'Thirty-two people deported to Georgia on Irish chartered flight',\n",
       " \"Irish PM 'delighted' by Trump's White House invite\",\n",
       " \"Pope's health improving as he remains in hospital\",\n",
       " \"Brutally beaten man 'cannot walk, talk or breathe for himself'\",\n",
       " \"Can AI help modernise Ireland's healthcare system?\",\n",
       " 'Tate brothers arrive in US after Romania prosecutors lift travel ban']"
      ]
     },
     "execution_count": 9,
     "metadata": {},
     "output_type": "execute_result"
    }
   ],
   "source": [
    "def headline_finder(link):\n",
    "    response = requests.get(link)\n",
    "    headline = BeautifulSoup(response.content, 'html.parser').find('h1').text\n",
    "    return headline\n",
    "\n",
    "headlines = [headline_finder(url) for url in url_finder()]\n",
    "\n",
    "print(f'Headlines amount: {len(headlines)}')\n",
    "headlines"
   ]
  },
  {
   "cell_type": "code",
   "execution_count": 10,
   "metadata": {},
   "outputs": [
    {
     "name": "stdout",
     "output_type": "stream",
     "text": [
      "Summary amount: 27\n"
     ]
    },
    {
     "data": {
      "text/plain": [
       "['Greeks are holding their biggest protests for years and taking part in a general strike to mark the second anniversary of a rail disaster that left 57 dead and dozens more injured.',\n",
       " \"Romania's Justice Minister Radu Marinescu has called for a public explanation into why controversial social media influencers Andrew and Tristan Tate were allowed to leave the country on Thursday.\",\n",
       " \"Ukraine's President Volodymyr Zelensky will meet US President Trump in Washington on Friday to sign an agreement that would give the US access to its deposits of rare earth minerals.\",\n",
       " 'Abdullah Ocalan, the jailed leader of the outlawed Kurdish group PKK, has called on his movement to lay down its arms and dissolve itself.',\n",
       " 'The head of the European Commission, Ursula von der Leyen said EU and India were pushing to get a free trade agreement during this year.',\n",
       " \"Romania's Justice Minister Radu Marinescu has called for a public explanation into why controversial social media influencers Andrew and Tristan Tate were allowed to leave the country on Thursday.\",\n",
       " \"At least 25 arrests have been made during a worldwide operation against child abuse images generated by artificial intelligence (AI), the European Union's law enforcement organisation Europol has said.\",\n",
       " 'Pope Francis, who has been battling pneumonia for two weeks, is showing signs of improvement, the Vatican has said in a medical update.',\n",
       " \"Ukraine's President Volodymyr Zelensky will meet US President Trump in Washington on Friday to sign an agreement that would give the US access to its deposits of rare earth minerals.\",\n",
       " \"Five months after the far-right Freedom Party won Austria's general election, a three-way coalition looks set to exclude it from power.\",\n",
       " 'Thirty-two people were deported from the Republic of Ireland to Georgia on a chartered flight on Thursday night.',\n",
       " \"North Korea has sent more soldiers to Russia and re-deployed others to the frontline in the western Kursk region, according to South Korea's intelligence agency. \",\n",
       " 'British-American influencers Andrew and Tristan Tate - who are facing trial in Romania on charges including human trafficking - have arrived in the US after Romanian prosecutors lifted a two-year travel ban.',\n",
       " \"Ukrainian President Volodymyr Zelensky will meet US President Donald Trump in Washington on Friday to sign an agreement on sharing his country's mineral resources, Trump has said. \",\n",
       " 'Volodymyr Zelensky is in Washington for discussions with Donald Trump on how to end the war with Russia.',\n",
       " 'Controversial influencer Andrew Tate and his brother Tristan have landed in the US after leaving Romania, where they are facing charges including human trafficking, which they deny.',\n",
       " 'Nearly 2,000 years after a young man died in the Vesuvius volcanic eruption, scientists have discovered that his brain was preserved when it turned to glass in an extremely hot cloud of ash.',\n",
       " \"Leaked audio instructions by Greek rescue co-ordinators have cast further doubt on Greece's official version of events in the hours before a migrant boat sank along with up to 650 people onboard.\",\n",
       " \"At least 25 arrests have been made during a worldwide operation against child abuse images generated by artificial intelligence (AI), the European Union's law enforcement organisation Europol has said.\",\n",
       " 'Greeks are holding their biggest protests for years and taking part in a general strike to mark the second anniversary of a rail disaster that left 57 dead and dozens more injured.',\n",
       " \"Romania's Justice Minister Radu Marinescu has called for a public explanation into why controversial social media influencers Andrew and Tristan Tate were allowed to leave the country on Thursday.\",\n",
       " 'Thirty-two people were deported from the Republic of Ireland to Georgia on a chartered flight on Thursday night.',\n",
       " \"The taoiseach (Irish Prime Minister) has been invited to the White House by US President Donald Trump to celebrate St Patrick's Day next month.\",\n",
       " 'Pope Francis, who has been battling pneumonia for two weeks, is showing signs of improvement, the Vatican has said in a medical update.',\n",
       " 'The girlfriend of a man, who is fighting for his life in hospital after being savagely beaten, says he cannot walk, talk or breathe for himself and will never be the same again.',\n",
       " \"For a country famous as Big Tech's European address, Ireland's hospitals often lag far behind in technology.\",\n",
       " 'British-American influencers Andrew and Tristan Tate - who are facing trial in Romania on charges including human trafficking - have arrived in the US after Romanian prosecutors lifted a two-year travel ban.']"
      ]
     },
     "execution_count": 10,
     "metadata": {},
     "output_type": "execute_result"
    }
   ],
   "source": [
    "def summary_finder(link):\n",
    "    response = requests.get(link)\n",
    "    headline = BeautifulSoup(response.content, 'html.parser').find('p').text\n",
    "    return headline\n",
    "\n",
    "summaries = [summary_finder(url) for url in url_finder()]\n",
    "\n",
    "print(f'Summary amount: {len(summaries)}')\n",
    "summaries"
   ]
  },
  {
   "cell_type": "markdown",
   "metadata": {},
   "source": [
    "## 5. Expand the Scope:"
   ]
  },
  {
   "cell_type": "markdown",
   "metadata": {},
   "source": [
    "### Extend your scraping to include articles from other regions: US & Canada, UK, Australia, Asia, Africa, Latin America, and the Middle East. If done correctly, you should get around 800 article links."
   ]
  },
  {
   "cell_type": "markdown",
   "metadata": {},
   "source": [
    "Vi klikker på siden, så vi accepterer cookies. Herefter klikker vi ind på hver side, og samler alle links vi finder i html-koden."
   ]
  },
  {
   "cell_type": "code",
   "execution_count": 11,
   "metadata": {},
   "outputs": [],
   "source": [
    "WebDriverWait(browser, 25).until(EC.frame_to_be_available_and_switch_to_it((By.ID, \"sp_message_iframe_1192447\")))\n",
    "WebDriverWait(browser, 25).until(EC.element_to_be_clickable((By.XPATH, \"//button[contains(text(),'I agree')]\"))).click()\n",
    "\n",
    "browser.switch_to.default_content()\n",
    "bannerCookie = browser.find_element(By.ID, \"bbccookies-continue-button\").click()"
   ]
  },
  {
   "cell_type": "code",
   "execution_count": 12,
   "metadata": {},
   "outputs": [],
   "source": [
    "subsites = [\"https://www.bbc.com/news/us-canada\", \n",
    "    \"https://www.bbc.com/news/world/africa\", \n",
    "    \"https://www.bbc.com/news/world/asia\", \n",
    "    \"https://www.bbc.com/news/world/europe\", \n",
    "    \"https://www.bbc.com/news/world/latin_america\", \n",
    "    \"https://www.bbc.com/news/world/middle_east\", \n",
    "    \"https://www.bbc.com/news/world/australia\",\n",
    "    \"https://www.bbc.com/news/uk\"]"
   ]
  },
  {
   "cell_type": "code",
   "execution_count": 13,
   "metadata": {},
   "outputs": [],
   "source": [
    "def url_finder_extended(url): \n",
    "    urls = [url.get_attribute('href') for url in browser.find_elements(By.XPATH, \"//a[@href]\")]\n",
    "    wanted_urls = [url for url in urls if url.find(\"/news/articles\") != -1]\n",
    "    print(wanted_urls)\n",
    "    return wanted_urls"
   ]
  },
  {
   "cell_type": "code",
   "execution_count": 14,
   "metadata": {},
   "outputs": [
    {
     "name": "stdout",
     "output_type": "stream",
     "text": [
      "['https://www.bbc.com/news/articles/cqlyy1rld0ko', 'https://www.bbc.com/news/articles/c62zzd3zp50o', 'https://www.bbc.com/news/articles/cly22wdedqeo', 'https://www.bbc.com/news/articles/cyvee9rpdq6o', 'https://www.bbc.com/news/articles/c62zzd3zp50o', 'https://www.bbc.com/news/articles/cvgee7rl24ro', 'https://www.bbc.com/news/articles/c1kjj032d8do', 'https://www.bbc.com/news/articles/cly22wdedqeo', 'https://www.bbc.com/news/articles/cpq222rqv4po', 'https://www.bbc.com/news/articles/cx2gg4x4w14o', 'https://www.bbc.com/news/articles/ce8yy3wpn6eo', 'https://www.bbc.com/news/articles/cq6yy9e368vo', 'https://www.bbc.com/news/articles/c4g776e670vo', 'https://www.bbc.com/news/articles/c170l0n8j54o', 'https://www.bbc.com/news/articles/c4gm9851559o', 'https://www.bbc.com/news/articles/c2lj0vrkv9yo', 'https://www.bbc.com/news/articles/cy7xxlr2pggo', 'https://www.bbc.com/news/articles/c62zzd3zp50o', 'https://www.bbc.com/news/articles/cdell8n14x2o', 'https://www.bbc.com/news/articles/cqlyy1rld0ko', 'https://www.bbc.com/news/articles/cr52399eqgqo', 'https://www.bbc.com/news/articles/clyderx4v8go']\n",
      "['https://www.bbc.com/news/articles/cqlyy1rld0ko', 'https://www.bbc.com/news/articles/c62zzd3zp50o', 'https://www.bbc.com/news/articles/cly22wdedqeo', 'https://www.bbc.com/news/articles/cyvee9rpdq6o', 'https://www.bbc.com/news/articles/c62zzd3zp50o', 'https://www.bbc.com/news/articles/cvgee7rl24ro', 'https://www.bbc.com/news/articles/c1kjj032d8do', 'https://www.bbc.com/news/articles/cly22wdedqeo', 'https://www.bbc.com/news/articles/cpq222rqv4po', 'https://www.bbc.com/news/articles/cx2gg4x4w14o', 'https://www.bbc.com/news/articles/ce8yy3wpn6eo', 'https://www.bbc.com/news/articles/cq6yy9e368vo', 'https://www.bbc.com/news/articles/c4g776e670vo', 'https://www.bbc.com/news/articles/c170l0n8j54o', 'https://www.bbc.com/news/articles/c4gm9851559o', 'https://www.bbc.com/news/articles/c2lj0vrkv9yo', 'https://www.bbc.com/news/articles/cy7xxlr2pggo', 'https://www.bbc.com/news/articles/c62zzd3zp50o', 'https://www.bbc.com/news/articles/cdell8n14x2o', 'https://www.bbc.com/news/articles/cqlyy1rld0ko', 'https://www.bbc.com/news/articles/cr52399eqgqo', 'https://www.bbc.com/news/articles/clyderx4v8go']\n",
      "['https://www.bbc.com/news/articles/cqlyy1rld0ko', 'https://www.bbc.com/news/articles/c62zzd3zp50o', 'https://www.bbc.com/news/articles/cly22wdedqeo', 'https://www.bbc.com/news/articles/cyvee9rpdq6o', 'https://www.bbc.com/news/articles/c62zzd3zp50o', 'https://www.bbc.com/news/articles/cvgee7rl24ro', 'https://www.bbc.com/news/articles/c1kjj032d8do', 'https://www.bbc.com/news/articles/cly22wdedqeo', 'https://www.bbc.com/news/articles/cpq222rqv4po', 'https://www.bbc.com/news/articles/cx2gg4x4w14o', 'https://www.bbc.com/news/articles/ce8yy3wpn6eo', 'https://www.bbc.com/news/articles/cq6yy9e368vo', 'https://www.bbc.com/news/articles/c4g776e670vo', 'https://www.bbc.com/news/articles/c170l0n8j54o', 'https://www.bbc.com/news/articles/c4gm9851559o', 'https://www.bbc.com/news/articles/c2lj0vrkv9yo']\n",
      "['https://www.bbc.com/news/articles/cqlyy1rld0ko', 'https://www.bbc.com/news/articles/c62zzd3zp50o', 'https://www.bbc.com/news/articles/cly22wdedqeo', 'https://www.bbc.com/news/articles/cyvee9rpdq6o', 'https://www.bbc.com/news/articles/c62zzd3zp50o', 'https://www.bbc.com/news/articles/cvgee7rl24ro', 'https://www.bbc.com/news/articles/c1kjj032d8do', 'https://www.bbc.com/news/articles/cly22wdedqeo', 'https://www.bbc.com/news/articles/cpq222rqv4po', 'https://www.bbc.com/news/articles/cx2gg4x4w14o', 'https://www.bbc.com/news/articles/ce8yy3wpn6eo', 'https://www.bbc.com/news/articles/cq6yy9e368vo', 'https://www.bbc.com/news/articles/c4g776e670vo', 'https://www.bbc.com/news/articles/c170l0n8j54o', 'https://www.bbc.com/news/articles/c4gm9851559o', 'https://www.bbc.com/news/articles/c2lj0vrkv9yo', 'https://www.bbc.com/news/articles/c5yxvywr015o', 'https://www.bbc.com/news/articles/cq5zgvdz2z0o', 'https://www.bbc.com/news/articles/cn48z5q28vyo', 'https://www.bbc.com/news/articles/c2lj0vrkv9yo', 'https://www.bbc.com/news/articles/cx2rmxr90eyo', 'https://www.bbc.com/news/articles/cwydeppzggno']\n",
      "['https://www.bbc.com/news/articles/cqlyy1rld0ko', 'https://www.bbc.com/news/articles/c62zzd3zp50o', 'https://www.bbc.com/news/articles/cly22wdedqeo', 'https://www.bbc.com/news/articles/cyvee9rpdq6o', 'https://www.bbc.com/news/articles/c62zzd3zp50o', 'https://www.bbc.com/news/articles/cvgee7rl24ro', 'https://www.bbc.com/news/articles/c1kjj032d8do', 'https://www.bbc.com/news/articles/cly22wdedqeo', 'https://www.bbc.com/news/articles/cpq222rqv4po', 'https://www.bbc.com/news/articles/cx2gg4x4w14o', 'https://www.bbc.com/news/articles/ce8yy3wpn6eo', 'https://www.bbc.com/news/articles/cq6yy9e368vo', 'https://www.bbc.com/news/articles/c4g776e670vo', 'https://www.bbc.com/news/articles/c170l0n8j54o', 'https://www.bbc.com/news/articles/c4gm9851559o', 'https://www.bbc.com/news/articles/c2lj0vrkv9yo', 'https://www.bbc.com/news/articles/cp9yx7e13ryo', 'https://www.bbc.com/news/articles/ce30n52e6p1o', 'https://www.bbc.com/news/articles/cx24gze60yzo', 'https://www.bbc.com/news/articles/c5yxv0yj40ko', 'https://www.bbc.com/news/articles/c2erg38vjx8o', 'https://www.bbc.com/news/articles/cj0qrj20g5vo', 'https://www.bbc.com/news/articles/c5y0de4wpvlo']\n",
      "['https://www.bbc.com/news/articles/cqlyy1rld0ko', 'https://www.bbc.com/news/articles/c62zzd3zp50o', 'https://www.bbc.com/news/articles/cly22wdedqeo', 'https://www.bbc.com/news/articles/cyvee9rpdq6o', 'https://www.bbc.com/news/articles/c62zzd3zp50o', 'https://www.bbc.com/news/articles/cvgee7rl24ro', 'https://www.bbc.com/news/articles/c1kjj032d8do', 'https://www.bbc.com/news/articles/cly22wdedqeo', 'https://www.bbc.com/news/articles/cpq222rqv4po', 'https://www.bbc.com/news/articles/cx2gg4x4w14o', 'https://www.bbc.com/news/articles/ce8yy3wpn6eo', 'https://www.bbc.com/news/articles/cq6yy9e368vo', 'https://www.bbc.com/news/articles/c4g776e670vo', 'https://www.bbc.com/news/articles/c170l0n8j54o', 'https://www.bbc.com/news/articles/c4gm9851559o', 'https://www.bbc.com/news/articles/c2lj0vrkv9yo', 'https://www.bbc.com/news/articles/c2417q5y2z0o', 'https://www.bbc.com/news/articles/c86pwpy7vx6o', 'https://www.bbc.com/news/articles/c1jpg0069wgo', 'https://www.bbc.com/news/articles/c2kgxk9eqk1o', 'https://www.bbc.com/news/articles/clyz2xk7d9xo', 'https://www.bbc.com/news/articles/cx2rnv1zj4go', 'https://www.bbc.com/news/articles/cd650zdwe8do', 'https://www.bbc.com/news/articles/c3904r98lnlo']\n",
      "['https://www.bbc.com/news/articles/cqlyy1rld0ko', 'https://www.bbc.com/news/articles/c62zzd3zp50o', 'https://www.bbc.com/news/articles/cly22wdedqeo', 'https://www.bbc.com/news/articles/cyvee9rpdq6o', 'https://www.bbc.com/news/articles/c62zzd3zp50o', 'https://www.bbc.com/news/articles/cvgee7rl24ro', 'https://www.bbc.com/news/articles/c1kjj032d8do', 'https://www.bbc.com/news/articles/cly22wdedqeo', 'https://www.bbc.com/news/articles/cpq222rqv4po', 'https://www.bbc.com/news/articles/cx2gg4x4w14o', 'https://www.bbc.com/news/articles/ce8yy3wpn6eo', 'https://www.bbc.com/news/articles/cq6yy9e368vo', 'https://www.bbc.com/news/articles/c4g776e670vo', 'https://www.bbc.com/news/articles/c170l0n8j54o', 'https://www.bbc.com/news/articles/c4gm9851559o', 'https://www.bbc.com/news/articles/c2lj0vrkv9yo', 'https://www.bbc.com/news/articles/cpwd2qrn1e2o', 'https://www.bbc.com/news/articles/cr72n1yyj30o', 'https://www.bbc.com/news/articles/cd0ng4eyr3xo', 'https://www.bbc.com/news/articles/c4g05gzvp57o', 'https://www.bbc.com/news/articles/crlx8w5wdl0o', 'https://www.bbc.com/news/articles/cq8yvg5359po', 'https://www.bbc.com/news/articles/ce8mdrvnmkno', 'https://www.bbc.com/news/articles/clyr2xvn4dpo', 'https://www.bbc.com/news/articles/c93np4y0343o']\n",
      "['https://www.bbc.com/news/articles/cqlyy1rld0ko', 'https://www.bbc.com/news/articles/c62zzd3zp50o', 'https://www.bbc.com/news/articles/cly22wdedqeo', 'https://www.bbc.com/news/articles/cyvee9rpdq6o', 'https://www.bbc.com/news/articles/c62zzd3zp50o', 'https://www.bbc.com/news/articles/cvgee7rl24ro', 'https://www.bbc.com/news/articles/c1kjj032d8do', 'https://www.bbc.com/news/articles/cly22wdedqeo', 'https://www.bbc.com/news/articles/cpq222rqv4po', 'https://www.bbc.com/news/articles/cx2gg4x4w14o', 'https://www.bbc.com/news/articles/ce8yy3wpn6eo', 'https://www.bbc.com/news/articles/cq6yy9e368vo', 'https://www.bbc.com/news/articles/c4g776e670vo', 'https://www.bbc.com/news/articles/c170l0n8j54o', 'https://www.bbc.com/news/articles/c4gm9851559o', 'https://www.bbc.com/news/articles/c2lj0vrkv9yo', 'https://www.bbc.com/news/articles/c4g0mlm7zdlo', 'https://www.bbc.com/news/articles/cg4klq45ngvo', 'https://www.bbc.com/news/articles/c75762x20kro', 'https://www.bbc.com/news/articles/c5ym8n4lzp6o', 'https://www.bbc.com/news/articles/cx2glydm3gmo', 'https://www.bbc.com/news/articles/c5y93jgdvqjo', 'https://www.bbc.com/news/articles/c0jgw4dv3dgo', 'https://www.bbc.com/news/articles/cwyg54r9897o', 'https://www.bbc.com/news/articles/crkn4m0ym32o']\n",
      "['https://www.bbc.com/news/articles/cqlyy1rld0ko', 'https://www.bbc.com/news/articles/c62zzd3zp50o', 'https://www.bbc.com/news/articles/cly22wdedqeo', 'https://www.bbc.com/news/articles/cyvee9rpdq6o', 'https://www.bbc.com/news/articles/c62zzd3zp50o', 'https://www.bbc.com/news/articles/cvgee7rl24ro', 'https://www.bbc.com/news/articles/c1kjj032d8do', 'https://www.bbc.com/news/articles/cly22wdedqeo', 'https://www.bbc.com/news/articles/cpq222rqv4po', 'https://www.bbc.com/news/articles/cx2gg4x4w14o', 'https://www.bbc.com/news/articles/ce8yy3wpn6eo', 'https://www.bbc.com/news/articles/cq6yy9e368vo', 'https://www.bbc.com/news/articles/c4g776e670vo', 'https://www.bbc.com/news/articles/c170l0n8j54o', 'https://www.bbc.com/news/articles/c4gm9851559o', 'https://www.bbc.com/news/articles/c2lj0vrkv9yo', 'https://www.bbc.com/news/articles/c5ym8yyremeo', 'https://www.bbc.com/news/articles/cly25yny3ego', 'https://www.bbc.com/news/articles/cgl0kw7136ko', 'https://www.bbc.com/news/articles/c93npyelnewo', 'https://www.bbc.com/news/articles/c74k9ppdwzeo', 'https://www.bbc.com/news/articles/c1jpd91zwlxo', 'https://www.bbc.com/news/articles/ce8ydg04xezo', 'https://www.bbc.com/news/articles/cvg1ln145l3o']\n",
      "['https://www.bbc.com/news/articles/cqlyy1rld0ko', 'https://www.bbc.com/news/articles/c62zzd3zp50o', 'https://www.bbc.com/news/articles/cly22wdedqeo', 'https://www.bbc.com/news/articles/cyvee9rpdq6o', 'https://www.bbc.com/news/articles/c62zzd3zp50o', 'https://www.bbc.com/news/articles/cvgee7rl24ro', 'https://www.bbc.com/news/articles/c1kjj032d8do', 'https://www.bbc.com/news/articles/cly22wdedqeo', 'https://www.bbc.com/news/articles/cpq222rqv4po', 'https://www.bbc.com/news/articles/cx2gg4x4w14o', 'https://www.bbc.com/news/articles/ce8yy3wpn6eo', 'https://www.bbc.com/news/articles/cq6yy9e368vo', 'https://www.bbc.com/news/articles/c4g776e670vo', 'https://www.bbc.com/news/articles/c170l0n8j54o', 'https://www.bbc.com/news/articles/c4gm9851559o', 'https://www.bbc.com/news/articles/c2lj0vrkv9yo', 'https://www.bbc.com/news/articles/cy83958r2d0o', 'https://www.bbc.com/news/articles/c80yrglnn79o', 'https://www.bbc.com/news/articles/c0rqpp52j5vo', 'https://www.bbc.com/news/articles/cp8le2p353zo', 'https://www.bbc.com/news/articles/cg5d6dq44e7o', 'https://www.bbc.com/news/articles/cly4zw759plo', 'https://www.bbc.com/news/articles/c9845854nmno']\n",
      "['https://www.bbc.com/news/articles/cqlyy1rld0ko', 'https://www.bbc.com/news/articles/c62zzd3zp50o', 'https://www.bbc.com/news/articles/cly22wdedqeo', 'https://www.bbc.com/news/articles/cyvee9rpdq6o', 'https://www.bbc.com/news/articles/c62zzd3zp50o', 'https://www.bbc.com/news/articles/cvgee7rl24ro', 'https://www.bbc.com/news/articles/c1kjj032d8do', 'https://www.bbc.com/news/articles/cly22wdedqeo', 'https://www.bbc.com/news/articles/cpq222rqv4po', 'https://www.bbc.com/news/articles/cx2gg4x4w14o', 'https://www.bbc.com/news/articles/ce8yy3wpn6eo', 'https://www.bbc.com/news/articles/cq6yy9e368vo', 'https://www.bbc.com/news/articles/c4g776e670vo', 'https://www.bbc.com/news/articles/c170l0n8j54o', 'https://www.bbc.com/news/articles/c4gm9851559o', 'https://www.bbc.com/news/articles/c2lj0vrkv9yo', 'https://www.bbc.com/news/articles/c7vdnlmgyndo', 'https://www.bbc.com/news/articles/c62z31ng7l0o', 'https://www.bbc.com/news/articles/cdjywvne2k9o', 'https://www.bbc.com/news/articles/ce98zeex9ymo', 'https://www.bbc.com/news/articles/c04z90607v4o', 'https://www.bbc.com/news/articles/cy7x63685p2o', 'https://www.bbc.com/news/articles/cm2dnnvvjkeo']\n",
      "['https://www.bbc.com/news/articles/cqlyy1rld0ko', 'https://www.bbc.com/news/articles/c62zzd3zp50o', 'https://www.bbc.com/news/articles/cly22wdedqeo', 'https://www.bbc.com/news/articles/cyvee9rpdq6o', 'https://www.bbc.com/news/articles/c62zzd3zp50o', 'https://www.bbc.com/news/articles/cvgee7rl24ro', 'https://www.bbc.com/news/articles/c1kjj032d8do', 'https://www.bbc.com/news/articles/cly22wdedqeo', 'https://www.bbc.com/news/articles/cpq222rqv4po', 'https://www.bbc.com/news/articles/cx2gg4x4w14o', 'https://www.bbc.com/news/articles/ce8yy3wpn6eo', 'https://www.bbc.com/news/articles/cq6yy9e368vo', 'https://www.bbc.com/news/articles/c4g776e670vo', 'https://www.bbc.com/news/articles/c170l0n8j54o', 'https://www.bbc.com/news/articles/c4gm9851559o', 'https://www.bbc.com/news/articles/c2lj0vrkv9yo', 'https://www.bbc.com/news/articles/cvgw3e8zj4vo', 'https://www.bbc.com/news/articles/cjev24184vjo', 'https://www.bbc.com/news/articles/c0qz32wzeego', 'https://www.bbc.com/news/articles/cx2qepd3yn8o', 'https://www.bbc.com/news/articles/c4gpdzep6x4o']\n",
      "['https://www.bbc.com/news/articles/cqlyy1rld0ko', 'https://www.bbc.com/news/articles/c62zzd3zp50o', 'https://www.bbc.com/news/articles/cly22wdedqeo', 'https://www.bbc.com/news/articles/cyvee9rpdq6o', 'https://www.bbc.com/news/articles/c62zzd3zp50o', 'https://www.bbc.com/news/articles/cvgee7rl24ro', 'https://www.bbc.com/news/articles/c1kjj032d8do', 'https://www.bbc.com/news/articles/cly22wdedqeo', 'https://www.bbc.com/news/articles/cpq222rqv4po', 'https://www.bbc.com/news/articles/cx2gg4x4w14o', 'https://www.bbc.com/news/articles/ce8yy3wpn6eo', 'https://www.bbc.com/news/articles/cq6yy9e368vo', 'https://www.bbc.com/news/articles/c4g776e670vo', 'https://www.bbc.com/news/articles/c170l0n8j54o', 'https://www.bbc.com/news/articles/c4gm9851559o', 'https://www.bbc.com/news/articles/c2lj0vrkv9yo', 'https://www.bbc.com/news/articles/cj4nxd42q88o']\n",
      "Error for: https://www.bbc.com/news/us-canada. Message: Unable to locate element: //button[contains(text(),'13')]; For documentation on this error, please visit: https://www.selenium.dev/documentation/webdriver/troubleshooting/errors#no-such-element-exception\n",
      "Stacktrace:\n",
      "RemoteError@chrome://remote/content/shared/RemoteError.sys.mjs:8:8\n",
      "WebDriverError@chrome://remote/content/shared/webdriver/Errors.sys.mjs:197:5\n",
      "NoSuchElementError@chrome://remote/content/shared/webdriver/Errors.sys.mjs:527:5\n",
      "dom.find/</<@chrome://remote/content/shared/DOM.sys.mjs:136:16\n",
      "\n",
      "['https://www.bbc.com/news/articles/c8d4467y5dno', 'https://www.bbc.com/news/articles/cx2eyqz49v5o', 'https://www.bbc.com/news/articles/c798d074wp2o', 'https://www.bbc.com/news/articles/c5yr7j18edjo', 'https://www.bbc.com/news/articles/clyn914g249o', 'https://www.bbc.com/news/articles/cx2eyqz49v5o', 'https://www.bbc.com/news/articles/cevxxxmdmxeo', 'https://www.bbc.com/news/articles/cdryre7y4n0o', 'https://www.bbc.com/news/articles/c798d074wp2o', 'https://www.bbc.com/news/articles/cx2gn417300o', 'https://www.bbc.com/news/articles/c0kg58xk4dvo', 'https://www.bbc.com/news/articles/cy7x87ev5jyo', 'https://www.bbc.com/news/articles/c70q5wjjl4yo', 'https://www.bbc.com/news/articles/cn04lpe38rwo', 'https://www.bbc.com/news/articles/c9d5zqg3228o', 'https://www.bbc.com/news/articles/cwyew21yyjzo', 'https://www.bbc.com/news/articles/czepewl780eo', 'https://www.bbc.com/news/articles/cn57l3xvk4po', 'https://www.bbc.com/news/articles/c8d4467y5dno', 'https://www.bbc.com/news/articles/c798d074wp2o', 'https://www.bbc.com/news/articles/cx2eyqz49v5o', 'https://www.bbc.com/news/articles/ce8y5j49xgyo', 'https://www.bbc.com/news/articles/clyn914g249o', 'https://www.bbc.com/news/articles/cx2gn417300o', 'https://www.bbc.com/news/articles/c70ekeln92eo', 'https://www.bbc.com/news/articles/cwyj1198wy3o']\n",
      "['https://www.bbc.com/news/articles/c8d4467y5dno', 'https://www.bbc.com/news/articles/cx2eyqz49v5o', 'https://www.bbc.com/news/articles/c798d074wp2o', 'https://www.bbc.com/news/articles/c5yr7j18edjo', 'https://www.bbc.com/news/articles/clyn914g249o', 'https://www.bbc.com/news/articles/cx2eyqz49v5o', 'https://www.bbc.com/news/articles/cevxxxmdmxeo', 'https://www.bbc.com/news/articles/cdryre7y4n0o', 'https://www.bbc.com/news/articles/c798d074wp2o', 'https://www.bbc.com/news/articles/cx2gn417300o', 'https://www.bbc.com/news/articles/c0kg58xk4dvo', 'https://www.bbc.com/news/articles/cy7x87ev5jyo', 'https://www.bbc.com/news/articles/c70q5wjjl4yo', 'https://www.bbc.com/news/articles/cn04lpe38rwo', 'https://www.bbc.com/news/articles/c9d5zqg3228o', 'https://www.bbc.com/news/articles/cwyew21yyjzo', 'https://www.bbc.com/news/articles/czepewl780eo', 'https://www.bbc.com/news/articles/cn57l3xvk4po', 'https://www.bbc.com/news/articles/c8d4467y5dno', 'https://www.bbc.com/news/articles/c798d074wp2o', 'https://www.bbc.com/news/articles/cx2eyqz49v5o', 'https://www.bbc.com/news/articles/ce8y5j49xgyo', 'https://www.bbc.com/news/articles/clyn914g249o', 'https://www.bbc.com/news/articles/cx2gn417300o', 'https://www.bbc.com/news/articles/c70ekeln92eo', 'https://www.bbc.com/news/articles/cwyj1198wy3o']\n",
      "['https://www.bbc.com/news/articles/c8d4467y5dno', 'https://www.bbc.com/news/articles/cx2eyqz49v5o', 'https://www.bbc.com/news/articles/c798d074wp2o', 'https://www.bbc.com/news/articles/c5yr7j18edjo', 'https://www.bbc.com/news/articles/clyn914g249o', 'https://www.bbc.com/news/articles/cx2eyqz49v5o', 'https://www.bbc.com/news/articles/cevxxxmdmxeo', 'https://www.bbc.com/news/articles/cdryre7y4n0o', 'https://www.bbc.com/news/articles/c798d074wp2o', 'https://www.bbc.com/news/articles/cx2gn417300o', 'https://www.bbc.com/news/articles/c0kg58xk4dvo', 'https://www.bbc.com/news/articles/cy7x87ev5jyo', 'https://www.bbc.com/news/articles/c70q5wjjl4yo', 'https://www.bbc.com/news/articles/cn04lpe38rwo', 'https://www.bbc.com/news/articles/c9d5zqg3228o', 'https://www.bbc.com/news/articles/cwyew21yyjzo', 'https://www.bbc.com/news/articles/czepewl780eo', 'https://www.bbc.com/news/articles/cn57l3xvk4po', 'https://www.bbc.com/news/articles/c8e7dkld09zo', 'https://www.bbc.com/news/articles/c0kg58xk4dvo', 'https://www.bbc.com/news/articles/cy7x87ev5jyo', 'https://www.bbc.com/news/articles/cly8nzpwnn4o', 'https://www.bbc.com/news/articles/cm2ne8zz3pdo', 'https://www.bbc.com/news/articles/ce8ve60r53yo', 'https://www.bbc.com/news/articles/c70q5wjjl4yo', 'https://www.bbc.com/news/articles/c04zlv32rdqo', 'https://www.bbc.com/news/articles/cn52wk3d9x2o']\n",
      "['https://www.bbc.com/news/articles/c8d4467y5dno', 'https://www.bbc.com/news/articles/cx2eyqz49v5o', 'https://www.bbc.com/news/articles/c798d074wp2o', 'https://www.bbc.com/news/articles/c5yr7j18edjo', 'https://www.bbc.com/news/articles/clyn914g249o', 'https://www.bbc.com/news/articles/cx2eyqz49v5o', 'https://www.bbc.com/news/articles/cevxxxmdmxeo', 'https://www.bbc.com/news/articles/cdryre7y4n0o', 'https://www.bbc.com/news/articles/c798d074wp2o', 'https://www.bbc.com/news/articles/cx2gn417300o', 'https://www.bbc.com/news/articles/c0kg58xk4dvo', 'https://www.bbc.com/news/articles/cy7x87ev5jyo', 'https://www.bbc.com/news/articles/c70q5wjjl4yo', 'https://www.bbc.com/news/articles/cn04lpe38rwo', 'https://www.bbc.com/news/articles/c9d5zqg3228o', 'https://www.bbc.com/news/articles/cwyew21yyjzo', 'https://www.bbc.com/news/articles/czepewl780eo', 'https://www.bbc.com/news/articles/cn57l3xvk4po', 'https://www.bbc.com/news/articles/c9d5zqg3228o', 'https://www.bbc.com/news/articles/c1lp419q9peo', 'https://www.bbc.com/news/articles/c8d4j3vrp8lo', 'https://www.bbc.com/news/articles/cy4vdkmpg04o', 'https://www.bbc.com/news/articles/cy0dg11y6xko', 'https://www.bbc.com/news/articles/c2erkxpevxvo', 'https://www.bbc.com/news/articles/czepewl780eo', 'https://www.bbc.com/news/articles/c05mjdgd16po', 'https://www.bbc.com/news/articles/cly6npj3z89o']\n",
      "['https://www.bbc.com/news/articles/c8d4467y5dno', 'https://www.bbc.com/news/articles/cx2eyqz49v5o', 'https://www.bbc.com/news/articles/c798d074wp2o', 'https://www.bbc.com/news/articles/c5yr7j18edjo', 'https://www.bbc.com/news/articles/clyn914g249o', 'https://www.bbc.com/news/articles/cx2eyqz49v5o', 'https://www.bbc.com/news/articles/cevxxxmdmxeo', 'https://www.bbc.com/news/articles/cdryre7y4n0o', 'https://www.bbc.com/news/articles/c798d074wp2o', 'https://www.bbc.com/news/articles/cx2gn417300o', 'https://www.bbc.com/news/articles/c0kg58xk4dvo', 'https://www.bbc.com/news/articles/cy7x87ev5jyo', 'https://www.bbc.com/news/articles/c70q5wjjl4yo', 'https://www.bbc.com/news/articles/cn04lpe38rwo', 'https://www.bbc.com/news/articles/c9d5zqg3228o', 'https://www.bbc.com/news/articles/cwyew21yyjzo', 'https://www.bbc.com/news/articles/czepewl780eo', 'https://www.bbc.com/news/articles/cn57l3xvk4po', 'https://www.bbc.com/news/articles/cly8397e7gno', 'https://www.bbc.com/news/articles/cly3nlv5d52o', 'https://www.bbc.com/news/articles/c5y98jjwx4no', 'https://www.bbc.com/news/articles/c0rzw8wqn8vo', 'https://www.bbc.com/news/articles/cvgeg6rz8xvo', 'https://www.bbc.com/news/articles/c23n317vl7ko', 'https://www.bbc.com/news/articles/cglyl6el10xo', 'https://www.bbc.com/news/articles/cgly1yrd9j3o', 'https://www.bbc.com/news/articles/c0rqr8q5v52o']\n",
      "['https://www.bbc.com/news/articles/c8d4467y5dno', 'https://www.bbc.com/news/articles/cx2eyqz49v5o', 'https://www.bbc.com/news/articles/c798d074wp2o', 'https://www.bbc.com/news/articles/c5yr7j18edjo', 'https://www.bbc.com/news/articles/clyn914g249o', 'https://www.bbc.com/news/articles/cx2eyqz49v5o', 'https://www.bbc.com/news/articles/cevxxxmdmxeo', 'https://www.bbc.com/news/articles/cdryre7y4n0o', 'https://www.bbc.com/news/articles/c798d074wp2o', 'https://www.bbc.com/news/articles/cx2gn417300o', 'https://www.bbc.com/news/articles/c0kg58xk4dvo', 'https://www.bbc.com/news/articles/cy7x87ev5jyo', 'https://www.bbc.com/news/articles/c70q5wjjl4yo', 'https://www.bbc.com/news/articles/cn04lpe38rwo', 'https://www.bbc.com/news/articles/c9d5zqg3228o', 'https://www.bbc.com/news/articles/cwyew21yyjzo', 'https://www.bbc.com/news/articles/czepewl780eo', 'https://www.bbc.com/news/articles/cn57l3xvk4po', 'https://www.bbc.com/news/articles/c87d9z4g5ywo', 'https://www.bbc.com/news/articles/c05l33j7rq7o', 'https://www.bbc.com/news/articles/cm21r7qd16ro', 'https://www.bbc.com/news/articles/c1m5dppk5xmo', 'https://www.bbc.com/news/articles/cvgmj00zjrpo', 'https://www.bbc.com/news/articles/c3d5jx0vzr4o', 'https://www.bbc.com/news/articles/c74epe9nv7po', 'https://www.bbc.com/news/articles/cr46ydpp3ddo', 'https://www.bbc.com/news/articles/ckg0xem34jno']\n",
      "['https://www.bbc.com/news/articles/c8d4467y5dno', 'https://www.bbc.com/news/articles/cx2eyqz49v5o', 'https://www.bbc.com/news/articles/c798d074wp2o', 'https://www.bbc.com/news/articles/c5yr7j18edjo', 'https://www.bbc.com/news/articles/clyn914g249o', 'https://www.bbc.com/news/articles/cx2eyqz49v5o', 'https://www.bbc.com/news/articles/cevxxxmdmxeo', 'https://www.bbc.com/news/articles/cdryre7y4n0o', 'https://www.bbc.com/news/articles/c798d074wp2o', 'https://www.bbc.com/news/articles/cx2gn417300o', 'https://www.bbc.com/news/articles/c0kg58xk4dvo', 'https://www.bbc.com/news/articles/cy7x87ev5jyo', 'https://www.bbc.com/news/articles/c70q5wjjl4yo', 'https://www.bbc.com/news/articles/cn04lpe38rwo', 'https://www.bbc.com/news/articles/c9d5zqg3228o', 'https://www.bbc.com/news/articles/cwyew21yyjzo', 'https://www.bbc.com/news/articles/czepewl780eo', 'https://www.bbc.com/news/articles/cn57l3xvk4po', 'https://www.bbc.com/news/articles/ce85x6w22gwo', 'https://www.bbc.com/news/articles/ckgy0d3pgv0o', 'https://www.bbc.com/news/articles/c0rqe85q1jno', 'https://www.bbc.com/news/articles/c87dv0vzx75o', 'https://www.bbc.com/news/articles/cz7ed71g0xwo', 'https://www.bbc.com/news/articles/c4gz4gdr1zgo', 'https://www.bbc.com/news/articles/cj91dmxz7x9o', 'https://www.bbc.com/news/articles/cpdx3wj9dp2o', 'https://www.bbc.com/news/articles/c9qj9yrn5lyo']\n",
      "['https://www.bbc.com/news/articles/c8d4467y5dno', 'https://www.bbc.com/news/articles/cx2eyqz49v5o', 'https://www.bbc.com/news/articles/c798d074wp2o', 'https://www.bbc.com/news/articles/c5yr7j18edjo', 'https://www.bbc.com/news/articles/clyn914g249o', 'https://www.bbc.com/news/articles/cx2eyqz49v5o', 'https://www.bbc.com/news/articles/cevxxxmdmxeo', 'https://www.bbc.com/news/articles/cdryre7y4n0o', 'https://www.bbc.com/news/articles/c798d074wp2o', 'https://www.bbc.com/news/articles/cx2gn417300o', 'https://www.bbc.com/news/articles/c0kg58xk4dvo', 'https://www.bbc.com/news/articles/cy7x87ev5jyo', 'https://www.bbc.com/news/articles/c70q5wjjl4yo', 'https://www.bbc.com/news/articles/cn04lpe38rwo', 'https://www.bbc.com/news/articles/c9d5zqg3228o', 'https://www.bbc.com/news/articles/cwyew21yyjzo', 'https://www.bbc.com/news/articles/czepewl780eo', 'https://www.bbc.com/news/articles/cn57l3xvk4po', 'https://www.bbc.com/news/articles/c9830566073o', 'https://www.bbc.com/news/articles/cgq0gxp04q2o', 'https://www.bbc.com/news/articles/czx859nq9jwo', 'https://www.bbc.com/news/articles/c4gzyg27kg1o', 'https://www.bbc.com/news/articles/c4gx0jw5v1lo', 'https://www.bbc.com/news/articles/cn5rrp104d1o', 'https://www.bbc.com/news/articles/cew5q04q427o', 'https://www.bbc.com/news/articles/cp8qp6p39e9o', 'https://www.bbc.com/news/articles/cq5gp74nqn6o']\n",
      "['https://www.bbc.com/news/articles/c8d4467y5dno', 'https://www.bbc.com/news/articles/cx2eyqz49v5o', 'https://www.bbc.com/news/articles/c798d074wp2o', 'https://www.bbc.com/news/articles/c5yr7j18edjo', 'https://www.bbc.com/news/articles/clyn914g249o', 'https://www.bbc.com/news/articles/cx2eyqz49v5o', 'https://www.bbc.com/news/articles/cevxxxmdmxeo', 'https://www.bbc.com/news/articles/cdryre7y4n0o', 'https://www.bbc.com/news/articles/c798d074wp2o', 'https://www.bbc.com/news/articles/cx2gn417300o', 'https://www.bbc.com/news/articles/c0kg58xk4dvo', 'https://www.bbc.com/news/articles/cy7x87ev5jyo', 'https://www.bbc.com/news/articles/c70q5wjjl4yo', 'https://www.bbc.com/news/articles/cn04lpe38rwo', 'https://www.bbc.com/news/articles/c9d5zqg3228o', 'https://www.bbc.com/news/articles/cwyew21yyjzo', 'https://www.bbc.com/news/articles/czepewl780eo', 'https://www.bbc.com/news/articles/cn57l3xvk4po', 'https://www.bbc.com/news/articles/cn8xpry2kreo', 'https://www.bbc.com/news/articles/cm27pn1g1g8o', 'https://www.bbc.com/news/articles/cy081kq89yko', 'https://www.bbc.com/news/articles/c0m1jmdr4jgo', 'https://www.bbc.com/news/articles/cn01k8948v1o', 'https://www.bbc.com/news/articles/cly9j1peg2po', 'https://www.bbc.com/news/articles/ckgyrxz4k6zo', 'https://www.bbc.com/news/articles/cd7dj4vvzlqo', 'https://www.bbc.com/news/articles/c897505z512o']\n",
      "['https://www.bbc.com/news/articles/c8d4467y5dno', 'https://www.bbc.com/news/articles/cx2eyqz49v5o', 'https://www.bbc.com/news/articles/c798d074wp2o', 'https://www.bbc.com/news/articles/c5yr7j18edjo', 'https://www.bbc.com/news/articles/clyn914g249o', 'https://www.bbc.com/news/articles/cx2eyqz49v5o', 'https://www.bbc.com/news/articles/cevxxxmdmxeo', 'https://www.bbc.com/news/articles/cdryre7y4n0o', 'https://www.bbc.com/news/articles/c798d074wp2o', 'https://www.bbc.com/news/articles/cx2gn417300o', 'https://www.bbc.com/news/articles/c0kg58xk4dvo', 'https://www.bbc.com/news/articles/cy7x87ev5jyo', 'https://www.bbc.com/news/articles/c70q5wjjl4yo', 'https://www.bbc.com/news/articles/cn04lpe38rwo', 'https://www.bbc.com/news/articles/c9d5zqg3228o', 'https://www.bbc.com/news/articles/cwyew21yyjzo', 'https://www.bbc.com/news/articles/czepewl780eo', 'https://www.bbc.com/news/articles/cn57l3xvk4po', 'https://www.bbc.com/news/articles/czj3w9k7gxxo', 'https://www.bbc.com/news/articles/cg5y1r189m0o', 'https://www.bbc.com/news/articles/c0m1ge1xnm2o', 'https://www.bbc.com/news/articles/clyeg4q71wko', 'https://www.bbc.com/news/articles/c4gp4kqer46o', 'https://www.bbc.com/news/articles/cjexnzl372wo', 'https://www.bbc.com/news/articles/cn01z1yy0jno', 'https://www.bbc.com/news/articles/c8edg700gn4o', 'https://www.bbc.com/news/articles/cly91zgdp0vo']\n",
      "['https://www.bbc.com/news/articles/c8d4467y5dno', 'https://www.bbc.com/news/articles/cx2eyqz49v5o', 'https://www.bbc.com/news/articles/c798d074wp2o', 'https://www.bbc.com/news/articles/c5yr7j18edjo', 'https://www.bbc.com/news/articles/clyn914g249o', 'https://www.bbc.com/news/articles/cx2eyqz49v5o', 'https://www.bbc.com/news/articles/cevxxxmdmxeo', 'https://www.bbc.com/news/articles/cdryre7y4n0o', 'https://www.bbc.com/news/articles/c798d074wp2o', 'https://www.bbc.com/news/articles/cx2gn417300o', 'https://www.bbc.com/news/articles/c0kg58xk4dvo', 'https://www.bbc.com/news/articles/cy7x87ev5jyo', 'https://www.bbc.com/news/articles/c70q5wjjl4yo', 'https://www.bbc.com/news/articles/cn04lpe38rwo', 'https://www.bbc.com/news/articles/c9d5zqg3228o', 'https://www.bbc.com/news/articles/cwyew21yyjzo', 'https://www.bbc.com/news/articles/czepewl780eo', 'https://www.bbc.com/news/articles/cn57l3xvk4po', 'https://www.bbc.com/news/articles/cx2yxw11zlgo', 'https://www.bbc.com/news/articles/c39142l9nkyo', 'https://www.bbc.com/news/articles/c4gxe7xxjd0o', 'https://www.bbc.com/news/articles/c78xvgvy172o', 'https://www.bbc.com/news/articles/cj91yy023dxo', 'https://www.bbc.com/news/articles/c897884e5wzo', 'https://www.bbc.com/news/articles/cn57l3xvk4po']\n",
      "['https://www.bbc.com/news/articles/c8d4467y5dno', 'https://www.bbc.com/news/articles/cx2eyqz49v5o', 'https://www.bbc.com/news/articles/c798d074wp2o', 'https://www.bbc.com/news/articles/c5yr7j18edjo', 'https://www.bbc.com/news/articles/clyn914g249o', 'https://www.bbc.com/news/articles/cx2eyqz49v5o', 'https://www.bbc.com/news/articles/cevxxxmdmxeo', 'https://www.bbc.com/news/articles/cdryre7y4n0o', 'https://www.bbc.com/news/articles/c798d074wp2o', 'https://www.bbc.com/news/articles/cx2gn417300o', 'https://www.bbc.com/news/articles/c0kg58xk4dvo', 'https://www.bbc.com/news/articles/cy7x87ev5jyo', 'https://www.bbc.com/news/articles/c70q5wjjl4yo', 'https://www.bbc.com/news/articles/cn04lpe38rwo', 'https://www.bbc.com/news/articles/c9d5zqg3228o', 'https://www.bbc.com/news/articles/cwyew21yyjzo', 'https://www.bbc.com/news/articles/czepewl780eo', 'https://www.bbc.com/news/articles/cn57l3xvk4po', 'https://www.bbc.com/news/articles/c04ngw5wzrpo', 'https://www.bbc.com/news/articles/ckgn1k9nleno', 'https://www.bbc.com/news/articles/cz6p8j17ynlo', 'https://www.bbc.com/news/articles/c78w1ze7v25o', 'https://www.bbc.com/news/articles/cwyekqn1k1ko', 'https://www.bbc.com/news/articles/c5yvd91j72eo', 'https://www.bbc.com/news/articles/cd6477844pdo', 'https://www.bbc.com/news/articles/cd0j4d7v229o', 'https://www.bbc.com/news/articles/ckgyzl1mlkvo']\n",
      "['https://www.bbc.com/news/articles/c8d4467y5dno', 'https://www.bbc.com/news/articles/cx2eyqz49v5o', 'https://www.bbc.com/news/articles/c798d074wp2o', 'https://www.bbc.com/news/articles/c5yr7j18edjo', 'https://www.bbc.com/news/articles/clyn914g249o', 'https://www.bbc.com/news/articles/cx2eyqz49v5o', 'https://www.bbc.com/news/articles/cevxxxmdmxeo', 'https://www.bbc.com/news/articles/cdryre7y4n0o', 'https://www.bbc.com/news/articles/c798d074wp2o', 'https://www.bbc.com/news/articles/cx2gn417300o', 'https://www.bbc.com/news/articles/c0kg58xk4dvo', 'https://www.bbc.com/news/articles/cy7x87ev5jyo', 'https://www.bbc.com/news/articles/c70q5wjjl4yo', 'https://www.bbc.com/news/articles/cn04lpe38rwo', 'https://www.bbc.com/news/articles/c9d5zqg3228o', 'https://www.bbc.com/news/articles/cwyew21yyjzo', 'https://www.bbc.com/news/articles/czepewl780eo', 'https://www.bbc.com/news/articles/cn57l3xvk4po', 'https://www.bbc.com/news/articles/cyv4606y4jzo']\n",
      "Error for: https://www.bbc.com/news/world/africa. Message: Unable to locate element: //button[contains(text(),'13')]; For documentation on this error, please visit: https://www.selenium.dev/documentation/webdriver/troubleshooting/errors#no-such-element-exception\n",
      "Stacktrace:\n",
      "RemoteError@chrome://remote/content/shared/RemoteError.sys.mjs:8:8\n",
      "WebDriverError@chrome://remote/content/shared/webdriver/Errors.sys.mjs:197:5\n",
      "NoSuchElementError@chrome://remote/content/shared/webdriver/Errors.sys.mjs:527:5\n",
      "dom.find/</<@chrome://remote/content/shared/DOM.sys.mjs:136:16\n",
      "\n",
      "['https://www.bbc.com/news/articles/cm2j1r1qn3zo', 'https://www.bbc.com/news/articles/c80yynv0jjpo', 'https://www.bbc.com/news/articles/cly226jj0pgo', 'https://www.bbc.com/news/articles/c5y44z9z67po', 'https://www.bbc.com/news/articles/c14jjxz8re6o', 'https://www.bbc.com/news/articles/c80yynv0jjpo', 'https://www.bbc.com/news/articles/cvg559y0803o', 'https://www.bbc.com/news/articles/c757zl67n7wo', 'https://www.bbc.com/news/articles/cly226jj0pgo', 'https://www.bbc.com/news/articles/cy4llggnvvdo', 'https://www.bbc.com/news/articles/c5y0v3gd5e5o', 'https://www.bbc.com/news/articles/cp9yxvjx19go', 'https://www.bbc.com/news/articles/cjry8zz8yego', 'https://www.bbc.com/news/articles/cg5dym4ye30o', 'https://www.bbc.com/news/articles/c5yr7j18edjo', 'https://www.bbc.com/news/articles/cjev9kzxeqqo', 'https://www.bbc.com/news/articles/ckgy8p3pe71o', 'https://www.bbc.com/news/articles/c62e36jm4jro', 'https://www.bbc.com/news/articles/c8rk5d7ekjmo', 'https://www.bbc.com/news/articles/c36wwld19gzo', 'https://www.bbc.com/news/articles/cly226jj0pgo', 'https://www.bbc.com/news/articles/c757zl67n7wo', 'https://www.bbc.com/news/articles/c14jjxz8re6o', 'https://www.bbc.com/news/articles/cjev9kzxeqqo', 'https://www.bbc.com/news/articles/c5yr7j18edjo', 'https://www.bbc.com/news/articles/c62e36jm4jro', 'https://www.bbc.com/news/articles/cp9yxjv8m4ko']\n",
      "['https://www.bbc.com/news/articles/cm2j1r1qn3zo', 'https://www.bbc.com/news/articles/c80yynv0jjpo', 'https://www.bbc.com/news/articles/cly226jj0pgo', 'https://www.bbc.com/news/articles/c5y44z9z67po', 'https://www.bbc.com/news/articles/c14jjxz8re6o', 'https://www.bbc.com/news/articles/c80yynv0jjpo', 'https://www.bbc.com/news/articles/cvg559y0803o', 'https://www.bbc.com/news/articles/c757zl67n7wo', 'https://www.bbc.com/news/articles/cly226jj0pgo', 'https://www.bbc.com/news/articles/cy4llggnvvdo', 'https://www.bbc.com/news/articles/c5y0v3gd5e5o', 'https://www.bbc.com/news/articles/cp9yxvjx19go', 'https://www.bbc.com/news/articles/cjry8zz8yego', 'https://www.bbc.com/news/articles/cg5dym4ye30o', 'https://www.bbc.com/news/articles/c5yr7j18edjo', 'https://www.bbc.com/news/articles/cjev9kzxeqqo', 'https://www.bbc.com/news/articles/ckgy8p3pe71o', 'https://www.bbc.com/news/articles/c62e36jm4jro', 'https://www.bbc.com/news/articles/c8rk5d7ekjmo', 'https://www.bbc.com/news/articles/c36wwld19gzo', 'https://www.bbc.com/news/articles/cly226jj0pgo', 'https://www.bbc.com/news/articles/c757zl67n7wo', 'https://www.bbc.com/news/articles/c14jjxz8re6o', 'https://www.bbc.com/news/articles/cjev9kzxeqqo', 'https://www.bbc.com/news/articles/c5yr7j18edjo', 'https://www.bbc.com/news/articles/c62e36jm4jro', 'https://www.bbc.com/news/articles/cp9yxjv8m4ko']\n",
      "['https://www.bbc.com/news/articles/cm2j1r1qn3zo', 'https://www.bbc.com/news/articles/c80yynv0jjpo', 'https://www.bbc.com/news/articles/cly226jj0pgo', 'https://www.bbc.com/news/articles/c5y44z9z67po', 'https://www.bbc.com/news/articles/c14jjxz8re6o', 'https://www.bbc.com/news/articles/c80yynv0jjpo', 'https://www.bbc.com/news/articles/cvg559y0803o', 'https://www.bbc.com/news/articles/c757zl67n7wo', 'https://www.bbc.com/news/articles/cly226jj0pgo', 'https://www.bbc.com/news/articles/cy4llggnvvdo', 'https://www.bbc.com/news/articles/c5y0v3gd5e5o', 'https://www.bbc.com/news/articles/cp9yxvjx19go', 'https://www.bbc.com/news/articles/cjry8zz8yego', 'https://www.bbc.com/news/articles/cg5dym4ye30o', 'https://www.bbc.com/news/articles/c5yr7j18edjo', 'https://www.bbc.com/news/articles/cjev9kzxeqqo', 'https://www.bbc.com/news/articles/ckgy8p3pe71o', 'https://www.bbc.com/news/articles/c62e36jm4jro', 'https://www.bbc.com/news/articles/c8rk5d7ekjmo', 'https://www.bbc.com/news/articles/cdx2nedlzgko', 'https://www.bbc.com/news/articles/cjry8zz8yego', 'https://www.bbc.com/news/articles/c8rk5d7ekjmo', 'https://www.bbc.com/news/articles/ckgy8p3pe71o', 'https://www.bbc.com/news/articles/czednek3r2jo', 'https://www.bbc.com/news/articles/c9q47qleey8o', 'https://www.bbc.com/news/articles/c9depxjegw9o', 'https://www.bbc.com/news/articles/cy4lp2pw9pko', 'https://www.bbc.com/news/articles/ckg1xjpnkl2o']\n",
      "['https://www.bbc.com/news/articles/cm2j1r1qn3zo', 'https://www.bbc.com/news/articles/c80yynv0jjpo', 'https://www.bbc.com/news/articles/cly226jj0pgo', 'https://www.bbc.com/news/articles/c5y44z9z67po', 'https://www.bbc.com/news/articles/c14jjxz8re6o', 'https://www.bbc.com/news/articles/c80yynv0jjpo', 'https://www.bbc.com/news/articles/cvg559y0803o', 'https://www.bbc.com/news/articles/c757zl67n7wo', 'https://www.bbc.com/news/articles/cly226jj0pgo', 'https://www.bbc.com/news/articles/cy4llggnvvdo', 'https://www.bbc.com/news/articles/c5y0v3gd5e5o', 'https://www.bbc.com/news/articles/cp9yxvjx19go', 'https://www.bbc.com/news/articles/cjry8zz8yego', 'https://www.bbc.com/news/articles/cg5dym4ye30o', 'https://www.bbc.com/news/articles/c5yr7j18edjo', 'https://www.bbc.com/news/articles/cjev9kzxeqqo', 'https://www.bbc.com/news/articles/ckgy8p3pe71o', 'https://www.bbc.com/news/articles/c62e36jm4jro', 'https://www.bbc.com/news/articles/c8rk5d7ekjmo', 'https://www.bbc.com/news/articles/ce30l5497x2o', 'https://www.bbc.com/news/articles/c4gwj2qy9pxo', 'https://www.bbc.com/news/articles/cd0nzmmzvyno', 'https://www.bbc.com/news/articles/c0rznw4j2e4o', 'https://www.bbc.com/news/articles/cly3llmg140o', 'https://www.bbc.com/news/articles/cn9vde5y1ezo', 'https://www.bbc.com/news/articles/crknd1e86x4o', 'https://www.bbc.com/news/articles/c5y4973d0e0o', 'https://www.bbc.com/news/articles/cd0nzel19v1o']\n",
      "['https://www.bbc.com/news/articles/cm2j1r1qn3zo', 'https://www.bbc.com/news/articles/c80yynv0jjpo', 'https://www.bbc.com/news/articles/cly226jj0pgo', 'https://www.bbc.com/news/articles/c5y44z9z67po', 'https://www.bbc.com/news/articles/c14jjxz8re6o', 'https://www.bbc.com/news/articles/c80yynv0jjpo', 'https://www.bbc.com/news/articles/cvg559y0803o', 'https://www.bbc.com/news/articles/c757zl67n7wo', 'https://www.bbc.com/news/articles/cly226jj0pgo', 'https://www.bbc.com/news/articles/cy4llggnvvdo', 'https://www.bbc.com/news/articles/c5y0v3gd5e5o', 'https://www.bbc.com/news/articles/cp9yxvjx19go', 'https://www.bbc.com/news/articles/cjry8zz8yego', 'https://www.bbc.com/news/articles/cg5dym4ye30o', 'https://www.bbc.com/news/articles/c5yr7j18edjo', 'https://www.bbc.com/news/articles/cjev9kzxeqqo', 'https://www.bbc.com/news/articles/ckgy8p3pe71o', 'https://www.bbc.com/news/articles/c62e36jm4jro', 'https://www.bbc.com/news/articles/c8rk5d7ekjmo', 'https://www.bbc.com/news/articles/cpq2zd2ep8ro', 'https://www.bbc.com/news/articles/cgl026rw7xpo', 'https://www.bbc.com/news/articles/c62zr4pyn84o', 'https://www.bbc.com/news/articles/c1lv3g51n9yo', 'https://www.bbc.com/news/articles/cvg4g8q51xdo', 'https://www.bbc.com/news/articles/c5yxl8lrlnxo', 'https://www.bbc.com/news/articles/c86pl55x0qno', 'https://www.bbc.com/news/articles/cvgdr4r2l31o', 'https://www.bbc.com/news/articles/cdrxlnpeyx5o']\n",
      "['https://www.bbc.com/news/articles/cm2j1r1qn3zo', 'https://www.bbc.com/news/articles/c80yynv0jjpo', 'https://www.bbc.com/news/articles/cly226jj0pgo', 'https://www.bbc.com/news/articles/c5y44z9z67po', 'https://www.bbc.com/news/articles/c14jjxz8re6o', 'https://www.bbc.com/news/articles/c80yynv0jjpo', 'https://www.bbc.com/news/articles/cvg559y0803o', 'https://www.bbc.com/news/articles/c757zl67n7wo', 'https://www.bbc.com/news/articles/cly226jj0pgo', 'https://www.bbc.com/news/articles/cy4llggnvvdo', 'https://www.bbc.com/news/articles/c5y0v3gd5e5o', 'https://www.bbc.com/news/articles/cp9yxvjx19go', 'https://www.bbc.com/news/articles/cjry8zz8yego', 'https://www.bbc.com/news/articles/cg5dym4ye30o', 'https://www.bbc.com/news/articles/c5yr7j18edjo', 'https://www.bbc.com/news/articles/cjev9kzxeqqo', 'https://www.bbc.com/news/articles/ckgy8p3pe71o', 'https://www.bbc.com/news/articles/c62e36jm4jro', 'https://www.bbc.com/news/articles/c8rk5d7ekjmo', 'https://www.bbc.com/news/articles/cdxnwnye7wko', 'https://www.bbc.com/news/articles/cp8qglr9r74o', 'https://www.bbc.com/news/articles/c5yeyy3y1ejo', 'https://www.bbc.com/news/articles/ce8j88gym3ro', 'https://www.bbc.com/news/articles/cx2k2ly8j75o', 'https://www.bbc.com/news/articles/c20g0dxkv3mo', 'https://www.bbc.com/news/articles/cy9l9elr95zo']\n",
      "['https://www.bbc.com/news/articles/cm2j1r1qn3zo', 'https://www.bbc.com/news/articles/c80yynv0jjpo', 'https://www.bbc.com/news/articles/cly226jj0pgo', 'https://www.bbc.com/news/articles/c5y44z9z67po', 'https://www.bbc.com/news/articles/c14jjxz8re6o', 'https://www.bbc.com/news/articles/c80yynv0jjpo', 'https://www.bbc.com/news/articles/cvg559y0803o', 'https://www.bbc.com/news/articles/c757zl67n7wo', 'https://www.bbc.com/news/articles/cly226jj0pgo', 'https://www.bbc.com/news/articles/cy4llggnvvdo', 'https://www.bbc.com/news/articles/c5y0v3gd5e5o', 'https://www.bbc.com/news/articles/cp9yxvjx19go', 'https://www.bbc.com/news/articles/cjry8zz8yego', 'https://www.bbc.com/news/articles/cg5dym4ye30o', 'https://www.bbc.com/news/articles/c5yr7j18edjo', 'https://www.bbc.com/news/articles/cjev9kzxeqqo', 'https://www.bbc.com/news/articles/ckgy8p3pe71o', 'https://www.bbc.com/news/articles/c62e36jm4jro', 'https://www.bbc.com/news/articles/c8rk5d7ekjmo', 'https://www.bbc.com/news/articles/c626p25egddo', 'https://www.bbc.com/news/articles/cn8x3kjd7zzo', 'https://www.bbc.com/news/articles/czj3r0y7849o', 'https://www.bbc.com/news/articles/cvgezm9per7o', 'https://www.bbc.com/news/articles/c93lp2wd0qzo', 'https://www.bbc.com/news/articles/cm29drxjlxmo', 'https://www.bbc.com/news/articles/cly5025n2g2o', 'https://www.bbc.com/news/articles/c704d73kjpwo']\n",
      "['https://www.bbc.com/news/articles/cm2j1r1qn3zo', 'https://www.bbc.com/news/articles/c80yynv0jjpo', 'https://www.bbc.com/news/articles/cly226jj0pgo', 'https://www.bbc.com/news/articles/c5y44z9z67po', 'https://www.bbc.com/news/articles/c14jjxz8re6o', 'https://www.bbc.com/news/articles/c80yynv0jjpo', 'https://www.bbc.com/news/articles/cvg559y0803o', 'https://www.bbc.com/news/articles/c757zl67n7wo', 'https://www.bbc.com/news/articles/cly226jj0pgo', 'https://www.bbc.com/news/articles/cy4llggnvvdo', 'https://www.bbc.com/news/articles/c5y0v3gd5e5o', 'https://www.bbc.com/news/articles/cp9yxvjx19go', 'https://www.bbc.com/news/articles/cjry8zz8yego', 'https://www.bbc.com/news/articles/cg5dym4ye30o', 'https://www.bbc.com/news/articles/c5yr7j18edjo', 'https://www.bbc.com/news/articles/cjev9kzxeqqo', 'https://www.bbc.com/news/articles/ckgy8p3pe71o', 'https://www.bbc.com/news/articles/c62e36jm4jro', 'https://www.bbc.com/news/articles/c8rk5d7ekjmo', 'https://www.bbc.com/news/articles/crke5ngld4lo', 'https://www.bbc.com/news/articles/c2d3w90x86po', 'https://www.bbc.com/news/articles/cp3j0e79q52o', 'https://www.bbc.com/news/articles/cy7g45g2nxno', 'https://www.bbc.com/news/articles/cnvqle40183o', 'https://www.bbc.com/news/articles/cdjd4z9d2ymo', 'https://www.bbc.com/news/articles/ceve1xpdjxro', 'https://www.bbc.com/news/articles/c4gwjy18v4go', 'https://www.bbc.com/news/articles/ce8y2877051o']\n",
      "['https://www.bbc.com/news/articles/cm2j1r1qn3zo', 'https://www.bbc.com/news/articles/c80yynv0jjpo', 'https://www.bbc.com/news/articles/cly226jj0pgo', 'https://www.bbc.com/news/articles/c5y44z9z67po', 'https://www.bbc.com/news/articles/c14jjxz8re6o', 'https://www.bbc.com/news/articles/c80yynv0jjpo', 'https://www.bbc.com/news/articles/cvg559y0803o', 'https://www.bbc.com/news/articles/c757zl67n7wo', 'https://www.bbc.com/news/articles/cly226jj0pgo', 'https://www.bbc.com/news/articles/cy4llggnvvdo', 'https://www.bbc.com/news/articles/c5y0v3gd5e5o', 'https://www.bbc.com/news/articles/cp9yxvjx19go', 'https://www.bbc.com/news/articles/cjry8zz8yego', 'https://www.bbc.com/news/articles/cg5dym4ye30o', 'https://www.bbc.com/news/articles/c5yr7j18edjo', 'https://www.bbc.com/news/articles/cjev9kzxeqqo', 'https://www.bbc.com/news/articles/ckgy8p3pe71o', 'https://www.bbc.com/news/articles/c62e36jm4jro', 'https://www.bbc.com/news/articles/c8rk5d7ekjmo', 'https://www.bbc.com/news/articles/cpwx9942x72o', 'https://www.bbc.com/news/articles/cz9e78k7n01o', 'https://www.bbc.com/news/articles/c99vxpg55zmo', 'https://www.bbc.com/news/articles/c4g3vew1ejgo', 'https://www.bbc.com/news/articles/c8d92n28pqjo', 'https://www.bbc.com/news/articles/cvg8lnnge8po', 'https://www.bbc.com/news/articles/cvgm0w90vnxo', 'https://www.bbc.com/news/articles/cqjv1kg8vq9o']\n",
      "['https://www.bbc.com/news/articles/cm2j1r1qn3zo', 'https://www.bbc.com/news/articles/c80yynv0jjpo', 'https://www.bbc.com/news/articles/cly226jj0pgo', 'https://www.bbc.com/news/articles/c5y44z9z67po', 'https://www.bbc.com/news/articles/c14jjxz8re6o', 'https://www.bbc.com/news/articles/c80yynv0jjpo', 'https://www.bbc.com/news/articles/cvg559y0803o', 'https://www.bbc.com/news/articles/c757zl67n7wo', 'https://www.bbc.com/news/articles/cly226jj0pgo', 'https://www.bbc.com/news/articles/cy4llggnvvdo', 'https://www.bbc.com/news/articles/c5y0v3gd5e5o', 'https://www.bbc.com/news/articles/cp9yxvjx19go', 'https://www.bbc.com/news/articles/cjry8zz8yego', 'https://www.bbc.com/news/articles/cg5dym4ye30o', 'https://www.bbc.com/news/articles/c5yr7j18edjo', 'https://www.bbc.com/news/articles/cjev9kzxeqqo', 'https://www.bbc.com/news/articles/ckgy8p3pe71o', 'https://www.bbc.com/news/articles/c62e36jm4jro', 'https://www.bbc.com/news/articles/c8rk5d7ekjmo', 'https://www.bbc.com/news/articles/czep9d9p8kzo', 'https://www.bbc.com/news/articles/c8edg6n5xp3o', 'https://www.bbc.com/news/articles/cy8pwd0p46wo', 'https://www.bbc.com/news/articles/c203ql5l8zyo', 'https://www.bbc.com/news/articles/ckgxpy2z27vo', 'https://www.bbc.com/news/articles/cly9jx0gve0o', 'https://www.bbc.com/news/articles/c5y204vq9dyo', 'https://www.bbc.com/news/articles/c04nx1vnw17o']\n",
      "['https://www.bbc.com/news/articles/cm2j1r1qn3zo', 'https://www.bbc.com/news/articles/c80yynv0jjpo', 'https://www.bbc.com/news/articles/cly226jj0pgo', 'https://www.bbc.com/news/articles/c5y44z9z67po', 'https://www.bbc.com/news/articles/c14jjxz8re6o', 'https://www.bbc.com/news/articles/c80yynv0jjpo', 'https://www.bbc.com/news/articles/cvg559y0803o', 'https://www.bbc.com/news/articles/c757zl67n7wo', 'https://www.bbc.com/news/articles/cly226jj0pgo', 'https://www.bbc.com/news/articles/cy4llggnvvdo', 'https://www.bbc.com/news/articles/c5y0v3gd5e5o', 'https://www.bbc.com/news/articles/cp9yxvjx19go', 'https://www.bbc.com/news/articles/cjry8zz8yego', 'https://www.bbc.com/news/articles/cg5dym4ye30o', 'https://www.bbc.com/news/articles/c5yr7j18edjo', 'https://www.bbc.com/news/articles/cjev9kzxeqqo', 'https://www.bbc.com/news/articles/ckgy8p3pe71o', 'https://www.bbc.com/news/articles/c62e36jm4jro', 'https://www.bbc.com/news/articles/c8rk5d7ekjmo', 'https://www.bbc.com/news/articles/cm27k2m91p7o', 'https://www.bbc.com/news/articles/c04nx4436klo', 'https://www.bbc.com/news/articles/c77rm2gmzj1o', 'https://www.bbc.com/news/articles/cpqlxrdlg3yo', 'https://www.bbc.com/news/articles/cqld7x1n22do', 'https://www.bbc.com/news/articles/cg7ze00ly1zo', 'https://www.bbc.com/news/articles/ce3ndgd6076o', 'https://www.bbc.com/news/articles/c334l5zn5ero']\n",
      "['https://www.bbc.com/news/articles/cm2j1r1qn3zo', 'https://www.bbc.com/news/articles/c80yynv0jjpo', 'https://www.bbc.com/news/articles/cly226jj0pgo', 'https://www.bbc.com/news/articles/c5y44z9z67po', 'https://www.bbc.com/news/articles/c14jjxz8re6o', 'https://www.bbc.com/news/articles/c80yynv0jjpo', 'https://www.bbc.com/news/articles/cvg559y0803o', 'https://www.bbc.com/news/articles/c757zl67n7wo', 'https://www.bbc.com/news/articles/cly226jj0pgo', 'https://www.bbc.com/news/articles/cy4llggnvvdo', 'https://www.bbc.com/news/articles/c5y0v3gd5e5o', 'https://www.bbc.com/news/articles/cp9yxvjx19go', 'https://www.bbc.com/news/articles/cjry8zz8yego', 'https://www.bbc.com/news/articles/cg5dym4ye30o', 'https://www.bbc.com/news/articles/c5yr7j18edjo', 'https://www.bbc.com/news/articles/cjev9kzxeqqo', 'https://www.bbc.com/news/articles/ckgy8p3pe71o', 'https://www.bbc.com/news/articles/c62e36jm4jro', 'https://www.bbc.com/news/articles/c8rk5d7ekjmo', 'https://www.bbc.com/news/articles/c2038ggnpx7o', 'https://www.bbc.com/news/articles/ckgy81rv22do', 'https://www.bbc.com/news/articles/cwypk49y8dxo', 'https://www.bbc.com/news/articles/ckgyq735wnlo', 'https://www.bbc.com/news/articles/cx25k05p1y1o', 'https://www.bbc.com/news/articles/c3dx1yzzerlo', 'https://www.bbc.com/news/articles/cly9d4n1rgmo', 'https://www.bbc.com/news/articles/c99y7mjne54o']\n",
      "Error for: https://www.bbc.com/news/world/asia. Message: Unable to locate element: //button[contains(text(),'12')]; For documentation on this error, please visit: https://www.selenium.dev/documentation/webdriver/troubleshooting/errors#no-such-element-exception\n",
      "Stacktrace:\n",
      "RemoteError@chrome://remote/content/shared/RemoteError.sys.mjs:8:8\n",
      "WebDriverError@chrome://remote/content/shared/webdriver/Errors.sys.mjs:197:5\n",
      "NoSuchElementError@chrome://remote/content/shared/webdriver/Errors.sys.mjs:527:5\n",
      "dom.find/</<@chrome://remote/content/shared/DOM.sys.mjs:136:16\n",
      "\n",
      "['https://www.bbc.com/news/articles/cx2gg8le1kpo', 'https://www.bbc.com/news/articles/c3e44qev1dvo', 'https://www.bbc.com/news/articles/cn527pz54neo', 'https://www.bbc.com/news/articles/c2kggzqy0x7o', 'https://www.bbc.com/news/articles/c0eggy1104po', 'https://www.bbc.com/news/articles/c3e44qev1dvo', 'https://www.bbc.com/news/articles/czxnnzz558eo', 'https://www.bbc.com/news/articles/cd655917g6qo', 'https://www.bbc.com/news/articles/cn527pz54neo', 'https://www.bbc.com/news/articles/c0q1188p1n2o', 'https://www.bbc.com/news/articles/cq5zzn81229o', 'https://www.bbc.com/news/articles/cx2rreg04dpo', 'https://www.bbc.com/news/articles/cpq222rqv4po', 'https://www.bbc.com/news/articles/cn7vg0nvzkko', 'https://www.bbc.com/news/articles/clyj3j2r25wo', 'https://www.bbc.com/news/articles/cg4kkv3e1v9o', 'https://www.bbc.com/news/articles/cgr2n8xx5gyo', 'https://www.bbc.com/news/articles/c17qe11wy52o', 'https://www.bbc.com/news/articles/czxnnzz558eo', 'https://www.bbc.com/news/articles/cx2gg8le1kpo', 'https://www.bbc.com/news/articles/c3e44qev1dvo', 'https://www.bbc.com/news/articles/cq5zzn81229o', 'https://www.bbc.com/news/articles/cm2yyrl0dj5o', 'https://www.bbc.com/news/articles/cd655917g6qo', 'https://www.bbc.com/news/articles/cge11q4xwr3o', 'https://www.bbc.com/news/articles/cly7yxm3py5o', 'https://www.bbc.com/news/articles/cpq222rqv4po']\n",
      "['https://www.bbc.com/news/articles/cx2gg8le1kpo', 'https://www.bbc.com/news/articles/c3e44qev1dvo', 'https://www.bbc.com/news/articles/cn527pz54neo', 'https://www.bbc.com/news/articles/c2kggzqy0x7o', 'https://www.bbc.com/news/articles/c0eggy1104po', 'https://www.bbc.com/news/articles/c3e44qev1dvo', 'https://www.bbc.com/news/articles/czxnnzz558eo', 'https://www.bbc.com/news/articles/cd655917g6qo', 'https://www.bbc.com/news/articles/cn527pz54neo', 'https://www.bbc.com/news/articles/c0q1188p1n2o', 'https://www.bbc.com/news/articles/cq5zzn81229o', 'https://www.bbc.com/news/articles/cx2rreg04dpo', 'https://www.bbc.com/news/articles/cpq222rqv4po', 'https://www.bbc.com/news/articles/cn7vg0nvzkko', 'https://www.bbc.com/news/articles/clyj3j2r25wo', 'https://www.bbc.com/news/articles/cg4kkv3e1v9o', 'https://www.bbc.com/news/articles/cgr2n8xx5gyo', 'https://www.bbc.com/news/articles/c17qe11wy52o', 'https://www.bbc.com/news/articles/czxnnzz558eo', 'https://www.bbc.com/news/articles/cx2gg8le1kpo', 'https://www.bbc.com/news/articles/c3e44qev1dvo', 'https://www.bbc.com/news/articles/cq5zzn81229o', 'https://www.bbc.com/news/articles/cm2yyrl0dj5o', 'https://www.bbc.com/news/articles/cd655917g6qo', 'https://www.bbc.com/news/articles/cge11q4xwr3o', 'https://www.bbc.com/news/articles/cly7yxm3py5o', 'https://www.bbc.com/news/articles/cpq222rqv4po']\n",
      "['https://www.bbc.com/news/articles/cx2gg8le1kpo', 'https://www.bbc.com/news/articles/c3e44qev1dvo', 'https://www.bbc.com/news/articles/cn527pz54neo', 'https://www.bbc.com/news/articles/c2kggzqy0x7o', 'https://www.bbc.com/news/articles/c0eggy1104po', 'https://www.bbc.com/news/articles/c3e44qev1dvo', 'https://www.bbc.com/news/articles/czxnnzz558eo', 'https://www.bbc.com/news/articles/cd655917g6qo', 'https://www.bbc.com/news/articles/cn527pz54neo', 'https://www.bbc.com/news/articles/c0q1188p1n2o', 'https://www.bbc.com/news/articles/cq5zzn81229o', 'https://www.bbc.com/news/articles/cx2rreg04dpo', 'https://www.bbc.com/news/articles/cpq222rqv4po', 'https://www.bbc.com/news/articles/cn7vg0nvzkko', 'https://www.bbc.com/news/articles/clyj3j2r25wo', 'https://www.bbc.com/news/articles/cg4kkv3e1v9o', 'https://www.bbc.com/news/articles/cgr2n8xx5gyo', 'https://www.bbc.com/news/articles/c17qe11wy52o']\n",
      "['https://www.bbc.com/news/articles/cx2gg8le1kpo', 'https://www.bbc.com/news/articles/c3e44qev1dvo', 'https://www.bbc.com/news/articles/cn527pz54neo', 'https://www.bbc.com/news/articles/c2kggzqy0x7o', 'https://www.bbc.com/news/articles/c0eggy1104po', 'https://www.bbc.com/news/articles/c3e44qev1dvo', 'https://www.bbc.com/news/articles/czxnnzz558eo', 'https://www.bbc.com/news/articles/cd655917g6qo', 'https://www.bbc.com/news/articles/cn527pz54neo', 'https://www.bbc.com/news/articles/c0q1188p1n2o', 'https://www.bbc.com/news/articles/cq5zzn81229o', 'https://www.bbc.com/news/articles/cx2rreg04dpo', 'https://www.bbc.com/news/articles/cpq222rqv4po', 'https://www.bbc.com/news/articles/cn7vg0nvzkko', 'https://www.bbc.com/news/articles/clyj3j2r25wo', 'https://www.bbc.com/news/articles/cg4kkv3e1v9o', 'https://www.bbc.com/news/articles/cgr2n8xx5gyo', 'https://www.bbc.com/news/articles/c17qe11wy52o', 'https://www.bbc.com/news/articles/c9de53y43lvo', 'https://www.bbc.com/news/articles/cdrxy1zp8mxo', 'https://www.bbc.com/news/articles/cwygwzd4wggo', 'https://www.bbc.com/news/articles/c70eky7l6pxo', 'https://www.bbc.com/news/articles/cdel95e0j9ko', 'https://www.bbc.com/news/articles/cx2g51lpzvko', 'https://www.bbc.com/news/articles/c4g03yxdx3ro', 'https://www.bbc.com/news/articles/ckgdy6750w1o']\n",
      "['https://www.bbc.com/news/articles/cx2gg8le1kpo', 'https://www.bbc.com/news/articles/c3e44qev1dvo', 'https://www.bbc.com/news/articles/cn527pz54neo', 'https://www.bbc.com/news/articles/c2kggzqy0x7o', 'https://www.bbc.com/news/articles/c0eggy1104po', 'https://www.bbc.com/news/articles/c3e44qev1dvo', 'https://www.bbc.com/news/articles/czxnnzz558eo', 'https://www.bbc.com/news/articles/cd655917g6qo', 'https://www.bbc.com/news/articles/cn527pz54neo', 'https://www.bbc.com/news/articles/c0q1188p1n2o', 'https://www.bbc.com/news/articles/cq5zzn81229o', 'https://www.bbc.com/news/articles/cx2rreg04dpo', 'https://www.bbc.com/news/articles/cpq222rqv4po', 'https://www.bbc.com/news/articles/cn7vg0nvzkko', 'https://www.bbc.com/news/articles/clyj3j2r25wo', 'https://www.bbc.com/news/articles/cg4kkv3e1v9o', 'https://www.bbc.com/news/articles/cgr2n8xx5gyo', 'https://www.bbc.com/news/articles/c17qe11wy52o', 'https://www.bbc.com/news/articles/cy9dl4drr8lo', 'https://www.bbc.com/news/articles/cvgpe71pey8o', 'https://www.bbc.com/news/articles/cj30xr1vy2lo', 'https://www.bbc.com/news/articles/cwygdl5xxklo', 'https://www.bbc.com/news/articles/cr72v17z5jeo', 'https://www.bbc.com/news/articles/cjry2pv1wr5o', 'https://www.bbc.com/news/articles/cr526605r3ro', 'https://www.bbc.com/news/articles/cx29wlje6dno']\n",
      "['https://www.bbc.com/news/articles/cx2gg8le1kpo', 'https://www.bbc.com/news/articles/c3e44qev1dvo', 'https://www.bbc.com/news/articles/cn527pz54neo', 'https://www.bbc.com/news/articles/c2kggzqy0x7o', 'https://www.bbc.com/news/articles/c0eggy1104po', 'https://www.bbc.com/news/articles/c3e44qev1dvo', 'https://www.bbc.com/news/articles/czxnnzz558eo', 'https://www.bbc.com/news/articles/cd655917g6qo', 'https://www.bbc.com/news/articles/cn527pz54neo', 'https://www.bbc.com/news/articles/c0q1188p1n2o', 'https://www.bbc.com/news/articles/cq5zzn81229o', 'https://www.bbc.com/news/articles/cx2rreg04dpo', 'https://www.bbc.com/news/articles/cpq222rqv4po', 'https://www.bbc.com/news/articles/cn7vg0nvzkko', 'https://www.bbc.com/news/articles/clyj3j2r25wo', 'https://www.bbc.com/news/articles/cg4kkv3e1v9o', 'https://www.bbc.com/news/articles/cgr2n8xx5gyo', 'https://www.bbc.com/news/articles/c17qe11wy52o', 'https://www.bbc.com/news/articles/cpwd2001d10o', 'https://www.bbc.com/news/articles/cpwd209jd1jo', 'https://www.bbc.com/news/articles/c5y97x90553o', 'https://www.bbc.com/news/articles/cdxnzkyw7n1o', 'https://www.bbc.com/news/articles/cj920yvn9ezo', 'https://www.bbc.com/news/articles/cvgenlw94n3o', 'https://www.bbc.com/news/articles/cpv4n0dg3v3o', 'https://www.bbc.com/news/articles/cq5g6q5wnz3o']\n",
      "['https://www.bbc.com/news/articles/cx2gg8le1kpo', 'https://www.bbc.com/news/articles/c3e44qev1dvo', 'https://www.bbc.com/news/articles/cn527pz54neo', 'https://www.bbc.com/news/articles/c2kggzqy0x7o', 'https://www.bbc.com/news/articles/c0eggy1104po', 'https://www.bbc.com/news/articles/c3e44qev1dvo', 'https://www.bbc.com/news/articles/czxnnzz558eo', 'https://www.bbc.com/news/articles/cd655917g6qo', 'https://www.bbc.com/news/articles/cn527pz54neo', 'https://www.bbc.com/news/articles/c0q1188p1n2o', 'https://www.bbc.com/news/articles/cq5zzn81229o', 'https://www.bbc.com/news/articles/cx2rreg04dpo', 'https://www.bbc.com/news/articles/cpq222rqv4po', 'https://www.bbc.com/news/articles/cn7vg0nvzkko', 'https://www.bbc.com/news/articles/clyj3j2r25wo', 'https://www.bbc.com/news/articles/cg4kkv3e1v9o', 'https://www.bbc.com/news/articles/cgr2n8xx5gyo', 'https://www.bbc.com/news/articles/c17qe11wy52o', 'https://www.bbc.com/news/articles/c5yxd59p578o', 'https://www.bbc.com/news/articles/cn9vx01evp9o', 'https://www.bbc.com/news/articles/cq6yl0yqnmqo', 'https://www.bbc.com/news/articles/cd650yq0zdxo', 'https://www.bbc.com/news/articles/c4g0x3p1kglo', 'https://www.bbc.com/news/articles/cwyj93lz2kxo', 'https://www.bbc.com/news/articles/c984enp4480o']\n",
      "['https://www.bbc.com/news/articles/cx2gg8le1kpo', 'https://www.bbc.com/news/articles/c3e44qev1dvo', 'https://www.bbc.com/news/articles/cn527pz54neo', 'https://www.bbc.com/news/articles/c2kggzqy0x7o', 'https://www.bbc.com/news/articles/c0eggy1104po', 'https://www.bbc.com/news/articles/c3e44qev1dvo', 'https://www.bbc.com/news/articles/czxnnzz558eo', 'https://www.bbc.com/news/articles/cd655917g6qo', 'https://www.bbc.com/news/articles/cn527pz54neo', 'https://www.bbc.com/news/articles/c0q1188p1n2o', 'https://www.bbc.com/news/articles/cq5zzn81229o', 'https://www.bbc.com/news/articles/cx2rreg04dpo', 'https://www.bbc.com/news/articles/cpq222rqv4po', 'https://www.bbc.com/news/articles/cn7vg0nvzkko', 'https://www.bbc.com/news/articles/clyj3j2r25wo', 'https://www.bbc.com/news/articles/cg4kkv3e1v9o', 'https://www.bbc.com/news/articles/cgr2n8xx5gyo', 'https://www.bbc.com/news/articles/c17qe11wy52o', 'https://www.bbc.com/news/articles/c8rklvrnl7ro', 'https://www.bbc.com/news/articles/cgkm7lly61do', 'https://www.bbc.com/news/articles/c9deyw95xzzo', 'https://www.bbc.com/news/articles/cly2g6ldg4lo', 'https://www.bbc.com/news/articles/cr72nrzjj5no', 'https://www.bbc.com/news/articles/c2kgd25710do', 'https://www.bbc.com/news/articles/cg5ynv58y8yo', 'https://www.bbc.com/news/articles/cx2g5w8z8lko', 'https://www.bbc.com/news/articles/ckgd0vdg34qo']\n",
      "['https://www.bbc.com/news/articles/cx2gg8le1kpo', 'https://www.bbc.com/news/articles/c3e44qev1dvo', 'https://www.bbc.com/news/articles/cn527pz54neo', 'https://www.bbc.com/news/articles/c2kggzqy0x7o', 'https://www.bbc.com/news/articles/c0eggy1104po', 'https://www.bbc.com/news/articles/c3e44qev1dvo', 'https://www.bbc.com/news/articles/czxnnzz558eo', 'https://www.bbc.com/news/articles/cd655917g6qo', 'https://www.bbc.com/news/articles/cn527pz54neo', 'https://www.bbc.com/news/articles/c0q1188p1n2o', 'https://www.bbc.com/news/articles/cq5zzn81229o', 'https://www.bbc.com/news/articles/cx2rreg04dpo', 'https://www.bbc.com/news/articles/cpq222rqv4po', 'https://www.bbc.com/news/articles/cn7vg0nvzkko', 'https://www.bbc.com/news/articles/clyj3j2r25wo', 'https://www.bbc.com/news/articles/cg4kkv3e1v9o', 'https://www.bbc.com/news/articles/cgr2n8xx5gyo', 'https://www.bbc.com/news/articles/c17qe11wy52o', 'https://www.bbc.com/news/articles/c5yxwy2wknpo', 'https://www.bbc.com/news/articles/cz9np9ppq3lo', 'https://www.bbc.com/news/articles/cgq98xw9lv5o', 'https://www.bbc.com/news/articles/c39vl80ymepo', 'https://www.bbc.com/news/articles/cy5nydr9rqvo', 'https://www.bbc.com/news/articles/cdxq97w21gno', 'https://www.bbc.com/news/articles/cn48y8xg53lo']\n",
      "['https://www.bbc.com/news/articles/cx2gg8le1kpo', 'https://www.bbc.com/news/articles/c3e44qev1dvo', 'https://www.bbc.com/news/articles/cn527pz54neo', 'https://www.bbc.com/news/articles/c2kggzqy0x7o', 'https://www.bbc.com/news/articles/c0eggy1104po', 'https://www.bbc.com/news/articles/c3e44qev1dvo', 'https://www.bbc.com/news/articles/czxnnzz558eo', 'https://www.bbc.com/news/articles/cd655917g6qo', 'https://www.bbc.com/news/articles/cn527pz54neo', 'https://www.bbc.com/news/articles/c0q1188p1n2o', 'https://www.bbc.com/news/articles/cq5zzn81229o', 'https://www.bbc.com/news/articles/cx2rreg04dpo', 'https://www.bbc.com/news/articles/cpq222rqv4po', 'https://www.bbc.com/news/articles/cn7vg0nvzkko', 'https://www.bbc.com/news/articles/clyj3j2r25wo', 'https://www.bbc.com/news/articles/cg4kkv3e1v9o', 'https://www.bbc.com/news/articles/cgr2n8xx5gyo', 'https://www.bbc.com/news/articles/c17qe11wy52o', 'https://www.bbc.com/news/articles/c5yxwx802z1o', 'https://www.bbc.com/news/articles/c7438n7qyl0o', 'https://www.bbc.com/news/articles/c39vljzn0mlo', 'https://www.bbc.com/news/articles/clyn7vl8x12o', 'https://www.bbc.com/news/articles/c4g7ewd9ne0o', 'https://www.bbc.com/news/articles/c78edejwlwno']\n",
      "['https://www.bbc.com/news/articles/cx2gg8le1kpo', 'https://www.bbc.com/news/articles/c3e44qev1dvo', 'https://www.bbc.com/news/articles/cn527pz54neo', 'https://www.bbc.com/news/articles/c2kggzqy0x7o', 'https://www.bbc.com/news/articles/c0eggy1104po', 'https://www.bbc.com/news/articles/c3e44qev1dvo', 'https://www.bbc.com/news/articles/czxnnzz558eo', 'https://www.bbc.com/news/articles/cd655917g6qo', 'https://www.bbc.com/news/articles/cn527pz54neo', 'https://www.bbc.com/news/articles/c0q1188p1n2o', 'https://www.bbc.com/news/articles/cq5zzn81229o', 'https://www.bbc.com/news/articles/cx2rreg04dpo', 'https://www.bbc.com/news/articles/cpq222rqv4po', 'https://www.bbc.com/news/articles/cn7vg0nvzkko', 'https://www.bbc.com/news/articles/clyj3j2r25wo', 'https://www.bbc.com/news/articles/cg4kkv3e1v9o', 'https://www.bbc.com/news/articles/cgr2n8xx5gyo', 'https://www.bbc.com/news/articles/c17qe11wy52o', 'https://www.bbc.com/news/articles/clyrnjrjrr5o', 'https://www.bbc.com/news/articles/cjev2j70v19o', 'https://www.bbc.com/news/articles/cvgwddmjyvzo', 'https://www.bbc.com/news/articles/cj91xgylkwlo', 'https://www.bbc.com/news/articles/cx2e9w0n3pxo', 'https://www.bbc.com/news/articles/c62z3vxjplpo', 'https://www.bbc.com/news/articles/c8d4pl7lemyo', 'https://www.bbc.com/news/articles/c9814k2jlxko', 'https://www.bbc.com/news/articles/c5y98xyqew5o']\n",
      "['https://www.bbc.com/news/articles/cx2gg8le1kpo', 'https://www.bbc.com/news/articles/c3e44qev1dvo', 'https://www.bbc.com/news/articles/cn527pz54neo', 'https://www.bbc.com/news/articles/c2kggzqy0x7o', 'https://www.bbc.com/news/articles/c0eggy1104po', 'https://www.bbc.com/news/articles/c3e44qev1dvo', 'https://www.bbc.com/news/articles/czxnnzz558eo', 'https://www.bbc.com/news/articles/cd655917g6qo', 'https://www.bbc.com/news/articles/cn527pz54neo', 'https://www.bbc.com/news/articles/c0q1188p1n2o', 'https://www.bbc.com/news/articles/cq5zzn81229o', 'https://www.bbc.com/news/articles/cx2rreg04dpo', 'https://www.bbc.com/news/articles/cpq222rqv4po', 'https://www.bbc.com/news/articles/cn7vg0nvzkko', 'https://www.bbc.com/news/articles/clyj3j2r25wo', 'https://www.bbc.com/news/articles/cg4kkv3e1v9o', 'https://www.bbc.com/news/articles/cgr2n8xx5gyo', 'https://www.bbc.com/news/articles/c17qe11wy52o', 'https://www.bbc.com/news/articles/cx20evr9jnjo', 'https://www.bbc.com/news/articles/cm2dnp4gy4ko', 'https://www.bbc.com/news/articles/cd0n5e1pdz9o', 'https://www.bbc.com/news/articles/c98143de75xo', 'https://www.bbc.com/news/articles/cvg151j5504o', 'https://www.bbc.com/news/articles/c9q4gw45nvdo', 'https://www.bbc.com/news/articles/c789l779p3xo', 'https://www.bbc.com/news/articles/c39vk01v10go', 'https://www.bbc.com/news/articles/cj3n5mrlpjko']\n",
      "['https://www.bbc.com/news/articles/cx2gg8le1kpo', 'https://www.bbc.com/news/articles/c3e44qev1dvo', 'https://www.bbc.com/news/articles/cn527pz54neo', 'https://www.bbc.com/news/articles/c2kggzqy0x7o', 'https://www.bbc.com/news/articles/c0eggy1104po', 'https://www.bbc.com/news/articles/c3e44qev1dvo', 'https://www.bbc.com/news/articles/czxnnzz558eo', 'https://www.bbc.com/news/articles/cd655917g6qo', 'https://www.bbc.com/news/articles/cn527pz54neo', 'https://www.bbc.com/news/articles/c0q1188p1n2o', 'https://www.bbc.com/news/articles/cq5zzn81229o', 'https://www.bbc.com/news/articles/cx2rreg04dpo', 'https://www.bbc.com/news/articles/cpq222rqv4po', 'https://www.bbc.com/news/articles/cn7vg0nvzkko', 'https://www.bbc.com/news/articles/clyj3j2r25wo', 'https://www.bbc.com/news/articles/cg4kkv3e1v9o', 'https://www.bbc.com/news/articles/cgr2n8xx5gyo', 'https://www.bbc.com/news/articles/c17qe11wy52o', 'https://www.bbc.com/news/articles/c203018pr2jo']\n",
      "Error for: https://www.bbc.com/news/world/europe. Message: Unable to locate element: //button[contains(text(),'13')]; For documentation on this error, please visit: https://www.selenium.dev/documentation/webdriver/troubleshooting/errors#no-such-element-exception\n",
      "Stacktrace:\n",
      "RemoteError@chrome://remote/content/shared/RemoteError.sys.mjs:8:8\n",
      "WebDriverError@chrome://remote/content/shared/webdriver/Errors.sys.mjs:197:5\n",
      "NoSuchElementError@chrome://remote/content/shared/webdriver/Errors.sys.mjs:527:5\n",
      "dom.find/</<@chrome://remote/content/shared/DOM.sys.mjs:136:16\n",
      "\n",
      "['https://www.bbc.com/news/articles/cx2995y25lyo', 'https://www.bbc.com/news/articles/c62zzv02r3vo', 'https://www.bbc.com/news/articles/c3w182z9868o', 'https://www.bbc.com/news/articles/crmj7vkyr78o', 'https://www.bbc.com/news/articles/c15qz4yl7ngo', 'https://www.bbc.com/news/articles/c62zzv02r3vo', 'https://www.bbc.com/news/articles/c0l11gr35gwo', 'https://www.bbc.com/news/articles/cn4ymkl7294o', 'https://www.bbc.com/news/articles/c3w182z9868o', 'https://www.bbc.com/news/articles/c62x3nyd6e4o', 'https://www.bbc.com/news/articles/cvgw3l7p79po', 'https://www.bbc.com/news/articles/c3rndygqll7o', 'https://www.bbc.com/news/articles/ckgxdpwqwqpo', 'https://www.bbc.com/news/articles/c62zzv02r3vo', 'https://www.bbc.com/news/articles/c3w182z9868o', 'https://www.bbc.com/news/articles/crmj7vkyr78o', 'https://www.bbc.com/news/articles/c15qz4yl7ngo', 'https://www.bbc.com/news/articles/cdrxjxlz23yo', 'https://www.bbc.com/news/articles/cvgw3l7p79po', 'https://www.bbc.com/news/articles/cwydxnxnxpgo']\n",
      "['https://www.bbc.com/news/articles/cx2995y25lyo', 'https://www.bbc.com/news/articles/c62zzv02r3vo', 'https://www.bbc.com/news/articles/c3w182z9868o', 'https://www.bbc.com/news/articles/crmj7vkyr78o', 'https://www.bbc.com/news/articles/c15qz4yl7ngo', 'https://www.bbc.com/news/articles/c62zzv02r3vo', 'https://www.bbc.com/news/articles/c0l11gr35gwo', 'https://www.bbc.com/news/articles/cn4ymkl7294o', 'https://www.bbc.com/news/articles/c3w182z9868o', 'https://www.bbc.com/news/articles/c62x3nyd6e4o', 'https://www.bbc.com/news/articles/cvgw3l7p79po', 'https://www.bbc.com/news/articles/c3rndygqll7o', 'https://www.bbc.com/news/articles/ckgxdpwqwqpo', 'https://www.bbc.com/news/articles/c62zzv02r3vo', 'https://www.bbc.com/news/articles/c3w182z9868o', 'https://www.bbc.com/news/articles/crmj7vkyr78o', 'https://www.bbc.com/news/articles/c15qz4yl7ngo', 'https://www.bbc.com/news/articles/cdrxjxlz23yo', 'https://www.bbc.com/news/articles/cvgw3l7p79po', 'https://www.bbc.com/news/articles/cwydxnxnxpgo']\n",
      "['https://www.bbc.com/news/articles/cx2995y25lyo', 'https://www.bbc.com/news/articles/c62zzv02r3vo', 'https://www.bbc.com/news/articles/c3w182z9868o', 'https://www.bbc.com/news/articles/crmj7vkyr78o', 'https://www.bbc.com/news/articles/c15qz4yl7ngo', 'https://www.bbc.com/news/articles/c62zzv02r3vo', 'https://www.bbc.com/news/articles/c0l11gr35gwo', 'https://www.bbc.com/news/articles/cn4ymkl7294o', 'https://www.bbc.com/news/articles/c3w182z9868o', 'https://www.bbc.com/news/articles/c62x3nyd6e4o', 'https://www.bbc.com/news/articles/cvgw3l7p79po', 'https://www.bbc.com/news/articles/c3rndygqll7o', 'https://www.bbc.com/news/articles/ckgxdpwqwqpo', 'https://www.bbc.com/news/articles/c4gexj8ll31o', 'https://www.bbc.com/news/articles/cd7d7llvz28o', 'https://www.bbc.com/news/articles/cr4643ddzgqo', 'https://www.bbc.com/news/articles/ckgxdpwqwqpo', 'https://www.bbc.com/news/articles/cly50k8zypmo', 'https://www.bbc.com/news/articles/c9qjzw9ljjjo']\n",
      "['https://www.bbc.com/news/articles/cx2995y25lyo', 'https://www.bbc.com/news/articles/c62zzv02r3vo', 'https://www.bbc.com/news/articles/c3w182z9868o', 'https://www.bbc.com/news/articles/crmj7vkyr78o', 'https://www.bbc.com/news/articles/c15qz4yl7ngo', 'https://www.bbc.com/news/articles/c62zzv02r3vo', 'https://www.bbc.com/news/articles/c0l11gr35gwo', 'https://www.bbc.com/news/articles/cn4ymkl7294o', 'https://www.bbc.com/news/articles/c3w182z9868o', 'https://www.bbc.com/news/articles/c62x3nyd6e4o', 'https://www.bbc.com/news/articles/cvgw3l7p79po', 'https://www.bbc.com/news/articles/c3rndygqll7o', 'https://www.bbc.com/news/articles/ckgxdpwqwqpo', 'https://www.bbc.com/news/articles/cvgeypyp7d1o', 'https://www.bbc.com/news/articles/c8d9ndjypv9o', 'https://www.bbc.com/news/articles/cn4mnznmwlvo', 'https://www.bbc.com/news/articles/c4g3y4g7dy2o', 'https://www.bbc.com/news/articles/c05ly8gp0llo', 'https://www.bbc.com/news/articles/cz0lg9pedz1o', 'https://www.bbc.com/news/articles/cg7zpr7779go']\n",
      "['https://www.bbc.com/news/articles/cx2995y25lyo', 'https://www.bbc.com/news/articles/c62zzv02r3vo', 'https://www.bbc.com/news/articles/c3w182z9868o', 'https://www.bbc.com/news/articles/crmj7vkyr78o', 'https://www.bbc.com/news/articles/c15qz4yl7ngo', 'https://www.bbc.com/news/articles/c62zzv02r3vo', 'https://www.bbc.com/news/articles/c0l11gr35gwo', 'https://www.bbc.com/news/articles/cn4ymkl7294o', 'https://www.bbc.com/news/articles/c3w182z9868o', 'https://www.bbc.com/news/articles/c62x3nyd6e4o', 'https://www.bbc.com/news/articles/cvgw3l7p79po', 'https://www.bbc.com/news/articles/c3rndygqll7o', 'https://www.bbc.com/news/articles/ckgxdpwqwqpo', 'https://www.bbc.com/news/articles/cdjdp7m7wkdo', 'https://www.bbc.com/news/articles/cpqlpvdvzlzo', 'https://www.bbc.com/news/articles/cj9149j4nmzo', 'https://www.bbc.com/news/articles/c8975qp1n4qo', 'https://www.bbc.com/news/articles/cvg4jx8xyjgo', 'https://www.bbc.com/news/articles/cz9eg8w32yzo', 'https://www.bbc.com/news/articles/c7vd7njv4zzo']\n",
      "['https://www.bbc.com/news/articles/cx2995y25lyo', 'https://www.bbc.com/news/articles/c62zzv02r3vo', 'https://www.bbc.com/news/articles/c3w182z9868o', 'https://www.bbc.com/news/articles/crmj7vkyr78o', 'https://www.bbc.com/news/articles/c15qz4yl7ngo', 'https://www.bbc.com/news/articles/c62zzv02r3vo', 'https://www.bbc.com/news/articles/c0l11gr35gwo', 'https://www.bbc.com/news/articles/cn4ymkl7294o', 'https://www.bbc.com/news/articles/c3w182z9868o', 'https://www.bbc.com/news/articles/c62x3nyd6e4o', 'https://www.bbc.com/news/articles/cvgw3l7p79po', 'https://www.bbc.com/news/articles/c3rndygqll7o', 'https://www.bbc.com/news/articles/ckgxdpwqwqpo', 'https://www.bbc.com/news/articles/c2egwzvp080o', 'https://www.bbc.com/news/articles/cew5kn9xkp8o', 'https://www.bbc.com/news/articles/c5y62p6dn8no', 'https://www.bbc.com/news/articles/cdjddzxwgxdo', 'https://www.bbc.com/news/articles/c8edw201jx6o', 'https://www.bbc.com/news/articles/c93q7ey90yzo', 'https://www.bbc.com/news/articles/cvglwd34l81o']\n",
      "['https://www.bbc.com/news/articles/cx2995y25lyo', 'https://www.bbc.com/news/articles/c62zzv02r3vo', 'https://www.bbc.com/news/articles/c3w182z9868o', 'https://www.bbc.com/news/articles/crmj7vkyr78o', 'https://www.bbc.com/news/articles/c15qz4yl7ngo', 'https://www.bbc.com/news/articles/c62zzv02r3vo', 'https://www.bbc.com/news/articles/c0l11gr35gwo', 'https://www.bbc.com/news/articles/cn4ymkl7294o', 'https://www.bbc.com/news/articles/c3w182z9868o', 'https://www.bbc.com/news/articles/c62x3nyd6e4o', 'https://www.bbc.com/news/articles/cvgw3l7p79po', 'https://www.bbc.com/news/articles/c3rndygqll7o', 'https://www.bbc.com/news/articles/ckgxdpwqwqpo', 'https://www.bbc.com/news/articles/c77j7n4kyy5o', 'https://www.bbc.com/news/articles/c4g9ezyw0keo', 'https://www.bbc.com/news/articles/cp8qn9qpl1go', 'https://www.bbc.com/news/articles/cyv3vlz01g3o', 'https://www.bbc.com/news/articles/ckgz5l6l7k7o', 'https://www.bbc.com/news/articles/cp31ellx2nvo']\n",
      "['https://www.bbc.com/news/articles/cx2995y25lyo', 'https://www.bbc.com/news/articles/c62zzv02r3vo', 'https://www.bbc.com/news/articles/c3w182z9868o', 'https://www.bbc.com/news/articles/crmj7vkyr78o', 'https://www.bbc.com/news/articles/c15qz4yl7ngo', 'https://www.bbc.com/news/articles/c62zzv02r3vo', 'https://www.bbc.com/news/articles/c0l11gr35gwo', 'https://www.bbc.com/news/articles/cn4ymkl7294o', 'https://www.bbc.com/news/articles/c3w182z9868o', 'https://www.bbc.com/news/articles/c62x3nyd6e4o', 'https://www.bbc.com/news/articles/cvgw3l7p79po', 'https://www.bbc.com/news/articles/c3rndygqll7o', 'https://www.bbc.com/news/articles/ckgxdpwqwqpo', 'https://www.bbc.com/news/articles/c2ld49lqq5qo', 'https://www.bbc.com/news/articles/c0rne2d540lo', 'https://www.bbc.com/news/articles/cj0r675re2no', 'https://www.bbc.com/news/articles/c8dq8n1jn26o', 'https://www.bbc.com/news/articles/cvgnzg40p7eo', 'https://www.bbc.com/news/articles/c623lerlr19o', 'https://www.bbc.com/news/articles/cx2vpdnd2jmo']\n",
      "['https://www.bbc.com/news/articles/cx2995y25lyo', 'https://www.bbc.com/news/articles/c62zzv02r3vo', 'https://www.bbc.com/news/articles/c3w182z9868o', 'https://www.bbc.com/news/articles/crmj7vkyr78o', 'https://www.bbc.com/news/articles/c15qz4yl7ngo', 'https://www.bbc.com/news/articles/c62zzv02r3vo', 'https://www.bbc.com/news/articles/c0l11gr35gwo', 'https://www.bbc.com/news/articles/cn4ymkl7294o', 'https://www.bbc.com/news/articles/c3w182z9868o', 'https://www.bbc.com/news/articles/c62x3nyd6e4o', 'https://www.bbc.com/news/articles/cvgw3l7p79po', 'https://www.bbc.com/news/articles/c3rndygqll7o', 'https://www.bbc.com/news/articles/ckgxdpwqwqpo', 'https://www.bbc.com/news/articles/c8ew5g6n7xro', 'https://www.bbc.com/news/articles/c8xj5xqq9w8o', 'https://www.bbc.com/news/articles/cnv3291z9p2o', 'https://www.bbc.com/news/articles/cx2p5nlyly7o', 'https://www.bbc.com/news/articles/c86w44x083zo', 'https://www.bbc.com/news/articles/c3vrnx2gvpko']\n",
      "['https://www.bbc.com/news/articles/cx2995y25lyo', 'https://www.bbc.com/news/articles/c62zzv02r3vo', 'https://www.bbc.com/news/articles/c3w182z9868o', 'https://www.bbc.com/news/articles/crmj7vkyr78o', 'https://www.bbc.com/news/articles/c15qz4yl7ngo', 'https://www.bbc.com/news/articles/c62zzv02r3vo', 'https://www.bbc.com/news/articles/c0l11gr35gwo', 'https://www.bbc.com/news/articles/cn4ymkl7294o', 'https://www.bbc.com/news/articles/c3w182z9868o', 'https://www.bbc.com/news/articles/c62x3nyd6e4o', 'https://www.bbc.com/news/articles/cvgw3l7p79po', 'https://www.bbc.com/news/articles/c3rndygqll7o', 'https://www.bbc.com/news/articles/ckgxdpwqwqpo', 'https://www.bbc.com/news/articles/c3dxp7ml5dno', 'https://www.bbc.com/news/articles/c99xmp73ello', 'https://www.bbc.com/news/articles/c4gxd7qglz6o', 'https://www.bbc.com/news/articles/c5y86vv0wneo', 'https://www.bbc.com/news/articles/ckg9135j89do', 'https://www.bbc.com/news/articles/ckg3dl757w6o', 'https://www.bbc.com/news/articles/czendjlx849o', 'https://www.bbc.com/news/articles/cx2w9ppej0xo']\n",
      "['https://www.bbc.com/news/articles/cx2995y25lyo', 'https://www.bbc.com/news/articles/c62zzv02r3vo', 'https://www.bbc.com/news/articles/c3w182z9868o', 'https://www.bbc.com/news/articles/crmj7vkyr78o', 'https://www.bbc.com/news/articles/c15qz4yl7ngo', 'https://www.bbc.com/news/articles/c62zzv02r3vo', 'https://www.bbc.com/news/articles/c0l11gr35gwo', 'https://www.bbc.com/news/articles/cn4ymkl7294o', 'https://www.bbc.com/news/articles/c3w182z9868o', 'https://www.bbc.com/news/articles/c62x3nyd6e4o', 'https://www.bbc.com/news/articles/cvgw3l7p79po', 'https://www.bbc.com/news/articles/c3rndygqll7o', 'https://www.bbc.com/news/articles/ckgxdpwqwqpo', 'https://www.bbc.com/news/articles/cp3zw2dpqgpo', 'https://www.bbc.com/news/articles/cn9gg220xzjo', 'https://www.bbc.com/news/articles/cdr0dg4g11do', 'https://www.bbc.com/news/articles/c86wl5ex6gzo', 'https://www.bbc.com/news/articles/cdr0jpgr4yjo', 'https://www.bbc.com/news/articles/c89v4w51dzyo', 'https://www.bbc.com/news/articles/c9qlryz9xg1o']\n",
      "['https://www.bbc.com/news/articles/cx2995y25lyo', 'https://www.bbc.com/news/articles/c62zzv02r3vo', 'https://www.bbc.com/news/articles/c3w182z9868o', 'https://www.bbc.com/news/articles/crmj7vkyr78o', 'https://www.bbc.com/news/articles/c15qz4yl7ngo', 'https://www.bbc.com/news/articles/c62zzv02r3vo', 'https://www.bbc.com/news/articles/c0l11gr35gwo', 'https://www.bbc.com/news/articles/cn4ymkl7294o', 'https://www.bbc.com/news/articles/c3w182z9868o', 'https://www.bbc.com/news/articles/c62x3nyd6e4o', 'https://www.bbc.com/news/articles/cvgw3l7p79po', 'https://www.bbc.com/news/articles/c3rndygqll7o', 'https://www.bbc.com/news/articles/ckgxdpwqwqpo', 'https://www.bbc.com/news/articles/c98e29yvl88o', 'https://www.bbc.com/news/articles/c75l9rl124po', 'https://www.bbc.com/news/articles/c79zj9279nlo', 'https://www.bbc.com/news/articles/cly0jzekw84o', 'https://www.bbc.com/news/articles/cwy1693xwlzo', 'https://www.bbc.com/news/articles/c5yx5qzzypgo', 'https://www.bbc.com/news/articles/c3demgg542do', 'https://www.bbc.com/news/articles/c0j8el1q1gjo']\n",
      "['https://www.bbc.com/news/articles/cx2995y25lyo', 'https://www.bbc.com/news/articles/c62zzv02r3vo', 'https://www.bbc.com/news/articles/c3w182z9868o', 'https://www.bbc.com/news/articles/crmj7vkyr78o', 'https://www.bbc.com/news/articles/c15qz4yl7ngo', 'https://www.bbc.com/news/articles/c62zzv02r3vo', 'https://www.bbc.com/news/articles/c0l11gr35gwo', 'https://www.bbc.com/news/articles/cn4ymkl7294o', 'https://www.bbc.com/news/articles/c3w182z9868o', 'https://www.bbc.com/news/articles/c62x3nyd6e4o', 'https://www.bbc.com/news/articles/cvgw3l7p79po', 'https://www.bbc.com/news/articles/c3rndygqll7o', 'https://www.bbc.com/news/articles/ckgxdpwqwqpo', 'https://www.bbc.com/news/articles/c937n1xq34ko']\n",
      "Error for: https://www.bbc.com/news/world/latin_america. Message: Unable to locate element: //button[contains(text(),'13')]; For documentation on this error, please visit: https://www.selenium.dev/documentation/webdriver/troubleshooting/errors#no-such-element-exception\n",
      "Stacktrace:\n",
      "RemoteError@chrome://remote/content/shared/RemoteError.sys.mjs:8:8\n",
      "WebDriverError@chrome://remote/content/shared/webdriver/Errors.sys.mjs:197:5\n",
      "NoSuchElementError@chrome://remote/content/shared/webdriver/Errors.sys.mjs:527:5\n",
      "dom.find/</<@chrome://remote/content/shared/DOM.sys.mjs:136:16\n",
      "\n",
      "['https://www.bbc.com/news/articles/cyvee8vr7l1o', 'https://www.bbc.com/news/articles/c4gdx1rpel6o', 'https://www.bbc.com/news/articles/c2kggzqy0x7o', 'https://www.bbc.com/news/articles/c4g039ergplo', 'https://www.bbc.com/news/articles/c4gdx1rpel6o', 'https://www.bbc.com/news/articles/c07zz5937llo', 'https://www.bbc.com/news/articles/ckg178g4nrwo', 'https://www.bbc.com/news/articles/c2kggzqy0x7o', 'https://www.bbc.com/news/articles/cq6ygp0yymjo', 'https://www.bbc.com/news/articles/c4g0w0x28yxo', 'https://www.bbc.com/news/articles/c62k676gk34o', 'https://www.bbc.com/news/articles/cpv4m4npnedo', 'https://www.bbc.com/news/articles/c0l1z6rgrnyo', 'https://www.bbc.com/news/articles/c4g0dv7rxxvo', 'https://www.bbc.com/news/articles/c8x4pxwne1yo', 'https://www.bbc.com/news/articles/ce8mv5dp0r3o', 'https://www.bbc.com/news/articles/cly48reeg55o', 'https://www.bbc.com/news/articles/cgq0q0eq28no', 'https://www.bbc.com/news/articles/cyvee8vr7l1o', 'https://www.bbc.com/news/articles/c4gdx1rpel6o', 'https://www.bbc.com/news/articles/c2d437ddp28o', 'https://www.bbc.com/news/articles/c4g039ergplo', 'https://www.bbc.com/news/articles/ckg178g4nrwo', 'https://www.bbc.com/news/articles/c4g0w0x28yxo', 'https://www.bbc.com/news/articles/c62k676gk34o']\n",
      "['https://www.bbc.com/news/articles/cyvee8vr7l1o', 'https://www.bbc.com/news/articles/c4gdx1rpel6o', 'https://www.bbc.com/news/articles/c2kggzqy0x7o', 'https://www.bbc.com/news/articles/c4g039ergplo', 'https://www.bbc.com/news/articles/c4gdx1rpel6o', 'https://www.bbc.com/news/articles/c07zz5937llo', 'https://www.bbc.com/news/articles/ckg178g4nrwo', 'https://www.bbc.com/news/articles/c2kggzqy0x7o', 'https://www.bbc.com/news/articles/cq6ygp0yymjo', 'https://www.bbc.com/news/articles/c4g0w0x28yxo', 'https://www.bbc.com/news/articles/c62k676gk34o', 'https://www.bbc.com/news/articles/cpv4m4npnedo', 'https://www.bbc.com/news/articles/c0l1z6rgrnyo', 'https://www.bbc.com/news/articles/c4g0dv7rxxvo', 'https://www.bbc.com/news/articles/c8x4pxwne1yo', 'https://www.bbc.com/news/articles/ce8mv5dp0r3o', 'https://www.bbc.com/news/articles/cly48reeg55o', 'https://www.bbc.com/news/articles/cgq0q0eq28no', 'https://www.bbc.com/news/articles/cyvee8vr7l1o', 'https://www.bbc.com/news/articles/c4gdx1rpel6o', 'https://www.bbc.com/news/articles/c2d437ddp28o', 'https://www.bbc.com/news/articles/c4g039ergplo', 'https://www.bbc.com/news/articles/ckg178g4nrwo', 'https://www.bbc.com/news/articles/c4g0w0x28yxo', 'https://www.bbc.com/news/articles/c62k676gk34o']\n",
      "['https://www.bbc.com/news/articles/cyvee8vr7l1o', 'https://www.bbc.com/news/articles/c4gdx1rpel6o', 'https://www.bbc.com/news/articles/c2kggzqy0x7o', 'https://www.bbc.com/news/articles/c4g039ergplo', 'https://www.bbc.com/news/articles/c4gdx1rpel6o', 'https://www.bbc.com/news/articles/c07zz5937llo', 'https://www.bbc.com/news/articles/ckg178g4nrwo', 'https://www.bbc.com/news/articles/c2kggzqy0x7o', 'https://www.bbc.com/news/articles/cq6ygp0yymjo', 'https://www.bbc.com/news/articles/c4g0w0x28yxo', 'https://www.bbc.com/news/articles/c62k676gk34o', 'https://www.bbc.com/news/articles/cpv4m4npnedo', 'https://www.bbc.com/news/articles/c0l1z6rgrnyo', 'https://www.bbc.com/news/articles/c4g0dv7rxxvo', 'https://www.bbc.com/news/articles/c8x4pxwne1yo', 'https://www.bbc.com/news/articles/ce8mv5dp0r3o', 'https://www.bbc.com/news/articles/cly48reeg55o', 'https://www.bbc.com/news/articles/cgq0q0eq28no']\n",
      "['https://www.bbc.com/news/articles/cyvee8vr7l1o', 'https://www.bbc.com/news/articles/c4gdx1rpel6o', 'https://www.bbc.com/news/articles/c2kggzqy0x7o', 'https://www.bbc.com/news/articles/c4g039ergplo', 'https://www.bbc.com/news/articles/c4gdx1rpel6o', 'https://www.bbc.com/news/articles/c07zz5937llo', 'https://www.bbc.com/news/articles/ckg178g4nrwo', 'https://www.bbc.com/news/articles/c2kggzqy0x7o', 'https://www.bbc.com/news/articles/cq6ygp0yymjo', 'https://www.bbc.com/news/articles/c4g0w0x28yxo', 'https://www.bbc.com/news/articles/c62k676gk34o', 'https://www.bbc.com/news/articles/cpv4m4npnedo', 'https://www.bbc.com/news/articles/c0l1z6rgrnyo', 'https://www.bbc.com/news/articles/c4g0dv7rxxvo', 'https://www.bbc.com/news/articles/c8x4pxwne1yo', 'https://www.bbc.com/news/articles/ce8mv5dp0r3o', 'https://www.bbc.com/news/articles/cly48reeg55o', 'https://www.bbc.com/news/articles/cgq0q0eq28no', 'https://www.bbc.com/news/articles/cjry3jzedl1o', 'https://www.bbc.com/news/articles/ce8mv5dp0r3o', 'https://www.bbc.com/news/articles/ckgznx04kgko', 'https://www.bbc.com/news/articles/ckg897l99dgo', 'https://www.bbc.com/news/articles/cwydln190xqo', 'https://www.bbc.com/news/articles/cvg5x4zp07ro', 'https://www.bbc.com/news/articles/clydwlxykzyo']\n",
      "['https://www.bbc.com/news/articles/cyvee8vr7l1o', 'https://www.bbc.com/news/articles/c4gdx1rpel6o', 'https://www.bbc.com/news/articles/c2kggzqy0x7o', 'https://www.bbc.com/news/articles/c4g039ergplo', 'https://www.bbc.com/news/articles/c4gdx1rpel6o', 'https://www.bbc.com/news/articles/c07zz5937llo', 'https://www.bbc.com/news/articles/ckg178g4nrwo', 'https://www.bbc.com/news/articles/c2kggzqy0x7o', 'https://www.bbc.com/news/articles/cq6ygp0yymjo', 'https://www.bbc.com/news/articles/c4g0w0x28yxo', 'https://www.bbc.com/news/articles/c62k676gk34o', 'https://www.bbc.com/news/articles/cpv4m4npnedo', 'https://www.bbc.com/news/articles/c0l1z6rgrnyo', 'https://www.bbc.com/news/articles/c4g0dv7rxxvo', 'https://www.bbc.com/news/articles/c8x4pxwne1yo', 'https://www.bbc.com/news/articles/ce8mv5dp0r3o', 'https://www.bbc.com/news/articles/cly48reeg55o', 'https://www.bbc.com/news/articles/cgq0q0eq28no', 'https://www.bbc.com/news/articles/c9wpk5re5e1o', 'https://www.bbc.com/news/articles/c93npgqlzvpo', 'https://www.bbc.com/news/articles/cly48reeg55o', 'https://www.bbc.com/news/articles/czdnp4ly5d1o', 'https://www.bbc.com/news/articles/cn04lllp2zwo', 'https://www.bbc.com/news/articles/c743jle3vkno', 'https://www.bbc.com/news/articles/clye46n565xo', 'https://www.bbc.com/news/articles/cz9e9wlp101o']\n",
      "['https://www.bbc.com/news/articles/cyvee8vr7l1o', 'https://www.bbc.com/news/articles/c4gdx1rpel6o', 'https://www.bbc.com/news/articles/c2kggzqy0x7o', 'https://www.bbc.com/news/articles/c4g039ergplo', 'https://www.bbc.com/news/articles/c4gdx1rpel6o', 'https://www.bbc.com/news/articles/c07zz5937llo', 'https://www.bbc.com/news/articles/ckg178g4nrwo', 'https://www.bbc.com/news/articles/c2kggzqy0x7o', 'https://www.bbc.com/news/articles/cq6ygp0yymjo', 'https://www.bbc.com/news/articles/c4g0w0x28yxo', 'https://www.bbc.com/news/articles/c62k676gk34o', 'https://www.bbc.com/news/articles/cpv4m4npnedo', 'https://www.bbc.com/news/articles/c0l1z6rgrnyo', 'https://www.bbc.com/news/articles/c4g0dv7rxxvo', 'https://www.bbc.com/news/articles/c8x4pxwne1yo', 'https://www.bbc.com/news/articles/ce8mv5dp0r3o', 'https://www.bbc.com/news/articles/cly48reeg55o', 'https://www.bbc.com/news/articles/cgq0q0eq28no', 'https://www.bbc.com/news/articles/cjw4egp7lwno', 'https://www.bbc.com/news/articles/c4g7n3l98z6o', 'https://www.bbc.com/news/articles/c626p6pz7xlo', 'https://www.bbc.com/news/articles/czdl6d0r2g5o', 'https://www.bbc.com/news/articles/cm213pvdr22o', 'https://www.bbc.com/news/articles/c5y7ndlrl3vo', 'https://www.bbc.com/news/articles/cy4m3wx9w04o']\n",
      "['https://www.bbc.com/news/articles/cyvee8vr7l1o', 'https://www.bbc.com/news/articles/c4gdx1rpel6o', 'https://www.bbc.com/news/articles/c2kggzqy0x7o', 'https://www.bbc.com/news/articles/c4g039ergplo', 'https://www.bbc.com/news/articles/c4gdx1rpel6o', 'https://www.bbc.com/news/articles/c07zz5937llo', 'https://www.bbc.com/news/articles/ckg178g4nrwo', 'https://www.bbc.com/news/articles/c2kggzqy0x7o', 'https://www.bbc.com/news/articles/cq6ygp0yymjo', 'https://www.bbc.com/news/articles/c4g0w0x28yxo', 'https://www.bbc.com/news/articles/c62k676gk34o', 'https://www.bbc.com/news/articles/cpv4m4npnedo', 'https://www.bbc.com/news/articles/c0l1z6rgrnyo', 'https://www.bbc.com/news/articles/c4g0dv7rxxvo', 'https://www.bbc.com/news/articles/c8x4pxwne1yo', 'https://www.bbc.com/news/articles/ce8mv5dp0r3o', 'https://www.bbc.com/news/articles/cly48reeg55o', 'https://www.bbc.com/news/articles/cgq0q0eq28no', 'https://www.bbc.com/news/articles/cdxnwnz1ldko', 'https://www.bbc.com/news/articles/c3vpqr6511yo', 'https://www.bbc.com/news/articles/cy5k6rk3gkno', 'https://www.bbc.com/news/articles/cy8pzw3we2xo', 'https://www.bbc.com/news/articles/c2eg01321zxo', 'https://www.bbc.com/news/articles/c203lwx4vg4o', 'https://www.bbc.com/news/articles/cn4z32y12jpo']\n",
      "['https://www.bbc.com/news/articles/cyvee8vr7l1o', 'https://www.bbc.com/news/articles/c4gdx1rpel6o', 'https://www.bbc.com/news/articles/c2kggzqy0x7o', 'https://www.bbc.com/news/articles/c4g039ergplo', 'https://www.bbc.com/news/articles/c4gdx1rpel6o', 'https://www.bbc.com/news/articles/c07zz5937llo', 'https://www.bbc.com/news/articles/ckg178g4nrwo', 'https://www.bbc.com/news/articles/c2kggzqy0x7o', 'https://www.bbc.com/news/articles/cq6ygp0yymjo', 'https://www.bbc.com/news/articles/c4g0w0x28yxo', 'https://www.bbc.com/news/articles/c62k676gk34o', 'https://www.bbc.com/news/articles/cpv4m4npnedo', 'https://www.bbc.com/news/articles/c0l1z6rgrnyo', 'https://www.bbc.com/news/articles/c4g0dv7rxxvo', 'https://www.bbc.com/news/articles/c8x4pxwne1yo', 'https://www.bbc.com/news/articles/ce8mv5dp0r3o', 'https://www.bbc.com/news/articles/cly48reeg55o', 'https://www.bbc.com/news/articles/cgq0q0eq28no', 'https://www.bbc.com/news/articles/cy7g474px2do', 'https://www.bbc.com/news/articles/c77rg752nj7o', 'https://www.bbc.com/news/articles/cd649p8yq16o', 'https://www.bbc.com/news/articles/c5ye69ey4pyo', 'https://www.bbc.com/news/articles/cn4znw1ex1eo', 'https://www.bbc.com/news/articles/c4g3yyv4egeo', 'https://www.bbc.com/news/articles/clyz7124dppo', 'https://www.bbc.com/news/articles/c4g9vyz747eo']\n",
      "['https://www.bbc.com/news/articles/cyvee8vr7l1o', 'https://www.bbc.com/news/articles/c4gdx1rpel6o', 'https://www.bbc.com/news/articles/c2kggzqy0x7o', 'https://www.bbc.com/news/articles/c4g039ergplo', 'https://www.bbc.com/news/articles/c4gdx1rpel6o', 'https://www.bbc.com/news/articles/c07zz5937llo', 'https://www.bbc.com/news/articles/ckg178g4nrwo', 'https://www.bbc.com/news/articles/c2kggzqy0x7o', 'https://www.bbc.com/news/articles/cq6ygp0yymjo', 'https://www.bbc.com/news/articles/c4g0w0x28yxo', 'https://www.bbc.com/news/articles/c62k676gk34o', 'https://www.bbc.com/news/articles/cpv4m4npnedo', 'https://www.bbc.com/news/articles/c0l1z6rgrnyo', 'https://www.bbc.com/news/articles/c4g0dv7rxxvo', 'https://www.bbc.com/news/articles/c8x4pxwne1yo', 'https://www.bbc.com/news/articles/ce8mv5dp0r3o', 'https://www.bbc.com/news/articles/cly48reeg55o', 'https://www.bbc.com/news/articles/cgq0q0eq28no', 'https://www.bbc.com/news/articles/cge7x0y343lo', 'https://www.bbc.com/news/articles/cqldpyn5ng6o', 'https://www.bbc.com/news/articles/c4g9xgj2429o', 'https://www.bbc.com/news/articles/cjw4zv533g7o', 'https://www.bbc.com/news/articles/cjexp347yxlo', 'https://www.bbc.com/news/articles/cx2pwjgp59do', 'https://www.bbc.com/news/articles/c78xre2ynd4o']\n",
      "['https://www.bbc.com/news/articles/cyvee8vr7l1o', 'https://www.bbc.com/news/articles/c4gdx1rpel6o', 'https://www.bbc.com/news/articles/c2kggzqy0x7o', 'https://www.bbc.com/news/articles/c4g039ergplo', 'https://www.bbc.com/news/articles/c4gdx1rpel6o', 'https://www.bbc.com/news/articles/c07zz5937llo', 'https://www.bbc.com/news/articles/ckg178g4nrwo', 'https://www.bbc.com/news/articles/c2kggzqy0x7o', 'https://www.bbc.com/news/articles/cq6ygp0yymjo', 'https://www.bbc.com/news/articles/c4g0w0x28yxo', 'https://www.bbc.com/news/articles/c62k676gk34o', 'https://www.bbc.com/news/articles/cpv4m4npnedo', 'https://www.bbc.com/news/articles/c0l1z6rgrnyo', 'https://www.bbc.com/news/articles/c4g0dv7rxxvo', 'https://www.bbc.com/news/articles/c8x4pxwne1yo', 'https://www.bbc.com/news/articles/ce8mv5dp0r3o', 'https://www.bbc.com/news/articles/cly48reeg55o', 'https://www.bbc.com/news/articles/cgq0q0eq28no', 'https://www.bbc.com/news/articles/c9w5q8qn59yo', 'https://www.bbc.com/news/articles/cpwxj8108kno', 'https://www.bbc.com/news/articles/cr465233v6wo', 'https://www.bbc.com/news/articles/cg5ydgeqrvqo', 'https://www.bbc.com/news/articles/cy5klgv5zv0o', 'https://www.bbc.com/news/articles/c78xeg7xn55o']\n",
      "['https://www.bbc.com/news/articles/cyvee8vr7l1o', 'https://www.bbc.com/news/articles/c4gdx1rpel6o', 'https://www.bbc.com/news/articles/c2kggzqy0x7o', 'https://www.bbc.com/news/articles/c4g039ergplo', 'https://www.bbc.com/news/articles/c4gdx1rpel6o', 'https://www.bbc.com/news/articles/c07zz5937llo', 'https://www.bbc.com/news/articles/ckg178g4nrwo', 'https://www.bbc.com/news/articles/c2kggzqy0x7o', 'https://www.bbc.com/news/articles/cq6ygp0yymjo', 'https://www.bbc.com/news/articles/c4g0w0x28yxo', 'https://www.bbc.com/news/articles/c62k676gk34o', 'https://www.bbc.com/news/articles/cpv4m4npnedo', 'https://www.bbc.com/news/articles/c0l1z6rgrnyo', 'https://www.bbc.com/news/articles/c4g0dv7rxxvo', 'https://www.bbc.com/news/articles/c8x4pxwne1yo', 'https://www.bbc.com/news/articles/ce8mv5dp0r3o', 'https://www.bbc.com/news/articles/cly48reeg55o', 'https://www.bbc.com/news/articles/cgq0q0eq28no', 'https://www.bbc.com/news/articles/czep8kyeeyyo', 'https://www.bbc.com/news/articles/cj91ygv803xo', 'https://www.bbc.com/news/articles/c8d9r0vg6v7o', 'https://www.bbc.com/news/articles/cvgp11nj8gno', 'https://www.bbc.com/news/articles/c334m4xl72mo', 'https://www.bbc.com/news/articles/cglyg1wdee3o', 'https://www.bbc.com/news/articles/cy5kqqv56g1o', 'https://www.bbc.com/news/articles/c0e4zv94jvqo', 'https://www.bbc.com/news/articles/c627z92xz6lo']\n",
      "['https://www.bbc.com/news/articles/cyvee8vr7l1o', 'https://www.bbc.com/news/articles/c4gdx1rpel6o', 'https://www.bbc.com/news/articles/c2kggzqy0x7o', 'https://www.bbc.com/news/articles/c4g039ergplo', 'https://www.bbc.com/news/articles/c4gdx1rpel6o', 'https://www.bbc.com/news/articles/c07zz5937llo', 'https://www.bbc.com/news/articles/ckg178g4nrwo', 'https://www.bbc.com/news/articles/c2kggzqy0x7o', 'https://www.bbc.com/news/articles/cq6ygp0yymjo', 'https://www.bbc.com/news/articles/c4g0w0x28yxo', 'https://www.bbc.com/news/articles/c62k676gk34o', 'https://www.bbc.com/news/articles/cpv4m4npnedo', 'https://www.bbc.com/news/articles/c0l1z6rgrnyo', 'https://www.bbc.com/news/articles/c4g0dv7rxxvo', 'https://www.bbc.com/news/articles/c8x4pxwne1yo', 'https://www.bbc.com/news/articles/ce8mv5dp0r3o', 'https://www.bbc.com/news/articles/cly48reeg55o', 'https://www.bbc.com/news/articles/cgq0q0eq28no', 'https://www.bbc.com/news/articles/cx2p916dngqo', 'https://www.bbc.com/news/articles/c1dgqn7nq0no', 'https://www.bbc.com/news/articles/cx25x2lvk7ro', 'https://www.bbc.com/news/articles/czeprnw4repo', 'https://www.bbc.com/news/articles/c6267kyp0eko', 'https://www.bbc.com/news/articles/c8xqv5rqpyjo', 'https://www.bbc.com/news/articles/cqx92yzew88o', 'https://www.bbc.com/news/articles/cgrn0nwn0eqo', 'https://www.bbc.com/news/articles/cq8k5je1dwvo']\n",
      "Error for: https://www.bbc.com/news/world/middle_east. Message: Unable to locate element: //button[contains(text(),'12')]; For documentation on this error, please visit: https://www.selenium.dev/documentation/webdriver/troubleshooting/errors#no-such-element-exception\n",
      "Stacktrace:\n",
      "RemoteError@chrome://remote/content/shared/RemoteError.sys.mjs:8:8\n",
      "WebDriverError@chrome://remote/content/shared/webdriver/Errors.sys.mjs:197:5\n",
      "NoSuchElementError@chrome://remote/content/shared/webdriver/Errors.sys.mjs:527:5\n",
      "dom.find/</<@chrome://remote/content/shared/DOM.sys.mjs:136:16\n",
      "\n",
      "['https://www.bbc.com/news/articles/cp9yxvjx19go', 'https://www.bbc.com/news/articles/cg5dym4ye30o', 'https://www.bbc.com/news/articles/cz03l18jv97o', 'https://www.bbc.com/news/articles/c0l1z6rgrnyo', 'https://www.bbc.com/news/articles/cx2gyllzj5eo', 'https://www.bbc.com/news/articles/cg5dym4ye30o', 'https://www.bbc.com/news/articles/cx2gyllzj5eo', 'https://www.bbc.com/news/articles/c8710r5v0p7o', 'https://www.bbc.com/news/articles/cd7e38py4geo', 'https://www.bbc.com/news/articles/cm21j341m31o', 'https://www.bbc.com/news/articles/cz03l18jv97o', 'https://www.bbc.com/news/articles/cp9yxvjx19go', 'https://www.bbc.com/news/articles/cg5dym4ye30o', 'https://www.bbc.com/news/articles/c8710r5v0p7o', 'https://www.bbc.com/news/articles/clyz65p1k45o', 'https://www.bbc.com/news/articles/c8rkx37vd6zo', 'https://www.bbc.com/news/articles/cd7e38py4geo']\n",
      "['https://www.bbc.com/news/articles/cp9yxvjx19go', 'https://www.bbc.com/news/articles/cg5dym4ye30o', 'https://www.bbc.com/news/articles/cz03l18jv97o', 'https://www.bbc.com/news/articles/c0l1z6rgrnyo', 'https://www.bbc.com/news/articles/cx2gyllzj5eo', 'https://www.bbc.com/news/articles/cg5dym4ye30o', 'https://www.bbc.com/news/articles/cx2gyllzj5eo', 'https://www.bbc.com/news/articles/c8710r5v0p7o', 'https://www.bbc.com/news/articles/cd7e38py4geo', 'https://www.bbc.com/news/articles/cm21j341m31o', 'https://www.bbc.com/news/articles/cz03l18jv97o', 'https://www.bbc.com/news/articles/cp9yxvjx19go', 'https://www.bbc.com/news/articles/cg5dym4ye30o', 'https://www.bbc.com/news/articles/c8710r5v0p7o', 'https://www.bbc.com/news/articles/clyz65p1k45o', 'https://www.bbc.com/news/articles/c8rkx37vd6zo', 'https://www.bbc.com/news/articles/cd7e38py4geo']\n",
      "['https://www.bbc.com/news/articles/cp9yxvjx19go', 'https://www.bbc.com/news/articles/cg5dym4ye30o', 'https://www.bbc.com/news/articles/cz03l18jv97o', 'https://www.bbc.com/news/articles/c0l1z6rgrnyo', 'https://www.bbc.com/news/articles/cx2gyllzj5eo', 'https://www.bbc.com/news/articles/cg5dym4ye30o', 'https://www.bbc.com/news/articles/cx2gyllzj5eo', 'https://www.bbc.com/news/articles/c8710r5v0p7o', 'https://www.bbc.com/news/articles/cd7e38py4geo', 'https://www.bbc.com/news/articles/cm21j341m31o', 'https://www.bbc.com/news/articles/c17ejwnywyno', 'https://www.bbc.com/news/articles/c626qwvekl1o', 'https://www.bbc.com/news/articles/cm21j341m31o', 'https://www.bbc.com/news/articles/cgmypx0wldro', 'https://www.bbc.com/news/articles/cn8x98z0kvlo', 'https://www.bbc.com/news/articles/cy9l1w5zlgdo']\n",
      "['https://www.bbc.com/news/articles/cp9yxvjx19go', 'https://www.bbc.com/news/articles/cg5dym4ye30o', 'https://www.bbc.com/news/articles/cz03l18jv97o', 'https://www.bbc.com/news/articles/c0l1z6rgrnyo', 'https://www.bbc.com/news/articles/cx2gyllzj5eo', 'https://www.bbc.com/news/articles/cg5dym4ye30o', 'https://www.bbc.com/news/articles/cx2gyllzj5eo', 'https://www.bbc.com/news/articles/c8710r5v0p7o', 'https://www.bbc.com/news/articles/cd7e38py4geo', 'https://www.bbc.com/news/articles/cm21j341m31o', 'https://www.bbc.com/news/articles/cvgpvrgezp3o', 'https://www.bbc.com/news/articles/cn57gk917dpo', 'https://www.bbc.com/news/articles/c36037251gpo', 'https://www.bbc.com/news/articles/cp3j2w41qkko', 'https://www.bbc.com/news/articles/cn4z2py8448o', 'https://www.bbc.com/news/articles/ckgn1dd6g1po']\n",
      "['https://www.bbc.com/news/articles/cp9yxvjx19go', 'https://www.bbc.com/news/articles/cg5dym4ye30o', 'https://www.bbc.com/news/articles/cz03l18jv97o', 'https://www.bbc.com/news/articles/c0l1z6rgrnyo', 'https://www.bbc.com/news/articles/cx2gyllzj5eo', 'https://www.bbc.com/news/articles/cg5dym4ye30o', 'https://www.bbc.com/news/articles/cx2gyllzj5eo', 'https://www.bbc.com/news/articles/c8710r5v0p7o', 'https://www.bbc.com/news/articles/cd7e38py4geo', 'https://www.bbc.com/news/articles/cm21j341m31o', 'https://www.bbc.com/news/articles/c74mjxmg10zo', 'https://www.bbc.com/news/articles/c70qxq49ejlo', 'https://www.bbc.com/news/articles/cvgpnqe91j1o', 'https://www.bbc.com/news/articles/c70qn5yyw57o', 'https://www.bbc.com/news/articles/c8057j0mz5mo', 'https://www.bbc.com/news/articles/cpql7wdz5vyo', 'https://www.bbc.com/news/articles/c93l8j1j8yvo', 'https://www.bbc.com/news/articles/cnvqjrlj8d6o']\n",
      "['https://www.bbc.com/news/articles/cp9yxvjx19go', 'https://www.bbc.com/news/articles/cg5dym4ye30o', 'https://www.bbc.com/news/articles/cz03l18jv97o', 'https://www.bbc.com/news/articles/c0l1z6rgrnyo', 'https://www.bbc.com/news/articles/cx2gyllzj5eo', 'https://www.bbc.com/news/articles/cg5dym4ye30o', 'https://www.bbc.com/news/articles/cx2gyllzj5eo', 'https://www.bbc.com/news/articles/c8710r5v0p7o', 'https://www.bbc.com/news/articles/cd7e38py4geo', 'https://www.bbc.com/news/articles/cm21j341m31o', 'https://www.bbc.com/news/articles/c3vpx5x6wdvo', 'https://www.bbc.com/news/articles/cpw2w8qd7klo', 'https://www.bbc.com/news/articles/c5ywy9xln2yo', 'https://www.bbc.com/news/articles/cx2v14vxdjeo', 'https://www.bbc.com/news/articles/cjdnkdg1l8do', 'https://www.bbc.com/news/articles/cvgxz76m1g8o']\n",
      "['https://www.bbc.com/news/articles/cp9yxvjx19go', 'https://www.bbc.com/news/articles/cg5dym4ye30o', 'https://www.bbc.com/news/articles/cz03l18jv97o', 'https://www.bbc.com/news/articles/c0l1z6rgrnyo', 'https://www.bbc.com/news/articles/cx2gyllzj5eo', 'https://www.bbc.com/news/articles/cg5dym4ye30o', 'https://www.bbc.com/news/articles/cx2gyllzj5eo', 'https://www.bbc.com/news/articles/c8710r5v0p7o', 'https://www.bbc.com/news/articles/cd7e38py4geo', 'https://www.bbc.com/news/articles/cm21j341m31o', 'https://www.bbc.com/news/articles/cx2w10wy1jyo', 'https://www.bbc.com/news/articles/c0j15l83v7jo', 'https://www.bbc.com/news/articles/c20ezgv89edo', 'https://www.bbc.com/news/articles/cx2we313k6ro', 'https://www.bbc.com/news/articles/c983dj1g2p3o', 'https://www.bbc.com/news/articles/cp9n4vyjy2mo']\n",
      "['https://www.bbc.com/news/articles/cp9yxvjx19go', 'https://www.bbc.com/news/articles/cg5dym4ye30o', 'https://www.bbc.com/news/articles/cz03l18jv97o', 'https://www.bbc.com/news/articles/c0l1z6rgrnyo', 'https://www.bbc.com/news/articles/cx2gyllzj5eo', 'https://www.bbc.com/news/articles/cg5dym4ye30o', 'https://www.bbc.com/news/articles/cx2gyllzj5eo', 'https://www.bbc.com/news/articles/c8710r5v0p7o', 'https://www.bbc.com/news/articles/cd7e38py4geo', 'https://www.bbc.com/news/articles/cm21j341m31o', 'https://www.bbc.com/news/articles/cjr2l1gvg3qo', 'https://www.bbc.com/news/articles/cp8nkxrrnpzo', 'https://www.bbc.com/news/articles/c140xed6252o', 'https://www.bbc.com/news/articles/clyj6dd1zdro', 'https://www.bbc.com/news/articles/c62zgemkexdo', 'https://www.bbc.com/news/articles/cy4pvgjklevo', 'https://www.bbc.com/news/articles/cdxzqrrrv72o', 'https://www.bbc.com/news/articles/c9q74gx39p7o', 'https://www.bbc.com/news/articles/crmn74m1jkpo']\n",
      "['https://www.bbc.com/news/articles/cp9yxvjx19go', 'https://www.bbc.com/news/articles/cg5dym4ye30o', 'https://www.bbc.com/news/articles/cz03l18jv97o', 'https://www.bbc.com/news/articles/c0l1z6rgrnyo', 'https://www.bbc.com/news/articles/cx2gyllzj5eo', 'https://www.bbc.com/news/articles/cg5dym4ye30o', 'https://www.bbc.com/news/articles/cx2gyllzj5eo', 'https://www.bbc.com/news/articles/c8710r5v0p7o', 'https://www.bbc.com/news/articles/cd7e38py4geo', 'https://www.bbc.com/news/articles/cm21j341m31o', 'https://www.bbc.com/news/articles/c938l80ekejo', 'https://www.bbc.com/news/articles/c5ydr228jyko', 'https://www.bbc.com/news/articles/cy8y4zxred7o', 'https://www.bbc.com/news/articles/cn4x78eemmpo', 'https://www.bbc.com/news/articles/c8xpx2dgl94o', 'https://www.bbc.com/news/articles/c4gznvw3wneo', 'https://www.bbc.com/news/articles/c89vjj0lxx9o']\n",
      "['https://www.bbc.com/news/articles/cp9yxvjx19go', 'https://www.bbc.com/news/articles/cg5dym4ye30o', 'https://www.bbc.com/news/articles/cz03l18jv97o', 'https://www.bbc.com/news/articles/c0l1z6rgrnyo', 'https://www.bbc.com/news/articles/cx2gyllzj5eo', 'https://www.bbc.com/news/articles/cg5dym4ye30o', 'https://www.bbc.com/news/articles/cx2gyllzj5eo', 'https://www.bbc.com/news/articles/c8710r5v0p7o', 'https://www.bbc.com/news/articles/cd7e38py4geo', 'https://www.bbc.com/news/articles/cm21j341m31o', 'https://www.bbc.com/news/articles/c5yp7g9r8j5o', 'https://www.bbc.com/news/articles/cvg4v74drnmo', 'https://www.bbc.com/news/articles/c5y5z4j3y2xo', 'https://www.bbc.com/news/articles/cgl4dyjg57do', 'https://www.bbc.com/news/articles/c4gz84jy9ypo', 'https://www.bbc.com/news/articles/cz0memjm3jro']\n",
      "['https://www.bbc.com/news/articles/cp9yxvjx19go', 'https://www.bbc.com/news/articles/cg5dym4ye30o', 'https://www.bbc.com/news/articles/cz03l18jv97o', 'https://www.bbc.com/news/articles/c0l1z6rgrnyo', 'https://www.bbc.com/news/articles/cx2gyllzj5eo', 'https://www.bbc.com/news/articles/cg5dym4ye30o', 'https://www.bbc.com/news/articles/cx2gyllzj5eo', 'https://www.bbc.com/news/articles/c8710r5v0p7o', 'https://www.bbc.com/news/articles/cd7e38py4geo', 'https://www.bbc.com/news/articles/cm21j341m31o', 'https://www.bbc.com/news/articles/cx27v4v1l5wo', 'https://www.bbc.com/news/articles/clyvkxdxprlo', 'https://www.bbc.com/news/articles/cg4l3yz76neo', 'https://www.bbc.com/news/articles/c5yx9j94z5ro', 'https://www.bbc.com/news/articles/c170n974091o', 'https://www.bbc.com/news/articles/c5yr08xnxw8o', 'https://www.bbc.com/news/articles/c4gzd62g1r3o', 'https://www.bbc.com/news/articles/cn9xyqgrlz9o']\n",
      "['https://www.bbc.com/news/articles/cp9yxvjx19go', 'https://www.bbc.com/news/articles/cg5dym4ye30o', 'https://www.bbc.com/news/articles/cz03l18jv97o', 'https://www.bbc.com/news/articles/c0l1z6rgrnyo', 'https://www.bbc.com/news/articles/cx2gyllzj5eo', 'https://www.bbc.com/news/articles/cg5dym4ye30o', 'https://www.bbc.com/news/articles/cx2gyllzj5eo', 'https://www.bbc.com/news/articles/c8710r5v0p7o', 'https://www.bbc.com/news/articles/cd7e38py4geo', 'https://www.bbc.com/news/articles/cm21j341m31o', 'https://www.bbc.com/news/articles/clyvzyyd6l7o', 'https://www.bbc.com/news/articles/c748kmvwyv9o', 'https://www.bbc.com/news/articles/c5yrv2zyd22o', 'https://www.bbc.com/news/articles/c80l5rn4ge9o', 'https://www.bbc.com/news/articles/c1mlr7m7k27o', 'https://www.bbc.com/news/articles/cvgxxrj89j1o', 'https://www.bbc.com/news/articles/cje3eqe8kvno']\n",
      "['https://www.bbc.com/news/articles/cp9yxvjx19go', 'https://www.bbc.com/news/articles/cg5dym4ye30o', 'https://www.bbc.com/news/articles/cz03l18jv97o', 'https://www.bbc.com/news/articles/c0l1z6rgrnyo', 'https://www.bbc.com/news/articles/cx2gyllzj5eo', 'https://www.bbc.com/news/articles/cg5dym4ye30o', 'https://www.bbc.com/news/articles/cx2gyllzj5eo', 'https://www.bbc.com/news/articles/c8710r5v0p7o', 'https://www.bbc.com/news/articles/cd7e38py4geo', 'https://www.bbc.com/news/articles/cm21j341m31o']\n",
      "Error for: https://www.bbc.com/news/world/australia. Message: Unable to locate element: //button[contains(text(),'13')]; For documentation on this error, please visit: https://www.selenium.dev/documentation/webdriver/troubleshooting/errors#no-such-element-exception\n",
      "Stacktrace:\n",
      "RemoteError@chrome://remote/content/shared/RemoteError.sys.mjs:8:8\n",
      "WebDriverError@chrome://remote/content/shared/webdriver/Errors.sys.mjs:197:5\n",
      "NoSuchElementError@chrome://remote/content/shared/webdriver/Errors.sys.mjs:527:5\n",
      "dom.find/</<@chrome://remote/content/shared/DOM.sys.mjs:136:16\n",
      "\n",
      "['https://www.bbc.com/news/articles/cpv44982jlgo', 'https://www.bbc.com/news/articles/cedll3282qzo', 'https://www.bbc.com/news/articles/cn7vvn1mpz5o', 'https://www.bbc.com/news/articles/cjry84d5jq5o', 'https://www.bbc.com/news/articles/cj3nn4rlxz5o', 'https://www.bbc.com/news/articles/cedll3282qzo', 'https://www.bbc.com/news/articles/cd7ee895nr0o', 'https://www.bbc.com/news/articles/cz9nnz2eqzdo', 'https://www.bbc.com/news/articles/cn7vvn1mpz5o', 'https://www.bbc.com/news/articles/cqlyyw0qr94o', 'https://www.bbc.com/news/articles/c4geegxk81xo', 'https://www.bbc.com/news/articles/c3vwwq260gdo', 'https://www.bbc.com/news/articles/cdelld75wgro', 'https://www.bbc.com/news/articles/c5yxx0jv15ro', 'https://www.bbc.com/news/articles/cly44r4pvd5o', 'https://www.bbc.com/news/articles/ce30nrnpwygo', 'https://www.bbc.com/news/articles/c99nnkgk3g9o', 'https://www.bbc.com/news/articles/cz9nnkkep29o', 'https://www.bbc.com/news/articles/cly4403gjxdo', 'https://www.bbc.com/news/articles/c0eggr9gg0go', 'https://www.bbc.com/news/articles/cjd3n9j9knro', 'https://www.bbc.com/news/articles/c3vwwq260gdo', 'https://www.bbc.com/news/articles/c2ljjk89qy1o', 'https://www.bbc.com/news/articles/c9844j17ldyo', 'https://www.bbc.com/news/articles/cwynnj58414o', 'https://www.bbc.com/news/articles/cdryre7y4n0o', 'https://www.bbc.com/news/articles/c62zzxeeveeo', 'https://www.bbc.com/news/articles/c7vzdv55220o', 'https://www.bbc.com/news/articles/cz9ne93jg92o']\n",
      "['https://www.bbc.com/news/articles/cpv44982jlgo', 'https://www.bbc.com/news/articles/cedll3282qzo', 'https://www.bbc.com/news/articles/cn7vvn1mpz5o', 'https://www.bbc.com/news/articles/cjry84d5jq5o', 'https://www.bbc.com/news/articles/cj3nn4rlxz5o', 'https://www.bbc.com/news/articles/cedll3282qzo', 'https://www.bbc.com/news/articles/cd7ee895nr0o', 'https://www.bbc.com/news/articles/cz9nnz2eqzdo', 'https://www.bbc.com/news/articles/cn7vvn1mpz5o', 'https://www.bbc.com/news/articles/cqlyyw0qr94o', 'https://www.bbc.com/news/articles/c4geegxk81xo', 'https://www.bbc.com/news/articles/c3vwwq260gdo', 'https://www.bbc.com/news/articles/cdelld75wgro', 'https://www.bbc.com/news/articles/c5yxx0jv15ro', 'https://www.bbc.com/news/articles/cly44r4pvd5o', 'https://www.bbc.com/news/articles/ce30nrnpwygo', 'https://www.bbc.com/news/articles/c99nnkgk3g9o', 'https://www.bbc.com/news/articles/cz9nnkkep29o', 'https://www.bbc.com/news/articles/cly4403gjxdo', 'https://www.bbc.com/news/articles/c0eggr9gg0go', 'https://www.bbc.com/news/articles/cjd3n9j9knro', 'https://www.bbc.com/news/articles/c3vwwq260gdo', 'https://www.bbc.com/news/articles/c2ljjk89qy1o', 'https://www.bbc.com/news/articles/c9844j17ldyo', 'https://www.bbc.com/news/articles/cwynnj58414o', 'https://www.bbc.com/news/articles/cdryre7y4n0o', 'https://www.bbc.com/news/articles/c62zzxeeveeo', 'https://www.bbc.com/news/articles/c7vzdv55220o', 'https://www.bbc.com/news/articles/cz9ne93jg92o']\n",
      "['https://www.bbc.com/news/articles/cpv44982jlgo', 'https://www.bbc.com/news/articles/cedll3282qzo', 'https://www.bbc.com/news/articles/cn7vvn1mpz5o', 'https://www.bbc.com/news/articles/cjry84d5jq5o', 'https://www.bbc.com/news/articles/cj3nn4rlxz5o', 'https://www.bbc.com/news/articles/cedll3282qzo', 'https://www.bbc.com/news/articles/cd7ee895nr0o', 'https://www.bbc.com/news/articles/cz9nnz2eqzdo', 'https://www.bbc.com/news/articles/cn7vvn1mpz5o', 'https://www.bbc.com/news/articles/cqlyyw0qr94o', 'https://www.bbc.com/news/articles/c4geegxk81xo', 'https://www.bbc.com/news/articles/c3vwwq260gdo', 'https://www.bbc.com/news/articles/cdelld75wgro', 'https://www.bbc.com/news/articles/c5yxx0jv15ro', 'https://www.bbc.com/news/articles/cly44r4pvd5o', 'https://www.bbc.com/news/articles/ce30nrnpwygo', 'https://www.bbc.com/news/articles/c99nnkgk3g9o', 'https://www.bbc.com/news/articles/cz9nnkkep29o', 'https://www.bbc.com/news/articles/cly4403gjxdo', 'https://www.bbc.com/news/articles/c0eggr9gg0go', 'https://www.bbc.com/news/articles/cjd3n9j9knro', 'https://www.bbc.com/news/articles/c3vwwq260gdo', 'https://www.bbc.com/news/articles/cx204vlpvqvo', 'https://www.bbc.com/news/articles/cjd3egyj0pzo', 'https://www.bbc.com/news/articles/cg5dyyq6v86o', 'https://www.bbc.com/news/articles/cyve4m79e6lo', 'https://www.bbc.com/news/articles/c05mlp43gnqo', 'https://www.bbc.com/news/articles/c36we3pnxy6o', 'https://www.bbc.com/news/articles/cq5zlq394dyo']\n",
      "['https://www.bbc.com/news/articles/cpv44982jlgo', 'https://www.bbc.com/news/articles/cedll3282qzo', 'https://www.bbc.com/news/articles/cn7vvn1mpz5o', 'https://www.bbc.com/news/articles/cjry84d5jq5o', 'https://www.bbc.com/news/articles/cj3nn4rlxz5o', 'https://www.bbc.com/news/articles/cedll3282qzo', 'https://www.bbc.com/news/articles/cd7ee895nr0o', 'https://www.bbc.com/news/articles/cz9nnz2eqzdo', 'https://www.bbc.com/news/articles/cn7vvn1mpz5o', 'https://www.bbc.com/news/articles/cqlyyw0qr94o', 'https://www.bbc.com/news/articles/c4geegxk81xo', 'https://www.bbc.com/news/articles/c3vwwq260gdo', 'https://www.bbc.com/news/articles/cdelld75wgro', 'https://www.bbc.com/news/articles/c5yxx0jv15ro', 'https://www.bbc.com/news/articles/cly44r4pvd5o', 'https://www.bbc.com/news/articles/ce30nrnpwygo', 'https://www.bbc.com/news/articles/c99nnkgk3g9o', 'https://www.bbc.com/news/articles/cz9nnkkep29o', 'https://www.bbc.com/news/articles/cly4403gjxdo', 'https://www.bbc.com/news/articles/c0eggr9gg0go', 'https://www.bbc.com/news/articles/cjd3n9j9knro', 'https://www.bbc.com/news/articles/c3vwwq260gdo', 'https://www.bbc.com/news/articles/cp8y35dl0ylo', 'https://www.bbc.com/news/articles/c70we1jpz55o', 'https://www.bbc.com/news/articles/cvgp4l170kpo', 'https://www.bbc.com/news/articles/cr526mv44z3o', 'https://www.bbc.com/news/articles/cx2gyllzj5eo', 'https://www.bbc.com/news/articles/c9vynx4rwv2o', 'https://www.bbc.com/news/articles/ce8ydr7dg96o']\n",
      "['https://www.bbc.com/news/articles/cpv44982jlgo', 'https://www.bbc.com/news/articles/cedll3282qzo', 'https://www.bbc.com/news/articles/cn7vvn1mpz5o', 'https://www.bbc.com/news/articles/cjry84d5jq5o', 'https://www.bbc.com/news/articles/cj3nn4rlxz5o', 'https://www.bbc.com/news/articles/cedll3282qzo', 'https://www.bbc.com/news/articles/cd7ee895nr0o', 'https://www.bbc.com/news/articles/cz9nnz2eqzdo', 'https://www.bbc.com/news/articles/cn7vvn1mpz5o', 'https://www.bbc.com/news/articles/cqlyyw0qr94o', 'https://www.bbc.com/news/articles/c4geegxk81xo', 'https://www.bbc.com/news/articles/c3vwwq260gdo', 'https://www.bbc.com/news/articles/cdelld75wgro', 'https://www.bbc.com/news/articles/c5yxx0jv15ro', 'https://www.bbc.com/news/articles/cly44r4pvd5o', 'https://www.bbc.com/news/articles/ce30nrnpwygo', 'https://www.bbc.com/news/articles/c99nnkgk3g9o', 'https://www.bbc.com/news/articles/cz9nnkkep29o', 'https://www.bbc.com/news/articles/cly4403gjxdo', 'https://www.bbc.com/news/articles/c0eggr9gg0go', 'https://www.bbc.com/news/articles/cjd3n9j9knro', 'https://www.bbc.com/news/articles/c3vwwq260gdo', 'https://www.bbc.com/news/articles/cm2nmzrxnlro', 'https://www.bbc.com/news/articles/cr42xvrvrl9o', 'https://www.bbc.com/news/articles/c3rnl0x5gwxo', 'https://www.bbc.com/news/articles/cy4vdvp780ro', 'https://www.bbc.com/news/articles/c1w0nerd0nzo', 'https://www.bbc.com/news/articles/cgm1gyrg732o', 'https://www.bbc.com/news/articles/clyzwxd5e0zo', 'https://www.bbc.com/news/articles/c62q4dj31v7o', 'https://www.bbc.com/news/articles/clyjlx2e4l8o']\n",
      "['https://www.bbc.com/news/articles/cpv44982jlgo', 'https://www.bbc.com/news/articles/cedll3282qzo', 'https://www.bbc.com/news/articles/cn7vvn1mpz5o', 'https://www.bbc.com/news/articles/cjry84d5jq5o', 'https://www.bbc.com/news/articles/cj3nn4rlxz5o', 'https://www.bbc.com/news/articles/cedll3282qzo', 'https://www.bbc.com/news/articles/cd7ee895nr0o', 'https://www.bbc.com/news/articles/cz9nnz2eqzdo', 'https://www.bbc.com/news/articles/cn7vvn1mpz5o', 'https://www.bbc.com/news/articles/cqlyyw0qr94o', 'https://www.bbc.com/news/articles/c4geegxk81xo', 'https://www.bbc.com/news/articles/c3vwwq260gdo', 'https://www.bbc.com/news/articles/cdelld75wgro', 'https://www.bbc.com/news/articles/c5yxx0jv15ro', 'https://www.bbc.com/news/articles/cly44r4pvd5o', 'https://www.bbc.com/news/articles/ce30nrnpwygo', 'https://www.bbc.com/news/articles/c99nnkgk3g9o', 'https://www.bbc.com/news/articles/cz9nnkkep29o', 'https://www.bbc.com/news/articles/cly4403gjxdo', 'https://www.bbc.com/news/articles/c0eggr9gg0go', 'https://www.bbc.com/news/articles/cjd3n9j9knro', 'https://www.bbc.com/news/articles/c3vwwq260gdo', 'https://www.bbc.com/news/articles/c4g0ldgvnx3o', 'https://www.bbc.com/news/articles/c86pl3962j7o', 'https://www.bbc.com/news/articles/cvgp47mpxgno', 'https://www.bbc.com/news/articles/cjryd2e2vj2o', 'https://www.bbc.com/news/articles/c4g0lde201jo', 'https://www.bbc.com/news/articles/cgm177dewnno', 'https://www.bbc.com/news/articles/cn8977l253lo', 'https://www.bbc.com/news/articles/cwy7y1n73ngo', 'https://www.bbc.com/news/articles/c3w8w7v0n2xo']\n",
      "['https://www.bbc.com/news/articles/cpv44982jlgo', 'https://www.bbc.com/news/articles/cedll3282qzo', 'https://www.bbc.com/news/articles/cn7vvn1mpz5o', 'https://www.bbc.com/news/articles/cjry84d5jq5o', 'https://www.bbc.com/news/articles/cj3nn4rlxz5o', 'https://www.bbc.com/news/articles/cedll3282qzo', 'https://www.bbc.com/news/articles/cd7ee895nr0o', 'https://www.bbc.com/news/articles/cz9nnz2eqzdo', 'https://www.bbc.com/news/articles/cn7vvn1mpz5o', 'https://www.bbc.com/news/articles/cqlyyw0qr94o', 'https://www.bbc.com/news/articles/c4geegxk81xo', 'https://www.bbc.com/news/articles/c3vwwq260gdo', 'https://www.bbc.com/news/articles/cdelld75wgro', 'https://www.bbc.com/news/articles/c5yxx0jv15ro', 'https://www.bbc.com/news/articles/cly44r4pvd5o', 'https://www.bbc.com/news/articles/ce30nrnpwygo', 'https://www.bbc.com/news/articles/c99nnkgk3g9o', 'https://www.bbc.com/news/articles/cz9nnkkep29o', 'https://www.bbc.com/news/articles/cly4403gjxdo', 'https://www.bbc.com/news/articles/c0eggr9gg0go', 'https://www.bbc.com/news/articles/cjd3n9j9knro', 'https://www.bbc.com/news/articles/c3vwwq260gdo', 'https://www.bbc.com/news/articles/cvgeg5gp4dno', 'https://www.bbc.com/news/articles/cdd9d732eplo', 'https://www.bbc.com/news/articles/clyz509dqrqo', 'https://www.bbc.com/news/articles/cgq0x30kkldo', 'https://www.bbc.com/news/articles/czxk9yepnd9o', 'https://www.bbc.com/news/articles/cn57vx6vx2po', 'https://www.bbc.com/news/articles/cwypqq9lj88o', 'https://www.bbc.com/news/articles/cy8p3dd5ez3o', 'https://www.bbc.com/news/articles/c3d5j8ejyyro']\n",
      "['https://www.bbc.com/news/articles/cpv44982jlgo', 'https://www.bbc.com/news/articles/cedll3282qzo', 'https://www.bbc.com/news/articles/cn7vvn1mpz5o', 'https://www.bbc.com/news/articles/cjry84d5jq5o', 'https://www.bbc.com/news/articles/cj3nn4rlxz5o', 'https://www.bbc.com/news/articles/cedll3282qzo', 'https://www.bbc.com/news/articles/cd7ee895nr0o', 'https://www.bbc.com/news/articles/cz9nnz2eqzdo', 'https://www.bbc.com/news/articles/cn7vvn1mpz5o', 'https://www.bbc.com/news/articles/cqlyyw0qr94o', 'https://www.bbc.com/news/articles/c4geegxk81xo', 'https://www.bbc.com/news/articles/c3vwwq260gdo', 'https://www.bbc.com/news/articles/cdelld75wgro', 'https://www.bbc.com/news/articles/c5yxx0jv15ro', 'https://www.bbc.com/news/articles/cly44r4pvd5o', 'https://www.bbc.com/news/articles/ce30nrnpwygo', 'https://www.bbc.com/news/articles/c99nnkgk3g9o', 'https://www.bbc.com/news/articles/cz9nnkkep29o', 'https://www.bbc.com/news/articles/cly4403gjxdo', 'https://www.bbc.com/news/articles/c0eggr9gg0go', 'https://www.bbc.com/news/articles/cjd3n9j9knro', 'https://www.bbc.com/news/articles/c3vwwq260gdo', 'https://www.bbc.com/news/articles/cd64dpepg15o', 'https://www.bbc.com/news/articles/c7vd4910zeeo', 'https://www.bbc.com/news/articles/c9d5wj9l8e2o', 'https://www.bbc.com/news/articles/c4gpkgly9qzo', 'https://www.bbc.com/news/articles/cx25m231n8xo', 'https://www.bbc.com/news/articles/cew5rwpw579o', 'https://www.bbc.com/news/articles/cx2mz3j1e34o']\n",
      "['https://www.bbc.com/news/articles/cpv44982jlgo', 'https://www.bbc.com/news/articles/cedll3282qzo', 'https://www.bbc.com/news/articles/cn7vvn1mpz5o', 'https://www.bbc.com/news/articles/cjry84d5jq5o', 'https://www.bbc.com/news/articles/cj3nn4rlxz5o', 'https://www.bbc.com/news/articles/cedll3282qzo', 'https://www.bbc.com/news/articles/cd7ee895nr0o', 'https://www.bbc.com/news/articles/cz9nnz2eqzdo', 'https://www.bbc.com/news/articles/cn7vvn1mpz5o', 'https://www.bbc.com/news/articles/cqlyyw0qr94o', 'https://www.bbc.com/news/articles/c4geegxk81xo', 'https://www.bbc.com/news/articles/c3vwwq260gdo', 'https://www.bbc.com/news/articles/cdelld75wgro', 'https://www.bbc.com/news/articles/c5yxx0jv15ro', 'https://www.bbc.com/news/articles/cly44r4pvd5o', 'https://www.bbc.com/news/articles/ce30nrnpwygo', 'https://www.bbc.com/news/articles/c99nnkgk3g9o', 'https://www.bbc.com/news/articles/cz9nnkkep29o', 'https://www.bbc.com/news/articles/cly4403gjxdo', 'https://www.bbc.com/news/articles/c0eggr9gg0go', 'https://www.bbc.com/news/articles/cjd3n9j9knro', 'https://www.bbc.com/news/articles/c3vwwq260gdo', 'https://www.bbc.com/news/articles/cg459nw05xgo', 'https://www.bbc.com/news/articles/c93lewxkj4no', 'https://www.bbc.com/news/articles/cy8pe5q5q5zo', 'https://www.bbc.com/news/articles/c98y011dy0yo', 'https://www.bbc.com/news/articles/c4g36gy82yyo', 'https://www.bbc.com/news/articles/ckgn6gj4pgjo', 'https://www.bbc.com/news/articles/c3e1q973dwdo', 'https://www.bbc.com/news/articles/cvg48jgdppgo', 'https://www.bbc.com/news/articles/c0rq2g0kz1lo']\n",
      "['https://www.bbc.com/news/articles/cpv44982jlgo', 'https://www.bbc.com/news/articles/cedll3282qzo', 'https://www.bbc.com/news/articles/cn7vvn1mpz5o', 'https://www.bbc.com/news/articles/cjry84d5jq5o', 'https://www.bbc.com/news/articles/cj3nn4rlxz5o', 'https://www.bbc.com/news/articles/cedll3282qzo', 'https://www.bbc.com/news/articles/cd7ee895nr0o', 'https://www.bbc.com/news/articles/cz9nnz2eqzdo', 'https://www.bbc.com/news/articles/cn7vvn1mpz5o', 'https://www.bbc.com/news/articles/cqlyyw0qr94o', 'https://www.bbc.com/news/articles/c4geegxk81xo', 'https://www.bbc.com/news/articles/c3vwwq260gdo', 'https://www.bbc.com/news/articles/cdelld75wgro', 'https://www.bbc.com/news/articles/c5yxx0jv15ro', 'https://www.bbc.com/news/articles/cly44r4pvd5o', 'https://www.bbc.com/news/articles/ce30nrnpwygo', 'https://www.bbc.com/news/articles/c99nnkgk3g9o', 'https://www.bbc.com/news/articles/cz9nnkkep29o', 'https://www.bbc.com/news/articles/cly4403gjxdo', 'https://www.bbc.com/news/articles/c0eggr9gg0go', 'https://www.bbc.com/news/articles/cjd3n9j9knro', 'https://www.bbc.com/news/articles/c3vwwq260gdo', 'https://www.bbc.com/news/articles/c3d53r32l15o', 'https://www.bbc.com/news/articles/c93l4k2kywzo', 'https://www.bbc.com/news/articles/ce8j5qjpdz2o', 'https://www.bbc.com/news/articles/cew5r4w84v0o', 'https://www.bbc.com/news/articles/cp3wrkeng2eo', 'https://www.bbc.com/news/articles/cdxndqv2xeeo', 'https://www.bbc.com/news/articles/czxk227wgq7o']\n",
      "['https://www.bbc.com/news/articles/cpv44982jlgo', 'https://www.bbc.com/news/articles/cedll3282qzo', 'https://www.bbc.com/news/articles/cn7vvn1mpz5o', 'https://www.bbc.com/news/articles/cjry84d5jq5o', 'https://www.bbc.com/news/articles/cj3nn4rlxz5o', 'https://www.bbc.com/news/articles/cedll3282qzo', 'https://www.bbc.com/news/articles/cd7ee895nr0o', 'https://www.bbc.com/news/articles/cz9nnz2eqzdo', 'https://www.bbc.com/news/articles/cn7vvn1mpz5o', 'https://www.bbc.com/news/articles/cqlyyw0qr94o', 'https://www.bbc.com/news/articles/c4geegxk81xo', 'https://www.bbc.com/news/articles/c3vwwq260gdo', 'https://www.bbc.com/news/articles/cdelld75wgro', 'https://www.bbc.com/news/articles/c5yxx0jv15ro', 'https://www.bbc.com/news/articles/cly44r4pvd5o', 'https://www.bbc.com/news/articles/ce30nrnpwygo', 'https://www.bbc.com/news/articles/c99nnkgk3g9o', 'https://www.bbc.com/news/articles/cz9nnkkep29o', 'https://www.bbc.com/news/articles/cly4403gjxdo', 'https://www.bbc.com/news/articles/c0eggr9gg0go', 'https://www.bbc.com/news/articles/cjd3n9j9knro', 'https://www.bbc.com/news/articles/c3vwwq260gdo', 'https://www.bbc.com/news/articles/c0rq2d9qjzlo', 'https://www.bbc.com/news/articles/cy08dz47v8ro', 'https://www.bbc.com/news/articles/c14n2mk432po', 'https://www.bbc.com/news/articles/cz9e23jlwdko', 'https://www.bbc.com/news/articles/c30d2dpdz6qo', 'https://www.bbc.com/news/articles/cp3j8z08g17o', 'https://www.bbc.com/news/articles/cy08deqzl5go', 'https://www.bbc.com/news/articles/cm23v4015e7o']\n",
      "['https://www.bbc.com/news/articles/cpv44982jlgo', 'https://www.bbc.com/news/articles/cedll3282qzo', 'https://www.bbc.com/news/articles/cn7vvn1mpz5o', 'https://www.bbc.com/news/articles/cjry84d5jq5o', 'https://www.bbc.com/news/articles/cj3nn4rlxz5o', 'https://www.bbc.com/news/articles/cedll3282qzo', 'https://www.bbc.com/news/articles/cd7ee895nr0o', 'https://www.bbc.com/news/articles/cz9nnz2eqzdo', 'https://www.bbc.com/news/articles/cn7vvn1mpz5o', 'https://www.bbc.com/news/articles/cqlyyw0qr94o', 'https://www.bbc.com/news/articles/c4geegxk81xo', 'https://www.bbc.com/news/articles/c3vwwq260gdo', 'https://www.bbc.com/news/articles/cdelld75wgro', 'https://www.bbc.com/news/articles/c5yxx0jv15ro', 'https://www.bbc.com/news/articles/cly44r4pvd5o', 'https://www.bbc.com/news/articles/ce30nrnpwygo', 'https://www.bbc.com/news/articles/c99nnkgk3g9o', 'https://www.bbc.com/news/articles/cz9nnkkep29o', 'https://www.bbc.com/news/articles/cly4403gjxdo', 'https://www.bbc.com/news/articles/c0eggr9gg0go', 'https://www.bbc.com/news/articles/cjd3n9j9knro', 'https://www.bbc.com/news/articles/c3vwwq260gdo', 'https://www.bbc.com/news/articles/ckgx05gy0p5o', 'https://www.bbc.com/news/articles/c93qw3lw4kvo', 'https://www.bbc.com/news/articles/ce8y28ny1n0o', 'https://www.bbc.com/news/articles/c20pjwxnzd1o', 'https://www.bbc.com/news/articles/c7vdjv31gmmo', 'https://www.bbc.com/news/articles/c14nm47y65go', 'https://www.bbc.com/news/articles/clyk521rrxyo', 'https://www.bbc.com/news/articles/c805jgk3vj1o', 'https://www.bbc.com/news/articles/c4gx2kg3g5zo']\n",
      "['https://www.bbc.com/news/articles/cpv44982jlgo', 'https://www.bbc.com/news/articles/cedll3282qzo', 'https://www.bbc.com/news/articles/cn7vvn1mpz5o', 'https://www.bbc.com/news/articles/cjry84d5jq5o', 'https://www.bbc.com/news/articles/cj3nn4rlxz5o', 'https://www.bbc.com/news/articles/cedll3282qzo', 'https://www.bbc.com/news/articles/cd7ee895nr0o', 'https://www.bbc.com/news/articles/cz9nnz2eqzdo', 'https://www.bbc.com/news/articles/cn7vvn1mpz5o', 'https://www.bbc.com/news/articles/cqlyyw0qr94o', 'https://www.bbc.com/news/articles/c4geegxk81xo', 'https://www.bbc.com/news/articles/c3vwwq260gdo', 'https://www.bbc.com/news/articles/cdelld75wgro', 'https://www.bbc.com/news/articles/c5yxx0jv15ro', 'https://www.bbc.com/news/articles/cly44r4pvd5o', 'https://www.bbc.com/news/articles/ce30nrnpwygo', 'https://www.bbc.com/news/articles/c99nnkgk3g9o', 'https://www.bbc.com/news/articles/cz9nnkkep29o', 'https://www.bbc.com/news/articles/cly4403gjxdo', 'https://www.bbc.com/news/articles/c0eggr9gg0go', 'https://www.bbc.com/news/articles/cjd3n9j9knro', 'https://www.bbc.com/news/articles/c3vwwq260gdo', 'https://www.bbc.com/news/articles/c4gwq2vjpvko']\n",
      "Error for: https://www.bbc.com/news/uk. Message: Unable to locate element: //button[contains(text(),'13')]; For documentation on this error, please visit: https://www.selenium.dev/documentation/webdriver/troubleshooting/errors#no-such-element-exception\n",
      "Stacktrace:\n",
      "RemoteError@chrome://remote/content/shared/RemoteError.sys.mjs:8:8\n",
      "WebDriverError@chrome://remote/content/shared/webdriver/Errors.sys.mjs:197:5\n",
      "NoSuchElementError@chrome://remote/content/shared/webdriver/Errors.sys.mjs:527:5\n",
      "dom.find/</<@chrome://remote/content/shared/DOM.sys.mjs:136:16\n",
      "\n"
     ]
    }
   ],
   "source": [
    "output_urls = []\n",
    "page_amount = 17\n",
    "for url in subsites:\n",
    "    browser.get(url)\n",
    "    for i in range(1, page_amount):\n",
    "        try:\n",
    "            output_urls.extend(url_finder_extended(browser))\n",
    "            nextPage = browser.find_element(By.XPATH, f\"//button[contains(text(),'{i}')]\")\n",
    "            nextPage.click()\n",
    "        except Exception as e:\n",
    "            print(f\"Error for: {url}. {e}\")\n",
    "            break\n",
    "\n",
    "browser.quit()"
   ]
  },
  {
   "cell_type": "code",
   "execution_count": 15,
   "metadata": {},
   "outputs": [
    {
     "name": "stdout",
     "output_type": "stream",
     "text": [
      "Urls found: 719\n"
     ]
    }
   ],
   "source": [
    "unique_urls = list(dict.fromkeys(output_urls))\n",
    "print(f'Urls found: {len(unique_urls)}')"
   ]
  },
  {
   "cell_type": "markdown",
   "metadata": {},
   "source": [
    "## 6. Save Your Results: "
   ]
  },
  {
   "cell_type": "markdown",
   "metadata": {},
   "source": [
    "### Store the collected links in a file (CSV, JSON, or TXT format)."
   ]
  },
  {
   "cell_type": "code",
   "execution_count": 16,
   "metadata": {},
   "outputs": [],
   "source": [
    "pd.DataFrame(unique_urls, columns=['urls']).to_csv('bbc_urls.csv', index=False)"
   ]
  },
  {
   "cell_type": "markdown",
   "metadata": {},
   "source": [
    "# Part 3: Scraping Article Text"
   ]
  },
  {
   "cell_type": "markdown",
   "metadata": {},
   "source": [
    "### In this final part of the exercise, you will scrape the article text and store it on disk."
   ]
  },
  {
   "cell_type": "code",
   "execution_count": 17,
   "metadata": {},
   "outputs": [
    {
     "ename": "MaxRetryError",
     "evalue": "HTTPConnectionPool(host='localhost', port=50728): Max retries exceeded with url: /session/b3b4fa40-4511-4994-a969-9ab44fb93583/elements (Caused by NewConnectionError('<urllib3.connection.HTTPConnection object at 0x153d98140>: Failed to establish a new connection: [Errno 61] Connection refused'))",
     "output_type": "error",
     "traceback": [
      "\u001b[0;31m---------------------------------------------------------------------------\u001b[0m",
      "\u001b[0;31mConnectionRefusedError\u001b[0m                    Traceback (most recent call last)",
      "File \u001b[0;32m/opt/anaconda3/lib/python3.12/site-packages/urllib3/connection.py:199\u001b[0m, in \u001b[0;36mHTTPConnection._new_conn\u001b[0;34m(self)\u001b[0m\n\u001b[1;32m    198\u001b[0m \u001b[38;5;28;01mtry\u001b[39;00m:\n\u001b[0;32m--> 199\u001b[0m     sock \u001b[38;5;241m=\u001b[39m connection\u001b[38;5;241m.\u001b[39mcreate_connection(\n\u001b[1;32m    200\u001b[0m         (\u001b[38;5;28mself\u001b[39m\u001b[38;5;241m.\u001b[39m_dns_host, \u001b[38;5;28mself\u001b[39m\u001b[38;5;241m.\u001b[39mport),\n\u001b[1;32m    201\u001b[0m         \u001b[38;5;28mself\u001b[39m\u001b[38;5;241m.\u001b[39mtimeout,\n\u001b[1;32m    202\u001b[0m         source_address\u001b[38;5;241m=\u001b[39m\u001b[38;5;28mself\u001b[39m\u001b[38;5;241m.\u001b[39msource_address,\n\u001b[1;32m    203\u001b[0m         socket_options\u001b[38;5;241m=\u001b[39m\u001b[38;5;28mself\u001b[39m\u001b[38;5;241m.\u001b[39msocket_options,\n\u001b[1;32m    204\u001b[0m     )\n\u001b[1;32m    205\u001b[0m \u001b[38;5;28;01mexcept\u001b[39;00m socket\u001b[38;5;241m.\u001b[39mgaierror \u001b[38;5;28;01mas\u001b[39;00m e:\n",
      "File \u001b[0;32m/opt/anaconda3/lib/python3.12/site-packages/urllib3/util/connection.py:85\u001b[0m, in \u001b[0;36mcreate_connection\u001b[0;34m(address, timeout, source_address, socket_options)\u001b[0m\n\u001b[1;32m     84\u001b[0m \u001b[38;5;28;01mtry\u001b[39;00m:\n\u001b[0;32m---> 85\u001b[0m     \u001b[38;5;28;01mraise\u001b[39;00m err\n\u001b[1;32m     86\u001b[0m \u001b[38;5;28;01mfinally\u001b[39;00m:\n\u001b[1;32m     87\u001b[0m     \u001b[38;5;66;03m# Break explicitly a reference cycle\u001b[39;00m\n",
      "File \u001b[0;32m/opt/anaconda3/lib/python3.12/site-packages/urllib3/util/connection.py:73\u001b[0m, in \u001b[0;36mcreate_connection\u001b[0;34m(address, timeout, source_address, socket_options)\u001b[0m\n\u001b[1;32m     72\u001b[0m     sock\u001b[38;5;241m.\u001b[39mbind(source_address)\n\u001b[0;32m---> 73\u001b[0m sock\u001b[38;5;241m.\u001b[39mconnect(sa)\n\u001b[1;32m     74\u001b[0m \u001b[38;5;66;03m# Break explicitly a reference cycle\u001b[39;00m\n",
      "\u001b[0;31mConnectionRefusedError\u001b[0m: [Errno 61] Connection refused",
      "\nThe above exception was the direct cause of the following exception:\n",
      "\u001b[0;31mNewConnectionError\u001b[0m                        Traceback (most recent call last)",
      "File \u001b[0;32m/opt/anaconda3/lib/python3.12/site-packages/urllib3/connectionpool.py:789\u001b[0m, in \u001b[0;36mHTTPConnectionPool.urlopen\u001b[0;34m(self, method, url, body, headers, retries, redirect, assert_same_host, timeout, pool_timeout, release_conn, chunked, body_pos, preload_content, decode_content, **response_kw)\u001b[0m\n\u001b[1;32m    788\u001b[0m \u001b[38;5;66;03m# Make the request on the HTTPConnection object\u001b[39;00m\n\u001b[0;32m--> 789\u001b[0m response \u001b[38;5;241m=\u001b[39m \u001b[38;5;28mself\u001b[39m\u001b[38;5;241m.\u001b[39m_make_request(\n\u001b[1;32m    790\u001b[0m     conn,\n\u001b[1;32m    791\u001b[0m     method,\n\u001b[1;32m    792\u001b[0m     url,\n\u001b[1;32m    793\u001b[0m     timeout\u001b[38;5;241m=\u001b[39mtimeout_obj,\n\u001b[1;32m    794\u001b[0m     body\u001b[38;5;241m=\u001b[39mbody,\n\u001b[1;32m    795\u001b[0m     headers\u001b[38;5;241m=\u001b[39mheaders,\n\u001b[1;32m    796\u001b[0m     chunked\u001b[38;5;241m=\u001b[39mchunked,\n\u001b[1;32m    797\u001b[0m     retries\u001b[38;5;241m=\u001b[39mretries,\n\u001b[1;32m    798\u001b[0m     response_conn\u001b[38;5;241m=\u001b[39mresponse_conn,\n\u001b[1;32m    799\u001b[0m     preload_content\u001b[38;5;241m=\u001b[39mpreload_content,\n\u001b[1;32m    800\u001b[0m     decode_content\u001b[38;5;241m=\u001b[39mdecode_content,\n\u001b[1;32m    801\u001b[0m     \u001b[38;5;241m*\u001b[39m\u001b[38;5;241m*\u001b[39mresponse_kw,\n\u001b[1;32m    802\u001b[0m )\n\u001b[1;32m    804\u001b[0m \u001b[38;5;66;03m# Everything went great!\u001b[39;00m\n",
      "File \u001b[0;32m/opt/anaconda3/lib/python3.12/site-packages/urllib3/connectionpool.py:495\u001b[0m, in \u001b[0;36mHTTPConnectionPool._make_request\u001b[0;34m(self, conn, method, url, body, headers, retries, timeout, chunked, response_conn, preload_content, decode_content, enforce_content_length)\u001b[0m\n\u001b[1;32m    494\u001b[0m \u001b[38;5;28;01mtry\u001b[39;00m:\n\u001b[0;32m--> 495\u001b[0m     conn\u001b[38;5;241m.\u001b[39mrequest(\n\u001b[1;32m    496\u001b[0m         method,\n\u001b[1;32m    497\u001b[0m         url,\n\u001b[1;32m    498\u001b[0m         body\u001b[38;5;241m=\u001b[39mbody,\n\u001b[1;32m    499\u001b[0m         headers\u001b[38;5;241m=\u001b[39mheaders,\n\u001b[1;32m    500\u001b[0m         chunked\u001b[38;5;241m=\u001b[39mchunked,\n\u001b[1;32m    501\u001b[0m         preload_content\u001b[38;5;241m=\u001b[39mpreload_content,\n\u001b[1;32m    502\u001b[0m         decode_content\u001b[38;5;241m=\u001b[39mdecode_content,\n\u001b[1;32m    503\u001b[0m         enforce_content_length\u001b[38;5;241m=\u001b[39menforce_content_length,\n\u001b[1;32m    504\u001b[0m     )\n\u001b[1;32m    506\u001b[0m \u001b[38;5;66;03m# We are swallowing BrokenPipeError (errno.EPIPE) since the server is\u001b[39;00m\n\u001b[1;32m    507\u001b[0m \u001b[38;5;66;03m# legitimately able to close the connection after sending a valid response.\u001b[39;00m\n\u001b[1;32m    508\u001b[0m \u001b[38;5;66;03m# With this behaviour, the received response is still readable.\u001b[39;00m\n",
      "File \u001b[0;32m/opt/anaconda3/lib/python3.12/site-packages/urllib3/connection.py:441\u001b[0m, in \u001b[0;36mHTTPConnection.request\u001b[0;34m(self, method, url, body, headers, chunked, preload_content, decode_content, enforce_content_length)\u001b[0m\n\u001b[1;32m    440\u001b[0m     \u001b[38;5;28mself\u001b[39m\u001b[38;5;241m.\u001b[39mputheader(header, value)\n\u001b[0;32m--> 441\u001b[0m \u001b[38;5;28mself\u001b[39m\u001b[38;5;241m.\u001b[39mendheaders()\n\u001b[1;32m    443\u001b[0m \u001b[38;5;66;03m# If we're given a body we start sending that in chunks.\u001b[39;00m\n",
      "File \u001b[0;32m/opt/anaconda3/lib/python3.12/http/client.py:1326\u001b[0m, in \u001b[0;36mHTTPConnection.endheaders\u001b[0;34m(self, message_body, encode_chunked)\u001b[0m\n\u001b[1;32m   1325\u001b[0m     \u001b[38;5;28;01mraise\u001b[39;00m CannotSendHeader()\n\u001b[0;32m-> 1326\u001b[0m \u001b[38;5;28mself\u001b[39m\u001b[38;5;241m.\u001b[39m_send_output(message_body, encode_chunked\u001b[38;5;241m=\u001b[39mencode_chunked)\n",
      "File \u001b[0;32m/opt/anaconda3/lib/python3.12/http/client.py:1085\u001b[0m, in \u001b[0;36mHTTPConnection._send_output\u001b[0;34m(self, message_body, encode_chunked)\u001b[0m\n\u001b[1;32m   1084\u001b[0m \u001b[38;5;28;01mdel\u001b[39;00m \u001b[38;5;28mself\u001b[39m\u001b[38;5;241m.\u001b[39m_buffer[:]\n\u001b[0;32m-> 1085\u001b[0m \u001b[38;5;28mself\u001b[39m\u001b[38;5;241m.\u001b[39msend(msg)\n\u001b[1;32m   1087\u001b[0m \u001b[38;5;28;01mif\u001b[39;00m message_body \u001b[38;5;129;01mis\u001b[39;00m \u001b[38;5;129;01mnot\u001b[39;00m \u001b[38;5;28;01mNone\u001b[39;00m:\n\u001b[1;32m   1088\u001b[0m \n\u001b[1;32m   1089\u001b[0m     \u001b[38;5;66;03m# create a consistent interface to message_body\u001b[39;00m\n",
      "File \u001b[0;32m/opt/anaconda3/lib/python3.12/http/client.py:1029\u001b[0m, in \u001b[0;36mHTTPConnection.send\u001b[0;34m(self, data)\u001b[0m\n\u001b[1;32m   1028\u001b[0m \u001b[38;5;28;01mif\u001b[39;00m \u001b[38;5;28mself\u001b[39m\u001b[38;5;241m.\u001b[39mauto_open:\n\u001b[0;32m-> 1029\u001b[0m     \u001b[38;5;28mself\u001b[39m\u001b[38;5;241m.\u001b[39mconnect()\n\u001b[1;32m   1030\u001b[0m \u001b[38;5;28;01melse\u001b[39;00m:\n",
      "File \u001b[0;32m/opt/anaconda3/lib/python3.12/site-packages/urllib3/connection.py:279\u001b[0m, in \u001b[0;36mHTTPConnection.connect\u001b[0;34m(self)\u001b[0m\n\u001b[1;32m    278\u001b[0m \u001b[38;5;28;01mdef\u001b[39;00m \u001b[38;5;21mconnect\u001b[39m(\u001b[38;5;28mself\u001b[39m) \u001b[38;5;241m-\u001b[39m\u001b[38;5;241m>\u001b[39m \u001b[38;5;28;01mNone\u001b[39;00m:\n\u001b[0;32m--> 279\u001b[0m     \u001b[38;5;28mself\u001b[39m\u001b[38;5;241m.\u001b[39msock \u001b[38;5;241m=\u001b[39m \u001b[38;5;28mself\u001b[39m\u001b[38;5;241m.\u001b[39m_new_conn()\n\u001b[1;32m    280\u001b[0m     \u001b[38;5;28;01mif\u001b[39;00m \u001b[38;5;28mself\u001b[39m\u001b[38;5;241m.\u001b[39m_tunnel_host:\n\u001b[1;32m    281\u001b[0m         \u001b[38;5;66;03m# If we're tunneling it means we're connected to our proxy.\u001b[39;00m\n",
      "File \u001b[0;32m/opt/anaconda3/lib/python3.12/site-packages/urllib3/connection.py:214\u001b[0m, in \u001b[0;36mHTTPConnection._new_conn\u001b[0;34m(self)\u001b[0m\n\u001b[1;32m    213\u001b[0m \u001b[38;5;28;01mexcept\u001b[39;00m \u001b[38;5;167;01mOSError\u001b[39;00m \u001b[38;5;28;01mas\u001b[39;00m e:\n\u001b[0;32m--> 214\u001b[0m     \u001b[38;5;28;01mraise\u001b[39;00m NewConnectionError(\n\u001b[1;32m    215\u001b[0m         \u001b[38;5;28mself\u001b[39m, \u001b[38;5;124mf\u001b[39m\u001b[38;5;124m\"\u001b[39m\u001b[38;5;124mFailed to establish a new connection: \u001b[39m\u001b[38;5;132;01m{\u001b[39;00me\u001b[38;5;132;01m}\u001b[39;00m\u001b[38;5;124m\"\u001b[39m\n\u001b[1;32m    216\u001b[0m     ) \u001b[38;5;28;01mfrom\u001b[39;00m \u001b[38;5;21;01me\u001b[39;00m\n\u001b[1;32m    218\u001b[0m \u001b[38;5;66;03m# Audit hooks are only available in Python 3.8+\u001b[39;00m\n",
      "\u001b[0;31mNewConnectionError\u001b[0m: <urllib3.connection.HTTPConnection object at 0x153d98140>: Failed to establish a new connection: [Errno 61] Connection refused",
      "\nThe above exception was the direct cause of the following exception:\n",
      "\u001b[0;31mMaxRetryError\u001b[0m                             Traceback (most recent call last)",
      "Cell \u001b[0;32mIn[17], line 8\u001b[0m\n\u001b[1;32m      5\u001b[0m     main_text \u001b[38;5;241m=\u001b[39m main_text\u001b[38;5;241m.\u001b[39mreplace(\u001b[38;5;124m'\u001b[39m\u001b[38;5;130;01m\\n\u001b[39;00m\u001b[38;5;124m'\u001b[39m, \u001b[38;5;124m'\u001b[39m\u001b[38;5;124m \u001b[39m\u001b[38;5;124m'\u001b[39m)\n\u001b[1;32m      6\u001b[0m     \u001b[38;5;28;01mreturn\u001b[39;00m main_text\n\u001b[0;32m----> 8\u001b[0m content \u001b[38;5;241m=\u001b[39m [content_finder(url) \u001b[38;5;28;01mfor\u001b[39;00m url \u001b[38;5;129;01min\u001b[39;00m url_finder()]\n\u001b[1;32m     10\u001b[0m \u001b[38;5;28mprint\u001b[39m(\u001b[38;5;124mf\u001b[39m\u001b[38;5;124m'\u001b[39m\u001b[38;5;124mSummary amount: \u001b[39m\u001b[38;5;132;01m{\u001b[39;00m\u001b[38;5;28mlen\u001b[39m(content)\u001b[38;5;132;01m}\u001b[39;00m\u001b[38;5;124m'\u001b[39m)\n\u001b[1;32m     11\u001b[0m content\n",
      "Cell \u001b[0;32mIn[8], line 2\u001b[0m, in \u001b[0;36murl_finder\u001b[0;34m()\u001b[0m\n\u001b[1;32m      1\u001b[0m \u001b[38;5;28;01mdef\u001b[39;00m \u001b[38;5;21murl_finder\u001b[39m():\n\u001b[0;32m----> 2\u001b[0m     urls \u001b[38;5;241m=\u001b[39m [url\u001b[38;5;241m.\u001b[39mget_attribute(\u001b[38;5;124m'\u001b[39m\u001b[38;5;124mhref\u001b[39m\u001b[38;5;124m'\u001b[39m) \u001b[38;5;28;01mfor\u001b[39;00m url \u001b[38;5;129;01min\u001b[39;00m browser\u001b[38;5;241m.\u001b[39mfind_elements(By\u001b[38;5;241m.\u001b[39mCLASS_NAME, \u001b[38;5;124m'\u001b[39m\u001b[38;5;124msc-2e6baa30-0\u001b[39m\u001b[38;5;124m'\u001b[39m)  ]\n\u001b[1;32m      3\u001b[0m     urls \u001b[38;5;241m=\u001b[39m [url \u001b[38;5;28;01mfor\u001b[39;00m url \u001b[38;5;129;01min\u001b[39;00m urls \u001b[38;5;28;01mif\u001b[39;00m url\u001b[38;5;241m.\u001b[39mfind(\u001b[38;5;124m'\u001b[39m\u001b[38;5;124mnews/articles\u001b[39m\u001b[38;5;124m'\u001b[39m) \u001b[38;5;241m!=\u001b[39m \u001b[38;5;241m-\u001b[39m\u001b[38;5;241m1\u001b[39m]\n\u001b[1;32m      4\u001b[0m     \u001b[38;5;28;01mreturn\u001b[39;00m urls\n",
      "File \u001b[0;32m/opt/anaconda3/lib/python3.12/site-packages/selenium/webdriver/remote/webdriver.py:936\u001b[0m, in \u001b[0;36mWebDriver.find_elements\u001b[0;34m(self, by, value)\u001b[0m\n\u001b[1;32m    932\u001b[0m     \u001b[38;5;28;01mreturn\u001b[39;00m \u001b[38;5;28mself\u001b[39m\u001b[38;5;241m.\u001b[39mexecute_script(find_element_js, by\u001b[38;5;241m.\u001b[39mto_dict())\n\u001b[1;32m    934\u001b[0m \u001b[38;5;66;03m# Return empty list if driver returns null\u001b[39;00m\n\u001b[1;32m    935\u001b[0m \u001b[38;5;66;03m# See https://github.com/SeleniumHQ/selenium/issues/4555\u001b[39;00m\n\u001b[0;32m--> 936\u001b[0m \u001b[38;5;28;01mreturn\u001b[39;00m \u001b[38;5;28mself\u001b[39m\u001b[38;5;241m.\u001b[39mexecute(Command\u001b[38;5;241m.\u001b[39mFIND_ELEMENTS, {\u001b[38;5;124m\"\u001b[39m\u001b[38;5;124musing\u001b[39m\u001b[38;5;124m\"\u001b[39m: by, \u001b[38;5;124m\"\u001b[39m\u001b[38;5;124mvalue\u001b[39m\u001b[38;5;124m\"\u001b[39m: value})[\u001b[38;5;124m\"\u001b[39m\u001b[38;5;124mvalue\u001b[39m\u001b[38;5;124m\"\u001b[39m] \u001b[38;5;129;01mor\u001b[39;00m []\n",
      "File \u001b[0;32m/opt/anaconda3/lib/python3.12/site-packages/selenium/webdriver/remote/webdriver.py:427\u001b[0m, in \u001b[0;36mWebDriver.execute\u001b[0;34m(self, driver_command, params)\u001b[0m\n\u001b[1;32m    424\u001b[0m     \u001b[38;5;28;01melif\u001b[39;00m \u001b[38;5;124m\"\u001b[39m\u001b[38;5;124msessionId\u001b[39m\u001b[38;5;124m\"\u001b[39m \u001b[38;5;129;01mnot\u001b[39;00m \u001b[38;5;129;01min\u001b[39;00m params:\n\u001b[1;32m    425\u001b[0m         params[\u001b[38;5;124m\"\u001b[39m\u001b[38;5;124msessionId\u001b[39m\u001b[38;5;124m\"\u001b[39m] \u001b[38;5;241m=\u001b[39m \u001b[38;5;28mself\u001b[39m\u001b[38;5;241m.\u001b[39msession_id\n\u001b[0;32m--> 427\u001b[0m response \u001b[38;5;241m=\u001b[39m \u001b[38;5;28mself\u001b[39m\u001b[38;5;241m.\u001b[39mcommand_executor\u001b[38;5;241m.\u001b[39mexecute(driver_command, params)\n\u001b[1;32m    428\u001b[0m \u001b[38;5;28;01mif\u001b[39;00m response:\n\u001b[1;32m    429\u001b[0m     \u001b[38;5;28mself\u001b[39m\u001b[38;5;241m.\u001b[39merror_handler\u001b[38;5;241m.\u001b[39mcheck_response(response)\n",
      "File \u001b[0;32m/opt/anaconda3/lib/python3.12/site-packages/selenium/webdriver/remote/remote_connection.py:404\u001b[0m, in \u001b[0;36mRemoteConnection.execute\u001b[0;34m(self, command, params)\u001b[0m\n\u001b[1;32m    402\u001b[0m trimmed \u001b[38;5;241m=\u001b[39m \u001b[38;5;28mself\u001b[39m\u001b[38;5;241m.\u001b[39m_trim_large_entries(params)\n\u001b[1;32m    403\u001b[0m LOGGER\u001b[38;5;241m.\u001b[39mdebug(\u001b[38;5;124m\"\u001b[39m\u001b[38;5;132;01m%s\u001b[39;00m\u001b[38;5;124m \u001b[39m\u001b[38;5;132;01m%s\u001b[39;00m\u001b[38;5;124m \u001b[39m\u001b[38;5;132;01m%s\u001b[39;00m\u001b[38;5;124m\"\u001b[39m, command_info[\u001b[38;5;241m0\u001b[39m], url, \u001b[38;5;28mstr\u001b[39m(trimmed))\n\u001b[0;32m--> 404\u001b[0m \u001b[38;5;28;01mreturn\u001b[39;00m \u001b[38;5;28mself\u001b[39m\u001b[38;5;241m.\u001b[39m_request(command_info[\u001b[38;5;241m0\u001b[39m], url, body\u001b[38;5;241m=\u001b[39mdata)\n",
      "File \u001b[0;32m/opt/anaconda3/lib/python3.12/site-packages/selenium/webdriver/remote/remote_connection.py:428\u001b[0m, in \u001b[0;36mRemoteConnection._request\u001b[0;34m(self, method, url, body)\u001b[0m\n\u001b[1;32m    425\u001b[0m     body \u001b[38;5;241m=\u001b[39m \u001b[38;5;28;01mNone\u001b[39;00m\n\u001b[1;32m    427\u001b[0m \u001b[38;5;28;01mif\u001b[39;00m \u001b[38;5;28mself\u001b[39m\u001b[38;5;241m.\u001b[39m_client_config\u001b[38;5;241m.\u001b[39mkeep_alive:\n\u001b[0;32m--> 428\u001b[0m     response \u001b[38;5;241m=\u001b[39m \u001b[38;5;28mself\u001b[39m\u001b[38;5;241m.\u001b[39m_conn\u001b[38;5;241m.\u001b[39mrequest(method, url, body\u001b[38;5;241m=\u001b[39mbody, headers\u001b[38;5;241m=\u001b[39mheaders, timeout\u001b[38;5;241m=\u001b[39m\u001b[38;5;28mself\u001b[39m\u001b[38;5;241m.\u001b[39m_client_config\u001b[38;5;241m.\u001b[39mtimeout)\n\u001b[1;32m    429\u001b[0m     statuscode \u001b[38;5;241m=\u001b[39m response\u001b[38;5;241m.\u001b[39mstatus\n\u001b[1;32m    430\u001b[0m \u001b[38;5;28;01melse\u001b[39;00m:\n",
      "File \u001b[0;32m/opt/anaconda3/lib/python3.12/site-packages/urllib3/_request_methods.py:143\u001b[0m, in \u001b[0;36mRequestMethods.request\u001b[0;34m(self, method, url, body, fields, headers, json, **urlopen_kw)\u001b[0m\n\u001b[1;32m    135\u001b[0m     \u001b[38;5;28;01mreturn\u001b[39;00m \u001b[38;5;28mself\u001b[39m\u001b[38;5;241m.\u001b[39mrequest_encode_url(\n\u001b[1;32m    136\u001b[0m         method,\n\u001b[1;32m    137\u001b[0m         url,\n\u001b[0;32m   (...)\u001b[0m\n\u001b[1;32m    140\u001b[0m         \u001b[38;5;241m*\u001b[39m\u001b[38;5;241m*\u001b[39murlopen_kw,\n\u001b[1;32m    141\u001b[0m     )\n\u001b[1;32m    142\u001b[0m \u001b[38;5;28;01melse\u001b[39;00m:\n\u001b[0;32m--> 143\u001b[0m     \u001b[38;5;28;01mreturn\u001b[39;00m \u001b[38;5;28mself\u001b[39m\u001b[38;5;241m.\u001b[39mrequest_encode_body(\n\u001b[1;32m    144\u001b[0m         method, url, fields\u001b[38;5;241m=\u001b[39mfields, headers\u001b[38;5;241m=\u001b[39mheaders, \u001b[38;5;241m*\u001b[39m\u001b[38;5;241m*\u001b[39murlopen_kw\n\u001b[1;32m    145\u001b[0m     )\n",
      "File \u001b[0;32m/opt/anaconda3/lib/python3.12/site-packages/urllib3/_request_methods.py:278\u001b[0m, in \u001b[0;36mRequestMethods.request_encode_body\u001b[0;34m(self, method, url, fields, headers, encode_multipart, multipart_boundary, **urlopen_kw)\u001b[0m\n\u001b[1;32m    274\u001b[0m     extra_kw[\u001b[38;5;124m\"\u001b[39m\u001b[38;5;124mheaders\u001b[39m\u001b[38;5;124m\"\u001b[39m]\u001b[38;5;241m.\u001b[39msetdefault(\u001b[38;5;124m\"\u001b[39m\u001b[38;5;124mContent-Type\u001b[39m\u001b[38;5;124m\"\u001b[39m, content_type)\n\u001b[1;32m    276\u001b[0m extra_kw\u001b[38;5;241m.\u001b[39mupdate(urlopen_kw)\n\u001b[0;32m--> 278\u001b[0m \u001b[38;5;28;01mreturn\u001b[39;00m \u001b[38;5;28mself\u001b[39m\u001b[38;5;241m.\u001b[39murlopen(method, url, \u001b[38;5;241m*\u001b[39m\u001b[38;5;241m*\u001b[39mextra_kw)\n",
      "File \u001b[0;32m/opt/anaconda3/lib/python3.12/site-packages/urllib3/poolmanager.py:443\u001b[0m, in \u001b[0;36mPoolManager.urlopen\u001b[0;34m(self, method, url, redirect, **kw)\u001b[0m\n\u001b[1;32m    441\u001b[0m     response \u001b[38;5;241m=\u001b[39m conn\u001b[38;5;241m.\u001b[39murlopen(method, url, \u001b[38;5;241m*\u001b[39m\u001b[38;5;241m*\u001b[39mkw)\n\u001b[1;32m    442\u001b[0m \u001b[38;5;28;01melse\u001b[39;00m:\n\u001b[0;32m--> 443\u001b[0m     response \u001b[38;5;241m=\u001b[39m conn\u001b[38;5;241m.\u001b[39murlopen(method, u\u001b[38;5;241m.\u001b[39mrequest_uri, \u001b[38;5;241m*\u001b[39m\u001b[38;5;241m*\u001b[39mkw)\n\u001b[1;32m    445\u001b[0m redirect_location \u001b[38;5;241m=\u001b[39m redirect \u001b[38;5;129;01mand\u001b[39;00m response\u001b[38;5;241m.\u001b[39mget_redirect_location()\n\u001b[1;32m    446\u001b[0m \u001b[38;5;28;01mif\u001b[39;00m \u001b[38;5;129;01mnot\u001b[39;00m redirect_location:\n",
      "File \u001b[0;32m/opt/anaconda3/lib/python3.12/site-packages/urllib3/connectionpool.py:873\u001b[0m, in \u001b[0;36mHTTPConnectionPool.urlopen\u001b[0;34m(self, method, url, body, headers, retries, redirect, assert_same_host, timeout, pool_timeout, release_conn, chunked, body_pos, preload_content, decode_content, **response_kw)\u001b[0m\n\u001b[1;32m    868\u001b[0m \u001b[38;5;28;01mif\u001b[39;00m \u001b[38;5;129;01mnot\u001b[39;00m conn:\n\u001b[1;32m    869\u001b[0m     \u001b[38;5;66;03m# Try again\u001b[39;00m\n\u001b[1;32m    870\u001b[0m     log\u001b[38;5;241m.\u001b[39mwarning(\n\u001b[1;32m    871\u001b[0m         \u001b[38;5;124m\"\u001b[39m\u001b[38;5;124mRetrying (\u001b[39m\u001b[38;5;132;01m%r\u001b[39;00m\u001b[38;5;124m) after connection broken by \u001b[39m\u001b[38;5;124m'\u001b[39m\u001b[38;5;132;01m%r\u001b[39;00m\u001b[38;5;124m'\u001b[39m\u001b[38;5;124m: \u001b[39m\u001b[38;5;132;01m%s\u001b[39;00m\u001b[38;5;124m\"\u001b[39m, retries, err, url\n\u001b[1;32m    872\u001b[0m     )\n\u001b[0;32m--> 873\u001b[0m     \u001b[38;5;28;01mreturn\u001b[39;00m \u001b[38;5;28mself\u001b[39m\u001b[38;5;241m.\u001b[39murlopen(\n\u001b[1;32m    874\u001b[0m         method,\n\u001b[1;32m    875\u001b[0m         url,\n\u001b[1;32m    876\u001b[0m         body,\n\u001b[1;32m    877\u001b[0m         headers,\n\u001b[1;32m    878\u001b[0m         retries,\n\u001b[1;32m    879\u001b[0m         redirect,\n\u001b[1;32m    880\u001b[0m         assert_same_host,\n\u001b[1;32m    881\u001b[0m         timeout\u001b[38;5;241m=\u001b[39mtimeout,\n\u001b[1;32m    882\u001b[0m         pool_timeout\u001b[38;5;241m=\u001b[39mpool_timeout,\n\u001b[1;32m    883\u001b[0m         release_conn\u001b[38;5;241m=\u001b[39mrelease_conn,\n\u001b[1;32m    884\u001b[0m         chunked\u001b[38;5;241m=\u001b[39mchunked,\n\u001b[1;32m    885\u001b[0m         body_pos\u001b[38;5;241m=\u001b[39mbody_pos,\n\u001b[1;32m    886\u001b[0m         preload_content\u001b[38;5;241m=\u001b[39mpreload_content,\n\u001b[1;32m    887\u001b[0m         decode_content\u001b[38;5;241m=\u001b[39mdecode_content,\n\u001b[1;32m    888\u001b[0m         \u001b[38;5;241m*\u001b[39m\u001b[38;5;241m*\u001b[39mresponse_kw,\n\u001b[1;32m    889\u001b[0m     )\n\u001b[1;32m    891\u001b[0m \u001b[38;5;66;03m# Handle redirect?\u001b[39;00m\n\u001b[1;32m    892\u001b[0m redirect_location \u001b[38;5;241m=\u001b[39m redirect \u001b[38;5;129;01mand\u001b[39;00m response\u001b[38;5;241m.\u001b[39mget_redirect_location()\n",
      "File \u001b[0;32m/opt/anaconda3/lib/python3.12/site-packages/urllib3/connectionpool.py:873\u001b[0m, in \u001b[0;36mHTTPConnectionPool.urlopen\u001b[0;34m(self, method, url, body, headers, retries, redirect, assert_same_host, timeout, pool_timeout, release_conn, chunked, body_pos, preload_content, decode_content, **response_kw)\u001b[0m\n\u001b[1;32m    868\u001b[0m \u001b[38;5;28;01mif\u001b[39;00m \u001b[38;5;129;01mnot\u001b[39;00m conn:\n\u001b[1;32m    869\u001b[0m     \u001b[38;5;66;03m# Try again\u001b[39;00m\n\u001b[1;32m    870\u001b[0m     log\u001b[38;5;241m.\u001b[39mwarning(\n\u001b[1;32m    871\u001b[0m         \u001b[38;5;124m\"\u001b[39m\u001b[38;5;124mRetrying (\u001b[39m\u001b[38;5;132;01m%r\u001b[39;00m\u001b[38;5;124m) after connection broken by \u001b[39m\u001b[38;5;124m'\u001b[39m\u001b[38;5;132;01m%r\u001b[39;00m\u001b[38;5;124m'\u001b[39m\u001b[38;5;124m: \u001b[39m\u001b[38;5;132;01m%s\u001b[39;00m\u001b[38;5;124m\"\u001b[39m, retries, err, url\n\u001b[1;32m    872\u001b[0m     )\n\u001b[0;32m--> 873\u001b[0m     \u001b[38;5;28;01mreturn\u001b[39;00m \u001b[38;5;28mself\u001b[39m\u001b[38;5;241m.\u001b[39murlopen(\n\u001b[1;32m    874\u001b[0m         method,\n\u001b[1;32m    875\u001b[0m         url,\n\u001b[1;32m    876\u001b[0m         body,\n\u001b[1;32m    877\u001b[0m         headers,\n\u001b[1;32m    878\u001b[0m         retries,\n\u001b[1;32m    879\u001b[0m         redirect,\n\u001b[1;32m    880\u001b[0m         assert_same_host,\n\u001b[1;32m    881\u001b[0m         timeout\u001b[38;5;241m=\u001b[39mtimeout,\n\u001b[1;32m    882\u001b[0m         pool_timeout\u001b[38;5;241m=\u001b[39mpool_timeout,\n\u001b[1;32m    883\u001b[0m         release_conn\u001b[38;5;241m=\u001b[39mrelease_conn,\n\u001b[1;32m    884\u001b[0m         chunked\u001b[38;5;241m=\u001b[39mchunked,\n\u001b[1;32m    885\u001b[0m         body_pos\u001b[38;5;241m=\u001b[39mbody_pos,\n\u001b[1;32m    886\u001b[0m         preload_content\u001b[38;5;241m=\u001b[39mpreload_content,\n\u001b[1;32m    887\u001b[0m         decode_content\u001b[38;5;241m=\u001b[39mdecode_content,\n\u001b[1;32m    888\u001b[0m         \u001b[38;5;241m*\u001b[39m\u001b[38;5;241m*\u001b[39mresponse_kw,\n\u001b[1;32m    889\u001b[0m     )\n\u001b[1;32m    891\u001b[0m \u001b[38;5;66;03m# Handle redirect?\u001b[39;00m\n\u001b[1;32m    892\u001b[0m redirect_location \u001b[38;5;241m=\u001b[39m redirect \u001b[38;5;129;01mand\u001b[39;00m response\u001b[38;5;241m.\u001b[39mget_redirect_location()\n",
      "File \u001b[0;32m/opt/anaconda3/lib/python3.12/site-packages/urllib3/connectionpool.py:873\u001b[0m, in \u001b[0;36mHTTPConnectionPool.urlopen\u001b[0;34m(self, method, url, body, headers, retries, redirect, assert_same_host, timeout, pool_timeout, release_conn, chunked, body_pos, preload_content, decode_content, **response_kw)\u001b[0m\n\u001b[1;32m    868\u001b[0m \u001b[38;5;28;01mif\u001b[39;00m \u001b[38;5;129;01mnot\u001b[39;00m conn:\n\u001b[1;32m    869\u001b[0m     \u001b[38;5;66;03m# Try again\u001b[39;00m\n\u001b[1;32m    870\u001b[0m     log\u001b[38;5;241m.\u001b[39mwarning(\n\u001b[1;32m    871\u001b[0m         \u001b[38;5;124m\"\u001b[39m\u001b[38;5;124mRetrying (\u001b[39m\u001b[38;5;132;01m%r\u001b[39;00m\u001b[38;5;124m) after connection broken by \u001b[39m\u001b[38;5;124m'\u001b[39m\u001b[38;5;132;01m%r\u001b[39;00m\u001b[38;5;124m'\u001b[39m\u001b[38;5;124m: \u001b[39m\u001b[38;5;132;01m%s\u001b[39;00m\u001b[38;5;124m\"\u001b[39m, retries, err, url\n\u001b[1;32m    872\u001b[0m     )\n\u001b[0;32m--> 873\u001b[0m     \u001b[38;5;28;01mreturn\u001b[39;00m \u001b[38;5;28mself\u001b[39m\u001b[38;5;241m.\u001b[39murlopen(\n\u001b[1;32m    874\u001b[0m         method,\n\u001b[1;32m    875\u001b[0m         url,\n\u001b[1;32m    876\u001b[0m         body,\n\u001b[1;32m    877\u001b[0m         headers,\n\u001b[1;32m    878\u001b[0m         retries,\n\u001b[1;32m    879\u001b[0m         redirect,\n\u001b[1;32m    880\u001b[0m         assert_same_host,\n\u001b[1;32m    881\u001b[0m         timeout\u001b[38;5;241m=\u001b[39mtimeout,\n\u001b[1;32m    882\u001b[0m         pool_timeout\u001b[38;5;241m=\u001b[39mpool_timeout,\n\u001b[1;32m    883\u001b[0m         release_conn\u001b[38;5;241m=\u001b[39mrelease_conn,\n\u001b[1;32m    884\u001b[0m         chunked\u001b[38;5;241m=\u001b[39mchunked,\n\u001b[1;32m    885\u001b[0m         body_pos\u001b[38;5;241m=\u001b[39mbody_pos,\n\u001b[1;32m    886\u001b[0m         preload_content\u001b[38;5;241m=\u001b[39mpreload_content,\n\u001b[1;32m    887\u001b[0m         decode_content\u001b[38;5;241m=\u001b[39mdecode_content,\n\u001b[1;32m    888\u001b[0m         \u001b[38;5;241m*\u001b[39m\u001b[38;5;241m*\u001b[39mresponse_kw,\n\u001b[1;32m    889\u001b[0m     )\n\u001b[1;32m    891\u001b[0m \u001b[38;5;66;03m# Handle redirect?\u001b[39;00m\n\u001b[1;32m    892\u001b[0m redirect_location \u001b[38;5;241m=\u001b[39m redirect \u001b[38;5;129;01mand\u001b[39;00m response\u001b[38;5;241m.\u001b[39mget_redirect_location()\n",
      "File \u001b[0;32m/opt/anaconda3/lib/python3.12/site-packages/urllib3/connectionpool.py:843\u001b[0m, in \u001b[0;36mHTTPConnectionPool.urlopen\u001b[0;34m(self, method, url, body, headers, retries, redirect, assert_same_host, timeout, pool_timeout, release_conn, chunked, body_pos, preload_content, decode_content, **response_kw)\u001b[0m\n\u001b[1;32m    840\u001b[0m \u001b[38;5;28;01melif\u001b[39;00m \u001b[38;5;28misinstance\u001b[39m(new_e, (\u001b[38;5;167;01mOSError\u001b[39;00m, HTTPException)):\n\u001b[1;32m    841\u001b[0m     new_e \u001b[38;5;241m=\u001b[39m ProtocolError(\u001b[38;5;124m\"\u001b[39m\u001b[38;5;124mConnection aborted.\u001b[39m\u001b[38;5;124m\"\u001b[39m, new_e)\n\u001b[0;32m--> 843\u001b[0m retries \u001b[38;5;241m=\u001b[39m retries\u001b[38;5;241m.\u001b[39mincrement(\n\u001b[1;32m    844\u001b[0m     method, url, error\u001b[38;5;241m=\u001b[39mnew_e, _pool\u001b[38;5;241m=\u001b[39m\u001b[38;5;28mself\u001b[39m, _stacktrace\u001b[38;5;241m=\u001b[39msys\u001b[38;5;241m.\u001b[39mexc_info()[\u001b[38;5;241m2\u001b[39m]\n\u001b[1;32m    845\u001b[0m )\n\u001b[1;32m    846\u001b[0m retries\u001b[38;5;241m.\u001b[39msleep()\n\u001b[1;32m    848\u001b[0m \u001b[38;5;66;03m# Keep track of the error for the retry warning.\u001b[39;00m\n",
      "File \u001b[0;32m/opt/anaconda3/lib/python3.12/site-packages/urllib3/util/retry.py:519\u001b[0m, in \u001b[0;36mRetry.increment\u001b[0;34m(self, method, url, response, error, _pool, _stacktrace)\u001b[0m\n\u001b[1;32m    517\u001b[0m \u001b[38;5;28;01mif\u001b[39;00m new_retry\u001b[38;5;241m.\u001b[39mis_exhausted():\n\u001b[1;32m    518\u001b[0m     reason \u001b[38;5;241m=\u001b[39m error \u001b[38;5;129;01mor\u001b[39;00m ResponseError(cause)\n\u001b[0;32m--> 519\u001b[0m     \u001b[38;5;28;01mraise\u001b[39;00m MaxRetryError(_pool, url, reason) \u001b[38;5;28;01mfrom\u001b[39;00m \u001b[38;5;21;01mreason\u001b[39;00m  \u001b[38;5;66;03m# type: ignore[arg-type]\u001b[39;00m\n\u001b[1;32m    521\u001b[0m log\u001b[38;5;241m.\u001b[39mdebug(\u001b[38;5;124m\"\u001b[39m\u001b[38;5;124mIncremented Retry for (url=\u001b[39m\u001b[38;5;124m'\u001b[39m\u001b[38;5;132;01m%s\u001b[39;00m\u001b[38;5;124m'\u001b[39m\u001b[38;5;124m): \u001b[39m\u001b[38;5;132;01m%r\u001b[39;00m\u001b[38;5;124m\"\u001b[39m, url, new_retry)\n\u001b[1;32m    523\u001b[0m \u001b[38;5;28;01mreturn\u001b[39;00m new_retry\n",
      "\u001b[0;31mMaxRetryError\u001b[0m: HTTPConnectionPool(host='localhost', port=50728): Max retries exceeded with url: /session/b3b4fa40-4511-4994-a969-9ab44fb93583/elements (Caused by NewConnectionError('<urllib3.connection.HTTPConnection object at 0x153d98140>: Failed to establish a new connection: [Errno 61] Connection refused'))"
     ]
    }
   ],
   "source": [
    "def content_finder(url):\n",
    "    response = requests.get(url)\n",
    "    paragraphs = BeautifulSoup(response.content, 'html.parser').find_all('p')\n",
    "    main_text = ' '.join([p.text for p in paragraphs])\n",
    "    main_text = main_text.replace('\\n', ' ')\n",
    "    return main_text\n",
    "\n",
    "content = [content_finder(url) for url in url_finder()]\n",
    "\n",
    "print(f'Summary amount: {len(content)}')\n",
    "content"
   ]
  },
  {
   "cell_type": "markdown",
   "metadata": {},
   "source": [
    "## 1. Article Inspection: "
   ]
  },
  {
   "cell_type": "markdown",
   "metadata": {},
   "source": [
    "### Manually inspect a few articles to find unique attributes to identify the text, the headline, the published date, and the author."
   ]
  },
  {
   "cell_type": "markdown",
   "metadata": {},
   "source": [
    "## 2. Text Scraping Function:"
   ]
  },
  {
   "cell_type": "markdown",
   "metadata": {},
   "source": [
    "### Implement a function that takes a URL and returns a dictionary with the article's text, headline, published date, and author."
   ]
  },
  {
   "cell_type": "markdown",
   "metadata": {},
   "source": [
    "Jeg bruger samme metode som tidligere."
   ]
  },
  {
   "cell_type": "code",
   "execution_count": null,
   "metadata": {},
   "outputs": [
    {
     "ename": "KeyboardInterrupt",
     "evalue": "",
     "output_type": "error",
     "traceback": [
      "\u001b[0;31m---------------------------------------------------------------------------\u001b[0m",
      "\u001b[0;31mKeyboardInterrupt\u001b[0m                         Traceback (most recent call last)",
      "Cell \u001b[0;32mIn[126], line 7\u001b[0m\n\u001b[1;32m      4\u001b[0m     date \u001b[38;5;241m=\u001b[39m soup\u001b[38;5;241m.\u001b[39mfind(\u001b[38;5;124m'\u001b[39m\u001b[38;5;124mtime\u001b[39m\u001b[38;5;124m'\u001b[39m)[\u001b[38;5;124m'\u001b[39m\u001b[38;5;124mdatetime\u001b[39m\u001b[38;5;124m'\u001b[39m]\n\u001b[1;32m      5\u001b[0m     \u001b[38;5;28;01mreturn\u001b[39;00m date\n\u001b[0;32m----> 7\u001b[0m publish_dates \u001b[38;5;241m=\u001b[39m [publish_date_finder(url) \u001b[38;5;28;01mfor\u001b[39;00m url \u001b[38;5;129;01min\u001b[39;00m url_finder()]\n\u001b[1;32m      9\u001b[0m \u001b[38;5;28mprint\u001b[39m(\u001b[38;5;124mf\u001b[39m\u001b[38;5;124m'\u001b[39m\u001b[38;5;124mPublish date amount: \u001b[39m\u001b[38;5;132;01m{\u001b[39;00m\u001b[38;5;28mlen\u001b[39m(publish_dates)\u001b[38;5;132;01m}\u001b[39;00m\u001b[38;5;124m'\u001b[39m)\n\u001b[1;32m     10\u001b[0m publish_dates\n",
      "Cell \u001b[0;32mIn[126], line 2\u001b[0m, in \u001b[0;36mpublish_date_finder\u001b[0;34m(link)\u001b[0m\n\u001b[1;32m      1\u001b[0m \u001b[38;5;28;01mdef\u001b[39;00m \u001b[38;5;21mpublish_date_finder\u001b[39m(link):\n\u001b[0;32m----> 2\u001b[0m     response \u001b[38;5;241m=\u001b[39m requests\u001b[38;5;241m.\u001b[39mget(link)\n\u001b[1;32m      3\u001b[0m     soup \u001b[38;5;241m=\u001b[39m BeautifulSoup(response\u001b[38;5;241m.\u001b[39mcontent, \u001b[38;5;124m'\u001b[39m\u001b[38;5;124mhtml.parser\u001b[39m\u001b[38;5;124m'\u001b[39m)\n\u001b[1;32m      4\u001b[0m     date \u001b[38;5;241m=\u001b[39m soup\u001b[38;5;241m.\u001b[39mfind(\u001b[38;5;124m'\u001b[39m\u001b[38;5;124mtime\u001b[39m\u001b[38;5;124m'\u001b[39m)[\u001b[38;5;124m'\u001b[39m\u001b[38;5;124mdatetime\u001b[39m\u001b[38;5;124m'\u001b[39m]\n",
      "File \u001b[0;32m/opt/anaconda3/lib/python3.12/site-packages/requests/api.py:73\u001b[0m, in \u001b[0;36mget\u001b[0;34m(url, params, **kwargs)\u001b[0m\n\u001b[1;32m     62\u001b[0m \u001b[38;5;28;01mdef\u001b[39;00m \u001b[38;5;21mget\u001b[39m(url, params\u001b[38;5;241m=\u001b[39m\u001b[38;5;28;01mNone\u001b[39;00m, \u001b[38;5;241m*\u001b[39m\u001b[38;5;241m*\u001b[39mkwargs):\n\u001b[1;32m     63\u001b[0m \u001b[38;5;250m    \u001b[39m\u001b[38;5;124mr\u001b[39m\u001b[38;5;124;03m\"\"\"Sends a GET request.\u001b[39;00m\n\u001b[1;32m     64\u001b[0m \n\u001b[1;32m     65\u001b[0m \u001b[38;5;124;03m    :param url: URL for the new :class:`Request` object.\u001b[39;00m\n\u001b[0;32m   (...)\u001b[0m\n\u001b[1;32m     70\u001b[0m \u001b[38;5;124;03m    :rtype: requests.Response\u001b[39;00m\n\u001b[1;32m     71\u001b[0m \u001b[38;5;124;03m    \"\"\"\u001b[39;00m\n\u001b[0;32m---> 73\u001b[0m     \u001b[38;5;28;01mreturn\u001b[39;00m request(\u001b[38;5;124m\"\u001b[39m\u001b[38;5;124mget\u001b[39m\u001b[38;5;124m\"\u001b[39m, url, params\u001b[38;5;241m=\u001b[39mparams, \u001b[38;5;241m*\u001b[39m\u001b[38;5;241m*\u001b[39mkwargs)\n",
      "File \u001b[0;32m/opt/anaconda3/lib/python3.12/site-packages/requests/api.py:59\u001b[0m, in \u001b[0;36mrequest\u001b[0;34m(method, url, **kwargs)\u001b[0m\n\u001b[1;32m     55\u001b[0m \u001b[38;5;66;03m# By using the 'with' statement we are sure the session is closed, thus we\u001b[39;00m\n\u001b[1;32m     56\u001b[0m \u001b[38;5;66;03m# avoid leaving sockets open which can trigger a ResourceWarning in some\u001b[39;00m\n\u001b[1;32m     57\u001b[0m \u001b[38;5;66;03m# cases, and look like a memory leak in others.\u001b[39;00m\n\u001b[1;32m     58\u001b[0m \u001b[38;5;28;01mwith\u001b[39;00m sessions\u001b[38;5;241m.\u001b[39mSession() \u001b[38;5;28;01mas\u001b[39;00m session:\n\u001b[0;32m---> 59\u001b[0m     \u001b[38;5;28;01mreturn\u001b[39;00m session\u001b[38;5;241m.\u001b[39mrequest(method\u001b[38;5;241m=\u001b[39mmethod, url\u001b[38;5;241m=\u001b[39murl, \u001b[38;5;241m*\u001b[39m\u001b[38;5;241m*\u001b[39mkwargs)\n",
      "File \u001b[0;32m/opt/anaconda3/lib/python3.12/site-packages/requests/sessions.py:589\u001b[0m, in \u001b[0;36mSession.request\u001b[0;34m(self, method, url, params, data, headers, cookies, files, auth, timeout, allow_redirects, proxies, hooks, stream, verify, cert, json)\u001b[0m\n\u001b[1;32m    584\u001b[0m send_kwargs \u001b[38;5;241m=\u001b[39m {\n\u001b[1;32m    585\u001b[0m     \u001b[38;5;124m\"\u001b[39m\u001b[38;5;124mtimeout\u001b[39m\u001b[38;5;124m\"\u001b[39m: timeout,\n\u001b[1;32m    586\u001b[0m     \u001b[38;5;124m\"\u001b[39m\u001b[38;5;124mallow_redirects\u001b[39m\u001b[38;5;124m\"\u001b[39m: allow_redirects,\n\u001b[1;32m    587\u001b[0m }\n\u001b[1;32m    588\u001b[0m send_kwargs\u001b[38;5;241m.\u001b[39mupdate(settings)\n\u001b[0;32m--> 589\u001b[0m resp \u001b[38;5;241m=\u001b[39m \u001b[38;5;28mself\u001b[39m\u001b[38;5;241m.\u001b[39msend(prep, \u001b[38;5;241m*\u001b[39m\u001b[38;5;241m*\u001b[39msend_kwargs)\n\u001b[1;32m    591\u001b[0m \u001b[38;5;28;01mreturn\u001b[39;00m resp\n",
      "File \u001b[0;32m/opt/anaconda3/lib/python3.12/site-packages/requests/sessions.py:703\u001b[0m, in \u001b[0;36mSession.send\u001b[0;34m(self, request, **kwargs)\u001b[0m\n\u001b[1;32m    700\u001b[0m start \u001b[38;5;241m=\u001b[39m preferred_clock()\n\u001b[1;32m    702\u001b[0m \u001b[38;5;66;03m# Send the request\u001b[39;00m\n\u001b[0;32m--> 703\u001b[0m r \u001b[38;5;241m=\u001b[39m adapter\u001b[38;5;241m.\u001b[39msend(request, \u001b[38;5;241m*\u001b[39m\u001b[38;5;241m*\u001b[39mkwargs)\n\u001b[1;32m    705\u001b[0m \u001b[38;5;66;03m# Total elapsed time of the request (approximately)\u001b[39;00m\n\u001b[1;32m    706\u001b[0m elapsed \u001b[38;5;241m=\u001b[39m preferred_clock() \u001b[38;5;241m-\u001b[39m start\n",
      "File \u001b[0;32m/opt/anaconda3/lib/python3.12/site-packages/requests/adapters.py:667\u001b[0m, in \u001b[0;36mHTTPAdapter.send\u001b[0;34m(self, request, stream, timeout, verify, cert, proxies)\u001b[0m\n\u001b[1;32m    664\u001b[0m     timeout \u001b[38;5;241m=\u001b[39m TimeoutSauce(connect\u001b[38;5;241m=\u001b[39mtimeout, read\u001b[38;5;241m=\u001b[39mtimeout)\n\u001b[1;32m    666\u001b[0m \u001b[38;5;28;01mtry\u001b[39;00m:\n\u001b[0;32m--> 667\u001b[0m     resp \u001b[38;5;241m=\u001b[39m conn\u001b[38;5;241m.\u001b[39murlopen(\n\u001b[1;32m    668\u001b[0m         method\u001b[38;5;241m=\u001b[39mrequest\u001b[38;5;241m.\u001b[39mmethod,\n\u001b[1;32m    669\u001b[0m         url\u001b[38;5;241m=\u001b[39murl,\n\u001b[1;32m    670\u001b[0m         body\u001b[38;5;241m=\u001b[39mrequest\u001b[38;5;241m.\u001b[39mbody,\n\u001b[1;32m    671\u001b[0m         headers\u001b[38;5;241m=\u001b[39mrequest\u001b[38;5;241m.\u001b[39mheaders,\n\u001b[1;32m    672\u001b[0m         redirect\u001b[38;5;241m=\u001b[39m\u001b[38;5;28;01mFalse\u001b[39;00m,\n\u001b[1;32m    673\u001b[0m         assert_same_host\u001b[38;5;241m=\u001b[39m\u001b[38;5;28;01mFalse\u001b[39;00m,\n\u001b[1;32m    674\u001b[0m         preload_content\u001b[38;5;241m=\u001b[39m\u001b[38;5;28;01mFalse\u001b[39;00m,\n\u001b[1;32m    675\u001b[0m         decode_content\u001b[38;5;241m=\u001b[39m\u001b[38;5;28;01mFalse\u001b[39;00m,\n\u001b[1;32m    676\u001b[0m         retries\u001b[38;5;241m=\u001b[39m\u001b[38;5;28mself\u001b[39m\u001b[38;5;241m.\u001b[39mmax_retries,\n\u001b[1;32m    677\u001b[0m         timeout\u001b[38;5;241m=\u001b[39mtimeout,\n\u001b[1;32m    678\u001b[0m         chunked\u001b[38;5;241m=\u001b[39mchunked,\n\u001b[1;32m    679\u001b[0m     )\n\u001b[1;32m    681\u001b[0m \u001b[38;5;28;01mexcept\u001b[39;00m (ProtocolError, \u001b[38;5;167;01mOSError\u001b[39;00m) \u001b[38;5;28;01mas\u001b[39;00m err:\n\u001b[1;32m    682\u001b[0m     \u001b[38;5;28;01mraise\u001b[39;00m \u001b[38;5;167;01mConnectionError\u001b[39;00m(err, request\u001b[38;5;241m=\u001b[39mrequest)\n",
      "File \u001b[0;32m/opt/anaconda3/lib/python3.12/site-packages/urllib3/connectionpool.py:789\u001b[0m, in \u001b[0;36mHTTPConnectionPool.urlopen\u001b[0;34m(self, method, url, body, headers, retries, redirect, assert_same_host, timeout, pool_timeout, release_conn, chunked, body_pos, preload_content, decode_content, **response_kw)\u001b[0m\n\u001b[1;32m    786\u001b[0m response_conn \u001b[38;5;241m=\u001b[39m conn \u001b[38;5;28;01mif\u001b[39;00m \u001b[38;5;129;01mnot\u001b[39;00m release_conn \u001b[38;5;28;01melse\u001b[39;00m \u001b[38;5;28;01mNone\u001b[39;00m\n\u001b[1;32m    788\u001b[0m \u001b[38;5;66;03m# Make the request on the HTTPConnection object\u001b[39;00m\n\u001b[0;32m--> 789\u001b[0m response \u001b[38;5;241m=\u001b[39m \u001b[38;5;28mself\u001b[39m\u001b[38;5;241m.\u001b[39m_make_request(\n\u001b[1;32m    790\u001b[0m     conn,\n\u001b[1;32m    791\u001b[0m     method,\n\u001b[1;32m    792\u001b[0m     url,\n\u001b[1;32m    793\u001b[0m     timeout\u001b[38;5;241m=\u001b[39mtimeout_obj,\n\u001b[1;32m    794\u001b[0m     body\u001b[38;5;241m=\u001b[39mbody,\n\u001b[1;32m    795\u001b[0m     headers\u001b[38;5;241m=\u001b[39mheaders,\n\u001b[1;32m    796\u001b[0m     chunked\u001b[38;5;241m=\u001b[39mchunked,\n\u001b[1;32m    797\u001b[0m     retries\u001b[38;5;241m=\u001b[39mretries,\n\u001b[1;32m    798\u001b[0m     response_conn\u001b[38;5;241m=\u001b[39mresponse_conn,\n\u001b[1;32m    799\u001b[0m     preload_content\u001b[38;5;241m=\u001b[39mpreload_content,\n\u001b[1;32m    800\u001b[0m     decode_content\u001b[38;5;241m=\u001b[39mdecode_content,\n\u001b[1;32m    801\u001b[0m     \u001b[38;5;241m*\u001b[39m\u001b[38;5;241m*\u001b[39mresponse_kw,\n\u001b[1;32m    802\u001b[0m )\n\u001b[1;32m    804\u001b[0m \u001b[38;5;66;03m# Everything went great!\u001b[39;00m\n\u001b[1;32m    805\u001b[0m clean_exit \u001b[38;5;241m=\u001b[39m \u001b[38;5;28;01mTrue\u001b[39;00m\n",
      "File \u001b[0;32m/opt/anaconda3/lib/python3.12/site-packages/urllib3/connectionpool.py:466\u001b[0m, in \u001b[0;36mHTTPConnectionPool._make_request\u001b[0;34m(self, conn, method, url, body, headers, retries, timeout, chunked, response_conn, preload_content, decode_content, enforce_content_length)\u001b[0m\n\u001b[1;32m    463\u001b[0m \u001b[38;5;28;01mtry\u001b[39;00m:\n\u001b[1;32m    464\u001b[0m     \u001b[38;5;66;03m# Trigger any extra validation we need to do.\u001b[39;00m\n\u001b[1;32m    465\u001b[0m     \u001b[38;5;28;01mtry\u001b[39;00m:\n\u001b[0;32m--> 466\u001b[0m         \u001b[38;5;28mself\u001b[39m\u001b[38;5;241m.\u001b[39m_validate_conn(conn)\n\u001b[1;32m    467\u001b[0m     \u001b[38;5;28;01mexcept\u001b[39;00m (SocketTimeout, BaseSSLError) \u001b[38;5;28;01mas\u001b[39;00m e:\n\u001b[1;32m    468\u001b[0m         \u001b[38;5;28mself\u001b[39m\u001b[38;5;241m.\u001b[39m_raise_timeout(err\u001b[38;5;241m=\u001b[39me, url\u001b[38;5;241m=\u001b[39murl, timeout_value\u001b[38;5;241m=\u001b[39mconn\u001b[38;5;241m.\u001b[39mtimeout)\n",
      "File \u001b[0;32m/opt/anaconda3/lib/python3.12/site-packages/urllib3/connectionpool.py:1095\u001b[0m, in \u001b[0;36mHTTPSConnectionPool._validate_conn\u001b[0;34m(self, conn)\u001b[0m\n\u001b[1;32m   1093\u001b[0m \u001b[38;5;66;03m# Force connect early to allow us to validate the connection.\u001b[39;00m\n\u001b[1;32m   1094\u001b[0m \u001b[38;5;28;01mif\u001b[39;00m conn\u001b[38;5;241m.\u001b[39mis_closed:\n\u001b[0;32m-> 1095\u001b[0m     conn\u001b[38;5;241m.\u001b[39mconnect()\n\u001b[1;32m   1097\u001b[0m \u001b[38;5;66;03m# TODO revise this, see https://github.com/urllib3/urllib3/issues/2791\u001b[39;00m\n\u001b[1;32m   1098\u001b[0m \u001b[38;5;28;01mif\u001b[39;00m \u001b[38;5;129;01mnot\u001b[39;00m conn\u001b[38;5;241m.\u001b[39mis_verified \u001b[38;5;129;01mand\u001b[39;00m \u001b[38;5;129;01mnot\u001b[39;00m conn\u001b[38;5;241m.\u001b[39mproxy_is_verified:\n",
      "File \u001b[0;32m/opt/anaconda3/lib/python3.12/site-packages/urllib3/connection.py:693\u001b[0m, in \u001b[0;36mHTTPSConnection.connect\u001b[0;34m(self)\u001b[0m\n\u001b[1;32m    691\u001b[0m \u001b[38;5;28;01mtry\u001b[39;00m:\n\u001b[1;32m    692\u001b[0m     sock: socket\u001b[38;5;241m.\u001b[39msocket \u001b[38;5;241m|\u001b[39m ssl\u001b[38;5;241m.\u001b[39mSSLSocket\n\u001b[0;32m--> 693\u001b[0m     \u001b[38;5;28mself\u001b[39m\u001b[38;5;241m.\u001b[39msock \u001b[38;5;241m=\u001b[39m sock \u001b[38;5;241m=\u001b[39m \u001b[38;5;28mself\u001b[39m\u001b[38;5;241m.\u001b[39m_new_conn()\n\u001b[1;32m    694\u001b[0m     server_hostname: \u001b[38;5;28mstr\u001b[39m \u001b[38;5;241m=\u001b[39m \u001b[38;5;28mself\u001b[39m\u001b[38;5;241m.\u001b[39mhost\n\u001b[1;32m    695\u001b[0m     tls_in_tls \u001b[38;5;241m=\u001b[39m \u001b[38;5;28;01mFalse\u001b[39;00m\n",
      "File \u001b[0;32m/opt/anaconda3/lib/python3.12/site-packages/urllib3/connection.py:199\u001b[0m, in \u001b[0;36mHTTPConnection._new_conn\u001b[0;34m(self)\u001b[0m\n\u001b[1;32m    194\u001b[0m \u001b[38;5;250m\u001b[39m\u001b[38;5;124;03m\"\"\"Establish a socket connection and set nodelay settings on it.\u001b[39;00m\n\u001b[1;32m    195\u001b[0m \n\u001b[1;32m    196\u001b[0m \u001b[38;5;124;03m:return: New socket connection.\u001b[39;00m\n\u001b[1;32m    197\u001b[0m \u001b[38;5;124;03m\"\"\"\u001b[39;00m\n\u001b[1;32m    198\u001b[0m \u001b[38;5;28;01mtry\u001b[39;00m:\n\u001b[0;32m--> 199\u001b[0m     sock \u001b[38;5;241m=\u001b[39m connection\u001b[38;5;241m.\u001b[39mcreate_connection(\n\u001b[1;32m    200\u001b[0m         (\u001b[38;5;28mself\u001b[39m\u001b[38;5;241m.\u001b[39m_dns_host, \u001b[38;5;28mself\u001b[39m\u001b[38;5;241m.\u001b[39mport),\n\u001b[1;32m    201\u001b[0m         \u001b[38;5;28mself\u001b[39m\u001b[38;5;241m.\u001b[39mtimeout,\n\u001b[1;32m    202\u001b[0m         source_address\u001b[38;5;241m=\u001b[39m\u001b[38;5;28mself\u001b[39m\u001b[38;5;241m.\u001b[39msource_address,\n\u001b[1;32m    203\u001b[0m         socket_options\u001b[38;5;241m=\u001b[39m\u001b[38;5;28mself\u001b[39m\u001b[38;5;241m.\u001b[39msocket_options,\n\u001b[1;32m    204\u001b[0m     )\n\u001b[1;32m    205\u001b[0m \u001b[38;5;28;01mexcept\u001b[39;00m socket\u001b[38;5;241m.\u001b[39mgaierror \u001b[38;5;28;01mas\u001b[39;00m e:\n\u001b[1;32m    206\u001b[0m     \u001b[38;5;28;01mraise\u001b[39;00m NameResolutionError(\u001b[38;5;28mself\u001b[39m\u001b[38;5;241m.\u001b[39mhost, \u001b[38;5;28mself\u001b[39m, e) \u001b[38;5;28;01mfrom\u001b[39;00m \u001b[38;5;21;01me\u001b[39;00m\n",
      "File \u001b[0;32m/opt/anaconda3/lib/python3.12/site-packages/urllib3/util/connection.py:73\u001b[0m, in \u001b[0;36mcreate_connection\u001b[0;34m(address, timeout, source_address, socket_options)\u001b[0m\n\u001b[1;32m     71\u001b[0m \u001b[38;5;28;01mif\u001b[39;00m source_address:\n\u001b[1;32m     72\u001b[0m     sock\u001b[38;5;241m.\u001b[39mbind(source_address)\n\u001b[0;32m---> 73\u001b[0m sock\u001b[38;5;241m.\u001b[39mconnect(sa)\n\u001b[1;32m     74\u001b[0m \u001b[38;5;66;03m# Break explicitly a reference cycle\u001b[39;00m\n\u001b[1;32m     75\u001b[0m err \u001b[38;5;241m=\u001b[39m \u001b[38;5;28;01mNone\u001b[39;00m\n",
      "\u001b[0;31mKeyboardInterrupt\u001b[0m: "
     ]
    }
   ],
   "source": [
    "def publish_date_finder(link):\n",
    "    response = requests.get(link)\n",
    "    soup = BeautifulSoup(response.content, 'html.parser')\n",
    "    date = soup.find('time')['datetime']\n",
    "    return date\n",
    "\n",
    "publish_dates = [publish_date_finder(url) for url in url_finder()]\n",
    "\n",
    "print(f'Publish date amount: {len(publish_dates)}')\n",
    "publish_dates"
   ]
  },
  {
   "cell_type": "code",
   "execution_count": null,
   "metadata": {},
   "outputs": [
    {
     "name": "stdout",
     "output_type": "stream",
     "text": [
      "Author amount: 22\n"
     ]
    },
    {
     "data": {
      "text/plain": [
       "['Kate Whannel',\n",
       " 'Faisal Islam',\n",
       " 'Clara Bullock & Bea Swallow',\n",
       " 'Hugh Pym',\n",
       " 'Jonah Fisher',\n",
       " 'Faisal Islam',\n",
       " 'Dominic Hughes',\n",
       " 'Liv McMahon',\n",
       " 'Clara Bullock & Bea Swallow',\n",
       " 'Unknown',\n",
       " 'Lisa Young',\n",
       " 'Lucy Acheson and Thomas Copeland',\n",
       " 'Hayley Clarke',\n",
       " 'Lynette Horsburgh & Rachael Lazaro',\n",
       " 'Charlotte Cox',\n",
       " 'Megan Bonar',\n",
       " 'Unknown',\n",
       " 'Unknown',\n",
       " 'James Delaney',\n",
       " 'Unknown',\n",
       " 'Ben Price',\n",
       " 'Unknown']"
      ]
     },
     "execution_count": 107,
     "metadata": {},
     "output_type": "execute_result"
    }
   ],
   "source": [
    "def author_finder(link):\n",
    "    response = requests.get(link)\n",
    "    soup = BeautifulSoup(response.content, 'html.parser')\n",
    "    author_tag = soup.find('span', 'kItaYD')\n",
    "    if author_tag:\n",
    "        return author_tag.text.strip()\n",
    "    return 'Unknown'\n",
    "\n",
    "authors = [author_finder(url) for url in url_finder()]\n",
    "\n",
    "print(f'Author amount: {len(authors)}')\n",
    "authors"
   ]
  },
  {
   "cell_type": "markdown",
   "metadata": {},
   "source": [
    "## 3. Scrape All Articles:"
   ]
  },
  {
   "cell_type": "markdown",
   "metadata": {},
   "source": [
    "### Loop through all the collected article links to scrape their contents (May take a long time. So try on a smaller subset to start with). Remember to implement error handling and possibly introduce delays to avoid being blocked."
   ]
  },
  {
   "cell_type": "code",
   "execution_count": null,
   "metadata": {},
   "outputs": [],
   "source": [
    "def combiner(url):\n",
    "    return {'url': url, 'publish_date': publish_date_finder(url), 'author': author_finder(url), 'headline': headline_finder(url), 'summary': summary_finder(url), 'content': content_finder(url)}"
   ]
  },
  {
   "cell_type": "code",
   "execution_count": null,
   "metadata": {},
   "outputs": [
    {
     "ename": "KeyboardInterrupt",
     "evalue": "",
     "output_type": "error",
     "traceback": [
      "\u001b[0;31m---------------------------------------------------------------------------\u001b[0m",
      "\u001b[0;31mKeyboardInterrupt\u001b[0m                         Traceback (most recent call last)",
      "Cell \u001b[0;32mIn[109], line 1\u001b[0m\n\u001b[0;32m----> 1\u001b[0m df \u001b[38;5;241m=\u001b[39m pd\u001b[38;5;241m.\u001b[39mDataFrame([combiner(url) \u001b[38;5;28;01mfor\u001b[39;00m url \u001b[38;5;129;01min\u001b[39;00m unique_urls])\n\u001b[1;32m      2\u001b[0m display(df)\n",
      "Cell \u001b[0;32mIn[108], line 2\u001b[0m, in \u001b[0;36mcombiner\u001b[0;34m(link)\u001b[0m\n\u001b[1;32m      1\u001b[0m \u001b[38;5;28;01mdef\u001b[39;00m \u001b[38;5;21mcombiner\u001b[39m(link):\n\u001b[0;32m----> 2\u001b[0m     \u001b[38;5;28;01mreturn\u001b[39;00m {\u001b[38;5;124m'\u001b[39m\u001b[38;5;124murl\u001b[39m\u001b[38;5;124m'\u001b[39m: link, \u001b[38;5;124m'\u001b[39m\u001b[38;5;124mpublish_date\u001b[39m\u001b[38;5;124m'\u001b[39m: publish_date_finder(link), \u001b[38;5;124m'\u001b[39m\u001b[38;5;124mauthor\u001b[39m\u001b[38;5;124m'\u001b[39m: author_finder(link), \u001b[38;5;124m'\u001b[39m\u001b[38;5;124mheadline\u001b[39m\u001b[38;5;124m'\u001b[39m: headline_finder(link), \u001b[38;5;124m'\u001b[39m\u001b[38;5;124msummary\u001b[39m\u001b[38;5;124m'\u001b[39m: summary_finder(link), \u001b[38;5;124m'\u001b[39m\u001b[38;5;124mcontent\u001b[39m\u001b[38;5;124m'\u001b[39m: content_finder(link)}\n",
      "Cell \u001b[0;32mIn[99], line 2\u001b[0m, in \u001b[0;36mheadline_finder\u001b[0;34m(link)\u001b[0m\n\u001b[1;32m      1\u001b[0m \u001b[38;5;28;01mdef\u001b[39;00m \u001b[38;5;21mheadline_finder\u001b[39m(link):\n\u001b[0;32m----> 2\u001b[0m     response \u001b[38;5;241m=\u001b[39m requests\u001b[38;5;241m.\u001b[39mget(link)\n\u001b[1;32m      3\u001b[0m     headline \u001b[38;5;241m=\u001b[39m BeautifulSoup(response\u001b[38;5;241m.\u001b[39mcontent, \u001b[38;5;124m'\u001b[39m\u001b[38;5;124mhtml.parser\u001b[39m\u001b[38;5;124m'\u001b[39m)\u001b[38;5;241m.\u001b[39mfind(\u001b[38;5;124m'\u001b[39m\u001b[38;5;124mh1\u001b[39m\u001b[38;5;124m'\u001b[39m)\u001b[38;5;241m.\u001b[39mtext\n\u001b[1;32m      4\u001b[0m     \u001b[38;5;28;01mreturn\u001b[39;00m headline\n",
      "File \u001b[0;32m/opt/anaconda3/lib/python3.12/site-packages/requests/api.py:73\u001b[0m, in \u001b[0;36mget\u001b[0;34m(url, params, **kwargs)\u001b[0m\n\u001b[1;32m     62\u001b[0m \u001b[38;5;28;01mdef\u001b[39;00m \u001b[38;5;21mget\u001b[39m(url, params\u001b[38;5;241m=\u001b[39m\u001b[38;5;28;01mNone\u001b[39;00m, \u001b[38;5;241m*\u001b[39m\u001b[38;5;241m*\u001b[39mkwargs):\n\u001b[1;32m     63\u001b[0m \u001b[38;5;250m    \u001b[39m\u001b[38;5;124mr\u001b[39m\u001b[38;5;124;03m\"\"\"Sends a GET request.\u001b[39;00m\n\u001b[1;32m     64\u001b[0m \n\u001b[1;32m     65\u001b[0m \u001b[38;5;124;03m    :param url: URL for the new :class:`Request` object.\u001b[39;00m\n\u001b[0;32m   (...)\u001b[0m\n\u001b[1;32m     70\u001b[0m \u001b[38;5;124;03m    :rtype: requests.Response\u001b[39;00m\n\u001b[1;32m     71\u001b[0m \u001b[38;5;124;03m    \"\"\"\u001b[39;00m\n\u001b[0;32m---> 73\u001b[0m     \u001b[38;5;28;01mreturn\u001b[39;00m request(\u001b[38;5;124m\"\u001b[39m\u001b[38;5;124mget\u001b[39m\u001b[38;5;124m\"\u001b[39m, url, params\u001b[38;5;241m=\u001b[39mparams, \u001b[38;5;241m*\u001b[39m\u001b[38;5;241m*\u001b[39mkwargs)\n",
      "File \u001b[0;32m/opt/anaconda3/lib/python3.12/site-packages/requests/api.py:59\u001b[0m, in \u001b[0;36mrequest\u001b[0;34m(method, url, **kwargs)\u001b[0m\n\u001b[1;32m     55\u001b[0m \u001b[38;5;66;03m# By using the 'with' statement we are sure the session is closed, thus we\u001b[39;00m\n\u001b[1;32m     56\u001b[0m \u001b[38;5;66;03m# avoid leaving sockets open which can trigger a ResourceWarning in some\u001b[39;00m\n\u001b[1;32m     57\u001b[0m \u001b[38;5;66;03m# cases, and look like a memory leak in others.\u001b[39;00m\n\u001b[1;32m     58\u001b[0m \u001b[38;5;28;01mwith\u001b[39;00m sessions\u001b[38;5;241m.\u001b[39mSession() \u001b[38;5;28;01mas\u001b[39;00m session:\n\u001b[0;32m---> 59\u001b[0m     \u001b[38;5;28;01mreturn\u001b[39;00m session\u001b[38;5;241m.\u001b[39mrequest(method\u001b[38;5;241m=\u001b[39mmethod, url\u001b[38;5;241m=\u001b[39murl, \u001b[38;5;241m*\u001b[39m\u001b[38;5;241m*\u001b[39mkwargs)\n",
      "File \u001b[0;32m/opt/anaconda3/lib/python3.12/site-packages/requests/sessions.py:589\u001b[0m, in \u001b[0;36mSession.request\u001b[0;34m(self, method, url, params, data, headers, cookies, files, auth, timeout, allow_redirects, proxies, hooks, stream, verify, cert, json)\u001b[0m\n\u001b[1;32m    584\u001b[0m send_kwargs \u001b[38;5;241m=\u001b[39m {\n\u001b[1;32m    585\u001b[0m     \u001b[38;5;124m\"\u001b[39m\u001b[38;5;124mtimeout\u001b[39m\u001b[38;5;124m\"\u001b[39m: timeout,\n\u001b[1;32m    586\u001b[0m     \u001b[38;5;124m\"\u001b[39m\u001b[38;5;124mallow_redirects\u001b[39m\u001b[38;5;124m\"\u001b[39m: allow_redirects,\n\u001b[1;32m    587\u001b[0m }\n\u001b[1;32m    588\u001b[0m send_kwargs\u001b[38;5;241m.\u001b[39mupdate(settings)\n\u001b[0;32m--> 589\u001b[0m resp \u001b[38;5;241m=\u001b[39m \u001b[38;5;28mself\u001b[39m\u001b[38;5;241m.\u001b[39msend(prep, \u001b[38;5;241m*\u001b[39m\u001b[38;5;241m*\u001b[39msend_kwargs)\n\u001b[1;32m    591\u001b[0m \u001b[38;5;28;01mreturn\u001b[39;00m resp\n",
      "File \u001b[0;32m/opt/anaconda3/lib/python3.12/site-packages/requests/sessions.py:703\u001b[0m, in \u001b[0;36mSession.send\u001b[0;34m(self, request, **kwargs)\u001b[0m\n\u001b[1;32m    700\u001b[0m start \u001b[38;5;241m=\u001b[39m preferred_clock()\n\u001b[1;32m    702\u001b[0m \u001b[38;5;66;03m# Send the request\u001b[39;00m\n\u001b[0;32m--> 703\u001b[0m r \u001b[38;5;241m=\u001b[39m adapter\u001b[38;5;241m.\u001b[39msend(request, \u001b[38;5;241m*\u001b[39m\u001b[38;5;241m*\u001b[39mkwargs)\n\u001b[1;32m    705\u001b[0m \u001b[38;5;66;03m# Total elapsed time of the request (approximately)\u001b[39;00m\n\u001b[1;32m    706\u001b[0m elapsed \u001b[38;5;241m=\u001b[39m preferred_clock() \u001b[38;5;241m-\u001b[39m start\n",
      "File \u001b[0;32m/opt/anaconda3/lib/python3.12/site-packages/requests/adapters.py:667\u001b[0m, in \u001b[0;36mHTTPAdapter.send\u001b[0;34m(self, request, stream, timeout, verify, cert, proxies)\u001b[0m\n\u001b[1;32m    664\u001b[0m     timeout \u001b[38;5;241m=\u001b[39m TimeoutSauce(connect\u001b[38;5;241m=\u001b[39mtimeout, read\u001b[38;5;241m=\u001b[39mtimeout)\n\u001b[1;32m    666\u001b[0m \u001b[38;5;28;01mtry\u001b[39;00m:\n\u001b[0;32m--> 667\u001b[0m     resp \u001b[38;5;241m=\u001b[39m conn\u001b[38;5;241m.\u001b[39murlopen(\n\u001b[1;32m    668\u001b[0m         method\u001b[38;5;241m=\u001b[39mrequest\u001b[38;5;241m.\u001b[39mmethod,\n\u001b[1;32m    669\u001b[0m         url\u001b[38;5;241m=\u001b[39murl,\n\u001b[1;32m    670\u001b[0m         body\u001b[38;5;241m=\u001b[39mrequest\u001b[38;5;241m.\u001b[39mbody,\n\u001b[1;32m    671\u001b[0m         headers\u001b[38;5;241m=\u001b[39mrequest\u001b[38;5;241m.\u001b[39mheaders,\n\u001b[1;32m    672\u001b[0m         redirect\u001b[38;5;241m=\u001b[39m\u001b[38;5;28;01mFalse\u001b[39;00m,\n\u001b[1;32m    673\u001b[0m         assert_same_host\u001b[38;5;241m=\u001b[39m\u001b[38;5;28;01mFalse\u001b[39;00m,\n\u001b[1;32m    674\u001b[0m         preload_content\u001b[38;5;241m=\u001b[39m\u001b[38;5;28;01mFalse\u001b[39;00m,\n\u001b[1;32m    675\u001b[0m         decode_content\u001b[38;5;241m=\u001b[39m\u001b[38;5;28;01mFalse\u001b[39;00m,\n\u001b[1;32m    676\u001b[0m         retries\u001b[38;5;241m=\u001b[39m\u001b[38;5;28mself\u001b[39m\u001b[38;5;241m.\u001b[39mmax_retries,\n\u001b[1;32m    677\u001b[0m         timeout\u001b[38;5;241m=\u001b[39mtimeout,\n\u001b[1;32m    678\u001b[0m         chunked\u001b[38;5;241m=\u001b[39mchunked,\n\u001b[1;32m    679\u001b[0m     )\n\u001b[1;32m    681\u001b[0m \u001b[38;5;28;01mexcept\u001b[39;00m (ProtocolError, \u001b[38;5;167;01mOSError\u001b[39;00m) \u001b[38;5;28;01mas\u001b[39;00m err:\n\u001b[1;32m    682\u001b[0m     \u001b[38;5;28;01mraise\u001b[39;00m \u001b[38;5;167;01mConnectionError\u001b[39;00m(err, request\u001b[38;5;241m=\u001b[39mrequest)\n",
      "File \u001b[0;32m/opt/anaconda3/lib/python3.12/site-packages/urllib3/connectionpool.py:789\u001b[0m, in \u001b[0;36mHTTPConnectionPool.urlopen\u001b[0;34m(self, method, url, body, headers, retries, redirect, assert_same_host, timeout, pool_timeout, release_conn, chunked, body_pos, preload_content, decode_content, **response_kw)\u001b[0m\n\u001b[1;32m    786\u001b[0m response_conn \u001b[38;5;241m=\u001b[39m conn \u001b[38;5;28;01mif\u001b[39;00m \u001b[38;5;129;01mnot\u001b[39;00m release_conn \u001b[38;5;28;01melse\u001b[39;00m \u001b[38;5;28;01mNone\u001b[39;00m\n\u001b[1;32m    788\u001b[0m \u001b[38;5;66;03m# Make the request on the HTTPConnection object\u001b[39;00m\n\u001b[0;32m--> 789\u001b[0m response \u001b[38;5;241m=\u001b[39m \u001b[38;5;28mself\u001b[39m\u001b[38;5;241m.\u001b[39m_make_request(\n\u001b[1;32m    790\u001b[0m     conn,\n\u001b[1;32m    791\u001b[0m     method,\n\u001b[1;32m    792\u001b[0m     url,\n\u001b[1;32m    793\u001b[0m     timeout\u001b[38;5;241m=\u001b[39mtimeout_obj,\n\u001b[1;32m    794\u001b[0m     body\u001b[38;5;241m=\u001b[39mbody,\n\u001b[1;32m    795\u001b[0m     headers\u001b[38;5;241m=\u001b[39mheaders,\n\u001b[1;32m    796\u001b[0m     chunked\u001b[38;5;241m=\u001b[39mchunked,\n\u001b[1;32m    797\u001b[0m     retries\u001b[38;5;241m=\u001b[39mretries,\n\u001b[1;32m    798\u001b[0m     response_conn\u001b[38;5;241m=\u001b[39mresponse_conn,\n\u001b[1;32m    799\u001b[0m     preload_content\u001b[38;5;241m=\u001b[39mpreload_content,\n\u001b[1;32m    800\u001b[0m     decode_content\u001b[38;5;241m=\u001b[39mdecode_content,\n\u001b[1;32m    801\u001b[0m     \u001b[38;5;241m*\u001b[39m\u001b[38;5;241m*\u001b[39mresponse_kw,\n\u001b[1;32m    802\u001b[0m )\n\u001b[1;32m    804\u001b[0m \u001b[38;5;66;03m# Everything went great!\u001b[39;00m\n\u001b[1;32m    805\u001b[0m clean_exit \u001b[38;5;241m=\u001b[39m \u001b[38;5;28;01mTrue\u001b[39;00m\n",
      "File \u001b[0;32m/opt/anaconda3/lib/python3.12/site-packages/urllib3/connectionpool.py:466\u001b[0m, in \u001b[0;36mHTTPConnectionPool._make_request\u001b[0;34m(self, conn, method, url, body, headers, retries, timeout, chunked, response_conn, preload_content, decode_content, enforce_content_length)\u001b[0m\n\u001b[1;32m    463\u001b[0m \u001b[38;5;28;01mtry\u001b[39;00m:\n\u001b[1;32m    464\u001b[0m     \u001b[38;5;66;03m# Trigger any extra validation we need to do.\u001b[39;00m\n\u001b[1;32m    465\u001b[0m     \u001b[38;5;28;01mtry\u001b[39;00m:\n\u001b[0;32m--> 466\u001b[0m         \u001b[38;5;28mself\u001b[39m\u001b[38;5;241m.\u001b[39m_validate_conn(conn)\n\u001b[1;32m    467\u001b[0m     \u001b[38;5;28;01mexcept\u001b[39;00m (SocketTimeout, BaseSSLError) \u001b[38;5;28;01mas\u001b[39;00m e:\n\u001b[1;32m    468\u001b[0m         \u001b[38;5;28mself\u001b[39m\u001b[38;5;241m.\u001b[39m_raise_timeout(err\u001b[38;5;241m=\u001b[39me, url\u001b[38;5;241m=\u001b[39murl, timeout_value\u001b[38;5;241m=\u001b[39mconn\u001b[38;5;241m.\u001b[39mtimeout)\n",
      "File \u001b[0;32m/opt/anaconda3/lib/python3.12/site-packages/urllib3/connectionpool.py:1095\u001b[0m, in \u001b[0;36mHTTPSConnectionPool._validate_conn\u001b[0;34m(self, conn)\u001b[0m\n\u001b[1;32m   1093\u001b[0m \u001b[38;5;66;03m# Force connect early to allow us to validate the connection.\u001b[39;00m\n\u001b[1;32m   1094\u001b[0m \u001b[38;5;28;01mif\u001b[39;00m conn\u001b[38;5;241m.\u001b[39mis_closed:\n\u001b[0;32m-> 1095\u001b[0m     conn\u001b[38;5;241m.\u001b[39mconnect()\n\u001b[1;32m   1097\u001b[0m \u001b[38;5;66;03m# TODO revise this, see https://github.com/urllib3/urllib3/issues/2791\u001b[39;00m\n\u001b[1;32m   1098\u001b[0m \u001b[38;5;28;01mif\u001b[39;00m \u001b[38;5;129;01mnot\u001b[39;00m conn\u001b[38;5;241m.\u001b[39mis_verified \u001b[38;5;129;01mand\u001b[39;00m \u001b[38;5;129;01mnot\u001b[39;00m conn\u001b[38;5;241m.\u001b[39mproxy_is_verified:\n",
      "File \u001b[0;32m/opt/anaconda3/lib/python3.12/site-packages/urllib3/connection.py:730\u001b[0m, in \u001b[0;36mHTTPSConnection.connect\u001b[0;34m(self)\u001b[0m\n\u001b[1;32m    727\u001b[0m     \u001b[38;5;66;03m# Remove trailing '.' from fqdn hostnames to allow certificate validation\u001b[39;00m\n\u001b[1;32m    728\u001b[0m     server_hostname_rm_dot \u001b[38;5;241m=\u001b[39m server_hostname\u001b[38;5;241m.\u001b[39mrstrip(\u001b[38;5;124m\"\u001b[39m\u001b[38;5;124m.\u001b[39m\u001b[38;5;124m\"\u001b[39m)\n\u001b[0;32m--> 730\u001b[0m     sock_and_verified \u001b[38;5;241m=\u001b[39m _ssl_wrap_socket_and_match_hostname(\n\u001b[1;32m    731\u001b[0m         sock\u001b[38;5;241m=\u001b[39msock,\n\u001b[1;32m    732\u001b[0m         cert_reqs\u001b[38;5;241m=\u001b[39m\u001b[38;5;28mself\u001b[39m\u001b[38;5;241m.\u001b[39mcert_reqs,\n\u001b[1;32m    733\u001b[0m         ssl_version\u001b[38;5;241m=\u001b[39m\u001b[38;5;28mself\u001b[39m\u001b[38;5;241m.\u001b[39mssl_version,\n\u001b[1;32m    734\u001b[0m         ssl_minimum_version\u001b[38;5;241m=\u001b[39m\u001b[38;5;28mself\u001b[39m\u001b[38;5;241m.\u001b[39mssl_minimum_version,\n\u001b[1;32m    735\u001b[0m         ssl_maximum_version\u001b[38;5;241m=\u001b[39m\u001b[38;5;28mself\u001b[39m\u001b[38;5;241m.\u001b[39mssl_maximum_version,\n\u001b[1;32m    736\u001b[0m         ca_certs\u001b[38;5;241m=\u001b[39m\u001b[38;5;28mself\u001b[39m\u001b[38;5;241m.\u001b[39mca_certs,\n\u001b[1;32m    737\u001b[0m         ca_cert_dir\u001b[38;5;241m=\u001b[39m\u001b[38;5;28mself\u001b[39m\u001b[38;5;241m.\u001b[39mca_cert_dir,\n\u001b[1;32m    738\u001b[0m         ca_cert_data\u001b[38;5;241m=\u001b[39m\u001b[38;5;28mself\u001b[39m\u001b[38;5;241m.\u001b[39mca_cert_data,\n\u001b[1;32m    739\u001b[0m         cert_file\u001b[38;5;241m=\u001b[39m\u001b[38;5;28mself\u001b[39m\u001b[38;5;241m.\u001b[39mcert_file,\n\u001b[1;32m    740\u001b[0m         key_file\u001b[38;5;241m=\u001b[39m\u001b[38;5;28mself\u001b[39m\u001b[38;5;241m.\u001b[39mkey_file,\n\u001b[1;32m    741\u001b[0m         key_password\u001b[38;5;241m=\u001b[39m\u001b[38;5;28mself\u001b[39m\u001b[38;5;241m.\u001b[39mkey_password,\n\u001b[1;32m    742\u001b[0m         server_hostname\u001b[38;5;241m=\u001b[39mserver_hostname_rm_dot,\n\u001b[1;32m    743\u001b[0m         ssl_context\u001b[38;5;241m=\u001b[39m\u001b[38;5;28mself\u001b[39m\u001b[38;5;241m.\u001b[39mssl_context,\n\u001b[1;32m    744\u001b[0m         tls_in_tls\u001b[38;5;241m=\u001b[39mtls_in_tls,\n\u001b[1;32m    745\u001b[0m         assert_hostname\u001b[38;5;241m=\u001b[39m\u001b[38;5;28mself\u001b[39m\u001b[38;5;241m.\u001b[39massert_hostname,\n\u001b[1;32m    746\u001b[0m         assert_fingerprint\u001b[38;5;241m=\u001b[39m\u001b[38;5;28mself\u001b[39m\u001b[38;5;241m.\u001b[39massert_fingerprint,\n\u001b[1;32m    747\u001b[0m     )\n\u001b[1;32m    748\u001b[0m     \u001b[38;5;28mself\u001b[39m\u001b[38;5;241m.\u001b[39msock \u001b[38;5;241m=\u001b[39m sock_and_verified\u001b[38;5;241m.\u001b[39msocket\n\u001b[1;32m    750\u001b[0m \u001b[38;5;66;03m# If an error occurs during connection/handshake we may need to release\u001b[39;00m\n\u001b[1;32m    751\u001b[0m \u001b[38;5;66;03m# our lock so another connection can probe the origin.\u001b[39;00m\n",
      "File \u001b[0;32m/opt/anaconda3/lib/python3.12/site-packages/urllib3/connection.py:909\u001b[0m, in \u001b[0;36m_ssl_wrap_socket_and_match_hostname\u001b[0;34m(sock, cert_reqs, ssl_version, ssl_minimum_version, ssl_maximum_version, cert_file, key_file, key_password, ca_certs, ca_cert_dir, ca_cert_data, assert_hostname, assert_fingerprint, server_hostname, ssl_context, tls_in_tls)\u001b[0m\n\u001b[1;32m    906\u001b[0m     \u001b[38;5;28;01mif\u001b[39;00m is_ipaddress(normalized):\n\u001b[1;32m    907\u001b[0m         server_hostname \u001b[38;5;241m=\u001b[39m normalized\n\u001b[0;32m--> 909\u001b[0m ssl_sock \u001b[38;5;241m=\u001b[39m ssl_wrap_socket(\n\u001b[1;32m    910\u001b[0m     sock\u001b[38;5;241m=\u001b[39msock,\n\u001b[1;32m    911\u001b[0m     keyfile\u001b[38;5;241m=\u001b[39mkey_file,\n\u001b[1;32m    912\u001b[0m     certfile\u001b[38;5;241m=\u001b[39mcert_file,\n\u001b[1;32m    913\u001b[0m     key_password\u001b[38;5;241m=\u001b[39mkey_password,\n\u001b[1;32m    914\u001b[0m     ca_certs\u001b[38;5;241m=\u001b[39mca_certs,\n\u001b[1;32m    915\u001b[0m     ca_cert_dir\u001b[38;5;241m=\u001b[39mca_cert_dir,\n\u001b[1;32m    916\u001b[0m     ca_cert_data\u001b[38;5;241m=\u001b[39mca_cert_data,\n\u001b[1;32m    917\u001b[0m     server_hostname\u001b[38;5;241m=\u001b[39mserver_hostname,\n\u001b[1;32m    918\u001b[0m     ssl_context\u001b[38;5;241m=\u001b[39mcontext,\n\u001b[1;32m    919\u001b[0m     tls_in_tls\u001b[38;5;241m=\u001b[39mtls_in_tls,\n\u001b[1;32m    920\u001b[0m )\n\u001b[1;32m    922\u001b[0m \u001b[38;5;28;01mtry\u001b[39;00m:\n\u001b[1;32m    923\u001b[0m     \u001b[38;5;28;01mif\u001b[39;00m assert_fingerprint:\n",
      "File \u001b[0;32m/opt/anaconda3/lib/python3.12/site-packages/urllib3/util/ssl_.py:469\u001b[0m, in \u001b[0;36mssl_wrap_socket\u001b[0;34m(sock, keyfile, certfile, cert_reqs, ca_certs, server_hostname, ssl_version, ciphers, ssl_context, ca_cert_dir, key_password, ca_cert_data, tls_in_tls)\u001b[0m\n\u001b[1;32m    465\u001b[0m         context\u001b[38;5;241m.\u001b[39mload_cert_chain(certfile, keyfile, key_password)\n\u001b[1;32m    467\u001b[0m context\u001b[38;5;241m.\u001b[39mset_alpn_protocols(ALPN_PROTOCOLS)\n\u001b[0;32m--> 469\u001b[0m ssl_sock \u001b[38;5;241m=\u001b[39m _ssl_wrap_socket_impl(sock, context, tls_in_tls, server_hostname)\n\u001b[1;32m    470\u001b[0m \u001b[38;5;28;01mreturn\u001b[39;00m ssl_sock\n",
      "File \u001b[0;32m/opt/anaconda3/lib/python3.12/site-packages/urllib3/util/ssl_.py:513\u001b[0m, in \u001b[0;36m_ssl_wrap_socket_impl\u001b[0;34m(sock, ssl_context, tls_in_tls, server_hostname)\u001b[0m\n\u001b[1;32m    510\u001b[0m     SSLTransport\u001b[38;5;241m.\u001b[39m_validate_ssl_context_for_tls_in_tls(ssl_context)\n\u001b[1;32m    511\u001b[0m     \u001b[38;5;28;01mreturn\u001b[39;00m SSLTransport(sock, ssl_context, server_hostname)\n\u001b[0;32m--> 513\u001b[0m \u001b[38;5;28;01mreturn\u001b[39;00m ssl_context\u001b[38;5;241m.\u001b[39mwrap_socket(sock, server_hostname\u001b[38;5;241m=\u001b[39mserver_hostname)\n",
      "File \u001b[0;32m/opt/anaconda3/lib/python3.12/ssl.py:455\u001b[0m, in \u001b[0;36mSSLContext.wrap_socket\u001b[0;34m(self, sock, server_side, do_handshake_on_connect, suppress_ragged_eofs, server_hostname, session)\u001b[0m\n\u001b[1;32m    449\u001b[0m \u001b[38;5;28;01mdef\u001b[39;00m \u001b[38;5;21mwrap_socket\u001b[39m(\u001b[38;5;28mself\u001b[39m, sock, server_side\u001b[38;5;241m=\u001b[39m\u001b[38;5;28;01mFalse\u001b[39;00m,\n\u001b[1;32m    450\u001b[0m                 do_handshake_on_connect\u001b[38;5;241m=\u001b[39m\u001b[38;5;28;01mTrue\u001b[39;00m,\n\u001b[1;32m    451\u001b[0m                 suppress_ragged_eofs\u001b[38;5;241m=\u001b[39m\u001b[38;5;28;01mTrue\u001b[39;00m,\n\u001b[1;32m    452\u001b[0m                 server_hostname\u001b[38;5;241m=\u001b[39m\u001b[38;5;28;01mNone\u001b[39;00m, session\u001b[38;5;241m=\u001b[39m\u001b[38;5;28;01mNone\u001b[39;00m):\n\u001b[1;32m    453\u001b[0m     \u001b[38;5;66;03m# SSLSocket class handles server_hostname encoding before it calls\u001b[39;00m\n\u001b[1;32m    454\u001b[0m     \u001b[38;5;66;03m# ctx._wrap_socket()\u001b[39;00m\n\u001b[0;32m--> 455\u001b[0m     \u001b[38;5;28;01mreturn\u001b[39;00m \u001b[38;5;28mself\u001b[39m\u001b[38;5;241m.\u001b[39msslsocket_class\u001b[38;5;241m.\u001b[39m_create(\n\u001b[1;32m    456\u001b[0m         sock\u001b[38;5;241m=\u001b[39msock,\n\u001b[1;32m    457\u001b[0m         server_side\u001b[38;5;241m=\u001b[39mserver_side,\n\u001b[1;32m    458\u001b[0m         do_handshake_on_connect\u001b[38;5;241m=\u001b[39mdo_handshake_on_connect,\n\u001b[1;32m    459\u001b[0m         suppress_ragged_eofs\u001b[38;5;241m=\u001b[39msuppress_ragged_eofs,\n\u001b[1;32m    460\u001b[0m         server_hostname\u001b[38;5;241m=\u001b[39mserver_hostname,\n\u001b[1;32m    461\u001b[0m         context\u001b[38;5;241m=\u001b[39m\u001b[38;5;28mself\u001b[39m,\n\u001b[1;32m    462\u001b[0m         session\u001b[38;5;241m=\u001b[39msession\n\u001b[1;32m    463\u001b[0m     )\n",
      "File \u001b[0;32m/opt/anaconda3/lib/python3.12/ssl.py:1042\u001b[0m, in \u001b[0;36mSSLSocket._create\u001b[0;34m(cls, sock, server_side, do_handshake_on_connect, suppress_ragged_eofs, server_hostname, context, session)\u001b[0m\n\u001b[1;32m   1039\u001b[0m             \u001b[38;5;28;01mif\u001b[39;00m timeout \u001b[38;5;241m==\u001b[39m \u001b[38;5;241m0.0\u001b[39m:\n\u001b[1;32m   1040\u001b[0m                 \u001b[38;5;66;03m# non-blocking\u001b[39;00m\n\u001b[1;32m   1041\u001b[0m                 \u001b[38;5;28;01mraise\u001b[39;00m \u001b[38;5;167;01mValueError\u001b[39;00m(\u001b[38;5;124m\"\u001b[39m\u001b[38;5;124mdo_handshake_on_connect should not be specified for non-blocking sockets\u001b[39m\u001b[38;5;124m\"\u001b[39m)\n\u001b[0;32m-> 1042\u001b[0m             \u001b[38;5;28mself\u001b[39m\u001b[38;5;241m.\u001b[39mdo_handshake()\n\u001b[1;32m   1043\u001b[0m \u001b[38;5;28;01mexcept\u001b[39;00m:\n\u001b[1;32m   1044\u001b[0m     \u001b[38;5;28;01mtry\u001b[39;00m:\n",
      "File \u001b[0;32m/opt/anaconda3/lib/python3.12/ssl.py:1320\u001b[0m, in \u001b[0;36mSSLSocket.do_handshake\u001b[0;34m(self, block)\u001b[0m\n\u001b[1;32m   1318\u001b[0m     \u001b[38;5;28;01mif\u001b[39;00m timeout \u001b[38;5;241m==\u001b[39m \u001b[38;5;241m0.0\u001b[39m \u001b[38;5;129;01mand\u001b[39;00m block:\n\u001b[1;32m   1319\u001b[0m         \u001b[38;5;28mself\u001b[39m\u001b[38;5;241m.\u001b[39msettimeout(\u001b[38;5;28;01mNone\u001b[39;00m)\n\u001b[0;32m-> 1320\u001b[0m     \u001b[38;5;28mself\u001b[39m\u001b[38;5;241m.\u001b[39m_sslobj\u001b[38;5;241m.\u001b[39mdo_handshake()\n\u001b[1;32m   1321\u001b[0m \u001b[38;5;28;01mfinally\u001b[39;00m:\n\u001b[1;32m   1322\u001b[0m     \u001b[38;5;28mself\u001b[39m\u001b[38;5;241m.\u001b[39msettimeout(timeout)\n",
      "\u001b[0;31mKeyboardInterrupt\u001b[0m: "
     ]
    }
   ],
   "source": [
    "df = pd.DataFrame([combiner(url) for url in unique_urls])\n",
    "display(df)"
   ]
  },
  {
   "cell_type": "markdown",
   "metadata": {},
   "source": [
    "## 4. Data Storage:"
   ]
  },
  {
   "cell_type": "markdown",
   "metadata": {},
   "source": [
    "### Save the scraped article data to a file."
   ]
  },
  {
   "cell_type": "code",
   "execution_count": null,
   "metadata": {},
   "outputs": [],
   "source": [
    "df.to_csv('scraped_news.csv', index=False)"
   ]
  },
  {
   "cell_type": "markdown",
   "metadata": {},
   "source": [
    "## 5. Discussion:"
   ]
  },
  {
   "cell_type": "markdown",
   "metadata": {},
   "source": [
    "### Discuss whether it would make sense to include this newly acquired data in the dataset. Argue why or why not and if possible include statistics to support your claim."
   ]
  },
  {
   "cell_type": "markdown",
   "metadata": {},
   "source": [
    "# Part 4: Preservation"
   ]
  },
  {
   "cell_type": "markdown",
   "metadata": {},
   "source": [
    "### Keep the data that you have scraped so you can use it for your Group Project!"
   ]
  }
 ],
 "metadata": {
  "kernelspec": {
   "display_name": "base",
   "language": "python",
   "name": "python3"
  },
  "language_info": {
   "codemirror_mode": {
    "name": "ipython",
    "version": 3
   },
   "file_extension": ".py",
   "mimetype": "text/x-python",
   "name": "python",
   "nbconvert_exporter": "python",
   "pygments_lexer": "ipython3",
   "version": "3.12.3"
  }
 },
 "nbformat": 4,
 "nbformat_minor": 2
}
