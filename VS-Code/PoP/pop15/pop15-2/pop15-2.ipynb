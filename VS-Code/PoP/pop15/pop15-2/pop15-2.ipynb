{
 "cells": [
  {
   "cell_type": "code",
   "execution_count": 12,
   "metadata": {},
   "outputs": [
    {
     "name": "stdout",
     "output_type": "stream",
     "text": [
      "Do nothing\n"
     ]
    }
   ],
   "source": [
    "class DoNothing: \n",
    "    \"Do nothing\"\n",
    "\n",
    "    def apply(self, input): \n",
    "        return input \n",
    "\n",
    "    def description(self) -> str: \n",
    "        # see https://www.w3schools.com/python/ref_string_lower.asp Links to an external site.for documentation of the lower() function\n",
    "        return self.__doc__.lower() \n",
    "\n",
    "print(DoNothing.__doc__)"
   ]
  },
  {
   "cell_type": "code",
   "execution_count": 34,
   "metadata": {},
   "outputs": [
    {
     "name": "stdout",
     "output_type": "stream",
     "text": [
      "Adds a const to an existing value\n",
      "30\n"
     ]
    }
   ],
   "source": [
    "class AddConst:\n",
    "    \"Adds a const to an existing value\"\n",
    "\n",
    "    def __init__(self, c):\n",
    "        self.c = c\n",
    "\n",
    "    def apply(self, input):\n",
    "        return self.c + input\n",
    "    \n",
    "    def description(self) -> str:\n",
    "        return self.__doc__.lower()\n",
    "\n",
    "print(AddConst.__doc__)\n",
    "print(AddConst(20).apply(10))"
   ]
  },
  {
   "cell_type": "code",
   "execution_count": 1,
   "metadata": {},
   "outputs": [
    {
     "name": "stdout",
     "output_type": "stream",
     "text": [
      "Creates a list with 'num' elements of value: 'input'\n",
      "[]\n",
      "[20, 20, 20, 20, 20]\n"
     ]
    }
   ],
   "source": [
    "class Repeater:\n",
    "    \"Creates a list with 'num' elements of value: 'input'\"\n",
    "\n",
    "    def __init__(self, num):\n",
    "        self.num = num\n",
    "    \n",
    "    def apply(self, input):\n",
    "        l = []\n",
    "        i = self.num\n",
    "        if i <= 0:\n",
    "            return l\n",
    "        else:\n",
    "            while i > 0:\n",
    "                l.append(input)\n",
    "                i += -1\n",
    "            return l\n",
    "\n",
    "print(Repeater.__doc__)\n",
    "print(Repeater(0).apply(10))\n",
    "print(Repeater(5).apply(20))"
   ]
  },
  {
   "cell_type": "code",
   "execution_count": 79,
   "metadata": {},
   "outputs": [
    {
     "name": "stdout",
     "output_type": "stream",
     "text": [
      "Runs a given operator on the given list\n",
      "15\n",
      "-15\n",
      "120\n",
      "0.008333333333333333\n",
      "Invalid inputs\n"
     ]
    }
   ],
   "source": [
    "class Group:\n",
    "    \"Runs a given operator on the given list\"\n",
    "\n",
    "    def __init__(self, operator):\n",
    "        self.operator = operator\n",
    "\n",
    "    def apply(self, list: list):\n",
    "        i = 0\n",
    "        if self.operator == \"+\":\n",
    "            result = 0\n",
    "        elif self.operator == \"-\":\n",
    "            result = 0\n",
    "        elif self.operator == \"*\":\n",
    "            result = 1\n",
    "        elif self.operator == \"/\":\n",
    "            result = 1\n",
    "        else:\n",
    "            return \"Invalid inputs\"\n",
    "        while i < len(list):\n",
    "            if self.operator == \"+\":\n",
    "                result = result + list[i]\n",
    "            elif self.operator == \"-\":\n",
    "                result = result - list[i]\n",
    "            elif self.operator == \"*\":\n",
    "                result = result * list[i]\n",
    "            elif self.operator == \"/\":\n",
    "                result = result / list[i]\n",
    "            else:\n",
    "                return \"Invalid inputs\"\n",
    "            i += 1\n",
    "        return result\n",
    "\n",
    "print(Group.__doc__)\n",
    "print(Group(\"+\").apply([1, 2, 3, 4, 5]))\n",
    "print(Group(\"-\").apply([1, 2, 3, 4, 5]))\n",
    "print(Group(\"*\").apply([1, 2, 3, 4, 5]))\n",
    "print(Group(\"/\").apply([1, 2, 3, 4, 5]))\n",
    "print(Group(\"Æ\").apply([1, 2, 3, 4, 5]))"
   ]
  },
  {
   "cell_type": "code",
   "execution_count": 80,
   "metadata": {},
   "outputs": [
    {
     "name": "stdout",
     "output_type": "stream",
     "text": [
      "Adds elements of a list to each other using inheritance from Group\n",
      "15\n"
     ]
    }
   ],
   "source": [
    "class Sum(Group):\n",
    "    \"Adds elements of a list to each other using inheritance from Group\"\n",
    "\n",
    "    def __init__(self):\n",
    "        super().__init__\n",
    "        self.operator = \"+\"\n",
    "\n",
    "print(Sum().__doc__)\n",
    "print(Sum().apply([1,2,3,4,5]))"
   ]
  },
  {
   "cell_type": "code",
   "execution_count": 81,
   "metadata": {},
   "outputs": [
    {
     "name": "stdout",
     "output_type": "stream",
     "text": [
      "Mlitiplies elements of a list to each other using inheritance from Group\n",
      "120\n"
     ]
    }
   ],
   "source": [
    "class Prod(Group):\n",
    "    \"Mlitiplies elements of a list to each other using inheritance from Group\"\n",
    "\n",
    "    def __init__(self):\n",
    "        super().__init__\n",
    "        self.operator = \"*\"\n",
    "\n",
    "print(Prod().__doc__)\n",
    "print(Prod().apply([1,2,3,4,5]))"
   ]
  },
  {
   "cell_type": "code",
   "execution_count": 91,
   "metadata": {},
   "outputs": [
    {
     "name": "stdout",
     "output_type": "stream",
     "text": [
      "Takes a function and runs the elements on the function\n",
      "<generator object Map.apply.<locals>.<genexpr> at 0x10b334740>\n"
     ]
    }
   ],
   "source": [
    "class Map:\n",
    "    \"Takes a function and runs the elements on the function\"\n",
    "\n",
    "    def __init__(self, fun):\n",
    "        self.fun = fun\n",
    "\n",
    "    def apply(self, input: list):\n",
    "        return (self.fun(e) for e in input)\n",
    "    \n",
    "print(Map.__doc__)\n",
    "print(Map(sum).apply([1,2]))"
   ]
  }
 ],
 "metadata": {
  "kernelspec": {
   "display_name": "base",
   "language": "python",
   "name": "python3"
  },
  "language_info": {
   "codemirror_mode": {
    "name": "ipython",
    "version": 3
   },
   "file_extension": ".py",
   "mimetype": "text/x-python",
   "name": "python",
   "nbconvert_exporter": "python",
   "pygments_lexer": "ipython3",
   "version": "3.12.3"
  }
 },
 "nbformat": 4,
 "nbformat_minor": 2
}
