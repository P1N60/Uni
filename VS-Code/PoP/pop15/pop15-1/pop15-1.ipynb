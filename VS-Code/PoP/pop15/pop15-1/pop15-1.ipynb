{
 "cells": [
  {
   "cell_type": "code",
   "execution_count": 5,
   "metadata": {},
   "outputs": [
    {
     "name": "stdout",
     "output_type": "stream",
     "text": [
      "[1, 2, 3]\n"
     ]
    }
   ],
   "source": [
    "type intList = list[int]\n",
    "l: intList = [1,2,3]\n",
    "print(l)"
   ]
  },
  {
   "cell_type": "code",
   "execution_count": 19,
   "metadata": {},
   "outputs": [
    {
     "name": "stdout",
     "output_type": "stream",
     "text": [
      "Size: Big\n",
      "Meat: 10.0g\n",
      "Veggies: 5.0g\n",
      "\n"
     ]
    }
   ],
   "source": [
    "type pizza = list[bool, float, float]\n",
    "pizza1: pizza = [True, 10.0, 5.0]\n",
    "\n",
    "def pizzaViewer(pizza):\n",
    "    if pizza[0] == True:\n",
    "        print(\"Size: Big\")\n",
    "    else:\n",
    "        print(\"Size: Small\")\n",
    "    print(f\"Meat: {pizza[1]}g\")\n",
    "    print(f\"Veggies: {pizza[2]}g\")\n",
    "    return \"\"\n",
    "\n",
    "print(pizzaViewer(pizza1))"
   ]
  },
  {
   "cell_type": "code",
   "execution_count": 38,
   "metadata": {},
   "outputs": [],
   "source": [
    "type country = str\n",
    "type neighbour = [country * country]\n",
    "neighbours: list[neighbour] = [[\"da\", \"no\"], [\"da\", \"se\"], [\"se\", \"no\"], [\"da\", \"de\"]]"
   ]
  },
  {
   "cell_type": "code",
   "execution_count": 45,
   "metadata": {},
   "outputs": [],
   "source": [
    "def coloredContries(list: list[neighbour]):\n",
    "    for relation in list:\n",
    "        land1 = relation[0]\n",
    "        land2 = relation[1]\n",
    "        if land1 != \"red\" and land1 != \"blue\" and land1 != \"green\":\n",
    "            if land2 != \"red\" and land2 != \"blue\" and land2 != \"green\":\n",
    "                land1 = \"red\"\n",
    "        relation[0] = land1\n",
    "        relation[1] = land2\n",
    "        print(relation)\n",
    "    return \"\"\n"
   ]
  },
  {
   "cell_type": "code",
   "execution_count": 46,
   "metadata": {},
   "outputs": [
    {
     "name": "stdout",
     "output_type": "stream",
     "text": [
      "['red', 'no']\n",
      "['red', 'se']\n",
      "['red', 'no']\n",
      "['red', 'de']\n",
      "\n"
     ]
    }
   ],
   "source": [
    "print(coloredContries(neighbours))"
   ]
  },
  {
   "cell_type": "code",
   "execution_count": null,
   "metadata": {},
   "outputs": [],
   "source": []
  }
 ],
 "metadata": {
  "kernelspec": {
   "display_name": "Python 3",
   "language": "python",
   "name": "python3"
  },
  "language_info": {
   "codemirror_mode": {
    "name": "ipython",
    "version": 3
   },
   "file_extension": ".py",
   "mimetype": "text/x-python",
   "name": "python",
   "nbconvert_exporter": "python",
   "pygments_lexer": "ipython3",
   "version": "3.12.4"
  }
 },
 "nbformat": 4,
 "nbformat_minor": 2
}
