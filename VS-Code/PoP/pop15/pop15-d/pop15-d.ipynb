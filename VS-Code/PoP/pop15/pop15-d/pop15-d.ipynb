{
 "cells": [
  {
   "cell_type": "code",
   "execution_count": 32,
   "metadata": {},
   "outputs": [],
   "source": [
    "class Pizza:\n",
    "    def __init__(self, size, toppings):\n",
    "        self.size = size\n",
    "        self.toppings = toppings\n",
    "\n",
    "    def __str__(self):\n",
    "        return f\"size: {self.size}, toppings: {self.toppings}\"\n",
    "    \n",
    "    def price(self):\n",
    "        if self.size == \"normal\":\n",
    "            return 20 + len(self.toppings) * 15\n",
    "        else:\n",
    "            return 30 + len(self.toppings) * 18\n",
    "\n",
    "    def getSize(self):\n",
    "        return self.size\n",
    "    \n",
    "    def getToppings(self):\n",
    "        return self.toppings\n",
    "    \n",
    "    def addTopping(self, addedTopping):\n",
    "        self.toppings.append(addedTopping)\n",
    "\n",
    "        "
   ]
  },
  {
   "cell_type": "code",
   "execution_count": 46,
   "metadata": {},
   "outputs": [
    {
     "name": "stdout",
     "output_type": "stream",
     "text": [
      "size: family, toppings: ['tomato', 'cheese']\n",
      "66\n",
      "size: family, toppings: ['tomato', 'cheese', 'chili']\n",
      "84\n"
     ]
    }
   ],
   "source": [
    "pizza1 = Pizza(\"family\", [\"tomato\", \"cheese\"])\n",
    "print(pizza1)\n",
    "print(pizza1.price())\n",
    "\n",
    "pizza1.addTopping(\"chili\")\n",
    "print(pizza1)\n",
    "print(pizza1.price())"
   ]
  },
  {
   "cell_type": "code",
   "execution_count": 21,
   "metadata": {},
   "outputs": [
    {
     "name": "stdout",
     "output_type": "stream",
     "text": [
      "size: normal, toppings: ['tomato', 'cheese', 'peperroni']\n",
      "65\n"
     ]
    }
   ],
   "source": [
    "pizza2 = Pizza(\"normal\", [\"tomato\", \"cheese\", \"peperroni\"])\n",
    "print(pizza2)\n",
    "print(pizza2.price())"
   ]
  },
  {
   "cell_type": "code",
   "execution_count": 91,
   "metadata": {},
   "outputs": [
    {
     "name": "stdout",
     "output_type": "stream",
     "text": [
      "normal\n",
      "['tomato', 'cheese']\n",
      "45\n"
     ]
    }
   ],
   "source": [
    "class Number1(Pizza):\n",
    "    def __init__(self):\n",
    "        self.size = \"normal\"\n",
    "        self.toppings = [\"tomato\", \"cheese\"]\n",
    "    \n",
    "    def price(self):\n",
    "        return 45\n",
    "    \n",
    "order = Number1()\n",
    "print(order.size)\n",
    "print(order.toppings)\n",
    "print(order.price())\n",
    "        "
   ]
  },
  {
   "cell_type": "code",
   "execution_count": 95,
   "metadata": {},
   "outputs": [
    {
     "name": "stdout",
     "output_type": "stream",
     "text": [
      "family\n",
      "['tomato', 'cheese', 'kebab']\n",
      "74\n"
     ]
    }
   ],
   "source": [
    "class FamilyOffer(Pizza):\n",
    "    def __init__(self, toppings):\n",
    "        self.size = \"family\"\n",
    "        self.toppings = toppings\n",
    "    \n",
    "    def price(self):\n",
    "        return 20 + 18*len(self.toppings)\n",
    "    \n",
    "order = FamilyOffer([\"tomato\", \"cheese\", \"kebab\"])\n",
    "print(order.size)\n",
    "print(order.toppings)\n",
    "print(order.price())"
   ]
  },
  {
   "cell_type": "markdown",
   "metadata": {},
   "source": [
    "For Number1, the role of inheritance is to have a premade object of type Pizza. For FamilyOffer, the role of inheritance is also to have the premade type Pizza, but it can also take a list of toppings with it that also influences the price of the FamilyOffer."
   ]
  },
  {
   "cell_type": "code",
   "execution_count": null,
   "metadata": {},
   "outputs": [],
   "source": []
  }
 ],
 "metadata": {
  "kernelspec": {
   "display_name": "base",
   "language": "python",
   "name": "python3"
  },
  "language_info": {
   "codemirror_mode": {
    "name": "ipython",
    "version": 3
   },
   "file_extension": ".py",
   "mimetype": "text/x-python",
   "name": "python",
   "nbconvert_exporter": "python",
   "pygments_lexer": "ipython3",
   "version": "3.12.3"
  }
 },
 "nbformat": 4,
 "nbformat_minor": 2
}
